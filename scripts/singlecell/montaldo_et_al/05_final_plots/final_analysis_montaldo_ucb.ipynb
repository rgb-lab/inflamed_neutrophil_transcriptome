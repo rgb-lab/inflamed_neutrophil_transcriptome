{
 "cells": [
  {
   "cell_type": "code",
   "execution_count": null,
   "id": "11ab7247-33cd-4cf2-8342-3e35aaf466f9",
   "metadata": {
    "tags": []
   },
   "outputs": [],
   "source": [
    "import scanpy as sc\n",
    "import pandas as pd\n",
    "import numpy as np\n",
    "from matplotlib import pyplot as plt\n",
    "import seaborn as sns\n",
    "from statannotations.Annotator import Annotator, PValueFormat\n",
    "\n",
    "import os\n",
    "\n",
    "os.environ['R_HOME'] = '/gpfs/bwfor/work/ws/hd_fu399-conda/conda/envs/python_R/lib/R/'\n",
    "import anndata2ri\n",
    "import logging\n",
    "\n",
    "import rpy2.rinterface_lib.callbacks as rcb\n",
    "import rpy2.robjects as ro\n",
    "\n",
    "rcb.logger.setLevel(logging.ERROR)\n",
    "ro.pandas2ri.activate()\n",
    "anndata2ri.activate()\n",
    "\n",
    "%load_ext rpy2.ipython\n",
    "\n",
    "sns.set_style(\"whitegrid\", {'axes.grid' : False})"
   ]
  },
  {
   "cell_type": "code",
   "execution_count": null,
   "id": "ae9cb862-073d-40b5-aa2c-35e3efcdec1e",
   "metadata": {
    "tags": []
   },
   "outputs": [],
   "source": [
    "%%R\n",
    "library(lme4)"
   ]
  },
  {
   "cell_type": "code",
   "execution_count": null,
   "id": "627dcdf6-c861-467d-b61f-05c8d307c133",
   "metadata": {
    "tags": []
   },
   "outputs": [],
   "source": [
    "fisher_genes_up = pd.read_csv(\"../../../fisher_up_genes.csv\", index_col = 0)[\"symbol\"].to_list()\n",
    "fisher_genes_down = pd.read_csv(\"../../../fisher_dn_genes.csv\", index_col = 0)[\"symbol\"].to_list()"
   ]
  },
  {
   "cell_type": "code",
   "execution_count": null,
   "id": "1c2679d9-f31c-40bc-81b5-533417f08138",
   "metadata": {},
   "outputs": [],
   "source": [
    "dataset = sc.read(\"../../int_data/dataset_ucb_qc_normalized.h5ad\")\n",
    "dataset = dataset[dataset.obs[\"cell_type\"] == \"Neutrophils\",:]\n",
    "\n",
    "organ_map = {'umbilical cord blood': \"umb_cord_blood\"}\n",
    "condition_map = {'E. coli challenge (24h)': \"Ecoli\", 'Steady state': \"steady_state\"}\n",
    "dataset.obs[\"condition\"] = dataset.obs[\"stimulus\"]\n",
    "dataset.obs[\"organ\"] = dataset.obs[\"organism_part\"].map(organ_map)"
   ]
  },
  {
   "cell_type": "code",
   "execution_count": null,
   "id": "082cf672-4aa2-430e-a1bb-d285f2b8a174",
   "metadata": {
    "tags": []
   },
   "outputs": [],
   "source": [
    "dataset"
   ]
  },
  {
   "cell_type": "code",
   "execution_count": null,
   "id": "61101fe5-2815-45fc-b49f-0a5d916e574b",
   "metadata": {
    "tags": []
   },
   "outputs": [],
   "source": [
    "dataset.obs[\"condition\"].value_counts()"
   ]
  },
  {
   "cell_type": "code",
   "execution_count": null,
   "id": "158a7646-5865-4718-9ca9-4a326fd0a159",
   "metadata": {
    "tags": []
   },
   "outputs": [],
   "source": [
    "dataset.obs[\"batch\"].unique()"
   ]
  },
  {
   "cell_type": "code",
   "execution_count": null,
   "id": "80b3c95f-b25a-4e20-9cf9-d9dc5184e987",
   "metadata": {
    "tags": []
   },
   "outputs": [],
   "source": [
    "scanpy_integrated = pd.read_csv(f\"../05_gene_set_scoring/gene_set_scores_integrated_scanpy_scanpy_ucb.csv\", index_col = 0)\n",
    "scanpy_integrated_r = pd.read_csv(f\"../05_gene_set_scoring/gene_set_scores_integrated_scanpy_R_ucb.csv\", index_col = 0)\n",
    "\n",
    "scanpy_raw = pd.read_csv(f\"../05_gene_set_scoring/gene_set_scores_raw_scanpy_ucb.csv\", index_col = 0)\n",
    "scanpy_raw_r = pd.read_csv(f\"../05_gene_set_scoring/gene_set_scores_raw_R_ucb.csv\", index_col = 0)\n",
    "\n",
    "scanpy_scaled = pd.read_csv(f\"../05_gene_set_scoring/gene_set_scores_scaled_scanpy_ucb.csv\", index_col = 0)\n",
    "scanpy_scaled_r = pd.read_csv(f\"../05_gene_set_scoring/gene_set_scores_scaled_R_ucb.csv\", index_col = 0)\n",
    "\n",
    "seurat_integrated = pd.read_csv(f\"../05_gene_set_scoring/gene_set_scores_integrated_seurat_R_ucb.csv\", index_col = 0)\n",
    "\n",
    "scgsea = pd.read_csv(f\"../05_gene_set_scoring/ucb_metadata_scgsea.csv\", index_col = 0)\n",
    "\n",
    "df = pd.DataFrame(index = scanpy_integrated.index, data = {\"scanpy_int_scanpy\": scanpy_integrated[\"fisher_up\"],\n",
    "                                                           \"seurat_int_scanpy\": scanpy_integrated_r[\"Seurat_fisher_up1\"],\n",
    "                                                           \"ucell_int_scanpy\": scanpy_integrated_r[\"UCell_fisher_up_UCell\"],\n",
    "                                                           \n",
    "                                                           \"sc_raw\": scanpy_raw[\"fisher_up\"],\n",
    "                                                           \"sc_scaled\": scanpy_scaled[\"fisher_up\"],\n",
    "                                                           \n",
    "                                                           \"seurat_raw\": scanpy_raw_r[\"Seurat_fisher_up1\"],\n",
    "                                                           \"seurat_scaled\": scanpy_scaled_r[\"Seurat_fisher_up1\"],\n",
    "                                                           \"ucell_raw\": scanpy_raw_r[\"UCell_fisher_up_UCell\"],\n",
    "                                                           \"ucell_scaled\": scanpy_scaled_r[\"UCell_fisher_up_UCell\"],\n",
    "                                                           \n",
    "                                                           \"seurat_int_seurat\": seurat_integrated[\"Seurat_fisher_up1\"],\n",
    "                                                           \"ucell_int_seurat\": seurat_integrated[\"UCell_fisher_up_UCell\"],\n",
    "                                                           \"organ\": scanpy_integrated[\"organ\"],\n",
    "                                                           \"condition\": scanpy_integrated[\"condition\"],\n",
    "                                                           \"batch\" : scanpy_integrated[\"batch\"],\n",
    "                                                           \"scGSEA\": scgsea[\"scgsea\"]})\n",
    "\n",
    "df.to_csv(f\"gene_set_scores_ucb_total.csv\")"
   ]
  },
  {
   "cell_type": "code",
   "execution_count": null,
   "id": "2d6001bd-7737-437e-938c-6accf5745e81",
   "metadata": {
    "tags": []
   },
   "outputs": [],
   "source": [
    "%%R -i df -o pvalue_gcsf -o pvalue_IFNB -o pvalue_IFNG\n",
    "\n",
    "gene_set_scores <- df\n",
    "gene_set_scores$condition <- factor(gene_set_scores$condition, levels = c(\"none\", \"G-CSF\", \"IFN-beta\", \"IFN-gamma\"))\n",
    "gene_set_scores$batch <- factor(gene_set_scores$batch)\n",
    "gene_set_scores <- gene_set_scores[gene_set_scores$condition %in% c(\"none\", \"G-CSF\"),]\n",
    "\n",
    "lm0 <- lmerTest::lmer(sc_raw ~ (1|batch), data = gene_set_scores, REML = FALSE)\n",
    "lm1 <- lmerTest::lmer(sc_raw ~ condition + (1|batch), data = gene_set_scores, REML = FALSE)\n",
    "\n",
    "test <- anova(lm0, lm1)\n",
    "pvalue_gcsf <- test$`Pr(>Chisq)`[2]\n",
    "\n",
    "gene_set_scores <- df\n",
    "gene_set_scores$condition <- factor(gene_set_scores$condition, levels = c(\"none\", \"G-CSF\", \"IFN-beta\", \"IFN-gamma\"))\n",
    "gene_set_scores$batch <- factor(gene_set_scores$batch)\n",
    "gene_set_scores <- gene_set_scores[gene_set_scores$condition %in% c(\"none\", \"IFN-beta\"),]\n",
    "\n",
    "lm0 <- lmerTest::lmer(sc_raw ~ (1|batch), data = gene_set_scores, REML = FALSE)\n",
    "lm1 <- lmerTest::lmer(sc_raw ~ condition + (1|batch), data = gene_set_scores, REML = FALSE)\n",
    "\n",
    "test <- anova(lm0, lm1)\n",
    "pvalue_IFNB <- test$`Pr(>Chisq)`[2]\n",
    "\n",
    "gene_set_scores <- df\n",
    "gene_set_scores$condition <- factor(gene_set_scores$condition, levels = c(\"none\", \"G-CSF\", \"IFN-beta\", \"IFN-gamma\"))\n",
    "gene_set_scores$batch <- factor(gene_set_scores$batch)\n",
    "gene_set_scores <- gene_set_scores[gene_set_scores$condition %in% c(\"none\", \"IFN-gamma\"),]\n",
    "\n",
    "lm0 <- lmerTest::lmer(sc_raw ~ (1|batch), data = gene_set_scores, REML = FALSE)\n",
    "lm1 <- lmerTest::lmer(sc_raw ~ condition + (1|batch), data = gene_set_scores, REML = FALSE)\n",
    "\n",
    "test <- anova(lm0, lm1)\n",
    "pvalue_IFNG <- test$`Pr(>Chisq)`[2]\n"
   ]
  },
  {
   "cell_type": "code",
   "execution_count": null,
   "id": "cf7168c4-13d4-48c0-907c-6407aa77177c",
   "metadata": {
    "tags": []
   },
   "outputs": [],
   "source": [
    "pairs = [\n",
    "    (\"none\", \"G-CSF\"),\n",
    "    (\"none\", \"IFN-beta\"),\n",
    "    (\"none\", \"IFN-gamma\")\n",
    "]\n",
    "\n",
    "p_values = [pvalue_gcsf[0], pvalue_IFNB[0], pvalue_IFNG[0]]\n",
    "\n",
    "fig, ax = plt.subplots(ncols = 1, nrows = 1, figsize = (4,4))\n",
    "\n",
    "ax0_parameters = {\n",
    "    'data':    df,\n",
    "    'x':       'condition',\n",
    "    'y':       'sc_raw',\n",
    "    'ax': ax\n",
    "}\n",
    "\n",
    "sns.boxplot(order = [\"none\", \"G-CSF\", \"IFN-beta\", \"IFN-gamma\"],\n",
    "            whis = (0,100),\n",
    "            **ax0_parameters)\n",
    "\n",
    "annotator = Annotator(pairs = pairs,\n",
    "                      **ax0_parameters)\n",
    "annotator.configure(loc = \"inside\", line_offset = \"asd\")\n",
    "annotator.set_pvalues(p_values)\n",
    "\n",
    "annotator.annotate()\n",
    "\n",
    "ax.set_title(\"Module Score\")\n",
    "ax.set_ylabel(\"score\")\n",
    "ax.set_xlabel(\"\")\n",
    "ax.set_xticklabels(ax.get_xticklabels(), rotation = 45, ha = \"right\")\n",
    "\n",
    "plt.tight_layout()\n",
    "plt.savefig(\"ucb_module_scores.pdf\", dpi = 300, bbox_inches = \"tight\")\n",
    "plt.show()"
   ]
  },
  {
   "cell_type": "code",
   "execution_count": null,
   "id": "c2bc3666-afeb-4f92-8785-54d9b3fccda2",
   "metadata": {
    "tags": []
   },
   "outputs": [],
   "source": [
    "dataset.X = dataset.layers[\"log1pPF_normalization\"]\n"
   ]
  },
  {
   "cell_type": "code",
   "execution_count": null,
   "id": "c0ef4602-39d4-4a67-8135-d1d18ce26475",
   "metadata": {},
   "outputs": [],
   "source": [
    "hvg = dataset.copy()\n",
    "sc.pp.highly_variable_genes(hvg, n_top_genes = 2000)\n",
    "hvg = dataset[:, hvg.var.highly_variable].copy()"
   ]
  },
  {
   "cell_type": "code",
   "execution_count": null,
   "id": "ee80a64e-ce09-4558-be5e-2d16f05737e5",
   "metadata": {
    "tags": []
   },
   "outputs": [],
   "source": [
    "hvg.obs[\"module_score\"] = df[\"sc_raw\"].clip(lower = np.quantile(df[\"sc_raw\"], 0.05),\n",
    "                                            upper = np.quantile(df[\"sc_raw\"], 0.95))\n",
    "hvg.X = hvg.layers[\"log1pPF_normalization\"]\n",
    "\n",
    "sc.pp.pca(hvg)\n",
    "sc.pp.neighbors(hvg)\n",
    "sc.tl.umap(hvg)"
   ]
  },
  {
   "cell_type": "code",
   "execution_count": null,
   "id": "acfd33e1-ec18-4956-b7ad-43f2211ceb74",
   "metadata": {
    "tags": []
   },
   "outputs": [],
   "source": [
    "sc.set_figure_params(vector_friendly=True, dpi_save=300)\n",
    "\n",
    "fig, ax = plt.subplots(ncols = 1, nrows = 2, figsize = (4,5.5))\n",
    "\n",
    "sc.pl.umap(hvg,\n",
    "           color = \"stimulus.1\",\n",
    "           ax = ax[0],\n",
    "           show = False)\n",
    "sc.pl.umap(hvg,\n",
    "           color = \"module_score\",\n",
    "           colorbar_loc=None,\n",
    "           cmap = \"viridis\",\n",
    "           ax = ax[1],\n",
    "           show = False)\n",
    "\n",
    "ax[0].set_title(\"Experimental Condition\")\n",
    "ax[1].set_title(\"Module Score\\nCore Program\")\n",
    "plt.tight_layout()\n",
    "plt.savefig(\"ucb_umap.pdf\", dpi = 300, bbox_inches = \"tight\")\n",
    "plt.show()"
   ]
  },
  {
   "cell_type": "code",
   "execution_count": null,
   "id": "09a52f80-fe15-4f35-9d1d-4e277ba8f06c",
   "metadata": {
    "tags": []
   },
   "outputs": [],
   "source": [
    "df[\"sc_raw\"].clip(lower = np.quantile(df[\"sc_raw\"], 0.05),\n",
    "                                      upper = np.quantile(df[\"sc_raw\"], 0.95))"
   ]
  },
  {
   "cell_type": "code",
   "execution_count": null,
   "id": "a40a785d-fe50-4eb9-a993-3109925914ef",
   "metadata": {
    "tags": []
   },
   "outputs": [],
   "source": [
    "umap_df = pd.DataFrame(hvg.obsm[\"X_umap\"], columns = [\"UMAP1\", \"UMAP2\"])\n",
    "umap_df[\"sc_raw\"] = df[\"sc_raw\"].clip(lower = np.quantile(df[\"sc_raw\"], 0.05),\n",
    "                                      upper = np.quantile(df[\"sc_raw\"], 0.95)).to_list()\n",
    "umap_df[\"condition\"] = hvg.obs[\"stimulus.1\"].to_list()\n",
    "umap_df[\"inflammation\"] = umap_df[\"condition\"].map({\"none\": \"control\", \"G-CSF\": \"inflamed\", \"IFN-beta\": \"inflamed\", \"IFN-gamma\": \"inflamed\"})\n",
    "umap_df.to_csv(\"ucb_umap.csv\")"
   ]
  },
  {
   "cell_type": "code",
   "execution_count": null,
   "id": "e2b9f57a-fa9e-4275-9e97-d2692ced8470",
   "metadata": {
    "tags": []
   },
   "outputs": [],
   "source": [
    "fisher_set = dataset[:, dataset.var_names.isin(fisher_genes_up)].copy()"
   ]
  },
  {
   "cell_type": "code",
   "execution_count": null,
   "id": "b11aca09-c2da-43a5-9365-c0d3cf27404f",
   "metadata": {
    "tags": []
   },
   "outputs": [],
   "source": [
    "fisher_set.X = fisher_set.layers[\"log1pPF_normalization\"]\n",
    "sc.pp.scale(fisher_set, max_value = 10)\n",
    "\n",
    "fisher_set.layers[\"scaled\"] = fisher_set.X\n",
    "df = fisher_set.to_df(layer = \"scaled\")\n",
    "df = df.clip(lower = np.quantile(df, 0.1), upper = np.quantile(df, 0.9))\n",
    "fisher_set.layers[\"scaled_clipped\"] = df.values\n",
    "\n",
    "df = fisher_set.to_df(layer = \"log1pPF_normalization\")\n",
    "df = df.clip(lower = np.quantile(df, 0.10), upper = np.quantile(df, 0.90))\n",
    "fisher_set.layers[\"quantiled\"] = df.values\n",
    "\n",
    "from sklearn.preprocessing import StandardScaler\n",
    "\n",
    "df = fisher_set.to_df(layer = \"log1pPF_normalization\")\n",
    "\n",
    "transformed = StandardScaler().fit_transform(df.values)\n",
    "\n",
    "fisher_set.layers[\"standard_scaled\"] = transformed\n",
    "\n",
    "df = fisher_set.to_df(layer = \"standard_scaled\")\n",
    "df = df.clip(lower = np.quantile(df, 0.1), upper = np.quantile(df, 0.9))\n",
    "fisher_set.layers[\"standard_scaled_clipped\"] = df.values\n",
    "\n",
    "df = fisher_set.to_df(layer = \"log1pPF_normalization\")\n",
    "genes_to_plot = df[df.sum().sort_values(ascending=False).index].columns.to_list()"
   ]
  },
  {
   "cell_type": "code",
   "execution_count": null,
   "id": "5e9ed747-810b-4e29-bdd3-59a649bf8c92",
   "metadata": {
    "tags": []
   },
   "outputs": [],
   "source": [
    "ax_dict = sc.pl.heatmap(fisher_set,\n",
    "                          genes_to_plot,\n",
    "                          groupby='stimulus.1',\n",
    "                          layer = \"scaled\",\n",
    "                          standard_scale = \"var\",\n",
    "                          cmap = \"YlOrBr\",\n",
    "                          show = False,\n",
    "                       figsize = (4,4),\n",
    "                       )\n",
    "\n",
    "ax_dict[\"groupby_ax\"].set_ylabel(\"condition\")\n",
    "\n",
    "plt.savefig(\"ucb_single_cell_heatmap.pdf\", dpi = 300, bbox_inches = \"tight\")\n",
    "plt.show()"
   ]
  },
  {
   "cell_type": "code",
   "execution_count": null,
   "id": "d3932f1c-7564-445b-b6f0-5accd497c703",
   "metadata": {
    "tags": []
   },
   "outputs": [],
   "source": [
    "fisher_set.X = fisher_set.layers[\"log1pPF_normalization\"]\n",
    "fisher_set.obs[\"condition_2\"] = fisher_set.obs[\"stimulus.1\"].map({\"none\": \"not_inflamed\", \"G-CSF\": \"inflamed\", \"IFN-beta\": \"inflamed\", \"IFN-gamma\": \"inflamed\"})\n",
    "sc.tl.rank_genes_groups(fisher_set, 'condition_2', method='wilcoxon', key_added = \"wilcoxon\")\n",
    "goi = sc.get.rank_genes_groups_df(fisher_set, group = \"not_inflamed\", key = \"wilcoxon\").sort_values(\"pvals_adj\")[0:30][\"names\"].to_list()"
   ]
  },
  {
   "cell_type": "code",
   "execution_count": null,
   "id": "cd7e137f-af17-41db-8843-e04544090c9a",
   "metadata": {
    "tags": []
   },
   "outputs": [],
   "source": [
    "def evenly_distribute_genes_of_interest(labels, positions_idx):\n",
    "    gene_list = fisher_set.var_names.to_list()\n",
    "    spacing = int(np.floor(len(gene_list) / len(positions_idx))) + 1\n",
    "    new_gene_list = []\n",
    "    for gene in labels:\n",
    "        gene_list.pop(gene_list.index(gene))\n",
    "    label_counter = 0\n",
    "    gene_counter = 0\n",
    "    for i, _ in enumerate(gene_list + labels):\n",
    "        if i%spacing == 0 and label_counter < len(labels):\n",
    "            new_gene_list.append(labels[label_counter])\n",
    "            label_counter += 1\n",
    "        elif gene_counter < len(gene_list):\n",
    "            new_gene_list.append(gene_list[gene_counter])\n",
    "            gene_counter += 1\n",
    "    return new_gene_list\n",
    "\n",
    "labels = []\n",
    "positions = []\n",
    "positions_idx = []\n",
    "\n",
    "for i, label in enumerate(fisher_set.var_names):\n",
    "    if label in goi:\n",
    "        labels.append(label),\n",
    "        positions.append(tuple([i,i]))\n",
    "        positions_idx.append(i)\n",
    "        \n",
    "x = evenly_distribute_genes_of_interest(labels, positions_idx)"
   ]
  },
  {
   "cell_type": "code",
   "execution_count": null,
   "id": "37181652-b89e-414b-929f-e6767c1a5d0b",
   "metadata": {
    "tags": []
   },
   "outputs": [],
   "source": [
    "fig, ax = plt.subplots(ncols = 1, nrows = 1, figsize = (10,5))\n",
    "ax_dict = sc.pl.matrixplot(fisher_set,\n",
    "                           x,\n",
    "                           groupby='stimulus.1',\n",
    "                         layer = \"scaled\",\n",
    "                         cmap = \"RdYlBu_r\",\n",
    "                         #standard_scale = \"var\",\n",
    "                         categories_order = [\"none\", \"G-CSF\", \"IFN-beta\", \"IFN-gamma\"],\n",
    "                         ax = ax,\n",
    "                         show = False,\n",
    "                         colorbar_title = \"Expr\")\n",
    "\n",
    "ax_dict[\"mainplot_ax\"].set_xticks([i for i, gene in enumerate(x) if gene in goi])\n",
    "ax_dict[\"mainplot_ax\"].set_xticklabels([gene for gene in x if gene in goi], ha = \"right\", rotation = 45)\n",
    "ax_dict[\"color_legend_ax\"].remove()\n",
    "\n",
    "plt.savefig(\"ucb_heatmap_fisher.pdf\", dpi = 300, bbox_inches = \"tight\")\n",
    "plt.show()"
   ]
  },
  {
   "cell_type": "code",
   "execution_count": null,
   "id": "d839d464-88f1-412b-babc-e4a9ad0bcd84",
   "metadata": {
    "tags": []
   },
   "outputs": [],
   "source": [
    "raw_data = fisher_set.to_df(layer = \"scaled\")\n",
    "raw_data[fisher_set.obs.columns] = fisher_set.obs"
   ]
  },
  {
   "cell_type": "code",
   "execution_count": null,
   "id": "ef331c81-c33b-4495-b6dd-a51bca87bf6f",
   "metadata": {
    "tags": []
   },
   "outputs": [],
   "source": [
    "raw_data.to_csv(\"ucb_raw_data_heatmap.csv\")"
   ]
  },
  {
   "cell_type": "code",
   "execution_count": null,
   "id": "954146a2-2775-4de1-9a12-3e3126502522",
   "metadata": {},
   "outputs": [],
   "source": [
    "###sort by expression\n",
    "df = fisher_set.to_df(layer = \"log1pPF_normalization\")\n",
    "\n",
    "\n",
    "genes_to_plot = df[df.sum().sort_values(ascending=False).index].columns.to_list()\n",
    "\n",
    "fig, ax = plt.subplots(ncols = 1, nrows = 4, figsize = (15,15))\n",
    "\n",
    "ax_dict = sc.pl.dotplot(fisher_set, genes_to_plot[0:50],\n",
    "              groupby='stimulus.1',\n",
    "              layer = \"log1pPF_normalization\",\n",
    "              dendrogram=False,\n",
    "              dot_max=0.3,\n",
    "              dot_min=0.01,\n",
    "              ax = ax[0],\n",
    "              show = False,\n",
    "              standard_scale='var',\n",
    "              categories_order = [\"none\", \"G-CSF\", \"IFN-beta\", \"IFN-gamma\"],\n",
    "              cmap = \"RdYlBu_r\",\n",
    "              mean_only_expressed = False)\n",
    "\n",
    "ax_dict[\"size_legend_ax\"].remove()\n",
    "ax_dict[\"color_legend_ax\"].remove()\n",
    "ax_dict[\"mainplot_ax\"].set_xticklabels(ax_dict[\"mainplot_ax\"].get_xticklabels(), ha = \"right\", rotation = 45)\n",
    "\n",
    "ax_dict = sc.pl.dotplot(fisher_set, genes_to_plot[51:100],\n",
    "              groupby='stimulus.1',\n",
    "              layer = \"log1pPF_normalization\",\n",
    "              dendrogram=False,\n",
    "              dot_max=0.3,\n",
    "              dot_min=0.01,\n",
    "              ax = ax[1],\n",
    "              show = False,\n",
    "              standard_scale='var',\n",
    "              categories_order = [\"none\", \"G-CSF\", \"IFN-beta\", \"IFN-gamma\"],\n",
    "              cmap = \"RdYlBu_r\",\n",
    "              mean_only_expressed = False)\n",
    "ax_dict[\"size_legend_ax\"].remove()\n",
    "ax_dict[\"color_legend_ax\"].remove()\n",
    "ax_dict[\"mainplot_ax\"].set_xticklabels(ax_dict[\"mainplot_ax\"].get_xticklabels(), ha = \"right\", rotation = 45)\n",
    "\n",
    "ax_dict = sc.pl.dotplot(fisher_set, genes_to_plot[101:150],\n",
    "              groupby='stimulus.1',\n",
    "              layer = \"log1pPF_normalization\",\n",
    "              dendrogram=False,\n",
    "              dot_max=0.3,\n",
    "              dot_min=0.01,\n",
    "              ax = ax[2],\n",
    "              show = False,\n",
    "              standard_scale='var',\n",
    "              categories_order = [\"none\", \"G-CSF\", \"IFN-beta\", \"IFN-gamma\"],\n",
    "              cmap = \"RdYlBu_r\",\n",
    "              mean_only_expressed = False)\n",
    "ax_dict[\"size_legend_ax\"].remove()\n",
    "ax_dict[\"color_legend_ax\"].remove()\n",
    "ax_dict[\"mainplot_ax\"].set_xticklabels(ax_dict[\"mainplot_ax\"].get_xticklabels(), ha = \"right\", rotation = 45)\n",
    "\n",
    "ax_dict = sc.pl.dotplot(fisher_set, genes_to_plot[151:],\n",
    "              groupby='stimulus.1',\n",
    "              layer = \"log1pPF_normalization\",\n",
    "              dendrogram=False,\n",
    "              dot_max=0.3,\n",
    "              dot_min=0.01,\n",
    "              ax = ax[3],\n",
    "              show = False,\n",
    "              standard_scale='var',\n",
    "              categories_order = [\"none\", \"G-CSF\", \"IFN-beta\", \"IFN-gamma\"],\n",
    "              cmap = \"RdYlBu_r\",\n",
    "              mean_only_expressed = False)\n",
    "\n",
    "ax_dict[\"mainplot_ax\"].set_xticklabels(ax_dict[\"mainplot_ax\"].get_xticklabels(), ha = \"right\", rotation = 45)\n",
    "\n",
    "plt.subplots_adjust(bottom = 0, top = 0.6)\n",
    "#plt.tight_layout(pad=0)\n",
    "plt.savefig(\"ucb_dotplot.pdf\", dpi = 300, bbox_inches = \"tight\")\n",
    "plt.show()"
   ]
  },
  {
   "cell_type": "code",
   "execution_count": null,
   "id": "5d47c292-174f-479b-8601-7279b3197b1a",
   "metadata": {},
   "outputs": [],
   "source": [
    "dataset = sc.read(\"../../int_data/dataset_ucb_qc_with_velocity.h5ad\")\n",
    "organ_map = {'umbilical cord blood': \"umb_cord_blood\"}\n",
    "condition_map = {'E. coli challenge (24h)': \"Ecoli\", 'Steady state': \"steady_state\"}\n",
    "dataset.obs[\"condition\"] = dataset.obs[\"stimulus\"]\n",
    "dataset.obs[\"organ\"] = dataset.obs[\"organism_part\"].map(organ_map)\n",
    "fisher_set = dataset[:, dataset.var_names.isin(fisher_genes_up)].copy()"
   ]
  },
  {
   "cell_type": "code",
   "execution_count": null,
   "id": "cdf8bef3-bcf4-4d80-ae04-73f8f5b5086d",
   "metadata": {
    "tags": []
   },
   "outputs": [],
   "source": [
    "velocity_set = fisher_set[:,~np.all(np.isnan(fisher_set.layers[\"velocity\"]), axis=0)].copy()"
   ]
  },
  {
   "cell_type": "code",
   "execution_count": null,
   "id": "f661c00b-6a3f-4e1f-a666-37801243478a",
   "metadata": {
    "tags": []
   },
   "outputs": [],
   "source": [
    "df = velocity_set.to_df(layer = \"velocity\").dropna(axis = 1)\n",
    "df = df.clip(lower = np.quantile(df, 0.1),\n",
    "             upper = np.quantile(df, 0.9))\n",
    "df[df.columns] = StandardScaler().fit_transform(df.values)\n",
    "df[\"condition\"] = velocity_set.obs[\"stimulus.1\"].to_list()\n",
    "\n",
    "\n",
    "fig, ax = plt.subplots(ncols = 1, nrows = 1, figsize = (18,5))\n",
    "ax_dict = sc.pl.matrixplot(velocity_set,\n",
    "                           df.groupby(\"condition\").mean().sort_values(by = 'none', axis = 1).columns, \n",
    "                           groupby='stimulus.1',\n",
    "                         layer = \"velocity\",\n",
    "                         cmap = \"RdYlBu_r\",\n",
    "                         standard_scale = \"var\",\n",
    "                         categories_order = [\"none\", \"G-CSF\", \"IFN-beta\", \"IFN-gamma\"],\n",
    "                         ax = ax,\n",
    "                         show = False,\n",
    "                         colorbar_title = \"Expr\")\n",
    "\n",
    "#ax_dict[\"mainplot_ax\"].set_xticks([i for i, gene in enumerate(x) if gene in goi])\n",
    "#ax_dict[\"mainplot_ax\"].set_xticklabels([gene for gene in x if gene in goi], ha = \"right\", rotation = 45)\n",
    "#ax_dict[\"color_legend_ax\"].remove()\n",
    "\n",
    "plt.savefig(\"ucb_heatmap_fisher_velocity.pdf\", dpi = 300, bbox_inches = \"tight\")\n",
    "plt.show()"
   ]
  },
  {
   "cell_type": "code",
   "execution_count": null,
   "id": "cfa2b738-626a-466c-8ebe-72a379746a65",
   "metadata": {
    "tags": []
   },
   "outputs": [],
   "source": [
    "df = velocity_set.to_df(layer = \"velocity\").dropna(axis = 1)\n",
    "df = df.clip(lower = np.quantile(df, 0.1),\n",
    "             upper = np.quantile(df, 0.9))\n",
    "df[df.columns] = StandardScaler().fit_transform(df.values)\n",
    "df[\"condition\"] = velocity_set.obs[\"stimulus.1\"].to_list()\n",
    "\n",
    "plotz = df.groupby(\"condition\").mean().reset_index().melt(id_vars = \"condition\")\n",
    "plotz[\"batch\"] = plotz[\"condition\"].map({\"none\": 0, \"G-CSF\": 1, \"IFN-beta\": 2, \"IFN-gamma\": 3})\n",
    "plotz.to_csv(f\"velocity_grouped_ucb.csv\")"
   ]
  },
  {
   "cell_type": "code",
   "execution_count": null,
   "id": "f1399bc5-89dd-4cc0-be2b-a32a5a8e4c8c",
   "metadata": {
    "tags": []
   },
   "outputs": [],
   "source": [
    "%%R -i plotz -o pvalue_gcsf -o pvalue_IFNB -o pvalue_IFNG\n",
    "\n",
    "gene_set_scores <- plotz\n",
    "gene_set_scores$condition <- factor(gene_set_scores$condition, levels = c(\"none\", \"G-CSF\", \"IFN-beta\", \"IFN-gamma\"))\n",
    "gene_set_scores$batch <- factor(gene_set_scores$batch)\n",
    "gene_set_scores <- gene_set_scores[gene_set_scores$condition %in% c(\"none\", \"G-CSF\"),]\n",
    "\n",
    "lm0 <- lmerTest::lmer(value ~ (1|batch), data = gene_set_scores, REML = FALSE)\n",
    "lm1 <- lmerTest::lmer(value ~ condition + (1|batch), data = gene_set_scores, REML = FALSE)\n",
    "\n",
    "test <- anova(lm0, lm1)\n",
    "pvalue_gcsf <- test$`Pr(>Chisq)`[2]\n",
    "\n",
    "gene_set_scores <- plotz\n",
    "gene_set_scores$condition <- factor(gene_set_scores$condition, levels = c(\"none\", \"G-CSF\", \"IFN-beta\", \"IFN-gamma\"))\n",
    "gene_set_scores$batch <- factor(gene_set_scores$batch)\n",
    "gene_set_scores <- gene_set_scores[gene_set_scores$condition %in% c(\"none\", \"IFN-beta\"),]\n",
    "\n",
    "lm0 <- lmerTest::lmer(value ~ (1|batch), data = gene_set_scores, REML = FALSE)\n",
    "lm1 <- lmerTest::lmer(value ~ condition + (1|batch), data = gene_set_scores, REML = FALSE)\n",
    "\n",
    "test <- anova(lm0, lm1)\n",
    "pvalue_IFNB <- test$`Pr(>Chisq)`[2]\n",
    "\n",
    "gene_set_scores <- plotz\n",
    "gene_set_scores$condition <- factor(gene_set_scores$condition, levels = c(\"none\", \"G-CSF\", \"IFN-beta\", \"IFN-gamma\"))\n",
    "gene_set_scores$batch <- factor(gene_set_scores$batch)\n",
    "gene_set_scores <- gene_set_scores[gene_set_scores$condition %in% c(\"none\", \"IFN-gamma\"),]\n",
    "\n",
    "lm0 <- lmerTest::lmer(value ~ (1|batch), data = gene_set_scores, REML = FALSE)\n",
    "lm1 <- lmerTest::lmer(value ~ condition + (1|batch), data = gene_set_scores, REML = FALSE)\n",
    "\n",
    "test <- anova(lm0, lm1)\n",
    "pvalue_IFNG <- test$`Pr(>Chisq)`[2]"
   ]
  },
  {
   "cell_type": "code",
   "execution_count": null,
   "id": "f84378dd-f125-41d0-9a5d-dbb286c157b3",
   "metadata": {
    "tags": []
   },
   "outputs": [],
   "source": [
    "sc.set_figure_params(vector_friendly=True, dpi_save=300)\n",
    "sns.set_style({'axes.grid' : False})\n",
    "pairs = [\n",
    "    (\"none\", \"G-CSF\"),\n",
    "    (\"none\", \"IFN-beta\"),\n",
    "    (\"none\", \"IFN-gamma\")\n",
    "]\n",
    "\n",
    "p_values = [pvalue_gcsf[0], pvalue_IFNB[0], pvalue_IFNG[0]]\n",
    "\n",
    "fig, ax = plt.subplots(ncols = 1, nrows = 1, figsize = (4,4))\n",
    "\n",
    "ax0_parameters = {\n",
    "    'data':    plotz,\n",
    "    'x':       'condition',\n",
    "    'y':       'value',\n",
    "    'ax': ax,\n",
    "    'order': [\"none\", \"G-CSF\", \"IFN-beta\", \"IFN-gamma\"]\n",
    "}\n",
    "\n",
    "sns.boxplot(whis = (0,100),\n",
    "            **ax0_parameters)\n",
    "\n",
    "annotator = Annotator(pairs = pairs,\n",
    "                      **ax0_parameters)\n",
    "annotator.configure(loc = \"inside\", line_offset = \"asd\")\n",
    "annotator.set_pvalues(p_values)\n",
    "\n",
    "annotator.annotate()\n",
    "\n",
    "ax.set_title(\"Fisher Velocity\")\n",
    "ax.set_ylabel(\"velocity vector\")\n",
    "ax.set_xlabel(\"\")\n",
    "ax.set_xticklabels(ax.get_xticklabels(), rotation = 45, ha = \"right\")\n",
    "\n",
    "plt.tight_layout()\n",
    "plt.savefig(\"ucb_velocity_scores.pdf\", dpi = 300, bbox_inches = \"tight\")\n",
    "plt.show()"
   ]
  }
 ],
 "metadata": {
  "kernelspec": {
   "display_name": "py_R",
   "language": "python",
   "name": "python_r"
  },
  "language_info": {
   "codemirror_mode": {
    "name": "ipython",
    "version": 3
   },
   "file_extension": ".py",
   "mimetype": "text/x-python",
   "name": "python",
   "nbconvert_exporter": "python",
   "pygments_lexer": "ipython3",
   "version": "3.10.11"
  }
 },
 "nbformat": 4,
 "nbformat_minor": 5
}
