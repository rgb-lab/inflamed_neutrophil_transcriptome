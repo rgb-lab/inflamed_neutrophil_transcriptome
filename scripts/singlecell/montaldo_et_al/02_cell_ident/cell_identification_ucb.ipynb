{
 "cells": [
  {
   "cell_type": "code",
   "execution_count": null,
   "id": "0897f8ed-b086-4ddc-a32e-6ae638ff6d14",
   "metadata": {
    "execution": {
     "iopub.execute_input": "2023-04-23T20:17:32.336022Z",
     "iopub.status.busy": "2023-04-23T20:17:32.334813Z",
     "iopub.status.idle": "2023-04-23T20:17:41.145984Z",
     "shell.execute_reply": "2023-04-23T20:17:41.144779Z"
    },
    "papermill": {
     "duration": 8.815609,
     "end_time": "2023-04-23T20:17:41.147199",
     "exception": false,
     "start_time": "2023-04-23T20:17:32.331590",
     "status": "completed"
    },
    "tags": []
   },
   "outputs": [],
   "source": [
    "suppressMessages(library(SeuratDisk))\n",
    "suppressMessages(library(SingleR))\n",
    "suppressMessages(library(Seurat))\n",
    "suppressMessages(library(SingleCellExperiment))\n",
    "suppressMessages(library(UCell))"
   ]
  },
  {
   "cell_type": "code",
   "execution_count": null,
   "id": "a0174989-038b-4cea-adf1-6fee00a4b3d3",
   "metadata": {
    "execution": {
     "iopub.execute_input": "2023-04-23T20:17:41.171990Z",
     "iopub.status.busy": "2023-04-23T20:17:41.152636Z",
     "iopub.status.idle": "2023-04-23T20:17:46.532571Z",
     "shell.execute_reply": "2023-04-23T20:17:46.531516Z"
    },
    "papermill": {
     "duration": 5.383241,
     "end_time": "2023-04-23T20:17:46.533799",
     "exception": false,
     "start_time": "2023-04-23T20:17:41.150558",
     "status": "completed"
    },
    "tags": []
   },
   "outputs": [],
   "source": [
    "dataset <- readRDS(\"../../int_data/dataset_ucb_qc.rds\")"
   ]
  },
  {
   "cell_type": "code",
   "execution_count": null,
   "id": "9475b837-76e2-42c3-b8f5-02a71d7ce1fd",
   "metadata": {
    "execution": {
     "iopub.execute_input": "2023-04-23T20:17:46.539880Z",
     "iopub.status.busy": "2023-04-23T20:17:46.539149Z",
     "iopub.status.idle": "2023-04-23T20:17:46.862442Z",
     "shell.execute_reply": "2023-04-23T20:17:46.861426Z"
    },
    "papermill": {
     "duration": 0.326499,
     "end_time": "2023-04-23T20:17:46.863690",
     "exception": false,
     "start_time": "2023-04-23T20:17:46.537191",
     "status": "completed"
    },
    "tags": []
   },
   "outputs": [],
   "source": [
    "data <- SingleCellExperiment(assays = list(counts = dataset@assays@data[[\"soupX_counts\"]]),\n",
    "                             colData = dataset@colData)\n",
    "rownames(data) = rownames(dataset)"
   ]
  },
  {
   "cell_type": "code",
   "execution_count": null,
   "id": "863cb970-a4bc-4dfc-98bb-17297c65ce51",
   "metadata": {
    "execution": {
     "iopub.execute_input": "2023-04-23T20:17:46.867783Z",
     "iopub.status.busy": "2023-04-23T20:17:46.866936Z",
     "iopub.status.idle": "2023-04-23T20:17:48.839626Z",
     "shell.execute_reply": "2023-04-23T20:17:48.838583Z"
    },
    "papermill": {
     "duration": 1.975905,
     "end_time": "2023-04-23T20:17:48.840843",
     "exception": false,
     "start_time": "2023-04-23T20:17:46.864938",
     "status": "completed"
    },
    "tags": []
   },
   "outputs": [],
   "source": [
    "data <- as.Seurat(data, data = NULL)"
   ]
  },
  {
   "cell_type": "code",
   "execution_count": null,
   "id": "0b749876-ea5a-403c-8b0b-51afc8a633e3",
   "metadata": {
    "execution": {
     "iopub.execute_input": "2023-04-23T20:17:48.846806Z",
     "iopub.status.busy": "2023-04-23T20:17:48.846079Z",
     "iopub.status.idle": "2023-04-23T20:17:48.862508Z",
     "shell.execute_reply": "2023-04-23T20:17:48.861691Z"
    },
    "papermill": {
     "duration": 0.019345,
     "end_time": "2023-04-23T20:17:48.863488",
     "exception": false,
     "start_time": "2023-04-23T20:17:48.844143",
     "status": "completed"
    },
    "tags": []
   },
   "outputs": [],
   "source": [
    "data"
   ]
  },
  {
   "cell_type": "code",
   "execution_count": null,
   "id": "b6b29b0e-92c4-4d4f-b835-c5e9d7d59455",
   "metadata": {
    "execution": {
     "iopub.execute_input": "2023-04-23T20:17:48.867426Z",
     "iopub.status.busy": "2023-04-23T20:17:48.866735Z",
     "iopub.status.idle": "2023-04-23T20:18:48.785271Z",
     "shell.execute_reply": "2023-04-23T20:18:48.784260Z"
    },
    "papermill": {
     "duration": 59.921593,
     "end_time": "2023-04-23T20:18:48.786365",
     "exception": false,
     "start_time": "2023-04-23T20:17:48.864772",
     "status": "completed"
    },
    "tags": []
   },
   "outputs": [],
   "source": [
    "data <- NormalizeData(data)\n",
    "data <- ScaleData(data, features = row.names(data))\n",
    "data <- FindVariableFeatures(data)\n",
    "data <- RunPCA(data, verbose = F)\n",
    "data <- FindNeighbors(data, verbose = F)\n",
    "data <- FindClusters(data, verbose = F)\n",
    "data <- RunUMAP(data, dims = 1:20, verbose = F)"
   ]
  },
  {
   "cell_type": "code",
   "execution_count": null,
   "id": "40fa5cdd-01d7-4b40-90e6-0c97545b0711",
   "metadata": {
    "execution": {
     "iopub.execute_input": "2023-04-23T20:18:48.793310Z",
     "iopub.status.busy": "2023-04-23T20:18:48.792485Z",
     "iopub.status.idle": "2023-04-23T20:20:28.142279Z",
     "shell.execute_reply": "2023-04-23T20:20:28.141200Z"
    },
    "papermill": {
     "duration": 99.359188,
     "end_time": "2023-04-23T20:20:28.149177",
     "exception": false,
     "start_time": "2023-04-23T20:18:48.789989",
     "status": "completed"
    },
    "tags": []
   },
   "outputs": [],
   "source": [
    "ref1 <- celldex::BlueprintEncodeData()\n",
    "ref2 <- celldex::MonacoImmuneData()\n",
    "cell_classification <- SingleR(test = as.SingleCellExperiment(data),\n",
    "                               ref = list(BPE = ref1, MON = ref2),\n",
    "                               labels = list(ref1$label.main, ref2$label.main))\n",
    "\n",
    "data[[\"SingleR_label\"]] <- cell_classification$labels\n",
    "\n",
    "plotScoreHeatmap(cell_classification)"
   ]
  },
  {
   "cell_type": "code",
   "execution_count": null,
   "id": "6ad7cf2f-891f-4c05-b34d-e47c84bbe27b",
   "metadata": {
    "execution": {
     "iopub.execute_input": "2023-04-23T20:20:28.157236Z",
     "iopub.status.busy": "2023-04-23T20:20:28.156038Z",
     "iopub.status.idle": "2023-04-23T20:20:28.757967Z",
     "shell.execute_reply": "2023-04-23T20:20:28.757008Z"
    },
    "papermill": {
     "duration": 0.60706,
     "end_time": "2023-04-23T20:20:28.759249",
     "exception": false,
     "start_time": "2023-04-23T20:20:28.152189",
     "status": "completed"
    },
    "tags": []
   },
   "outputs": [],
   "source": [
    "write.csv(data@meta.data, \"dataset_ucb_metadata.csv\")"
   ]
  }
 ],
 "metadata": {
  "kernelspec": {
   "display_name": "R 4.2",
   "language": "R",
   "name": "ir42"
  },
  "language_info": {
   "codemirror_mode": "r",
   "file_extension": ".r",
   "mimetype": "text/x-r-source",
   "name": "R",
   "pygments_lexer": "r",
   "version": "4.2.2"
  },
  "papermill": {
   "default_parameters": {},
   "duration": 178.033965,
   "end_time": "2023-04-23T20:20:28.878204",
   "environment_variables": {},
   "exception": null,
   "input_path": "cell_identification_ucb.ipynb",
   "output_path": "cell_identification_ucb.ipynb",
   "parameters": {},
   "start_time": "2023-04-23T20:17:30.844239",
   "version": "2.3.4"
  }
 },
 "nbformat": 4,
 "nbformat_minor": 5
}
