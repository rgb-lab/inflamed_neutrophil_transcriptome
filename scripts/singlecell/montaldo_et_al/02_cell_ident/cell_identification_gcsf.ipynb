{
 "cells": [
  {
   "cell_type": "code",
   "execution_count": null,
   "id": "0897f8ed-b086-4ddc-a32e-6ae638ff6d14",
   "metadata": {
    "execution": {
     "iopub.execute_input": "2023-04-23T20:12:00.569749Z",
     "iopub.status.busy": "2023-04-23T20:12:00.568525Z",
     "iopub.status.idle": "2023-04-23T20:12:16.987728Z",
     "shell.execute_reply": "2023-04-23T20:12:16.986578Z"
    },
    "papermill": {
     "duration": 16.459352,
     "end_time": "2023-04-23T20:12:16.994192",
     "exception": false,
     "start_time": "2023-04-23T20:12:00.534840",
     "status": "completed"
    },
    "tags": []
   },
   "outputs": [],
   "source": [
    "suppressMessages(library(SeuratDisk))\n",
    "suppressMessages(library(SingleR))\n",
    "suppressMessages(library(Seurat))\n",
    "suppressMessages(library(SingleCellExperiment))\n",
    "suppressMessages(library(UCell))"
   ]
  },
  {
   "cell_type": "code",
   "execution_count": null,
   "id": "a0174989-038b-4cea-adf1-6fee00a4b3d3",
   "metadata": {
    "execution": {
     "iopub.execute_input": "2023-04-23T20:12:17.054039Z",
     "iopub.status.busy": "2023-04-23T20:12:17.035480Z",
     "iopub.status.idle": "2023-04-23T20:12:27.088809Z",
     "shell.execute_reply": "2023-04-23T20:12:27.087771Z"
    },
    "papermill": {
     "duration": 10.056618,
     "end_time": "2023-04-23T20:12:27.089863",
     "exception": false,
     "start_time": "2023-04-23T20:12:17.033245",
     "status": "completed"
    },
    "tags": []
   },
   "outputs": [],
   "source": [
    "dataset <- readRDS(\"../../int_data/dataset_gcsf_qc.rds\")"
   ]
  },
  {
   "cell_type": "code",
   "execution_count": null,
   "id": "9475b837-76e2-42c3-b8f5-02a71d7ce1fd",
   "metadata": {
    "execution": {
     "iopub.execute_input": "2023-04-23T20:12:27.097682Z",
     "iopub.status.busy": "2023-04-23T20:12:27.096972Z",
     "iopub.status.idle": "2023-04-23T20:12:27.720447Z",
     "shell.execute_reply": "2023-04-23T20:12:27.719435Z"
    },
    "papermill": {
     "duration": 0.626646,
     "end_time": "2023-04-23T20:12:27.721679",
     "exception": false,
     "start_time": "2023-04-23T20:12:27.095033",
     "status": "completed"
    },
    "tags": []
   },
   "outputs": [],
   "source": [
    "data <- SingleCellExperiment(assays = list(counts = dataset@assays@data[[\"soupX_counts\"]]),\n",
    "                             colData = dataset@colData)\n",
    "rownames(data) = rownames(dataset)"
   ]
  },
  {
   "cell_type": "code",
   "execution_count": null,
   "id": "863cb970-a4bc-4dfc-98bb-17297c65ce51",
   "metadata": {
    "execution": {
     "iopub.execute_input": "2023-04-23T20:12:27.726075Z",
     "iopub.status.busy": "2023-04-23T20:12:27.725347Z",
     "iopub.status.idle": "2023-04-23T20:12:31.830977Z",
     "shell.execute_reply": "2023-04-23T20:12:31.829967Z"
    },
    "papermill": {
     "duration": 4.108758,
     "end_time": "2023-04-23T20:12:31.832072",
     "exception": false,
     "start_time": "2023-04-23T20:12:27.723314",
     "status": "completed"
    },
    "tags": []
   },
   "outputs": [],
   "source": [
    "data <- as.Seurat(data, data = NULL)"
   ]
  },
  {
   "cell_type": "code",
   "execution_count": null,
   "id": "0b749876-ea5a-403c-8b0b-51afc8a633e3",
   "metadata": {
    "execution": {
     "iopub.execute_input": "2023-04-23T20:12:31.848804Z",
     "iopub.status.busy": "2023-04-23T20:12:31.848099Z",
     "iopub.status.idle": "2023-04-23T20:12:31.863996Z",
     "shell.execute_reply": "2023-04-23T20:12:31.863201Z"
    },
    "papermill": {
     "duration": 0.01903,
     "end_time": "2023-04-23T20:12:31.864992",
     "exception": false,
     "start_time": "2023-04-23T20:12:31.845962",
     "status": "completed"
    },
    "tags": []
   },
   "outputs": [],
   "source": [
    "data"
   ]
  },
  {
   "cell_type": "code",
   "execution_count": null,
   "id": "b6b29b0e-92c4-4d4f-b835-c5e9d7d59455",
   "metadata": {
    "execution": {
     "iopub.execute_input": "2023-04-23T20:12:31.869090Z",
     "iopub.status.busy": "2023-04-23T20:12:31.868331Z",
     "iopub.status.idle": "2023-04-23T20:14:37.595305Z",
     "shell.execute_reply": "2023-04-23T20:14:37.594269Z"
    },
    "papermill": {
     "duration": 125.730166,
     "end_time": "2023-04-23T20:14:37.596433",
     "exception": false,
     "start_time": "2023-04-23T20:12:31.866267",
     "status": "completed"
    },
    "tags": []
   },
   "outputs": [],
   "source": [
    "data <- NormalizeData(data)\n",
    "data <- ScaleData(data, features = row.names(data))\n",
    "data <- FindVariableFeatures(data)\n",
    "data <- RunPCA(data, verbose = F)\n",
    "data <- FindNeighbors(data, verbose = F)\n",
    "data <- FindClusters(data, verbose = F)\n",
    "data <- RunUMAP(data, dims = 1:20, verbose = F)"
   ]
  },
  {
   "cell_type": "code",
   "execution_count": null,
   "id": "40fa5cdd-01d7-4b40-90e6-0c97545b0711",
   "metadata": {
    "execution": {
     "iopub.execute_input": "2023-04-23T20:14:37.604680Z",
     "iopub.status.busy": "2023-04-23T20:14:37.603976Z",
     "iopub.status.idle": "2023-04-23T20:17:28.257375Z",
     "shell.execute_reply": "2023-04-23T20:17:28.256091Z"
    },
    "papermill": {
     "duration": 170.663571,
     "end_time": "2023-04-23T20:17:28.265410",
     "exception": false,
     "start_time": "2023-04-23T20:14:37.601839",
     "status": "completed"
    },
    "tags": []
   },
   "outputs": [],
   "source": [
    "ref1 <- celldex::BlueprintEncodeData()\n",
    "ref2 <- celldex::MonacoImmuneData()\n",
    "cell_classification <- SingleR(test = as.SingleCellExperiment(data),\n",
    "                               ref = list(BPE = ref1, MON = ref2),\n",
    "                               labels = list(ref1$label.main, ref2$label.main))\n",
    "\n",
    "data[[\"SingleR_label\"]] <- cell_classification$labels\n",
    "\n",
    "plotScoreHeatmap(cell_classification)"
   ]
  },
  {
   "cell_type": "code",
   "execution_count": null,
   "id": "6ad7cf2f-891f-4c05-b34d-e47c84bbe27b",
   "metadata": {
    "execution": {
     "iopub.execute_input": "2023-04-23T20:17:28.273864Z",
     "iopub.status.busy": "2023-04-23T20:17:28.272776Z",
     "iopub.status.idle": "2023-04-23T20:17:29.667606Z",
     "shell.execute_reply": "2023-04-23T20:17:29.666633Z"
    },
    "papermill": {
     "duration": 1.399662,
     "end_time": "2023-04-23T20:17:29.668750",
     "exception": false,
     "start_time": "2023-04-23T20:17:28.269088",
     "status": "completed"
    },
    "tags": []
   },
   "outputs": [],
   "source": [
    "write.csv(data@meta.data, \"dataset_gcsf_metadata.csv\")"
   ]
  }
 ],
 "metadata": {
  "kernelspec": {
   "display_name": "R 4.2",
   "language": "R",
   "name": "ir42"
  },
  "language_info": {
   "codemirror_mode": "r",
   "file_extension": ".r",
   "mimetype": "text/x-r-source",
   "name": "R",
   "pygments_lexer": "r",
   "version": "4.2.2"
  },
  "papermill": {
   "default_parameters": {},
   "duration": 332.854155,
   "end_time": "2023-04-23T20:17:30.812164",
   "environment_variables": {},
   "exception": null,
   "input_path": "cell_identification_gcsf.ipynb",
   "output_path": "cell_identification_gcsf.ipynb",
   "parameters": {},
   "start_time": "2023-04-23T20:11:57.958009",
   "version": "2.3.4"
  }
 },
 "nbformat": 4,
 "nbformat_minor": 5
}
