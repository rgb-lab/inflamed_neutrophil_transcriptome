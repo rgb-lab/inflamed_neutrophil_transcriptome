{
 "cells": [
  {
   "cell_type": "code",
   "execution_count": null,
   "id": "1fa3e600-f7b5-4e5c-bb72-1df70b984429",
   "metadata": {
    "execution": {
     "iopub.execute_input": "2023-05-16T07:38:17.708563Z",
     "iopub.status.busy": "2023-05-16T07:38:17.708425Z",
     "iopub.status.idle": "2023-05-16T07:38:21.967568Z",
     "shell.execute_reply": "2023-05-16T07:38:21.967066Z"
    },
    "papermill": {
     "duration": 4.265249,
     "end_time": "2023-05-16T07:38:21.968872",
     "exception": false,
     "start_time": "2023-05-16T07:38:17.703623",
     "status": "completed"
    },
    "tags": []
   },
   "outputs": [],
   "source": [
    "import gc\n",
    "import scanpy as sc\n",
    "import muon as mu\n",
    "import seaborn as sns\n",
    "import os\n",
    "import pandas as pd\n",
    "from matplotlib import pyplot as plt\n",
    "\n",
    "os.environ['R_HOME'] = '/gpfs/bwfor/work/ws/hd_fu399-conda/conda/envs/python_R/lib/R/'\n",
    "import anndata2ri\n",
    "import logging\n",
    "\n",
    "import rpy2.rinterface_lib.callbacks as rcb\n",
    "import rpy2.robjects as ro\n",
    "\n",
    "rcb.logger.setLevel(logging.ERROR)\n",
    "ro.pandas2ri.activate()\n",
    "anndata2ri.activate()\n",
    "\n",
    "%load_ext rpy2.ipython"
   ]
  },
  {
   "cell_type": "code",
   "execution_count": null,
   "id": "8cfe7349-496a-4240-a246-4b740e6e71e4",
   "metadata": {
    "execution": {
     "iopub.execute_input": "2023-05-16T07:38:21.974117Z",
     "iopub.status.busy": "2023-05-16T07:38:21.973818Z",
     "iopub.status.idle": "2023-05-16T07:38:28.985707Z",
     "shell.execute_reply": "2023-05-16T07:38:28.985250Z"
    },
    "papermill": {
     "duration": 7.01581,
     "end_time": "2023-05-16T07:38:28.987105",
     "exception": false,
     "start_time": "2023-05-16T07:38:21.971295",
     "status": "completed"
    },
    "tags": []
   },
   "outputs": [],
   "source": [
    "%%R\n",
    "library(SingleCellExperiment)\n",
    "library(Seurat)\n",
    "library(UCell)\n",
    "library(ggplot2)"
   ]
  },
  {
   "cell_type": "code",
   "execution_count": null,
   "id": "40898400-220f-41e3-bd92-92b5157218cb",
   "metadata": {
    "execution": {
     "iopub.execute_input": "2023-05-16T07:38:28.994638Z",
     "iopub.status.busy": "2023-05-16T07:38:28.994470Z",
     "iopub.status.idle": "2023-05-16T07:38:29.000859Z",
     "shell.execute_reply": "2023-05-16T07:38:29.000427Z"
    },
    "papermill": {
     "duration": 0.0104,
     "end_time": "2023-05-16T07:38:29.001949",
     "exception": false,
     "start_time": "2023-05-16T07:38:28.991549",
     "status": "completed"
    },
    "tags": []
   },
   "outputs": [],
   "source": [
    "fisher_genes_up = pd.read_csv(\"../../../fisher_up_genes.csv\", index_col = 0)[\"symbol\"].to_list()\n",
    "fisher_genes_down = pd.read_csv(\"../../../fisher_dn_genes.csv\", index_col = 0)[\"symbol\"].to_list()"
   ]
  },
  {
   "cell_type": "code",
   "execution_count": null,
   "id": "4fd8e7f1-8512-4e62-8b55-9107798311d4",
   "metadata": {
    "execution": {
     "iopub.execute_input": "2023-05-16T07:38:29.006205Z",
     "iopub.status.busy": "2023-05-16T07:38:29.006038Z",
     "iopub.status.idle": "2023-05-16T07:38:29.070486Z",
     "shell.execute_reply": "2023-05-16T07:38:29.070154Z"
    },
    "papermill": {
     "duration": 0.089125,
     "end_time": "2023-05-16T07:38:29.092911",
     "exception": false,
     "start_time": "2023-05-16T07:38:29.003786",
     "status": "completed"
    },
    "tags": []
   },
   "outputs": [],
   "source": [
    "%%R -i fisher_genes_up\n",
    "\n",
    "fisher_genes_up"
   ]
  },
  {
   "cell_type": "code",
   "execution_count": null,
   "id": "0c7ee8aa-06d7-4ba6-80ba-ebbf35748629",
   "metadata": {
    "execution": {
     "iopub.execute_input": "2023-05-16T07:38:29.110690Z",
     "iopub.status.busy": "2023-05-16T07:38:29.110485Z",
     "iopub.status.idle": "2023-05-16T07:40:27.228960Z",
     "shell.execute_reply": "2023-05-16T07:40:27.228461Z"
    },
    "papermill": {
     "duration": 118.128849,
     "end_time": "2023-05-16T07:40:27.230337",
     "exception": false,
     "start_time": "2023-05-16T07:38:29.101488",
     "status": "completed"
    },
    "tags": []
   },
   "outputs": [],
   "source": [
    "### integrated by scanvi\n",
    "\n",
    "dataset = sc.read(\"../../int_data/dataset_ucb_integrated_cell_type.h5ad\")\n",
    "\n",
    "organ_map = {'umbilical cord blood': \"umb_cord_blood\"}\n",
    "condition_map = {'E. coli challenge (24h)': \"Ecoli\", 'Steady state': \"steady_state\"}\n",
    "\n",
    "dataset.obs[\"condition\"] = dataset.obs[\"stimulus\"]\n",
    "dataset.obs[\"organ\"] = dataset.obs[\"organism_part\"].map(organ_map)\n",
    "\n",
    "dataset = dataset[dataset.obs[\"cell_type\"] == \"Neutrophils\", :].copy()\n",
    "\n",
    "dataset.X = dataset.layers[\"scANVI_normalized\"]\n",
    "#sc.pp.normalize_total(dataset, target_sum = 1e4)\n",
    "sc.pp.log1p(dataset)\n",
    "sc.tl.score_genes(dataset, fisher_genes_up, ctrl_size=100, score_name = \"fisher_up\")\n",
    "sc.pp.neighbors(dataset, use_rep = \"X_scANVI\")\n",
    "sc.tl.umap(dataset)\n",
    "sc.pl.umap(dataset, color = [\"condition\", \"organ\", \"batch\"], wspace = 0.6)\n",
    "\n",
    "dataset.obs.to_csv(\"gene_set_scores_integrated_scanpy_scanpy_ucb.csv\")\n",
    "\n",
    "del dataset.obsp\n",
    "del dataset.uns\n",
    "gc.collect()\n",
    "\n",
    "dataset.X = dataset.layers[\"scANVI_normalized\"]"
   ]
  },
  {
   "cell_type": "code",
   "execution_count": null,
   "id": "a0eeadf9-6145-4d6b-a877-f25015f7972c",
   "metadata": {
    "execution": {
     "iopub.execute_input": "2023-05-16T07:40:27.262139Z",
     "iopub.status.busy": "2023-05-16T07:40:27.261975Z",
     "iopub.status.idle": "2023-05-16T07:47:28.331286Z",
     "shell.execute_reply": "2023-05-16T07:47:28.330791Z"
    },
    "papermill": {
     "duration": 421.101512,
     "end_time": "2023-05-16T07:47:28.347359",
     "exception": false,
     "start_time": "2023-05-16T07:40:27.245847",
     "status": "completed"
    },
    "tags": []
   },
   "outputs": [],
   "source": [
    "%%R -i dataset\n",
    "\n",
    "sce <- SingleCellExperiment(list(counts=dataset@assays@data[[\"scANVI_normalized\"]]),\n",
    "    colData=dataset@colData,\n",
    ")\n",
    "\n",
    "row.names(sce) <- row.names(dataset)\n",
    "\n",
    "data <- as.Seurat(sce, data = NULL)\n",
    "\n",
    "#data <- NormalizeData(data)\n",
    "data <- ScaleData(data, features = row.names(data))\n",
    "data <- FindVariableFeatures(data)\n",
    "data <- RunPCA(data, verbose = F)\n",
    "data <- FindNeighbors(data, verbose = F)\n",
    "data <- FindClusters(data, verbose = F)\n",
    "data <- RunUMAP(data, dims = 1:20, verbose = F)\n",
    "\n",
    "data <- AddModuleScore(data, list(fisher_genes_up), name = \"Seurat_fisher_up\", ctrl = 100)\n",
    "data <- AddModuleScore_UCell(data, features = list(\"UCell_fisher_up\" = fisher_genes_up))\n",
    "\n",
    "write.csv(data@meta.data, \"gene_set_scores_integrated_scanpy_R_ucb.csv\")\n",
    "\n",
    "DimPlot(data, group.by = \"organ\")\n",
    "\n",
    "gc()"
   ]
  },
  {
   "cell_type": "code",
   "execution_count": null,
   "id": "5e8ffe8b-ea02-437f-81fe-1a34907a1456",
   "metadata": {
    "execution": {
     "iopub.execute_input": "2023-05-16T07:47:28.384186Z",
     "iopub.status.busy": "2023-05-16T07:47:28.383978Z",
     "iopub.status.idle": "2023-05-16T07:48:16.561356Z",
     "shell.execute_reply": "2023-05-16T07:48:16.560844Z"
    },
    "papermill": {
     "duration": 48.195889,
     "end_time": "2023-05-16T07:48:16.562729",
     "exception": false,
     "start_time": "2023-05-16T07:47:28.366840",
     "status": "completed"
    },
    "tags": []
   },
   "outputs": [],
   "source": [
    "dataset = sc.read(\"../../int_data/dataset_ucb_integrated_cell_type.h5ad\")\n",
    "\n",
    "organ_map = {'umbilical cord blood': \"umb_cord_blood\"}\n",
    "condition_map = {'E. coli challenge (24h)': \"Ecoli\", 'Steady state': \"steady_state\"}\n",
    "\n",
    "dataset.obs[\"condition\"] = dataset.obs[\"stimulus\"]\n",
    "dataset.obs[\"organ\"] = dataset.obs[\"organism_part\"].map(organ_map)\n",
    "\n",
    "dataset = dataset[dataset.obs[\"cell_type\"] == \"Neutrophils\", :].copy()\n",
    "dataset.X = dataset.layers[\"soupX_counts\"]\n",
    "sc.pp.normalize_total(dataset, target_sum = 1e4)\n",
    "sc.pp.log1p(dataset)\n",
    "sc.pp.pca(dataset)\n",
    "sc.tl.score_genes(dataset, fisher_genes_up, ctrl_size=100, score_name = \"fisher_up\")\n",
    "sc.pp.neighbors(dataset)\n",
    "sc.tl.umap(dataset)\n",
    "sc.pl.umap(dataset, color = [\"condition\", \"organ\", \"batch\"], wspace = 0.6)\n",
    "\n",
    "dataset.obs.to_csv(\"gene_set_scores_raw_scanpy_ucb.csv\")\n",
    "\n",
    "del dataset.obsp\n",
    "del dataset.uns\n",
    "gc.collect()\n",
    "\n",
    "dataset.X = dataset.layers[\"soupX_counts\"]"
   ]
  },
  {
   "cell_type": "code",
   "execution_count": null,
   "id": "80d90bab-223f-477d-8561-a60e95e1dd75",
   "metadata": {
    "execution": {
     "iopub.execute_input": "2023-05-16T07:48:16.607871Z",
     "iopub.status.busy": "2023-05-16T07:48:16.607696Z",
     "iopub.status.idle": "2023-05-16T07:51:43.583186Z",
     "shell.execute_reply": "2023-05-16T07:51:43.582726Z"
    },
    "papermill": {
     "duration": 207.018241,
     "end_time": "2023-05-16T07:51:43.605017",
     "exception": false,
     "start_time": "2023-05-16T07:48:16.586776",
     "status": "completed"
    },
    "tags": []
   },
   "outputs": [],
   "source": [
    "%%R -i dataset\n",
    "\n",
    "sce <- SingleCellExperiment(list(counts=dataset@assays@data[[\"soupX_counts\"]]),\n",
    "    colData=dataset@colData,\n",
    ")\n",
    "\n",
    "row.names(sce) <- row.names(dataset)\n",
    "\n",
    "data <- as.Seurat(sce, data = NULL)\n",
    "\n",
    "data <- NormalizeData(data)\n",
    "data <- ScaleData(data, features = row.names(data))\n",
    "data <- FindVariableFeatures(data)\n",
    "data <- RunPCA(data, verbose = F)\n",
    "data <- FindNeighbors(data, verbose = F)\n",
    "data <- FindClusters(data, verbose = F)\n",
    "data <- RunUMAP(data, dims = 1:20, verbose = F)\n",
    "\n",
    "data <- AddModuleScore(data, list(fisher_genes_up), name = \"Seurat_fisher_up\", ctrl = 100)\n",
    "data <- AddModuleScore_UCell(data, features = list(\"UCell_fisher_up\" = fisher_genes_up))\n",
    "\n",
    "write.csv(data@meta.data, \"gene_set_scores_raw_R_ucb.csv\")\n",
    "\n",
    "DimPlot(data, group.by = \"organ\")\n",
    "\n",
    "gc()"
   ]
  },
  {
   "cell_type": "code",
   "execution_count": null,
   "id": "f9cbe0dc-83e6-40da-b249-670eec3bfa37",
   "metadata": {
    "execution": {
     "iopub.execute_input": "2023-05-16T07:51:43.647622Z",
     "iopub.status.busy": "2023-05-16T07:51:43.647441Z",
     "iopub.status.idle": "2023-05-16T07:53:42.749446Z",
     "shell.execute_reply": "2023-05-16T07:53:42.748921Z"
    },
    "papermill": {
     "duration": 119.124779,
     "end_time": "2023-05-16T07:53:42.750773",
     "exception": false,
     "start_time": "2023-05-16T07:51:43.625994",
     "status": "completed"
    },
    "tags": []
   },
   "outputs": [],
   "source": [
    "dataset = sc.read(\"../../int_data/dataset_ucb_integrated_cell_type.h5ad\")\n",
    "\n",
    "organ_map = {'umbilical cord blood': \"umb_cord_blood\"}\n",
    "condition_map = {'E. coli challenge (24h)': \"Ecoli\", 'Steady state': \"steady_state\"}\n",
    "\n",
    "dataset.obs[\"condition\"] = dataset.obs[\"stimulus\"]\n",
    "dataset.obs[\"organ\"] = dataset.obs[\"organism_part\"].map(organ_map)\n",
    "\n",
    "dataset = dataset[dataset.obs[\"cell_type\"] == \"Neutrophils\", :].copy()\n",
    "dataset.X = dataset.layers[\"soupX_counts\"]\n",
    "sc.pp.normalize_total(dataset, target_sum = 1e4)\n",
    "sc.pp.log1p(dataset)\n",
    "sc.pp.scale(dataset, max_value = 10)\n",
    "sc.pp.pca(dataset)\n",
    "sc.tl.score_genes(dataset, fisher_genes_up, ctrl_size=100, score_name = \"fisher_up\")\n",
    "sc.pp.neighbors(dataset)\n",
    "sc.tl.umap(dataset)\n",
    "sc.pl.umap(dataset, color = [\"condition\", \"organ\", \"batch\"], wspace = 0.6)\n",
    "\n",
    "dataset.obs.to_csv(\"gene_set_scores_scaled_scanpy_ucb.csv\")\n",
    "\n",
    "del dataset.obsp\n",
    "del dataset.uns\n",
    "gc.collect()\n",
    "\n",
    "dataset.X = dataset.layers[\"soupX_counts\"]"
   ]
  },
  {
   "cell_type": "code",
   "execution_count": null,
   "id": "6afb5097-47e1-4d0b-a893-a50c5de7b631",
   "metadata": {
    "execution": {
     "iopub.execute_input": "2023-05-16T07:53:42.804904Z",
     "iopub.status.busy": "2023-05-16T07:53:42.804747Z",
     "iopub.status.idle": "2023-05-16T07:56:58.076881Z",
     "shell.execute_reply": "2023-05-16T07:56:58.076200Z"
    },
    "papermill": {
     "duration": 195.323197,
     "end_time": "2023-05-16T07:56:58.101856",
     "exception": false,
     "start_time": "2023-05-16T07:53:42.778659",
     "status": "completed"
    },
    "tags": []
   },
   "outputs": [],
   "source": [
    "%%R -i dataset\n",
    "\n",
    "sce <- SingleCellExperiment(list(counts=dataset@assays@data[[\"soupX_counts\"]]),\n",
    "    colData=dataset@colData,\n",
    ")\n",
    "\n",
    "row.names(sce) <- row.names(dataset)\n",
    "\n",
    "data <- as.Seurat(sce, data = NULL)\n",
    "\n",
    "data <- NormalizeData(data)\n",
    "data <- ScaleData(data, features = row.names(data))\n",
    "data <- FindVariableFeatures(data)\n",
    "data <- RunPCA(data, verbose = F)\n",
    "data <- FindNeighbors(data, verbose = F)\n",
    "data <- FindClusters(data, verbose = F)\n",
    "data <- RunUMAP(data, dims = 1:20, verbose = F)\n",
    "\n",
    "data <- AddModuleScore(data, list(fisher_genes_up), name = \"Seurat_fisher_up\", ctrl = 100)\n",
    "data <- AddModuleScore_UCell(data, features = list(\"UCell_fisher_up\" = fisher_genes_up))\n",
    "\n",
    "write.csv(data@meta.data, \"gene_set_scores_scaled_R_ucb.csv\")\n",
    "\n",
    "DimPlot(data, group.by = \"organ\")\n",
    "\n",
    "gc()"
   ]
  },
  {
   "cell_type": "code",
   "execution_count": null,
   "id": "f446130f-4073-488f-bdb8-dc3a504af1b0",
   "metadata": {
    "execution": {
     "iopub.execute_input": "2023-05-16T07:56:58.155294Z",
     "iopub.status.busy": "2023-05-16T07:56:58.155014Z",
     "iopub.status.idle": "2023-05-16T07:58:51.218639Z",
     "shell.execute_reply": "2023-05-16T07:58:51.217772Z"
    },
    "papermill": {
     "duration": 113.092195,
     "end_time": "2023-05-16T07:58:51.220136",
     "exception": false,
     "start_time": "2023-05-16T07:56:58.127941",
     "status": "completed"
    },
    "tags": []
   },
   "outputs": [],
   "source": [
    "%%R\n",
    "\n",
    "data <- readRDS(\"../../int_data/dataset_ucb_seurat_integrated.rds\")\n",
    "data <- RunPCA(data, verbose = F)\n",
    "data <- FindNeighbors(data, verbose = F)\n",
    "data <- FindClusters(data, verbose = F)\n",
    "data <- RunUMAP(data, dims = 1:20, verbose = F)\n",
    "\n",
    "data <- AddModuleScore(data, list(fisher_genes_up), name = \"Seurat_fisher_up\", ctrl = 100)\n",
    "data <- AddModuleScore_UCell(data, features = list(\"UCell_fisher_up\" = fisher_genes_up))\n",
    "\n",
    "write.csv(data@meta.data, \"gene_set_scores_integrated_seurat_R_ucb.csv\")"
   ]
  },
  {
   "cell_type": "code",
   "execution_count": null,
   "id": "219c3473-b5b8-4d03-886b-5a748363c659",
   "metadata": {
    "execution": {
     "iopub.execute_input": "2023-05-16T07:58:51.275818Z",
     "iopub.status.busy": "2023-05-16T07:58:51.275485Z",
     "iopub.status.idle": "2023-05-16T07:58:52.613732Z",
     "shell.execute_reply": "2023-05-16T07:58:52.613197Z"
    },
    "papermill": {
     "duration": 1.366413,
     "end_time": "2023-05-16T07:58:52.615042",
     "exception": false,
     "start_time": "2023-05-16T07:58:51.248629",
     "status": "completed"
    },
    "tags": []
   },
   "outputs": [],
   "source": [
    "scanpy_integrated = pd.read_csv(\"gene_set_scores_integrated_scanpy_scanpy_ucb.csv\", index_col = 0)\n",
    "scanpy_integrated_r = pd.read_csv(\"gene_set_scores_integrated_scanpy_R_ucb.csv\", index_col = 0)\n",
    "\n",
    "scanpy_raw = pd.read_csv(\"gene_set_scores_raw_scanpy_ucb.csv\", index_col = 0)\n",
    "scanpy_raw_r = pd.read_csv(\"gene_set_scores_raw_R_ucb.csv\", index_col = 0)\n",
    "\n",
    "scanpy_scaled = pd.read_csv(\"gene_set_scores_scaled_scanpy_ucb.csv\", index_col = 0)\n",
    "scanpy_scaled_r = pd.read_csv(\"gene_set_scores_scaled_R_ucb.csv\", index_col = 0)\n",
    "\n",
    "seurat_integrated = pd.read_csv(\"gene_set_scores_integrated_seurat_R_ucb.csv\", index_col = 0)\n",
    "\n",
    "df = pd.DataFrame(index = scanpy_integrated.index, data = {\"scanpy_int_scanpy\": scanpy_integrated[\"fisher_up\"],\n",
    "                                                           \"seurat_int_scanpy\": scanpy_integrated_r[\"Seurat_fisher_up1\"],\n",
    "                                                           \"ucell_int_scanpy\": scanpy_integrated_r[\"UCell_fisher_up_UCell\"],\n",
    "                                                           \n",
    "                                                           \"sc_raw\": scanpy_raw[\"fisher_up\"],\n",
    "                                                           \"sc_scaled\": scanpy_scaled[\"fisher_up\"],\n",
    "                                                           \"seurat_raw\": scanpy_raw_r[\"Seurat_fisher_up1\"],\n",
    "                                                           \"seurat_scaled\": scanpy_scaled_r[\"Seurat_fisher_up1\"],\n",
    "                                                           \"ucell_raw\": scanpy_raw_r[\"UCell_fisher_up_UCell\"],\n",
    "                                                           \"ucell_scaled\": scanpy_scaled_r[\"UCell_fisher_up_UCell\"],\n",
    "                                                           \n",
    "                                                           \"seurat_int_seurat\": seurat_integrated[\"Seurat_fisher_up1\"],\n",
    "                                                           \"ucell_int_seurat\": seurat_integrated[\"UCell_fisher_up_UCell\"],\n",
    "                                                           \"organ\": scanpy_integrated[\"organ\"],\n",
    "                                                           \"condition\": scanpy_integrated[\"condition\"]})\n"
   ]
  },
  {
   "cell_type": "code",
   "execution_count": null,
   "id": "6129ac40-d8b9-4c4f-8f39-29c0ff26a90f",
   "metadata": {
    "execution": {
     "iopub.execute_input": "2023-05-16T07:58:52.667923Z",
     "iopub.status.busy": "2023-05-16T07:58:52.667758Z",
     "iopub.status.idle": "2023-05-16T07:58:52.832665Z",
     "shell.execute_reply": "2023-05-16T07:58:52.832185Z"
    },
    "papermill": {
     "duration": 0.19266,
     "end_time": "2023-05-16T07:58:52.833650",
     "exception": false,
     "start_time": "2023-05-16T07:58:52.640990",
     "status": "completed"
    },
    "tags": []
   },
   "outputs": [],
   "source": [
    "sns.heatmap(df.corr(), vmin = -1, vmax = 1)\n",
    "\n",
    "plt.show()"
   ]
  }
 ],
 "metadata": {
  "kernelspec": {
   "display_name": "py_R",
   "language": "python",
   "name": "python_r"
  },
  "language_info": {
   "codemirror_mode": {
    "name": "ipython",
    "version": 3
   },
   "file_extension": ".py",
   "mimetype": "text/x-python",
   "name": "python",
   "nbconvert_exporter": "python",
   "pygments_lexer": "ipython3",
   "version": "3.10.9"
  },
  "papermill": {
   "default_parameters": {},
   "duration": 1237.865122,
   "end_time": "2023-05-16T07:58:54.680737",
   "environment_variables": {},
   "exception": null,
   "input_path": "gene_set_score_calculation_ucb.ipynb",
   "output_path": "gene_set_score_calculation_ucb.ipynb",
   "parameters": {},
   "start_time": "2023-05-16T07:38:16.815615",
   "version": "2.4.0"
  }
 },
 "nbformat": 4,
 "nbformat_minor": 5
}
