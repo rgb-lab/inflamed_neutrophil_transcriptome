{
 "cells": [
  {
   "cell_type": "code",
   "execution_count": null,
   "id": "27d39808-4f00-431e-9821-436c4c5a59f7",
   "metadata": {
    "papermill": {
     "duration": 19.957879,
     "end_time": "2023-05-15T13:21:37.419157",
     "exception": false,
     "start_time": "2023-05-15T13:21:17.461278",
     "status": "completed"
    },
    "tags": []
   },
   "outputs": [],
   "source": [
    "import pandas as pd\n",
    "from matplotlib import pyplot as plt\n",
    "import seaborn as sns\n",
    "import gc\n",
    "\n",
    "import os\n",
    "\n",
    "os.environ['R_HOME'] = '/gpfs/bwfor/work/ws/hd_fu399-conda/conda/envs/python_R/lib/R/'\n",
    "import anndata2ri\n",
    "import logging\n",
    "\n",
    "import rpy2.rinterface_lib.callbacks as rcb\n",
    "import rpy2.robjects as ro\n",
    "\n",
    "rcb.logger.setLevel(logging.ERROR)\n",
    "ro.pandas2ri.activate()\n",
    "anndata2ri.activate()\n",
    "\n",
    "%load_ext rpy2.ipython\n",
    "\n",
    "import pymer4\n",
    "from pymer4.models import Lmer, Lm"
   ]
  },
  {
   "cell_type": "code",
   "execution_count": null,
   "id": "e45a4597-f329-4fdf-818f-aaaa82b43c1f",
   "metadata": {
    "papermill": {
     "duration": 1.112791,
     "end_time": "2023-05-15T13:21:38.537491",
     "exception": false,
     "start_time": "2023-05-15T13:21:37.424700",
     "status": "completed"
    },
    "tags": []
   },
   "outputs": [],
   "source": [
    "scanpy_integrated = pd.read_csv(\"gene_set_scores_integrated_scanpy_scanpy_ucb.csv\", index_col = 0)\n",
    "scanpy_integrated_r = pd.read_csv(\"gene_set_scores_integrated_scanpy_R_ucb.csv\", index_col = 0)\n",
    "\n",
    "scanpy_raw = pd.read_csv(\"gene_set_scores_raw_scanpy_ucb.csv\", index_col = 0)\n",
    "scanpy_raw_r = pd.read_csv(\"gene_set_scores_raw_R_ucb.csv\", index_col = 0)\n",
    "\n",
    "scanpy_scaled = pd.read_csv(\"gene_set_scores_scaled_scanpy_ucb.csv\", index_col = 0)\n",
    "scanpy_scaled_r = pd.read_csv(\"gene_set_scores_scaled_R_ucb.csv\", index_col = 0)\n",
    "\n",
    "seurat_integrated = pd.read_csv(\"gene_set_scores_integrated_seurat_R_ucb.csv\", index_col = 0)\n",
    "\n",
    "df = pd.DataFrame(index = scanpy_integrated.index, data = {\"scanpy_int_scanpy\": scanpy_integrated[\"fisher_up\"],\n",
    "                                                           \"seurat_int_scanpy\": scanpy_integrated_r[\"Seurat_fisher_up1\"],\n",
    "                                                           \"ucell_int_scanpy\": scanpy_integrated_r[\"UCell_fisher_up_UCell\"],\n",
    "                                                           \n",
    "                                                           \"sc_raw\": scanpy_raw[\"fisher_up\"],\n",
    "                                                           \"sc_scaled\": scanpy_scaled[\"fisher_up\"],\n",
    "                                                           \n",
    "                                                           \"seurat_raw\": scanpy_raw_r[\"Seurat_fisher_up1\"],\n",
    "                                                           \"seurat_scaled\": scanpy_scaled_r[\"Seurat_fisher_up1\"],\n",
    "                                                           \"ucell_raw\": scanpy_raw_r[\"UCell_fisher_up_UCell\"],\n",
    "                                                           \"ucell_scaled\": scanpy_scaled_r[\"UCell_fisher_up_UCell\"],\n",
    "                                                           \n",
    "                                                           \"seurat_int_seurat\": seurat_integrated[\"Seurat_fisher_up1\"],\n",
    "                                                           \"ucell_int_seurat\": seurat_integrated[\"UCell_fisher_up_UCell\"],\n",
    "                                                           \"organ\": scanpy_integrated[\"organ\"],\n",
    "                                                           \"condition\": scanpy_integrated[\"condition\"],\n",
    "                                                           \"batch\" : scanpy_integrated[\"batch\"]})"
   ]
  },
  {
   "cell_type": "code",
   "execution_count": null,
   "id": "6f849912-e3e8-45fa-ac7a-0f21713be3ea",
   "metadata": {
    "papermill": {
     "duration": 1.553721,
     "end_time": "2023-05-15T13:21:40.094045",
     "exception": false,
     "start_time": "2023-05-15T13:21:38.540324",
     "status": "completed"
    },
    "tags": []
   },
   "outputs": [],
   "source": [
    "fig, ax = plt.subplots(ncols = 4, nrows = 1, figsize = (16,4))\n",
    "\n",
    "sns.violinplot(data = df, x = \"organ\", y = \"seurat_raw\", hue = \"condition\", hue_order = [\"none\", \"IFN-beta\", \"IFN-gamma\", \"G-CSF\"], ax = ax[0])\n",
    "sns.violinplot(data = df, x = \"organ\", y = \"seurat_scaled\", hue = \"condition\", hue_order = [\"none\", \"IFN-beta\", \"IFN-gamma\", \"G-CSF\"], ax = ax[1])\n",
    "\n",
    "\n",
    "sns.violinplot(data = df, x = \"organ\", y = \"seurat_int_scanpy\", hue = \"condition\", hue_order = [\"none\", \"IFN-beta\", \"IFN-gamma\", \"G-CSF\"], ax = ax[2])\n",
    "sns.violinplot(data = df, x = \"organ\", y = \"seurat_int_seurat\", hue = \"condition\", hue_order = [\"none\", \"IFN-beta\", \"IFN-gamma\", \"G-CSF\"], ax = ax[3])\n",
    "\n",
    "\n",
    "\n",
    "for i, _ in enumerate(ax):\n",
    "    ax[i].set_xticklabels(ax[i].get_xticklabels(), rotation = 45, ha = \"right\")\n",
    "\n",
    "ax[0].set_title(\"raw data\")\n",
    "ax[1].set_title(\"scaled data\")\n",
    "ax[2].set_title(\"scanpy integrated\")\n",
    "ax[3].set_title(\"seurat integrated\")\n",
    "\n",
    "plt.tight_layout()\n",
    "plt.show()"
   ]
  },
  {
   "cell_type": "code",
   "execution_count": null,
   "id": "15ed2a16-fc04-4dbd-bc1c-aba7cfe9ebda",
   "metadata": {
    "papermill": {
     "duration": 0.459617,
     "end_time": "2023-05-15T13:21:40.557396",
     "exception": false,
     "start_time": "2023-05-15T13:21:40.097779",
     "status": "completed"
    },
    "tags": []
   },
   "outputs": [],
   "source": [
    "fig, ax = plt.subplots(ncols = 4, nrows = 1, figsize = (16,4))\n",
    "\n",
    "sns.violinplot(data = df, x = \"condition\", y = \"seurat_raw\", ax = ax[0])\n",
    "sns.violinplot(data = df, x = \"condition\", y = \"seurat_scaled\", ax = ax[1])\n",
    "\n",
    "\n",
    "sns.violinplot(data = df, x = \"condition\", y = \"seurat_int_scanpy\", ax = ax[2])\n",
    "sns.violinplot(data = df, x = \"condition\", y = \"seurat_int_seurat\", ax = ax[3])\n",
    "\n",
    "\n",
    "\n",
    "for i, _ in enumerate(ax):\n",
    "    ax[i].set_xticklabels(ax[i].get_xticklabels(), rotation = 45, ha = \"right\")\n",
    "\n",
    "ax[0].set_title(\"raw data\")\n",
    "ax[1].set_title(\"scaled data\")\n",
    "ax[2].set_title(\"scanpy integrated\")\n",
    "ax[3].set_title(\"seurat integrated\")\n",
    "\n",
    "plt.tight_layout()\n",
    "plt.show()"
   ]
  },
  {
   "cell_type": "code",
   "execution_count": null,
   "id": "6d62f88e-2a4e-44e3-884f-02301d5bb879",
   "metadata": {
    "papermill": {
     "duration": 2.551271,
     "end_time": "2023-05-15T13:21:43.113873",
     "exception": false,
     "start_time": "2023-05-15T13:21:40.562602",
     "status": "completed"
    },
    "tags": []
   },
   "outputs": [],
   "source": [
    "%%R -i df\n",
    "\n",
    "library(lme4)\n",
    "\n",
    "lm0 = lmer(seurat_scaled ~ 1 + condition + (1|batch), data = df)\n",
    "lm1 = lmer(seurat_scaled ~ 1 + (1|batch), data = df)\n",
    "\n",
    "anova(lm0, lm1)"
   ]
  },
  {
   "cell_type": "code",
   "execution_count": null,
   "id": "f08825ba-4a70-43a7-a8a5-a9f0f249cbd3",
   "metadata": {
    "papermill": {
     "duration": 0.908953,
     "end_time": "2023-05-15T13:21:44.029388",
     "exception": false,
     "start_time": "2023-05-15T13:21:43.120435",
     "status": "completed"
    },
    "tags": []
   },
   "outputs": [],
   "source": [
    "%%R -i df\n",
    "\n",
    "library(lme4)\n",
    "\n",
    "lm0 = lmer(sc_scaled ~ 1 + condition + (1|batch), data = df)\n",
    "lm1 = lmer(sc_scaled ~ 1 + (1|batch), data = df)\n",
    "\n",
    "anova(lm0, lm1)"
   ]
  },
  {
   "cell_type": "code",
   "execution_count": null,
   "id": "7a83d0c3-eb51-4df2-90e4-ffdd0a19018c",
   "metadata": {
    "papermill": {
     "duration": 0.813683,
     "end_time": "2023-05-15T13:21:44.850274",
     "exception": false,
     "start_time": "2023-05-15T13:21:44.036591",
     "status": "completed"
    },
    "tags": []
   },
   "outputs": [],
   "source": [
    "%%R -i df\n",
    "\n",
    "library(lme4)\n",
    "\n",
    "lm0 = lmer(seurat_int_seurat ~ 1 + condition + (1|batch), data = df)\n",
    "lm1 = lmer(seurat_int_seurat ~ 1 + (1|batch), data = df)\n",
    "\n",
    "anova(lm0, lm1)"
   ]
  },
  {
   "cell_type": "code",
   "execution_count": null,
   "id": "e330b167-eaf9-486a-89cb-d40ee1194a6e",
   "metadata": {
    "papermill": {
     "duration": 0.884279,
     "end_time": "2023-05-15T13:21:45.746116",
     "exception": false,
     "start_time": "2023-05-15T13:21:44.861837",
     "status": "completed"
    },
    "tags": []
   },
   "outputs": [],
   "source": [
    "%%R -i df\n",
    "\n",
    "library(lme4)\n",
    "\n",
    "lm0 = lmer(scanpy_int_scanpy ~ 1 + condition + (1|batch), data = df)\n",
    "lm1 = lmer(scanpy_int_scanpy ~ 1 + (1|batch), data = df)\n",
    "\n",
    "anova(lm0, lm1)"
   ]
  },
  {
   "cell_type": "code",
   "execution_count": null,
   "id": "a85c2e5b-c019-451d-8025-436a807232f2",
   "metadata": {
    "papermill": {
     "duration": 10.291238,
     "end_time": "2023-05-15T13:21:56.047012",
     "exception": false,
     "start_time": "2023-05-15T13:21:45.755774",
     "status": "completed"
    },
    "tags": []
   },
   "outputs": [],
   "source": [
    "import scanpy as sc\n",
    "\n",
    "dataset = sc.read(\"../../int_data/dataset_integrated_cell_type.h5ad\")\n",
    "dataset.obs[[\"AvgSpotLen\", \"Bases\", \"Bytes\", \"version\"]] = dataset.obs[[\"AvgSpotLen\", \"Bases\", \"Bytes\", \"version\"]].astype(\"str\")\n",
    "dataset = dataset[dataset.obs[\"cell_type\"] == \"Neutrophils\", :].copy()"
   ]
  },
  {
   "cell_type": "code",
   "execution_count": null,
   "id": "60cc56ca-3b1b-49a4-92dd-32c75841d845",
   "metadata": {
    "papermill": {
     "duration": 0.029604,
     "end_time": "2023-05-15T13:21:56.089145",
     "exception": false,
     "start_time": "2023-05-15T13:21:56.059541",
     "status": "completed"
    },
    "tags": []
   },
   "outputs": [],
   "source": [
    "dataset.obs[df.columns] = df"
   ]
  },
  {
   "cell_type": "code",
   "execution_count": null,
   "id": "f33b829d-6092-4c8b-a938-60a26cc16bd4",
   "metadata": {
    "papermill": {
     "duration": 0.077689,
     "end_time": "2023-05-15T13:21:56.175383",
     "exception": false,
     "start_time": "2023-05-15T13:21:56.097694",
     "status": "completed"
    },
    "tags": []
   },
   "outputs": [],
   "source": [
    "fisher_genes_up = pd.read_csv(\"../../../fisher_up_genes.csv\", index_col = 0)[\"symbol\"].to_list()\n",
    "fisher_genes_down = pd.read_csv(\"../../../fisher_dn_genes.csv\", index_col = 0)[\"symbol\"].to_list()"
   ]
  },
  {
   "cell_type": "code",
   "execution_count": null,
   "id": "9fa594e8-5514-433a-9de7-63848bc7d496",
   "metadata": {
    "papermill": {
     "duration": 6.62835,
     "end_time": "2023-05-15T13:22:02.812581",
     "exception": false,
     "start_time": "2023-05-15T13:21:56.184231",
     "status": "completed"
    },
    "tags": []
   },
   "outputs": [],
   "source": [
    "%%R -i fisher_genes_up -o fisher_genes_up_mouse\n",
    "\n",
    "gene_list <- fisher_genes_up\n",
    "library(dplyr)\n",
    "mouse_human_genes = read.csv(\"http://www.informatics.jax.org/downloads/reports/HOM_MouseHumanSequence.rpt\",sep=\"\\t\")\n",
    "\n",
    "convert_human_to_mouse <- function(gene_list){\n",
    "\n",
    "  output = c()\n",
    "\n",
    "  for(gene in gene_list){\n",
    "    class_key = (mouse_human_genes %>% filter(Symbol == gene & Common.Organism.Name==\"human\"))[['DB.Class.Key']]\n",
    "    if(!identical(class_key, integer(0)) ){\n",
    "      human_genes = (mouse_human_genes %>% filter(DB.Class.Key == class_key & Common.Organism.Name==\"mouse, laboratory\"))[,\"Symbol\"]\n",
    "      for(human_gene in human_genes){\n",
    "        output = append(output,human_gene)\n",
    "      }\n",
    "    }\n",
    "  }\n",
    "\n",
    "  return (output)\n",
    "}\n",
    "\n",
    "fisher_genes_up_mouse <- convert_human_to_mouse(fisher_genes_up)"
   ]
  },
  {
   "cell_type": "code",
   "execution_count": null,
   "id": "4e8ed95d-f066-44be-9935-3684506272bc",
   "metadata": {
    "tags": []
   },
   "outputs": [],
   "source": [
    "dataset.X = dataset.layers[\"soupX_counts\"]"
   ]
  },
  {
   "cell_type": "code",
   "execution_count": null,
   "id": "7977b56a-4f09-4654-8b2a-7549c3b218c2",
   "metadata": {
    "tags": []
   },
   "outputs": [],
   "source": [
    "%%R -i dataset\n",
    "\n",
    "counts <- dataset@assays@data[[\"soupX_counts\"]]\n",
    "\n",
    "saveRDS(counts, \"count_matrix.rds\")\n",
    "\n"
   ]
  },
  {
   "cell_type": "code",
   "execution_count": null,
   "id": "d513f3d8-b5ca-40dd-b4cc-d77347d8914b",
   "metadata": {
    "tags": []
   },
   "outputs": [],
   "source": [
    "%%R\n",
    "\n",
    "dim(counts)"
   ]
  },
  {
   "cell_type": "code",
   "execution_count": null,
   "id": "c1754163-46de-4863-b427-8d03467b8696",
   "metadata": {
    "tags": []
   },
   "outputs": [],
   "source": [
    "%%R\n",
    "\n",
    "row.names(counts) <- row.names(dataset)\n",
    "colnames(counts) <- colnames(dataset)\n",
    "\n",
    "saveRDS(counts, \"count_matrix.rds\")"
   ]
  },
  {
   "cell_type": "code",
   "execution_count": null,
   "id": "ed32170c-e90f-4943-9a8a-102508f20616",
   "metadata": {},
   "outputs": [],
   "source": [
    "dataset.obs.to_csv(\"metadata.csv\")"
   ]
  },
  {
   "cell_type": "code",
   "execution_count": null,
   "id": "f11058a7-5e07-4066-93a6-69c423382ebb",
   "metadata": {
    "tags": []
   },
   "outputs": [],
   "source": [
    "%%R\n",
    "\n",
    "saveRDS(fisher_genes_up_mouse, \"fisher_genes_up.rds\")"
   ]
  },
  {
   "cell_type": "markdown",
   "id": "36c275ed-c07c-40dd-bee3-a35a3ff66f80",
   "metadata": {
    "tags": []
   },
   "source": [
    "dataset.obs.to_csv(\"metadata.csv\")"
   ]
  },
  {
   "cell_type": "code",
   "execution_count": null,
   "id": "11cb22cd-183e-4598-a58e-66c97927e97f",
   "metadata": {
    "papermill": {
     "duration": 2.376064,
     "end_time": "2023-05-15T13:22:05.199571",
     "exception": false,
     "start_time": "2023-05-15T13:22:02.823507",
     "status": "completed"
    },
    "tags": []
   },
   "outputs": [],
   "source": [
    "sc.pp.filter_genes(dataset, min_cells = 5)\n",
    "sc.pp.normalize_total(dataset, target_sum = 1e4)\n",
    "sc.pp.log1p(dataset)\n",
    "\n"
   ]
  },
  {
   "cell_type": "code",
   "execution_count": null,
   "id": "b399c526-1b95-4197-8236-20f8ad7d9565",
   "metadata": {
    "papermill": {
     "duration": 0.013848,
     "end_time": "2023-05-15T13:22:05.224887",
     "exception": false,
     "start_time": "2023-05-15T13:22:05.211039",
     "status": "completed"
    },
    "tags": []
   },
   "outputs": [],
   "source": [
    "dataset"
   ]
  },
  {
   "cell_type": "code",
   "execution_count": null,
   "id": "f2e2a6ad-4c45-4e9a-ab32-334ae559d8ab",
   "metadata": {
    "papermill": {
     "duration": 0.897851,
     "end_time": "2023-05-15T13:22:06.131898",
     "exception": false,
     "start_time": "2023-05-15T13:22:05.234047",
     "status": "completed"
    },
    "tags": []
   },
   "outputs": [],
   "source": [
    "normalized_expression = dataset.to_df()"
   ]
  },
  {
   "cell_type": "code",
   "execution_count": null,
   "id": "11e01a6b-d928-4671-8de0-0b0b97c6813f",
   "metadata": {
    "papermill": {
     "duration": 0.020486,
     "end_time": "2023-05-15T13:22:06.163489",
     "exception": false,
     "start_time": "2023-05-15T13:22:06.143003",
     "status": "completed"
    },
    "tags": []
   },
   "outputs": [],
   "source": [
    "normalized_expression[[col for col in dataset.obs.columns if \"seurat\" in col] + [\"condition\", \"batch\"]] = dataset.obs[[col for col in dataset.obs.columns if \"seurat\" in col] + [\"condition\", \"batch\"]]"
   ]
  },
  {
   "cell_type": "code",
   "execution_count": null,
   "id": "b1e461c0-3b40-4f27-b110-14c791c6f825",
   "metadata": {
    "papermill": {
     "duration": 0.067792,
     "end_time": "2023-05-15T13:22:06.239681",
     "exception": false,
     "start_time": "2023-05-15T13:22:06.171889",
     "status": "completed"
    },
    "tags": []
   },
   "outputs": [],
   "source": [
    "normalized_expression"
   ]
  },
  {
   "cell_type": "code",
   "execution_count": null,
   "id": "71ebefa9-d52c-4757-81ed-8daf8411066a",
   "metadata": {
    "tags": []
   },
   "outputs": [],
   "source": [
    "normalized_expression.to_csv(\"expression.csv\")"
   ]
  }
 ],
 "metadata": {
  "kernelspec": {
   "display_name": "py_R",
   "language": "python",
   "name": "python_r"
  },
  "language_info": {
   "codemirror_mode": {
    "name": "ipython",
    "version": 3
   },
   "file_extension": ".py",
   "mimetype": "text/x-python",
   "name": "python",
   "nbconvert_exporter": "python",
   "pygments_lexer": "ipython3",
   "version": "3.10.9"
  },
  "papermill": {
   "default_parameters": {},
   "duration": null,
   "end_time": null,
   "environment_variables": {},
   "exception": null,
   "input_path": "analysis.ipynb",
   "output_path": "analysis.ipynb",
   "parameters": {},
   "start_time": "2023-05-15T13:21:12.742499",
   "version": "2.4.0"
  }
 },
 "nbformat": 4,
 "nbformat_minor": 5
}
