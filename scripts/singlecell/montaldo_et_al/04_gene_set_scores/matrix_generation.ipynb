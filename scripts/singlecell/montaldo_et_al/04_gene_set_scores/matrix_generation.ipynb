{
 "cells": [
  {
   "cell_type": "code",
   "execution_count": null,
   "id": "7a549290-4d59-424c-9fe1-4a44ab3c0d2c",
   "metadata": {
    "tags": []
   },
   "outputs": [],
   "source": [
    "import pandas as pd\n",
    "from matplotlib import pyplot as plt\n",
    "import seaborn as sns\n",
    "import gc\n",
    "\n",
    "import scanpy as sc\n",
    "\n",
    "import os\n",
    "\n",
    "os.environ['R_HOME'] = '/gpfs/bwfor/work/ws/hd_fu399-conda/conda/envs/python_R/lib/R/'\n",
    "import anndata2ri\n",
    "import logging\n",
    "\n",
    "import rpy2.rinterface_lib.callbacks as rcb\n",
    "import rpy2.robjects as ro\n",
    "\n",
    "rcb.logger.setLevel(logging.ERROR)\n",
    "ro.pandas2ri.activate()\n",
    "anndata2ri.activate()\n",
    "\n",
    "%load_ext rpy2.ipython\n",
    "\n",
    "import pymer4\n",
    "from pymer4.models import Lmer, Lm"
   ]
  },
  {
   "cell_type": "code",
   "execution_count": null,
   "id": "c221eb2d-b34e-48f0-ae3d-877a67627b16",
   "metadata": {},
   "outputs": [],
   "source": [
    "dataset = sc.read(\"../../int_data/dataset_ucb_integrated_cell_type.h5ad\")\n",
    "for layer in [layer for layer in dataset.layers.keys() if not \"soupX\" in layer]:\n",
    "    del dataset.layers[layer]\n",
    "dataset.X = dataset.layers[\"soupX_counts\"]"
   ]
  },
  {
   "cell_type": "code",
   "execution_count": null,
   "id": "ac74000a-2c7a-4bb6-9943-0bad6dbd87e6",
   "metadata": {
    "tags": []
   },
   "outputs": [],
   "source": [
    "dataset.obs.to_csv(\"ucb_metadata.csv\")"
   ]
  },
  {
   "cell_type": "code",
   "execution_count": null,
   "id": "11a9da2a-4f40-4970-a839-536f3ff7cd89",
   "metadata": {},
   "outputs": [],
   "source": [
    "%%R -i dataset\n",
    "\n",
    "counts <- dataset@assays@data[[\"soupX_counts\"]]\n",
    "row.names(counts) <- row.names(dataset)\n",
    "colnames(counts) <- colnames(dataset)\n",
    "\n",
    "saveRDS(counts, \"ucb_count_matrix.rds\")"
   ]
  },
  {
   "cell_type": "code",
   "execution_count": null,
   "id": "24f324d0-e9a9-4e34-8a7f-2400d6126d11",
   "metadata": {},
   "outputs": [],
   "source": [
    "dataset = sc.read(\"../../int_data/dataset_gcsf_integrated_cell_type.h5ad\")\n",
    "for layer in [layer for layer in dataset.layers.keys() if not \"soupX\" in layer]:\n",
    "    del dataset.layers[layer]\n",
    "dataset.X = dataset.layers[\"soupX_counts\"]\n",
    "\n",
    "dataset.obs.to_csv(\"gcsf_metadata.csv\")"
   ]
  },
  {
   "cell_type": "code",
   "execution_count": null,
   "id": "c4038355-e57c-4cc1-86e5-6e31ecf70ec3",
   "metadata": {
    "tags": []
   },
   "outputs": [],
   "source": [
    "%%R -i dataset\n",
    "\n",
    "counts <- dataset@assays@data[[\"soupX_counts\"]]\n",
    "row.names(counts) <- row.names(dataset)\n",
    "colnames(counts) <- colnames(dataset)\n",
    "\n",
    "saveRDS(counts, \"gcsf_count_matrix.rds\")"
   ]
  }
 ],
 "metadata": {
  "kernelspec": {
   "display_name": "py_R",
   "language": "python",
   "name": "python_r"
  },
  "language_info": {
   "codemirror_mode": {
    "name": "ipython",
    "version": 3
   },
   "file_extension": ".py",
   "mimetype": "text/x-python",
   "name": "python",
   "nbconvert_exporter": "python",
   "pygments_lexer": "ipython3",
   "version": "3.10.9"
  }
 },
 "nbformat": 4,
 "nbformat_minor": 5
}
