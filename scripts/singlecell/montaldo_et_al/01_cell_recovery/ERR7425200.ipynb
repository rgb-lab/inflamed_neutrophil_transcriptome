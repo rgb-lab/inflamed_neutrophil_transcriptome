{
 "cells": [
  {
   "cell_type": "code",
   "execution_count": null,
   "id": "f87ed95b-2b67-4a5a-8fe2-47359b1dd2a9",
   "metadata": {
    "execution": {
     "iopub.execute_input": "2023-04-23T13:14:12.306311Z",
     "iopub.status.busy": "2023-04-23T13:14:12.306134Z",
     "iopub.status.idle": "2023-04-23T13:14:12.957190Z",
     "shell.execute_reply": "2023-04-23T13:14:12.956819Z"
    },
    "papermill": {
     "duration": 0.655252,
     "end_time": "2023-04-23T13:14:12.958300",
     "exception": false,
     "start_time": "2023-04-23T13:14:12.303048",
     "status": "completed"
    },
    "tags": []
   },
   "outputs": [],
   "source": [
    "import warnings\n",
    "warnings.simplefilter(action='ignore', category=FutureWarning)\n",
    "warnings.simplefilter(action='ignore', category=UserWarning)"
   ]
  },
  {
   "cell_type": "code",
   "execution_count": null,
   "id": "85161f19-b2c5-490b-8cab-c2cf9653b304",
   "metadata": {
    "execution": {
     "iopub.execute_input": "2023-04-23T13:14:12.964914Z",
     "iopub.status.busy": "2023-04-23T13:14:12.964689Z",
     "iopub.status.idle": "2023-04-23T13:14:18.898413Z",
     "shell.execute_reply": "2023-04-23T13:14:18.897944Z"
    },
    "papermill": {
     "duration": 5.938916,
     "end_time": "2023-04-23T13:14:18.899791",
     "exception": false,
     "start_time": "2023-04-23T13:14:12.960875",
     "status": "completed"
    },
    "tags": []
   },
   "outputs": [],
   "source": [
    "import gc\n",
    "import scanpy as sc\n",
    "import muon as mu\n",
    "import seaborn as sns\n",
    "import os\n",
    "import pandas as pd\n",
    "from matplotlib import pyplot as plt\n",
    "\n",
    "os.environ['R_HOME'] = '/gpfs/bwfor/work/ws/hd_fu399-conda/conda/envs/python_R/lib/R/'\n",
    "import anndata2ri\n",
    "import logging\n",
    "\n",
    "import rpy2.rinterface_lib.callbacks as rcb\n",
    "import rpy2.robjects as ro\n",
    "\n",
    "rcb.logger.setLevel(logging.ERROR)\n",
    "ro.pandas2ri.activate()\n",
    "anndata2ri.activate()\n",
    "\n",
    "%load_ext rpy2.ipython"
   ]
  },
  {
   "cell_type": "code",
   "execution_count": null,
   "id": "fc4ade78-b728-4704-9db6-45fbaab62ba1",
   "metadata": {
    "execution": {
     "iopub.execute_input": "2023-04-23T13:14:18.907337Z",
     "iopub.status.busy": "2023-04-23T13:14:18.907086Z",
     "iopub.status.idle": "2023-04-23T13:14:28.527016Z",
     "shell.execute_reply": "2023-04-23T13:14:28.526460Z"
    },
    "papermill": {
     "duration": 9.623921,
     "end_time": "2023-04-23T13:14:28.528347",
     "exception": false,
     "start_time": "2023-04-23T13:14:18.904426",
     "status": "completed"
    },
    "tags": []
   },
   "outputs": [],
   "source": [
    "%%R\n",
    "library(SoupX)\n",
    "library(Seurat)\n",
    "library(scater)\n",
    "library(scDblFinder)\n",
    "library(BiocParallel)\n",
    "library(MuDataSeurat)\n",
    "library(DropletUtils)"
   ]
  },
  {
   "cell_type": "code",
   "execution_count": null,
   "id": "611e4882-fc48-43d1-b1cd-e65e1bde0015",
   "metadata": {
    "execution": {
     "iopub.execute_input": "2023-04-23T13:14:28.536475Z",
     "iopub.status.busy": "2023-04-23T13:14:28.536313Z",
     "iopub.status.idle": "2023-04-23T13:14:28.538743Z",
     "shell.execute_reply": "2023-04-23T13:14:28.538433Z"
    },
    "papermill": {
     "duration": 0.006136,
     "end_time": "2023-04-23T13:14:28.539549",
     "exception": false,
     "start_time": "2023-04-23T13:14:28.533413",
     "status": "completed"
    },
    "tags": []
   },
   "outputs": [],
   "source": [
    "sample_name = \"ERR7425200\""
   ]
  },
  {
   "cell_type": "code",
   "execution_count": null,
   "id": "f7424d90-7690-4290-8651-1db3f9df3a35",
   "metadata": {
    "execution": {
     "iopub.execute_input": "2023-04-23T13:14:28.544427Z",
     "iopub.status.busy": "2023-04-23T13:14:28.544294Z",
     "iopub.status.idle": "2023-04-23T13:14:28.551299Z",
     "shell.execute_reply": "2023-04-23T13:14:28.550985Z"
    },
    "papermill": {
     "duration": 0.010395,
     "end_time": "2023-04-23T13:14:28.552102",
     "exception": false,
     "start_time": "2023-04-23T13:14:28.541707",
     "status": "completed"
    },
    "tags": []
   },
   "outputs": [],
   "source": [
    "metadata = pd.read_csv(\"../../metadata.csv\", index_col = 0)"
   ]
  },
  {
   "cell_type": "code",
   "execution_count": null,
   "id": "2574ecf1-bad4-4c33-8f3f-718a358727ab",
   "metadata": {
    "execution": {
     "iopub.execute_input": "2023-04-23T13:14:28.557015Z",
     "iopub.status.busy": "2023-04-23T13:14:28.556870Z",
     "iopub.status.idle": "2023-04-23T13:14:28.558934Z",
     "shell.execute_reply": "2023-04-23T13:14:28.558625Z"
    },
    "papermill": {
     "duration": 0.005435,
     "end_time": "2023-04-23T13:14:28.559707",
     "exception": false,
     "start_time": "2023-04-23T13:14:28.554272",
     "status": "completed"
    },
    "tags": []
   },
   "outputs": [],
   "source": [
    "raw_input = f\"/home/hd/hd_hd/hd_fu399/sds-hd/sd21k006/scRNAseq/revision_natcomm/montaldo_et_al/{sample_name}/{sample_name}/outs/raw_feature_bc_matrix.h5\""
   ]
  },
  {
   "cell_type": "code",
   "execution_count": null,
   "id": "e266d388-1802-435c-93a5-90067358739c",
   "metadata": {
    "execution": {
     "iopub.execute_input": "2023-04-23T13:14:28.564936Z",
     "iopub.status.busy": "2023-04-23T13:14:28.564638Z",
     "iopub.status.idle": "2023-04-23T13:14:29.496317Z",
     "shell.execute_reply": "2023-04-23T13:14:29.495871Z"
    },
    "papermill": {
     "duration": 0.935347,
     "end_time": "2023-04-23T13:14:29.497271",
     "exception": false,
     "start_time": "2023-04-23T13:14:28.561924",
     "status": "completed"
    },
    "tags": []
   },
   "outputs": [],
   "source": [
    "dataset = sc.read_10x_h5(raw_input)\n",
    "dataset.var_names_make_unique()\n",
    "dataset.obs_names_make_unique()\n",
    "\n",
    "dataset.layers[\"raw_counts\"] = dataset.X.copy()\n",
    "data_tod = dataset.layers[\"raw_counts\"].T.copy()\n",
    "\n",
    "dataset"
   ]
  },
  {
   "cell_type": "code",
   "execution_count": null,
   "id": "af9f5892-ed31-42a6-991b-4e096f582cef",
   "metadata": {
    "execution": {
     "iopub.execute_input": "2023-04-23T13:14:29.503317Z",
     "iopub.status.busy": "2023-04-23T13:14:29.503161Z",
     "iopub.status.idle": "2023-04-23T13:14:29.599526Z",
     "shell.execute_reply": "2023-04-23T13:14:29.599053Z"
    },
    "papermill": {
     "duration": 0.100721,
     "end_time": "2023-04-23T13:14:29.600868",
     "exception": false,
     "start_time": "2023-04-23T13:14:29.500147",
     "status": "completed"
    },
    "tags": []
   },
   "outputs": [],
   "source": [
    "sce = dataset.copy()"
   ]
  },
  {
   "cell_type": "code",
   "execution_count": null,
   "id": "d03f2caf-8e74-430e-b045-0ab80401d165",
   "metadata": {
    "execution": {
     "iopub.execute_input": "2023-04-23T13:14:29.606802Z",
     "iopub.status.busy": "2023-04-23T13:14:29.606615Z",
     "iopub.status.idle": "2023-04-23T13:15:36.856648Z",
     "shell.execute_reply": "2023-04-23T13:15:36.856042Z"
    },
    "papermill": {
     "duration": 67.254308,
     "end_time": "2023-04-23T13:15:36.858079",
     "exception": false,
     "start_time": "2023-04-23T13:14:29.603771",
     "status": "completed"
    },
    "tags": []
   },
   "outputs": [],
   "source": [
    "%%R -i sce -o empty_drop_output\n",
    "set.seed(187)\n",
    "empty_drop_output <- emptyDrops(assay(sce))"
   ]
  },
  {
   "cell_type": "code",
   "execution_count": null,
   "id": "2a34a54b-3ae2-44d6-8679-8769228c5b66",
   "metadata": {
    "execution": {
     "iopub.execute_input": "2023-04-23T13:15:36.868509Z",
     "iopub.status.busy": "2023-04-23T13:15:36.868328Z",
     "iopub.status.idle": "2023-04-23T13:15:36.960121Z",
     "shell.execute_reply": "2023-04-23T13:15:36.959733Z"
    },
    "papermill": {
     "duration": 0.096052,
     "end_time": "2023-04-23T13:15:36.961030",
     "exception": false,
     "start_time": "2023-04-23T13:15:36.864978",
     "status": "completed"
    },
    "tags": []
   },
   "outputs": [],
   "source": [
    "non_empty_barcodes = empty_drop_output[empty_drop_output[\"FDR\"] < 0.001].index\n",
    "dataset = dataset[dataset.obs.index.isin(non_empty_barcodes), :]\n",
    "dataset"
   ]
  },
  {
   "cell_type": "code",
   "execution_count": null,
   "id": "016a91e5-1bef-46fb-b91e-4fb9a6870c44",
   "metadata": {
    "execution": {
     "iopub.execute_input": "2023-04-23T13:15:36.966856Z",
     "iopub.status.busy": "2023-04-23T13:15:36.966693Z",
     "iopub.status.idle": "2023-04-23T13:17:06.601360Z",
     "shell.execute_reply": "2023-04-23T13:17:06.600724Z"
    },
    "papermill": {
     "duration": 89.639131,
     "end_time": "2023-04-23T13:17:06.602804",
     "exception": false,
     "start_time": "2023-04-23T13:15:36.963673",
     "status": "completed"
    },
    "tags": []
   },
   "outputs": [],
   "source": [
    "rna_assay = dataset.copy()\n",
    "sc.pp.normalize_per_cell(rna_assay)\n",
    "sc.pp.log1p(rna_assay)\n",
    "sc.pp.pca(rna_assay)\n",
    "sc.pp.neighbors(rna_assay)\n",
    "sc.tl.leiden(rna_assay, key_added=\"soupx_groups\")\n",
    "\n",
    "soupx_groups = rna_assay.obs[\"soupx_groups\"]\n",
    "\n",
    "del rna_assay\n",
    "\n",
    "genes = dataset.var_names\n",
    "cells = dataset.obs_names\n",
    "data = dataset.X.T.copy()"
   ]
  },
  {
   "cell_type": "code",
   "execution_count": null,
   "id": "9db4ea1f-1580-4f43-a3f0-86002397cd98",
   "metadata": {
    "execution": {
     "iopub.execute_input": "2023-04-23T13:17:06.614891Z",
     "iopub.status.busy": "2023-04-23T13:17:06.614701Z",
     "iopub.status.idle": "2023-04-23T13:17:29.799484Z",
     "shell.execute_reply": "2023-04-23T13:17:29.798879Z"
    },
    "papermill": {
     "duration": 23.190074,
     "end_time": "2023-04-23T13:17:29.800886",
     "exception": false,
     "start_time": "2023-04-23T13:17:06.610812",
     "status": "completed"
    },
    "tags": []
   },
   "outputs": [],
   "source": [
    "%%R -i data -i data_tod -i genes -i cells -i soupx_groups -o out \n",
    "set.seed(187)\n",
    "# specify row and column names of data\n",
    "rownames(data) = genes\n",
    "colnames(data) = cells\n",
    "# ensure correct sparse format for table of counts and table of droplets\n",
    "data <- as(data, \"sparseMatrix\")\n",
    "data_tod <- as(data_tod, \"sparseMatrix\")\n",
    "\n",
    "# Generate SoupChannel Object for SoupX \n",
    "sc = SoupChannel(data_tod, data, calcSoupProfile = FALSE)\n",
    "\n",
    "# Add extra meta data to the SoupChannel object\n",
    "soupProf = data.frame(row.names = rownames(data),\n",
    "                      est = rowSums(data)/sum(data),\n",
    "                      counts = rowSums(data))\n",
    "sc = setSoupProfile(sc, soupProf)\n",
    "# Set cluster information in SoupChannel\n",
    "sc = setClusters(sc, soupx_groups)\n",
    "\n",
    "# Estimate contamination fraction\n",
    "sc  = autoEstCont(sc, doPlot=FALSE, forceAccept = TRUE)\n",
    "# Infer corrected table of counts and rount to integer\n",
    "out = adjustCounts(sc, roundToInt = TRUE)"
   ]
  },
  {
   "cell_type": "code",
   "execution_count": null,
   "id": "32555d5e-5fa3-46dd-a4e0-ddc96ea265e2",
   "metadata": {
    "execution": {
     "iopub.execute_input": "2023-04-23T13:17:29.811156Z",
     "iopub.status.busy": "2023-04-23T13:17:29.810950Z",
     "iopub.status.idle": "2023-04-23T13:17:29.886519Z",
     "shell.execute_reply": "2023-04-23T13:17:29.886061Z"
    },
    "papermill": {
     "duration": 0.080552,
     "end_time": "2023-04-23T13:17:29.887981",
     "exception": false,
     "start_time": "2023-04-23T13:17:29.807429",
     "status": "completed"
    },
    "tags": []
   },
   "outputs": [],
   "source": [
    "dataset.layers[\"soupX_counts\"] = out.T\n",
    "dataset.X = dataset.layers[\"soupX_counts\"].copy()"
   ]
  },
  {
   "cell_type": "code",
   "execution_count": null,
   "id": "e27da7df-e094-4d2a-9109-5a363e012175",
   "metadata": {
    "execution": {
     "iopub.execute_input": "2023-04-23T13:17:29.894608Z",
     "iopub.status.busy": "2023-04-23T13:17:29.894379Z",
     "iopub.status.idle": "2023-04-23T13:17:29.897215Z",
     "shell.execute_reply": "2023-04-23T13:17:29.896866Z"
    },
    "papermill": {
     "duration": 0.006909,
     "end_time": "2023-04-23T13:17:29.898024",
     "exception": false,
     "start_time": "2023-04-23T13:17:29.891115",
     "status": "completed"
    },
    "tags": []
   },
   "outputs": [],
   "source": [
    "data_mat = dataset.X.T"
   ]
  },
  {
   "cell_type": "code",
   "execution_count": null,
   "id": "80a993b1-5ccb-4697-9187-1beb7ab8aff9",
   "metadata": {
    "execution": {
     "iopub.execute_input": "2023-04-23T13:17:29.904206Z",
     "iopub.status.busy": "2023-04-23T13:17:29.904029Z",
     "iopub.status.idle": "2023-04-23T13:18:24.277461Z",
     "shell.execute_reply": "2023-04-23T13:18:24.276921Z"
    },
    "papermill": {
     "duration": 54.378285,
     "end_time": "2023-04-23T13:18:24.278897",
     "exception": false,
     "start_time": "2023-04-23T13:17:29.900612",
     "status": "completed"
    },
    "tags": []
   },
   "outputs": [],
   "source": [
    "%%R -i data_mat -o droplet_class\n",
    "\n",
    "set.seed(187)\n",
    "sce = scDblFinder(\n",
    "    SingleCellExperiment(\n",
    "        list(counts=data_mat),\n",
    "    ) \n",
    ")\n",
    "droplet_class = sce$scDblFinder.class"
   ]
  },
  {
   "cell_type": "code",
   "execution_count": null,
   "id": "d4dd6e9d-fcf2-41fc-8457-c8e0a3cb2c71",
   "metadata": {
    "execution": {
     "iopub.execute_input": "2023-04-23T13:18:24.287590Z",
     "iopub.status.busy": "2023-04-23T13:18:24.287415Z",
     "iopub.status.idle": "2023-04-23T13:18:24.292565Z",
     "shell.execute_reply": "2023-04-23T13:18:24.292235Z"
    },
    "papermill": {
     "duration": 0.009506,
     "end_time": "2023-04-23T13:18:24.293367",
     "exception": false,
     "start_time": "2023-04-23T13:18:24.283861",
     "status": "completed"
    },
    "tags": []
   },
   "outputs": [],
   "source": [
    "dataset.obs[\"scDblFinder_class\"] = droplet_class\n",
    "dataset.obs.scDblFinder_class.value_counts()\n",
    "dataset"
   ]
  },
  {
   "cell_type": "code",
   "execution_count": null,
   "id": "28c95014-2d6c-477f-95cb-9f9f0507520c",
   "metadata": {
    "execution": {
     "iopub.execute_input": "2023-04-23T13:18:24.299427Z",
     "iopub.status.busy": "2023-04-23T13:18:24.299264Z",
     "iopub.status.idle": "2023-04-23T13:18:24.306110Z",
     "shell.execute_reply": "2023-04-23T13:18:24.305791Z"
    },
    "papermill": {
     "duration": 0.010814,
     "end_time": "2023-04-23T13:18:24.306885",
     "exception": false,
     "start_time": "2023-04-23T13:18:24.296071",
     "status": "completed"
    },
    "tags": []
   },
   "outputs": [],
   "source": [
    "dataset = dataset[dataset.obs[\"scDblFinder_class\"] == 1]"
   ]
  },
  {
   "cell_type": "code",
   "execution_count": null,
   "id": "3e22f9e0-bfcb-416c-a151-a9bca3bec3b9",
   "metadata": {
    "execution": {
     "iopub.execute_input": "2023-04-23T13:18:24.313131Z",
     "iopub.status.busy": "2023-04-23T13:18:24.312900Z",
     "iopub.status.idle": "2023-04-23T13:18:24.595280Z",
     "shell.execute_reply": "2023-04-23T13:18:24.594832Z"
    },
    "papermill": {
     "duration": 0.286631,
     "end_time": "2023-04-23T13:18:24.596245",
     "exception": false,
     "start_time": "2023-04-23T13:18:24.309614",
     "status": "completed"
    },
    "tags": []
   },
   "outputs": [],
   "source": [
    "# mitochondrial genes\n",
    "dataset.var[\"mt\"] = dataset.var_names.str.startswith(\"MT-\")\n",
    "# ribosomal genes\n",
    "dataset.var[\"ribo\"] = dataset.var_names.str.startswith((\"RPS\", \"RPL\"))\n",
    "# hemoglobin genes.\n",
    "dataset.var[\"hb\"] = dataset.var_names.str.contains((\"^HB[^(P)]\"))\n",
    "\n",
    "sc.pp.calculate_qc_metrics(dataset,\n",
    "                           qc_vars=['mt', 'ribo', 'hb'],\n",
    "                           percent_top=None,\n",
    "                           log1p=False,\n",
    "                           inplace=True)\n",
    "dataset"
   ]
  },
  {
   "cell_type": "code",
   "execution_count": null,
   "id": "34deee79-4043-428f-8575-aa57b45f6369",
   "metadata": {
    "execution": {
     "iopub.execute_input": "2023-04-23T13:18:24.603149Z",
     "iopub.status.busy": "2023-04-23T13:18:24.602990Z",
     "iopub.status.idle": "2023-04-23T13:18:25.231405Z",
     "shell.execute_reply": "2023-04-23T13:18:25.231011Z"
    },
    "papermill": {
     "duration": 0.632932,
     "end_time": "2023-04-23T13:18:25.232587",
     "exception": false,
     "start_time": "2023-04-23T13:18:24.599655",
     "status": "completed"
    },
    "tags": []
   },
   "outputs": [],
   "source": [
    "fig, ax = plt.subplots(ncols = 4, figsize = (16,4))\n",
    "axis = sc.pl.violin(dataset, \"n_genes_by_counts\", jitter = 0.4, ax = ax[0], show = False)\n",
    "axis.grid(False)\n",
    "axis.set_title(\"Unique Genes per cell\")\n",
    "axis.tick_params(axis = \"x\", bottom =False, labelbottom =False)\n",
    "axis.set_ylabel(\"# genes\")\n",
    "axis.axhline(y = 250, color = \"black\", label = \"cutoff\")\n",
    "axis.legend(fontsize = 14, loc = \"upper right\")\n",
    "\n",
    "axis = sc.pl.violin(dataset, \"pct_counts_mt\", jitter = 0.4, ax = ax[1], show = False)\n",
    "axis.grid(False)\n",
    "axis.set_title(\"Mitochondrial Fraction\")\n",
    "axis.tick_params(axis = \"x\", bottom =False, labelbottom =False)\n",
    "axis.set_ylabel(\"% mitochondrial genes\")\n",
    "axis.axhline(y = 10, color = \"black\", label = \"cutoff\")\n",
    "axis.legend(fontsize = 14, loc = \"upper right\")\n",
    "\n",
    "axis = sc.pl.violin(dataset, \"pct_counts_hb\", jitter = 0.4, ax = ax[2], show = False, size =2)\n",
    "axis.grid(False)\n",
    "axis.set_title(\"Hemoglobin Fraction\")\n",
    "axis.tick_params(axis = \"x\", bottom =False, labelbottom =False)\n",
    "axis.set_ylabel(\"% hemoglobin genes\")\n",
    "axis.axhline(y = 1, color = \"black\", label = \"cutoff\")\n",
    "axis.legend(fontsize = 14, loc = \"upper right\")\n",
    "#axis.set_ylim(0,5)\n",
    "\n",
    "axis = sc.pl.violin(dataset, \"pct_counts_ribo\", jitter = 0.4, ax = ax[3], show = False)\n",
    "axis.grid(False)\n",
    "axis.set_title(\"Ribosomal Fraction\")\n",
    "axis.tick_params(axis = \"x\", bottom =False, labelbottom =False)\n",
    "axis.set_ylabel(\"% ribosome genes\")\n",
    "\n",
    "plt.tight_layout()\n",
    "#plt.savefig(f\"{outputDir}08_gene_based_filtering.pdf\", dpi = 300)\n",
    "plt.show()\n",
    "\n"
   ]
  },
  {
   "cell_type": "code",
   "execution_count": null,
   "id": "d7ade754-843e-4840-8707-426613d8c0c5",
   "metadata": {
    "execution": {
     "iopub.execute_input": "2023-04-23T13:18:25.241608Z",
     "iopub.status.busy": "2023-04-23T13:18:25.241436Z",
     "iopub.status.idle": "2023-04-23T13:18:25.253433Z",
     "shell.execute_reply": "2023-04-23T13:18:25.253115Z"
    },
    "papermill": {
     "duration": 0.01729,
     "end_time": "2023-04-23T13:18:25.254229",
     "exception": false,
     "start_time": "2023-04-23T13:18:25.236939",
     "status": "completed"
    },
    "tags": []
   },
   "outputs": [],
   "source": [
    "dataset = dataset[dataset.obs.pct_counts_mt < 10, :]\n",
    "dataset = dataset[dataset.obs.n_genes_by_counts > 250, :]\n",
    "dataset = dataset[dataset.obs.pct_counts_hb < 1, :]\n",
    "dataset"
   ]
  },
  {
   "cell_type": "code",
   "execution_count": null,
   "id": "2e0ff8c3-2aa9-4a01-9b88-5912a6734447",
   "metadata": {
    "execution": {
     "iopub.execute_input": "2023-04-23T13:18:25.263094Z",
     "iopub.status.busy": "2023-04-23T13:18:25.262837Z",
     "iopub.status.idle": "2023-04-23T13:18:25.356483Z",
     "shell.execute_reply": "2023-04-23T13:18:25.356066Z"
    },
    "papermill": {
     "duration": 0.099349,
     "end_time": "2023-04-23T13:18:25.357642",
     "exception": false,
     "start_time": "2023-04-23T13:18:25.258293",
     "status": "completed"
    },
    "tags": []
   },
   "outputs": [],
   "source": [
    "for col in metadata.columns:\n",
    "    dataset.obs[col] = metadata.loc[(metadata[\"ENA_RUN\"] == sample_name) & (metadata[\"read_index\"] == \"read1\"), col].to_list()[0]"
   ]
  },
  {
   "cell_type": "code",
   "execution_count": null,
   "id": "b84578d3-d63e-419c-a272-a0b8317d05ab",
   "metadata": {
    "execution": {
     "iopub.execute_input": "2023-04-23T13:18:25.367216Z",
     "iopub.status.busy": "2023-04-23T13:18:25.367028Z",
     "iopub.status.idle": "2023-04-23T13:18:25.652510Z",
     "shell.execute_reply": "2023-04-23T13:18:25.652049Z"
    },
    "papermill": {
     "duration": 0.291375,
     "end_time": "2023-04-23T13:18:25.653628",
     "exception": false,
     "start_time": "2023-04-23T13:18:25.362253",
     "status": "completed"
    },
    "tags": []
   },
   "outputs": [],
   "source": [
    "dataset.write(f\"../../int_data/{sample_name}_qc.h5ad\")"
   ]
  }
 ],
 "metadata": {
  "kernelspec": {
   "display_name": "py_R",
   "language": "python",
   "name": "python_r"
  },
  "language_info": {
   "codemirror_mode": {
    "name": "ipython",
    "version": 3
   },
   "file_extension": ".py",
   "mimetype": "text/x-python",
   "name": "python",
   "nbconvert_exporter": "python",
   "pygments_lexer": "ipython3",
   "version": "3.10.9"
  },
  "papermill": {
   "default_parameters": {},
   "duration": 258.892048,
   "end_time": "2023-04-23T13:18:27.577243",
   "environment_variables": {},
   "exception": null,
   "input_path": "ERR7425200.ipynb",
   "output_path": "ERR7425200.ipynb",
   "parameters": {},
   "start_time": "2023-04-23T13:14:08.685195",
   "version": "2.4.0"
  }
 },
 "nbformat": 4,
 "nbformat_minor": 5
}
