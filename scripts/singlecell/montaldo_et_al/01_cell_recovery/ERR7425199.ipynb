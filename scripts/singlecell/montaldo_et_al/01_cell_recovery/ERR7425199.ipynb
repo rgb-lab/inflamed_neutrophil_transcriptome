{
 "cells": [
  {
   "cell_type": "code",
   "execution_count": null,
   "id": "f87ed95b-2b67-4a5a-8fe2-47359b1dd2a9",
   "metadata": {
    "execution": {
     "iopub.execute_input": "2023-04-23T13:10:30.725730Z",
     "iopub.status.busy": "2023-04-23T13:10:30.725566Z",
     "iopub.status.idle": "2023-04-23T13:10:30.730239Z",
     "shell.execute_reply": "2023-04-23T13:10:30.729925Z"
    },
    "papermill": {
     "duration": 0.008845,
     "end_time": "2023-04-23T13:10:30.731284",
     "exception": false,
     "start_time": "2023-04-23T13:10:30.722439",
     "status": "completed"
    },
    "tags": []
   },
   "outputs": [],
   "source": [
    "import warnings\n",
    "warnings.simplefilter(action='ignore', category=FutureWarning)\n",
    "warnings.simplefilter(action='ignore', category=UserWarning)"
   ]
  },
  {
   "cell_type": "code",
   "execution_count": null,
   "id": "85161f19-b2c5-490b-8cab-c2cf9653b304",
   "metadata": {
    "execution": {
     "iopub.execute_input": "2023-04-23T13:10:30.736837Z",
     "iopub.status.busy": "2023-04-23T13:10:30.736629Z",
     "iopub.status.idle": "2023-04-23T13:10:34.733823Z",
     "shell.execute_reply": "2023-04-23T13:10:34.733360Z"
    },
    "papermill": {
     "duration": 4.001194,
     "end_time": "2023-04-23T13:10:34.735258",
     "exception": false,
     "start_time": "2023-04-23T13:10:30.734064",
     "status": "completed"
    },
    "tags": []
   },
   "outputs": [],
   "source": [
    "import gc\n",
    "import scanpy as sc\n",
    "import muon as mu\n",
    "import seaborn as sns\n",
    "import os\n",
    "import pandas as pd\n",
    "from matplotlib import pyplot as plt\n",
    "\n",
    "os.environ['R_HOME'] = '/gpfs/bwfor/work/ws/hd_fu399-conda/conda/envs/python_R/lib/R/'\n",
    "import anndata2ri\n",
    "import logging\n",
    "\n",
    "import rpy2.rinterface_lib.callbacks as rcb\n",
    "import rpy2.robjects as ro\n",
    "\n",
    "rcb.logger.setLevel(logging.ERROR)\n",
    "ro.pandas2ri.activate()\n",
    "anndata2ri.activate()\n",
    "\n",
    "%load_ext rpy2.ipython"
   ]
  },
  {
   "cell_type": "code",
   "execution_count": null,
   "id": "fc4ade78-b728-4704-9db6-45fbaab62ba1",
   "metadata": {
    "execution": {
     "iopub.execute_input": "2023-04-23T13:10:34.744556Z",
     "iopub.status.busy": "2023-04-23T13:10:34.744262Z",
     "iopub.status.idle": "2023-04-23T13:10:44.191446Z",
     "shell.execute_reply": "2023-04-23T13:10:44.190901Z"
    },
    "papermill": {
     "duration": 9.451393,
     "end_time": "2023-04-23T13:10:44.192815",
     "exception": false,
     "start_time": "2023-04-23T13:10:34.741422",
     "status": "completed"
    },
    "tags": []
   },
   "outputs": [],
   "source": [
    "%%R\n",
    "library(SoupX)\n",
    "library(Seurat)\n",
    "library(scater)\n",
    "library(scDblFinder)\n",
    "library(BiocParallel)\n",
    "library(MuDataSeurat)\n",
    "library(DropletUtils)"
   ]
  },
  {
   "cell_type": "code",
   "execution_count": null,
   "id": "611e4882-fc48-43d1-b1cd-e65e1bde0015",
   "metadata": {
    "execution": {
     "iopub.execute_input": "2023-04-23T13:10:44.200412Z",
     "iopub.status.busy": "2023-04-23T13:10:44.200262Z",
     "iopub.status.idle": "2023-04-23T13:10:44.202722Z",
     "shell.execute_reply": "2023-04-23T13:10:44.202409Z"
    },
    "papermill": {
     "duration": 0.0062,
     "end_time": "2023-04-23T13:10:44.203497",
     "exception": false,
     "start_time": "2023-04-23T13:10:44.197297",
     "status": "completed"
    },
    "tags": []
   },
   "outputs": [],
   "source": [
    "sample_name = \"ERR7425199\""
   ]
  },
  {
   "cell_type": "code",
   "execution_count": null,
   "id": "f7424d90-7690-4290-8651-1db3f9df3a35",
   "metadata": {
    "execution": {
     "iopub.execute_input": "2023-04-23T13:10:44.208453Z",
     "iopub.status.busy": "2023-04-23T13:10:44.208326Z",
     "iopub.status.idle": "2023-04-23T13:10:44.215115Z",
     "shell.execute_reply": "2023-04-23T13:10:44.214789Z"
    },
    "papermill": {
     "duration": 0.010154,
     "end_time": "2023-04-23T13:10:44.215885",
     "exception": false,
     "start_time": "2023-04-23T13:10:44.205731",
     "status": "completed"
    },
    "tags": []
   },
   "outputs": [],
   "source": [
    "metadata = pd.read_csv(\"../../metadata.csv\", index_col = 0)"
   ]
  },
  {
   "cell_type": "code",
   "execution_count": null,
   "id": "2574ecf1-bad4-4c33-8f3f-718a358727ab",
   "metadata": {
    "execution": {
     "iopub.execute_input": "2023-04-23T13:10:44.220870Z",
     "iopub.status.busy": "2023-04-23T13:10:44.220739Z",
     "iopub.status.idle": "2023-04-23T13:10:44.222813Z",
     "shell.execute_reply": "2023-04-23T13:10:44.222504Z"
    },
    "papermill": {
     "duration": 0.005463,
     "end_time": "2023-04-23T13:10:44.223575",
     "exception": false,
     "start_time": "2023-04-23T13:10:44.218112",
     "status": "completed"
    },
    "tags": []
   },
   "outputs": [],
   "source": [
    "raw_input = f\"/home/hd/hd_hd/hd_fu399/sds-hd/sd21k006/scRNAseq/revision_natcomm/montaldo_et_al/{sample_name}/{sample_name}/outs/raw_feature_bc_matrix.h5\""
   ]
  },
  {
   "cell_type": "code",
   "execution_count": null,
   "id": "e266d388-1802-435c-93a5-90067358739c",
   "metadata": {
    "execution": {
     "iopub.execute_input": "2023-04-23T13:10:44.228755Z",
     "iopub.status.busy": "2023-04-23T13:10:44.228517Z",
     "iopub.status.idle": "2023-04-23T13:10:44.959023Z",
     "shell.execute_reply": "2023-04-23T13:10:44.958583Z"
    },
    "papermill": {
     "duration": 0.734136,
     "end_time": "2023-04-23T13:10:44.959964",
     "exception": false,
     "start_time": "2023-04-23T13:10:44.225828",
     "status": "completed"
    },
    "tags": []
   },
   "outputs": [],
   "source": [
    "dataset = sc.read_10x_h5(raw_input)\n",
    "dataset.var_names_make_unique()\n",
    "dataset.obs_names_make_unique()\n",
    "\n",
    "dataset.layers[\"raw_counts\"] = dataset.X.copy()\n",
    "data_tod = dataset.layers[\"raw_counts\"].T.copy()\n",
    "\n",
    "dataset"
   ]
  },
  {
   "cell_type": "code",
   "execution_count": null,
   "id": "af9f5892-ed31-42a6-991b-4e096f582cef",
   "metadata": {
    "execution": {
     "iopub.execute_input": "2023-04-23T13:10:44.965938Z",
     "iopub.status.busy": "2023-04-23T13:10:44.965778Z",
     "iopub.status.idle": "2023-04-23T13:10:45.052610Z",
     "shell.execute_reply": "2023-04-23T13:10:45.052140Z"
    },
    "papermill": {
     "duration": 0.091023,
     "end_time": "2023-04-23T13:10:45.053921",
     "exception": false,
     "start_time": "2023-04-23T13:10:44.962898",
     "status": "completed"
    },
    "tags": []
   },
   "outputs": [],
   "source": [
    "sce = dataset.copy()"
   ]
  },
  {
   "cell_type": "code",
   "execution_count": null,
   "id": "d03f2caf-8e74-430e-b045-0ab80401d165",
   "metadata": {
    "execution": {
     "iopub.execute_input": "2023-04-23T13:10:45.059987Z",
     "iopub.status.busy": "2023-04-23T13:10:45.059697Z",
     "iopub.status.idle": "2023-04-23T13:11:38.983824Z",
     "shell.execute_reply": "2023-04-23T13:11:38.983214Z"
    },
    "papermill": {
     "duration": 53.928393,
     "end_time": "2023-04-23T13:11:38.985177",
     "exception": false,
     "start_time": "2023-04-23T13:10:45.056784",
     "status": "completed"
    },
    "tags": []
   },
   "outputs": [],
   "source": [
    "%%R -i sce -o empty_drop_output\n",
    "set.seed(187)\n",
    "empty_drop_output <- emptyDrops(assay(sce))"
   ]
  },
  {
   "cell_type": "code",
   "execution_count": null,
   "id": "2a34a54b-3ae2-44d6-8679-8769228c5b66",
   "metadata": {
    "execution": {
     "iopub.execute_input": "2023-04-23T13:11:38.993466Z",
     "iopub.status.busy": "2023-04-23T13:11:38.993317Z",
     "iopub.status.idle": "2023-04-23T13:11:39.061352Z",
     "shell.execute_reply": "2023-04-23T13:11:39.061016Z"
    },
    "papermill": {
     "duration": 0.072053,
     "end_time": "2023-04-23T13:11:39.062196",
     "exception": false,
     "start_time": "2023-04-23T13:11:38.990143",
     "status": "completed"
    },
    "tags": []
   },
   "outputs": [],
   "source": [
    "non_empty_barcodes = empty_drop_output[empty_drop_output[\"FDR\"] < 0.001].index\n",
    "dataset = dataset[dataset.obs.index.isin(non_empty_barcodes), :]\n",
    "dataset"
   ]
  },
  {
   "cell_type": "code",
   "execution_count": null,
   "id": "016a91e5-1bef-46fb-b91e-4fb9a6870c44",
   "metadata": {
    "execution": {
     "iopub.execute_input": "2023-04-23T13:11:39.067978Z",
     "iopub.status.busy": "2023-04-23T13:11:39.067804Z",
     "iopub.status.idle": "2023-04-23T13:13:05.096226Z",
     "shell.execute_reply": "2023-04-23T13:13:05.095610Z"
    },
    "papermill": {
     "duration": 86.032801,
     "end_time": "2023-04-23T13:13:05.097606",
     "exception": false,
     "start_time": "2023-04-23T13:11:39.064805",
     "status": "completed"
    },
    "tags": []
   },
   "outputs": [],
   "source": [
    "rna_assay = dataset.copy()\n",
    "sc.pp.normalize_per_cell(rna_assay)\n",
    "sc.pp.log1p(rna_assay)\n",
    "sc.pp.pca(rna_assay)\n",
    "sc.pp.neighbors(rna_assay)\n",
    "sc.tl.leiden(rna_assay, key_added=\"soupx_groups\")\n",
    "\n",
    "soupx_groups = rna_assay.obs[\"soupx_groups\"]\n",
    "\n",
    "del rna_assay\n",
    "\n",
    "genes = dataset.var_names\n",
    "cells = dataset.obs_names\n",
    "data = dataset.X.T.copy()"
   ]
  },
  {
   "cell_type": "code",
   "execution_count": null,
   "id": "9db4ea1f-1580-4f43-a3f0-86002397cd98",
   "metadata": {
    "execution": {
     "iopub.execute_input": "2023-04-23T13:13:05.106128Z",
     "iopub.status.busy": "2023-04-23T13:13:05.105916Z",
     "iopub.status.idle": "2023-04-23T13:13:23.727649Z",
     "shell.execute_reply": "2023-04-23T13:13:23.727051Z"
    },
    "papermill": {
     "duration": 18.626558,
     "end_time": "2023-04-23T13:13:23.729024",
     "exception": false,
     "start_time": "2023-04-23T13:13:05.102466",
     "status": "completed"
    },
    "tags": []
   },
   "outputs": [],
   "source": [
    "%%R -i data -i data_tod -i genes -i cells -i soupx_groups -o out \n",
    "set.seed(187)\n",
    "# specify row and column names of data\n",
    "rownames(data) = genes\n",
    "colnames(data) = cells\n",
    "# ensure correct sparse format for table of counts and table of droplets\n",
    "data <- as(data, \"sparseMatrix\")\n",
    "data_tod <- as(data_tod, \"sparseMatrix\")\n",
    "\n",
    "# Generate SoupChannel Object for SoupX \n",
    "sc = SoupChannel(data_tod, data, calcSoupProfile = FALSE)\n",
    "\n",
    "# Add extra meta data to the SoupChannel object\n",
    "soupProf = data.frame(row.names = rownames(data),\n",
    "                      est = rowSums(data)/sum(data),\n",
    "                      counts = rowSums(data))\n",
    "sc = setSoupProfile(sc, soupProf)\n",
    "# Set cluster information in SoupChannel\n",
    "sc = setClusters(sc, soupx_groups)\n",
    "\n",
    "# Estimate contamination fraction\n",
    "sc  = autoEstCont(sc, doPlot=FALSE, forceAccept = TRUE)\n",
    "# Infer corrected table of counts and rount to integer\n",
    "out = adjustCounts(sc, roundToInt = TRUE)"
   ]
  },
  {
   "cell_type": "code",
   "execution_count": null,
   "id": "32555d5e-5fa3-46dd-a4e0-ddc96ea265e2",
   "metadata": {
    "execution": {
     "iopub.execute_input": "2023-04-23T13:13:23.737925Z",
     "iopub.status.busy": "2023-04-23T13:13:23.737740Z",
     "iopub.status.idle": "2023-04-23T13:13:23.780059Z",
     "shell.execute_reply": "2023-04-23T13:13:23.779576Z"
    },
    "papermill": {
     "duration": 0.046948,
     "end_time": "2023-04-23T13:13:23.781436",
     "exception": false,
     "start_time": "2023-04-23T13:13:23.734488",
     "status": "completed"
    },
    "tags": []
   },
   "outputs": [],
   "source": [
    "dataset.layers[\"soupX_counts\"] = out.T\n",
    "dataset.X = dataset.layers[\"soupX_counts\"].copy()"
   ]
  },
  {
   "cell_type": "code",
   "execution_count": null,
   "id": "e27da7df-e094-4d2a-9109-5a363e012175",
   "metadata": {
    "execution": {
     "iopub.execute_input": "2023-04-23T13:13:23.787973Z",
     "iopub.status.busy": "2023-04-23T13:13:23.787644Z",
     "iopub.status.idle": "2023-04-23T13:13:23.790179Z",
     "shell.execute_reply": "2023-04-23T13:13:23.789836Z"
    },
    "papermill": {
     "duration": 0.006474,
     "end_time": "2023-04-23T13:13:23.790982",
     "exception": false,
     "start_time": "2023-04-23T13:13:23.784508",
     "status": "completed"
    },
    "tags": []
   },
   "outputs": [],
   "source": [
    "data_mat = dataset.X.T"
   ]
  },
  {
   "cell_type": "code",
   "execution_count": null,
   "id": "80a993b1-5ccb-4697-9187-1beb7ab8aff9",
   "metadata": {
    "execution": {
     "iopub.execute_input": "2023-04-23T13:13:23.796849Z",
     "iopub.status.busy": "2023-04-23T13:13:23.796714Z",
     "iopub.status.idle": "2023-04-23T13:14:04.565572Z",
     "shell.execute_reply": "2023-04-23T13:14:04.564971Z"
    },
    "papermill": {
     "duration": 40.773262,
     "end_time": "2023-04-23T13:14:04.566794",
     "exception": false,
     "start_time": "2023-04-23T13:13:23.793532",
     "status": "completed"
    },
    "tags": []
   },
   "outputs": [],
   "source": [
    "%%R -i data_mat -o droplet_class\n",
    "\n",
    "set.seed(187)\n",
    "sce = scDblFinder(\n",
    "    SingleCellExperiment(\n",
    "        list(counts=data_mat),\n",
    "    ) \n",
    ")\n",
    "droplet_class = sce$scDblFinder.class"
   ]
  },
  {
   "cell_type": "code",
   "execution_count": null,
   "id": "d4dd6e9d-fcf2-41fc-8457-c8e0a3cb2c71",
   "metadata": {
    "execution": {
     "iopub.execute_input": "2023-04-23T13:14:04.575179Z",
     "iopub.status.busy": "2023-04-23T13:14:04.574871Z",
     "iopub.status.idle": "2023-04-23T13:14:04.579857Z",
     "shell.execute_reply": "2023-04-23T13:14:04.579552Z"
    },
    "papermill": {
     "duration": 0.009129,
     "end_time": "2023-04-23T13:14:04.580653",
     "exception": false,
     "start_time": "2023-04-23T13:14:04.571524",
     "status": "completed"
    },
    "tags": []
   },
   "outputs": [],
   "source": [
    "dataset.obs[\"scDblFinder_class\"] = droplet_class\n",
    "dataset.obs.scDblFinder_class.value_counts()\n",
    "dataset"
   ]
  },
  {
   "cell_type": "code",
   "execution_count": null,
   "id": "28c95014-2d6c-477f-95cb-9f9f0507520c",
   "metadata": {
    "execution": {
     "iopub.execute_input": "2023-04-23T13:14:04.586567Z",
     "iopub.status.busy": "2023-04-23T13:14:04.586411Z",
     "iopub.status.idle": "2023-04-23T13:14:04.592881Z",
     "shell.execute_reply": "2023-04-23T13:14:04.592573Z"
    },
    "papermill": {
     "duration": 0.010427,
     "end_time": "2023-04-23T13:14:04.593769",
     "exception": false,
     "start_time": "2023-04-23T13:14:04.583342",
     "status": "completed"
    },
    "tags": []
   },
   "outputs": [],
   "source": [
    "dataset = dataset[dataset.obs[\"scDblFinder_class\"] == 1]"
   ]
  },
  {
   "cell_type": "code",
   "execution_count": null,
   "id": "3e22f9e0-bfcb-416c-a151-a9bca3bec3b9",
   "metadata": {
    "execution": {
     "iopub.execute_input": "2023-04-23T13:14:04.599664Z",
     "iopub.status.busy": "2023-04-23T13:14:04.599473Z",
     "iopub.status.idle": "2023-04-23T13:14:04.781880Z",
     "shell.execute_reply": "2023-04-23T13:14:04.781437Z"
    },
    "papermill": {
     "duration": 0.186358,
     "end_time": "2023-04-23T13:14:04.782824",
     "exception": false,
     "start_time": "2023-04-23T13:14:04.596466",
     "status": "completed"
    },
    "tags": []
   },
   "outputs": [],
   "source": [
    "# mitochondrial genes\n",
    "dataset.var[\"mt\"] = dataset.var_names.str.startswith(\"MT-\")\n",
    "# ribosomal genes\n",
    "dataset.var[\"ribo\"] = dataset.var_names.str.startswith((\"RPS\", \"RPL\"))\n",
    "# hemoglobin genes.\n",
    "dataset.var[\"hb\"] = dataset.var_names.str.contains((\"^HB[^(P)]\"))\n",
    "\n",
    "sc.pp.calculate_qc_metrics(dataset,\n",
    "                           qc_vars=['mt', 'ribo', 'hb'],\n",
    "                           percent_top=None,\n",
    "                           log1p=False,\n",
    "                           inplace=True)\n",
    "dataset"
   ]
  },
  {
   "cell_type": "code",
   "execution_count": null,
   "id": "34deee79-4043-428f-8575-aa57b45f6369",
   "metadata": {
    "execution": {
     "iopub.execute_input": "2023-04-23T13:14:04.789951Z",
     "iopub.status.busy": "2023-04-23T13:14:04.789783Z",
     "iopub.status.idle": "2023-04-23T13:14:05.412485Z",
     "shell.execute_reply": "2023-04-23T13:14:05.412063Z"
    },
    "papermill": {
     "duration": 0.626993,
     "end_time": "2023-04-23T13:14:05.413373",
     "exception": false,
     "start_time": "2023-04-23T13:14:04.786380",
     "status": "completed"
    },
    "tags": []
   },
   "outputs": [],
   "source": [
    "fig, ax = plt.subplots(ncols = 4, figsize = (16,4))\n",
    "axis = sc.pl.violin(dataset, \"n_genes_by_counts\", jitter = 0.4, ax = ax[0], show = False)\n",
    "axis.grid(False)\n",
    "axis.set_title(\"Unique Genes per cell\")\n",
    "axis.tick_params(axis = \"x\", bottom =False, labelbottom =False)\n",
    "axis.set_ylabel(\"# genes\")\n",
    "axis.axhline(y = 250, color = \"black\", label = \"cutoff\")\n",
    "axis.legend(fontsize = 14, loc = \"upper right\")\n",
    "\n",
    "axis = sc.pl.violin(dataset, \"pct_counts_mt\", jitter = 0.4, ax = ax[1], show = False)\n",
    "axis.grid(False)\n",
    "axis.set_title(\"Mitochondrial Fraction\")\n",
    "axis.tick_params(axis = \"x\", bottom =False, labelbottom =False)\n",
    "axis.set_ylabel(\"% mitochondrial genes\")\n",
    "axis.axhline(y = 10, color = \"black\", label = \"cutoff\")\n",
    "axis.legend(fontsize = 14, loc = \"upper right\")\n",
    "\n",
    "axis = sc.pl.violin(dataset, \"pct_counts_hb\", jitter = 0.4, ax = ax[2], show = False, size =2)\n",
    "axis.grid(False)\n",
    "axis.set_title(\"Hemoglobin Fraction\")\n",
    "axis.tick_params(axis = \"x\", bottom =False, labelbottom =False)\n",
    "axis.set_ylabel(\"% hemoglobin genes\")\n",
    "axis.axhline(y = 1, color = \"black\", label = \"cutoff\")\n",
    "axis.legend(fontsize = 14, loc = \"upper right\")\n",
    "#axis.set_ylim(0,5)\n",
    "\n",
    "axis = sc.pl.violin(dataset, \"pct_counts_ribo\", jitter = 0.4, ax = ax[3], show = False)\n",
    "axis.grid(False)\n",
    "axis.set_title(\"Ribosomal Fraction\")\n",
    "axis.tick_params(axis = \"x\", bottom =False, labelbottom =False)\n",
    "axis.set_ylabel(\"% ribosome genes\")\n",
    "\n",
    "plt.tight_layout()\n",
    "#plt.savefig(f\"{outputDir}08_gene_based_filtering.pdf\", dpi = 300)\n",
    "plt.show()\n",
    "\n"
   ]
  },
  {
   "cell_type": "code",
   "execution_count": null,
   "id": "d7ade754-843e-4840-8707-426613d8c0c5",
   "metadata": {
    "execution": {
     "iopub.execute_input": "2023-04-23T13:14:05.424332Z",
     "iopub.status.busy": "2023-04-23T13:14:05.423966Z",
     "iopub.status.idle": "2023-04-23T13:14:05.437325Z",
     "shell.execute_reply": "2023-04-23T13:14:05.436986Z"
    },
    "papermill": {
     "duration": 0.01817,
     "end_time": "2023-04-23T13:14:05.438086",
     "exception": false,
     "start_time": "2023-04-23T13:14:05.419916",
     "status": "completed"
    },
    "tags": []
   },
   "outputs": [],
   "source": [
    "dataset = dataset[dataset.obs.pct_counts_mt < 10, :]\n",
    "dataset = dataset[dataset.obs.n_genes_by_counts > 250, :]\n",
    "dataset = dataset[dataset.obs.pct_counts_hb < 1, :]\n",
    "dataset"
   ]
  },
  {
   "cell_type": "code",
   "execution_count": null,
   "id": "2e0ff8c3-2aa9-4a01-9b88-5912a6734447",
   "metadata": {
    "execution": {
     "iopub.execute_input": "2023-04-23T13:14:05.445741Z",
     "iopub.status.busy": "2023-04-23T13:14:05.445553Z",
     "iopub.status.idle": "2023-04-23T13:14:05.515619Z",
     "shell.execute_reply": "2023-04-23T13:14:05.515197Z"
    },
    "papermill": {
     "duration": 0.0751,
     "end_time": "2023-04-23T13:14:05.516724",
     "exception": false,
     "start_time": "2023-04-23T13:14:05.441624",
     "status": "completed"
    },
    "tags": []
   },
   "outputs": [],
   "source": [
    "for col in metadata.columns:\n",
    "    dataset.obs[col] = metadata.loc[(metadata[\"ENA_RUN\"] == sample_name) & (metadata[\"read_index\"] == \"read1\"), col].to_list()[0]"
   ]
  },
  {
   "cell_type": "code",
   "execution_count": null,
   "id": "b84578d3-d63e-419c-a272-a0b8317d05ab",
   "metadata": {
    "execution": {
     "iopub.execute_input": "2023-04-23T13:14:05.525518Z",
     "iopub.status.busy": "2023-04-23T13:14:05.525370Z",
     "iopub.status.idle": "2023-04-23T13:14:05.794660Z",
     "shell.execute_reply": "2023-04-23T13:14:05.794189Z"
    },
    "papermill": {
     "duration": 0.274684,
     "end_time": "2023-04-23T13:14:05.795887",
     "exception": false,
     "start_time": "2023-04-23T13:14:05.521203",
     "status": "completed"
    },
    "tags": []
   },
   "outputs": [],
   "source": [
    "dataset.write(f\"../../int_data/{sample_name}_qc.h5ad\")"
   ]
  }
 ],
 "metadata": {
  "kernelspec": {
   "display_name": "py_R",
   "language": "python",
   "name": "python_r"
  },
  "language_info": {
   "codemirror_mode": {
    "name": "ipython",
    "version": 3
   },
   "file_extension": ".py",
   "mimetype": "text/x-python",
   "name": "python",
   "nbconvert_exporter": "python",
   "pygments_lexer": "ipython3",
   "version": "3.10.9"
  },
  "papermill": {
   "default_parameters": {},
   "duration": 218.813471,
   "end_time": "2023-04-23T13:14:08.671073",
   "environment_variables": {},
   "exception": null,
   "input_path": "ERR7425199.ipynb",
   "output_path": "ERR7425199.ipynb",
   "parameters": {},
   "start_time": "2023-04-23T13:10:29.857602",
   "version": "2.4.0"
  }
 },
 "nbformat": 4,
 "nbformat_minor": 5
}
