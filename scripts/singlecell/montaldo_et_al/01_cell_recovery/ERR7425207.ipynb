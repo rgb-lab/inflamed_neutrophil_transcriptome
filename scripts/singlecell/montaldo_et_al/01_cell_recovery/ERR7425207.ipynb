{
 "cells": [
  {
   "cell_type": "code",
   "execution_count": null,
   "id": "f87ed95b-2b67-4a5a-8fe2-47359b1dd2a9",
   "metadata": {
    "execution": {
     "iopub.execute_input": "2023-04-23T13:39:37.702298Z",
     "iopub.status.busy": "2023-04-23T13:39:37.702131Z",
     "iopub.status.idle": "2023-04-23T13:39:37.706803Z",
     "shell.execute_reply": "2023-04-23T13:39:37.706501Z"
    },
    "papermill": {
     "duration": 0.009154,
     "end_time": "2023-04-23T13:39:37.707716",
     "exception": false,
     "start_time": "2023-04-23T13:39:37.698562",
     "status": "completed"
    },
    "tags": []
   },
   "outputs": [],
   "source": [
    "import warnings\n",
    "warnings.simplefilter(action='ignore', category=FutureWarning)\n",
    "warnings.simplefilter(action='ignore', category=UserWarning)"
   ]
  },
  {
   "cell_type": "code",
   "execution_count": null,
   "id": "85161f19-b2c5-490b-8cab-c2cf9653b304",
   "metadata": {
    "execution": {
     "iopub.execute_input": "2023-04-23T13:39:37.712893Z",
     "iopub.status.busy": "2023-04-23T13:39:37.712677Z",
     "iopub.status.idle": "2023-04-23T13:39:41.666926Z",
     "shell.execute_reply": "2023-04-23T13:39:41.666488Z"
    },
    "papermill": {
     "duration": 3.958036,
     "end_time": "2023-04-23T13:39:41.668186",
     "exception": false,
     "start_time": "2023-04-23T13:39:37.710150",
     "status": "completed"
    },
    "tags": []
   },
   "outputs": [],
   "source": [
    "import gc\n",
    "import scanpy as sc\n",
    "import muon as mu\n",
    "import seaborn as sns\n",
    "import os\n",
    "import pandas as pd\n",
    "from matplotlib import pyplot as plt\n",
    "\n",
    "os.environ['R_HOME'] = '/gpfs/bwfor/work/ws/hd_fu399-conda/conda/envs/python_R/lib/R/'\n",
    "import anndata2ri\n",
    "import logging\n",
    "\n",
    "import rpy2.rinterface_lib.callbacks as rcb\n",
    "import rpy2.robjects as ro\n",
    "\n",
    "rcb.logger.setLevel(logging.ERROR)\n",
    "ro.pandas2ri.activate()\n",
    "anndata2ri.activate()\n",
    "\n",
    "%load_ext rpy2.ipython"
   ]
  },
  {
   "cell_type": "code",
   "execution_count": null,
   "id": "fc4ade78-b728-4704-9db6-45fbaab62ba1",
   "metadata": {
    "execution": {
     "iopub.execute_input": "2023-04-23T13:39:41.675705Z",
     "iopub.status.busy": "2023-04-23T13:39:41.675447Z",
     "iopub.status.idle": "2023-04-23T13:39:51.059812Z",
     "shell.execute_reply": "2023-04-23T13:39:51.059313Z"
    },
    "papermill": {
     "duration": 9.388437,
     "end_time": "2023-04-23T13:39:51.061169",
     "exception": false,
     "start_time": "2023-04-23T13:39:41.672732",
     "status": "completed"
    },
    "tags": []
   },
   "outputs": [],
   "source": [
    "%%R\n",
    "library(SoupX)\n",
    "library(Seurat)\n",
    "library(scater)\n",
    "library(scDblFinder)\n",
    "library(BiocParallel)\n",
    "library(MuDataSeurat)\n",
    "library(DropletUtils)"
   ]
  },
  {
   "cell_type": "code",
   "execution_count": null,
   "id": "611e4882-fc48-43d1-b1cd-e65e1bde0015",
   "metadata": {
    "execution": {
     "iopub.execute_input": "2023-04-23T13:39:51.069543Z",
     "iopub.status.busy": "2023-04-23T13:39:51.069325Z",
     "iopub.status.idle": "2023-04-23T13:39:51.071883Z",
     "shell.execute_reply": "2023-04-23T13:39:51.071492Z"
    },
    "papermill": {
     "duration": 0.006624,
     "end_time": "2023-04-23T13:39:51.072679",
     "exception": false,
     "start_time": "2023-04-23T13:39:51.066055",
     "status": "completed"
    },
    "tags": []
   },
   "outputs": [],
   "source": [
    "sample_name = \"ERR7425207\""
   ]
  },
  {
   "cell_type": "code",
   "execution_count": null,
   "id": "f7424d90-7690-4290-8651-1db3f9df3a35",
   "metadata": {
    "execution": {
     "iopub.execute_input": "2023-04-23T13:39:51.077931Z",
     "iopub.status.busy": "2023-04-23T13:39:51.077676Z",
     "iopub.status.idle": "2023-04-23T13:39:51.084826Z",
     "shell.execute_reply": "2023-04-23T13:39:51.084480Z"
    },
    "papermill": {
     "duration": 0.010609,
     "end_time": "2023-04-23T13:39:51.085608",
     "exception": false,
     "start_time": "2023-04-23T13:39:51.074999",
     "status": "completed"
    },
    "tags": []
   },
   "outputs": [],
   "source": [
    "metadata = pd.read_csv(\"../../metadata.csv\", index_col = 0)"
   ]
  },
  {
   "cell_type": "code",
   "execution_count": null,
   "id": "2574ecf1-bad4-4c33-8f3f-718a358727ab",
   "metadata": {
    "execution": {
     "iopub.execute_input": "2023-04-23T13:39:51.090852Z",
     "iopub.status.busy": "2023-04-23T13:39:51.090587Z",
     "iopub.status.idle": "2023-04-23T13:39:51.092668Z",
     "shell.execute_reply": "2023-04-23T13:39:51.092352Z"
    },
    "papermill": {
     "duration": 0.005506,
     "end_time": "2023-04-23T13:39:51.093445",
     "exception": false,
     "start_time": "2023-04-23T13:39:51.087939",
     "status": "completed"
    },
    "tags": []
   },
   "outputs": [],
   "source": [
    "raw_input = f\"/home/hd/hd_hd/hd_fu399/sds-hd/sd21k006/scRNAseq/revision_natcomm/montaldo_et_al/{sample_name}/{sample_name}/outs/raw_feature_bc_matrix.h5\""
   ]
  },
  {
   "cell_type": "code",
   "execution_count": null,
   "id": "e266d388-1802-435c-93a5-90067358739c",
   "metadata": {
    "execution": {
     "iopub.execute_input": "2023-04-23T13:39:51.098616Z",
     "iopub.status.busy": "2023-04-23T13:39:51.098399Z",
     "iopub.status.idle": "2023-04-23T13:39:51.864993Z",
     "shell.execute_reply": "2023-04-23T13:39:51.864555Z"
    },
    "papermill": {
     "duration": 0.770186,
     "end_time": "2023-04-23T13:39:51.865900",
     "exception": false,
     "start_time": "2023-04-23T13:39:51.095714",
     "status": "completed"
    },
    "tags": []
   },
   "outputs": [],
   "source": [
    "dataset = sc.read_10x_h5(raw_input)\n",
    "dataset.var_names_make_unique()\n",
    "dataset.obs_names_make_unique()\n",
    "\n",
    "dataset.layers[\"raw_counts\"] = dataset.X.copy()\n",
    "data_tod = dataset.layers[\"raw_counts\"].T.copy()\n",
    "\n",
    "dataset"
   ]
  },
  {
   "cell_type": "code",
   "execution_count": null,
   "id": "af9f5892-ed31-42a6-991b-4e096f582cef",
   "metadata": {
    "execution": {
     "iopub.execute_input": "2023-04-23T13:39:51.872213Z",
     "iopub.status.busy": "2023-04-23T13:39:51.871839Z",
     "iopub.status.idle": "2023-04-23T13:39:51.996577Z",
     "shell.execute_reply": "2023-04-23T13:39:51.996103Z"
    },
    "papermill": {
     "duration": 0.129008,
     "end_time": "2023-04-23T13:39:51.997884",
     "exception": false,
     "start_time": "2023-04-23T13:39:51.868876",
     "status": "completed"
    },
    "tags": []
   },
   "outputs": [],
   "source": [
    "sce = dataset.copy()"
   ]
  },
  {
   "cell_type": "code",
   "execution_count": null,
   "id": "d03f2caf-8e74-430e-b045-0ab80401d165",
   "metadata": {
    "execution": {
     "iopub.execute_input": "2023-04-23T13:39:52.004287Z",
     "iopub.status.busy": "2023-04-23T13:39:52.003982Z",
     "iopub.status.idle": "2023-04-23T13:40:50.403040Z",
     "shell.execute_reply": "2023-04-23T13:40:50.402412Z"
    },
    "papermill": {
     "duration": 58.403366,
     "end_time": "2023-04-23T13:40:50.404368",
     "exception": false,
     "start_time": "2023-04-23T13:39:52.001002",
     "status": "completed"
    },
    "tags": []
   },
   "outputs": [],
   "source": [
    "%%R -i sce -o empty_drop_output\n",
    "set.seed(187)\n",
    "empty_drop_output <- emptyDrops(assay(sce))"
   ]
  },
  {
   "cell_type": "code",
   "execution_count": null,
   "id": "2a34a54b-3ae2-44d6-8679-8769228c5b66",
   "metadata": {
    "execution": {
     "iopub.execute_input": "2023-04-23T13:40:50.412625Z",
     "iopub.status.busy": "2023-04-23T13:40:50.412413Z",
     "iopub.status.idle": "2023-04-23T13:40:50.509719Z",
     "shell.execute_reply": "2023-04-23T13:40:50.509346Z"
    },
    "papermill": {
     "duration": 0.101484,
     "end_time": "2023-04-23T13:40:50.510651",
     "exception": false,
     "start_time": "2023-04-23T13:40:50.409167",
     "status": "completed"
    },
    "tags": []
   },
   "outputs": [],
   "source": [
    "non_empty_barcodes = empty_drop_output[empty_drop_output[\"FDR\"] < 0.001].index\n",
    "dataset = dataset[dataset.obs.index.isin(non_empty_barcodes), :]\n",
    "dataset"
   ]
  },
  {
   "cell_type": "code",
   "execution_count": null,
   "id": "016a91e5-1bef-46fb-b91e-4fb9a6870c44",
   "metadata": {
    "execution": {
     "iopub.execute_input": "2023-04-23T13:40:50.516661Z",
     "iopub.status.busy": "2023-04-23T13:40:50.516499Z",
     "iopub.status.idle": "2023-04-23T13:40:55.347680Z",
     "shell.execute_reply": "2023-04-23T13:40:55.347192Z"
    },
    "papermill": {
     "duration": 4.835669,
     "end_time": "2023-04-23T13:40:55.349034",
     "exception": false,
     "start_time": "2023-04-23T13:40:50.513365",
     "status": "completed"
    },
    "tags": []
   },
   "outputs": [],
   "source": [
    "rna_assay = dataset.copy()\n",
    "sc.pp.normalize_per_cell(rna_assay)\n",
    "sc.pp.log1p(rna_assay)\n",
    "sc.pp.pca(rna_assay)\n",
    "sc.pp.neighbors(rna_assay)\n",
    "sc.tl.leiden(rna_assay, key_added=\"soupx_groups\")\n",
    "\n",
    "soupx_groups = rna_assay.obs[\"soupx_groups\"]\n",
    "\n",
    "del rna_assay\n",
    "\n",
    "genes = dataset.var_names\n",
    "cells = dataset.obs_names\n",
    "data = dataset.X.T.copy()"
   ]
  },
  {
   "cell_type": "code",
   "execution_count": null,
   "id": "9db4ea1f-1580-4f43-a3f0-86002397cd98",
   "metadata": {
    "execution": {
     "iopub.execute_input": "2023-04-23T13:40:55.357600Z",
     "iopub.status.busy": "2023-04-23T13:40:55.357453Z",
     "iopub.status.idle": "2023-04-23T13:41:07.603201Z",
     "shell.execute_reply": "2023-04-23T13:41:07.602498Z"
    },
    "papermill": {
     "duration": 12.250322,
     "end_time": "2023-04-23T13:41:07.604597",
     "exception": false,
     "start_time": "2023-04-23T13:40:55.354275",
     "status": "completed"
    },
    "tags": []
   },
   "outputs": [],
   "source": [
    "%%R -i data -i data_tod -i genes -i cells -i soupx_groups -o out \n",
    "set.seed(187)\n",
    "# specify row and column names of data\n",
    "rownames(data) = genes\n",
    "colnames(data) = cells\n",
    "# ensure correct sparse format for table of counts and table of droplets\n",
    "data <- as(data, \"sparseMatrix\")\n",
    "data_tod <- as(data_tod, \"sparseMatrix\")\n",
    "\n",
    "# Generate SoupChannel Object for SoupX \n",
    "sc = SoupChannel(data_tod, data, calcSoupProfile = FALSE)\n",
    "\n",
    "# Add extra meta data to the SoupChannel object\n",
    "soupProf = data.frame(row.names = rownames(data),\n",
    "                      est = rowSums(data)/sum(data),\n",
    "                      counts = rowSums(data))\n",
    "sc = setSoupProfile(sc, soupProf)\n",
    "# Set cluster information in SoupChannel\n",
    "sc = setClusters(sc, soupx_groups)\n",
    "\n",
    "# Estimate contamination fraction\n",
    "sc  = autoEstCont(sc, doPlot=FALSE, forceAccept = TRUE)\n",
    "# Infer corrected table of counts and rount to integer\n",
    "out = adjustCounts(sc, roundToInt = TRUE)"
   ]
  },
  {
   "cell_type": "code",
   "execution_count": null,
   "id": "32555d5e-5fa3-46dd-a4e0-ddc96ea265e2",
   "metadata": {
    "execution": {
     "iopub.execute_input": "2023-04-23T13:41:07.612922Z",
     "iopub.status.busy": "2023-04-23T13:41:07.612704Z",
     "iopub.status.idle": "2023-04-23T13:41:07.638784Z",
     "shell.execute_reply": "2023-04-23T13:41:07.638304Z"
    },
    "papermill": {
     "duration": 0.030619,
     "end_time": "2023-04-23T13:41:07.640065",
     "exception": false,
     "start_time": "2023-04-23T13:41:07.609446",
     "status": "completed"
    },
    "tags": []
   },
   "outputs": [],
   "source": [
    "dataset.layers[\"soupX_counts\"] = out.T\n",
    "dataset.X = dataset.layers[\"soupX_counts\"].copy()"
   ]
  },
  {
   "cell_type": "code",
   "execution_count": null,
   "id": "e27da7df-e094-4d2a-9109-5a363e012175",
   "metadata": {
    "execution": {
     "iopub.execute_input": "2023-04-23T13:41:07.646353Z",
     "iopub.status.busy": "2023-04-23T13:41:07.646188Z",
     "iopub.status.idle": "2023-04-23T13:41:07.648555Z",
     "shell.execute_reply": "2023-04-23T13:41:07.648232Z"
    },
    "papermill": {
     "duration": 0.006367,
     "end_time": "2023-04-23T13:41:07.649354",
     "exception": false,
     "start_time": "2023-04-23T13:41:07.642987",
     "status": "completed"
    },
    "tags": []
   },
   "outputs": [],
   "source": [
    "data_mat = dataset.X.T"
   ]
  },
  {
   "cell_type": "code",
   "execution_count": null,
   "id": "80a993b1-5ccb-4697-9187-1beb7ab8aff9",
   "metadata": {
    "execution": {
     "iopub.execute_input": "2023-04-23T13:41:07.655149Z",
     "iopub.status.busy": "2023-04-23T13:41:07.654836Z",
     "iopub.status.idle": "2023-04-23T13:41:24.972139Z",
     "shell.execute_reply": "2023-04-23T13:41:24.971630Z"
    },
    "papermill": {
     "duration": 17.321668,
     "end_time": "2023-04-23T13:41:24.973540",
     "exception": false,
     "start_time": "2023-04-23T13:41:07.651872",
     "status": "completed"
    },
    "tags": []
   },
   "outputs": [],
   "source": [
    "%%R -i data_mat -o droplet_class\n",
    "\n",
    "set.seed(187)\n",
    "sce = scDblFinder(\n",
    "    SingleCellExperiment(\n",
    "        list(counts=data_mat),\n",
    "    ) \n",
    ")\n",
    "droplet_class = sce$scDblFinder.class"
   ]
  },
  {
   "cell_type": "code",
   "execution_count": null,
   "id": "d4dd6e9d-fcf2-41fc-8457-c8e0a3cb2c71",
   "metadata": {
    "execution": {
     "iopub.execute_input": "2023-04-23T13:41:24.982096Z",
     "iopub.status.busy": "2023-04-23T13:41:24.981939Z",
     "iopub.status.idle": "2023-04-23T13:41:24.986775Z",
     "shell.execute_reply": "2023-04-23T13:41:24.986469Z"
    },
    "papermill": {
     "duration": 0.00904,
     "end_time": "2023-04-23T13:41:24.987589",
     "exception": false,
     "start_time": "2023-04-23T13:41:24.978549",
     "status": "completed"
    },
    "tags": []
   },
   "outputs": [],
   "source": [
    "dataset.obs[\"scDblFinder_class\"] = droplet_class\n",
    "dataset.obs.scDblFinder_class.value_counts()\n",
    "dataset"
   ]
  },
  {
   "cell_type": "code",
   "execution_count": null,
   "id": "28c95014-2d6c-477f-95cb-9f9f0507520c",
   "metadata": {
    "execution": {
     "iopub.execute_input": "2023-04-23T13:41:24.993696Z",
     "iopub.status.busy": "2023-04-23T13:41:24.993535Z",
     "iopub.status.idle": "2023-04-23T13:41:24.998874Z",
     "shell.execute_reply": "2023-04-23T13:41:24.998559Z"
    },
    "papermill": {
     "duration": 0.009378,
     "end_time": "2023-04-23T13:41:24.999677",
     "exception": false,
     "start_time": "2023-04-23T13:41:24.990299",
     "status": "completed"
    },
    "tags": []
   },
   "outputs": [],
   "source": [
    "dataset = dataset[dataset.obs[\"scDblFinder_class\"] == 1]"
   ]
  },
  {
   "cell_type": "code",
   "execution_count": null,
   "id": "3e22f9e0-bfcb-416c-a151-a9bca3bec3b9",
   "metadata": {
    "execution": {
     "iopub.execute_input": "2023-04-23T13:41:25.005793Z",
     "iopub.status.busy": "2023-04-23T13:41:25.005627Z",
     "iopub.status.idle": "2023-04-23T13:41:25.129144Z",
     "shell.execute_reply": "2023-04-23T13:41:25.128701Z"
    },
    "papermill": {
     "duration": 0.127663,
     "end_time": "2023-04-23T13:41:25.130112",
     "exception": false,
     "start_time": "2023-04-23T13:41:25.002449",
     "status": "completed"
    },
    "tags": []
   },
   "outputs": [],
   "source": [
    "# mitochondrial genes\n",
    "dataset.var[\"mt\"] = dataset.var_names.str.startswith(\"MT-\")\n",
    "# ribosomal genes\n",
    "dataset.var[\"ribo\"] = dataset.var_names.str.startswith((\"RPS\", \"RPL\"))\n",
    "# hemoglobin genes.\n",
    "dataset.var[\"hb\"] = dataset.var_names.str.contains((\"^HB[^(P)]\"))\n",
    "\n",
    "sc.pp.calculate_qc_metrics(dataset,\n",
    "                           qc_vars=['mt', 'ribo', 'hb'],\n",
    "                           percent_top=None,\n",
    "                           log1p=False,\n",
    "                           inplace=True)\n",
    "dataset"
   ]
  },
  {
   "cell_type": "code",
   "execution_count": null,
   "id": "34deee79-4043-428f-8575-aa57b45f6369",
   "metadata": {
    "execution": {
     "iopub.execute_input": "2023-04-23T13:41:25.137251Z",
     "iopub.status.busy": "2023-04-23T13:41:25.137038Z",
     "iopub.status.idle": "2023-04-23T13:41:25.746443Z",
     "shell.execute_reply": "2023-04-23T13:41:25.746029Z"
    },
    "papermill": {
     "duration": 0.613783,
     "end_time": "2023-04-23T13:41:25.747368",
     "exception": false,
     "start_time": "2023-04-23T13:41:25.133585",
     "status": "completed"
    },
    "tags": []
   },
   "outputs": [],
   "source": [
    "fig, ax = plt.subplots(ncols = 4, figsize = (16,4))\n",
    "axis = sc.pl.violin(dataset, \"n_genes_by_counts\", jitter = 0.4, ax = ax[0], show = False)\n",
    "axis.grid(False)\n",
    "axis.set_title(\"Unique Genes per cell\")\n",
    "axis.tick_params(axis = \"x\", bottom =False, labelbottom =False)\n",
    "axis.set_ylabel(\"# genes\")\n",
    "axis.axhline(y = 250, color = \"black\", label = \"cutoff\")\n",
    "axis.legend(fontsize = 14, loc = \"upper right\")\n",
    "\n",
    "axis = sc.pl.violin(dataset, \"pct_counts_mt\", jitter = 0.4, ax = ax[1], show = False)\n",
    "axis.grid(False)\n",
    "axis.set_title(\"Mitochondrial Fraction\")\n",
    "axis.tick_params(axis = \"x\", bottom =False, labelbottom =False)\n",
    "axis.set_ylabel(\"% mitochondrial genes\")\n",
    "axis.axhline(y = 10, color = \"black\", label = \"cutoff\")\n",
    "axis.legend(fontsize = 14, loc = \"upper right\")\n",
    "\n",
    "axis = sc.pl.violin(dataset, \"pct_counts_hb\", jitter = 0.4, ax = ax[2], show = False, size =2)\n",
    "axis.grid(False)\n",
    "axis.set_title(\"Hemoglobin Fraction\")\n",
    "axis.tick_params(axis = \"x\", bottom =False, labelbottom =False)\n",
    "axis.set_ylabel(\"% hemoglobin genes\")\n",
    "axis.axhline(y = 1, color = \"black\", label = \"cutoff\")\n",
    "axis.legend(fontsize = 14, loc = \"upper right\")\n",
    "#axis.set_ylim(0,5)\n",
    "\n",
    "axis = sc.pl.violin(dataset, \"pct_counts_ribo\", jitter = 0.4, ax = ax[3], show = False)\n",
    "axis.grid(False)\n",
    "axis.set_title(\"Ribosomal Fraction\")\n",
    "axis.tick_params(axis = \"x\", bottom =False, labelbottom =False)\n",
    "axis.set_ylabel(\"% ribosome genes\")\n",
    "\n",
    "plt.tight_layout()\n",
    "#plt.savefig(f\"{outputDir}08_gene_based_filtering.pdf\", dpi = 300)\n",
    "plt.show()\n",
    "\n"
   ]
  },
  {
   "cell_type": "code",
   "execution_count": null,
   "id": "d7ade754-843e-4840-8707-426613d8c0c5",
   "metadata": {
    "execution": {
     "iopub.execute_input": "2023-04-23T13:41:25.756260Z",
     "iopub.status.busy": "2023-04-23T13:41:25.756100Z",
     "iopub.status.idle": "2023-04-23T13:41:25.765249Z",
     "shell.execute_reply": "2023-04-23T13:41:25.764924Z"
    },
    "papermill": {
     "duration": 0.014482,
     "end_time": "2023-04-23T13:41:25.766060",
     "exception": false,
     "start_time": "2023-04-23T13:41:25.751578",
     "status": "completed"
    },
    "tags": []
   },
   "outputs": [],
   "source": [
    "dataset = dataset[dataset.obs.pct_counts_mt < 10, :]\n",
    "dataset = dataset[dataset.obs.n_genes_by_counts > 250, :]\n",
    "dataset = dataset[dataset.obs.pct_counts_hb < 1, :]\n",
    "dataset"
   ]
  },
  {
   "cell_type": "code",
   "execution_count": null,
   "id": "2e0ff8c3-2aa9-4a01-9b88-5912a6734447",
   "metadata": {
    "execution": {
     "iopub.execute_input": "2023-04-23T13:41:25.774677Z",
     "iopub.status.busy": "2023-04-23T13:41:25.774516Z",
     "iopub.status.idle": "2023-04-23T13:41:25.827687Z",
     "shell.execute_reply": "2023-04-23T13:41:25.827224Z"
    },
    "papermill": {
     "duration": 0.05883,
     "end_time": "2023-04-23T13:41:25.828890",
     "exception": false,
     "start_time": "2023-04-23T13:41:25.770060",
     "status": "completed"
    },
    "tags": []
   },
   "outputs": [],
   "source": [
    "for col in metadata.columns:\n",
    "    dataset.obs[col] = metadata.loc[(metadata[\"ENA_RUN\"] == sample_name) & (metadata[\"read_index\"] == \"read1\"), col].to_list()[0]"
   ]
  },
  {
   "cell_type": "code",
   "execution_count": null,
   "id": "b84578d3-d63e-419c-a272-a0b8317d05ab",
   "metadata": {
    "execution": {
     "iopub.execute_input": "2023-04-23T13:41:25.838153Z",
     "iopub.status.busy": "2023-04-23T13:41:25.837963Z",
     "iopub.status.idle": "2023-04-23T13:41:26.060311Z",
     "shell.execute_reply": "2023-04-23T13:41:26.059843Z"
    },
    "papermill": {
     "duration": 0.228404,
     "end_time": "2023-04-23T13:41:26.061706",
     "exception": false,
     "start_time": "2023-04-23T13:41:25.833302",
     "status": "completed"
    },
    "tags": []
   },
   "outputs": [],
   "source": [
    "dataset.write(f\"../../int_data/{sample_name}_qc.h5ad\")"
   ]
  }
 ],
 "metadata": {
  "kernelspec": {
   "display_name": "py_R",
   "language": "python",
   "name": "python_r"
  },
  "language_info": {
   "codemirror_mode": {
    "name": "ipython",
    "version": 3
   },
   "file_extension": ".py",
   "mimetype": "text/x-python",
   "name": "python",
   "nbconvert_exporter": "python",
   "pygments_lexer": "ipython3",
   "version": "3.10.9"
  },
  "papermill": {
   "default_parameters": {},
   "duration": 110.762532,
   "end_time": "2023-04-23T13:41:27.584078",
   "environment_variables": {},
   "exception": null,
   "input_path": "ERR7425207.ipynb",
   "output_path": "ERR7425207.ipynb",
   "parameters": {},
   "start_time": "2023-04-23T13:39:36.821546",
   "version": "2.4.0"
  }
 },
 "nbformat": 4,
 "nbformat_minor": 5
}
