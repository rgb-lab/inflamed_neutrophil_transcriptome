{
 "cells": [
  {
   "cell_type": "code",
   "execution_count": null,
   "id": "f87ed95b-2b67-4a5a-8fe2-47359b1dd2a9",
   "metadata": {
    "execution": {
     "iopub.execute_input": "2023-04-23T12:50:52.944827Z",
     "iopub.status.busy": "2023-04-23T12:50:52.944668Z",
     "iopub.status.idle": "2023-04-23T12:50:52.949206Z",
     "shell.execute_reply": "2023-04-23T12:50:52.948899Z"
    },
    "papermill": {
     "duration": 0.008533,
     "end_time": "2023-04-23T12:50:52.950035",
     "exception": false,
     "start_time": "2023-04-23T12:50:52.941502",
     "status": "completed"
    },
    "tags": []
   },
   "outputs": [],
   "source": [
    "import warnings\n",
    "warnings.simplefilter(action='ignore', category=FutureWarning)\n",
    "warnings.simplefilter(action='ignore', category=UserWarning)"
   ]
  },
  {
   "cell_type": "code",
   "execution_count": null,
   "id": "85161f19-b2c5-490b-8cab-c2cf9653b304",
   "metadata": {
    "execution": {
     "iopub.execute_input": "2023-04-23T12:50:52.954869Z",
     "iopub.status.busy": "2023-04-23T12:50:52.954696Z",
     "iopub.status.idle": "2023-04-23T12:50:56.870055Z",
     "shell.execute_reply": "2023-04-23T12:50:56.869587Z"
    },
    "papermill": {
     "duration": 3.919109,
     "end_time": "2023-04-23T12:50:56.871389",
     "exception": false,
     "start_time": "2023-04-23T12:50:52.952280",
     "status": "completed"
    },
    "tags": []
   },
   "outputs": [],
   "source": [
    "import gc\n",
    "import scanpy as sc\n",
    "import muon as mu\n",
    "import seaborn as sns\n",
    "import os\n",
    "import pandas as pd\n",
    "from matplotlib import pyplot as plt\n",
    "\n",
    "os.environ['R_HOME'] = '/gpfs/bwfor/work/ws/hd_fu399-conda/conda/envs/python_R/lib/R/'\n",
    "import anndata2ri\n",
    "import logging\n",
    "\n",
    "import rpy2.rinterface_lib.callbacks as rcb\n",
    "import rpy2.robjects as ro\n",
    "\n",
    "rcb.logger.setLevel(logging.ERROR)\n",
    "ro.pandas2ri.activate()\n",
    "anndata2ri.activate()\n",
    "\n",
    "%load_ext rpy2.ipython"
   ]
  },
  {
   "cell_type": "code",
   "execution_count": null,
   "id": "fc4ade78-b728-4704-9db6-45fbaab62ba1",
   "metadata": {
    "execution": {
     "iopub.execute_input": "2023-04-23T12:50:56.877437Z",
     "iopub.status.busy": "2023-04-23T12:50:56.877165Z",
     "iopub.status.idle": "2023-04-23T12:51:06.327191Z",
     "shell.execute_reply": "2023-04-23T12:51:06.326687Z"
    },
    "papermill": {
     "duration": 9.453966,
     "end_time": "2023-04-23T12:51:06.328422",
     "exception": false,
     "start_time": "2023-04-23T12:50:56.874456",
     "status": "completed"
    },
    "tags": []
   },
   "outputs": [],
   "source": [
    "%%R\n",
    "library(SoupX)\n",
    "library(Seurat)\n",
    "library(scater)\n",
    "library(scDblFinder)\n",
    "library(BiocParallel)\n",
    "library(MuDataSeurat)\n",
    "library(DropletUtils)"
   ]
  },
  {
   "cell_type": "code",
   "execution_count": null,
   "id": "611e4882-fc48-43d1-b1cd-e65e1bde0015",
   "metadata": {
    "execution": {
     "iopub.execute_input": "2023-04-23T12:51:06.336139Z",
     "iopub.status.busy": "2023-04-23T12:51:06.335821Z",
     "iopub.status.idle": "2023-04-23T12:51:06.338240Z",
     "shell.execute_reply": "2023-04-23T12:51:06.337926Z"
    },
    "papermill": {
     "duration": 0.006232,
     "end_time": "2023-04-23T12:51:06.339076",
     "exception": false,
     "start_time": "2023-04-23T12:51:06.332844",
     "status": "completed"
    },
    "tags": []
   },
   "outputs": [],
   "source": [
    "sample_name = \"ERR7425194\""
   ]
  },
  {
   "cell_type": "code",
   "execution_count": null,
   "id": "f7424d90-7690-4290-8651-1db3f9df3a35",
   "metadata": {
    "execution": {
     "iopub.execute_input": "2023-04-23T12:51:06.344142Z",
     "iopub.status.busy": "2023-04-23T12:51:06.343926Z",
     "iopub.status.idle": "2023-04-23T12:51:06.350878Z",
     "shell.execute_reply": "2023-04-23T12:51:06.350560Z"
    },
    "papermill": {
     "duration": 0.0104,
     "end_time": "2023-04-23T12:51:06.351710",
     "exception": false,
     "start_time": "2023-04-23T12:51:06.341310",
     "status": "completed"
    },
    "tags": []
   },
   "outputs": [],
   "source": [
    "metadata = pd.read_csv(\"../../metadata.csv\", index_col = 0)"
   ]
  },
  {
   "cell_type": "code",
   "execution_count": null,
   "id": "2574ecf1-bad4-4c33-8f3f-718a358727ab",
   "metadata": {
    "execution": {
     "iopub.execute_input": "2023-04-23T12:51:06.356723Z",
     "iopub.status.busy": "2023-04-23T12:51:06.356500Z",
     "iopub.status.idle": "2023-04-23T12:51:06.358467Z",
     "shell.execute_reply": "2023-04-23T12:51:06.358172Z"
    },
    "papermill": {
     "duration": 0.005381,
     "end_time": "2023-04-23T12:51:06.359303",
     "exception": false,
     "start_time": "2023-04-23T12:51:06.353922",
     "status": "completed"
    },
    "tags": []
   },
   "outputs": [],
   "source": [
    "raw_input = f\"/home/hd/hd_hd/hd_fu399/sds-hd/sd21k006/scRNAseq/revision_natcomm/montaldo_et_al/{sample_name}/{sample_name}/outs/raw_feature_bc_matrix.h5\""
   ]
  },
  {
   "cell_type": "code",
   "execution_count": null,
   "id": "e266d388-1802-435c-93a5-90067358739c",
   "metadata": {
    "execution": {
     "iopub.execute_input": "2023-04-23T12:51:06.364351Z",
     "iopub.status.busy": "2023-04-23T12:51:06.364139Z",
     "iopub.status.idle": "2023-04-23T12:51:07.268538Z",
     "shell.execute_reply": "2023-04-23T12:51:07.268105Z"
    },
    "papermill": {
     "duration": 0.907993,
     "end_time": "2023-04-23T12:51:07.269488",
     "exception": false,
     "start_time": "2023-04-23T12:51:06.361495",
     "status": "completed"
    },
    "tags": []
   },
   "outputs": [],
   "source": [
    "dataset = sc.read_10x_h5(raw_input)\n",
    "dataset.var_names_make_unique()\n",
    "dataset.obs_names_make_unique()\n",
    "\n",
    "dataset.layers[\"raw_counts\"] = dataset.X.copy()\n",
    "data_tod = dataset.layers[\"raw_counts\"].T.copy()\n",
    "\n",
    "dataset"
   ]
  },
  {
   "cell_type": "code",
   "execution_count": null,
   "id": "af9f5892-ed31-42a6-991b-4e096f582cef",
   "metadata": {
    "execution": {
     "iopub.execute_input": "2023-04-23T12:51:07.275698Z",
     "iopub.status.busy": "2023-04-23T12:51:07.275544Z",
     "iopub.status.idle": "2023-04-23T12:51:07.362201Z",
     "shell.execute_reply": "2023-04-23T12:51:07.361724Z"
    },
    "papermill": {
     "duration": 0.090882,
     "end_time": "2023-04-23T12:51:07.363532",
     "exception": false,
     "start_time": "2023-04-23T12:51:07.272650",
     "status": "completed"
    },
    "tags": []
   },
   "outputs": [],
   "source": [
    "sce = dataset.copy()"
   ]
  },
  {
   "cell_type": "code",
   "execution_count": null,
   "id": "d03f2caf-8e74-430e-b045-0ab80401d165",
   "metadata": {
    "execution": {
     "iopub.execute_input": "2023-04-23T12:51:07.369790Z",
     "iopub.status.busy": "2023-04-23T12:51:07.369630Z",
     "iopub.status.idle": "2023-04-23T12:52:21.593977Z",
     "shell.execute_reply": "2023-04-23T12:52:21.593370Z"
    },
    "papermill": {
     "duration": 74.228753,
     "end_time": "2023-04-23T12:52:21.595417",
     "exception": false,
     "start_time": "2023-04-23T12:51:07.366664",
     "status": "completed"
    },
    "tags": []
   },
   "outputs": [],
   "source": [
    "%%R -i sce -o empty_drop_output\n",
    "set.seed(187)\n",
    "empty_drop_output <- emptyDrops(assay(sce))"
   ]
  },
  {
   "cell_type": "code",
   "execution_count": null,
   "id": "2a34a54b-3ae2-44d6-8679-8769228c5b66",
   "metadata": {
    "execution": {
     "iopub.execute_input": "2023-04-23T12:52:21.605074Z",
     "iopub.status.busy": "2023-04-23T12:52:21.604927Z",
     "iopub.status.idle": "2023-04-23T12:52:21.690131Z",
     "shell.execute_reply": "2023-04-23T12:52:21.689736Z"
    },
    "papermill": {
     "duration": 0.089138,
     "end_time": "2023-04-23T12:52:21.691039",
     "exception": false,
     "start_time": "2023-04-23T12:52:21.601901",
     "status": "completed"
    },
    "tags": []
   },
   "outputs": [],
   "source": [
    "non_empty_barcodes = empty_drop_output[empty_drop_output[\"FDR\"] < 0.001].index\n",
    "dataset = dataset[dataset.obs.index.isin(non_empty_barcodes), :]\n",
    "dataset"
   ]
  },
  {
   "cell_type": "code",
   "execution_count": null,
   "id": "016a91e5-1bef-46fb-b91e-4fb9a6870c44",
   "metadata": {
    "execution": {
     "iopub.execute_input": "2023-04-23T12:52:21.696742Z",
     "iopub.status.busy": "2023-04-23T12:52:21.696580Z",
     "iopub.status.idle": "2023-04-23T12:53:49.752532Z",
     "shell.execute_reply": "2023-04-23T12:53:49.751904Z"
    },
    "papermill": {
     "duration": 88.060437,
     "end_time": "2023-04-23T12:53:49.754028",
     "exception": false,
     "start_time": "2023-04-23T12:52:21.693591",
     "status": "completed"
    },
    "tags": []
   },
   "outputs": [],
   "source": [
    "rna_assay = dataset.copy()\n",
    "sc.pp.normalize_per_cell(rna_assay)\n",
    "sc.pp.log1p(rna_assay)\n",
    "sc.pp.pca(rna_assay)\n",
    "sc.pp.neighbors(rna_assay)\n",
    "sc.tl.leiden(rna_assay, key_added=\"soupx_groups\")\n",
    "\n",
    "soupx_groups = rna_assay.obs[\"soupx_groups\"]\n",
    "\n",
    "del rna_assay\n",
    "\n",
    "genes = dataset.var_names\n",
    "cells = dataset.obs_names\n",
    "data = dataset.X.T.copy()"
   ]
  },
  {
   "cell_type": "code",
   "execution_count": null,
   "id": "9db4ea1f-1580-4f43-a3f0-86002397cd98",
   "metadata": {
    "execution": {
     "iopub.execute_input": "2023-04-23T12:53:49.766060Z",
     "iopub.status.busy": "2023-04-23T12:53:49.765845Z",
     "iopub.status.idle": "2023-04-23T12:54:11.825047Z",
     "shell.execute_reply": "2023-04-23T12:54:11.824445Z"
    },
    "papermill": {
     "duration": 22.063861,
     "end_time": "2023-04-23T12:54:11.826443",
     "exception": false,
     "start_time": "2023-04-23T12:53:49.762582",
     "status": "completed"
    },
    "tags": []
   },
   "outputs": [],
   "source": [
    "%%R -i data -i data_tod -i genes -i cells -i soupx_groups -o out \n",
    "set.seed(187)\n",
    "# specify row and column names of data\n",
    "rownames(data) = genes\n",
    "colnames(data) = cells\n",
    "# ensure correct sparse format for table of counts and table of droplets\n",
    "data <- as(data, \"sparseMatrix\")\n",
    "data_tod <- as(data_tod, \"sparseMatrix\")\n",
    "\n",
    "# Generate SoupChannel Object for SoupX \n",
    "sc = SoupChannel(data_tod, data, calcSoupProfile = FALSE)\n",
    "\n",
    "# Add extra meta data to the SoupChannel object\n",
    "soupProf = data.frame(row.names = rownames(data),\n",
    "                      est = rowSums(data)/sum(data),\n",
    "                      counts = rowSums(data))\n",
    "sc = setSoupProfile(sc, soupProf)\n",
    "# Set cluster information in SoupChannel\n",
    "sc = setClusters(sc, soupx_groups)\n",
    "\n",
    "# Estimate contamination fraction\n",
    "sc  = autoEstCont(sc, doPlot=FALSE, forceAccept = TRUE)\n",
    "# Infer corrected table of counts and rount to integer\n",
    "out = adjustCounts(sc, roundToInt = TRUE)"
   ]
  },
  {
   "cell_type": "code",
   "execution_count": null,
   "id": "32555d5e-5fa3-46dd-a4e0-ddc96ea265e2",
   "metadata": {
    "execution": {
     "iopub.execute_input": "2023-04-23T12:54:11.836801Z",
     "iopub.status.busy": "2023-04-23T12:54:11.836627Z",
     "iopub.status.idle": "2023-04-23T12:54:11.883830Z",
     "shell.execute_reply": "2023-04-23T12:54:11.883438Z"
    },
    "papermill": {
     "duration": 0.051841,
     "end_time": "2023-04-23T12:54:11.885095",
     "exception": false,
     "start_time": "2023-04-23T12:54:11.833254",
     "status": "completed"
    },
    "tags": []
   },
   "outputs": [],
   "source": [
    "dataset.layers[\"soupX_counts\"] = out.T\n",
    "dataset.X = dataset.layers[\"soupX_counts\"].copy()"
   ]
  },
  {
   "cell_type": "code",
   "execution_count": null,
   "id": "e27da7df-e094-4d2a-9109-5a363e012175",
   "metadata": {
    "execution": {
     "iopub.execute_input": "2023-04-23T12:54:11.891589Z",
     "iopub.status.busy": "2023-04-23T12:54:11.891408Z",
     "iopub.status.idle": "2023-04-23T12:54:11.893835Z",
     "shell.execute_reply": "2023-04-23T12:54:11.893496Z"
    },
    "papermill": {
     "duration": 0.006464,
     "end_time": "2023-04-23T12:54:11.894638",
     "exception": false,
     "start_time": "2023-04-23T12:54:11.888174",
     "status": "completed"
    },
    "tags": []
   },
   "outputs": [],
   "source": [
    "data_mat = dataset.X.T"
   ]
  },
  {
   "cell_type": "code",
   "execution_count": null,
   "id": "80a993b1-5ccb-4697-9187-1beb7ab8aff9",
   "metadata": {
    "execution": {
     "iopub.execute_input": "2023-04-23T12:54:11.900654Z",
     "iopub.status.busy": "2023-04-23T12:54:11.900520Z",
     "iopub.status.idle": "2023-04-23T12:54:55.787811Z",
     "shell.execute_reply": "2023-04-23T12:54:55.787239Z"
    },
    "papermill": {
     "duration": 43.89189,
     "end_time": "2023-04-23T12:54:55.789207",
     "exception": false,
     "start_time": "2023-04-23T12:54:11.897317",
     "status": "completed"
    },
    "tags": []
   },
   "outputs": [],
   "source": [
    "%%R -i data_mat -o droplet_class\n",
    "\n",
    "set.seed(187)\n",
    "sce = scDblFinder(\n",
    "    SingleCellExperiment(\n",
    "        list(counts=data_mat),\n",
    "    ) \n",
    ")\n",
    "droplet_class = sce$scDblFinder.class"
   ]
  },
  {
   "cell_type": "code",
   "execution_count": null,
   "id": "d4dd6e9d-fcf2-41fc-8457-c8e0a3cb2c71",
   "metadata": {
    "execution": {
     "iopub.execute_input": "2023-04-23T12:54:55.798090Z",
     "iopub.status.busy": "2023-04-23T12:54:55.797936Z",
     "iopub.status.idle": "2023-04-23T12:54:55.802944Z",
     "shell.execute_reply": "2023-04-23T12:54:55.802637Z"
    },
    "papermill": {
     "duration": 0.009223,
     "end_time": "2023-04-23T12:54:55.803768",
     "exception": false,
     "start_time": "2023-04-23T12:54:55.794545",
     "status": "completed"
    },
    "tags": []
   },
   "outputs": [],
   "source": [
    "dataset.obs[\"scDblFinder_class\"] = droplet_class\n",
    "dataset.obs.scDblFinder_class.value_counts()\n",
    "dataset"
   ]
  },
  {
   "cell_type": "code",
   "execution_count": null,
   "id": "28c95014-2d6c-477f-95cb-9f9f0507520c",
   "metadata": {
    "execution": {
     "iopub.execute_input": "2023-04-23T12:54:55.809687Z",
     "iopub.status.busy": "2023-04-23T12:54:55.809535Z",
     "iopub.status.idle": "2023-04-23T12:54:55.816101Z",
     "shell.execute_reply": "2023-04-23T12:54:55.815791Z"
    },
    "papermill": {
     "duration": 0.010442,
     "end_time": "2023-04-23T12:54:55.816893",
     "exception": false,
     "start_time": "2023-04-23T12:54:55.806451",
     "status": "completed"
    },
    "tags": []
   },
   "outputs": [],
   "source": [
    "dataset = dataset[dataset.obs[\"scDblFinder_class\"] == 1]"
   ]
  },
  {
   "cell_type": "code",
   "execution_count": null,
   "id": "3e22f9e0-bfcb-416c-a151-a9bca3bec3b9",
   "metadata": {
    "execution": {
     "iopub.execute_input": "2023-04-23T12:54:55.822785Z",
     "iopub.status.busy": "2023-04-23T12:54:55.822604Z",
     "iopub.status.idle": "2023-04-23T12:54:56.070686Z",
     "shell.execute_reply": "2023-04-23T12:54:56.070312Z"
    },
    "papermill": {
     "duration": 0.252141,
     "end_time": "2023-04-23T12:54:56.071658",
     "exception": false,
     "start_time": "2023-04-23T12:54:55.819517",
     "status": "completed"
    },
    "tags": []
   },
   "outputs": [],
   "source": [
    "# mitochondrial genes\n",
    "dataset.var[\"mt\"] = dataset.var_names.str.startswith(\"MT-\")\n",
    "# ribosomal genes\n",
    "dataset.var[\"ribo\"] = dataset.var_names.str.startswith((\"RPS\", \"RPL\"))\n",
    "# hemoglobin genes.\n",
    "dataset.var[\"hb\"] = dataset.var_names.str.contains((\"^HB[^(P)]\"))\n",
    "\n",
    "sc.pp.calculate_qc_metrics(dataset,\n",
    "                           qc_vars=['mt', 'ribo', 'hb'],\n",
    "                           percent_top=None,\n",
    "                           log1p=False,\n",
    "                           inplace=True)\n",
    "dataset"
   ]
  },
  {
   "cell_type": "code",
   "execution_count": null,
   "id": "34deee79-4043-428f-8575-aa57b45f6369",
   "metadata": {
    "execution": {
     "iopub.execute_input": "2023-04-23T12:54:56.078859Z",
     "iopub.status.busy": "2023-04-23T12:54:56.078678Z",
     "iopub.status.idle": "2023-04-23T12:54:56.752499Z",
     "shell.execute_reply": "2023-04-23T12:54:56.752016Z"
    },
    "papermill": {
     "duration": 0.678158,
     "end_time": "2023-04-23T12:54:56.753400",
     "exception": false,
     "start_time": "2023-04-23T12:54:56.075242",
     "status": "completed"
    },
    "tags": []
   },
   "outputs": [],
   "source": [
    "fig, ax = plt.subplots(ncols = 4, figsize = (16,4))\n",
    "axis = sc.pl.violin(dataset, \"n_genes_by_counts\", jitter = 0.4, ax = ax[0], show = False)\n",
    "axis.grid(False)\n",
    "axis.set_title(\"Unique Genes per cell\")\n",
    "axis.tick_params(axis = \"x\", bottom =False, labelbottom =False)\n",
    "axis.set_ylabel(\"# genes\")\n",
    "axis.axhline(y = 250, color = \"black\", label = \"cutoff\")\n",
    "axis.legend(fontsize = 14, loc = \"upper right\")\n",
    "\n",
    "axis = sc.pl.violin(dataset, \"pct_counts_mt\", jitter = 0.4, ax = ax[1], show = False)\n",
    "axis.grid(False)\n",
    "axis.set_title(\"Mitochondrial Fraction\")\n",
    "axis.tick_params(axis = \"x\", bottom =False, labelbottom =False)\n",
    "axis.set_ylabel(\"% mitochondrial genes\")\n",
    "axis.axhline(y = 10, color = \"black\", label = \"cutoff\")\n",
    "axis.legend(fontsize = 14, loc = \"upper right\")\n",
    "\n",
    "axis = sc.pl.violin(dataset, \"pct_counts_hb\", jitter = 0.4, ax = ax[2], show = False, size =2)\n",
    "axis.grid(False)\n",
    "axis.set_title(\"Hemoglobin Fraction\")\n",
    "axis.tick_params(axis = \"x\", bottom =False, labelbottom =False)\n",
    "axis.set_ylabel(\"% hemoglobin genes\")\n",
    "axis.axhline(y = 1, color = \"black\", label = \"cutoff\")\n",
    "axis.legend(fontsize = 14, loc = \"upper right\")\n",
    "#axis.set_ylim(0,5)\n",
    "\n",
    "axis = sc.pl.violin(dataset, \"pct_counts_ribo\", jitter = 0.4, ax = ax[3], show = False)\n",
    "axis.grid(False)\n",
    "axis.set_title(\"Ribosomal Fraction\")\n",
    "axis.tick_params(axis = \"x\", bottom =False, labelbottom =False)\n",
    "axis.set_ylabel(\"% ribosome genes\")\n",
    "\n",
    "plt.tight_layout()\n",
    "#plt.savefig(f\"{outputDir}08_gene_based_filtering.pdf\", dpi = 300)\n",
    "plt.show()\n",
    "\n"
   ]
  },
  {
   "cell_type": "code",
   "execution_count": null,
   "id": "d7ade754-843e-4840-8707-426613d8c0c5",
   "metadata": {
    "execution": {
     "iopub.execute_input": "2023-04-23T12:54:56.761611Z",
     "iopub.status.busy": "2023-04-23T12:54:56.761472Z",
     "iopub.status.idle": "2023-04-23T12:54:56.774752Z",
     "shell.execute_reply": "2023-04-23T12:54:56.774374Z"
    },
    "papermill": {
     "duration": 0.018194,
     "end_time": "2023-04-23T12:54:56.775551",
     "exception": false,
     "start_time": "2023-04-23T12:54:56.757357",
     "status": "completed"
    },
    "tags": []
   },
   "outputs": [],
   "source": [
    "dataset = dataset[dataset.obs.pct_counts_mt < 10, :]\n",
    "dataset = dataset[dataset.obs.n_genes_by_counts > 250, :]\n",
    "dataset = dataset[dataset.obs.pct_counts_hb < 1, :]\n",
    "dataset"
   ]
  },
  {
   "cell_type": "code",
   "execution_count": null,
   "id": "2e0ff8c3-2aa9-4a01-9b88-5912a6734447",
   "metadata": {
    "execution": {
     "iopub.execute_input": "2023-04-23T12:54:56.783495Z",
     "iopub.status.busy": "2023-04-23T12:54:56.783067Z",
     "iopub.status.idle": "2023-04-23T12:54:56.866777Z",
     "shell.execute_reply": "2023-04-23T12:54:56.866234Z"
    },
    "papermill": {
     "duration": 0.08885,
     "end_time": "2023-04-23T12:54:56.867849",
     "exception": false,
     "start_time": "2023-04-23T12:54:56.778999",
     "status": "completed"
    },
    "tags": []
   },
   "outputs": [],
   "source": [
    "for col in metadata.columns:\n",
    "    dataset.obs[col] = metadata.loc[(metadata[\"ENA_RUN\"] == sample_name) & (metadata[\"read_index\"] == \"read1\"), col].to_list()[0]"
   ]
  },
  {
   "cell_type": "code",
   "execution_count": null,
   "id": "b84578d3-d63e-419c-a272-a0b8317d05ab",
   "metadata": {
    "execution": {
     "iopub.execute_input": "2023-04-23T12:54:56.876115Z",
     "iopub.status.busy": "2023-04-23T12:54:56.875933Z",
     "iopub.status.idle": "2023-04-23T12:54:57.163152Z",
     "shell.execute_reply": "2023-04-23T12:54:57.162496Z"
    },
    "papermill": {
     "duration": 0.292778,
     "end_time": "2023-04-23T12:54:57.164552",
     "exception": false,
     "start_time": "2023-04-23T12:54:56.871774",
     "status": "completed"
    },
    "tags": []
   },
   "outputs": [],
   "source": [
    "dataset.write(f\"../../int_data/{sample_name}_qc.h5ad\")"
   ]
  }
 ],
 "metadata": {
  "kernelspec": {
   "display_name": "py_R",
   "language": "python",
   "name": "python_r"
  },
  "language_info": {
   "codemirror_mode": {
    "name": "ipython",
    "version": 3
   },
   "file_extension": ".py",
   "mimetype": "text/x-python",
   "name": "python",
   "nbconvert_exporter": "python",
   "pygments_lexer": "ipython3",
   "version": "3.10.9"
  },
  "papermill": {
   "default_parameters": {},
   "duration": 247.742144,
   "end_time": "2023-04-23T12:54:59.903474",
   "environment_variables": {},
   "exception": null,
   "input_path": "ERR7425194.ipynb",
   "output_path": "ERR7425194.ipynb",
   "parameters": {},
   "start_time": "2023-04-23T12:50:52.161330",
   "version": "2.4.0"
  }
 },
 "nbformat": 4,
 "nbformat_minor": 5
}
