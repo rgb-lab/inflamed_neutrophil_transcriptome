{
 "cells": [
  {
   "cell_type": "code",
   "execution_count": null,
   "id": "f87ed95b-2b67-4a5a-8fe2-47359b1dd2a9",
   "metadata": {
    "execution": {
     "iopub.execute_input": "2023-04-23T12:28:31.657589Z",
     "iopub.status.busy": "2023-04-23T12:28:31.657431Z",
     "iopub.status.idle": "2023-04-23T12:28:31.662358Z",
     "shell.execute_reply": "2023-04-23T12:28:31.662050Z"
    },
    "papermill": {
     "duration": 0.009141,
     "end_time": "2023-04-23T12:28:31.663172",
     "exception": false,
     "start_time": "2023-04-23T12:28:31.654031",
     "status": "completed"
    },
    "tags": []
   },
   "outputs": [],
   "source": [
    "import warnings\n",
    "warnings.simplefilter(action='ignore', category=FutureWarning)\n",
    "warnings.simplefilter(action='ignore', category=UserWarning)"
   ]
  },
  {
   "cell_type": "code",
   "execution_count": null,
   "id": "85161f19-b2c5-490b-8cab-c2cf9653b304",
   "metadata": {
    "execution": {
     "iopub.execute_input": "2023-04-23T12:28:31.668325Z",
     "iopub.status.busy": "2023-04-23T12:28:31.668197Z",
     "iopub.status.idle": "2023-04-23T12:28:35.596410Z",
     "shell.execute_reply": "2023-04-23T12:28:35.595950Z"
    },
    "papermill": {
     "duration": 3.932049,
     "end_time": "2023-04-23T12:28:35.597707",
     "exception": false,
     "start_time": "2023-04-23T12:28:31.665658",
     "status": "completed"
    },
    "tags": []
   },
   "outputs": [],
   "source": [
    "import gc\n",
    "import scanpy as sc\n",
    "import muon as mu\n",
    "import seaborn as sns\n",
    "import os\n",
    "import pandas as pd\n",
    "from matplotlib import pyplot as plt\n",
    "\n",
    "os.environ['R_HOME'] = '/gpfs/bwfor/work/ws/hd_fu399-conda/conda/envs/python_R/lib/R/'\n",
    "import anndata2ri\n",
    "import logging\n",
    "\n",
    "import rpy2.rinterface_lib.callbacks as rcb\n",
    "import rpy2.robjects as ro\n",
    "\n",
    "rcb.logger.setLevel(logging.ERROR)\n",
    "ro.pandas2ri.activate()\n",
    "anndata2ri.activate()\n",
    "\n",
    "%load_ext rpy2.ipython"
   ]
  },
  {
   "cell_type": "code",
   "execution_count": null,
   "id": "fc4ade78-b728-4704-9db6-45fbaab62ba1",
   "metadata": {
    "execution": {
     "iopub.execute_input": "2023-04-23T12:28:35.605089Z",
     "iopub.status.busy": "2023-04-23T12:28:35.604818Z",
     "iopub.status.idle": "2023-04-23T12:28:45.037543Z",
     "shell.execute_reply": "2023-04-23T12:28:45.037025Z"
    },
    "papermill": {
     "duration": 9.436872,
     "end_time": "2023-04-23T12:28:45.038905",
     "exception": false,
     "start_time": "2023-04-23T12:28:35.602033",
     "status": "completed"
    },
    "tags": []
   },
   "outputs": [],
   "source": [
    "%%R\n",
    "library(SoupX)\n",
    "library(Seurat)\n",
    "library(scater)\n",
    "library(scDblFinder)\n",
    "library(BiocParallel)\n",
    "library(MuDataSeurat)\n",
    "library(DropletUtils)"
   ]
  },
  {
   "cell_type": "code",
   "execution_count": null,
   "id": "611e4882-fc48-43d1-b1cd-e65e1bde0015",
   "metadata": {
    "execution": {
     "iopub.execute_input": "2023-04-23T12:28:45.047420Z",
     "iopub.status.busy": "2023-04-23T12:28:45.047244Z",
     "iopub.status.idle": "2023-04-23T12:28:45.049640Z",
     "shell.execute_reply": "2023-04-23T12:28:45.049327Z"
    },
    "papermill": {
     "duration": 0.00631,
     "end_time": "2023-04-23T12:28:45.050467",
     "exception": false,
     "start_time": "2023-04-23T12:28:45.044157",
     "status": "completed"
    },
    "tags": []
   },
   "outputs": [],
   "source": [
    "sample_name = \"ERR7425189\""
   ]
  },
  {
   "cell_type": "code",
   "execution_count": null,
   "id": "f7424d90-7690-4290-8651-1db3f9df3a35",
   "metadata": {
    "execution": {
     "iopub.execute_input": "2023-04-23T12:28:45.055622Z",
     "iopub.status.busy": "2023-04-23T12:28:45.055463Z",
     "iopub.status.idle": "2023-04-23T12:28:45.062871Z",
     "shell.execute_reply": "2023-04-23T12:28:45.062558Z"
    },
    "papermill": {
     "duration": 0.011037,
     "end_time": "2023-04-23T12:28:45.063721",
     "exception": false,
     "start_time": "2023-04-23T12:28:45.052684",
     "status": "completed"
    },
    "tags": []
   },
   "outputs": [],
   "source": [
    "metadata = pd.read_csv(\"../../metadata.csv\", index_col = 0)"
   ]
  },
  {
   "cell_type": "code",
   "execution_count": null,
   "id": "2574ecf1-bad4-4c33-8f3f-718a358727ab",
   "metadata": {
    "execution": {
     "iopub.execute_input": "2023-04-23T12:28:45.068788Z",
     "iopub.status.busy": "2023-04-23T12:28:45.068662Z",
     "iopub.status.idle": "2023-04-23T12:28:45.070653Z",
     "shell.execute_reply": "2023-04-23T12:28:45.070348Z"
    },
    "papermill": {
     "duration": 0.005504,
     "end_time": "2023-04-23T12:28:45.071470",
     "exception": false,
     "start_time": "2023-04-23T12:28:45.065966",
     "status": "completed"
    },
    "tags": []
   },
   "outputs": [],
   "source": [
    "raw_input = f\"/home/hd/hd_hd/hd_fu399/sds-hd/sd21k006/scRNAseq/revision_natcomm/montaldo_et_al/{sample_name}/{sample_name}/outs/raw_feature_bc_matrix.h5\""
   ]
  },
  {
   "cell_type": "code",
   "execution_count": null,
   "id": "e266d388-1802-435c-93a5-90067358739c",
   "metadata": {
    "execution": {
     "iopub.execute_input": "2023-04-23T12:28:45.076691Z",
     "iopub.status.busy": "2023-04-23T12:28:45.076504Z",
     "iopub.status.idle": "2023-04-23T12:28:46.205316Z",
     "shell.execute_reply": "2023-04-23T12:28:46.204865Z"
    },
    "papermill": {
     "duration": 1.132532,
     "end_time": "2023-04-23T12:28:46.206263",
     "exception": false,
     "start_time": "2023-04-23T12:28:45.073731",
     "status": "completed"
    },
    "tags": []
   },
   "outputs": [],
   "source": [
    "dataset = sc.read_10x_h5(raw_input)\n",
    "dataset.var_names_make_unique()\n",
    "dataset.obs_names_make_unique()\n",
    "\n",
    "dataset.layers[\"raw_counts\"] = dataset.X.copy()\n",
    "data_tod = dataset.layers[\"raw_counts\"].T.copy()\n",
    "\n",
    "dataset"
   ]
  },
  {
   "cell_type": "code",
   "execution_count": null,
   "id": "af9f5892-ed31-42a6-991b-4e096f582cef",
   "metadata": {
    "execution": {
     "iopub.execute_input": "2023-04-23T12:28:46.212346Z",
     "iopub.status.busy": "2023-04-23T12:28:46.212211Z",
     "iopub.status.idle": "2023-04-23T12:28:46.323629Z",
     "shell.execute_reply": "2023-04-23T12:28:46.323161Z"
    },
    "papermill": {
     "duration": 0.115686,
     "end_time": "2023-04-23T12:28:46.324941",
     "exception": false,
     "start_time": "2023-04-23T12:28:46.209255",
     "status": "completed"
    },
    "tags": []
   },
   "outputs": [],
   "source": [
    "sce = dataset.copy()"
   ]
  },
  {
   "cell_type": "code",
   "execution_count": null,
   "id": "d03f2caf-8e74-430e-b045-0ab80401d165",
   "metadata": {
    "execution": {
     "iopub.execute_input": "2023-04-23T12:28:46.331052Z",
     "iopub.status.busy": "2023-04-23T12:28:46.330884Z",
     "iopub.status.idle": "2023-04-23T12:30:01.029293Z",
     "shell.execute_reply": "2023-04-23T12:30:01.028696Z"
    },
    "papermill": {
     "duration": 74.702811,
     "end_time": "2023-04-23T12:30:01.030756",
     "exception": false,
     "start_time": "2023-04-23T12:28:46.327945",
     "status": "completed"
    },
    "tags": []
   },
   "outputs": [],
   "source": [
    "%%R -i sce -o empty_drop_output\n",
    "set.seed(187)\n",
    "empty_drop_output <- emptyDrops(assay(sce))"
   ]
  },
  {
   "cell_type": "code",
   "execution_count": null,
   "id": "2a34a54b-3ae2-44d6-8679-8769228c5b66",
   "metadata": {
    "execution": {
     "iopub.execute_input": "2023-04-23T12:30:01.039294Z",
     "iopub.status.busy": "2023-04-23T12:30:01.039090Z",
     "iopub.status.idle": "2023-04-23T12:30:01.107237Z",
     "shell.execute_reply": "2023-04-23T12:30:01.106782Z"
    },
    "papermill": {
     "duration": 0.072381,
     "end_time": "2023-04-23T12:30:01.108210",
     "exception": false,
     "start_time": "2023-04-23T12:30:01.035829",
     "status": "completed"
    },
    "tags": []
   },
   "outputs": [],
   "source": [
    "non_empty_barcodes = empty_drop_output[empty_drop_output[\"FDR\"] < 0.001].index\n",
    "dataset = dataset[dataset.obs.index.isin(non_empty_barcodes), :]\n",
    "dataset"
   ]
  },
  {
   "cell_type": "code",
   "execution_count": null,
   "id": "016a91e5-1bef-46fb-b91e-4fb9a6870c44",
   "metadata": {
    "execution": {
     "iopub.execute_input": "2023-04-23T12:30:01.125709Z",
     "iopub.status.busy": "2023-04-23T12:30:01.125526Z",
     "iopub.status.idle": "2023-04-23T12:31:32.831872Z",
     "shell.execute_reply": "2023-04-23T12:31:32.831268Z"
    },
    "papermill": {
     "duration": 91.710898,
     "end_time": "2023-04-23T12:31:32.833350",
     "exception": false,
     "start_time": "2023-04-23T12:30:01.122452",
     "status": "completed"
    },
    "tags": []
   },
   "outputs": [],
   "source": [
    "rna_assay = dataset.copy()\n",
    "sc.pp.normalize_per_cell(rna_assay)\n",
    "sc.pp.log1p(rna_assay)\n",
    "sc.pp.pca(rna_assay)\n",
    "sc.pp.neighbors(rna_assay)\n",
    "sc.tl.leiden(rna_assay, key_added=\"soupx_groups\")\n",
    "\n",
    "soupx_groups = rna_assay.obs[\"soupx_groups\"]\n",
    "\n",
    "del rna_assay\n",
    "\n",
    "genes = dataset.var_names\n",
    "cells = dataset.obs_names\n",
    "data = dataset.X.T.copy()"
   ]
  },
  {
   "cell_type": "code",
   "execution_count": null,
   "id": "9db4ea1f-1580-4f43-a3f0-86002397cd98",
   "metadata": {
    "execution": {
     "iopub.execute_input": "2023-04-23T12:31:32.843709Z",
     "iopub.status.busy": "2023-04-23T12:31:32.843483Z",
     "iopub.status.idle": "2023-04-23T12:32:01.550783Z",
     "shell.execute_reply": "2023-04-23T12:32:01.550190Z"
    },
    "papermill": {
     "duration": 28.712229,
     "end_time": "2023-04-23T12:32:01.552208",
     "exception": false,
     "start_time": "2023-04-23T12:31:32.839979",
     "status": "completed"
    },
    "tags": []
   },
   "outputs": [],
   "source": [
    "%%R -i data -i data_tod -i genes -i cells -i soupx_groups -o out \n",
    "set.seed(187)\n",
    "# specify row and column names of data\n",
    "rownames(data) = genes\n",
    "colnames(data) = cells\n",
    "# ensure correct sparse format for table of counts and table of droplets\n",
    "data <- as(data, \"sparseMatrix\")\n",
    "data_tod <- as(data_tod, \"sparseMatrix\")\n",
    "\n",
    "# Generate SoupChannel Object for SoupX \n",
    "sc = SoupChannel(data_tod, data, calcSoupProfile = FALSE)\n",
    "\n",
    "# Add extra meta data to the SoupChannel object\n",
    "soupProf = data.frame(row.names = rownames(data),\n",
    "                      est = rowSums(data)/sum(data),\n",
    "                      counts = rowSums(data))\n",
    "sc = setSoupProfile(sc, soupProf)\n",
    "# Set cluster information in SoupChannel\n",
    "sc = setClusters(sc, soupx_groups)\n",
    "\n",
    "# Estimate contamination fraction\n",
    "sc  = autoEstCont(sc, doPlot=FALSE, forceAccept = TRUE)\n",
    "# Infer corrected table of counts and rount to integer\n",
    "out = adjustCounts(sc, roundToInt = TRUE)"
   ]
  },
  {
   "cell_type": "code",
   "execution_count": null,
   "id": "32555d5e-5fa3-46dd-a4e0-ddc96ea265e2",
   "metadata": {
    "execution": {
     "iopub.execute_input": "2023-04-23T12:32:01.560691Z",
     "iopub.status.busy": "2023-04-23T12:32:01.560520Z",
     "iopub.status.idle": "2023-04-23T12:32:01.653513Z",
     "shell.execute_reply": "2023-04-23T12:32:01.653037Z"
    },
    "papermill": {
     "duration": 0.097824,
     "end_time": "2023-04-23T12:32:01.654944",
     "exception": false,
     "start_time": "2023-04-23T12:32:01.557120",
     "status": "completed"
    },
    "tags": []
   },
   "outputs": [],
   "source": [
    "dataset.layers[\"soupX_counts\"] = out.T\n",
    "dataset.X = dataset.layers[\"soupX_counts\"].copy()"
   ]
  },
  {
   "cell_type": "code",
   "execution_count": null,
   "id": "e27da7df-e094-4d2a-9109-5a363e012175",
   "metadata": {
    "execution": {
     "iopub.execute_input": "2023-04-23T12:32:01.661325Z",
     "iopub.status.busy": "2023-04-23T12:32:01.661157Z",
     "iopub.status.idle": "2023-04-23T12:32:01.663618Z",
     "shell.execute_reply": "2023-04-23T12:32:01.663275Z"
    },
    "papermill": {
     "duration": 0.006408,
     "end_time": "2023-04-23T12:32:01.664439",
     "exception": false,
     "start_time": "2023-04-23T12:32:01.658031",
     "status": "completed"
    },
    "tags": []
   },
   "outputs": [],
   "source": [
    "data_mat = dataset.X.T"
   ]
  },
  {
   "cell_type": "code",
   "execution_count": null,
   "id": "80a993b1-5ccb-4697-9187-1beb7ab8aff9",
   "metadata": {
    "execution": {
     "iopub.execute_input": "2023-04-23T12:32:01.670331Z",
     "iopub.status.busy": "2023-04-23T12:32:01.670168Z",
     "iopub.status.idle": "2023-04-23T12:32:56.753938Z",
     "shell.execute_reply": "2023-04-23T12:32:56.753365Z"
    },
    "papermill": {
     "duration": 55.088199,
     "end_time": "2023-04-23T12:32:56.755245",
     "exception": false,
     "start_time": "2023-04-23T12:32:01.667046",
     "status": "completed"
    },
    "tags": []
   },
   "outputs": [],
   "source": [
    "%%R -i data_mat -o droplet_class\n",
    "\n",
    "set.seed(187)\n",
    "sce = scDblFinder(\n",
    "    SingleCellExperiment(\n",
    "        list(counts=data_mat),\n",
    "    ) \n",
    ")\n",
    "droplet_class = sce$scDblFinder.class"
   ]
  },
  {
   "cell_type": "code",
   "execution_count": null,
   "id": "d4dd6e9d-fcf2-41fc-8457-c8e0a3cb2c71",
   "metadata": {
    "execution": {
     "iopub.execute_input": "2023-04-23T12:32:56.764082Z",
     "iopub.status.busy": "2023-04-23T12:32:56.763899Z",
     "iopub.status.idle": "2023-04-23T12:32:56.769080Z",
     "shell.execute_reply": "2023-04-23T12:32:56.768730Z"
    },
    "papermill": {
     "duration": 0.009464,
     "end_time": "2023-04-23T12:32:56.769880",
     "exception": false,
     "start_time": "2023-04-23T12:32:56.760416",
     "status": "completed"
    },
    "tags": []
   },
   "outputs": [],
   "source": [
    "dataset.obs[\"scDblFinder_class\"] = droplet_class\n",
    "dataset.obs.scDblFinder_class.value_counts()\n",
    "dataset"
   ]
  },
  {
   "cell_type": "code",
   "execution_count": null,
   "id": "28c95014-2d6c-477f-95cb-9f9f0507520c",
   "metadata": {
    "execution": {
     "iopub.execute_input": "2023-04-23T12:32:56.776031Z",
     "iopub.status.busy": "2023-04-23T12:32:56.775884Z",
     "iopub.status.idle": "2023-04-23T12:32:56.783494Z",
     "shell.execute_reply": "2023-04-23T12:32:56.783173Z"
    },
    "papermill": {
     "duration": 0.011641,
     "end_time": "2023-04-23T12:32:56.784302",
     "exception": false,
     "start_time": "2023-04-23T12:32:56.772661",
     "status": "completed"
    },
    "tags": []
   },
   "outputs": [],
   "source": [
    "dataset = dataset[dataset.obs[\"scDblFinder_class\"] == 1]"
   ]
  },
  {
   "cell_type": "code",
   "execution_count": null,
   "id": "3e22f9e0-bfcb-416c-a151-a9bca3bec3b9",
   "metadata": {
    "execution": {
     "iopub.execute_input": "2023-04-23T12:32:56.790418Z",
     "iopub.status.busy": "2023-04-23T12:32:56.790236Z",
     "iopub.status.idle": "2023-04-23T12:32:57.152071Z",
     "shell.execute_reply": "2023-04-23T12:32:57.151627Z"
    },
    "papermill": {
     "duration": 0.366041,
     "end_time": "2023-04-23T12:32:57.153024",
     "exception": false,
     "start_time": "2023-04-23T12:32:56.786983",
     "status": "completed"
    },
    "tags": []
   },
   "outputs": [],
   "source": [
    "# mitochondrial genes\n",
    "dataset.var[\"mt\"] = dataset.var_names.str.startswith(\"MT-\")\n",
    "# ribosomal genes\n",
    "dataset.var[\"ribo\"] = dataset.var_names.str.startswith((\"RPS\", \"RPL\"))\n",
    "# hemoglobin genes.\n",
    "dataset.var[\"hb\"] = dataset.var_names.str.contains((\"^HB[^(P)]\"))\n",
    "\n",
    "sc.pp.calculate_qc_metrics(dataset,\n",
    "                           qc_vars=['mt', 'ribo', 'hb'],\n",
    "                           percent_top=None,\n",
    "                           log1p=False,\n",
    "                           inplace=True)\n",
    "dataset"
   ]
  },
  {
   "cell_type": "code",
   "execution_count": null,
   "id": "34deee79-4043-428f-8575-aa57b45f6369",
   "metadata": {
    "execution": {
     "iopub.execute_input": "2023-04-23T12:32:57.160153Z",
     "iopub.status.busy": "2023-04-23T12:32:57.159970Z",
     "iopub.status.idle": "2023-04-23T12:32:57.837362Z",
     "shell.execute_reply": "2023-04-23T12:32:57.836992Z"
    },
    "papermill": {
     "duration": 0.681911,
     "end_time": "2023-04-23T12:32:57.838413",
     "exception": false,
     "start_time": "2023-04-23T12:32:57.156502",
     "status": "completed"
    },
    "tags": []
   },
   "outputs": [],
   "source": [
    "fig, ax = plt.subplots(ncols = 4, figsize = (16,4))\n",
    "axis = sc.pl.violin(dataset, \"n_genes_by_counts\", jitter = 0.4, ax = ax[0], show = False)\n",
    "axis.grid(False)\n",
    "axis.set_title(\"Unique Genes per cell\")\n",
    "axis.tick_params(axis = \"x\", bottom =False, labelbottom =False)\n",
    "axis.set_ylabel(\"# genes\")\n",
    "axis.axhline(y = 250, color = \"black\", label = \"cutoff\")\n",
    "axis.legend(fontsize = 14, loc = \"upper right\")\n",
    "\n",
    "axis = sc.pl.violin(dataset, \"pct_counts_mt\", jitter = 0.4, ax = ax[1], show = False)\n",
    "axis.grid(False)\n",
    "axis.set_title(\"Mitochondrial Fraction\")\n",
    "axis.tick_params(axis = \"x\", bottom =False, labelbottom =False)\n",
    "axis.set_ylabel(\"% mitochondrial genes\")\n",
    "axis.axhline(y = 10, color = \"black\", label = \"cutoff\")\n",
    "axis.legend(fontsize = 14, loc = \"upper right\")\n",
    "\n",
    "axis = sc.pl.violin(dataset, \"pct_counts_hb\", jitter = 0.4, ax = ax[2], show = False, size =2)\n",
    "axis.grid(False)\n",
    "axis.set_title(\"Hemoglobin Fraction\")\n",
    "axis.tick_params(axis = \"x\", bottom =False, labelbottom =False)\n",
    "axis.set_ylabel(\"% hemoglobin genes\")\n",
    "axis.axhline(y = 1, color = \"black\", label = \"cutoff\")\n",
    "axis.legend(fontsize = 14, loc = \"upper right\")\n",
    "#axis.set_ylim(0,5)\n",
    "\n",
    "axis = sc.pl.violin(dataset, \"pct_counts_ribo\", jitter = 0.4, ax = ax[3], show = False)\n",
    "axis.grid(False)\n",
    "axis.set_title(\"Ribosomal Fraction\")\n",
    "axis.tick_params(axis = \"x\", bottom =False, labelbottom =False)\n",
    "axis.set_ylabel(\"% ribosome genes\")\n",
    "\n",
    "plt.tight_layout()\n",
    "#plt.savefig(f\"{outputDir}08_gene_based_filtering.pdf\", dpi = 300)\n",
    "plt.show()\n",
    "\n"
   ]
  },
  {
   "cell_type": "code",
   "execution_count": null,
   "id": "d7ade754-843e-4840-8707-426613d8c0c5",
   "metadata": {
    "execution": {
     "iopub.execute_input": "2023-04-23T12:32:57.847195Z",
     "iopub.status.busy": "2023-04-23T12:32:57.847018Z",
     "iopub.status.idle": "2023-04-23T12:32:57.859389Z",
     "shell.execute_reply": "2023-04-23T12:32:57.859074Z"
    },
    "papermill": {
     "duration": 0.017614,
     "end_time": "2023-04-23T12:32:57.860200",
     "exception": false,
     "start_time": "2023-04-23T12:32:57.842586",
     "status": "completed"
    },
    "tags": []
   },
   "outputs": [],
   "source": [
    "dataset = dataset[dataset.obs.pct_counts_mt < 10, :]\n",
    "dataset = dataset[dataset.obs.n_genes_by_counts > 250, :]\n",
    "dataset = dataset[dataset.obs.pct_counts_hb < 1, :]\n",
    "dataset"
   ]
  },
  {
   "cell_type": "code",
   "execution_count": null,
   "id": "2e0ff8c3-2aa9-4a01-9b88-5912a6734447",
   "metadata": {
    "execution": {
     "iopub.execute_input": "2023-04-23T12:32:57.868892Z",
     "iopub.status.busy": "2023-04-23T12:32:57.868758Z",
     "iopub.status.idle": "2023-04-23T12:32:57.985055Z",
     "shell.execute_reply": "2023-04-23T12:32:57.984637Z"
    },
    "papermill": {
     "duration": 0.122165,
     "end_time": "2023-04-23T12:32:57.986283",
     "exception": false,
     "start_time": "2023-04-23T12:32:57.864118",
     "status": "completed"
    },
    "tags": []
   },
   "outputs": [],
   "source": [
    "for col in metadata.columns:\n",
    "    dataset.obs[col] = metadata.loc[(metadata[\"ENA_RUN\"] == sample_name) & (metadata[\"read_index\"] == \"read1\"), col].to_list()[0]"
   ]
  },
  {
   "cell_type": "code",
   "execution_count": null,
   "id": "b84578d3-d63e-419c-a272-a0b8317d05ab",
   "metadata": {
    "execution": {
     "iopub.execute_input": "2023-04-23T12:32:57.995776Z",
     "iopub.status.busy": "2023-04-23T12:32:57.995612Z",
     "iopub.status.idle": "2023-04-23T12:32:58.317858Z",
     "shell.execute_reply": "2023-04-23T12:32:58.317396Z"
    },
    "papermill": {
     "duration": 0.328364,
     "end_time": "2023-04-23T12:32:58.319173",
     "exception": false,
     "start_time": "2023-04-23T12:32:57.990809",
     "status": "completed"
    },
    "tags": []
   },
   "outputs": [],
   "source": [
    "dataset.write(f\"../../int_data/{sample_name}_qc.h5ad\")"
   ]
  }
 ],
 "metadata": {
  "kernelspec": {
   "display_name": "py_R",
   "language": "python",
   "name": "python_r"
  },
  "language_info": {
   "codemirror_mode": {
    "name": "ipython",
    "version": 3
   },
   "file_extension": ".py",
   "mimetype": "text/x-python",
   "name": "python",
   "nbconvert_exporter": "python",
   "pygments_lexer": "ipython3",
   "version": "3.10.9"
  },
  "papermill": {
   "default_parameters": {},
   "duration": 269.293801,
   "end_time": "2023-04-23T12:33:00.243227",
   "environment_variables": {},
   "exception": null,
   "input_path": "ERR7425189.ipynb",
   "output_path": "ERR7425189.ipynb",
   "parameters": {},
   "start_time": "2023-04-23T12:28:30.949426",
   "version": "2.4.0"
  }
 },
 "nbformat": 4,
 "nbformat_minor": 5
}
