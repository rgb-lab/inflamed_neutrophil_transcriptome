{
 "cells": [
  {
   "cell_type": "code",
   "execution_count": null,
   "id": "456c4d67-d8bd-4c3a-9172-4afbd060c079",
   "metadata": {
    "tags": []
   },
   "outputs": [],
   "source": [
    "import pandas as pd"
   ]
  },
  {
   "cell_type": "code",
   "execution_count": null,
   "id": "91cb7c97-dda6-445c-8b41-9f0e061d6f01",
   "metadata": {
    "tags": []
   },
   "outputs": [],
   "source": [
    "metadata = pd.read_csv(\"../../metadata.txt\", sep = \"\\t\")"
   ]
  },
  {
   "cell_type": "code",
   "execution_count": null,
   "id": "3ebcd4db-759c-4afb-bd46-eb76dc8f546b",
   "metadata": {
    "tags": []
   },
   "outputs": [],
   "source": [
    "metadata_columns = metadata.columns.to_list()\n",
    "for i, column in enumerate(metadata.columns):\n",
    "    if \" \" in column:\n",
    "        column = column.replace(\" \", \"_\")\n",
    "    if \"[\" in column:\n",
    "        column = column.split(\"[\")[1].split(\"]\")[0]\n",
    "    \n",
    "    metadata_columns[i] = column\n",
    "metadata.columns = metadata_columns"
   ]
  },
  {
   "cell_type": "code",
   "execution_count": null,
   "id": "26864b32-b9f9-441f-bd59-7e5197a6f052",
   "metadata": {
    "tags": []
   },
   "outputs": [],
   "source": [
    "metadata.to_csv(\"../../metadata.csv\")"
   ]
  },
  {
   "cell_type": "code",
   "execution_count": null,
   "id": "673a547a-c9c9-4473-85b9-95346680771c",
   "metadata": {
    "tags": []
   },
   "outputs": [],
   "source": [
    "metadata = pd.read_csv(\"../../metadata.csv\", index_col = 0)\n",
    "metadata"
   ]
  }
 ],
 "metadata": {
  "kernelspec": {
   "display_name": "velocyto",
   "language": "python",
   "name": "velocyto"
  },
  "language_info": {
   "codemirror_mode": {
    "name": "ipython",
    "version": 3
   },
   "file_extension": ".py",
   "mimetype": "text/x-python",
   "name": "python",
   "nbconvert_exporter": "python",
   "pygments_lexer": "ipython3",
   "version": "3.10.9"
  }
 },
 "nbformat": 4,
 "nbformat_minor": 5
}
