{
 "cells": [
  {
   "cell_type": "code",
   "execution_count": null,
   "id": "77ea78c3-c87f-42db-ba25-1c8123a081b3",
   "metadata": {
    "tags": []
   },
   "outputs": [],
   "source": [
    "import gc\n",
    "import scanpy as sc\n",
    "import muon as mu\n",
    "import seaborn as sns\n",
    "import os\n",
    "import pandas as pd\n",
    "from matplotlib import pyplot as plt\n",
    "\n",
    "os.environ['R_HOME'] = '/gpfs/bwfor/work/ws/hd_fu399-conda/conda/envs/python_R/lib/R/'\n",
    "import anndata2ri\n",
    "import logging\n",
    "\n",
    "import rpy2.rinterface_lib.callbacks as rcb\n",
    "import rpy2.robjects as ro\n",
    "\n",
    "rcb.logger.setLevel(logging.ERROR)\n",
    "ro.pandas2ri.activate()\n",
    "anndata2ri.activate()\n",
    "\n",
    "%load_ext rpy2.ipython"
   ]
  },
  {
   "cell_type": "code",
   "execution_count": null,
   "id": "916f8237-9e44-4993-a808-60c98f30652b",
   "metadata": {
    "tags": []
   },
   "outputs": [],
   "source": [
    "%%R\n",
    "suppressMessages(library(SingleCellExperiment))"
   ]
  },
  {
   "cell_type": "code",
   "execution_count": null,
   "id": "ffc447d5-f914-4c45-9aa1-77dce63e9aea",
   "metadata": {
    "tags": []
   },
   "outputs": [],
   "source": [
    "metadata = pd.read_csv(\"../../metadata.csv\", index_col = 0)"
   ]
  },
  {
   "cell_type": "code",
   "execution_count": null,
   "id": "455520a8-7ae0-47ba-b55b-a77525aa7435",
   "metadata": {
    "tags": []
   },
   "outputs": [],
   "source": [
    "sample_list_ucb = list(set(metadata.loc[metadata[\"organism_part\"] == \"umbilical cord blood\", \"ENA_RUN\"].to_list()))\n",
    "sample_list_gcsf = list(set(metadata.loc[(metadata[\"organism_part\"] == \"blood\") & (metadata[\"disease.1\"] == \"normal\"), \"ENA_RUN\"]))\n"
   ]
  },
  {
   "cell_type": "code",
   "execution_count": null,
   "id": "a7563989-a090-4b4d-b9cf-b07a1c96763c",
   "metadata": {
    "tags": []
   },
   "outputs": [],
   "source": [
    "def fetch_dataset(sample_name):\n",
    "    return sc.read(f\"../../int_data/{sample_name}_qc.h5ad\")"
   ]
  },
  {
   "cell_type": "code",
   "execution_count": null,
   "id": "2865730d-e1df-4f72-856c-1241e441e033",
   "metadata": {},
   "outputs": [],
   "source": [
    "## gcsf samples\n",
    "\n",
    "dataset = sc.read(f\"../../int_data/{sample_list_gcsf[0]}_qc.h5ad\")\n",
    "\n",
    "dataset = dataset.concatenate([fetch_dataset(sample_name) for sample_name in sample_list_gcsf[1:len(sample_list_gcsf)]])\n",
    "\n",
    "dataset.write(\"../../int_data/dataset_gcsf_qc.h5ad\")"
   ]
  },
  {
   "cell_type": "code",
   "execution_count": null,
   "id": "1c453670-f748-4dcd-b7ec-661d7abcd627",
   "metadata": {
    "tags": []
   },
   "outputs": [],
   "source": [
    "## ucb samples\n",
    "\n",
    "dataset = sc.read(f\"../../int_data/{sample_list_ucb[0]}_qc.h5ad\")\n",
    "\n",
    "dataset = dataset.concatenate([fetch_dataset(sample_name) for sample_name in sample_list_ucb[1:len(sample_list_ucb)]])\n",
    "\n",
    "dataset.write(\"../../int_data/dataset_ucb_qc.h5ad\")"
   ]
  },
  {
   "cell_type": "code",
   "execution_count": null,
   "id": "5098399d-dac3-42b0-a96a-e1b443c57921",
   "metadata": {
    "tags": []
   },
   "outputs": [],
   "source": [
    "dataset = sc.read(\"../../int_data/dataset_ucb_qc.h5ad\")"
   ]
  },
  {
   "cell_type": "code",
   "execution_count": null,
   "id": "b9d6f0aa-26a7-495c-a9b6-5b0c50f7e0be",
   "metadata": {
    "tags": []
   },
   "outputs": [],
   "source": [
    "sce = dataset.copy()"
   ]
  },
  {
   "cell_type": "code",
   "execution_count": null,
   "id": "ef72d605-df76-4b9b-84c1-0da3fcc36d2c",
   "metadata": {},
   "outputs": [],
   "source": [
    "%%R -i sce\n",
    "\n",
    "print(sce)\n",
    "\n",
    "saveRDS(sce, \"../../int_data/dataset_ucb_qc.rds\")"
   ]
  },
  {
   "cell_type": "code",
   "execution_count": null,
   "id": "ad021b4f-30bf-4d5a-bc8d-b62865ad7842",
   "metadata": {},
   "outputs": [],
   "source": [
    "dataset = sc.read(\"../../int_data/dataset_gcsf_qc.h5ad\")"
   ]
  },
  {
   "cell_type": "code",
   "execution_count": null,
   "id": "15b1ec70-552f-4229-a6e0-1b66aaddfd9c",
   "metadata": {},
   "outputs": [],
   "source": [
    "sce = dataset.copy()"
   ]
  },
  {
   "cell_type": "code",
   "execution_count": null,
   "id": "57c6ddfe-79aa-4c59-9073-76ce50e879b2",
   "metadata": {},
   "outputs": [],
   "source": [
    "%%R -i sce\n",
    "\n",
    "print(sce)\n",
    "\n",
    "saveRDS(sce, \"../../int_data/dataset_gcsf_qc.rds\")"
   ]
  }
 ],
 "metadata": {
  "kernelspec": {
   "display_name": "py_R",
   "language": "python",
   "name": "python_r"
  },
  "language_info": {
   "codemirror_mode": {
    "name": "ipython",
    "version": 3
   },
   "file_extension": ".py",
   "mimetype": "text/x-python",
   "name": "python",
   "nbconvert_exporter": "python",
   "pygments_lexer": "ipython3",
   "version": "3.10.9"
  }
 },
 "nbformat": 4,
 "nbformat_minor": 5
}
