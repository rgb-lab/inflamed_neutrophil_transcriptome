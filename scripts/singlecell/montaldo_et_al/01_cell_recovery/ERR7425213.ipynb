{
 "cells": [
  {
   "cell_type": "code",
   "execution_count": null,
   "id": "f87ed95b-2b67-4a5a-8fe2-47359b1dd2a9",
   "metadata": {
    "execution": {
     "iopub.execute_input": "2023-04-23T13:56:51.436775Z",
     "iopub.status.busy": "2023-04-23T13:56:51.436610Z",
     "iopub.status.idle": "2023-04-23T13:56:51.444280Z",
     "shell.execute_reply": "2023-04-23T13:56:51.443925Z"
    },
    "papermill": {
     "duration": 0.012167,
     "end_time": "2023-04-23T13:56:51.445179",
     "exception": false,
     "start_time": "2023-04-23T13:56:51.433012",
     "status": "completed"
    },
    "tags": []
   },
   "outputs": [],
   "source": [
    "import warnings\n",
    "warnings.simplefilter(action='ignore', category=FutureWarning)\n",
    "warnings.simplefilter(action='ignore', category=UserWarning)"
   ]
  },
  {
   "cell_type": "code",
   "execution_count": null,
   "id": "85161f19-b2c5-490b-8cab-c2cf9653b304",
   "metadata": {
    "execution": {
     "iopub.execute_input": "2023-04-23T13:56:51.450018Z",
     "iopub.status.busy": "2023-04-23T13:56:51.449874Z",
     "iopub.status.idle": "2023-04-23T13:56:55.777350Z",
     "shell.execute_reply": "2023-04-23T13:56:55.776891Z"
    },
    "papermill": {
     "duration": 4.331113,
     "end_time": "2023-04-23T13:56:55.778580",
     "exception": false,
     "start_time": "2023-04-23T13:56:51.447467",
     "status": "completed"
    },
    "tags": []
   },
   "outputs": [],
   "source": [
    "import gc\n",
    "import scanpy as sc\n",
    "import muon as mu\n",
    "import seaborn as sns\n",
    "import os\n",
    "import pandas as pd\n",
    "from matplotlib import pyplot as plt\n",
    "\n",
    "os.environ['R_HOME'] = '/gpfs/bwfor/work/ws/hd_fu399-conda/conda/envs/python_R/lib/R/'\n",
    "import anndata2ri\n",
    "import logging\n",
    "\n",
    "import rpy2.rinterface_lib.callbacks as rcb\n",
    "import rpy2.robjects as ro\n",
    "\n",
    "rcb.logger.setLevel(logging.ERROR)\n",
    "ro.pandas2ri.activate()\n",
    "anndata2ri.activate()\n",
    "\n",
    "%load_ext rpy2.ipython"
   ]
  },
  {
   "cell_type": "code",
   "execution_count": null,
   "id": "fc4ade78-b728-4704-9db6-45fbaab62ba1",
   "metadata": {
    "execution": {
     "iopub.execute_input": "2023-04-23T13:56:55.788237Z",
     "iopub.status.busy": "2023-04-23T13:56:55.787952Z",
     "iopub.status.idle": "2023-04-23T13:57:05.517370Z",
     "shell.execute_reply": "2023-04-23T13:57:05.516820Z"
    },
    "papermill": {
     "duration": 9.733674,
     "end_time": "2023-04-23T13:57:05.518684",
     "exception": false,
     "start_time": "2023-04-23T13:56:55.785010",
     "status": "completed"
    },
    "tags": []
   },
   "outputs": [],
   "source": [
    "%%R\n",
    "library(SoupX)\n",
    "library(Seurat)\n",
    "library(scater)\n",
    "library(scDblFinder)\n",
    "library(BiocParallel)\n",
    "library(MuDataSeurat)\n",
    "library(DropletUtils)"
   ]
  },
  {
   "cell_type": "code",
   "execution_count": null,
   "id": "611e4882-fc48-43d1-b1cd-e65e1bde0015",
   "metadata": {
    "execution": {
     "iopub.execute_input": "2023-04-23T13:57:05.526517Z",
     "iopub.status.busy": "2023-04-23T13:57:05.526363Z",
     "iopub.status.idle": "2023-04-23T13:57:05.528726Z",
     "shell.execute_reply": "2023-04-23T13:57:05.528417Z"
    },
    "papermill": {
     "duration": 0.006242,
     "end_time": "2023-04-23T13:57:05.529523",
     "exception": false,
     "start_time": "2023-04-23T13:57:05.523281",
     "status": "completed"
    },
    "tags": []
   },
   "outputs": [],
   "source": [
    "sample_name = \"ERR7425213\""
   ]
  },
  {
   "cell_type": "code",
   "execution_count": null,
   "id": "f7424d90-7690-4290-8651-1db3f9df3a35",
   "metadata": {
    "execution": {
     "iopub.execute_input": "2023-04-23T13:57:05.534397Z",
     "iopub.status.busy": "2023-04-23T13:57:05.534263Z",
     "iopub.status.idle": "2023-04-23T13:57:05.541399Z",
     "shell.execute_reply": "2023-04-23T13:57:05.541084Z"
    },
    "papermill": {
     "duration": 0.010487,
     "end_time": "2023-04-23T13:57:05.542178",
     "exception": false,
     "start_time": "2023-04-23T13:57:05.531691",
     "status": "completed"
    },
    "tags": []
   },
   "outputs": [],
   "source": [
    "metadata = pd.read_csv(\"../../metadata.csv\", index_col = 0)"
   ]
  },
  {
   "cell_type": "code",
   "execution_count": null,
   "id": "2574ecf1-bad4-4c33-8f3f-718a358727ab",
   "metadata": {
    "execution": {
     "iopub.execute_input": "2023-04-23T13:57:05.547154Z",
     "iopub.status.busy": "2023-04-23T13:57:05.546867Z",
     "iopub.status.idle": "2023-04-23T13:57:05.548884Z",
     "shell.execute_reply": "2023-04-23T13:57:05.548584Z"
    },
    "papermill": {
     "duration": 0.005346,
     "end_time": "2023-04-23T13:57:05.549660",
     "exception": false,
     "start_time": "2023-04-23T13:57:05.544314",
     "status": "completed"
    },
    "tags": []
   },
   "outputs": [],
   "source": [
    "raw_input = f\"/home/hd/hd_hd/hd_fu399/sds-hd/sd21k006/scRNAseq/revision_natcomm/montaldo_et_al/{sample_name}/{sample_name}/outs/raw_feature_bc_matrix.h5\""
   ]
  },
  {
   "cell_type": "code",
   "execution_count": null,
   "id": "e266d388-1802-435c-93a5-90067358739c",
   "metadata": {
    "execution": {
     "iopub.execute_input": "2023-04-23T13:57:05.554724Z",
     "iopub.status.busy": "2023-04-23T13:57:05.554452Z",
     "iopub.status.idle": "2023-04-23T13:57:06.285665Z",
     "shell.execute_reply": "2023-04-23T13:57:06.285231Z"
    },
    "papermill": {
     "duration": 0.734785,
     "end_time": "2023-04-23T13:57:06.286618",
     "exception": false,
     "start_time": "2023-04-23T13:57:05.551833",
     "status": "completed"
    },
    "tags": []
   },
   "outputs": [],
   "source": [
    "dataset = sc.read_10x_h5(raw_input)\n",
    "dataset.var_names_make_unique()\n",
    "dataset.obs_names_make_unique()\n",
    "\n",
    "dataset.layers[\"raw_counts\"] = dataset.X.copy()\n",
    "data_tod = dataset.layers[\"raw_counts\"].T.copy()\n",
    "\n",
    "dataset"
   ]
  },
  {
   "cell_type": "code",
   "execution_count": null,
   "id": "af9f5892-ed31-42a6-991b-4e096f582cef",
   "metadata": {
    "execution": {
     "iopub.execute_input": "2023-04-23T13:57:06.292858Z",
     "iopub.status.busy": "2023-04-23T13:57:06.292677Z",
     "iopub.status.idle": "2023-04-23T13:57:06.379529Z",
     "shell.execute_reply": "2023-04-23T13:57:06.379064Z"
    },
    "papermill": {
     "duration": 0.090875,
     "end_time": "2023-04-23T13:57:06.380651",
     "exception": false,
     "start_time": "2023-04-23T13:57:06.289776",
     "status": "completed"
    },
    "tags": []
   },
   "outputs": [],
   "source": [
    "sce = dataset.copy()"
   ]
  },
  {
   "cell_type": "code",
   "execution_count": null,
   "id": "d03f2caf-8e74-430e-b045-0ab80401d165",
   "metadata": {
    "execution": {
     "iopub.execute_input": "2023-04-23T13:57:06.386837Z",
     "iopub.status.busy": "2023-04-23T13:57:06.386524Z",
     "iopub.status.idle": "2023-04-23T13:58:06.584864Z",
     "shell.execute_reply": "2023-04-23T13:58:06.584262Z"
    },
    "papermill": {
     "duration": 60.20273,
     "end_time": "2023-04-23T13:58:06.586159",
     "exception": false,
     "start_time": "2023-04-23T13:57:06.383429",
     "status": "completed"
    },
    "tags": []
   },
   "outputs": [],
   "source": [
    "%%R -i sce -o empty_drop_output\n",
    "set.seed(187)\n",
    "empty_drop_output <- emptyDrops(assay(sce))"
   ]
  },
  {
   "cell_type": "code",
   "execution_count": null,
   "id": "2a34a54b-3ae2-44d6-8679-8769228c5b66",
   "metadata": {
    "execution": {
     "iopub.execute_input": "2023-04-23T13:58:06.595155Z",
     "iopub.status.busy": "2023-04-23T13:58:06.594949Z",
     "iopub.status.idle": "2023-04-23T13:58:06.641542Z",
     "shell.execute_reply": "2023-04-23T13:58:06.641150Z"
    },
    "papermill": {
     "duration": 0.050596,
     "end_time": "2023-04-23T13:58:06.642436",
     "exception": false,
     "start_time": "2023-04-23T13:58:06.591840",
     "status": "completed"
    },
    "tags": []
   },
   "outputs": [],
   "source": [
    "non_empty_barcodes = empty_drop_output[empty_drop_output[\"FDR\"] < 0.001].index\n",
    "dataset = dataset[dataset.obs.index.isin(non_empty_barcodes), :]\n",
    "dataset"
   ]
  },
  {
   "cell_type": "code",
   "execution_count": null,
   "id": "016a91e5-1bef-46fb-b91e-4fb9a6870c44",
   "metadata": {
    "execution": {
     "iopub.execute_input": "2023-04-23T13:58:06.648035Z",
     "iopub.status.busy": "2023-04-23T13:58:06.647853Z",
     "iopub.status.idle": "2023-04-23T13:58:13.313064Z",
     "shell.execute_reply": "2023-04-23T13:58:13.312580Z"
    },
    "papermill": {
     "duration": 6.66957,
     "end_time": "2023-04-23T13:58:13.314490",
     "exception": false,
     "start_time": "2023-04-23T13:58:06.644920",
     "status": "completed"
    },
    "tags": []
   },
   "outputs": [],
   "source": [
    "rna_assay = dataset.copy()\n",
    "sc.pp.normalize_per_cell(rna_assay)\n",
    "sc.pp.log1p(rna_assay)\n",
    "sc.pp.pca(rna_assay)\n",
    "sc.pp.neighbors(rna_assay)\n",
    "sc.tl.leiden(rna_assay, key_added=\"soupx_groups\")\n",
    "\n",
    "soupx_groups = rna_assay.obs[\"soupx_groups\"]\n",
    "\n",
    "del rna_assay\n",
    "\n",
    "genes = dataset.var_names\n",
    "cells = dataset.obs_names\n",
    "data = dataset.X.T.copy()"
   ]
  },
  {
   "cell_type": "code",
   "execution_count": null,
   "id": "9db4ea1f-1580-4f43-a3f0-86002397cd98",
   "metadata": {
    "execution": {
     "iopub.execute_input": "2023-04-23T13:58:13.322940Z",
     "iopub.status.busy": "2023-04-23T13:58:13.322735Z",
     "iopub.status.idle": "2023-04-23T13:58:28.296480Z",
     "shell.execute_reply": "2023-04-23T13:58:28.296009Z"
    },
    "papermill": {
     "duration": 14.978348,
     "end_time": "2023-04-23T13:58:28.297822",
     "exception": false,
     "start_time": "2023-04-23T13:58:13.319474",
     "status": "completed"
    },
    "tags": []
   },
   "outputs": [],
   "source": [
    "%%R -i data -i data_tod -i genes -i cells -i soupx_groups -o out \n",
    "set.seed(187)\n",
    "# specify row and column names of data\n",
    "rownames(data) = genes\n",
    "colnames(data) = cells\n",
    "# ensure correct sparse format for table of counts and table of droplets\n",
    "data <- as(data, \"sparseMatrix\")\n",
    "data_tod <- as(data_tod, \"sparseMatrix\")\n",
    "\n",
    "# Generate SoupChannel Object for SoupX \n",
    "sc = SoupChannel(data_tod, data, calcSoupProfile = FALSE)\n",
    "\n",
    "# Add extra meta data to the SoupChannel object\n",
    "soupProf = data.frame(row.names = rownames(data),\n",
    "                      est = rowSums(data)/sum(data),\n",
    "                      counts = rowSums(data))\n",
    "sc = setSoupProfile(sc, soupProf)\n",
    "# Set cluster information in SoupChannel\n",
    "sc = setClusters(sc, soupx_groups)\n",
    "\n",
    "# Estimate contamination fraction\n",
    "sc  = autoEstCont(sc, doPlot=FALSE, forceAccept = TRUE)\n",
    "# Infer corrected table of counts and rount to integer\n",
    "out = adjustCounts(sc, roundToInt = TRUE)"
   ]
  },
  {
   "cell_type": "code",
   "execution_count": null,
   "id": "32555d5e-5fa3-46dd-a4e0-ddc96ea265e2",
   "metadata": {
    "execution": {
     "iopub.execute_input": "2023-04-23T13:58:28.306482Z",
     "iopub.status.busy": "2023-04-23T13:58:28.306288Z",
     "iopub.status.idle": "2023-04-23T13:58:28.335539Z",
     "shell.execute_reply": "2023-04-23T13:58:28.335088Z"
    },
    "papermill": {
     "duration": 0.033575,
     "end_time": "2023-04-23T13:58:28.336661",
     "exception": false,
     "start_time": "2023-04-23T13:58:28.303086",
     "status": "completed"
    },
    "tags": []
   },
   "outputs": [],
   "source": [
    "dataset.layers[\"soupX_counts\"] = out.T\n",
    "dataset.X = dataset.layers[\"soupX_counts\"].copy()"
   ]
  },
  {
   "cell_type": "code",
   "execution_count": null,
   "id": "e27da7df-e094-4d2a-9109-5a363e012175",
   "metadata": {
    "execution": {
     "iopub.execute_input": "2023-04-23T13:58:28.343148Z",
     "iopub.status.busy": "2023-04-23T13:58:28.342929Z",
     "iopub.status.idle": "2023-04-23T13:58:28.345258Z",
     "shell.execute_reply": "2023-04-23T13:58:28.344926Z"
    },
    "papermill": {
     "duration": 0.006243,
     "end_time": "2023-04-23T13:58:28.346070",
     "exception": false,
     "start_time": "2023-04-23T13:58:28.339827",
     "status": "completed"
    },
    "tags": []
   },
   "outputs": [],
   "source": [
    "data_mat = dataset.X.T"
   ]
  },
  {
   "cell_type": "code",
   "execution_count": null,
   "id": "80a993b1-5ccb-4697-9187-1beb7ab8aff9",
   "metadata": {
    "execution": {
     "iopub.execute_input": "2023-04-23T13:58:28.351721Z",
     "iopub.status.busy": "2023-04-23T13:58:28.351529Z",
     "iopub.status.idle": "2023-04-23T13:58:49.616092Z",
     "shell.execute_reply": "2023-04-23T13:58:49.615624Z"
    },
    "papermill": {
     "duration": 21.268835,
     "end_time": "2023-04-23T13:58:49.617416",
     "exception": false,
     "start_time": "2023-04-23T13:58:28.348581",
     "status": "completed"
    },
    "tags": []
   },
   "outputs": [],
   "source": [
    "%%R -i data_mat -o droplet_class\n",
    "\n",
    "set.seed(187)\n",
    "sce = scDblFinder(\n",
    "    SingleCellExperiment(\n",
    "        list(counts=data_mat),\n",
    "    ) \n",
    ")\n",
    "droplet_class = sce$scDblFinder.class"
   ]
  },
  {
   "cell_type": "code",
   "execution_count": null,
   "id": "d4dd6e9d-fcf2-41fc-8457-c8e0a3cb2c71",
   "metadata": {
    "execution": {
     "iopub.execute_input": "2023-04-23T13:58:49.628160Z",
     "iopub.status.busy": "2023-04-23T13:58:49.627970Z",
     "iopub.status.idle": "2023-04-23T13:58:49.632066Z",
     "shell.execute_reply": "2023-04-23T13:58:49.631728Z"
    },
    "papermill": {
     "duration": 0.008074,
     "end_time": "2023-04-23T13:58:49.632857",
     "exception": false,
     "start_time": "2023-04-23T13:58:49.624783",
     "status": "completed"
    },
    "tags": []
   },
   "outputs": [],
   "source": [
    "dataset.obs[\"scDblFinder_class\"] = droplet_class\n",
    "dataset.obs.scDblFinder_class.value_counts()\n",
    "dataset"
   ]
  },
  {
   "cell_type": "code",
   "execution_count": null,
   "id": "28c95014-2d6c-477f-95cb-9f9f0507520c",
   "metadata": {
    "execution": {
     "iopub.execute_input": "2023-04-23T13:58:49.638696Z",
     "iopub.status.busy": "2023-04-23T13:58:49.638478Z",
     "iopub.status.idle": "2023-04-23T13:58:49.645255Z",
     "shell.execute_reply": "2023-04-23T13:58:49.644925Z"
    },
    "papermill": {
     "duration": 0.010624,
     "end_time": "2023-04-23T13:58:49.646057",
     "exception": false,
     "start_time": "2023-04-23T13:58:49.635433",
     "status": "completed"
    },
    "tags": []
   },
   "outputs": [],
   "source": [
    "dataset = dataset[dataset.obs[\"scDblFinder_class\"] == 1]"
   ]
  },
  {
   "cell_type": "code",
   "execution_count": null,
   "id": "3e22f9e0-bfcb-416c-a151-a9bca3bec3b9",
   "metadata": {
    "execution": {
     "iopub.execute_input": "2023-04-23T13:58:49.651943Z",
     "iopub.status.busy": "2023-04-23T13:58:49.651767Z",
     "iopub.status.idle": "2023-04-23T13:58:49.817636Z",
     "shell.execute_reply": "2023-04-23T13:58:49.817197Z"
    },
    "papermill": {
     "duration": 0.169953,
     "end_time": "2023-04-23T13:58:49.818604",
     "exception": false,
     "start_time": "2023-04-23T13:58:49.648651",
     "status": "completed"
    },
    "tags": []
   },
   "outputs": [],
   "source": [
    "# mitochondrial genes\n",
    "dataset.var[\"mt\"] = dataset.var_names.str.startswith(\"MT-\")\n",
    "# ribosomal genes\n",
    "dataset.var[\"ribo\"] = dataset.var_names.str.startswith((\"RPS\", \"RPL\"))\n",
    "# hemoglobin genes.\n",
    "dataset.var[\"hb\"] = dataset.var_names.str.contains((\"^HB[^(P)]\"))\n",
    "\n",
    "sc.pp.calculate_qc_metrics(dataset,\n",
    "                           qc_vars=['mt', 'ribo', 'hb'],\n",
    "                           percent_top=None,\n",
    "                           log1p=False,\n",
    "                           inplace=True)\n",
    "dataset"
   ]
  },
  {
   "cell_type": "code",
   "execution_count": null,
   "id": "34deee79-4043-428f-8575-aa57b45f6369",
   "metadata": {
    "execution": {
     "iopub.execute_input": "2023-04-23T13:58:49.825681Z",
     "iopub.status.busy": "2023-04-23T13:58:49.825526Z",
     "iopub.status.idle": "2023-04-23T13:58:50.462472Z",
     "shell.execute_reply": "2023-04-23T13:58:50.462083Z"
    },
    "papermill": {
     "duration": 0.641197,
     "end_time": "2023-04-23T13:58:50.463395",
     "exception": false,
     "start_time": "2023-04-23T13:58:49.822198",
     "status": "completed"
    },
    "tags": []
   },
   "outputs": [],
   "source": [
    "fig, ax = plt.subplots(ncols = 4, figsize = (16,4))\n",
    "axis = sc.pl.violin(dataset, \"n_genes_by_counts\", jitter = 0.4, ax = ax[0], show = False)\n",
    "axis.grid(False)\n",
    "axis.set_title(\"Unique Genes per cell\")\n",
    "axis.tick_params(axis = \"x\", bottom =False, labelbottom =False)\n",
    "axis.set_ylabel(\"# genes\")\n",
    "axis.axhline(y = 250, color = \"black\", label = \"cutoff\")\n",
    "axis.legend(fontsize = 14, loc = \"upper right\")\n",
    "\n",
    "axis = sc.pl.violin(dataset, \"pct_counts_mt\", jitter = 0.4, ax = ax[1], show = False)\n",
    "axis.grid(False)\n",
    "axis.set_title(\"Mitochondrial Fraction\")\n",
    "axis.tick_params(axis = \"x\", bottom =False, labelbottom =False)\n",
    "axis.set_ylabel(\"% mitochondrial genes\")\n",
    "axis.axhline(y = 10, color = \"black\", label = \"cutoff\")\n",
    "axis.legend(fontsize = 14, loc = \"upper right\")\n",
    "\n",
    "axis = sc.pl.violin(dataset, \"pct_counts_hb\", jitter = 0.4, ax = ax[2], show = False, size =2)\n",
    "axis.grid(False)\n",
    "axis.set_title(\"Hemoglobin Fraction\")\n",
    "axis.tick_params(axis = \"x\", bottom =False, labelbottom =False)\n",
    "axis.set_ylabel(\"% hemoglobin genes\")\n",
    "axis.axhline(y = 1, color = \"black\", label = \"cutoff\")\n",
    "axis.legend(fontsize = 14, loc = \"upper right\")\n",
    "#axis.set_ylim(0,5)\n",
    "\n",
    "axis = sc.pl.violin(dataset, \"pct_counts_ribo\", jitter = 0.4, ax = ax[3], show = False)\n",
    "axis.grid(False)\n",
    "axis.set_title(\"Ribosomal Fraction\")\n",
    "axis.tick_params(axis = \"x\", bottom =False, labelbottom =False)\n",
    "axis.set_ylabel(\"% ribosome genes\")\n",
    "\n",
    "plt.tight_layout()\n",
    "#plt.savefig(f\"{outputDir}08_gene_based_filtering.pdf\", dpi = 300)\n",
    "plt.show()\n",
    "\n"
   ]
  },
  {
   "cell_type": "code",
   "execution_count": null,
   "id": "d7ade754-843e-4840-8707-426613d8c0c5",
   "metadata": {
    "execution": {
     "iopub.execute_input": "2023-04-23T13:58:50.472416Z",
     "iopub.status.busy": "2023-04-23T13:58:50.472232Z",
     "iopub.status.idle": "2023-04-23T13:58:50.481964Z",
     "shell.execute_reply": "2023-04-23T13:58:50.481627Z"
    },
    "papermill": {
     "duration": 0.014819,
     "end_time": "2023-04-23T13:58:50.482760",
     "exception": false,
     "start_time": "2023-04-23T13:58:50.467941",
     "status": "completed"
    },
    "tags": []
   },
   "outputs": [],
   "source": [
    "dataset = dataset[dataset.obs.pct_counts_mt < 10, :]\n",
    "dataset = dataset[dataset.obs.n_genes_by_counts > 250, :]\n",
    "dataset = dataset[dataset.obs.pct_counts_hb < 1, :]\n",
    "dataset"
   ]
  },
  {
   "cell_type": "code",
   "execution_count": null,
   "id": "2e0ff8c3-2aa9-4a01-9b88-5912a6734447",
   "metadata": {
    "execution": {
     "iopub.execute_input": "2023-04-23T13:58:50.491119Z",
     "iopub.status.busy": "2023-04-23T13:58:50.490949Z",
     "iopub.status.idle": "2023-04-23T13:58:50.553882Z",
     "shell.execute_reply": "2023-04-23T13:58:50.553471Z"
    },
    "papermill": {
     "duration": 0.068466,
     "end_time": "2023-04-23T13:58:50.555099",
     "exception": false,
     "start_time": "2023-04-23T13:58:50.486633",
     "status": "completed"
    },
    "tags": []
   },
   "outputs": [],
   "source": [
    "for col in metadata.columns:\n",
    "    dataset.obs[col] = metadata.loc[(metadata[\"ENA_RUN\"] == sample_name) & (metadata[\"read_index\"] == \"read1\"), col].to_list()[0]"
   ]
  },
  {
   "cell_type": "code",
   "execution_count": null,
   "id": "b84578d3-d63e-419c-a272-a0b8317d05ab",
   "metadata": {
    "execution": {
     "iopub.execute_input": "2023-04-23T13:58:50.564287Z",
     "iopub.status.busy": "2023-04-23T13:58:50.564126Z",
     "iopub.status.idle": "2023-04-23T13:58:50.806842Z",
     "shell.execute_reply": "2023-04-23T13:58:50.806330Z"
    },
    "papermill": {
     "duration": 0.248516,
     "end_time": "2023-04-23T13:58:50.808207",
     "exception": false,
     "start_time": "2023-04-23T13:58:50.559691",
     "status": "completed"
    },
    "tags": []
   },
   "outputs": [],
   "source": [
    "dataset.write(f\"../../int_data/{sample_name}_qc.h5ad\")"
   ]
  }
 ],
 "metadata": {
  "kernelspec": {
   "display_name": "py_R",
   "language": "python",
   "name": "python_r"
  },
  "language_info": {
   "codemirror_mode": {
    "name": "ipython",
    "version": 3
   },
   "file_extension": ".py",
   "mimetype": "text/x-python",
   "name": "python",
   "nbconvert_exporter": "python",
   "pygments_lexer": "ipython3",
   "version": "3.10.9"
  },
  "papermill": {
   "default_parameters": {},
   "duration": 121.62119,
   "end_time": "2023-04-23T13:58:52.231625",
   "environment_variables": {},
   "exception": null,
   "input_path": "ERR7425213.ipynb",
   "output_path": "ERR7425213.ipynb",
   "parameters": {},
   "start_time": "2023-04-23T13:56:50.610435",
   "version": "2.4.0"
  }
 },
 "nbformat": 4,
 "nbformat_minor": 5
}
