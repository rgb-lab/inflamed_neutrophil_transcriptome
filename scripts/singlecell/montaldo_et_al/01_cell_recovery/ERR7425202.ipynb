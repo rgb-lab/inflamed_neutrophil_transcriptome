{
 "cells": [
  {
   "cell_type": "code",
   "execution_count": null,
   "id": "f87ed95b-2b67-4a5a-8fe2-47359b1dd2a9",
   "metadata": {
    "execution": {
     "iopub.execute_input": "2023-04-23T13:22:54.408532Z",
     "iopub.status.busy": "2023-04-23T13:22:54.408367Z",
     "iopub.status.idle": "2023-04-23T13:22:54.413242Z",
     "shell.execute_reply": "2023-04-23T13:22:54.412928Z"
    },
    "papermill": {
     "duration": 0.008831,
     "end_time": "2023-04-23T13:22:54.414028",
     "exception": false,
     "start_time": "2023-04-23T13:22:54.405197",
     "status": "completed"
    },
    "tags": []
   },
   "outputs": [],
   "source": [
    "import warnings\n",
    "warnings.simplefilter(action='ignore', category=FutureWarning)\n",
    "warnings.simplefilter(action='ignore', category=UserWarning)"
   ]
  },
  {
   "cell_type": "code",
   "execution_count": null,
   "id": "85161f19-b2c5-490b-8cab-c2cf9653b304",
   "metadata": {
    "execution": {
     "iopub.execute_input": "2023-04-23T13:22:54.419083Z",
     "iopub.status.busy": "2023-04-23T13:22:54.418954Z",
     "iopub.status.idle": "2023-04-23T13:22:58.553412Z",
     "shell.execute_reply": "2023-04-23T13:22:58.552946Z"
    },
    "papermill": {
     "duration": 4.138213,
     "end_time": "2023-04-23T13:22:58.554639",
     "exception": false,
     "start_time": "2023-04-23T13:22:54.416426",
     "status": "completed"
    },
    "tags": []
   },
   "outputs": [],
   "source": [
    "import gc\n",
    "import scanpy as sc\n",
    "import muon as mu\n",
    "import seaborn as sns\n",
    "import os\n",
    "import pandas as pd\n",
    "from matplotlib import pyplot as plt\n",
    "\n",
    "os.environ['R_HOME'] = '/gpfs/bwfor/work/ws/hd_fu399-conda/conda/envs/python_R/lib/R/'\n",
    "import anndata2ri\n",
    "import logging\n",
    "\n",
    "import rpy2.rinterface_lib.callbacks as rcb\n",
    "import rpy2.robjects as ro\n",
    "\n",
    "rcb.logger.setLevel(logging.ERROR)\n",
    "ro.pandas2ri.activate()\n",
    "anndata2ri.activate()\n",
    "\n",
    "%load_ext rpy2.ipython"
   ]
  },
  {
   "cell_type": "code",
   "execution_count": null,
   "id": "fc4ade78-b728-4704-9db6-45fbaab62ba1",
   "metadata": {
    "execution": {
     "iopub.execute_input": "2023-04-23T13:22:58.562203Z",
     "iopub.status.busy": "2023-04-23T13:22:58.561918Z",
     "iopub.status.idle": "2023-04-23T13:23:08.150834Z",
     "shell.execute_reply": "2023-04-23T13:23:08.150302Z"
    },
    "papermill": {
     "duration": 9.593137,
     "end_time": "2023-04-23T13:23:08.152276",
     "exception": false,
     "start_time": "2023-04-23T13:22:58.559139",
     "status": "completed"
    },
    "tags": []
   },
   "outputs": [],
   "source": [
    "%%R\n",
    "library(SoupX)\n",
    "library(Seurat)\n",
    "library(scater)\n",
    "library(scDblFinder)\n",
    "library(BiocParallel)\n",
    "library(MuDataSeurat)\n",
    "library(DropletUtils)"
   ]
  },
  {
   "cell_type": "code",
   "execution_count": null,
   "id": "611e4882-fc48-43d1-b1cd-e65e1bde0015",
   "metadata": {
    "execution": {
     "iopub.execute_input": "2023-04-23T13:23:08.161076Z",
     "iopub.status.busy": "2023-04-23T13:23:08.160926Z",
     "iopub.status.idle": "2023-04-23T13:23:08.163410Z",
     "shell.execute_reply": "2023-04-23T13:23:08.163006Z"
    },
    "papermill": {
     "duration": 0.006359,
     "end_time": "2023-04-23T13:23:08.164246",
     "exception": false,
     "start_time": "2023-04-23T13:23:08.157887",
     "status": "completed"
    },
    "tags": []
   },
   "outputs": [],
   "source": [
    "sample_name = \"ERR7425202\""
   ]
  },
  {
   "cell_type": "code",
   "execution_count": null,
   "id": "f7424d90-7690-4290-8651-1db3f9df3a35",
   "metadata": {
    "execution": {
     "iopub.execute_input": "2023-04-23T13:23:08.169344Z",
     "iopub.status.busy": "2023-04-23T13:23:08.169214Z",
     "iopub.status.idle": "2023-04-23T13:23:08.176240Z",
     "shell.execute_reply": "2023-04-23T13:23:08.175892Z"
    },
    "papermill": {
     "duration": 0.010514,
     "end_time": "2023-04-23T13:23:08.177068",
     "exception": false,
     "start_time": "2023-04-23T13:23:08.166554",
     "status": "completed"
    },
    "tags": []
   },
   "outputs": [],
   "source": [
    "metadata = pd.read_csv(\"../../metadata.csv\", index_col = 0)"
   ]
  },
  {
   "cell_type": "code",
   "execution_count": null,
   "id": "2574ecf1-bad4-4c33-8f3f-718a358727ab",
   "metadata": {
    "execution": {
     "iopub.execute_input": "2023-04-23T13:23:08.182223Z",
     "iopub.status.busy": "2023-04-23T13:23:08.182092Z",
     "iopub.status.idle": "2023-04-23T13:23:08.184133Z",
     "shell.execute_reply": "2023-04-23T13:23:08.183800Z"
    },
    "papermill": {
     "duration": 0.005557,
     "end_time": "2023-04-23T13:23:08.184920",
     "exception": false,
     "start_time": "2023-04-23T13:23:08.179363",
     "status": "completed"
    },
    "tags": []
   },
   "outputs": [],
   "source": [
    "raw_input = f\"/home/hd/hd_hd/hd_fu399/sds-hd/sd21k006/scRNAseq/revision_natcomm/montaldo_et_al/{sample_name}/{sample_name}/outs/raw_feature_bc_matrix.h5\""
   ]
  },
  {
   "cell_type": "code",
   "execution_count": null,
   "id": "e266d388-1802-435c-93a5-90067358739c",
   "metadata": {
    "execution": {
     "iopub.execute_input": "2023-04-23T13:23:08.190081Z",
     "iopub.status.busy": "2023-04-23T13:23:08.189944Z",
     "iopub.status.idle": "2023-04-23T13:23:08.882458Z",
     "shell.execute_reply": "2023-04-23T13:23:08.882020Z"
    },
    "papermill": {
     "duration": 0.696133,
     "end_time": "2023-04-23T13:23:08.883394",
     "exception": false,
     "start_time": "2023-04-23T13:23:08.187261",
     "status": "completed"
    },
    "tags": []
   },
   "outputs": [],
   "source": [
    "dataset = sc.read_10x_h5(raw_input)\n",
    "dataset.var_names_make_unique()\n",
    "dataset.obs_names_make_unique()\n",
    "\n",
    "dataset.layers[\"raw_counts\"] = dataset.X.copy()\n",
    "data_tod = dataset.layers[\"raw_counts\"].T.copy()\n",
    "\n",
    "dataset"
   ]
  },
  {
   "cell_type": "code",
   "execution_count": null,
   "id": "af9f5892-ed31-42a6-991b-4e096f582cef",
   "metadata": {
    "execution": {
     "iopub.execute_input": "2023-04-23T13:23:08.889562Z",
     "iopub.status.busy": "2023-04-23T13:23:08.889403Z",
     "iopub.status.idle": "2023-04-23T13:23:08.978584Z",
     "shell.execute_reply": "2023-04-23T13:23:08.978100Z"
    },
    "papermill": {
     "duration": 0.093564,
     "end_time": "2023-04-23T13:23:08.979922",
     "exception": false,
     "start_time": "2023-04-23T13:23:08.886358",
     "status": "completed"
    },
    "tags": []
   },
   "outputs": [],
   "source": [
    "sce = dataset.copy()"
   ]
  },
  {
   "cell_type": "code",
   "execution_count": null,
   "id": "d03f2caf-8e74-430e-b045-0ab80401d165",
   "metadata": {
    "execution": {
     "iopub.execute_input": "2023-04-23T13:23:08.985981Z",
     "iopub.status.busy": "2023-04-23T13:23:08.985807Z",
     "iopub.status.idle": "2023-04-23T13:24:09.643978Z",
     "shell.execute_reply": "2023-04-23T13:24:09.643370Z"
    },
    "papermill": {
     "duration": 60.662608,
     "end_time": "2023-04-23T13:24:09.645416",
     "exception": false,
     "start_time": "2023-04-23T13:23:08.982808",
     "status": "completed"
    },
    "tags": []
   },
   "outputs": [],
   "source": [
    "%%R -i sce -o empty_drop_output\n",
    "set.seed(187)\n",
    "empty_drop_output <- emptyDrops(assay(sce))"
   ]
  },
  {
   "cell_type": "code",
   "execution_count": null,
   "id": "2a34a54b-3ae2-44d6-8679-8769228c5b66",
   "metadata": {
    "execution": {
     "iopub.execute_input": "2023-04-23T13:24:09.655815Z",
     "iopub.status.busy": "2023-04-23T13:24:09.655668Z",
     "iopub.status.idle": "2023-04-23T13:24:09.704305Z",
     "shell.execute_reply": "2023-04-23T13:24:09.703886Z"
    },
    "papermill": {
     "duration": 0.052743,
     "end_time": "2023-04-23T13:24:09.705248",
     "exception": false,
     "start_time": "2023-04-23T13:24:09.652505",
     "status": "completed"
    },
    "tags": []
   },
   "outputs": [],
   "source": [
    "non_empty_barcodes = empty_drop_output[empty_drop_output[\"FDR\"] < 0.001].index\n",
    "dataset = dataset[dataset.obs.index.isin(non_empty_barcodes), :]\n",
    "dataset"
   ]
  },
  {
   "cell_type": "code",
   "execution_count": null,
   "id": "016a91e5-1bef-46fb-b91e-4fb9a6870c44",
   "metadata": {
    "execution": {
     "iopub.execute_input": "2023-04-23T13:24:09.711478Z",
     "iopub.status.busy": "2023-04-23T13:24:09.711319Z",
     "iopub.status.idle": "2023-04-23T13:25:33.405810Z",
     "shell.execute_reply": "2023-04-23T13:25:33.405210Z"
    },
    "papermill": {
     "duration": 83.699077,
     "end_time": "2023-04-23T13:25:33.407232",
     "exception": false,
     "start_time": "2023-04-23T13:24:09.708155",
     "status": "completed"
    },
    "tags": []
   },
   "outputs": [],
   "source": [
    "rna_assay = dataset.copy()\n",
    "sc.pp.normalize_per_cell(rna_assay)\n",
    "sc.pp.log1p(rna_assay)\n",
    "sc.pp.pca(rna_assay)\n",
    "sc.pp.neighbors(rna_assay)\n",
    "sc.tl.leiden(rna_assay, key_added=\"soupx_groups\")\n",
    "\n",
    "soupx_groups = rna_assay.obs[\"soupx_groups\"]\n",
    "\n",
    "del rna_assay\n",
    "\n",
    "genes = dataset.var_names\n",
    "cells = dataset.obs_names\n",
    "data = dataset.X.T.copy()"
   ]
  },
  {
   "cell_type": "code",
   "execution_count": null,
   "id": "9db4ea1f-1580-4f43-a3f0-86002397cd98",
   "metadata": {
    "execution": {
     "iopub.execute_input": "2023-04-23T13:25:33.417417Z",
     "iopub.status.busy": "2023-04-23T13:25:33.417236Z",
     "iopub.status.idle": "2023-04-23T13:25:46.299893Z",
     "shell.execute_reply": "2023-04-23T13:25:46.299265Z"
    },
    "papermill": {
     "duration": 12.887352,
     "end_time": "2023-04-23T13:25:46.301306",
     "exception": false,
     "start_time": "2023-04-23T13:25:33.413954",
     "status": "completed"
    },
    "tags": []
   },
   "outputs": [],
   "source": [
    "%%R -i data -i data_tod -i genes -i cells -i soupx_groups -o out \n",
    "set.seed(187)\n",
    "# specify row and column names of data\n",
    "rownames(data) = genes\n",
    "colnames(data) = cells\n",
    "# ensure correct sparse format for table of counts and table of droplets\n",
    "data <- as(data, \"sparseMatrix\")\n",
    "data_tod <- as(data_tod, \"sparseMatrix\")\n",
    "\n",
    "# Generate SoupChannel Object for SoupX \n",
    "sc = SoupChannel(data_tod, data, calcSoupProfile = FALSE)\n",
    "\n",
    "# Add extra meta data to the SoupChannel object\n",
    "soupProf = data.frame(row.names = rownames(data),\n",
    "                      est = rowSums(data)/sum(data),\n",
    "                      counts = rowSums(data))\n",
    "sc = setSoupProfile(sc, soupProf)\n",
    "# Set cluster information in SoupChannel\n",
    "sc = setClusters(sc, soupx_groups)\n",
    "\n",
    "# Estimate contamination fraction\n",
    "sc  = autoEstCont(sc, doPlot=FALSE, forceAccept = TRUE)\n",
    "# Infer corrected table of counts and rount to integer\n",
    "out = adjustCounts(sc, roundToInt = TRUE)"
   ]
  },
  {
   "cell_type": "code",
   "execution_count": null,
   "id": "32555d5e-5fa3-46dd-a4e0-ddc96ea265e2",
   "metadata": {
    "execution": {
     "iopub.execute_input": "2023-04-23T13:25:46.311461Z",
     "iopub.status.busy": "2023-04-23T13:25:46.311276Z",
     "iopub.status.idle": "2023-04-23T13:25:46.349594Z",
     "shell.execute_reply": "2023-04-23T13:25:46.349179Z"
    },
    "papermill": {
     "duration": 0.04316,
     "end_time": "2023-04-23T13:25:46.350854",
     "exception": false,
     "start_time": "2023-04-23T13:25:46.307694",
     "status": "completed"
    },
    "tags": []
   },
   "outputs": [],
   "source": [
    "dataset.layers[\"soupX_counts\"] = out.T\n",
    "dataset.X = dataset.layers[\"soupX_counts\"].copy()"
   ]
  },
  {
   "cell_type": "code",
   "execution_count": null,
   "id": "e27da7df-e094-4d2a-9109-5a363e012175",
   "metadata": {
    "execution": {
     "iopub.execute_input": "2023-04-23T13:25:46.357021Z",
     "iopub.status.busy": "2023-04-23T13:25:46.356841Z",
     "iopub.status.idle": "2023-04-23T13:25:46.359093Z",
     "shell.execute_reply": "2023-04-23T13:25:46.358760Z"
    },
    "papermill": {
     "duration": 0.006156,
     "end_time": "2023-04-23T13:25:46.359930",
     "exception": false,
     "start_time": "2023-04-23T13:25:46.353774",
     "status": "completed"
    },
    "tags": []
   },
   "outputs": [],
   "source": [
    "data_mat = dataset.X.T"
   ]
  },
  {
   "cell_type": "code",
   "execution_count": null,
   "id": "80a993b1-5ccb-4697-9187-1beb7ab8aff9",
   "metadata": {
    "execution": {
     "iopub.execute_input": "2023-04-23T13:25:46.365631Z",
     "iopub.status.busy": "2023-04-23T13:25:46.365476Z",
     "iopub.status.idle": "2023-04-23T13:26:18.573274Z",
     "shell.execute_reply": "2023-04-23T13:26:18.572668Z"
    },
    "papermill": {
     "duration": 32.212122,
     "end_time": "2023-04-23T13:26:18.574573",
     "exception": false,
     "start_time": "2023-04-23T13:25:46.362451",
     "status": "completed"
    },
    "tags": []
   },
   "outputs": [],
   "source": [
    "%%R -i data_mat -o droplet_class\n",
    "\n",
    "set.seed(187)\n",
    "sce = scDblFinder(\n",
    "    SingleCellExperiment(\n",
    "        list(counts=data_mat),\n",
    "    ) \n",
    ")\n",
    "droplet_class = sce$scDblFinder.class"
   ]
  },
  {
   "cell_type": "code",
   "execution_count": null,
   "id": "d4dd6e9d-fcf2-41fc-8457-c8e0a3cb2c71",
   "metadata": {
    "execution": {
     "iopub.execute_input": "2023-04-23T13:26:18.583185Z",
     "iopub.status.busy": "2023-04-23T13:26:18.583007Z",
     "iopub.status.idle": "2023-04-23T13:26:18.588269Z",
     "shell.execute_reply": "2023-04-23T13:26:18.587925Z"
    },
    "papermill": {
     "duration": 0.009527,
     "end_time": "2023-04-23T13:26:18.589088",
     "exception": false,
     "start_time": "2023-04-23T13:26:18.579561",
     "status": "completed"
    },
    "tags": []
   },
   "outputs": [],
   "source": [
    "dataset.obs[\"scDblFinder_class\"] = droplet_class\n",
    "dataset.obs.scDblFinder_class.value_counts()\n",
    "dataset"
   ]
  },
  {
   "cell_type": "code",
   "execution_count": null,
   "id": "28c95014-2d6c-477f-95cb-9f9f0507520c",
   "metadata": {
    "execution": {
     "iopub.execute_input": "2023-04-23T13:26:18.595206Z",
     "iopub.status.busy": "2023-04-23T13:26:18.595030Z",
     "iopub.status.idle": "2023-04-23T13:26:18.601239Z",
     "shell.execute_reply": "2023-04-23T13:26:18.600914Z"
    },
    "papermill": {
     "duration": 0.010227,
     "end_time": "2023-04-23T13:26:18.602041",
     "exception": false,
     "start_time": "2023-04-23T13:26:18.591814",
     "status": "completed"
    },
    "tags": []
   },
   "outputs": [],
   "source": [
    "dataset = dataset[dataset.obs[\"scDblFinder_class\"] == 1]"
   ]
  },
  {
   "cell_type": "code",
   "execution_count": null,
   "id": "3e22f9e0-bfcb-416c-a151-a9bca3bec3b9",
   "metadata": {
    "execution": {
     "iopub.execute_input": "2023-04-23T13:26:18.608115Z",
     "iopub.status.busy": "2023-04-23T13:26:18.607949Z",
     "iopub.status.idle": "2023-04-23T13:26:18.770723Z",
     "shell.execute_reply": "2023-04-23T13:26:18.770295Z"
    },
    "papermill": {
     "duration": 0.166913,
     "end_time": "2023-04-23T13:26:18.771656",
     "exception": false,
     "start_time": "2023-04-23T13:26:18.604743",
     "status": "completed"
    },
    "tags": []
   },
   "outputs": [],
   "source": [
    "# mitochondrial genes\n",
    "dataset.var[\"mt\"] = dataset.var_names.str.startswith(\"MT-\")\n",
    "# ribosomal genes\n",
    "dataset.var[\"ribo\"] = dataset.var_names.str.startswith((\"RPS\", \"RPL\"))\n",
    "# hemoglobin genes.\n",
    "dataset.var[\"hb\"] = dataset.var_names.str.contains((\"^HB[^(P)]\"))\n",
    "\n",
    "sc.pp.calculate_qc_metrics(dataset,\n",
    "                           qc_vars=['mt', 'ribo', 'hb'],\n",
    "                           percent_top=None,\n",
    "                           log1p=False,\n",
    "                           inplace=True)\n",
    "dataset"
   ]
  },
  {
   "cell_type": "code",
   "execution_count": null,
   "id": "34deee79-4043-428f-8575-aa57b45f6369",
   "metadata": {
    "execution": {
     "iopub.execute_input": "2023-04-23T13:26:18.778764Z",
     "iopub.status.busy": "2023-04-23T13:26:18.778608Z",
     "iopub.status.idle": "2023-04-23T13:26:19.329487Z",
     "shell.execute_reply": "2023-04-23T13:26:19.329108Z"
    },
    "papermill": {
     "duration": 0.555392,
     "end_time": "2023-04-23T13:26:19.330364",
     "exception": false,
     "start_time": "2023-04-23T13:26:18.774972",
     "status": "completed"
    },
    "tags": []
   },
   "outputs": [],
   "source": [
    "fig, ax = plt.subplots(ncols = 4, figsize = (16,4))\n",
    "axis = sc.pl.violin(dataset, \"n_genes_by_counts\", jitter = 0.4, ax = ax[0], show = False)\n",
    "axis.grid(False)\n",
    "axis.set_title(\"Unique Genes per cell\")\n",
    "axis.tick_params(axis = \"x\", bottom =False, labelbottom =False)\n",
    "axis.set_ylabel(\"# genes\")\n",
    "axis.axhline(y = 250, color = \"black\", label = \"cutoff\")\n",
    "axis.legend(fontsize = 14, loc = \"upper right\")\n",
    "\n",
    "axis = sc.pl.violin(dataset, \"pct_counts_mt\", jitter = 0.4, ax = ax[1], show = False)\n",
    "axis.grid(False)\n",
    "axis.set_title(\"Mitochondrial Fraction\")\n",
    "axis.tick_params(axis = \"x\", bottom =False, labelbottom =False)\n",
    "axis.set_ylabel(\"% mitochondrial genes\")\n",
    "axis.axhline(y = 10, color = \"black\", label = \"cutoff\")\n",
    "axis.legend(fontsize = 14, loc = \"upper right\")\n",
    "\n",
    "axis = sc.pl.violin(dataset, \"pct_counts_hb\", jitter = 0.4, ax = ax[2], show = False, size =2)\n",
    "axis.grid(False)\n",
    "axis.set_title(\"Hemoglobin Fraction\")\n",
    "axis.tick_params(axis = \"x\", bottom =False, labelbottom =False)\n",
    "axis.set_ylabel(\"% hemoglobin genes\")\n",
    "axis.axhline(y = 1, color = \"black\", label = \"cutoff\")\n",
    "axis.legend(fontsize = 14, loc = \"upper right\")\n",
    "#axis.set_ylim(0,5)\n",
    "\n",
    "axis = sc.pl.violin(dataset, \"pct_counts_ribo\", jitter = 0.4, ax = ax[3], show = False)\n",
    "axis.grid(False)\n",
    "axis.set_title(\"Ribosomal Fraction\")\n",
    "axis.tick_params(axis = \"x\", bottom =False, labelbottom =False)\n",
    "axis.set_ylabel(\"% ribosome genes\")\n",
    "\n",
    "plt.tight_layout()\n",
    "#plt.savefig(f\"{outputDir}08_gene_based_filtering.pdf\", dpi = 300)\n",
    "plt.show()\n",
    "\n"
   ]
  },
  {
   "cell_type": "code",
   "execution_count": null,
   "id": "d7ade754-843e-4840-8707-426613d8c0c5",
   "metadata": {
    "execution": {
     "iopub.execute_input": "2023-04-23T13:26:19.338206Z",
     "iopub.status.busy": "2023-04-23T13:26:19.338054Z",
     "iopub.status.idle": "2023-04-23T13:26:19.350937Z",
     "shell.execute_reply": "2023-04-23T13:26:19.350602Z"
    },
    "papermill": {
     "duration": 0.017596,
     "end_time": "2023-04-23T13:26:19.351716",
     "exception": false,
     "start_time": "2023-04-23T13:26:19.334120",
     "status": "completed"
    },
    "tags": []
   },
   "outputs": [],
   "source": [
    "dataset = dataset[dataset.obs.pct_counts_mt < 10, :]\n",
    "dataset = dataset[dataset.obs.n_genes_by_counts > 250, :]\n",
    "dataset = dataset[dataset.obs.pct_counts_hb < 1, :]\n",
    "dataset"
   ]
  },
  {
   "cell_type": "code",
   "execution_count": null,
   "id": "2e0ff8c3-2aa9-4a01-9b88-5912a6734447",
   "metadata": {
    "execution": {
     "iopub.execute_input": "2023-04-23T13:26:19.359453Z",
     "iopub.status.busy": "2023-04-23T13:26:19.359159Z",
     "iopub.status.idle": "2023-04-23T13:26:19.429073Z",
     "shell.execute_reply": "2023-04-23T13:26:19.428567Z"
    },
    "papermill": {
     "duration": 0.075041,
     "end_time": "2023-04-23T13:26:19.430259",
     "exception": false,
     "start_time": "2023-04-23T13:26:19.355218",
     "status": "completed"
    },
    "tags": []
   },
   "outputs": [],
   "source": [
    "for col in metadata.columns:\n",
    "    dataset.obs[col] = metadata.loc[(metadata[\"ENA_RUN\"] == sample_name) & (metadata[\"read_index\"] == \"read1\"), col].to_list()[0]"
   ]
  },
  {
   "cell_type": "code",
   "execution_count": null,
   "id": "b84578d3-d63e-419c-a272-a0b8317d05ab",
   "metadata": {
    "execution": {
     "iopub.execute_input": "2023-04-23T13:26:19.438572Z",
     "iopub.status.busy": "2023-04-23T13:26:19.438373Z",
     "iopub.status.idle": "2023-04-23T13:26:19.692675Z",
     "shell.execute_reply": "2023-04-23T13:26:19.692163Z"
    },
    "papermill": {
     "duration": 0.259607,
     "end_time": "2023-04-23T13:26:19.693980",
     "exception": false,
     "start_time": "2023-04-23T13:26:19.434373",
     "status": "completed"
    },
    "tags": []
   },
   "outputs": [],
   "source": [
    "dataset.write(f\"../../int_data/{sample_name}_qc.h5ad\")"
   ]
  }
 ],
 "metadata": {
  "kernelspec": {
   "display_name": "py_R",
   "language": "python",
   "name": "python_r"
  },
  "language_info": {
   "codemirror_mode": {
    "name": "ipython",
    "version": 3
   },
   "file_extension": ".py",
   "mimetype": "text/x-python",
   "name": "python",
   "nbconvert_exporter": "python",
   "pygments_lexer": "ipython3",
   "version": "3.10.9"
  },
  "papermill": {
   "default_parameters": {},
   "duration": 208.038595,
   "end_time": "2023-04-23T13:26:21.717396",
   "environment_variables": {},
   "exception": null,
   "input_path": "ERR7425202.ipynb",
   "output_path": "ERR7425202.ipynb",
   "parameters": {},
   "start_time": "2023-04-23T13:22:53.678801",
   "version": "2.4.0"
  }
 },
 "nbformat": 4,
 "nbformat_minor": 5
}
