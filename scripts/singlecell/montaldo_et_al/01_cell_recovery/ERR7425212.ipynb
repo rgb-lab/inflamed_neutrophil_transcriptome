{
 "cells": [
  {
   "cell_type": "code",
   "execution_count": null,
   "id": "f87ed95b-2b67-4a5a-8fe2-47359b1dd2a9",
   "metadata": {
    "execution": {
     "iopub.execute_input": "2023-04-23T13:54:28.942412Z",
     "iopub.status.busy": "2023-04-23T13:54:28.942278Z",
     "iopub.status.idle": "2023-04-23T13:54:28.961934Z",
     "shell.execute_reply": "2023-04-23T13:54:28.961625Z"
    },
    "papermill": {
     "duration": 0.023735,
     "end_time": "2023-04-23T13:54:28.962871",
     "exception": false,
     "start_time": "2023-04-23T13:54:28.939136",
     "status": "completed"
    },
    "tags": []
   },
   "outputs": [],
   "source": [
    "import warnings\n",
    "warnings.simplefilter(action='ignore', category=FutureWarning)\n",
    "warnings.simplefilter(action='ignore', category=UserWarning)"
   ]
  },
  {
   "cell_type": "code",
   "execution_count": null,
   "id": "85161f19-b2c5-490b-8cab-c2cf9653b304",
   "metadata": {
    "execution": {
     "iopub.execute_input": "2023-04-23T13:54:28.968140Z",
     "iopub.status.busy": "2023-04-23T13:54:28.967858Z",
     "iopub.status.idle": "2023-04-23T13:54:32.947680Z",
     "shell.execute_reply": "2023-04-23T13:54:32.947216Z"
    },
    "papermill": {
     "duration": 3.983611,
     "end_time": "2023-04-23T13:54:32.948931",
     "exception": false,
     "start_time": "2023-04-23T13:54:28.965320",
     "status": "completed"
    },
    "tags": []
   },
   "outputs": [],
   "source": [
    "import gc\n",
    "import scanpy as sc\n",
    "import muon as mu\n",
    "import seaborn as sns\n",
    "import os\n",
    "import pandas as pd\n",
    "from matplotlib import pyplot as plt\n",
    "\n",
    "os.environ['R_HOME'] = '/gpfs/bwfor/work/ws/hd_fu399-conda/conda/envs/python_R/lib/R/'\n",
    "import anndata2ri\n",
    "import logging\n",
    "\n",
    "import rpy2.rinterface_lib.callbacks as rcb\n",
    "import rpy2.robjects as ro\n",
    "\n",
    "rcb.logger.setLevel(logging.ERROR)\n",
    "ro.pandas2ri.activate()\n",
    "anndata2ri.activate()\n",
    "\n",
    "%load_ext rpy2.ipython"
   ]
  },
  {
   "cell_type": "code",
   "execution_count": null,
   "id": "fc4ade78-b728-4704-9db6-45fbaab62ba1",
   "metadata": {
    "execution": {
     "iopub.execute_input": "2023-04-23T13:54:32.954812Z",
     "iopub.status.busy": "2023-04-23T13:54:32.954419Z",
     "iopub.status.idle": "2023-04-23T13:54:55.841497Z",
     "shell.execute_reply": "2023-04-23T13:54:55.840958Z"
    },
    "papermill": {
     "duration": 22.891082,
     "end_time": "2023-04-23T13:54:55.842776",
     "exception": false,
     "start_time": "2023-04-23T13:54:32.951694",
     "status": "completed"
    },
    "tags": []
   },
   "outputs": [],
   "source": [
    "%%R\n",
    "library(SoupX)\n",
    "library(Seurat)\n",
    "library(scater)\n",
    "library(scDblFinder)\n",
    "library(BiocParallel)\n",
    "library(MuDataSeurat)\n",
    "library(DropletUtils)"
   ]
  },
  {
   "cell_type": "code",
   "execution_count": null,
   "id": "611e4882-fc48-43d1-b1cd-e65e1bde0015",
   "metadata": {
    "execution": {
     "iopub.execute_input": "2023-04-23T13:54:55.851264Z",
     "iopub.status.busy": "2023-04-23T13:54:55.850934Z",
     "iopub.status.idle": "2023-04-23T13:54:55.853284Z",
     "shell.execute_reply": "2023-04-23T13:54:55.852984Z"
    },
    "papermill": {
     "duration": 0.00628,
     "end_time": "2023-04-23T13:54:55.854073",
     "exception": false,
     "start_time": "2023-04-23T13:54:55.847793",
     "status": "completed"
    },
    "tags": []
   },
   "outputs": [],
   "source": [
    "sample_name = \"ERR7425212\""
   ]
  },
  {
   "cell_type": "code",
   "execution_count": null,
   "id": "f7424d90-7690-4290-8651-1db3f9df3a35",
   "metadata": {
    "execution": {
     "iopub.execute_input": "2023-04-23T13:54:55.859378Z",
     "iopub.status.busy": "2023-04-23T13:54:55.859099Z",
     "iopub.status.idle": "2023-04-23T13:54:55.866033Z",
     "shell.execute_reply": "2023-04-23T13:54:55.865712Z"
    },
    "papermill": {
     "duration": 0.010444,
     "end_time": "2023-04-23T13:54:55.866841",
     "exception": false,
     "start_time": "2023-04-23T13:54:55.856397",
     "status": "completed"
    },
    "tags": []
   },
   "outputs": [],
   "source": [
    "metadata = pd.read_csv(\"../../metadata.csv\", index_col = 0)"
   ]
  },
  {
   "cell_type": "code",
   "execution_count": null,
   "id": "2574ecf1-bad4-4c33-8f3f-718a358727ab",
   "metadata": {
    "execution": {
     "iopub.execute_input": "2023-04-23T13:54:55.872176Z",
     "iopub.status.busy": "2023-04-23T13:54:55.871887Z",
     "iopub.status.idle": "2023-04-23T13:54:55.873872Z",
     "shell.execute_reply": "2023-04-23T13:54:55.873580Z"
    },
    "papermill": {
     "duration": 0.005453,
     "end_time": "2023-04-23T13:54:55.874657",
     "exception": false,
     "start_time": "2023-04-23T13:54:55.869204",
     "status": "completed"
    },
    "tags": []
   },
   "outputs": [],
   "source": [
    "raw_input = f\"/home/hd/hd_hd/hd_fu399/sds-hd/sd21k006/scRNAseq/revision_natcomm/montaldo_et_al/{sample_name}/{sample_name}/outs/raw_feature_bc_matrix.h5\""
   ]
  },
  {
   "cell_type": "code",
   "execution_count": null,
   "id": "e266d388-1802-435c-93a5-90067358739c",
   "metadata": {
    "execution": {
     "iopub.execute_input": "2023-04-23T13:54:55.879896Z",
     "iopub.status.busy": "2023-04-23T13:54:55.879660Z",
     "iopub.status.idle": "2023-04-23T13:54:56.805058Z",
     "shell.execute_reply": "2023-04-23T13:54:56.804617Z"
    },
    "papermill": {
     "duration": 0.928983,
     "end_time": "2023-04-23T13:54:56.805989",
     "exception": false,
     "start_time": "2023-04-23T13:54:55.877006",
     "status": "completed"
    },
    "tags": []
   },
   "outputs": [],
   "source": [
    "dataset = sc.read_10x_h5(raw_input)\n",
    "dataset.var_names_make_unique()\n",
    "dataset.obs_names_make_unique()\n",
    "\n",
    "dataset.layers[\"raw_counts\"] = dataset.X.copy()\n",
    "data_tod = dataset.layers[\"raw_counts\"].T.copy()\n",
    "\n",
    "dataset"
   ]
  },
  {
   "cell_type": "code",
   "execution_count": null,
   "id": "af9f5892-ed31-42a6-991b-4e096f582cef",
   "metadata": {
    "execution": {
     "iopub.execute_input": "2023-04-23T13:54:56.816975Z",
     "iopub.status.busy": "2023-04-23T13:54:56.816738Z",
     "iopub.status.idle": "2023-04-23T13:54:56.930908Z",
     "shell.execute_reply": "2023-04-23T13:54:56.930422Z"
    },
    "papermill": {
     "duration": 0.118284,
     "end_time": "2023-04-23T13:54:56.932221",
     "exception": false,
     "start_time": "2023-04-23T13:54:56.813937",
     "status": "completed"
    },
    "tags": []
   },
   "outputs": [],
   "source": [
    "sce = dataset.copy()"
   ]
  },
  {
   "cell_type": "code",
   "execution_count": null,
   "id": "d03f2caf-8e74-430e-b045-0ab80401d165",
   "metadata": {
    "execution": {
     "iopub.execute_input": "2023-04-23T13:54:56.938420Z",
     "iopub.status.busy": "2023-04-23T13:54:56.938238Z",
     "iopub.status.idle": "2023-04-23T13:56:02.577810Z",
     "shell.execute_reply": "2023-04-23T13:56:02.577254Z"
    },
    "papermill": {
     "duration": 65.643874,
     "end_time": "2023-04-23T13:56:02.579087",
     "exception": false,
     "start_time": "2023-04-23T13:54:56.935213",
     "status": "completed"
    },
    "tags": []
   },
   "outputs": [],
   "source": [
    "%%R -i sce -o empty_drop_output\n",
    "set.seed(187)\n",
    "empty_drop_output <- emptyDrops(assay(sce))"
   ]
  },
  {
   "cell_type": "code",
   "execution_count": null,
   "id": "2a34a54b-3ae2-44d6-8679-8769228c5b66",
   "metadata": {
    "execution": {
     "iopub.execute_input": "2023-04-23T13:56:02.586966Z",
     "iopub.status.busy": "2023-04-23T13:56:02.586749Z",
     "iopub.status.idle": "2023-04-23T13:56:02.640036Z",
     "shell.execute_reply": "2023-04-23T13:56:02.639580Z"
    },
    "papermill": {
     "duration": 0.057384,
     "end_time": "2023-04-23T13:56:02.640955",
     "exception": false,
     "start_time": "2023-04-23T13:56:02.583571",
     "status": "completed"
    },
    "tags": []
   },
   "outputs": [],
   "source": [
    "non_empty_barcodes = empty_drop_output[empty_drop_output[\"FDR\"] < 0.001].index\n",
    "dataset = dataset[dataset.obs.index.isin(non_empty_barcodes), :]\n",
    "dataset"
   ]
  },
  {
   "cell_type": "code",
   "execution_count": null,
   "id": "016a91e5-1bef-46fb-b91e-4fb9a6870c44",
   "metadata": {
    "execution": {
     "iopub.execute_input": "2023-04-23T13:56:02.646868Z",
     "iopub.status.busy": "2023-04-23T13:56:02.646675Z",
     "iopub.status.idle": "2023-04-23T13:56:09.855152Z",
     "shell.execute_reply": "2023-04-23T13:56:09.854463Z"
    },
    "papermill": {
     "duration": 7.212846,
     "end_time": "2023-04-23T13:56:09.856524",
     "exception": false,
     "start_time": "2023-04-23T13:56:02.643678",
     "status": "completed"
    },
    "tags": []
   },
   "outputs": [],
   "source": [
    "rna_assay = dataset.copy()\n",
    "sc.pp.normalize_per_cell(rna_assay)\n",
    "sc.pp.log1p(rna_assay)\n",
    "sc.pp.pca(rna_assay)\n",
    "sc.pp.neighbors(rna_assay)\n",
    "sc.tl.leiden(rna_assay, key_added=\"soupx_groups\")\n",
    "\n",
    "soupx_groups = rna_assay.obs[\"soupx_groups\"]\n",
    "\n",
    "del rna_assay\n",
    "\n",
    "genes = dataset.var_names\n",
    "cells = dataset.obs_names\n",
    "data = dataset.X.T.copy()"
   ]
  },
  {
   "cell_type": "code",
   "execution_count": null,
   "id": "9db4ea1f-1580-4f43-a3f0-86002397cd98",
   "metadata": {
    "execution": {
     "iopub.execute_input": "2023-04-23T13:56:09.864875Z",
     "iopub.status.busy": "2023-04-23T13:56:09.864574Z",
     "iopub.status.idle": "2023-04-23T13:56:22.356443Z",
     "shell.execute_reply": "2023-04-23T13:56:22.355863Z"
    },
    "papermill": {
     "duration": 12.496467,
     "end_time": "2023-04-23T13:56:22.357790",
     "exception": false,
     "start_time": "2023-04-23T13:56:09.861323",
     "status": "completed"
    },
    "tags": []
   },
   "outputs": [],
   "source": [
    "%%R -i data -i data_tod -i genes -i cells -i soupx_groups -o out \n",
    "set.seed(187)\n",
    "# specify row and column names of data\n",
    "rownames(data) = genes\n",
    "colnames(data) = cells\n",
    "# ensure correct sparse format for table of counts and table of droplets\n",
    "data <- as(data, \"sparseMatrix\")\n",
    "data_tod <- as(data_tod, \"sparseMatrix\")\n",
    "\n",
    "# Generate SoupChannel Object for SoupX \n",
    "sc = SoupChannel(data_tod, data, calcSoupProfile = FALSE)\n",
    "\n",
    "# Add extra meta data to the SoupChannel object\n",
    "soupProf = data.frame(row.names = rownames(data),\n",
    "                      est = rowSums(data)/sum(data),\n",
    "                      counts = rowSums(data))\n",
    "sc = setSoupProfile(sc, soupProf)\n",
    "# Set cluster information in SoupChannel\n",
    "sc = setClusters(sc, soupx_groups)\n",
    "\n",
    "# Estimate contamination fraction\n",
    "sc  = autoEstCont(sc, doPlot=FALSE, forceAccept = TRUE)\n",
    "# Infer corrected table of counts and rount to integer\n",
    "out = adjustCounts(sc, roundToInt = TRUE)"
   ]
  },
  {
   "cell_type": "code",
   "execution_count": null,
   "id": "32555d5e-5fa3-46dd-a4e0-ddc96ea265e2",
   "metadata": {
    "execution": {
     "iopub.execute_input": "2023-04-23T13:56:22.366443Z",
     "iopub.status.busy": "2023-04-23T13:56:22.366129Z",
     "iopub.status.idle": "2023-04-23T13:56:22.400409Z",
     "shell.execute_reply": "2023-04-23T13:56:22.399941Z"
    },
    "papermill": {
     "duration": 0.038674,
     "end_time": "2023-04-23T13:56:22.401573",
     "exception": false,
     "start_time": "2023-04-23T13:56:22.362899",
     "status": "completed"
    },
    "tags": []
   },
   "outputs": [],
   "source": [
    "dataset.layers[\"soupX_counts\"] = out.T\n",
    "dataset.X = dataset.layers[\"soupX_counts\"].copy()"
   ]
  },
  {
   "cell_type": "code",
   "execution_count": null,
   "id": "e27da7df-e094-4d2a-9109-5a363e012175",
   "metadata": {
    "execution": {
     "iopub.execute_input": "2023-04-23T13:56:22.408082Z",
     "iopub.status.busy": "2023-04-23T13:56:22.407878Z",
     "iopub.status.idle": "2023-04-23T13:56:22.410218Z",
     "shell.execute_reply": "2023-04-23T13:56:22.409914Z"
    },
    "papermill": {
     "duration": 0.006227,
     "end_time": "2023-04-23T13:56:22.411009",
     "exception": false,
     "start_time": "2023-04-23T13:56:22.404782",
     "status": "completed"
    },
    "tags": []
   },
   "outputs": [],
   "source": [
    "data_mat = dataset.X.T"
   ]
  },
  {
   "cell_type": "code",
   "execution_count": null,
   "id": "80a993b1-5ccb-4697-9187-1beb7ab8aff9",
   "metadata": {
    "execution": {
     "iopub.execute_input": "2023-04-23T13:56:22.416836Z",
     "iopub.status.busy": "2023-04-23T13:56:22.416528Z",
     "iopub.status.idle": "2023-04-23T13:56:47.760016Z",
     "shell.execute_reply": "2023-04-23T13:56:47.759424Z"
    },
    "papermill": {
     "duration": 25.347852,
     "end_time": "2023-04-23T13:56:47.761364",
     "exception": false,
     "start_time": "2023-04-23T13:56:22.413512",
     "status": "completed"
    },
    "tags": []
   },
   "outputs": [],
   "source": [
    "%%R -i data_mat -o droplet_class\n",
    "\n",
    "set.seed(187)\n",
    "sce = scDblFinder(\n",
    "    SingleCellExperiment(\n",
    "        list(counts=data_mat),\n",
    "    ) \n",
    ")\n",
    "droplet_class = sce$scDblFinder.class"
   ]
  },
  {
   "cell_type": "code",
   "execution_count": null,
   "id": "d4dd6e9d-fcf2-41fc-8457-c8e0a3cb2c71",
   "metadata": {
    "execution": {
     "iopub.execute_input": "2023-04-23T13:56:47.770236Z",
     "iopub.status.busy": "2023-04-23T13:56:47.769949Z",
     "iopub.status.idle": "2023-04-23T13:56:47.775056Z",
     "shell.execute_reply": "2023-04-23T13:56:47.774723Z"
    },
    "papermill": {
     "duration": 0.009179,
     "end_time": "2023-04-23T13:56:47.775856",
     "exception": false,
     "start_time": "2023-04-23T13:56:47.766677",
     "status": "completed"
    },
    "tags": []
   },
   "outputs": [],
   "source": [
    "dataset.obs[\"scDblFinder_class\"] = droplet_class\n",
    "dataset.obs.scDblFinder_class.value_counts()\n",
    "dataset"
   ]
  },
  {
   "cell_type": "code",
   "execution_count": null,
   "id": "28c95014-2d6c-477f-95cb-9f9f0507520c",
   "metadata": {
    "execution": {
     "iopub.execute_input": "2023-04-23T13:56:47.781814Z",
     "iopub.status.busy": "2023-04-23T13:56:47.781627Z",
     "iopub.status.idle": "2023-04-23T13:56:47.787659Z",
     "shell.execute_reply": "2023-04-23T13:56:47.787335Z"
    },
    "papermill": {
     "duration": 0.010003,
     "end_time": "2023-04-23T13:56:47.788468",
     "exception": false,
     "start_time": "2023-04-23T13:56:47.778465",
     "status": "completed"
    },
    "tags": []
   },
   "outputs": [],
   "source": [
    "dataset = dataset[dataset.obs[\"scDblFinder_class\"] == 1]"
   ]
  },
  {
   "cell_type": "code",
   "execution_count": null,
   "id": "3e22f9e0-bfcb-416c-a151-a9bca3bec3b9",
   "metadata": {
    "execution": {
     "iopub.execute_input": "2023-04-23T13:56:47.794340Z",
     "iopub.status.busy": "2023-04-23T13:56:47.794158Z",
     "iopub.status.idle": "2023-04-23T13:56:47.948081Z",
     "shell.execute_reply": "2023-04-23T13:56:47.947612Z"
    },
    "papermill": {
     "duration": 0.157988,
     "end_time": "2023-04-23T13:56:47.949055",
     "exception": false,
     "start_time": "2023-04-23T13:56:47.791067",
     "status": "completed"
    },
    "tags": []
   },
   "outputs": [],
   "source": [
    "# mitochondrial genes\n",
    "dataset.var[\"mt\"] = dataset.var_names.str.startswith(\"MT-\")\n",
    "# ribosomal genes\n",
    "dataset.var[\"ribo\"] = dataset.var_names.str.startswith((\"RPS\", \"RPL\"))\n",
    "# hemoglobin genes.\n",
    "dataset.var[\"hb\"] = dataset.var_names.str.contains((\"^HB[^(P)]\"))\n",
    "\n",
    "sc.pp.calculate_qc_metrics(dataset,\n",
    "                           qc_vars=['mt', 'ribo', 'hb'],\n",
    "                           percent_top=None,\n",
    "                           log1p=False,\n",
    "                           inplace=True)\n",
    "dataset"
   ]
  },
  {
   "cell_type": "code",
   "execution_count": null,
   "id": "34deee79-4043-428f-8575-aa57b45f6369",
   "metadata": {
    "execution": {
     "iopub.execute_input": "2023-04-23T13:56:47.956137Z",
     "iopub.status.busy": "2023-04-23T13:56:47.955868Z",
     "iopub.status.idle": "2023-04-23T13:56:48.612621Z",
     "shell.execute_reply": "2023-04-23T13:56:48.612255Z"
    },
    "papermill": {
     "duration": 0.661078,
     "end_time": "2023-04-23T13:56:48.613670",
     "exception": false,
     "start_time": "2023-04-23T13:56:47.952592",
     "status": "completed"
    },
    "tags": []
   },
   "outputs": [],
   "source": [
    "fig, ax = plt.subplots(ncols = 4, figsize = (16,4))\n",
    "axis = sc.pl.violin(dataset, \"n_genes_by_counts\", jitter = 0.4, ax = ax[0], show = False)\n",
    "axis.grid(False)\n",
    "axis.set_title(\"Unique Genes per cell\")\n",
    "axis.tick_params(axis = \"x\", bottom =False, labelbottom =False)\n",
    "axis.set_ylabel(\"# genes\")\n",
    "axis.axhline(y = 250, color = \"black\", label = \"cutoff\")\n",
    "axis.legend(fontsize = 14, loc = \"upper right\")\n",
    "\n",
    "axis = sc.pl.violin(dataset, \"pct_counts_mt\", jitter = 0.4, ax = ax[1], show = False)\n",
    "axis.grid(False)\n",
    "axis.set_title(\"Mitochondrial Fraction\")\n",
    "axis.tick_params(axis = \"x\", bottom =False, labelbottom =False)\n",
    "axis.set_ylabel(\"% mitochondrial genes\")\n",
    "axis.axhline(y = 10, color = \"black\", label = \"cutoff\")\n",
    "axis.legend(fontsize = 14, loc = \"upper right\")\n",
    "\n",
    "axis = sc.pl.violin(dataset, \"pct_counts_hb\", jitter = 0.4, ax = ax[2], show = False, size =2)\n",
    "axis.grid(False)\n",
    "axis.set_title(\"Hemoglobin Fraction\")\n",
    "axis.tick_params(axis = \"x\", bottom =False, labelbottom =False)\n",
    "axis.set_ylabel(\"% hemoglobin genes\")\n",
    "axis.axhline(y = 1, color = \"black\", label = \"cutoff\")\n",
    "axis.legend(fontsize = 14, loc = \"upper right\")\n",
    "#axis.set_ylim(0,5)\n",
    "\n",
    "axis = sc.pl.violin(dataset, \"pct_counts_ribo\", jitter = 0.4, ax = ax[3], show = False)\n",
    "axis.grid(False)\n",
    "axis.set_title(\"Ribosomal Fraction\")\n",
    "axis.tick_params(axis = \"x\", bottom =False, labelbottom =False)\n",
    "axis.set_ylabel(\"% ribosome genes\")\n",
    "\n",
    "plt.tight_layout()\n",
    "#plt.savefig(f\"{outputDir}08_gene_based_filtering.pdf\", dpi = 300)\n",
    "plt.show()\n",
    "\n"
   ]
  },
  {
   "cell_type": "code",
   "execution_count": null,
   "id": "d7ade754-843e-4840-8707-426613d8c0c5",
   "metadata": {
    "execution": {
     "iopub.execute_input": "2023-04-23T13:56:48.622382Z",
     "iopub.status.busy": "2023-04-23T13:56:48.622213Z",
     "iopub.status.idle": "2023-04-23T13:56:48.631424Z",
     "shell.execute_reply": "2023-04-23T13:56:48.631114Z"
    },
    "papermill": {
     "duration": 0.014096,
     "end_time": "2023-04-23T13:56:48.632220",
     "exception": false,
     "start_time": "2023-04-23T13:56:48.618124",
     "status": "completed"
    },
    "tags": []
   },
   "outputs": [],
   "source": [
    "dataset = dataset[dataset.obs.pct_counts_mt < 10, :]\n",
    "dataset = dataset[dataset.obs.n_genes_by_counts > 250, :]\n",
    "dataset = dataset[dataset.obs.pct_counts_hb < 1, :]\n",
    "dataset"
   ]
  },
  {
   "cell_type": "code",
   "execution_count": null,
   "id": "2e0ff8c3-2aa9-4a01-9b88-5912a6734447",
   "metadata": {
    "execution": {
     "iopub.execute_input": "2023-04-23T13:56:48.640274Z",
     "iopub.status.busy": "2023-04-23T13:56:48.640111Z",
     "iopub.status.idle": "2023-04-23T13:56:48.699612Z",
     "shell.execute_reply": "2023-04-23T13:56:48.699153Z"
    },
    "papermill": {
     "duration": 0.064928,
     "end_time": "2023-04-23T13:56:48.700888",
     "exception": false,
     "start_time": "2023-04-23T13:56:48.635960",
     "status": "completed"
    },
    "tags": []
   },
   "outputs": [],
   "source": [
    "for col in metadata.columns:\n",
    "    dataset.obs[col] = metadata.loc[(metadata[\"ENA_RUN\"] == sample_name) & (metadata[\"read_index\"] == \"read1\"), col].to_list()[0]"
   ]
  },
  {
   "cell_type": "code",
   "execution_count": null,
   "id": "b84578d3-d63e-419c-a272-a0b8317d05ab",
   "metadata": {
    "execution": {
     "iopub.execute_input": "2023-04-23T13:56:48.710171Z",
     "iopub.status.busy": "2023-04-23T13:56:48.710002Z",
     "iopub.status.idle": "2023-04-23T13:56:48.955382Z",
     "shell.execute_reply": "2023-04-23T13:56:48.954932Z"
    },
    "papermill": {
     "duration": 0.25133,
     "end_time": "2023-04-23T13:56:48.956766",
     "exception": false,
     "start_time": "2023-04-23T13:56:48.705436",
     "status": "completed"
    },
    "tags": []
   },
   "outputs": [],
   "source": [
    "dataset.write(f\"../../int_data/{sample_name}_qc.h5ad\")"
   ]
  }
 ],
 "metadata": {
  "kernelspec": {
   "display_name": "py_R",
   "language": "python",
   "name": "python_r"
  },
  "language_info": {
   "codemirror_mode": {
    "name": "ipython",
    "version": 3
   },
   "file_extension": ".py",
   "mimetype": "text/x-python",
   "name": "python",
   "nbconvert_exporter": "python",
   "pygments_lexer": "ipython3",
   "version": "3.10.9"
  },
  "papermill": {
   "default_parameters": {},
   "duration": 142.654396,
   "end_time": "2023-04-23T13:56:50.582073",
   "environment_variables": {},
   "exception": null,
   "input_path": "ERR7425212.ipynb",
   "output_path": "ERR7425212.ipynb",
   "parameters": {},
   "start_time": "2023-04-23T13:54:27.927677",
   "version": "2.4.0"
  }
 },
 "nbformat": 4,
 "nbformat_minor": 5
}
