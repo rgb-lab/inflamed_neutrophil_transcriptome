{
 "cells": [
  {
   "cell_type": "code",
   "execution_count": null,
   "id": "f87ed95b-2b67-4a5a-8fe2-47359b1dd2a9",
   "metadata": {
    "execution": {
     "iopub.execute_input": "2023-04-23T12:55:01.351090Z",
     "iopub.status.busy": "2023-04-23T12:55:01.350933Z",
     "iopub.status.idle": "2023-04-23T12:55:01.582692Z",
     "shell.execute_reply": "2023-04-23T12:55:01.582340Z"
    },
    "papermill": {
     "duration": 0.235918,
     "end_time": "2023-04-23T12:55:01.583692",
     "exception": false,
     "start_time": "2023-04-23T12:55:01.347774",
     "status": "completed"
    },
    "tags": []
   },
   "outputs": [],
   "source": [
    "import warnings\n",
    "warnings.simplefilter(action='ignore', category=FutureWarning)\n",
    "warnings.simplefilter(action='ignore', category=UserWarning)"
   ]
  },
  {
   "cell_type": "code",
   "execution_count": null,
   "id": "85161f19-b2c5-490b-8cab-c2cf9653b304",
   "metadata": {
    "execution": {
     "iopub.execute_input": "2023-04-23T12:55:01.588882Z",
     "iopub.status.busy": "2023-04-23T12:55:01.588657Z",
     "iopub.status.idle": "2023-04-23T12:55:05.504269Z",
     "shell.execute_reply": "2023-04-23T12:55:05.503804Z"
    },
    "papermill": {
     "duration": 3.919433,
     "end_time": "2023-04-23T12:55:05.505617",
     "exception": false,
     "start_time": "2023-04-23T12:55:01.586184",
     "status": "completed"
    },
    "tags": []
   },
   "outputs": [],
   "source": [
    "import gc\n",
    "import scanpy as sc\n",
    "import muon as mu\n",
    "import seaborn as sns\n",
    "import os\n",
    "import pandas as pd\n",
    "from matplotlib import pyplot as plt\n",
    "\n",
    "os.environ['R_HOME'] = '/gpfs/bwfor/work/ws/hd_fu399-conda/conda/envs/python_R/lib/R/'\n",
    "import anndata2ri\n",
    "import logging\n",
    "\n",
    "import rpy2.rinterface_lib.callbacks as rcb\n",
    "import rpy2.robjects as ro\n",
    "\n",
    "rcb.logger.setLevel(logging.ERROR)\n",
    "ro.pandas2ri.activate()\n",
    "anndata2ri.activate()\n",
    "\n",
    "%load_ext rpy2.ipython"
   ]
  },
  {
   "cell_type": "code",
   "execution_count": null,
   "id": "fc4ade78-b728-4704-9db6-45fbaab62ba1",
   "metadata": {
    "execution": {
     "iopub.execute_input": "2023-04-23T12:55:05.513306Z",
     "iopub.status.busy": "2023-04-23T12:55:05.512979Z",
     "iopub.status.idle": "2023-04-23T12:55:14.844314Z",
     "shell.execute_reply": "2023-04-23T12:55:14.843864Z"
    },
    "papermill": {
     "duration": 9.335434,
     "end_time": "2023-04-23T12:55:14.845711",
     "exception": false,
     "start_time": "2023-04-23T12:55:05.510277",
     "status": "completed"
    },
    "tags": []
   },
   "outputs": [],
   "source": [
    "%%R\n",
    "library(SoupX)\n",
    "library(Seurat)\n",
    "library(scater)\n",
    "library(scDblFinder)\n",
    "library(BiocParallel)\n",
    "library(MuDataSeurat)\n",
    "library(DropletUtils)"
   ]
  },
  {
   "cell_type": "code",
   "execution_count": null,
   "id": "611e4882-fc48-43d1-b1cd-e65e1bde0015",
   "metadata": {
    "execution": {
     "iopub.execute_input": "2023-04-23T12:55:14.853604Z",
     "iopub.status.busy": "2023-04-23T12:55:14.853282Z",
     "iopub.status.idle": "2023-04-23T12:55:14.855551Z",
     "shell.execute_reply": "2023-04-23T12:55:14.855242Z"
    },
    "papermill": {
     "duration": 0.005904,
     "end_time": "2023-04-23T12:55:14.856351",
     "exception": false,
     "start_time": "2023-04-23T12:55:14.850447",
     "status": "completed"
    },
    "tags": []
   },
   "outputs": [],
   "source": [
    "sample_name = \"ERR7425195\""
   ]
  },
  {
   "cell_type": "code",
   "execution_count": null,
   "id": "f7424d90-7690-4290-8651-1db3f9df3a35",
   "metadata": {
    "execution": {
     "iopub.execute_input": "2023-04-23T12:55:14.861302Z",
     "iopub.status.busy": "2023-04-23T12:55:14.861030Z",
     "iopub.status.idle": "2023-04-23T12:55:14.874320Z",
     "shell.execute_reply": "2023-04-23T12:55:14.874007Z"
    },
    "papermill": {
     "duration": 0.016623,
     "end_time": "2023-04-23T12:55:14.875103",
     "exception": false,
     "start_time": "2023-04-23T12:55:14.858480",
     "status": "completed"
    },
    "tags": []
   },
   "outputs": [],
   "source": [
    "metadata = pd.read_csv(\"../../metadata.csv\", index_col = 0)"
   ]
  },
  {
   "cell_type": "code",
   "execution_count": null,
   "id": "2574ecf1-bad4-4c33-8f3f-718a358727ab",
   "metadata": {
    "execution": {
     "iopub.execute_input": "2023-04-23T12:55:14.880151Z",
     "iopub.status.busy": "2023-04-23T12:55:14.879871Z",
     "iopub.status.idle": "2023-04-23T12:55:14.881864Z",
     "shell.execute_reply": "2023-04-23T12:55:14.881559Z"
    },
    "papermill": {
     "duration": 0.005326,
     "end_time": "2023-04-23T12:55:14.882626",
     "exception": false,
     "start_time": "2023-04-23T12:55:14.877300",
     "status": "completed"
    },
    "tags": []
   },
   "outputs": [],
   "source": [
    "raw_input = f\"/home/hd/hd_hd/hd_fu399/sds-hd/sd21k006/scRNAseq/revision_natcomm/montaldo_et_al/{sample_name}/{sample_name}/outs/raw_feature_bc_matrix.h5\""
   ]
  },
  {
   "cell_type": "code",
   "execution_count": null,
   "id": "e266d388-1802-435c-93a5-90067358739c",
   "metadata": {
    "execution": {
     "iopub.execute_input": "2023-04-23T12:55:14.887764Z",
     "iopub.status.busy": "2023-04-23T12:55:14.887493Z",
     "iopub.status.idle": "2023-04-23T12:55:15.430014Z",
     "shell.execute_reply": "2023-04-23T12:55:15.429583Z"
    },
    "papermill": {
     "duration": 0.546164,
     "end_time": "2023-04-23T12:55:15.430951",
     "exception": false,
     "start_time": "2023-04-23T12:55:14.884787",
     "status": "completed"
    },
    "tags": []
   },
   "outputs": [],
   "source": [
    "dataset = sc.read_10x_h5(raw_input)\n",
    "dataset.var_names_make_unique()\n",
    "dataset.obs_names_make_unique()\n",
    "\n",
    "dataset.layers[\"raw_counts\"] = dataset.X.copy()\n",
    "data_tod = dataset.layers[\"raw_counts\"].T.copy()\n",
    "\n",
    "dataset"
   ]
  },
  {
   "cell_type": "code",
   "execution_count": null,
   "id": "af9f5892-ed31-42a6-991b-4e096f582cef",
   "metadata": {
    "execution": {
     "iopub.execute_input": "2023-04-23T12:55:15.437276Z",
     "iopub.status.busy": "2023-04-23T12:55:15.437063Z",
     "iopub.status.idle": "2023-04-23T12:55:15.485321Z",
     "shell.execute_reply": "2023-04-23T12:55:15.484850Z"
    },
    "papermill": {
     "duration": 0.052501,
     "end_time": "2023-04-23T12:55:15.486642",
     "exception": false,
     "start_time": "2023-04-23T12:55:15.434141",
     "status": "completed"
    },
    "tags": []
   },
   "outputs": [],
   "source": [
    "sce = dataset.copy()"
   ]
  },
  {
   "cell_type": "code",
   "execution_count": null,
   "id": "d03f2caf-8e74-430e-b045-0ab80401d165",
   "metadata": {
    "execution": {
     "iopub.execute_input": "2023-04-23T12:55:15.492990Z",
     "iopub.status.busy": "2023-04-23T12:55:15.492812Z",
     "iopub.status.idle": "2023-04-23T12:55:57.697471Z",
     "shell.execute_reply": "2023-04-23T12:55:57.696881Z"
    },
    "papermill": {
     "duration": 42.20975,
     "end_time": "2023-04-23T12:55:57.699595",
     "exception": false,
     "start_time": "2023-04-23T12:55:15.489845",
     "status": "completed"
    },
    "tags": []
   },
   "outputs": [],
   "source": [
    "%%R -i sce -o empty_drop_output\n",
    "set.seed(187)\n",
    "empty_drop_output <- emptyDrops(assay(sce))"
   ]
  },
  {
   "cell_type": "code",
   "execution_count": null,
   "id": "2a34a54b-3ae2-44d6-8679-8769228c5b66",
   "metadata": {
    "execution": {
     "iopub.execute_input": "2023-04-23T12:55:57.708598Z",
     "iopub.status.busy": "2023-04-23T12:55:57.708454Z",
     "iopub.status.idle": "2023-04-23T12:55:57.763408Z",
     "shell.execute_reply": "2023-04-23T12:55:57.763098Z"
    },
    "papermill": {
     "duration": 0.059024,
     "end_time": "2023-04-23T12:55:57.764301",
     "exception": false,
     "start_time": "2023-04-23T12:55:57.705277",
     "status": "completed"
    },
    "tags": []
   },
   "outputs": [],
   "source": [
    "non_empty_barcodes = empty_drop_output[empty_drop_output[\"FDR\"] < 0.001].index\n",
    "dataset = dataset[dataset.obs.index.isin(non_empty_barcodes), :]\n",
    "dataset"
   ]
  },
  {
   "cell_type": "code",
   "execution_count": null,
   "id": "016a91e5-1bef-46fb-b91e-4fb9a6870c44",
   "metadata": {
    "execution": {
     "iopub.execute_input": "2023-04-23T12:55:57.769833Z",
     "iopub.status.busy": "2023-04-23T12:55:57.769703Z",
     "iopub.status.idle": "2023-04-23T12:57:21.631720Z",
     "shell.execute_reply": "2023-04-23T12:57:21.631253Z"
    },
    "papermill": {
     "duration": 83.866604,
     "end_time": "2023-04-23T12:57:21.633418",
     "exception": false,
     "start_time": "2023-04-23T12:55:57.766814",
     "status": "completed"
    },
    "tags": []
   },
   "outputs": [],
   "source": [
    "rna_assay = dataset.copy()\n",
    "sc.pp.normalize_per_cell(rna_assay)\n",
    "sc.pp.log1p(rna_assay)\n",
    "sc.pp.pca(rna_assay)\n",
    "sc.pp.neighbors(rna_assay)\n",
    "sc.tl.leiden(rna_assay, key_added=\"soupx_groups\")\n",
    "\n",
    "soupx_groups = rna_assay.obs[\"soupx_groups\"]\n",
    "\n",
    "del rna_assay\n",
    "\n",
    "genes = dataset.var_names\n",
    "cells = dataset.obs_names\n",
    "data = dataset.X.T.copy()"
   ]
  },
  {
   "cell_type": "code",
   "execution_count": null,
   "id": "9db4ea1f-1580-4f43-a3f0-86002397cd98",
   "metadata": {
    "execution": {
     "iopub.execute_input": "2023-04-23T12:57:21.642276Z",
     "iopub.status.busy": "2023-04-23T12:57:21.641862Z",
     "iopub.status.idle": "2023-04-23T12:57:32.091494Z",
     "shell.execute_reply": "2023-04-23T12:57:32.091042Z"
    },
    "papermill": {
     "duration": 10.45419,
     "end_time": "2023-04-23T12:57:32.092894",
     "exception": false,
     "start_time": "2023-04-23T12:57:21.638704",
     "status": "completed"
    },
    "tags": []
   },
   "outputs": [],
   "source": [
    "%%R -i data -i data_tod -i genes -i cells -i soupx_groups -o out \n",
    "set.seed(187)\n",
    "# specify row and column names of data\n",
    "rownames(data) = genes\n",
    "colnames(data) = cells\n",
    "# ensure correct sparse format for table of counts and table of droplets\n",
    "data <- as(data, \"sparseMatrix\")\n",
    "data_tod <- as(data_tod, \"sparseMatrix\")\n",
    "\n",
    "# Generate SoupChannel Object for SoupX \n",
    "sc = SoupChannel(data_tod, data, calcSoupProfile = FALSE)\n",
    "\n",
    "# Add extra meta data to the SoupChannel object\n",
    "soupProf = data.frame(row.names = rownames(data),\n",
    "                      est = rowSums(data)/sum(data),\n",
    "                      counts = rowSums(data))\n",
    "sc = setSoupProfile(sc, soupProf)\n",
    "# Set cluster information in SoupChannel\n",
    "sc = setClusters(sc, soupx_groups)\n",
    "\n",
    "# Estimate contamination fraction\n",
    "sc  = autoEstCont(sc, doPlot=FALSE, forceAccept = TRUE)\n",
    "# Infer corrected table of counts and rount to integer\n",
    "out = adjustCounts(sc, roundToInt = TRUE)"
   ]
  },
  {
   "cell_type": "code",
   "execution_count": null,
   "id": "32555d5e-5fa3-46dd-a4e0-ddc96ea265e2",
   "metadata": {
    "execution": {
     "iopub.execute_input": "2023-04-23T12:57:32.101461Z",
     "iopub.status.busy": "2023-04-23T12:57:32.101163Z",
     "iopub.status.idle": "2023-04-23T12:57:32.128969Z",
     "shell.execute_reply": "2023-04-23T12:57:32.128581Z"
    },
    "papermill": {
     "duration": 0.032154,
     "end_time": "2023-04-23T12:57:32.130140",
     "exception": false,
     "start_time": "2023-04-23T12:57:32.097986",
     "status": "completed"
    },
    "tags": []
   },
   "outputs": [],
   "source": [
    "dataset.layers[\"soupX_counts\"] = out.T\n",
    "dataset.X = dataset.layers[\"soupX_counts\"].copy()"
   ]
  },
  {
   "cell_type": "code",
   "execution_count": null,
   "id": "e27da7df-e094-4d2a-9109-5a363e012175",
   "metadata": {
    "execution": {
     "iopub.execute_input": "2023-04-23T12:57:32.136411Z",
     "iopub.status.busy": "2023-04-23T12:57:32.136143Z",
     "iopub.status.idle": "2023-04-23T12:57:32.138391Z",
     "shell.execute_reply": "2023-04-23T12:57:32.138057Z"
    },
    "papermill": {
     "duration": 0.006105,
     "end_time": "2023-04-23T12:57:32.139203",
     "exception": false,
     "start_time": "2023-04-23T12:57:32.133098",
     "status": "completed"
    },
    "tags": []
   },
   "outputs": [],
   "source": [
    "data_mat = dataset.X.T"
   ]
  },
  {
   "cell_type": "code",
   "execution_count": null,
   "id": "80a993b1-5ccb-4697-9187-1beb7ab8aff9",
   "metadata": {
    "execution": {
     "iopub.execute_input": "2023-04-23T12:57:32.144832Z",
     "iopub.status.busy": "2023-04-23T12:57:32.144677Z",
     "iopub.status.idle": "2023-04-23T12:58:14.379363Z",
     "shell.execute_reply": "2023-04-23T12:58:14.378939Z"
    },
    "papermill": {
     "duration": 42.239087,
     "end_time": "2023-04-23T12:58:14.380844",
     "exception": false,
     "start_time": "2023-04-23T12:57:32.141757",
     "status": "completed"
    },
    "tags": []
   },
   "outputs": [],
   "source": [
    "%%R -i data_mat -o droplet_class\n",
    "\n",
    "set.seed(187)\n",
    "sce = scDblFinder(\n",
    "    SingleCellExperiment(\n",
    "        list(counts=data_mat),\n",
    "    ) \n",
    ")\n",
    "droplet_class = sce$scDblFinder.class"
   ]
  },
  {
   "cell_type": "code",
   "execution_count": null,
   "id": "d4dd6e9d-fcf2-41fc-8457-c8e0a3cb2c71",
   "metadata": {
    "execution": {
     "iopub.execute_input": "2023-04-23T12:58:14.390479Z",
     "iopub.status.busy": "2023-04-23T12:58:14.390116Z",
     "iopub.status.idle": "2023-04-23T12:58:14.394781Z",
     "shell.execute_reply": "2023-04-23T12:58:14.394441Z"
    },
    "papermill": {
     "duration": 0.00915,
     "end_time": "2023-04-23T12:58:14.395596",
     "exception": false,
     "start_time": "2023-04-23T12:58:14.386446",
     "status": "completed"
    },
    "tags": []
   },
   "outputs": [],
   "source": [
    "dataset.obs[\"scDblFinder_class\"] = droplet_class\n",
    "dataset.obs.scDblFinder_class.value_counts()\n",
    "dataset"
   ]
  },
  {
   "cell_type": "code",
   "execution_count": null,
   "id": "28c95014-2d6c-477f-95cb-9f9f0507520c",
   "metadata": {
    "execution": {
     "iopub.execute_input": "2023-04-23T12:58:14.401638Z",
     "iopub.status.busy": "2023-04-23T12:58:14.401390Z",
     "iopub.status.idle": "2023-04-23T12:58:14.407503Z",
     "shell.execute_reply": "2023-04-23T12:58:14.407171Z"
    },
    "papermill": {
     "duration": 0.01001,
     "end_time": "2023-04-23T12:58:14.408283",
     "exception": false,
     "start_time": "2023-04-23T12:58:14.398273",
     "status": "completed"
    },
    "tags": []
   },
   "outputs": [],
   "source": [
    "dataset = dataset[dataset.obs[\"scDblFinder_class\"] == 1]"
   ]
  },
  {
   "cell_type": "code",
   "execution_count": null,
   "id": "3e22f9e0-bfcb-416c-a151-a9bca3bec3b9",
   "metadata": {
    "execution": {
     "iopub.execute_input": "2023-04-23T12:58:14.414373Z",
     "iopub.status.busy": "2023-04-23T12:58:14.414141Z",
     "iopub.status.idle": "2023-04-23T12:58:14.545575Z",
     "shell.execute_reply": "2023-04-23T12:58:14.545140Z"
    },
    "papermill": {
     "duration": 0.135555,
     "end_time": "2023-04-23T12:58:14.546519",
     "exception": false,
     "start_time": "2023-04-23T12:58:14.410964",
     "status": "completed"
    },
    "tags": []
   },
   "outputs": [],
   "source": [
    "# mitochondrial genes\n",
    "dataset.var[\"mt\"] = dataset.var_names.str.startswith(\"MT-\")\n",
    "# ribosomal genes\n",
    "dataset.var[\"ribo\"] = dataset.var_names.str.startswith((\"RPS\", \"RPL\"))\n",
    "# hemoglobin genes.\n",
    "dataset.var[\"hb\"] = dataset.var_names.str.contains((\"^HB[^(P)]\"))\n",
    "\n",
    "sc.pp.calculate_qc_metrics(dataset,\n",
    "                           qc_vars=['mt', 'ribo', 'hb'],\n",
    "                           percent_top=None,\n",
    "                           log1p=False,\n",
    "                           inplace=True)\n",
    "dataset"
   ]
  },
  {
   "cell_type": "code",
   "execution_count": null,
   "id": "34deee79-4043-428f-8575-aa57b45f6369",
   "metadata": {
    "execution": {
     "iopub.execute_input": "2023-04-23T12:58:14.554518Z",
     "iopub.status.busy": "2023-04-23T12:58:14.554325Z",
     "iopub.status.idle": "2023-04-23T12:58:15.182313Z",
     "shell.execute_reply": "2023-04-23T12:58:15.181934Z"
    },
    "papermill": {
     "duration": 0.632609,
     "end_time": "2023-04-23T12:58:15.183252",
     "exception": false,
     "start_time": "2023-04-23T12:58:14.550643",
     "status": "completed"
    },
    "tags": []
   },
   "outputs": [],
   "source": [
    "fig, ax = plt.subplots(ncols = 4, figsize = (16,4))\n",
    "axis = sc.pl.violin(dataset, \"n_genes_by_counts\", jitter = 0.4, ax = ax[0], show = False)\n",
    "axis.grid(False)\n",
    "axis.set_title(\"Unique Genes per cell\")\n",
    "axis.tick_params(axis = \"x\", bottom =False, labelbottom =False)\n",
    "axis.set_ylabel(\"# genes\")\n",
    "axis.axhline(y = 250, color = \"black\", label = \"cutoff\")\n",
    "axis.legend(fontsize = 14, loc = \"upper right\")\n",
    "\n",
    "axis = sc.pl.violin(dataset, \"pct_counts_mt\", jitter = 0.4, ax = ax[1], show = False)\n",
    "axis.grid(False)\n",
    "axis.set_title(\"Mitochondrial Fraction\")\n",
    "axis.tick_params(axis = \"x\", bottom =False, labelbottom =False)\n",
    "axis.set_ylabel(\"% mitochondrial genes\")\n",
    "axis.axhline(y = 10, color = \"black\", label = \"cutoff\")\n",
    "axis.legend(fontsize = 14, loc = \"upper right\")\n",
    "\n",
    "axis = sc.pl.violin(dataset, \"pct_counts_hb\", jitter = 0.4, ax = ax[2], show = False, size =2)\n",
    "axis.grid(False)\n",
    "axis.set_title(\"Hemoglobin Fraction\")\n",
    "axis.tick_params(axis = \"x\", bottom =False, labelbottom =False)\n",
    "axis.set_ylabel(\"% hemoglobin genes\")\n",
    "axis.axhline(y = 1, color = \"black\", label = \"cutoff\")\n",
    "axis.legend(fontsize = 14, loc = \"upper right\")\n",
    "#axis.set_ylim(0,5)\n",
    "\n",
    "axis = sc.pl.violin(dataset, \"pct_counts_ribo\", jitter = 0.4, ax = ax[3], show = False)\n",
    "axis.grid(False)\n",
    "axis.set_title(\"Ribosomal Fraction\")\n",
    "axis.tick_params(axis = \"x\", bottom =False, labelbottom =False)\n",
    "axis.set_ylabel(\"% ribosome genes\")\n",
    "\n",
    "plt.tight_layout()\n",
    "#plt.savefig(f\"{outputDir}08_gene_based_filtering.pdf\", dpi = 300)\n",
    "plt.show()\n",
    "\n"
   ]
  },
  {
   "cell_type": "code",
   "execution_count": null,
   "id": "d7ade754-843e-4840-8707-426613d8c0c5",
   "metadata": {
    "execution": {
     "iopub.execute_input": "2023-04-23T12:58:15.191124Z",
     "iopub.status.busy": "2023-04-23T12:58:15.190956Z",
     "iopub.status.idle": "2023-04-23T12:58:15.202333Z",
     "shell.execute_reply": "2023-04-23T12:58:15.202016Z"
    },
    "papermill": {
     "duration": 0.015971,
     "end_time": "2023-04-23T12:58:15.203098",
     "exception": false,
     "start_time": "2023-04-23T12:58:15.187127",
     "status": "completed"
    },
    "tags": []
   },
   "outputs": [],
   "source": [
    "dataset = dataset[dataset.obs.pct_counts_mt < 10, :]\n",
    "dataset = dataset[dataset.obs.n_genes_by_counts > 250, :]\n",
    "dataset = dataset[dataset.obs.pct_counts_hb < 1, :]\n",
    "dataset"
   ]
  },
  {
   "cell_type": "code",
   "execution_count": null,
   "id": "2e0ff8c3-2aa9-4a01-9b88-5912a6734447",
   "metadata": {
    "execution": {
     "iopub.execute_input": "2023-04-23T12:58:15.210674Z",
     "iopub.status.busy": "2023-04-23T12:58:15.210484Z",
     "iopub.status.idle": "2023-04-23T12:58:15.270064Z",
     "shell.execute_reply": "2023-04-23T12:58:15.269644Z"
    },
    "papermill": {
     "duration": 0.064691,
     "end_time": "2023-04-23T12:58:15.271328",
     "exception": false,
     "start_time": "2023-04-23T12:58:15.206637",
     "status": "completed"
    },
    "tags": []
   },
   "outputs": [],
   "source": [
    "for col in metadata.columns:\n",
    "    dataset.obs[col] = metadata.loc[(metadata[\"ENA_RUN\"] == sample_name) & (metadata[\"read_index\"] == \"read1\"), col].to_list()[0]"
   ]
  },
  {
   "cell_type": "code",
   "execution_count": null,
   "id": "b84578d3-d63e-419c-a272-a0b8317d05ab",
   "metadata": {
    "execution": {
     "iopub.execute_input": "2023-04-23T12:58:15.279320Z",
     "iopub.status.busy": "2023-04-23T12:58:15.279136Z",
     "iopub.status.idle": "2023-04-23T12:58:15.530476Z",
     "shell.execute_reply": "2023-04-23T12:58:15.530043Z"
    },
    "papermill": {
     "duration": 0.256272,
     "end_time": "2023-04-23T12:58:15.531415",
     "exception": false,
     "start_time": "2023-04-23T12:58:15.275143",
     "status": "completed"
    },
    "tags": []
   },
   "outputs": [],
   "source": [
    "dataset.write(f\"../../int_data/{sample_name}_qc.h5ad\")"
   ]
  }
 ],
 "metadata": {
  "kernelspec": {
   "display_name": "py_R",
   "language": "python",
   "name": "python_r"
  },
  "language_info": {
   "codemirror_mode": {
    "name": "ipython",
    "version": 3
   },
   "file_extension": ".py",
   "mimetype": "text/x-python",
   "name": "python",
   "nbconvert_exporter": "python",
   "pygments_lexer": "ipython3",
   "version": "3.10.9"
  },
  "papermill": {
   "default_parameters": {},
   "duration": 197.437037,
   "end_time": "2023-04-23T12:58:17.352967",
   "environment_variables": {},
   "exception": null,
   "input_path": "ERR7425195.ipynb",
   "output_path": "ERR7425195.ipynb",
   "parameters": {},
   "start_time": "2023-04-23T12:54:59.915930",
   "version": "2.4.0"
  }
 },
 "nbformat": 4,
 "nbformat_minor": 5
}
