{
 "cells": [
  {
   "cell_type": "code",
   "execution_count": null,
   "id": "f87ed95b-2b67-4a5a-8fe2-47359b1dd2a9",
   "metadata": {
    "execution": {
     "iopub.execute_input": "2023-04-23T13:48:14.759407Z",
     "iopub.status.busy": "2023-04-23T13:48:14.759245Z",
     "iopub.status.idle": "2023-04-23T13:48:14.763944Z",
     "shell.execute_reply": "2023-04-23T13:48:14.763631Z"
    },
    "papermill": {
     "duration": 0.008883,
     "end_time": "2023-04-23T13:48:14.764744",
     "exception": false,
     "start_time": "2023-04-23T13:48:14.755861",
     "status": "completed"
    },
    "tags": []
   },
   "outputs": [],
   "source": [
    "import warnings\n",
    "warnings.simplefilter(action='ignore', category=FutureWarning)\n",
    "warnings.simplefilter(action='ignore', category=UserWarning)"
   ]
  },
  {
   "cell_type": "code",
   "execution_count": null,
   "id": "85161f19-b2c5-490b-8cab-c2cf9653b304",
   "metadata": {
    "execution": {
     "iopub.execute_input": "2023-04-23T13:48:14.769641Z",
     "iopub.status.busy": "2023-04-23T13:48:14.769515Z",
     "iopub.status.idle": "2023-04-23T13:48:19.121555Z",
     "shell.execute_reply": "2023-04-23T13:48:19.121073Z"
    },
    "papermill": {
     "duration": 4.355727,
     "end_time": "2023-04-23T13:48:19.122777",
     "exception": false,
     "start_time": "2023-04-23T13:48:14.767050",
     "status": "completed"
    },
    "tags": []
   },
   "outputs": [],
   "source": [
    "import gc\n",
    "import scanpy as sc\n",
    "import muon as mu\n",
    "import seaborn as sns\n",
    "import os\n",
    "import pandas as pd\n",
    "from matplotlib import pyplot as plt\n",
    "\n",
    "os.environ['R_HOME'] = '/gpfs/bwfor/work/ws/hd_fu399-conda/conda/envs/python_R/lib/R/'\n",
    "import anndata2ri\n",
    "import logging\n",
    "\n",
    "import rpy2.rinterface_lib.callbacks as rcb\n",
    "import rpy2.robjects as ro\n",
    "\n",
    "rcb.logger.setLevel(logging.ERROR)\n",
    "ro.pandas2ri.activate()\n",
    "anndata2ri.activate()\n",
    "\n",
    "%load_ext rpy2.ipython"
   ]
  },
  {
   "cell_type": "code",
   "execution_count": null,
   "id": "fc4ade78-b728-4704-9db6-45fbaab62ba1",
   "metadata": {
    "execution": {
     "iopub.execute_input": "2023-04-23T13:48:19.131492Z",
     "iopub.status.busy": "2023-04-23T13:48:19.131045Z",
     "iopub.status.idle": "2023-04-23T13:48:29.186087Z",
     "shell.execute_reply": "2023-04-23T13:48:29.185565Z"
    },
    "papermill": {
     "duration": 10.059411,
     "end_time": "2023-04-23T13:48:29.187475",
     "exception": false,
     "start_time": "2023-04-23T13:48:19.128064",
     "status": "completed"
    },
    "tags": []
   },
   "outputs": [],
   "source": [
    "%%R\n",
    "library(SoupX)\n",
    "library(Seurat)\n",
    "library(scater)\n",
    "library(scDblFinder)\n",
    "library(BiocParallel)\n",
    "library(MuDataSeurat)\n",
    "library(DropletUtils)"
   ]
  },
  {
   "cell_type": "code",
   "execution_count": null,
   "id": "611e4882-fc48-43d1-b1cd-e65e1bde0015",
   "metadata": {
    "execution": {
     "iopub.execute_input": "2023-04-23T13:48:29.197402Z",
     "iopub.status.busy": "2023-04-23T13:48:29.197097Z",
     "iopub.status.idle": "2023-04-23T13:48:29.199582Z",
     "shell.execute_reply": "2023-04-23T13:48:29.199259Z"
    },
    "papermill": {
     "duration": 0.006422,
     "end_time": "2023-04-23T13:48:29.200368",
     "exception": false,
     "start_time": "2023-04-23T13:48:29.193946",
     "status": "completed"
    },
    "tags": []
   },
   "outputs": [],
   "source": [
    "sample_name = \"ERR7425210\""
   ]
  },
  {
   "cell_type": "code",
   "execution_count": null,
   "id": "f7424d90-7690-4290-8651-1db3f9df3a35",
   "metadata": {
    "execution": {
     "iopub.execute_input": "2023-04-23T13:48:29.205564Z",
     "iopub.status.busy": "2023-04-23T13:48:29.205306Z",
     "iopub.status.idle": "2023-04-23T13:48:29.213278Z",
     "shell.execute_reply": "2023-04-23T13:48:29.212906Z"
    },
    "papermill": {
     "duration": 0.011559,
     "end_time": "2023-04-23T13:48:29.214160",
     "exception": false,
     "start_time": "2023-04-23T13:48:29.202601",
     "status": "completed"
    },
    "tags": []
   },
   "outputs": [],
   "source": [
    "metadata = pd.read_csv(\"../../metadata.csv\", index_col = 0)"
   ]
  },
  {
   "cell_type": "code",
   "execution_count": null,
   "id": "2574ecf1-bad4-4c33-8f3f-718a358727ab",
   "metadata": {
    "execution": {
     "iopub.execute_input": "2023-04-23T13:48:29.219307Z",
     "iopub.status.busy": "2023-04-23T13:48:29.219174Z",
     "iopub.status.idle": "2023-04-23T13:48:29.221195Z",
     "shell.execute_reply": "2023-04-23T13:48:29.220886Z"
    },
    "papermill": {
     "duration": 0.005466,
     "end_time": "2023-04-23T13:48:29.221972",
     "exception": false,
     "start_time": "2023-04-23T13:48:29.216506",
     "status": "completed"
    },
    "tags": []
   },
   "outputs": [],
   "source": [
    "raw_input = f\"/home/hd/hd_hd/hd_fu399/sds-hd/sd21k006/scRNAseq/revision_natcomm/montaldo_et_al/{sample_name}/{sample_name}/outs/raw_feature_bc_matrix.h5\""
   ]
  },
  {
   "cell_type": "code",
   "execution_count": null,
   "id": "e266d388-1802-435c-93a5-90067358739c",
   "metadata": {
    "execution": {
     "iopub.execute_input": "2023-04-23T13:48:29.227109Z",
     "iopub.status.busy": "2023-04-23T13:48:29.226985Z",
     "iopub.status.idle": "2023-04-23T13:48:29.967518Z",
     "shell.execute_reply": "2023-04-23T13:48:29.967084Z"
    },
    "papermill": {
     "duration": 0.744212,
     "end_time": "2023-04-23T13:48:29.968461",
     "exception": false,
     "start_time": "2023-04-23T13:48:29.224249",
     "status": "completed"
    },
    "tags": []
   },
   "outputs": [],
   "source": [
    "dataset = sc.read_10x_h5(raw_input)\n",
    "dataset.var_names_make_unique()\n",
    "dataset.obs_names_make_unique()\n",
    "\n",
    "dataset.layers[\"raw_counts\"] = dataset.X.copy()\n",
    "data_tod = dataset.layers[\"raw_counts\"].T.copy()\n",
    "\n",
    "dataset"
   ]
  },
  {
   "cell_type": "code",
   "execution_count": null,
   "id": "af9f5892-ed31-42a6-991b-4e096f582cef",
   "metadata": {
    "execution": {
     "iopub.execute_input": "2023-04-23T13:48:29.974537Z",
     "iopub.status.busy": "2023-04-23T13:48:29.974386Z",
     "iopub.status.idle": "2023-04-23T13:48:30.048633Z",
     "shell.execute_reply": "2023-04-23T13:48:30.048170Z"
    },
    "papermill": {
     "duration": 0.078498,
     "end_time": "2023-04-23T13:48:30.049963",
     "exception": false,
     "start_time": "2023-04-23T13:48:29.971465",
     "status": "completed"
    },
    "tags": []
   },
   "outputs": [],
   "source": [
    "sce = dataset.copy()"
   ]
  },
  {
   "cell_type": "code",
   "execution_count": null,
   "id": "d03f2caf-8e74-430e-b045-0ab80401d165",
   "metadata": {
    "execution": {
     "iopub.execute_input": "2023-04-23T13:48:30.055992Z",
     "iopub.status.busy": "2023-04-23T13:48:30.055846Z",
     "iopub.status.idle": "2023-04-23T13:49:31.570855Z",
     "shell.execute_reply": "2023-04-23T13:49:31.570250Z"
    },
    "papermill": {
     "duration": 61.519327,
     "end_time": "2023-04-23T13:49:31.572200",
     "exception": false,
     "start_time": "2023-04-23T13:48:30.052873",
     "status": "completed"
    },
    "tags": []
   },
   "outputs": [],
   "source": [
    "%%R -i sce -o empty_drop_output\n",
    "set.seed(187)\n",
    "empty_drop_output <- emptyDrops(assay(sce))"
   ]
  },
  {
   "cell_type": "code",
   "execution_count": null,
   "id": "2a34a54b-3ae2-44d6-8679-8769228c5b66",
   "metadata": {
    "execution": {
     "iopub.execute_input": "2023-04-23T13:49:31.580474Z",
     "iopub.status.busy": "2023-04-23T13:49:31.580188Z",
     "iopub.status.idle": "2023-04-23T13:49:31.635084Z",
     "shell.execute_reply": "2023-04-23T13:49:31.634563Z"
    },
    "papermill": {
     "duration": 0.058964,
     "end_time": "2023-04-23T13:49:31.636065",
     "exception": false,
     "start_time": "2023-04-23T13:49:31.577101",
     "status": "completed"
    },
    "tags": []
   },
   "outputs": [],
   "source": [
    "non_empty_barcodes = empty_drop_output[empty_drop_output[\"FDR\"] < 0.001].index\n",
    "dataset = dataset[dataset.obs.index.isin(non_empty_barcodes), :]\n",
    "dataset"
   ]
  },
  {
   "cell_type": "code",
   "execution_count": null,
   "id": "016a91e5-1bef-46fb-b91e-4fb9a6870c44",
   "metadata": {
    "execution": {
     "iopub.execute_input": "2023-04-23T13:49:31.642166Z",
     "iopub.status.busy": "2023-04-23T13:49:31.641877Z",
     "iopub.status.idle": "2023-04-23T13:50:57.545416Z",
     "shell.execute_reply": "2023-04-23T13:50:57.544767Z"
    },
    "papermill": {
     "duration": 85.907866,
     "end_time": "2023-04-23T13:50:57.546716",
     "exception": false,
     "start_time": "2023-04-23T13:49:31.638850",
     "status": "completed"
    },
    "tags": []
   },
   "outputs": [],
   "source": [
    "rna_assay = dataset.copy()\n",
    "sc.pp.normalize_per_cell(rna_assay)\n",
    "sc.pp.log1p(rna_assay)\n",
    "sc.pp.pca(rna_assay)\n",
    "sc.pp.neighbors(rna_assay)\n",
    "sc.tl.leiden(rna_assay, key_added=\"soupx_groups\")\n",
    "\n",
    "soupx_groups = rna_assay.obs[\"soupx_groups\"]\n",
    "\n",
    "del rna_assay\n",
    "\n",
    "genes = dataset.var_names\n",
    "cells = dataset.obs_names\n",
    "data = dataset.X.T.copy()"
   ]
  },
  {
   "cell_type": "code",
   "execution_count": null,
   "id": "9db4ea1f-1580-4f43-a3f0-86002397cd98",
   "metadata": {
    "execution": {
     "iopub.execute_input": "2023-04-23T13:50:57.555409Z",
     "iopub.status.busy": "2023-04-23T13:50:57.555205Z",
     "iopub.status.idle": "2023-04-23T13:51:16.523468Z",
     "shell.execute_reply": "2023-04-23T13:51:16.522673Z"
    },
    "papermill": {
     "duration": 18.973126,
     "end_time": "2023-04-23T13:51:16.524865",
     "exception": false,
     "start_time": "2023-04-23T13:50:57.551739",
     "status": "completed"
    },
    "tags": []
   },
   "outputs": [],
   "source": [
    "%%R -i data -i data_tod -i genes -i cells -i soupx_groups -o out \n",
    "set.seed(187)\n",
    "# specify row and column names of data\n",
    "rownames(data) = genes\n",
    "colnames(data) = cells\n",
    "# ensure correct sparse format for table of counts and table of droplets\n",
    "data <- as(data, \"sparseMatrix\")\n",
    "data_tod <- as(data_tod, \"sparseMatrix\")\n",
    "\n",
    "# Generate SoupChannel Object for SoupX \n",
    "sc = SoupChannel(data_tod, data, calcSoupProfile = FALSE)\n",
    "\n",
    "# Add extra meta data to the SoupChannel object\n",
    "soupProf = data.frame(row.names = rownames(data),\n",
    "                      est = rowSums(data)/sum(data),\n",
    "                      counts = rowSums(data))\n",
    "sc = setSoupProfile(sc, soupProf)\n",
    "# Set cluster information in SoupChannel\n",
    "sc = setClusters(sc, soupx_groups)\n",
    "\n",
    "# Estimate contamination fraction\n",
    "sc  = autoEstCont(sc, doPlot=FALSE, forceAccept = TRUE)\n",
    "# Infer corrected table of counts and rount to integer\n",
    "out = adjustCounts(sc, roundToInt = TRUE)"
   ]
  },
  {
   "cell_type": "code",
   "execution_count": null,
   "id": "32555d5e-5fa3-46dd-a4e0-ddc96ea265e2",
   "metadata": {
    "execution": {
     "iopub.execute_input": "2023-04-23T13:51:16.533716Z",
     "iopub.status.busy": "2023-04-23T13:51:16.533512Z",
     "iopub.status.idle": "2023-04-23T13:51:16.573770Z",
     "shell.execute_reply": "2023-04-23T13:51:16.573331Z"
    },
    "papermill": {
     "duration": 0.044937,
     "end_time": "2023-04-23T13:51:16.575052",
     "exception": false,
     "start_time": "2023-04-23T13:51:16.530115",
     "status": "completed"
    },
    "tags": []
   },
   "outputs": [],
   "source": [
    "dataset.layers[\"soupX_counts\"] = out.T\n",
    "dataset.X = dataset.layers[\"soupX_counts\"].copy()"
   ]
  },
  {
   "cell_type": "code",
   "execution_count": null,
   "id": "e27da7df-e094-4d2a-9109-5a363e012175",
   "metadata": {
    "execution": {
     "iopub.execute_input": "2023-04-23T13:51:16.581299Z",
     "iopub.status.busy": "2023-04-23T13:51:16.581136Z",
     "iopub.status.idle": "2023-04-23T13:51:16.583654Z",
     "shell.execute_reply": "2023-04-23T13:51:16.583298Z"
    },
    "papermill": {
     "duration": 0.006437,
     "end_time": "2023-04-23T13:51:16.584434",
     "exception": false,
     "start_time": "2023-04-23T13:51:16.577997",
     "status": "completed"
    },
    "tags": []
   },
   "outputs": [],
   "source": [
    "data_mat = dataset.X.T"
   ]
  },
  {
   "cell_type": "code",
   "execution_count": null,
   "id": "80a993b1-5ccb-4697-9187-1beb7ab8aff9",
   "metadata": {
    "execution": {
     "iopub.execute_input": "2023-04-23T13:51:16.590585Z",
     "iopub.status.busy": "2023-04-23T13:51:16.590381Z",
     "iopub.status.idle": "2023-04-23T13:51:55.479413Z",
     "shell.execute_reply": "2023-04-23T13:51:55.478781Z"
    },
    "papermill": {
     "duration": 38.893726,
     "end_time": "2023-04-23T13:51:55.480753",
     "exception": false,
     "start_time": "2023-04-23T13:51:16.587027",
     "status": "completed"
    },
    "tags": []
   },
   "outputs": [],
   "source": [
    "%%R -i data_mat -o droplet_class\n",
    "\n",
    "set.seed(187)\n",
    "sce = scDblFinder(\n",
    "    SingleCellExperiment(\n",
    "        list(counts=data_mat),\n",
    "    ) \n",
    ")\n",
    "droplet_class = sce$scDblFinder.class"
   ]
  },
  {
   "cell_type": "code",
   "execution_count": null,
   "id": "d4dd6e9d-fcf2-41fc-8457-c8e0a3cb2c71",
   "metadata": {
    "execution": {
     "iopub.execute_input": "2023-04-23T13:51:55.489604Z",
     "iopub.status.busy": "2023-04-23T13:51:55.489425Z",
     "iopub.status.idle": "2023-04-23T13:51:55.494963Z",
     "shell.execute_reply": "2023-04-23T13:51:55.494627Z"
    },
    "papermill": {
     "duration": 0.009664,
     "end_time": "2023-04-23T13:51:55.495761",
     "exception": false,
     "start_time": "2023-04-23T13:51:55.486097",
     "status": "completed"
    },
    "tags": []
   },
   "outputs": [],
   "source": [
    "dataset.obs[\"scDblFinder_class\"] = droplet_class\n",
    "dataset.obs.scDblFinder_class.value_counts()\n",
    "dataset"
   ]
  },
  {
   "cell_type": "code",
   "execution_count": null,
   "id": "28c95014-2d6c-477f-95cb-9f9f0507520c",
   "metadata": {
    "execution": {
     "iopub.execute_input": "2023-04-23T13:51:55.501919Z",
     "iopub.status.busy": "2023-04-23T13:51:55.501662Z",
     "iopub.status.idle": "2023-04-23T13:51:55.508095Z",
     "shell.execute_reply": "2023-04-23T13:51:55.507740Z"
    },
    "papermill": {
     "duration": 0.010307,
     "end_time": "2023-04-23T13:51:55.508833",
     "exception": false,
     "start_time": "2023-04-23T13:51:55.498526",
     "status": "completed"
    },
    "tags": []
   },
   "outputs": [],
   "source": [
    "dataset = dataset[dataset.obs[\"scDblFinder_class\"] == 1]"
   ]
  },
  {
   "cell_type": "code",
   "execution_count": null,
   "id": "3e22f9e0-bfcb-416c-a151-a9bca3bec3b9",
   "metadata": {
    "execution": {
     "iopub.execute_input": "2023-04-23T13:51:55.514929Z",
     "iopub.status.busy": "2023-04-23T13:51:55.514679Z",
     "iopub.status.idle": "2023-04-23T13:51:55.706831Z",
     "shell.execute_reply": "2023-04-23T13:51:55.706387Z"
    },
    "papermill": {
     "duration": 0.196212,
     "end_time": "2023-04-23T13:51:55.707766",
     "exception": false,
     "start_time": "2023-04-23T13:51:55.511554",
     "status": "completed"
    },
    "tags": []
   },
   "outputs": [],
   "source": [
    "# mitochondrial genes\n",
    "dataset.var[\"mt\"] = dataset.var_names.str.startswith(\"MT-\")\n",
    "# ribosomal genes\n",
    "dataset.var[\"ribo\"] = dataset.var_names.str.startswith((\"RPS\", \"RPL\"))\n",
    "# hemoglobin genes.\n",
    "dataset.var[\"hb\"] = dataset.var_names.str.contains((\"^HB[^(P)]\"))\n",
    "\n",
    "sc.pp.calculate_qc_metrics(dataset,\n",
    "                           qc_vars=['mt', 'ribo', 'hb'],\n",
    "                           percent_top=None,\n",
    "                           log1p=False,\n",
    "                           inplace=True)\n",
    "dataset"
   ]
  },
  {
   "cell_type": "code",
   "execution_count": null,
   "id": "34deee79-4043-428f-8575-aa57b45f6369",
   "metadata": {
    "execution": {
     "iopub.execute_input": "2023-04-23T13:51:55.714734Z",
     "iopub.status.busy": "2023-04-23T13:51:55.714557Z",
     "iopub.status.idle": "2023-04-23T13:51:56.288600Z",
     "shell.execute_reply": "2023-04-23T13:51:56.288180Z"
    },
    "papermill": {
     "duration": 0.578291,
     "end_time": "2023-04-23T13:51:56.289428",
     "exception": false,
     "start_time": "2023-04-23T13:51:55.711137",
     "status": "completed"
    },
    "tags": []
   },
   "outputs": [],
   "source": [
    "fig, ax = plt.subplots(ncols = 4, figsize = (16,4))\n",
    "axis = sc.pl.violin(dataset, \"n_genes_by_counts\", jitter = 0.4, ax = ax[0], show = False)\n",
    "axis.grid(False)\n",
    "axis.set_title(\"Unique Genes per cell\")\n",
    "axis.tick_params(axis = \"x\", bottom =False, labelbottom =False)\n",
    "axis.set_ylabel(\"# genes\")\n",
    "axis.axhline(y = 250, color = \"black\", label = \"cutoff\")\n",
    "axis.legend(fontsize = 14, loc = \"upper right\")\n",
    "\n",
    "axis = sc.pl.violin(dataset, \"pct_counts_mt\", jitter = 0.4, ax = ax[1], show = False)\n",
    "axis.grid(False)\n",
    "axis.set_title(\"Mitochondrial Fraction\")\n",
    "axis.tick_params(axis = \"x\", bottom =False, labelbottom =False)\n",
    "axis.set_ylabel(\"% mitochondrial genes\")\n",
    "axis.axhline(y = 10, color = \"black\", label = \"cutoff\")\n",
    "axis.legend(fontsize = 14, loc = \"upper right\")\n",
    "\n",
    "axis = sc.pl.violin(dataset, \"pct_counts_hb\", jitter = 0.4, ax = ax[2], show = False, size =2)\n",
    "axis.grid(False)\n",
    "axis.set_title(\"Hemoglobin Fraction\")\n",
    "axis.tick_params(axis = \"x\", bottom =False, labelbottom =False)\n",
    "axis.set_ylabel(\"% hemoglobin genes\")\n",
    "axis.axhline(y = 1, color = \"black\", label = \"cutoff\")\n",
    "axis.legend(fontsize = 14, loc = \"upper right\")\n",
    "#axis.set_ylim(0,5)\n",
    "\n",
    "axis = sc.pl.violin(dataset, \"pct_counts_ribo\", jitter = 0.4, ax = ax[3], show = False)\n",
    "axis.grid(False)\n",
    "axis.set_title(\"Ribosomal Fraction\")\n",
    "axis.tick_params(axis = \"x\", bottom =False, labelbottom =False)\n",
    "axis.set_ylabel(\"% ribosome genes\")\n",
    "\n",
    "plt.tight_layout()\n",
    "#plt.savefig(f\"{outputDir}08_gene_based_filtering.pdf\", dpi = 300)\n",
    "plt.show()\n",
    "\n"
   ]
  },
  {
   "cell_type": "code",
   "execution_count": null,
   "id": "d7ade754-843e-4840-8707-426613d8c0c5",
   "metadata": {
    "execution": {
     "iopub.execute_input": "2023-04-23T13:51:56.314376Z",
     "iopub.status.busy": "2023-04-23T13:51:56.314196Z",
     "iopub.status.idle": "2023-04-23T13:51:56.327066Z",
     "shell.execute_reply": "2023-04-23T13:51:56.326733Z"
    },
    "papermill": {
     "duration": 0.018087,
     "end_time": "2023-04-23T13:51:56.327836",
     "exception": false,
     "start_time": "2023-04-23T13:51:56.309749",
     "status": "completed"
    },
    "tags": []
   },
   "outputs": [],
   "source": [
    "dataset = dataset[dataset.obs.pct_counts_mt < 10, :]\n",
    "dataset = dataset[dataset.obs.n_genes_by_counts > 250, :]\n",
    "dataset = dataset[dataset.obs.pct_counts_hb < 1, :]\n",
    "dataset"
   ]
  },
  {
   "cell_type": "code",
   "execution_count": null,
   "id": "2e0ff8c3-2aa9-4a01-9b88-5912a6734447",
   "metadata": {
    "execution": {
     "iopub.execute_input": "2023-04-23T13:51:56.335977Z",
     "iopub.status.busy": "2023-04-23T13:51:56.335830Z",
     "iopub.status.idle": "2023-04-23T13:51:56.409077Z",
     "shell.execute_reply": "2023-04-23T13:51:56.408611Z"
    },
    "papermill": {
     "duration": 0.078755,
     "end_time": "2023-04-23T13:51:56.410375",
     "exception": false,
     "start_time": "2023-04-23T13:51:56.331620",
     "status": "completed"
    },
    "tags": []
   },
   "outputs": [],
   "source": [
    "for col in metadata.columns:\n",
    "    dataset.obs[col] = metadata.loc[(metadata[\"ENA_RUN\"] == sample_name) & (metadata[\"read_index\"] == \"read1\"), col].to_list()[0]"
   ]
  },
  {
   "cell_type": "code",
   "execution_count": null,
   "id": "b84578d3-d63e-419c-a272-a0b8317d05ab",
   "metadata": {
    "execution": {
     "iopub.execute_input": "2023-04-23T13:51:56.419140Z",
     "iopub.status.busy": "2023-04-23T13:51:56.418949Z",
     "iopub.status.idle": "2023-04-23T13:51:56.670528Z",
     "shell.execute_reply": "2023-04-23T13:51:56.670069Z"
    },
    "papermill": {
     "duration": 0.257103,
     "end_time": "2023-04-23T13:51:56.671781",
     "exception": false,
     "start_time": "2023-04-23T13:51:56.414678",
     "status": "completed"
    },
    "tags": []
   },
   "outputs": [],
   "source": [
    "dataset.write(f\"../../int_data/{sample_name}_qc.h5ad\")"
   ]
  }
 ],
 "metadata": {
  "kernelspec": {
   "display_name": "py_R",
   "language": "python",
   "name": "python_r"
  },
  "language_info": {
   "codemirror_mode": {
    "name": "ipython",
    "version": 3
   },
   "file_extension": ".py",
   "mimetype": "text/x-python",
   "name": "python",
   "nbconvert_exporter": "python",
   "pygments_lexer": "ipython3",
   "version": "3.10.9"
  },
  "papermill": {
   "default_parameters": {},
   "duration": 224.610209,
   "end_time": "2023-04-23T13:51:58.599096",
   "environment_variables": {},
   "exception": null,
   "input_path": "ERR7425210.ipynb",
   "output_path": "ERR7425210.ipynb",
   "parameters": {},
   "start_time": "2023-04-23T13:48:13.988887",
   "version": "2.4.0"
  }
 },
 "nbformat": 4,
 "nbformat_minor": 5
}
