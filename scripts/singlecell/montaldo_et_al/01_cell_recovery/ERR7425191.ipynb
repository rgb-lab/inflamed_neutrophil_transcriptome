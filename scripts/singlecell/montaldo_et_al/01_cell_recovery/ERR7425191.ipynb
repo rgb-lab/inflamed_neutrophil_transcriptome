{
 "cells": [
  {
   "cell_type": "code",
   "execution_count": null,
   "id": "f87ed95b-2b67-4a5a-8fe2-47359b1dd2a9",
   "metadata": {
    "execution": {
     "iopub.execute_input": "2023-04-23T12:38:12.214742Z",
     "iopub.status.busy": "2023-04-23T12:38:12.214586Z",
     "iopub.status.idle": "2023-04-23T12:38:12.219177Z",
     "shell.execute_reply": "2023-04-23T12:38:12.218853Z"
    },
    "papermill": {
     "duration": 0.00872,
     "end_time": "2023-04-23T12:38:12.220182",
     "exception": false,
     "start_time": "2023-04-23T12:38:12.211462",
     "status": "completed"
    },
    "tags": []
   },
   "outputs": [],
   "source": [
    "import warnings\n",
    "warnings.simplefilter(action='ignore', category=FutureWarning)\n",
    "warnings.simplefilter(action='ignore', category=UserWarning)"
   ]
  },
  {
   "cell_type": "code",
   "execution_count": null,
   "id": "85161f19-b2c5-490b-8cab-c2cf9653b304",
   "metadata": {
    "execution": {
     "iopub.execute_input": "2023-04-23T12:38:12.225347Z",
     "iopub.status.busy": "2023-04-23T12:38:12.225223Z",
     "iopub.status.idle": "2023-04-23T12:38:16.256676Z",
     "shell.execute_reply": "2023-04-23T12:38:16.256126Z"
    },
    "papermill": {
     "duration": 4.035281,
     "end_time": "2023-04-23T12:38:16.257924",
     "exception": false,
     "start_time": "2023-04-23T12:38:12.222643",
     "status": "completed"
    },
    "tags": []
   },
   "outputs": [],
   "source": [
    "import gc\n",
    "import scanpy as sc\n",
    "import muon as mu\n",
    "import seaborn as sns\n",
    "import os\n",
    "import pandas as pd\n",
    "from matplotlib import pyplot as plt\n",
    "\n",
    "os.environ['R_HOME'] = '/gpfs/bwfor/work/ws/hd_fu399-conda/conda/envs/python_R/lib/R/'\n",
    "import anndata2ri\n",
    "import logging\n",
    "\n",
    "import rpy2.rinterface_lib.callbacks as rcb\n",
    "import rpy2.robjects as ro\n",
    "\n",
    "rcb.logger.setLevel(logging.ERROR)\n",
    "ro.pandas2ri.activate()\n",
    "anndata2ri.activate()\n",
    "\n",
    "%load_ext rpy2.ipython"
   ]
  },
  {
   "cell_type": "code",
   "execution_count": null,
   "id": "fc4ade78-b728-4704-9db6-45fbaab62ba1",
   "metadata": {
    "execution": {
     "iopub.execute_input": "2023-04-23T12:38:16.265186Z",
     "iopub.status.busy": "2023-04-23T12:38:16.264946Z",
     "iopub.status.idle": "2023-04-23T12:38:25.994174Z",
     "shell.execute_reply": "2023-04-23T12:38:25.993643Z"
    },
    "papermill": {
     "duration": 9.733205,
     "end_time": "2023-04-23T12:38:25.995419",
     "exception": false,
     "start_time": "2023-04-23T12:38:16.262214",
     "status": "completed"
    },
    "tags": []
   },
   "outputs": [],
   "source": [
    "%%R\n",
    "library(SoupX)\n",
    "library(Seurat)\n",
    "library(scater)\n",
    "library(scDblFinder)\n",
    "library(BiocParallel)\n",
    "library(MuDataSeurat)\n",
    "library(DropletUtils)"
   ]
  },
  {
   "cell_type": "code",
   "execution_count": null,
   "id": "611e4882-fc48-43d1-b1cd-e65e1bde0015",
   "metadata": {
    "execution": {
     "iopub.execute_input": "2023-04-23T12:38:26.003511Z",
     "iopub.status.busy": "2023-04-23T12:38:26.003374Z",
     "iopub.status.idle": "2023-04-23T12:38:26.005741Z",
     "shell.execute_reply": "2023-04-23T12:38:26.005362Z"
    },
    "papermill": {
     "duration": 0.006531,
     "end_time": "2023-04-23T12:38:26.006623",
     "exception": false,
     "start_time": "2023-04-23T12:38:26.000092",
     "status": "completed"
    },
    "tags": []
   },
   "outputs": [],
   "source": [
    "sample_name = \"ERR7425191\""
   ]
  },
  {
   "cell_type": "code",
   "execution_count": null,
   "id": "f7424d90-7690-4290-8651-1db3f9df3a35",
   "metadata": {
    "execution": {
     "iopub.execute_input": "2023-04-23T12:38:26.011614Z",
     "iopub.status.busy": "2023-04-23T12:38:26.011484Z",
     "iopub.status.idle": "2023-04-23T12:38:26.018224Z",
     "shell.execute_reply": "2023-04-23T12:38:26.017834Z"
    },
    "papermill": {
     "duration": 0.010254,
     "end_time": "2023-04-23T12:38:26.019100",
     "exception": false,
     "start_time": "2023-04-23T12:38:26.008846",
     "status": "completed"
    },
    "tags": []
   },
   "outputs": [],
   "source": [
    "metadata = pd.read_csv(\"../../metadata.csv\", index_col = 0)"
   ]
  },
  {
   "cell_type": "code",
   "execution_count": null,
   "id": "2574ecf1-bad4-4c33-8f3f-718a358727ab",
   "metadata": {
    "execution": {
     "iopub.execute_input": "2023-04-23T12:38:26.024125Z",
     "iopub.status.busy": "2023-04-23T12:38:26.023995Z",
     "iopub.status.idle": "2023-04-23T12:38:26.026201Z",
     "shell.execute_reply": "2023-04-23T12:38:26.025815Z"
    },
    "papermill": {
     "duration": 0.005723,
     "end_time": "2023-04-23T12:38:26.027054",
     "exception": false,
     "start_time": "2023-04-23T12:38:26.021331",
     "status": "completed"
    },
    "tags": []
   },
   "outputs": [],
   "source": [
    "raw_input = f\"/home/hd/hd_hd/hd_fu399/sds-hd/sd21k006/scRNAseq/revision_natcomm/montaldo_et_al/{sample_name}/{sample_name}/outs/raw_feature_bc_matrix.h5\""
   ]
  },
  {
   "cell_type": "code",
   "execution_count": null,
   "id": "e266d388-1802-435c-93a5-90067358739c",
   "metadata": {
    "execution": {
     "iopub.execute_input": "2023-04-23T12:38:26.032113Z",
     "iopub.status.busy": "2023-04-23T12:38:26.031985Z",
     "iopub.status.idle": "2023-04-23T12:38:27.089182Z",
     "shell.execute_reply": "2023-04-23T12:38:27.088687Z"
    },
    "papermill": {
     "duration": 1.060892,
     "end_time": "2023-04-23T12:38:27.090163",
     "exception": false,
     "start_time": "2023-04-23T12:38:26.029271",
     "status": "completed"
    },
    "tags": []
   },
   "outputs": [],
   "source": [
    "dataset = sc.read_10x_h5(raw_input)\n",
    "dataset.var_names_make_unique()\n",
    "dataset.obs_names_make_unique()\n",
    "\n",
    "dataset.layers[\"raw_counts\"] = dataset.X.copy()\n",
    "data_tod = dataset.layers[\"raw_counts\"].T.copy()\n",
    "\n",
    "dataset"
   ]
  },
  {
   "cell_type": "code",
   "execution_count": null,
   "id": "af9f5892-ed31-42a6-991b-4e096f582cef",
   "metadata": {
    "execution": {
     "iopub.execute_input": "2023-04-23T12:38:27.096078Z",
     "iopub.status.busy": "2023-04-23T12:38:27.095931Z",
     "iopub.status.idle": "2023-04-23T12:38:27.208997Z",
     "shell.execute_reply": "2023-04-23T12:38:27.208404Z"
    },
    "papermill": {
     "duration": 0.117192,
     "end_time": "2023-04-23T12:38:27.210134",
     "exception": false,
     "start_time": "2023-04-23T12:38:27.092942",
     "status": "completed"
    },
    "tags": []
   },
   "outputs": [],
   "source": [
    "sce = dataset.copy()"
   ]
  },
  {
   "cell_type": "code",
   "execution_count": null,
   "id": "d03f2caf-8e74-430e-b045-0ab80401d165",
   "metadata": {
    "execution": {
     "iopub.execute_input": "2023-04-23T12:38:27.215847Z",
     "iopub.status.busy": "2023-04-23T12:38:27.215695Z",
     "iopub.status.idle": "2023-04-23T12:39:48.583332Z",
     "shell.execute_reply": "2023-04-23T12:39:48.582392Z"
    },
    "papermill": {
     "duration": 81.372044,
     "end_time": "2023-04-23T12:39:48.584736",
     "exception": false,
     "start_time": "2023-04-23T12:38:27.212692",
     "status": "completed"
    },
    "tags": []
   },
   "outputs": [],
   "source": [
    "%%R -i sce -o empty_drop_output\n",
    "set.seed(187)\n",
    "empty_drop_output <- emptyDrops(assay(sce))"
   ]
  },
  {
   "cell_type": "code",
   "execution_count": null,
   "id": "2a34a54b-3ae2-44d6-8679-8769228c5b66",
   "metadata": {
    "execution": {
     "iopub.execute_input": "2023-04-23T12:39:48.592881Z",
     "iopub.status.busy": "2023-04-23T12:39:48.592690Z",
     "iopub.status.idle": "2023-04-23T12:39:48.665901Z",
     "shell.execute_reply": "2023-04-23T12:39:48.665507Z"
    },
    "papermill": {
     "duration": 0.077534,
     "end_time": "2023-04-23T12:39:48.666853",
     "exception": false,
     "start_time": "2023-04-23T12:39:48.589319",
     "status": "completed"
    },
    "tags": []
   },
   "outputs": [],
   "source": [
    "non_empty_barcodes = empty_drop_output[empty_drop_output[\"FDR\"] < 0.001].index\n",
    "dataset = dataset[dataset.obs.index.isin(non_empty_barcodes), :]\n",
    "dataset"
   ]
  },
  {
   "cell_type": "code",
   "execution_count": null,
   "id": "016a91e5-1bef-46fb-b91e-4fb9a6870c44",
   "metadata": {
    "execution": {
     "iopub.execute_input": "2023-04-23T12:39:48.672768Z",
     "iopub.status.busy": "2023-04-23T12:39:48.672634Z",
     "iopub.status.idle": "2023-04-23T12:41:16.242311Z",
     "shell.execute_reply": "2023-04-23T12:41:16.241601Z"
    },
    "papermill": {
     "duration": 87.574123,
     "end_time": "2023-04-23T12:41:16.243609",
     "exception": false,
     "start_time": "2023-04-23T12:39:48.669486",
     "status": "completed"
    },
    "tags": []
   },
   "outputs": [],
   "source": [
    "rna_assay = dataset.copy()\n",
    "sc.pp.normalize_per_cell(rna_assay)\n",
    "sc.pp.log1p(rna_assay)\n",
    "sc.pp.pca(rna_assay)\n",
    "sc.pp.neighbors(rna_assay)\n",
    "sc.tl.leiden(rna_assay, key_added=\"soupx_groups\")\n",
    "\n",
    "soupx_groups = rna_assay.obs[\"soupx_groups\"]\n",
    "\n",
    "del rna_assay\n",
    "\n",
    "genes = dataset.var_names\n",
    "cells = dataset.obs_names\n",
    "data = dataset.X.T.copy()"
   ]
  },
  {
   "cell_type": "code",
   "execution_count": null,
   "id": "9db4ea1f-1580-4f43-a3f0-86002397cd98",
   "metadata": {
    "execution": {
     "iopub.execute_input": "2023-04-23T12:41:16.253941Z",
     "iopub.status.busy": "2023-04-23T12:41:16.253463Z",
     "iopub.status.idle": "2023-04-23T12:41:37.995623Z",
     "shell.execute_reply": "2023-04-23T12:41:37.995054Z"
    },
    "papermill": {
     "duration": 21.747375,
     "end_time": "2023-04-23T12:41:37.997113",
     "exception": false,
     "start_time": "2023-04-23T12:41:16.249738",
     "status": "completed"
    },
    "tags": []
   },
   "outputs": [],
   "source": [
    "%%R -i data -i data_tod -i genes -i cells -i soupx_groups -o out \n",
    "set.seed(187)\n",
    "# specify row and column names of data\n",
    "rownames(data) = genes\n",
    "colnames(data) = cells\n",
    "# ensure correct sparse format for table of counts and table of droplets\n",
    "data <- as(data, \"sparseMatrix\")\n",
    "data_tod <- as(data_tod, \"sparseMatrix\")\n",
    "\n",
    "# Generate SoupChannel Object for SoupX \n",
    "sc = SoupChannel(data_tod, data, calcSoupProfile = FALSE)\n",
    "\n",
    "# Add extra meta data to the SoupChannel object\n",
    "soupProf = data.frame(row.names = rownames(data),\n",
    "                      est = rowSums(data)/sum(data),\n",
    "                      counts = rowSums(data))\n",
    "sc = setSoupProfile(sc, soupProf)\n",
    "# Set cluster information in SoupChannel\n",
    "sc = setClusters(sc, soupx_groups)\n",
    "\n",
    "# Estimate contamination fraction\n",
    "sc  = autoEstCont(sc, doPlot=FALSE, forceAccept = TRUE)\n",
    "# Infer corrected table of counts and rount to integer\n",
    "out = adjustCounts(sc, roundToInt = TRUE)"
   ]
  },
  {
   "cell_type": "code",
   "execution_count": null,
   "id": "32555d5e-5fa3-46dd-a4e0-ddc96ea265e2",
   "metadata": {
    "execution": {
     "iopub.execute_input": "2023-04-23T12:41:38.009980Z",
     "iopub.status.busy": "2023-04-23T12:41:38.009808Z",
     "iopub.status.idle": "2023-04-23T12:41:38.059325Z",
     "shell.execute_reply": "2023-04-23T12:41:38.058907Z"
    },
    "papermill": {
     "duration": 0.054309,
     "end_time": "2023-04-23T12:41:38.060802",
     "exception": false,
     "start_time": "2023-04-23T12:41:38.006493",
     "status": "completed"
    },
    "tags": []
   },
   "outputs": [],
   "source": [
    "dataset.layers[\"soupX_counts\"] = out.T\n",
    "dataset.X = dataset.layers[\"soupX_counts\"].copy()"
   ]
  },
  {
   "cell_type": "code",
   "execution_count": null,
   "id": "e27da7df-e094-4d2a-9109-5a363e012175",
   "metadata": {
    "execution": {
     "iopub.execute_input": "2023-04-23T12:41:38.067066Z",
     "iopub.status.busy": "2023-04-23T12:41:38.066902Z",
     "iopub.status.idle": "2023-04-23T12:41:38.069343Z",
     "shell.execute_reply": "2023-04-23T12:41:38.069003Z"
    },
    "papermill": {
     "duration": 0.00665,
     "end_time": "2023-04-23T12:41:38.070137",
     "exception": false,
     "start_time": "2023-04-23T12:41:38.063487",
     "status": "completed"
    },
    "tags": []
   },
   "outputs": [],
   "source": [
    "data_mat = dataset.X.T"
   ]
  },
  {
   "cell_type": "code",
   "execution_count": null,
   "id": "80a993b1-5ccb-4697-9187-1beb7ab8aff9",
   "metadata": {
    "execution": {
     "iopub.execute_input": "2023-04-23T12:41:38.076154Z",
     "iopub.status.busy": "2023-04-23T12:41:38.075876Z",
     "iopub.status.idle": "2023-04-23T12:42:09.779842Z",
     "shell.execute_reply": "2023-04-23T12:42:09.779265Z"
    },
    "papermill": {
     "duration": 31.708707,
     "end_time": "2023-04-23T12:42:09.781502",
     "exception": false,
     "start_time": "2023-04-23T12:41:38.072795",
     "status": "completed"
    },
    "tags": []
   },
   "outputs": [],
   "source": [
    "%%R -i data_mat -o droplet_class\n",
    "\n",
    "set.seed(187)\n",
    "sce = scDblFinder(\n",
    "    SingleCellExperiment(\n",
    "        list(counts=data_mat),\n",
    "    ) \n",
    ")\n",
    "droplet_class = sce$scDblFinder.class"
   ]
  },
  {
   "cell_type": "code",
   "execution_count": null,
   "id": "d4dd6e9d-fcf2-41fc-8457-c8e0a3cb2c71",
   "metadata": {
    "execution": {
     "iopub.execute_input": "2023-04-23T12:42:09.791250Z",
     "iopub.status.busy": "2023-04-23T12:42:09.791021Z",
     "iopub.status.idle": "2023-04-23T12:42:09.796220Z",
     "shell.execute_reply": "2023-04-23T12:42:09.795866Z"
    },
    "papermill": {
     "duration": 0.009339,
     "end_time": "2023-04-23T12:42:09.797033",
     "exception": false,
     "start_time": "2023-04-23T12:42:09.787694",
     "status": "completed"
    },
    "tags": []
   },
   "outputs": [],
   "source": [
    "dataset.obs[\"scDblFinder_class\"] = droplet_class\n",
    "dataset.obs.scDblFinder_class.value_counts()\n",
    "dataset"
   ]
  },
  {
   "cell_type": "code",
   "execution_count": null,
   "id": "28c95014-2d6c-477f-95cb-9f9f0507520c",
   "metadata": {
    "execution": {
     "iopub.execute_input": "2023-04-23T12:42:09.803260Z",
     "iopub.status.busy": "2023-04-23T12:42:09.802997Z",
     "iopub.status.idle": "2023-04-23T12:42:09.815356Z",
     "shell.execute_reply": "2023-04-23T12:42:09.815029Z"
    },
    "papermill": {
     "duration": 0.016347,
     "end_time": "2023-04-23T12:42:09.816167",
     "exception": false,
     "start_time": "2023-04-23T12:42:09.799820",
     "status": "completed"
    },
    "tags": []
   },
   "outputs": [],
   "source": [
    "dataset = dataset[dataset.obs[\"scDblFinder_class\"] == 1]"
   ]
  },
  {
   "cell_type": "code",
   "execution_count": null,
   "id": "3e22f9e0-bfcb-416c-a151-a9bca3bec3b9",
   "metadata": {
    "execution": {
     "iopub.execute_input": "2023-04-23T12:42:09.822572Z",
     "iopub.status.busy": "2023-04-23T12:42:09.822250Z",
     "iopub.status.idle": "2023-04-23T12:42:10.080315Z",
     "shell.execute_reply": "2023-04-23T12:42:10.079891Z"
    },
    "papermill": {
     "duration": 0.262297,
     "end_time": "2023-04-23T12:42:10.081260",
     "exception": false,
     "start_time": "2023-04-23T12:42:09.818963",
     "status": "completed"
    },
    "tags": []
   },
   "outputs": [],
   "source": [
    "# mitochondrial genes\n",
    "dataset.var[\"mt\"] = dataset.var_names.str.startswith(\"MT-\")\n",
    "# ribosomal genes\n",
    "dataset.var[\"ribo\"] = dataset.var_names.str.startswith((\"RPS\", \"RPL\"))\n",
    "# hemoglobin genes.\n",
    "dataset.var[\"hb\"] = dataset.var_names.str.contains((\"^HB[^(P)]\"))\n",
    "\n",
    "sc.pp.calculate_qc_metrics(dataset,\n",
    "                           qc_vars=['mt', 'ribo', 'hb'],\n",
    "                           percent_top=None,\n",
    "                           log1p=False,\n",
    "                           inplace=True)\n",
    "dataset"
   ]
  },
  {
   "cell_type": "code",
   "execution_count": null,
   "id": "34deee79-4043-428f-8575-aa57b45f6369",
   "metadata": {
    "execution": {
     "iopub.execute_input": "2023-04-23T12:42:10.087859Z",
     "iopub.status.busy": "2023-04-23T12:42:10.087677Z",
     "iopub.status.idle": "2023-04-23T12:42:10.602401Z",
     "shell.execute_reply": "2023-04-23T12:42:10.602029Z"
    },
    "papermill": {
     "duration": 0.519366,
     "end_time": "2023-04-23T12:42:10.603712",
     "exception": false,
     "start_time": "2023-04-23T12:42:10.084346",
     "status": "completed"
    },
    "tags": []
   },
   "outputs": [],
   "source": [
    "fig, ax = plt.subplots(ncols = 4, figsize = (16,4))\n",
    "axis = sc.pl.violin(dataset, \"n_genes_by_counts\", jitter = 0.4, ax = ax[0], show = False)\n",
    "axis.grid(False)\n",
    "axis.set_title(\"Unique Genes per cell\")\n",
    "axis.tick_params(axis = \"x\", bottom =False, labelbottom =False)\n",
    "axis.set_ylabel(\"# genes\")\n",
    "axis.axhline(y = 250, color = \"black\", label = \"cutoff\")\n",
    "axis.legend(fontsize = 14, loc = \"upper right\")\n",
    "\n",
    "axis = sc.pl.violin(dataset, \"pct_counts_mt\", jitter = 0.4, ax = ax[1], show = False)\n",
    "axis.grid(False)\n",
    "axis.set_title(\"Mitochondrial Fraction\")\n",
    "axis.tick_params(axis = \"x\", bottom =False, labelbottom =False)\n",
    "axis.set_ylabel(\"% mitochondrial genes\")\n",
    "axis.axhline(y = 10, color = \"black\", label = \"cutoff\")\n",
    "axis.legend(fontsize = 14, loc = \"upper right\")\n",
    "\n",
    "axis = sc.pl.violin(dataset, \"pct_counts_hb\", jitter = 0.4, ax = ax[2], show = False, size =2)\n",
    "axis.grid(False)\n",
    "axis.set_title(\"Hemoglobin Fraction\")\n",
    "axis.tick_params(axis = \"x\", bottom =False, labelbottom =False)\n",
    "axis.set_ylabel(\"% hemoglobin genes\")\n",
    "axis.axhline(y = 1, color = \"black\", label = \"cutoff\")\n",
    "axis.legend(fontsize = 14, loc = \"upper right\")\n",
    "#axis.set_ylim(0,5)\n",
    "\n",
    "axis = sc.pl.violin(dataset, \"pct_counts_ribo\", jitter = 0.4, ax = ax[3], show = False)\n",
    "axis.grid(False)\n",
    "axis.set_title(\"Ribosomal Fraction\")\n",
    "axis.tick_params(axis = \"x\", bottom =False, labelbottom =False)\n",
    "axis.set_ylabel(\"% ribosome genes\")\n",
    "\n",
    "plt.tight_layout()\n",
    "#plt.savefig(f\"{outputDir}08_gene_based_filtering.pdf\", dpi = 300)\n",
    "plt.show()\n",
    "\n"
   ]
  },
  {
   "cell_type": "code",
   "execution_count": null,
   "id": "d7ade754-843e-4840-8707-426613d8c0c5",
   "metadata": {
    "execution": {
     "iopub.execute_input": "2023-04-23T12:42:10.612521Z",
     "iopub.status.busy": "2023-04-23T12:42:10.612317Z",
     "iopub.status.idle": "2023-04-23T12:42:10.624547Z",
     "shell.execute_reply": "2023-04-23T12:42:10.624216Z"
    },
    "papermill": {
     "duration": 0.017471,
     "end_time": "2023-04-23T12:42:10.625337",
     "exception": false,
     "start_time": "2023-04-23T12:42:10.607866",
     "status": "completed"
    },
    "tags": []
   },
   "outputs": [],
   "source": [
    "dataset = dataset[dataset.obs.pct_counts_mt < 10, :]\n",
    "dataset = dataset[dataset.obs.n_genes_by_counts > 250, :]\n",
    "dataset = dataset[dataset.obs.pct_counts_hb < 1, :]\n",
    "dataset"
   ]
  },
  {
   "cell_type": "code",
   "execution_count": null,
   "id": "2e0ff8c3-2aa9-4a01-9b88-5912a6734447",
   "metadata": {
    "execution": {
     "iopub.execute_input": "2023-04-23T12:42:10.633984Z",
     "iopub.status.busy": "2023-04-23T12:42:10.633821Z",
     "iopub.status.idle": "2023-04-23T12:42:10.717284Z",
     "shell.execute_reply": "2023-04-23T12:42:10.716856Z"
    },
    "papermill": {
     "duration": 0.08917,
     "end_time": "2023-04-23T12:42:10.718578",
     "exception": false,
     "start_time": "2023-04-23T12:42:10.629408",
     "status": "completed"
    },
    "tags": []
   },
   "outputs": [],
   "source": [
    "for col in metadata.columns:\n",
    "    dataset.obs[col] = metadata.loc[(metadata[\"ENA_RUN\"] == sample_name) & (metadata[\"read_index\"] == \"read1\"), col].to_list()[0]"
   ]
  },
  {
   "cell_type": "code",
   "execution_count": null,
   "id": "b84578d3-d63e-419c-a272-a0b8317d05ab",
   "metadata": {
    "execution": {
     "iopub.execute_input": "2023-04-23T12:42:10.727825Z",
     "iopub.status.busy": "2023-04-23T12:42:10.727651Z",
     "iopub.status.idle": "2023-04-23T12:42:10.991042Z",
     "shell.execute_reply": "2023-04-23T12:42:10.990573Z"
    },
    "papermill": {
     "duration": 0.269271,
     "end_time": "2023-04-23T12:42:10.992172",
     "exception": false,
     "start_time": "2023-04-23T12:42:10.722901",
     "status": "completed"
    },
    "tags": []
   },
   "outputs": [],
   "source": [
    "dataset.write(f\"../../int_data/{sample_name}_qc.h5ad\")"
   ]
  }
 ],
 "metadata": {
  "kernelspec": {
   "display_name": "py_R",
   "language": "python",
   "name": "python_r"
  },
  "language_info": {
   "codemirror_mode": {
    "name": "ipython",
    "version": 3
   },
   "file_extension": ".py",
   "mimetype": "text/x-python",
   "name": "python",
   "nbconvert_exporter": "python",
   "pygments_lexer": "ipython3",
   "version": "3.10.9"
  },
  "papermill": {
   "default_parameters": {},
   "duration": 241.554038,
   "end_time": "2023-04-23T12:42:12.914738",
   "environment_variables": {},
   "exception": null,
   "input_path": "ERR7425191.ipynb",
   "output_path": "ERR7425191.ipynb",
   "parameters": {},
   "start_time": "2023-04-23T12:38:11.360700",
   "version": "2.4.0"
  }
 },
 "nbformat": 4,
 "nbformat_minor": 5
}
