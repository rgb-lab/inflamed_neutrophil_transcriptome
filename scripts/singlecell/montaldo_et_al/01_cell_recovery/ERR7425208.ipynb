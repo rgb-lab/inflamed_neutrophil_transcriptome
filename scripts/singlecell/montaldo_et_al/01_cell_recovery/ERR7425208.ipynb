{
 "cells": [
  {
   "cell_type": "code",
   "execution_count": null,
   "id": "f87ed95b-2b67-4a5a-8fe2-47359b1dd2a9",
   "metadata": {
    "execution": {
     "iopub.execute_input": "2023-04-23T13:41:28.386329Z",
     "iopub.status.busy": "2023-04-23T13:41:28.386196Z",
     "iopub.status.idle": "2023-04-23T13:41:28.391222Z",
     "shell.execute_reply": "2023-04-23T13:41:28.390750Z"
    },
    "papermill": {
     "duration": 0.009072,
     "end_time": "2023-04-23T13:41:28.392139",
     "exception": false,
     "start_time": "2023-04-23T13:41:28.383067",
     "status": "completed"
    },
    "tags": []
   },
   "outputs": [],
   "source": [
    "import warnings\n",
    "warnings.simplefilter(action='ignore', category=FutureWarning)\n",
    "warnings.simplefilter(action='ignore', category=UserWarning)"
   ]
  },
  {
   "cell_type": "code",
   "execution_count": null,
   "id": "85161f19-b2c5-490b-8cab-c2cf9653b304",
   "metadata": {
    "execution": {
     "iopub.execute_input": "2023-04-23T13:41:28.397171Z",
     "iopub.status.busy": "2023-04-23T13:41:28.397040Z",
     "iopub.status.idle": "2023-04-23T13:41:32.425243Z",
     "shell.execute_reply": "2023-04-23T13:41:32.424777Z"
    },
    "papermill": {
     "duration": 4.032133,
     "end_time": "2023-04-23T13:41:32.426605",
     "exception": false,
     "start_time": "2023-04-23T13:41:28.394472",
     "status": "completed"
    },
    "tags": []
   },
   "outputs": [],
   "source": [
    "import gc\n",
    "import scanpy as sc\n",
    "import muon as mu\n",
    "import seaborn as sns\n",
    "import os\n",
    "import pandas as pd\n",
    "from matplotlib import pyplot as plt\n",
    "\n",
    "os.environ['R_HOME'] = '/gpfs/bwfor/work/ws/hd_fu399-conda/conda/envs/python_R/lib/R/'\n",
    "import anndata2ri\n",
    "import logging\n",
    "\n",
    "import rpy2.rinterface_lib.callbacks as rcb\n",
    "import rpy2.robjects as ro\n",
    "\n",
    "rcb.logger.setLevel(logging.ERROR)\n",
    "ro.pandas2ri.activate()\n",
    "anndata2ri.activate()\n",
    "\n",
    "%load_ext rpy2.ipython"
   ]
  },
  {
   "cell_type": "code",
   "execution_count": null,
   "id": "fc4ade78-b728-4704-9db6-45fbaab62ba1",
   "metadata": {
    "execution": {
     "iopub.execute_input": "2023-04-23T13:41:32.454899Z",
     "iopub.status.busy": "2023-04-23T13:41:32.454635Z",
     "iopub.status.idle": "2023-04-23T13:41:41.932924Z",
     "shell.execute_reply": "2023-04-23T13:41:41.932451Z"
    },
    "papermill": {
     "duration": 9.482562,
     "end_time": "2023-04-23T13:41:41.934259",
     "exception": false,
     "start_time": "2023-04-23T13:41:32.451697",
     "status": "completed"
    },
    "tags": []
   },
   "outputs": [],
   "source": [
    "%%R\n",
    "library(SoupX)\n",
    "library(Seurat)\n",
    "library(scater)\n",
    "library(scDblFinder)\n",
    "library(BiocParallel)\n",
    "library(MuDataSeurat)\n",
    "library(DropletUtils)"
   ]
  },
  {
   "cell_type": "code",
   "execution_count": null,
   "id": "611e4882-fc48-43d1-b1cd-e65e1bde0015",
   "metadata": {
    "execution": {
     "iopub.execute_input": "2023-04-23T13:41:41.941705Z",
     "iopub.status.busy": "2023-04-23T13:41:41.941537Z",
     "iopub.status.idle": "2023-04-23T13:41:41.943896Z",
     "shell.execute_reply": "2023-04-23T13:41:41.943582Z"
    },
    "papermill": {
     "duration": 0.006064,
     "end_time": "2023-04-23T13:41:41.944698",
     "exception": false,
     "start_time": "2023-04-23T13:41:41.938634",
     "status": "completed"
    },
    "tags": []
   },
   "outputs": [],
   "source": [
    "sample_name = \"ERR7425208\""
   ]
  },
  {
   "cell_type": "code",
   "execution_count": null,
   "id": "f7424d90-7690-4290-8651-1db3f9df3a35",
   "metadata": {
    "execution": {
     "iopub.execute_input": "2023-04-23T13:41:41.949828Z",
     "iopub.status.busy": "2023-04-23T13:41:41.949591Z",
     "iopub.status.idle": "2023-04-23T13:41:41.956691Z",
     "shell.execute_reply": "2023-04-23T13:41:41.956385Z"
    },
    "papermill": {
     "duration": 0.010545,
     "end_time": "2023-04-23T13:41:41.957470",
     "exception": false,
     "start_time": "2023-04-23T13:41:41.946925",
     "status": "completed"
    },
    "tags": []
   },
   "outputs": [],
   "source": [
    "metadata = pd.read_csv(\"../../metadata.csv\", index_col = 0)"
   ]
  },
  {
   "cell_type": "code",
   "execution_count": null,
   "id": "2574ecf1-bad4-4c33-8f3f-718a358727ab",
   "metadata": {
    "execution": {
     "iopub.execute_input": "2023-04-23T13:41:41.962535Z",
     "iopub.status.busy": "2023-04-23T13:41:41.962316Z",
     "iopub.status.idle": "2023-04-23T13:41:41.964295Z",
     "shell.execute_reply": "2023-04-23T13:41:41.963997Z"
    },
    "papermill": {
     "duration": 0.005346,
     "end_time": "2023-04-23T13:41:41.965068",
     "exception": false,
     "start_time": "2023-04-23T13:41:41.959722",
     "status": "completed"
    },
    "tags": []
   },
   "outputs": [],
   "source": [
    "raw_input = f\"/home/hd/hd_hd/hd_fu399/sds-hd/sd21k006/scRNAseq/revision_natcomm/montaldo_et_al/{sample_name}/{sample_name}/outs/raw_feature_bc_matrix.h5\""
   ]
  },
  {
   "cell_type": "code",
   "execution_count": null,
   "id": "e266d388-1802-435c-93a5-90067358739c",
   "metadata": {
    "execution": {
     "iopub.execute_input": "2023-04-23T13:41:41.970310Z",
     "iopub.status.busy": "2023-04-23T13:41:41.970012Z",
     "iopub.status.idle": "2023-04-23T13:41:42.746765Z",
     "shell.execute_reply": "2023-04-23T13:41:42.746325Z"
    },
    "papermill": {
     "duration": 0.780415,
     "end_time": "2023-04-23T13:41:42.747714",
     "exception": false,
     "start_time": "2023-04-23T13:41:41.967299",
     "status": "completed"
    },
    "tags": []
   },
   "outputs": [],
   "source": [
    "dataset = sc.read_10x_h5(raw_input)\n",
    "dataset.var_names_make_unique()\n",
    "dataset.obs_names_make_unique()\n",
    "\n",
    "dataset.layers[\"raw_counts\"] = dataset.X.copy()\n",
    "data_tod = dataset.layers[\"raw_counts\"].T.copy()\n",
    "\n",
    "dataset"
   ]
  },
  {
   "cell_type": "code",
   "execution_count": null,
   "id": "af9f5892-ed31-42a6-991b-4e096f582cef",
   "metadata": {
    "execution": {
     "iopub.execute_input": "2023-04-23T13:41:42.753638Z",
     "iopub.status.busy": "2023-04-23T13:41:42.753485Z",
     "iopub.status.idle": "2023-04-23T13:41:42.841631Z",
     "shell.execute_reply": "2023-04-23T13:41:42.841174Z"
    },
    "papermill": {
     "duration": 0.092432,
     "end_time": "2023-04-23T13:41:42.843003",
     "exception": false,
     "start_time": "2023-04-23T13:41:42.750571",
     "status": "completed"
    },
    "tags": []
   },
   "outputs": [],
   "source": [
    "sce = dataset.copy()"
   ]
  },
  {
   "cell_type": "code",
   "execution_count": null,
   "id": "d03f2caf-8e74-430e-b045-0ab80401d165",
   "metadata": {
    "execution": {
     "iopub.execute_input": "2023-04-23T13:41:42.849079Z",
     "iopub.status.busy": "2023-04-23T13:41:42.848919Z",
     "iopub.status.idle": "2023-04-23T13:43:03.986713Z",
     "shell.execute_reply": "2023-04-23T13:43:03.986113Z"
    },
    "papermill": {
     "duration": 81.142155,
     "end_time": "2023-04-23T13:43:03.988063",
     "exception": false,
     "start_time": "2023-04-23T13:41:42.845908",
     "status": "completed"
    },
    "tags": []
   },
   "outputs": [],
   "source": [
    "%%R -i sce -o empty_drop_output\n",
    "set.seed(187)\n",
    "empty_drop_output <- emptyDrops(assay(sce))"
   ]
  },
  {
   "cell_type": "code",
   "execution_count": null,
   "id": "2a34a54b-3ae2-44d6-8679-8769228c5b66",
   "metadata": {
    "execution": {
     "iopub.execute_input": "2023-04-23T13:43:04.000812Z",
     "iopub.status.busy": "2023-04-23T13:43:04.000638Z",
     "iopub.status.idle": "2023-04-23T13:43:04.095413Z",
     "shell.execute_reply": "2023-04-23T13:43:04.095017Z"
    },
    "papermill": {
     "duration": 0.099211,
     "end_time": "2023-04-23T13:43:04.096355",
     "exception": false,
     "start_time": "2023-04-23T13:43:03.997144",
     "status": "completed"
    },
    "tags": []
   },
   "outputs": [],
   "source": [
    "non_empty_barcodes = empty_drop_output[empty_drop_output[\"FDR\"] < 0.001].index\n",
    "dataset = dataset[dataset.obs.index.isin(non_empty_barcodes), :]\n",
    "dataset"
   ]
  },
  {
   "cell_type": "code",
   "execution_count": null,
   "id": "016a91e5-1bef-46fb-b91e-4fb9a6870c44",
   "metadata": {
    "execution": {
     "iopub.execute_input": "2023-04-23T13:43:04.102272Z",
     "iopub.status.busy": "2023-04-23T13:43:04.102104Z",
     "iopub.status.idle": "2023-04-23T13:43:10.551139Z",
     "shell.execute_reply": "2023-04-23T13:43:10.550629Z"
    },
    "papermill": {
     "duration": 6.45361,
     "end_time": "2023-04-23T13:43:10.552554",
     "exception": false,
     "start_time": "2023-04-23T13:43:04.098944",
     "status": "completed"
    },
    "tags": []
   },
   "outputs": [],
   "source": [
    "rna_assay = dataset.copy()\n",
    "sc.pp.normalize_per_cell(rna_assay)\n",
    "sc.pp.log1p(rna_assay)\n",
    "sc.pp.pca(rna_assay)\n",
    "sc.pp.neighbors(rna_assay)\n",
    "sc.tl.leiden(rna_assay, key_added=\"soupx_groups\")\n",
    "\n",
    "soupx_groups = rna_assay.obs[\"soupx_groups\"]\n",
    "\n",
    "del rna_assay\n",
    "\n",
    "genes = dataset.var_names\n",
    "cells = dataset.obs_names\n",
    "data = dataset.X.T.copy()"
   ]
  },
  {
   "cell_type": "code",
   "execution_count": null,
   "id": "9db4ea1f-1580-4f43-a3f0-86002397cd98",
   "metadata": {
    "execution": {
     "iopub.execute_input": "2023-04-23T13:43:10.561341Z",
     "iopub.status.busy": "2023-04-23T13:43:10.561175Z",
     "iopub.status.idle": "2023-04-23T13:43:24.697199Z",
     "shell.execute_reply": "2023-04-23T13:43:24.696517Z"
    },
    "papermill": {
     "duration": 14.140701,
     "end_time": "2023-04-23T13:43:24.698465",
     "exception": false,
     "start_time": "2023-04-23T13:43:10.557764",
     "status": "completed"
    },
    "tags": []
   },
   "outputs": [],
   "source": [
    "%%R -i data -i data_tod -i genes -i cells -i soupx_groups -o out \n",
    "set.seed(187)\n",
    "# specify row and column names of data\n",
    "rownames(data) = genes\n",
    "colnames(data) = cells\n",
    "# ensure correct sparse format for table of counts and table of droplets\n",
    "data <- as(data, \"sparseMatrix\")\n",
    "data_tod <- as(data_tod, \"sparseMatrix\")\n",
    "\n",
    "# Generate SoupChannel Object for SoupX \n",
    "sc = SoupChannel(data_tod, data, calcSoupProfile = FALSE)\n",
    "\n",
    "# Add extra meta data to the SoupChannel object\n",
    "soupProf = data.frame(row.names = rownames(data),\n",
    "                      est = rowSums(data)/sum(data),\n",
    "                      counts = rowSums(data))\n",
    "sc = setSoupProfile(sc, soupProf)\n",
    "# Set cluster information in SoupChannel\n",
    "sc = setClusters(sc, soupx_groups)\n",
    "\n",
    "# Estimate contamination fraction\n",
    "sc  = autoEstCont(sc, doPlot=FALSE, forceAccept = TRUE)\n",
    "# Infer corrected table of counts and rount to integer\n",
    "out = adjustCounts(sc, roundToInt = TRUE)"
   ]
  },
  {
   "cell_type": "code",
   "execution_count": null,
   "id": "32555d5e-5fa3-46dd-a4e0-ddc96ea265e2",
   "metadata": {
    "execution": {
     "iopub.execute_input": "2023-04-23T13:43:24.707656Z",
     "iopub.status.busy": "2023-04-23T13:43:24.707453Z",
     "iopub.status.idle": "2023-04-23T13:43:24.740701Z",
     "shell.execute_reply": "2023-04-23T13:43:24.740236Z"
    },
    "papermill": {
     "duration": 0.038396,
     "end_time": "2023-04-23T13:43:24.742030",
     "exception": false,
     "start_time": "2023-04-23T13:43:24.703634",
     "status": "completed"
    },
    "tags": []
   },
   "outputs": [],
   "source": [
    "dataset.layers[\"soupX_counts\"] = out.T\n",
    "dataset.X = dataset.layers[\"soupX_counts\"].copy()"
   ]
  },
  {
   "cell_type": "code",
   "execution_count": null,
   "id": "e27da7df-e094-4d2a-9109-5a363e012175",
   "metadata": {
    "execution": {
     "iopub.execute_input": "2023-04-23T13:43:24.748334Z",
     "iopub.status.busy": "2023-04-23T13:43:24.748172Z",
     "iopub.status.idle": "2023-04-23T13:43:24.750625Z",
     "shell.execute_reply": "2023-04-23T13:43:24.750293Z"
    },
    "papermill": {
     "duration": 0.006385,
     "end_time": "2023-04-23T13:43:24.751422",
     "exception": false,
     "start_time": "2023-04-23T13:43:24.745037",
     "status": "completed"
    },
    "tags": []
   },
   "outputs": [],
   "source": [
    "data_mat = dataset.X.T"
   ]
  },
  {
   "cell_type": "code",
   "execution_count": null,
   "id": "80a993b1-5ccb-4697-9187-1beb7ab8aff9",
   "metadata": {
    "execution": {
     "iopub.execute_input": "2023-04-23T13:43:24.757164Z",
     "iopub.status.busy": "2023-04-23T13:43:24.757003Z",
     "iopub.status.idle": "2023-04-23T13:43:43.212964Z",
     "shell.execute_reply": "2023-04-23T13:43:43.212355Z"
    },
    "papermill": {
     "duration": 18.460415,
     "end_time": "2023-04-23T13:43:43.214401",
     "exception": false,
     "start_time": "2023-04-23T13:43:24.753986",
     "status": "completed"
    },
    "tags": []
   },
   "outputs": [],
   "source": [
    "%%R -i data_mat -o droplet_class\n",
    "\n",
    "set.seed(187)\n",
    "sce = scDblFinder(\n",
    "    SingleCellExperiment(\n",
    "        list(counts=data_mat),\n",
    "    ) \n",
    ")\n",
    "droplet_class = sce$scDblFinder.class"
   ]
  },
  {
   "cell_type": "code",
   "execution_count": null,
   "id": "d4dd6e9d-fcf2-41fc-8457-c8e0a3cb2c71",
   "metadata": {
    "execution": {
     "iopub.execute_input": "2023-04-23T13:43:43.247419Z",
     "iopub.status.busy": "2023-04-23T13:43:43.247201Z",
     "iopub.status.idle": "2023-04-23T13:43:43.252506Z",
     "shell.execute_reply": "2023-04-23T13:43:43.252174Z"
    },
    "papermill": {
     "duration": 0.009801,
     "end_time": "2023-04-23T13:43:43.253343",
     "exception": false,
     "start_time": "2023-04-23T13:43:43.243542",
     "status": "completed"
    },
    "tags": []
   },
   "outputs": [],
   "source": [
    "dataset.obs[\"scDblFinder_class\"] = droplet_class\n",
    "dataset.obs.scDblFinder_class.value_counts()\n",
    "dataset"
   ]
  },
  {
   "cell_type": "code",
   "execution_count": null,
   "id": "28c95014-2d6c-477f-95cb-9f9f0507520c",
   "metadata": {
    "execution": {
     "iopub.execute_input": "2023-04-23T13:43:43.259359Z",
     "iopub.status.busy": "2023-04-23T13:43:43.259185Z",
     "iopub.status.idle": "2023-04-23T13:43:43.264639Z",
     "shell.execute_reply": "2023-04-23T13:43:43.264315Z"
    },
    "papermill": {
     "duration": 0.009457,
     "end_time": "2023-04-23T13:43:43.265452",
     "exception": false,
     "start_time": "2023-04-23T13:43:43.255995",
     "status": "completed"
    },
    "tags": []
   },
   "outputs": [],
   "source": [
    "dataset = dataset[dataset.obs[\"scDblFinder_class\"] == 1]"
   ]
  },
  {
   "cell_type": "code",
   "execution_count": null,
   "id": "3e22f9e0-bfcb-416c-a151-a9bca3bec3b9",
   "metadata": {
    "execution": {
     "iopub.execute_input": "2023-04-23T13:43:43.271583Z",
     "iopub.status.busy": "2023-04-23T13:43:43.271368Z",
     "iopub.status.idle": "2023-04-23T13:43:43.446861Z",
     "shell.execute_reply": "2023-04-23T13:43:43.446482Z"
    },
    "papermill": {
     "duration": 0.17968,
     "end_time": "2023-04-23T13:43:43.447835",
     "exception": false,
     "start_time": "2023-04-23T13:43:43.268155",
     "status": "completed"
    },
    "tags": []
   },
   "outputs": [],
   "source": [
    "# mitochondrial genes\n",
    "dataset.var[\"mt\"] = dataset.var_names.str.startswith(\"MT-\")\n",
    "# ribosomal genes\n",
    "dataset.var[\"ribo\"] = dataset.var_names.str.startswith((\"RPS\", \"RPL\"))\n",
    "# hemoglobin genes.\n",
    "dataset.var[\"hb\"] = dataset.var_names.str.contains((\"^HB[^(P)]\"))\n",
    "\n",
    "sc.pp.calculate_qc_metrics(dataset,\n",
    "                           qc_vars=['mt', 'ribo', 'hb'],\n",
    "                           percent_top=None,\n",
    "                           log1p=False,\n",
    "                           inplace=True)\n",
    "dataset"
   ]
  },
  {
   "cell_type": "code",
   "execution_count": null,
   "id": "34deee79-4043-428f-8575-aa57b45f6369",
   "metadata": {
    "execution": {
     "iopub.execute_input": "2023-04-23T13:43:43.454961Z",
     "iopub.status.busy": "2023-04-23T13:43:43.454766Z",
     "iopub.status.idle": "2023-04-23T13:43:44.085458Z",
     "shell.execute_reply": "2023-04-23T13:43:44.085038Z"
    },
    "papermill": {
     "duration": 0.635031,
     "end_time": "2023-04-23T13:43:44.086340",
     "exception": false,
     "start_time": "2023-04-23T13:43:43.451309",
     "status": "completed"
    },
    "tags": []
   },
   "outputs": [],
   "source": [
    "fig, ax = plt.subplots(ncols = 4, figsize = (16,4))\n",
    "axis = sc.pl.violin(dataset, \"n_genes_by_counts\", jitter = 0.4, ax = ax[0], show = False)\n",
    "axis.grid(False)\n",
    "axis.set_title(\"Unique Genes per cell\")\n",
    "axis.tick_params(axis = \"x\", bottom =False, labelbottom =False)\n",
    "axis.set_ylabel(\"# genes\")\n",
    "axis.axhline(y = 250, color = \"black\", label = \"cutoff\")\n",
    "axis.legend(fontsize = 14, loc = \"upper right\")\n",
    "\n",
    "axis = sc.pl.violin(dataset, \"pct_counts_mt\", jitter = 0.4, ax = ax[1], show = False)\n",
    "axis.grid(False)\n",
    "axis.set_title(\"Mitochondrial Fraction\")\n",
    "axis.tick_params(axis = \"x\", bottom =False, labelbottom =False)\n",
    "axis.set_ylabel(\"% mitochondrial genes\")\n",
    "axis.axhline(y = 10, color = \"black\", label = \"cutoff\")\n",
    "axis.legend(fontsize = 14, loc = \"upper right\")\n",
    "\n",
    "axis = sc.pl.violin(dataset, \"pct_counts_hb\", jitter = 0.4, ax = ax[2], show = False, size =2)\n",
    "axis.grid(False)\n",
    "axis.set_title(\"Hemoglobin Fraction\")\n",
    "axis.tick_params(axis = \"x\", bottom =False, labelbottom =False)\n",
    "axis.set_ylabel(\"% hemoglobin genes\")\n",
    "axis.axhline(y = 1, color = \"black\", label = \"cutoff\")\n",
    "axis.legend(fontsize = 14, loc = \"upper right\")\n",
    "#axis.set_ylim(0,5)\n",
    "\n",
    "axis = sc.pl.violin(dataset, \"pct_counts_ribo\", jitter = 0.4, ax = ax[3], show = False)\n",
    "axis.grid(False)\n",
    "axis.set_title(\"Ribosomal Fraction\")\n",
    "axis.tick_params(axis = \"x\", bottom =False, labelbottom =False)\n",
    "axis.set_ylabel(\"% ribosome genes\")\n",
    "\n",
    "plt.tight_layout()\n",
    "#plt.savefig(f\"{outputDir}08_gene_based_filtering.pdf\", dpi = 300)\n",
    "plt.show()\n",
    "\n"
   ]
  },
  {
   "cell_type": "code",
   "execution_count": null,
   "id": "d7ade754-843e-4840-8707-426613d8c0c5",
   "metadata": {
    "execution": {
     "iopub.execute_input": "2023-04-23T13:43:44.095281Z",
     "iopub.status.busy": "2023-04-23T13:43:44.095096Z",
     "iopub.status.idle": "2023-04-23T13:43:44.104536Z",
     "shell.execute_reply": "2023-04-23T13:43:44.104210Z"
    },
    "papermill": {
     "duration": 0.014678,
     "end_time": "2023-04-23T13:43:44.105324",
     "exception": false,
     "start_time": "2023-04-23T13:43:44.090646",
     "status": "completed"
    },
    "tags": []
   },
   "outputs": [],
   "source": [
    "dataset = dataset[dataset.obs.pct_counts_mt < 10, :]\n",
    "dataset = dataset[dataset.obs.n_genes_by_counts > 250, :]\n",
    "dataset = dataset[dataset.obs.pct_counts_hb < 1, :]\n",
    "dataset"
   ]
  },
  {
   "cell_type": "code",
   "execution_count": null,
   "id": "2e0ff8c3-2aa9-4a01-9b88-5912a6734447",
   "metadata": {
    "execution": {
     "iopub.execute_input": "2023-04-23T13:43:44.113884Z",
     "iopub.status.busy": "2023-04-23T13:43:44.113699Z",
     "iopub.status.idle": "2023-04-23T13:43:44.181773Z",
     "shell.execute_reply": "2023-04-23T13:43:44.181373Z"
    },
    "papermill": {
     "duration": 0.073733,
     "end_time": "2023-04-23T13:43:44.182996",
     "exception": false,
     "start_time": "2023-04-23T13:43:44.109263",
     "status": "completed"
    },
    "tags": []
   },
   "outputs": [],
   "source": [
    "for col in metadata.columns:\n",
    "    dataset.obs[col] = metadata.loc[(metadata[\"ENA_RUN\"] == sample_name) & (metadata[\"read_index\"] == \"read1\"), col].to_list()[0]"
   ]
  },
  {
   "cell_type": "code",
   "execution_count": null,
   "id": "b84578d3-d63e-419c-a272-a0b8317d05ab",
   "metadata": {
    "execution": {
     "iopub.execute_input": "2023-04-23T13:43:44.192357Z",
     "iopub.status.busy": "2023-04-23T13:43:44.192172Z",
     "iopub.status.idle": "2023-04-23T13:43:44.434996Z",
     "shell.execute_reply": "2023-04-23T13:43:44.434466Z"
    },
    "papermill": {
     "duration": 0.248814,
     "end_time": "2023-04-23T13:43:44.436358",
     "exception": false,
     "start_time": "2023-04-23T13:43:44.187544",
     "status": "completed"
    },
    "tags": []
   },
   "outputs": [],
   "source": [
    "dataset.write(f\"../../int_data/{sample_name}_qc.h5ad\")"
   ]
  }
 ],
 "metadata": {
  "kernelspec": {
   "display_name": "py_R",
   "language": "python",
   "name": "python_r"
  },
  "language_info": {
   "codemirror_mode": {
    "name": "ipython",
    "version": 3
   },
   "file_extension": ".py",
   "mimetype": "text/x-python",
   "name": "python",
   "nbconvert_exporter": "python",
   "pygments_lexer": "ipython3",
   "version": "3.10.9"
  },
  "papermill": {
   "default_parameters": {},
   "duration": 138.336536,
   "end_time": "2023-04-23T13:43:45.961288",
   "environment_variables": {},
   "exception": null,
   "input_path": "ERR7425208.ipynb",
   "output_path": "ERR7425208.ipynb",
   "parameters": {},
   "start_time": "2023-04-23T13:41:27.624752",
   "version": "2.4.0"
  }
 },
 "nbformat": 4,
 "nbformat_minor": 5
}
