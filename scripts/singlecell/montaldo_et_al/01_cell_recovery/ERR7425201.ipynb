{
 "cells": [
  {
   "cell_type": "code",
   "execution_count": null,
   "id": "f87ed95b-2b67-4a5a-8fe2-47359b1dd2a9",
   "metadata": {
    "execution": {
     "iopub.execute_input": "2023-04-23T13:18:28.325743Z",
     "iopub.status.busy": "2023-04-23T13:18:28.325587Z",
     "iopub.status.idle": "2023-04-23T13:18:28.330359Z",
     "shell.execute_reply": "2023-04-23T13:18:28.330057Z"
    },
    "papermill": {
     "duration": 0.008879,
     "end_time": "2023-04-23T13:18:28.331257",
     "exception": false,
     "start_time": "2023-04-23T13:18:28.322378",
     "status": "completed"
    },
    "tags": []
   },
   "outputs": [],
   "source": [
    "import warnings\n",
    "warnings.simplefilter(action='ignore', category=FutureWarning)\n",
    "warnings.simplefilter(action='ignore', category=UserWarning)"
   ]
  },
  {
   "cell_type": "code",
   "execution_count": null,
   "id": "85161f19-b2c5-490b-8cab-c2cf9653b304",
   "metadata": {
    "execution": {
     "iopub.execute_input": "2023-04-23T13:18:28.336388Z",
     "iopub.status.busy": "2023-04-23T13:18:28.336168Z",
     "iopub.status.idle": "2023-04-23T13:18:32.320104Z",
     "shell.execute_reply": "2023-04-23T13:18:32.319634Z"
    },
    "papermill": {
     "duration": 3.987813,
     "end_time": "2023-04-23T13:18:32.321459",
     "exception": false,
     "start_time": "2023-04-23T13:18:28.333646",
     "status": "completed"
    },
    "tags": []
   },
   "outputs": [],
   "source": [
    "import gc\n",
    "import scanpy as sc\n",
    "import muon as mu\n",
    "import seaborn as sns\n",
    "import os\n",
    "import pandas as pd\n",
    "from matplotlib import pyplot as plt\n",
    "\n",
    "os.environ['R_HOME'] = '/gpfs/bwfor/work/ws/hd_fu399-conda/conda/envs/python_R/lib/R/'\n",
    "import anndata2ri\n",
    "import logging\n",
    "\n",
    "import rpy2.rinterface_lib.callbacks as rcb\n",
    "import rpy2.robjects as ro\n",
    "\n",
    "rcb.logger.setLevel(logging.ERROR)\n",
    "ro.pandas2ri.activate()\n",
    "anndata2ri.activate()\n",
    "\n",
    "%load_ext rpy2.ipython"
   ]
  },
  {
   "cell_type": "code",
   "execution_count": null,
   "id": "fc4ade78-b728-4704-9db6-45fbaab62ba1",
   "metadata": {
    "execution": {
     "iopub.execute_input": "2023-04-23T13:18:32.330124Z",
     "iopub.status.busy": "2023-04-23T13:18:32.329811Z",
     "iopub.status.idle": "2023-04-23T13:18:41.667410Z",
     "shell.execute_reply": "2023-04-23T13:18:41.666885Z"
    },
    "papermill": {
     "duration": 9.341749,
     "end_time": "2023-04-23T13:18:41.668704",
     "exception": false,
     "start_time": "2023-04-23T13:18:32.326955",
     "status": "completed"
    },
    "tags": []
   },
   "outputs": [],
   "source": [
    "%%R\n",
    "library(SoupX)\n",
    "library(Seurat)\n",
    "library(scater)\n",
    "library(scDblFinder)\n",
    "library(BiocParallel)\n",
    "library(MuDataSeurat)\n",
    "library(DropletUtils)"
   ]
  },
  {
   "cell_type": "code",
   "execution_count": null,
   "id": "611e4882-fc48-43d1-b1cd-e65e1bde0015",
   "metadata": {
    "execution": {
     "iopub.execute_input": "2023-04-23T13:18:41.676285Z",
     "iopub.status.busy": "2023-04-23T13:18:41.676137Z",
     "iopub.status.idle": "2023-04-23T13:18:41.678620Z",
     "shell.execute_reply": "2023-04-23T13:18:41.678306Z"
    },
    "papermill": {
     "duration": 0.006195,
     "end_time": "2023-04-23T13:18:41.679403",
     "exception": false,
     "start_time": "2023-04-23T13:18:41.673208",
     "status": "completed"
    },
    "tags": []
   },
   "outputs": [],
   "source": [
    "sample_name = \"ERR7425201\""
   ]
  },
  {
   "cell_type": "code",
   "execution_count": null,
   "id": "f7424d90-7690-4290-8651-1db3f9df3a35",
   "metadata": {
    "execution": {
     "iopub.execute_input": "2023-04-23T13:18:41.684281Z",
     "iopub.status.busy": "2023-04-23T13:18:41.684156Z",
     "iopub.status.idle": "2023-04-23T13:18:41.691273Z",
     "shell.execute_reply": "2023-04-23T13:18:41.690929Z"
    },
    "papermill": {
     "duration": 0.010459,
     "end_time": "2023-04-23T13:18:41.692070",
     "exception": false,
     "start_time": "2023-04-23T13:18:41.681611",
     "status": "completed"
    },
    "tags": []
   },
   "outputs": [],
   "source": [
    "metadata = pd.read_csv(\"../../metadata.csv\", index_col = 0)"
   ]
  },
  {
   "cell_type": "code",
   "execution_count": null,
   "id": "2574ecf1-bad4-4c33-8f3f-718a358727ab",
   "metadata": {
    "execution": {
     "iopub.execute_input": "2023-04-23T13:18:41.696994Z",
     "iopub.status.busy": "2023-04-23T13:18:41.696861Z",
     "iopub.status.idle": "2023-04-23T13:18:41.698844Z",
     "shell.execute_reply": "2023-04-23T13:18:41.698543Z"
    },
    "papermill": {
     "duration": 0.005303,
     "end_time": "2023-04-23T13:18:41.699586",
     "exception": false,
     "start_time": "2023-04-23T13:18:41.694283",
     "status": "completed"
    },
    "tags": []
   },
   "outputs": [],
   "source": [
    "raw_input = f\"/home/hd/hd_hd/hd_fu399/sds-hd/sd21k006/scRNAseq/revision_natcomm/montaldo_et_al/{sample_name}/{sample_name}/outs/raw_feature_bc_matrix.h5\""
   ]
  },
  {
   "cell_type": "code",
   "execution_count": null,
   "id": "e266d388-1802-435c-93a5-90067358739c",
   "metadata": {
    "execution": {
     "iopub.execute_input": "2023-04-23T13:18:41.704741Z",
     "iopub.status.busy": "2023-04-23T13:18:41.704489Z",
     "iopub.status.idle": "2023-04-23T13:18:42.621741Z",
     "shell.execute_reply": "2023-04-23T13:18:42.621302Z"
    },
    "papermill": {
     "duration": 0.920883,
     "end_time": "2023-04-23T13:18:42.622700",
     "exception": false,
     "start_time": "2023-04-23T13:18:41.701817",
     "status": "completed"
    },
    "tags": []
   },
   "outputs": [],
   "source": [
    "dataset = sc.read_10x_h5(raw_input)\n",
    "dataset.var_names_make_unique()\n",
    "dataset.obs_names_make_unique()\n",
    "\n",
    "dataset.layers[\"raw_counts\"] = dataset.X.copy()\n",
    "data_tod = dataset.layers[\"raw_counts\"].T.copy()\n",
    "\n",
    "dataset"
   ]
  },
  {
   "cell_type": "code",
   "execution_count": null,
   "id": "af9f5892-ed31-42a6-991b-4e096f582cef",
   "metadata": {
    "execution": {
     "iopub.execute_input": "2023-04-23T13:18:42.628958Z",
     "iopub.status.busy": "2023-04-23T13:18:42.628770Z",
     "iopub.status.idle": "2023-04-23T13:18:42.719147Z",
     "shell.execute_reply": "2023-04-23T13:18:42.718669Z"
    },
    "papermill": {
     "duration": 0.094898,
     "end_time": "2023-04-23T13:18:42.720569",
     "exception": false,
     "start_time": "2023-04-23T13:18:42.625671",
     "status": "completed"
    },
    "tags": []
   },
   "outputs": [],
   "source": [
    "sce = dataset.copy()"
   ]
  },
  {
   "cell_type": "code",
   "execution_count": null,
   "id": "d03f2caf-8e74-430e-b045-0ab80401d165",
   "metadata": {
    "execution": {
     "iopub.execute_input": "2023-04-23T13:18:42.726658Z",
     "iopub.status.busy": "2023-04-23T13:18:42.726501Z",
     "iopub.status.idle": "2023-04-23T13:20:07.959104Z",
     "shell.execute_reply": "2023-04-23T13:20:07.958483Z"
    },
    "papermill": {
     "duration": 85.236986,
     "end_time": "2023-04-23T13:20:07.960469",
     "exception": false,
     "start_time": "2023-04-23T13:18:42.723483",
     "status": "completed"
    },
    "tags": []
   },
   "outputs": [],
   "source": [
    "%%R -i sce -o empty_drop_output\n",
    "set.seed(187)\n",
    "empty_drop_output <- emptyDrops(assay(sce))"
   ]
  },
  {
   "cell_type": "code",
   "execution_count": null,
   "id": "2a34a54b-3ae2-44d6-8679-8769228c5b66",
   "metadata": {
    "execution": {
     "iopub.execute_input": "2023-04-23T13:20:07.968645Z",
     "iopub.status.busy": "2023-04-23T13:20:07.968475Z",
     "iopub.status.idle": "2023-04-23T13:20:08.026869Z",
     "shell.execute_reply": "2023-04-23T13:20:08.026526Z"
    },
    "papermill": {
     "duration": 0.062697,
     "end_time": "2023-04-23T13:20:08.027772",
     "exception": false,
     "start_time": "2023-04-23T13:20:07.965075",
     "status": "completed"
    },
    "tags": []
   },
   "outputs": [],
   "source": [
    "non_empty_barcodes = empty_drop_output[empty_drop_output[\"FDR\"] < 0.001].index\n",
    "dataset = dataset[dataset.obs.index.isin(non_empty_barcodes), :]\n",
    "dataset"
   ]
  },
  {
   "cell_type": "code",
   "execution_count": null,
   "id": "016a91e5-1bef-46fb-b91e-4fb9a6870c44",
   "metadata": {
    "execution": {
     "iopub.execute_input": "2023-04-23T13:20:08.033566Z",
     "iopub.status.busy": "2023-04-23T13:20:08.033424Z",
     "iopub.status.idle": "2023-04-23T13:21:37.577378Z",
     "shell.execute_reply": "2023-04-23T13:21:37.576886Z"
    },
    "papermill": {
     "duration": 89.548389,
     "end_time": "2023-04-23T13:21:37.578775",
     "exception": false,
     "start_time": "2023-04-23T13:20:08.030386",
     "status": "completed"
    },
    "tags": []
   },
   "outputs": [],
   "source": [
    "rna_assay = dataset.copy()\n",
    "sc.pp.normalize_per_cell(rna_assay)\n",
    "sc.pp.log1p(rna_assay)\n",
    "sc.pp.pca(rna_assay)\n",
    "sc.pp.neighbors(rna_assay)\n",
    "sc.tl.leiden(rna_assay, key_added=\"soupx_groups\")\n",
    "\n",
    "soupx_groups = rna_assay.obs[\"soupx_groups\"]\n",
    "\n",
    "del rna_assay\n",
    "\n",
    "genes = dataset.var_names\n",
    "cells = dataset.obs_names\n",
    "data = dataset.X.T.copy()"
   ]
  },
  {
   "cell_type": "code",
   "execution_count": null,
   "id": "9db4ea1f-1580-4f43-a3f0-86002397cd98",
   "metadata": {
    "execution": {
     "iopub.execute_input": "2023-04-23T13:21:37.588691Z",
     "iopub.status.busy": "2023-04-23T13:21:37.588450Z",
     "iopub.status.idle": "2023-04-23T13:22:02.269141Z",
     "shell.execute_reply": "2023-04-23T13:22:02.268653Z"
    },
    "papermill": {
     "duration": 24.685452,
     "end_time": "2023-04-23T13:22:02.270495",
     "exception": false,
     "start_time": "2023-04-23T13:21:37.585043",
     "status": "completed"
    },
    "tags": []
   },
   "outputs": [],
   "source": [
    "%%R -i data -i data_tod -i genes -i cells -i soupx_groups -o out \n",
    "set.seed(187)\n",
    "# specify row and column names of data\n",
    "rownames(data) = genes\n",
    "colnames(data) = cells\n",
    "# ensure correct sparse format for table of counts and table of droplets\n",
    "data <- as(data, \"sparseMatrix\")\n",
    "data_tod <- as(data_tod, \"sparseMatrix\")\n",
    "\n",
    "# Generate SoupChannel Object for SoupX \n",
    "sc = SoupChannel(data_tod, data, calcSoupProfile = FALSE)\n",
    "\n",
    "# Add extra meta data to the SoupChannel object\n",
    "soupProf = data.frame(row.names = rownames(data),\n",
    "                      est = rowSums(data)/sum(data),\n",
    "                      counts = rowSums(data))\n",
    "sc = setSoupProfile(sc, soupProf)\n",
    "# Set cluster information in SoupChannel\n",
    "sc = setClusters(sc, soupx_groups)\n",
    "\n",
    "# Estimate contamination fraction\n",
    "sc  = autoEstCont(sc, doPlot=FALSE, forceAccept = TRUE)\n",
    "# Infer corrected table of counts and rount to integer\n",
    "out = adjustCounts(sc, roundToInt = TRUE)"
   ]
  },
  {
   "cell_type": "code",
   "execution_count": null,
   "id": "32555d5e-5fa3-46dd-a4e0-ddc96ea265e2",
   "metadata": {
    "execution": {
     "iopub.execute_input": "2023-04-23T13:22:02.279783Z",
     "iopub.status.busy": "2023-04-23T13:22:02.279627Z",
     "iopub.status.idle": "2023-04-23T13:22:02.343691Z",
     "shell.execute_reply": "2023-04-23T13:22:02.343225Z"
    },
    "papermill": {
     "duration": 0.068439,
     "end_time": "2023-04-23T13:22:02.344878",
     "exception": false,
     "start_time": "2023-04-23T13:22:02.276439",
     "status": "completed"
    },
    "tags": []
   },
   "outputs": [],
   "source": [
    "dataset.layers[\"soupX_counts\"] = out.T\n",
    "dataset.X = dataset.layers[\"soupX_counts\"].copy()"
   ]
  },
  {
   "cell_type": "code",
   "execution_count": null,
   "id": "e27da7df-e094-4d2a-9109-5a363e012175",
   "metadata": {
    "execution": {
     "iopub.execute_input": "2023-04-23T13:22:02.351085Z",
     "iopub.status.busy": "2023-04-23T13:22:02.350922Z",
     "iopub.status.idle": "2023-04-23T13:22:02.353265Z",
     "shell.execute_reply": "2023-04-23T13:22:02.352929Z"
    },
    "papermill": {
     "duration": 0.006286,
     "end_time": "2023-04-23T13:22:02.354064",
     "exception": false,
     "start_time": "2023-04-23T13:22:02.347778",
     "status": "completed"
    },
    "tags": []
   },
   "outputs": [],
   "source": [
    "data_mat = dataset.X.T"
   ]
  },
  {
   "cell_type": "code",
   "execution_count": null,
   "id": "80a993b1-5ccb-4697-9187-1beb7ab8aff9",
   "metadata": {
    "execution": {
     "iopub.execute_input": "2023-04-23T13:22:02.359930Z",
     "iopub.status.busy": "2023-04-23T13:22:02.359725Z",
     "iopub.status.idle": "2023-04-23T13:22:50.357071Z",
     "shell.execute_reply": "2023-04-23T13:22:50.356592Z"
    },
    "papermill": {
     "duration": 48.001723,
     "end_time": "2023-04-23T13:22:50.358400",
     "exception": false,
     "start_time": "2023-04-23T13:22:02.356677",
     "status": "completed"
    },
    "tags": []
   },
   "outputs": [],
   "source": [
    "%%R -i data_mat -o droplet_class\n",
    "\n",
    "set.seed(187)\n",
    "sce = scDblFinder(\n",
    "    SingleCellExperiment(\n",
    "        list(counts=data_mat),\n",
    "    ) \n",
    ")\n",
    "droplet_class = sce$scDblFinder.class"
   ]
  },
  {
   "cell_type": "code",
   "execution_count": null,
   "id": "d4dd6e9d-fcf2-41fc-8457-c8e0a3cb2c71",
   "metadata": {
    "execution": {
     "iopub.execute_input": "2023-04-23T13:22:50.368086Z",
     "iopub.status.busy": "2023-04-23T13:22:50.367919Z",
     "iopub.status.idle": "2023-04-23T13:22:50.372773Z",
     "shell.execute_reply": "2023-04-23T13:22:50.372428Z"
    },
    "papermill": {
     "duration": 0.009025,
     "end_time": "2023-04-23T13:22:50.373579",
     "exception": false,
     "start_time": "2023-04-23T13:22:50.364554",
     "status": "completed"
    },
    "tags": []
   },
   "outputs": [],
   "source": [
    "dataset.obs[\"scDblFinder_class\"] = droplet_class\n",
    "dataset.obs.scDblFinder_class.value_counts()\n",
    "dataset"
   ]
  },
  {
   "cell_type": "code",
   "execution_count": null,
   "id": "28c95014-2d6c-477f-95cb-9f9f0507520c",
   "metadata": {
    "execution": {
     "iopub.execute_input": "2023-04-23T13:22:50.379710Z",
     "iopub.status.busy": "2023-04-23T13:22:50.379570Z",
     "iopub.status.idle": "2023-04-23T13:22:50.386752Z",
     "shell.execute_reply": "2023-04-23T13:22:50.386428Z"
    },
    "papermill": {
     "duration": 0.011184,
     "end_time": "2023-04-23T13:22:50.387537",
     "exception": false,
     "start_time": "2023-04-23T13:22:50.376353",
     "status": "completed"
    },
    "tags": []
   },
   "outputs": [],
   "source": [
    "dataset = dataset[dataset.obs[\"scDblFinder_class\"] == 1]"
   ]
  },
  {
   "cell_type": "code",
   "execution_count": null,
   "id": "3e22f9e0-bfcb-416c-a151-a9bca3bec3b9",
   "metadata": {
    "execution": {
     "iopub.execute_input": "2023-04-23T13:22:50.393546Z",
     "iopub.status.busy": "2023-04-23T13:22:50.393412Z",
     "iopub.status.idle": "2023-04-23T13:22:50.693839Z",
     "shell.execute_reply": "2023-04-23T13:22:50.693393Z"
    },
    "papermill": {
     "duration": 0.304583,
     "end_time": "2023-04-23T13:22:50.694800",
     "exception": false,
     "start_time": "2023-04-23T13:22:50.390217",
     "status": "completed"
    },
    "tags": []
   },
   "outputs": [],
   "source": [
    "# mitochondrial genes\n",
    "dataset.var[\"mt\"] = dataset.var_names.str.startswith(\"MT-\")\n",
    "# ribosomal genes\n",
    "dataset.var[\"ribo\"] = dataset.var_names.str.startswith((\"RPS\", \"RPL\"))\n",
    "# hemoglobin genes.\n",
    "dataset.var[\"hb\"] = dataset.var_names.str.contains((\"^HB[^(P)]\"))\n",
    "\n",
    "sc.pp.calculate_qc_metrics(dataset,\n",
    "                           qc_vars=['mt', 'ribo', 'hb'],\n",
    "                           percent_top=None,\n",
    "                           log1p=False,\n",
    "                           inplace=True)\n",
    "dataset"
   ]
  },
  {
   "cell_type": "code",
   "execution_count": null,
   "id": "34deee79-4043-428f-8575-aa57b45f6369",
   "metadata": {
    "execution": {
     "iopub.execute_input": "2023-04-23T13:22:50.701793Z",
     "iopub.status.busy": "2023-04-23T13:22:50.701635Z",
     "iopub.status.idle": "2023-04-23T13:22:51.367497Z",
     "shell.execute_reply": "2023-04-23T13:22:51.367116Z"
    },
    "papermill": {
     "duration": 0.670181,
     "end_time": "2023-04-23T13:22:51.368373",
     "exception": false,
     "start_time": "2023-04-23T13:22:50.698192",
     "status": "completed"
    },
    "tags": []
   },
   "outputs": [],
   "source": [
    "fig, ax = plt.subplots(ncols = 4, figsize = (16,4))\n",
    "axis = sc.pl.violin(dataset, \"n_genes_by_counts\", jitter = 0.4, ax = ax[0], show = False)\n",
    "axis.grid(False)\n",
    "axis.set_title(\"Unique Genes per cell\")\n",
    "axis.tick_params(axis = \"x\", bottom =False, labelbottom =False)\n",
    "axis.set_ylabel(\"# genes\")\n",
    "axis.axhline(y = 250, color = \"black\", label = \"cutoff\")\n",
    "axis.legend(fontsize = 14, loc = \"upper right\")\n",
    "\n",
    "axis = sc.pl.violin(dataset, \"pct_counts_mt\", jitter = 0.4, ax = ax[1], show = False)\n",
    "axis.grid(False)\n",
    "axis.set_title(\"Mitochondrial Fraction\")\n",
    "axis.tick_params(axis = \"x\", bottom =False, labelbottom =False)\n",
    "axis.set_ylabel(\"% mitochondrial genes\")\n",
    "axis.axhline(y = 10, color = \"black\", label = \"cutoff\")\n",
    "axis.legend(fontsize = 14, loc = \"upper right\")\n",
    "\n",
    "axis = sc.pl.violin(dataset, \"pct_counts_hb\", jitter = 0.4, ax = ax[2], show = False, size =2)\n",
    "axis.grid(False)\n",
    "axis.set_title(\"Hemoglobin Fraction\")\n",
    "axis.tick_params(axis = \"x\", bottom =False, labelbottom =False)\n",
    "axis.set_ylabel(\"% hemoglobin genes\")\n",
    "axis.axhline(y = 1, color = \"black\", label = \"cutoff\")\n",
    "axis.legend(fontsize = 14, loc = \"upper right\")\n",
    "#axis.set_ylim(0,5)\n",
    "\n",
    "axis = sc.pl.violin(dataset, \"pct_counts_ribo\", jitter = 0.4, ax = ax[3], show = False)\n",
    "axis.grid(False)\n",
    "axis.set_title(\"Ribosomal Fraction\")\n",
    "axis.tick_params(axis = \"x\", bottom =False, labelbottom =False)\n",
    "axis.set_ylabel(\"% ribosome genes\")\n",
    "\n",
    "plt.tight_layout()\n",
    "#plt.savefig(f\"{outputDir}08_gene_based_filtering.pdf\", dpi = 300)\n",
    "plt.show()\n",
    "\n"
   ]
  },
  {
   "cell_type": "code",
   "execution_count": null,
   "id": "d7ade754-843e-4840-8707-426613d8c0c5",
   "metadata": {
    "execution": {
     "iopub.execute_input": "2023-04-23T13:22:51.377009Z",
     "iopub.status.busy": "2023-04-23T13:22:51.376784Z",
     "iopub.status.idle": "2023-04-23T13:22:51.389850Z",
     "shell.execute_reply": "2023-04-23T13:22:51.389517Z"
    },
    "papermill": {
     "duration": 0.018148,
     "end_time": "2023-04-23T13:22:51.390624",
     "exception": false,
     "start_time": "2023-04-23T13:22:51.372476",
     "status": "completed"
    },
    "tags": []
   },
   "outputs": [],
   "source": [
    "dataset = dataset[dataset.obs.pct_counts_mt < 10, :]\n",
    "dataset = dataset[dataset.obs.n_genes_by_counts > 250, :]\n",
    "dataset = dataset[dataset.obs.pct_counts_hb < 1, :]\n",
    "dataset"
   ]
  },
  {
   "cell_type": "code",
   "execution_count": null,
   "id": "2e0ff8c3-2aa9-4a01-9b88-5912a6734447",
   "metadata": {
    "execution": {
     "iopub.execute_input": "2023-04-23T13:22:51.412130Z",
     "iopub.status.busy": "2023-04-23T13:22:51.411866Z",
     "iopub.status.idle": "2023-04-23T13:22:51.510982Z",
     "shell.execute_reply": "2023-04-23T13:22:51.510509Z"
    },
    "papermill": {
     "duration": 0.104549,
     "end_time": "2023-04-23T13:22:51.512297",
     "exception": false,
     "start_time": "2023-04-23T13:22:51.407748",
     "status": "completed"
    },
    "tags": []
   },
   "outputs": [],
   "source": [
    "for col in metadata.columns:\n",
    "    dataset.obs[col] = metadata.loc[(metadata[\"ENA_RUN\"] == sample_name) & (metadata[\"read_index\"] == \"read1\"), col].to_list()[0]"
   ]
  },
  {
   "cell_type": "code",
   "execution_count": null,
   "id": "b84578d3-d63e-419c-a272-a0b8317d05ab",
   "metadata": {
    "execution": {
     "iopub.execute_input": "2023-04-23T13:22:51.521391Z",
     "iopub.status.busy": "2023-04-23T13:22:51.521203Z",
     "iopub.status.idle": "2023-04-23T13:22:51.828322Z",
     "shell.execute_reply": "2023-04-23T13:22:51.827845Z"
    },
    "papermill": {
     "duration": 0.312955,
     "end_time": "2023-04-23T13:22:51.829611",
     "exception": false,
     "start_time": "2023-04-23T13:22:51.516656",
     "status": "completed"
    },
    "tags": []
   },
   "outputs": [],
   "source": [
    "dataset.write(f\"../../int_data/{sample_name}_qc.h5ad\")"
   ]
  }
 ],
 "metadata": {
  "kernelspec": {
   "display_name": "py_R",
   "language": "python",
   "name": "python_r"
  },
  "language_info": {
   "codemirror_mode": {
    "name": "ipython",
    "version": 3
   },
   "file_extension": ".py",
   "mimetype": "text/x-python",
   "name": "python",
   "nbconvert_exporter": "python",
   "pygments_lexer": "ipython3",
   "version": "3.10.9"
  },
  "papermill": {
   "default_parameters": {},
   "duration": 266.047527,
   "end_time": "2023-04-23T13:22:53.652873",
   "environment_variables": {},
   "exception": null,
   "input_path": "ERR7425201.ipynb",
   "output_path": "ERR7425201.ipynb",
   "parameters": {},
   "start_time": "2023-04-23T13:18:27.605346",
   "version": "2.4.0"
  }
 },
 "nbformat": 4,
 "nbformat_minor": 5
}
