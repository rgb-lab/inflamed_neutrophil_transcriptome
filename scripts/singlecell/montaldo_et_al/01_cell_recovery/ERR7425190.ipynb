{
 "cells": [
  {
   "cell_type": "code",
   "execution_count": null,
   "id": "f87ed95b-2b67-4a5a-8fe2-47359b1dd2a9",
   "metadata": {
    "execution": {
     "iopub.execute_input": "2023-04-23T12:33:01.019070Z",
     "iopub.status.busy": "2023-04-23T12:33:01.018811Z",
     "iopub.status.idle": "2023-04-23T12:33:01.029223Z",
     "shell.execute_reply": "2023-04-23T12:33:01.028924Z"
    },
    "papermill": {
     "duration": 0.014317,
     "end_time": "2023-04-23T12:33:01.030080",
     "exception": false,
     "start_time": "2023-04-23T12:33:01.015763",
     "status": "completed"
    },
    "tags": []
   },
   "outputs": [],
   "source": [
    "import warnings\n",
    "warnings.simplefilter(action='ignore', category=FutureWarning)\n",
    "warnings.simplefilter(action='ignore', category=UserWarning)"
   ]
  },
  {
   "cell_type": "code",
   "execution_count": null,
   "id": "85161f19-b2c5-490b-8cab-c2cf9653b304",
   "metadata": {
    "execution": {
     "iopub.execute_input": "2023-04-23T12:33:01.034903Z",
     "iopub.status.busy": "2023-04-23T12:33:01.034761Z",
     "iopub.status.idle": "2023-04-23T12:33:04.962402Z",
     "shell.execute_reply": "2023-04-23T12:33:04.961948Z"
    },
    "papermill": {
     "duration": 3.9313,
     "end_time": "2023-04-23T12:33:04.963655",
     "exception": false,
     "start_time": "2023-04-23T12:33:01.032355",
     "status": "completed"
    },
    "tags": []
   },
   "outputs": [],
   "source": [
    "import gc\n",
    "import scanpy as sc\n",
    "import muon as mu\n",
    "import seaborn as sns\n",
    "import os\n",
    "import pandas as pd\n",
    "from matplotlib import pyplot as plt\n",
    "\n",
    "os.environ['R_HOME'] = '/gpfs/bwfor/work/ws/hd_fu399-conda/conda/envs/python_R/lib/R/'\n",
    "import anndata2ri\n",
    "import logging\n",
    "\n",
    "import rpy2.rinterface_lib.callbacks as rcb\n",
    "import rpy2.robjects as ro\n",
    "\n",
    "rcb.logger.setLevel(logging.ERROR)\n",
    "ro.pandas2ri.activate()\n",
    "anndata2ri.activate()\n",
    "\n",
    "%load_ext rpy2.ipython"
   ]
  },
  {
   "cell_type": "code",
   "execution_count": null,
   "id": "fc4ade78-b728-4704-9db6-45fbaab62ba1",
   "metadata": {
    "execution": {
     "iopub.execute_input": "2023-04-23T12:33:04.972428Z",
     "iopub.status.busy": "2023-04-23T12:33:04.972147Z",
     "iopub.status.idle": "2023-04-23T12:33:14.299832Z",
     "shell.execute_reply": "2023-04-23T12:33:14.299303Z"
    },
    "papermill": {
     "duration": 9.331993,
     "end_time": "2023-04-23T12:33:14.301225",
     "exception": false,
     "start_time": "2023-04-23T12:33:04.969232",
     "status": "completed"
    },
    "tags": []
   },
   "outputs": [],
   "source": [
    "%%R\n",
    "library(SoupX)\n",
    "library(Seurat)\n",
    "library(scater)\n",
    "library(scDblFinder)\n",
    "library(BiocParallel)\n",
    "library(MuDataSeurat)\n",
    "library(DropletUtils)"
   ]
  },
  {
   "cell_type": "code",
   "execution_count": null,
   "id": "611e4882-fc48-43d1-b1cd-e65e1bde0015",
   "metadata": {
    "execution": {
     "iopub.execute_input": "2023-04-23T12:33:14.308941Z",
     "iopub.status.busy": "2023-04-23T12:33:14.308786Z",
     "iopub.status.idle": "2023-04-23T12:33:14.311195Z",
     "shell.execute_reply": "2023-04-23T12:33:14.310889Z"
    },
    "papermill": {
     "duration": 0.006212,
     "end_time": "2023-04-23T12:33:14.311992",
     "exception": false,
     "start_time": "2023-04-23T12:33:14.305780",
     "status": "completed"
    },
    "tags": []
   },
   "outputs": [],
   "source": [
    "sample_name = \"ERR7425190\""
   ]
  },
  {
   "cell_type": "code",
   "execution_count": null,
   "id": "f7424d90-7690-4290-8651-1db3f9df3a35",
   "metadata": {
    "execution": {
     "iopub.execute_input": "2023-04-23T12:33:14.317099Z",
     "iopub.status.busy": "2023-04-23T12:33:14.316941Z",
     "iopub.status.idle": "2023-04-23T12:33:14.323689Z",
     "shell.execute_reply": "2023-04-23T12:33:14.323383Z"
    },
    "papermill": {
     "duration": 0.010111,
     "end_time": "2023-04-23T12:33:14.324476",
     "exception": false,
     "start_time": "2023-04-23T12:33:14.314365",
     "status": "completed"
    },
    "tags": []
   },
   "outputs": [],
   "source": [
    "metadata = pd.read_csv(\"../../metadata.csv\", index_col = 0)"
   ]
  },
  {
   "cell_type": "code",
   "execution_count": null,
   "id": "2574ecf1-bad4-4c33-8f3f-718a358727ab",
   "metadata": {
    "execution": {
     "iopub.execute_input": "2023-04-23T12:33:14.329563Z",
     "iopub.status.busy": "2023-04-23T12:33:14.329332Z",
     "iopub.status.idle": "2023-04-23T12:33:14.331276Z",
     "shell.execute_reply": "2023-04-23T12:33:14.330985Z"
    },
    "papermill": {
     "duration": 0.005346,
     "end_time": "2023-04-23T12:33:14.332067",
     "exception": false,
     "start_time": "2023-04-23T12:33:14.326721",
     "status": "completed"
    },
    "tags": []
   },
   "outputs": [],
   "source": [
    "raw_input = f\"/home/hd/hd_hd/hd_fu399/sds-hd/sd21k006/scRNAseq/revision_natcomm/montaldo_et_al/{sample_name}/{sample_name}/outs/raw_feature_bc_matrix.h5\""
   ]
  },
  {
   "cell_type": "code",
   "execution_count": null,
   "id": "e266d388-1802-435c-93a5-90067358739c",
   "metadata": {
    "execution": {
     "iopub.execute_input": "2023-04-23T12:33:14.337275Z",
     "iopub.status.busy": "2023-04-23T12:33:14.336993Z",
     "iopub.status.idle": "2023-04-23T12:33:16.129346Z",
     "shell.execute_reply": "2023-04-23T12:33:16.128887Z"
    },
    "papermill": {
     "duration": 1.796023,
     "end_time": "2023-04-23T12:33:16.130303",
     "exception": false,
     "start_time": "2023-04-23T12:33:14.334280",
     "status": "completed"
    },
    "tags": []
   },
   "outputs": [],
   "source": [
    "dataset = sc.read_10x_h5(raw_input)\n",
    "dataset.var_names_make_unique()\n",
    "dataset.obs_names_make_unique()\n",
    "\n",
    "dataset.layers[\"raw_counts\"] = dataset.X.copy()\n",
    "data_tod = dataset.layers[\"raw_counts\"].T.copy()\n",
    "\n",
    "dataset"
   ]
  },
  {
   "cell_type": "code",
   "execution_count": null,
   "id": "af9f5892-ed31-42a6-991b-4e096f582cef",
   "metadata": {
    "execution": {
     "iopub.execute_input": "2023-04-23T12:33:16.136528Z",
     "iopub.status.busy": "2023-04-23T12:33:16.136351Z",
     "iopub.status.idle": "2023-04-23T12:33:16.341161Z",
     "shell.execute_reply": "2023-04-23T12:33:16.340683Z"
    },
    "papermill": {
     "duration": 0.209194,
     "end_time": "2023-04-23T12:33:16.342534",
     "exception": false,
     "start_time": "2023-04-23T12:33:16.133340",
     "status": "completed"
    },
    "tags": []
   },
   "outputs": [],
   "source": [
    "sce = dataset.copy()"
   ]
  },
  {
   "cell_type": "code",
   "execution_count": null,
   "id": "d03f2caf-8e74-430e-b045-0ab80401d165",
   "metadata": {
    "execution": {
     "iopub.execute_input": "2023-04-23T12:33:16.348728Z",
     "iopub.status.busy": "2023-04-23T12:33:16.348574Z",
     "iopub.status.idle": "2023-04-23T12:34:59.961381Z",
     "shell.execute_reply": "2023-04-23T12:34:59.960779Z"
    },
    "papermill": {
     "duration": 103.617145,
     "end_time": "2023-04-23T12:34:59.962751",
     "exception": false,
     "start_time": "2023-04-23T12:33:16.345606",
     "status": "completed"
    },
    "tags": []
   },
   "outputs": [],
   "source": [
    "%%R -i sce -o empty_drop_output\n",
    "set.seed(187)\n",
    "empty_drop_output <- emptyDrops(assay(sce))"
   ]
  },
  {
   "cell_type": "code",
   "execution_count": null,
   "id": "2a34a54b-3ae2-44d6-8679-8769228c5b66",
   "metadata": {
    "execution": {
     "iopub.execute_input": "2023-04-23T12:34:59.970888Z",
     "iopub.status.busy": "2023-04-23T12:34:59.970718Z",
     "iopub.status.idle": "2023-04-23T12:35:00.056882Z",
     "shell.execute_reply": "2023-04-23T12:35:00.056468Z"
    },
    "papermill": {
     "duration": 0.090323,
     "end_time": "2023-04-23T12:35:00.057717",
     "exception": false,
     "start_time": "2023-04-23T12:34:59.967394",
     "status": "completed"
    },
    "tags": []
   },
   "outputs": [],
   "source": [
    "non_empty_barcodes = empty_drop_output[empty_drop_output[\"FDR\"] < 0.001].index\n",
    "dataset = dataset[dataset.obs.index.isin(non_empty_barcodes), :]\n",
    "dataset"
   ]
  },
  {
   "cell_type": "code",
   "execution_count": null,
   "id": "016a91e5-1bef-46fb-b91e-4fb9a6870c44",
   "metadata": {
    "execution": {
     "iopub.execute_input": "2023-04-23T12:35:00.063898Z",
     "iopub.status.busy": "2023-04-23T12:35:00.063707Z",
     "iopub.status.idle": "2023-04-23T12:36:36.178730Z",
     "shell.execute_reply": "2023-04-23T12:36:36.178235Z"
    },
    "papermill": {
     "duration": 96.119512,
     "end_time": "2023-04-23T12:36:36.180111",
     "exception": false,
     "start_time": "2023-04-23T12:35:00.060599",
     "status": "completed"
    },
    "tags": []
   },
   "outputs": [],
   "source": [
    "rna_assay = dataset.copy()\n",
    "sc.pp.normalize_per_cell(rna_assay)\n",
    "sc.pp.log1p(rna_assay)\n",
    "sc.pp.pca(rna_assay)\n",
    "sc.pp.neighbors(rna_assay)\n",
    "sc.tl.leiden(rna_assay, key_added=\"soupx_groups\")\n",
    "\n",
    "soupx_groups = rna_assay.obs[\"soupx_groups\"]\n",
    "\n",
    "del rna_assay\n",
    "\n",
    "genes = dataset.var_names\n",
    "cells = dataset.obs_names\n",
    "data = dataset.X.T.copy()"
   ]
  },
  {
   "cell_type": "code",
   "execution_count": null,
   "id": "9db4ea1f-1580-4f43-a3f0-86002397cd98",
   "metadata": {
    "execution": {
     "iopub.execute_input": "2023-04-23T12:36:36.188967Z",
     "iopub.status.busy": "2023-04-23T12:36:36.188751Z",
     "iopub.status.idle": "2023-04-23T12:37:15.462989Z",
     "shell.execute_reply": "2023-04-23T12:37:15.462398Z"
    },
    "papermill": {
     "duration": 39.279054,
     "end_time": "2023-04-23T12:37:15.464442",
     "exception": false,
     "start_time": "2023-04-23T12:36:36.185388",
     "status": "completed"
    },
    "tags": []
   },
   "outputs": [],
   "source": [
    "%%R -i data -i data_tod -i genes -i cells -i soupx_groups -o out \n",
    "set.seed(187)\n",
    "# specify row and column names of data\n",
    "rownames(data) = genes\n",
    "colnames(data) = cells\n",
    "# ensure correct sparse format for table of counts and table of droplets\n",
    "data <- as(data, \"sparseMatrix\")\n",
    "data_tod <- as(data_tod, \"sparseMatrix\")\n",
    "\n",
    "# Generate SoupChannel Object for SoupX \n",
    "sc = SoupChannel(data_tod, data, calcSoupProfile = FALSE)\n",
    "\n",
    "# Add extra meta data to the SoupChannel object\n",
    "soupProf = data.frame(row.names = rownames(data),\n",
    "                      est = rowSums(data)/sum(data),\n",
    "                      counts = rowSums(data))\n",
    "sc = setSoupProfile(sc, soupProf)\n",
    "# Set cluster information in SoupChannel\n",
    "sc = setClusters(sc, soupx_groups)\n",
    "\n",
    "# Estimate contamination fraction\n",
    "sc  = autoEstCont(sc, doPlot=FALSE, forceAccept = TRUE)\n",
    "# Infer corrected table of counts and rount to integer\n",
    "out = adjustCounts(sc, roundToInt = TRUE)"
   ]
  },
  {
   "cell_type": "code",
   "execution_count": null,
   "id": "32555d5e-5fa3-46dd-a4e0-ddc96ea265e2",
   "metadata": {
    "execution": {
     "iopub.execute_input": "2023-04-23T12:37:15.473648Z",
     "iopub.status.busy": "2023-04-23T12:37:15.473455Z",
     "iopub.status.idle": "2023-04-23T12:37:15.604507Z",
     "shell.execute_reply": "2023-04-23T12:37:15.604039Z"
    },
    "papermill": {
     "duration": 0.136316,
     "end_time": "2023-04-23T12:37:15.605885",
     "exception": false,
     "start_time": "2023-04-23T12:37:15.469569",
     "status": "completed"
    },
    "tags": []
   },
   "outputs": [],
   "source": [
    "dataset.layers[\"soupX_counts\"] = out.T\n",
    "dataset.X = dataset.layers[\"soupX_counts\"].copy()"
   ]
  },
  {
   "cell_type": "code",
   "execution_count": null,
   "id": "e27da7df-e094-4d2a-9109-5a363e012175",
   "metadata": {
    "execution": {
     "iopub.execute_input": "2023-04-23T12:37:15.612441Z",
     "iopub.status.busy": "2023-04-23T12:37:15.612281Z",
     "iopub.status.idle": "2023-04-23T12:37:15.614726Z",
     "shell.execute_reply": "2023-04-23T12:37:15.614394Z"
    },
    "papermill": {
     "duration": 0.006454,
     "end_time": "2023-04-23T12:37:15.615524",
     "exception": false,
     "start_time": "2023-04-23T12:37:15.609070",
     "status": "completed"
    },
    "tags": []
   },
   "outputs": [],
   "source": [
    "data_mat = dataset.X.T"
   ]
  },
  {
   "cell_type": "code",
   "execution_count": null,
   "id": "80a993b1-5ccb-4697-9187-1beb7ab8aff9",
   "metadata": {
    "execution": {
     "iopub.execute_input": "2023-04-23T12:37:15.621209Z",
     "iopub.status.busy": "2023-04-23T12:37:15.621072Z",
     "iopub.status.idle": "2023-04-23T12:38:07.475568Z",
     "shell.execute_reply": "2023-04-23T12:38:07.475028Z"
    },
    "papermill": {
     "duration": 51.858801,
     "end_time": "2023-04-23T12:38:07.476847",
     "exception": false,
     "start_time": "2023-04-23T12:37:15.618046",
     "status": "completed"
    },
    "tags": []
   },
   "outputs": [],
   "source": [
    "%%R -i data_mat -o droplet_class\n",
    "\n",
    "set.seed(187)\n",
    "sce = scDblFinder(\n",
    "    SingleCellExperiment(\n",
    "        list(counts=data_mat),\n",
    "    ) \n",
    ")\n",
    "droplet_class = sce$scDblFinder.class"
   ]
  },
  {
   "cell_type": "code",
   "execution_count": null,
   "id": "d4dd6e9d-fcf2-41fc-8457-c8e0a3cb2c71",
   "metadata": {
    "execution": {
     "iopub.execute_input": "2023-04-23T12:38:07.485379Z",
     "iopub.status.busy": "2023-04-23T12:38:07.485159Z",
     "iopub.status.idle": "2023-04-23T12:38:07.490258Z",
     "shell.execute_reply": "2023-04-23T12:38:07.489927Z"
    },
    "papermill": {
     "duration": 0.009202,
     "end_time": "2023-04-23T12:38:07.491052",
     "exception": false,
     "start_time": "2023-04-23T12:38:07.481850",
     "status": "completed"
    },
    "tags": []
   },
   "outputs": [],
   "source": [
    "dataset.obs[\"scDblFinder_class\"] = droplet_class\n",
    "dataset.obs.scDblFinder_class.value_counts()\n",
    "dataset"
   ]
  },
  {
   "cell_type": "code",
   "execution_count": null,
   "id": "28c95014-2d6c-477f-95cb-9f9f0507520c",
   "metadata": {
    "execution": {
     "iopub.execute_input": "2023-04-23T12:38:07.496929Z",
     "iopub.status.busy": "2023-04-23T12:38:07.496759Z",
     "iopub.status.idle": "2023-04-23T12:38:07.504388Z",
     "shell.execute_reply": "2023-04-23T12:38:07.504061Z"
    },
    "papermill": {
     "duration": 0.011493,
     "end_time": "2023-04-23T12:38:07.505172",
     "exception": false,
     "start_time": "2023-04-23T12:38:07.493679",
     "status": "completed"
    },
    "tags": []
   },
   "outputs": [],
   "source": [
    "dataset = dataset[dataset.obs[\"scDblFinder_class\"] == 1]"
   ]
  },
  {
   "cell_type": "code",
   "execution_count": null,
   "id": "3e22f9e0-bfcb-416c-a151-a9bca3bec3b9",
   "metadata": {
    "execution": {
     "iopub.execute_input": "2023-04-23T12:38:07.511240Z",
     "iopub.status.busy": "2023-04-23T12:38:07.511083Z",
     "iopub.status.idle": "2023-04-23T12:38:07.972563Z",
     "shell.execute_reply": "2023-04-23T12:38:07.972131Z"
    },
    "papermill": {
     "duration": 0.466798,
     "end_time": "2023-04-23T12:38:07.974690",
     "exception": false,
     "start_time": "2023-04-23T12:38:07.507892",
     "status": "completed"
    },
    "tags": []
   },
   "outputs": [],
   "source": [
    "# mitochondrial genes\n",
    "dataset.var[\"mt\"] = dataset.var_names.str.startswith(\"MT-\")\n",
    "# ribosomal genes\n",
    "dataset.var[\"ribo\"] = dataset.var_names.str.startswith((\"RPS\", \"RPL\"))\n",
    "# hemoglobin genes.\n",
    "dataset.var[\"hb\"] = dataset.var_names.str.contains((\"^HB[^(P)]\"))\n",
    "\n",
    "sc.pp.calculate_qc_metrics(dataset,\n",
    "                           qc_vars=['mt', 'ribo', 'hb'],\n",
    "                           percent_top=None,\n",
    "                           log1p=False,\n",
    "                           inplace=True)\n",
    "dataset"
   ]
  },
  {
   "cell_type": "code",
   "execution_count": null,
   "id": "34deee79-4043-428f-8575-aa57b45f6369",
   "metadata": {
    "execution": {
     "iopub.execute_input": "2023-04-23T12:38:07.982030Z",
     "iopub.status.busy": "2023-04-23T12:38:07.981863Z",
     "iopub.status.idle": "2023-04-23T12:38:08.666460Z",
     "shell.execute_reply": "2023-04-23T12:38:08.666055Z"
    },
    "papermill": {
     "duration": 0.689501,
     "end_time": "2023-04-23T12:38:08.667859",
     "exception": false,
     "start_time": "2023-04-23T12:38:07.978358",
     "status": "completed"
    },
    "tags": []
   },
   "outputs": [],
   "source": [
    "fig, ax = plt.subplots(ncols = 4, figsize = (16,4))\n",
    "axis = sc.pl.violin(dataset, \"n_genes_by_counts\", jitter = 0.4, ax = ax[0], show = False)\n",
    "axis.grid(False)\n",
    "axis.set_title(\"Unique Genes per cell\")\n",
    "axis.tick_params(axis = \"x\", bottom =False, labelbottom =False)\n",
    "axis.set_ylabel(\"# genes\")\n",
    "axis.axhline(y = 250, color = \"black\", label = \"cutoff\")\n",
    "axis.legend(fontsize = 14, loc = \"upper right\")\n",
    "\n",
    "axis = sc.pl.violin(dataset, \"pct_counts_mt\", jitter = 0.4, ax = ax[1], show = False)\n",
    "axis.grid(False)\n",
    "axis.set_title(\"Mitochondrial Fraction\")\n",
    "axis.tick_params(axis = \"x\", bottom =False, labelbottom =False)\n",
    "axis.set_ylabel(\"% mitochondrial genes\")\n",
    "axis.axhline(y = 10, color = \"black\", label = \"cutoff\")\n",
    "axis.legend(fontsize = 14, loc = \"upper right\")\n",
    "\n",
    "axis = sc.pl.violin(dataset, \"pct_counts_hb\", jitter = 0.4, ax = ax[2], show = False, size =2)\n",
    "axis.grid(False)\n",
    "axis.set_title(\"Hemoglobin Fraction\")\n",
    "axis.tick_params(axis = \"x\", bottom =False, labelbottom =False)\n",
    "axis.set_ylabel(\"% hemoglobin genes\")\n",
    "axis.axhline(y = 1, color = \"black\", label = \"cutoff\")\n",
    "axis.legend(fontsize = 14, loc = \"upper right\")\n",
    "#axis.set_ylim(0,5)\n",
    "\n",
    "axis = sc.pl.violin(dataset, \"pct_counts_ribo\", jitter = 0.4, ax = ax[3], show = False)\n",
    "axis.grid(False)\n",
    "axis.set_title(\"Ribosomal Fraction\")\n",
    "axis.tick_params(axis = \"x\", bottom =False, labelbottom =False)\n",
    "axis.set_ylabel(\"% ribosome genes\")\n",
    "\n",
    "plt.tight_layout()\n",
    "#plt.savefig(f\"{outputDir}08_gene_based_filtering.pdf\", dpi = 300)\n",
    "plt.show()\n",
    "\n"
   ]
  },
  {
   "cell_type": "code",
   "execution_count": null,
   "id": "d7ade754-843e-4840-8707-426613d8c0c5",
   "metadata": {
    "execution": {
     "iopub.execute_input": "2023-04-23T12:38:08.676998Z",
     "iopub.status.busy": "2023-04-23T12:38:08.676810Z",
     "iopub.status.idle": "2023-04-23T12:38:08.689236Z",
     "shell.execute_reply": "2023-04-23T12:38:08.688916Z"
    },
    "papermill": {
     "duration": 0.017819,
     "end_time": "2023-04-23T12:38:08.690053",
     "exception": false,
     "start_time": "2023-04-23T12:38:08.672234",
     "status": "completed"
    },
    "tags": []
   },
   "outputs": [],
   "source": [
    "dataset = dataset[dataset.obs.pct_counts_mt < 10, :]\n",
    "dataset = dataset[dataset.obs.n_genes_by_counts > 250, :]\n",
    "dataset = dataset[dataset.obs.pct_counts_hb < 1, :]\n",
    "dataset"
   ]
  },
  {
   "cell_type": "code",
   "execution_count": null,
   "id": "2e0ff8c3-2aa9-4a01-9b88-5912a6734447",
   "metadata": {
    "execution": {
     "iopub.execute_input": "2023-04-23T12:38:08.699298Z",
     "iopub.status.busy": "2023-04-23T12:38:08.699112Z",
     "iopub.status.idle": "2023-04-23T12:38:08.845601Z",
     "shell.execute_reply": "2023-04-23T12:38:08.845135Z"
    },
    "papermill": {
     "duration": 0.152833,
     "end_time": "2023-04-23T12:38:08.846939",
     "exception": false,
     "start_time": "2023-04-23T12:38:08.694106",
     "status": "completed"
    },
    "tags": []
   },
   "outputs": [],
   "source": [
    "for col in metadata.columns:\n",
    "    dataset.obs[col] = metadata.loc[(metadata[\"ENA_RUN\"] == sample_name) & (metadata[\"read_index\"] == \"read1\"), col].to_list()[0]"
   ]
  },
  {
   "cell_type": "code",
   "execution_count": null,
   "id": "b84578d3-d63e-419c-a272-a0b8317d05ab",
   "metadata": {
    "execution": {
     "iopub.execute_input": "2023-04-23T12:38:08.856479Z",
     "iopub.status.busy": "2023-04-23T12:38:08.856312Z",
     "iopub.status.idle": "2023-04-23T12:38:09.213147Z",
     "shell.execute_reply": "2023-04-23T12:38:09.212628Z"
    },
    "papermill": {
     "duration": 0.362755,
     "end_time": "2023-04-23T12:38:09.214317",
     "exception": false,
     "start_time": "2023-04-23T12:38:08.851562",
     "status": "completed"
    },
    "tags": []
   },
   "outputs": [],
   "source": [
    "dataset.write(f\"../../int_data/{sample_name}_qc.h5ad\")"
   ]
  }
 ],
 "metadata": {
  "kernelspec": {
   "display_name": "py_R",
   "language": "python",
   "name": "python_r"
  },
  "language_info": {
   "codemirror_mode": {
    "name": "ipython",
    "version": 3
   },
   "file_extension": ".py",
   "mimetype": "text/x-python",
   "name": "python",
   "nbconvert_exporter": "python",
   "pygments_lexer": "ipython3",
   "version": "3.10.9"
  },
  "papermill": {
   "default_parameters": {},
   "duration": 311.080881,
   "end_time": "2023-04-23T12:38:11.340354",
   "environment_variables": {},
   "exception": null,
   "input_path": "ERR7425190.ipynb",
   "output_path": "ERR7425190.ipynb",
   "parameters": {},
   "start_time": "2023-04-23T12:33:00.259473",
   "version": "2.4.0"
  }
 },
 "nbformat": 4,
 "nbformat_minor": 5
}
