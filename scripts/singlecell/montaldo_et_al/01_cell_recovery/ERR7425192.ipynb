{
 "cells": [
  {
   "cell_type": "code",
   "execution_count": null,
   "id": "f87ed95b-2b67-4a5a-8fe2-47359b1dd2a9",
   "metadata": {
    "execution": {
     "iopub.execute_input": "2023-04-23T12:42:13.809147Z",
     "iopub.status.busy": "2023-04-23T12:42:13.808976Z",
     "iopub.status.idle": "2023-04-23T12:42:13.813668Z",
     "shell.execute_reply": "2023-04-23T12:42:13.813352Z"
    },
    "papermill": {
     "duration": 0.009128,
     "end_time": "2023-04-23T12:42:13.814569",
     "exception": false,
     "start_time": "2023-04-23T12:42:13.805441",
     "status": "completed"
    },
    "tags": []
   },
   "outputs": [],
   "source": [
    "import warnings\n",
    "warnings.simplefilter(action='ignore', category=FutureWarning)\n",
    "warnings.simplefilter(action='ignore', category=UserWarning)"
   ]
  },
  {
   "cell_type": "code",
   "execution_count": null,
   "id": "85161f19-b2c5-490b-8cab-c2cf9653b304",
   "metadata": {
    "execution": {
     "iopub.execute_input": "2023-04-23T12:42:13.819654Z",
     "iopub.status.busy": "2023-04-23T12:42:13.819381Z",
     "iopub.status.idle": "2023-04-23T12:42:17.849510Z",
     "shell.execute_reply": "2023-04-23T12:42:17.848951Z"
    },
    "papermill": {
     "duration": 4.033885,
     "end_time": "2023-04-23T12:42:17.850804",
     "exception": false,
     "start_time": "2023-04-23T12:42:13.816919",
     "status": "completed"
    },
    "tags": []
   },
   "outputs": [],
   "source": [
    "import gc\n",
    "import scanpy as sc\n",
    "import muon as mu\n",
    "import seaborn as sns\n",
    "import os\n",
    "import pandas as pd\n",
    "from matplotlib import pyplot as plt\n",
    "\n",
    "os.environ['R_HOME'] = '/gpfs/bwfor/work/ws/hd_fu399-conda/conda/envs/python_R/lib/R/'\n",
    "import anndata2ri\n",
    "import logging\n",
    "\n",
    "import rpy2.rinterface_lib.callbacks as rcb\n",
    "import rpy2.robjects as ro\n",
    "\n",
    "rcb.logger.setLevel(logging.ERROR)\n",
    "ro.pandas2ri.activate()\n",
    "anndata2ri.activate()\n",
    "\n",
    "%load_ext rpy2.ipython"
   ]
  },
  {
   "cell_type": "code",
   "execution_count": null,
   "id": "fc4ade78-b728-4704-9db6-45fbaab62ba1",
   "metadata": {
    "execution": {
     "iopub.execute_input": "2023-04-23T12:42:17.856556Z",
     "iopub.status.busy": "2023-04-23T12:42:17.856312Z",
     "iopub.status.idle": "2023-04-23T12:42:27.685673Z",
     "shell.execute_reply": "2023-04-23T12:42:27.685094Z"
    },
    "papermill": {
     "duration": 9.833482,
     "end_time": "2023-04-23T12:42:27.687047",
     "exception": false,
     "start_time": "2023-04-23T12:42:17.853565",
     "status": "completed"
    },
    "tags": []
   },
   "outputs": [],
   "source": [
    "%%R\n",
    "library(SoupX)\n",
    "library(Seurat)\n",
    "library(scater)\n",
    "library(scDblFinder)\n",
    "library(BiocParallel)\n",
    "library(MuDataSeurat)\n",
    "library(DropletUtils)"
   ]
  },
  {
   "cell_type": "code",
   "execution_count": null,
   "id": "611e4882-fc48-43d1-b1cd-e65e1bde0015",
   "metadata": {
    "execution": {
     "iopub.execute_input": "2023-04-23T12:42:27.695117Z",
     "iopub.status.busy": "2023-04-23T12:42:27.694966Z",
     "iopub.status.idle": "2023-04-23T12:42:27.697488Z",
     "shell.execute_reply": "2023-04-23T12:42:27.697167Z"
    },
    "papermill": {
     "duration": 0.006281,
     "end_time": "2023-04-23T12:42:27.698264",
     "exception": false,
     "start_time": "2023-04-23T12:42:27.691983",
     "status": "completed"
    },
    "tags": []
   },
   "outputs": [],
   "source": [
    "sample_name = \"ERR7425192\""
   ]
  },
  {
   "cell_type": "code",
   "execution_count": null,
   "id": "f7424d90-7690-4290-8651-1db3f9df3a35",
   "metadata": {
    "execution": {
     "iopub.execute_input": "2023-04-23T12:42:27.703202Z",
     "iopub.status.busy": "2023-04-23T12:42:27.703046Z",
     "iopub.status.idle": "2023-04-23T12:42:27.714463Z",
     "shell.execute_reply": "2023-04-23T12:42:27.714121Z"
    },
    "papermill": {
     "duration": 0.015058,
     "end_time": "2023-04-23T12:42:27.715490",
     "exception": false,
     "start_time": "2023-04-23T12:42:27.700432",
     "status": "completed"
    },
    "tags": []
   },
   "outputs": [],
   "source": [
    "metadata = pd.read_csv(\"../../metadata.csv\", index_col = 0)"
   ]
  },
  {
   "cell_type": "code",
   "execution_count": null,
   "id": "2574ecf1-bad4-4c33-8f3f-718a358727ab",
   "metadata": {
    "execution": {
     "iopub.execute_input": "2023-04-23T12:42:27.720505Z",
     "iopub.status.busy": "2023-04-23T12:42:27.720215Z",
     "iopub.status.idle": "2023-04-23T12:42:27.722247Z",
     "shell.execute_reply": "2023-04-23T12:42:27.721925Z"
    },
    "papermill": {
     "duration": 0.005355,
     "end_time": "2023-04-23T12:42:27.723025",
     "exception": false,
     "start_time": "2023-04-23T12:42:27.717670",
     "status": "completed"
    },
    "tags": []
   },
   "outputs": [],
   "source": [
    "raw_input = f\"/home/hd/hd_hd/hd_fu399/sds-hd/sd21k006/scRNAseq/revision_natcomm/montaldo_et_al/{sample_name}/{sample_name}/outs/raw_feature_bc_matrix.h5\""
   ]
  },
  {
   "cell_type": "code",
   "execution_count": null,
   "id": "e266d388-1802-435c-93a5-90067358739c",
   "metadata": {
    "execution": {
     "iopub.execute_input": "2023-04-23T12:42:27.727893Z",
     "iopub.status.busy": "2023-04-23T12:42:27.727745Z",
     "iopub.status.idle": "2023-04-23T12:42:28.886568Z",
     "shell.execute_reply": "2023-04-23T12:42:28.886092Z"
    },
    "papermill": {
     "duration": 1.162359,
     "end_time": "2023-04-23T12:42:28.887544",
     "exception": false,
     "start_time": "2023-04-23T12:42:27.725185",
     "status": "completed"
    },
    "tags": []
   },
   "outputs": [],
   "source": [
    "dataset = sc.read_10x_h5(raw_input)\n",
    "dataset.var_names_make_unique()\n",
    "dataset.obs_names_make_unique()\n",
    "\n",
    "dataset.layers[\"raw_counts\"] = dataset.X.copy()\n",
    "data_tod = dataset.layers[\"raw_counts\"].T.copy()\n",
    "\n",
    "dataset"
   ]
  },
  {
   "cell_type": "code",
   "execution_count": null,
   "id": "af9f5892-ed31-42a6-991b-4e096f582cef",
   "metadata": {
    "execution": {
     "iopub.execute_input": "2023-04-23T12:42:28.893869Z",
     "iopub.status.busy": "2023-04-23T12:42:28.893657Z",
     "iopub.status.idle": "2023-04-23T12:42:29.009186Z",
     "shell.execute_reply": "2023-04-23T12:42:29.008732Z"
    },
    "papermill": {
     "duration": 0.119874,
     "end_time": "2023-04-23T12:42:29.010614",
     "exception": false,
     "start_time": "2023-04-23T12:42:28.890740",
     "status": "completed"
    },
    "tags": []
   },
   "outputs": [],
   "source": [
    "sce = dataset.copy()"
   ]
  },
  {
   "cell_type": "code",
   "execution_count": null,
   "id": "d03f2caf-8e74-430e-b045-0ab80401d165",
   "metadata": {
    "execution": {
     "iopub.execute_input": "2023-04-23T12:42:29.017067Z",
     "iopub.status.busy": "2023-04-23T12:42:29.016874Z",
     "iopub.status.idle": "2023-04-23T12:43:57.946327Z",
     "shell.execute_reply": "2023-04-23T12:43:57.945695Z"
    },
    "papermill": {
     "duration": 88.93381,
     "end_time": "2023-04-23T12:43:57.947687",
     "exception": false,
     "start_time": "2023-04-23T12:42:29.013877",
     "status": "completed"
    },
    "tags": []
   },
   "outputs": [],
   "source": [
    "%%R -i sce -o empty_drop_output\n",
    "set.seed(187)\n",
    "empty_drop_output <- emptyDrops(assay(sce))"
   ]
  },
  {
   "cell_type": "code",
   "execution_count": null,
   "id": "2a34a54b-3ae2-44d6-8679-8769228c5b66",
   "metadata": {
    "execution": {
     "iopub.execute_input": "2023-04-23T12:43:57.962318Z",
     "iopub.status.busy": "2023-04-23T12:43:57.962140Z",
     "iopub.status.idle": "2023-04-23T12:43:58.036043Z",
     "shell.execute_reply": "2023-04-23T12:43:58.035631Z"
    },
    "papermill": {
     "duration": 0.078335,
     "end_time": "2023-04-23T12:43:58.036961",
     "exception": false,
     "start_time": "2023-04-23T12:43:57.958626",
     "status": "completed"
    },
    "tags": []
   },
   "outputs": [],
   "source": [
    "non_empty_barcodes = empty_drop_output[empty_drop_output[\"FDR\"] < 0.001].index\n",
    "dataset = dataset[dataset.obs.index.isin(non_empty_barcodes), :]\n",
    "dataset"
   ]
  },
  {
   "cell_type": "code",
   "execution_count": null,
   "id": "016a91e5-1bef-46fb-b91e-4fb9a6870c44",
   "metadata": {
    "execution": {
     "iopub.execute_input": "2023-04-23T12:43:58.043203Z",
     "iopub.status.busy": "2023-04-23T12:43:58.043044Z",
     "iopub.status.idle": "2023-04-23T12:45:26.460270Z",
     "shell.execute_reply": "2023-04-23T12:45:26.459781Z"
    },
    "papermill": {
     "duration": 88.421856,
     "end_time": "2023-04-23T12:45:26.461695",
     "exception": false,
     "start_time": "2023-04-23T12:43:58.039839",
     "status": "completed"
    },
    "tags": []
   },
   "outputs": [],
   "source": [
    "rna_assay = dataset.copy()\n",
    "sc.pp.normalize_per_cell(rna_assay)\n",
    "sc.pp.log1p(rna_assay)\n",
    "sc.pp.pca(rna_assay)\n",
    "sc.pp.neighbors(rna_assay)\n",
    "sc.tl.leiden(rna_assay, key_added=\"soupx_groups\")\n",
    "\n",
    "soupx_groups = rna_assay.obs[\"soupx_groups\"]\n",
    "\n",
    "del rna_assay\n",
    "\n",
    "genes = dataset.var_names\n",
    "cells = dataset.obs_names\n",
    "data = dataset.X.T.copy()"
   ]
  },
  {
   "cell_type": "code",
   "execution_count": null,
   "id": "9db4ea1f-1580-4f43-a3f0-86002397cd98",
   "metadata": {
    "execution": {
     "iopub.execute_input": "2023-04-23T12:45:26.471056Z",
     "iopub.status.busy": "2023-04-23T12:45:26.470883Z",
     "iopub.status.idle": "2023-04-23T12:45:49.349978Z",
     "shell.execute_reply": "2023-04-23T12:45:49.349482Z"
    },
    "papermill": {
     "duration": 22.88387,
     "end_time": "2023-04-23T12:45:49.351341",
     "exception": false,
     "start_time": "2023-04-23T12:45:26.467471",
     "status": "completed"
    },
    "tags": []
   },
   "outputs": [],
   "source": [
    "%%R -i data -i data_tod -i genes -i cells -i soupx_groups -o out \n",
    "set.seed(187)\n",
    "# specify row and column names of data\n",
    "rownames(data) = genes\n",
    "colnames(data) = cells\n",
    "# ensure correct sparse format for table of counts and table of droplets\n",
    "data <- as(data, \"sparseMatrix\")\n",
    "data_tod <- as(data_tod, \"sparseMatrix\")\n",
    "\n",
    "# Generate SoupChannel Object for SoupX \n",
    "sc = SoupChannel(data_tod, data, calcSoupProfile = FALSE)\n",
    "\n",
    "# Add extra meta data to the SoupChannel object\n",
    "soupProf = data.frame(row.names = rownames(data),\n",
    "                      est = rowSums(data)/sum(data),\n",
    "                      counts = rowSums(data))\n",
    "sc = setSoupProfile(sc, soupProf)\n",
    "# Set cluster information in SoupChannel\n",
    "sc = setClusters(sc, soupx_groups)\n",
    "\n",
    "# Estimate contamination fraction\n",
    "sc  = autoEstCont(sc, doPlot=FALSE, forceAccept = TRUE)\n",
    "# Infer corrected table of counts and rount to integer\n",
    "out = adjustCounts(sc, roundToInt = TRUE)"
   ]
  },
  {
   "cell_type": "code",
   "execution_count": null,
   "id": "32555d5e-5fa3-46dd-a4e0-ddc96ea265e2",
   "metadata": {
    "execution": {
     "iopub.execute_input": "2023-04-23T12:45:49.359804Z",
     "iopub.status.busy": "2023-04-23T12:45:49.359648Z",
     "iopub.status.idle": "2023-04-23T12:45:49.422027Z",
     "shell.execute_reply": "2023-04-23T12:45:49.421556Z"
    },
    "papermill": {
     "duration": 0.067067,
     "end_time": "2023-04-23T12:45:49.423376",
     "exception": false,
     "start_time": "2023-04-23T12:45:49.356309",
     "status": "completed"
    },
    "tags": []
   },
   "outputs": [],
   "source": [
    "dataset.layers[\"soupX_counts\"] = out.T\n",
    "dataset.X = dataset.layers[\"soupX_counts\"].copy()"
   ]
  },
  {
   "cell_type": "code",
   "execution_count": null,
   "id": "e27da7df-e094-4d2a-9109-5a363e012175",
   "metadata": {
    "execution": {
     "iopub.execute_input": "2023-04-23T12:45:49.429538Z",
     "iopub.status.busy": "2023-04-23T12:45:49.429381Z",
     "iopub.status.idle": "2023-04-23T12:45:49.431778Z",
     "shell.execute_reply": "2023-04-23T12:45:49.431434Z"
    },
    "papermill": {
     "duration": 0.006251,
     "end_time": "2023-04-23T12:45:49.432567",
     "exception": false,
     "start_time": "2023-04-23T12:45:49.426316",
     "status": "completed"
    },
    "tags": []
   },
   "outputs": [],
   "source": [
    "data_mat = dataset.X.T"
   ]
  },
  {
   "cell_type": "code",
   "execution_count": null,
   "id": "80a993b1-5ccb-4697-9187-1beb7ab8aff9",
   "metadata": {
    "execution": {
     "iopub.execute_input": "2023-04-23T12:45:49.438220Z",
     "iopub.status.busy": "2023-04-23T12:45:49.438081Z",
     "iopub.status.idle": "2023-04-23T12:46:26.590444Z",
     "shell.execute_reply": "2023-04-23T12:46:26.589857Z"
    },
    "papermill": {
     "duration": 37.15675,
     "end_time": "2023-04-23T12:46:26.591884",
     "exception": false,
     "start_time": "2023-04-23T12:45:49.435134",
     "status": "completed"
    },
    "tags": []
   },
   "outputs": [],
   "source": [
    "%%R -i data_mat -o droplet_class\n",
    "\n",
    "set.seed(187)\n",
    "sce = scDblFinder(\n",
    "    SingleCellExperiment(\n",
    "        list(counts=data_mat),\n",
    "    ) \n",
    ")\n",
    "droplet_class = sce$scDblFinder.class"
   ]
  },
  {
   "cell_type": "code",
   "execution_count": null,
   "id": "d4dd6e9d-fcf2-41fc-8457-c8e0a3cb2c71",
   "metadata": {
    "execution": {
     "iopub.execute_input": "2023-04-23T12:46:26.600762Z",
     "iopub.status.busy": "2023-04-23T12:46:26.600587Z",
     "iopub.status.idle": "2023-04-23T12:46:26.605479Z",
     "shell.execute_reply": "2023-04-23T12:46:26.605142Z"
    },
    "papermill": {
     "duration": 0.009104,
     "end_time": "2023-04-23T12:46:26.606284",
     "exception": false,
     "start_time": "2023-04-23T12:46:26.597180",
     "status": "completed"
    },
    "tags": []
   },
   "outputs": [],
   "source": [
    "dataset.obs[\"scDblFinder_class\"] = droplet_class\n",
    "dataset.obs.scDblFinder_class.value_counts()\n",
    "dataset"
   ]
  },
  {
   "cell_type": "code",
   "execution_count": null,
   "id": "28c95014-2d6c-477f-95cb-9f9f0507520c",
   "metadata": {
    "execution": {
     "iopub.execute_input": "2023-04-23T12:46:26.612225Z",
     "iopub.status.busy": "2023-04-23T12:46:26.612064Z",
     "iopub.status.idle": "2023-04-23T12:46:26.618229Z",
     "shell.execute_reply": "2023-04-23T12:46:26.617896Z"
    },
    "papermill": {
     "duration": 0.010061,
     "end_time": "2023-04-23T12:46:26.619024",
     "exception": false,
     "start_time": "2023-04-23T12:46:26.608963",
     "status": "completed"
    },
    "tags": []
   },
   "outputs": [],
   "source": [
    "dataset = dataset[dataset.obs[\"scDblFinder_class\"] == 1]"
   ]
  },
  {
   "cell_type": "code",
   "execution_count": null,
   "id": "3e22f9e0-bfcb-416c-a151-a9bca3bec3b9",
   "metadata": {
    "execution": {
     "iopub.execute_input": "2023-04-23T12:46:26.625090Z",
     "iopub.status.busy": "2023-04-23T12:46:26.624932Z",
     "iopub.status.idle": "2023-04-23T12:46:26.934086Z",
     "shell.execute_reply": "2023-04-23T12:46:26.933613Z"
    },
    "papermill": {
     "duration": 0.313387,
     "end_time": "2023-04-23T12:46:26.935097",
     "exception": false,
     "start_time": "2023-04-23T12:46:26.621710",
     "status": "completed"
    },
    "tags": []
   },
   "outputs": [],
   "source": [
    "# mitochondrial genes\n",
    "dataset.var[\"mt\"] = dataset.var_names.str.startswith(\"MT-\")\n",
    "# ribosomal genes\n",
    "dataset.var[\"ribo\"] = dataset.var_names.str.startswith((\"RPS\", \"RPL\"))\n",
    "# hemoglobin genes.\n",
    "dataset.var[\"hb\"] = dataset.var_names.str.contains((\"^HB[^(P)]\"))\n",
    "\n",
    "sc.pp.calculate_qc_metrics(dataset,\n",
    "                           qc_vars=['mt', 'ribo', 'hb'],\n",
    "                           percent_top=None,\n",
    "                           log1p=False,\n",
    "                           inplace=True)\n",
    "dataset"
   ]
  },
  {
   "cell_type": "code",
   "execution_count": null,
   "id": "34deee79-4043-428f-8575-aa57b45f6369",
   "metadata": {
    "execution": {
     "iopub.execute_input": "2023-04-23T12:46:26.942024Z",
     "iopub.status.busy": "2023-04-23T12:46:26.941859Z",
     "iopub.status.idle": "2023-04-23T12:46:27.476389Z",
     "shell.execute_reply": "2023-04-23T12:46:27.476008Z"
    },
    "papermill": {
     "duration": 0.53882,
     "end_time": "2023-04-23T12:46:27.477252",
     "exception": false,
     "start_time": "2023-04-23T12:46:26.938432",
     "status": "completed"
    },
    "tags": []
   },
   "outputs": [],
   "source": [
    "fig, ax = plt.subplots(ncols = 4, figsize = (16,4))\n",
    "axis = sc.pl.violin(dataset, \"n_genes_by_counts\", jitter = 0.4, ax = ax[0], show = False)\n",
    "axis.grid(False)\n",
    "axis.set_title(\"Unique Genes per cell\")\n",
    "axis.tick_params(axis = \"x\", bottom =False, labelbottom =False)\n",
    "axis.set_ylabel(\"# genes\")\n",
    "axis.axhline(y = 250, color = \"black\", label = \"cutoff\")\n",
    "axis.legend(fontsize = 14, loc = \"upper right\")\n",
    "\n",
    "axis = sc.pl.violin(dataset, \"pct_counts_mt\", jitter = 0.4, ax = ax[1], show = False)\n",
    "axis.grid(False)\n",
    "axis.set_title(\"Mitochondrial Fraction\")\n",
    "axis.tick_params(axis = \"x\", bottom =False, labelbottom =False)\n",
    "axis.set_ylabel(\"% mitochondrial genes\")\n",
    "axis.axhline(y = 10, color = \"black\", label = \"cutoff\")\n",
    "axis.legend(fontsize = 14, loc = \"upper right\")\n",
    "\n",
    "axis = sc.pl.violin(dataset, \"pct_counts_hb\", jitter = 0.4, ax = ax[2], show = False, size =2)\n",
    "axis.grid(False)\n",
    "axis.set_title(\"Hemoglobin Fraction\")\n",
    "axis.tick_params(axis = \"x\", bottom =False, labelbottom =False)\n",
    "axis.set_ylabel(\"% hemoglobin genes\")\n",
    "axis.axhline(y = 1, color = \"black\", label = \"cutoff\")\n",
    "axis.legend(fontsize = 14, loc = \"upper right\")\n",
    "#axis.set_ylim(0,5)\n",
    "\n",
    "axis = sc.pl.violin(dataset, \"pct_counts_ribo\", jitter = 0.4, ax = ax[3], show = False)\n",
    "axis.grid(False)\n",
    "axis.set_title(\"Ribosomal Fraction\")\n",
    "axis.tick_params(axis = \"x\", bottom =False, labelbottom =False)\n",
    "axis.set_ylabel(\"% ribosome genes\")\n",
    "\n",
    "plt.tight_layout()\n",
    "#plt.savefig(f\"{outputDir}08_gene_based_filtering.pdf\", dpi = 300)\n",
    "plt.show()\n",
    "\n"
   ]
  },
  {
   "cell_type": "code",
   "execution_count": null,
   "id": "d7ade754-843e-4840-8707-426613d8c0c5",
   "metadata": {
    "execution": {
     "iopub.execute_input": "2023-04-23T12:46:27.485886Z",
     "iopub.status.busy": "2023-04-23T12:46:27.485744Z",
     "iopub.status.idle": "2023-04-23T12:46:27.497657Z",
     "shell.execute_reply": "2023-04-23T12:46:27.497343Z"
    },
    "papermill": {
     "duration": 0.017042,
     "end_time": "2023-04-23T12:46:27.498494",
     "exception": false,
     "start_time": "2023-04-23T12:46:27.481452",
     "status": "completed"
    },
    "tags": []
   },
   "outputs": [],
   "source": [
    "dataset = dataset[dataset.obs.pct_counts_mt < 10, :]\n",
    "dataset = dataset[dataset.obs.n_genes_by_counts > 250, :]\n",
    "dataset = dataset[dataset.obs.pct_counts_hb < 1, :]\n",
    "dataset"
   ]
  },
  {
   "cell_type": "code",
   "execution_count": null,
   "id": "2e0ff8c3-2aa9-4a01-9b88-5912a6734447",
   "metadata": {
    "execution": {
     "iopub.execute_input": "2023-04-23T12:46:27.506872Z",
     "iopub.status.busy": "2023-04-23T12:46:27.506737Z",
     "iopub.status.idle": "2023-04-23T12:46:27.606458Z",
     "shell.execute_reply": "2023-04-23T12:46:27.606036Z"
    },
    "papermill": {
     "duration": 0.105022,
     "end_time": "2023-04-23T12:46:27.607482",
     "exception": false,
     "start_time": "2023-04-23T12:46:27.502460",
     "status": "completed"
    },
    "tags": []
   },
   "outputs": [],
   "source": [
    "for col in metadata.columns:\n",
    "    dataset.obs[col] = metadata.loc[(metadata[\"ENA_RUN\"] == sample_name) & (metadata[\"read_index\"] == \"read1\"), col].to_list()[0]"
   ]
  },
  {
   "cell_type": "code",
   "execution_count": null,
   "id": "b84578d3-d63e-419c-a272-a0b8317d05ab",
   "metadata": {
    "execution": {
     "iopub.execute_input": "2023-04-23T12:46:27.616336Z",
     "iopub.status.busy": "2023-04-23T12:46:27.616152Z",
     "iopub.status.idle": "2023-04-23T12:46:27.934055Z",
     "shell.execute_reply": "2023-04-23T12:46:27.933588Z"
    },
    "papermill": {
     "duration": 0.323407,
     "end_time": "2023-04-23T12:46:27.935054",
     "exception": false,
     "start_time": "2023-04-23T12:46:27.611647",
     "status": "completed"
    },
    "tags": []
   },
   "outputs": [],
   "source": [
    "dataset.write(f\"../../int_data/{sample_name}_qc.h5ad\")"
   ]
  }
 ],
 "metadata": {
  "kernelspec": {
   "display_name": "py_R",
   "language": "python",
   "name": "python_r"
  },
  "language_info": {
   "codemirror_mode": {
    "name": "ipython",
    "version": 3
   },
   "file_extension": ".py",
   "mimetype": "text/x-python",
   "name": "python",
   "nbconvert_exporter": "python",
   "pygments_lexer": "ipython3",
   "version": "3.10.9"
  },
  "papermill": {
   "default_parameters": {},
   "duration": 258.421525,
   "end_time": "2023-04-23T12:46:31.350167",
   "environment_variables": {},
   "exception": null,
   "input_path": "ERR7425192.ipynb",
   "output_path": "ERR7425192.ipynb",
   "parameters": {},
   "start_time": "2023-04-23T12:42:12.928642",
   "version": "2.4.0"
  }
 },
 "nbformat": 4,
 "nbformat_minor": 5
}
