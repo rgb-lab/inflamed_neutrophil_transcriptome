{
 "cells": [
  {
   "cell_type": "code",
   "execution_count": null,
   "id": "f87ed95b-2b67-4a5a-8fe2-47359b1dd2a9",
   "metadata": {
    "execution": {
     "iopub.execute_input": "2023-04-23T13:33:07.863689Z",
     "iopub.status.busy": "2023-04-23T13:33:07.863536Z",
     "iopub.status.idle": "2023-04-23T13:33:07.868183Z",
     "shell.execute_reply": "2023-04-23T13:33:07.867870Z"
    },
    "papermill": {
     "duration": 0.008465,
     "end_time": "2023-04-23T13:33:07.869076",
     "exception": false,
     "start_time": "2023-04-23T13:33:07.860611",
     "status": "completed"
    },
    "tags": []
   },
   "outputs": [],
   "source": [
    "import warnings\n",
    "warnings.simplefilter(action='ignore', category=FutureWarning)\n",
    "warnings.simplefilter(action='ignore', category=UserWarning)"
   ]
  },
  {
   "cell_type": "code",
   "execution_count": null,
   "id": "85161f19-b2c5-490b-8cab-c2cf9653b304",
   "metadata": {
    "execution": {
     "iopub.execute_input": "2023-04-23T13:33:07.874216Z",
     "iopub.status.busy": "2023-04-23T13:33:07.873990Z",
     "iopub.status.idle": "2023-04-23T13:33:11.812966Z",
     "shell.execute_reply": "2023-04-23T13:33:11.812487Z"
    },
    "papermill": {
     "duration": 3.942854,
     "end_time": "2023-04-23T13:33:11.814355",
     "exception": false,
     "start_time": "2023-04-23T13:33:07.871501",
     "status": "completed"
    },
    "tags": []
   },
   "outputs": [],
   "source": [
    "import gc\n",
    "import scanpy as sc\n",
    "import muon as mu\n",
    "import seaborn as sns\n",
    "import os\n",
    "import pandas as pd\n",
    "from matplotlib import pyplot as plt\n",
    "\n",
    "os.environ['R_HOME'] = '/gpfs/bwfor/work/ws/hd_fu399-conda/conda/envs/python_R/lib/R/'\n",
    "import anndata2ri\n",
    "import logging\n",
    "\n",
    "import rpy2.rinterface_lib.callbacks as rcb\n",
    "import rpy2.robjects as ro\n",
    "\n",
    "rcb.logger.setLevel(logging.ERROR)\n",
    "ro.pandas2ri.activate()\n",
    "anndata2ri.activate()\n",
    "\n",
    "%load_ext rpy2.ipython"
   ]
  },
  {
   "cell_type": "code",
   "execution_count": null,
   "id": "fc4ade78-b728-4704-9db6-45fbaab62ba1",
   "metadata": {
    "execution": {
     "iopub.execute_input": "2023-04-23T13:33:11.822136Z",
     "iopub.status.busy": "2023-04-23T13:33:11.821830Z",
     "iopub.status.idle": "2023-04-23T13:33:21.276210Z",
     "shell.execute_reply": "2023-04-23T13:33:21.275734Z"
    },
    "papermill": {
     "duration": 9.45841,
     "end_time": "2023-04-23T13:33:21.277472",
     "exception": false,
     "start_time": "2023-04-23T13:33:11.819062",
     "status": "completed"
    },
    "tags": []
   },
   "outputs": [],
   "source": [
    "%%R\n",
    "library(SoupX)\n",
    "library(Seurat)\n",
    "library(scater)\n",
    "library(scDblFinder)\n",
    "library(BiocParallel)\n",
    "library(MuDataSeurat)\n",
    "library(DropletUtils)"
   ]
  },
  {
   "cell_type": "code",
   "execution_count": null,
   "id": "611e4882-fc48-43d1-b1cd-e65e1bde0015",
   "metadata": {
    "execution": {
     "iopub.execute_input": "2023-04-23T13:33:21.285257Z",
     "iopub.status.busy": "2023-04-23T13:33:21.285109Z",
     "iopub.status.idle": "2023-04-23T13:33:21.287673Z",
     "shell.execute_reply": "2023-04-23T13:33:21.287308Z"
    },
    "papermill": {
     "duration": 0.006404,
     "end_time": "2023-04-23T13:33:21.288502",
     "exception": false,
     "start_time": "2023-04-23T13:33:21.282098",
     "status": "completed"
    },
    "tags": []
   },
   "outputs": [],
   "source": [
    "sample_name = \"ERR7425205\""
   ]
  },
  {
   "cell_type": "code",
   "execution_count": null,
   "id": "f7424d90-7690-4290-8651-1db3f9df3a35",
   "metadata": {
    "execution": {
     "iopub.execute_input": "2023-04-23T13:33:21.293579Z",
     "iopub.status.busy": "2023-04-23T13:33:21.293448Z",
     "iopub.status.idle": "2023-04-23T13:33:21.300677Z",
     "shell.execute_reply": "2023-04-23T13:33:21.300365Z"
    },
    "papermill": {
     "duration": 0.010756,
     "end_time": "2023-04-23T13:33:21.301501",
     "exception": false,
     "start_time": "2023-04-23T13:33:21.290745",
     "status": "completed"
    },
    "tags": []
   },
   "outputs": [],
   "source": [
    "metadata = pd.read_csv(\"../../metadata.csv\", index_col = 0)"
   ]
  },
  {
   "cell_type": "code",
   "execution_count": null,
   "id": "2574ecf1-bad4-4c33-8f3f-718a358727ab",
   "metadata": {
    "execution": {
     "iopub.execute_input": "2023-04-23T13:33:21.306547Z",
     "iopub.status.busy": "2023-04-23T13:33:21.306418Z",
     "iopub.status.idle": "2023-04-23T13:33:21.308413Z",
     "shell.execute_reply": "2023-04-23T13:33:21.308117Z"
    },
    "papermill": {
     "duration": 0.005451,
     "end_time": "2023-04-23T13:33:21.309194",
     "exception": false,
     "start_time": "2023-04-23T13:33:21.303743",
     "status": "completed"
    },
    "tags": []
   },
   "outputs": [],
   "source": [
    "raw_input = f\"/home/hd/hd_hd/hd_fu399/sds-hd/sd21k006/scRNAseq/revision_natcomm/montaldo_et_al/{sample_name}/{sample_name}/outs/raw_feature_bc_matrix.h5\""
   ]
  },
  {
   "cell_type": "code",
   "execution_count": null,
   "id": "e266d388-1802-435c-93a5-90067358739c",
   "metadata": {
    "execution": {
     "iopub.execute_input": "2023-04-23T13:33:21.314345Z",
     "iopub.status.busy": "2023-04-23T13:33:21.314137Z",
     "iopub.status.idle": "2023-04-23T13:33:22.067883Z",
     "shell.execute_reply": "2023-04-23T13:33:22.067456Z"
    },
    "papermill": {
     "duration": 0.757422,
     "end_time": "2023-04-23T13:33:22.068862",
     "exception": false,
     "start_time": "2023-04-23T13:33:21.311440",
     "status": "completed"
    },
    "tags": []
   },
   "outputs": [],
   "source": [
    "dataset = sc.read_10x_h5(raw_input)\n",
    "dataset.var_names_make_unique()\n",
    "dataset.obs_names_make_unique()\n",
    "\n",
    "dataset.layers[\"raw_counts\"] = dataset.X.copy()\n",
    "data_tod = dataset.layers[\"raw_counts\"].T.copy()\n",
    "\n",
    "dataset"
   ]
  },
  {
   "cell_type": "code",
   "execution_count": null,
   "id": "af9f5892-ed31-42a6-991b-4e096f582cef",
   "metadata": {
    "execution": {
     "iopub.execute_input": "2023-04-23T13:33:22.074847Z",
     "iopub.status.busy": "2023-04-23T13:33:22.074697Z",
     "iopub.status.idle": "2023-04-23T13:33:22.150410Z",
     "shell.execute_reply": "2023-04-23T13:33:22.149942Z"
    },
    "papermill": {
     "duration": 0.079967,
     "end_time": "2023-04-23T13:33:22.151779",
     "exception": false,
     "start_time": "2023-04-23T13:33:22.071812",
     "status": "completed"
    },
    "tags": []
   },
   "outputs": [],
   "source": [
    "sce = dataset.copy()"
   ]
  },
  {
   "cell_type": "code",
   "execution_count": null,
   "id": "d03f2caf-8e74-430e-b045-0ab80401d165",
   "metadata": {
    "execution": {
     "iopub.execute_input": "2023-04-23T13:33:22.157652Z",
     "iopub.status.busy": "2023-04-23T13:33:22.157494Z",
     "iopub.status.idle": "2023-04-23T13:34:24.554266Z",
     "shell.execute_reply": "2023-04-23T13:34:24.553663Z"
    },
    "papermill": {
     "duration": 62.401486,
     "end_time": "2023-04-23T13:34:24.556049",
     "exception": false,
     "start_time": "2023-04-23T13:33:22.154563",
     "status": "completed"
    },
    "tags": []
   },
   "outputs": [],
   "source": [
    "%%R -i sce -o empty_drop_output\n",
    "set.seed(187)\n",
    "empty_drop_output <- emptyDrops(assay(sce))"
   ]
  },
  {
   "cell_type": "code",
   "execution_count": null,
   "id": "2a34a54b-3ae2-44d6-8679-8769228c5b66",
   "metadata": {
    "execution": {
     "iopub.execute_input": "2023-04-23T13:34:24.564768Z",
     "iopub.status.busy": "2023-04-23T13:34:24.564592Z",
     "iopub.status.idle": "2023-04-23T13:34:24.600873Z",
     "shell.execute_reply": "2023-04-23T13:34:24.600518Z"
    },
    "papermill": {
     "duration": 0.040537,
     "end_time": "2023-04-23T13:34:24.601813",
     "exception": false,
     "start_time": "2023-04-23T13:34:24.561276",
     "status": "completed"
    },
    "tags": []
   },
   "outputs": [],
   "source": [
    "non_empty_barcodes = empty_drop_output[empty_drop_output[\"FDR\"] < 0.001].index\n",
    "dataset = dataset[dataset.obs.index.isin(non_empty_barcodes), :]\n",
    "dataset"
   ]
  },
  {
   "cell_type": "code",
   "execution_count": null,
   "id": "016a91e5-1bef-46fb-b91e-4fb9a6870c44",
   "metadata": {
    "execution": {
     "iopub.execute_input": "2023-04-23T13:34:24.607770Z",
     "iopub.status.busy": "2023-04-23T13:34:24.607504Z",
     "iopub.status.idle": "2023-04-23T13:34:31.720302Z",
     "shell.execute_reply": "2023-04-23T13:34:31.719815Z"
    },
    "papermill": {
     "duration": 7.117073,
     "end_time": "2023-04-23T13:34:31.721586",
     "exception": false,
     "start_time": "2023-04-23T13:34:24.604513",
     "status": "completed"
    },
    "tags": []
   },
   "outputs": [],
   "source": [
    "rna_assay = dataset.copy()\n",
    "sc.pp.normalize_per_cell(rna_assay)\n",
    "sc.pp.log1p(rna_assay)\n",
    "sc.pp.pca(rna_assay)\n",
    "sc.pp.neighbors(rna_assay)\n",
    "sc.tl.leiden(rna_assay, key_added=\"soupx_groups\")\n",
    "\n",
    "soupx_groups = rna_assay.obs[\"soupx_groups\"]\n",
    "\n",
    "del rna_assay\n",
    "\n",
    "genes = dataset.var_names\n",
    "cells = dataset.obs_names\n",
    "data = dataset.X.T.copy()"
   ]
  },
  {
   "cell_type": "code",
   "execution_count": null,
   "id": "9db4ea1f-1580-4f43-a3f0-86002397cd98",
   "metadata": {
    "execution": {
     "iopub.execute_input": "2023-04-23T13:34:31.730145Z",
     "iopub.status.busy": "2023-04-23T13:34:31.729956Z",
     "iopub.status.idle": "2023-04-23T13:34:49.464083Z",
     "shell.execute_reply": "2023-04-23T13:34:49.463609Z"
    },
    "papermill": {
     "duration": 17.738456,
     "end_time": "2023-04-23T13:34:49.465326",
     "exception": false,
     "start_time": "2023-04-23T13:34:31.726870",
     "status": "completed"
    },
    "tags": []
   },
   "outputs": [],
   "source": [
    "%%R -i data -i data_tod -i genes -i cells -i soupx_groups -o out \n",
    "set.seed(187)\n",
    "# specify row and column names of data\n",
    "rownames(data) = genes\n",
    "colnames(data) = cells\n",
    "# ensure correct sparse format for table of counts and table of droplets\n",
    "data <- as(data, \"sparseMatrix\")\n",
    "data_tod <- as(data_tod, \"sparseMatrix\")\n",
    "\n",
    "# Generate SoupChannel Object for SoupX \n",
    "sc = SoupChannel(data_tod, data, calcSoupProfile = FALSE)\n",
    "\n",
    "# Add extra meta data to the SoupChannel object\n",
    "soupProf = data.frame(row.names = rownames(data),\n",
    "                      est = rowSums(data)/sum(data),\n",
    "                      counts = rowSums(data))\n",
    "sc = setSoupProfile(sc, soupProf)\n",
    "# Set cluster information in SoupChannel\n",
    "sc = setClusters(sc, soupx_groups)\n",
    "\n",
    "# Estimate contamination fraction\n",
    "sc  = autoEstCont(sc, doPlot=FALSE, forceAccept = TRUE)\n",
    "# Infer corrected table of counts and rount to integer\n",
    "out = adjustCounts(sc, roundToInt = TRUE)"
   ]
  },
  {
   "cell_type": "code",
   "execution_count": null,
   "id": "32555d5e-5fa3-46dd-a4e0-ddc96ea265e2",
   "metadata": {
    "execution": {
     "iopub.execute_input": "2023-04-23T13:34:49.479548Z",
     "iopub.status.busy": "2023-04-23T13:34:49.479392Z",
     "iopub.status.idle": "2023-04-23T13:34:49.510700Z",
     "shell.execute_reply": "2023-04-23T13:34:49.510289Z"
    },
    "papermill": {
     "duration": 0.035752,
     "end_time": "2023-04-23T13:34:49.511977",
     "exception": false,
     "start_time": "2023-04-23T13:34:49.476225",
     "status": "completed"
    },
    "tags": []
   },
   "outputs": [],
   "source": [
    "dataset.layers[\"soupX_counts\"] = out.T\n",
    "dataset.X = dataset.layers[\"soupX_counts\"].copy()"
   ]
  },
  {
   "cell_type": "code",
   "execution_count": null,
   "id": "e27da7df-e094-4d2a-9109-5a363e012175",
   "metadata": {
    "execution": {
     "iopub.execute_input": "2023-04-23T13:34:49.518772Z",
     "iopub.status.busy": "2023-04-23T13:34:49.518448Z",
     "iopub.status.idle": "2023-04-23T13:34:49.520737Z",
     "shell.execute_reply": "2023-04-23T13:34:49.520419Z"
    },
    "papermill": {
     "duration": 0.006187,
     "end_time": "2023-04-23T13:34:49.521536",
     "exception": false,
     "start_time": "2023-04-23T13:34:49.515349",
     "status": "completed"
    },
    "tags": []
   },
   "outputs": [],
   "source": [
    "data_mat = dataset.X.T"
   ]
  },
  {
   "cell_type": "code",
   "execution_count": null,
   "id": "80a993b1-5ccb-4697-9187-1beb7ab8aff9",
   "metadata": {
    "execution": {
     "iopub.execute_input": "2023-04-23T13:34:49.527080Z",
     "iopub.status.busy": "2023-04-23T13:34:49.526929Z",
     "iopub.status.idle": "2023-04-23T13:35:25.896016Z",
     "shell.execute_reply": "2023-04-23T13:35:25.895439Z"
    },
    "papermill": {
     "duration": 36.373332,
     "end_time": "2023-04-23T13:35:25.897386",
     "exception": false,
     "start_time": "2023-04-23T13:34:49.524054",
     "status": "completed"
    },
    "tags": []
   },
   "outputs": [],
   "source": [
    "%%R -i data_mat -o droplet_class\n",
    "\n",
    "set.seed(187)\n",
    "sce = scDblFinder(\n",
    "    SingleCellExperiment(\n",
    "        list(counts=data_mat),\n",
    "    ) \n",
    ")\n",
    "droplet_class = sce$scDblFinder.class"
   ]
  },
  {
   "cell_type": "code",
   "execution_count": null,
   "id": "d4dd6e9d-fcf2-41fc-8457-c8e0a3cb2c71",
   "metadata": {
    "execution": {
     "iopub.execute_input": "2023-04-23T13:35:25.906512Z",
     "iopub.status.busy": "2023-04-23T13:35:25.906214Z",
     "iopub.status.idle": "2023-04-23T13:35:25.910762Z",
     "shell.execute_reply": "2023-04-23T13:35:25.910444Z"
    },
    "papermill": {
     "duration": 0.008762,
     "end_time": "2023-04-23T13:35:25.911537",
     "exception": false,
     "start_time": "2023-04-23T13:35:25.902775",
     "status": "completed"
    },
    "tags": []
   },
   "outputs": [],
   "source": [
    "dataset.obs[\"scDblFinder_class\"] = droplet_class\n",
    "dataset.obs.scDblFinder_class.value_counts()\n",
    "dataset"
   ]
  },
  {
   "cell_type": "code",
   "execution_count": null,
   "id": "28c95014-2d6c-477f-95cb-9f9f0507520c",
   "metadata": {
    "execution": {
     "iopub.execute_input": "2023-04-23T13:35:25.917694Z",
     "iopub.status.busy": "2023-04-23T13:35:25.917460Z",
     "iopub.status.idle": "2023-04-23T13:35:25.920654Z",
     "shell.execute_reply": "2023-04-23T13:35:25.920342Z"
    },
    "papermill": {
     "duration": 0.00718,
     "end_time": "2023-04-23T13:35:25.921454",
     "exception": false,
     "start_time": "2023-04-23T13:35:25.914274",
     "status": "completed"
    },
    "tags": []
   },
   "outputs": [],
   "source": [
    "dataset = dataset[dataset.obs[\"scDblFinder_class\"] == 1]"
   ]
  },
  {
   "cell_type": "code",
   "execution_count": null,
   "id": "3e22f9e0-bfcb-416c-a151-a9bca3bec3b9",
   "metadata": {
    "execution": {
     "iopub.execute_input": "2023-04-23T13:35:25.927633Z",
     "iopub.status.busy": "2023-04-23T13:35:25.927360Z",
     "iopub.status.idle": "2023-04-23T13:35:26.081490Z",
     "shell.execute_reply": "2023-04-23T13:35:26.081051Z"
    },
    "papermill": {
     "duration": 0.158274,
     "end_time": "2023-04-23T13:35:26.082444",
     "exception": false,
     "start_time": "2023-04-23T13:35:25.924170",
     "status": "completed"
    },
    "tags": []
   },
   "outputs": [],
   "source": [
    "# mitochondrial genes\n",
    "dataset.var[\"mt\"] = dataset.var_names.str.startswith(\"MT-\")\n",
    "# ribosomal genes\n",
    "dataset.var[\"ribo\"] = dataset.var_names.str.startswith((\"RPS\", \"RPL\"))\n",
    "# hemoglobin genes.\n",
    "dataset.var[\"hb\"] = dataset.var_names.str.contains((\"^HB[^(P)]\"))\n",
    "\n",
    "sc.pp.calculate_qc_metrics(dataset,\n",
    "                           qc_vars=['mt', 'ribo', 'hb'],\n",
    "                           percent_top=None,\n",
    "                           log1p=False,\n",
    "                           inplace=True)\n",
    "dataset"
   ]
  },
  {
   "cell_type": "code",
   "execution_count": null,
   "id": "34deee79-4043-428f-8575-aa57b45f6369",
   "metadata": {
    "execution": {
     "iopub.execute_input": "2023-04-23T13:35:26.089599Z",
     "iopub.status.busy": "2023-04-23T13:35:26.089307Z",
     "iopub.status.idle": "2023-04-23T13:35:26.748394Z",
     "shell.execute_reply": "2023-04-23T13:35:26.748000Z"
    },
    "papermill": {
     "duration": 0.663428,
     "end_time": "2023-04-23T13:35:26.749262",
     "exception": false,
     "start_time": "2023-04-23T13:35:26.085834",
     "status": "completed"
    },
    "tags": []
   },
   "outputs": [],
   "source": [
    "fig, ax = plt.subplots(ncols = 4, figsize = (16,4))\n",
    "axis = sc.pl.violin(dataset, \"n_genes_by_counts\", jitter = 0.4, ax = ax[0], show = False)\n",
    "axis.grid(False)\n",
    "axis.set_title(\"Unique Genes per cell\")\n",
    "axis.tick_params(axis = \"x\", bottom =False, labelbottom =False)\n",
    "axis.set_ylabel(\"# genes\")\n",
    "axis.axhline(y = 250, color = \"black\", label = \"cutoff\")\n",
    "axis.legend(fontsize = 14, loc = \"upper right\")\n",
    "\n",
    "axis = sc.pl.violin(dataset, \"pct_counts_mt\", jitter = 0.4, ax = ax[1], show = False)\n",
    "axis.grid(False)\n",
    "axis.set_title(\"Mitochondrial Fraction\")\n",
    "axis.tick_params(axis = \"x\", bottom =False, labelbottom =False)\n",
    "axis.set_ylabel(\"% mitochondrial genes\")\n",
    "axis.axhline(y = 10, color = \"black\", label = \"cutoff\")\n",
    "axis.legend(fontsize = 14, loc = \"upper right\")\n",
    "\n",
    "axis = sc.pl.violin(dataset, \"pct_counts_hb\", jitter = 0.4, ax = ax[2], show = False, size =2)\n",
    "axis.grid(False)\n",
    "axis.set_title(\"Hemoglobin Fraction\")\n",
    "axis.tick_params(axis = \"x\", bottom =False, labelbottom =False)\n",
    "axis.set_ylabel(\"% hemoglobin genes\")\n",
    "axis.axhline(y = 1, color = \"black\", label = \"cutoff\")\n",
    "axis.legend(fontsize = 14, loc = \"upper right\")\n",
    "#axis.set_ylim(0,5)\n",
    "\n",
    "axis = sc.pl.violin(dataset, \"pct_counts_ribo\", jitter = 0.4, ax = ax[3], show = False)\n",
    "axis.grid(False)\n",
    "axis.set_title(\"Ribosomal Fraction\")\n",
    "axis.tick_params(axis = \"x\", bottom =False, labelbottom =False)\n",
    "axis.set_ylabel(\"% ribosome genes\")\n",
    "\n",
    "plt.tight_layout()\n",
    "#plt.savefig(f\"{outputDir}08_gene_based_filtering.pdf\", dpi = 300)\n",
    "plt.show()\n",
    "\n"
   ]
  },
  {
   "cell_type": "code",
   "execution_count": null,
   "id": "d7ade754-843e-4840-8707-426613d8c0c5",
   "metadata": {
    "execution": {
     "iopub.execute_input": "2023-04-23T13:35:26.757995Z",
     "iopub.status.busy": "2023-04-23T13:35:26.757837Z",
     "iopub.status.idle": "2023-04-23T13:35:26.767231Z",
     "shell.execute_reply": "2023-04-23T13:35:26.766898Z"
    },
    "papermill": {
     "duration": 0.014293,
     "end_time": "2023-04-23T13:35:26.767995",
     "exception": false,
     "start_time": "2023-04-23T13:35:26.753702",
     "status": "completed"
    },
    "tags": []
   },
   "outputs": [],
   "source": [
    "dataset = dataset[dataset.obs.pct_counts_mt < 10, :]\n",
    "dataset = dataset[dataset.obs.n_genes_by_counts > 250, :]\n",
    "dataset = dataset[dataset.obs.pct_counts_hb < 1, :]\n",
    "dataset"
   ]
  },
  {
   "cell_type": "code",
   "execution_count": null,
   "id": "2e0ff8c3-2aa9-4a01-9b88-5912a6734447",
   "metadata": {
    "execution": {
     "iopub.execute_input": "2023-04-23T13:35:26.775920Z",
     "iopub.status.busy": "2023-04-23T13:35:26.775760Z",
     "iopub.status.idle": "2023-04-23T13:35:26.835343Z",
     "shell.execute_reply": "2023-04-23T13:35:26.834880Z"
    },
    "papermill": {
     "duration": 0.064845,
     "end_time": "2023-04-23T13:35:26.836554",
     "exception": false,
     "start_time": "2023-04-23T13:35:26.771709",
     "status": "completed"
    },
    "tags": []
   },
   "outputs": [],
   "source": [
    "for col in metadata.columns:\n",
    "    dataset.obs[col] = metadata.loc[(metadata[\"ENA_RUN\"] == sample_name) & (metadata[\"read_index\"] == \"read1\"), col].to_list()[0]"
   ]
  },
  {
   "cell_type": "code",
   "execution_count": null,
   "id": "b84578d3-d63e-419c-a272-a0b8317d05ab",
   "metadata": {
    "execution": {
     "iopub.execute_input": "2023-04-23T13:35:26.845048Z",
     "iopub.status.busy": "2023-04-23T13:35:26.844876Z",
     "iopub.status.idle": "2023-04-23T13:35:27.097147Z",
     "shell.execute_reply": "2023-04-23T13:35:27.096648Z"
    },
    "papermill": {
     "duration": 0.257858,
     "end_time": "2023-04-23T13:35:27.098499",
     "exception": false,
     "start_time": "2023-04-23T13:35:26.840641",
     "status": "completed"
    },
    "tags": []
   },
   "outputs": [],
   "source": [
    "dataset.write(f\"../../int_data/{sample_name}_qc.h5ad\")"
   ]
  }
 ],
 "metadata": {
  "kernelspec": {
   "display_name": "py_R",
   "language": "python",
   "name": "python_r"
  },
  "language_info": {
   "codemirror_mode": {
    "name": "ipython",
    "version": 3
   },
   "file_extension": ".py",
   "mimetype": "text/x-python",
   "name": "python",
   "nbconvert_exporter": "python",
   "pygments_lexer": "ipython3",
   "version": "3.10.9"
  },
  "papermill": {
   "default_parameters": {},
   "duration": 141.627894,
   "end_time": "2023-04-23T13:35:28.620538",
   "environment_variables": {},
   "exception": null,
   "input_path": "ERR7425205.ipynb",
   "output_path": "ERR7425205.ipynb",
   "parameters": {},
   "start_time": "2023-04-23T13:33:06.992644",
   "version": "2.4.0"
  }
 },
 "nbformat": 4,
 "nbformat_minor": 5
}
