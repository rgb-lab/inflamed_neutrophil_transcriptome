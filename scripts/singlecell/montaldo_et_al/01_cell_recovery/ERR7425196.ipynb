{
 "cells": [
  {
   "cell_type": "code",
   "execution_count": null,
   "id": "f87ed95b-2b67-4a5a-8fe2-47359b1dd2a9",
   "metadata": {
    "execution": {
     "iopub.execute_input": "2023-04-23T12:58:18.096546Z",
     "iopub.status.busy": "2023-04-23T12:58:18.096380Z",
     "iopub.status.idle": "2023-04-23T12:58:18.101203Z",
     "shell.execute_reply": "2023-04-23T12:58:18.100871Z"
    },
    "papermill": {
     "duration": 0.008844,
     "end_time": "2023-04-23T12:58:18.102046",
     "exception": false,
     "start_time": "2023-04-23T12:58:18.093202",
     "status": "completed"
    },
    "tags": []
   },
   "outputs": [],
   "source": [
    "import warnings\n",
    "warnings.simplefilter(action='ignore', category=FutureWarning)\n",
    "warnings.simplefilter(action='ignore', category=UserWarning)"
   ]
  },
  {
   "cell_type": "code",
   "execution_count": null,
   "id": "85161f19-b2c5-490b-8cab-c2cf9653b304",
   "metadata": {
    "execution": {
     "iopub.execute_input": "2023-04-23T12:58:18.107190Z",
     "iopub.status.busy": "2023-04-23T12:58:18.106906Z",
     "iopub.status.idle": "2023-04-23T12:58:22.092657Z",
     "shell.execute_reply": "2023-04-23T12:58:22.092196Z"
    },
    "papermill": {
     "duration": 3.989676,
     "end_time": "2023-04-23T12:58:22.094046",
     "exception": false,
     "start_time": "2023-04-23T12:58:18.104370",
     "status": "completed"
    },
    "tags": []
   },
   "outputs": [],
   "source": [
    "import gc\n",
    "import scanpy as sc\n",
    "import muon as mu\n",
    "import seaborn as sns\n",
    "import os\n",
    "import pandas as pd\n",
    "from matplotlib import pyplot as plt\n",
    "\n",
    "os.environ['R_HOME'] = '/gpfs/bwfor/work/ws/hd_fu399-conda/conda/envs/python_R/lib/R/'\n",
    "import anndata2ri\n",
    "import logging\n",
    "\n",
    "import rpy2.rinterface_lib.callbacks as rcb\n",
    "import rpy2.robjects as ro\n",
    "\n",
    "rcb.logger.setLevel(logging.ERROR)\n",
    "ro.pandas2ri.activate()\n",
    "anndata2ri.activate()\n",
    "\n",
    "%load_ext rpy2.ipython"
   ]
  },
  {
   "cell_type": "code",
   "execution_count": null,
   "id": "fc4ade78-b728-4704-9db6-45fbaab62ba1",
   "metadata": {
    "execution": {
     "iopub.execute_input": "2023-04-23T12:58:22.099903Z",
     "iopub.status.busy": "2023-04-23T12:58:22.099623Z",
     "iopub.status.idle": "2023-04-23T12:58:31.461340Z",
     "shell.execute_reply": "2023-04-23T12:58:31.460757Z"
    },
    "papermill": {
     "duration": 9.365687,
     "end_time": "2023-04-23T12:58:31.462630",
     "exception": false,
     "start_time": "2023-04-23T12:58:22.096943",
     "status": "completed"
    },
    "tags": []
   },
   "outputs": [],
   "source": [
    "%%R\n",
    "library(SoupX)\n",
    "library(Seurat)\n",
    "library(scater)\n",
    "library(scDblFinder)\n",
    "library(BiocParallel)\n",
    "library(MuDataSeurat)\n",
    "library(DropletUtils)"
   ]
  },
  {
   "cell_type": "code",
   "execution_count": null,
   "id": "611e4882-fc48-43d1-b1cd-e65e1bde0015",
   "metadata": {
    "execution": {
     "iopub.execute_input": "2023-04-23T12:58:31.470089Z",
     "iopub.status.busy": "2023-04-23T12:58:31.469928Z",
     "iopub.status.idle": "2023-04-23T12:58:31.472462Z",
     "shell.execute_reply": "2023-04-23T12:58:31.472127Z"
    },
    "papermill": {
     "duration": 0.006217,
     "end_time": "2023-04-23T12:58:31.473293",
     "exception": false,
     "start_time": "2023-04-23T12:58:31.467076",
     "status": "completed"
    },
    "tags": []
   },
   "outputs": [],
   "source": [
    "sample_name = \"ERR7425196\""
   ]
  },
  {
   "cell_type": "code",
   "execution_count": null,
   "id": "f7424d90-7690-4290-8651-1db3f9df3a35",
   "metadata": {
    "execution": {
     "iopub.execute_input": "2023-04-23T12:58:31.478170Z",
     "iopub.status.busy": "2023-04-23T12:58:31.478037Z",
     "iopub.status.idle": "2023-04-23T12:58:31.484930Z",
     "shell.execute_reply": "2023-04-23T12:58:31.484608Z"
    },
    "papermill": {
     "duration": 0.010292,
     "end_time": "2023-04-23T12:58:31.485733",
     "exception": false,
     "start_time": "2023-04-23T12:58:31.475441",
     "status": "completed"
    },
    "tags": []
   },
   "outputs": [],
   "source": [
    "metadata = pd.read_csv(\"../../metadata.csv\", index_col = 0)"
   ]
  },
  {
   "cell_type": "code",
   "execution_count": null,
   "id": "2574ecf1-bad4-4c33-8f3f-718a358727ab",
   "metadata": {
    "execution": {
     "iopub.execute_input": "2023-04-23T12:58:31.490603Z",
     "iopub.status.busy": "2023-04-23T12:58:31.490472Z",
     "iopub.status.idle": "2023-04-23T12:58:31.492482Z",
     "shell.execute_reply": "2023-04-23T12:58:31.492185Z"
    },
    "papermill": {
     "duration": 0.005372,
     "end_time": "2023-04-23T12:58:31.493264",
     "exception": false,
     "start_time": "2023-04-23T12:58:31.487892",
     "status": "completed"
    },
    "tags": []
   },
   "outputs": [],
   "source": [
    "raw_input = f\"/home/hd/hd_hd/hd_fu399/sds-hd/sd21k006/scRNAseq/revision_natcomm/montaldo_et_al/{sample_name}/{sample_name}/outs/raw_feature_bc_matrix.h5\""
   ]
  },
  {
   "cell_type": "code",
   "execution_count": null,
   "id": "e266d388-1802-435c-93a5-90067358739c",
   "metadata": {
    "execution": {
     "iopub.execute_input": "2023-04-23T12:58:31.498453Z",
     "iopub.status.busy": "2023-04-23T12:58:31.498244Z",
     "iopub.status.idle": "2023-04-23T12:58:32.658452Z",
     "shell.execute_reply": "2023-04-23T12:58:32.658014Z"
    },
    "papermill": {
     "duration": 1.163902,
     "end_time": "2023-04-23T12:58:32.659379",
     "exception": false,
     "start_time": "2023-04-23T12:58:31.495477",
     "status": "completed"
    },
    "tags": []
   },
   "outputs": [],
   "source": [
    "dataset = sc.read_10x_h5(raw_input)\n",
    "dataset.var_names_make_unique()\n",
    "dataset.obs_names_make_unique()\n",
    "\n",
    "dataset.layers[\"raw_counts\"] = dataset.X.copy()\n",
    "data_tod = dataset.layers[\"raw_counts\"].T.copy()\n",
    "\n",
    "dataset"
   ]
  },
  {
   "cell_type": "code",
   "execution_count": null,
   "id": "af9f5892-ed31-42a6-991b-4e096f582cef",
   "metadata": {
    "execution": {
     "iopub.execute_input": "2023-04-23T12:58:32.665278Z",
     "iopub.status.busy": "2023-04-23T12:58:32.665120Z",
     "iopub.status.idle": "2023-04-23T12:58:32.783134Z",
     "shell.execute_reply": "2023-04-23T12:58:32.782654Z"
    },
    "papermill": {
     "duration": 0.122241,
     "end_time": "2023-04-23T12:58:32.784496",
     "exception": false,
     "start_time": "2023-04-23T12:58:32.662255",
     "status": "completed"
    },
    "tags": []
   },
   "outputs": [],
   "source": [
    "sce = dataset.copy()"
   ]
  },
  {
   "cell_type": "code",
   "execution_count": null,
   "id": "d03f2caf-8e74-430e-b045-0ab80401d165",
   "metadata": {
    "execution": {
     "iopub.execute_input": "2023-04-23T12:58:32.790536Z",
     "iopub.status.busy": "2023-04-23T12:58:32.790372Z",
     "iopub.status.idle": "2023-04-23T13:00:04.508738Z",
     "shell.execute_reply": "2023-04-23T13:00:04.508126Z"
    },
    "papermill": {
     "duration": 91.722772,
     "end_time": "2023-04-23T13:00:04.510214",
     "exception": false,
     "start_time": "2023-04-23T12:58:32.787442",
     "status": "completed"
    },
    "tags": []
   },
   "outputs": [],
   "source": [
    "%%R -i sce -o empty_drop_output\n",
    "set.seed(187)\n",
    "empty_drop_output <- emptyDrops(assay(sce))"
   ]
  },
  {
   "cell_type": "code",
   "execution_count": null,
   "id": "2a34a54b-3ae2-44d6-8679-8769228c5b66",
   "metadata": {
    "execution": {
     "iopub.execute_input": "2023-04-23T13:00:04.519875Z",
     "iopub.status.busy": "2023-04-23T13:00:04.519672Z",
     "iopub.status.idle": "2023-04-23T13:00:04.615438Z",
     "shell.execute_reply": "2023-04-23T13:00:04.615096Z"
    },
    "papermill": {
     "duration": 0.099907,
     "end_time": "2023-04-23T13:00:04.616380",
     "exception": false,
     "start_time": "2023-04-23T13:00:04.516473",
     "status": "completed"
    },
    "tags": []
   },
   "outputs": [],
   "source": [
    "non_empty_barcodes = empty_drop_output[empty_drop_output[\"FDR\"] < 0.001].index\n",
    "dataset = dataset[dataset.obs.index.isin(non_empty_barcodes), :]\n",
    "dataset"
   ]
  },
  {
   "cell_type": "code",
   "execution_count": null,
   "id": "016a91e5-1bef-46fb-b91e-4fb9a6870c44",
   "metadata": {
    "execution": {
     "iopub.execute_input": "2023-04-23T13:00:04.622305Z",
     "iopub.status.busy": "2023-04-23T13:00:04.622161Z",
     "iopub.status.idle": "2023-04-23T13:01:31.006524Z",
     "shell.execute_reply": "2023-04-23T13:01:31.006028Z"
    },
    "papermill": {
     "duration": 86.388766,
     "end_time": "2023-04-23T13:01:31.007869",
     "exception": false,
     "start_time": "2023-04-23T13:00:04.619103",
     "status": "completed"
    },
    "tags": []
   },
   "outputs": [],
   "source": [
    "rna_assay = dataset.copy()\n",
    "sc.pp.normalize_per_cell(rna_assay)\n",
    "sc.pp.log1p(rna_assay)\n",
    "sc.pp.pca(rna_assay)\n",
    "sc.pp.neighbors(rna_assay)\n",
    "sc.tl.leiden(rna_assay, key_added=\"soupx_groups\")\n",
    "\n",
    "soupx_groups = rna_assay.obs[\"soupx_groups\"]\n",
    "\n",
    "del rna_assay\n",
    "\n",
    "genes = dataset.var_names\n",
    "cells = dataset.obs_names\n",
    "data = dataset.X.T.copy()"
   ]
  },
  {
   "cell_type": "code",
   "execution_count": null,
   "id": "9db4ea1f-1580-4f43-a3f0-86002397cd98",
   "metadata": {
    "execution": {
     "iopub.execute_input": "2023-04-23T13:01:31.016900Z",
     "iopub.status.busy": "2023-04-23T13:01:31.016702Z",
     "iopub.status.idle": "2023-04-23T13:01:50.889804Z",
     "shell.execute_reply": "2023-04-23T13:01:50.889342Z"
    },
    "papermill": {
     "duration": 19.877663,
     "end_time": "2023-04-23T13:01:50.891139",
     "exception": false,
     "start_time": "2023-04-23T13:01:31.013476",
     "status": "completed"
    },
    "tags": []
   },
   "outputs": [],
   "source": [
    "%%R -i data -i data_tod -i genes -i cells -i soupx_groups -o out \n",
    "set.seed(187)\n",
    "# specify row and column names of data\n",
    "rownames(data) = genes\n",
    "colnames(data) = cells\n",
    "# ensure correct sparse format for table of counts and table of droplets\n",
    "data <- as(data, \"sparseMatrix\")\n",
    "data_tod <- as(data_tod, \"sparseMatrix\")\n",
    "\n",
    "# Generate SoupChannel Object for SoupX \n",
    "sc = SoupChannel(data_tod, data, calcSoupProfile = FALSE)\n",
    "\n",
    "# Add extra meta data to the SoupChannel object\n",
    "soupProf = data.frame(row.names = rownames(data),\n",
    "                      est = rowSums(data)/sum(data),\n",
    "                      counts = rowSums(data))\n",
    "sc = setSoupProfile(sc, soupProf)\n",
    "# Set cluster information in SoupChannel\n",
    "sc = setClusters(sc, soupx_groups)\n",
    "\n",
    "# Estimate contamination fraction\n",
    "sc  = autoEstCont(sc, doPlot=FALSE, forceAccept = TRUE)\n",
    "# Infer corrected table of counts and rount to integer\n",
    "out = adjustCounts(sc, roundToInt = TRUE)"
   ]
  },
  {
   "cell_type": "code",
   "execution_count": null,
   "id": "32555d5e-5fa3-46dd-a4e0-ddc96ea265e2",
   "metadata": {
    "execution": {
     "iopub.execute_input": "2023-04-23T13:01:50.899695Z",
     "iopub.status.busy": "2023-04-23T13:01:50.899533Z",
     "iopub.status.idle": "2023-04-23T13:01:50.954610Z",
     "shell.execute_reply": "2023-04-23T13:01:50.954148Z"
    },
    "papermill": {
     "duration": 0.059698,
     "end_time": "2023-04-23T13:01:50.955972",
     "exception": false,
     "start_time": "2023-04-23T13:01:50.896274",
     "status": "completed"
    },
    "tags": []
   },
   "outputs": [],
   "source": [
    "dataset.layers[\"soupX_counts\"] = out.T\n",
    "dataset.X = dataset.layers[\"soupX_counts\"].copy()"
   ]
  },
  {
   "cell_type": "code",
   "execution_count": null,
   "id": "e27da7df-e094-4d2a-9109-5a363e012175",
   "metadata": {
    "execution": {
     "iopub.execute_input": "2023-04-23T13:01:50.962385Z",
     "iopub.status.busy": "2023-04-23T13:01:50.962217Z",
     "iopub.status.idle": "2023-04-23T13:01:50.964630Z",
     "shell.execute_reply": "2023-04-23T13:01:50.964296Z"
    },
    "papermill": {
     "duration": 0.006404,
     "end_time": "2023-04-23T13:01:50.965407",
     "exception": false,
     "start_time": "2023-04-23T13:01:50.959003",
     "status": "completed"
    },
    "tags": []
   },
   "outputs": [],
   "source": [
    "data_mat = dataset.X.T"
   ]
  },
  {
   "cell_type": "code",
   "execution_count": null,
   "id": "80a993b1-5ccb-4697-9187-1beb7ab8aff9",
   "metadata": {
    "execution": {
     "iopub.execute_input": "2023-04-23T13:01:50.971265Z",
     "iopub.status.busy": "2023-04-23T13:01:50.971098Z",
     "iopub.status.idle": "2023-04-23T13:02:35.909922Z",
     "shell.execute_reply": "2023-04-23T13:02:35.909431Z"
    },
    "papermill": {
     "duration": 44.943083,
     "end_time": "2023-04-23T13:02:35.911102",
     "exception": false,
     "start_time": "2023-04-23T13:01:50.968019",
     "status": "completed"
    },
    "tags": []
   },
   "outputs": [],
   "source": [
    "%%R -i data_mat -o droplet_class\n",
    "\n",
    "set.seed(187)\n",
    "sce = scDblFinder(\n",
    "    SingleCellExperiment(\n",
    "        list(counts=data_mat),\n",
    "    ) \n",
    ")\n",
    "droplet_class = sce$scDblFinder.class"
   ]
  },
  {
   "cell_type": "code",
   "execution_count": null,
   "id": "d4dd6e9d-fcf2-41fc-8457-c8e0a3cb2c71",
   "metadata": {
    "execution": {
     "iopub.execute_input": "2023-04-23T13:02:35.919664Z",
     "iopub.status.busy": "2023-04-23T13:02:35.919526Z",
     "iopub.status.idle": "2023-04-23T13:02:35.924096Z",
     "shell.execute_reply": "2023-04-23T13:02:35.923767Z"
    },
    "papermill": {
     "duration": 0.008579,
     "end_time": "2023-04-23T13:02:35.924887",
     "exception": false,
     "start_time": "2023-04-23T13:02:35.916308",
     "status": "completed"
    },
    "tags": []
   },
   "outputs": [],
   "source": [
    "dataset.obs[\"scDblFinder_class\"] = droplet_class\n",
    "dataset.obs.scDblFinder_class.value_counts()\n",
    "dataset"
   ]
  },
  {
   "cell_type": "code",
   "execution_count": null,
   "id": "28c95014-2d6c-477f-95cb-9f9f0507520c",
   "metadata": {
    "execution": {
     "iopub.execute_input": "2023-04-23T13:02:35.932258Z",
     "iopub.status.busy": "2023-04-23T13:02:35.931963Z",
     "iopub.status.idle": "2023-04-23T13:02:35.946640Z",
     "shell.execute_reply": "2023-04-23T13:02:35.946301Z"
    },
    "papermill": {
     "duration": 0.019888,
     "end_time": "2023-04-23T13:02:35.947440",
     "exception": false,
     "start_time": "2023-04-23T13:02:35.927552",
     "status": "completed"
    },
    "tags": []
   },
   "outputs": [],
   "source": [
    "dataset = dataset[dataset.obs[\"scDblFinder_class\"] == 1]"
   ]
  },
  {
   "cell_type": "code",
   "execution_count": null,
   "id": "3e22f9e0-bfcb-416c-a151-a9bca3bec3b9",
   "metadata": {
    "execution": {
     "iopub.execute_input": "2023-04-23T13:02:35.953392Z",
     "iopub.status.busy": "2023-04-23T13:02:35.953237Z",
     "iopub.status.idle": "2023-04-23T13:02:36.173379Z",
     "shell.execute_reply": "2023-04-23T13:02:36.172934Z"
    },
    "papermill": {
     "duration": 0.224301,
     "end_time": "2023-04-23T13:02:36.174373",
     "exception": false,
     "start_time": "2023-04-23T13:02:35.950072",
     "status": "completed"
    },
    "tags": []
   },
   "outputs": [],
   "source": [
    "# mitochondrial genes\n",
    "dataset.var[\"mt\"] = dataset.var_names.str.startswith(\"MT-\")\n",
    "# ribosomal genes\n",
    "dataset.var[\"ribo\"] = dataset.var_names.str.startswith((\"RPS\", \"RPL\"))\n",
    "# hemoglobin genes.\n",
    "dataset.var[\"hb\"] = dataset.var_names.str.contains((\"^HB[^(P)]\"))\n",
    "\n",
    "sc.pp.calculate_qc_metrics(dataset,\n",
    "                           qc_vars=['mt', 'ribo', 'hb'],\n",
    "                           percent_top=None,\n",
    "                           log1p=False,\n",
    "                           inplace=True)\n",
    "dataset"
   ]
  },
  {
   "cell_type": "code",
   "execution_count": null,
   "id": "34deee79-4043-428f-8575-aa57b45f6369",
   "metadata": {
    "execution": {
     "iopub.execute_input": "2023-04-23T13:02:36.181338Z",
     "iopub.status.busy": "2023-04-23T13:02:36.181148Z",
     "iopub.status.idle": "2023-04-23T13:02:36.760374Z",
     "shell.execute_reply": "2023-04-23T13:02:36.760012Z"
    },
    "papermill": {
     "duration": 0.583701,
     "end_time": "2023-04-23T13:02:36.761460",
     "exception": false,
     "start_time": "2023-04-23T13:02:36.177759",
     "status": "completed"
    },
    "tags": []
   },
   "outputs": [],
   "source": [
    "fig, ax = plt.subplots(ncols = 4, figsize = (16,4))\n",
    "axis = sc.pl.violin(dataset, \"n_genes_by_counts\", jitter = 0.4, ax = ax[0], show = False)\n",
    "axis.grid(False)\n",
    "axis.set_title(\"Unique Genes per cell\")\n",
    "axis.tick_params(axis = \"x\", bottom =False, labelbottom =False)\n",
    "axis.set_ylabel(\"# genes\")\n",
    "axis.axhline(y = 250, color = \"black\", label = \"cutoff\")\n",
    "axis.legend(fontsize = 14, loc = \"upper right\")\n",
    "\n",
    "axis = sc.pl.violin(dataset, \"pct_counts_mt\", jitter = 0.4, ax = ax[1], show = False)\n",
    "axis.grid(False)\n",
    "axis.set_title(\"Mitochondrial Fraction\")\n",
    "axis.tick_params(axis = \"x\", bottom =False, labelbottom =False)\n",
    "axis.set_ylabel(\"% mitochondrial genes\")\n",
    "axis.axhline(y = 10, color = \"black\", label = \"cutoff\")\n",
    "axis.legend(fontsize = 14, loc = \"upper right\")\n",
    "\n",
    "axis = sc.pl.violin(dataset, \"pct_counts_hb\", jitter = 0.4, ax = ax[2], show = False, size =2)\n",
    "axis.grid(False)\n",
    "axis.set_title(\"Hemoglobin Fraction\")\n",
    "axis.tick_params(axis = \"x\", bottom =False, labelbottom =False)\n",
    "axis.set_ylabel(\"% hemoglobin genes\")\n",
    "axis.axhline(y = 1, color = \"black\", label = \"cutoff\")\n",
    "axis.legend(fontsize = 14, loc = \"upper right\")\n",
    "#axis.set_ylim(0,5)\n",
    "\n",
    "axis = sc.pl.violin(dataset, \"pct_counts_ribo\", jitter = 0.4, ax = ax[3], show = False)\n",
    "axis.grid(False)\n",
    "axis.set_title(\"Ribosomal Fraction\")\n",
    "axis.tick_params(axis = \"x\", bottom =False, labelbottom =False)\n",
    "axis.set_ylabel(\"% ribosome genes\")\n",
    "\n",
    "plt.tight_layout()\n",
    "#plt.savefig(f\"{outputDir}08_gene_based_filtering.pdf\", dpi = 300)\n",
    "plt.show()\n",
    "\n"
   ]
  },
  {
   "cell_type": "code",
   "execution_count": null,
   "id": "d7ade754-843e-4840-8707-426613d8c0c5",
   "metadata": {
    "execution": {
     "iopub.execute_input": "2023-04-23T13:02:36.769790Z",
     "iopub.status.busy": "2023-04-23T13:02:36.769650Z",
     "iopub.status.idle": "2023-04-23T13:02:36.781160Z",
     "shell.execute_reply": "2023-04-23T13:02:36.780827Z"
    },
    "papermill": {
     "duration": 0.016364,
     "end_time": "2023-04-23T13:02:36.781962",
     "exception": false,
     "start_time": "2023-04-23T13:02:36.765598",
     "status": "completed"
    },
    "tags": []
   },
   "outputs": [],
   "source": [
    "dataset = dataset[dataset.obs.pct_counts_mt < 10, :]\n",
    "dataset = dataset[dataset.obs.n_genes_by_counts > 250, :]\n",
    "dataset = dataset[dataset.obs.pct_counts_hb < 1, :]\n",
    "dataset"
   ]
  },
  {
   "cell_type": "code",
   "execution_count": null,
   "id": "2e0ff8c3-2aa9-4a01-9b88-5912a6734447",
   "metadata": {
    "execution": {
     "iopub.execute_input": "2023-04-23T13:02:36.789994Z",
     "iopub.status.busy": "2023-04-23T13:02:36.789852Z",
     "iopub.status.idle": "2023-04-23T13:02:36.864400Z",
     "shell.execute_reply": "2023-04-23T13:02:36.863941Z"
    },
    "papermill": {
     "duration": 0.080039,
     "end_time": "2023-04-23T13:02:36.865696",
     "exception": false,
     "start_time": "2023-04-23T13:02:36.785657",
     "status": "completed"
    },
    "tags": []
   },
   "outputs": [],
   "source": [
    "for col in metadata.columns:\n",
    "    dataset.obs[col] = metadata.loc[(metadata[\"ENA_RUN\"] == sample_name) & (metadata[\"read_index\"] == \"read1\"), col].to_list()[0]"
   ]
  },
  {
   "cell_type": "code",
   "execution_count": null,
   "id": "b84578d3-d63e-419c-a272-a0b8317d05ab",
   "metadata": {
    "execution": {
     "iopub.execute_input": "2023-04-23T13:02:36.874340Z",
     "iopub.status.busy": "2023-04-23T13:02:36.874137Z",
     "iopub.status.idle": "2023-04-23T13:02:37.149307Z",
     "shell.execute_reply": "2023-04-23T13:02:37.148837Z"
    },
    "papermill": {
     "duration": 0.280802,
     "end_time": "2023-04-23T13:02:37.150654",
     "exception": false,
     "start_time": "2023-04-23T13:02:36.869852",
     "status": "completed"
    },
    "tags": []
   },
   "outputs": [],
   "source": [
    "dataset.write(f\"../../int_data/{sample_name}_qc.h5ad\")"
   ]
  }
 ],
 "metadata": {
  "kernelspec": {
   "display_name": "py_R",
   "language": "python",
   "name": "python_r"
  },
  "language_info": {
   "codemirror_mode": {
    "name": "ipython",
    "version": 3
   },
   "file_extension": ".py",
   "mimetype": "text/x-python",
   "name": "python",
   "nbconvert_exporter": "python",
   "pygments_lexer": "ipython3",
   "version": "3.10.9"
  },
  "papermill": {
   "default_parameters": {},
   "duration": 262.893905,
   "end_time": "2023-04-23T13:02:40.261168",
   "environment_variables": {},
   "exception": null,
   "input_path": "ERR7425196.ipynb",
   "output_path": "ERR7425196.ipynb",
   "parameters": {},
   "start_time": "2023-04-23T12:58:17.367263",
   "version": "2.4.0"
  }
 },
 "nbformat": 4,
 "nbformat_minor": 5
}
