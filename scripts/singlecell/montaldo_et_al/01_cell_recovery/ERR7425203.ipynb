{
 "cells": [
  {
   "cell_type": "code",
   "execution_count": null,
   "id": "f87ed95b-2b67-4a5a-8fe2-47359b1dd2a9",
   "metadata": {
    "execution": {
     "iopub.execute_input": "2023-04-23T13:26:23.000700Z",
     "iopub.status.busy": "2023-04-23T13:26:23.000527Z",
     "iopub.status.idle": "2023-04-23T13:26:23.005288Z",
     "shell.execute_reply": "2023-04-23T13:26:23.004925Z"
    },
    "papermill": {
     "duration": 0.011422,
     "end_time": "2023-04-23T13:26:23.006125",
     "exception": false,
     "start_time": "2023-04-23T13:26:22.994703",
     "status": "completed"
    },
    "tags": []
   },
   "outputs": [],
   "source": [
    "import warnings\n",
    "warnings.simplefilter(action='ignore', category=FutureWarning)\n",
    "warnings.simplefilter(action='ignore', category=UserWarning)"
   ]
  },
  {
   "cell_type": "code",
   "execution_count": null,
   "id": "85161f19-b2c5-490b-8cab-c2cf9653b304",
   "metadata": {
    "execution": {
     "iopub.execute_input": "2023-04-23T13:26:23.011075Z",
     "iopub.status.busy": "2023-04-23T13:26:23.010945Z",
     "iopub.status.idle": "2023-04-23T13:26:26.999615Z",
     "shell.execute_reply": "2023-04-23T13:26:26.999155Z"
    },
    "papermill": {
     "duration": 3.992513,
     "end_time": "2023-04-23T13:26:27.000977",
     "exception": false,
     "start_time": "2023-04-23T13:26:23.008464",
     "status": "completed"
    },
    "tags": []
   },
   "outputs": [],
   "source": [
    "import gc\n",
    "import scanpy as sc\n",
    "import muon as mu\n",
    "import seaborn as sns\n",
    "import os\n",
    "import pandas as pd\n",
    "from matplotlib import pyplot as plt\n",
    "\n",
    "os.environ['R_HOME'] = '/gpfs/bwfor/work/ws/hd_fu399-conda/conda/envs/python_R/lib/R/'\n",
    "import anndata2ri\n",
    "import logging\n",
    "\n",
    "import rpy2.rinterface_lib.callbacks as rcb\n",
    "import rpy2.robjects as ro\n",
    "\n",
    "rcb.logger.setLevel(logging.ERROR)\n",
    "ro.pandas2ri.activate()\n",
    "anndata2ri.activate()\n",
    "\n",
    "%load_ext rpy2.ipython"
   ]
  },
  {
   "cell_type": "code",
   "execution_count": null,
   "id": "fc4ade78-b728-4704-9db6-45fbaab62ba1",
   "metadata": {
    "execution": {
     "iopub.execute_input": "2023-04-23T13:26:27.006661Z",
     "iopub.status.busy": "2023-04-23T13:26:27.006361Z",
     "iopub.status.idle": "2023-04-23T13:26:36.534416Z",
     "shell.execute_reply": "2023-04-23T13:26:36.533918Z"
    },
    "papermill": {
     "duration": 9.532071,
     "end_time": "2023-04-23T13:26:36.535734",
     "exception": false,
     "start_time": "2023-04-23T13:26:27.003663",
     "status": "completed"
    },
    "tags": []
   },
   "outputs": [],
   "source": [
    "%%R\n",
    "library(SoupX)\n",
    "library(Seurat)\n",
    "library(scater)\n",
    "library(scDblFinder)\n",
    "library(BiocParallel)\n",
    "library(MuDataSeurat)\n",
    "library(DropletUtils)"
   ]
  },
  {
   "cell_type": "code",
   "execution_count": null,
   "id": "611e4882-fc48-43d1-b1cd-e65e1bde0015",
   "metadata": {
    "execution": {
     "iopub.execute_input": "2023-04-23T13:26:36.543531Z",
     "iopub.status.busy": "2023-04-23T13:26:36.543394Z",
     "iopub.status.idle": "2023-04-23T13:26:36.545606Z",
     "shell.execute_reply": "2023-04-23T13:26:36.545305Z"
    },
    "papermill": {
     "duration": 0.006001,
     "end_time": "2023-04-23T13:26:36.546374",
     "exception": false,
     "start_time": "2023-04-23T13:26:36.540373",
     "status": "completed"
    },
    "tags": []
   },
   "outputs": [],
   "source": [
    "sample_name = \"ERR7425203\""
   ]
  },
  {
   "cell_type": "code",
   "execution_count": null,
   "id": "f7424d90-7690-4290-8651-1db3f9df3a35",
   "metadata": {
    "execution": {
     "iopub.execute_input": "2023-04-23T13:26:36.551428Z",
     "iopub.status.busy": "2023-04-23T13:26:36.551213Z",
     "iopub.status.idle": "2023-04-23T13:26:36.558179Z",
     "shell.execute_reply": "2023-04-23T13:26:36.557822Z"
    },
    "papermill": {
     "duration": 0.010473,
     "end_time": "2023-04-23T13:26:36.559068",
     "exception": false,
     "start_time": "2023-04-23T13:26:36.548595",
     "status": "completed"
    },
    "tags": []
   },
   "outputs": [],
   "source": [
    "metadata = pd.read_csv(\"../../metadata.csv\", index_col = 0)"
   ]
  },
  {
   "cell_type": "code",
   "execution_count": null,
   "id": "2574ecf1-bad4-4c33-8f3f-718a358727ab",
   "metadata": {
    "execution": {
     "iopub.execute_input": "2023-04-23T13:26:36.564375Z",
     "iopub.status.busy": "2023-04-23T13:26:36.564072Z",
     "iopub.status.idle": "2023-04-23T13:26:36.566143Z",
     "shell.execute_reply": "2023-04-23T13:26:36.565839Z"
    },
    "papermill": {
     "duration": 0.005496,
     "end_time": "2023-04-23T13:26:36.566884",
     "exception": false,
     "start_time": "2023-04-23T13:26:36.561388",
     "status": "completed"
    },
    "tags": []
   },
   "outputs": [],
   "source": [
    "raw_input = f\"/home/hd/hd_hd/hd_fu399/sds-hd/sd21k006/scRNAseq/revision_natcomm/montaldo_et_al/{sample_name}/{sample_name}/outs/raw_feature_bc_matrix.h5\""
   ]
  },
  {
   "cell_type": "code",
   "execution_count": null,
   "id": "e266d388-1802-435c-93a5-90067358739c",
   "metadata": {
    "execution": {
     "iopub.execute_input": "2023-04-23T13:26:36.571996Z",
     "iopub.status.busy": "2023-04-23T13:26:36.571809Z",
     "iopub.status.idle": "2023-04-23T13:26:37.304116Z",
     "shell.execute_reply": "2023-04-23T13:26:37.303665Z"
    },
    "papermill": {
     "duration": 0.735923,
     "end_time": "2023-04-23T13:26:37.305051",
     "exception": false,
     "start_time": "2023-04-23T13:26:36.569128",
     "status": "completed"
    },
    "tags": []
   },
   "outputs": [],
   "source": [
    "dataset = sc.read_10x_h5(raw_input)\n",
    "dataset.var_names_make_unique()\n",
    "dataset.obs_names_make_unique()\n",
    "\n",
    "dataset.layers[\"raw_counts\"] = dataset.X.copy()\n",
    "data_tod = dataset.layers[\"raw_counts\"].T.copy()\n",
    "\n",
    "dataset"
   ]
  },
  {
   "cell_type": "code",
   "execution_count": null,
   "id": "af9f5892-ed31-42a6-991b-4e096f582cef",
   "metadata": {
    "execution": {
     "iopub.execute_input": "2023-04-23T13:26:37.310995Z",
     "iopub.status.busy": "2023-04-23T13:26:37.310832Z",
     "iopub.status.idle": "2023-04-23T13:26:37.405016Z",
     "shell.execute_reply": "2023-04-23T13:26:37.404533Z"
    },
    "papermill": {
     "duration": 0.098467,
     "end_time": "2023-04-23T13:26:37.406411",
     "exception": false,
     "start_time": "2023-04-23T13:26:37.307944",
     "status": "completed"
    },
    "tags": []
   },
   "outputs": [],
   "source": [
    "sce = dataset.copy()"
   ]
  },
  {
   "cell_type": "code",
   "execution_count": null,
   "id": "d03f2caf-8e74-430e-b045-0ab80401d165",
   "metadata": {
    "execution": {
     "iopub.execute_input": "2023-04-23T13:26:37.412585Z",
     "iopub.status.busy": "2023-04-23T13:26:37.412401Z",
     "iopub.status.idle": "2023-04-23T13:27:40.840903Z",
     "shell.execute_reply": "2023-04-23T13:27:40.840317Z"
    },
    "papermill": {
     "duration": 63.433013,
     "end_time": "2023-04-23T13:27:40.842387",
     "exception": false,
     "start_time": "2023-04-23T13:26:37.409374",
     "status": "completed"
    },
    "tags": []
   },
   "outputs": [],
   "source": [
    "%%R -i sce -o empty_drop_output\n",
    "set.seed(187)\n",
    "empty_drop_output <- emptyDrops(assay(sce))"
   ]
  },
  {
   "cell_type": "code",
   "execution_count": null,
   "id": "2a34a54b-3ae2-44d6-8679-8769228c5b66",
   "metadata": {
    "execution": {
     "iopub.execute_input": "2023-04-23T13:27:40.851569Z",
     "iopub.status.busy": "2023-04-23T13:27:40.851383Z",
     "iopub.status.idle": "2023-04-23T13:27:40.898159Z",
     "shell.execute_reply": "2023-04-23T13:27:40.897815Z"
    },
    "papermill": {
     "duration": 0.050959,
     "end_time": "2023-04-23T13:27:40.899074",
     "exception": false,
     "start_time": "2023-04-23T13:27:40.848115",
     "status": "completed"
    },
    "tags": []
   },
   "outputs": [],
   "source": [
    "non_empty_barcodes = empty_drop_output[empty_drop_output[\"FDR\"] < 0.001].index\n",
    "dataset = dataset[dataset.obs.index.isin(non_empty_barcodes), :]\n",
    "dataset"
   ]
  },
  {
   "cell_type": "code",
   "execution_count": null,
   "id": "016a91e5-1bef-46fb-b91e-4fb9a6870c44",
   "metadata": {
    "execution": {
     "iopub.execute_input": "2023-04-23T13:27:40.904799Z",
     "iopub.status.busy": "2023-04-23T13:27:40.904631Z",
     "iopub.status.idle": "2023-04-23T13:27:47.866627Z",
     "shell.execute_reply": "2023-04-23T13:27:47.866080Z"
    },
    "papermill": {
     "duration": 6.966311,
     "end_time": "2023-04-23T13:27:47.867977",
     "exception": false,
     "start_time": "2023-04-23T13:27:40.901666",
     "status": "completed"
    },
    "tags": []
   },
   "outputs": [],
   "source": [
    "rna_assay = dataset.copy()\n",
    "sc.pp.normalize_per_cell(rna_assay)\n",
    "sc.pp.log1p(rna_assay)\n",
    "sc.pp.pca(rna_assay)\n",
    "sc.pp.neighbors(rna_assay)\n",
    "sc.tl.leiden(rna_assay, key_added=\"soupx_groups\")\n",
    "\n",
    "soupx_groups = rna_assay.obs[\"soupx_groups\"]\n",
    "\n",
    "del rna_assay\n",
    "\n",
    "genes = dataset.var_names\n",
    "cells = dataset.obs_names\n",
    "data = dataset.X.T.copy()"
   ]
  },
  {
   "cell_type": "code",
   "execution_count": null,
   "id": "9db4ea1f-1580-4f43-a3f0-86002397cd98",
   "metadata": {
    "execution": {
     "iopub.execute_input": "2023-04-23T13:27:47.876895Z",
     "iopub.status.busy": "2023-04-23T13:27:47.876695Z",
     "iopub.status.idle": "2023-04-23T13:28:02.067924Z",
     "shell.execute_reply": "2023-04-23T13:28:02.067329Z"
    },
    "papermill": {
     "duration": 14.195937,
     "end_time": "2023-04-23T13:28:02.069257",
     "exception": false,
     "start_time": "2023-04-23T13:27:47.873320",
     "status": "completed"
    },
    "tags": []
   },
   "outputs": [],
   "source": [
    "%%R -i data -i data_tod -i genes -i cells -i soupx_groups -o out \n",
    "set.seed(187)\n",
    "# specify row and column names of data\n",
    "rownames(data) = genes\n",
    "colnames(data) = cells\n",
    "# ensure correct sparse format for table of counts and table of droplets\n",
    "data <- as(data, \"sparseMatrix\")\n",
    "data_tod <- as(data_tod, \"sparseMatrix\")\n",
    "\n",
    "# Generate SoupChannel Object for SoupX \n",
    "sc = SoupChannel(data_tod, data, calcSoupProfile = FALSE)\n",
    "\n",
    "# Add extra meta data to the SoupChannel object\n",
    "soupProf = data.frame(row.names = rownames(data),\n",
    "                      est = rowSums(data)/sum(data),\n",
    "                      counts = rowSums(data))\n",
    "sc = setSoupProfile(sc, soupProf)\n",
    "# Set cluster information in SoupChannel\n",
    "sc = setClusters(sc, soupx_groups)\n",
    "\n",
    "# Estimate contamination fraction\n",
    "sc  = autoEstCont(sc, doPlot=FALSE, forceAccept = TRUE)\n",
    "# Infer corrected table of counts and rount to integer\n",
    "out = adjustCounts(sc, roundToInt = TRUE)"
   ]
  },
  {
   "cell_type": "code",
   "execution_count": null,
   "id": "32555d5e-5fa3-46dd-a4e0-ddc96ea265e2",
   "metadata": {
    "execution": {
     "iopub.execute_input": "2023-04-23T13:28:02.077710Z",
     "iopub.status.busy": "2023-04-23T13:28:02.077542Z",
     "iopub.status.idle": "2023-04-23T13:28:02.111806Z",
     "shell.execute_reply": "2023-04-23T13:28:02.111408Z"
    },
    "papermill": {
     "duration": 0.03857,
     "end_time": "2023-04-23T13:28:02.112850",
     "exception": false,
     "start_time": "2023-04-23T13:28:02.074280",
     "status": "completed"
    },
    "tags": []
   },
   "outputs": [],
   "source": [
    "dataset.layers[\"soupX_counts\"] = out.T\n",
    "dataset.X = dataset.layers[\"soupX_counts\"].copy()"
   ]
  },
  {
   "cell_type": "code",
   "execution_count": null,
   "id": "e27da7df-e094-4d2a-9109-5a363e012175",
   "metadata": {
    "execution": {
     "iopub.execute_input": "2023-04-23T13:28:02.119138Z",
     "iopub.status.busy": "2023-04-23T13:28:02.118861Z",
     "iopub.status.idle": "2023-04-23T13:28:02.121190Z",
     "shell.execute_reply": "2023-04-23T13:28:02.120857Z"
    },
    "papermill": {
     "duration": 0.00632,
     "end_time": "2023-04-23T13:28:02.122002",
     "exception": false,
     "start_time": "2023-04-23T13:28:02.115682",
     "status": "completed"
    },
    "tags": []
   },
   "outputs": [],
   "source": [
    "data_mat = dataset.X.T"
   ]
  },
  {
   "cell_type": "code",
   "execution_count": null,
   "id": "80a993b1-5ccb-4697-9187-1beb7ab8aff9",
   "metadata": {
    "execution": {
     "iopub.execute_input": "2023-04-23T13:28:02.127789Z",
     "iopub.status.busy": "2023-04-23T13:28:02.127573Z",
     "iopub.status.idle": "2023-04-23T13:28:25.341527Z",
     "shell.execute_reply": "2023-04-23T13:28:25.340941Z"
    },
    "papermill": {
     "duration": 23.218286,
     "end_time": "2023-04-23T13:28:25.342843",
     "exception": false,
     "start_time": "2023-04-23T13:28:02.124557",
     "status": "completed"
    },
    "tags": []
   },
   "outputs": [],
   "source": [
    "%%R -i data_mat -o droplet_class\n",
    "\n",
    "set.seed(187)\n",
    "sce = scDblFinder(\n",
    "    SingleCellExperiment(\n",
    "        list(counts=data_mat),\n",
    "    ) \n",
    ")\n",
    "droplet_class = sce$scDblFinder.class"
   ]
  },
  {
   "cell_type": "code",
   "execution_count": null,
   "id": "d4dd6e9d-fcf2-41fc-8457-c8e0a3cb2c71",
   "metadata": {
    "execution": {
     "iopub.execute_input": "2023-04-23T13:28:25.352453Z",
     "iopub.status.busy": "2023-04-23T13:28:25.352284Z",
     "iopub.status.idle": "2023-04-23T13:28:25.357380Z",
     "shell.execute_reply": "2023-04-23T13:28:25.357049Z"
    },
    "papermill": {
     "duration": 0.009365,
     "end_time": "2023-04-23T13:28:25.358184",
     "exception": false,
     "start_time": "2023-04-23T13:28:25.348819",
     "status": "completed"
    },
    "tags": []
   },
   "outputs": [],
   "source": [
    "dataset.obs[\"scDblFinder_class\"] = droplet_class\n",
    "dataset.obs.scDblFinder_class.value_counts()\n",
    "dataset"
   ]
  },
  {
   "cell_type": "code",
   "execution_count": null,
   "id": "28c95014-2d6c-477f-95cb-9f9f0507520c",
   "metadata": {
    "execution": {
     "iopub.execute_input": "2023-04-23T13:28:25.364183Z",
     "iopub.status.busy": "2023-04-23T13:28:25.363980Z",
     "iopub.status.idle": "2023-04-23T13:28:25.369518Z",
     "shell.execute_reply": "2023-04-23T13:28:25.369204Z"
    },
    "papermill": {
     "duration": 0.009485,
     "end_time": "2023-04-23T13:28:25.370312",
     "exception": false,
     "start_time": "2023-04-23T13:28:25.360827",
     "status": "completed"
    },
    "tags": []
   },
   "outputs": [],
   "source": [
    "dataset = dataset[dataset.obs[\"scDblFinder_class\"] == 1]"
   ]
  },
  {
   "cell_type": "code",
   "execution_count": null,
   "id": "3e22f9e0-bfcb-416c-a151-a9bca3bec3b9",
   "metadata": {
    "execution": {
     "iopub.execute_input": "2023-04-23T13:28:25.376298Z",
     "iopub.status.busy": "2023-04-23T13:28:25.376148Z",
     "iopub.status.idle": "2023-04-23T13:28:25.551525Z",
     "shell.execute_reply": "2023-04-23T13:28:25.551090Z"
    },
    "papermill": {
     "duration": 0.179484,
     "end_time": "2023-04-23T13:28:25.552460",
     "exception": false,
     "start_time": "2023-04-23T13:28:25.372976",
     "status": "completed"
    },
    "tags": []
   },
   "outputs": [],
   "source": [
    "# mitochondrial genes\n",
    "dataset.var[\"mt\"] = dataset.var_names.str.startswith(\"MT-\")\n",
    "# ribosomal genes\n",
    "dataset.var[\"ribo\"] = dataset.var_names.str.startswith((\"RPS\", \"RPL\"))\n",
    "# hemoglobin genes.\n",
    "dataset.var[\"hb\"] = dataset.var_names.str.contains((\"^HB[^(P)]\"))\n",
    "\n",
    "sc.pp.calculate_qc_metrics(dataset,\n",
    "                           qc_vars=['mt', 'ribo', 'hb'],\n",
    "                           percent_top=None,\n",
    "                           log1p=False,\n",
    "                           inplace=True)\n",
    "dataset"
   ]
  },
  {
   "cell_type": "code",
   "execution_count": null,
   "id": "34deee79-4043-428f-8575-aa57b45f6369",
   "metadata": {
    "execution": {
     "iopub.execute_input": "2023-04-23T13:28:25.559419Z",
     "iopub.status.busy": "2023-04-23T13:28:25.559215Z",
     "iopub.status.idle": "2023-04-23T13:28:26.212442Z",
     "shell.execute_reply": "2023-04-23T13:28:26.212030Z"
    },
    "papermill": {
     "duration": 0.657505,
     "end_time": "2023-04-23T13:28:26.213334",
     "exception": false,
     "start_time": "2023-04-23T13:28:25.555829",
     "status": "completed"
    },
    "tags": []
   },
   "outputs": [],
   "source": [
    "fig, ax = plt.subplots(ncols = 4, figsize = (16,4))\n",
    "axis = sc.pl.violin(dataset, \"n_genes_by_counts\", jitter = 0.4, ax = ax[0], show = False)\n",
    "axis.grid(False)\n",
    "axis.set_title(\"Unique Genes per cell\")\n",
    "axis.tick_params(axis = \"x\", bottom =False, labelbottom =False)\n",
    "axis.set_ylabel(\"# genes\")\n",
    "axis.axhline(y = 250, color = \"black\", label = \"cutoff\")\n",
    "axis.legend(fontsize = 14, loc = \"upper right\")\n",
    "\n",
    "axis = sc.pl.violin(dataset, \"pct_counts_mt\", jitter = 0.4, ax = ax[1], show = False)\n",
    "axis.grid(False)\n",
    "axis.set_title(\"Mitochondrial Fraction\")\n",
    "axis.tick_params(axis = \"x\", bottom =False, labelbottom =False)\n",
    "axis.set_ylabel(\"% mitochondrial genes\")\n",
    "axis.axhline(y = 10, color = \"black\", label = \"cutoff\")\n",
    "axis.legend(fontsize = 14, loc = \"upper right\")\n",
    "\n",
    "axis = sc.pl.violin(dataset, \"pct_counts_hb\", jitter = 0.4, ax = ax[2], show = False, size =2)\n",
    "axis.grid(False)\n",
    "axis.set_title(\"Hemoglobin Fraction\")\n",
    "axis.tick_params(axis = \"x\", bottom =False, labelbottom =False)\n",
    "axis.set_ylabel(\"% hemoglobin genes\")\n",
    "axis.axhline(y = 1, color = \"black\", label = \"cutoff\")\n",
    "axis.legend(fontsize = 14, loc = \"upper right\")\n",
    "#axis.set_ylim(0,5)\n",
    "\n",
    "axis = sc.pl.violin(dataset, \"pct_counts_ribo\", jitter = 0.4, ax = ax[3], show = False)\n",
    "axis.grid(False)\n",
    "axis.set_title(\"Ribosomal Fraction\")\n",
    "axis.tick_params(axis = \"x\", bottom =False, labelbottom =False)\n",
    "axis.set_ylabel(\"% ribosome genes\")\n",
    "\n",
    "plt.tight_layout()\n",
    "#plt.savefig(f\"{outputDir}08_gene_based_filtering.pdf\", dpi = 300)\n",
    "plt.show()\n",
    "\n"
   ]
  },
  {
   "cell_type": "code",
   "execution_count": null,
   "id": "d7ade754-843e-4840-8707-426613d8c0c5",
   "metadata": {
    "execution": {
     "iopub.execute_input": "2023-04-23T13:28:26.221534Z",
     "iopub.status.busy": "2023-04-23T13:28:26.221383Z",
     "iopub.status.idle": "2023-04-23T13:28:26.231076Z",
     "shell.execute_reply": "2023-04-23T13:28:26.230743Z"
    },
    "papermill": {
     "duration": 0.014503,
     "end_time": "2023-04-23T13:28:26.231836",
     "exception": false,
     "start_time": "2023-04-23T13:28:26.217333",
     "status": "completed"
    },
    "tags": []
   },
   "outputs": [],
   "source": [
    "dataset = dataset[dataset.obs.pct_counts_mt < 10, :]\n",
    "dataset = dataset[dataset.obs.n_genes_by_counts > 250, :]\n",
    "dataset = dataset[dataset.obs.pct_counts_hb < 1, :]\n",
    "dataset"
   ]
  },
  {
   "cell_type": "code",
   "execution_count": null,
   "id": "2e0ff8c3-2aa9-4a01-9b88-5912a6734447",
   "metadata": {
    "execution": {
     "iopub.execute_input": "2023-04-23T13:28:26.239672Z",
     "iopub.status.busy": "2023-04-23T13:28:26.239516Z",
     "iopub.status.idle": "2023-04-23T13:28:26.303127Z",
     "shell.execute_reply": "2023-04-23T13:28:26.302714Z"
    },
    "papermill": {
     "duration": 0.068893,
     "end_time": "2023-04-23T13:28:26.304317",
     "exception": false,
     "start_time": "2023-04-23T13:28:26.235424",
     "status": "completed"
    },
    "tags": []
   },
   "outputs": [],
   "source": [
    "for col in metadata.columns:\n",
    "    dataset.obs[col] = metadata.loc[(metadata[\"ENA_RUN\"] == sample_name) & (metadata[\"read_index\"] == \"read1\"), col].to_list()[0]"
   ]
  },
  {
   "cell_type": "code",
   "execution_count": null,
   "id": "b84578d3-d63e-419c-a272-a0b8317d05ab",
   "metadata": {
    "execution": {
     "iopub.execute_input": "2023-04-23T13:28:26.312761Z",
     "iopub.status.busy": "2023-04-23T13:28:26.312548Z",
     "iopub.status.idle": "2023-04-23T13:28:26.553402Z",
     "shell.execute_reply": "2023-04-23T13:28:26.552940Z"
    },
    "papermill": {
     "duration": 0.246297,
     "end_time": "2023-04-23T13:28:26.554665",
     "exception": false,
     "start_time": "2023-04-23T13:28:26.308368",
     "status": "completed"
    },
    "tags": []
   },
   "outputs": [],
   "source": [
    "dataset.write(f\"../../int_data/{sample_name}_qc.h5ad\")"
   ]
  }
 ],
 "metadata": {
  "kernelspec": {
   "display_name": "py_R",
   "language": "python",
   "name": "python_r"
  },
  "language_info": {
   "codemirror_mode": {
    "name": "ipython",
    "version": 3
   },
   "file_extension": ".py",
   "mimetype": "text/x-python",
   "name": "python",
   "nbconvert_exporter": "python",
   "pygments_lexer": "ipython3",
   "version": "3.10.9"
  },
  "papermill": {
   "default_parameters": {},
   "duration": 126.336269,
   "end_time": "2023-04-23T13:28:28.076839",
   "environment_variables": {},
   "exception": null,
   "input_path": "ERR7425203.ipynb",
   "output_path": "ERR7425203.ipynb",
   "parameters": {},
   "start_time": "2023-04-23T13:26:21.740570",
   "version": "2.4.0"
  }
 },
 "nbformat": 4,
 "nbformat_minor": 5
}
