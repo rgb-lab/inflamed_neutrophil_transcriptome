{
 "cells": [
  {
   "cell_type": "code",
   "execution_count": null,
   "id": "f87ed95b-2b67-4a5a-8fe2-47359b1dd2a9",
   "metadata": {
    "execution": {
     "iopub.execute_input": "2023-04-23T12:46:33.694956Z",
     "iopub.status.busy": "2023-04-23T12:46:33.694786Z",
     "iopub.status.idle": "2023-04-23T12:46:33.830290Z",
     "shell.execute_reply": "2023-04-23T12:46:33.829926Z"
    },
    "papermill": {
     "duration": 0.139798,
     "end_time": "2023-04-23T12:46:33.831331",
     "exception": false,
     "start_time": "2023-04-23T12:46:33.691533",
     "status": "completed"
    },
    "tags": []
   },
   "outputs": [],
   "source": [
    "import warnings\n",
    "warnings.simplefilter(action='ignore', category=FutureWarning)\n",
    "warnings.simplefilter(action='ignore', category=UserWarning)"
   ]
  },
  {
   "cell_type": "code",
   "execution_count": null,
   "id": "85161f19-b2c5-490b-8cab-c2cf9653b304",
   "metadata": {
    "execution": {
     "iopub.execute_input": "2023-04-23T12:46:33.836824Z",
     "iopub.status.busy": "2023-04-23T12:46:33.836696Z",
     "iopub.status.idle": "2023-04-23T12:46:42.113289Z",
     "shell.execute_reply": "2023-04-23T12:46:42.112817Z"
    },
    "papermill": {
     "duration": 8.28053,
     "end_time": "2023-04-23T12:46:42.114745",
     "exception": false,
     "start_time": "2023-04-23T12:46:33.834215",
     "status": "completed"
    },
    "tags": []
   },
   "outputs": [],
   "source": [
    "import gc\n",
    "import scanpy as sc\n",
    "import muon as mu\n",
    "import seaborn as sns\n",
    "import os\n",
    "import pandas as pd\n",
    "from matplotlib import pyplot as plt\n",
    "\n",
    "os.environ['R_HOME'] = '/gpfs/bwfor/work/ws/hd_fu399-conda/conda/envs/python_R/lib/R/'\n",
    "import anndata2ri\n",
    "import logging\n",
    "\n",
    "import rpy2.rinterface_lib.callbacks as rcb\n",
    "import rpy2.robjects as ro\n",
    "\n",
    "rcb.logger.setLevel(logging.ERROR)\n",
    "ro.pandas2ri.activate()\n",
    "anndata2ri.activate()\n",
    "\n",
    "%load_ext rpy2.ipython"
   ]
  },
  {
   "cell_type": "code",
   "execution_count": null,
   "id": "fc4ade78-b728-4704-9db6-45fbaab62ba1",
   "metadata": {
    "execution": {
     "iopub.execute_input": "2023-04-23T12:46:42.123203Z",
     "iopub.status.busy": "2023-04-23T12:46:42.122897Z",
     "iopub.status.idle": "2023-04-23T12:46:59.954634Z",
     "shell.execute_reply": "2023-04-23T12:46:59.954228Z"
    },
    "papermill": {
     "duration": 17.835931,
     "end_time": "2023-04-23T12:46:59.956013",
     "exception": false,
     "start_time": "2023-04-23T12:46:42.120082",
     "status": "completed"
    },
    "tags": []
   },
   "outputs": [],
   "source": [
    "%%R\n",
    "library(SoupX)\n",
    "library(Seurat)\n",
    "library(scater)\n",
    "library(scDblFinder)\n",
    "library(BiocParallel)\n",
    "library(MuDataSeurat)\n",
    "library(DropletUtils)"
   ]
  },
  {
   "cell_type": "code",
   "execution_count": null,
   "id": "611e4882-fc48-43d1-b1cd-e65e1bde0015",
   "metadata": {
    "execution": {
     "iopub.execute_input": "2023-04-23T12:46:59.978635Z",
     "iopub.status.busy": "2023-04-23T12:46:59.978481Z",
     "iopub.status.idle": "2023-04-23T12:46:59.980723Z",
     "shell.execute_reply": "2023-04-23T12:46:59.980422Z"
    },
    "papermill": {
     "duration": 0.00605,
     "end_time": "2023-04-23T12:46:59.981499",
     "exception": false,
     "start_time": "2023-04-23T12:46:59.975449",
     "status": "completed"
    },
    "tags": []
   },
   "outputs": [],
   "source": [
    "sample_name = \"ERR7425193\""
   ]
  },
  {
   "cell_type": "code",
   "execution_count": null,
   "id": "f7424d90-7690-4290-8651-1db3f9df3a35",
   "metadata": {
    "execution": {
     "iopub.execute_input": "2023-04-23T12:46:59.986551Z",
     "iopub.status.busy": "2023-04-23T12:46:59.986400Z",
     "iopub.status.idle": "2023-04-23T12:46:59.992992Z",
     "shell.execute_reply": "2023-04-23T12:46:59.992675Z"
    },
    "papermill": {
     "duration": 0.010028,
     "end_time": "2023-04-23T12:46:59.993753",
     "exception": false,
     "start_time": "2023-04-23T12:46:59.983725",
     "status": "completed"
    },
    "tags": []
   },
   "outputs": [],
   "source": [
    "metadata = pd.read_csv(\"../../metadata.csv\", index_col = 0)"
   ]
  },
  {
   "cell_type": "code",
   "execution_count": null,
   "id": "2574ecf1-bad4-4c33-8f3f-718a358727ab",
   "metadata": {
    "execution": {
     "iopub.execute_input": "2023-04-23T12:46:59.998787Z",
     "iopub.status.busy": "2023-04-23T12:46:59.998656Z",
     "iopub.status.idle": "2023-04-23T12:47:00.000795Z",
     "shell.execute_reply": "2023-04-23T12:47:00.000471Z"
    },
    "papermill": {
     "duration": 0.005483,
     "end_time": "2023-04-23T12:47:00.001552",
     "exception": false,
     "start_time": "2023-04-23T12:46:59.996069",
     "status": "completed"
    },
    "tags": []
   },
   "outputs": [],
   "source": [
    "raw_input = f\"/home/hd/hd_hd/hd_fu399/sds-hd/sd21k006/scRNAseq/revision_natcomm/montaldo_et_al/{sample_name}/{sample_name}/outs/raw_feature_bc_matrix.h5\""
   ]
  },
  {
   "cell_type": "code",
   "execution_count": null,
   "id": "e266d388-1802-435c-93a5-90067358739c",
   "metadata": {
    "execution": {
     "iopub.execute_input": "2023-04-23T12:47:00.006895Z",
     "iopub.status.busy": "2023-04-23T12:47:00.006714Z",
     "iopub.status.idle": "2023-04-23T12:47:01.046505Z",
     "shell.execute_reply": "2023-04-23T12:47:01.046074Z"
    },
    "papermill": {
     "duration": 1.043586,
     "end_time": "2023-04-23T12:47:01.047392",
     "exception": false,
     "start_time": "2023-04-23T12:47:00.003806",
     "status": "completed"
    },
    "tags": []
   },
   "outputs": [],
   "source": [
    "dataset = sc.read_10x_h5(raw_input)\n",
    "dataset.var_names_make_unique()\n",
    "dataset.obs_names_make_unique()\n",
    "\n",
    "dataset.layers[\"raw_counts\"] = dataset.X.copy()\n",
    "data_tod = dataset.layers[\"raw_counts\"].T.copy()\n",
    "\n",
    "dataset"
   ]
  },
  {
   "cell_type": "code",
   "execution_count": null,
   "id": "af9f5892-ed31-42a6-991b-4e096f582cef",
   "metadata": {
    "execution": {
     "iopub.execute_input": "2023-04-23T12:47:01.053581Z",
     "iopub.status.busy": "2023-04-23T12:47:01.053434Z",
     "iopub.status.idle": "2023-04-23T12:47:01.150740Z",
     "shell.execute_reply": "2023-04-23T12:47:01.150245Z"
    },
    "papermill": {
     "duration": 0.101448,
     "end_time": "2023-04-23T12:47:01.152019",
     "exception": false,
     "start_time": "2023-04-23T12:47:01.050571",
     "status": "completed"
    },
    "tags": []
   },
   "outputs": [],
   "source": [
    "sce = dataset.copy()"
   ]
  },
  {
   "cell_type": "code",
   "execution_count": null,
   "id": "d03f2caf-8e74-430e-b045-0ab80401d165",
   "metadata": {
    "execution": {
     "iopub.execute_input": "2023-04-23T12:47:01.157962Z",
     "iopub.status.busy": "2023-04-23T12:47:01.157798Z",
     "iopub.status.idle": "2023-04-23T12:48:17.189521Z",
     "shell.execute_reply": "2023-04-23T12:48:17.188960Z"
    },
    "papermill": {
     "duration": 76.036397,
     "end_time": "2023-04-23T12:48:17.191263",
     "exception": false,
     "start_time": "2023-04-23T12:47:01.154866",
     "status": "completed"
    },
    "tags": []
   },
   "outputs": [],
   "source": [
    "%%R -i sce -o empty_drop_output\n",
    "set.seed(187)\n",
    "empty_drop_output <- emptyDrops(assay(sce))"
   ]
  },
  {
   "cell_type": "code",
   "execution_count": null,
   "id": "2a34a54b-3ae2-44d6-8679-8769228c5b66",
   "metadata": {
    "execution": {
     "iopub.execute_input": "2023-04-23T12:48:17.201046Z",
     "iopub.status.busy": "2023-04-23T12:48:17.200853Z",
     "iopub.status.idle": "2023-04-23T12:48:17.262114Z",
     "shell.execute_reply": "2023-04-23T12:48:17.261780Z"
    },
    "papermill": {
     "duration": 0.065262,
     "end_time": "2023-04-23T12:48:17.263011",
     "exception": false,
     "start_time": "2023-04-23T12:48:17.197749",
     "status": "completed"
    },
    "tags": []
   },
   "outputs": [],
   "source": [
    "non_empty_barcodes = empty_drop_output[empty_drop_output[\"FDR\"] < 0.001].index\n",
    "dataset = dataset[dataset.obs.index.isin(non_empty_barcodes), :]\n",
    "dataset"
   ]
  },
  {
   "cell_type": "code",
   "execution_count": null,
   "id": "016a91e5-1bef-46fb-b91e-4fb9a6870c44",
   "metadata": {
    "execution": {
     "iopub.execute_input": "2023-04-23T12:48:17.268795Z",
     "iopub.status.busy": "2023-04-23T12:48:17.268626Z",
     "iopub.status.idle": "2023-04-23T12:49:45.210569Z",
     "shell.execute_reply": "2023-04-23T12:49:45.210102Z"
    },
    "papermill": {
     "duration": 87.946454,
     "end_time": "2023-04-23T12:49:45.212126",
     "exception": false,
     "start_time": "2023-04-23T12:48:17.265672",
     "status": "completed"
    },
    "tags": []
   },
   "outputs": [],
   "source": [
    "rna_assay = dataset.copy()\n",
    "sc.pp.normalize_per_cell(rna_assay)\n",
    "sc.pp.log1p(rna_assay)\n",
    "sc.pp.pca(rna_assay)\n",
    "sc.pp.neighbors(rna_assay)\n",
    "sc.tl.leiden(rna_assay, key_added=\"soupx_groups\")\n",
    "\n",
    "soupx_groups = rna_assay.obs[\"soupx_groups\"]\n",
    "\n",
    "del rna_assay\n",
    "\n",
    "genes = dataset.var_names\n",
    "cells = dataset.obs_names\n",
    "data = dataset.X.T.copy()"
   ]
  },
  {
   "cell_type": "code",
   "execution_count": null,
   "id": "9db4ea1f-1580-4f43-a3f0-86002397cd98",
   "metadata": {
    "execution": {
     "iopub.execute_input": "2023-04-23T12:49:45.221036Z",
     "iopub.status.busy": "2023-04-23T12:49:45.220836Z",
     "iopub.status.idle": "2023-04-23T12:50:09.211582Z",
     "shell.execute_reply": "2023-04-23T12:50:09.211142Z"
    },
    "papermill": {
     "duration": 23.995601,
     "end_time": "2023-04-23T12:50:09.213296",
     "exception": false,
     "start_time": "2023-04-23T12:49:45.217695",
     "status": "completed"
    },
    "tags": []
   },
   "outputs": [],
   "source": [
    "%%R -i data -i data_tod -i genes -i cells -i soupx_groups -o out \n",
    "set.seed(187)\n",
    "# specify row and column names of data\n",
    "rownames(data) = genes\n",
    "colnames(data) = cells\n",
    "# ensure correct sparse format for table of counts and table of droplets\n",
    "data <- as(data, \"sparseMatrix\")\n",
    "data_tod <- as(data_tod, \"sparseMatrix\")\n",
    "\n",
    "# Generate SoupChannel Object for SoupX \n",
    "sc = SoupChannel(data_tod, data, calcSoupProfile = FALSE)\n",
    "\n",
    "# Add extra meta data to the SoupChannel object\n",
    "soupProf = data.frame(row.names = rownames(data),\n",
    "                      est = rowSums(data)/sum(data),\n",
    "                      counts = rowSums(data))\n",
    "sc = setSoupProfile(sc, soupProf)\n",
    "# Set cluster information in SoupChannel\n",
    "sc = setClusters(sc, soupx_groups)\n",
    "\n",
    "# Estimate contamination fraction\n",
    "sc  = autoEstCont(sc, doPlot=FALSE, forceAccept = TRUE)\n",
    "# Infer corrected table of counts and rount to integer\n",
    "out = adjustCounts(sc, roundToInt = TRUE)"
   ]
  },
  {
   "cell_type": "code",
   "execution_count": null,
   "id": "32555d5e-5fa3-46dd-a4e0-ddc96ea265e2",
   "metadata": {
    "execution": {
     "iopub.execute_input": "2023-04-23T12:50:09.221455Z",
     "iopub.status.busy": "2023-04-23T12:50:09.221276Z",
     "iopub.status.idle": "2023-04-23T12:50:09.262355Z",
     "shell.execute_reply": "2023-04-23T12:50:09.261940Z"
    },
    "papermill": {
     "duration": 0.045364,
     "end_time": "2023-04-23T12:50:09.263571",
     "exception": false,
     "start_time": "2023-04-23T12:50:09.218207",
     "status": "completed"
    },
    "tags": []
   },
   "outputs": [],
   "source": [
    "dataset.layers[\"soupX_counts\"] = out.T\n",
    "dataset.X = dataset.layers[\"soupX_counts\"].copy()"
   ]
  },
  {
   "cell_type": "code",
   "execution_count": null,
   "id": "e27da7df-e094-4d2a-9109-5a363e012175",
   "metadata": {
    "execution": {
     "iopub.execute_input": "2023-04-23T12:50:09.269364Z",
     "iopub.status.busy": "2023-04-23T12:50:09.269210Z",
     "iopub.status.idle": "2023-04-23T12:50:09.271536Z",
     "shell.execute_reply": "2023-04-23T12:50:09.271198Z"
    },
    "papermill": {
     "duration": 0.006182,
     "end_time": "2023-04-23T12:50:09.272320",
     "exception": false,
     "start_time": "2023-04-23T12:50:09.266138",
     "status": "completed"
    },
    "tags": []
   },
   "outputs": [],
   "source": [
    "data_mat = dataset.X.T"
   ]
  },
  {
   "cell_type": "code",
   "execution_count": null,
   "id": "80a993b1-5ccb-4697-9187-1beb7ab8aff9",
   "metadata": {
    "execution": {
     "iopub.execute_input": "2023-04-23T12:50:09.278117Z",
     "iopub.status.busy": "2023-04-23T12:50:09.277862Z",
     "iopub.status.idle": "2023-04-23T12:50:48.836988Z",
     "shell.execute_reply": "2023-04-23T12:50:48.836543Z"
    },
    "papermill": {
     "duration": 39.563528,
     "end_time": "2023-04-23T12:50:48.838382",
     "exception": false,
     "start_time": "2023-04-23T12:50:09.274854",
     "status": "completed"
    },
    "tags": []
   },
   "outputs": [],
   "source": [
    "%%R -i data_mat -o droplet_class\n",
    "\n",
    "set.seed(187)\n",
    "sce = scDblFinder(\n",
    "    SingleCellExperiment(\n",
    "        list(counts=data_mat),\n",
    "    ) \n",
    ")\n",
    "droplet_class = sce$scDblFinder.class"
   ]
  },
  {
   "cell_type": "code",
   "execution_count": null,
   "id": "d4dd6e9d-fcf2-41fc-8457-c8e0a3cb2c71",
   "metadata": {
    "execution": {
     "iopub.execute_input": "2023-04-23T12:50:48.878366Z",
     "iopub.status.busy": "2023-04-23T12:50:48.878142Z",
     "iopub.status.idle": "2023-04-23T12:50:48.882703Z",
     "shell.execute_reply": "2023-04-23T12:50:48.882377Z"
    },
    "papermill": {
     "duration": 0.008942,
     "end_time": "2023-04-23T12:50:48.883541",
     "exception": false,
     "start_time": "2023-04-23T12:50:48.874599",
     "status": "completed"
    },
    "tags": []
   },
   "outputs": [],
   "source": [
    "dataset.obs[\"scDblFinder_class\"] = droplet_class\n",
    "dataset.obs.scDblFinder_class.value_counts()\n",
    "dataset"
   ]
  },
  {
   "cell_type": "code",
   "execution_count": null,
   "id": "28c95014-2d6c-477f-95cb-9f9f0507520c",
   "metadata": {
    "execution": {
     "iopub.execute_input": "2023-04-23T12:50:48.889840Z",
     "iopub.status.busy": "2023-04-23T12:50:48.889481Z",
     "iopub.status.idle": "2023-04-23T12:50:48.895444Z",
     "shell.execute_reply": "2023-04-23T12:50:48.895116Z"
    },
    "papermill": {
     "duration": 0.010161,
     "end_time": "2023-04-23T12:50:48.896352",
     "exception": false,
     "start_time": "2023-04-23T12:50:48.886191",
     "status": "completed"
    },
    "tags": []
   },
   "outputs": [],
   "source": [
    "dataset = dataset[dataset.obs[\"scDblFinder_class\"] == 1]"
   ]
  },
  {
   "cell_type": "code",
   "execution_count": null,
   "id": "3e22f9e0-bfcb-416c-a151-a9bca3bec3b9",
   "metadata": {
    "execution": {
     "iopub.execute_input": "2023-04-23T12:50:48.902341Z",
     "iopub.status.busy": "2023-04-23T12:50:48.902183Z",
     "iopub.status.idle": "2023-04-23T12:50:49.225773Z",
     "shell.execute_reply": "2023-04-23T12:50:49.225410Z"
    },
    "papermill": {
     "duration": 0.327602,
     "end_time": "2023-04-23T12:50:49.226611",
     "exception": false,
     "start_time": "2023-04-23T12:50:48.899009",
     "status": "completed"
    },
    "tags": []
   },
   "outputs": [],
   "source": [
    "# mitochondrial genes\n",
    "dataset.var[\"mt\"] = dataset.var_names.str.startswith(\"MT-\")\n",
    "# ribosomal genes\n",
    "dataset.var[\"ribo\"] = dataset.var_names.str.startswith((\"RPS\", \"RPL\"))\n",
    "# hemoglobin genes.\n",
    "dataset.var[\"hb\"] = dataset.var_names.str.contains((\"^HB[^(P)]\"))\n",
    "\n",
    "sc.pp.calculate_qc_metrics(dataset,\n",
    "                           qc_vars=['mt', 'ribo', 'hb'],\n",
    "                           percent_top=None,\n",
    "                           log1p=False,\n",
    "                           inplace=True)\n",
    "dataset"
   ]
  },
  {
   "cell_type": "code",
   "execution_count": null,
   "id": "34deee79-4043-428f-8575-aa57b45f6369",
   "metadata": {
    "execution": {
     "iopub.execute_input": "2023-04-23T12:50:49.232932Z",
     "iopub.status.busy": "2023-04-23T12:50:49.232778Z",
     "iopub.status.idle": "2023-04-23T12:50:49.766457Z",
     "shell.execute_reply": "2023-04-23T12:50:49.766082Z"
    },
    "papermill": {
     "duration": 0.537856,
     "end_time": "2023-04-23T12:50:49.767292",
     "exception": false,
     "start_time": "2023-04-23T12:50:49.229436",
     "status": "completed"
    },
    "tags": []
   },
   "outputs": [],
   "source": [
    "fig, ax = plt.subplots(ncols = 4, figsize = (16,4))\n",
    "axis = sc.pl.violin(dataset, \"n_genes_by_counts\", jitter = 0.4, ax = ax[0], show = False)\n",
    "axis.grid(False)\n",
    "axis.set_title(\"Unique Genes per cell\")\n",
    "axis.tick_params(axis = \"x\", bottom =False, labelbottom =False)\n",
    "axis.set_ylabel(\"# genes\")\n",
    "axis.axhline(y = 250, color = \"black\", label = \"cutoff\")\n",
    "axis.legend(fontsize = 14, loc = \"upper right\")\n",
    "\n",
    "axis = sc.pl.violin(dataset, \"pct_counts_mt\", jitter = 0.4, ax = ax[1], show = False)\n",
    "axis.grid(False)\n",
    "axis.set_title(\"Mitochondrial Fraction\")\n",
    "axis.tick_params(axis = \"x\", bottom =False, labelbottom =False)\n",
    "axis.set_ylabel(\"% mitochondrial genes\")\n",
    "axis.axhline(y = 10, color = \"black\", label = \"cutoff\")\n",
    "axis.legend(fontsize = 14, loc = \"upper right\")\n",
    "\n",
    "axis = sc.pl.violin(dataset, \"pct_counts_hb\", jitter = 0.4, ax = ax[2], show = False, size =2)\n",
    "axis.grid(False)\n",
    "axis.set_title(\"Hemoglobin Fraction\")\n",
    "axis.tick_params(axis = \"x\", bottom =False, labelbottom =False)\n",
    "axis.set_ylabel(\"% hemoglobin genes\")\n",
    "axis.axhline(y = 1, color = \"black\", label = \"cutoff\")\n",
    "axis.legend(fontsize = 14, loc = \"upper right\")\n",
    "#axis.set_ylim(0,5)\n",
    "\n",
    "axis = sc.pl.violin(dataset, \"pct_counts_ribo\", jitter = 0.4, ax = ax[3], show = False)\n",
    "axis.grid(False)\n",
    "axis.set_title(\"Ribosomal Fraction\")\n",
    "axis.tick_params(axis = \"x\", bottom =False, labelbottom =False)\n",
    "axis.set_ylabel(\"% ribosome genes\")\n",
    "\n",
    "plt.tight_layout()\n",
    "#plt.savefig(f\"{outputDir}08_gene_based_filtering.pdf\", dpi = 300)\n",
    "plt.show()\n",
    "\n"
   ]
  },
  {
   "cell_type": "code",
   "execution_count": null,
   "id": "d7ade754-843e-4840-8707-426613d8c0c5",
   "metadata": {
    "execution": {
     "iopub.execute_input": "2023-04-23T12:50:49.777182Z",
     "iopub.status.busy": "2023-04-23T12:50:49.776970Z",
     "iopub.status.idle": "2023-04-23T12:50:49.788681Z",
     "shell.execute_reply": "2023-04-23T12:50:49.788366Z"
    },
    "papermill": {
     "duration": 0.016743,
     "end_time": "2023-04-23T12:50:49.789476",
     "exception": false,
     "start_time": "2023-04-23T12:50:49.772733",
     "status": "completed"
    },
    "tags": []
   },
   "outputs": [],
   "source": [
    "dataset = dataset[dataset.obs.pct_counts_mt < 10, :]\n",
    "dataset = dataset[dataset.obs.n_genes_by_counts > 250, :]\n",
    "dataset = dataset[dataset.obs.pct_counts_hb < 1, :]\n",
    "dataset"
   ]
  },
  {
   "cell_type": "code",
   "execution_count": null,
   "id": "2e0ff8c3-2aa9-4a01-9b88-5912a6734447",
   "metadata": {
    "execution": {
     "iopub.execute_input": "2023-04-23T12:50:49.797221Z",
     "iopub.status.busy": "2023-04-23T12:50:49.797062Z",
     "iopub.status.idle": "2023-04-23T12:50:49.898223Z",
     "shell.execute_reply": "2023-04-23T12:50:49.897804Z"
    },
    "papermill": {
     "duration": 0.106824,
     "end_time": "2023-04-23T12:50:49.899895",
     "exception": false,
     "start_time": "2023-04-23T12:50:49.793071",
     "status": "completed"
    },
    "tags": []
   },
   "outputs": [],
   "source": [
    "for col in metadata.columns:\n",
    "    dataset.obs[col] = metadata.loc[(metadata[\"ENA_RUN\"] == sample_name) & (metadata[\"read_index\"] == \"read1\"), col].to_list()[0]"
   ]
  },
  {
   "cell_type": "code",
   "execution_count": null,
   "id": "b84578d3-d63e-419c-a272-a0b8317d05ab",
   "metadata": {
    "execution": {
     "iopub.execute_input": "2023-04-23T12:50:49.908066Z",
     "iopub.status.busy": "2023-04-23T12:50:49.907874Z",
     "iopub.status.idle": "2023-04-23T12:50:50.211005Z",
     "shell.execute_reply": "2023-04-23T12:50:50.210577Z"
    },
    "papermill": {
     "duration": 0.308356,
     "end_time": "2023-04-23T12:50:50.212001",
     "exception": false,
     "start_time": "2023-04-23T12:50:49.903645",
     "status": "completed"
    },
    "tags": []
   },
   "outputs": [],
   "source": [
    "dataset.write(f\"../../int_data/{sample_name}_qc.h5ad\")"
   ]
  }
 ],
 "metadata": {
  "kernelspec": {
   "display_name": "py_R",
   "language": "python",
   "name": "python_r"
  },
  "language_info": {
   "codemirror_mode": {
    "name": "ipython",
    "version": 3
   },
   "file_extension": ".py",
   "mimetype": "text/x-python",
   "name": "python",
   "nbconvert_exporter": "python",
   "pygments_lexer": "ipython3",
   "version": "3.10.9"
  },
  "papermill": {
   "default_parameters": {},
   "duration": 260.751052,
   "end_time": "2023-04-23T12:50:52.133378",
   "environment_variables": {},
   "exception": null,
   "input_path": "ERR7425193.ipynb",
   "output_path": "ERR7425193.ipynb",
   "parameters": {},
   "start_time": "2023-04-23T12:46:31.382326",
   "version": "2.4.0"
  }
 },
 "nbformat": 4,
 "nbformat_minor": 5
}
