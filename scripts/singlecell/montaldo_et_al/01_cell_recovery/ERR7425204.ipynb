{
 "cells": [
  {
   "cell_type": "code",
   "execution_count": null,
   "id": "f87ed95b-2b67-4a5a-8fe2-47359b1dd2a9",
   "metadata": {
    "execution": {
     "iopub.execute_input": "2023-04-23T13:28:28.886171Z",
     "iopub.status.busy": "2023-04-23T13:28:28.885999Z",
     "iopub.status.idle": "2023-04-23T13:28:28.893648Z",
     "shell.execute_reply": "2023-04-23T13:28:28.893342Z"
    },
    "papermill": {
     "duration": 0.012049,
     "end_time": "2023-04-23T13:28:28.894567",
     "exception": false,
     "start_time": "2023-04-23T13:28:28.882518",
     "status": "completed"
    },
    "tags": []
   },
   "outputs": [],
   "source": [
    "import warnings\n",
    "warnings.simplefilter(action='ignore', category=FutureWarning)\n",
    "warnings.simplefilter(action='ignore', category=UserWarning)"
   ]
  },
  {
   "cell_type": "code",
   "execution_count": null,
   "id": "85161f19-b2c5-490b-8cab-c2cf9653b304",
   "metadata": {
    "execution": {
     "iopub.execute_input": "2023-04-23T13:28:28.899572Z",
     "iopub.status.busy": "2023-04-23T13:28:28.899448Z",
     "iopub.status.idle": "2023-04-23T13:28:32.843994Z",
     "shell.execute_reply": "2023-04-23T13:28:32.843536Z"
    },
    "papermill": {
     "duration": 3.948531,
     "end_time": "2023-04-23T13:28:32.845408",
     "exception": false,
     "start_time": "2023-04-23T13:28:28.896877",
     "status": "completed"
    },
    "tags": []
   },
   "outputs": [],
   "source": [
    "import gc\n",
    "import scanpy as sc\n",
    "import muon as mu\n",
    "import seaborn as sns\n",
    "import os\n",
    "import pandas as pd\n",
    "from matplotlib import pyplot as plt\n",
    "\n",
    "os.environ['R_HOME'] = '/gpfs/bwfor/work/ws/hd_fu399-conda/conda/envs/python_R/lib/R/'\n",
    "import anndata2ri\n",
    "import logging\n",
    "\n",
    "import rpy2.rinterface_lib.callbacks as rcb\n",
    "import rpy2.robjects as ro\n",
    "\n",
    "rcb.logger.setLevel(logging.ERROR)\n",
    "ro.pandas2ri.activate()\n",
    "anndata2ri.activate()\n",
    "\n",
    "%load_ext rpy2.ipython"
   ]
  },
  {
   "cell_type": "code",
   "execution_count": null,
   "id": "fc4ade78-b728-4704-9db6-45fbaab62ba1",
   "metadata": {
    "execution": {
     "iopub.execute_input": "2023-04-23T13:28:32.851177Z",
     "iopub.status.busy": "2023-04-23T13:28:32.850870Z",
     "iopub.status.idle": "2023-04-23T13:28:42.247609Z",
     "shell.execute_reply": "2023-04-23T13:28:42.247037Z"
    },
    "papermill": {
     "duration": 9.400775,
     "end_time": "2023-04-23T13:28:42.248885",
     "exception": false,
     "start_time": "2023-04-23T13:28:32.848110",
     "status": "completed"
    },
    "tags": []
   },
   "outputs": [],
   "source": [
    "%%R\n",
    "library(SoupX)\n",
    "library(Seurat)\n",
    "library(scater)\n",
    "library(scDblFinder)\n",
    "library(BiocParallel)\n",
    "library(MuDataSeurat)\n",
    "library(DropletUtils)"
   ]
  },
  {
   "cell_type": "code",
   "execution_count": null,
   "id": "611e4882-fc48-43d1-b1cd-e65e1bde0015",
   "metadata": {
    "execution": {
     "iopub.execute_input": "2023-04-23T13:28:42.256816Z",
     "iopub.status.busy": "2023-04-23T13:28:42.256662Z",
     "iopub.status.idle": "2023-04-23T13:28:42.259116Z",
     "shell.execute_reply": "2023-04-23T13:28:42.258800Z"
    },
    "papermill": {
     "duration": 0.006406,
     "end_time": "2023-04-23T13:28:42.259908",
     "exception": false,
     "start_time": "2023-04-23T13:28:42.253502",
     "status": "completed"
    },
    "tags": []
   },
   "outputs": [],
   "source": [
    "sample_name = \"ERR7425204\""
   ]
  },
  {
   "cell_type": "code",
   "execution_count": null,
   "id": "f7424d90-7690-4290-8651-1db3f9df3a35",
   "metadata": {
    "execution": {
     "iopub.execute_input": "2023-04-23T13:28:42.264917Z",
     "iopub.status.busy": "2023-04-23T13:28:42.264725Z",
     "iopub.status.idle": "2023-04-23T13:28:42.271645Z",
     "shell.execute_reply": "2023-04-23T13:28:42.271316Z"
    },
    "papermill": {
     "duration": 0.010422,
     "end_time": "2023-04-23T13:28:42.272584",
     "exception": false,
     "start_time": "2023-04-23T13:28:42.262162",
     "status": "completed"
    },
    "tags": []
   },
   "outputs": [],
   "source": [
    "metadata = pd.read_csv(\"../../metadata.csv\", index_col = 0)"
   ]
  },
  {
   "cell_type": "code",
   "execution_count": null,
   "id": "2574ecf1-bad4-4c33-8f3f-718a358727ab",
   "metadata": {
    "execution": {
     "iopub.execute_input": "2023-04-23T13:28:42.277641Z",
     "iopub.status.busy": "2023-04-23T13:28:42.277413Z",
     "iopub.status.idle": "2023-04-23T13:28:42.279451Z",
     "shell.execute_reply": "2023-04-23T13:28:42.279154Z"
    },
    "papermill": {
     "duration": 0.005454,
     "end_time": "2023-04-23T13:28:42.280267",
     "exception": false,
     "start_time": "2023-04-23T13:28:42.274813",
     "status": "completed"
    },
    "tags": []
   },
   "outputs": [],
   "source": [
    "raw_input = f\"/home/hd/hd_hd/hd_fu399/sds-hd/sd21k006/scRNAseq/revision_natcomm/montaldo_et_al/{sample_name}/{sample_name}/outs/raw_feature_bc_matrix.h5\""
   ]
  },
  {
   "cell_type": "code",
   "execution_count": null,
   "id": "e266d388-1802-435c-93a5-90067358739c",
   "metadata": {
    "execution": {
     "iopub.execute_input": "2023-04-23T13:28:42.285377Z",
     "iopub.status.busy": "2023-04-23T13:28:42.285145Z",
     "iopub.status.idle": "2023-04-23T13:28:43.365362Z",
     "shell.execute_reply": "2023-04-23T13:28:43.364928Z"
    },
    "papermill": {
     "duration": 1.083864,
     "end_time": "2023-04-23T13:28:43.366318",
     "exception": false,
     "start_time": "2023-04-23T13:28:42.282454",
     "status": "completed"
    },
    "tags": []
   },
   "outputs": [],
   "source": [
    "dataset = sc.read_10x_h5(raw_input)\n",
    "dataset.var_names_make_unique()\n",
    "dataset.obs_names_make_unique()\n",
    "\n",
    "dataset.layers[\"raw_counts\"] = dataset.X.copy()\n",
    "data_tod = dataset.layers[\"raw_counts\"].T.copy()\n",
    "\n",
    "dataset"
   ]
  },
  {
   "cell_type": "code",
   "execution_count": null,
   "id": "af9f5892-ed31-42a6-991b-4e096f582cef",
   "metadata": {
    "execution": {
     "iopub.execute_input": "2023-04-23T13:28:43.372386Z",
     "iopub.status.busy": "2023-04-23T13:28:43.372208Z",
     "iopub.status.idle": "2023-04-23T13:28:43.471282Z",
     "shell.execute_reply": "2023-04-23T13:28:43.470809Z"
    },
    "papermill": {
     "duration": 0.103404,
     "end_time": "2023-04-23T13:28:43.472667",
     "exception": false,
     "start_time": "2023-04-23T13:28:43.369263",
     "status": "completed"
    },
    "tags": []
   },
   "outputs": [],
   "source": [
    "sce = dataset.copy()"
   ]
  },
  {
   "cell_type": "code",
   "execution_count": null,
   "id": "d03f2caf-8e74-430e-b045-0ab80401d165",
   "metadata": {
    "execution": {
     "iopub.execute_input": "2023-04-23T13:28:43.478634Z",
     "iopub.status.busy": "2023-04-23T13:28:43.478478Z",
     "iopub.status.idle": "2023-04-23T13:29:59.299230Z",
     "shell.execute_reply": "2023-04-23T13:29:59.298631Z"
    },
    "papermill": {
     "duration": 75.82497,
     "end_time": "2023-04-23T13:29:59.300524",
     "exception": false,
     "start_time": "2023-04-23T13:28:43.475554",
     "status": "completed"
    },
    "tags": []
   },
   "outputs": [],
   "source": [
    "%%R -i sce -o empty_drop_output\n",
    "set.seed(187)\n",
    "empty_drop_output <- emptyDrops(assay(sce))"
   ]
  },
  {
   "cell_type": "code",
   "execution_count": null,
   "id": "2a34a54b-3ae2-44d6-8679-8769228c5b66",
   "metadata": {
    "execution": {
     "iopub.execute_input": "2023-04-23T13:29:59.309173Z",
     "iopub.status.busy": "2023-04-23T13:29:59.309002Z",
     "iopub.status.idle": "2023-04-23T13:29:59.367048Z",
     "shell.execute_reply": "2023-04-23T13:29:59.366643Z"
    },
    "papermill": {
     "duration": 0.062022,
     "end_time": "2023-04-23T13:29:59.367950",
     "exception": false,
     "start_time": "2023-04-23T13:29:59.305928",
     "status": "completed"
    },
    "tags": []
   },
   "outputs": [],
   "source": [
    "non_empty_barcodes = empty_drop_output[empty_drop_output[\"FDR\"] < 0.001].index\n",
    "dataset = dataset[dataset.obs.index.isin(non_empty_barcodes), :]\n",
    "dataset"
   ]
  },
  {
   "cell_type": "code",
   "execution_count": null,
   "id": "016a91e5-1bef-46fb-b91e-4fb9a6870c44",
   "metadata": {
    "execution": {
     "iopub.execute_input": "2023-04-23T13:29:59.373613Z",
     "iopub.status.busy": "2023-04-23T13:29:59.373472Z",
     "iopub.status.idle": "2023-04-23T13:31:30.377853Z",
     "shell.execute_reply": "2023-04-23T13:31:30.377226Z"
    },
    "papermill": {
     "duration": 91.008739,
     "end_time": "2023-04-23T13:31:30.379230",
     "exception": false,
     "start_time": "2023-04-23T13:29:59.370491",
     "status": "completed"
    },
    "tags": []
   },
   "outputs": [],
   "source": [
    "rna_assay = dataset.copy()\n",
    "sc.pp.normalize_per_cell(rna_assay)\n",
    "sc.pp.log1p(rna_assay)\n",
    "sc.pp.pca(rna_assay)\n",
    "sc.pp.neighbors(rna_assay)\n",
    "sc.tl.leiden(rna_assay, key_added=\"soupx_groups\")\n",
    "\n",
    "soupx_groups = rna_assay.obs[\"soupx_groups\"]\n",
    "\n",
    "del rna_assay\n",
    "\n",
    "genes = dataset.var_names\n",
    "cells = dataset.obs_names\n",
    "data = dataset.X.T.copy()"
   ]
  },
  {
   "cell_type": "code",
   "execution_count": null,
   "id": "9db4ea1f-1580-4f43-a3f0-86002397cd98",
   "metadata": {
    "execution": {
     "iopub.execute_input": "2023-04-23T13:31:30.387838Z",
     "iopub.status.busy": "2023-04-23T13:31:30.387608Z",
     "iopub.status.idle": "2023-04-23T13:31:52.891823Z",
     "shell.execute_reply": "2023-04-23T13:31:52.891225Z"
    },
    "papermill": {
     "duration": 22.508844,
     "end_time": "2023-04-23T13:31:52.893183",
     "exception": false,
     "start_time": "2023-04-23T13:31:30.384339",
     "status": "completed"
    },
    "tags": []
   },
   "outputs": [],
   "source": [
    "%%R -i data -i data_tod -i genes -i cells -i soupx_groups -o out \n",
    "set.seed(187)\n",
    "# specify row and column names of data\n",
    "rownames(data) = genes\n",
    "colnames(data) = cells\n",
    "# ensure correct sparse format for table of counts and table of droplets\n",
    "data <- as(data, \"sparseMatrix\")\n",
    "data_tod <- as(data_tod, \"sparseMatrix\")\n",
    "\n",
    "# Generate SoupChannel Object for SoupX \n",
    "sc = SoupChannel(data_tod, data, calcSoupProfile = FALSE)\n",
    "\n",
    "# Add extra meta data to the SoupChannel object\n",
    "soupProf = data.frame(row.names = rownames(data),\n",
    "                      est = rowSums(data)/sum(data),\n",
    "                      counts = rowSums(data))\n",
    "sc = setSoupProfile(sc, soupProf)\n",
    "# Set cluster information in SoupChannel\n",
    "sc = setClusters(sc, soupx_groups)\n",
    "\n",
    "# Estimate contamination fraction\n",
    "sc  = autoEstCont(sc, doPlot=FALSE, forceAccept = TRUE)\n",
    "# Infer corrected table of counts and rount to integer\n",
    "out = adjustCounts(sc, roundToInt = TRUE)"
   ]
  },
  {
   "cell_type": "code",
   "execution_count": null,
   "id": "32555d5e-5fa3-46dd-a4e0-ddc96ea265e2",
   "metadata": {
    "execution": {
     "iopub.execute_input": "2023-04-23T13:31:52.902765Z",
     "iopub.status.busy": "2023-04-23T13:31:52.902561Z",
     "iopub.status.idle": "2023-04-23T13:31:52.953312Z",
     "shell.execute_reply": "2023-04-23T13:31:52.952843Z"
    },
    "papermill": {
     "duration": 0.055507,
     "end_time": "2023-04-23T13:31:52.954595",
     "exception": false,
     "start_time": "2023-04-23T13:31:52.899088",
     "status": "completed"
    },
    "tags": []
   },
   "outputs": [],
   "source": [
    "dataset.layers[\"soupX_counts\"] = out.T\n",
    "dataset.X = dataset.layers[\"soupX_counts\"].copy()"
   ]
  },
  {
   "cell_type": "code",
   "execution_count": null,
   "id": "e27da7df-e094-4d2a-9109-5a363e012175",
   "metadata": {
    "execution": {
     "iopub.execute_input": "2023-04-23T13:31:52.962526Z",
     "iopub.status.busy": "2023-04-23T13:31:52.962324Z",
     "iopub.status.idle": "2023-04-23T13:31:52.964804Z",
     "shell.execute_reply": "2023-04-23T13:31:52.964457Z"
    },
    "papermill": {
     "duration": 0.006532,
     "end_time": "2023-04-23T13:31:52.965595",
     "exception": false,
     "start_time": "2023-04-23T13:31:52.959063",
     "status": "completed"
    },
    "tags": []
   },
   "outputs": [],
   "source": [
    "data_mat = dataset.X.T"
   ]
  },
  {
   "cell_type": "code",
   "execution_count": null,
   "id": "80a993b1-5ccb-4697-9187-1beb7ab8aff9",
   "metadata": {
    "execution": {
     "iopub.execute_input": "2023-04-23T13:31:52.971323Z",
     "iopub.status.busy": "2023-04-23T13:31:52.971158Z",
     "iopub.status.idle": "2023-04-23T13:33:03.384733Z",
     "shell.execute_reply": "2023-04-23T13:33:03.384120Z"
    },
    "papermill": {
     "duration": 70.418085,
     "end_time": "2023-04-23T13:33:03.386195",
     "exception": false,
     "start_time": "2023-04-23T13:31:52.968110",
     "status": "completed"
    },
    "tags": []
   },
   "outputs": [],
   "source": [
    "%%R -i data_mat -o droplet_class\n",
    "\n",
    "set.seed(187)\n",
    "sce = scDblFinder(\n",
    "    SingleCellExperiment(\n",
    "        list(counts=data_mat),\n",
    "    ) \n",
    ")\n",
    "droplet_class = sce$scDblFinder.class"
   ]
  },
  {
   "cell_type": "code",
   "execution_count": null,
   "id": "d4dd6e9d-fcf2-41fc-8457-c8e0a3cb2c71",
   "metadata": {
    "execution": {
     "iopub.execute_input": "2023-04-23T13:33:03.395306Z",
     "iopub.status.busy": "2023-04-23T13:33:03.395117Z",
     "iopub.status.idle": "2023-04-23T13:33:03.400441Z",
     "shell.execute_reply": "2023-04-23T13:33:03.400082Z"
    },
    "papermill": {
     "duration": 0.00957,
     "end_time": "2023-04-23T13:33:03.401242",
     "exception": false,
     "start_time": "2023-04-23T13:33:03.391672",
     "status": "completed"
    },
    "tags": []
   },
   "outputs": [],
   "source": [
    "dataset.obs[\"scDblFinder_class\"] = droplet_class\n",
    "dataset.obs.scDblFinder_class.value_counts()\n",
    "dataset"
   ]
  },
  {
   "cell_type": "code",
   "execution_count": null,
   "id": "28c95014-2d6c-477f-95cb-9f9f0507520c",
   "metadata": {
    "execution": {
     "iopub.execute_input": "2023-04-23T13:33:03.407249Z",
     "iopub.status.busy": "2023-04-23T13:33:03.407008Z",
     "iopub.status.idle": "2023-04-23T13:33:03.414966Z",
     "shell.execute_reply": "2023-04-23T13:33:03.414627Z"
    },
    "papermill": {
     "duration": 0.011901,
     "end_time": "2023-04-23T13:33:03.415769",
     "exception": false,
     "start_time": "2023-04-23T13:33:03.403868",
     "status": "completed"
    },
    "tags": []
   },
   "outputs": [],
   "source": [
    "dataset = dataset[dataset.obs[\"scDblFinder_class\"] == 1]"
   ]
  },
  {
   "cell_type": "code",
   "execution_count": null,
   "id": "3e22f9e0-bfcb-416c-a151-a9bca3bec3b9",
   "metadata": {
    "execution": {
     "iopub.execute_input": "2023-04-23T13:33:03.421876Z",
     "iopub.status.busy": "2023-04-23T13:33:03.421650Z",
     "iopub.status.idle": "2023-04-23T13:33:03.734475Z",
     "shell.execute_reply": "2023-04-23T13:33:03.734029Z"
    },
    "papermill": {
     "duration": 0.317,
     "end_time": "2023-04-23T13:33:03.735467",
     "exception": false,
     "start_time": "2023-04-23T13:33:03.418467",
     "status": "completed"
    },
    "tags": []
   },
   "outputs": [],
   "source": [
    "# mitochondrial genes\n",
    "dataset.var[\"mt\"] = dataset.var_names.str.startswith(\"MT-\")\n",
    "# ribosomal genes\n",
    "dataset.var[\"ribo\"] = dataset.var_names.str.startswith((\"RPS\", \"RPL\"))\n",
    "# hemoglobin genes.\n",
    "dataset.var[\"hb\"] = dataset.var_names.str.contains((\"^HB[^(P)]\"))\n",
    "\n",
    "sc.pp.calculate_qc_metrics(dataset,\n",
    "                           qc_vars=['mt', 'ribo', 'hb'],\n",
    "                           percent_top=None,\n",
    "                           log1p=False,\n",
    "                           inplace=True)\n",
    "dataset"
   ]
  },
  {
   "cell_type": "code",
   "execution_count": null,
   "id": "34deee79-4043-428f-8575-aa57b45f6369",
   "metadata": {
    "execution": {
     "iopub.execute_input": "2023-04-23T13:33:03.742289Z",
     "iopub.status.busy": "2023-04-23T13:33:03.742126Z",
     "iopub.status.idle": "2023-04-23T13:33:04.473304Z",
     "shell.execute_reply": "2023-04-23T13:33:04.472929Z"
    },
    "papermill": {
     "duration": 0.735417,
     "end_time": "2023-04-23T13:33:04.474230",
     "exception": false,
     "start_time": "2023-04-23T13:33:03.738813",
     "status": "completed"
    },
    "tags": []
   },
   "outputs": [],
   "source": [
    "fig, ax = plt.subplots(ncols = 4, figsize = (16,4))\n",
    "axis = sc.pl.violin(dataset, \"n_genes_by_counts\", jitter = 0.4, ax = ax[0], show = False)\n",
    "axis.grid(False)\n",
    "axis.set_title(\"Unique Genes per cell\")\n",
    "axis.tick_params(axis = \"x\", bottom =False, labelbottom =False)\n",
    "axis.set_ylabel(\"# genes\")\n",
    "axis.axhline(y = 250, color = \"black\", label = \"cutoff\")\n",
    "axis.legend(fontsize = 14, loc = \"upper right\")\n",
    "\n",
    "axis = sc.pl.violin(dataset, \"pct_counts_mt\", jitter = 0.4, ax = ax[1], show = False)\n",
    "axis.grid(False)\n",
    "axis.set_title(\"Mitochondrial Fraction\")\n",
    "axis.tick_params(axis = \"x\", bottom =False, labelbottom =False)\n",
    "axis.set_ylabel(\"% mitochondrial genes\")\n",
    "axis.axhline(y = 10, color = \"black\", label = \"cutoff\")\n",
    "axis.legend(fontsize = 14, loc = \"upper right\")\n",
    "\n",
    "axis = sc.pl.violin(dataset, \"pct_counts_hb\", jitter = 0.4, ax = ax[2], show = False, size =2)\n",
    "axis.grid(False)\n",
    "axis.set_title(\"Hemoglobin Fraction\")\n",
    "axis.tick_params(axis = \"x\", bottom =False, labelbottom =False)\n",
    "axis.set_ylabel(\"% hemoglobin genes\")\n",
    "axis.axhline(y = 1, color = \"black\", label = \"cutoff\")\n",
    "axis.legend(fontsize = 14, loc = \"upper right\")\n",
    "#axis.set_ylim(0,5)\n",
    "\n",
    "axis = sc.pl.violin(dataset, \"pct_counts_ribo\", jitter = 0.4, ax = ax[3], show = False)\n",
    "axis.grid(False)\n",
    "axis.set_title(\"Ribosomal Fraction\")\n",
    "axis.tick_params(axis = \"x\", bottom =False, labelbottom =False)\n",
    "axis.set_ylabel(\"% ribosome genes\")\n",
    "\n",
    "plt.tight_layout()\n",
    "#plt.savefig(f\"{outputDir}08_gene_based_filtering.pdf\", dpi = 300)\n",
    "plt.show()\n",
    "\n"
   ]
  },
  {
   "cell_type": "code",
   "execution_count": null,
   "id": "d7ade754-843e-4840-8707-426613d8c0c5",
   "metadata": {
    "execution": {
     "iopub.execute_input": "2023-04-23T13:33:04.482444Z",
     "iopub.status.busy": "2023-04-23T13:33:04.482165Z",
     "iopub.status.idle": "2023-04-23T13:33:04.495336Z",
     "shell.execute_reply": "2023-04-23T13:33:04.495014Z"
    },
    "papermill": {
     "duration": 0.018053,
     "end_time": "2023-04-23T13:33:04.496155",
     "exception": false,
     "start_time": "2023-04-23T13:33:04.478102",
     "status": "completed"
    },
    "tags": []
   },
   "outputs": [],
   "source": [
    "dataset = dataset[dataset.obs.pct_counts_mt < 10, :]\n",
    "dataset = dataset[dataset.obs.n_genes_by_counts > 250, :]\n",
    "dataset = dataset[dataset.obs.pct_counts_hb < 1, :]\n",
    "dataset"
   ]
  },
  {
   "cell_type": "code",
   "execution_count": null,
   "id": "2e0ff8c3-2aa9-4a01-9b88-5912a6734447",
   "metadata": {
    "execution": {
     "iopub.execute_input": "2023-04-23T13:33:04.504121Z",
     "iopub.status.busy": "2023-04-23T13:33:04.503931Z",
     "iopub.status.idle": "2023-04-23T13:33:04.600803Z",
     "shell.execute_reply": "2023-04-23T13:33:04.600401Z"
    },
    "papermill": {
     "duration": 0.102131,
     "end_time": "2023-04-23T13:33:04.602025",
     "exception": false,
     "start_time": "2023-04-23T13:33:04.499894",
     "status": "completed"
    },
    "tags": []
   },
   "outputs": [],
   "source": [
    "for col in metadata.columns:\n",
    "    dataset.obs[col] = metadata.loc[(metadata[\"ENA_RUN\"] == sample_name) & (metadata[\"read_index\"] == \"read1\"), col].to_list()[0]"
   ]
  },
  {
   "cell_type": "code",
   "execution_count": null,
   "id": "b84578d3-d63e-419c-a272-a0b8317d05ab",
   "metadata": {
    "execution": {
     "iopub.execute_input": "2023-04-23T13:33:04.610670Z",
     "iopub.status.busy": "2023-04-23T13:33:04.610481Z",
     "iopub.status.idle": "2023-04-23T13:33:04.926010Z",
     "shell.execute_reply": "2023-04-23T13:33:04.925538Z"
    },
    "papermill": {
     "duration": 0.321274,
     "end_time": "2023-04-23T13:33:04.927411",
     "exception": false,
     "start_time": "2023-04-23T13:33:04.606137",
     "status": "completed"
    },
    "tags": []
   },
   "outputs": [],
   "source": [
    "dataset.write(f\"../../int_data/{sample_name}_qc.h5ad\")"
   ]
  }
 ],
 "metadata": {
  "kernelspec": {
   "display_name": "py_R",
   "language": "python",
   "name": "python_r"
  },
  "language_info": {
   "codemirror_mode": {
    "name": "ipython",
    "version": 3
   },
   "file_extension": ".py",
   "mimetype": "text/x-python",
   "name": "python",
   "nbconvert_exporter": "python",
   "pygments_lexer": "ipython3",
   "version": "3.10.9"
  },
  "papermill": {
   "default_parameters": {},
   "duration": 278.850138,
   "end_time": "2023-04-23T13:33:06.950699",
   "environment_variables": {},
   "exception": null,
   "input_path": "ERR7425204.ipynb",
   "output_path": "ERR7425204.ipynb",
   "parameters": {},
   "start_time": "2023-04-23T13:28:28.100561",
   "version": "2.4.0"
  }
 },
 "nbformat": 4,
 "nbformat_minor": 5
}
