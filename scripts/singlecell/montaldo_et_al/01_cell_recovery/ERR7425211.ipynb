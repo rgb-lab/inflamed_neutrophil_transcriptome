{
 "cells": [
  {
   "cell_type": "code",
   "execution_count": null,
   "id": "f87ed95b-2b67-4a5a-8fe2-47359b1dd2a9",
   "metadata": {
    "execution": {
     "iopub.execute_input": "2023-04-23T13:51:59.332774Z",
     "iopub.status.busy": "2023-04-23T13:51:59.332613Z",
     "iopub.status.idle": "2023-04-23T13:51:59.337527Z",
     "shell.execute_reply": "2023-04-23T13:51:59.337222Z"
    },
    "papermill": {
     "duration": 0.009083,
     "end_time": "2023-04-23T13:51:59.338348",
     "exception": false,
     "start_time": "2023-04-23T13:51:59.329265",
     "status": "completed"
    },
    "tags": []
   },
   "outputs": [],
   "source": [
    "import warnings\n",
    "warnings.simplefilter(action='ignore', category=FutureWarning)\n",
    "warnings.simplefilter(action='ignore', category=UserWarning)"
   ]
  },
  {
   "cell_type": "code",
   "execution_count": null,
   "id": "85161f19-b2c5-490b-8cab-c2cf9653b304",
   "metadata": {
    "execution": {
     "iopub.execute_input": "2023-04-23T13:51:59.343808Z",
     "iopub.status.busy": "2023-04-23T13:51:59.343567Z",
     "iopub.status.idle": "2023-04-23T13:52:03.811502Z",
     "shell.execute_reply": "2023-04-23T13:52:03.811046Z"
    },
    "papermill": {
     "duration": 4.47192,
     "end_time": "2023-04-23T13:52:03.812730",
     "exception": false,
     "start_time": "2023-04-23T13:51:59.340810",
     "status": "completed"
    },
    "tags": []
   },
   "outputs": [],
   "source": [
    "import gc\n",
    "import scanpy as sc\n",
    "import muon as mu\n",
    "import seaborn as sns\n",
    "import os\n",
    "import pandas as pd\n",
    "from matplotlib import pyplot as plt\n",
    "\n",
    "os.environ['R_HOME'] = '/gpfs/bwfor/work/ws/hd_fu399-conda/conda/envs/python_R/lib/R/'\n",
    "import anndata2ri\n",
    "import logging\n",
    "\n",
    "import rpy2.rinterface_lib.callbacks as rcb\n",
    "import rpy2.robjects as ro\n",
    "\n",
    "rcb.logger.setLevel(logging.ERROR)\n",
    "ro.pandas2ri.activate()\n",
    "anndata2ri.activate()\n",
    "\n",
    "%load_ext rpy2.ipython"
   ]
  },
  {
   "cell_type": "code",
   "execution_count": null,
   "id": "fc4ade78-b728-4704-9db6-45fbaab62ba1",
   "metadata": {
    "execution": {
     "iopub.execute_input": "2023-04-23T13:52:03.821160Z",
     "iopub.status.busy": "2023-04-23T13:52:03.820823Z",
     "iopub.status.idle": "2023-04-23T13:52:14.324353Z",
     "shell.execute_reply": "2023-04-23T13:52:14.323808Z"
    },
    "papermill": {
     "duration": 10.507454,
     "end_time": "2023-04-23T13:52:14.325602",
     "exception": false,
     "start_time": "2023-04-23T13:52:03.818148",
     "status": "completed"
    },
    "tags": []
   },
   "outputs": [],
   "source": [
    "%%R\n",
    "library(SoupX)\n",
    "library(Seurat)\n",
    "library(scater)\n",
    "library(scDblFinder)\n",
    "library(BiocParallel)\n",
    "library(MuDataSeurat)\n",
    "library(DropletUtils)"
   ]
  },
  {
   "cell_type": "code",
   "execution_count": null,
   "id": "611e4882-fc48-43d1-b1cd-e65e1bde0015",
   "metadata": {
    "execution": {
     "iopub.execute_input": "2023-04-23T13:52:14.333770Z",
     "iopub.status.busy": "2023-04-23T13:52:14.333452Z",
     "iopub.status.idle": "2023-04-23T13:52:14.335948Z",
     "shell.execute_reply": "2023-04-23T13:52:14.335580Z"
    },
    "papermill": {
     "duration": 0.006099,
     "end_time": "2023-04-23T13:52:14.336719",
     "exception": false,
     "start_time": "2023-04-23T13:52:14.330620",
     "status": "completed"
    },
    "tags": []
   },
   "outputs": [],
   "source": [
    "sample_name = \"ERR7425211\""
   ]
  },
  {
   "cell_type": "code",
   "execution_count": null,
   "id": "f7424d90-7690-4290-8651-1db3f9df3a35",
   "metadata": {
    "execution": {
     "iopub.execute_input": "2023-04-23T13:52:14.341576Z",
     "iopub.status.busy": "2023-04-23T13:52:14.341340Z",
     "iopub.status.idle": "2023-04-23T13:52:14.348085Z",
     "shell.execute_reply": "2023-04-23T13:52:14.347729Z"
    },
    "papermill": {
     "duration": 0.01002,
     "end_time": "2023-04-23T13:52:14.348857",
     "exception": false,
     "start_time": "2023-04-23T13:52:14.338837",
     "status": "completed"
    },
    "tags": []
   },
   "outputs": [],
   "source": [
    "metadata = pd.read_csv(\"../../metadata.csv\", index_col = 0)"
   ]
  },
  {
   "cell_type": "code",
   "execution_count": null,
   "id": "2574ecf1-bad4-4c33-8f3f-718a358727ab",
   "metadata": {
    "execution": {
     "iopub.execute_input": "2023-04-23T13:52:14.353779Z",
     "iopub.status.busy": "2023-04-23T13:52:14.353549Z",
     "iopub.status.idle": "2023-04-23T13:52:14.355530Z",
     "shell.execute_reply": "2023-04-23T13:52:14.355233Z"
    },
    "papermill": {
     "duration": 0.005301,
     "end_time": "2023-04-23T13:52:14.356324",
     "exception": false,
     "start_time": "2023-04-23T13:52:14.351023",
     "status": "completed"
    },
    "tags": []
   },
   "outputs": [],
   "source": [
    "raw_input = f\"/home/hd/hd_hd/hd_fu399/sds-hd/sd21k006/scRNAseq/revision_natcomm/montaldo_et_al/{sample_name}/{sample_name}/outs/raw_feature_bc_matrix.h5\""
   ]
  },
  {
   "cell_type": "code",
   "execution_count": null,
   "id": "e266d388-1802-435c-93a5-90067358739c",
   "metadata": {
    "execution": {
     "iopub.execute_input": "2023-04-23T13:52:14.361310Z",
     "iopub.status.busy": "2023-04-23T13:52:14.361088Z",
     "iopub.status.idle": "2023-04-23T13:52:15.129474Z",
     "shell.execute_reply": "2023-04-23T13:52:15.129038Z"
    },
    "papermill": {
     "duration": 0.771949,
     "end_time": "2023-04-23T13:52:15.130427",
     "exception": false,
     "start_time": "2023-04-23T13:52:14.358478",
     "status": "completed"
    },
    "tags": []
   },
   "outputs": [],
   "source": [
    "dataset = sc.read_10x_h5(raw_input)\n",
    "dataset.var_names_make_unique()\n",
    "dataset.obs_names_make_unique()\n",
    "\n",
    "dataset.layers[\"raw_counts\"] = dataset.X.copy()\n",
    "data_tod = dataset.layers[\"raw_counts\"].T.copy()\n",
    "\n",
    "dataset"
   ]
  },
  {
   "cell_type": "code",
   "execution_count": null,
   "id": "af9f5892-ed31-42a6-991b-4e096f582cef",
   "metadata": {
    "execution": {
     "iopub.execute_input": "2023-04-23T13:52:15.136637Z",
     "iopub.status.busy": "2023-04-23T13:52:15.136485Z",
     "iopub.status.idle": "2023-04-23T13:52:15.236838Z",
     "shell.execute_reply": "2023-04-23T13:52:15.236359Z"
    },
    "papermill": {
     "duration": 0.104559,
     "end_time": "2023-04-23T13:52:15.238186",
     "exception": false,
     "start_time": "2023-04-23T13:52:15.133627",
     "status": "completed"
    },
    "tags": []
   },
   "outputs": [],
   "source": [
    "sce = dataset.copy()"
   ]
  },
  {
   "cell_type": "code",
   "execution_count": null,
   "id": "d03f2caf-8e74-430e-b045-0ab80401d165",
   "metadata": {
    "execution": {
     "iopub.execute_input": "2023-04-23T13:52:15.244610Z",
     "iopub.status.busy": "2023-04-23T13:52:15.244422Z",
     "iopub.status.idle": "2023-04-23T13:53:28.519524Z",
     "shell.execute_reply": "2023-04-23T13:53:28.518912Z"
    },
    "papermill": {
     "duration": 73.27947,
     "end_time": "2023-04-23T13:53:28.520930",
     "exception": false,
     "start_time": "2023-04-23T13:52:15.241460",
     "status": "completed"
    },
    "tags": []
   },
   "outputs": [],
   "source": [
    "%%R -i sce -o empty_drop_output\n",
    "set.seed(187)\n",
    "empty_drop_output <- emptyDrops(assay(sce))"
   ]
  },
  {
   "cell_type": "code",
   "execution_count": null,
   "id": "2a34a54b-3ae2-44d6-8679-8769228c5b66",
   "metadata": {
    "execution": {
     "iopub.execute_input": "2023-04-23T13:53:28.529687Z",
     "iopub.status.busy": "2023-04-23T13:53:28.529501Z",
     "iopub.status.idle": "2023-04-23T13:53:28.580082Z",
     "shell.execute_reply": "2023-04-23T13:53:28.579758Z"
    },
    "papermill": {
     "duration": 0.054761,
     "end_time": "2023-04-23T13:53:28.580985",
     "exception": false,
     "start_time": "2023-04-23T13:53:28.526224",
     "status": "completed"
    },
    "tags": []
   },
   "outputs": [],
   "source": [
    "non_empty_barcodes = empty_drop_output[empty_drop_output[\"FDR\"] < 0.001].index\n",
    "dataset = dataset[dataset.obs.index.isin(non_empty_barcodes), :]\n",
    "dataset"
   ]
  },
  {
   "cell_type": "code",
   "execution_count": null,
   "id": "016a91e5-1bef-46fb-b91e-4fb9a6870c44",
   "metadata": {
    "execution": {
     "iopub.execute_input": "2023-04-23T13:53:28.586596Z",
     "iopub.status.busy": "2023-04-23T13:53:28.586460Z",
     "iopub.status.idle": "2023-04-23T13:53:34.558607Z",
     "shell.execute_reply": "2023-04-23T13:53:34.558025Z"
    },
    "papermill": {
     "duration": 5.976307,
     "end_time": "2023-04-23T13:53:34.559835",
     "exception": false,
     "start_time": "2023-04-23T13:53:28.583528",
     "status": "completed"
    },
    "tags": []
   },
   "outputs": [],
   "source": [
    "rna_assay = dataset.copy()\n",
    "sc.pp.normalize_per_cell(rna_assay)\n",
    "sc.pp.log1p(rna_assay)\n",
    "sc.pp.pca(rna_assay)\n",
    "sc.pp.neighbors(rna_assay)\n",
    "sc.tl.leiden(rna_assay, key_added=\"soupx_groups\")\n",
    "\n",
    "soupx_groups = rna_assay.obs[\"soupx_groups\"]\n",
    "\n",
    "del rna_assay\n",
    "\n",
    "genes = dataset.var_names\n",
    "cells = dataset.obs_names\n",
    "data = dataset.X.T.copy()"
   ]
  },
  {
   "cell_type": "code",
   "execution_count": null,
   "id": "9db4ea1f-1580-4f43-a3f0-86002397cd98",
   "metadata": {
    "execution": {
     "iopub.execute_input": "2023-04-23T13:53:34.569347Z",
     "iopub.status.busy": "2023-04-23T13:53:34.569158Z",
     "iopub.status.idle": "2023-04-23T13:53:47.297443Z",
     "shell.execute_reply": "2023-04-23T13:53:47.296840Z"
    },
    "papermill": {
     "duration": 12.733288,
     "end_time": "2023-04-23T13:53:47.298697",
     "exception": false,
     "start_time": "2023-04-23T13:53:34.565409",
     "status": "completed"
    },
    "tags": []
   },
   "outputs": [],
   "source": [
    "%%R -i data -i data_tod -i genes -i cells -i soupx_groups -o out \n",
    "set.seed(187)\n",
    "# specify row and column names of data\n",
    "rownames(data) = genes\n",
    "colnames(data) = cells\n",
    "# ensure correct sparse format for table of counts and table of droplets\n",
    "data <- as(data, \"sparseMatrix\")\n",
    "data_tod <- as(data_tod, \"sparseMatrix\")\n",
    "\n",
    "# Generate SoupChannel Object for SoupX \n",
    "sc = SoupChannel(data_tod, data, calcSoupProfile = FALSE)\n",
    "\n",
    "# Add extra meta data to the SoupChannel object\n",
    "soupProf = data.frame(row.names = rownames(data),\n",
    "                      est = rowSums(data)/sum(data),\n",
    "                      counts = rowSums(data))\n",
    "sc = setSoupProfile(sc, soupProf)\n",
    "# Set cluster information in SoupChannel\n",
    "sc = setClusters(sc, soupx_groups)\n",
    "\n",
    "# Estimate contamination fraction\n",
    "sc  = autoEstCont(sc, doPlot=FALSE, forceAccept = TRUE)\n",
    "# Infer corrected table of counts and rount to integer\n",
    "out = adjustCounts(sc, roundToInt = TRUE)"
   ]
  },
  {
   "cell_type": "code",
   "execution_count": null,
   "id": "32555d5e-5fa3-46dd-a4e0-ddc96ea265e2",
   "metadata": {
    "execution": {
     "iopub.execute_input": "2023-04-23T13:53:47.307207Z",
     "iopub.status.busy": "2023-04-23T13:53:47.307033Z",
     "iopub.status.idle": "2023-04-23T13:53:47.337093Z",
     "shell.execute_reply": "2023-04-23T13:53:47.336622Z"
    },
    "papermill": {
     "duration": 0.034805,
     "end_time": "2023-04-23T13:53:47.338364",
     "exception": false,
     "start_time": "2023-04-23T13:53:47.303559",
     "status": "completed"
    },
    "tags": []
   },
   "outputs": [],
   "source": [
    "dataset.layers[\"soupX_counts\"] = out.T\n",
    "dataset.X = dataset.layers[\"soupX_counts\"].copy()"
   ]
  },
  {
   "cell_type": "code",
   "execution_count": null,
   "id": "e27da7df-e094-4d2a-9109-5a363e012175",
   "metadata": {
    "execution": {
     "iopub.execute_input": "2023-04-23T13:53:47.345025Z",
     "iopub.status.busy": "2023-04-23T13:53:47.344850Z",
     "iopub.status.idle": "2023-04-23T13:53:47.347286Z",
     "shell.execute_reply": "2023-04-23T13:53:47.346975Z"
    },
    "papermill": {
     "duration": 0.006531,
     "end_time": "2023-04-23T13:53:47.348082",
     "exception": false,
     "start_time": "2023-04-23T13:53:47.341551",
     "status": "completed"
    },
    "tags": []
   },
   "outputs": [],
   "source": [
    "data_mat = dataset.X.T"
   ]
  },
  {
   "cell_type": "code",
   "execution_count": null,
   "id": "80a993b1-5ccb-4697-9187-1beb7ab8aff9",
   "metadata": {
    "execution": {
     "iopub.execute_input": "2023-04-23T13:53:47.353872Z",
     "iopub.status.busy": "2023-04-23T13:53:47.353735Z",
     "iopub.status.idle": "2023-04-23T13:54:25.071918Z",
     "shell.execute_reply": "2023-04-23T13:54:25.071312Z"
    },
    "papermill": {
     "duration": 37.722656,
     "end_time": "2023-04-23T13:54:25.073334",
     "exception": false,
     "start_time": "2023-04-23T13:53:47.350678",
     "status": "completed"
    },
    "tags": []
   },
   "outputs": [],
   "source": [
    "%%R -i data_mat -o droplet_class\n",
    "\n",
    "set.seed(187)\n",
    "sce = scDblFinder(\n",
    "    SingleCellExperiment(\n",
    "        list(counts=data_mat),\n",
    "    ) \n",
    ")\n",
    "droplet_class = sce$scDblFinder.class"
   ]
  },
  {
   "cell_type": "code",
   "execution_count": null,
   "id": "d4dd6e9d-fcf2-41fc-8457-c8e0a3cb2c71",
   "metadata": {
    "execution": {
     "iopub.execute_input": "2023-04-23T13:54:25.084512Z",
     "iopub.status.busy": "2023-04-23T13:54:25.084224Z",
     "iopub.status.idle": "2023-04-23T13:54:25.089224Z",
     "shell.execute_reply": "2023-04-23T13:54:25.088906Z"
    },
    "papermill": {
     "duration": 0.009286,
     "end_time": "2023-04-23T13:54:25.090021",
     "exception": false,
     "start_time": "2023-04-23T13:54:25.080735",
     "status": "completed"
    },
    "tags": []
   },
   "outputs": [],
   "source": [
    "dataset.obs[\"scDblFinder_class\"] = droplet_class\n",
    "dataset.obs.scDblFinder_class.value_counts()\n",
    "dataset"
   ]
  },
  {
   "cell_type": "code",
   "execution_count": null,
   "id": "28c95014-2d6c-477f-95cb-9f9f0507520c",
   "metadata": {
    "execution": {
     "iopub.execute_input": "2023-04-23T13:54:25.095945Z",
     "iopub.status.busy": "2023-04-23T13:54:25.095725Z",
     "iopub.status.idle": "2023-04-23T13:54:25.127317Z",
     "shell.execute_reply": "2023-04-23T13:54:25.126925Z"
    },
    "papermill": {
     "duration": 0.035614,
     "end_time": "2023-04-23T13:54:25.128245",
     "exception": false,
     "start_time": "2023-04-23T13:54:25.092631",
     "status": "completed"
    },
    "tags": []
   },
   "outputs": [],
   "source": [
    "dataset = dataset[dataset.obs[\"scDblFinder_class\"] == 1]"
   ]
  },
  {
   "cell_type": "code",
   "execution_count": null,
   "id": "3e22f9e0-bfcb-416c-a151-a9bca3bec3b9",
   "metadata": {
    "execution": {
     "iopub.execute_input": "2023-04-23T13:54:25.136046Z",
     "iopub.status.busy": "2023-04-23T13:54:25.135877Z",
     "iopub.status.idle": "2023-04-23T13:54:25.262262Z",
     "shell.execute_reply": "2023-04-23T13:54:25.261890Z"
    },
    "papermill": {
     "duration": 0.132093,
     "end_time": "2023-04-23T13:54:25.263194",
     "exception": false,
     "start_time": "2023-04-23T13:54:25.131101",
     "status": "completed"
    },
    "tags": []
   },
   "outputs": [],
   "source": [
    "# mitochondrial genes\n",
    "dataset.var[\"mt\"] = dataset.var_names.str.startswith(\"MT-\")\n",
    "# ribosomal genes\n",
    "dataset.var[\"ribo\"] = dataset.var_names.str.startswith((\"RPS\", \"RPL\"))\n",
    "# hemoglobin genes.\n",
    "dataset.var[\"hb\"] = dataset.var_names.str.contains((\"^HB[^(P)]\"))\n",
    "\n",
    "sc.pp.calculate_qc_metrics(dataset,\n",
    "                           qc_vars=['mt', 'ribo', 'hb'],\n",
    "                           percent_top=None,\n",
    "                           log1p=False,\n",
    "                           inplace=True)\n",
    "dataset"
   ]
  },
  {
   "cell_type": "code",
   "execution_count": null,
   "id": "34deee79-4043-428f-8575-aa57b45f6369",
   "metadata": {
    "execution": {
     "iopub.execute_input": "2023-04-23T13:54:25.270465Z",
     "iopub.status.busy": "2023-04-23T13:54:25.270281Z",
     "iopub.status.idle": "2023-04-23T13:54:25.919514Z",
     "shell.execute_reply": "2023-04-23T13:54:25.919125Z"
    },
    "papermill": {
     "duration": 0.653621,
     "end_time": "2023-04-23T13:54:25.920422",
     "exception": false,
     "start_time": "2023-04-23T13:54:25.266801",
     "status": "completed"
    },
    "tags": []
   },
   "outputs": [],
   "source": [
    "fig, ax = plt.subplots(ncols = 4, figsize = (16,4))\n",
    "axis = sc.pl.violin(dataset, \"n_genes_by_counts\", jitter = 0.4, ax = ax[0], show = False)\n",
    "axis.grid(False)\n",
    "axis.set_title(\"Unique Genes per cell\")\n",
    "axis.tick_params(axis = \"x\", bottom =False, labelbottom =False)\n",
    "axis.set_ylabel(\"# genes\")\n",
    "axis.axhline(y = 250, color = \"black\", label = \"cutoff\")\n",
    "axis.legend(fontsize = 14, loc = \"upper right\")\n",
    "\n",
    "axis = sc.pl.violin(dataset, \"pct_counts_mt\", jitter = 0.4, ax = ax[1], show = False)\n",
    "axis.grid(False)\n",
    "axis.set_title(\"Mitochondrial Fraction\")\n",
    "axis.tick_params(axis = \"x\", bottom =False, labelbottom =False)\n",
    "axis.set_ylabel(\"% mitochondrial genes\")\n",
    "axis.axhline(y = 10, color = \"black\", label = \"cutoff\")\n",
    "axis.legend(fontsize = 14, loc = \"upper right\")\n",
    "\n",
    "axis = sc.pl.violin(dataset, \"pct_counts_hb\", jitter = 0.4, ax = ax[2], show = False, size =2)\n",
    "axis.grid(False)\n",
    "axis.set_title(\"Hemoglobin Fraction\")\n",
    "axis.tick_params(axis = \"x\", bottom =False, labelbottom =False)\n",
    "axis.set_ylabel(\"% hemoglobin genes\")\n",
    "axis.axhline(y = 1, color = \"black\", label = \"cutoff\")\n",
    "axis.legend(fontsize = 14, loc = \"upper right\")\n",
    "#axis.set_ylim(0,5)\n",
    "\n",
    "axis = sc.pl.violin(dataset, \"pct_counts_ribo\", jitter = 0.4, ax = ax[3], show = False)\n",
    "axis.grid(False)\n",
    "axis.set_title(\"Ribosomal Fraction\")\n",
    "axis.tick_params(axis = \"x\", bottom =False, labelbottom =False)\n",
    "axis.set_ylabel(\"% ribosome genes\")\n",
    "\n",
    "plt.tight_layout()\n",
    "#plt.savefig(f\"{outputDir}08_gene_based_filtering.pdf\", dpi = 300)\n",
    "plt.show()\n",
    "\n"
   ]
  },
  {
   "cell_type": "code",
   "execution_count": null,
   "id": "d7ade754-843e-4840-8707-426613d8c0c5",
   "metadata": {
    "execution": {
     "iopub.execute_input": "2023-04-23T13:54:25.928971Z",
     "iopub.status.busy": "2023-04-23T13:54:25.928793Z",
     "iopub.status.idle": "2023-04-23T13:54:25.938335Z",
     "shell.execute_reply": "2023-04-23T13:54:25.938018Z"
    },
    "papermill": {
     "duration": 0.014632,
     "end_time": "2023-04-23T13:54:25.939214",
     "exception": false,
     "start_time": "2023-04-23T13:54:25.924582",
     "status": "completed"
    },
    "tags": []
   },
   "outputs": [],
   "source": [
    "dataset = dataset[dataset.obs.pct_counts_mt < 10, :]\n",
    "dataset = dataset[dataset.obs.n_genes_by_counts > 250, :]\n",
    "dataset = dataset[dataset.obs.pct_counts_hb < 1, :]\n",
    "dataset"
   ]
  },
  {
   "cell_type": "code",
   "execution_count": null,
   "id": "2e0ff8c3-2aa9-4a01-9b88-5912a6734447",
   "metadata": {
    "execution": {
     "iopub.execute_input": "2023-04-23T13:54:25.947303Z",
     "iopub.status.busy": "2023-04-23T13:54:25.947139Z",
     "iopub.status.idle": "2023-04-23T13:54:26.005278Z",
     "shell.execute_reply": "2023-04-23T13:54:26.004862Z"
    },
    "papermill": {
     "duration": 0.063516,
     "end_time": "2023-04-23T13:54:26.006527",
     "exception": false,
     "start_time": "2023-04-23T13:54:25.943011",
     "status": "completed"
    },
    "tags": []
   },
   "outputs": [],
   "source": [
    "for col in metadata.columns:\n",
    "    dataset.obs[col] = metadata.loc[(metadata[\"ENA_RUN\"] == sample_name) & (metadata[\"read_index\"] == \"read1\"), col].to_list()[0]"
   ]
  },
  {
   "cell_type": "code",
   "execution_count": null,
   "id": "b84578d3-d63e-419c-a272-a0b8317d05ab",
   "metadata": {
    "execution": {
     "iopub.execute_input": "2023-04-23T13:54:26.014976Z",
     "iopub.status.busy": "2023-04-23T13:54:26.014809Z",
     "iopub.status.idle": "2023-04-23T13:54:26.256160Z",
     "shell.execute_reply": "2023-04-23T13:54:26.255703Z"
    },
    "papermill": {
     "duration": 0.246881,
     "end_time": "2023-04-23T13:54:26.257497",
     "exception": false,
     "start_time": "2023-04-23T13:54:26.010616",
     "status": "completed"
    },
    "tags": []
   },
   "outputs": [],
   "source": [
    "dataset.write(f\"../../int_data/{sample_name}_qc.h5ad\")"
   ]
  }
 ],
 "metadata": {
  "kernelspec": {
   "display_name": "py_R",
   "language": "python",
   "name": "python_r"
  },
  "language_info": {
   "codemirror_mode": {
    "name": "ipython",
    "version": 3
   },
   "file_extension": ".py",
   "mimetype": "text/x-python",
   "name": "python",
   "nbconvert_exporter": "python",
   "pygments_lexer": "ipython3",
   "version": "3.10.9"
  },
  "papermill": {
   "default_parameters": {},
   "duration": 149.271535,
   "end_time": "2023-04-23T13:54:27.900070",
   "environment_variables": {},
   "exception": null,
   "input_path": "ERR7425211.ipynb",
   "output_path": "ERR7425211.ipynb",
   "parameters": {},
   "start_time": "2023-04-23T13:51:58.628535",
   "version": "2.4.0"
  }
 },
 "nbformat": 4,
 "nbformat_minor": 5
}
