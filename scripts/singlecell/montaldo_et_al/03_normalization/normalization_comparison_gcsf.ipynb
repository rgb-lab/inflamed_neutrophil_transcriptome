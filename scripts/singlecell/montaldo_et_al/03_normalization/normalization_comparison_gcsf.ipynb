{
 "cells": [
  {
   "cell_type": "code",
   "execution_count": null,
   "id": "9b35177d-116c-465b-8255-3b1cfe4c249c",
   "metadata": {
    "papermill": {
     "duration": 7.782595,
     "end_time": "2023-05-14T13:31:18.138505",
     "exception": false,
     "start_time": "2023-05-14T13:31:10.355910",
     "status": "completed"
    },
    "tags": []
   },
   "outputs": [],
   "source": [
    "import scanpy as sc\n",
    "import muon as mu\n",
    "import pandas as pd\n",
    "\n",
    "import os\n",
    "os.environ['R_HOME'] = '/gpfs/bwfor/work/ws/hd_fu399-conda/conda/envs/python_R/lib/R/'\n",
    "import anndata2ri\n",
    "import logging\n",
    "from matplotlib import pyplot as plt\n",
    "import seaborn as sns\n",
    "\n",
    "import rpy2.rinterface_lib.callbacks as rcb\n",
    "import rpy2.robjects as ro\n",
    "\n",
    "rcb.logger.setLevel(logging.ERROR)\n",
    "ro.pandas2ri.activate()\n",
    "anndata2ri.activate()\n",
    "\n",
    "%load_ext rpy2.ipython"
   ]
  },
  {
   "cell_type": "code",
   "execution_count": null,
   "id": "e4993c10-e558-4845-a802-83a8044c95b7",
   "metadata": {
    "papermill": {
     "duration": 10.66546,
     "end_time": "2023-05-14T13:31:28.808561",
     "exception": false,
     "start_time": "2023-05-14T13:31:18.143101",
     "status": "completed"
    },
    "tags": []
   },
   "outputs": [],
   "source": [
    "%%R\n",
    "library(Seurat)\n",
    "library(scran)\n",
    "library(BiocParallel)\n",
    "library(sctransform)"
   ]
  },
  {
   "cell_type": "code",
   "execution_count": null,
   "id": "052135a9-3a2c-4064-ad5d-bf56d615ae7c",
   "metadata": {
    "papermill": {
     "duration": 1.287109,
     "end_time": "2023-05-14T13:31:30.100284",
     "exception": false,
     "start_time": "2023-05-14T13:31:28.813175",
     "status": "completed"
    },
    "tags": []
   },
   "outputs": [],
   "source": [
    "dataset = sc.read(\"../../int_data/dataset_gcsf_qc.h5ad\")\n",
    "dataset.X = dataset.layers[\"soupX_counts\"]\n",
    "\n"
   ]
  },
  {
   "cell_type": "code",
   "execution_count": null,
   "id": "6079321e-acba-455e-b6ba-45b90c56ad17",
   "metadata": {
    "tags": []
   },
   "outputs": [],
   "source": [
    "dataset.obs[\"stimulus\"]"
   ]
  },
  {
   "cell_type": "code",
   "execution_count": null,
   "id": "2fada67a-a863-4168-bb55-d1050a588c0b",
   "metadata": {
    "execution": {
     "iopub.execute_input": "2023-05-14T13:31:30.108927Z",
     "iopub.status.busy": "2023-05-14T13:31:30.108677Z",
     "iopub.status.idle": "2023-05-14T13:31:31.267930Z",
     "shell.execute_reply": "2023-05-14T13:31:31.267436Z"
    },
    "papermill": {
     "duration": 1.164249,
     "end_time": "2023-05-14T13:31:31.269419",
     "exception": false,
     "start_time": "2023-05-14T13:31:30.105170",
     "status": "completed"
    },
    "tags": []
   },
   "outputs": [],
   "source": [
    "dataset.X = dataset.layers[\"soupX_counts\"]\n",
    "sc.pp.filter_genes(dataset, min_cells = 5)"
   ]
  },
  {
   "cell_type": "code",
   "execution_count": null,
   "id": "3c535ff8-43af-442d-b55e-e96d11a2a67b",
   "metadata": {
    "execution": {
     "iopub.execute_input": "2023-05-14T13:31:31.276133Z",
     "iopub.status.busy": "2023-05-14T13:31:31.275925Z",
     "iopub.status.idle": "2023-05-14T13:31:32.522539Z",
     "shell.execute_reply": "2023-05-14T13:31:32.522050Z"
    },
    "papermill": {
     "duration": 1.251466,
     "end_time": "2023-05-14T13:31:32.524077",
     "exception": false,
     "start_time": "2023-05-14T13:31:31.272611",
     "status": "completed"
    },
    "tags": []
   },
   "outputs": [],
   "source": [
    "proportional_fitting = sc.pp.normalize_total(dataset, target_sum = 1e4, inplace = False)\n",
    "dataset.layers[\"log1pPF_normalization\"] = sc.pp.log1p(proportional_fitting[\"X\"])\n",
    "dataset.layers[\"PFlog1PF_normalization\"] = sc.pp.normalize_total(dataset, target_sum = None, layer = \"log1pPF_normalization\", inplace = False)[\"X\"]"
   ]
  },
  {
   "cell_type": "code",
   "execution_count": null,
   "id": "69de6f1b-7743-4e13-a630-dff5f261328c",
   "metadata": {
    "execution": {
     "iopub.execute_input": "2023-05-14T13:31:32.530946Z",
     "iopub.status.busy": "2023-05-14T13:31:32.530727Z",
     "iopub.status.idle": "2023-05-14T13:31:32.533151Z",
     "shell.execute_reply": "2023-05-14T13:31:32.532794Z"
    },
    "papermill": {
     "duration": 0.006661,
     "end_time": "2023-05-14T13:31:32.533995",
     "exception": false,
     "start_time": "2023-05-14T13:31:32.527334",
     "status": "completed"
    },
    "tags": []
   },
   "outputs": [],
   "source": [
    "from scipy.sparse import csr_matrix, issparse"
   ]
  },
  {
   "cell_type": "code",
   "execution_count": null,
   "id": "4f8f684f-bc1c-46b3-8d46-656621204678",
   "metadata": {
    "execution": {
     "iopub.execute_input": "2023-05-14T13:31:32.539877Z",
     "iopub.status.busy": "2023-05-14T13:31:32.539620Z",
     "iopub.status.idle": "2023-05-14T13:33:09.021251Z",
     "shell.execute_reply": "2023-05-14T13:33:09.020637Z"
    },
    "papermill": {
     "duration": 96.486307,
     "end_time": "2023-05-14T13:33:09.022819",
     "exception": false,
     "start_time": "2023-05-14T13:31:32.536512",
     "status": "completed"
    },
    "tags": []
   },
   "outputs": [],
   "source": [
    "adata_pp = dataset.copy()\n",
    "sc.pp.normalize_per_cell(adata_pp, counts_per_cell_after=1e6)\n",
    "sc.pp.log1p(adata_pp)\n",
    "sc.pp.pca(adata_pp, n_comps=15)\n",
    "sc.pp.neighbors(adata_pp)\n",
    "sc.tl.leiden(adata_pp, key_added=\"groups\")\n",
    "\n",
    "data_mat = adata_pp.X.T\n",
    "input_groups = adata_pp.obs[\"groups\"]\n",
    "\n",
    "# convert to CSC if possible. See https://github.com/MarioniLab/scran/issues/70\n",
    "if issparse(data_mat):\n",
    "    if data_mat.nnz > 2**31 - 1:\n",
    "        data_mat = data_mat.tocoo()\n",
    "    else:\n",
    "        data_mat = data_mat.tocsc()"
   ]
  },
  {
   "cell_type": "code",
   "execution_count": null,
   "id": "a506fec6-ebca-4798-ad9c-5cacbcadbbc8",
   "metadata": {
    "execution": {
     "iopub.execute_input": "2023-05-14T13:33:09.033281Z",
     "iopub.status.busy": "2023-05-14T13:33:09.033063Z",
     "iopub.status.idle": "2023-05-14T13:34:04.268568Z",
     "shell.execute_reply": "2023-05-14T13:34:04.267917Z"
    },
    "papermill": {
     "duration": 55.240133,
     "end_time": "2023-05-14T13:34:04.269875",
     "exception": false,
     "start_time": "2023-05-14T13:33:09.029742",
     "status": "completed"
    },
    "tags": []
   },
   "outputs": [],
   "source": [
    "%%R -i data_mat -i input_groups -o size_factors\n",
    "\n",
    "size_factors = sizeFactors(\n",
    "    computeSumFactors(\n",
    "        SingleCellExperiment(\n",
    "            list(counts=data_mat)), \n",
    "            clusters = input_groups,\n",
    "            min.mean = 0.1,\n",
    "            BPPARAM = MulticoreParam()\n",
    "    )\n",
    ")"
   ]
  },
  {
   "cell_type": "code",
   "execution_count": null,
   "id": "5533b6ee-ec7d-4f92-8a59-5620b367d5dc",
   "metadata": {
    "execution": {
     "iopub.execute_input": "2023-05-14T13:34:04.277885Z",
     "iopub.status.busy": "2023-05-14T13:34:04.277684Z",
     "iopub.status.idle": "2023-05-14T13:34:19.065120Z",
     "shell.execute_reply": "2023-05-14T13:34:19.064474Z"
    },
    "papermill": {
     "duration": 14.792183,
     "end_time": "2023-05-14T13:34:19.066638",
     "exception": false,
     "start_time": "2023-05-14T13:34:04.274455",
     "status": "completed"
    },
    "tags": []
   },
   "outputs": [],
   "source": [
    "dataset.obs[\"size_factors\"] = size_factors\n",
    "dataset.X = dataset.layers[\"soupX_counts\"]\n",
    "scran = dataset.X / dataset.obs[\"size_factors\"].values[:, None]\n",
    "dataset.layers[\"scran_normalization\"] = csr_matrix(sc.pp.log1p(scran))"
   ]
  },
  {
   "cell_type": "code",
   "execution_count": null,
   "id": "6e99698c-9567-4225-b059-d2611f62a479",
   "metadata": {
    "execution": {
     "iopub.execute_input": "2023-05-14T13:34:19.074841Z",
     "iopub.status.busy": "2023-05-14T13:34:19.074660Z",
     "iopub.status.idle": "2023-05-14T13:34:19.548544Z",
     "shell.execute_reply": "2023-05-14T13:34:19.548043Z"
    },
    "papermill": {
     "duration": 0.478705,
     "end_time": "2023-05-14T13:34:19.549973",
     "exception": false,
     "start_time": "2023-05-14T13:34:19.071268",
     "status": "completed"
    },
    "tags": []
   },
   "outputs": [],
   "source": [
    "rna_data = dataset.copy()"
   ]
  },
  {
   "cell_type": "code",
   "execution_count": null,
   "id": "e4c75c94-ffa4-4f28-8119-1c957b3f2c53",
   "metadata": {
    "execution": {
     "iopub.execute_input": "2023-05-14T13:34:19.556673Z",
     "iopub.status.busy": "2023-05-14T13:34:19.556476Z",
     "iopub.status.idle": "2023-05-14T13:39:15.399317Z",
     "shell.execute_reply": "2023-05-14T13:39:15.398758Z"
    },
    "papermill": {
     "duration": 295.847797,
     "end_time": "2023-05-14T13:39:15.400955",
     "exception": false,
     "start_time": "2023-05-14T13:34:19.553158",
     "status": "completed"
    },
    "tags": []
   },
   "outputs": [],
   "source": [
    "%%R -i rna_data -o norm_x -o corrected_counts -o log_normalized\n",
    "\n",
    "dataset = rna_data\n",
    "seurat_obj = as.Seurat(dataset, counts=\"X\", data = NULL)\n",
    "seurat_obj = RenameAssays(seurat_obj, originalexp = \"RNA\")\n",
    "res = SCTransform(object=seurat_obj, method = \"glmGamPoi\", return.only.var.genes = FALSE)\n",
    "\n",
    "print(res)\n",
    "\n",
    "norm_x = res@assays$SCT@scale.data\n",
    "corrected_counts = res@assays$SCT@counts\n",
    "log_normalized = res@assays$SCT@data"
   ]
  },
  {
   "cell_type": "code",
   "execution_count": null,
   "id": "f7e36ac7-4ccc-4ad8-bab1-9ee09599cde0",
   "metadata": {
    "execution": {
     "iopub.execute_input": "2023-05-14T13:39:15.422906Z",
     "iopub.status.busy": "2023-05-14T13:39:15.422687Z",
     "iopub.status.idle": "2023-05-14T13:39:15.425715Z",
     "shell.execute_reply": "2023-05-14T13:39:15.425388Z"
    },
    "papermill": {
     "duration": 0.013724,
     "end_time": "2023-05-14T13:39:15.426496",
     "exception": false,
     "start_time": "2023-05-14T13:39:15.412772",
     "status": "completed"
    },
    "tags": []
   },
   "outputs": [],
   "source": [
    "dataset.layers[\"scTransform_normalized\"] = norm_x.T\n",
    "dataset.layers[\"scTransform_counts\"] = corrected_counts.T\n",
    "dataset.layers[\"scTransform_log_normalized\"] = log_normalized.T"
   ]
  },
  {
   "cell_type": "code",
   "execution_count": null,
   "id": "24f7d024-4528-405e-bb83-5480bee39b5e",
   "metadata": {
    "execution": {
     "iopub.execute_input": "2023-05-14T13:39:15.445101Z",
     "iopub.status.busy": "2023-05-14T13:39:15.444950Z",
     "iopub.status.idle": "2023-05-14T13:39:15.785108Z",
     "shell.execute_reply": "2023-05-14T13:39:15.784648Z"
    },
    "papermill": {
     "duration": 0.350506,
     "end_time": "2023-05-14T13:39:15.786036",
     "exception": false,
     "start_time": "2023-05-14T13:39:15.435530",
     "status": "completed"
    },
    "tags": []
   },
   "outputs": [],
   "source": [
    "metadata = pd.read_csv(\"../02_cell_ident/dataset_gcsf_metadata.csv\")\n",
    "dataset.obs[\"cell_type\"] = metadata[\"SingleR_label\"].to_list()"
   ]
  },
  {
   "cell_type": "code",
   "execution_count": null,
   "id": "f32fc203-70b8-4f18-9f1e-9395099e4962",
   "metadata": {
    "execution": {
     "iopub.execute_input": "2023-05-14T13:39:15.805428Z",
     "iopub.status.busy": "2023-05-14T13:39:15.805203Z",
     "iopub.status.idle": "2023-05-14T13:39:19.720249Z",
     "shell.execute_reply": "2023-05-14T13:39:19.719793Z"
    },
    "papermill": {
     "duration": 3.926834,
     "end_time": "2023-05-14T13:39:19.722103",
     "exception": false,
     "start_time": "2023-05-14T13:39:15.795269",
     "status": "completed"
    },
    "tags": []
   },
   "outputs": [],
   "source": [
    "dataset.write(\"../../int_data/dataset_gcsf_qc_normalized.h5ad\")"
   ]
  },
  {
   "cell_type": "code",
   "execution_count": null,
   "id": "3a8cf3e4-7e9b-4e8f-b731-d60ac24e88fc",
   "metadata": {
    "execution": {
     "iopub.execute_input": "2023-05-14T13:39:19.741919Z",
     "iopub.status.busy": "2023-05-14T13:39:19.741782Z",
     "iopub.status.idle": "2023-05-14T13:39:25.796425Z",
     "shell.execute_reply": "2023-05-14T13:39:25.795964Z"
    },
    "papermill": {
     "duration": 6.066077,
     "end_time": "2023-05-14T13:39:25.798181",
     "exception": false,
     "start_time": "2023-05-14T13:39:19.732104",
     "status": "completed"
    },
    "tags": []
   },
   "outputs": [],
   "source": [
    "dataset = sc.read(\"../../int_data/dataset_gcsf_qc_normalized.h5ad\")"
   ]
  },
  {
   "cell_type": "code",
   "execution_count": null,
   "id": "05c6d064-87fa-4a41-9ffe-659848865487",
   "metadata": {
    "execution": {
     "iopub.execute_input": "2023-05-14T13:39:25.820657Z",
     "iopub.status.busy": "2023-05-14T13:39:25.820486Z",
     "iopub.status.idle": "2023-05-14T13:39:25.823773Z",
     "shell.execute_reply": "2023-05-14T13:39:25.823453Z"
    },
    "papermill": {
     "duration": 0.014111,
     "end_time": "2023-05-14T13:39:25.824596",
     "exception": false,
     "start_time": "2023-05-14T13:39:25.810485",
     "status": "completed"
    },
    "tags": []
   },
   "outputs": [],
   "source": [
    "def dim_red(dataset, key):\n",
    "    sc.pp.pca(dataset)\n",
    "    dataset.obsm[f\"X_pca_{key}\"] = dataset.obsm[\"X_pca\"].copy()\n",
    "    \n",
    "    sc.pp.neighbors(dataset, use_rep = f\"X_pca_{key}\", key_added = f\"{key}_neighbors\")\n",
    "    \n",
    "    sc.tl.umap(dataset, neighbors_key = f\"{key}_neighbors\")\n",
    "    dataset.obsm[f\"X_umap_{key}\"] = dataset.obsm[\"X_umap\"].copy()"
   ]
  },
  {
   "cell_type": "code",
   "execution_count": null,
   "id": "759e264f-876c-4d8a-abe2-62840e3848f8",
   "metadata": {
    "execution": {
     "iopub.execute_input": "2023-05-14T13:39:25.843424Z",
     "iopub.status.busy": "2023-05-14T13:39:25.843266Z",
     "iopub.status.idle": "2023-05-14T13:44:48.876076Z",
     "shell.execute_reply": "2023-05-14T13:44:48.875349Z"
    },
    "papermill": {
     "duration": 323.043812,
     "end_time": "2023-05-14T13:44:48.877464",
     "exception": false,
     "start_time": "2023-05-14T13:39:25.833652",
     "status": "completed"
    },
    "tags": []
   },
   "outputs": [],
   "source": [
    "dataset.X = dataset.layers[\"log1pPF_normalization\"]\n",
    "dim_red(dataset, key = \"log1pPF\")\n",
    "\n",
    "dataset.X = dataset.layers[\"PFlog1PF_normalization\"]\n",
    "dim_red(dataset, key = \"PFlog1pPF\")\n",
    "\n",
    "dataset.X = dataset.layers[\"scran_normalization\"]\n",
    "dim_red(dataset, key = \"scran\")\n",
    "\n",
    "dataset.X = dataset.layers[\"scTransform_normalized\"]\n",
    "dim_red(dataset, key = \"sctransform\")"
   ]
  },
  {
   "cell_type": "code",
   "execution_count": null,
   "id": "e4e4f7ed-2412-4588-b057-329492ce715d",
   "metadata": {
    "execution": {
     "iopub.execute_input": "2023-05-14T13:44:48.901509Z",
     "iopub.status.busy": "2023-05-14T13:44:48.901253Z",
     "iopub.status.idle": "2023-05-14T13:44:50.221861Z",
     "shell.execute_reply": "2023-05-14T13:44:50.221470Z"
    },
    "papermill": {
     "duration": 1.332303,
     "end_time": "2023-05-14T13:44:50.223427",
     "exception": false,
     "start_time": "2023-05-14T13:44:48.891124",
     "status": "completed"
    },
    "tags": []
   },
   "outputs": [],
   "source": [
    "color = \"batch\"\n",
    "\n",
    "fig, ax = plt.subplots(ncols = 4, nrows = 1, figsize = (12,3))\n",
    "\n",
    "axis = sc.pl.embedding(dataset, color = color, basis = \"X_umap_log1pPF\", ax = ax[0], show = False)\n",
    "axis.set_xlabel(\"UMAP_1\")\n",
    "axis.set_ylabel(\"UMAP_2\")\n",
    "axis.set_title(\"Log1p Proportional Filtering\\n\")\n",
    "axis.legend().remove()\n",
    "\n",
    "axis = sc.pl.embedding(dataset, color = color, basis = \"X_umap_PFlog1pPF\", ax = ax[1], show = False)\n",
    "axis.set_xlabel(\"UMAP_1\")\n",
    "axis.set_ylabel(\"UMAP_2\")\n",
    "axis.set_title(\"Proportional Filtering\\nLog1p Proportional Filtering\")\n",
    "axis.legend().remove()\n",
    "\n",
    "axis = sc.pl.embedding(dataset, color = color, basis = \"X_umap_scran\", ax = ax[2], show = False)\n",
    "axis.set_xlabel(\"UMAP_1\")\n",
    "axis.set_ylabel(\"UMAP_2\")\n",
    "axis.set_title(\"Scran Normalization\\n\")\n",
    "axis.legend().remove()\n",
    "\n",
    "axis = sc.pl.embedding(dataset, color = color, basis = \"X_umap_sctransform\", ax = ax[3], show = False)\n",
    "axis.set_xlabel(\"UMAP_1\")\n",
    "axis.set_ylabel(\"UMAP_2\")\n",
    "axis.set_title(\"scTransform Normalization\\n\")\n",
    "axis.legend(title = \"Batch\", bbox_to_anchor = (1.1, 1))\n",
    "\n",
    "plt.tight_layout()\n",
    "#plt.savefig(f\"{outputDir}01_color_batch.pdf\", dpi = 300)\n",
    "plt.show()"
   ]
  },
  {
   "cell_type": "code",
   "execution_count": null,
   "id": "3afb2350-6d3f-4d26-ade0-2e7fb4e0fbf3",
   "metadata": {
    "execution": {
     "iopub.execute_input": "2023-05-14T13:44:50.250336Z",
     "iopub.status.busy": "2023-05-14T13:44:50.250106Z",
     "iopub.status.idle": "2023-05-14T13:44:56.219511Z",
     "shell.execute_reply": "2023-05-14T13:44:56.219018Z"
    },
    "papermill": {
     "duration": 5.986055,
     "end_time": "2023-05-14T13:44:56.220909",
     "exception": false,
     "start_time": "2023-05-14T13:44:50.234854",
     "status": "completed"
    },
    "tags": []
   },
   "outputs": [],
   "source": [
    "dataset = sc.read(\"../../int_data/dataset_gcsf_qc_normalized.h5ad\")\n",
    "dataset = dataset[dataset.obs[\"cell_type\"] == \"Neutrophils\"]"
   ]
  },
  {
   "cell_type": "code",
   "execution_count": null,
   "id": "f5e9dcde-25ff-4b7b-a30b-2e3517d96814",
   "metadata": {
    "execution": {
     "iopub.execute_input": "2023-05-14T13:44:56.247913Z",
     "iopub.status.busy": "2023-05-14T13:44:56.247735Z",
     "iopub.status.idle": "2023-05-14T13:50:53.482325Z",
     "shell.execute_reply": "2023-05-14T13:50:53.481664Z"
    },
    "papermill": {
     "duration": 357.247304,
     "end_time": "2023-05-14T13:50:53.483849",
     "exception": false,
     "start_time": "2023-05-14T13:44:56.236545",
     "status": "completed"
    },
    "tags": []
   },
   "outputs": [],
   "source": [
    "dataset.X = dataset.layers[\"log1pPF_normalization\"]\n",
    "dim_red(dataset, key = \"log1pPF\")\n",
    "\n",
    "dataset.X = dataset.layers[\"PFlog1PF_normalization\"]\n",
    "dim_red(dataset, key = \"PFlog1pPF\")\n",
    "\n",
    "dataset.X = dataset.layers[\"scran_normalization\"]\n",
    "dim_red(dataset, key = \"scran\")\n",
    "\n",
    "dataset.X = dataset.layers[\"scTransform_normalized\"]\n",
    "dim_red(dataset, key = \"sctransform\")"
   ]
  },
  {
   "cell_type": "code",
   "execution_count": null,
   "id": "8cdbd530-e6f3-4156-8fdf-52da842a2503",
   "metadata": {
    "execution": {
     "iopub.execute_input": "2023-05-14T13:50:53.510567Z",
     "iopub.status.busy": "2023-05-14T13:50:53.510382Z",
     "iopub.status.idle": "2023-05-14T13:50:54.640702Z",
     "shell.execute_reply": "2023-05-14T13:50:54.640225Z"
    },
    "papermill": {
     "duration": 1.143833,
     "end_time": "2023-05-14T13:50:54.642490",
     "exception": false,
     "start_time": "2023-05-14T13:50:53.498657",
     "status": "completed"
    },
    "tags": []
   },
   "outputs": [],
   "source": [
    "color = \"batch\"\n",
    "\n",
    "fig, ax = plt.subplots(ncols = 4, nrows = 1, figsize = (12,3))\n",
    "\n",
    "axis = sc.pl.embedding(dataset, color = color, basis = \"X_umap_log1pPF\", ax = ax[0], show = False)\n",
    "axis.set_xlabel(\"UMAP_1\")\n",
    "axis.set_ylabel(\"UMAP_2\")\n",
    "axis.set_title(\"Log1p Proportional Filtering\\n\")\n",
    "axis.legend().remove()\n",
    "\n",
    "axis = sc.pl.embedding(dataset, color = color, basis = \"X_umap_PFlog1pPF\", ax = ax[1], show = False)\n",
    "axis.set_xlabel(\"UMAP_1\")\n",
    "axis.set_ylabel(\"UMAP_2\")\n",
    "axis.set_title(\"Proportional Filtering\\nLog1p Proportional Filtering\")\n",
    "axis.legend().remove()\n",
    "\n",
    "axis = sc.pl.embedding(dataset, color = color, basis = \"X_umap_scran\", ax = ax[2], show = False)\n",
    "axis.set_xlabel(\"UMAP_1\")\n",
    "axis.set_ylabel(\"UMAP_2\")\n",
    "axis.set_title(\"Scran Normalization\\n\")\n",
    "axis.legend().remove()\n",
    "\n",
    "axis = sc.pl.embedding(dataset, color = color, basis = \"X_umap_sctransform\", ax = ax[3], show = False)\n",
    "axis.set_xlabel(\"UMAP_1\")\n",
    "axis.set_ylabel(\"UMAP_2\")\n",
    "axis.set_title(\"scTransform Normalization\\n\")\n",
    "axis.legend(title = \"Batch\", bbox_to_anchor = (1.1, 1))\n",
    "\n",
    "plt.tight_layout()\n",
    "#plt.savefig(f\"{outputDir}01_color_batch.pdf\", dpi = 300)\n",
    "plt.show()"
   ]
  }
 ],
 "metadata": {
  "kernelspec": {
   "display_name": "py_R",
   "language": "python",
   "name": "python_r"
  },
  "language_info": {
   "codemirror_mode": {
    "name": "ipython",
    "version": 3
   },
   "file_extension": ".py",
   "mimetype": "text/x-python",
   "name": "python",
   "nbconvert_exporter": "python",
   "pygments_lexer": "ipython3",
   "version": "3.10.9"
  },
  "papermill": {
   "default_parameters": {},
   "duration": 1188.77409,
   "end_time": "2023-05-14T13:50:57.574585",
   "environment_variables": {},
   "exception": null,
   "input_path": "normalization_comparison_gcsf.ipynb",
   "output_path": "normalization_comparison_gcsf.ipynb",
   "parameters": {},
   "start_time": "2023-05-14T13:31:08.800495",
   "version": "2.4.0"
  }
 },
 "nbformat": 4,
 "nbformat_minor": 5
}
