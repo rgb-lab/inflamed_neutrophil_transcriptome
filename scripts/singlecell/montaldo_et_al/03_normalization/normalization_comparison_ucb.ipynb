{
 "cells": [
  {
   "cell_type": "code",
   "execution_count": null,
   "id": "9b35177d-116c-465b-8255-3b1cfe4c249c",
   "metadata": {
    "execution": {
     "iopub.execute_input": "2023-05-14T13:50:59.634557Z",
     "iopub.status.busy": "2023-05-14T13:50:59.634398Z",
     "iopub.status.idle": "2023-05-14T13:51:07.480086Z",
     "shell.execute_reply": "2023-05-14T13:51:07.479609Z"
    },
    "papermill": {
     "duration": 7.850833,
     "end_time": "2023-05-14T13:51:07.481777",
     "exception": false,
     "start_time": "2023-05-14T13:50:59.630944",
     "status": "completed"
    },
    "tags": []
   },
   "outputs": [],
   "source": [
    "import scanpy as sc\n",
    "import muon as mu\n",
    "import pandas as pd\n",
    "\n",
    "import os\n",
    "os.environ['R_HOME'] = '/gpfs/bwfor/work/ws/hd_fu399-conda/conda/envs/python_R/lib/R/'\n",
    "import anndata2ri\n",
    "import logging\n",
    "from matplotlib import pyplot as plt\n",
    "import seaborn as sns\n",
    "\n",
    "import rpy2.rinterface_lib.callbacks as rcb\n",
    "import rpy2.robjects as ro\n",
    "\n",
    "rcb.logger.setLevel(logging.ERROR)\n",
    "ro.pandas2ri.activate()\n",
    "anndata2ri.activate()\n",
    "\n",
    "%load_ext rpy2.ipython"
   ]
  },
  {
   "cell_type": "code",
   "execution_count": null,
   "id": "e4993c10-e558-4845-a802-83a8044c95b7",
   "metadata": {
    "execution": {
     "iopub.execute_input": "2023-05-14T13:51:07.490217Z",
     "iopub.status.busy": "2023-05-14T13:51:07.489957Z",
     "iopub.status.idle": "2023-05-14T13:51:16.744008Z",
     "shell.execute_reply": "2023-05-14T13:51:16.743477Z"
    },
    "papermill": {
     "duration": 9.259016,
     "end_time": "2023-05-14T13:51:16.745716",
     "exception": false,
     "start_time": "2023-05-14T13:51:07.486700",
     "status": "completed"
    },
    "tags": []
   },
   "outputs": [],
   "source": [
    "%%R\n",
    "library(Seurat)\n",
    "library(scran)\n",
    "library(BiocParallel)\n",
    "library(sctransform)"
   ]
  },
  {
   "cell_type": "code",
   "execution_count": null,
   "id": "052135a9-3a2c-4064-ad5d-bf56d615ae7c",
   "metadata": {
    "execution": {
     "iopub.execute_input": "2023-05-14T13:51:16.754243Z",
     "iopub.status.busy": "2023-05-14T13:51:16.754046Z",
     "iopub.status.idle": "2023-05-14T13:51:17.542550Z",
     "shell.execute_reply": "2023-05-14T13:51:17.542052Z"
    },
    "papermill": {
     "duration": 0.793429,
     "end_time": "2023-05-14T13:51:17.543880",
     "exception": false,
     "start_time": "2023-05-14T13:51:16.750451",
     "status": "completed"
    },
    "tags": []
   },
   "outputs": [],
   "source": [
    "dataset = sc.read(\"../../int_data/dataset_ucb_qc.h5ad\")\n",
    "dataset.X = dataset.layers[\"soupX_counts\"]\n",
    "\n"
   ]
  },
  {
   "cell_type": "code",
   "execution_count": null,
   "id": "2fada67a-a863-4168-bb55-d1050a588c0b",
   "metadata": {
    "execution": {
     "iopub.execute_input": "2023-05-14T13:51:17.550179Z",
     "iopub.status.busy": "2023-05-14T13:51:17.549939Z",
     "iopub.status.idle": "2023-05-14T13:51:18.013776Z",
     "shell.execute_reply": "2023-05-14T13:51:18.013303Z"
    },
    "papermill": {
     "duration": 0.468391,
     "end_time": "2023-05-14T13:51:18.015097",
     "exception": false,
     "start_time": "2023-05-14T13:51:17.546706",
     "status": "completed"
    },
    "tags": []
   },
   "outputs": [],
   "source": [
    "dataset.X = dataset.layers[\"soupX_counts\"]\n",
    "sc.pp.filter_genes(dataset, min_cells = 5)"
   ]
  },
  {
   "cell_type": "code",
   "execution_count": null,
   "id": "3c535ff8-43af-442d-b55e-e96d11a2a67b",
   "metadata": {
    "execution": {
     "iopub.execute_input": "2023-05-14T13:51:18.021131Z",
     "iopub.status.busy": "2023-05-14T13:51:18.020900Z",
     "iopub.status.idle": "2023-05-14T13:51:18.484650Z",
     "shell.execute_reply": "2023-05-14T13:51:18.484167Z"
    },
    "papermill": {
     "duration": 0.468114,
     "end_time": "2023-05-14T13:51:18.485904",
     "exception": false,
     "start_time": "2023-05-14T13:51:18.017790",
     "status": "completed"
    },
    "tags": []
   },
   "outputs": [],
   "source": [
    "proportional_fitting = sc.pp.normalize_total(dataset, target_sum = 1e4, inplace = False)\n",
    "dataset.layers[\"log1pPF_normalization\"] = sc.pp.log1p(proportional_fitting[\"X\"])\n",
    "dataset.layers[\"PFlog1PF_normalization\"] = sc.pp.normalize_total(dataset, target_sum = None, layer = \"log1pPF_normalization\", inplace = False)[\"X\"]"
   ]
  },
  {
   "cell_type": "code",
   "execution_count": null,
   "id": "69de6f1b-7743-4e13-a630-dff5f261328c",
   "metadata": {
    "execution": {
     "iopub.execute_input": "2023-05-14T13:51:18.492377Z",
     "iopub.status.busy": "2023-05-14T13:51:18.492196Z",
     "iopub.status.idle": "2023-05-14T13:51:18.494735Z",
     "shell.execute_reply": "2023-05-14T13:51:18.494395Z"
    },
    "papermill": {
     "duration": 0.006335,
     "end_time": "2023-05-14T13:51:18.495497",
     "exception": false,
     "start_time": "2023-05-14T13:51:18.489162",
     "status": "completed"
    },
    "tags": []
   },
   "outputs": [],
   "source": [
    "from scipy.sparse import csr_matrix, issparse"
   ]
  },
  {
   "cell_type": "code",
   "execution_count": null,
   "id": "4f8f684f-bc1c-46b3-8d46-656621204678",
   "metadata": {
    "execution": {
     "iopub.execute_input": "2023-05-14T13:51:18.501108Z",
     "iopub.status.busy": "2023-05-14T13:51:18.500821Z",
     "iopub.status.idle": "2023-05-14T13:52:45.712763Z",
     "shell.execute_reply": "2023-05-14T13:52:45.712159Z"
    },
    "papermill": {
     "duration": 87.216575,
     "end_time": "2023-05-14T13:52:45.714460",
     "exception": false,
     "start_time": "2023-05-14T13:51:18.497885",
     "status": "completed"
    },
    "tags": []
   },
   "outputs": [],
   "source": [
    "adata_pp = dataset.copy()\n",
    "sc.pp.normalize_per_cell(adata_pp, counts_per_cell_after=1e6)\n",
    "sc.pp.log1p(adata_pp)\n",
    "sc.pp.pca(adata_pp, n_comps=15)\n",
    "sc.pp.neighbors(adata_pp)\n",
    "sc.tl.leiden(adata_pp, key_added=\"groups\")\n",
    "\n",
    "data_mat = adata_pp.X.T\n",
    "input_groups = adata_pp.obs[\"groups\"]\n",
    "\n",
    "# convert to CSC if possible. See https://github.com/MarioniLab/scran/issues/70\n",
    "if issparse(data_mat):\n",
    "    if data_mat.nnz > 2**31 - 1:\n",
    "        data_mat = data_mat.tocoo()\n",
    "    else:\n",
    "        data_mat = data_mat.tocsc()"
   ]
  },
  {
   "cell_type": "code",
   "execution_count": null,
   "id": "a506fec6-ebca-4798-ad9c-5cacbcadbbc8",
   "metadata": {
    "execution": {
     "iopub.execute_input": "2023-05-14T13:52:45.722768Z",
     "iopub.status.busy": "2023-05-14T13:52:45.722614Z",
     "iopub.status.idle": "2023-05-14T13:53:19.480435Z",
     "shell.execute_reply": "2023-05-14T13:53:19.479794Z"
    },
    "papermill": {
     "duration": 33.763035,
     "end_time": "2023-05-14T13:53:19.482331",
     "exception": false,
     "start_time": "2023-05-14T13:52:45.719296",
     "status": "completed"
    },
    "tags": []
   },
   "outputs": [],
   "source": [
    "%%R -i data_mat -i input_groups -o size_factors\n",
    "\n",
    "size_factors = sizeFactors(\n",
    "    computeSumFactors(\n",
    "        SingleCellExperiment(\n",
    "            list(counts=data_mat)), \n",
    "            clusters = input_groups,\n",
    "            min.mean = 0.1,\n",
    "            BPPARAM = MulticoreParam()\n",
    "    )\n",
    ")"
   ]
  },
  {
   "cell_type": "code",
   "execution_count": null,
   "id": "5533b6ee-ec7d-4f92-8a59-5620b367d5dc",
   "metadata": {
    "execution": {
     "iopub.execute_input": "2023-05-14T13:53:19.492193Z",
     "iopub.status.busy": "2023-05-14T13:53:19.492026Z",
     "iopub.status.idle": "2023-05-14T13:53:27.051919Z",
     "shell.execute_reply": "2023-05-14T13:53:27.051310Z"
    },
    "papermill": {
     "duration": 7.566264,
     "end_time": "2023-05-14T13:53:27.053845",
     "exception": false,
     "start_time": "2023-05-14T13:53:19.487581",
     "status": "completed"
    },
    "tags": []
   },
   "outputs": [],
   "source": [
    "dataset.obs[\"size_factors\"] = size_factors\n",
    "dataset.X = dataset.layers[\"soupX_counts\"]\n",
    "scran = dataset.X / dataset.obs[\"size_factors\"].values[:, None]\n",
    "dataset.layers[\"scran_normalization\"] = csr_matrix(sc.pp.log1p(scran))"
   ]
  },
  {
   "cell_type": "code",
   "execution_count": null,
   "id": "6e99698c-9567-4225-b059-d2611f62a479",
   "metadata": {
    "execution": {
     "iopub.execute_input": "2023-05-14T13:53:27.063002Z",
     "iopub.status.busy": "2023-05-14T13:53:27.062820Z",
     "iopub.status.idle": "2023-05-14T13:53:27.257538Z",
     "shell.execute_reply": "2023-05-14T13:53:27.257101Z"
    },
    "papermill": {
     "duration": 0.200219,
     "end_time": "2023-05-14T13:53:27.259198",
     "exception": false,
     "start_time": "2023-05-14T13:53:27.058979",
     "status": "completed"
    },
    "tags": []
   },
   "outputs": [],
   "source": [
    "rna_data = dataset.copy()"
   ]
  },
  {
   "cell_type": "code",
   "execution_count": null,
   "id": "e4c75c94-ffa4-4f28-8119-1c957b3f2c53",
   "metadata": {
    "execution": {
     "iopub.execute_input": "2023-05-14T13:53:27.265357Z",
     "iopub.status.busy": "2023-05-14T13:53:27.265199Z",
     "iopub.status.idle": "2023-05-14T13:55:28.283665Z",
     "shell.execute_reply": "2023-05-14T13:55:28.283070Z"
    },
    "papermill": {
     "duration": 121.023519,
     "end_time": "2023-05-14T13:55:28.285233",
     "exception": false,
     "start_time": "2023-05-14T13:53:27.261714",
     "status": "completed"
    },
    "tags": []
   },
   "outputs": [],
   "source": [
    "%%R -i rna_data -o norm_x -o corrected_counts -o log_normalized\n",
    "\n",
    "dataset = rna_data\n",
    "seurat_obj = as.Seurat(dataset, counts=\"X\", data = NULL)\n",
    "seurat_obj = RenameAssays(seurat_obj, originalexp = \"RNA\")\n",
    "res = SCTransform(object=seurat_obj, method = \"glmGamPoi\", return.only.var.genes = FALSE)\n",
    "\n",
    "print(res)\n",
    "\n",
    "norm_x = res@assays$SCT@scale.data\n",
    "corrected_counts = res@assays$SCT@counts\n",
    "log_normalized = res@assays$SCT@data"
   ]
  },
  {
   "cell_type": "code",
   "execution_count": null,
   "id": "f7e36ac7-4ccc-4ad8-bab1-9ee09599cde0",
   "metadata": {
    "execution": {
     "iopub.execute_input": "2023-05-14T13:55:28.304243Z",
     "iopub.status.busy": "2023-05-14T13:55:28.304039Z",
     "iopub.status.idle": "2023-05-14T13:55:28.307481Z",
     "shell.execute_reply": "2023-05-14T13:55:28.307150Z"
    },
    "papermill": {
     "duration": 0.014029,
     "end_time": "2023-05-14T13:55:28.308311",
     "exception": false,
     "start_time": "2023-05-14T13:55:28.294282",
     "status": "completed"
    },
    "tags": []
   },
   "outputs": [],
   "source": [
    "dataset.layers[\"scTransform_normalized\"] = norm_x.T\n",
    "dataset.layers[\"scTransform_counts\"] = corrected_counts.T\n",
    "dataset.layers[\"scTransform_log_normalized\"] = log_normalized.T"
   ]
  },
  {
   "cell_type": "code",
   "execution_count": null,
   "id": "24f7d024-4528-405e-bb83-5480bee39b5e",
   "metadata": {
    "execution": {
     "iopub.execute_input": "2023-05-14T13:55:28.327132Z",
     "iopub.status.busy": "2023-05-14T13:55:28.326945Z",
     "iopub.status.idle": "2023-05-14T13:55:28.542597Z",
     "shell.execute_reply": "2023-05-14T13:55:28.542150Z"
    },
    "papermill": {
     "duration": 0.226991,
     "end_time": "2023-05-14T13:55:28.544165",
     "exception": false,
     "start_time": "2023-05-14T13:55:28.317174",
     "status": "completed"
    },
    "tags": []
   },
   "outputs": [],
   "source": [
    "metadata = pd.read_csv(\"../02_cell_ident/dataset_ucb_metadata.csv\")\n",
    "dataset.obs[\"cell_type\"] = metadata[\"SingleR_label\"].to_list()"
   ]
  },
  {
   "cell_type": "code",
   "execution_count": null,
   "id": "f32fc203-70b8-4f18-9f1e-9395099e4962",
   "metadata": {
    "execution": {
     "iopub.execute_input": "2023-05-14T13:55:28.585038Z",
     "iopub.status.busy": "2023-05-14T13:55:28.584814Z",
     "iopub.status.idle": "2023-05-14T13:55:30.976346Z",
     "shell.execute_reply": "2023-05-14T13:55:30.975891Z"
    },
    "papermill": {
     "duration": 2.424919,
     "end_time": "2023-05-14T13:55:30.977970",
     "exception": false,
     "start_time": "2023-05-14T13:55:28.553051",
     "status": "completed"
    },
    "tags": []
   },
   "outputs": [],
   "source": [
    "dataset.write(\"../../int_data/dataset_ucb_qc_normalized.h5ad\")"
   ]
  },
  {
   "cell_type": "code",
   "execution_count": null,
   "id": "3a8cf3e4-7e9b-4e8f-b731-d60ac24e88fc",
   "metadata": {
    "execution": {
     "iopub.execute_input": "2023-05-14T13:55:30.997242Z",
     "iopub.status.busy": "2023-05-14T13:55:30.997052Z",
     "iopub.status.idle": "2023-05-14T13:55:35.954999Z",
     "shell.execute_reply": "2023-05-14T13:55:35.954520Z"
    },
    "papermill": {
     "duration": 4.969571,
     "end_time": "2023-05-14T13:55:35.956932",
     "exception": false,
     "start_time": "2023-05-14T13:55:30.987361",
     "status": "completed"
    },
    "tags": []
   },
   "outputs": [],
   "source": [
    "dataset = sc.read(\"../../int_data/dataset_ucb_qc_normalized.h5ad\")"
   ]
  },
  {
   "cell_type": "code",
   "execution_count": null,
   "id": "05c6d064-87fa-4a41-9ffe-659848865487",
   "metadata": {
    "execution": {
     "iopub.execute_input": "2023-05-14T13:55:35.977931Z",
     "iopub.status.busy": "2023-05-14T13:55:35.977744Z",
     "iopub.status.idle": "2023-05-14T13:55:35.980942Z",
     "shell.execute_reply": "2023-05-14T13:55:35.980589Z"
    },
    "papermill": {
     "duration": 0.013581,
     "end_time": "2023-05-14T13:55:35.981723",
     "exception": false,
     "start_time": "2023-05-14T13:55:35.968142",
     "status": "completed"
    },
    "tags": []
   },
   "outputs": [],
   "source": [
    "def dim_red(dataset, key):\n",
    "    sc.pp.pca(dataset)\n",
    "    dataset.obsm[f\"X_pca_{key}\"] = dataset.obsm[\"X_pca\"].copy()\n",
    "    \n",
    "    sc.pp.neighbors(dataset, use_rep = f\"X_pca_{key}\", key_added = f\"{key}_neighbors\")\n",
    "    \n",
    "    sc.tl.umap(dataset, neighbors_key = f\"{key}_neighbors\")\n",
    "    dataset.obsm[f\"X_umap_{key}\"] = dataset.obsm[\"X_umap\"].copy()"
   ]
  },
  {
   "cell_type": "code",
   "execution_count": null,
   "id": "759e264f-876c-4d8a-abe2-62840e3848f8",
   "metadata": {
    "execution": {
     "iopub.execute_input": "2023-05-14T13:55:36.000153Z",
     "iopub.status.busy": "2023-05-14T13:55:35.999883Z",
     "iopub.status.idle": "2023-05-14T13:58:14.158697Z",
     "shell.execute_reply": "2023-05-14T13:58:14.158133Z"
    },
    "papermill": {
     "duration": 158.169483,
     "end_time": "2023-05-14T13:58:14.159982",
     "exception": false,
     "start_time": "2023-05-14T13:55:35.990499",
     "status": "completed"
    },
    "tags": []
   },
   "outputs": [],
   "source": [
    "dataset.X = dataset.layers[\"log1pPF_normalization\"]\n",
    "dim_red(dataset, key = \"log1pPF\")\n",
    "\n",
    "dataset.X = dataset.layers[\"PFlog1PF_normalization\"]\n",
    "dim_red(dataset, key = \"PFlog1pPF\")\n",
    "\n",
    "dataset.X = dataset.layers[\"scran_normalization\"]\n",
    "dim_red(dataset, key = \"scran\")\n",
    "\n",
    "dataset.X = dataset.layers[\"scTransform_normalized\"]\n",
    "dim_red(dataset, key = \"sctransform\")"
   ]
  },
  {
   "cell_type": "code",
   "execution_count": null,
   "id": "e4e4f7ed-2412-4588-b057-329492ce715d",
   "metadata": {
    "execution": {
     "iopub.execute_input": "2023-05-14T13:58:14.183334Z",
     "iopub.status.busy": "2023-05-14T13:58:14.183103Z",
     "iopub.status.idle": "2023-05-14T13:58:15.094732Z",
     "shell.execute_reply": "2023-05-14T13:58:15.094295Z"
    },
    "papermill": {
     "duration": 0.922916,
     "end_time": "2023-05-14T13:58:15.096307",
     "exception": false,
     "start_time": "2023-05-14T13:58:14.173391",
     "status": "completed"
    },
    "tags": []
   },
   "outputs": [],
   "source": [
    "color = \"batch\"\n",
    "\n",
    "fig, ax = plt.subplots(ncols = 4, nrows = 1, figsize = (12,3))\n",
    "\n",
    "axis = sc.pl.embedding(dataset, color = color, basis = \"X_umap_log1pPF\", ax = ax[0], show = False)\n",
    "axis.set_xlabel(\"UMAP_1\")\n",
    "axis.set_ylabel(\"UMAP_2\")\n",
    "axis.set_title(\"Log1p Proportional Filtering\\n\")\n",
    "axis.legend().remove()\n",
    "\n",
    "axis = sc.pl.embedding(dataset, color = color, basis = \"X_umap_PFlog1pPF\", ax = ax[1], show = False)\n",
    "axis.set_xlabel(\"UMAP_1\")\n",
    "axis.set_ylabel(\"UMAP_2\")\n",
    "axis.set_title(\"Proportional Filtering\\nLog1p Proportional Filtering\")\n",
    "axis.legend().remove()\n",
    "\n",
    "axis = sc.pl.embedding(dataset, color = color, basis = \"X_umap_scran\", ax = ax[2], show = False)\n",
    "axis.set_xlabel(\"UMAP_1\")\n",
    "axis.set_ylabel(\"UMAP_2\")\n",
    "axis.set_title(\"Scran Normalization\\n\")\n",
    "axis.legend().remove()\n",
    "\n",
    "axis = sc.pl.embedding(dataset, color = color, basis = \"X_umap_sctransform\", ax = ax[3], show = False)\n",
    "axis.set_xlabel(\"UMAP_1\")\n",
    "axis.set_ylabel(\"UMAP_2\")\n",
    "axis.set_title(\"scTransform Normalization\\n\")\n",
    "axis.legend(title = \"Batch\", bbox_to_anchor = (1.1, 1))\n",
    "\n",
    "plt.tight_layout()\n",
    "#plt.savefig(f\"{outputDir}01_color_batch.pdf\", dpi = 300)\n",
    "plt.show()"
   ]
  },
  {
   "cell_type": "code",
   "execution_count": null,
   "id": "3afb2350-6d3f-4d26-ade0-2e7fb4e0fbf3",
   "metadata": {
    "execution": {
     "iopub.execute_input": "2023-05-14T13:58:15.118779Z",
     "iopub.status.busy": "2023-05-14T13:58:15.118573Z",
     "iopub.status.idle": "2023-05-14T13:58:17.913567Z",
     "shell.execute_reply": "2023-05-14T13:58:17.913097Z"
    },
    "papermill": {
     "duration": 2.807507,
     "end_time": "2023-05-14T13:58:17.915022",
     "exception": false,
     "start_time": "2023-05-14T13:58:15.107515",
     "status": "completed"
    },
    "tags": []
   },
   "outputs": [],
   "source": [
    "dataset = sc.read(\"../../int_data/dataset_ucb_qc_normalized.h5ad\")\n",
    "dataset = dataset[dataset.obs[\"cell_type\"] == \"Neutrophils\"]"
   ]
  },
  {
   "cell_type": "code",
   "execution_count": null,
   "id": "f5e9dcde-25ff-4b7b-a30b-2e3517d96814",
   "metadata": {
    "execution": {
     "iopub.execute_input": "2023-05-14T13:58:17.941594Z",
     "iopub.status.busy": "2023-05-14T13:58:17.941283Z",
     "iopub.status.idle": "2023-05-14T14:01:20.188444Z",
     "shell.execute_reply": "2023-05-14T14:01:20.187831Z"
    },
    "papermill": {
     "duration": 182.259373,
     "end_time": "2023-05-14T14:01:20.189724",
     "exception": false,
     "start_time": "2023-05-14T13:58:17.930351",
     "status": "completed"
    },
    "tags": []
   },
   "outputs": [],
   "source": [
    "dataset.X = dataset.layers[\"log1pPF_normalization\"]\n",
    "dim_red(dataset, key = \"log1pPF\")\n",
    "\n",
    "dataset.X = dataset.layers[\"PFlog1PF_normalization\"]\n",
    "dim_red(dataset, key = \"PFlog1pPF\")\n",
    "\n",
    "dataset.X = dataset.layers[\"scran_normalization\"]\n",
    "dim_red(dataset, key = \"scran\")\n",
    "\n",
    "dataset.X = dataset.layers[\"scTransform_normalized\"]\n",
    "dim_red(dataset, key = \"sctransform\")"
   ]
  },
  {
   "cell_type": "code",
   "execution_count": null,
   "id": "8cdbd530-e6f3-4156-8fdf-52da842a2503",
   "metadata": {
    "execution": {
     "iopub.execute_input": "2023-05-14T14:01:20.216318Z",
     "iopub.status.busy": "2023-05-14T14:01:20.216009Z",
     "iopub.status.idle": "2023-05-14T14:01:20.948031Z",
     "shell.execute_reply": "2023-05-14T14:01:20.947505Z"
    },
    "papermill": {
     "duration": 0.74487,
     "end_time": "2023-05-14T14:01:20.949615",
     "exception": false,
     "start_time": "2023-05-14T14:01:20.204745",
     "status": "completed"
    },
    "tags": []
   },
   "outputs": [],
   "source": [
    "color = \"batch\"\n",
    "\n",
    "fig, ax = plt.subplots(ncols = 4, nrows = 1, figsize = (12,3))\n",
    "\n",
    "axis = sc.pl.embedding(dataset, color = color, basis = \"X_umap_log1pPF\", ax = ax[0], show = False)\n",
    "axis.set_xlabel(\"UMAP_1\")\n",
    "axis.set_ylabel(\"UMAP_2\")\n",
    "axis.set_title(\"Log1p Proportional Filtering\\n\")\n",
    "axis.legend().remove()\n",
    "\n",
    "axis = sc.pl.embedding(dataset, color = color, basis = \"X_umap_PFlog1pPF\", ax = ax[1], show = False)\n",
    "axis.set_xlabel(\"UMAP_1\")\n",
    "axis.set_ylabel(\"UMAP_2\")\n",
    "axis.set_title(\"Proportional Filtering\\nLog1p Proportional Filtering\")\n",
    "axis.legend().remove()\n",
    "\n",
    "axis = sc.pl.embedding(dataset, color = color, basis = \"X_umap_scran\", ax = ax[2], show = False)\n",
    "axis.set_xlabel(\"UMAP_1\")\n",
    "axis.set_ylabel(\"UMAP_2\")\n",
    "axis.set_title(\"Scran Normalization\\n\")\n",
    "axis.legend().remove()\n",
    "\n",
    "axis = sc.pl.embedding(dataset, color = color, basis = \"X_umap_sctransform\", ax = ax[3], show = False)\n",
    "axis.set_xlabel(\"UMAP_1\")\n",
    "axis.set_ylabel(\"UMAP_2\")\n",
    "axis.set_title(\"scTransform Normalization\\n\")\n",
    "axis.legend(title = \"Batch\", bbox_to_anchor = (1.1, 1))\n",
    "\n",
    "plt.tight_layout()\n",
    "#plt.savefig(f\"{outputDir}01_color_batch.pdf\", dpi = 300)\n",
    "plt.show()"
   ]
  }
 ],
 "metadata": {
  "kernelspec": {
   "display_name": "py_R",
   "language": "python",
   "name": "python_r"
  },
  "language_info": {
   "codemirror_mode": {
    "name": "ipython",
    "version": 3
   },
   "file_extension": ".py",
   "mimetype": "text/x-python",
   "name": "python",
   "nbconvert_exporter": "python",
   "pygments_lexer": "ipython3",
   "version": "3.10.9"
  },
  "papermill": {
   "default_parameters": {},
   "duration": 626.433112,
   "end_time": "2023-05-14T14:01:24.056709",
   "environment_variables": {},
   "exception": null,
   "input_path": "normalization_comparison_ucb.ipynb",
   "output_path": "normalization_comparison_ucb.ipynb",
   "parameters": {},
   "start_time": "2023-05-14T13:50:57.623597",
   "version": "2.4.0"
  }
 },
 "nbformat": 4,
 "nbformat_minor": 5
}
