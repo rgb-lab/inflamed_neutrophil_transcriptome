{
 "cells": [
  {
   "cell_type": "code",
   "execution_count": null,
   "id": "1fa3e600-f7b5-4e5c-bb72-1df70b984429",
   "metadata": {
    "execution": {
     "iopub.execute_input": "2023-05-17T17:55:06.558907Z",
     "iopub.status.busy": "2023-05-17T17:55:06.558757Z",
     "iopub.status.idle": "2023-05-17T17:58:26.494600Z",
     "shell.execute_reply": "2023-05-17T17:58:26.494041Z"
    },
    "papermill": {
     "duration": 199.942771,
     "end_time": "2023-05-17T17:58:26.496164",
     "exception": false,
     "start_time": "2023-05-17T17:55:06.553393",
     "status": "completed"
    },
    "tags": []
   },
   "outputs": [],
   "source": [
    "import gc\n",
    "import scanpy as sc\n",
    "import muon as mu\n",
    "import seaborn as sns\n",
    "import os\n",
    "import pandas as pd\n",
    "from matplotlib import pyplot as plt\n",
    "\n",
    "os.environ['R_HOME'] = '/gpfs/bwfor/work/ws/hd_fu399-conda/conda/envs/python_R/lib/R/'\n",
    "import anndata2ri\n",
    "import logging\n",
    "\n",
    "import rpy2.rinterface_lib.callbacks as rcb\n",
    "import rpy2.robjects as ro\n",
    "\n",
    "rcb.logger.setLevel(logging.ERROR)\n",
    "ro.pandas2ri.activate()\n",
    "anndata2ri.activate()\n",
    "\n",
    "%load_ext rpy2.ipython"
   ]
  },
  {
   "cell_type": "code",
   "execution_count": null,
   "id": "8cfe7349-496a-4240-a246-4b740e6e71e4",
   "metadata": {
    "execution": {
     "iopub.execute_input": "2023-05-17T17:58:26.505934Z",
     "iopub.status.busy": "2023-05-17T17:58:26.505589Z",
     "iopub.status.idle": "2023-05-17T17:59:44.304463Z",
     "shell.execute_reply": "2023-05-17T17:59:44.303956Z"
    },
    "papermill": {
     "duration": 77.802737,
     "end_time": "2023-05-17T17:59:44.305993",
     "exception": false,
     "start_time": "2023-05-17T17:58:26.503256",
     "status": "completed"
    },
    "tags": []
   },
   "outputs": [],
   "source": [
    "%%R\n",
    "library(SingleCellExperiment)\n",
    "library(Seurat)\n",
    "library(UCell)\n",
    "library(ggplot2)"
   ]
  },
  {
   "cell_type": "code",
   "execution_count": null,
   "id": "40898400-220f-41e3-bd92-92b5157218cb",
   "metadata": {
    "execution": {
     "iopub.execute_input": "2023-05-17T17:59:44.310944Z",
     "iopub.status.busy": "2023-05-17T17:59:44.310770Z",
     "iopub.status.idle": "2023-05-17T17:59:44.318370Z",
     "shell.execute_reply": "2023-05-17T17:59:44.318019Z"
    },
    "papermill": {
     "duration": 0.010941,
     "end_time": "2023-05-17T17:59:44.319333",
     "exception": false,
     "start_time": "2023-05-17T17:59:44.308392",
     "status": "completed"
    },
    "tags": []
   },
   "outputs": [],
   "source": [
    "fisher_genes_up = pd.read_csv(\"../../../fisher_up_genes.csv\", index_col = 0)[\"symbol\"].to_list()\n",
    "fisher_genes_down = pd.read_csv(\"../../../fisher_dn_genes.csv\", index_col = 0)[\"symbol\"].to_list()"
   ]
  },
  {
   "cell_type": "code",
   "execution_count": null,
   "id": "4fd8e7f1-8512-4e62-8b55-9107798311d4",
   "metadata": {
    "execution": {
     "iopub.execute_input": "2023-05-17T17:59:44.323636Z",
     "iopub.status.busy": "2023-05-17T17:59:44.323358Z",
     "iopub.status.idle": "2023-05-17T17:59:44.397981Z",
     "shell.execute_reply": "2023-05-17T17:59:44.397653Z"
    },
    "papermill": {
     "duration": 0.0997,
     "end_time": "2023-05-17T17:59:44.420809",
     "exception": false,
     "start_time": "2023-05-17T17:59:44.321109",
     "status": "completed"
    },
    "tags": []
   },
   "outputs": [],
   "source": [
    "%%R -i fisher_genes_up\n",
    "\n",
    "fisher_genes_up"
   ]
  },
  {
   "cell_type": "code",
   "execution_count": null,
   "id": "0c7ee8aa-06d7-4ba6-80ba-ebbf35748629",
   "metadata": {
    "execution": {
     "iopub.execute_input": "2023-05-17T17:59:44.438609Z",
     "iopub.status.busy": "2023-05-17T17:59:44.438470Z",
     "iopub.status.idle": "2023-05-17T18:01:34.488011Z",
     "shell.execute_reply": "2023-05-17T18:01:34.487534Z"
    },
    "papermill": {
     "duration": 110.060029,
     "end_time": "2023-05-17T18:01:34.489430",
     "exception": false,
     "start_time": "2023-05-17T17:59:44.429401",
     "status": "completed"
    },
    "tags": []
   },
   "outputs": [],
   "source": [
    "### integrated by scanvi\n",
    "\n",
    "dataset = sc.read(\"../../int_data/dataset_integrated_cell_type.h5ad\")\n",
    "\n",
    "dataset.obs[\"condition\"] = dataset.obs[\"PHENOTYPE\"]\n",
    "dataset.obs[\"cell_type\"] = dataset.obs[\"cell_type\"].to_list()\n",
    "dataset.obs[\"cell_type\"] = dataset.obs[\"cell_type\"].fillna(\"Unknown\")\n",
    "dataset.obs[\"cell_type\"] = dataset.obs[\"cell_type\"].astype(\"category\")\n",
    "dataset.obs[\"organ\"] = dataset.obs[\"Tissue\"]\n",
    "\n",
    "dataset.obs[\"cell_type_organ\"] = [f\"{cell_type}_{organ}\" for cell_type, organ in zip(dataset.obs[\"cell_type\"], dataset.obs[\"organ\"])]\n",
    "\n",
    "dataset = dataset[dataset.obs[\"cell_type\"] == \"Neutrophils\", :].copy()\n",
    "\n",
    "dataset.X = dataset.layers[\"scANVI_normalized\"]\n",
    "#sc.pp.normalize_total(dataset, target_sum = 1e4)\n",
    "sc.pp.log1p(dataset)\n",
    "sc.tl.score_genes(dataset, fisher_genes_up, ctrl_size=100, score_name = \"fisher_up\")\n",
    "sc.pp.neighbors(dataset, use_rep = \"X_scANVI\")\n",
    "sc.tl.umap(dataset)\n",
    "sc.pl.umap(dataset, color = [\"condition\", \"organ\", \"batch\"], wspace = 0.6)\n",
    "\n",
    "dataset.obs.to_csv(\"gene_set_scores_integrated_scanpy_scanpy.csv\")\n",
    "\n",
    "del dataset.obsp\n",
    "del dataset.uns\n",
    "gc.collect()\n",
    "\n",
    "dataset.X = dataset.layers[\"scANVI_normalized\"]"
   ]
  },
  {
   "cell_type": "code",
   "execution_count": null,
   "id": "a0eeadf9-6145-4d6b-a877-f25015f7972c",
   "metadata": {
    "execution": {
     "iopub.execute_input": "2023-05-17T18:01:34.520828Z",
     "iopub.status.busy": "2023-05-17T18:01:34.520662Z",
     "iopub.status.idle": "2023-05-17T18:06:54.481430Z",
     "shell.execute_reply": "2023-05-17T18:06:54.480955Z"
    },
    "papermill": {
     "duration": 319.993856,
     "end_time": "2023-05-17T18:06:54.498717",
     "exception": false,
     "start_time": "2023-05-17T18:01:34.504861",
     "status": "completed"
    },
    "tags": []
   },
   "outputs": [],
   "source": [
    "%%R -i dataset\n",
    "\n",
    "sce <- SingleCellExperiment(list(counts=dataset@assays@data[[\"scANVI_normalized\"]]),\n",
    "    colData=dataset@colData,\n",
    ")\n",
    "\n",
    "row.names(sce) <- row.names(dataset)\n",
    "\n",
    "data <- as.Seurat(sce, data = NULL)\n",
    "\n",
    "#data <- NormalizeData(data)\n",
    "data <- ScaleData(data, features = row.names(data))\n",
    "data <- FindVariableFeatures(data)\n",
    "data <- RunPCA(data, verbose = F)\n",
    "data <- FindNeighbors(data, verbose = F)\n",
    "data <- FindClusters(data, verbose = F)\n",
    "data <- RunUMAP(data, dims = 1:20, verbose = F)\n",
    "\n",
    "data <- AddModuleScore(data, list(fisher_genes_up), name = \"Seurat_fisher_up\", ctrl = 100)\n",
    "data <- AddModuleScore_UCell(data, features = list(\"UCell_fisher_up\" = fisher_genes_up))\n",
    "\n",
    "write.csv(data@meta.data, \"gene_set_scores_integrated_scanpy_R.csv\")\n",
    "\n",
    "DimPlot(data, group.by = \"organ\")\n",
    "\n",
    "gc()"
   ]
  },
  {
   "cell_type": "code",
   "execution_count": null,
   "id": "5e8ffe8b-ea02-437f-81fe-1a34907a1456",
   "metadata": {
    "execution": {
     "iopub.execute_input": "2023-05-17T18:06:54.531460Z",
     "iopub.status.busy": "2023-05-17T18:06:54.531223Z",
     "iopub.status.idle": "2023-05-17T18:07:18.969037Z",
     "shell.execute_reply": "2023-05-17T18:07:18.968517Z"
    },
    "papermill": {
     "duration": 24.455937,
     "end_time": "2023-05-17T18:07:18.970519",
     "exception": false,
     "start_time": "2023-05-17T18:06:54.514582",
     "status": "completed"
    },
    "tags": []
   },
   "outputs": [],
   "source": [
    "dataset = sc.read(\"../../int_data/dataset_integrated_cell_type.h5ad\")\n",
    "\n",
    "dataset.obs[\"condition\"] = dataset.obs[\"PHENOTYPE\"]\n",
    "dataset.obs[\"cell_type\"] = dataset.obs[\"cell_type\"].to_list()\n",
    "dataset.obs[\"cell_type\"] = dataset.obs[\"cell_type\"].fillna(\"Unknown\")\n",
    "dataset.obs[\"cell_type\"] = dataset.obs[\"cell_type\"].astype(\"category\")\n",
    "dataset.obs[\"organ\"] = dataset.obs[\"Tissue\"]\n",
    "\n",
    "dataset.obs[\"cell_type_organ\"] = [f\"{cell_type}_{organ}\" for cell_type, organ in zip(dataset.obs[\"cell_type\"], dataset.obs[\"organ\"])]\n",
    "\n",
    "dataset = dataset[dataset.obs[\"cell_type\"] == \"Neutrophils\", :].copy()\n",
    "dataset.X = dataset.layers[\"soupX_counts\"]\n",
    "sc.pp.normalize_total(dataset, target_sum = 1e4)\n",
    "sc.pp.log1p(dataset)\n",
    "sc.pp.pca(dataset)\n",
    "sc.tl.score_genes(dataset, fisher_genes_up, ctrl_size=100, score_name = \"fisher_up\")\n",
    "sc.pp.neighbors(dataset)\n",
    "sc.tl.umap(dataset)\n",
    "sc.pl.umap(dataset, color = [\"condition\", \"organ\", \"batch\"], wspace = 0.6)\n",
    "\n",
    "dataset.obs.to_csv(\"gene_set_scores_raw_scanpy.csv\")\n",
    "\n",
    "del dataset.obsp\n",
    "del dataset.uns\n",
    "gc.collect()\n",
    "\n",
    "dataset.X = dataset.layers[\"soupX_counts\"]"
   ]
  },
  {
   "cell_type": "code",
   "execution_count": null,
   "id": "80d90bab-223f-477d-8561-a60e95e1dd75",
   "metadata": {
    "execution": {
     "iopub.execute_input": "2023-05-17T18:07:19.017180Z",
     "iopub.status.busy": "2023-05-17T18:07:19.016985Z",
     "iopub.status.idle": "2023-05-17T18:09:37.848996Z",
     "shell.execute_reply": "2023-05-17T18:09:37.848477Z"
    },
    "papermill": {
     "duration": 138.882641,
     "end_time": "2023-05-17T18:09:37.877441",
     "exception": false,
     "start_time": "2023-05-17T18:07:18.994800",
     "status": "completed"
    },
    "tags": []
   },
   "outputs": [],
   "source": [
    "%%R -i dataset\n",
    "\n",
    "sce <- SingleCellExperiment(list(counts=dataset@assays@data[[\"soupX_counts\"]]),\n",
    "    colData=dataset@colData,\n",
    ")\n",
    "\n",
    "row.names(sce) <- row.names(dataset)\n",
    "\n",
    "data <- as.Seurat(sce, data = NULL)\n",
    "\n",
    "data <- NormalizeData(data)\n",
    "data <- ScaleData(data, features = row.names(data))\n",
    "data <- FindVariableFeatures(data)\n",
    "data <- RunPCA(data, verbose = F)\n",
    "data <- FindNeighbors(data, verbose = F)\n",
    "data <- FindClusters(data, verbose = F)\n",
    "data <- RunUMAP(data, dims = 1:20, verbose = F)\n",
    "\n",
    "data <- AddModuleScore(data, list(fisher_genes_up), name = \"Seurat_fisher_up\", ctrl = 100)\n",
    "data <- AddModuleScore_UCell(data, features = list(\"UCell_fisher_up\" = fisher_genes_up))\n",
    "\n",
    "write.csv(data@meta.data, \"gene_set_scores_raw_R.csv\")\n",
    "\n",
    "DimPlot(data, group.by = \"organ\")\n",
    "\n",
    "gc()"
   ]
  },
  {
   "cell_type": "code",
   "execution_count": null,
   "id": "f9cbe0dc-83e6-40da-b249-670eec3bfa37",
   "metadata": {
    "execution": {
     "iopub.execute_input": "2023-05-17T18:09:37.925008Z",
     "iopub.status.busy": "2023-05-17T18:09:37.924705Z",
     "iopub.status.idle": "2023-05-17T18:11:18.525043Z",
     "shell.execute_reply": "2023-05-17T18:11:18.524540Z"
    },
    "papermill": {
     "duration": 100.625741,
     "end_time": "2023-05-17T18:11:18.526459",
     "exception": false,
     "start_time": "2023-05-17T18:09:37.900718",
     "status": "completed"
    },
    "tags": []
   },
   "outputs": [],
   "source": [
    "dataset = sc.read(\"../../int_data/dataset_integrated_cell_type.h5ad\")\n",
    "\n",
    "dataset.obs[\"condition\"] = dataset.obs[\"PHENOTYPE\"]\n",
    "dataset.obs[\"cell_type\"] = dataset.obs[\"cell_type\"].to_list()\n",
    "dataset.obs[\"cell_type\"] = dataset.obs[\"cell_type\"].fillna(\"Unknown\")\n",
    "dataset.obs[\"cell_type\"] = dataset.obs[\"cell_type\"].astype(\"category\")\n",
    "dataset.obs[\"organ\"] = dataset.obs[\"Tissue\"]\n",
    "\n",
    "dataset.obs[\"cell_type_organ\"] = [f\"{cell_type}_{organ}\" for cell_type, organ in zip(dataset.obs[\"cell_type\"], dataset.obs[\"organ\"])]\n",
    "\n",
    "dataset = dataset[dataset.obs[\"cell_type\"] == \"Neutrophils\", :].copy()\n",
    "dataset.X = dataset.layers[\"soupX_counts\"]\n",
    "sc.pp.normalize_total(dataset, target_sum = 1e4)\n",
    "sc.pp.log1p(dataset)\n",
    "sc.pp.scale(dataset, max_value = 10)\n",
    "sc.pp.pca(dataset)\n",
    "sc.tl.score_genes(dataset, fisher_genes_up, ctrl_size=100, score_name = \"fisher_up\")\n",
    "sc.pp.neighbors(dataset)\n",
    "sc.tl.umap(dataset)\n",
    "sc.pl.umap(dataset, color = [\"condition\", \"organ\", \"batch\"], wspace = 0.6)\n",
    "\n",
    "dataset.obs.to_csv(\"gene_set_scores_scaled_scanpy.csv\")\n",
    "\n",
    "del dataset.obsp\n",
    "del dataset.uns\n",
    "gc.collect()\n",
    "\n",
    "dataset.X = dataset.layers[\"soupX_counts\"]"
   ]
  },
  {
   "cell_type": "code",
   "execution_count": null,
   "id": "6afb5097-47e1-4d0b-a893-a50c5de7b631",
   "metadata": {
    "execution": {
     "iopub.execute_input": "2023-05-17T18:11:18.586857Z",
     "iopub.status.busy": "2023-05-17T18:11:18.586640Z",
     "iopub.status.idle": "2023-05-17T18:13:35.813335Z",
     "shell.execute_reply": "2023-05-17T18:13:35.812725Z"
    },
    "papermill": {
     "duration": 137.285798,
     "end_time": "2023-05-17T18:13:35.844435",
     "exception": false,
     "start_time": "2023-05-17T18:11:18.558637",
     "status": "completed"
    },
    "tags": []
   },
   "outputs": [],
   "source": [
    "%%R -i dataset\n",
    "\n",
    "sce <- SingleCellExperiment(list(counts=dataset@assays@data[[\"soupX_counts\"]]),\n",
    "    colData=dataset@colData,\n",
    ")\n",
    "\n",
    "row.names(sce) <- row.names(dataset)\n",
    "\n",
    "data <- as.Seurat(sce, data = NULL)\n",
    "\n",
    "data <- NormalizeData(data)\n",
    "data <- ScaleData(data, features = row.names(data))\n",
    "data <- FindVariableFeatures(data)\n",
    "data <- RunPCA(data, verbose = F)\n",
    "data <- FindNeighbors(data, verbose = F)\n",
    "data <- FindClusters(data, verbose = F)\n",
    "data <- RunUMAP(data, dims = 1:20, verbose = F)\n",
    "\n",
    "data <- AddModuleScore(data, list(fisher_genes_up), name = \"Seurat_fisher_up\", ctrl = 100)\n",
    "data <- AddModuleScore_UCell(data, features = list(\"UCell_fisher_up\" = fisher_genes_up))\n",
    "\n",
    "write.csv(data@meta.data, \"gene_set_scores_scaled_R.csv\")\n",
    "\n",
    "DimPlot(data, group.by = \"organ\")\n",
    "\n",
    "gc()"
   ]
  },
  {
   "cell_type": "code",
   "execution_count": null,
   "id": "219c3473-b5b8-4d03-886b-5a748363c659",
   "metadata": {
    "execution": {
     "iopub.execute_input": "2023-05-17T18:13:35.902856Z",
     "iopub.status.busy": "2023-05-17T18:13:35.902632Z",
     "iopub.status.idle": "2023-05-17T18:13:36.486901Z",
     "shell.execute_reply": "2023-05-17T18:13:36.486403Z"
    },
    "papermill": {
     "duration": 0.614379,
     "end_time": "2023-05-17T18:13:36.488202",
     "exception": false,
     "start_time": "2023-05-17T18:13:35.873823",
     "status": "completed"
    },
    "tags": []
   },
   "outputs": [],
   "source": [
    "scanpy_integrated = pd.read_csv(\"gene_set_scores_integrated_scanpy_scanpy.csv\", index_col = 0)\n",
    "scanpy_integrated_r = pd.read_csv(\"gene_set_scores_integrated_scanpy_R.csv\", index_col = 0)\n",
    "\n",
    "scanpy_raw = pd.read_csv(\"gene_set_scores_raw_scanpy.csv\", index_col = 0)\n",
    "scanpy_raw_r = pd.read_csv(\"gene_set_scores_raw_R.csv\", index_col = 0)\n",
    "\n",
    "scanpy_scaled = pd.read_csv(\"gene_set_scores_scaled_scanpy.csv\", index_col = 0)\n",
    "scanpy_scaled_r = pd.read_csv(\"gene_set_scores_scaled_R.csv\", index_col = 0)\n",
    "\n",
    "\n",
    "df = pd.DataFrame(index = scanpy_integrated.index, data = {\"scanpy_int_scanpy\": scanpy_integrated[\"fisher_up\"],\n",
    "                                                           \"seurat_int_scanpy\": scanpy_integrated_r[\"Seurat_fisher_up1\"],\n",
    "                                                           \"ucell_int_scanpy\": scanpy_integrated_r[\"UCell_fisher_up_UCell\"],\n",
    "                                                           \n",
    "                                                           \"sc_raw\": scanpy_raw[\"fisher_up\"],\n",
    "                                                           \"sc_scaled\": scanpy_scaled[\"fisher_up\"],\n",
    "                                                           \"seurat_raw\": scanpy_raw_r[\"Seurat_fisher_up1\"],\n",
    "                                                           \"seurat_scaled\": scanpy_scaled_r[\"Seurat_fisher_up1\"],\n",
    "                                                           \"ucell_raw\": scanpy_raw_r[\"UCell_fisher_up_UCell\"],\n",
    "                                                           \"ucell_scaled\": scanpy_scaled_r[\"UCell_fisher_up_UCell\"],\n",
    "                                                           \"organ\": scanpy_integrated[\"organ\"],\n",
    "                                                           \"condition\": scanpy_integrated[\"condition\"]})\n"
   ]
  },
  {
   "cell_type": "code",
   "execution_count": null,
   "id": "6129ac40-d8b9-4c4f-8f39-29c0ff26a90f",
   "metadata": {
    "execution": {
     "iopub.execute_input": "2023-05-17T18:13:36.546206Z",
     "iopub.status.busy": "2023-05-17T18:13:36.546004Z",
     "iopub.status.idle": "2023-05-17T18:13:36.808984Z",
     "shell.execute_reply": "2023-05-17T18:13:36.808581Z"
    },
    "papermill": {
     "duration": 0.292462,
     "end_time": "2023-05-17T18:13:36.809861",
     "exception": false,
     "start_time": "2023-05-17T18:13:36.517399",
     "status": "completed"
    },
    "tags": []
   },
   "outputs": [],
   "source": [
    "sns.heatmap(df.corr(), vmin = -1, vmax = 1)\n",
    "\n",
    "plt.show()"
   ]
  }
 ],
 "metadata": {
  "kernelspec": {
   "display_name": "py_R",
   "language": "python",
   "name": "python_r"
  },
  "language_info": {
   "codemirror_mode": {
    "name": "ipython",
    "version": 3
   },
   "file_extension": ".py",
   "mimetype": "text/x-python",
   "name": "python",
   "nbconvert_exporter": "python",
   "pygments_lexer": "ipython3",
   "version": "3.10.9"
  },
  "papermill": {
   "default_parameters": {},
   "duration": 1150.987946,
   "end_time": "2023-05-17T18:13:39.660324",
   "environment_variables": {},
   "exception": null,
   "input_path": "gene_set_score_calculation.ipynb",
   "output_path": "gene_set_score_calculation.ipynb",
   "parameters": {},
   "start_time": "2023-05-17T17:54:28.672378",
   "version": "2.4.0"
  }
 },
 "nbformat": 4,
 "nbformat_minor": 5
}
