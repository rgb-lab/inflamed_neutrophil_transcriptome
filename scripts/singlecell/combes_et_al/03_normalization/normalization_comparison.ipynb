{
 "cells": [
  {
   "cell_type": "code",
   "execution_count": null,
   "id": "9b35177d-116c-465b-8255-3b1cfe4c249c",
   "metadata": {
    "execution": {
     "iopub.execute_input": "2023-05-16T18:44:46.245044Z",
     "iopub.status.busy": "2023-05-16T18:44:46.244904Z",
     "iopub.status.idle": "2023-05-16T18:44:58.981056Z",
     "shell.execute_reply": "2023-05-16T18:44:58.980567Z"
    },
    "papermill": {
     "duration": 12.743738,
     "end_time": "2023-05-16T18:44:58.982986",
     "exception": false,
     "start_time": "2023-05-16T18:44:46.239248",
     "status": "completed"
    },
    "tags": []
   },
   "outputs": [],
   "source": [
    "import scanpy as sc\n",
    "import muon as mu\n",
    "import pandas as pd\n",
    "\n",
    "import os\n",
    "os.environ['R_HOME'] = '/gpfs/bwfor/work/ws/hd_fu399-conda/conda/envs/python_R/lib/R/'\n",
    "import anndata2ri\n",
    "import logging\n",
    "from matplotlib import pyplot as plt\n",
    "import seaborn as sns\n",
    "\n",
    "import rpy2.rinterface_lib.callbacks as rcb\n",
    "import rpy2.robjects as ro\n",
    "\n",
    "rcb.logger.setLevel(logging.ERROR)\n",
    "ro.pandas2ri.activate()\n",
    "anndata2ri.activate()\n",
    "\n",
    "%load_ext rpy2.ipython"
   ]
  },
  {
   "cell_type": "code",
   "execution_count": null,
   "id": "e4993c10-e558-4845-a802-83a8044c95b7",
   "metadata": {
    "execution": {
     "iopub.execute_input": "2023-05-16T18:44:58.994593Z",
     "iopub.status.busy": "2023-05-16T18:44:58.994286Z",
     "iopub.status.idle": "2023-05-16T18:45:09.316454Z",
     "shell.execute_reply": "2023-05-16T18:45:09.315981Z"
    },
    "papermill": {
     "duration": 10.327959,
     "end_time": "2023-05-16T18:45:09.317984",
     "exception": false,
     "start_time": "2023-05-16T18:44:58.990025",
     "status": "completed"
    },
    "tags": []
   },
   "outputs": [],
   "source": [
    "%%R\n",
    "library(Seurat)\n",
    "library(scran)\n",
    "library(BiocParallel)\n",
    "library(sctransform)"
   ]
  },
  {
   "cell_type": "code",
   "execution_count": null,
   "id": "875eafad-ec0c-4783-a7c5-7fc9163907ef",
   "metadata": {
    "execution": {
     "iopub.execute_input": "2023-05-16T18:45:09.333556Z",
     "iopub.status.busy": "2023-05-16T18:45:09.333282Z",
     "iopub.status.idle": "2023-05-16T18:45:09.336733Z",
     "shell.execute_reply": "2023-05-16T18:45:09.336369Z"
    },
    "papermill": {
     "duration": 0.008573,
     "end_time": "2023-05-16T18:45:09.337553",
     "exception": false,
     "start_time": "2023-05-16T18:45:09.328980",
     "status": "completed"
    },
    "tags": []
   },
   "outputs": [],
   "source": [
    "def fetch_dataset(sample_name):\n",
    "    dataset = sc.read(f\"../../int_data/{sample_name}_qc.h5ad\")\n",
    "    metadata = pd.read_csv(f\"../02_cell_ident/{sample_name}_metadata.csv\")\n",
    "    dataset.obs[\"cell_type\"] = metadata[\"SingleR_label\"].to_list()\n",
    "    return dataset\n",
    "\n",
    "sample_list = os.listdir(\"../../fetchngs/results/fastq\")"
   ]
  },
  {
   "cell_type": "code",
   "execution_count": null,
   "id": "703d7150-9074-4577-bdc6-029e308cb7bc",
   "metadata": {
    "execution": {
     "iopub.execute_input": "2023-05-16T18:45:09.344151Z",
     "iopub.status.busy": "2023-05-16T18:45:09.343847Z",
     "iopub.status.idle": "2023-05-16T18:45:49.642000Z",
     "shell.execute_reply": "2023-05-16T18:45:49.641544Z"
    },
    "papermill": {
     "duration": 40.303001,
     "end_time": "2023-05-16T18:45:49.643471",
     "exception": false,
     "start_time": "2023-05-16T18:45:09.340470",
     "status": "completed"
    },
    "tags": []
   },
   "outputs": [],
   "source": [
    "dataset = sc.read(f\"../../int_data/{sample_list[0]}_qc.h5ad\")\n",
    "\n",
    "dataset = dataset.concatenate([fetch_dataset(sample_name) for sample_name in sample_list[1:]])"
   ]
  },
  {
   "cell_type": "code",
   "execution_count": null,
   "id": "e6eb94f8-bbd1-4bee-b4e5-6d14a1ac61c8",
   "metadata": {
    "execution": {
     "iopub.execute_input": "2023-05-16T18:45:49.654249Z",
     "iopub.status.busy": "2023-05-16T18:45:49.654009Z",
     "iopub.status.idle": "2023-05-16T18:45:56.334166Z",
     "shell.execute_reply": "2023-05-16T18:45:56.333688Z"
    },
    "papermill": {
     "duration": 6.686073,
     "end_time": "2023-05-16T18:45:56.335199",
     "exception": false,
     "start_time": "2023-05-16T18:45:49.649126",
     "status": "completed"
    },
    "tags": []
   },
   "outputs": [],
   "source": [
    "dataset.write(\"../../int_data/dataset_full_qc.h5ad\")"
   ]
  },
  {
   "cell_type": "code",
   "execution_count": null,
   "id": "458aed92-1172-4e8a-8ced-aa69bb37f53e",
   "metadata": {
    "execution": {
     "iopub.execute_input": "2023-05-16T18:45:56.344982Z",
     "iopub.status.busy": "2023-05-16T18:45:56.344814Z",
     "iopub.status.idle": "2023-05-16T18:45:56.723249Z",
     "shell.execute_reply": "2023-05-16T18:45:56.722851Z"
    },
    "papermill": {
     "duration": 0.382995,
     "end_time": "2023-05-16T18:45:56.724081",
     "exception": false,
     "start_time": "2023-05-16T18:45:56.341086",
     "status": "completed"
    },
    "tags": []
   },
   "outputs": [],
   "source": [
    "sc.pp.subsample(dataset, 0.2)\n",
    "\n",
    "dataset"
   ]
  },
  {
   "cell_type": "code",
   "execution_count": null,
   "id": "7f706a5d-a924-46c3-93ac-a7fdddd77ecd",
   "metadata": {
    "execution": {
     "iopub.execute_input": "2023-05-16T18:45:56.731763Z",
     "iopub.status.busy": "2023-05-16T18:45:56.731601Z",
     "iopub.status.idle": "2023-05-16T18:45:57.426118Z",
     "shell.execute_reply": "2023-05-16T18:45:57.425672Z"
    },
    "papermill": {
     "duration": 0.699594,
     "end_time": "2023-05-16T18:45:57.427304",
     "exception": false,
     "start_time": "2023-05-16T18:45:56.727710",
     "status": "completed"
    },
    "tags": []
   },
   "outputs": [],
   "source": [
    "dataset.write(\"../../int_data/dataset_qc.h5ad\")"
   ]
  },
  {
   "cell_type": "code",
   "execution_count": null,
   "id": "052135a9-3a2c-4064-ad5d-bf56d615ae7c",
   "metadata": {
    "execution": {
     "iopub.execute_input": "2023-05-16T18:45:57.434808Z",
     "iopub.status.busy": "2023-05-16T18:45:57.434536Z",
     "iopub.status.idle": "2023-05-16T18:45:58.092771Z",
     "shell.execute_reply": "2023-05-16T18:45:58.092307Z"
    },
    "papermill": {
     "duration": 0.663597,
     "end_time": "2023-05-16T18:45:58.094280",
     "exception": false,
     "start_time": "2023-05-16T18:45:57.430683",
     "status": "completed"
    },
    "tags": []
   },
   "outputs": [],
   "source": [
    "dataset = sc.read(\"../../int_data/dataset_qc.h5ad\")\n",
    "dataset.obs[[\"AvgSpotLen\", \"Bases\", \"Bytes\", \"version\"]] = dataset.obs[[\"AvgSpotLen\", \"Bases\", \"Bytes\", \"version\"]].astype(\"str\")"
   ]
  },
  {
   "cell_type": "code",
   "execution_count": null,
   "id": "2fada67a-a863-4168-bb55-d1050a588c0b",
   "metadata": {
    "execution": {
     "iopub.execute_input": "2023-05-16T18:45:58.102056Z",
     "iopub.status.busy": "2023-05-16T18:45:58.101892Z",
     "iopub.status.idle": "2023-05-16T18:45:58.905733Z",
     "shell.execute_reply": "2023-05-16T18:45:58.905275Z"
    },
    "papermill": {
     "duration": 0.809468,
     "end_time": "2023-05-16T18:45:58.907467",
     "exception": false,
     "start_time": "2023-05-16T18:45:58.097999",
     "status": "completed"
    },
    "tags": []
   },
   "outputs": [],
   "source": [
    "dataset.X = dataset.layers[\"soupX_counts\"]\n",
    "sc.pp.filter_genes(dataset, min_cells = 5)"
   ]
  },
  {
   "cell_type": "code",
   "execution_count": null,
   "id": "3c535ff8-43af-442d-b55e-e96d11a2a67b",
   "metadata": {
    "execution": {
     "iopub.execute_input": "2023-05-16T18:45:58.918206Z",
     "iopub.status.busy": "2023-05-16T18:45:58.918040Z",
     "iopub.status.idle": "2023-05-16T18:45:59.767142Z",
     "shell.execute_reply": "2023-05-16T18:45:59.766679Z"
    },
    "papermill": {
     "duration": 0.854279,
     "end_time": "2023-05-16T18:45:59.768285",
     "exception": false,
     "start_time": "2023-05-16T18:45:58.914006",
     "status": "completed"
    },
    "tags": []
   },
   "outputs": [],
   "source": [
    "proportional_fitting = sc.pp.normalize_total(dataset, target_sum = 1e4, inplace = False)\n",
    "dataset.layers[\"log1pPF_normalization\"] = sc.pp.log1p(proportional_fitting[\"X\"])\n",
    "dataset.layers[\"PFlog1PF_normalization\"] = sc.pp.normalize_total(dataset, target_sum = None, layer = \"log1pPF_normalization\", inplace = False)[\"X\"]"
   ]
  },
  {
   "cell_type": "code",
   "execution_count": null,
   "id": "69de6f1b-7743-4e13-a630-dff5f261328c",
   "metadata": {
    "execution": {
     "iopub.execute_input": "2023-05-16T18:45:59.776048Z",
     "iopub.status.busy": "2023-05-16T18:45:59.775888Z",
     "iopub.status.idle": "2023-05-16T18:45:59.778296Z",
     "shell.execute_reply": "2023-05-16T18:45:59.777949Z"
    },
    "papermill": {
     "duration": 0.007069,
     "end_time": "2023-05-16T18:45:59.779093",
     "exception": false,
     "start_time": "2023-05-16T18:45:59.772024",
     "status": "completed"
    },
    "tags": []
   },
   "outputs": [],
   "source": [
    "from scipy.sparse import csr_matrix, issparse"
   ]
  },
  {
   "cell_type": "code",
   "execution_count": null,
   "id": "4f8f684f-bc1c-46b3-8d46-656621204678",
   "metadata": {
    "execution": {
     "iopub.execute_input": "2023-05-16T18:45:59.787524Z",
     "iopub.status.busy": "2023-05-16T18:45:59.787248Z",
     "iopub.status.idle": "2023-05-16T18:47:33.868541Z",
     "shell.execute_reply": "2023-05-16T18:47:33.867909Z"
    },
    "papermill": {
     "duration": 94.087026,
     "end_time": "2023-05-16T18:47:33.870036",
     "exception": false,
     "start_time": "2023-05-16T18:45:59.783010",
     "status": "completed"
    },
    "tags": []
   },
   "outputs": [],
   "source": [
    "adata_pp = dataset.copy()\n",
    "sc.pp.normalize_per_cell(adata_pp, counts_per_cell_after=1e6)\n",
    "sc.pp.log1p(adata_pp)\n",
    "sc.pp.pca(adata_pp, n_comps=15)\n",
    "sc.pp.neighbors(adata_pp)\n",
    "sc.tl.leiden(adata_pp, key_added=\"groups\")\n",
    "\n",
    "data_mat = adata_pp.X.T\n",
    "input_groups = adata_pp.obs[\"groups\"]\n",
    "\n",
    "# convert to CSC if possible. See https://github.com/MarioniLab/scran/issues/70\n",
    "if issparse(data_mat):\n",
    "    if data_mat.nnz > 2**31 - 1:\n",
    "        data_mat = data_mat.tocoo()\n",
    "    else:\n",
    "        data_mat = data_mat.tocsc()"
   ]
  },
  {
   "cell_type": "code",
   "execution_count": null,
   "id": "a506fec6-ebca-4798-ad9c-5cacbcadbbc8",
   "metadata": {
    "execution": {
     "iopub.execute_input": "2023-05-16T18:47:33.884655Z",
     "iopub.status.busy": "2023-05-16T18:47:33.884443Z",
     "iopub.status.idle": "2023-05-16T18:48:17.485960Z",
     "shell.execute_reply": "2023-05-16T18:48:17.485187Z"
    },
    "papermill": {
     "duration": 43.607103,
     "end_time": "2023-05-16T18:48:17.487480",
     "exception": false,
     "start_time": "2023-05-16T18:47:33.880377",
     "status": "completed"
    },
    "tags": []
   },
   "outputs": [],
   "source": [
    "%%R -i data_mat -i input_groups -o size_factors\n",
    "\n",
    "size_factors = sizeFactors(\n",
    "    computeSumFactors(\n",
    "        SingleCellExperiment(\n",
    "            list(counts=data_mat)), \n",
    "            clusters = input_groups,\n",
    "            min.mean = 0.1,\n",
    "            BPPARAM = MulticoreParam()\n",
    "    )\n",
    ")"
   ]
  },
  {
   "cell_type": "code",
   "execution_count": null,
   "id": "5533b6ee-ec7d-4f92-8a59-5620b367d5dc",
   "metadata": {
    "execution": {
     "iopub.execute_input": "2023-05-16T18:48:17.499275Z",
     "iopub.status.busy": "2023-05-16T18:48:17.499093Z",
     "iopub.status.idle": "2023-05-16T18:48:31.450639Z",
     "shell.execute_reply": "2023-05-16T18:48:31.449756Z"
    },
    "papermill": {
     "duration": 13.95718,
     "end_time": "2023-05-16T18:48:31.452183",
     "exception": false,
     "start_time": "2023-05-16T18:48:17.495003",
     "status": "completed"
    },
    "tags": []
   },
   "outputs": [],
   "source": [
    "dataset.obs[\"size_factors\"] = size_factors\n",
    "dataset.X = dataset.layers[\"soupX_counts\"]\n",
    "scran = dataset.X / dataset.obs[\"size_factors\"].values[:, None]\n",
    "dataset.layers[\"scran_normalization\"] = csr_matrix(sc.pp.log1p(scran))"
   ]
  },
  {
   "cell_type": "code",
   "execution_count": null,
   "id": "6e99698c-9567-4225-b059-d2611f62a479",
   "metadata": {
    "execution": {
     "iopub.execute_input": "2023-05-16T18:48:31.464068Z",
     "iopub.status.busy": "2023-05-16T18:48:31.463859Z",
     "iopub.status.idle": "2023-05-16T18:48:31.790523Z",
     "shell.execute_reply": "2023-05-16T18:48:31.790056Z"
    },
    "papermill": {
     "duration": 0.332337,
     "end_time": "2023-05-16T18:48:31.791943",
     "exception": false,
     "start_time": "2023-05-16T18:48:31.459606",
     "status": "completed"
    },
    "tags": []
   },
   "outputs": [],
   "source": [
    "rna_data = dataset.copy()"
   ]
  },
  {
   "cell_type": "code",
   "execution_count": null,
   "id": "e4c75c94-ffa4-4f28-8119-1c957b3f2c53",
   "metadata": {
    "execution": {
     "iopub.execute_input": "2023-05-16T18:48:31.800244Z",
     "iopub.status.busy": "2023-05-16T18:48:31.799931Z",
     "iopub.status.idle": "2023-05-16T18:52:46.551202Z",
     "shell.execute_reply": "2023-05-16T18:52:46.550640Z"
    },
    "papermill": {
     "duration": 254.756831,
     "end_time": "2023-05-16T18:52:46.552680",
     "exception": false,
     "start_time": "2023-05-16T18:48:31.795849",
     "status": "completed"
    },
    "tags": []
   },
   "outputs": [],
   "source": [
    "%%R -i rna_data -o norm_x -o corrected_counts -o log_normalized\n",
    "\n",
    "dataset = rna_data\n",
    "seurat_obj = as.Seurat(dataset, counts=\"X\", data = NULL)\n",
    "seurat_obj = RenameAssays(seurat_obj, originalexp = \"RNA\")\n",
    "res = SCTransform(object=seurat_obj, method = \"glmGamPoi\", return.only.var.genes = FALSE)\n",
    "\n",
    "print(res)\n",
    "\n",
    "norm_x = res@assays$SCT@scale.data\n",
    "corrected_counts = res@assays$SCT@counts\n",
    "log_normalized = res@assays$SCT@data"
   ]
  },
  {
   "cell_type": "code",
   "execution_count": null,
   "id": "f7e36ac7-4ccc-4ad8-bab1-9ee09599cde0",
   "metadata": {
    "execution": {
     "iopub.execute_input": "2023-05-16T18:52:46.574977Z",
     "iopub.status.busy": "2023-05-16T18:52:46.574776Z",
     "iopub.status.idle": "2023-05-16T18:52:46.577916Z",
     "shell.execute_reply": "2023-05-16T18:52:46.577580Z"
    },
    "papermill": {
     "duration": 0.014674,
     "end_time": "2023-05-16T18:52:46.579013",
     "exception": false,
     "start_time": "2023-05-16T18:52:46.564339",
     "status": "completed"
    },
    "tags": []
   },
   "outputs": [],
   "source": [
    "dataset.layers[\"scTransform_normalized\"] = norm_x.T\n",
    "dataset.layers[\"scTransform_counts\"] = corrected_counts.T\n",
    "dataset.layers[\"scTransform_log_normalized\"] = log_normalized.T"
   ]
  },
  {
   "cell_type": "code",
   "execution_count": null,
   "id": "f32fc203-70b8-4f18-9f1e-9395099e4962",
   "metadata": {
    "execution": {
     "iopub.execute_input": "2023-05-16T18:52:46.598916Z",
     "iopub.status.busy": "2023-05-16T18:52:46.598755Z",
     "iopub.status.idle": "2023-05-16T18:52:51.940830Z",
     "shell.execute_reply": "2023-05-16T18:52:51.940368Z"
    },
    "papermill": {
     "duration": 5.353526,
     "end_time": "2023-05-16T18:52:51.942074",
     "exception": false,
     "start_time": "2023-05-16T18:52:46.588548",
     "status": "completed"
    },
    "tags": []
   },
   "outputs": [],
   "source": [
    "dataset.write(\"../../int_data/dataset_qc_normalized.h5ad\")"
   ]
  },
  {
   "cell_type": "code",
   "execution_count": null,
   "id": "3a8cf3e4-7e9b-4e8f-b731-d60ac24e88fc",
   "metadata": {
    "execution": {
     "iopub.execute_input": "2023-05-16T18:52:51.964173Z",
     "iopub.status.busy": "2023-05-16T18:52:51.964001Z",
     "iopub.status.idle": "2023-05-16T18:52:58.535944Z",
     "shell.execute_reply": "2023-05-16T18:52:58.535475Z"
    },
    "papermill": {
     "duration": 6.583511,
     "end_time": "2023-05-16T18:52:58.537277",
     "exception": false,
     "start_time": "2023-05-16T18:52:51.953766",
     "status": "completed"
    },
    "tags": []
   },
   "outputs": [],
   "source": [
    "dataset = sc.read(\"../../int_data/dataset_qc_normalized.h5ad\")"
   ]
  },
  {
   "cell_type": "code",
   "execution_count": null,
   "id": "05c6d064-87fa-4a41-9ffe-659848865487",
   "metadata": {
    "execution": {
     "iopub.execute_input": "2023-05-16T18:52:58.580751Z",
     "iopub.status.busy": "2023-05-16T18:52:58.580579Z",
     "iopub.status.idle": "2023-05-16T18:52:58.583808Z",
     "shell.execute_reply": "2023-05-16T18:52:58.583479Z"
    },
    "papermill": {
     "duration": 0.014224,
     "end_time": "2023-05-16T18:52:58.584630",
     "exception": false,
     "start_time": "2023-05-16T18:52:58.570406",
     "status": "completed"
    },
    "tags": []
   },
   "outputs": [],
   "source": [
    "def dim_red(dataset, key):\n",
    "    sc.pp.pca(dataset)\n",
    "    dataset.obsm[f\"X_pca_{key}\"] = dataset.obsm[\"X_pca\"].copy()\n",
    "    \n",
    "    sc.pp.neighbors(dataset, use_rep = f\"X_pca_{key}\", key_added = f\"{key}_neighbors\")\n",
    "    \n",
    "    sc.tl.umap(dataset, neighbors_key = f\"{key}_neighbors\")\n",
    "    dataset.obsm[f\"X_umap_{key}\"] = dataset.obsm[\"X_umap\"].copy()"
   ]
  },
  {
   "cell_type": "code",
   "execution_count": null,
   "id": "759e264f-876c-4d8a-abe2-62840e3848f8",
   "metadata": {
    "execution": {
     "iopub.execute_input": "2023-05-16T18:52:58.604546Z",
     "iopub.status.busy": "2023-05-16T18:52:58.604376Z",
     "iopub.status.idle": "2023-05-16T18:57:30.447044Z",
     "shell.execute_reply": "2023-05-16T18:57:30.446318Z"
    },
    "papermill": {
     "duration": 271.854335,
     "end_time": "2023-05-16T18:57:30.448662",
     "exception": false,
     "start_time": "2023-05-16T18:52:58.594327",
     "status": "completed"
    },
    "tags": []
   },
   "outputs": [],
   "source": [
    "dataset.X = dataset.layers[\"log1pPF_normalization\"]\n",
    "dim_red(dataset, key = \"log1pPF\")\n",
    "\n",
    "dataset.X = dataset.layers[\"PFlog1PF_normalization\"]\n",
    "dim_red(dataset, key = \"PFlog1pPF\")\n",
    "\n",
    "dataset.X = dataset.layers[\"scran_normalization\"]\n",
    "dim_red(dataset, key = \"scran\")\n",
    "\n",
    "dataset.X = dataset.layers[\"scTransform_normalized\"]\n",
    "dim_red(dataset, key = \"sctransform\")"
   ]
  },
  {
   "cell_type": "code",
   "execution_count": null,
   "id": "e4e4f7ed-2412-4588-b057-329492ce715d",
   "metadata": {
    "execution": {
     "iopub.execute_input": "2023-05-16T18:57:30.477745Z",
     "iopub.status.busy": "2023-05-16T18:57:30.477522Z",
     "iopub.status.idle": "2023-05-16T18:57:33.874152Z",
     "shell.execute_reply": "2023-05-16T18:57:33.873632Z"
    },
    "papermill": {
     "duration": 3.408525,
     "end_time": "2023-05-16T18:57:33.875747",
     "exception": false,
     "start_time": "2023-05-16T18:57:30.467222",
     "status": "completed"
    },
    "tags": []
   },
   "outputs": [],
   "source": [
    "color = \"batch\"\n",
    "\n",
    "fig, ax = plt.subplots(ncols = 4, nrows = 1, figsize = (12,3))\n",
    "\n",
    "axis = sc.pl.embedding(dataset, color = color, basis = \"X_umap_log1pPF\", ax = ax[0], show = False)\n",
    "axis.set_xlabel(\"UMAP_1\")\n",
    "axis.set_ylabel(\"UMAP_2\")\n",
    "axis.set_title(\"Log1p Proportional Filtering\\n\")\n",
    "axis.legend().remove()\n",
    "\n",
    "axis = sc.pl.embedding(dataset, color = color, basis = \"X_umap_PFlog1pPF\", ax = ax[1], show = False)\n",
    "axis.set_xlabel(\"UMAP_1\")\n",
    "axis.set_ylabel(\"UMAP_2\")\n",
    "axis.set_title(\"Proportional Filtering\\nLog1p Proportional Filtering\")\n",
    "axis.legend().remove()\n",
    "\n",
    "axis = sc.pl.embedding(dataset, color = color, basis = \"X_umap_scran\", ax = ax[2], show = False)\n",
    "axis.set_xlabel(\"UMAP_1\")\n",
    "axis.set_ylabel(\"UMAP_2\")\n",
    "axis.set_title(\"Scran Normalization\\n\")\n",
    "axis.legend().remove()\n",
    "\n",
    "axis = sc.pl.embedding(dataset, color = color, basis = \"X_umap_sctransform\", ax = ax[3], show = False)\n",
    "axis.set_xlabel(\"UMAP_1\")\n",
    "axis.set_ylabel(\"UMAP_2\")\n",
    "axis.set_title(\"scTransform Normalization\\n\")\n",
    "axis.legend(title = \"Batch\", bbox_to_anchor = (1.1, 1))\n",
    "\n",
    "plt.tight_layout()\n",
    "#plt.savefig(f\"{outputDir}01_color_batch.pdf\", dpi = 300)\n",
    "plt.show()"
   ]
  },
  {
   "cell_type": "code",
   "execution_count": null,
   "id": "3afb2350-6d3f-4d26-ade0-2e7fb4e0fbf3",
   "metadata": {
    "execution": {
     "iopub.execute_input": "2023-05-16T18:57:33.903465Z",
     "iopub.status.busy": "2023-05-16T18:57:33.903280Z",
     "iopub.status.idle": "2023-05-16T18:57:42.416074Z",
     "shell.execute_reply": "2023-05-16T18:57:42.415526Z"
    },
    "papermill": {
     "duration": 8.528304,
     "end_time": "2023-05-16T18:57:42.417469",
     "exception": false,
     "start_time": "2023-05-16T18:57:33.889165",
     "status": "completed"
    },
    "tags": []
   },
   "outputs": [],
   "source": [
    "dataset = sc.read(\"../../int_data/dataset_qc_normalized.h5ad\")\n",
    "dataset = dataset[dataset.obs[\"cell_type\"] == \"Neutrophils\"]"
   ]
  },
  {
   "cell_type": "code",
   "execution_count": null,
   "id": "f5e9dcde-25ff-4b7b-a30b-2e3517d96814",
   "metadata": {
    "execution": {
     "iopub.execute_input": "2023-05-16T18:57:42.467775Z",
     "iopub.status.busy": "2023-05-16T18:57:42.467601Z",
     "iopub.status.idle": "2023-05-16T18:59:30.552173Z",
     "shell.execute_reply": "2023-05-16T18:59:30.551522Z"
    },
    "papermill": {
     "duration": 108.099234,
     "end_time": "2023-05-16T18:59:30.553863",
     "exception": false,
     "start_time": "2023-05-16T18:57:42.454629",
     "status": "completed"
    },
    "tags": []
   },
   "outputs": [],
   "source": [
    "dataset.X = dataset.layers[\"log1pPF_normalization\"]\n",
    "dim_red(dataset, key = \"log1pPF\")\n",
    "\n",
    "dataset.X = dataset.layers[\"PFlog1PF_normalization\"]\n",
    "dim_red(dataset, key = \"PFlog1pPF\")\n",
    "\n",
    "dataset.X = dataset.layers[\"scran_normalization\"]\n",
    "dim_red(dataset, key = \"scran\")\n",
    "\n",
    "dataset.X = dataset.layers[\"scTransform_normalized\"]\n",
    "dim_red(dataset, key = \"sctransform\")"
   ]
  },
  {
   "cell_type": "code",
   "execution_count": null,
   "id": "8cdbd530-e6f3-4156-8fdf-52da842a2503",
   "metadata": {
    "execution": {
     "iopub.execute_input": "2023-05-16T18:59:30.583031Z",
     "iopub.status.busy": "2023-05-16T18:59:30.582692Z",
     "iopub.status.idle": "2023-05-16T18:59:33.202233Z",
     "shell.execute_reply": "2023-05-16T18:59:33.201774Z"
    },
    "papermill": {
     "duration": 2.635103,
     "end_time": "2023-05-16T18:59:33.203991",
     "exception": false,
     "start_time": "2023-05-16T18:59:30.568888",
     "status": "completed"
    },
    "tags": []
   },
   "outputs": [],
   "source": [
    "color = \"batch\"\n",
    "\n",
    "fig, ax = plt.subplots(ncols = 4, nrows = 1, figsize = (12,3))\n",
    "\n",
    "axis = sc.pl.embedding(dataset, color = color, basis = \"X_umap_log1pPF\", ax = ax[0], show = False)\n",
    "axis.set_xlabel(\"UMAP_1\")\n",
    "axis.set_ylabel(\"UMAP_2\")\n",
    "axis.set_title(\"Log1p Proportional Filtering\\n\")\n",
    "axis.legend().remove()\n",
    "\n",
    "axis = sc.pl.embedding(dataset, color = color, basis = \"X_umap_PFlog1pPF\", ax = ax[1], show = False)\n",
    "axis.set_xlabel(\"UMAP_1\")\n",
    "axis.set_ylabel(\"UMAP_2\")\n",
    "axis.set_title(\"Proportional Filtering\\nLog1p Proportional Filtering\")\n",
    "axis.legend().remove()\n",
    "\n",
    "axis = sc.pl.embedding(dataset, color = color, basis = \"X_umap_scran\", ax = ax[2], show = False)\n",
    "axis.set_xlabel(\"UMAP_1\")\n",
    "axis.set_ylabel(\"UMAP_2\")\n",
    "axis.set_title(\"Scran Normalization\\n\")\n",
    "axis.legend().remove()\n",
    "\n",
    "axis = sc.pl.embedding(dataset, color = color, basis = \"X_umap_sctransform\", ax = ax[3], show = False)\n",
    "axis.set_xlabel(\"UMAP_1\")\n",
    "axis.set_ylabel(\"UMAP_2\")\n",
    "axis.set_title(\"scTransform Normalization\\n\")\n",
    "axis.legend(title = \"Batch\", bbox_to_anchor = (1.1, 1))\n",
    "\n",
    "plt.tight_layout()\n",
    "#plt.savefig(f\"{outputDir}01_color_batch.pdf\", dpi = 300)\n",
    "plt.show()"
   ]
  }
 ],
 "metadata": {
  "kernelspec": {
   "display_name": "py_R",
   "language": "python",
   "name": "python_r"
  },
  "language_info": {
   "codemirror_mode": {
    "name": "ipython",
    "version": 3
   },
   "file_extension": ".py",
   "mimetype": "text/x-python",
   "name": "python",
   "nbconvert_exporter": "python",
   "pygments_lexer": "ipython3",
   "version": "3.10.9"
  },
  "papermill": {
   "default_parameters": {},
   "duration": 898.614309,
   "end_time": "2023-05-16T18:59:36.732925",
   "environment_variables": {},
   "exception": null,
   "input_path": "normalization_comparison.ipynb",
   "output_path": "normalization_comparison.ipynb",
   "parameters": {},
   "start_time": "2023-05-16T18:44:38.118616",
   "version": "2.4.0"
  }
 },
 "nbformat": 4,
 "nbformat_minor": 5
}
