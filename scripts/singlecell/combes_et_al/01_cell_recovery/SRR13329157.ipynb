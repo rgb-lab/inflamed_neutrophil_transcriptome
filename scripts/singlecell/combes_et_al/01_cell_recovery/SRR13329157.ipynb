{
 "cells": [
  {
   "cell_type": "code",
   "execution_count": null,
   "id": "4c0f2fa8-5232-4f47-a7ec-6c9bbabe50e2",
   "metadata": {
    "execution": {
     "iopub.execute_input": "2023-05-15T08:40:33.934485Z",
     "iopub.status.busy": "2023-05-15T08:40:33.934350Z",
     "iopub.status.idle": "2023-05-15T08:40:33.938799Z",
     "shell.execute_reply": "2023-05-15T08:40:33.938477Z"
    },
    "papermill": {
     "duration": 0.009157,
     "end_time": "2023-05-15T08:40:33.939588",
     "exception": false,
     "start_time": "2023-05-15T08:40:33.930431",
     "status": "completed"
    },
    "tags": [
     "parameters"
    ]
   },
   "outputs": [],
   "source": [
    "sample_name = \"SRR13329143\""
   ]
  },
  {
   "cell_type": "code",
   "execution_count": null,
   "id": "0a3b8450",
   "metadata": {
    "execution": {
     "iopub.execute_input": "2023-05-15T08:40:33.945393Z",
     "iopub.status.busy": "2023-05-15T08:40:33.945267Z",
     "iopub.status.idle": "2023-05-15T08:40:33.947244Z",
     "shell.execute_reply": "2023-05-15T08:40:33.946902Z"
    },
    "papermill": {
     "duration": 0.005327,
     "end_time": "2023-05-15T08:40:33.947988",
     "exception": false,
     "start_time": "2023-05-15T08:40:33.942661",
     "status": "completed"
    },
    "tags": [
     "injected-parameters"
    ]
   },
   "outputs": [],
   "source": [
    "# Parameters\n",
    "sample_name = \"SRR13329157\"\n"
   ]
  },
  {
   "cell_type": "code",
   "execution_count": null,
   "id": "f87ed95b-2b67-4a5a-8fe2-47359b1dd2a9",
   "metadata": {
    "execution": {
     "iopub.execute_input": "2023-05-15T08:40:33.952990Z",
     "iopub.status.busy": "2023-05-15T08:40:33.952842Z",
     "iopub.status.idle": "2023-05-15T08:40:33.955041Z",
     "shell.execute_reply": "2023-05-15T08:40:33.954752Z"
    },
    "papermill": {
     "duration": 0.005569,
     "end_time": "2023-05-15T08:40:33.955763",
     "exception": false,
     "start_time": "2023-05-15T08:40:33.950194",
     "status": "completed"
    },
    "tags": []
   },
   "outputs": [],
   "source": [
    "import warnings\n",
    "warnings.simplefilter(action='ignore', category=FutureWarning)\n",
    "warnings.simplefilter(action='ignore', category=UserWarning)"
   ]
  },
  {
   "cell_type": "code",
   "execution_count": null,
   "id": "85161f19-b2c5-490b-8cab-c2cf9653b304",
   "metadata": {
    "execution": {
     "iopub.execute_input": "2023-05-15T08:40:33.960812Z",
     "iopub.status.busy": "2023-05-15T08:40:33.960668Z",
     "iopub.status.idle": "2023-05-15T08:40:38.882377Z",
     "shell.execute_reply": "2023-05-15T08:40:38.881915Z"
    },
    "papermill": {
     "duration": 4.925602,
     "end_time": "2023-05-15T08:40:38.883670",
     "exception": false,
     "start_time": "2023-05-15T08:40:33.958068",
     "status": "completed"
    },
    "tags": []
   },
   "outputs": [],
   "source": [
    "import gc\n",
    "import scanpy as sc\n",
    "import muon as mu\n",
    "import seaborn as sns\n",
    "import os\n",
    "import pandas as pd\n",
    "from matplotlib import pyplot as plt\n",
    "\n",
    "os.environ['R_HOME'] = '/gpfs/bwfor/work/ws/hd_fu399-conda/conda/envs/python_R/lib/R/'\n",
    "import anndata2ri\n",
    "import logging\n",
    "\n",
    "import rpy2.rinterface_lib.callbacks as rcb\n",
    "import rpy2.robjects as ro\n",
    "\n",
    "rcb.logger.setLevel(logging.ERROR)\n",
    "ro.pandas2ri.activate()\n",
    "anndata2ri.activate()\n",
    "\n",
    "%load_ext rpy2.ipython"
   ]
  },
  {
   "cell_type": "code",
   "execution_count": null,
   "id": "fc4ade78-b728-4704-9db6-45fbaab62ba1",
   "metadata": {
    "execution": {
     "iopub.execute_input": "2023-05-15T08:40:38.893453Z",
     "iopub.status.busy": "2023-05-15T08:40:38.893160Z",
     "iopub.status.idle": "2023-05-15T08:40:50.519297Z",
     "shell.execute_reply": "2023-05-15T08:40:50.518768Z"
    },
    "papermill": {
     "duration": 11.630821,
     "end_time": "2023-05-15T08:40:50.520697",
     "exception": false,
     "start_time": "2023-05-15T08:40:38.889876",
     "status": "completed"
    },
    "tags": []
   },
   "outputs": [],
   "source": [
    "%%R\n",
    "library(SoupX)\n",
    "library(Seurat)\n",
    "library(scater)\n",
    "library(scDblFinder)\n",
    "library(BiocParallel)\n",
    "library(MuDataSeurat)\n",
    "library(DropletUtils)"
   ]
  },
  {
   "cell_type": "code",
   "execution_count": null,
   "id": "f7424d90-7690-4290-8651-1db3f9df3a35",
   "metadata": {
    "execution": {
     "iopub.execute_input": "2023-05-15T08:40:50.530980Z",
     "iopub.status.busy": "2023-05-15T08:40:50.530823Z",
     "iopub.status.idle": "2023-05-15T08:40:50.537835Z",
     "shell.execute_reply": "2023-05-15T08:40:50.537495Z"
    },
    "papermill": {
     "duration": 0.011211,
     "end_time": "2023-05-15T08:40:50.538707",
     "exception": false,
     "start_time": "2023-05-15T08:40:50.527496",
     "status": "completed"
    },
    "tags": []
   },
   "outputs": [],
   "source": [
    "metadata = pd.read_csv(\"../../combes_metadata.txt\")"
   ]
  },
  {
   "cell_type": "code",
   "execution_count": null,
   "id": "2574ecf1-bad4-4c33-8f3f-718a358727ab",
   "metadata": {
    "execution": {
     "iopub.execute_input": "2023-05-15T08:40:50.544484Z",
     "iopub.status.busy": "2023-05-15T08:40:50.544353Z",
     "iopub.status.idle": "2023-05-15T08:40:50.546405Z",
     "shell.execute_reply": "2023-05-15T08:40:50.546100Z"
    },
    "papermill": {
     "duration": 0.005804,
     "end_time": "2023-05-15T08:40:50.547171",
     "exception": false,
     "start_time": "2023-05-15T08:40:50.541367",
     "status": "completed"
    },
    "tags": []
   },
   "outputs": [],
   "source": [
    "raw_input = f\"/home/hd/hd_hd/hd_fu399/sds-hd/sd21k006/scRNAseq/revision_natcomm/combes_et_al/fetchngs/results/fastq/{sample_name}/{sample_name}/outs/raw_feature_bc_matrix.h5\""
   ]
  },
  {
   "cell_type": "code",
   "execution_count": null,
   "id": "e266d388-1802-435c-93a5-90067358739c",
   "metadata": {
    "execution": {
     "iopub.execute_input": "2023-05-15T08:40:50.553196Z",
     "iopub.status.busy": "2023-05-15T08:40:50.552954Z",
     "iopub.status.idle": "2023-05-15T08:40:50.977834Z",
     "shell.execute_reply": "2023-05-15T08:40:50.977402Z"
    },
    "papermill": {
     "duration": 0.428925,
     "end_time": "2023-05-15T08:40:50.978729",
     "exception": false,
     "start_time": "2023-05-15T08:40:50.549804",
     "status": "completed"
    },
    "tags": []
   },
   "outputs": [],
   "source": [
    "dataset = sc.read_10x_h5(raw_input)\n",
    "dataset.var_names_make_unique()\n",
    "dataset.obs_names_make_unique()\n",
    "\n",
    "dataset.layers[\"raw_counts\"] = dataset.X.copy()\n",
    "data_tod = dataset.layers[\"raw_counts\"].T.copy()\n",
    "\n",
    "dataset"
   ]
  },
  {
   "cell_type": "code",
   "execution_count": null,
   "id": "af9f5892-ed31-42a6-991b-4e096f582cef",
   "metadata": {
    "execution": {
     "iopub.execute_input": "2023-05-15T08:40:50.985458Z",
     "iopub.status.busy": "2023-05-15T08:40:50.985275Z",
     "iopub.status.idle": "2023-05-15T08:40:51.021956Z",
     "shell.execute_reply": "2023-05-15T08:40:51.021475Z"
    },
    "papermill": {
     "duration": 0.041308,
     "end_time": "2023-05-15T08:40:51.023163",
     "exception": false,
     "start_time": "2023-05-15T08:40:50.981855",
     "status": "completed"
    },
    "tags": []
   },
   "outputs": [],
   "source": [
    "sce = dataset.copy()"
   ]
  },
  {
   "cell_type": "code",
   "execution_count": null,
   "id": "d03f2caf-8e74-430e-b045-0ab80401d165",
   "metadata": {
    "execution": {
     "iopub.execute_input": "2023-05-15T08:40:51.029686Z",
     "iopub.status.busy": "2023-05-15T08:40:51.029510Z",
     "iopub.status.idle": "2023-05-15T08:41:42.586961Z",
     "shell.execute_reply": "2023-05-15T08:41:42.586351Z"
    },
    "papermill": {
     "duration": 51.56214,
     "end_time": "2023-05-15T08:41:42.588355",
     "exception": false,
     "start_time": "2023-05-15T08:40:51.026215",
     "status": "completed"
    },
    "tags": []
   },
   "outputs": [],
   "source": [
    "%%R -i sce -o empty_drop_output\n",
    "set.seed(187)\n",
    "empty_drop_output <- emptyDrops(assay(sce))"
   ]
  },
  {
   "cell_type": "code",
   "execution_count": null,
   "id": "2a34a54b-3ae2-44d6-8679-8769228c5b66",
   "metadata": {
    "execution": {
     "iopub.execute_input": "2023-05-15T08:41:42.600527Z",
     "iopub.status.busy": "2023-05-15T08:41:42.600344Z",
     "iopub.status.idle": "2023-05-15T08:41:42.621859Z",
     "shell.execute_reply": "2023-05-15T08:41:42.621547Z"
    },
    "papermill": {
     "duration": 0.02573,
     "end_time": "2023-05-15T08:41:42.622629",
     "exception": false,
     "start_time": "2023-05-15T08:41:42.596899",
     "status": "completed"
    },
    "tags": []
   },
   "outputs": [],
   "source": [
    "non_empty_barcodes = empty_drop_output[empty_drop_output[\"FDR\"] < 0.001].index\n",
    "dataset = dataset[dataset.obs.index.isin(non_empty_barcodes), :]\n",
    "dataset"
   ]
  },
  {
   "cell_type": "code",
   "execution_count": null,
   "id": "016a91e5-1bef-46fb-b91e-4fb9a6870c44",
   "metadata": {
    "execution": {
     "iopub.execute_input": "2023-05-15T08:41:42.629009Z",
     "iopub.status.busy": "2023-05-15T08:41:42.628848Z",
     "iopub.status.idle": "2023-05-15T08:41:47.117200Z",
     "shell.execute_reply": "2023-05-15T08:41:47.116699Z"
    },
    "papermill": {
     "duration": 4.493069,
     "end_time": "2023-05-15T08:41:47.118590",
     "exception": false,
     "start_time": "2023-05-15T08:41:42.625521",
     "status": "completed"
    },
    "tags": []
   },
   "outputs": [],
   "source": [
    "rna_assay = dataset.copy()\n",
    "sc.pp.normalize_per_cell(rna_assay)\n",
    "sc.pp.log1p(rna_assay)\n",
    "sc.pp.pca(rna_assay)\n",
    "sc.pp.neighbors(rna_assay)\n",
    "sc.tl.leiden(rna_assay, key_added=\"soupx_groups\")\n",
    "\n",
    "soupx_groups = rna_assay.obs[\"soupx_groups\"]\n",
    "\n",
    "del rna_assay\n",
    "\n",
    "genes = dataset.var_names\n",
    "cells = dataset.obs_names\n",
    "data = dataset.X.T.copy()"
   ]
  },
  {
   "cell_type": "code",
   "execution_count": null,
   "id": "9db4ea1f-1580-4f43-a3f0-86002397cd98",
   "metadata": {
    "execution": {
     "iopub.execute_input": "2023-05-15T08:41:47.127872Z",
     "iopub.status.busy": "2023-05-15T08:41:47.127723Z",
     "iopub.status.idle": "2023-05-15T08:41:59.749337Z",
     "shell.execute_reply": "2023-05-15T08:41:59.748726Z"
    },
    "papermill": {
     "duration": 12.626971,
     "end_time": "2023-05-15T08:41:59.750720",
     "exception": false,
     "start_time": "2023-05-15T08:41:47.123749",
     "status": "completed"
    },
    "tags": []
   },
   "outputs": [],
   "source": [
    "%%R -i data -i data_tod -i genes -i cells -i soupx_groups -o out \n",
    "set.seed(187)\n",
    "# specify row and column names of data\n",
    "rownames(data) = genes\n",
    "colnames(data) = cells\n",
    "# ensure correct sparse format for table of counts and table of droplets\n",
    "data <- as(data, \"sparseMatrix\")\n",
    "data_tod <- as(data_tod, \"sparseMatrix\")\n",
    "\n",
    "# Generate SoupChannel Object for SoupX \n",
    "sc = SoupChannel(data_tod, data, calcSoupProfile = FALSE)\n",
    "\n",
    "# Add extra meta data to the SoupChannel object\n",
    "soupProf = data.frame(row.names = rownames(data),\n",
    "                      est = rowSums(data)/sum(data),\n",
    "                      counts = rowSums(data))\n",
    "sc = setSoupProfile(sc, soupProf)\n",
    "# Set cluster information in SoupChannel\n",
    "sc = setClusters(sc, soupx_groups)\n",
    "\n",
    "# Estimate contamination fraction\n",
    "sc  = autoEstCont(sc, doPlot=FALSE, forceAccept = TRUE)\n",
    "# Infer corrected table of counts and rount to integer\n",
    "out = adjustCounts(sc, roundToInt = TRUE)"
   ]
  },
  {
   "cell_type": "code",
   "execution_count": null,
   "id": "32555d5e-5fa3-46dd-a4e0-ddc96ea265e2",
   "metadata": {
    "execution": {
     "iopub.execute_input": "2023-05-15T08:41:59.761472Z",
     "iopub.status.busy": "2023-05-15T08:41:59.761272Z",
     "iopub.status.idle": "2023-05-15T08:41:59.787813Z",
     "shell.execute_reply": "2023-05-15T08:41:59.787328Z"
    },
    "papermill": {
     "duration": 0.031413,
     "end_time": "2023-05-15T08:41:59.789018",
     "exception": false,
     "start_time": "2023-05-15T08:41:59.757605",
     "status": "completed"
    },
    "tags": []
   },
   "outputs": [],
   "source": [
    "dataset.layers[\"soupX_counts\"] = out.T\n",
    "dataset.X = dataset.layers[\"soupX_counts\"].copy()"
   ]
  },
  {
   "cell_type": "code",
   "execution_count": null,
   "id": "e27da7df-e094-4d2a-9109-5a363e012175",
   "metadata": {
    "execution": {
     "iopub.execute_input": "2023-05-15T08:41:59.795970Z",
     "iopub.status.busy": "2023-05-15T08:41:59.795806Z",
     "iopub.status.idle": "2023-05-15T08:41:59.798143Z",
     "shell.execute_reply": "2023-05-15T08:41:59.797837Z"
    },
    "papermill": {
     "duration": 0.006626,
     "end_time": "2023-05-15T08:41:59.798919",
     "exception": false,
     "start_time": "2023-05-15T08:41:59.792293",
     "status": "completed"
    },
    "tags": []
   },
   "outputs": [],
   "source": [
    "data_mat = dataset.X.T"
   ]
  },
  {
   "cell_type": "code",
   "execution_count": null,
   "id": "80a993b1-5ccb-4697-9187-1beb7ab8aff9",
   "metadata": {
    "execution": {
     "iopub.execute_input": "2023-05-15T08:41:59.805428Z",
     "iopub.status.busy": "2023-05-15T08:41:59.805269Z",
     "iopub.status.idle": "2023-05-15T08:42:20.013981Z",
     "shell.execute_reply": "2023-05-15T08:42:20.013385Z"
    },
    "papermill": {
     "duration": 20.213468,
     "end_time": "2023-05-15T08:42:20.015339",
     "exception": false,
     "start_time": "2023-05-15T08:41:59.801871",
     "status": "completed"
    },
    "tags": []
   },
   "outputs": [],
   "source": [
    "%%R -i data_mat -o droplet_class\n",
    "\n",
    "set.seed(187)\n",
    "sce = scDblFinder(\n",
    "    SingleCellExperiment(\n",
    "        list(counts=data_mat),\n",
    "    ) \n",
    ")\n",
    "droplet_class = sce$scDblFinder.class"
   ]
  },
  {
   "cell_type": "code",
   "execution_count": null,
   "id": "d4dd6e9d-fcf2-41fc-8457-c8e0a3cb2c71",
   "metadata": {
    "execution": {
     "iopub.execute_input": "2023-05-15T08:42:20.026750Z",
     "iopub.status.busy": "2023-05-15T08:42:20.026532Z",
     "iopub.status.idle": "2023-05-15T08:42:20.032081Z",
     "shell.execute_reply": "2023-05-15T08:42:20.031549Z"
    },
    "papermill": {
     "duration": 0.010375,
     "end_time": "2023-05-15T08:42:20.032837",
     "exception": false,
     "start_time": "2023-05-15T08:42:20.022462",
     "status": "completed"
    },
    "tags": []
   },
   "outputs": [],
   "source": [
    "dataset.obs[\"scDblFinder_class\"] = droplet_class\n",
    "dataset.obs.scDblFinder_class.value_counts()\n",
    "dataset"
   ]
  },
  {
   "cell_type": "code",
   "execution_count": null,
   "id": "28c95014-2d6c-477f-95cb-9f9f0507520c",
   "metadata": {
    "execution": {
     "iopub.execute_input": "2023-05-15T08:42:20.039998Z",
     "iopub.status.busy": "2023-05-15T08:42:20.039838Z",
     "iopub.status.idle": "2023-05-15T08:42:20.053791Z",
     "shell.execute_reply": "2023-05-15T08:42:20.053478Z"
    },
    "papermill": {
     "duration": 0.018669,
     "end_time": "2023-05-15T08:42:20.054528",
     "exception": false,
     "start_time": "2023-05-15T08:42:20.035859",
     "status": "completed"
    },
    "tags": []
   },
   "outputs": [],
   "source": [
    "dataset = dataset[dataset.obs[\"scDblFinder_class\"] == 1]"
   ]
  },
  {
   "cell_type": "code",
   "execution_count": null,
   "id": "3e22f9e0-bfcb-416c-a151-a9bca3bec3b9",
   "metadata": {
    "execution": {
     "iopub.execute_input": "2023-05-15T08:42:20.061460Z",
     "iopub.status.busy": "2023-05-15T08:42:20.061317Z",
     "iopub.status.idle": "2023-05-15T08:42:20.194711Z",
     "shell.execute_reply": "2023-05-15T08:42:20.194245Z"
    },
    "papermill": {
     "duration": 0.137979,
     "end_time": "2023-05-15T08:42:20.195653",
     "exception": false,
     "start_time": "2023-05-15T08:42:20.057674",
     "status": "completed"
    },
    "tags": []
   },
   "outputs": [],
   "source": [
    "# mitochondrial genes\n",
    "dataset.var[\"mt\"] = dataset.var_names.str.startswith(\"MT-\")\n",
    "# ribosomal genes\n",
    "dataset.var[\"ribo\"] = dataset.var_names.str.startswith((\"RPS\", \"RPL\"))\n",
    "# hemoglobin genes.\n",
    "dataset.var[\"hb\"] = dataset.var_names.str.contains((\"^HB[^(P)]\"))\n",
    "\n",
    "sc.pp.calculate_qc_metrics(dataset,\n",
    "                           qc_vars=['mt', 'ribo', 'hb'],\n",
    "                           percent_top=None,\n",
    "                           log1p=False,\n",
    "                           inplace=True)\n",
    "dataset"
   ]
  },
  {
   "cell_type": "code",
   "execution_count": null,
   "id": "34deee79-4043-428f-8575-aa57b45f6369",
   "metadata": {
    "execution": {
     "iopub.execute_input": "2023-05-15T08:42:20.203143Z",
     "iopub.status.busy": "2023-05-15T08:42:20.202959Z",
     "iopub.status.idle": "2023-05-15T08:42:20.643979Z",
     "shell.execute_reply": "2023-05-15T08:42:20.643623Z"
    },
    "papermill": {
     "duration": 0.445679,
     "end_time": "2023-05-15T08:42:20.644852",
     "exception": false,
     "start_time": "2023-05-15T08:42:20.199173",
     "status": "completed"
    },
    "tags": []
   },
   "outputs": [],
   "source": [
    "fig, ax = plt.subplots(ncols = 4, figsize = (16,4))\n",
    "axis = sc.pl.violin(dataset, \"n_genes_by_counts\", jitter = 0.4, ax = ax[0], show = False)\n",
    "axis.grid(False)\n",
    "axis.set_title(\"Unique Genes per cell\")\n",
    "axis.tick_params(axis = \"x\", bottom =False, labelbottom =False)\n",
    "axis.set_ylabel(\"# genes\")\n",
    "axis.axhline(y = 100, color = \"black\", label = \"cutoff\")\n",
    "axis.legend(fontsize = 14, loc = \"upper right\")\n",
    "\n",
    "axis = sc.pl.violin(dataset, \"pct_counts_mt\", jitter = 0.4, ax = ax[1], show = False)\n",
    "axis.grid(False)\n",
    "axis.set_title(\"Mitochondrial Fraction\")\n",
    "axis.tick_params(axis = \"x\", bottom =False, labelbottom =False)\n",
    "axis.set_ylabel(\"% mitochondrial genes\")\n",
    "axis.axhline(y = 10, color = \"black\", label = \"cutoff\")\n",
    "axis.legend(fontsize = 14, loc = \"upper right\")\n",
    "\n",
    "axis = sc.pl.violin(dataset, \"pct_counts_hb\", jitter = 0.4, ax = ax[2], show = False, size =2)\n",
    "axis.grid(False)\n",
    "axis.set_title(\"Hemoglobin Fraction\")\n",
    "axis.tick_params(axis = \"x\", bottom =False, labelbottom =False)\n",
    "axis.set_ylabel(\"% hemoglobin genes\")\n",
    "axis.axhline(y = 3, color = \"black\", label = \"cutoff\")\n",
    "axis.legend(fontsize = 14, loc = \"upper right\")\n",
    "#axis.set_ylim(0,5)\n",
    "\n",
    "axis = sc.pl.violin(dataset, \"pct_counts_ribo\", jitter = 0.4, ax = ax[3], show = False)\n",
    "axis.grid(False)\n",
    "axis.set_title(\"Ribosomal Fraction\")\n",
    "axis.tick_params(axis = \"x\", bottom =False, labelbottom =False)\n",
    "axis.set_ylabel(\"% ribosome genes\")\n",
    "\n",
    "plt.tight_layout()\n",
    "#plt.savefig(f\"{outputDir}08_gene_based_filtering.pdf\", dpi = 300)\n",
    "plt.show()\n",
    "\n"
   ]
  },
  {
   "cell_type": "code",
   "execution_count": null,
   "id": "d7ade754-843e-4840-8707-426613d8c0c5",
   "metadata": {
    "execution": {
     "iopub.execute_input": "2023-05-15T08:42:20.654951Z",
     "iopub.status.busy": "2023-05-15T08:42:20.654774Z",
     "iopub.status.idle": "2023-05-15T08:42:20.663738Z",
     "shell.execute_reply": "2023-05-15T08:42:20.663417Z"
    },
    "papermill": {
     "duration": 0.014773,
     "end_time": "2023-05-15T08:42:20.664482",
     "exception": false,
     "start_time": "2023-05-15T08:42:20.649709",
     "status": "completed"
    },
    "tags": []
   },
   "outputs": [],
   "source": [
    "dataset = dataset[dataset.obs.pct_counts_mt < 10, :]\n",
    "dataset = dataset[dataset.obs.n_genes_by_counts > 100, :]\n",
    "dataset = dataset[dataset.obs.pct_counts_hb < 3, :]\n",
    "dataset"
   ]
  },
  {
   "cell_type": "code",
   "execution_count": null,
   "id": "1941fa36-e865-4500-b586-f7a32d142c9b",
   "metadata": {
    "execution": {
     "iopub.execute_input": "2023-05-15T08:42:20.674073Z",
     "iopub.status.busy": "2023-05-15T08:42:20.673886Z",
     "iopub.status.idle": "2023-05-15T08:42:20.676799Z",
     "shell.execute_reply": "2023-05-15T08:42:20.676495Z"
    },
    "papermill": {
     "duration": 0.008622,
     "end_time": "2023-05-15T08:42:20.677561",
     "exception": false,
     "start_time": "2023-05-15T08:42:20.668939",
     "status": "completed"
    },
    "tags": []
   },
   "outputs": [],
   "source": [
    "metadata.columns"
   ]
  },
  {
   "cell_type": "code",
   "execution_count": null,
   "id": "2e0ff8c3-2aa9-4a01-9b88-5912a6734447",
   "metadata": {
    "execution": {
     "iopub.execute_input": "2023-05-15T08:42:20.687381Z",
     "iopub.status.busy": "2023-05-15T08:42:20.687128Z",
     "iopub.status.idle": "2023-05-15T08:42:20.725087Z",
     "shell.execute_reply": "2023-05-15T08:42:20.724617Z"
    },
    "papermill": {
     "duration": 0.044018,
     "end_time": "2023-05-15T08:42:20.726227",
     "exception": false,
     "start_time": "2023-05-15T08:42:20.682209",
     "status": "completed"
    },
    "tags": []
   },
   "outputs": [],
   "source": [
    "for col in metadata.columns:\n",
    "    dataset.obs[col] = metadata.loc[metadata[\"Run\"] == sample_name, col].to_list()[0]"
   ]
  },
  {
   "cell_type": "code",
   "execution_count": null,
   "id": "b84578d3-d63e-419c-a272-a0b8317d05ab",
   "metadata": {
    "execution": {
     "iopub.execute_input": "2023-05-15T08:42:20.736723Z",
     "iopub.status.busy": "2023-05-15T08:42:20.736530Z",
     "iopub.status.idle": "2023-05-15T08:42:21.367152Z",
     "shell.execute_reply": "2023-05-15T08:42:21.366681Z"
    },
    "papermill": {
     "duration": 0.637236,
     "end_time": "2023-05-15T08:42:21.368470",
     "exception": false,
     "start_time": "2023-05-15T08:42:20.731234",
     "status": "completed"
    },
    "tags": []
   },
   "outputs": [],
   "source": [
    "dataset.write(f\"../../int_data/{sample_name}_qc.h5ad\")"
   ]
  },
  {
   "cell_type": "code",
   "execution_count": null,
   "id": "501b33a0-432d-415f-ae82-50723484b85d",
   "metadata": {
    "execution": {
     "iopub.execute_input": "2023-05-15T08:42:21.378660Z",
     "iopub.status.busy": "2023-05-15T08:42:21.378458Z",
     "iopub.status.idle": "2023-05-15T08:42:21.381641Z",
     "shell.execute_reply": "2023-05-15T08:42:21.381301Z"
    },
    "papermill": {
     "duration": 0.00889,
     "end_time": "2023-05-15T08:42:21.382415",
     "exception": false,
     "start_time": "2023-05-15T08:42:21.373525",
     "status": "completed"
    },
    "tags": []
   },
   "outputs": [],
   "source": [
    "dataset"
   ]
  }
 ],
 "metadata": {
  "kernelspec": {
   "display_name": "py_R",
   "language": "python",
   "name": "python_r"
  },
  "language_info": {
   "codemirror_mode": {
    "name": "ipython",
    "version": 3
   },
   "file_extension": ".py",
   "mimetype": "text/x-python",
   "name": "python",
   "nbconvert_exporter": "python",
   "pygments_lexer": "ipython3",
   "version": "3.10.9"
  },
  "papermill": {
   "default_parameters": {},
   "duration": 110.108412,
   "end_time": "2023-05-15T08:42:22.804726",
   "environment_variables": {},
   "exception": null,
   "input_path": "template.ipynb",
   "output_path": "SRR13329157.ipynb",
   "parameters": {
    "sample_name": "SRR13329157"
   },
   "start_time": "2023-05-15T08:40:32.696314",
   "version": "2.4.0"
  }
 },
 "nbformat": 4,
 "nbformat_minor": 5
}
