{
 "cells": [
  {
   "cell_type": "code",
   "execution_count": null,
   "id": "4c0f2fa8-5232-4f47-a7ec-6c9bbabe50e2",
   "metadata": {
    "execution": {
     "iopub.execute_input": "2023-05-15T09:13:21.239628Z",
     "iopub.status.busy": "2023-05-15T09:13:21.239451Z",
     "iopub.status.idle": "2023-05-15T09:13:21.243969Z",
     "shell.execute_reply": "2023-05-15T09:13:21.243575Z"
    },
    "papermill": {
     "duration": 0.008999,
     "end_time": "2023-05-15T09:13:21.244854",
     "exception": false,
     "start_time": "2023-05-15T09:13:21.235855",
     "status": "completed"
    },
    "tags": [
     "parameters"
    ]
   },
   "outputs": [],
   "source": [
    "sample_name = \"SRR13329143\""
   ]
  },
  {
   "cell_type": "code",
   "execution_count": null,
   "id": "4a057da9",
   "metadata": {
    "execution": {
     "iopub.execute_input": "2023-05-15T09:13:21.250082Z",
     "iopub.status.busy": "2023-05-15T09:13:21.249933Z",
     "iopub.status.idle": "2023-05-15T09:13:21.251929Z",
     "shell.execute_reply": "2023-05-15T09:13:21.251627Z"
    },
    "papermill": {
     "duration": 0.005431,
     "end_time": "2023-05-15T09:13:21.252711",
     "exception": false,
     "start_time": "2023-05-15T09:13:21.247280",
     "status": "completed"
    },
    "tags": [
     "injected-parameters"
    ]
   },
   "outputs": [],
   "source": [
    "# Parameters\n",
    "sample_name = \"SRR13329138\"\n"
   ]
  },
  {
   "cell_type": "code",
   "execution_count": null,
   "id": "f87ed95b-2b67-4a5a-8fe2-47359b1dd2a9",
   "metadata": {
    "execution": {
     "iopub.execute_input": "2023-05-15T09:13:21.258063Z",
     "iopub.status.busy": "2023-05-15T09:13:21.257775Z",
     "iopub.status.idle": "2023-05-15T09:13:21.260012Z",
     "shell.execute_reply": "2023-05-15T09:13:21.259713Z"
    },
    "papermill": {
     "duration": 0.005723,
     "end_time": "2023-05-15T09:13:21.260752",
     "exception": false,
     "start_time": "2023-05-15T09:13:21.255029",
     "status": "completed"
    },
    "tags": []
   },
   "outputs": [],
   "source": [
    "import warnings\n",
    "warnings.simplefilter(action='ignore', category=FutureWarning)\n",
    "warnings.simplefilter(action='ignore', category=UserWarning)"
   ]
  },
  {
   "cell_type": "code",
   "execution_count": null,
   "id": "85161f19-b2c5-490b-8cab-c2cf9653b304",
   "metadata": {
    "execution": {
     "iopub.execute_input": "2023-05-15T09:13:21.265923Z",
     "iopub.status.busy": "2023-05-15T09:13:21.265748Z",
     "iopub.status.idle": "2023-05-15T09:13:25.681778Z",
     "shell.execute_reply": "2023-05-15T09:13:25.681266Z"
    },
    "papermill": {
     "duration": 4.419865,
     "end_time": "2023-05-15T09:13:25.682963",
     "exception": false,
     "start_time": "2023-05-15T09:13:21.263098",
     "status": "completed"
    },
    "tags": []
   },
   "outputs": [],
   "source": [
    "import gc\n",
    "import scanpy as sc\n",
    "import muon as mu\n",
    "import seaborn as sns\n",
    "import os\n",
    "import pandas as pd\n",
    "from matplotlib import pyplot as plt\n",
    "\n",
    "os.environ['R_HOME'] = '/gpfs/bwfor/work/ws/hd_fu399-conda/conda/envs/python_R/lib/R/'\n",
    "import anndata2ri\n",
    "import logging\n",
    "\n",
    "import rpy2.rinterface_lib.callbacks as rcb\n",
    "import rpy2.robjects as ro\n",
    "\n",
    "rcb.logger.setLevel(logging.ERROR)\n",
    "ro.pandas2ri.activate()\n",
    "anndata2ri.activate()\n",
    "\n",
    "%load_ext rpy2.ipython"
   ]
  },
  {
   "cell_type": "code",
   "execution_count": null,
   "id": "fc4ade78-b728-4704-9db6-45fbaab62ba1",
   "metadata": {
    "execution": {
     "iopub.execute_input": "2023-05-15T09:13:25.690945Z",
     "iopub.status.busy": "2023-05-15T09:13:25.690679Z",
     "iopub.status.idle": "2023-05-15T09:13:36.795481Z",
     "shell.execute_reply": "2023-05-15T09:13:36.794922Z"
    },
    "papermill": {
     "duration": 11.109176,
     "end_time": "2023-05-15T09:13:36.796766",
     "exception": false,
     "start_time": "2023-05-15T09:13:25.687590",
     "status": "completed"
    },
    "tags": []
   },
   "outputs": [],
   "source": [
    "%%R\n",
    "library(SoupX)\n",
    "library(Seurat)\n",
    "library(scater)\n",
    "library(scDblFinder)\n",
    "library(BiocParallel)\n",
    "library(MuDataSeurat)\n",
    "library(DropletUtils)"
   ]
  },
  {
   "cell_type": "code",
   "execution_count": null,
   "id": "f7424d90-7690-4290-8651-1db3f9df3a35",
   "metadata": {
    "execution": {
     "iopub.execute_input": "2023-05-15T09:13:36.818563Z",
     "iopub.status.busy": "2023-05-15T09:13:36.818405Z",
     "iopub.status.idle": "2023-05-15T09:13:36.824251Z",
     "shell.execute_reply": "2023-05-15T09:13:36.823926Z"
    },
    "papermill": {
     "duration": 0.009956,
     "end_time": "2023-05-15T09:13:36.825054",
     "exception": false,
     "start_time": "2023-05-15T09:13:36.815098",
     "status": "completed"
    },
    "tags": []
   },
   "outputs": [],
   "source": [
    "metadata = pd.read_csv(\"../../combes_metadata.txt\")"
   ]
  },
  {
   "cell_type": "code",
   "execution_count": null,
   "id": "2574ecf1-bad4-4c33-8f3f-718a358727ab",
   "metadata": {
    "execution": {
     "iopub.execute_input": "2023-05-15T09:13:36.830614Z",
     "iopub.status.busy": "2023-05-15T09:13:36.830451Z",
     "iopub.status.idle": "2023-05-15T09:13:36.837960Z",
     "shell.execute_reply": "2023-05-15T09:13:36.837663Z"
    },
    "papermill": {
     "duration": 0.0113,
     "end_time": "2023-05-15T09:13:36.838847",
     "exception": false,
     "start_time": "2023-05-15T09:13:36.827547",
     "status": "completed"
    },
    "tags": []
   },
   "outputs": [],
   "source": [
    "raw_input = f\"/home/hd/hd_hd/hd_fu399/sds-hd/sd21k006/scRNAseq/revision_natcomm/combes_et_al/fetchngs/results/fastq/{sample_name}/{sample_name}/outs/raw_feature_bc_matrix.h5\""
   ]
  },
  {
   "cell_type": "code",
   "execution_count": null,
   "id": "e266d388-1802-435c-93a5-90067358739c",
   "metadata": {
    "execution": {
     "iopub.execute_input": "2023-05-15T09:13:36.844634Z",
     "iopub.status.busy": "2023-05-15T09:13:36.844470Z",
     "iopub.status.idle": "2023-05-15T09:13:37.180330Z",
     "shell.execute_reply": "2023-05-15T09:13:37.179861Z"
    },
    "papermill": {
     "duration": 0.339821,
     "end_time": "2023-05-15T09:13:37.181232",
     "exception": false,
     "start_time": "2023-05-15T09:13:36.841411",
     "status": "completed"
    },
    "tags": []
   },
   "outputs": [],
   "source": [
    "dataset = sc.read_10x_h5(raw_input)\n",
    "dataset.var_names_make_unique()\n",
    "dataset.obs_names_make_unique()\n",
    "\n",
    "dataset.layers[\"raw_counts\"] = dataset.X.copy()\n",
    "data_tod = dataset.layers[\"raw_counts\"].T.copy()\n",
    "\n",
    "dataset"
   ]
  },
  {
   "cell_type": "code",
   "execution_count": null,
   "id": "af9f5892-ed31-42a6-991b-4e096f582cef",
   "metadata": {
    "execution": {
     "iopub.execute_input": "2023-05-15T09:13:37.187664Z",
     "iopub.status.busy": "2023-05-15T09:13:37.187478Z",
     "iopub.status.idle": "2023-05-15T09:13:37.216629Z",
     "shell.execute_reply": "2023-05-15T09:13:37.216165Z"
    },
    "papermill": {
     "duration": 0.033531,
     "end_time": "2023-05-15T09:13:37.217846",
     "exception": false,
     "start_time": "2023-05-15T09:13:37.184315",
     "status": "completed"
    },
    "tags": []
   },
   "outputs": [],
   "source": [
    "sce = dataset.copy()"
   ]
  },
  {
   "cell_type": "code",
   "execution_count": null,
   "id": "d03f2caf-8e74-430e-b045-0ab80401d165",
   "metadata": {
    "execution": {
     "iopub.execute_input": "2023-05-15T09:13:37.224087Z",
     "iopub.status.busy": "2023-05-15T09:13:37.223921Z",
     "iopub.status.idle": "2023-05-15T09:14:08.374700Z",
     "shell.execute_reply": "2023-05-15T09:14:08.374084Z"
    },
    "papermill": {
     "duration": 31.155325,
     "end_time": "2023-05-15T09:14:08.376063",
     "exception": false,
     "start_time": "2023-05-15T09:13:37.220738",
     "status": "completed"
    },
    "tags": []
   },
   "outputs": [],
   "source": [
    "%%R -i sce -o empty_drop_output\n",
    "set.seed(187)\n",
    "empty_drop_output <- emptyDrops(assay(sce))"
   ]
  },
  {
   "cell_type": "code",
   "execution_count": null,
   "id": "2a34a54b-3ae2-44d6-8679-8769228c5b66",
   "metadata": {
    "execution": {
     "iopub.execute_input": "2023-05-15T09:14:08.385172Z",
     "iopub.status.busy": "2023-05-15T09:14:08.385021Z",
     "iopub.status.idle": "2023-05-15T09:14:08.407928Z",
     "shell.execute_reply": "2023-05-15T09:14:08.407619Z"
    },
    "papermill": {
     "duration": 0.027146,
     "end_time": "2023-05-15T09:14:08.408719",
     "exception": false,
     "start_time": "2023-05-15T09:14:08.381573",
     "status": "completed"
    },
    "tags": []
   },
   "outputs": [],
   "source": [
    "non_empty_barcodes = empty_drop_output[empty_drop_output[\"FDR\"] < 0.001].index\n",
    "dataset = dataset[dataset.obs.index.isin(non_empty_barcodes), :]\n",
    "dataset"
   ]
  },
  {
   "cell_type": "code",
   "execution_count": null,
   "id": "016a91e5-1bef-46fb-b91e-4fb9a6870c44",
   "metadata": {
    "execution": {
     "iopub.execute_input": "2023-05-15T09:14:08.414730Z",
     "iopub.status.busy": "2023-05-15T09:14:08.414568Z",
     "iopub.status.idle": "2023-05-15T09:14:10.697050Z",
     "shell.execute_reply": "2023-05-15T09:14:10.696543Z"
    },
    "papermill": {
     "duration": 2.286972,
     "end_time": "2023-05-15T09:14:10.698316",
     "exception": false,
     "start_time": "2023-05-15T09:14:08.411344",
     "status": "completed"
    },
    "tags": []
   },
   "outputs": [],
   "source": [
    "rna_assay = dataset.copy()\n",
    "sc.pp.normalize_per_cell(rna_assay)\n",
    "sc.pp.log1p(rna_assay)\n",
    "sc.pp.pca(rna_assay)\n",
    "sc.pp.neighbors(rna_assay)\n",
    "sc.tl.leiden(rna_assay, key_added=\"soupx_groups\")\n",
    "\n",
    "soupx_groups = rna_assay.obs[\"soupx_groups\"]\n",
    "\n",
    "del rna_assay\n",
    "\n",
    "genes = dataset.var_names\n",
    "cells = dataset.obs_names\n",
    "data = dataset.X.T.copy()"
   ]
  },
  {
   "cell_type": "code",
   "execution_count": null,
   "id": "9db4ea1f-1580-4f43-a3f0-86002397cd98",
   "metadata": {
    "execution": {
     "iopub.execute_input": "2023-05-15T09:14:10.705018Z",
     "iopub.status.busy": "2023-05-15T09:14:10.704869Z",
     "iopub.status.idle": "2023-05-15T09:14:19.776360Z",
     "shell.execute_reply": "2023-05-15T09:14:19.775819Z"
    },
    "papermill": {
     "duration": 9.076007,
     "end_time": "2023-05-15T09:14:19.777540",
     "exception": false,
     "start_time": "2023-05-15T09:14:10.701533",
     "status": "completed"
    },
    "tags": []
   },
   "outputs": [],
   "source": [
    "%%R -i data -i data_tod -i genes -i cells -i soupx_groups -o out \n",
    "set.seed(187)\n",
    "# specify row and column names of data\n",
    "rownames(data) = genes\n",
    "colnames(data) = cells\n",
    "# ensure correct sparse format for table of counts and table of droplets\n",
    "data <- as(data, \"sparseMatrix\")\n",
    "data_tod <- as(data_tod, \"sparseMatrix\")\n",
    "\n",
    "# Generate SoupChannel Object for SoupX \n",
    "sc = SoupChannel(data_tod, data, calcSoupProfile = FALSE)\n",
    "\n",
    "# Add extra meta data to the SoupChannel object\n",
    "soupProf = data.frame(row.names = rownames(data),\n",
    "                      est = rowSums(data)/sum(data),\n",
    "                      counts = rowSums(data))\n",
    "sc = setSoupProfile(sc, soupProf)\n",
    "# Set cluster information in SoupChannel\n",
    "sc = setClusters(sc, soupx_groups)\n",
    "\n",
    "# Estimate contamination fraction\n",
    "sc  = autoEstCont(sc, doPlot=FALSE, forceAccept = TRUE)\n",
    "# Infer corrected table of counts and rount to integer\n",
    "out = adjustCounts(sc, roundToInt = TRUE)"
   ]
  },
  {
   "cell_type": "code",
   "execution_count": null,
   "id": "32555d5e-5fa3-46dd-a4e0-ddc96ea265e2",
   "metadata": {
    "execution": {
     "iopub.execute_input": "2023-05-15T09:14:19.786032Z",
     "iopub.status.busy": "2023-05-15T09:14:19.785852Z",
     "iopub.status.idle": "2023-05-15T09:14:19.796069Z",
     "shell.execute_reply": "2023-05-15T09:14:19.795634Z"
    },
    "papermill": {
     "duration": 0.014913,
     "end_time": "2023-05-15T09:14:19.797104",
     "exception": false,
     "start_time": "2023-05-15T09:14:19.782191",
     "status": "completed"
    },
    "tags": []
   },
   "outputs": [],
   "source": [
    "dataset.layers[\"soupX_counts\"] = out.T\n",
    "dataset.X = dataset.layers[\"soupX_counts\"].copy()"
   ]
  },
  {
   "cell_type": "code",
   "execution_count": null,
   "id": "e27da7df-e094-4d2a-9109-5a363e012175",
   "metadata": {
    "execution": {
     "iopub.execute_input": "2023-05-15T09:14:19.803782Z",
     "iopub.status.busy": "2023-05-15T09:14:19.803618Z",
     "iopub.status.idle": "2023-05-15T09:14:19.811583Z",
     "shell.execute_reply": "2023-05-15T09:14:19.811271Z"
    },
    "papermill": {
     "duration": 0.012316,
     "end_time": "2023-05-15T09:14:19.812488",
     "exception": false,
     "start_time": "2023-05-15T09:14:19.800172",
     "status": "completed"
    },
    "tags": []
   },
   "outputs": [],
   "source": [
    "data_mat = dataset.X.T"
   ]
  },
  {
   "cell_type": "code",
   "execution_count": null,
   "id": "80a993b1-5ccb-4697-9187-1beb7ab8aff9",
   "metadata": {
    "execution": {
     "iopub.execute_input": "2023-05-15T09:14:19.818805Z",
     "iopub.status.busy": "2023-05-15T09:14:19.818546Z",
     "iopub.status.idle": "2023-05-15T09:14:32.651268Z",
     "shell.execute_reply": "2023-05-15T09:14:32.650666Z"
    },
    "papermill": {
     "duration": 12.837247,
     "end_time": "2023-05-15T09:14:32.652603",
     "exception": false,
     "start_time": "2023-05-15T09:14:19.815356",
     "status": "completed"
    },
    "tags": []
   },
   "outputs": [],
   "source": [
    "%%R -i data_mat -o droplet_class\n",
    "\n",
    "set.seed(187)\n",
    "sce = scDblFinder(\n",
    "    SingleCellExperiment(\n",
    "        list(counts=data_mat),\n",
    "    ) \n",
    ")\n",
    "droplet_class = sce$scDblFinder.class"
   ]
  },
  {
   "cell_type": "code",
   "execution_count": null,
   "id": "d4dd6e9d-fcf2-41fc-8457-c8e0a3cb2c71",
   "metadata": {
    "execution": {
     "iopub.execute_input": "2023-05-15T09:14:32.660952Z",
     "iopub.status.busy": "2023-05-15T09:14:32.660746Z",
     "iopub.status.idle": "2023-05-15T09:14:32.665839Z",
     "shell.execute_reply": "2023-05-15T09:14:32.665508Z"
    },
    "papermill": {
     "duration": 0.009485,
     "end_time": "2023-05-15T09:14:32.666599",
     "exception": false,
     "start_time": "2023-05-15T09:14:32.657114",
     "status": "completed"
    },
    "tags": []
   },
   "outputs": [],
   "source": [
    "dataset.obs[\"scDblFinder_class\"] = droplet_class\n",
    "dataset.obs.scDblFinder_class.value_counts()\n",
    "dataset"
   ]
  },
  {
   "cell_type": "code",
   "execution_count": null,
   "id": "28c95014-2d6c-477f-95cb-9f9f0507520c",
   "metadata": {
    "execution": {
     "iopub.execute_input": "2023-05-15T09:14:32.672860Z",
     "iopub.status.busy": "2023-05-15T09:14:32.672709Z",
     "iopub.status.idle": "2023-05-15T09:14:32.687361Z",
     "shell.execute_reply": "2023-05-15T09:14:32.687043Z"
    },
    "papermill": {
     "duration": 0.018824,
     "end_time": "2023-05-15T09:14:32.688237",
     "exception": false,
     "start_time": "2023-05-15T09:14:32.669413",
     "status": "completed"
    },
    "tags": []
   },
   "outputs": [],
   "source": [
    "dataset = dataset[dataset.obs[\"scDblFinder_class\"] == 1]"
   ]
  },
  {
   "cell_type": "code",
   "execution_count": null,
   "id": "3e22f9e0-bfcb-416c-a151-a9bca3bec3b9",
   "metadata": {
    "execution": {
     "iopub.execute_input": "2023-05-15T09:14:32.694582Z",
     "iopub.status.busy": "2023-05-15T09:14:32.694420Z",
     "iopub.status.idle": "2023-05-15T09:14:32.749514Z",
     "shell.execute_reply": "2023-05-15T09:14:32.749094Z"
    },
    "papermill": {
     "duration": 0.05926,
     "end_time": "2023-05-15T09:14:32.750337",
     "exception": false,
     "start_time": "2023-05-15T09:14:32.691077",
     "status": "completed"
    },
    "tags": []
   },
   "outputs": [],
   "source": [
    "# mitochondrial genes\n",
    "dataset.var[\"mt\"] = dataset.var_names.str.startswith(\"MT-\")\n",
    "# ribosomal genes\n",
    "dataset.var[\"ribo\"] = dataset.var_names.str.startswith((\"RPS\", \"RPL\"))\n",
    "# hemoglobin genes.\n",
    "dataset.var[\"hb\"] = dataset.var_names.str.contains((\"^HB[^(P)]\"))\n",
    "\n",
    "sc.pp.calculate_qc_metrics(dataset,\n",
    "                           qc_vars=['mt', 'ribo', 'hb'],\n",
    "                           percent_top=None,\n",
    "                           log1p=False,\n",
    "                           inplace=True)\n",
    "dataset"
   ]
  },
  {
   "cell_type": "code",
   "execution_count": null,
   "id": "34deee79-4043-428f-8575-aa57b45f6369",
   "metadata": {
    "execution": {
     "iopub.execute_input": "2023-05-15T09:14:32.757424Z",
     "iopub.status.busy": "2023-05-15T09:14:32.757260Z",
     "iopub.status.idle": "2023-05-15T09:14:33.193978Z",
     "shell.execute_reply": "2023-05-15T09:14:33.193605Z"
    },
    "papermill": {
     "duration": 0.441182,
     "end_time": "2023-05-15T09:14:33.194865",
     "exception": false,
     "start_time": "2023-05-15T09:14:32.753683",
     "status": "completed"
    },
    "tags": []
   },
   "outputs": [],
   "source": [
    "fig, ax = plt.subplots(ncols = 4, figsize = (16,4))\n",
    "axis = sc.pl.violin(dataset, \"n_genes_by_counts\", jitter = 0.4, ax = ax[0], show = False)\n",
    "axis.grid(False)\n",
    "axis.set_title(\"Unique Genes per cell\")\n",
    "axis.tick_params(axis = \"x\", bottom =False, labelbottom =False)\n",
    "axis.set_ylabel(\"# genes\")\n",
    "axis.axhline(y = 100, color = \"black\", label = \"cutoff\")\n",
    "axis.legend(fontsize = 14, loc = \"upper right\")\n",
    "\n",
    "axis = sc.pl.violin(dataset, \"pct_counts_mt\", jitter = 0.4, ax = ax[1], show = False)\n",
    "axis.grid(False)\n",
    "axis.set_title(\"Mitochondrial Fraction\")\n",
    "axis.tick_params(axis = \"x\", bottom =False, labelbottom =False)\n",
    "axis.set_ylabel(\"% mitochondrial genes\")\n",
    "axis.axhline(y = 10, color = \"black\", label = \"cutoff\")\n",
    "axis.legend(fontsize = 14, loc = \"upper right\")\n",
    "\n",
    "axis = sc.pl.violin(dataset, \"pct_counts_hb\", jitter = 0.4, ax = ax[2], show = False, size =2)\n",
    "axis.grid(False)\n",
    "axis.set_title(\"Hemoglobin Fraction\")\n",
    "axis.tick_params(axis = \"x\", bottom =False, labelbottom =False)\n",
    "axis.set_ylabel(\"% hemoglobin genes\")\n",
    "axis.axhline(y = 3, color = \"black\", label = \"cutoff\")\n",
    "axis.legend(fontsize = 14, loc = \"upper right\")\n",
    "#axis.set_ylim(0,5)\n",
    "\n",
    "axis = sc.pl.violin(dataset, \"pct_counts_ribo\", jitter = 0.4, ax = ax[3], show = False)\n",
    "axis.grid(False)\n",
    "axis.set_title(\"Ribosomal Fraction\")\n",
    "axis.tick_params(axis = \"x\", bottom =False, labelbottom =False)\n",
    "axis.set_ylabel(\"% ribosome genes\")\n",
    "\n",
    "plt.tight_layout()\n",
    "#plt.savefig(f\"{outputDir}08_gene_based_filtering.pdf\", dpi = 300)\n",
    "plt.show()\n",
    "\n"
   ]
  },
  {
   "cell_type": "code",
   "execution_count": null,
   "id": "d7ade754-843e-4840-8707-426613d8c0c5",
   "metadata": {
    "execution": {
     "iopub.execute_input": "2023-05-15T09:14:33.213866Z",
     "iopub.status.busy": "2023-05-15T09:14:33.213715Z",
     "iopub.status.idle": "2023-05-15T09:14:33.222156Z",
     "shell.execute_reply": "2023-05-15T09:14:33.221834Z"
    },
    "papermill": {
     "duration": 0.013967,
     "end_time": "2023-05-15T09:14:33.222915",
     "exception": false,
     "start_time": "2023-05-15T09:14:33.208948",
     "status": "completed"
    },
    "tags": []
   },
   "outputs": [],
   "source": [
    "dataset = dataset[dataset.obs.pct_counts_mt < 10, :]\n",
    "dataset = dataset[dataset.obs.n_genes_by_counts > 100, :]\n",
    "dataset = dataset[dataset.obs.pct_counts_hb < 3, :]\n",
    "dataset"
   ]
  },
  {
   "cell_type": "code",
   "execution_count": null,
   "id": "1941fa36-e865-4500-b586-f7a32d142c9b",
   "metadata": {
    "execution": {
     "iopub.execute_input": "2023-05-15T09:14:33.231603Z",
     "iopub.status.busy": "2023-05-15T09:14:33.231437Z",
     "iopub.status.idle": "2023-05-15T09:14:33.234348Z",
     "shell.execute_reply": "2023-05-15T09:14:33.234053Z"
    },
    "papermill": {
     "duration": 0.007992,
     "end_time": "2023-05-15T09:14:33.235092",
     "exception": false,
     "start_time": "2023-05-15T09:14:33.227100",
     "status": "completed"
    },
    "tags": []
   },
   "outputs": [],
   "source": [
    "metadata.columns"
   ]
  },
  {
   "cell_type": "code",
   "execution_count": null,
   "id": "2e0ff8c3-2aa9-4a01-9b88-5912a6734447",
   "metadata": {
    "execution": {
     "iopub.execute_input": "2023-05-15T09:14:33.243605Z",
     "iopub.status.busy": "2023-05-15T09:14:33.243388Z",
     "iopub.status.idle": "2023-05-15T09:14:33.263260Z",
     "shell.execute_reply": "2023-05-15T09:14:33.262842Z"
    },
    "papermill": {
     "duration": 0.025222,
     "end_time": "2023-05-15T09:14:33.264331",
     "exception": false,
     "start_time": "2023-05-15T09:14:33.239109",
     "status": "completed"
    },
    "tags": []
   },
   "outputs": [],
   "source": [
    "for col in metadata.columns:\n",
    "    dataset.obs[col] = metadata.loc[metadata[\"Run\"] == sample_name, col].to_list()[0]"
   ]
  },
  {
   "cell_type": "code",
   "execution_count": null,
   "id": "b84578d3-d63e-419c-a272-a0b8317d05ab",
   "metadata": {
    "execution": {
     "iopub.execute_input": "2023-05-15T09:14:33.273505Z",
     "iopub.status.busy": "2023-05-15T09:14:33.273322Z",
     "iopub.status.idle": "2023-05-15T09:14:33.794425Z",
     "shell.execute_reply": "2023-05-15T09:14:33.793926Z"
    },
    "papermill": {
     "duration": 0.526986,
     "end_time": "2023-05-15T09:14:33.795725",
     "exception": false,
     "start_time": "2023-05-15T09:14:33.268739",
     "status": "completed"
    },
    "tags": []
   },
   "outputs": [],
   "source": [
    "dataset.write(f\"../../int_data/{sample_name}_qc.h5ad\")"
   ]
  },
  {
   "cell_type": "code",
   "execution_count": null,
   "id": "501b33a0-432d-415f-ae82-50723484b85d",
   "metadata": {
    "execution": {
     "iopub.execute_input": "2023-05-15T09:14:33.805046Z",
     "iopub.status.busy": "2023-05-15T09:14:33.804856Z",
     "iopub.status.idle": "2023-05-15T09:14:33.807884Z",
     "shell.execute_reply": "2023-05-15T09:14:33.807549Z"
    },
    "papermill": {
     "duration": 0.008584,
     "end_time": "2023-05-15T09:14:33.808701",
     "exception": false,
     "start_time": "2023-05-15T09:14:33.800117",
     "status": "completed"
    },
    "tags": []
   },
   "outputs": [],
   "source": [
    "dataset"
   ]
  }
 ],
 "metadata": {
  "kernelspec": {
   "display_name": "py_R",
   "language": "python",
   "name": "python_r"
  },
  "language_info": {
   "codemirror_mode": {
    "name": "ipython",
    "version": 3
   },
   "file_extension": ".py",
   "mimetype": "text/x-python",
   "name": "python",
   "nbconvert_exporter": "python",
   "pygments_lexer": "ipython3",
   "version": "3.10.9"
  },
  "papermill": {
   "default_parameters": {},
   "duration": 75.180146,
   "end_time": "2023-05-15T09:14:35.230191",
   "environment_variables": {},
   "exception": null,
   "input_path": "template.ipynb",
   "output_path": "SRR13329138.ipynb",
   "parameters": {
    "sample_name": "SRR13329138"
   },
   "start_time": "2023-05-15T09:13:20.050045",
   "version": "2.4.0"
  }
 },
 "nbformat": 4,
 "nbformat_minor": 5
}
