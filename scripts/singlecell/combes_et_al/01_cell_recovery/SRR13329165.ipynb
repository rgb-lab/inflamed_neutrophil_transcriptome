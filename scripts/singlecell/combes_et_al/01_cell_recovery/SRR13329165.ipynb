{
 "cells": [
  {
   "cell_type": "code",
   "execution_count": null,
   "id": "4c0f2fa8-5232-4f47-a7ec-6c9bbabe50e2",
   "metadata": {
    "execution": {
     "iopub.execute_input": "2023-05-15T08:32:54.464655Z",
     "iopub.status.busy": "2023-05-15T08:32:54.464487Z",
     "iopub.status.idle": "2023-05-15T08:32:54.468971Z",
     "shell.execute_reply": "2023-05-15T08:32:54.468668Z"
    },
    "papermill": {
     "duration": 0.008859,
     "end_time": "2023-05-15T08:32:54.469766",
     "exception": false,
     "start_time": "2023-05-15T08:32:54.460907",
     "status": "completed"
    },
    "tags": [
     "parameters"
    ]
   },
   "outputs": [],
   "source": [
    "sample_name = \"SRR13329143\""
   ]
  },
  {
   "cell_type": "code",
   "execution_count": null,
   "id": "c1af659b",
   "metadata": {
    "execution": {
     "iopub.execute_input": "2023-05-15T08:32:54.474999Z",
     "iopub.status.busy": "2023-05-15T08:32:54.474876Z",
     "iopub.status.idle": "2023-05-15T08:32:54.476781Z",
     "shell.execute_reply": "2023-05-15T08:32:54.476490Z"
    },
    "papermill": {
     "duration": 0.005363,
     "end_time": "2023-05-15T08:32:54.477552",
     "exception": false,
     "start_time": "2023-05-15T08:32:54.472189",
     "status": "completed"
    },
    "tags": [
     "injected-parameters"
    ]
   },
   "outputs": [],
   "source": [
    "# Parameters\n",
    "sample_name = \"SRR13329165\"\n"
   ]
  },
  {
   "cell_type": "code",
   "execution_count": null,
   "id": "f87ed95b-2b67-4a5a-8fe2-47359b1dd2a9",
   "metadata": {
    "execution": {
     "iopub.execute_input": "2023-05-15T08:32:54.482904Z",
     "iopub.status.busy": "2023-05-15T08:32:54.482579Z",
     "iopub.status.idle": "2023-05-15T08:32:54.484834Z",
     "shell.execute_reply": "2023-05-15T08:32:54.484548Z"
    },
    "papermill": {
     "duration": 0.005709,
     "end_time": "2023-05-15T08:32:54.485590",
     "exception": false,
     "start_time": "2023-05-15T08:32:54.479881",
     "status": "completed"
    },
    "tags": []
   },
   "outputs": [],
   "source": [
    "import warnings\n",
    "warnings.simplefilter(action='ignore', category=FutureWarning)\n",
    "warnings.simplefilter(action='ignore', category=UserWarning)"
   ]
  },
  {
   "cell_type": "code",
   "execution_count": null,
   "id": "85161f19-b2c5-490b-8cab-c2cf9653b304",
   "metadata": {
    "execution": {
     "iopub.execute_input": "2023-05-15T08:32:54.490935Z",
     "iopub.status.busy": "2023-05-15T08:32:54.490735Z",
     "iopub.status.idle": "2023-05-15T08:32:59.497500Z",
     "shell.execute_reply": "2023-05-15T08:32:59.497030Z"
    },
    "papermill": {
     "duration": 5.010518,
     "end_time": "2023-05-15T08:32:59.498521",
     "exception": false,
     "start_time": "2023-05-15T08:32:54.488003",
     "status": "completed"
    },
    "tags": []
   },
   "outputs": [],
   "source": [
    "import gc\n",
    "import scanpy as sc\n",
    "import muon as mu\n",
    "import seaborn as sns\n",
    "import os\n",
    "import pandas as pd\n",
    "from matplotlib import pyplot as plt\n",
    "\n",
    "os.environ['R_HOME'] = '/gpfs/bwfor/work/ws/hd_fu399-conda/conda/envs/python_R/lib/R/'\n",
    "import anndata2ri\n",
    "import logging\n",
    "\n",
    "import rpy2.rinterface_lib.callbacks as rcb\n",
    "import rpy2.robjects as ro\n",
    "\n",
    "rcb.logger.setLevel(logging.ERROR)\n",
    "ro.pandas2ri.activate()\n",
    "anndata2ri.activate()\n",
    "\n",
    "%load_ext rpy2.ipython"
   ]
  },
  {
   "cell_type": "code",
   "execution_count": null,
   "id": "fc4ade78-b728-4704-9db6-45fbaab62ba1",
   "metadata": {
    "execution": {
     "iopub.execute_input": "2023-05-15T08:32:59.506553Z",
     "iopub.status.busy": "2023-05-15T08:32:59.506289Z",
     "iopub.status.idle": "2023-05-15T08:33:11.705386Z",
     "shell.execute_reply": "2023-05-15T08:33:11.704837Z"
    },
    "papermill": {
     "duration": 12.203489,
     "end_time": "2023-05-15T08:33:11.706724",
     "exception": false,
     "start_time": "2023-05-15T08:32:59.503235",
     "status": "completed"
    },
    "tags": []
   },
   "outputs": [],
   "source": [
    "%%R\n",
    "library(SoupX)\n",
    "library(Seurat)\n",
    "library(scater)\n",
    "library(scDblFinder)\n",
    "library(BiocParallel)\n",
    "library(MuDataSeurat)\n",
    "library(DropletUtils)"
   ]
  },
  {
   "cell_type": "code",
   "execution_count": null,
   "id": "f7424d90-7690-4290-8651-1db3f9df3a35",
   "metadata": {
    "execution": {
     "iopub.execute_input": "2023-05-15T08:33:11.716984Z",
     "iopub.status.busy": "2023-05-15T08:33:11.716802Z",
     "iopub.status.idle": "2023-05-15T08:33:11.723029Z",
     "shell.execute_reply": "2023-05-15T08:33:11.722680Z"
    },
    "papermill": {
     "duration": 0.010379,
     "end_time": "2023-05-15T08:33:11.723807",
     "exception": false,
     "start_time": "2023-05-15T08:33:11.713428",
     "status": "completed"
    },
    "tags": []
   },
   "outputs": [],
   "source": [
    "metadata = pd.read_csv(\"../../combes_metadata.txt\")"
   ]
  },
  {
   "cell_type": "code",
   "execution_count": null,
   "id": "2574ecf1-bad4-4c33-8f3f-718a358727ab",
   "metadata": {
    "execution": {
     "iopub.execute_input": "2023-05-15T08:33:11.729582Z",
     "iopub.status.busy": "2023-05-15T08:33:11.729423Z",
     "iopub.status.idle": "2023-05-15T08:33:11.731461Z",
     "shell.execute_reply": "2023-05-15T08:33:11.731162Z"
    },
    "papermill": {
     "duration": 0.005821,
     "end_time": "2023-05-15T08:33:11.732215",
     "exception": false,
     "start_time": "2023-05-15T08:33:11.726394",
     "status": "completed"
    },
    "tags": []
   },
   "outputs": [],
   "source": [
    "raw_input = f\"/home/hd/hd_hd/hd_fu399/sds-hd/sd21k006/scRNAseq/revision_natcomm/combes_et_al/fetchngs/results/fastq/{sample_name}/{sample_name}/outs/raw_feature_bc_matrix.h5\""
   ]
  },
  {
   "cell_type": "code",
   "execution_count": null,
   "id": "e266d388-1802-435c-93a5-90067358739c",
   "metadata": {
    "execution": {
     "iopub.execute_input": "2023-05-15T08:33:11.738233Z",
     "iopub.status.busy": "2023-05-15T08:33:11.737987Z",
     "iopub.status.idle": "2023-05-15T08:33:12.091187Z",
     "shell.execute_reply": "2023-05-15T08:33:12.090767Z"
    },
    "papermill": {
     "duration": 0.357261,
     "end_time": "2023-05-15T08:33:12.092120",
     "exception": false,
     "start_time": "2023-05-15T08:33:11.734859",
     "status": "completed"
    },
    "tags": []
   },
   "outputs": [],
   "source": [
    "dataset = sc.read_10x_h5(raw_input)\n",
    "dataset.var_names_make_unique()\n",
    "dataset.obs_names_make_unique()\n",
    "\n",
    "dataset.layers[\"raw_counts\"] = dataset.X.copy()\n",
    "data_tod = dataset.layers[\"raw_counts\"].T.copy()\n",
    "\n",
    "dataset"
   ]
  },
  {
   "cell_type": "code",
   "execution_count": null,
   "id": "af9f5892-ed31-42a6-991b-4e096f582cef",
   "metadata": {
    "execution": {
     "iopub.execute_input": "2023-05-15T08:33:12.098703Z",
     "iopub.status.busy": "2023-05-15T08:33:12.098490Z",
     "iopub.status.idle": "2023-05-15T08:33:12.121648Z",
     "shell.execute_reply": "2023-05-15T08:33:12.121225Z"
    },
    "papermill": {
     "duration": 0.027582,
     "end_time": "2023-05-15T08:33:12.122821",
     "exception": false,
     "start_time": "2023-05-15T08:33:12.095239",
     "status": "completed"
    },
    "tags": []
   },
   "outputs": [],
   "source": [
    "sce = dataset.copy()"
   ]
  },
  {
   "cell_type": "code",
   "execution_count": null,
   "id": "d03f2caf-8e74-430e-b045-0ab80401d165",
   "metadata": {
    "execution": {
     "iopub.execute_input": "2023-05-15T08:33:12.129285Z",
     "iopub.status.busy": "2023-05-15T08:33:12.128930Z",
     "iopub.status.idle": "2023-05-15T08:33:44.140928Z",
     "shell.execute_reply": "2023-05-15T08:33:44.140308Z"
    },
    "papermill": {
     "duration": 32.016437,
     "end_time": "2023-05-15T08:33:44.142137",
     "exception": false,
     "start_time": "2023-05-15T08:33:12.125700",
     "status": "completed"
    },
    "tags": []
   },
   "outputs": [],
   "source": [
    "%%R -i sce -o empty_drop_output\n",
    "set.seed(187)\n",
    "empty_drop_output <- emptyDrops(assay(sce))"
   ]
  },
  {
   "cell_type": "code",
   "execution_count": null,
   "id": "2a34a54b-3ae2-44d6-8679-8769228c5b66",
   "metadata": {
    "execution": {
     "iopub.execute_input": "2023-05-15T08:33:44.152316Z",
     "iopub.status.busy": "2023-05-15T08:33:44.152174Z",
     "iopub.status.idle": "2023-05-15T08:33:44.175171Z",
     "shell.execute_reply": "2023-05-15T08:33:44.174847Z"
    },
    "papermill": {
     "duration": 0.027383,
     "end_time": "2023-05-15T08:33:44.176019",
     "exception": false,
     "start_time": "2023-05-15T08:33:44.148636",
     "status": "completed"
    },
    "tags": []
   },
   "outputs": [],
   "source": [
    "non_empty_barcodes = empty_drop_output[empty_drop_output[\"FDR\"] < 0.001].index\n",
    "dataset = dataset[dataset.obs.index.isin(non_empty_barcodes), :]\n",
    "dataset"
   ]
  },
  {
   "cell_type": "code",
   "execution_count": null,
   "id": "016a91e5-1bef-46fb-b91e-4fb9a6870c44",
   "metadata": {
    "execution": {
     "iopub.execute_input": "2023-05-15T08:33:44.182344Z",
     "iopub.status.busy": "2023-05-15T08:33:44.182184Z",
     "iopub.status.idle": "2023-05-15T08:33:46.803725Z",
     "shell.execute_reply": "2023-05-15T08:33:46.803255Z"
    },
    "papermill": {
     "duration": 2.626191,
     "end_time": "2023-05-15T08:33:46.804999",
     "exception": false,
     "start_time": "2023-05-15T08:33:44.178808",
     "status": "completed"
    },
    "tags": []
   },
   "outputs": [],
   "source": [
    "rna_assay = dataset.copy()\n",
    "sc.pp.normalize_per_cell(rna_assay)\n",
    "sc.pp.log1p(rna_assay)\n",
    "sc.pp.pca(rna_assay)\n",
    "sc.pp.neighbors(rna_assay)\n",
    "sc.tl.leiden(rna_assay, key_added=\"soupx_groups\")\n",
    "\n",
    "soupx_groups = rna_assay.obs[\"soupx_groups\"]\n",
    "\n",
    "del rna_assay\n",
    "\n",
    "genes = dataset.var_names\n",
    "cells = dataset.obs_names\n",
    "data = dataset.X.T.copy()"
   ]
  },
  {
   "cell_type": "code",
   "execution_count": null,
   "id": "9db4ea1f-1580-4f43-a3f0-86002397cd98",
   "metadata": {
    "execution": {
     "iopub.execute_input": "2023-05-15T08:33:46.814087Z",
     "iopub.status.busy": "2023-05-15T08:33:46.813818Z",
     "iopub.status.idle": "2023-05-15T08:34:05.140883Z",
     "shell.execute_reply": "2023-05-15T08:34:05.139895Z"
    },
    "papermill": {
     "duration": 18.332215,
     "end_time": "2023-05-15T08:34:05.142272",
     "exception": false,
     "start_time": "2023-05-15T08:33:46.810057",
     "status": "completed"
    },
    "tags": []
   },
   "outputs": [],
   "source": [
    "%%R -i data -i data_tod -i genes -i cells -i soupx_groups -o out \n",
    "set.seed(187)\n",
    "# specify row and column names of data\n",
    "rownames(data) = genes\n",
    "colnames(data) = cells\n",
    "# ensure correct sparse format for table of counts and table of droplets\n",
    "data <- as(data, \"sparseMatrix\")\n",
    "data_tod <- as(data_tod, \"sparseMatrix\")\n",
    "\n",
    "# Generate SoupChannel Object for SoupX \n",
    "sc = SoupChannel(data_tod, data, calcSoupProfile = FALSE)\n",
    "\n",
    "# Add extra meta data to the SoupChannel object\n",
    "soupProf = data.frame(row.names = rownames(data),\n",
    "                      est = rowSums(data)/sum(data),\n",
    "                      counts = rowSums(data))\n",
    "sc = setSoupProfile(sc, soupProf)\n",
    "# Set cluster information in SoupChannel\n",
    "sc = setClusters(sc, soupx_groups)\n",
    "\n",
    "# Estimate contamination fraction\n",
    "sc  = autoEstCont(sc, doPlot=FALSE, forceAccept = TRUE)\n",
    "# Infer corrected table of counts and rount to integer\n",
    "out = adjustCounts(sc, roundToInt = TRUE)"
   ]
  },
  {
   "cell_type": "code",
   "execution_count": null,
   "id": "32555d5e-5fa3-46dd-a4e0-ddc96ea265e2",
   "metadata": {
    "execution": {
     "iopub.execute_input": "2023-05-15T08:34:05.167838Z",
     "iopub.status.busy": "2023-05-15T08:34:05.167233Z",
     "iopub.status.idle": "2023-05-15T08:34:05.204239Z",
     "shell.execute_reply": "2023-05-15T08:34:05.203698Z"
    },
    "papermill": {
     "duration": 0.042408,
     "end_time": "2023-05-15T08:34:05.205363",
     "exception": false,
     "start_time": "2023-05-15T08:34:05.162955",
     "status": "completed"
    },
    "tags": []
   },
   "outputs": [],
   "source": [
    "dataset.layers[\"soupX_counts\"] = out.T\n",
    "dataset.X = dataset.layers[\"soupX_counts\"].copy()"
   ]
  },
  {
   "cell_type": "code",
   "execution_count": null,
   "id": "e27da7df-e094-4d2a-9109-5a363e012175",
   "metadata": {
    "execution": {
     "iopub.execute_input": "2023-05-15T08:34:05.212559Z",
     "iopub.status.busy": "2023-05-15T08:34:05.212152Z",
     "iopub.status.idle": "2023-05-15T08:34:05.214830Z",
     "shell.execute_reply": "2023-05-15T08:34:05.214437Z"
    },
    "papermill": {
     "duration": 0.007349,
     "end_time": "2023-05-15T08:34:05.215683",
     "exception": false,
     "start_time": "2023-05-15T08:34:05.208334",
     "status": "completed"
    },
    "tags": []
   },
   "outputs": [],
   "source": [
    "data_mat = dataset.X.T"
   ]
  },
  {
   "cell_type": "code",
   "execution_count": null,
   "id": "80a993b1-5ccb-4697-9187-1beb7ab8aff9",
   "metadata": {
    "execution": {
     "iopub.execute_input": "2023-05-15T08:34:05.222425Z",
     "iopub.status.busy": "2023-05-15T08:34:05.222015Z",
     "iopub.status.idle": "2023-05-15T08:34:30.568043Z",
     "shell.execute_reply": "2023-05-15T08:34:30.567450Z"
    },
    "papermill": {
     "duration": 25.350672,
     "end_time": "2023-05-15T08:34:30.569226",
     "exception": false,
     "start_time": "2023-05-15T08:34:05.218554",
     "status": "completed"
    },
    "tags": []
   },
   "outputs": [],
   "source": [
    "%%R -i data_mat -o droplet_class\n",
    "\n",
    "set.seed(187)\n",
    "sce = scDblFinder(\n",
    "    SingleCellExperiment(\n",
    "        list(counts=data_mat),\n",
    "    ) \n",
    ")\n",
    "droplet_class = sce$scDblFinder.class"
   ]
  },
  {
   "cell_type": "code",
   "execution_count": null,
   "id": "d4dd6e9d-fcf2-41fc-8457-c8e0a3cb2c71",
   "metadata": {
    "execution": {
     "iopub.execute_input": "2023-05-15T08:34:30.595143Z",
     "iopub.status.busy": "2023-05-15T08:34:30.594761Z",
     "iopub.status.idle": "2023-05-15T08:34:30.600269Z",
     "shell.execute_reply": "2023-05-15T08:34:30.599877Z"
    },
    "papermill": {
     "duration": 0.010269,
     "end_time": "2023-05-15T08:34:30.601036",
     "exception": false,
     "start_time": "2023-05-15T08:34:30.590767",
     "status": "completed"
    },
    "tags": []
   },
   "outputs": [],
   "source": [
    "dataset.obs[\"scDblFinder_class\"] = droplet_class\n",
    "dataset.obs.scDblFinder_class.value_counts()\n",
    "dataset"
   ]
  },
  {
   "cell_type": "code",
   "execution_count": null,
   "id": "28c95014-2d6c-477f-95cb-9f9f0507520c",
   "metadata": {
    "execution": {
     "iopub.execute_input": "2023-05-15T08:34:30.607830Z",
     "iopub.status.busy": "2023-05-15T08:34:30.607578Z",
     "iopub.status.idle": "2023-05-15T08:34:30.611215Z",
     "shell.execute_reply": "2023-05-15T08:34:30.610885Z"
    },
    "papermill": {
     "duration": 0.007928,
     "end_time": "2023-05-15T08:34:30.611991",
     "exception": false,
     "start_time": "2023-05-15T08:34:30.604063",
     "status": "completed"
    },
    "tags": []
   },
   "outputs": [],
   "source": [
    "dataset = dataset[dataset.obs[\"scDblFinder_class\"] == 1]"
   ]
  },
  {
   "cell_type": "code",
   "execution_count": null,
   "id": "3e22f9e0-bfcb-416c-a151-a9bca3bec3b9",
   "metadata": {
    "execution": {
     "iopub.execute_input": "2023-05-15T08:34:30.618659Z",
     "iopub.status.busy": "2023-05-15T08:34:30.618475Z",
     "iopub.status.idle": "2023-05-15T08:34:30.700109Z",
     "shell.execute_reply": "2023-05-15T08:34:30.699718Z"
    },
    "papermill": {
     "duration": 0.086032,
     "end_time": "2023-05-15T08:34:30.701048",
     "exception": false,
     "start_time": "2023-05-15T08:34:30.615016",
     "status": "completed"
    },
    "tags": []
   },
   "outputs": [],
   "source": [
    "# mitochondrial genes\n",
    "dataset.var[\"mt\"] = dataset.var_names.str.startswith(\"MT-\")\n",
    "# ribosomal genes\n",
    "dataset.var[\"ribo\"] = dataset.var_names.str.startswith((\"RPS\", \"RPL\"))\n",
    "# hemoglobin genes.\n",
    "dataset.var[\"hb\"] = dataset.var_names.str.contains((\"^HB[^(P)]\"))\n",
    "\n",
    "sc.pp.calculate_qc_metrics(dataset,\n",
    "                           qc_vars=['mt', 'ribo', 'hb'],\n",
    "                           percent_top=None,\n",
    "                           log1p=False,\n",
    "                           inplace=True)\n",
    "dataset"
   ]
  },
  {
   "cell_type": "code",
   "execution_count": null,
   "id": "34deee79-4043-428f-8575-aa57b45f6369",
   "metadata": {
    "execution": {
     "iopub.execute_input": "2023-05-15T08:34:30.708696Z",
     "iopub.status.busy": "2023-05-15T08:34:30.708490Z",
     "iopub.status.idle": "2023-05-15T08:34:31.135163Z",
     "shell.execute_reply": "2023-05-15T08:34:31.134703Z"
    },
    "papermill": {
     "duration": 0.4315,
     "end_time": "2023-05-15T08:34:31.136200",
     "exception": false,
     "start_time": "2023-05-15T08:34:30.704700",
     "status": "completed"
    },
    "tags": []
   },
   "outputs": [],
   "source": [
    "fig, ax = plt.subplots(ncols = 4, figsize = (16,4))\n",
    "axis = sc.pl.violin(dataset, \"n_genes_by_counts\", jitter = 0.4, ax = ax[0], show = False)\n",
    "axis.grid(False)\n",
    "axis.set_title(\"Unique Genes per cell\")\n",
    "axis.tick_params(axis = \"x\", bottom =False, labelbottom =False)\n",
    "axis.set_ylabel(\"# genes\")\n",
    "axis.axhline(y = 100, color = \"black\", label = \"cutoff\")\n",
    "axis.legend(fontsize = 14, loc = \"upper right\")\n",
    "\n",
    "axis = sc.pl.violin(dataset, \"pct_counts_mt\", jitter = 0.4, ax = ax[1], show = False)\n",
    "axis.grid(False)\n",
    "axis.set_title(\"Mitochondrial Fraction\")\n",
    "axis.tick_params(axis = \"x\", bottom =False, labelbottom =False)\n",
    "axis.set_ylabel(\"% mitochondrial genes\")\n",
    "axis.axhline(y = 10, color = \"black\", label = \"cutoff\")\n",
    "axis.legend(fontsize = 14, loc = \"upper right\")\n",
    "\n",
    "axis = sc.pl.violin(dataset, \"pct_counts_hb\", jitter = 0.4, ax = ax[2], show = False, size =2)\n",
    "axis.grid(False)\n",
    "axis.set_title(\"Hemoglobin Fraction\")\n",
    "axis.tick_params(axis = \"x\", bottom =False, labelbottom =False)\n",
    "axis.set_ylabel(\"% hemoglobin genes\")\n",
    "axis.axhline(y = 3, color = \"black\", label = \"cutoff\")\n",
    "axis.legend(fontsize = 14, loc = \"upper right\")\n",
    "#axis.set_ylim(0,5)\n",
    "\n",
    "axis = sc.pl.violin(dataset, \"pct_counts_ribo\", jitter = 0.4, ax = ax[3], show = False)\n",
    "axis.grid(False)\n",
    "axis.set_title(\"Ribosomal Fraction\")\n",
    "axis.tick_params(axis = \"x\", bottom =False, labelbottom =False)\n",
    "axis.set_ylabel(\"% ribosome genes\")\n",
    "\n",
    "plt.tight_layout()\n",
    "#plt.savefig(f\"{outputDir}08_gene_based_filtering.pdf\", dpi = 300)\n",
    "plt.show()\n",
    "\n"
   ]
  },
  {
   "cell_type": "code",
   "execution_count": null,
   "id": "d7ade754-843e-4840-8707-426613d8c0c5",
   "metadata": {
    "execution": {
     "iopub.execute_input": "2023-05-15T08:34:31.147255Z",
     "iopub.status.busy": "2023-05-15T08:34:31.147109Z",
     "iopub.status.idle": "2023-05-15T08:34:31.156137Z",
     "shell.execute_reply": "2023-05-15T08:34:31.155756Z"
    },
    "papermill": {
     "duration": 0.014731,
     "end_time": "2023-05-15T08:34:31.156995",
     "exception": false,
     "start_time": "2023-05-15T08:34:31.142264",
     "status": "completed"
    },
    "tags": []
   },
   "outputs": [],
   "source": [
    "dataset = dataset[dataset.obs.pct_counts_mt < 10, :]\n",
    "dataset = dataset[dataset.obs.n_genes_by_counts > 100, :]\n",
    "dataset = dataset[dataset.obs.pct_counts_hb < 3, :]\n",
    "dataset"
   ]
  },
  {
   "cell_type": "code",
   "execution_count": null,
   "id": "1941fa36-e865-4500-b586-f7a32d142c9b",
   "metadata": {
    "execution": {
     "iopub.execute_input": "2023-05-15T08:34:31.167457Z",
     "iopub.status.busy": "2023-05-15T08:34:31.167198Z",
     "iopub.status.idle": "2023-05-15T08:34:31.170854Z",
     "shell.execute_reply": "2023-05-15T08:34:31.170494Z"
    },
    "papermill": {
     "duration": 0.010181,
     "end_time": "2023-05-15T08:34:31.171647",
     "exception": false,
     "start_time": "2023-05-15T08:34:31.161466",
     "status": "completed"
    },
    "tags": []
   },
   "outputs": [],
   "source": [
    "metadata.columns"
   ]
  },
  {
   "cell_type": "code",
   "execution_count": null,
   "id": "2e0ff8c3-2aa9-4a01-9b88-5912a6734447",
   "metadata": {
    "execution": {
     "iopub.execute_input": "2023-05-15T08:34:31.181184Z",
     "iopub.status.busy": "2023-05-15T08:34:31.180897Z",
     "iopub.status.idle": "2023-05-15T08:34:31.208550Z",
     "shell.execute_reply": "2023-05-15T08:34:31.208024Z"
    },
    "papermill": {
     "duration": 0.033771,
     "end_time": "2023-05-15T08:34:31.209699",
     "exception": false,
     "start_time": "2023-05-15T08:34:31.175928",
     "status": "completed"
    },
    "tags": []
   },
   "outputs": [],
   "source": [
    "for col in metadata.columns:\n",
    "    dataset.obs[col] = metadata.loc[metadata[\"Run\"] == sample_name, col].to_list()[0]"
   ]
  },
  {
   "cell_type": "code",
   "execution_count": null,
   "id": "b84578d3-d63e-419c-a272-a0b8317d05ab",
   "metadata": {
    "execution": {
     "iopub.execute_input": "2023-05-15T08:34:31.219660Z",
     "iopub.status.busy": "2023-05-15T08:34:31.219461Z",
     "iopub.status.idle": "2023-05-15T08:34:31.687715Z",
     "shell.execute_reply": "2023-05-15T08:34:31.687085Z"
    },
    "papermill": {
     "duration": 0.474669,
     "end_time": "2023-05-15T08:34:31.688873",
     "exception": false,
     "start_time": "2023-05-15T08:34:31.214204",
     "status": "completed"
    },
    "tags": []
   },
   "outputs": [],
   "source": [
    "dataset.write(f\"../../int_data/{sample_name}_qc.h5ad\")"
   ]
  },
  {
   "cell_type": "code",
   "execution_count": null,
   "id": "501b33a0-432d-415f-ae82-50723484b85d",
   "metadata": {
    "execution": {
     "iopub.execute_input": "2023-05-15T08:34:31.698610Z",
     "iopub.status.busy": "2023-05-15T08:34:31.698413Z",
     "iopub.status.idle": "2023-05-15T08:34:31.701813Z",
     "shell.execute_reply": "2023-05-15T08:34:31.701413Z"
    },
    "papermill": {
     "duration": 0.009288,
     "end_time": "2023-05-15T08:34:31.702655",
     "exception": false,
     "start_time": "2023-05-15T08:34:31.693367",
     "status": "completed"
    },
    "tags": []
   },
   "outputs": [],
   "source": [
    "dataset"
   ]
  }
 ],
 "metadata": {
  "kernelspec": {
   "display_name": "py_R",
   "language": "python",
   "name": "python_r"
  },
  "language_info": {
   "codemirror_mode": {
    "name": "ipython",
    "version": 3
   },
   "file_extension": ".py",
   "mimetype": "text/x-python",
   "name": "python",
   "nbconvert_exporter": "python",
   "pygments_lexer": "ipython3",
   "version": "3.10.9"
  },
  "papermill": {
   "default_parameters": {},
   "duration": 100.254094,
   "end_time": "2023-05-15T08:34:33.224420",
   "environment_variables": {},
   "exception": null,
   "input_path": "template.ipynb",
   "output_path": "SRR13329165.ipynb",
   "parameters": {
    "sample_name": "SRR13329165"
   },
   "start_time": "2023-05-15T08:32:52.970326",
   "version": "2.4.0"
  }
 },
 "nbformat": 4,
 "nbformat_minor": 5
}
