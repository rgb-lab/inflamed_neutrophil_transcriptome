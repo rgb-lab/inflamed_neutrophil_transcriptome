{
 "cells": [
  {
   "cell_type": "code",
   "execution_count": null,
   "id": "4c0f2fa8-5232-4f47-a7ec-6c9bbabe50e2",
   "metadata": {
    "execution": {
     "iopub.execute_input": "2023-05-15T09:14:36.438474Z",
     "iopub.status.busy": "2023-05-15T09:14:36.438313Z",
     "iopub.status.idle": "2023-05-15T09:14:36.443233Z",
     "shell.execute_reply": "2023-05-15T09:14:36.442743Z"
    },
    "papermill": {
     "duration": 0.009792,
     "end_time": "2023-05-15T09:14:36.444137",
     "exception": false,
     "start_time": "2023-05-15T09:14:36.434345",
     "status": "completed"
    },
    "tags": [
     "parameters"
    ]
   },
   "outputs": [],
   "source": [
    "sample_name = \"SRR13329143\""
   ]
  },
  {
   "cell_type": "code",
   "execution_count": null,
   "id": "20071b74",
   "metadata": {
    "execution": {
     "iopub.execute_input": "2023-05-15T09:14:36.449368Z",
     "iopub.status.busy": "2023-05-15T09:14:36.449237Z",
     "iopub.status.idle": "2023-05-15T09:14:36.453901Z",
     "shell.execute_reply": "2023-05-15T09:14:36.453539Z"
    },
    "papermill": {
     "duration": 0.008319,
     "end_time": "2023-05-15T09:14:36.454824",
     "exception": false,
     "start_time": "2023-05-15T09:14:36.446505",
     "status": "completed"
    },
    "tags": [
     "injected-parameters"
    ]
   },
   "outputs": [],
   "source": [
    "# Parameters\n",
    "sample_name = \"SRR13329112\"\n"
   ]
  },
  {
   "cell_type": "code",
   "execution_count": null,
   "id": "f87ed95b-2b67-4a5a-8fe2-47359b1dd2a9",
   "metadata": {
    "execution": {
     "iopub.execute_input": "2023-05-15T09:14:36.459914Z",
     "iopub.status.busy": "2023-05-15T09:14:36.459795Z",
     "iopub.status.idle": "2023-05-15T09:14:36.462225Z",
     "shell.execute_reply": "2023-05-15T09:14:36.461864Z"
    },
    "papermill": {
     "duration": 0.006063,
     "end_time": "2023-05-15T09:14:36.463181",
     "exception": false,
     "start_time": "2023-05-15T09:14:36.457118",
     "status": "completed"
    },
    "tags": []
   },
   "outputs": [],
   "source": [
    "import warnings\n",
    "warnings.simplefilter(action='ignore', category=FutureWarning)\n",
    "warnings.simplefilter(action='ignore', category=UserWarning)"
   ]
  },
  {
   "cell_type": "code",
   "execution_count": null,
   "id": "85161f19-b2c5-490b-8cab-c2cf9653b304",
   "metadata": {
    "execution": {
     "iopub.execute_input": "2023-05-15T09:14:36.468565Z",
     "iopub.status.busy": "2023-05-15T09:14:36.468273Z",
     "iopub.status.idle": "2023-05-15T09:15:03.044549Z",
     "shell.execute_reply": "2023-05-15T09:15:03.044089Z"
    },
    "papermill": {
     "duration": 26.580404,
     "end_time": "2023-05-15T09:15:03.045911",
     "exception": false,
     "start_time": "2023-05-15T09:14:36.465507",
     "status": "completed"
    },
    "tags": []
   },
   "outputs": [],
   "source": [
    "import gc\n",
    "import scanpy as sc\n",
    "import muon as mu\n",
    "import seaborn as sns\n",
    "import os\n",
    "import pandas as pd\n",
    "from matplotlib import pyplot as plt\n",
    "\n",
    "os.environ['R_HOME'] = '/gpfs/bwfor/work/ws/hd_fu399-conda/conda/envs/python_R/lib/R/'\n",
    "import anndata2ri\n",
    "import logging\n",
    "\n",
    "import rpy2.rinterface_lib.callbacks as rcb\n",
    "import rpy2.robjects as ro\n",
    "\n",
    "rcb.logger.setLevel(logging.ERROR)\n",
    "ro.pandas2ri.activate()\n",
    "anndata2ri.activate()\n",
    "\n",
    "%load_ext rpy2.ipython"
   ]
  },
  {
   "cell_type": "code",
   "execution_count": null,
   "id": "fc4ade78-b728-4704-9db6-45fbaab62ba1",
   "metadata": {
    "execution": {
     "iopub.execute_input": "2023-05-15T09:15:03.053749Z",
     "iopub.status.busy": "2023-05-15T09:15:03.053330Z",
     "iopub.status.idle": "2023-05-15T09:15:16.023904Z",
     "shell.execute_reply": "2023-05-15T09:15:16.023382Z"
    },
    "papermill": {
     "duration": 12.974849,
     "end_time": "2023-05-15T09:15:16.025303",
     "exception": false,
     "start_time": "2023-05-15T09:15:03.050454",
     "status": "completed"
    },
    "tags": []
   },
   "outputs": [],
   "source": [
    "%%R\n",
    "library(SoupX)\n",
    "library(Seurat)\n",
    "library(scater)\n",
    "library(scDblFinder)\n",
    "library(BiocParallel)\n",
    "library(MuDataSeurat)\n",
    "library(DropletUtils)"
   ]
  },
  {
   "cell_type": "code",
   "execution_count": null,
   "id": "f7424d90-7690-4290-8651-1db3f9df3a35",
   "metadata": {
    "execution": {
     "iopub.execute_input": "2023-05-15T09:15:16.046760Z",
     "iopub.status.busy": "2023-05-15T09:15:16.046578Z",
     "iopub.status.idle": "2023-05-15T09:15:16.053067Z",
     "shell.execute_reply": "2023-05-15T09:15:16.052737Z"
    },
    "papermill": {
     "duration": 0.010591,
     "end_time": "2023-05-15T09:15:16.053858",
     "exception": false,
     "start_time": "2023-05-15T09:15:16.043267",
     "status": "completed"
    },
    "tags": []
   },
   "outputs": [],
   "source": [
    "metadata = pd.read_csv(\"../../combes_metadata.txt\")"
   ]
  },
  {
   "cell_type": "code",
   "execution_count": null,
   "id": "2574ecf1-bad4-4c33-8f3f-718a358727ab",
   "metadata": {
    "execution": {
     "iopub.execute_input": "2023-05-15T09:15:16.059329Z",
     "iopub.status.busy": "2023-05-15T09:15:16.059171Z",
     "iopub.status.idle": "2023-05-15T09:15:16.070410Z",
     "shell.execute_reply": "2023-05-15T09:15:16.070106Z"
    },
    "papermill": {
     "duration": 0.01497,
     "end_time": "2023-05-15T09:15:16.071253",
     "exception": false,
     "start_time": "2023-05-15T09:15:16.056283",
     "status": "completed"
    },
    "tags": []
   },
   "outputs": [],
   "source": [
    "raw_input = f\"/home/hd/hd_hd/hd_fu399/sds-hd/sd21k006/scRNAseq/revision_natcomm/combes_et_al/fetchngs/results/fastq/{sample_name}/{sample_name}/outs/raw_feature_bc_matrix.h5\""
   ]
  },
  {
   "cell_type": "code",
   "execution_count": null,
   "id": "e266d388-1802-435c-93a5-90067358739c",
   "metadata": {
    "execution": {
     "iopub.execute_input": "2023-05-15T09:15:16.076738Z",
     "iopub.status.busy": "2023-05-15T09:15:16.076583Z",
     "iopub.status.idle": "2023-05-15T09:15:16.891123Z",
     "shell.execute_reply": "2023-05-15T09:15:16.890741Z"
    },
    "papermill": {
     "duration": 0.818405,
     "end_time": "2023-05-15T09:15:16.892052",
     "exception": false,
     "start_time": "2023-05-15T09:15:16.073647",
     "status": "completed"
    },
    "tags": []
   },
   "outputs": [],
   "source": [
    "dataset = sc.read_10x_h5(raw_input)\n",
    "dataset.var_names_make_unique()\n",
    "dataset.obs_names_make_unique()\n",
    "\n",
    "dataset.layers[\"raw_counts\"] = dataset.X.copy()\n",
    "data_tod = dataset.layers[\"raw_counts\"].T.copy()\n",
    "\n",
    "dataset"
   ]
  },
  {
   "cell_type": "code",
   "execution_count": null,
   "id": "af9f5892-ed31-42a6-991b-4e096f582cef",
   "metadata": {
    "execution": {
     "iopub.execute_input": "2023-05-15T09:15:16.899152Z",
     "iopub.status.busy": "2023-05-15T09:15:16.898981Z",
     "iopub.status.idle": "2023-05-15T09:15:16.956601Z",
     "shell.execute_reply": "2023-05-15T09:15:16.956075Z"
    },
    "papermill": {
     "duration": 0.062455,
     "end_time": "2023-05-15T09:15:16.957922",
     "exception": false,
     "start_time": "2023-05-15T09:15:16.895467",
     "status": "completed"
    },
    "tags": []
   },
   "outputs": [],
   "source": [
    "sce = dataset.copy()"
   ]
  },
  {
   "cell_type": "code",
   "execution_count": null,
   "id": "d03f2caf-8e74-430e-b045-0ab80401d165",
   "metadata": {
    "execution": {
     "iopub.execute_input": "2023-05-15T09:15:16.964024Z",
     "iopub.status.busy": "2023-05-15T09:15:16.963878Z",
     "iopub.status.idle": "2023-05-15T09:16:47.876144Z",
     "shell.execute_reply": "2023-05-15T09:16:47.875540Z"
    },
    "papermill": {
     "duration": 90.916896,
     "end_time": "2023-05-15T09:16:47.877688",
     "exception": false,
     "start_time": "2023-05-15T09:15:16.960792",
     "status": "completed"
    },
    "tags": []
   },
   "outputs": [],
   "source": [
    "%%R -i sce -o empty_drop_output\n",
    "set.seed(187)\n",
    "empty_drop_output <- emptyDrops(assay(sce))"
   ]
  },
  {
   "cell_type": "code",
   "execution_count": null,
   "id": "2a34a54b-3ae2-44d6-8679-8769228c5b66",
   "metadata": {
    "execution": {
     "iopub.execute_input": "2023-05-15T09:16:47.886024Z",
     "iopub.status.busy": "2023-05-15T09:16:47.885843Z",
     "iopub.status.idle": "2023-05-15T09:16:47.927605Z",
     "shell.execute_reply": "2023-05-15T09:16:47.927284Z"
    },
    "papermill": {
     "duration": 0.046011,
     "end_time": "2023-05-15T09:16:47.928484",
     "exception": false,
     "start_time": "2023-05-15T09:16:47.882473",
     "status": "completed"
    },
    "tags": []
   },
   "outputs": [],
   "source": [
    "non_empty_barcodes = empty_drop_output[empty_drop_output[\"FDR\"] < 0.001].index\n",
    "dataset = dataset[dataset.obs.index.isin(non_empty_barcodes), :]\n",
    "dataset"
   ]
  },
  {
   "cell_type": "code",
   "execution_count": null,
   "id": "016a91e5-1bef-46fb-b91e-4fb9a6870c44",
   "metadata": {
    "execution": {
     "iopub.execute_input": "2023-05-15T09:16:47.934574Z",
     "iopub.status.busy": "2023-05-15T09:16:47.934404Z",
     "iopub.status.idle": "2023-05-15T09:16:55.113223Z",
     "shell.execute_reply": "2023-05-15T09:16:55.112727Z"
    },
    "papermill": {
     "duration": 7.183521,
     "end_time": "2023-05-15T09:16:55.114766",
     "exception": false,
     "start_time": "2023-05-15T09:16:47.931245",
     "status": "completed"
    },
    "tags": []
   },
   "outputs": [],
   "source": [
    "rna_assay = dataset.copy()\n",
    "sc.pp.normalize_per_cell(rna_assay)\n",
    "sc.pp.log1p(rna_assay)\n",
    "sc.pp.pca(rna_assay)\n",
    "sc.pp.neighbors(rna_assay)\n",
    "sc.tl.leiden(rna_assay, key_added=\"soupx_groups\")\n",
    "\n",
    "soupx_groups = rna_assay.obs[\"soupx_groups\"]\n",
    "\n",
    "del rna_assay\n",
    "\n",
    "genes = dataset.var_names\n",
    "cells = dataset.obs_names\n",
    "data = dataset.X.T.copy()"
   ]
  },
  {
   "cell_type": "code",
   "execution_count": null,
   "id": "9db4ea1f-1580-4f43-a3f0-86002397cd98",
   "metadata": {
    "execution": {
     "iopub.execute_input": "2023-05-15T09:16:55.123491Z",
     "iopub.status.busy": "2023-05-15T09:16:55.123330Z",
     "iopub.status.idle": "2023-05-15T09:17:15.271396Z",
     "shell.execute_reply": "2023-05-15T09:17:15.270806Z"
    },
    "papermill": {
     "duration": 20.15295,
     "end_time": "2023-05-15T09:17:15.272684",
     "exception": false,
     "start_time": "2023-05-15T09:16:55.119734",
     "status": "completed"
    },
    "tags": []
   },
   "outputs": [],
   "source": [
    "%%R -i data -i data_tod -i genes -i cells -i soupx_groups -o out \n",
    "set.seed(187)\n",
    "# specify row and column names of data\n",
    "rownames(data) = genes\n",
    "colnames(data) = cells\n",
    "# ensure correct sparse format for table of counts and table of droplets\n",
    "data <- as(data, \"sparseMatrix\")\n",
    "data_tod <- as(data_tod, \"sparseMatrix\")\n",
    "\n",
    "# Generate SoupChannel Object for SoupX \n",
    "sc = SoupChannel(data_tod, data, calcSoupProfile = FALSE)\n",
    "\n",
    "# Add extra meta data to the SoupChannel object\n",
    "soupProf = data.frame(row.names = rownames(data),\n",
    "                      est = rowSums(data)/sum(data),\n",
    "                      counts = rowSums(data))\n",
    "sc = setSoupProfile(sc, soupProf)\n",
    "# Set cluster information in SoupChannel\n",
    "sc = setClusters(sc, soupx_groups)\n",
    "\n",
    "# Estimate contamination fraction\n",
    "sc  = autoEstCont(sc, doPlot=FALSE, forceAccept = TRUE)\n",
    "# Infer corrected table of counts and rount to integer\n",
    "out = adjustCounts(sc, roundToInt = TRUE)"
   ]
  },
  {
   "cell_type": "code",
   "execution_count": null,
   "id": "32555d5e-5fa3-46dd-a4e0-ddc96ea265e2",
   "metadata": {
    "execution": {
     "iopub.execute_input": "2023-05-15T09:17:15.282187Z",
     "iopub.status.busy": "2023-05-15T09:17:15.282015Z",
     "iopub.status.idle": "2023-05-15T09:17:15.322973Z",
     "shell.execute_reply": "2023-05-15T09:17:15.322505Z"
    },
    "papermill": {
     "duration": 0.046343,
     "end_time": "2023-05-15T09:17:15.324391",
     "exception": false,
     "start_time": "2023-05-15T09:17:15.278048",
     "status": "completed"
    },
    "tags": []
   },
   "outputs": [],
   "source": [
    "dataset.layers[\"soupX_counts\"] = out.T\n",
    "dataset.X = dataset.layers[\"soupX_counts\"].copy()"
   ]
  },
  {
   "cell_type": "code",
   "execution_count": null,
   "id": "e27da7df-e094-4d2a-9109-5a363e012175",
   "metadata": {
    "execution": {
     "iopub.execute_input": "2023-05-15T09:17:15.330919Z",
     "iopub.status.busy": "2023-05-15T09:17:15.330732Z",
     "iopub.status.idle": "2023-05-15T09:17:15.333234Z",
     "shell.execute_reply": "2023-05-15T09:17:15.332909Z"
    },
    "papermill": {
     "duration": 0.006615,
     "end_time": "2023-05-15T09:17:15.334019",
     "exception": false,
     "start_time": "2023-05-15T09:17:15.327404",
     "status": "completed"
    },
    "tags": []
   },
   "outputs": [],
   "source": [
    "data_mat = dataset.X.T"
   ]
  },
  {
   "cell_type": "code",
   "execution_count": null,
   "id": "80a993b1-5ccb-4697-9187-1beb7ab8aff9",
   "metadata": {
    "execution": {
     "iopub.execute_input": "2023-05-15T09:17:15.340193Z",
     "iopub.status.busy": "2023-05-15T09:17:15.340040Z",
     "iopub.status.idle": "2023-05-15T09:17:33.182616Z",
     "shell.execute_reply": "2023-05-15T09:17:33.182017Z"
    },
    "papermill": {
     "duration": 17.847165,
     "end_time": "2023-05-15T09:17:33.183925",
     "exception": false,
     "start_time": "2023-05-15T09:17:15.336760",
     "status": "completed"
    },
    "tags": []
   },
   "outputs": [],
   "source": [
    "%%R -i data_mat -o droplet_class\n",
    "\n",
    "set.seed(187)\n",
    "sce = scDblFinder(\n",
    "    SingleCellExperiment(\n",
    "        list(counts=data_mat),\n",
    "    ) \n",
    ")\n",
    "droplet_class = sce$scDblFinder.class"
   ]
  },
  {
   "cell_type": "code",
   "execution_count": null,
   "id": "d4dd6e9d-fcf2-41fc-8457-c8e0a3cb2c71",
   "metadata": {
    "execution": {
     "iopub.execute_input": "2023-05-15T09:17:33.193235Z",
     "iopub.status.busy": "2023-05-15T09:17:33.193030Z",
     "iopub.status.idle": "2023-05-15T09:17:33.198251Z",
     "shell.execute_reply": "2023-05-15T09:17:33.197922Z"
    },
    "papermill": {
     "duration": 0.009788,
     "end_time": "2023-05-15T09:17:33.199033",
     "exception": false,
     "start_time": "2023-05-15T09:17:33.189245",
     "status": "completed"
    },
    "tags": []
   },
   "outputs": [],
   "source": [
    "dataset.obs[\"scDblFinder_class\"] = droplet_class\n",
    "dataset.obs.scDblFinder_class.value_counts()\n",
    "dataset"
   ]
  },
  {
   "cell_type": "code",
   "execution_count": null,
   "id": "28c95014-2d6c-477f-95cb-9f9f0507520c",
   "metadata": {
    "execution": {
     "iopub.execute_input": "2023-05-15T09:17:33.205348Z",
     "iopub.status.busy": "2023-05-15T09:17:33.205185Z",
     "iopub.status.idle": "2023-05-15T09:17:33.222183Z",
     "shell.execute_reply": "2023-05-15T09:17:33.221858Z"
    },
    "papermill": {
     "duration": 0.021195,
     "end_time": "2023-05-15T09:17:33.223090",
     "exception": false,
     "start_time": "2023-05-15T09:17:33.201895",
     "status": "completed"
    },
    "tags": []
   },
   "outputs": [],
   "source": [
    "dataset = dataset[dataset.obs[\"scDblFinder_class\"] == 1]"
   ]
  },
  {
   "cell_type": "code",
   "execution_count": null,
   "id": "3e22f9e0-bfcb-416c-a151-a9bca3bec3b9",
   "metadata": {
    "execution": {
     "iopub.execute_input": "2023-05-15T09:17:33.229505Z",
     "iopub.status.busy": "2023-05-15T09:17:33.229346Z",
     "iopub.status.idle": "2023-05-15T09:17:33.433900Z",
     "shell.execute_reply": "2023-05-15T09:17:33.433449Z"
    },
    "papermill": {
     "duration": 0.20886,
     "end_time": "2023-05-15T09:17:33.434820",
     "exception": false,
     "start_time": "2023-05-15T09:17:33.225960",
     "status": "completed"
    },
    "tags": []
   },
   "outputs": [],
   "source": [
    "# mitochondrial genes\n",
    "dataset.var[\"mt\"] = dataset.var_names.str.startswith(\"MT-\")\n",
    "# ribosomal genes\n",
    "dataset.var[\"ribo\"] = dataset.var_names.str.startswith((\"RPS\", \"RPL\"))\n",
    "# hemoglobin genes.\n",
    "dataset.var[\"hb\"] = dataset.var_names.str.contains((\"^HB[^(P)]\"))\n",
    "\n",
    "sc.pp.calculate_qc_metrics(dataset,\n",
    "                           qc_vars=['mt', 'ribo', 'hb'],\n",
    "                           percent_top=None,\n",
    "                           log1p=False,\n",
    "                           inplace=True)\n",
    "dataset"
   ]
  },
  {
   "cell_type": "code",
   "execution_count": null,
   "id": "34deee79-4043-428f-8575-aa57b45f6369",
   "metadata": {
    "execution": {
     "iopub.execute_input": "2023-05-15T09:17:33.442150Z",
     "iopub.status.busy": "2023-05-15T09:17:33.441965Z",
     "iopub.status.idle": "2023-05-15T09:17:33.930099Z",
     "shell.execute_reply": "2023-05-15T09:17:33.929703Z"
    },
    "papermill": {
     "duration": 0.492834,
     "end_time": "2023-05-15T09:17:33.931181",
     "exception": false,
     "start_time": "2023-05-15T09:17:33.438347",
     "status": "completed"
    },
    "tags": []
   },
   "outputs": [],
   "source": [
    "fig, ax = plt.subplots(ncols = 4, figsize = (16,4))\n",
    "axis = sc.pl.violin(dataset, \"n_genes_by_counts\", jitter = 0.4, ax = ax[0], show = False)\n",
    "axis.grid(False)\n",
    "axis.set_title(\"Unique Genes per cell\")\n",
    "axis.tick_params(axis = \"x\", bottom =False, labelbottom =False)\n",
    "axis.set_ylabel(\"# genes\")\n",
    "axis.axhline(y = 100, color = \"black\", label = \"cutoff\")\n",
    "axis.legend(fontsize = 14, loc = \"upper right\")\n",
    "\n",
    "axis = sc.pl.violin(dataset, \"pct_counts_mt\", jitter = 0.4, ax = ax[1], show = False)\n",
    "axis.grid(False)\n",
    "axis.set_title(\"Mitochondrial Fraction\")\n",
    "axis.tick_params(axis = \"x\", bottom =False, labelbottom =False)\n",
    "axis.set_ylabel(\"% mitochondrial genes\")\n",
    "axis.axhline(y = 10, color = \"black\", label = \"cutoff\")\n",
    "axis.legend(fontsize = 14, loc = \"upper right\")\n",
    "\n",
    "axis = sc.pl.violin(dataset, \"pct_counts_hb\", jitter = 0.4, ax = ax[2], show = False, size =2)\n",
    "axis.grid(False)\n",
    "axis.set_title(\"Hemoglobin Fraction\")\n",
    "axis.tick_params(axis = \"x\", bottom =False, labelbottom =False)\n",
    "axis.set_ylabel(\"% hemoglobin genes\")\n",
    "axis.axhline(y = 3, color = \"black\", label = \"cutoff\")\n",
    "axis.legend(fontsize = 14, loc = \"upper right\")\n",
    "#axis.set_ylim(0,5)\n",
    "\n",
    "axis = sc.pl.violin(dataset, \"pct_counts_ribo\", jitter = 0.4, ax = ax[3], show = False)\n",
    "axis.grid(False)\n",
    "axis.set_title(\"Ribosomal Fraction\")\n",
    "axis.tick_params(axis = \"x\", bottom =False, labelbottom =False)\n",
    "axis.set_ylabel(\"% ribosome genes\")\n",
    "\n",
    "plt.tight_layout()\n",
    "#plt.savefig(f\"{outputDir}08_gene_based_filtering.pdf\", dpi = 300)\n",
    "plt.show()\n",
    "\n"
   ]
  },
  {
   "cell_type": "code",
   "execution_count": null,
   "id": "d7ade754-843e-4840-8707-426613d8c0c5",
   "metadata": {
    "execution": {
     "iopub.execute_input": "2023-05-15T09:17:33.940891Z",
     "iopub.status.busy": "2023-05-15T09:17:33.940728Z",
     "iopub.status.idle": "2023-05-15T09:17:33.950051Z",
     "shell.execute_reply": "2023-05-15T09:17:33.949728Z"
    },
    "papermill": {
     "duration": 0.014952,
     "end_time": "2023-05-15T09:17:33.950811",
     "exception": false,
     "start_time": "2023-05-15T09:17:33.935859",
     "status": "completed"
    },
    "tags": []
   },
   "outputs": [],
   "source": [
    "dataset = dataset[dataset.obs.pct_counts_mt < 10, :]\n",
    "dataset = dataset[dataset.obs.n_genes_by_counts > 100, :]\n",
    "dataset = dataset[dataset.obs.pct_counts_hb < 3, :]\n",
    "dataset"
   ]
  },
  {
   "cell_type": "code",
   "execution_count": null,
   "id": "1941fa36-e865-4500-b586-f7a32d142c9b",
   "metadata": {
    "execution": {
     "iopub.execute_input": "2023-05-15T09:17:33.960176Z",
     "iopub.status.busy": "2023-05-15T09:17:33.960041Z",
     "iopub.status.idle": "2023-05-15T09:17:33.963908Z",
     "shell.execute_reply": "2023-05-15T09:17:33.963617Z"
    },
    "papermill": {
     "duration": 0.009315,
     "end_time": "2023-05-15T09:17:33.964648",
     "exception": false,
     "start_time": "2023-05-15T09:17:33.955333",
     "status": "completed"
    },
    "tags": []
   },
   "outputs": [],
   "source": [
    "metadata.columns"
   ]
  },
  {
   "cell_type": "code",
   "execution_count": null,
   "id": "2e0ff8c3-2aa9-4a01-9b88-5912a6734447",
   "metadata": {
    "execution": {
     "iopub.execute_input": "2023-05-15T09:17:33.973962Z",
     "iopub.status.busy": "2023-05-15T09:17:33.973699Z",
     "iopub.status.idle": "2023-05-15T09:17:34.029306Z",
     "shell.execute_reply": "2023-05-15T09:17:34.028895Z"
    },
    "papermill": {
     "duration": 0.061455,
     "end_time": "2023-05-15T09:17:34.030432",
     "exception": false,
     "start_time": "2023-05-15T09:17:33.968977",
     "status": "completed"
    },
    "tags": []
   },
   "outputs": [],
   "source": [
    "for col in metadata.columns:\n",
    "    dataset.obs[col] = metadata.loc[metadata[\"Run\"] == sample_name, col].to_list()[0]"
   ]
  },
  {
   "cell_type": "code",
   "execution_count": null,
   "id": "b84578d3-d63e-419c-a272-a0b8317d05ab",
   "metadata": {
    "execution": {
     "iopub.execute_input": "2023-05-15T09:17:34.040463Z",
     "iopub.status.busy": "2023-05-15T09:17:34.040294Z",
     "iopub.status.idle": "2023-05-15T09:17:34.640798Z",
     "shell.execute_reply": "2023-05-15T09:17:34.640320Z"
    },
    "papermill": {
     "duration": 0.606751,
     "end_time": "2023-05-15T09:17:34.642057",
     "exception": false,
     "start_time": "2023-05-15T09:17:34.035306",
     "status": "completed"
    },
    "tags": []
   },
   "outputs": [],
   "source": [
    "dataset.write(f\"../../int_data/{sample_name}_qc.h5ad\")"
   ]
  },
  {
   "cell_type": "code",
   "execution_count": null,
   "id": "501b33a0-432d-415f-ae82-50723484b85d",
   "metadata": {
    "execution": {
     "iopub.execute_input": "2023-05-15T09:17:34.652320Z",
     "iopub.status.busy": "2023-05-15T09:17:34.652134Z",
     "iopub.status.idle": "2023-05-15T09:17:34.655204Z",
     "shell.execute_reply": "2023-05-15T09:17:34.654885Z"
    },
    "papermill": {
     "duration": 0.008829,
     "end_time": "2023-05-15T09:17:34.655992",
     "exception": false,
     "start_time": "2023-05-15T09:17:34.647163",
     "status": "completed"
    },
    "tags": []
   },
   "outputs": [],
   "source": [
    "dataset"
   ]
  }
 ],
 "metadata": {
  "kernelspec": {
   "display_name": "py_R",
   "language": "python",
   "name": "python_r"
  },
  "language_info": {
   "codemirror_mode": {
    "name": "ipython",
    "version": 3
   },
   "file_extension": ".py",
   "mimetype": "text/x-python",
   "name": "python",
   "nbconvert_exporter": "python",
   "pygments_lexer": "ipython3",
   "version": "3.10.9"
  },
  "papermill": {
   "default_parameters": {},
   "duration": 180.937979,
   "end_time": "2023-05-15T09:17:36.179935",
   "environment_variables": {},
   "exception": null,
   "input_path": "template.ipynb",
   "output_path": "SRR13329112.ipynb",
   "parameters": {
    "sample_name": "SRR13329112"
   },
   "start_time": "2023-05-15T09:14:35.241956",
   "version": "2.4.0"
  }
 },
 "nbformat": 4,
 "nbformat_minor": 5
}
