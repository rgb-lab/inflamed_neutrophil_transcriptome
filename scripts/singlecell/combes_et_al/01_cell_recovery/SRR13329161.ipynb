{
 "cells": [
  {
   "cell_type": "code",
   "execution_count": null,
   "id": "4c0f2fa8-5232-4f47-a7ec-6c9bbabe50e2",
   "metadata": {
    "execution": {
     "iopub.execute_input": "2023-05-15T07:55:09.683619Z",
     "iopub.status.busy": "2023-05-15T07:55:09.683448Z",
     "iopub.status.idle": "2023-05-15T07:55:09.688219Z",
     "shell.execute_reply": "2023-05-15T07:55:09.687857Z"
    },
    "papermill": {
     "duration": 0.009203,
     "end_time": "2023-05-15T07:55:09.689124",
     "exception": false,
     "start_time": "2023-05-15T07:55:09.679921",
     "status": "completed"
    },
    "tags": [
     "parameters"
    ]
   },
   "outputs": [],
   "source": [
    "sample_name = \"SRR13329143\""
   ]
  },
  {
   "cell_type": "code",
   "execution_count": null,
   "id": "75792e35",
   "metadata": {
    "execution": {
     "iopub.execute_input": "2023-05-15T07:55:09.694440Z",
     "iopub.status.busy": "2023-05-15T07:55:09.694292Z",
     "iopub.status.idle": "2023-05-15T07:55:09.696268Z",
     "shell.execute_reply": "2023-05-15T07:55:09.695940Z"
    },
    "papermill": {
     "duration": 0.005594,
     "end_time": "2023-05-15T07:55:09.697047",
     "exception": false,
     "start_time": "2023-05-15T07:55:09.691453",
     "status": "completed"
    },
    "tags": [
     "injected-parameters"
    ]
   },
   "outputs": [],
   "source": [
    "# Parameters\n",
    "sample_name = \"SRR13329161\"\n"
   ]
  },
  {
   "cell_type": "code",
   "execution_count": null,
   "id": "f87ed95b-2b67-4a5a-8fe2-47359b1dd2a9",
   "metadata": {
    "execution": {
     "iopub.execute_input": "2023-05-15T07:55:09.702352Z",
     "iopub.status.busy": "2023-05-15T07:55:09.702230Z",
     "iopub.status.idle": "2023-05-15T07:55:09.704369Z",
     "shell.execute_reply": "2023-05-15T07:55:09.704073Z"
    },
    "papermill": {
     "duration": 0.005703,
     "end_time": "2023-05-15T07:55:09.705160",
     "exception": false,
     "start_time": "2023-05-15T07:55:09.699457",
     "status": "completed"
    },
    "tags": []
   },
   "outputs": [],
   "source": [
    "import warnings\n",
    "warnings.simplefilter(action='ignore', category=FutureWarning)\n",
    "warnings.simplefilter(action='ignore', category=UserWarning)"
   ]
  },
  {
   "cell_type": "code",
   "execution_count": null,
   "id": "85161f19-b2c5-490b-8cab-c2cf9653b304",
   "metadata": {
    "execution": {
     "iopub.execute_input": "2023-05-15T07:55:09.710585Z",
     "iopub.status.busy": "2023-05-15T07:55:09.710431Z",
     "iopub.status.idle": "2023-05-15T07:55:13.908988Z",
     "shell.execute_reply": "2023-05-15T07:55:13.908441Z"
    },
    "papermill": {
     "duration": 4.20281,
     "end_time": "2023-05-15T07:55:13.910359",
     "exception": false,
     "start_time": "2023-05-15T07:55:09.707549",
     "status": "completed"
    },
    "tags": []
   },
   "outputs": [],
   "source": [
    "import gc\n",
    "import scanpy as sc\n",
    "import muon as mu\n",
    "import seaborn as sns\n",
    "import os\n",
    "import pandas as pd\n",
    "from matplotlib import pyplot as plt\n",
    "\n",
    "os.environ['R_HOME'] = '/gpfs/bwfor/work/ws/hd_fu399-conda/conda/envs/python_R/lib/R/'\n",
    "import anndata2ri\n",
    "import logging\n",
    "\n",
    "import rpy2.rinterface_lib.callbacks as rcb\n",
    "import rpy2.robjects as ro\n",
    "\n",
    "rcb.logger.setLevel(logging.ERROR)\n",
    "ro.pandas2ri.activate()\n",
    "anndata2ri.activate()\n",
    "\n",
    "%load_ext rpy2.ipython"
   ]
  },
  {
   "cell_type": "code",
   "execution_count": null,
   "id": "fc4ade78-b728-4704-9db6-45fbaab62ba1",
   "metadata": {
    "execution": {
     "iopub.execute_input": "2023-05-15T07:55:13.918980Z",
     "iopub.status.busy": "2023-05-15T07:55:13.918657Z",
     "iopub.status.idle": "2023-05-15T07:55:23.787930Z",
     "shell.execute_reply": "2023-05-15T07:55:23.787420Z"
    },
    "papermill": {
     "duration": 9.874078,
     "end_time": "2023-05-15T07:55:23.789328",
     "exception": false,
     "start_time": "2023-05-15T07:55:13.915250",
     "status": "completed"
    },
    "tags": []
   },
   "outputs": [],
   "source": [
    "%%R\n",
    "library(SoupX)\n",
    "library(Seurat)\n",
    "library(scater)\n",
    "library(scDblFinder)\n",
    "library(BiocParallel)\n",
    "library(MuDataSeurat)\n",
    "library(DropletUtils)"
   ]
  },
  {
   "cell_type": "code",
   "execution_count": null,
   "id": "f7424d90-7690-4290-8651-1db3f9df3a35",
   "metadata": {
    "execution": {
     "iopub.execute_input": "2023-05-15T07:55:23.797885Z",
     "iopub.status.busy": "2023-05-15T07:55:23.797727Z",
     "iopub.status.idle": "2023-05-15T07:55:23.804119Z",
     "shell.execute_reply": "2023-05-15T07:55:23.803771Z"
    },
    "papermill": {
     "duration": 0.010646,
     "end_time": "2023-05-15T07:55:23.805087",
     "exception": false,
     "start_time": "2023-05-15T07:55:23.794441",
     "status": "completed"
    },
    "tags": []
   },
   "outputs": [],
   "source": [
    "metadata = pd.read_csv(\"../../combes_metadata.txt\")"
   ]
  },
  {
   "cell_type": "code",
   "execution_count": null,
   "id": "2574ecf1-bad4-4c33-8f3f-718a358727ab",
   "metadata": {
    "execution": {
     "iopub.execute_input": "2023-05-15T07:55:23.810761Z",
     "iopub.status.busy": "2023-05-15T07:55:23.810599Z",
     "iopub.status.idle": "2023-05-15T07:55:23.813645Z",
     "shell.execute_reply": "2023-05-15T07:55:23.813315Z"
    },
    "papermill": {
     "duration": 0.006922,
     "end_time": "2023-05-15T07:55:23.814553",
     "exception": false,
     "start_time": "2023-05-15T07:55:23.807631",
     "status": "completed"
    },
    "tags": []
   },
   "outputs": [],
   "source": [
    "raw_input = f\"/home/hd/hd_hd/hd_fu399/sds-hd/sd21k006/scRNAseq/revision_natcomm/combes_et_al/fetchngs/results/fastq/{sample_name}/{sample_name}/outs/raw_feature_bc_matrix.h5\""
   ]
  },
  {
   "cell_type": "code",
   "execution_count": null,
   "id": "e266d388-1802-435c-93a5-90067358739c",
   "metadata": {
    "execution": {
     "iopub.execute_input": "2023-05-15T07:55:23.820279Z",
     "iopub.status.busy": "2023-05-15T07:55:23.820151Z",
     "iopub.status.idle": "2023-05-15T07:55:24.240089Z",
     "shell.execute_reply": "2023-05-15T07:55:24.239642Z"
    },
    "papermill": {
     "duration": 0.423927,
     "end_time": "2023-05-15T07:55:24.241056",
     "exception": false,
     "start_time": "2023-05-15T07:55:23.817129",
     "status": "completed"
    },
    "tags": []
   },
   "outputs": [],
   "source": [
    "dataset = sc.read_10x_h5(raw_input)\n",
    "dataset.var_names_make_unique()\n",
    "dataset.obs_names_make_unique()\n",
    "\n",
    "dataset.layers[\"raw_counts\"] = dataset.X.copy()\n",
    "data_tod = dataset.layers[\"raw_counts\"].T.copy()\n",
    "\n",
    "dataset"
   ]
  },
  {
   "cell_type": "code",
   "execution_count": null,
   "id": "af9f5892-ed31-42a6-991b-4e096f582cef",
   "metadata": {
    "execution": {
     "iopub.execute_input": "2023-05-15T07:55:24.247431Z",
     "iopub.status.busy": "2023-05-15T07:55:24.247272Z",
     "iopub.status.idle": "2023-05-15T07:55:24.281615Z",
     "shell.execute_reply": "2023-05-15T07:55:24.281129Z"
    },
    "papermill": {
     "duration": 0.038683,
     "end_time": "2023-05-15T07:55:24.282795",
     "exception": false,
     "start_time": "2023-05-15T07:55:24.244112",
     "status": "completed"
    },
    "tags": []
   },
   "outputs": [],
   "source": [
    "sce = dataset.copy()"
   ]
  },
  {
   "cell_type": "code",
   "execution_count": null,
   "id": "d03f2caf-8e74-430e-b045-0ab80401d165",
   "metadata": {
    "execution": {
     "iopub.execute_input": "2023-05-15T07:55:24.289280Z",
     "iopub.status.busy": "2023-05-15T07:55:24.289112Z",
     "iopub.status.idle": "2023-05-15T07:56:04.531495Z",
     "shell.execute_reply": "2023-05-15T07:56:04.530903Z"
    },
    "papermill": {
     "duration": 40.24715,
     "end_time": "2023-05-15T07:56:04.532945",
     "exception": false,
     "start_time": "2023-05-15T07:55:24.285795",
     "status": "completed"
    },
    "tags": []
   },
   "outputs": [],
   "source": [
    "%%R -i sce -o empty_drop_output\n",
    "set.seed(187)\n",
    "empty_drop_output <- emptyDrops(assay(sce))"
   ]
  },
  {
   "cell_type": "code",
   "execution_count": null,
   "id": "2a34a54b-3ae2-44d6-8679-8769228c5b66",
   "metadata": {
    "execution": {
     "iopub.execute_input": "2023-05-15T07:56:04.541239Z",
     "iopub.status.busy": "2023-05-15T07:56:04.541085Z",
     "iopub.status.idle": "2023-05-15T07:56:04.565298Z",
     "shell.execute_reply": "2023-05-15T07:56:04.564968Z"
    },
    "papermill": {
     "duration": 0.028379,
     "end_time": "2023-05-15T07:56:04.566101",
     "exception": false,
     "start_time": "2023-05-15T07:56:04.537722",
     "status": "completed"
    },
    "tags": []
   },
   "outputs": [],
   "source": [
    "non_empty_barcodes = empty_drop_output[empty_drop_output[\"FDR\"] < 0.001].index\n",
    "dataset = dataset[dataset.obs.index.isin(non_empty_barcodes), :]\n",
    "dataset"
   ]
  },
  {
   "cell_type": "code",
   "execution_count": null,
   "id": "016a91e5-1bef-46fb-b91e-4fb9a6870c44",
   "metadata": {
    "execution": {
     "iopub.execute_input": "2023-05-15T07:56:04.572422Z",
     "iopub.status.busy": "2023-05-15T07:56:04.572264Z",
     "iopub.status.idle": "2023-05-15T07:56:08.514974Z",
     "shell.execute_reply": "2023-05-15T07:56:08.514489Z"
    },
    "papermill": {
     "duration": 3.947208,
     "end_time": "2023-05-15T07:56:08.516127",
     "exception": false,
     "start_time": "2023-05-15T07:56:04.568919",
     "status": "completed"
    },
    "tags": []
   },
   "outputs": [],
   "source": [
    "rna_assay = dataset.copy()\n",
    "sc.pp.normalize_per_cell(rna_assay)\n",
    "sc.pp.log1p(rna_assay)\n",
    "sc.pp.pca(rna_assay)\n",
    "sc.pp.neighbors(rna_assay)\n",
    "sc.tl.leiden(rna_assay, key_added=\"soupx_groups\")\n",
    "\n",
    "soupx_groups = rna_assay.obs[\"soupx_groups\"]\n",
    "\n",
    "del rna_assay\n",
    "\n",
    "genes = dataset.var_names\n",
    "cells = dataset.obs_names\n",
    "data = dataset.X.T.copy()"
   ]
  },
  {
   "cell_type": "code",
   "execution_count": null,
   "id": "9db4ea1f-1580-4f43-a3f0-86002397cd98",
   "metadata": {
    "execution": {
     "iopub.execute_input": "2023-05-15T07:56:08.524984Z",
     "iopub.status.busy": "2023-05-15T07:56:08.524785Z",
     "iopub.status.idle": "2023-05-15T07:56:18.888195Z",
     "shell.execute_reply": "2023-05-15T07:56:18.887722Z"
    },
    "papermill": {
     "duration": 10.36836,
     "end_time": "2023-05-15T07:56:18.889551",
     "exception": false,
     "start_time": "2023-05-15T07:56:08.521191",
     "status": "completed"
    },
    "tags": []
   },
   "outputs": [],
   "source": [
    "%%R -i data -i data_tod -i genes -i cells -i soupx_groups -o out \n",
    "set.seed(187)\n",
    "# specify row and column names of data\n",
    "rownames(data) = genes\n",
    "colnames(data) = cells\n",
    "# ensure correct sparse format for table of counts and table of droplets\n",
    "data <- as(data, \"sparseMatrix\")\n",
    "data_tod <- as(data_tod, \"sparseMatrix\")\n",
    "\n",
    "# Generate SoupChannel Object for SoupX \n",
    "sc = SoupChannel(data_tod, data, calcSoupProfile = FALSE)\n",
    "\n",
    "# Add extra meta data to the SoupChannel object\n",
    "soupProf = data.frame(row.names = rownames(data),\n",
    "                      est = rowSums(data)/sum(data),\n",
    "                      counts = rowSums(data))\n",
    "sc = setSoupProfile(sc, soupProf)\n",
    "# Set cluster information in SoupChannel\n",
    "sc = setClusters(sc, soupx_groups)\n",
    "\n",
    "# Estimate contamination fraction\n",
    "sc  = autoEstCont(sc, doPlot=FALSE, forceAccept = TRUE)\n",
    "# Infer corrected table of counts and rount to integer\n",
    "out = adjustCounts(sc, roundToInt = TRUE)"
   ]
  },
  {
   "cell_type": "code",
   "execution_count": null,
   "id": "32555d5e-5fa3-46dd-a4e0-ddc96ea265e2",
   "metadata": {
    "execution": {
     "iopub.execute_input": "2023-05-15T07:56:18.898879Z",
     "iopub.status.busy": "2023-05-15T07:56:18.898689Z",
     "iopub.status.idle": "2023-05-15T07:56:18.919177Z",
     "shell.execute_reply": "2023-05-15T07:56:18.918770Z"
    },
    "papermill": {
     "duration": 0.025648,
     "end_time": "2023-05-15T07:56:18.920371",
     "exception": false,
     "start_time": "2023-05-15T07:56:18.894723",
     "status": "completed"
    },
    "tags": []
   },
   "outputs": [],
   "source": [
    "dataset.layers[\"soupX_counts\"] = out.T\n",
    "dataset.X = dataset.layers[\"soupX_counts\"].copy()"
   ]
  },
  {
   "cell_type": "code",
   "execution_count": null,
   "id": "e27da7df-e094-4d2a-9109-5a363e012175",
   "metadata": {
    "execution": {
     "iopub.execute_input": "2023-05-15T07:56:18.927285Z",
     "iopub.status.busy": "2023-05-15T07:56:18.927096Z",
     "iopub.status.idle": "2023-05-15T07:56:18.929513Z",
     "shell.execute_reply": "2023-05-15T07:56:18.929183Z"
    },
    "papermill": {
     "duration": 0.006896,
     "end_time": "2023-05-15T07:56:18.930335",
     "exception": false,
     "start_time": "2023-05-15T07:56:18.923439",
     "status": "completed"
    },
    "tags": []
   },
   "outputs": [],
   "source": [
    "data_mat = dataset.X.T"
   ]
  },
  {
   "cell_type": "code",
   "execution_count": null,
   "id": "80a993b1-5ccb-4697-9187-1beb7ab8aff9",
   "metadata": {
    "execution": {
     "iopub.execute_input": "2023-05-15T07:56:18.936748Z",
     "iopub.status.busy": "2023-05-15T07:56:18.936552Z",
     "iopub.status.idle": "2023-05-15T07:56:34.615479Z",
     "shell.execute_reply": "2023-05-15T07:56:34.614883Z"
    },
    "papermill": {
     "duration": 15.683675,
     "end_time": "2023-05-15T07:56:34.616878",
     "exception": false,
     "start_time": "2023-05-15T07:56:18.933203",
     "status": "completed"
    },
    "tags": []
   },
   "outputs": [],
   "source": [
    "%%R -i data_mat -o droplet_class\n",
    "\n",
    "set.seed(187)\n",
    "sce = scDblFinder(\n",
    "    SingleCellExperiment(\n",
    "        list(counts=data_mat),\n",
    "    ) \n",
    ")\n",
    "droplet_class = sce$scDblFinder.class"
   ]
  },
  {
   "cell_type": "code",
   "execution_count": null,
   "id": "d4dd6e9d-fcf2-41fc-8457-c8e0a3cb2c71",
   "metadata": {
    "execution": {
     "iopub.execute_input": "2023-05-15T07:56:34.626398Z",
     "iopub.status.busy": "2023-05-15T07:56:34.626192Z",
     "iopub.status.idle": "2023-05-15T07:56:34.631200Z",
     "shell.execute_reply": "2023-05-15T07:56:34.630833Z"
    },
    "papermill": {
     "duration": 0.009973,
     "end_time": "2023-05-15T07:56:34.631983",
     "exception": false,
     "start_time": "2023-05-15T07:56:34.622010",
     "status": "completed"
    },
    "tags": []
   },
   "outputs": [],
   "source": [
    "dataset.obs[\"scDblFinder_class\"] = droplet_class\n",
    "dataset.obs.scDblFinder_class.value_counts()\n",
    "dataset"
   ]
  },
  {
   "cell_type": "code",
   "execution_count": null,
   "id": "28c95014-2d6c-477f-95cb-9f9f0507520c",
   "metadata": {
    "execution": {
     "iopub.execute_input": "2023-05-15T07:56:34.638490Z",
     "iopub.status.busy": "2023-05-15T07:56:34.638299Z",
     "iopub.status.idle": "2023-05-15T07:56:34.641399Z",
     "shell.execute_reply": "2023-05-15T07:56:34.641081Z"
    },
    "papermill": {
     "duration": 0.007312,
     "end_time": "2023-05-15T07:56:34.642168",
     "exception": false,
     "start_time": "2023-05-15T07:56:34.634856",
     "status": "completed"
    },
    "tags": []
   },
   "outputs": [],
   "source": [
    "dataset = dataset[dataset.obs[\"scDblFinder_class\"] == 1]"
   ]
  },
  {
   "cell_type": "code",
   "execution_count": null,
   "id": "3e22f9e0-bfcb-416c-a151-a9bca3bec3b9",
   "metadata": {
    "execution": {
     "iopub.execute_input": "2023-05-15T07:56:34.648831Z",
     "iopub.status.busy": "2023-05-15T07:56:34.648606Z",
     "iopub.status.idle": "2023-05-15T07:56:34.763929Z",
     "shell.execute_reply": "2023-05-15T07:56:34.763478Z"
    },
    "papermill": {
     "duration": 0.119785,
     "end_time": "2023-05-15T07:56:34.764860",
     "exception": false,
     "start_time": "2023-05-15T07:56:34.645075",
     "status": "completed"
    },
    "tags": []
   },
   "outputs": [],
   "source": [
    "# mitochondrial genes\n",
    "dataset.var[\"mt\"] = dataset.var_names.str.startswith(\"MT-\")\n",
    "# ribosomal genes\n",
    "dataset.var[\"ribo\"] = dataset.var_names.str.startswith((\"RPS\", \"RPL\"))\n",
    "# hemoglobin genes.\n",
    "dataset.var[\"hb\"] = dataset.var_names.str.contains((\"^HB[^(P)]\"))\n",
    "\n",
    "sc.pp.calculate_qc_metrics(dataset,\n",
    "                           qc_vars=['mt', 'ribo', 'hb'],\n",
    "                           percent_top=None,\n",
    "                           log1p=False,\n",
    "                           inplace=True)\n",
    "dataset"
   ]
  },
  {
   "cell_type": "code",
   "execution_count": null,
   "id": "34deee79-4043-428f-8575-aa57b45f6369",
   "metadata": {
    "execution": {
     "iopub.execute_input": "2023-05-15T07:56:34.772380Z",
     "iopub.status.busy": "2023-05-15T07:56:34.772193Z",
     "iopub.status.idle": "2023-05-15T07:56:35.205990Z",
     "shell.execute_reply": "2023-05-15T07:56:35.205624Z"
    },
    "papermill": {
     "duration": 0.438583,
     "end_time": "2023-05-15T07:56:35.207019",
     "exception": false,
     "start_time": "2023-05-15T07:56:34.768436",
     "status": "completed"
    },
    "tags": []
   },
   "outputs": [],
   "source": [
    "fig, ax = plt.subplots(ncols = 4, figsize = (16,4))\n",
    "axis = sc.pl.violin(dataset, \"n_genes_by_counts\", jitter = 0.4, ax = ax[0], show = False)\n",
    "axis.grid(False)\n",
    "axis.set_title(\"Unique Genes per cell\")\n",
    "axis.tick_params(axis = \"x\", bottom =False, labelbottom =False)\n",
    "axis.set_ylabel(\"# genes\")\n",
    "axis.axhline(y = 100, color = \"black\", label = \"cutoff\")\n",
    "axis.legend(fontsize = 14, loc = \"upper right\")\n",
    "\n",
    "axis = sc.pl.violin(dataset, \"pct_counts_mt\", jitter = 0.4, ax = ax[1], show = False)\n",
    "axis.grid(False)\n",
    "axis.set_title(\"Mitochondrial Fraction\")\n",
    "axis.tick_params(axis = \"x\", bottom =False, labelbottom =False)\n",
    "axis.set_ylabel(\"% mitochondrial genes\")\n",
    "axis.axhline(y = 10, color = \"black\", label = \"cutoff\")\n",
    "axis.legend(fontsize = 14, loc = \"upper right\")\n",
    "\n",
    "axis = sc.pl.violin(dataset, \"pct_counts_hb\", jitter = 0.4, ax = ax[2], show = False, size =2)\n",
    "axis.grid(False)\n",
    "axis.set_title(\"Hemoglobin Fraction\")\n",
    "axis.tick_params(axis = \"x\", bottom =False, labelbottom =False)\n",
    "axis.set_ylabel(\"% hemoglobin genes\")\n",
    "axis.axhline(y = 3, color = \"black\", label = \"cutoff\")\n",
    "axis.legend(fontsize = 14, loc = \"upper right\")\n",
    "#axis.set_ylim(0,5)\n",
    "\n",
    "axis = sc.pl.violin(dataset, \"pct_counts_ribo\", jitter = 0.4, ax = ax[3], show = False)\n",
    "axis.grid(False)\n",
    "axis.set_title(\"Ribosomal Fraction\")\n",
    "axis.tick_params(axis = \"x\", bottom =False, labelbottom =False)\n",
    "axis.set_ylabel(\"% ribosome genes\")\n",
    "\n",
    "plt.tight_layout()\n",
    "#plt.savefig(f\"{outputDir}08_gene_based_filtering.pdf\", dpi = 300)\n",
    "plt.show()\n",
    "\n"
   ]
  },
  {
   "cell_type": "code",
   "execution_count": null,
   "id": "d7ade754-843e-4840-8707-426613d8c0c5",
   "metadata": {
    "execution": {
     "iopub.execute_input": "2023-05-15T07:56:35.216554Z",
     "iopub.status.busy": "2023-05-15T07:56:35.216384Z",
     "iopub.status.idle": "2023-05-15T07:56:35.224906Z",
     "shell.execute_reply": "2023-05-15T07:56:35.224552Z"
    },
    "papermill": {
     "duration": 0.014035,
     "end_time": "2023-05-15T07:56:35.225698",
     "exception": false,
     "start_time": "2023-05-15T07:56:35.211663",
     "status": "completed"
    },
    "tags": []
   },
   "outputs": [],
   "source": [
    "dataset = dataset[dataset.obs.pct_counts_mt < 10, :]\n",
    "dataset = dataset[dataset.obs.n_genes_by_counts > 100, :]\n",
    "dataset = dataset[dataset.obs.pct_counts_hb < 3, :]\n",
    "dataset"
   ]
  },
  {
   "cell_type": "code",
   "execution_count": null,
   "id": "1941fa36-e865-4500-b586-f7a32d142c9b",
   "metadata": {
    "execution": {
     "iopub.execute_input": "2023-05-15T07:56:35.234895Z",
     "iopub.status.busy": "2023-05-15T07:56:35.234711Z",
     "iopub.status.idle": "2023-05-15T07:56:35.237677Z",
     "shell.execute_reply": "2023-05-15T07:56:35.237376Z"
    },
    "papermill": {
     "duration": 0.008485,
     "end_time": "2023-05-15T07:56:35.238461",
     "exception": false,
     "start_time": "2023-05-15T07:56:35.229976",
     "status": "completed"
    },
    "tags": []
   },
   "outputs": [],
   "source": [
    "metadata.columns"
   ]
  },
  {
   "cell_type": "code",
   "execution_count": null,
   "id": "2e0ff8c3-2aa9-4a01-9b88-5912a6734447",
   "metadata": {
    "execution": {
     "iopub.execute_input": "2023-05-15T07:56:35.247705Z",
     "iopub.status.busy": "2023-05-15T07:56:35.247549Z",
     "iopub.status.idle": "2023-05-15T07:56:35.279561Z",
     "shell.execute_reply": "2023-05-15T07:56:35.279080Z"
    },
    "papermill": {
     "duration": 0.037948,
     "end_time": "2023-05-15T07:56:35.280777",
     "exception": false,
     "start_time": "2023-05-15T07:56:35.242829",
     "status": "completed"
    },
    "tags": []
   },
   "outputs": [],
   "source": [
    "for col in metadata.columns:\n",
    "    dataset.obs[col] = metadata.loc[metadata[\"Run\"] == sample_name, col].to_list()[0]"
   ]
  },
  {
   "cell_type": "code",
   "execution_count": null,
   "id": "b84578d3-d63e-419c-a272-a0b8317d05ab",
   "metadata": {
    "execution": {
     "iopub.execute_input": "2023-05-15T07:56:35.290700Z",
     "iopub.status.busy": "2023-05-15T07:56:35.290496Z",
     "iopub.status.idle": "2023-05-15T07:56:35.577413Z",
     "shell.execute_reply": "2023-05-15T07:56:35.576950Z"
    },
    "papermill": {
     "duration": 0.293197,
     "end_time": "2023-05-15T07:56:35.578742",
     "exception": false,
     "start_time": "2023-05-15T07:56:35.285545",
     "status": "completed"
    },
    "tags": []
   },
   "outputs": [],
   "source": [
    "dataset.write(f\"../../int_data/{sample_name}_qc.h5ad\")"
   ]
  },
  {
   "cell_type": "code",
   "execution_count": null,
   "id": "501b33a0-432d-415f-ae82-50723484b85d",
   "metadata": {
    "execution": {
     "iopub.execute_input": "2023-05-15T07:56:35.588392Z",
     "iopub.status.busy": "2023-05-15T07:56:35.588202Z",
     "iopub.status.idle": "2023-05-15T07:56:35.591498Z",
     "shell.execute_reply": "2023-05-15T07:56:35.591169Z"
    },
    "papermill": {
     "duration": 0.008967,
     "end_time": "2023-05-15T07:56:35.592307",
     "exception": false,
     "start_time": "2023-05-15T07:56:35.583340",
     "status": "completed"
    },
    "tags": []
   },
   "outputs": [],
   "source": [
    "dataset"
   ]
  }
 ],
 "metadata": {
  "kernelspec": {
   "display_name": "py_R",
   "language": "python",
   "name": "python_r"
  },
  "language_info": {
   "codemirror_mode": {
    "name": "ipython",
    "version": 3
   },
   "file_extension": ".py",
   "mimetype": "text/x-python",
   "name": "python",
   "nbconvert_exporter": "python",
   "pygments_lexer": "ipython3",
   "version": "3.10.9"
  },
  "papermill": {
   "default_parameters": {},
   "duration": 88.124575,
   "end_time": "2023-05-15T07:56:37.014453",
   "environment_variables": {},
   "exception": null,
   "input_path": "template.ipynb",
   "output_path": "SRR13329161.ipynb",
   "parameters": {
    "sample_name": "SRR13329161"
   },
   "start_time": "2023-05-15T07:55:08.889878",
   "version": "2.4.0"
  }
 },
 "nbformat": 4,
 "nbformat_minor": 5
}
