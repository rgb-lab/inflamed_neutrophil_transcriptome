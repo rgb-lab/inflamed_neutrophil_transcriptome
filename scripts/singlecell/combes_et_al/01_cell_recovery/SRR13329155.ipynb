{
 "cells": [
  {
   "cell_type": "code",
   "execution_count": null,
   "id": "4c0f2fa8-5232-4f47-a7ec-6c9bbabe50e2",
   "metadata": {
    "execution": {
     "iopub.execute_input": "2023-05-15T07:58:30.706868Z",
     "iopub.status.busy": "2023-05-15T07:58:30.706720Z",
     "iopub.status.idle": "2023-05-15T07:58:30.710992Z",
     "shell.execute_reply": "2023-05-15T07:58:30.710678Z"
    },
    "papermill": {
     "duration": 0.009073,
     "end_time": "2023-05-15T07:58:30.711917",
     "exception": false,
     "start_time": "2023-05-15T07:58:30.702844",
     "status": "completed"
    },
    "tags": [
     "parameters"
    ]
   },
   "outputs": [],
   "source": [
    "sample_name = \"SRR13329143\""
   ]
  },
  {
   "cell_type": "code",
   "execution_count": null,
   "id": "842568c6",
   "metadata": {
    "execution": {
     "iopub.execute_input": "2023-05-15T07:58:30.717218Z",
     "iopub.status.busy": "2023-05-15T07:58:30.716937Z",
     "iopub.status.idle": "2023-05-15T07:58:30.718838Z",
     "shell.execute_reply": "2023-05-15T07:58:30.718548Z"
    },
    "papermill": {
     "duration": 0.005287,
     "end_time": "2023-05-15T07:58:30.719605",
     "exception": false,
     "start_time": "2023-05-15T07:58:30.714318",
     "status": "completed"
    },
    "tags": [
     "injected-parameters"
    ]
   },
   "outputs": [],
   "source": [
    "# Parameters\n",
    "sample_name = \"SRR13329155\"\n"
   ]
  },
  {
   "cell_type": "code",
   "execution_count": null,
   "id": "f87ed95b-2b67-4a5a-8fe2-47359b1dd2a9",
   "metadata": {
    "execution": {
     "iopub.execute_input": "2023-05-15T07:58:30.724745Z",
     "iopub.status.busy": "2023-05-15T07:58:30.724549Z",
     "iopub.status.idle": "2023-05-15T07:58:30.726644Z",
     "shell.execute_reply": "2023-05-15T07:58:30.726353Z"
    },
    "papermill": {
     "duration": 0.005578,
     "end_time": "2023-05-15T07:58:30.727411",
     "exception": false,
     "start_time": "2023-05-15T07:58:30.721833",
     "status": "completed"
    },
    "tags": []
   },
   "outputs": [],
   "source": [
    "import warnings\n",
    "warnings.simplefilter(action='ignore', category=FutureWarning)\n",
    "warnings.simplefilter(action='ignore', category=UserWarning)"
   ]
  },
  {
   "cell_type": "code",
   "execution_count": null,
   "id": "85161f19-b2c5-490b-8cab-c2cf9653b304",
   "metadata": {
    "execution": {
     "iopub.execute_input": "2023-05-15T07:58:30.732669Z",
     "iopub.status.busy": "2023-05-15T07:58:30.732413Z",
     "iopub.status.idle": "2023-05-15T07:58:34.765383Z",
     "shell.execute_reply": "2023-05-15T07:58:34.764980Z"
    },
    "papermill": {
     "duration": 4.036954,
     "end_time": "2023-05-15T07:58:34.766689",
     "exception": false,
     "start_time": "2023-05-15T07:58:30.729735",
     "status": "completed"
    },
    "tags": []
   },
   "outputs": [],
   "source": [
    "import gc\n",
    "import scanpy as sc\n",
    "import muon as mu\n",
    "import seaborn as sns\n",
    "import os\n",
    "import pandas as pd\n",
    "from matplotlib import pyplot as plt\n",
    "\n",
    "os.environ['R_HOME'] = '/gpfs/bwfor/work/ws/hd_fu399-conda/conda/envs/python_R/lib/R/'\n",
    "import anndata2ri\n",
    "import logging\n",
    "\n",
    "import rpy2.rinterface_lib.callbacks as rcb\n",
    "import rpy2.robjects as ro\n",
    "\n",
    "rcb.logger.setLevel(logging.ERROR)\n",
    "ro.pandas2ri.activate()\n",
    "anndata2ri.activate()\n",
    "\n",
    "%load_ext rpy2.ipython"
   ]
  },
  {
   "cell_type": "code",
   "execution_count": null,
   "id": "fc4ade78-b728-4704-9db6-45fbaab62ba1",
   "metadata": {
    "execution": {
     "iopub.execute_input": "2023-05-15T07:58:34.772721Z",
     "iopub.status.busy": "2023-05-15T07:58:34.772428Z",
     "iopub.status.idle": "2023-05-15T07:58:44.400396Z",
     "shell.execute_reply": "2023-05-15T07:58:44.399849Z"
    },
    "papermill": {
     "duration": 9.632329,
     "end_time": "2023-05-15T07:58:44.401825",
     "exception": false,
     "start_time": "2023-05-15T07:58:34.769496",
     "status": "completed"
    },
    "tags": []
   },
   "outputs": [],
   "source": [
    "%%R\n",
    "library(SoupX)\n",
    "library(Seurat)\n",
    "library(scater)\n",
    "library(scDblFinder)\n",
    "library(BiocParallel)\n",
    "library(MuDataSeurat)\n",
    "library(DropletUtils)"
   ]
  },
  {
   "cell_type": "code",
   "execution_count": null,
   "id": "f7424d90-7690-4290-8651-1db3f9df3a35",
   "metadata": {
    "execution": {
     "iopub.execute_input": "2023-05-15T07:58:44.409865Z",
     "iopub.status.busy": "2023-05-15T07:58:44.409687Z",
     "iopub.status.idle": "2023-05-15T07:58:44.415541Z",
     "shell.execute_reply": "2023-05-15T07:58:44.415209Z"
    },
    "papermill": {
     "duration": 0.010028,
     "end_time": "2023-05-15T07:58:44.416509",
     "exception": false,
     "start_time": "2023-05-15T07:58:44.406481",
     "status": "completed"
    },
    "tags": []
   },
   "outputs": [],
   "source": [
    "metadata = pd.read_csv(\"../../combes_metadata.txt\")"
   ]
  },
  {
   "cell_type": "code",
   "execution_count": null,
   "id": "2574ecf1-bad4-4c33-8f3f-718a358727ab",
   "metadata": {
    "execution": {
     "iopub.execute_input": "2023-05-15T07:58:44.422182Z",
     "iopub.status.busy": "2023-05-15T07:58:44.421879Z",
     "iopub.status.idle": "2023-05-15T07:58:44.424081Z",
     "shell.execute_reply": "2023-05-15T07:58:44.423788Z"
    },
    "papermill": {
     "duration": 0.005856,
     "end_time": "2023-05-15T07:58:44.424868",
     "exception": false,
     "start_time": "2023-05-15T07:58:44.419012",
     "status": "completed"
    },
    "tags": []
   },
   "outputs": [],
   "source": [
    "raw_input = f\"/home/hd/hd_hd/hd_fu399/sds-hd/sd21k006/scRNAseq/revision_natcomm/combes_et_al/fetchngs/results/fastq/{sample_name}/{sample_name}/outs/raw_feature_bc_matrix.h5\""
   ]
  },
  {
   "cell_type": "code",
   "execution_count": null,
   "id": "e266d388-1802-435c-93a5-90067358739c",
   "metadata": {
    "execution": {
     "iopub.execute_input": "2023-05-15T07:58:44.431100Z",
     "iopub.status.busy": "2023-05-15T07:58:44.430951Z",
     "iopub.status.idle": "2023-05-15T07:58:44.802478Z",
     "shell.execute_reply": "2023-05-15T07:58:44.802051Z"
    },
    "papermill": {
     "duration": 0.376013,
     "end_time": "2023-05-15T07:58:44.803404",
     "exception": false,
     "start_time": "2023-05-15T07:58:44.427391",
     "status": "completed"
    },
    "tags": []
   },
   "outputs": [],
   "source": [
    "dataset = sc.read_10x_h5(raw_input)\n",
    "dataset.var_names_make_unique()\n",
    "dataset.obs_names_make_unique()\n",
    "\n",
    "dataset.layers[\"raw_counts\"] = dataset.X.copy()\n",
    "data_tod = dataset.layers[\"raw_counts\"].T.copy()\n",
    "\n",
    "dataset"
   ]
  },
  {
   "cell_type": "code",
   "execution_count": null,
   "id": "af9f5892-ed31-42a6-991b-4e096f582cef",
   "metadata": {
    "execution": {
     "iopub.execute_input": "2023-05-15T07:58:44.809666Z",
     "iopub.status.busy": "2023-05-15T07:58:44.809479Z",
     "iopub.status.idle": "2023-05-15T07:58:44.839515Z",
     "shell.execute_reply": "2023-05-15T07:58:44.839058Z"
    },
    "papermill": {
     "duration": 0.034467,
     "end_time": "2023-05-15T07:58:44.840826",
     "exception": false,
     "start_time": "2023-05-15T07:58:44.806359",
     "status": "completed"
    },
    "tags": []
   },
   "outputs": [],
   "source": [
    "sce = dataset.copy()"
   ]
  },
  {
   "cell_type": "code",
   "execution_count": null,
   "id": "d03f2caf-8e74-430e-b045-0ab80401d165",
   "metadata": {
    "execution": {
     "iopub.execute_input": "2023-05-15T07:58:44.847124Z",
     "iopub.status.busy": "2023-05-15T07:58:44.846970Z",
     "iopub.status.idle": "2023-05-15T07:59:37.486682Z",
     "shell.execute_reply": "2023-05-15T07:59:37.486059Z"
    },
    "papermill": {
     "duration": 52.644285,
     "end_time": "2023-05-15T07:59:37.488074",
     "exception": false,
     "start_time": "2023-05-15T07:58:44.843789",
     "status": "completed"
    },
    "tags": []
   },
   "outputs": [],
   "source": [
    "%%R -i sce -o empty_drop_output\n",
    "set.seed(187)\n",
    "empty_drop_output <- emptyDrops(assay(sce))"
   ]
  },
  {
   "cell_type": "code",
   "execution_count": null,
   "id": "2a34a54b-3ae2-44d6-8679-8769228c5b66",
   "metadata": {
    "execution": {
     "iopub.execute_input": "2023-05-15T07:59:37.497077Z",
     "iopub.status.busy": "2023-05-15T07:59:37.496914Z",
     "iopub.status.idle": "2023-05-15T07:59:37.519059Z",
     "shell.execute_reply": "2023-05-15T07:59:37.518739Z"
    },
    "papermill": {
     "duration": 0.026989,
     "end_time": "2023-05-15T07:59:37.519874",
     "exception": false,
     "start_time": "2023-05-15T07:59:37.492885",
     "status": "completed"
    },
    "tags": []
   },
   "outputs": [],
   "source": [
    "non_empty_barcodes = empty_drop_output[empty_drop_output[\"FDR\"] < 0.001].index\n",
    "dataset = dataset[dataset.obs.index.isin(non_empty_barcodes), :]\n",
    "dataset"
   ]
  },
  {
   "cell_type": "code",
   "execution_count": null,
   "id": "016a91e5-1bef-46fb-b91e-4fb9a6870c44",
   "metadata": {
    "execution": {
     "iopub.execute_input": "2023-05-15T07:59:37.526144Z",
     "iopub.status.busy": "2023-05-15T07:59:37.525982Z",
     "iopub.status.idle": "2023-05-15T07:59:40.165987Z",
     "shell.execute_reply": "2023-05-15T07:59:40.165499Z"
    },
    "papermill": {
     "duration": 2.644656,
     "end_time": "2023-05-15T07:59:40.167300",
     "exception": false,
     "start_time": "2023-05-15T07:59:37.522644",
     "status": "completed"
    },
    "tags": []
   },
   "outputs": [],
   "source": [
    "rna_assay = dataset.copy()\n",
    "sc.pp.normalize_per_cell(rna_assay)\n",
    "sc.pp.log1p(rna_assay)\n",
    "sc.pp.pca(rna_assay)\n",
    "sc.pp.neighbors(rna_assay)\n",
    "sc.tl.leiden(rna_assay, key_added=\"soupx_groups\")\n",
    "\n",
    "soupx_groups = rna_assay.obs[\"soupx_groups\"]\n",
    "\n",
    "del rna_assay\n",
    "\n",
    "genes = dataset.var_names\n",
    "cells = dataset.obs_names\n",
    "data = dataset.X.T.copy()"
   ]
  },
  {
   "cell_type": "code",
   "execution_count": null,
   "id": "9db4ea1f-1580-4f43-a3f0-86002397cd98",
   "metadata": {
    "execution": {
     "iopub.execute_input": "2023-05-15T07:59:40.174204Z",
     "iopub.status.busy": "2023-05-15T07:59:40.174021Z",
     "iopub.status.idle": "2023-05-15T07:59:47.095207Z",
     "shell.execute_reply": "2023-05-15T07:59:47.094691Z"
    },
    "papermill": {
     "duration": 6.925921,
     "end_time": "2023-05-15T07:59:47.096520",
     "exception": false,
     "start_time": "2023-05-15T07:59:40.170599",
     "status": "completed"
    },
    "tags": []
   },
   "outputs": [],
   "source": [
    "%%R -i data -i data_tod -i genes -i cells -i soupx_groups -o out \n",
    "set.seed(187)\n",
    "# specify row and column names of data\n",
    "rownames(data) = genes\n",
    "colnames(data) = cells\n",
    "# ensure correct sparse format for table of counts and table of droplets\n",
    "data <- as(data, \"sparseMatrix\")\n",
    "data_tod <- as(data_tod, \"sparseMatrix\")\n",
    "\n",
    "# Generate SoupChannel Object for SoupX \n",
    "sc = SoupChannel(data_tod, data, calcSoupProfile = FALSE)\n",
    "\n",
    "# Add extra meta data to the SoupChannel object\n",
    "soupProf = data.frame(row.names = rownames(data),\n",
    "                      est = rowSums(data)/sum(data),\n",
    "                      counts = rowSums(data))\n",
    "sc = setSoupProfile(sc, soupProf)\n",
    "# Set cluster information in SoupChannel\n",
    "sc = setClusters(sc, soupx_groups)\n",
    "\n",
    "# Estimate contamination fraction\n",
    "sc  = autoEstCont(sc, doPlot=FALSE, forceAccept = TRUE)\n",
    "# Infer corrected table of counts and rount to integer\n",
    "out = adjustCounts(sc, roundToInt = TRUE)"
   ]
  },
  {
   "cell_type": "code",
   "execution_count": null,
   "id": "32555d5e-5fa3-46dd-a4e0-ddc96ea265e2",
   "metadata": {
    "execution": {
     "iopub.execute_input": "2023-05-15T07:59:47.106551Z",
     "iopub.status.busy": "2023-05-15T07:59:47.106263Z",
     "iopub.status.idle": "2023-05-15T07:59:47.121992Z",
     "shell.execute_reply": "2023-05-15T07:59:47.121569Z"
    },
    "papermill": {
     "duration": 0.021374,
     "end_time": "2023-05-15T07:59:47.123149",
     "exception": false,
     "start_time": "2023-05-15T07:59:47.101775",
     "status": "completed"
    },
    "tags": []
   },
   "outputs": [],
   "source": [
    "dataset.layers[\"soupX_counts\"] = out.T\n",
    "dataset.X = dataset.layers[\"soupX_counts\"].copy()"
   ]
  },
  {
   "cell_type": "code",
   "execution_count": null,
   "id": "e27da7df-e094-4d2a-9109-5a363e012175",
   "metadata": {
    "execution": {
     "iopub.execute_input": "2023-05-15T07:59:47.130152Z",
     "iopub.status.busy": "2023-05-15T07:59:47.129958Z",
     "iopub.status.idle": "2023-05-15T07:59:47.132167Z",
     "shell.execute_reply": "2023-05-15T07:59:47.131864Z"
    },
    "papermill": {
     "duration": 0.006449,
     "end_time": "2023-05-15T07:59:47.132955",
     "exception": false,
     "start_time": "2023-05-15T07:59:47.126506",
     "status": "completed"
    },
    "tags": []
   },
   "outputs": [],
   "source": [
    "data_mat = dataset.X.T"
   ]
  },
  {
   "cell_type": "code",
   "execution_count": null,
   "id": "80a993b1-5ccb-4697-9187-1beb7ab8aff9",
   "metadata": {
    "execution": {
     "iopub.execute_input": "2023-05-15T07:59:47.139331Z",
     "iopub.status.busy": "2023-05-15T07:59:47.139173Z",
     "iopub.status.idle": "2023-05-15T07:59:57.151067Z",
     "shell.execute_reply": "2023-05-15T07:59:57.150444Z"
    },
    "papermill": {
     "duration": 10.016431,
     "end_time": "2023-05-15T07:59:57.152264",
     "exception": false,
     "start_time": "2023-05-15T07:59:47.135833",
     "status": "completed"
    },
    "tags": []
   },
   "outputs": [],
   "source": [
    "%%R -i data_mat -o droplet_class\n",
    "\n",
    "set.seed(187)\n",
    "sce = scDblFinder(\n",
    "    SingleCellExperiment(\n",
    "        list(counts=data_mat),\n",
    "    ) \n",
    ")\n",
    "droplet_class = sce$scDblFinder.class"
   ]
  },
  {
   "cell_type": "code",
   "execution_count": null,
   "id": "d4dd6e9d-fcf2-41fc-8457-c8e0a3cb2c71",
   "metadata": {
    "execution": {
     "iopub.execute_input": "2023-05-15T07:59:57.174764Z",
     "iopub.status.busy": "2023-05-15T07:59:57.174529Z",
     "iopub.status.idle": "2023-05-15T07:59:57.179654Z",
     "shell.execute_reply": "2023-05-15T07:59:57.179327Z"
    },
    "papermill": {
     "duration": 0.009653,
     "end_time": "2023-05-15T07:59:57.180462",
     "exception": false,
     "start_time": "2023-05-15T07:59:57.170809",
     "status": "completed"
    },
    "tags": []
   },
   "outputs": [],
   "source": [
    "dataset.obs[\"scDblFinder_class\"] = droplet_class\n",
    "dataset.obs.scDblFinder_class.value_counts()\n",
    "dataset"
   ]
  },
  {
   "cell_type": "code",
   "execution_count": null,
   "id": "28c95014-2d6c-477f-95cb-9f9f0507520c",
   "metadata": {
    "execution": {
     "iopub.execute_input": "2023-05-15T07:59:57.187028Z",
     "iopub.status.busy": "2023-05-15T07:59:57.186739Z",
     "iopub.status.idle": "2023-05-15T07:59:57.194610Z",
     "shell.execute_reply": "2023-05-15T07:59:57.194276Z"
    },
    "papermill": {
     "duration": 0.012039,
     "end_time": "2023-05-15T07:59:57.195424",
     "exception": false,
     "start_time": "2023-05-15T07:59:57.183385",
     "status": "completed"
    },
    "tags": []
   },
   "outputs": [],
   "source": [
    "dataset = dataset[dataset.obs[\"scDblFinder_class\"] == 1]"
   ]
  },
  {
   "cell_type": "code",
   "execution_count": null,
   "id": "3e22f9e0-bfcb-416c-a151-a9bca3bec3b9",
   "metadata": {
    "execution": {
     "iopub.execute_input": "2023-05-15T07:59:57.202322Z",
     "iopub.status.busy": "2023-05-15T07:59:57.202045Z",
     "iopub.status.idle": "2023-05-15T07:59:57.286325Z",
     "shell.execute_reply": "2023-05-15T07:59:57.285882Z"
    },
    "papermill": {
     "duration": 0.088768,
     "end_time": "2023-05-15T07:59:57.287251",
     "exception": false,
     "start_time": "2023-05-15T07:59:57.198483",
     "status": "completed"
    },
    "tags": []
   },
   "outputs": [],
   "source": [
    "# mitochondrial genes\n",
    "dataset.var[\"mt\"] = dataset.var_names.str.startswith(\"MT-\")\n",
    "# ribosomal genes\n",
    "dataset.var[\"ribo\"] = dataset.var_names.str.startswith((\"RPS\", \"RPL\"))\n",
    "# hemoglobin genes.\n",
    "dataset.var[\"hb\"] = dataset.var_names.str.contains((\"^HB[^(P)]\"))\n",
    "\n",
    "sc.pp.calculate_qc_metrics(dataset,\n",
    "                           qc_vars=['mt', 'ribo', 'hb'],\n",
    "                           percent_top=None,\n",
    "                           log1p=False,\n",
    "                           inplace=True)\n",
    "dataset"
   ]
  },
  {
   "cell_type": "code",
   "execution_count": null,
   "id": "34deee79-4043-428f-8575-aa57b45f6369",
   "metadata": {
    "execution": {
     "iopub.execute_input": "2023-05-15T07:59:57.294600Z",
     "iopub.status.busy": "2023-05-15T07:59:57.294383Z",
     "iopub.status.idle": "2023-05-15T07:59:57.724110Z",
     "shell.execute_reply": "2023-05-15T07:59:57.723677Z"
    },
    "papermill": {
     "duration": 0.434306,
     "end_time": "2023-05-15T07:59:57.725030",
     "exception": false,
     "start_time": "2023-05-15T07:59:57.290724",
     "status": "completed"
    },
    "tags": []
   },
   "outputs": [],
   "source": [
    "fig, ax = plt.subplots(ncols = 4, figsize = (16,4))\n",
    "axis = sc.pl.violin(dataset, \"n_genes_by_counts\", jitter = 0.4, ax = ax[0], show = False)\n",
    "axis.grid(False)\n",
    "axis.set_title(\"Unique Genes per cell\")\n",
    "axis.tick_params(axis = \"x\", bottom =False, labelbottom =False)\n",
    "axis.set_ylabel(\"# genes\")\n",
    "axis.axhline(y = 100, color = \"black\", label = \"cutoff\")\n",
    "axis.legend(fontsize = 14, loc = \"upper right\")\n",
    "\n",
    "axis = sc.pl.violin(dataset, \"pct_counts_mt\", jitter = 0.4, ax = ax[1], show = False)\n",
    "axis.grid(False)\n",
    "axis.set_title(\"Mitochondrial Fraction\")\n",
    "axis.tick_params(axis = \"x\", bottom =False, labelbottom =False)\n",
    "axis.set_ylabel(\"% mitochondrial genes\")\n",
    "axis.axhline(y = 10, color = \"black\", label = \"cutoff\")\n",
    "axis.legend(fontsize = 14, loc = \"upper right\")\n",
    "\n",
    "axis = sc.pl.violin(dataset, \"pct_counts_hb\", jitter = 0.4, ax = ax[2], show = False, size =2)\n",
    "axis.grid(False)\n",
    "axis.set_title(\"Hemoglobin Fraction\")\n",
    "axis.tick_params(axis = \"x\", bottom =False, labelbottom =False)\n",
    "axis.set_ylabel(\"% hemoglobin genes\")\n",
    "axis.axhline(y = 3, color = \"black\", label = \"cutoff\")\n",
    "axis.legend(fontsize = 14, loc = \"upper right\")\n",
    "#axis.set_ylim(0,5)\n",
    "\n",
    "axis = sc.pl.violin(dataset, \"pct_counts_ribo\", jitter = 0.4, ax = ax[3], show = False)\n",
    "axis.grid(False)\n",
    "axis.set_title(\"Ribosomal Fraction\")\n",
    "axis.tick_params(axis = \"x\", bottom =False, labelbottom =False)\n",
    "axis.set_ylabel(\"% ribosome genes\")\n",
    "\n",
    "plt.tight_layout()\n",
    "#plt.savefig(f\"{outputDir}08_gene_based_filtering.pdf\", dpi = 300)\n",
    "plt.show()\n",
    "\n"
   ]
  },
  {
   "cell_type": "code",
   "execution_count": null,
   "id": "d7ade754-843e-4840-8707-426613d8c0c5",
   "metadata": {
    "execution": {
     "iopub.execute_input": "2023-05-15T07:59:57.758070Z",
     "iopub.status.busy": "2023-05-15T07:59:57.757766Z",
     "iopub.status.idle": "2023-05-15T07:59:57.766292Z",
     "shell.execute_reply": "2023-05-15T07:59:57.765982Z"
    },
    "papermill": {
     "duration": 0.014717,
     "end_time": "2023-05-15T07:59:57.767095",
     "exception": false,
     "start_time": "2023-05-15T07:59:57.752378",
     "status": "completed"
    },
    "tags": []
   },
   "outputs": [],
   "source": [
    "dataset = dataset[dataset.obs.pct_counts_mt < 10, :]\n",
    "dataset = dataset[dataset.obs.n_genes_by_counts > 100, :]\n",
    "dataset = dataset[dataset.obs.pct_counts_hb < 3, :]\n",
    "dataset"
   ]
  },
  {
   "cell_type": "code",
   "execution_count": null,
   "id": "1941fa36-e865-4500-b586-f7a32d142c9b",
   "metadata": {
    "execution": {
     "iopub.execute_input": "2023-05-15T07:59:57.776199Z",
     "iopub.status.busy": "2023-05-15T07:59:57.776014Z",
     "iopub.status.idle": "2023-05-15T07:59:57.778893Z",
     "shell.execute_reply": "2023-05-15T07:59:57.778605Z"
    },
    "papermill": {
     "duration": 0.008306,
     "end_time": "2023-05-15T07:59:57.779686",
     "exception": false,
     "start_time": "2023-05-15T07:59:57.771380",
     "status": "completed"
    },
    "tags": []
   },
   "outputs": [],
   "source": [
    "metadata.columns"
   ]
  },
  {
   "cell_type": "code",
   "execution_count": null,
   "id": "2e0ff8c3-2aa9-4a01-9b88-5912a6734447",
   "metadata": {
    "execution": {
     "iopub.execute_input": "2023-05-15T07:59:57.789234Z",
     "iopub.status.busy": "2023-05-15T07:59:57.789086Z",
     "iopub.status.idle": "2023-05-15T07:59:57.815788Z",
     "shell.execute_reply": "2023-05-15T07:59:57.815347Z"
    },
    "papermill": {
     "duration": 0.033063,
     "end_time": "2023-05-15T07:59:57.817033",
     "exception": false,
     "start_time": "2023-05-15T07:59:57.783970",
     "status": "completed"
    },
    "tags": []
   },
   "outputs": [],
   "source": [
    "for col in metadata.columns:\n",
    "    dataset.obs[col] = metadata.loc[metadata[\"Run\"] == sample_name, col].to_list()[0]"
   ]
  },
  {
   "cell_type": "code",
   "execution_count": null,
   "id": "b84578d3-d63e-419c-a272-a0b8317d05ab",
   "metadata": {
    "execution": {
     "iopub.execute_input": "2023-05-15T07:59:57.826742Z",
     "iopub.status.busy": "2023-05-15T07:59:57.826557Z",
     "iopub.status.idle": "2023-05-15T07:59:58.096640Z",
     "shell.execute_reply": "2023-05-15T07:59:58.096152Z"
    },
    "papermill": {
     "duration": 0.276387,
     "end_time": "2023-05-15T07:59:58.098005",
     "exception": false,
     "start_time": "2023-05-15T07:59:57.821618",
     "status": "completed"
    },
    "tags": []
   },
   "outputs": [],
   "source": [
    "dataset.write(f\"../../int_data/{sample_name}_qc.h5ad\")"
   ]
  },
  {
   "cell_type": "code",
   "execution_count": null,
   "id": "501b33a0-432d-415f-ae82-50723484b85d",
   "metadata": {
    "execution": {
     "iopub.execute_input": "2023-05-15T07:59:58.107952Z",
     "iopub.status.busy": "2023-05-15T07:59:58.107787Z",
     "iopub.status.idle": "2023-05-15T07:59:58.110748Z",
     "shell.execute_reply": "2023-05-15T07:59:58.110446Z"
    },
    "papermill": {
     "duration": 0.008739,
     "end_time": "2023-05-15T07:59:58.111568",
     "exception": false,
     "start_time": "2023-05-15T07:59:58.102829",
     "status": "completed"
    },
    "tags": []
   },
   "outputs": [],
   "source": [
    "dataset"
   ]
  }
 ],
 "metadata": {
  "kernelspec": {
   "display_name": "py_R",
   "language": "python",
   "name": "python_r"
  },
  "language_info": {
   "codemirror_mode": {
    "name": "ipython",
    "version": 3
   },
   "file_extension": ".py",
   "mimetype": "text/x-python",
   "name": "python",
   "nbconvert_exporter": "python",
   "pygments_lexer": "ipython3",
   "version": "3.10.9"
  },
  "papermill": {
   "default_parameters": {},
   "duration": 89.677989,
   "end_time": "2023-05-15T07:59:59.534650",
   "environment_variables": {},
   "exception": null,
   "input_path": "template.ipynb",
   "output_path": "SRR13329155.ipynb",
   "parameters": {
    "sample_name": "SRR13329155"
   },
   "start_time": "2023-05-15T07:58:29.856661",
   "version": "2.4.0"
  }
 },
 "nbformat": 4,
 "nbformat_minor": 5
}
