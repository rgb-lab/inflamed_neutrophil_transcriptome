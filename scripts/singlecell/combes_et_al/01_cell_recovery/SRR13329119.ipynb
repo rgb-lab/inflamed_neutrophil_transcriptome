{
 "cells": [
  {
   "cell_type": "code",
   "execution_count": null,
   "id": "4c0f2fa8-5232-4f47-a7ec-6c9bbabe50e2",
   "metadata": {
    "execution": {
     "iopub.execute_input": "2023-05-15T09:35:28.764186Z",
     "iopub.status.busy": "2023-05-15T09:35:28.764023Z",
     "iopub.status.idle": "2023-05-15T09:35:28.768584Z",
     "shell.execute_reply": "2023-05-15T09:35:28.768276Z"
    },
    "papermill": {
     "duration": 0.009022,
     "end_time": "2023-05-15T09:35:28.769399",
     "exception": false,
     "start_time": "2023-05-15T09:35:28.760377",
     "status": "completed"
    },
    "tags": [
     "parameters"
    ]
   },
   "outputs": [],
   "source": [
    "sample_name = \"SRR13329143\""
   ]
  },
  {
   "cell_type": "code",
   "execution_count": null,
   "id": "bb7f30b9",
   "metadata": {
    "execution": {
     "iopub.execute_input": "2023-05-15T09:35:28.774722Z",
     "iopub.status.busy": "2023-05-15T09:35:28.774402Z",
     "iopub.status.idle": "2023-05-15T09:35:28.776356Z",
     "shell.execute_reply": "2023-05-15T09:35:28.776062Z"
    },
    "papermill": {
     "duration": 0.00532,
     "end_time": "2023-05-15T09:35:28.777104",
     "exception": false,
     "start_time": "2023-05-15T09:35:28.771784",
     "status": "completed"
    },
    "tags": [
     "injected-parameters"
    ]
   },
   "outputs": [],
   "source": [
    "# Parameters\n",
    "sample_name = \"SRR13329119\"\n"
   ]
  },
  {
   "cell_type": "code",
   "execution_count": null,
   "id": "f87ed95b-2b67-4a5a-8fe2-47359b1dd2a9",
   "metadata": {
    "execution": {
     "iopub.execute_input": "2023-05-15T09:35:28.782045Z",
     "iopub.status.busy": "2023-05-15T09:35:28.781875Z",
     "iopub.status.idle": "2023-05-15T09:35:28.784061Z",
     "shell.execute_reply": "2023-05-15T09:35:28.783775Z"
    },
    "papermill": {
     "duration": 0.005569,
     "end_time": "2023-05-15T09:35:28.784812",
     "exception": false,
     "start_time": "2023-05-15T09:35:28.779243",
     "status": "completed"
    },
    "tags": []
   },
   "outputs": [],
   "source": [
    "import warnings\n",
    "warnings.simplefilter(action='ignore', category=FutureWarning)\n",
    "warnings.simplefilter(action='ignore', category=UserWarning)"
   ]
  },
  {
   "cell_type": "code",
   "execution_count": null,
   "id": "85161f19-b2c5-490b-8cab-c2cf9653b304",
   "metadata": {
    "execution": {
     "iopub.execute_input": "2023-05-15T09:35:28.789765Z",
     "iopub.status.busy": "2023-05-15T09:35:28.789606Z",
     "iopub.status.idle": "2023-05-15T09:35:33.658039Z",
     "shell.execute_reply": "2023-05-15T09:35:33.657573Z"
    },
    "papermill": {
     "duration": 4.872266,
     "end_time": "2023-05-15T09:35:33.659303",
     "exception": false,
     "start_time": "2023-05-15T09:35:28.787037",
     "status": "completed"
    },
    "tags": []
   },
   "outputs": [],
   "source": [
    "import gc\n",
    "import scanpy as sc\n",
    "import muon as mu\n",
    "import seaborn as sns\n",
    "import os\n",
    "import pandas as pd\n",
    "from matplotlib import pyplot as plt\n",
    "\n",
    "os.environ['R_HOME'] = '/gpfs/bwfor/work/ws/hd_fu399-conda/conda/envs/python_R/lib/R/'\n",
    "import anndata2ri\n",
    "import logging\n",
    "\n",
    "import rpy2.rinterface_lib.callbacks as rcb\n",
    "import rpy2.robjects as ro\n",
    "\n",
    "rcb.logger.setLevel(logging.ERROR)\n",
    "ro.pandas2ri.activate()\n",
    "anndata2ri.activate()\n",
    "\n",
    "%load_ext rpy2.ipython"
   ]
  },
  {
   "cell_type": "code",
   "execution_count": null,
   "id": "fc4ade78-b728-4704-9db6-45fbaab62ba1",
   "metadata": {
    "execution": {
     "iopub.execute_input": "2023-05-15T09:35:33.665639Z",
     "iopub.status.busy": "2023-05-15T09:35:33.665335Z",
     "iopub.status.idle": "2023-05-15T09:35:45.278523Z",
     "shell.execute_reply": "2023-05-15T09:35:45.277988Z"
    },
    "papermill": {
     "duration": 11.617431,
     "end_time": "2023-05-15T09:35:45.279859",
     "exception": false,
     "start_time": "2023-05-15T09:35:33.662428",
     "status": "completed"
    },
    "tags": []
   },
   "outputs": [],
   "source": [
    "%%R\n",
    "library(SoupX)\n",
    "library(Seurat)\n",
    "library(scater)\n",
    "library(scDblFinder)\n",
    "library(BiocParallel)\n",
    "library(MuDataSeurat)\n",
    "library(DropletUtils)"
   ]
  },
  {
   "cell_type": "code",
   "execution_count": null,
   "id": "f7424d90-7690-4290-8651-1db3f9df3a35",
   "metadata": {
    "execution": {
     "iopub.execute_input": "2023-05-15T09:35:45.287766Z",
     "iopub.status.busy": "2023-05-15T09:35:45.287562Z",
     "iopub.status.idle": "2023-05-15T09:35:45.293313Z",
     "shell.execute_reply": "2023-05-15T09:35:45.292996Z"
    },
    "papermill": {
     "duration": 0.009469,
     "end_time": "2023-05-15T09:35:45.294083",
     "exception": false,
     "start_time": "2023-05-15T09:35:45.284614",
     "status": "completed"
    },
    "tags": []
   },
   "outputs": [],
   "source": [
    "metadata = pd.read_csv(\"../../combes_metadata.txt\")"
   ]
  },
  {
   "cell_type": "code",
   "execution_count": null,
   "id": "2574ecf1-bad4-4c33-8f3f-718a358727ab",
   "metadata": {
    "execution": {
     "iopub.execute_input": "2023-05-15T09:35:45.299285Z",
     "iopub.status.busy": "2023-05-15T09:35:45.299049Z",
     "iopub.status.idle": "2023-05-15T09:35:45.307289Z",
     "shell.execute_reply": "2023-05-15T09:35:45.306987Z"
    },
    "papermill": {
     "duration": 0.011663,
     "end_time": "2023-05-15T09:35:45.308047",
     "exception": false,
     "start_time": "2023-05-15T09:35:45.296384",
     "status": "completed"
    },
    "tags": []
   },
   "outputs": [],
   "source": [
    "raw_input = f\"/home/hd/hd_hd/hd_fu399/sds-hd/sd21k006/scRNAseq/revision_natcomm/combes_et_al/fetchngs/results/fastq/{sample_name}/{sample_name}/outs/raw_feature_bc_matrix.h5\""
   ]
  },
  {
   "cell_type": "code",
   "execution_count": null,
   "id": "e266d388-1802-435c-93a5-90067358739c",
   "metadata": {
    "execution": {
     "iopub.execute_input": "2023-05-15T09:35:45.313309Z",
     "iopub.status.busy": "2023-05-15T09:35:45.313131Z",
     "iopub.status.idle": "2023-05-15T09:35:45.882435Z",
     "shell.execute_reply": "2023-05-15T09:35:45.882002Z"
    },
    "papermill": {
     "duration": 0.573019,
     "end_time": "2023-05-15T09:35:45.883361",
     "exception": false,
     "start_time": "2023-05-15T09:35:45.310342",
     "status": "completed"
    },
    "tags": []
   },
   "outputs": [],
   "source": [
    "dataset = sc.read_10x_h5(raw_input)\n",
    "dataset.var_names_make_unique()\n",
    "dataset.obs_names_make_unique()\n",
    "\n",
    "dataset.layers[\"raw_counts\"] = dataset.X.copy()\n",
    "data_tod = dataset.layers[\"raw_counts\"].T.copy()\n",
    "\n",
    "dataset"
   ]
  },
  {
   "cell_type": "code",
   "execution_count": null,
   "id": "af9f5892-ed31-42a6-991b-4e096f582cef",
   "metadata": {
    "execution": {
     "iopub.execute_input": "2023-05-15T09:35:45.889765Z",
     "iopub.status.busy": "2023-05-15T09:35:45.889582Z",
     "iopub.status.idle": "2023-05-15T09:35:45.936432Z",
     "shell.execute_reply": "2023-05-15T09:35:45.935964Z"
    },
    "papermill": {
     "duration": 0.051153,
     "end_time": "2023-05-15T09:35:45.937722",
     "exception": false,
     "start_time": "2023-05-15T09:35:45.886569",
     "status": "completed"
    },
    "tags": []
   },
   "outputs": [],
   "source": [
    "sce = dataset.copy()"
   ]
  },
  {
   "cell_type": "code",
   "execution_count": null,
   "id": "d03f2caf-8e74-430e-b045-0ab80401d165",
   "metadata": {
    "execution": {
     "iopub.execute_input": "2023-05-15T09:35:45.943979Z",
     "iopub.status.busy": "2023-05-15T09:35:45.943843Z",
     "iopub.status.idle": "2023-05-15T09:36:47.957812Z",
     "shell.execute_reply": "2023-05-15T09:36:47.957204Z"
    },
    "papermill": {
     "duration": 62.018314,
     "end_time": "2023-05-15T09:36:47.959171",
     "exception": false,
     "start_time": "2023-05-15T09:35:45.940857",
     "status": "completed"
    },
    "tags": []
   },
   "outputs": [],
   "source": [
    "%%R -i sce -o empty_drop_output\n",
    "set.seed(187)\n",
    "empty_drop_output <- emptyDrops(assay(sce))"
   ]
  },
  {
   "cell_type": "code",
   "execution_count": null,
   "id": "2a34a54b-3ae2-44d6-8679-8769228c5b66",
   "metadata": {
    "execution": {
     "iopub.execute_input": "2023-05-15T09:36:47.968145Z",
     "iopub.status.busy": "2023-05-15T09:36:47.967925Z",
     "iopub.status.idle": "2023-05-15T09:36:48.005632Z",
     "shell.execute_reply": "2023-05-15T09:36:48.005231Z"
    },
    "papermill": {
     "duration": 0.041866,
     "end_time": "2023-05-15T09:36:48.006500",
     "exception": false,
     "start_time": "2023-05-15T09:36:47.964634",
     "status": "completed"
    },
    "tags": []
   },
   "outputs": [],
   "source": [
    "non_empty_barcodes = empty_drop_output[empty_drop_output[\"FDR\"] < 0.001].index\n",
    "dataset = dataset[dataset.obs.index.isin(non_empty_barcodes), :]\n",
    "dataset"
   ]
  },
  {
   "cell_type": "code",
   "execution_count": null,
   "id": "016a91e5-1bef-46fb-b91e-4fb9a6870c44",
   "metadata": {
    "execution": {
     "iopub.execute_input": "2023-05-15T09:36:48.013884Z",
     "iopub.status.busy": "2023-05-15T09:36:48.013728Z",
     "iopub.status.idle": "2023-05-15T09:38:09.855309Z",
     "shell.execute_reply": "2023-05-15T09:38:09.854754Z"
    },
    "papermill": {
     "duration": 81.847002,
     "end_time": "2023-05-15T09:38:09.856667",
     "exception": false,
     "start_time": "2023-05-15T09:36:48.009665",
     "status": "completed"
    },
    "tags": []
   },
   "outputs": [],
   "source": [
    "rna_assay = dataset.copy()\n",
    "sc.pp.normalize_per_cell(rna_assay)\n",
    "sc.pp.log1p(rna_assay)\n",
    "sc.pp.pca(rna_assay)\n",
    "sc.pp.neighbors(rna_assay)\n",
    "sc.tl.leiden(rna_assay, key_added=\"soupx_groups\")\n",
    "\n",
    "soupx_groups = rna_assay.obs[\"soupx_groups\"]\n",
    "\n",
    "del rna_assay\n",
    "\n",
    "genes = dataset.var_names\n",
    "cells = dataset.obs_names\n",
    "data = dataset.X.T.copy()"
   ]
  },
  {
   "cell_type": "code",
   "execution_count": null,
   "id": "9db4ea1f-1580-4f43-a3f0-86002397cd98",
   "metadata": {
    "execution": {
     "iopub.execute_input": "2023-05-15T09:38:09.865660Z",
     "iopub.status.busy": "2023-05-15T09:38:09.865467Z",
     "iopub.status.idle": "2023-05-15T09:38:23.076517Z",
     "shell.execute_reply": "2023-05-15T09:38:23.075919Z"
    },
    "papermill": {
     "duration": 13.215718,
     "end_time": "2023-05-15T09:38:23.077945",
     "exception": false,
     "start_time": "2023-05-15T09:38:09.862227",
     "status": "completed"
    },
    "tags": []
   },
   "outputs": [],
   "source": [
    "%%R -i data -i data_tod -i genes -i cells -i soupx_groups -o out \n",
    "set.seed(187)\n",
    "# specify row and column names of data\n",
    "rownames(data) = genes\n",
    "colnames(data) = cells\n",
    "# ensure correct sparse format for table of counts and table of droplets\n",
    "data <- as(data, \"sparseMatrix\")\n",
    "data_tod <- as(data_tod, \"sparseMatrix\")\n",
    "\n",
    "# Generate SoupChannel Object for SoupX \n",
    "sc = SoupChannel(data_tod, data, calcSoupProfile = FALSE)\n",
    "\n",
    "# Add extra meta data to the SoupChannel object\n",
    "soupProf = data.frame(row.names = rownames(data),\n",
    "                      est = rowSums(data)/sum(data),\n",
    "                      counts = rowSums(data))\n",
    "sc = setSoupProfile(sc, soupProf)\n",
    "# Set cluster information in SoupChannel\n",
    "sc = setClusters(sc, soupx_groups)\n",
    "\n",
    "# Estimate contamination fraction\n",
    "sc  = autoEstCont(sc, doPlot=FALSE, forceAccept = TRUE)\n",
    "# Infer corrected table of counts and rount to integer\n",
    "out = adjustCounts(sc, roundToInt = TRUE)"
   ]
  },
  {
   "cell_type": "code",
   "execution_count": null,
   "id": "32555d5e-5fa3-46dd-a4e0-ddc96ea265e2",
   "metadata": {
    "execution": {
     "iopub.execute_input": "2023-05-15T09:38:23.086884Z",
     "iopub.status.busy": "2023-05-15T09:38:23.086430Z",
     "iopub.status.idle": "2023-05-15T09:38:23.123035Z",
     "shell.execute_reply": "2023-05-15T09:38:23.122563Z"
    },
    "papermill": {
     "duration": 0.041326,
     "end_time": "2023-05-15T09:38:23.124256",
     "exception": false,
     "start_time": "2023-05-15T09:38:23.082930",
     "status": "completed"
    },
    "tags": []
   },
   "outputs": [],
   "source": [
    "dataset.layers[\"soupX_counts\"] = out.T\n",
    "dataset.X = dataset.layers[\"soupX_counts\"].copy()"
   ]
  },
  {
   "cell_type": "code",
   "execution_count": null,
   "id": "e27da7df-e094-4d2a-9109-5a363e012175",
   "metadata": {
    "execution": {
     "iopub.execute_input": "2023-05-15T09:38:23.130753Z",
     "iopub.status.busy": "2023-05-15T09:38:23.130556Z",
     "iopub.status.idle": "2023-05-15T09:38:23.133061Z",
     "shell.execute_reply": "2023-05-15T09:38:23.132650Z"
    },
    "papermill": {
     "duration": 0.00645,
     "end_time": "2023-05-15T09:38:23.133836",
     "exception": false,
     "start_time": "2023-05-15T09:38:23.127386",
     "status": "completed"
    },
    "tags": []
   },
   "outputs": [],
   "source": [
    "data_mat = dataset.X.T"
   ]
  },
  {
   "cell_type": "code",
   "execution_count": null,
   "id": "80a993b1-5ccb-4697-9187-1beb7ab8aff9",
   "metadata": {
    "execution": {
     "iopub.execute_input": "2023-05-15T09:38:23.139753Z",
     "iopub.status.busy": "2023-05-15T09:38:23.139586Z",
     "iopub.status.idle": "2023-05-15T09:38:59.485762Z",
     "shell.execute_reply": "2023-05-15T09:38:59.485117Z"
    },
    "papermill": {
     "duration": 36.351064,
     "end_time": "2023-05-15T09:38:59.487512",
     "exception": false,
     "start_time": "2023-05-15T09:38:23.136448",
     "status": "completed"
    },
    "tags": []
   },
   "outputs": [],
   "source": [
    "%%R -i data_mat -o droplet_class\n",
    "\n",
    "set.seed(187)\n",
    "sce = scDblFinder(\n",
    "    SingleCellExperiment(\n",
    "        list(counts=data_mat),\n",
    "    ) \n",
    ")\n",
    "droplet_class = sce$scDblFinder.class"
   ]
  },
  {
   "cell_type": "code",
   "execution_count": null,
   "id": "d4dd6e9d-fcf2-41fc-8457-c8e0a3cb2c71",
   "metadata": {
    "execution": {
     "iopub.execute_input": "2023-05-15T09:38:59.539935Z",
     "iopub.status.busy": "2023-05-15T09:38:59.539588Z",
     "iopub.status.idle": "2023-05-15T09:38:59.544769Z",
     "shell.execute_reply": "2023-05-15T09:38:59.544429Z"
    },
    "papermill": {
     "duration": 0.009413,
     "end_time": "2023-05-15T09:38:59.545563",
     "exception": false,
     "start_time": "2023-05-15T09:38:59.536150",
     "status": "completed"
    },
    "tags": []
   },
   "outputs": [],
   "source": [
    "dataset.obs[\"scDblFinder_class\"] = droplet_class\n",
    "dataset.obs.scDblFinder_class.value_counts()\n",
    "dataset"
   ]
  },
  {
   "cell_type": "code",
   "execution_count": null,
   "id": "28c95014-2d6c-477f-95cb-9f9f0507520c",
   "metadata": {
    "execution": {
     "iopub.execute_input": "2023-05-15T09:38:59.551841Z",
     "iopub.status.busy": "2023-05-15T09:38:59.551676Z",
     "iopub.status.idle": "2023-05-15T09:38:59.602323Z",
     "shell.execute_reply": "2023-05-15T09:38:59.601917Z"
    },
    "papermill": {
     "duration": 0.054827,
     "end_time": "2023-05-15T09:38:59.603359",
     "exception": false,
     "start_time": "2023-05-15T09:38:59.548532",
     "status": "completed"
    },
    "tags": []
   },
   "outputs": [],
   "source": [
    "dataset = dataset[dataset.obs[\"scDblFinder_class\"] == 1]"
   ]
  },
  {
   "cell_type": "code",
   "execution_count": null,
   "id": "3e22f9e0-bfcb-416c-a151-a9bca3bec3b9",
   "metadata": {
    "execution": {
     "iopub.execute_input": "2023-05-15T09:38:59.609590Z",
     "iopub.status.busy": "2023-05-15T09:38:59.609305Z",
     "iopub.status.idle": "2023-05-15T09:38:59.763316Z",
     "shell.execute_reply": "2023-05-15T09:38:59.762870Z"
    },
    "papermill": {
     "duration": 0.158094,
     "end_time": "2023-05-15T09:38:59.764228",
     "exception": false,
     "start_time": "2023-05-15T09:38:59.606134",
     "status": "completed"
    },
    "tags": []
   },
   "outputs": [],
   "source": [
    "# mitochondrial genes\n",
    "dataset.var[\"mt\"] = dataset.var_names.str.startswith(\"MT-\")\n",
    "# ribosomal genes\n",
    "dataset.var[\"ribo\"] = dataset.var_names.str.startswith((\"RPS\", \"RPL\"))\n",
    "# hemoglobin genes.\n",
    "dataset.var[\"hb\"] = dataset.var_names.str.contains((\"^HB[^(P)]\"))\n",
    "\n",
    "sc.pp.calculate_qc_metrics(dataset,\n",
    "                           qc_vars=['mt', 'ribo', 'hb'],\n",
    "                           percent_top=None,\n",
    "                           log1p=False,\n",
    "                           inplace=True)\n",
    "dataset"
   ]
  },
  {
   "cell_type": "code",
   "execution_count": null,
   "id": "34deee79-4043-428f-8575-aa57b45f6369",
   "metadata": {
    "execution": {
     "iopub.execute_input": "2023-05-15T09:38:59.771504Z",
     "iopub.status.busy": "2023-05-15T09:38:59.771293Z",
     "iopub.status.idle": "2023-05-15T09:39:00.476215Z",
     "shell.execute_reply": "2023-05-15T09:39:00.475735Z"
    },
    "papermill": {
     "duration": 0.709346,
     "end_time": "2023-05-15T09:39:00.477118",
     "exception": false,
     "start_time": "2023-05-15T09:38:59.767772",
     "status": "completed"
    },
    "tags": []
   },
   "outputs": [],
   "source": [
    "fig, ax = plt.subplots(ncols = 4, figsize = (16,4))\n",
    "axis = sc.pl.violin(dataset, \"n_genes_by_counts\", jitter = 0.4, ax = ax[0], show = False)\n",
    "axis.grid(False)\n",
    "axis.set_title(\"Unique Genes per cell\")\n",
    "axis.tick_params(axis = \"x\", bottom =False, labelbottom =False)\n",
    "axis.set_ylabel(\"# genes\")\n",
    "axis.axhline(y = 100, color = \"black\", label = \"cutoff\")\n",
    "axis.legend(fontsize = 14, loc = \"upper right\")\n",
    "\n",
    "axis = sc.pl.violin(dataset, \"pct_counts_mt\", jitter = 0.4, ax = ax[1], show = False)\n",
    "axis.grid(False)\n",
    "axis.set_title(\"Mitochondrial Fraction\")\n",
    "axis.tick_params(axis = \"x\", bottom =False, labelbottom =False)\n",
    "axis.set_ylabel(\"% mitochondrial genes\")\n",
    "axis.axhline(y = 10, color = \"black\", label = \"cutoff\")\n",
    "axis.legend(fontsize = 14, loc = \"upper right\")\n",
    "\n",
    "axis = sc.pl.violin(dataset, \"pct_counts_hb\", jitter = 0.4, ax = ax[2], show = False, size =2)\n",
    "axis.grid(False)\n",
    "axis.set_title(\"Hemoglobin Fraction\")\n",
    "axis.tick_params(axis = \"x\", bottom =False, labelbottom =False)\n",
    "axis.set_ylabel(\"% hemoglobin genes\")\n",
    "axis.axhline(y = 3, color = \"black\", label = \"cutoff\")\n",
    "axis.legend(fontsize = 14, loc = \"upper right\")\n",
    "#axis.set_ylim(0,5)\n",
    "\n",
    "axis = sc.pl.violin(dataset, \"pct_counts_ribo\", jitter = 0.4, ax = ax[3], show = False)\n",
    "axis.grid(False)\n",
    "axis.set_title(\"Ribosomal Fraction\")\n",
    "axis.tick_params(axis = \"x\", bottom =False, labelbottom =False)\n",
    "axis.set_ylabel(\"% ribosome genes\")\n",
    "\n",
    "plt.tight_layout()\n",
    "#plt.savefig(f\"{outputDir}08_gene_based_filtering.pdf\", dpi = 300)\n",
    "plt.show()\n",
    "\n"
   ]
  },
  {
   "cell_type": "code",
   "execution_count": null,
   "id": "d7ade754-843e-4840-8707-426613d8c0c5",
   "metadata": {
    "execution": {
     "iopub.execute_input": "2023-05-15T09:39:00.500212Z",
     "iopub.status.busy": "2023-05-15T09:39:00.500066Z",
     "iopub.status.idle": "2023-05-15T09:39:00.515084Z",
     "shell.execute_reply": "2023-05-15T09:39:00.514683Z"
    },
    "papermill": {
     "duration": 0.020427,
     "end_time": "2023-05-15T09:39:00.515921",
     "exception": false,
     "start_time": "2023-05-15T09:39:00.495494",
     "status": "completed"
    },
    "tags": []
   },
   "outputs": [],
   "source": [
    "dataset = dataset[dataset.obs.pct_counts_mt < 10, :]\n",
    "dataset = dataset[dataset.obs.n_genes_by_counts > 100, :]\n",
    "dataset = dataset[dataset.obs.pct_counts_hb < 3, :]\n",
    "dataset"
   ]
  },
  {
   "cell_type": "code",
   "execution_count": null,
   "id": "1941fa36-e865-4500-b586-f7a32d142c9b",
   "metadata": {
    "execution": {
     "iopub.execute_input": "2023-05-15T09:39:00.524353Z",
     "iopub.status.busy": "2023-05-15T09:39:00.524055Z",
     "iopub.status.idle": "2023-05-15T09:39:00.527189Z",
     "shell.execute_reply": "2023-05-15T09:39:00.526820Z"
    },
    "papermill": {
     "duration": 0.008185,
     "end_time": "2023-05-15T09:39:00.527956",
     "exception": false,
     "start_time": "2023-05-15T09:39:00.519771",
     "status": "completed"
    },
    "tags": []
   },
   "outputs": [],
   "source": [
    "metadata.columns"
   ]
  },
  {
   "cell_type": "code",
   "execution_count": null,
   "id": "2e0ff8c3-2aa9-4a01-9b88-5912a6734447",
   "metadata": {
    "execution": {
     "iopub.execute_input": "2023-05-15T09:39:00.536551Z",
     "iopub.status.busy": "2023-05-15T09:39:00.536197Z",
     "iopub.status.idle": "2023-05-15T09:39:00.580200Z",
     "shell.execute_reply": "2023-05-15T09:39:00.579721Z"
    },
    "papermill": {
     "duration": 0.049341,
     "end_time": "2023-05-15T09:39:00.581193",
     "exception": false,
     "start_time": "2023-05-15T09:39:00.531852",
     "status": "completed"
    },
    "tags": []
   },
   "outputs": [],
   "source": [
    "for col in metadata.columns:\n",
    "    dataset.obs[col] = metadata.loc[metadata[\"Run\"] == sample_name, col].to_list()[0]"
   ]
  },
  {
   "cell_type": "code",
   "execution_count": null,
   "id": "b84578d3-d63e-419c-a272-a0b8317d05ab",
   "metadata": {
    "execution": {
     "iopub.execute_input": "2023-05-15T09:39:00.589821Z",
     "iopub.status.busy": "2023-05-15T09:39:00.589681Z",
     "iopub.status.idle": "2023-05-15T09:39:01.197368Z",
     "shell.execute_reply": "2023-05-15T09:39:01.196847Z"
    },
    "papermill": {
     "duration": 0.613111,
     "end_time": "2023-05-15T09:39:01.198344",
     "exception": false,
     "start_time": "2023-05-15T09:39:00.585233",
     "status": "completed"
    },
    "tags": []
   },
   "outputs": [],
   "source": [
    "dataset.write(f\"../../int_data/{sample_name}_qc.h5ad\")"
   ]
  },
  {
   "cell_type": "code",
   "execution_count": null,
   "id": "501b33a0-432d-415f-ae82-50723484b85d",
   "metadata": {
    "execution": {
     "iopub.execute_input": "2023-05-15T09:39:01.207421Z",
     "iopub.status.busy": "2023-05-15T09:39:01.207020Z",
     "iopub.status.idle": "2023-05-15T09:39:01.210147Z",
     "shell.execute_reply": "2023-05-15T09:39:01.209786Z"
    },
    "papermill": {
     "duration": 0.008453,
     "end_time": "2023-05-15T09:39:01.210948",
     "exception": false,
     "start_time": "2023-05-15T09:39:01.202495",
     "status": "completed"
    },
    "tags": []
   },
   "outputs": [],
   "source": [
    "dataset"
   ]
  }
 ],
 "metadata": {
  "kernelspec": {
   "display_name": "py_R",
   "language": "python",
   "name": "python_r"
  },
  "language_info": {
   "codemirror_mode": {
    "name": "ipython",
    "version": 3
   },
   "file_extension": ".py",
   "mimetype": "text/x-python",
   "name": "python",
   "nbconvert_exporter": "python",
   "pygments_lexer": "ipython3",
   "version": "3.10.9"
  },
  "papermill": {
   "default_parameters": {},
   "duration": 215.642767,
   "end_time": "2023-05-15T09:39:03.233211",
   "environment_variables": {},
   "exception": null,
   "input_path": "template.ipynb",
   "output_path": "SRR13329119.ipynb",
   "parameters": {
    "sample_name": "SRR13329119"
   },
   "start_time": "2023-05-15T09:35:27.590444",
   "version": "2.4.0"
  }
 },
 "nbformat": 4,
 "nbformat_minor": 5
}
