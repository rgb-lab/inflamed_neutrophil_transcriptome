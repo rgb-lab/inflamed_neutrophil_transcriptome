{
 "cells": [
  {
   "cell_type": "code",
   "execution_count": null,
   "id": "4c0f2fa8-5232-4f47-a7ec-6c9bbabe50e2",
   "metadata": {
    "execution": {
     "iopub.execute_input": "2023-05-15T08:42:24.093485Z",
     "iopub.status.busy": "2023-05-15T08:42:24.093324Z",
     "iopub.status.idle": "2023-05-15T08:42:24.097651Z",
     "shell.execute_reply": "2023-05-15T08:42:24.097335Z"
    },
    "papermill": {
     "duration": 0.008535,
     "end_time": "2023-05-15T08:42:24.098505",
     "exception": false,
     "start_time": "2023-05-15T08:42:24.089970",
     "status": "completed"
    },
    "tags": [
     "parameters"
    ]
   },
   "outputs": [],
   "source": [
    "sample_name = \"SRR13329143\""
   ]
  },
  {
   "cell_type": "code",
   "execution_count": null,
   "id": "a838f676",
   "metadata": {
    "execution": {
     "iopub.execute_input": "2023-05-15T08:42:24.103779Z",
     "iopub.status.busy": "2023-05-15T08:42:24.103553Z",
     "iopub.status.idle": "2023-05-15T08:42:24.105403Z",
     "shell.execute_reply": "2023-05-15T08:42:24.105115Z"
    },
    "papermill": {
     "duration": 0.005206,
     "end_time": "2023-05-15T08:42:24.106153",
     "exception": false,
     "start_time": "2023-05-15T08:42:24.100947",
     "status": "completed"
    },
    "tags": [
     "injected-parameters"
    ]
   },
   "outputs": [],
   "source": [
    "# Parameters\n",
    "sample_name = \"SRR13329132\"\n"
   ]
  },
  {
   "cell_type": "code",
   "execution_count": null,
   "id": "f87ed95b-2b67-4a5a-8fe2-47359b1dd2a9",
   "metadata": {
    "execution": {
     "iopub.execute_input": "2023-05-15T08:42:24.111264Z",
     "iopub.status.busy": "2023-05-15T08:42:24.111145Z",
     "iopub.status.idle": "2023-05-15T08:42:24.113326Z",
     "shell.execute_reply": "2023-05-15T08:42:24.113035Z"
    },
    "papermill": {
     "duration": 0.005596,
     "end_time": "2023-05-15T08:42:24.114063",
     "exception": false,
     "start_time": "2023-05-15T08:42:24.108467",
     "status": "completed"
    },
    "tags": []
   },
   "outputs": [],
   "source": [
    "import warnings\n",
    "warnings.simplefilter(action='ignore', category=FutureWarning)\n",
    "warnings.simplefilter(action='ignore', category=UserWarning)"
   ]
  },
  {
   "cell_type": "code",
   "execution_count": null,
   "id": "85161f19-b2c5-490b-8cab-c2cf9653b304",
   "metadata": {
    "execution": {
     "iopub.execute_input": "2023-05-15T08:42:24.119403Z",
     "iopub.status.busy": "2023-05-15T08:42:24.119158Z",
     "iopub.status.idle": "2023-05-15T08:42:29.000943Z",
     "shell.execute_reply": "2023-05-15T08:42:29.000446Z"
    },
    "papermill": {
     "duration": 4.88582,
     "end_time": "2023-05-15T08:42:29.002275",
     "exception": false,
     "start_time": "2023-05-15T08:42:24.116455",
     "status": "completed"
    },
    "tags": []
   },
   "outputs": [],
   "source": [
    "import gc\n",
    "import scanpy as sc\n",
    "import muon as mu\n",
    "import seaborn as sns\n",
    "import os\n",
    "import pandas as pd\n",
    "from matplotlib import pyplot as plt\n",
    "\n",
    "os.environ['R_HOME'] = '/gpfs/bwfor/work/ws/hd_fu399-conda/conda/envs/python_R/lib/R/'\n",
    "import anndata2ri\n",
    "import logging\n",
    "\n",
    "import rpy2.rinterface_lib.callbacks as rcb\n",
    "import rpy2.robjects as ro\n",
    "\n",
    "rcb.logger.setLevel(logging.ERROR)\n",
    "ro.pandas2ri.activate()\n",
    "anndata2ri.activate()\n",
    "\n",
    "%load_ext rpy2.ipython"
   ]
  },
  {
   "cell_type": "code",
   "execution_count": null,
   "id": "fc4ade78-b728-4704-9db6-45fbaab62ba1",
   "metadata": {
    "execution": {
     "iopub.execute_input": "2023-05-15T08:42:29.012437Z",
     "iopub.status.busy": "2023-05-15T08:42:29.012135Z",
     "iopub.status.idle": "2023-05-15T08:42:41.206415Z",
     "shell.execute_reply": "2023-05-15T08:42:41.205890Z"
    },
    "papermill": {
     "duration": 12.199235,
     "end_time": "2023-05-15T08:42:41.207738",
     "exception": false,
     "start_time": "2023-05-15T08:42:29.008503",
     "status": "completed"
    },
    "tags": []
   },
   "outputs": [],
   "source": [
    "%%R\n",
    "library(SoupX)\n",
    "library(Seurat)\n",
    "library(scater)\n",
    "library(scDblFinder)\n",
    "library(BiocParallel)\n",
    "library(MuDataSeurat)\n",
    "library(DropletUtils)"
   ]
  },
  {
   "cell_type": "code",
   "execution_count": null,
   "id": "f7424d90-7690-4290-8651-1db3f9df3a35",
   "metadata": {
    "execution": {
     "iopub.execute_input": "2023-05-15T08:42:41.218713Z",
     "iopub.status.busy": "2023-05-15T08:42:41.218515Z",
     "iopub.status.idle": "2023-05-15T08:42:41.225266Z",
     "shell.execute_reply": "2023-05-15T08:42:41.224944Z"
    },
    "papermill": {
     "duration": 0.011294,
     "end_time": "2023-05-15T08:42:41.226073",
     "exception": false,
     "start_time": "2023-05-15T08:42:41.214779",
     "status": "completed"
    },
    "tags": []
   },
   "outputs": [],
   "source": [
    "metadata = pd.read_csv(\"../../combes_metadata.txt\")"
   ]
  },
  {
   "cell_type": "code",
   "execution_count": null,
   "id": "2574ecf1-bad4-4c33-8f3f-718a358727ab",
   "metadata": {
    "execution": {
     "iopub.execute_input": "2023-05-15T08:42:41.231933Z",
     "iopub.status.busy": "2023-05-15T08:42:41.231693Z",
     "iopub.status.idle": "2023-05-15T08:42:41.233739Z",
     "shell.execute_reply": "2023-05-15T08:42:41.233431Z"
    },
    "papermill": {
     "duration": 0.005825,
     "end_time": "2023-05-15T08:42:41.234507",
     "exception": false,
     "start_time": "2023-05-15T08:42:41.228682",
     "status": "completed"
    },
    "tags": []
   },
   "outputs": [],
   "source": [
    "raw_input = f\"/home/hd/hd_hd/hd_fu399/sds-hd/sd21k006/scRNAseq/revision_natcomm/combes_et_al/fetchngs/results/fastq/{sample_name}/{sample_name}/outs/raw_feature_bc_matrix.h5\""
   ]
  },
  {
   "cell_type": "code",
   "execution_count": null,
   "id": "e266d388-1802-435c-93a5-90067358739c",
   "metadata": {
    "execution": {
     "iopub.execute_input": "2023-05-15T08:42:41.240333Z",
     "iopub.status.busy": "2023-05-15T08:42:41.240072Z",
     "iopub.status.idle": "2023-05-15T08:42:41.595201Z",
     "shell.execute_reply": "2023-05-15T08:42:41.594763Z"
    },
    "papermill": {
     "duration": 0.359088,
     "end_time": "2023-05-15T08:42:41.596134",
     "exception": false,
     "start_time": "2023-05-15T08:42:41.237046",
     "status": "completed"
    },
    "tags": []
   },
   "outputs": [],
   "source": [
    "dataset = sc.read_10x_h5(raw_input)\n",
    "dataset.var_names_make_unique()\n",
    "dataset.obs_names_make_unique()\n",
    "\n",
    "dataset.layers[\"raw_counts\"] = dataset.X.copy()\n",
    "data_tod = dataset.layers[\"raw_counts\"].T.copy()\n",
    "\n",
    "dataset"
   ]
  },
  {
   "cell_type": "code",
   "execution_count": null,
   "id": "af9f5892-ed31-42a6-991b-4e096f582cef",
   "metadata": {
    "execution": {
     "iopub.execute_input": "2023-05-15T08:42:41.602833Z",
     "iopub.status.busy": "2023-05-15T08:42:41.602662Z",
     "iopub.status.idle": "2023-05-15T08:42:41.627029Z",
     "shell.execute_reply": "2023-05-15T08:42:41.626614Z"
    },
    "papermill": {
     "duration": 0.02889,
     "end_time": "2023-05-15T08:42:41.628234",
     "exception": false,
     "start_time": "2023-05-15T08:42:41.599344",
     "status": "completed"
    },
    "tags": []
   },
   "outputs": [],
   "source": [
    "sce = dataset.copy()"
   ]
  },
  {
   "cell_type": "code",
   "execution_count": null,
   "id": "d03f2caf-8e74-430e-b045-0ab80401d165",
   "metadata": {
    "execution": {
     "iopub.execute_input": "2023-05-15T08:42:41.634876Z",
     "iopub.status.busy": "2023-05-15T08:42:41.634727Z",
     "iopub.status.idle": "2023-05-15T08:43:32.636190Z",
     "shell.execute_reply": "2023-05-15T08:43:32.635571Z"
    },
    "papermill": {
     "duration": 51.00626,
     "end_time": "2023-05-15T08:43:32.637590",
     "exception": false,
     "start_time": "2023-05-15T08:42:41.631330",
     "status": "completed"
    },
    "tags": []
   },
   "outputs": [],
   "source": [
    "%%R -i sce -o empty_drop_output\n",
    "set.seed(187)\n",
    "empty_drop_output <- emptyDrops(assay(sce))"
   ]
  },
  {
   "cell_type": "code",
   "execution_count": null,
   "id": "2a34a54b-3ae2-44d6-8679-8769228c5b66",
   "metadata": {
    "execution": {
     "iopub.execute_input": "2023-05-15T08:43:32.666932Z",
     "iopub.status.busy": "2023-05-15T08:43:32.666782Z",
     "iopub.status.idle": "2023-05-15T08:43:32.689120Z",
     "shell.execute_reply": "2023-05-15T08:43:32.688811Z"
    },
    "papermill": {
     "duration": 0.026997,
     "end_time": "2023-05-15T08:43:32.689927",
     "exception": false,
     "start_time": "2023-05-15T08:43:32.662930",
     "status": "completed"
    },
    "tags": []
   },
   "outputs": [],
   "source": [
    "non_empty_barcodes = empty_drop_output[empty_drop_output[\"FDR\"] < 0.001].index\n",
    "dataset = dataset[dataset.obs.index.isin(non_empty_barcodes), :]\n",
    "dataset"
   ]
  },
  {
   "cell_type": "code",
   "execution_count": null,
   "id": "016a91e5-1bef-46fb-b91e-4fb9a6870c44",
   "metadata": {
    "execution": {
     "iopub.execute_input": "2023-05-15T08:43:32.696170Z",
     "iopub.status.busy": "2023-05-15T08:43:32.696010Z",
     "iopub.status.idle": "2023-05-15T08:43:35.063456Z",
     "shell.execute_reply": "2023-05-15T08:43:35.062975Z"
    },
    "papermill": {
     "duration": 2.372004,
     "end_time": "2023-05-15T08:43:35.064775",
     "exception": false,
     "start_time": "2023-05-15T08:43:32.692771",
     "status": "completed"
    },
    "tags": []
   },
   "outputs": [],
   "source": [
    "rna_assay = dataset.copy()\n",
    "sc.pp.normalize_per_cell(rna_assay)\n",
    "sc.pp.log1p(rna_assay)\n",
    "sc.pp.pca(rna_assay)\n",
    "sc.pp.neighbors(rna_assay)\n",
    "sc.tl.leiden(rna_assay, key_added=\"soupx_groups\")\n",
    "\n",
    "soupx_groups = rna_assay.obs[\"soupx_groups\"]\n",
    "\n",
    "del rna_assay\n",
    "\n",
    "genes = dataset.var_names\n",
    "cells = dataset.obs_names\n",
    "data = dataset.X.T.copy()"
   ]
  },
  {
   "cell_type": "code",
   "execution_count": null,
   "id": "9db4ea1f-1580-4f43-a3f0-86002397cd98",
   "metadata": {
    "execution": {
     "iopub.execute_input": "2023-05-15T08:43:35.071728Z",
     "iopub.status.busy": "2023-05-15T08:43:35.071554Z",
     "iopub.status.idle": "2023-05-15T08:43:41.481965Z",
     "shell.execute_reply": "2023-05-15T08:43:41.481472Z"
    },
    "papermill": {
     "duration": 6.414989,
     "end_time": "2023-05-15T08:43:41.483196",
     "exception": false,
     "start_time": "2023-05-15T08:43:35.068207",
     "status": "completed"
    },
    "tags": []
   },
   "outputs": [],
   "source": [
    "%%R -i data -i data_tod -i genes -i cells -i soupx_groups -o out \n",
    "set.seed(187)\n",
    "# specify row and column names of data\n",
    "rownames(data) = genes\n",
    "colnames(data) = cells\n",
    "# ensure correct sparse format for table of counts and table of droplets\n",
    "data <- as(data, \"sparseMatrix\")\n",
    "data_tod <- as(data_tod, \"sparseMatrix\")\n",
    "\n",
    "# Generate SoupChannel Object for SoupX \n",
    "sc = SoupChannel(data_tod, data, calcSoupProfile = FALSE)\n",
    "\n",
    "# Add extra meta data to the SoupChannel object\n",
    "soupProf = data.frame(row.names = rownames(data),\n",
    "                      est = rowSums(data)/sum(data),\n",
    "                      counts = rowSums(data))\n",
    "sc = setSoupProfile(sc, soupProf)\n",
    "# Set cluster information in SoupChannel\n",
    "sc = setClusters(sc, soupx_groups)\n",
    "\n",
    "# Estimate contamination fraction\n",
    "sc  = autoEstCont(sc, doPlot=FALSE, forceAccept = TRUE)\n",
    "# Infer corrected table of counts and rount to integer\n",
    "out = adjustCounts(sc, roundToInt = TRUE)"
   ]
  },
  {
   "cell_type": "code",
   "execution_count": null,
   "id": "32555d5e-5fa3-46dd-a4e0-ddc96ea265e2",
   "metadata": {
    "execution": {
     "iopub.execute_input": "2023-05-15T08:43:41.493947Z",
     "iopub.status.busy": "2023-05-15T08:43:41.493772Z",
     "iopub.status.idle": "2023-05-15T08:43:41.506309Z",
     "shell.execute_reply": "2023-05-15T08:43:41.505902Z"
    },
    "papermill": {
     "duration": 0.017656,
     "end_time": "2023-05-15T08:43:41.507509",
     "exception": false,
     "start_time": "2023-05-15T08:43:41.489853",
     "status": "completed"
    },
    "tags": []
   },
   "outputs": [],
   "source": [
    "dataset.layers[\"soupX_counts\"] = out.T\n",
    "dataset.X = dataset.layers[\"soupX_counts\"].copy()"
   ]
  },
  {
   "cell_type": "code",
   "execution_count": null,
   "id": "e27da7df-e094-4d2a-9109-5a363e012175",
   "metadata": {
    "execution": {
     "iopub.execute_input": "2023-05-15T08:43:41.514543Z",
     "iopub.status.busy": "2023-05-15T08:43:41.514360Z",
     "iopub.status.idle": "2023-05-15T08:43:41.516501Z",
     "shell.execute_reply": "2023-05-15T08:43:41.516202Z"
    },
    "papermill": {
     "duration": 0.006514,
     "end_time": "2023-05-15T08:43:41.517315",
     "exception": false,
     "start_time": "2023-05-15T08:43:41.510801",
     "status": "completed"
    },
    "tags": []
   },
   "outputs": [],
   "source": [
    "data_mat = dataset.X.T"
   ]
  },
  {
   "cell_type": "code",
   "execution_count": null,
   "id": "80a993b1-5ccb-4697-9187-1beb7ab8aff9",
   "metadata": {
    "execution": {
     "iopub.execute_input": "2023-05-15T08:43:41.523770Z",
     "iopub.status.busy": "2023-05-15T08:43:41.523516Z",
     "iopub.status.idle": "2023-05-15T08:44:04.212233Z",
     "shell.execute_reply": "2023-05-15T08:44:04.211796Z"
    },
    "papermill": {
     "duration": 22.693168,
     "end_time": "2023-05-15T08:44:04.213350",
     "exception": false,
     "start_time": "2023-05-15T08:43:41.520182",
     "status": "completed"
    },
    "tags": []
   },
   "outputs": [],
   "source": [
    "%%R -i data_mat -o droplet_class\n",
    "\n",
    "set.seed(187)\n",
    "sce = scDblFinder(\n",
    "    SingleCellExperiment(\n",
    "        list(counts=data_mat),\n",
    "    ) \n",
    ")\n",
    "droplet_class = sce$scDblFinder.class"
   ]
  },
  {
   "cell_type": "code",
   "execution_count": null,
   "id": "d4dd6e9d-fcf2-41fc-8457-c8e0a3cb2c71",
   "metadata": {
    "execution": {
     "iopub.execute_input": "2023-05-15T08:44:04.224294Z",
     "iopub.status.busy": "2023-05-15T08:44:04.224147Z",
     "iopub.status.idle": "2023-05-15T08:44:04.228647Z",
     "shell.execute_reply": "2023-05-15T08:44:04.228336Z"
    },
    "papermill": {
     "duration": 0.00905,
     "end_time": "2023-05-15T08:44:04.229418",
     "exception": false,
     "start_time": "2023-05-15T08:44:04.220368",
     "status": "completed"
    },
    "tags": []
   },
   "outputs": [],
   "source": [
    "dataset.obs[\"scDblFinder_class\"] = droplet_class\n",
    "dataset.obs.scDblFinder_class.value_counts()\n",
    "dataset"
   ]
  },
  {
   "cell_type": "code",
   "execution_count": null,
   "id": "28c95014-2d6c-477f-95cb-9f9f0507520c",
   "metadata": {
    "execution": {
     "iopub.execute_input": "2023-05-15T08:44:04.236066Z",
     "iopub.status.busy": "2023-05-15T08:44:04.235735Z",
     "iopub.status.idle": "2023-05-15T08:44:04.260298Z",
     "shell.execute_reply": "2023-05-15T08:44:04.259895Z"
    },
    "papermill": {
     "duration": 0.028895,
     "end_time": "2023-05-15T08:44:04.261198",
     "exception": false,
     "start_time": "2023-05-15T08:44:04.232303",
     "status": "completed"
    },
    "tags": []
   },
   "outputs": [],
   "source": [
    "dataset = dataset[dataset.obs[\"scDblFinder_class\"] == 1]"
   ]
  },
  {
   "cell_type": "code",
   "execution_count": null,
   "id": "3e22f9e0-bfcb-416c-a151-a9bca3bec3b9",
   "metadata": {
    "execution": {
     "iopub.execute_input": "2023-05-15T08:44:04.267920Z",
     "iopub.status.busy": "2023-05-15T08:44:04.267639Z",
     "iopub.status.idle": "2023-05-15T08:44:04.331475Z",
     "shell.execute_reply": "2023-05-15T08:44:04.331051Z"
    },
    "papermill": {
     "duration": 0.068134,
     "end_time": "2023-05-15T08:44:04.332330",
     "exception": false,
     "start_time": "2023-05-15T08:44:04.264196",
     "status": "completed"
    },
    "tags": []
   },
   "outputs": [],
   "source": [
    "# mitochondrial genes\n",
    "dataset.var[\"mt\"] = dataset.var_names.str.startswith(\"MT-\")\n",
    "# ribosomal genes\n",
    "dataset.var[\"ribo\"] = dataset.var_names.str.startswith((\"RPS\", \"RPL\"))\n",
    "# hemoglobin genes.\n",
    "dataset.var[\"hb\"] = dataset.var_names.str.contains((\"^HB[^(P)]\"))\n",
    "\n",
    "sc.pp.calculate_qc_metrics(dataset,\n",
    "                           qc_vars=['mt', 'ribo', 'hb'],\n",
    "                           percent_top=None,\n",
    "                           log1p=False,\n",
    "                           inplace=True)\n",
    "dataset"
   ]
  },
  {
   "cell_type": "code",
   "execution_count": null,
   "id": "34deee79-4043-428f-8575-aa57b45f6369",
   "metadata": {
    "execution": {
     "iopub.execute_input": "2023-05-15T08:44:04.339761Z",
     "iopub.status.busy": "2023-05-15T08:44:04.339590Z",
     "iopub.status.idle": "2023-05-15T08:44:04.763049Z",
     "shell.execute_reply": "2023-05-15T08:44:04.762632Z"
    },
    "papermill": {
     "duration": 0.428085,
     "end_time": "2023-05-15T08:44:04.763967",
     "exception": false,
     "start_time": "2023-05-15T08:44:04.335882",
     "status": "completed"
    },
    "tags": []
   },
   "outputs": [],
   "source": [
    "fig, ax = plt.subplots(ncols = 4, figsize = (16,4))\n",
    "axis = sc.pl.violin(dataset, \"n_genes_by_counts\", jitter = 0.4, ax = ax[0], show = False)\n",
    "axis.grid(False)\n",
    "axis.set_title(\"Unique Genes per cell\")\n",
    "axis.tick_params(axis = \"x\", bottom =False, labelbottom =False)\n",
    "axis.set_ylabel(\"# genes\")\n",
    "axis.axhline(y = 100, color = \"black\", label = \"cutoff\")\n",
    "axis.legend(fontsize = 14, loc = \"upper right\")\n",
    "\n",
    "axis = sc.pl.violin(dataset, \"pct_counts_mt\", jitter = 0.4, ax = ax[1], show = False)\n",
    "axis.grid(False)\n",
    "axis.set_title(\"Mitochondrial Fraction\")\n",
    "axis.tick_params(axis = \"x\", bottom =False, labelbottom =False)\n",
    "axis.set_ylabel(\"% mitochondrial genes\")\n",
    "axis.axhline(y = 10, color = \"black\", label = \"cutoff\")\n",
    "axis.legend(fontsize = 14, loc = \"upper right\")\n",
    "\n",
    "axis = sc.pl.violin(dataset, \"pct_counts_hb\", jitter = 0.4, ax = ax[2], show = False, size =2)\n",
    "axis.grid(False)\n",
    "axis.set_title(\"Hemoglobin Fraction\")\n",
    "axis.tick_params(axis = \"x\", bottom =False, labelbottom =False)\n",
    "axis.set_ylabel(\"% hemoglobin genes\")\n",
    "axis.axhline(y = 3, color = \"black\", label = \"cutoff\")\n",
    "axis.legend(fontsize = 14, loc = \"upper right\")\n",
    "#axis.set_ylim(0,5)\n",
    "\n",
    "axis = sc.pl.violin(dataset, \"pct_counts_ribo\", jitter = 0.4, ax = ax[3], show = False)\n",
    "axis.grid(False)\n",
    "axis.set_title(\"Ribosomal Fraction\")\n",
    "axis.tick_params(axis = \"x\", bottom =False, labelbottom =False)\n",
    "axis.set_ylabel(\"% ribosome genes\")\n",
    "\n",
    "plt.tight_layout()\n",
    "#plt.savefig(f\"{outputDir}08_gene_based_filtering.pdf\", dpi = 300)\n",
    "plt.show()\n",
    "\n"
   ]
  },
  {
   "cell_type": "code",
   "execution_count": null,
   "id": "d7ade754-843e-4840-8707-426613d8c0c5",
   "metadata": {
    "execution": {
     "iopub.execute_input": "2023-05-15T08:44:04.773024Z",
     "iopub.status.busy": "2023-05-15T08:44:04.772858Z",
     "iopub.status.idle": "2023-05-15T08:44:04.781209Z",
     "shell.execute_reply": "2023-05-15T08:44:04.780896Z"
    },
    "papermill": {
     "duration": 0.01366,
     "end_time": "2023-05-15T08:44:04.781988",
     "exception": false,
     "start_time": "2023-05-15T08:44:04.768328",
     "status": "completed"
    },
    "tags": []
   },
   "outputs": [],
   "source": [
    "dataset = dataset[dataset.obs.pct_counts_mt < 10, :]\n",
    "dataset = dataset[dataset.obs.n_genes_by_counts > 100, :]\n",
    "dataset = dataset[dataset.obs.pct_counts_hb < 3, :]\n",
    "dataset"
   ]
  },
  {
   "cell_type": "code",
   "execution_count": null,
   "id": "1941fa36-e865-4500-b586-f7a32d142c9b",
   "metadata": {
    "execution": {
     "iopub.execute_input": "2023-05-15T08:44:04.791443Z",
     "iopub.status.busy": "2023-05-15T08:44:04.791179Z",
     "iopub.status.idle": "2023-05-15T08:44:04.794109Z",
     "shell.execute_reply": "2023-05-15T08:44:04.793812Z"
    },
    "papermill": {
     "duration": 0.008737,
     "end_time": "2023-05-15T08:44:04.794871",
     "exception": false,
     "start_time": "2023-05-15T08:44:04.786134",
     "status": "completed"
    },
    "tags": []
   },
   "outputs": [],
   "source": [
    "metadata.columns"
   ]
  },
  {
   "cell_type": "code",
   "execution_count": null,
   "id": "2e0ff8c3-2aa9-4a01-9b88-5912a6734447",
   "metadata": {
    "execution": {
     "iopub.execute_input": "2023-05-15T08:44:04.803885Z",
     "iopub.status.busy": "2023-05-15T08:44:04.803705Z",
     "iopub.status.idle": "2023-05-15T08:44:04.825889Z",
     "shell.execute_reply": "2023-05-15T08:44:04.825446Z"
    },
    "papermill": {
     "duration": 0.028671,
     "end_time": "2023-05-15T08:44:04.827810",
     "exception": false,
     "start_time": "2023-05-15T08:44:04.799139",
     "status": "completed"
    },
    "tags": []
   },
   "outputs": [],
   "source": [
    "for col in metadata.columns:\n",
    "    dataset.obs[col] = metadata.loc[metadata[\"Run\"] == sample_name, col].to_list()[0]"
   ]
  },
  {
   "cell_type": "code",
   "execution_count": null,
   "id": "b84578d3-d63e-419c-a272-a0b8317d05ab",
   "metadata": {
    "execution": {
     "iopub.execute_input": "2023-05-15T08:44:04.837698Z",
     "iopub.status.busy": "2023-05-15T08:44:04.837468Z",
     "iopub.status.idle": "2023-05-15T08:44:05.235954Z",
     "shell.execute_reply": "2023-05-15T08:44:05.235515Z"
    },
    "papermill": {
     "duration": 0.404861,
     "end_time": "2023-05-15T08:44:05.237295",
     "exception": false,
     "start_time": "2023-05-15T08:44:04.832434",
     "status": "completed"
    },
    "tags": []
   },
   "outputs": [],
   "source": [
    "dataset.write(f\"../../int_data/{sample_name}_qc.h5ad\")"
   ]
  },
  {
   "cell_type": "code",
   "execution_count": null,
   "id": "501b33a0-432d-415f-ae82-50723484b85d",
   "metadata": {
    "execution": {
     "iopub.execute_input": "2023-05-15T08:44:05.246975Z",
     "iopub.status.busy": "2023-05-15T08:44:05.246806Z",
     "iopub.status.idle": "2023-05-15T08:44:05.249740Z",
     "shell.execute_reply": "2023-05-15T08:44:05.249422Z"
    },
    "papermill": {
     "duration": 0.008487,
     "end_time": "2023-05-15T08:44:05.250528",
     "exception": false,
     "start_time": "2023-05-15T08:44:05.242041",
     "status": "completed"
    },
    "tags": []
   },
   "outputs": [],
   "source": [
    "dataset"
   ]
  }
 ],
 "metadata": {
  "kernelspec": {
   "display_name": "py_R",
   "language": "python",
   "name": "python_r"
  },
  "language_info": {
   "codemirror_mode": {
    "name": "ipython",
    "version": 3
   },
   "file_extension": ".py",
   "mimetype": "text/x-python",
   "name": "python",
   "nbconvert_exporter": "python",
   "pygments_lexer": "ipython3",
   "version": "3.10.9"
  },
  "papermill": {
   "default_parameters": {},
   "duration": 106.185247,
   "end_time": "2023-05-15T08:44:09.002871",
   "environment_variables": {},
   "exception": null,
   "input_path": "template.ipynb",
   "output_path": "SRR13329132.ipynb",
   "parameters": {
    "sample_name": "SRR13329132"
   },
   "start_time": "2023-05-15T08:42:22.817624",
   "version": "2.4.0"
  }
 },
 "nbformat": 4,
 "nbformat_minor": 5
}
