{
 "cells": [
  {
   "cell_type": "code",
   "execution_count": null,
   "id": "4c0f2fa8-5232-4f47-a7ec-6c9bbabe50e2",
   "metadata": {
    "execution": {
     "iopub.execute_input": "2023-05-15T08:19:00.330031Z",
     "iopub.status.busy": "2023-05-15T08:19:00.329857Z",
     "iopub.status.idle": "2023-05-15T08:19:00.334473Z",
     "shell.execute_reply": "2023-05-15T08:19:00.334156Z"
    },
    "papermill": {
     "duration": 0.009803,
     "end_time": "2023-05-15T08:19:00.335304",
     "exception": false,
     "start_time": "2023-05-15T08:19:00.325501",
     "status": "completed"
    },
    "tags": [
     "parameters"
    ]
   },
   "outputs": [],
   "source": [
    "sample_name = \"SRR13329143\""
   ]
  },
  {
   "cell_type": "code",
   "execution_count": null,
   "id": "bb87bff4",
   "metadata": {
    "execution": {
     "iopub.execute_input": "2023-05-15T08:19:00.340453Z",
     "iopub.status.busy": "2023-05-15T08:19:00.340232Z",
     "iopub.status.idle": "2023-05-15T08:19:00.342119Z",
     "shell.execute_reply": "2023-05-15T08:19:00.341831Z"
    },
    "papermill": {
     "duration": 0.005232,
     "end_time": "2023-05-15T08:19:00.342903",
     "exception": false,
     "start_time": "2023-05-15T08:19:00.337671",
     "status": "completed"
    },
    "tags": [
     "injected-parameters"
    ]
   },
   "outputs": [],
   "source": [
    "# Parameters\n",
    "sample_name = \"SRR13329109\"\n"
   ]
  },
  {
   "cell_type": "code",
   "execution_count": null,
   "id": "f87ed95b-2b67-4a5a-8fe2-47359b1dd2a9",
   "metadata": {
    "execution": {
     "iopub.execute_input": "2023-05-15T08:19:00.347924Z",
     "iopub.status.busy": "2023-05-15T08:19:00.347688Z",
     "iopub.status.idle": "2023-05-15T08:19:00.349918Z",
     "shell.execute_reply": "2023-05-15T08:19:00.349631Z"
    },
    "papermill": {
     "duration": 0.005627,
     "end_time": "2023-05-15T08:19:00.350684",
     "exception": false,
     "start_time": "2023-05-15T08:19:00.345057",
     "status": "completed"
    },
    "tags": []
   },
   "outputs": [],
   "source": [
    "import warnings\n",
    "warnings.simplefilter(action='ignore', category=FutureWarning)\n",
    "warnings.simplefilter(action='ignore', category=UserWarning)"
   ]
  },
  {
   "cell_type": "code",
   "execution_count": null,
   "id": "85161f19-b2c5-490b-8cab-c2cf9653b304",
   "metadata": {
    "execution": {
     "iopub.execute_input": "2023-05-15T08:19:00.355802Z",
     "iopub.status.busy": "2023-05-15T08:19:00.355571Z",
     "iopub.status.idle": "2023-05-15T08:19:04.501415Z",
     "shell.execute_reply": "2023-05-15T08:19:04.500953Z"
    },
    "papermill": {
     "duration": 4.149849,
     "end_time": "2023-05-15T08:19:04.502778",
     "exception": false,
     "start_time": "2023-05-15T08:19:00.352929",
     "status": "completed"
    },
    "tags": []
   },
   "outputs": [],
   "source": [
    "import gc\n",
    "import scanpy as sc\n",
    "import muon as mu\n",
    "import seaborn as sns\n",
    "import os\n",
    "import pandas as pd\n",
    "from matplotlib import pyplot as plt\n",
    "\n",
    "os.environ['R_HOME'] = '/gpfs/bwfor/work/ws/hd_fu399-conda/conda/envs/python_R/lib/R/'\n",
    "import anndata2ri\n",
    "import logging\n",
    "\n",
    "import rpy2.rinterface_lib.callbacks as rcb\n",
    "import rpy2.robjects as ro\n",
    "\n",
    "rcb.logger.setLevel(logging.ERROR)\n",
    "ro.pandas2ri.activate()\n",
    "anndata2ri.activate()\n",
    "\n",
    "%load_ext rpy2.ipython"
   ]
  },
  {
   "cell_type": "code",
   "execution_count": null,
   "id": "fc4ade78-b728-4704-9db6-45fbaab62ba1",
   "metadata": {
    "execution": {
     "iopub.execute_input": "2023-05-15T08:19:04.508985Z",
     "iopub.status.busy": "2023-05-15T08:19:04.508726Z",
     "iopub.status.idle": "2023-05-15T08:19:15.079723Z",
     "shell.execute_reply": "2023-05-15T08:19:15.079206Z"
    },
    "papermill": {
     "duration": 10.575224,
     "end_time": "2023-05-15T08:19:15.081071",
     "exception": false,
     "start_time": "2023-05-15T08:19:04.505847",
     "status": "completed"
    },
    "tags": []
   },
   "outputs": [],
   "source": [
    "%%R\n",
    "library(SoupX)\n",
    "library(Seurat)\n",
    "library(scater)\n",
    "library(scDblFinder)\n",
    "library(BiocParallel)\n",
    "library(MuDataSeurat)\n",
    "library(DropletUtils)"
   ]
  },
  {
   "cell_type": "code",
   "execution_count": null,
   "id": "f7424d90-7690-4290-8651-1db3f9df3a35",
   "metadata": {
    "execution": {
     "iopub.execute_input": "2023-05-15T08:19:15.090967Z",
     "iopub.status.busy": "2023-05-15T08:19:15.090811Z",
     "iopub.status.idle": "2023-05-15T08:19:15.096893Z",
     "shell.execute_reply": "2023-05-15T08:19:15.096543Z"
    },
    "papermill": {
     "duration": 0.01004,
     "end_time": "2023-05-15T08:19:15.097802",
     "exception": false,
     "start_time": "2023-05-15T08:19:15.087762",
     "status": "completed"
    },
    "tags": []
   },
   "outputs": [],
   "source": [
    "metadata = pd.read_csv(\"../../combes_metadata.txt\")"
   ]
  },
  {
   "cell_type": "code",
   "execution_count": null,
   "id": "2574ecf1-bad4-4c33-8f3f-718a358727ab",
   "metadata": {
    "execution": {
     "iopub.execute_input": "2023-05-15T08:19:15.103439Z",
     "iopub.status.busy": "2023-05-15T08:19:15.103200Z",
     "iopub.status.idle": "2023-05-15T08:19:15.105218Z",
     "shell.execute_reply": "2023-05-15T08:19:15.104925Z"
    },
    "papermill": {
     "duration": 0.005695,
     "end_time": "2023-05-15T08:19:15.105982",
     "exception": false,
     "start_time": "2023-05-15T08:19:15.100287",
     "status": "completed"
    },
    "tags": []
   },
   "outputs": [],
   "source": [
    "raw_input = f\"/home/hd/hd_hd/hd_fu399/sds-hd/sd21k006/scRNAseq/revision_natcomm/combes_et_al/fetchngs/results/fastq/{sample_name}/{sample_name}/outs/raw_feature_bc_matrix.h5\""
   ]
  },
  {
   "cell_type": "code",
   "execution_count": null,
   "id": "e266d388-1802-435c-93a5-90067358739c",
   "metadata": {
    "execution": {
     "iopub.execute_input": "2023-05-15T08:19:15.111457Z",
     "iopub.status.busy": "2023-05-15T08:19:15.111239Z",
     "iopub.status.idle": "2023-05-15T08:19:15.729562Z",
     "shell.execute_reply": "2023-05-15T08:19:15.729122Z"
    },
    "papermill": {
     "duration": 0.622137,
     "end_time": "2023-05-15T08:19:15.730505",
     "exception": false,
     "start_time": "2023-05-15T08:19:15.108368",
     "status": "completed"
    },
    "tags": []
   },
   "outputs": [],
   "source": [
    "dataset = sc.read_10x_h5(raw_input)\n",
    "dataset.var_names_make_unique()\n",
    "dataset.obs_names_make_unique()\n",
    "\n",
    "dataset.layers[\"raw_counts\"] = dataset.X.copy()\n",
    "data_tod = dataset.layers[\"raw_counts\"].T.copy()\n",
    "\n",
    "dataset"
   ]
  },
  {
   "cell_type": "code",
   "execution_count": null,
   "id": "af9f5892-ed31-42a6-991b-4e096f582cef",
   "metadata": {
    "execution": {
     "iopub.execute_input": "2023-05-15T08:19:15.737238Z",
     "iopub.status.busy": "2023-05-15T08:19:15.737054Z",
     "iopub.status.idle": "2023-05-15T08:19:15.793212Z",
     "shell.execute_reply": "2023-05-15T08:19:15.792751Z"
    },
    "papermill": {
     "duration": 0.060787,
     "end_time": "2023-05-15T08:19:15.794569",
     "exception": false,
     "start_time": "2023-05-15T08:19:15.733782",
     "status": "completed"
    },
    "tags": []
   },
   "outputs": [],
   "source": [
    "sce = dataset.copy()"
   ]
  },
  {
   "cell_type": "code",
   "execution_count": null,
   "id": "d03f2caf-8e74-430e-b045-0ab80401d165",
   "metadata": {
    "execution": {
     "iopub.execute_input": "2023-05-15T08:19:15.801280Z",
     "iopub.status.busy": "2023-05-15T08:19:15.801087Z",
     "iopub.status.idle": "2023-05-15T08:20:34.004784Z",
     "shell.execute_reply": "2023-05-15T08:20:34.004178Z"
    },
    "papermill": {
     "duration": 78.208327,
     "end_time": "2023-05-15T08:20:34.006197",
     "exception": false,
     "start_time": "2023-05-15T08:19:15.797870",
     "status": "completed"
    },
    "tags": []
   },
   "outputs": [],
   "source": [
    "%%R -i sce -o empty_drop_output\n",
    "set.seed(187)\n",
    "empty_drop_output <- emptyDrops(assay(sce))"
   ]
  },
  {
   "cell_type": "code",
   "execution_count": null,
   "id": "2a34a54b-3ae2-44d6-8679-8769228c5b66",
   "metadata": {
    "execution": {
     "iopub.execute_input": "2023-05-15T08:20:34.035598Z",
     "iopub.status.busy": "2023-05-15T08:20:34.035297Z",
     "iopub.status.idle": "2023-05-15T08:20:34.075683Z",
     "shell.execute_reply": "2023-05-15T08:20:34.075283Z"
    },
    "papermill": {
     "duration": 0.044605,
     "end_time": "2023-05-15T08:20:34.076542",
     "exception": false,
     "start_time": "2023-05-15T08:20:34.031937",
     "status": "completed"
    },
    "tags": []
   },
   "outputs": [],
   "source": [
    "non_empty_barcodes = empty_drop_output[empty_drop_output[\"FDR\"] < 0.001].index\n",
    "dataset = dataset[dataset.obs.index.isin(non_empty_barcodes), :]\n",
    "dataset"
   ]
  },
  {
   "cell_type": "code",
   "execution_count": null,
   "id": "016a91e5-1bef-46fb-b91e-4fb9a6870c44",
   "metadata": {
    "execution": {
     "iopub.execute_input": "2023-05-15T08:20:34.082735Z",
     "iopub.status.busy": "2023-05-15T08:20:34.082550Z",
     "iopub.status.idle": "2023-05-15T08:21:58.044257Z",
     "shell.execute_reply": "2023-05-15T08:21:58.043763Z"
    },
    "papermill": {
     "duration": 83.966435,
     "end_time": "2023-05-15T08:21:58.045692",
     "exception": false,
     "start_time": "2023-05-15T08:20:34.079257",
     "status": "completed"
    },
    "tags": []
   },
   "outputs": [],
   "source": [
    "rna_assay = dataset.copy()\n",
    "sc.pp.normalize_per_cell(rna_assay)\n",
    "sc.pp.log1p(rna_assay)\n",
    "sc.pp.pca(rna_assay)\n",
    "sc.pp.neighbors(rna_assay)\n",
    "sc.tl.leiden(rna_assay, key_added=\"soupx_groups\")\n",
    "\n",
    "soupx_groups = rna_assay.obs[\"soupx_groups\"]\n",
    "\n",
    "del rna_assay\n",
    "\n",
    "genes = dataset.var_names\n",
    "cells = dataset.obs_names\n",
    "data = dataset.X.T.copy()"
   ]
  },
  {
   "cell_type": "code",
   "execution_count": null,
   "id": "9db4ea1f-1580-4f43-a3f0-86002397cd98",
   "metadata": {
    "execution": {
     "iopub.execute_input": "2023-05-15T08:21:58.055772Z",
     "iopub.status.busy": "2023-05-15T08:21:58.055574Z",
     "iopub.status.idle": "2023-05-15T08:22:19.061970Z",
     "shell.execute_reply": "2023-05-15T08:22:19.061396Z"
    },
    "papermill": {
     "duration": 21.011145,
     "end_time": "2023-05-15T08:22:19.063359",
     "exception": false,
     "start_time": "2023-05-15T08:21:58.052214",
     "status": "completed"
    },
    "tags": []
   },
   "outputs": [],
   "source": [
    "%%R -i data -i data_tod -i genes -i cells -i soupx_groups -o out \n",
    "set.seed(187)\n",
    "# specify row and column names of data\n",
    "rownames(data) = genes\n",
    "colnames(data) = cells\n",
    "# ensure correct sparse format for table of counts and table of droplets\n",
    "data <- as(data, \"sparseMatrix\")\n",
    "data_tod <- as(data_tod, \"sparseMatrix\")\n",
    "\n",
    "# Generate SoupChannel Object for SoupX \n",
    "sc = SoupChannel(data_tod, data, calcSoupProfile = FALSE)\n",
    "\n",
    "# Add extra meta data to the SoupChannel object\n",
    "soupProf = data.frame(row.names = rownames(data),\n",
    "                      est = rowSums(data)/sum(data),\n",
    "                      counts = rowSums(data))\n",
    "sc = setSoupProfile(sc, soupProf)\n",
    "# Set cluster information in SoupChannel\n",
    "sc = setClusters(sc, soupx_groups)\n",
    "\n",
    "# Estimate contamination fraction\n",
    "sc  = autoEstCont(sc, doPlot=FALSE, forceAccept = TRUE)\n",
    "# Infer corrected table of counts and rount to integer\n",
    "out = adjustCounts(sc, roundToInt = TRUE)"
   ]
  },
  {
   "cell_type": "code",
   "execution_count": null,
   "id": "32555d5e-5fa3-46dd-a4e0-ddc96ea265e2",
   "metadata": {
    "execution": {
     "iopub.execute_input": "2023-05-15T08:22:19.074423Z",
     "iopub.status.busy": "2023-05-15T08:22:19.074253Z",
     "iopub.status.idle": "2023-05-15T08:22:19.130359Z",
     "shell.execute_reply": "2023-05-15T08:22:19.129951Z"
    },
    "papermill": {
     "duration": 0.060979,
     "end_time": "2023-05-15T08:22:19.131643",
     "exception": false,
     "start_time": "2023-05-15T08:22:19.070664",
     "status": "completed"
    },
    "tags": []
   },
   "outputs": [],
   "source": [
    "dataset.layers[\"soupX_counts\"] = out.T\n",
    "dataset.X = dataset.layers[\"soupX_counts\"].copy()"
   ]
  },
  {
   "cell_type": "code",
   "execution_count": null,
   "id": "e27da7df-e094-4d2a-9109-5a363e012175",
   "metadata": {
    "execution": {
     "iopub.execute_input": "2023-05-15T08:22:19.138451Z",
     "iopub.status.busy": "2023-05-15T08:22:19.138290Z",
     "iopub.status.idle": "2023-05-15T08:22:19.140740Z",
     "shell.execute_reply": "2023-05-15T08:22:19.140398Z"
    },
    "papermill": {
     "duration": 0.006587,
     "end_time": "2023-05-15T08:22:19.141589",
     "exception": false,
     "start_time": "2023-05-15T08:22:19.135002",
     "status": "completed"
    },
    "tags": []
   },
   "outputs": [],
   "source": [
    "data_mat = dataset.X.T"
   ]
  },
  {
   "cell_type": "code",
   "execution_count": null,
   "id": "80a993b1-5ccb-4697-9187-1beb7ab8aff9",
   "metadata": {
    "execution": {
     "iopub.execute_input": "2023-05-15T08:22:19.147674Z",
     "iopub.status.busy": "2023-05-15T08:22:19.147502Z",
     "iopub.status.idle": "2023-05-15T08:22:55.065533Z",
     "shell.execute_reply": "2023-05-15T08:22:55.065065Z"
    },
    "papermill": {
     "duration": 35.922558,
     "end_time": "2023-05-15T08:22:55.066899",
     "exception": false,
     "start_time": "2023-05-15T08:22:19.144341",
     "status": "completed"
    },
    "tags": []
   },
   "outputs": [],
   "source": [
    "%%R -i data_mat -o droplet_class\n",
    "\n",
    "set.seed(187)\n",
    "sce = scDblFinder(\n",
    "    SingleCellExperiment(\n",
    "        list(counts=data_mat),\n",
    "    ) \n",
    ")\n",
    "droplet_class = sce$scDblFinder.class"
   ]
  },
  {
   "cell_type": "code",
   "execution_count": null,
   "id": "d4dd6e9d-fcf2-41fc-8457-c8e0a3cb2c71",
   "metadata": {
    "execution": {
     "iopub.execute_input": "2023-05-15T08:22:55.080415Z",
     "iopub.status.busy": "2023-05-15T08:22:55.080222Z",
     "iopub.status.idle": "2023-05-15T08:22:55.084854Z",
     "shell.execute_reply": "2023-05-15T08:22:55.084529Z"
    },
    "papermill": {
     "duration": 0.008894,
     "end_time": "2023-05-15T08:22:55.085599",
     "exception": false,
     "start_time": "2023-05-15T08:22:55.076705",
     "status": "completed"
    },
    "tags": []
   },
   "outputs": [],
   "source": [
    "dataset.obs[\"scDblFinder_class\"] = droplet_class\n",
    "dataset.obs.scDblFinder_class.value_counts()\n",
    "dataset"
   ]
  },
  {
   "cell_type": "code",
   "execution_count": null,
   "id": "28c95014-2d6c-477f-95cb-9f9f0507520c",
   "metadata": {
    "execution": {
     "iopub.execute_input": "2023-05-15T08:22:55.091835Z",
     "iopub.status.busy": "2023-05-15T08:22:55.091654Z",
     "iopub.status.idle": "2023-05-15T08:22:55.094957Z",
     "shell.execute_reply": "2023-05-15T08:22:55.094651Z"
    },
    "papermill": {
     "duration": 0.007324,
     "end_time": "2023-05-15T08:22:55.095714",
     "exception": false,
     "start_time": "2023-05-15T08:22:55.088390",
     "status": "completed"
    },
    "tags": []
   },
   "outputs": [],
   "source": [
    "dataset = dataset[dataset.obs[\"scDblFinder_class\"] == 1]"
   ]
  },
  {
   "cell_type": "code",
   "execution_count": null,
   "id": "3e22f9e0-bfcb-416c-a151-a9bca3bec3b9",
   "metadata": {
    "execution": {
     "iopub.execute_input": "2023-05-15T08:22:55.102076Z",
     "iopub.status.busy": "2023-05-15T08:22:55.101805Z",
     "iopub.status.idle": "2023-05-15T08:22:55.308235Z",
     "shell.execute_reply": "2023-05-15T08:22:55.307799Z"
    },
    "papermill": {
     "duration": 0.210625,
     "end_time": "2023-05-15T08:22:55.309182",
     "exception": false,
     "start_time": "2023-05-15T08:22:55.098557",
     "status": "completed"
    },
    "tags": []
   },
   "outputs": [],
   "source": [
    "# mitochondrial genes\n",
    "dataset.var[\"mt\"] = dataset.var_names.str.startswith(\"MT-\")\n",
    "# ribosomal genes\n",
    "dataset.var[\"ribo\"] = dataset.var_names.str.startswith((\"RPS\", \"RPL\"))\n",
    "# hemoglobin genes.\n",
    "dataset.var[\"hb\"] = dataset.var_names.str.contains((\"^HB[^(P)]\"))\n",
    "\n",
    "sc.pp.calculate_qc_metrics(dataset,\n",
    "                           qc_vars=['mt', 'ribo', 'hb'],\n",
    "                           percent_top=None,\n",
    "                           log1p=False,\n",
    "                           inplace=True)\n",
    "dataset"
   ]
  },
  {
   "cell_type": "code",
   "execution_count": null,
   "id": "34deee79-4043-428f-8575-aa57b45f6369",
   "metadata": {
    "execution": {
     "iopub.execute_input": "2023-05-15T08:22:55.316513Z",
     "iopub.status.busy": "2023-05-15T08:22:55.316330Z",
     "iopub.status.idle": "2023-05-15T08:22:55.879085Z",
     "shell.execute_reply": "2023-05-15T08:22:55.878693Z"
    },
    "papermill": {
     "duration": 0.567179,
     "end_time": "2023-05-15T08:22:55.879979",
     "exception": false,
     "start_time": "2023-05-15T08:22:55.312800",
     "status": "completed"
    },
    "tags": []
   },
   "outputs": [],
   "source": [
    "fig, ax = plt.subplots(ncols = 4, figsize = (16,4))\n",
    "axis = sc.pl.violin(dataset, \"n_genes_by_counts\", jitter = 0.4, ax = ax[0], show = False)\n",
    "axis.grid(False)\n",
    "axis.set_title(\"Unique Genes per cell\")\n",
    "axis.tick_params(axis = \"x\", bottom =False, labelbottom =False)\n",
    "axis.set_ylabel(\"# genes\")\n",
    "axis.axhline(y = 100, color = \"black\", label = \"cutoff\")\n",
    "axis.legend(fontsize = 14, loc = \"upper right\")\n",
    "\n",
    "axis = sc.pl.violin(dataset, \"pct_counts_mt\", jitter = 0.4, ax = ax[1], show = False)\n",
    "axis.grid(False)\n",
    "axis.set_title(\"Mitochondrial Fraction\")\n",
    "axis.tick_params(axis = \"x\", bottom =False, labelbottom =False)\n",
    "axis.set_ylabel(\"% mitochondrial genes\")\n",
    "axis.axhline(y = 10, color = \"black\", label = \"cutoff\")\n",
    "axis.legend(fontsize = 14, loc = \"upper right\")\n",
    "\n",
    "axis = sc.pl.violin(dataset, \"pct_counts_hb\", jitter = 0.4, ax = ax[2], show = False, size =2)\n",
    "axis.grid(False)\n",
    "axis.set_title(\"Hemoglobin Fraction\")\n",
    "axis.tick_params(axis = \"x\", bottom =False, labelbottom =False)\n",
    "axis.set_ylabel(\"% hemoglobin genes\")\n",
    "axis.axhline(y = 3, color = \"black\", label = \"cutoff\")\n",
    "axis.legend(fontsize = 14, loc = \"upper right\")\n",
    "#axis.set_ylim(0,5)\n",
    "\n",
    "axis = sc.pl.violin(dataset, \"pct_counts_ribo\", jitter = 0.4, ax = ax[3], show = False)\n",
    "axis.grid(False)\n",
    "axis.set_title(\"Ribosomal Fraction\")\n",
    "axis.tick_params(axis = \"x\", bottom =False, labelbottom =False)\n",
    "axis.set_ylabel(\"% ribosome genes\")\n",
    "\n",
    "plt.tight_layout()\n",
    "#plt.savefig(f\"{outputDir}08_gene_based_filtering.pdf\", dpi = 300)\n",
    "plt.show()\n",
    "\n"
   ]
  },
  {
   "cell_type": "code",
   "execution_count": null,
   "id": "d7ade754-843e-4840-8707-426613d8c0c5",
   "metadata": {
    "execution": {
     "iopub.execute_input": "2023-05-15T08:22:55.889378Z",
     "iopub.status.busy": "2023-05-15T08:22:55.889212Z",
     "iopub.status.idle": "2023-05-15T08:22:55.901264Z",
     "shell.execute_reply": "2023-05-15T08:22:55.900942Z"
    },
    "papermill": {
     "duration": 0.017339,
     "end_time": "2023-05-15T08:22:55.902033",
     "exception": false,
     "start_time": "2023-05-15T08:22:55.884694",
     "status": "completed"
    },
    "tags": []
   },
   "outputs": [],
   "source": [
    "dataset = dataset[dataset.obs.pct_counts_mt < 10, :]\n",
    "dataset = dataset[dataset.obs.n_genes_by_counts > 100, :]\n",
    "dataset = dataset[dataset.obs.pct_counts_hb < 3, :]\n",
    "dataset"
   ]
  },
  {
   "cell_type": "code",
   "execution_count": null,
   "id": "1941fa36-e865-4500-b586-f7a32d142c9b",
   "metadata": {
    "execution": {
     "iopub.execute_input": "2023-05-15T08:22:55.910827Z",
     "iopub.status.busy": "2023-05-15T08:22:55.910478Z",
     "iopub.status.idle": "2023-05-15T08:22:55.913361Z",
     "shell.execute_reply": "2023-05-15T08:22:55.913059Z"
    },
    "papermill": {
     "duration": 0.008069,
     "end_time": "2023-05-15T08:22:55.914122",
     "exception": false,
     "start_time": "2023-05-15T08:22:55.906053",
     "status": "completed"
    },
    "tags": []
   },
   "outputs": [],
   "source": [
    "metadata.columns"
   ]
  },
  {
   "cell_type": "code",
   "execution_count": null,
   "id": "2e0ff8c3-2aa9-4a01-9b88-5912a6734447",
   "metadata": {
    "execution": {
     "iopub.execute_input": "2023-05-15T08:22:55.923020Z",
     "iopub.status.busy": "2023-05-15T08:22:55.922868Z",
     "iopub.status.idle": "2023-05-15T08:22:55.982855Z",
     "shell.execute_reply": "2023-05-15T08:22:55.982385Z"
    },
    "papermill": {
     "duration": 0.065569,
     "end_time": "2023-05-15T08:22:55.983859",
     "exception": false,
     "start_time": "2023-05-15T08:22:55.918290",
     "status": "completed"
    },
    "tags": []
   },
   "outputs": [],
   "source": [
    "for col in metadata.columns:\n",
    "    dataset.obs[col] = metadata.loc[metadata[\"Run\"] == sample_name, col].to_list()[0]"
   ]
  },
  {
   "cell_type": "code",
   "execution_count": null,
   "id": "b84578d3-d63e-419c-a272-a0b8317d05ab",
   "metadata": {
    "execution": {
     "iopub.execute_input": "2023-05-15T08:22:55.993738Z",
     "iopub.status.busy": "2023-05-15T08:22:55.993548Z",
     "iopub.status.idle": "2023-05-15T08:22:56.455455Z",
     "shell.execute_reply": "2023-05-15T08:22:56.454985Z"
    },
    "papermill": {
     "duration": 0.46818,
     "end_time": "2023-05-15T08:22:56.456944",
     "exception": false,
     "start_time": "2023-05-15T08:22:55.988764",
     "status": "completed"
    },
    "tags": []
   },
   "outputs": [],
   "source": [
    "dataset.write(f\"../../int_data/{sample_name}_qc.h5ad\")"
   ]
  },
  {
   "cell_type": "code",
   "execution_count": null,
   "id": "501b33a0-432d-415f-ae82-50723484b85d",
   "metadata": {
    "execution": {
     "iopub.execute_input": "2023-05-15T08:22:56.466423Z",
     "iopub.status.busy": "2023-05-15T08:22:56.466228Z",
     "iopub.status.idle": "2023-05-15T08:22:56.469460Z",
     "shell.execute_reply": "2023-05-15T08:22:56.469138Z"
    },
    "papermill": {
     "duration": 0.008756,
     "end_time": "2023-05-15T08:22:56.470261",
     "exception": false,
     "start_time": "2023-05-15T08:22:56.461505",
     "status": "completed"
    },
    "tags": []
   },
   "outputs": [],
   "source": [
    "dataset"
   ]
  }
 ],
 "metadata": {
  "kernelspec": {
   "display_name": "py_R",
   "language": "python",
   "name": "python_r"
  },
  "language_info": {
   "codemirror_mode": {
    "name": "ipython",
    "version": 3
   },
   "file_extension": ".py",
   "mimetype": "text/x-python",
   "name": "python",
   "nbconvert_exporter": "python",
   "pygments_lexer": "ipython3",
   "version": "3.10.9"
  },
  "papermill": {
   "default_parameters": {},
   "duration": 239.039513,
   "end_time": "2023-05-15T08:22:58.293577",
   "environment_variables": {},
   "exception": null,
   "input_path": "template.ipynb",
   "output_path": "SRR13329109.ipynb",
   "parameters": {
    "sample_name": "SRR13329109"
   },
   "start_time": "2023-05-15T08:18:59.254064",
   "version": "2.4.0"
  }
 },
 "nbformat": 4,
 "nbformat_minor": 5
}
