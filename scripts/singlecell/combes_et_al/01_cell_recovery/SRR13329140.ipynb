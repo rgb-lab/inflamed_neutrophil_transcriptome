{
 "cells": [
  {
   "cell_type": "code",
   "execution_count": null,
   "id": "4c0f2fa8-5232-4f47-a7ec-6c9bbabe50e2",
   "metadata": {
    "execution": {
     "iopub.execute_input": "2023-05-15T07:43:06.341933Z",
     "iopub.status.busy": "2023-05-15T07:43:06.341770Z",
     "iopub.status.idle": "2023-05-15T07:43:06.348737Z",
     "shell.execute_reply": "2023-05-15T07:43:06.348421Z"
    },
    "papermill": {
     "duration": 0.011664,
     "end_time": "2023-05-15T07:43:06.349633",
     "exception": false,
     "start_time": "2023-05-15T07:43:06.337969",
     "status": "completed"
    },
    "tags": [
     "parameters"
    ]
   },
   "outputs": [],
   "source": [
    "sample_name = \"SRR13329143\""
   ]
  },
  {
   "cell_type": "code",
   "execution_count": null,
   "id": "ea2e22bf",
   "metadata": {
    "execution": {
     "iopub.execute_input": "2023-05-15T07:43:06.355096Z",
     "iopub.status.busy": "2023-05-15T07:43:06.354938Z",
     "iopub.status.idle": "2023-05-15T07:43:06.357495Z",
     "shell.execute_reply": "2023-05-15T07:43:06.357191Z"
    },
    "papermill": {
     "duration": 0.006198,
     "end_time": "2023-05-15T07:43:06.358282",
     "exception": false,
     "start_time": "2023-05-15T07:43:06.352084",
     "status": "completed"
    },
    "tags": [
     "injected-parameters"
    ]
   },
   "outputs": [],
   "source": [
    "# Parameters\n",
    "sample_name = \"SRR13329140\"\n"
   ]
  },
  {
   "cell_type": "code",
   "execution_count": null,
   "id": "f87ed95b-2b67-4a5a-8fe2-47359b1dd2a9",
   "metadata": {
    "execution": {
     "iopub.execute_input": "2023-05-15T07:43:06.363617Z",
     "iopub.status.busy": "2023-05-15T07:43:06.363332Z",
     "iopub.status.idle": "2023-05-15T07:43:06.365479Z",
     "shell.execute_reply": "2023-05-15T07:43:06.365184Z"
    },
    "papermill": {
     "duration": 0.005566,
     "end_time": "2023-05-15T07:43:06.366221",
     "exception": false,
     "start_time": "2023-05-15T07:43:06.360655",
     "status": "completed"
    },
    "tags": []
   },
   "outputs": [],
   "source": [
    "import warnings\n",
    "warnings.simplefilter(action='ignore', category=FutureWarning)\n",
    "warnings.simplefilter(action='ignore', category=UserWarning)"
   ]
  },
  {
   "cell_type": "code",
   "execution_count": null,
   "id": "85161f19-b2c5-490b-8cab-c2cf9653b304",
   "metadata": {
    "execution": {
     "iopub.execute_input": "2023-05-15T07:43:06.371653Z",
     "iopub.status.busy": "2023-05-15T07:43:06.371371Z",
     "iopub.status.idle": "2023-05-15T07:43:10.452995Z",
     "shell.execute_reply": "2023-05-15T07:43:10.452530Z"
    },
    "papermill": {
     "duration": 4.085646,
     "end_time": "2023-05-15T07:43:10.454309",
     "exception": false,
     "start_time": "2023-05-15T07:43:06.368663",
     "status": "completed"
    },
    "tags": []
   },
   "outputs": [],
   "source": [
    "import gc\n",
    "import scanpy as sc\n",
    "import muon as mu\n",
    "import seaborn as sns\n",
    "import os\n",
    "import pandas as pd\n",
    "from matplotlib import pyplot as plt\n",
    "\n",
    "os.environ['R_HOME'] = '/gpfs/bwfor/work/ws/hd_fu399-conda/conda/envs/python_R/lib/R/'\n",
    "import anndata2ri\n",
    "import logging\n",
    "\n",
    "import rpy2.rinterface_lib.callbacks as rcb\n",
    "import rpy2.robjects as ro\n",
    "\n",
    "rcb.logger.setLevel(logging.ERROR)\n",
    "ro.pandas2ri.activate()\n",
    "anndata2ri.activate()\n",
    "\n",
    "%load_ext rpy2.ipython"
   ]
  },
  {
   "cell_type": "code",
   "execution_count": null,
   "id": "fc4ade78-b728-4704-9db6-45fbaab62ba1",
   "metadata": {
    "execution": {
     "iopub.execute_input": "2023-05-15T07:43:10.461904Z",
     "iopub.status.busy": "2023-05-15T07:43:10.461668Z",
     "iopub.status.idle": "2023-05-15T07:43:20.261923Z",
     "shell.execute_reply": "2023-05-15T07:43:20.261381Z"
    },
    "papermill": {
     "duration": 9.804627,
     "end_time": "2023-05-15T07:43:20.263402",
     "exception": false,
     "start_time": "2023-05-15T07:43:10.458775",
     "status": "completed"
    },
    "tags": []
   },
   "outputs": [],
   "source": [
    "%%R\n",
    "library(SoupX)\n",
    "library(Seurat)\n",
    "library(scater)\n",
    "library(scDblFinder)\n",
    "library(BiocParallel)\n",
    "library(MuDataSeurat)\n",
    "library(DropletUtils)"
   ]
  },
  {
   "cell_type": "code",
   "execution_count": null,
   "id": "f7424d90-7690-4290-8651-1db3f9df3a35",
   "metadata": {
    "execution": {
     "iopub.execute_input": "2023-05-15T07:43:20.272082Z",
     "iopub.status.busy": "2023-05-15T07:43:20.271900Z",
     "iopub.status.idle": "2023-05-15T07:43:20.277635Z",
     "shell.execute_reply": "2023-05-15T07:43:20.277301Z"
    },
    "papermill": {
     "duration": 0.010368,
     "end_time": "2023-05-15T07:43:20.278510",
     "exception": false,
     "start_time": "2023-05-15T07:43:20.268142",
     "status": "completed"
    },
    "tags": []
   },
   "outputs": [],
   "source": [
    "metadata = pd.read_csv(\"../../combes_metadata.txt\")"
   ]
  },
  {
   "cell_type": "code",
   "execution_count": null,
   "id": "2574ecf1-bad4-4c33-8f3f-718a358727ab",
   "metadata": {
    "execution": {
     "iopub.execute_input": "2023-05-15T07:43:20.284397Z",
     "iopub.status.busy": "2023-05-15T07:43:20.284143Z",
     "iopub.status.idle": "2023-05-15T07:43:20.286194Z",
     "shell.execute_reply": "2023-05-15T07:43:20.285890Z"
    },
    "papermill": {
     "duration": 0.005834,
     "end_time": "2023-05-15T07:43:20.286989",
     "exception": false,
     "start_time": "2023-05-15T07:43:20.281155",
     "status": "completed"
    },
    "tags": []
   },
   "outputs": [],
   "source": [
    "raw_input = f\"/home/hd/hd_hd/hd_fu399/sds-hd/sd21k006/scRNAseq/revision_natcomm/combes_et_al/fetchngs/results/fastq/{sample_name}/{sample_name}/outs/raw_feature_bc_matrix.h5\""
   ]
  },
  {
   "cell_type": "code",
   "execution_count": null,
   "id": "e266d388-1802-435c-93a5-90067358739c",
   "metadata": {
    "execution": {
     "iopub.execute_input": "2023-05-15T07:43:20.292806Z",
     "iopub.status.busy": "2023-05-15T07:43:20.292628Z",
     "iopub.status.idle": "2023-05-15T07:43:20.669473Z",
     "shell.execute_reply": "2023-05-15T07:43:20.669029Z"
    },
    "papermill": {
     "duration": 0.380931,
     "end_time": "2023-05-15T07:43:20.670423",
     "exception": false,
     "start_time": "2023-05-15T07:43:20.289492",
     "status": "completed"
    },
    "tags": []
   },
   "outputs": [],
   "source": [
    "dataset = sc.read_10x_h5(raw_input)\n",
    "dataset.var_names_make_unique()\n",
    "dataset.obs_names_make_unique()\n",
    "\n",
    "dataset.layers[\"raw_counts\"] = dataset.X.copy()\n",
    "data_tod = dataset.layers[\"raw_counts\"].T.copy()\n",
    "\n",
    "dataset"
   ]
  },
  {
   "cell_type": "code",
   "execution_count": null,
   "id": "af9f5892-ed31-42a6-991b-4e096f582cef",
   "metadata": {
    "execution": {
     "iopub.execute_input": "2023-05-15T07:43:20.676819Z",
     "iopub.status.busy": "2023-05-15T07:43:20.676634Z",
     "iopub.status.idle": "2023-05-15T07:43:20.710232Z",
     "shell.execute_reply": "2023-05-15T07:43:20.709818Z"
    },
    "papermill": {
     "duration": 0.038191,
     "end_time": "2023-05-15T07:43:20.711594",
     "exception": false,
     "start_time": "2023-05-15T07:43:20.673403",
     "status": "completed"
    },
    "tags": []
   },
   "outputs": [],
   "source": [
    "sce = dataset.copy()"
   ]
  },
  {
   "cell_type": "code",
   "execution_count": null,
   "id": "d03f2caf-8e74-430e-b045-0ab80401d165",
   "metadata": {
    "execution": {
     "iopub.execute_input": "2023-05-15T07:43:20.718065Z",
     "iopub.status.busy": "2023-05-15T07:43:20.717899Z",
     "iopub.status.idle": "2023-05-15T07:44:06.182878Z",
     "shell.execute_reply": "2023-05-15T07:44:06.182257Z"
    },
    "papermill": {
     "duration": 45.469639,
     "end_time": "2023-05-15T07:44:06.184322",
     "exception": false,
     "start_time": "2023-05-15T07:43:20.714683",
     "status": "completed"
    },
    "tags": []
   },
   "outputs": [],
   "source": [
    "%%R -i sce -o empty_drop_output\n",
    "set.seed(187)\n",
    "empty_drop_output <- emptyDrops(assay(sce))"
   ]
  },
  {
   "cell_type": "code",
   "execution_count": null,
   "id": "2a34a54b-3ae2-44d6-8679-8769228c5b66",
   "metadata": {
    "execution": {
     "iopub.execute_input": "2023-05-15T07:44:06.193327Z",
     "iopub.status.busy": "2023-05-15T07:44:06.193146Z",
     "iopub.status.idle": "2023-05-15T07:44:06.213001Z",
     "shell.execute_reply": "2023-05-15T07:44:06.212694Z"
    },
    "papermill": {
     "duration": 0.0245,
     "end_time": "2023-05-15T07:44:06.213840",
     "exception": false,
     "start_time": "2023-05-15T07:44:06.189340",
     "status": "completed"
    },
    "tags": []
   },
   "outputs": [],
   "source": [
    "non_empty_barcodes = empty_drop_output[empty_drop_output[\"FDR\"] < 0.001].index\n",
    "dataset = dataset[dataset.obs.index.isin(non_empty_barcodes), :]\n",
    "dataset"
   ]
  },
  {
   "cell_type": "code",
   "execution_count": null,
   "id": "016a91e5-1bef-46fb-b91e-4fb9a6870c44",
   "metadata": {
    "execution": {
     "iopub.execute_input": "2023-05-15T07:44:06.220018Z",
     "iopub.status.busy": "2023-05-15T07:44:06.219843Z",
     "iopub.status.idle": "2023-05-15T07:44:09.355001Z",
     "shell.execute_reply": "2023-05-15T07:44:09.354512Z"
    },
    "papermill": {
     "duration": 3.139752,
     "end_time": "2023-05-15T07:44:09.356357",
     "exception": false,
     "start_time": "2023-05-15T07:44:06.216605",
     "status": "completed"
    },
    "tags": []
   },
   "outputs": [],
   "source": [
    "rna_assay = dataset.copy()\n",
    "sc.pp.normalize_per_cell(rna_assay)\n",
    "sc.pp.log1p(rna_assay)\n",
    "sc.pp.pca(rna_assay)\n",
    "sc.pp.neighbors(rna_assay)\n",
    "sc.tl.leiden(rna_assay, key_added=\"soupx_groups\")\n",
    "\n",
    "soupx_groups = rna_assay.obs[\"soupx_groups\"]\n",
    "\n",
    "del rna_assay\n",
    "\n",
    "genes = dataset.var_names\n",
    "cells = dataset.obs_names\n",
    "data = dataset.X.T.copy()"
   ]
  },
  {
   "cell_type": "code",
   "execution_count": null,
   "id": "9db4ea1f-1580-4f43-a3f0-86002397cd98",
   "metadata": {
    "execution": {
     "iopub.execute_input": "2023-05-15T07:44:09.365386Z",
     "iopub.status.busy": "2023-05-15T07:44:09.365205Z",
     "iopub.status.idle": "2023-05-15T07:44:18.312526Z",
     "shell.execute_reply": "2023-05-15T07:44:18.312058Z"
    },
    "papermill": {
     "duration": 8.952689,
     "end_time": "2023-05-15T07:44:18.314088",
     "exception": false,
     "start_time": "2023-05-15T07:44:09.361399",
     "status": "completed"
    },
    "tags": []
   },
   "outputs": [],
   "source": [
    "%%R -i data -i data_tod -i genes -i cells -i soupx_groups -o out \n",
    "set.seed(187)\n",
    "# specify row and column names of data\n",
    "rownames(data) = genes\n",
    "colnames(data) = cells\n",
    "# ensure correct sparse format for table of counts and table of droplets\n",
    "data <- as(data, \"sparseMatrix\")\n",
    "data_tod <- as(data_tod, \"sparseMatrix\")\n",
    "\n",
    "# Generate SoupChannel Object for SoupX \n",
    "sc = SoupChannel(data_tod, data, calcSoupProfile = FALSE)\n",
    "\n",
    "# Add extra meta data to the SoupChannel object\n",
    "soupProf = data.frame(row.names = rownames(data),\n",
    "                      est = rowSums(data)/sum(data),\n",
    "                      counts = rowSums(data))\n",
    "sc = setSoupProfile(sc, soupProf)\n",
    "# Set cluster information in SoupChannel\n",
    "sc = setClusters(sc, soupx_groups)\n",
    "\n",
    "# Estimate contamination fraction\n",
    "sc  = autoEstCont(sc, doPlot=FALSE, forceAccept = TRUE)\n",
    "# Infer corrected table of counts and rount to integer\n",
    "out = adjustCounts(sc, roundToInt = TRUE)"
   ]
  },
  {
   "cell_type": "code",
   "execution_count": null,
   "id": "32555d5e-5fa3-46dd-a4e0-ddc96ea265e2",
   "metadata": {
    "execution": {
     "iopub.execute_input": "2023-05-15T07:44:18.322714Z",
     "iopub.status.busy": "2023-05-15T07:44:18.322519Z",
     "iopub.status.idle": "2023-05-15T07:44:18.341738Z",
     "shell.execute_reply": "2023-05-15T07:44:18.341323Z"
    },
    "papermill": {
     "duration": 0.023859,
     "end_time": "2023-05-15T07:44:18.342847",
     "exception": false,
     "start_time": "2023-05-15T07:44:18.318988",
     "status": "completed"
    },
    "tags": []
   },
   "outputs": [],
   "source": [
    "dataset.layers[\"soupX_counts\"] = out.T\n",
    "dataset.X = dataset.layers[\"soupX_counts\"].copy()"
   ]
  },
  {
   "cell_type": "code",
   "execution_count": null,
   "id": "e27da7df-e094-4d2a-9109-5a363e012175",
   "metadata": {
    "execution": {
     "iopub.execute_input": "2023-05-15T07:44:18.349583Z",
     "iopub.status.busy": "2023-05-15T07:44:18.349381Z",
     "iopub.status.idle": "2023-05-15T07:44:18.351655Z",
     "shell.execute_reply": "2023-05-15T07:44:18.351345Z"
    },
    "papermill": {
     "duration": 0.006441,
     "end_time": "2023-05-15T07:44:18.352474",
     "exception": false,
     "start_time": "2023-05-15T07:44:18.346033",
     "status": "completed"
    },
    "tags": []
   },
   "outputs": [],
   "source": [
    "data_mat = dataset.X.T"
   ]
  },
  {
   "cell_type": "code",
   "execution_count": null,
   "id": "80a993b1-5ccb-4697-9187-1beb7ab8aff9",
   "metadata": {
    "execution": {
     "iopub.execute_input": "2023-05-15T07:44:18.358935Z",
     "iopub.status.busy": "2023-05-15T07:44:18.358676Z",
     "iopub.status.idle": "2023-05-15T07:44:34.039911Z",
     "shell.execute_reply": "2023-05-15T07:44:34.039444Z"
    },
    "papermill": {
     "duration": 15.686015,
     "end_time": "2023-05-15T07:44:34.041362",
     "exception": false,
     "start_time": "2023-05-15T07:44:18.355347",
     "status": "completed"
    },
    "tags": []
   },
   "outputs": [],
   "source": [
    "%%R -i data_mat -o droplet_class\n",
    "\n",
    "set.seed(187)\n",
    "sce = scDblFinder(\n",
    "    SingleCellExperiment(\n",
    "        list(counts=data_mat),\n",
    "    ) \n",
    ")\n",
    "droplet_class = sce$scDblFinder.class"
   ]
  },
  {
   "cell_type": "code",
   "execution_count": null,
   "id": "d4dd6e9d-fcf2-41fc-8457-c8e0a3cb2c71",
   "metadata": {
    "execution": {
     "iopub.execute_input": "2023-05-15T07:44:34.050359Z",
     "iopub.status.busy": "2023-05-15T07:44:34.050190Z",
     "iopub.status.idle": "2023-05-15T07:44:34.054159Z",
     "shell.execute_reply": "2023-05-15T07:44:34.053855Z"
    },
    "papermill": {
     "duration": 0.008442,
     "end_time": "2023-05-15T07:44:34.054935",
     "exception": false,
     "start_time": "2023-05-15T07:44:34.046493",
     "status": "completed"
    },
    "tags": []
   },
   "outputs": [],
   "source": [
    "dataset.obs[\"scDblFinder_class\"] = droplet_class\n",
    "dataset.obs.scDblFinder_class.value_counts()\n",
    "dataset"
   ]
  },
  {
   "cell_type": "code",
   "execution_count": null,
   "id": "28c95014-2d6c-477f-95cb-9f9f0507520c",
   "metadata": {
    "execution": {
     "iopub.execute_input": "2023-05-15T07:44:34.061251Z",
     "iopub.status.busy": "2023-05-15T07:44:34.061063Z",
     "iopub.status.idle": "2023-05-15T07:44:34.064454Z",
     "shell.execute_reply": "2023-05-15T07:44:34.064143Z"
    },
    "papermill": {
     "duration": 0.007481,
     "end_time": "2023-05-15T07:44:34.065251",
     "exception": false,
     "start_time": "2023-05-15T07:44:34.057770",
     "status": "completed"
    },
    "tags": []
   },
   "outputs": [],
   "source": [
    "dataset = dataset[dataset.obs[\"scDblFinder_class\"] == 1]"
   ]
  },
  {
   "cell_type": "code",
   "execution_count": null,
   "id": "3e22f9e0-bfcb-416c-a151-a9bca3bec3b9",
   "metadata": {
    "execution": {
     "iopub.execute_input": "2023-05-15T07:44:34.071676Z",
     "iopub.status.busy": "2023-05-15T07:44:34.071411Z",
     "iopub.status.idle": "2023-05-15T07:44:34.168268Z",
     "shell.execute_reply": "2023-05-15T07:44:34.167819Z"
    },
    "papermill": {
     "duration": 0.101082,
     "end_time": "2023-05-15T07:44:34.169240",
     "exception": false,
     "start_time": "2023-05-15T07:44:34.068158",
     "status": "completed"
    },
    "tags": []
   },
   "outputs": [],
   "source": [
    "# mitochondrial genes\n",
    "dataset.var[\"mt\"] = dataset.var_names.str.startswith(\"MT-\")\n",
    "# ribosomal genes\n",
    "dataset.var[\"ribo\"] = dataset.var_names.str.startswith((\"RPS\", \"RPL\"))\n",
    "# hemoglobin genes.\n",
    "dataset.var[\"hb\"] = dataset.var_names.str.contains((\"^HB[^(P)]\"))\n",
    "\n",
    "sc.pp.calculate_qc_metrics(dataset,\n",
    "                           qc_vars=['mt', 'ribo', 'hb'],\n",
    "                           percent_top=None,\n",
    "                           log1p=False,\n",
    "                           inplace=True)\n",
    "dataset"
   ]
  },
  {
   "cell_type": "code",
   "execution_count": null,
   "id": "34deee79-4043-428f-8575-aa57b45f6369",
   "metadata": {
    "execution": {
     "iopub.execute_input": "2023-05-15T07:44:34.176424Z",
     "iopub.status.busy": "2023-05-15T07:44:34.176235Z",
     "iopub.status.idle": "2023-05-15T07:44:34.603098Z",
     "shell.execute_reply": "2023-05-15T07:44:34.602687Z"
    },
    "papermill": {
     "duration": 0.431636,
     "end_time": "2023-05-15T07:44:34.604241",
     "exception": false,
     "start_time": "2023-05-15T07:44:34.172605",
     "status": "completed"
    },
    "tags": []
   },
   "outputs": [],
   "source": [
    "fig, ax = plt.subplots(ncols = 4, figsize = (16,4))\n",
    "axis = sc.pl.violin(dataset, \"n_genes_by_counts\", jitter = 0.4, ax = ax[0], show = False)\n",
    "axis.grid(False)\n",
    "axis.set_title(\"Unique Genes per cell\")\n",
    "axis.tick_params(axis = \"x\", bottom =False, labelbottom =False)\n",
    "axis.set_ylabel(\"# genes\")\n",
    "axis.axhline(y = 100, color = \"black\", label = \"cutoff\")\n",
    "axis.legend(fontsize = 14, loc = \"upper right\")\n",
    "\n",
    "axis = sc.pl.violin(dataset, \"pct_counts_mt\", jitter = 0.4, ax = ax[1], show = False)\n",
    "axis.grid(False)\n",
    "axis.set_title(\"Mitochondrial Fraction\")\n",
    "axis.tick_params(axis = \"x\", bottom =False, labelbottom =False)\n",
    "axis.set_ylabel(\"% mitochondrial genes\")\n",
    "axis.axhline(y = 10, color = \"black\", label = \"cutoff\")\n",
    "axis.legend(fontsize = 14, loc = \"upper right\")\n",
    "\n",
    "axis = sc.pl.violin(dataset, \"pct_counts_hb\", jitter = 0.4, ax = ax[2], show = False, size =2)\n",
    "axis.grid(False)\n",
    "axis.set_title(\"Hemoglobin Fraction\")\n",
    "axis.tick_params(axis = \"x\", bottom =False, labelbottom =False)\n",
    "axis.set_ylabel(\"% hemoglobin genes\")\n",
    "axis.axhline(y = 3, color = \"black\", label = \"cutoff\")\n",
    "axis.legend(fontsize = 14, loc = \"upper right\")\n",
    "#axis.set_ylim(0,5)\n",
    "\n",
    "axis = sc.pl.violin(dataset, \"pct_counts_ribo\", jitter = 0.4, ax = ax[3], show = False)\n",
    "axis.grid(False)\n",
    "axis.set_title(\"Ribosomal Fraction\")\n",
    "axis.tick_params(axis = \"x\", bottom =False, labelbottom =False)\n",
    "axis.set_ylabel(\"% ribosome genes\")\n",
    "\n",
    "plt.tight_layout()\n",
    "#plt.savefig(f\"{outputDir}08_gene_based_filtering.pdf\", dpi = 300)\n",
    "plt.show()\n",
    "\n"
   ]
  },
  {
   "cell_type": "code",
   "execution_count": null,
   "id": "d7ade754-843e-4840-8707-426613d8c0c5",
   "metadata": {
    "execution": {
     "iopub.execute_input": "2023-05-15T07:44:34.613663Z",
     "iopub.status.busy": "2023-05-15T07:44:34.613485Z",
     "iopub.status.idle": "2023-05-15T07:44:34.622381Z",
     "shell.execute_reply": "2023-05-15T07:44:34.622067Z"
    },
    "papermill": {
     "duration": 0.014271,
     "end_time": "2023-05-15T07:44:34.623169",
     "exception": false,
     "start_time": "2023-05-15T07:44:34.608898",
     "status": "completed"
    },
    "tags": []
   },
   "outputs": [],
   "source": [
    "dataset = dataset[dataset.obs.pct_counts_mt < 10, :]\n",
    "dataset = dataset[dataset.obs.n_genes_by_counts > 100, :]\n",
    "dataset = dataset[dataset.obs.pct_counts_hb < 3, :]\n",
    "dataset"
   ]
  },
  {
   "cell_type": "code",
   "execution_count": null,
   "id": "1941fa36-e865-4500-b586-f7a32d142c9b",
   "metadata": {
    "execution": {
     "iopub.execute_input": "2023-05-15T07:44:34.632004Z",
     "iopub.status.busy": "2023-05-15T07:44:34.631754Z",
     "iopub.status.idle": "2023-05-15T07:44:34.634727Z",
     "shell.execute_reply": "2023-05-15T07:44:34.634382Z"
    },
    "papermill": {
     "duration": 0.008317,
     "end_time": "2023-05-15T07:44:34.635509",
     "exception": false,
     "start_time": "2023-05-15T07:44:34.627192",
     "status": "completed"
    },
    "tags": []
   },
   "outputs": [],
   "source": [
    "metadata.columns"
   ]
  },
  {
   "cell_type": "code",
   "execution_count": null,
   "id": "2e0ff8c3-2aa9-4a01-9b88-5912a6734447",
   "metadata": {
    "execution": {
     "iopub.execute_input": "2023-05-15T07:44:34.644552Z",
     "iopub.status.busy": "2023-05-15T07:44:34.644325Z",
     "iopub.status.idle": "2023-05-15T07:44:34.674411Z",
     "shell.execute_reply": "2023-05-15T07:44:34.673969Z"
    },
    "papermill": {
     "duration": 0.036321,
     "end_time": "2023-05-15T07:44:34.676066",
     "exception": false,
     "start_time": "2023-05-15T07:44:34.639745",
     "status": "completed"
    },
    "tags": []
   },
   "outputs": [],
   "source": [
    "for col in metadata.columns:\n",
    "    dataset.obs[col] = metadata.loc[metadata[\"Run\"] == sample_name, col].to_list()[0]"
   ]
  },
  {
   "cell_type": "code",
   "execution_count": null,
   "id": "b84578d3-d63e-419c-a272-a0b8317d05ab",
   "metadata": {
    "execution": {
     "iopub.execute_input": "2023-05-15T07:44:34.685802Z",
     "iopub.status.busy": "2023-05-15T07:44:34.685543Z",
     "iopub.status.idle": "2023-05-15T07:44:34.944779Z",
     "shell.execute_reply": "2023-05-15T07:44:34.944306Z"
    },
    "papermill": {
     "duration": 0.265321,
     "end_time": "2023-05-15T07:44:34.946016",
     "exception": false,
     "start_time": "2023-05-15T07:44:34.680695",
     "status": "completed"
    },
    "tags": []
   },
   "outputs": [],
   "source": [
    "dataset.write(f\"../../int_data/{sample_name}_qc.h5ad\")"
   ]
  },
  {
   "cell_type": "code",
   "execution_count": null,
   "id": "501b33a0-432d-415f-ae82-50723484b85d",
   "metadata": {
    "execution": {
     "iopub.execute_input": "2023-05-15T07:44:34.955494Z",
     "iopub.status.busy": "2023-05-15T07:44:34.955352Z",
     "iopub.status.idle": "2023-05-15T07:44:34.958194Z",
     "shell.execute_reply": "2023-05-15T07:44:34.957893Z"
    },
    "papermill": {
     "duration": 0.00826,
     "end_time": "2023-05-15T07:44:34.958992",
     "exception": false,
     "start_time": "2023-05-15T07:44:34.950732",
     "status": "completed"
    },
    "tags": []
   },
   "outputs": [],
   "source": [
    "dataset"
   ]
  }
 ],
 "metadata": {
  "kernelspec": {
   "display_name": "py_R",
   "language": "python",
   "name": "python_r"
  },
  "language_info": {
   "codemirror_mode": {
    "name": "ipython",
    "version": 3
   },
   "file_extension": ".py",
   "mimetype": "text/x-python",
   "name": "python",
   "nbconvert_exporter": "python",
   "pygments_lexer": "ipython3",
   "version": "3.10.9"
  },
  "papermill": {
   "default_parameters": {},
   "duration": 90.958583,
   "end_time": "2023-05-15T07:44:36.281353",
   "environment_variables": {},
   "exception": null,
   "input_path": "template.ipynb",
   "output_path": "SRR13329140.ipynb",
   "parameters": {
    "sample_name": "SRR13329140"
   },
   "start_time": "2023-05-15T07:43:05.322770",
   "version": "2.4.0"
  }
 },
 "nbformat": 4,
 "nbformat_minor": 5
}
