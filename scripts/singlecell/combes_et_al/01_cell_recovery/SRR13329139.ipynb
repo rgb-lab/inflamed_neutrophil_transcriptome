{
 "cells": [
  {
   "cell_type": "code",
   "execution_count": null,
   "id": "4c0f2fa8-5232-4f47-a7ec-6c9bbabe50e2",
   "metadata": {
    "execution": {
     "iopub.execute_input": "2023-05-15T09:04:35.559239Z",
     "iopub.status.busy": "2023-05-15T09:04:35.559073Z",
     "iopub.status.idle": "2023-05-15T09:04:35.563434Z",
     "shell.execute_reply": "2023-05-15T09:04:35.563127Z"
    },
    "papermill": {
     "duration": 0.009479,
     "end_time": "2023-05-15T09:04:35.564314",
     "exception": false,
     "start_time": "2023-05-15T09:04:35.554835",
     "status": "completed"
    },
    "tags": [
     "parameters"
    ]
   },
   "outputs": [],
   "source": [
    "sample_name = \"SRR13329143\""
   ]
  },
  {
   "cell_type": "code",
   "execution_count": null,
   "id": "23425c25",
   "metadata": {
    "execution": {
     "iopub.execute_input": "2023-05-15T09:04:35.569427Z",
     "iopub.status.busy": "2023-05-15T09:04:35.569202Z",
     "iopub.status.idle": "2023-05-15T09:04:35.571469Z",
     "shell.execute_reply": "2023-05-15T09:04:35.571181Z"
    },
    "papermill": {
     "duration": 0.005636,
     "end_time": "2023-05-15T09:04:35.572221",
     "exception": false,
     "start_time": "2023-05-15T09:04:35.566585",
     "status": "completed"
    },
    "tags": [
     "injected-parameters"
    ]
   },
   "outputs": [],
   "source": [
    "# Parameters\n",
    "sample_name = \"SRR13329139\"\n"
   ]
  },
  {
   "cell_type": "code",
   "execution_count": null,
   "id": "f87ed95b-2b67-4a5a-8fe2-47359b1dd2a9",
   "metadata": {
    "execution": {
     "iopub.execute_input": "2023-05-15T09:04:35.577197Z",
     "iopub.status.busy": "2023-05-15T09:04:35.576965Z",
     "iopub.status.idle": "2023-05-15T09:04:35.579186Z",
     "shell.execute_reply": "2023-05-15T09:04:35.578894Z"
    },
    "papermill": {
     "duration": 0.005598,
     "end_time": "2023-05-15T09:04:35.579972",
     "exception": false,
     "start_time": "2023-05-15T09:04:35.574374",
     "status": "completed"
    },
    "tags": []
   },
   "outputs": [],
   "source": [
    "import warnings\n",
    "warnings.simplefilter(action='ignore', category=FutureWarning)\n",
    "warnings.simplefilter(action='ignore', category=UserWarning)"
   ]
  },
  {
   "cell_type": "code",
   "execution_count": null,
   "id": "85161f19-b2c5-490b-8cab-c2cf9653b304",
   "metadata": {
    "execution": {
     "iopub.execute_input": "2023-05-15T09:04:35.584881Z",
     "iopub.status.busy": "2023-05-15T09:04:35.584743Z",
     "iopub.status.idle": "2023-05-15T09:04:52.488953Z",
     "shell.execute_reply": "2023-05-15T09:04:52.488526Z"
    },
    "papermill": {
     "duration": 16.907998,
     "end_time": "2023-05-15T09:04:52.490198",
     "exception": false,
     "start_time": "2023-05-15T09:04:35.582200",
     "status": "completed"
    },
    "tags": []
   },
   "outputs": [],
   "source": [
    "import gc\n",
    "import scanpy as sc\n",
    "import muon as mu\n",
    "import seaborn as sns\n",
    "import os\n",
    "import pandas as pd\n",
    "from matplotlib import pyplot as plt\n",
    "\n",
    "os.environ['R_HOME'] = '/gpfs/bwfor/work/ws/hd_fu399-conda/conda/envs/python_R/lib/R/'\n",
    "import anndata2ri\n",
    "import logging\n",
    "\n",
    "import rpy2.rinterface_lib.callbacks as rcb\n",
    "import rpy2.robjects as ro\n",
    "\n",
    "rcb.logger.setLevel(logging.ERROR)\n",
    "ro.pandas2ri.activate()\n",
    "anndata2ri.activate()\n",
    "\n",
    "%load_ext rpy2.ipython"
   ]
  },
  {
   "cell_type": "code",
   "execution_count": null,
   "id": "fc4ade78-b728-4704-9db6-45fbaab62ba1",
   "metadata": {
    "execution": {
     "iopub.execute_input": "2023-05-15T09:04:52.497953Z",
     "iopub.status.busy": "2023-05-15T09:04:52.497664Z",
     "iopub.status.idle": "2023-05-15T09:05:10.666032Z",
     "shell.execute_reply": "2023-05-15T09:05:10.665519Z"
    },
    "papermill": {
     "duration": 18.172548,
     "end_time": "2023-05-15T09:05:10.667353",
     "exception": false,
     "start_time": "2023-05-15T09:04:52.494805",
     "status": "completed"
    },
    "tags": []
   },
   "outputs": [],
   "source": [
    "%%R\n",
    "library(SoupX)\n",
    "library(Seurat)\n",
    "library(scater)\n",
    "library(scDblFinder)\n",
    "library(BiocParallel)\n",
    "library(MuDataSeurat)\n",
    "library(DropletUtils)"
   ]
  },
  {
   "cell_type": "code",
   "execution_count": null,
   "id": "f7424d90-7690-4290-8651-1db3f9df3a35",
   "metadata": {
    "execution": {
     "iopub.execute_input": "2023-05-15T09:05:10.675528Z",
     "iopub.status.busy": "2023-05-15T09:05:10.675182Z",
     "iopub.status.idle": "2023-05-15T09:05:10.681664Z",
     "shell.execute_reply": "2023-05-15T09:05:10.681320Z"
    },
    "papermill": {
     "duration": 0.010836,
     "end_time": "2023-05-15T09:05:10.682938",
     "exception": false,
     "start_time": "2023-05-15T09:05:10.672102",
     "status": "completed"
    },
    "tags": []
   },
   "outputs": [],
   "source": [
    "metadata = pd.read_csv(\"../../combes_metadata.txt\")"
   ]
  },
  {
   "cell_type": "code",
   "execution_count": null,
   "id": "2574ecf1-bad4-4c33-8f3f-718a358727ab",
   "metadata": {
    "execution": {
     "iopub.execute_input": "2023-05-15T09:05:10.688345Z",
     "iopub.status.busy": "2023-05-15T09:05:10.688047Z",
     "iopub.status.idle": "2023-05-15T09:05:10.690127Z",
     "shell.execute_reply": "2023-05-15T09:05:10.689816Z"
    },
    "papermill": {
     "duration": 0.00569,
     "end_time": "2023-05-15T09:05:10.690915",
     "exception": false,
     "start_time": "2023-05-15T09:05:10.685225",
     "status": "completed"
    },
    "tags": []
   },
   "outputs": [],
   "source": [
    "raw_input = f\"/home/hd/hd_hd/hd_fu399/sds-hd/sd21k006/scRNAseq/revision_natcomm/combes_et_al/fetchngs/results/fastq/{sample_name}/{sample_name}/outs/raw_feature_bc_matrix.h5\""
   ]
  },
  {
   "cell_type": "code",
   "execution_count": null,
   "id": "e266d388-1802-435c-93a5-90067358739c",
   "metadata": {
    "execution": {
     "iopub.execute_input": "2023-05-15T09:05:10.696782Z",
     "iopub.status.busy": "2023-05-15T09:05:10.696525Z",
     "iopub.status.idle": "2023-05-15T09:05:11.011354Z",
     "shell.execute_reply": "2023-05-15T09:05:11.010912Z"
    },
    "papermill": {
     "duration": 0.319046,
     "end_time": "2023-05-15T09:05:11.012283",
     "exception": false,
     "start_time": "2023-05-15T09:05:10.693237",
     "status": "completed"
    },
    "tags": []
   },
   "outputs": [],
   "source": [
    "dataset = sc.read_10x_h5(raw_input)\n",
    "dataset.var_names_make_unique()\n",
    "dataset.obs_names_make_unique()\n",
    "\n",
    "dataset.layers[\"raw_counts\"] = dataset.X.copy()\n",
    "data_tod = dataset.layers[\"raw_counts\"].T.copy()\n",
    "\n",
    "dataset"
   ]
  },
  {
   "cell_type": "code",
   "execution_count": null,
   "id": "af9f5892-ed31-42a6-991b-4e096f582cef",
   "metadata": {
    "execution": {
     "iopub.execute_input": "2023-05-15T09:05:11.018720Z",
     "iopub.status.busy": "2023-05-15T09:05:11.018509Z",
     "iopub.status.idle": "2023-05-15T09:05:11.045630Z",
     "shell.execute_reply": "2023-05-15T09:05:11.045118Z"
    },
    "papermill": {
     "duration": 0.031329,
     "end_time": "2023-05-15T09:05:11.046793",
     "exception": false,
     "start_time": "2023-05-15T09:05:11.015464",
     "status": "completed"
    },
    "tags": []
   },
   "outputs": [],
   "source": [
    "sce = dataset.copy()"
   ]
  },
  {
   "cell_type": "code",
   "execution_count": null,
   "id": "d03f2caf-8e74-430e-b045-0ab80401d165",
   "metadata": {
    "execution": {
     "iopub.execute_input": "2023-05-15T09:05:11.053047Z",
     "iopub.status.busy": "2023-05-15T09:05:11.052808Z",
     "iopub.status.idle": "2023-05-15T09:05:40.741956Z",
     "shell.execute_reply": "2023-05-15T09:05:40.741359Z"
    },
    "papermill": {
     "duration": 29.693509,
     "end_time": "2023-05-15T09:05:40.743319",
     "exception": false,
     "start_time": "2023-05-15T09:05:11.049810",
     "status": "completed"
    },
    "tags": []
   },
   "outputs": [],
   "source": [
    "%%R -i sce -o empty_drop_output\n",
    "set.seed(187)\n",
    "empty_drop_output <- emptyDrops(assay(sce))"
   ]
  },
  {
   "cell_type": "code",
   "execution_count": null,
   "id": "2a34a54b-3ae2-44d6-8679-8769228c5b66",
   "metadata": {
    "execution": {
     "iopub.execute_input": "2023-05-15T09:05:40.767028Z",
     "iopub.status.busy": "2023-05-15T09:05:40.766821Z",
     "iopub.status.idle": "2023-05-15T09:05:40.789043Z",
     "shell.execute_reply": "2023-05-15T09:05:40.788720Z"
    },
    "papermill": {
     "duration": 0.026362,
     "end_time": "2023-05-15T09:05:40.789834",
     "exception": false,
     "start_time": "2023-05-15T09:05:40.763472",
     "status": "completed"
    },
    "tags": []
   },
   "outputs": [],
   "source": [
    "non_empty_barcodes = empty_drop_output[empty_drop_output[\"FDR\"] < 0.001].index\n",
    "dataset = dataset[dataset.obs.index.isin(non_empty_barcodes), :]\n",
    "dataset"
   ]
  },
  {
   "cell_type": "code",
   "execution_count": null,
   "id": "016a91e5-1bef-46fb-b91e-4fb9a6870c44",
   "metadata": {
    "execution": {
     "iopub.execute_input": "2023-05-15T09:05:40.796154Z",
     "iopub.status.busy": "2023-05-15T09:05:40.795981Z",
     "iopub.status.idle": "2023-05-15T09:05:42.980796Z",
     "shell.execute_reply": "2023-05-15T09:05:42.980330Z"
    },
    "papermill": {
     "duration": 2.189696,
     "end_time": "2023-05-15T09:05:42.982089",
     "exception": false,
     "start_time": "2023-05-15T09:05:40.792393",
     "status": "completed"
    },
    "tags": []
   },
   "outputs": [],
   "source": [
    "rna_assay = dataset.copy()\n",
    "sc.pp.normalize_per_cell(rna_assay)\n",
    "sc.pp.log1p(rna_assay)\n",
    "sc.pp.pca(rna_assay)\n",
    "sc.pp.neighbors(rna_assay)\n",
    "sc.tl.leiden(rna_assay, key_added=\"soupx_groups\")\n",
    "\n",
    "soupx_groups = rna_assay.obs[\"soupx_groups\"]\n",
    "\n",
    "del rna_assay\n",
    "\n",
    "genes = dataset.var_names\n",
    "cells = dataset.obs_names\n",
    "data = dataset.X.T.copy()"
   ]
  },
  {
   "cell_type": "code",
   "execution_count": null,
   "id": "9db4ea1f-1580-4f43-a3f0-86002397cd98",
   "metadata": {
    "execution": {
     "iopub.execute_input": "2023-05-15T09:05:42.991562Z",
     "iopub.status.busy": "2023-05-15T09:05:42.991200Z",
     "iopub.status.idle": "2023-05-15T09:05:47.776252Z",
     "shell.execute_reply": "2023-05-15T09:05:47.775675Z"
    },
    "papermill": {
     "duration": 4.789954,
     "end_time": "2023-05-15T09:05:47.777592",
     "exception": false,
     "start_time": "2023-05-15T09:05:42.987638",
     "status": "completed"
    },
    "tags": []
   },
   "outputs": [],
   "source": [
    "%%R -i data -i data_tod -i genes -i cells -i soupx_groups -o out \n",
    "set.seed(187)\n",
    "# specify row and column names of data\n",
    "rownames(data) = genes\n",
    "colnames(data) = cells\n",
    "# ensure correct sparse format for table of counts and table of droplets\n",
    "data <- as(data, \"sparseMatrix\")\n",
    "data_tod <- as(data_tod, \"sparseMatrix\")\n",
    "\n",
    "# Generate SoupChannel Object for SoupX \n",
    "sc = SoupChannel(data_tod, data, calcSoupProfile = FALSE)\n",
    "\n",
    "# Add extra meta data to the SoupChannel object\n",
    "soupProf = data.frame(row.names = rownames(data),\n",
    "                      est = rowSums(data)/sum(data),\n",
    "                      counts = rowSums(data))\n",
    "sc = setSoupProfile(sc, soupProf)\n",
    "# Set cluster information in SoupChannel\n",
    "sc = setClusters(sc, soupx_groups)\n",
    "\n",
    "# Estimate contamination fraction\n",
    "sc  = autoEstCont(sc, doPlot=FALSE, forceAccept = TRUE)\n",
    "# Infer corrected table of counts and rount to integer\n",
    "out = adjustCounts(sc, roundToInt = TRUE)"
   ]
  },
  {
   "cell_type": "code",
   "execution_count": null,
   "id": "32555d5e-5fa3-46dd-a4e0-ddc96ea265e2",
   "metadata": {
    "execution": {
     "iopub.execute_input": "2023-05-15T09:05:47.784439Z",
     "iopub.status.busy": "2023-05-15T09:05:47.784249Z",
     "iopub.status.idle": "2023-05-15T09:05:47.794412Z",
     "shell.execute_reply": "2023-05-15T09:05:47.794003Z"
    },
    "papermill": {
     "duration": 0.014551,
     "end_time": "2023-05-15T09:05:47.795465",
     "exception": false,
     "start_time": "2023-05-15T09:05:47.780914",
     "status": "completed"
    },
    "tags": []
   },
   "outputs": [],
   "source": [
    "dataset.layers[\"soupX_counts\"] = out.T\n",
    "dataset.X = dataset.layers[\"soupX_counts\"].copy()"
   ]
  },
  {
   "cell_type": "code",
   "execution_count": null,
   "id": "e27da7df-e094-4d2a-9109-5a363e012175",
   "metadata": {
    "execution": {
     "iopub.execute_input": "2023-05-15T09:05:47.802114Z",
     "iopub.status.busy": "2023-05-15T09:05:47.801926Z",
     "iopub.status.idle": "2023-05-15T09:05:47.804191Z",
     "shell.execute_reply": "2023-05-15T09:05:47.803876Z"
    },
    "papermill": {
     "duration": 0.006339,
     "end_time": "2023-05-15T09:05:47.804978",
     "exception": false,
     "start_time": "2023-05-15T09:05:47.798639",
     "status": "completed"
    },
    "tags": []
   },
   "outputs": [],
   "source": [
    "data_mat = dataset.X.T"
   ]
  },
  {
   "cell_type": "code",
   "execution_count": null,
   "id": "80a993b1-5ccb-4697-9187-1beb7ab8aff9",
   "metadata": {
    "execution": {
     "iopub.execute_input": "2023-05-15T09:05:47.810925Z",
     "iopub.status.busy": "2023-05-15T09:05:47.810776Z",
     "iopub.status.idle": "2023-05-15T09:06:00.263257Z",
     "shell.execute_reply": "2023-05-15T09:06:00.262661Z"
    },
    "papermill": {
     "duration": 12.457028,
     "end_time": "2023-05-15T09:06:00.264655",
     "exception": false,
     "start_time": "2023-05-15T09:05:47.807627",
     "status": "completed"
    },
    "tags": []
   },
   "outputs": [],
   "source": [
    "%%R -i data_mat -o droplet_class\n",
    "\n",
    "set.seed(187)\n",
    "sce = scDblFinder(\n",
    "    SingleCellExperiment(\n",
    "        list(counts=data_mat),\n",
    "    ) \n",
    ")\n",
    "droplet_class = sce$scDblFinder.class"
   ]
  },
  {
   "cell_type": "code",
   "execution_count": null,
   "id": "d4dd6e9d-fcf2-41fc-8457-c8e0a3cb2c71",
   "metadata": {
    "execution": {
     "iopub.execute_input": "2023-05-15T09:06:00.273651Z",
     "iopub.status.busy": "2023-05-15T09:06:00.273424Z",
     "iopub.status.idle": "2023-05-15T09:06:00.278471Z",
     "shell.execute_reply": "2023-05-15T09:06:00.278125Z"
    },
    "papermill": {
     "duration": 0.009531,
     "end_time": "2023-05-15T09:06:00.279332",
     "exception": false,
     "start_time": "2023-05-15T09:06:00.269801",
     "status": "completed"
    },
    "tags": []
   },
   "outputs": [],
   "source": [
    "dataset.obs[\"scDblFinder_class\"] = droplet_class\n",
    "dataset.obs.scDblFinder_class.value_counts()\n",
    "dataset"
   ]
  },
  {
   "cell_type": "code",
   "execution_count": null,
   "id": "28c95014-2d6c-477f-95cb-9f9f0507520c",
   "metadata": {
    "execution": {
     "iopub.execute_input": "2023-05-15T09:06:00.285359Z",
     "iopub.status.busy": "2023-05-15T09:06:00.285195Z",
     "iopub.status.idle": "2023-05-15T09:06:00.296350Z",
     "shell.execute_reply": "2023-05-15T09:06:00.296000Z"
    },
    "papermill": {
     "duration": 0.015072,
     "end_time": "2023-05-15T09:06:00.297116",
     "exception": false,
     "start_time": "2023-05-15T09:06:00.282044",
     "status": "completed"
    },
    "tags": []
   },
   "outputs": [],
   "source": [
    "dataset = dataset[dataset.obs[\"scDblFinder_class\"] == 1]"
   ]
  },
  {
   "cell_type": "code",
   "execution_count": null,
   "id": "3e22f9e0-bfcb-416c-a151-a9bca3bec3b9",
   "metadata": {
    "execution": {
     "iopub.execute_input": "2023-05-15T09:06:00.303310Z",
     "iopub.status.busy": "2023-05-15T09:06:00.303064Z",
     "iopub.status.idle": "2023-05-15T09:06:00.360740Z",
     "shell.execute_reply": "2023-05-15T09:06:00.360296Z"
    },
    "papermill": {
     "duration": 0.061814,
     "end_time": "2023-05-15T09:06:00.361658",
     "exception": false,
     "start_time": "2023-05-15T09:06:00.299844",
     "status": "completed"
    },
    "tags": []
   },
   "outputs": [],
   "source": [
    "# mitochondrial genes\n",
    "dataset.var[\"mt\"] = dataset.var_names.str.startswith(\"MT-\")\n",
    "# ribosomal genes\n",
    "dataset.var[\"ribo\"] = dataset.var_names.str.startswith((\"RPS\", \"RPL\"))\n",
    "# hemoglobin genes.\n",
    "dataset.var[\"hb\"] = dataset.var_names.str.contains((\"^HB[^(P)]\"))\n",
    "\n",
    "sc.pp.calculate_qc_metrics(dataset,\n",
    "                           qc_vars=['mt', 'ribo', 'hb'],\n",
    "                           percent_top=None,\n",
    "                           log1p=False,\n",
    "                           inplace=True)\n",
    "dataset"
   ]
  },
  {
   "cell_type": "code",
   "execution_count": null,
   "id": "34deee79-4043-428f-8575-aa57b45f6369",
   "metadata": {
    "execution": {
     "iopub.execute_input": "2023-05-15T09:06:00.368706Z",
     "iopub.status.busy": "2023-05-15T09:06:00.368524Z",
     "iopub.status.idle": "2023-05-15T09:06:00.808047Z",
     "shell.execute_reply": "2023-05-15T09:06:00.807648Z"
    },
    "papermill": {
     "duration": 0.44384,
     "end_time": "2023-05-15T09:06:00.808927",
     "exception": false,
     "start_time": "2023-05-15T09:06:00.365087",
     "status": "completed"
    },
    "tags": []
   },
   "outputs": [],
   "source": [
    "fig, ax = plt.subplots(ncols = 4, figsize = (16,4))\n",
    "axis = sc.pl.violin(dataset, \"n_genes_by_counts\", jitter = 0.4, ax = ax[0], show = False)\n",
    "axis.grid(False)\n",
    "axis.set_title(\"Unique Genes per cell\")\n",
    "axis.tick_params(axis = \"x\", bottom =False, labelbottom =False)\n",
    "axis.set_ylabel(\"# genes\")\n",
    "axis.axhline(y = 100, color = \"black\", label = \"cutoff\")\n",
    "axis.legend(fontsize = 14, loc = \"upper right\")\n",
    "\n",
    "axis = sc.pl.violin(dataset, \"pct_counts_mt\", jitter = 0.4, ax = ax[1], show = False)\n",
    "axis.grid(False)\n",
    "axis.set_title(\"Mitochondrial Fraction\")\n",
    "axis.tick_params(axis = \"x\", bottom =False, labelbottom =False)\n",
    "axis.set_ylabel(\"% mitochondrial genes\")\n",
    "axis.axhline(y = 10, color = \"black\", label = \"cutoff\")\n",
    "axis.legend(fontsize = 14, loc = \"upper right\")\n",
    "\n",
    "axis = sc.pl.violin(dataset, \"pct_counts_hb\", jitter = 0.4, ax = ax[2], show = False, size =2)\n",
    "axis.grid(False)\n",
    "axis.set_title(\"Hemoglobin Fraction\")\n",
    "axis.tick_params(axis = \"x\", bottom =False, labelbottom =False)\n",
    "axis.set_ylabel(\"% hemoglobin genes\")\n",
    "axis.axhline(y = 3, color = \"black\", label = \"cutoff\")\n",
    "axis.legend(fontsize = 14, loc = \"upper right\")\n",
    "#axis.set_ylim(0,5)\n",
    "\n",
    "axis = sc.pl.violin(dataset, \"pct_counts_ribo\", jitter = 0.4, ax = ax[3], show = False)\n",
    "axis.grid(False)\n",
    "axis.set_title(\"Ribosomal Fraction\")\n",
    "axis.tick_params(axis = \"x\", bottom =False, labelbottom =False)\n",
    "axis.set_ylabel(\"% ribosome genes\")\n",
    "\n",
    "plt.tight_layout()\n",
    "#plt.savefig(f\"{outputDir}08_gene_based_filtering.pdf\", dpi = 300)\n",
    "plt.show()\n",
    "\n"
   ]
  },
  {
   "cell_type": "code",
   "execution_count": null,
   "id": "d7ade754-843e-4840-8707-426613d8c0c5",
   "metadata": {
    "execution": {
     "iopub.execute_input": "2023-05-15T09:06:00.817489Z",
     "iopub.status.busy": "2023-05-15T09:06:00.817328Z",
     "iopub.status.idle": "2023-05-15T09:06:00.826447Z",
     "shell.execute_reply": "2023-05-15T09:06:00.826118Z"
    },
    "papermill": {
     "duration": 0.014098,
     "end_time": "2023-05-15T09:06:00.827224",
     "exception": false,
     "start_time": "2023-05-15T09:06:00.813126",
     "status": "completed"
    },
    "tags": []
   },
   "outputs": [],
   "source": [
    "dataset = dataset[dataset.obs.pct_counts_mt < 10, :]\n",
    "dataset = dataset[dataset.obs.n_genes_by_counts > 100, :]\n",
    "dataset = dataset[dataset.obs.pct_counts_hb < 3, :]\n",
    "dataset"
   ]
  },
  {
   "cell_type": "code",
   "execution_count": null,
   "id": "1941fa36-e865-4500-b586-f7a32d142c9b",
   "metadata": {
    "execution": {
     "iopub.execute_input": "2023-05-15T09:06:00.835350Z",
     "iopub.status.busy": "2023-05-15T09:06:00.835093Z",
     "iopub.status.idle": "2023-05-15T09:06:00.837980Z",
     "shell.execute_reply": "2023-05-15T09:06:00.837663Z"
    },
    "papermill": {
     "duration": 0.007811,
     "end_time": "2023-05-15T09:06:00.838763",
     "exception": false,
     "start_time": "2023-05-15T09:06:00.830952",
     "status": "completed"
    },
    "tags": []
   },
   "outputs": [],
   "source": [
    "metadata.columns"
   ]
  },
  {
   "cell_type": "code",
   "execution_count": null,
   "id": "2e0ff8c3-2aa9-4a01-9b88-5912a6734447",
   "metadata": {
    "execution": {
     "iopub.execute_input": "2023-05-15T09:06:00.846817Z",
     "iopub.status.busy": "2023-05-15T09:06:00.846637Z",
     "iopub.status.idle": "2023-05-15T09:06:00.865474Z",
     "shell.execute_reply": "2023-05-15T09:06:00.865051Z"
    },
    "papermill": {
     "duration": 0.024077,
     "end_time": "2023-05-15T09:06:00.866553",
     "exception": false,
     "start_time": "2023-05-15T09:06:00.842476",
     "status": "completed"
    },
    "tags": []
   },
   "outputs": [],
   "source": [
    "for col in metadata.columns:\n",
    "    dataset.obs[col] = metadata.loc[metadata[\"Run\"] == sample_name, col].to_list()[0]"
   ]
  },
  {
   "cell_type": "code",
   "execution_count": null,
   "id": "b84578d3-d63e-419c-a272-a0b8317d05ab",
   "metadata": {
    "execution": {
     "iopub.execute_input": "2023-05-15T09:06:00.875320Z",
     "iopub.status.busy": "2023-05-15T09:06:00.875157Z",
     "iopub.status.idle": "2023-05-15T09:06:01.429592Z",
     "shell.execute_reply": "2023-05-15T09:06:01.429150Z"
    },
    "papermill": {
     "duration": 0.560024,
     "end_time": "2023-05-15T09:06:01.430819",
     "exception": false,
     "start_time": "2023-05-15T09:06:00.870795",
     "status": "completed"
    },
    "tags": []
   },
   "outputs": [],
   "source": [
    "dataset.write(f\"../../int_data/{sample_name}_qc.h5ad\")"
   ]
  },
  {
   "cell_type": "code",
   "execution_count": null,
   "id": "501b33a0-432d-415f-ae82-50723484b85d",
   "metadata": {
    "execution": {
     "iopub.execute_input": "2023-05-15T09:06:01.439786Z",
     "iopub.status.busy": "2023-05-15T09:06:01.439561Z",
     "iopub.status.idle": "2023-05-15T09:06:01.442663Z",
     "shell.execute_reply": "2023-05-15T09:06:01.442314Z"
    },
    "papermill": {
     "duration": 0.008319,
     "end_time": "2023-05-15T09:06:01.443452",
     "exception": false,
     "start_time": "2023-05-15T09:06:01.435133",
     "status": "completed"
    },
    "tags": []
   },
   "outputs": [],
   "source": [
    "dataset"
   ]
  }
 ],
 "metadata": {
  "kernelspec": {
   "display_name": "py_R",
   "language": "python",
   "name": "python_r"
  },
  "language_info": {
   "codemirror_mode": {
    "name": "ipython",
    "version": 3
   },
   "file_extension": ".py",
   "mimetype": "text/x-python",
   "name": "python",
   "nbconvert_exporter": "python",
   "pygments_lexer": "ipython3",
   "version": "3.10.9"
  },
  "papermill": {
   "default_parameters": {},
   "duration": 88.46888,
   "end_time": "2023-05-15T09:06:02.864386",
   "environment_variables": {},
   "exception": null,
   "input_path": "template.ipynb",
   "output_path": "SRR13329139.ipynb",
   "parameters": {
    "sample_name": "SRR13329139"
   },
   "start_time": "2023-05-15T09:04:34.395506",
   "version": "2.4.0"
  }
 },
 "nbformat": 4,
 "nbformat_minor": 5
}
