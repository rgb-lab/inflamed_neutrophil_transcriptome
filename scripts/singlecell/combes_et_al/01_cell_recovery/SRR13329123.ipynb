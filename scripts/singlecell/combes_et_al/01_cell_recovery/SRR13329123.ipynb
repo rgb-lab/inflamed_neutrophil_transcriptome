{
 "cells": [
  {
   "cell_type": "code",
   "execution_count": null,
   "id": "4c0f2fa8-5232-4f47-a7ec-6c9bbabe50e2",
   "metadata": {
    "execution": {
     "iopub.execute_input": "2023-05-15T08:12:06.303776Z",
     "iopub.status.busy": "2023-05-15T08:12:06.303477Z",
     "iopub.status.idle": "2023-05-15T08:12:06.308748Z",
     "shell.execute_reply": "2023-05-15T08:12:06.308249Z"
    },
    "papermill": {
     "duration": 0.010363,
     "end_time": "2023-05-15T08:12:06.309692",
     "exception": false,
     "start_time": "2023-05-15T08:12:06.299329",
     "status": "completed"
    },
    "tags": [
     "parameters"
    ]
   },
   "outputs": [],
   "source": [
    "sample_name = \"SRR13329143\""
   ]
  },
  {
   "cell_type": "code",
   "execution_count": null,
   "id": "0cc30592",
   "metadata": {
    "execution": {
     "iopub.execute_input": "2023-05-15T08:12:06.315125Z",
     "iopub.status.busy": "2023-05-15T08:12:06.314992Z",
     "iopub.status.idle": "2023-05-15T08:12:06.317171Z",
     "shell.execute_reply": "2023-05-15T08:12:06.316807Z"
    },
    "papermill": {
     "duration": 0.005789,
     "end_time": "2023-05-15T08:12:06.317991",
     "exception": false,
     "start_time": "2023-05-15T08:12:06.312202",
     "status": "completed"
    },
    "tags": [
     "injected-parameters"
    ]
   },
   "outputs": [],
   "source": [
    "# Parameters\n",
    "sample_name = \"SRR13329123\"\n"
   ]
  },
  {
   "cell_type": "code",
   "execution_count": null,
   "id": "f87ed95b-2b67-4a5a-8fe2-47359b1dd2a9",
   "metadata": {
    "execution": {
     "iopub.execute_input": "2023-05-15T08:12:06.323373Z",
     "iopub.status.busy": "2023-05-15T08:12:06.322992Z",
     "iopub.status.idle": "2023-05-15T08:12:06.325416Z",
     "shell.execute_reply": "2023-05-15T08:12:06.325055Z"
    },
    "papermill": {
     "duration": 0.005962,
     "end_time": "2023-05-15T08:12:06.326228",
     "exception": false,
     "start_time": "2023-05-15T08:12:06.320266",
     "status": "completed"
    },
    "tags": []
   },
   "outputs": [],
   "source": [
    "import warnings\n",
    "warnings.simplefilter(action='ignore', category=FutureWarning)\n",
    "warnings.simplefilter(action='ignore', category=UserWarning)"
   ]
  },
  {
   "cell_type": "code",
   "execution_count": null,
   "id": "85161f19-b2c5-490b-8cab-c2cf9653b304",
   "metadata": {
    "execution": {
     "iopub.execute_input": "2023-05-15T08:12:06.331775Z",
     "iopub.status.busy": "2023-05-15T08:12:06.331420Z",
     "iopub.status.idle": "2023-05-15T08:12:10.284114Z",
     "shell.execute_reply": "2023-05-15T08:12:10.283704Z"
    },
    "papermill": {
     "duration": 3.956851,
     "end_time": "2023-05-15T08:12:10.285444",
     "exception": false,
     "start_time": "2023-05-15T08:12:06.328593",
     "status": "completed"
    },
    "tags": []
   },
   "outputs": [],
   "source": [
    "import gc\n",
    "import scanpy as sc\n",
    "import muon as mu\n",
    "import seaborn as sns\n",
    "import os\n",
    "import pandas as pd\n",
    "from matplotlib import pyplot as plt\n",
    "\n",
    "os.environ['R_HOME'] = '/gpfs/bwfor/work/ws/hd_fu399-conda/conda/envs/python_R/lib/R/'\n",
    "import anndata2ri\n",
    "import logging\n",
    "\n",
    "import rpy2.rinterface_lib.callbacks as rcb\n",
    "import rpy2.robjects as ro\n",
    "\n",
    "rcb.logger.setLevel(logging.ERROR)\n",
    "ro.pandas2ri.activate()\n",
    "anndata2ri.activate()\n",
    "\n",
    "%load_ext rpy2.ipython"
   ]
  },
  {
   "cell_type": "code",
   "execution_count": null,
   "id": "fc4ade78-b728-4704-9db6-45fbaab62ba1",
   "metadata": {
    "execution": {
     "iopub.execute_input": "2023-05-15T08:12:10.293915Z",
     "iopub.status.busy": "2023-05-15T08:12:10.293636Z",
     "iopub.status.idle": "2023-05-15T08:12:19.759269Z",
     "shell.execute_reply": "2023-05-15T08:12:19.758720Z"
    },
    "papermill": {
     "duration": 9.470837,
     "end_time": "2023-05-15T08:12:19.760997",
     "exception": false,
     "start_time": "2023-05-15T08:12:10.290160",
     "status": "completed"
    },
    "tags": []
   },
   "outputs": [],
   "source": [
    "%%R\n",
    "library(SoupX)\n",
    "library(Seurat)\n",
    "library(scater)\n",
    "library(scDblFinder)\n",
    "library(BiocParallel)\n",
    "library(MuDataSeurat)\n",
    "library(DropletUtils)"
   ]
  },
  {
   "cell_type": "code",
   "execution_count": null,
   "id": "f7424d90-7690-4290-8651-1db3f9df3a35",
   "metadata": {
    "execution": {
     "iopub.execute_input": "2023-05-15T08:12:19.769521Z",
     "iopub.status.busy": "2023-05-15T08:12:19.769347Z",
     "iopub.status.idle": "2023-05-15T08:12:19.775246Z",
     "shell.execute_reply": "2023-05-15T08:12:19.774910Z"
    },
    "papermill": {
     "duration": 0.010495,
     "end_time": "2023-05-15T08:12:19.776512",
     "exception": false,
     "start_time": "2023-05-15T08:12:19.766017",
     "status": "completed"
    },
    "tags": []
   },
   "outputs": [],
   "source": [
    "metadata = pd.read_csv(\"../../combes_metadata.txt\")"
   ]
  },
  {
   "cell_type": "code",
   "execution_count": null,
   "id": "2574ecf1-bad4-4c33-8f3f-718a358727ab",
   "metadata": {
    "execution": {
     "iopub.execute_input": "2023-05-15T08:12:19.782100Z",
     "iopub.status.busy": "2023-05-15T08:12:19.781971Z",
     "iopub.status.idle": "2023-05-15T08:12:19.783981Z",
     "shell.execute_reply": "2023-05-15T08:12:19.783681Z"
    },
    "papermill": {
     "duration": 0.005697,
     "end_time": "2023-05-15T08:12:19.784753",
     "exception": false,
     "start_time": "2023-05-15T08:12:19.779056",
     "status": "completed"
    },
    "tags": []
   },
   "outputs": [],
   "source": [
    "raw_input = f\"/home/hd/hd_hd/hd_fu399/sds-hd/sd21k006/scRNAseq/revision_natcomm/combes_et_al/fetchngs/results/fastq/{sample_name}/{sample_name}/outs/raw_feature_bc_matrix.h5\""
   ]
  },
  {
   "cell_type": "code",
   "execution_count": null,
   "id": "e266d388-1802-435c-93a5-90067358739c",
   "metadata": {
    "execution": {
     "iopub.execute_input": "2023-05-15T08:12:19.790860Z",
     "iopub.status.busy": "2023-05-15T08:12:19.790676Z",
     "iopub.status.idle": "2023-05-15T08:12:20.298113Z",
     "shell.execute_reply": "2023-05-15T08:12:20.297689Z"
    },
    "papermill": {
     "duration": 0.511757,
     "end_time": "2023-05-15T08:12:20.299013",
     "exception": false,
     "start_time": "2023-05-15T08:12:19.787256",
     "status": "completed"
    },
    "tags": []
   },
   "outputs": [],
   "source": [
    "dataset = sc.read_10x_h5(raw_input)\n",
    "dataset.var_names_make_unique()\n",
    "dataset.obs_names_make_unique()\n",
    "\n",
    "dataset.layers[\"raw_counts\"] = dataset.X.copy()\n",
    "data_tod = dataset.layers[\"raw_counts\"].T.copy()\n",
    "\n",
    "dataset"
   ]
  },
  {
   "cell_type": "code",
   "execution_count": null,
   "id": "af9f5892-ed31-42a6-991b-4e096f582cef",
   "metadata": {
    "execution": {
     "iopub.execute_input": "2023-05-15T08:12:20.305488Z",
     "iopub.status.busy": "2023-05-15T08:12:20.305307Z",
     "iopub.status.idle": "2023-05-15T08:12:20.340341Z",
     "shell.execute_reply": "2023-05-15T08:12:20.339877Z"
    },
    "papermill": {
     "duration": 0.039518,
     "end_time": "2023-05-15T08:12:20.341635",
     "exception": false,
     "start_time": "2023-05-15T08:12:20.302117",
     "status": "completed"
    },
    "tags": []
   },
   "outputs": [],
   "source": [
    "sce = dataset.copy()"
   ]
  },
  {
   "cell_type": "code",
   "execution_count": null,
   "id": "d03f2caf-8e74-430e-b045-0ab80401d165",
   "metadata": {
    "execution": {
     "iopub.execute_input": "2023-05-15T08:12:20.347979Z",
     "iopub.status.busy": "2023-05-15T08:12:20.347809Z",
     "iopub.status.idle": "2023-05-15T08:13:21.030364Z",
     "shell.execute_reply": "2023-05-15T08:13:21.029773Z"
    },
    "papermill": {
     "duration": 60.687151,
     "end_time": "2023-05-15T08:13:21.031775",
     "exception": false,
     "start_time": "2023-05-15T08:12:20.344624",
     "status": "completed"
    },
    "tags": []
   },
   "outputs": [],
   "source": [
    "%%R -i sce -o empty_drop_output\n",
    "set.seed(187)\n",
    "empty_drop_output <- emptyDrops(assay(sce))"
   ]
  },
  {
   "cell_type": "code",
   "execution_count": null,
   "id": "2a34a54b-3ae2-44d6-8679-8769228c5b66",
   "metadata": {
    "execution": {
     "iopub.execute_input": "2023-05-15T08:13:21.052165Z",
     "iopub.status.busy": "2023-05-15T08:13:21.051979Z",
     "iopub.status.idle": "2023-05-15T08:13:21.074483Z",
     "shell.execute_reply": "2023-05-15T08:13:21.074170Z"
    },
    "papermill": {
     "duration": 0.027481,
     "end_time": "2023-05-15T08:13:21.075450",
     "exception": false,
     "start_time": "2023-05-15T08:13:21.047969",
     "status": "completed"
    },
    "tags": []
   },
   "outputs": [],
   "source": [
    "non_empty_barcodes = empty_drop_output[empty_drop_output[\"FDR\"] < 0.001].index\n",
    "dataset = dataset[dataset.obs.index.isin(non_empty_barcodes), :]\n",
    "dataset"
   ]
  },
  {
   "cell_type": "code",
   "execution_count": null,
   "id": "016a91e5-1bef-46fb-b91e-4fb9a6870c44",
   "metadata": {
    "execution": {
     "iopub.execute_input": "2023-05-15T08:13:21.081562Z",
     "iopub.status.busy": "2023-05-15T08:13:21.081427Z",
     "iopub.status.idle": "2023-05-15T08:13:24.818527Z",
     "shell.execute_reply": "2023-05-15T08:13:24.818028Z"
    },
    "papermill": {
     "duration": 3.741692,
     "end_time": "2023-05-15T08:13:24.819896",
     "exception": false,
     "start_time": "2023-05-15T08:13:21.078204",
     "status": "completed"
    },
    "tags": []
   },
   "outputs": [],
   "source": [
    "rna_assay = dataset.copy()\n",
    "sc.pp.normalize_per_cell(rna_assay)\n",
    "sc.pp.log1p(rna_assay)\n",
    "sc.pp.pca(rna_assay)\n",
    "sc.pp.neighbors(rna_assay)\n",
    "sc.tl.leiden(rna_assay, key_added=\"soupx_groups\")\n",
    "\n",
    "soupx_groups = rna_assay.obs[\"soupx_groups\"]\n",
    "\n",
    "del rna_assay\n",
    "\n",
    "genes = dataset.var_names\n",
    "cells = dataset.obs_names\n",
    "data = dataset.X.T.copy()"
   ]
  },
  {
   "cell_type": "code",
   "execution_count": null,
   "id": "9db4ea1f-1580-4f43-a3f0-86002397cd98",
   "metadata": {
    "execution": {
     "iopub.execute_input": "2023-05-15T08:13:24.829160Z",
     "iopub.status.busy": "2023-05-15T08:13:24.828960Z",
     "iopub.status.idle": "2023-05-15T08:13:35.678602Z",
     "shell.execute_reply": "2023-05-15T08:13:35.678003Z"
    },
    "papermill": {
     "duration": 10.854696,
     "end_time": "2023-05-15T08:13:35.679998",
     "exception": false,
     "start_time": "2023-05-15T08:13:24.825302",
     "status": "completed"
    },
    "tags": []
   },
   "outputs": [],
   "source": [
    "%%R -i data -i data_tod -i genes -i cells -i soupx_groups -o out \n",
    "set.seed(187)\n",
    "# specify row and column names of data\n",
    "rownames(data) = genes\n",
    "colnames(data) = cells\n",
    "# ensure correct sparse format for table of counts and table of droplets\n",
    "data <- as(data, \"sparseMatrix\")\n",
    "data_tod <- as(data_tod, \"sparseMatrix\")\n",
    "\n",
    "# Generate SoupChannel Object for SoupX \n",
    "sc = SoupChannel(data_tod, data, calcSoupProfile = FALSE)\n",
    "\n",
    "# Add extra meta data to the SoupChannel object\n",
    "soupProf = data.frame(row.names = rownames(data),\n",
    "                      est = rowSums(data)/sum(data),\n",
    "                      counts = rowSums(data))\n",
    "sc = setSoupProfile(sc, soupProf)\n",
    "# Set cluster information in SoupChannel\n",
    "sc = setClusters(sc, soupx_groups)\n",
    "\n",
    "# Estimate contamination fraction\n",
    "sc  = autoEstCont(sc, doPlot=FALSE, forceAccept = TRUE)\n",
    "# Infer corrected table of counts and rount to integer\n",
    "out = adjustCounts(sc, roundToInt = TRUE)"
   ]
  },
  {
   "cell_type": "code",
   "execution_count": null,
   "id": "32555d5e-5fa3-46dd-a4e0-ddc96ea265e2",
   "metadata": {
    "execution": {
     "iopub.execute_input": "2023-05-15T08:13:35.689266Z",
     "iopub.status.busy": "2023-05-15T08:13:35.689061Z",
     "iopub.status.idle": "2023-05-15T08:13:35.711687Z",
     "shell.execute_reply": "2023-05-15T08:13:35.711270Z"
    },
    "papermill": {
     "duration": 0.027897,
     "end_time": "2023-05-15T08:13:35.712981",
     "exception": false,
     "start_time": "2023-05-15T08:13:35.685084",
     "status": "completed"
    },
    "tags": []
   },
   "outputs": [],
   "source": [
    "dataset.layers[\"soupX_counts\"] = out.T\n",
    "dataset.X = dataset.layers[\"soupX_counts\"].copy()"
   ]
  },
  {
   "cell_type": "code",
   "execution_count": null,
   "id": "e27da7df-e094-4d2a-9109-5a363e012175",
   "metadata": {
    "execution": {
     "iopub.execute_input": "2023-05-15T08:13:35.720046Z",
     "iopub.status.busy": "2023-05-15T08:13:35.719850Z",
     "iopub.status.idle": "2023-05-15T08:13:35.722408Z",
     "shell.execute_reply": "2023-05-15T08:13:35.722073Z"
    },
    "papermill": {
     "duration": 0.006755,
     "end_time": "2023-05-15T08:13:35.723193",
     "exception": false,
     "start_time": "2023-05-15T08:13:35.716438",
     "status": "completed"
    },
    "tags": []
   },
   "outputs": [],
   "source": [
    "data_mat = dataset.X.T"
   ]
  },
  {
   "cell_type": "code",
   "execution_count": null,
   "id": "80a993b1-5ccb-4697-9187-1beb7ab8aff9",
   "metadata": {
    "execution": {
     "iopub.execute_input": "2023-05-15T08:13:35.729634Z",
     "iopub.status.busy": "2023-05-15T08:13:35.729332Z",
     "iopub.status.idle": "2023-05-15T08:13:58.749866Z",
     "shell.execute_reply": "2023-05-15T08:13:58.749343Z"
    },
    "papermill": {
     "duration": 23.025082,
     "end_time": "2023-05-15T08:13:58.751075",
     "exception": false,
     "start_time": "2023-05-15T08:13:35.725993",
     "status": "completed"
    },
    "tags": []
   },
   "outputs": [],
   "source": [
    "%%R -i data_mat -o droplet_class\n",
    "\n",
    "set.seed(187)\n",
    "sce = scDblFinder(\n",
    "    SingleCellExperiment(\n",
    "        list(counts=data_mat),\n",
    "    ) \n",
    ")\n",
    "droplet_class = sce$scDblFinder.class"
   ]
  },
  {
   "cell_type": "code",
   "execution_count": null,
   "id": "d4dd6e9d-fcf2-41fc-8457-c8e0a3cb2c71",
   "metadata": {
    "execution": {
     "iopub.execute_input": "2023-05-15T08:13:58.759547Z",
     "iopub.status.busy": "2023-05-15T08:13:58.759375Z",
     "iopub.status.idle": "2023-05-15T08:13:58.764191Z",
     "shell.execute_reply": "2023-05-15T08:13:58.763882Z"
    },
    "papermill": {
     "duration": 0.008957,
     "end_time": "2023-05-15T08:13:58.764989",
     "exception": false,
     "start_time": "2023-05-15T08:13:58.756032",
     "status": "completed"
    },
    "tags": []
   },
   "outputs": [],
   "source": [
    "dataset.obs[\"scDblFinder_class\"] = droplet_class\n",
    "dataset.obs.scDblFinder_class.value_counts()\n",
    "dataset"
   ]
  },
  {
   "cell_type": "code",
   "execution_count": null,
   "id": "28c95014-2d6c-477f-95cb-9f9f0507520c",
   "metadata": {
    "execution": {
     "iopub.execute_input": "2023-05-15T08:13:58.771265Z",
     "iopub.status.busy": "2023-05-15T08:13:58.771084Z",
     "iopub.status.idle": "2023-05-15T08:13:58.775170Z",
     "shell.execute_reply": "2023-05-15T08:13:58.774856Z"
    },
    "papermill": {
     "duration": 0.008189,
     "end_time": "2023-05-15T08:13:58.775947",
     "exception": false,
     "start_time": "2023-05-15T08:13:58.767758",
     "status": "completed"
    },
    "tags": []
   },
   "outputs": [],
   "source": [
    "dataset = dataset[dataset.obs[\"scDblFinder_class\"] == 1]"
   ]
  },
  {
   "cell_type": "code",
   "execution_count": null,
   "id": "3e22f9e0-bfcb-416c-a151-a9bca3bec3b9",
   "metadata": {
    "execution": {
     "iopub.execute_input": "2023-05-15T08:13:58.782311Z",
     "iopub.status.busy": "2023-05-15T08:13:58.782082Z",
     "iopub.status.idle": "2023-05-15T08:13:58.897810Z",
     "shell.execute_reply": "2023-05-15T08:13:58.897367Z"
    },
    "papermill": {
     "duration": 0.119975,
     "end_time": "2023-05-15T08:13:58.898758",
     "exception": false,
     "start_time": "2023-05-15T08:13:58.778783",
     "status": "completed"
    },
    "tags": []
   },
   "outputs": [],
   "source": [
    "# mitochondrial genes\n",
    "dataset.var[\"mt\"] = dataset.var_names.str.startswith(\"MT-\")\n",
    "# ribosomal genes\n",
    "dataset.var[\"ribo\"] = dataset.var_names.str.startswith((\"RPS\", \"RPL\"))\n",
    "# hemoglobin genes.\n",
    "dataset.var[\"hb\"] = dataset.var_names.str.contains((\"^HB[^(P)]\"))\n",
    "\n",
    "sc.pp.calculate_qc_metrics(dataset,\n",
    "                           qc_vars=['mt', 'ribo', 'hb'],\n",
    "                           percent_top=None,\n",
    "                           log1p=False,\n",
    "                           inplace=True)\n",
    "dataset"
   ]
  },
  {
   "cell_type": "code",
   "execution_count": null,
   "id": "34deee79-4043-428f-8575-aa57b45f6369",
   "metadata": {
    "execution": {
     "iopub.execute_input": "2023-05-15T08:13:58.906040Z",
     "iopub.status.busy": "2023-05-15T08:13:58.905850Z",
     "iopub.status.idle": "2023-05-15T08:13:59.352149Z",
     "shell.execute_reply": "2023-05-15T08:13:59.351704Z"
    },
    "papermill": {
     "duration": 0.450933,
     "end_time": "2023-05-15T08:13:59.353183",
     "exception": false,
     "start_time": "2023-05-15T08:13:58.902250",
     "status": "completed"
    },
    "tags": []
   },
   "outputs": [],
   "source": [
    "fig, ax = plt.subplots(ncols = 4, figsize = (16,4))\n",
    "axis = sc.pl.violin(dataset, \"n_genes_by_counts\", jitter = 0.4, ax = ax[0], show = False)\n",
    "axis.grid(False)\n",
    "axis.set_title(\"Unique Genes per cell\")\n",
    "axis.tick_params(axis = \"x\", bottom =False, labelbottom =False)\n",
    "axis.set_ylabel(\"# genes\")\n",
    "axis.axhline(y = 100, color = \"black\", label = \"cutoff\")\n",
    "axis.legend(fontsize = 14, loc = \"upper right\")\n",
    "\n",
    "axis = sc.pl.violin(dataset, \"pct_counts_mt\", jitter = 0.4, ax = ax[1], show = False)\n",
    "axis.grid(False)\n",
    "axis.set_title(\"Mitochondrial Fraction\")\n",
    "axis.tick_params(axis = \"x\", bottom =False, labelbottom =False)\n",
    "axis.set_ylabel(\"% mitochondrial genes\")\n",
    "axis.axhline(y = 10, color = \"black\", label = \"cutoff\")\n",
    "axis.legend(fontsize = 14, loc = \"upper right\")\n",
    "\n",
    "axis = sc.pl.violin(dataset, \"pct_counts_hb\", jitter = 0.4, ax = ax[2], show = False, size =2)\n",
    "axis.grid(False)\n",
    "axis.set_title(\"Hemoglobin Fraction\")\n",
    "axis.tick_params(axis = \"x\", bottom =False, labelbottom =False)\n",
    "axis.set_ylabel(\"% hemoglobin genes\")\n",
    "axis.axhline(y = 3, color = \"black\", label = \"cutoff\")\n",
    "axis.legend(fontsize = 14, loc = \"upper right\")\n",
    "#axis.set_ylim(0,5)\n",
    "\n",
    "axis = sc.pl.violin(dataset, \"pct_counts_ribo\", jitter = 0.4, ax = ax[3], show = False)\n",
    "axis.grid(False)\n",
    "axis.set_title(\"Ribosomal Fraction\")\n",
    "axis.tick_params(axis = \"x\", bottom =False, labelbottom =False)\n",
    "axis.set_ylabel(\"% ribosome genes\")\n",
    "\n",
    "plt.tight_layout()\n",
    "#plt.savefig(f\"{outputDir}08_gene_based_filtering.pdf\", dpi = 300)\n",
    "plt.show()\n",
    "\n"
   ]
  },
  {
   "cell_type": "code",
   "execution_count": null,
   "id": "d7ade754-843e-4840-8707-426613d8c0c5",
   "metadata": {
    "execution": {
     "iopub.execute_input": "2023-05-15T08:13:59.362908Z",
     "iopub.status.busy": "2023-05-15T08:13:59.362738Z",
     "iopub.status.idle": "2023-05-15T08:13:59.371592Z",
     "shell.execute_reply": "2023-05-15T08:13:59.371274Z"
    },
    "papermill": {
     "duration": 0.014508,
     "end_time": "2023-05-15T08:13:59.372376",
     "exception": false,
     "start_time": "2023-05-15T08:13:59.357868",
     "status": "completed"
    },
    "tags": []
   },
   "outputs": [],
   "source": [
    "dataset = dataset[dataset.obs.pct_counts_mt < 10, :]\n",
    "dataset = dataset[dataset.obs.n_genes_by_counts > 100, :]\n",
    "dataset = dataset[dataset.obs.pct_counts_hb < 3, :]\n",
    "dataset"
   ]
  },
  {
   "cell_type": "code",
   "execution_count": null,
   "id": "1941fa36-e865-4500-b586-f7a32d142c9b",
   "metadata": {
    "execution": {
     "iopub.execute_input": "2023-05-15T08:13:59.381666Z",
     "iopub.status.busy": "2023-05-15T08:13:59.381320Z",
     "iopub.status.idle": "2023-05-15T08:13:59.384233Z",
     "shell.execute_reply": "2023-05-15T08:13:59.383940Z"
    },
    "papermill": {
     "duration": 0.008486,
     "end_time": "2023-05-15T08:13:59.385055",
     "exception": false,
     "start_time": "2023-05-15T08:13:59.376569",
     "status": "completed"
    },
    "tags": []
   },
   "outputs": [],
   "source": [
    "metadata.columns"
   ]
  },
  {
   "cell_type": "code",
   "execution_count": null,
   "id": "2e0ff8c3-2aa9-4a01-9b88-5912a6734447",
   "metadata": {
    "execution": {
     "iopub.execute_input": "2023-05-15T08:13:59.394214Z",
     "iopub.status.busy": "2023-05-15T08:13:59.394059Z",
     "iopub.status.idle": "2023-05-15T08:13:59.431559Z",
     "shell.execute_reply": "2023-05-15T08:13:59.431134Z"
    },
    "papermill": {
     "duration": 0.043242,
     "end_time": "2023-05-15T08:13:59.432594",
     "exception": false,
     "start_time": "2023-05-15T08:13:59.389352",
     "status": "completed"
    },
    "tags": []
   },
   "outputs": [],
   "source": [
    "for col in metadata.columns:\n",
    "    dataset.obs[col] = metadata.loc[metadata[\"Run\"] == sample_name, col].to_list()[0]"
   ]
  },
  {
   "cell_type": "code",
   "execution_count": null,
   "id": "b84578d3-d63e-419c-a272-a0b8317d05ab",
   "metadata": {
    "execution": {
     "iopub.execute_input": "2023-05-15T08:13:59.442106Z",
     "iopub.status.busy": "2023-05-15T08:13:59.441931Z",
     "iopub.status.idle": "2023-05-15T08:13:59.905969Z",
     "shell.execute_reply": "2023-05-15T08:13:59.905460Z"
    },
    "papermill": {
     "duration": 0.470264,
     "end_time": "2023-05-15T08:13:59.907406",
     "exception": false,
     "start_time": "2023-05-15T08:13:59.437142",
     "status": "completed"
    },
    "tags": []
   },
   "outputs": [],
   "source": [
    "dataset.write(f\"../../int_data/{sample_name}_qc.h5ad\")"
   ]
  },
  {
   "cell_type": "code",
   "execution_count": null,
   "id": "501b33a0-432d-415f-ae82-50723484b85d",
   "metadata": {
    "execution": {
     "iopub.execute_input": "2023-05-15T08:13:59.917521Z",
     "iopub.status.busy": "2023-05-15T08:13:59.917328Z",
     "iopub.status.idle": "2023-05-15T08:13:59.920420Z",
     "shell.execute_reply": "2023-05-15T08:13:59.920083Z"
    },
    "papermill": {
     "duration": 0.008994,
     "end_time": "2023-05-15T08:13:59.921225",
     "exception": false,
     "start_time": "2023-05-15T08:13:59.912231",
     "status": "completed"
    },
    "tags": []
   },
   "outputs": [],
   "source": [
    "dataset"
   ]
  }
 ],
 "metadata": {
  "kernelspec": {
   "display_name": "py_R",
   "language": "python",
   "name": "python_r"
  },
  "language_info": {
   "codemirror_mode": {
    "name": "ipython",
    "version": 3
   },
   "file_extension": ".py",
   "mimetype": "text/x-python",
   "name": "python",
   "nbconvert_exporter": "python",
   "pygments_lexer": "ipython3",
   "version": "3.10.9"
  },
  "papermill": {
   "default_parameters": {},
   "duration": 120.338123,
   "end_time": "2023-05-15T08:14:05.501162",
   "environment_variables": {},
   "exception": null,
   "input_path": "template.ipynb",
   "output_path": "SRR13329123.ipynb",
   "parameters": {
    "sample_name": "SRR13329123"
   },
   "start_time": "2023-05-15T08:12:05.163039",
   "version": "2.4.0"
  }
 },
 "nbformat": 4,
 "nbformat_minor": 5
}
