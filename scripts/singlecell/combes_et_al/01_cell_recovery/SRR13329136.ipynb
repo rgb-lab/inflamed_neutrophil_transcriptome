{
 "cells": [
  {
   "cell_type": "code",
   "execution_count": null,
   "id": "4c0f2fa8-5232-4f47-a7ec-6c9bbabe50e2",
   "metadata": {
    "execution": {
     "iopub.execute_input": "2023-05-15T08:44:21.702637Z",
     "iopub.status.busy": "2023-05-15T08:44:21.702430Z",
     "iopub.status.idle": "2023-05-15T08:44:22.041204Z",
     "shell.execute_reply": "2023-05-15T08:44:22.040839Z"
    },
    "papermill": {
     "duration": 0.347387,
     "end_time": "2023-05-15T08:44:22.042268",
     "exception": false,
     "start_time": "2023-05-15T08:44:21.694881",
     "status": "completed"
    },
    "tags": [
     "parameters"
    ]
   },
   "outputs": [],
   "source": [
    "sample_name = \"SRR13329143\""
   ]
  },
  {
   "cell_type": "code",
   "execution_count": null,
   "id": "d16c73b8",
   "metadata": {
    "execution": {
     "iopub.execute_input": "2023-05-15T08:44:22.048119Z",
     "iopub.status.busy": "2023-05-15T08:44:22.047972Z",
     "iopub.status.idle": "2023-05-15T08:44:22.049991Z",
     "shell.execute_reply": "2023-05-15T08:44:22.049695Z"
    },
    "papermill": {
     "duration": 0.005583,
     "end_time": "2023-05-15T08:44:22.050748",
     "exception": false,
     "start_time": "2023-05-15T08:44:22.045165",
     "status": "completed"
    },
    "tags": [
     "injected-parameters"
    ]
   },
   "outputs": [],
   "source": [
    "# Parameters\n",
    "sample_name = \"SRR13329136\"\n"
   ]
  },
  {
   "cell_type": "code",
   "execution_count": null,
   "id": "f87ed95b-2b67-4a5a-8fe2-47359b1dd2a9",
   "metadata": {
    "execution": {
     "iopub.execute_input": "2023-05-15T08:44:22.056301Z",
     "iopub.status.busy": "2023-05-15T08:44:22.056029Z",
     "iopub.status.idle": "2023-05-15T08:44:22.058837Z",
     "shell.execute_reply": "2023-05-15T08:44:22.058546Z"
    },
    "papermill": {
     "duration": 0.006448,
     "end_time": "2023-05-15T08:44:22.059628",
     "exception": false,
     "start_time": "2023-05-15T08:44:22.053180",
     "status": "completed"
    },
    "tags": []
   },
   "outputs": [],
   "source": [
    "import warnings\n",
    "warnings.simplefilter(action='ignore', category=FutureWarning)\n",
    "warnings.simplefilter(action='ignore', category=UserWarning)"
   ]
  },
  {
   "cell_type": "code",
   "execution_count": null,
   "id": "85161f19-b2c5-490b-8cab-c2cf9653b304",
   "metadata": {
    "execution": {
     "iopub.execute_input": "2023-05-15T08:44:22.065199Z",
     "iopub.status.busy": "2023-05-15T08:44:22.065001Z",
     "iopub.status.idle": "2023-05-15T08:44:27.051583Z",
     "shell.execute_reply": "2023-05-15T08:44:27.051057Z"
    },
    "papermill": {
     "duration": 4.990708,
     "end_time": "2023-05-15T08:44:27.052826",
     "exception": false,
     "start_time": "2023-05-15T08:44:22.062118",
     "status": "completed"
    },
    "tags": []
   },
   "outputs": [],
   "source": [
    "import gc\n",
    "import scanpy as sc\n",
    "import muon as mu\n",
    "import seaborn as sns\n",
    "import os\n",
    "import pandas as pd\n",
    "from matplotlib import pyplot as plt\n",
    "\n",
    "os.environ['R_HOME'] = '/gpfs/bwfor/work/ws/hd_fu399-conda/conda/envs/python_R/lib/R/'\n",
    "import anndata2ri\n",
    "import logging\n",
    "\n",
    "import rpy2.rinterface_lib.callbacks as rcb\n",
    "import rpy2.robjects as ro\n",
    "\n",
    "rcb.logger.setLevel(logging.ERROR)\n",
    "ro.pandas2ri.activate()\n",
    "anndata2ri.activate()\n",
    "\n",
    "%load_ext rpy2.ipython"
   ]
  },
  {
   "cell_type": "code",
   "execution_count": null,
   "id": "fc4ade78-b728-4704-9db6-45fbaab62ba1",
   "metadata": {
    "execution": {
     "iopub.execute_input": "2023-05-15T08:44:27.068766Z",
     "iopub.status.busy": "2023-05-15T08:44:27.068450Z",
     "iopub.status.idle": "2023-05-15T08:44:59.589782Z",
     "shell.execute_reply": "2023-05-15T08:44:59.589209Z"
    },
    "papermill": {
     "duration": 32.525804,
     "end_time": "2023-05-15T08:44:59.591098",
     "exception": false,
     "start_time": "2023-05-15T08:44:27.065294",
     "status": "completed"
    },
    "tags": []
   },
   "outputs": [],
   "source": [
    "%%R\n",
    "library(SoupX)\n",
    "library(Seurat)\n",
    "library(scater)\n",
    "library(scDblFinder)\n",
    "library(BiocParallel)\n",
    "library(MuDataSeurat)\n",
    "library(DropletUtils)"
   ]
  },
  {
   "cell_type": "code",
   "execution_count": null,
   "id": "f7424d90-7690-4290-8651-1db3f9df3a35",
   "metadata": {
    "execution": {
     "iopub.execute_input": "2023-05-15T08:44:59.601439Z",
     "iopub.status.busy": "2023-05-15T08:44:59.601028Z",
     "iopub.status.idle": "2023-05-15T08:44:59.607722Z",
     "shell.execute_reply": "2023-05-15T08:44:59.607395Z"
    },
    "papermill": {
     "duration": 0.010833,
     "end_time": "2023-05-15T08:44:59.608545",
     "exception": false,
     "start_time": "2023-05-15T08:44:59.597712",
     "status": "completed"
    },
    "tags": []
   },
   "outputs": [],
   "source": [
    "metadata = pd.read_csv(\"../../combes_metadata.txt\")"
   ]
  },
  {
   "cell_type": "code",
   "execution_count": null,
   "id": "2574ecf1-bad4-4c33-8f3f-718a358727ab",
   "metadata": {
    "execution": {
     "iopub.execute_input": "2023-05-15T08:44:59.614355Z",
     "iopub.status.busy": "2023-05-15T08:44:59.614226Z",
     "iopub.status.idle": "2023-05-15T08:44:59.618522Z",
     "shell.execute_reply": "2023-05-15T08:44:59.618210Z"
    },
    "papermill": {
     "duration": 0.008145,
     "end_time": "2023-05-15T08:44:59.619299",
     "exception": false,
     "start_time": "2023-05-15T08:44:59.611154",
     "status": "completed"
    },
    "tags": []
   },
   "outputs": [],
   "source": [
    "raw_input = f\"/home/hd/hd_hd/hd_fu399/sds-hd/sd21k006/scRNAseq/revision_natcomm/combes_et_al/fetchngs/results/fastq/{sample_name}/{sample_name}/outs/raw_feature_bc_matrix.h5\""
   ]
  },
  {
   "cell_type": "code",
   "execution_count": null,
   "id": "e266d388-1802-435c-93a5-90067358739c",
   "metadata": {
    "execution": {
     "iopub.execute_input": "2023-05-15T08:44:59.625250Z",
     "iopub.status.busy": "2023-05-15T08:44:59.624858Z",
     "iopub.status.idle": "2023-05-15T08:45:00.030373Z",
     "shell.execute_reply": "2023-05-15T08:45:00.029949Z"
    },
    "papermill": {
     "duration": 0.409594,
     "end_time": "2023-05-15T08:45:00.031454",
     "exception": false,
     "start_time": "2023-05-15T08:44:59.621860",
     "status": "completed"
    },
    "tags": []
   },
   "outputs": [],
   "source": [
    "dataset = sc.read_10x_h5(raw_input)\n",
    "dataset.var_names_make_unique()\n",
    "dataset.obs_names_make_unique()\n",
    "\n",
    "dataset.layers[\"raw_counts\"] = dataset.X.copy()\n",
    "data_tod = dataset.layers[\"raw_counts\"].T.copy()\n",
    "\n",
    "dataset"
   ]
  },
  {
   "cell_type": "code",
   "execution_count": null,
   "id": "af9f5892-ed31-42a6-991b-4e096f582cef",
   "metadata": {
    "execution": {
     "iopub.execute_input": "2023-05-15T08:45:00.037824Z",
     "iopub.status.busy": "2023-05-15T08:45:00.037645Z",
     "iopub.status.idle": "2023-05-15T08:45:00.068423Z",
     "shell.execute_reply": "2023-05-15T08:45:00.067999Z"
    },
    "papermill": {
     "duration": 0.035207,
     "end_time": "2023-05-15T08:45:00.069671",
     "exception": false,
     "start_time": "2023-05-15T08:45:00.034464",
     "status": "completed"
    },
    "tags": []
   },
   "outputs": [],
   "source": [
    "sce = dataset.copy()"
   ]
  },
  {
   "cell_type": "code",
   "execution_count": null,
   "id": "d03f2caf-8e74-430e-b045-0ab80401d165",
   "metadata": {
    "execution": {
     "iopub.execute_input": "2023-05-15T08:45:00.076184Z",
     "iopub.status.busy": "2023-05-15T08:45:00.076009Z",
     "iopub.status.idle": "2023-05-15T08:45:47.161463Z",
     "shell.execute_reply": "2023-05-15T08:45:47.160861Z"
    },
    "papermill": {
     "duration": 47.090138,
     "end_time": "2023-05-15T08:45:47.162871",
     "exception": false,
     "start_time": "2023-05-15T08:45:00.072733",
     "status": "completed"
    },
    "tags": []
   },
   "outputs": [],
   "source": [
    "%%R -i sce -o empty_drop_output\n",
    "set.seed(187)\n",
    "empty_drop_output <- emptyDrops(assay(sce))"
   ]
  },
  {
   "cell_type": "code",
   "execution_count": null,
   "id": "2a34a54b-3ae2-44d6-8679-8769228c5b66",
   "metadata": {
    "execution": {
     "iopub.execute_input": "2023-05-15T08:45:47.173188Z",
     "iopub.status.busy": "2023-05-15T08:45:47.173038Z",
     "iopub.status.idle": "2023-05-15T08:45:47.198156Z",
     "shell.execute_reply": "2023-05-15T08:45:47.197821Z"
    },
    "papermill": {
     "duration": 0.029484,
     "end_time": "2023-05-15T08:45:47.198951",
     "exception": false,
     "start_time": "2023-05-15T08:45:47.169467",
     "status": "completed"
    },
    "tags": []
   },
   "outputs": [],
   "source": [
    "non_empty_barcodes = empty_drop_output[empty_drop_output[\"FDR\"] < 0.001].index\n",
    "dataset = dataset[dataset.obs.index.isin(non_empty_barcodes), :]\n",
    "dataset"
   ]
  },
  {
   "cell_type": "code",
   "execution_count": null,
   "id": "016a91e5-1bef-46fb-b91e-4fb9a6870c44",
   "metadata": {
    "execution": {
     "iopub.execute_input": "2023-05-15T08:45:47.206072Z",
     "iopub.status.busy": "2023-05-15T08:45:47.205929Z",
     "iopub.status.idle": "2023-05-15T08:45:50.654580Z",
     "shell.execute_reply": "2023-05-15T08:45:50.654079Z"
    },
    "papermill": {
     "duration": 3.454163,
     "end_time": "2023-05-15T08:45:50.655957",
     "exception": false,
     "start_time": "2023-05-15T08:45:47.201794",
     "status": "completed"
    },
    "tags": []
   },
   "outputs": [],
   "source": [
    "rna_assay = dataset.copy()\n",
    "sc.pp.normalize_per_cell(rna_assay)\n",
    "sc.pp.log1p(rna_assay)\n",
    "sc.pp.pca(rna_assay)\n",
    "sc.pp.neighbors(rna_assay)\n",
    "sc.tl.leiden(rna_assay, key_added=\"soupx_groups\")\n",
    "\n",
    "soupx_groups = rna_assay.obs[\"soupx_groups\"]\n",
    "\n",
    "del rna_assay\n",
    "\n",
    "genes = dataset.var_names\n",
    "cells = dataset.obs_names\n",
    "data = dataset.X.T.copy()"
   ]
  },
  {
   "cell_type": "code",
   "execution_count": null,
   "id": "9db4ea1f-1580-4f43-a3f0-86002397cd98",
   "metadata": {
    "execution": {
     "iopub.execute_input": "2023-05-15T08:45:50.666438Z",
     "iopub.status.busy": "2023-05-15T08:45:50.666252Z",
     "iopub.status.idle": "2023-05-15T08:46:00.196044Z",
     "shell.execute_reply": "2023-05-15T08:46:00.195441Z"
    },
    "papermill": {
     "duration": 9.534882,
     "end_time": "2023-05-15T08:46:00.197287",
     "exception": false,
     "start_time": "2023-05-15T08:45:50.662405",
     "status": "completed"
    },
    "tags": []
   },
   "outputs": [],
   "source": [
    "%%R -i data -i data_tod -i genes -i cells -i soupx_groups -o out \n",
    "set.seed(187)\n",
    "# specify row and column names of data\n",
    "rownames(data) = genes\n",
    "colnames(data) = cells\n",
    "# ensure correct sparse format for table of counts and table of droplets\n",
    "data <- as(data, \"sparseMatrix\")\n",
    "data_tod <- as(data_tod, \"sparseMatrix\")\n",
    "\n",
    "# Generate SoupChannel Object for SoupX \n",
    "sc = SoupChannel(data_tod, data, calcSoupProfile = FALSE)\n",
    "\n",
    "# Add extra meta data to the SoupChannel object\n",
    "soupProf = data.frame(row.names = rownames(data),\n",
    "                      est = rowSums(data)/sum(data),\n",
    "                      counts = rowSums(data))\n",
    "sc = setSoupProfile(sc, soupProf)\n",
    "# Set cluster information in SoupChannel\n",
    "sc = setClusters(sc, soupx_groups)\n",
    "\n",
    "# Estimate contamination fraction\n",
    "sc  = autoEstCont(sc, doPlot=FALSE, forceAccept = TRUE)\n",
    "# Infer corrected table of counts and rount to integer\n",
    "out = adjustCounts(sc, roundToInt = TRUE)"
   ]
  },
  {
   "cell_type": "code",
   "execution_count": null,
   "id": "32555d5e-5fa3-46dd-a4e0-ddc96ea265e2",
   "metadata": {
    "execution": {
     "iopub.execute_input": "2023-05-15T08:46:00.207811Z",
     "iopub.status.busy": "2023-05-15T08:46:00.207608Z",
     "iopub.status.idle": "2023-05-15T08:46:00.228310Z",
     "shell.execute_reply": "2023-05-15T08:46:00.227928Z"
    },
    "papermill": {
     "duration": 0.025282,
     "end_time": "2023-05-15T08:46:00.229385",
     "exception": false,
     "start_time": "2023-05-15T08:46:00.204103",
     "status": "completed"
    },
    "tags": []
   },
   "outputs": [],
   "source": [
    "dataset.layers[\"soupX_counts\"] = out.T\n",
    "dataset.X = dataset.layers[\"soupX_counts\"].copy()"
   ]
  },
  {
   "cell_type": "code",
   "execution_count": null,
   "id": "e27da7df-e094-4d2a-9109-5a363e012175",
   "metadata": {
    "execution": {
     "iopub.execute_input": "2023-05-15T08:46:00.236041Z",
     "iopub.status.busy": "2023-05-15T08:46:00.235869Z",
     "iopub.status.idle": "2023-05-15T08:46:00.238221Z",
     "shell.execute_reply": "2023-05-15T08:46:00.237894Z"
    },
    "papermill": {
     "duration": 0.006563,
     "end_time": "2023-05-15T08:46:00.238978",
     "exception": false,
     "start_time": "2023-05-15T08:46:00.232415",
     "status": "completed"
    },
    "tags": []
   },
   "outputs": [],
   "source": [
    "data_mat = dataset.X.T"
   ]
  },
  {
   "cell_type": "code",
   "execution_count": null,
   "id": "80a993b1-5ccb-4697-9187-1beb7ab8aff9",
   "metadata": {
    "execution": {
     "iopub.execute_input": "2023-05-15T08:46:00.245756Z",
     "iopub.status.busy": "2023-05-15T08:46:00.245565Z",
     "iopub.status.idle": "2023-05-15T08:46:15.976781Z",
     "shell.execute_reply": "2023-05-15T08:46:15.976167Z"
    },
    "papermill": {
     "duration": 15.736305,
     "end_time": "2023-05-15T08:46:15.978061",
     "exception": false,
     "start_time": "2023-05-15T08:46:00.241756",
     "status": "completed"
    },
    "tags": []
   },
   "outputs": [],
   "source": [
    "%%R -i data_mat -o droplet_class\n",
    "\n",
    "set.seed(187)\n",
    "sce = scDblFinder(\n",
    "    SingleCellExperiment(\n",
    "        list(counts=data_mat),\n",
    "    ) \n",
    ")\n",
    "droplet_class = sce$scDblFinder.class"
   ]
  },
  {
   "cell_type": "code",
   "execution_count": null,
   "id": "d4dd6e9d-fcf2-41fc-8457-c8e0a3cb2c71",
   "metadata": {
    "execution": {
     "iopub.execute_input": "2023-05-15T08:46:15.988604Z",
     "iopub.status.busy": "2023-05-15T08:46:15.988409Z",
     "iopub.status.idle": "2023-05-15T08:46:15.993683Z",
     "shell.execute_reply": "2023-05-15T08:46:15.993349Z"
    },
    "papermill": {
     "duration": 0.009683,
     "end_time": "2023-05-15T08:46:15.994448",
     "exception": false,
     "start_time": "2023-05-15T08:46:15.984765",
     "status": "completed"
    },
    "tags": []
   },
   "outputs": [],
   "source": [
    "dataset.obs[\"scDblFinder_class\"] = droplet_class\n",
    "dataset.obs.scDblFinder_class.value_counts()\n",
    "dataset"
   ]
  },
  {
   "cell_type": "code",
   "execution_count": null,
   "id": "28c95014-2d6c-477f-95cb-9f9f0507520c",
   "metadata": {
    "execution": {
     "iopub.execute_input": "2023-05-15T08:46:16.001058Z",
     "iopub.status.busy": "2023-05-15T08:46:16.000898Z",
     "iopub.status.idle": "2023-05-15T08:46:16.005520Z",
     "shell.execute_reply": "2023-05-15T08:46:16.005164Z"
    },
    "papermill": {
     "duration": 0.008868,
     "end_time": "2023-05-15T08:46:16.006270",
     "exception": false,
     "start_time": "2023-05-15T08:46:15.997402",
     "status": "completed"
    },
    "tags": []
   },
   "outputs": [],
   "source": [
    "dataset = dataset[dataset.obs[\"scDblFinder_class\"] == 1]"
   ]
  },
  {
   "cell_type": "code",
   "execution_count": null,
   "id": "3e22f9e0-bfcb-416c-a151-a9bca3bec3b9",
   "metadata": {
    "execution": {
     "iopub.execute_input": "2023-05-15T08:46:16.013052Z",
     "iopub.status.busy": "2023-05-15T08:46:16.012796Z",
     "iopub.status.idle": "2023-05-15T08:46:16.120651Z",
     "shell.execute_reply": "2023-05-15T08:46:16.120204Z"
    },
    "papermill": {
     "duration": 0.112189,
     "end_time": "2023-05-15T08:46:16.121557",
     "exception": false,
     "start_time": "2023-05-15T08:46:16.009368",
     "status": "completed"
    },
    "tags": []
   },
   "outputs": [],
   "source": [
    "# mitochondrial genes\n",
    "dataset.var[\"mt\"] = dataset.var_names.str.startswith(\"MT-\")\n",
    "# ribosomal genes\n",
    "dataset.var[\"ribo\"] = dataset.var_names.str.startswith((\"RPS\", \"RPL\"))\n",
    "# hemoglobin genes.\n",
    "dataset.var[\"hb\"] = dataset.var_names.str.contains((\"^HB[^(P)]\"))\n",
    "\n",
    "sc.pp.calculate_qc_metrics(dataset,\n",
    "                           qc_vars=['mt', 'ribo', 'hb'],\n",
    "                           percent_top=None,\n",
    "                           log1p=False,\n",
    "                           inplace=True)\n",
    "dataset"
   ]
  },
  {
   "cell_type": "code",
   "execution_count": null,
   "id": "34deee79-4043-428f-8575-aa57b45f6369",
   "metadata": {
    "execution": {
     "iopub.execute_input": "2023-05-15T08:46:16.128943Z",
     "iopub.status.busy": "2023-05-15T08:46:16.128772Z",
     "iopub.status.idle": "2023-05-15T08:46:16.561090Z",
     "shell.execute_reply": "2023-05-15T08:46:16.560691Z"
    },
    "papermill": {
     "duration": 0.436933,
     "end_time": "2023-05-15T08:46:16.561973",
     "exception": false,
     "start_time": "2023-05-15T08:46:16.125040",
     "status": "completed"
    },
    "tags": []
   },
   "outputs": [],
   "source": [
    "fig, ax = plt.subplots(ncols = 4, figsize = (16,4))\n",
    "axis = sc.pl.violin(dataset, \"n_genes_by_counts\", jitter = 0.4, ax = ax[0], show = False)\n",
    "axis.grid(False)\n",
    "axis.set_title(\"Unique Genes per cell\")\n",
    "axis.tick_params(axis = \"x\", bottom =False, labelbottom =False)\n",
    "axis.set_ylabel(\"# genes\")\n",
    "axis.axhline(y = 100, color = \"black\", label = \"cutoff\")\n",
    "axis.legend(fontsize = 14, loc = \"upper right\")\n",
    "\n",
    "axis = sc.pl.violin(dataset, \"pct_counts_mt\", jitter = 0.4, ax = ax[1], show = False)\n",
    "axis.grid(False)\n",
    "axis.set_title(\"Mitochondrial Fraction\")\n",
    "axis.tick_params(axis = \"x\", bottom =False, labelbottom =False)\n",
    "axis.set_ylabel(\"% mitochondrial genes\")\n",
    "axis.axhline(y = 10, color = \"black\", label = \"cutoff\")\n",
    "axis.legend(fontsize = 14, loc = \"upper right\")\n",
    "\n",
    "axis = sc.pl.violin(dataset, \"pct_counts_hb\", jitter = 0.4, ax = ax[2], show = False, size =2)\n",
    "axis.grid(False)\n",
    "axis.set_title(\"Hemoglobin Fraction\")\n",
    "axis.tick_params(axis = \"x\", bottom =False, labelbottom =False)\n",
    "axis.set_ylabel(\"% hemoglobin genes\")\n",
    "axis.axhline(y = 3, color = \"black\", label = \"cutoff\")\n",
    "axis.legend(fontsize = 14, loc = \"upper right\")\n",
    "#axis.set_ylim(0,5)\n",
    "\n",
    "axis = sc.pl.violin(dataset, \"pct_counts_ribo\", jitter = 0.4, ax = ax[3], show = False)\n",
    "axis.grid(False)\n",
    "axis.set_title(\"Ribosomal Fraction\")\n",
    "axis.tick_params(axis = \"x\", bottom =False, labelbottom =False)\n",
    "axis.set_ylabel(\"% ribosome genes\")\n",
    "\n",
    "plt.tight_layout()\n",
    "#plt.savefig(f\"{outputDir}08_gene_based_filtering.pdf\", dpi = 300)\n",
    "plt.show()\n",
    "\n"
   ]
  },
  {
   "cell_type": "code",
   "execution_count": null,
   "id": "d7ade754-843e-4840-8707-426613d8c0c5",
   "metadata": {
    "execution": {
     "iopub.execute_input": "2023-05-15T08:46:16.571931Z",
     "iopub.status.busy": "2023-05-15T08:46:16.571732Z",
     "iopub.status.idle": "2023-05-15T08:46:16.580517Z",
     "shell.execute_reply": "2023-05-15T08:46:16.580183Z"
    },
    "papermill": {
     "duration": 0.014406,
     "end_time": "2023-05-15T08:46:16.581313",
     "exception": false,
     "start_time": "2023-05-15T08:46:16.566907",
     "status": "completed"
    },
    "tags": []
   },
   "outputs": [],
   "source": [
    "dataset = dataset[dataset.obs.pct_counts_mt < 10, :]\n",
    "dataset = dataset[dataset.obs.n_genes_by_counts > 100, :]\n",
    "dataset = dataset[dataset.obs.pct_counts_hb < 3, :]\n",
    "dataset"
   ]
  },
  {
   "cell_type": "code",
   "execution_count": null,
   "id": "1941fa36-e865-4500-b586-f7a32d142c9b",
   "metadata": {
    "execution": {
     "iopub.execute_input": "2023-05-15T08:46:16.590543Z",
     "iopub.status.busy": "2023-05-15T08:46:16.590357Z",
     "iopub.status.idle": "2023-05-15T08:46:16.598674Z",
     "shell.execute_reply": "2023-05-15T08:46:16.598362Z"
    },
    "papermill": {
     "duration": 0.013957,
     "end_time": "2023-05-15T08:46:16.599434",
     "exception": false,
     "start_time": "2023-05-15T08:46:16.585477",
     "status": "completed"
    },
    "tags": []
   },
   "outputs": [],
   "source": [
    "metadata.columns"
   ]
  },
  {
   "cell_type": "code",
   "execution_count": null,
   "id": "2e0ff8c3-2aa9-4a01-9b88-5912a6734447",
   "metadata": {
    "execution": {
     "iopub.execute_input": "2023-05-15T08:46:16.608743Z",
     "iopub.status.busy": "2023-05-15T08:46:16.608579Z",
     "iopub.status.idle": "2023-05-15T08:46:16.640139Z",
     "shell.execute_reply": "2023-05-15T08:46:16.639704Z"
    },
    "papermill": {
     "duration": 0.037587,
     "end_time": "2023-05-15T08:46:16.641363",
     "exception": false,
     "start_time": "2023-05-15T08:46:16.603776",
     "status": "completed"
    },
    "tags": []
   },
   "outputs": [],
   "source": [
    "for col in metadata.columns:\n",
    "    dataset.obs[col] = metadata.loc[metadata[\"Run\"] == sample_name, col].to_list()[0]"
   ]
  },
  {
   "cell_type": "code",
   "execution_count": null,
   "id": "b84578d3-d63e-419c-a272-a0b8317d05ab",
   "metadata": {
    "execution": {
     "iopub.execute_input": "2023-05-15T08:46:16.651664Z",
     "iopub.status.busy": "2023-05-15T08:46:16.651473Z",
     "iopub.status.idle": "2023-05-15T08:46:17.257030Z",
     "shell.execute_reply": "2023-05-15T08:46:17.256563Z"
    },
    "papermill": {
     "duration": 0.612084,
     "end_time": "2023-05-15T08:46:17.258384",
     "exception": false,
     "start_time": "2023-05-15T08:46:16.646300",
     "status": "completed"
    },
    "tags": []
   },
   "outputs": [],
   "source": [
    "dataset.write(f\"../../int_data/{sample_name}_qc.h5ad\")"
   ]
  },
  {
   "cell_type": "code",
   "execution_count": null,
   "id": "501b33a0-432d-415f-ae82-50723484b85d",
   "metadata": {
    "execution": {
     "iopub.execute_input": "2023-05-15T08:46:17.268172Z",
     "iopub.status.busy": "2023-05-15T08:46:17.267983Z",
     "iopub.status.idle": "2023-05-15T08:46:17.271039Z",
     "shell.execute_reply": "2023-05-15T08:46:17.270711Z"
    },
    "papermill": {
     "duration": 0.008683,
     "end_time": "2023-05-15T08:46:17.271816",
     "exception": false,
     "start_time": "2023-05-15T08:46:17.263133",
     "status": "completed"
    },
    "tags": []
   },
   "outputs": [],
   "source": [
    "dataset"
   ]
  }
 ],
 "metadata": {
  "kernelspec": {
   "display_name": "py_R",
   "language": "python",
   "name": "python_r"
  },
  "language_info": {
   "codemirror_mode": {
    "name": "ipython",
    "version": 3
   },
   "file_extension": ".py",
   "mimetype": "text/x-python",
   "name": "python",
   "nbconvert_exporter": "python",
   "pygments_lexer": "ipython3",
   "version": "3.10.9"
  },
  "papermill": {
   "default_parameters": {},
   "duration": 129.675695,
   "end_time": "2023-05-15T08:46:18.693911",
   "environment_variables": {},
   "exception": null,
   "input_path": "template.ipynb",
   "output_path": "SRR13329136.ipynb",
   "parameters": {
    "sample_name": "SRR13329136"
   },
   "start_time": "2023-05-15T08:44:09.018216",
   "version": "2.4.0"
  }
 },
 "nbformat": 4,
 "nbformat_minor": 5
}
