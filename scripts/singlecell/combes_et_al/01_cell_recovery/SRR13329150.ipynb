{
 "cells": [
  {
   "cell_type": "code",
   "execution_count": null,
   "id": "4c0f2fa8-5232-4f47-a7ec-6c9bbabe50e2",
   "metadata": {
    "execution": {
     "iopub.execute_input": "2023-05-15T08:28:25.032252Z",
     "iopub.status.busy": "2023-05-15T08:28:25.032088Z",
     "iopub.status.idle": "2023-05-15T08:28:25.036494Z",
     "shell.execute_reply": "2023-05-15T08:28:25.036183Z"
    },
    "papermill": {
     "duration": 0.009362,
     "end_time": "2023-05-15T08:28:25.037368",
     "exception": false,
     "start_time": "2023-05-15T08:28:25.028006",
     "status": "completed"
    },
    "tags": [
     "parameters"
    ]
   },
   "outputs": [],
   "source": [
    "sample_name = \"SRR13329143\""
   ]
  },
  {
   "cell_type": "code",
   "execution_count": null,
   "id": "92c0d2e3",
   "metadata": {
    "execution": {
     "iopub.execute_input": "2023-05-15T08:28:25.042575Z",
     "iopub.status.busy": "2023-05-15T08:28:25.042444Z",
     "iopub.status.idle": "2023-05-15T08:28:25.044459Z",
     "shell.execute_reply": "2023-05-15T08:28:25.044162Z"
    },
    "papermill": {
     "duration": 0.005404,
     "end_time": "2023-05-15T08:28:25.045208",
     "exception": false,
     "start_time": "2023-05-15T08:28:25.039804",
     "status": "completed"
    },
    "tags": [
     "injected-parameters"
    ]
   },
   "outputs": [],
   "source": [
    "# Parameters\n",
    "sample_name = \"SRR13329150\"\n"
   ]
  },
  {
   "cell_type": "code",
   "execution_count": null,
   "id": "f87ed95b-2b67-4a5a-8fe2-47359b1dd2a9",
   "metadata": {
    "execution": {
     "iopub.execute_input": "2023-05-15T08:28:25.050431Z",
     "iopub.status.busy": "2023-05-15T08:28:25.050288Z",
     "iopub.status.idle": "2023-05-15T08:28:25.052423Z",
     "shell.execute_reply": "2023-05-15T08:28:25.052118Z"
    },
    "papermill": {
     "duration": 0.005696,
     "end_time": "2023-05-15T08:28:25.053172",
     "exception": false,
     "start_time": "2023-05-15T08:28:25.047476",
     "status": "completed"
    },
    "tags": []
   },
   "outputs": [],
   "source": [
    "import warnings\n",
    "warnings.simplefilter(action='ignore', category=FutureWarning)\n",
    "warnings.simplefilter(action='ignore', category=UserWarning)"
   ]
  },
  {
   "cell_type": "code",
   "execution_count": null,
   "id": "85161f19-b2c5-490b-8cab-c2cf9653b304",
   "metadata": {
    "execution": {
     "iopub.execute_input": "2023-05-15T08:28:25.058402Z",
     "iopub.status.busy": "2023-05-15T08:28:25.058169Z",
     "iopub.status.idle": "2023-05-15T08:28:30.259475Z",
     "shell.execute_reply": "2023-05-15T08:28:30.258988Z"
    },
    "papermill": {
     "duration": 5.20538,
     "end_time": "2023-05-15T08:28:30.260855",
     "exception": false,
     "start_time": "2023-05-15T08:28:25.055475",
     "status": "completed"
    },
    "tags": []
   },
   "outputs": [],
   "source": [
    "import gc\n",
    "import scanpy as sc\n",
    "import muon as mu\n",
    "import seaborn as sns\n",
    "import os\n",
    "import pandas as pd\n",
    "from matplotlib import pyplot as plt\n",
    "\n",
    "os.environ['R_HOME'] = '/gpfs/bwfor/work/ws/hd_fu399-conda/conda/envs/python_R/lib/R/'\n",
    "import anndata2ri\n",
    "import logging\n",
    "\n",
    "import rpy2.rinterface_lib.callbacks as rcb\n",
    "import rpy2.robjects as ro\n",
    "\n",
    "rcb.logger.setLevel(logging.ERROR)\n",
    "ro.pandas2ri.activate()\n",
    "anndata2ri.activate()\n",
    "\n",
    "%load_ext rpy2.ipython"
   ]
  },
  {
   "cell_type": "code",
   "execution_count": null,
   "id": "fc4ade78-b728-4704-9db6-45fbaab62ba1",
   "metadata": {
    "execution": {
     "iopub.execute_input": "2023-05-15T08:28:30.269587Z",
     "iopub.status.busy": "2023-05-15T08:28:30.269297Z",
     "iopub.status.idle": "2023-05-15T08:28:42.466122Z",
     "shell.execute_reply": "2023-05-15T08:28:42.465557Z"
    },
    "papermill": {
     "duration": 12.201392,
     "end_time": "2023-05-15T08:28:42.467476",
     "exception": false,
     "start_time": "2023-05-15T08:28:30.266084",
     "status": "completed"
    },
    "tags": []
   },
   "outputs": [],
   "source": [
    "%%R\n",
    "library(SoupX)\n",
    "library(Seurat)\n",
    "library(scater)\n",
    "library(scDblFinder)\n",
    "library(BiocParallel)\n",
    "library(MuDataSeurat)\n",
    "library(DropletUtils)"
   ]
  },
  {
   "cell_type": "code",
   "execution_count": null,
   "id": "f7424d90-7690-4290-8651-1db3f9df3a35",
   "metadata": {
    "execution": {
     "iopub.execute_input": "2023-05-15T08:28:42.477624Z",
     "iopub.status.busy": "2023-05-15T08:28:42.477453Z",
     "iopub.status.idle": "2023-05-15T08:28:42.484453Z",
     "shell.execute_reply": "2023-05-15T08:28:42.484088Z"
    },
    "papermill": {
     "duration": 0.011962,
     "end_time": "2023-05-15T08:28:42.486130",
     "exception": false,
     "start_time": "2023-05-15T08:28:42.474168",
     "status": "completed"
    },
    "tags": []
   },
   "outputs": [],
   "source": [
    "metadata = pd.read_csv(\"../../combes_metadata.txt\")"
   ]
  },
  {
   "cell_type": "code",
   "execution_count": null,
   "id": "2574ecf1-bad4-4c33-8f3f-718a358727ab",
   "metadata": {
    "execution": {
     "iopub.execute_input": "2023-05-15T08:28:42.492515Z",
     "iopub.status.busy": "2023-05-15T08:28:42.492280Z",
     "iopub.status.idle": "2023-05-15T08:28:42.494362Z",
     "shell.execute_reply": "2023-05-15T08:28:42.494058Z"
    },
    "papermill": {
     "duration": 0.006313,
     "end_time": "2023-05-15T08:28:42.495140",
     "exception": false,
     "start_time": "2023-05-15T08:28:42.488827",
     "status": "completed"
    },
    "tags": []
   },
   "outputs": [],
   "source": [
    "raw_input = f\"/home/hd/hd_hd/hd_fu399/sds-hd/sd21k006/scRNAseq/revision_natcomm/combes_et_al/fetchngs/results/fastq/{sample_name}/{sample_name}/outs/raw_feature_bc_matrix.h5\""
   ]
  },
  {
   "cell_type": "code",
   "execution_count": null,
   "id": "e266d388-1802-435c-93a5-90067358739c",
   "metadata": {
    "execution": {
     "iopub.execute_input": "2023-05-15T08:28:42.501481Z",
     "iopub.status.busy": "2023-05-15T08:28:42.501266Z",
     "iopub.status.idle": "2023-05-15T08:28:42.831327Z",
     "shell.execute_reply": "2023-05-15T08:28:42.830904Z"
    },
    "papermill": {
     "duration": 0.334494,
     "end_time": "2023-05-15T08:28:42.832290",
     "exception": false,
     "start_time": "2023-05-15T08:28:42.497796",
     "status": "completed"
    },
    "tags": []
   },
   "outputs": [],
   "source": [
    "dataset = sc.read_10x_h5(raw_input)\n",
    "dataset.var_names_make_unique()\n",
    "dataset.obs_names_make_unique()\n",
    "\n",
    "dataset.layers[\"raw_counts\"] = dataset.X.copy()\n",
    "data_tod = dataset.layers[\"raw_counts\"].T.copy()\n",
    "\n",
    "dataset"
   ]
  },
  {
   "cell_type": "code",
   "execution_count": null,
   "id": "af9f5892-ed31-42a6-991b-4e096f582cef",
   "metadata": {
    "execution": {
     "iopub.execute_input": "2023-05-15T08:28:42.839054Z",
     "iopub.status.busy": "2023-05-15T08:28:42.838877Z",
     "iopub.status.idle": "2023-05-15T08:28:42.872441Z",
     "shell.execute_reply": "2023-05-15T08:28:42.871944Z"
    },
    "papermill": {
     "duration": 0.038159,
     "end_time": "2023-05-15T08:28:42.873726",
     "exception": false,
     "start_time": "2023-05-15T08:28:42.835567",
     "status": "completed"
    },
    "tags": []
   },
   "outputs": [],
   "source": [
    "sce = dataset.copy()"
   ]
  },
  {
   "cell_type": "code",
   "execution_count": null,
   "id": "d03f2caf-8e74-430e-b045-0ab80401d165",
   "metadata": {
    "execution": {
     "iopub.execute_input": "2023-05-15T08:28:42.880327Z",
     "iopub.status.busy": "2023-05-15T08:28:42.880161Z",
     "iopub.status.idle": "2023-05-15T08:29:12.061277Z",
     "shell.execute_reply": "2023-05-15T08:29:12.060657Z"
    },
    "papermill": {
     "duration": 29.185879,
     "end_time": "2023-05-15T08:29:12.062695",
     "exception": false,
     "start_time": "2023-05-15T08:28:42.876816",
     "status": "completed"
    },
    "tags": []
   },
   "outputs": [],
   "source": [
    "%%R -i sce -o empty_drop_output\n",
    "set.seed(187)\n",
    "empty_drop_output <- emptyDrops(assay(sce))"
   ]
  },
  {
   "cell_type": "code",
   "execution_count": null,
   "id": "2a34a54b-3ae2-44d6-8679-8769228c5b66",
   "metadata": {
    "execution": {
     "iopub.execute_input": "2023-05-15T08:29:12.073427Z",
     "iopub.status.busy": "2023-05-15T08:29:12.073251Z",
     "iopub.status.idle": "2023-05-15T08:29:12.098701Z",
     "shell.execute_reply": "2023-05-15T08:29:12.098312Z"
    },
    "papermill": {
     "duration": 0.030039,
     "end_time": "2023-05-15T08:29:12.099590",
     "exception": false,
     "start_time": "2023-05-15T08:29:12.069551",
     "status": "completed"
    },
    "tags": []
   },
   "outputs": [],
   "source": [
    "non_empty_barcodes = empty_drop_output[empty_drop_output[\"FDR\"] < 0.001].index\n",
    "dataset = dataset[dataset.obs.index.isin(non_empty_barcodes), :]\n",
    "dataset"
   ]
  },
  {
   "cell_type": "code",
   "execution_count": null,
   "id": "016a91e5-1bef-46fb-b91e-4fb9a6870c44",
   "metadata": {
    "execution": {
     "iopub.execute_input": "2023-05-15T08:29:12.105856Z",
     "iopub.status.busy": "2023-05-15T08:29:12.105699Z",
     "iopub.status.idle": "2023-05-15T08:29:13.969633Z",
     "shell.execute_reply": "2023-05-15T08:29:13.969176Z"
    },
    "papermill": {
     "duration": 1.868285,
     "end_time": "2023-05-15T08:29:13.970727",
     "exception": false,
     "start_time": "2023-05-15T08:29:12.102442",
     "status": "completed"
    },
    "tags": []
   },
   "outputs": [],
   "source": [
    "rna_assay = dataset.copy()\n",
    "sc.pp.normalize_per_cell(rna_assay)\n",
    "sc.pp.log1p(rna_assay)\n",
    "sc.pp.pca(rna_assay)\n",
    "sc.pp.neighbors(rna_assay)\n",
    "sc.tl.leiden(rna_assay, key_added=\"soupx_groups\")\n",
    "\n",
    "soupx_groups = rna_assay.obs[\"soupx_groups\"]\n",
    "\n",
    "del rna_assay\n",
    "\n",
    "genes = dataset.var_names\n",
    "cells = dataset.obs_names\n",
    "data = dataset.X.T.copy()"
   ]
  },
  {
   "cell_type": "code",
   "execution_count": null,
   "id": "9db4ea1f-1580-4f43-a3f0-86002397cd98",
   "metadata": {
    "execution": {
     "iopub.execute_input": "2023-05-15T08:29:13.980743Z",
     "iopub.status.busy": "2023-05-15T08:29:13.980573Z",
     "iopub.status.idle": "2023-05-15T08:29:17.499461Z",
     "shell.execute_reply": "2023-05-15T08:29:17.499007Z"
    },
    "papermill": {
     "duration": 3.524798,
     "end_time": "2023-05-15T08:29:17.500763",
     "exception": false,
     "start_time": "2023-05-15T08:29:13.975965",
     "status": "completed"
    },
    "tags": []
   },
   "outputs": [],
   "source": [
    "%%R -i data -i data_tod -i genes -i cells -i soupx_groups -o out \n",
    "set.seed(187)\n",
    "# specify row and column names of data\n",
    "rownames(data) = genes\n",
    "colnames(data) = cells\n",
    "# ensure correct sparse format for table of counts and table of droplets\n",
    "data <- as(data, \"sparseMatrix\")\n",
    "data_tod <- as(data_tod, \"sparseMatrix\")\n",
    "\n",
    "# Generate SoupChannel Object for SoupX \n",
    "sc = SoupChannel(data_tod, data, calcSoupProfile = FALSE)\n",
    "\n",
    "# Add extra meta data to the SoupChannel object\n",
    "soupProf = data.frame(row.names = rownames(data),\n",
    "                      est = rowSums(data)/sum(data),\n",
    "                      counts = rowSums(data))\n",
    "sc = setSoupProfile(sc, soupProf)\n",
    "# Set cluster information in SoupChannel\n",
    "sc = setClusters(sc, soupx_groups)\n",
    "\n",
    "# Estimate contamination fraction\n",
    "sc  = autoEstCont(sc, doPlot=FALSE, forceAccept = TRUE)\n",
    "# Infer corrected table of counts and rount to integer\n",
    "out = adjustCounts(sc, roundToInt = TRUE)"
   ]
  },
  {
   "cell_type": "code",
   "execution_count": null,
   "id": "32555d5e-5fa3-46dd-a4e0-ddc96ea265e2",
   "metadata": {
    "execution": {
     "iopub.execute_input": "2023-05-15T08:29:17.509131Z",
     "iopub.status.busy": "2023-05-15T08:29:17.508968Z",
     "iopub.status.idle": "2023-05-15T08:29:17.515707Z",
     "shell.execute_reply": "2023-05-15T08:29:17.515356Z"
    },
    "papermill": {
     "duration": 0.011298,
     "end_time": "2023-05-15T08:29:17.516847",
     "exception": false,
     "start_time": "2023-05-15T08:29:17.505549",
     "status": "completed"
    },
    "tags": []
   },
   "outputs": [],
   "source": [
    "dataset.layers[\"soupX_counts\"] = out.T\n",
    "dataset.X = dataset.layers[\"soupX_counts\"].copy()"
   ]
  },
  {
   "cell_type": "code",
   "execution_count": null,
   "id": "e27da7df-e094-4d2a-9109-5a363e012175",
   "metadata": {
    "execution": {
     "iopub.execute_input": "2023-05-15T08:29:17.523247Z",
     "iopub.status.busy": "2023-05-15T08:29:17.523088Z",
     "iopub.status.idle": "2023-05-15T08:29:17.525321Z",
     "shell.execute_reply": "2023-05-15T08:29:17.525024Z"
    },
    "papermill": {
     "duration": 0.006336,
     "end_time": "2023-05-15T08:29:17.526110",
     "exception": false,
     "start_time": "2023-05-15T08:29:17.519774",
     "status": "completed"
    },
    "tags": []
   },
   "outputs": [],
   "source": [
    "data_mat = dataset.X.T"
   ]
  },
  {
   "cell_type": "code",
   "execution_count": null,
   "id": "80a993b1-5ccb-4697-9187-1beb7ab8aff9",
   "metadata": {
    "execution": {
     "iopub.execute_input": "2023-05-15T08:29:17.532387Z",
     "iopub.status.busy": "2023-05-15T08:29:17.532206Z",
     "iopub.status.idle": "2023-05-15T08:29:27.508340Z",
     "shell.execute_reply": "2023-05-15T08:29:27.507855Z"
    },
    "papermill": {
     "duration": 9.980654,
     "end_time": "2023-05-15T08:29:27.509635",
     "exception": false,
     "start_time": "2023-05-15T08:29:17.528981",
     "status": "completed"
    },
    "tags": []
   },
   "outputs": [],
   "source": [
    "%%R -i data_mat -o droplet_class\n",
    "\n",
    "set.seed(187)\n",
    "sce = scDblFinder(\n",
    "    SingleCellExperiment(\n",
    "        list(counts=data_mat),\n",
    "    ) \n",
    ")\n",
    "droplet_class = sce$scDblFinder.class"
   ]
  },
  {
   "cell_type": "code",
   "execution_count": null,
   "id": "d4dd6e9d-fcf2-41fc-8457-c8e0a3cb2c71",
   "metadata": {
    "execution": {
     "iopub.execute_input": "2023-05-15T08:29:27.519785Z",
     "iopub.status.busy": "2023-05-15T08:29:27.519616Z",
     "iopub.status.idle": "2023-05-15T08:29:27.523701Z",
     "shell.execute_reply": "2023-05-15T08:29:27.523366Z"
    },
    "papermill": {
     "duration": 0.008519,
     "end_time": "2023-05-15T08:29:27.524596",
     "exception": false,
     "start_time": "2023-05-15T08:29:27.516077",
     "status": "completed"
    },
    "tags": []
   },
   "outputs": [],
   "source": [
    "dataset.obs[\"scDblFinder_class\"] = droplet_class\n",
    "dataset.obs.scDblFinder_class.value_counts()\n",
    "dataset"
   ]
  },
  {
   "cell_type": "code",
   "execution_count": null,
   "id": "28c95014-2d6c-477f-95cb-9f9f0507520c",
   "metadata": {
    "execution": {
     "iopub.execute_input": "2023-05-15T08:29:27.531197Z",
     "iopub.status.busy": "2023-05-15T08:29:27.531065Z",
     "iopub.status.idle": "2023-05-15T08:29:27.533855Z",
     "shell.execute_reply": "2023-05-15T08:29:27.533522Z"
    },
    "papermill": {
     "duration": 0.006961,
     "end_time": "2023-05-15T08:29:27.534632",
     "exception": false,
     "start_time": "2023-05-15T08:29:27.527671",
     "status": "completed"
    },
    "tags": []
   },
   "outputs": [],
   "source": [
    "dataset = dataset[dataset.obs[\"scDblFinder_class\"] == 1]"
   ]
  },
  {
   "cell_type": "code",
   "execution_count": null,
   "id": "3e22f9e0-bfcb-416c-a151-a9bca3bec3b9",
   "metadata": {
    "execution": {
     "iopub.execute_input": "2023-05-15T08:29:27.541164Z",
     "iopub.status.busy": "2023-05-15T08:29:27.541008Z",
     "iopub.status.idle": "2023-05-15T08:29:27.584166Z",
     "shell.execute_reply": "2023-05-15T08:29:27.583773Z"
    },
    "papermill": {
     "duration": 0.047358,
     "end_time": "2023-05-15T08:29:27.584969",
     "exception": false,
     "start_time": "2023-05-15T08:29:27.537611",
     "status": "completed"
    },
    "tags": []
   },
   "outputs": [],
   "source": [
    "# mitochondrial genes\n",
    "dataset.var[\"mt\"] = dataset.var_names.str.startswith(\"MT-\")\n",
    "# ribosomal genes\n",
    "dataset.var[\"ribo\"] = dataset.var_names.str.startswith((\"RPS\", \"RPL\"))\n",
    "# hemoglobin genes.\n",
    "dataset.var[\"hb\"] = dataset.var_names.str.contains((\"^HB[^(P)]\"))\n",
    "\n",
    "sc.pp.calculate_qc_metrics(dataset,\n",
    "                           qc_vars=['mt', 'ribo', 'hb'],\n",
    "                           percent_top=None,\n",
    "                           log1p=False,\n",
    "                           inplace=True)\n",
    "dataset"
   ]
  },
  {
   "cell_type": "code",
   "execution_count": null,
   "id": "34deee79-4043-428f-8575-aa57b45f6369",
   "metadata": {
    "execution": {
     "iopub.execute_input": "2023-05-15T08:29:27.592152Z",
     "iopub.status.busy": "2023-05-15T08:29:27.591990Z",
     "iopub.status.idle": "2023-05-15T08:29:28.003983Z",
     "shell.execute_reply": "2023-05-15T08:29:28.003623Z"
    },
    "papermill": {
     "duration": 0.416579,
     "end_time": "2023-05-15T08:29:28.004895",
     "exception": false,
     "start_time": "2023-05-15T08:29:27.588316",
     "status": "completed"
    },
    "tags": []
   },
   "outputs": [],
   "source": [
    "fig, ax = plt.subplots(ncols = 4, figsize = (16,4))\n",
    "axis = sc.pl.violin(dataset, \"n_genes_by_counts\", jitter = 0.4, ax = ax[0], show = False)\n",
    "axis.grid(False)\n",
    "axis.set_title(\"Unique Genes per cell\")\n",
    "axis.tick_params(axis = \"x\", bottom =False, labelbottom =False)\n",
    "axis.set_ylabel(\"# genes\")\n",
    "axis.axhline(y = 100, color = \"black\", label = \"cutoff\")\n",
    "axis.legend(fontsize = 14, loc = \"upper right\")\n",
    "\n",
    "axis = sc.pl.violin(dataset, \"pct_counts_mt\", jitter = 0.4, ax = ax[1], show = False)\n",
    "axis.grid(False)\n",
    "axis.set_title(\"Mitochondrial Fraction\")\n",
    "axis.tick_params(axis = \"x\", bottom =False, labelbottom =False)\n",
    "axis.set_ylabel(\"% mitochondrial genes\")\n",
    "axis.axhline(y = 10, color = \"black\", label = \"cutoff\")\n",
    "axis.legend(fontsize = 14, loc = \"upper right\")\n",
    "\n",
    "axis = sc.pl.violin(dataset, \"pct_counts_hb\", jitter = 0.4, ax = ax[2], show = False, size =2)\n",
    "axis.grid(False)\n",
    "axis.set_title(\"Hemoglobin Fraction\")\n",
    "axis.tick_params(axis = \"x\", bottom =False, labelbottom =False)\n",
    "axis.set_ylabel(\"% hemoglobin genes\")\n",
    "axis.axhline(y = 3, color = \"black\", label = \"cutoff\")\n",
    "axis.legend(fontsize = 14, loc = \"upper right\")\n",
    "#axis.set_ylim(0,5)\n",
    "\n",
    "axis = sc.pl.violin(dataset, \"pct_counts_ribo\", jitter = 0.4, ax = ax[3], show = False)\n",
    "axis.grid(False)\n",
    "axis.set_title(\"Ribosomal Fraction\")\n",
    "axis.tick_params(axis = \"x\", bottom =False, labelbottom =False)\n",
    "axis.set_ylabel(\"% ribosome genes\")\n",
    "\n",
    "plt.tight_layout()\n",
    "#plt.savefig(f\"{outputDir}08_gene_based_filtering.pdf\", dpi = 300)\n",
    "plt.show()\n",
    "\n"
   ]
  },
  {
   "cell_type": "code",
   "execution_count": null,
   "id": "d7ade754-843e-4840-8707-426613d8c0c5",
   "metadata": {
    "execution": {
     "iopub.execute_input": "2023-05-15T08:29:28.013761Z",
     "iopub.status.busy": "2023-05-15T08:29:28.013476Z",
     "iopub.status.idle": "2023-05-15T08:29:28.022163Z",
     "shell.execute_reply": "2023-05-15T08:29:28.021860Z"
    },
    "papermill": {
     "duration": 0.01385,
     "end_time": "2023-05-15T08:29:28.022949",
     "exception": false,
     "start_time": "2023-05-15T08:29:28.009099",
     "status": "completed"
    },
    "tags": []
   },
   "outputs": [],
   "source": [
    "dataset = dataset[dataset.obs.pct_counts_mt < 10, :]\n",
    "dataset = dataset[dataset.obs.n_genes_by_counts > 100, :]\n",
    "dataset = dataset[dataset.obs.pct_counts_hb < 3, :]\n",
    "dataset"
   ]
  },
  {
   "cell_type": "code",
   "execution_count": null,
   "id": "1941fa36-e865-4500-b586-f7a32d142c9b",
   "metadata": {
    "execution": {
     "iopub.execute_input": "2023-05-15T08:29:28.031429Z",
     "iopub.status.busy": "2023-05-15T08:29:28.031245Z",
     "iopub.status.idle": "2023-05-15T08:29:28.034156Z",
     "shell.execute_reply": "2023-05-15T08:29:28.033865Z"
    },
    "papermill": {
     "duration": 0.007919,
     "end_time": "2023-05-15T08:29:28.034918",
     "exception": false,
     "start_time": "2023-05-15T08:29:28.026999",
     "status": "completed"
    },
    "tags": []
   },
   "outputs": [],
   "source": [
    "metadata.columns"
   ]
  },
  {
   "cell_type": "code",
   "execution_count": null,
   "id": "2e0ff8c3-2aa9-4a01-9b88-5912a6734447",
   "metadata": {
    "execution": {
     "iopub.execute_input": "2023-05-15T08:29:28.043319Z",
     "iopub.status.busy": "2023-05-15T08:29:28.043091Z",
     "iopub.status.idle": "2023-05-15T08:29:28.059924Z",
     "shell.execute_reply": "2023-05-15T08:29:28.059557Z"
    },
    "papermill": {
     "duration": 0.022055,
     "end_time": "2023-05-15T08:29:28.060826",
     "exception": false,
     "start_time": "2023-05-15T08:29:28.038771",
     "status": "completed"
    },
    "tags": []
   },
   "outputs": [],
   "source": [
    "for col in metadata.columns:\n",
    "    dataset.obs[col] = metadata.loc[metadata[\"Run\"] == sample_name, col].to_list()[0]"
   ]
  },
  {
   "cell_type": "code",
   "execution_count": null,
   "id": "b84578d3-d63e-419c-a272-a0b8317d05ab",
   "metadata": {
    "execution": {
     "iopub.execute_input": "2023-05-15T08:29:28.070491Z",
     "iopub.status.busy": "2023-05-15T08:29:28.070302Z",
     "iopub.status.idle": "2023-05-15T08:29:28.436347Z",
     "shell.execute_reply": "2023-05-15T08:29:28.435853Z"
    },
    "papermill": {
     "duration": 0.372315,
     "end_time": "2023-05-15T08:29:28.437643",
     "exception": false,
     "start_time": "2023-05-15T08:29:28.065328",
     "status": "completed"
    },
    "tags": []
   },
   "outputs": [],
   "source": [
    "dataset.write(f\"../../int_data/{sample_name}_qc.h5ad\")"
   ]
  },
  {
   "cell_type": "code",
   "execution_count": null,
   "id": "501b33a0-432d-415f-ae82-50723484b85d",
   "metadata": {
    "execution": {
     "iopub.execute_input": "2023-05-15T08:29:28.447140Z",
     "iopub.status.busy": "2023-05-15T08:29:28.446975Z",
     "iopub.status.idle": "2023-05-15T08:29:28.449903Z",
     "shell.execute_reply": "2023-05-15T08:29:28.449604Z"
    },
    "papermill": {
     "duration": 0.008486,
     "end_time": "2023-05-15T08:29:28.450699",
     "exception": false,
     "start_time": "2023-05-15T08:29:28.442213",
     "status": "completed"
    },
    "tags": []
   },
   "outputs": [],
   "source": [
    "dataset"
   ]
  }
 ],
 "metadata": {
  "kernelspec": {
   "display_name": "py_R",
   "language": "python",
   "name": "python_r"
  },
  "language_info": {
   "codemirror_mode": {
    "name": "ipython",
    "version": 3
   },
   "file_extension": ".py",
   "mimetype": "text/x-python",
   "name": "python",
   "nbconvert_exporter": "python",
   "pygments_lexer": "ipython3",
   "version": "3.10.9"
  },
  "papermill": {
   "default_parameters": {},
   "duration": 66.204866,
   "end_time": "2023-05-15T08:29:29.772448",
   "environment_variables": {},
   "exception": null,
   "input_path": "template.ipynb",
   "output_path": "SRR13329150.ipynb",
   "parameters": {
    "sample_name": "SRR13329150"
   },
   "start_time": "2023-05-15T08:28:23.567582",
   "version": "2.4.0"
  }
 },
 "nbformat": 4,
 "nbformat_minor": 5
}
