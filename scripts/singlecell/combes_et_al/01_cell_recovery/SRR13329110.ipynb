{
 "cells": [
  {
   "cell_type": "code",
   "execution_count": null,
   "id": "4c0f2fa8-5232-4f47-a7ec-6c9bbabe50e2",
   "metadata": {
    "execution": {
     "iopub.execute_input": "2023-05-15T07:39:18.326303Z",
     "iopub.status.busy": "2023-05-15T07:39:18.326137Z",
     "iopub.status.idle": "2023-05-15T07:39:18.330424Z",
     "shell.execute_reply": "2023-05-15T07:39:18.330090Z"
    },
    "papermill": {
     "duration": 0.00912,
     "end_time": "2023-05-15T07:39:18.331327",
     "exception": false,
     "start_time": "2023-05-15T07:39:18.322207",
     "status": "completed"
    },
    "tags": [
     "parameters"
    ]
   },
   "outputs": [],
   "source": [
    "sample_name = \"SRR13329143\""
   ]
  },
  {
   "cell_type": "code",
   "execution_count": null,
   "id": "ec1eadb8",
   "metadata": {
    "execution": {
     "iopub.execute_input": "2023-05-15T07:39:18.337174Z",
     "iopub.status.busy": "2023-05-15T07:39:18.336880Z",
     "iopub.status.idle": "2023-05-15T07:39:18.338834Z",
     "shell.execute_reply": "2023-05-15T07:39:18.338542Z"
    },
    "papermill": {
     "duration": 0.005872,
     "end_time": "2023-05-15T07:39:18.339638",
     "exception": false,
     "start_time": "2023-05-15T07:39:18.333766",
     "status": "completed"
    },
    "tags": [
     "injected-parameters"
    ]
   },
   "outputs": [],
   "source": [
    "# Parameters\n",
    "sample_name = \"SRR13329110\"\n"
   ]
  },
  {
   "cell_type": "code",
   "execution_count": null,
   "id": "f87ed95b-2b67-4a5a-8fe2-47359b1dd2a9",
   "metadata": {
    "execution": {
     "iopub.execute_input": "2023-05-15T07:39:18.344937Z",
     "iopub.status.busy": "2023-05-15T07:39:18.344640Z",
     "iopub.status.idle": "2023-05-15T07:39:18.346820Z",
     "shell.execute_reply": "2023-05-15T07:39:18.346524Z"
    },
    "papermill": {
     "duration": 0.005891,
     "end_time": "2023-05-15T07:39:18.347782",
     "exception": false,
     "start_time": "2023-05-15T07:39:18.341891",
     "status": "completed"
    },
    "tags": []
   },
   "outputs": [],
   "source": [
    "import warnings\n",
    "warnings.simplefilter(action='ignore', category=FutureWarning)\n",
    "warnings.simplefilter(action='ignore', category=UserWarning)"
   ]
  },
  {
   "cell_type": "code",
   "execution_count": null,
   "id": "85161f19-b2c5-490b-8cab-c2cf9653b304",
   "metadata": {
    "execution": {
     "iopub.execute_input": "2023-05-15T07:39:18.353653Z",
     "iopub.status.busy": "2023-05-15T07:39:18.353410Z",
     "iopub.status.idle": "2023-05-15T07:39:22.269113Z",
     "shell.execute_reply": "2023-05-15T07:39:22.268645Z"
    },
    "papermill": {
     "duration": 3.920277,
     "end_time": "2023-05-15T07:39:22.270454",
     "exception": false,
     "start_time": "2023-05-15T07:39:18.350177",
     "status": "completed"
    },
    "tags": []
   },
   "outputs": [],
   "source": [
    "import gc\n",
    "import scanpy as sc\n",
    "import muon as mu\n",
    "import seaborn as sns\n",
    "import os\n",
    "import pandas as pd\n",
    "from matplotlib import pyplot as plt\n",
    "\n",
    "os.environ['R_HOME'] = '/gpfs/bwfor/work/ws/hd_fu399-conda/conda/envs/python_R/lib/R/'\n",
    "import anndata2ri\n",
    "import logging\n",
    "\n",
    "import rpy2.rinterface_lib.callbacks as rcb\n",
    "import rpy2.robjects as ro\n",
    "\n",
    "rcb.logger.setLevel(logging.ERROR)\n",
    "ro.pandas2ri.activate()\n",
    "anndata2ri.activate()\n",
    "\n",
    "%load_ext rpy2.ipython"
   ]
  },
  {
   "cell_type": "code",
   "execution_count": null,
   "id": "fc4ade78-b728-4704-9db6-45fbaab62ba1",
   "metadata": {
    "execution": {
     "iopub.execute_input": "2023-05-15T07:39:22.313087Z",
     "iopub.status.busy": "2023-05-15T07:39:22.312804Z",
     "iopub.status.idle": "2023-05-15T07:39:31.788913Z",
     "shell.execute_reply": "2023-05-15T07:39:31.788422Z"
    },
    "papermill": {
     "duration": 9.480683,
     "end_time": "2023-05-15T07:39:31.790343",
     "exception": false,
     "start_time": "2023-05-15T07:39:22.309660",
     "status": "completed"
    },
    "tags": []
   },
   "outputs": [],
   "source": [
    "%%R\n",
    "library(SoupX)\n",
    "library(Seurat)\n",
    "library(scater)\n",
    "library(scDblFinder)\n",
    "library(BiocParallel)\n",
    "library(MuDataSeurat)\n",
    "library(DropletUtils)"
   ]
  },
  {
   "cell_type": "code",
   "execution_count": null,
   "id": "f7424d90-7690-4290-8651-1db3f9df3a35",
   "metadata": {
    "execution": {
     "iopub.execute_input": "2023-05-15T07:39:31.800637Z",
     "iopub.status.busy": "2023-05-15T07:39:31.800436Z",
     "iopub.status.idle": "2023-05-15T07:39:31.806160Z",
     "shell.execute_reply": "2023-05-15T07:39:31.805810Z"
    },
    "papermill": {
     "duration": 0.009943,
     "end_time": "2023-05-15T07:39:31.807024",
     "exception": false,
     "start_time": "2023-05-15T07:39:31.797081",
     "status": "completed"
    },
    "tags": []
   },
   "outputs": [],
   "source": [
    "metadata = pd.read_csv(\"../../combes_metadata.txt\")"
   ]
  },
  {
   "cell_type": "code",
   "execution_count": null,
   "id": "2574ecf1-bad4-4c33-8f3f-718a358727ab",
   "metadata": {
    "execution": {
     "iopub.execute_input": "2023-05-15T07:39:31.812468Z",
     "iopub.status.busy": "2023-05-15T07:39:31.812236Z",
     "iopub.status.idle": "2023-05-15T07:39:31.814264Z",
     "shell.execute_reply": "2023-05-15T07:39:31.813969Z"
    },
    "papermill": {
     "duration": 0.005618,
     "end_time": "2023-05-15T07:39:31.815055",
     "exception": false,
     "start_time": "2023-05-15T07:39:31.809437",
     "status": "completed"
    },
    "tags": []
   },
   "outputs": [],
   "source": [
    "raw_input = f\"/home/hd/hd_hd/hd_fu399/sds-hd/sd21k006/scRNAseq/revision_natcomm/combes_et_al/fetchngs/results/fastq/{sample_name}/{sample_name}/outs/raw_feature_bc_matrix.h5\""
   ]
  },
  {
   "cell_type": "code",
   "execution_count": null,
   "id": "e266d388-1802-435c-93a5-90067358739c",
   "metadata": {
    "execution": {
     "iopub.execute_input": "2023-05-15T07:39:31.820750Z",
     "iopub.status.busy": "2023-05-15T07:39:31.820496Z",
     "iopub.status.idle": "2023-05-15T07:39:32.416359Z",
     "shell.execute_reply": "2023-05-15T07:39:32.415985Z"
    },
    "papermill": {
     "duration": 0.599779,
     "end_time": "2023-05-15T07:39:32.417307",
     "exception": false,
     "start_time": "2023-05-15T07:39:31.817528",
     "status": "completed"
    },
    "tags": []
   },
   "outputs": [],
   "source": [
    "dataset = sc.read_10x_h5(raw_input)\n",
    "dataset.var_names_make_unique()\n",
    "dataset.obs_names_make_unique()\n",
    "\n",
    "dataset.layers[\"raw_counts\"] = dataset.X.copy()\n",
    "data_tod = dataset.layers[\"raw_counts\"].T.copy()\n",
    "\n",
    "dataset"
   ]
  },
  {
   "cell_type": "code",
   "execution_count": null,
   "id": "af9f5892-ed31-42a6-991b-4e096f582cef",
   "metadata": {
    "execution": {
     "iopub.execute_input": "2023-05-15T07:39:32.423707Z",
     "iopub.status.busy": "2023-05-15T07:39:32.423513Z",
     "iopub.status.idle": "2023-05-15T07:39:32.478427Z",
     "shell.execute_reply": "2023-05-15T07:39:32.477919Z"
    },
    "papermill": {
     "duration": 0.059441,
     "end_time": "2023-05-15T07:39:32.479752",
     "exception": false,
     "start_time": "2023-05-15T07:39:32.420311",
     "status": "completed"
    },
    "tags": []
   },
   "outputs": [],
   "source": [
    "sce = dataset.copy()"
   ]
  },
  {
   "cell_type": "code",
   "execution_count": null,
   "id": "d03f2caf-8e74-430e-b045-0ab80401d165",
   "metadata": {
    "execution": {
     "iopub.execute_input": "2023-05-15T07:39:32.485956Z",
     "iopub.status.busy": "2023-05-15T07:39:32.485790Z",
     "iopub.status.idle": "2023-05-15T07:40:40.462029Z",
     "shell.execute_reply": "2023-05-15T07:40:40.461410Z"
    },
    "papermill": {
     "duration": 67.980833,
     "end_time": "2023-05-15T07:40:40.463471",
     "exception": false,
     "start_time": "2023-05-15T07:39:32.482638",
     "status": "completed"
    },
    "tags": []
   },
   "outputs": [],
   "source": [
    "%%R -i sce -o empty_drop_output\n",
    "set.seed(187)\n",
    "empty_drop_output <- emptyDrops(assay(sce))"
   ]
  },
  {
   "cell_type": "code",
   "execution_count": null,
   "id": "2a34a54b-3ae2-44d6-8679-8769228c5b66",
   "metadata": {
    "execution": {
     "iopub.execute_input": "2023-05-15T07:40:40.473900Z",
     "iopub.status.busy": "2023-05-15T07:40:40.473679Z",
     "iopub.status.idle": "2023-05-15T07:40:40.506571Z",
     "shell.execute_reply": "2023-05-15T07:40:40.506184Z"
    },
    "papermill": {
     "duration": 0.037001,
     "end_time": "2023-05-15T07:40:40.507377",
     "exception": false,
     "start_time": "2023-05-15T07:40:40.470376",
     "status": "completed"
    },
    "tags": []
   },
   "outputs": [],
   "source": [
    "non_empty_barcodes = empty_drop_output[empty_drop_output[\"FDR\"] < 0.001].index\n",
    "dataset = dataset[dataset.obs.index.isin(non_empty_barcodes), :]\n",
    "dataset"
   ]
  },
  {
   "cell_type": "code",
   "execution_count": null,
   "id": "016a91e5-1bef-46fb-b91e-4fb9a6870c44",
   "metadata": {
    "execution": {
     "iopub.execute_input": "2023-05-15T07:40:40.513773Z",
     "iopub.status.busy": "2023-05-15T07:40:40.513429Z",
     "iopub.status.idle": "2023-05-15T07:40:47.102462Z",
     "shell.execute_reply": "2023-05-15T07:40:47.101955Z"
    },
    "papermill": {
     "duration": 6.593868,
     "end_time": "2023-05-15T07:40:47.103899",
     "exception": false,
     "start_time": "2023-05-15T07:40:40.510031",
     "status": "completed"
    },
    "tags": []
   },
   "outputs": [],
   "source": [
    "rna_assay = dataset.copy()\n",
    "sc.pp.normalize_per_cell(rna_assay)\n",
    "sc.pp.log1p(rna_assay)\n",
    "sc.pp.pca(rna_assay)\n",
    "sc.pp.neighbors(rna_assay)\n",
    "sc.tl.leiden(rna_assay, key_added=\"soupx_groups\")\n",
    "\n",
    "soupx_groups = rna_assay.obs[\"soupx_groups\"]\n",
    "\n",
    "del rna_assay\n",
    "\n",
    "genes = dataset.var_names\n",
    "cells = dataset.obs_names\n",
    "data = dataset.X.T.copy()"
   ]
  },
  {
   "cell_type": "code",
   "execution_count": null,
   "id": "9db4ea1f-1580-4f43-a3f0-86002397cd98",
   "metadata": {
    "execution": {
     "iopub.execute_input": "2023-05-15T07:40:47.113496Z",
     "iopub.status.busy": "2023-05-15T07:40:47.113323Z",
     "iopub.status.idle": "2023-05-15T07:41:04.343502Z",
     "shell.execute_reply": "2023-05-15T07:41:04.343019Z"
    },
    "papermill": {
     "duration": 17.235163,
     "end_time": "2023-05-15T07:41:04.344904",
     "exception": false,
     "start_time": "2023-05-15T07:40:47.109741",
     "status": "completed"
    },
    "tags": []
   },
   "outputs": [],
   "source": [
    "%%R -i data -i data_tod -i genes -i cells -i soupx_groups -o out \n",
    "set.seed(187)\n",
    "# specify row and column names of data\n",
    "rownames(data) = genes\n",
    "colnames(data) = cells\n",
    "# ensure correct sparse format for table of counts and table of droplets\n",
    "data <- as(data, \"sparseMatrix\")\n",
    "data_tod <- as(data_tod, \"sparseMatrix\")\n",
    "\n",
    "# Generate SoupChannel Object for SoupX \n",
    "sc = SoupChannel(data_tod, data, calcSoupProfile = FALSE)\n",
    "\n",
    "# Add extra meta data to the SoupChannel object\n",
    "soupProf = data.frame(row.names = rownames(data),\n",
    "                      est = rowSums(data)/sum(data),\n",
    "                      counts = rowSums(data))\n",
    "sc = setSoupProfile(sc, soupProf)\n",
    "# Set cluster information in SoupChannel\n",
    "sc = setClusters(sc, soupx_groups)\n",
    "\n",
    "# Estimate contamination fraction\n",
    "sc  = autoEstCont(sc, doPlot=FALSE, forceAccept = TRUE)\n",
    "# Infer corrected table of counts and rount to integer\n",
    "out = adjustCounts(sc, roundToInt = TRUE)"
   ]
  },
  {
   "cell_type": "code",
   "execution_count": null,
   "id": "32555d5e-5fa3-46dd-a4e0-ddc96ea265e2",
   "metadata": {
    "execution": {
     "iopub.execute_input": "2023-05-15T07:41:04.354078Z",
     "iopub.status.busy": "2023-05-15T07:41:04.353901Z",
     "iopub.status.idle": "2023-05-15T07:41:04.389059Z",
     "shell.execute_reply": "2023-05-15T07:41:04.388565Z"
    },
    "papermill": {
     "duration": 0.039816,
     "end_time": "2023-05-15T07:41:04.390343",
     "exception": false,
     "start_time": "2023-05-15T07:41:04.350527",
     "status": "completed"
    },
    "tags": []
   },
   "outputs": [],
   "source": [
    "dataset.layers[\"soupX_counts\"] = out.T\n",
    "dataset.X = dataset.layers[\"soupX_counts\"].copy()"
   ]
  },
  {
   "cell_type": "code",
   "execution_count": null,
   "id": "e27da7df-e094-4d2a-9109-5a363e012175",
   "metadata": {
    "execution": {
     "iopub.execute_input": "2023-05-15T07:41:04.396990Z",
     "iopub.status.busy": "2023-05-15T07:41:04.396802Z",
     "iopub.status.idle": "2023-05-15T07:41:04.399238Z",
     "shell.execute_reply": "2023-05-15T07:41:04.398899Z"
    },
    "papermill": {
     "duration": 0.006672,
     "end_time": "2023-05-15T07:41:04.400050",
     "exception": false,
     "start_time": "2023-05-15T07:41:04.393378",
     "status": "completed"
    },
    "tags": []
   },
   "outputs": [],
   "source": [
    "data_mat = dataset.X.T"
   ]
  },
  {
   "cell_type": "code",
   "execution_count": null,
   "id": "80a993b1-5ccb-4697-9187-1beb7ab8aff9",
   "metadata": {
    "execution": {
     "iopub.execute_input": "2023-05-15T07:41:04.406275Z",
     "iopub.status.busy": "2023-05-15T07:41:04.406085Z",
     "iopub.status.idle": "2023-05-15T07:41:23.637789Z",
     "shell.execute_reply": "2023-05-15T07:41:23.637314Z"
    },
    "papermill": {
     "duration": 19.236425,
     "end_time": "2023-05-15T07:41:23.639167",
     "exception": false,
     "start_time": "2023-05-15T07:41:04.402742",
     "status": "completed"
    },
    "tags": []
   },
   "outputs": [],
   "source": [
    "%%R -i data_mat -o droplet_class\n",
    "\n",
    "set.seed(187)\n",
    "sce = scDblFinder(\n",
    "    SingleCellExperiment(\n",
    "        list(counts=data_mat),\n",
    "    ) \n",
    ")\n",
    "droplet_class = sce$scDblFinder.class"
   ]
  },
  {
   "cell_type": "code",
   "execution_count": null,
   "id": "d4dd6e9d-fcf2-41fc-8457-c8e0a3cb2c71",
   "metadata": {
    "execution": {
     "iopub.execute_input": "2023-05-15T07:41:23.647887Z",
     "iopub.status.busy": "2023-05-15T07:41:23.647693Z",
     "iopub.status.idle": "2023-05-15T07:41:23.652321Z",
     "shell.execute_reply": "2023-05-15T07:41:23.651978Z"
    },
    "papermill": {
     "duration": 0.008946,
     "end_time": "2023-05-15T07:41:23.653148",
     "exception": false,
     "start_time": "2023-05-15T07:41:23.644202",
     "status": "completed"
    },
    "tags": []
   },
   "outputs": [],
   "source": [
    "dataset.obs[\"scDblFinder_class\"] = droplet_class\n",
    "dataset.obs.scDblFinder_class.value_counts()\n",
    "dataset"
   ]
  },
  {
   "cell_type": "code",
   "execution_count": null,
   "id": "28c95014-2d6c-477f-95cb-9f9f0507520c",
   "metadata": {
    "execution": {
     "iopub.execute_input": "2023-05-15T07:41:23.659845Z",
     "iopub.status.busy": "2023-05-15T07:41:23.659641Z",
     "iopub.status.idle": "2023-05-15T07:41:23.662844Z",
     "shell.execute_reply": "2023-05-15T07:41:23.662504Z"
    },
    "papermill": {
     "duration": 0.007531,
     "end_time": "2023-05-15T07:41:23.663642",
     "exception": false,
     "start_time": "2023-05-15T07:41:23.656111",
     "status": "completed"
    },
    "tags": []
   },
   "outputs": [],
   "source": [
    "dataset = dataset[dataset.obs[\"scDblFinder_class\"] == 1]"
   ]
  },
  {
   "cell_type": "code",
   "execution_count": null,
   "id": "3e22f9e0-bfcb-416c-a151-a9bca3bec3b9",
   "metadata": {
    "execution": {
     "iopub.execute_input": "2023-05-15T07:41:23.670607Z",
     "iopub.status.busy": "2023-05-15T07:41:23.670442Z",
     "iopub.status.idle": "2023-05-15T07:41:23.872068Z",
     "shell.execute_reply": "2023-05-15T07:41:23.871547Z"
    },
    "papermill": {
     "duration": 0.206481,
     "end_time": "2023-05-15T07:41:23.873046",
     "exception": false,
     "start_time": "2023-05-15T07:41:23.666565",
     "status": "completed"
    },
    "tags": []
   },
   "outputs": [],
   "source": [
    "# mitochondrial genes\n",
    "dataset.var[\"mt\"] = dataset.var_names.str.startswith(\"MT-\")\n",
    "# ribosomal genes\n",
    "dataset.var[\"ribo\"] = dataset.var_names.str.startswith((\"RPS\", \"RPL\"))\n",
    "# hemoglobin genes.\n",
    "dataset.var[\"hb\"] = dataset.var_names.str.contains((\"^HB[^(P)]\"))\n",
    "\n",
    "sc.pp.calculate_qc_metrics(dataset,\n",
    "                           qc_vars=['mt', 'ribo', 'hb'],\n",
    "                           percent_top=None,\n",
    "                           log1p=False,\n",
    "                           inplace=True)\n",
    "dataset"
   ]
  },
  {
   "cell_type": "code",
   "execution_count": null,
   "id": "34deee79-4043-428f-8575-aa57b45f6369",
   "metadata": {
    "execution": {
     "iopub.execute_input": "2023-05-15T07:41:23.880380Z",
     "iopub.status.busy": "2023-05-15T07:41:23.880187Z",
     "iopub.status.idle": "2023-05-15T07:41:24.355076Z",
     "shell.execute_reply": "2023-05-15T07:41:24.354702Z"
    },
    "papermill": {
     "duration": 0.479688,
     "end_time": "2023-05-15T07:41:24.356176",
     "exception": false,
     "start_time": "2023-05-15T07:41:23.876488",
     "status": "completed"
    },
    "tags": []
   },
   "outputs": [],
   "source": [
    "fig, ax = plt.subplots(ncols = 4, figsize = (16,4))\n",
    "axis = sc.pl.violin(dataset, \"n_genes_by_counts\", jitter = 0.4, ax = ax[0], show = False)\n",
    "axis.grid(False)\n",
    "axis.set_title(\"Unique Genes per cell\")\n",
    "axis.tick_params(axis = \"x\", bottom =False, labelbottom =False)\n",
    "axis.set_ylabel(\"# genes\")\n",
    "axis.axhline(y = 100, color = \"black\", label = \"cutoff\")\n",
    "axis.legend(fontsize = 14, loc = \"upper right\")\n",
    "\n",
    "axis = sc.pl.violin(dataset, \"pct_counts_mt\", jitter = 0.4, ax = ax[1], show = False)\n",
    "axis.grid(False)\n",
    "axis.set_title(\"Mitochondrial Fraction\")\n",
    "axis.tick_params(axis = \"x\", bottom =False, labelbottom =False)\n",
    "axis.set_ylabel(\"% mitochondrial genes\")\n",
    "axis.axhline(y = 10, color = \"black\", label = \"cutoff\")\n",
    "axis.legend(fontsize = 14, loc = \"upper right\")\n",
    "\n",
    "axis = sc.pl.violin(dataset, \"pct_counts_hb\", jitter = 0.4, ax = ax[2], show = False, size =2)\n",
    "axis.grid(False)\n",
    "axis.set_title(\"Hemoglobin Fraction\")\n",
    "axis.tick_params(axis = \"x\", bottom =False, labelbottom =False)\n",
    "axis.set_ylabel(\"% hemoglobin genes\")\n",
    "axis.axhline(y = 3, color = \"black\", label = \"cutoff\")\n",
    "axis.legend(fontsize = 14, loc = \"upper right\")\n",
    "#axis.set_ylim(0,5)\n",
    "\n",
    "axis = sc.pl.violin(dataset, \"pct_counts_ribo\", jitter = 0.4, ax = ax[3], show = False)\n",
    "axis.grid(False)\n",
    "axis.set_title(\"Ribosomal Fraction\")\n",
    "axis.tick_params(axis = \"x\", bottom =False, labelbottom =False)\n",
    "axis.set_ylabel(\"% ribosome genes\")\n",
    "\n",
    "plt.tight_layout()\n",
    "#plt.savefig(f\"{outputDir}08_gene_based_filtering.pdf\", dpi = 300)\n",
    "plt.show()\n",
    "\n"
   ]
  },
  {
   "cell_type": "code",
   "execution_count": null,
   "id": "d7ade754-843e-4840-8707-426613d8c0c5",
   "metadata": {
    "execution": {
     "iopub.execute_input": "2023-05-15T07:41:24.367389Z",
     "iopub.status.busy": "2023-05-15T07:41:24.367231Z",
     "iopub.status.idle": "2023-05-15T07:41:24.376173Z",
     "shell.execute_reply": "2023-05-15T07:41:24.375851Z"
    },
    "papermill": {
     "duration": 0.014493,
     "end_time": "2023-05-15T07:41:24.376985",
     "exception": false,
     "start_time": "2023-05-15T07:41:24.362492",
     "status": "completed"
    },
    "tags": []
   },
   "outputs": [],
   "source": [
    "dataset = dataset[dataset.obs.pct_counts_mt < 10, :]\n",
    "dataset = dataset[dataset.obs.n_genes_by_counts > 100, :]\n",
    "dataset = dataset[dataset.obs.pct_counts_hb < 3, :]\n",
    "dataset"
   ]
  },
  {
   "cell_type": "code",
   "execution_count": null,
   "id": "1941fa36-e865-4500-b586-f7a32d142c9b",
   "metadata": {
    "execution": {
     "iopub.execute_input": "2023-05-15T07:41:24.386080Z",
     "iopub.status.busy": "2023-05-15T07:41:24.385887Z",
     "iopub.status.idle": "2023-05-15T07:41:24.388825Z",
     "shell.execute_reply": "2023-05-15T07:41:24.388514Z"
    },
    "papermill": {
     "duration": 0.008326,
     "end_time": "2023-05-15T07:41:24.389617",
     "exception": false,
     "start_time": "2023-05-15T07:41:24.381291",
     "status": "completed"
    },
    "tags": []
   },
   "outputs": [],
   "source": [
    "metadata.columns"
   ]
  },
  {
   "cell_type": "code",
   "execution_count": null,
   "id": "2e0ff8c3-2aa9-4a01-9b88-5912a6734447",
   "metadata": {
    "execution": {
     "iopub.execute_input": "2023-05-15T07:41:24.398804Z",
     "iopub.status.busy": "2023-05-15T07:41:24.398618Z",
     "iopub.status.idle": "2023-05-15T07:41:24.452880Z",
     "shell.execute_reply": "2023-05-15T07:41:24.452391Z"
    },
    "papermill": {
     "duration": 0.060192,
     "end_time": "2023-05-15T07:41:24.454054",
     "exception": false,
     "start_time": "2023-05-15T07:41:24.393862",
     "status": "completed"
    },
    "tags": []
   },
   "outputs": [],
   "source": [
    "for col in metadata.columns:\n",
    "    dataset.obs[col] = metadata.loc[metadata[\"Run\"] == sample_name, col].to_list()[0]"
   ]
  },
  {
   "cell_type": "code",
   "execution_count": null,
   "id": "b84578d3-d63e-419c-a272-a0b8317d05ab",
   "metadata": {
    "execution": {
     "iopub.execute_input": "2023-05-15T07:41:24.463953Z",
     "iopub.status.busy": "2023-05-15T07:41:24.463758Z",
     "iopub.status.idle": "2023-05-15T07:41:24.850175Z",
     "shell.execute_reply": "2023-05-15T07:41:24.849727Z"
    },
    "papermill": {
     "duration": 0.392717,
     "end_time": "2023-05-15T07:41:24.851509",
     "exception": false,
     "start_time": "2023-05-15T07:41:24.458792",
     "status": "completed"
    },
    "tags": []
   },
   "outputs": [],
   "source": [
    "dataset.write(f\"../../int_data/{sample_name}_qc.h5ad\")"
   ]
  },
  {
   "cell_type": "code",
   "execution_count": null,
   "id": "501b33a0-432d-415f-ae82-50723484b85d",
   "metadata": {
    "execution": {
     "iopub.execute_input": "2023-05-15T07:41:24.861570Z",
     "iopub.status.busy": "2023-05-15T07:41:24.861403Z",
     "iopub.status.idle": "2023-05-15T07:41:24.864355Z",
     "shell.execute_reply": "2023-05-15T07:41:24.864026Z"
    },
    "papermill": {
     "duration": 0.008809,
     "end_time": "2023-05-15T07:41:24.865242",
     "exception": false,
     "start_time": "2023-05-15T07:41:24.856433",
     "status": "completed"
    },
    "tags": []
   },
   "outputs": [],
   "source": [
    "dataset"
   ]
  }
 ],
 "metadata": {
  "kernelspec": {
   "display_name": "py_R",
   "language": "python",
   "name": "python_r"
  },
  "language_info": {
   "codemirror_mode": {
    "name": "ipython",
    "version": 3
   },
   "file_extension": ".py",
   "mimetype": "text/x-python",
   "name": "python",
   "nbconvert_exporter": "python",
   "pygments_lexer": "ipython3",
   "version": "3.10.9"
  },
  "papermill": {
   "default_parameters": {},
   "duration": 128.562628,
   "end_time": "2023-05-15T07:41:26.188636",
   "environment_variables": {},
   "exception": null,
   "input_path": "template.ipynb",
   "output_path": "SRR13329110.ipynb",
   "parameters": {
    "sample_name": "SRR13329110"
   },
   "start_time": "2023-05-15T07:39:17.626008",
   "version": "2.4.0"
  }
 },
 "nbformat": 4,
 "nbformat_minor": 5
}
