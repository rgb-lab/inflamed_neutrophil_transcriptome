{
 "cells": [
  {
   "cell_type": "code",
   "execution_count": null,
   "id": "4c0f2fa8-5232-4f47-a7ec-6c9bbabe50e2",
   "metadata": {
    "execution": {
     "iopub.execute_input": "2023-05-15T07:53:40.568833Z",
     "iopub.status.busy": "2023-05-15T07:53:40.568671Z",
     "iopub.status.idle": "2023-05-15T07:53:40.573058Z",
     "shell.execute_reply": "2023-05-15T07:53:40.572749Z"
    },
    "papermill": {
     "duration": 0.008724,
     "end_time": "2023-05-15T07:53:40.573836",
     "exception": false,
     "start_time": "2023-05-15T07:53:40.565112",
     "status": "completed"
    },
    "tags": [
     "parameters"
    ]
   },
   "outputs": [],
   "source": [
    "sample_name = \"SRR13329143\""
   ]
  },
  {
   "cell_type": "code",
   "execution_count": null,
   "id": "249deda4",
   "metadata": {
    "execution": {
     "iopub.execute_input": "2023-05-15T07:53:40.579106Z",
     "iopub.status.busy": "2023-05-15T07:53:40.578894Z",
     "iopub.status.idle": "2023-05-15T07:53:40.580736Z",
     "shell.execute_reply": "2023-05-15T07:53:40.580431Z"
    },
    "papermill": {
     "duration": 0.00526,
     "end_time": "2023-05-15T07:53:40.581519",
     "exception": false,
     "start_time": "2023-05-15T07:53:40.576259",
     "status": "completed"
    },
    "tags": [
     "injected-parameters"
    ]
   },
   "outputs": [],
   "source": [
    "# Parameters\n",
    "sample_name = \"SRR13329158\"\n"
   ]
  },
  {
   "cell_type": "code",
   "execution_count": null,
   "id": "f87ed95b-2b67-4a5a-8fe2-47359b1dd2a9",
   "metadata": {
    "execution": {
     "iopub.execute_input": "2023-05-15T07:53:40.586833Z",
     "iopub.status.busy": "2023-05-15T07:53:40.586544Z",
     "iopub.status.idle": "2023-05-15T07:53:40.588781Z",
     "shell.execute_reply": "2023-05-15T07:53:40.588480Z"
    },
    "papermill": {
     "duration": 0.005723,
     "end_time": "2023-05-15T07:53:40.589543",
     "exception": false,
     "start_time": "2023-05-15T07:53:40.583820",
     "status": "completed"
    },
    "tags": []
   },
   "outputs": [],
   "source": [
    "import warnings\n",
    "warnings.simplefilter(action='ignore', category=FutureWarning)\n",
    "warnings.simplefilter(action='ignore', category=UserWarning)"
   ]
  },
  {
   "cell_type": "code",
   "execution_count": null,
   "id": "85161f19-b2c5-490b-8cab-c2cf9653b304",
   "metadata": {
    "execution": {
     "iopub.execute_input": "2023-05-15T07:53:40.594797Z",
     "iopub.status.busy": "2023-05-15T07:53:40.594633Z",
     "iopub.status.idle": "2023-05-15T07:53:44.682908Z",
     "shell.execute_reply": "2023-05-15T07:53:44.682479Z"
    },
    "papermill": {
     "duration": 4.092279,
     "end_time": "2023-05-15T07:53:44.684208",
     "exception": false,
     "start_time": "2023-05-15T07:53:40.591929",
     "status": "completed"
    },
    "tags": []
   },
   "outputs": [],
   "source": [
    "import gc\n",
    "import scanpy as sc\n",
    "import muon as mu\n",
    "import seaborn as sns\n",
    "import os\n",
    "import pandas as pd\n",
    "from matplotlib import pyplot as plt\n",
    "\n",
    "os.environ['R_HOME'] = '/gpfs/bwfor/work/ws/hd_fu399-conda/conda/envs/python_R/lib/R/'\n",
    "import anndata2ri\n",
    "import logging\n",
    "\n",
    "import rpy2.rinterface_lib.callbacks as rcb\n",
    "import rpy2.robjects as ro\n",
    "\n",
    "rcb.logger.setLevel(logging.ERROR)\n",
    "ro.pandas2ri.activate()\n",
    "anndata2ri.activate()\n",
    "\n",
    "%load_ext rpy2.ipython"
   ]
  },
  {
   "cell_type": "code",
   "execution_count": null,
   "id": "fc4ade78-b728-4704-9db6-45fbaab62ba1",
   "metadata": {
    "execution": {
     "iopub.execute_input": "2023-05-15T07:53:44.690404Z",
     "iopub.status.busy": "2023-05-15T07:53:44.690078Z",
     "iopub.status.idle": "2023-05-15T07:54:03.033924Z",
     "shell.execute_reply": "2023-05-15T07:54:03.033355Z"
    },
    "papermill": {
     "duration": 18.34803,
     "end_time": "2023-05-15T07:54:03.035142",
     "exception": false,
     "start_time": "2023-05-15T07:53:44.687112",
     "status": "completed"
    },
    "tags": []
   },
   "outputs": [],
   "source": [
    "%%R\n",
    "library(SoupX)\n",
    "library(Seurat)\n",
    "library(scater)\n",
    "library(scDblFinder)\n",
    "library(BiocParallel)\n",
    "library(MuDataSeurat)\n",
    "library(DropletUtils)"
   ]
  },
  {
   "cell_type": "code",
   "execution_count": null,
   "id": "f7424d90-7690-4290-8651-1db3f9df3a35",
   "metadata": {
    "execution": {
     "iopub.execute_input": "2023-05-15T07:54:03.044035Z",
     "iopub.status.busy": "2023-05-15T07:54:03.043748Z",
     "iopub.status.idle": "2023-05-15T07:54:03.049356Z",
     "shell.execute_reply": "2023-05-15T07:54:03.049035Z"
    },
    "papermill": {
     "duration": 0.009688,
     "end_time": "2023-05-15T07:54:03.050301",
     "exception": false,
     "start_time": "2023-05-15T07:54:03.040613",
     "status": "completed"
    },
    "tags": []
   },
   "outputs": [],
   "source": [
    "metadata = pd.read_csv(\"../../combes_metadata.txt\")"
   ]
  },
  {
   "cell_type": "code",
   "execution_count": null,
   "id": "2574ecf1-bad4-4c33-8f3f-718a358727ab",
   "metadata": {
    "execution": {
     "iopub.execute_input": "2023-05-15T07:54:03.056131Z",
     "iopub.status.busy": "2023-05-15T07:54:03.055907Z",
     "iopub.status.idle": "2023-05-15T07:54:03.060036Z",
     "shell.execute_reply": "2023-05-15T07:54:03.059704Z"
    },
    "papermill": {
     "duration": 0.008013,
     "end_time": "2023-05-15T07:54:03.060949",
     "exception": false,
     "start_time": "2023-05-15T07:54:03.052936",
     "status": "completed"
    },
    "tags": []
   },
   "outputs": [],
   "source": [
    "raw_input = f\"/home/hd/hd_hd/hd_fu399/sds-hd/sd21k006/scRNAseq/revision_natcomm/combes_et_al/fetchngs/results/fastq/{sample_name}/{sample_name}/outs/raw_feature_bc_matrix.h5\""
   ]
  },
  {
   "cell_type": "code",
   "execution_count": null,
   "id": "e266d388-1802-435c-93a5-90067358739c",
   "metadata": {
    "execution": {
     "iopub.execute_input": "2023-05-15T07:54:03.066558Z",
     "iopub.status.busy": "2023-05-15T07:54:03.066309Z",
     "iopub.status.idle": "2023-05-15T07:54:03.424970Z",
     "shell.execute_reply": "2023-05-15T07:54:03.424532Z"
    },
    "papermill": {
     "duration": 0.36252,
     "end_time": "2023-05-15T07:54:03.425890",
     "exception": false,
     "start_time": "2023-05-15T07:54:03.063370",
     "status": "completed"
    },
    "tags": []
   },
   "outputs": [],
   "source": [
    "dataset = sc.read_10x_h5(raw_input)\n",
    "dataset.var_names_make_unique()\n",
    "dataset.obs_names_make_unique()\n",
    "\n",
    "dataset.layers[\"raw_counts\"] = dataset.X.copy()\n",
    "data_tod = dataset.layers[\"raw_counts\"].T.copy()\n",
    "\n",
    "dataset"
   ]
  },
  {
   "cell_type": "code",
   "execution_count": null,
   "id": "af9f5892-ed31-42a6-991b-4e096f582cef",
   "metadata": {
    "execution": {
     "iopub.execute_input": "2023-05-15T07:54:03.432341Z",
     "iopub.status.busy": "2023-05-15T07:54:03.432135Z",
     "iopub.status.idle": "2023-05-15T07:54:03.460333Z",
     "shell.execute_reply": "2023-05-15T07:54:03.459866Z"
    },
    "papermill": {
     "duration": 0.03256,
     "end_time": "2023-05-15T07:54:03.461485",
     "exception": false,
     "start_time": "2023-05-15T07:54:03.428925",
     "status": "completed"
    },
    "tags": []
   },
   "outputs": [],
   "source": [
    "sce = dataset.copy()"
   ]
  },
  {
   "cell_type": "code",
   "execution_count": null,
   "id": "d03f2caf-8e74-430e-b045-0ab80401d165",
   "metadata": {
    "execution": {
     "iopub.execute_input": "2023-05-15T07:54:03.467865Z",
     "iopub.status.busy": "2023-05-15T07:54:03.467643Z",
     "iopub.status.idle": "2023-05-15T07:54:45.772878Z",
     "shell.execute_reply": "2023-05-15T07:54:45.772308Z"
    },
    "papermill": {
     "duration": 42.309772,
     "end_time": "2023-05-15T07:54:45.774199",
     "exception": false,
     "start_time": "2023-05-15T07:54:03.464427",
     "status": "completed"
    },
    "tags": []
   },
   "outputs": [],
   "source": [
    "%%R -i sce -o empty_drop_output\n",
    "set.seed(187)\n",
    "empty_drop_output <- emptyDrops(assay(sce))"
   ]
  },
  {
   "cell_type": "code",
   "execution_count": null,
   "id": "2a34a54b-3ae2-44d6-8679-8769228c5b66",
   "metadata": {
    "execution": {
     "iopub.execute_input": "2023-05-15T07:54:45.796874Z",
     "iopub.status.busy": "2023-05-15T07:54:45.796727Z",
     "iopub.status.idle": "2023-05-15T07:54:45.828232Z",
     "shell.execute_reply": "2023-05-15T07:54:45.827908Z"
    },
    "papermill": {
     "duration": 0.036128,
     "end_time": "2023-05-15T07:54:45.829032",
     "exception": false,
     "start_time": "2023-05-15T07:54:45.792904",
     "status": "completed"
    },
    "tags": []
   },
   "outputs": [],
   "source": [
    "non_empty_barcodes = empty_drop_output[empty_drop_output[\"FDR\"] < 0.001].index\n",
    "dataset = dataset[dataset.obs.index.isin(non_empty_barcodes), :]\n",
    "dataset"
   ]
  },
  {
   "cell_type": "code",
   "execution_count": null,
   "id": "016a91e5-1bef-46fb-b91e-4fb9a6870c44",
   "metadata": {
    "execution": {
     "iopub.execute_input": "2023-05-15T07:54:45.835287Z",
     "iopub.status.busy": "2023-05-15T07:54:45.835128Z",
     "iopub.status.idle": "2023-05-15T07:54:48.095255Z",
     "shell.execute_reply": "2023-05-15T07:54:48.094789Z"
    },
    "papermill": {
     "duration": 2.264893,
     "end_time": "2023-05-15T07:54:48.096626",
     "exception": false,
     "start_time": "2023-05-15T07:54:45.831733",
     "status": "completed"
    },
    "tags": []
   },
   "outputs": [],
   "source": [
    "rna_assay = dataset.copy()\n",
    "sc.pp.normalize_per_cell(rna_assay)\n",
    "sc.pp.log1p(rna_assay)\n",
    "sc.pp.pca(rna_assay)\n",
    "sc.pp.neighbors(rna_assay)\n",
    "sc.tl.leiden(rna_assay, key_added=\"soupx_groups\")\n",
    "\n",
    "soupx_groups = rna_assay.obs[\"soupx_groups\"]\n",
    "\n",
    "del rna_assay\n",
    "\n",
    "genes = dataset.var_names\n",
    "cells = dataset.obs_names\n",
    "data = dataset.X.T.copy()"
   ]
  },
  {
   "cell_type": "code",
   "execution_count": null,
   "id": "9db4ea1f-1580-4f43-a3f0-86002397cd98",
   "metadata": {
    "execution": {
     "iopub.execute_input": "2023-05-15T07:54:48.103605Z",
     "iopub.status.busy": "2023-05-15T07:54:48.103458Z",
     "iopub.status.idle": "2023-05-15T07:54:54.224595Z",
     "shell.execute_reply": "2023-05-15T07:54:54.224123Z"
    },
    "papermill": {
     "duration": 6.1259,
     "end_time": "2023-05-15T07:54:54.225911",
     "exception": false,
     "start_time": "2023-05-15T07:54:48.100011",
     "status": "completed"
    },
    "tags": []
   },
   "outputs": [],
   "source": [
    "%%R -i data -i data_tod -i genes -i cells -i soupx_groups -o out \n",
    "set.seed(187)\n",
    "# specify row and column names of data\n",
    "rownames(data) = genes\n",
    "colnames(data) = cells\n",
    "# ensure correct sparse format for table of counts and table of droplets\n",
    "data <- as(data, \"sparseMatrix\")\n",
    "data_tod <- as(data_tod, \"sparseMatrix\")\n",
    "\n",
    "# Generate SoupChannel Object for SoupX \n",
    "sc = SoupChannel(data_tod, data, calcSoupProfile = FALSE)\n",
    "\n",
    "# Add extra meta data to the SoupChannel object\n",
    "soupProf = data.frame(row.names = rownames(data),\n",
    "                      est = rowSums(data)/sum(data),\n",
    "                      counts = rowSums(data))\n",
    "sc = setSoupProfile(sc, soupProf)\n",
    "# Set cluster information in SoupChannel\n",
    "sc = setClusters(sc, soupx_groups)\n",
    "\n",
    "# Estimate contamination fraction\n",
    "sc  = autoEstCont(sc, doPlot=FALSE, forceAccept = TRUE)\n",
    "# Infer corrected table of counts and rount to integer\n",
    "out = adjustCounts(sc, roundToInt = TRUE)"
   ]
  },
  {
   "cell_type": "code",
   "execution_count": null,
   "id": "32555d5e-5fa3-46dd-a4e0-ddc96ea265e2",
   "metadata": {
    "execution": {
     "iopub.execute_input": "2023-05-15T07:54:54.234804Z",
     "iopub.status.busy": "2023-05-15T07:54:54.234617Z",
     "iopub.status.idle": "2023-05-15T07:54:54.245029Z",
     "shell.execute_reply": "2023-05-15T07:54:54.244614Z"
    },
    "papermill": {
     "duration": 0.015432,
     "end_time": "2023-05-15T07:54:54.246312",
     "exception": false,
     "start_time": "2023-05-15T07:54:54.230880",
     "status": "completed"
    },
    "tags": []
   },
   "outputs": [],
   "source": [
    "dataset.layers[\"soupX_counts\"] = out.T\n",
    "dataset.X = dataset.layers[\"soupX_counts\"].copy()"
   ]
  },
  {
   "cell_type": "code",
   "execution_count": null,
   "id": "e27da7df-e094-4d2a-9109-5a363e012175",
   "metadata": {
    "execution": {
     "iopub.execute_input": "2023-05-15T07:54:54.253095Z",
     "iopub.status.busy": "2023-05-15T07:54:54.252912Z",
     "iopub.status.idle": "2023-05-15T07:54:54.255287Z",
     "shell.execute_reply": "2023-05-15T07:54:54.254959Z"
    },
    "papermill": {
     "duration": 0.006649,
     "end_time": "2023-05-15T07:54:54.256090",
     "exception": false,
     "start_time": "2023-05-15T07:54:54.249441",
     "status": "completed"
    },
    "tags": []
   },
   "outputs": [],
   "source": [
    "data_mat = dataset.X.T"
   ]
  },
  {
   "cell_type": "code",
   "execution_count": null,
   "id": "80a993b1-5ccb-4697-9187-1beb7ab8aff9",
   "metadata": {
    "execution": {
     "iopub.execute_input": "2023-05-15T07:54:54.262877Z",
     "iopub.status.busy": "2023-05-15T07:54:54.262713Z",
     "iopub.status.idle": "2023-05-15T07:55:06.700579Z",
     "shell.execute_reply": "2023-05-15T07:55:06.700085Z"
    },
    "papermill": {
     "duration": 12.443002,
     "end_time": "2023-05-15T07:55:06.701916",
     "exception": false,
     "start_time": "2023-05-15T07:54:54.258914",
     "status": "completed"
    },
    "tags": []
   },
   "outputs": [],
   "source": [
    "%%R -i data_mat -o droplet_class\n",
    "\n",
    "set.seed(187)\n",
    "sce = scDblFinder(\n",
    "    SingleCellExperiment(\n",
    "        list(counts=data_mat),\n",
    "    ) \n",
    ")\n",
    "droplet_class = sce$scDblFinder.class"
   ]
  },
  {
   "cell_type": "code",
   "execution_count": null,
   "id": "d4dd6e9d-fcf2-41fc-8457-c8e0a3cb2c71",
   "metadata": {
    "execution": {
     "iopub.execute_input": "2023-05-15T07:55:06.712145Z",
     "iopub.status.busy": "2023-05-15T07:55:06.711980Z",
     "iopub.status.idle": "2023-05-15T07:55:06.716529Z",
     "shell.execute_reply": "2023-05-15T07:55:06.716217Z"
    },
    "papermill": {
     "duration": 0.009289,
     "end_time": "2023-05-15T07:55:06.717353",
     "exception": false,
     "start_time": "2023-05-15T07:55:06.708064",
     "status": "completed"
    },
    "tags": []
   },
   "outputs": [],
   "source": [
    "dataset.obs[\"scDblFinder_class\"] = droplet_class\n",
    "dataset.obs.scDblFinder_class.value_counts()\n",
    "dataset"
   ]
  },
  {
   "cell_type": "code",
   "execution_count": null,
   "id": "28c95014-2d6c-477f-95cb-9f9f0507520c",
   "metadata": {
    "execution": {
     "iopub.execute_input": "2023-05-15T07:55:06.723887Z",
     "iopub.status.busy": "2023-05-15T07:55:06.723695Z",
     "iopub.status.idle": "2023-05-15T07:55:06.727291Z",
     "shell.execute_reply": "2023-05-15T07:55:06.726977Z"
    },
    "papermill": {
     "duration": 0.007803,
     "end_time": "2023-05-15T07:55:06.728062",
     "exception": false,
     "start_time": "2023-05-15T07:55:06.720259",
     "status": "completed"
    },
    "tags": []
   },
   "outputs": [],
   "source": [
    "dataset = dataset[dataset.obs[\"scDblFinder_class\"] == 1]"
   ]
  },
  {
   "cell_type": "code",
   "execution_count": null,
   "id": "3e22f9e0-bfcb-416c-a151-a9bca3bec3b9",
   "metadata": {
    "execution": {
     "iopub.execute_input": "2023-05-15T07:55:06.735236Z",
     "iopub.status.busy": "2023-05-15T07:55:06.735023Z",
     "iopub.status.idle": "2023-05-15T07:55:06.797966Z",
     "shell.execute_reply": "2023-05-15T07:55:06.797533Z"
    },
    "papermill": {
     "duration": 0.0678,
     "end_time": "2023-05-15T07:55:06.798826",
     "exception": false,
     "start_time": "2023-05-15T07:55:06.731026",
     "status": "completed"
    },
    "tags": []
   },
   "outputs": [],
   "source": [
    "# mitochondrial genes\n",
    "dataset.var[\"mt\"] = dataset.var_names.str.startswith(\"MT-\")\n",
    "# ribosomal genes\n",
    "dataset.var[\"ribo\"] = dataset.var_names.str.startswith((\"RPS\", \"RPL\"))\n",
    "# hemoglobin genes.\n",
    "dataset.var[\"hb\"] = dataset.var_names.str.contains((\"^HB[^(P)]\"))\n",
    "\n",
    "sc.pp.calculate_qc_metrics(dataset,\n",
    "                           qc_vars=['mt', 'ribo', 'hb'],\n",
    "                           percent_top=None,\n",
    "                           log1p=False,\n",
    "                           inplace=True)\n",
    "dataset"
   ]
  },
  {
   "cell_type": "code",
   "execution_count": null,
   "id": "34deee79-4043-428f-8575-aa57b45f6369",
   "metadata": {
    "execution": {
     "iopub.execute_input": "2023-05-15T07:55:06.805919Z",
     "iopub.status.busy": "2023-05-15T07:55:06.805752Z",
     "iopub.status.idle": "2023-05-15T07:55:07.229048Z",
     "shell.execute_reply": "2023-05-15T07:55:07.228643Z"
    },
    "papermill": {
     "duration": 0.427888,
     "end_time": "2023-05-15T07:55:07.230088",
     "exception": false,
     "start_time": "2023-05-15T07:55:06.802200",
     "status": "completed"
    },
    "tags": []
   },
   "outputs": [],
   "source": [
    "fig, ax = plt.subplots(ncols = 4, figsize = (16,4))\n",
    "axis = sc.pl.violin(dataset, \"n_genes_by_counts\", jitter = 0.4, ax = ax[0], show = False)\n",
    "axis.grid(False)\n",
    "axis.set_title(\"Unique Genes per cell\")\n",
    "axis.tick_params(axis = \"x\", bottom =False, labelbottom =False)\n",
    "axis.set_ylabel(\"# genes\")\n",
    "axis.axhline(y = 100, color = \"black\", label = \"cutoff\")\n",
    "axis.legend(fontsize = 14, loc = \"upper right\")\n",
    "\n",
    "axis = sc.pl.violin(dataset, \"pct_counts_mt\", jitter = 0.4, ax = ax[1], show = False)\n",
    "axis.grid(False)\n",
    "axis.set_title(\"Mitochondrial Fraction\")\n",
    "axis.tick_params(axis = \"x\", bottom =False, labelbottom =False)\n",
    "axis.set_ylabel(\"% mitochondrial genes\")\n",
    "axis.axhline(y = 10, color = \"black\", label = \"cutoff\")\n",
    "axis.legend(fontsize = 14, loc = \"upper right\")\n",
    "\n",
    "axis = sc.pl.violin(dataset, \"pct_counts_hb\", jitter = 0.4, ax = ax[2], show = False, size =2)\n",
    "axis.grid(False)\n",
    "axis.set_title(\"Hemoglobin Fraction\")\n",
    "axis.tick_params(axis = \"x\", bottom =False, labelbottom =False)\n",
    "axis.set_ylabel(\"% hemoglobin genes\")\n",
    "axis.axhline(y = 3, color = \"black\", label = \"cutoff\")\n",
    "axis.legend(fontsize = 14, loc = \"upper right\")\n",
    "#axis.set_ylim(0,5)\n",
    "\n",
    "axis = sc.pl.violin(dataset, \"pct_counts_ribo\", jitter = 0.4, ax = ax[3], show = False)\n",
    "axis.grid(False)\n",
    "axis.set_title(\"Ribosomal Fraction\")\n",
    "axis.tick_params(axis = \"x\", bottom =False, labelbottom =False)\n",
    "axis.set_ylabel(\"% ribosome genes\")\n",
    "\n",
    "plt.tight_layout()\n",
    "#plt.savefig(f\"{outputDir}08_gene_based_filtering.pdf\", dpi = 300)\n",
    "plt.show()\n",
    "\n"
   ]
  },
  {
   "cell_type": "code",
   "execution_count": null,
   "id": "d7ade754-843e-4840-8707-426613d8c0c5",
   "metadata": {
    "execution": {
     "iopub.execute_input": "2023-05-15T07:55:07.239248Z",
     "iopub.status.busy": "2023-05-15T07:55:07.239053Z",
     "iopub.status.idle": "2023-05-15T07:55:07.247345Z",
     "shell.execute_reply": "2023-05-15T07:55:07.247029Z"
    },
    "papermill": {
     "duration": 0.013662,
     "end_time": "2023-05-15T07:55:07.248119",
     "exception": false,
     "start_time": "2023-05-15T07:55:07.234457",
     "status": "completed"
    },
    "tags": []
   },
   "outputs": [],
   "source": [
    "dataset = dataset[dataset.obs.pct_counts_mt < 10, :]\n",
    "dataset = dataset[dataset.obs.n_genes_by_counts > 100, :]\n",
    "dataset = dataset[dataset.obs.pct_counts_hb < 3, :]\n",
    "dataset"
   ]
  },
  {
   "cell_type": "code",
   "execution_count": null,
   "id": "1941fa36-e865-4500-b586-f7a32d142c9b",
   "metadata": {
    "execution": {
     "iopub.execute_input": "2023-05-15T07:55:07.257475Z",
     "iopub.status.busy": "2023-05-15T07:55:07.257214Z",
     "iopub.status.idle": "2023-05-15T07:55:07.260247Z",
     "shell.execute_reply": "2023-05-15T07:55:07.259950Z"
    },
    "papermill": {
     "duration": 0.008697,
     "end_time": "2023-05-15T07:55:07.261075",
     "exception": false,
     "start_time": "2023-05-15T07:55:07.252378",
     "status": "completed"
    },
    "tags": []
   },
   "outputs": [],
   "source": [
    "metadata.columns"
   ]
  },
  {
   "cell_type": "code",
   "execution_count": null,
   "id": "2e0ff8c3-2aa9-4a01-9b88-5912a6734447",
   "metadata": {
    "execution": {
     "iopub.execute_input": "2023-05-15T07:55:07.270219Z",
     "iopub.status.busy": "2023-05-15T07:55:07.269897Z",
     "iopub.status.idle": "2023-05-15T07:55:07.290556Z",
     "shell.execute_reply": "2023-05-15T07:55:07.290130Z"
    },
    "papermill": {
     "duration": 0.026524,
     "end_time": "2023-05-15T07:55:07.291774",
     "exception": false,
     "start_time": "2023-05-15T07:55:07.265250",
     "status": "completed"
    },
    "tags": []
   },
   "outputs": [],
   "source": [
    "for col in metadata.columns:\n",
    "    dataset.obs[col] = metadata.loc[metadata[\"Run\"] == sample_name, col].to_list()[0]"
   ]
  },
  {
   "cell_type": "code",
   "execution_count": null,
   "id": "b84578d3-d63e-419c-a272-a0b8317d05ab",
   "metadata": {
    "execution": {
     "iopub.execute_input": "2023-05-15T07:55:07.301503Z",
     "iopub.status.busy": "2023-05-15T07:55:07.301181Z",
     "iopub.status.idle": "2023-05-15T07:55:07.539800Z",
     "shell.execute_reply": "2023-05-15T07:55:07.539317Z"
    },
    "papermill": {
     "duration": 0.244809,
     "end_time": "2023-05-15T07:55:07.541181",
     "exception": false,
     "start_time": "2023-05-15T07:55:07.296372",
     "status": "completed"
    },
    "tags": []
   },
   "outputs": [],
   "source": [
    "dataset.write(f\"../../int_data/{sample_name}_qc.h5ad\")"
   ]
  },
  {
   "cell_type": "code",
   "execution_count": null,
   "id": "501b33a0-432d-415f-ae82-50723484b85d",
   "metadata": {
    "execution": {
     "iopub.execute_input": "2023-05-15T07:55:07.550835Z",
     "iopub.status.busy": "2023-05-15T07:55:07.550693Z",
     "iopub.status.idle": "2023-05-15T07:55:07.553624Z",
     "shell.execute_reply": "2023-05-15T07:55:07.553312Z"
    },
    "papermill": {
     "duration": 0.008471,
     "end_time": "2023-05-15T07:55:07.554400",
     "exception": false,
     "start_time": "2023-05-15T07:55:07.545929",
     "status": "completed"
    },
    "tags": []
   },
   "outputs": [],
   "source": [
    "dataset"
   ]
  }
 ],
 "metadata": {
  "kernelspec": {
   "display_name": "py_R",
   "language": "python",
   "name": "python_r"
  },
  "language_info": {
   "codemirror_mode": {
    "name": "ipython",
    "version": 3
   },
   "file_extension": ".py",
   "mimetype": "text/x-python",
   "name": "python",
   "nbconvert_exporter": "python",
   "pygments_lexer": "ipython3",
   "version": "3.10.9"
  },
  "papermill": {
   "default_parameters": {},
   "duration": 89.154317,
   "end_time": "2023-05-15T07:55:08.876646",
   "environment_variables": {},
   "exception": null,
   "input_path": "template.ipynb",
   "output_path": "SRR13329158.ipynb",
   "parameters": {
    "sample_name": "SRR13329158"
   },
   "start_time": "2023-05-15T07:53:39.722329",
   "version": "2.4.0"
  }
 },
 "nbformat": 4,
 "nbformat_minor": 5
}
