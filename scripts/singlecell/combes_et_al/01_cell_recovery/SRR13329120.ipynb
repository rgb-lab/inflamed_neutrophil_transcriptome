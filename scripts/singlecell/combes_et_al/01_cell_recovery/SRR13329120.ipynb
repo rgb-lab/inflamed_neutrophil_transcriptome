{
 "cells": [
  {
   "cell_type": "code",
   "execution_count": null,
   "id": "4c0f2fa8-5232-4f47-a7ec-6c9bbabe50e2",
   "metadata": {
    "execution": {
     "iopub.execute_input": "2023-05-15T08:36:41.446972Z",
     "iopub.status.busy": "2023-05-15T08:36:41.446808Z",
     "iopub.status.idle": "2023-05-15T08:36:41.451317Z",
     "shell.execute_reply": "2023-05-15T08:36:41.451005Z"
    },
    "papermill": {
     "duration": 0.011,
     "end_time": "2023-05-15T08:36:41.452112",
     "exception": false,
     "start_time": "2023-05-15T08:36:41.441112",
     "status": "completed"
    },
    "tags": [
     "parameters"
    ]
   },
   "outputs": [],
   "source": [
    "sample_name = \"SRR13329143\""
   ]
  },
  {
   "cell_type": "code",
   "execution_count": null,
   "id": "5dc8b3ef",
   "metadata": {
    "execution": {
     "iopub.execute_input": "2023-05-15T08:36:41.457838Z",
     "iopub.status.busy": "2023-05-15T08:36:41.457517Z",
     "iopub.status.idle": "2023-05-15T08:36:41.459556Z",
     "shell.execute_reply": "2023-05-15T08:36:41.459267Z"
    },
    "papermill": {
     "duration": 0.00563,
     "end_time": "2023-05-15T08:36:41.460327",
     "exception": false,
     "start_time": "2023-05-15T08:36:41.454697",
     "status": "completed"
    },
    "tags": [
     "injected-parameters"
    ]
   },
   "outputs": [],
   "source": [
    "# Parameters\n",
    "sample_name = \"SRR13329120\"\n"
   ]
  },
  {
   "cell_type": "code",
   "execution_count": null,
   "id": "f87ed95b-2b67-4a5a-8fe2-47359b1dd2a9",
   "metadata": {
    "execution": {
     "iopub.execute_input": "2023-05-15T08:36:41.465927Z",
     "iopub.status.busy": "2023-05-15T08:36:41.465617Z",
     "iopub.status.idle": "2023-05-15T08:36:41.468890Z",
     "shell.execute_reply": "2023-05-15T08:36:41.468600Z"
    },
    "papermill": {
     "duration": 0.00687,
     "end_time": "2023-05-15T08:36:41.469641",
     "exception": false,
     "start_time": "2023-05-15T08:36:41.462771",
     "status": "completed"
    },
    "tags": []
   },
   "outputs": [],
   "source": [
    "import warnings\n",
    "warnings.simplefilter(action='ignore', category=FutureWarning)\n",
    "warnings.simplefilter(action='ignore', category=UserWarning)"
   ]
  },
  {
   "cell_type": "code",
   "execution_count": null,
   "id": "85161f19-b2c5-490b-8cab-c2cf9653b304",
   "metadata": {
    "execution": {
     "iopub.execute_input": "2023-05-15T08:36:41.475011Z",
     "iopub.status.busy": "2023-05-15T08:36:41.474868Z",
     "iopub.status.idle": "2023-05-15T08:36:46.367369Z",
     "shell.execute_reply": "2023-05-15T08:36:46.366908Z"
    },
    "papermill": {
     "duration": 4.896539,
     "end_time": "2023-05-15T08:36:46.368646",
     "exception": false,
     "start_time": "2023-05-15T08:36:41.472107",
     "status": "completed"
    },
    "tags": []
   },
   "outputs": [],
   "source": [
    "import gc\n",
    "import scanpy as sc\n",
    "import muon as mu\n",
    "import seaborn as sns\n",
    "import os\n",
    "import pandas as pd\n",
    "from matplotlib import pyplot as plt\n",
    "\n",
    "os.environ['R_HOME'] = '/gpfs/bwfor/work/ws/hd_fu399-conda/conda/envs/python_R/lib/R/'\n",
    "import anndata2ri\n",
    "import logging\n",
    "\n",
    "import rpy2.rinterface_lib.callbacks as rcb\n",
    "import rpy2.robjects as ro\n",
    "\n",
    "rcb.logger.setLevel(logging.ERROR)\n",
    "ro.pandas2ri.activate()\n",
    "anndata2ri.activate()\n",
    "\n",
    "%load_ext rpy2.ipython"
   ]
  },
  {
   "cell_type": "code",
   "execution_count": null,
   "id": "fc4ade78-b728-4704-9db6-45fbaab62ba1",
   "metadata": {
    "execution": {
     "iopub.execute_input": "2023-05-15T08:36:46.376715Z",
     "iopub.status.busy": "2023-05-15T08:36:46.376342Z",
     "iopub.status.idle": "2023-05-15T08:36:57.851064Z",
     "shell.execute_reply": "2023-05-15T08:36:57.850504Z"
    },
    "papermill": {
     "duration": 11.479214,
     "end_time": "2023-05-15T08:36:57.852427",
     "exception": false,
     "start_time": "2023-05-15T08:36:46.373213",
     "status": "completed"
    },
    "tags": []
   },
   "outputs": [],
   "source": [
    "%%R\n",
    "library(SoupX)\n",
    "library(Seurat)\n",
    "library(scater)\n",
    "library(scDblFinder)\n",
    "library(BiocParallel)\n",
    "library(MuDataSeurat)\n",
    "library(DropletUtils)"
   ]
  },
  {
   "cell_type": "code",
   "execution_count": null,
   "id": "f7424d90-7690-4290-8651-1db3f9df3a35",
   "metadata": {
    "execution": {
     "iopub.execute_input": "2023-05-15T08:36:57.864168Z",
     "iopub.status.busy": "2023-05-15T08:36:57.863870Z",
     "iopub.status.idle": "2023-05-15T08:36:57.869858Z",
     "shell.execute_reply": "2023-05-15T08:36:57.869539Z"
    },
    "papermill": {
     "duration": 0.010151,
     "end_time": "2023-05-15T08:36:57.870745",
     "exception": false,
     "start_time": "2023-05-15T08:36:57.860594",
     "status": "completed"
    },
    "tags": []
   },
   "outputs": [],
   "source": [
    "metadata = pd.read_csv(\"../../combes_metadata.txt\")"
   ]
  },
  {
   "cell_type": "code",
   "execution_count": null,
   "id": "2574ecf1-bad4-4c33-8f3f-718a358727ab",
   "metadata": {
    "execution": {
     "iopub.execute_input": "2023-05-15T08:36:57.877030Z",
     "iopub.status.busy": "2023-05-15T08:36:57.876726Z",
     "iopub.status.idle": "2023-05-15T08:36:57.878854Z",
     "shell.execute_reply": "2023-05-15T08:36:57.878550Z"
    },
    "papermill": {
     "duration": 0.006339,
     "end_time": "2023-05-15T08:36:57.879620",
     "exception": false,
     "start_time": "2023-05-15T08:36:57.873281",
     "status": "completed"
    },
    "tags": []
   },
   "outputs": [],
   "source": [
    "raw_input = f\"/home/hd/hd_hd/hd_fu399/sds-hd/sd21k006/scRNAseq/revision_natcomm/combes_et_al/fetchngs/results/fastq/{sample_name}/{sample_name}/outs/raw_feature_bc_matrix.h5\""
   ]
  },
  {
   "cell_type": "code",
   "execution_count": null,
   "id": "e266d388-1802-435c-93a5-90067358739c",
   "metadata": {
    "execution": {
     "iopub.execute_input": "2023-05-15T08:36:57.886173Z",
     "iopub.status.busy": "2023-05-15T08:36:57.885876Z",
     "iopub.status.idle": "2023-05-15T08:36:58.558768Z",
     "shell.execute_reply": "2023-05-15T08:36:58.558321Z"
    },
    "papermill": {
     "duration": 0.677463,
     "end_time": "2023-05-15T08:36:58.559690",
     "exception": false,
     "start_time": "2023-05-15T08:36:57.882227",
     "status": "completed"
    },
    "tags": []
   },
   "outputs": [],
   "source": [
    "dataset = sc.read_10x_h5(raw_input)\n",
    "dataset.var_names_make_unique()\n",
    "dataset.obs_names_make_unique()\n",
    "\n",
    "dataset.layers[\"raw_counts\"] = dataset.X.copy()\n",
    "data_tod = dataset.layers[\"raw_counts\"].T.copy()\n",
    "\n",
    "dataset"
   ]
  },
  {
   "cell_type": "code",
   "execution_count": null,
   "id": "af9f5892-ed31-42a6-991b-4e096f582cef",
   "metadata": {
    "execution": {
     "iopub.execute_input": "2023-05-15T08:36:58.566385Z",
     "iopub.status.busy": "2023-05-15T08:36:58.566175Z",
     "iopub.status.idle": "2023-05-15T08:36:58.618988Z",
     "shell.execute_reply": "2023-05-15T08:36:58.618511Z"
    },
    "papermill": {
     "duration": 0.05748,
     "end_time": "2023-05-15T08:36:58.620334",
     "exception": false,
     "start_time": "2023-05-15T08:36:58.562854",
     "status": "completed"
    },
    "tags": []
   },
   "outputs": [],
   "source": [
    "sce = dataset.copy()"
   ]
  },
  {
   "cell_type": "code",
   "execution_count": null,
   "id": "d03f2caf-8e74-430e-b045-0ab80401d165",
   "metadata": {
    "execution": {
     "iopub.execute_input": "2023-05-15T08:36:58.626840Z",
     "iopub.status.busy": "2023-05-15T08:36:58.626644Z",
     "iopub.status.idle": "2023-05-15T08:38:24.916190Z",
     "shell.execute_reply": "2023-05-15T08:38:24.915588Z"
    },
    "papermill": {
     "duration": 86.294062,
     "end_time": "2023-05-15T08:38:24.917513",
     "exception": false,
     "start_time": "2023-05-15T08:36:58.623451",
     "status": "completed"
    },
    "tags": []
   },
   "outputs": [],
   "source": [
    "%%R -i sce -o empty_drop_output\n",
    "set.seed(187)\n",
    "empty_drop_output <- emptyDrops(assay(sce))"
   ]
  },
  {
   "cell_type": "code",
   "execution_count": null,
   "id": "2a34a54b-3ae2-44d6-8679-8769228c5b66",
   "metadata": {
    "execution": {
     "iopub.execute_input": "2023-05-15T08:38:24.928264Z",
     "iopub.status.busy": "2023-05-15T08:38:24.928067Z",
     "iopub.status.idle": "2023-05-15T08:38:24.954527Z",
     "shell.execute_reply": "2023-05-15T08:38:24.954152Z"
    },
    "papermill": {
     "duration": 0.030693,
     "end_time": "2023-05-15T08:38:24.955329",
     "exception": false,
     "start_time": "2023-05-15T08:38:24.924636",
     "status": "completed"
    },
    "tags": []
   },
   "outputs": [],
   "source": [
    "non_empty_barcodes = empty_drop_output[empty_drop_output[\"FDR\"] < 0.001].index\n",
    "dataset = dataset[dataset.obs.index.isin(non_empty_barcodes), :]\n",
    "dataset"
   ]
  },
  {
   "cell_type": "code",
   "execution_count": null,
   "id": "016a91e5-1bef-46fb-b91e-4fb9a6870c44",
   "metadata": {
    "execution": {
     "iopub.execute_input": "2023-05-15T08:38:24.961844Z",
     "iopub.status.busy": "2023-05-15T08:38:24.961583Z",
     "iopub.status.idle": "2023-05-15T08:38:29.845734Z",
     "shell.execute_reply": "2023-05-15T08:38:29.845232Z"
    },
    "papermill": {
     "duration": 4.888861,
     "end_time": "2023-05-15T08:38:29.847104",
     "exception": false,
     "start_time": "2023-05-15T08:38:24.958243",
     "status": "completed"
    },
    "tags": []
   },
   "outputs": [],
   "source": [
    "rna_assay = dataset.copy()\n",
    "sc.pp.normalize_per_cell(rna_assay)\n",
    "sc.pp.log1p(rna_assay)\n",
    "sc.pp.pca(rna_assay)\n",
    "sc.pp.neighbors(rna_assay)\n",
    "sc.tl.leiden(rna_assay, key_added=\"soupx_groups\")\n",
    "\n",
    "soupx_groups = rna_assay.obs[\"soupx_groups\"]\n",
    "\n",
    "del rna_assay\n",
    "\n",
    "genes = dataset.var_names\n",
    "cells = dataset.obs_names\n",
    "data = dataset.X.T.copy()"
   ]
  },
  {
   "cell_type": "code",
   "execution_count": null,
   "id": "9db4ea1f-1580-4f43-a3f0-86002397cd98",
   "metadata": {
    "execution": {
     "iopub.execute_input": "2023-05-15T08:38:29.855942Z",
     "iopub.status.busy": "2023-05-15T08:38:29.855718Z",
     "iopub.status.idle": "2023-05-15T08:38:43.500411Z",
     "shell.execute_reply": "2023-05-15T08:38:43.499937Z"
    },
    "papermill": {
     "duration": 13.649559,
     "end_time": "2023-05-15T08:38:43.501704",
     "exception": false,
     "start_time": "2023-05-15T08:38:29.852145",
     "status": "completed"
    },
    "tags": []
   },
   "outputs": [],
   "source": [
    "%%R -i data -i data_tod -i genes -i cells -i soupx_groups -o out \n",
    "set.seed(187)\n",
    "# specify row and column names of data\n",
    "rownames(data) = genes\n",
    "colnames(data) = cells\n",
    "# ensure correct sparse format for table of counts and table of droplets\n",
    "data <- as(data, \"sparseMatrix\")\n",
    "data_tod <- as(data_tod, \"sparseMatrix\")\n",
    "\n",
    "# Generate SoupChannel Object for SoupX \n",
    "sc = SoupChannel(data_tod, data, calcSoupProfile = FALSE)\n",
    "\n",
    "# Add extra meta data to the SoupChannel object\n",
    "soupProf = data.frame(row.names = rownames(data),\n",
    "                      est = rowSums(data)/sum(data),\n",
    "                      counts = rowSums(data))\n",
    "sc = setSoupProfile(sc, soupProf)\n",
    "# Set cluster information in SoupChannel\n",
    "sc = setClusters(sc, soupx_groups)\n",
    "\n",
    "# Estimate contamination fraction\n",
    "sc  = autoEstCont(sc, doPlot=FALSE, forceAccept = TRUE)\n",
    "# Infer corrected table of counts and rount to integer\n",
    "out = adjustCounts(sc, roundToInt = TRUE)"
   ]
  },
  {
   "cell_type": "code",
   "execution_count": null,
   "id": "32555d5e-5fa3-46dd-a4e0-ddc96ea265e2",
   "metadata": {
    "execution": {
     "iopub.execute_input": "2023-05-15T08:38:43.513664Z",
     "iopub.status.busy": "2023-05-15T08:38:43.513484Z",
     "iopub.status.idle": "2023-05-15T08:38:43.543768Z",
     "shell.execute_reply": "2023-05-15T08:38:43.543275Z"
    },
    "papermill": {
     "duration": 0.03534,
     "end_time": "2023-05-15T08:38:43.545102",
     "exception": false,
     "start_time": "2023-05-15T08:38:43.509762",
     "status": "completed"
    },
    "tags": []
   },
   "outputs": [],
   "source": [
    "dataset.layers[\"soupX_counts\"] = out.T\n",
    "dataset.X = dataset.layers[\"soupX_counts\"].copy()"
   ]
  },
  {
   "cell_type": "code",
   "execution_count": null,
   "id": "e27da7df-e094-4d2a-9109-5a363e012175",
   "metadata": {
    "execution": {
     "iopub.execute_input": "2023-05-15T08:38:43.552059Z",
     "iopub.status.busy": "2023-05-15T08:38:43.551869Z",
     "iopub.status.idle": "2023-05-15T08:38:43.554317Z",
     "shell.execute_reply": "2023-05-15T08:38:43.553976Z"
    },
    "papermill": {
     "duration": 0.006937,
     "end_time": "2023-05-15T08:38:43.555304",
     "exception": false,
     "start_time": "2023-05-15T08:38:43.548367",
     "status": "completed"
    },
    "tags": []
   },
   "outputs": [],
   "source": [
    "data_mat = dataset.X.T"
   ]
  },
  {
   "cell_type": "code",
   "execution_count": null,
   "id": "80a993b1-5ccb-4697-9187-1beb7ab8aff9",
   "metadata": {
    "execution": {
     "iopub.execute_input": "2023-05-15T08:38:43.561866Z",
     "iopub.status.busy": "2023-05-15T08:38:43.561531Z",
     "iopub.status.idle": "2023-05-15T08:38:58.857642Z",
     "shell.execute_reply": "2023-05-15T08:38:58.857172Z"
    },
    "papermill": {
     "duration": 15.300878,
     "end_time": "2023-05-15T08:38:58.858968",
     "exception": false,
     "start_time": "2023-05-15T08:38:43.558090",
     "status": "completed"
    },
    "tags": []
   },
   "outputs": [],
   "source": [
    "%%R -i data_mat -o droplet_class\n",
    "\n",
    "set.seed(187)\n",
    "sce = scDblFinder(\n",
    "    SingleCellExperiment(\n",
    "        list(counts=data_mat),\n",
    "    ) \n",
    ")\n",
    "droplet_class = sce$scDblFinder.class"
   ]
  },
  {
   "cell_type": "code",
   "execution_count": null,
   "id": "d4dd6e9d-fcf2-41fc-8457-c8e0a3cb2c71",
   "metadata": {
    "execution": {
     "iopub.execute_input": "2023-05-15T08:38:58.869659Z",
     "iopub.status.busy": "2023-05-15T08:38:58.869487Z",
     "iopub.status.idle": "2023-05-15T08:38:58.873538Z",
     "shell.execute_reply": "2023-05-15T08:38:58.873196Z"
    },
    "papermill": {
     "duration": 0.008529,
     "end_time": "2023-05-15T08:38:58.874342",
     "exception": false,
     "start_time": "2023-05-15T08:38:58.865813",
     "status": "completed"
    },
    "tags": []
   },
   "outputs": [],
   "source": [
    "dataset.obs[\"scDblFinder_class\"] = droplet_class\n",
    "dataset.obs.scDblFinder_class.value_counts()\n",
    "dataset"
   ]
  },
  {
   "cell_type": "code",
   "execution_count": null,
   "id": "28c95014-2d6c-477f-95cb-9f9f0507520c",
   "metadata": {
    "execution": {
     "iopub.execute_input": "2023-05-15T08:38:58.881141Z",
     "iopub.status.busy": "2023-05-15T08:38:58.880872Z",
     "iopub.status.idle": "2023-05-15T08:38:58.883854Z",
     "shell.execute_reply": "2023-05-15T08:38:58.883540Z"
    },
    "papermill": {
     "duration": 0.007109,
     "end_time": "2023-05-15T08:38:58.884563",
     "exception": false,
     "start_time": "2023-05-15T08:38:58.877454",
     "status": "completed"
    },
    "tags": []
   },
   "outputs": [],
   "source": [
    "dataset = dataset[dataset.obs[\"scDblFinder_class\"] == 1]"
   ]
  },
  {
   "cell_type": "code",
   "execution_count": null,
   "id": "3e22f9e0-bfcb-416c-a151-a9bca3bec3b9",
   "metadata": {
    "execution": {
     "iopub.execute_input": "2023-05-15T08:38:58.891208Z",
     "iopub.status.busy": "2023-05-15T08:38:58.890922Z",
     "iopub.status.idle": "2023-05-15T08:38:59.043413Z",
     "shell.execute_reply": "2023-05-15T08:38:59.042969Z"
    },
    "papermill": {
     "duration": 0.156849,
     "end_time": "2023-05-15T08:38:59.044365",
     "exception": false,
     "start_time": "2023-05-15T08:38:58.887516",
     "status": "completed"
    },
    "tags": []
   },
   "outputs": [],
   "source": [
    "# mitochondrial genes\n",
    "dataset.var[\"mt\"] = dataset.var_names.str.startswith(\"MT-\")\n",
    "# ribosomal genes\n",
    "dataset.var[\"ribo\"] = dataset.var_names.str.startswith((\"RPS\", \"RPL\"))\n",
    "# hemoglobin genes.\n",
    "dataset.var[\"hb\"] = dataset.var_names.str.contains((\"^HB[^(P)]\"))\n",
    "\n",
    "sc.pp.calculate_qc_metrics(dataset,\n",
    "                           qc_vars=['mt', 'ribo', 'hb'],\n",
    "                           percent_top=None,\n",
    "                           log1p=False,\n",
    "                           inplace=True)\n",
    "dataset"
   ]
  },
  {
   "cell_type": "code",
   "execution_count": null,
   "id": "34deee79-4043-428f-8575-aa57b45f6369",
   "metadata": {
    "execution": {
     "iopub.execute_input": "2023-05-15T08:38:59.051865Z",
     "iopub.status.busy": "2023-05-15T08:38:59.051690Z",
     "iopub.status.idle": "2023-05-15T08:38:59.505229Z",
     "shell.execute_reply": "2023-05-15T08:38:59.504849Z"
    },
    "papermill": {
     "duration": 0.458179,
     "end_time": "2023-05-15T08:38:59.506160",
     "exception": false,
     "start_time": "2023-05-15T08:38:59.047981",
     "status": "completed"
    },
    "tags": []
   },
   "outputs": [],
   "source": [
    "fig, ax = plt.subplots(ncols = 4, figsize = (16,4))\n",
    "axis = sc.pl.violin(dataset, \"n_genes_by_counts\", jitter = 0.4, ax = ax[0], show = False)\n",
    "axis.grid(False)\n",
    "axis.set_title(\"Unique Genes per cell\")\n",
    "axis.tick_params(axis = \"x\", bottom =False, labelbottom =False)\n",
    "axis.set_ylabel(\"# genes\")\n",
    "axis.axhline(y = 100, color = \"black\", label = \"cutoff\")\n",
    "axis.legend(fontsize = 14, loc = \"upper right\")\n",
    "\n",
    "axis = sc.pl.violin(dataset, \"pct_counts_mt\", jitter = 0.4, ax = ax[1], show = False)\n",
    "axis.grid(False)\n",
    "axis.set_title(\"Mitochondrial Fraction\")\n",
    "axis.tick_params(axis = \"x\", bottom =False, labelbottom =False)\n",
    "axis.set_ylabel(\"% mitochondrial genes\")\n",
    "axis.axhline(y = 10, color = \"black\", label = \"cutoff\")\n",
    "axis.legend(fontsize = 14, loc = \"upper right\")\n",
    "\n",
    "axis = sc.pl.violin(dataset, \"pct_counts_hb\", jitter = 0.4, ax = ax[2], show = False, size =2)\n",
    "axis.grid(False)\n",
    "axis.set_title(\"Hemoglobin Fraction\")\n",
    "axis.tick_params(axis = \"x\", bottom =False, labelbottom =False)\n",
    "axis.set_ylabel(\"% hemoglobin genes\")\n",
    "axis.axhline(y = 3, color = \"black\", label = \"cutoff\")\n",
    "axis.legend(fontsize = 14, loc = \"upper right\")\n",
    "#axis.set_ylim(0,5)\n",
    "\n",
    "axis = sc.pl.violin(dataset, \"pct_counts_ribo\", jitter = 0.4, ax = ax[3], show = False)\n",
    "axis.grid(False)\n",
    "axis.set_title(\"Ribosomal Fraction\")\n",
    "axis.tick_params(axis = \"x\", bottom =False, labelbottom =False)\n",
    "axis.set_ylabel(\"% ribosome genes\")\n",
    "\n",
    "plt.tight_layout()\n",
    "#plt.savefig(f\"{outputDir}08_gene_based_filtering.pdf\", dpi = 300)\n",
    "plt.show()\n",
    "\n"
   ]
  },
  {
   "cell_type": "code",
   "execution_count": null,
   "id": "d7ade754-843e-4840-8707-426613d8c0c5",
   "metadata": {
    "execution": {
     "iopub.execute_input": "2023-05-15T08:38:59.515596Z",
     "iopub.status.busy": "2023-05-15T08:38:59.515404Z",
     "iopub.status.idle": "2023-05-15T08:38:59.524214Z",
     "shell.execute_reply": "2023-05-15T08:38:59.523885Z"
    },
    "papermill": {
     "duration": 0.014179,
     "end_time": "2023-05-15T08:38:59.524950",
     "exception": false,
     "start_time": "2023-05-15T08:38:59.510771",
     "status": "completed"
    },
    "tags": []
   },
   "outputs": [],
   "source": [
    "dataset = dataset[dataset.obs.pct_counts_mt < 10, :]\n",
    "dataset = dataset[dataset.obs.n_genes_by_counts > 100, :]\n",
    "dataset = dataset[dataset.obs.pct_counts_hb < 3, :]\n",
    "dataset"
   ]
  },
  {
   "cell_type": "code",
   "execution_count": null,
   "id": "1941fa36-e865-4500-b586-f7a32d142c9b",
   "metadata": {
    "execution": {
     "iopub.execute_input": "2023-05-15T08:38:59.534203Z",
     "iopub.status.busy": "2023-05-15T08:38:59.534042Z",
     "iopub.status.idle": "2023-05-15T08:38:59.536922Z",
     "shell.execute_reply": "2023-05-15T08:38:59.536617Z"
    },
    "papermill": {
     "duration": 0.008262,
     "end_time": "2023-05-15T08:38:59.537641",
     "exception": false,
     "start_time": "2023-05-15T08:38:59.529379",
     "status": "completed"
    },
    "tags": []
   },
   "outputs": [],
   "source": [
    "metadata.columns"
   ]
  },
  {
   "cell_type": "code",
   "execution_count": null,
   "id": "2e0ff8c3-2aa9-4a01-9b88-5912a6734447",
   "metadata": {
    "execution": {
     "iopub.execute_input": "2023-05-15T08:38:59.546951Z",
     "iopub.status.busy": "2023-05-15T08:38:59.546798Z",
     "iopub.status.idle": "2023-05-15T08:38:59.590581Z",
     "shell.execute_reply": "2023-05-15T08:38:59.590094Z"
    },
    "papermill": {
     "duration": 0.049733,
     "end_time": "2023-05-15T08:38:59.591694",
     "exception": false,
     "start_time": "2023-05-15T08:38:59.541961",
     "status": "completed"
    },
    "tags": []
   },
   "outputs": [],
   "source": [
    "for col in metadata.columns:\n",
    "    dataset.obs[col] = metadata.loc[metadata[\"Run\"] == sample_name, col].to_list()[0]"
   ]
  },
  {
   "cell_type": "code",
   "execution_count": null,
   "id": "b84578d3-d63e-419c-a272-a0b8317d05ab",
   "metadata": {
    "execution": {
     "iopub.execute_input": "2023-05-15T08:38:59.601855Z",
     "iopub.status.busy": "2023-05-15T08:38:59.601673Z",
     "iopub.status.idle": "2023-05-15T08:39:00.022946Z",
     "shell.execute_reply": "2023-05-15T08:39:00.022480Z"
    },
    "papermill": {
     "duration": 0.427595,
     "end_time": "2023-05-15T08:39:00.024166",
     "exception": false,
     "start_time": "2023-05-15T08:38:59.596571",
     "status": "completed"
    },
    "tags": []
   },
   "outputs": [],
   "source": [
    "dataset.write(f\"../../int_data/{sample_name}_qc.h5ad\")"
   ]
  },
  {
   "cell_type": "code",
   "execution_count": null,
   "id": "501b33a0-432d-415f-ae82-50723484b85d",
   "metadata": {
    "execution": {
     "iopub.execute_input": "2023-05-15T08:39:00.033753Z",
     "iopub.status.busy": "2023-05-15T08:39:00.033583Z",
     "iopub.status.idle": "2023-05-15T08:39:00.036514Z",
     "shell.execute_reply": "2023-05-15T08:39:00.036181Z"
    },
    "papermill": {
     "duration": 0.008637,
     "end_time": "2023-05-15T08:39:00.037307",
     "exception": false,
     "start_time": "2023-05-15T08:39:00.028670",
     "status": "completed"
    },
    "tags": []
   },
   "outputs": [],
   "source": [
    "dataset"
   ]
  }
 ],
 "metadata": {
  "kernelspec": {
   "display_name": "py_R",
   "language": "python",
   "name": "python_r"
  },
  "language_info": {
   "codemirror_mode": {
    "name": "ipython",
    "version": 3
   },
   "file_extension": ".py",
   "mimetype": "text/x-python",
   "name": "python",
   "nbconvert_exporter": "python",
   "pygments_lexer": "ipython3",
   "version": "3.10.9"
  },
  "papermill": {
   "default_parameters": {},
   "duration": 141.171662,
   "end_time": "2023-05-15T08:39:01.460778",
   "environment_variables": {},
   "exception": null,
   "input_path": "template.ipynb",
   "output_path": "SRR13329120.ipynb",
   "parameters": {
    "sample_name": "SRR13329120"
   },
   "start_time": "2023-05-15T08:36:40.289116",
   "version": "2.4.0"
  }
 },
 "nbformat": 4,
 "nbformat_minor": 5
}
