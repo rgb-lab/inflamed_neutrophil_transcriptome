{
 "cells": [
  {
   "cell_type": "code",
   "execution_count": null,
   "id": "4c0f2fa8-5232-4f47-a7ec-6c9bbabe50e2",
   "metadata": {
    "execution": {
     "iopub.execute_input": "2023-05-15T09:30:13.822548Z",
     "iopub.status.busy": "2023-05-15T09:30:13.822407Z",
     "iopub.status.idle": "2023-05-15T09:30:13.826868Z",
     "shell.execute_reply": "2023-05-15T09:30:13.826552Z"
    },
    "papermill": {
     "duration": 0.008426,
     "end_time": "2023-05-15T09:30:13.827653",
     "exception": false,
     "start_time": "2023-05-15T09:30:13.819227",
     "status": "completed"
    },
    "tags": [
     "parameters"
    ]
   },
   "outputs": [],
   "source": [
    "sample_name = \"SRR13329143\""
   ]
  },
  {
   "cell_type": "code",
   "execution_count": null,
   "id": "ec3a2d64",
   "metadata": {
    "execution": {
     "iopub.execute_input": "2023-05-15T09:30:13.833090Z",
     "iopub.status.busy": "2023-05-15T09:30:13.832881Z",
     "iopub.status.idle": "2023-05-15T09:30:13.834747Z",
     "shell.execute_reply": "2023-05-15T09:30:13.834437Z"
    },
    "papermill": {
     "duration": 0.005627,
     "end_time": "2023-05-15T09:30:13.835588",
     "exception": false,
     "start_time": "2023-05-15T09:30:13.829961",
     "status": "completed"
    },
    "tags": [
     "injected-parameters"
    ]
   },
   "outputs": [],
   "source": [
    "# Parameters\n",
    "sample_name = \"SRR13329127\"\n"
   ]
  },
  {
   "cell_type": "code",
   "execution_count": null,
   "id": "f87ed95b-2b67-4a5a-8fe2-47359b1dd2a9",
   "metadata": {
    "execution": {
     "iopub.execute_input": "2023-05-15T09:30:13.840501Z",
     "iopub.status.busy": "2023-05-15T09:30:13.840348Z",
     "iopub.status.idle": "2023-05-15T09:30:13.842462Z",
     "shell.execute_reply": "2023-05-15T09:30:13.842171Z"
    },
    "papermill": {
     "duration": 0.005443,
     "end_time": "2023-05-15T09:30:13.843220",
     "exception": false,
     "start_time": "2023-05-15T09:30:13.837777",
     "status": "completed"
    },
    "tags": []
   },
   "outputs": [],
   "source": [
    "import warnings\n",
    "warnings.simplefilter(action='ignore', category=FutureWarning)\n",
    "warnings.simplefilter(action='ignore', category=UserWarning)"
   ]
  },
  {
   "cell_type": "code",
   "execution_count": null,
   "id": "85161f19-b2c5-490b-8cab-c2cf9653b304",
   "metadata": {
    "execution": {
     "iopub.execute_input": "2023-05-15T09:30:13.848308Z",
     "iopub.status.busy": "2023-05-15T09:30:13.848100Z",
     "iopub.status.idle": "2023-05-15T09:30:18.401764Z",
     "shell.execute_reply": "2023-05-15T09:30:18.401230Z"
    },
    "papermill": {
     "duration": 4.557639,
     "end_time": "2023-05-15T09:30:18.403128",
     "exception": false,
     "start_time": "2023-05-15T09:30:13.845489",
     "status": "completed"
    },
    "tags": []
   },
   "outputs": [],
   "source": [
    "import gc\n",
    "import scanpy as sc\n",
    "import muon as mu\n",
    "import seaborn as sns\n",
    "import os\n",
    "import pandas as pd\n",
    "from matplotlib import pyplot as plt\n",
    "\n",
    "os.environ['R_HOME'] = '/gpfs/bwfor/work/ws/hd_fu399-conda/conda/envs/python_R/lib/R/'\n",
    "import anndata2ri\n",
    "import logging\n",
    "\n",
    "import rpy2.rinterface_lib.callbacks as rcb\n",
    "import rpy2.robjects as ro\n",
    "\n",
    "rcb.logger.setLevel(logging.ERROR)\n",
    "ro.pandas2ri.activate()\n",
    "anndata2ri.activate()\n",
    "\n",
    "%load_ext rpy2.ipython"
   ]
  },
  {
   "cell_type": "code",
   "execution_count": null,
   "id": "fc4ade78-b728-4704-9db6-45fbaab62ba1",
   "metadata": {
    "execution": {
     "iopub.execute_input": "2023-05-15T09:30:18.409330Z",
     "iopub.status.busy": "2023-05-15T09:30:18.409041Z",
     "iopub.status.idle": "2023-05-15T09:30:29.283711Z",
     "shell.execute_reply": "2023-05-15T09:30:29.283235Z"
    },
    "papermill": {
     "duration": 10.878732,
     "end_time": "2023-05-15T09:30:29.284940",
     "exception": false,
     "start_time": "2023-05-15T09:30:18.406208",
     "status": "completed"
    },
    "tags": []
   },
   "outputs": [],
   "source": [
    "%%R\n",
    "library(SoupX)\n",
    "library(Seurat)\n",
    "library(scater)\n",
    "library(scDblFinder)\n",
    "library(BiocParallel)\n",
    "library(MuDataSeurat)\n",
    "library(DropletUtils)"
   ]
  },
  {
   "cell_type": "code",
   "execution_count": null,
   "id": "f7424d90-7690-4290-8651-1db3f9df3a35",
   "metadata": {
    "execution": {
     "iopub.execute_input": "2023-05-15T09:30:29.292720Z",
     "iopub.status.busy": "2023-05-15T09:30:29.292575Z",
     "iopub.status.idle": "2023-05-15T09:30:29.298168Z",
     "shell.execute_reply": "2023-05-15T09:30:29.297822Z"
    },
    "papermill": {
     "duration": 0.009277,
     "end_time": "2023-05-15T09:30:29.298960",
     "exception": false,
     "start_time": "2023-05-15T09:30:29.289683",
     "status": "completed"
    },
    "tags": []
   },
   "outputs": [],
   "source": [
    "metadata = pd.read_csv(\"../../combes_metadata.txt\")"
   ]
  },
  {
   "cell_type": "code",
   "execution_count": null,
   "id": "2574ecf1-bad4-4c33-8f3f-718a358727ab",
   "metadata": {
    "execution": {
     "iopub.execute_input": "2023-05-15T09:30:29.304227Z",
     "iopub.status.busy": "2023-05-15T09:30:29.303987Z",
     "iopub.status.idle": "2023-05-15T09:30:29.313931Z",
     "shell.execute_reply": "2023-05-15T09:30:29.313626Z"
    },
    "papermill": {
     "duration": 0.013443,
     "end_time": "2023-05-15T09:30:29.314724",
     "exception": false,
     "start_time": "2023-05-15T09:30:29.301281",
     "status": "completed"
    },
    "tags": []
   },
   "outputs": [],
   "source": [
    "raw_input = f\"/home/hd/hd_hd/hd_fu399/sds-hd/sd21k006/scRNAseq/revision_natcomm/combes_et_al/fetchngs/results/fastq/{sample_name}/{sample_name}/outs/raw_feature_bc_matrix.h5\""
   ]
  },
  {
   "cell_type": "code",
   "execution_count": null,
   "id": "e266d388-1802-435c-93a5-90067358739c",
   "metadata": {
    "execution": {
     "iopub.execute_input": "2023-05-15T09:30:29.320040Z",
     "iopub.status.busy": "2023-05-15T09:30:29.319884Z",
     "iopub.status.idle": "2023-05-15T09:30:29.844102Z",
     "shell.execute_reply": "2023-05-15T09:30:29.843671Z"
    },
    "papermill": {
     "duration": 0.527992,
     "end_time": "2023-05-15T09:30:29.845035",
     "exception": false,
     "start_time": "2023-05-15T09:30:29.317043",
     "status": "completed"
    },
    "tags": []
   },
   "outputs": [],
   "source": [
    "dataset = sc.read_10x_h5(raw_input)\n",
    "dataset.var_names_make_unique()\n",
    "dataset.obs_names_make_unique()\n",
    "\n",
    "dataset.layers[\"raw_counts\"] = dataset.X.copy()\n",
    "data_tod = dataset.layers[\"raw_counts\"].T.copy()\n",
    "\n",
    "dataset"
   ]
  },
  {
   "cell_type": "code",
   "execution_count": null,
   "id": "af9f5892-ed31-42a6-991b-4e096f582cef",
   "metadata": {
    "execution": {
     "iopub.execute_input": "2023-05-15T09:30:29.851278Z",
     "iopub.status.busy": "2023-05-15T09:30:29.851118Z",
     "iopub.status.idle": "2023-05-15T09:30:29.899324Z",
     "shell.execute_reply": "2023-05-15T09:30:29.898867Z"
    },
    "papermill": {
     "duration": 0.052358,
     "end_time": "2023-05-15T09:30:29.900519",
     "exception": false,
     "start_time": "2023-05-15T09:30:29.848161",
     "status": "completed"
    },
    "tags": []
   },
   "outputs": [],
   "source": [
    "sce = dataset.copy()"
   ]
  },
  {
   "cell_type": "code",
   "execution_count": null,
   "id": "d03f2caf-8e74-430e-b045-0ab80401d165",
   "metadata": {
    "execution": {
     "iopub.execute_input": "2023-05-15T09:30:29.906675Z",
     "iopub.status.busy": "2023-05-15T09:30:29.906520Z",
     "iopub.status.idle": "2023-05-15T09:31:25.457765Z",
     "shell.execute_reply": "2023-05-15T09:31:25.457131Z"
    },
    "papermill": {
     "duration": 55.555844,
     "end_time": "2023-05-15T09:31:25.459394",
     "exception": false,
     "start_time": "2023-05-15T09:30:29.903550",
     "status": "completed"
    },
    "tags": []
   },
   "outputs": [],
   "source": [
    "%%R -i sce -o empty_drop_output\n",
    "set.seed(187)\n",
    "empty_drop_output <- emptyDrops(assay(sce))"
   ]
  },
  {
   "cell_type": "code",
   "execution_count": null,
   "id": "2a34a54b-3ae2-44d6-8679-8769228c5b66",
   "metadata": {
    "execution": {
     "iopub.execute_input": "2023-05-15T09:31:25.468583Z",
     "iopub.status.busy": "2023-05-15T09:31:25.468424Z",
     "iopub.status.idle": "2023-05-15T09:31:25.492963Z",
     "shell.execute_reply": "2023-05-15T09:31:25.492639Z"
    },
    "papermill": {
     "duration": 0.029245,
     "end_time": "2023-05-15T09:31:25.493753",
     "exception": false,
     "start_time": "2023-05-15T09:31:25.464508",
     "status": "completed"
    },
    "tags": []
   },
   "outputs": [],
   "source": [
    "non_empty_barcodes = empty_drop_output[empty_drop_output[\"FDR\"] < 0.001].index\n",
    "dataset = dataset[dataset.obs.index.isin(non_empty_barcodes), :]\n",
    "dataset"
   ]
  },
  {
   "cell_type": "code",
   "execution_count": null,
   "id": "016a91e5-1bef-46fb-b91e-4fb9a6870c44",
   "metadata": {
    "execution": {
     "iopub.execute_input": "2023-05-15T09:31:25.499700Z",
     "iopub.status.busy": "2023-05-15T09:31:25.499531Z",
     "iopub.status.idle": "2023-05-15T09:31:30.204915Z",
     "shell.execute_reply": "2023-05-15T09:31:30.204415Z"
    },
    "papermill": {
     "duration": 4.709811,
     "end_time": "2023-05-15T09:31:30.206255",
     "exception": false,
     "start_time": "2023-05-15T09:31:25.496444",
     "status": "completed"
    },
    "tags": []
   },
   "outputs": [],
   "source": [
    "rna_assay = dataset.copy()\n",
    "sc.pp.normalize_per_cell(rna_assay)\n",
    "sc.pp.log1p(rna_assay)\n",
    "sc.pp.pca(rna_assay)\n",
    "sc.pp.neighbors(rna_assay)\n",
    "sc.tl.leiden(rna_assay, key_added=\"soupx_groups\")\n",
    "\n",
    "soupx_groups = rna_assay.obs[\"soupx_groups\"]\n",
    "\n",
    "del rna_assay\n",
    "\n",
    "genes = dataset.var_names\n",
    "cells = dataset.obs_names\n",
    "data = dataset.X.T.copy()"
   ]
  },
  {
   "cell_type": "code",
   "execution_count": null,
   "id": "9db4ea1f-1580-4f43-a3f0-86002397cd98",
   "metadata": {
    "execution": {
     "iopub.execute_input": "2023-05-15T09:31:30.215056Z",
     "iopub.status.busy": "2023-05-15T09:31:30.214885Z",
     "iopub.status.idle": "2023-05-15T09:31:43.472557Z",
     "shell.execute_reply": "2023-05-15T09:31:43.472067Z"
    },
    "papermill": {
     "duration": 13.262219,
     "end_time": "2023-05-15T09:31:43.473750",
     "exception": false,
     "start_time": "2023-05-15T09:31:30.211531",
     "status": "completed"
    },
    "tags": []
   },
   "outputs": [],
   "source": [
    "%%R -i data -i data_tod -i genes -i cells -i soupx_groups -o out \n",
    "set.seed(187)\n",
    "# specify row and column names of data\n",
    "rownames(data) = genes\n",
    "colnames(data) = cells\n",
    "# ensure correct sparse format for table of counts and table of droplets\n",
    "data <- as(data, \"sparseMatrix\")\n",
    "data_tod <- as(data_tod, \"sparseMatrix\")\n",
    "\n",
    "# Generate SoupChannel Object for SoupX \n",
    "sc = SoupChannel(data_tod, data, calcSoupProfile = FALSE)\n",
    "\n",
    "# Add extra meta data to the SoupChannel object\n",
    "soupProf = data.frame(row.names = rownames(data),\n",
    "                      est = rowSums(data)/sum(data),\n",
    "                      counts = rowSums(data))\n",
    "sc = setSoupProfile(sc, soupProf)\n",
    "# Set cluster information in SoupChannel\n",
    "sc = setClusters(sc, soupx_groups)\n",
    "\n",
    "# Estimate contamination fraction\n",
    "sc  = autoEstCont(sc, doPlot=FALSE, forceAccept = TRUE)\n",
    "# Infer corrected table of counts and rount to integer\n",
    "out = adjustCounts(sc, roundToInt = TRUE)"
   ]
  },
  {
   "cell_type": "code",
   "execution_count": null,
   "id": "32555d5e-5fa3-46dd-a4e0-ddc96ea265e2",
   "metadata": {
    "execution": {
     "iopub.execute_input": "2023-05-15T09:31:43.482359Z",
     "iopub.status.busy": "2023-05-15T09:31:43.482193Z",
     "iopub.status.idle": "2023-05-15T09:31:43.511600Z",
     "shell.execute_reply": "2023-05-15T09:31:43.511134Z"
    },
    "papermill": {
     "duration": 0.033841,
     "end_time": "2023-05-15T09:31:43.512746",
     "exception": false,
     "start_time": "2023-05-15T09:31:43.478905",
     "status": "completed"
    },
    "tags": []
   },
   "outputs": [],
   "source": [
    "dataset.layers[\"soupX_counts\"] = out.T\n",
    "dataset.X = dataset.layers[\"soupX_counts\"].copy()"
   ]
  },
  {
   "cell_type": "code",
   "execution_count": null,
   "id": "e27da7df-e094-4d2a-9109-5a363e012175",
   "metadata": {
    "execution": {
     "iopub.execute_input": "2023-05-15T09:31:43.519305Z",
     "iopub.status.busy": "2023-05-15T09:31:43.519116Z",
     "iopub.status.idle": "2023-05-15T09:31:43.521523Z",
     "shell.execute_reply": "2023-05-15T09:31:43.521202Z"
    },
    "papermill": {
     "duration": 0.006326,
     "end_time": "2023-05-15T09:31:43.522293",
     "exception": false,
     "start_time": "2023-05-15T09:31:43.515967",
     "status": "completed"
    },
    "tags": []
   },
   "outputs": [],
   "source": [
    "data_mat = dataset.X.T"
   ]
  },
  {
   "cell_type": "code",
   "execution_count": null,
   "id": "80a993b1-5ccb-4697-9187-1beb7ab8aff9",
   "metadata": {
    "execution": {
     "iopub.execute_input": "2023-05-15T09:31:43.528115Z",
     "iopub.status.busy": "2023-05-15T09:31:43.527955Z",
     "iopub.status.idle": "2023-05-15T09:32:00.178079Z",
     "shell.execute_reply": "2023-05-15T09:32:00.177562Z"
    },
    "papermill": {
     "duration": 16.654736,
     "end_time": "2023-05-15T09:32:00.179624",
     "exception": false,
     "start_time": "2023-05-15T09:31:43.524888",
     "status": "completed"
    },
    "tags": []
   },
   "outputs": [],
   "source": [
    "%%R -i data_mat -o droplet_class\n",
    "\n",
    "set.seed(187)\n",
    "sce = scDblFinder(\n",
    "    SingleCellExperiment(\n",
    "        list(counts=data_mat),\n",
    "    ) \n",
    ")\n",
    "droplet_class = sce$scDblFinder.class"
   ]
  },
  {
   "cell_type": "code",
   "execution_count": null,
   "id": "d4dd6e9d-fcf2-41fc-8457-c8e0a3cb2c71",
   "metadata": {
    "execution": {
     "iopub.execute_input": "2023-05-15T09:32:00.188272Z",
     "iopub.status.busy": "2023-05-15T09:32:00.188021Z",
     "iopub.status.idle": "2023-05-15T09:32:00.192063Z",
     "shell.execute_reply": "2023-05-15T09:32:00.191736Z"
    },
    "papermill": {
     "duration": 0.008126,
     "end_time": "2023-05-15T09:32:00.192812",
     "exception": false,
     "start_time": "2023-05-15T09:32:00.184686",
     "status": "completed"
    },
    "tags": []
   },
   "outputs": [],
   "source": [
    "dataset.obs[\"scDblFinder_class\"] = droplet_class\n",
    "dataset.obs.scDblFinder_class.value_counts()\n",
    "dataset"
   ]
  },
  {
   "cell_type": "code",
   "execution_count": null,
   "id": "28c95014-2d6c-477f-95cb-9f9f0507520c",
   "metadata": {
    "execution": {
     "iopub.execute_input": "2023-05-15T09:32:00.199034Z",
     "iopub.status.busy": "2023-05-15T09:32:00.198865Z",
     "iopub.status.idle": "2023-05-15T09:32:00.215500Z",
     "shell.execute_reply": "2023-05-15T09:32:00.215184Z"
    },
    "papermill": {
     "duration": 0.020826,
     "end_time": "2023-05-15T09:32:00.216422",
     "exception": false,
     "start_time": "2023-05-15T09:32:00.195596",
     "status": "completed"
    },
    "tags": []
   },
   "outputs": [],
   "source": [
    "dataset = dataset[dataset.obs[\"scDblFinder_class\"] == 1]"
   ]
  },
  {
   "cell_type": "code",
   "execution_count": null,
   "id": "3e22f9e0-bfcb-416c-a151-a9bca3bec3b9",
   "metadata": {
    "execution": {
     "iopub.execute_input": "2023-05-15T09:32:00.222807Z",
     "iopub.status.busy": "2023-05-15T09:32:00.222648Z",
     "iopub.status.idle": "2023-05-15T09:32:00.375129Z",
     "shell.execute_reply": "2023-05-15T09:32:00.374707Z"
    },
    "papermill": {
     "duration": 0.156711,
     "end_time": "2023-05-15T09:32:00.376068",
     "exception": false,
     "start_time": "2023-05-15T09:32:00.219357",
     "status": "completed"
    },
    "tags": []
   },
   "outputs": [],
   "source": [
    "# mitochondrial genes\n",
    "dataset.var[\"mt\"] = dataset.var_names.str.startswith(\"MT-\")\n",
    "# ribosomal genes\n",
    "dataset.var[\"ribo\"] = dataset.var_names.str.startswith((\"RPS\", \"RPL\"))\n",
    "# hemoglobin genes.\n",
    "dataset.var[\"hb\"] = dataset.var_names.str.contains((\"^HB[^(P)]\"))\n",
    "\n",
    "sc.pp.calculate_qc_metrics(dataset,\n",
    "                           qc_vars=['mt', 'ribo', 'hb'],\n",
    "                           percent_top=None,\n",
    "                           log1p=False,\n",
    "                           inplace=True)\n",
    "dataset"
   ]
  },
  {
   "cell_type": "code",
   "execution_count": null,
   "id": "34deee79-4043-428f-8575-aa57b45f6369",
   "metadata": {
    "execution": {
     "iopub.execute_input": "2023-05-15T09:32:00.383060Z",
     "iopub.status.busy": "2023-05-15T09:32:00.382904Z",
     "iopub.status.idle": "2023-05-15T09:32:00.842208Z",
     "shell.execute_reply": "2023-05-15T09:32:00.841795Z"
    },
    "papermill": {
     "duration": 0.463679,
     "end_time": "2023-05-15T09:32:00.843089",
     "exception": false,
     "start_time": "2023-05-15T09:32:00.379410",
     "status": "completed"
    },
    "tags": []
   },
   "outputs": [],
   "source": [
    "fig, ax = plt.subplots(ncols = 4, figsize = (16,4))\n",
    "axis = sc.pl.violin(dataset, \"n_genes_by_counts\", jitter = 0.4, ax = ax[0], show = False)\n",
    "axis.grid(False)\n",
    "axis.set_title(\"Unique Genes per cell\")\n",
    "axis.tick_params(axis = \"x\", bottom =False, labelbottom =False)\n",
    "axis.set_ylabel(\"# genes\")\n",
    "axis.axhline(y = 100, color = \"black\", label = \"cutoff\")\n",
    "axis.legend(fontsize = 14, loc = \"upper right\")\n",
    "\n",
    "axis = sc.pl.violin(dataset, \"pct_counts_mt\", jitter = 0.4, ax = ax[1], show = False)\n",
    "axis.grid(False)\n",
    "axis.set_title(\"Mitochondrial Fraction\")\n",
    "axis.tick_params(axis = \"x\", bottom =False, labelbottom =False)\n",
    "axis.set_ylabel(\"% mitochondrial genes\")\n",
    "axis.axhline(y = 10, color = \"black\", label = \"cutoff\")\n",
    "axis.legend(fontsize = 14, loc = \"upper right\")\n",
    "\n",
    "axis = sc.pl.violin(dataset, \"pct_counts_hb\", jitter = 0.4, ax = ax[2], show = False, size =2)\n",
    "axis.grid(False)\n",
    "axis.set_title(\"Hemoglobin Fraction\")\n",
    "axis.tick_params(axis = \"x\", bottom =False, labelbottom =False)\n",
    "axis.set_ylabel(\"% hemoglobin genes\")\n",
    "axis.axhline(y = 3, color = \"black\", label = \"cutoff\")\n",
    "axis.legend(fontsize = 14, loc = \"upper right\")\n",
    "#axis.set_ylim(0,5)\n",
    "\n",
    "axis = sc.pl.violin(dataset, \"pct_counts_ribo\", jitter = 0.4, ax = ax[3], show = False)\n",
    "axis.grid(False)\n",
    "axis.set_title(\"Ribosomal Fraction\")\n",
    "axis.tick_params(axis = \"x\", bottom =False, labelbottom =False)\n",
    "axis.set_ylabel(\"% ribosome genes\")\n",
    "\n",
    "plt.tight_layout()\n",
    "#plt.savefig(f\"{outputDir}08_gene_based_filtering.pdf\", dpi = 300)\n",
    "plt.show()\n",
    "\n"
   ]
  },
  {
   "cell_type": "code",
   "execution_count": null,
   "id": "d7ade754-843e-4840-8707-426613d8c0c5",
   "metadata": {
    "execution": {
     "iopub.execute_input": "2023-05-15T09:32:00.854574Z",
     "iopub.status.busy": "2023-05-15T09:32:00.854402Z",
     "iopub.status.idle": "2023-05-15T09:32:00.863311Z",
     "shell.execute_reply": "2023-05-15T09:32:00.862965Z"
    },
    "papermill": {
     "duration": 0.014531,
     "end_time": "2023-05-15T09:32:00.864048",
     "exception": false,
     "start_time": "2023-05-15T09:32:00.849517",
     "status": "completed"
    },
    "tags": []
   },
   "outputs": [],
   "source": [
    "dataset = dataset[dataset.obs.pct_counts_mt < 10, :]\n",
    "dataset = dataset[dataset.obs.n_genes_by_counts > 100, :]\n",
    "dataset = dataset[dataset.obs.pct_counts_hb < 3, :]\n",
    "dataset"
   ]
  },
  {
   "cell_type": "code",
   "execution_count": null,
   "id": "1941fa36-e865-4500-b586-f7a32d142c9b",
   "metadata": {
    "execution": {
     "iopub.execute_input": "2023-05-15T09:32:00.873019Z",
     "iopub.status.busy": "2023-05-15T09:32:00.872843Z",
     "iopub.status.idle": "2023-05-15T09:32:00.875517Z",
     "shell.execute_reply": "2023-05-15T09:32:00.875223Z"
    },
    "papermill": {
     "duration": 0.008054,
     "end_time": "2023-05-15T09:32:00.876267",
     "exception": false,
     "start_time": "2023-05-15T09:32:00.868213",
     "status": "completed"
    },
    "tags": []
   },
   "outputs": [],
   "source": [
    "metadata.columns"
   ]
  },
  {
   "cell_type": "code",
   "execution_count": null,
   "id": "2e0ff8c3-2aa9-4a01-9b88-5912a6734447",
   "metadata": {
    "execution": {
     "iopub.execute_input": "2023-05-15T09:32:00.885335Z",
     "iopub.status.busy": "2023-05-15T09:32:00.885104Z",
     "iopub.status.idle": "2023-05-15T09:32:00.931092Z",
     "shell.execute_reply": "2023-05-15T09:32:00.930657Z"
    },
    "papermill": {
     "duration": 0.051671,
     "end_time": "2023-05-15T09:32:00.932172",
     "exception": false,
     "start_time": "2023-05-15T09:32:00.880501",
     "status": "completed"
    },
    "tags": []
   },
   "outputs": [],
   "source": [
    "for col in metadata.columns:\n",
    "    dataset.obs[col] = metadata.loc[metadata[\"Run\"] == sample_name, col].to_list()[0]"
   ]
  },
  {
   "cell_type": "code",
   "execution_count": null,
   "id": "b84578d3-d63e-419c-a272-a0b8317d05ab",
   "metadata": {
    "execution": {
     "iopub.execute_input": "2023-05-15T09:32:00.941945Z",
     "iopub.status.busy": "2023-05-15T09:32:00.941759Z",
     "iopub.status.idle": "2023-05-15T09:32:01.585914Z",
     "shell.execute_reply": "2023-05-15T09:32:01.585430Z"
    },
    "papermill": {
     "duration": 0.650459,
     "end_time": "2023-05-15T09:32:01.587264",
     "exception": false,
     "start_time": "2023-05-15T09:32:00.936805",
     "status": "completed"
    },
    "tags": []
   },
   "outputs": [],
   "source": [
    "dataset.write(f\"../../int_data/{sample_name}_qc.h5ad\")"
   ]
  },
  {
   "cell_type": "code",
   "execution_count": null,
   "id": "501b33a0-432d-415f-ae82-50723484b85d",
   "metadata": {
    "execution": {
     "iopub.execute_input": "2023-05-15T09:32:01.597052Z",
     "iopub.status.busy": "2023-05-15T09:32:01.596893Z",
     "iopub.status.idle": "2023-05-15T09:32:01.599842Z",
     "shell.execute_reply": "2023-05-15T09:32:01.599512Z"
    },
    "papermill": {
     "duration": 0.008457,
     "end_time": "2023-05-15T09:32:01.600634",
     "exception": false,
     "start_time": "2023-05-15T09:32:01.592177",
     "status": "completed"
    },
    "tags": []
   },
   "outputs": [],
   "source": [
    "dataset"
   ]
  }
 ],
 "metadata": {
  "kernelspec": {
   "display_name": "py_R",
   "language": "python",
   "name": "python_r"
  },
  "language_info": {
   "codemirror_mode": {
    "name": "ipython",
    "version": 3
   },
   "file_extension": ".py",
   "mimetype": "text/x-python",
   "name": "python",
   "nbconvert_exporter": "python",
   "pygments_lexer": "ipython3",
   "version": "3.10.9"
  },
  "papermill": {
   "default_parameters": {},
   "duration": 110.331331,
   "end_time": "2023-05-15T09:32:02.922239",
   "environment_variables": {},
   "exception": null,
   "input_path": "template.ipynb",
   "output_path": "SRR13329127.ipynb",
   "parameters": {
    "sample_name": "SRR13329127"
   },
   "start_time": "2023-05-15T09:30:12.590908",
   "version": "2.4.0"
  }
 },
 "nbformat": 4,
 "nbformat_minor": 5
}
