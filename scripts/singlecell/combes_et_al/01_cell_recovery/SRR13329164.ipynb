{
 "cells": [
  {
   "cell_type": "code",
   "execution_count": null,
   "id": "4c0f2fa8-5232-4f47-a7ec-6c9bbabe50e2",
   "metadata": {
    "execution": {
     "iopub.execute_input": "2023-05-15T09:33:27.448887Z",
     "iopub.status.busy": "2023-05-15T09:33:27.448728Z",
     "iopub.status.idle": "2023-05-15T09:33:33.224893Z",
     "shell.execute_reply": "2023-05-15T09:33:33.224469Z"
    },
    "papermill": {
     "duration": 5.782354,
     "end_time": "2023-05-15T09:33:33.225991",
     "exception": false,
     "start_time": "2023-05-15T09:33:27.443637",
     "status": "completed"
    },
    "tags": [
     "parameters"
    ]
   },
   "outputs": [],
   "source": [
    "sample_name = \"SRR13329143\""
   ]
  },
  {
   "cell_type": "code",
   "execution_count": null,
   "id": "92dd4147",
   "metadata": {
    "execution": {
     "iopub.execute_input": "2023-05-15T09:33:33.233541Z",
     "iopub.status.busy": "2023-05-15T09:33:33.233398Z",
     "iopub.status.idle": "2023-05-15T09:33:33.235423Z",
     "shell.execute_reply": "2023-05-15T09:33:33.235124Z"
    },
    "papermill": {
     "duration": 0.005635,
     "end_time": "2023-05-15T09:33:33.236189",
     "exception": false,
     "start_time": "2023-05-15T09:33:33.230554",
     "status": "completed"
    },
    "tags": [
     "injected-parameters"
    ]
   },
   "outputs": [],
   "source": [
    "# Parameters\n",
    "sample_name = \"SRR13329164\"\n"
   ]
  },
  {
   "cell_type": "code",
   "execution_count": null,
   "id": "f87ed95b-2b67-4a5a-8fe2-47359b1dd2a9",
   "metadata": {
    "execution": {
     "iopub.execute_input": "2023-05-15T09:33:33.241141Z",
     "iopub.status.busy": "2023-05-15T09:33:33.240909Z",
     "iopub.status.idle": "2023-05-15T09:33:33.243149Z",
     "shell.execute_reply": "2023-05-15T09:33:33.242822Z"
    },
    "papermill": {
     "duration": 0.005527,
     "end_time": "2023-05-15T09:33:33.243892",
     "exception": false,
     "start_time": "2023-05-15T09:33:33.238365",
     "status": "completed"
    },
    "tags": []
   },
   "outputs": [],
   "source": [
    "import warnings\n",
    "warnings.simplefilter(action='ignore', category=FutureWarning)\n",
    "warnings.simplefilter(action='ignore', category=UserWarning)"
   ]
  },
  {
   "cell_type": "code",
   "execution_count": null,
   "id": "85161f19-b2c5-490b-8cab-c2cf9653b304",
   "metadata": {
    "execution": {
     "iopub.execute_input": "2023-05-15T09:33:33.248824Z",
     "iopub.status.busy": "2023-05-15T09:33:33.248700Z",
     "iopub.status.idle": "2023-05-15T09:33:41.602080Z",
     "shell.execute_reply": "2023-05-15T09:33:41.601619Z"
    },
    "papermill": {
     "duration": 8.357247,
     "end_time": "2023-05-15T09:33:41.603402",
     "exception": false,
     "start_time": "2023-05-15T09:33:33.246155",
     "status": "completed"
    },
    "tags": []
   },
   "outputs": [],
   "source": [
    "import gc\n",
    "import scanpy as sc\n",
    "import muon as mu\n",
    "import seaborn as sns\n",
    "import os\n",
    "import pandas as pd\n",
    "from matplotlib import pyplot as plt\n",
    "\n",
    "os.environ['R_HOME'] = '/gpfs/bwfor/work/ws/hd_fu399-conda/conda/envs/python_R/lib/R/'\n",
    "import anndata2ri\n",
    "import logging\n",
    "\n",
    "import rpy2.rinterface_lib.callbacks as rcb\n",
    "import rpy2.robjects as ro\n",
    "\n",
    "rcb.logger.setLevel(logging.ERROR)\n",
    "ro.pandas2ri.activate()\n",
    "anndata2ri.activate()\n",
    "\n",
    "%load_ext rpy2.ipython"
   ]
  },
  {
   "cell_type": "code",
   "execution_count": null,
   "id": "fc4ade78-b728-4704-9db6-45fbaab62ba1",
   "metadata": {
    "execution": {
     "iopub.execute_input": "2023-05-15T09:33:41.611307Z",
     "iopub.status.busy": "2023-05-15T09:33:41.611049Z",
     "iopub.status.idle": "2023-05-15T09:34:15.584148Z",
     "shell.execute_reply": "2023-05-15T09:34:15.583653Z"
    },
    "papermill": {
     "duration": 33.977236,
     "end_time": "2023-05-15T09:34:15.585369",
     "exception": false,
     "start_time": "2023-05-15T09:33:41.608133",
     "status": "completed"
    },
    "tags": []
   },
   "outputs": [],
   "source": [
    "%%R\n",
    "library(SoupX)\n",
    "library(Seurat)\n",
    "library(scater)\n",
    "library(scDblFinder)\n",
    "library(BiocParallel)\n",
    "library(MuDataSeurat)\n",
    "library(DropletUtils)"
   ]
  },
  {
   "cell_type": "code",
   "execution_count": null,
   "id": "f7424d90-7690-4290-8651-1db3f9df3a35",
   "metadata": {
    "execution": {
     "iopub.execute_input": "2023-05-15T09:34:15.592868Z",
     "iopub.status.busy": "2023-05-15T09:34:15.592716Z",
     "iopub.status.idle": "2023-05-15T09:34:15.598512Z",
     "shell.execute_reply": "2023-05-15T09:34:15.598200Z"
    },
    "papermill": {
     "duration": 0.009511,
     "end_time": "2023-05-15T09:34:15.599297",
     "exception": false,
     "start_time": "2023-05-15T09:34:15.589786",
     "status": "completed"
    },
    "tags": []
   },
   "outputs": [],
   "source": [
    "metadata = pd.read_csv(\"../../combes_metadata.txt\")"
   ]
  },
  {
   "cell_type": "code",
   "execution_count": null,
   "id": "2574ecf1-bad4-4c33-8f3f-718a358727ab",
   "metadata": {
    "execution": {
     "iopub.execute_input": "2023-05-15T09:34:15.604450Z",
     "iopub.status.busy": "2023-05-15T09:34:15.604317Z",
     "iopub.status.idle": "2023-05-15T09:34:15.659268Z",
     "shell.execute_reply": "2023-05-15T09:34:15.658916Z"
    },
    "papermill": {
     "duration": 0.058686,
     "end_time": "2023-05-15T09:34:15.660283",
     "exception": false,
     "start_time": "2023-05-15T09:34:15.601597",
     "status": "completed"
    },
    "tags": []
   },
   "outputs": [],
   "source": [
    "raw_input = f\"/home/hd/hd_hd/hd_fu399/sds-hd/sd21k006/scRNAseq/revision_natcomm/combes_et_al/fetchngs/results/fastq/{sample_name}/{sample_name}/outs/raw_feature_bc_matrix.h5\""
   ]
  },
  {
   "cell_type": "code",
   "execution_count": null,
   "id": "e266d388-1802-435c-93a5-90067358739c",
   "metadata": {
    "execution": {
     "iopub.execute_input": "2023-05-15T09:34:15.666324Z",
     "iopub.status.busy": "2023-05-15T09:34:15.666193Z",
     "iopub.status.idle": "2023-05-15T09:34:16.009554Z",
     "shell.execute_reply": "2023-05-15T09:34:16.009121Z"
    },
    "papermill": {
     "duration": 0.347951,
     "end_time": "2023-05-15T09:34:16.010547",
     "exception": false,
     "start_time": "2023-05-15T09:34:15.662596",
     "status": "completed"
    },
    "tags": []
   },
   "outputs": [],
   "source": [
    "dataset = sc.read_10x_h5(raw_input)\n",
    "dataset.var_names_make_unique()\n",
    "dataset.obs_names_make_unique()\n",
    "\n",
    "dataset.layers[\"raw_counts\"] = dataset.X.copy()\n",
    "data_tod = dataset.layers[\"raw_counts\"].T.copy()\n",
    "\n",
    "dataset"
   ]
  },
  {
   "cell_type": "code",
   "execution_count": null,
   "id": "af9f5892-ed31-42a6-991b-4e096f582cef",
   "metadata": {
    "execution": {
     "iopub.execute_input": "2023-05-15T09:34:16.016928Z",
     "iopub.status.busy": "2023-05-15T09:34:16.016768Z",
     "iopub.status.idle": "2023-05-15T09:34:16.040111Z",
     "shell.execute_reply": "2023-05-15T09:34:16.039707Z"
    },
    "papermill": {
     "duration": 0.027377,
     "end_time": "2023-05-15T09:34:16.041162",
     "exception": false,
     "start_time": "2023-05-15T09:34:16.013785",
     "status": "completed"
    },
    "tags": []
   },
   "outputs": [],
   "source": [
    "sce = dataset.copy()"
   ]
  },
  {
   "cell_type": "code",
   "execution_count": null,
   "id": "d03f2caf-8e74-430e-b045-0ab80401d165",
   "metadata": {
    "execution": {
     "iopub.execute_input": "2023-05-15T09:34:16.047298Z",
     "iopub.status.busy": "2023-05-15T09:34:16.047126Z",
     "iopub.status.idle": "2023-05-15T09:34:58.005343Z",
     "shell.execute_reply": "2023-05-15T09:34:58.004762Z"
    },
    "papermill": {
     "duration": 41.962593,
     "end_time": "2023-05-15T09:34:58.006674",
     "exception": false,
     "start_time": "2023-05-15T09:34:16.044081",
     "status": "completed"
    },
    "tags": []
   },
   "outputs": [],
   "source": [
    "%%R -i sce -o empty_drop_output\n",
    "set.seed(187)\n",
    "empty_drop_output <- emptyDrops(assay(sce))"
   ]
  },
  {
   "cell_type": "code",
   "execution_count": null,
   "id": "2a34a54b-3ae2-44d6-8679-8769228c5b66",
   "metadata": {
    "execution": {
     "iopub.execute_input": "2023-05-15T09:34:58.015273Z",
     "iopub.status.busy": "2023-05-15T09:34:58.015108Z",
     "iopub.status.idle": "2023-05-15T09:34:58.037859Z",
     "shell.execute_reply": "2023-05-15T09:34:58.037550Z"
    },
    "papermill": {
     "duration": 0.026868,
     "end_time": "2023-05-15T09:34:58.038684",
     "exception": false,
     "start_time": "2023-05-15T09:34:58.011816",
     "status": "completed"
    },
    "tags": []
   },
   "outputs": [],
   "source": [
    "non_empty_barcodes = empty_drop_output[empty_drop_output[\"FDR\"] < 0.001].index\n",
    "dataset = dataset[dataset.obs.index.isin(non_empty_barcodes), :]\n",
    "dataset"
   ]
  },
  {
   "cell_type": "code",
   "execution_count": null,
   "id": "016a91e5-1bef-46fb-b91e-4fb9a6870c44",
   "metadata": {
    "execution": {
     "iopub.execute_input": "2023-05-15T09:34:58.045728Z",
     "iopub.status.busy": "2023-05-15T09:34:58.045565Z",
     "iopub.status.idle": "2023-05-15T09:35:00.692844Z",
     "shell.execute_reply": "2023-05-15T09:35:00.692357Z"
    },
    "papermill": {
     "duration": 2.652262,
     "end_time": "2023-05-15T09:35:00.694008",
     "exception": false,
     "start_time": "2023-05-15T09:34:58.041746",
     "status": "completed"
    },
    "tags": []
   },
   "outputs": [],
   "source": [
    "rna_assay = dataset.copy()\n",
    "sc.pp.normalize_per_cell(rna_assay)\n",
    "sc.pp.log1p(rna_assay)\n",
    "sc.pp.pca(rna_assay)\n",
    "sc.pp.neighbors(rna_assay)\n",
    "sc.tl.leiden(rna_assay, key_added=\"soupx_groups\")\n",
    "\n",
    "soupx_groups = rna_assay.obs[\"soupx_groups\"]\n",
    "\n",
    "del rna_assay\n",
    "\n",
    "genes = dataset.var_names\n",
    "cells = dataset.obs_names\n",
    "data = dataset.X.T.copy()"
   ]
  },
  {
   "cell_type": "code",
   "execution_count": null,
   "id": "9db4ea1f-1580-4f43-a3f0-86002397cd98",
   "metadata": {
    "execution": {
     "iopub.execute_input": "2023-05-15T09:35:00.700877Z",
     "iopub.status.busy": "2023-05-15T09:35:00.700709Z",
     "iopub.status.idle": "2023-05-15T09:35:08.960913Z",
     "shell.execute_reply": "2023-05-15T09:35:08.960501Z"
    },
    "papermill": {
     "duration": 8.264695,
     "end_time": "2023-05-15T09:35:08.962055",
     "exception": false,
     "start_time": "2023-05-15T09:35:00.697360",
     "status": "completed"
    },
    "tags": []
   },
   "outputs": [],
   "source": [
    "%%R -i data -i data_tod -i genes -i cells -i soupx_groups -o out \n",
    "set.seed(187)\n",
    "# specify row and column names of data\n",
    "rownames(data) = genes\n",
    "colnames(data) = cells\n",
    "# ensure correct sparse format for table of counts and table of droplets\n",
    "data <- as(data, \"sparseMatrix\")\n",
    "data_tod <- as(data_tod, \"sparseMatrix\")\n",
    "\n",
    "# Generate SoupChannel Object for SoupX \n",
    "sc = SoupChannel(data_tod, data, calcSoupProfile = FALSE)\n",
    "\n",
    "# Add extra meta data to the SoupChannel object\n",
    "soupProf = data.frame(row.names = rownames(data),\n",
    "                      est = rowSums(data)/sum(data),\n",
    "                      counts = rowSums(data))\n",
    "sc = setSoupProfile(sc, soupProf)\n",
    "# Set cluster information in SoupChannel\n",
    "sc = setClusters(sc, soupx_groups)\n",
    "\n",
    "# Estimate contamination fraction\n",
    "sc  = autoEstCont(sc, doPlot=FALSE, forceAccept = TRUE)\n",
    "# Infer corrected table of counts and rount to integer\n",
    "out = adjustCounts(sc, roundToInt = TRUE)"
   ]
  },
  {
   "cell_type": "code",
   "execution_count": null,
   "id": "32555d5e-5fa3-46dd-a4e0-ddc96ea265e2",
   "metadata": {
    "execution": {
     "iopub.execute_input": "2023-05-15T09:35:08.970207Z",
     "iopub.status.busy": "2023-05-15T09:35:08.969988Z",
     "iopub.status.idle": "2023-05-15T09:35:08.980615Z",
     "shell.execute_reply": "2023-05-15T09:35:08.980216Z"
    },
    "papermill": {
     "duration": 0.014847,
     "end_time": "2023-05-15T09:35:08.981611",
     "exception": false,
     "start_time": "2023-05-15T09:35:08.966764",
     "status": "completed"
    },
    "tags": []
   },
   "outputs": [],
   "source": [
    "dataset.layers[\"soupX_counts\"] = out.T\n",
    "dataset.X = dataset.layers[\"soupX_counts\"].copy()"
   ]
  },
  {
   "cell_type": "code",
   "execution_count": null,
   "id": "e27da7df-e094-4d2a-9109-5a363e012175",
   "metadata": {
    "execution": {
     "iopub.execute_input": "2023-05-15T09:35:08.988128Z",
     "iopub.status.busy": "2023-05-15T09:35:08.987970Z",
     "iopub.status.idle": "2023-05-15T09:35:08.994945Z",
     "shell.execute_reply": "2023-05-15T09:35:08.994644Z"
    },
    "papermill": {
     "duration": 0.011086,
     "end_time": "2023-05-15T09:35:08.995717",
     "exception": false,
     "start_time": "2023-05-15T09:35:08.984631",
     "status": "completed"
    },
    "tags": []
   },
   "outputs": [],
   "source": [
    "data_mat = dataset.X.T"
   ]
  },
  {
   "cell_type": "code",
   "execution_count": null,
   "id": "80a993b1-5ccb-4697-9187-1beb7ab8aff9",
   "metadata": {
    "execution": {
     "iopub.execute_input": "2023-05-15T09:35:09.001604Z",
     "iopub.status.busy": "2023-05-15T09:35:09.001326Z",
     "iopub.status.idle": "2023-05-15T09:35:24.975520Z",
     "shell.execute_reply": "2023-05-15T09:35:24.975066Z"
    },
    "papermill": {
     "duration": 15.978508,
     "end_time": "2023-05-15T09:35:24.976809",
     "exception": false,
     "start_time": "2023-05-15T09:35:08.998301",
     "status": "completed"
    },
    "tags": []
   },
   "outputs": [],
   "source": [
    "%%R -i data_mat -o droplet_class\n",
    "\n",
    "set.seed(187)\n",
    "sce = scDblFinder(\n",
    "    SingleCellExperiment(\n",
    "        list(counts=data_mat),\n",
    "    ) \n",
    ")\n",
    "droplet_class = sce$scDblFinder.class"
   ]
  },
  {
   "cell_type": "code",
   "execution_count": null,
   "id": "d4dd6e9d-fcf2-41fc-8457-c8e0a3cb2c71",
   "metadata": {
    "execution": {
     "iopub.execute_input": "2023-05-15T09:35:24.985252Z",
     "iopub.status.busy": "2023-05-15T09:35:24.985065Z",
     "iopub.status.idle": "2023-05-15T09:35:24.989162Z",
     "shell.execute_reply": "2023-05-15T09:35:24.988840Z"
    },
    "papermill": {
     "duration": 0.008488,
     "end_time": "2023-05-15T09:35:24.989941",
     "exception": false,
     "start_time": "2023-05-15T09:35:24.981453",
     "status": "completed"
    },
    "tags": []
   },
   "outputs": [],
   "source": [
    "dataset.obs[\"scDblFinder_class\"] = droplet_class\n",
    "dataset.obs.scDblFinder_class.value_counts()\n",
    "dataset"
   ]
  },
  {
   "cell_type": "code",
   "execution_count": null,
   "id": "28c95014-2d6c-477f-95cb-9f9f0507520c",
   "metadata": {
    "execution": {
     "iopub.execute_input": "2023-05-15T09:35:24.996022Z",
     "iopub.status.busy": "2023-05-15T09:35:24.995835Z",
     "iopub.status.idle": "2023-05-15T09:35:25.012201Z",
     "shell.execute_reply": "2023-05-15T09:35:25.011872Z"
    },
    "papermill": {
     "duration": 0.020495,
     "end_time": "2023-05-15T09:35:25.013134",
     "exception": false,
     "start_time": "2023-05-15T09:35:24.992639",
     "status": "completed"
    },
    "tags": []
   },
   "outputs": [],
   "source": [
    "dataset = dataset[dataset.obs[\"scDblFinder_class\"] == 1]"
   ]
  },
  {
   "cell_type": "code",
   "execution_count": null,
   "id": "3e22f9e0-bfcb-416c-a151-a9bca3bec3b9",
   "metadata": {
    "execution": {
     "iopub.execute_input": "2023-05-15T09:35:25.019315Z",
     "iopub.status.busy": "2023-05-15T09:35:25.019181Z",
     "iopub.status.idle": "2023-05-15T09:35:25.092707Z",
     "shell.execute_reply": "2023-05-15T09:35:25.092268Z"
    },
    "papermill": {
     "duration": 0.077604,
     "end_time": "2023-05-15T09:35:25.093573",
     "exception": false,
     "start_time": "2023-05-15T09:35:25.015969",
     "status": "completed"
    },
    "tags": []
   },
   "outputs": [],
   "source": [
    "# mitochondrial genes\n",
    "dataset.var[\"mt\"] = dataset.var_names.str.startswith(\"MT-\")\n",
    "# ribosomal genes\n",
    "dataset.var[\"ribo\"] = dataset.var_names.str.startswith((\"RPS\", \"RPL\"))\n",
    "# hemoglobin genes.\n",
    "dataset.var[\"hb\"] = dataset.var_names.str.contains((\"^HB[^(P)]\"))\n",
    "\n",
    "sc.pp.calculate_qc_metrics(dataset,\n",
    "                           qc_vars=['mt', 'ribo', 'hb'],\n",
    "                           percent_top=None,\n",
    "                           log1p=False,\n",
    "                           inplace=True)\n",
    "dataset"
   ]
  },
  {
   "cell_type": "code",
   "execution_count": null,
   "id": "34deee79-4043-428f-8575-aa57b45f6369",
   "metadata": {
    "execution": {
     "iopub.execute_input": "2023-05-15T09:35:25.100945Z",
     "iopub.status.busy": "2023-05-15T09:35:25.100754Z",
     "iopub.status.idle": "2023-05-15T09:35:25.528033Z",
     "shell.execute_reply": "2023-05-15T09:35:25.527624Z"
    },
    "papermill": {
     "duration": 0.431788,
     "end_time": "2023-05-15T09:35:25.528994",
     "exception": false,
     "start_time": "2023-05-15T09:35:25.097206",
     "status": "completed"
    },
    "tags": []
   },
   "outputs": [],
   "source": [
    "fig, ax = plt.subplots(ncols = 4, figsize = (16,4))\n",
    "axis = sc.pl.violin(dataset, \"n_genes_by_counts\", jitter = 0.4, ax = ax[0], show = False)\n",
    "axis.grid(False)\n",
    "axis.set_title(\"Unique Genes per cell\")\n",
    "axis.tick_params(axis = \"x\", bottom =False, labelbottom =False)\n",
    "axis.set_ylabel(\"# genes\")\n",
    "axis.axhline(y = 100, color = \"black\", label = \"cutoff\")\n",
    "axis.legend(fontsize = 14, loc = \"upper right\")\n",
    "\n",
    "axis = sc.pl.violin(dataset, \"pct_counts_mt\", jitter = 0.4, ax = ax[1], show = False)\n",
    "axis.grid(False)\n",
    "axis.set_title(\"Mitochondrial Fraction\")\n",
    "axis.tick_params(axis = \"x\", bottom =False, labelbottom =False)\n",
    "axis.set_ylabel(\"% mitochondrial genes\")\n",
    "axis.axhline(y = 10, color = \"black\", label = \"cutoff\")\n",
    "axis.legend(fontsize = 14, loc = \"upper right\")\n",
    "\n",
    "axis = sc.pl.violin(dataset, \"pct_counts_hb\", jitter = 0.4, ax = ax[2], show = False, size =2)\n",
    "axis.grid(False)\n",
    "axis.set_title(\"Hemoglobin Fraction\")\n",
    "axis.tick_params(axis = \"x\", bottom =False, labelbottom =False)\n",
    "axis.set_ylabel(\"% hemoglobin genes\")\n",
    "axis.axhline(y = 3, color = \"black\", label = \"cutoff\")\n",
    "axis.legend(fontsize = 14, loc = \"upper right\")\n",
    "#axis.set_ylim(0,5)\n",
    "\n",
    "axis = sc.pl.violin(dataset, \"pct_counts_ribo\", jitter = 0.4, ax = ax[3], show = False)\n",
    "axis.grid(False)\n",
    "axis.set_title(\"Ribosomal Fraction\")\n",
    "axis.tick_params(axis = \"x\", bottom =False, labelbottom =False)\n",
    "axis.set_ylabel(\"% ribosome genes\")\n",
    "\n",
    "plt.tight_layout()\n",
    "#plt.savefig(f\"{outputDir}08_gene_based_filtering.pdf\", dpi = 300)\n",
    "plt.show()\n",
    "\n"
   ]
  },
  {
   "cell_type": "code",
   "execution_count": null,
   "id": "d7ade754-843e-4840-8707-426613d8c0c5",
   "metadata": {
    "execution": {
     "iopub.execute_input": "2023-05-15T09:35:25.538026Z",
     "iopub.status.busy": "2023-05-15T09:35:25.537859Z",
     "iopub.status.idle": "2023-05-15T09:35:25.546274Z",
     "shell.execute_reply": "2023-05-15T09:35:25.545941Z"
    },
    "papermill": {
     "duration": 0.013707,
     "end_time": "2023-05-15T09:35:25.547053",
     "exception": false,
     "start_time": "2023-05-15T09:35:25.533346",
     "status": "completed"
    },
    "tags": []
   },
   "outputs": [],
   "source": [
    "dataset = dataset[dataset.obs.pct_counts_mt < 10, :]\n",
    "dataset = dataset[dataset.obs.n_genes_by_counts > 100, :]\n",
    "dataset = dataset[dataset.obs.pct_counts_hb < 3, :]\n",
    "dataset"
   ]
  },
  {
   "cell_type": "code",
   "execution_count": null,
   "id": "1941fa36-e865-4500-b586-f7a32d142c9b",
   "metadata": {
    "execution": {
     "iopub.execute_input": "2023-05-15T09:35:25.556863Z",
     "iopub.status.busy": "2023-05-15T09:35:25.556670Z",
     "iopub.status.idle": "2023-05-15T09:35:25.559611Z",
     "shell.execute_reply": "2023-05-15T09:35:25.559297Z"
    },
    "papermill": {
     "duration": 0.008563,
     "end_time": "2023-05-15T09:35:25.560381",
     "exception": false,
     "start_time": "2023-05-15T09:35:25.551818",
     "status": "completed"
    },
    "tags": []
   },
   "outputs": [],
   "source": [
    "metadata.columns"
   ]
  },
  {
   "cell_type": "code",
   "execution_count": null,
   "id": "2e0ff8c3-2aa9-4a01-9b88-5912a6734447",
   "metadata": {
    "execution": {
     "iopub.execute_input": "2023-05-15T09:35:25.569010Z",
     "iopub.status.busy": "2023-05-15T09:35:25.568792Z",
     "iopub.status.idle": "2023-05-15T09:35:25.598795Z",
     "shell.execute_reply": "2023-05-15T09:35:25.598357Z"
    },
    "papermill": {
     "duration": 0.035634,
     "end_time": "2023-05-15T09:35:25.599951",
     "exception": false,
     "start_time": "2023-05-15T09:35:25.564317",
     "status": "completed"
    },
    "tags": []
   },
   "outputs": [],
   "source": [
    "for col in metadata.columns:\n",
    "    dataset.obs[col] = metadata.loc[metadata[\"Run\"] == sample_name, col].to_list()[0]"
   ]
  },
  {
   "cell_type": "code",
   "execution_count": null,
   "id": "b84578d3-d63e-419c-a272-a0b8317d05ab",
   "metadata": {
    "execution": {
     "iopub.execute_input": "2023-05-15T09:35:25.609498Z",
     "iopub.status.busy": "2023-05-15T09:35:25.609306Z",
     "iopub.status.idle": "2023-05-15T09:35:26.204315Z",
     "shell.execute_reply": "2023-05-15T09:35:26.203818Z"
    },
    "papermill": {
     "duration": 0.60086,
     "end_time": "2023-05-15T09:35:26.205514",
     "exception": false,
     "start_time": "2023-05-15T09:35:25.604654",
     "status": "completed"
    },
    "tags": []
   },
   "outputs": [],
   "source": [
    "dataset.write(f\"../../int_data/{sample_name}_qc.h5ad\")"
   ]
  },
  {
   "cell_type": "code",
   "execution_count": null,
   "id": "501b33a0-432d-415f-ae82-50723484b85d",
   "metadata": {
    "execution": {
     "iopub.execute_input": "2023-05-15T09:35:26.227456Z",
     "iopub.status.busy": "2023-05-15T09:35:26.227262Z",
     "iopub.status.idle": "2023-05-15T09:35:26.230415Z",
     "shell.execute_reply": "2023-05-15T09:35:26.230058Z"
    },
    "papermill": {
     "duration": 0.009225,
     "end_time": "2023-05-15T09:35:26.231225",
     "exception": false,
     "start_time": "2023-05-15T09:35:26.222000",
     "status": "completed"
    },
    "tags": []
   },
   "outputs": [],
   "source": [
    "dataset"
   ]
  }
 ],
 "metadata": {
  "kernelspec": {
   "display_name": "py_R",
   "language": "python",
   "name": "python_r"
  },
  "language_info": {
   "codemirror_mode": {
    "name": "ipython",
    "version": 3
   },
   "file_extension": ".py",
   "mimetype": "text/x-python",
   "name": "python",
   "nbconvert_exporter": "python",
   "pygments_lexer": "ipython3",
   "version": "3.10.9"
  },
  "papermill": {
   "default_parameters": {},
   "duration": 133.290351,
   "end_time": "2023-05-15T09:35:27.578209",
   "environment_variables": {},
   "exception": null,
   "input_path": "template.ipynb",
   "output_path": "SRR13329164.ipynb",
   "parameters": {
    "sample_name": "SRR13329164"
   },
   "start_time": "2023-05-15T09:33:14.287858",
   "version": "2.4.0"
  }
 },
 "nbformat": 4,
 "nbformat_minor": 5
}
