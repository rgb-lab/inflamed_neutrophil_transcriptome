{
 "cells": [
  {
   "cell_type": "code",
   "execution_count": null,
   "id": "4c0f2fa8-5232-4f47-a7ec-6c9bbabe50e2",
   "metadata": {
    "execution": {
     "iopub.execute_input": "2023-05-15T07:52:04.833369Z",
     "iopub.status.busy": "2023-05-15T07:52:04.833216Z",
     "iopub.status.idle": "2023-05-15T07:52:04.838165Z",
     "shell.execute_reply": "2023-05-15T07:52:04.837662Z"
    },
    "papermill": {
     "duration": 0.00937,
     "end_time": "2023-05-15T07:52:04.839184",
     "exception": false,
     "start_time": "2023-05-15T07:52:04.829814",
     "status": "completed"
    },
    "tags": [
     "parameters"
    ]
   },
   "outputs": [],
   "source": [
    "sample_name = \"SRR13329143\""
   ]
  },
  {
   "cell_type": "code",
   "execution_count": null,
   "id": "5982ef33",
   "metadata": {
    "execution": {
     "iopub.execute_input": "2023-05-15T07:52:04.844788Z",
     "iopub.status.busy": "2023-05-15T07:52:04.844653Z",
     "iopub.status.idle": "2023-05-15T07:52:04.846840Z",
     "shell.execute_reply": "2023-05-15T07:52:04.846462Z"
    },
    "papermill": {
     "duration": 0.005815,
     "end_time": "2023-05-15T07:52:04.847655",
     "exception": false,
     "start_time": "2023-05-15T07:52:04.841840",
     "status": "completed"
    },
    "tags": [
     "injected-parameters"
    ]
   },
   "outputs": [],
   "source": [
    "# Parameters\n",
    "sample_name = \"SRR13329176\"\n"
   ]
  },
  {
   "cell_type": "code",
   "execution_count": null,
   "id": "f87ed95b-2b67-4a5a-8fe2-47359b1dd2a9",
   "metadata": {
    "execution": {
     "iopub.execute_input": "2023-05-15T07:52:04.853108Z",
     "iopub.status.busy": "2023-05-15T07:52:04.852826Z",
     "iopub.status.idle": "2023-05-15T07:52:04.855261Z",
     "shell.execute_reply": "2023-05-15T07:52:04.854895Z"
    },
    "papermill": {
     "duration": 0.005997,
     "end_time": "2023-05-15T07:52:04.856072",
     "exception": false,
     "start_time": "2023-05-15T07:52:04.850075",
     "status": "completed"
    },
    "tags": []
   },
   "outputs": [],
   "source": [
    "import warnings\n",
    "warnings.simplefilter(action='ignore', category=FutureWarning)\n",
    "warnings.simplefilter(action='ignore', category=UserWarning)"
   ]
  },
  {
   "cell_type": "code",
   "execution_count": null,
   "id": "85161f19-b2c5-490b-8cab-c2cf9653b304",
   "metadata": {
    "execution": {
     "iopub.execute_input": "2023-05-15T07:52:04.861640Z",
     "iopub.status.busy": "2023-05-15T07:52:04.861380Z",
     "iopub.status.idle": "2023-05-15T07:52:09.019156Z",
     "shell.execute_reply": "2023-05-15T07:52:09.018719Z"
    },
    "papermill": {
     "duration": 4.161909,
     "end_time": "2023-05-15T07:52:09.020467",
     "exception": false,
     "start_time": "2023-05-15T07:52:04.858558",
     "status": "completed"
    },
    "tags": []
   },
   "outputs": [],
   "source": [
    "import gc\n",
    "import scanpy as sc\n",
    "import muon as mu\n",
    "import seaborn as sns\n",
    "import os\n",
    "import pandas as pd\n",
    "from matplotlib import pyplot as plt\n",
    "\n",
    "os.environ['R_HOME'] = '/gpfs/bwfor/work/ws/hd_fu399-conda/conda/envs/python_R/lib/R/'\n",
    "import anndata2ri\n",
    "import logging\n",
    "\n",
    "import rpy2.rinterface_lib.callbacks as rcb\n",
    "import rpy2.robjects as ro\n",
    "\n",
    "rcb.logger.setLevel(logging.ERROR)\n",
    "ro.pandas2ri.activate()\n",
    "anndata2ri.activate()\n",
    "\n",
    "%load_ext rpy2.ipython"
   ]
  },
  {
   "cell_type": "code",
   "execution_count": null,
   "id": "fc4ade78-b728-4704-9db6-45fbaab62ba1",
   "metadata": {
    "execution": {
     "iopub.execute_input": "2023-05-15T07:52:09.026840Z",
     "iopub.status.busy": "2023-05-15T07:52:09.026498Z",
     "iopub.status.idle": "2023-05-15T07:52:18.839820Z",
     "shell.execute_reply": "2023-05-15T07:52:18.839268Z"
    },
    "papermill": {
     "duration": 9.817765,
     "end_time": "2023-05-15T07:52:18.841298",
     "exception": false,
     "start_time": "2023-05-15T07:52:09.023533",
     "status": "completed"
    },
    "tags": []
   },
   "outputs": [],
   "source": [
    "%%R\n",
    "library(SoupX)\n",
    "library(Seurat)\n",
    "library(scater)\n",
    "library(scDblFinder)\n",
    "library(BiocParallel)\n",
    "library(MuDataSeurat)\n",
    "library(DropletUtils)"
   ]
  },
  {
   "cell_type": "code",
   "execution_count": null,
   "id": "f7424d90-7690-4290-8651-1db3f9df3a35",
   "metadata": {
    "execution": {
     "iopub.execute_input": "2023-05-15T07:52:18.849626Z",
     "iopub.status.busy": "2023-05-15T07:52:18.849425Z",
     "iopub.status.idle": "2023-05-15T07:52:18.855499Z",
     "shell.execute_reply": "2023-05-15T07:52:18.855175Z"
    },
    "papermill": {
     "duration": 0.010102,
     "end_time": "2023-05-15T07:52:18.856317",
     "exception": false,
     "start_time": "2023-05-15T07:52:18.846215",
     "status": "completed"
    },
    "tags": []
   },
   "outputs": [],
   "source": [
    "metadata = pd.read_csv(\"../../combes_metadata.txt\")"
   ]
  },
  {
   "cell_type": "code",
   "execution_count": null,
   "id": "2574ecf1-bad4-4c33-8f3f-718a358727ab",
   "metadata": {
    "execution": {
     "iopub.execute_input": "2023-05-15T07:52:18.862110Z",
     "iopub.status.busy": "2023-05-15T07:52:18.861814Z",
     "iopub.status.idle": "2023-05-15T07:52:18.863848Z",
     "shell.execute_reply": "2023-05-15T07:52:18.863551Z"
    },
    "papermill": {
     "duration": 0.00579,
     "end_time": "2023-05-15T07:52:18.864649",
     "exception": false,
     "start_time": "2023-05-15T07:52:18.858859",
     "status": "completed"
    },
    "tags": []
   },
   "outputs": [],
   "source": [
    "raw_input = f\"/home/hd/hd_hd/hd_fu399/sds-hd/sd21k006/scRNAseq/revision_natcomm/combes_et_al/fetchngs/results/fastq/{sample_name}/{sample_name}/outs/raw_feature_bc_matrix.h5\""
   ]
  },
  {
   "cell_type": "code",
   "execution_count": null,
   "id": "e266d388-1802-435c-93a5-90067358739c",
   "metadata": {
    "execution": {
     "iopub.execute_input": "2023-05-15T07:52:18.870332Z",
     "iopub.status.busy": "2023-05-15T07:52:18.870207Z",
     "iopub.status.idle": "2023-05-15T07:52:19.321325Z",
     "shell.execute_reply": "2023-05-15T07:52:19.320883Z"
    },
    "papermill": {
     "duration": 0.455128,
     "end_time": "2023-05-15T07:52:19.322376",
     "exception": false,
     "start_time": "2023-05-15T07:52:18.867248",
     "status": "completed"
    },
    "tags": []
   },
   "outputs": [],
   "source": [
    "dataset = sc.read_10x_h5(raw_input)\n",
    "dataset.var_names_make_unique()\n",
    "dataset.obs_names_make_unique()\n",
    "\n",
    "dataset.layers[\"raw_counts\"] = dataset.X.copy()\n",
    "data_tod = dataset.layers[\"raw_counts\"].T.copy()\n",
    "\n",
    "dataset"
   ]
  },
  {
   "cell_type": "code",
   "execution_count": null,
   "id": "af9f5892-ed31-42a6-991b-4e096f582cef",
   "metadata": {
    "execution": {
     "iopub.execute_input": "2023-05-15T07:52:19.328837Z",
     "iopub.status.busy": "2023-05-15T07:52:19.328656Z",
     "iopub.status.idle": "2023-05-15T07:52:19.361823Z",
     "shell.execute_reply": "2023-05-15T07:52:19.361378Z"
    },
    "papermill": {
     "duration": 0.037766,
     "end_time": "2023-05-15T07:52:19.363223",
     "exception": false,
     "start_time": "2023-05-15T07:52:19.325457",
     "status": "completed"
    },
    "tags": []
   },
   "outputs": [],
   "source": [
    "sce = dataset.copy()"
   ]
  },
  {
   "cell_type": "code",
   "execution_count": null,
   "id": "d03f2caf-8e74-430e-b045-0ab80401d165",
   "metadata": {
    "execution": {
     "iopub.execute_input": "2023-05-15T07:52:19.369631Z",
     "iopub.status.busy": "2023-05-15T07:52:19.369459Z",
     "iopub.status.idle": "2023-05-15T07:53:03.144988Z",
     "shell.execute_reply": "2023-05-15T07:53:03.144428Z"
    },
    "papermill": {
     "duration": 43.780151,
     "end_time": "2023-05-15T07:53:03.146384",
     "exception": false,
     "start_time": "2023-05-15T07:52:19.366233",
     "status": "completed"
    },
    "tags": []
   },
   "outputs": [],
   "source": [
    "%%R -i sce -o empty_drop_output\n",
    "set.seed(187)\n",
    "empty_drop_output <- emptyDrops(assay(sce))"
   ]
  },
  {
   "cell_type": "code",
   "execution_count": null,
   "id": "2a34a54b-3ae2-44d6-8679-8769228c5b66",
   "metadata": {
    "execution": {
     "iopub.execute_input": "2023-05-15T07:53:03.155739Z",
     "iopub.status.busy": "2023-05-15T07:53:03.155561Z",
     "iopub.status.idle": "2023-05-15T07:53:03.187725Z",
     "shell.execute_reply": "2023-05-15T07:53:03.187404Z"
    },
    "papermill": {
     "duration": 0.036684,
     "end_time": "2023-05-15T07:53:03.188543",
     "exception": false,
     "start_time": "2023-05-15T07:53:03.151859",
     "status": "completed"
    },
    "tags": []
   },
   "outputs": [],
   "source": [
    "non_empty_barcodes = empty_drop_output[empty_drop_output[\"FDR\"] < 0.001].index\n",
    "dataset = dataset[dataset.obs.index.isin(non_empty_barcodes), :]\n",
    "dataset"
   ]
  },
  {
   "cell_type": "code",
   "execution_count": null,
   "id": "016a91e5-1bef-46fb-b91e-4fb9a6870c44",
   "metadata": {
    "execution": {
     "iopub.execute_input": "2023-05-15T07:53:03.194863Z",
     "iopub.status.busy": "2023-05-15T07:53:03.194702Z",
     "iopub.status.idle": "2023-05-15T07:53:07.869957Z",
     "shell.execute_reply": "2023-05-15T07:53:07.869491Z"
    },
    "papermill": {
     "duration": 4.679817,
     "end_time": "2023-05-15T07:53:07.871237",
     "exception": false,
     "start_time": "2023-05-15T07:53:03.191420",
     "status": "completed"
    },
    "tags": []
   },
   "outputs": [],
   "source": [
    "rna_assay = dataset.copy()\n",
    "sc.pp.normalize_per_cell(rna_assay)\n",
    "sc.pp.log1p(rna_assay)\n",
    "sc.pp.pca(rna_assay)\n",
    "sc.pp.neighbors(rna_assay)\n",
    "sc.tl.leiden(rna_assay, key_added=\"soupx_groups\")\n",
    "\n",
    "soupx_groups = rna_assay.obs[\"soupx_groups\"]\n",
    "\n",
    "del rna_assay\n",
    "\n",
    "genes = dataset.var_names\n",
    "cells = dataset.obs_names\n",
    "data = dataset.X.T.copy()"
   ]
  },
  {
   "cell_type": "code",
   "execution_count": null,
   "id": "9db4ea1f-1580-4f43-a3f0-86002397cd98",
   "metadata": {
    "execution": {
     "iopub.execute_input": "2023-05-15T07:53:07.895792Z",
     "iopub.status.busy": "2023-05-15T07:53:07.895471Z",
     "iopub.status.idle": "2023-05-15T07:53:18.974806Z",
     "shell.execute_reply": "2023-05-15T07:53:18.974243Z"
    },
    "papermill": {
     "duration": 11.084119,
     "end_time": "2023-05-15T07:53:18.976151",
     "exception": false,
     "start_time": "2023-05-15T07:53:07.892032",
     "status": "completed"
    },
    "tags": []
   },
   "outputs": [],
   "source": [
    "%%R -i data -i data_tod -i genes -i cells -i soupx_groups -o out \n",
    "set.seed(187)\n",
    "# specify row and column names of data\n",
    "rownames(data) = genes\n",
    "colnames(data) = cells\n",
    "# ensure correct sparse format for table of counts and table of droplets\n",
    "data <- as(data, \"sparseMatrix\")\n",
    "data_tod <- as(data_tod, \"sparseMatrix\")\n",
    "\n",
    "# Generate SoupChannel Object for SoupX \n",
    "sc = SoupChannel(data_tod, data, calcSoupProfile = FALSE)\n",
    "\n",
    "# Add extra meta data to the SoupChannel object\n",
    "soupProf = data.frame(row.names = rownames(data),\n",
    "                      est = rowSums(data)/sum(data),\n",
    "                      counts = rowSums(data))\n",
    "sc = setSoupProfile(sc, soupProf)\n",
    "# Set cluster information in SoupChannel\n",
    "sc = setClusters(sc, soupx_groups)\n",
    "\n",
    "# Estimate contamination fraction\n",
    "sc  = autoEstCont(sc, doPlot=FALSE, forceAccept = TRUE)\n",
    "# Infer corrected table of counts and rount to integer\n",
    "out = adjustCounts(sc, roundToInt = TRUE)"
   ]
  },
  {
   "cell_type": "code",
   "execution_count": null,
   "id": "32555d5e-5fa3-46dd-a4e0-ddc96ea265e2",
   "metadata": {
    "execution": {
     "iopub.execute_input": "2023-05-15T07:53:18.985149Z",
     "iopub.status.busy": "2023-05-15T07:53:18.984978Z",
     "iopub.status.idle": "2023-05-15T07:53:19.013290Z",
     "shell.execute_reply": "2023-05-15T07:53:19.012863Z"
    },
    "papermill": {
     "duration": 0.03326,
     "end_time": "2023-05-15T07:53:19.014525",
     "exception": false,
     "start_time": "2023-05-15T07:53:18.981265",
     "status": "completed"
    },
    "tags": []
   },
   "outputs": [],
   "source": [
    "dataset.layers[\"soupX_counts\"] = out.T\n",
    "dataset.X = dataset.layers[\"soupX_counts\"].copy()"
   ]
  },
  {
   "cell_type": "code",
   "execution_count": null,
   "id": "e27da7df-e094-4d2a-9109-5a363e012175",
   "metadata": {
    "execution": {
     "iopub.execute_input": "2023-05-15T07:53:19.021543Z",
     "iopub.status.busy": "2023-05-15T07:53:19.021239Z",
     "iopub.status.idle": "2023-05-15T07:53:19.023614Z",
     "shell.execute_reply": "2023-05-15T07:53:19.023277Z"
    },
    "papermill": {
     "duration": 0.006583,
     "end_time": "2023-05-15T07:53:19.024377",
     "exception": false,
     "start_time": "2023-05-15T07:53:19.017794",
     "status": "completed"
    },
    "tags": []
   },
   "outputs": [],
   "source": [
    "data_mat = dataset.X.T"
   ]
  },
  {
   "cell_type": "code",
   "execution_count": null,
   "id": "80a993b1-5ccb-4697-9187-1beb7ab8aff9",
   "metadata": {
    "execution": {
     "iopub.execute_input": "2023-05-15T07:53:19.030654Z",
     "iopub.status.busy": "2023-05-15T07:53:19.030515Z",
     "iopub.status.idle": "2023-05-15T07:53:37.237003Z",
     "shell.execute_reply": "2023-05-15T07:53:37.236451Z"
    },
    "papermill": {
     "duration": 18.211055,
     "end_time": "2023-05-15T07:53:37.238341",
     "exception": false,
     "start_time": "2023-05-15T07:53:19.027286",
     "status": "completed"
    },
    "tags": []
   },
   "outputs": [],
   "source": [
    "%%R -i data_mat -o droplet_class\n",
    "\n",
    "set.seed(187)\n",
    "sce = scDblFinder(\n",
    "    SingleCellExperiment(\n",
    "        list(counts=data_mat),\n",
    "    ) \n",
    ")\n",
    "droplet_class = sce$scDblFinder.class"
   ]
  },
  {
   "cell_type": "code",
   "execution_count": null,
   "id": "d4dd6e9d-fcf2-41fc-8457-c8e0a3cb2c71",
   "metadata": {
    "execution": {
     "iopub.execute_input": "2023-05-15T07:53:37.247502Z",
     "iopub.status.busy": "2023-05-15T07:53:37.247343Z",
     "iopub.status.idle": "2023-05-15T07:53:37.252312Z",
     "shell.execute_reply": "2023-05-15T07:53:37.252000Z"
    },
    "papermill": {
     "duration": 0.009669,
     "end_time": "2023-05-15T07:53:37.253156",
     "exception": false,
     "start_time": "2023-05-15T07:53:37.243487",
     "status": "completed"
    },
    "tags": []
   },
   "outputs": [],
   "source": [
    "dataset.obs[\"scDblFinder_class\"] = droplet_class\n",
    "dataset.obs.scDblFinder_class.value_counts()\n",
    "dataset"
   ]
  },
  {
   "cell_type": "code",
   "execution_count": null,
   "id": "28c95014-2d6c-477f-95cb-9f9f0507520c",
   "metadata": {
    "execution": {
     "iopub.execute_input": "2023-05-15T07:53:37.259866Z",
     "iopub.status.busy": "2023-05-15T07:53:37.259614Z",
     "iopub.status.idle": "2023-05-15T07:53:37.264327Z",
     "shell.execute_reply": "2023-05-15T07:53:37.264023Z"
    },
    "papermill": {
     "duration": 0.00939,
     "end_time": "2023-05-15T07:53:37.265527",
     "exception": false,
     "start_time": "2023-05-15T07:53:37.256137",
     "status": "completed"
    },
    "tags": []
   },
   "outputs": [],
   "source": [
    "dataset = dataset[dataset.obs[\"scDblFinder_class\"] == 1]"
   ]
  },
  {
   "cell_type": "code",
   "execution_count": null,
   "id": "3e22f9e0-bfcb-416c-a151-a9bca3bec3b9",
   "metadata": {
    "execution": {
     "iopub.execute_input": "2023-05-15T07:53:37.272625Z",
     "iopub.status.busy": "2023-05-15T07:53:37.272483Z",
     "iopub.status.idle": "2023-05-15T07:53:37.406953Z",
     "shell.execute_reply": "2023-05-15T07:53:37.406557Z"
    },
    "papermill": {
     "duration": 0.139227,
     "end_time": "2023-05-15T07:53:37.407898",
     "exception": false,
     "start_time": "2023-05-15T07:53:37.268671",
     "status": "completed"
    },
    "tags": []
   },
   "outputs": [],
   "source": [
    "# mitochondrial genes\n",
    "dataset.var[\"mt\"] = dataset.var_names.str.startswith(\"MT-\")\n",
    "# ribosomal genes\n",
    "dataset.var[\"ribo\"] = dataset.var_names.str.startswith((\"RPS\", \"RPL\"))\n",
    "# hemoglobin genes.\n",
    "dataset.var[\"hb\"] = dataset.var_names.str.contains((\"^HB[^(P)]\"))\n",
    "\n",
    "sc.pp.calculate_qc_metrics(dataset,\n",
    "                           qc_vars=['mt', 'ribo', 'hb'],\n",
    "                           percent_top=None,\n",
    "                           log1p=False,\n",
    "                           inplace=True)\n",
    "dataset"
   ]
  },
  {
   "cell_type": "code",
   "execution_count": null,
   "id": "34deee79-4043-428f-8575-aa57b45f6369",
   "metadata": {
    "execution": {
     "iopub.execute_input": "2023-05-15T07:53:37.415321Z",
     "iopub.status.busy": "2023-05-15T07:53:37.415132Z",
     "iopub.status.idle": "2023-05-15T07:53:37.891031Z",
     "shell.execute_reply": "2023-05-15T07:53:37.890626Z"
    },
    "papermill": {
     "duration": 0.480887,
     "end_time": "2023-05-15T07:53:37.892248",
     "exception": false,
     "start_time": "2023-05-15T07:53:37.411361",
     "status": "completed"
    },
    "tags": []
   },
   "outputs": [],
   "source": [
    "fig, ax = plt.subplots(ncols = 4, figsize = (16,4))\n",
    "axis = sc.pl.violin(dataset, \"n_genes_by_counts\", jitter = 0.4, ax = ax[0], show = False)\n",
    "axis.grid(False)\n",
    "axis.set_title(\"Unique Genes per cell\")\n",
    "axis.tick_params(axis = \"x\", bottom =False, labelbottom =False)\n",
    "axis.set_ylabel(\"# genes\")\n",
    "axis.axhline(y = 100, color = \"black\", label = \"cutoff\")\n",
    "axis.legend(fontsize = 14, loc = \"upper right\")\n",
    "\n",
    "axis = sc.pl.violin(dataset, \"pct_counts_mt\", jitter = 0.4, ax = ax[1], show = False)\n",
    "axis.grid(False)\n",
    "axis.set_title(\"Mitochondrial Fraction\")\n",
    "axis.tick_params(axis = \"x\", bottom =False, labelbottom =False)\n",
    "axis.set_ylabel(\"% mitochondrial genes\")\n",
    "axis.axhline(y = 10, color = \"black\", label = \"cutoff\")\n",
    "axis.legend(fontsize = 14, loc = \"upper right\")\n",
    "\n",
    "axis = sc.pl.violin(dataset, \"pct_counts_hb\", jitter = 0.4, ax = ax[2], show = False, size =2)\n",
    "axis.grid(False)\n",
    "axis.set_title(\"Hemoglobin Fraction\")\n",
    "axis.tick_params(axis = \"x\", bottom =False, labelbottom =False)\n",
    "axis.set_ylabel(\"% hemoglobin genes\")\n",
    "axis.axhline(y = 3, color = \"black\", label = \"cutoff\")\n",
    "axis.legend(fontsize = 14, loc = \"upper right\")\n",
    "#axis.set_ylim(0,5)\n",
    "\n",
    "axis = sc.pl.violin(dataset, \"pct_counts_ribo\", jitter = 0.4, ax = ax[3], show = False)\n",
    "axis.grid(False)\n",
    "axis.set_title(\"Ribosomal Fraction\")\n",
    "axis.tick_params(axis = \"x\", bottom =False, labelbottom =False)\n",
    "axis.set_ylabel(\"% ribosome genes\")\n",
    "\n",
    "plt.tight_layout()\n",
    "#plt.savefig(f\"{outputDir}08_gene_based_filtering.pdf\", dpi = 300)\n",
    "plt.show()\n",
    "\n"
   ]
  },
  {
   "cell_type": "code",
   "execution_count": null,
   "id": "d7ade754-843e-4840-8707-426613d8c0c5",
   "metadata": {
    "execution": {
     "iopub.execute_input": "2023-05-15T07:53:37.902286Z",
     "iopub.status.busy": "2023-05-15T07:53:37.902143Z",
     "iopub.status.idle": "2023-05-15T07:53:37.911359Z",
     "shell.execute_reply": "2023-05-15T07:53:37.911001Z"
    },
    "papermill": {
     "duration": 0.014789,
     "end_time": "2023-05-15T07:53:37.912143",
     "exception": false,
     "start_time": "2023-05-15T07:53:37.897354",
     "status": "completed"
    },
    "tags": []
   },
   "outputs": [],
   "source": [
    "dataset = dataset[dataset.obs.pct_counts_mt < 10, :]\n",
    "dataset = dataset[dataset.obs.n_genes_by_counts > 100, :]\n",
    "dataset = dataset[dataset.obs.pct_counts_hb < 3, :]\n",
    "dataset"
   ]
  },
  {
   "cell_type": "code",
   "execution_count": null,
   "id": "1941fa36-e865-4500-b586-f7a32d142c9b",
   "metadata": {
    "execution": {
     "iopub.execute_input": "2023-05-15T07:53:37.921512Z",
     "iopub.status.busy": "2023-05-15T07:53:37.921363Z",
     "iopub.status.idle": "2023-05-15T07:53:37.924357Z",
     "shell.execute_reply": "2023-05-15T07:53:37.924055Z"
    },
    "papermill": {
     "duration": 0.008558,
     "end_time": "2023-05-15T07:53:37.925126",
     "exception": false,
     "start_time": "2023-05-15T07:53:37.916568",
     "status": "completed"
    },
    "tags": []
   },
   "outputs": [],
   "source": [
    "metadata.columns"
   ]
  },
  {
   "cell_type": "code",
   "execution_count": null,
   "id": "2e0ff8c3-2aa9-4a01-9b88-5912a6734447",
   "metadata": {
    "execution": {
     "iopub.execute_input": "2023-05-15T07:53:37.934828Z",
     "iopub.status.busy": "2023-05-15T07:53:37.934607Z",
     "iopub.status.idle": "2023-05-15T07:53:37.970906Z",
     "shell.execute_reply": "2023-05-15T07:53:37.970477Z"
    },
    "papermill": {
     "duration": 0.04237,
     "end_time": "2023-05-15T07:53:37.972043",
     "exception": false,
     "start_time": "2023-05-15T07:53:37.929673",
     "status": "completed"
    },
    "tags": []
   },
   "outputs": [],
   "source": [
    "for col in metadata.columns:\n",
    "    dataset.obs[col] = metadata.loc[metadata[\"Run\"] == sample_name, col].to_list()[0]"
   ]
  },
  {
   "cell_type": "code",
   "execution_count": null,
   "id": "b84578d3-d63e-419c-a272-a0b8317d05ab",
   "metadata": {
    "execution": {
     "iopub.execute_input": "2023-05-15T07:53:37.982238Z",
     "iopub.status.busy": "2023-05-15T07:53:37.982044Z",
     "iopub.status.idle": "2023-05-15T07:53:38.271784Z",
     "shell.execute_reply": "2023-05-15T07:53:38.271354Z"
    },
    "papermill": {
     "duration": 0.296222,
     "end_time": "2023-05-15T07:53:38.273135",
     "exception": false,
     "start_time": "2023-05-15T07:53:37.976913",
     "status": "completed"
    },
    "tags": []
   },
   "outputs": [],
   "source": [
    "dataset.write(f\"../../int_data/{sample_name}_qc.h5ad\")"
   ]
  },
  {
   "cell_type": "code",
   "execution_count": null,
   "id": "501b33a0-432d-415f-ae82-50723484b85d",
   "metadata": {
    "execution": {
     "iopub.execute_input": "2023-05-15T07:53:38.283228Z",
     "iopub.status.busy": "2023-05-15T07:53:38.283033Z",
     "iopub.status.idle": "2023-05-15T07:53:38.286135Z",
     "shell.execute_reply": "2023-05-15T07:53:38.285804Z"
    },
    "papermill": {
     "duration": 0.008944,
     "end_time": "2023-05-15T07:53:38.286937",
     "exception": false,
     "start_time": "2023-05-15T07:53:38.277993",
     "status": "completed"
    },
    "tags": []
   },
   "outputs": [],
   "source": [
    "dataset"
   ]
  }
 ],
 "metadata": {
  "kernelspec": {
   "display_name": "Python 3 (ipykernel)",
   "language": "python",
   "name": "python3"
  },
  "language_info": {
   "codemirror_mode": {
    "name": "ipython",
    "version": 3
   },
   "file_extension": ".py",
   "mimetype": "text/x-python",
   "name": "python",
   "nbconvert_exporter": "python",
   "pygments_lexer": "ipython3",
   "version": "3.10.12"
  },
  "papermill": {
   "default_parameters": {},
   "duration": 95.637196,
   "end_time": "2023-05-15T07:53:39.709353",
   "environment_variables": {},
   "exception": null,
   "input_path": "template.ipynb",
   "output_path": "SRR13329176.ipynb",
   "parameters": {
    "sample_name": "SRR13329176"
   },
   "start_time": "2023-05-15T07:52:04.072157",
   "version": "2.4.0"
  }
 },
 "nbformat": 4,
 "nbformat_minor": 5
}
