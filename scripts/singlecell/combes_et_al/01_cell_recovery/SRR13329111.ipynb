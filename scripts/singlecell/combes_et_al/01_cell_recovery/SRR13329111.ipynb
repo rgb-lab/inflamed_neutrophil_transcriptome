{
 "cells": [
  {
   "cell_type": "code",
   "execution_count": null,
   "id": "4c0f2fa8-5232-4f47-a7ec-6c9bbabe50e2",
   "metadata": {
    "execution": {
     "iopub.execute_input": "2023-05-15T08:46:19.747828Z",
     "iopub.status.busy": "2023-05-15T08:46:19.747686Z",
     "iopub.status.idle": "2023-05-15T08:46:19.752016Z",
     "shell.execute_reply": "2023-05-15T08:46:19.751712Z"
    },
    "papermill": {
     "duration": 0.010894,
     "end_time": "2023-05-15T08:46:19.752888",
     "exception": false,
     "start_time": "2023-05-15T08:46:19.741994",
     "status": "completed"
    },
    "tags": [
     "parameters"
    ]
   },
   "outputs": [],
   "source": [
    "sample_name = \"SRR13329143\""
   ]
  },
  {
   "cell_type": "code",
   "execution_count": null,
   "id": "8fc836c0",
   "metadata": {
    "execution": {
     "iopub.execute_input": "2023-05-15T08:46:19.758138Z",
     "iopub.status.busy": "2023-05-15T08:46:19.757886Z",
     "iopub.status.idle": "2023-05-15T08:46:19.759843Z",
     "shell.execute_reply": "2023-05-15T08:46:19.759548Z"
    },
    "papermill": {
     "duration": 0.005382,
     "end_time": "2023-05-15T08:46:19.760611",
     "exception": false,
     "start_time": "2023-05-15T08:46:19.755229",
     "status": "completed"
    },
    "tags": [
     "injected-parameters"
    ]
   },
   "outputs": [],
   "source": [
    "# Parameters\n",
    "sample_name = \"SRR13329111\"\n"
   ]
  },
  {
   "cell_type": "code",
   "execution_count": null,
   "id": "f87ed95b-2b67-4a5a-8fe2-47359b1dd2a9",
   "metadata": {
    "execution": {
     "iopub.execute_input": "2023-05-15T08:46:19.766573Z",
     "iopub.status.busy": "2023-05-15T08:46:19.766338Z",
     "iopub.status.idle": "2023-05-15T08:46:19.768478Z",
     "shell.execute_reply": "2023-05-15T08:46:19.768188Z"
    },
    "papermill": {
     "duration": 0.005852,
     "end_time": "2023-05-15T08:46:19.769259",
     "exception": false,
     "start_time": "2023-05-15T08:46:19.763407",
     "status": "completed"
    },
    "tags": []
   },
   "outputs": [],
   "source": [
    "import warnings\n",
    "warnings.simplefilter(action='ignore', category=FutureWarning)\n",
    "warnings.simplefilter(action='ignore', category=UserWarning)"
   ]
  },
  {
   "cell_type": "code",
   "execution_count": null,
   "id": "85161f19-b2c5-490b-8cab-c2cf9653b304",
   "metadata": {
    "execution": {
     "iopub.execute_input": "2023-05-15T08:46:19.774431Z",
     "iopub.status.busy": "2023-05-15T08:46:19.774226Z",
     "iopub.status.idle": "2023-05-15T08:46:24.309548Z",
     "shell.execute_reply": "2023-05-15T08:46:24.309078Z"
    },
    "papermill": {
     "duration": 4.539318,
     "end_time": "2023-05-15T08:46:24.310858",
     "exception": false,
     "start_time": "2023-05-15T08:46:19.771540",
     "status": "completed"
    },
    "tags": []
   },
   "outputs": [],
   "source": [
    "import gc\n",
    "import scanpy as sc\n",
    "import muon as mu\n",
    "import seaborn as sns\n",
    "import os\n",
    "import pandas as pd\n",
    "from matplotlib import pyplot as plt\n",
    "\n",
    "os.environ['R_HOME'] = '/gpfs/bwfor/work/ws/hd_fu399-conda/conda/envs/python_R/lib/R/'\n",
    "import anndata2ri\n",
    "import logging\n",
    "\n",
    "import rpy2.rinterface_lib.callbacks as rcb\n",
    "import rpy2.robjects as ro\n",
    "\n",
    "rcb.logger.setLevel(logging.ERROR)\n",
    "ro.pandas2ri.activate()\n",
    "anndata2ri.activate()\n",
    "\n",
    "%load_ext rpy2.ipython"
   ]
  },
  {
   "cell_type": "code",
   "execution_count": null,
   "id": "fc4ade78-b728-4704-9db6-45fbaab62ba1",
   "metadata": {
    "execution": {
     "iopub.execute_input": "2023-05-15T08:46:24.316737Z",
     "iopub.status.busy": "2023-05-15T08:46:24.316479Z",
     "iopub.status.idle": "2023-05-15T08:46:35.436950Z",
     "shell.execute_reply": "2023-05-15T08:46:35.436386Z"
    },
    "papermill": {
     "duration": 11.124607,
     "end_time": "2023-05-15T08:46:35.438311",
     "exception": false,
     "start_time": "2023-05-15T08:46:24.313704",
     "status": "completed"
    },
    "tags": []
   },
   "outputs": [],
   "source": [
    "%%R\n",
    "library(SoupX)\n",
    "library(Seurat)\n",
    "library(scater)\n",
    "library(scDblFinder)\n",
    "library(BiocParallel)\n",
    "library(MuDataSeurat)\n",
    "library(DropletUtils)"
   ]
  },
  {
   "cell_type": "code",
   "execution_count": null,
   "id": "f7424d90-7690-4290-8651-1db3f9df3a35",
   "metadata": {
    "execution": {
     "iopub.execute_input": "2023-05-15T08:46:35.447675Z",
     "iopub.status.busy": "2023-05-15T08:46:35.447482Z",
     "iopub.status.idle": "2023-05-15T08:46:35.454196Z",
     "shell.execute_reply": "2023-05-15T08:46:35.453869Z"
    },
    "papermill": {
     "duration": 0.010776,
     "end_time": "2023-05-15T08:46:35.454984",
     "exception": false,
     "start_time": "2023-05-15T08:46:35.444208",
     "status": "completed"
    },
    "tags": []
   },
   "outputs": [],
   "source": [
    "metadata = pd.read_csv(\"../../combes_metadata.txt\")"
   ]
  },
  {
   "cell_type": "code",
   "execution_count": null,
   "id": "2574ecf1-bad4-4c33-8f3f-718a358727ab",
   "metadata": {
    "execution": {
     "iopub.execute_input": "2023-05-15T08:46:35.460731Z",
     "iopub.status.busy": "2023-05-15T08:46:35.460601Z",
     "iopub.status.idle": "2023-05-15T08:46:35.470743Z",
     "shell.execute_reply": "2023-05-15T08:46:35.470404Z"
    },
    "papermill": {
     "duration": 0.0141,
     "end_time": "2023-05-15T08:46:35.471650",
     "exception": false,
     "start_time": "2023-05-15T08:46:35.457550",
     "status": "completed"
    },
    "tags": []
   },
   "outputs": [],
   "source": [
    "raw_input = f\"/home/hd/hd_hd/hd_fu399/sds-hd/sd21k006/scRNAseq/revision_natcomm/combes_et_al/fetchngs/results/fastq/{sample_name}/{sample_name}/outs/raw_feature_bc_matrix.h5\""
   ]
  },
  {
   "cell_type": "code",
   "execution_count": null,
   "id": "e266d388-1802-435c-93a5-90067358739c",
   "metadata": {
    "execution": {
     "iopub.execute_input": "2023-05-15T08:46:35.477751Z",
     "iopub.status.busy": "2023-05-15T08:46:35.477474Z",
     "iopub.status.idle": "2023-05-15T08:46:36.102491Z",
     "shell.execute_reply": "2023-05-15T08:46:36.102028Z"
    },
    "papermill": {
     "duration": 0.629226,
     "end_time": "2023-05-15T08:46:36.103459",
     "exception": false,
     "start_time": "2023-05-15T08:46:35.474233",
     "status": "completed"
    },
    "tags": []
   },
   "outputs": [],
   "source": [
    "dataset = sc.read_10x_h5(raw_input)\n",
    "dataset.var_names_make_unique()\n",
    "dataset.obs_names_make_unique()\n",
    "\n",
    "dataset.layers[\"raw_counts\"] = dataset.X.copy()\n",
    "data_tod = dataset.layers[\"raw_counts\"].T.copy()\n",
    "\n",
    "dataset"
   ]
  },
  {
   "cell_type": "code",
   "execution_count": null,
   "id": "af9f5892-ed31-42a6-991b-4e096f582cef",
   "metadata": {
    "execution": {
     "iopub.execute_input": "2023-05-15T08:46:36.110152Z",
     "iopub.status.busy": "2023-05-15T08:46:36.109997Z",
     "iopub.status.idle": "2023-05-15T08:46:36.169723Z",
     "shell.execute_reply": "2023-05-15T08:46:36.169245Z"
    },
    "papermill": {
     "duration": 0.064296,
     "end_time": "2023-05-15T08:46:36.171004",
     "exception": false,
     "start_time": "2023-05-15T08:46:36.106708",
     "status": "completed"
    },
    "tags": []
   },
   "outputs": [],
   "source": [
    "sce = dataset.copy()"
   ]
  },
  {
   "cell_type": "code",
   "execution_count": null,
   "id": "d03f2caf-8e74-430e-b045-0ab80401d165",
   "metadata": {
    "execution": {
     "iopub.execute_input": "2023-05-15T08:46:36.177646Z",
     "iopub.status.busy": "2023-05-15T08:46:36.177466Z",
     "iopub.status.idle": "2023-05-15T08:47:47.266997Z",
     "shell.execute_reply": "2023-05-15T08:47:47.266358Z"
    },
    "papermill": {
     "duration": 71.094251,
     "end_time": "2023-05-15T08:47:47.268357",
     "exception": false,
     "start_time": "2023-05-15T08:46:36.174106",
     "status": "completed"
    },
    "tags": []
   },
   "outputs": [],
   "source": [
    "%%R -i sce -o empty_drop_output\n",
    "set.seed(187)\n",
    "empty_drop_output <- emptyDrops(assay(sce))"
   ]
  },
  {
   "cell_type": "code",
   "execution_count": null,
   "id": "2a34a54b-3ae2-44d6-8679-8769228c5b66",
   "metadata": {
    "execution": {
     "iopub.execute_input": "2023-05-15T08:47:47.277475Z",
     "iopub.status.busy": "2023-05-15T08:47:47.277300Z",
     "iopub.status.idle": "2023-05-15T08:47:47.312196Z",
     "shell.execute_reply": "2023-05-15T08:47:47.311870Z"
    },
    "papermill": {
     "duration": 0.039553,
     "end_time": "2023-05-15T08:47:47.312993",
     "exception": false,
     "start_time": "2023-05-15T08:47:47.273440",
     "status": "completed"
    },
    "tags": []
   },
   "outputs": [],
   "source": [
    "non_empty_barcodes = empty_drop_output[empty_drop_output[\"FDR\"] < 0.001].index\n",
    "dataset = dataset[dataset.obs.index.isin(non_empty_barcodes), :]\n",
    "dataset"
   ]
  },
  {
   "cell_type": "code",
   "execution_count": null,
   "id": "016a91e5-1bef-46fb-b91e-4fb9a6870c44",
   "metadata": {
    "execution": {
     "iopub.execute_input": "2023-05-15T08:47:47.319735Z",
     "iopub.status.busy": "2023-05-15T08:47:47.319573Z",
     "iopub.status.idle": "2023-05-15T08:47:53.491531Z",
     "shell.execute_reply": "2023-05-15T08:47:53.491041Z"
    },
    "papermill": {
     "duration": 6.176885,
     "end_time": "2023-05-15T08:47:53.492892",
     "exception": false,
     "start_time": "2023-05-15T08:47:47.316007",
     "status": "completed"
    },
    "tags": []
   },
   "outputs": [],
   "source": [
    "rna_assay = dataset.copy()\n",
    "sc.pp.normalize_per_cell(rna_assay)\n",
    "sc.pp.log1p(rna_assay)\n",
    "sc.pp.pca(rna_assay)\n",
    "sc.pp.neighbors(rna_assay)\n",
    "sc.tl.leiden(rna_assay, key_added=\"soupx_groups\")\n",
    "\n",
    "soupx_groups = rna_assay.obs[\"soupx_groups\"]\n",
    "\n",
    "del rna_assay\n",
    "\n",
    "genes = dataset.var_names\n",
    "cells = dataset.obs_names\n",
    "data = dataset.X.T.copy()"
   ]
  },
  {
   "cell_type": "code",
   "execution_count": null,
   "id": "9db4ea1f-1580-4f43-a3f0-86002397cd98",
   "metadata": {
    "execution": {
     "iopub.execute_input": "2023-05-15T08:47:53.502532Z",
     "iopub.status.busy": "2023-05-15T08:47:53.502339Z",
     "iopub.status.idle": "2023-05-15T08:48:10.794924Z",
     "shell.execute_reply": "2023-05-15T08:48:10.794449Z"
    },
    "papermill": {
     "duration": 17.297975,
     "end_time": "2023-05-15T08:48:10.796283",
     "exception": false,
     "start_time": "2023-05-15T08:47:53.498308",
     "status": "completed"
    },
    "tags": []
   },
   "outputs": [],
   "source": [
    "%%R -i data -i data_tod -i genes -i cells -i soupx_groups -o out \n",
    "set.seed(187)\n",
    "# specify row and column names of data\n",
    "rownames(data) = genes\n",
    "colnames(data) = cells\n",
    "# ensure correct sparse format for table of counts and table of droplets\n",
    "data <- as(data, \"sparseMatrix\")\n",
    "data_tod <- as(data_tod, \"sparseMatrix\")\n",
    "\n",
    "# Generate SoupChannel Object for SoupX \n",
    "sc = SoupChannel(data_tod, data, calcSoupProfile = FALSE)\n",
    "\n",
    "# Add extra meta data to the SoupChannel object\n",
    "soupProf = data.frame(row.names = rownames(data),\n",
    "                      est = rowSums(data)/sum(data),\n",
    "                      counts = rowSums(data))\n",
    "sc = setSoupProfile(sc, soupProf)\n",
    "# Set cluster information in SoupChannel\n",
    "sc = setClusters(sc, soupx_groups)\n",
    "\n",
    "# Estimate contamination fraction\n",
    "sc  = autoEstCont(sc, doPlot=FALSE, forceAccept = TRUE)\n",
    "# Infer corrected table of counts and rount to integer\n",
    "out = adjustCounts(sc, roundToInt = TRUE)"
   ]
  },
  {
   "cell_type": "code",
   "execution_count": null,
   "id": "32555d5e-5fa3-46dd-a4e0-ddc96ea265e2",
   "metadata": {
    "execution": {
     "iopub.execute_input": "2023-05-15T08:48:10.805888Z",
     "iopub.status.busy": "2023-05-15T08:48:10.805702Z",
     "iopub.status.idle": "2023-05-15T08:48:10.837365Z",
     "shell.execute_reply": "2023-05-15T08:48:10.836910Z"
    },
    "papermill": {
     "duration": 0.036884,
     "end_time": "2023-05-15T08:48:10.838713",
     "exception": false,
     "start_time": "2023-05-15T08:48:10.801829",
     "status": "completed"
    },
    "tags": []
   },
   "outputs": [],
   "source": [
    "dataset.layers[\"soupX_counts\"] = out.T\n",
    "dataset.X = dataset.layers[\"soupX_counts\"].copy()"
   ]
  },
  {
   "cell_type": "code",
   "execution_count": null,
   "id": "e27da7df-e094-4d2a-9109-5a363e012175",
   "metadata": {
    "execution": {
     "iopub.execute_input": "2023-05-15T08:48:10.845451Z",
     "iopub.status.busy": "2023-05-15T08:48:10.845269Z",
     "iopub.status.idle": "2023-05-15T08:48:10.847658Z",
     "shell.execute_reply": "2023-05-15T08:48:10.847317Z"
    },
    "papermill": {
     "duration": 0.006568,
     "end_time": "2023-05-15T08:48:10.848420",
     "exception": false,
     "start_time": "2023-05-15T08:48:10.841852",
     "status": "completed"
    },
    "tags": []
   },
   "outputs": [],
   "source": [
    "data_mat = dataset.X.T"
   ]
  },
  {
   "cell_type": "code",
   "execution_count": null,
   "id": "80a993b1-5ccb-4697-9187-1beb7ab8aff9",
   "metadata": {
    "execution": {
     "iopub.execute_input": "2023-05-15T08:48:10.854831Z",
     "iopub.status.busy": "2023-05-15T08:48:10.854594Z",
     "iopub.status.idle": "2023-05-15T08:48:30.347150Z",
     "shell.execute_reply": "2023-05-15T08:48:30.346517Z"
    },
    "papermill": {
     "duration": 19.497278,
     "end_time": "2023-05-15T08:48:30.348558",
     "exception": false,
     "start_time": "2023-05-15T08:48:10.851280",
     "status": "completed"
    },
    "tags": []
   },
   "outputs": [],
   "source": [
    "%%R -i data_mat -o droplet_class\n",
    "\n",
    "set.seed(187)\n",
    "sce = scDblFinder(\n",
    "    SingleCellExperiment(\n",
    "        list(counts=data_mat),\n",
    "    ) \n",
    ")\n",
    "droplet_class = sce$scDblFinder.class"
   ]
  },
  {
   "cell_type": "code",
   "execution_count": null,
   "id": "d4dd6e9d-fcf2-41fc-8457-c8e0a3cb2c71",
   "metadata": {
    "execution": {
     "iopub.execute_input": "2023-05-15T08:48:30.359568Z",
     "iopub.status.busy": "2023-05-15T08:48:30.359388Z",
     "iopub.status.idle": "2023-05-15T08:48:30.364700Z",
     "shell.execute_reply": "2023-05-15T08:48:30.364345Z"
    },
    "papermill": {
     "duration": 0.009598,
     "end_time": "2023-05-15T08:48:30.365477",
     "exception": false,
     "start_time": "2023-05-15T08:48:30.355879",
     "status": "completed"
    },
    "tags": []
   },
   "outputs": [],
   "source": [
    "dataset.obs[\"scDblFinder_class\"] = droplet_class\n",
    "dataset.obs.scDblFinder_class.value_counts()\n",
    "dataset"
   ]
  },
  {
   "cell_type": "code",
   "execution_count": null,
   "id": "28c95014-2d6c-477f-95cb-9f9f0507520c",
   "metadata": {
    "execution": {
     "iopub.execute_input": "2023-05-15T08:48:30.372390Z",
     "iopub.status.busy": "2023-05-15T08:48:30.372069Z",
     "iopub.status.idle": "2023-05-15T08:48:30.386709Z",
     "shell.execute_reply": "2023-05-15T08:48:30.386345Z"
    },
    "papermill": {
     "duration": 0.018849,
     "end_time": "2023-05-15T08:48:30.387508",
     "exception": false,
     "start_time": "2023-05-15T08:48:30.368659",
     "status": "completed"
    },
    "tags": []
   },
   "outputs": [],
   "source": [
    "dataset = dataset[dataset.obs[\"scDblFinder_class\"] == 1]"
   ]
  },
  {
   "cell_type": "code",
   "execution_count": null,
   "id": "3e22f9e0-bfcb-416c-a151-a9bca3bec3b9",
   "metadata": {
    "execution": {
     "iopub.execute_input": "2023-05-15T08:48:30.393983Z",
     "iopub.status.busy": "2023-05-15T08:48:30.393845Z",
     "iopub.status.idle": "2023-05-15T08:48:30.593748Z",
     "shell.execute_reply": "2023-05-15T08:48:30.593294Z"
    },
    "papermill": {
     "duration": 0.204279,
     "end_time": "2023-05-15T08:48:30.594698",
     "exception": false,
     "start_time": "2023-05-15T08:48:30.390419",
     "status": "completed"
    },
    "tags": []
   },
   "outputs": [],
   "source": [
    "# mitochondrial genes\n",
    "dataset.var[\"mt\"] = dataset.var_names.str.startswith(\"MT-\")\n",
    "# ribosomal genes\n",
    "dataset.var[\"ribo\"] = dataset.var_names.str.startswith((\"RPS\", \"RPL\"))\n",
    "# hemoglobin genes.\n",
    "dataset.var[\"hb\"] = dataset.var_names.str.contains((\"^HB[^(P)]\"))\n",
    "\n",
    "sc.pp.calculate_qc_metrics(dataset,\n",
    "                           qc_vars=['mt', 'ribo', 'hb'],\n",
    "                           percent_top=None,\n",
    "                           log1p=False,\n",
    "                           inplace=True)\n",
    "dataset"
   ]
  },
  {
   "cell_type": "code",
   "execution_count": null,
   "id": "34deee79-4043-428f-8575-aa57b45f6369",
   "metadata": {
    "execution": {
     "iopub.execute_input": "2023-05-15T08:48:30.602172Z",
     "iopub.status.busy": "2023-05-15T08:48:30.601988Z",
     "iopub.status.idle": "2023-05-15T08:48:31.081056Z",
     "shell.execute_reply": "2023-05-15T08:48:31.080644Z"
    },
    "papermill": {
     "duration": 0.483745,
     "end_time": "2023-05-15T08:48:31.082040",
     "exception": false,
     "start_time": "2023-05-15T08:48:30.598295",
     "status": "completed"
    },
    "tags": []
   },
   "outputs": [],
   "source": [
    "fig, ax = plt.subplots(ncols = 4, figsize = (16,4))\n",
    "axis = sc.pl.violin(dataset, \"n_genes_by_counts\", jitter = 0.4, ax = ax[0], show = False)\n",
    "axis.grid(False)\n",
    "axis.set_title(\"Unique Genes per cell\")\n",
    "axis.tick_params(axis = \"x\", bottom =False, labelbottom =False)\n",
    "axis.set_ylabel(\"# genes\")\n",
    "axis.axhline(y = 100, color = \"black\", label = \"cutoff\")\n",
    "axis.legend(fontsize = 14, loc = \"upper right\")\n",
    "\n",
    "axis = sc.pl.violin(dataset, \"pct_counts_mt\", jitter = 0.4, ax = ax[1], show = False)\n",
    "axis.grid(False)\n",
    "axis.set_title(\"Mitochondrial Fraction\")\n",
    "axis.tick_params(axis = \"x\", bottom =False, labelbottom =False)\n",
    "axis.set_ylabel(\"% mitochondrial genes\")\n",
    "axis.axhline(y = 10, color = \"black\", label = \"cutoff\")\n",
    "axis.legend(fontsize = 14, loc = \"upper right\")\n",
    "\n",
    "axis = sc.pl.violin(dataset, \"pct_counts_hb\", jitter = 0.4, ax = ax[2], show = False, size =2)\n",
    "axis.grid(False)\n",
    "axis.set_title(\"Hemoglobin Fraction\")\n",
    "axis.tick_params(axis = \"x\", bottom =False, labelbottom =False)\n",
    "axis.set_ylabel(\"% hemoglobin genes\")\n",
    "axis.axhline(y = 3, color = \"black\", label = \"cutoff\")\n",
    "axis.legend(fontsize = 14, loc = \"upper right\")\n",
    "#axis.set_ylim(0,5)\n",
    "\n",
    "axis = sc.pl.violin(dataset, \"pct_counts_ribo\", jitter = 0.4, ax = ax[3], show = False)\n",
    "axis.grid(False)\n",
    "axis.set_title(\"Ribosomal Fraction\")\n",
    "axis.tick_params(axis = \"x\", bottom =False, labelbottom =False)\n",
    "axis.set_ylabel(\"% ribosome genes\")\n",
    "\n",
    "plt.tight_layout()\n",
    "#plt.savefig(f\"{outputDir}08_gene_based_filtering.pdf\", dpi = 300)\n",
    "plt.show()\n",
    "\n"
   ]
  },
  {
   "cell_type": "code",
   "execution_count": null,
   "id": "d7ade754-843e-4840-8707-426613d8c0c5",
   "metadata": {
    "execution": {
     "iopub.execute_input": "2023-05-15T08:48:31.092004Z",
     "iopub.status.busy": "2023-05-15T08:48:31.091824Z",
     "iopub.status.idle": "2023-05-15T08:48:31.100966Z",
     "shell.execute_reply": "2023-05-15T08:48:31.100640Z"
    },
    "papermill": {
     "duration": 0.014804,
     "end_time": "2023-05-15T08:48:31.101736",
     "exception": false,
     "start_time": "2023-05-15T08:48:31.086932",
     "status": "completed"
    },
    "tags": []
   },
   "outputs": [],
   "source": [
    "dataset = dataset[dataset.obs.pct_counts_mt < 10, :]\n",
    "dataset = dataset[dataset.obs.n_genes_by_counts > 100, :]\n",
    "dataset = dataset[dataset.obs.pct_counts_hb < 3, :]\n",
    "dataset"
   ]
  },
  {
   "cell_type": "code",
   "execution_count": null,
   "id": "1941fa36-e865-4500-b586-f7a32d142c9b",
   "metadata": {
    "execution": {
     "iopub.execute_input": "2023-05-15T08:48:31.111498Z",
     "iopub.status.busy": "2023-05-15T08:48:31.111338Z",
     "iopub.status.idle": "2023-05-15T08:48:31.114279Z",
     "shell.execute_reply": "2023-05-15T08:48:31.113974Z"
    },
    "papermill": {
     "duration": 0.008765,
     "end_time": "2023-05-15T08:48:31.115025",
     "exception": false,
     "start_time": "2023-05-15T08:48:31.106260",
     "status": "completed"
    },
    "tags": []
   },
   "outputs": [],
   "source": [
    "metadata.columns"
   ]
  },
  {
   "cell_type": "code",
   "execution_count": null,
   "id": "2e0ff8c3-2aa9-4a01-9b88-5912a6734447",
   "metadata": {
    "execution": {
     "iopub.execute_input": "2023-05-15T08:48:31.124771Z",
     "iopub.status.busy": "2023-05-15T08:48:31.124486Z",
     "iopub.status.idle": "2023-05-15T08:48:31.172404Z",
     "shell.execute_reply": "2023-05-15T08:48:31.171926Z"
    },
    "papermill": {
     "duration": 0.054061,
     "end_time": "2023-05-15T08:48:31.173590",
     "exception": false,
     "start_time": "2023-05-15T08:48:31.119529",
     "status": "completed"
    },
    "tags": []
   },
   "outputs": [],
   "source": [
    "for col in metadata.columns:\n",
    "    dataset.obs[col] = metadata.loc[metadata[\"Run\"] == sample_name, col].to_list()[0]"
   ]
  },
  {
   "cell_type": "code",
   "execution_count": null,
   "id": "b84578d3-d63e-419c-a272-a0b8317d05ab",
   "metadata": {
    "execution": {
     "iopub.execute_input": "2023-05-15T08:48:31.183964Z",
     "iopub.status.busy": "2023-05-15T08:48:31.183771Z",
     "iopub.status.idle": "2023-05-15T08:48:31.867821Z",
     "shell.execute_reply": "2023-05-15T08:48:31.867346Z"
    },
    "papermill": {
     "duration": 0.690443,
     "end_time": "2023-05-15T08:48:31.869060",
     "exception": false,
     "start_time": "2023-05-15T08:48:31.178617",
     "status": "completed"
    },
    "tags": []
   },
   "outputs": [],
   "source": [
    "dataset.write(f\"../../int_data/{sample_name}_qc.h5ad\")"
   ]
  },
  {
   "cell_type": "code",
   "execution_count": null,
   "id": "501b33a0-432d-415f-ae82-50723484b85d",
   "metadata": {
    "execution": {
     "iopub.execute_input": "2023-05-15T08:48:31.878919Z",
     "iopub.status.busy": "2023-05-15T08:48:31.878723Z",
     "iopub.status.idle": "2023-05-15T08:48:31.881810Z",
     "shell.execute_reply": "2023-05-15T08:48:31.881487Z"
    },
    "papermill": {
     "duration": 0.008779,
     "end_time": "2023-05-15T08:48:31.882618",
     "exception": false,
     "start_time": "2023-05-15T08:48:31.873839",
     "status": "completed"
    },
    "tags": []
   },
   "outputs": [],
   "source": [
    "dataset"
   ]
  }
 ],
 "metadata": {
  "kernelspec": {
   "display_name": "py_R",
   "language": "python",
   "name": "python_r"
  },
  "language_info": {
   "codemirror_mode": {
    "name": "ipython",
    "version": 3
   },
   "file_extension": ".py",
   "mimetype": "text/x-python",
   "name": "python",
   "nbconvert_exporter": "python",
   "pygments_lexer": "ipython3",
   "version": "3.10.9"
  },
  "papermill": {
   "default_parameters": {},
   "duration": 134.699749,
   "end_time": "2023-05-15T08:48:33.406428",
   "environment_variables": {},
   "exception": null,
   "input_path": "template.ipynb",
   "output_path": "SRR13329111.ipynb",
   "parameters": {
    "sample_name": "SRR13329111"
   },
   "start_time": "2023-05-15T08:46:18.706679",
   "version": "2.4.0"
  }
 },
 "nbformat": 4,
 "nbformat_minor": 5
}
