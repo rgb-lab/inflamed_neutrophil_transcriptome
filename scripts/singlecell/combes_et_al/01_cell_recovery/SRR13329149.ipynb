{
 "cells": [
  {
   "cell_type": "code",
   "execution_count": null,
   "id": "4c0f2fa8-5232-4f47-a7ec-6c9bbabe50e2",
   "metadata": {
    "execution": {
     "iopub.execute_input": "2023-05-15T08:53:01.909730Z",
     "iopub.status.busy": "2023-05-15T08:53:01.909564Z",
     "iopub.status.idle": "2023-05-15T08:53:01.913837Z",
     "shell.execute_reply": "2023-05-15T08:53:01.913506Z"
    },
    "papermill": {
     "duration": 0.009288,
     "end_time": "2023-05-15T08:53:01.914748",
     "exception": false,
     "start_time": "2023-05-15T08:53:01.905460",
     "status": "completed"
    },
    "tags": [
     "parameters"
    ]
   },
   "outputs": [],
   "source": [
    "sample_name = \"SRR13329143\""
   ]
  },
  {
   "cell_type": "code",
   "execution_count": null,
   "id": "721beb80",
   "metadata": {
    "execution": {
     "iopub.execute_input": "2023-05-15T08:53:01.919728Z",
     "iopub.status.busy": "2023-05-15T08:53:01.919600Z",
     "iopub.status.idle": "2023-05-15T08:53:02.000193Z",
     "shell.execute_reply": "2023-05-15T08:53:01.999887Z"
    },
    "papermill": {
     "duration": 0.084504,
     "end_time": "2023-05-15T08:53:02.001563",
     "exception": false,
     "start_time": "2023-05-15T08:53:01.917059",
     "status": "completed"
    },
    "tags": [
     "injected-parameters"
    ]
   },
   "outputs": [],
   "source": [
    "# Parameters\n",
    "sample_name = \"SRR13329149\"\n"
   ]
  },
  {
   "cell_type": "code",
   "execution_count": null,
   "id": "f87ed95b-2b67-4a5a-8fe2-47359b1dd2a9",
   "metadata": {
    "execution": {
     "iopub.execute_input": "2023-05-15T08:53:02.007117Z",
     "iopub.status.busy": "2023-05-15T08:53:02.006971Z",
     "iopub.status.idle": "2023-05-15T08:53:02.011017Z",
     "shell.execute_reply": "2023-05-15T08:53:02.010715Z"
    },
    "papermill": {
     "duration": 0.008051,
     "end_time": "2023-05-15T08:53:02.012308",
     "exception": false,
     "start_time": "2023-05-15T08:53:02.004257",
     "status": "completed"
    },
    "tags": []
   },
   "outputs": [],
   "source": [
    "import warnings\n",
    "warnings.simplefilter(action='ignore', category=FutureWarning)\n",
    "warnings.simplefilter(action='ignore', category=UserWarning)"
   ]
  },
  {
   "cell_type": "code",
   "execution_count": null,
   "id": "85161f19-b2c5-490b-8cab-c2cf9653b304",
   "metadata": {
    "execution": {
     "iopub.execute_input": "2023-05-15T08:53:02.017874Z",
     "iopub.status.busy": "2023-05-15T08:53:02.017729Z",
     "iopub.status.idle": "2023-05-15T08:53:07.050249Z",
     "shell.execute_reply": "2023-05-15T08:53:07.049786Z"
    },
    "papermill": {
     "duration": 5.036347,
     "end_time": "2023-05-15T08:53:07.051419",
     "exception": false,
     "start_time": "2023-05-15T08:53:02.015072",
     "status": "completed"
    },
    "tags": []
   },
   "outputs": [],
   "source": [
    "import gc\n",
    "import scanpy as sc\n",
    "import muon as mu\n",
    "import seaborn as sns\n",
    "import os\n",
    "import pandas as pd\n",
    "from matplotlib import pyplot as plt\n",
    "\n",
    "os.environ['R_HOME'] = '/gpfs/bwfor/work/ws/hd_fu399-conda/conda/envs/python_R/lib/R/'\n",
    "import anndata2ri\n",
    "import logging\n",
    "\n",
    "import rpy2.rinterface_lib.callbacks as rcb\n",
    "import rpy2.robjects as ro\n",
    "\n",
    "rcb.logger.setLevel(logging.ERROR)\n",
    "ro.pandas2ri.activate()\n",
    "anndata2ri.activate()\n",
    "\n",
    "%load_ext rpy2.ipython"
   ]
  },
  {
   "cell_type": "code",
   "execution_count": null,
   "id": "fc4ade78-b728-4704-9db6-45fbaab62ba1",
   "metadata": {
    "execution": {
     "iopub.execute_input": "2023-05-15T08:53:07.058321Z",
     "iopub.status.busy": "2023-05-15T08:53:07.058040Z",
     "iopub.status.idle": "2023-05-15T08:53:19.184295Z",
     "shell.execute_reply": "2023-05-15T08:53:19.183799Z"
    },
    "papermill": {
     "duration": 12.130556,
     "end_time": "2023-05-15T08:53:19.185619",
     "exception": false,
     "start_time": "2023-05-15T08:53:07.055063",
     "status": "completed"
    },
    "tags": []
   },
   "outputs": [],
   "source": [
    "%%R\n",
    "library(SoupX)\n",
    "library(Seurat)\n",
    "library(scater)\n",
    "library(scDblFinder)\n",
    "library(BiocParallel)\n",
    "library(MuDataSeurat)\n",
    "library(DropletUtils)"
   ]
  },
  {
   "cell_type": "code",
   "execution_count": null,
   "id": "f7424d90-7690-4290-8651-1db3f9df3a35",
   "metadata": {
    "execution": {
     "iopub.execute_input": "2023-05-15T08:53:19.194010Z",
     "iopub.status.busy": "2023-05-15T08:53:19.193832Z",
     "iopub.status.idle": "2023-05-15T08:53:19.199634Z",
     "shell.execute_reply": "2023-05-15T08:53:19.199314Z"
    },
    "papermill": {
     "duration": 0.010067,
     "end_time": "2023-05-15T08:53:19.200699",
     "exception": false,
     "start_time": "2023-05-15T08:53:19.190632",
     "status": "completed"
    },
    "tags": []
   },
   "outputs": [],
   "source": [
    "metadata = pd.read_csv(\"../../combes_metadata.txt\")"
   ]
  },
  {
   "cell_type": "code",
   "execution_count": null,
   "id": "2574ecf1-bad4-4c33-8f3f-718a358727ab",
   "metadata": {
    "execution": {
     "iopub.execute_input": "2023-05-15T08:53:19.206498Z",
     "iopub.status.busy": "2023-05-15T08:53:19.206344Z",
     "iopub.status.idle": "2023-05-15T08:53:19.215842Z",
     "shell.execute_reply": "2023-05-15T08:53:19.215550Z"
    },
    "papermill": {
     "duration": 0.013583,
     "end_time": "2023-05-15T08:53:19.216602",
     "exception": false,
     "start_time": "2023-05-15T08:53:19.203019",
     "status": "completed"
    },
    "tags": []
   },
   "outputs": [],
   "source": [
    "raw_input = f\"/home/hd/hd_hd/hd_fu399/sds-hd/sd21k006/scRNAseq/revision_natcomm/combes_et_al/fetchngs/results/fastq/{sample_name}/{sample_name}/outs/raw_feature_bc_matrix.h5\""
   ]
  },
  {
   "cell_type": "code",
   "execution_count": null,
   "id": "e266d388-1802-435c-93a5-90067358739c",
   "metadata": {
    "execution": {
     "iopub.execute_input": "2023-05-15T08:53:19.222184Z",
     "iopub.status.busy": "2023-05-15T08:53:19.222005Z",
     "iopub.status.idle": "2023-05-15T08:53:19.571202Z",
     "shell.execute_reply": "2023-05-15T08:53:19.570757Z"
    },
    "papermill": {
     "duration": 0.353156,
     "end_time": "2023-05-15T08:53:19.572107",
     "exception": false,
     "start_time": "2023-05-15T08:53:19.218951",
     "status": "completed"
    },
    "tags": []
   },
   "outputs": [],
   "source": [
    "dataset = sc.read_10x_h5(raw_input)\n",
    "dataset.var_names_make_unique()\n",
    "dataset.obs_names_make_unique()\n",
    "\n",
    "dataset.layers[\"raw_counts\"] = dataset.X.copy()\n",
    "data_tod = dataset.layers[\"raw_counts\"].T.copy()\n",
    "\n",
    "dataset"
   ]
  },
  {
   "cell_type": "code",
   "execution_count": null,
   "id": "af9f5892-ed31-42a6-991b-4e096f582cef",
   "metadata": {
    "execution": {
     "iopub.execute_input": "2023-05-15T08:53:19.578329Z",
     "iopub.status.busy": "2023-05-15T08:53:19.578167Z",
     "iopub.status.idle": "2023-05-15T08:53:19.609504Z",
     "shell.execute_reply": "2023-05-15T08:53:19.609058Z"
    },
    "papermill": {
     "duration": 0.035678,
     "end_time": "2023-05-15T08:53:19.610762",
     "exception": false,
     "start_time": "2023-05-15T08:53:19.575084",
     "status": "completed"
    },
    "tags": []
   },
   "outputs": [],
   "source": [
    "sce = dataset.copy()"
   ]
  },
  {
   "cell_type": "code",
   "execution_count": null,
   "id": "d03f2caf-8e74-430e-b045-0ab80401d165",
   "metadata": {
    "execution": {
     "iopub.execute_input": "2023-05-15T08:53:19.616818Z",
     "iopub.status.busy": "2023-05-15T08:53:19.616654Z",
     "iopub.status.idle": "2023-05-15T08:53:49.095847Z",
     "shell.execute_reply": "2023-05-15T08:53:49.095310Z"
    },
    "papermill": {
     "duration": 29.483443,
     "end_time": "2023-05-15T08:53:49.097090",
     "exception": false,
     "start_time": "2023-05-15T08:53:19.613647",
     "status": "completed"
    },
    "tags": []
   },
   "outputs": [],
   "source": [
    "%%R -i sce -o empty_drop_output\n",
    "set.seed(187)\n",
    "empty_drop_output <- emptyDrops(assay(sce))"
   ]
  },
  {
   "cell_type": "code",
   "execution_count": null,
   "id": "2a34a54b-3ae2-44d6-8679-8769228c5b66",
   "metadata": {
    "execution": {
     "iopub.execute_input": "2023-05-15T08:53:49.105506Z",
     "iopub.status.busy": "2023-05-15T08:53:49.105360Z",
     "iopub.status.idle": "2023-05-15T08:53:49.132877Z",
     "shell.execute_reply": "2023-05-15T08:53:49.132548Z"
    },
    "papermill": {
     "duration": 0.031643,
     "end_time": "2023-05-15T08:53:49.133758",
     "exception": false,
     "start_time": "2023-05-15T08:53:49.102115",
     "status": "completed"
    },
    "tags": []
   },
   "outputs": [],
   "source": [
    "non_empty_barcodes = empty_drop_output[empty_drop_output[\"FDR\"] < 0.001].index\n",
    "dataset = dataset[dataset.obs.index.isin(non_empty_barcodes), :]\n",
    "dataset"
   ]
  },
  {
   "cell_type": "code",
   "execution_count": null,
   "id": "016a91e5-1bef-46fb-b91e-4fb9a6870c44",
   "metadata": {
    "execution": {
     "iopub.execute_input": "2023-05-15T08:53:49.139598Z",
     "iopub.status.busy": "2023-05-15T08:53:49.139432Z",
     "iopub.status.idle": "2023-05-15T08:53:51.038163Z",
     "shell.execute_reply": "2023-05-15T08:53:51.037709Z"
    },
    "papermill": {
     "duration": 1.903157,
     "end_time": "2023-05-15T08:53:51.039471",
     "exception": false,
     "start_time": "2023-05-15T08:53:49.136314",
     "status": "completed"
    },
    "tags": []
   },
   "outputs": [],
   "source": [
    "rna_assay = dataset.copy()\n",
    "sc.pp.normalize_per_cell(rna_assay)\n",
    "sc.pp.log1p(rna_assay)\n",
    "sc.pp.pca(rna_assay)\n",
    "sc.pp.neighbors(rna_assay)\n",
    "sc.tl.leiden(rna_assay, key_added=\"soupx_groups\")\n",
    "\n",
    "soupx_groups = rna_assay.obs[\"soupx_groups\"]\n",
    "\n",
    "del rna_assay\n",
    "\n",
    "genes = dataset.var_names\n",
    "cells = dataset.obs_names\n",
    "data = dataset.X.T.copy()"
   ]
  },
  {
   "cell_type": "code",
   "execution_count": null,
   "id": "9db4ea1f-1580-4f43-a3f0-86002397cd98",
   "metadata": {
    "execution": {
     "iopub.execute_input": "2023-05-15T08:53:51.049075Z",
     "iopub.status.busy": "2023-05-15T08:53:51.048931Z",
     "iopub.status.idle": "2023-05-15T08:54:00.088224Z",
     "shell.execute_reply": "2023-05-15T08:54:00.087779Z"
    },
    "papermill": {
     "duration": 9.043862,
     "end_time": "2023-05-15T08:54:00.089410",
     "exception": false,
     "start_time": "2023-05-15T08:53:51.045548",
     "status": "completed"
    },
    "tags": []
   },
   "outputs": [],
   "source": [
    "%%R -i data -i data_tod -i genes -i cells -i soupx_groups -o out \n",
    "set.seed(187)\n",
    "# specify row and column names of data\n",
    "rownames(data) = genes\n",
    "colnames(data) = cells\n",
    "# ensure correct sparse format for table of counts and table of droplets\n",
    "data <- as(data, \"sparseMatrix\")\n",
    "data_tod <- as(data_tod, \"sparseMatrix\")\n",
    "\n",
    "# Generate SoupChannel Object for SoupX \n",
    "sc = SoupChannel(data_tod, data, calcSoupProfile = FALSE)\n",
    "\n",
    "# Add extra meta data to the SoupChannel object\n",
    "soupProf = data.frame(row.names = rownames(data),\n",
    "                      est = rowSums(data)/sum(data),\n",
    "                      counts = rowSums(data))\n",
    "sc = setSoupProfile(sc, soupProf)\n",
    "# Set cluster information in SoupChannel\n",
    "sc = setClusters(sc, soupx_groups)\n",
    "\n",
    "# Estimate contamination fraction\n",
    "sc  = autoEstCont(sc, doPlot=FALSE, forceAccept = TRUE)\n",
    "# Infer corrected table of counts and rount to integer\n",
    "out = adjustCounts(sc, roundToInt = TRUE)"
   ]
  },
  {
   "cell_type": "code",
   "execution_count": null,
   "id": "32555d5e-5fa3-46dd-a4e0-ddc96ea265e2",
   "metadata": {
    "execution": {
     "iopub.execute_input": "2023-05-15T08:54:00.097517Z",
     "iopub.status.busy": "2023-05-15T08:54:00.097381Z",
     "iopub.status.idle": "2023-05-15T08:54:00.102565Z",
     "shell.execute_reply": "2023-05-15T08:54:00.102186Z"
    },
    "papermill": {
     "duration": 0.009251,
     "end_time": "2023-05-15T08:54:00.103386",
     "exception": false,
     "start_time": "2023-05-15T08:54:00.094135",
     "status": "completed"
    },
    "tags": []
   },
   "outputs": [],
   "source": [
    "dataset.layers[\"soupX_counts\"] = out.T\n",
    "dataset.X = dataset.layers[\"soupX_counts\"].copy()"
   ]
  },
  {
   "cell_type": "code",
   "execution_count": null,
   "id": "e27da7df-e094-4d2a-9109-5a363e012175",
   "metadata": {
    "execution": {
     "iopub.execute_input": "2023-05-15T08:54:00.109509Z",
     "iopub.status.busy": "2023-05-15T08:54:00.109356Z",
     "iopub.status.idle": "2023-05-15T08:54:00.118622Z",
     "shell.execute_reply": "2023-05-15T08:54:00.118300Z"
    },
    "papermill": {
     "duration": 0.013381,
     "end_time": "2023-05-15T08:54:00.119501",
     "exception": false,
     "start_time": "2023-05-15T08:54:00.106120",
     "status": "completed"
    },
    "tags": []
   },
   "outputs": [],
   "source": [
    "data_mat = dataset.X.T"
   ]
  },
  {
   "cell_type": "code",
   "execution_count": null,
   "id": "80a993b1-5ccb-4697-9187-1beb7ab8aff9",
   "metadata": {
    "execution": {
     "iopub.execute_input": "2023-05-15T08:54:00.125394Z",
     "iopub.status.busy": "2023-05-15T08:54:00.125246Z",
     "iopub.status.idle": "2023-05-15T08:54:21.779149Z",
     "shell.execute_reply": "2023-05-15T08:54:21.778589Z"
    },
    "papermill": {
     "duration": 21.65832,
     "end_time": "2023-05-15T08:54:21.780467",
     "exception": false,
     "start_time": "2023-05-15T08:54:00.122147",
     "status": "completed"
    },
    "tags": []
   },
   "outputs": [],
   "source": [
    "%%R -i data_mat -o droplet_class\n",
    "\n",
    "set.seed(187)\n",
    "sce = scDblFinder(\n",
    "    SingleCellExperiment(\n",
    "        list(counts=data_mat),\n",
    "    ) \n",
    ")\n",
    "droplet_class = sce$scDblFinder.class"
   ]
  },
  {
   "cell_type": "code",
   "execution_count": null,
   "id": "d4dd6e9d-fcf2-41fc-8457-c8e0a3cb2c71",
   "metadata": {
    "execution": {
     "iopub.execute_input": "2023-05-15T08:54:21.789319Z",
     "iopub.status.busy": "2023-05-15T08:54:21.789169Z",
     "iopub.status.idle": "2023-05-15T08:54:21.793518Z",
     "shell.execute_reply": "2023-05-15T08:54:21.793214Z"
    },
    "papermill": {
     "duration": 0.008711,
     "end_time": "2023-05-15T08:54:21.794300",
     "exception": false,
     "start_time": "2023-05-15T08:54:21.785589",
     "status": "completed"
    },
    "tags": []
   },
   "outputs": [],
   "source": [
    "dataset.obs[\"scDblFinder_class\"] = droplet_class\n",
    "dataset.obs.scDblFinder_class.value_counts()\n",
    "dataset"
   ]
  },
  {
   "cell_type": "code",
   "execution_count": null,
   "id": "28c95014-2d6c-477f-95cb-9f9f0507520c",
   "metadata": {
    "execution": {
     "iopub.execute_input": "2023-05-15T08:54:21.800366Z",
     "iopub.status.busy": "2023-05-15T08:54:21.800189Z",
     "iopub.status.idle": "2023-05-15T08:54:21.813721Z",
     "shell.execute_reply": "2023-05-15T08:54:21.813409Z"
    },
    "papermill": {
     "duration": 0.017474,
     "end_time": "2023-05-15T08:54:21.814514",
     "exception": false,
     "start_time": "2023-05-15T08:54:21.797040",
     "status": "completed"
    },
    "tags": []
   },
   "outputs": [],
   "source": [
    "dataset = dataset[dataset.obs[\"scDblFinder_class\"] == 1]"
   ]
  },
  {
   "cell_type": "code",
   "execution_count": null,
   "id": "3e22f9e0-bfcb-416c-a151-a9bca3bec3b9",
   "metadata": {
    "execution": {
     "iopub.execute_input": "2023-05-15T08:54:21.820659Z",
     "iopub.status.busy": "2023-05-15T08:54:21.820501Z",
     "iopub.status.idle": "2023-05-15T08:54:21.862778Z",
     "shell.execute_reply": "2023-05-15T08:54:21.862425Z"
    },
    "papermill": {
     "duration": 0.046314,
     "end_time": "2023-05-15T08:54:21.863608",
     "exception": false,
     "start_time": "2023-05-15T08:54:21.817294",
     "status": "completed"
    },
    "tags": []
   },
   "outputs": [],
   "source": [
    "# mitochondrial genes\n",
    "dataset.var[\"mt\"] = dataset.var_names.str.startswith(\"MT-\")\n",
    "# ribosomal genes\n",
    "dataset.var[\"ribo\"] = dataset.var_names.str.startswith((\"RPS\", \"RPL\"))\n",
    "# hemoglobin genes.\n",
    "dataset.var[\"hb\"] = dataset.var_names.str.contains((\"^HB[^(P)]\"))\n",
    "\n",
    "sc.pp.calculate_qc_metrics(dataset,\n",
    "                           qc_vars=['mt', 'ribo', 'hb'],\n",
    "                           percent_top=None,\n",
    "                           log1p=False,\n",
    "                           inplace=True)\n",
    "dataset"
   ]
  },
  {
   "cell_type": "code",
   "execution_count": null,
   "id": "34deee79-4043-428f-8575-aa57b45f6369",
   "metadata": {
    "execution": {
     "iopub.execute_input": "2023-05-15T08:54:21.870390Z",
     "iopub.status.busy": "2023-05-15T08:54:21.870230Z",
     "iopub.status.idle": "2023-05-15T08:54:22.264277Z",
     "shell.execute_reply": "2023-05-15T08:54:22.263819Z"
    },
    "papermill": {
     "duration": 0.398435,
     "end_time": "2023-05-15T08:54:22.265149",
     "exception": false,
     "start_time": "2023-05-15T08:54:21.866714",
     "status": "completed"
    },
    "tags": []
   },
   "outputs": [],
   "source": [
    "fig, ax = plt.subplots(ncols = 4, figsize = (16,4))\n",
    "axis = sc.pl.violin(dataset, \"n_genes_by_counts\", jitter = 0.4, ax = ax[0], show = False)\n",
    "axis.grid(False)\n",
    "axis.set_title(\"Unique Genes per cell\")\n",
    "axis.tick_params(axis = \"x\", bottom =False, labelbottom =False)\n",
    "axis.set_ylabel(\"# genes\")\n",
    "axis.axhline(y = 100, color = \"black\", label = \"cutoff\")\n",
    "axis.legend(fontsize = 14, loc = \"upper right\")\n",
    "\n",
    "axis = sc.pl.violin(dataset, \"pct_counts_mt\", jitter = 0.4, ax = ax[1], show = False)\n",
    "axis.grid(False)\n",
    "axis.set_title(\"Mitochondrial Fraction\")\n",
    "axis.tick_params(axis = \"x\", bottom =False, labelbottom =False)\n",
    "axis.set_ylabel(\"% mitochondrial genes\")\n",
    "axis.axhline(y = 10, color = \"black\", label = \"cutoff\")\n",
    "axis.legend(fontsize = 14, loc = \"upper right\")\n",
    "\n",
    "axis = sc.pl.violin(dataset, \"pct_counts_hb\", jitter = 0.4, ax = ax[2], show = False, size =2)\n",
    "axis.grid(False)\n",
    "axis.set_title(\"Hemoglobin Fraction\")\n",
    "axis.tick_params(axis = \"x\", bottom =False, labelbottom =False)\n",
    "axis.set_ylabel(\"% hemoglobin genes\")\n",
    "axis.axhline(y = 3, color = \"black\", label = \"cutoff\")\n",
    "axis.legend(fontsize = 14, loc = \"upper right\")\n",
    "#axis.set_ylim(0,5)\n",
    "\n",
    "axis = sc.pl.violin(dataset, \"pct_counts_ribo\", jitter = 0.4, ax = ax[3], show = False)\n",
    "axis.grid(False)\n",
    "axis.set_title(\"Ribosomal Fraction\")\n",
    "axis.tick_params(axis = \"x\", bottom =False, labelbottom =False)\n",
    "axis.set_ylabel(\"% ribosome genes\")\n",
    "\n",
    "plt.tight_layout()\n",
    "#plt.savefig(f\"{outputDir}08_gene_based_filtering.pdf\", dpi = 300)\n",
    "plt.show()\n",
    "\n"
   ]
  },
  {
   "cell_type": "code",
   "execution_count": null,
   "id": "d7ade754-843e-4840-8707-426613d8c0c5",
   "metadata": {
    "execution": {
     "iopub.execute_input": "2023-05-15T08:54:22.273908Z",
     "iopub.status.busy": "2023-05-15T08:54:22.273730Z",
     "iopub.status.idle": "2023-05-15T08:54:22.281827Z",
     "shell.execute_reply": "2023-05-15T08:54:22.281523Z"
    },
    "papermill": {
     "duration": 0.013264,
     "end_time": "2023-05-15T08:54:22.282636",
     "exception": false,
     "start_time": "2023-05-15T08:54:22.269372",
     "status": "completed"
    },
    "tags": []
   },
   "outputs": [],
   "source": [
    "dataset = dataset[dataset.obs.pct_counts_mt < 10, :]\n",
    "dataset = dataset[dataset.obs.n_genes_by_counts > 100, :]\n",
    "dataset = dataset[dataset.obs.pct_counts_hb < 3, :]\n",
    "dataset"
   ]
  },
  {
   "cell_type": "code",
   "execution_count": null,
   "id": "1941fa36-e865-4500-b586-f7a32d142c9b",
   "metadata": {
    "execution": {
     "iopub.execute_input": "2023-05-15T08:54:22.290940Z",
     "iopub.status.busy": "2023-05-15T08:54:22.290759Z",
     "iopub.status.idle": "2023-05-15T08:54:22.293549Z",
     "shell.execute_reply": "2023-05-15T08:54:22.293246Z"
    },
    "papermill": {
     "duration": 0.007893,
     "end_time": "2023-05-15T08:54:22.294322",
     "exception": false,
     "start_time": "2023-05-15T08:54:22.286429",
     "status": "completed"
    },
    "tags": []
   },
   "outputs": [],
   "source": [
    "metadata.columns"
   ]
  },
  {
   "cell_type": "code",
   "execution_count": null,
   "id": "2e0ff8c3-2aa9-4a01-9b88-5912a6734447",
   "metadata": {
    "execution": {
     "iopub.execute_input": "2023-05-15T08:54:22.302693Z",
     "iopub.status.busy": "2023-05-15T08:54:22.302462Z",
     "iopub.status.idle": "2023-05-15T08:54:22.318926Z",
     "shell.execute_reply": "2023-05-15T08:54:22.318558Z"
    },
    "papermill": {
     "duration": 0.021643,
     "end_time": "2023-05-15T08:54:22.319829",
     "exception": false,
     "start_time": "2023-05-15T08:54:22.298186",
     "status": "completed"
    },
    "tags": []
   },
   "outputs": [],
   "source": [
    "for col in metadata.columns:\n",
    "    dataset.obs[col] = metadata.loc[metadata[\"Run\"] == sample_name, col].to_list()[0]"
   ]
  },
  {
   "cell_type": "code",
   "execution_count": null,
   "id": "b84578d3-d63e-419c-a272-a0b8317d05ab",
   "metadata": {
    "execution": {
     "iopub.execute_input": "2023-05-15T08:54:22.328739Z",
     "iopub.status.busy": "2023-05-15T08:54:22.328530Z",
     "iopub.status.idle": "2023-05-15T08:54:22.886094Z",
     "shell.execute_reply": "2023-05-15T08:54:22.885633Z"
    },
    "papermill": {
     "duration": 0.563354,
     "end_time": "2023-05-15T08:54:22.887352",
     "exception": false,
     "start_time": "2023-05-15T08:54:22.323998",
     "status": "completed"
    },
    "tags": []
   },
   "outputs": [],
   "source": [
    "dataset.write(f\"../../int_data/{sample_name}_qc.h5ad\")"
   ]
  },
  {
   "cell_type": "code",
   "execution_count": null,
   "id": "501b33a0-432d-415f-ae82-50723484b85d",
   "metadata": {
    "execution": {
     "iopub.execute_input": "2023-05-15T08:54:22.896231Z",
     "iopub.status.busy": "2023-05-15T08:54:22.896085Z",
     "iopub.status.idle": "2023-05-15T08:54:22.898980Z",
     "shell.execute_reply": "2023-05-15T08:54:22.898682Z"
    },
    "papermill": {
     "duration": 0.008027,
     "end_time": "2023-05-15T08:54:22.899739",
     "exception": false,
     "start_time": "2023-05-15T08:54:22.891712",
     "status": "completed"
    },
    "tags": []
   },
   "outputs": [],
   "source": [
    "dataset"
   ]
  }
 ],
 "metadata": {
  "kernelspec": {
   "display_name": "py_R",
   "language": "python",
   "name": "python_r"
  },
  "language_info": {
   "codemirror_mode": {
    "name": "ipython",
    "version": 3
   },
   "file_extension": ".py",
   "mimetype": "text/x-python",
   "name": "python",
   "nbconvert_exporter": "python",
   "pygments_lexer": "ipython3",
   "version": "3.10.9"
  },
  "papermill": {
   "default_parameters": {},
   "duration": 83.694435,
   "end_time": "2023-05-15T08:54:24.321097",
   "environment_variables": {},
   "exception": null,
   "input_path": "template.ipynb",
   "output_path": "SRR13329149.ipynb",
   "parameters": {
    "sample_name": "SRR13329149"
   },
   "start_time": "2023-05-15T08:53:00.626662",
   "version": "2.4.0"
  }
 },
 "nbformat": 4,
 "nbformat_minor": 5
}
