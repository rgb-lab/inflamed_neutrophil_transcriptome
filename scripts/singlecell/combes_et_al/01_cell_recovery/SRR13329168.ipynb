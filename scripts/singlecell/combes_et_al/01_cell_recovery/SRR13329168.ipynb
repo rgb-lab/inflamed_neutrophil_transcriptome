{
 "cells": [
  {
   "cell_type": "code",
   "execution_count": null,
   "id": "4c0f2fa8-5232-4f47-a7ec-6c9bbabe50e2",
   "metadata": {
    "execution": {
     "iopub.execute_input": "2023-05-15T09:12:08.177231Z",
     "iopub.status.busy": "2023-05-15T09:12:08.177071Z",
     "iopub.status.idle": "2023-05-15T09:12:08.181603Z",
     "shell.execute_reply": "2023-05-15T09:12:08.181295Z"
    },
    "papermill": {
     "duration": 0.011133,
     "end_time": "2023-05-15T09:12:08.182646",
     "exception": false,
     "start_time": "2023-05-15T09:12:08.171513",
     "status": "completed"
    },
    "tags": [
     "parameters"
    ]
   },
   "outputs": [],
   "source": [
    "sample_name = \"SRR13329143\""
   ]
  },
  {
   "cell_type": "code",
   "execution_count": null,
   "id": "181b5ff6",
   "metadata": {
    "execution": {
     "iopub.execute_input": "2023-05-15T09:12:08.187817Z",
     "iopub.status.busy": "2023-05-15T09:12:08.187614Z",
     "iopub.status.idle": "2023-05-15T09:12:08.189558Z",
     "shell.execute_reply": "2023-05-15T09:12:08.189265Z"
    },
    "papermill": {
     "duration": 0.005341,
     "end_time": "2023-05-15T09:12:08.190310",
     "exception": false,
     "start_time": "2023-05-15T09:12:08.184969",
     "status": "completed"
    },
    "tags": [
     "injected-parameters"
    ]
   },
   "outputs": [],
   "source": [
    "# Parameters\n",
    "sample_name = \"SRR13329168\"\n"
   ]
  },
  {
   "cell_type": "code",
   "execution_count": null,
   "id": "f87ed95b-2b67-4a5a-8fe2-47359b1dd2a9",
   "metadata": {
    "execution": {
     "iopub.execute_input": "2023-05-15T09:12:08.195461Z",
     "iopub.status.busy": "2023-05-15T09:12:08.195230Z",
     "iopub.status.idle": "2023-05-15T09:12:08.197372Z",
     "shell.execute_reply": "2023-05-15T09:12:08.197083Z"
    },
    "papermill": {
     "duration": 0.005565,
     "end_time": "2023-05-15T09:12:08.198133",
     "exception": false,
     "start_time": "2023-05-15T09:12:08.192568",
     "status": "completed"
    },
    "tags": []
   },
   "outputs": [],
   "source": [
    "import warnings\n",
    "warnings.simplefilter(action='ignore', category=FutureWarning)\n",
    "warnings.simplefilter(action='ignore', category=UserWarning)"
   ]
  },
  {
   "cell_type": "code",
   "execution_count": null,
   "id": "85161f19-b2c5-490b-8cab-c2cf9653b304",
   "metadata": {
    "execution": {
     "iopub.execute_input": "2023-05-15T09:12:08.203815Z",
     "iopub.status.busy": "2023-05-15T09:12:08.203638Z",
     "iopub.status.idle": "2023-05-15T09:12:13.154713Z",
     "shell.execute_reply": "2023-05-15T09:12:13.154253Z"
    },
    "papermill": {
     "duration": 4.955582,
     "end_time": "2023-05-15T09:12:13.155999",
     "exception": false,
     "start_time": "2023-05-15T09:12:08.200417",
     "status": "completed"
    },
    "tags": []
   },
   "outputs": [],
   "source": [
    "import gc\n",
    "import scanpy as sc\n",
    "import muon as mu\n",
    "import seaborn as sns\n",
    "import os\n",
    "import pandas as pd\n",
    "from matplotlib import pyplot as plt\n",
    "\n",
    "os.environ['R_HOME'] = '/gpfs/bwfor/work/ws/hd_fu399-conda/conda/envs/python_R/lib/R/'\n",
    "import anndata2ri\n",
    "import logging\n",
    "\n",
    "import rpy2.rinterface_lib.callbacks as rcb\n",
    "import rpy2.robjects as ro\n",
    "\n",
    "rcb.logger.setLevel(logging.ERROR)\n",
    "ro.pandas2ri.activate()\n",
    "anndata2ri.activate()\n",
    "\n",
    "%load_ext rpy2.ipython"
   ]
  },
  {
   "cell_type": "code",
   "execution_count": null,
   "id": "fc4ade78-b728-4704-9db6-45fbaab62ba1",
   "metadata": {
    "execution": {
     "iopub.execute_input": "2023-05-15T09:12:13.162143Z",
     "iopub.status.busy": "2023-05-15T09:12:13.161714Z",
     "iopub.status.idle": "2023-05-15T09:12:24.010495Z",
     "shell.execute_reply": "2023-05-15T09:12:24.009983Z"
    },
    "papermill": {
     "duration": 10.853021,
     "end_time": "2023-05-15T09:12:24.011861",
     "exception": false,
     "start_time": "2023-05-15T09:12:13.158840",
     "status": "completed"
    },
    "tags": []
   },
   "outputs": [],
   "source": [
    "%%R\n",
    "library(SoupX)\n",
    "library(Seurat)\n",
    "library(scater)\n",
    "library(scDblFinder)\n",
    "library(BiocParallel)\n",
    "library(MuDataSeurat)\n",
    "library(DropletUtils)"
   ]
  },
  {
   "cell_type": "code",
   "execution_count": null,
   "id": "f7424d90-7690-4290-8651-1db3f9df3a35",
   "metadata": {
    "execution": {
     "iopub.execute_input": "2023-05-15T09:12:24.020305Z",
     "iopub.status.busy": "2023-05-15T09:12:24.020000Z",
     "iopub.status.idle": "2023-05-15T09:12:24.026272Z",
     "shell.execute_reply": "2023-05-15T09:12:24.025956Z"
    },
    "papermill": {
     "duration": 0.010426,
     "end_time": "2023-05-15T09:12:24.027069",
     "exception": false,
     "start_time": "2023-05-15T09:12:24.016643",
     "status": "completed"
    },
    "tags": []
   },
   "outputs": [],
   "source": [
    "metadata = pd.read_csv(\"../../combes_metadata.txt\")"
   ]
  },
  {
   "cell_type": "code",
   "execution_count": null,
   "id": "2574ecf1-bad4-4c33-8f3f-718a358727ab",
   "metadata": {
    "execution": {
     "iopub.execute_input": "2023-05-15T09:12:24.032556Z",
     "iopub.status.busy": "2023-05-15T09:12:24.032391Z",
     "iopub.status.idle": "2023-05-15T09:12:24.042484Z",
     "shell.execute_reply": "2023-05-15T09:12:24.042188Z"
    },
    "papermill": {
     "duration": 0.013852,
     "end_time": "2023-05-15T09:12:24.043381",
     "exception": false,
     "start_time": "2023-05-15T09:12:24.029529",
     "status": "completed"
    },
    "tags": []
   },
   "outputs": [],
   "source": [
    "raw_input = f\"/home/hd/hd_hd/hd_fu399/sds-hd/sd21k006/scRNAseq/revision_natcomm/combes_et_al/fetchngs/results/fastq/{sample_name}/{sample_name}/outs/raw_feature_bc_matrix.h5\""
   ]
  },
  {
   "cell_type": "code",
   "execution_count": null,
   "id": "e266d388-1802-435c-93a5-90067358739c",
   "metadata": {
    "execution": {
     "iopub.execute_input": "2023-05-15T09:12:24.049315Z",
     "iopub.status.busy": "2023-05-15T09:12:24.049017Z",
     "iopub.status.idle": "2023-05-15T09:12:24.390947Z",
     "shell.execute_reply": "2023-05-15T09:12:24.390509Z"
    },
    "papermill": {
     "duration": 0.345868,
     "end_time": "2023-05-15T09:12:24.391869",
     "exception": false,
     "start_time": "2023-05-15T09:12:24.046001",
     "status": "completed"
    },
    "tags": []
   },
   "outputs": [],
   "source": [
    "dataset = sc.read_10x_h5(raw_input)\n",
    "dataset.var_names_make_unique()\n",
    "dataset.obs_names_make_unique()\n",
    "\n",
    "dataset.layers[\"raw_counts\"] = dataset.X.copy()\n",
    "data_tod = dataset.layers[\"raw_counts\"].T.copy()\n",
    "\n",
    "dataset"
   ]
  },
  {
   "cell_type": "code",
   "execution_count": null,
   "id": "af9f5892-ed31-42a6-991b-4e096f582cef",
   "metadata": {
    "execution": {
     "iopub.execute_input": "2023-05-15T09:12:24.398204Z",
     "iopub.status.busy": "2023-05-15T09:12:24.398031Z",
     "iopub.status.idle": "2023-05-15T09:12:24.426630Z",
     "shell.execute_reply": "2023-05-15T09:12:24.426220Z"
    },
    "papermill": {
     "duration": 0.033001,
     "end_time": "2023-05-15T09:12:24.427942",
     "exception": false,
     "start_time": "2023-05-15T09:12:24.394941",
     "status": "completed"
    },
    "tags": []
   },
   "outputs": [],
   "source": [
    "sce = dataset.copy()"
   ]
  },
  {
   "cell_type": "code",
   "execution_count": null,
   "id": "d03f2caf-8e74-430e-b045-0ab80401d165",
   "metadata": {
    "execution": {
     "iopub.execute_input": "2023-05-15T09:12:24.434142Z",
     "iopub.status.busy": "2023-05-15T09:12:24.433979Z",
     "iopub.status.idle": "2023-05-15T09:12:55.074515Z",
     "shell.execute_reply": "2023-05-15T09:12:55.073926Z"
    },
    "papermill": {
     "duration": 30.644993,
     "end_time": "2023-05-15T09:12:55.075873",
     "exception": false,
     "start_time": "2023-05-15T09:12:24.430880",
     "status": "completed"
    },
    "tags": []
   },
   "outputs": [],
   "source": [
    "%%R -i sce -o empty_drop_output\n",
    "set.seed(187)\n",
    "empty_drop_output <- emptyDrops(assay(sce))"
   ]
  },
  {
   "cell_type": "code",
   "execution_count": null,
   "id": "2a34a54b-3ae2-44d6-8679-8769228c5b66",
   "metadata": {
    "execution": {
     "iopub.execute_input": "2023-05-15T09:12:55.085151Z",
     "iopub.status.busy": "2023-05-15T09:12:55.084932Z",
     "iopub.status.idle": "2023-05-15T09:12:55.105721Z",
     "shell.execute_reply": "2023-05-15T09:12:55.105407Z"
    },
    "papermill": {
     "duration": 0.025266,
     "end_time": "2023-05-15T09:12:55.106496",
     "exception": false,
     "start_time": "2023-05-15T09:12:55.081230",
     "status": "completed"
    },
    "tags": []
   },
   "outputs": [],
   "source": [
    "non_empty_barcodes = empty_drop_output[empty_drop_output[\"FDR\"] < 0.001].index\n",
    "dataset = dataset[dataset.obs.index.isin(non_empty_barcodes), :]\n",
    "dataset"
   ]
  },
  {
   "cell_type": "code",
   "execution_count": null,
   "id": "016a91e5-1bef-46fb-b91e-4fb9a6870c44",
   "metadata": {
    "execution": {
     "iopub.execute_input": "2023-05-15T09:12:55.112408Z",
     "iopub.status.busy": "2023-05-15T09:12:55.112255Z",
     "iopub.status.idle": "2023-05-15T09:12:57.509870Z",
     "shell.execute_reply": "2023-05-15T09:12:57.509383Z"
    },
    "papermill": {
     "duration": 2.402005,
     "end_time": "2023-05-15T09:12:57.511124",
     "exception": false,
     "start_time": "2023-05-15T09:12:55.109119",
     "status": "completed"
    },
    "tags": []
   },
   "outputs": [],
   "source": [
    "rna_assay = dataset.copy()\n",
    "sc.pp.normalize_per_cell(rna_assay)\n",
    "sc.pp.log1p(rna_assay)\n",
    "sc.pp.pca(rna_assay)\n",
    "sc.pp.neighbors(rna_assay)\n",
    "sc.tl.leiden(rna_assay, key_added=\"soupx_groups\")\n",
    "\n",
    "soupx_groups = rna_assay.obs[\"soupx_groups\"]\n",
    "\n",
    "del rna_assay\n",
    "\n",
    "genes = dataset.var_names\n",
    "cells = dataset.obs_names\n",
    "data = dataset.X.T.copy()"
   ]
  },
  {
   "cell_type": "code",
   "execution_count": null,
   "id": "9db4ea1f-1580-4f43-a3f0-86002397cd98",
   "metadata": {
    "execution": {
     "iopub.execute_input": "2023-05-15T09:12:57.518455Z",
     "iopub.status.busy": "2023-05-15T09:12:57.518288Z",
     "iopub.status.idle": "2023-05-15T09:13:03.126946Z",
     "shell.execute_reply": "2023-05-15T09:13:03.126344Z"
    },
    "papermill": {
     "duration": 5.61385,
     "end_time": "2023-05-15T09:13:03.128249",
     "exception": false,
     "start_time": "2023-05-15T09:12:57.514399",
     "status": "completed"
    },
    "tags": []
   },
   "outputs": [],
   "source": [
    "%%R -i data -i data_tod -i genes -i cells -i soupx_groups -o out \n",
    "set.seed(187)\n",
    "# specify row and column names of data\n",
    "rownames(data) = genes\n",
    "colnames(data) = cells\n",
    "# ensure correct sparse format for table of counts and table of droplets\n",
    "data <- as(data, \"sparseMatrix\")\n",
    "data_tod <- as(data_tod, \"sparseMatrix\")\n",
    "\n",
    "# Generate SoupChannel Object for SoupX \n",
    "sc = SoupChannel(data_tod, data, calcSoupProfile = FALSE)\n",
    "\n",
    "# Add extra meta data to the SoupChannel object\n",
    "soupProf = data.frame(row.names = rownames(data),\n",
    "                      est = rowSums(data)/sum(data),\n",
    "                      counts = rowSums(data))\n",
    "sc = setSoupProfile(sc, soupProf)\n",
    "# Set cluster information in SoupChannel\n",
    "sc = setClusters(sc, soupx_groups)\n",
    "\n",
    "# Estimate contamination fraction\n",
    "sc  = autoEstCont(sc, doPlot=FALSE, forceAccept = TRUE)\n",
    "# Infer corrected table of counts and rount to integer\n",
    "out = adjustCounts(sc, roundToInt = TRUE)"
   ]
  },
  {
   "cell_type": "code",
   "execution_count": null,
   "id": "32555d5e-5fa3-46dd-a4e0-ddc96ea265e2",
   "metadata": {
    "execution": {
     "iopub.execute_input": "2023-05-15T09:13:03.137240Z",
     "iopub.status.busy": "2023-05-15T09:13:03.137062Z",
     "iopub.status.idle": "2023-05-15T09:13:03.148695Z",
     "shell.execute_reply": "2023-05-15T09:13:03.148244Z"
    },
    "papermill": {
     "duration": 0.016575,
     "end_time": "2023-05-15T09:13:03.149868",
     "exception": false,
     "start_time": "2023-05-15T09:13:03.133293",
     "status": "completed"
    },
    "tags": []
   },
   "outputs": [],
   "source": [
    "dataset.layers[\"soupX_counts\"] = out.T\n",
    "dataset.X = dataset.layers[\"soupX_counts\"].copy()"
   ]
  },
  {
   "cell_type": "code",
   "execution_count": null,
   "id": "e27da7df-e094-4d2a-9109-5a363e012175",
   "metadata": {
    "execution": {
     "iopub.execute_input": "2023-05-15T09:13:03.156561Z",
     "iopub.status.busy": "2023-05-15T09:13:03.156422Z",
     "iopub.status.idle": "2023-05-15T09:13:03.158786Z",
     "shell.execute_reply": "2023-05-15T09:13:03.158476Z"
    },
    "papermill": {
     "duration": 0.006619,
     "end_time": "2023-05-15T09:13:03.159582",
     "exception": false,
     "start_time": "2023-05-15T09:13:03.152963",
     "status": "completed"
    },
    "tags": []
   },
   "outputs": [],
   "source": [
    "data_mat = dataset.X.T"
   ]
  },
  {
   "cell_type": "code",
   "execution_count": null,
   "id": "80a993b1-5ccb-4697-9187-1beb7ab8aff9",
   "metadata": {
    "execution": {
     "iopub.execute_input": "2023-05-15T09:13:03.165789Z",
     "iopub.status.busy": "2023-05-15T09:13:03.165611Z",
     "iopub.status.idle": "2023-05-15T09:13:17.479443Z",
     "shell.execute_reply": "2023-05-15T09:13:17.478860Z"
    },
    "papermill": {
     "duration": 14.318481,
     "end_time": "2023-05-15T09:13:17.480822",
     "exception": false,
     "start_time": "2023-05-15T09:13:03.162341",
     "status": "completed"
    },
    "tags": []
   },
   "outputs": [],
   "source": [
    "%%R -i data_mat -o droplet_class\n",
    "\n",
    "set.seed(187)\n",
    "sce = scDblFinder(\n",
    "    SingleCellExperiment(\n",
    "        list(counts=data_mat),\n",
    "    ) \n",
    ")\n",
    "droplet_class = sce$scDblFinder.class"
   ]
  },
  {
   "cell_type": "code",
   "execution_count": null,
   "id": "d4dd6e9d-fcf2-41fc-8457-c8e0a3cb2c71",
   "metadata": {
    "execution": {
     "iopub.execute_input": "2023-05-15T09:13:17.490211Z",
     "iopub.status.busy": "2023-05-15T09:13:17.490066Z",
     "iopub.status.idle": "2023-05-15T09:13:17.495021Z",
     "shell.execute_reply": "2023-05-15T09:13:17.494707Z"
    },
    "papermill": {
     "duration": 0.009918,
     "end_time": "2023-05-15T09:13:17.495794",
     "exception": false,
     "start_time": "2023-05-15T09:13:17.485876",
     "status": "completed"
    },
    "tags": []
   },
   "outputs": [],
   "source": [
    "dataset.obs[\"scDblFinder_class\"] = droplet_class\n",
    "dataset.obs.scDblFinder_class.value_counts()\n",
    "dataset"
   ]
  },
  {
   "cell_type": "code",
   "execution_count": null,
   "id": "28c95014-2d6c-477f-95cb-9f9f0507520c",
   "metadata": {
    "execution": {
     "iopub.execute_input": "2023-05-15T09:13:17.502143Z",
     "iopub.status.busy": "2023-05-15T09:13:17.501988Z",
     "iopub.status.idle": "2023-05-15T09:13:17.519452Z",
     "shell.execute_reply": "2023-05-15T09:13:17.519024Z"
    },
    "papermill": {
     "duration": 0.021735,
     "end_time": "2023-05-15T09:13:17.520370",
     "exception": false,
     "start_time": "2023-05-15T09:13:17.498635",
     "status": "completed"
    },
    "tags": []
   },
   "outputs": [],
   "source": [
    "dataset = dataset[dataset.obs[\"scDblFinder_class\"] == 1]"
   ]
  },
  {
   "cell_type": "code",
   "execution_count": null,
   "id": "3e22f9e0-bfcb-416c-a151-a9bca3bec3b9",
   "metadata": {
    "execution": {
     "iopub.execute_input": "2023-05-15T09:13:17.527453Z",
     "iopub.status.busy": "2023-05-15T09:13:17.527300Z",
     "iopub.status.idle": "2023-05-15T09:13:17.592580Z",
     "shell.execute_reply": "2023-05-15T09:13:17.592154Z"
    },
    "papermill": {
     "duration": 0.070051,
     "end_time": "2023-05-15T09:13:17.593441",
     "exception": false,
     "start_time": "2023-05-15T09:13:17.523390",
     "status": "completed"
    },
    "tags": []
   },
   "outputs": [],
   "source": [
    "# mitochondrial genes\n",
    "dataset.var[\"mt\"] = dataset.var_names.str.startswith(\"MT-\")\n",
    "# ribosomal genes\n",
    "dataset.var[\"ribo\"] = dataset.var_names.str.startswith((\"RPS\", \"RPL\"))\n",
    "# hemoglobin genes.\n",
    "dataset.var[\"hb\"] = dataset.var_names.str.contains((\"^HB[^(P)]\"))\n",
    "\n",
    "sc.pp.calculate_qc_metrics(dataset,\n",
    "                           qc_vars=['mt', 'ribo', 'hb'],\n",
    "                           percent_top=None,\n",
    "                           log1p=False,\n",
    "                           inplace=True)\n",
    "dataset"
   ]
  },
  {
   "cell_type": "code",
   "execution_count": null,
   "id": "34deee79-4043-428f-8575-aa57b45f6369",
   "metadata": {
    "execution": {
     "iopub.execute_input": "2023-05-15T09:13:17.600602Z",
     "iopub.status.busy": "2023-05-15T09:13:17.600432Z",
     "iopub.status.idle": "2023-05-15T09:13:18.022128Z",
     "shell.execute_reply": "2023-05-15T09:13:18.021694Z"
    },
    "papermill": {
     "duration": 0.426103,
     "end_time": "2023-05-15T09:13:18.023024",
     "exception": false,
     "start_time": "2023-05-15T09:13:17.596921",
     "status": "completed"
    },
    "tags": []
   },
   "outputs": [],
   "source": [
    "fig, ax = plt.subplots(ncols = 4, figsize = (16,4))\n",
    "axis = sc.pl.violin(dataset, \"n_genes_by_counts\", jitter = 0.4, ax = ax[0], show = False)\n",
    "axis.grid(False)\n",
    "axis.set_title(\"Unique Genes per cell\")\n",
    "axis.tick_params(axis = \"x\", bottom =False, labelbottom =False)\n",
    "axis.set_ylabel(\"# genes\")\n",
    "axis.axhline(y = 100, color = \"black\", label = \"cutoff\")\n",
    "axis.legend(fontsize = 14, loc = \"upper right\")\n",
    "\n",
    "axis = sc.pl.violin(dataset, \"pct_counts_mt\", jitter = 0.4, ax = ax[1], show = False)\n",
    "axis.grid(False)\n",
    "axis.set_title(\"Mitochondrial Fraction\")\n",
    "axis.tick_params(axis = \"x\", bottom =False, labelbottom =False)\n",
    "axis.set_ylabel(\"% mitochondrial genes\")\n",
    "axis.axhline(y = 10, color = \"black\", label = \"cutoff\")\n",
    "axis.legend(fontsize = 14, loc = \"upper right\")\n",
    "\n",
    "axis = sc.pl.violin(dataset, \"pct_counts_hb\", jitter = 0.4, ax = ax[2], show = False, size =2)\n",
    "axis.grid(False)\n",
    "axis.set_title(\"Hemoglobin Fraction\")\n",
    "axis.tick_params(axis = \"x\", bottom =False, labelbottom =False)\n",
    "axis.set_ylabel(\"% hemoglobin genes\")\n",
    "axis.axhline(y = 3, color = \"black\", label = \"cutoff\")\n",
    "axis.legend(fontsize = 14, loc = \"upper right\")\n",
    "#axis.set_ylim(0,5)\n",
    "\n",
    "axis = sc.pl.violin(dataset, \"pct_counts_ribo\", jitter = 0.4, ax = ax[3], show = False)\n",
    "axis.grid(False)\n",
    "axis.set_title(\"Ribosomal Fraction\")\n",
    "axis.tick_params(axis = \"x\", bottom =False, labelbottom =False)\n",
    "axis.set_ylabel(\"% ribosome genes\")\n",
    "\n",
    "plt.tight_layout()\n",
    "#plt.savefig(f\"{outputDir}08_gene_based_filtering.pdf\", dpi = 300)\n",
    "plt.show()\n",
    "\n"
   ]
  },
  {
   "cell_type": "code",
   "execution_count": null,
   "id": "d7ade754-843e-4840-8707-426613d8c0c5",
   "metadata": {
    "execution": {
     "iopub.execute_input": "2023-05-15T09:13:18.033949Z",
     "iopub.status.busy": "2023-05-15T09:13:18.033778Z",
     "iopub.status.idle": "2023-05-15T09:13:18.042325Z",
     "shell.execute_reply": "2023-05-15T09:13:18.041989Z"
    },
    "papermill": {
     "duration": 0.01427,
     "end_time": "2023-05-15T09:13:18.043183",
     "exception": false,
     "start_time": "2023-05-15T09:13:18.028913",
     "status": "completed"
    },
    "tags": []
   },
   "outputs": [],
   "source": [
    "dataset = dataset[dataset.obs.pct_counts_mt < 10, :]\n",
    "dataset = dataset[dataset.obs.n_genes_by_counts > 100, :]\n",
    "dataset = dataset[dataset.obs.pct_counts_hb < 3, :]\n",
    "dataset"
   ]
  },
  {
   "cell_type": "code",
   "execution_count": null,
   "id": "1941fa36-e865-4500-b586-f7a32d142c9b",
   "metadata": {
    "execution": {
     "iopub.execute_input": "2023-05-15T09:13:18.052474Z",
     "iopub.status.busy": "2023-05-15T09:13:18.052316Z",
     "iopub.status.idle": "2023-05-15T09:13:18.055385Z",
     "shell.execute_reply": "2023-05-15T09:13:18.055078Z"
    },
    "papermill": {
     "duration": 0.008478,
     "end_time": "2023-05-15T09:13:18.056141",
     "exception": false,
     "start_time": "2023-05-15T09:13:18.047663",
     "status": "completed"
    },
    "tags": []
   },
   "outputs": [],
   "source": [
    "metadata.columns"
   ]
  },
  {
   "cell_type": "code",
   "execution_count": null,
   "id": "2e0ff8c3-2aa9-4a01-9b88-5912a6734447",
   "metadata": {
    "execution": {
     "iopub.execute_input": "2023-05-15T09:13:18.065828Z",
     "iopub.status.busy": "2023-05-15T09:13:18.065612Z",
     "iopub.status.idle": "2023-05-15T09:13:18.087359Z",
     "shell.execute_reply": "2023-05-15T09:13:18.086956Z"
    },
    "papermill": {
     "duration": 0.028296,
     "end_time": "2023-05-15T09:13:18.088721",
     "exception": false,
     "start_time": "2023-05-15T09:13:18.060425",
     "status": "completed"
    },
    "tags": []
   },
   "outputs": [],
   "source": [
    "for col in metadata.columns:\n",
    "    dataset.obs[col] = metadata.loc[metadata[\"Run\"] == sample_name, col].to_list()[0]"
   ]
  },
  {
   "cell_type": "code",
   "execution_count": null,
   "id": "b84578d3-d63e-419c-a272-a0b8317d05ab",
   "metadata": {
    "execution": {
     "iopub.execute_input": "2023-05-15T09:13:18.098486Z",
     "iopub.status.busy": "2023-05-15T09:13:18.098324Z",
     "iopub.status.idle": "2023-05-15T09:13:18.600733Z",
     "shell.execute_reply": "2023-05-15T09:13:18.600240Z"
    },
    "papermill": {
     "duration": 0.508641,
     "end_time": "2023-05-15T09:13:18.602048",
     "exception": false,
     "start_time": "2023-05-15T09:13:18.093407",
     "status": "completed"
    },
    "tags": []
   },
   "outputs": [],
   "source": [
    "dataset.write(f\"../../int_data/{sample_name}_qc.h5ad\")"
   ]
  },
  {
   "cell_type": "code",
   "execution_count": null,
   "id": "501b33a0-432d-415f-ae82-50723484b85d",
   "metadata": {
    "execution": {
     "iopub.execute_input": "2023-05-15T09:13:18.611893Z",
     "iopub.status.busy": "2023-05-15T09:13:18.611705Z",
     "iopub.status.idle": "2023-05-15T09:13:18.614865Z",
     "shell.execute_reply": "2023-05-15T09:13:18.614538Z"
    },
    "papermill": {
     "duration": 0.008898,
     "end_time": "2023-05-15T09:13:18.615690",
     "exception": false,
     "start_time": "2023-05-15T09:13:18.606792",
     "status": "completed"
    },
    "tags": []
   },
   "outputs": [],
   "source": [
    "dataset"
   ]
  }
 ],
 "metadata": {
  "kernelspec": {
   "display_name": "py_R",
   "language": "python",
   "name": "python_r"
  },
  "language_info": {
   "codemirror_mode": {
    "name": "ipython",
    "version": 3
   },
   "file_extension": ".py",
   "mimetype": "text/x-python",
   "name": "python",
   "nbconvert_exporter": "python",
   "pygments_lexer": "ipython3",
   "version": "3.10.9"
  },
  "papermill": {
   "default_parameters": {},
   "duration": 73.168063,
   "end_time": "2023-05-15T09:13:20.037565",
   "environment_variables": {},
   "exception": null,
   "input_path": "template.ipynb",
   "output_path": "SRR13329168.ipynb",
   "parameters": {
    "sample_name": "SRR13329168"
   },
   "start_time": "2023-05-15T09:12:06.869502",
   "version": "2.4.0"
  }
 },
 "nbformat": 4,
 "nbformat_minor": 5
}
