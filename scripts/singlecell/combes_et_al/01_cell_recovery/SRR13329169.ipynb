{
 "cells": [
  {
   "cell_type": "code",
   "execution_count": null,
   "id": "4c0f2fa8-5232-4f47-a7ec-6c9bbabe50e2",
   "metadata": {
    "execution": {
     "iopub.execute_input": "2023-05-15T09:46:58.087084Z",
     "iopub.status.busy": "2023-05-15T09:46:58.086940Z",
     "iopub.status.idle": "2023-05-15T09:46:58.091606Z",
     "shell.execute_reply": "2023-05-15T09:46:58.091289Z"
    },
    "papermill": {
     "duration": 0.033531,
     "end_time": "2023-05-15T09:46:58.092446",
     "exception": false,
     "start_time": "2023-05-15T09:46:58.058915",
     "status": "completed"
    },
    "tags": [
     "parameters"
    ]
   },
   "outputs": [],
   "source": [
    "sample_name = \"SRR13329143\""
   ]
  },
  {
   "cell_type": "code",
   "execution_count": null,
   "id": "d4b74b9f",
   "metadata": {
    "execution": {
     "iopub.execute_input": "2023-05-15T09:46:58.099183Z",
     "iopub.status.busy": "2023-05-15T09:46:58.098965Z",
     "iopub.status.idle": "2023-05-15T09:46:58.108669Z",
     "shell.execute_reply": "2023-05-15T09:46:58.108344Z"
    },
    "papermill": {
     "duration": 0.014112,
     "end_time": "2023-05-15T09:46:58.109409",
     "exception": false,
     "start_time": "2023-05-15T09:46:58.095297",
     "status": "completed"
    },
    "tags": [
     "injected-parameters"
    ]
   },
   "outputs": [],
   "source": [
    "# Parameters\n",
    "sample_name = \"SRR13329169\"\n"
   ]
  },
  {
   "cell_type": "code",
   "execution_count": null,
   "id": "f87ed95b-2b67-4a5a-8fe2-47359b1dd2a9",
   "metadata": {
    "execution": {
     "iopub.execute_input": "2023-05-15T09:46:58.116996Z",
     "iopub.status.busy": "2023-05-15T09:46:58.116735Z",
     "iopub.status.idle": "2023-05-15T09:46:58.118925Z",
     "shell.execute_reply": "2023-05-15T09:46:58.118620Z"
    },
    "papermill": {
     "duration": 0.006808,
     "end_time": "2023-05-15T09:46:58.119639",
     "exception": false,
     "start_time": "2023-05-15T09:46:58.112831",
     "status": "completed"
    },
    "tags": []
   },
   "outputs": [],
   "source": [
    "import warnings\n",
    "warnings.simplefilter(action='ignore', category=FutureWarning)\n",
    "warnings.simplefilter(action='ignore', category=UserWarning)"
   ]
  },
  {
   "cell_type": "code",
   "execution_count": null,
   "id": "85161f19-b2c5-490b-8cab-c2cf9653b304",
   "metadata": {
    "execution": {
     "iopub.execute_input": "2023-05-15T09:46:58.127492Z",
     "iopub.status.busy": "2023-05-15T09:46:58.127251Z",
     "iopub.status.idle": "2023-05-15T09:47:16.659884Z",
     "shell.execute_reply": "2023-05-15T09:47:16.659425Z"
    },
    "papermill": {
     "duration": 18.536532,
     "end_time": "2023-05-15T09:47:16.661231",
     "exception": false,
     "start_time": "2023-05-15T09:46:58.124699",
     "status": "completed"
    },
    "tags": []
   },
   "outputs": [],
   "source": [
    "import gc\n",
    "import scanpy as sc\n",
    "import muon as mu\n",
    "import seaborn as sns\n",
    "import os\n",
    "import pandas as pd\n",
    "from matplotlib import pyplot as plt\n",
    "\n",
    "os.environ['R_HOME'] = '/gpfs/bwfor/work/ws/hd_fu399-conda/conda/envs/python_R/lib/R/'\n",
    "import anndata2ri\n",
    "import logging\n",
    "\n",
    "import rpy2.rinterface_lib.callbacks as rcb\n",
    "import rpy2.robjects as ro\n",
    "\n",
    "rcb.logger.setLevel(logging.ERROR)\n",
    "ro.pandas2ri.activate()\n",
    "anndata2ri.activate()\n",
    "\n",
    "%load_ext rpy2.ipython"
   ]
  },
  {
   "cell_type": "code",
   "execution_count": null,
   "id": "fc4ade78-b728-4704-9db6-45fbaab62ba1",
   "metadata": {
    "execution": {
     "iopub.execute_input": "2023-05-15T09:47:16.686070Z",
     "iopub.status.busy": "2023-05-15T09:47:16.685643Z",
     "iopub.status.idle": "2023-05-15T09:47:30.546530Z",
     "shell.execute_reply": "2023-05-15T09:47:30.546050Z"
    },
    "papermill": {
     "duration": 13.865076,
     "end_time": "2023-05-15T09:47:30.547853",
     "exception": false,
     "start_time": "2023-05-15T09:47:16.682777",
     "status": "completed"
    },
    "tags": []
   },
   "outputs": [],
   "source": [
    "%%R\n",
    "library(SoupX)\n",
    "library(Seurat)\n",
    "library(scater)\n",
    "library(scDblFinder)\n",
    "library(BiocParallel)\n",
    "library(MuDataSeurat)\n",
    "library(DropletUtils)"
   ]
  },
  {
   "cell_type": "code",
   "execution_count": null,
   "id": "f7424d90-7690-4290-8651-1db3f9df3a35",
   "metadata": {
    "execution": {
     "iopub.execute_input": "2023-05-15T09:47:30.589938Z",
     "iopub.status.busy": "2023-05-15T09:47:30.589562Z",
     "iopub.status.idle": "2023-05-15T09:47:30.612900Z",
     "shell.execute_reply": "2023-05-15T09:47:30.612557Z"
    },
    "papermill": {
     "duration": 0.027353,
     "end_time": "2023-05-15T09:47:30.613710",
     "exception": false,
     "start_time": "2023-05-15T09:47:30.586357",
     "status": "completed"
    },
    "tags": []
   },
   "outputs": [],
   "source": [
    "metadata = pd.read_csv(\"../../combes_metadata.txt\")"
   ]
  },
  {
   "cell_type": "code",
   "execution_count": null,
   "id": "2574ecf1-bad4-4c33-8f3f-718a358727ab",
   "metadata": {
    "execution": {
     "iopub.execute_input": "2023-05-15T09:47:30.661124Z",
     "iopub.status.busy": "2023-05-15T09:47:30.660792Z",
     "iopub.status.idle": "2023-05-15T09:47:30.663064Z",
     "shell.execute_reply": "2023-05-15T09:47:30.662741Z"
    },
    "papermill": {
     "duration": 0.006003,
     "end_time": "2023-05-15T09:47:30.663794",
     "exception": false,
     "start_time": "2023-05-15T09:47:30.657791",
     "status": "completed"
    },
    "tags": []
   },
   "outputs": [],
   "source": [
    "raw_input = f\"/home/hd/hd_hd/hd_fu399/sds-hd/sd21k006/scRNAseq/revision_natcomm/combes_et_al/fetchngs/results/fastq/{sample_name}/{sample_name}/outs/raw_feature_bc_matrix.h5\""
   ]
  },
  {
   "cell_type": "code",
   "execution_count": null,
   "id": "e266d388-1802-435c-93a5-90067358739c",
   "metadata": {
    "execution": {
     "iopub.execute_input": "2023-05-15T09:47:30.668984Z",
     "iopub.status.busy": "2023-05-15T09:47:30.668856Z",
     "iopub.status.idle": "2023-05-15T09:47:31.046180Z",
     "shell.execute_reply": "2023-05-15T09:47:31.045745Z"
    },
    "papermill": {
     "duration": 0.380986,
     "end_time": "2023-05-15T09:47:31.047091",
     "exception": false,
     "start_time": "2023-05-15T09:47:30.666105",
     "status": "completed"
    },
    "tags": []
   },
   "outputs": [],
   "source": [
    "dataset = sc.read_10x_h5(raw_input)\n",
    "dataset.var_names_make_unique()\n",
    "dataset.obs_names_make_unique()\n",
    "\n",
    "dataset.layers[\"raw_counts\"] = dataset.X.copy()\n",
    "data_tod = dataset.layers[\"raw_counts\"].T.copy()\n",
    "\n",
    "dataset"
   ]
  },
  {
   "cell_type": "code",
   "execution_count": null,
   "id": "af9f5892-ed31-42a6-991b-4e096f582cef",
   "metadata": {
    "execution": {
     "iopub.execute_input": "2023-05-15T09:47:31.076159Z",
     "iopub.status.busy": "2023-05-15T09:47:31.075944Z",
     "iopub.status.idle": "2023-05-15T09:47:31.104298Z",
     "shell.execute_reply": "2023-05-15T09:47:31.103883Z"
    },
    "papermill": {
     "duration": 0.032773,
     "end_time": "2023-05-15T09:47:31.105590",
     "exception": false,
     "start_time": "2023-05-15T09:47:31.072817",
     "status": "completed"
    },
    "tags": []
   },
   "outputs": [],
   "source": [
    "sce = dataset.copy()"
   ]
  },
  {
   "cell_type": "code",
   "execution_count": null,
   "id": "d03f2caf-8e74-430e-b045-0ab80401d165",
   "metadata": {
    "execution": {
     "iopub.execute_input": "2023-05-15T09:47:31.111458Z",
     "iopub.status.busy": "2023-05-15T09:47:31.111288Z",
     "iopub.status.idle": "2023-05-15T09:48:00.830570Z",
     "shell.execute_reply": "2023-05-15T09:48:00.830016Z"
    },
    "papermill": {
     "duration": 29.723441,
     "end_time": "2023-05-15T09:48:00.831829",
     "exception": false,
     "start_time": "2023-05-15T09:47:31.108388",
     "status": "completed"
    },
    "tags": []
   },
   "outputs": [],
   "source": [
    "%%R -i sce -o empty_drop_output\n",
    "set.seed(187)\n",
    "empty_drop_output <- emptyDrops(assay(sce))"
   ]
  },
  {
   "cell_type": "code",
   "execution_count": null,
   "id": "2a34a54b-3ae2-44d6-8679-8769228c5b66",
   "metadata": {
    "execution": {
     "iopub.execute_input": "2023-05-15T09:48:00.872510Z",
     "iopub.status.busy": "2023-05-15T09:48:00.872120Z",
     "iopub.status.idle": "2023-05-15T09:48:00.892229Z",
     "shell.execute_reply": "2023-05-15T09:48:00.891902Z"
    },
    "papermill": {
     "duration": 0.025542,
     "end_time": "2023-05-15T09:48:00.893038",
     "exception": false,
     "start_time": "2023-05-15T09:48:00.867496",
     "status": "completed"
    },
    "tags": []
   },
   "outputs": [],
   "source": [
    "non_empty_barcodes = empty_drop_output[empty_drop_output[\"FDR\"] < 0.001].index\n",
    "dataset = dataset[dataset.obs.index.isin(non_empty_barcodes), :]\n",
    "dataset"
   ]
  },
  {
   "cell_type": "code",
   "execution_count": null,
   "id": "016a91e5-1bef-46fb-b91e-4fb9a6870c44",
   "metadata": {
    "execution": {
     "iopub.execute_input": "2023-05-15T09:48:00.900790Z",
     "iopub.status.busy": "2023-05-15T09:48:00.900590Z",
     "iopub.status.idle": "2023-05-15T09:48:03.329297Z",
     "shell.execute_reply": "2023-05-15T09:48:03.328798Z"
    },
    "papermill": {
     "duration": 2.433044,
     "end_time": "2023-05-15T09:48:03.330529",
     "exception": false,
     "start_time": "2023-05-15T09:48:00.897485",
     "status": "completed"
    },
    "tags": []
   },
   "outputs": [],
   "source": [
    "rna_assay = dataset.copy()\n",
    "sc.pp.normalize_per_cell(rna_assay)\n",
    "sc.pp.log1p(rna_assay)\n",
    "sc.pp.pca(rna_assay)\n",
    "sc.pp.neighbors(rna_assay)\n",
    "sc.tl.leiden(rna_assay, key_added=\"soupx_groups\")\n",
    "\n",
    "soupx_groups = rna_assay.obs[\"soupx_groups\"]\n",
    "\n",
    "del rna_assay\n",
    "\n",
    "genes = dataset.var_names\n",
    "cells = dataset.obs_names\n",
    "data = dataset.X.T.copy()"
   ]
  },
  {
   "cell_type": "code",
   "execution_count": null,
   "id": "9db4ea1f-1580-4f43-a3f0-86002397cd98",
   "metadata": {
    "execution": {
     "iopub.execute_input": "2023-05-15T09:48:03.369684Z",
     "iopub.status.busy": "2023-05-15T09:48:03.369283Z",
     "iopub.status.idle": "2023-05-15T09:48:08.893002Z",
     "shell.execute_reply": "2023-05-15T09:48:08.892512Z"
    },
    "papermill": {
     "duration": 5.528399,
     "end_time": "2023-05-15T09:48:08.894323",
     "exception": false,
     "start_time": "2023-05-15T09:48:03.365924",
     "status": "completed"
    },
    "tags": []
   },
   "outputs": [],
   "source": [
    "%%R -i data -i data_tod -i genes -i cells -i soupx_groups -o out \n",
    "set.seed(187)\n",
    "# specify row and column names of data\n",
    "rownames(data) = genes\n",
    "colnames(data) = cells\n",
    "# ensure correct sparse format for table of counts and table of droplets\n",
    "data <- as(data, \"sparseMatrix\")\n",
    "data_tod <- as(data_tod, \"sparseMatrix\")\n",
    "\n",
    "# Generate SoupChannel Object for SoupX \n",
    "sc = SoupChannel(data_tod, data, calcSoupProfile = FALSE)\n",
    "\n",
    "# Add extra meta data to the SoupChannel object\n",
    "soupProf = data.frame(row.names = rownames(data),\n",
    "                      est = rowSums(data)/sum(data),\n",
    "                      counts = rowSums(data))\n",
    "sc = setSoupProfile(sc, soupProf)\n",
    "# Set cluster information in SoupChannel\n",
    "sc = setClusters(sc, soupx_groups)\n",
    "\n",
    "# Estimate contamination fraction\n",
    "sc  = autoEstCont(sc, doPlot=FALSE, forceAccept = TRUE)\n",
    "# Infer corrected table of counts and rount to integer\n",
    "out = adjustCounts(sc, roundToInt = TRUE)"
   ]
  },
  {
   "cell_type": "code",
   "execution_count": null,
   "id": "32555d5e-5fa3-46dd-a4e0-ddc96ea265e2",
   "metadata": {
    "execution": {
     "iopub.execute_input": "2023-05-15T09:48:08.962514Z",
     "iopub.status.busy": "2023-05-15T09:48:08.962279Z",
     "iopub.status.idle": "2023-05-15T09:48:08.971261Z",
     "shell.execute_reply": "2023-05-15T09:48:08.970843Z"
    },
    "papermill": {
     "duration": 0.01353,
     "end_time": "2023-05-15T09:48:08.972291",
     "exception": false,
     "start_time": "2023-05-15T09:48:08.958761",
     "status": "completed"
    },
    "tags": []
   },
   "outputs": [],
   "source": [
    "dataset.layers[\"soupX_counts\"] = out.T\n",
    "dataset.X = dataset.layers[\"soupX_counts\"].copy()"
   ]
  },
  {
   "cell_type": "code",
   "execution_count": null,
   "id": "e27da7df-e094-4d2a-9109-5a363e012175",
   "metadata": {
    "execution": {
     "iopub.execute_input": "2023-05-15T09:48:08.978897Z",
     "iopub.status.busy": "2023-05-15T09:48:08.978620Z",
     "iopub.status.idle": "2023-05-15T09:48:08.980915Z",
     "shell.execute_reply": "2023-05-15T09:48:08.980600Z"
    },
    "papermill": {
     "duration": 0.006382,
     "end_time": "2023-05-15T09:48:08.981655",
     "exception": false,
     "start_time": "2023-05-15T09:48:08.975273",
     "status": "completed"
    },
    "tags": []
   },
   "outputs": [],
   "source": [
    "data_mat = dataset.X.T"
   ]
  },
  {
   "cell_type": "code",
   "execution_count": null,
   "id": "80a993b1-5ccb-4697-9187-1beb7ab8aff9",
   "metadata": {
    "execution": {
     "iopub.execute_input": "2023-05-15T09:48:08.987578Z",
     "iopub.status.busy": "2023-05-15T09:48:08.987387Z",
     "iopub.status.idle": "2023-05-15T09:48:25.057207Z",
     "shell.execute_reply": "2023-05-15T09:48:25.056801Z"
    },
    "papermill": {
     "duration": 16.074117,
     "end_time": "2023-05-15T09:48:25.058483",
     "exception": false,
     "start_time": "2023-05-15T09:48:08.984366",
     "status": "completed"
    },
    "tags": []
   },
   "outputs": [],
   "source": [
    "%%R -i data_mat -o droplet_class\n",
    "\n",
    "set.seed(187)\n",
    "sce = scDblFinder(\n",
    "    SingleCellExperiment(\n",
    "        list(counts=data_mat),\n",
    "    ) \n",
    ")\n",
    "droplet_class = sce$scDblFinder.class"
   ]
  },
  {
   "cell_type": "code",
   "execution_count": null,
   "id": "d4dd6e9d-fcf2-41fc-8457-c8e0a3cb2c71",
   "metadata": {
    "execution": {
     "iopub.execute_input": "2023-05-15T09:48:25.097127Z",
     "iopub.status.busy": "2023-05-15T09:48:25.096721Z",
     "iopub.status.idle": "2023-05-15T09:48:25.100866Z",
     "shell.execute_reply": "2023-05-15T09:48:25.100547Z"
    },
    "papermill": {
     "duration": 0.008491,
     "end_time": "2023-05-15T09:48:25.101701",
     "exception": false,
     "start_time": "2023-05-15T09:48:25.093210",
     "status": "completed"
    },
    "tags": []
   },
   "outputs": [],
   "source": [
    "dataset.obs[\"scDblFinder_class\"] = droplet_class\n",
    "dataset.obs.scDblFinder_class.value_counts()\n",
    "dataset"
   ]
  },
  {
   "cell_type": "code",
   "execution_count": null,
   "id": "28c95014-2d6c-477f-95cb-9f9f0507520c",
   "metadata": {
    "execution": {
     "iopub.execute_input": "2023-05-15T09:48:25.146137Z",
     "iopub.status.busy": "2023-05-15T09:48:25.145964Z",
     "iopub.status.idle": "2023-05-15T09:48:25.162778Z",
     "shell.execute_reply": "2023-05-15T09:48:25.162414Z"
    },
    "papermill": {
     "duration": 0.059281,
     "end_time": "2023-05-15T09:48:25.163662",
     "exception": false,
     "start_time": "2023-05-15T09:48:25.104381",
     "status": "completed"
    },
    "tags": []
   },
   "outputs": [],
   "source": [
    "dataset = dataset[dataset.obs[\"scDblFinder_class\"] == 1]"
   ]
  },
  {
   "cell_type": "code",
   "execution_count": null,
   "id": "3e22f9e0-bfcb-416c-a151-a9bca3bec3b9",
   "metadata": {
    "execution": {
     "iopub.execute_input": "2023-05-15T09:48:25.169868Z",
     "iopub.status.busy": "2023-05-15T09:48:25.169695Z",
     "iopub.status.idle": "2023-05-15T09:48:25.229731Z",
     "shell.execute_reply": "2023-05-15T09:48:25.229289Z"
    },
    "papermill": {
     "duration": 0.064176,
     "end_time": "2023-05-15T09:48:25.230659",
     "exception": false,
     "start_time": "2023-05-15T09:48:25.166483",
     "status": "completed"
    },
    "tags": []
   },
   "outputs": [],
   "source": [
    "# mitochondrial genes\n",
    "dataset.var[\"mt\"] = dataset.var_names.str.startswith(\"MT-\")\n",
    "# ribosomal genes\n",
    "dataset.var[\"ribo\"] = dataset.var_names.str.startswith((\"RPS\", \"RPL\"))\n",
    "# hemoglobin genes.\n",
    "dataset.var[\"hb\"] = dataset.var_names.str.contains((\"^HB[^(P)]\"))\n",
    "\n",
    "sc.pp.calculate_qc_metrics(dataset,\n",
    "                           qc_vars=['mt', 'ribo', 'hb'],\n",
    "                           percent_top=None,\n",
    "                           log1p=False,\n",
    "                           inplace=True)\n",
    "dataset"
   ]
  },
  {
   "cell_type": "code",
   "execution_count": null,
   "id": "34deee79-4043-428f-8575-aa57b45f6369",
   "metadata": {
    "execution": {
     "iopub.execute_input": "2023-05-15T09:48:25.252559Z",
     "iopub.status.busy": "2023-05-15T09:48:25.252339Z",
     "iopub.status.idle": "2023-05-15T09:48:25.809019Z",
     "shell.execute_reply": "2023-05-15T09:48:25.808662Z"
    },
    "papermill": {
     "duration": 0.562259,
     "end_time": "2023-05-15T09:48:25.809857",
     "exception": false,
     "start_time": "2023-05-15T09:48:25.247598",
     "status": "completed"
    },
    "tags": []
   },
   "outputs": [],
   "source": [
    "fig, ax = plt.subplots(ncols = 4, figsize = (16,4))\n",
    "axis = sc.pl.violin(dataset, \"n_genes_by_counts\", jitter = 0.4, ax = ax[0], show = False)\n",
    "axis.grid(False)\n",
    "axis.set_title(\"Unique Genes per cell\")\n",
    "axis.tick_params(axis = \"x\", bottom =False, labelbottom =False)\n",
    "axis.set_ylabel(\"# genes\")\n",
    "axis.axhline(y = 100, color = \"black\", label = \"cutoff\")\n",
    "axis.legend(fontsize = 14, loc = \"upper right\")\n",
    "\n",
    "axis = sc.pl.violin(dataset, \"pct_counts_mt\", jitter = 0.4, ax = ax[1], show = False)\n",
    "axis.grid(False)\n",
    "axis.set_title(\"Mitochondrial Fraction\")\n",
    "axis.tick_params(axis = \"x\", bottom =False, labelbottom =False)\n",
    "axis.set_ylabel(\"% mitochondrial genes\")\n",
    "axis.axhline(y = 10, color = \"black\", label = \"cutoff\")\n",
    "axis.legend(fontsize = 14, loc = \"upper right\")\n",
    "\n",
    "axis = sc.pl.violin(dataset, \"pct_counts_hb\", jitter = 0.4, ax = ax[2], show = False, size =2)\n",
    "axis.grid(False)\n",
    "axis.set_title(\"Hemoglobin Fraction\")\n",
    "axis.tick_params(axis = \"x\", bottom =False, labelbottom =False)\n",
    "axis.set_ylabel(\"% hemoglobin genes\")\n",
    "axis.axhline(y = 3, color = \"black\", label = \"cutoff\")\n",
    "axis.legend(fontsize = 14, loc = \"upper right\")\n",
    "#axis.set_ylim(0,5)\n",
    "\n",
    "axis = sc.pl.violin(dataset, \"pct_counts_ribo\", jitter = 0.4, ax = ax[3], show = False)\n",
    "axis.grid(False)\n",
    "axis.set_title(\"Ribosomal Fraction\")\n",
    "axis.tick_params(axis = \"x\", bottom =False, labelbottom =False)\n",
    "axis.set_ylabel(\"% ribosome genes\")\n",
    "\n",
    "plt.tight_layout()\n",
    "#plt.savefig(f\"{outputDir}08_gene_based_filtering.pdf\", dpi = 300)\n",
    "plt.show()\n",
    "\n"
   ]
  },
  {
   "cell_type": "code",
   "execution_count": null,
   "id": "d7ade754-843e-4840-8707-426613d8c0c5",
   "metadata": {
    "execution": {
     "iopub.execute_input": "2023-05-15T09:48:25.850929Z",
     "iopub.status.busy": "2023-05-15T09:48:25.850724Z",
     "iopub.status.idle": "2023-05-15T09:48:25.859295Z",
     "shell.execute_reply": "2023-05-15T09:48:25.858974Z"
    },
    "papermill": {
     "duration": 0.013796,
     "end_time": "2023-05-15T09:48:25.860037",
     "exception": false,
     "start_time": "2023-05-15T09:48:25.846241",
     "status": "completed"
    },
    "tags": []
   },
   "outputs": [],
   "source": [
    "dataset = dataset[dataset.obs.pct_counts_mt < 10, :]\n",
    "dataset = dataset[dataset.obs.n_genes_by_counts > 100, :]\n",
    "dataset = dataset[dataset.obs.pct_counts_hb < 3, :]\n",
    "dataset"
   ]
  },
  {
   "cell_type": "code",
   "execution_count": null,
   "id": "1941fa36-e865-4500-b586-f7a32d142c9b",
   "metadata": {
    "execution": {
     "iopub.execute_input": "2023-05-15T09:48:25.869494Z",
     "iopub.status.busy": "2023-05-15T09:48:25.869306Z",
     "iopub.status.idle": "2023-05-15T09:48:25.872157Z",
     "shell.execute_reply": "2023-05-15T09:48:25.871844Z"
    },
    "papermill": {
     "duration": 0.007933,
     "end_time": "2023-05-15T09:48:25.872913",
     "exception": false,
     "start_time": "2023-05-15T09:48:25.864980",
     "status": "completed"
    },
    "tags": []
   },
   "outputs": [],
   "source": [
    "metadata.columns"
   ]
  },
  {
   "cell_type": "code",
   "execution_count": null,
   "id": "2e0ff8c3-2aa9-4a01-9b88-5912a6734447",
   "metadata": {
    "execution": {
     "iopub.execute_input": "2023-05-15T09:48:25.883890Z",
     "iopub.status.busy": "2023-05-15T09:48:25.883735Z",
     "iopub.status.idle": "2023-05-15T09:48:25.905114Z",
     "shell.execute_reply": "2023-05-15T09:48:25.904707Z"
    },
    "papermill": {
     "duration": 0.02795,
     "end_time": "2023-05-15T09:48:25.906128",
     "exception": false,
     "start_time": "2023-05-15T09:48:25.878178",
     "status": "completed"
    },
    "tags": []
   },
   "outputs": [],
   "source": [
    "for col in metadata.columns:\n",
    "    dataset.obs[col] = metadata.loc[metadata[\"Run\"] == sample_name, col].to_list()[0]"
   ]
  },
  {
   "cell_type": "code",
   "execution_count": null,
   "id": "b84578d3-d63e-419c-a272-a0b8317d05ab",
   "metadata": {
    "execution": {
     "iopub.execute_input": "2023-05-15T09:48:25.917909Z",
     "iopub.status.busy": "2023-05-15T09:48:25.917714Z",
     "iopub.status.idle": "2023-05-15T09:48:26.474740Z",
     "shell.execute_reply": "2023-05-15T09:48:26.474317Z"
    },
    "papermill": {
     "duration": 0.564161,
     "end_time": "2023-05-15T09:48:26.475942",
     "exception": false,
     "start_time": "2023-05-15T09:48:25.911781",
     "status": "completed"
    },
    "tags": []
   },
   "outputs": [],
   "source": [
    "dataset.write(f\"../../int_data/{sample_name}_qc.h5ad\")"
   ]
  },
  {
   "cell_type": "code",
   "execution_count": null,
   "id": "501b33a0-432d-415f-ae82-50723484b85d",
   "metadata": {
    "execution": {
     "iopub.execute_input": "2023-05-15T09:48:26.486702Z",
     "iopub.status.busy": "2023-05-15T09:48:26.486338Z",
     "iopub.status.idle": "2023-05-15T09:48:26.489281Z",
     "shell.execute_reply": "2023-05-15T09:48:26.488956Z"
    },
    "papermill": {
     "duration": 0.008239,
     "end_time": "2023-05-15T09:48:26.490022",
     "exception": false,
     "start_time": "2023-05-15T09:48:26.481783",
     "status": "completed"
    },
    "tags": []
   },
   "outputs": [],
   "source": [
    "dataset"
   ]
  }
 ],
 "metadata": {
  "kernelspec": {
   "display_name": "py_R",
   "language": "python",
   "name": "python_r"
  },
  "language_info": {
   "codemirror_mode": {
    "name": "ipython",
    "version": 3
   },
   "file_extension": ".py",
   "mimetype": "text/x-python",
   "name": "python",
   "nbconvert_exporter": "python",
   "pygments_lexer": "ipython3",
   "version": "3.10.9"
  },
  "papermill": {
   "default_parameters": {},
   "duration": 96.32126,
   "end_time": "2023-05-15T09:48:27.912715",
   "environment_variables": {},
   "exception": null,
   "input_path": "template.ipynb",
   "output_path": "SRR13329169.ipynb",
   "parameters": {
    "sample_name": "SRR13329169"
   },
   "start_time": "2023-05-15T09:46:51.591455",
   "version": "2.4.0"
  }
 },
 "nbformat": 4,
 "nbformat_minor": 5
}
