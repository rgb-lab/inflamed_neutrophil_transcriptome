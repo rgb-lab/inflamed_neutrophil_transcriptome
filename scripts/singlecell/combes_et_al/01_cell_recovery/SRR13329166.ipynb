{
 "cells": [
  {
   "cell_type": "code",
   "execution_count": null,
   "id": "4c0f2fa8-5232-4f47-a7ec-6c9bbabe50e2",
   "metadata": {
    "execution": {
     "iopub.execute_input": "2023-05-15T09:01:22.757599Z",
     "iopub.status.busy": "2023-05-15T09:01:22.757411Z",
     "iopub.status.idle": "2023-05-15T09:01:22.761868Z",
     "shell.execute_reply": "2023-05-15T09:01:22.761553Z"
    },
    "papermill": {
     "duration": 0.008873,
     "end_time": "2023-05-15T09:01:22.762781",
     "exception": false,
     "start_time": "2023-05-15T09:01:22.753908",
     "status": "completed"
    },
    "tags": [
     "parameters"
    ]
   },
   "outputs": [],
   "source": [
    "sample_name = \"SRR13329143\""
   ]
  },
  {
   "cell_type": "code",
   "execution_count": null,
   "id": "23df30d3",
   "metadata": {
    "execution": {
     "iopub.execute_input": "2023-05-15T09:01:22.768061Z",
     "iopub.status.busy": "2023-05-15T09:01:22.767750Z",
     "iopub.status.idle": "2023-05-15T09:01:22.777198Z",
     "shell.execute_reply": "2023-05-15T09:01:22.776848Z"
    },
    "papermill": {
     "duration": 0.012894,
     "end_time": "2023-05-15T09:01:22.778019",
     "exception": false,
     "start_time": "2023-05-15T09:01:22.765125",
     "status": "completed"
    },
    "tags": [
     "injected-parameters"
    ]
   },
   "outputs": [],
   "source": [
    "# Parameters\n",
    "sample_name = \"SRR13329166\"\n"
   ]
  },
  {
   "cell_type": "code",
   "execution_count": null,
   "id": "f87ed95b-2b67-4a5a-8fe2-47359b1dd2a9",
   "metadata": {
    "execution": {
     "iopub.execute_input": "2023-05-15T09:01:22.784076Z",
     "iopub.status.busy": "2023-05-15T09:01:22.783936Z",
     "iopub.status.idle": "2023-05-15T09:01:22.786208Z",
     "shell.execute_reply": "2023-05-15T09:01:22.785911Z"
    },
    "papermill": {
     "duration": 0.006143,
     "end_time": "2023-05-15T09:01:22.786993",
     "exception": false,
     "start_time": "2023-05-15T09:01:22.780850",
     "status": "completed"
    },
    "tags": []
   },
   "outputs": [],
   "source": [
    "import warnings\n",
    "warnings.simplefilter(action='ignore', category=FutureWarning)\n",
    "warnings.simplefilter(action='ignore', category=UserWarning)"
   ]
  },
  {
   "cell_type": "code",
   "execution_count": null,
   "id": "85161f19-b2c5-490b-8cab-c2cf9653b304",
   "metadata": {
    "execution": {
     "iopub.execute_input": "2023-05-15T09:01:22.793202Z",
     "iopub.status.busy": "2023-05-15T09:01:22.792959Z",
     "iopub.status.idle": "2023-05-15T09:01:27.070522Z",
     "shell.execute_reply": "2023-05-15T09:01:27.070024Z"
    },
    "papermill": {
     "duration": 4.281861,
     "end_time": "2023-05-15T09:01:27.071695",
     "exception": false,
     "start_time": "2023-05-15T09:01:22.789834",
     "status": "completed"
    },
    "tags": []
   },
   "outputs": [],
   "source": [
    "import gc\n",
    "import scanpy as sc\n",
    "import muon as mu\n",
    "import seaborn as sns\n",
    "import os\n",
    "import pandas as pd\n",
    "from matplotlib import pyplot as plt\n",
    "\n",
    "os.environ['R_HOME'] = '/gpfs/bwfor/work/ws/hd_fu399-conda/conda/envs/python_R/lib/R/'\n",
    "import anndata2ri\n",
    "import logging\n",
    "\n",
    "import rpy2.rinterface_lib.callbacks as rcb\n",
    "import rpy2.robjects as ro\n",
    "\n",
    "rcb.logger.setLevel(logging.ERROR)\n",
    "ro.pandas2ri.activate()\n",
    "anndata2ri.activate()\n",
    "\n",
    "%load_ext rpy2.ipython"
   ]
  },
  {
   "cell_type": "code",
   "execution_count": null,
   "id": "fc4ade78-b728-4704-9db6-45fbaab62ba1",
   "metadata": {
    "execution": {
     "iopub.execute_input": "2023-05-15T09:01:27.079106Z",
     "iopub.status.busy": "2023-05-15T09:01:27.078828Z",
     "iopub.status.idle": "2023-05-15T09:01:37.599944Z",
     "shell.execute_reply": "2023-05-15T09:01:37.599440Z"
    },
    "papermill": {
     "duration": 10.525371,
     "end_time": "2023-05-15T09:01:37.601207",
     "exception": false,
     "start_time": "2023-05-15T09:01:27.075836",
     "status": "completed"
    },
    "tags": []
   },
   "outputs": [],
   "source": [
    "%%R\n",
    "library(SoupX)\n",
    "library(Seurat)\n",
    "library(scater)\n",
    "library(scDblFinder)\n",
    "library(BiocParallel)\n",
    "library(MuDataSeurat)\n",
    "library(DropletUtils)"
   ]
  },
  {
   "cell_type": "code",
   "execution_count": null,
   "id": "f7424d90-7690-4290-8651-1db3f9df3a35",
   "metadata": {
    "execution": {
     "iopub.execute_input": "2023-05-15T09:01:37.623804Z",
     "iopub.status.busy": "2023-05-15T09:01:37.623488Z",
     "iopub.status.idle": "2023-05-15T09:01:37.630041Z",
     "shell.execute_reply": "2023-05-15T09:01:37.629716Z"
    },
    "papermill": {
     "duration": 0.010717,
     "end_time": "2023-05-15T09:01:37.630820",
     "exception": false,
     "start_time": "2023-05-15T09:01:37.620103",
     "status": "completed"
    },
    "tags": []
   },
   "outputs": [],
   "source": [
    "metadata = pd.read_csv(\"../../combes_metadata.txt\")"
   ]
  },
  {
   "cell_type": "code",
   "execution_count": null,
   "id": "2574ecf1-bad4-4c33-8f3f-718a358727ab",
   "metadata": {
    "execution": {
     "iopub.execute_input": "2023-05-15T09:01:37.636096Z",
     "iopub.status.busy": "2023-05-15T09:01:37.635836Z",
     "iopub.status.idle": "2023-05-15T09:01:37.646754Z",
     "shell.execute_reply": "2023-05-15T09:01:37.646419Z"
    },
    "papermill": {
     "duration": 0.014395,
     "end_time": "2023-05-15T09:01:37.647511",
     "exception": false,
     "start_time": "2023-05-15T09:01:37.633116",
     "status": "completed"
    },
    "tags": []
   },
   "outputs": [],
   "source": [
    "raw_input = f\"/home/hd/hd_hd/hd_fu399/sds-hd/sd21k006/scRNAseq/revision_natcomm/combes_et_al/fetchngs/results/fastq/{sample_name}/{sample_name}/outs/raw_feature_bc_matrix.h5\""
   ]
  },
  {
   "cell_type": "code",
   "execution_count": null,
   "id": "e266d388-1802-435c-93a5-90067358739c",
   "metadata": {
    "execution": {
     "iopub.execute_input": "2023-05-15T09:01:37.652862Z",
     "iopub.status.busy": "2023-05-15T09:01:37.652696Z",
     "iopub.status.idle": "2023-05-15T09:01:37.992485Z",
     "shell.execute_reply": "2023-05-15T09:01:37.992047Z"
    },
    "papermill": {
     "duration": 0.343575,
     "end_time": "2023-05-15T09:01:37.993428",
     "exception": false,
     "start_time": "2023-05-15T09:01:37.649853",
     "status": "completed"
    },
    "tags": []
   },
   "outputs": [],
   "source": [
    "dataset = sc.read_10x_h5(raw_input)\n",
    "dataset.var_names_make_unique()\n",
    "dataset.obs_names_make_unique()\n",
    "\n",
    "dataset.layers[\"raw_counts\"] = dataset.X.copy()\n",
    "data_tod = dataset.layers[\"raw_counts\"].T.copy()\n",
    "\n",
    "dataset"
   ]
  },
  {
   "cell_type": "code",
   "execution_count": null,
   "id": "af9f5892-ed31-42a6-991b-4e096f582cef",
   "metadata": {
    "execution": {
     "iopub.execute_input": "2023-05-15T09:01:37.999783Z",
     "iopub.status.busy": "2023-05-15T09:01:37.999571Z",
     "iopub.status.idle": "2023-05-15T09:01:38.024582Z",
     "shell.execute_reply": "2023-05-15T09:01:38.024110Z"
    },
    "papermill": {
     "duration": 0.029457,
     "end_time": "2023-05-15T09:01:38.025882",
     "exception": false,
     "start_time": "2023-05-15T09:01:37.996425",
     "status": "completed"
    },
    "tags": []
   },
   "outputs": [],
   "source": [
    "sce = dataset.copy()"
   ]
  },
  {
   "cell_type": "code",
   "execution_count": null,
   "id": "d03f2caf-8e74-430e-b045-0ab80401d165",
   "metadata": {
    "execution": {
     "iopub.execute_input": "2023-05-15T09:01:38.032020Z",
     "iopub.status.busy": "2023-05-15T09:01:38.031748Z",
     "iopub.status.idle": "2023-05-15T09:02:12.725849Z",
     "shell.execute_reply": "2023-05-15T09:02:12.725274Z"
    },
    "papermill": {
     "duration": 34.698534,
     "end_time": "2023-05-15T09:02:12.727232",
     "exception": false,
     "start_time": "2023-05-15T09:01:38.028698",
     "status": "completed"
    },
    "tags": []
   },
   "outputs": [],
   "source": [
    "%%R -i sce -o empty_drop_output\n",
    "set.seed(187)\n",
    "empty_drop_output <- emptyDrops(assay(sce))"
   ]
  },
  {
   "cell_type": "code",
   "execution_count": null,
   "id": "2a34a54b-3ae2-44d6-8679-8769228c5b66",
   "metadata": {
    "execution": {
     "iopub.execute_input": "2023-05-15T09:02:12.736529Z",
     "iopub.status.busy": "2023-05-15T09:02:12.736324Z",
     "iopub.status.idle": "2023-05-15T09:02:12.755526Z",
     "shell.execute_reply": "2023-05-15T09:02:12.755217Z"
    },
    "papermill": {
     "duration": 0.023683,
     "end_time": "2023-05-15T09:02:12.756296",
     "exception": false,
     "start_time": "2023-05-15T09:02:12.732613",
     "status": "completed"
    },
    "tags": []
   },
   "outputs": [],
   "source": [
    "non_empty_barcodes = empty_drop_output[empty_drop_output[\"FDR\"] < 0.001].index\n",
    "dataset = dataset[dataset.obs.index.isin(non_empty_barcodes), :]\n",
    "dataset"
   ]
  },
  {
   "cell_type": "code",
   "execution_count": null,
   "id": "016a91e5-1bef-46fb-b91e-4fb9a6870c44",
   "metadata": {
    "execution": {
     "iopub.execute_input": "2023-05-15T09:02:12.762231Z",
     "iopub.status.busy": "2023-05-15T09:02:12.761984Z",
     "iopub.status.idle": "2023-05-15T09:02:15.391364Z",
     "shell.execute_reply": "2023-05-15T09:02:15.390893Z"
    },
    "papermill": {
     "duration": 2.633783,
     "end_time": "2023-05-15T09:02:15.392652",
     "exception": false,
     "start_time": "2023-05-15T09:02:12.758869",
     "status": "completed"
    },
    "tags": []
   },
   "outputs": [],
   "source": [
    "rna_assay = dataset.copy()\n",
    "sc.pp.normalize_per_cell(rna_assay)\n",
    "sc.pp.log1p(rna_assay)\n",
    "sc.pp.pca(rna_assay)\n",
    "sc.pp.neighbors(rna_assay)\n",
    "sc.tl.leiden(rna_assay, key_added=\"soupx_groups\")\n",
    "\n",
    "soupx_groups = rna_assay.obs[\"soupx_groups\"]\n",
    "\n",
    "del rna_assay\n",
    "\n",
    "genes = dataset.var_names\n",
    "cells = dataset.obs_names\n",
    "data = dataset.X.T.copy()"
   ]
  },
  {
   "cell_type": "code",
   "execution_count": null,
   "id": "9db4ea1f-1580-4f43-a3f0-86002397cd98",
   "metadata": {
    "execution": {
     "iopub.execute_input": "2023-05-15T09:02:15.399606Z",
     "iopub.status.busy": "2023-05-15T09:02:15.399260Z",
     "iopub.status.idle": "2023-05-15T09:02:23.720913Z",
     "shell.execute_reply": "2023-05-15T09:02:23.720319Z"
    },
    "papermill": {
     "duration": 8.326175,
     "end_time": "2023-05-15T09:02:23.722172",
     "exception": false,
     "start_time": "2023-05-15T09:02:15.395997",
     "status": "completed"
    },
    "tags": []
   },
   "outputs": [],
   "source": [
    "%%R -i data -i data_tod -i genes -i cells -i soupx_groups -o out \n",
    "set.seed(187)\n",
    "# specify row and column names of data\n",
    "rownames(data) = genes\n",
    "colnames(data) = cells\n",
    "# ensure correct sparse format for table of counts and table of droplets\n",
    "data <- as(data, \"sparseMatrix\")\n",
    "data_tod <- as(data_tod, \"sparseMatrix\")\n",
    "\n",
    "# Generate SoupChannel Object for SoupX \n",
    "sc = SoupChannel(data_tod, data, calcSoupProfile = FALSE)\n",
    "\n",
    "# Add extra meta data to the SoupChannel object\n",
    "soupProf = data.frame(row.names = rownames(data),\n",
    "                      est = rowSums(data)/sum(data),\n",
    "                      counts = rowSums(data))\n",
    "sc = setSoupProfile(sc, soupProf)\n",
    "# Set cluster information in SoupChannel\n",
    "sc = setClusters(sc, soupx_groups)\n",
    "\n",
    "# Estimate contamination fraction\n",
    "sc  = autoEstCont(sc, doPlot=FALSE, forceAccept = TRUE)\n",
    "# Infer corrected table of counts and rount to integer\n",
    "out = adjustCounts(sc, roundToInt = TRUE)"
   ]
  },
  {
   "cell_type": "code",
   "execution_count": null,
   "id": "32555d5e-5fa3-46dd-a4e0-ddc96ea265e2",
   "metadata": {
    "execution": {
     "iopub.execute_input": "2023-05-15T09:02:23.730716Z",
     "iopub.status.busy": "2023-05-15T09:02:23.730542Z",
     "iopub.status.idle": "2023-05-15T09:02:23.745226Z",
     "shell.execute_reply": "2023-05-15T09:02:23.744818Z"
    },
    "papermill": {
     "duration": 0.019479,
     "end_time": "2023-05-15T09:02:23.746738",
     "exception": false,
     "start_time": "2023-05-15T09:02:23.727259",
     "status": "completed"
    },
    "tags": []
   },
   "outputs": [],
   "source": [
    "dataset.layers[\"soupX_counts\"] = out.T\n",
    "dataset.X = dataset.layers[\"soupX_counts\"].copy()"
   ]
  },
  {
   "cell_type": "code",
   "execution_count": null,
   "id": "e27da7df-e094-4d2a-9109-5a363e012175",
   "metadata": {
    "execution": {
     "iopub.execute_input": "2023-05-15T09:02:23.753049Z",
     "iopub.status.busy": "2023-05-15T09:02:23.752880Z",
     "iopub.status.idle": "2023-05-15T09:02:23.755323Z",
     "shell.execute_reply": "2023-05-15T09:02:23.754994Z"
    },
    "papermill": {
     "duration": 0.006436,
     "end_time": "2023-05-15T09:02:23.756091",
     "exception": false,
     "start_time": "2023-05-15T09:02:23.749655",
     "status": "completed"
    },
    "tags": []
   },
   "outputs": [],
   "source": [
    "data_mat = dataset.X.T"
   ]
  },
  {
   "cell_type": "code",
   "execution_count": null,
   "id": "80a993b1-5ccb-4697-9187-1beb7ab8aff9",
   "metadata": {
    "execution": {
     "iopub.execute_input": "2023-05-15T09:02:23.761905Z",
     "iopub.status.busy": "2023-05-15T09:02:23.761751Z",
     "iopub.status.idle": "2023-05-15T09:02:38.927307Z",
     "shell.execute_reply": "2023-05-15T09:02:38.926739Z"
    },
    "papermill": {
     "duration": 15.169981,
     "end_time": "2023-05-15T09:02:38.928655",
     "exception": false,
     "start_time": "2023-05-15T09:02:23.758674",
     "status": "completed"
    },
    "tags": []
   },
   "outputs": [],
   "source": [
    "%%R -i data_mat -o droplet_class\n",
    "\n",
    "set.seed(187)\n",
    "sce = scDblFinder(\n",
    "    SingleCellExperiment(\n",
    "        list(counts=data_mat),\n",
    "    ) \n",
    ")\n",
    "droplet_class = sce$scDblFinder.class"
   ]
  },
  {
   "cell_type": "code",
   "execution_count": null,
   "id": "d4dd6e9d-fcf2-41fc-8457-c8e0a3cb2c71",
   "metadata": {
    "execution": {
     "iopub.execute_input": "2023-05-15T09:02:38.937251Z",
     "iopub.status.busy": "2023-05-15T09:02:38.937096Z",
     "iopub.status.idle": "2023-05-15T09:02:38.941993Z",
     "shell.execute_reply": "2023-05-15T09:02:38.941658Z"
    },
    "papermill": {
     "duration": 0.00918,
     "end_time": "2023-05-15T09:02:38.942763",
     "exception": false,
     "start_time": "2023-05-15T09:02:38.933583",
     "status": "completed"
    },
    "tags": []
   },
   "outputs": [],
   "source": [
    "dataset.obs[\"scDblFinder_class\"] = droplet_class\n",
    "dataset.obs.scDblFinder_class.value_counts()\n",
    "dataset"
   ]
  },
  {
   "cell_type": "code",
   "execution_count": null,
   "id": "28c95014-2d6c-477f-95cb-9f9f0507520c",
   "metadata": {
    "execution": {
     "iopub.execute_input": "2023-05-15T09:02:38.948735Z",
     "iopub.status.busy": "2023-05-15T09:02:38.948572Z",
     "iopub.status.idle": "2023-05-15T09:02:38.960941Z",
     "shell.execute_reply": "2023-05-15T09:02:38.960628Z"
    },
    "papermill": {
     "duration": 0.016271,
     "end_time": "2023-05-15T09:02:38.961708",
     "exception": false,
     "start_time": "2023-05-15T09:02:38.945437",
     "status": "completed"
    },
    "tags": []
   },
   "outputs": [],
   "source": [
    "dataset = dataset[dataset.obs[\"scDblFinder_class\"] == 1]"
   ]
  },
  {
   "cell_type": "code",
   "execution_count": null,
   "id": "3e22f9e0-bfcb-416c-a151-a9bca3bec3b9",
   "metadata": {
    "execution": {
     "iopub.execute_input": "2023-05-15T09:02:38.967750Z",
     "iopub.status.busy": "2023-05-15T09:02:38.967619Z",
     "iopub.status.idle": "2023-05-15T09:02:39.045595Z",
     "shell.execute_reply": "2023-05-15T09:02:39.045176Z"
    },
    "papermill": {
     "duration": 0.082032,
     "end_time": "2023-05-15T09:02:39.046451",
     "exception": false,
     "start_time": "2023-05-15T09:02:38.964419",
     "status": "completed"
    },
    "tags": []
   },
   "outputs": [],
   "source": [
    "# mitochondrial genes\n",
    "dataset.var[\"mt\"] = dataset.var_names.str.startswith(\"MT-\")\n",
    "# ribosomal genes\n",
    "dataset.var[\"ribo\"] = dataset.var_names.str.startswith((\"RPS\", \"RPL\"))\n",
    "# hemoglobin genes.\n",
    "dataset.var[\"hb\"] = dataset.var_names.str.contains((\"^HB[^(P)]\"))\n",
    "\n",
    "sc.pp.calculate_qc_metrics(dataset,\n",
    "                           qc_vars=['mt', 'ribo', 'hb'],\n",
    "                           percent_top=None,\n",
    "                           log1p=False,\n",
    "                           inplace=True)\n",
    "dataset"
   ]
  },
  {
   "cell_type": "code",
   "execution_count": null,
   "id": "34deee79-4043-428f-8575-aa57b45f6369",
   "metadata": {
    "execution": {
     "iopub.execute_input": "2023-05-15T09:02:39.053495Z",
     "iopub.status.busy": "2023-05-15T09:02:39.053352Z",
     "iopub.status.idle": "2023-05-15T09:02:39.486241Z",
     "shell.execute_reply": "2023-05-15T09:02:39.485878Z"
    },
    "papermill": {
     "duration": 0.437162,
     "end_time": "2023-05-15T09:02:39.487107",
     "exception": false,
     "start_time": "2023-05-15T09:02:39.049945",
     "status": "completed"
    },
    "tags": []
   },
   "outputs": [],
   "source": [
    "fig, ax = plt.subplots(ncols = 4, figsize = (16,4))\n",
    "axis = sc.pl.violin(dataset, \"n_genes_by_counts\", jitter = 0.4, ax = ax[0], show = False)\n",
    "axis.grid(False)\n",
    "axis.set_title(\"Unique Genes per cell\")\n",
    "axis.tick_params(axis = \"x\", bottom =False, labelbottom =False)\n",
    "axis.set_ylabel(\"# genes\")\n",
    "axis.axhline(y = 100, color = \"black\", label = \"cutoff\")\n",
    "axis.legend(fontsize = 14, loc = \"upper right\")\n",
    "\n",
    "axis = sc.pl.violin(dataset, \"pct_counts_mt\", jitter = 0.4, ax = ax[1], show = False)\n",
    "axis.grid(False)\n",
    "axis.set_title(\"Mitochondrial Fraction\")\n",
    "axis.tick_params(axis = \"x\", bottom =False, labelbottom =False)\n",
    "axis.set_ylabel(\"% mitochondrial genes\")\n",
    "axis.axhline(y = 10, color = \"black\", label = \"cutoff\")\n",
    "axis.legend(fontsize = 14, loc = \"upper right\")\n",
    "\n",
    "axis = sc.pl.violin(dataset, \"pct_counts_hb\", jitter = 0.4, ax = ax[2], show = False, size =2)\n",
    "axis.grid(False)\n",
    "axis.set_title(\"Hemoglobin Fraction\")\n",
    "axis.tick_params(axis = \"x\", bottom =False, labelbottom =False)\n",
    "axis.set_ylabel(\"% hemoglobin genes\")\n",
    "axis.axhline(y = 3, color = \"black\", label = \"cutoff\")\n",
    "axis.legend(fontsize = 14, loc = \"upper right\")\n",
    "#axis.set_ylim(0,5)\n",
    "\n",
    "axis = sc.pl.violin(dataset, \"pct_counts_ribo\", jitter = 0.4, ax = ax[3], show = False)\n",
    "axis.grid(False)\n",
    "axis.set_title(\"Ribosomal Fraction\")\n",
    "axis.tick_params(axis = \"x\", bottom =False, labelbottom =False)\n",
    "axis.set_ylabel(\"% ribosome genes\")\n",
    "\n",
    "plt.tight_layout()\n",
    "#plt.savefig(f\"{outputDir}08_gene_based_filtering.pdf\", dpi = 300)\n",
    "plt.show()\n",
    "\n"
   ]
  },
  {
   "cell_type": "code",
   "execution_count": null,
   "id": "d7ade754-843e-4840-8707-426613d8c0c5",
   "metadata": {
    "execution": {
     "iopub.execute_input": "2023-05-15T09:02:39.496458Z",
     "iopub.status.busy": "2023-05-15T09:02:39.496182Z",
     "iopub.status.idle": "2023-05-15T09:02:39.504745Z",
     "shell.execute_reply": "2023-05-15T09:02:39.504421Z"
    },
    "papermill": {
     "duration": 0.013947,
     "end_time": "2023-05-15T09:02:39.505517",
     "exception": false,
     "start_time": "2023-05-15T09:02:39.491570",
     "status": "completed"
    },
    "tags": []
   },
   "outputs": [],
   "source": [
    "dataset = dataset[dataset.obs.pct_counts_mt < 10, :]\n",
    "dataset = dataset[dataset.obs.n_genes_by_counts > 100, :]\n",
    "dataset = dataset[dataset.obs.pct_counts_hb < 3, :]\n",
    "dataset"
   ]
  },
  {
   "cell_type": "code",
   "execution_count": null,
   "id": "1941fa36-e865-4500-b586-f7a32d142c9b",
   "metadata": {
    "execution": {
     "iopub.execute_input": "2023-05-15T09:02:39.514084Z",
     "iopub.status.busy": "2023-05-15T09:02:39.513850Z",
     "iopub.status.idle": "2023-05-15T09:02:39.516748Z",
     "shell.execute_reply": "2023-05-15T09:02:39.516440Z"
    },
    "papermill": {
     "duration": 0.008007,
     "end_time": "2023-05-15T09:02:39.517508",
     "exception": false,
     "start_time": "2023-05-15T09:02:39.509501",
     "status": "completed"
    },
    "tags": []
   },
   "outputs": [],
   "source": [
    "metadata.columns"
   ]
  },
  {
   "cell_type": "code",
   "execution_count": null,
   "id": "2e0ff8c3-2aa9-4a01-9b88-5912a6734447",
   "metadata": {
    "execution": {
     "iopub.execute_input": "2023-05-15T09:02:39.526246Z",
     "iopub.status.busy": "2023-05-15T09:02:39.526046Z",
     "iopub.status.idle": "2023-05-15T09:02:39.550566Z",
     "shell.execute_reply": "2023-05-15T09:02:39.550154Z"
    },
    "papermill": {
     "duration": 0.03027,
     "end_time": "2023-05-15T09:02:39.551773",
     "exception": false,
     "start_time": "2023-05-15T09:02:39.521503",
     "status": "completed"
    },
    "tags": []
   },
   "outputs": [],
   "source": [
    "for col in metadata.columns:\n",
    "    dataset.obs[col] = metadata.loc[metadata[\"Run\"] == sample_name, col].to_list()[0]"
   ]
  },
  {
   "cell_type": "code",
   "execution_count": null,
   "id": "b84578d3-d63e-419c-a272-a0b8317d05ab",
   "metadata": {
    "execution": {
     "iopub.execute_input": "2023-05-15T09:02:39.561407Z",
     "iopub.status.busy": "2023-05-15T09:02:39.561152Z",
     "iopub.status.idle": "2023-05-15T09:02:40.138370Z",
     "shell.execute_reply": "2023-05-15T09:02:40.137870Z"
    },
    "papermill": {
     "duration": 0.583255,
     "end_time": "2023-05-15T09:02:40.139673",
     "exception": false,
     "start_time": "2023-05-15T09:02:39.556418",
     "status": "completed"
    },
    "tags": []
   },
   "outputs": [],
   "source": [
    "dataset.write(f\"../../int_data/{sample_name}_qc.h5ad\")"
   ]
  },
  {
   "cell_type": "code",
   "execution_count": null,
   "id": "501b33a0-432d-415f-ae82-50723484b85d",
   "metadata": {
    "execution": {
     "iopub.execute_input": "2023-05-15T09:02:40.149253Z",
     "iopub.status.busy": "2023-05-15T09:02:40.149065Z",
     "iopub.status.idle": "2023-05-15T09:02:40.152179Z",
     "shell.execute_reply": "2023-05-15T09:02:40.151837Z"
    },
    "papermill": {
     "duration": 0.008679,
     "end_time": "2023-05-15T09:02:40.152972",
     "exception": false,
     "start_time": "2023-05-15T09:02:40.144293",
     "status": "completed"
    },
    "tags": []
   },
   "outputs": [],
   "source": [
    "dataset"
   ]
  }
 ],
 "metadata": {
  "kernelspec": {
   "display_name": "py_R",
   "language": "python",
   "name": "python_r"
  },
  "language_info": {
   "codemirror_mode": {
    "name": "ipython",
    "version": 3
   },
   "file_extension": ".py",
   "mimetype": "text/x-python",
   "name": "python",
   "nbconvert_exporter": "python",
   "pygments_lexer": "ipython3",
   "version": "3.10.9"
  },
  "papermill": {
   "default_parameters": {},
   "duration": 79.973164,
   "end_time": "2023-05-15T09:02:41.574166",
   "environment_variables": {},
   "exception": null,
   "input_path": "template.ipynb",
   "output_path": "SRR13329166.ipynb",
   "parameters": {
    "sample_name": "SRR13329166"
   },
   "start_time": "2023-05-15T09:01:21.601002",
   "version": "2.4.0"
  }
 },
 "nbformat": 4,
 "nbformat_minor": 5
}
