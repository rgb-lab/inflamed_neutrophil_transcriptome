{
 "cells": [
  {
   "cell_type": "code",
   "execution_count": null,
   "id": "4c0f2fa8-5232-4f47-a7ec-6c9bbabe50e2",
   "metadata": {
    "execution": {
     "iopub.execute_input": "2023-05-15T07:37:04.645794Z",
     "iopub.status.busy": "2023-05-15T07:37:04.645632Z",
     "iopub.status.idle": "2023-05-15T07:37:04.650121Z",
     "shell.execute_reply": "2023-05-15T07:37:04.649742Z"
    },
    "papermill": {
     "duration": 0.009253,
     "end_time": "2023-05-15T07:37:04.651060",
     "exception": false,
     "start_time": "2023-05-15T07:37:04.641807",
     "status": "completed"
    },
    "tags": [
     "parameters"
    ]
   },
   "outputs": [],
   "source": [
    "sample_name = \"SRR13329143\""
   ]
  },
  {
   "cell_type": "code",
   "execution_count": null,
   "id": "ce8c79f4",
   "metadata": {
    "execution": {
     "iopub.execute_input": "2023-05-15T07:37:04.656554Z",
     "iopub.status.busy": "2023-05-15T07:37:04.656401Z",
     "iopub.status.idle": "2023-05-15T07:37:04.658324Z",
     "shell.execute_reply": "2023-05-15T07:37:04.658031Z"
    },
    "papermill": {
     "duration": 0.005566,
     "end_time": "2023-05-15T07:37:04.659112",
     "exception": false,
     "start_time": "2023-05-15T07:37:04.653546",
     "status": "completed"
    },
    "tags": [
     "injected-parameters"
    ]
   },
   "outputs": [],
   "source": [
    "# Parameters\n",
    "sample_name = \"SRR13329128\"\n"
   ]
  },
  {
   "cell_type": "code",
   "execution_count": null,
   "id": "f87ed95b-2b67-4a5a-8fe2-47359b1dd2a9",
   "metadata": {
    "execution": {
     "iopub.execute_input": "2023-05-15T07:37:04.664529Z",
     "iopub.status.busy": "2023-05-15T07:37:04.664297Z",
     "iopub.status.idle": "2023-05-15T07:37:04.666565Z",
     "shell.execute_reply": "2023-05-15T07:37:04.666271Z"
    },
    "papermill": {
     "duration": 0.005975,
     "end_time": "2023-05-15T07:37:04.667371",
     "exception": false,
     "start_time": "2023-05-15T07:37:04.661396",
     "status": "completed"
    },
    "tags": []
   },
   "outputs": [],
   "source": [
    "import warnings\n",
    "warnings.simplefilter(action='ignore', category=FutureWarning)\n",
    "warnings.simplefilter(action='ignore', category=UserWarning)"
   ]
  },
  {
   "cell_type": "code",
   "execution_count": null,
   "id": "85161f19-b2c5-490b-8cab-c2cf9653b304",
   "metadata": {
    "execution": {
     "iopub.execute_input": "2023-05-15T07:37:04.672719Z",
     "iopub.status.busy": "2023-05-15T07:37:04.672478Z",
     "iopub.status.idle": "2023-05-15T07:37:08.643413Z",
     "shell.execute_reply": "2023-05-15T07:37:08.642951Z"
    },
    "papermill": {
     "duration": 3.975237,
     "end_time": "2023-05-15T07:37:08.644894",
     "exception": false,
     "start_time": "2023-05-15T07:37:04.669657",
     "status": "completed"
    },
    "tags": []
   },
   "outputs": [],
   "source": [
    "import gc\n",
    "import scanpy as sc\n",
    "import muon as mu\n",
    "import seaborn as sns\n",
    "import os\n",
    "import pandas as pd\n",
    "from matplotlib import pyplot as plt\n",
    "\n",
    "os.environ['R_HOME'] = '/gpfs/bwfor/work/ws/hd_fu399-conda/conda/envs/python_R/lib/R/'\n",
    "import anndata2ri\n",
    "import logging\n",
    "\n",
    "import rpy2.rinterface_lib.callbacks as rcb\n",
    "import rpy2.robjects as ro\n",
    "\n",
    "rcb.logger.setLevel(logging.ERROR)\n",
    "ro.pandas2ri.activate()\n",
    "anndata2ri.activate()\n",
    "\n",
    "%load_ext rpy2.ipython"
   ]
  },
  {
   "cell_type": "code",
   "execution_count": null,
   "id": "fc4ade78-b728-4704-9db6-45fbaab62ba1",
   "metadata": {
    "execution": {
     "iopub.execute_input": "2023-05-15T07:37:08.654992Z",
     "iopub.status.busy": "2023-05-15T07:37:08.654712Z",
     "iopub.status.idle": "2023-05-15T07:37:18.217243Z",
     "shell.execute_reply": "2023-05-15T07:37:18.216678Z"
    },
    "papermill": {
     "duration": 9.566872,
     "end_time": "2023-05-15T07:37:18.218646",
     "exception": false,
     "start_time": "2023-05-15T07:37:08.651774",
     "status": "completed"
    },
    "tags": []
   },
   "outputs": [],
   "source": [
    "%%R\n",
    "library(SoupX)\n",
    "library(Seurat)\n",
    "library(scater)\n",
    "library(scDblFinder)\n",
    "library(BiocParallel)\n",
    "library(MuDataSeurat)\n",
    "library(DropletUtils)"
   ]
  },
  {
   "cell_type": "code",
   "execution_count": null,
   "id": "f7424d90-7690-4290-8651-1db3f9df3a35",
   "metadata": {
    "execution": {
     "iopub.execute_input": "2023-05-15T07:37:18.227418Z",
     "iopub.status.busy": "2023-05-15T07:37:18.227048Z",
     "iopub.status.idle": "2023-05-15T07:37:18.232816Z",
     "shell.execute_reply": "2023-05-15T07:37:18.232481Z"
    },
    "papermill": {
     "duration": 0.010037,
     "end_time": "2023-05-15T07:37:18.233788",
     "exception": false,
     "start_time": "2023-05-15T07:37:18.223751",
     "status": "completed"
    },
    "tags": []
   },
   "outputs": [],
   "source": [
    "metadata = pd.read_csv(\"../../combes_metadata.txt\")"
   ]
  },
  {
   "cell_type": "code",
   "execution_count": null,
   "id": "2574ecf1-bad4-4c33-8f3f-718a358727ab",
   "metadata": {
    "execution": {
     "iopub.execute_input": "2023-05-15T07:37:18.240322Z",
     "iopub.status.busy": "2023-05-15T07:37:18.240086Z",
     "iopub.status.idle": "2023-05-15T07:37:18.242140Z",
     "shell.execute_reply": "2023-05-15T07:37:18.241837Z"
    },
    "papermill": {
     "duration": 0.006051,
     "end_time": "2023-05-15T07:37:18.242933",
     "exception": false,
     "start_time": "2023-05-15T07:37:18.236882",
     "status": "completed"
    },
    "tags": []
   },
   "outputs": [],
   "source": [
    "raw_input = f\"/home/hd/hd_hd/hd_fu399/sds-hd/sd21k006/scRNAseq/revision_natcomm/combes_et_al/fetchngs/results/fastq/{sample_name}/{sample_name}/outs/raw_feature_bc_matrix.h5\""
   ]
  },
  {
   "cell_type": "code",
   "execution_count": null,
   "id": "e266d388-1802-435c-93a5-90067358739c",
   "metadata": {
    "execution": {
     "iopub.execute_input": "2023-05-15T07:37:18.249291Z",
     "iopub.status.busy": "2023-05-15T07:37:18.249042Z",
     "iopub.status.idle": "2023-05-15T07:37:18.814458Z",
     "shell.execute_reply": "2023-05-15T07:37:18.814023Z"
    },
    "papermill": {
     "duration": 0.569562,
     "end_time": "2023-05-15T07:37:18.815440",
     "exception": false,
     "start_time": "2023-05-15T07:37:18.245878",
     "status": "completed"
    },
    "tags": []
   },
   "outputs": [],
   "source": [
    "dataset = sc.read_10x_h5(raw_input)\n",
    "dataset.var_names_make_unique()\n",
    "dataset.obs_names_make_unique()\n",
    "\n",
    "dataset.layers[\"raw_counts\"] = dataset.X.copy()\n",
    "data_tod = dataset.layers[\"raw_counts\"].T.copy()\n",
    "\n",
    "dataset"
   ]
  },
  {
   "cell_type": "code",
   "execution_count": null,
   "id": "af9f5892-ed31-42a6-991b-4e096f582cef",
   "metadata": {
    "execution": {
     "iopub.execute_input": "2023-05-15T07:37:18.822087Z",
     "iopub.status.busy": "2023-05-15T07:37:18.821901Z",
     "iopub.status.idle": "2023-05-15T07:37:18.876138Z",
     "shell.execute_reply": "2023-05-15T07:37:18.875666Z"
    },
    "papermill": {
     "duration": 0.058852,
     "end_time": "2023-05-15T07:37:18.877475",
     "exception": false,
     "start_time": "2023-05-15T07:37:18.818623",
     "status": "completed"
    },
    "tags": []
   },
   "outputs": [],
   "source": [
    "sce = dataset.copy()"
   ]
  },
  {
   "cell_type": "code",
   "execution_count": null,
   "id": "d03f2caf-8e74-430e-b045-0ab80401d165",
   "metadata": {
    "execution": {
     "iopub.execute_input": "2023-05-15T07:37:18.883719Z",
     "iopub.status.busy": "2023-05-15T07:37:18.883552Z",
     "iopub.status.idle": "2023-05-15T07:38:31.159977Z",
     "shell.execute_reply": "2023-05-15T07:38:31.159386Z"
    },
    "papermill": {
     "duration": 72.281057,
     "end_time": "2023-05-15T07:38:31.161439",
     "exception": false,
     "start_time": "2023-05-15T07:37:18.880382",
     "status": "completed"
    },
    "tags": []
   },
   "outputs": [],
   "source": [
    "%%R -i sce -o empty_drop_output\n",
    "set.seed(187)\n",
    "empty_drop_output <- emptyDrops(assay(sce))"
   ]
  },
  {
   "cell_type": "code",
   "execution_count": null,
   "id": "2a34a54b-3ae2-44d6-8679-8769228c5b66",
   "metadata": {
    "execution": {
     "iopub.execute_input": "2023-05-15T07:38:31.172034Z",
     "iopub.status.busy": "2023-05-15T07:38:31.171856Z",
     "iopub.status.idle": "2023-05-15T07:38:31.200897Z",
     "shell.execute_reply": "2023-05-15T07:38:31.200548Z"
    },
    "papermill": {
     "duration": 0.033288,
     "end_time": "2023-05-15T07:38:31.201834",
     "exception": false,
     "start_time": "2023-05-15T07:38:31.168546",
     "status": "completed"
    },
    "tags": []
   },
   "outputs": [],
   "source": [
    "non_empty_barcodes = empty_drop_output[empty_drop_output[\"FDR\"] < 0.001].index\n",
    "dataset = dataset[dataset.obs.index.isin(non_empty_barcodes), :]\n",
    "dataset"
   ]
  },
  {
   "cell_type": "code",
   "execution_count": null,
   "id": "016a91e5-1bef-46fb-b91e-4fb9a6870c44",
   "metadata": {
    "execution": {
     "iopub.execute_input": "2023-05-15T07:38:31.208282Z",
     "iopub.status.busy": "2023-05-15T07:38:31.208085Z",
     "iopub.status.idle": "2023-05-15T07:38:37.704033Z",
     "shell.execute_reply": "2023-05-15T07:38:37.703545Z"
    },
    "papermill": {
     "duration": 6.500778,
     "end_time": "2023-05-15T07:38:37.705429",
     "exception": false,
     "start_time": "2023-05-15T07:38:31.204651",
     "status": "completed"
    },
    "tags": []
   },
   "outputs": [],
   "source": [
    "rna_assay = dataset.copy()\n",
    "sc.pp.normalize_per_cell(rna_assay)\n",
    "sc.pp.log1p(rna_assay)\n",
    "sc.pp.pca(rna_assay)\n",
    "sc.pp.neighbors(rna_assay)\n",
    "sc.tl.leiden(rna_assay, key_added=\"soupx_groups\")\n",
    "\n",
    "soupx_groups = rna_assay.obs[\"soupx_groups\"]\n",
    "\n",
    "del rna_assay\n",
    "\n",
    "genes = dataset.var_names\n",
    "cells = dataset.obs_names\n",
    "data = dataset.X.T.copy()"
   ]
  },
  {
   "cell_type": "code",
   "execution_count": null,
   "id": "9db4ea1f-1580-4f43-a3f0-86002397cd98",
   "metadata": {
    "execution": {
     "iopub.execute_input": "2023-05-15T07:38:37.715933Z",
     "iopub.status.busy": "2023-05-15T07:38:37.715764Z",
     "iopub.status.idle": "2023-05-15T07:38:56.872293Z",
     "shell.execute_reply": "2023-05-15T07:38:56.871836Z"
    },
    "papermill": {
     "duration": 19.161363,
     "end_time": "2023-05-15T07:38:56.873755",
     "exception": false,
     "start_time": "2023-05-15T07:38:37.712392",
     "status": "completed"
    },
    "tags": []
   },
   "outputs": [],
   "source": [
    "%%R -i data -i data_tod -i genes -i cells -i soupx_groups -o out \n",
    "set.seed(187)\n",
    "# specify row and column names of data\n",
    "rownames(data) = genes\n",
    "colnames(data) = cells\n",
    "# ensure correct sparse format for table of counts and table of droplets\n",
    "data <- as(data, \"sparseMatrix\")\n",
    "data_tod <- as(data_tod, \"sparseMatrix\")\n",
    "\n",
    "# Generate SoupChannel Object for SoupX \n",
    "sc = SoupChannel(data_tod, data, calcSoupProfile = FALSE)\n",
    "\n",
    "# Add extra meta data to the SoupChannel object\n",
    "soupProf = data.frame(row.names = rownames(data),\n",
    "                      est = rowSums(data)/sum(data),\n",
    "                      counts = rowSums(data))\n",
    "sc = setSoupProfile(sc, soupProf)\n",
    "# Set cluster information in SoupChannel\n",
    "sc = setClusters(sc, soupx_groups)\n",
    "\n",
    "# Estimate contamination fraction\n",
    "sc  = autoEstCont(sc, doPlot=FALSE, forceAccept = TRUE)\n",
    "# Infer corrected table of counts and rount to integer\n",
    "out = adjustCounts(sc, roundToInt = TRUE)"
   ]
  },
  {
   "cell_type": "code",
   "execution_count": null,
   "id": "32555d5e-5fa3-46dd-a4e0-ddc96ea265e2",
   "metadata": {
    "execution": {
     "iopub.execute_input": "2023-05-15T07:38:56.923880Z",
     "iopub.status.busy": "2023-05-15T07:38:56.923703Z",
     "iopub.status.idle": "2023-05-15T07:38:56.962106Z",
     "shell.execute_reply": "2023-05-15T07:38:56.961654Z"
    },
    "papermill": {
     "duration": 0.043089,
     "end_time": "2023-05-15T07:38:56.963393",
     "exception": false,
     "start_time": "2023-05-15T07:38:56.920304",
     "status": "completed"
    },
    "tags": []
   },
   "outputs": [],
   "source": [
    "dataset.layers[\"soupX_counts\"] = out.T\n",
    "dataset.X = dataset.layers[\"soupX_counts\"].copy()"
   ]
  },
  {
   "cell_type": "code",
   "execution_count": null,
   "id": "e27da7df-e094-4d2a-9109-5a363e012175",
   "metadata": {
    "execution": {
     "iopub.execute_input": "2023-05-15T07:38:56.969838Z",
     "iopub.status.busy": "2023-05-15T07:38:56.969662Z",
     "iopub.status.idle": "2023-05-15T07:38:56.972118Z",
     "shell.execute_reply": "2023-05-15T07:38:56.971751Z"
    },
    "papermill": {
     "duration": 0.006454,
     "end_time": "2023-05-15T07:38:56.972890",
     "exception": false,
     "start_time": "2023-05-15T07:38:56.966436",
     "status": "completed"
    },
    "tags": []
   },
   "outputs": [],
   "source": [
    "data_mat = dataset.X.T"
   ]
  },
  {
   "cell_type": "code",
   "execution_count": null,
   "id": "80a993b1-5ccb-4697-9187-1beb7ab8aff9",
   "metadata": {
    "execution": {
     "iopub.execute_input": "2023-05-15T07:38:56.978972Z",
     "iopub.status.busy": "2023-05-15T07:38:56.978753Z",
     "iopub.status.idle": "2023-05-15T07:39:14.981407Z",
     "shell.execute_reply": "2023-05-15T07:39:14.980913Z"
    },
    "papermill": {
     "duration": 18.007445,
     "end_time": "2023-05-15T07:39:14.983033",
     "exception": false,
     "start_time": "2023-05-15T07:38:56.975588",
     "status": "completed"
    },
    "tags": []
   },
   "outputs": [],
   "source": [
    "%%R -i data_mat -o droplet_class\n",
    "\n",
    "set.seed(187)\n",
    "sce = scDblFinder(\n",
    "    SingleCellExperiment(\n",
    "        list(counts=data_mat),\n",
    "    ) \n",
    ")\n",
    "droplet_class = sce$scDblFinder.class"
   ]
  },
  {
   "cell_type": "code",
   "execution_count": null,
   "id": "d4dd6e9d-fcf2-41fc-8457-c8e0a3cb2c71",
   "metadata": {
    "execution": {
     "iopub.execute_input": "2023-05-15T07:39:14.994124Z",
     "iopub.status.busy": "2023-05-15T07:39:14.993965Z",
     "iopub.status.idle": "2023-05-15T07:39:14.998739Z",
     "shell.execute_reply": "2023-05-15T07:39:14.998385Z"
    },
    "papermill": {
     "duration": 0.008937,
     "end_time": "2023-05-15T07:39:14.999549",
     "exception": false,
     "start_time": "2023-05-15T07:39:14.990612",
     "status": "completed"
    },
    "tags": []
   },
   "outputs": [],
   "source": [
    "dataset.obs[\"scDblFinder_class\"] = droplet_class\n",
    "dataset.obs.scDblFinder_class.value_counts()\n",
    "dataset"
   ]
  },
  {
   "cell_type": "code",
   "execution_count": null,
   "id": "28c95014-2d6c-477f-95cb-9f9f0507520c",
   "metadata": {
    "execution": {
     "iopub.execute_input": "2023-05-15T07:39:15.005739Z",
     "iopub.status.busy": "2023-05-15T07:39:15.005566Z",
     "iopub.status.idle": "2023-05-15T07:39:15.010776Z",
     "shell.execute_reply": "2023-05-15T07:39:15.010416Z"
    },
    "papermill": {
     "duration": 0.009225,
     "end_time": "2023-05-15T07:39:15.011556",
     "exception": false,
     "start_time": "2023-05-15T07:39:15.002331",
     "status": "completed"
    },
    "tags": []
   },
   "outputs": [],
   "source": [
    "dataset = dataset[dataset.obs[\"scDblFinder_class\"] == 1]"
   ]
  },
  {
   "cell_type": "code",
   "execution_count": null,
   "id": "3e22f9e0-bfcb-416c-a151-a9bca3bec3b9",
   "metadata": {
    "execution": {
     "iopub.execute_input": "2023-05-15T07:39:15.017915Z",
     "iopub.status.busy": "2023-05-15T07:39:15.017687Z",
     "iopub.status.idle": "2023-05-15T07:39:15.218771Z",
     "shell.execute_reply": "2023-05-15T07:39:15.218300Z"
    },
    "papermill": {
     "duration": 0.205433,
     "end_time": "2023-05-15T07:39:15.219849",
     "exception": false,
     "start_time": "2023-05-15T07:39:15.014416",
     "status": "completed"
    },
    "tags": []
   },
   "outputs": [],
   "source": [
    "# mitochondrial genes\n",
    "dataset.var[\"mt\"] = dataset.var_names.str.startswith(\"MT-\")\n",
    "# ribosomal genes\n",
    "dataset.var[\"ribo\"] = dataset.var_names.str.startswith((\"RPS\", \"RPL\"))\n",
    "# hemoglobin genes.\n",
    "dataset.var[\"hb\"] = dataset.var_names.str.contains((\"^HB[^(P)]\"))\n",
    "\n",
    "sc.pp.calculate_qc_metrics(dataset,\n",
    "                           qc_vars=['mt', 'ribo', 'hb'],\n",
    "                           percent_top=None,\n",
    "                           log1p=False,\n",
    "                           inplace=True)\n",
    "dataset"
   ]
  },
  {
   "cell_type": "code",
   "execution_count": null,
   "id": "34deee79-4043-428f-8575-aa57b45f6369",
   "metadata": {
    "execution": {
     "iopub.execute_input": "2023-05-15T07:39:15.227134Z",
     "iopub.status.busy": "2023-05-15T07:39:15.226946Z",
     "iopub.status.idle": "2023-05-15T07:39:15.728040Z",
     "shell.execute_reply": "2023-05-15T07:39:15.727628Z"
    },
    "papermill": {
     "duration": 0.506023,
     "end_time": "2023-05-15T07:39:15.729251",
     "exception": false,
     "start_time": "2023-05-15T07:39:15.223228",
     "status": "completed"
    },
    "tags": []
   },
   "outputs": [],
   "source": [
    "fig, ax = plt.subplots(ncols = 4, figsize = (16,4))\n",
    "axis = sc.pl.violin(dataset, \"n_genes_by_counts\", jitter = 0.4, ax = ax[0], show = False)\n",
    "axis.grid(False)\n",
    "axis.set_title(\"Unique Genes per cell\")\n",
    "axis.tick_params(axis = \"x\", bottom =False, labelbottom =False)\n",
    "axis.set_ylabel(\"# genes\")\n",
    "axis.axhline(y = 100, color = \"black\", label = \"cutoff\")\n",
    "axis.legend(fontsize = 14, loc = \"upper right\")\n",
    "\n",
    "axis = sc.pl.violin(dataset, \"pct_counts_mt\", jitter = 0.4, ax = ax[1], show = False)\n",
    "axis.grid(False)\n",
    "axis.set_title(\"Mitochondrial Fraction\")\n",
    "axis.tick_params(axis = \"x\", bottom =False, labelbottom =False)\n",
    "axis.set_ylabel(\"% mitochondrial genes\")\n",
    "axis.axhline(y = 10, color = \"black\", label = \"cutoff\")\n",
    "axis.legend(fontsize = 14, loc = \"upper right\")\n",
    "\n",
    "axis = sc.pl.violin(dataset, \"pct_counts_hb\", jitter = 0.4, ax = ax[2], show = False, size =2)\n",
    "axis.grid(False)\n",
    "axis.set_title(\"Hemoglobin Fraction\")\n",
    "axis.tick_params(axis = \"x\", bottom =False, labelbottom =False)\n",
    "axis.set_ylabel(\"% hemoglobin genes\")\n",
    "axis.axhline(y = 3, color = \"black\", label = \"cutoff\")\n",
    "axis.legend(fontsize = 14, loc = \"upper right\")\n",
    "#axis.set_ylim(0,5)\n",
    "\n",
    "axis = sc.pl.violin(dataset, \"pct_counts_ribo\", jitter = 0.4, ax = ax[3], show = False)\n",
    "axis.grid(False)\n",
    "axis.set_title(\"Ribosomal Fraction\")\n",
    "axis.tick_params(axis = \"x\", bottom =False, labelbottom =False)\n",
    "axis.set_ylabel(\"% ribosome genes\")\n",
    "\n",
    "plt.tight_layout()\n",
    "#plt.savefig(f\"{outputDir}08_gene_based_filtering.pdf\", dpi = 300)\n",
    "plt.show()\n",
    "\n"
   ]
  },
  {
   "cell_type": "code",
   "execution_count": null,
   "id": "d7ade754-843e-4840-8707-426613d8c0c5",
   "metadata": {
    "execution": {
     "iopub.execute_input": "2023-05-15T07:39:15.739012Z",
     "iopub.status.busy": "2023-05-15T07:39:15.738834Z",
     "iopub.status.idle": "2023-05-15T07:39:15.748237Z",
     "shell.execute_reply": "2023-05-15T07:39:15.747903Z"
    },
    "papermill": {
     "duration": 0.014996,
     "end_time": "2023-05-15T07:39:15.749031",
     "exception": false,
     "start_time": "2023-05-15T07:39:15.734035",
     "status": "completed"
    },
    "tags": []
   },
   "outputs": [],
   "source": [
    "dataset = dataset[dataset.obs.pct_counts_mt < 10, :]\n",
    "dataset = dataset[dataset.obs.n_genes_by_counts > 100, :]\n",
    "dataset = dataset[dataset.obs.pct_counts_hb < 3, :]\n",
    "dataset"
   ]
  },
  {
   "cell_type": "code",
   "execution_count": null,
   "id": "1941fa36-e865-4500-b586-f7a32d142c9b",
   "metadata": {
    "execution": {
     "iopub.execute_input": "2023-05-15T07:39:15.758200Z",
     "iopub.status.busy": "2023-05-15T07:39:15.758012Z",
     "iopub.status.idle": "2023-05-15T07:39:15.761011Z",
     "shell.execute_reply": "2023-05-15T07:39:15.760699Z"
    },
    "papermill": {
     "duration": 0.008451,
     "end_time": "2023-05-15T07:39:15.761814",
     "exception": false,
     "start_time": "2023-05-15T07:39:15.753363",
     "status": "completed"
    },
    "tags": []
   },
   "outputs": [],
   "source": [
    "metadata.columns"
   ]
  },
  {
   "cell_type": "code",
   "execution_count": null,
   "id": "2e0ff8c3-2aa9-4a01-9b88-5912a6734447",
   "metadata": {
    "execution": {
     "iopub.execute_input": "2023-05-15T07:39:15.771204Z",
     "iopub.status.busy": "2023-05-15T07:39:15.771028Z",
     "iopub.status.idle": "2023-05-15T07:39:15.822849Z",
     "shell.execute_reply": "2023-05-15T07:39:15.822377Z"
    },
    "papermill": {
     "duration": 0.05776,
     "end_time": "2023-05-15T07:39:15.823990",
     "exception": false,
     "start_time": "2023-05-15T07:39:15.766230",
     "status": "completed"
    },
    "tags": []
   },
   "outputs": [],
   "source": [
    "for col in metadata.columns:\n",
    "    dataset.obs[col] = metadata.loc[metadata[\"Run\"] == sample_name, col].to_list()[0]"
   ]
  },
  {
   "cell_type": "code",
   "execution_count": null,
   "id": "b84578d3-d63e-419c-a272-a0b8317d05ab",
   "metadata": {
    "execution": {
     "iopub.execute_input": "2023-05-15T07:39:15.833879Z",
     "iopub.status.busy": "2023-05-15T07:39:15.833688Z",
     "iopub.status.idle": "2023-05-15T07:39:16.175528Z",
     "shell.execute_reply": "2023-05-15T07:39:16.175034Z"
    },
    "papermill": {
     "duration": 0.348185,
     "end_time": "2023-05-15T07:39:16.176917",
     "exception": false,
     "start_time": "2023-05-15T07:39:15.828732",
     "status": "completed"
    },
    "tags": []
   },
   "outputs": [],
   "source": [
    "dataset.write(f\"../../int_data/{sample_name}_qc.h5ad\")"
   ]
  },
  {
   "cell_type": "code",
   "execution_count": null,
   "id": "501b33a0-432d-415f-ae82-50723484b85d",
   "metadata": {
    "execution": {
     "iopub.execute_input": "2023-05-15T07:39:16.187145Z",
     "iopub.status.busy": "2023-05-15T07:39:16.186946Z",
     "iopub.status.idle": "2023-05-15T07:39:16.190010Z",
     "shell.execute_reply": "2023-05-15T07:39:16.189669Z"
    },
    "papermill": {
     "duration": 0.008895,
     "end_time": "2023-05-15T07:39:16.190810",
     "exception": false,
     "start_time": "2023-05-15T07:39:16.181915",
     "status": "completed"
    },
    "tags": []
   },
   "outputs": [],
   "source": [
    "dataset"
   ]
  }
 ],
 "metadata": {
  "kernelspec": {
   "display_name": "py_R",
   "language": "python",
   "name": "python_r"
  },
  "language_info": {
   "codemirror_mode": {
    "name": "ipython",
    "version": 3
   },
   "file_extension": ".py",
   "mimetype": "text/x-python",
   "name": "python",
   "nbconvert_exporter": "python",
   "pygments_lexer": "ipython3",
   "version": "3.10.9"
  },
  "papermill": {
   "default_parameters": {},
   "duration": 133.777248,
   "end_time": "2023-05-15T07:39:17.613561",
   "environment_variables": {},
   "exception": null,
   "input_path": "template.ipynb",
   "output_path": "SRR13329128.ipynb",
   "parameters": {
    "sample_name": "SRR13329128"
   },
   "start_time": "2023-05-15T07:37:03.836313",
   "version": "2.4.0"
  }
 },
 "nbformat": 4,
 "nbformat_minor": 5
}
