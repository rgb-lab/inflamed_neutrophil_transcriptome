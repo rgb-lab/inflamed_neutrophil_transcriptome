{
 "cells": [
  {
   "cell_type": "code",
   "execution_count": null,
   "id": "4c0f2fa8-5232-4f47-a7ec-6c9bbabe50e2",
   "metadata": {
    "execution": {
     "iopub.execute_input": "2023-05-15T09:17:37.372855Z",
     "iopub.status.busy": "2023-05-15T09:17:37.372692Z",
     "iopub.status.idle": "2023-05-15T09:17:37.377251Z",
     "shell.execute_reply": "2023-05-15T09:17:37.376949Z"
    },
    "papermill": {
     "duration": 0.008787,
     "end_time": "2023-05-15T09:17:37.378015",
     "exception": false,
     "start_time": "2023-05-15T09:17:37.369228",
     "status": "completed"
    },
    "tags": [
     "parameters"
    ]
   },
   "outputs": [],
   "source": [
    "sample_name = \"SRR13329143\""
   ]
  },
  {
   "cell_type": "code",
   "execution_count": null,
   "id": "d04e1003",
   "metadata": {
    "execution": {
     "iopub.execute_input": "2023-05-15T09:17:37.383367Z",
     "iopub.status.busy": "2023-05-15T09:17:37.383244Z",
     "iopub.status.idle": "2023-05-15T09:17:37.385138Z",
     "shell.execute_reply": "2023-05-15T09:17:37.384847Z"
    },
    "papermill": {
     "duration": 0.005471,
     "end_time": "2023-05-15T09:17:37.385896",
     "exception": false,
     "start_time": "2023-05-15T09:17:37.380425",
     "status": "completed"
    },
    "tags": [
     "injected-parameters"
    ]
   },
   "outputs": [],
   "source": [
    "# Parameters\n",
    "sample_name = \"SRR13329133\"\n"
   ]
  },
  {
   "cell_type": "code",
   "execution_count": null,
   "id": "f87ed95b-2b67-4a5a-8fe2-47359b1dd2a9",
   "metadata": {
    "execution": {
     "iopub.execute_input": "2023-05-15T09:17:37.391110Z",
     "iopub.status.busy": "2023-05-15T09:17:37.390803Z",
     "iopub.status.idle": "2023-05-15T09:17:37.392938Z",
     "shell.execute_reply": "2023-05-15T09:17:37.392649Z"
    },
    "papermill": {
     "duration": 0.005538,
     "end_time": "2023-05-15T09:17:37.393713",
     "exception": false,
     "start_time": "2023-05-15T09:17:37.388175",
     "status": "completed"
    },
    "tags": []
   },
   "outputs": [],
   "source": [
    "import warnings\n",
    "warnings.simplefilter(action='ignore', category=FutureWarning)\n",
    "warnings.simplefilter(action='ignore', category=UserWarning)"
   ]
  },
  {
   "cell_type": "code",
   "execution_count": null,
   "id": "85161f19-b2c5-490b-8cab-c2cf9653b304",
   "metadata": {
    "execution": {
     "iopub.execute_input": "2023-05-15T09:17:37.398966Z",
     "iopub.status.busy": "2023-05-15T09:17:37.398724Z",
     "iopub.status.idle": "2023-05-15T09:17:41.936242Z",
     "shell.execute_reply": "2023-05-15T09:17:41.935825Z"
    },
    "papermill": {
     "duration": 4.541508,
     "end_time": "2023-05-15T09:17:41.937563",
     "exception": false,
     "start_time": "2023-05-15T09:17:37.396055",
     "status": "completed"
    },
    "tags": []
   },
   "outputs": [],
   "source": [
    "import gc\n",
    "import scanpy as sc\n",
    "import muon as mu\n",
    "import seaborn as sns\n",
    "import os\n",
    "import pandas as pd\n",
    "from matplotlib import pyplot as plt\n",
    "\n",
    "os.environ['R_HOME'] = '/gpfs/bwfor/work/ws/hd_fu399-conda/conda/envs/python_R/lib/R/'\n",
    "import anndata2ri\n",
    "import logging\n",
    "\n",
    "import rpy2.rinterface_lib.callbacks as rcb\n",
    "import rpy2.robjects as ro\n",
    "\n",
    "rcb.logger.setLevel(logging.ERROR)\n",
    "ro.pandas2ri.activate()\n",
    "anndata2ri.activate()\n",
    "\n",
    "%load_ext rpy2.ipython"
   ]
  },
  {
   "cell_type": "code",
   "execution_count": null,
   "id": "fc4ade78-b728-4704-9db6-45fbaab62ba1",
   "metadata": {
    "execution": {
     "iopub.execute_input": "2023-05-15T09:17:41.943647Z",
     "iopub.status.busy": "2023-05-15T09:17:41.943384Z",
     "iopub.status.idle": "2023-05-15T09:17:53.254716Z",
     "shell.execute_reply": "2023-05-15T09:17:53.254150Z"
    },
    "papermill": {
     "duration": 11.315557,
     "end_time": "2023-05-15T09:17:53.256058",
     "exception": false,
     "start_time": "2023-05-15T09:17:41.940501",
     "status": "completed"
    },
    "tags": []
   },
   "outputs": [],
   "source": [
    "%%R\n",
    "library(SoupX)\n",
    "library(Seurat)\n",
    "library(scater)\n",
    "library(scDblFinder)\n",
    "library(BiocParallel)\n",
    "library(MuDataSeurat)\n",
    "library(DropletUtils)"
   ]
  },
  {
   "cell_type": "code",
   "execution_count": null,
   "id": "f7424d90-7690-4290-8651-1db3f9df3a35",
   "metadata": {
    "execution": {
     "iopub.execute_input": "2023-05-15T09:17:53.264617Z",
     "iopub.status.busy": "2023-05-15T09:17:53.264429Z",
     "iopub.status.idle": "2023-05-15T09:17:53.270551Z",
     "shell.execute_reply": "2023-05-15T09:17:53.270228Z"
    },
    "papermill": {
     "duration": 0.010973,
     "end_time": "2023-05-15T09:17:53.271882",
     "exception": false,
     "start_time": "2023-05-15T09:17:53.260909",
     "status": "completed"
    },
    "tags": []
   },
   "outputs": [],
   "source": [
    "metadata = pd.read_csv(\"../../combes_metadata.txt\")"
   ]
  },
  {
   "cell_type": "code",
   "execution_count": null,
   "id": "2574ecf1-bad4-4c33-8f3f-718a358727ab",
   "metadata": {
    "execution": {
     "iopub.execute_input": "2023-05-15T09:17:53.277333Z",
     "iopub.status.busy": "2023-05-15T09:17:53.277057Z",
     "iopub.status.idle": "2023-05-15T09:17:53.286712Z",
     "shell.execute_reply": "2023-05-15T09:17:53.286374Z"
    },
    "papermill": {
     "duration": 0.01339,
     "end_time": "2023-05-15T09:17:53.287635",
     "exception": false,
     "start_time": "2023-05-15T09:17:53.274245",
     "status": "completed"
    },
    "tags": []
   },
   "outputs": [],
   "source": [
    "raw_input = f\"/home/hd/hd_hd/hd_fu399/sds-hd/sd21k006/scRNAseq/revision_natcomm/combes_et_al/fetchngs/results/fastq/{sample_name}/{sample_name}/outs/raw_feature_bc_matrix.h5\""
   ]
  },
  {
   "cell_type": "code",
   "execution_count": null,
   "id": "e266d388-1802-435c-93a5-90067358739c",
   "metadata": {
    "execution": {
     "iopub.execute_input": "2023-05-15T09:17:53.293198Z",
     "iopub.status.busy": "2023-05-15T09:17:53.292982Z",
     "iopub.status.idle": "2023-05-15T09:17:53.641132Z",
     "shell.execute_reply": "2023-05-15T09:17:53.640751Z"
    },
    "papermill": {
     "duration": 0.351985,
     "end_time": "2023-05-15T09:17:53.642047",
     "exception": false,
     "start_time": "2023-05-15T09:17:53.290062",
     "status": "completed"
    },
    "tags": []
   },
   "outputs": [],
   "source": [
    "dataset = sc.read_10x_h5(raw_input)\n",
    "dataset.var_names_make_unique()\n",
    "dataset.obs_names_make_unique()\n",
    "\n",
    "dataset.layers[\"raw_counts\"] = dataset.X.copy()\n",
    "data_tod = dataset.layers[\"raw_counts\"].T.copy()\n",
    "\n",
    "dataset"
   ]
  },
  {
   "cell_type": "code",
   "execution_count": null,
   "id": "af9f5892-ed31-42a6-991b-4e096f582cef",
   "metadata": {
    "execution": {
     "iopub.execute_input": "2023-05-15T09:17:53.648484Z",
     "iopub.status.busy": "2023-05-15T09:17:53.648305Z",
     "iopub.status.idle": "2023-05-15T09:17:53.675081Z",
     "shell.execute_reply": "2023-05-15T09:17:53.674615Z"
    },
    "papermill": {
     "duration": 0.031162,
     "end_time": "2023-05-15T09:17:53.676248",
     "exception": false,
     "start_time": "2023-05-15T09:17:53.645086",
     "status": "completed"
    },
    "tags": []
   },
   "outputs": [],
   "source": [
    "sce = dataset.copy()"
   ]
  },
  {
   "cell_type": "code",
   "execution_count": null,
   "id": "d03f2caf-8e74-430e-b045-0ab80401d165",
   "metadata": {
    "execution": {
     "iopub.execute_input": "2023-05-15T09:17:53.682453Z",
     "iopub.status.busy": "2023-05-15T09:17:53.682283Z",
     "iopub.status.idle": "2023-05-15T09:18:46.374810Z",
     "shell.execute_reply": "2023-05-15T09:18:46.374210Z"
    },
    "papermill": {
     "duration": 52.697021,
     "end_time": "2023-05-15T09:18:46.376142",
     "exception": false,
     "start_time": "2023-05-15T09:17:53.679121",
     "status": "completed"
    },
    "tags": []
   },
   "outputs": [],
   "source": [
    "%%R -i sce -o empty_drop_output\n",
    "set.seed(187)\n",
    "empty_drop_output <- emptyDrops(assay(sce))"
   ]
  },
  {
   "cell_type": "code",
   "execution_count": null,
   "id": "2a34a54b-3ae2-44d6-8679-8769228c5b66",
   "metadata": {
    "execution": {
     "iopub.execute_input": "2023-05-15T09:18:46.384877Z",
     "iopub.status.busy": "2023-05-15T09:18:46.384731Z",
     "iopub.status.idle": "2023-05-15T09:18:46.407567Z",
     "shell.execute_reply": "2023-05-15T09:18:46.407256Z"
    },
    "papermill": {
     "duration": 0.027479,
     "end_time": "2023-05-15T09:18:46.408457",
     "exception": false,
     "start_time": "2023-05-15T09:18:46.380978",
     "status": "completed"
    },
    "tags": []
   },
   "outputs": [],
   "source": [
    "non_empty_barcodes = empty_drop_output[empty_drop_output[\"FDR\"] < 0.001].index\n",
    "dataset = dataset[dataset.obs.index.isin(non_empty_barcodes), :]\n",
    "dataset"
   ]
  },
  {
   "cell_type": "code",
   "execution_count": null,
   "id": "016a91e5-1bef-46fb-b91e-4fb9a6870c44",
   "metadata": {
    "execution": {
     "iopub.execute_input": "2023-05-15T09:18:46.414437Z",
     "iopub.status.busy": "2023-05-15T09:18:46.414276Z",
     "iopub.status.idle": "2023-05-15T09:18:48.814243Z",
     "shell.execute_reply": "2023-05-15T09:18:48.813756Z"
    },
    "papermill": {
     "duration": 2.404468,
     "end_time": "2023-05-15T09:18:48.815606",
     "exception": false,
     "start_time": "2023-05-15T09:18:46.411138",
     "status": "completed"
    },
    "tags": []
   },
   "outputs": [],
   "source": [
    "rna_assay = dataset.copy()\n",
    "sc.pp.normalize_per_cell(rna_assay)\n",
    "sc.pp.log1p(rna_assay)\n",
    "sc.pp.pca(rna_assay)\n",
    "sc.pp.neighbors(rna_assay)\n",
    "sc.tl.leiden(rna_assay, key_added=\"soupx_groups\")\n",
    "\n",
    "soupx_groups = rna_assay.obs[\"soupx_groups\"]\n",
    "\n",
    "del rna_assay\n",
    "\n",
    "genes = dataset.var_names\n",
    "cells = dataset.obs_names\n",
    "data = dataset.X.T.copy()"
   ]
  },
  {
   "cell_type": "code",
   "execution_count": null,
   "id": "9db4ea1f-1580-4f43-a3f0-86002397cd98",
   "metadata": {
    "execution": {
     "iopub.execute_input": "2023-05-15T09:18:48.837526Z",
     "iopub.status.busy": "2023-05-15T09:18:48.837249Z",
     "iopub.status.idle": "2023-05-15T09:18:54.511176Z",
     "shell.execute_reply": "2023-05-15T09:18:54.510587Z"
    },
    "papermill": {
     "duration": 5.678559,
     "end_time": "2023-05-15T09:18:54.512481",
     "exception": false,
     "start_time": "2023-05-15T09:18:48.833922",
     "status": "completed"
    },
    "tags": []
   },
   "outputs": [],
   "source": [
    "%%R -i data -i data_tod -i genes -i cells -i soupx_groups -o out \n",
    "set.seed(187)\n",
    "# specify row and column names of data\n",
    "rownames(data) = genes\n",
    "colnames(data) = cells\n",
    "# ensure correct sparse format for table of counts and table of droplets\n",
    "data <- as(data, \"sparseMatrix\")\n",
    "data_tod <- as(data_tod, \"sparseMatrix\")\n",
    "\n",
    "# Generate SoupChannel Object for SoupX \n",
    "sc = SoupChannel(data_tod, data, calcSoupProfile = FALSE)\n",
    "\n",
    "# Add extra meta data to the SoupChannel object\n",
    "soupProf = data.frame(row.names = rownames(data),\n",
    "                      est = rowSums(data)/sum(data),\n",
    "                      counts = rowSums(data))\n",
    "sc = setSoupProfile(sc, soupProf)\n",
    "# Set cluster information in SoupChannel\n",
    "sc = setClusters(sc, soupx_groups)\n",
    "\n",
    "# Estimate contamination fraction\n",
    "sc  = autoEstCont(sc, doPlot=FALSE, forceAccept = TRUE)\n",
    "# Infer corrected table of counts and rount to integer\n",
    "out = adjustCounts(sc, roundToInt = TRUE)"
   ]
  },
  {
   "cell_type": "code",
   "execution_count": null,
   "id": "32555d5e-5fa3-46dd-a4e0-ddc96ea265e2",
   "metadata": {
    "execution": {
     "iopub.execute_input": "2023-05-15T09:18:54.523186Z",
     "iopub.status.busy": "2023-05-15T09:18:54.523035Z",
     "iopub.status.idle": "2023-05-15T09:18:54.535304Z",
     "shell.execute_reply": "2023-05-15T09:18:54.534893Z"
    },
    "papermill": {
     "duration": 0.017342,
     "end_time": "2023-05-15T09:18:54.536375",
     "exception": false,
     "start_time": "2023-05-15T09:18:54.519033",
     "status": "completed"
    },
    "tags": []
   },
   "outputs": [],
   "source": [
    "dataset.layers[\"soupX_counts\"] = out.T\n",
    "dataset.X = dataset.layers[\"soupX_counts\"].copy()"
   ]
  },
  {
   "cell_type": "code",
   "execution_count": null,
   "id": "e27da7df-e094-4d2a-9109-5a363e012175",
   "metadata": {
    "execution": {
     "iopub.execute_input": "2023-05-15T09:18:54.543114Z",
     "iopub.status.busy": "2023-05-15T09:18:54.542957Z",
     "iopub.status.idle": "2023-05-15T09:18:54.545250Z",
     "shell.execute_reply": "2023-05-15T09:18:54.544938Z"
    },
    "papermill": {
     "duration": 0.006529,
     "end_time": "2023-05-15T09:18:54.546017",
     "exception": false,
     "start_time": "2023-05-15T09:18:54.539488",
     "status": "completed"
    },
    "tags": []
   },
   "outputs": [],
   "source": [
    "data_mat = dataset.X.T"
   ]
  },
  {
   "cell_type": "code",
   "execution_count": null,
   "id": "80a993b1-5ccb-4697-9187-1beb7ab8aff9",
   "metadata": {
    "execution": {
     "iopub.execute_input": "2023-05-15T09:18:54.552397Z",
     "iopub.status.busy": "2023-05-15T09:18:54.552021Z",
     "iopub.status.idle": "2023-05-15T09:19:07.069413Z",
     "shell.execute_reply": "2023-05-15T09:19:07.068830Z"
    },
    "papermill": {
     "duration": 12.522046,
     "end_time": "2023-05-15T09:19:07.070828",
     "exception": false,
     "start_time": "2023-05-15T09:18:54.548782",
     "status": "completed"
    },
    "tags": []
   },
   "outputs": [],
   "source": [
    "%%R -i data_mat -o droplet_class\n",
    "\n",
    "set.seed(187)\n",
    "sce = scDblFinder(\n",
    "    SingleCellExperiment(\n",
    "        list(counts=data_mat),\n",
    "    ) \n",
    ")\n",
    "droplet_class = sce$scDblFinder.class"
   ]
  },
  {
   "cell_type": "code",
   "execution_count": null,
   "id": "d4dd6e9d-fcf2-41fc-8457-c8e0a3cb2c71",
   "metadata": {
    "execution": {
     "iopub.execute_input": "2023-05-15T09:19:07.079532Z",
     "iopub.status.busy": "2023-05-15T09:19:07.079348Z",
     "iopub.status.idle": "2023-05-15T09:19:07.084638Z",
     "shell.execute_reply": "2023-05-15T09:19:07.084320Z"
    },
    "papermill": {
     "duration": 0.009607,
     "end_time": "2023-05-15T09:19:07.085427",
     "exception": false,
     "start_time": "2023-05-15T09:19:07.075820",
     "status": "completed"
    },
    "tags": []
   },
   "outputs": [],
   "source": [
    "dataset.obs[\"scDblFinder_class\"] = droplet_class\n",
    "dataset.obs.scDblFinder_class.value_counts()\n",
    "dataset"
   ]
  },
  {
   "cell_type": "code",
   "execution_count": null,
   "id": "28c95014-2d6c-477f-95cb-9f9f0507520c",
   "metadata": {
    "execution": {
     "iopub.execute_input": "2023-05-15T09:19:07.091811Z",
     "iopub.status.busy": "2023-05-15T09:19:07.091649Z",
     "iopub.status.idle": "2023-05-15T09:19:07.103710Z",
     "shell.execute_reply": "2023-05-15T09:19:07.103396Z"
    },
    "papermill": {
     "duration": 0.016337,
     "end_time": "2023-05-15T09:19:07.104632",
     "exception": false,
     "start_time": "2023-05-15T09:19:07.088295",
     "status": "completed"
    },
    "tags": []
   },
   "outputs": [],
   "source": [
    "dataset = dataset[dataset.obs[\"scDblFinder_class\"] == 1]"
   ]
  },
  {
   "cell_type": "code",
   "execution_count": null,
   "id": "3e22f9e0-bfcb-416c-a151-a9bca3bec3b9",
   "metadata": {
    "execution": {
     "iopub.execute_input": "2023-05-15T09:19:07.111417Z",
     "iopub.status.busy": "2023-05-15T09:19:07.111229Z",
     "iopub.status.idle": "2023-05-15T09:19:07.178190Z",
     "shell.execute_reply": "2023-05-15T09:19:07.177745Z"
    },
    "papermill": {
     "duration": 0.071216,
     "end_time": "2023-05-15T09:19:07.179049",
     "exception": false,
     "start_time": "2023-05-15T09:19:07.107833",
     "status": "completed"
    },
    "tags": []
   },
   "outputs": [],
   "source": [
    "# mitochondrial genes\n",
    "dataset.var[\"mt\"] = dataset.var_names.str.startswith(\"MT-\")\n",
    "# ribosomal genes\n",
    "dataset.var[\"ribo\"] = dataset.var_names.str.startswith((\"RPS\", \"RPL\"))\n",
    "# hemoglobin genes.\n",
    "dataset.var[\"hb\"] = dataset.var_names.str.contains((\"^HB[^(P)]\"))\n",
    "\n",
    "sc.pp.calculate_qc_metrics(dataset,\n",
    "                           qc_vars=['mt', 'ribo', 'hb'],\n",
    "                           percent_top=None,\n",
    "                           log1p=False,\n",
    "                           inplace=True)\n",
    "dataset"
   ]
  },
  {
   "cell_type": "code",
   "execution_count": null,
   "id": "34deee79-4043-428f-8575-aa57b45f6369",
   "metadata": {
    "execution": {
     "iopub.execute_input": "2023-05-15T09:19:07.186173Z",
     "iopub.status.busy": "2023-05-15T09:19:07.186000Z",
     "iopub.status.idle": "2023-05-15T09:19:07.612158Z",
     "shell.execute_reply": "2023-05-15T09:19:07.611737Z"
    },
    "papermill": {
     "duration": 0.430588,
     "end_time": "2023-05-15T09:19:07.613015",
     "exception": false,
     "start_time": "2023-05-15T09:19:07.182427",
     "status": "completed"
    },
    "tags": []
   },
   "outputs": [],
   "source": [
    "fig, ax = plt.subplots(ncols = 4, figsize = (16,4))\n",
    "axis = sc.pl.violin(dataset, \"n_genes_by_counts\", jitter = 0.4, ax = ax[0], show = False)\n",
    "axis.grid(False)\n",
    "axis.set_title(\"Unique Genes per cell\")\n",
    "axis.tick_params(axis = \"x\", bottom =False, labelbottom =False)\n",
    "axis.set_ylabel(\"# genes\")\n",
    "axis.axhline(y = 100, color = \"black\", label = \"cutoff\")\n",
    "axis.legend(fontsize = 14, loc = \"upper right\")\n",
    "\n",
    "axis = sc.pl.violin(dataset, \"pct_counts_mt\", jitter = 0.4, ax = ax[1], show = False)\n",
    "axis.grid(False)\n",
    "axis.set_title(\"Mitochondrial Fraction\")\n",
    "axis.tick_params(axis = \"x\", bottom =False, labelbottom =False)\n",
    "axis.set_ylabel(\"% mitochondrial genes\")\n",
    "axis.axhline(y = 10, color = \"black\", label = \"cutoff\")\n",
    "axis.legend(fontsize = 14, loc = \"upper right\")\n",
    "\n",
    "axis = sc.pl.violin(dataset, \"pct_counts_hb\", jitter = 0.4, ax = ax[2], show = False, size =2)\n",
    "axis.grid(False)\n",
    "axis.set_title(\"Hemoglobin Fraction\")\n",
    "axis.tick_params(axis = \"x\", bottom =False, labelbottom =False)\n",
    "axis.set_ylabel(\"% hemoglobin genes\")\n",
    "axis.axhline(y = 3, color = \"black\", label = \"cutoff\")\n",
    "axis.legend(fontsize = 14, loc = \"upper right\")\n",
    "#axis.set_ylim(0,5)\n",
    "\n",
    "axis = sc.pl.violin(dataset, \"pct_counts_ribo\", jitter = 0.4, ax = ax[3], show = False)\n",
    "axis.grid(False)\n",
    "axis.set_title(\"Ribosomal Fraction\")\n",
    "axis.tick_params(axis = \"x\", bottom =False, labelbottom =False)\n",
    "axis.set_ylabel(\"% ribosome genes\")\n",
    "\n",
    "plt.tight_layout()\n",
    "#plt.savefig(f\"{outputDir}08_gene_based_filtering.pdf\", dpi = 300)\n",
    "plt.show()\n",
    "\n"
   ]
  },
  {
   "cell_type": "code",
   "execution_count": null,
   "id": "d7ade754-843e-4840-8707-426613d8c0c5",
   "metadata": {
    "execution": {
     "iopub.execute_input": "2023-05-15T09:19:07.621803Z",
     "iopub.status.busy": "2023-05-15T09:19:07.621633Z",
     "iopub.status.idle": "2023-05-15T09:19:07.630762Z",
     "shell.execute_reply": "2023-05-15T09:19:07.630434Z"
    },
    "papermill": {
     "duration": 0.014316,
     "end_time": "2023-05-15T09:19:07.631564",
     "exception": false,
     "start_time": "2023-05-15T09:19:07.617248",
     "status": "completed"
    },
    "tags": []
   },
   "outputs": [],
   "source": [
    "dataset = dataset[dataset.obs.pct_counts_mt < 10, :]\n",
    "dataset = dataset[dataset.obs.n_genes_by_counts > 100, :]\n",
    "dataset = dataset[dataset.obs.pct_counts_hb < 3, :]\n",
    "dataset"
   ]
  },
  {
   "cell_type": "code",
   "execution_count": null,
   "id": "1941fa36-e865-4500-b586-f7a32d142c9b",
   "metadata": {
    "execution": {
     "iopub.execute_input": "2023-05-15T09:19:07.640147Z",
     "iopub.status.busy": "2023-05-15T09:19:07.640015Z",
     "iopub.status.idle": "2023-05-15T09:19:07.642852Z",
     "shell.execute_reply": "2023-05-15T09:19:07.642550Z"
    },
    "papermill": {
     "duration": 0.008008,
     "end_time": "2023-05-15T09:19:07.643613",
     "exception": false,
     "start_time": "2023-05-15T09:19:07.635605",
     "status": "completed"
    },
    "tags": []
   },
   "outputs": [],
   "source": [
    "metadata.columns"
   ]
  },
  {
   "cell_type": "code",
   "execution_count": null,
   "id": "2e0ff8c3-2aa9-4a01-9b88-5912a6734447",
   "metadata": {
    "execution": {
     "iopub.execute_input": "2023-05-15T09:19:07.652240Z",
     "iopub.status.busy": "2023-05-15T09:19:07.652075Z",
     "iopub.status.idle": "2023-05-15T09:19:07.674412Z",
     "shell.execute_reply": "2023-05-15T09:19:07.674017Z"
    },
    "papermill": {
     "duration": 0.027887,
     "end_time": "2023-05-15T09:19:07.675548",
     "exception": false,
     "start_time": "2023-05-15T09:19:07.647661",
     "status": "completed"
    },
    "tags": []
   },
   "outputs": [],
   "source": [
    "for col in metadata.columns:\n",
    "    dataset.obs[col] = metadata.loc[metadata[\"Run\"] == sample_name, col].to_list()[0]"
   ]
  },
  {
   "cell_type": "code",
   "execution_count": null,
   "id": "b84578d3-d63e-419c-a272-a0b8317d05ab",
   "metadata": {
    "execution": {
     "iopub.execute_input": "2023-05-15T09:19:07.684888Z",
     "iopub.status.busy": "2023-05-15T09:19:07.684700Z",
     "iopub.status.idle": "2023-05-15T09:19:08.198225Z",
     "shell.execute_reply": "2023-05-15T09:19:08.197792Z"
    },
    "papermill": {
     "duration": 0.519543,
     "end_time": "2023-05-15T09:19:08.199474",
     "exception": false,
     "start_time": "2023-05-15T09:19:07.679931",
     "status": "completed"
    },
    "tags": []
   },
   "outputs": [],
   "source": [
    "dataset.write(f\"../../int_data/{sample_name}_qc.h5ad\")"
   ]
  },
  {
   "cell_type": "code",
   "execution_count": null,
   "id": "501b33a0-432d-415f-ae82-50723484b85d",
   "metadata": {
    "execution": {
     "iopub.execute_input": "2023-05-15T09:19:08.208800Z",
     "iopub.status.busy": "2023-05-15T09:19:08.208632Z",
     "iopub.status.idle": "2023-05-15T09:19:08.211526Z",
     "shell.execute_reply": "2023-05-15T09:19:08.211231Z"
    },
    "papermill": {
     "duration": 0.008265,
     "end_time": "2023-05-15T09:19:08.212333",
     "exception": false,
     "start_time": "2023-05-15T09:19:08.204068",
     "status": "completed"
    },
    "tags": []
   },
   "outputs": [],
   "source": [
    "dataset"
   ]
  }
 ],
 "metadata": {
  "kernelspec": {
   "display_name": "py_R",
   "language": "python",
   "name": "python_r"
  },
  "language_info": {
   "codemirror_mode": {
    "name": "ipython",
    "version": 3
   },
   "file_extension": ".py",
   "mimetype": "text/x-python",
   "name": "python",
   "nbconvert_exporter": "python",
   "pygments_lexer": "ipython3",
   "version": "3.10.9"
  },
  "papermill": {
   "default_parameters": {},
   "duration": 93.441753,
   "end_time": "2023-05-15T09:19:09.633820",
   "environment_variables": {},
   "exception": null,
   "input_path": "template.ipynb",
   "output_path": "SRR13329133.ipynb",
   "parameters": {
    "sample_name": "SRR13329133"
   },
   "start_time": "2023-05-15T09:17:36.192067",
   "version": "2.4.0"
  }
 },
 "nbformat": 4,
 "nbformat_minor": 5
}
