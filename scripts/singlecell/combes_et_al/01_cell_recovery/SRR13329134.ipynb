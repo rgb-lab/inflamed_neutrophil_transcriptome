{
 "cells": [
  {
   "cell_type": "code",
   "execution_count": null,
   "id": "4c0f2fa8-5232-4f47-a7ec-6c9bbabe50e2",
   "metadata": {
    "execution": {
     "iopub.execute_input": "2023-05-15T07:41:27.096407Z",
     "iopub.status.busy": "2023-05-15T07:41:27.096243Z",
     "iopub.status.idle": "2023-05-15T07:41:27.100716Z",
     "shell.execute_reply": "2023-05-15T07:41:27.100333Z"
    },
    "papermill": {
     "duration": 0.009348,
     "end_time": "2023-05-15T07:41:27.101618",
     "exception": false,
     "start_time": "2023-05-15T07:41:27.092270",
     "status": "completed"
    },
    "tags": [
     "parameters"
    ]
   },
   "outputs": [],
   "source": [
    "sample_name = \"SRR13329143\""
   ]
  },
  {
   "cell_type": "code",
   "execution_count": null,
   "id": "26edb864",
   "metadata": {
    "execution": {
     "iopub.execute_input": "2023-05-15T07:41:27.106873Z",
     "iopub.status.busy": "2023-05-15T07:41:27.106725Z",
     "iopub.status.idle": "2023-05-15T07:41:27.108719Z",
     "shell.execute_reply": "2023-05-15T07:41:27.108425Z"
    },
    "papermill": {
     "duration": 0.005451,
     "end_time": "2023-05-15T07:41:27.109516",
     "exception": false,
     "start_time": "2023-05-15T07:41:27.104065",
     "status": "completed"
    },
    "tags": [
     "injected-parameters"
    ]
   },
   "outputs": [],
   "source": [
    "# Parameters\n",
    "sample_name = \"SRR13329134\"\n"
   ]
  },
  {
   "cell_type": "code",
   "execution_count": null,
   "id": "f87ed95b-2b67-4a5a-8fe2-47359b1dd2a9",
   "metadata": {
    "execution": {
     "iopub.execute_input": "2023-05-15T07:41:27.114894Z",
     "iopub.status.busy": "2023-05-15T07:41:27.114619Z",
     "iopub.status.idle": "2023-05-15T07:41:27.116835Z",
     "shell.execute_reply": "2023-05-15T07:41:27.116532Z"
    },
    "papermill": {
     "duration": 0.005822,
     "end_time": "2023-05-15T07:41:27.117633",
     "exception": false,
     "start_time": "2023-05-15T07:41:27.111811",
     "status": "completed"
    },
    "tags": []
   },
   "outputs": [],
   "source": [
    "import warnings\n",
    "warnings.simplefilter(action='ignore', category=FutureWarning)\n",
    "warnings.simplefilter(action='ignore', category=UserWarning)"
   ]
  },
  {
   "cell_type": "code",
   "execution_count": null,
   "id": "85161f19-b2c5-490b-8cab-c2cf9653b304",
   "metadata": {
    "execution": {
     "iopub.execute_input": "2023-05-15T07:41:27.122971Z",
     "iopub.status.busy": "2023-05-15T07:41:27.122768Z",
     "iopub.status.idle": "2023-05-15T07:41:31.092644Z",
     "shell.execute_reply": "2023-05-15T07:41:31.092178Z"
    },
    "papermill": {
     "duration": 3.97397,
     "end_time": "2023-05-15T07:41:31.093915",
     "exception": false,
     "start_time": "2023-05-15T07:41:27.119945",
     "status": "completed"
    },
    "tags": []
   },
   "outputs": [],
   "source": [
    "import gc\n",
    "import scanpy as sc\n",
    "import muon as mu\n",
    "import seaborn as sns\n",
    "import os\n",
    "import pandas as pd\n",
    "from matplotlib import pyplot as plt\n",
    "\n",
    "os.environ['R_HOME'] = '/gpfs/bwfor/work/ws/hd_fu399-conda/conda/envs/python_R/lib/R/'\n",
    "import anndata2ri\n",
    "import logging\n",
    "\n",
    "import rpy2.rinterface_lib.callbacks as rcb\n",
    "import rpy2.robjects as ro\n",
    "\n",
    "rcb.logger.setLevel(logging.ERROR)\n",
    "ro.pandas2ri.activate()\n",
    "anndata2ri.activate()\n",
    "\n",
    "%load_ext rpy2.ipython"
   ]
  },
  {
   "cell_type": "code",
   "execution_count": null,
   "id": "fc4ade78-b728-4704-9db6-45fbaab62ba1",
   "metadata": {
    "execution": {
     "iopub.execute_input": "2023-05-15T07:41:31.101478Z",
     "iopub.status.busy": "2023-05-15T07:41:31.101205Z",
     "iopub.status.idle": "2023-05-15T07:41:40.805123Z",
     "shell.execute_reply": "2023-05-15T07:41:40.804619Z"
    },
    "papermill": {
     "duration": 9.708166,
     "end_time": "2023-05-15T07:41:40.806491",
     "exception": false,
     "start_time": "2023-05-15T07:41:31.098325",
     "status": "completed"
    },
    "tags": []
   },
   "outputs": [],
   "source": [
    "%%R\n",
    "library(SoupX)\n",
    "library(Seurat)\n",
    "library(scater)\n",
    "library(scDblFinder)\n",
    "library(BiocParallel)\n",
    "library(MuDataSeurat)\n",
    "library(DropletUtils)"
   ]
  },
  {
   "cell_type": "code",
   "execution_count": null,
   "id": "f7424d90-7690-4290-8651-1db3f9df3a35",
   "metadata": {
    "execution": {
     "iopub.execute_input": "2023-05-15T07:41:40.814639Z",
     "iopub.status.busy": "2023-05-15T07:41:40.814457Z",
     "iopub.status.idle": "2023-05-15T07:41:40.820290Z",
     "shell.execute_reply": "2023-05-15T07:41:40.819958Z"
    },
    "papermill": {
     "duration": 0.009823,
     "end_time": "2023-05-15T07:41:40.821174",
     "exception": false,
     "start_time": "2023-05-15T07:41:40.811351",
     "status": "completed"
    },
    "tags": []
   },
   "outputs": [],
   "source": [
    "metadata = pd.read_csv(\"../../combes_metadata.txt\")"
   ]
  },
  {
   "cell_type": "code",
   "execution_count": null,
   "id": "2574ecf1-bad4-4c33-8f3f-718a358727ab",
   "metadata": {
    "execution": {
     "iopub.execute_input": "2023-05-15T07:41:40.826720Z",
     "iopub.status.busy": "2023-05-15T07:41:40.826557Z",
     "iopub.status.idle": "2023-05-15T07:41:40.828760Z",
     "shell.execute_reply": "2023-05-15T07:41:40.828454Z"
    },
    "papermill": {
     "duration": 0.006007,
     "end_time": "2023-05-15T07:41:40.829555",
     "exception": false,
     "start_time": "2023-05-15T07:41:40.823548",
     "status": "completed"
    },
    "tags": []
   },
   "outputs": [],
   "source": [
    "raw_input = f\"/home/hd/hd_hd/hd_fu399/sds-hd/sd21k006/scRNAseq/revision_natcomm/combes_et_al/fetchngs/results/fastq/{sample_name}/{sample_name}/outs/raw_feature_bc_matrix.h5\""
   ]
  },
  {
   "cell_type": "code",
   "execution_count": null,
   "id": "e266d388-1802-435c-93a5-90067358739c",
   "metadata": {
    "execution": {
     "iopub.execute_input": "2023-05-15T07:41:40.835053Z",
     "iopub.status.busy": "2023-05-15T07:41:40.834923Z",
     "iopub.status.idle": "2023-05-15T07:41:41.233228Z",
     "shell.execute_reply": "2023-05-15T07:41:41.232794Z"
    },
    "papermill": {
     "duration": 0.402326,
     "end_time": "2023-05-15T07:41:41.234321",
     "exception": false,
     "start_time": "2023-05-15T07:41:40.831995",
     "status": "completed"
    },
    "tags": []
   },
   "outputs": [],
   "source": [
    "dataset = sc.read_10x_h5(raw_input)\n",
    "dataset.var_names_make_unique()\n",
    "dataset.obs_names_make_unique()\n",
    "\n",
    "dataset.layers[\"raw_counts\"] = dataset.X.copy()\n",
    "data_tod = dataset.layers[\"raw_counts\"].T.copy()\n",
    "\n",
    "dataset"
   ]
  },
  {
   "cell_type": "code",
   "execution_count": null,
   "id": "af9f5892-ed31-42a6-991b-4e096f582cef",
   "metadata": {
    "execution": {
     "iopub.execute_input": "2023-05-15T07:41:41.240602Z",
     "iopub.status.busy": "2023-05-15T07:41:41.240411Z",
     "iopub.status.idle": "2023-05-15T07:41:41.272972Z",
     "shell.execute_reply": "2023-05-15T07:41:41.272500Z"
    },
    "papermill": {
     "duration": 0.037015,
     "end_time": "2023-05-15T07:41:41.274345",
     "exception": false,
     "start_time": "2023-05-15T07:41:41.237330",
     "status": "completed"
    },
    "tags": []
   },
   "outputs": [],
   "source": [
    "sce = dataset.copy()"
   ]
  },
  {
   "cell_type": "code",
   "execution_count": null,
   "id": "d03f2caf-8e74-430e-b045-0ab80401d165",
   "metadata": {
    "execution": {
     "iopub.execute_input": "2023-05-15T07:41:41.280608Z",
     "iopub.status.busy": "2023-05-15T07:41:41.280436Z",
     "iopub.status.idle": "2023-05-15T07:42:31.890027Z",
     "shell.execute_reply": "2023-05-15T07:42:31.889395Z"
    },
    "papermill": {
     "duration": 50.61417,
     "end_time": "2023-05-15T07:42:31.891465",
     "exception": false,
     "start_time": "2023-05-15T07:41:41.277295",
     "status": "completed"
    },
    "tags": []
   },
   "outputs": [],
   "source": [
    "%%R -i sce -o empty_drop_output\n",
    "set.seed(187)\n",
    "empty_drop_output <- emptyDrops(assay(sce))"
   ]
  },
  {
   "cell_type": "code",
   "execution_count": null,
   "id": "2a34a54b-3ae2-44d6-8679-8769228c5b66",
   "metadata": {
    "execution": {
     "iopub.execute_input": "2023-05-15T07:42:31.900645Z",
     "iopub.status.busy": "2023-05-15T07:42:31.900490Z",
     "iopub.status.idle": "2023-05-15T07:42:31.929789Z",
     "shell.execute_reply": "2023-05-15T07:42:31.929438Z"
    },
    "papermill": {
     "duration": 0.033864,
     "end_time": "2023-05-15T07:42:31.930651",
     "exception": false,
     "start_time": "2023-05-15T07:42:31.896787",
     "status": "completed"
    },
    "tags": []
   },
   "outputs": [],
   "source": [
    "non_empty_barcodes = empty_drop_output[empty_drop_output[\"FDR\"] < 0.001].index\n",
    "dataset = dataset[dataset.obs.index.isin(non_empty_barcodes), :]\n",
    "dataset"
   ]
  },
  {
   "cell_type": "code",
   "execution_count": null,
   "id": "016a91e5-1bef-46fb-b91e-4fb9a6870c44",
   "metadata": {
    "execution": {
     "iopub.execute_input": "2023-05-15T07:42:31.936614Z",
     "iopub.status.busy": "2023-05-15T07:42:31.936413Z",
     "iopub.status.idle": "2023-05-15T07:42:35.731326Z",
     "shell.execute_reply": "2023-05-15T07:42:35.730855Z"
    },
    "papermill": {
     "duration": 3.799344,
     "end_time": "2023-05-15T07:42:35.732614",
     "exception": false,
     "start_time": "2023-05-15T07:42:31.933270",
     "status": "completed"
    },
    "tags": []
   },
   "outputs": [],
   "source": [
    "rna_assay = dataset.copy()\n",
    "sc.pp.normalize_per_cell(rna_assay)\n",
    "sc.pp.log1p(rna_assay)\n",
    "sc.pp.pca(rna_assay)\n",
    "sc.pp.neighbors(rna_assay)\n",
    "sc.tl.leiden(rna_assay, key_added=\"soupx_groups\")\n",
    "\n",
    "soupx_groups = rna_assay.obs[\"soupx_groups\"]\n",
    "\n",
    "del rna_assay\n",
    "\n",
    "genes = dataset.var_names\n",
    "cells = dataset.obs_names\n",
    "data = dataset.X.T.copy()"
   ]
  },
  {
   "cell_type": "code",
   "execution_count": null,
   "id": "9db4ea1f-1580-4f43-a3f0-86002397cd98",
   "metadata": {
    "execution": {
     "iopub.execute_input": "2023-05-15T07:42:35.739450Z",
     "iopub.status.busy": "2023-05-15T07:42:35.739240Z",
     "iopub.status.idle": "2023-05-15T07:42:46.128400Z",
     "shell.execute_reply": "2023-05-15T07:42:46.127945Z"
    },
    "papermill": {
     "duration": 10.394135,
     "end_time": "2023-05-15T07:42:46.129991",
     "exception": false,
     "start_time": "2023-05-15T07:42:35.735856",
     "status": "completed"
    },
    "tags": []
   },
   "outputs": [],
   "source": [
    "%%R -i data -i data_tod -i genes -i cells -i soupx_groups -o out \n",
    "set.seed(187)\n",
    "# specify row and column names of data\n",
    "rownames(data) = genes\n",
    "colnames(data) = cells\n",
    "# ensure correct sparse format for table of counts and table of droplets\n",
    "data <- as(data, \"sparseMatrix\")\n",
    "data_tod <- as(data_tod, \"sparseMatrix\")\n",
    "\n",
    "# Generate SoupChannel Object for SoupX \n",
    "sc = SoupChannel(data_tod, data, calcSoupProfile = FALSE)\n",
    "\n",
    "# Add extra meta data to the SoupChannel object\n",
    "soupProf = data.frame(row.names = rownames(data),\n",
    "                      est = rowSums(data)/sum(data),\n",
    "                      counts = rowSums(data))\n",
    "sc = setSoupProfile(sc, soupProf)\n",
    "# Set cluster information in SoupChannel\n",
    "sc = setClusters(sc, soupx_groups)\n",
    "\n",
    "# Estimate contamination fraction\n",
    "sc  = autoEstCont(sc, doPlot=FALSE, forceAccept = TRUE)\n",
    "# Infer corrected table of counts and rount to integer\n",
    "out = adjustCounts(sc, roundToInt = TRUE)"
   ]
  },
  {
   "cell_type": "code",
   "execution_count": null,
   "id": "32555d5e-5fa3-46dd-a4e0-ddc96ea265e2",
   "metadata": {
    "execution": {
     "iopub.execute_input": "2023-05-15T07:42:46.138322Z",
     "iopub.status.busy": "2023-05-15T07:42:46.138100Z",
     "iopub.status.idle": "2023-05-15T07:42:46.159987Z",
     "shell.execute_reply": "2023-05-15T07:42:46.159568Z"
    },
    "papermill": {
     "duration": 0.026662,
     "end_time": "2023-05-15T07:42:46.161284",
     "exception": false,
     "start_time": "2023-05-15T07:42:46.134622",
     "status": "completed"
    },
    "tags": []
   },
   "outputs": [],
   "source": [
    "dataset.layers[\"soupX_counts\"] = out.T\n",
    "dataset.X = dataset.layers[\"soupX_counts\"].copy()"
   ]
  },
  {
   "cell_type": "code",
   "execution_count": null,
   "id": "e27da7df-e094-4d2a-9109-5a363e012175",
   "metadata": {
    "execution": {
     "iopub.execute_input": "2023-05-15T07:42:46.167715Z",
     "iopub.status.busy": "2023-05-15T07:42:46.167549Z",
     "iopub.status.idle": "2023-05-15T07:42:46.169850Z",
     "shell.execute_reply": "2023-05-15T07:42:46.169525Z"
    },
    "papermill": {
     "duration": 0.006466,
     "end_time": "2023-05-15T07:42:46.170658",
     "exception": false,
     "start_time": "2023-05-15T07:42:46.164192",
     "status": "completed"
    },
    "tags": []
   },
   "outputs": [],
   "source": [
    "data_mat = dataset.X.T"
   ]
  },
  {
   "cell_type": "code",
   "execution_count": null,
   "id": "80a993b1-5ccb-4697-9187-1beb7ab8aff9",
   "metadata": {
    "execution": {
     "iopub.execute_input": "2023-05-15T07:42:46.177041Z",
     "iopub.status.busy": "2023-05-15T07:42:46.176699Z",
     "iopub.status.idle": "2023-05-15T07:43:02.982357Z",
     "shell.execute_reply": "2023-05-15T07:43:02.981880Z"
    },
    "papermill": {
     "duration": 16.810806,
     "end_time": "2023-05-15T07:43:02.984203",
     "exception": false,
     "start_time": "2023-05-15T07:42:46.173397",
     "status": "completed"
    },
    "tags": []
   },
   "outputs": [],
   "source": [
    "%%R -i data_mat -o droplet_class\n",
    "\n",
    "set.seed(187)\n",
    "sce = scDblFinder(\n",
    "    SingleCellExperiment(\n",
    "        list(counts=data_mat),\n",
    "    ) \n",
    ")\n",
    "droplet_class = sce$scDblFinder.class"
   ]
  },
  {
   "cell_type": "code",
   "execution_count": null,
   "id": "d4dd6e9d-fcf2-41fc-8457-c8e0a3cb2c71",
   "metadata": {
    "execution": {
     "iopub.execute_input": "2023-05-15T07:43:02.993515Z",
     "iopub.status.busy": "2023-05-15T07:43:02.993286Z",
     "iopub.status.idle": "2023-05-15T07:43:02.998108Z",
     "shell.execute_reply": "2023-05-15T07:43:02.997790Z"
    },
    "papermill": {
     "duration": 0.009713,
     "end_time": "2023-05-15T07:43:02.999063",
     "exception": false,
     "start_time": "2023-05-15T07:43:02.989350",
     "status": "completed"
    },
    "tags": []
   },
   "outputs": [],
   "source": [
    "dataset.obs[\"scDblFinder_class\"] = droplet_class\n",
    "dataset.obs.scDblFinder_class.value_counts()\n",
    "dataset"
   ]
  },
  {
   "cell_type": "code",
   "execution_count": null,
   "id": "28c95014-2d6c-477f-95cb-9f9f0507520c",
   "metadata": {
    "execution": {
     "iopub.execute_input": "2023-05-15T07:43:03.005578Z",
     "iopub.status.busy": "2023-05-15T07:43:03.005380Z",
     "iopub.status.idle": "2023-05-15T07:43:03.009936Z",
     "shell.execute_reply": "2023-05-15T07:43:03.009618Z"
    },
    "papermill": {
     "duration": 0.008933,
     "end_time": "2023-05-15T07:43:03.010854",
     "exception": false,
     "start_time": "2023-05-15T07:43:03.001921",
     "status": "completed"
    },
    "tags": []
   },
   "outputs": [],
   "source": [
    "dataset = dataset[dataset.obs[\"scDblFinder_class\"] == 1]"
   ]
  },
  {
   "cell_type": "code",
   "execution_count": null,
   "id": "3e22f9e0-bfcb-416c-a151-a9bca3bec3b9",
   "metadata": {
    "execution": {
     "iopub.execute_input": "2023-05-15T07:43:03.022009Z",
     "iopub.status.busy": "2023-05-15T07:43:03.021742Z",
     "iopub.status.idle": "2023-05-15T07:43:03.133086Z",
     "shell.execute_reply": "2023-05-15T07:43:03.132654Z"
    },
    "papermill": {
     "duration": 0.117818,
     "end_time": "2023-05-15T07:43:03.134461",
     "exception": false,
     "start_time": "2023-05-15T07:43:03.016643",
     "status": "completed"
    },
    "tags": []
   },
   "outputs": [],
   "source": [
    "# mitochondrial genes\n",
    "dataset.var[\"mt\"] = dataset.var_names.str.startswith(\"MT-\")\n",
    "# ribosomal genes\n",
    "dataset.var[\"ribo\"] = dataset.var_names.str.startswith((\"RPS\", \"RPL\"))\n",
    "# hemoglobin genes.\n",
    "dataset.var[\"hb\"] = dataset.var_names.str.contains((\"^HB[^(P)]\"))\n",
    "\n",
    "sc.pp.calculate_qc_metrics(dataset,\n",
    "                           qc_vars=['mt', 'ribo', 'hb'],\n",
    "                           percent_top=None,\n",
    "                           log1p=False,\n",
    "                           inplace=True)\n",
    "dataset"
   ]
  },
  {
   "cell_type": "code",
   "execution_count": null,
   "id": "34deee79-4043-428f-8575-aa57b45f6369",
   "metadata": {
    "execution": {
     "iopub.execute_input": "2023-05-15T07:43:03.141511Z",
     "iopub.status.busy": "2023-05-15T07:43:03.141293Z",
     "iopub.status.idle": "2023-05-15T07:43:03.603111Z",
     "shell.execute_reply": "2023-05-15T07:43:03.602705Z"
    },
    "papermill": {
     "duration": 0.466659,
     "end_time": "2023-05-15T07:43:03.604332",
     "exception": false,
     "start_time": "2023-05-15T07:43:03.137673",
     "status": "completed"
    },
    "tags": []
   },
   "outputs": [],
   "source": [
    "fig, ax = plt.subplots(ncols = 4, figsize = (16,4))\n",
    "axis = sc.pl.violin(dataset, \"n_genes_by_counts\", jitter = 0.4, ax = ax[0], show = False)\n",
    "axis.grid(False)\n",
    "axis.set_title(\"Unique Genes per cell\")\n",
    "axis.tick_params(axis = \"x\", bottom =False, labelbottom =False)\n",
    "axis.set_ylabel(\"# genes\")\n",
    "axis.axhline(y = 100, color = \"black\", label = \"cutoff\")\n",
    "axis.legend(fontsize = 14, loc = \"upper right\")\n",
    "\n",
    "axis = sc.pl.violin(dataset, \"pct_counts_mt\", jitter = 0.4, ax = ax[1], show = False)\n",
    "axis.grid(False)\n",
    "axis.set_title(\"Mitochondrial Fraction\")\n",
    "axis.tick_params(axis = \"x\", bottom =False, labelbottom =False)\n",
    "axis.set_ylabel(\"% mitochondrial genes\")\n",
    "axis.axhline(y = 10, color = \"black\", label = \"cutoff\")\n",
    "axis.legend(fontsize = 14, loc = \"upper right\")\n",
    "\n",
    "axis = sc.pl.violin(dataset, \"pct_counts_hb\", jitter = 0.4, ax = ax[2], show = False, size =2)\n",
    "axis.grid(False)\n",
    "axis.set_title(\"Hemoglobin Fraction\")\n",
    "axis.tick_params(axis = \"x\", bottom =False, labelbottom =False)\n",
    "axis.set_ylabel(\"% hemoglobin genes\")\n",
    "axis.axhline(y = 3, color = \"black\", label = \"cutoff\")\n",
    "axis.legend(fontsize = 14, loc = \"upper right\")\n",
    "#axis.set_ylim(0,5)\n",
    "\n",
    "axis = sc.pl.violin(dataset, \"pct_counts_ribo\", jitter = 0.4, ax = ax[3], show = False)\n",
    "axis.grid(False)\n",
    "axis.set_title(\"Ribosomal Fraction\")\n",
    "axis.tick_params(axis = \"x\", bottom =False, labelbottom =False)\n",
    "axis.set_ylabel(\"% ribosome genes\")\n",
    "\n",
    "plt.tight_layout()\n",
    "#plt.savefig(f\"{outputDir}08_gene_based_filtering.pdf\", dpi = 300)\n",
    "plt.show()\n",
    "\n"
   ]
  },
  {
   "cell_type": "code",
   "execution_count": null,
   "id": "d7ade754-843e-4840-8707-426613d8c0c5",
   "metadata": {
    "execution": {
     "iopub.execute_input": "2023-05-15T07:43:03.613688Z",
     "iopub.status.busy": "2023-05-15T07:43:03.613411Z",
     "iopub.status.idle": "2023-05-15T07:43:03.622570Z",
     "shell.execute_reply": "2023-05-15T07:43:03.622235Z"
    },
    "papermill": {
     "duration": 0.014576,
     "end_time": "2023-05-15T07:43:03.623370",
     "exception": false,
     "start_time": "2023-05-15T07:43:03.608794",
     "status": "completed"
    },
    "tags": []
   },
   "outputs": [],
   "source": [
    "dataset = dataset[dataset.obs.pct_counts_mt < 10, :]\n",
    "dataset = dataset[dataset.obs.n_genes_by_counts > 100, :]\n",
    "dataset = dataset[dataset.obs.pct_counts_hb < 3, :]\n",
    "dataset"
   ]
  },
  {
   "cell_type": "code",
   "execution_count": null,
   "id": "1941fa36-e865-4500-b586-f7a32d142c9b",
   "metadata": {
    "execution": {
     "iopub.execute_input": "2023-05-15T07:43:03.632367Z",
     "iopub.status.busy": "2023-05-15T07:43:03.632011Z",
     "iopub.status.idle": "2023-05-15T07:43:03.634966Z",
     "shell.execute_reply": "2023-05-15T07:43:03.634665Z"
    },
    "papermill": {
     "duration": 0.008367,
     "end_time": "2023-05-15T07:43:03.635772",
     "exception": false,
     "start_time": "2023-05-15T07:43:03.627405",
     "status": "completed"
    },
    "tags": []
   },
   "outputs": [],
   "source": [
    "metadata.columns"
   ]
  },
  {
   "cell_type": "code",
   "execution_count": null,
   "id": "2e0ff8c3-2aa9-4a01-9b88-5912a6734447",
   "metadata": {
    "execution": {
     "iopub.execute_input": "2023-05-15T07:43:03.644727Z",
     "iopub.status.busy": "2023-05-15T07:43:03.644533Z",
     "iopub.status.idle": "2023-05-15T07:43:03.676155Z",
     "shell.execute_reply": "2023-05-15T07:43:03.675738Z"
    },
    "papermill": {
     "duration": 0.03722,
     "end_time": "2023-05-15T07:43:03.677113",
     "exception": false,
     "start_time": "2023-05-15T07:43:03.639893",
     "status": "completed"
    },
    "tags": []
   },
   "outputs": [],
   "source": [
    "for col in metadata.columns:\n",
    "    dataset.obs[col] = metadata.loc[metadata[\"Run\"] == sample_name, col].to_list()[0]"
   ]
  },
  {
   "cell_type": "code",
   "execution_count": null,
   "id": "b84578d3-d63e-419c-a272-a0b8317d05ab",
   "metadata": {
    "execution": {
     "iopub.execute_input": "2023-05-15T07:43:03.686334Z",
     "iopub.status.busy": "2023-05-15T07:43:03.686127Z",
     "iopub.status.idle": "2023-05-15T07:43:03.974541Z",
     "shell.execute_reply": "2023-05-15T07:43:03.974062Z"
    },
    "papermill": {
     "duration": 0.29472,
     "end_time": "2023-05-15T07:43:03.976049",
     "exception": false,
     "start_time": "2023-05-15T07:43:03.681329",
     "status": "completed"
    },
    "tags": []
   },
   "outputs": [],
   "source": [
    "dataset.write(f\"../../int_data/{sample_name}_qc.h5ad\")"
   ]
  },
  {
   "cell_type": "code",
   "execution_count": null,
   "id": "501b33a0-432d-415f-ae82-50723484b85d",
   "metadata": {
    "execution": {
     "iopub.execute_input": "2023-05-15T07:43:03.985496Z",
     "iopub.status.busy": "2023-05-15T07:43:03.985282Z",
     "iopub.status.idle": "2023-05-15T07:43:03.988329Z",
     "shell.execute_reply": "2023-05-15T07:43:03.988021Z"
    },
    "papermill": {
     "duration": 0.008738,
     "end_time": "2023-05-15T07:43:03.989147",
     "exception": false,
     "start_time": "2023-05-15T07:43:03.980409",
     "status": "completed"
    },
    "tags": []
   },
   "outputs": [],
   "source": [
    "dataset"
   ]
  }
 ],
 "metadata": {
  "kernelspec": {
   "display_name": "py_R",
   "language": "python",
   "name": "python_r"
  },
  "language_info": {
   "codemirror_mode": {
    "name": "ipython",
    "version": 3
   },
   "file_extension": ".py",
   "mimetype": "text/x-python",
   "name": "python",
   "nbconvert_exporter": "python",
   "pygments_lexer": "ipython3",
   "version": "3.10.9"
  },
  "papermill": {
   "default_parameters": {},
   "duration": 99.10911,
   "end_time": "2023-05-15T07:43:05.310000",
   "environment_variables": {},
   "exception": null,
   "input_path": "template.ipynb",
   "output_path": "SRR13329134.ipynb",
   "parameters": {
    "sample_name": "SRR13329134"
   },
   "start_time": "2023-05-15T07:41:26.200890",
   "version": "2.4.0"
  }
 },
 "nbformat": 4,
 "nbformat_minor": 5
}
