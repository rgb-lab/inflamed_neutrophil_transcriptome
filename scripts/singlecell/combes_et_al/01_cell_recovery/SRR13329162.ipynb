{
 "cells": [
  {
   "cell_type": "code",
   "execution_count": null,
   "id": "4c0f2fa8-5232-4f47-a7ec-6c9bbabe50e2",
   "metadata": {
    "execution": {
     "iopub.execute_input": "2023-05-15T08:31:04.998462Z",
     "iopub.status.busy": "2023-05-15T08:31:04.998293Z",
     "iopub.status.idle": "2023-05-15T08:31:05.003007Z",
     "shell.execute_reply": "2023-05-15T08:31:05.002684Z"
    },
    "papermill": {
     "duration": 0.009015,
     "end_time": "2023-05-15T08:31:05.003933",
     "exception": false,
     "start_time": "2023-05-15T08:31:04.994918",
     "status": "completed"
    },
    "tags": [
     "parameters"
    ]
   },
   "outputs": [],
   "source": [
    "sample_name = \"SRR13329143\""
   ]
  },
  {
   "cell_type": "code",
   "execution_count": null,
   "id": "3fb6b47c",
   "metadata": {
    "execution": {
     "iopub.execute_input": "2023-05-15T08:31:05.009306Z",
     "iopub.status.busy": "2023-05-15T08:31:05.009007Z",
     "iopub.status.idle": "2023-05-15T08:31:05.010924Z",
     "shell.execute_reply": "2023-05-15T08:31:05.010633Z"
    },
    "papermill": {
     "duration": 0.005306,
     "end_time": "2023-05-15T08:31:05.011669",
     "exception": false,
     "start_time": "2023-05-15T08:31:05.006363",
     "status": "completed"
    },
    "tags": [
     "injected-parameters"
    ]
   },
   "outputs": [],
   "source": [
    "# Parameters\n",
    "sample_name = \"SRR13329162\"\n"
   ]
  },
  {
   "cell_type": "code",
   "execution_count": null,
   "id": "f87ed95b-2b67-4a5a-8fe2-47359b1dd2a9",
   "metadata": {
    "execution": {
     "iopub.execute_input": "2023-05-15T08:31:05.016982Z",
     "iopub.status.busy": "2023-05-15T08:31:05.016677Z",
     "iopub.status.idle": "2023-05-15T08:31:05.018894Z",
     "shell.execute_reply": "2023-05-15T08:31:05.018600Z"
    },
    "papermill": {
     "duration": 0.005662,
     "end_time": "2023-05-15T08:31:05.019646",
     "exception": false,
     "start_time": "2023-05-15T08:31:05.013984",
     "status": "completed"
    },
    "tags": []
   },
   "outputs": [],
   "source": [
    "import warnings\n",
    "warnings.simplefilter(action='ignore', category=FutureWarning)\n",
    "warnings.simplefilter(action='ignore', category=UserWarning)"
   ]
  },
  {
   "cell_type": "code",
   "execution_count": null,
   "id": "85161f19-b2c5-490b-8cab-c2cf9653b304",
   "metadata": {
    "execution": {
     "iopub.execute_input": "2023-05-15T08:31:05.024994Z",
     "iopub.status.busy": "2023-05-15T08:31:05.024785Z",
     "iopub.status.idle": "2023-05-15T08:31:09.992825Z",
     "shell.execute_reply": "2023-05-15T08:31:09.992325Z"
    },
    "papermill": {
     "duration": 4.972123,
     "end_time": "2023-05-15T08:31:09.994177",
     "exception": false,
     "start_time": "2023-05-15T08:31:05.022054",
     "status": "completed"
    },
    "tags": []
   },
   "outputs": [],
   "source": [
    "import gc\n",
    "import scanpy as sc\n",
    "import muon as mu\n",
    "import seaborn as sns\n",
    "import os\n",
    "import pandas as pd\n",
    "from matplotlib import pyplot as plt\n",
    "\n",
    "os.environ['R_HOME'] = '/gpfs/bwfor/work/ws/hd_fu399-conda/conda/envs/python_R/lib/R/'\n",
    "import anndata2ri\n",
    "import logging\n",
    "\n",
    "import rpy2.rinterface_lib.callbacks as rcb\n",
    "import rpy2.robjects as ro\n",
    "\n",
    "rcb.logger.setLevel(logging.ERROR)\n",
    "ro.pandas2ri.activate()\n",
    "anndata2ri.activate()\n",
    "\n",
    "%load_ext rpy2.ipython"
   ]
  },
  {
   "cell_type": "code",
   "execution_count": null,
   "id": "fc4ade78-b728-4704-9db6-45fbaab62ba1",
   "metadata": {
    "execution": {
     "iopub.execute_input": "2023-05-15T08:31:10.003170Z",
     "iopub.status.busy": "2023-05-15T08:31:10.002867Z",
     "iopub.status.idle": "2023-05-15T08:31:22.167698Z",
     "shell.execute_reply": "2023-05-15T08:31:22.167285Z"
    },
    "papermill": {
     "duration": 12.168906,
     "end_time": "2023-05-15T08:31:22.168825",
     "exception": false,
     "start_time": "2023-05-15T08:31:09.999919",
     "status": "completed"
    },
    "tags": []
   },
   "outputs": [],
   "source": [
    "%%R\n",
    "library(SoupX)\n",
    "library(Seurat)\n",
    "library(scater)\n",
    "library(scDblFinder)\n",
    "library(BiocParallel)\n",
    "library(MuDataSeurat)\n",
    "library(DropletUtils)"
   ]
  },
  {
   "cell_type": "code",
   "execution_count": null,
   "id": "f7424d90-7690-4290-8651-1db3f9df3a35",
   "metadata": {
    "execution": {
     "iopub.execute_input": "2023-05-15T08:31:22.178737Z",
     "iopub.status.busy": "2023-05-15T08:31:22.178566Z",
     "iopub.status.idle": "2023-05-15T08:31:22.184314Z",
     "shell.execute_reply": "2023-05-15T08:31:22.183965Z"
    },
    "papermill": {
     "duration": 0.009762,
     "end_time": "2023-05-15T08:31:22.185081",
     "exception": false,
     "start_time": "2023-05-15T08:31:22.175319",
     "status": "completed"
    },
    "tags": []
   },
   "outputs": [],
   "source": [
    "metadata = pd.read_csv(\"../../combes_metadata.txt\")"
   ]
  },
  {
   "cell_type": "code",
   "execution_count": null,
   "id": "2574ecf1-bad4-4c33-8f3f-718a358727ab",
   "metadata": {
    "execution": {
     "iopub.execute_input": "2023-05-15T08:31:22.190804Z",
     "iopub.status.busy": "2023-05-15T08:31:22.190675Z",
     "iopub.status.idle": "2023-05-15T08:31:22.192721Z",
     "shell.execute_reply": "2023-05-15T08:31:22.192412Z"
    },
    "papermill": {
     "duration": 0.00575,
     "end_time": "2023-05-15T08:31:22.193439",
     "exception": false,
     "start_time": "2023-05-15T08:31:22.187689",
     "status": "completed"
    },
    "tags": []
   },
   "outputs": [],
   "source": [
    "raw_input = f\"/home/hd/hd_hd/hd_fu399/sds-hd/sd21k006/scRNAseq/revision_natcomm/combes_et_al/fetchngs/results/fastq/{sample_name}/{sample_name}/outs/raw_feature_bc_matrix.h5\""
   ]
  },
  {
   "cell_type": "code",
   "execution_count": null,
   "id": "e266d388-1802-435c-93a5-90067358739c",
   "metadata": {
    "execution": {
     "iopub.execute_input": "2023-05-15T08:31:22.199197Z",
     "iopub.status.busy": "2023-05-15T08:31:22.199047Z",
     "iopub.status.idle": "2023-05-15T08:31:22.652470Z",
     "shell.execute_reply": "2023-05-15T08:31:22.652022Z"
    },
    "papermill": {
     "duration": 0.45735,
     "end_time": "2023-05-15T08:31:22.653412",
     "exception": false,
     "start_time": "2023-05-15T08:31:22.196062",
     "status": "completed"
    },
    "tags": []
   },
   "outputs": [],
   "source": [
    "dataset = sc.read_10x_h5(raw_input)\n",
    "dataset.var_names_make_unique()\n",
    "dataset.obs_names_make_unique()\n",
    "\n",
    "dataset.layers[\"raw_counts\"] = dataset.X.copy()\n",
    "data_tod = dataset.layers[\"raw_counts\"].T.copy()\n",
    "\n",
    "dataset"
   ]
  },
  {
   "cell_type": "code",
   "execution_count": null,
   "id": "af9f5892-ed31-42a6-991b-4e096f582cef",
   "metadata": {
    "execution": {
     "iopub.execute_input": "2023-05-15T08:31:22.659894Z",
     "iopub.status.busy": "2023-05-15T08:31:22.659712Z",
     "iopub.status.idle": "2023-05-15T08:31:22.693098Z",
     "shell.execute_reply": "2023-05-15T08:31:22.692625Z"
    },
    "papermill": {
     "duration": 0.037932,
     "end_time": "2023-05-15T08:31:22.694427",
     "exception": false,
     "start_time": "2023-05-15T08:31:22.656495",
     "status": "completed"
    },
    "tags": []
   },
   "outputs": [],
   "source": [
    "sce = dataset.copy()"
   ]
  },
  {
   "cell_type": "code",
   "execution_count": null,
   "id": "d03f2caf-8e74-430e-b045-0ab80401d165",
   "metadata": {
    "execution": {
     "iopub.execute_input": "2023-05-15T08:31:22.700821Z",
     "iopub.status.busy": "2023-05-15T08:31:22.700650Z",
     "iopub.status.idle": "2023-05-15T08:32:13.905679Z",
     "shell.execute_reply": "2023-05-15T08:32:13.905080Z"
    },
    "papermill": {
     "duration": 51.209617,
     "end_time": "2023-05-15T08:32:13.907062",
     "exception": false,
     "start_time": "2023-05-15T08:31:22.697445",
     "status": "completed"
    },
    "tags": []
   },
   "outputs": [],
   "source": [
    "%%R -i sce -o empty_drop_output\n",
    "set.seed(187)\n",
    "empty_drop_output <- emptyDrops(assay(sce))"
   ]
  },
  {
   "cell_type": "code",
   "execution_count": null,
   "id": "2a34a54b-3ae2-44d6-8679-8769228c5b66",
   "metadata": {
    "execution": {
     "iopub.execute_input": "2023-05-15T08:32:13.931686Z",
     "iopub.status.busy": "2023-05-15T08:32:13.931521Z",
     "iopub.status.idle": "2023-05-15T08:32:13.954055Z",
     "shell.execute_reply": "2023-05-15T08:32:13.953750Z"
    },
    "papermill": {
     "duration": 0.026935,
     "end_time": "2023-05-15T08:32:13.954803",
     "exception": false,
     "start_time": "2023-05-15T08:32:13.927868",
     "status": "completed"
    },
    "tags": []
   },
   "outputs": [],
   "source": [
    "non_empty_barcodes = empty_drop_output[empty_drop_output[\"FDR\"] < 0.001].index\n",
    "dataset = dataset[dataset.obs.index.isin(non_empty_barcodes), :]\n",
    "dataset"
   ]
  },
  {
   "cell_type": "code",
   "execution_count": null,
   "id": "016a91e5-1bef-46fb-b91e-4fb9a6870c44",
   "metadata": {
    "execution": {
     "iopub.execute_input": "2023-05-15T08:32:13.960793Z",
     "iopub.status.busy": "2023-05-15T08:32:13.960602Z",
     "iopub.status.idle": "2023-05-15T08:32:18.100396Z",
     "shell.execute_reply": "2023-05-15T08:32:18.099917Z"
    },
    "papermill": {
     "duration": 4.144234,
     "end_time": "2023-05-15T08:32:18.101698",
     "exception": false,
     "start_time": "2023-05-15T08:32:13.957464",
     "status": "completed"
    },
    "tags": []
   },
   "outputs": [],
   "source": [
    "rna_assay = dataset.copy()\n",
    "sc.pp.normalize_per_cell(rna_assay)\n",
    "sc.pp.log1p(rna_assay)\n",
    "sc.pp.pca(rna_assay)\n",
    "sc.pp.neighbors(rna_assay)\n",
    "sc.tl.leiden(rna_assay, key_added=\"soupx_groups\")\n",
    "\n",
    "soupx_groups = rna_assay.obs[\"soupx_groups\"]\n",
    "\n",
    "del rna_assay\n",
    "\n",
    "genes = dataset.var_names\n",
    "cells = dataset.obs_names\n",
    "data = dataset.X.T.copy()"
   ]
  },
  {
   "cell_type": "code",
   "execution_count": null,
   "id": "9db4ea1f-1580-4f43-a3f0-86002397cd98",
   "metadata": {
    "execution": {
     "iopub.execute_input": "2023-05-15T08:32:18.111118Z",
     "iopub.status.busy": "2023-05-15T08:32:18.110927Z",
     "iopub.status.idle": "2023-05-15T08:32:29.910010Z",
     "shell.execute_reply": "2023-05-15T08:32:29.909541Z"
    },
    "papermill": {
     "duration": 11.8042,
     "end_time": "2023-05-15T08:32:29.911339",
     "exception": false,
     "start_time": "2023-05-15T08:32:18.107139",
     "status": "completed"
    },
    "tags": []
   },
   "outputs": [],
   "source": [
    "%%R -i data -i data_tod -i genes -i cells -i soupx_groups -o out \n",
    "set.seed(187)\n",
    "# specify row and column names of data\n",
    "rownames(data) = genes\n",
    "colnames(data) = cells\n",
    "# ensure correct sparse format for table of counts and table of droplets\n",
    "data <- as(data, \"sparseMatrix\")\n",
    "data_tod <- as(data_tod, \"sparseMatrix\")\n",
    "\n",
    "# Generate SoupChannel Object for SoupX \n",
    "sc = SoupChannel(data_tod, data, calcSoupProfile = FALSE)\n",
    "\n",
    "# Add extra meta data to the SoupChannel object\n",
    "soupProf = data.frame(row.names = rownames(data),\n",
    "                      est = rowSums(data)/sum(data),\n",
    "                      counts = rowSums(data))\n",
    "sc = setSoupProfile(sc, soupProf)\n",
    "# Set cluster information in SoupChannel\n",
    "sc = setClusters(sc, soupx_groups)\n",
    "\n",
    "# Estimate contamination fraction\n",
    "sc  = autoEstCont(sc, doPlot=FALSE, forceAccept = TRUE)\n",
    "# Infer corrected table of counts and rount to integer\n",
    "out = adjustCounts(sc, roundToInt = TRUE)"
   ]
  },
  {
   "cell_type": "code",
   "execution_count": null,
   "id": "32555d5e-5fa3-46dd-a4e0-ddc96ea265e2",
   "metadata": {
    "execution": {
     "iopub.execute_input": "2023-05-15T08:32:29.922312Z",
     "iopub.status.busy": "2023-05-15T08:32:29.922121Z",
     "iopub.status.idle": "2023-05-15T08:32:29.949765Z",
     "shell.execute_reply": "2023-05-15T08:32:29.949324Z"
    },
    "papermill": {
     "duration": 0.032456,
     "end_time": "2023-05-15T08:32:29.950938",
     "exception": false,
     "start_time": "2023-05-15T08:32:29.918482",
     "status": "completed"
    },
    "tags": []
   },
   "outputs": [],
   "source": [
    "dataset.layers[\"soupX_counts\"] = out.T\n",
    "dataset.X = dataset.layers[\"soupX_counts\"].copy()"
   ]
  },
  {
   "cell_type": "code",
   "execution_count": null,
   "id": "e27da7df-e094-4d2a-9109-5a363e012175",
   "metadata": {
    "execution": {
     "iopub.execute_input": "2023-05-15T08:32:29.957522Z",
     "iopub.status.busy": "2023-05-15T08:32:29.957296Z",
     "iopub.status.idle": "2023-05-15T08:32:29.959776Z",
     "shell.execute_reply": "2023-05-15T08:32:29.959430Z"
    },
    "papermill": {
     "duration": 0.006554,
     "end_time": "2023-05-15T08:32:29.960553",
     "exception": false,
     "start_time": "2023-05-15T08:32:29.953999",
     "status": "completed"
    },
    "tags": []
   },
   "outputs": [],
   "source": [
    "data_mat = dataset.X.T"
   ]
  },
  {
   "cell_type": "code",
   "execution_count": null,
   "id": "80a993b1-5ccb-4697-9187-1beb7ab8aff9",
   "metadata": {
    "execution": {
     "iopub.execute_input": "2023-05-15T08:32:29.966610Z",
     "iopub.status.busy": "2023-05-15T08:32:29.966441Z",
     "iopub.status.idle": "2023-05-15T08:32:50.300029Z",
     "shell.execute_reply": "2023-05-15T08:32:50.299616Z"
    },
    "papermill": {
     "duration": 20.338062,
     "end_time": "2023-05-15T08:32:50.301329",
     "exception": false,
     "start_time": "2023-05-15T08:32:29.963267",
     "status": "completed"
    },
    "tags": []
   },
   "outputs": [],
   "source": [
    "%%R -i data_mat -o droplet_class\n",
    "\n",
    "set.seed(187)\n",
    "sce = scDblFinder(\n",
    "    SingleCellExperiment(\n",
    "        list(counts=data_mat),\n",
    "    ) \n",
    ")\n",
    "droplet_class = sce$scDblFinder.class"
   ]
  },
  {
   "cell_type": "code",
   "execution_count": null,
   "id": "d4dd6e9d-fcf2-41fc-8457-c8e0a3cb2c71",
   "metadata": {
    "execution": {
     "iopub.execute_input": "2023-05-15T08:32:50.312766Z",
     "iopub.status.busy": "2023-05-15T08:32:50.312573Z",
     "iopub.status.idle": "2023-05-15T08:32:50.316733Z",
     "shell.execute_reply": "2023-05-15T08:32:50.316380Z"
    },
    "papermill": {
     "duration": 0.008616,
     "end_time": "2023-05-15T08:32:50.317517",
     "exception": false,
     "start_time": "2023-05-15T08:32:50.308901",
     "status": "completed"
    },
    "tags": []
   },
   "outputs": [],
   "source": [
    "dataset.obs[\"scDblFinder_class\"] = droplet_class\n",
    "dataset.obs.scDblFinder_class.value_counts()\n",
    "dataset"
   ]
  },
  {
   "cell_type": "code",
   "execution_count": null,
   "id": "28c95014-2d6c-477f-95cb-9f9f0507520c",
   "metadata": {
    "execution": {
     "iopub.execute_input": "2023-05-15T08:32:50.324167Z",
     "iopub.status.busy": "2023-05-15T08:32:50.323980Z",
     "iopub.status.idle": "2023-05-15T08:32:50.326871Z",
     "shell.execute_reply": "2023-05-15T08:32:50.326550Z"
    },
    "papermill": {
     "duration": 0.00716,
     "end_time": "2023-05-15T08:32:50.327633",
     "exception": false,
     "start_time": "2023-05-15T08:32:50.320473",
     "status": "completed"
    },
    "tags": []
   },
   "outputs": [],
   "source": [
    "dataset = dataset[dataset.obs[\"scDblFinder_class\"] == 1]"
   ]
  },
  {
   "cell_type": "code",
   "execution_count": null,
   "id": "3e22f9e0-bfcb-416c-a151-a9bca3bec3b9",
   "metadata": {
    "execution": {
     "iopub.execute_input": "2023-05-15T08:32:50.334272Z",
     "iopub.status.busy": "2023-05-15T08:32:50.334101Z",
     "iopub.status.idle": "2023-05-15T08:32:50.465734Z",
     "shell.execute_reply": "2023-05-15T08:32:50.465283Z"
    },
    "papermill": {
     "duration": 0.136031,
     "end_time": "2023-05-15T08:32:50.466685",
     "exception": false,
     "start_time": "2023-05-15T08:32:50.330654",
     "status": "completed"
    },
    "tags": []
   },
   "outputs": [],
   "source": [
    "# mitochondrial genes\n",
    "dataset.var[\"mt\"] = dataset.var_names.str.startswith(\"MT-\")\n",
    "# ribosomal genes\n",
    "dataset.var[\"ribo\"] = dataset.var_names.str.startswith((\"RPS\", \"RPL\"))\n",
    "# hemoglobin genes.\n",
    "dataset.var[\"hb\"] = dataset.var_names.str.contains((\"^HB[^(P)]\"))\n",
    "\n",
    "sc.pp.calculate_qc_metrics(dataset,\n",
    "                           qc_vars=['mt', 'ribo', 'hb'],\n",
    "                           percent_top=None,\n",
    "                           log1p=False,\n",
    "                           inplace=True)\n",
    "dataset"
   ]
  },
  {
   "cell_type": "code",
   "execution_count": null,
   "id": "34deee79-4043-428f-8575-aa57b45f6369",
   "metadata": {
    "execution": {
     "iopub.execute_input": "2023-05-15T08:32:50.474089Z",
     "iopub.status.busy": "2023-05-15T08:32:50.473911Z",
     "iopub.status.idle": "2023-05-15T08:32:50.927070Z",
     "shell.execute_reply": "2023-05-15T08:32:50.926658Z"
    },
    "papermill": {
     "duration": 0.457933,
     "end_time": "2023-05-15T08:32:50.928122",
     "exception": false,
     "start_time": "2023-05-15T08:32:50.470189",
     "status": "completed"
    },
    "tags": []
   },
   "outputs": [],
   "source": [
    "fig, ax = plt.subplots(ncols = 4, figsize = (16,4))\n",
    "axis = sc.pl.violin(dataset, \"n_genes_by_counts\", jitter = 0.4, ax = ax[0], show = False)\n",
    "axis.grid(False)\n",
    "axis.set_title(\"Unique Genes per cell\")\n",
    "axis.tick_params(axis = \"x\", bottom =False, labelbottom =False)\n",
    "axis.set_ylabel(\"# genes\")\n",
    "axis.axhline(y = 100, color = \"black\", label = \"cutoff\")\n",
    "axis.legend(fontsize = 14, loc = \"upper right\")\n",
    "\n",
    "axis = sc.pl.violin(dataset, \"pct_counts_mt\", jitter = 0.4, ax = ax[1], show = False)\n",
    "axis.grid(False)\n",
    "axis.set_title(\"Mitochondrial Fraction\")\n",
    "axis.tick_params(axis = \"x\", bottom =False, labelbottom =False)\n",
    "axis.set_ylabel(\"% mitochondrial genes\")\n",
    "axis.axhline(y = 10, color = \"black\", label = \"cutoff\")\n",
    "axis.legend(fontsize = 14, loc = \"upper right\")\n",
    "\n",
    "axis = sc.pl.violin(dataset, \"pct_counts_hb\", jitter = 0.4, ax = ax[2], show = False, size =2)\n",
    "axis.grid(False)\n",
    "axis.set_title(\"Hemoglobin Fraction\")\n",
    "axis.tick_params(axis = \"x\", bottom =False, labelbottom =False)\n",
    "axis.set_ylabel(\"% hemoglobin genes\")\n",
    "axis.axhline(y = 3, color = \"black\", label = \"cutoff\")\n",
    "axis.legend(fontsize = 14, loc = \"upper right\")\n",
    "#axis.set_ylim(0,5)\n",
    "\n",
    "axis = sc.pl.violin(dataset, \"pct_counts_ribo\", jitter = 0.4, ax = ax[3], show = False)\n",
    "axis.grid(False)\n",
    "axis.set_title(\"Ribosomal Fraction\")\n",
    "axis.tick_params(axis = \"x\", bottom =False, labelbottom =False)\n",
    "axis.set_ylabel(\"% ribosome genes\")\n",
    "\n",
    "plt.tight_layout()\n",
    "#plt.savefig(f\"{outputDir}08_gene_based_filtering.pdf\", dpi = 300)\n",
    "plt.show()\n",
    "\n"
   ]
  },
  {
   "cell_type": "code",
   "execution_count": null,
   "id": "d7ade754-843e-4840-8707-426613d8c0c5",
   "metadata": {
    "execution": {
     "iopub.execute_input": "2023-05-15T08:32:50.938205Z",
     "iopub.status.busy": "2023-05-15T08:32:50.937835Z",
     "iopub.status.idle": "2023-05-15T08:32:50.947230Z",
     "shell.execute_reply": "2023-05-15T08:32:50.946859Z"
    },
    "papermill": {
     "duration": 0.015136,
     "end_time": "2023-05-15T08:32:50.948009",
     "exception": false,
     "start_time": "2023-05-15T08:32:50.932873",
     "status": "completed"
    },
    "tags": []
   },
   "outputs": [],
   "source": [
    "dataset = dataset[dataset.obs.pct_counts_mt < 10, :]\n",
    "dataset = dataset[dataset.obs.n_genes_by_counts > 100, :]\n",
    "dataset = dataset[dataset.obs.pct_counts_hb < 3, :]\n",
    "dataset"
   ]
  },
  {
   "cell_type": "code",
   "execution_count": null,
   "id": "1941fa36-e865-4500-b586-f7a32d142c9b",
   "metadata": {
    "execution": {
     "iopub.execute_input": "2023-05-15T08:32:50.957456Z",
     "iopub.status.busy": "2023-05-15T08:32:50.957322Z",
     "iopub.status.idle": "2023-05-15T08:32:50.960110Z",
     "shell.execute_reply": "2023-05-15T08:32:50.959807Z"
    },
    "papermill": {
     "duration": 0.008548,
     "end_time": "2023-05-15T08:32:50.960897",
     "exception": false,
     "start_time": "2023-05-15T08:32:50.952349",
     "status": "completed"
    },
    "tags": []
   },
   "outputs": [],
   "source": [
    "metadata.columns"
   ]
  },
  {
   "cell_type": "code",
   "execution_count": null,
   "id": "2e0ff8c3-2aa9-4a01-9b88-5912a6734447",
   "metadata": {
    "execution": {
     "iopub.execute_input": "2023-05-15T08:32:50.970695Z",
     "iopub.status.busy": "2023-05-15T08:32:50.970422Z",
     "iopub.status.idle": "2023-05-15T08:32:51.004401Z",
     "shell.execute_reply": "2023-05-15T08:32:51.004017Z"
    },
    "papermill": {
     "duration": 0.040057,
     "end_time": "2023-05-15T08:32:51.005470",
     "exception": false,
     "start_time": "2023-05-15T08:32:50.965413",
     "status": "completed"
    },
    "tags": []
   },
   "outputs": [],
   "source": [
    "for col in metadata.columns:\n",
    "    dataset.obs[col] = metadata.loc[metadata[\"Run\"] == sample_name, col].to_list()[0]"
   ]
  },
  {
   "cell_type": "code",
   "execution_count": null,
   "id": "b84578d3-d63e-419c-a272-a0b8317d05ab",
   "metadata": {
    "execution": {
     "iopub.execute_input": "2023-05-15T08:32:51.015902Z",
     "iopub.status.busy": "2023-05-15T08:32:51.015722Z",
     "iopub.status.idle": "2023-05-15T08:32:51.581821Z",
     "shell.execute_reply": "2023-05-15T08:32:51.581348Z"
    },
    "papermill": {
     "duration": 0.572799,
     "end_time": "2023-05-15T08:32:51.583131",
     "exception": false,
     "start_time": "2023-05-15T08:32:51.010332",
     "status": "completed"
    },
    "tags": []
   },
   "outputs": [],
   "source": [
    "dataset.write(f\"../../int_data/{sample_name}_qc.h5ad\")"
   ]
  },
  {
   "cell_type": "code",
   "execution_count": null,
   "id": "501b33a0-432d-415f-ae82-50723484b85d",
   "metadata": {
    "execution": {
     "iopub.execute_input": "2023-05-15T08:32:51.593269Z",
     "iopub.status.busy": "2023-05-15T08:32:51.593083Z",
     "iopub.status.idle": "2023-05-15T08:32:51.596054Z",
     "shell.execute_reply": "2023-05-15T08:32:51.595725Z"
    },
    "papermill": {
     "duration": 0.008825,
     "end_time": "2023-05-15T08:32:51.596830",
     "exception": false,
     "start_time": "2023-05-15T08:32:51.588005",
     "status": "completed"
    },
    "tags": []
   },
   "outputs": [],
   "source": [
    "dataset"
   ]
  }
 ],
 "metadata": {
  "kernelspec": {
   "display_name": "py_R",
   "language": "python",
   "name": "python_r"
  },
  "language_info": {
   "codemirror_mode": {
    "name": "ipython",
    "version": 3
   },
   "file_extension": ".py",
   "mimetype": "text/x-python",
   "name": "python",
   "nbconvert_exporter": "python",
   "pygments_lexer": "ipython3",
   "version": "3.10.9"
  },
  "papermill": {
   "default_parameters": {},
   "duration": 109.203725,
   "end_time": "2023-05-15T08:32:52.946638",
   "environment_variables": {},
   "exception": null,
   "input_path": "template.ipynb",
   "output_path": "SRR13329162.ipynb",
   "parameters": {
    "sample_name": "SRR13329162"
   },
   "start_time": "2023-05-15T08:31:03.742913",
   "version": "2.4.0"
  }
 },
 "nbformat": 4,
 "nbformat_minor": 5
}
