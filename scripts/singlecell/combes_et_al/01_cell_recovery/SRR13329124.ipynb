{
 "cells": [
  {
   "cell_type": "code",
   "execution_count": null,
   "id": "4c0f2fa8-5232-4f47-a7ec-6c9bbabe50e2",
   "metadata": {
    "execution": {
     "iopub.execute_input": "2023-05-15T09:44:27.655323Z",
     "iopub.status.busy": "2023-05-15T09:44:27.654864Z",
     "iopub.status.idle": "2023-05-15T09:44:27.659887Z",
     "shell.execute_reply": "2023-05-15T09:44:27.659553Z"
    },
    "papermill": {
     "duration": 0.072791,
     "end_time": "2023-05-15T09:44:27.660723",
     "exception": false,
     "start_time": "2023-05-15T09:44:27.587932",
     "status": "completed"
    },
    "tags": [
     "parameters"
    ]
   },
   "outputs": [],
   "source": [
    "sample_name = \"SRR13329143\""
   ]
  },
  {
   "cell_type": "code",
   "execution_count": null,
   "id": "595d0826",
   "metadata": {
    "execution": {
     "iopub.execute_input": "2023-05-15T09:44:27.667615Z",
     "iopub.status.busy": "2023-05-15T09:44:27.667394Z",
     "iopub.status.idle": "2023-05-15T09:44:27.670978Z",
     "shell.execute_reply": "2023-05-15T09:44:27.670673Z"
    },
    "papermill": {
     "duration": 0.007107,
     "end_time": "2023-05-15T09:44:27.671824",
     "exception": false,
     "start_time": "2023-05-15T09:44:27.664717",
     "status": "completed"
    },
    "tags": [
     "injected-parameters"
    ]
   },
   "outputs": [],
   "source": [
    "# Parameters\n",
    "sample_name = \"SRR13329124\"\n"
   ]
  },
  {
   "cell_type": "code",
   "execution_count": null,
   "id": "f87ed95b-2b67-4a5a-8fe2-47359b1dd2a9",
   "metadata": {
    "execution": {
     "iopub.execute_input": "2023-05-15T09:44:27.676785Z",
     "iopub.status.busy": "2023-05-15T09:44:27.676514Z",
     "iopub.status.idle": "2023-05-15T09:44:27.678836Z",
     "shell.execute_reply": "2023-05-15T09:44:27.678478Z"
    },
    "papermill": {
     "duration": 0.005598,
     "end_time": "2023-05-15T09:44:27.679593",
     "exception": false,
     "start_time": "2023-05-15T09:44:27.673995",
     "status": "completed"
    },
    "tags": []
   },
   "outputs": [],
   "source": [
    "import warnings\n",
    "warnings.simplefilter(action='ignore', category=FutureWarning)\n",
    "warnings.simplefilter(action='ignore', category=UserWarning)"
   ]
  },
  {
   "cell_type": "code",
   "execution_count": null,
   "id": "85161f19-b2c5-490b-8cab-c2cf9653b304",
   "metadata": {
    "execution": {
     "iopub.execute_input": "2023-05-15T09:44:27.684475Z",
     "iopub.status.busy": "2023-05-15T09:44:27.684329Z",
     "iopub.status.idle": "2023-05-15T09:45:11.087566Z",
     "shell.execute_reply": "2023-05-15T09:45:11.087124Z"
    },
    "papermill": {
     "duration": 43.407067,
     "end_time": "2023-05-15T09:45:11.088871",
     "exception": false,
     "start_time": "2023-05-15T09:44:27.681804",
     "status": "completed"
    },
    "tags": []
   },
   "outputs": [],
   "source": [
    "import gc\n",
    "import scanpy as sc\n",
    "import muon as mu\n",
    "import seaborn as sns\n",
    "import os\n",
    "import pandas as pd\n",
    "from matplotlib import pyplot as plt\n",
    "\n",
    "os.environ['R_HOME'] = '/gpfs/bwfor/work/ws/hd_fu399-conda/conda/envs/python_R/lib/R/'\n",
    "import anndata2ri\n",
    "import logging\n",
    "\n",
    "import rpy2.rinterface_lib.callbacks as rcb\n",
    "import rpy2.robjects as ro\n",
    "\n",
    "rcb.logger.setLevel(logging.ERROR)\n",
    "ro.pandas2ri.activate()\n",
    "anndata2ri.activate()\n",
    "\n",
    "%load_ext rpy2.ipython"
   ]
  },
  {
   "cell_type": "code",
   "execution_count": null,
   "id": "fc4ade78-b728-4704-9db6-45fbaab62ba1",
   "metadata": {
    "execution": {
     "iopub.execute_input": "2023-05-15T09:45:11.134708Z",
     "iopub.status.busy": "2023-05-15T09:45:11.134375Z",
     "iopub.status.idle": "2023-05-15T09:45:25.365440Z",
     "shell.execute_reply": "2023-05-15T09:45:25.364964Z"
    },
    "papermill": {
     "duration": 14.235481,
     "end_time": "2023-05-15T09:45:25.366705",
     "exception": false,
     "start_time": "2023-05-15T09:45:11.131224",
     "status": "completed"
    },
    "tags": []
   },
   "outputs": [],
   "source": [
    "%%R\n",
    "library(SoupX)\n",
    "library(Seurat)\n",
    "library(scater)\n",
    "library(scDblFinder)\n",
    "library(BiocParallel)\n",
    "library(MuDataSeurat)\n",
    "library(DropletUtils)"
   ]
  },
  {
   "cell_type": "code",
   "execution_count": null,
   "id": "f7424d90-7690-4290-8651-1db3f9df3a35",
   "metadata": {
    "execution": {
     "iopub.execute_input": "2023-05-15T09:45:25.450708Z",
     "iopub.status.busy": "2023-05-15T09:45:25.450478Z",
     "iopub.status.idle": "2023-05-15T09:45:25.462899Z",
     "shell.execute_reply": "2023-05-15T09:45:25.462554Z"
    },
    "papermill": {
     "duration": 0.047857,
     "end_time": "2023-05-15T09:45:25.463767",
     "exception": false,
     "start_time": "2023-05-15T09:45:25.415910",
     "status": "completed"
    },
    "tags": []
   },
   "outputs": [],
   "source": [
    "metadata = pd.read_csv(\"../../combes_metadata.txt\")"
   ]
  },
  {
   "cell_type": "code",
   "execution_count": null,
   "id": "2574ecf1-bad4-4c33-8f3f-718a358727ab",
   "metadata": {
    "execution": {
     "iopub.execute_input": "2023-05-15T09:45:25.495483Z",
     "iopub.status.busy": "2023-05-15T09:45:25.495230Z",
     "iopub.status.idle": "2023-05-15T09:45:25.497439Z",
     "shell.execute_reply": "2023-05-15T09:45:25.497074Z"
    },
    "papermill": {
     "duration": 0.006229,
     "end_time": "2023-05-15T09:45:25.498256",
     "exception": false,
     "start_time": "2023-05-15T09:45:25.492027",
     "status": "completed"
    },
    "tags": []
   },
   "outputs": [],
   "source": [
    "raw_input = f\"/home/hd/hd_hd/hd_fu399/sds-hd/sd21k006/scRNAseq/revision_natcomm/combes_et_al/fetchngs/results/fastq/{sample_name}/{sample_name}/outs/raw_feature_bc_matrix.h5\""
   ]
  },
  {
   "cell_type": "code",
   "execution_count": null,
   "id": "e266d388-1802-435c-93a5-90067358739c",
   "metadata": {
    "execution": {
     "iopub.execute_input": "2023-05-15T09:45:25.503782Z",
     "iopub.status.busy": "2023-05-15T09:45:25.503437Z",
     "iopub.status.idle": "2023-05-15T09:45:25.930765Z",
     "shell.execute_reply": "2023-05-15T09:45:25.930356Z"
    },
    "papermill": {
     "duration": 0.431076,
     "end_time": "2023-05-15T09:45:25.931683",
     "exception": false,
     "start_time": "2023-05-15T09:45:25.500607",
     "status": "completed"
    },
    "tags": []
   },
   "outputs": [],
   "source": [
    "dataset = sc.read_10x_h5(raw_input)\n",
    "dataset.var_names_make_unique()\n",
    "dataset.obs_names_make_unique()\n",
    "\n",
    "dataset.layers[\"raw_counts\"] = dataset.X.copy()\n",
    "data_tod = dataset.layers[\"raw_counts\"].T.copy()\n",
    "\n",
    "dataset"
   ]
  },
  {
   "cell_type": "code",
   "execution_count": null,
   "id": "af9f5892-ed31-42a6-991b-4e096f582cef",
   "metadata": {
    "execution": {
     "iopub.execute_input": "2023-05-15T09:45:25.979434Z",
     "iopub.status.busy": "2023-05-15T09:45:25.979243Z",
     "iopub.status.idle": "2023-05-15T09:45:26.017718Z",
     "shell.execute_reply": "2023-05-15T09:45:26.017229Z"
    },
    "papermill": {
     "duration": 0.042919,
     "end_time": "2023-05-15T09:45:26.018820",
     "exception": false,
     "start_time": "2023-05-15T09:45:25.975901",
     "status": "completed"
    },
    "tags": []
   },
   "outputs": [],
   "source": [
    "sce = dataset.copy()"
   ]
  },
  {
   "cell_type": "code",
   "execution_count": null,
   "id": "d03f2caf-8e74-430e-b045-0ab80401d165",
   "metadata": {
    "execution": {
     "iopub.execute_input": "2023-05-15T09:45:26.039715Z",
     "iopub.status.busy": "2023-05-15T09:45:26.039457Z",
     "iopub.status.idle": "2023-05-15T09:46:28.362343Z",
     "shell.execute_reply": "2023-05-15T09:46:28.361738Z"
    },
    "papermill": {
     "duration": 62.328735,
     "end_time": "2023-05-15T09:46:28.363601",
     "exception": false,
     "start_time": "2023-05-15T09:45:26.034866",
     "status": "completed"
    },
    "tags": []
   },
   "outputs": [],
   "source": [
    "%%R -i sce -o empty_drop_output\n",
    "set.seed(187)\n",
    "empty_drop_output <- emptyDrops(assay(sce))"
   ]
  },
  {
   "cell_type": "code",
   "execution_count": null,
   "id": "2a34a54b-3ae2-44d6-8679-8769228c5b66",
   "metadata": {
    "execution": {
     "iopub.execute_input": "2023-05-15T09:46:28.471179Z",
     "iopub.status.busy": "2023-05-15T09:46:28.470985Z",
     "iopub.status.idle": "2023-05-15T09:46:28.492044Z",
     "shell.execute_reply": "2023-05-15T09:46:28.491726Z"
    },
    "papermill": {
     "duration": 0.025387,
     "end_time": "2023-05-15T09:46:28.492846",
     "exception": false,
     "start_time": "2023-05-15T09:46:28.467459",
     "status": "completed"
    },
    "tags": []
   },
   "outputs": [],
   "source": [
    "non_empty_barcodes = empty_drop_output[empty_drop_output[\"FDR\"] < 0.001].index\n",
    "dataset = dataset[dataset.obs.index.isin(non_empty_barcodes), :]\n",
    "dataset"
   ]
  },
  {
   "cell_type": "code",
   "execution_count": null,
   "id": "016a91e5-1bef-46fb-b91e-4fb9a6870c44",
   "metadata": {
    "execution": {
     "iopub.execute_input": "2023-05-15T09:46:28.498777Z",
     "iopub.status.busy": "2023-05-15T09:46:28.498588Z",
     "iopub.status.idle": "2023-05-15T09:46:30.897425Z",
     "shell.execute_reply": "2023-05-15T09:46:30.896959Z"
    },
    "papermill": {
     "duration": 2.403211,
     "end_time": "2023-05-15T09:46:30.898706",
     "exception": false,
     "start_time": "2023-05-15T09:46:28.495495",
     "status": "completed"
    },
    "tags": []
   },
   "outputs": [],
   "source": [
    "rna_assay = dataset.copy()\n",
    "sc.pp.normalize_per_cell(rna_assay)\n",
    "sc.pp.log1p(rna_assay)\n",
    "sc.pp.pca(rna_assay)\n",
    "sc.pp.neighbors(rna_assay)\n",
    "sc.tl.leiden(rna_assay, key_added=\"soupx_groups\")\n",
    "\n",
    "soupx_groups = rna_assay.obs[\"soupx_groups\"]\n",
    "\n",
    "del rna_assay\n",
    "\n",
    "genes = dataset.var_names\n",
    "cells = dataset.obs_names\n",
    "data = dataset.X.T.copy()"
   ]
  },
  {
   "cell_type": "code",
   "execution_count": null,
   "id": "9db4ea1f-1580-4f43-a3f0-86002397cd98",
   "metadata": {
    "execution": {
     "iopub.execute_input": "2023-05-15T09:46:31.003902Z",
     "iopub.status.busy": "2023-05-15T09:46:31.003458Z",
     "iopub.status.idle": "2023-05-15T09:46:36.247018Z",
     "shell.execute_reply": "2023-05-15T09:46:36.246424Z"
    },
    "papermill": {
     "duration": 5.249134,
     "end_time": "2023-05-15T09:46:36.248586",
     "exception": false,
     "start_time": "2023-05-15T09:46:30.999452",
     "status": "completed"
    },
    "tags": []
   },
   "outputs": [],
   "source": [
    "%%R -i data -i data_tod -i genes -i cells -i soupx_groups -o out \n",
    "set.seed(187)\n",
    "# specify row and column names of data\n",
    "rownames(data) = genes\n",
    "colnames(data) = cells\n",
    "# ensure correct sparse format for table of counts and table of droplets\n",
    "data <- as(data, \"sparseMatrix\")\n",
    "data_tod <- as(data_tod, \"sparseMatrix\")\n",
    "\n",
    "# Generate SoupChannel Object for SoupX \n",
    "sc = SoupChannel(data_tod, data, calcSoupProfile = FALSE)\n",
    "\n",
    "# Add extra meta data to the SoupChannel object\n",
    "soupProf = data.frame(row.names = rownames(data),\n",
    "                      est = rowSums(data)/sum(data),\n",
    "                      counts = rowSums(data))\n",
    "sc = setSoupProfile(sc, soupProf)\n",
    "# Set cluster information in SoupChannel\n",
    "sc = setClusters(sc, soupx_groups)\n",
    "\n",
    "# Estimate contamination fraction\n",
    "sc  = autoEstCont(sc, doPlot=FALSE, forceAccept = TRUE)\n",
    "# Infer corrected table of counts and rount to integer\n",
    "out = adjustCounts(sc, roundToInt = TRUE)"
   ]
  },
  {
   "cell_type": "code",
   "execution_count": null,
   "id": "32555d5e-5fa3-46dd-a4e0-ddc96ea265e2",
   "metadata": {
    "execution": {
     "iopub.execute_input": "2023-05-15T09:46:36.301135Z",
     "iopub.status.busy": "2023-05-15T09:46:36.300887Z",
     "iopub.status.idle": "2023-05-15T09:46:36.310737Z",
     "shell.execute_reply": "2023-05-15T09:46:36.310355Z"
    },
    "papermill": {
     "duration": 0.01463,
     "end_time": "2023-05-15T09:46:36.311647",
     "exception": false,
     "start_time": "2023-05-15T09:46:36.297017",
     "status": "completed"
    },
    "tags": []
   },
   "outputs": [],
   "source": [
    "dataset.layers[\"soupX_counts\"] = out.T\n",
    "dataset.X = dataset.layers[\"soupX_counts\"].copy()"
   ]
  },
  {
   "cell_type": "code",
   "execution_count": null,
   "id": "e27da7df-e094-4d2a-9109-5a363e012175",
   "metadata": {
    "execution": {
     "iopub.execute_input": "2023-05-15T09:46:36.352854Z",
     "iopub.status.busy": "2023-05-15T09:46:36.352645Z",
     "iopub.status.idle": "2023-05-15T09:46:36.355054Z",
     "shell.execute_reply": "2023-05-15T09:46:36.354733Z"
    },
    "papermill": {
     "duration": 0.006611,
     "end_time": "2023-05-15T09:46:36.355803",
     "exception": false,
     "start_time": "2023-05-15T09:46:36.349192",
     "status": "completed"
    },
    "tags": []
   },
   "outputs": [],
   "source": [
    "data_mat = dataset.X.T"
   ]
  },
  {
   "cell_type": "code",
   "execution_count": null,
   "id": "80a993b1-5ccb-4697-9187-1beb7ab8aff9",
   "metadata": {
    "execution": {
     "iopub.execute_input": "2023-05-15T09:46:36.361671Z",
     "iopub.status.busy": "2023-05-15T09:46:36.361500Z",
     "iopub.status.idle": "2023-05-15T09:46:48.488300Z",
     "shell.execute_reply": "2023-05-15T09:46:48.487722Z"
    },
    "papermill": {
     "duration": 12.131036,
     "end_time": "2023-05-15T09:46:48.489473",
     "exception": false,
     "start_time": "2023-05-15T09:46:36.358437",
     "status": "completed"
    },
    "tags": []
   },
   "outputs": [],
   "source": [
    "%%R -i data_mat -o droplet_class\n",
    "\n",
    "set.seed(187)\n",
    "sce = scDblFinder(\n",
    "    SingleCellExperiment(\n",
    "        list(counts=data_mat),\n",
    "    ) \n",
    ")\n",
    "droplet_class = sce$scDblFinder.class"
   ]
  },
  {
   "cell_type": "code",
   "execution_count": null,
   "id": "d4dd6e9d-fcf2-41fc-8457-c8e0a3cb2c71",
   "metadata": {
    "execution": {
     "iopub.execute_input": "2023-05-15T09:46:48.522964Z",
     "iopub.status.busy": "2023-05-15T09:46:48.522784Z",
     "iopub.status.idle": "2023-05-15T09:46:48.527888Z",
     "shell.execute_reply": "2023-05-15T09:46:48.527552Z"
    },
    "papermill": {
     "duration": 0.011239,
     "end_time": "2023-05-15T09:46:48.528617",
     "exception": false,
     "start_time": "2023-05-15T09:46:48.517378",
     "status": "completed"
    },
    "tags": []
   },
   "outputs": [],
   "source": [
    "dataset.obs[\"scDblFinder_class\"] = droplet_class\n",
    "dataset.obs.scDblFinder_class.value_counts()\n",
    "dataset"
   ]
  },
  {
   "cell_type": "code",
   "execution_count": null,
   "id": "28c95014-2d6c-477f-95cb-9f9f0507520c",
   "metadata": {
    "execution": {
     "iopub.execute_input": "2023-05-15T09:46:48.534597Z",
     "iopub.status.busy": "2023-05-15T09:46:48.534424Z",
     "iopub.status.idle": "2023-05-15T09:46:48.577239Z",
     "shell.execute_reply": "2023-05-15T09:46:48.576840Z"
    },
    "papermill": {
     "duration": 0.046836,
     "end_time": "2023-05-15T09:46:48.578169",
     "exception": false,
     "start_time": "2023-05-15T09:46:48.531333",
     "status": "completed"
    },
    "tags": []
   },
   "outputs": [],
   "source": [
    "dataset = dataset[dataset.obs[\"scDblFinder_class\"] == 1]"
   ]
  },
  {
   "cell_type": "code",
   "execution_count": null,
   "id": "3e22f9e0-bfcb-416c-a151-a9bca3bec3b9",
   "metadata": {
    "execution": {
     "iopub.execute_input": "2023-05-15T09:46:48.584184Z",
     "iopub.status.busy": "2023-05-15T09:46:48.584048Z",
     "iopub.status.idle": "2023-05-15T09:46:48.638108Z",
     "shell.execute_reply": "2023-05-15T09:46:48.637746Z"
    },
    "papermill": {
     "duration": 0.058132,
     "end_time": "2023-05-15T09:46:48.639057",
     "exception": false,
     "start_time": "2023-05-15T09:46:48.580925",
     "status": "completed"
    },
    "tags": []
   },
   "outputs": [],
   "source": [
    "# mitochondrial genes\n",
    "dataset.var[\"mt\"] = dataset.var_names.str.startswith(\"MT-\")\n",
    "# ribosomal genes\n",
    "dataset.var[\"ribo\"] = dataset.var_names.str.startswith((\"RPS\", \"RPL\"))\n",
    "# hemoglobin genes.\n",
    "dataset.var[\"hb\"] = dataset.var_names.str.contains((\"^HB[^(P)]\"))\n",
    "\n",
    "sc.pp.calculate_qc_metrics(dataset,\n",
    "                           qc_vars=['mt', 'ribo', 'hb'],\n",
    "                           percent_top=None,\n",
    "                           log1p=False,\n",
    "                           inplace=True)\n",
    "dataset"
   ]
  },
  {
   "cell_type": "code",
   "execution_count": null,
   "id": "34deee79-4043-428f-8575-aa57b45f6369",
   "metadata": {
    "execution": {
     "iopub.execute_input": "2023-05-15T09:46:48.671226Z",
     "iopub.status.busy": "2023-05-15T09:46:48.671069Z",
     "iopub.status.idle": "2023-05-15T09:46:49.217137Z",
     "shell.execute_reply": "2023-05-15T09:46:49.216676Z"
    },
    "papermill": {
     "duration": 0.550503,
     "end_time": "2023-05-15T09:46:49.218067",
     "exception": false,
     "start_time": "2023-05-15T09:46:48.667564",
     "status": "completed"
    },
    "tags": []
   },
   "outputs": [],
   "source": [
    "fig, ax = plt.subplots(ncols = 4, figsize = (16,4))\n",
    "axis = sc.pl.violin(dataset, \"n_genes_by_counts\", jitter = 0.4, ax = ax[0], show = False)\n",
    "axis.grid(False)\n",
    "axis.set_title(\"Unique Genes per cell\")\n",
    "axis.tick_params(axis = \"x\", bottom =False, labelbottom =False)\n",
    "axis.set_ylabel(\"# genes\")\n",
    "axis.axhline(y = 100, color = \"black\", label = \"cutoff\")\n",
    "axis.legend(fontsize = 14, loc = \"upper right\")\n",
    "\n",
    "axis = sc.pl.violin(dataset, \"pct_counts_mt\", jitter = 0.4, ax = ax[1], show = False)\n",
    "axis.grid(False)\n",
    "axis.set_title(\"Mitochondrial Fraction\")\n",
    "axis.tick_params(axis = \"x\", bottom =False, labelbottom =False)\n",
    "axis.set_ylabel(\"% mitochondrial genes\")\n",
    "axis.axhline(y = 10, color = \"black\", label = \"cutoff\")\n",
    "axis.legend(fontsize = 14, loc = \"upper right\")\n",
    "\n",
    "axis = sc.pl.violin(dataset, \"pct_counts_hb\", jitter = 0.4, ax = ax[2], show = False, size =2)\n",
    "axis.grid(False)\n",
    "axis.set_title(\"Hemoglobin Fraction\")\n",
    "axis.tick_params(axis = \"x\", bottom =False, labelbottom =False)\n",
    "axis.set_ylabel(\"% hemoglobin genes\")\n",
    "axis.axhline(y = 3, color = \"black\", label = \"cutoff\")\n",
    "axis.legend(fontsize = 14, loc = \"upper right\")\n",
    "#axis.set_ylim(0,5)\n",
    "\n",
    "axis = sc.pl.violin(dataset, \"pct_counts_ribo\", jitter = 0.4, ax = ax[3], show = False)\n",
    "axis.grid(False)\n",
    "axis.set_title(\"Ribosomal Fraction\")\n",
    "axis.tick_params(axis = \"x\", bottom =False, labelbottom =False)\n",
    "axis.set_ylabel(\"% ribosome genes\")\n",
    "\n",
    "plt.tight_layout()\n",
    "#plt.savefig(f\"{outputDir}08_gene_based_filtering.pdf\", dpi = 300)\n",
    "plt.show()\n",
    "\n"
   ]
  },
  {
   "cell_type": "code",
   "execution_count": null,
   "id": "d7ade754-843e-4840-8707-426613d8c0c5",
   "metadata": {
    "execution": {
     "iopub.execute_input": "2023-05-15T09:46:49.263775Z",
     "iopub.status.busy": "2023-05-15T09:46:49.263380Z",
     "iopub.status.idle": "2023-05-15T09:46:49.272264Z",
     "shell.execute_reply": "2023-05-15T09:46:49.271919Z"
    },
    "papermill": {
     "duration": 0.014097,
     "end_time": "2023-05-15T09:46:49.273033",
     "exception": false,
     "start_time": "2023-05-15T09:46:49.258936",
     "status": "completed"
    },
    "tags": []
   },
   "outputs": [],
   "source": [
    "dataset = dataset[dataset.obs.pct_counts_mt < 10, :]\n",
    "dataset = dataset[dataset.obs.n_genes_by_counts > 100, :]\n",
    "dataset = dataset[dataset.obs.pct_counts_hb < 3, :]\n",
    "dataset"
   ]
  },
  {
   "cell_type": "code",
   "execution_count": null,
   "id": "1941fa36-e865-4500-b586-f7a32d142c9b",
   "metadata": {
    "execution": {
     "iopub.execute_input": "2023-05-15T09:46:49.281339Z",
     "iopub.status.busy": "2023-05-15T09:46:49.281049Z",
     "iopub.status.idle": "2023-05-15T09:46:49.284785Z",
     "shell.execute_reply": "2023-05-15T09:46:49.284459Z"
    },
    "papermill": {
     "duration": 0.008702,
     "end_time": "2023-05-15T09:46:49.285542",
     "exception": false,
     "start_time": "2023-05-15T09:46:49.276840",
     "status": "completed"
    },
    "tags": []
   },
   "outputs": [],
   "source": [
    "metadata.columns"
   ]
  },
  {
   "cell_type": "code",
   "execution_count": null,
   "id": "2e0ff8c3-2aa9-4a01-9b88-5912a6734447",
   "metadata": {
    "execution": {
     "iopub.execute_input": "2023-05-15T09:46:49.293715Z",
     "iopub.status.busy": "2023-05-15T09:46:49.293556Z",
     "iopub.status.idle": "2023-05-15T09:46:49.312542Z",
     "shell.execute_reply": "2023-05-15T09:46:49.312172Z"
    },
    "papermill": {
     "duration": 0.024122,
     "end_time": "2023-05-15T09:46:49.313472",
     "exception": false,
     "start_time": "2023-05-15T09:46:49.289350",
     "status": "completed"
    },
    "tags": []
   },
   "outputs": [],
   "source": [
    "for col in metadata.columns:\n",
    "    dataset.obs[col] = metadata.loc[metadata[\"Run\"] == sample_name, col].to_list()[0]"
   ]
  },
  {
   "cell_type": "code",
   "execution_count": null,
   "id": "b84578d3-d63e-419c-a272-a0b8317d05ab",
   "metadata": {
    "execution": {
     "iopub.execute_input": "2023-05-15T09:46:49.322192Z",
     "iopub.status.busy": "2023-05-15T09:46:49.322024Z",
     "iopub.status.idle": "2023-05-15T09:46:49.938554Z",
     "shell.execute_reply": "2023-05-15T09:46:49.938141Z"
    },
    "papermill": {
     "duration": 0.622236,
     "end_time": "2023-05-15T09:46:49.939868",
     "exception": false,
     "start_time": "2023-05-15T09:46:49.317632",
     "status": "completed"
    },
    "tags": []
   },
   "outputs": [],
   "source": [
    "dataset.write(f\"../../int_data/{sample_name}_qc.h5ad\")"
   ]
  },
  {
   "cell_type": "code",
   "execution_count": null,
   "id": "501b33a0-432d-415f-ae82-50723484b85d",
   "metadata": {
    "execution": {
     "iopub.execute_input": "2023-05-15T09:46:50.006584Z",
     "iopub.status.busy": "2023-05-15T09:46:50.006349Z",
     "iopub.status.idle": "2023-05-15T09:46:50.009494Z",
     "shell.execute_reply": "2023-05-15T09:46:50.009176Z"
    },
    "papermill": {
     "duration": 0.008881,
     "end_time": "2023-05-15T09:46:50.010275",
     "exception": false,
     "start_time": "2023-05-15T09:46:50.001394",
     "status": "completed"
    },
    "tags": []
   },
   "outputs": [],
   "source": [
    "dataset"
   ]
  }
 ],
 "metadata": {
  "kernelspec": {
   "display_name": "py_R",
   "language": "python",
   "name": "python_r"
  },
  "language_info": {
   "codemirror_mode": {
    "name": "ipython",
    "version": 3
   },
   "file_extension": ".py",
   "mimetype": "text/x-python",
   "name": "python",
   "nbconvert_exporter": "python",
   "pygments_lexer": "ipython3",
   "version": "3.10.9"
  },
  "papermill": {
   "default_parameters": {},
   "duration": 164.241582,
   "end_time": "2023-05-15T09:46:51.531381",
   "environment_variables": {},
   "exception": null,
   "input_path": "template.ipynb",
   "output_path": "SRR13329124.ipynb",
   "parameters": {
    "sample_name": "SRR13329124"
   },
   "start_time": "2023-05-15T09:44:07.289799",
   "version": "2.4.0"
  }
 },
 "nbformat": 4,
 "nbformat_minor": 5
}
