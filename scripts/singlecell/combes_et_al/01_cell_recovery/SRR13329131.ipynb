{
 "cells": [
  {
   "cell_type": "code",
   "execution_count": null,
   "id": "4c0f2fa8-5232-4f47-a7ec-6c9bbabe50e2",
   "metadata": {
    "execution": {
     "iopub.execute_input": "2023-05-15T08:01:18.221072Z",
     "iopub.status.busy": "2023-05-15T08:01:18.220907Z",
     "iopub.status.idle": "2023-05-15T08:01:18.225348Z",
     "shell.execute_reply": "2023-05-15T08:01:18.225043Z"
    },
    "papermill": {
     "duration": 0.008829,
     "end_time": "2023-05-15T08:01:18.226157",
     "exception": false,
     "start_time": "2023-05-15T08:01:18.217328",
     "status": "completed"
    },
    "tags": [
     "parameters"
    ]
   },
   "outputs": [],
   "source": [
    "sample_name = \"SRR13329143\""
   ]
  },
  {
   "cell_type": "code",
   "execution_count": null,
   "id": "ddd19519",
   "metadata": {
    "execution": {
     "iopub.execute_input": "2023-05-15T08:01:18.231408Z",
     "iopub.status.busy": "2023-05-15T08:01:18.231137Z",
     "iopub.status.idle": "2023-05-15T08:01:18.233067Z",
     "shell.execute_reply": "2023-05-15T08:01:18.232777Z"
    },
    "papermill": {
     "duration": 0.005347,
     "end_time": "2023-05-15T08:01:18.233855",
     "exception": false,
     "start_time": "2023-05-15T08:01:18.228508",
     "status": "completed"
    },
    "tags": [
     "injected-parameters"
    ]
   },
   "outputs": [],
   "source": [
    "# Parameters\n",
    "sample_name = \"SRR13329131\"\n"
   ]
  },
  {
   "cell_type": "code",
   "execution_count": null,
   "id": "f87ed95b-2b67-4a5a-8fe2-47359b1dd2a9",
   "metadata": {
    "execution": {
     "iopub.execute_input": "2023-05-15T08:01:18.238946Z",
     "iopub.status.busy": "2023-05-15T08:01:18.238734Z",
     "iopub.status.idle": "2023-05-15T08:01:18.240831Z",
     "shell.execute_reply": "2023-05-15T08:01:18.240544Z"
    },
    "papermill": {
     "duration": 0.005506,
     "end_time": "2023-05-15T08:01:18.241602",
     "exception": false,
     "start_time": "2023-05-15T08:01:18.236096",
     "status": "completed"
    },
    "tags": []
   },
   "outputs": [],
   "source": [
    "import warnings\n",
    "warnings.simplefilter(action='ignore', category=FutureWarning)\n",
    "warnings.simplefilter(action='ignore', category=UserWarning)"
   ]
  },
  {
   "cell_type": "code",
   "execution_count": null,
   "id": "85161f19-b2c5-490b-8cab-c2cf9653b304",
   "metadata": {
    "execution": {
     "iopub.execute_input": "2023-05-15T08:01:18.246909Z",
     "iopub.status.busy": "2023-05-15T08:01:18.246677Z",
     "iopub.status.idle": "2023-05-15T08:01:22.375251Z",
     "shell.execute_reply": "2023-05-15T08:01:22.374802Z"
    },
    "papermill": {
     "duration": 4.132694,
     "end_time": "2023-05-15T08:01:22.376630",
     "exception": false,
     "start_time": "2023-05-15T08:01:18.243936",
     "status": "completed"
    },
    "tags": []
   },
   "outputs": [],
   "source": [
    "import gc\n",
    "import scanpy as sc\n",
    "import muon as mu\n",
    "import seaborn as sns\n",
    "import os\n",
    "import pandas as pd\n",
    "from matplotlib import pyplot as plt\n",
    "\n",
    "os.environ['R_HOME'] = '/gpfs/bwfor/work/ws/hd_fu399-conda/conda/envs/python_R/lib/R/'\n",
    "import anndata2ri\n",
    "import logging\n",
    "\n",
    "import rpy2.rinterface_lib.callbacks as rcb\n",
    "import rpy2.robjects as ro\n",
    "\n",
    "rcb.logger.setLevel(logging.ERROR)\n",
    "ro.pandas2ri.activate()\n",
    "anndata2ri.activate()\n",
    "\n",
    "%load_ext rpy2.ipython"
   ]
  },
  {
   "cell_type": "code",
   "execution_count": null,
   "id": "fc4ade78-b728-4704-9db6-45fbaab62ba1",
   "metadata": {
    "execution": {
     "iopub.execute_input": "2023-05-15T08:01:22.385928Z",
     "iopub.status.busy": "2023-05-15T08:01:22.385668Z",
     "iopub.status.idle": "2023-05-15T08:01:32.346757Z",
     "shell.execute_reply": "2023-05-15T08:01:32.346189Z"
    },
    "papermill": {
     "duration": 9.965432,
     "end_time": "2023-05-15T08:01:32.348120",
     "exception": false,
     "start_time": "2023-05-15T08:01:22.382688",
     "status": "completed"
    },
    "tags": []
   },
   "outputs": [],
   "source": [
    "%%R\n",
    "library(SoupX)\n",
    "library(Seurat)\n",
    "library(scater)\n",
    "library(scDblFinder)\n",
    "library(BiocParallel)\n",
    "library(MuDataSeurat)\n",
    "library(DropletUtils)"
   ]
  },
  {
   "cell_type": "code",
   "execution_count": null,
   "id": "f7424d90-7690-4290-8651-1db3f9df3a35",
   "metadata": {
    "execution": {
     "iopub.execute_input": "2023-05-15T08:01:32.356713Z",
     "iopub.status.busy": "2023-05-15T08:01:32.356560Z",
     "iopub.status.idle": "2023-05-15T08:01:32.363455Z",
     "shell.execute_reply": "2023-05-15T08:01:32.363130Z"
    },
    "papermill": {
     "duration": 0.011131,
     "end_time": "2023-05-15T08:01:32.364267",
     "exception": false,
     "start_time": "2023-05-15T08:01:32.353136",
     "status": "completed"
    },
    "tags": []
   },
   "outputs": [],
   "source": [
    "metadata = pd.read_csv(\"../../combes_metadata.txt\")"
   ]
  },
  {
   "cell_type": "code",
   "execution_count": null,
   "id": "2574ecf1-bad4-4c33-8f3f-718a358727ab",
   "metadata": {
    "execution": {
     "iopub.execute_input": "2023-05-15T08:01:32.369794Z",
     "iopub.status.busy": "2023-05-15T08:01:32.369553Z",
     "iopub.status.idle": "2023-05-15T08:01:32.371592Z",
     "shell.execute_reply": "2023-05-15T08:01:32.371276Z"
    },
    "papermill": {
     "duration": 0.00568,
     "end_time": "2023-05-15T08:01:32.372368",
     "exception": false,
     "start_time": "2023-05-15T08:01:32.366688",
     "status": "completed"
    },
    "tags": []
   },
   "outputs": [],
   "source": [
    "raw_input = f\"/home/hd/hd_hd/hd_fu399/sds-hd/sd21k006/scRNAseq/revision_natcomm/combes_et_al/fetchngs/results/fastq/{sample_name}/{sample_name}/outs/raw_feature_bc_matrix.h5\""
   ]
  },
  {
   "cell_type": "code",
   "execution_count": null,
   "id": "e266d388-1802-435c-93a5-90067358739c",
   "metadata": {
    "execution": {
     "iopub.execute_input": "2023-05-15T08:01:32.377975Z",
     "iopub.status.busy": "2023-05-15T08:01:32.377742Z",
     "iopub.status.idle": "2023-05-15T08:01:32.862875Z",
     "shell.execute_reply": "2023-05-15T08:01:32.862422Z"
    },
    "papermill": {
     "duration": 0.489029,
     "end_time": "2023-05-15T08:01:32.863809",
     "exception": false,
     "start_time": "2023-05-15T08:01:32.374780",
     "status": "completed"
    },
    "tags": []
   },
   "outputs": [],
   "source": [
    "dataset = sc.read_10x_h5(raw_input)\n",
    "dataset.var_names_make_unique()\n",
    "dataset.obs_names_make_unique()\n",
    "\n",
    "dataset.layers[\"raw_counts\"] = dataset.X.copy()\n",
    "data_tod = dataset.layers[\"raw_counts\"].T.copy()\n",
    "\n",
    "dataset"
   ]
  },
  {
   "cell_type": "code",
   "execution_count": null,
   "id": "af9f5892-ed31-42a6-991b-4e096f582cef",
   "metadata": {
    "execution": {
     "iopub.execute_input": "2023-05-15T08:01:32.870256Z",
     "iopub.status.busy": "2023-05-15T08:01:32.870074Z",
     "iopub.status.idle": "2023-05-15T08:01:32.912969Z",
     "shell.execute_reply": "2023-05-15T08:01:32.912467Z"
    },
    "papermill": {
     "duration": 0.047433,
     "end_time": "2023-05-15T08:01:32.914319",
     "exception": false,
     "start_time": "2023-05-15T08:01:32.866886",
     "status": "completed"
    },
    "tags": []
   },
   "outputs": [],
   "source": [
    "sce = dataset.copy()"
   ]
  },
  {
   "cell_type": "code",
   "execution_count": null,
   "id": "d03f2caf-8e74-430e-b045-0ab80401d165",
   "metadata": {
    "execution": {
     "iopub.execute_input": "2023-05-15T08:01:32.920532Z",
     "iopub.status.busy": "2023-05-15T08:01:32.920359Z",
     "iopub.status.idle": "2023-05-15T08:02:26.688437Z",
     "shell.execute_reply": "2023-05-15T08:02:26.687822Z"
    },
    "papermill": {
     "duration": 53.772719,
     "end_time": "2023-05-15T08:02:26.689903",
     "exception": false,
     "start_time": "2023-05-15T08:01:32.917184",
     "status": "completed"
    },
    "tags": []
   },
   "outputs": [],
   "source": [
    "%%R -i sce -o empty_drop_output\n",
    "set.seed(187)\n",
    "empty_drop_output <- emptyDrops(assay(sce))"
   ]
  },
  {
   "cell_type": "code",
   "execution_count": null,
   "id": "2a34a54b-3ae2-44d6-8679-8769228c5b66",
   "metadata": {
    "execution": {
     "iopub.execute_input": "2023-05-15T08:02:26.697974Z",
     "iopub.status.busy": "2023-05-15T08:02:26.697824Z",
     "iopub.status.idle": "2023-05-15T08:02:26.723146Z",
     "shell.execute_reply": "2023-05-15T08:02:26.722826Z"
    },
    "papermill": {
     "duration": 0.029505,
     "end_time": "2023-05-15T08:02:26.724027",
     "exception": false,
     "start_time": "2023-05-15T08:02:26.694522",
     "status": "completed"
    },
    "tags": []
   },
   "outputs": [],
   "source": [
    "non_empty_barcodes = empty_drop_output[empty_drop_output[\"FDR\"] < 0.001].index\n",
    "dataset = dataset[dataset.obs.index.isin(non_empty_barcodes), :]\n",
    "dataset"
   ]
  },
  {
   "cell_type": "code",
   "execution_count": null,
   "id": "016a91e5-1bef-46fb-b91e-4fb9a6870c44",
   "metadata": {
    "execution": {
     "iopub.execute_input": "2023-05-15T08:02:26.730043Z",
     "iopub.status.busy": "2023-05-15T08:02:26.729885Z",
     "iopub.status.idle": "2023-05-15T08:02:31.555599Z",
     "shell.execute_reply": "2023-05-15T08:02:31.555117Z"
    },
    "papermill": {
     "duration": 4.83014,
     "end_time": "2023-05-15T08:02:31.556885",
     "exception": false,
     "start_time": "2023-05-15T08:02:26.726745",
     "status": "completed"
    },
    "tags": []
   },
   "outputs": [],
   "source": [
    "rna_assay = dataset.copy()\n",
    "sc.pp.normalize_per_cell(rna_assay)\n",
    "sc.pp.log1p(rna_assay)\n",
    "sc.pp.pca(rna_assay)\n",
    "sc.pp.neighbors(rna_assay)\n",
    "sc.tl.leiden(rna_assay, key_added=\"soupx_groups\")\n",
    "\n",
    "soupx_groups = rna_assay.obs[\"soupx_groups\"]\n",
    "\n",
    "del rna_assay\n",
    "\n",
    "genes = dataset.var_names\n",
    "cells = dataset.obs_names\n",
    "data = dataset.X.T.copy()"
   ]
  },
  {
   "cell_type": "code",
   "execution_count": null,
   "id": "9db4ea1f-1580-4f43-a3f0-86002397cd98",
   "metadata": {
    "execution": {
     "iopub.execute_input": "2023-05-15T08:02:31.565320Z",
     "iopub.status.busy": "2023-05-15T08:02:31.565122Z",
     "iopub.status.idle": "2023-05-15T08:02:44.051457Z",
     "shell.execute_reply": "2023-05-15T08:02:44.050958Z"
    },
    "papermill": {
     "duration": 12.491069,
     "end_time": "2023-05-15T08:02:44.052889",
     "exception": false,
     "start_time": "2023-05-15T08:02:31.561820",
     "status": "completed"
    },
    "tags": []
   },
   "outputs": [],
   "source": [
    "%%R -i data -i data_tod -i genes -i cells -i soupx_groups -o out \n",
    "set.seed(187)\n",
    "# specify row and column names of data\n",
    "rownames(data) = genes\n",
    "colnames(data) = cells\n",
    "# ensure correct sparse format for table of counts and table of droplets\n",
    "data <- as(data, \"sparseMatrix\")\n",
    "data_tod <- as(data_tod, \"sparseMatrix\")\n",
    "\n",
    "# Generate SoupChannel Object for SoupX \n",
    "sc = SoupChannel(data_tod, data, calcSoupProfile = FALSE)\n",
    "\n",
    "# Add extra meta data to the SoupChannel object\n",
    "soupProf = data.frame(row.names = rownames(data),\n",
    "                      est = rowSums(data)/sum(data),\n",
    "                      counts = rowSums(data))\n",
    "sc = setSoupProfile(sc, soupProf)\n",
    "# Set cluster information in SoupChannel\n",
    "sc = setClusters(sc, soupx_groups)\n",
    "\n",
    "# Estimate contamination fraction\n",
    "sc  = autoEstCont(sc, doPlot=FALSE, forceAccept = TRUE)\n",
    "# Infer corrected table of counts and rount to integer\n",
    "out = adjustCounts(sc, roundToInt = TRUE)"
   ]
  },
  {
   "cell_type": "code",
   "execution_count": null,
   "id": "32555d5e-5fa3-46dd-a4e0-ddc96ea265e2",
   "metadata": {
    "execution": {
     "iopub.execute_input": "2023-05-15T08:02:44.062197Z",
     "iopub.status.busy": "2023-05-15T08:02:44.061999Z",
     "iopub.status.idle": "2023-05-15T08:02:44.091614Z",
     "shell.execute_reply": "2023-05-15T08:02:44.091148Z"
    },
    "papermill": {
     "duration": 0.034827,
     "end_time": "2023-05-15T08:02:44.092934",
     "exception": false,
     "start_time": "2023-05-15T08:02:44.058107",
     "status": "completed"
    },
    "tags": []
   },
   "outputs": [],
   "source": [
    "dataset.layers[\"soupX_counts\"] = out.T\n",
    "dataset.X = dataset.layers[\"soupX_counts\"].copy()"
   ]
  },
  {
   "cell_type": "code",
   "execution_count": null,
   "id": "e27da7df-e094-4d2a-9109-5a363e012175",
   "metadata": {
    "execution": {
     "iopub.execute_input": "2023-05-15T08:02:44.099645Z",
     "iopub.status.busy": "2023-05-15T08:02:44.099451Z",
     "iopub.status.idle": "2023-05-15T08:02:44.101887Z",
     "shell.execute_reply": "2023-05-15T08:02:44.101551Z"
    },
    "papermill": {
     "duration": 0.006571,
     "end_time": "2023-05-15T08:02:44.102695",
     "exception": false,
     "start_time": "2023-05-15T08:02:44.096124",
     "status": "completed"
    },
    "tags": []
   },
   "outputs": [],
   "source": [
    "data_mat = dataset.X.T"
   ]
  },
  {
   "cell_type": "code",
   "execution_count": null,
   "id": "80a993b1-5ccb-4697-9187-1beb7ab8aff9",
   "metadata": {
    "execution": {
     "iopub.execute_input": "2023-05-15T08:02:44.109304Z",
     "iopub.status.busy": "2023-05-15T08:02:44.109160Z",
     "iopub.status.idle": "2023-05-15T08:03:00.698936Z",
     "shell.execute_reply": "2023-05-15T08:03:00.698468Z"
    },
    "papermill": {
     "duration": 16.594827,
     "end_time": "2023-05-15T08:03:00.700302",
     "exception": false,
     "start_time": "2023-05-15T08:02:44.105475",
     "status": "completed"
    },
    "tags": []
   },
   "outputs": [],
   "source": [
    "%%R -i data_mat -o droplet_class\n",
    "\n",
    "set.seed(187)\n",
    "sce = scDblFinder(\n",
    "    SingleCellExperiment(\n",
    "        list(counts=data_mat),\n",
    "    ) \n",
    ")\n",
    "droplet_class = sce$scDblFinder.class"
   ]
  },
  {
   "cell_type": "code",
   "execution_count": null,
   "id": "d4dd6e9d-fcf2-41fc-8457-c8e0a3cb2c71",
   "metadata": {
    "execution": {
     "iopub.execute_input": "2023-05-15T08:03:00.709145Z",
     "iopub.status.busy": "2023-05-15T08:03:00.708983Z",
     "iopub.status.idle": "2023-05-15T08:03:00.713231Z",
     "shell.execute_reply": "2023-05-15T08:03:00.712903Z"
    },
    "papermill": {
     "duration": 0.008575,
     "end_time": "2023-05-15T08:03:00.714025",
     "exception": false,
     "start_time": "2023-05-15T08:03:00.705450",
     "status": "completed"
    },
    "tags": []
   },
   "outputs": [],
   "source": [
    "dataset.obs[\"scDblFinder_class\"] = droplet_class\n",
    "dataset.obs.scDblFinder_class.value_counts()\n",
    "dataset"
   ]
  },
  {
   "cell_type": "code",
   "execution_count": null,
   "id": "28c95014-2d6c-477f-95cb-9f9f0507520c",
   "metadata": {
    "execution": {
     "iopub.execute_input": "2023-05-15T08:03:00.720446Z",
     "iopub.status.busy": "2023-05-15T08:03:00.720152Z",
     "iopub.status.idle": "2023-05-15T08:03:00.724342Z",
     "shell.execute_reply": "2023-05-15T08:03:00.723999Z"
    },
    "papermill": {
     "duration": 0.008289,
     "end_time": "2023-05-15T08:03:00.725145",
     "exception": false,
     "start_time": "2023-05-15T08:03:00.716856",
     "status": "completed"
    },
    "tags": []
   },
   "outputs": [],
   "source": [
    "dataset = dataset[dataset.obs[\"scDblFinder_class\"] == 1]"
   ]
  },
  {
   "cell_type": "code",
   "execution_count": null,
   "id": "3e22f9e0-bfcb-416c-a151-a9bca3bec3b9",
   "metadata": {
    "execution": {
     "iopub.execute_input": "2023-05-15T08:03:00.732011Z",
     "iopub.status.busy": "2023-05-15T08:03:00.731851Z",
     "iopub.status.idle": "2023-05-15T08:03:00.877241Z",
     "shell.execute_reply": "2023-05-15T08:03:00.876800Z"
    },
    "papermill": {
     "duration": 0.149715,
     "end_time": "2023-05-15T08:03:00.878182",
     "exception": false,
     "start_time": "2023-05-15T08:03:00.728467",
     "status": "completed"
    },
    "tags": []
   },
   "outputs": [],
   "source": [
    "# mitochondrial genes\n",
    "dataset.var[\"mt\"] = dataset.var_names.str.startswith(\"MT-\")\n",
    "# ribosomal genes\n",
    "dataset.var[\"ribo\"] = dataset.var_names.str.startswith((\"RPS\", \"RPL\"))\n",
    "# hemoglobin genes.\n",
    "dataset.var[\"hb\"] = dataset.var_names.str.contains((\"^HB[^(P)]\"))\n",
    "\n",
    "sc.pp.calculate_qc_metrics(dataset,\n",
    "                           qc_vars=['mt', 'ribo', 'hb'],\n",
    "                           percent_top=None,\n",
    "                           log1p=False,\n",
    "                           inplace=True)\n",
    "dataset"
   ]
  },
  {
   "cell_type": "code",
   "execution_count": null,
   "id": "34deee79-4043-428f-8575-aa57b45f6369",
   "metadata": {
    "execution": {
     "iopub.execute_input": "2023-05-15T08:03:00.885587Z",
     "iopub.status.busy": "2023-05-15T08:03:00.885416Z",
     "iopub.status.idle": "2023-05-15T08:03:01.366278Z",
     "shell.execute_reply": "2023-05-15T08:03:01.365853Z"
    },
    "papermill": {
     "duration": 0.485367,
     "end_time": "2023-05-15T08:03:01.367131",
     "exception": false,
     "start_time": "2023-05-15T08:03:00.881764",
     "status": "completed"
    },
    "tags": []
   },
   "outputs": [],
   "source": [
    "fig, ax = plt.subplots(ncols = 4, figsize = (16,4))\n",
    "axis = sc.pl.violin(dataset, \"n_genes_by_counts\", jitter = 0.4, ax = ax[0], show = False)\n",
    "axis.grid(False)\n",
    "axis.set_title(\"Unique Genes per cell\")\n",
    "axis.tick_params(axis = \"x\", bottom =False, labelbottom =False)\n",
    "axis.set_ylabel(\"# genes\")\n",
    "axis.axhline(y = 100, color = \"black\", label = \"cutoff\")\n",
    "axis.legend(fontsize = 14, loc = \"upper right\")\n",
    "\n",
    "axis = sc.pl.violin(dataset, \"pct_counts_mt\", jitter = 0.4, ax = ax[1], show = False)\n",
    "axis.grid(False)\n",
    "axis.set_title(\"Mitochondrial Fraction\")\n",
    "axis.tick_params(axis = \"x\", bottom =False, labelbottom =False)\n",
    "axis.set_ylabel(\"% mitochondrial genes\")\n",
    "axis.axhline(y = 10, color = \"black\", label = \"cutoff\")\n",
    "axis.legend(fontsize = 14, loc = \"upper right\")\n",
    "\n",
    "axis = sc.pl.violin(dataset, \"pct_counts_hb\", jitter = 0.4, ax = ax[2], show = False, size =2)\n",
    "axis.grid(False)\n",
    "axis.set_title(\"Hemoglobin Fraction\")\n",
    "axis.tick_params(axis = \"x\", bottom =False, labelbottom =False)\n",
    "axis.set_ylabel(\"% hemoglobin genes\")\n",
    "axis.axhline(y = 3, color = \"black\", label = \"cutoff\")\n",
    "axis.legend(fontsize = 14, loc = \"upper right\")\n",
    "#axis.set_ylim(0,5)\n",
    "\n",
    "axis = sc.pl.violin(dataset, \"pct_counts_ribo\", jitter = 0.4, ax = ax[3], show = False)\n",
    "axis.grid(False)\n",
    "axis.set_title(\"Ribosomal Fraction\")\n",
    "axis.tick_params(axis = \"x\", bottom =False, labelbottom =False)\n",
    "axis.set_ylabel(\"% ribosome genes\")\n",
    "\n",
    "plt.tight_layout()\n",
    "#plt.savefig(f\"{outputDir}08_gene_based_filtering.pdf\", dpi = 300)\n",
    "plt.show()\n",
    "\n"
   ]
  },
  {
   "cell_type": "code",
   "execution_count": null,
   "id": "d7ade754-843e-4840-8707-426613d8c0c5",
   "metadata": {
    "execution": {
     "iopub.execute_input": "2023-05-15T08:03:01.376127Z",
     "iopub.status.busy": "2023-05-15T08:03:01.375976Z",
     "iopub.status.idle": "2023-05-15T08:03:01.384846Z",
     "shell.execute_reply": "2023-05-15T08:03:01.384520Z"
    },
    "papermill": {
     "duration": 0.014068,
     "end_time": "2023-05-15T08:03:01.385613",
     "exception": false,
     "start_time": "2023-05-15T08:03:01.371545",
     "status": "completed"
    },
    "tags": []
   },
   "outputs": [],
   "source": [
    "dataset = dataset[dataset.obs.pct_counts_mt < 10, :]\n",
    "dataset = dataset[dataset.obs.n_genes_by_counts > 100, :]\n",
    "dataset = dataset[dataset.obs.pct_counts_hb < 3, :]\n",
    "dataset"
   ]
  },
  {
   "cell_type": "code",
   "execution_count": null,
   "id": "1941fa36-e865-4500-b586-f7a32d142c9b",
   "metadata": {
    "execution": {
     "iopub.execute_input": "2023-05-15T08:03:01.394193Z",
     "iopub.status.busy": "2023-05-15T08:03:01.394030Z",
     "iopub.status.idle": "2023-05-15T08:03:01.396851Z",
     "shell.execute_reply": "2023-05-15T08:03:01.396548Z"
    },
    "papermill": {
     "duration": 0.008056,
     "end_time": "2023-05-15T08:03:01.397629",
     "exception": false,
     "start_time": "2023-05-15T08:03:01.389573",
     "status": "completed"
    },
    "tags": []
   },
   "outputs": [],
   "source": [
    "metadata.columns"
   ]
  },
  {
   "cell_type": "code",
   "execution_count": null,
   "id": "2e0ff8c3-2aa9-4a01-9b88-5912a6734447",
   "metadata": {
    "execution": {
     "iopub.execute_input": "2023-05-15T08:03:01.406530Z",
     "iopub.status.busy": "2023-05-15T08:03:01.406278Z",
     "iopub.status.idle": "2023-05-15T08:03:01.449445Z",
     "shell.execute_reply": "2023-05-15T08:03:01.449042Z"
    },
    "papermill": {
     "duration": 0.048886,
     "end_time": "2023-05-15T08:03:01.450640",
     "exception": false,
     "start_time": "2023-05-15T08:03:01.401754",
     "status": "completed"
    },
    "tags": []
   },
   "outputs": [],
   "source": [
    "for col in metadata.columns:\n",
    "    dataset.obs[col] = metadata.loc[metadata[\"Run\"] == sample_name, col].to_list()[0]"
   ]
  },
  {
   "cell_type": "code",
   "execution_count": null,
   "id": "b84578d3-d63e-419c-a272-a0b8317d05ab",
   "metadata": {
    "execution": {
     "iopub.execute_input": "2023-05-15T08:03:01.459885Z",
     "iopub.status.busy": "2023-05-15T08:03:01.459696Z",
     "iopub.status.idle": "2023-05-15T08:03:02.046570Z",
     "shell.execute_reply": "2023-05-15T08:03:02.046058Z"
    },
    "papermill": {
     "duration": 0.592825,
     "end_time": "2023-05-15T08:03:02.047827",
     "exception": false,
     "start_time": "2023-05-15T08:03:01.455002",
     "status": "completed"
    },
    "tags": []
   },
   "outputs": [],
   "source": [
    "dataset.write(f\"../../int_data/{sample_name}_qc.h5ad\")"
   ]
  },
  {
   "cell_type": "code",
   "execution_count": null,
   "id": "501b33a0-432d-415f-ae82-50723484b85d",
   "metadata": {
    "execution": {
     "iopub.execute_input": "2023-05-15T08:03:02.057396Z",
     "iopub.status.busy": "2023-05-15T08:03:02.057202Z",
     "iopub.status.idle": "2023-05-15T08:03:02.060246Z",
     "shell.execute_reply": "2023-05-15T08:03:02.059917Z"
    },
    "papermill": {
     "duration": 0.008621,
     "end_time": "2023-05-15T08:03:02.061096",
     "exception": false,
     "start_time": "2023-05-15T08:03:02.052475",
     "status": "completed"
    },
    "tags": []
   },
   "outputs": [],
   "source": [
    "dataset"
   ]
  }
 ],
 "metadata": {
  "kernelspec": {
   "display_name": "py_R",
   "language": "python",
   "name": "python_r"
  },
  "language_info": {
   "codemirror_mode": {
    "name": "ipython",
    "version": 3
   },
   "file_extension": ".py",
   "mimetype": "text/x-python",
   "name": "python",
   "nbconvert_exporter": "python",
   "pygments_lexer": "ipython3",
   "version": "3.10.9"
  },
  "papermill": {
   "default_parameters": {},
   "duration": 106.118929,
   "end_time": "2023-05-15T08:03:03.485176",
   "environment_variables": {},
   "exception": null,
   "input_path": "template.ipynb",
   "output_path": "SRR13329131.ipynb",
   "parameters": {
    "sample_name": "SRR13329131"
   },
   "start_time": "2023-05-15T08:01:17.366247",
   "version": "2.4.0"
  }
 },
 "nbformat": 4,
 "nbformat_minor": 5
}
