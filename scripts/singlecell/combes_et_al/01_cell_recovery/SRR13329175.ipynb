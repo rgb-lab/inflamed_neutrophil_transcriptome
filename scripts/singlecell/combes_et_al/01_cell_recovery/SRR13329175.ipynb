{
 "cells": [
  {
   "cell_type": "code",
   "execution_count": null,
   "id": "084a5cf5",
   "metadata": {
    "execution": {
     "iopub.execute_input": "2023-05-15T09:24:21.497559Z",
     "iopub.status.busy": "2023-05-15T09:24:21.497436Z",
     "iopub.status.idle": "2023-05-15T09:24:21.499406Z",
     "shell.execute_reply": "2023-05-15T09:24:21.499114Z"
    },
    "papermill": {
     "duration": 0.005402,
     "end_time": "2023-05-15T09:24:21.500193",
     "exception": false,
     "start_time": "2023-05-15T09:24:21.494791",
     "status": "completed"
    },
    "tags": [
     "injected-parameters"
    ]
   },
   "outputs": [],
   "source": [
    "# Parameters\n",
    "sample_name = \"SRR13329175\"\n"
   ]
  },
  {
   "cell_type": "code",
   "execution_count": null,
   "id": "f87ed95b-2b67-4a5a-8fe2-47359b1dd2a9",
   "metadata": {
    "execution": {
     "iopub.execute_input": "2023-05-15T09:24:21.505348Z",
     "iopub.status.busy": "2023-05-15T09:24:21.505207Z",
     "iopub.status.idle": "2023-05-15T09:24:21.508274Z",
     "shell.execute_reply": "2023-05-15T09:24:21.507984Z"
    },
    "papermill": {
     "duration": 0.006513,
     "end_time": "2023-05-15T09:24:21.509017",
     "exception": false,
     "start_time": "2023-05-15T09:24:21.502504",
     "status": "completed"
    },
    "tags": []
   },
   "outputs": [],
   "source": [
    "import warnings\n",
    "warnings.simplefilter(action='ignore', category=FutureWarning)\n",
    "warnings.simplefilter(action='ignore', category=UserWarning)"
   ]
  },
  {
   "cell_type": "code",
   "execution_count": null,
   "id": "85161f19-b2c5-490b-8cab-c2cf9653b304",
   "metadata": {
    "execution": {
     "iopub.execute_input": "2023-05-15T09:24:21.514830Z",
     "iopub.status.busy": "2023-05-15T09:24:21.514691Z",
     "iopub.status.idle": "2023-05-15T09:24:26.348867Z",
     "shell.execute_reply": "2023-05-15T09:24:26.348412Z"
    },
    "papermill": {
     "duration": 4.838725,
     "end_time": "2023-05-15T09:24:26.350143",
     "exception": false,
     "start_time": "2023-05-15T09:24:21.511418",
     "status": "completed"
    },
    "tags": []
   },
   "outputs": [],
   "source": [
    "import gc\n",
    "import scanpy as sc\n",
    "import muon as mu\n",
    "import seaborn as sns\n",
    "import os\n",
    "import pandas as pd\n",
    "from matplotlib import pyplot as plt\n",
    "\n",
    "os.environ['R_HOME'] = '/gpfs/bwfor/work/ws/hd_fu399-conda/conda/envs/python_R/lib/R/'\n",
    "import anndata2ri\n",
    "import logging\n",
    "\n",
    "import rpy2.rinterface_lib.callbacks as rcb\n",
    "import rpy2.robjects as ro\n",
    "\n",
    "rcb.logger.setLevel(logging.ERROR)\n",
    "ro.pandas2ri.activate()\n",
    "anndata2ri.activate()\n",
    "\n",
    "%load_ext rpy2.ipython"
   ]
  },
  {
   "cell_type": "code",
   "execution_count": null,
   "id": "fc4ade78-b728-4704-9db6-45fbaab62ba1",
   "metadata": {
    "execution": {
     "iopub.execute_input": "2023-05-15T09:24:26.356278Z",
     "iopub.status.busy": "2023-05-15T09:24:26.355978Z",
     "iopub.status.idle": "2023-05-15T09:24:38.168580Z",
     "shell.execute_reply": "2023-05-15T09:24:38.168087Z"
    },
    "papermill": {
     "duration": 11.81692,
     "end_time": "2023-05-15T09:24:38.169913",
     "exception": false,
     "start_time": "2023-05-15T09:24:26.352993",
     "status": "completed"
    },
    "tags": []
   },
   "outputs": [],
   "source": [
    "%%R\n",
    "library(SoupX)\n",
    "library(Seurat)\n",
    "library(scater)\n",
    "library(scDblFinder)\n",
    "library(BiocParallel)\n",
    "library(MuDataSeurat)\n",
    "library(DropletUtils)"
   ]
  },
  {
   "cell_type": "code",
   "execution_count": null,
   "id": "f7424d90-7690-4290-8651-1db3f9df3a35",
   "metadata": {
    "execution": {
     "iopub.execute_input": "2023-05-15T09:24:38.178147Z",
     "iopub.status.busy": "2023-05-15T09:24:38.177997Z",
     "iopub.status.idle": "2023-05-15T09:24:38.183603Z",
     "shell.execute_reply": "2023-05-15T09:24:38.183281Z"
    },
    "papermill": {
     "duration": 0.009526,
     "end_time": "2023-05-15T09:24:38.184382",
     "exception": false,
     "start_time": "2023-05-15T09:24:38.174856",
     "status": "completed"
    },
    "tags": []
   },
   "outputs": [],
   "source": [
    "metadata = pd.read_csv(\"../../combes_metadata.txt\")"
   ]
  },
  {
   "cell_type": "code",
   "execution_count": null,
   "id": "2574ecf1-bad4-4c33-8f3f-718a358727ab",
   "metadata": {
    "execution": {
     "iopub.execute_input": "2023-05-15T09:24:38.189854Z",
     "iopub.status.busy": "2023-05-15T09:24:38.189724Z",
     "iopub.status.idle": "2023-05-15T09:24:38.199753Z",
     "shell.execute_reply": "2023-05-15T09:24:38.199440Z"
    },
    "papermill": {
     "duration": 0.013669,
     "end_time": "2023-05-15T09:24:38.200556",
     "exception": false,
     "start_time": "2023-05-15T09:24:38.186887",
     "status": "completed"
    },
    "tags": []
   },
   "outputs": [],
   "source": [
    "raw_input = f\"/home/hd/hd_hd/hd_fu399/sds-hd/sd21k006/scRNAseq/revision_natcomm/combes_et_al/fetchngs/results/fastq/{sample_name}/{sample_name}/outs/raw_feature_bc_matrix.h5\""
   ]
  },
  {
   "cell_type": "code",
   "execution_count": null,
   "id": "e266d388-1802-435c-93a5-90067358739c",
   "metadata": {
    "execution": {
     "iopub.execute_input": "2023-05-15T09:24:38.206159Z",
     "iopub.status.busy": "2023-05-15T09:24:38.206017Z",
     "iopub.status.idle": "2023-05-15T09:24:38.757035Z",
     "shell.execute_reply": "2023-05-15T09:24:38.756652Z"
    },
    "papermill": {
     "duration": 0.554932,
     "end_time": "2023-05-15T09:24:38.757957",
     "exception": false,
     "start_time": "2023-05-15T09:24:38.203025",
     "status": "completed"
    },
    "tags": []
   },
   "outputs": [],
   "source": [
    "dataset = sc.read_10x_h5(raw_input)\n",
    "dataset.var_names_make_unique()\n",
    "dataset.obs_names_make_unique()\n",
    "\n",
    "dataset.layers[\"raw_counts\"] = dataset.X.copy()\n",
    "data_tod = dataset.layers[\"raw_counts\"].T.copy()\n",
    "\n",
    "dataset"
   ]
  },
  {
   "cell_type": "code",
   "execution_count": null,
   "id": "af9f5892-ed31-42a6-991b-4e096f582cef",
   "metadata": {
    "execution": {
     "iopub.execute_input": "2023-05-15T09:24:38.764435Z",
     "iopub.status.busy": "2023-05-15T09:24:38.764279Z",
     "iopub.status.idle": "2023-05-15T09:24:38.805552Z",
     "shell.execute_reply": "2023-05-15T09:24:38.805082Z"
    },
    "papermill": {
     "duration": 0.045723,
     "end_time": "2023-05-15T09:24:38.806819",
     "exception": false,
     "start_time": "2023-05-15T09:24:38.761096",
     "status": "completed"
    },
    "tags": []
   },
   "outputs": [],
   "source": [
    "sce = dataset.copy()"
   ]
  },
  {
   "cell_type": "code",
   "execution_count": null,
   "id": "d03f2caf-8e74-430e-b045-0ab80401d165",
   "metadata": {
    "execution": {
     "iopub.execute_input": "2023-05-15T09:24:38.813122Z",
     "iopub.status.busy": "2023-05-15T09:24:38.812924Z",
     "iopub.status.idle": "2023-05-15T09:25:29.042185Z",
     "shell.execute_reply": "2023-05-15T09:25:29.041598Z"
    },
    "papermill": {
     "duration": 50.233587,
     "end_time": "2023-05-15T09:25:29.043494",
     "exception": false,
     "start_time": "2023-05-15T09:24:38.809907",
     "status": "completed"
    },
    "tags": []
   },
   "outputs": [],
   "source": [
    "%%R -i sce -o empty_drop_output\n",
    "set.seed(187)\n",
    "empty_drop_output <- emptyDrops(assay(sce))"
   ]
  },
  {
   "cell_type": "code",
   "execution_count": null,
   "id": "2a34a54b-3ae2-44d6-8679-8769228c5b66",
   "metadata": {
    "execution": {
     "iopub.execute_input": "2023-05-15T09:25:29.052294Z",
     "iopub.status.busy": "2023-05-15T09:25:29.052112Z",
     "iopub.status.idle": "2023-05-15T09:25:29.076539Z",
     "shell.execute_reply": "2023-05-15T09:25:29.076200Z"
    },
    "papermill": {
     "duration": 0.028849,
     "end_time": "2023-05-15T09:25:29.077326",
     "exception": false,
     "start_time": "2023-05-15T09:25:29.048477",
     "status": "completed"
    },
    "tags": []
   },
   "outputs": [],
   "source": [
    "non_empty_barcodes = empty_drop_output[empty_drop_output[\"FDR\"] < 0.001].index\n",
    "dataset = dataset[dataset.obs.index.isin(non_empty_barcodes), :]\n",
    "dataset"
   ]
  },
  {
   "cell_type": "code",
   "execution_count": null,
   "id": "016a91e5-1bef-46fb-b91e-4fb9a6870c44",
   "metadata": {
    "execution": {
     "iopub.execute_input": "2023-05-15T09:25:29.083542Z",
     "iopub.status.busy": "2023-05-15T09:25:29.083378Z",
     "iopub.status.idle": "2023-05-15T09:25:34.395512Z",
     "shell.execute_reply": "2023-05-15T09:25:34.395039Z"
    },
    "papermill": {
     "duration": 5.316736,
     "end_time": "2023-05-15T09:25:34.396870",
     "exception": false,
     "start_time": "2023-05-15T09:25:29.080134",
     "status": "completed"
    },
    "tags": []
   },
   "outputs": [],
   "source": [
    "rna_assay = dataset.copy()\n",
    "sc.pp.normalize_per_cell(rna_assay)\n",
    "sc.pp.log1p(rna_assay)\n",
    "sc.pp.pca(rna_assay)\n",
    "sc.pp.neighbors(rna_assay)\n",
    "sc.tl.leiden(rna_assay, key_added=\"soupx_groups\")\n",
    "\n",
    "soupx_groups = rna_assay.obs[\"soupx_groups\"]\n",
    "\n",
    "del rna_assay\n",
    "\n",
    "genes = dataset.var_names\n",
    "cells = dataset.obs_names\n",
    "data = dataset.X.T.copy()"
   ]
  },
  {
   "cell_type": "code",
   "execution_count": null,
   "id": "9db4ea1f-1580-4f43-a3f0-86002397cd98",
   "metadata": {
    "execution": {
     "iopub.execute_input": "2023-05-15T09:25:34.405175Z",
     "iopub.status.busy": "2023-05-15T09:25:34.405010Z",
     "iopub.status.idle": "2023-05-15T09:25:48.785442Z",
     "shell.execute_reply": "2023-05-15T09:25:48.784927Z"
    },
    "papermill": {
     "duration": 14.385032,
     "end_time": "2023-05-15T09:25:48.786730",
     "exception": false,
     "start_time": "2023-05-15T09:25:34.401698",
     "status": "completed"
    },
    "tags": []
   },
   "outputs": [],
   "source": [
    "%%R -i data -i data_tod -i genes -i cells -i soupx_groups -o out \n",
    "set.seed(187)\n",
    "# specify row and column names of data\n",
    "rownames(data) = genes\n",
    "colnames(data) = cells\n",
    "# ensure correct sparse format for table of counts and table of droplets\n",
    "data <- as(data, \"sparseMatrix\")\n",
    "data_tod <- as(data_tod, \"sparseMatrix\")\n",
    "\n",
    "# Generate SoupChannel Object for SoupX \n",
    "sc = SoupChannel(data_tod, data, calcSoupProfile = FALSE)\n",
    "\n",
    "# Add extra meta data to the SoupChannel object\n",
    "soupProf = data.frame(row.names = rownames(data),\n",
    "                      est = rowSums(data)/sum(data),\n",
    "                      counts = rowSums(data))\n",
    "sc = setSoupProfile(sc, soupProf)\n",
    "# Set cluster information in SoupChannel\n",
    "sc = setClusters(sc, soupx_groups)\n",
    "\n",
    "# Estimate contamination fraction\n",
    "sc  = autoEstCont(sc, doPlot=FALSE, forceAccept = TRUE)\n",
    "# Infer corrected table of counts and rount to integer\n",
    "out = adjustCounts(sc, roundToInt = TRUE)"
   ]
  },
  {
   "cell_type": "code",
   "execution_count": null,
   "id": "32555d5e-5fa3-46dd-a4e0-ddc96ea265e2",
   "metadata": {
    "execution": {
     "iopub.execute_input": "2023-05-15T09:25:48.795685Z",
     "iopub.status.busy": "2023-05-15T09:25:48.795489Z",
     "iopub.status.idle": "2023-05-15T09:25:48.829646Z",
     "shell.execute_reply": "2023-05-15T09:25:48.829218Z"
    },
    "papermill": {
     "duration": 0.038735,
     "end_time": "2023-05-15T09:25:48.830767",
     "exception": false,
     "start_time": "2023-05-15T09:25:48.792032",
     "status": "completed"
    },
    "tags": []
   },
   "outputs": [],
   "source": [
    "dataset.layers[\"soupX_counts\"] = out.T\n",
    "dataset.X = dataset.layers[\"soupX_counts\"].copy()"
   ]
  },
  {
   "cell_type": "code",
   "execution_count": null,
   "id": "e27da7df-e094-4d2a-9109-5a363e012175",
   "metadata": {
    "execution": {
     "iopub.execute_input": "2023-05-15T09:25:48.837505Z",
     "iopub.status.busy": "2023-05-15T09:25:48.837365Z",
     "iopub.status.idle": "2023-05-15T09:25:48.839692Z",
     "shell.execute_reply": "2023-05-15T09:25:48.839371Z"
    },
    "papermill": {
     "duration": 0.006497,
     "end_time": "2023-05-15T09:25:48.840460",
     "exception": false,
     "start_time": "2023-05-15T09:25:48.833963",
     "status": "completed"
    },
    "tags": []
   },
   "outputs": [],
   "source": [
    "data_mat = dataset.X.T"
   ]
  },
  {
   "cell_type": "code",
   "execution_count": null,
   "id": "80a993b1-5ccb-4697-9187-1beb7ab8aff9",
   "metadata": {
    "execution": {
     "iopub.execute_input": "2023-05-15T09:25:48.846622Z",
     "iopub.status.busy": "2023-05-15T09:25:48.846442Z",
     "iopub.status.idle": "2023-05-15T09:26:06.361312Z",
     "shell.execute_reply": "2023-05-15T09:26:06.360853Z"
    },
    "papermill": {
     "duration": 17.519454,
     "end_time": "2023-05-15T09:26:06.362658",
     "exception": false,
     "start_time": "2023-05-15T09:25:48.843204",
     "status": "completed"
    },
    "tags": []
   },
   "outputs": [],
   "source": [
    "%%R -i data_mat -o droplet_class\n",
    "\n",
    "set.seed(187)\n",
    "sce = scDblFinder(\n",
    "    SingleCellExperiment(\n",
    "        list(counts=data_mat),\n",
    "    ) \n",
    ")\n",
    "droplet_class = sce$scDblFinder.class"
   ]
  },
  {
   "cell_type": "code",
   "execution_count": null,
   "id": "d4dd6e9d-fcf2-41fc-8457-c8e0a3cb2c71",
   "metadata": {
    "execution": {
     "iopub.execute_input": "2023-05-15T09:26:06.371502Z",
     "iopub.status.busy": "2023-05-15T09:26:06.371327Z",
     "iopub.status.idle": "2023-05-15T09:26:06.375421Z",
     "shell.execute_reply": "2023-05-15T09:26:06.375104Z"
    },
    "papermill": {
     "duration": 0.008456,
     "end_time": "2023-05-15T09:26:06.376214",
     "exception": false,
     "start_time": "2023-05-15T09:26:06.367758",
     "status": "completed"
    },
    "tags": []
   },
   "outputs": [],
   "source": [
    "dataset.obs[\"scDblFinder_class\"] = droplet_class\n",
    "dataset.obs.scDblFinder_class.value_counts()\n",
    "dataset"
   ]
  },
  {
   "cell_type": "code",
   "execution_count": null,
   "id": "28c95014-2d6c-477f-95cb-9f9f0507520c",
   "metadata": {
    "execution": {
     "iopub.execute_input": "2023-05-15T09:26:06.382630Z",
     "iopub.status.busy": "2023-05-15T09:26:06.382463Z",
     "iopub.status.idle": "2023-05-15T09:26:06.399113Z",
     "shell.execute_reply": "2023-05-15T09:26:06.398790Z"
    },
    "papermill": {
     "duration": 0.020833,
     "end_time": "2023-05-15T09:26:06.399921",
     "exception": false,
     "start_time": "2023-05-15T09:26:06.379088",
     "status": "completed"
    },
    "tags": []
   },
   "outputs": [],
   "source": [
    "dataset = dataset[dataset.obs[\"scDblFinder_class\"] == 1]"
   ]
  },
  {
   "cell_type": "code",
   "execution_count": null,
   "id": "3e22f9e0-bfcb-416c-a151-a9bca3bec3b9",
   "metadata": {
    "execution": {
     "iopub.execute_input": "2023-05-15T09:26:06.406370Z",
     "iopub.status.busy": "2023-05-15T09:26:06.406212Z",
     "iopub.status.idle": "2023-05-15T09:26:06.562292Z",
     "shell.execute_reply": "2023-05-15T09:26:06.561851Z"
    },
    "papermill": {
     "duration": 0.160365,
     "end_time": "2023-05-15T09:26:06.563214",
     "exception": false,
     "start_time": "2023-05-15T09:26:06.402849",
     "status": "completed"
    },
    "tags": []
   },
   "outputs": [],
   "source": [
    "# mitochondrial genes\n",
    "dataset.var[\"mt\"] = dataset.var_names.str.startswith(\"MT-\")\n",
    "# ribosomal genes\n",
    "dataset.var[\"ribo\"] = dataset.var_names.str.startswith((\"RPS\", \"RPL\"))\n",
    "# hemoglobin genes.\n",
    "dataset.var[\"hb\"] = dataset.var_names.str.contains((\"^HB[^(P)]\"))\n",
    "\n",
    "sc.pp.calculate_qc_metrics(dataset,\n",
    "                           qc_vars=['mt', 'ribo', 'hb'],\n",
    "                           percent_top=None,\n",
    "                           log1p=False,\n",
    "                           inplace=True)\n",
    "dataset"
   ]
  },
  {
   "cell_type": "code",
   "execution_count": null,
   "id": "34deee79-4043-428f-8575-aa57b45f6369",
   "metadata": {
    "execution": {
     "iopub.execute_input": "2023-05-15T09:26:06.598852Z",
     "iopub.status.busy": "2023-05-15T09:26:06.598691Z",
     "iopub.status.idle": "2023-05-15T09:26:07.095028Z",
     "shell.execute_reply": "2023-05-15T09:26:07.094644Z"
    },
    "papermill": {
     "duration": 0.501686,
     "end_time": "2023-05-15T09:26:07.096093",
     "exception": false,
     "start_time": "2023-05-15T09:26:06.594407",
     "status": "completed"
    },
    "tags": []
   },
   "outputs": [],
   "source": [
    "fig, ax = plt.subplots(ncols = 4, figsize = (16,4))\n",
    "axis = sc.pl.violin(dataset, \"n_genes_by_counts\", jitter = 0.4, ax = ax[0], show = False)\n",
    "axis.grid(False)\n",
    "axis.set_title(\"Unique Genes per cell\")\n",
    "axis.tick_params(axis = \"x\", bottom =False, labelbottom =False)\n",
    "axis.set_ylabel(\"# genes\")\n",
    "axis.axhline(y = 100, color = \"black\", label = \"cutoff\")\n",
    "axis.legend(fontsize = 14, loc = \"upper right\")\n",
    "\n",
    "axis = sc.pl.violin(dataset, \"pct_counts_mt\", jitter = 0.4, ax = ax[1], show = False)\n",
    "axis.grid(False)\n",
    "axis.set_title(\"Mitochondrial Fraction\")\n",
    "axis.tick_params(axis = \"x\", bottom =False, labelbottom =False)\n",
    "axis.set_ylabel(\"% mitochondrial genes\")\n",
    "axis.axhline(y = 10, color = \"black\", label = \"cutoff\")\n",
    "axis.legend(fontsize = 14, loc = \"upper right\")\n",
    "\n",
    "axis = sc.pl.violin(dataset, \"pct_counts_hb\", jitter = 0.4, ax = ax[2], show = False, size =2)\n",
    "axis.grid(False)\n",
    "axis.set_title(\"Hemoglobin Fraction\")\n",
    "axis.tick_params(axis = \"x\", bottom =False, labelbottom =False)\n",
    "axis.set_ylabel(\"% hemoglobin genes\")\n",
    "axis.axhline(y = 3, color = \"black\", label = \"cutoff\")\n",
    "axis.legend(fontsize = 14, loc = \"upper right\")\n",
    "#axis.set_ylim(0,5)\n",
    "\n",
    "axis = sc.pl.violin(dataset, \"pct_counts_ribo\", jitter = 0.4, ax = ax[3], show = False)\n",
    "axis.grid(False)\n",
    "axis.set_title(\"Ribosomal Fraction\")\n",
    "axis.tick_params(axis = \"x\", bottom =False, labelbottom =False)\n",
    "axis.set_ylabel(\"% ribosome genes\")\n",
    "\n",
    "plt.tight_layout()\n",
    "#plt.savefig(f\"{outputDir}08_gene_based_filtering.pdf\", dpi = 300)\n",
    "plt.show()\n",
    "\n"
   ]
  },
  {
   "cell_type": "code",
   "execution_count": null,
   "id": "d7ade754-843e-4840-8707-426613d8c0c5",
   "metadata": {
    "execution": {
     "iopub.execute_input": "2023-05-15T09:26:07.105941Z",
     "iopub.status.busy": "2023-05-15T09:26:07.105769Z",
     "iopub.status.idle": "2023-05-15T09:26:07.116147Z",
     "shell.execute_reply": "2023-05-15T09:26:07.115825Z"
    },
    "papermill": {
     "duration": 0.016034,
     "end_time": "2023-05-15T09:26:07.116926",
     "exception": false,
     "start_time": "2023-05-15T09:26:07.100892",
     "status": "completed"
    },
    "tags": []
   },
   "outputs": [],
   "source": [
    "dataset = dataset[dataset.obs.pct_counts_mt < 10, :]\n",
    "dataset = dataset[dataset.obs.n_genes_by_counts > 100, :]\n",
    "dataset = dataset[dataset.obs.pct_counts_hb < 3, :]\n",
    "dataset"
   ]
  },
  {
   "cell_type": "code",
   "execution_count": null,
   "id": "1941fa36-e865-4500-b586-f7a32d142c9b",
   "metadata": {
    "execution": {
     "iopub.execute_input": "2023-05-15T09:26:07.126761Z",
     "iopub.status.busy": "2023-05-15T09:26:07.126442Z",
     "iopub.status.idle": "2023-05-15T09:26:07.129264Z",
     "shell.execute_reply": "2023-05-15T09:26:07.128963Z"
    },
    "papermill": {
     "duration": 0.008652,
     "end_time": "2023-05-15T09:26:07.130056",
     "exception": false,
     "start_time": "2023-05-15T09:26:07.121404",
     "status": "completed"
    },
    "tags": []
   },
   "outputs": [],
   "source": [
    "metadata.columns"
   ]
  },
  {
   "cell_type": "code",
   "execution_count": null,
   "id": "2e0ff8c3-2aa9-4a01-9b88-5912a6734447",
   "metadata": {
    "execution": {
     "iopub.execute_input": "2023-05-15T09:26:07.139678Z",
     "iopub.status.busy": "2023-05-15T09:26:07.139511Z",
     "iopub.status.idle": "2023-05-15T09:26:07.181621Z",
     "shell.execute_reply": "2023-05-15T09:26:07.181154Z"
    },
    "papermill": {
     "duration": 0.048147,
     "end_time": "2023-05-15T09:26:07.182724",
     "exception": false,
     "start_time": "2023-05-15T09:26:07.134577",
     "status": "completed"
    },
    "tags": []
   },
   "outputs": [],
   "source": [
    "for col in metadata.columns:\n",
    "    dataset.obs[col] = metadata.loc[metadata[\"Run\"] == sample_name, col].to_list()[0]"
   ]
  },
  {
   "cell_type": "code",
   "execution_count": null,
   "id": "b84578d3-d63e-419c-a272-a0b8317d05ab",
   "metadata": {
    "execution": {
     "iopub.execute_input": "2023-05-15T09:26:07.193103Z",
     "iopub.status.busy": "2023-05-15T09:26:07.192915Z",
     "iopub.status.idle": "2023-05-15T09:26:07.764708Z",
     "shell.execute_reply": "2023-05-15T09:26:07.764178Z"
    },
    "papermill": {
     "duration": 0.578362,
     "end_time": "2023-05-15T09:26:07.766035",
     "exception": false,
     "start_time": "2023-05-15T09:26:07.187673",
     "status": "completed"
    },
    "tags": []
   },
   "outputs": [],
   "source": [
    "dataset.write(f\"../../int_data/{sample_name}_qc.h5ad\")"
   ]
  },
  {
   "cell_type": "code",
   "execution_count": null,
   "id": "501b33a0-432d-415f-ae82-50723484b85d",
   "metadata": {
    "execution": {
     "iopub.execute_input": "2023-05-15T09:26:07.776447Z",
     "iopub.status.busy": "2023-05-15T09:26:07.776253Z",
     "iopub.status.idle": "2023-05-15T09:26:07.779467Z",
     "shell.execute_reply": "2023-05-15T09:26:07.779129Z"
    },
    "papermill": {
     "duration": 0.009065,
     "end_time": "2023-05-15T09:26:07.780216",
     "exception": false,
     "start_time": "2023-05-15T09:26:07.771151",
     "status": "completed"
    },
    "tags": []
   },
   "outputs": [],
   "source": [
    "dataset"
   ]
  }
 ],
 "metadata": {
  "kernelspec": {
   "display_name": "Python 3 (ipykernel)",
   "language": "python",
   "name": "python3"
  },
  "language_info": {
   "codemirror_mode": {
    "name": "ipython",
    "version": 3
   },
   "file_extension": ".py",
   "mimetype": "text/x-python",
   "name": "python",
   "nbconvert_exporter": "python",
   "pygments_lexer": "ipython3",
   "version": "3.10.12"
  },
  "papermill": {
   "default_parameters": {},
   "duration": 114.850607,
   "end_time": "2023-05-15T09:26:09.202956",
   "environment_variables": {},
   "exception": null,
   "input_path": "template.ipynb",
   "output_path": "SRR13329175.ipynb",
   "parameters": {
    "sample_name": "SRR13329175"
   },
   "start_time": "2023-05-15T09:24:14.352349",
   "version": "2.4.0"
  }
 },
 "nbformat": 4,
 "nbformat_minor": 5
}
