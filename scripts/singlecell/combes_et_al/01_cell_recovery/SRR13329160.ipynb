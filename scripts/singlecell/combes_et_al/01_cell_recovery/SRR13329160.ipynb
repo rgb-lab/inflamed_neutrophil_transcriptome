{
 "cells": [
  {
   "cell_type": "code",
   "execution_count": null,
   "id": "4c0f2fa8-5232-4f47-a7ec-6c9bbabe50e2",
   "metadata": {
    "execution": {
     "iopub.execute_input": "2023-05-15T08:57:09.566281Z",
     "iopub.status.busy": "2023-05-15T08:57:09.566131Z",
     "iopub.status.idle": "2023-05-15T08:57:09.570327Z",
     "shell.execute_reply": "2023-05-15T08:57:09.570012Z"
    },
    "papermill": {
     "duration": 0.008313,
     "end_time": "2023-05-15T08:57:09.571075",
     "exception": false,
     "start_time": "2023-05-15T08:57:09.562762",
     "status": "completed"
    },
    "tags": [
     "parameters"
    ]
   },
   "outputs": [],
   "source": [
    "sample_name = \"SRR13329143\""
   ]
  },
  {
   "cell_type": "code",
   "execution_count": null,
   "id": "47a1cd15",
   "metadata": {
    "execution": {
     "iopub.execute_input": "2023-05-15T08:57:09.576105Z",
     "iopub.status.busy": "2023-05-15T08:57:09.575877Z",
     "iopub.status.idle": "2023-05-15T08:57:09.577812Z",
     "shell.execute_reply": "2023-05-15T08:57:09.577524Z"
    },
    "papermill": {
     "duration": 0.005274,
     "end_time": "2023-05-15T08:57:09.578607",
     "exception": false,
     "start_time": "2023-05-15T08:57:09.573333",
     "status": "completed"
    },
    "tags": [
     "injected-parameters"
    ]
   },
   "outputs": [],
   "source": [
    "# Parameters\n",
    "sample_name = \"SRR13329160\"\n"
   ]
  },
  {
   "cell_type": "code",
   "execution_count": null,
   "id": "f87ed95b-2b67-4a5a-8fe2-47359b1dd2a9",
   "metadata": {
    "execution": {
     "iopub.execute_input": "2023-05-15T08:57:09.583675Z",
     "iopub.status.busy": "2023-05-15T08:57:09.583400Z",
     "iopub.status.idle": "2023-05-15T08:57:09.585786Z",
     "shell.execute_reply": "2023-05-15T08:57:09.585483Z"
    },
    "papermill": {
     "duration": 0.005776,
     "end_time": "2023-05-15T08:57:09.586568",
     "exception": false,
     "start_time": "2023-05-15T08:57:09.580792",
     "status": "completed"
    },
    "tags": []
   },
   "outputs": [],
   "source": [
    "import warnings\n",
    "warnings.simplefilter(action='ignore', category=FutureWarning)\n",
    "warnings.simplefilter(action='ignore', category=UserWarning)"
   ]
  },
  {
   "cell_type": "code",
   "execution_count": null,
   "id": "85161f19-b2c5-490b-8cab-c2cf9653b304",
   "metadata": {
    "execution": {
     "iopub.execute_input": "2023-05-15T08:57:09.591573Z",
     "iopub.status.busy": "2023-05-15T08:57:09.591390Z",
     "iopub.status.idle": "2023-05-15T08:57:14.421707Z",
     "shell.execute_reply": "2023-05-15T08:57:14.421246Z"
    },
    "papermill": {
     "duration": 4.834282,
     "end_time": "2023-05-15T08:57:14.423074",
     "exception": false,
     "start_time": "2023-05-15T08:57:09.588792",
     "status": "completed"
    },
    "tags": []
   },
   "outputs": [],
   "source": [
    "import gc\n",
    "import scanpy as sc\n",
    "import muon as mu\n",
    "import seaborn as sns\n",
    "import os\n",
    "import pandas as pd\n",
    "from matplotlib import pyplot as plt\n",
    "\n",
    "os.environ['R_HOME'] = '/gpfs/bwfor/work/ws/hd_fu399-conda/conda/envs/python_R/lib/R/'\n",
    "import anndata2ri\n",
    "import logging\n",
    "\n",
    "import rpy2.rinterface_lib.callbacks as rcb\n",
    "import rpy2.robjects as ro\n",
    "\n",
    "rcb.logger.setLevel(logging.ERROR)\n",
    "ro.pandas2ri.activate()\n",
    "anndata2ri.activate()\n",
    "\n",
    "%load_ext rpy2.ipython"
   ]
  },
  {
   "cell_type": "code",
   "execution_count": null,
   "id": "fc4ade78-b728-4704-9db6-45fbaab62ba1",
   "metadata": {
    "execution": {
     "iopub.execute_input": "2023-05-15T08:57:14.430957Z",
     "iopub.status.busy": "2023-05-15T08:57:14.430697Z",
     "iopub.status.idle": "2023-05-15T08:57:26.720759Z",
     "shell.execute_reply": "2023-05-15T08:57:26.720198Z"
    },
    "papermill": {
     "duration": 12.294363,
     "end_time": "2023-05-15T08:57:26.722109",
     "exception": false,
     "start_time": "2023-05-15T08:57:14.427746",
     "status": "completed"
    },
    "tags": []
   },
   "outputs": [],
   "source": [
    "%%R\n",
    "library(SoupX)\n",
    "library(Seurat)\n",
    "library(scater)\n",
    "library(scDblFinder)\n",
    "library(BiocParallel)\n",
    "library(MuDataSeurat)\n",
    "library(DropletUtils)"
   ]
  },
  {
   "cell_type": "code",
   "execution_count": null,
   "id": "f7424d90-7690-4290-8651-1db3f9df3a35",
   "metadata": {
    "execution": {
     "iopub.execute_input": "2023-05-15T08:57:26.730848Z",
     "iopub.status.busy": "2023-05-15T08:57:26.730661Z",
     "iopub.status.idle": "2023-05-15T08:57:26.738022Z",
     "shell.execute_reply": "2023-05-15T08:57:26.737703Z"
    },
    "papermill": {
     "duration": 0.0112,
     "end_time": "2023-05-15T08:57:26.738813",
     "exception": false,
     "start_time": "2023-05-15T08:57:26.727613",
     "status": "completed"
    },
    "tags": []
   },
   "outputs": [],
   "source": [
    "metadata = pd.read_csv(\"../../combes_metadata.txt\")"
   ]
  },
  {
   "cell_type": "code",
   "execution_count": null,
   "id": "2574ecf1-bad4-4c33-8f3f-718a358727ab",
   "metadata": {
    "execution": {
     "iopub.execute_input": "2023-05-15T08:57:26.744126Z",
     "iopub.status.busy": "2023-05-15T08:57:26.743968Z",
     "iopub.status.idle": "2023-05-15T08:57:26.756677Z",
     "shell.execute_reply": "2023-05-15T08:57:26.756365Z"
    },
    "papermill": {
     "duration": 0.016323,
     "end_time": "2023-05-15T08:57:26.757474",
     "exception": false,
     "start_time": "2023-05-15T08:57:26.741151",
     "status": "completed"
    },
    "tags": []
   },
   "outputs": [],
   "source": [
    "raw_input = f\"/home/hd/hd_hd/hd_fu399/sds-hd/sd21k006/scRNAseq/revision_natcomm/combes_et_al/fetchngs/results/fastq/{sample_name}/{sample_name}/outs/raw_feature_bc_matrix.h5\""
   ]
  },
  {
   "cell_type": "code",
   "execution_count": null,
   "id": "e266d388-1802-435c-93a5-90067358739c",
   "metadata": {
    "execution": {
     "iopub.execute_input": "2023-05-15T08:57:26.762868Z",
     "iopub.status.busy": "2023-05-15T08:57:26.762714Z",
     "iopub.status.idle": "2023-05-15T08:57:27.154102Z",
     "shell.execute_reply": "2023-05-15T08:57:27.153663Z"
    },
    "papermill": {
     "duration": 0.395232,
     "end_time": "2023-05-15T08:57:27.155054",
     "exception": false,
     "start_time": "2023-05-15T08:57:26.759822",
     "status": "completed"
    },
    "tags": []
   },
   "outputs": [],
   "source": [
    "dataset = sc.read_10x_h5(raw_input)\n",
    "dataset.var_names_make_unique()\n",
    "dataset.obs_names_make_unique()\n",
    "\n",
    "dataset.layers[\"raw_counts\"] = dataset.X.copy()\n",
    "data_tod = dataset.layers[\"raw_counts\"].T.copy()\n",
    "\n",
    "dataset"
   ]
  },
  {
   "cell_type": "code",
   "execution_count": null,
   "id": "af9f5892-ed31-42a6-991b-4e096f582cef",
   "metadata": {
    "execution": {
     "iopub.execute_input": "2023-05-15T08:57:27.161327Z",
     "iopub.status.busy": "2023-05-15T08:57:27.161143Z",
     "iopub.status.idle": "2023-05-15T08:57:27.190839Z",
     "shell.execute_reply": "2023-05-15T08:57:27.190405Z"
    },
    "papermill": {
     "duration": 0.034173,
     "end_time": "2023-05-15T08:57:27.192151",
     "exception": false,
     "start_time": "2023-05-15T08:57:27.157978",
     "status": "completed"
    },
    "tags": []
   },
   "outputs": [],
   "source": [
    "sce = dataset.copy()"
   ]
  },
  {
   "cell_type": "code",
   "execution_count": null,
   "id": "d03f2caf-8e74-430e-b045-0ab80401d165",
   "metadata": {
    "execution": {
     "iopub.execute_input": "2023-05-15T08:57:27.198174Z",
     "iopub.status.busy": "2023-05-15T08:57:27.198032Z",
     "iopub.status.idle": "2023-05-15T08:58:06.844190Z",
     "shell.execute_reply": "2023-05-15T08:58:06.843592Z"
    },
    "papermill": {
     "duration": 39.650467,
     "end_time": "2023-05-15T08:58:06.845517",
     "exception": false,
     "start_time": "2023-05-15T08:57:27.195050",
     "status": "completed"
    },
    "tags": []
   },
   "outputs": [],
   "source": [
    "%%R -i sce -o empty_drop_output\n",
    "set.seed(187)\n",
    "empty_drop_output <- emptyDrops(assay(sce))"
   ]
  },
  {
   "cell_type": "code",
   "execution_count": null,
   "id": "2a34a54b-3ae2-44d6-8679-8769228c5b66",
   "metadata": {
    "execution": {
     "iopub.execute_input": "2023-05-15T08:58:06.854099Z",
     "iopub.status.busy": "2023-05-15T08:58:06.853949Z",
     "iopub.status.idle": "2023-05-15T08:58:06.878190Z",
     "shell.execute_reply": "2023-05-15T08:58:06.877878Z"
    },
    "papermill": {
     "duration": 0.028661,
     "end_time": "2023-05-15T08:58:06.878979",
     "exception": false,
     "start_time": "2023-05-15T08:58:06.850318",
     "status": "completed"
    },
    "tags": []
   },
   "outputs": [],
   "source": [
    "non_empty_barcodes = empty_drop_output[empty_drop_output[\"FDR\"] < 0.001].index\n",
    "dataset = dataset[dataset.obs.index.isin(non_empty_barcodes), :]\n",
    "dataset"
   ]
  },
  {
   "cell_type": "code",
   "execution_count": null,
   "id": "016a91e5-1bef-46fb-b91e-4fb9a6870c44",
   "metadata": {
    "execution": {
     "iopub.execute_input": "2023-05-15T08:58:06.884778Z",
     "iopub.status.busy": "2023-05-15T08:58:06.884617Z",
     "iopub.status.idle": "2023-05-15T08:58:10.906966Z",
     "shell.execute_reply": "2023-05-15T08:58:10.906401Z"
    },
    "papermill": {
     "duration": 4.026791,
     "end_time": "2023-05-15T08:58:10.908320",
     "exception": false,
     "start_time": "2023-05-15T08:58:06.881529",
     "status": "completed"
    },
    "tags": []
   },
   "outputs": [],
   "source": [
    "rna_assay = dataset.copy()\n",
    "sc.pp.normalize_per_cell(rna_assay)\n",
    "sc.pp.log1p(rna_assay)\n",
    "sc.pp.pca(rna_assay)\n",
    "sc.pp.neighbors(rna_assay)\n",
    "sc.tl.leiden(rna_assay, key_added=\"soupx_groups\")\n",
    "\n",
    "soupx_groups = rna_assay.obs[\"soupx_groups\"]\n",
    "\n",
    "del rna_assay\n",
    "\n",
    "genes = dataset.var_names\n",
    "cells = dataset.obs_names\n",
    "data = dataset.X.T.copy()"
   ]
  },
  {
   "cell_type": "code",
   "execution_count": null,
   "id": "9db4ea1f-1580-4f43-a3f0-86002397cd98",
   "metadata": {
    "execution": {
     "iopub.execute_input": "2023-05-15T08:58:10.915089Z",
     "iopub.status.busy": "2023-05-15T08:58:10.914912Z",
     "iopub.status.idle": "2023-05-15T08:58:22.101134Z",
     "shell.execute_reply": "2023-05-15T08:58:22.100509Z"
    },
    "papermill": {
     "duration": 11.190985,
     "end_time": "2023-05-15T08:58:22.102516",
     "exception": false,
     "start_time": "2023-05-15T08:58:10.911531",
     "status": "completed"
    },
    "tags": []
   },
   "outputs": [],
   "source": [
    "%%R -i data -i data_tod -i genes -i cells -i soupx_groups -o out \n",
    "set.seed(187)\n",
    "# specify row and column names of data\n",
    "rownames(data) = genes\n",
    "colnames(data) = cells\n",
    "# ensure correct sparse format for table of counts and table of droplets\n",
    "data <- as(data, \"sparseMatrix\")\n",
    "data_tod <- as(data_tod, \"sparseMatrix\")\n",
    "\n",
    "# Generate SoupChannel Object for SoupX \n",
    "sc = SoupChannel(data_tod, data, calcSoupProfile = FALSE)\n",
    "\n",
    "# Add extra meta data to the SoupChannel object\n",
    "soupProf = data.frame(row.names = rownames(data),\n",
    "                      est = rowSums(data)/sum(data),\n",
    "                      counts = rowSums(data))\n",
    "sc = setSoupProfile(sc, soupProf)\n",
    "# Set cluster information in SoupChannel\n",
    "sc = setClusters(sc, soupx_groups)\n",
    "\n",
    "# Estimate contamination fraction\n",
    "sc  = autoEstCont(sc, doPlot=FALSE, forceAccept = TRUE)\n",
    "# Infer corrected table of counts and rount to integer\n",
    "out = adjustCounts(sc, roundToInt = TRUE)"
   ]
  },
  {
   "cell_type": "code",
   "execution_count": null,
   "id": "32555d5e-5fa3-46dd-a4e0-ddc96ea265e2",
   "metadata": {
    "execution": {
     "iopub.execute_input": "2023-05-15T08:58:22.111547Z",
     "iopub.status.busy": "2023-05-15T08:58:22.111370Z",
     "iopub.status.idle": "2023-05-15T08:58:22.134114Z",
     "shell.execute_reply": "2023-05-15T08:58:22.133649Z"
    },
    "papermill": {
     "duration": 0.028038,
     "end_time": "2023-05-15T08:58:22.135437",
     "exception": false,
     "start_time": "2023-05-15T08:58:22.107399",
     "status": "completed"
    },
    "tags": []
   },
   "outputs": [],
   "source": [
    "dataset.layers[\"soupX_counts\"] = out.T\n",
    "dataset.X = dataset.layers[\"soupX_counts\"].copy()"
   ]
  },
  {
   "cell_type": "code",
   "execution_count": null,
   "id": "e27da7df-e094-4d2a-9109-5a363e012175",
   "metadata": {
    "execution": {
     "iopub.execute_input": "2023-05-15T08:58:22.142183Z",
     "iopub.status.busy": "2023-05-15T08:58:22.141966Z",
     "iopub.status.idle": "2023-05-15T08:58:22.144417Z",
     "shell.execute_reply": "2023-05-15T08:58:22.144072Z"
    },
    "papermill": {
     "duration": 0.006768,
     "end_time": "2023-05-15T08:58:22.145278",
     "exception": false,
     "start_time": "2023-05-15T08:58:22.138510",
     "status": "completed"
    },
    "tags": []
   },
   "outputs": [],
   "source": [
    "data_mat = dataset.X.T"
   ]
  },
  {
   "cell_type": "code",
   "execution_count": null,
   "id": "80a993b1-5ccb-4697-9187-1beb7ab8aff9",
   "metadata": {
    "execution": {
     "iopub.execute_input": "2023-05-15T08:58:22.151844Z",
     "iopub.status.busy": "2023-05-15T08:58:22.151653Z",
     "iopub.status.idle": "2023-05-15T08:58:39.879356Z",
     "shell.execute_reply": "2023-05-15T08:58:39.878758Z"
    },
    "papermill": {
     "duration": 17.732526,
     "end_time": "2023-05-15T08:58:39.880696",
     "exception": false,
     "start_time": "2023-05-15T08:58:22.148170",
     "status": "completed"
    },
    "tags": []
   },
   "outputs": [],
   "source": [
    "%%R -i data_mat -o droplet_class\n",
    "\n",
    "set.seed(187)\n",
    "sce = scDblFinder(\n",
    "    SingleCellExperiment(\n",
    "        list(counts=data_mat),\n",
    "    ) \n",
    ")\n",
    "droplet_class = sce$scDblFinder.class"
   ]
  },
  {
   "cell_type": "code",
   "execution_count": null,
   "id": "d4dd6e9d-fcf2-41fc-8457-c8e0a3cb2c71",
   "metadata": {
    "execution": {
     "iopub.execute_input": "2023-05-15T08:58:39.890240Z",
     "iopub.status.busy": "2023-05-15T08:58:39.890049Z",
     "iopub.status.idle": "2023-05-15T08:58:39.895428Z",
     "shell.execute_reply": "2023-05-15T08:58:39.895046Z"
    },
    "papermill": {
     "duration": 0.010171,
     "end_time": "2023-05-15T08:58:39.896212",
     "exception": false,
     "start_time": "2023-05-15T08:58:39.886041",
     "status": "completed"
    },
    "tags": []
   },
   "outputs": [],
   "source": [
    "dataset.obs[\"scDblFinder_class\"] = droplet_class\n",
    "dataset.obs.scDblFinder_class.value_counts()\n",
    "dataset"
   ]
  },
  {
   "cell_type": "code",
   "execution_count": null,
   "id": "28c95014-2d6c-477f-95cb-9f9f0507520c",
   "metadata": {
    "execution": {
     "iopub.execute_input": "2023-05-15T08:58:39.902553Z",
     "iopub.status.busy": "2023-05-15T08:58:39.902246Z",
     "iopub.status.idle": "2023-05-15T08:58:39.917410Z",
     "shell.execute_reply": "2023-05-15T08:58:39.917083Z"
    },
    "papermill": {
     "duration": 0.019421,
     "end_time": "2023-05-15T08:58:39.918381",
     "exception": false,
     "start_time": "2023-05-15T08:58:39.898960",
     "status": "completed"
    },
    "tags": []
   },
   "outputs": [],
   "source": [
    "dataset = dataset[dataset.obs[\"scDblFinder_class\"] == 1]"
   ]
  },
  {
   "cell_type": "code",
   "execution_count": null,
   "id": "3e22f9e0-bfcb-416c-a151-a9bca3bec3b9",
   "metadata": {
    "execution": {
     "iopub.execute_input": "2023-05-15T08:58:39.924582Z",
     "iopub.status.busy": "2023-05-15T08:58:39.924416Z",
     "iopub.status.idle": "2023-05-15T08:58:40.060990Z",
     "shell.execute_reply": "2023-05-15T08:58:40.060548Z"
    },
    "papermill": {
     "duration": 0.140756,
     "end_time": "2023-05-15T08:58:40.061924",
     "exception": false,
     "start_time": "2023-05-15T08:58:39.921168",
     "status": "completed"
    },
    "tags": []
   },
   "outputs": [],
   "source": [
    "# mitochondrial genes\n",
    "dataset.var[\"mt\"] = dataset.var_names.str.startswith(\"MT-\")\n",
    "# ribosomal genes\n",
    "dataset.var[\"ribo\"] = dataset.var_names.str.startswith((\"RPS\", \"RPL\"))\n",
    "# hemoglobin genes.\n",
    "dataset.var[\"hb\"] = dataset.var_names.str.contains((\"^HB[^(P)]\"))\n",
    "\n",
    "sc.pp.calculate_qc_metrics(dataset,\n",
    "                           qc_vars=['mt', 'ribo', 'hb'],\n",
    "                           percent_top=None,\n",
    "                           log1p=False,\n",
    "                           inplace=True)\n",
    "dataset"
   ]
  },
  {
   "cell_type": "code",
   "execution_count": null,
   "id": "34deee79-4043-428f-8575-aa57b45f6369",
   "metadata": {
    "execution": {
     "iopub.execute_input": "2023-05-15T08:58:40.069013Z",
     "iopub.status.busy": "2023-05-15T08:58:40.068829Z",
     "iopub.status.idle": "2023-05-15T08:58:40.500071Z",
     "shell.execute_reply": "2023-05-15T08:58:40.499684Z"
    },
    "papermill": {
     "duration": 0.43565,
     "end_time": "2023-05-15T08:58:40.500974",
     "exception": false,
     "start_time": "2023-05-15T08:58:40.065324",
     "status": "completed"
    },
    "tags": []
   },
   "outputs": [],
   "source": [
    "fig, ax = plt.subplots(ncols = 4, figsize = (16,4))\n",
    "axis = sc.pl.violin(dataset, \"n_genes_by_counts\", jitter = 0.4, ax = ax[0], show = False)\n",
    "axis.grid(False)\n",
    "axis.set_title(\"Unique Genes per cell\")\n",
    "axis.tick_params(axis = \"x\", bottom =False, labelbottom =False)\n",
    "axis.set_ylabel(\"# genes\")\n",
    "axis.axhline(y = 100, color = \"black\", label = \"cutoff\")\n",
    "axis.legend(fontsize = 14, loc = \"upper right\")\n",
    "\n",
    "axis = sc.pl.violin(dataset, \"pct_counts_mt\", jitter = 0.4, ax = ax[1], show = False)\n",
    "axis.grid(False)\n",
    "axis.set_title(\"Mitochondrial Fraction\")\n",
    "axis.tick_params(axis = \"x\", bottom =False, labelbottom =False)\n",
    "axis.set_ylabel(\"% mitochondrial genes\")\n",
    "axis.axhline(y = 10, color = \"black\", label = \"cutoff\")\n",
    "axis.legend(fontsize = 14, loc = \"upper right\")\n",
    "\n",
    "axis = sc.pl.violin(dataset, \"pct_counts_hb\", jitter = 0.4, ax = ax[2], show = False, size =2)\n",
    "axis.grid(False)\n",
    "axis.set_title(\"Hemoglobin Fraction\")\n",
    "axis.tick_params(axis = \"x\", bottom =False, labelbottom =False)\n",
    "axis.set_ylabel(\"% hemoglobin genes\")\n",
    "axis.axhline(y = 3, color = \"black\", label = \"cutoff\")\n",
    "axis.legend(fontsize = 14, loc = \"upper right\")\n",
    "#axis.set_ylim(0,5)\n",
    "\n",
    "axis = sc.pl.violin(dataset, \"pct_counts_ribo\", jitter = 0.4, ax = ax[3], show = False)\n",
    "axis.grid(False)\n",
    "axis.set_title(\"Ribosomal Fraction\")\n",
    "axis.tick_params(axis = \"x\", bottom =False, labelbottom =False)\n",
    "axis.set_ylabel(\"% ribosome genes\")\n",
    "\n",
    "plt.tight_layout()\n",
    "#plt.savefig(f\"{outputDir}08_gene_based_filtering.pdf\", dpi = 300)\n",
    "plt.show()\n",
    "\n"
   ]
  },
  {
   "cell_type": "code",
   "execution_count": null,
   "id": "d7ade754-843e-4840-8707-426613d8c0c5",
   "metadata": {
    "execution": {
     "iopub.execute_input": "2023-05-15T08:58:40.510236Z",
     "iopub.status.busy": "2023-05-15T08:58:40.510058Z",
     "iopub.status.idle": "2023-05-15T08:58:40.519111Z",
     "shell.execute_reply": "2023-05-15T08:58:40.518772Z"
    },
    "papermill": {
     "duration": 0.014381,
     "end_time": "2023-05-15T08:58:40.519844",
     "exception": false,
     "start_time": "2023-05-15T08:58:40.505463",
     "status": "completed"
    },
    "tags": []
   },
   "outputs": [],
   "source": [
    "dataset = dataset[dataset.obs.pct_counts_mt < 10, :]\n",
    "dataset = dataset[dataset.obs.n_genes_by_counts > 100, :]\n",
    "dataset = dataset[dataset.obs.pct_counts_hb < 3, :]\n",
    "dataset"
   ]
  },
  {
   "cell_type": "code",
   "execution_count": null,
   "id": "1941fa36-e865-4500-b586-f7a32d142c9b",
   "metadata": {
    "execution": {
     "iopub.execute_input": "2023-05-15T08:58:40.528675Z",
     "iopub.status.busy": "2023-05-15T08:58:40.528428Z",
     "iopub.status.idle": "2023-05-15T08:58:40.531385Z",
     "shell.execute_reply": "2023-05-15T08:58:40.531075Z"
    },
    "papermill": {
     "duration": 0.008184,
     "end_time": "2023-05-15T08:58:40.532094",
     "exception": false,
     "start_time": "2023-05-15T08:58:40.523910",
     "status": "completed"
    },
    "tags": []
   },
   "outputs": [],
   "source": [
    "metadata.columns"
   ]
  },
  {
   "cell_type": "code",
   "execution_count": null,
   "id": "2e0ff8c3-2aa9-4a01-9b88-5912a6734447",
   "metadata": {
    "execution": {
     "iopub.execute_input": "2023-05-15T08:58:40.541060Z",
     "iopub.status.busy": "2023-05-15T08:58:40.540773Z",
     "iopub.status.idle": "2023-05-15T08:58:40.575786Z",
     "shell.execute_reply": "2023-05-15T08:58:40.575335Z"
    },
    "papermill": {
     "duration": 0.040706,
     "end_time": "2023-05-15T08:58:40.576937",
     "exception": false,
     "start_time": "2023-05-15T08:58:40.536231",
     "status": "completed"
    },
    "tags": []
   },
   "outputs": [],
   "source": [
    "for col in metadata.columns:\n",
    "    dataset.obs[col] = metadata.loc[metadata[\"Run\"] == sample_name, col].to_list()[0]"
   ]
  },
  {
   "cell_type": "code",
   "execution_count": null,
   "id": "b84578d3-d63e-419c-a272-a0b8317d05ab",
   "metadata": {
    "execution": {
     "iopub.execute_input": "2023-05-15T08:58:40.586442Z",
     "iopub.status.busy": "2023-05-15T08:58:40.586256Z",
     "iopub.status.idle": "2023-05-15T08:58:41.082400Z",
     "shell.execute_reply": "2023-05-15T08:58:41.081922Z"
    },
    "papermill": {
     "duration": 0.5023,
     "end_time": "2023-05-15T08:58:41.083729",
     "exception": false,
     "start_time": "2023-05-15T08:58:40.581429",
     "status": "completed"
    },
    "tags": []
   },
   "outputs": [],
   "source": [
    "dataset.write(f\"../../int_data/{sample_name}_qc.h5ad\")"
   ]
  },
  {
   "cell_type": "code",
   "execution_count": null,
   "id": "501b33a0-432d-415f-ae82-50723484b85d",
   "metadata": {
    "execution": {
     "iopub.execute_input": "2023-05-15T08:58:41.093228Z",
     "iopub.status.busy": "2023-05-15T08:58:41.093039Z",
     "iopub.status.idle": "2023-05-15T08:58:41.096146Z",
     "shell.execute_reply": "2023-05-15T08:58:41.095829Z"
    },
    "papermill": {
     "duration": 0.008652,
     "end_time": "2023-05-15T08:58:41.096931",
     "exception": false,
     "start_time": "2023-05-15T08:58:41.088279",
     "status": "completed"
    },
    "tags": []
   },
   "outputs": [],
   "source": [
    "dataset"
   ]
  }
 ],
 "metadata": {
  "kernelspec": {
   "display_name": "py_R",
   "language": "python",
   "name": "python_r"
  },
  "language_info": {
   "codemirror_mode": {
    "name": "ipython",
    "version": 3
   },
   "file_extension": ".py",
   "mimetype": "text/x-python",
   "name": "python",
   "nbconvert_exporter": "python",
   "pygments_lexer": "ipython3",
   "version": "3.10.9"
  },
  "papermill": {
   "default_parameters": {},
   "duration": 94.405338,
   "end_time": "2023-05-15T08:58:42.619758",
   "environment_variables": {},
   "exception": null,
   "input_path": "template.ipynb",
   "output_path": "SRR13329160.ipynb",
   "parameters": {
    "sample_name": "SRR13329160"
   },
   "start_time": "2023-05-15T08:57:08.214420",
   "version": "2.4.0"
  }
 },
 "nbformat": 4,
 "nbformat_minor": 5
}
