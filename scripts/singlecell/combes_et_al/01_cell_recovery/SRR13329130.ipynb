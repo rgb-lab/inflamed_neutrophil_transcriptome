{
 "cells": [
  {
   "cell_type": "code",
   "execution_count": null,
   "id": "4c0f2fa8-5232-4f47-a7ec-6c9bbabe50e2",
   "metadata": {
    "execution": {
     "iopub.execute_input": "2023-05-15T09:10:18.660043Z",
     "iopub.status.busy": "2023-05-15T09:10:18.659894Z",
     "iopub.status.idle": "2023-05-15T09:10:18.664317Z",
     "shell.execute_reply": "2023-05-15T09:10:18.664010Z"
    },
    "papermill": {
     "duration": 0.009143,
     "end_time": "2023-05-15T09:10:18.665192",
     "exception": false,
     "start_time": "2023-05-15T09:10:18.656049",
     "status": "completed"
    },
    "tags": [
     "parameters"
    ]
   },
   "outputs": [],
   "source": [
    "sample_name = \"SRR13329143\""
   ]
  },
  {
   "cell_type": "code",
   "execution_count": null,
   "id": "233794b2",
   "metadata": {
    "execution": {
     "iopub.execute_input": "2023-05-15T09:10:18.670358Z",
     "iopub.status.busy": "2023-05-15T09:10:18.670144Z",
     "iopub.status.idle": "2023-05-15T09:10:18.672052Z",
     "shell.execute_reply": "2023-05-15T09:10:18.671742Z"
    },
    "papermill": {
     "duration": 0.005231,
     "end_time": "2023-05-15T09:10:18.672803",
     "exception": false,
     "start_time": "2023-05-15T09:10:18.667572",
     "status": "completed"
    },
    "tags": [
     "injected-parameters"
    ]
   },
   "outputs": [],
   "source": [
    "# Parameters\n",
    "sample_name = \"SRR13329130\"\n"
   ]
  },
  {
   "cell_type": "code",
   "execution_count": null,
   "id": "f87ed95b-2b67-4a5a-8fe2-47359b1dd2a9",
   "metadata": {
    "execution": {
     "iopub.execute_input": "2023-05-15T09:10:18.677596Z",
     "iopub.status.busy": "2023-05-15T09:10:18.677450Z",
     "iopub.status.idle": "2023-05-15T09:10:18.690029Z",
     "shell.execute_reply": "2023-05-15T09:10:18.689700Z"
    },
    "papermill": {
     "duration": 0.01601,
     "end_time": "2023-05-15T09:10:18.690957",
     "exception": false,
     "start_time": "2023-05-15T09:10:18.674947",
     "status": "completed"
    },
    "tags": []
   },
   "outputs": [],
   "source": [
    "import warnings\n",
    "warnings.simplefilter(action='ignore', category=FutureWarning)\n",
    "warnings.simplefilter(action='ignore', category=UserWarning)"
   ]
  },
  {
   "cell_type": "code",
   "execution_count": null,
   "id": "85161f19-b2c5-490b-8cab-c2cf9653b304",
   "metadata": {
    "execution": {
     "iopub.execute_input": "2023-05-15T09:10:18.696102Z",
     "iopub.status.busy": "2023-05-15T09:10:18.695935Z",
     "iopub.status.idle": "2023-05-15T09:10:23.590657Z",
     "shell.execute_reply": "2023-05-15T09:10:23.590186Z"
    },
    "papermill": {
     "duration": 4.898695,
     "end_time": "2023-05-15T09:10:23.591989",
     "exception": false,
     "start_time": "2023-05-15T09:10:18.693294",
     "status": "completed"
    },
    "tags": []
   },
   "outputs": [],
   "source": [
    "import gc\n",
    "import scanpy as sc\n",
    "import muon as mu\n",
    "import seaborn as sns\n",
    "import os\n",
    "import pandas as pd\n",
    "from matplotlib import pyplot as plt\n",
    "\n",
    "os.environ['R_HOME'] = '/gpfs/bwfor/work/ws/hd_fu399-conda/conda/envs/python_R/lib/R/'\n",
    "import anndata2ri\n",
    "import logging\n",
    "\n",
    "import rpy2.rinterface_lib.callbacks as rcb\n",
    "import rpy2.robjects as ro\n",
    "\n",
    "rcb.logger.setLevel(logging.ERROR)\n",
    "ro.pandas2ri.activate()\n",
    "anndata2ri.activate()\n",
    "\n",
    "%load_ext rpy2.ipython"
   ]
  },
  {
   "cell_type": "code",
   "execution_count": null,
   "id": "fc4ade78-b728-4704-9db6-45fbaab62ba1",
   "metadata": {
    "execution": {
     "iopub.execute_input": "2023-05-15T09:10:23.610465Z",
     "iopub.status.busy": "2023-05-15T09:10:23.610204Z",
     "iopub.status.idle": "2023-05-15T09:10:35.499068Z",
     "shell.execute_reply": "2023-05-15T09:10:35.498485Z"
    },
    "papermill": {
     "duration": 11.893615,
     "end_time": "2023-05-15T09:10:35.500402",
     "exception": false,
     "start_time": "2023-05-15T09:10:23.606787",
     "status": "completed"
    },
    "tags": []
   },
   "outputs": [],
   "source": [
    "%%R\n",
    "library(SoupX)\n",
    "library(Seurat)\n",
    "library(scater)\n",
    "library(scDblFinder)\n",
    "library(BiocParallel)\n",
    "library(MuDataSeurat)\n",
    "library(DropletUtils)"
   ]
  },
  {
   "cell_type": "code",
   "execution_count": null,
   "id": "f7424d90-7690-4290-8651-1db3f9df3a35",
   "metadata": {
    "execution": {
     "iopub.execute_input": "2023-05-15T09:10:35.508402Z",
     "iopub.status.busy": "2023-05-15T09:10:35.508240Z",
     "iopub.status.idle": "2023-05-15T09:10:35.514777Z",
     "shell.execute_reply": "2023-05-15T09:10:35.514430Z"
    },
    "papermill": {
     "duration": 0.010601,
     "end_time": "2023-05-15T09:10:35.515585",
     "exception": false,
     "start_time": "2023-05-15T09:10:35.504984",
     "status": "completed"
    },
    "tags": []
   },
   "outputs": [],
   "source": [
    "metadata = pd.read_csv(\"../../combes_metadata.txt\")"
   ]
  },
  {
   "cell_type": "code",
   "execution_count": null,
   "id": "2574ecf1-bad4-4c33-8f3f-718a358727ab",
   "metadata": {
    "execution": {
     "iopub.execute_input": "2023-05-15T09:10:35.520874Z",
     "iopub.status.busy": "2023-05-15T09:10:35.520615Z",
     "iopub.status.idle": "2023-05-15T09:10:35.532209Z",
     "shell.execute_reply": "2023-05-15T09:10:35.531857Z"
    },
    "papermill": {
     "duration": 0.015113,
     "end_time": "2023-05-15T09:10:35.532981",
     "exception": false,
     "start_time": "2023-05-15T09:10:35.517868",
     "status": "completed"
    },
    "tags": []
   },
   "outputs": [],
   "source": [
    "raw_input = f\"/home/hd/hd_hd/hd_fu399/sds-hd/sd21k006/scRNAseq/revision_natcomm/combes_et_al/fetchngs/results/fastq/{sample_name}/{sample_name}/outs/raw_feature_bc_matrix.h5\""
   ]
  },
  {
   "cell_type": "code",
   "execution_count": null,
   "id": "e266d388-1802-435c-93a5-90067358739c",
   "metadata": {
    "execution": {
     "iopub.execute_input": "2023-05-15T09:10:35.538415Z",
     "iopub.status.busy": "2023-05-15T09:10:35.538285Z",
     "iopub.status.idle": "2023-05-15T09:10:36.047917Z",
     "shell.execute_reply": "2023-05-15T09:10:36.047461Z"
    },
    "papermill": {
     "duration": 0.513508,
     "end_time": "2023-05-15T09:10:36.048872",
     "exception": false,
     "start_time": "2023-05-15T09:10:35.535364",
     "status": "completed"
    },
    "tags": []
   },
   "outputs": [],
   "source": [
    "dataset = sc.read_10x_h5(raw_input)\n",
    "dataset.var_names_make_unique()\n",
    "dataset.obs_names_make_unique()\n",
    "\n",
    "dataset.layers[\"raw_counts\"] = dataset.X.copy()\n",
    "data_tod = dataset.layers[\"raw_counts\"].T.copy()\n",
    "\n",
    "dataset"
   ]
  },
  {
   "cell_type": "code",
   "execution_count": null,
   "id": "af9f5892-ed31-42a6-991b-4e096f582cef",
   "metadata": {
    "execution": {
     "iopub.execute_input": "2023-05-15T09:10:36.055305Z",
     "iopub.status.busy": "2023-05-15T09:10:36.055098Z",
     "iopub.status.idle": "2023-05-15T09:10:36.097046Z",
     "shell.execute_reply": "2023-05-15T09:10:36.096564Z"
    },
    "papermill": {
     "duration": 0.046316,
     "end_time": "2023-05-15T09:10:36.098338",
     "exception": false,
     "start_time": "2023-05-15T09:10:36.052022",
     "status": "completed"
    },
    "tags": []
   },
   "outputs": [],
   "source": [
    "sce = dataset.copy()"
   ]
  },
  {
   "cell_type": "code",
   "execution_count": null,
   "id": "d03f2caf-8e74-430e-b045-0ab80401d165",
   "metadata": {
    "execution": {
     "iopub.execute_input": "2023-05-15T09:10:36.104541Z",
     "iopub.status.busy": "2023-05-15T09:10:36.104385Z",
     "iopub.status.idle": "2023-05-15T09:11:28.139352Z",
     "shell.execute_reply": "2023-05-15T09:11:28.138754Z"
    },
    "papermill": {
     "duration": 52.039231,
     "end_time": "2023-05-15T09:11:28.140627",
     "exception": false,
     "start_time": "2023-05-15T09:10:36.101396",
     "status": "completed"
    },
    "tags": []
   },
   "outputs": [],
   "source": [
    "%%R -i sce -o empty_drop_output\n",
    "set.seed(187)\n",
    "empty_drop_output <- emptyDrops(assay(sce))"
   ]
  },
  {
   "cell_type": "code",
   "execution_count": null,
   "id": "2a34a54b-3ae2-44d6-8679-8769228c5b66",
   "metadata": {
    "execution": {
     "iopub.execute_input": "2023-05-15T09:11:28.149023Z",
     "iopub.status.busy": "2023-05-15T09:11:28.148798Z",
     "iopub.status.idle": "2023-05-15T09:11:28.173226Z",
     "shell.execute_reply": "2023-05-15T09:11:28.172827Z"
    },
    "papermill": {
     "duration": 0.028573,
     "end_time": "2023-05-15T09:11:28.174088",
     "exception": false,
     "start_time": "2023-05-15T09:11:28.145515",
     "status": "completed"
    },
    "tags": []
   },
   "outputs": [],
   "source": [
    "non_empty_barcodes = empty_drop_output[empty_drop_output[\"FDR\"] < 0.001].index\n",
    "dataset = dataset[dataset.obs.index.isin(non_empty_barcodes), :]\n",
    "dataset"
   ]
  },
  {
   "cell_type": "code",
   "execution_count": null,
   "id": "016a91e5-1bef-46fb-b91e-4fb9a6870c44",
   "metadata": {
    "execution": {
     "iopub.execute_input": "2023-05-15T09:11:28.180181Z",
     "iopub.status.busy": "2023-05-15T09:11:28.179997Z",
     "iopub.status.idle": "2023-05-15T09:11:33.269247Z",
     "shell.execute_reply": "2023-05-15T09:11:33.268730Z"
    },
    "papermill": {
     "duration": 5.093669,
     "end_time": "2023-05-15T09:11:33.270525",
     "exception": false,
     "start_time": "2023-05-15T09:11:28.176856",
     "status": "completed"
    },
    "tags": []
   },
   "outputs": [],
   "source": [
    "rna_assay = dataset.copy()\n",
    "sc.pp.normalize_per_cell(rna_assay)\n",
    "sc.pp.log1p(rna_assay)\n",
    "sc.pp.pca(rna_assay)\n",
    "sc.pp.neighbors(rna_assay)\n",
    "sc.tl.leiden(rna_assay, key_added=\"soupx_groups\")\n",
    "\n",
    "soupx_groups = rna_assay.obs[\"soupx_groups\"]\n",
    "\n",
    "del rna_assay\n",
    "\n",
    "genes = dataset.var_names\n",
    "cells = dataset.obs_names\n",
    "data = dataset.X.T.copy()"
   ]
  },
  {
   "cell_type": "code",
   "execution_count": null,
   "id": "9db4ea1f-1580-4f43-a3f0-86002397cd98",
   "metadata": {
    "execution": {
     "iopub.execute_input": "2023-05-15T09:11:33.277548Z",
     "iopub.status.busy": "2023-05-15T09:11:33.277231Z",
     "iopub.status.idle": "2023-05-15T09:11:45.957512Z",
     "shell.execute_reply": "2023-05-15T09:11:45.956888Z"
    },
    "papermill": {
     "duration": 12.684932,
     "end_time": "2023-05-15T09:11:45.958889",
     "exception": false,
     "start_time": "2023-05-15T09:11:33.273957",
     "status": "completed"
    },
    "tags": []
   },
   "outputs": [],
   "source": [
    "%%R -i data -i data_tod -i genes -i cells -i soupx_groups -o out \n",
    "set.seed(187)\n",
    "# specify row and column names of data\n",
    "rownames(data) = genes\n",
    "colnames(data) = cells\n",
    "# ensure correct sparse format for table of counts and table of droplets\n",
    "data <- as(data, \"sparseMatrix\")\n",
    "data_tod <- as(data_tod, \"sparseMatrix\")\n",
    "\n",
    "# Generate SoupChannel Object for SoupX \n",
    "sc = SoupChannel(data_tod, data, calcSoupProfile = FALSE)\n",
    "\n",
    "# Add extra meta data to the SoupChannel object\n",
    "soupProf = data.frame(row.names = rownames(data),\n",
    "                      est = rowSums(data)/sum(data),\n",
    "                      counts = rowSums(data))\n",
    "sc = setSoupProfile(sc, soupProf)\n",
    "# Set cluster information in SoupChannel\n",
    "sc = setClusters(sc, soupx_groups)\n",
    "\n",
    "# Estimate contamination fraction\n",
    "sc  = autoEstCont(sc, doPlot=FALSE, forceAccept = TRUE)\n",
    "# Infer corrected table of counts and rount to integer\n",
    "out = adjustCounts(sc, roundToInt = TRUE)"
   ]
  },
  {
   "cell_type": "code",
   "execution_count": null,
   "id": "32555d5e-5fa3-46dd-a4e0-ddc96ea265e2",
   "metadata": {
    "execution": {
     "iopub.execute_input": "2023-05-15T09:11:45.967626Z",
     "iopub.status.busy": "2023-05-15T09:11:45.967217Z",
     "iopub.status.idle": "2023-05-15T09:11:45.999976Z",
     "shell.execute_reply": "2023-05-15T09:11:45.999500Z"
    },
    "papermill": {
     "duration": 0.037478,
     "end_time": "2023-05-15T09:11:46.001250",
     "exception": false,
     "start_time": "2023-05-15T09:11:45.963772",
     "status": "completed"
    },
    "tags": []
   },
   "outputs": [],
   "source": [
    "dataset.layers[\"soupX_counts\"] = out.T\n",
    "dataset.X = dataset.layers[\"soupX_counts\"].copy()"
   ]
  },
  {
   "cell_type": "code",
   "execution_count": null,
   "id": "e27da7df-e094-4d2a-9109-5a363e012175",
   "metadata": {
    "execution": {
     "iopub.execute_input": "2023-05-15T09:11:46.007631Z",
     "iopub.status.busy": "2023-05-15T09:11:46.007487Z",
     "iopub.status.idle": "2023-05-15T09:11:46.009749Z",
     "shell.execute_reply": "2023-05-15T09:11:46.009437Z"
    },
    "papermill": {
     "duration": 0.006153,
     "end_time": "2023-05-15T09:11:46.010497",
     "exception": false,
     "start_time": "2023-05-15T09:11:46.004344",
     "status": "completed"
    },
    "tags": []
   },
   "outputs": [],
   "source": [
    "data_mat = dataset.X.T"
   ]
  },
  {
   "cell_type": "code",
   "execution_count": null,
   "id": "80a993b1-5ccb-4697-9187-1beb7ab8aff9",
   "metadata": {
    "execution": {
     "iopub.execute_input": "2023-05-15T09:11:46.016554Z",
     "iopub.status.busy": "2023-05-15T09:11:46.016309Z",
     "iopub.status.idle": "2023-05-15T09:12:03.860433Z",
     "shell.execute_reply": "2023-05-15T09:12:03.859853Z"
    },
    "papermill": {
     "duration": 17.848593,
     "end_time": "2023-05-15T09:12:03.861779",
     "exception": false,
     "start_time": "2023-05-15T09:11:46.013186",
     "status": "completed"
    },
    "tags": []
   },
   "outputs": [],
   "source": [
    "%%R -i data_mat -o droplet_class\n",
    "\n",
    "set.seed(187)\n",
    "sce = scDblFinder(\n",
    "    SingleCellExperiment(\n",
    "        list(counts=data_mat),\n",
    "    ) \n",
    ")\n",
    "droplet_class = sce$scDblFinder.class"
   ]
  },
  {
   "cell_type": "code",
   "execution_count": null,
   "id": "d4dd6e9d-fcf2-41fc-8457-c8e0a3cb2c71",
   "metadata": {
    "execution": {
     "iopub.execute_input": "2023-05-15T09:12:03.870837Z",
     "iopub.status.busy": "2023-05-15T09:12:03.870447Z",
     "iopub.status.idle": "2023-05-15T09:12:03.875514Z",
     "shell.execute_reply": "2023-05-15T09:12:03.875182Z"
    },
    "papermill": {
     "duration": 0.009292,
     "end_time": "2023-05-15T09:12:03.876300",
     "exception": false,
     "start_time": "2023-05-15T09:12:03.867008",
     "status": "completed"
    },
    "tags": []
   },
   "outputs": [],
   "source": [
    "dataset.obs[\"scDblFinder_class\"] = droplet_class\n",
    "dataset.obs.scDblFinder_class.value_counts()\n",
    "dataset"
   ]
  },
  {
   "cell_type": "code",
   "execution_count": null,
   "id": "28c95014-2d6c-477f-95cb-9f9f0507520c",
   "metadata": {
    "execution": {
     "iopub.execute_input": "2023-05-15T09:12:03.882603Z",
     "iopub.status.busy": "2023-05-15T09:12:03.882426Z",
     "iopub.status.idle": "2023-05-15T09:12:03.901631Z",
     "shell.execute_reply": "2023-05-15T09:12:03.901262Z"
    },
    "papermill": {
     "duration": 0.023898,
     "end_time": "2023-05-15T09:12:03.903011",
     "exception": false,
     "start_time": "2023-05-15T09:12:03.879113",
     "status": "completed"
    },
    "tags": []
   },
   "outputs": [],
   "source": [
    "dataset = dataset[dataset.obs[\"scDblFinder_class\"] == 1]"
   ]
  },
  {
   "cell_type": "code",
   "execution_count": null,
   "id": "3e22f9e0-bfcb-416c-a151-a9bca3bec3b9",
   "metadata": {
    "execution": {
     "iopub.execute_input": "2023-05-15T09:12:03.910132Z",
     "iopub.status.busy": "2023-05-15T09:12:03.909968Z",
     "iopub.status.idle": "2023-05-15T09:12:04.058804Z",
     "shell.execute_reply": "2023-05-15T09:12:04.058300Z"
    },
    "papermill": {
     "duration": 0.153686,
     "end_time": "2023-05-15T09:12:04.059731",
     "exception": false,
     "start_time": "2023-05-15T09:12:03.906045",
     "status": "completed"
    },
    "tags": []
   },
   "outputs": [],
   "source": [
    "# mitochondrial genes\n",
    "dataset.var[\"mt\"] = dataset.var_names.str.startswith(\"MT-\")\n",
    "# ribosomal genes\n",
    "dataset.var[\"ribo\"] = dataset.var_names.str.startswith((\"RPS\", \"RPL\"))\n",
    "# hemoglobin genes.\n",
    "dataset.var[\"hb\"] = dataset.var_names.str.contains((\"^HB[^(P)]\"))\n",
    "\n",
    "sc.pp.calculate_qc_metrics(dataset,\n",
    "                           qc_vars=['mt', 'ribo', 'hb'],\n",
    "                           percent_top=None,\n",
    "                           log1p=False,\n",
    "                           inplace=True)\n",
    "dataset"
   ]
  },
  {
   "cell_type": "code",
   "execution_count": null,
   "id": "34deee79-4043-428f-8575-aa57b45f6369",
   "metadata": {
    "execution": {
     "iopub.execute_input": "2023-05-15T09:12:04.066809Z",
     "iopub.status.busy": "2023-05-15T09:12:04.066652Z",
     "iopub.status.idle": "2023-05-15T09:12:04.566086Z",
     "shell.execute_reply": "2023-05-15T09:12:04.565686Z"
    },
    "papermill": {
     "duration": 0.503822,
     "end_time": "2023-05-15T09:12:04.566947",
     "exception": false,
     "start_time": "2023-05-15T09:12:04.063125",
     "status": "completed"
    },
    "tags": []
   },
   "outputs": [],
   "source": [
    "fig, ax = plt.subplots(ncols = 4, figsize = (16,4))\n",
    "axis = sc.pl.violin(dataset, \"n_genes_by_counts\", jitter = 0.4, ax = ax[0], show = False)\n",
    "axis.grid(False)\n",
    "axis.set_title(\"Unique Genes per cell\")\n",
    "axis.tick_params(axis = \"x\", bottom =False, labelbottom =False)\n",
    "axis.set_ylabel(\"# genes\")\n",
    "axis.axhline(y = 100, color = \"black\", label = \"cutoff\")\n",
    "axis.legend(fontsize = 14, loc = \"upper right\")\n",
    "\n",
    "axis = sc.pl.violin(dataset, \"pct_counts_mt\", jitter = 0.4, ax = ax[1], show = False)\n",
    "axis.grid(False)\n",
    "axis.set_title(\"Mitochondrial Fraction\")\n",
    "axis.tick_params(axis = \"x\", bottom =False, labelbottom =False)\n",
    "axis.set_ylabel(\"% mitochondrial genes\")\n",
    "axis.axhline(y = 10, color = \"black\", label = \"cutoff\")\n",
    "axis.legend(fontsize = 14, loc = \"upper right\")\n",
    "\n",
    "axis = sc.pl.violin(dataset, \"pct_counts_hb\", jitter = 0.4, ax = ax[2], show = False, size =2)\n",
    "axis.grid(False)\n",
    "axis.set_title(\"Hemoglobin Fraction\")\n",
    "axis.tick_params(axis = \"x\", bottom =False, labelbottom =False)\n",
    "axis.set_ylabel(\"% hemoglobin genes\")\n",
    "axis.axhline(y = 3, color = \"black\", label = \"cutoff\")\n",
    "axis.legend(fontsize = 14, loc = \"upper right\")\n",
    "#axis.set_ylim(0,5)\n",
    "\n",
    "axis = sc.pl.violin(dataset, \"pct_counts_ribo\", jitter = 0.4, ax = ax[3], show = False)\n",
    "axis.grid(False)\n",
    "axis.set_title(\"Ribosomal Fraction\")\n",
    "axis.tick_params(axis = \"x\", bottom =False, labelbottom =False)\n",
    "axis.set_ylabel(\"% ribosome genes\")\n",
    "\n",
    "plt.tight_layout()\n",
    "#plt.savefig(f\"{outputDir}08_gene_based_filtering.pdf\", dpi = 300)\n",
    "plt.show()\n",
    "\n"
   ]
  },
  {
   "cell_type": "code",
   "execution_count": null,
   "id": "d7ade754-843e-4840-8707-426613d8c0c5",
   "metadata": {
    "execution": {
     "iopub.execute_input": "2023-05-15T09:12:04.576112Z",
     "iopub.status.busy": "2023-05-15T09:12:04.575934Z",
     "iopub.status.idle": "2023-05-15T09:12:04.585080Z",
     "shell.execute_reply": "2023-05-15T09:12:04.584742Z"
    },
    "papermill": {
     "duration": 0.014504,
     "end_time": "2023-05-15T09:12:04.585840",
     "exception": false,
     "start_time": "2023-05-15T09:12:04.571336",
     "status": "completed"
    },
    "tags": []
   },
   "outputs": [],
   "source": [
    "dataset = dataset[dataset.obs.pct_counts_mt < 10, :]\n",
    "dataset = dataset[dataset.obs.n_genes_by_counts > 100, :]\n",
    "dataset = dataset[dataset.obs.pct_counts_hb < 3, :]\n",
    "dataset"
   ]
  },
  {
   "cell_type": "code",
   "execution_count": null,
   "id": "1941fa36-e865-4500-b586-f7a32d142c9b",
   "metadata": {
    "execution": {
     "iopub.execute_input": "2023-05-15T09:12:04.594670Z",
     "iopub.status.busy": "2023-05-15T09:12:04.594508Z",
     "iopub.status.idle": "2023-05-15T09:12:04.597292Z",
     "shell.execute_reply": "2023-05-15T09:12:04.596984Z"
    },
    "papermill": {
     "duration": 0.008082,
     "end_time": "2023-05-15T09:12:04.598029",
     "exception": false,
     "start_time": "2023-05-15T09:12:04.589947",
     "status": "completed"
    },
    "tags": []
   },
   "outputs": [],
   "source": [
    "metadata.columns"
   ]
  },
  {
   "cell_type": "code",
   "execution_count": null,
   "id": "2e0ff8c3-2aa9-4a01-9b88-5912a6734447",
   "metadata": {
    "execution": {
     "iopub.execute_input": "2023-05-15T09:12:04.606964Z",
     "iopub.status.busy": "2023-05-15T09:12:04.606773Z",
     "iopub.status.idle": "2023-05-15T09:12:04.686290Z",
     "shell.execute_reply": "2023-05-15T09:12:04.685806Z"
    },
    "papermill": {
     "duration": 0.08519,
     "end_time": "2023-05-15T09:12:04.687388",
     "exception": false,
     "start_time": "2023-05-15T09:12:04.602198",
     "status": "completed"
    },
    "tags": []
   },
   "outputs": [],
   "source": [
    "for col in metadata.columns:\n",
    "    dataset.obs[col] = metadata.loc[metadata[\"Run\"] == sample_name, col].to_list()[0]"
   ]
  },
  {
   "cell_type": "code",
   "execution_count": null,
   "id": "b84578d3-d63e-419c-a272-a0b8317d05ab",
   "metadata": {
    "execution": {
     "iopub.execute_input": "2023-05-15T09:12:04.697175Z",
     "iopub.status.busy": "2023-05-15T09:12:04.696987Z",
     "iopub.status.idle": "2023-05-15T09:12:05.320911Z",
     "shell.execute_reply": "2023-05-15T09:12:05.320403Z"
    },
    "papermill": {
     "duration": 0.629951,
     "end_time": "2023-05-15T09:12:05.322122",
     "exception": false,
     "start_time": "2023-05-15T09:12:04.692171",
     "status": "completed"
    },
    "tags": []
   },
   "outputs": [],
   "source": [
    "dataset.write(f\"../../int_data/{sample_name}_qc.h5ad\")"
   ]
  },
  {
   "cell_type": "code",
   "execution_count": null,
   "id": "501b33a0-432d-415f-ae82-50723484b85d",
   "metadata": {
    "execution": {
     "iopub.execute_input": "2023-05-15T09:12:05.331594Z",
     "iopub.status.busy": "2023-05-15T09:12:05.331401Z",
     "iopub.status.idle": "2023-05-15T09:12:05.334411Z",
     "shell.execute_reply": "2023-05-15T09:12:05.334083Z"
    },
    "papermill": {
     "duration": 0.008555,
     "end_time": "2023-05-15T09:12:05.335191",
     "exception": false,
     "start_time": "2023-05-15T09:12:05.326636",
     "status": "completed"
    },
    "tags": []
   },
   "outputs": [],
   "source": [
    "dataset"
   ]
  }
 ],
 "metadata": {
  "kernelspec": {
   "display_name": "py_R",
   "language": "python",
   "name": "python_r"
  },
  "language_info": {
   "codemirror_mode": {
    "name": "ipython",
    "version": 3
   },
   "file_extension": ".py",
   "mimetype": "text/x-python",
   "name": "python",
   "nbconvert_exporter": "python",
   "pygments_lexer": "ipython3",
   "version": "3.10.9"
  },
  "papermill": {
   "default_parameters": {},
   "duration": 109.390432,
   "end_time": "2023-05-15T09:12:06.857237",
   "environment_variables": {},
   "exception": null,
   "input_path": "template.ipynb",
   "output_path": "SRR13329130.ipynb",
   "parameters": {
    "sample_name": "SRR13329130"
   },
   "start_time": "2023-05-15T09:10:17.466805",
   "version": "2.4.0"
  }
 },
 "nbformat": 4,
 "nbformat_minor": 5
}
