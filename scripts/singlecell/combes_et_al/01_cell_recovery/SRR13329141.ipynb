{
 "cells": [
  {
   "cell_type": "code",
   "execution_count": null,
   "id": "4c0f2fa8-5232-4f47-a7ec-6c9bbabe50e2",
   "metadata": {
    "execution": {
     "iopub.execute_input": "2023-05-15T08:51:23.629642Z",
     "iopub.status.busy": "2023-05-15T08:51:23.629493Z",
     "iopub.status.idle": "2023-05-15T08:51:23.634451Z",
     "shell.execute_reply": "2023-05-15T08:51:23.634142Z"
    },
    "papermill": {
     "duration": 0.008968,
     "end_time": "2023-05-15T08:51:23.635269",
     "exception": false,
     "start_time": "2023-05-15T08:51:23.626301",
     "status": "completed"
    },
    "tags": [
     "parameters"
    ]
   },
   "outputs": [],
   "source": [
    "sample_name = \"SRR13329143\""
   ]
  },
  {
   "cell_type": "code",
   "execution_count": null,
   "id": "3597076c",
   "metadata": {
    "execution": {
     "iopub.execute_input": "2023-05-15T08:51:23.640441Z",
     "iopub.status.busy": "2023-05-15T08:51:23.640209Z",
     "iopub.status.idle": "2023-05-15T08:51:23.642123Z",
     "shell.execute_reply": "2023-05-15T08:51:23.641832Z"
    },
    "papermill": {
     "duration": 0.005151,
     "end_time": "2023-05-15T08:51:23.642842",
     "exception": false,
     "start_time": "2023-05-15T08:51:23.637691",
     "status": "completed"
    },
    "tags": [
     "injected-parameters"
    ]
   },
   "outputs": [],
   "source": [
    "# Parameters\n",
    "sample_name = \"SRR13329141\"\n"
   ]
  },
  {
   "cell_type": "code",
   "execution_count": null,
   "id": "f87ed95b-2b67-4a5a-8fe2-47359b1dd2a9",
   "metadata": {
    "execution": {
     "iopub.execute_input": "2023-05-15T08:51:23.647715Z",
     "iopub.status.busy": "2023-05-15T08:51:23.647550Z",
     "iopub.status.idle": "2023-05-15T08:51:23.649750Z",
     "shell.execute_reply": "2023-05-15T08:51:23.649449Z"
    },
    "papermill": {
     "duration": 0.00554,
     "end_time": "2023-05-15T08:51:23.650559",
     "exception": false,
     "start_time": "2023-05-15T08:51:23.645019",
     "status": "completed"
    },
    "tags": []
   },
   "outputs": [],
   "source": [
    "import warnings\n",
    "warnings.simplefilter(action='ignore', category=FutureWarning)\n",
    "warnings.simplefilter(action='ignore', category=UserWarning)"
   ]
  },
  {
   "cell_type": "code",
   "execution_count": null,
   "id": "85161f19-b2c5-490b-8cab-c2cf9653b304",
   "metadata": {
    "execution": {
     "iopub.execute_input": "2023-05-15T08:51:23.655507Z",
     "iopub.status.busy": "2023-05-15T08:51:23.655340Z",
     "iopub.status.idle": "2023-05-15T08:51:28.537311Z",
     "shell.execute_reply": "2023-05-15T08:51:28.536792Z"
    },
    "papermill": {
     "duration": 4.885839,
     "end_time": "2023-05-15T08:51:28.538633",
     "exception": false,
     "start_time": "2023-05-15T08:51:23.652794",
     "status": "completed"
    },
    "tags": []
   },
   "outputs": [],
   "source": [
    "import gc\n",
    "import scanpy as sc\n",
    "import muon as mu\n",
    "import seaborn as sns\n",
    "import os\n",
    "import pandas as pd\n",
    "from matplotlib import pyplot as plt\n",
    "\n",
    "os.environ['R_HOME'] = '/gpfs/bwfor/work/ws/hd_fu399-conda/conda/envs/python_R/lib/R/'\n",
    "import anndata2ri\n",
    "import logging\n",
    "\n",
    "import rpy2.rinterface_lib.callbacks as rcb\n",
    "import rpy2.robjects as ro\n",
    "\n",
    "rcb.logger.setLevel(logging.ERROR)\n",
    "ro.pandas2ri.activate()\n",
    "anndata2ri.activate()\n",
    "\n",
    "%load_ext rpy2.ipython"
   ]
  },
  {
   "cell_type": "code",
   "execution_count": null,
   "id": "fc4ade78-b728-4704-9db6-45fbaab62ba1",
   "metadata": {
    "execution": {
     "iopub.execute_input": "2023-05-15T08:51:28.546744Z",
     "iopub.status.busy": "2023-05-15T08:51:28.546400Z",
     "iopub.status.idle": "2023-05-15T08:51:40.875387Z",
     "shell.execute_reply": "2023-05-15T08:51:40.874835Z"
    },
    "papermill": {
     "duration": 12.333236,
     "end_time": "2023-05-15T08:51:40.876600",
     "exception": false,
     "start_time": "2023-05-15T08:51:28.543364",
     "status": "completed"
    },
    "tags": []
   },
   "outputs": [],
   "source": [
    "%%R\n",
    "library(SoupX)\n",
    "library(Seurat)\n",
    "library(scater)\n",
    "library(scDblFinder)\n",
    "library(BiocParallel)\n",
    "library(MuDataSeurat)\n",
    "library(DropletUtils)"
   ]
  },
  {
   "cell_type": "code",
   "execution_count": null,
   "id": "f7424d90-7690-4290-8651-1db3f9df3a35",
   "metadata": {
    "execution": {
     "iopub.execute_input": "2023-05-15T08:51:40.884881Z",
     "iopub.status.busy": "2023-05-15T08:51:40.884699Z",
     "iopub.status.idle": "2023-05-15T08:51:40.891082Z",
     "shell.execute_reply": "2023-05-15T08:51:40.890725Z"
    },
    "papermill": {
     "duration": 0.01029,
     "end_time": "2023-05-15T08:51:40.891861",
     "exception": false,
     "start_time": "2023-05-15T08:51:40.881571",
     "status": "completed"
    },
    "tags": []
   },
   "outputs": [],
   "source": [
    "metadata = pd.read_csv(\"../../combes_metadata.txt\")"
   ]
  },
  {
   "cell_type": "code",
   "execution_count": null,
   "id": "2574ecf1-bad4-4c33-8f3f-718a358727ab",
   "metadata": {
    "execution": {
     "iopub.execute_input": "2023-05-15T08:51:40.897283Z",
     "iopub.status.busy": "2023-05-15T08:51:40.896991Z",
     "iopub.status.idle": "2023-05-15T08:51:40.907854Z",
     "shell.execute_reply": "2023-05-15T08:51:40.907551Z"
    },
    "papermill": {
     "duration": 0.014414,
     "end_time": "2023-05-15T08:51:40.908632",
     "exception": false,
     "start_time": "2023-05-15T08:51:40.894218",
     "status": "completed"
    },
    "tags": []
   },
   "outputs": [],
   "source": [
    "raw_input = f\"/home/hd/hd_hd/hd_fu399/sds-hd/sd21k006/scRNAseq/revision_natcomm/combes_et_al/fetchngs/results/fastq/{sample_name}/{sample_name}/outs/raw_feature_bc_matrix.h5\""
   ]
  },
  {
   "cell_type": "code",
   "execution_count": null,
   "id": "e266d388-1802-435c-93a5-90067358739c",
   "metadata": {
    "execution": {
     "iopub.execute_input": "2023-05-15T08:51:40.913921Z",
     "iopub.status.busy": "2023-05-15T08:51:40.913759Z",
     "iopub.status.idle": "2023-05-15T08:51:41.283283Z",
     "shell.execute_reply": "2023-05-15T08:51:41.282845Z"
    },
    "papermill": {
     "duration": 0.373218,
     "end_time": "2023-05-15T08:51:41.284207",
     "exception": false,
     "start_time": "2023-05-15T08:51:40.910989",
     "status": "completed"
    },
    "tags": []
   },
   "outputs": [],
   "source": [
    "dataset = sc.read_10x_h5(raw_input)\n",
    "dataset.var_names_make_unique()\n",
    "dataset.obs_names_make_unique()\n",
    "\n",
    "dataset.layers[\"raw_counts\"] = dataset.X.copy()\n",
    "data_tod = dataset.layers[\"raw_counts\"].T.copy()\n",
    "\n",
    "dataset"
   ]
  },
  {
   "cell_type": "code",
   "execution_count": null,
   "id": "af9f5892-ed31-42a6-991b-4e096f582cef",
   "metadata": {
    "execution": {
     "iopub.execute_input": "2023-05-15T08:51:41.290631Z",
     "iopub.status.busy": "2023-05-15T08:51:41.290440Z",
     "iopub.status.idle": "2023-05-15T08:51:41.317387Z",
     "shell.execute_reply": "2023-05-15T08:51:41.316894Z"
    },
    "papermill": {
     "duration": 0.031267,
     "end_time": "2023-05-15T08:51:41.318659",
     "exception": false,
     "start_time": "2023-05-15T08:51:41.287392",
     "status": "completed"
    },
    "tags": []
   },
   "outputs": [],
   "source": [
    "sce = dataset.copy()"
   ]
  },
  {
   "cell_type": "code",
   "execution_count": null,
   "id": "d03f2caf-8e74-430e-b045-0ab80401d165",
   "metadata": {
    "execution": {
     "iopub.execute_input": "2023-05-15T08:51:41.324866Z",
     "iopub.status.busy": "2023-05-15T08:51:41.324662Z",
     "iopub.status.idle": "2023-05-15T08:52:27.176126Z",
     "shell.execute_reply": "2023-05-15T08:52:27.175527Z"
    },
    "papermill": {
     "duration": 45.85576,
     "end_time": "2023-05-15T08:52:27.177457",
     "exception": false,
     "start_time": "2023-05-15T08:51:41.321697",
     "status": "completed"
    },
    "tags": []
   },
   "outputs": [],
   "source": [
    "%%R -i sce -o empty_drop_output\n",
    "set.seed(187)\n",
    "empty_drop_output <- emptyDrops(assay(sce))"
   ]
  },
  {
   "cell_type": "code",
   "execution_count": null,
   "id": "2a34a54b-3ae2-44d6-8679-8769228c5b66",
   "metadata": {
    "execution": {
     "iopub.execute_input": "2023-05-15T08:52:27.186063Z",
     "iopub.status.busy": "2023-05-15T08:52:27.185868Z",
     "iopub.status.idle": "2023-05-15T08:52:27.205529Z",
     "shell.execute_reply": "2023-05-15T08:52:27.205204Z"
    },
    "papermill": {
     "duration": 0.023686,
     "end_time": "2023-05-15T08:52:27.206310",
     "exception": false,
     "start_time": "2023-05-15T08:52:27.182624",
     "status": "completed"
    },
    "tags": []
   },
   "outputs": [],
   "source": [
    "non_empty_barcodes = empty_drop_output[empty_drop_output[\"FDR\"] < 0.001].index\n",
    "dataset = dataset[dataset.obs.index.isin(non_empty_barcodes), :]\n",
    "dataset"
   ]
  },
  {
   "cell_type": "code",
   "execution_count": null,
   "id": "016a91e5-1bef-46fb-b91e-4fb9a6870c44",
   "metadata": {
    "execution": {
     "iopub.execute_input": "2023-05-15T08:52:27.212503Z",
     "iopub.status.busy": "2023-05-15T08:52:27.212303Z",
     "iopub.status.idle": "2023-05-15T08:52:30.532011Z",
     "shell.execute_reply": "2023-05-15T08:52:30.531434Z"
    },
    "papermill": {
     "duration": 3.324097,
     "end_time": "2023-05-15T08:52:30.533259",
     "exception": false,
     "start_time": "2023-05-15T08:52:27.209162",
     "status": "completed"
    },
    "tags": []
   },
   "outputs": [],
   "source": [
    "rna_assay = dataset.copy()\n",
    "sc.pp.normalize_per_cell(rna_assay)\n",
    "sc.pp.log1p(rna_assay)\n",
    "sc.pp.pca(rna_assay)\n",
    "sc.pp.neighbors(rna_assay)\n",
    "sc.tl.leiden(rna_assay, key_added=\"soupx_groups\")\n",
    "\n",
    "soupx_groups = rna_assay.obs[\"soupx_groups\"]\n",
    "\n",
    "del rna_assay\n",
    "\n",
    "genes = dataset.var_names\n",
    "cells = dataset.obs_names\n",
    "data = dataset.X.T.copy()"
   ]
  },
  {
   "cell_type": "code",
   "execution_count": null,
   "id": "9db4ea1f-1580-4f43-a3f0-86002397cd98",
   "metadata": {
    "execution": {
     "iopub.execute_input": "2023-05-15T08:52:30.539862Z",
     "iopub.status.busy": "2023-05-15T08:52:30.539696Z",
     "iopub.status.idle": "2023-05-15T08:52:39.789830Z",
     "shell.execute_reply": "2023-05-15T08:52:39.789226Z"
    },
    "papermill": {
     "duration": 9.254706,
     "end_time": "2023-05-15T08:52:39.791207",
     "exception": false,
     "start_time": "2023-05-15T08:52:30.536501",
     "status": "completed"
    },
    "tags": []
   },
   "outputs": [],
   "source": [
    "%%R -i data -i data_tod -i genes -i cells -i soupx_groups -o out \n",
    "set.seed(187)\n",
    "# specify row and column names of data\n",
    "rownames(data) = genes\n",
    "colnames(data) = cells\n",
    "# ensure correct sparse format for table of counts and table of droplets\n",
    "data <- as(data, \"sparseMatrix\")\n",
    "data_tod <- as(data_tod, \"sparseMatrix\")\n",
    "\n",
    "# Generate SoupChannel Object for SoupX \n",
    "sc = SoupChannel(data_tod, data, calcSoupProfile = FALSE)\n",
    "\n",
    "# Add extra meta data to the SoupChannel object\n",
    "soupProf = data.frame(row.names = rownames(data),\n",
    "                      est = rowSums(data)/sum(data),\n",
    "                      counts = rowSums(data))\n",
    "sc = setSoupProfile(sc, soupProf)\n",
    "# Set cluster information in SoupChannel\n",
    "sc = setClusters(sc, soupx_groups)\n",
    "\n",
    "# Estimate contamination fraction\n",
    "sc  = autoEstCont(sc, doPlot=FALSE, forceAccept = TRUE)\n",
    "# Infer corrected table of counts and rount to integer\n",
    "out = adjustCounts(sc, roundToInt = TRUE)"
   ]
  },
  {
   "cell_type": "code",
   "execution_count": null,
   "id": "32555d5e-5fa3-46dd-a4e0-ddc96ea265e2",
   "metadata": {
    "execution": {
     "iopub.execute_input": "2023-05-15T08:52:39.800319Z",
     "iopub.status.busy": "2023-05-15T08:52:39.800052Z",
     "iopub.status.idle": "2023-05-15T08:52:39.819266Z",
     "shell.execute_reply": "2023-05-15T08:52:39.818882Z"
    },
    "papermill": {
     "duration": 0.024113,
     "end_time": "2023-05-15T08:52:39.820661",
     "exception": false,
     "start_time": "2023-05-15T08:52:39.796548",
     "status": "completed"
    },
    "tags": []
   },
   "outputs": [],
   "source": [
    "dataset.layers[\"soupX_counts\"] = out.T\n",
    "dataset.X = dataset.layers[\"soupX_counts\"].copy()"
   ]
  },
  {
   "cell_type": "code",
   "execution_count": null,
   "id": "e27da7df-e094-4d2a-9109-5a363e012175",
   "metadata": {
    "execution": {
     "iopub.execute_input": "2023-05-15T08:52:39.826827Z",
     "iopub.status.busy": "2023-05-15T08:52:39.826621Z",
     "iopub.status.idle": "2023-05-15T08:52:39.828959Z",
     "shell.execute_reply": "2023-05-15T08:52:39.828628Z"
    },
    "papermill": {
     "duration": 0.00624,
     "end_time": "2023-05-15T08:52:39.829727",
     "exception": false,
     "start_time": "2023-05-15T08:52:39.823487",
     "status": "completed"
    },
    "tags": []
   },
   "outputs": [],
   "source": [
    "data_mat = dataset.X.T"
   ]
  },
  {
   "cell_type": "code",
   "execution_count": null,
   "id": "80a993b1-5ccb-4697-9187-1beb7ab8aff9",
   "metadata": {
    "execution": {
     "iopub.execute_input": "2023-05-15T08:52:39.835864Z",
     "iopub.status.busy": "2023-05-15T08:52:39.835701Z",
     "iopub.status.idle": "2023-05-15T08:52:57.976898Z",
     "shell.execute_reply": "2023-05-15T08:52:57.976286Z"
    },
    "papermill": {
     "duration": 18.145792,
     "end_time": "2023-05-15T08:52:57.978264",
     "exception": false,
     "start_time": "2023-05-15T08:52:39.832472",
     "status": "completed"
    },
    "tags": []
   },
   "outputs": [],
   "source": [
    "%%R -i data_mat -o droplet_class\n",
    "\n",
    "set.seed(187)\n",
    "sce = scDblFinder(\n",
    "    SingleCellExperiment(\n",
    "        list(counts=data_mat),\n",
    "    ) \n",
    ")\n",
    "droplet_class = sce$scDblFinder.class"
   ]
  },
  {
   "cell_type": "code",
   "execution_count": null,
   "id": "d4dd6e9d-fcf2-41fc-8457-c8e0a3cb2c71",
   "metadata": {
    "execution": {
     "iopub.execute_input": "2023-05-15T08:52:57.987588Z",
     "iopub.status.busy": "2023-05-15T08:52:57.987217Z",
     "iopub.status.idle": "2023-05-15T08:52:57.992485Z",
     "shell.execute_reply": "2023-05-15T08:52:57.992143Z"
    },
    "papermill": {
     "duration": 0.009654,
     "end_time": "2023-05-15T08:52:57.993262",
     "exception": false,
     "start_time": "2023-05-15T08:52:57.983608",
     "status": "completed"
    },
    "tags": []
   },
   "outputs": [],
   "source": [
    "dataset.obs[\"scDblFinder_class\"] = droplet_class\n",
    "dataset.obs.scDblFinder_class.value_counts()\n",
    "dataset"
   ]
  },
  {
   "cell_type": "code",
   "execution_count": null,
   "id": "28c95014-2d6c-477f-95cb-9f9f0507520c",
   "metadata": {
    "execution": {
     "iopub.execute_input": "2023-05-15T08:52:57.999642Z",
     "iopub.status.busy": "2023-05-15T08:52:57.999378Z",
     "iopub.status.idle": "2023-05-15T08:52:58.011972Z",
     "shell.execute_reply": "2023-05-15T08:52:58.011637Z"
    },
    "papermill": {
     "duration": 0.016671,
     "end_time": "2023-05-15T08:52:58.012766",
     "exception": false,
     "start_time": "2023-05-15T08:52:57.996095",
     "status": "completed"
    },
    "tags": []
   },
   "outputs": [],
   "source": [
    "dataset = dataset[dataset.obs[\"scDblFinder_class\"] == 1]"
   ]
  },
  {
   "cell_type": "code",
   "execution_count": null,
   "id": "3e22f9e0-bfcb-416c-a151-a9bca3bec3b9",
   "metadata": {
    "execution": {
     "iopub.execute_input": "2023-05-15T08:52:58.019000Z",
     "iopub.status.busy": "2023-05-15T08:52:58.018803Z",
     "iopub.status.idle": "2023-05-15T08:52:58.122105Z",
     "shell.execute_reply": "2023-05-15T08:52:58.121722Z"
    },
    "papermill": {
     "duration": 0.107432,
     "end_time": "2023-05-15T08:52:58.123020",
     "exception": false,
     "start_time": "2023-05-15T08:52:58.015588",
     "status": "completed"
    },
    "tags": []
   },
   "outputs": [],
   "source": [
    "# mitochondrial genes\n",
    "dataset.var[\"mt\"] = dataset.var_names.str.startswith(\"MT-\")\n",
    "# ribosomal genes\n",
    "dataset.var[\"ribo\"] = dataset.var_names.str.startswith((\"RPS\", \"RPL\"))\n",
    "# hemoglobin genes.\n",
    "dataset.var[\"hb\"] = dataset.var_names.str.contains((\"^HB[^(P)]\"))\n",
    "\n",
    "sc.pp.calculate_qc_metrics(dataset,\n",
    "                           qc_vars=['mt', 'ribo', 'hb'],\n",
    "                           percent_top=None,\n",
    "                           log1p=False,\n",
    "                           inplace=True)\n",
    "dataset"
   ]
  },
  {
   "cell_type": "code",
   "execution_count": null,
   "id": "34deee79-4043-428f-8575-aa57b45f6369",
   "metadata": {
    "execution": {
     "iopub.execute_input": "2023-05-15T08:52:58.129992Z",
     "iopub.status.busy": "2023-05-15T08:52:58.129826Z",
     "iopub.status.idle": "2023-05-15T08:52:58.551043Z",
     "shell.execute_reply": "2023-05-15T08:52:58.550612Z"
    },
    "papermill": {
     "duration": 0.425543,
     "end_time": "2023-05-15T08:52:58.551927",
     "exception": false,
     "start_time": "2023-05-15T08:52:58.126384",
     "status": "completed"
    },
    "tags": []
   },
   "outputs": [],
   "source": [
    "fig, ax = plt.subplots(ncols = 4, figsize = (16,4))\n",
    "axis = sc.pl.violin(dataset, \"n_genes_by_counts\", jitter = 0.4, ax = ax[0], show = False)\n",
    "axis.grid(False)\n",
    "axis.set_title(\"Unique Genes per cell\")\n",
    "axis.tick_params(axis = \"x\", bottom =False, labelbottom =False)\n",
    "axis.set_ylabel(\"# genes\")\n",
    "axis.axhline(y = 100, color = \"black\", label = \"cutoff\")\n",
    "axis.legend(fontsize = 14, loc = \"upper right\")\n",
    "\n",
    "axis = sc.pl.violin(dataset, \"pct_counts_mt\", jitter = 0.4, ax = ax[1], show = False)\n",
    "axis.grid(False)\n",
    "axis.set_title(\"Mitochondrial Fraction\")\n",
    "axis.tick_params(axis = \"x\", bottom =False, labelbottom =False)\n",
    "axis.set_ylabel(\"% mitochondrial genes\")\n",
    "axis.axhline(y = 10, color = \"black\", label = \"cutoff\")\n",
    "axis.legend(fontsize = 14, loc = \"upper right\")\n",
    "\n",
    "axis = sc.pl.violin(dataset, \"pct_counts_hb\", jitter = 0.4, ax = ax[2], show = False, size =2)\n",
    "axis.grid(False)\n",
    "axis.set_title(\"Hemoglobin Fraction\")\n",
    "axis.tick_params(axis = \"x\", bottom =False, labelbottom =False)\n",
    "axis.set_ylabel(\"% hemoglobin genes\")\n",
    "axis.axhline(y = 3, color = \"black\", label = \"cutoff\")\n",
    "axis.legend(fontsize = 14, loc = \"upper right\")\n",
    "#axis.set_ylim(0,5)\n",
    "\n",
    "axis = sc.pl.violin(dataset, \"pct_counts_ribo\", jitter = 0.4, ax = ax[3], show = False)\n",
    "axis.grid(False)\n",
    "axis.set_title(\"Ribosomal Fraction\")\n",
    "axis.tick_params(axis = \"x\", bottom =False, labelbottom =False)\n",
    "axis.set_ylabel(\"% ribosome genes\")\n",
    "\n",
    "plt.tight_layout()\n",
    "#plt.savefig(f\"{outputDir}08_gene_based_filtering.pdf\", dpi = 300)\n",
    "plt.show()\n",
    "\n"
   ]
  },
  {
   "cell_type": "code",
   "execution_count": null,
   "id": "d7ade754-843e-4840-8707-426613d8c0c5",
   "metadata": {
    "execution": {
     "iopub.execute_input": "2023-05-15T08:52:58.561126Z",
     "iopub.status.busy": "2023-05-15T08:52:58.560961Z",
     "iopub.status.idle": "2023-05-15T08:52:58.569986Z",
     "shell.execute_reply": "2023-05-15T08:52:58.569667Z"
    },
    "papermill": {
     "duration": 0.014258,
     "end_time": "2023-05-15T08:52:58.570768",
     "exception": false,
     "start_time": "2023-05-15T08:52:58.556510",
     "status": "completed"
    },
    "tags": []
   },
   "outputs": [],
   "source": [
    "dataset = dataset[dataset.obs.pct_counts_mt < 10, :]\n",
    "dataset = dataset[dataset.obs.n_genes_by_counts > 100, :]\n",
    "dataset = dataset[dataset.obs.pct_counts_hb < 3, :]\n",
    "dataset"
   ]
  },
  {
   "cell_type": "code",
   "execution_count": null,
   "id": "1941fa36-e865-4500-b586-f7a32d142c9b",
   "metadata": {
    "execution": {
     "iopub.execute_input": "2023-05-15T08:52:58.579169Z",
     "iopub.status.busy": "2023-05-15T08:52:58.578979Z",
     "iopub.status.idle": "2023-05-15T08:52:58.581852Z",
     "shell.execute_reply": "2023-05-15T08:52:58.581549Z"
    },
    "papermill": {
     "duration": 0.007982,
     "end_time": "2023-05-15T08:52:58.582620",
     "exception": false,
     "start_time": "2023-05-15T08:52:58.574638",
     "status": "completed"
    },
    "tags": []
   },
   "outputs": [],
   "source": [
    "metadata.columns"
   ]
  },
  {
   "cell_type": "code",
   "execution_count": null,
   "id": "2e0ff8c3-2aa9-4a01-9b88-5912a6734447",
   "metadata": {
    "execution": {
     "iopub.execute_input": "2023-05-15T08:52:58.591254Z",
     "iopub.status.busy": "2023-05-15T08:52:58.590908Z",
     "iopub.status.idle": "2023-05-15T08:52:58.620473Z",
     "shell.execute_reply": "2023-05-15T08:52:58.620049Z"
    },
    "papermill": {
     "duration": 0.035081,
     "end_time": "2023-05-15T08:52:58.621673",
     "exception": false,
     "start_time": "2023-05-15T08:52:58.586592",
     "status": "completed"
    },
    "tags": []
   },
   "outputs": [],
   "source": [
    "for col in metadata.columns:\n",
    "    dataset.obs[col] = metadata.loc[metadata[\"Run\"] == sample_name, col].to_list()[0]"
   ]
  },
  {
   "cell_type": "code",
   "execution_count": null,
   "id": "b84578d3-d63e-419c-a272-a0b8317d05ab",
   "metadata": {
    "execution": {
     "iopub.execute_input": "2023-05-15T08:52:58.631025Z",
     "iopub.status.busy": "2023-05-15T08:52:58.630833Z",
     "iopub.status.idle": "2023-05-15T08:52:59.077852Z",
     "shell.execute_reply": "2023-05-15T08:52:59.077350Z"
    },
    "papermill": {
     "duration": 0.452929,
     "end_time": "2023-05-15T08:52:59.079152",
     "exception": false,
     "start_time": "2023-05-15T08:52:58.626223",
     "status": "completed"
    },
    "tags": []
   },
   "outputs": [],
   "source": [
    "dataset.write(f\"../../int_data/{sample_name}_qc.h5ad\")"
   ]
  },
  {
   "cell_type": "code",
   "execution_count": null,
   "id": "501b33a0-432d-415f-ae82-50723484b85d",
   "metadata": {
    "execution": {
     "iopub.execute_input": "2023-05-15T08:52:59.088726Z",
     "iopub.status.busy": "2023-05-15T08:52:59.088531Z",
     "iopub.status.idle": "2023-05-15T08:52:59.091866Z",
     "shell.execute_reply": "2023-05-15T08:52:59.091500Z"
    },
    "papermill": {
     "duration": 0.008717,
     "end_time": "2023-05-15T08:52:59.092643",
     "exception": false,
     "start_time": "2023-05-15T08:52:59.083926",
     "status": "completed"
    },
    "tags": []
   },
   "outputs": [],
   "source": [
    "dataset"
   ]
  }
 ],
 "metadata": {
  "kernelspec": {
   "display_name": "py_R",
   "language": "python",
   "name": "python_r"
  },
  "language_info": {
   "codemirror_mode": {
    "name": "ipython",
    "version": 3
   },
   "file_extension": ".py",
   "mimetype": "text/x-python",
   "name": "python",
   "nbconvert_exporter": "python",
   "pygments_lexer": "ipython3",
   "version": "3.10.9"
  },
  "papermill": {
   "default_parameters": {},
   "duration": 98.328457,
   "end_time": "2023-05-15T08:53:00.614543",
   "environment_variables": {},
   "exception": null,
   "input_path": "template.ipynb",
   "output_path": "SRR13329141.ipynb",
   "parameters": {
    "sample_name": "SRR13329141"
   },
   "start_time": "2023-05-15T08:51:22.286086",
   "version": "2.4.0"
  }
 },
 "nbformat": 4,
 "nbformat_minor": 5
}
