{
 "cells": [
  {
   "cell_type": "code",
   "execution_count": null,
   "id": "4c0f2fa8-5232-4f47-a7ec-6c9bbabe50e2",
   "metadata": {
    "execution": {
     "iopub.execute_input": "2023-05-15T08:03:04.671144Z",
     "iopub.status.busy": "2023-05-15T08:03:04.670978Z",
     "iopub.status.idle": "2023-05-15T08:03:04.675319Z",
     "shell.execute_reply": "2023-05-15T08:03:04.675012Z"
    },
    "papermill": {
     "duration": 0.008838,
     "end_time": "2023-05-15T08:03:04.676109",
     "exception": false,
     "start_time": "2023-05-15T08:03:04.667271",
     "status": "completed"
    },
    "tags": [
     "parameters"
    ]
   },
   "outputs": [],
   "source": [
    "sample_name = \"SRR13329143\""
   ]
  },
  {
   "cell_type": "code",
   "execution_count": null,
   "id": "7f4136e7",
   "metadata": {
    "execution": {
     "iopub.execute_input": "2023-05-15T08:03:04.681329Z",
     "iopub.status.busy": "2023-05-15T08:03:04.681204Z",
     "iopub.status.idle": "2023-05-15T08:03:04.683116Z",
     "shell.execute_reply": "2023-05-15T08:03:04.682827Z"
    },
    "papermill": {
     "duration": 0.005451,
     "end_time": "2023-05-15T08:03:04.683894",
     "exception": false,
     "start_time": "2023-05-15T08:03:04.678443",
     "status": "completed"
    },
    "tags": [
     "injected-parameters"
    ]
   },
   "outputs": [],
   "source": [
    "# Parameters\n",
    "sample_name = \"SRR13329117\"\n"
   ]
  },
  {
   "cell_type": "code",
   "execution_count": null,
   "id": "f87ed95b-2b67-4a5a-8fe2-47359b1dd2a9",
   "metadata": {
    "execution": {
     "iopub.execute_input": "2023-05-15T08:03:04.689106Z",
     "iopub.status.busy": "2023-05-15T08:03:04.688888Z",
     "iopub.status.idle": "2023-05-15T08:03:04.690976Z",
     "shell.execute_reply": "2023-05-15T08:03:04.690686Z"
    },
    "papermill": {
     "duration": 0.005536,
     "end_time": "2023-05-15T08:03:04.691743",
     "exception": false,
     "start_time": "2023-05-15T08:03:04.686207",
     "status": "completed"
    },
    "tags": []
   },
   "outputs": [],
   "source": [
    "import warnings\n",
    "warnings.simplefilter(action='ignore', category=FutureWarning)\n",
    "warnings.simplefilter(action='ignore', category=UserWarning)"
   ]
  },
  {
   "cell_type": "code",
   "execution_count": null,
   "id": "85161f19-b2c5-490b-8cab-c2cf9653b304",
   "metadata": {
    "execution": {
     "iopub.execute_input": "2023-05-15T08:03:04.697688Z",
     "iopub.status.busy": "2023-05-15T08:03:04.697408Z",
     "iopub.status.idle": "2023-05-15T08:03:09.680634Z",
     "shell.execute_reply": "2023-05-15T08:03:09.680217Z"
    },
    "papermill": {
     "duration": 4.987593,
     "end_time": "2023-05-15T08:03:09.681817",
     "exception": false,
     "start_time": "2023-05-15T08:03:04.694224",
     "status": "completed"
    },
    "tags": []
   },
   "outputs": [],
   "source": [
    "import gc\n",
    "import scanpy as sc\n",
    "import muon as mu\n",
    "import seaborn as sns\n",
    "import os\n",
    "import pandas as pd\n",
    "from matplotlib import pyplot as plt\n",
    "\n",
    "os.environ['R_HOME'] = '/gpfs/bwfor/work/ws/hd_fu399-conda/conda/envs/python_R/lib/R/'\n",
    "import anndata2ri\n",
    "import logging\n",
    "\n",
    "import rpy2.rinterface_lib.callbacks as rcb\n",
    "import rpy2.robjects as ro\n",
    "\n",
    "rcb.logger.setLevel(logging.ERROR)\n",
    "ro.pandas2ri.activate()\n",
    "anndata2ri.activate()\n",
    "\n",
    "%load_ext rpy2.ipython"
   ]
  },
  {
   "cell_type": "code",
   "execution_count": null,
   "id": "fc4ade78-b728-4704-9db6-45fbaab62ba1",
   "metadata": {
    "execution": {
     "iopub.execute_input": "2023-05-15T08:03:09.687922Z",
     "iopub.status.busy": "2023-05-15T08:03:09.687655Z",
     "iopub.status.idle": "2023-05-15T08:03:21.773803Z",
     "shell.execute_reply": "2023-05-15T08:03:21.773259Z"
    },
    "papermill": {
     "duration": 12.090484,
     "end_time": "2023-05-15T08:03:21.775170",
     "exception": false,
     "start_time": "2023-05-15T08:03:09.684686",
     "status": "completed"
    },
    "tags": []
   },
   "outputs": [],
   "source": [
    "%%R\n",
    "library(SoupX)\n",
    "library(Seurat)\n",
    "library(scater)\n",
    "library(scDblFinder)\n",
    "library(BiocParallel)\n",
    "library(MuDataSeurat)\n",
    "library(DropletUtils)"
   ]
  },
  {
   "cell_type": "code",
   "execution_count": null,
   "id": "f7424d90-7690-4290-8651-1db3f9df3a35",
   "metadata": {
    "execution": {
     "iopub.execute_input": "2023-05-15T08:03:21.796731Z",
     "iopub.status.busy": "2023-05-15T08:03:21.796541Z",
     "iopub.status.idle": "2023-05-15T08:03:21.802438Z",
     "shell.execute_reply": "2023-05-15T08:03:21.802065Z"
    },
    "papermill": {
     "duration": 0.009966,
     "end_time": "2023-05-15T08:03:21.803230",
     "exception": false,
     "start_time": "2023-05-15T08:03:21.793264",
     "status": "completed"
    },
    "tags": []
   },
   "outputs": [],
   "source": [
    "metadata = pd.read_csv(\"../../combes_metadata.txt\")"
   ]
  },
  {
   "cell_type": "code",
   "execution_count": null,
   "id": "2574ecf1-bad4-4c33-8f3f-718a358727ab",
   "metadata": {
    "execution": {
     "iopub.execute_input": "2023-05-15T08:03:21.808667Z",
     "iopub.status.busy": "2023-05-15T08:03:21.808529Z",
     "iopub.status.idle": "2023-05-15T08:03:21.810642Z",
     "shell.execute_reply": "2023-05-15T08:03:21.810333Z"
    },
    "papermill": {
     "duration": 0.005746,
     "end_time": "2023-05-15T08:03:21.811417",
     "exception": false,
     "start_time": "2023-05-15T08:03:21.805671",
     "status": "completed"
    },
    "tags": []
   },
   "outputs": [],
   "source": [
    "raw_input = f\"/home/hd/hd_hd/hd_fu399/sds-hd/sd21k006/scRNAseq/revision_natcomm/combes_et_al/fetchngs/results/fastq/{sample_name}/{sample_name}/outs/raw_feature_bc_matrix.h5\""
   ]
  },
  {
   "cell_type": "code",
   "execution_count": null,
   "id": "e266d388-1802-435c-93a5-90067358739c",
   "metadata": {
    "execution": {
     "iopub.execute_input": "2023-05-15T08:03:21.816966Z",
     "iopub.status.busy": "2023-05-15T08:03:21.816809Z",
     "iopub.status.idle": "2023-05-15T08:03:22.413305Z",
     "shell.execute_reply": "2023-05-15T08:03:22.412868Z"
    },
    "papermill": {
     "duration": 0.60034,
     "end_time": "2023-05-15T08:03:22.414228",
     "exception": false,
     "start_time": "2023-05-15T08:03:21.813888",
     "status": "completed"
    },
    "tags": []
   },
   "outputs": [],
   "source": [
    "dataset = sc.read_10x_h5(raw_input)\n",
    "dataset.var_names_make_unique()\n",
    "dataset.obs_names_make_unique()\n",
    "\n",
    "dataset.layers[\"raw_counts\"] = dataset.X.copy()\n",
    "data_tod = dataset.layers[\"raw_counts\"].T.copy()\n",
    "\n",
    "dataset"
   ]
  },
  {
   "cell_type": "code",
   "execution_count": null,
   "id": "af9f5892-ed31-42a6-991b-4e096f582cef",
   "metadata": {
    "execution": {
     "iopub.execute_input": "2023-05-15T08:03:22.420680Z",
     "iopub.status.busy": "2023-05-15T08:03:22.420491Z",
     "iopub.status.idle": "2023-05-15T08:03:22.469450Z",
     "shell.execute_reply": "2023-05-15T08:03:22.468992Z"
    },
    "papermill": {
     "duration": 0.053406,
     "end_time": "2023-05-15T08:03:22.470775",
     "exception": false,
     "start_time": "2023-05-15T08:03:22.417369",
     "status": "completed"
    },
    "tags": []
   },
   "outputs": [],
   "source": [
    "sce = dataset.copy()"
   ]
  },
  {
   "cell_type": "code",
   "execution_count": null,
   "id": "d03f2caf-8e74-430e-b045-0ab80401d165",
   "metadata": {
    "execution": {
     "iopub.execute_input": "2023-05-15T08:03:22.476992Z",
     "iopub.status.busy": "2023-05-15T08:03:22.476837Z",
     "iopub.status.idle": "2023-05-15T08:04:59.525272Z",
     "shell.execute_reply": "2023-05-15T08:04:59.524687Z"
    },
    "papermill": {
     "duration": 97.052959,
     "end_time": "2023-05-15T08:04:59.526691",
     "exception": false,
     "start_time": "2023-05-15T08:03:22.473732",
     "status": "completed"
    },
    "tags": []
   },
   "outputs": [],
   "source": [
    "%%R -i sce -o empty_drop_output\n",
    "set.seed(187)\n",
    "empty_drop_output <- emptyDrops(assay(sce))"
   ]
  },
  {
   "cell_type": "code",
   "execution_count": null,
   "id": "2a34a54b-3ae2-44d6-8679-8769228c5b66",
   "metadata": {
    "execution": {
     "iopub.execute_input": "2023-05-15T08:04:59.535608Z",
     "iopub.status.busy": "2023-05-15T08:04:59.535452Z",
     "iopub.status.idle": "2023-05-15T08:04:59.564405Z",
     "shell.execute_reply": "2023-05-15T08:04:59.564033Z"
    },
    "papermill": {
     "duration": 0.033538,
     "end_time": "2023-05-15T08:04:59.565362",
     "exception": false,
     "start_time": "2023-05-15T08:04:59.531824",
     "status": "completed"
    },
    "tags": []
   },
   "outputs": [],
   "source": [
    "non_empty_barcodes = empty_drop_output[empty_drop_output[\"FDR\"] < 0.001].index\n",
    "dataset = dataset[dataset.obs.index.isin(non_empty_barcodes), :]\n",
    "dataset"
   ]
  },
  {
   "cell_type": "code",
   "execution_count": null,
   "id": "016a91e5-1bef-46fb-b91e-4fb9a6870c44",
   "metadata": {
    "execution": {
     "iopub.execute_input": "2023-05-15T08:04:59.571450Z",
     "iopub.status.busy": "2023-05-15T08:04:59.571287Z",
     "iopub.status.idle": "2023-05-15T08:05:04.667037Z",
     "shell.execute_reply": "2023-05-15T08:05:04.666501Z"
    },
    "papermill": {
     "duration": 5.100229,
     "end_time": "2023-05-15T08:05:04.668358",
     "exception": false,
     "start_time": "2023-05-15T08:04:59.568129",
     "status": "completed"
    },
    "tags": []
   },
   "outputs": [],
   "source": [
    "rna_assay = dataset.copy()\n",
    "sc.pp.normalize_per_cell(rna_assay)\n",
    "sc.pp.log1p(rna_assay)\n",
    "sc.pp.pca(rna_assay)\n",
    "sc.pp.neighbors(rna_assay)\n",
    "sc.tl.leiden(rna_assay, key_added=\"soupx_groups\")\n",
    "\n",
    "soupx_groups = rna_assay.obs[\"soupx_groups\"]\n",
    "\n",
    "del rna_assay\n",
    "\n",
    "genes = dataset.var_names\n",
    "cells = dataset.obs_names\n",
    "data = dataset.X.T.copy()"
   ]
  },
  {
   "cell_type": "code",
   "execution_count": null,
   "id": "9db4ea1f-1580-4f43-a3f0-86002397cd98",
   "metadata": {
    "execution": {
     "iopub.execute_input": "2023-05-15T08:05:04.677777Z",
     "iopub.status.busy": "2023-05-15T08:05:04.677596Z",
     "iopub.status.idle": "2023-05-15T08:05:18.506245Z",
     "shell.execute_reply": "2023-05-15T08:05:18.505763Z"
    },
    "papermill": {
     "duration": 13.833796,
     "end_time": "2023-05-15T08:05:18.507612",
     "exception": false,
     "start_time": "2023-05-15T08:05:04.673816",
     "status": "completed"
    },
    "tags": []
   },
   "outputs": [],
   "source": [
    "%%R -i data -i data_tod -i genes -i cells -i soupx_groups -o out \n",
    "set.seed(187)\n",
    "# specify row and column names of data\n",
    "rownames(data) = genes\n",
    "colnames(data) = cells\n",
    "# ensure correct sparse format for table of counts and table of droplets\n",
    "data <- as(data, \"sparseMatrix\")\n",
    "data_tod <- as(data_tod, \"sparseMatrix\")\n",
    "\n",
    "# Generate SoupChannel Object for SoupX \n",
    "sc = SoupChannel(data_tod, data, calcSoupProfile = FALSE)\n",
    "\n",
    "# Add extra meta data to the SoupChannel object\n",
    "soupProf = data.frame(row.names = rownames(data),\n",
    "                      est = rowSums(data)/sum(data),\n",
    "                      counts = rowSums(data))\n",
    "sc = setSoupProfile(sc, soupProf)\n",
    "# Set cluster information in SoupChannel\n",
    "sc = setClusters(sc, soupx_groups)\n",
    "\n",
    "# Estimate contamination fraction\n",
    "sc  = autoEstCont(sc, doPlot=FALSE, forceAccept = TRUE)\n",
    "# Infer corrected table of counts and rount to integer\n",
    "out = adjustCounts(sc, roundToInt = TRUE)"
   ]
  },
  {
   "cell_type": "code",
   "execution_count": null,
   "id": "32555d5e-5fa3-46dd-a4e0-ddc96ea265e2",
   "metadata": {
    "execution": {
     "iopub.execute_input": "2023-05-15T08:05:18.516931Z",
     "iopub.status.busy": "2023-05-15T08:05:18.516762Z",
     "iopub.status.idle": "2023-05-15T08:05:18.550443Z",
     "shell.execute_reply": "2023-05-15T08:05:18.550020Z"
    },
    "papermill": {
     "duration": 0.038924,
     "end_time": "2023-05-15T08:05:18.551780",
     "exception": false,
     "start_time": "2023-05-15T08:05:18.512856",
     "status": "completed"
    },
    "tags": []
   },
   "outputs": [],
   "source": [
    "dataset.layers[\"soupX_counts\"] = out.T\n",
    "dataset.X = dataset.layers[\"soupX_counts\"].copy()"
   ]
  },
  {
   "cell_type": "code",
   "execution_count": null,
   "id": "e27da7df-e094-4d2a-9109-5a363e012175",
   "metadata": {
    "execution": {
     "iopub.execute_input": "2023-05-15T08:05:18.558482Z",
     "iopub.status.busy": "2023-05-15T08:05:18.558289Z",
     "iopub.status.idle": "2023-05-15T08:05:18.560779Z",
     "shell.execute_reply": "2023-05-15T08:05:18.560433Z"
    },
    "papermill": {
     "duration": 0.006675,
     "end_time": "2023-05-15T08:05:18.561564",
     "exception": false,
     "start_time": "2023-05-15T08:05:18.554889",
     "status": "completed"
    },
    "tags": []
   },
   "outputs": [],
   "source": [
    "data_mat = dataset.X.T"
   ]
  },
  {
   "cell_type": "code",
   "execution_count": null,
   "id": "80a993b1-5ccb-4697-9187-1beb7ab8aff9",
   "metadata": {
    "execution": {
     "iopub.execute_input": "2023-05-15T08:05:18.567929Z",
     "iopub.status.busy": "2023-05-15T08:05:18.567772Z",
     "iopub.status.idle": "2023-05-15T08:05:37.899148Z",
     "shell.execute_reply": "2023-05-15T08:05:37.898688Z"
    },
    "papermill": {
     "duration": 19.336118,
     "end_time": "2023-05-15T08:05:37.900479",
     "exception": false,
     "start_time": "2023-05-15T08:05:18.564361",
     "status": "completed"
    },
    "tags": []
   },
   "outputs": [],
   "source": [
    "%%R -i data_mat -o droplet_class\n",
    "\n",
    "set.seed(187)\n",
    "sce = scDblFinder(\n",
    "    SingleCellExperiment(\n",
    "        list(counts=data_mat),\n",
    "    ) \n",
    ")\n",
    "droplet_class = sce$scDblFinder.class"
   ]
  },
  {
   "cell_type": "code",
   "execution_count": null,
   "id": "d4dd6e9d-fcf2-41fc-8457-c8e0a3cb2c71",
   "metadata": {
    "execution": {
     "iopub.execute_input": "2023-05-15T08:05:37.909567Z",
     "iopub.status.busy": "2023-05-15T08:05:37.909393Z",
     "iopub.status.idle": "2023-05-15T08:05:37.913837Z",
     "shell.execute_reply": "2023-05-15T08:05:37.913525Z"
    },
    "papermill": {
     "duration": 0.008784,
     "end_time": "2023-05-15T08:05:37.914623",
     "exception": false,
     "start_time": "2023-05-15T08:05:37.905839",
     "status": "completed"
    },
    "tags": []
   },
   "outputs": [],
   "source": [
    "dataset.obs[\"scDblFinder_class\"] = droplet_class\n",
    "dataset.obs.scDblFinder_class.value_counts()\n",
    "dataset"
   ]
  },
  {
   "cell_type": "code",
   "execution_count": null,
   "id": "28c95014-2d6c-477f-95cb-9f9f0507520c",
   "metadata": {
    "execution": {
     "iopub.execute_input": "2023-05-15T08:05:37.921066Z",
     "iopub.status.busy": "2023-05-15T08:05:37.920897Z",
     "iopub.status.idle": "2023-05-15T08:05:37.924051Z",
     "shell.execute_reply": "2023-05-15T08:05:37.923742Z"
    },
    "papermill": {
     "duration": 0.007791,
     "end_time": "2023-05-15T08:05:37.925384",
     "exception": false,
     "start_time": "2023-05-15T08:05:37.917593",
     "status": "completed"
    },
    "tags": []
   },
   "outputs": [],
   "source": [
    "dataset = dataset[dataset.obs[\"scDblFinder_class\"] == 1]"
   ]
  },
  {
   "cell_type": "code",
   "execution_count": null,
   "id": "3e22f9e0-bfcb-416c-a151-a9bca3bec3b9",
   "metadata": {
    "execution": {
     "iopub.execute_input": "2023-05-15T08:05:37.931764Z",
     "iopub.status.busy": "2023-05-15T08:05:37.931608Z",
     "iopub.status.idle": "2023-05-15T08:05:38.067350Z",
     "shell.execute_reply": "2023-05-15T08:05:38.066909Z"
    },
    "papermill": {
     "duration": 0.13999,
     "end_time": "2023-05-15T08:05:38.068281",
     "exception": false,
     "start_time": "2023-05-15T08:05:37.928291",
     "status": "completed"
    },
    "tags": []
   },
   "outputs": [],
   "source": [
    "# mitochondrial genes\n",
    "dataset.var[\"mt\"] = dataset.var_names.str.startswith(\"MT-\")\n",
    "# ribosomal genes\n",
    "dataset.var[\"ribo\"] = dataset.var_names.str.startswith((\"RPS\", \"RPL\"))\n",
    "# hemoglobin genes.\n",
    "dataset.var[\"hb\"] = dataset.var_names.str.contains((\"^HB[^(P)]\"))\n",
    "\n",
    "sc.pp.calculate_qc_metrics(dataset,\n",
    "                           qc_vars=['mt', 'ribo', 'hb'],\n",
    "                           percent_top=None,\n",
    "                           log1p=False,\n",
    "                           inplace=True)\n",
    "dataset"
   ]
  },
  {
   "cell_type": "code",
   "execution_count": null,
   "id": "34deee79-4043-428f-8575-aa57b45f6369",
   "metadata": {
    "execution": {
     "iopub.execute_input": "2023-05-15T08:05:38.075615Z",
     "iopub.status.busy": "2023-05-15T08:05:38.075426Z",
     "iopub.status.idle": "2023-05-15T08:05:38.569109Z",
     "shell.execute_reply": "2023-05-15T08:05:38.568701Z"
    },
    "papermill": {
     "duration": 0.498253,
     "end_time": "2023-05-15T08:05:38.570039",
     "exception": false,
     "start_time": "2023-05-15T08:05:38.071786",
     "status": "completed"
    },
    "tags": []
   },
   "outputs": [],
   "source": [
    "fig, ax = plt.subplots(ncols = 4, figsize = (16,4))\n",
    "axis = sc.pl.violin(dataset, \"n_genes_by_counts\", jitter = 0.4, ax = ax[0], show = False)\n",
    "axis.grid(False)\n",
    "axis.set_title(\"Unique Genes per cell\")\n",
    "axis.tick_params(axis = \"x\", bottom =False, labelbottom =False)\n",
    "axis.set_ylabel(\"# genes\")\n",
    "axis.axhline(y = 100, color = \"black\", label = \"cutoff\")\n",
    "axis.legend(fontsize = 14, loc = \"upper right\")\n",
    "\n",
    "axis = sc.pl.violin(dataset, \"pct_counts_mt\", jitter = 0.4, ax = ax[1], show = False)\n",
    "axis.grid(False)\n",
    "axis.set_title(\"Mitochondrial Fraction\")\n",
    "axis.tick_params(axis = \"x\", bottom =False, labelbottom =False)\n",
    "axis.set_ylabel(\"% mitochondrial genes\")\n",
    "axis.axhline(y = 10, color = \"black\", label = \"cutoff\")\n",
    "axis.legend(fontsize = 14, loc = \"upper right\")\n",
    "\n",
    "axis = sc.pl.violin(dataset, \"pct_counts_hb\", jitter = 0.4, ax = ax[2], show = False, size =2)\n",
    "axis.grid(False)\n",
    "axis.set_title(\"Hemoglobin Fraction\")\n",
    "axis.tick_params(axis = \"x\", bottom =False, labelbottom =False)\n",
    "axis.set_ylabel(\"% hemoglobin genes\")\n",
    "axis.axhline(y = 3, color = \"black\", label = \"cutoff\")\n",
    "axis.legend(fontsize = 14, loc = \"upper right\")\n",
    "#axis.set_ylim(0,5)\n",
    "\n",
    "axis = sc.pl.violin(dataset, \"pct_counts_ribo\", jitter = 0.4, ax = ax[3], show = False)\n",
    "axis.grid(False)\n",
    "axis.set_title(\"Ribosomal Fraction\")\n",
    "axis.tick_params(axis = \"x\", bottom =False, labelbottom =False)\n",
    "axis.set_ylabel(\"% ribosome genes\")\n",
    "\n",
    "plt.tight_layout()\n",
    "#plt.savefig(f\"{outputDir}08_gene_based_filtering.pdf\", dpi = 300)\n",
    "plt.show()\n",
    "\n"
   ]
  },
  {
   "cell_type": "code",
   "execution_count": null,
   "id": "d7ade754-843e-4840-8707-426613d8c0c5",
   "metadata": {
    "execution": {
     "iopub.execute_input": "2023-05-15T08:05:38.579435Z",
     "iopub.status.busy": "2023-05-15T08:05:38.579242Z",
     "iopub.status.idle": "2023-05-15T08:05:38.588219Z",
     "shell.execute_reply": "2023-05-15T08:05:38.587905Z"
    },
    "papermill": {
     "duration": 0.014449,
     "end_time": "2023-05-15T08:05:38.589011",
     "exception": false,
     "start_time": "2023-05-15T08:05:38.574562",
     "status": "completed"
    },
    "tags": []
   },
   "outputs": [],
   "source": [
    "dataset = dataset[dataset.obs.pct_counts_mt < 10, :]\n",
    "dataset = dataset[dataset.obs.n_genes_by_counts > 100, :]\n",
    "dataset = dataset[dataset.obs.pct_counts_hb < 3, :]\n",
    "dataset"
   ]
  },
  {
   "cell_type": "code",
   "execution_count": null,
   "id": "1941fa36-e865-4500-b586-f7a32d142c9b",
   "metadata": {
    "execution": {
     "iopub.execute_input": "2023-05-15T08:05:38.598225Z",
     "iopub.status.busy": "2023-05-15T08:05:38.598041Z",
     "iopub.status.idle": "2023-05-15T08:05:38.601047Z",
     "shell.execute_reply": "2023-05-15T08:05:38.600735Z"
    },
    "papermill": {
     "duration": 0.008539,
     "end_time": "2023-05-15T08:05:38.601811",
     "exception": false,
     "start_time": "2023-05-15T08:05:38.593272",
     "status": "completed"
    },
    "tags": []
   },
   "outputs": [],
   "source": [
    "metadata.columns"
   ]
  },
  {
   "cell_type": "code",
   "execution_count": null,
   "id": "2e0ff8c3-2aa9-4a01-9b88-5912a6734447",
   "metadata": {
    "execution": {
     "iopub.execute_input": "2023-05-15T08:05:38.611013Z",
     "iopub.status.busy": "2023-05-15T08:05:38.610857Z",
     "iopub.status.idle": "2023-05-15T08:05:38.650795Z",
     "shell.execute_reply": "2023-05-15T08:05:38.650318Z"
    },
    "papermill": {
     "duration": 0.045899,
     "end_time": "2023-05-15T08:05:38.652009",
     "exception": false,
     "start_time": "2023-05-15T08:05:38.606110",
     "status": "completed"
    },
    "tags": []
   },
   "outputs": [],
   "source": [
    "for col in metadata.columns:\n",
    "    dataset.obs[col] = metadata.loc[metadata[\"Run\"] == sample_name, col].to_list()[0]"
   ]
  },
  {
   "cell_type": "code",
   "execution_count": null,
   "id": "b84578d3-d63e-419c-a272-a0b8317d05ab",
   "metadata": {
    "execution": {
     "iopub.execute_input": "2023-05-15T08:05:38.661852Z",
     "iopub.status.busy": "2023-05-15T08:05:38.661664Z",
     "iopub.status.idle": "2023-05-15T08:05:39.100732Z",
     "shell.execute_reply": "2023-05-15T08:05:39.100255Z"
    },
    "papermill": {
     "duration": 0.445358,
     "end_time": "2023-05-15T08:05:39.102084",
     "exception": false,
     "start_time": "2023-05-15T08:05:38.656726",
     "status": "completed"
    },
    "tags": []
   },
   "outputs": [],
   "source": [
    "dataset.write(f\"../../int_data/{sample_name}_qc.h5ad\")"
   ]
  },
  {
   "cell_type": "code",
   "execution_count": null,
   "id": "501b33a0-432d-415f-ae82-50723484b85d",
   "metadata": {
    "execution": {
     "iopub.execute_input": "2023-05-15T08:05:39.111712Z",
     "iopub.status.busy": "2023-05-15T08:05:39.111471Z",
     "iopub.status.idle": "2023-05-15T08:05:39.114563Z",
     "shell.execute_reply": "2023-05-15T08:05:39.114237Z"
    },
    "papermill": {
     "duration": 0.008682,
     "end_time": "2023-05-15T08:05:39.115331",
     "exception": false,
     "start_time": "2023-05-15T08:05:39.106649",
     "status": "completed"
    },
    "tags": []
   },
   "outputs": [],
   "source": [
    "dataset"
   ]
  }
 ],
 "metadata": {
  "kernelspec": {
   "display_name": "py_R",
   "language": "python",
   "name": "python_r"
  },
  "language_info": {
   "codemirror_mode": {
    "name": "ipython",
    "version": 3
   },
   "file_extension": ".py",
   "mimetype": "text/x-python",
   "name": "python",
   "nbconvert_exporter": "python",
   "pygments_lexer": "ipython3",
   "version": "3.10.9"
  },
  "papermill": {
   "default_parameters": {},
   "duration": 157.040549,
   "end_time": "2023-05-15T08:05:40.537798",
   "environment_variables": {},
   "exception": null,
   "input_path": "template.ipynb",
   "output_path": "SRR13329117.ipynb",
   "parameters": {
    "sample_name": "SRR13329117"
   },
   "start_time": "2023-05-15T08:03:03.497249",
   "version": "2.4.0"
  }
 },
 "nbformat": 4,
 "nbformat_minor": 5
}
