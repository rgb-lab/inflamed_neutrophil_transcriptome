{
 "cells": [
  {
   "cell_type": "code",
   "execution_count": null,
   "id": "4c0f2fa8-5232-4f47-a7ec-6c9bbabe50e2",
   "metadata": {
    "execution": {
     "iopub.execute_input": "2023-05-15T08:58:43.845089Z",
     "iopub.status.busy": "2023-05-15T08:58:43.844924Z",
     "iopub.status.idle": "2023-05-15T08:58:43.849423Z",
     "shell.execute_reply": "2023-05-15T08:58:43.849111Z"
    },
    "papermill": {
     "duration": 0.009456,
     "end_time": "2023-05-15T08:58:43.850299",
     "exception": false,
     "start_time": "2023-05-15T08:58:43.840843",
     "status": "completed"
    },
    "tags": [
     "parameters"
    ]
   },
   "outputs": [],
   "source": [
    "sample_name = \"SRR13329143\""
   ]
  },
  {
   "cell_type": "code",
   "execution_count": null,
   "id": "e5ffcf9b",
   "metadata": {
    "execution": {
     "iopub.execute_input": "2023-05-15T08:58:43.855416Z",
     "iopub.status.busy": "2023-05-15T08:58:43.855191Z",
     "iopub.status.idle": "2023-05-15T08:58:43.857021Z",
     "shell.execute_reply": "2023-05-15T08:58:43.856727Z"
    },
    "papermill": {
     "duration": 0.005157,
     "end_time": "2023-05-15T08:58:43.857767",
     "exception": false,
     "start_time": "2023-05-15T08:58:43.852610",
     "status": "completed"
    },
    "tags": [
     "injected-parameters"
    ]
   },
   "outputs": [],
   "source": [
    "# Parameters\n",
    "sample_name = \"SRR13329148\"\n"
   ]
  },
  {
   "cell_type": "code",
   "execution_count": null,
   "id": "f87ed95b-2b67-4a5a-8fe2-47359b1dd2a9",
   "metadata": {
    "execution": {
     "iopub.execute_input": "2023-05-15T08:58:43.862737Z",
     "iopub.status.busy": "2023-05-15T08:58:43.862505Z",
     "iopub.status.idle": "2023-05-15T08:58:43.864646Z",
     "shell.execute_reply": "2023-05-15T08:58:43.864346Z"
    },
    "papermill": {
     "duration": 0.005428,
     "end_time": "2023-05-15T08:58:43.865387",
     "exception": false,
     "start_time": "2023-05-15T08:58:43.859959",
     "status": "completed"
    },
    "tags": []
   },
   "outputs": [],
   "source": [
    "import warnings\n",
    "warnings.simplefilter(action='ignore', category=FutureWarning)\n",
    "warnings.simplefilter(action='ignore', category=UserWarning)"
   ]
  },
  {
   "cell_type": "code",
   "execution_count": null,
   "id": "85161f19-b2c5-490b-8cab-c2cf9653b304",
   "metadata": {
    "execution": {
     "iopub.execute_input": "2023-05-15T08:58:43.870567Z",
     "iopub.status.busy": "2023-05-15T08:58:43.870251Z",
     "iopub.status.idle": "2023-05-15T08:58:48.055721Z",
     "shell.execute_reply": "2023-05-15T08:58:48.055298Z"
    },
    "papermill": {
     "duration": 4.189341,
     "end_time": "2023-05-15T08:58:48.056965",
     "exception": false,
     "start_time": "2023-05-15T08:58:43.867624",
     "status": "completed"
    },
    "tags": []
   },
   "outputs": [],
   "source": [
    "import gc\n",
    "import scanpy as sc\n",
    "import muon as mu\n",
    "import seaborn as sns\n",
    "import os\n",
    "import pandas as pd\n",
    "from matplotlib import pyplot as plt\n",
    "\n",
    "os.environ['R_HOME'] = '/gpfs/bwfor/work/ws/hd_fu399-conda/conda/envs/python_R/lib/R/'\n",
    "import anndata2ri\n",
    "import logging\n",
    "\n",
    "import rpy2.rinterface_lib.callbacks as rcb\n",
    "import rpy2.robjects as ro\n",
    "\n",
    "rcb.logger.setLevel(logging.ERROR)\n",
    "ro.pandas2ri.activate()\n",
    "anndata2ri.activate()\n",
    "\n",
    "%load_ext rpy2.ipython"
   ]
  },
  {
   "cell_type": "code",
   "execution_count": null,
   "id": "fc4ade78-b728-4704-9db6-45fbaab62ba1",
   "metadata": {
    "execution": {
     "iopub.execute_input": "2023-05-15T08:58:48.063107Z",
     "iopub.status.busy": "2023-05-15T08:58:48.062830Z",
     "iopub.status.idle": "2023-05-15T08:58:58.104976Z",
     "shell.execute_reply": "2023-05-15T08:58:58.104436Z"
    },
    "papermill": {
     "duration": 10.046398,
     "end_time": "2023-05-15T08:58:58.106279",
     "exception": false,
     "start_time": "2023-05-15T08:58:48.059881",
     "status": "completed"
    },
    "tags": []
   },
   "outputs": [],
   "source": [
    "%%R\n",
    "library(SoupX)\n",
    "library(Seurat)\n",
    "library(scater)\n",
    "library(scDblFinder)\n",
    "library(BiocParallel)\n",
    "library(MuDataSeurat)\n",
    "library(DropletUtils)"
   ]
  },
  {
   "cell_type": "code",
   "execution_count": null,
   "id": "f7424d90-7690-4290-8651-1db3f9df3a35",
   "metadata": {
    "execution": {
     "iopub.execute_input": "2023-05-15T08:58:58.113918Z",
     "iopub.status.busy": "2023-05-15T08:58:58.113731Z",
     "iopub.status.idle": "2023-05-15T08:58:58.119389Z",
     "shell.execute_reply": "2023-05-15T08:58:58.119072Z"
    },
    "papermill": {
     "duration": 0.009591,
     "end_time": "2023-05-15T08:58:58.120316",
     "exception": false,
     "start_time": "2023-05-15T08:58:58.110725",
     "status": "completed"
    },
    "tags": []
   },
   "outputs": [],
   "source": [
    "metadata = pd.read_csv(\"../../combes_metadata.txt\")"
   ]
  },
  {
   "cell_type": "code",
   "execution_count": null,
   "id": "2574ecf1-bad4-4c33-8f3f-718a358727ab",
   "metadata": {
    "execution": {
     "iopub.execute_input": "2023-05-15T08:58:58.125483Z",
     "iopub.status.busy": "2023-05-15T08:58:58.125350Z",
     "iopub.status.idle": "2023-05-15T08:58:58.133562Z",
     "shell.execute_reply": "2023-05-15T08:58:58.133257Z"
    },
    "papermill": {
     "duration": 0.011689,
     "end_time": "2023-05-15T08:58:58.134322",
     "exception": false,
     "start_time": "2023-05-15T08:58:58.122633",
     "status": "completed"
    },
    "tags": []
   },
   "outputs": [],
   "source": [
    "raw_input = f\"/home/hd/hd_hd/hd_fu399/sds-hd/sd21k006/scRNAseq/revision_natcomm/combes_et_al/fetchngs/results/fastq/{sample_name}/{sample_name}/outs/raw_feature_bc_matrix.h5\""
   ]
  },
  {
   "cell_type": "code",
   "execution_count": null,
   "id": "e266d388-1802-435c-93a5-90067358739c",
   "metadata": {
    "execution": {
     "iopub.execute_input": "2023-05-15T08:58:58.139760Z",
     "iopub.status.busy": "2023-05-15T08:58:58.139497Z",
     "iopub.status.idle": "2023-05-15T08:58:58.449230Z",
     "shell.execute_reply": "2023-05-15T08:58:58.448797Z"
    },
    "papermill": {
     "duration": 0.313498,
     "end_time": "2023-05-15T08:58:58.450167",
     "exception": false,
     "start_time": "2023-05-15T08:58:58.136669",
     "status": "completed"
    },
    "tags": []
   },
   "outputs": [],
   "source": [
    "dataset = sc.read_10x_h5(raw_input)\n",
    "dataset.var_names_make_unique()\n",
    "dataset.obs_names_make_unique()\n",
    "\n",
    "dataset.layers[\"raw_counts\"] = dataset.X.copy()\n",
    "data_tod = dataset.layers[\"raw_counts\"].T.copy()\n",
    "\n",
    "dataset"
   ]
  },
  {
   "cell_type": "code",
   "execution_count": null,
   "id": "af9f5892-ed31-42a6-991b-4e096f582cef",
   "metadata": {
    "execution": {
     "iopub.execute_input": "2023-05-15T08:58:58.456226Z",
     "iopub.status.busy": "2023-05-15T08:58:58.456068Z",
     "iopub.status.idle": "2023-05-15T08:58:58.486831Z",
     "shell.execute_reply": "2023-05-15T08:58:58.486356Z"
    },
    "papermill": {
     "duration": 0.035199,
     "end_time": "2023-05-15T08:58:58.488278",
     "exception": false,
     "start_time": "2023-05-15T08:58:58.453079",
     "status": "completed"
    },
    "tags": []
   },
   "outputs": [],
   "source": [
    "sce = dataset.copy()"
   ]
  },
  {
   "cell_type": "code",
   "execution_count": null,
   "id": "d03f2caf-8e74-430e-b045-0ab80401d165",
   "metadata": {
    "execution": {
     "iopub.execute_input": "2023-05-15T08:58:58.495139Z",
     "iopub.status.busy": "2023-05-15T08:58:58.494972Z",
     "iopub.status.idle": "2023-05-15T08:59:27.346179Z",
     "shell.execute_reply": "2023-05-15T08:59:27.345564Z"
    },
    "papermill": {
     "duration": 28.856158,
     "end_time": "2023-05-15T08:59:27.347591",
     "exception": false,
     "start_time": "2023-05-15T08:58:58.491433",
     "status": "completed"
    },
    "tags": []
   },
   "outputs": [],
   "source": [
    "%%R -i sce -o empty_drop_output\n",
    "set.seed(187)\n",
    "empty_drop_output <- emptyDrops(assay(sce))"
   ]
  },
  {
   "cell_type": "code",
   "execution_count": null,
   "id": "2a34a54b-3ae2-44d6-8679-8769228c5b66",
   "metadata": {
    "execution": {
     "iopub.execute_input": "2023-05-15T08:59:27.356751Z",
     "iopub.status.busy": "2023-05-15T08:59:27.356601Z",
     "iopub.status.idle": "2023-05-15T08:59:27.384346Z",
     "shell.execute_reply": "2023-05-15T08:59:27.384028Z"
    },
    "papermill": {
     "duration": 0.032749,
     "end_time": "2023-05-15T08:59:27.385217",
     "exception": false,
     "start_time": "2023-05-15T08:59:27.352468",
     "status": "completed"
    },
    "tags": []
   },
   "outputs": [],
   "source": [
    "non_empty_barcodes = empty_drop_output[empty_drop_output[\"FDR\"] < 0.001].index\n",
    "dataset = dataset[dataset.obs.index.isin(non_empty_barcodes), :]\n",
    "dataset"
   ]
  },
  {
   "cell_type": "code",
   "execution_count": null,
   "id": "016a91e5-1bef-46fb-b91e-4fb9a6870c44",
   "metadata": {
    "execution": {
     "iopub.execute_input": "2023-05-15T08:59:27.391101Z",
     "iopub.status.busy": "2023-05-15T08:59:27.390939Z",
     "iopub.status.idle": "2023-05-15T08:59:29.236473Z",
     "shell.execute_reply": "2023-05-15T08:59:29.236018Z"
    },
    "papermill": {
     "duration": 1.849973,
     "end_time": "2023-05-15T08:59:29.237767",
     "exception": false,
     "start_time": "2023-05-15T08:59:27.387794",
     "status": "completed"
    },
    "tags": []
   },
   "outputs": [],
   "source": [
    "rna_assay = dataset.copy()\n",
    "sc.pp.normalize_per_cell(rna_assay)\n",
    "sc.pp.log1p(rna_assay)\n",
    "sc.pp.pca(rna_assay)\n",
    "sc.pp.neighbors(rna_assay)\n",
    "sc.tl.leiden(rna_assay, key_added=\"soupx_groups\")\n",
    "\n",
    "soupx_groups = rna_assay.obs[\"soupx_groups\"]\n",
    "\n",
    "del rna_assay\n",
    "\n",
    "genes = dataset.var_names\n",
    "cells = dataset.obs_names\n",
    "data = dataset.X.T.copy()"
   ]
  },
  {
   "cell_type": "code",
   "execution_count": null,
   "id": "9db4ea1f-1580-4f43-a3f0-86002397cd98",
   "metadata": {
    "execution": {
     "iopub.execute_input": "2023-05-15T08:59:29.244354Z",
     "iopub.status.busy": "2023-05-15T08:59:29.244112Z",
     "iopub.status.idle": "2023-05-15T08:59:32.596904Z",
     "shell.execute_reply": "2023-05-15T08:59:32.596426Z"
    },
    "papermill": {
     "duration": 3.357394,
     "end_time": "2023-05-15T08:59:32.598246",
     "exception": false,
     "start_time": "2023-05-15T08:59:29.240852",
     "status": "completed"
    },
    "tags": []
   },
   "outputs": [],
   "source": [
    "%%R -i data -i data_tod -i genes -i cells -i soupx_groups -o out \n",
    "set.seed(187)\n",
    "# specify row and column names of data\n",
    "rownames(data) = genes\n",
    "colnames(data) = cells\n",
    "# ensure correct sparse format for table of counts and table of droplets\n",
    "data <- as(data, \"sparseMatrix\")\n",
    "data_tod <- as(data_tod, \"sparseMatrix\")\n",
    "\n",
    "# Generate SoupChannel Object for SoupX \n",
    "sc = SoupChannel(data_tod, data, calcSoupProfile = FALSE)\n",
    "\n",
    "# Add extra meta data to the SoupChannel object\n",
    "soupProf = data.frame(row.names = rownames(data),\n",
    "                      est = rowSums(data)/sum(data),\n",
    "                      counts = rowSums(data))\n",
    "sc = setSoupProfile(sc, soupProf)\n",
    "# Set cluster information in SoupChannel\n",
    "sc = setClusters(sc, soupx_groups)\n",
    "\n",
    "# Estimate contamination fraction\n",
    "sc  = autoEstCont(sc, doPlot=FALSE, forceAccept = TRUE)\n",
    "# Infer corrected table of counts and rount to integer\n",
    "out = adjustCounts(sc, roundToInt = TRUE)"
   ]
  },
  {
   "cell_type": "code",
   "execution_count": null,
   "id": "32555d5e-5fa3-46dd-a4e0-ddc96ea265e2",
   "metadata": {
    "execution": {
     "iopub.execute_input": "2023-05-15T08:59:32.606583Z",
     "iopub.status.busy": "2023-05-15T08:59:32.606378Z",
     "iopub.status.idle": "2023-05-15T08:59:32.612238Z",
     "shell.execute_reply": "2023-05-15T08:59:32.611873Z"
    },
    "papermill": {
     "duration": 0.010261,
     "end_time": "2023-05-15T08:59:32.613310",
     "exception": false,
     "start_time": "2023-05-15T08:59:32.603049",
     "status": "completed"
    },
    "tags": []
   },
   "outputs": [],
   "source": [
    "dataset.layers[\"soupX_counts\"] = out.T\n",
    "dataset.X = dataset.layers[\"soupX_counts\"].copy()"
   ]
  },
  {
   "cell_type": "code",
   "execution_count": null,
   "id": "e27da7df-e094-4d2a-9109-5a363e012175",
   "metadata": {
    "execution": {
     "iopub.execute_input": "2023-05-15T08:59:32.619365Z",
     "iopub.status.busy": "2023-05-15T08:59:32.619210Z",
     "iopub.status.idle": "2023-05-15T08:59:32.621305Z",
     "shell.execute_reply": "2023-05-15T08:59:32.620989Z"
    },
    "papermill": {
     "duration": 0.005993,
     "end_time": "2023-05-15T08:59:32.622077",
     "exception": false,
     "start_time": "2023-05-15T08:59:32.616084",
     "status": "completed"
    },
    "tags": []
   },
   "outputs": [],
   "source": [
    "data_mat = dataset.X.T"
   ]
  },
  {
   "cell_type": "code",
   "execution_count": null,
   "id": "80a993b1-5ccb-4697-9187-1beb7ab8aff9",
   "metadata": {
    "execution": {
     "iopub.execute_input": "2023-05-15T08:59:32.628057Z",
     "iopub.status.busy": "2023-05-15T08:59:32.627845Z",
     "iopub.status.idle": "2023-05-15T08:59:42.879249Z",
     "shell.execute_reply": "2023-05-15T08:59:42.878788Z"
    },
    "papermill": {
     "duration": 10.255815,
     "end_time": "2023-05-15T08:59:42.880598",
     "exception": false,
     "start_time": "2023-05-15T08:59:32.624783",
     "status": "completed"
    },
    "tags": []
   },
   "outputs": [],
   "source": [
    "%%R -i data_mat -o droplet_class\n",
    "\n",
    "set.seed(187)\n",
    "sce = scDblFinder(\n",
    "    SingleCellExperiment(\n",
    "        list(counts=data_mat),\n",
    "    ) \n",
    ")\n",
    "droplet_class = sce$scDblFinder.class"
   ]
  },
  {
   "cell_type": "code",
   "execution_count": null,
   "id": "d4dd6e9d-fcf2-41fc-8457-c8e0a3cb2c71",
   "metadata": {
    "execution": {
     "iopub.execute_input": "2023-05-15T08:59:42.888936Z",
     "iopub.status.busy": "2023-05-15T08:59:42.888790Z",
     "iopub.status.idle": "2023-05-15T08:59:42.892855Z",
     "shell.execute_reply": "2023-05-15T08:59:42.892548Z"
    },
    "papermill": {
     "duration": 0.008153,
     "end_time": "2023-05-15T08:59:42.893631",
     "exception": false,
     "start_time": "2023-05-15T08:59:42.885478",
     "status": "completed"
    },
    "tags": []
   },
   "outputs": [],
   "source": [
    "dataset.obs[\"scDblFinder_class\"] = droplet_class\n",
    "dataset.obs.scDblFinder_class.value_counts()\n",
    "dataset"
   ]
  },
  {
   "cell_type": "code",
   "execution_count": null,
   "id": "28c95014-2d6c-477f-95cb-9f9f0507520c",
   "metadata": {
    "execution": {
     "iopub.execute_input": "2023-05-15T08:59:42.900022Z",
     "iopub.status.busy": "2023-05-15T08:59:42.899698Z",
     "iopub.status.idle": "2023-05-15T08:59:42.908924Z",
     "shell.execute_reply": "2023-05-15T08:59:42.908610Z"
    },
    "papermill": {
     "duration": 0.01329,
     "end_time": "2023-05-15T08:59:42.909714",
     "exception": false,
     "start_time": "2023-05-15T08:59:42.896424",
     "status": "completed"
    },
    "tags": []
   },
   "outputs": [],
   "source": [
    "dataset = dataset[dataset.obs[\"scDblFinder_class\"] == 1]"
   ]
  },
  {
   "cell_type": "code",
   "execution_count": null,
   "id": "3e22f9e0-bfcb-416c-a151-a9bca3bec3b9",
   "metadata": {
    "execution": {
     "iopub.execute_input": "2023-05-15T08:59:42.915971Z",
     "iopub.status.busy": "2023-05-15T08:59:42.915753Z",
     "iopub.status.idle": "2023-05-15T08:59:42.958751Z",
     "shell.execute_reply": "2023-05-15T08:59:42.958339Z"
    },
    "papermill": {
     "duration": 0.047138,
     "end_time": "2023-05-15T08:59:42.959589",
     "exception": false,
     "start_time": "2023-05-15T08:59:42.912451",
     "status": "completed"
    },
    "tags": []
   },
   "outputs": [],
   "source": [
    "# mitochondrial genes\n",
    "dataset.var[\"mt\"] = dataset.var_names.str.startswith(\"MT-\")\n",
    "# ribosomal genes\n",
    "dataset.var[\"ribo\"] = dataset.var_names.str.startswith((\"RPS\", \"RPL\"))\n",
    "# hemoglobin genes.\n",
    "dataset.var[\"hb\"] = dataset.var_names.str.contains((\"^HB[^(P)]\"))\n",
    "\n",
    "sc.pp.calculate_qc_metrics(dataset,\n",
    "                           qc_vars=['mt', 'ribo', 'hb'],\n",
    "                           percent_top=None,\n",
    "                           log1p=False,\n",
    "                           inplace=True)\n",
    "dataset"
   ]
  },
  {
   "cell_type": "code",
   "execution_count": null,
   "id": "34deee79-4043-428f-8575-aa57b45f6369",
   "metadata": {
    "execution": {
     "iopub.execute_input": "2023-05-15T08:59:42.966587Z",
     "iopub.status.busy": "2023-05-15T08:59:42.966326Z",
     "iopub.status.idle": "2023-05-15T08:59:43.356343Z",
     "shell.execute_reply": "2023-05-15T08:59:43.355773Z"
    },
    "papermill": {
     "duration": 0.394461,
     "end_time": "2023-05-15T08:59:43.357261",
     "exception": false,
     "start_time": "2023-05-15T08:59:42.962800",
     "status": "completed"
    },
    "tags": []
   },
   "outputs": [],
   "source": [
    "fig, ax = plt.subplots(ncols = 4, figsize = (16,4))\n",
    "axis = sc.pl.violin(dataset, \"n_genes_by_counts\", jitter = 0.4, ax = ax[0], show = False)\n",
    "axis.grid(False)\n",
    "axis.set_title(\"Unique Genes per cell\")\n",
    "axis.tick_params(axis = \"x\", bottom =False, labelbottom =False)\n",
    "axis.set_ylabel(\"# genes\")\n",
    "axis.axhline(y = 100, color = \"black\", label = \"cutoff\")\n",
    "axis.legend(fontsize = 14, loc = \"upper right\")\n",
    "\n",
    "axis = sc.pl.violin(dataset, \"pct_counts_mt\", jitter = 0.4, ax = ax[1], show = False)\n",
    "axis.grid(False)\n",
    "axis.set_title(\"Mitochondrial Fraction\")\n",
    "axis.tick_params(axis = \"x\", bottom =False, labelbottom =False)\n",
    "axis.set_ylabel(\"% mitochondrial genes\")\n",
    "axis.axhline(y = 10, color = \"black\", label = \"cutoff\")\n",
    "axis.legend(fontsize = 14, loc = \"upper right\")\n",
    "\n",
    "axis = sc.pl.violin(dataset, \"pct_counts_hb\", jitter = 0.4, ax = ax[2], show = False, size =2)\n",
    "axis.grid(False)\n",
    "axis.set_title(\"Hemoglobin Fraction\")\n",
    "axis.tick_params(axis = \"x\", bottom =False, labelbottom =False)\n",
    "axis.set_ylabel(\"% hemoglobin genes\")\n",
    "axis.axhline(y = 3, color = \"black\", label = \"cutoff\")\n",
    "axis.legend(fontsize = 14, loc = \"upper right\")\n",
    "#axis.set_ylim(0,5)\n",
    "\n",
    "axis = sc.pl.violin(dataset, \"pct_counts_ribo\", jitter = 0.4, ax = ax[3], show = False)\n",
    "axis.grid(False)\n",
    "axis.set_title(\"Ribosomal Fraction\")\n",
    "axis.tick_params(axis = \"x\", bottom =False, labelbottom =False)\n",
    "axis.set_ylabel(\"% ribosome genes\")\n",
    "\n",
    "plt.tight_layout()\n",
    "#plt.savefig(f\"{outputDir}08_gene_based_filtering.pdf\", dpi = 300)\n",
    "plt.show()\n",
    "\n"
   ]
  },
  {
   "cell_type": "code",
   "execution_count": null,
   "id": "d7ade754-843e-4840-8707-426613d8c0c5",
   "metadata": {
    "execution": {
     "iopub.execute_input": "2023-05-15T08:59:43.365875Z",
     "iopub.status.busy": "2023-05-15T08:59:43.365706Z",
     "iopub.status.idle": "2023-05-15T08:59:43.373854Z",
     "shell.execute_reply": "2023-05-15T08:59:43.373547Z"
    },
    "papermill": {
     "duration": 0.013222,
     "end_time": "2023-05-15T08:59:43.374626",
     "exception": false,
     "start_time": "2023-05-15T08:59:43.361404",
     "status": "completed"
    },
    "tags": []
   },
   "outputs": [],
   "source": [
    "dataset = dataset[dataset.obs.pct_counts_mt < 10, :]\n",
    "dataset = dataset[dataset.obs.n_genes_by_counts > 100, :]\n",
    "dataset = dataset[dataset.obs.pct_counts_hb < 3, :]\n",
    "dataset"
   ]
  },
  {
   "cell_type": "code",
   "execution_count": null,
   "id": "1941fa36-e865-4500-b586-f7a32d142c9b",
   "metadata": {
    "execution": {
     "iopub.execute_input": "2023-05-15T08:59:43.382709Z",
     "iopub.status.busy": "2023-05-15T08:59:43.382475Z",
     "iopub.status.idle": "2023-05-15T08:59:43.385201Z",
     "shell.execute_reply": "2023-05-15T08:59:43.384897Z"
    },
    "papermill": {
     "duration": 0.007592,
     "end_time": "2023-05-15T08:59:43.385940",
     "exception": false,
     "start_time": "2023-05-15T08:59:43.378348",
     "status": "completed"
    },
    "tags": []
   },
   "outputs": [],
   "source": [
    "metadata.columns"
   ]
  },
  {
   "cell_type": "code",
   "execution_count": null,
   "id": "2e0ff8c3-2aa9-4a01-9b88-5912a6734447",
   "metadata": {
    "execution": {
     "iopub.execute_input": "2023-05-15T08:59:43.394255Z",
     "iopub.status.busy": "2023-05-15T08:59:43.393982Z",
     "iopub.status.idle": "2023-05-15T08:59:43.410507Z",
     "shell.execute_reply": "2023-05-15T08:59:43.410131Z"
    },
    "papermill": {
     "duration": 0.021569,
     "end_time": "2023-05-15T08:59:43.411360",
     "exception": false,
     "start_time": "2023-05-15T08:59:43.389791",
     "status": "completed"
    },
    "tags": []
   },
   "outputs": [],
   "source": [
    "for col in metadata.columns:\n",
    "    dataset.obs[col] = metadata.loc[metadata[\"Run\"] == sample_name, col].to_list()[0]"
   ]
  },
  {
   "cell_type": "code",
   "execution_count": null,
   "id": "b84578d3-d63e-419c-a272-a0b8317d05ab",
   "metadata": {
    "execution": {
     "iopub.execute_input": "2023-05-15T08:59:43.420142Z",
     "iopub.status.busy": "2023-05-15T08:59:43.419976Z",
     "iopub.status.idle": "2023-05-15T08:59:43.981368Z",
     "shell.execute_reply": "2023-05-15T08:59:43.980888Z"
    },
    "papermill": {
     "duration": 0.567376,
     "end_time": "2023-05-15T08:59:43.982959",
     "exception": false,
     "start_time": "2023-05-15T08:59:43.415583",
     "status": "completed"
    },
    "tags": []
   },
   "outputs": [],
   "source": [
    "dataset.write(f\"../../int_data/{sample_name}_qc.h5ad\")"
   ]
  },
  {
   "cell_type": "code",
   "execution_count": null,
   "id": "501b33a0-432d-415f-ae82-50723484b85d",
   "metadata": {
    "execution": {
     "iopub.execute_input": "2023-05-15T08:59:43.992125Z",
     "iopub.status.busy": "2023-05-15T08:59:43.991956Z",
     "iopub.status.idle": "2023-05-15T08:59:43.994986Z",
     "shell.execute_reply": "2023-05-15T08:59:43.994673Z"
    },
    "papermill": {
     "duration": 0.008392,
     "end_time": "2023-05-15T08:59:43.995792",
     "exception": false,
     "start_time": "2023-05-15T08:59:43.987400",
     "status": "completed"
    },
    "tags": []
   },
   "outputs": [],
   "source": [
    "dataset"
   ]
  }
 ],
 "metadata": {
  "kernelspec": {
   "display_name": "py_R",
   "language": "python",
   "name": "python_r"
  },
  "language_info": {
   "codemirror_mode": {
    "name": "ipython",
    "version": 3
   },
   "file_extension": ".py",
   "mimetype": "text/x-python",
   "name": "python",
   "nbconvert_exporter": "python",
   "pygments_lexer": "ipython3",
   "version": "3.10.9"
  },
  "papermill": {
   "default_parameters": {},
   "duration": 62.786518,
   "end_time": "2023-05-15T08:59:45.418403",
   "environment_variables": {},
   "exception": null,
   "input_path": "template.ipynb",
   "output_path": "SRR13329148.ipynb",
   "parameters": {
    "sample_name": "SRR13329148"
   },
   "start_time": "2023-05-15T08:58:42.631885",
   "version": "2.4.0"
  }
 },
 "nbformat": 4,
 "nbformat_minor": 5
}
