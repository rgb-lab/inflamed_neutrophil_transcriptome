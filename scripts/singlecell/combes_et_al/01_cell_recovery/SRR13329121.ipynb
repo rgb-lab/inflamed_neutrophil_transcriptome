{
 "cells": [
  {
   "cell_type": "code",
   "execution_count": null,
   "id": "4c0f2fa8-5232-4f47-a7ec-6c9bbabe50e2",
   "metadata": {
    "execution": {
     "iopub.execute_input": "2023-05-15T09:06:04.068156Z",
     "iopub.status.busy": "2023-05-15T09:06:04.067994Z",
     "iopub.status.idle": "2023-05-15T09:06:04.072462Z",
     "shell.execute_reply": "2023-05-15T09:06:04.072153Z"
    },
    "papermill": {
     "duration": 0.009168,
     "end_time": "2023-05-15T09:06:04.073342",
     "exception": false,
     "start_time": "2023-05-15T09:06:04.064174",
     "status": "completed"
    },
    "tags": [
     "parameters"
    ]
   },
   "outputs": [],
   "source": [
    "sample_name = \"SRR13329143\""
   ]
  },
  {
   "cell_type": "code",
   "execution_count": null,
   "id": "ee65b98f",
   "metadata": {
    "execution": {
     "iopub.execute_input": "2023-05-15T09:06:04.078313Z",
     "iopub.status.busy": "2023-05-15T09:06:04.078190Z",
     "iopub.status.idle": "2023-05-15T09:06:04.080117Z",
     "shell.execute_reply": "2023-05-15T09:06:04.079823Z"
    },
    "papermill": {
     "duration": 0.005209,
     "end_time": "2023-05-15T09:06:04.080859",
     "exception": false,
     "start_time": "2023-05-15T09:06:04.075650",
     "status": "completed"
    },
    "tags": [
     "injected-parameters"
    ]
   },
   "outputs": [],
   "source": [
    "# Parameters\n",
    "sample_name = \"SRR13329121\"\n"
   ]
  },
  {
   "cell_type": "code",
   "execution_count": null,
   "id": "f87ed95b-2b67-4a5a-8fe2-47359b1dd2a9",
   "metadata": {
    "execution": {
     "iopub.execute_input": "2023-05-15T09:06:04.086521Z",
     "iopub.status.busy": "2023-05-15T09:06:04.086379Z",
     "iopub.status.idle": "2023-05-15T09:06:04.088532Z",
     "shell.execute_reply": "2023-05-15T09:06:04.088232Z"
    },
    "papermill": {
     "duration": 0.005706,
     "end_time": "2023-05-15T09:06:04.089289",
     "exception": false,
     "start_time": "2023-05-15T09:06:04.083583",
     "status": "completed"
    },
    "tags": []
   },
   "outputs": [],
   "source": [
    "import warnings\n",
    "warnings.simplefilter(action='ignore', category=FutureWarning)\n",
    "warnings.simplefilter(action='ignore', category=UserWarning)"
   ]
  },
  {
   "cell_type": "code",
   "execution_count": null,
   "id": "85161f19-b2c5-490b-8cab-c2cf9653b304",
   "metadata": {
    "execution": {
     "iopub.execute_input": "2023-05-15T09:06:04.094304Z",
     "iopub.status.busy": "2023-05-15T09:06:04.094105Z",
     "iopub.status.idle": "2023-05-15T09:06:08.881039Z",
     "shell.execute_reply": "2023-05-15T09:06:08.880572Z"
    },
    "papermill": {
     "duration": 4.790869,
     "end_time": "2023-05-15T09:06:08.882395",
     "exception": false,
     "start_time": "2023-05-15T09:06:04.091526",
     "status": "completed"
    },
    "tags": []
   },
   "outputs": [],
   "source": [
    "import gc\n",
    "import scanpy as sc\n",
    "import muon as mu\n",
    "import seaborn as sns\n",
    "import os\n",
    "import pandas as pd\n",
    "from matplotlib import pyplot as plt\n",
    "\n",
    "os.environ['R_HOME'] = '/gpfs/bwfor/work/ws/hd_fu399-conda/conda/envs/python_R/lib/R/'\n",
    "import anndata2ri\n",
    "import logging\n",
    "\n",
    "import rpy2.rinterface_lib.callbacks as rcb\n",
    "import rpy2.robjects as ro\n",
    "\n",
    "rcb.logger.setLevel(logging.ERROR)\n",
    "ro.pandas2ri.activate()\n",
    "anndata2ri.activate()\n",
    "\n",
    "%load_ext rpy2.ipython"
   ]
  },
  {
   "cell_type": "code",
   "execution_count": null,
   "id": "fc4ade78-b728-4704-9db6-45fbaab62ba1",
   "metadata": {
    "execution": {
     "iopub.execute_input": "2023-05-15T09:06:08.890393Z",
     "iopub.status.busy": "2023-05-15T09:06:08.890136Z",
     "iopub.status.idle": "2023-05-15T09:06:20.207706Z",
     "shell.execute_reply": "2023-05-15T09:06:20.207185Z"
    },
    "papermill": {
     "duration": 11.321599,
     "end_time": "2023-05-15T09:06:20.208924",
     "exception": false,
     "start_time": "2023-05-15T09:06:08.887325",
     "status": "completed"
    },
    "tags": []
   },
   "outputs": [],
   "source": [
    "%%R\n",
    "library(SoupX)\n",
    "library(Seurat)\n",
    "library(scater)\n",
    "library(scDblFinder)\n",
    "library(BiocParallel)\n",
    "library(MuDataSeurat)\n",
    "library(DropletUtils)"
   ]
  },
  {
   "cell_type": "code",
   "execution_count": null,
   "id": "f7424d90-7690-4290-8651-1db3f9df3a35",
   "metadata": {
    "execution": {
     "iopub.execute_input": "2023-05-15T09:06:20.217153Z",
     "iopub.status.busy": "2023-05-15T09:06:20.216995Z",
     "iopub.status.idle": "2023-05-15T09:06:20.222771Z",
     "shell.execute_reply": "2023-05-15T09:06:20.222421Z"
    },
    "papermill": {
     "duration": 0.009774,
     "end_time": "2023-05-15T09:06:20.223565",
     "exception": false,
     "start_time": "2023-05-15T09:06:20.213791",
     "status": "completed"
    },
    "tags": []
   },
   "outputs": [],
   "source": [
    "metadata = pd.read_csv(\"../../combes_metadata.txt\")"
   ]
  },
  {
   "cell_type": "code",
   "execution_count": null,
   "id": "2574ecf1-bad4-4c33-8f3f-718a358727ab",
   "metadata": {
    "execution": {
     "iopub.execute_input": "2023-05-15T09:06:20.229040Z",
     "iopub.status.busy": "2023-05-15T09:06:20.228835Z",
     "iopub.status.idle": "2023-05-15T09:06:20.236587Z",
     "shell.execute_reply": "2023-05-15T09:06:20.236252Z"
    },
    "papermill": {
     "duration": 0.011448,
     "end_time": "2023-05-15T09:06:20.237351",
     "exception": false,
     "start_time": "2023-05-15T09:06:20.225903",
     "status": "completed"
    },
    "tags": []
   },
   "outputs": [],
   "source": [
    "raw_input = f\"/home/hd/hd_hd/hd_fu399/sds-hd/sd21k006/scRNAseq/revision_natcomm/combes_et_al/fetchngs/results/fastq/{sample_name}/{sample_name}/outs/raw_feature_bc_matrix.h5\""
   ]
  },
  {
   "cell_type": "code",
   "execution_count": null,
   "id": "e266d388-1802-435c-93a5-90067358739c",
   "metadata": {
    "execution": {
     "iopub.execute_input": "2023-05-15T09:06:20.242772Z",
     "iopub.status.busy": "2023-05-15T09:06:20.242503Z",
     "iopub.status.idle": "2023-05-15T09:06:20.909908Z",
     "shell.execute_reply": "2023-05-15T09:06:20.909448Z"
    },
    "papermill": {
     "duration": 0.671117,
     "end_time": "2023-05-15T09:06:20.910834",
     "exception": false,
     "start_time": "2023-05-15T09:06:20.239717",
     "status": "completed"
    },
    "tags": []
   },
   "outputs": [],
   "source": [
    "dataset = sc.read_10x_h5(raw_input)\n",
    "dataset.var_names_make_unique()\n",
    "dataset.obs_names_make_unique()\n",
    "\n",
    "dataset.layers[\"raw_counts\"] = dataset.X.copy()\n",
    "data_tod = dataset.layers[\"raw_counts\"].T.copy()\n",
    "\n",
    "dataset"
   ]
  },
  {
   "cell_type": "code",
   "execution_count": null,
   "id": "af9f5892-ed31-42a6-991b-4e096f582cef",
   "metadata": {
    "execution": {
     "iopub.execute_input": "2023-05-15T09:06:20.917315Z",
     "iopub.status.busy": "2023-05-15T09:06:20.917135Z",
     "iopub.status.idle": "2023-05-15T09:06:20.966997Z",
     "shell.execute_reply": "2023-05-15T09:06:20.966566Z"
    },
    "papermill": {
     "duration": 0.054176,
     "end_time": "2023-05-15T09:06:20.968241",
     "exception": false,
     "start_time": "2023-05-15T09:06:20.914065",
     "status": "completed"
    },
    "tags": []
   },
   "outputs": [],
   "source": [
    "sce = dataset.copy()"
   ]
  },
  {
   "cell_type": "code",
   "execution_count": null,
   "id": "d03f2caf-8e74-430e-b045-0ab80401d165",
   "metadata": {
    "execution": {
     "iopub.execute_input": "2023-05-15T09:06:20.974586Z",
     "iopub.status.busy": "2023-05-15T09:06:20.974412Z",
     "iopub.status.idle": "2023-05-15T09:07:47.101339Z",
     "shell.execute_reply": "2023-05-15T09:07:47.100725Z"
    },
    "papermill": {
     "duration": 86.131298,
     "end_time": "2023-05-15T09:07:47.102680",
     "exception": false,
     "start_time": "2023-05-15T09:06:20.971382",
     "status": "completed"
    },
    "tags": []
   },
   "outputs": [],
   "source": [
    "%%R -i sce -o empty_drop_output\n",
    "set.seed(187)\n",
    "empty_drop_output <- emptyDrops(assay(sce))"
   ]
  },
  {
   "cell_type": "code",
   "execution_count": null,
   "id": "2a34a54b-3ae2-44d6-8679-8769228c5b66",
   "metadata": {
    "execution": {
     "iopub.execute_input": "2023-05-15T09:07:47.111068Z",
     "iopub.status.busy": "2023-05-15T09:07:47.110915Z",
     "iopub.status.idle": "2023-05-15T09:07:47.138971Z",
     "shell.execute_reply": "2023-05-15T09:07:47.138628Z"
    },
    "papermill": {
     "duration": 0.032229,
     "end_time": "2023-05-15T09:07:47.139793",
     "exception": false,
     "start_time": "2023-05-15T09:07:47.107564",
     "status": "completed"
    },
    "tags": []
   },
   "outputs": [],
   "source": [
    "non_empty_barcodes = empty_drop_output[empty_drop_output[\"FDR\"] < 0.001].index\n",
    "dataset = dataset[dataset.obs.index.isin(non_empty_barcodes), :]\n",
    "dataset"
   ]
  },
  {
   "cell_type": "code",
   "execution_count": null,
   "id": "016a91e5-1bef-46fb-b91e-4fb9a6870c44",
   "metadata": {
    "execution": {
     "iopub.execute_input": "2023-05-15T09:07:47.145956Z",
     "iopub.status.busy": "2023-05-15T09:07:47.145758Z",
     "iopub.status.idle": "2023-05-15T09:07:52.435637Z",
     "shell.execute_reply": "2023-05-15T09:07:52.435106Z"
    },
    "papermill": {
     "duration": 5.294291,
     "end_time": "2023-05-15T09:07:52.436917",
     "exception": false,
     "start_time": "2023-05-15T09:07:47.142626",
     "status": "completed"
    },
    "tags": []
   },
   "outputs": [],
   "source": [
    "rna_assay = dataset.copy()\n",
    "sc.pp.normalize_per_cell(rna_assay)\n",
    "sc.pp.log1p(rna_assay)\n",
    "sc.pp.pca(rna_assay)\n",
    "sc.pp.neighbors(rna_assay)\n",
    "sc.tl.leiden(rna_assay, key_added=\"soupx_groups\")\n",
    "\n",
    "soupx_groups = rna_assay.obs[\"soupx_groups\"]\n",
    "\n",
    "del rna_assay\n",
    "\n",
    "genes = dataset.var_names\n",
    "cells = dataset.obs_names\n",
    "data = dataset.X.T.copy()"
   ]
  },
  {
   "cell_type": "code",
   "execution_count": null,
   "id": "9db4ea1f-1580-4f43-a3f0-86002397cd98",
   "metadata": {
    "execution": {
     "iopub.execute_input": "2023-05-15T09:07:52.445458Z",
     "iopub.status.busy": "2023-05-15T09:07:52.445289Z",
     "iopub.status.idle": "2023-05-15T09:08:06.667245Z",
     "shell.execute_reply": "2023-05-15T09:08:06.666769Z"
    },
    "papermill": {
     "duration": 14.226513,
     "end_time": "2023-05-15T09:08:06.668599",
     "exception": false,
     "start_time": "2023-05-15T09:07:52.442086",
     "status": "completed"
    },
    "tags": []
   },
   "outputs": [],
   "source": [
    "%%R -i data -i data_tod -i genes -i cells -i soupx_groups -o out \n",
    "set.seed(187)\n",
    "# specify row and column names of data\n",
    "rownames(data) = genes\n",
    "colnames(data) = cells\n",
    "# ensure correct sparse format for table of counts and table of droplets\n",
    "data <- as(data, \"sparseMatrix\")\n",
    "data_tod <- as(data_tod, \"sparseMatrix\")\n",
    "\n",
    "# Generate SoupChannel Object for SoupX \n",
    "sc = SoupChannel(data_tod, data, calcSoupProfile = FALSE)\n",
    "\n",
    "# Add extra meta data to the SoupChannel object\n",
    "soupProf = data.frame(row.names = rownames(data),\n",
    "                      est = rowSums(data)/sum(data),\n",
    "                      counts = rowSums(data))\n",
    "sc = setSoupProfile(sc, soupProf)\n",
    "# Set cluster information in SoupChannel\n",
    "sc = setClusters(sc, soupx_groups)\n",
    "\n",
    "# Estimate contamination fraction\n",
    "sc  = autoEstCont(sc, doPlot=FALSE, forceAccept = TRUE)\n",
    "# Infer corrected table of counts and rount to integer\n",
    "out = adjustCounts(sc, roundToInt = TRUE)"
   ]
  },
  {
   "cell_type": "code",
   "execution_count": null,
   "id": "32555d5e-5fa3-46dd-a4e0-ddc96ea265e2",
   "metadata": {
    "execution": {
     "iopub.execute_input": "2023-05-15T09:08:06.677849Z",
     "iopub.status.busy": "2023-05-15T09:08:06.677661Z",
     "iopub.status.idle": "2023-05-15T09:08:06.707499Z",
     "shell.execute_reply": "2023-05-15T09:08:06.707082Z"
    },
    "papermill": {
     "duration": 0.034865,
     "end_time": "2023-05-15T09:08:06.708812",
     "exception": false,
     "start_time": "2023-05-15T09:08:06.673947",
     "status": "completed"
    },
    "tags": []
   },
   "outputs": [],
   "source": [
    "dataset.layers[\"soupX_counts\"] = out.T\n",
    "dataset.X = dataset.layers[\"soupX_counts\"].copy()"
   ]
  },
  {
   "cell_type": "code",
   "execution_count": null,
   "id": "e27da7df-e094-4d2a-9109-5a363e012175",
   "metadata": {
    "execution": {
     "iopub.execute_input": "2023-05-15T09:08:06.715554Z",
     "iopub.status.busy": "2023-05-15T09:08:06.715381Z",
     "iopub.status.idle": "2023-05-15T09:08:06.717703Z",
     "shell.execute_reply": "2023-05-15T09:08:06.717389Z"
    },
    "papermill": {
     "duration": 0.006396,
     "end_time": "2023-05-15T09:08:06.718494",
     "exception": false,
     "start_time": "2023-05-15T09:08:06.712098",
     "status": "completed"
    },
    "tags": []
   },
   "outputs": [],
   "source": [
    "data_mat = dataset.X.T"
   ]
  },
  {
   "cell_type": "code",
   "execution_count": null,
   "id": "80a993b1-5ccb-4697-9187-1beb7ab8aff9",
   "metadata": {
    "execution": {
     "iopub.execute_input": "2023-05-15T09:08:06.724455Z",
     "iopub.status.busy": "2023-05-15T09:08:06.724303Z",
     "iopub.status.idle": "2023-05-15T09:08:22.662685Z",
     "shell.execute_reply": "2023-05-15T09:08:22.662208Z"
    },
    "papermill": {
     "duration": 15.942682,
     "end_time": "2023-05-15T09:08:22.663837",
     "exception": false,
     "start_time": "2023-05-15T09:08:06.721155",
     "status": "completed"
    },
    "tags": []
   },
   "outputs": [],
   "source": [
    "%%R -i data_mat -o droplet_class\n",
    "\n",
    "set.seed(187)\n",
    "sce = scDblFinder(\n",
    "    SingleCellExperiment(\n",
    "        list(counts=data_mat),\n",
    "    ) \n",
    ")\n",
    "droplet_class = sce$scDblFinder.class"
   ]
  },
  {
   "cell_type": "code",
   "execution_count": null,
   "id": "d4dd6e9d-fcf2-41fc-8457-c8e0a3cb2c71",
   "metadata": {
    "execution": {
     "iopub.execute_input": "2023-05-15T09:08:22.672884Z",
     "iopub.status.busy": "2023-05-15T09:08:22.672715Z",
     "iopub.status.idle": "2023-05-15T09:08:22.676661Z",
     "shell.execute_reply": "2023-05-15T09:08:22.676347Z"
    },
    "papermill": {
     "duration": 0.008193,
     "end_time": "2023-05-15T09:08:22.677436",
     "exception": false,
     "start_time": "2023-05-15T09:08:22.669243",
     "status": "completed"
    },
    "tags": []
   },
   "outputs": [],
   "source": [
    "dataset.obs[\"scDblFinder_class\"] = droplet_class\n",
    "dataset.obs.scDblFinder_class.value_counts()\n",
    "dataset"
   ]
  },
  {
   "cell_type": "code",
   "execution_count": null,
   "id": "28c95014-2d6c-477f-95cb-9f9f0507520c",
   "metadata": {
    "execution": {
     "iopub.execute_input": "2023-05-15T09:08:22.683556Z",
     "iopub.status.busy": "2023-05-15T09:08:22.683393Z",
     "iopub.status.idle": "2023-05-15T09:08:22.698063Z",
     "shell.execute_reply": "2023-05-15T09:08:22.697744Z"
    },
    "papermill": {
     "duration": 0.018676,
     "end_time": "2023-05-15T09:08:22.698866",
     "exception": false,
     "start_time": "2023-05-15T09:08:22.680190",
     "status": "completed"
    },
    "tags": []
   },
   "outputs": [],
   "source": [
    "dataset = dataset[dataset.obs[\"scDblFinder_class\"] == 1]"
   ]
  },
  {
   "cell_type": "code",
   "execution_count": null,
   "id": "3e22f9e0-bfcb-416c-a151-a9bca3bec3b9",
   "metadata": {
    "execution": {
     "iopub.execute_input": "2023-05-15T09:08:22.705033Z",
     "iopub.status.busy": "2023-05-15T09:08:22.704878Z",
     "iopub.status.idle": "2023-05-15T09:08:22.867977Z",
     "shell.execute_reply": "2023-05-15T09:08:22.867516Z"
    },
    "papermill": {
     "duration": 0.167275,
     "end_time": "2023-05-15T09:08:22.868899",
     "exception": false,
     "start_time": "2023-05-15T09:08:22.701624",
     "status": "completed"
    },
    "tags": []
   },
   "outputs": [],
   "source": [
    "# mitochondrial genes\n",
    "dataset.var[\"mt\"] = dataset.var_names.str.startswith(\"MT-\")\n",
    "# ribosomal genes\n",
    "dataset.var[\"ribo\"] = dataset.var_names.str.startswith((\"RPS\", \"RPL\"))\n",
    "# hemoglobin genes.\n",
    "dataset.var[\"hb\"] = dataset.var_names.str.contains((\"^HB[^(P)]\"))\n",
    "\n",
    "sc.pp.calculate_qc_metrics(dataset,\n",
    "                           qc_vars=['mt', 'ribo', 'hb'],\n",
    "                           percent_top=None,\n",
    "                           log1p=False,\n",
    "                           inplace=True)\n",
    "dataset"
   ]
  },
  {
   "cell_type": "code",
   "execution_count": null,
   "id": "34deee79-4043-428f-8575-aa57b45f6369",
   "metadata": {
    "execution": {
     "iopub.execute_input": "2023-05-15T09:08:22.876161Z",
     "iopub.status.busy": "2023-05-15T09:08:22.875976Z",
     "iopub.status.idle": "2023-05-15T09:08:23.318071Z",
     "shell.execute_reply": "2023-05-15T09:08:23.317694Z"
    },
    "papermill": {
     "duration": 0.446422,
     "end_time": "2023-05-15T09:08:23.318946",
     "exception": false,
     "start_time": "2023-05-15T09:08:22.872524",
     "status": "completed"
    },
    "tags": []
   },
   "outputs": [],
   "source": [
    "fig, ax = plt.subplots(ncols = 4, figsize = (16,4))\n",
    "axis = sc.pl.violin(dataset, \"n_genes_by_counts\", jitter = 0.4, ax = ax[0], show = False)\n",
    "axis.grid(False)\n",
    "axis.set_title(\"Unique Genes per cell\")\n",
    "axis.tick_params(axis = \"x\", bottom =False, labelbottom =False)\n",
    "axis.set_ylabel(\"# genes\")\n",
    "axis.axhline(y = 100, color = \"black\", label = \"cutoff\")\n",
    "axis.legend(fontsize = 14, loc = \"upper right\")\n",
    "\n",
    "axis = sc.pl.violin(dataset, \"pct_counts_mt\", jitter = 0.4, ax = ax[1], show = False)\n",
    "axis.grid(False)\n",
    "axis.set_title(\"Mitochondrial Fraction\")\n",
    "axis.tick_params(axis = \"x\", bottom =False, labelbottom =False)\n",
    "axis.set_ylabel(\"% mitochondrial genes\")\n",
    "axis.axhline(y = 10, color = \"black\", label = \"cutoff\")\n",
    "axis.legend(fontsize = 14, loc = \"upper right\")\n",
    "\n",
    "axis = sc.pl.violin(dataset, \"pct_counts_hb\", jitter = 0.4, ax = ax[2], show = False, size =2)\n",
    "axis.grid(False)\n",
    "axis.set_title(\"Hemoglobin Fraction\")\n",
    "axis.tick_params(axis = \"x\", bottom =False, labelbottom =False)\n",
    "axis.set_ylabel(\"% hemoglobin genes\")\n",
    "axis.axhline(y = 3, color = \"black\", label = \"cutoff\")\n",
    "axis.legend(fontsize = 14, loc = \"upper right\")\n",
    "#axis.set_ylim(0,5)\n",
    "\n",
    "axis = sc.pl.violin(dataset, \"pct_counts_ribo\", jitter = 0.4, ax = ax[3], show = False)\n",
    "axis.grid(False)\n",
    "axis.set_title(\"Ribosomal Fraction\")\n",
    "axis.tick_params(axis = \"x\", bottom =False, labelbottom =False)\n",
    "axis.set_ylabel(\"% ribosome genes\")\n",
    "\n",
    "plt.tight_layout()\n",
    "#plt.savefig(f\"{outputDir}08_gene_based_filtering.pdf\", dpi = 300)\n",
    "plt.show()\n",
    "\n"
   ]
  },
  {
   "cell_type": "code",
   "execution_count": null,
   "id": "d7ade754-843e-4840-8707-426613d8c0c5",
   "metadata": {
    "execution": {
     "iopub.execute_input": "2023-05-15T09:08:23.328308Z",
     "iopub.status.busy": "2023-05-15T09:08:23.328131Z",
     "iopub.status.idle": "2023-05-15T09:08:23.336740Z",
     "shell.execute_reply": "2023-05-15T09:08:23.336403Z"
    },
    "papermill": {
     "duration": 0.013865,
     "end_time": "2023-05-15T09:08:23.337493",
     "exception": false,
     "start_time": "2023-05-15T09:08:23.323628",
     "status": "completed"
    },
    "tags": []
   },
   "outputs": [],
   "source": [
    "dataset = dataset[dataset.obs.pct_counts_mt < 10, :]\n",
    "dataset = dataset[dataset.obs.n_genes_by_counts > 100, :]\n",
    "dataset = dataset[dataset.obs.pct_counts_hb < 3, :]\n",
    "dataset"
   ]
  },
  {
   "cell_type": "code",
   "execution_count": null,
   "id": "1941fa36-e865-4500-b586-f7a32d142c9b",
   "metadata": {
    "execution": {
     "iopub.execute_input": "2023-05-15T09:08:23.346029Z",
     "iopub.status.busy": "2023-05-15T09:08:23.345873Z",
     "iopub.status.idle": "2023-05-15T09:08:23.389604Z",
     "shell.execute_reply": "2023-05-15T09:08:23.389296Z"
    },
    "papermill": {
     "duration": 0.048889,
     "end_time": "2023-05-15T09:08:23.390362",
     "exception": false,
     "start_time": "2023-05-15T09:08:23.341473",
     "status": "completed"
    },
    "tags": []
   },
   "outputs": [],
   "source": [
    "metadata.columns"
   ]
  },
  {
   "cell_type": "code",
   "execution_count": null,
   "id": "2e0ff8c3-2aa9-4a01-9b88-5912a6734447",
   "metadata": {
    "execution": {
     "iopub.execute_input": "2023-05-15T09:08:23.399210Z",
     "iopub.status.busy": "2023-05-15T09:08:23.398871Z",
     "iopub.status.idle": "2023-05-15T09:08:23.447349Z",
     "shell.execute_reply": "2023-05-15T09:08:23.446879Z"
    },
    "papermill": {
     "duration": 0.054096,
     "end_time": "2023-05-15T09:08:23.448488",
     "exception": false,
     "start_time": "2023-05-15T09:08:23.394392",
     "status": "completed"
    },
    "tags": []
   },
   "outputs": [],
   "source": [
    "for col in metadata.columns:\n",
    "    dataset.obs[col] = metadata.loc[metadata[\"Run\"] == sample_name, col].to_list()[0]"
   ]
  },
  {
   "cell_type": "code",
   "execution_count": null,
   "id": "b84578d3-d63e-419c-a272-a0b8317d05ab",
   "metadata": {
    "execution": {
     "iopub.execute_input": "2023-05-15T09:08:23.458388Z",
     "iopub.status.busy": "2023-05-15T09:08:23.458174Z",
     "iopub.status.idle": "2023-05-15T09:08:24.059746Z",
     "shell.execute_reply": "2023-05-15T09:08:24.059270Z"
    },
    "papermill": {
     "duration": 0.607628,
     "end_time": "2023-05-15T09:08:24.061049",
     "exception": false,
     "start_time": "2023-05-15T09:08:23.453421",
     "status": "completed"
    },
    "tags": []
   },
   "outputs": [],
   "source": [
    "dataset.write(f\"../../int_data/{sample_name}_qc.h5ad\")"
   ]
  },
  {
   "cell_type": "code",
   "execution_count": null,
   "id": "501b33a0-432d-415f-ae82-50723484b85d",
   "metadata": {
    "execution": {
     "iopub.execute_input": "2023-05-15T09:08:24.070412Z",
     "iopub.status.busy": "2023-05-15T09:08:24.070223Z",
     "iopub.status.idle": "2023-05-15T09:08:24.073306Z",
     "shell.execute_reply": "2023-05-15T09:08:24.072985Z"
    },
    "papermill": {
     "duration": 0.008486,
     "end_time": "2023-05-15T09:08:24.074086",
     "exception": false,
     "start_time": "2023-05-15T09:08:24.065600",
     "status": "completed"
    },
    "tags": []
   },
   "outputs": [],
   "source": [
    "dataset"
   ]
  }
 ],
 "metadata": {
  "kernelspec": {
   "display_name": "py_R",
   "language": "python",
   "name": "python_r"
  },
  "language_info": {
   "codemirror_mode": {
    "name": "ipython",
    "version": 3
   },
   "file_extension": ".py",
   "mimetype": "text/x-python",
   "name": "python",
   "nbconvert_exporter": "python",
   "pygments_lexer": "ipython3",
   "version": "3.10.9"
  },
  "papermill": {
   "default_parameters": {},
   "duration": 142.618399,
   "end_time": "2023-05-15T09:08:25.495796",
   "environment_variables": {},
   "exception": null,
   "input_path": "template.ipynb",
   "output_path": "SRR13329121.ipynb",
   "parameters": {
    "sample_name": "SRR13329121"
   },
   "start_time": "2023-05-15T09:06:02.877397",
   "version": "2.4.0"
  }
 },
 "nbformat": 4,
 "nbformat_minor": 5
}
