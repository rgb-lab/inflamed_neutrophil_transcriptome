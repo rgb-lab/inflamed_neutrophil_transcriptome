{
 "cells": [
  {
   "cell_type": "code",
   "execution_count": null,
   "id": "4c0f2fa8-5232-4f47-a7ec-6c9bbabe50e2",
   "metadata": {
    "execution": {
     "iopub.execute_input": "2023-05-15T08:10:55.680293Z",
     "iopub.status.busy": "2023-05-15T08:10:55.680131Z",
     "iopub.status.idle": "2023-05-15T08:10:55.684870Z",
     "shell.execute_reply": "2023-05-15T08:10:55.684546Z"
    },
    "papermill": {
     "duration": 0.009649,
     "end_time": "2023-05-15T08:10:55.685758",
     "exception": false,
     "start_time": "2023-05-15T08:10:55.676109",
     "status": "completed"
    },
    "tags": [
     "parameters"
    ]
   },
   "outputs": [],
   "source": [
    "sample_name = \"SRR13329143\""
   ]
  },
  {
   "cell_type": "code",
   "execution_count": null,
   "id": "8b1f9b6c",
   "metadata": {
    "execution": {
     "iopub.execute_input": "2023-05-15T08:10:55.691014Z",
     "iopub.status.busy": "2023-05-15T08:10:55.690877Z",
     "iopub.status.idle": "2023-05-15T08:10:55.692927Z",
     "shell.execute_reply": "2023-05-15T08:10:55.692642Z"
    },
    "papermill": {
     "duration": 0.005498,
     "end_time": "2023-05-15T08:10:55.693700",
     "exception": false,
     "start_time": "2023-05-15T08:10:55.688202",
     "status": "completed"
    },
    "tags": [
     "injected-parameters"
    ]
   },
   "outputs": [],
   "source": [
    "# Parameters\n",
    "sample_name = \"SRR13329114\"\n"
   ]
  },
  {
   "cell_type": "code",
   "execution_count": null,
   "id": "f87ed95b-2b67-4a5a-8fe2-47359b1dd2a9",
   "metadata": {
    "execution": {
     "iopub.execute_input": "2023-05-15T08:10:55.698940Z",
     "iopub.status.busy": "2023-05-15T08:10:55.698727Z",
     "iopub.status.idle": "2023-05-15T08:10:55.700835Z",
     "shell.execute_reply": "2023-05-15T08:10:55.700552Z"
    },
    "papermill": {
     "duration": 0.005544,
     "end_time": "2023-05-15T08:10:55.701586",
     "exception": false,
     "start_time": "2023-05-15T08:10:55.696042",
     "status": "completed"
    },
    "tags": []
   },
   "outputs": [],
   "source": [
    "import warnings\n",
    "warnings.simplefilter(action='ignore', category=FutureWarning)\n",
    "warnings.simplefilter(action='ignore', category=UserWarning)"
   ]
  },
  {
   "cell_type": "code",
   "execution_count": null,
   "id": "85161f19-b2c5-490b-8cab-c2cf9653b304",
   "metadata": {
    "execution": {
     "iopub.execute_input": "2023-05-15T08:10:55.706983Z",
     "iopub.status.busy": "2023-05-15T08:10:55.706807Z",
     "iopub.status.idle": "2023-05-15T08:10:59.861235Z",
     "shell.execute_reply": "2023-05-15T08:10:59.860806Z"
    },
    "papermill": {
     "duration": 4.15842,
     "end_time": "2023-05-15T08:10:59.862431",
     "exception": false,
     "start_time": "2023-05-15T08:10:55.704011",
     "status": "completed"
    },
    "tags": []
   },
   "outputs": [],
   "source": [
    "import gc\n",
    "import scanpy as sc\n",
    "import muon as mu\n",
    "import seaborn as sns\n",
    "import os\n",
    "import pandas as pd\n",
    "from matplotlib import pyplot as plt\n",
    "\n",
    "os.environ['R_HOME'] = '/gpfs/bwfor/work/ws/hd_fu399-conda/conda/envs/python_R/lib/R/'\n",
    "import anndata2ri\n",
    "import logging\n",
    "\n",
    "import rpy2.rinterface_lib.callbacks as rcb\n",
    "import rpy2.robjects as ro\n",
    "\n",
    "rcb.logger.setLevel(logging.ERROR)\n",
    "ro.pandas2ri.activate()\n",
    "anndata2ri.activate()\n",
    "\n",
    "%load_ext rpy2.ipython"
   ]
  },
  {
   "cell_type": "code",
   "execution_count": null,
   "id": "fc4ade78-b728-4704-9db6-45fbaab62ba1",
   "metadata": {
    "execution": {
     "iopub.execute_input": "2023-05-15T08:10:59.871124Z",
     "iopub.status.busy": "2023-05-15T08:10:59.870877Z",
     "iopub.status.idle": "2023-05-15T08:11:10.029104Z",
     "shell.execute_reply": "2023-05-15T08:11:10.028564Z"
    },
    "papermill": {
     "duration": 10.163101,
     "end_time": "2023-05-15T08:11:10.030335",
     "exception": false,
     "start_time": "2023-05-15T08:10:59.867234",
     "status": "completed"
    },
    "tags": []
   },
   "outputs": [],
   "source": [
    "%%R\n",
    "library(SoupX)\n",
    "library(Seurat)\n",
    "library(scater)\n",
    "library(scDblFinder)\n",
    "library(BiocParallel)\n",
    "library(MuDataSeurat)\n",
    "library(DropletUtils)"
   ]
  },
  {
   "cell_type": "code",
   "execution_count": null,
   "id": "f7424d90-7690-4290-8651-1db3f9df3a35",
   "metadata": {
    "execution": {
     "iopub.execute_input": "2023-05-15T08:11:10.038769Z",
     "iopub.status.busy": "2023-05-15T08:11:10.038584Z",
     "iopub.status.idle": "2023-05-15T08:11:10.044673Z",
     "shell.execute_reply": "2023-05-15T08:11:10.044348Z"
    },
    "papermill": {
     "duration": 0.010125,
     "end_time": "2023-05-15T08:11:10.045469",
     "exception": false,
     "start_time": "2023-05-15T08:11:10.035344",
     "status": "completed"
    },
    "tags": []
   },
   "outputs": [],
   "source": [
    "metadata = pd.read_csv(\"../../combes_metadata.txt\")"
   ]
  },
  {
   "cell_type": "code",
   "execution_count": null,
   "id": "2574ecf1-bad4-4c33-8f3f-718a358727ab",
   "metadata": {
    "execution": {
     "iopub.execute_input": "2023-05-15T08:11:10.051042Z",
     "iopub.status.busy": "2023-05-15T08:11:10.050824Z",
     "iopub.status.idle": "2023-05-15T08:11:10.052843Z",
     "shell.execute_reply": "2023-05-15T08:11:10.052549Z"
    },
    "papermill": {
     "duration": 0.005659,
     "end_time": "2023-05-15T08:11:10.053604",
     "exception": false,
     "start_time": "2023-05-15T08:11:10.047945",
     "status": "completed"
    },
    "tags": []
   },
   "outputs": [],
   "source": [
    "raw_input = f\"/home/hd/hd_hd/hd_fu399/sds-hd/sd21k006/scRNAseq/revision_natcomm/combes_et_al/fetchngs/results/fastq/{sample_name}/{sample_name}/outs/raw_feature_bc_matrix.h5\""
   ]
  },
  {
   "cell_type": "code",
   "execution_count": null,
   "id": "e266d388-1802-435c-93a5-90067358739c",
   "metadata": {
    "execution": {
     "iopub.execute_input": "2023-05-15T08:11:10.059298Z",
     "iopub.status.busy": "2023-05-15T08:11:10.059103Z",
     "iopub.status.idle": "2023-05-15T08:11:10.344075Z",
     "shell.execute_reply": "2023-05-15T08:11:10.343640Z"
    },
    "papermill": {
     "duration": 0.2889,
     "end_time": "2023-05-15T08:11:10.345028",
     "exception": false,
     "start_time": "2023-05-15T08:11:10.056128",
     "status": "completed"
    },
    "tags": []
   },
   "outputs": [],
   "source": [
    "dataset = sc.read_10x_h5(raw_input)\n",
    "dataset.var_names_make_unique()\n",
    "dataset.obs_names_make_unique()\n",
    "\n",
    "dataset.layers[\"raw_counts\"] = dataset.X.copy()\n",
    "data_tod = dataset.layers[\"raw_counts\"].T.copy()\n",
    "\n",
    "dataset"
   ]
  },
  {
   "cell_type": "code",
   "execution_count": null,
   "id": "af9f5892-ed31-42a6-991b-4e096f582cef",
   "metadata": {
    "execution": {
     "iopub.execute_input": "2023-05-15T08:11:10.351577Z",
     "iopub.status.busy": "2023-05-15T08:11:10.351388Z",
     "iopub.status.idle": "2023-05-15T08:11:10.363254Z",
     "shell.execute_reply": "2023-05-15T08:11:10.362836Z"
    },
    "papermill": {
     "duration": 0.01631,
     "end_time": "2023-05-15T08:11:10.364459",
     "exception": false,
     "start_time": "2023-05-15T08:11:10.348149",
     "status": "completed"
    },
    "tags": []
   },
   "outputs": [],
   "source": [
    "sce = dataset.copy()"
   ]
  },
  {
   "cell_type": "code",
   "execution_count": null,
   "id": "d03f2caf-8e74-430e-b045-0ab80401d165",
   "metadata": {
    "execution": {
     "iopub.execute_input": "2023-05-15T08:11:10.370767Z",
     "iopub.status.busy": "2023-05-15T08:11:10.370591Z",
     "iopub.status.idle": "2023-05-15T08:11:40.804600Z",
     "shell.execute_reply": "2023-05-15T08:11:40.804011Z"
    },
    "papermill": {
     "duration": 30.438595,
     "end_time": "2023-05-15T08:11:40.805943",
     "exception": false,
     "start_time": "2023-05-15T08:11:10.367348",
     "status": "completed"
    },
    "tags": []
   },
   "outputs": [],
   "source": [
    "%%R -i sce -o empty_drop_output\n",
    "set.seed(187)\n",
    "empty_drop_output <- emptyDrops(assay(sce))"
   ]
  },
  {
   "cell_type": "code",
   "execution_count": null,
   "id": "2a34a54b-3ae2-44d6-8679-8769228c5b66",
   "metadata": {
    "execution": {
     "iopub.execute_input": "2023-05-15T08:11:40.815030Z",
     "iopub.status.busy": "2023-05-15T08:11:40.814877Z",
     "iopub.status.idle": "2023-05-15T08:11:40.822183Z",
     "shell.execute_reply": "2023-05-15T08:11:40.821874Z"
    },
    "papermill": {
     "duration": 0.011933,
     "end_time": "2023-05-15T08:11:40.822967",
     "exception": false,
     "start_time": "2023-05-15T08:11:40.811034",
     "status": "completed"
    },
    "tags": []
   },
   "outputs": [],
   "source": [
    "non_empty_barcodes = empty_drop_output[empty_drop_output[\"FDR\"] < 0.001].index\n",
    "dataset = dataset[dataset.obs.index.isin(non_empty_barcodes), :]\n",
    "dataset"
   ]
  },
  {
   "cell_type": "code",
   "execution_count": null,
   "id": "016a91e5-1bef-46fb-b91e-4fb9a6870c44",
   "metadata": {
    "execution": {
     "iopub.execute_input": "2023-05-15T08:11:40.829111Z",
     "iopub.status.busy": "2023-05-15T08:11:40.828946Z",
     "iopub.status.idle": "2023-05-15T08:11:43.078165Z",
     "shell.execute_reply": "2023-05-15T08:11:43.077705Z"
    },
    "papermill": {
     "duration": 2.25382,
     "end_time": "2023-05-15T08:11:43.079520",
     "exception": false,
     "start_time": "2023-05-15T08:11:40.825700",
     "status": "completed"
    },
    "tags": []
   },
   "outputs": [],
   "source": [
    "rna_assay = dataset.copy()\n",
    "sc.pp.normalize_per_cell(rna_assay)\n",
    "sc.pp.log1p(rna_assay)\n",
    "sc.pp.pca(rna_assay)\n",
    "sc.pp.neighbors(rna_assay)\n",
    "sc.tl.leiden(rna_assay, key_added=\"soupx_groups\")\n",
    "\n",
    "soupx_groups = rna_assay.obs[\"soupx_groups\"]\n",
    "\n",
    "del rna_assay\n",
    "\n",
    "genes = dataset.var_names\n",
    "cells = dataset.obs_names\n",
    "data = dataset.X.T.copy()"
   ]
  },
  {
   "cell_type": "code",
   "execution_count": null,
   "id": "9db4ea1f-1580-4f43-a3f0-86002397cd98",
   "metadata": {
    "execution": {
     "iopub.execute_input": "2023-05-15T08:11:43.086579Z",
     "iopub.status.busy": "2023-05-15T08:11:43.086377Z",
     "iopub.status.idle": "2023-05-15T08:11:47.659750Z",
     "shell.execute_reply": "2023-05-15T08:11:47.659090Z"
    },
    "papermill": {
     "duration": 4.578215,
     "end_time": "2023-05-15T08:11:47.661135",
     "exception": false,
     "start_time": "2023-05-15T08:11:43.082920",
     "status": "completed"
    },
    "tags": []
   },
   "outputs": [],
   "source": [
    "%%R -i data -i data_tod -i genes -i cells -i soupx_groups -o out \n",
    "set.seed(187)\n",
    "# specify row and column names of data\n",
    "rownames(data) = genes\n",
    "colnames(data) = cells\n",
    "# ensure correct sparse format for table of counts and table of droplets\n",
    "data <- as(data, \"sparseMatrix\")\n",
    "data_tod <- as(data_tod, \"sparseMatrix\")\n",
    "\n",
    "# Generate SoupChannel Object for SoupX \n",
    "sc = SoupChannel(data_tod, data, calcSoupProfile = FALSE)\n",
    "\n",
    "# Add extra meta data to the SoupChannel object\n",
    "soupProf = data.frame(row.names = rownames(data),\n",
    "                      est = rowSums(data)/sum(data),\n",
    "                      counts = rowSums(data))\n",
    "sc = setSoupProfile(sc, soupProf)\n",
    "# Set cluster information in SoupChannel\n",
    "sc = setClusters(sc, soupx_groups)\n",
    "\n",
    "# Estimate contamination fraction\n",
    "sc  = autoEstCont(sc, doPlot=FALSE, forceAccept = TRUE)\n",
    "# Infer corrected table of counts and rount to integer\n",
    "out = adjustCounts(sc, roundToInt = TRUE)"
   ]
  },
  {
   "cell_type": "code",
   "execution_count": null,
   "id": "32555d5e-5fa3-46dd-a4e0-ddc96ea265e2",
   "metadata": {
    "execution": {
     "iopub.execute_input": "2023-05-15T08:11:47.667988Z",
     "iopub.status.busy": "2023-05-15T08:11:47.667816Z",
     "iopub.status.idle": "2023-05-15T08:11:47.677517Z",
     "shell.execute_reply": "2023-05-15T08:11:47.677104Z"
    },
    "papermill": {
     "duration": 0.014293,
     "end_time": "2023-05-15T08:11:47.678672",
     "exception": false,
     "start_time": "2023-05-15T08:11:47.664379",
     "status": "completed"
    },
    "tags": []
   },
   "outputs": [],
   "source": [
    "dataset.layers[\"soupX_counts\"] = out.T\n",
    "dataset.X = dataset.layers[\"soupX_counts\"].copy()"
   ]
  },
  {
   "cell_type": "code",
   "execution_count": null,
   "id": "e27da7df-e094-4d2a-9109-5a363e012175",
   "metadata": {
    "execution": {
     "iopub.execute_input": "2023-05-15T08:11:47.685161Z",
     "iopub.status.busy": "2023-05-15T08:11:47.684999Z",
     "iopub.status.idle": "2023-05-15T08:11:47.687347Z",
     "shell.execute_reply": "2023-05-15T08:11:47.687044Z"
    },
    "papermill": {
     "duration": 0.006726,
     "end_time": "2023-05-15T08:11:47.688453",
     "exception": false,
     "start_time": "2023-05-15T08:11:47.681727",
     "status": "completed"
    },
    "tags": []
   },
   "outputs": [],
   "source": [
    "data_mat = dataset.X.T"
   ]
  },
  {
   "cell_type": "code",
   "execution_count": null,
   "id": "80a993b1-5ccb-4697-9187-1beb7ab8aff9",
   "metadata": {
    "execution": {
     "iopub.execute_input": "2023-05-15T08:11:47.694971Z",
     "iopub.status.busy": "2023-05-15T08:11:47.694803Z",
     "iopub.status.idle": "2023-05-15T08:12:02.679819Z",
     "shell.execute_reply": "2023-05-15T08:12:02.679212Z"
    },
    "papermill": {
     "duration": 14.989985,
     "end_time": "2023-05-15T08:12:02.681241",
     "exception": false,
     "start_time": "2023-05-15T08:11:47.691256",
     "status": "completed"
    },
    "tags": []
   },
   "outputs": [],
   "source": [
    "%%R -i data_mat -o droplet_class\n",
    "\n",
    "set.seed(187)\n",
    "sce = scDblFinder(\n",
    "    SingleCellExperiment(\n",
    "        list(counts=data_mat),\n",
    "    ) \n",
    ")\n",
    "droplet_class = sce$scDblFinder.class"
   ]
  },
  {
   "cell_type": "code",
   "execution_count": null,
   "id": "d4dd6e9d-fcf2-41fc-8457-c8e0a3cb2c71",
   "metadata": {
    "execution": {
     "iopub.execute_input": "2023-05-15T08:12:02.690762Z",
     "iopub.status.busy": "2023-05-15T08:12:02.690573Z",
     "iopub.status.idle": "2023-05-15T08:12:02.695777Z",
     "shell.execute_reply": "2023-05-15T08:12:02.695416Z"
    },
    "papermill": {
     "duration": 0.010022,
     "end_time": "2023-05-15T08:12:02.696605",
     "exception": false,
     "start_time": "2023-05-15T08:12:02.686583",
     "status": "completed"
    },
    "tags": []
   },
   "outputs": [],
   "source": [
    "dataset.obs[\"scDblFinder_class\"] = droplet_class\n",
    "dataset.obs.scDblFinder_class.value_counts()\n",
    "dataset"
   ]
  },
  {
   "cell_type": "code",
   "execution_count": null,
   "id": "28c95014-2d6c-477f-95cb-9f9f0507520c",
   "metadata": {
    "execution": {
     "iopub.execute_input": "2023-05-15T08:12:02.703440Z",
     "iopub.status.busy": "2023-05-15T08:12:02.703283Z",
     "iopub.status.idle": "2023-05-15T08:12:02.707818Z",
     "shell.execute_reply": "2023-05-15T08:12:02.707513Z"
    },
    "papermill": {
     "duration": 0.009535,
     "end_time": "2023-05-15T08:12:02.709257",
     "exception": false,
     "start_time": "2023-05-15T08:12:02.699722",
     "status": "completed"
    },
    "tags": []
   },
   "outputs": [],
   "source": [
    "dataset = dataset[dataset.obs[\"scDblFinder_class\"] == 1]"
   ]
  },
  {
   "cell_type": "code",
   "execution_count": null,
   "id": "3e22f9e0-bfcb-416c-a151-a9bca3bec3b9",
   "metadata": {
    "execution": {
     "iopub.execute_input": "2023-05-15T08:12:02.716136Z",
     "iopub.status.busy": "2023-05-15T08:12:02.715979Z",
     "iopub.status.idle": "2023-05-15T08:12:02.774244Z",
     "shell.execute_reply": "2023-05-15T08:12:02.773834Z"
    },
    "papermill": {
     "duration": 0.062885,
     "end_time": "2023-05-15T08:12:02.775113",
     "exception": false,
     "start_time": "2023-05-15T08:12:02.712228",
     "status": "completed"
    },
    "tags": []
   },
   "outputs": [],
   "source": [
    "# mitochondrial genes\n",
    "dataset.var[\"mt\"] = dataset.var_names.str.startswith(\"MT-\")\n",
    "# ribosomal genes\n",
    "dataset.var[\"ribo\"] = dataset.var_names.str.startswith((\"RPS\", \"RPL\"))\n",
    "# hemoglobin genes.\n",
    "dataset.var[\"hb\"] = dataset.var_names.str.contains((\"^HB[^(P)]\"))\n",
    "\n",
    "sc.pp.calculate_qc_metrics(dataset,\n",
    "                           qc_vars=['mt', 'ribo', 'hb'],\n",
    "                           percent_top=None,\n",
    "                           log1p=False,\n",
    "                           inplace=True)\n",
    "dataset"
   ]
  },
  {
   "cell_type": "code",
   "execution_count": null,
   "id": "34deee79-4043-428f-8575-aa57b45f6369",
   "metadata": {
    "execution": {
     "iopub.execute_input": "2023-05-15T08:12:02.782344Z",
     "iopub.status.busy": "2023-05-15T08:12:02.782176Z",
     "iopub.status.idle": "2023-05-15T08:12:03.205067Z",
     "shell.execute_reply": "2023-05-15T08:12:03.204637Z"
    },
    "papermill": {
     "duration": 0.427434,
     "end_time": "2023-05-15T08:12:03.205960",
     "exception": false,
     "start_time": "2023-05-15T08:12:02.778526",
     "status": "completed"
    },
    "tags": []
   },
   "outputs": [],
   "source": [
    "fig, ax = plt.subplots(ncols = 4, figsize = (16,4))\n",
    "axis = sc.pl.violin(dataset, \"n_genes_by_counts\", jitter = 0.4, ax = ax[0], show = False)\n",
    "axis.grid(False)\n",
    "axis.set_title(\"Unique Genes per cell\")\n",
    "axis.tick_params(axis = \"x\", bottom =False, labelbottom =False)\n",
    "axis.set_ylabel(\"# genes\")\n",
    "axis.axhline(y = 100, color = \"black\", label = \"cutoff\")\n",
    "axis.legend(fontsize = 14, loc = \"upper right\")\n",
    "\n",
    "axis = sc.pl.violin(dataset, \"pct_counts_mt\", jitter = 0.4, ax = ax[1], show = False)\n",
    "axis.grid(False)\n",
    "axis.set_title(\"Mitochondrial Fraction\")\n",
    "axis.tick_params(axis = \"x\", bottom =False, labelbottom =False)\n",
    "axis.set_ylabel(\"% mitochondrial genes\")\n",
    "axis.axhline(y = 10, color = \"black\", label = \"cutoff\")\n",
    "axis.legend(fontsize = 14, loc = \"upper right\")\n",
    "\n",
    "axis = sc.pl.violin(dataset, \"pct_counts_hb\", jitter = 0.4, ax = ax[2], show = False, size =2)\n",
    "axis.grid(False)\n",
    "axis.set_title(\"Hemoglobin Fraction\")\n",
    "axis.tick_params(axis = \"x\", bottom =False, labelbottom =False)\n",
    "axis.set_ylabel(\"% hemoglobin genes\")\n",
    "axis.axhline(y = 3, color = \"black\", label = \"cutoff\")\n",
    "axis.legend(fontsize = 14, loc = \"upper right\")\n",
    "#axis.set_ylim(0,5)\n",
    "\n",
    "axis = sc.pl.violin(dataset, \"pct_counts_ribo\", jitter = 0.4, ax = ax[3], show = False)\n",
    "axis.grid(False)\n",
    "axis.set_title(\"Ribosomal Fraction\")\n",
    "axis.tick_params(axis = \"x\", bottom =False, labelbottom =False)\n",
    "axis.set_ylabel(\"% ribosome genes\")\n",
    "\n",
    "plt.tight_layout()\n",
    "#plt.savefig(f\"{outputDir}08_gene_based_filtering.pdf\", dpi = 300)\n",
    "plt.show()\n",
    "\n"
   ]
  },
  {
   "cell_type": "code",
   "execution_count": null,
   "id": "d7ade754-843e-4840-8707-426613d8c0c5",
   "metadata": {
    "execution": {
     "iopub.execute_input": "2023-05-15T08:12:03.214949Z",
     "iopub.status.busy": "2023-05-15T08:12:03.214768Z",
     "iopub.status.idle": "2023-05-15T08:12:03.223443Z",
     "shell.execute_reply": "2023-05-15T08:12:03.223102Z"
    },
    "papermill": {
     "duration": 0.0139,
     "end_time": "2023-05-15T08:12:03.224240",
     "exception": false,
     "start_time": "2023-05-15T08:12:03.210340",
     "status": "completed"
    },
    "tags": []
   },
   "outputs": [],
   "source": [
    "dataset = dataset[dataset.obs.pct_counts_mt < 10, :]\n",
    "dataset = dataset[dataset.obs.n_genes_by_counts > 100, :]\n",
    "dataset = dataset[dataset.obs.pct_counts_hb < 3, :]\n",
    "dataset"
   ]
  },
  {
   "cell_type": "code",
   "execution_count": null,
   "id": "1941fa36-e865-4500-b586-f7a32d142c9b",
   "metadata": {
    "execution": {
     "iopub.execute_input": "2023-05-15T08:12:03.233189Z",
     "iopub.status.busy": "2023-05-15T08:12:03.233052Z",
     "iopub.status.idle": "2023-05-15T08:12:03.235932Z",
     "shell.execute_reply": "2023-05-15T08:12:03.235630Z"
    },
    "papermill": {
     "duration": 0.008388,
     "end_time": "2023-05-15T08:12:03.236713",
     "exception": false,
     "start_time": "2023-05-15T08:12:03.228325",
     "status": "completed"
    },
    "tags": []
   },
   "outputs": [],
   "source": [
    "metadata.columns"
   ]
  },
  {
   "cell_type": "code",
   "execution_count": null,
   "id": "2e0ff8c3-2aa9-4a01-9b88-5912a6734447",
   "metadata": {
    "execution": {
     "iopub.execute_input": "2023-05-15T08:12:03.245706Z",
     "iopub.status.busy": "2023-05-15T08:12:03.245439Z",
     "iopub.status.idle": "2023-05-15T08:12:03.265310Z",
     "shell.execute_reply": "2023-05-15T08:12:03.264914Z"
    },
    "papermill": {
     "duration": 0.025577,
     "end_time": "2023-05-15T08:12:03.266406",
     "exception": false,
     "start_time": "2023-05-15T08:12:03.240829",
     "status": "completed"
    },
    "tags": []
   },
   "outputs": [],
   "source": [
    "for col in metadata.columns:\n",
    "    dataset.obs[col] = metadata.loc[metadata[\"Run\"] == sample_name, col].to_list()[0]"
   ]
  },
  {
   "cell_type": "code",
   "execution_count": null,
   "id": "b84578d3-d63e-419c-a272-a0b8317d05ab",
   "metadata": {
    "execution": {
     "iopub.execute_input": "2023-05-15T08:12:03.275821Z",
     "iopub.status.busy": "2023-05-15T08:12:03.275639Z",
     "iopub.status.idle": "2023-05-15T08:12:03.714042Z",
     "shell.execute_reply": "2023-05-15T08:12:03.713568Z"
    },
    "papermill": {
     "duration": 0.44447,
     "end_time": "2023-05-15T08:12:03.715392",
     "exception": false,
     "start_time": "2023-05-15T08:12:03.270922",
     "status": "completed"
    },
    "tags": []
   },
   "outputs": [],
   "source": [
    "dataset.write(f\"../../int_data/{sample_name}_qc.h5ad\")"
   ]
  },
  {
   "cell_type": "code",
   "execution_count": null,
   "id": "501b33a0-432d-415f-ae82-50723484b85d",
   "metadata": {
    "execution": {
     "iopub.execute_input": "2023-05-15T08:12:03.724791Z",
     "iopub.status.busy": "2023-05-15T08:12:03.724622Z",
     "iopub.status.idle": "2023-05-15T08:12:03.727590Z",
     "shell.execute_reply": "2023-05-15T08:12:03.727278Z"
    },
    "papermill": {
     "duration": 0.008453,
     "end_time": "2023-05-15T08:12:03.728409",
     "exception": false,
     "start_time": "2023-05-15T08:12:03.719956",
     "status": "completed"
    },
    "tags": []
   },
   "outputs": [],
   "source": [
    "dataset"
   ]
  }
 ],
 "metadata": {
  "kernelspec": {
   "display_name": "py_R",
   "language": "python",
   "name": "python_r"
  },
  "language_info": {
   "codemirror_mode": {
    "name": "ipython",
    "version": 3
   },
   "file_extension": ".py",
   "mimetype": "text/x-python",
   "name": "python",
   "nbconvert_exporter": "python",
   "pygments_lexer": "ipython3",
   "version": "3.10.9"
  },
  "papermill": {
   "default_parameters": {},
   "duration": 70.642743,
   "end_time": "2023-05-15T08:12:05.150876",
   "environment_variables": {},
   "exception": null,
   "input_path": "template.ipynb",
   "output_path": "SRR13329114.ipynb",
   "parameters": {
    "sample_name": "SRR13329114"
   },
   "start_time": "2023-05-15T08:10:54.508133",
   "version": "2.4.0"
  }
 },
 "nbformat": 4,
 "nbformat_minor": 5
}
