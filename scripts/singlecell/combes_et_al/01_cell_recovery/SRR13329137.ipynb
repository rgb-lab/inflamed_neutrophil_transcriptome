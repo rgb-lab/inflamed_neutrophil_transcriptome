{
 "cells": [
  {
   "cell_type": "code",
   "execution_count": null,
   "id": "4c0f2fa8-5232-4f47-a7ec-6c9bbabe50e2",
   "metadata": {
    "execution": {
     "iopub.execute_input": "2023-05-15T09:39:10.035341Z",
     "iopub.status.busy": "2023-05-15T09:39:10.035004Z",
     "iopub.status.idle": "2023-05-15T09:39:10.041681Z",
     "shell.execute_reply": "2023-05-15T09:39:10.041282Z"
    },
    "papermill": {
     "duration": 0.044069,
     "end_time": "2023-05-15T09:39:10.042506",
     "exception": false,
     "start_time": "2023-05-15T09:39:09.998437",
     "status": "completed"
    },
    "tags": [
     "parameters"
    ]
   },
   "outputs": [],
   "source": [
    "sample_name = \"SRR13329143\""
   ]
  },
  {
   "cell_type": "code",
   "execution_count": null,
   "id": "2c4db8b8",
   "metadata": {
    "execution": {
     "iopub.execute_input": "2023-05-15T09:39:10.049560Z",
     "iopub.status.busy": "2023-05-15T09:39:10.049333Z",
     "iopub.status.idle": "2023-05-15T09:39:10.054119Z",
     "shell.execute_reply": "2023-05-15T09:39:10.053830Z"
    },
    "papermill": {
     "duration": 0.008005,
     "end_time": "2023-05-15T09:39:10.054830",
     "exception": false,
     "start_time": "2023-05-15T09:39:10.046825",
     "status": "completed"
    },
    "tags": [
     "injected-parameters"
    ]
   },
   "outputs": [],
   "source": [
    "# Parameters\n",
    "sample_name = \"SRR13329137\"\n"
   ]
  },
  {
   "cell_type": "code",
   "execution_count": null,
   "id": "f87ed95b-2b67-4a5a-8fe2-47359b1dd2a9",
   "metadata": {
    "execution": {
     "iopub.execute_input": "2023-05-15T09:39:10.059641Z",
     "iopub.status.busy": "2023-05-15T09:39:10.059488Z",
     "iopub.status.idle": "2023-05-15T09:39:10.061637Z",
     "shell.execute_reply": "2023-05-15T09:39:10.061327Z"
    },
    "papermill": {
     "duration": 0.005391,
     "end_time": "2023-05-15T09:39:10.062381",
     "exception": false,
     "start_time": "2023-05-15T09:39:10.056990",
     "status": "completed"
    },
    "tags": []
   },
   "outputs": [],
   "source": [
    "import warnings\n",
    "warnings.simplefilter(action='ignore', category=FutureWarning)\n",
    "warnings.simplefilter(action='ignore', category=UserWarning)"
   ]
  },
  {
   "cell_type": "code",
   "execution_count": null,
   "id": "85161f19-b2c5-490b-8cab-c2cf9653b304",
   "metadata": {
    "execution": {
     "iopub.execute_input": "2023-05-15T09:39:10.067375Z",
     "iopub.status.busy": "2023-05-15T09:39:10.067204Z",
     "iopub.status.idle": "2023-05-15T09:39:29.194188Z",
     "shell.execute_reply": "2023-05-15T09:39:29.193659Z"
    },
    "papermill": {
     "duration": 19.130786,
     "end_time": "2023-05-15T09:39:29.195405",
     "exception": false,
     "start_time": "2023-05-15T09:39:10.064619",
     "status": "completed"
    },
    "tags": []
   },
   "outputs": [],
   "source": [
    "import gc\n",
    "import scanpy as sc\n",
    "import muon as mu\n",
    "import seaborn as sns\n",
    "import os\n",
    "import pandas as pd\n",
    "from matplotlib import pyplot as plt\n",
    "\n",
    "os.environ['R_HOME'] = '/gpfs/bwfor/work/ws/hd_fu399-conda/conda/envs/python_R/lib/R/'\n",
    "import anndata2ri\n",
    "import logging\n",
    "\n",
    "import rpy2.rinterface_lib.callbacks as rcb\n",
    "import rpy2.robjects as ro\n",
    "\n",
    "rcb.logger.setLevel(logging.ERROR)\n",
    "ro.pandas2ri.activate()\n",
    "anndata2ri.activate()\n",
    "\n",
    "%load_ext rpy2.ipython"
   ]
  },
  {
   "cell_type": "code",
   "execution_count": null,
   "id": "fc4ade78-b728-4704-9db6-45fbaab62ba1",
   "metadata": {
    "execution": {
     "iopub.execute_input": "2023-05-15T09:39:29.218705Z",
     "iopub.status.busy": "2023-05-15T09:39:29.218372Z",
     "iopub.status.idle": "2023-05-15T09:39:43.491742Z",
     "shell.execute_reply": "2023-05-15T09:39:43.491165Z"
    },
    "papermill": {
     "duration": 14.277702,
     "end_time": "2023-05-15T09:39:43.493093",
     "exception": false,
     "start_time": "2023-05-15T09:39:29.215391",
     "status": "completed"
    },
    "tags": []
   },
   "outputs": [],
   "source": [
    "%%R\n",
    "library(SoupX)\n",
    "library(Seurat)\n",
    "library(scater)\n",
    "library(scDblFinder)\n",
    "library(BiocParallel)\n",
    "library(MuDataSeurat)\n",
    "library(DropletUtils)"
   ]
  },
  {
   "cell_type": "code",
   "execution_count": null,
   "id": "f7424d90-7690-4290-8651-1db3f9df3a35",
   "metadata": {
    "execution": {
     "iopub.execute_input": "2023-05-15T09:39:43.542143Z",
     "iopub.status.busy": "2023-05-15T09:39:43.541724Z",
     "iopub.status.idle": "2023-05-15T09:39:43.564556Z",
     "shell.execute_reply": "2023-05-15T09:39:43.564168Z"
    },
    "papermill": {
     "duration": 0.027155,
     "end_time": "2023-05-15T09:39:43.565415",
     "exception": false,
     "start_time": "2023-05-15T09:39:43.538260",
     "status": "completed"
    },
    "tags": []
   },
   "outputs": [],
   "source": [
    "metadata = pd.read_csv(\"../../combes_metadata.txt\")"
   ]
  },
  {
   "cell_type": "code",
   "execution_count": null,
   "id": "2574ecf1-bad4-4c33-8f3f-718a358727ab",
   "metadata": {
    "execution": {
     "iopub.execute_input": "2023-05-15T09:39:43.570562Z",
     "iopub.status.busy": "2023-05-15T09:39:43.570396Z",
     "iopub.status.idle": "2023-05-15T09:39:43.572523Z",
     "shell.execute_reply": "2023-05-15T09:39:43.572203Z"
    },
    "papermill": {
     "duration": 0.005558,
     "end_time": "2023-05-15T09:39:43.573273",
     "exception": false,
     "start_time": "2023-05-15T09:39:43.567715",
     "status": "completed"
    },
    "tags": []
   },
   "outputs": [],
   "source": [
    "raw_input = f\"/home/hd/hd_hd/hd_fu399/sds-hd/sd21k006/scRNAseq/revision_natcomm/combes_et_al/fetchngs/results/fastq/{sample_name}/{sample_name}/outs/raw_feature_bc_matrix.h5\""
   ]
  },
  {
   "cell_type": "code",
   "execution_count": null,
   "id": "e266d388-1802-435c-93a5-90067358739c",
   "metadata": {
    "execution": {
     "iopub.execute_input": "2023-05-15T09:39:43.578661Z",
     "iopub.status.busy": "2023-05-15T09:39:43.578373Z",
     "iopub.status.idle": "2023-05-15T09:39:43.976530Z",
     "shell.execute_reply": "2023-05-15T09:39:43.976098Z"
    },
    "papermill": {
     "duration": 0.401797,
     "end_time": "2023-05-15T09:39:43.977376",
     "exception": false,
     "start_time": "2023-05-15T09:39:43.575579",
     "status": "completed"
    },
    "tags": []
   },
   "outputs": [],
   "source": [
    "dataset = sc.read_10x_h5(raw_input)\n",
    "dataset.var_names_make_unique()\n",
    "dataset.obs_names_make_unique()\n",
    "\n",
    "dataset.layers[\"raw_counts\"] = dataset.X.copy()\n",
    "data_tod = dataset.layers[\"raw_counts\"].T.copy()\n",
    "\n",
    "dataset"
   ]
  },
  {
   "cell_type": "code",
   "execution_count": null,
   "id": "af9f5892-ed31-42a6-991b-4e096f582cef",
   "metadata": {
    "execution": {
     "iopub.execute_input": "2023-05-15T09:39:43.996506Z",
     "iopub.status.busy": "2023-05-15T09:39:43.996282Z",
     "iopub.status.idle": "2023-05-15T09:39:44.030030Z",
     "shell.execute_reply": "2023-05-15T09:39:44.029566Z"
    },
    "papermill": {
     "duration": 0.038038,
     "end_time": "2023-05-15T09:39:44.031150",
     "exception": false,
     "start_time": "2023-05-15T09:39:43.993112",
     "status": "completed"
    },
    "tags": []
   },
   "outputs": [],
   "source": [
    "sce = dataset.copy()"
   ]
  },
  {
   "cell_type": "code",
   "execution_count": null,
   "id": "d03f2caf-8e74-430e-b045-0ab80401d165",
   "metadata": {
    "execution": {
     "iopub.execute_input": "2023-05-15T09:39:44.037385Z",
     "iopub.status.busy": "2023-05-15T09:39:44.037207Z",
     "iopub.status.idle": "2023-05-15T09:40:31.858954Z",
     "shell.execute_reply": "2023-05-15T09:40:31.858382Z"
    },
    "papermill": {
     "duration": 47.826221,
     "end_time": "2023-05-15T09:40:31.860451",
     "exception": false,
     "start_time": "2023-05-15T09:39:44.034230",
     "status": "completed"
    },
    "tags": []
   },
   "outputs": [],
   "source": [
    "%%R -i sce -o empty_drop_output\n",
    "set.seed(187)\n",
    "empty_drop_output <- emptyDrops(assay(sce))"
   ]
  },
  {
   "cell_type": "code",
   "execution_count": null,
   "id": "2a34a54b-3ae2-44d6-8679-8769228c5b66",
   "metadata": {
    "execution": {
     "iopub.execute_input": "2023-05-15T09:40:31.900347Z",
     "iopub.status.busy": "2023-05-15T09:40:31.900074Z",
     "iopub.status.idle": "2023-05-15T09:40:31.925723Z",
     "shell.execute_reply": "2023-05-15T09:40:31.925402Z"
    },
    "papermill": {
     "duration": 0.029579,
     "end_time": "2023-05-15T09:40:31.926453",
     "exception": false,
     "start_time": "2023-05-15T09:40:31.896874",
     "status": "completed"
    },
    "tags": []
   },
   "outputs": [],
   "source": [
    "non_empty_barcodes = empty_drop_output[empty_drop_output[\"FDR\"] < 0.001].index\n",
    "dataset = dataset[dataset.obs.index.isin(non_empty_barcodes), :]\n",
    "dataset"
   ]
  },
  {
   "cell_type": "code",
   "execution_count": null,
   "id": "016a91e5-1bef-46fb-b91e-4fb9a6870c44",
   "metadata": {
    "execution": {
     "iopub.execute_input": "2023-05-15T09:40:31.932191Z",
     "iopub.status.busy": "2023-05-15T09:40:31.931948Z",
     "iopub.status.idle": "2023-05-15T09:40:35.217526Z",
     "shell.execute_reply": "2023-05-15T09:40:35.217032Z"
    },
    "papermill": {
     "duration": 3.289846,
     "end_time": "2023-05-15T09:40:35.218830",
     "exception": false,
     "start_time": "2023-05-15T09:40:31.928984",
     "status": "completed"
    },
    "tags": []
   },
   "outputs": [],
   "source": [
    "rna_assay = dataset.copy()\n",
    "sc.pp.normalize_per_cell(rna_assay)\n",
    "sc.pp.log1p(rna_assay)\n",
    "sc.pp.pca(rna_assay)\n",
    "sc.pp.neighbors(rna_assay)\n",
    "sc.tl.leiden(rna_assay, key_added=\"soupx_groups\")\n",
    "\n",
    "soupx_groups = rna_assay.obs[\"soupx_groups\"]\n",
    "\n",
    "del rna_assay\n",
    "\n",
    "genes = dataset.var_names\n",
    "cells = dataset.obs_names\n",
    "data = dataset.X.T.copy()"
   ]
  },
  {
   "cell_type": "code",
   "execution_count": null,
   "id": "9db4ea1f-1580-4f43-a3f0-86002397cd98",
   "metadata": {
    "execution": {
     "iopub.execute_input": "2023-05-15T09:40:35.258049Z",
     "iopub.status.busy": "2023-05-15T09:40:35.257840Z",
     "iopub.status.idle": "2023-05-15T09:40:44.705303Z",
     "shell.execute_reply": "2023-05-15T09:40:44.704842Z"
    },
    "papermill": {
     "duration": 9.452079,
     "end_time": "2023-05-15T09:40:44.706612",
     "exception": false,
     "start_time": "2023-05-15T09:40:35.254533",
     "status": "completed"
    },
    "tags": []
   },
   "outputs": [],
   "source": [
    "%%R -i data -i data_tod -i genes -i cells -i soupx_groups -o out \n",
    "set.seed(187)\n",
    "# specify row and column names of data\n",
    "rownames(data) = genes\n",
    "colnames(data) = cells\n",
    "# ensure correct sparse format for table of counts and table of droplets\n",
    "data <- as(data, \"sparseMatrix\")\n",
    "data_tod <- as(data_tod, \"sparseMatrix\")\n",
    "\n",
    "# Generate SoupChannel Object for SoupX \n",
    "sc = SoupChannel(data_tod, data, calcSoupProfile = FALSE)\n",
    "\n",
    "# Add extra meta data to the SoupChannel object\n",
    "soupProf = data.frame(row.names = rownames(data),\n",
    "                      est = rowSums(data)/sum(data),\n",
    "                      counts = rowSums(data))\n",
    "sc = setSoupProfile(sc, soupProf)\n",
    "# Set cluster information in SoupChannel\n",
    "sc = setClusters(sc, soupx_groups)\n",
    "\n",
    "# Estimate contamination fraction\n",
    "sc  = autoEstCont(sc, doPlot=FALSE, forceAccept = TRUE)\n",
    "# Infer corrected table of counts and rount to integer\n",
    "out = adjustCounts(sc, roundToInt = TRUE)"
   ]
  },
  {
   "cell_type": "code",
   "execution_count": null,
   "id": "32555d5e-5fa3-46dd-a4e0-ddc96ea265e2",
   "metadata": {
    "execution": {
     "iopub.execute_input": "2023-05-15T09:40:44.747617Z",
     "iopub.status.busy": "2023-05-15T09:40:44.747413Z",
     "iopub.status.idle": "2023-05-15T09:40:44.763678Z",
     "shell.execute_reply": "2023-05-15T09:40:44.763293Z"
    },
    "papermill": {
     "duration": 0.022054,
     "end_time": "2023-05-15T09:40:44.764586",
     "exception": false,
     "start_time": "2023-05-15T09:40:44.742532",
     "status": "completed"
    },
    "tags": []
   },
   "outputs": [],
   "source": [
    "dataset.layers[\"soupX_counts\"] = out.T\n",
    "dataset.X = dataset.layers[\"soupX_counts\"].copy()"
   ]
  },
  {
   "cell_type": "code",
   "execution_count": null,
   "id": "e27da7df-e094-4d2a-9109-5a363e012175",
   "metadata": {
    "execution": {
     "iopub.execute_input": "2023-05-15T09:40:44.773864Z",
     "iopub.status.busy": "2023-05-15T09:40:44.773563Z",
     "iopub.status.idle": "2023-05-15T09:40:44.775966Z",
     "shell.execute_reply": "2023-05-15T09:40:44.775609Z"
    },
    "papermill": {
     "duration": 0.007846,
     "end_time": "2023-05-15T09:40:44.776775",
     "exception": false,
     "start_time": "2023-05-15T09:40:44.768929",
     "status": "completed"
    },
    "tags": []
   },
   "outputs": [],
   "source": [
    "data_mat = dataset.X.T"
   ]
  },
  {
   "cell_type": "code",
   "execution_count": null,
   "id": "80a993b1-5ccb-4697-9187-1beb7ab8aff9",
   "metadata": {
    "execution": {
     "iopub.execute_input": "2023-05-15T09:40:44.785134Z",
     "iopub.status.busy": "2023-05-15T09:40:44.784973Z",
     "iopub.status.idle": "2023-05-15T09:40:59.941700Z",
     "shell.execute_reply": "2023-05-15T09:40:59.941213Z"
    },
    "papermill": {
     "duration": 15.162196,
     "end_time": "2023-05-15T09:40:59.942937",
     "exception": false,
     "start_time": "2023-05-15T09:40:44.780741",
     "status": "completed"
    },
    "tags": []
   },
   "outputs": [],
   "source": [
    "%%R -i data_mat -o droplet_class\n",
    "\n",
    "set.seed(187)\n",
    "sce = scDblFinder(\n",
    "    SingleCellExperiment(\n",
    "        list(counts=data_mat),\n",
    "    ) \n",
    ")\n",
    "droplet_class = sce$scDblFinder.class"
   ]
  },
  {
   "cell_type": "code",
   "execution_count": null,
   "id": "d4dd6e9d-fcf2-41fc-8457-c8e0a3cb2c71",
   "metadata": {
    "execution": {
     "iopub.execute_input": "2023-05-15T09:40:59.991719Z",
     "iopub.status.busy": "2023-05-15T09:40:59.991497Z",
     "iopub.status.idle": "2023-05-15T09:40:59.995729Z",
     "shell.execute_reply": "2023-05-15T09:40:59.995394Z"
    },
    "papermill": {
     "duration": 0.008419,
     "end_time": "2023-05-15T09:40:59.996504",
     "exception": false,
     "start_time": "2023-05-15T09:40:59.988085",
     "status": "completed"
    },
    "tags": []
   },
   "outputs": [],
   "source": [
    "dataset.obs[\"scDblFinder_class\"] = droplet_class\n",
    "dataset.obs.scDblFinder_class.value_counts()\n",
    "dataset"
   ]
  },
  {
   "cell_type": "code",
   "execution_count": null,
   "id": "28c95014-2d6c-477f-95cb-9f9f0507520c",
   "metadata": {
    "execution": {
     "iopub.execute_input": "2023-05-15T09:41:00.002718Z",
     "iopub.status.busy": "2023-05-15T09:41:00.002530Z",
     "iopub.status.idle": "2023-05-15T09:41:00.017338Z",
     "shell.execute_reply": "2023-05-15T09:41:00.017005Z"
    },
    "papermill": {
     "duration": 0.018806,
     "end_time": "2023-05-15T09:41:00.018120",
     "exception": false,
     "start_time": "2023-05-15T09:40:59.999314",
     "status": "completed"
    },
    "tags": []
   },
   "outputs": [],
   "source": [
    "dataset = dataset[dataset.obs[\"scDblFinder_class\"] == 1]"
   ]
  },
  {
   "cell_type": "code",
   "execution_count": null,
   "id": "3e22f9e0-bfcb-416c-a151-a9bca3bec3b9",
   "metadata": {
    "execution": {
     "iopub.execute_input": "2023-05-15T09:41:00.024354Z",
     "iopub.status.busy": "2023-05-15T09:41:00.024171Z",
     "iopub.status.idle": "2023-05-15T09:41:00.124964Z",
     "shell.execute_reply": "2023-05-15T09:41:00.124520Z"
    },
    "papermill": {
     "duration": 0.104915,
     "end_time": "2023-05-15T09:41:00.125909",
     "exception": false,
     "start_time": "2023-05-15T09:41:00.020994",
     "status": "completed"
    },
    "tags": []
   },
   "outputs": [],
   "source": [
    "# mitochondrial genes\n",
    "dataset.var[\"mt\"] = dataset.var_names.str.startswith(\"MT-\")\n",
    "# ribosomal genes\n",
    "dataset.var[\"ribo\"] = dataset.var_names.str.startswith((\"RPS\", \"RPL\"))\n",
    "# hemoglobin genes.\n",
    "dataset.var[\"hb\"] = dataset.var_names.str.contains((\"^HB[^(P)]\"))\n",
    "\n",
    "sc.pp.calculate_qc_metrics(dataset,\n",
    "                           qc_vars=['mt', 'ribo', 'hb'],\n",
    "                           percent_top=None,\n",
    "                           log1p=False,\n",
    "                           inplace=True)\n",
    "dataset"
   ]
  },
  {
   "cell_type": "code",
   "execution_count": null,
   "id": "34deee79-4043-428f-8575-aa57b45f6369",
   "metadata": {
    "execution": {
     "iopub.execute_input": "2023-05-15T09:41:00.145782Z",
     "iopub.status.busy": "2023-05-15T09:41:00.145575Z",
     "iopub.status.idle": "2023-05-15T09:41:00.679985Z",
     "shell.execute_reply": "2023-05-15T09:41:00.679632Z"
    },
    "papermill": {
     "duration": 0.538884,
     "end_time": "2023-05-15T09:41:00.680848",
     "exception": false,
     "start_time": "2023-05-15T09:41:00.141964",
     "status": "completed"
    },
    "tags": []
   },
   "outputs": [],
   "source": [
    "fig, ax = plt.subplots(ncols = 4, figsize = (16,4))\n",
    "axis = sc.pl.violin(dataset, \"n_genes_by_counts\", jitter = 0.4, ax = ax[0], show = False)\n",
    "axis.grid(False)\n",
    "axis.set_title(\"Unique Genes per cell\")\n",
    "axis.tick_params(axis = \"x\", bottom =False, labelbottom =False)\n",
    "axis.set_ylabel(\"# genes\")\n",
    "axis.axhline(y = 100, color = \"black\", label = \"cutoff\")\n",
    "axis.legend(fontsize = 14, loc = \"upper right\")\n",
    "\n",
    "axis = sc.pl.violin(dataset, \"pct_counts_mt\", jitter = 0.4, ax = ax[1], show = False)\n",
    "axis.grid(False)\n",
    "axis.set_title(\"Mitochondrial Fraction\")\n",
    "axis.tick_params(axis = \"x\", bottom =False, labelbottom =False)\n",
    "axis.set_ylabel(\"% mitochondrial genes\")\n",
    "axis.axhline(y = 10, color = \"black\", label = \"cutoff\")\n",
    "axis.legend(fontsize = 14, loc = \"upper right\")\n",
    "\n",
    "axis = sc.pl.violin(dataset, \"pct_counts_hb\", jitter = 0.4, ax = ax[2], show = False, size =2)\n",
    "axis.grid(False)\n",
    "axis.set_title(\"Hemoglobin Fraction\")\n",
    "axis.tick_params(axis = \"x\", bottom =False, labelbottom =False)\n",
    "axis.set_ylabel(\"% hemoglobin genes\")\n",
    "axis.axhline(y = 3, color = \"black\", label = \"cutoff\")\n",
    "axis.legend(fontsize = 14, loc = \"upper right\")\n",
    "#axis.set_ylim(0,5)\n",
    "\n",
    "axis = sc.pl.violin(dataset, \"pct_counts_ribo\", jitter = 0.4, ax = ax[3], show = False)\n",
    "axis.grid(False)\n",
    "axis.set_title(\"Ribosomal Fraction\")\n",
    "axis.tick_params(axis = \"x\", bottom =False, labelbottom =False)\n",
    "axis.set_ylabel(\"% ribosome genes\")\n",
    "\n",
    "plt.tight_layout()\n",
    "#plt.savefig(f\"{outputDir}08_gene_based_filtering.pdf\", dpi = 300)\n",
    "plt.show()\n",
    "\n"
   ]
  },
  {
   "cell_type": "code",
   "execution_count": null,
   "id": "d7ade754-843e-4840-8707-426613d8c0c5",
   "metadata": {
    "execution": {
     "iopub.execute_input": "2023-05-15T09:41:00.729128Z",
     "iopub.status.busy": "2023-05-15T09:41:00.728930Z",
     "iopub.status.idle": "2023-05-15T09:41:00.737962Z",
     "shell.execute_reply": "2023-05-15T09:41:00.737632Z"
    },
    "papermill": {
     "duration": 0.014296,
     "end_time": "2023-05-15T09:41:00.738730",
     "exception": false,
     "start_time": "2023-05-15T09:41:00.724434",
     "status": "completed"
    },
    "tags": []
   },
   "outputs": [],
   "source": [
    "dataset = dataset[dataset.obs.pct_counts_mt < 10, :]\n",
    "dataset = dataset[dataset.obs.n_genes_by_counts > 100, :]\n",
    "dataset = dataset[dataset.obs.pct_counts_hb < 3, :]\n",
    "dataset"
   ]
  },
  {
   "cell_type": "code",
   "execution_count": null,
   "id": "1941fa36-e865-4500-b586-f7a32d142c9b",
   "metadata": {
    "execution": {
     "iopub.execute_input": "2023-05-15T09:41:00.747331Z",
     "iopub.status.busy": "2023-05-15T09:41:00.747138Z",
     "iopub.status.idle": "2023-05-15T09:41:00.751107Z",
     "shell.execute_reply": "2023-05-15T09:41:00.750787Z"
    },
    "papermill": {
     "duration": 0.009161,
     "end_time": "2023-05-15T09:41:00.751883",
     "exception": false,
     "start_time": "2023-05-15T09:41:00.742722",
     "status": "completed"
    },
    "tags": []
   },
   "outputs": [],
   "source": [
    "metadata.columns"
   ]
  },
  {
   "cell_type": "code",
   "execution_count": null,
   "id": "2e0ff8c3-2aa9-4a01-9b88-5912a6734447",
   "metadata": {
    "execution": {
     "iopub.execute_input": "2023-05-15T09:41:00.760409Z",
     "iopub.status.busy": "2023-05-15T09:41:00.760258Z",
     "iopub.status.idle": "2023-05-15T09:41:00.790143Z",
     "shell.execute_reply": "2023-05-15T09:41:00.789685Z"
    },
    "papermill": {
     "duration": 0.035212,
     "end_time": "2023-05-15T09:41:00.791119",
     "exception": false,
     "start_time": "2023-05-15T09:41:00.755907",
     "status": "completed"
    },
    "tags": []
   },
   "outputs": [],
   "source": [
    "for col in metadata.columns:\n",
    "    dataset.obs[col] = metadata.loc[metadata[\"Run\"] == sample_name, col].to_list()[0]"
   ]
  },
  {
   "cell_type": "code",
   "execution_count": null,
   "id": "b84578d3-d63e-419c-a272-a0b8317d05ab",
   "metadata": {
    "execution": {
     "iopub.execute_input": "2023-05-15T09:41:00.800439Z",
     "iopub.status.busy": "2023-05-15T09:41:00.800247Z",
     "iopub.status.idle": "2023-05-15T09:41:01.414819Z",
     "shell.execute_reply": "2023-05-15T09:41:01.414282Z"
    },
    "papermill": {
     "duration": 0.620378,
     "end_time": "2023-05-15T09:41:01.416020",
     "exception": false,
     "start_time": "2023-05-15T09:41:00.795642",
     "status": "completed"
    },
    "tags": []
   },
   "outputs": [],
   "source": [
    "dataset.write(f\"../../int_data/{sample_name}_qc.h5ad\")"
   ]
  },
  {
   "cell_type": "code",
   "execution_count": null,
   "id": "501b33a0-432d-415f-ae82-50723484b85d",
   "metadata": {
    "execution": {
     "iopub.execute_input": "2023-05-15T09:41:01.465824Z",
     "iopub.status.busy": "2023-05-15T09:41:01.465620Z",
     "iopub.status.idle": "2023-05-15T09:41:01.468630Z",
     "shell.execute_reply": "2023-05-15T09:41:01.468305Z"
    },
    "papermill": {
     "duration": 0.008333,
     "end_time": "2023-05-15T09:41:01.469417",
     "exception": false,
     "start_time": "2023-05-15T09:41:01.461084",
     "status": "completed"
    },
    "tags": []
   },
   "outputs": [],
   "source": [
    "dataset"
   ]
  }
 ],
 "metadata": {
  "kernelspec": {
   "display_name": "py_R",
   "language": "python",
   "name": "python_r"
  },
  "language_info": {
   "codemirror_mode": {
    "name": "ipython",
    "version": 3
   },
   "file_extension": ".py",
   "mimetype": "text/x-python",
   "name": "python",
   "nbconvert_exporter": "python",
   "pygments_lexer": "ipython3",
   "version": "3.10.9"
  },
  "papermill": {
   "default_parameters": {},
   "duration": 119.534165,
   "end_time": "2023-05-15T09:41:02.790986",
   "environment_variables": {},
   "exception": null,
   "input_path": "template.ipynb",
   "output_path": "SRR13329137.ipynb",
   "parameters": {
    "sample_name": "SRR13329137"
   },
   "start_time": "2023-05-15T09:39:03.256821",
   "version": "2.4.0"
  }
 },
 "nbformat": 4,
 "nbformat_minor": 5
}
