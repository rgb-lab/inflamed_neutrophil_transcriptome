{
 "cells": [
  {
   "cell_type": "code",
   "execution_count": null,
   "id": "4c0f2fa8-5232-4f47-a7ec-6c9bbabe50e2",
   "metadata": {
    "execution": {
     "iopub.execute_input": "2023-05-15T07:56:38.113375Z",
     "iopub.status.busy": "2023-05-15T07:56:38.113210Z",
     "iopub.status.idle": "2023-05-15T07:56:38.117808Z",
     "shell.execute_reply": "2023-05-15T07:56:38.117500Z"
    },
    "papermill": {
     "duration": 0.009425,
     "end_time": "2023-05-15T07:56:38.118604",
     "exception": false,
     "start_time": "2023-05-15T07:56:38.109179",
     "status": "completed"
    },
    "tags": [
     "parameters"
    ]
   },
   "outputs": [],
   "source": [
    "sample_name = \"SRR13329143\""
   ]
  },
  {
   "cell_type": "code",
   "execution_count": null,
   "id": "efcdcf99",
   "metadata": {
    "execution": {
     "iopub.execute_input": "2023-05-15T07:56:38.123916Z",
     "iopub.status.busy": "2023-05-15T07:56:38.123700Z",
     "iopub.status.idle": "2023-05-15T07:56:38.125587Z",
     "shell.execute_reply": "2023-05-15T07:56:38.125289Z"
    },
    "papermill": {
     "duration": 0.005393,
     "end_time": "2023-05-15T07:56:38.126365",
     "exception": false,
     "start_time": "2023-05-15T07:56:38.120972",
     "status": "completed"
    },
    "tags": [
     "injected-parameters"
    ]
   },
   "outputs": [],
   "source": [
    "# Parameters\n",
    "sample_name = \"SRR13329122\"\n"
   ]
  },
  {
   "cell_type": "code",
   "execution_count": null,
   "id": "f87ed95b-2b67-4a5a-8fe2-47359b1dd2a9",
   "metadata": {
    "execution": {
     "iopub.execute_input": "2023-05-15T07:56:38.131785Z",
     "iopub.status.busy": "2023-05-15T07:56:38.131618Z",
     "iopub.status.idle": "2023-05-15T07:56:38.133814Z",
     "shell.execute_reply": "2023-05-15T07:56:38.133520Z"
    },
    "papermill": {
     "duration": 0.005893,
     "end_time": "2023-05-15T07:56:38.134574",
     "exception": false,
     "start_time": "2023-05-15T07:56:38.128681",
     "status": "completed"
    },
    "tags": []
   },
   "outputs": [],
   "source": [
    "import warnings\n",
    "warnings.simplefilter(action='ignore', category=FutureWarning)\n",
    "warnings.simplefilter(action='ignore', category=UserWarning)"
   ]
  },
  {
   "cell_type": "code",
   "execution_count": null,
   "id": "85161f19-b2c5-490b-8cab-c2cf9653b304",
   "metadata": {
    "execution": {
     "iopub.execute_input": "2023-05-15T07:56:38.139945Z",
     "iopub.status.busy": "2023-05-15T07:56:38.139806Z",
     "iopub.status.idle": "2023-05-15T07:56:42.319327Z",
     "shell.execute_reply": "2023-05-15T07:56:42.318860Z"
    },
    "papermill": {
     "duration": 4.183595,
     "end_time": "2023-05-15T07:56:42.320624",
     "exception": false,
     "start_time": "2023-05-15T07:56:38.137029",
     "status": "completed"
    },
    "tags": []
   },
   "outputs": [],
   "source": [
    "import gc\n",
    "import scanpy as sc\n",
    "import muon as mu\n",
    "import seaborn as sns\n",
    "import os\n",
    "import pandas as pd\n",
    "from matplotlib import pyplot as plt\n",
    "\n",
    "os.environ['R_HOME'] = '/gpfs/bwfor/work/ws/hd_fu399-conda/conda/envs/python_R/lib/R/'\n",
    "import anndata2ri\n",
    "import logging\n",
    "\n",
    "import rpy2.rinterface_lib.callbacks as rcb\n",
    "import rpy2.robjects as ro\n",
    "\n",
    "rcb.logger.setLevel(logging.ERROR)\n",
    "ro.pandas2ri.activate()\n",
    "anndata2ri.activate()\n",
    "\n",
    "%load_ext rpy2.ipython"
   ]
  },
  {
   "cell_type": "code",
   "execution_count": null,
   "id": "fc4ade78-b728-4704-9db6-45fbaab62ba1",
   "metadata": {
    "execution": {
     "iopub.execute_input": "2023-05-15T07:56:42.326896Z",
     "iopub.status.busy": "2023-05-15T07:56:42.326607Z",
     "iopub.status.idle": "2023-05-15T07:56:52.141554Z",
     "shell.execute_reply": "2023-05-15T07:56:52.141007Z"
    },
    "papermill": {
     "duration": 9.819426,
     "end_time": "2023-05-15T07:56:52.142955",
     "exception": false,
     "start_time": "2023-05-15T07:56:42.323529",
     "status": "completed"
    },
    "tags": []
   },
   "outputs": [],
   "source": [
    "%%R\n",
    "library(SoupX)\n",
    "library(Seurat)\n",
    "library(scater)\n",
    "library(scDblFinder)\n",
    "library(BiocParallel)\n",
    "library(MuDataSeurat)\n",
    "library(DropletUtils)"
   ]
  },
  {
   "cell_type": "code",
   "execution_count": null,
   "id": "f7424d90-7690-4290-8651-1db3f9df3a35",
   "metadata": {
    "execution": {
     "iopub.execute_input": "2023-05-15T07:56:52.151058Z",
     "iopub.status.busy": "2023-05-15T07:56:52.150886Z",
     "iopub.status.idle": "2023-05-15T07:56:52.156597Z",
     "shell.execute_reply": "2023-05-15T07:56:52.156267Z"
    },
    "papermill": {
     "duration": 0.009724,
     "end_time": "2023-05-15T07:56:52.157529",
     "exception": false,
     "start_time": "2023-05-15T07:56:52.147805",
     "status": "completed"
    },
    "tags": []
   },
   "outputs": [],
   "source": [
    "metadata = pd.read_csv(\"../../combes_metadata.txt\")"
   ]
  },
  {
   "cell_type": "code",
   "execution_count": null,
   "id": "2574ecf1-bad4-4c33-8f3f-718a358727ab",
   "metadata": {
    "execution": {
     "iopub.execute_input": "2023-05-15T07:56:52.163543Z",
     "iopub.status.busy": "2023-05-15T07:56:52.163320Z",
     "iopub.status.idle": "2023-05-15T07:56:52.165335Z",
     "shell.execute_reply": "2023-05-15T07:56:52.165038Z"
    },
    "papermill": {
     "duration": 0.006325,
     "end_time": "2023-05-15T07:56:52.166416",
     "exception": false,
     "start_time": "2023-05-15T07:56:52.160091",
     "status": "completed"
    },
    "tags": []
   },
   "outputs": [],
   "source": [
    "raw_input = f\"/home/hd/hd_hd/hd_fu399/sds-hd/sd21k006/scRNAseq/revision_natcomm/combes_et_al/fetchngs/results/fastq/{sample_name}/{sample_name}/outs/raw_feature_bc_matrix.h5\""
   ]
  },
  {
   "cell_type": "code",
   "execution_count": null,
   "id": "e266d388-1802-435c-93a5-90067358739c",
   "metadata": {
    "execution": {
     "iopub.execute_input": "2023-05-15T07:56:52.172267Z",
     "iopub.status.busy": "2023-05-15T07:56:52.172053Z",
     "iopub.status.idle": "2023-05-15T07:56:52.603554Z",
     "shell.execute_reply": "2023-05-15T07:56:52.603149Z"
    },
    "papermill": {
     "duration": 0.435669,
     "end_time": "2023-05-15T07:56:52.604497",
     "exception": false,
     "start_time": "2023-05-15T07:56:52.168828",
     "status": "completed"
    },
    "tags": []
   },
   "outputs": [],
   "source": [
    "dataset = sc.read_10x_h5(raw_input)\n",
    "dataset.var_names_make_unique()\n",
    "dataset.obs_names_make_unique()\n",
    "\n",
    "dataset.layers[\"raw_counts\"] = dataset.X.copy()\n",
    "data_tod = dataset.layers[\"raw_counts\"].T.copy()\n",
    "\n",
    "dataset"
   ]
  },
  {
   "cell_type": "code",
   "execution_count": null,
   "id": "af9f5892-ed31-42a6-991b-4e096f582cef",
   "metadata": {
    "execution": {
     "iopub.execute_input": "2023-05-15T07:56:52.610910Z",
     "iopub.status.busy": "2023-05-15T07:56:52.610726Z",
     "iopub.status.idle": "2023-05-15T07:56:52.646641Z",
     "shell.execute_reply": "2023-05-15T07:56:52.646162Z"
    },
    "papermill": {
     "duration": 0.040422,
     "end_time": "2023-05-15T07:56:52.647953",
     "exception": false,
     "start_time": "2023-05-15T07:56:52.607531",
     "status": "completed"
    },
    "tags": []
   },
   "outputs": [],
   "source": [
    "sce = dataset.copy()"
   ]
  },
  {
   "cell_type": "code",
   "execution_count": null,
   "id": "d03f2caf-8e74-430e-b045-0ab80401d165",
   "metadata": {
    "execution": {
     "iopub.execute_input": "2023-05-15T07:56:52.654317Z",
     "iopub.status.busy": "2023-05-15T07:56:52.654150Z",
     "iopub.status.idle": "2023-05-15T07:57:56.393449Z",
     "shell.execute_reply": "2023-05-15T07:57:56.392821Z"
    },
    "papermill": {
     "duration": 63.743998,
     "end_time": "2023-05-15T07:57:56.394908",
     "exception": false,
     "start_time": "2023-05-15T07:56:52.650910",
     "status": "completed"
    },
    "tags": []
   },
   "outputs": [],
   "source": [
    "%%R -i sce -o empty_drop_output\n",
    "set.seed(187)\n",
    "empty_drop_output <- emptyDrops(assay(sce))"
   ]
  },
  {
   "cell_type": "code",
   "execution_count": null,
   "id": "2a34a54b-3ae2-44d6-8679-8769228c5b66",
   "metadata": {
    "execution": {
     "iopub.execute_input": "2023-05-15T07:57:56.404299Z",
     "iopub.status.busy": "2023-05-15T07:57:56.404126Z",
     "iopub.status.idle": "2023-05-15T07:57:56.427058Z",
     "shell.execute_reply": "2023-05-15T07:57:56.426728Z"
    },
    "papermill": {
     "duration": 0.027768,
     "end_time": "2023-05-15T07:57:56.427959",
     "exception": false,
     "start_time": "2023-05-15T07:57:56.400191",
     "status": "completed"
    },
    "tags": []
   },
   "outputs": [],
   "source": [
    "non_empty_barcodes = empty_drop_output[empty_drop_output[\"FDR\"] < 0.001].index\n",
    "dataset = dataset[dataset.obs.index.isin(non_empty_barcodes), :]\n",
    "dataset"
   ]
  },
  {
   "cell_type": "code",
   "execution_count": null,
   "id": "016a91e5-1bef-46fb-b91e-4fb9a6870c44",
   "metadata": {
    "execution": {
     "iopub.execute_input": "2023-05-15T07:57:56.434234Z",
     "iopub.status.busy": "2023-05-15T07:57:56.434101Z",
     "iopub.status.idle": "2023-05-15T07:58:00.201106Z",
     "shell.execute_reply": "2023-05-15T07:58:00.200520Z"
    },
    "papermill": {
     "duration": 3.771897,
     "end_time": "2023-05-15T07:58:00.202564",
     "exception": false,
     "start_time": "2023-05-15T07:57:56.430667",
     "status": "completed"
    },
    "tags": []
   },
   "outputs": [],
   "source": [
    "rna_assay = dataset.copy()\n",
    "sc.pp.normalize_per_cell(rna_assay)\n",
    "sc.pp.log1p(rna_assay)\n",
    "sc.pp.pca(rna_assay)\n",
    "sc.pp.neighbors(rna_assay)\n",
    "sc.tl.leiden(rna_assay, key_added=\"soupx_groups\")\n",
    "\n",
    "soupx_groups = rna_assay.obs[\"soupx_groups\"]\n",
    "\n",
    "del rna_assay\n",
    "\n",
    "genes = dataset.var_names\n",
    "cells = dataset.obs_names\n",
    "data = dataset.X.T.copy()"
   ]
  },
  {
   "cell_type": "code",
   "execution_count": null,
   "id": "9db4ea1f-1580-4f43-a3f0-86002397cd98",
   "metadata": {
    "execution": {
     "iopub.execute_input": "2023-05-15T07:58:00.209964Z",
     "iopub.status.busy": "2023-05-15T07:58:00.209779Z",
     "iopub.status.idle": "2023-05-15T07:58:12.449258Z",
     "shell.execute_reply": "2023-05-15T07:58:12.448652Z"
    },
    "papermill": {
     "duration": 12.244386,
     "end_time": "2023-05-15T07:58:12.450633",
     "exception": false,
     "start_time": "2023-05-15T07:58:00.206247",
     "status": "completed"
    },
    "tags": []
   },
   "outputs": [],
   "source": [
    "%%R -i data -i data_tod -i genes -i cells -i soupx_groups -o out \n",
    "set.seed(187)\n",
    "# specify row and column names of data\n",
    "rownames(data) = genes\n",
    "colnames(data) = cells\n",
    "# ensure correct sparse format for table of counts and table of droplets\n",
    "data <- as(data, \"sparseMatrix\")\n",
    "data_tod <- as(data_tod, \"sparseMatrix\")\n",
    "\n",
    "# Generate SoupChannel Object for SoupX \n",
    "sc = SoupChannel(data_tod, data, calcSoupProfile = FALSE)\n",
    "\n",
    "# Add extra meta data to the SoupChannel object\n",
    "soupProf = data.frame(row.names = rownames(data),\n",
    "                      est = rowSums(data)/sum(data),\n",
    "                      counts = rowSums(data))\n",
    "sc = setSoupProfile(sc, soupProf)\n",
    "# Set cluster information in SoupChannel\n",
    "sc = setClusters(sc, soupx_groups)\n",
    "\n",
    "# Estimate contamination fraction\n",
    "sc  = autoEstCont(sc, doPlot=FALSE, forceAccept = TRUE)\n",
    "# Infer corrected table of counts and rount to integer\n",
    "out = adjustCounts(sc, roundToInt = TRUE)"
   ]
  },
  {
   "cell_type": "code",
   "execution_count": null,
   "id": "32555d5e-5fa3-46dd-a4e0-ddc96ea265e2",
   "metadata": {
    "execution": {
     "iopub.execute_input": "2023-05-15T07:58:12.459505Z",
     "iopub.status.busy": "2023-05-15T07:58:12.459293Z",
     "iopub.status.idle": "2023-05-15T07:58:12.482043Z",
     "shell.execute_reply": "2023-05-15T07:58:12.481564Z"
    },
    "papermill": {
     "duration": 0.027708,
     "end_time": "2023-05-15T07:58:12.483219",
     "exception": false,
     "start_time": "2023-05-15T07:58:12.455511",
     "status": "completed"
    },
    "tags": []
   },
   "outputs": [],
   "source": [
    "dataset.layers[\"soupX_counts\"] = out.T\n",
    "dataset.X = dataset.layers[\"soupX_counts\"].copy()"
   ]
  },
  {
   "cell_type": "code",
   "execution_count": null,
   "id": "e27da7df-e094-4d2a-9109-5a363e012175",
   "metadata": {
    "execution": {
     "iopub.execute_input": "2023-05-15T07:58:12.489759Z",
     "iopub.status.busy": "2023-05-15T07:58:12.489565Z",
     "iopub.status.idle": "2023-05-15T07:58:12.492084Z",
     "shell.execute_reply": "2023-05-15T07:58:12.491736Z"
    },
    "papermill": {
     "duration": 0.006605,
     "end_time": "2023-05-15T07:58:12.492861",
     "exception": false,
     "start_time": "2023-05-15T07:58:12.486256",
     "status": "completed"
    },
    "tags": []
   },
   "outputs": [],
   "source": [
    "data_mat = dataset.X.T"
   ]
  },
  {
   "cell_type": "code",
   "execution_count": null,
   "id": "80a993b1-5ccb-4697-9187-1beb7ab8aff9",
   "metadata": {
    "execution": {
     "iopub.execute_input": "2023-05-15T07:58:12.499062Z",
     "iopub.status.busy": "2023-05-15T07:58:12.498897Z",
     "iopub.status.idle": "2023-05-15T07:58:27.304999Z",
     "shell.execute_reply": "2023-05-15T07:58:27.304374Z"
    },
    "papermill": {
     "duration": 14.81069,
     "end_time": "2023-05-15T07:58:27.306316",
     "exception": false,
     "start_time": "2023-05-15T07:58:12.495626",
     "status": "completed"
    },
    "tags": []
   },
   "outputs": [],
   "source": [
    "%%R -i data_mat -o droplet_class\n",
    "\n",
    "set.seed(187)\n",
    "sce = scDblFinder(\n",
    "    SingleCellExperiment(\n",
    "        list(counts=data_mat),\n",
    "    ) \n",
    ")\n",
    "droplet_class = sce$scDblFinder.class"
   ]
  },
  {
   "cell_type": "code",
   "execution_count": null,
   "id": "d4dd6e9d-fcf2-41fc-8457-c8e0a3cb2c71",
   "metadata": {
    "execution": {
     "iopub.execute_input": "2023-05-15T07:58:27.315508Z",
     "iopub.status.busy": "2023-05-15T07:58:27.315302Z",
     "iopub.status.idle": "2023-05-15T07:58:27.320540Z",
     "shell.execute_reply": "2023-05-15T07:58:27.320180Z"
    },
    "papermill": {
     "duration": 0.009688,
     "end_time": "2023-05-15T07:58:27.321399",
     "exception": false,
     "start_time": "2023-05-15T07:58:27.311711",
     "status": "completed"
    },
    "tags": []
   },
   "outputs": [],
   "source": [
    "dataset.obs[\"scDblFinder_class\"] = droplet_class\n",
    "dataset.obs.scDblFinder_class.value_counts()\n",
    "dataset"
   ]
  },
  {
   "cell_type": "code",
   "execution_count": null,
   "id": "28c95014-2d6c-477f-95cb-9f9f0507520c",
   "metadata": {
    "execution": {
     "iopub.execute_input": "2023-05-15T07:58:27.327924Z",
     "iopub.status.busy": "2023-05-15T07:58:27.327729Z",
     "iopub.status.idle": "2023-05-15T07:58:27.332090Z",
     "shell.execute_reply": "2023-05-15T07:58:27.331746Z"
    },
    "papermill": {
     "duration": 0.009019,
     "end_time": "2023-05-15T07:58:27.333279",
     "exception": false,
     "start_time": "2023-05-15T07:58:27.324260",
     "status": "completed"
    },
    "tags": []
   },
   "outputs": [],
   "source": [
    "dataset = dataset[dataset.obs[\"scDblFinder_class\"] == 1]"
   ]
  },
  {
   "cell_type": "code",
   "execution_count": null,
   "id": "3e22f9e0-bfcb-416c-a151-a9bca3bec3b9",
   "metadata": {
    "execution": {
     "iopub.execute_input": "2023-05-15T07:58:27.339819Z",
     "iopub.status.busy": "2023-05-15T07:58:27.339684Z",
     "iopub.status.idle": "2023-05-15T07:58:27.456874Z",
     "shell.execute_reply": "2023-05-15T07:58:27.456406Z"
    },
    "papermill": {
     "duration": 0.121547,
     "end_time": "2023-05-15T07:58:27.457829",
     "exception": false,
     "start_time": "2023-05-15T07:58:27.336282",
     "status": "completed"
    },
    "tags": []
   },
   "outputs": [],
   "source": [
    "# mitochondrial genes\n",
    "dataset.var[\"mt\"] = dataset.var_names.str.startswith(\"MT-\")\n",
    "# ribosomal genes\n",
    "dataset.var[\"ribo\"] = dataset.var_names.str.startswith((\"RPS\", \"RPL\"))\n",
    "# hemoglobin genes.\n",
    "dataset.var[\"hb\"] = dataset.var_names.str.contains((\"^HB[^(P)]\"))\n",
    "\n",
    "sc.pp.calculate_qc_metrics(dataset,\n",
    "                           qc_vars=['mt', 'ribo', 'hb'],\n",
    "                           percent_top=None,\n",
    "                           log1p=False,\n",
    "                           inplace=True)\n",
    "dataset"
   ]
  },
  {
   "cell_type": "code",
   "execution_count": null,
   "id": "34deee79-4043-428f-8575-aa57b45f6369",
   "metadata": {
    "execution": {
     "iopub.execute_input": "2023-05-15T07:58:27.464891Z",
     "iopub.status.busy": "2023-05-15T07:58:27.464727Z",
     "iopub.status.idle": "2023-05-15T07:58:27.947054Z",
     "shell.execute_reply": "2023-05-15T07:58:27.946664Z"
    },
    "papermill": {
     "duration": 0.487062,
     "end_time": "2023-05-15T07:58:27.948214",
     "exception": false,
     "start_time": "2023-05-15T07:58:27.461152",
     "status": "completed"
    },
    "tags": []
   },
   "outputs": [],
   "source": [
    "fig, ax = plt.subplots(ncols = 4, figsize = (16,4))\n",
    "axis = sc.pl.violin(dataset, \"n_genes_by_counts\", jitter = 0.4, ax = ax[0], show = False)\n",
    "axis.grid(False)\n",
    "axis.set_title(\"Unique Genes per cell\")\n",
    "axis.tick_params(axis = \"x\", bottom =False, labelbottom =False)\n",
    "axis.set_ylabel(\"# genes\")\n",
    "axis.axhline(y = 100, color = \"black\", label = \"cutoff\")\n",
    "axis.legend(fontsize = 14, loc = \"upper right\")\n",
    "\n",
    "axis = sc.pl.violin(dataset, \"pct_counts_mt\", jitter = 0.4, ax = ax[1], show = False)\n",
    "axis.grid(False)\n",
    "axis.set_title(\"Mitochondrial Fraction\")\n",
    "axis.tick_params(axis = \"x\", bottom =False, labelbottom =False)\n",
    "axis.set_ylabel(\"% mitochondrial genes\")\n",
    "axis.axhline(y = 10, color = \"black\", label = \"cutoff\")\n",
    "axis.legend(fontsize = 14, loc = \"upper right\")\n",
    "\n",
    "axis = sc.pl.violin(dataset, \"pct_counts_hb\", jitter = 0.4, ax = ax[2], show = False, size =2)\n",
    "axis.grid(False)\n",
    "axis.set_title(\"Hemoglobin Fraction\")\n",
    "axis.tick_params(axis = \"x\", bottom =False, labelbottom =False)\n",
    "axis.set_ylabel(\"% hemoglobin genes\")\n",
    "axis.axhline(y = 3, color = \"black\", label = \"cutoff\")\n",
    "axis.legend(fontsize = 14, loc = \"upper right\")\n",
    "#axis.set_ylim(0,5)\n",
    "\n",
    "axis = sc.pl.violin(dataset, \"pct_counts_ribo\", jitter = 0.4, ax = ax[3], show = False)\n",
    "axis.grid(False)\n",
    "axis.set_title(\"Ribosomal Fraction\")\n",
    "axis.tick_params(axis = \"x\", bottom =False, labelbottom =False)\n",
    "axis.set_ylabel(\"% ribosome genes\")\n",
    "\n",
    "plt.tight_layout()\n",
    "#plt.savefig(f\"{outputDir}08_gene_based_filtering.pdf\", dpi = 300)\n",
    "plt.show()\n",
    "\n"
   ]
  },
  {
   "cell_type": "code",
   "execution_count": null,
   "id": "d7ade754-843e-4840-8707-426613d8c0c5",
   "metadata": {
    "execution": {
     "iopub.execute_input": "2023-05-15T07:58:27.957679Z",
     "iopub.status.busy": "2023-05-15T07:58:27.957492Z",
     "iopub.status.idle": "2023-05-15T07:58:27.966754Z",
     "shell.execute_reply": "2023-05-15T07:58:27.966414Z"
    },
    "papermill": {
     "duration": 0.014777,
     "end_time": "2023-05-15T07:58:27.967548",
     "exception": false,
     "start_time": "2023-05-15T07:58:27.952771",
     "status": "completed"
    },
    "tags": []
   },
   "outputs": [],
   "source": [
    "dataset = dataset[dataset.obs.pct_counts_mt < 10, :]\n",
    "dataset = dataset[dataset.obs.n_genes_by_counts > 100, :]\n",
    "dataset = dataset[dataset.obs.pct_counts_hb < 3, :]\n",
    "dataset"
   ]
  },
  {
   "cell_type": "code",
   "execution_count": null,
   "id": "1941fa36-e865-4500-b586-f7a32d142c9b",
   "metadata": {
    "execution": {
     "iopub.execute_input": "2023-05-15T07:58:27.976579Z",
     "iopub.status.busy": "2023-05-15T07:58:27.976410Z",
     "iopub.status.idle": "2023-05-15T07:58:27.979364Z",
     "shell.execute_reply": "2023-05-15T07:58:27.979039Z"
    },
    "papermill": {
     "duration": 0.008388,
     "end_time": "2023-05-15T07:58:27.980159",
     "exception": false,
     "start_time": "2023-05-15T07:58:27.971771",
     "status": "completed"
    },
    "tags": []
   },
   "outputs": [],
   "source": [
    "metadata.columns"
   ]
  },
  {
   "cell_type": "code",
   "execution_count": null,
   "id": "2e0ff8c3-2aa9-4a01-9b88-5912a6734447",
   "metadata": {
    "execution": {
     "iopub.execute_input": "2023-05-15T07:58:27.989402Z",
     "iopub.status.busy": "2023-05-15T07:58:27.989273Z",
     "iopub.status.idle": "2023-05-15T07:58:28.020389Z",
     "shell.execute_reply": "2023-05-15T07:58:28.019970Z"
    },
    "papermill": {
     "duration": 0.036919,
     "end_time": "2023-05-15T07:58:28.021425",
     "exception": false,
     "start_time": "2023-05-15T07:58:27.984506",
     "status": "completed"
    },
    "tags": []
   },
   "outputs": [],
   "source": [
    "for col in metadata.columns:\n",
    "    dataset.obs[col] = metadata.loc[metadata[\"Run\"] == sample_name, col].to_list()[0]"
   ]
  },
  {
   "cell_type": "code",
   "execution_count": null,
   "id": "b84578d3-d63e-419c-a272-a0b8317d05ab",
   "metadata": {
    "execution": {
     "iopub.execute_input": "2023-05-15T07:58:28.031182Z",
     "iopub.status.busy": "2023-05-15T07:58:28.030987Z",
     "iopub.status.idle": "2023-05-15T07:58:28.307143Z",
     "shell.execute_reply": "2023-05-15T07:58:28.306674Z"
    },
    "papermill": {
     "duration": 0.282376,
     "end_time": "2023-05-15T07:58:28.308429",
     "exception": false,
     "start_time": "2023-05-15T07:58:28.026053",
     "status": "completed"
    },
    "tags": []
   },
   "outputs": [],
   "source": [
    "dataset.write(f\"../../int_data/{sample_name}_qc.h5ad\")"
   ]
  },
  {
   "cell_type": "code",
   "execution_count": null,
   "id": "501b33a0-432d-415f-ae82-50723484b85d",
   "metadata": {
    "execution": {
     "iopub.execute_input": "2023-05-15T07:58:28.318101Z",
     "iopub.status.busy": "2023-05-15T07:58:28.317907Z",
     "iopub.status.idle": "2023-05-15T07:58:28.321074Z",
     "shell.execute_reply": "2023-05-15T07:58:28.320711Z"
    },
    "papermill": {
     "duration": 0.008782,
     "end_time": "2023-05-15T07:58:28.321901",
     "exception": false,
     "start_time": "2023-05-15T07:58:28.313119",
     "status": "completed"
    },
    "tags": []
   },
   "outputs": [],
   "source": [
    "dataset"
   ]
  }
 ],
 "metadata": {
  "kernelspec": {
   "display_name": "py_R",
   "language": "python",
   "name": "python_r"
  },
  "language_info": {
   "codemirror_mode": {
    "name": "ipython",
    "version": 3
   },
   "file_extension": ".py",
   "mimetype": "text/x-python",
   "name": "python",
   "nbconvert_exporter": "python",
   "pygments_lexer": "ipython3",
   "version": "3.10.9"
  },
  "papermill": {
   "default_parameters": {},
   "duration": 112.816709,
   "end_time": "2023-05-15T07:58:29.844331",
   "environment_variables": {},
   "exception": null,
   "input_path": "template.ipynb",
   "output_path": "SRR13329122.ipynb",
   "parameters": {
    "sample_name": "SRR13329122"
   },
   "start_time": "2023-05-15T07:56:37.027622",
   "version": "2.4.0"
  }
 },
 "nbformat": 4,
 "nbformat_minor": 5
}
