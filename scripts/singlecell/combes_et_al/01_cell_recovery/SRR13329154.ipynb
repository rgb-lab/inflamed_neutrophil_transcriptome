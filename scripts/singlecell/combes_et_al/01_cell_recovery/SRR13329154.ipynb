{
 "cells": [
  {
   "cell_type": "code",
   "execution_count": null,
   "id": "4c0f2fa8-5232-4f47-a7ec-6c9bbabe50e2",
   "metadata": {
    "execution": {
     "iopub.execute_input": "2023-05-15T09:02:42.644323Z",
     "iopub.status.busy": "2023-05-15T09:02:42.644167Z",
     "iopub.status.idle": "2023-05-15T09:02:42.648771Z",
     "shell.execute_reply": "2023-05-15T09:02:42.648365Z"
    },
    "papermill": {
     "duration": 0.009274,
     "end_time": "2023-05-15T09:02:42.649626",
     "exception": false,
     "start_time": "2023-05-15T09:02:42.640352",
     "status": "completed"
    },
    "tags": [
     "parameters"
    ]
   },
   "outputs": [],
   "source": [
    "sample_name = \"SRR13329143\""
   ]
  },
  {
   "cell_type": "code",
   "execution_count": null,
   "id": "cee35be2",
   "metadata": {
    "execution": {
     "iopub.execute_input": "2023-05-15T09:02:42.654815Z",
     "iopub.status.busy": "2023-05-15T09:02:42.654692Z",
     "iopub.status.idle": "2023-05-15T09:02:42.656696Z",
     "shell.execute_reply": "2023-05-15T09:02:42.656394Z"
    },
    "papermill": {
     "duration": 0.005535,
     "end_time": "2023-05-15T09:02:42.657467",
     "exception": false,
     "start_time": "2023-05-15T09:02:42.651932",
     "status": "completed"
    },
    "tags": [
     "injected-parameters"
    ]
   },
   "outputs": [],
   "source": [
    "# Parameters\n",
    "sample_name = \"SRR13329154\"\n"
   ]
  },
  {
   "cell_type": "code",
   "execution_count": null,
   "id": "f87ed95b-2b67-4a5a-8fe2-47359b1dd2a9",
   "metadata": {
    "execution": {
     "iopub.execute_input": "2023-05-15T09:02:42.662361Z",
     "iopub.status.busy": "2023-05-15T09:02:42.662242Z",
     "iopub.status.idle": "2023-05-15T09:02:42.664468Z",
     "shell.execute_reply": "2023-05-15T09:02:42.664181Z"
    },
    "papermill": {
     "duration": 0.005542,
     "end_time": "2023-05-15T09:02:42.665227",
     "exception": false,
     "start_time": "2023-05-15T09:02:42.659685",
     "status": "completed"
    },
    "tags": []
   },
   "outputs": [],
   "source": [
    "import warnings\n",
    "warnings.simplefilter(action='ignore', category=FutureWarning)\n",
    "warnings.simplefilter(action='ignore', category=UserWarning)"
   ]
  },
  {
   "cell_type": "code",
   "execution_count": null,
   "id": "85161f19-b2c5-490b-8cab-c2cf9653b304",
   "metadata": {
    "execution": {
     "iopub.execute_input": "2023-05-15T09:02:42.670375Z",
     "iopub.status.busy": "2023-05-15T09:02:42.670133Z",
     "iopub.status.idle": "2023-05-15T09:02:47.533832Z",
     "shell.execute_reply": "2023-05-15T09:02:47.533365Z"
    },
    "papermill": {
     "duration": 4.867671,
     "end_time": "2023-05-15T09:02:47.535153",
     "exception": false,
     "start_time": "2023-05-15T09:02:42.667482",
     "status": "completed"
    },
    "tags": []
   },
   "outputs": [],
   "source": [
    "import gc\n",
    "import scanpy as sc\n",
    "import muon as mu\n",
    "import seaborn as sns\n",
    "import os\n",
    "import pandas as pd\n",
    "from matplotlib import pyplot as plt\n",
    "\n",
    "os.environ['R_HOME'] = '/gpfs/bwfor/work/ws/hd_fu399-conda/conda/envs/python_R/lib/R/'\n",
    "import anndata2ri\n",
    "import logging\n",
    "\n",
    "import rpy2.rinterface_lib.callbacks as rcb\n",
    "import rpy2.robjects as ro\n",
    "\n",
    "rcb.logger.setLevel(logging.ERROR)\n",
    "ro.pandas2ri.activate()\n",
    "anndata2ri.activate()\n",
    "\n",
    "%load_ext rpy2.ipython"
   ]
  },
  {
   "cell_type": "code",
   "execution_count": null,
   "id": "fc4ade78-b728-4704-9db6-45fbaab62ba1",
   "metadata": {
    "execution": {
     "iopub.execute_input": "2023-05-15T09:02:47.541281Z",
     "iopub.status.busy": "2023-05-15T09:02:47.541024Z",
     "iopub.status.idle": "2023-05-15T09:02:58.446630Z",
     "shell.execute_reply": "2023-05-15T09:02:58.446072Z"
    },
    "papermill": {
     "duration": 10.909765,
     "end_time": "2023-05-15T09:02:58.448004",
     "exception": false,
     "start_time": "2023-05-15T09:02:47.538239",
     "status": "completed"
    },
    "tags": []
   },
   "outputs": [],
   "source": [
    "%%R\n",
    "library(SoupX)\n",
    "library(Seurat)\n",
    "library(scater)\n",
    "library(scDblFinder)\n",
    "library(BiocParallel)\n",
    "library(MuDataSeurat)\n",
    "library(DropletUtils)"
   ]
  },
  {
   "cell_type": "code",
   "execution_count": null,
   "id": "f7424d90-7690-4290-8651-1db3f9df3a35",
   "metadata": {
    "execution": {
     "iopub.execute_input": "2023-05-15T09:02:58.456046Z",
     "iopub.status.busy": "2023-05-15T09:02:58.455863Z",
     "iopub.status.idle": "2023-05-15T09:02:58.461651Z",
     "shell.execute_reply": "2023-05-15T09:02:58.461331Z"
    },
    "papermill": {
     "duration": 0.009688,
     "end_time": "2023-05-15T09:02:58.462520",
     "exception": false,
     "start_time": "2023-05-15T09:02:58.452832",
     "status": "completed"
    },
    "tags": []
   },
   "outputs": [],
   "source": [
    "metadata = pd.read_csv(\"../../combes_metadata.txt\")"
   ]
  },
  {
   "cell_type": "code",
   "execution_count": null,
   "id": "2574ecf1-bad4-4c33-8f3f-718a358727ab",
   "metadata": {
    "execution": {
     "iopub.execute_input": "2023-05-15T09:02:58.468440Z",
     "iopub.status.busy": "2023-05-15T09:02:58.468298Z",
     "iopub.status.idle": "2023-05-15T09:02:58.470491Z",
     "shell.execute_reply": "2023-05-15T09:02:58.470179Z"
    },
    "papermill": {
     "duration": 0.006147,
     "end_time": "2023-05-15T09:02:58.471248",
     "exception": false,
     "start_time": "2023-05-15T09:02:58.465101",
     "status": "completed"
    },
    "tags": []
   },
   "outputs": [],
   "source": [
    "raw_input = f\"/home/hd/hd_hd/hd_fu399/sds-hd/sd21k006/scRNAseq/revision_natcomm/combes_et_al/fetchngs/results/fastq/{sample_name}/{sample_name}/outs/raw_feature_bc_matrix.h5\""
   ]
  },
  {
   "cell_type": "code",
   "execution_count": null,
   "id": "e266d388-1802-435c-93a5-90067358739c",
   "metadata": {
    "execution": {
     "iopub.execute_input": "2023-05-15T09:02:58.476732Z",
     "iopub.status.busy": "2023-05-15T09:02:58.476405Z",
     "iopub.status.idle": "2023-05-15T09:02:58.826938Z",
     "shell.execute_reply": "2023-05-15T09:02:58.826488Z"
    },
    "papermill": {
     "duration": 0.354337,
     "end_time": "2023-05-15T09:02:58.827891",
     "exception": false,
     "start_time": "2023-05-15T09:02:58.473554",
     "status": "completed"
    },
    "tags": []
   },
   "outputs": [],
   "source": [
    "dataset = sc.read_10x_h5(raw_input)\n",
    "dataset.var_names_make_unique()\n",
    "dataset.obs_names_make_unique()\n",
    "\n",
    "dataset.layers[\"raw_counts\"] = dataset.X.copy()\n",
    "data_tod = dataset.layers[\"raw_counts\"].T.copy()\n",
    "\n",
    "dataset"
   ]
  },
  {
   "cell_type": "code",
   "execution_count": null,
   "id": "af9f5892-ed31-42a6-991b-4e096f582cef",
   "metadata": {
    "execution": {
     "iopub.execute_input": "2023-05-15T09:02:58.834111Z",
     "iopub.status.busy": "2023-05-15T09:02:58.833930Z",
     "iopub.status.idle": "2023-05-15T09:02:58.858804Z",
     "shell.execute_reply": "2023-05-15T09:02:58.858343Z"
    },
    "papermill": {
     "duration": 0.029044,
     "end_time": "2023-05-15T09:02:58.859938",
     "exception": false,
     "start_time": "2023-05-15T09:02:58.830894",
     "status": "completed"
    },
    "tags": []
   },
   "outputs": [],
   "source": [
    "sce = dataset.copy()"
   ]
  },
  {
   "cell_type": "code",
   "execution_count": null,
   "id": "d03f2caf-8e74-430e-b045-0ab80401d165",
   "metadata": {
    "execution": {
     "iopub.execute_input": "2023-05-15T09:02:58.866132Z",
     "iopub.status.busy": "2023-05-15T09:02:58.865969Z",
     "iopub.status.idle": "2023-05-15T09:04:03.409960Z",
     "shell.execute_reply": "2023-05-15T09:04:03.409371Z"
    },
    "papermill": {
     "duration": 64.548429,
     "end_time": "2023-05-15T09:04:03.411341",
     "exception": false,
     "start_time": "2023-05-15T09:02:58.862912",
     "status": "completed"
    },
    "tags": []
   },
   "outputs": [],
   "source": [
    "%%R -i sce -o empty_drop_output\n",
    "set.seed(187)\n",
    "empty_drop_output <- emptyDrops(assay(sce))"
   ]
  },
  {
   "cell_type": "code",
   "execution_count": null,
   "id": "2a34a54b-3ae2-44d6-8679-8769228c5b66",
   "metadata": {
    "execution": {
     "iopub.execute_input": "2023-05-15T09:04:03.419401Z",
     "iopub.status.busy": "2023-05-15T09:04:03.419226Z",
     "iopub.status.idle": "2023-05-15T09:04:03.440679Z",
     "shell.execute_reply": "2023-05-15T09:04:03.440360Z"
    },
    "papermill": {
     "duration": 0.025497,
     "end_time": "2023-05-15T09:04:03.441550",
     "exception": false,
     "start_time": "2023-05-15T09:04:03.416053",
     "status": "completed"
    },
    "tags": []
   },
   "outputs": [],
   "source": [
    "non_empty_barcodes = empty_drop_output[empty_drop_output[\"FDR\"] < 0.001].index\n",
    "dataset = dataset[dataset.obs.index.isin(non_empty_barcodes), :]\n",
    "dataset"
   ]
  },
  {
   "cell_type": "code",
   "execution_count": null,
   "id": "016a91e5-1bef-46fb-b91e-4fb9a6870c44",
   "metadata": {
    "execution": {
     "iopub.execute_input": "2023-05-15T09:04:03.447838Z",
     "iopub.status.busy": "2023-05-15T09:04:03.447683Z",
     "iopub.status.idle": "2023-05-15T09:04:06.086221Z",
     "shell.execute_reply": "2023-05-15T09:04:06.085740Z"
    },
    "papermill": {
     "duration": 2.643447,
     "end_time": "2023-05-15T09:04:06.087568",
     "exception": false,
     "start_time": "2023-05-15T09:04:03.444121",
     "status": "completed"
    },
    "tags": []
   },
   "outputs": [],
   "source": [
    "rna_assay = dataset.copy()\n",
    "sc.pp.normalize_per_cell(rna_assay)\n",
    "sc.pp.log1p(rna_assay)\n",
    "sc.pp.pca(rna_assay)\n",
    "sc.pp.neighbors(rna_assay)\n",
    "sc.tl.leiden(rna_assay, key_added=\"soupx_groups\")\n",
    "\n",
    "soupx_groups = rna_assay.obs[\"soupx_groups\"]\n",
    "\n",
    "del rna_assay\n",
    "\n",
    "genes = dataset.var_names\n",
    "cells = dataset.obs_names\n",
    "data = dataset.X.T.copy()"
   ]
  },
  {
   "cell_type": "code",
   "execution_count": null,
   "id": "9db4ea1f-1580-4f43-a3f0-86002397cd98",
   "metadata": {
    "execution": {
     "iopub.execute_input": "2023-05-15T09:04:06.094331Z",
     "iopub.status.busy": "2023-05-15T09:04:06.094160Z",
     "iopub.status.idle": "2023-05-15T09:04:21.922386Z",
     "shell.execute_reply": "2023-05-15T09:04:21.921949Z"
    },
    "papermill": {
     "duration": 15.832745,
     "end_time": "2023-05-15T09:04:21.923679",
     "exception": false,
     "start_time": "2023-05-15T09:04:06.090934",
     "status": "completed"
    },
    "tags": []
   },
   "outputs": [],
   "source": [
    "%%R -i data -i data_tod -i genes -i cells -i soupx_groups -o out \n",
    "set.seed(187)\n",
    "# specify row and column names of data\n",
    "rownames(data) = genes\n",
    "colnames(data) = cells\n",
    "# ensure correct sparse format for table of counts and table of droplets\n",
    "data <- as(data, \"sparseMatrix\")\n",
    "data_tod <- as(data_tod, \"sparseMatrix\")\n",
    "\n",
    "# Generate SoupChannel Object for SoupX \n",
    "sc = SoupChannel(data_tod, data, calcSoupProfile = FALSE)\n",
    "\n",
    "# Add extra meta data to the SoupChannel object\n",
    "soupProf = data.frame(row.names = rownames(data),\n",
    "                      est = rowSums(data)/sum(data),\n",
    "                      counts = rowSums(data))\n",
    "sc = setSoupProfile(sc, soupProf)\n",
    "# Set cluster information in SoupChannel\n",
    "sc = setClusters(sc, soupx_groups)\n",
    "\n",
    "# Estimate contamination fraction\n",
    "sc  = autoEstCont(sc, doPlot=FALSE, forceAccept = TRUE)\n",
    "# Infer corrected table of counts and rount to integer\n",
    "out = adjustCounts(sc, roundToInt = TRUE)"
   ]
  },
  {
   "cell_type": "code",
   "execution_count": null,
   "id": "32555d5e-5fa3-46dd-a4e0-ddc96ea265e2",
   "metadata": {
    "execution": {
     "iopub.execute_input": "2023-05-15T09:04:21.932361Z",
     "iopub.status.busy": "2023-05-15T09:04:21.932198Z",
     "iopub.status.idle": "2023-05-15T09:04:21.944395Z",
     "shell.execute_reply": "2023-05-15T09:04:21.943981Z"
    },
    "papermill": {
     "duration": 0.016897,
     "end_time": "2023-05-15T09:04:21.945399",
     "exception": false,
     "start_time": "2023-05-15T09:04:21.928502",
     "status": "completed"
    },
    "tags": []
   },
   "outputs": [],
   "source": [
    "dataset.layers[\"soupX_counts\"] = out.T\n",
    "dataset.X = dataset.layers[\"soupX_counts\"].copy()"
   ]
  },
  {
   "cell_type": "code",
   "execution_count": null,
   "id": "e27da7df-e094-4d2a-9109-5a363e012175",
   "metadata": {
    "execution": {
     "iopub.execute_input": "2023-05-15T09:04:21.952131Z",
     "iopub.status.busy": "2023-05-15T09:04:21.951813Z",
     "iopub.status.idle": "2023-05-15T09:04:21.955235Z",
     "shell.execute_reply": "2023-05-15T09:04:21.954900Z"
    },
    "papermill": {
     "duration": 0.007374,
     "end_time": "2023-05-15T09:04:21.955981",
     "exception": false,
     "start_time": "2023-05-15T09:04:21.948607",
     "status": "completed"
    },
    "tags": []
   },
   "outputs": [],
   "source": [
    "data_mat = dataset.X.T"
   ]
  },
  {
   "cell_type": "code",
   "execution_count": null,
   "id": "80a993b1-5ccb-4697-9187-1beb7ab8aff9",
   "metadata": {
    "execution": {
     "iopub.execute_input": "2023-05-15T09:04:21.961956Z",
     "iopub.status.busy": "2023-05-15T09:04:21.961702Z",
     "iopub.status.idle": "2023-05-15T09:04:31.930935Z",
     "shell.execute_reply": "2023-05-15T09:04:31.930439Z"
    },
    "papermill": {
     "duration": 9.973559,
     "end_time": "2023-05-15T09:04:31.932166",
     "exception": false,
     "start_time": "2023-05-15T09:04:21.958607",
     "status": "completed"
    },
    "tags": []
   },
   "outputs": [],
   "source": [
    "%%R -i data_mat -o droplet_class\n",
    "\n",
    "set.seed(187)\n",
    "sce = scDblFinder(\n",
    "    SingleCellExperiment(\n",
    "        list(counts=data_mat),\n",
    "    ) \n",
    ")\n",
    "droplet_class = sce$scDblFinder.class"
   ]
  },
  {
   "cell_type": "code",
   "execution_count": null,
   "id": "d4dd6e9d-fcf2-41fc-8457-c8e0a3cb2c71",
   "metadata": {
    "execution": {
     "iopub.execute_input": "2023-05-15T09:04:31.940265Z",
     "iopub.status.busy": "2023-05-15T09:04:31.940106Z",
     "iopub.status.idle": "2023-05-15T09:04:31.944195Z",
     "shell.execute_reply": "2023-05-15T09:04:31.943849Z"
    },
    "papermill": {
     "duration": 0.008264,
     "end_time": "2023-05-15T09:04:31.944958",
     "exception": false,
     "start_time": "2023-05-15T09:04:31.936694",
     "status": "completed"
    },
    "tags": []
   },
   "outputs": [],
   "source": [
    "dataset.obs[\"scDblFinder_class\"] = droplet_class\n",
    "dataset.obs.scDblFinder_class.value_counts()\n",
    "dataset"
   ]
  },
  {
   "cell_type": "code",
   "execution_count": null,
   "id": "28c95014-2d6c-477f-95cb-9f9f0507520c",
   "metadata": {
    "execution": {
     "iopub.execute_input": "2023-05-15T09:04:31.951031Z",
     "iopub.status.busy": "2023-05-15T09:04:31.950797Z",
     "iopub.status.idle": "2023-05-15T09:04:31.968000Z",
     "shell.execute_reply": "2023-05-15T09:04:31.967679Z"
    },
    "papermill": {
     "duration": 0.021215,
     "end_time": "2023-05-15T09:04:31.968900",
     "exception": false,
     "start_time": "2023-05-15T09:04:31.947685",
     "status": "completed"
    },
    "tags": []
   },
   "outputs": [],
   "source": [
    "dataset = dataset[dataset.obs[\"scDblFinder_class\"] == 1]"
   ]
  },
  {
   "cell_type": "code",
   "execution_count": null,
   "id": "3e22f9e0-bfcb-416c-a151-a9bca3bec3b9",
   "metadata": {
    "execution": {
     "iopub.execute_input": "2023-05-15T09:04:31.975182Z",
     "iopub.status.busy": "2023-05-15T09:04:31.975023Z",
     "iopub.status.idle": "2023-05-15T09:04:32.050467Z",
     "shell.execute_reply": "2023-05-15T09:04:32.050046Z"
    },
    "papermill": {
     "duration": 0.079593,
     "end_time": "2023-05-15T09:04:32.051317",
     "exception": false,
     "start_time": "2023-05-15T09:04:31.971724",
     "status": "completed"
    },
    "tags": []
   },
   "outputs": [],
   "source": [
    "# mitochondrial genes\n",
    "dataset.var[\"mt\"] = dataset.var_names.str.startswith(\"MT-\")\n",
    "# ribosomal genes\n",
    "dataset.var[\"ribo\"] = dataset.var_names.str.startswith((\"RPS\", \"RPL\"))\n",
    "# hemoglobin genes.\n",
    "dataset.var[\"hb\"] = dataset.var_names.str.contains((\"^HB[^(P)]\"))\n",
    "\n",
    "sc.pp.calculate_qc_metrics(dataset,\n",
    "                           qc_vars=['mt', 'ribo', 'hb'],\n",
    "                           percent_top=None,\n",
    "                           log1p=False,\n",
    "                           inplace=True)\n",
    "dataset"
   ]
  },
  {
   "cell_type": "code",
   "execution_count": null,
   "id": "34deee79-4043-428f-8575-aa57b45f6369",
   "metadata": {
    "execution": {
     "iopub.execute_input": "2023-05-15T09:04:32.058509Z",
     "iopub.status.busy": "2023-05-15T09:04:32.058341Z",
     "iopub.status.idle": "2023-05-15T09:04:32.476055Z",
     "shell.execute_reply": "2023-05-15T09:04:32.475645Z"
    },
    "papermill": {
     "duration": 0.422091,
     "end_time": "2023-05-15T09:04:32.476970",
     "exception": false,
     "start_time": "2023-05-15T09:04:32.054879",
     "status": "completed"
    },
    "tags": []
   },
   "outputs": [],
   "source": [
    "fig, ax = plt.subplots(ncols = 4, figsize = (16,4))\n",
    "axis = sc.pl.violin(dataset, \"n_genes_by_counts\", jitter = 0.4, ax = ax[0], show = False)\n",
    "axis.grid(False)\n",
    "axis.set_title(\"Unique Genes per cell\")\n",
    "axis.tick_params(axis = \"x\", bottom =False, labelbottom =False)\n",
    "axis.set_ylabel(\"# genes\")\n",
    "axis.axhline(y = 100, color = \"black\", label = \"cutoff\")\n",
    "axis.legend(fontsize = 14, loc = \"upper right\")\n",
    "\n",
    "axis = sc.pl.violin(dataset, \"pct_counts_mt\", jitter = 0.4, ax = ax[1], show = False)\n",
    "axis.grid(False)\n",
    "axis.set_title(\"Mitochondrial Fraction\")\n",
    "axis.tick_params(axis = \"x\", bottom =False, labelbottom =False)\n",
    "axis.set_ylabel(\"% mitochondrial genes\")\n",
    "axis.axhline(y = 10, color = \"black\", label = \"cutoff\")\n",
    "axis.legend(fontsize = 14, loc = \"upper right\")\n",
    "\n",
    "axis = sc.pl.violin(dataset, \"pct_counts_hb\", jitter = 0.4, ax = ax[2], show = False, size =2)\n",
    "axis.grid(False)\n",
    "axis.set_title(\"Hemoglobin Fraction\")\n",
    "axis.tick_params(axis = \"x\", bottom =False, labelbottom =False)\n",
    "axis.set_ylabel(\"% hemoglobin genes\")\n",
    "axis.axhline(y = 3, color = \"black\", label = \"cutoff\")\n",
    "axis.legend(fontsize = 14, loc = \"upper right\")\n",
    "#axis.set_ylim(0,5)\n",
    "\n",
    "axis = sc.pl.violin(dataset, \"pct_counts_ribo\", jitter = 0.4, ax = ax[3], show = False)\n",
    "axis.grid(False)\n",
    "axis.set_title(\"Ribosomal Fraction\")\n",
    "axis.tick_params(axis = \"x\", bottom =False, labelbottom =False)\n",
    "axis.set_ylabel(\"% ribosome genes\")\n",
    "\n",
    "plt.tight_layout()\n",
    "#plt.savefig(f\"{outputDir}08_gene_based_filtering.pdf\", dpi = 300)\n",
    "plt.show()\n",
    "\n"
   ]
  },
  {
   "cell_type": "code",
   "execution_count": null,
   "id": "d7ade754-843e-4840-8707-426613d8c0c5",
   "metadata": {
    "execution": {
     "iopub.execute_input": "2023-05-15T09:04:32.485746Z",
     "iopub.status.busy": "2023-05-15T09:04:32.485546Z",
     "iopub.status.idle": "2023-05-15T09:04:32.493857Z",
     "shell.execute_reply": "2023-05-15T09:04:32.493547Z"
    },
    "papermill": {
     "duration": 0.013317,
     "end_time": "2023-05-15T09:04:32.494630",
     "exception": false,
     "start_time": "2023-05-15T09:04:32.481313",
     "status": "completed"
    },
    "tags": []
   },
   "outputs": [],
   "source": [
    "dataset = dataset[dataset.obs.pct_counts_mt < 10, :]\n",
    "dataset = dataset[dataset.obs.n_genes_by_counts > 100, :]\n",
    "dataset = dataset[dataset.obs.pct_counts_hb < 3, :]\n",
    "dataset"
   ]
  },
  {
   "cell_type": "code",
   "execution_count": null,
   "id": "1941fa36-e865-4500-b586-f7a32d142c9b",
   "metadata": {
    "execution": {
     "iopub.execute_input": "2023-05-15T09:04:32.503211Z",
     "iopub.status.busy": "2023-05-15T09:04:32.502887Z",
     "iopub.status.idle": "2023-05-15T09:04:32.505704Z",
     "shell.execute_reply": "2023-05-15T09:04:32.505406Z"
    },
    "papermill": {
     "duration": 0.007875,
     "end_time": "2023-05-15T09:04:32.506478",
     "exception": false,
     "start_time": "2023-05-15T09:04:32.498603",
     "status": "completed"
    },
    "tags": []
   },
   "outputs": [],
   "source": [
    "metadata.columns"
   ]
  },
  {
   "cell_type": "code",
   "execution_count": null,
   "id": "2e0ff8c3-2aa9-4a01-9b88-5912a6734447",
   "metadata": {
    "execution": {
     "iopub.execute_input": "2023-05-15T09:04:32.514998Z",
     "iopub.status.busy": "2023-05-15T09:04:32.514851Z",
     "iopub.status.idle": "2023-05-15T09:04:32.538410Z",
     "shell.execute_reply": "2023-05-15T09:04:32.537950Z"
    },
    "papermill": {
     "duration": 0.029138,
     "end_time": "2023-05-15T09:04:32.539616",
     "exception": false,
     "start_time": "2023-05-15T09:04:32.510478",
     "status": "completed"
    },
    "tags": []
   },
   "outputs": [],
   "source": [
    "for col in metadata.columns:\n",
    "    dataset.obs[col] = metadata.loc[metadata[\"Run\"] == sample_name, col].to_list()[0]"
   ]
  },
  {
   "cell_type": "code",
   "execution_count": null,
   "id": "b84578d3-d63e-419c-a272-a0b8317d05ab",
   "metadata": {
    "execution": {
     "iopub.execute_input": "2023-05-15T09:04:32.548840Z",
     "iopub.status.busy": "2023-05-15T09:04:32.548675Z",
     "iopub.status.idle": "2023-05-15T09:04:33.048517Z",
     "shell.execute_reply": "2023-05-15T09:04:33.048027Z"
    },
    "papermill": {
     "duration": 0.505639,
     "end_time": "2023-05-15T09:04:33.049872",
     "exception": false,
     "start_time": "2023-05-15T09:04:32.544233",
     "status": "completed"
    },
    "tags": []
   },
   "outputs": [],
   "source": [
    "dataset.write(f\"../../int_data/{sample_name}_qc.h5ad\")"
   ]
  },
  {
   "cell_type": "code",
   "execution_count": null,
   "id": "501b33a0-432d-415f-ae82-50723484b85d",
   "metadata": {
    "execution": {
     "iopub.execute_input": "2023-05-15T09:04:33.059065Z",
     "iopub.status.busy": "2023-05-15T09:04:33.058898Z",
     "iopub.status.idle": "2023-05-15T09:04:33.061889Z",
     "shell.execute_reply": "2023-05-15T09:04:33.061547Z"
    },
    "papermill": {
     "duration": 0.008247,
     "end_time": "2023-05-15T09:04:33.062678",
     "exception": false,
     "start_time": "2023-05-15T09:04:33.054431",
     "status": "completed"
    },
    "tags": []
   },
   "outputs": [],
   "source": [
    "dataset"
   ]
  }
 ],
 "metadata": {
  "kernelspec": {
   "display_name": "py_R",
   "language": "python",
   "name": "python_r"
  },
  "language_info": {
   "codemirror_mode": {
    "name": "ipython",
    "version": 3
   },
   "file_extension": ".py",
   "mimetype": "text/x-python",
   "name": "python",
   "nbconvert_exporter": "python",
   "pygments_lexer": "ipython3",
   "version": "3.10.9"
  },
  "papermill": {
   "default_parameters": {},
   "duration": 112.785618,
   "end_time": "2023-05-15T09:04:34.383609",
   "environment_variables": {},
   "exception": null,
   "input_path": "template.ipynb",
   "output_path": "SRR13329154.ipynb",
   "parameters": {
    "sample_name": "SRR13329154"
   },
   "start_time": "2023-05-15T09:02:41.597991",
   "version": "2.4.0"
  }
 },
 "nbformat": 4,
 "nbformat_minor": 5
}
