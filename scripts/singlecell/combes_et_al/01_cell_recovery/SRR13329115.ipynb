{
 "cells": [
  {
   "cell_type": "code",
   "execution_count": null,
   "id": "4c0f2fa8-5232-4f47-a7ec-6c9bbabe50e2",
   "metadata": {
    "execution": {
     "iopub.execute_input": "2023-05-15T08:48:34.714158Z",
     "iopub.status.busy": "2023-05-15T08:48:34.713993Z",
     "iopub.status.idle": "2023-05-15T08:48:34.718355Z",
     "shell.execute_reply": "2023-05-15T08:48:34.718056Z"
    },
    "papermill": {
     "duration": 0.008762,
     "end_time": "2023-05-15T08:48:34.719216",
     "exception": false,
     "start_time": "2023-05-15T08:48:34.710454",
     "status": "completed"
    },
    "tags": [
     "parameters"
    ]
   },
   "outputs": [],
   "source": [
    "sample_name = \"SRR13329143\""
   ]
  },
  {
   "cell_type": "code",
   "execution_count": null,
   "id": "f5462abc",
   "metadata": {
    "execution": {
     "iopub.execute_input": "2023-05-15T08:48:34.724408Z",
     "iopub.status.busy": "2023-05-15T08:48:34.724198Z",
     "iopub.status.idle": "2023-05-15T08:48:34.726656Z",
     "shell.execute_reply": "2023-05-15T08:48:34.726363Z"
    },
    "papermill": {
     "duration": 0.005821,
     "end_time": "2023-05-15T08:48:34.727425",
     "exception": false,
     "start_time": "2023-05-15T08:48:34.721604",
     "status": "completed"
    },
    "tags": [
     "injected-parameters"
    ]
   },
   "outputs": [],
   "source": [
    "# Parameters\n",
    "sample_name = \"SRR13329115\"\n"
   ]
  },
  {
   "cell_type": "code",
   "execution_count": null,
   "id": "f87ed95b-2b67-4a5a-8fe2-47359b1dd2a9",
   "metadata": {
    "execution": {
     "iopub.execute_input": "2023-05-15T08:48:34.732496Z",
     "iopub.status.busy": "2023-05-15T08:48:34.732331Z",
     "iopub.status.idle": "2023-05-15T08:48:34.734517Z",
     "shell.execute_reply": "2023-05-15T08:48:34.734230Z"
    },
    "papermill": {
     "duration": 0.005597,
     "end_time": "2023-05-15T08:48:34.735291",
     "exception": false,
     "start_time": "2023-05-15T08:48:34.729694",
     "status": "completed"
    },
    "tags": []
   },
   "outputs": [],
   "source": [
    "import warnings\n",
    "warnings.simplefilter(action='ignore', category=FutureWarning)\n",
    "warnings.simplefilter(action='ignore', category=UserWarning)"
   ]
  },
  {
   "cell_type": "code",
   "execution_count": null,
   "id": "85161f19-b2c5-490b-8cab-c2cf9653b304",
   "metadata": {
    "execution": {
     "iopub.execute_input": "2023-05-15T08:48:34.740499Z",
     "iopub.status.busy": "2023-05-15T08:48:34.740279Z",
     "iopub.status.idle": "2023-05-15T08:48:39.387920Z",
     "shell.execute_reply": "2023-05-15T08:48:39.387448Z"
    },
    "papermill": {
     "duration": 4.651567,
     "end_time": "2023-05-15T08:48:39.389193",
     "exception": false,
     "start_time": "2023-05-15T08:48:34.737626",
     "status": "completed"
    },
    "tags": []
   },
   "outputs": [],
   "source": [
    "import gc\n",
    "import scanpy as sc\n",
    "import muon as mu\n",
    "import seaborn as sns\n",
    "import os\n",
    "import pandas as pd\n",
    "from matplotlib import pyplot as plt\n",
    "\n",
    "os.environ['R_HOME'] = '/gpfs/bwfor/work/ws/hd_fu399-conda/conda/envs/python_R/lib/R/'\n",
    "import anndata2ri\n",
    "import logging\n",
    "\n",
    "import rpy2.rinterface_lib.callbacks as rcb\n",
    "import rpy2.robjects as ro\n",
    "\n",
    "rcb.logger.setLevel(logging.ERROR)\n",
    "ro.pandas2ri.activate()\n",
    "anndata2ri.activate()\n",
    "\n",
    "%load_ext rpy2.ipython"
   ]
  },
  {
   "cell_type": "code",
   "execution_count": null,
   "id": "fc4ade78-b728-4704-9db6-45fbaab62ba1",
   "metadata": {
    "execution": {
     "iopub.execute_input": "2023-05-15T08:48:39.397112Z",
     "iopub.status.busy": "2023-05-15T08:48:39.396822Z",
     "iopub.status.idle": "2023-05-15T08:48:50.241048Z",
     "shell.execute_reply": "2023-05-15T08:48:50.240484Z"
    },
    "papermill": {
     "duration": 10.848558,
     "end_time": "2023-05-15T08:48:50.242397",
     "exception": false,
     "start_time": "2023-05-15T08:48:39.393839",
     "status": "completed"
    },
    "tags": []
   },
   "outputs": [],
   "source": [
    "%%R\n",
    "library(SoupX)\n",
    "library(Seurat)\n",
    "library(scater)\n",
    "library(scDblFinder)\n",
    "library(BiocParallel)\n",
    "library(MuDataSeurat)\n",
    "library(DropletUtils)"
   ]
  },
  {
   "cell_type": "code",
   "execution_count": null,
   "id": "f7424d90-7690-4290-8651-1db3f9df3a35",
   "metadata": {
    "execution": {
     "iopub.execute_input": "2023-05-15T08:48:50.251875Z",
     "iopub.status.busy": "2023-05-15T08:48:50.251514Z",
     "iopub.status.idle": "2023-05-15T08:48:50.257874Z",
     "shell.execute_reply": "2023-05-15T08:48:50.257553Z"
    },
    "papermill": {
     "duration": 0.010262,
     "end_time": "2023-05-15T08:48:50.258681",
     "exception": false,
     "start_time": "2023-05-15T08:48:50.248419",
     "status": "completed"
    },
    "tags": []
   },
   "outputs": [],
   "source": [
    "metadata = pd.read_csv(\"../../combes_metadata.txt\")"
   ]
  },
  {
   "cell_type": "code",
   "execution_count": null,
   "id": "2574ecf1-bad4-4c33-8f3f-718a358727ab",
   "metadata": {
    "execution": {
     "iopub.execute_input": "2023-05-15T08:48:50.263945Z",
     "iopub.status.busy": "2023-05-15T08:48:50.263810Z",
     "iopub.status.idle": "2023-05-15T08:48:50.285245Z",
     "shell.execute_reply": "2023-05-15T08:48:50.284899Z"
    },
    "papermill": {
     "duration": 0.025127,
     "end_time": "2023-05-15T08:48:50.286139",
     "exception": false,
     "start_time": "2023-05-15T08:48:50.261012",
     "status": "completed"
    },
    "tags": []
   },
   "outputs": [],
   "source": [
    "raw_input = f\"/home/hd/hd_hd/hd_fu399/sds-hd/sd21k006/scRNAseq/revision_natcomm/combes_et_al/fetchngs/results/fastq/{sample_name}/{sample_name}/outs/raw_feature_bc_matrix.h5\""
   ]
  },
  {
   "cell_type": "code",
   "execution_count": null,
   "id": "e266d388-1802-435c-93a5-90067358739c",
   "metadata": {
    "execution": {
     "iopub.execute_input": "2023-05-15T08:48:50.291687Z",
     "iopub.status.busy": "2023-05-15T08:48:50.291480Z",
     "iopub.status.idle": "2023-05-15T08:48:50.590420Z",
     "shell.execute_reply": "2023-05-15T08:48:50.589980Z"
    },
    "papermill": {
     "duration": 0.302801,
     "end_time": "2023-05-15T08:48:50.591331",
     "exception": false,
     "start_time": "2023-05-15T08:48:50.288530",
     "status": "completed"
    },
    "tags": []
   },
   "outputs": [],
   "source": [
    "dataset = sc.read_10x_h5(raw_input)\n",
    "dataset.var_names_make_unique()\n",
    "dataset.obs_names_make_unique()\n",
    "\n",
    "dataset.layers[\"raw_counts\"] = dataset.X.copy()\n",
    "data_tod = dataset.layers[\"raw_counts\"].T.copy()\n",
    "\n",
    "dataset"
   ]
  },
  {
   "cell_type": "code",
   "execution_count": null,
   "id": "af9f5892-ed31-42a6-991b-4e096f582cef",
   "metadata": {
    "execution": {
     "iopub.execute_input": "2023-05-15T08:48:50.597748Z",
     "iopub.status.busy": "2023-05-15T08:48:50.597542Z",
     "iopub.status.idle": "2023-05-15T08:48:50.609512Z",
     "shell.execute_reply": "2023-05-15T08:48:50.609078Z"
    },
    "papermill": {
     "duration": 0.016154,
     "end_time": "2023-05-15T08:48:50.610532",
     "exception": false,
     "start_time": "2023-05-15T08:48:50.594378",
     "status": "completed"
    },
    "tags": []
   },
   "outputs": [],
   "source": [
    "sce = dataset.copy()"
   ]
  },
  {
   "cell_type": "code",
   "execution_count": null,
   "id": "d03f2caf-8e74-430e-b045-0ab80401d165",
   "metadata": {
    "execution": {
     "iopub.execute_input": "2023-05-15T08:48:50.616681Z",
     "iopub.status.busy": "2023-05-15T08:48:50.616456Z",
     "iopub.status.idle": "2023-05-15T08:49:20.904003Z",
     "shell.execute_reply": "2023-05-15T08:49:20.903408Z"
    },
    "papermill": {
     "duration": 30.291916,
     "end_time": "2023-05-15T08:49:20.905257",
     "exception": false,
     "start_time": "2023-05-15T08:48:50.613341",
     "status": "completed"
    },
    "tags": []
   },
   "outputs": [],
   "source": [
    "%%R -i sce -o empty_drop_output\n",
    "set.seed(187)\n",
    "empty_drop_output <- emptyDrops(assay(sce))"
   ]
  },
  {
   "cell_type": "code",
   "execution_count": null,
   "id": "2a34a54b-3ae2-44d6-8679-8769228c5b66",
   "metadata": {
    "execution": {
     "iopub.execute_input": "2023-05-15T08:49:20.929418Z",
     "iopub.status.busy": "2023-05-15T08:49:20.929232Z",
     "iopub.status.idle": "2023-05-15T08:49:20.936784Z",
     "shell.execute_reply": "2023-05-15T08:49:20.936463Z"
    },
    "papermill": {
     "duration": 0.01168,
     "end_time": "2023-05-15T08:49:20.937566",
     "exception": false,
     "start_time": "2023-05-15T08:49:20.925886",
     "status": "completed"
    },
    "tags": []
   },
   "outputs": [],
   "source": [
    "non_empty_barcodes = empty_drop_output[empty_drop_output[\"FDR\"] < 0.001].index\n",
    "dataset = dataset[dataset.obs.index.isin(non_empty_barcodes), :]\n",
    "dataset"
   ]
  },
  {
   "cell_type": "code",
   "execution_count": null,
   "id": "016a91e5-1bef-46fb-b91e-4fb9a6870c44",
   "metadata": {
    "execution": {
     "iopub.execute_input": "2023-05-15T08:49:20.943340Z",
     "iopub.status.busy": "2023-05-15T08:49:20.943207Z",
     "iopub.status.idle": "2023-05-15T08:49:23.197473Z",
     "shell.execute_reply": "2023-05-15T08:49:23.196957Z"
    },
    "papermill": {
     "duration": 2.258654,
     "end_time": "2023-05-15T08:49:23.198783",
     "exception": false,
     "start_time": "2023-05-15T08:49:20.940129",
     "status": "completed"
    },
    "tags": []
   },
   "outputs": [],
   "source": [
    "rna_assay = dataset.copy()\n",
    "sc.pp.normalize_per_cell(rna_assay)\n",
    "sc.pp.log1p(rna_assay)\n",
    "sc.pp.pca(rna_assay)\n",
    "sc.pp.neighbors(rna_assay)\n",
    "sc.tl.leiden(rna_assay, key_added=\"soupx_groups\")\n",
    "\n",
    "soupx_groups = rna_assay.obs[\"soupx_groups\"]\n",
    "\n",
    "del rna_assay\n",
    "\n",
    "genes = dataset.var_names\n",
    "cells = dataset.obs_names\n",
    "data = dataset.X.T.copy()"
   ]
  },
  {
   "cell_type": "code",
   "execution_count": null,
   "id": "9db4ea1f-1580-4f43-a3f0-86002397cd98",
   "metadata": {
    "execution": {
     "iopub.execute_input": "2023-05-15T08:49:23.205735Z",
     "iopub.status.busy": "2023-05-15T08:49:23.205512Z",
     "iopub.status.idle": "2023-05-15T08:49:27.863336Z",
     "shell.execute_reply": "2023-05-15T08:49:27.862740Z"
    },
    "papermill": {
     "duration": 4.662726,
     "end_time": "2023-05-15T08:49:27.864737",
     "exception": false,
     "start_time": "2023-05-15T08:49:23.202011",
     "status": "completed"
    },
    "tags": []
   },
   "outputs": [],
   "source": [
    "%%R -i data -i data_tod -i genes -i cells -i soupx_groups -o out \n",
    "set.seed(187)\n",
    "# specify row and column names of data\n",
    "rownames(data) = genes\n",
    "colnames(data) = cells\n",
    "# ensure correct sparse format for table of counts and table of droplets\n",
    "data <- as(data, \"sparseMatrix\")\n",
    "data_tod <- as(data_tod, \"sparseMatrix\")\n",
    "\n",
    "# Generate SoupChannel Object for SoupX \n",
    "sc = SoupChannel(data_tod, data, calcSoupProfile = FALSE)\n",
    "\n",
    "# Add extra meta data to the SoupChannel object\n",
    "soupProf = data.frame(row.names = rownames(data),\n",
    "                      est = rowSums(data)/sum(data),\n",
    "                      counts = rowSums(data))\n",
    "sc = setSoupProfile(sc, soupProf)\n",
    "# Set cluster information in SoupChannel\n",
    "sc = setClusters(sc, soupx_groups)\n",
    "\n",
    "# Estimate contamination fraction\n",
    "sc  = autoEstCont(sc, doPlot=FALSE, forceAccept = TRUE)\n",
    "# Infer corrected table of counts and rount to integer\n",
    "out = adjustCounts(sc, roundToInt = TRUE)"
   ]
  },
  {
   "cell_type": "code",
   "execution_count": null,
   "id": "32555d5e-5fa3-46dd-a4e0-ddc96ea265e2",
   "metadata": {
    "execution": {
     "iopub.execute_input": "2023-05-15T08:49:27.874744Z",
     "iopub.status.busy": "2023-05-15T08:49:27.874590Z",
     "iopub.status.idle": "2023-05-15T08:49:27.885268Z",
     "shell.execute_reply": "2023-05-15T08:49:27.884844Z"
    },
    "papermill": {
     "duration": 0.015148,
     "end_time": "2023-05-15T08:49:27.886400",
     "exception": false,
     "start_time": "2023-05-15T08:49:27.871252",
     "status": "completed"
    },
    "tags": []
   },
   "outputs": [],
   "source": [
    "dataset.layers[\"soupX_counts\"] = out.T\n",
    "dataset.X = dataset.layers[\"soupX_counts\"].copy()"
   ]
  },
  {
   "cell_type": "code",
   "execution_count": null,
   "id": "e27da7df-e094-4d2a-9109-5a363e012175",
   "metadata": {
    "execution": {
     "iopub.execute_input": "2023-05-15T08:49:27.893113Z",
     "iopub.status.busy": "2023-05-15T08:49:27.892928Z",
     "iopub.status.idle": "2023-05-15T08:49:27.953647Z",
     "shell.execute_reply": "2023-05-15T08:49:27.953292Z"
    },
    "papermill": {
     "duration": 0.065093,
     "end_time": "2023-05-15T08:49:27.954558",
     "exception": false,
     "start_time": "2023-05-15T08:49:27.889465",
     "status": "completed"
    },
    "tags": []
   },
   "outputs": [],
   "source": [
    "data_mat = dataset.X.T"
   ]
  },
  {
   "cell_type": "code",
   "execution_count": null,
   "id": "80a993b1-5ccb-4697-9187-1beb7ab8aff9",
   "metadata": {
    "execution": {
     "iopub.execute_input": "2023-05-15T08:49:27.960833Z",
     "iopub.status.busy": "2023-05-15T08:49:27.960671Z",
     "iopub.status.idle": "2023-05-15T08:49:42.113012Z",
     "shell.execute_reply": "2023-05-15T08:49:42.112415Z"
    },
    "papermill": {
     "duration": 14.156975,
     "end_time": "2023-05-15T08:49:42.114353",
     "exception": false,
     "start_time": "2023-05-15T08:49:27.957378",
     "status": "completed"
    },
    "tags": []
   },
   "outputs": [],
   "source": [
    "%%R -i data_mat -o droplet_class\n",
    "\n",
    "set.seed(187)\n",
    "sce = scDblFinder(\n",
    "    SingleCellExperiment(\n",
    "        list(counts=data_mat),\n",
    "    ) \n",
    ")\n",
    "droplet_class = sce$scDblFinder.class"
   ]
  },
  {
   "cell_type": "code",
   "execution_count": null,
   "id": "d4dd6e9d-fcf2-41fc-8457-c8e0a3cb2c71",
   "metadata": {
    "execution": {
     "iopub.execute_input": "2023-05-15T08:49:42.125242Z",
     "iopub.status.busy": "2023-05-15T08:49:42.125065Z",
     "iopub.status.idle": "2023-05-15T08:49:42.130240Z",
     "shell.execute_reply": "2023-05-15T08:49:42.129930Z"
    },
    "papermill": {
     "duration": 0.009864,
     "end_time": "2023-05-15T08:49:42.131006",
     "exception": false,
     "start_time": "2023-05-15T08:49:42.121142",
     "status": "completed"
    },
    "tags": []
   },
   "outputs": [],
   "source": [
    "dataset.obs[\"scDblFinder_class\"] = droplet_class\n",
    "dataset.obs.scDblFinder_class.value_counts()\n",
    "dataset"
   ]
  },
  {
   "cell_type": "code",
   "execution_count": null,
   "id": "28c95014-2d6c-477f-95cb-9f9f0507520c",
   "metadata": {
    "execution": {
     "iopub.execute_input": "2023-05-15T08:49:42.137196Z",
     "iopub.status.busy": "2023-05-15T08:49:42.137043Z",
     "iopub.status.idle": "2023-05-15T08:49:42.154199Z",
     "shell.execute_reply": "2023-05-15T08:49:42.153867Z"
    },
    "papermill": {
     "duration": 0.021286,
     "end_time": "2023-05-15T08:49:42.155100",
     "exception": false,
     "start_time": "2023-05-15T08:49:42.133814",
     "status": "completed"
    },
    "tags": []
   },
   "outputs": [],
   "source": [
    "dataset = dataset[dataset.obs[\"scDblFinder_class\"] == 1]"
   ]
  },
  {
   "cell_type": "code",
   "execution_count": null,
   "id": "3e22f9e0-bfcb-416c-a151-a9bca3bec3b9",
   "metadata": {
    "execution": {
     "iopub.execute_input": "2023-05-15T08:49:42.161510Z",
     "iopub.status.busy": "2023-05-15T08:49:42.161357Z",
     "iopub.status.idle": "2023-05-15T08:49:42.220382Z",
     "shell.execute_reply": "2023-05-15T08:49:42.219950Z"
    },
    "papermill": {
     "duration": 0.063235,
     "end_time": "2023-05-15T08:49:42.221242",
     "exception": false,
     "start_time": "2023-05-15T08:49:42.158007",
     "status": "completed"
    },
    "tags": []
   },
   "outputs": [],
   "source": [
    "# mitochondrial genes\n",
    "dataset.var[\"mt\"] = dataset.var_names.str.startswith(\"MT-\")\n",
    "# ribosomal genes\n",
    "dataset.var[\"ribo\"] = dataset.var_names.str.startswith((\"RPS\", \"RPL\"))\n",
    "# hemoglobin genes.\n",
    "dataset.var[\"hb\"] = dataset.var_names.str.contains((\"^HB[^(P)]\"))\n",
    "\n",
    "sc.pp.calculate_qc_metrics(dataset,\n",
    "                           qc_vars=['mt', 'ribo', 'hb'],\n",
    "                           percent_top=None,\n",
    "                           log1p=False,\n",
    "                           inplace=True)\n",
    "dataset"
   ]
  },
  {
   "cell_type": "code",
   "execution_count": null,
   "id": "34deee79-4043-428f-8575-aa57b45f6369",
   "metadata": {
    "execution": {
     "iopub.execute_input": "2023-05-15T08:49:42.228529Z",
     "iopub.status.busy": "2023-05-15T08:49:42.228388Z",
     "iopub.status.idle": "2023-05-15T08:49:42.659117Z",
     "shell.execute_reply": "2023-05-15T08:49:42.658687Z"
    },
    "papermill": {
     "duration": 0.435212,
     "end_time": "2023-05-15T08:49:42.660034",
     "exception": false,
     "start_time": "2023-05-15T08:49:42.224822",
     "status": "completed"
    },
    "tags": []
   },
   "outputs": [],
   "source": [
    "fig, ax = plt.subplots(ncols = 4, figsize = (16,4))\n",
    "axis = sc.pl.violin(dataset, \"n_genes_by_counts\", jitter = 0.4, ax = ax[0], show = False)\n",
    "axis.grid(False)\n",
    "axis.set_title(\"Unique Genes per cell\")\n",
    "axis.tick_params(axis = \"x\", bottom =False, labelbottom =False)\n",
    "axis.set_ylabel(\"# genes\")\n",
    "axis.axhline(y = 100, color = \"black\", label = \"cutoff\")\n",
    "axis.legend(fontsize = 14, loc = \"upper right\")\n",
    "\n",
    "axis = sc.pl.violin(dataset, \"pct_counts_mt\", jitter = 0.4, ax = ax[1], show = False)\n",
    "axis.grid(False)\n",
    "axis.set_title(\"Mitochondrial Fraction\")\n",
    "axis.tick_params(axis = \"x\", bottom =False, labelbottom =False)\n",
    "axis.set_ylabel(\"% mitochondrial genes\")\n",
    "axis.axhline(y = 10, color = \"black\", label = \"cutoff\")\n",
    "axis.legend(fontsize = 14, loc = \"upper right\")\n",
    "\n",
    "axis = sc.pl.violin(dataset, \"pct_counts_hb\", jitter = 0.4, ax = ax[2], show = False, size =2)\n",
    "axis.grid(False)\n",
    "axis.set_title(\"Hemoglobin Fraction\")\n",
    "axis.tick_params(axis = \"x\", bottom =False, labelbottom =False)\n",
    "axis.set_ylabel(\"% hemoglobin genes\")\n",
    "axis.axhline(y = 3, color = \"black\", label = \"cutoff\")\n",
    "axis.legend(fontsize = 14, loc = \"upper right\")\n",
    "#axis.set_ylim(0,5)\n",
    "\n",
    "axis = sc.pl.violin(dataset, \"pct_counts_ribo\", jitter = 0.4, ax = ax[3], show = False)\n",
    "axis.grid(False)\n",
    "axis.set_title(\"Ribosomal Fraction\")\n",
    "axis.tick_params(axis = \"x\", bottom =False, labelbottom =False)\n",
    "axis.set_ylabel(\"% ribosome genes\")\n",
    "\n",
    "plt.tight_layout()\n",
    "#plt.savefig(f\"{outputDir}08_gene_based_filtering.pdf\", dpi = 300)\n",
    "plt.show()\n",
    "\n"
   ]
  },
  {
   "cell_type": "code",
   "execution_count": null,
   "id": "d7ade754-843e-4840-8707-426613d8c0c5",
   "metadata": {
    "execution": {
     "iopub.execute_input": "2023-05-15T08:49:42.668750Z",
     "iopub.status.busy": "2023-05-15T08:49:42.668572Z",
     "iopub.status.idle": "2023-05-15T08:49:42.678127Z",
     "shell.execute_reply": "2023-05-15T08:49:42.677803Z"
    },
    "papermill": {
     "duration": 0.01478,
     "end_time": "2023-05-15T08:49:42.678874",
     "exception": false,
     "start_time": "2023-05-15T08:49:42.664094",
     "status": "completed"
    },
    "tags": []
   },
   "outputs": [],
   "source": [
    "dataset = dataset[dataset.obs.pct_counts_mt < 10, :]\n",
    "dataset = dataset[dataset.obs.n_genes_by_counts > 100, :]\n",
    "dataset = dataset[dataset.obs.pct_counts_hb < 3, :]\n",
    "dataset"
   ]
  },
  {
   "cell_type": "code",
   "execution_count": null,
   "id": "1941fa36-e865-4500-b586-f7a32d142c9b",
   "metadata": {
    "execution": {
     "iopub.execute_input": "2023-05-15T08:49:42.687515Z",
     "iopub.status.busy": "2023-05-15T08:49:42.687347Z",
     "iopub.status.idle": "2023-05-15T08:49:42.690515Z",
     "shell.execute_reply": "2023-05-15T08:49:42.690203Z"
    },
    "papermill": {
     "duration": 0.00838,
     "end_time": "2023-05-15T08:49:42.691277",
     "exception": false,
     "start_time": "2023-05-15T08:49:42.682897",
     "status": "completed"
    },
    "tags": []
   },
   "outputs": [],
   "source": [
    "metadata.columns"
   ]
  },
  {
   "cell_type": "code",
   "execution_count": null,
   "id": "2e0ff8c3-2aa9-4a01-9b88-5912a6734447",
   "metadata": {
    "execution": {
     "iopub.execute_input": "2023-05-15T08:49:42.699744Z",
     "iopub.status.busy": "2023-05-15T08:49:42.699588Z",
     "iopub.status.idle": "2023-05-15T08:49:42.720287Z",
     "shell.execute_reply": "2023-05-15T08:49:42.719884Z"
    },
    "papermill": {
     "duration": 0.026154,
     "end_time": "2023-05-15T08:49:42.721410",
     "exception": false,
     "start_time": "2023-05-15T08:49:42.695256",
     "status": "completed"
    },
    "tags": []
   },
   "outputs": [],
   "source": [
    "for col in metadata.columns:\n",
    "    dataset.obs[col] = metadata.loc[metadata[\"Run\"] == sample_name, col].to_list()[0]"
   ]
  },
  {
   "cell_type": "code",
   "execution_count": null,
   "id": "b84578d3-d63e-419c-a272-a0b8317d05ab",
   "metadata": {
    "execution": {
     "iopub.execute_input": "2023-05-15T08:49:42.730465Z",
     "iopub.status.busy": "2023-05-15T08:49:42.730259Z",
     "iopub.status.idle": "2023-05-15T08:49:43.283921Z",
     "shell.execute_reply": "2023-05-15T08:49:43.283458Z"
    },
    "papermill": {
     "duration": 0.559422,
     "end_time": "2023-05-15T08:49:43.285217",
     "exception": false,
     "start_time": "2023-05-15T08:49:42.725795",
     "status": "completed"
    },
    "tags": []
   },
   "outputs": [],
   "source": [
    "dataset.write(f\"../../int_data/{sample_name}_qc.h5ad\")"
   ]
  },
  {
   "cell_type": "code",
   "execution_count": null,
   "id": "501b33a0-432d-415f-ae82-50723484b85d",
   "metadata": {
    "execution": {
     "iopub.execute_input": "2023-05-15T08:49:43.294637Z",
     "iopub.status.busy": "2023-05-15T08:49:43.294413Z",
     "iopub.status.idle": "2023-05-15T08:49:43.297462Z",
     "shell.execute_reply": "2023-05-15T08:49:43.297124Z"
    },
    "papermill": {
     "duration": 0.008516,
     "end_time": "2023-05-15T08:49:43.298268",
     "exception": false,
     "start_time": "2023-05-15T08:49:43.289752",
     "status": "completed"
    },
    "tags": []
   },
   "outputs": [],
   "source": [
    "dataset"
   ]
  }
 ],
 "metadata": {
  "kernelspec": {
   "display_name": "py_R",
   "language": "python",
   "name": "python_r"
  },
  "language_info": {
   "codemirror_mode": {
    "name": "ipython",
    "version": 3
   },
   "file_extension": ".py",
   "mimetype": "text/x-python",
   "name": "python",
   "nbconvert_exporter": "python",
   "pygments_lexer": "ipython3",
   "version": "3.10.9"
  },
  "papermill": {
   "default_parameters": {},
   "duration": 71.297244,
   "end_time": "2023-05-15T08:49:44.720092",
   "environment_variables": {},
   "exception": null,
   "input_path": "template.ipynb",
   "output_path": "SRR13329115.ipynb",
   "parameters": {
    "sample_name": "SRR13329115"
   },
   "start_time": "2023-05-15T08:48:33.422848",
   "version": "2.4.0"
  }
 },
 "nbformat": 4,
 "nbformat_minor": 5
}
