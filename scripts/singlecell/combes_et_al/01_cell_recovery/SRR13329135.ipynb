{
 "cells": [
  {
   "cell_type": "code",
   "execution_count": null,
   "id": "4c0f2fa8-5232-4f47-a7ec-6c9bbabe50e2",
   "metadata": {
    "execution": {
     "iopub.execute_input": "2023-05-15T08:34:34.943845Z",
     "iopub.status.busy": "2023-05-15T08:34:34.943715Z",
     "iopub.status.idle": "2023-05-15T08:34:34.947920Z",
     "shell.execute_reply": "2023-05-15T08:34:34.947601Z"
    },
    "papermill": {
     "duration": 0.008184,
     "end_time": "2023-05-15T08:34:34.948644",
     "exception": false,
     "start_time": "2023-05-15T08:34:34.940460",
     "status": "completed"
    },
    "tags": [
     "parameters"
    ]
   },
   "outputs": [],
   "source": [
    "sample_name = \"SRR13329143\""
   ]
  },
  {
   "cell_type": "code",
   "execution_count": null,
   "id": "ea2393a0",
   "metadata": {
    "execution": {
     "iopub.execute_input": "2023-05-15T08:34:34.953735Z",
     "iopub.status.busy": "2023-05-15T08:34:34.953508Z",
     "iopub.status.idle": "2023-05-15T08:34:34.956737Z",
     "shell.execute_reply": "2023-05-15T08:34:34.956421Z"
    },
    "papermill": {
     "duration": 0.006482,
     "end_time": "2023-05-15T08:34:34.957463",
     "exception": false,
     "start_time": "2023-05-15T08:34:34.950981",
     "status": "completed"
    },
    "tags": [
     "injected-parameters"
    ]
   },
   "outputs": [],
   "source": [
    "# Parameters\n",
    "sample_name = \"SRR13329135\"\n"
   ]
  },
  {
   "cell_type": "code",
   "execution_count": null,
   "id": "f87ed95b-2b67-4a5a-8fe2-47359b1dd2a9",
   "metadata": {
    "execution": {
     "iopub.execute_input": "2023-05-15T08:34:34.962507Z",
     "iopub.status.busy": "2023-05-15T08:34:34.962263Z",
     "iopub.status.idle": "2023-05-15T08:34:34.964574Z",
     "shell.execute_reply": "2023-05-15T08:34:34.964280Z"
    },
    "papermill": {
     "duration": 0.005609,
     "end_time": "2023-05-15T08:34:34.965281",
     "exception": false,
     "start_time": "2023-05-15T08:34:34.959672",
     "status": "completed"
    },
    "tags": []
   },
   "outputs": [],
   "source": [
    "import warnings\n",
    "warnings.simplefilter(action='ignore', category=FutureWarning)\n",
    "warnings.simplefilter(action='ignore', category=UserWarning)"
   ]
  },
  {
   "cell_type": "code",
   "execution_count": null,
   "id": "85161f19-b2c5-490b-8cab-c2cf9653b304",
   "metadata": {
    "execution": {
     "iopub.execute_input": "2023-05-15T08:34:34.970374Z",
     "iopub.status.busy": "2023-05-15T08:34:34.970175Z",
     "iopub.status.idle": "2023-05-15T08:34:58.943981Z",
     "shell.execute_reply": "2023-05-15T08:34:58.943521Z"
    },
    "papermill": {
     "duration": 23.977605,
     "end_time": "2023-05-15T08:34:58.945171",
     "exception": false,
     "start_time": "2023-05-15T08:34:34.967566",
     "status": "completed"
    },
    "tags": []
   },
   "outputs": [],
   "source": [
    "import gc\n",
    "import scanpy as sc\n",
    "import muon as mu\n",
    "import seaborn as sns\n",
    "import os\n",
    "import pandas as pd\n",
    "from matplotlib import pyplot as plt\n",
    "\n",
    "os.environ['R_HOME'] = '/gpfs/bwfor/work/ws/hd_fu399-conda/conda/envs/python_R/lib/R/'\n",
    "import anndata2ri\n",
    "import logging\n",
    "\n",
    "import rpy2.rinterface_lib.callbacks as rcb\n",
    "import rpy2.robjects as ro\n",
    "\n",
    "rcb.logger.setLevel(logging.ERROR)\n",
    "ro.pandas2ri.activate()\n",
    "anndata2ri.activate()\n",
    "\n",
    "%load_ext rpy2.ipython"
   ]
  },
  {
   "cell_type": "code",
   "execution_count": null,
   "id": "fc4ade78-b728-4704-9db6-45fbaab62ba1",
   "metadata": {
    "execution": {
     "iopub.execute_input": "2023-05-15T08:34:58.955048Z",
     "iopub.status.busy": "2023-05-15T08:34:58.954742Z",
     "iopub.status.idle": "2023-05-15T08:35:13.287447Z",
     "shell.execute_reply": "2023-05-15T08:35:13.286940Z"
    },
    "papermill": {
     "duration": 14.337249,
     "end_time": "2023-05-15T08:35:13.288770",
     "exception": false,
     "start_time": "2023-05-15T08:34:58.951521",
     "status": "completed"
    },
    "tags": []
   },
   "outputs": [],
   "source": [
    "%%R\n",
    "library(SoupX)\n",
    "library(Seurat)\n",
    "library(scater)\n",
    "library(scDblFinder)\n",
    "library(BiocParallel)\n",
    "library(MuDataSeurat)\n",
    "library(DropletUtils)"
   ]
  },
  {
   "cell_type": "code",
   "execution_count": null,
   "id": "f7424d90-7690-4290-8651-1db3f9df3a35",
   "metadata": {
    "execution": {
     "iopub.execute_input": "2023-05-15T08:35:13.298679Z",
     "iopub.status.busy": "2023-05-15T08:35:13.298491Z",
     "iopub.status.idle": "2023-05-15T08:35:13.304424Z",
     "shell.execute_reply": "2023-05-15T08:35:13.304098Z"
    },
    "papermill": {
     "duration": 0.010718,
     "end_time": "2023-05-15T08:35:13.305410",
     "exception": false,
     "start_time": "2023-05-15T08:35:13.294692",
     "status": "completed"
    },
    "tags": []
   },
   "outputs": [],
   "source": [
    "metadata = pd.read_csv(\"../../combes_metadata.txt\")"
   ]
  },
  {
   "cell_type": "code",
   "execution_count": null,
   "id": "2574ecf1-bad4-4c33-8f3f-718a358727ab",
   "metadata": {
    "execution": {
     "iopub.execute_input": "2023-05-15T08:35:13.311169Z",
     "iopub.status.busy": "2023-05-15T08:35:13.311033Z",
     "iopub.status.idle": "2023-05-15T08:35:13.313130Z",
     "shell.execute_reply": "2023-05-15T08:35:13.312829Z"
    },
    "papermill": {
     "duration": 0.005989,
     "end_time": "2023-05-15T08:35:13.313972",
     "exception": false,
     "start_time": "2023-05-15T08:35:13.307983",
     "status": "completed"
    },
    "tags": []
   },
   "outputs": [],
   "source": [
    "raw_input = f\"/home/hd/hd_hd/hd_fu399/sds-hd/sd21k006/scRNAseq/revision_natcomm/combes_et_al/fetchngs/results/fastq/{sample_name}/{sample_name}/outs/raw_feature_bc_matrix.h5\""
   ]
  },
  {
   "cell_type": "code",
   "execution_count": null,
   "id": "e266d388-1802-435c-93a5-90067358739c",
   "metadata": {
    "execution": {
     "iopub.execute_input": "2023-05-15T08:35:13.320108Z",
     "iopub.status.busy": "2023-05-15T08:35:13.319772Z",
     "iopub.status.idle": "2023-05-15T08:35:13.734563Z",
     "shell.execute_reply": "2023-05-15T08:35:13.734173Z"
    },
    "papermill": {
     "duration": 0.418967,
     "end_time": "2023-05-15T08:35:13.735482",
     "exception": false,
     "start_time": "2023-05-15T08:35:13.316515",
     "status": "completed"
    },
    "tags": []
   },
   "outputs": [],
   "source": [
    "dataset = sc.read_10x_h5(raw_input)\n",
    "dataset.var_names_make_unique()\n",
    "dataset.obs_names_make_unique()\n",
    "\n",
    "dataset.layers[\"raw_counts\"] = dataset.X.copy()\n",
    "data_tod = dataset.layers[\"raw_counts\"].T.copy()\n",
    "\n",
    "dataset"
   ]
  },
  {
   "cell_type": "code",
   "execution_count": null,
   "id": "af9f5892-ed31-42a6-991b-4e096f582cef",
   "metadata": {
    "execution": {
     "iopub.execute_input": "2023-05-15T08:35:13.742304Z",
     "iopub.status.busy": "2023-05-15T08:35:13.742120Z",
     "iopub.status.idle": "2023-05-15T08:35:13.772660Z",
     "shell.execute_reply": "2023-05-15T08:35:13.772174Z"
    },
    "papermill": {
     "duration": 0.035279,
     "end_time": "2023-05-15T08:35:13.773932",
     "exception": false,
     "start_time": "2023-05-15T08:35:13.738653",
     "status": "completed"
    },
    "tags": []
   },
   "outputs": [],
   "source": [
    "sce = dataset.copy()"
   ]
  },
  {
   "cell_type": "code",
   "execution_count": null,
   "id": "d03f2caf-8e74-430e-b045-0ab80401d165",
   "metadata": {
    "execution": {
     "iopub.execute_input": "2023-05-15T08:35:13.780505Z",
     "iopub.status.busy": "2023-05-15T08:35:13.780335Z",
     "iopub.status.idle": "2023-05-15T08:36:05.594953Z",
     "shell.execute_reply": "2023-05-15T08:36:05.594347Z"
    },
    "papermill": {
     "duration": 51.819334,
     "end_time": "2023-05-15T08:36:05.596351",
     "exception": false,
     "start_time": "2023-05-15T08:35:13.777017",
     "status": "completed"
    },
    "tags": []
   },
   "outputs": [],
   "source": [
    "%%R -i sce -o empty_drop_output\n",
    "set.seed(187)\n",
    "empty_drop_output <- emptyDrops(assay(sce))"
   ]
  },
  {
   "cell_type": "code",
   "execution_count": null,
   "id": "2a34a54b-3ae2-44d6-8679-8769228c5b66",
   "metadata": {
    "execution": {
     "iopub.execute_input": "2023-05-15T08:36:05.607022Z",
     "iopub.status.busy": "2023-05-15T08:36:05.606843Z",
     "iopub.status.idle": "2023-05-15T08:36:05.636491Z",
     "shell.execute_reply": "2023-05-15T08:36:05.636101Z"
    },
    "papermill": {
     "duration": 0.034089,
     "end_time": "2023-05-15T08:36:05.637410",
     "exception": false,
     "start_time": "2023-05-15T08:36:05.603321",
     "status": "completed"
    },
    "tags": []
   },
   "outputs": [],
   "source": [
    "non_empty_barcodes = empty_drop_output[empty_drop_output[\"FDR\"] < 0.001].index\n",
    "dataset = dataset[dataset.obs.index.isin(non_empty_barcodes), :]\n",
    "dataset"
   ]
  },
  {
   "cell_type": "code",
   "execution_count": null,
   "id": "016a91e5-1bef-46fb-b91e-4fb9a6870c44",
   "metadata": {
    "execution": {
     "iopub.execute_input": "2023-05-15T08:36:05.643761Z",
     "iopub.status.busy": "2023-05-15T08:36:05.643604Z",
     "iopub.status.idle": "2023-05-15T08:36:09.611887Z",
     "shell.execute_reply": "2023-05-15T08:36:09.611378Z"
    },
    "papermill": {
     "duration": 3.972866,
     "end_time": "2023-05-15T08:36:09.613167",
     "exception": false,
     "start_time": "2023-05-15T08:36:05.640301",
     "status": "completed"
    },
    "tags": []
   },
   "outputs": [],
   "source": [
    "rna_assay = dataset.copy()\n",
    "sc.pp.normalize_per_cell(rna_assay)\n",
    "sc.pp.log1p(rna_assay)\n",
    "sc.pp.pca(rna_assay)\n",
    "sc.pp.neighbors(rna_assay)\n",
    "sc.tl.leiden(rna_assay, key_added=\"soupx_groups\")\n",
    "\n",
    "soupx_groups = rna_assay.obs[\"soupx_groups\"]\n",
    "\n",
    "del rna_assay\n",
    "\n",
    "genes = dataset.var_names\n",
    "cells = dataset.obs_names\n",
    "data = dataset.X.T.copy()"
   ]
  },
  {
   "cell_type": "code",
   "execution_count": null,
   "id": "9db4ea1f-1580-4f43-a3f0-86002397cd98",
   "metadata": {
    "execution": {
     "iopub.execute_input": "2023-05-15T08:36:09.622166Z",
     "iopub.status.busy": "2023-05-15T08:36:09.621972Z",
     "iopub.status.idle": "2023-05-15T08:36:20.364933Z",
     "shell.execute_reply": "2023-05-15T08:36:20.364461Z"
    },
    "papermill": {
     "duration": 10.747784,
     "end_time": "2023-05-15T08:36:20.366189",
     "exception": false,
     "start_time": "2023-05-15T08:36:09.618405",
     "status": "completed"
    },
    "tags": []
   },
   "outputs": [],
   "source": [
    "%%R -i data -i data_tod -i genes -i cells -i soupx_groups -o out \n",
    "set.seed(187)\n",
    "# specify row and column names of data\n",
    "rownames(data) = genes\n",
    "colnames(data) = cells\n",
    "# ensure correct sparse format for table of counts and table of droplets\n",
    "data <- as(data, \"sparseMatrix\")\n",
    "data_tod <- as(data_tod, \"sparseMatrix\")\n",
    "\n",
    "# Generate SoupChannel Object for SoupX \n",
    "sc = SoupChannel(data_tod, data, calcSoupProfile = FALSE)\n",
    "\n",
    "# Add extra meta data to the SoupChannel object\n",
    "soupProf = data.frame(row.names = rownames(data),\n",
    "                      est = rowSums(data)/sum(data),\n",
    "                      counts = rowSums(data))\n",
    "sc = setSoupProfile(sc, soupProf)\n",
    "# Set cluster information in SoupChannel\n",
    "sc = setClusters(sc, soupx_groups)\n",
    "\n",
    "# Estimate contamination fraction\n",
    "sc  = autoEstCont(sc, doPlot=FALSE, forceAccept = TRUE)\n",
    "# Infer corrected table of counts and rount to integer\n",
    "out = adjustCounts(sc, roundToInt = TRUE)"
   ]
  },
  {
   "cell_type": "code",
   "execution_count": null,
   "id": "32555d5e-5fa3-46dd-a4e0-ddc96ea265e2",
   "metadata": {
    "execution": {
     "iopub.execute_input": "2023-05-15T08:36:20.377028Z",
     "iopub.status.busy": "2023-05-15T08:36:20.376853Z",
     "iopub.status.idle": "2023-05-15T08:36:20.396236Z",
     "shell.execute_reply": "2023-05-15T08:36:20.395815Z"
    },
    "papermill": {
     "duration": 0.024449,
     "end_time": "2023-05-15T08:36:20.397329",
     "exception": false,
     "start_time": "2023-05-15T08:36:20.372880",
     "status": "completed"
    },
    "tags": []
   },
   "outputs": [],
   "source": [
    "dataset.layers[\"soupX_counts\"] = out.T\n",
    "dataset.X = dataset.layers[\"soupX_counts\"].copy()"
   ]
  },
  {
   "cell_type": "code",
   "execution_count": null,
   "id": "e27da7df-e094-4d2a-9109-5a363e012175",
   "metadata": {
    "execution": {
     "iopub.execute_input": "2023-05-15T08:36:20.404277Z",
     "iopub.status.busy": "2023-05-15T08:36:20.404081Z",
     "iopub.status.idle": "2023-05-15T08:36:20.406589Z",
     "shell.execute_reply": "2023-05-15T08:36:20.406249Z"
    },
    "papermill": {
     "duration": 0.006775,
     "end_time": "2023-05-15T08:36:20.407371",
     "exception": false,
     "start_time": "2023-05-15T08:36:20.400596",
     "status": "completed"
    },
    "tags": []
   },
   "outputs": [],
   "source": [
    "data_mat = dataset.X.T"
   ]
  },
  {
   "cell_type": "code",
   "execution_count": null,
   "id": "80a993b1-5ccb-4697-9187-1beb7ab8aff9",
   "metadata": {
    "execution": {
     "iopub.execute_input": "2023-05-15T08:36:20.413904Z",
     "iopub.status.busy": "2023-05-15T08:36:20.413771Z",
     "iopub.status.idle": "2023-05-15T08:36:37.696199Z",
     "shell.execute_reply": "2023-05-15T08:36:37.695740Z"
    },
    "papermill": {
     "duration": 17.28712,
     "end_time": "2023-05-15T08:36:37.697417",
     "exception": false,
     "start_time": "2023-05-15T08:36:20.410297",
     "status": "completed"
    },
    "tags": []
   },
   "outputs": [],
   "source": [
    "%%R -i data_mat -o droplet_class\n",
    "\n",
    "set.seed(187)\n",
    "sce = scDblFinder(\n",
    "    SingleCellExperiment(\n",
    "        list(counts=data_mat),\n",
    "    ) \n",
    ")\n",
    "droplet_class = sce$scDblFinder.class"
   ]
  },
  {
   "cell_type": "code",
   "execution_count": null,
   "id": "d4dd6e9d-fcf2-41fc-8457-c8e0a3cb2c71",
   "metadata": {
    "execution": {
     "iopub.execute_input": "2023-05-15T08:36:37.708230Z",
     "iopub.status.busy": "2023-05-15T08:36:37.708071Z",
     "iopub.status.idle": "2023-05-15T08:36:37.712158Z",
     "shell.execute_reply": "2023-05-15T08:36:37.711831Z"
    },
    "papermill": {
     "duration": 0.008514,
     "end_time": "2023-05-15T08:36:37.712932",
     "exception": false,
     "start_time": "2023-05-15T08:36:37.704418",
     "status": "completed"
    },
    "tags": []
   },
   "outputs": [],
   "source": [
    "dataset.obs[\"scDblFinder_class\"] = droplet_class\n",
    "dataset.obs.scDblFinder_class.value_counts()\n",
    "dataset"
   ]
  },
  {
   "cell_type": "code",
   "execution_count": null,
   "id": "28c95014-2d6c-477f-95cb-9f9f0507520c",
   "metadata": {
    "execution": {
     "iopub.execute_input": "2023-05-15T08:36:37.719589Z",
     "iopub.status.busy": "2023-05-15T08:36:37.719394Z",
     "iopub.status.idle": "2023-05-15T08:36:37.722516Z",
     "shell.execute_reply": "2023-05-15T08:36:37.722200Z"
    },
    "papermill": {
     "duration": 0.00735,
     "end_time": "2023-05-15T08:36:37.723279",
     "exception": false,
     "start_time": "2023-05-15T08:36:37.715929",
     "status": "completed"
    },
    "tags": []
   },
   "outputs": [],
   "source": [
    "dataset = dataset[dataset.obs[\"scDblFinder_class\"] == 1]"
   ]
  },
  {
   "cell_type": "code",
   "execution_count": null,
   "id": "3e22f9e0-bfcb-416c-a151-a9bca3bec3b9",
   "metadata": {
    "execution": {
     "iopub.execute_input": "2023-05-15T08:36:37.729991Z",
     "iopub.status.busy": "2023-05-15T08:36:37.729716Z",
     "iopub.status.idle": "2023-05-15T08:36:37.835075Z",
     "shell.execute_reply": "2023-05-15T08:36:37.834619Z"
    },
    "papermill": {
     "duration": 0.109681,
     "end_time": "2023-05-15T08:36:37.835999",
     "exception": false,
     "start_time": "2023-05-15T08:36:37.726318",
     "status": "completed"
    },
    "tags": []
   },
   "outputs": [],
   "source": [
    "# mitochondrial genes\n",
    "dataset.var[\"mt\"] = dataset.var_names.str.startswith(\"MT-\")\n",
    "# ribosomal genes\n",
    "dataset.var[\"ribo\"] = dataset.var_names.str.startswith((\"RPS\", \"RPL\"))\n",
    "# hemoglobin genes.\n",
    "dataset.var[\"hb\"] = dataset.var_names.str.contains((\"^HB[^(P)]\"))\n",
    "\n",
    "sc.pp.calculate_qc_metrics(dataset,\n",
    "                           qc_vars=['mt', 'ribo', 'hb'],\n",
    "                           percent_top=None,\n",
    "                           log1p=False,\n",
    "                           inplace=True)\n",
    "dataset"
   ]
  },
  {
   "cell_type": "code",
   "execution_count": null,
   "id": "34deee79-4043-428f-8575-aa57b45f6369",
   "metadata": {
    "execution": {
     "iopub.execute_input": "2023-05-15T08:36:37.843501Z",
     "iopub.status.busy": "2023-05-15T08:36:37.843307Z",
     "iopub.status.idle": "2023-05-15T08:36:38.304066Z",
     "shell.execute_reply": "2023-05-15T08:36:38.303666Z"
    },
    "papermill": {
     "duration": 0.465408,
     "end_time": "2023-05-15T08:36:38.304949",
     "exception": false,
     "start_time": "2023-05-15T08:36:37.839541",
     "status": "completed"
    },
    "tags": []
   },
   "outputs": [],
   "source": [
    "fig, ax = plt.subplots(ncols = 4, figsize = (16,4))\n",
    "axis = sc.pl.violin(dataset, \"n_genes_by_counts\", jitter = 0.4, ax = ax[0], show = False)\n",
    "axis.grid(False)\n",
    "axis.set_title(\"Unique Genes per cell\")\n",
    "axis.tick_params(axis = \"x\", bottom =False, labelbottom =False)\n",
    "axis.set_ylabel(\"# genes\")\n",
    "axis.axhline(y = 100, color = \"black\", label = \"cutoff\")\n",
    "axis.legend(fontsize = 14, loc = \"upper right\")\n",
    "\n",
    "axis = sc.pl.violin(dataset, \"pct_counts_mt\", jitter = 0.4, ax = ax[1], show = False)\n",
    "axis.grid(False)\n",
    "axis.set_title(\"Mitochondrial Fraction\")\n",
    "axis.tick_params(axis = \"x\", bottom =False, labelbottom =False)\n",
    "axis.set_ylabel(\"% mitochondrial genes\")\n",
    "axis.axhline(y = 10, color = \"black\", label = \"cutoff\")\n",
    "axis.legend(fontsize = 14, loc = \"upper right\")\n",
    "\n",
    "axis = sc.pl.violin(dataset, \"pct_counts_hb\", jitter = 0.4, ax = ax[2], show = False, size =2)\n",
    "axis.grid(False)\n",
    "axis.set_title(\"Hemoglobin Fraction\")\n",
    "axis.tick_params(axis = \"x\", bottom =False, labelbottom =False)\n",
    "axis.set_ylabel(\"% hemoglobin genes\")\n",
    "axis.axhline(y = 3, color = \"black\", label = \"cutoff\")\n",
    "axis.legend(fontsize = 14, loc = \"upper right\")\n",
    "#axis.set_ylim(0,5)\n",
    "\n",
    "axis = sc.pl.violin(dataset, \"pct_counts_ribo\", jitter = 0.4, ax = ax[3], show = False)\n",
    "axis.grid(False)\n",
    "axis.set_title(\"Ribosomal Fraction\")\n",
    "axis.tick_params(axis = \"x\", bottom =False, labelbottom =False)\n",
    "axis.set_ylabel(\"% ribosome genes\")\n",
    "\n",
    "plt.tight_layout()\n",
    "#plt.savefig(f\"{outputDir}08_gene_based_filtering.pdf\", dpi = 300)\n",
    "plt.show()\n",
    "\n"
   ]
  },
  {
   "cell_type": "code",
   "execution_count": null,
   "id": "d7ade754-843e-4840-8707-426613d8c0c5",
   "metadata": {
    "execution": {
     "iopub.execute_input": "2023-05-15T08:36:38.314372Z",
     "iopub.status.busy": "2023-05-15T08:36:38.314176Z",
     "iopub.status.idle": "2023-05-15T08:36:38.323230Z",
     "shell.execute_reply": "2023-05-15T08:36:38.322915Z"
    },
    "papermill": {
     "duration": 0.014544,
     "end_time": "2023-05-15T08:36:38.324014",
     "exception": false,
     "start_time": "2023-05-15T08:36:38.309470",
     "status": "completed"
    },
    "tags": []
   },
   "outputs": [],
   "source": [
    "dataset = dataset[dataset.obs.pct_counts_mt < 10, :]\n",
    "dataset = dataset[dataset.obs.n_genes_by_counts > 100, :]\n",
    "dataset = dataset[dataset.obs.pct_counts_hb < 3, :]\n",
    "dataset"
   ]
  },
  {
   "cell_type": "code",
   "execution_count": null,
   "id": "1941fa36-e865-4500-b586-f7a32d142c9b",
   "metadata": {
    "execution": {
     "iopub.execute_input": "2023-05-15T08:36:38.333296Z",
     "iopub.status.busy": "2023-05-15T08:36:38.333065Z",
     "iopub.status.idle": "2023-05-15T08:36:38.335849Z",
     "shell.execute_reply": "2023-05-15T08:36:38.335548Z"
    },
    "papermill": {
     "duration": 0.008549,
     "end_time": "2023-05-15T08:36:38.336875",
     "exception": false,
     "start_time": "2023-05-15T08:36:38.328326",
     "status": "completed"
    },
    "tags": []
   },
   "outputs": [],
   "source": [
    "metadata.columns"
   ]
  },
  {
   "cell_type": "code",
   "execution_count": null,
   "id": "2e0ff8c3-2aa9-4a01-9b88-5912a6734447",
   "metadata": {
    "execution": {
     "iopub.execute_input": "2023-05-15T08:36:38.346117Z",
     "iopub.status.busy": "2023-05-15T08:36:38.345846Z",
     "iopub.status.idle": "2023-05-15T08:36:38.377380Z",
     "shell.execute_reply": "2023-05-15T08:36:38.376959Z"
    },
    "papermill": {
     "duration": 0.037421,
     "end_time": "2023-05-15T08:36:38.378553",
     "exception": false,
     "start_time": "2023-05-15T08:36:38.341132",
     "status": "completed"
    },
    "tags": []
   },
   "outputs": [],
   "source": [
    "for col in metadata.columns:\n",
    "    dataset.obs[col] = metadata.loc[metadata[\"Run\"] == sample_name, col].to_list()[0]"
   ]
  },
  {
   "cell_type": "code",
   "execution_count": null,
   "id": "b84578d3-d63e-419c-a272-a0b8317d05ab",
   "metadata": {
    "execution": {
     "iopub.execute_input": "2023-05-15T08:36:38.388368Z",
     "iopub.status.busy": "2023-05-15T08:36:38.388167Z",
     "iopub.status.idle": "2023-05-15T08:36:38.839959Z",
     "shell.execute_reply": "2023-05-15T08:36:38.839443Z"
    },
    "papermill": {
     "duration": 0.458078,
     "end_time": "2023-05-15T08:36:38.841342",
     "exception": false,
     "start_time": "2023-05-15T08:36:38.383264",
     "status": "completed"
    },
    "tags": []
   },
   "outputs": [],
   "source": [
    "dataset.write(f\"../../int_data/{sample_name}_qc.h5ad\")"
   ]
  },
  {
   "cell_type": "code",
   "execution_count": null,
   "id": "501b33a0-432d-415f-ae82-50723484b85d",
   "metadata": {
    "execution": {
     "iopub.execute_input": "2023-05-15T08:36:38.851249Z",
     "iopub.status.busy": "2023-05-15T08:36:38.851054Z",
     "iopub.status.idle": "2023-05-15T08:36:38.854163Z",
     "shell.execute_reply": "2023-05-15T08:36:38.853808Z"
    },
    "papermill": {
     "duration": 0.008789,
     "end_time": "2023-05-15T08:36:38.854993",
     "exception": false,
     "start_time": "2023-05-15T08:36:38.846204",
     "status": "completed"
    },
    "tags": []
   },
   "outputs": [],
   "source": [
    "dataset"
   ]
  }
 ],
 "metadata": {
  "kernelspec": {
   "display_name": "py_R",
   "language": "python",
   "name": "python_r"
  },
  "language_info": {
   "codemirror_mode": {
    "name": "ipython",
    "version": 3
   },
   "file_extension": ".py",
   "mimetype": "text/x-python",
   "name": "python",
   "nbconvert_exporter": "python",
   "pygments_lexer": "ipython3",
   "version": "3.10.9"
  },
  "papermill": {
   "default_parameters": {},
   "duration": 127.03965,
   "end_time": "2023-05-15T08:36:40.276749",
   "environment_variables": {},
   "exception": null,
   "input_path": "template.ipynb",
   "output_path": "SRR13329135.ipynb",
   "parameters": {
    "sample_name": "SRR13329135"
   },
   "start_time": "2023-05-15T08:34:33.237099",
   "version": "2.4.0"
  }
 },
 "nbformat": 4,
 "nbformat_minor": 5
}
