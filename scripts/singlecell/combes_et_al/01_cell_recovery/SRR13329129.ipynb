{
 "cells": [
  {
   "cell_type": "code",
   "execution_count": null,
   "id": "4c0f2fa8-5232-4f47-a7ec-6c9bbabe50e2",
   "metadata": {
    "execution": {
     "iopub.execute_input": "2023-05-15T08:54:25.644342Z",
     "iopub.status.busy": "2023-05-15T08:54:25.644187Z",
     "iopub.status.idle": "2023-05-15T08:54:25.648498Z",
     "shell.execute_reply": "2023-05-15T08:54:25.648188Z"
    },
    "papermill": {
     "duration": 0.008703,
     "end_time": "2023-05-15T08:54:25.649272",
     "exception": false,
     "start_time": "2023-05-15T08:54:25.640569",
     "status": "completed"
    },
    "tags": [
     "parameters"
    ]
   },
   "outputs": [],
   "source": [
    "sample_name = \"SRR13329143\""
   ]
  },
  {
   "cell_type": "code",
   "execution_count": null,
   "id": "c7de3e14",
   "metadata": {
    "execution": {
     "iopub.execute_input": "2023-05-15T08:54:25.654649Z",
     "iopub.status.busy": "2023-05-15T08:54:25.654355Z",
     "iopub.status.idle": "2023-05-15T08:54:25.656306Z",
     "shell.execute_reply": "2023-05-15T08:54:25.656013Z"
    },
    "papermill": {
     "duration": 0.005385,
     "end_time": "2023-05-15T08:54:25.657045",
     "exception": false,
     "start_time": "2023-05-15T08:54:25.651660",
     "status": "completed"
    },
    "tags": [
     "injected-parameters"
    ]
   },
   "outputs": [],
   "source": [
    "# Parameters\n",
    "sample_name = \"SRR13329129\"\n"
   ]
  },
  {
   "cell_type": "code",
   "execution_count": null,
   "id": "f87ed95b-2b67-4a5a-8fe2-47359b1dd2a9",
   "metadata": {
    "execution": {
     "iopub.execute_input": "2023-05-15T08:54:25.661951Z",
     "iopub.status.busy": "2023-05-15T08:54:25.661802Z",
     "iopub.status.idle": "2023-05-15T08:54:25.663975Z",
     "shell.execute_reply": "2023-05-15T08:54:25.663683Z"
    },
    "papermill": {
     "duration": 0.005428,
     "end_time": "2023-05-15T08:54:25.664709",
     "exception": false,
     "start_time": "2023-05-15T08:54:25.659281",
     "status": "completed"
    },
    "tags": []
   },
   "outputs": [],
   "source": [
    "import warnings\n",
    "warnings.simplefilter(action='ignore', category=FutureWarning)\n",
    "warnings.simplefilter(action='ignore', category=UserWarning)"
   ]
  },
  {
   "cell_type": "code",
   "execution_count": null,
   "id": "85161f19-b2c5-490b-8cab-c2cf9653b304",
   "metadata": {
    "execution": {
     "iopub.execute_input": "2023-05-15T08:54:25.669737Z",
     "iopub.status.busy": "2023-05-15T08:54:25.669524Z",
     "iopub.status.idle": "2023-05-15T08:54:30.596320Z",
     "shell.execute_reply": "2023-05-15T08:54:30.595870Z"
    },
    "papermill": {
     "duration": 4.93054,
     "end_time": "2023-05-15T08:54:30.597487",
     "exception": false,
     "start_time": "2023-05-15T08:54:25.666947",
     "status": "completed"
    },
    "tags": []
   },
   "outputs": [],
   "source": [
    "import gc\n",
    "import scanpy as sc\n",
    "import muon as mu\n",
    "import seaborn as sns\n",
    "import os\n",
    "import pandas as pd\n",
    "from matplotlib import pyplot as plt\n",
    "\n",
    "os.environ['R_HOME'] = '/gpfs/bwfor/work/ws/hd_fu399-conda/conda/envs/python_R/lib/R/'\n",
    "import anndata2ri\n",
    "import logging\n",
    "\n",
    "import rpy2.rinterface_lib.callbacks as rcb\n",
    "import rpy2.robjects as ro\n",
    "\n",
    "rcb.logger.setLevel(logging.ERROR)\n",
    "ro.pandas2ri.activate()\n",
    "anndata2ri.activate()\n",
    "\n",
    "%load_ext rpy2.ipython"
   ]
  },
  {
   "cell_type": "code",
   "execution_count": null,
   "id": "fc4ade78-b728-4704-9db6-45fbaab62ba1",
   "metadata": {
    "execution": {
     "iopub.execute_input": "2023-05-15T08:54:30.615723Z",
     "iopub.status.busy": "2023-05-15T08:54:30.615398Z",
     "iopub.status.idle": "2023-05-15T08:55:05.618572Z",
     "shell.execute_reply": "2023-05-15T08:55:05.618024Z"
    },
    "papermill": {
     "duration": 35.007322,
     "end_time": "2023-05-15T08:55:05.619842",
     "exception": false,
     "start_time": "2023-05-15T08:54:30.612520",
     "status": "completed"
    },
    "tags": []
   },
   "outputs": [],
   "source": [
    "%%R\n",
    "library(SoupX)\n",
    "library(Seurat)\n",
    "library(scater)\n",
    "library(scDblFinder)\n",
    "library(BiocParallel)\n",
    "library(MuDataSeurat)\n",
    "library(DropletUtils)"
   ]
  },
  {
   "cell_type": "code",
   "execution_count": null,
   "id": "f7424d90-7690-4290-8651-1db3f9df3a35",
   "metadata": {
    "execution": {
     "iopub.execute_input": "2023-05-15T08:55:05.628712Z",
     "iopub.status.busy": "2023-05-15T08:55:05.628527Z",
     "iopub.status.idle": "2023-05-15T08:55:05.634232Z",
     "shell.execute_reply": "2023-05-15T08:55:05.633920Z"
    },
    "papermill": {
     "duration": 0.010143,
     "end_time": "2023-05-15T08:55:05.635092",
     "exception": false,
     "start_time": "2023-05-15T08:55:05.624949",
     "status": "completed"
    },
    "tags": []
   },
   "outputs": [],
   "source": [
    "metadata = pd.read_csv(\"../../combes_metadata.txt\")"
   ]
  },
  {
   "cell_type": "code",
   "execution_count": null,
   "id": "2574ecf1-bad4-4c33-8f3f-718a358727ab",
   "metadata": {
    "execution": {
     "iopub.execute_input": "2023-05-15T08:55:05.640509Z",
     "iopub.status.busy": "2023-05-15T08:55:05.640240Z",
     "iopub.status.idle": "2023-05-15T08:55:05.651950Z",
     "shell.execute_reply": "2023-05-15T08:55:05.651626Z"
    },
    "papermill": {
     "duration": 0.015268,
     "end_time": "2023-05-15T08:55:05.652714",
     "exception": false,
     "start_time": "2023-05-15T08:55:05.637446",
     "status": "completed"
    },
    "tags": []
   },
   "outputs": [],
   "source": [
    "raw_input = f\"/home/hd/hd_hd/hd_fu399/sds-hd/sd21k006/scRNAseq/revision_natcomm/combes_et_al/fetchngs/results/fastq/{sample_name}/{sample_name}/outs/raw_feature_bc_matrix.h5\""
   ]
  },
  {
   "cell_type": "code",
   "execution_count": null,
   "id": "e266d388-1802-435c-93a5-90067358739c",
   "metadata": {
    "execution": {
     "iopub.execute_input": "2023-05-15T08:55:05.682440Z",
     "iopub.status.busy": "2023-05-15T08:55:05.682262Z",
     "iopub.status.idle": "2023-05-15T08:55:06.273149Z",
     "shell.execute_reply": "2023-05-15T08:55:06.272693Z"
    },
    "papermill": {
     "duration": 0.594984,
     "end_time": "2023-05-15T08:55:06.274082",
     "exception": false,
     "start_time": "2023-05-15T08:55:05.679098",
     "status": "completed"
    },
    "tags": []
   },
   "outputs": [],
   "source": [
    "dataset = sc.read_10x_h5(raw_input)\n",
    "dataset.var_names_make_unique()\n",
    "dataset.obs_names_make_unique()\n",
    "\n",
    "dataset.layers[\"raw_counts\"] = dataset.X.copy()\n",
    "data_tod = dataset.layers[\"raw_counts\"].T.copy()\n",
    "\n",
    "dataset"
   ]
  },
  {
   "cell_type": "code",
   "execution_count": null,
   "id": "af9f5892-ed31-42a6-991b-4e096f582cef",
   "metadata": {
    "execution": {
     "iopub.execute_input": "2023-05-15T08:55:06.280523Z",
     "iopub.status.busy": "2023-05-15T08:55:06.280338Z",
     "iopub.status.idle": "2023-05-15T08:55:06.334649Z",
     "shell.execute_reply": "2023-05-15T08:55:06.334173Z"
    },
    "papermill": {
     "duration": 0.058777,
     "end_time": "2023-05-15T08:55:06.335979",
     "exception": false,
     "start_time": "2023-05-15T08:55:06.277202",
     "status": "completed"
    },
    "tags": []
   },
   "outputs": [],
   "source": [
    "sce = dataset.copy()"
   ]
  },
  {
   "cell_type": "code",
   "execution_count": null,
   "id": "d03f2caf-8e74-430e-b045-0ab80401d165",
   "metadata": {
    "execution": {
     "iopub.execute_input": "2023-05-15T08:55:06.342244Z",
     "iopub.status.busy": "2023-05-15T08:55:06.342074Z",
     "iopub.status.idle": "2023-05-15T08:56:19.149519Z",
     "shell.execute_reply": "2023-05-15T08:56:19.148925Z"
    },
    "papermill": {
     "duration": 72.811912,
     "end_time": "2023-05-15T08:56:19.150803",
     "exception": false,
     "start_time": "2023-05-15T08:55:06.338891",
     "status": "completed"
    },
    "tags": []
   },
   "outputs": [],
   "source": [
    "%%R -i sce -o empty_drop_output\n",
    "set.seed(187)\n",
    "empty_drop_output <- emptyDrops(assay(sce))"
   ]
  },
  {
   "cell_type": "code",
   "execution_count": null,
   "id": "2a34a54b-3ae2-44d6-8679-8769228c5b66",
   "metadata": {
    "execution": {
     "iopub.execute_input": "2023-05-15T08:56:19.159528Z",
     "iopub.status.busy": "2023-05-15T08:56:19.159336Z",
     "iopub.status.idle": "2023-05-15T08:56:19.188790Z",
     "shell.execute_reply": "2023-05-15T08:56:19.188419Z"
    },
    "papermill": {
     "duration": 0.033707,
     "end_time": "2023-05-15T08:56:19.189552",
     "exception": false,
     "start_time": "2023-05-15T08:56:19.155845",
     "status": "completed"
    },
    "tags": []
   },
   "outputs": [],
   "source": [
    "non_empty_barcodes = empty_drop_output[empty_drop_output[\"FDR\"] < 0.001].index\n",
    "dataset = dataset[dataset.obs.index.isin(non_empty_barcodes), :]\n",
    "dataset"
   ]
  },
  {
   "cell_type": "code",
   "execution_count": null,
   "id": "016a91e5-1bef-46fb-b91e-4fb9a6870c44",
   "metadata": {
    "execution": {
     "iopub.execute_input": "2023-05-15T08:56:19.195581Z",
     "iopub.status.busy": "2023-05-15T08:56:19.195279Z",
     "iopub.status.idle": "2023-05-15T08:56:26.044383Z",
     "shell.execute_reply": "2023-05-15T08:56:26.043885Z"
    },
    "papermill": {
     "duration": 6.853604,
     "end_time": "2023-05-15T08:56:26.045732",
     "exception": false,
     "start_time": "2023-05-15T08:56:19.192128",
     "status": "completed"
    },
    "tags": []
   },
   "outputs": [],
   "source": [
    "rna_assay = dataset.copy()\n",
    "sc.pp.normalize_per_cell(rna_assay)\n",
    "sc.pp.log1p(rna_assay)\n",
    "sc.pp.pca(rna_assay)\n",
    "sc.pp.neighbors(rna_assay)\n",
    "sc.tl.leiden(rna_assay, key_added=\"soupx_groups\")\n",
    "\n",
    "soupx_groups = rna_assay.obs[\"soupx_groups\"]\n",
    "\n",
    "del rna_assay\n",
    "\n",
    "genes = dataset.var_names\n",
    "cells = dataset.obs_names\n",
    "data = dataset.X.T.copy()"
   ]
  },
  {
   "cell_type": "code",
   "execution_count": null,
   "id": "9db4ea1f-1580-4f43-a3f0-86002397cd98",
   "metadata": {
    "execution": {
     "iopub.execute_input": "2023-05-15T08:56:26.054891Z",
     "iopub.status.busy": "2023-05-15T08:56:26.054453Z",
     "iopub.status.idle": "2023-05-15T08:56:46.072503Z",
     "shell.execute_reply": "2023-05-15T08:56:46.072033Z"
    },
    "papermill": {
     "duration": 20.023011,
     "end_time": "2023-05-15T08:56:46.073815",
     "exception": false,
     "start_time": "2023-05-15T08:56:26.050804",
     "status": "completed"
    },
    "tags": []
   },
   "outputs": [],
   "source": [
    "%%R -i data -i data_tod -i genes -i cells -i soupx_groups -o out \n",
    "set.seed(187)\n",
    "# specify row and column names of data\n",
    "rownames(data) = genes\n",
    "colnames(data) = cells\n",
    "# ensure correct sparse format for table of counts and table of droplets\n",
    "data <- as(data, \"sparseMatrix\")\n",
    "data_tod <- as(data_tod, \"sparseMatrix\")\n",
    "\n",
    "# Generate SoupChannel Object for SoupX \n",
    "sc = SoupChannel(data_tod, data, calcSoupProfile = FALSE)\n",
    "\n",
    "# Add extra meta data to the SoupChannel object\n",
    "soupProf = data.frame(row.names = rownames(data),\n",
    "                      est = rowSums(data)/sum(data),\n",
    "                      counts = rowSums(data))\n",
    "sc = setSoupProfile(sc, soupProf)\n",
    "# Set cluster information in SoupChannel\n",
    "sc = setClusters(sc, soupx_groups)\n",
    "\n",
    "# Estimate contamination fraction\n",
    "sc  = autoEstCont(sc, doPlot=FALSE, forceAccept = TRUE)\n",
    "# Infer corrected table of counts and rount to integer\n",
    "out = adjustCounts(sc, roundToInt = TRUE)"
   ]
  },
  {
   "cell_type": "code",
   "execution_count": null,
   "id": "32555d5e-5fa3-46dd-a4e0-ddc96ea265e2",
   "metadata": {
    "execution": {
     "iopub.execute_input": "2023-05-15T08:56:46.082542Z",
     "iopub.status.busy": "2023-05-15T08:56:46.082350Z",
     "iopub.status.idle": "2023-05-15T08:56:46.115004Z",
     "shell.execute_reply": "2023-05-15T08:56:46.114564Z"
    },
    "papermill": {
     "duration": 0.037337,
     "end_time": "2023-05-15T08:56:46.116268",
     "exception": false,
     "start_time": "2023-05-15T08:56:46.078931",
     "status": "completed"
    },
    "tags": []
   },
   "outputs": [],
   "source": [
    "dataset.layers[\"soupX_counts\"] = out.T\n",
    "dataset.X = dataset.layers[\"soupX_counts\"].copy()"
   ]
  },
  {
   "cell_type": "code",
   "execution_count": null,
   "id": "e27da7df-e094-4d2a-9109-5a363e012175",
   "metadata": {
    "execution": {
     "iopub.execute_input": "2023-05-15T08:56:46.122773Z",
     "iopub.status.busy": "2023-05-15T08:56:46.122572Z",
     "iopub.status.idle": "2023-05-15T08:56:46.124862Z",
     "shell.execute_reply": "2023-05-15T08:56:46.124548Z"
    },
    "papermill": {
     "duration": 0.006326,
     "end_time": "2023-05-15T08:56:46.125648",
     "exception": false,
     "start_time": "2023-05-15T08:56:46.119322",
     "status": "completed"
    },
    "tags": []
   },
   "outputs": [],
   "source": [
    "data_mat = dataset.X.T"
   ]
  },
  {
   "cell_type": "code",
   "execution_count": null,
   "id": "80a993b1-5ccb-4697-9187-1beb7ab8aff9",
   "metadata": {
    "execution": {
     "iopub.execute_input": "2023-05-15T08:56:46.132306Z",
     "iopub.status.busy": "2023-05-15T08:56:46.132049Z",
     "iopub.status.idle": "2023-05-15T08:57:05.275476Z",
     "shell.execute_reply": "2023-05-15T08:57:05.275019Z"
    },
    "papermill": {
     "duration": 19.148127,
     "end_time": "2023-05-15T08:57:05.276714",
     "exception": false,
     "start_time": "2023-05-15T08:56:46.128587",
     "status": "completed"
    },
    "tags": []
   },
   "outputs": [],
   "source": [
    "%%R -i data_mat -o droplet_class\n",
    "\n",
    "set.seed(187)\n",
    "sce = scDblFinder(\n",
    "    SingleCellExperiment(\n",
    "        list(counts=data_mat),\n",
    "    ) \n",
    ")\n",
    "droplet_class = sce$scDblFinder.class"
   ]
  },
  {
   "cell_type": "code",
   "execution_count": null,
   "id": "d4dd6e9d-fcf2-41fc-8457-c8e0a3cb2c71",
   "metadata": {
    "execution": {
     "iopub.execute_input": "2023-05-15T08:57:05.285131Z",
     "iopub.status.busy": "2023-05-15T08:57:05.284991Z",
     "iopub.status.idle": "2023-05-15T08:57:05.288984Z",
     "shell.execute_reply": "2023-05-15T08:57:05.288676Z"
    },
    "papermill": {
     "duration": 0.008061,
     "end_time": "2023-05-15T08:57:05.289731",
     "exception": false,
     "start_time": "2023-05-15T08:57:05.281670",
     "status": "completed"
    },
    "tags": []
   },
   "outputs": [],
   "source": [
    "dataset.obs[\"scDblFinder_class\"] = droplet_class\n",
    "dataset.obs.scDblFinder_class.value_counts()\n",
    "dataset"
   ]
  },
  {
   "cell_type": "code",
   "execution_count": null,
   "id": "28c95014-2d6c-477f-95cb-9f9f0507520c",
   "metadata": {
    "execution": {
     "iopub.execute_input": "2023-05-15T08:57:05.295830Z",
     "iopub.status.busy": "2023-05-15T08:57:05.295699Z",
     "iopub.status.idle": "2023-05-15T08:57:05.311725Z",
     "shell.execute_reply": "2023-05-15T08:57:05.311408Z"
    },
    "papermill": {
     "duration": 0.01992,
     "end_time": "2023-05-15T08:57:05.312474",
     "exception": false,
     "start_time": "2023-05-15T08:57:05.292554",
     "status": "completed"
    },
    "tags": []
   },
   "outputs": [],
   "source": [
    "dataset = dataset[dataset.obs[\"scDblFinder_class\"] == 1]"
   ]
  },
  {
   "cell_type": "code",
   "execution_count": null,
   "id": "3e22f9e0-bfcb-416c-a151-a9bca3bec3b9",
   "metadata": {
    "execution": {
     "iopub.execute_input": "2023-05-15T08:57:05.318625Z",
     "iopub.status.busy": "2023-05-15T08:57:05.318462Z",
     "iopub.status.idle": "2023-05-15T08:57:05.507481Z",
     "shell.execute_reply": "2023-05-15T08:57:05.507044Z"
    },
    "papermill": {
     "duration": 0.193163,
     "end_time": "2023-05-15T08:57:05.508395",
     "exception": false,
     "start_time": "2023-05-15T08:57:05.315232",
     "status": "completed"
    },
    "tags": []
   },
   "outputs": [],
   "source": [
    "# mitochondrial genes\n",
    "dataset.var[\"mt\"] = dataset.var_names.str.startswith(\"MT-\")\n",
    "# ribosomal genes\n",
    "dataset.var[\"ribo\"] = dataset.var_names.str.startswith((\"RPS\", \"RPL\"))\n",
    "# hemoglobin genes.\n",
    "dataset.var[\"hb\"] = dataset.var_names.str.contains((\"^HB[^(P)]\"))\n",
    "\n",
    "sc.pp.calculate_qc_metrics(dataset,\n",
    "                           qc_vars=['mt', 'ribo', 'hb'],\n",
    "                           percent_top=None,\n",
    "                           log1p=False,\n",
    "                           inplace=True)\n",
    "dataset"
   ]
  },
  {
   "cell_type": "code",
   "execution_count": null,
   "id": "34deee79-4043-428f-8575-aa57b45f6369",
   "metadata": {
    "execution": {
     "iopub.execute_input": "2023-05-15T08:57:05.516380Z",
     "iopub.status.busy": "2023-05-15T08:57:05.516196Z",
     "iopub.status.idle": "2023-05-15T08:57:06.013101Z",
     "shell.execute_reply": "2023-05-15T08:57:06.012699Z"
    },
    "papermill": {
     "duration": 0.501289,
     "end_time": "2023-05-15T08:57:06.013976",
     "exception": false,
     "start_time": "2023-05-15T08:57:05.512687",
     "status": "completed"
    },
    "tags": []
   },
   "outputs": [],
   "source": [
    "fig, ax = plt.subplots(ncols = 4, figsize = (16,4))\n",
    "axis = sc.pl.violin(dataset, \"n_genes_by_counts\", jitter = 0.4, ax = ax[0], show = False)\n",
    "axis.grid(False)\n",
    "axis.set_title(\"Unique Genes per cell\")\n",
    "axis.tick_params(axis = \"x\", bottom =False, labelbottom =False)\n",
    "axis.set_ylabel(\"# genes\")\n",
    "axis.axhline(y = 100, color = \"black\", label = \"cutoff\")\n",
    "axis.legend(fontsize = 14, loc = \"upper right\")\n",
    "\n",
    "axis = sc.pl.violin(dataset, \"pct_counts_mt\", jitter = 0.4, ax = ax[1], show = False)\n",
    "axis.grid(False)\n",
    "axis.set_title(\"Mitochondrial Fraction\")\n",
    "axis.tick_params(axis = \"x\", bottom =False, labelbottom =False)\n",
    "axis.set_ylabel(\"% mitochondrial genes\")\n",
    "axis.axhline(y = 10, color = \"black\", label = \"cutoff\")\n",
    "axis.legend(fontsize = 14, loc = \"upper right\")\n",
    "\n",
    "axis = sc.pl.violin(dataset, \"pct_counts_hb\", jitter = 0.4, ax = ax[2], show = False, size =2)\n",
    "axis.grid(False)\n",
    "axis.set_title(\"Hemoglobin Fraction\")\n",
    "axis.tick_params(axis = \"x\", bottom =False, labelbottom =False)\n",
    "axis.set_ylabel(\"% hemoglobin genes\")\n",
    "axis.axhline(y = 3, color = \"black\", label = \"cutoff\")\n",
    "axis.legend(fontsize = 14, loc = \"upper right\")\n",
    "#axis.set_ylim(0,5)\n",
    "\n",
    "axis = sc.pl.violin(dataset, \"pct_counts_ribo\", jitter = 0.4, ax = ax[3], show = False)\n",
    "axis.grid(False)\n",
    "axis.set_title(\"Ribosomal Fraction\")\n",
    "axis.tick_params(axis = \"x\", bottom =False, labelbottom =False)\n",
    "axis.set_ylabel(\"% ribosome genes\")\n",
    "\n",
    "plt.tight_layout()\n",
    "#plt.savefig(f\"{outputDir}08_gene_based_filtering.pdf\", dpi = 300)\n",
    "plt.show()\n",
    "\n"
   ]
  },
  {
   "cell_type": "code",
   "execution_count": null,
   "id": "d7ade754-843e-4840-8707-426613d8c0c5",
   "metadata": {
    "execution": {
     "iopub.execute_input": "2023-05-15T08:57:06.023358Z",
     "iopub.status.busy": "2023-05-15T08:57:06.023196Z",
     "iopub.status.idle": "2023-05-15T08:57:06.032051Z",
     "shell.execute_reply": "2023-05-15T08:57:06.031737Z"
    },
    "papermill": {
     "duration": 0.014448,
     "end_time": "2023-05-15T08:57:06.033018",
     "exception": false,
     "start_time": "2023-05-15T08:57:06.018570",
     "status": "completed"
    },
    "tags": []
   },
   "outputs": [],
   "source": [
    "dataset = dataset[dataset.obs.pct_counts_mt < 10, :]\n",
    "dataset = dataset[dataset.obs.n_genes_by_counts > 100, :]\n",
    "dataset = dataset[dataset.obs.pct_counts_hb < 3, :]\n",
    "dataset"
   ]
  },
  {
   "cell_type": "code",
   "execution_count": null,
   "id": "1941fa36-e865-4500-b586-f7a32d142c9b",
   "metadata": {
    "execution": {
     "iopub.execute_input": "2023-05-15T08:57:06.041788Z",
     "iopub.status.busy": "2023-05-15T08:57:06.041607Z",
     "iopub.status.idle": "2023-05-15T08:57:06.044441Z",
     "shell.execute_reply": "2023-05-15T08:57:06.044131Z"
    },
    "papermill": {
     "duration": 0.008037,
     "end_time": "2023-05-15T08:57:06.045178",
     "exception": false,
     "start_time": "2023-05-15T08:57:06.037141",
     "status": "completed"
    },
    "tags": []
   },
   "outputs": [],
   "source": [
    "metadata.columns"
   ]
  },
  {
   "cell_type": "code",
   "execution_count": null,
   "id": "2e0ff8c3-2aa9-4a01-9b88-5912a6734447",
   "metadata": {
    "execution": {
     "iopub.execute_input": "2023-05-15T08:57:06.054085Z",
     "iopub.status.busy": "2023-05-15T08:57:06.053821Z",
     "iopub.status.idle": "2023-05-15T08:57:06.105966Z",
     "shell.execute_reply": "2023-05-15T08:57:06.105489Z"
    },
    "papermill": {
     "duration": 0.057836,
     "end_time": "2023-05-15T08:57:06.107090",
     "exception": false,
     "start_time": "2023-05-15T08:57:06.049254",
     "status": "completed"
    },
    "tags": []
   },
   "outputs": [],
   "source": [
    "for col in metadata.columns:\n",
    "    dataset.obs[col] = metadata.loc[metadata[\"Run\"] == sample_name, col].to_list()[0]"
   ]
  },
  {
   "cell_type": "code",
   "execution_count": null,
   "id": "b84578d3-d63e-419c-a272-a0b8317d05ab",
   "metadata": {
    "execution": {
     "iopub.execute_input": "2023-05-15T08:57:06.116975Z",
     "iopub.status.busy": "2023-05-15T08:57:06.116784Z",
     "iopub.status.idle": "2023-05-15T08:57:06.765423Z",
     "shell.execute_reply": "2023-05-15T08:57:06.764956Z"
    },
    "papermill": {
     "duration": 0.654782,
     "end_time": "2023-05-15T08:57:06.766721",
     "exception": false,
     "start_time": "2023-05-15T08:57:06.111939",
     "status": "completed"
    },
    "tags": []
   },
   "outputs": [],
   "source": [
    "dataset.write(f\"../../int_data/{sample_name}_qc.h5ad\")"
   ]
  },
  {
   "cell_type": "code",
   "execution_count": null,
   "id": "501b33a0-432d-415f-ae82-50723484b85d",
   "metadata": {
    "execution": {
     "iopub.execute_input": "2023-05-15T08:57:06.776486Z",
     "iopub.status.busy": "2023-05-15T08:57:06.776314Z",
     "iopub.status.idle": "2023-05-15T08:57:06.779325Z",
     "shell.execute_reply": "2023-05-15T08:57:06.779000Z"
    },
    "papermill": {
     "duration": 0.008688,
     "end_time": "2023-05-15T08:57:06.780104",
     "exception": false,
     "start_time": "2023-05-15T08:57:06.771416",
     "status": "completed"
    },
    "tags": []
   },
   "outputs": [],
   "source": [
    "dataset"
   ]
  }
 ],
 "metadata": {
  "kernelspec": {
   "display_name": "py_R",
   "language": "python",
   "name": "python_r"
  },
  "language_info": {
   "codemirror_mode": {
    "name": "ipython",
    "version": 3
   },
   "file_extension": ".py",
   "mimetype": "text/x-python",
   "name": "python",
   "nbconvert_exporter": "python",
   "pygments_lexer": "ipython3",
   "version": "3.10.9"
  },
  "papermill": {
   "default_parameters": {},
   "duration": 163.869483,
   "end_time": "2023-05-15T08:57:08.202242",
   "environment_variables": {},
   "exception": null,
   "input_path": "template.ipynb",
   "output_path": "SRR13329129.ipynb",
   "parameters": {
    "sample_name": "SRR13329129"
   },
   "start_time": "2023-05-15T08:54:24.332759",
   "version": "2.4.0"
  }
 },
 "nbformat": 4,
 "nbformat_minor": 5
}
