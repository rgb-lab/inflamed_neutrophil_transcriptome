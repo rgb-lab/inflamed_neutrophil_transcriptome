{
 "cells": [
  {
   "cell_type": "code",
   "execution_count": null,
   "id": "4c0f2fa8-5232-4f47-a7ec-6c9bbabe50e2",
   "metadata": {
    "execution": {
     "iopub.execute_input": "2023-05-15T07:44:37.218925Z",
     "iopub.status.busy": "2023-05-15T07:44:37.218760Z",
     "iopub.status.idle": "2023-05-15T07:44:37.223222Z",
     "shell.execute_reply": "2023-05-15T07:44:37.222912Z"
    },
    "papermill": {
     "duration": 0.009543,
     "end_time": "2023-05-15T07:44:37.224174",
     "exception": false,
     "start_time": "2023-05-15T07:44:37.214631",
     "status": "completed"
    },
    "tags": [
     "parameters"
    ]
   },
   "outputs": [],
   "source": [
    "sample_name = \"SRR13329143\""
   ]
  },
  {
   "cell_type": "code",
   "execution_count": null,
   "id": "6d9746a4",
   "metadata": {
    "execution": {
     "iopub.execute_input": "2023-05-15T07:44:37.229511Z",
     "iopub.status.busy": "2023-05-15T07:44:37.229286Z",
     "iopub.status.idle": "2023-05-15T07:44:37.231311Z",
     "shell.execute_reply": "2023-05-15T07:44:37.230988Z"
    },
    "papermill": {
     "duration": 0.005448,
     "end_time": "2023-05-15T07:44:37.232078",
     "exception": false,
     "start_time": "2023-05-15T07:44:37.226630",
     "status": "completed"
    },
    "tags": [
     "injected-parameters"
    ]
   },
   "outputs": [],
   "source": [
    "# Parameters\n",
    "sample_name = \"SRR13329170\"\n"
   ]
  },
  {
   "cell_type": "code",
   "execution_count": null,
   "id": "f87ed95b-2b67-4a5a-8fe2-47359b1dd2a9",
   "metadata": {
    "execution": {
     "iopub.execute_input": "2023-05-15T07:44:37.237073Z",
     "iopub.status.busy": "2023-05-15T07:44:37.236860Z",
     "iopub.status.idle": "2023-05-15T07:44:37.239109Z",
     "shell.execute_reply": "2023-05-15T07:44:37.238819Z"
    },
    "papermill": {
     "duration": 0.005629,
     "end_time": "2023-05-15T07:44:37.239871",
     "exception": false,
     "start_time": "2023-05-15T07:44:37.234242",
     "status": "completed"
    },
    "tags": []
   },
   "outputs": [],
   "source": [
    "import warnings\n",
    "warnings.simplefilter(action='ignore', category=FutureWarning)\n",
    "warnings.simplefilter(action='ignore', category=UserWarning)"
   ]
  },
  {
   "cell_type": "code",
   "execution_count": null,
   "id": "85161f19-b2c5-490b-8cab-c2cf9653b304",
   "metadata": {
    "execution": {
     "iopub.execute_input": "2023-05-15T07:44:37.245009Z",
     "iopub.status.busy": "2023-05-15T07:44:37.244813Z",
     "iopub.status.idle": "2023-05-15T07:44:50.184357Z",
     "shell.execute_reply": "2023-05-15T07:44:50.183899Z"
    },
    "papermill": {
     "duration": 12.94368,
     "end_time": "2023-05-15T07:44:50.185822",
     "exception": false,
     "start_time": "2023-05-15T07:44:37.242142",
     "status": "completed"
    },
    "tags": []
   },
   "outputs": [],
   "source": [
    "import gc\n",
    "import scanpy as sc\n",
    "import muon as mu\n",
    "import seaborn as sns\n",
    "import os\n",
    "import pandas as pd\n",
    "from matplotlib import pyplot as plt\n",
    "\n",
    "os.environ['R_HOME'] = '/gpfs/bwfor/work/ws/hd_fu399-conda/conda/envs/python_R/lib/R/'\n",
    "import anndata2ri\n",
    "import logging\n",
    "\n",
    "import rpy2.rinterface_lib.callbacks as rcb\n",
    "import rpy2.robjects as ro\n",
    "\n",
    "rcb.logger.setLevel(logging.ERROR)\n",
    "ro.pandas2ri.activate()\n",
    "anndata2ri.activate()\n",
    "\n",
    "%load_ext rpy2.ipython"
   ]
  },
  {
   "cell_type": "code",
   "execution_count": null,
   "id": "fc4ade78-b728-4704-9db6-45fbaab62ba1",
   "metadata": {
    "execution": {
     "iopub.execute_input": "2023-05-15T07:44:50.194548Z",
     "iopub.status.busy": "2023-05-15T07:44:50.194262Z",
     "iopub.status.idle": "2023-05-15T07:45:00.227246Z",
     "shell.execute_reply": "2023-05-15T07:45:00.226706Z"
    },
    "papermill": {
     "duration": 10.037942,
     "end_time": "2023-05-15T07:45:00.228646",
     "exception": false,
     "start_time": "2023-05-15T07:44:50.190704",
     "status": "completed"
    },
    "tags": []
   },
   "outputs": [],
   "source": [
    "%%R\n",
    "library(SoupX)\n",
    "library(Seurat)\n",
    "library(scater)\n",
    "library(scDblFinder)\n",
    "library(BiocParallel)\n",
    "library(MuDataSeurat)\n",
    "library(DropletUtils)"
   ]
  },
  {
   "cell_type": "code",
   "execution_count": null,
   "id": "f7424d90-7690-4290-8651-1db3f9df3a35",
   "metadata": {
    "execution": {
     "iopub.execute_input": "2023-05-15T07:45:00.236928Z",
     "iopub.status.busy": "2023-05-15T07:45:00.236740Z",
     "iopub.status.idle": "2023-05-15T07:45:00.242451Z",
     "shell.execute_reply": "2023-05-15T07:45:00.242129Z"
    },
    "papermill": {
     "duration": 0.009767,
     "end_time": "2023-05-15T07:45:00.243324",
     "exception": false,
     "start_time": "2023-05-15T07:45:00.233557",
     "status": "completed"
    },
    "tags": []
   },
   "outputs": [],
   "source": [
    "metadata = pd.read_csv(\"../../combes_metadata.txt\")"
   ]
  },
  {
   "cell_type": "code",
   "execution_count": null,
   "id": "2574ecf1-bad4-4c33-8f3f-718a358727ab",
   "metadata": {
    "execution": {
     "iopub.execute_input": "2023-05-15T07:45:00.248860Z",
     "iopub.status.busy": "2023-05-15T07:45:00.248611Z",
     "iopub.status.idle": "2023-05-15T07:45:00.250798Z",
     "shell.execute_reply": "2023-05-15T07:45:00.250427Z"
    },
    "papermill": {
     "duration": 0.005748,
     "end_time": "2023-05-15T07:45:00.251600",
     "exception": false,
     "start_time": "2023-05-15T07:45:00.245852",
     "status": "completed"
    },
    "tags": []
   },
   "outputs": [],
   "source": [
    "raw_input = f\"/home/hd/hd_hd/hd_fu399/sds-hd/sd21k006/scRNAseq/revision_natcomm/combes_et_al/fetchngs/results/fastq/{sample_name}/{sample_name}/outs/raw_feature_bc_matrix.h5\""
   ]
  },
  {
   "cell_type": "code",
   "execution_count": null,
   "id": "e266d388-1802-435c-93a5-90067358739c",
   "metadata": {
    "execution": {
     "iopub.execute_input": "2023-05-15T07:45:00.278737Z",
     "iopub.status.busy": "2023-05-15T07:45:00.278509Z",
     "iopub.status.idle": "2023-05-15T07:45:00.729006Z",
     "shell.execute_reply": "2023-05-15T07:45:00.728558Z"
    },
    "papermill": {
     "duration": 0.475994,
     "end_time": "2023-05-15T07:45:00.729967",
     "exception": false,
     "start_time": "2023-05-15T07:45:00.253973",
     "status": "completed"
    },
    "tags": []
   },
   "outputs": [],
   "source": [
    "dataset = sc.read_10x_h5(raw_input)\n",
    "dataset.var_names_make_unique()\n",
    "dataset.obs_names_make_unique()\n",
    "\n",
    "dataset.layers[\"raw_counts\"] = dataset.X.copy()\n",
    "data_tod = dataset.layers[\"raw_counts\"].T.copy()\n",
    "\n",
    "dataset"
   ]
  },
  {
   "cell_type": "code",
   "execution_count": null,
   "id": "af9f5892-ed31-42a6-991b-4e096f582cef",
   "metadata": {
    "execution": {
     "iopub.execute_input": "2023-05-15T07:45:00.736514Z",
     "iopub.status.busy": "2023-05-15T07:45:00.736331Z",
     "iopub.status.idle": "2023-05-15T07:45:00.775439Z",
     "shell.execute_reply": "2023-05-15T07:45:00.774962Z"
    },
    "papermill": {
     "duration": 0.043589,
     "end_time": "2023-05-15T07:45:00.776804",
     "exception": false,
     "start_time": "2023-05-15T07:45:00.733215",
     "status": "completed"
    },
    "tags": []
   },
   "outputs": [],
   "source": [
    "sce = dataset.copy()"
   ]
  },
  {
   "cell_type": "code",
   "execution_count": null,
   "id": "d03f2caf-8e74-430e-b045-0ab80401d165",
   "metadata": {
    "execution": {
     "iopub.execute_input": "2023-05-15T07:45:00.783731Z",
     "iopub.status.busy": "2023-05-15T07:45:00.783558Z",
     "iopub.status.idle": "2023-05-15T07:45:42.932249Z",
     "shell.execute_reply": "2023-05-15T07:45:42.931650Z"
    },
    "papermill": {
     "duration": 42.153417,
     "end_time": "2023-05-15T07:45:42.933693",
     "exception": false,
     "start_time": "2023-05-15T07:45:00.780276",
     "status": "completed"
    },
    "tags": []
   },
   "outputs": [],
   "source": [
    "%%R -i sce -o empty_drop_output\n",
    "set.seed(187)\n",
    "empty_drop_output <- emptyDrops(assay(sce))"
   ]
  },
  {
   "cell_type": "code",
   "execution_count": null,
   "id": "2a34a54b-3ae2-44d6-8679-8769228c5b66",
   "metadata": {
    "execution": {
     "iopub.execute_input": "2023-05-15T07:45:42.959184Z",
     "iopub.status.busy": "2023-05-15T07:45:42.958832Z",
     "iopub.status.idle": "2023-05-15T07:45:42.982585Z",
     "shell.execute_reply": "2023-05-15T07:45:42.982264Z"
    },
    "papermill": {
     "duration": 0.027831,
     "end_time": "2023-05-15T07:45:42.983373",
     "exception": false,
     "start_time": "2023-05-15T07:45:42.955542",
     "status": "completed"
    },
    "tags": []
   },
   "outputs": [],
   "source": [
    "non_empty_barcodes = empty_drop_output[empty_drop_output[\"FDR\"] < 0.001].index\n",
    "dataset = dataset[dataset.obs.index.isin(non_empty_barcodes), :]\n",
    "dataset"
   ]
  },
  {
   "cell_type": "code",
   "execution_count": null,
   "id": "016a91e5-1bef-46fb-b91e-4fb9a6870c44",
   "metadata": {
    "execution": {
     "iopub.execute_input": "2023-05-15T07:45:42.989522Z",
     "iopub.status.busy": "2023-05-15T07:45:42.989176Z",
     "iopub.status.idle": "2023-05-15T07:45:47.138998Z",
     "shell.execute_reply": "2023-05-15T07:45:47.138501Z"
    },
    "papermill": {
     "duration": 4.154435,
     "end_time": "2023-05-15T07:45:47.140433",
     "exception": false,
     "start_time": "2023-05-15T07:45:42.985998",
     "status": "completed"
    },
    "tags": []
   },
   "outputs": [],
   "source": [
    "rna_assay = dataset.copy()\n",
    "sc.pp.normalize_per_cell(rna_assay)\n",
    "sc.pp.log1p(rna_assay)\n",
    "sc.pp.pca(rna_assay)\n",
    "sc.pp.neighbors(rna_assay)\n",
    "sc.tl.leiden(rna_assay, key_added=\"soupx_groups\")\n",
    "\n",
    "soupx_groups = rna_assay.obs[\"soupx_groups\"]\n",
    "\n",
    "del rna_assay\n",
    "\n",
    "genes = dataset.var_names\n",
    "cells = dataset.obs_names\n",
    "data = dataset.X.T.copy()"
   ]
  },
  {
   "cell_type": "code",
   "execution_count": null,
   "id": "9db4ea1f-1580-4f43-a3f0-86002397cd98",
   "metadata": {
    "execution": {
     "iopub.execute_input": "2023-05-15T07:45:47.149486Z",
     "iopub.status.busy": "2023-05-15T07:45:47.149285Z",
     "iopub.status.idle": "2023-05-15T07:45:58.554949Z",
     "shell.execute_reply": "2023-05-15T07:45:58.554457Z"
    },
    "papermill": {
     "duration": 11.410718,
     "end_time": "2023-05-15T07:45:58.556342",
     "exception": false,
     "start_time": "2023-05-15T07:45:47.145624",
     "status": "completed"
    },
    "tags": []
   },
   "outputs": [],
   "source": [
    "%%R -i data -i data_tod -i genes -i cells -i soupx_groups -o out \n",
    "set.seed(187)\n",
    "# specify row and column names of data\n",
    "rownames(data) = genes\n",
    "colnames(data) = cells\n",
    "# ensure correct sparse format for table of counts and table of droplets\n",
    "data <- as(data, \"sparseMatrix\")\n",
    "data_tod <- as(data_tod, \"sparseMatrix\")\n",
    "\n",
    "# Generate SoupChannel Object for SoupX \n",
    "sc = SoupChannel(data_tod, data, calcSoupProfile = FALSE)\n",
    "\n",
    "# Add extra meta data to the SoupChannel object\n",
    "soupProf = data.frame(row.names = rownames(data),\n",
    "                      est = rowSums(data)/sum(data),\n",
    "                      counts = rowSums(data))\n",
    "sc = setSoupProfile(sc, soupProf)\n",
    "# Set cluster information in SoupChannel\n",
    "sc = setClusters(sc, soupx_groups)\n",
    "\n",
    "# Estimate contamination fraction\n",
    "sc  = autoEstCont(sc, doPlot=FALSE, forceAccept = TRUE)\n",
    "# Infer corrected table of counts and rount to integer\n",
    "out = adjustCounts(sc, roundToInt = TRUE)"
   ]
  },
  {
   "cell_type": "code",
   "execution_count": null,
   "id": "32555d5e-5fa3-46dd-a4e0-ddc96ea265e2",
   "metadata": {
    "execution": {
     "iopub.execute_input": "2023-05-15T07:45:58.565100Z",
     "iopub.status.busy": "2023-05-15T07:45:58.564883Z",
     "iopub.status.idle": "2023-05-15T07:45:58.585371Z",
     "shell.execute_reply": "2023-05-15T07:45:58.584993Z"
    },
    "papermill": {
     "duration": 0.024967,
     "end_time": "2023-05-15T07:45:58.586596",
     "exception": false,
     "start_time": "2023-05-15T07:45:58.561629",
     "status": "completed"
    },
    "tags": []
   },
   "outputs": [],
   "source": [
    "dataset.layers[\"soupX_counts\"] = out.T\n",
    "dataset.X = dataset.layers[\"soupX_counts\"].copy()"
   ]
  },
  {
   "cell_type": "code",
   "execution_count": null,
   "id": "e27da7df-e094-4d2a-9109-5a363e012175",
   "metadata": {
    "execution": {
     "iopub.execute_input": "2023-05-15T07:45:58.593168Z",
     "iopub.status.busy": "2023-05-15T07:45:58.592943Z",
     "iopub.status.idle": "2023-05-15T07:45:58.595304Z",
     "shell.execute_reply": "2023-05-15T07:45:58.594973Z"
    },
    "papermill": {
     "duration": 0.00646,
     "end_time": "2023-05-15T07:45:58.596095",
     "exception": false,
     "start_time": "2023-05-15T07:45:58.589635",
     "status": "completed"
    },
    "tags": []
   },
   "outputs": [],
   "source": [
    "data_mat = dataset.X.T"
   ]
  },
  {
   "cell_type": "code",
   "execution_count": null,
   "id": "80a993b1-5ccb-4697-9187-1beb7ab8aff9",
   "metadata": {
    "execution": {
     "iopub.execute_input": "2023-05-15T07:45:58.602913Z",
     "iopub.status.busy": "2023-05-15T07:45:58.602748Z",
     "iopub.status.idle": "2023-05-15T07:46:17.390787Z",
     "shell.execute_reply": "2023-05-15T07:46:17.390325Z"
    },
    "papermill": {
     "duration": 18.793131,
     "end_time": "2023-05-15T07:46:17.392238",
     "exception": false,
     "start_time": "2023-05-15T07:45:58.599107",
     "status": "completed"
    },
    "tags": []
   },
   "outputs": [],
   "source": [
    "%%R -i data_mat -o droplet_class\n",
    "\n",
    "set.seed(187)\n",
    "sce = scDblFinder(\n",
    "    SingleCellExperiment(\n",
    "        list(counts=data_mat),\n",
    "    ) \n",
    ")\n",
    "droplet_class = sce$scDblFinder.class"
   ]
  },
  {
   "cell_type": "code",
   "execution_count": null,
   "id": "d4dd6e9d-fcf2-41fc-8457-c8e0a3cb2c71",
   "metadata": {
    "execution": {
     "iopub.execute_input": "2023-05-15T07:46:17.401037Z",
     "iopub.status.busy": "2023-05-15T07:46:17.400827Z",
     "iopub.status.idle": "2023-05-15T07:46:17.404795Z",
     "shell.execute_reply": "2023-05-15T07:46:17.404471Z"
    },
    "papermill": {
     "duration": 0.008382,
     "end_time": "2023-05-15T07:46:17.405641",
     "exception": false,
     "start_time": "2023-05-15T07:46:17.397259",
     "status": "completed"
    },
    "tags": []
   },
   "outputs": [],
   "source": [
    "dataset.obs[\"scDblFinder_class\"] = droplet_class\n",
    "dataset.obs.scDblFinder_class.value_counts()\n",
    "dataset"
   ]
  },
  {
   "cell_type": "code",
   "execution_count": null,
   "id": "28c95014-2d6c-477f-95cb-9f9f0507520c",
   "metadata": {
    "execution": {
     "iopub.execute_input": "2023-05-15T07:46:17.412588Z",
     "iopub.status.busy": "2023-05-15T07:46:17.412358Z",
     "iopub.status.idle": "2023-05-15T07:46:17.415403Z",
     "shell.execute_reply": "2023-05-15T07:46:17.415095Z"
    },
    "papermill": {
     "duration": 0.007487,
     "end_time": "2023-05-15T07:46:17.416180",
     "exception": false,
     "start_time": "2023-05-15T07:46:17.408693",
     "status": "completed"
    },
    "tags": []
   },
   "outputs": [],
   "source": [
    "dataset = dataset[dataset.obs[\"scDblFinder_class\"] == 1]"
   ]
  },
  {
   "cell_type": "code",
   "execution_count": null,
   "id": "3e22f9e0-bfcb-416c-a151-a9bca3bec3b9",
   "metadata": {
    "execution": {
     "iopub.execute_input": "2023-05-15T07:46:17.423125Z",
     "iopub.status.busy": "2023-05-15T07:46:17.422789Z",
     "iopub.status.idle": "2023-05-15T07:46:17.550133Z",
     "shell.execute_reply": "2023-05-15T07:46:17.549668Z"
    },
    "papermill": {
     "duration": 0.131622,
     "end_time": "2023-05-15T07:46:17.551131",
     "exception": false,
     "start_time": "2023-05-15T07:46:17.419509",
     "status": "completed"
    },
    "tags": []
   },
   "outputs": [],
   "source": [
    "# mitochondrial genes\n",
    "dataset.var[\"mt\"] = dataset.var_names.str.startswith(\"MT-\")\n",
    "# ribosomal genes\n",
    "dataset.var[\"ribo\"] = dataset.var_names.str.startswith((\"RPS\", \"RPL\"))\n",
    "# hemoglobin genes.\n",
    "dataset.var[\"hb\"] = dataset.var_names.str.contains((\"^HB[^(P)]\"))\n",
    "\n",
    "sc.pp.calculate_qc_metrics(dataset,\n",
    "                           qc_vars=['mt', 'ribo', 'hb'],\n",
    "                           percent_top=None,\n",
    "                           log1p=False,\n",
    "                           inplace=True)\n",
    "dataset"
   ]
  },
  {
   "cell_type": "code",
   "execution_count": null,
   "id": "34deee79-4043-428f-8575-aa57b45f6369",
   "metadata": {
    "execution": {
     "iopub.execute_input": "2023-05-15T07:46:17.558626Z",
     "iopub.status.busy": "2023-05-15T07:46:17.558452Z",
     "iopub.status.idle": "2023-05-15T07:46:18.007107Z",
     "shell.execute_reply": "2023-05-15T07:46:18.006702Z"
    },
    "papermill": {
     "duration": 0.453376,
     "end_time": "2023-05-15T07:46:18.008188",
     "exception": false,
     "start_time": "2023-05-15T07:46:17.554812",
     "status": "completed"
    },
    "tags": []
   },
   "outputs": [],
   "source": [
    "fig, ax = plt.subplots(ncols = 4, figsize = (16,4))\n",
    "axis = sc.pl.violin(dataset, \"n_genes_by_counts\", jitter = 0.4, ax = ax[0], show = False)\n",
    "axis.grid(False)\n",
    "axis.set_title(\"Unique Genes per cell\")\n",
    "axis.tick_params(axis = \"x\", bottom =False, labelbottom =False)\n",
    "axis.set_ylabel(\"# genes\")\n",
    "axis.axhline(y = 100, color = \"black\", label = \"cutoff\")\n",
    "axis.legend(fontsize = 14, loc = \"upper right\")\n",
    "\n",
    "axis = sc.pl.violin(dataset, \"pct_counts_mt\", jitter = 0.4, ax = ax[1], show = False)\n",
    "axis.grid(False)\n",
    "axis.set_title(\"Mitochondrial Fraction\")\n",
    "axis.tick_params(axis = \"x\", bottom =False, labelbottom =False)\n",
    "axis.set_ylabel(\"% mitochondrial genes\")\n",
    "axis.axhline(y = 10, color = \"black\", label = \"cutoff\")\n",
    "axis.legend(fontsize = 14, loc = \"upper right\")\n",
    "\n",
    "axis = sc.pl.violin(dataset, \"pct_counts_hb\", jitter = 0.4, ax = ax[2], show = False, size =2)\n",
    "axis.grid(False)\n",
    "axis.set_title(\"Hemoglobin Fraction\")\n",
    "axis.tick_params(axis = \"x\", bottom =False, labelbottom =False)\n",
    "axis.set_ylabel(\"% hemoglobin genes\")\n",
    "axis.axhline(y = 3, color = \"black\", label = \"cutoff\")\n",
    "axis.legend(fontsize = 14, loc = \"upper right\")\n",
    "#axis.set_ylim(0,5)\n",
    "\n",
    "axis = sc.pl.violin(dataset, \"pct_counts_ribo\", jitter = 0.4, ax = ax[3], show = False)\n",
    "axis.grid(False)\n",
    "axis.set_title(\"Ribosomal Fraction\")\n",
    "axis.tick_params(axis = \"x\", bottom =False, labelbottom =False)\n",
    "axis.set_ylabel(\"% ribosome genes\")\n",
    "\n",
    "plt.tight_layout()\n",
    "#plt.savefig(f\"{outputDir}08_gene_based_filtering.pdf\", dpi = 300)\n",
    "plt.show()\n",
    "\n"
   ]
  },
  {
   "cell_type": "code",
   "execution_count": null,
   "id": "d7ade754-843e-4840-8707-426613d8c0c5",
   "metadata": {
    "execution": {
     "iopub.execute_input": "2023-05-15T07:46:18.017848Z",
     "iopub.status.busy": "2023-05-15T07:46:18.017682Z",
     "iopub.status.idle": "2023-05-15T07:46:18.026287Z",
     "shell.execute_reply": "2023-05-15T07:46:18.025964Z"
    },
    "papermill": {
     "duration": 0.014036,
     "end_time": "2023-05-15T07:46:18.027056",
     "exception": false,
     "start_time": "2023-05-15T07:46:18.013020",
     "status": "completed"
    },
    "tags": []
   },
   "outputs": [],
   "source": [
    "dataset = dataset[dataset.obs.pct_counts_mt < 10, :]\n",
    "dataset = dataset[dataset.obs.n_genes_by_counts > 100, :]\n",
    "dataset = dataset[dataset.obs.pct_counts_hb < 3, :]\n",
    "dataset"
   ]
  },
  {
   "cell_type": "code",
   "execution_count": null,
   "id": "1941fa36-e865-4500-b586-f7a32d142c9b",
   "metadata": {
    "execution": {
     "iopub.execute_input": "2023-05-15T07:46:18.035879Z",
     "iopub.status.busy": "2023-05-15T07:46:18.035712Z",
     "iopub.status.idle": "2023-05-15T07:46:18.038478Z",
     "shell.execute_reply": "2023-05-15T07:46:18.038179Z"
    },
    "papermill": {
     "duration": 0.008053,
     "end_time": "2023-05-15T07:46:18.039240",
     "exception": false,
     "start_time": "2023-05-15T07:46:18.031187",
     "status": "completed"
    },
    "tags": []
   },
   "outputs": [],
   "source": [
    "metadata.columns"
   ]
  },
  {
   "cell_type": "code",
   "execution_count": null,
   "id": "2e0ff8c3-2aa9-4a01-9b88-5912a6734447",
   "metadata": {
    "execution": {
     "iopub.execute_input": "2023-05-15T07:46:18.048144Z",
     "iopub.status.busy": "2023-05-15T07:46:18.047954Z",
     "iopub.status.idle": "2023-05-15T07:46:18.080667Z",
     "shell.execute_reply": "2023-05-15T07:46:18.080181Z"
    },
    "papermill": {
     "duration": 0.038438,
     "end_time": "2023-05-15T07:46:18.081839",
     "exception": false,
     "start_time": "2023-05-15T07:46:18.043401",
     "status": "completed"
    },
    "tags": []
   },
   "outputs": [],
   "source": [
    "for col in metadata.columns:\n",
    "    dataset.obs[col] = metadata.loc[metadata[\"Run\"] == sample_name, col].to_list()[0]"
   ]
  },
  {
   "cell_type": "code",
   "execution_count": null,
   "id": "b84578d3-d63e-419c-a272-a0b8317d05ab",
   "metadata": {
    "execution": {
     "iopub.execute_input": "2023-05-15T07:46:18.091974Z",
     "iopub.status.busy": "2023-05-15T07:46:18.091783Z",
     "iopub.status.idle": "2023-05-15T07:46:18.364729Z",
     "shell.execute_reply": "2023-05-15T07:46:18.364263Z"
    },
    "papermill": {
     "duration": 0.279268,
     "end_time": "2023-05-15T07:46:18.366086",
     "exception": false,
     "start_time": "2023-05-15T07:46:18.086818",
     "status": "completed"
    },
    "tags": []
   },
   "outputs": [],
   "source": [
    "dataset.write(f\"../../int_data/{sample_name}_qc.h5ad\")"
   ]
  },
  {
   "cell_type": "code",
   "execution_count": null,
   "id": "501b33a0-432d-415f-ae82-50723484b85d",
   "metadata": {
    "execution": {
     "iopub.execute_input": "2023-05-15T07:46:18.376078Z",
     "iopub.status.busy": "2023-05-15T07:46:18.375890Z",
     "iopub.status.idle": "2023-05-15T07:46:18.379002Z",
     "shell.execute_reply": "2023-05-15T07:46:18.378666Z"
    },
    "papermill": {
     "duration": 0.008855,
     "end_time": "2023-05-15T07:46:18.379809",
     "exception": false,
     "start_time": "2023-05-15T07:46:18.370954",
     "status": "completed"
    },
    "tags": []
   },
   "outputs": [],
   "source": [
    "dataset"
   ]
  }
 ],
 "metadata": {
  "kernelspec": {
   "display_name": "py_R",
   "language": "python",
   "name": "python_r"
  },
  "language_info": {
   "codemirror_mode": {
    "name": "ipython",
    "version": 3
   },
   "file_extension": ".py",
   "mimetype": "text/x-python",
   "name": "python",
   "nbconvert_exporter": "python",
   "pygments_lexer": "ipython3",
   "version": "3.10.9"
  },
  "papermill": {
   "default_parameters": {},
   "duration": 103.402936,
   "end_time": "2023-05-15T07:46:19.701611",
   "environment_variables": {},
   "exception": null,
   "input_path": "template.ipynb",
   "output_path": "SRR13329170.ipynb",
   "parameters": {
    "sample_name": "SRR13329170"
   },
   "start_time": "2023-05-15T07:44:36.298675",
   "version": "2.4.0"
  }
 },
 "nbformat": 4,
 "nbformat_minor": 5
}
