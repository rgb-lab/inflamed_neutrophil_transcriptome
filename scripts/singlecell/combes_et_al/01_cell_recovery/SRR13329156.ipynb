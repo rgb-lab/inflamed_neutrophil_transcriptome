{
 "cells": [
  {
   "cell_type": "code",
   "execution_count": null,
   "id": "4c0f2fa8-5232-4f47-a7ec-6c9bbabe50e2",
   "metadata": {
    "execution": {
     "iopub.execute_input": "2023-05-15T08:22:59.598958Z",
     "iopub.status.busy": "2023-05-15T08:22:59.598797Z",
     "iopub.status.idle": "2023-05-15T08:22:59.603077Z",
     "shell.execute_reply": "2023-05-15T08:22:59.602754Z"
    },
    "papermill": {
     "duration": 0.00897,
     "end_time": "2023-05-15T08:22:59.603933",
     "exception": false,
     "start_time": "2023-05-15T08:22:59.594963",
     "status": "completed"
    },
    "tags": [
     "parameters"
    ]
   },
   "outputs": [],
   "source": [
    "sample_name = \"SRR13329143\""
   ]
  },
  {
   "cell_type": "code",
   "execution_count": null,
   "id": "70e9d3be",
   "metadata": {
    "execution": {
     "iopub.execute_input": "2023-05-15T08:22:59.609076Z",
     "iopub.status.busy": "2023-05-15T08:22:59.608836Z",
     "iopub.status.idle": "2023-05-15T08:22:59.610834Z",
     "shell.execute_reply": "2023-05-15T08:22:59.610530Z"
    },
    "papermill": {
     "duration": 0.005302,
     "end_time": "2023-05-15T08:22:59.611597",
     "exception": false,
     "start_time": "2023-05-15T08:22:59.606295",
     "status": "completed"
    },
    "tags": [
     "injected-parameters"
    ]
   },
   "outputs": [],
   "source": [
    "# Parameters\n",
    "sample_name = \"SRR13329156\"\n"
   ]
  },
  {
   "cell_type": "code",
   "execution_count": null,
   "id": "f87ed95b-2b67-4a5a-8fe2-47359b1dd2a9",
   "metadata": {
    "execution": {
     "iopub.execute_input": "2023-05-15T08:22:59.616506Z",
     "iopub.status.busy": "2023-05-15T08:22:59.616363Z",
     "iopub.status.idle": "2023-05-15T08:22:59.618588Z",
     "shell.execute_reply": "2023-05-15T08:22:59.618293Z"
    },
    "papermill": {
     "duration": 0.005582,
     "end_time": "2023-05-15T08:22:59.619354",
     "exception": false,
     "start_time": "2023-05-15T08:22:59.613772",
     "status": "completed"
    },
    "tags": []
   },
   "outputs": [],
   "source": [
    "import warnings\n",
    "warnings.simplefilter(action='ignore', category=FutureWarning)\n",
    "warnings.simplefilter(action='ignore', category=UserWarning)"
   ]
  },
  {
   "cell_type": "code",
   "execution_count": null,
   "id": "85161f19-b2c5-490b-8cab-c2cf9653b304",
   "metadata": {
    "execution": {
     "iopub.execute_input": "2023-05-15T08:22:59.624554Z",
     "iopub.status.busy": "2023-05-15T08:22:59.624254Z",
     "iopub.status.idle": "2023-05-15T08:23:04.545458Z",
     "shell.execute_reply": "2023-05-15T08:23:04.544994Z"
    },
    "papermill": {
     "duration": 4.925189,
     "end_time": "2023-05-15T08:23:04.546818",
     "exception": false,
     "start_time": "2023-05-15T08:22:59.621629",
     "status": "completed"
    },
    "tags": []
   },
   "outputs": [],
   "source": [
    "import gc\n",
    "import scanpy as sc\n",
    "import muon as mu\n",
    "import seaborn as sns\n",
    "import os\n",
    "import pandas as pd\n",
    "from matplotlib import pyplot as plt\n",
    "\n",
    "os.environ['R_HOME'] = '/gpfs/bwfor/work/ws/hd_fu399-conda/conda/envs/python_R/lib/R/'\n",
    "import anndata2ri\n",
    "import logging\n",
    "\n",
    "import rpy2.rinterface_lib.callbacks as rcb\n",
    "import rpy2.robjects as ro\n",
    "\n",
    "rcb.logger.setLevel(logging.ERROR)\n",
    "ro.pandas2ri.activate()\n",
    "anndata2ri.activate()\n",
    "\n",
    "%load_ext rpy2.ipython"
   ]
  },
  {
   "cell_type": "code",
   "execution_count": null,
   "id": "fc4ade78-b728-4704-9db6-45fbaab62ba1",
   "metadata": {
    "execution": {
     "iopub.execute_input": "2023-05-15T08:23:04.555510Z",
     "iopub.status.busy": "2023-05-15T08:23:04.555248Z",
     "iopub.status.idle": "2023-05-15T08:23:16.467310Z",
     "shell.execute_reply": "2023-05-15T08:23:16.466763Z"
    },
    "papermill": {
     "duration": 11.916428,
     "end_time": "2023-05-15T08:23:16.468607",
     "exception": false,
     "start_time": "2023-05-15T08:23:04.552179",
     "status": "completed"
    },
    "tags": []
   },
   "outputs": [],
   "source": [
    "%%R\n",
    "library(SoupX)\n",
    "library(Seurat)\n",
    "library(scater)\n",
    "library(scDblFinder)\n",
    "library(BiocParallel)\n",
    "library(MuDataSeurat)\n",
    "library(DropletUtils)"
   ]
  },
  {
   "cell_type": "code",
   "execution_count": null,
   "id": "f7424d90-7690-4290-8651-1db3f9df3a35",
   "metadata": {
    "execution": {
     "iopub.execute_input": "2023-05-15T08:23:16.477879Z",
     "iopub.status.busy": "2023-05-15T08:23:16.477693Z",
     "iopub.status.idle": "2023-05-15T08:23:16.483399Z",
     "shell.execute_reply": "2023-05-15T08:23:16.483076Z"
    },
    "papermill": {
     "duration": 0.00963,
     "end_time": "2023-05-15T08:23:16.484184",
     "exception": false,
     "start_time": "2023-05-15T08:23:16.474554",
     "status": "completed"
    },
    "tags": []
   },
   "outputs": [],
   "source": [
    "metadata = pd.read_csv(\"../../combes_metadata.txt\")"
   ]
  },
  {
   "cell_type": "code",
   "execution_count": null,
   "id": "2574ecf1-bad4-4c33-8f3f-718a358727ab",
   "metadata": {
    "execution": {
     "iopub.execute_input": "2023-05-15T08:23:16.489547Z",
     "iopub.status.busy": "2023-05-15T08:23:16.489387Z",
     "iopub.status.idle": "2023-05-15T08:23:16.491498Z",
     "shell.execute_reply": "2023-05-15T08:23:16.491173Z"
    },
    "papermill": {
     "duration": 0.005652,
     "end_time": "2023-05-15T08:23:16.492253",
     "exception": false,
     "start_time": "2023-05-15T08:23:16.486601",
     "status": "completed"
    },
    "tags": []
   },
   "outputs": [],
   "source": [
    "raw_input = f\"/home/hd/hd_hd/hd_fu399/sds-hd/sd21k006/scRNAseq/revision_natcomm/combes_et_al/fetchngs/results/fastq/{sample_name}/{sample_name}/outs/raw_feature_bc_matrix.h5\""
   ]
  },
  {
   "cell_type": "code",
   "execution_count": null,
   "id": "e266d388-1802-435c-93a5-90067358739c",
   "metadata": {
    "execution": {
     "iopub.execute_input": "2023-05-15T08:23:16.497650Z",
     "iopub.status.busy": "2023-05-15T08:23:16.497490Z",
     "iopub.status.idle": "2023-05-15T08:23:16.929855Z",
     "shell.execute_reply": "2023-05-15T08:23:16.929419Z"
    },
    "papermill": {
     "duration": 0.436126,
     "end_time": "2023-05-15T08:23:16.930776",
     "exception": false,
     "start_time": "2023-05-15T08:23:16.494650",
     "status": "completed"
    },
    "tags": []
   },
   "outputs": [],
   "source": [
    "dataset = sc.read_10x_h5(raw_input)\n",
    "dataset.var_names_make_unique()\n",
    "dataset.obs_names_make_unique()\n",
    "\n",
    "dataset.layers[\"raw_counts\"] = dataset.X.copy()\n",
    "data_tod = dataset.layers[\"raw_counts\"].T.copy()\n",
    "\n",
    "dataset"
   ]
  },
  {
   "cell_type": "code",
   "execution_count": null,
   "id": "af9f5892-ed31-42a6-991b-4e096f582cef",
   "metadata": {
    "execution": {
     "iopub.execute_input": "2023-05-15T08:23:16.937164Z",
     "iopub.status.busy": "2023-05-15T08:23:16.937008Z",
     "iopub.status.idle": "2023-05-15T08:23:16.967727Z",
     "shell.execute_reply": "2023-05-15T08:23:16.967327Z"
    },
    "papermill": {
     "duration": 0.035017,
     "end_time": "2023-05-15T08:23:16.968944",
     "exception": false,
     "start_time": "2023-05-15T08:23:16.933927",
     "status": "completed"
    },
    "tags": []
   },
   "outputs": [],
   "source": [
    "sce = dataset.copy()"
   ]
  },
  {
   "cell_type": "code",
   "execution_count": null,
   "id": "d03f2caf-8e74-430e-b045-0ab80401d165",
   "metadata": {
    "execution": {
     "iopub.execute_input": "2023-05-15T08:23:16.975225Z",
     "iopub.status.busy": "2023-05-15T08:23:16.975084Z",
     "iopub.status.idle": "2023-05-15T08:24:08.990003Z",
     "shell.execute_reply": "2023-05-15T08:24:08.989421Z"
    },
    "papermill": {
     "duration": 52.01939,
     "end_time": "2023-05-15T08:24:08.991390",
     "exception": false,
     "start_time": "2023-05-15T08:23:16.972000",
     "status": "completed"
    },
    "tags": []
   },
   "outputs": [],
   "source": [
    "%%R -i sce -o empty_drop_output\n",
    "set.seed(187)\n",
    "empty_drop_output <- emptyDrops(assay(sce))"
   ]
  },
  {
   "cell_type": "code",
   "execution_count": null,
   "id": "2a34a54b-3ae2-44d6-8679-8769228c5b66",
   "metadata": {
    "execution": {
     "iopub.execute_input": "2023-05-15T08:24:09.002753Z",
     "iopub.status.busy": "2023-05-15T08:24:09.002528Z",
     "iopub.status.idle": "2023-05-15T08:24:09.023113Z",
     "shell.execute_reply": "2023-05-15T08:24:09.022784Z"
    },
    "papermill": {
     "duration": 0.024984,
     "end_time": "2023-05-15T08:24:09.023976",
     "exception": false,
     "start_time": "2023-05-15T08:24:08.998992",
     "status": "completed"
    },
    "tags": []
   },
   "outputs": [],
   "source": [
    "non_empty_barcodes = empty_drop_output[empty_drop_output[\"FDR\"] < 0.001].index\n",
    "dataset = dataset[dataset.obs.index.isin(non_empty_barcodes), :]\n",
    "dataset"
   ]
  },
  {
   "cell_type": "code",
   "execution_count": null,
   "id": "016a91e5-1bef-46fb-b91e-4fb9a6870c44",
   "metadata": {
    "execution": {
     "iopub.execute_input": "2023-05-15T08:24:09.030390Z",
     "iopub.status.busy": "2023-05-15T08:24:09.030201Z",
     "iopub.status.idle": "2023-05-15T08:24:13.272513Z",
     "shell.execute_reply": "2023-05-15T08:24:13.272032Z"
    },
    "papermill": {
     "duration": 4.247128,
     "end_time": "2023-05-15T08:24:13.273907",
     "exception": false,
     "start_time": "2023-05-15T08:24:09.026779",
     "status": "completed"
    },
    "tags": []
   },
   "outputs": [],
   "source": [
    "rna_assay = dataset.copy()\n",
    "sc.pp.normalize_per_cell(rna_assay)\n",
    "sc.pp.log1p(rna_assay)\n",
    "sc.pp.pca(rna_assay)\n",
    "sc.pp.neighbors(rna_assay)\n",
    "sc.tl.leiden(rna_assay, key_added=\"soupx_groups\")\n",
    "\n",
    "soupx_groups = rna_assay.obs[\"soupx_groups\"]\n",
    "\n",
    "del rna_assay\n",
    "\n",
    "genes = dataset.var_names\n",
    "cells = dataset.obs_names\n",
    "data = dataset.X.T.copy()"
   ]
  },
  {
   "cell_type": "code",
   "execution_count": null,
   "id": "9db4ea1f-1580-4f43-a3f0-86002397cd98",
   "metadata": {
    "execution": {
     "iopub.execute_input": "2023-05-15T08:24:13.282923Z",
     "iopub.status.busy": "2023-05-15T08:24:13.282749Z",
     "iopub.status.idle": "2023-05-15T08:24:26.168290Z",
     "shell.execute_reply": "2023-05-15T08:24:26.167823Z"
    },
    "papermill": {
     "duration": 12.890568,
     "end_time": "2023-05-15T08:24:26.169652",
     "exception": false,
     "start_time": "2023-05-15T08:24:13.279084",
     "status": "completed"
    },
    "tags": []
   },
   "outputs": [],
   "source": [
    "%%R -i data -i data_tod -i genes -i cells -i soupx_groups -o out \n",
    "set.seed(187)\n",
    "# specify row and column names of data\n",
    "rownames(data) = genes\n",
    "colnames(data) = cells\n",
    "# ensure correct sparse format for table of counts and table of droplets\n",
    "data <- as(data, \"sparseMatrix\")\n",
    "data_tod <- as(data_tod, \"sparseMatrix\")\n",
    "\n",
    "# Generate SoupChannel Object for SoupX \n",
    "sc = SoupChannel(data_tod, data, calcSoupProfile = FALSE)\n",
    "\n",
    "# Add extra meta data to the SoupChannel object\n",
    "soupProf = data.frame(row.names = rownames(data),\n",
    "                      est = rowSums(data)/sum(data),\n",
    "                      counts = rowSums(data))\n",
    "sc = setSoupProfile(sc, soupProf)\n",
    "# Set cluster information in SoupChannel\n",
    "sc = setClusters(sc, soupx_groups)\n",
    "\n",
    "# Estimate contamination fraction\n",
    "sc  = autoEstCont(sc, doPlot=FALSE, forceAccept = TRUE)\n",
    "# Infer corrected table of counts and rount to integer\n",
    "out = adjustCounts(sc, roundToInt = TRUE)"
   ]
  },
  {
   "cell_type": "code",
   "execution_count": null,
   "id": "32555d5e-5fa3-46dd-a4e0-ddc96ea265e2",
   "metadata": {
    "execution": {
     "iopub.execute_input": "2023-05-15T08:24:26.179760Z",
     "iopub.status.busy": "2023-05-15T08:24:26.179593Z",
     "iopub.status.idle": "2023-05-15T08:24:26.201576Z",
     "shell.execute_reply": "2023-05-15T08:24:26.201068Z"
    },
    "papermill": {
     "duration": 0.026658,
     "end_time": "2023-05-15T08:24:26.202915",
     "exception": false,
     "start_time": "2023-05-15T08:24:26.176257",
     "status": "completed"
    },
    "tags": []
   },
   "outputs": [],
   "source": [
    "dataset.layers[\"soupX_counts\"] = out.T\n",
    "dataset.X = dataset.layers[\"soupX_counts\"].copy()"
   ]
  },
  {
   "cell_type": "code",
   "execution_count": null,
   "id": "e27da7df-e094-4d2a-9109-5a363e012175",
   "metadata": {
    "execution": {
     "iopub.execute_input": "2023-05-15T08:24:26.209817Z",
     "iopub.status.busy": "2023-05-15T08:24:26.209658Z",
     "iopub.status.idle": "2023-05-15T08:24:26.211938Z",
     "shell.execute_reply": "2023-05-15T08:24:26.211607Z"
    },
    "papermill": {
     "duration": 0.006516,
     "end_time": "2023-05-15T08:24:26.212876",
     "exception": false,
     "start_time": "2023-05-15T08:24:26.206360",
     "status": "completed"
    },
    "tags": []
   },
   "outputs": [],
   "source": [
    "data_mat = dataset.X.T"
   ]
  },
  {
   "cell_type": "code",
   "execution_count": null,
   "id": "80a993b1-5ccb-4697-9187-1beb7ab8aff9",
   "metadata": {
    "execution": {
     "iopub.execute_input": "2023-05-15T08:24:26.219145Z",
     "iopub.status.busy": "2023-05-15T08:24:26.218873Z",
     "iopub.status.idle": "2023-05-15T08:24:49.891195Z",
     "shell.execute_reply": "2023-05-15T08:24:49.890588Z"
    },
    "papermill": {
     "duration": 23.677198,
     "end_time": "2023-05-15T08:24:49.892824",
     "exception": false,
     "start_time": "2023-05-15T08:24:26.215626",
     "status": "completed"
    },
    "tags": []
   },
   "outputs": [],
   "source": [
    "%%R -i data_mat -o droplet_class\n",
    "\n",
    "set.seed(187)\n",
    "sce = scDblFinder(\n",
    "    SingleCellExperiment(\n",
    "        list(counts=data_mat),\n",
    "    ) \n",
    ")\n",
    "droplet_class = sce$scDblFinder.class"
   ]
  },
  {
   "cell_type": "code",
   "execution_count": null,
   "id": "d4dd6e9d-fcf2-41fc-8457-c8e0a3cb2c71",
   "metadata": {
    "execution": {
     "iopub.execute_input": "2023-05-15T08:24:49.902842Z",
     "iopub.status.busy": "2023-05-15T08:24:49.902697Z",
     "iopub.status.idle": "2023-05-15T08:24:49.907022Z",
     "shell.execute_reply": "2023-05-15T08:24:49.906699Z"
    },
    "papermill": {
     "duration": 0.0086,
     "end_time": "2023-05-15T08:24:49.907806",
     "exception": false,
     "start_time": "2023-05-15T08:24:49.899206",
     "status": "completed"
    },
    "tags": []
   },
   "outputs": [],
   "source": [
    "dataset.obs[\"scDblFinder_class\"] = droplet_class\n",
    "dataset.obs.scDblFinder_class.value_counts()\n",
    "dataset"
   ]
  },
  {
   "cell_type": "code",
   "execution_count": null,
   "id": "28c95014-2d6c-477f-95cb-9f9f0507520c",
   "metadata": {
    "execution": {
     "iopub.execute_input": "2023-05-15T08:24:49.913951Z",
     "iopub.status.busy": "2023-05-15T08:24:49.913789Z",
     "iopub.status.idle": "2023-05-15T08:24:49.916597Z",
     "shell.execute_reply": "2023-05-15T08:24:49.916291Z"
    },
    "papermill": {
     "duration": 0.006806,
     "end_time": "2023-05-15T08:24:49.917364",
     "exception": false,
     "start_time": "2023-05-15T08:24:49.910558",
     "status": "completed"
    },
    "tags": []
   },
   "outputs": [],
   "source": [
    "dataset = dataset[dataset.obs[\"scDblFinder_class\"] == 1]"
   ]
  },
  {
   "cell_type": "code",
   "execution_count": null,
   "id": "3e22f9e0-bfcb-416c-a151-a9bca3bec3b9",
   "metadata": {
    "execution": {
     "iopub.execute_input": "2023-05-15T08:24:49.923827Z",
     "iopub.status.busy": "2023-05-15T08:24:49.923490Z",
     "iopub.status.idle": "2023-05-15T08:24:50.044604Z",
     "shell.execute_reply": "2023-05-15T08:24:50.044155Z"
    },
    "papermill": {
     "duration": 0.125329,
     "end_time": "2023-05-15T08:24:50.045546",
     "exception": false,
     "start_time": "2023-05-15T08:24:49.920217",
     "status": "completed"
    },
    "tags": []
   },
   "outputs": [],
   "source": [
    "# mitochondrial genes\n",
    "dataset.var[\"mt\"] = dataset.var_names.str.startswith(\"MT-\")\n",
    "# ribosomal genes\n",
    "dataset.var[\"ribo\"] = dataset.var_names.str.startswith((\"RPS\", \"RPL\"))\n",
    "# hemoglobin genes.\n",
    "dataset.var[\"hb\"] = dataset.var_names.str.contains((\"^HB[^(P)]\"))\n",
    "\n",
    "sc.pp.calculate_qc_metrics(dataset,\n",
    "                           qc_vars=['mt', 'ribo', 'hb'],\n",
    "                           percent_top=None,\n",
    "                           log1p=False,\n",
    "                           inplace=True)\n",
    "dataset"
   ]
  },
  {
   "cell_type": "code",
   "execution_count": null,
   "id": "34deee79-4043-428f-8575-aa57b45f6369",
   "metadata": {
    "execution": {
     "iopub.execute_input": "2023-05-15T08:24:50.052887Z",
     "iopub.status.busy": "2023-05-15T08:24:50.052733Z",
     "iopub.status.idle": "2023-05-15T08:24:50.496435Z",
     "shell.execute_reply": "2023-05-15T08:24:50.496021Z"
    },
    "papermill": {
     "duration": 0.448268,
     "end_time": "2023-05-15T08:24:50.497345",
     "exception": false,
     "start_time": "2023-05-15T08:24:50.049077",
     "status": "completed"
    },
    "tags": []
   },
   "outputs": [],
   "source": [
    "fig, ax = plt.subplots(ncols = 4, figsize = (16,4))\n",
    "axis = sc.pl.violin(dataset, \"n_genes_by_counts\", jitter = 0.4, ax = ax[0], show = False)\n",
    "axis.grid(False)\n",
    "axis.set_title(\"Unique Genes per cell\")\n",
    "axis.tick_params(axis = \"x\", bottom =False, labelbottom =False)\n",
    "axis.set_ylabel(\"# genes\")\n",
    "axis.axhline(y = 100, color = \"black\", label = \"cutoff\")\n",
    "axis.legend(fontsize = 14, loc = \"upper right\")\n",
    "\n",
    "axis = sc.pl.violin(dataset, \"pct_counts_mt\", jitter = 0.4, ax = ax[1], show = False)\n",
    "axis.grid(False)\n",
    "axis.set_title(\"Mitochondrial Fraction\")\n",
    "axis.tick_params(axis = \"x\", bottom =False, labelbottom =False)\n",
    "axis.set_ylabel(\"% mitochondrial genes\")\n",
    "axis.axhline(y = 10, color = \"black\", label = \"cutoff\")\n",
    "axis.legend(fontsize = 14, loc = \"upper right\")\n",
    "\n",
    "axis = sc.pl.violin(dataset, \"pct_counts_hb\", jitter = 0.4, ax = ax[2], show = False, size =2)\n",
    "axis.grid(False)\n",
    "axis.set_title(\"Hemoglobin Fraction\")\n",
    "axis.tick_params(axis = \"x\", bottom =False, labelbottom =False)\n",
    "axis.set_ylabel(\"% hemoglobin genes\")\n",
    "axis.axhline(y = 3, color = \"black\", label = \"cutoff\")\n",
    "axis.legend(fontsize = 14, loc = \"upper right\")\n",
    "#axis.set_ylim(0,5)\n",
    "\n",
    "axis = sc.pl.violin(dataset, \"pct_counts_ribo\", jitter = 0.4, ax = ax[3], show = False)\n",
    "axis.grid(False)\n",
    "axis.set_title(\"Ribosomal Fraction\")\n",
    "axis.tick_params(axis = \"x\", bottom =False, labelbottom =False)\n",
    "axis.set_ylabel(\"% ribosome genes\")\n",
    "\n",
    "plt.tight_layout()\n",
    "#plt.savefig(f\"{outputDir}08_gene_based_filtering.pdf\", dpi = 300)\n",
    "plt.show()\n",
    "\n"
   ]
  },
  {
   "cell_type": "code",
   "execution_count": null,
   "id": "d7ade754-843e-4840-8707-426613d8c0c5",
   "metadata": {
    "execution": {
     "iopub.execute_input": "2023-05-15T08:24:50.507579Z",
     "iopub.status.busy": "2023-05-15T08:24:50.507398Z",
     "iopub.status.idle": "2023-05-15T08:24:50.516395Z",
     "shell.execute_reply": "2023-05-15T08:24:50.516069Z"
    },
    "papermill": {
     "duration": 0.014713,
     "end_time": "2023-05-15T08:24:50.517169",
     "exception": false,
     "start_time": "2023-05-15T08:24:50.502456",
     "status": "completed"
    },
    "tags": []
   },
   "outputs": [],
   "source": [
    "dataset = dataset[dataset.obs.pct_counts_mt < 10, :]\n",
    "dataset = dataset[dataset.obs.n_genes_by_counts > 100, :]\n",
    "dataset = dataset[dataset.obs.pct_counts_hb < 3, :]\n",
    "dataset"
   ]
  },
  {
   "cell_type": "code",
   "execution_count": null,
   "id": "1941fa36-e865-4500-b586-f7a32d142c9b",
   "metadata": {
    "execution": {
     "iopub.execute_input": "2023-05-15T08:24:50.526679Z",
     "iopub.status.busy": "2023-05-15T08:24:50.526513Z",
     "iopub.status.idle": "2023-05-15T08:24:50.529393Z",
     "shell.execute_reply": "2023-05-15T08:24:50.529070Z"
    },
    "papermill": {
     "duration": 0.008627,
     "end_time": "2023-05-15T08:24:50.530176",
     "exception": false,
     "start_time": "2023-05-15T08:24:50.521549",
     "status": "completed"
    },
    "tags": []
   },
   "outputs": [],
   "source": [
    "metadata.columns"
   ]
  },
  {
   "cell_type": "code",
   "execution_count": null,
   "id": "2e0ff8c3-2aa9-4a01-9b88-5912a6734447",
   "metadata": {
    "execution": {
     "iopub.execute_input": "2023-05-15T08:24:50.539812Z",
     "iopub.status.busy": "2023-05-15T08:24:50.539655Z",
     "iopub.status.idle": "2023-05-15T08:24:50.572780Z",
     "shell.execute_reply": "2023-05-15T08:24:50.572296Z"
    },
    "papermill": {
     "duration": 0.039284,
     "end_time": "2023-05-15T08:24:50.574001",
     "exception": false,
     "start_time": "2023-05-15T08:24:50.534717",
     "status": "completed"
    },
    "tags": []
   },
   "outputs": [],
   "source": [
    "for col in metadata.columns:\n",
    "    dataset.obs[col] = metadata.loc[metadata[\"Run\"] == sample_name, col].to_list()[0]"
   ]
  },
  {
   "cell_type": "code",
   "execution_count": null,
   "id": "b84578d3-d63e-419c-a272-a0b8317d05ab",
   "metadata": {
    "execution": {
     "iopub.execute_input": "2023-05-15T08:24:50.602425Z",
     "iopub.status.busy": "2023-05-15T08:24:50.602248Z",
     "iopub.status.idle": "2023-05-15T08:24:51.035908Z",
     "shell.execute_reply": "2023-05-15T08:24:51.035390Z"
    },
    "papermill": {
     "duration": 0.440326,
     "end_time": "2023-05-15T08:24:51.037115",
     "exception": false,
     "start_time": "2023-05-15T08:24:50.596789",
     "status": "completed"
    },
    "tags": []
   },
   "outputs": [],
   "source": [
    "dataset.write(f\"../../int_data/{sample_name}_qc.h5ad\")"
   ]
  },
  {
   "cell_type": "code",
   "execution_count": null,
   "id": "501b33a0-432d-415f-ae82-50723484b85d",
   "metadata": {
    "execution": {
     "iopub.execute_input": "2023-05-15T08:24:51.047168Z",
     "iopub.status.busy": "2023-05-15T08:24:51.046979Z",
     "iopub.status.idle": "2023-05-15T08:24:51.050152Z",
     "shell.execute_reply": "2023-05-15T08:24:51.049814Z"
    },
    "papermill": {
     "duration": 0.008929,
     "end_time": "2023-05-15T08:24:51.050951",
     "exception": false,
     "start_time": "2023-05-15T08:24:51.042022",
     "status": "completed"
    },
    "tags": []
   },
   "outputs": [],
   "source": [
    "dataset"
   ]
  }
 ],
 "metadata": {
  "kernelspec": {
   "display_name": "py_R",
   "language": "python",
   "name": "python_r"
  },
  "language_info": {
   "codemirror_mode": {
    "name": "ipython",
    "version": 3
   },
   "file_extension": ".py",
   "mimetype": "text/x-python",
   "name": "python",
   "nbconvert_exporter": "python",
   "pygments_lexer": "ipython3",
   "version": "3.10.9"
  },
  "papermill": {
   "default_parameters": {},
   "duration": 118.329734,
   "end_time": "2023-05-15T08:24:56.635560",
   "environment_variables": {},
   "exception": null,
   "input_path": "template.ipynb",
   "output_path": "SRR13329156.ipynb",
   "parameters": {
    "sample_name": "SRR13329156"
   },
   "start_time": "2023-05-15T08:22:58.305826",
   "version": "2.4.0"
  }
 },
 "nbformat": 4,
 "nbformat_minor": 5
}
