{
 "cells": [
  {
   "cell_type": "code",
   "execution_count": null,
   "id": "4c0f2fa8-5232-4f47-a7ec-6c9bbabe50e2",
   "metadata": {
    "execution": {
     "iopub.execute_input": "2023-05-15T08:29:30.981786Z",
     "iopub.status.busy": "2023-05-15T08:29:30.981617Z",
     "iopub.status.idle": "2023-05-15T08:29:30.986308Z",
     "shell.execute_reply": "2023-05-15T08:29:30.985945Z"
    },
    "papermill": {
     "duration": 0.013326,
     "end_time": "2023-05-15T08:29:30.987130",
     "exception": false,
     "start_time": "2023-05-15T08:29:30.973804",
     "status": "completed"
    },
    "tags": [
     "parameters"
    ]
   },
   "outputs": [],
   "source": [
    "sample_name = \"SRR13329143\""
   ]
  },
  {
   "cell_type": "code",
   "execution_count": null,
   "id": "2ff00fc8",
   "metadata": {
    "execution": {
     "iopub.execute_input": "2023-05-15T08:29:30.992684Z",
     "iopub.status.busy": "2023-05-15T08:29:30.992530Z",
     "iopub.status.idle": "2023-05-15T08:29:30.994360Z",
     "shell.execute_reply": "2023-05-15T08:29:30.994066Z"
    },
    "papermill": {
     "duration": 0.005372,
     "end_time": "2023-05-15T08:29:30.995134",
     "exception": false,
     "start_time": "2023-05-15T08:29:30.989762",
     "status": "completed"
    },
    "tags": [
     "injected-parameters"
    ]
   },
   "outputs": [],
   "source": [
    "# Parameters\n",
    "sample_name = \"SRR13329174\"\n"
   ]
  },
  {
   "cell_type": "code",
   "execution_count": null,
   "id": "f87ed95b-2b67-4a5a-8fe2-47359b1dd2a9",
   "metadata": {
    "execution": {
     "iopub.execute_input": "2023-05-15T08:29:31.000562Z",
     "iopub.status.busy": "2023-05-15T08:29:31.000412Z",
     "iopub.status.idle": "2023-05-15T08:29:31.002497Z",
     "shell.execute_reply": "2023-05-15T08:29:31.002203Z"
    },
    "papermill": {
     "duration": 0.005721,
     "end_time": "2023-05-15T08:29:31.003269",
     "exception": false,
     "start_time": "2023-05-15T08:29:30.997548",
     "status": "completed"
    },
    "tags": []
   },
   "outputs": [],
   "source": [
    "import warnings\n",
    "warnings.simplefilter(action='ignore', category=FutureWarning)\n",
    "warnings.simplefilter(action='ignore', category=UserWarning)"
   ]
  },
  {
   "cell_type": "code",
   "execution_count": null,
   "id": "85161f19-b2c5-490b-8cab-c2cf9653b304",
   "metadata": {
    "execution": {
     "iopub.execute_input": "2023-05-15T08:29:31.009433Z",
     "iopub.status.busy": "2023-05-15T08:29:31.009211Z",
     "iopub.status.idle": "2023-05-15T08:29:35.150665Z",
     "shell.execute_reply": "2023-05-15T08:29:35.150186Z"
    },
    "papermill": {
     "duration": 4.146007,
     "end_time": "2023-05-15T08:29:35.151834",
     "exception": false,
     "start_time": "2023-05-15T08:29:31.005827",
     "status": "completed"
    },
    "tags": []
   },
   "outputs": [],
   "source": [
    "import gc\n",
    "import scanpy as sc\n",
    "import muon as mu\n",
    "import seaborn as sns\n",
    "import os\n",
    "import pandas as pd\n",
    "from matplotlib import pyplot as plt\n",
    "\n",
    "os.environ['R_HOME'] = '/gpfs/bwfor/work/ws/hd_fu399-conda/conda/envs/python_R/lib/R/'\n",
    "import anndata2ri\n",
    "import logging\n",
    "\n",
    "import rpy2.rinterface_lib.callbacks as rcb\n",
    "import rpy2.robjects as ro\n",
    "\n",
    "rcb.logger.setLevel(logging.ERROR)\n",
    "ro.pandas2ri.activate()\n",
    "anndata2ri.activate()\n",
    "\n",
    "%load_ext rpy2.ipython"
   ]
  },
  {
   "cell_type": "code",
   "execution_count": null,
   "id": "fc4ade78-b728-4704-9db6-45fbaab62ba1",
   "metadata": {
    "execution": {
     "iopub.execute_input": "2023-05-15T08:29:35.158366Z",
     "iopub.status.busy": "2023-05-15T08:29:35.158048Z",
     "iopub.status.idle": "2023-05-15T08:29:46.806524Z",
     "shell.execute_reply": "2023-05-15T08:29:46.805980Z"
    },
    "papermill": {
     "duration": 11.652966,
     "end_time": "2023-05-15T08:29:46.807891",
     "exception": false,
     "start_time": "2023-05-15T08:29:35.154925",
     "status": "completed"
    },
    "tags": []
   },
   "outputs": [],
   "source": [
    "%%R\n",
    "library(SoupX)\n",
    "library(Seurat)\n",
    "library(scater)\n",
    "library(scDblFinder)\n",
    "library(BiocParallel)\n",
    "library(MuDataSeurat)\n",
    "library(DropletUtils)"
   ]
  },
  {
   "cell_type": "code",
   "execution_count": null,
   "id": "f7424d90-7690-4290-8651-1db3f9df3a35",
   "metadata": {
    "execution": {
     "iopub.execute_input": "2023-05-15T08:29:46.818226Z",
     "iopub.status.busy": "2023-05-15T08:29:46.817826Z",
     "iopub.status.idle": "2023-05-15T08:29:46.823695Z",
     "shell.execute_reply": "2023-05-15T08:29:46.823343Z"
    },
    "papermill": {
     "duration": 0.01008,
     "end_time": "2023-05-15T08:29:46.824622",
     "exception": false,
     "start_time": "2023-05-15T08:29:46.814542",
     "status": "completed"
    },
    "tags": []
   },
   "outputs": [],
   "source": [
    "metadata = pd.read_csv(\"../../combes_metadata.txt\")"
   ]
  },
  {
   "cell_type": "code",
   "execution_count": null,
   "id": "2574ecf1-bad4-4c33-8f3f-718a358727ab",
   "metadata": {
    "execution": {
     "iopub.execute_input": "2023-05-15T08:29:46.830483Z",
     "iopub.status.busy": "2023-05-15T08:29:46.830261Z",
     "iopub.status.idle": "2023-05-15T08:29:46.832296Z",
     "shell.execute_reply": "2023-05-15T08:29:46.831999Z"
    },
    "papermill": {
     "duration": 0.00586,
     "end_time": "2023-05-15T08:29:46.833066",
     "exception": false,
     "start_time": "2023-05-15T08:29:46.827206",
     "status": "completed"
    },
    "tags": []
   },
   "outputs": [],
   "source": [
    "raw_input = f\"/home/hd/hd_hd/hd_fu399/sds-hd/sd21k006/scRNAseq/revision_natcomm/combes_et_al/fetchngs/results/fastq/{sample_name}/{sample_name}/outs/raw_feature_bc_matrix.h5\""
   ]
  },
  {
   "cell_type": "code",
   "execution_count": null,
   "id": "e266d388-1802-435c-93a5-90067358739c",
   "metadata": {
    "execution": {
     "iopub.execute_input": "2023-05-15T08:29:46.839691Z",
     "iopub.status.busy": "2023-05-15T08:29:46.839459Z",
     "iopub.status.idle": "2023-05-15T08:29:47.315299Z",
     "shell.execute_reply": "2023-05-15T08:29:47.314858Z"
    },
    "papermill": {
     "duration": 0.480461,
     "end_time": "2023-05-15T08:29:47.316213",
     "exception": false,
     "start_time": "2023-05-15T08:29:46.835752",
     "status": "completed"
    },
    "tags": []
   },
   "outputs": [],
   "source": [
    "dataset = sc.read_10x_h5(raw_input)\n",
    "dataset.var_names_make_unique()\n",
    "dataset.obs_names_make_unique()\n",
    "\n",
    "dataset.layers[\"raw_counts\"] = dataset.X.copy()\n",
    "data_tod = dataset.layers[\"raw_counts\"].T.copy()\n",
    "\n",
    "dataset"
   ]
  },
  {
   "cell_type": "code",
   "execution_count": null,
   "id": "af9f5892-ed31-42a6-991b-4e096f582cef",
   "metadata": {
    "execution": {
     "iopub.execute_input": "2023-05-15T08:29:47.323002Z",
     "iopub.status.busy": "2023-05-15T08:29:47.322790Z",
     "iopub.status.idle": "2023-05-15T08:29:47.355802Z",
     "shell.execute_reply": "2023-05-15T08:29:47.355371Z"
    },
    "papermill": {
     "duration": 0.037638,
     "end_time": "2023-05-15T08:29:47.357051",
     "exception": false,
     "start_time": "2023-05-15T08:29:47.319413",
     "status": "completed"
    },
    "tags": []
   },
   "outputs": [],
   "source": [
    "sce = dataset.copy()"
   ]
  },
  {
   "cell_type": "code",
   "execution_count": null,
   "id": "d03f2caf-8e74-430e-b045-0ab80401d165",
   "metadata": {
    "execution": {
     "iopub.execute_input": "2023-05-15T08:29:47.363696Z",
     "iopub.status.busy": "2023-05-15T08:29:47.363376Z",
     "iopub.status.idle": "2023-05-15T08:30:31.853873Z",
     "shell.execute_reply": "2023-05-15T08:30:31.853264Z"
    },
    "papermill": {
     "duration": 44.495056,
     "end_time": "2023-05-15T08:30:31.855139",
     "exception": false,
     "start_time": "2023-05-15T08:29:47.360083",
     "status": "completed"
    },
    "tags": []
   },
   "outputs": [],
   "source": [
    "%%R -i sce -o empty_drop_output\n",
    "set.seed(187)\n",
    "empty_drop_output <- emptyDrops(assay(sce))"
   ]
  },
  {
   "cell_type": "code",
   "execution_count": null,
   "id": "2a34a54b-3ae2-44d6-8679-8769228c5b66",
   "metadata": {
    "execution": {
     "iopub.execute_input": "2023-05-15T08:30:31.865944Z",
     "iopub.status.busy": "2023-05-15T08:30:31.865762Z",
     "iopub.status.idle": "2023-05-15T08:30:31.888305Z",
     "shell.execute_reply": "2023-05-15T08:30:31.887992Z"
    },
    "papermill": {
     "duration": 0.027128,
     "end_time": "2023-05-15T08:30:31.889077",
     "exception": false,
     "start_time": "2023-05-15T08:30:31.861949",
     "status": "completed"
    },
    "tags": []
   },
   "outputs": [],
   "source": [
    "non_empty_barcodes = empty_drop_output[empty_drop_output[\"FDR\"] < 0.001].index\n",
    "dataset = dataset[dataset.obs.index.isin(non_empty_barcodes), :]\n",
    "dataset"
   ]
  },
  {
   "cell_type": "code",
   "execution_count": null,
   "id": "016a91e5-1bef-46fb-b91e-4fb9a6870c44",
   "metadata": {
    "execution": {
     "iopub.execute_input": "2023-05-15T08:30:31.895426Z",
     "iopub.status.busy": "2023-05-15T08:30:31.895261Z",
     "iopub.status.idle": "2023-05-15T08:30:35.470400Z",
     "shell.execute_reply": "2023-05-15T08:30:35.469927Z"
    },
    "papermill": {
     "duration": 3.579852,
     "end_time": "2023-05-15T08:30:35.471759",
     "exception": false,
     "start_time": "2023-05-15T08:30:31.891907",
     "status": "completed"
    },
    "tags": []
   },
   "outputs": [],
   "source": [
    "rna_assay = dataset.copy()\n",
    "sc.pp.normalize_per_cell(rna_assay)\n",
    "sc.pp.log1p(rna_assay)\n",
    "sc.pp.pca(rna_assay)\n",
    "sc.pp.neighbors(rna_assay)\n",
    "sc.tl.leiden(rna_assay, key_added=\"soupx_groups\")\n",
    "\n",
    "soupx_groups = rna_assay.obs[\"soupx_groups\"]\n",
    "\n",
    "del rna_assay\n",
    "\n",
    "genes = dataset.var_names\n",
    "cells = dataset.obs_names\n",
    "data = dataset.X.T.copy()"
   ]
  },
  {
   "cell_type": "code",
   "execution_count": null,
   "id": "9db4ea1f-1580-4f43-a3f0-86002397cd98",
   "metadata": {
    "execution": {
     "iopub.execute_input": "2023-05-15T08:30:35.479196Z",
     "iopub.status.busy": "2023-05-15T08:30:35.478890Z",
     "iopub.status.idle": "2023-05-15T08:30:44.963296Z",
     "shell.execute_reply": "2023-05-15T08:30:44.962838Z"
    },
    "papermill": {
     "duration": 9.489331,
     "end_time": "2023-05-15T08:30:44.964617",
     "exception": false,
     "start_time": "2023-05-15T08:30:35.475286",
     "status": "completed"
    },
    "tags": []
   },
   "outputs": [],
   "source": [
    "%%R -i data -i data_tod -i genes -i cells -i soupx_groups -o out \n",
    "set.seed(187)\n",
    "# specify row and column names of data\n",
    "rownames(data) = genes\n",
    "colnames(data) = cells\n",
    "# ensure correct sparse format for table of counts and table of droplets\n",
    "data <- as(data, \"sparseMatrix\")\n",
    "data_tod <- as(data_tod, \"sparseMatrix\")\n",
    "\n",
    "# Generate SoupChannel Object for SoupX \n",
    "sc = SoupChannel(data_tod, data, calcSoupProfile = FALSE)\n",
    "\n",
    "# Add extra meta data to the SoupChannel object\n",
    "soupProf = data.frame(row.names = rownames(data),\n",
    "                      est = rowSums(data)/sum(data),\n",
    "                      counts = rowSums(data))\n",
    "sc = setSoupProfile(sc, soupProf)\n",
    "# Set cluster information in SoupChannel\n",
    "sc = setClusters(sc, soupx_groups)\n",
    "\n",
    "# Estimate contamination fraction\n",
    "sc  = autoEstCont(sc, doPlot=FALSE, forceAccept = TRUE)\n",
    "# Infer corrected table of counts and rount to integer\n",
    "out = adjustCounts(sc, roundToInt = TRUE)"
   ]
  },
  {
   "cell_type": "code",
   "execution_count": null,
   "id": "32555d5e-5fa3-46dd-a4e0-ddc96ea265e2",
   "metadata": {
    "execution": {
     "iopub.execute_input": "2023-05-15T08:30:44.973821Z",
     "iopub.status.busy": "2023-05-15T08:30:44.973617Z",
     "iopub.status.idle": "2023-05-15T08:30:44.990996Z",
     "shell.execute_reply": "2023-05-15T08:30:44.990617Z"
    },
    "papermill": {
     "duration": 0.021958,
     "end_time": "2023-05-15T08:30:44.992073",
     "exception": false,
     "start_time": "2023-05-15T08:30:44.970115",
     "status": "completed"
    },
    "tags": []
   },
   "outputs": [],
   "source": [
    "dataset.layers[\"soupX_counts\"] = out.T\n",
    "dataset.X = dataset.layers[\"soupX_counts\"].copy()"
   ]
  },
  {
   "cell_type": "code",
   "execution_count": null,
   "id": "e27da7df-e094-4d2a-9109-5a363e012175",
   "metadata": {
    "execution": {
     "iopub.execute_input": "2023-05-15T08:30:44.998820Z",
     "iopub.status.busy": "2023-05-15T08:30:44.998609Z",
     "iopub.status.idle": "2023-05-15T08:30:45.000854Z",
     "shell.execute_reply": "2023-05-15T08:30:45.000527Z"
    },
    "papermill": {
     "duration": 0.006537,
     "end_time": "2023-05-15T08:30:45.001714",
     "exception": false,
     "start_time": "2023-05-15T08:30:44.995177",
     "status": "completed"
    },
    "tags": []
   },
   "outputs": [],
   "source": [
    "data_mat = dataset.X.T"
   ]
  },
  {
   "cell_type": "code",
   "execution_count": null,
   "id": "80a993b1-5ccb-4697-9187-1beb7ab8aff9",
   "metadata": {
    "execution": {
     "iopub.execute_input": "2023-05-15T08:30:45.008024Z",
     "iopub.status.busy": "2023-05-15T08:30:45.007866Z",
     "iopub.status.idle": "2023-05-15T08:31:01.232471Z",
     "shell.execute_reply": "2023-05-15T08:31:01.232004Z"
    },
    "papermill": {
     "duration": 16.229186,
     "end_time": "2023-05-15T08:31:01.233830",
     "exception": false,
     "start_time": "2023-05-15T08:30:45.004644",
     "status": "completed"
    },
    "tags": []
   },
   "outputs": [],
   "source": [
    "%%R -i data_mat -o droplet_class\n",
    "\n",
    "set.seed(187)\n",
    "sce = scDblFinder(\n",
    "    SingleCellExperiment(\n",
    "        list(counts=data_mat),\n",
    "    ) \n",
    ")\n",
    "droplet_class = sce$scDblFinder.class"
   ]
  },
  {
   "cell_type": "code",
   "execution_count": null,
   "id": "d4dd6e9d-fcf2-41fc-8457-c8e0a3cb2c71",
   "metadata": {
    "execution": {
     "iopub.execute_input": "2023-05-15T08:31:01.245159Z",
     "iopub.status.busy": "2023-05-15T08:31:01.245016Z",
     "iopub.status.idle": "2023-05-15T08:31:01.248939Z",
     "shell.execute_reply": "2023-05-15T08:31:01.248618Z"
    },
    "papermill": {
     "duration": 0.008336,
     "end_time": "2023-05-15T08:31:01.249703",
     "exception": false,
     "start_time": "2023-05-15T08:31:01.241367",
     "status": "completed"
    },
    "tags": []
   },
   "outputs": [],
   "source": [
    "dataset.obs[\"scDblFinder_class\"] = droplet_class\n",
    "dataset.obs.scDblFinder_class.value_counts()\n",
    "dataset"
   ]
  },
  {
   "cell_type": "code",
   "execution_count": null,
   "id": "28c95014-2d6c-477f-95cb-9f9f0507520c",
   "metadata": {
    "execution": {
     "iopub.execute_input": "2023-05-15T08:31:01.256409Z",
     "iopub.status.busy": "2023-05-15T08:31:01.256224Z",
     "iopub.status.idle": "2023-05-15T08:31:01.259170Z",
     "shell.execute_reply": "2023-05-15T08:31:01.258867Z"
    },
    "papermill": {
     "duration": 0.007121,
     "end_time": "2023-05-15T08:31:01.259943",
     "exception": false,
     "start_time": "2023-05-15T08:31:01.252822",
     "status": "completed"
    },
    "tags": []
   },
   "outputs": [],
   "source": [
    "dataset = dataset[dataset.obs[\"scDblFinder_class\"] == 1]"
   ]
  },
  {
   "cell_type": "code",
   "execution_count": null,
   "id": "3e22f9e0-bfcb-416c-a151-a9bca3bec3b9",
   "metadata": {
    "execution": {
     "iopub.execute_input": "2023-05-15T08:31:01.266663Z",
     "iopub.status.busy": "2023-05-15T08:31:01.266527Z",
     "iopub.status.idle": "2023-05-15T08:31:01.381438Z",
     "shell.execute_reply": "2023-05-15T08:31:01.380998Z"
    },
    "papermill": {
     "duration": 0.119266,
     "end_time": "2023-05-15T08:31:01.382375",
     "exception": false,
     "start_time": "2023-05-15T08:31:01.263109",
     "status": "completed"
    },
    "tags": []
   },
   "outputs": [],
   "source": [
    "# mitochondrial genes\n",
    "dataset.var[\"mt\"] = dataset.var_names.str.startswith(\"MT-\")\n",
    "# ribosomal genes\n",
    "dataset.var[\"ribo\"] = dataset.var_names.str.startswith((\"RPS\", \"RPL\"))\n",
    "# hemoglobin genes.\n",
    "dataset.var[\"hb\"] = dataset.var_names.str.contains((\"^HB[^(P)]\"))\n",
    "\n",
    "sc.pp.calculate_qc_metrics(dataset,\n",
    "                           qc_vars=['mt', 'ribo', 'hb'],\n",
    "                           percent_top=None,\n",
    "                           log1p=False,\n",
    "                           inplace=True)\n",
    "dataset"
   ]
  },
  {
   "cell_type": "code",
   "execution_count": null,
   "id": "34deee79-4043-428f-8575-aa57b45f6369",
   "metadata": {
    "execution": {
     "iopub.execute_input": "2023-05-15T08:31:01.389716Z",
     "iopub.status.busy": "2023-05-15T08:31:01.389553Z",
     "iopub.status.idle": "2023-05-15T08:31:01.834093Z",
     "shell.execute_reply": "2023-05-15T08:31:01.833693Z"
    },
    "papermill": {
     "duration": 0.449025,
     "end_time": "2023-05-15T08:31:01.834940",
     "exception": false,
     "start_time": "2023-05-15T08:31:01.385915",
     "status": "completed"
    },
    "tags": []
   },
   "outputs": [],
   "source": [
    "fig, ax = plt.subplots(ncols = 4, figsize = (16,4))\n",
    "axis = sc.pl.violin(dataset, \"n_genes_by_counts\", jitter = 0.4, ax = ax[0], show = False)\n",
    "axis.grid(False)\n",
    "axis.set_title(\"Unique Genes per cell\")\n",
    "axis.tick_params(axis = \"x\", bottom =False, labelbottom =False)\n",
    "axis.set_ylabel(\"# genes\")\n",
    "axis.axhline(y = 100, color = \"black\", label = \"cutoff\")\n",
    "axis.legend(fontsize = 14, loc = \"upper right\")\n",
    "\n",
    "axis = sc.pl.violin(dataset, \"pct_counts_mt\", jitter = 0.4, ax = ax[1], show = False)\n",
    "axis.grid(False)\n",
    "axis.set_title(\"Mitochondrial Fraction\")\n",
    "axis.tick_params(axis = \"x\", bottom =False, labelbottom =False)\n",
    "axis.set_ylabel(\"% mitochondrial genes\")\n",
    "axis.axhline(y = 10, color = \"black\", label = \"cutoff\")\n",
    "axis.legend(fontsize = 14, loc = \"upper right\")\n",
    "\n",
    "axis = sc.pl.violin(dataset, \"pct_counts_hb\", jitter = 0.4, ax = ax[2], show = False, size =2)\n",
    "axis.grid(False)\n",
    "axis.set_title(\"Hemoglobin Fraction\")\n",
    "axis.tick_params(axis = \"x\", bottom =False, labelbottom =False)\n",
    "axis.set_ylabel(\"% hemoglobin genes\")\n",
    "axis.axhline(y = 3, color = \"black\", label = \"cutoff\")\n",
    "axis.legend(fontsize = 14, loc = \"upper right\")\n",
    "#axis.set_ylim(0,5)\n",
    "\n",
    "axis = sc.pl.violin(dataset, \"pct_counts_ribo\", jitter = 0.4, ax = ax[3], show = False)\n",
    "axis.grid(False)\n",
    "axis.set_title(\"Ribosomal Fraction\")\n",
    "axis.tick_params(axis = \"x\", bottom =False, labelbottom =False)\n",
    "axis.set_ylabel(\"% ribosome genes\")\n",
    "\n",
    "plt.tight_layout()\n",
    "#plt.savefig(f\"{outputDir}08_gene_based_filtering.pdf\", dpi = 300)\n",
    "plt.show()\n",
    "\n"
   ]
  },
  {
   "cell_type": "code",
   "execution_count": null,
   "id": "d7ade754-843e-4840-8707-426613d8c0c5",
   "metadata": {
    "execution": {
     "iopub.execute_input": "2023-05-15T08:31:01.846792Z",
     "iopub.status.busy": "2023-05-15T08:31:01.846628Z",
     "iopub.status.idle": "2023-05-15T08:31:01.855058Z",
     "shell.execute_reply": "2023-05-15T08:31:01.854749Z"
    },
    "papermill": {
     "duration": 0.014236,
     "end_time": "2023-05-15T08:31:01.855825",
     "exception": false,
     "start_time": "2023-05-15T08:31:01.841589",
     "status": "completed"
    },
    "tags": []
   },
   "outputs": [],
   "source": [
    "dataset = dataset[dataset.obs.pct_counts_mt < 10, :]\n",
    "dataset = dataset[dataset.obs.n_genes_by_counts > 100, :]\n",
    "dataset = dataset[dataset.obs.pct_counts_hb < 3, :]\n",
    "dataset"
   ]
  },
  {
   "cell_type": "code",
   "execution_count": null,
   "id": "1941fa36-e865-4500-b586-f7a32d142c9b",
   "metadata": {
    "execution": {
     "iopub.execute_input": "2023-05-15T08:31:01.865130Z",
     "iopub.status.busy": "2023-05-15T08:31:01.864956Z",
     "iopub.status.idle": "2023-05-15T08:31:01.867678Z",
     "shell.execute_reply": "2023-05-15T08:31:01.867374Z"
    },
    "papermill": {
     "duration": 0.00828,
     "end_time": "2023-05-15T08:31:01.868462",
     "exception": false,
     "start_time": "2023-05-15T08:31:01.860182",
     "status": "completed"
    },
    "tags": []
   },
   "outputs": [],
   "source": [
    "metadata.columns"
   ]
  },
  {
   "cell_type": "code",
   "execution_count": null,
   "id": "2e0ff8c3-2aa9-4a01-9b88-5912a6734447",
   "metadata": {
    "execution": {
     "iopub.execute_input": "2023-05-15T08:31:01.878105Z",
     "iopub.status.busy": "2023-05-15T08:31:01.877855Z",
     "iopub.status.idle": "2023-05-15T08:31:01.908907Z",
     "shell.execute_reply": "2023-05-15T08:31:01.908475Z"
    },
    "papermill": {
     "duration": 0.037255,
     "end_time": "2023-05-15T08:31:01.910140",
     "exception": false,
     "start_time": "2023-05-15T08:31:01.872885",
     "status": "completed"
    },
    "tags": []
   },
   "outputs": [],
   "source": [
    "for col in metadata.columns:\n",
    "    dataset.obs[col] = metadata.loc[metadata[\"Run\"] == sample_name, col].to_list()[0]"
   ]
  },
  {
   "cell_type": "code",
   "execution_count": null,
   "id": "b84578d3-d63e-419c-a272-a0b8317d05ab",
   "metadata": {
    "execution": {
     "iopub.execute_input": "2023-05-15T08:31:01.920226Z",
     "iopub.status.busy": "2023-05-15T08:31:01.919997Z",
     "iopub.status.idle": "2023-05-15T08:31:02.393559Z",
     "shell.execute_reply": "2023-05-15T08:31:02.393087Z"
    },
    "papermill": {
     "duration": 0.479992,
     "end_time": "2023-05-15T08:31:02.394900",
     "exception": false,
     "start_time": "2023-05-15T08:31:01.914908",
     "status": "completed"
    },
    "tags": []
   },
   "outputs": [],
   "source": [
    "dataset.write(f\"../../int_data/{sample_name}_qc.h5ad\")"
   ]
  },
  {
   "cell_type": "code",
   "execution_count": null,
   "id": "501b33a0-432d-415f-ae82-50723484b85d",
   "metadata": {
    "execution": {
     "iopub.execute_input": "2023-05-15T08:31:02.404781Z",
     "iopub.status.busy": "2023-05-15T08:31:02.404586Z",
     "iopub.status.idle": "2023-05-15T08:31:02.407648Z",
     "shell.execute_reply": "2023-05-15T08:31:02.407318Z"
    },
    "papermill": {
     "duration": 0.008751,
     "end_time": "2023-05-15T08:31:02.408448",
     "exception": false,
     "start_time": "2023-05-15T08:31:02.399697",
     "status": "completed"
    },
    "tags": []
   },
   "outputs": [],
   "source": [
    "dataset"
   ]
  }
 ],
 "metadata": {
  "kernelspec": {
   "display_name": "py_R",
   "language": "python",
   "name": "python_r"
  },
  "language_info": {
   "codemirror_mode": {
    "name": "ipython",
    "version": 3
   },
   "file_extension": ".py",
   "mimetype": "text/x-python",
   "name": "python",
   "nbconvert_exporter": "python",
   "pygments_lexer": "ipython3",
   "version": "3.10.9"
  },
  "papermill": {
   "default_parameters": {},
   "duration": 93.944151,
   "end_time": "2023-05-15T08:31:03.730179",
   "environment_variables": {},
   "exception": null,
   "input_path": "template.ipynb",
   "output_path": "SRR13329174.ipynb",
   "parameters": {
    "sample_name": "SRR13329174"
   },
   "start_time": "2023-05-15T08:29:29.786028",
   "version": "2.4.0"
  }
 },
 "nbformat": 4,
 "nbformat_minor": 5
}
