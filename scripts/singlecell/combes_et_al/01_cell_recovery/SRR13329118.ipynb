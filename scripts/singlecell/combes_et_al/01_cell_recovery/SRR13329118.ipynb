{
 "cells": [
  {
   "cell_type": "code",
   "execution_count": null,
   "id": "4c0f2fa8-5232-4f47-a7ec-6c9bbabe50e2",
   "metadata": {
    "execution": {
     "iopub.execute_input": "2023-05-15T08:05:41.734879Z",
     "iopub.status.busy": "2023-05-15T08:05:41.734715Z",
     "iopub.status.idle": "2023-05-15T08:05:41.739328Z",
     "shell.execute_reply": "2023-05-15T08:05:41.739005Z"
    },
    "papermill": {
     "duration": 0.009498,
     "end_time": "2023-05-15T08:05:41.740246",
     "exception": false,
     "start_time": "2023-05-15T08:05:41.730748",
     "status": "completed"
    },
    "tags": [
     "parameters"
    ]
   },
   "outputs": [],
   "source": [
    "sample_name = \"SRR13329143\""
   ]
  },
  {
   "cell_type": "code",
   "execution_count": null,
   "id": "ad29a3e6",
   "metadata": {
    "execution": {
     "iopub.execute_input": "2023-05-15T08:05:41.745478Z",
     "iopub.status.busy": "2023-05-15T08:05:41.745276Z",
     "iopub.status.idle": "2023-05-15T08:05:41.747129Z",
     "shell.execute_reply": "2023-05-15T08:05:41.746842Z"
    },
    "papermill": {
     "duration": 0.005268,
     "end_time": "2023-05-15T08:05:41.747896",
     "exception": false,
     "start_time": "2023-05-15T08:05:41.742628",
     "status": "completed"
    },
    "tags": [
     "injected-parameters"
    ]
   },
   "outputs": [],
   "source": [
    "# Parameters\n",
    "sample_name = \"SRR13329118\"\n"
   ]
  },
  {
   "cell_type": "code",
   "execution_count": null,
   "id": "f87ed95b-2b67-4a5a-8fe2-47359b1dd2a9",
   "metadata": {
    "execution": {
     "iopub.execute_input": "2023-05-15T08:05:41.753696Z",
     "iopub.status.busy": "2023-05-15T08:05:41.753448Z",
     "iopub.status.idle": "2023-05-15T08:05:41.755693Z",
     "shell.execute_reply": "2023-05-15T08:05:41.755396Z"
    },
    "papermill": {
     "duration": 0.00629,
     "end_time": "2023-05-15T08:05:41.756460",
     "exception": false,
     "start_time": "2023-05-15T08:05:41.750170",
     "status": "completed"
    },
    "tags": []
   },
   "outputs": [],
   "source": [
    "import warnings\n",
    "warnings.simplefilter(action='ignore', category=FutureWarning)\n",
    "warnings.simplefilter(action='ignore', category=UserWarning)"
   ]
  },
  {
   "cell_type": "code",
   "execution_count": null,
   "id": "85161f19-b2c5-490b-8cab-c2cf9653b304",
   "metadata": {
    "execution": {
     "iopub.execute_input": "2023-05-15T08:05:41.761811Z",
     "iopub.status.busy": "2023-05-15T08:05:41.761614Z",
     "iopub.status.idle": "2023-05-15T08:05:46.709399Z",
     "shell.execute_reply": "2023-05-15T08:05:46.708905Z"
    },
    "papermill": {
     "duration": 4.951909,
     "end_time": "2023-05-15T08:05:46.710735",
     "exception": false,
     "start_time": "2023-05-15T08:05:41.758826",
     "status": "completed"
    },
    "tags": []
   },
   "outputs": [],
   "source": [
    "import gc\n",
    "import scanpy as sc\n",
    "import muon as mu\n",
    "import seaborn as sns\n",
    "import os\n",
    "import pandas as pd\n",
    "from matplotlib import pyplot as plt\n",
    "\n",
    "os.environ['R_HOME'] = '/gpfs/bwfor/work/ws/hd_fu399-conda/conda/envs/python_R/lib/R/'\n",
    "import anndata2ri\n",
    "import logging\n",
    "\n",
    "import rpy2.rinterface_lib.callbacks as rcb\n",
    "import rpy2.robjects as ro\n",
    "\n",
    "rcb.logger.setLevel(logging.ERROR)\n",
    "ro.pandas2ri.activate()\n",
    "anndata2ri.activate()\n",
    "\n",
    "%load_ext rpy2.ipython"
   ]
  },
  {
   "cell_type": "code",
   "execution_count": null,
   "id": "fc4ade78-b728-4704-9db6-45fbaab62ba1",
   "metadata": {
    "execution": {
     "iopub.execute_input": "2023-05-15T08:05:46.716987Z",
     "iopub.status.busy": "2023-05-15T08:05:46.716698Z",
     "iopub.status.idle": "2023-05-15T08:05:58.900738Z",
     "shell.execute_reply": "2023-05-15T08:05:58.900238Z"
    },
    "papermill": {
     "duration": 12.188333,
     "end_time": "2023-05-15T08:05:58.901956",
     "exception": false,
     "start_time": "2023-05-15T08:05:46.713623",
     "status": "completed"
    },
    "tags": []
   },
   "outputs": [],
   "source": [
    "%%R\n",
    "library(SoupX)\n",
    "library(Seurat)\n",
    "library(scater)\n",
    "library(scDblFinder)\n",
    "library(BiocParallel)\n",
    "library(MuDataSeurat)\n",
    "library(DropletUtils)"
   ]
  },
  {
   "cell_type": "code",
   "execution_count": null,
   "id": "f7424d90-7690-4290-8651-1db3f9df3a35",
   "metadata": {
    "execution": {
     "iopub.execute_input": "2023-05-15T08:05:58.909627Z",
     "iopub.status.busy": "2023-05-15T08:05:58.909449Z",
     "iopub.status.idle": "2023-05-15T08:05:58.915501Z",
     "shell.execute_reply": "2023-05-15T08:05:58.915154Z"
    },
    "papermill": {
     "duration": 0.010121,
     "end_time": "2023-05-15T08:05:58.916448",
     "exception": false,
     "start_time": "2023-05-15T08:05:58.906327",
     "status": "completed"
    },
    "tags": []
   },
   "outputs": [],
   "source": [
    "metadata = pd.read_csv(\"../../combes_metadata.txt\")"
   ]
  },
  {
   "cell_type": "code",
   "execution_count": null,
   "id": "2574ecf1-bad4-4c33-8f3f-718a358727ab",
   "metadata": {
    "execution": {
     "iopub.execute_input": "2023-05-15T08:05:58.921953Z",
     "iopub.status.busy": "2023-05-15T08:05:58.921808Z",
     "iopub.status.idle": "2023-05-15T08:05:58.923849Z",
     "shell.execute_reply": "2023-05-15T08:05:58.923548Z"
    },
    "papermill": {
     "duration": 0.005751,
     "end_time": "2023-05-15T08:05:58.924618",
     "exception": false,
     "start_time": "2023-05-15T08:05:58.918867",
     "status": "completed"
    },
    "tags": []
   },
   "outputs": [],
   "source": [
    "raw_input = f\"/home/hd/hd_hd/hd_fu399/sds-hd/sd21k006/scRNAseq/revision_natcomm/combes_et_al/fetchngs/results/fastq/{sample_name}/{sample_name}/outs/raw_feature_bc_matrix.h5\""
   ]
  },
  {
   "cell_type": "code",
   "execution_count": null,
   "id": "e266d388-1802-435c-93a5-90067358739c",
   "metadata": {
    "execution": {
     "iopub.execute_input": "2023-05-15T08:05:58.930405Z",
     "iopub.status.busy": "2023-05-15T08:05:58.930152Z",
     "iopub.status.idle": "2023-05-15T08:05:59.500622Z",
     "shell.execute_reply": "2023-05-15T08:05:59.500183Z"
    },
    "papermill": {
     "duration": 0.57444,
     "end_time": "2023-05-15T08:05:59.501546",
     "exception": false,
     "start_time": "2023-05-15T08:05:58.927106",
     "status": "completed"
    },
    "tags": []
   },
   "outputs": [],
   "source": [
    "dataset = sc.read_10x_h5(raw_input)\n",
    "dataset.var_names_make_unique()\n",
    "dataset.obs_names_make_unique()\n",
    "\n",
    "dataset.layers[\"raw_counts\"] = dataset.X.copy()\n",
    "data_tod = dataset.layers[\"raw_counts\"].T.copy()\n",
    "\n",
    "dataset"
   ]
  },
  {
   "cell_type": "code",
   "execution_count": null,
   "id": "af9f5892-ed31-42a6-991b-4e096f582cef",
   "metadata": {
    "execution": {
     "iopub.execute_input": "2023-05-15T08:05:59.508011Z",
     "iopub.status.busy": "2023-05-15T08:05:59.507826Z",
     "iopub.status.idle": "2023-05-15T08:05:59.553834Z",
     "shell.execute_reply": "2023-05-15T08:05:59.553360Z"
    },
    "papermill": {
     "duration": 0.050488,
     "end_time": "2023-05-15T08:05:59.555117",
     "exception": false,
     "start_time": "2023-05-15T08:05:59.504629",
     "status": "completed"
    },
    "tags": []
   },
   "outputs": [],
   "source": [
    "sce = dataset.copy()"
   ]
  },
  {
   "cell_type": "code",
   "execution_count": null,
   "id": "d03f2caf-8e74-430e-b045-0ab80401d165",
   "metadata": {
    "execution": {
     "iopub.execute_input": "2023-05-15T08:05:59.561343Z",
     "iopub.status.busy": "2023-05-15T08:05:59.561177Z",
     "iopub.status.idle": "2023-05-15T08:07:00.764321Z",
     "shell.execute_reply": "2023-05-15T08:07:00.763711Z"
    },
    "papermill": {
     "duration": 61.207706,
     "end_time": "2023-05-15T08:07:00.765730",
     "exception": false,
     "start_time": "2023-05-15T08:05:59.558024",
     "status": "completed"
    },
    "tags": []
   },
   "outputs": [],
   "source": [
    "%%R -i sce -o empty_drop_output\n",
    "set.seed(187)\n",
    "empty_drop_output <- emptyDrops(assay(sce))"
   ]
  },
  {
   "cell_type": "code",
   "execution_count": null,
   "id": "2a34a54b-3ae2-44d6-8679-8769228c5b66",
   "metadata": {
    "execution": {
     "iopub.execute_input": "2023-05-15T08:07:00.774461Z",
     "iopub.status.busy": "2023-05-15T08:07:00.774312Z",
     "iopub.status.idle": "2023-05-15T08:07:00.816418Z",
     "shell.execute_reply": "2023-05-15T08:07:00.816095Z"
    },
    "papermill": {
     "duration": 0.046496,
     "end_time": "2023-05-15T08:07:00.817300",
     "exception": false,
     "start_time": "2023-05-15T08:07:00.770804",
     "status": "completed"
    },
    "tags": []
   },
   "outputs": [],
   "source": [
    "non_empty_barcodes = empty_drop_output[empty_drop_output[\"FDR\"] < 0.001].index\n",
    "dataset = dataset[dataset.obs.index.isin(non_empty_barcodes), :]\n",
    "dataset"
   ]
  },
  {
   "cell_type": "code",
   "execution_count": null,
   "id": "016a91e5-1bef-46fb-b91e-4fb9a6870c44",
   "metadata": {
    "execution": {
     "iopub.execute_input": "2023-05-15T08:07:00.823443Z",
     "iopub.status.busy": "2023-05-15T08:07:00.823288Z",
     "iopub.status.idle": "2023-05-15T08:08:23.115990Z",
     "shell.execute_reply": "2023-05-15T08:08:23.115341Z"
    },
    "papermill": {
     "duration": 82.29733,
     "end_time": "2023-05-15T08:08:23.117377",
     "exception": false,
     "start_time": "2023-05-15T08:07:00.820047",
     "status": "completed"
    },
    "tags": []
   },
   "outputs": [],
   "source": [
    "rna_assay = dataset.copy()\n",
    "sc.pp.normalize_per_cell(rna_assay)\n",
    "sc.pp.log1p(rna_assay)\n",
    "sc.pp.pca(rna_assay)\n",
    "sc.pp.neighbors(rna_assay)\n",
    "sc.tl.leiden(rna_assay, key_added=\"soupx_groups\")\n",
    "\n",
    "soupx_groups = rna_assay.obs[\"soupx_groups\"]\n",
    "\n",
    "del rna_assay\n",
    "\n",
    "genes = dataset.var_names\n",
    "cells = dataset.obs_names\n",
    "data = dataset.X.T.copy()"
   ]
  },
  {
   "cell_type": "code",
   "execution_count": null,
   "id": "9db4ea1f-1580-4f43-a3f0-86002397cd98",
   "metadata": {
    "execution": {
     "iopub.execute_input": "2023-05-15T08:08:23.126336Z",
     "iopub.status.busy": "2023-05-15T08:08:23.126176Z",
     "iopub.status.idle": "2023-05-15T08:08:36.057632Z",
     "shell.execute_reply": "2023-05-15T08:08:36.057011Z"
    },
    "papermill": {
     "duration": 12.936902,
     "end_time": "2023-05-15T08:08:36.059036",
     "exception": false,
     "start_time": "2023-05-15T08:08:23.122134",
     "status": "completed"
    },
    "tags": []
   },
   "outputs": [],
   "source": [
    "%%R -i data -i data_tod -i genes -i cells -i soupx_groups -o out \n",
    "set.seed(187)\n",
    "# specify row and column names of data\n",
    "rownames(data) = genes\n",
    "colnames(data) = cells\n",
    "# ensure correct sparse format for table of counts and table of droplets\n",
    "data <- as(data, \"sparseMatrix\")\n",
    "data_tod <- as(data_tod, \"sparseMatrix\")\n",
    "\n",
    "# Generate SoupChannel Object for SoupX \n",
    "sc = SoupChannel(data_tod, data, calcSoupProfile = FALSE)\n",
    "\n",
    "# Add extra meta data to the SoupChannel object\n",
    "soupProf = data.frame(row.names = rownames(data),\n",
    "                      est = rowSums(data)/sum(data),\n",
    "                      counts = rowSums(data))\n",
    "sc = setSoupProfile(sc, soupProf)\n",
    "# Set cluster information in SoupChannel\n",
    "sc = setClusters(sc, soupx_groups)\n",
    "\n",
    "# Estimate contamination fraction\n",
    "sc  = autoEstCont(sc, doPlot=FALSE, forceAccept = TRUE)\n",
    "# Infer corrected table of counts and rount to integer\n",
    "out = adjustCounts(sc, roundToInt = TRUE)"
   ]
  },
  {
   "cell_type": "code",
   "execution_count": null,
   "id": "32555d5e-5fa3-46dd-a4e0-ddc96ea265e2",
   "metadata": {
    "execution": {
     "iopub.execute_input": "2023-05-15T08:08:36.067918Z",
     "iopub.status.busy": "2023-05-15T08:08:36.067711Z",
     "iopub.status.idle": "2023-05-15T08:08:36.102016Z",
     "shell.execute_reply": "2023-05-15T08:08:36.101538Z"
    },
    "papermill": {
     "duration": 0.039182,
     "end_time": "2023-05-15T08:08:36.103365",
     "exception": false,
     "start_time": "2023-05-15T08:08:36.064183",
     "status": "completed"
    },
    "tags": []
   },
   "outputs": [],
   "source": [
    "dataset.layers[\"soupX_counts\"] = out.T\n",
    "dataset.X = dataset.layers[\"soupX_counts\"].copy()"
   ]
  },
  {
   "cell_type": "code",
   "execution_count": null,
   "id": "e27da7df-e094-4d2a-9109-5a363e012175",
   "metadata": {
    "execution": {
     "iopub.execute_input": "2023-05-15T08:08:36.110037Z",
     "iopub.status.busy": "2023-05-15T08:08:36.109841Z",
     "iopub.status.idle": "2023-05-15T08:08:36.112389Z",
     "shell.execute_reply": "2023-05-15T08:08:36.112033Z"
    },
    "papermill": {
     "duration": 0.006774,
     "end_time": "2023-05-15T08:08:36.113173",
     "exception": false,
     "start_time": "2023-05-15T08:08:36.106399",
     "status": "completed"
    },
    "tags": []
   },
   "outputs": [],
   "source": [
    "data_mat = dataset.X.T"
   ]
  },
  {
   "cell_type": "code",
   "execution_count": null,
   "id": "80a993b1-5ccb-4697-9187-1beb7ab8aff9",
   "metadata": {
    "execution": {
     "iopub.execute_input": "2023-05-15T08:08:36.119445Z",
     "iopub.status.busy": "2023-05-15T08:08:36.119185Z",
     "iopub.status.idle": "2023-05-15T08:09:11.162140Z",
     "shell.execute_reply": "2023-05-15T08:09:11.161547Z"
    },
    "papermill": {
     "duration": 35.047529,
     "end_time": "2023-05-15T08:09:11.163417",
     "exception": false,
     "start_time": "2023-05-15T08:08:36.115888",
     "status": "completed"
    },
    "tags": []
   },
   "outputs": [],
   "source": [
    "%%R -i data_mat -o droplet_class\n",
    "\n",
    "set.seed(187)\n",
    "sce = scDblFinder(\n",
    "    SingleCellExperiment(\n",
    "        list(counts=data_mat),\n",
    "    ) \n",
    ")\n",
    "droplet_class = sce$scDblFinder.class"
   ]
  },
  {
   "cell_type": "code",
   "execution_count": null,
   "id": "d4dd6e9d-fcf2-41fc-8457-c8e0a3cb2c71",
   "metadata": {
    "execution": {
     "iopub.execute_input": "2023-05-15T08:09:11.172547Z",
     "iopub.status.busy": "2023-05-15T08:09:11.172340Z",
     "iopub.status.idle": "2023-05-15T08:09:11.177669Z",
     "shell.execute_reply": "2023-05-15T08:09:11.177312Z"
    },
    "papermill": {
     "duration": 0.010047,
     "end_time": "2023-05-15T08:09:11.178473",
     "exception": false,
     "start_time": "2023-05-15T08:09:11.168426",
     "status": "completed"
    },
    "tags": []
   },
   "outputs": [],
   "source": [
    "dataset.obs[\"scDblFinder_class\"] = droplet_class\n",
    "dataset.obs.scDblFinder_class.value_counts()\n",
    "dataset"
   ]
  },
  {
   "cell_type": "code",
   "execution_count": null,
   "id": "28c95014-2d6c-477f-95cb-9f9f0507520c",
   "metadata": {
    "execution": {
     "iopub.execute_input": "2023-05-15T08:09:11.184888Z",
     "iopub.status.busy": "2023-05-15T08:09:11.184725Z",
     "iopub.status.idle": "2023-05-15T08:09:11.190605Z",
     "shell.execute_reply": "2023-05-15T08:09:11.190276Z"
    },
    "papermill": {
     "duration": 0.010398,
     "end_time": "2023-05-15T08:09:11.191681",
     "exception": false,
     "start_time": "2023-05-15T08:09:11.181283",
     "status": "completed"
    },
    "tags": []
   },
   "outputs": [],
   "source": [
    "dataset = dataset[dataset.obs[\"scDblFinder_class\"] == 1]"
   ]
  },
  {
   "cell_type": "code",
   "execution_count": null,
   "id": "3e22f9e0-bfcb-416c-a151-a9bca3bec3b9",
   "metadata": {
    "execution": {
     "iopub.execute_input": "2023-05-15T08:09:11.198651Z",
     "iopub.status.busy": "2023-05-15T08:09:11.198455Z",
     "iopub.status.idle": "2023-05-15T08:09:11.357136Z",
     "shell.execute_reply": "2023-05-15T08:09:11.356654Z"
    },
    "papermill": {
     "duration": 0.163575,
     "end_time": "2023-05-15T08:09:11.358068",
     "exception": false,
     "start_time": "2023-05-15T08:09:11.194493",
     "status": "completed"
    },
    "tags": []
   },
   "outputs": [],
   "source": [
    "# mitochondrial genes\n",
    "dataset.var[\"mt\"] = dataset.var_names.str.startswith(\"MT-\")\n",
    "# ribosomal genes\n",
    "dataset.var[\"ribo\"] = dataset.var_names.str.startswith((\"RPS\", \"RPL\"))\n",
    "# hemoglobin genes.\n",
    "dataset.var[\"hb\"] = dataset.var_names.str.contains((\"^HB[^(P)]\"))\n",
    "\n",
    "sc.pp.calculate_qc_metrics(dataset,\n",
    "                           qc_vars=['mt', 'ribo', 'hb'],\n",
    "                           percent_top=None,\n",
    "                           log1p=False,\n",
    "                           inplace=True)\n",
    "dataset"
   ]
  },
  {
   "cell_type": "code",
   "execution_count": null,
   "id": "34deee79-4043-428f-8575-aa57b45f6369",
   "metadata": {
    "execution": {
     "iopub.execute_input": "2023-05-15T08:09:11.365396Z",
     "iopub.status.busy": "2023-05-15T08:09:11.365210Z",
     "iopub.status.idle": "2023-05-15T08:09:11.978099Z",
     "shell.execute_reply": "2023-05-15T08:09:11.977646Z"
    },
    "papermill": {
     "duration": 0.617431,
     "end_time": "2023-05-15T08:09:11.978959",
     "exception": false,
     "start_time": "2023-05-15T08:09:11.361528",
     "status": "completed"
    },
    "tags": []
   },
   "outputs": [],
   "source": [
    "fig, ax = plt.subplots(ncols = 4, figsize = (16,4))\n",
    "axis = sc.pl.violin(dataset, \"n_genes_by_counts\", jitter = 0.4, ax = ax[0], show = False)\n",
    "axis.grid(False)\n",
    "axis.set_title(\"Unique Genes per cell\")\n",
    "axis.tick_params(axis = \"x\", bottom =False, labelbottom =False)\n",
    "axis.set_ylabel(\"# genes\")\n",
    "axis.axhline(y = 100, color = \"black\", label = \"cutoff\")\n",
    "axis.legend(fontsize = 14, loc = \"upper right\")\n",
    "\n",
    "axis = sc.pl.violin(dataset, \"pct_counts_mt\", jitter = 0.4, ax = ax[1], show = False)\n",
    "axis.grid(False)\n",
    "axis.set_title(\"Mitochondrial Fraction\")\n",
    "axis.tick_params(axis = \"x\", bottom =False, labelbottom =False)\n",
    "axis.set_ylabel(\"% mitochondrial genes\")\n",
    "axis.axhline(y = 10, color = \"black\", label = \"cutoff\")\n",
    "axis.legend(fontsize = 14, loc = \"upper right\")\n",
    "\n",
    "axis = sc.pl.violin(dataset, \"pct_counts_hb\", jitter = 0.4, ax = ax[2], show = False, size =2)\n",
    "axis.grid(False)\n",
    "axis.set_title(\"Hemoglobin Fraction\")\n",
    "axis.tick_params(axis = \"x\", bottom =False, labelbottom =False)\n",
    "axis.set_ylabel(\"% hemoglobin genes\")\n",
    "axis.axhline(y = 3, color = \"black\", label = \"cutoff\")\n",
    "axis.legend(fontsize = 14, loc = \"upper right\")\n",
    "#axis.set_ylim(0,5)\n",
    "\n",
    "axis = sc.pl.violin(dataset, \"pct_counts_ribo\", jitter = 0.4, ax = ax[3], show = False)\n",
    "axis.grid(False)\n",
    "axis.set_title(\"Ribosomal Fraction\")\n",
    "axis.tick_params(axis = \"x\", bottom =False, labelbottom =False)\n",
    "axis.set_ylabel(\"% ribosome genes\")\n",
    "\n",
    "plt.tight_layout()\n",
    "#plt.savefig(f\"{outputDir}08_gene_based_filtering.pdf\", dpi = 300)\n",
    "plt.show()\n",
    "\n"
   ]
  },
  {
   "cell_type": "code",
   "execution_count": null,
   "id": "d7ade754-843e-4840-8707-426613d8c0c5",
   "metadata": {
    "execution": {
     "iopub.execute_input": "2023-05-15T08:09:11.988448Z",
     "iopub.status.busy": "2023-05-15T08:09:11.988227Z",
     "iopub.status.idle": "2023-05-15T08:09:12.003264Z",
     "shell.execute_reply": "2023-05-15T08:09:12.002921Z"
    },
    "papermill": {
     "duration": 0.020597,
     "end_time": "2023-05-15T08:09:12.004006",
     "exception": false,
     "start_time": "2023-05-15T08:09:11.983409",
     "status": "completed"
    },
    "tags": []
   },
   "outputs": [],
   "source": [
    "dataset = dataset[dataset.obs.pct_counts_mt < 10, :]\n",
    "dataset = dataset[dataset.obs.n_genes_by_counts > 100, :]\n",
    "dataset = dataset[dataset.obs.pct_counts_hb < 3, :]\n",
    "dataset"
   ]
  },
  {
   "cell_type": "code",
   "execution_count": null,
   "id": "1941fa36-e865-4500-b586-f7a32d142c9b",
   "metadata": {
    "execution": {
     "iopub.execute_input": "2023-05-15T08:09:12.012897Z",
     "iopub.status.busy": "2023-05-15T08:09:12.012616Z",
     "iopub.status.idle": "2023-05-15T08:09:12.015703Z",
     "shell.execute_reply": "2023-05-15T08:09:12.015372Z"
    },
    "papermill": {
     "duration": 0.008348,
     "end_time": "2023-05-15T08:09:12.016438",
     "exception": false,
     "start_time": "2023-05-15T08:09:12.008090",
     "status": "completed"
    },
    "tags": []
   },
   "outputs": [],
   "source": [
    "metadata.columns"
   ]
  },
  {
   "cell_type": "code",
   "execution_count": null,
   "id": "2e0ff8c3-2aa9-4a01-9b88-5912a6734447",
   "metadata": {
    "execution": {
     "iopub.execute_input": "2023-05-15T08:09:12.025613Z",
     "iopub.status.busy": "2023-05-15T08:09:12.025422Z",
     "iopub.status.idle": "2023-05-15T08:09:12.073184Z",
     "shell.execute_reply": "2023-05-15T08:09:12.072765Z"
    },
    "papermill": {
     "duration": 0.053662,
     "end_time": "2023-05-15T08:09:12.074239",
     "exception": false,
     "start_time": "2023-05-15T08:09:12.020577",
     "status": "completed"
    },
    "tags": []
   },
   "outputs": [],
   "source": [
    "for col in metadata.columns:\n",
    "    dataset.obs[col] = metadata.loc[metadata[\"Run\"] == sample_name, col].to_list()[0]"
   ]
  },
  {
   "cell_type": "code",
   "execution_count": null,
   "id": "b84578d3-d63e-419c-a272-a0b8317d05ab",
   "metadata": {
    "execution": {
     "iopub.execute_input": "2023-05-15T08:09:12.083911Z",
     "iopub.status.busy": "2023-05-15T08:09:12.083684Z",
     "iopub.status.idle": "2023-05-15T08:09:12.518703Z",
     "shell.execute_reply": "2023-05-15T08:09:12.518209Z"
    },
    "papermill": {
     "duration": 0.441252,
     "end_time": "2023-05-15T08:09:12.520088",
     "exception": false,
     "start_time": "2023-05-15T08:09:12.078836",
     "status": "completed"
    },
    "tags": []
   },
   "outputs": [],
   "source": [
    "dataset.write(f\"../../int_data/{sample_name}_qc.h5ad\")"
   ]
  },
  {
   "cell_type": "code",
   "execution_count": null,
   "id": "501b33a0-432d-415f-ae82-50723484b85d",
   "metadata": {
    "execution": {
     "iopub.execute_input": "2023-05-15T08:09:12.545615Z",
     "iopub.status.busy": "2023-05-15T08:09:12.545381Z",
     "iopub.status.idle": "2023-05-15T08:09:12.548656Z",
     "shell.execute_reply": "2023-05-15T08:09:12.548315Z"
    },
    "papermill": {
     "duration": 0.024784,
     "end_time": "2023-05-15T08:09:12.549462",
     "exception": false,
     "start_time": "2023-05-15T08:09:12.524678",
     "status": "completed"
    },
    "tags": []
   },
   "outputs": [],
   "source": [
    "dataset"
   ]
  }
 ],
 "metadata": {
  "kernelspec": {
   "display_name": "py_R",
   "language": "python",
   "name": "python_r"
  },
  "language_info": {
   "codemirror_mode": {
    "name": "ipython",
    "version": 3
   },
   "file_extension": ".py",
   "mimetype": "text/x-python",
   "name": "python",
   "nbconvert_exporter": "python",
   "pygments_lexer": "ipython3",
   "version": "3.10.9"
  },
  "papermill": {
   "default_parameters": {},
   "duration": 213.922348,
   "end_time": "2023-05-15T08:09:14.472388",
   "environment_variables": {},
   "exception": null,
   "input_path": "template.ipynb",
   "output_path": "SRR13329118.ipynb",
   "parameters": {
    "sample_name": "SRR13329118"
   },
   "start_time": "2023-05-15T08:05:40.550040",
   "version": "2.4.0"
  }
 },
 "nbformat": 4,
 "nbformat_minor": 5
}
