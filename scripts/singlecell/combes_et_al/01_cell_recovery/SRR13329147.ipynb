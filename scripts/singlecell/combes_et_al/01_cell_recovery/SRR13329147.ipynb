{
 "cells": [
  {
   "cell_type": "code",
   "execution_count": null,
   "id": "4c0f2fa8-5232-4f47-a7ec-6c9bbabe50e2",
   "metadata": {
    "execution": {
     "iopub.execute_input": "2023-05-15T09:22:25.105103Z",
     "iopub.status.busy": "2023-05-15T09:22:25.104941Z",
     "iopub.status.idle": "2023-05-15T09:22:25.109418Z",
     "shell.execute_reply": "2023-05-15T09:22:25.109108Z"
    },
    "papermill": {
     "duration": 0.009091,
     "end_time": "2023-05-15T09:22:25.110280",
     "exception": false,
     "start_time": "2023-05-15T09:22:25.101189",
     "status": "completed"
    },
    "tags": [
     "parameters"
    ]
   },
   "outputs": [],
   "source": [
    "sample_name = \"SRR13329143\""
   ]
  },
  {
   "cell_type": "code",
   "execution_count": null,
   "id": "39dcc422",
   "metadata": {
    "execution": {
     "iopub.execute_input": "2023-05-15T09:22:25.115489Z",
     "iopub.status.busy": "2023-05-15T09:22:25.115266Z",
     "iopub.status.idle": "2023-05-15T09:22:25.117079Z",
     "shell.execute_reply": "2023-05-15T09:22:25.116791Z"
    },
    "papermill": {
     "duration": 0.005084,
     "end_time": "2023-05-15T09:22:25.117799",
     "exception": false,
     "start_time": "2023-05-15T09:22:25.112715",
     "status": "completed"
    },
    "tags": [
     "injected-parameters"
    ]
   },
   "outputs": [],
   "source": [
    "# Parameters\n",
    "sample_name = \"SRR13329147\"\n"
   ]
  },
  {
   "cell_type": "code",
   "execution_count": null,
   "id": "f87ed95b-2b67-4a5a-8fe2-47359b1dd2a9",
   "metadata": {
    "execution": {
     "iopub.execute_input": "2023-05-15T09:22:25.123086Z",
     "iopub.status.busy": "2023-05-15T09:22:25.122855Z",
     "iopub.status.idle": "2023-05-15T09:22:25.125061Z",
     "shell.execute_reply": "2023-05-15T09:22:25.124767Z"
    },
    "papermill": {
     "duration": 0.005651,
     "end_time": "2023-05-15T09:22:25.125761",
     "exception": false,
     "start_time": "2023-05-15T09:22:25.120110",
     "status": "completed"
    },
    "tags": []
   },
   "outputs": [],
   "source": [
    "import warnings\n",
    "warnings.simplefilter(action='ignore', category=FutureWarning)\n",
    "warnings.simplefilter(action='ignore', category=UserWarning)"
   ]
  },
  {
   "cell_type": "code",
   "execution_count": null,
   "id": "85161f19-b2c5-490b-8cab-c2cf9653b304",
   "metadata": {
    "execution": {
     "iopub.execute_input": "2023-05-15T09:22:25.131064Z",
     "iopub.status.busy": "2023-05-15T09:22:25.130821Z",
     "iopub.status.idle": "2023-05-15T09:22:30.086274Z",
     "shell.execute_reply": "2023-05-15T09:22:30.085740Z"
    },
    "papermill": {
     "duration": 4.959612,
     "end_time": "2023-05-15T09:22:30.087692",
     "exception": false,
     "start_time": "2023-05-15T09:22:25.128080",
     "status": "completed"
    },
    "tags": []
   },
   "outputs": [],
   "source": [
    "import gc\n",
    "import scanpy as sc\n",
    "import muon as mu\n",
    "import seaborn as sns\n",
    "import os\n",
    "import pandas as pd\n",
    "from matplotlib import pyplot as plt\n",
    "\n",
    "os.environ['R_HOME'] = '/gpfs/bwfor/work/ws/hd_fu399-conda/conda/envs/python_R/lib/R/'\n",
    "import anndata2ri\n",
    "import logging\n",
    "\n",
    "import rpy2.rinterface_lib.callbacks as rcb\n",
    "import rpy2.robjects as ro\n",
    "\n",
    "rcb.logger.setLevel(logging.ERROR)\n",
    "ro.pandas2ri.activate()\n",
    "anndata2ri.activate()\n",
    "\n",
    "%load_ext rpy2.ipython"
   ]
  },
  {
   "cell_type": "code",
   "execution_count": null,
   "id": "fc4ade78-b728-4704-9db6-45fbaab62ba1",
   "metadata": {
    "execution": {
     "iopub.execute_input": "2023-05-15T09:22:30.093892Z",
     "iopub.status.busy": "2023-05-15T09:22:30.093586Z",
     "iopub.status.idle": "2023-05-15T09:22:41.993749Z",
     "shell.execute_reply": "2023-05-15T09:22:41.993282Z"
    },
    "papermill": {
     "duration": 11.904511,
     "end_time": "2023-05-15T09:22:41.995101",
     "exception": false,
     "start_time": "2023-05-15T09:22:30.090590",
     "status": "completed"
    },
    "tags": []
   },
   "outputs": [],
   "source": [
    "%%R\n",
    "library(SoupX)\n",
    "library(Seurat)\n",
    "library(scater)\n",
    "library(scDblFinder)\n",
    "library(BiocParallel)\n",
    "library(MuDataSeurat)\n",
    "library(DropletUtils)"
   ]
  },
  {
   "cell_type": "code",
   "execution_count": null,
   "id": "f7424d90-7690-4290-8651-1db3f9df3a35",
   "metadata": {
    "execution": {
     "iopub.execute_input": "2023-05-15T09:22:42.002882Z",
     "iopub.status.busy": "2023-05-15T09:22:42.002716Z",
     "iopub.status.idle": "2023-05-15T09:22:42.008715Z",
     "shell.execute_reply": "2023-05-15T09:22:42.008395Z"
    },
    "papermill": {
     "duration": 0.00988,
     "end_time": "2023-05-15T09:22:42.009643",
     "exception": false,
     "start_time": "2023-05-15T09:22:41.999763",
     "status": "completed"
    },
    "tags": []
   },
   "outputs": [],
   "source": [
    "metadata = pd.read_csv(\"../../combes_metadata.txt\")"
   ]
  },
  {
   "cell_type": "code",
   "execution_count": null,
   "id": "2574ecf1-bad4-4c33-8f3f-718a358727ab",
   "metadata": {
    "execution": {
     "iopub.execute_input": "2023-05-15T09:22:42.015058Z",
     "iopub.status.busy": "2023-05-15T09:22:42.014911Z",
     "iopub.status.idle": "2023-05-15T09:22:42.024872Z",
     "shell.execute_reply": "2023-05-15T09:22:42.024538Z"
    },
    "papermill": {
     "duration": 0.013738,
     "end_time": "2023-05-15T09:22:42.025783",
     "exception": false,
     "start_time": "2023-05-15T09:22:42.012045",
     "status": "completed"
    },
    "tags": []
   },
   "outputs": [],
   "source": [
    "raw_input = f\"/home/hd/hd_hd/hd_fu399/sds-hd/sd21k006/scRNAseq/revision_natcomm/combes_et_al/fetchngs/results/fastq/{sample_name}/{sample_name}/outs/raw_feature_bc_matrix.h5\""
   ]
  },
  {
   "cell_type": "code",
   "execution_count": null,
   "id": "e266d388-1802-435c-93a5-90067358739c",
   "metadata": {
    "execution": {
     "iopub.execute_input": "2023-05-15T09:22:42.031410Z",
     "iopub.status.busy": "2023-05-15T09:22:42.031259Z",
     "iopub.status.idle": "2023-05-15T09:22:42.498739Z",
     "shell.execute_reply": "2023-05-15T09:22:42.498301Z"
    },
    "papermill": {
     "duration": 0.471481,
     "end_time": "2023-05-15T09:22:42.499702",
     "exception": false,
     "start_time": "2023-05-15T09:22:42.028221",
     "status": "completed"
    },
    "tags": []
   },
   "outputs": [],
   "source": [
    "dataset = sc.read_10x_h5(raw_input)\n",
    "dataset.var_names_make_unique()\n",
    "dataset.obs_names_make_unique()\n",
    "\n",
    "dataset.layers[\"raw_counts\"] = dataset.X.copy()\n",
    "data_tod = dataset.layers[\"raw_counts\"].T.copy()\n",
    "\n",
    "dataset"
   ]
  },
  {
   "cell_type": "code",
   "execution_count": null,
   "id": "af9f5892-ed31-42a6-991b-4e096f582cef",
   "metadata": {
    "execution": {
     "iopub.execute_input": "2023-05-15T09:22:42.506092Z",
     "iopub.status.busy": "2023-05-15T09:22:42.505915Z",
     "iopub.status.idle": "2023-05-15T09:22:42.539451Z",
     "shell.execute_reply": "2023-05-15T09:22:42.539031Z"
    },
    "papermill": {
     "duration": 0.037916,
     "end_time": "2023-05-15T09:22:42.540670",
     "exception": false,
     "start_time": "2023-05-15T09:22:42.502754",
     "status": "completed"
    },
    "tags": []
   },
   "outputs": [],
   "source": [
    "sce = dataset.copy()"
   ]
  },
  {
   "cell_type": "code",
   "execution_count": null,
   "id": "d03f2caf-8e74-430e-b045-0ab80401d165",
   "metadata": {
    "execution": {
     "iopub.execute_input": "2023-05-15T09:22:42.546758Z",
     "iopub.status.busy": "2023-05-15T09:22:42.546617Z",
     "iopub.status.idle": "2023-05-15T09:23:25.607278Z",
     "shell.execute_reply": "2023-05-15T09:23:25.606686Z"
    },
    "papermill": {
     "duration": 43.065125,
     "end_time": "2023-05-15T09:23:25.608676",
     "exception": false,
     "start_time": "2023-05-15T09:22:42.543551",
     "status": "completed"
    },
    "tags": []
   },
   "outputs": [],
   "source": [
    "%%R -i sce -o empty_drop_output\n",
    "set.seed(187)\n",
    "empty_drop_output <- emptyDrops(assay(sce))"
   ]
  },
  {
   "cell_type": "code",
   "execution_count": null,
   "id": "2a34a54b-3ae2-44d6-8679-8769228c5b66",
   "metadata": {
    "execution": {
     "iopub.execute_input": "2023-05-15T09:23:25.617822Z",
     "iopub.status.busy": "2023-05-15T09:23:25.617674Z",
     "iopub.status.idle": "2023-05-15T09:23:25.653043Z",
     "shell.execute_reply": "2023-05-15T09:23:25.652664Z"
    },
    "papermill": {
     "duration": 0.039991,
     "end_time": "2023-05-15T09:23:25.653905",
     "exception": false,
     "start_time": "2023-05-15T09:23:25.613914",
     "status": "completed"
    },
    "tags": []
   },
   "outputs": [],
   "source": [
    "non_empty_barcodes = empty_drop_output[empty_drop_output[\"FDR\"] < 0.001].index\n",
    "dataset = dataset[dataset.obs.index.isin(non_empty_barcodes), :]\n",
    "dataset"
   ]
  },
  {
   "cell_type": "code",
   "execution_count": null,
   "id": "016a91e5-1bef-46fb-b91e-4fb9a6870c44",
   "metadata": {
    "execution": {
     "iopub.execute_input": "2023-05-15T09:23:25.660047Z",
     "iopub.status.busy": "2023-05-15T09:23:25.659892Z",
     "iopub.status.idle": "2023-05-15T09:23:30.009661Z",
     "shell.execute_reply": "2023-05-15T09:23:30.009169Z"
    },
    "papermill": {
     "duration": 4.35438,
     "end_time": "2023-05-15T09:23:30.011004",
     "exception": false,
     "start_time": "2023-05-15T09:23:25.656624",
     "status": "completed"
    },
    "tags": []
   },
   "outputs": [],
   "source": [
    "rna_assay = dataset.copy()\n",
    "sc.pp.normalize_per_cell(rna_assay)\n",
    "sc.pp.log1p(rna_assay)\n",
    "sc.pp.pca(rna_assay)\n",
    "sc.pp.neighbors(rna_assay)\n",
    "sc.tl.leiden(rna_assay, key_added=\"soupx_groups\")\n",
    "\n",
    "soupx_groups = rna_assay.obs[\"soupx_groups\"]\n",
    "\n",
    "del rna_assay\n",
    "\n",
    "genes = dataset.var_names\n",
    "cells = dataset.obs_names\n",
    "data = dataset.X.T.copy()"
   ]
  },
  {
   "cell_type": "code",
   "execution_count": null,
   "id": "9db4ea1f-1580-4f43-a3f0-86002397cd98",
   "metadata": {
    "execution": {
     "iopub.execute_input": "2023-05-15T09:23:30.020062Z",
     "iopub.status.busy": "2023-05-15T09:23:30.019913Z",
     "iopub.status.idle": "2023-05-15T09:23:40.684179Z",
     "shell.execute_reply": "2023-05-15T09:23:40.683585Z"
    },
    "papermill": {
     "duration": 10.669274,
     "end_time": "2023-05-15T09:23:40.685493",
     "exception": false,
     "start_time": "2023-05-15T09:23:30.016219",
     "status": "completed"
    },
    "tags": []
   },
   "outputs": [],
   "source": [
    "%%R -i data -i data_tod -i genes -i cells -i soupx_groups -o out \n",
    "set.seed(187)\n",
    "# specify row and column names of data\n",
    "rownames(data) = genes\n",
    "colnames(data) = cells\n",
    "# ensure correct sparse format for table of counts and table of droplets\n",
    "data <- as(data, \"sparseMatrix\")\n",
    "data_tod <- as(data_tod, \"sparseMatrix\")\n",
    "\n",
    "# Generate SoupChannel Object for SoupX \n",
    "sc = SoupChannel(data_tod, data, calcSoupProfile = FALSE)\n",
    "\n",
    "# Add extra meta data to the SoupChannel object\n",
    "soupProf = data.frame(row.names = rownames(data),\n",
    "                      est = rowSums(data)/sum(data),\n",
    "                      counts = rowSums(data))\n",
    "sc = setSoupProfile(sc, soupProf)\n",
    "# Set cluster information in SoupChannel\n",
    "sc = setClusters(sc, soupx_groups)\n",
    "\n",
    "# Estimate contamination fraction\n",
    "sc  = autoEstCont(sc, doPlot=FALSE, forceAccept = TRUE)\n",
    "# Infer corrected table of counts and rount to integer\n",
    "out = adjustCounts(sc, roundToInt = TRUE)"
   ]
  },
  {
   "cell_type": "code",
   "execution_count": null,
   "id": "32555d5e-5fa3-46dd-a4e0-ddc96ea265e2",
   "metadata": {
    "execution": {
     "iopub.execute_input": "2023-05-15T09:23:40.694222Z",
     "iopub.status.busy": "2023-05-15T09:23:40.694036Z",
     "iopub.status.idle": "2023-05-15T09:23:40.724297Z",
     "shell.execute_reply": "2023-05-15T09:23:40.723815Z"
    },
    "papermill": {
     "duration": 0.035029,
     "end_time": "2023-05-15T09:23:40.725453",
     "exception": false,
     "start_time": "2023-05-15T09:23:40.690424",
     "status": "completed"
    },
    "tags": []
   },
   "outputs": [],
   "source": [
    "dataset.layers[\"soupX_counts\"] = out.T\n",
    "dataset.X = dataset.layers[\"soupX_counts\"].copy()"
   ]
  },
  {
   "cell_type": "code",
   "execution_count": null,
   "id": "e27da7df-e094-4d2a-9109-5a363e012175",
   "metadata": {
    "execution": {
     "iopub.execute_input": "2023-05-15T09:23:40.732161Z",
     "iopub.status.busy": "2023-05-15T09:23:40.731974Z",
     "iopub.status.idle": "2023-05-15T09:23:40.734518Z",
     "shell.execute_reply": "2023-05-15T09:23:40.734164Z"
    },
    "papermill": {
     "duration": 0.006693,
     "end_time": "2023-05-15T09:23:40.735297",
     "exception": false,
     "start_time": "2023-05-15T09:23:40.728604",
     "status": "completed"
    },
    "tags": []
   },
   "outputs": [],
   "source": [
    "data_mat = dataset.X.T"
   ]
  },
  {
   "cell_type": "code",
   "execution_count": null,
   "id": "80a993b1-5ccb-4697-9187-1beb7ab8aff9",
   "metadata": {
    "execution": {
     "iopub.execute_input": "2023-05-15T09:23:40.741560Z",
     "iopub.status.busy": "2023-05-15T09:23:40.741327Z",
     "iopub.status.idle": "2023-05-15T09:24:10.155240Z",
     "shell.execute_reply": "2023-05-15T09:24:10.154666Z"
    },
    "papermill": {
     "duration": 29.418444,
     "end_time": "2023-05-15T09:24:10.156498",
     "exception": false,
     "start_time": "2023-05-15T09:23:40.738054",
     "status": "completed"
    },
    "tags": []
   },
   "outputs": [],
   "source": [
    "%%R -i data_mat -o droplet_class\n",
    "\n",
    "set.seed(187)\n",
    "sce = scDblFinder(\n",
    "    SingleCellExperiment(\n",
    "        list(counts=data_mat),\n",
    "    ) \n",
    ")\n",
    "droplet_class = sce$scDblFinder.class"
   ]
  },
  {
   "cell_type": "code",
   "execution_count": null,
   "id": "d4dd6e9d-fcf2-41fc-8457-c8e0a3cb2c71",
   "metadata": {
    "execution": {
     "iopub.execute_input": "2023-05-15T09:24:10.165691Z",
     "iopub.status.busy": "2023-05-15T09:24:10.165541Z",
     "iopub.status.idle": "2023-05-15T09:24:10.170451Z",
     "shell.execute_reply": "2023-05-15T09:24:10.170145Z"
    },
    "papermill": {
     "duration": 0.009285,
     "end_time": "2023-05-15T09:24:10.171366",
     "exception": false,
     "start_time": "2023-05-15T09:24:10.162081",
     "status": "completed"
    },
    "tags": []
   },
   "outputs": [],
   "source": [
    "dataset.obs[\"scDblFinder_class\"] = droplet_class\n",
    "dataset.obs.scDblFinder_class.value_counts()\n",
    "dataset"
   ]
  },
  {
   "cell_type": "code",
   "execution_count": null,
   "id": "28c95014-2d6c-477f-95cb-9f9f0507520c",
   "metadata": {
    "execution": {
     "iopub.execute_input": "2023-05-15T09:24:10.177692Z",
     "iopub.status.busy": "2023-05-15T09:24:10.177554Z",
     "iopub.status.idle": "2023-05-15T09:24:10.189091Z",
     "shell.execute_reply": "2023-05-15T09:24:10.188779Z"
    },
    "papermill": {
     "duration": 0.015734,
     "end_time": "2023-05-15T09:24:10.189899",
     "exception": false,
     "start_time": "2023-05-15T09:24:10.174165",
     "status": "completed"
    },
    "tags": []
   },
   "outputs": [],
   "source": [
    "dataset = dataset[dataset.obs[\"scDblFinder_class\"] == 1]"
   ]
  },
  {
   "cell_type": "code",
   "execution_count": null,
   "id": "3e22f9e0-bfcb-416c-a151-a9bca3bec3b9",
   "metadata": {
    "execution": {
     "iopub.execute_input": "2023-05-15T09:24:10.196174Z",
     "iopub.status.busy": "2023-05-15T09:24:10.196048Z",
     "iopub.status.idle": "2023-05-15T09:24:10.324348Z",
     "shell.execute_reply": "2023-05-15T09:24:10.323926Z"
    },
    "papermill": {
     "duration": 0.132464,
     "end_time": "2023-05-15T09:24:10.325267",
     "exception": false,
     "start_time": "2023-05-15T09:24:10.192803",
     "status": "completed"
    },
    "tags": []
   },
   "outputs": [],
   "source": [
    "# mitochondrial genes\n",
    "dataset.var[\"mt\"] = dataset.var_names.str.startswith(\"MT-\")\n",
    "# ribosomal genes\n",
    "dataset.var[\"ribo\"] = dataset.var_names.str.startswith((\"RPS\", \"RPL\"))\n",
    "# hemoglobin genes.\n",
    "dataset.var[\"hb\"] = dataset.var_names.str.contains((\"^HB[^(P)]\"))\n",
    "\n",
    "sc.pp.calculate_qc_metrics(dataset,\n",
    "                           qc_vars=['mt', 'ribo', 'hb'],\n",
    "                           percent_top=None,\n",
    "                           log1p=False,\n",
    "                           inplace=True)\n",
    "dataset"
   ]
  },
  {
   "cell_type": "code",
   "execution_count": null,
   "id": "34deee79-4043-428f-8575-aa57b45f6369",
   "metadata": {
    "execution": {
     "iopub.execute_input": "2023-05-15T09:24:10.332391Z",
     "iopub.status.busy": "2023-05-15T09:24:10.332227Z",
     "iopub.status.idle": "2023-05-15T09:24:10.808104Z",
     "shell.execute_reply": "2023-05-15T09:24:10.807676Z"
    },
    "papermill": {
     "duration": 0.480219,
     "end_time": "2023-05-15T09:24:10.808911",
     "exception": false,
     "start_time": "2023-05-15T09:24:10.328692",
     "status": "completed"
    },
    "tags": []
   },
   "outputs": [],
   "source": [
    "fig, ax = plt.subplots(ncols = 4, figsize = (16,4))\n",
    "axis = sc.pl.violin(dataset, \"n_genes_by_counts\", jitter = 0.4, ax = ax[0], show = False)\n",
    "axis.grid(False)\n",
    "axis.set_title(\"Unique Genes per cell\")\n",
    "axis.tick_params(axis = \"x\", bottom =False, labelbottom =False)\n",
    "axis.set_ylabel(\"# genes\")\n",
    "axis.axhline(y = 100, color = \"black\", label = \"cutoff\")\n",
    "axis.legend(fontsize = 14, loc = \"upper right\")\n",
    "\n",
    "axis = sc.pl.violin(dataset, \"pct_counts_mt\", jitter = 0.4, ax = ax[1], show = False)\n",
    "axis.grid(False)\n",
    "axis.set_title(\"Mitochondrial Fraction\")\n",
    "axis.tick_params(axis = \"x\", bottom =False, labelbottom =False)\n",
    "axis.set_ylabel(\"% mitochondrial genes\")\n",
    "axis.axhline(y = 10, color = \"black\", label = \"cutoff\")\n",
    "axis.legend(fontsize = 14, loc = \"upper right\")\n",
    "\n",
    "axis = sc.pl.violin(dataset, \"pct_counts_hb\", jitter = 0.4, ax = ax[2], show = False, size =2)\n",
    "axis.grid(False)\n",
    "axis.set_title(\"Hemoglobin Fraction\")\n",
    "axis.tick_params(axis = \"x\", bottom =False, labelbottom =False)\n",
    "axis.set_ylabel(\"% hemoglobin genes\")\n",
    "axis.axhline(y = 3, color = \"black\", label = \"cutoff\")\n",
    "axis.legend(fontsize = 14, loc = \"upper right\")\n",
    "#axis.set_ylim(0,5)\n",
    "\n",
    "axis = sc.pl.violin(dataset, \"pct_counts_ribo\", jitter = 0.4, ax = ax[3], show = False)\n",
    "axis.grid(False)\n",
    "axis.set_title(\"Ribosomal Fraction\")\n",
    "axis.tick_params(axis = \"x\", bottom =False, labelbottom =False)\n",
    "axis.set_ylabel(\"% ribosome genes\")\n",
    "\n",
    "plt.tight_layout()\n",
    "#plt.savefig(f\"{outputDir}08_gene_based_filtering.pdf\", dpi = 300)\n",
    "plt.show()\n",
    "\n"
   ]
  },
  {
   "cell_type": "code",
   "execution_count": null,
   "id": "d7ade754-843e-4840-8707-426613d8c0c5",
   "metadata": {
    "execution": {
     "iopub.execute_input": "2023-05-15T09:24:10.818197Z",
     "iopub.status.busy": "2023-05-15T09:24:10.817992Z",
     "iopub.status.idle": "2023-05-15T09:24:10.826928Z",
     "shell.execute_reply": "2023-05-15T09:24:10.826620Z"
    },
    "papermill": {
     "duration": 0.014281,
     "end_time": "2023-05-15T09:24:10.827689",
     "exception": false,
     "start_time": "2023-05-15T09:24:10.813408",
     "status": "completed"
    },
    "tags": []
   },
   "outputs": [],
   "source": [
    "dataset = dataset[dataset.obs.pct_counts_mt < 10, :]\n",
    "dataset = dataset[dataset.obs.n_genes_by_counts > 100, :]\n",
    "dataset = dataset[dataset.obs.pct_counts_hb < 3, :]\n",
    "dataset"
   ]
  },
  {
   "cell_type": "code",
   "execution_count": null,
   "id": "1941fa36-e865-4500-b586-f7a32d142c9b",
   "metadata": {
    "execution": {
     "iopub.execute_input": "2023-05-15T09:24:10.836940Z",
     "iopub.status.busy": "2023-05-15T09:24:10.836786Z",
     "iopub.status.idle": "2023-05-15T09:24:10.839528Z",
     "shell.execute_reply": "2023-05-15T09:24:10.839240Z"
    },
    "papermill": {
     "duration": 0.008426,
     "end_time": "2023-05-15T09:24:10.840309",
     "exception": false,
     "start_time": "2023-05-15T09:24:10.831883",
     "status": "completed"
    },
    "tags": []
   },
   "outputs": [],
   "source": [
    "metadata.columns"
   ]
  },
  {
   "cell_type": "code",
   "execution_count": null,
   "id": "2e0ff8c3-2aa9-4a01-9b88-5912a6734447",
   "metadata": {
    "execution": {
     "iopub.execute_input": "2023-05-15T09:24:10.849447Z",
     "iopub.status.busy": "2023-05-15T09:24:10.849245Z",
     "iopub.status.idle": "2023-05-15T09:24:10.887570Z",
     "shell.execute_reply": "2023-05-15T09:24:10.887089Z"
    },
    "papermill": {
     "duration": 0.044061,
     "end_time": "2023-05-15T09:24:10.888670",
     "exception": false,
     "start_time": "2023-05-15T09:24:10.844609",
     "status": "completed"
    },
    "tags": []
   },
   "outputs": [],
   "source": [
    "for col in metadata.columns:\n",
    "    dataset.obs[col] = metadata.loc[metadata[\"Run\"] == sample_name, col].to_list()[0]"
   ]
  },
  {
   "cell_type": "code",
   "execution_count": null,
   "id": "b84578d3-d63e-419c-a272-a0b8317d05ab",
   "metadata": {
    "execution": {
     "iopub.execute_input": "2023-05-15T09:24:10.898497Z",
     "iopub.status.busy": "2023-05-15T09:24:10.898227Z",
     "iopub.status.idle": "2023-05-15T09:24:11.490507Z",
     "shell.execute_reply": "2023-05-15T09:24:11.490037Z"
    },
    "papermill": {
     "duration": 0.598519,
     "end_time": "2023-05-15T09:24:11.491816",
     "exception": false,
     "start_time": "2023-05-15T09:24:10.893297",
     "status": "completed"
    },
    "tags": []
   },
   "outputs": [],
   "source": [
    "dataset.write(f\"../../int_data/{sample_name}_qc.h5ad\")"
   ]
  },
  {
   "cell_type": "code",
   "execution_count": null,
   "id": "501b33a0-432d-415f-ae82-50723484b85d",
   "metadata": {
    "execution": {
     "iopub.execute_input": "2023-05-15T09:24:11.501316Z",
     "iopub.status.busy": "2023-05-15T09:24:11.501129Z",
     "iopub.status.idle": "2023-05-15T09:24:11.504216Z",
     "shell.execute_reply": "2023-05-15T09:24:11.503895Z"
    },
    "papermill": {
     "duration": 0.008593,
     "end_time": "2023-05-15T09:24:11.505011",
     "exception": false,
     "start_time": "2023-05-15T09:24:11.496418",
     "status": "completed"
    },
    "tags": []
   },
   "outputs": [],
   "source": [
    "dataset"
   ]
  }
 ],
 "metadata": {
  "kernelspec": {
   "display_name": "py_R",
   "language": "python",
   "name": "python_r"
  },
  "language_info": {
   "codemirror_mode": {
    "name": "ipython",
    "version": 3
   },
   "file_extension": ".py",
   "mimetype": "text/x-python",
   "name": "python",
   "nbconvert_exporter": "python",
   "pygments_lexer": "ipython3",
   "version": "3.10.9"
  },
  "papermill": {
   "default_parameters": {},
   "duration": 110.390787,
   "end_time": "2023-05-15T09:24:14.340228",
   "environment_variables": {},
   "exception": null,
   "input_path": "template.ipynb",
   "output_path": "SRR13329147.ipynb",
   "parameters": {
    "sample_name": "SRR13329147"
   },
   "start_time": "2023-05-15T09:22:23.949441",
   "version": "2.4.0"
  }
 },
 "nbformat": 4,
 "nbformat_minor": 5
}
