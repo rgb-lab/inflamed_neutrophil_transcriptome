{
 "cells": [
  {
   "cell_type": "code",
   "execution_count": null,
   "id": "4c0f2fa8-5232-4f47-a7ec-6c9bbabe50e2",
   "metadata": {
    "execution": {
     "iopub.execute_input": "2023-05-15T09:32:04.128353Z",
     "iopub.status.busy": "2023-05-15T09:32:04.128189Z",
     "iopub.status.idle": "2023-05-15T09:32:04.132869Z",
     "shell.execute_reply": "2023-05-15T09:32:04.132521Z"
    },
    "papermill": {
     "duration": 0.008983,
     "end_time": "2023-05-15T09:32:04.133781",
     "exception": false,
     "start_time": "2023-05-15T09:32:04.124798",
     "status": "completed"
    },
    "tags": [
     "parameters"
    ]
   },
   "outputs": [],
   "source": [
    "sample_name = \"SRR13329143\""
   ]
  },
  {
   "cell_type": "code",
   "execution_count": null,
   "id": "db28cac9",
   "metadata": {
    "execution": {
     "iopub.execute_input": "2023-05-15T09:32:04.138997Z",
     "iopub.status.busy": "2023-05-15T09:32:04.138874Z",
     "iopub.status.idle": "2023-05-15T09:32:04.141358Z",
     "shell.execute_reply": "2023-05-15T09:32:04.141075Z"
    },
    "papermill": {
     "duration": 0.005946,
     "end_time": "2023-05-15T09:32:04.142129",
     "exception": false,
     "start_time": "2023-05-15T09:32:04.136183",
     "status": "completed"
    },
    "tags": [
     "injected-parameters"
    ]
   },
   "outputs": [],
   "source": [
    "# Parameters\n",
    "sample_name = \"SRR13329151\"\n"
   ]
  },
  {
   "cell_type": "code",
   "execution_count": null,
   "id": "f87ed95b-2b67-4a5a-8fe2-47359b1dd2a9",
   "metadata": {
    "execution": {
     "iopub.execute_input": "2023-05-15T09:32:04.147337Z",
     "iopub.status.busy": "2023-05-15T09:32:04.147124Z",
     "iopub.status.idle": "2023-05-15T09:32:04.149203Z",
     "shell.execute_reply": "2023-05-15T09:32:04.148909Z"
    },
    "papermill": {
     "duration": 0.005497,
     "end_time": "2023-05-15T09:32:04.149963",
     "exception": false,
     "start_time": "2023-05-15T09:32:04.144466",
     "status": "completed"
    },
    "tags": []
   },
   "outputs": [],
   "source": [
    "import warnings\n",
    "warnings.simplefilter(action='ignore', category=FutureWarning)\n",
    "warnings.simplefilter(action='ignore', category=UserWarning)"
   ]
  },
  {
   "cell_type": "code",
   "execution_count": null,
   "id": "85161f19-b2c5-490b-8cab-c2cf9653b304",
   "metadata": {
    "execution": {
     "iopub.execute_input": "2023-05-15T09:32:04.155246Z",
     "iopub.status.busy": "2023-05-15T09:32:04.155049Z",
     "iopub.status.idle": "2023-05-15T09:32:08.766390Z",
     "shell.execute_reply": "2023-05-15T09:32:08.765982Z"
    },
    "papermill": {
     "duration": 4.615397,
     "end_time": "2023-05-15T09:32:08.767743",
     "exception": false,
     "start_time": "2023-05-15T09:32:04.152346",
     "status": "completed"
    },
    "tags": []
   },
   "outputs": [],
   "source": [
    "import gc\n",
    "import scanpy as sc\n",
    "import muon as mu\n",
    "import seaborn as sns\n",
    "import os\n",
    "import pandas as pd\n",
    "from matplotlib import pyplot as plt\n",
    "\n",
    "os.environ['R_HOME'] = '/gpfs/bwfor/work/ws/hd_fu399-conda/conda/envs/python_R/lib/R/'\n",
    "import anndata2ri\n",
    "import logging\n",
    "\n",
    "import rpy2.rinterface_lib.callbacks as rcb\n",
    "import rpy2.robjects as ro\n",
    "\n",
    "rcb.logger.setLevel(logging.ERROR)\n",
    "ro.pandas2ri.activate()\n",
    "anndata2ri.activate()\n",
    "\n",
    "%load_ext rpy2.ipython"
   ]
  },
  {
   "cell_type": "code",
   "execution_count": null,
   "id": "fc4ade78-b728-4704-9db6-45fbaab62ba1",
   "metadata": {
    "execution": {
     "iopub.execute_input": "2023-05-15T09:32:08.773943Z",
     "iopub.status.busy": "2023-05-15T09:32:08.773668Z",
     "iopub.status.idle": "2023-05-15T09:32:19.704214Z",
     "shell.execute_reply": "2023-05-15T09:32:19.703676Z"
    },
    "papermill": {
     "duration": 10.934649,
     "end_time": "2023-05-15T09:32:19.705433",
     "exception": false,
     "start_time": "2023-05-15T09:32:08.770784",
     "status": "completed"
    },
    "tags": []
   },
   "outputs": [],
   "source": [
    "%%R\n",
    "library(SoupX)\n",
    "library(Seurat)\n",
    "library(scater)\n",
    "library(scDblFinder)\n",
    "library(BiocParallel)\n",
    "library(MuDataSeurat)\n",
    "library(DropletUtils)"
   ]
  },
  {
   "cell_type": "code",
   "execution_count": null,
   "id": "f7424d90-7690-4290-8651-1db3f9df3a35",
   "metadata": {
    "execution": {
     "iopub.execute_input": "2023-05-15T09:32:19.713849Z",
     "iopub.status.busy": "2023-05-15T09:32:19.713660Z",
     "iopub.status.idle": "2023-05-15T09:32:19.719496Z",
     "shell.execute_reply": "2023-05-15T09:32:19.719172Z"
    },
    "papermill": {
     "duration": 0.009916,
     "end_time": "2023-05-15T09:32:19.720386",
     "exception": false,
     "start_time": "2023-05-15T09:32:19.710470",
     "status": "completed"
    },
    "tags": []
   },
   "outputs": [],
   "source": [
    "metadata = pd.read_csv(\"../../combes_metadata.txt\")"
   ]
  },
  {
   "cell_type": "code",
   "execution_count": null,
   "id": "2574ecf1-bad4-4c33-8f3f-718a358727ab",
   "metadata": {
    "execution": {
     "iopub.execute_input": "2023-05-15T09:32:19.725584Z",
     "iopub.status.busy": "2023-05-15T09:32:19.725410Z",
     "iopub.status.idle": "2023-05-15T09:32:19.727490Z",
     "shell.execute_reply": "2023-05-15T09:32:19.727139Z"
    },
    "papermill": {
     "duration": 0.005555,
     "end_time": "2023-05-15T09:32:19.728248",
     "exception": false,
     "start_time": "2023-05-15T09:32:19.722693",
     "status": "completed"
    },
    "tags": []
   },
   "outputs": [],
   "source": [
    "raw_input = f\"/home/hd/hd_hd/hd_fu399/sds-hd/sd21k006/scRNAseq/revision_natcomm/combes_et_al/fetchngs/results/fastq/{sample_name}/{sample_name}/outs/raw_feature_bc_matrix.h5\""
   ]
  },
  {
   "cell_type": "code",
   "execution_count": null,
   "id": "e266d388-1802-435c-93a5-90067358739c",
   "metadata": {
    "execution": {
     "iopub.execute_input": "2023-05-15T09:32:19.733571Z",
     "iopub.status.busy": "2023-05-15T09:32:19.733348Z",
     "iopub.status.idle": "2023-05-15T09:32:20.073705Z",
     "shell.execute_reply": "2023-05-15T09:32:20.073320Z"
    },
    "papermill": {
     "duration": 0.344073,
     "end_time": "2023-05-15T09:32:20.074624",
     "exception": false,
     "start_time": "2023-05-15T09:32:19.730551",
     "status": "completed"
    },
    "tags": []
   },
   "outputs": [],
   "source": [
    "dataset = sc.read_10x_h5(raw_input)\n",
    "dataset.var_names_make_unique()\n",
    "dataset.obs_names_make_unique()\n",
    "\n",
    "dataset.layers[\"raw_counts\"] = dataset.X.copy()\n",
    "data_tod = dataset.layers[\"raw_counts\"].T.copy()\n",
    "\n",
    "dataset"
   ]
  },
  {
   "cell_type": "code",
   "execution_count": null,
   "id": "af9f5892-ed31-42a6-991b-4e096f582cef",
   "metadata": {
    "execution": {
     "iopub.execute_input": "2023-05-15T09:32:20.080795Z",
     "iopub.status.busy": "2023-05-15T09:32:20.080643Z",
     "iopub.status.idle": "2023-05-15T09:32:20.114031Z",
     "shell.execute_reply": "2023-05-15T09:32:20.113566Z"
    },
    "papermill": {
     "duration": 0.037568,
     "end_time": "2023-05-15T09:32:20.115297",
     "exception": false,
     "start_time": "2023-05-15T09:32:20.077729",
     "status": "completed"
    },
    "tags": []
   },
   "outputs": [],
   "source": [
    "sce = dataset.copy()"
   ]
  },
  {
   "cell_type": "code",
   "execution_count": null,
   "id": "d03f2caf-8e74-430e-b045-0ab80401d165",
   "metadata": {
    "execution": {
     "iopub.execute_input": "2023-05-15T09:32:20.121388Z",
     "iopub.status.busy": "2023-05-15T09:32:20.121225Z",
     "iopub.status.idle": "2023-05-15T09:32:50.328677Z",
     "shell.execute_reply": "2023-05-15T09:32:50.328062Z"
    },
    "papermill": {
     "duration": 30.211743,
     "end_time": "2023-05-15T09:32:50.330006",
     "exception": false,
     "start_time": "2023-05-15T09:32:20.118263",
     "status": "completed"
    },
    "tags": []
   },
   "outputs": [],
   "source": [
    "%%R -i sce -o empty_drop_output\n",
    "set.seed(187)\n",
    "empty_drop_output <- emptyDrops(assay(sce))"
   ]
  },
  {
   "cell_type": "code",
   "execution_count": null,
   "id": "2a34a54b-3ae2-44d6-8679-8769228c5b66",
   "metadata": {
    "execution": {
     "iopub.execute_input": "2023-05-15T09:32:50.339870Z",
     "iopub.status.busy": "2023-05-15T09:32:50.339721Z",
     "iopub.status.idle": "2023-05-15T09:32:50.365436Z",
     "shell.execute_reply": "2023-05-15T09:32:50.365123Z"
    },
    "papermill": {
     "duration": 0.029551,
     "end_time": "2023-05-15T09:32:50.366203",
     "exception": false,
     "start_time": "2023-05-15T09:32:50.336652",
     "status": "completed"
    },
    "tags": []
   },
   "outputs": [],
   "source": [
    "non_empty_barcodes = empty_drop_output[empty_drop_output[\"FDR\"] < 0.001].index\n",
    "dataset = dataset[dataset.obs.index.isin(non_empty_barcodes), :]\n",
    "dataset"
   ]
  },
  {
   "cell_type": "code",
   "execution_count": null,
   "id": "016a91e5-1bef-46fb-b91e-4fb9a6870c44",
   "metadata": {
    "execution": {
     "iopub.execute_input": "2023-05-15T09:32:50.372024Z",
     "iopub.status.busy": "2023-05-15T09:32:50.371789Z",
     "iopub.status.idle": "2023-05-15T09:32:52.395088Z",
     "shell.execute_reply": "2023-05-15T09:32:52.394612Z"
    },
    "papermill": {
     "duration": 2.027479,
     "end_time": "2023-05-15T09:32:52.396309",
     "exception": false,
     "start_time": "2023-05-15T09:32:50.368830",
     "status": "completed"
    },
    "tags": []
   },
   "outputs": [],
   "source": [
    "rna_assay = dataset.copy()\n",
    "sc.pp.normalize_per_cell(rna_assay)\n",
    "sc.pp.log1p(rna_assay)\n",
    "sc.pp.pca(rna_assay)\n",
    "sc.pp.neighbors(rna_assay)\n",
    "sc.tl.leiden(rna_assay, key_added=\"soupx_groups\")\n",
    "\n",
    "soupx_groups = rna_assay.obs[\"soupx_groups\"]\n",
    "\n",
    "del rna_assay\n",
    "\n",
    "genes = dataset.var_names\n",
    "cells = dataset.obs_names\n",
    "data = dataset.X.T.copy()"
   ]
  },
  {
   "cell_type": "code",
   "execution_count": null,
   "id": "9db4ea1f-1580-4f43-a3f0-86002397cd98",
   "metadata": {
    "execution": {
     "iopub.execute_input": "2023-05-15T09:32:52.402983Z",
     "iopub.status.busy": "2023-05-15T09:32:52.402824Z",
     "iopub.status.idle": "2023-05-15T09:32:55.879942Z",
     "shell.execute_reply": "2023-05-15T09:32:55.879346Z"
    },
    "papermill": {
     "duration": 3.481647,
     "end_time": "2023-05-15T09:32:55.881263",
     "exception": false,
     "start_time": "2023-05-15T09:32:52.399616",
     "status": "completed"
    },
    "tags": []
   },
   "outputs": [],
   "source": [
    "%%R -i data -i data_tod -i genes -i cells -i soupx_groups -o out \n",
    "set.seed(187)\n",
    "# specify row and column names of data\n",
    "rownames(data) = genes\n",
    "colnames(data) = cells\n",
    "# ensure correct sparse format for table of counts and table of droplets\n",
    "data <- as(data, \"sparseMatrix\")\n",
    "data_tod <- as(data_tod, \"sparseMatrix\")\n",
    "\n",
    "# Generate SoupChannel Object for SoupX \n",
    "sc = SoupChannel(data_tod, data, calcSoupProfile = FALSE)\n",
    "\n",
    "# Add extra meta data to the SoupChannel object\n",
    "soupProf = data.frame(row.names = rownames(data),\n",
    "                      est = rowSums(data)/sum(data),\n",
    "                      counts = rowSums(data))\n",
    "sc = setSoupProfile(sc, soupProf)\n",
    "# Set cluster information in SoupChannel\n",
    "sc = setClusters(sc, soupx_groups)\n",
    "\n",
    "# Estimate contamination fraction\n",
    "sc  = autoEstCont(sc, doPlot=FALSE, forceAccept = TRUE)\n",
    "# Infer corrected table of counts and rount to integer\n",
    "out = adjustCounts(sc, roundToInt = TRUE)"
   ]
  },
  {
   "cell_type": "code",
   "execution_count": null,
   "id": "32555d5e-5fa3-46dd-a4e0-ddc96ea265e2",
   "metadata": {
    "execution": {
     "iopub.execute_input": "2023-05-15T09:32:55.888013Z",
     "iopub.status.busy": "2023-05-15T09:32:55.887825Z",
     "iopub.status.idle": "2023-05-15T09:32:55.896598Z",
     "shell.execute_reply": "2023-05-15T09:32:55.896235Z"
    },
    "papermill": {
     "duration": 0.01291,
     "end_time": "2023-05-15T09:32:55.897454",
     "exception": false,
     "start_time": "2023-05-15T09:32:55.884544",
     "status": "completed"
    },
    "tags": []
   },
   "outputs": [],
   "source": [
    "dataset.layers[\"soupX_counts\"] = out.T\n",
    "dataset.X = dataset.layers[\"soupX_counts\"].copy()"
   ]
  },
  {
   "cell_type": "code",
   "execution_count": null,
   "id": "e27da7df-e094-4d2a-9109-5a363e012175",
   "metadata": {
    "execution": {
     "iopub.execute_input": "2023-05-15T09:32:55.903565Z",
     "iopub.status.busy": "2023-05-15T09:32:55.903323Z",
     "iopub.status.idle": "2023-05-15T09:32:55.915113Z",
     "shell.execute_reply": "2023-05-15T09:32:55.914800Z"
    },
    "papermill": {
     "duration": 0.015694,
     "end_time": "2023-05-15T09:32:55.915913",
     "exception": false,
     "start_time": "2023-05-15T09:32:55.900219",
     "status": "completed"
    },
    "tags": []
   },
   "outputs": [],
   "source": [
    "data_mat = dataset.X.T"
   ]
  },
  {
   "cell_type": "code",
   "execution_count": null,
   "id": "80a993b1-5ccb-4697-9187-1beb7ab8aff9",
   "metadata": {
    "execution": {
     "iopub.execute_input": "2023-05-15T09:32:55.943839Z",
     "iopub.status.busy": "2023-05-15T09:32:55.943702Z",
     "iopub.status.idle": "2023-05-15T09:33:06.808035Z",
     "shell.execute_reply": "2023-05-15T09:33:06.807425Z"
    },
    "papermill": {
     "duration": 10.868819,
     "end_time": "2023-05-15T09:33:06.809371",
     "exception": false,
     "start_time": "2023-05-15T09:32:55.940552",
     "status": "completed"
    },
    "tags": []
   },
   "outputs": [],
   "source": [
    "%%R -i data_mat -o droplet_class\n",
    "\n",
    "set.seed(187)\n",
    "sce = scDblFinder(\n",
    "    SingleCellExperiment(\n",
    "        list(counts=data_mat),\n",
    "    ) \n",
    ")\n",
    "droplet_class = sce$scDblFinder.class"
   ]
  },
  {
   "cell_type": "code",
   "execution_count": null,
   "id": "d4dd6e9d-fcf2-41fc-8457-c8e0a3cb2c71",
   "metadata": {
    "execution": {
     "iopub.execute_input": "2023-05-15T09:33:06.818947Z",
     "iopub.status.busy": "2023-05-15T09:33:06.818775Z",
     "iopub.status.idle": "2023-05-15T09:33:06.823887Z",
     "shell.execute_reply": "2023-05-15T09:33:06.823551Z"
    },
    "papermill": {
     "duration": 0.009416,
     "end_time": "2023-05-15T09:33:06.824672",
     "exception": false,
     "start_time": "2023-05-15T09:33:06.815256",
     "status": "completed"
    },
    "tags": []
   },
   "outputs": [],
   "source": [
    "dataset.obs[\"scDblFinder_class\"] = droplet_class\n",
    "dataset.obs.scDblFinder_class.value_counts()\n",
    "dataset"
   ]
  },
  {
   "cell_type": "code",
   "execution_count": null,
   "id": "28c95014-2d6c-477f-95cb-9f9f0507520c",
   "metadata": {
    "execution": {
     "iopub.execute_input": "2023-05-15T09:33:06.830738Z",
     "iopub.status.busy": "2023-05-15T09:33:06.830572Z",
     "iopub.status.idle": "2023-05-15T09:33:06.848055Z",
     "shell.execute_reply": "2023-05-15T09:33:06.847668Z"
    },
    "papermill": {
     "duration": 0.021404,
     "end_time": "2023-05-15T09:33:06.848860",
     "exception": false,
     "start_time": "2023-05-15T09:33:06.827456",
     "status": "completed"
    },
    "tags": []
   },
   "outputs": [],
   "source": [
    "dataset = dataset[dataset.obs[\"scDblFinder_class\"] == 1]"
   ]
  },
  {
   "cell_type": "code",
   "execution_count": null,
   "id": "3e22f9e0-bfcb-416c-a151-a9bca3bec3b9",
   "metadata": {
    "execution": {
     "iopub.execute_input": "2023-05-15T09:33:06.855824Z",
     "iopub.status.busy": "2023-05-15T09:33:06.855662Z",
     "iopub.status.idle": "2023-05-15T09:33:06.905145Z",
     "shell.execute_reply": "2023-05-15T09:33:06.904746Z"
    },
    "papermill": {
     "duration": 0.053973,
     "end_time": "2023-05-15T09:33:06.905957",
     "exception": false,
     "start_time": "2023-05-15T09:33:06.851984",
     "status": "completed"
    },
    "tags": []
   },
   "outputs": [],
   "source": [
    "# mitochondrial genes\n",
    "dataset.var[\"mt\"] = dataset.var_names.str.startswith(\"MT-\")\n",
    "# ribosomal genes\n",
    "dataset.var[\"ribo\"] = dataset.var_names.str.startswith((\"RPS\", \"RPL\"))\n",
    "# hemoglobin genes.\n",
    "dataset.var[\"hb\"] = dataset.var_names.str.contains((\"^HB[^(P)]\"))\n",
    "\n",
    "sc.pp.calculate_qc_metrics(dataset,\n",
    "                           qc_vars=['mt', 'ribo', 'hb'],\n",
    "                           percent_top=None,\n",
    "                           log1p=False,\n",
    "                           inplace=True)\n",
    "dataset"
   ]
  },
  {
   "cell_type": "code",
   "execution_count": null,
   "id": "34deee79-4043-428f-8575-aa57b45f6369",
   "metadata": {
    "execution": {
     "iopub.execute_input": "2023-05-15T09:33:06.912756Z",
     "iopub.status.busy": "2023-05-15T09:33:06.912616Z",
     "iopub.status.idle": "2023-05-15T09:33:07.335150Z",
     "shell.execute_reply": "2023-05-15T09:33:07.334757Z"
    },
    "papermill": {
     "duration": 0.426785,
     "end_time": "2023-05-15T09:33:07.336019",
     "exception": false,
     "start_time": "2023-05-15T09:33:06.909234",
     "status": "completed"
    },
    "tags": []
   },
   "outputs": [],
   "source": [
    "fig, ax = plt.subplots(ncols = 4, figsize = (16,4))\n",
    "axis = sc.pl.violin(dataset, \"n_genes_by_counts\", jitter = 0.4, ax = ax[0], show = False)\n",
    "axis.grid(False)\n",
    "axis.set_title(\"Unique Genes per cell\")\n",
    "axis.tick_params(axis = \"x\", bottom =False, labelbottom =False)\n",
    "axis.set_ylabel(\"# genes\")\n",
    "axis.axhline(y = 100, color = \"black\", label = \"cutoff\")\n",
    "axis.legend(fontsize = 14, loc = \"upper right\")\n",
    "\n",
    "axis = sc.pl.violin(dataset, \"pct_counts_mt\", jitter = 0.4, ax = ax[1], show = False)\n",
    "axis.grid(False)\n",
    "axis.set_title(\"Mitochondrial Fraction\")\n",
    "axis.tick_params(axis = \"x\", bottom =False, labelbottom =False)\n",
    "axis.set_ylabel(\"% mitochondrial genes\")\n",
    "axis.axhline(y = 10, color = \"black\", label = \"cutoff\")\n",
    "axis.legend(fontsize = 14, loc = \"upper right\")\n",
    "\n",
    "axis = sc.pl.violin(dataset, \"pct_counts_hb\", jitter = 0.4, ax = ax[2], show = False, size =2)\n",
    "axis.grid(False)\n",
    "axis.set_title(\"Hemoglobin Fraction\")\n",
    "axis.tick_params(axis = \"x\", bottom =False, labelbottom =False)\n",
    "axis.set_ylabel(\"% hemoglobin genes\")\n",
    "axis.axhline(y = 3, color = \"black\", label = \"cutoff\")\n",
    "axis.legend(fontsize = 14, loc = \"upper right\")\n",
    "#axis.set_ylim(0,5)\n",
    "\n",
    "axis = sc.pl.violin(dataset, \"pct_counts_ribo\", jitter = 0.4, ax = ax[3], show = False)\n",
    "axis.grid(False)\n",
    "axis.set_title(\"Ribosomal Fraction\")\n",
    "axis.tick_params(axis = \"x\", bottom =False, labelbottom =False)\n",
    "axis.set_ylabel(\"% ribosome genes\")\n",
    "\n",
    "plt.tight_layout()\n",
    "#plt.savefig(f\"{outputDir}08_gene_based_filtering.pdf\", dpi = 300)\n",
    "plt.show()\n",
    "\n"
   ]
  },
  {
   "cell_type": "code",
   "execution_count": null,
   "id": "d7ade754-843e-4840-8707-426613d8c0c5",
   "metadata": {
    "execution": {
     "iopub.execute_input": "2023-05-15T09:33:07.344747Z",
     "iopub.status.busy": "2023-05-15T09:33:07.344532Z",
     "iopub.status.idle": "2023-05-15T09:33:07.353087Z",
     "shell.execute_reply": "2023-05-15T09:33:07.352775Z"
    },
    "papermill": {
     "duration": 0.013622,
     "end_time": "2023-05-15T09:33:07.353865",
     "exception": false,
     "start_time": "2023-05-15T09:33:07.340243",
     "status": "completed"
    },
    "tags": []
   },
   "outputs": [],
   "source": [
    "dataset = dataset[dataset.obs.pct_counts_mt < 10, :]\n",
    "dataset = dataset[dataset.obs.n_genes_by_counts > 100, :]\n",
    "dataset = dataset[dataset.obs.pct_counts_hb < 3, :]\n",
    "dataset"
   ]
  },
  {
   "cell_type": "code",
   "execution_count": null,
   "id": "1941fa36-e865-4500-b586-f7a32d142c9b",
   "metadata": {
    "execution": {
     "iopub.execute_input": "2023-05-15T09:33:07.361980Z",
     "iopub.status.busy": "2023-05-15T09:33:07.361820Z",
     "iopub.status.idle": "2023-05-15T09:33:07.365803Z",
     "shell.execute_reply": "2023-05-15T09:33:07.365497Z"
    },
    "papermill": {
     "duration": 0.009029,
     "end_time": "2023-05-15T09:33:07.366587",
     "exception": false,
     "start_time": "2023-05-15T09:33:07.357558",
     "status": "completed"
    },
    "tags": []
   },
   "outputs": [],
   "source": [
    "metadata.columns"
   ]
  },
  {
   "cell_type": "code",
   "execution_count": null,
   "id": "2e0ff8c3-2aa9-4a01-9b88-5912a6734447",
   "metadata": {
    "execution": {
     "iopub.execute_input": "2023-05-15T09:33:07.374574Z",
     "iopub.status.busy": "2023-05-15T09:33:07.374439Z",
     "iopub.status.idle": "2023-05-15T09:33:07.390785Z",
     "shell.execute_reply": "2023-05-15T09:33:07.390420Z"
    },
    "papermill": {
     "duration": 0.021343,
     "end_time": "2023-05-15T09:33:07.391655",
     "exception": false,
     "start_time": "2023-05-15T09:33:07.370312",
     "status": "completed"
    },
    "tags": []
   },
   "outputs": [],
   "source": [
    "for col in metadata.columns:\n",
    "    dataset.obs[col] = metadata.loc[metadata[\"Run\"] == sample_name, col].to_list()[0]"
   ]
  },
  {
   "cell_type": "code",
   "execution_count": null,
   "id": "b84578d3-d63e-419c-a272-a0b8317d05ab",
   "metadata": {
    "execution": {
     "iopub.execute_input": "2023-05-15T09:33:07.400445Z",
     "iopub.status.busy": "2023-05-15T09:33:07.400256Z",
     "iopub.status.idle": "2023-05-15T09:33:07.884992Z",
     "shell.execute_reply": "2023-05-15T09:33:07.884543Z"
    },
    "papermill": {
     "duration": 0.490281,
     "end_time": "2023-05-15T09:33:07.886228",
     "exception": false,
     "start_time": "2023-05-15T09:33:07.395947",
     "status": "completed"
    },
    "tags": []
   },
   "outputs": [],
   "source": [
    "dataset.write(f\"../../int_data/{sample_name}_qc.h5ad\")"
   ]
  },
  {
   "cell_type": "code",
   "execution_count": null,
   "id": "501b33a0-432d-415f-ae82-50723484b85d",
   "metadata": {
    "execution": {
     "iopub.execute_input": "2023-05-15T09:33:07.895084Z",
     "iopub.status.busy": "2023-05-15T09:33:07.894930Z",
     "iopub.status.idle": "2023-05-15T09:33:07.897816Z",
     "shell.execute_reply": "2023-05-15T09:33:07.897493Z"
    },
    "papermill": {
     "duration": 0.007946,
     "end_time": "2023-05-15T09:33:07.898594",
     "exception": false,
     "start_time": "2023-05-15T09:33:07.890648",
     "status": "completed"
    },
    "tags": []
   },
   "outputs": [],
   "source": [
    "dataset"
   ]
  }
 ],
 "metadata": {
  "kernelspec": {
   "display_name": "py_R",
   "language": "python",
   "name": "python_r"
  },
  "language_info": {
   "codemirror_mode": {
    "name": "ipython",
    "version": 3
   },
   "file_extension": ".py",
   "mimetype": "text/x-python",
   "name": "python",
   "nbconvert_exporter": "python",
   "pygments_lexer": "ipython3",
   "version": "3.10.9"
  },
  "papermill": {
   "default_parameters": {},
   "duration": 71.339266,
   "end_time": "2023-05-15T09:33:14.274329",
   "environment_variables": {},
   "exception": null,
   "input_path": "template.ipynb",
   "output_path": "SRR13329151.ipynb",
   "parameters": {
    "sample_name": "SRR13329151"
   },
   "start_time": "2023-05-15T09:32:02.935063",
   "version": "2.4.0"
  }
 },
 "nbformat": 4,
 "nbformat_minor": 5
}
