{
 "cells": [
  {
   "cell_type": "code",
   "execution_count": null,
   "id": "4c0f2fa8-5232-4f47-a7ec-6c9bbabe50e2",
   "metadata": {
    "execution": {
     "iopub.execute_input": "2023-05-15T08:59:46.426508Z",
     "iopub.status.busy": "2023-05-15T08:59:46.426346Z",
     "iopub.status.idle": "2023-05-15T08:59:46.430986Z",
     "shell.execute_reply": "2023-05-15T08:59:46.430676Z"
    },
    "papermill": {
     "duration": 0.009567,
     "end_time": "2023-05-15T08:59:46.431788",
     "exception": false,
     "start_time": "2023-05-15T08:59:46.422221",
     "status": "completed"
    },
    "tags": [
     "parameters"
    ]
   },
   "outputs": [],
   "source": [
    "sample_name = \"SRR13329143\""
   ]
  },
  {
   "cell_type": "code",
   "execution_count": null,
   "id": "2144b6ab",
   "metadata": {
    "execution": {
     "iopub.execute_input": "2023-05-15T08:59:46.436936Z",
     "iopub.status.busy": "2023-05-15T08:59:46.436789Z",
     "iopub.status.idle": "2023-05-15T08:59:46.438675Z",
     "shell.execute_reply": "2023-05-15T08:59:46.438379Z"
    },
    "papermill": {
     "duration": 0.005258,
     "end_time": "2023-05-15T08:59:46.439440",
     "exception": false,
     "start_time": "2023-05-15T08:59:46.434182",
     "status": "completed"
    },
    "tags": [
     "injected-parameters"
    ]
   },
   "outputs": [],
   "source": [
    "# Parameters\n",
    "sample_name = \"SRR13329163\"\n"
   ]
  },
  {
   "cell_type": "code",
   "execution_count": null,
   "id": "f87ed95b-2b67-4a5a-8fe2-47359b1dd2a9",
   "metadata": {
    "execution": {
     "iopub.execute_input": "2023-05-15T08:59:46.444530Z",
     "iopub.status.busy": "2023-05-15T08:59:46.444361Z",
     "iopub.status.idle": "2023-05-15T08:59:46.446530Z",
     "shell.execute_reply": "2023-05-15T08:59:46.446243Z"
    },
    "papermill": {
     "duration": 0.005607,
     "end_time": "2023-05-15T08:59:46.447315",
     "exception": false,
     "start_time": "2023-05-15T08:59:46.441708",
     "status": "completed"
    },
    "tags": []
   },
   "outputs": [],
   "source": [
    "import warnings\n",
    "warnings.simplefilter(action='ignore', category=FutureWarning)\n",
    "warnings.simplefilter(action='ignore', category=UserWarning)"
   ]
  },
  {
   "cell_type": "code",
   "execution_count": null,
   "id": "85161f19-b2c5-490b-8cab-c2cf9653b304",
   "metadata": {
    "execution": {
     "iopub.execute_input": "2023-05-15T08:59:46.452446Z",
     "iopub.status.busy": "2023-05-15T08:59:46.452193Z",
     "iopub.status.idle": "2023-05-15T08:59:50.396643Z",
     "shell.execute_reply": "2023-05-15T08:59:50.396177Z"
    },
    "papermill": {
     "duration": 3.948437,
     "end_time": "2023-05-15T08:59:50.397941",
     "exception": false,
     "start_time": "2023-05-15T08:59:46.449504",
     "status": "completed"
    },
    "tags": []
   },
   "outputs": [],
   "source": [
    "import gc\n",
    "import scanpy as sc\n",
    "import muon as mu\n",
    "import seaborn as sns\n",
    "import os\n",
    "import pandas as pd\n",
    "from matplotlib import pyplot as plt\n",
    "\n",
    "os.environ['R_HOME'] = '/gpfs/bwfor/work/ws/hd_fu399-conda/conda/envs/python_R/lib/R/'\n",
    "import anndata2ri\n",
    "import logging\n",
    "\n",
    "import rpy2.rinterface_lib.callbacks as rcb\n",
    "import rpy2.robjects as ro\n",
    "\n",
    "rcb.logger.setLevel(logging.ERROR)\n",
    "ro.pandas2ri.activate()\n",
    "anndata2ri.activate()\n",
    "\n",
    "%load_ext rpy2.ipython"
   ]
  },
  {
   "cell_type": "code",
   "execution_count": null,
   "id": "fc4ade78-b728-4704-9db6-45fbaab62ba1",
   "metadata": {
    "execution": {
     "iopub.execute_input": "2023-05-15T08:59:50.403980Z",
     "iopub.status.busy": "2023-05-15T08:59:50.403683Z",
     "iopub.status.idle": "2023-05-15T08:59:59.801388Z",
     "shell.execute_reply": "2023-05-15T08:59:59.800818Z"
    },
    "papermill": {
     "duration": 9.40176,
     "end_time": "2023-05-15T08:59:59.802573",
     "exception": false,
     "start_time": "2023-05-15T08:59:50.400813",
     "status": "completed"
    },
    "tags": []
   },
   "outputs": [],
   "source": [
    "%%R\n",
    "library(SoupX)\n",
    "library(Seurat)\n",
    "library(scater)\n",
    "library(scDblFinder)\n",
    "library(BiocParallel)\n",
    "library(MuDataSeurat)\n",
    "library(DropletUtils)"
   ]
  },
  {
   "cell_type": "code",
   "execution_count": null,
   "id": "f7424d90-7690-4290-8651-1db3f9df3a35",
   "metadata": {
    "execution": {
     "iopub.execute_input": "2023-05-15T08:59:59.811106Z",
     "iopub.status.busy": "2023-05-15T08:59:59.810923Z",
     "iopub.status.idle": "2023-05-15T08:59:59.816864Z",
     "shell.execute_reply": "2023-05-15T08:59:59.816456Z"
    },
    "papermill": {
     "duration": 0.010075,
     "end_time": "2023-05-15T08:59:59.817638",
     "exception": false,
     "start_time": "2023-05-15T08:59:59.807563",
     "status": "completed"
    },
    "tags": []
   },
   "outputs": [],
   "source": [
    "metadata = pd.read_csv(\"../../combes_metadata.txt\")"
   ]
  },
  {
   "cell_type": "code",
   "execution_count": null,
   "id": "2574ecf1-bad4-4c33-8f3f-718a358727ab",
   "metadata": {
    "execution": {
     "iopub.execute_input": "2023-05-15T08:59:59.823147Z",
     "iopub.status.busy": "2023-05-15T08:59:59.822904Z",
     "iopub.status.idle": "2023-05-15T08:59:59.825003Z",
     "shell.execute_reply": "2023-05-15T08:59:59.824699Z"
    },
    "papermill": {
     "duration": 0.005731,
     "end_time": "2023-05-15T08:59:59.825746",
     "exception": false,
     "start_time": "2023-05-15T08:59:59.820015",
     "status": "completed"
    },
    "tags": []
   },
   "outputs": [],
   "source": [
    "raw_input = f\"/home/hd/hd_hd/hd_fu399/sds-hd/sd21k006/scRNAseq/revision_natcomm/combes_et_al/fetchngs/results/fastq/{sample_name}/{sample_name}/outs/raw_feature_bc_matrix.h5\""
   ]
  },
  {
   "cell_type": "code",
   "execution_count": null,
   "id": "e266d388-1802-435c-93a5-90067358739c",
   "metadata": {
    "execution": {
     "iopub.execute_input": "2023-05-15T08:59:59.831281Z",
     "iopub.status.busy": "2023-05-15T08:59:59.830965Z",
     "iopub.status.idle": "2023-05-15T09:00:00.275939Z",
     "shell.execute_reply": "2023-05-15T09:00:00.275492Z"
    },
    "papermill": {
     "duration": 0.448739,
     "end_time": "2023-05-15T09:00:00.276868",
     "exception": false,
     "start_time": "2023-05-15T08:59:59.828129",
     "status": "completed"
    },
    "tags": []
   },
   "outputs": [],
   "source": [
    "dataset = sc.read_10x_h5(raw_input)\n",
    "dataset.var_names_make_unique()\n",
    "dataset.obs_names_make_unique()\n",
    "\n",
    "dataset.layers[\"raw_counts\"] = dataset.X.copy()\n",
    "data_tod = dataset.layers[\"raw_counts\"].T.copy()\n",
    "\n",
    "dataset"
   ]
  },
  {
   "cell_type": "code",
   "execution_count": null,
   "id": "af9f5892-ed31-42a6-991b-4e096f582cef",
   "metadata": {
    "execution": {
     "iopub.execute_input": "2023-05-15T09:00:00.283117Z",
     "iopub.status.busy": "2023-05-15T09:00:00.282845Z",
     "iopub.status.idle": "2023-05-15T09:00:00.312680Z",
     "shell.execute_reply": "2023-05-15T09:00:00.312210Z"
    },
    "papermill": {
     "duration": 0.034073,
     "end_time": "2023-05-15T09:00:00.313894",
     "exception": false,
     "start_time": "2023-05-15T09:00:00.279821",
     "status": "completed"
    },
    "tags": []
   },
   "outputs": [],
   "source": [
    "sce = dataset.copy()"
   ]
  },
  {
   "cell_type": "code",
   "execution_count": null,
   "id": "d03f2caf-8e74-430e-b045-0ab80401d165",
   "metadata": {
    "execution": {
     "iopub.execute_input": "2023-05-15T09:00:00.321326Z",
     "iopub.status.busy": "2023-05-15T09:00:00.321144Z",
     "iopub.status.idle": "2023-05-15T09:00:45.881656Z",
     "shell.execute_reply": "2023-05-15T09:00:45.881063Z"
    },
    "papermill": {
     "duration": 45.565839,
     "end_time": "2023-05-15T09:00:45.883045",
     "exception": false,
     "start_time": "2023-05-15T09:00:00.317206",
     "status": "completed"
    },
    "tags": []
   },
   "outputs": [],
   "source": [
    "%%R -i sce -o empty_drop_output\n",
    "set.seed(187)\n",
    "empty_drop_output <- emptyDrops(assay(sce))"
   ]
  },
  {
   "cell_type": "code",
   "execution_count": null,
   "id": "2a34a54b-3ae2-44d6-8679-8769228c5b66",
   "metadata": {
    "execution": {
     "iopub.execute_input": "2023-05-15T09:00:45.892296Z",
     "iopub.status.busy": "2023-05-15T09:00:45.892086Z",
     "iopub.status.idle": "2023-05-15T09:00:45.924270Z",
     "shell.execute_reply": "2023-05-15T09:00:45.923942Z"
    },
    "papermill": {
     "duration": 0.03664,
     "end_time": "2023-05-15T09:00:45.925115",
     "exception": false,
     "start_time": "2023-05-15T09:00:45.888475",
     "status": "completed"
    },
    "tags": []
   },
   "outputs": [],
   "source": [
    "non_empty_barcodes = empty_drop_output[empty_drop_output[\"FDR\"] < 0.001].index\n",
    "dataset = dataset[dataset.obs.index.isin(non_empty_barcodes), :]\n",
    "dataset"
   ]
  },
  {
   "cell_type": "code",
   "execution_count": null,
   "id": "016a91e5-1bef-46fb-b91e-4fb9a6870c44",
   "metadata": {
    "execution": {
     "iopub.execute_input": "2023-05-15T09:00:45.931371Z",
     "iopub.status.busy": "2023-05-15T09:00:45.931183Z",
     "iopub.status.idle": "2023-05-15T09:00:50.907666Z",
     "shell.execute_reply": "2023-05-15T09:00:50.907173Z"
    },
    "papermill": {
     "duration": 4.980889,
     "end_time": "2023-05-15T09:00:50.908966",
     "exception": false,
     "start_time": "2023-05-15T09:00:45.928077",
     "status": "completed"
    },
    "tags": []
   },
   "outputs": [],
   "source": [
    "rna_assay = dataset.copy()\n",
    "sc.pp.normalize_per_cell(rna_assay)\n",
    "sc.pp.log1p(rna_assay)\n",
    "sc.pp.pca(rna_assay)\n",
    "sc.pp.neighbors(rna_assay)\n",
    "sc.tl.leiden(rna_assay, key_added=\"soupx_groups\")\n",
    "\n",
    "soupx_groups = rna_assay.obs[\"soupx_groups\"]\n",
    "\n",
    "del rna_assay\n",
    "\n",
    "genes = dataset.var_names\n",
    "cells = dataset.obs_names\n",
    "data = dataset.X.T.copy()"
   ]
  },
  {
   "cell_type": "code",
   "execution_count": null,
   "id": "9db4ea1f-1580-4f43-a3f0-86002397cd98",
   "metadata": {
    "execution": {
     "iopub.execute_input": "2023-05-15T09:00:50.918061Z",
     "iopub.status.busy": "2023-05-15T09:00:50.917782Z",
     "iopub.status.idle": "2023-05-15T09:01:01.785270Z",
     "shell.execute_reply": "2023-05-15T09:01:01.784761Z"
    },
    "papermill": {
     "duration": 10.872086,
     "end_time": "2023-05-15T09:01:01.786502",
     "exception": false,
     "start_time": "2023-05-15T09:00:50.914416",
     "status": "completed"
    },
    "tags": []
   },
   "outputs": [],
   "source": [
    "%%R -i data -i data_tod -i genes -i cells -i soupx_groups -o out \n",
    "set.seed(187)\n",
    "# specify row and column names of data\n",
    "rownames(data) = genes\n",
    "colnames(data) = cells\n",
    "# ensure correct sparse format for table of counts and table of droplets\n",
    "data <- as(data, \"sparseMatrix\")\n",
    "data_tod <- as(data_tod, \"sparseMatrix\")\n",
    "\n",
    "# Generate SoupChannel Object for SoupX \n",
    "sc = SoupChannel(data_tod, data, calcSoupProfile = FALSE)\n",
    "\n",
    "# Add extra meta data to the SoupChannel object\n",
    "soupProf = data.frame(row.names = rownames(data),\n",
    "                      est = rowSums(data)/sum(data),\n",
    "                      counts = rowSums(data))\n",
    "sc = setSoupProfile(sc, soupProf)\n",
    "# Set cluster information in SoupChannel\n",
    "sc = setClusters(sc, soupx_groups)\n",
    "\n",
    "# Estimate contamination fraction\n",
    "sc  = autoEstCont(sc, doPlot=FALSE, forceAccept = TRUE)\n",
    "# Infer corrected table of counts and rount to integer\n",
    "out = adjustCounts(sc, roundToInt = TRUE)"
   ]
  },
  {
   "cell_type": "code",
   "execution_count": null,
   "id": "32555d5e-5fa3-46dd-a4e0-ddc96ea265e2",
   "metadata": {
    "execution": {
     "iopub.execute_input": "2023-05-15T09:01:01.795866Z",
     "iopub.status.busy": "2023-05-15T09:01:01.795676Z",
     "iopub.status.idle": "2023-05-15T09:01:01.821320Z",
     "shell.execute_reply": "2023-05-15T09:01:01.820835Z"
    },
    "papermill": {
     "duration": 0.030974,
     "end_time": "2023-05-15T09:01:01.822693",
     "exception": false,
     "start_time": "2023-05-15T09:01:01.791719",
     "status": "completed"
    },
    "tags": []
   },
   "outputs": [],
   "source": [
    "dataset.layers[\"soupX_counts\"] = out.T\n",
    "dataset.X = dataset.layers[\"soupX_counts\"].copy()"
   ]
  },
  {
   "cell_type": "code",
   "execution_count": null,
   "id": "e27da7df-e094-4d2a-9109-5a363e012175",
   "metadata": {
    "execution": {
     "iopub.execute_input": "2023-05-15T09:01:01.829755Z",
     "iopub.status.busy": "2023-05-15T09:01:01.829568Z",
     "iopub.status.idle": "2023-05-15T09:01:01.832006Z",
     "shell.execute_reply": "2023-05-15T09:01:01.831618Z"
    },
    "papermill": {
     "duration": 0.006827,
     "end_time": "2023-05-15T09:01:01.832793",
     "exception": false,
     "start_time": "2023-05-15T09:01:01.825966",
     "status": "completed"
    },
    "tags": []
   },
   "outputs": [],
   "source": [
    "data_mat = dataset.X.T"
   ]
  },
  {
   "cell_type": "code",
   "execution_count": null,
   "id": "80a993b1-5ccb-4697-9187-1beb7ab8aff9",
   "metadata": {
    "execution": {
     "iopub.execute_input": "2023-05-15T09:01:01.838782Z",
     "iopub.status.busy": "2023-05-15T09:01:01.838589Z",
     "iopub.status.idle": "2023-05-15T09:01:18.841590Z",
     "shell.execute_reply": "2023-05-15T09:01:18.841001Z"
    },
    "papermill": {
     "duration": 17.007409,
     "end_time": "2023-05-15T09:01:18.842853",
     "exception": false,
     "start_time": "2023-05-15T09:01:01.835444",
     "status": "completed"
    },
    "tags": []
   },
   "outputs": [],
   "source": [
    "%%R -i data_mat -o droplet_class\n",
    "\n",
    "set.seed(187)\n",
    "sce = scDblFinder(\n",
    "    SingleCellExperiment(\n",
    "        list(counts=data_mat),\n",
    "    ) \n",
    ")\n",
    "droplet_class = sce$scDblFinder.class"
   ]
  },
  {
   "cell_type": "code",
   "execution_count": null,
   "id": "d4dd6e9d-fcf2-41fc-8457-c8e0a3cb2c71",
   "metadata": {
    "execution": {
     "iopub.execute_input": "2023-05-15T09:01:18.852103Z",
     "iopub.status.busy": "2023-05-15T09:01:18.851909Z",
     "iopub.status.idle": "2023-05-15T09:01:18.856578Z",
     "shell.execute_reply": "2023-05-15T09:01:18.856220Z"
    },
    "papermill": {
     "duration": 0.009185,
     "end_time": "2023-05-15T09:01:18.857353",
     "exception": false,
     "start_time": "2023-05-15T09:01:18.848168",
     "status": "completed"
    },
    "tags": []
   },
   "outputs": [],
   "source": [
    "dataset.obs[\"scDblFinder_class\"] = droplet_class\n",
    "dataset.obs.scDblFinder_class.value_counts()\n",
    "dataset"
   ]
  },
  {
   "cell_type": "code",
   "execution_count": null,
   "id": "28c95014-2d6c-477f-95cb-9f9f0507520c",
   "metadata": {
    "execution": {
     "iopub.execute_input": "2023-05-15T09:01:18.864086Z",
     "iopub.status.busy": "2023-05-15T09:01:18.863922Z",
     "iopub.status.idle": "2023-05-15T09:01:18.876339Z",
     "shell.execute_reply": "2023-05-15T09:01:18.875983Z"
    },
    "papermill": {
     "duration": 0.01662,
     "end_time": "2023-05-15T09:01:18.877252",
     "exception": false,
     "start_time": "2023-05-15T09:01:18.860632",
     "status": "completed"
    },
    "tags": []
   },
   "outputs": [],
   "source": [
    "dataset = dataset[dataset.obs[\"scDblFinder_class\"] == 1]"
   ]
  },
  {
   "cell_type": "code",
   "execution_count": null,
   "id": "3e22f9e0-bfcb-416c-a151-a9bca3bec3b9",
   "metadata": {
    "execution": {
     "iopub.execute_input": "2023-05-15T09:01:18.883646Z",
     "iopub.status.busy": "2023-05-15T09:01:18.883480Z",
     "iopub.status.idle": "2023-05-15T09:01:19.009379Z",
     "shell.execute_reply": "2023-05-15T09:01:19.008944Z"
    },
    "papermill": {
     "duration": 0.130087,
     "end_time": "2023-05-15T09:01:19.010301",
     "exception": false,
     "start_time": "2023-05-15T09:01:18.880214",
     "status": "completed"
    },
    "tags": []
   },
   "outputs": [],
   "source": [
    "# mitochondrial genes\n",
    "dataset.var[\"mt\"] = dataset.var_names.str.startswith(\"MT-\")\n",
    "# ribosomal genes\n",
    "dataset.var[\"ribo\"] = dataset.var_names.str.startswith((\"RPS\", \"RPL\"))\n",
    "# hemoglobin genes.\n",
    "dataset.var[\"hb\"] = dataset.var_names.str.contains((\"^HB[^(P)]\"))\n",
    "\n",
    "sc.pp.calculate_qc_metrics(dataset,\n",
    "                           qc_vars=['mt', 'ribo', 'hb'],\n",
    "                           percent_top=None,\n",
    "                           log1p=False,\n",
    "                           inplace=True)\n",
    "dataset"
   ]
  },
  {
   "cell_type": "code",
   "execution_count": null,
   "id": "34deee79-4043-428f-8575-aa57b45f6369",
   "metadata": {
    "execution": {
     "iopub.execute_input": "2023-05-15T09:01:19.017388Z",
     "iopub.status.busy": "2023-05-15T09:01:19.017201Z",
     "iopub.status.idle": "2023-05-15T09:01:19.492127Z",
     "shell.execute_reply": "2023-05-15T09:01:19.491696Z"
    },
    "papermill": {
     "duration": 0.479324,
     "end_time": "2023-05-15T09:01:19.492983",
     "exception": false,
     "start_time": "2023-05-15T09:01:19.013659",
     "status": "completed"
    },
    "tags": []
   },
   "outputs": [],
   "source": [
    "fig, ax = plt.subplots(ncols = 4, figsize = (16,4))\n",
    "axis = sc.pl.violin(dataset, \"n_genes_by_counts\", jitter = 0.4, ax = ax[0], show = False)\n",
    "axis.grid(False)\n",
    "axis.set_title(\"Unique Genes per cell\")\n",
    "axis.tick_params(axis = \"x\", bottom =False, labelbottom =False)\n",
    "axis.set_ylabel(\"# genes\")\n",
    "axis.axhline(y = 100, color = \"black\", label = \"cutoff\")\n",
    "axis.legend(fontsize = 14, loc = \"upper right\")\n",
    "\n",
    "axis = sc.pl.violin(dataset, \"pct_counts_mt\", jitter = 0.4, ax = ax[1], show = False)\n",
    "axis.grid(False)\n",
    "axis.set_title(\"Mitochondrial Fraction\")\n",
    "axis.tick_params(axis = \"x\", bottom =False, labelbottom =False)\n",
    "axis.set_ylabel(\"% mitochondrial genes\")\n",
    "axis.axhline(y = 10, color = \"black\", label = \"cutoff\")\n",
    "axis.legend(fontsize = 14, loc = \"upper right\")\n",
    "\n",
    "axis = sc.pl.violin(dataset, \"pct_counts_hb\", jitter = 0.4, ax = ax[2], show = False, size =2)\n",
    "axis.grid(False)\n",
    "axis.set_title(\"Hemoglobin Fraction\")\n",
    "axis.tick_params(axis = \"x\", bottom =False, labelbottom =False)\n",
    "axis.set_ylabel(\"% hemoglobin genes\")\n",
    "axis.axhline(y = 3, color = \"black\", label = \"cutoff\")\n",
    "axis.legend(fontsize = 14, loc = \"upper right\")\n",
    "#axis.set_ylim(0,5)\n",
    "\n",
    "axis = sc.pl.violin(dataset, \"pct_counts_ribo\", jitter = 0.4, ax = ax[3], show = False)\n",
    "axis.grid(False)\n",
    "axis.set_title(\"Ribosomal Fraction\")\n",
    "axis.tick_params(axis = \"x\", bottom =False, labelbottom =False)\n",
    "axis.set_ylabel(\"% ribosome genes\")\n",
    "\n",
    "plt.tight_layout()\n",
    "#plt.savefig(f\"{outputDir}08_gene_based_filtering.pdf\", dpi = 300)\n",
    "plt.show()\n",
    "\n"
   ]
  },
  {
   "cell_type": "code",
   "execution_count": null,
   "id": "d7ade754-843e-4840-8707-426613d8c0c5",
   "metadata": {
    "execution": {
     "iopub.execute_input": "2023-05-15T09:01:19.502652Z",
     "iopub.status.busy": "2023-05-15T09:01:19.502441Z",
     "iopub.status.idle": "2023-05-15T09:01:19.511641Z",
     "shell.execute_reply": "2023-05-15T09:01:19.511292Z"
    },
    "papermill": {
     "duration": 0.0148,
     "end_time": "2023-05-15T09:01:19.512413",
     "exception": false,
     "start_time": "2023-05-15T09:01:19.497613",
     "status": "completed"
    },
    "tags": []
   },
   "outputs": [],
   "source": [
    "dataset = dataset[dataset.obs.pct_counts_mt < 10, :]\n",
    "dataset = dataset[dataset.obs.n_genes_by_counts > 100, :]\n",
    "dataset = dataset[dataset.obs.pct_counts_hb < 3, :]\n",
    "dataset"
   ]
  },
  {
   "cell_type": "code",
   "execution_count": null,
   "id": "1941fa36-e865-4500-b586-f7a32d142c9b",
   "metadata": {
    "execution": {
     "iopub.execute_input": "2023-05-15T09:01:19.521614Z",
     "iopub.status.busy": "2023-05-15T09:01:19.521433Z",
     "iopub.status.idle": "2023-05-15T09:01:19.524373Z",
     "shell.execute_reply": "2023-05-15T09:01:19.524058Z"
    },
    "papermill": {
     "duration": 0.008406,
     "end_time": "2023-05-15T09:01:19.525115",
     "exception": false,
     "start_time": "2023-05-15T09:01:19.516709",
     "status": "completed"
    },
    "tags": []
   },
   "outputs": [],
   "source": [
    "metadata.columns"
   ]
  },
  {
   "cell_type": "code",
   "execution_count": null,
   "id": "2e0ff8c3-2aa9-4a01-9b88-5912a6734447",
   "metadata": {
    "execution": {
     "iopub.execute_input": "2023-05-15T09:01:19.534381Z",
     "iopub.status.busy": "2023-05-15T09:01:19.534229Z",
     "iopub.status.idle": "2023-05-15T09:01:19.566019Z",
     "shell.execute_reply": "2023-05-15T09:01:19.565518Z"
    },
    "papermill": {
     "duration": 0.037597,
     "end_time": "2023-05-15T09:01:19.567111",
     "exception": false,
     "start_time": "2023-05-15T09:01:19.529514",
     "status": "completed"
    },
    "tags": []
   },
   "outputs": [],
   "source": [
    "for col in metadata.columns:\n",
    "    dataset.obs[col] = metadata.loc[metadata[\"Run\"] == sample_name, col].to_list()[0]"
   ]
  },
  {
   "cell_type": "code",
   "execution_count": null,
   "id": "b84578d3-d63e-419c-a272-a0b8317d05ab",
   "metadata": {
    "execution": {
     "iopub.execute_input": "2023-05-15T09:01:19.577360Z",
     "iopub.status.busy": "2023-05-15T09:01:19.576988Z",
     "iopub.status.idle": "2023-05-15T09:01:20.149404Z",
     "shell.execute_reply": "2023-05-15T09:01:20.148941Z"
    },
    "papermill": {
     "duration": 0.578821,
     "end_time": "2023-05-15T09:01:20.150747",
     "exception": false,
     "start_time": "2023-05-15T09:01:19.571926",
     "status": "completed"
    },
    "tags": []
   },
   "outputs": [],
   "source": [
    "dataset.write(f\"../../int_data/{sample_name}_qc.h5ad\")"
   ]
  },
  {
   "cell_type": "code",
   "execution_count": null,
   "id": "501b33a0-432d-415f-ae82-50723484b85d",
   "metadata": {
    "execution": {
     "iopub.execute_input": "2023-05-15T09:01:20.161006Z",
     "iopub.status.busy": "2023-05-15T09:01:20.160580Z",
     "iopub.status.idle": "2023-05-15T09:01:20.163737Z",
     "shell.execute_reply": "2023-05-15T09:01:20.163394Z"
    },
    "papermill": {
     "duration": 0.008879,
     "end_time": "2023-05-15T09:01:20.164531",
     "exception": false,
     "start_time": "2023-05-15T09:01:20.155652",
     "status": "completed"
    },
    "tags": []
   },
   "outputs": [],
   "source": [
    "dataset"
   ]
  }
 ],
 "metadata": {
  "kernelspec": {
   "display_name": "py_R",
   "language": "python",
   "name": "python_r"
  },
  "language_info": {
   "codemirror_mode": {
    "name": "ipython",
    "version": 3
   },
   "file_extension": ".py",
   "mimetype": "text/x-python",
   "name": "python",
   "nbconvert_exporter": "python",
   "pygments_lexer": "ipython3",
   "version": "3.10.9"
  },
  "papermill": {
   "default_parameters": {},
   "duration": 96.142352,
   "end_time": "2023-05-15T09:01:21.586455",
   "environment_variables": {},
   "exception": null,
   "input_path": "template.ipynb",
   "output_path": "SRR13329163.ipynb",
   "parameters": {
    "sample_name": "SRR13329163"
   },
   "start_time": "2023-05-15T08:59:45.444103",
   "version": "2.4.0"
  }
 },
 "nbformat": 4,
 "nbformat_minor": 5
}
