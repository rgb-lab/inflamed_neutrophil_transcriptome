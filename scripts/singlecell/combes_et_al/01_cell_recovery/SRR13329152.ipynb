{
 "cells": [
  {
   "cell_type": "code",
   "execution_count": null,
   "id": "4c0f2fa8-5232-4f47-a7ec-6c9bbabe50e2",
   "metadata": {
    "execution": {
     "iopub.execute_input": "2023-05-15T07:48:55.949268Z",
     "iopub.status.busy": "2023-05-15T07:48:55.949100Z",
     "iopub.status.idle": "2023-05-15T07:48:55.953506Z",
     "shell.execute_reply": "2023-05-15T07:48:55.953196Z"
    },
    "papermill": {
     "duration": 0.008757,
     "end_time": "2023-05-15T07:48:55.954387",
     "exception": false,
     "start_time": "2023-05-15T07:48:55.945630",
     "status": "completed"
    },
    "tags": [
     "parameters"
    ]
   },
   "outputs": [],
   "source": [
    "sample_name = \"SRR13329143\""
   ]
  },
  {
   "cell_type": "code",
   "execution_count": null,
   "id": "0aff4980",
   "metadata": {
    "execution": {
     "iopub.execute_input": "2023-05-15T07:48:55.960103Z",
     "iopub.status.busy": "2023-05-15T07:48:55.959871Z",
     "iopub.status.idle": "2023-05-15T07:48:55.961837Z",
     "shell.execute_reply": "2023-05-15T07:48:55.961533Z"
    },
    "papermill": {
     "duration": 0.005495,
     "end_time": "2023-05-15T07:48:55.962632",
     "exception": false,
     "start_time": "2023-05-15T07:48:55.957137",
     "status": "completed"
    },
    "tags": [
     "injected-parameters"
    ]
   },
   "outputs": [],
   "source": [
    "# Parameters\n",
    "sample_name = \"SRR13329152\"\n"
   ]
  },
  {
   "cell_type": "code",
   "execution_count": null,
   "id": "f87ed95b-2b67-4a5a-8fe2-47359b1dd2a9",
   "metadata": {
    "execution": {
     "iopub.execute_input": "2023-05-15T07:48:55.967812Z",
     "iopub.status.busy": "2023-05-15T07:48:55.967529Z",
     "iopub.status.idle": "2023-05-15T07:48:55.969709Z",
     "shell.execute_reply": "2023-05-15T07:48:55.969413Z"
    },
    "papermill": {
     "duration": 0.00555,
     "end_time": "2023-05-15T07:48:55.970474",
     "exception": false,
     "start_time": "2023-05-15T07:48:55.964924",
     "status": "completed"
    },
    "tags": []
   },
   "outputs": [],
   "source": [
    "import warnings\n",
    "warnings.simplefilter(action='ignore', category=FutureWarning)\n",
    "warnings.simplefilter(action='ignore', category=UserWarning)"
   ]
  },
  {
   "cell_type": "code",
   "execution_count": null,
   "id": "85161f19-b2c5-490b-8cab-c2cf9653b304",
   "metadata": {
    "execution": {
     "iopub.execute_input": "2023-05-15T07:48:55.975715Z",
     "iopub.status.busy": "2023-05-15T07:48:55.975492Z",
     "iopub.status.idle": "2023-05-15T07:49:00.059713Z",
     "shell.execute_reply": "2023-05-15T07:49:00.059210Z"
    },
    "papermill": {
     "duration": 4.088468,
     "end_time": "2023-05-15T07:49:00.061323",
     "exception": false,
     "start_time": "2023-05-15T07:48:55.972855",
     "status": "completed"
    },
    "tags": []
   },
   "outputs": [],
   "source": [
    "import gc\n",
    "import scanpy as sc\n",
    "import muon as mu\n",
    "import seaborn as sns\n",
    "import os\n",
    "import pandas as pd\n",
    "from matplotlib import pyplot as plt\n",
    "\n",
    "os.environ['R_HOME'] = '/gpfs/bwfor/work/ws/hd_fu399-conda/conda/envs/python_R/lib/R/'\n",
    "import anndata2ri\n",
    "import logging\n",
    "\n",
    "import rpy2.rinterface_lib.callbacks as rcb\n",
    "import rpy2.robjects as ro\n",
    "\n",
    "rcb.logger.setLevel(logging.ERROR)\n",
    "ro.pandas2ri.activate()\n",
    "anndata2ri.activate()\n",
    "\n",
    "%load_ext rpy2.ipython"
   ]
  },
  {
   "cell_type": "code",
   "execution_count": null,
   "id": "fc4ade78-b728-4704-9db6-45fbaab62ba1",
   "metadata": {
    "execution": {
     "iopub.execute_input": "2023-05-15T07:49:00.069272Z",
     "iopub.status.busy": "2023-05-15T07:49:00.069010Z",
     "iopub.status.idle": "2023-05-15T07:49:09.888688Z",
     "shell.execute_reply": "2023-05-15T07:49:09.888193Z"
    },
    "papermill": {
     "duration": 9.824425,
     "end_time": "2023-05-15T07:49:09.890328",
     "exception": false,
     "start_time": "2023-05-15T07:49:00.065903",
     "status": "completed"
    },
    "tags": []
   },
   "outputs": [],
   "source": [
    "%%R\n",
    "library(SoupX)\n",
    "library(Seurat)\n",
    "library(scater)\n",
    "library(scDblFinder)\n",
    "library(BiocParallel)\n",
    "library(MuDataSeurat)\n",
    "library(DropletUtils)"
   ]
  },
  {
   "cell_type": "code",
   "execution_count": null,
   "id": "f7424d90-7690-4290-8651-1db3f9df3a35",
   "metadata": {
    "execution": {
     "iopub.execute_input": "2023-05-15T07:49:09.912916Z",
     "iopub.status.busy": "2023-05-15T07:49:09.912726Z",
     "iopub.status.idle": "2023-05-15T07:49:09.933002Z",
     "shell.execute_reply": "2023-05-15T07:49:09.932613Z"
    },
    "papermill": {
     "duration": 0.024415,
     "end_time": "2023-05-15T07:49:09.933934",
     "exception": false,
     "start_time": "2023-05-15T07:49:09.909519",
     "status": "completed"
    },
    "tags": []
   },
   "outputs": [],
   "source": [
    "metadata = pd.read_csv(\"../../combes_metadata.txt\")"
   ]
  },
  {
   "cell_type": "code",
   "execution_count": null,
   "id": "2574ecf1-bad4-4c33-8f3f-718a358727ab",
   "metadata": {
    "execution": {
     "iopub.execute_input": "2023-05-15T07:49:09.939388Z",
     "iopub.status.busy": "2023-05-15T07:49:09.939145Z",
     "iopub.status.idle": "2023-05-15T07:49:09.941211Z",
     "shell.execute_reply": "2023-05-15T07:49:09.940911Z"
    },
    "papermill": {
     "duration": 0.005656,
     "end_time": "2023-05-15T07:49:09.942009",
     "exception": false,
     "start_time": "2023-05-15T07:49:09.936353",
     "status": "completed"
    },
    "tags": []
   },
   "outputs": [],
   "source": [
    "raw_input = f\"/home/hd/hd_hd/hd_fu399/sds-hd/sd21k006/scRNAseq/revision_natcomm/combes_et_al/fetchngs/results/fastq/{sample_name}/{sample_name}/outs/raw_feature_bc_matrix.h5\""
   ]
  },
  {
   "cell_type": "code",
   "execution_count": null,
   "id": "e266d388-1802-435c-93a5-90067358739c",
   "metadata": {
    "execution": {
     "iopub.execute_input": "2023-05-15T07:49:09.947539Z",
     "iopub.status.busy": "2023-05-15T07:49:09.947299Z",
     "iopub.status.idle": "2023-05-15T07:49:10.396935Z",
     "shell.execute_reply": "2023-05-15T07:49:10.396506Z"
    },
    "papermill": {
     "duration": 0.453418,
     "end_time": "2023-05-15T07:49:10.397844",
     "exception": false,
     "start_time": "2023-05-15T07:49:09.944426",
     "status": "completed"
    },
    "tags": []
   },
   "outputs": [],
   "source": [
    "dataset = sc.read_10x_h5(raw_input)\n",
    "dataset.var_names_make_unique()\n",
    "dataset.obs_names_make_unique()\n",
    "\n",
    "dataset.layers[\"raw_counts\"] = dataset.X.copy()\n",
    "data_tod = dataset.layers[\"raw_counts\"].T.copy()\n",
    "\n",
    "dataset"
   ]
  },
  {
   "cell_type": "code",
   "execution_count": null,
   "id": "af9f5892-ed31-42a6-991b-4e096f582cef",
   "metadata": {
    "execution": {
     "iopub.execute_input": "2023-05-15T07:49:10.404182Z",
     "iopub.status.busy": "2023-05-15T07:49:10.404004Z",
     "iopub.status.idle": "2023-05-15T07:49:10.440989Z",
     "shell.execute_reply": "2023-05-15T07:49:10.440565Z"
    },
    "papermill": {
     "duration": 0.041585,
     "end_time": "2023-05-15T07:49:10.442463",
     "exception": false,
     "start_time": "2023-05-15T07:49:10.400878",
     "status": "completed"
    },
    "tags": []
   },
   "outputs": [],
   "source": [
    "sce = dataset.copy()"
   ]
  },
  {
   "cell_type": "code",
   "execution_count": null,
   "id": "d03f2caf-8e74-430e-b045-0ab80401d165",
   "metadata": {
    "execution": {
     "iopub.execute_input": "2023-05-15T07:49:10.448739Z",
     "iopub.status.busy": "2023-05-15T07:49:10.448545Z",
     "iopub.status.idle": "2023-05-15T07:49:51.600302Z",
     "shell.execute_reply": "2023-05-15T07:49:51.599687Z"
    },
    "papermill": {
     "duration": 41.156089,
     "end_time": "2023-05-15T07:49:51.601532",
     "exception": false,
     "start_time": "2023-05-15T07:49:10.445443",
     "status": "completed"
    },
    "tags": []
   },
   "outputs": [],
   "source": [
    "%%R -i sce -o empty_drop_output\n",
    "set.seed(187)\n",
    "empty_drop_output <- emptyDrops(assay(sce))"
   ]
  },
  {
   "cell_type": "code",
   "execution_count": null,
   "id": "2a34a54b-3ae2-44d6-8679-8769228c5b66",
   "metadata": {
    "execution": {
     "iopub.execute_input": "2023-05-15T07:49:51.636411Z",
     "iopub.status.busy": "2023-05-15T07:49:51.636261Z",
     "iopub.status.idle": "2023-05-15T07:49:51.674817Z",
     "shell.execute_reply": "2023-05-15T07:49:51.674442Z"
    },
    "papermill": {
     "duration": 0.043396,
     "end_time": "2023-05-15T07:49:51.675697",
     "exception": false,
     "start_time": "2023-05-15T07:49:51.632301",
     "status": "completed"
    },
    "tags": []
   },
   "outputs": [],
   "source": [
    "non_empty_barcodes = empty_drop_output[empty_drop_output[\"FDR\"] < 0.001].index\n",
    "dataset = dataset[dataset.obs.index.isin(non_empty_barcodes), :]\n",
    "dataset"
   ]
  },
  {
   "cell_type": "code",
   "execution_count": null,
   "id": "016a91e5-1bef-46fb-b91e-4fb9a6870c44",
   "metadata": {
    "execution": {
     "iopub.execute_input": "2023-05-15T07:49:51.681667Z",
     "iopub.status.busy": "2023-05-15T07:49:51.681497Z",
     "iopub.status.idle": "2023-05-15T07:49:55.445246Z",
     "shell.execute_reply": "2023-05-15T07:49:55.444740Z"
    },
    "papermill": {
     "duration": 3.768458,
     "end_time": "2023-05-15T07:49:55.446829",
     "exception": false,
     "start_time": "2023-05-15T07:49:51.678371",
     "status": "completed"
    },
    "tags": []
   },
   "outputs": [],
   "source": [
    "rna_assay = dataset.copy()\n",
    "sc.pp.normalize_per_cell(rna_assay)\n",
    "sc.pp.log1p(rna_assay)\n",
    "sc.pp.pca(rna_assay)\n",
    "sc.pp.neighbors(rna_assay)\n",
    "sc.tl.leiden(rna_assay, key_added=\"soupx_groups\")\n",
    "\n",
    "soupx_groups = rna_assay.obs[\"soupx_groups\"]\n",
    "\n",
    "del rna_assay\n",
    "\n",
    "genes = dataset.var_names\n",
    "cells = dataset.obs_names\n",
    "data = dataset.X.T.copy()"
   ]
  },
  {
   "cell_type": "code",
   "execution_count": null,
   "id": "9db4ea1f-1580-4f43-a3f0-86002397cd98",
   "metadata": {
    "execution": {
     "iopub.execute_input": "2023-05-15T07:49:55.453865Z",
     "iopub.status.busy": "2023-05-15T07:49:55.453675Z",
     "iopub.status.idle": "2023-05-15T07:50:04.614096Z",
     "shell.execute_reply": "2023-05-15T07:50:04.613627Z"
    },
    "papermill": {
     "duration": 9.165396,
     "end_time": "2023-05-15T07:50:04.615594",
     "exception": false,
     "start_time": "2023-05-15T07:49:55.450198",
     "status": "completed"
    },
    "tags": []
   },
   "outputs": [],
   "source": [
    "%%R -i data -i data_tod -i genes -i cells -i soupx_groups -o out \n",
    "set.seed(187)\n",
    "# specify row and column names of data\n",
    "rownames(data) = genes\n",
    "colnames(data) = cells\n",
    "# ensure correct sparse format for table of counts and table of droplets\n",
    "data <- as(data, \"sparseMatrix\")\n",
    "data_tod <- as(data_tod, \"sparseMatrix\")\n",
    "\n",
    "# Generate SoupChannel Object for SoupX \n",
    "sc = SoupChannel(data_tod, data, calcSoupProfile = FALSE)\n",
    "\n",
    "# Add extra meta data to the SoupChannel object\n",
    "soupProf = data.frame(row.names = rownames(data),\n",
    "                      est = rowSums(data)/sum(data),\n",
    "                      counts = rowSums(data))\n",
    "sc = setSoupProfile(sc, soupProf)\n",
    "# Set cluster information in SoupChannel\n",
    "sc = setClusters(sc, soupx_groups)\n",
    "\n",
    "# Estimate contamination fraction\n",
    "sc  = autoEstCont(sc, doPlot=FALSE, forceAccept = TRUE)\n",
    "# Infer corrected table of counts and rount to integer\n",
    "out = adjustCounts(sc, roundToInt = TRUE)"
   ]
  },
  {
   "cell_type": "code",
   "execution_count": null,
   "id": "32555d5e-5fa3-46dd-a4e0-ddc96ea265e2",
   "metadata": {
    "execution": {
     "iopub.execute_input": "2023-05-15T07:50:04.624346Z",
     "iopub.status.busy": "2023-05-15T07:50:04.624181Z",
     "iopub.status.idle": "2023-05-15T07:50:04.642954Z",
     "shell.execute_reply": "2023-05-15T07:50:04.642527Z"
    },
    "papermill": {
     "duration": 0.022989,
     "end_time": "2023-05-15T07:50:04.643831",
     "exception": false,
     "start_time": "2023-05-15T07:50:04.620842",
     "status": "completed"
    },
    "tags": []
   },
   "outputs": [],
   "source": [
    "dataset.layers[\"soupX_counts\"] = out.T\n",
    "dataset.X = dataset.layers[\"soupX_counts\"].copy()"
   ]
  },
  {
   "cell_type": "code",
   "execution_count": null,
   "id": "e27da7df-e094-4d2a-9109-5a363e012175",
   "metadata": {
    "execution": {
     "iopub.execute_input": "2023-05-15T07:50:04.650317Z",
     "iopub.status.busy": "2023-05-15T07:50:04.650148Z",
     "iopub.status.idle": "2023-05-15T07:50:04.652489Z",
     "shell.execute_reply": "2023-05-15T07:50:04.652161Z"
    },
    "papermill": {
     "duration": 0.006494,
     "end_time": "2023-05-15T07:50:04.653298",
     "exception": false,
     "start_time": "2023-05-15T07:50:04.646804",
     "status": "completed"
    },
    "tags": []
   },
   "outputs": [],
   "source": [
    "data_mat = dataset.X.T"
   ]
  },
  {
   "cell_type": "code",
   "execution_count": null,
   "id": "80a993b1-5ccb-4697-9187-1beb7ab8aff9",
   "metadata": {
    "execution": {
     "iopub.execute_input": "2023-05-15T07:50:04.659420Z",
     "iopub.status.busy": "2023-05-15T07:50:04.659230Z",
     "iopub.status.idle": "2023-05-15T07:50:20.370481Z",
     "shell.execute_reply": "2023-05-15T07:50:20.370012Z"
    },
    "papermill": {
     "duration": 15.715945,
     "end_time": "2023-05-15T07:50:20.371990",
     "exception": false,
     "start_time": "2023-05-15T07:50:04.656045",
     "status": "completed"
    },
    "tags": []
   },
   "outputs": [],
   "source": [
    "%%R -i data_mat -o droplet_class\n",
    "\n",
    "set.seed(187)\n",
    "sce = scDblFinder(\n",
    "    SingleCellExperiment(\n",
    "        list(counts=data_mat),\n",
    "    ) \n",
    ")\n",
    "droplet_class = sce$scDblFinder.class"
   ]
  },
  {
   "cell_type": "code",
   "execution_count": null,
   "id": "d4dd6e9d-fcf2-41fc-8457-c8e0a3cb2c71",
   "metadata": {
    "execution": {
     "iopub.execute_input": "2023-05-15T07:50:20.380750Z",
     "iopub.status.busy": "2023-05-15T07:50:20.380582Z",
     "iopub.status.idle": "2023-05-15T07:50:20.384672Z",
     "shell.execute_reply": "2023-05-15T07:50:20.384327Z"
    },
    "papermill": {
     "duration": 0.008279,
     "end_time": "2023-05-15T07:50:20.385453",
     "exception": false,
     "start_time": "2023-05-15T07:50:20.377174",
     "status": "completed"
    },
    "tags": []
   },
   "outputs": [],
   "source": [
    "dataset.obs[\"scDblFinder_class\"] = droplet_class\n",
    "dataset.obs.scDblFinder_class.value_counts()\n",
    "dataset"
   ]
  },
  {
   "cell_type": "code",
   "execution_count": null,
   "id": "28c95014-2d6c-477f-95cb-9f9f0507520c",
   "metadata": {
    "execution": {
     "iopub.execute_input": "2023-05-15T07:50:20.391899Z",
     "iopub.status.busy": "2023-05-15T07:50:20.391611Z",
     "iopub.status.idle": "2023-05-15T07:50:20.394749Z",
     "shell.execute_reply": "2023-05-15T07:50:20.394421Z"
    },
    "papermill": {
     "duration": 0.00721,
     "end_time": "2023-05-15T07:50:20.395514",
     "exception": false,
     "start_time": "2023-05-15T07:50:20.388304",
     "status": "completed"
    },
    "tags": []
   },
   "outputs": [],
   "source": [
    "dataset = dataset[dataset.obs[\"scDblFinder_class\"] == 1]"
   ]
  },
  {
   "cell_type": "code",
   "execution_count": null,
   "id": "3e22f9e0-bfcb-416c-a151-a9bca3bec3b9",
   "metadata": {
    "execution": {
     "iopub.execute_input": "2023-05-15T07:50:20.401832Z",
     "iopub.status.busy": "2023-05-15T07:50:20.401611Z",
     "iopub.status.idle": "2023-05-15T07:50:20.499752Z",
     "shell.execute_reply": "2023-05-15T07:50:20.499371Z"
    },
    "papermill": {
     "duration": 0.102308,
     "end_time": "2023-05-15T07:50:20.500650",
     "exception": false,
     "start_time": "2023-05-15T07:50:20.398342",
     "status": "completed"
    },
    "tags": []
   },
   "outputs": [],
   "source": [
    "# mitochondrial genes\n",
    "dataset.var[\"mt\"] = dataset.var_names.str.startswith(\"MT-\")\n",
    "# ribosomal genes\n",
    "dataset.var[\"ribo\"] = dataset.var_names.str.startswith((\"RPS\", \"RPL\"))\n",
    "# hemoglobin genes.\n",
    "dataset.var[\"hb\"] = dataset.var_names.str.contains((\"^HB[^(P)]\"))\n",
    "\n",
    "sc.pp.calculate_qc_metrics(dataset,\n",
    "                           qc_vars=['mt', 'ribo', 'hb'],\n",
    "                           percent_top=None,\n",
    "                           log1p=False,\n",
    "                           inplace=True)\n",
    "dataset"
   ]
  },
  {
   "cell_type": "code",
   "execution_count": null,
   "id": "34deee79-4043-428f-8575-aa57b45f6369",
   "metadata": {
    "execution": {
     "iopub.execute_input": "2023-05-15T07:50:20.507718Z",
     "iopub.status.busy": "2023-05-15T07:50:20.507566Z",
     "iopub.status.idle": "2023-05-15T07:50:20.978981Z",
     "shell.execute_reply": "2023-05-15T07:50:20.978618Z"
    },
    "papermill": {
     "duration": 0.475764,
     "end_time": "2023-05-15T07:50:20.979823",
     "exception": false,
     "start_time": "2023-05-15T07:50:20.504059",
     "status": "completed"
    },
    "tags": []
   },
   "outputs": [],
   "source": [
    "fig, ax = plt.subplots(ncols = 4, figsize = (16,4))\n",
    "axis = sc.pl.violin(dataset, \"n_genes_by_counts\", jitter = 0.4, ax = ax[0], show = False)\n",
    "axis.grid(False)\n",
    "axis.set_title(\"Unique Genes per cell\")\n",
    "axis.tick_params(axis = \"x\", bottom =False, labelbottom =False)\n",
    "axis.set_ylabel(\"# genes\")\n",
    "axis.axhline(y = 100, color = \"black\", label = \"cutoff\")\n",
    "axis.legend(fontsize = 14, loc = \"upper right\")\n",
    "\n",
    "axis = sc.pl.violin(dataset, \"pct_counts_mt\", jitter = 0.4, ax = ax[1], show = False)\n",
    "axis.grid(False)\n",
    "axis.set_title(\"Mitochondrial Fraction\")\n",
    "axis.tick_params(axis = \"x\", bottom =False, labelbottom =False)\n",
    "axis.set_ylabel(\"% mitochondrial genes\")\n",
    "axis.axhline(y = 10, color = \"black\", label = \"cutoff\")\n",
    "axis.legend(fontsize = 14, loc = \"upper right\")\n",
    "\n",
    "axis = sc.pl.violin(dataset, \"pct_counts_hb\", jitter = 0.4, ax = ax[2], show = False, size =2)\n",
    "axis.grid(False)\n",
    "axis.set_title(\"Hemoglobin Fraction\")\n",
    "axis.tick_params(axis = \"x\", bottom =False, labelbottom =False)\n",
    "axis.set_ylabel(\"% hemoglobin genes\")\n",
    "axis.axhline(y = 3, color = \"black\", label = \"cutoff\")\n",
    "axis.legend(fontsize = 14, loc = \"upper right\")\n",
    "#axis.set_ylim(0,5)\n",
    "\n",
    "axis = sc.pl.violin(dataset, \"pct_counts_ribo\", jitter = 0.4, ax = ax[3], show = False)\n",
    "axis.grid(False)\n",
    "axis.set_title(\"Ribosomal Fraction\")\n",
    "axis.tick_params(axis = \"x\", bottom =False, labelbottom =False)\n",
    "axis.set_ylabel(\"% ribosome genes\")\n",
    "\n",
    "plt.tight_layout()\n",
    "#plt.savefig(f\"{outputDir}08_gene_based_filtering.pdf\", dpi = 300)\n",
    "plt.show()\n",
    "\n"
   ]
  },
  {
   "cell_type": "code",
   "execution_count": null,
   "id": "d7ade754-843e-4840-8707-426613d8c0c5",
   "metadata": {
    "execution": {
     "iopub.execute_input": "2023-05-15T07:50:20.988670Z",
     "iopub.status.busy": "2023-05-15T07:50:20.988518Z",
     "iopub.status.idle": "2023-05-15T07:50:20.997249Z",
     "shell.execute_reply": "2023-05-15T07:50:20.996931Z"
    },
    "papermill": {
     "duration": 0.013903,
     "end_time": "2023-05-15T07:50:20.998057",
     "exception": false,
     "start_time": "2023-05-15T07:50:20.984154",
     "status": "completed"
    },
    "tags": []
   },
   "outputs": [],
   "source": [
    "dataset = dataset[dataset.obs.pct_counts_mt < 10, :]\n",
    "dataset = dataset[dataset.obs.n_genes_by_counts > 100, :]\n",
    "dataset = dataset[dataset.obs.pct_counts_hb < 3, :]\n",
    "dataset"
   ]
  },
  {
   "cell_type": "code",
   "execution_count": null,
   "id": "1941fa36-e865-4500-b586-f7a32d142c9b",
   "metadata": {
    "execution": {
     "iopub.execute_input": "2023-05-15T07:50:21.006793Z",
     "iopub.status.busy": "2023-05-15T07:50:21.006628Z",
     "iopub.status.idle": "2023-05-15T07:50:21.009588Z",
     "shell.execute_reply": "2023-05-15T07:50:21.009272Z"
    },
    "papermill": {
     "duration": 0.008211,
     "end_time": "2023-05-15T07:50:21.010369",
     "exception": false,
     "start_time": "2023-05-15T07:50:21.002158",
     "status": "completed"
    },
    "tags": []
   },
   "outputs": [],
   "source": [
    "metadata.columns"
   ]
  },
  {
   "cell_type": "code",
   "execution_count": null,
   "id": "2e0ff8c3-2aa9-4a01-9b88-5912a6734447",
   "metadata": {
    "execution": {
     "iopub.execute_input": "2023-05-15T07:50:21.018953Z",
     "iopub.status.busy": "2023-05-15T07:50:21.018677Z",
     "iopub.status.idle": "2023-05-15T07:50:21.048335Z",
     "shell.execute_reply": "2023-05-15T07:50:21.047860Z"
    },
    "papermill": {
     "duration": 0.035527,
     "end_time": "2023-05-15T07:50:21.049841",
     "exception": false,
     "start_time": "2023-05-15T07:50:21.014314",
     "status": "completed"
    },
    "tags": []
   },
   "outputs": [],
   "source": [
    "for col in metadata.columns:\n",
    "    dataset.obs[col] = metadata.loc[metadata[\"Run\"] == sample_name, col].to_list()[0]"
   ]
  },
  {
   "cell_type": "code",
   "execution_count": null,
   "id": "b84578d3-d63e-419c-a272-a0b8317d05ab",
   "metadata": {
    "execution": {
     "iopub.execute_input": "2023-05-15T07:50:21.060527Z",
     "iopub.status.busy": "2023-05-15T07:50:21.060340Z",
     "iopub.status.idle": "2023-05-15T07:50:21.466721Z",
     "shell.execute_reply": "2023-05-15T07:50:21.466227Z"
    },
    "papermill": {
     "duration": 0.412495,
     "end_time": "2023-05-15T07:50:21.468115",
     "exception": false,
     "start_time": "2023-05-15T07:50:21.055620",
     "status": "completed"
    },
    "tags": []
   },
   "outputs": [],
   "source": [
    "dataset.write(f\"../../int_data/{sample_name}_qc.h5ad\")"
   ]
  },
  {
   "cell_type": "code",
   "execution_count": null,
   "id": "501b33a0-432d-415f-ae82-50723484b85d",
   "metadata": {
    "execution": {
     "iopub.execute_input": "2023-05-15T07:50:21.477967Z",
     "iopub.status.busy": "2023-05-15T07:50:21.477778Z",
     "iopub.status.idle": "2023-05-15T07:50:21.480846Z",
     "shell.execute_reply": "2023-05-15T07:50:21.480512Z"
    },
    "papermill": {
     "duration": 0.008579,
     "end_time": "2023-05-15T07:50:21.481633",
     "exception": false,
     "start_time": "2023-05-15T07:50:21.473054",
     "status": "completed"
    },
    "tags": []
   },
   "outputs": [],
   "source": [
    "dataset"
   ]
  }
 ],
 "metadata": {
  "kernelspec": {
   "display_name": "py_R",
   "language": "python",
   "name": "python_r"
  },
  "language_info": {
   "codemirror_mode": {
    "name": "ipython",
    "version": 3
   },
   "file_extension": ".py",
   "mimetype": "text/x-python",
   "name": "python",
   "nbconvert_exporter": "python",
   "pygments_lexer": "ipython3",
   "version": "3.10.9"
  },
  "papermill": {
   "default_parameters": {},
   "duration": 87.65584,
   "end_time": "2023-05-15T07:50:22.802433",
   "environment_variables": {},
   "exception": null,
   "input_path": "template.ipynb",
   "output_path": "SRR13329152.ipynb",
   "parameters": {
    "sample_name": "SRR13329152"
   },
   "start_time": "2023-05-15T07:48:55.146593",
   "version": "2.4.0"
  }
 },
 "nbformat": 4,
 "nbformat_minor": 5
}
