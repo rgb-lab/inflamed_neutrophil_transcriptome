{
 "cells": [
  {
   "cell_type": "code",
   "execution_count": null,
   "id": "4c0f2fa8-5232-4f47-a7ec-6c9bbabe50e2",
   "metadata": {
    "execution": {
     "iopub.execute_input": "2023-05-15T09:41:09.318157Z",
     "iopub.status.busy": "2023-05-15T09:41:09.317978Z",
     "iopub.status.idle": "2023-05-15T09:41:09.322730Z",
     "shell.execute_reply": "2023-05-15T09:41:09.322405Z"
    },
    "papermill": {
     "duration": 0.058723,
     "end_time": "2023-05-15T09:41:09.323602",
     "exception": false,
     "start_time": "2023-05-15T09:41:09.264879",
     "status": "completed"
    },
    "tags": [
     "parameters"
    ]
   },
   "outputs": [],
   "source": [
    "sample_name = \"SRR13329143\""
   ]
  },
  {
   "cell_type": "code",
   "execution_count": null,
   "id": "ec5d87d5",
   "metadata": {
    "execution": {
     "iopub.execute_input": "2023-05-15T09:41:09.329075Z",
     "iopub.status.busy": "2023-05-15T09:41:09.328861Z",
     "iopub.status.idle": "2023-05-15T09:41:09.333867Z",
     "shell.execute_reply": "2023-05-15T09:41:09.333521Z"
    },
    "papermill": {
     "duration": 0.008331,
     "end_time": "2023-05-15T09:41:09.334693",
     "exception": false,
     "start_time": "2023-05-15T09:41:09.326362",
     "status": "completed"
    },
    "tags": [
     "injected-parameters"
    ]
   },
   "outputs": [],
   "source": [
    "# Parameters\n",
    "sample_name = \"SRR13329116\"\n"
   ]
  },
  {
   "cell_type": "code",
   "execution_count": null,
   "id": "f87ed95b-2b67-4a5a-8fe2-47359b1dd2a9",
   "metadata": {
    "execution": {
     "iopub.execute_input": "2023-05-15T09:41:09.339590Z",
     "iopub.status.busy": "2023-05-15T09:41:09.339332Z",
     "iopub.status.idle": "2023-05-15T09:41:09.341549Z",
     "shell.execute_reply": "2023-05-15T09:41:09.341229Z"
    },
    "papermill": {
     "duration": 0.00552,
     "end_time": "2023-05-15T09:41:09.342344",
     "exception": false,
     "start_time": "2023-05-15T09:41:09.336824",
     "status": "completed"
    },
    "tags": []
   },
   "outputs": [],
   "source": [
    "import warnings\n",
    "warnings.simplefilter(action='ignore', category=FutureWarning)\n",
    "warnings.simplefilter(action='ignore', category=UserWarning)"
   ]
  },
  {
   "cell_type": "code",
   "execution_count": null,
   "id": "85161f19-b2c5-490b-8cab-c2cf9653b304",
   "metadata": {
    "execution": {
     "iopub.execute_input": "2023-05-15T09:41:09.347348Z",
     "iopub.status.busy": "2023-05-15T09:41:09.347123Z",
     "iopub.status.idle": "2023-05-15T09:41:27.830277Z",
     "shell.execute_reply": "2023-05-15T09:41:27.829759Z"
    },
    "papermill": {
     "duration": 18.486979,
     "end_time": "2023-05-15T09:41:27.831568",
     "exception": false,
     "start_time": "2023-05-15T09:41:09.344589",
     "status": "completed"
    },
    "tags": []
   },
   "outputs": [],
   "source": [
    "import gc\n",
    "import scanpy as sc\n",
    "import muon as mu\n",
    "import seaborn as sns\n",
    "import os\n",
    "import pandas as pd\n",
    "from matplotlib import pyplot as plt\n",
    "\n",
    "os.environ['R_HOME'] = '/gpfs/bwfor/work/ws/hd_fu399-conda/conda/envs/python_R/lib/R/'\n",
    "import anndata2ri\n",
    "import logging\n",
    "\n",
    "import rpy2.rinterface_lib.callbacks as rcb\n",
    "import rpy2.robjects as ro\n",
    "\n",
    "rcb.logger.setLevel(logging.ERROR)\n",
    "ro.pandas2ri.activate()\n",
    "anndata2ri.activate()\n",
    "\n",
    "%load_ext rpy2.ipython"
   ]
  },
  {
   "cell_type": "code",
   "execution_count": null,
   "id": "fc4ade78-b728-4704-9db6-45fbaab62ba1",
   "metadata": {
    "execution": {
     "iopub.execute_input": "2023-05-15T09:41:27.878381Z",
     "iopub.status.busy": "2023-05-15T09:41:27.878097Z",
     "iopub.status.idle": "2023-05-15T09:41:42.082410Z",
     "shell.execute_reply": "2023-05-15T09:41:42.081892Z"
    },
    "papermill": {
     "duration": 14.208637,
     "end_time": "2023-05-15T09:41:42.083653",
     "exception": false,
     "start_time": "2023-05-15T09:41:27.875016",
     "status": "completed"
    },
    "tags": []
   },
   "outputs": [],
   "source": [
    "%%R\n",
    "library(SoupX)\n",
    "library(Seurat)\n",
    "library(scater)\n",
    "library(scDblFinder)\n",
    "library(BiocParallel)\n",
    "library(MuDataSeurat)\n",
    "library(DropletUtils)"
   ]
  },
  {
   "cell_type": "code",
   "execution_count": null,
   "id": "f7424d90-7690-4290-8651-1db3f9df3a35",
   "metadata": {
    "execution": {
     "iopub.execute_input": "2023-05-15T09:41:42.126372Z",
     "iopub.status.busy": "2023-05-15T09:41:42.126161Z",
     "iopub.status.idle": "2023-05-15T09:41:42.147588Z",
     "shell.execute_reply": "2023-05-15T09:41:42.147177Z"
    },
    "papermill": {
     "duration": 0.025527,
     "end_time": "2023-05-15T09:41:42.148408",
     "exception": false,
     "start_time": "2023-05-15T09:41:42.122881",
     "status": "completed"
    },
    "tags": []
   },
   "outputs": [],
   "source": [
    "metadata = pd.read_csv(\"../../combes_metadata.txt\")"
   ]
  },
  {
   "cell_type": "code",
   "execution_count": null,
   "id": "2574ecf1-bad4-4c33-8f3f-718a358727ab",
   "metadata": {
    "execution": {
     "iopub.execute_input": "2023-05-15T09:41:42.153914Z",
     "iopub.status.busy": "2023-05-15T09:41:42.153687Z",
     "iopub.status.idle": "2023-05-15T09:41:42.156235Z",
     "shell.execute_reply": "2023-05-15T09:41:42.155923Z"
    },
    "papermill": {
     "duration": 0.006064,
     "end_time": "2023-05-15T09:41:42.156991",
     "exception": false,
     "start_time": "2023-05-15T09:41:42.150927",
     "status": "completed"
    },
    "tags": []
   },
   "outputs": [],
   "source": [
    "raw_input = f\"/home/hd/hd_hd/hd_fu399/sds-hd/sd21k006/scRNAseq/revision_natcomm/combes_et_al/fetchngs/results/fastq/{sample_name}/{sample_name}/outs/raw_feature_bc_matrix.h5\""
   ]
  },
  {
   "cell_type": "code",
   "execution_count": null,
   "id": "e266d388-1802-435c-93a5-90067358739c",
   "metadata": {
    "execution": {
     "iopub.execute_input": "2023-05-15T09:41:42.162457Z",
     "iopub.status.busy": "2023-05-15T09:41:42.162219Z",
     "iopub.status.idle": "2023-05-15T09:41:42.806894Z",
     "shell.execute_reply": "2023-05-15T09:41:42.806508Z"
    },
    "papermill": {
     "duration": 0.648477,
     "end_time": "2023-05-15T09:41:42.807835",
     "exception": false,
     "start_time": "2023-05-15T09:41:42.159358",
     "status": "completed"
    },
    "tags": []
   },
   "outputs": [],
   "source": [
    "dataset = sc.read_10x_h5(raw_input)\n",
    "dataset.var_names_make_unique()\n",
    "dataset.obs_names_make_unique()\n",
    "\n",
    "dataset.layers[\"raw_counts\"] = dataset.X.copy()\n",
    "data_tod = dataset.layers[\"raw_counts\"].T.copy()\n",
    "\n",
    "dataset"
   ]
  },
  {
   "cell_type": "code",
   "execution_count": null,
   "id": "af9f5892-ed31-42a6-991b-4e096f582cef",
   "metadata": {
    "execution": {
     "iopub.execute_input": "2023-05-15T09:41:42.850700Z",
     "iopub.status.busy": "2023-05-15T09:41:42.850497Z",
     "iopub.status.idle": "2023-05-15T09:41:42.900809Z",
     "shell.execute_reply": "2023-05-15T09:41:42.900331Z"
    },
    "papermill": {
     "duration": 0.054744,
     "end_time": "2023-05-15T09:41:42.901929",
     "exception": false,
     "start_time": "2023-05-15T09:41:42.847185",
     "status": "completed"
    },
    "tags": []
   },
   "outputs": [],
   "source": [
    "sce = dataset.copy()"
   ]
  },
  {
   "cell_type": "code",
   "execution_count": null,
   "id": "d03f2caf-8e74-430e-b045-0ab80401d165",
   "metadata": {
    "execution": {
     "iopub.execute_input": "2023-05-15T09:41:42.908141Z",
     "iopub.status.busy": "2023-05-15T09:41:42.907975Z",
     "iopub.status.idle": "2023-05-15T09:43:13.918106Z",
     "shell.execute_reply": "2023-05-15T09:43:13.917473Z"
    },
    "papermill": {
     "duration": 91.014582,
     "end_time": "2023-05-15T09:43:13.919397",
     "exception": false,
     "start_time": "2023-05-15T09:41:42.904815",
     "status": "completed"
    },
    "tags": []
   },
   "outputs": [],
   "source": [
    "%%R -i sce -o empty_drop_output\n",
    "set.seed(187)\n",
    "empty_drop_output <- emptyDrops(assay(sce))"
   ]
  },
  {
   "cell_type": "code",
   "execution_count": null,
   "id": "2a34a54b-3ae2-44d6-8679-8769228c5b66",
   "metadata": {
    "execution": {
     "iopub.execute_input": "2023-05-15T09:43:13.968085Z",
     "iopub.status.busy": "2023-05-15T09:43:13.967897Z",
     "iopub.status.idle": "2023-05-15T09:43:13.999039Z",
     "shell.execute_reply": "2023-05-15T09:43:13.998699Z"
    },
    "papermill": {
     "duration": 0.035302,
     "end_time": "2023-05-15T09:43:13.999853",
     "exception": false,
     "start_time": "2023-05-15T09:43:13.964551",
     "status": "completed"
    },
    "tags": []
   },
   "outputs": [],
   "source": [
    "non_empty_barcodes = empty_drop_output[empty_drop_output[\"FDR\"] < 0.001].index\n",
    "dataset = dataset[dataset.obs.index.isin(non_empty_barcodes), :]\n",
    "dataset"
   ]
  },
  {
   "cell_type": "code",
   "execution_count": null,
   "id": "016a91e5-1bef-46fb-b91e-4fb9a6870c44",
   "metadata": {
    "execution": {
     "iopub.execute_input": "2023-05-15T09:43:14.005820Z",
     "iopub.status.busy": "2023-05-15T09:43:14.005612Z",
     "iopub.status.idle": "2023-05-15T09:43:19.199019Z",
     "shell.execute_reply": "2023-05-15T09:43:19.198543Z"
    },
    "papermill": {
     "duration": 5.197715,
     "end_time": "2023-05-15T09:43:19.200306",
     "exception": false,
     "start_time": "2023-05-15T09:43:14.002591",
     "status": "completed"
    },
    "tags": []
   },
   "outputs": [],
   "source": [
    "rna_assay = dataset.copy()\n",
    "sc.pp.normalize_per_cell(rna_assay)\n",
    "sc.pp.log1p(rna_assay)\n",
    "sc.pp.pca(rna_assay)\n",
    "sc.pp.neighbors(rna_assay)\n",
    "sc.tl.leiden(rna_assay, key_added=\"soupx_groups\")\n",
    "\n",
    "soupx_groups = rna_assay.obs[\"soupx_groups\"]\n",
    "\n",
    "del rna_assay\n",
    "\n",
    "genes = dataset.var_names\n",
    "cells = dataset.obs_names\n",
    "data = dataset.X.T.copy()"
   ]
  },
  {
   "cell_type": "code",
   "execution_count": null,
   "id": "9db4ea1f-1580-4f43-a3f0-86002397cd98",
   "metadata": {
    "execution": {
     "iopub.execute_input": "2023-05-15T09:43:19.279703Z",
     "iopub.status.busy": "2023-05-15T09:43:19.279486Z",
     "iopub.status.idle": "2023-05-15T09:43:33.337548Z",
     "shell.execute_reply": "2023-05-15T09:43:33.337073Z"
    },
    "papermill": {
     "duration": 14.102452,
     "end_time": "2023-05-15T09:43:33.338736",
     "exception": false,
     "start_time": "2023-05-15T09:43:19.236284",
     "status": "completed"
    },
    "tags": []
   },
   "outputs": [],
   "source": [
    "%%R -i data -i data_tod -i genes -i cells -i soupx_groups -o out \n",
    "set.seed(187)\n",
    "# specify row and column names of data\n",
    "rownames(data) = genes\n",
    "colnames(data) = cells\n",
    "# ensure correct sparse format for table of counts and table of droplets\n",
    "data <- as(data, \"sparseMatrix\")\n",
    "data_tod <- as(data_tod, \"sparseMatrix\")\n",
    "\n",
    "# Generate SoupChannel Object for SoupX \n",
    "sc = SoupChannel(data_tod, data, calcSoupProfile = FALSE)\n",
    "\n",
    "# Add extra meta data to the SoupChannel object\n",
    "soupProf = data.frame(row.names = rownames(data),\n",
    "                      est = rowSums(data)/sum(data),\n",
    "                      counts = rowSums(data))\n",
    "sc = setSoupProfile(sc, soupProf)\n",
    "# Set cluster information in SoupChannel\n",
    "sc = setClusters(sc, soupx_groups)\n",
    "\n",
    "# Estimate contamination fraction\n",
    "sc  = autoEstCont(sc, doPlot=FALSE, forceAccept = TRUE)\n",
    "# Infer corrected table of counts and rount to integer\n",
    "out = adjustCounts(sc, roundToInt = TRUE)"
   ]
  },
  {
   "cell_type": "code",
   "execution_count": null,
   "id": "32555d5e-5fa3-46dd-a4e0-ddc96ea265e2",
   "metadata": {
    "execution": {
     "iopub.execute_input": "2023-05-15T09:43:33.385532Z",
     "iopub.status.busy": "2023-05-15T09:43:33.385366Z",
     "iopub.status.idle": "2023-05-15T09:43:33.414195Z",
     "shell.execute_reply": "2023-05-15T09:43:33.413734Z"
    },
    "papermill": {
     "duration": 0.033351,
     "end_time": "2023-05-15T09:43:33.415349",
     "exception": false,
     "start_time": "2023-05-15T09:43:33.381998",
     "status": "completed"
    },
    "tags": []
   },
   "outputs": [],
   "source": [
    "dataset.layers[\"soupX_counts\"] = out.T\n",
    "dataset.X = dataset.layers[\"soupX_counts\"].copy()"
   ]
  },
  {
   "cell_type": "code",
   "execution_count": null,
   "id": "e27da7df-e094-4d2a-9109-5a363e012175",
   "metadata": {
    "execution": {
     "iopub.execute_input": "2023-05-15T09:43:33.421825Z",
     "iopub.status.busy": "2023-05-15T09:43:33.421603Z",
     "iopub.status.idle": "2023-05-15T09:43:33.427511Z",
     "shell.execute_reply": "2023-05-15T09:43:33.427181Z"
    },
    "papermill": {
     "duration": 0.009843,
     "end_time": "2023-05-15T09:43:33.428288",
     "exception": false,
     "start_time": "2023-05-15T09:43:33.418445",
     "status": "completed"
    },
    "tags": []
   },
   "outputs": [],
   "source": [
    "data_mat = dataset.X.T"
   ]
  },
  {
   "cell_type": "code",
   "execution_count": null,
   "id": "80a993b1-5ccb-4697-9187-1beb7ab8aff9",
   "metadata": {
    "execution": {
     "iopub.execute_input": "2023-05-15T09:43:33.434338Z",
     "iopub.status.busy": "2023-05-15T09:43:33.434079Z",
     "iopub.status.idle": "2023-05-15T09:43:57.000914Z",
     "shell.execute_reply": "2023-05-15T09:43:57.000396Z"
    },
    "papermill": {
     "duration": 23.571193,
     "end_time": "2023-05-15T09:43:57.002093",
     "exception": false,
     "start_time": "2023-05-15T09:43:33.430900",
     "status": "completed"
    },
    "tags": []
   },
   "outputs": [],
   "source": [
    "%%R -i data_mat -o droplet_class\n",
    "\n",
    "set.seed(187)\n",
    "sce = scDblFinder(\n",
    "    SingleCellExperiment(\n",
    "        list(counts=data_mat),\n",
    "    ) \n",
    ")\n",
    "droplet_class = sce$scDblFinder.class"
   ]
  },
  {
   "cell_type": "code",
   "execution_count": null,
   "id": "d4dd6e9d-fcf2-41fc-8457-c8e0a3cb2c71",
   "metadata": {
    "execution": {
     "iopub.execute_input": "2023-05-15T09:43:57.047763Z",
     "iopub.status.busy": "2023-05-15T09:43:57.047552Z",
     "iopub.status.idle": "2023-05-15T09:43:57.052055Z",
     "shell.execute_reply": "2023-05-15T09:43:57.051730Z"
    },
    "papermill": {
     "duration": 0.008859,
     "end_time": "2023-05-15T09:43:57.052830",
     "exception": false,
     "start_time": "2023-05-15T09:43:57.043971",
     "status": "completed"
    },
    "tags": []
   },
   "outputs": [],
   "source": [
    "dataset.obs[\"scDblFinder_class\"] = droplet_class\n",
    "dataset.obs.scDblFinder_class.value_counts()\n",
    "dataset"
   ]
  },
  {
   "cell_type": "code",
   "execution_count": null,
   "id": "28c95014-2d6c-477f-95cb-9f9f0507520c",
   "metadata": {
    "execution": {
     "iopub.execute_input": "2023-05-15T09:43:57.058883Z",
     "iopub.status.busy": "2023-05-15T09:43:57.058747Z",
     "iopub.status.idle": "2023-05-15T09:43:57.077914Z",
     "shell.execute_reply": "2023-05-15T09:43:57.077608Z"
    },
    "papermill": {
     "duration": 0.023112,
     "end_time": "2023-05-15T09:43:57.078676",
     "exception": false,
     "start_time": "2023-05-15T09:43:57.055564",
     "status": "completed"
    },
    "tags": []
   },
   "outputs": [],
   "source": [
    "dataset = dataset[dataset.obs[\"scDblFinder_class\"] == 1]"
   ]
  },
  {
   "cell_type": "code",
   "execution_count": null,
   "id": "3e22f9e0-bfcb-416c-a151-a9bca3bec3b9",
   "metadata": {
    "execution": {
     "iopub.execute_input": "2023-05-15T09:43:57.084704Z",
     "iopub.status.busy": "2023-05-15T09:43:57.084571Z",
     "iopub.status.idle": "2023-05-15T09:43:57.223518Z",
     "shell.execute_reply": "2023-05-15T09:43:57.223127Z"
    },
    "papermill": {
     "duration": 0.143054,
     "end_time": "2023-05-15T09:43:57.224441",
     "exception": false,
     "start_time": "2023-05-15T09:43:57.081387",
     "status": "completed"
    },
    "tags": []
   },
   "outputs": [],
   "source": [
    "# mitochondrial genes\n",
    "dataset.var[\"mt\"] = dataset.var_names.str.startswith(\"MT-\")\n",
    "# ribosomal genes\n",
    "dataset.var[\"ribo\"] = dataset.var_names.str.startswith((\"RPS\", \"RPL\"))\n",
    "# hemoglobin genes.\n",
    "dataset.var[\"hb\"] = dataset.var_names.str.contains((\"^HB[^(P)]\"))\n",
    "\n",
    "sc.pp.calculate_qc_metrics(dataset,\n",
    "                           qc_vars=['mt', 'ribo', 'hb'],\n",
    "                           percent_top=None,\n",
    "                           log1p=False,\n",
    "                           inplace=True)\n",
    "dataset"
   ]
  },
  {
   "cell_type": "code",
   "execution_count": null,
   "id": "34deee79-4043-428f-8575-aa57b45f6369",
   "metadata": {
    "execution": {
     "iopub.execute_input": "2023-05-15T09:43:57.231640Z",
     "iopub.status.busy": "2023-05-15T09:43:57.231449Z",
     "iopub.status.idle": "2023-05-15T09:43:57.851045Z",
     "shell.execute_reply": "2023-05-15T09:43:57.850649Z"
    },
    "papermill": {
     "duration": 0.62403,
     "end_time": "2023-05-15T09:43:57.852008",
     "exception": false,
     "start_time": "2023-05-15T09:43:57.227978",
     "status": "completed"
    },
    "tags": []
   },
   "outputs": [],
   "source": [
    "fig, ax = plt.subplots(ncols = 4, figsize = (16,4))\n",
    "axis = sc.pl.violin(dataset, \"n_genes_by_counts\", jitter = 0.4, ax = ax[0], show = False)\n",
    "axis.grid(False)\n",
    "axis.set_title(\"Unique Genes per cell\")\n",
    "axis.tick_params(axis = \"x\", bottom =False, labelbottom =False)\n",
    "axis.set_ylabel(\"# genes\")\n",
    "axis.axhline(y = 100, color = \"black\", label = \"cutoff\")\n",
    "axis.legend(fontsize = 14, loc = \"upper right\")\n",
    "\n",
    "axis = sc.pl.violin(dataset, \"pct_counts_mt\", jitter = 0.4, ax = ax[1], show = False)\n",
    "axis.grid(False)\n",
    "axis.set_title(\"Mitochondrial Fraction\")\n",
    "axis.tick_params(axis = \"x\", bottom =False, labelbottom =False)\n",
    "axis.set_ylabel(\"% mitochondrial genes\")\n",
    "axis.axhline(y = 10, color = \"black\", label = \"cutoff\")\n",
    "axis.legend(fontsize = 14, loc = \"upper right\")\n",
    "\n",
    "axis = sc.pl.violin(dataset, \"pct_counts_hb\", jitter = 0.4, ax = ax[2], show = False, size =2)\n",
    "axis.grid(False)\n",
    "axis.set_title(\"Hemoglobin Fraction\")\n",
    "axis.tick_params(axis = \"x\", bottom =False, labelbottom =False)\n",
    "axis.set_ylabel(\"% hemoglobin genes\")\n",
    "axis.axhline(y = 3, color = \"black\", label = \"cutoff\")\n",
    "axis.legend(fontsize = 14, loc = \"upper right\")\n",
    "#axis.set_ylim(0,5)\n",
    "\n",
    "axis = sc.pl.violin(dataset, \"pct_counts_ribo\", jitter = 0.4, ax = ax[3], show = False)\n",
    "axis.grid(False)\n",
    "axis.set_title(\"Ribosomal Fraction\")\n",
    "axis.tick_params(axis = \"x\", bottom =False, labelbottom =False)\n",
    "axis.set_ylabel(\"% ribosome genes\")\n",
    "\n",
    "plt.tight_layout()\n",
    "#plt.savefig(f\"{outputDir}08_gene_based_filtering.pdf\", dpi = 300)\n",
    "plt.show()\n",
    "\n"
   ]
  },
  {
   "cell_type": "code",
   "execution_count": null,
   "id": "d7ade754-843e-4840-8707-426613d8c0c5",
   "metadata": {
    "execution": {
     "iopub.execute_input": "2023-05-15T09:43:57.891596Z",
     "iopub.status.busy": "2023-05-15T09:43:57.891393Z",
     "iopub.status.idle": "2023-05-15T09:43:57.901045Z",
     "shell.execute_reply": "2023-05-15T09:43:57.900714Z"
    },
    "papermill": {
     "duration": 0.014994,
     "end_time": "2023-05-15T09:43:57.901812",
     "exception": false,
     "start_time": "2023-05-15T09:43:57.886818",
     "status": "completed"
    },
    "tags": []
   },
   "outputs": [],
   "source": [
    "dataset = dataset[dataset.obs.pct_counts_mt < 10, :]\n",
    "dataset = dataset[dataset.obs.n_genes_by_counts > 100, :]\n",
    "dataset = dataset[dataset.obs.pct_counts_hb < 3, :]\n",
    "dataset"
   ]
  },
  {
   "cell_type": "code",
   "execution_count": null,
   "id": "1941fa36-e865-4500-b586-f7a32d142c9b",
   "metadata": {
    "execution": {
     "iopub.execute_input": "2023-05-15T09:43:57.910419Z",
     "iopub.status.busy": "2023-05-15T09:43:57.910249Z",
     "iopub.status.idle": "2023-05-15T09:43:57.913128Z",
     "shell.execute_reply": "2023-05-15T09:43:57.912811Z"
    },
    "papermill": {
     "duration": 0.008061,
     "end_time": "2023-05-15T09:43:57.913876",
     "exception": false,
     "start_time": "2023-05-15T09:43:57.905815",
     "status": "completed"
    },
    "tags": []
   },
   "outputs": [],
   "source": [
    "metadata.columns"
   ]
  },
  {
   "cell_type": "code",
   "execution_count": null,
   "id": "2e0ff8c3-2aa9-4a01-9b88-5912a6734447",
   "metadata": {
    "execution": {
     "iopub.execute_input": "2023-05-15T09:43:57.922546Z",
     "iopub.status.busy": "2023-05-15T09:43:57.922354Z",
     "iopub.status.idle": "2023-05-15T09:43:57.964346Z",
     "shell.execute_reply": "2023-05-15T09:43:57.963930Z"
    },
    "papermill": {
     "duration": 0.04748,
     "end_time": "2023-05-15T09:43:57.965403",
     "exception": false,
     "start_time": "2023-05-15T09:43:57.917923",
     "status": "completed"
    },
    "tags": []
   },
   "outputs": [],
   "source": [
    "for col in metadata.columns:\n",
    "    dataset.obs[col] = metadata.loc[metadata[\"Run\"] == sample_name, col].to_list()[0]"
   ]
  },
  {
   "cell_type": "code",
   "execution_count": null,
   "id": "b84578d3-d63e-419c-a272-a0b8317d05ab",
   "metadata": {
    "execution": {
     "iopub.execute_input": "2023-05-15T09:43:58.023318Z",
     "iopub.status.busy": "2023-05-15T09:43:58.023110Z",
     "iopub.status.idle": "2023-05-15T09:43:58.899030Z",
     "shell.execute_reply": "2023-05-15T09:43:58.898564Z"
    },
    "papermill": {
     "duration": 0.881943,
     "end_time": "2023-05-15T09:43:58.900235",
     "exception": false,
     "start_time": "2023-05-15T09:43:58.018292",
     "status": "completed"
    },
    "tags": []
   },
   "outputs": [],
   "source": [
    "dataset.write(f\"../../int_data/{sample_name}_qc.h5ad\")"
   ]
  },
  {
   "cell_type": "code",
   "execution_count": null,
   "id": "501b33a0-432d-415f-ae82-50723484b85d",
   "metadata": {
    "execution": {
     "iopub.execute_input": "2023-05-15T09:43:58.965428Z",
     "iopub.status.busy": "2023-05-15T09:43:58.965230Z",
     "iopub.status.idle": "2023-05-15T09:43:58.968304Z",
     "shell.execute_reply": "2023-05-15T09:43:58.967975Z"
    },
    "papermill": {
     "duration": 0.00871,
     "end_time": "2023-05-15T09:43:58.969083",
     "exception": false,
     "start_time": "2023-05-15T09:43:58.960373",
     "status": "completed"
    },
    "tags": []
   },
   "outputs": [],
   "source": [
    "dataset"
   ]
  }
 ],
 "metadata": {
  "kernelspec": {
   "display_name": "py_R",
   "language": "python",
   "name": "python_r"
  },
  "language_info": {
   "codemirror_mode": {
    "name": "ipython",
    "version": 3
   },
   "file_extension": ".py",
   "mimetype": "text/x-python",
   "name": "python",
   "nbconvert_exporter": "python",
   "pygments_lexer": "ipython3",
   "version": "3.10.9"
  },
  "papermill": {
   "default_parameters": {},
   "duration": 184.386941,
   "end_time": "2023-05-15T09:44:07.218636",
   "environment_variables": {},
   "exception": null,
   "input_path": "template.ipynb",
   "output_path": "SRR13329116.ipynb",
   "parameters": {
    "sample_name": "SRR13329116"
   },
   "start_time": "2023-05-15T09:41:02.831695",
   "version": "2.4.0"
  }
 },
 "nbformat": 4,
 "nbformat_minor": 5
}
