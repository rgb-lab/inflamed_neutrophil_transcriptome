{
 "cells": [
  {
   "cell_type": "code",
   "execution_count": null,
   "id": "4c0f2fa8-5232-4f47-a7ec-6c9bbabe50e2",
   "metadata": {
    "execution": {
     "iopub.execute_input": "2023-05-15T08:26:47.090140Z",
     "iopub.status.busy": "2023-05-15T08:26:47.089976Z",
     "iopub.status.idle": "2023-05-15T08:26:47.094419Z",
     "shell.execute_reply": "2023-05-15T08:26:47.094111Z"
    },
    "papermill": {
     "duration": 0.008961,
     "end_time": "2023-05-15T08:26:47.095295",
     "exception": false,
     "start_time": "2023-05-15T08:26:47.086334",
     "status": "completed"
    },
    "tags": [
     "parameters"
    ]
   },
   "outputs": [],
   "source": [
    "sample_name = \"SRR13329143\""
   ]
  },
  {
   "cell_type": "code",
   "execution_count": null,
   "id": "efaaa89f",
   "metadata": {
    "execution": {
     "iopub.execute_input": "2023-05-15T08:26:47.100452Z",
     "iopub.status.busy": "2023-05-15T08:26:47.100214Z",
     "iopub.status.idle": "2023-05-15T08:26:47.102075Z",
     "shell.execute_reply": "2023-05-15T08:26:47.101788Z"
    },
    "papermill": {
     "duration": 0.005213,
     "end_time": "2023-05-15T08:26:47.102823",
     "exception": false,
     "start_time": "2023-05-15T08:26:47.097610",
     "status": "completed"
    },
    "tags": [
     "injected-parameters"
    ]
   },
   "outputs": [],
   "source": [
    "# Parameters\n",
    "sample_name = \"SRR13329146\"\n"
   ]
  },
  {
   "cell_type": "code",
   "execution_count": null,
   "id": "f87ed95b-2b67-4a5a-8fe2-47359b1dd2a9",
   "metadata": {
    "execution": {
     "iopub.execute_input": "2023-05-15T08:26:47.107847Z",
     "iopub.status.busy": "2023-05-15T08:26:47.107678Z",
     "iopub.status.idle": "2023-05-15T08:26:47.109834Z",
     "shell.execute_reply": "2023-05-15T08:26:47.109548Z"
    },
    "papermill": {
     "duration": 0.00557,
     "end_time": "2023-05-15T08:26:47.110612",
     "exception": false,
     "start_time": "2023-05-15T08:26:47.105042",
     "status": "completed"
    },
    "tags": []
   },
   "outputs": [],
   "source": [
    "import warnings\n",
    "warnings.simplefilter(action='ignore', category=FutureWarning)\n",
    "warnings.simplefilter(action='ignore', category=UserWarning)"
   ]
  },
  {
   "cell_type": "code",
   "execution_count": null,
   "id": "85161f19-b2c5-490b-8cab-c2cf9653b304",
   "metadata": {
    "execution": {
     "iopub.execute_input": "2023-05-15T08:26:47.115758Z",
     "iopub.status.busy": "2023-05-15T08:26:47.115548Z",
     "iopub.status.idle": "2023-05-15T08:26:52.060193Z",
     "shell.execute_reply": "2023-05-15T08:26:52.059729Z"
    },
    "papermill": {
     "duration": 4.948596,
     "end_time": "2023-05-15T08:26:52.061499",
     "exception": false,
     "start_time": "2023-05-15T08:26:47.112903",
     "status": "completed"
    },
    "tags": []
   },
   "outputs": [],
   "source": [
    "import gc\n",
    "import scanpy as sc\n",
    "import muon as mu\n",
    "import seaborn as sns\n",
    "import os\n",
    "import pandas as pd\n",
    "from matplotlib import pyplot as plt\n",
    "\n",
    "os.environ['R_HOME'] = '/gpfs/bwfor/work/ws/hd_fu399-conda/conda/envs/python_R/lib/R/'\n",
    "import anndata2ri\n",
    "import logging\n",
    "\n",
    "import rpy2.rinterface_lib.callbacks as rcb\n",
    "import rpy2.robjects as ro\n",
    "\n",
    "rcb.logger.setLevel(logging.ERROR)\n",
    "ro.pandas2ri.activate()\n",
    "anndata2ri.activate()\n",
    "\n",
    "%load_ext rpy2.ipython"
   ]
  },
  {
   "cell_type": "code",
   "execution_count": null,
   "id": "fc4ade78-b728-4704-9db6-45fbaab62ba1",
   "metadata": {
    "execution": {
     "iopub.execute_input": "2023-05-15T08:26:52.069886Z",
     "iopub.status.busy": "2023-05-15T08:26:52.069587Z",
     "iopub.status.idle": "2023-05-15T08:27:04.036308Z",
     "shell.execute_reply": "2023-05-15T08:27:04.035807Z"
    },
    "papermill": {
     "duration": 11.971146,
     "end_time": "2023-05-15T08:27:04.037625",
     "exception": false,
     "start_time": "2023-05-15T08:26:52.066479",
     "status": "completed"
    },
    "tags": []
   },
   "outputs": [],
   "source": [
    "%%R\n",
    "library(SoupX)\n",
    "library(Seurat)\n",
    "library(scater)\n",
    "library(scDblFinder)\n",
    "library(BiocParallel)\n",
    "library(MuDataSeurat)\n",
    "library(DropletUtils)"
   ]
  },
  {
   "cell_type": "code",
   "execution_count": null,
   "id": "f7424d90-7690-4290-8651-1db3f9df3a35",
   "metadata": {
    "execution": {
     "iopub.execute_input": "2023-05-15T08:27:04.047260Z",
     "iopub.status.busy": "2023-05-15T08:27:04.047082Z",
     "iopub.status.idle": "2023-05-15T08:27:04.053625Z",
     "shell.execute_reply": "2023-05-15T08:27:04.053306Z"
    },
    "papermill": {
     "duration": 0.01066,
     "end_time": "2023-05-15T08:27:04.054574",
     "exception": false,
     "start_time": "2023-05-15T08:27:04.043914",
     "status": "completed"
    },
    "tags": []
   },
   "outputs": [],
   "source": [
    "metadata = pd.read_csv(\"../../combes_metadata.txt\")"
   ]
  },
  {
   "cell_type": "code",
   "execution_count": null,
   "id": "2574ecf1-bad4-4c33-8f3f-718a358727ab",
   "metadata": {
    "execution": {
     "iopub.execute_input": "2023-05-15T08:27:04.060261Z",
     "iopub.status.busy": "2023-05-15T08:27:04.060129Z",
     "iopub.status.idle": "2023-05-15T08:27:04.062148Z",
     "shell.execute_reply": "2023-05-15T08:27:04.061850Z"
    },
    "papermill": {
     "duration": 0.005699,
     "end_time": "2023-05-15T08:27:04.062889",
     "exception": false,
     "start_time": "2023-05-15T08:27:04.057190",
     "status": "completed"
    },
    "tags": []
   },
   "outputs": [],
   "source": [
    "raw_input = f\"/home/hd/hd_hd/hd_fu399/sds-hd/sd21k006/scRNAseq/revision_natcomm/combes_et_al/fetchngs/results/fastq/{sample_name}/{sample_name}/outs/raw_feature_bc_matrix.h5\""
   ]
  },
  {
   "cell_type": "code",
   "execution_count": null,
   "id": "e266d388-1802-435c-93a5-90067358739c",
   "metadata": {
    "execution": {
     "iopub.execute_input": "2023-05-15T08:27:04.068679Z",
     "iopub.status.busy": "2023-05-15T08:27:04.068514Z",
     "iopub.status.idle": "2023-05-15T08:27:04.519590Z",
     "shell.execute_reply": "2023-05-15T08:27:04.519215Z"
    },
    "papermill": {
     "duration": 0.455118,
     "end_time": "2023-05-15T08:27:04.520550",
     "exception": false,
     "start_time": "2023-05-15T08:27:04.065432",
     "status": "completed"
    },
    "tags": []
   },
   "outputs": [],
   "source": [
    "dataset = sc.read_10x_h5(raw_input)\n",
    "dataset.var_names_make_unique()\n",
    "dataset.obs_names_make_unique()\n",
    "\n",
    "dataset.layers[\"raw_counts\"] = dataset.X.copy()\n",
    "data_tod = dataset.layers[\"raw_counts\"].T.copy()\n",
    "\n",
    "dataset"
   ]
  },
  {
   "cell_type": "code",
   "execution_count": null,
   "id": "af9f5892-ed31-42a6-991b-4e096f582cef",
   "metadata": {
    "execution": {
     "iopub.execute_input": "2023-05-15T08:27:04.527224Z",
     "iopub.status.busy": "2023-05-15T08:27:04.527049Z",
     "iopub.status.idle": "2023-05-15T08:27:04.564624Z",
     "shell.execute_reply": "2023-05-15T08:27:04.564120Z"
    },
    "papermill": {
     "duration": 0.0421,
     "end_time": "2023-05-15T08:27:04.565897",
     "exception": false,
     "start_time": "2023-05-15T08:27:04.523797",
     "status": "completed"
    },
    "tags": []
   },
   "outputs": [],
   "source": [
    "sce = dataset.copy()"
   ]
  },
  {
   "cell_type": "code",
   "execution_count": null,
   "id": "d03f2caf-8e74-430e-b045-0ab80401d165",
   "metadata": {
    "execution": {
     "iopub.execute_input": "2023-05-15T08:27:04.572427Z",
     "iopub.status.busy": "2023-05-15T08:27:04.572262Z",
     "iopub.status.idle": "2023-05-15T08:27:48.690481Z",
     "shell.execute_reply": "2023-05-15T08:27:48.689877Z"
    },
    "papermill": {
     "duration": 44.122797,
     "end_time": "2023-05-15T08:27:48.691796",
     "exception": false,
     "start_time": "2023-05-15T08:27:04.568999",
     "status": "completed"
    },
    "tags": []
   },
   "outputs": [],
   "source": [
    "%%R -i sce -o empty_drop_output\n",
    "set.seed(187)\n",
    "empty_drop_output <- emptyDrops(assay(sce))"
   ]
  },
  {
   "cell_type": "code",
   "execution_count": null,
   "id": "2a34a54b-3ae2-44d6-8679-8769228c5b66",
   "metadata": {
    "execution": {
     "iopub.execute_input": "2023-05-15T08:27:48.748505Z",
     "iopub.status.busy": "2023-05-15T08:27:48.748348Z",
     "iopub.status.idle": "2023-05-15T08:27:48.784362Z",
     "shell.execute_reply": "2023-05-15T08:27:48.784040Z"
    },
    "papermill": {
     "duration": 0.041018,
     "end_time": "2023-05-15T08:27:48.785241",
     "exception": false,
     "start_time": "2023-05-15T08:27:48.744223",
     "status": "completed"
    },
    "tags": []
   },
   "outputs": [],
   "source": [
    "non_empty_barcodes = empty_drop_output[empty_drop_output[\"FDR\"] < 0.001].index\n",
    "dataset = dataset[dataset.obs.index.isin(non_empty_barcodes), :]\n",
    "dataset"
   ]
  },
  {
   "cell_type": "code",
   "execution_count": null,
   "id": "016a91e5-1bef-46fb-b91e-4fb9a6870c44",
   "metadata": {
    "execution": {
     "iopub.execute_input": "2023-05-15T08:27:48.791544Z",
     "iopub.status.busy": "2023-05-15T08:27:48.791383Z",
     "iopub.status.idle": "2023-05-15T08:27:53.102999Z",
     "shell.execute_reply": "2023-05-15T08:27:53.102521Z"
    },
    "papermill": {
     "duration": 4.316292,
     "end_time": "2023-05-15T08:27:53.104354",
     "exception": false,
     "start_time": "2023-05-15T08:27:48.788062",
     "status": "completed"
    },
    "tags": []
   },
   "outputs": [],
   "source": [
    "rna_assay = dataset.copy()\n",
    "sc.pp.normalize_per_cell(rna_assay)\n",
    "sc.pp.log1p(rna_assay)\n",
    "sc.pp.pca(rna_assay)\n",
    "sc.pp.neighbors(rna_assay)\n",
    "sc.tl.leiden(rna_assay, key_added=\"soupx_groups\")\n",
    "\n",
    "soupx_groups = rna_assay.obs[\"soupx_groups\"]\n",
    "\n",
    "del rna_assay\n",
    "\n",
    "genes = dataset.var_names\n",
    "cells = dataset.obs_names\n",
    "data = dataset.X.T.copy()"
   ]
  },
  {
   "cell_type": "code",
   "execution_count": null,
   "id": "9db4ea1f-1580-4f43-a3f0-86002397cd98",
   "metadata": {
    "execution": {
     "iopub.execute_input": "2023-05-15T08:27:53.122992Z",
     "iopub.status.busy": "2023-05-15T08:27:53.122801Z",
     "iopub.status.idle": "2023-05-15T08:28:03.970958Z",
     "shell.execute_reply": "2023-05-15T08:28:03.970484Z"
    },
    "papermill": {
     "duration": 10.853101,
     "end_time": "2023-05-15T08:28:03.972252",
     "exception": false,
     "start_time": "2023-05-15T08:27:53.119151",
     "status": "completed"
    },
    "tags": []
   },
   "outputs": [],
   "source": [
    "%%R -i data -i data_tod -i genes -i cells -i soupx_groups -o out \n",
    "set.seed(187)\n",
    "# specify row and column names of data\n",
    "rownames(data) = genes\n",
    "colnames(data) = cells\n",
    "# ensure correct sparse format for table of counts and table of droplets\n",
    "data <- as(data, \"sparseMatrix\")\n",
    "data_tod <- as(data_tod, \"sparseMatrix\")\n",
    "\n",
    "# Generate SoupChannel Object for SoupX \n",
    "sc = SoupChannel(data_tod, data, calcSoupProfile = FALSE)\n",
    "\n",
    "# Add extra meta data to the SoupChannel object\n",
    "soupProf = data.frame(row.names = rownames(data),\n",
    "                      est = rowSums(data)/sum(data),\n",
    "                      counts = rowSums(data))\n",
    "sc = setSoupProfile(sc, soupProf)\n",
    "# Set cluster information in SoupChannel\n",
    "sc = setClusters(sc, soupx_groups)\n",
    "\n",
    "# Estimate contamination fraction\n",
    "sc  = autoEstCont(sc, doPlot=FALSE, forceAccept = TRUE)\n",
    "# Infer corrected table of counts and rount to integer\n",
    "out = adjustCounts(sc, roundToInt = TRUE)"
   ]
  },
  {
   "cell_type": "code",
   "execution_count": null,
   "id": "32555d5e-5fa3-46dd-a4e0-ddc96ea265e2",
   "metadata": {
    "execution": {
     "iopub.execute_input": "2023-05-15T08:28:03.981940Z",
     "iopub.status.busy": "2023-05-15T08:28:03.981757Z",
     "iopub.status.idle": "2023-05-15T08:28:04.008665Z",
     "shell.execute_reply": "2023-05-15T08:28:04.008215Z"
    },
    "papermill": {
     "duration": 0.03169,
     "end_time": "2023-05-15T08:28:04.009948",
     "exception": false,
     "start_time": "2023-05-15T08:28:03.978258",
     "status": "completed"
    },
    "tags": []
   },
   "outputs": [],
   "source": [
    "dataset.layers[\"soupX_counts\"] = out.T\n",
    "dataset.X = dataset.layers[\"soupX_counts\"].copy()"
   ]
  },
  {
   "cell_type": "code",
   "execution_count": null,
   "id": "e27da7df-e094-4d2a-9109-5a363e012175",
   "metadata": {
    "execution": {
     "iopub.execute_input": "2023-05-15T08:28:04.016834Z",
     "iopub.status.busy": "2023-05-15T08:28:04.016700Z",
     "iopub.status.idle": "2023-05-15T08:28:04.019092Z",
     "shell.execute_reply": "2023-05-15T08:28:04.018730Z"
    },
    "papermill": {
     "duration": 0.006617,
     "end_time": "2023-05-15T08:28:04.019879",
     "exception": false,
     "start_time": "2023-05-15T08:28:04.013262",
     "status": "completed"
    },
    "tags": []
   },
   "outputs": [],
   "source": [
    "data_mat = dataset.X.T"
   ]
  },
  {
   "cell_type": "code",
   "execution_count": null,
   "id": "80a993b1-5ccb-4697-9187-1beb7ab8aff9",
   "metadata": {
    "execution": {
     "iopub.execute_input": "2023-05-15T08:28:04.026370Z",
     "iopub.status.busy": "2023-05-15T08:28:04.026134Z",
     "iopub.status.idle": "2023-05-15T08:28:21.045435Z",
     "shell.execute_reply": "2023-05-15T08:28:21.044953Z"
    },
    "papermill": {
     "duration": 17.023872,
     "end_time": "2023-05-15T08:28:21.046635",
     "exception": false,
     "start_time": "2023-05-15T08:28:04.022763",
     "status": "completed"
    },
    "tags": []
   },
   "outputs": [],
   "source": [
    "%%R -i data_mat -o droplet_class\n",
    "\n",
    "set.seed(187)\n",
    "sce = scDblFinder(\n",
    "    SingleCellExperiment(\n",
    "        list(counts=data_mat),\n",
    "    ) \n",
    ")\n",
    "droplet_class = sce$scDblFinder.class"
   ]
  },
  {
   "cell_type": "code",
   "execution_count": null,
   "id": "d4dd6e9d-fcf2-41fc-8457-c8e0a3cb2c71",
   "metadata": {
    "execution": {
     "iopub.execute_input": "2023-05-15T08:28:21.057242Z",
     "iopub.status.busy": "2023-05-15T08:28:21.057100Z",
     "iopub.status.idle": "2023-05-15T08:28:21.061615Z",
     "shell.execute_reply": "2023-05-15T08:28:21.061292Z"
    },
    "papermill": {
     "duration": 0.008844,
     "end_time": "2023-05-15T08:28:21.062487",
     "exception": false,
     "start_time": "2023-05-15T08:28:21.053643",
     "status": "completed"
    },
    "tags": []
   },
   "outputs": [],
   "source": [
    "dataset.obs[\"scDblFinder_class\"] = droplet_class\n",
    "dataset.obs.scDblFinder_class.value_counts()\n",
    "dataset"
   ]
  },
  {
   "cell_type": "code",
   "execution_count": null,
   "id": "28c95014-2d6c-477f-95cb-9f9f0507520c",
   "metadata": {
    "execution": {
     "iopub.execute_input": "2023-05-15T08:28:21.069022Z",
     "iopub.status.busy": "2023-05-15T08:28:21.068762Z",
     "iopub.status.idle": "2023-05-15T08:28:21.073347Z",
     "shell.execute_reply": "2023-05-15T08:28:21.073039Z"
    },
    "papermill": {
     "duration": 0.0088,
     "end_time": "2023-05-15T08:28:21.074198",
     "exception": false,
     "start_time": "2023-05-15T08:28:21.065398",
     "status": "completed"
    },
    "tags": []
   },
   "outputs": [],
   "source": [
    "dataset = dataset[dataset.obs[\"scDblFinder_class\"] == 1]"
   ]
  },
  {
   "cell_type": "code",
   "execution_count": null,
   "id": "3e22f9e0-bfcb-416c-a151-a9bca3bec3b9",
   "metadata": {
    "execution": {
     "iopub.execute_input": "2023-05-15T08:28:21.080986Z",
     "iopub.status.busy": "2023-05-15T08:28:21.080788Z",
     "iopub.status.idle": "2023-05-15T08:28:21.212383Z",
     "shell.execute_reply": "2023-05-15T08:28:21.211939Z"
    },
    "papermill": {
     "duration": 0.135966,
     "end_time": "2023-05-15T08:28:21.213302",
     "exception": false,
     "start_time": "2023-05-15T08:28:21.077336",
     "status": "completed"
    },
    "tags": []
   },
   "outputs": [],
   "source": [
    "# mitochondrial genes\n",
    "dataset.var[\"mt\"] = dataset.var_names.str.startswith(\"MT-\")\n",
    "# ribosomal genes\n",
    "dataset.var[\"ribo\"] = dataset.var_names.str.startswith((\"RPS\", \"RPL\"))\n",
    "# hemoglobin genes.\n",
    "dataset.var[\"hb\"] = dataset.var_names.str.contains((\"^HB[^(P)]\"))\n",
    "\n",
    "sc.pp.calculate_qc_metrics(dataset,\n",
    "                           qc_vars=['mt', 'ribo', 'hb'],\n",
    "                           percent_top=None,\n",
    "                           log1p=False,\n",
    "                           inplace=True)\n",
    "dataset"
   ]
  },
  {
   "cell_type": "code",
   "execution_count": null,
   "id": "34deee79-4043-428f-8575-aa57b45f6369",
   "metadata": {
    "execution": {
     "iopub.execute_input": "2023-05-15T08:28:21.220905Z",
     "iopub.status.busy": "2023-05-15T08:28:21.220720Z",
     "iopub.status.idle": "2023-05-15T08:28:21.692090Z",
     "shell.execute_reply": "2023-05-15T08:28:21.691674Z"
    },
    "papermill": {
     "duration": 0.476071,
     "end_time": "2023-05-15T08:28:21.693078",
     "exception": false,
     "start_time": "2023-05-15T08:28:21.217007",
     "status": "completed"
    },
    "tags": []
   },
   "outputs": [],
   "source": [
    "fig, ax = plt.subplots(ncols = 4, figsize = (16,4))\n",
    "axis = sc.pl.violin(dataset, \"n_genes_by_counts\", jitter = 0.4, ax = ax[0], show = False)\n",
    "axis.grid(False)\n",
    "axis.set_title(\"Unique Genes per cell\")\n",
    "axis.tick_params(axis = \"x\", bottom =False, labelbottom =False)\n",
    "axis.set_ylabel(\"# genes\")\n",
    "axis.axhline(y = 100, color = \"black\", label = \"cutoff\")\n",
    "axis.legend(fontsize = 14, loc = \"upper right\")\n",
    "\n",
    "axis = sc.pl.violin(dataset, \"pct_counts_mt\", jitter = 0.4, ax = ax[1], show = False)\n",
    "axis.grid(False)\n",
    "axis.set_title(\"Mitochondrial Fraction\")\n",
    "axis.tick_params(axis = \"x\", bottom =False, labelbottom =False)\n",
    "axis.set_ylabel(\"% mitochondrial genes\")\n",
    "axis.axhline(y = 10, color = \"black\", label = \"cutoff\")\n",
    "axis.legend(fontsize = 14, loc = \"upper right\")\n",
    "\n",
    "axis = sc.pl.violin(dataset, \"pct_counts_hb\", jitter = 0.4, ax = ax[2], show = False, size =2)\n",
    "axis.grid(False)\n",
    "axis.set_title(\"Hemoglobin Fraction\")\n",
    "axis.tick_params(axis = \"x\", bottom =False, labelbottom =False)\n",
    "axis.set_ylabel(\"% hemoglobin genes\")\n",
    "axis.axhline(y = 3, color = \"black\", label = \"cutoff\")\n",
    "axis.legend(fontsize = 14, loc = \"upper right\")\n",
    "#axis.set_ylim(0,5)\n",
    "\n",
    "axis = sc.pl.violin(dataset, \"pct_counts_ribo\", jitter = 0.4, ax = ax[3], show = False)\n",
    "axis.grid(False)\n",
    "axis.set_title(\"Ribosomal Fraction\")\n",
    "axis.tick_params(axis = \"x\", bottom =False, labelbottom =False)\n",
    "axis.set_ylabel(\"% ribosome genes\")\n",
    "\n",
    "plt.tight_layout()\n",
    "#plt.savefig(f\"{outputDir}08_gene_based_filtering.pdf\", dpi = 300)\n",
    "plt.show()\n",
    "\n"
   ]
  },
  {
   "cell_type": "code",
   "execution_count": null,
   "id": "d7ade754-843e-4840-8707-426613d8c0c5",
   "metadata": {
    "execution": {
     "iopub.execute_input": "2023-05-15T08:28:21.702902Z",
     "iopub.status.busy": "2023-05-15T08:28:21.702695Z",
     "iopub.status.idle": "2023-05-15T08:28:21.711882Z",
     "shell.execute_reply": "2023-05-15T08:28:21.711552Z"
    },
    "papermill": {
     "duration": 0.014702,
     "end_time": "2023-05-15T08:28:21.712662",
     "exception": false,
     "start_time": "2023-05-15T08:28:21.697960",
     "status": "completed"
    },
    "tags": []
   },
   "outputs": [],
   "source": [
    "dataset = dataset[dataset.obs.pct_counts_mt < 10, :]\n",
    "dataset = dataset[dataset.obs.n_genes_by_counts > 100, :]\n",
    "dataset = dataset[dataset.obs.pct_counts_hb < 3, :]\n",
    "dataset"
   ]
  },
  {
   "cell_type": "code",
   "execution_count": null,
   "id": "1941fa36-e865-4500-b586-f7a32d142c9b",
   "metadata": {
    "execution": {
     "iopub.execute_input": "2023-05-15T08:28:21.721978Z",
     "iopub.status.busy": "2023-05-15T08:28:21.721722Z",
     "iopub.status.idle": "2023-05-15T08:28:21.724635Z",
     "shell.execute_reply": "2023-05-15T08:28:21.724324Z"
    },
    "papermill": {
     "duration": 0.008574,
     "end_time": "2023-05-15T08:28:21.725518",
     "exception": false,
     "start_time": "2023-05-15T08:28:21.716944",
     "status": "completed"
    },
    "tags": []
   },
   "outputs": [],
   "source": [
    "metadata.columns"
   ]
  },
  {
   "cell_type": "code",
   "execution_count": null,
   "id": "2e0ff8c3-2aa9-4a01-9b88-5912a6734447",
   "metadata": {
    "execution": {
     "iopub.execute_input": "2023-05-15T08:28:21.735082Z",
     "iopub.status.busy": "2023-05-15T08:28:21.734846Z",
     "iopub.status.idle": "2023-05-15T08:28:21.771646Z",
     "shell.execute_reply": "2023-05-15T08:28:21.771173Z"
    },
    "papermill": {
     "duration": 0.042868,
     "end_time": "2023-05-15T08:28:21.772965",
     "exception": false,
     "start_time": "2023-05-15T08:28:21.730097",
     "status": "completed"
    },
    "tags": []
   },
   "outputs": [],
   "source": [
    "for col in metadata.columns:\n",
    "    dataset.obs[col] = metadata.loc[metadata[\"Run\"] == sample_name, col].to_list()[0]"
   ]
  },
  {
   "cell_type": "code",
   "execution_count": null,
   "id": "b84578d3-d63e-419c-a272-a0b8317d05ab",
   "metadata": {
    "execution": {
     "iopub.execute_input": "2023-05-15T08:28:21.783013Z",
     "iopub.status.busy": "2023-05-15T08:28:21.782648Z",
     "iopub.status.idle": "2023-05-15T08:28:22.218546Z",
     "shell.execute_reply": "2023-05-15T08:28:22.218070Z"
    },
    "papermill": {
     "duration": 0.442219,
     "end_time": "2023-05-15T08:28:22.219897",
     "exception": false,
     "start_time": "2023-05-15T08:28:21.777678",
     "status": "completed"
    },
    "tags": []
   },
   "outputs": [],
   "source": [
    "dataset.write(f\"../../int_data/{sample_name}_qc.h5ad\")"
   ]
  },
  {
   "cell_type": "code",
   "execution_count": null,
   "id": "501b33a0-432d-415f-ae82-50723484b85d",
   "metadata": {
    "execution": {
     "iopub.execute_input": "2023-05-15T08:28:22.229693Z",
     "iopub.status.busy": "2023-05-15T08:28:22.229470Z",
     "iopub.status.idle": "2023-05-15T08:28:22.232469Z",
     "shell.execute_reply": "2023-05-15T08:28:22.232145Z"
    },
    "papermill": {
     "duration": 0.008745,
     "end_time": "2023-05-15T08:28:22.233437",
     "exception": false,
     "start_time": "2023-05-15T08:28:22.224692",
     "status": "completed"
    },
    "tags": []
   },
   "outputs": [],
   "source": [
    "dataset"
   ]
  }
 ],
 "metadata": {
  "kernelspec": {
   "display_name": "py_R",
   "language": "python",
   "name": "python_r"
  },
  "language_info": {
   "codemirror_mode": {
    "name": "ipython",
    "version": 3
   },
   "file_extension": ".py",
   "mimetype": "text/x-python",
   "name": "python",
   "nbconvert_exporter": "python",
   "pygments_lexer": "ipython3",
   "version": "3.10.9"
  },
  "papermill": {
   "default_parameters": {},
   "duration": 97.558691,
   "end_time": "2023-05-15T08:28:23.555204",
   "environment_variables": {},
   "exception": null,
   "input_path": "template.ipynb",
   "output_path": "SRR13329146.ipynb",
   "parameters": {
    "sample_name": "SRR13329146"
   },
   "start_time": "2023-05-15T08:26:45.996513",
   "version": "2.4.0"
  }
 },
 "nbformat": 4,
 "nbformat_minor": 5
}
