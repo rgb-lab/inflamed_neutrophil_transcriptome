{
 "cells": [
  {
   "cell_type": "code",
   "execution_count": null,
   "id": "4c0f2fa8-5232-4f47-a7ec-6c9bbabe50e2",
   "metadata": {
    "execution": {
     "iopub.execute_input": "2023-05-15T08:49:45.666532Z",
     "iopub.status.busy": "2023-05-15T08:49:45.666368Z",
     "iopub.status.idle": "2023-05-15T08:49:45.671019Z",
     "shell.execute_reply": "2023-05-15T08:49:45.670658Z"
    },
    "papermill": {
     "duration": 0.010806,
     "end_time": "2023-05-15T08:49:45.671907",
     "exception": false,
     "start_time": "2023-05-15T08:49:45.661101",
     "status": "completed"
    },
    "tags": [
     "parameters"
    ]
   },
   "outputs": [],
   "source": [
    "sample_name = \"SRR13329143\""
   ]
  },
  {
   "cell_type": "code",
   "execution_count": null,
   "id": "2be29320",
   "metadata": {
    "execution": {
     "iopub.execute_input": "2023-05-15T08:49:45.677201Z",
     "iopub.status.busy": "2023-05-15T08:49:45.677053Z",
     "iopub.status.idle": "2023-05-15T08:49:45.679024Z",
     "shell.execute_reply": "2023-05-15T08:49:45.678723Z"
    },
    "papermill": {
     "duration": 0.005395,
     "end_time": "2023-05-15T08:49:45.679790",
     "exception": false,
     "start_time": "2023-05-15T08:49:45.674395",
     "status": "completed"
    },
    "tags": [
     "injected-parameters"
    ]
   },
   "outputs": [],
   "source": [
    "# Parameters\n",
    "sample_name = \"SRR13329171\"\n"
   ]
  },
  {
   "cell_type": "code",
   "execution_count": null,
   "id": "f87ed95b-2b67-4a5a-8fe2-47359b1dd2a9",
   "metadata": {
    "execution": {
     "iopub.execute_input": "2023-05-15T08:49:45.684902Z",
     "iopub.status.busy": "2023-05-15T08:49:45.684695Z",
     "iopub.status.idle": "2023-05-15T08:49:45.686845Z",
     "shell.execute_reply": "2023-05-15T08:49:45.686550Z"
    },
    "papermill": {
     "duration": 0.005585,
     "end_time": "2023-05-15T08:49:45.687632",
     "exception": false,
     "start_time": "2023-05-15T08:49:45.682047",
     "status": "completed"
    },
    "tags": []
   },
   "outputs": [],
   "source": [
    "import warnings\n",
    "warnings.simplefilter(action='ignore', category=FutureWarning)\n",
    "warnings.simplefilter(action='ignore', category=UserWarning)"
   ]
  },
  {
   "cell_type": "code",
   "execution_count": null,
   "id": "85161f19-b2c5-490b-8cab-c2cf9653b304",
   "metadata": {
    "execution": {
     "iopub.execute_input": "2023-05-15T08:49:45.692879Z",
     "iopub.status.busy": "2023-05-15T08:49:45.692713Z",
     "iopub.status.idle": "2023-05-15T08:49:50.089278Z",
     "shell.execute_reply": "2023-05-15T08:49:50.088786Z"
    },
    "papermill": {
     "duration": 4.400623,
     "end_time": "2023-05-15T08:49:50.090603",
     "exception": false,
     "start_time": "2023-05-15T08:49:45.689980",
     "status": "completed"
    },
    "tags": []
   },
   "outputs": [],
   "source": [
    "import gc\n",
    "import scanpy as sc\n",
    "import muon as mu\n",
    "import seaborn as sns\n",
    "import os\n",
    "import pandas as pd\n",
    "from matplotlib import pyplot as plt\n",
    "\n",
    "os.environ['R_HOME'] = '/gpfs/bwfor/work/ws/hd_fu399-conda/conda/envs/python_R/lib/R/'\n",
    "import anndata2ri\n",
    "import logging\n",
    "\n",
    "import rpy2.rinterface_lib.callbacks as rcb\n",
    "import rpy2.robjects as ro\n",
    "\n",
    "rcb.logger.setLevel(logging.ERROR)\n",
    "ro.pandas2ri.activate()\n",
    "anndata2ri.activate()\n",
    "\n",
    "%load_ext rpy2.ipython"
   ]
  },
  {
   "cell_type": "code",
   "execution_count": null,
   "id": "fc4ade78-b728-4704-9db6-45fbaab62ba1",
   "metadata": {
    "execution": {
     "iopub.execute_input": "2023-05-15T08:49:50.098872Z",
     "iopub.status.busy": "2023-05-15T08:49:50.098567Z",
     "iopub.status.idle": "2023-05-15T08:50:01.079895Z",
     "shell.execute_reply": "2023-05-15T08:50:01.079444Z"
    },
    "papermill": {
     "duration": 10.985355,
     "end_time": "2023-05-15T08:50:01.081030",
     "exception": false,
     "start_time": "2023-05-15T08:49:50.095675",
     "status": "completed"
    },
    "tags": []
   },
   "outputs": [],
   "source": [
    "%%R\n",
    "library(SoupX)\n",
    "library(Seurat)\n",
    "library(scater)\n",
    "library(scDblFinder)\n",
    "library(BiocParallel)\n",
    "library(MuDataSeurat)\n",
    "library(DropletUtils)"
   ]
  },
  {
   "cell_type": "code",
   "execution_count": null,
   "id": "f7424d90-7690-4290-8651-1db3f9df3a35",
   "metadata": {
    "execution": {
     "iopub.execute_input": "2023-05-15T08:50:01.090458Z",
     "iopub.status.busy": "2023-05-15T08:50:01.090276Z",
     "iopub.status.idle": "2023-05-15T08:50:01.096464Z",
     "shell.execute_reply": "2023-05-15T08:50:01.096147Z"
    },
    "papermill": {
     "duration": 0.009952,
     "end_time": "2023-05-15T08:50:01.097227",
     "exception": false,
     "start_time": "2023-05-15T08:50:01.087275",
     "status": "completed"
    },
    "tags": []
   },
   "outputs": [],
   "source": [
    "metadata = pd.read_csv(\"../../combes_metadata.txt\")"
   ]
  },
  {
   "cell_type": "code",
   "execution_count": null,
   "id": "2574ecf1-bad4-4c33-8f3f-718a358727ab",
   "metadata": {
    "execution": {
     "iopub.execute_input": "2023-05-15T08:50:01.102613Z",
     "iopub.status.busy": "2023-05-15T08:50:01.102483Z",
     "iopub.status.idle": "2023-05-15T08:50:01.117477Z",
     "shell.execute_reply": "2023-05-15T08:50:01.117175Z"
    },
    "papermill": {
     "duration": 0.018704,
     "end_time": "2023-05-15T08:50:01.118417",
     "exception": false,
     "start_time": "2023-05-15T08:50:01.099713",
     "status": "completed"
    },
    "tags": []
   },
   "outputs": [],
   "source": [
    "raw_input = f\"/home/hd/hd_hd/hd_fu399/sds-hd/sd21k006/scRNAseq/revision_natcomm/combes_et_al/fetchngs/results/fastq/{sample_name}/{sample_name}/outs/raw_feature_bc_matrix.h5\""
   ]
  },
  {
   "cell_type": "code",
   "execution_count": null,
   "id": "e266d388-1802-435c-93a5-90067358739c",
   "metadata": {
    "execution": {
     "iopub.execute_input": "2023-05-15T08:50:01.123974Z",
     "iopub.status.busy": "2023-05-15T08:50:01.123758Z",
     "iopub.status.idle": "2023-05-15T08:50:01.614290Z",
     "shell.execute_reply": "2023-05-15T08:50:01.613846Z"
    },
    "papermill": {
     "duration": 0.494329,
     "end_time": "2023-05-15T08:50:01.615235",
     "exception": false,
     "start_time": "2023-05-15T08:50:01.120906",
     "status": "completed"
    },
    "tags": []
   },
   "outputs": [],
   "source": [
    "dataset = sc.read_10x_h5(raw_input)\n",
    "dataset.var_names_make_unique()\n",
    "dataset.obs_names_make_unique()\n",
    "\n",
    "dataset.layers[\"raw_counts\"] = dataset.X.copy()\n",
    "data_tod = dataset.layers[\"raw_counts\"].T.copy()\n",
    "\n",
    "dataset"
   ]
  },
  {
   "cell_type": "code",
   "execution_count": null,
   "id": "af9f5892-ed31-42a6-991b-4e096f582cef",
   "metadata": {
    "execution": {
     "iopub.execute_input": "2023-05-15T08:50:01.621978Z",
     "iopub.status.busy": "2023-05-15T08:50:01.621774Z",
     "iopub.status.idle": "2023-05-15T08:50:01.654412Z",
     "shell.execute_reply": "2023-05-15T08:50:01.653951Z"
    },
    "papermill": {
     "duration": 0.037064,
     "end_time": "2023-05-15T08:50:01.655707",
     "exception": false,
     "start_time": "2023-05-15T08:50:01.618643",
     "status": "completed"
    },
    "tags": []
   },
   "outputs": [],
   "source": [
    "sce = dataset.copy()"
   ]
  },
  {
   "cell_type": "code",
   "execution_count": null,
   "id": "d03f2caf-8e74-430e-b045-0ab80401d165",
   "metadata": {
    "execution": {
     "iopub.execute_input": "2023-05-15T08:50:01.661932Z",
     "iopub.status.busy": "2023-05-15T08:50:01.661737Z",
     "iopub.status.idle": "2023-05-15T08:50:44.453388Z",
     "shell.execute_reply": "2023-05-15T08:50:44.452785Z"
    },
    "papermill": {
     "duration": 42.796067,
     "end_time": "2023-05-15T08:50:44.454715",
     "exception": false,
     "start_time": "2023-05-15T08:50:01.658648",
     "status": "completed"
    },
    "tags": []
   },
   "outputs": [],
   "source": [
    "%%R -i sce -o empty_drop_output\n",
    "set.seed(187)\n",
    "empty_drop_output <- emptyDrops(assay(sce))"
   ]
  },
  {
   "cell_type": "code",
   "execution_count": null,
   "id": "2a34a54b-3ae2-44d6-8679-8769228c5b66",
   "metadata": {
    "execution": {
     "iopub.execute_input": "2023-05-15T08:50:44.464266Z",
     "iopub.status.busy": "2023-05-15T08:50:44.464088Z",
     "iopub.status.idle": "2023-05-15T08:50:44.487505Z",
     "shell.execute_reply": "2023-05-15T08:50:44.487184Z"
    },
    "papermill": {
     "duration": 0.028047,
     "end_time": "2023-05-15T08:50:44.488327",
     "exception": false,
     "start_time": "2023-05-15T08:50:44.460280",
     "status": "completed"
    },
    "tags": []
   },
   "outputs": [],
   "source": [
    "non_empty_barcodes = empty_drop_output[empty_drop_output[\"FDR\"] < 0.001].index\n",
    "dataset = dataset[dataset.obs.index.isin(non_empty_barcodes), :]\n",
    "dataset"
   ]
  },
  {
   "cell_type": "code",
   "execution_count": null,
   "id": "016a91e5-1bef-46fb-b91e-4fb9a6870c44",
   "metadata": {
    "execution": {
     "iopub.execute_input": "2023-05-15T08:50:44.494946Z",
     "iopub.status.busy": "2023-05-15T08:50:44.494752Z",
     "iopub.status.idle": "2023-05-15T08:50:48.501866Z",
     "shell.execute_reply": "2023-05-15T08:50:48.501363Z"
    },
    "papermill": {
     "duration": 4.012082,
     "end_time": "2023-05-15T08:50:48.503192",
     "exception": false,
     "start_time": "2023-05-15T08:50:44.491110",
     "status": "completed"
    },
    "tags": []
   },
   "outputs": [],
   "source": [
    "rna_assay = dataset.copy()\n",
    "sc.pp.normalize_per_cell(rna_assay)\n",
    "sc.pp.log1p(rna_assay)\n",
    "sc.pp.pca(rna_assay)\n",
    "sc.pp.neighbors(rna_assay)\n",
    "sc.tl.leiden(rna_assay, key_added=\"soupx_groups\")\n",
    "\n",
    "soupx_groups = rna_assay.obs[\"soupx_groups\"]\n",
    "\n",
    "del rna_assay\n",
    "\n",
    "genes = dataset.var_names\n",
    "cells = dataset.obs_names\n",
    "data = dataset.X.T.copy()"
   ]
  },
  {
   "cell_type": "code",
   "execution_count": null,
   "id": "9db4ea1f-1580-4f43-a3f0-86002397cd98",
   "metadata": {
    "execution": {
     "iopub.execute_input": "2023-05-15T08:50:48.512519Z",
     "iopub.status.busy": "2023-05-15T08:50:48.512339Z",
     "iopub.status.idle": "2023-05-15T08:51:00.551053Z",
     "shell.execute_reply": "2023-05-15T08:51:00.550430Z"
    },
    "papermill": {
     "duration": 12.044014,
     "end_time": "2023-05-15T08:51:00.552409",
     "exception": false,
     "start_time": "2023-05-15T08:50:48.508395",
     "status": "completed"
    },
    "tags": []
   },
   "outputs": [],
   "source": [
    "%%R -i data -i data_tod -i genes -i cells -i soupx_groups -o out \n",
    "set.seed(187)\n",
    "# specify row and column names of data\n",
    "rownames(data) = genes\n",
    "colnames(data) = cells\n",
    "# ensure correct sparse format for table of counts and table of droplets\n",
    "data <- as(data, \"sparseMatrix\")\n",
    "data_tod <- as(data_tod, \"sparseMatrix\")\n",
    "\n",
    "# Generate SoupChannel Object for SoupX \n",
    "sc = SoupChannel(data_tod, data, calcSoupProfile = FALSE)\n",
    "\n",
    "# Add extra meta data to the SoupChannel object\n",
    "soupProf = data.frame(row.names = rownames(data),\n",
    "                      est = rowSums(data)/sum(data),\n",
    "                      counts = rowSums(data))\n",
    "sc = setSoupProfile(sc, soupProf)\n",
    "# Set cluster information in SoupChannel\n",
    "sc = setClusters(sc, soupx_groups)\n",
    "\n",
    "# Estimate contamination fraction\n",
    "sc  = autoEstCont(sc, doPlot=FALSE, forceAccept = TRUE)\n",
    "# Infer corrected table of counts and rount to integer\n",
    "out = adjustCounts(sc, roundToInt = TRUE)"
   ]
  },
  {
   "cell_type": "code",
   "execution_count": null,
   "id": "32555d5e-5fa3-46dd-a4e0-ddc96ea265e2",
   "metadata": {
    "execution": {
     "iopub.execute_input": "2023-05-15T08:51:00.561350Z",
     "iopub.status.busy": "2023-05-15T08:51:00.561144Z",
     "iopub.status.idle": "2023-05-15T08:51:00.586106Z",
     "shell.execute_reply": "2023-05-15T08:51:00.585621Z"
    },
    "papermill": {
     "duration": 0.029977,
     "end_time": "2023-05-15T08:51:00.587439",
     "exception": false,
     "start_time": "2023-05-15T08:51:00.557462",
     "status": "completed"
    },
    "tags": []
   },
   "outputs": [],
   "source": [
    "dataset.layers[\"soupX_counts\"] = out.T\n",
    "dataset.X = dataset.layers[\"soupX_counts\"].copy()"
   ]
  },
  {
   "cell_type": "code",
   "execution_count": null,
   "id": "e27da7df-e094-4d2a-9109-5a363e012175",
   "metadata": {
    "execution": {
     "iopub.execute_input": "2023-05-15T08:51:00.593887Z",
     "iopub.status.busy": "2023-05-15T08:51:00.593695Z",
     "iopub.status.idle": "2023-05-15T08:51:00.596148Z",
     "shell.execute_reply": "2023-05-15T08:51:00.595809Z"
    },
    "papermill": {
     "duration": 0.006513,
     "end_time": "2023-05-15T08:51:00.596914",
     "exception": false,
     "start_time": "2023-05-15T08:51:00.590401",
     "status": "completed"
    },
    "tags": []
   },
   "outputs": [],
   "source": [
    "data_mat = dataset.X.T"
   ]
  },
  {
   "cell_type": "code",
   "execution_count": null,
   "id": "80a993b1-5ccb-4697-9187-1beb7ab8aff9",
   "metadata": {
    "execution": {
     "iopub.execute_input": "2023-05-15T08:51:00.603855Z",
     "iopub.status.busy": "2023-05-15T08:51:00.603557Z",
     "iopub.status.idle": "2023-05-15T08:51:19.400917Z",
     "shell.execute_reply": "2023-05-15T08:51:19.400315Z"
    },
    "papermill": {
     "duration": 18.801987,
     "end_time": "2023-05-15T08:51:19.402247",
     "exception": false,
     "start_time": "2023-05-15T08:51:00.600260",
     "status": "completed"
    },
    "tags": []
   },
   "outputs": [],
   "source": [
    "%%R -i data_mat -o droplet_class\n",
    "\n",
    "set.seed(187)\n",
    "sce = scDblFinder(\n",
    "    SingleCellExperiment(\n",
    "        list(counts=data_mat),\n",
    "    ) \n",
    ")\n",
    "droplet_class = sce$scDblFinder.class"
   ]
  },
  {
   "cell_type": "code",
   "execution_count": null,
   "id": "d4dd6e9d-fcf2-41fc-8457-c8e0a3cb2c71",
   "metadata": {
    "execution": {
     "iopub.execute_input": "2023-05-15T08:51:19.410999Z",
     "iopub.status.busy": "2023-05-15T08:51:19.410834Z",
     "iopub.status.idle": "2023-05-15T08:51:19.415786Z",
     "shell.execute_reply": "2023-05-15T08:51:19.415456Z"
    },
    "papermill": {
     "duration": 0.009395,
     "end_time": "2023-05-15T08:51:19.416564",
     "exception": false,
     "start_time": "2023-05-15T08:51:19.407169",
     "status": "completed"
    },
    "tags": []
   },
   "outputs": [],
   "source": [
    "dataset.obs[\"scDblFinder_class\"] = droplet_class\n",
    "dataset.obs.scDblFinder_class.value_counts()\n",
    "dataset"
   ]
  },
  {
   "cell_type": "code",
   "execution_count": null,
   "id": "28c95014-2d6c-477f-95cb-9f9f0507520c",
   "metadata": {
    "execution": {
     "iopub.execute_input": "2023-05-15T08:51:19.422710Z",
     "iopub.status.busy": "2023-05-15T08:51:19.422511Z",
     "iopub.status.idle": "2023-05-15T08:51:19.437556Z",
     "shell.execute_reply": "2023-05-15T08:51:19.437243Z"
    },
    "papermill": {
     "duration": 0.018999,
     "end_time": "2023-05-15T08:51:19.438346",
     "exception": false,
     "start_time": "2023-05-15T08:51:19.419347",
     "status": "completed"
    },
    "tags": []
   },
   "outputs": [],
   "source": [
    "dataset = dataset[dataset.obs[\"scDblFinder_class\"] == 1]"
   ]
  },
  {
   "cell_type": "code",
   "execution_count": null,
   "id": "3e22f9e0-bfcb-416c-a151-a9bca3bec3b9",
   "metadata": {
    "execution": {
     "iopub.execute_input": "2023-05-15T08:51:19.444388Z",
     "iopub.status.busy": "2023-05-15T08:51:19.444259Z",
     "iopub.status.idle": "2023-05-15T08:51:19.574392Z",
     "shell.execute_reply": "2023-05-15T08:51:19.573939Z"
    },
    "papermill": {
     "duration": 0.134227,
     "end_time": "2023-05-15T08:51:19.575317",
     "exception": false,
     "start_time": "2023-05-15T08:51:19.441090",
     "status": "completed"
    },
    "tags": []
   },
   "outputs": [],
   "source": [
    "# mitochondrial genes\n",
    "dataset.var[\"mt\"] = dataset.var_names.str.startswith(\"MT-\")\n",
    "# ribosomal genes\n",
    "dataset.var[\"ribo\"] = dataset.var_names.str.startswith((\"RPS\", \"RPL\"))\n",
    "# hemoglobin genes.\n",
    "dataset.var[\"hb\"] = dataset.var_names.str.contains((\"^HB[^(P)]\"))\n",
    "\n",
    "sc.pp.calculate_qc_metrics(dataset,\n",
    "                           qc_vars=['mt', 'ribo', 'hb'],\n",
    "                           percent_top=None,\n",
    "                           log1p=False,\n",
    "                           inplace=True)\n",
    "dataset"
   ]
  },
  {
   "cell_type": "code",
   "execution_count": null,
   "id": "34deee79-4043-428f-8575-aa57b45f6369",
   "metadata": {
    "execution": {
     "iopub.execute_input": "2023-05-15T08:51:19.582576Z",
     "iopub.status.busy": "2023-05-15T08:51:19.582376Z",
     "iopub.status.idle": "2023-05-15T08:51:20.035117Z",
     "shell.execute_reply": "2023-05-15T08:51:20.034711Z"
    },
    "papermill": {
     "duration": 0.457165,
     "end_time": "2023-05-15T08:51:20.035983",
     "exception": false,
     "start_time": "2023-05-15T08:51:19.578818",
     "status": "completed"
    },
    "tags": []
   },
   "outputs": [],
   "source": [
    "fig, ax = plt.subplots(ncols = 4, figsize = (16,4))\n",
    "axis = sc.pl.violin(dataset, \"n_genes_by_counts\", jitter = 0.4, ax = ax[0], show = False)\n",
    "axis.grid(False)\n",
    "axis.set_title(\"Unique Genes per cell\")\n",
    "axis.tick_params(axis = \"x\", bottom =False, labelbottom =False)\n",
    "axis.set_ylabel(\"# genes\")\n",
    "axis.axhline(y = 100, color = \"black\", label = \"cutoff\")\n",
    "axis.legend(fontsize = 14, loc = \"upper right\")\n",
    "\n",
    "axis = sc.pl.violin(dataset, \"pct_counts_mt\", jitter = 0.4, ax = ax[1], show = False)\n",
    "axis.grid(False)\n",
    "axis.set_title(\"Mitochondrial Fraction\")\n",
    "axis.tick_params(axis = \"x\", bottom =False, labelbottom =False)\n",
    "axis.set_ylabel(\"% mitochondrial genes\")\n",
    "axis.axhline(y = 10, color = \"black\", label = \"cutoff\")\n",
    "axis.legend(fontsize = 14, loc = \"upper right\")\n",
    "\n",
    "axis = sc.pl.violin(dataset, \"pct_counts_hb\", jitter = 0.4, ax = ax[2], show = False, size =2)\n",
    "axis.grid(False)\n",
    "axis.set_title(\"Hemoglobin Fraction\")\n",
    "axis.tick_params(axis = \"x\", bottom =False, labelbottom =False)\n",
    "axis.set_ylabel(\"% hemoglobin genes\")\n",
    "axis.axhline(y = 3, color = \"black\", label = \"cutoff\")\n",
    "axis.legend(fontsize = 14, loc = \"upper right\")\n",
    "#axis.set_ylim(0,5)\n",
    "\n",
    "axis = sc.pl.violin(dataset, \"pct_counts_ribo\", jitter = 0.4, ax = ax[3], show = False)\n",
    "axis.grid(False)\n",
    "axis.set_title(\"Ribosomal Fraction\")\n",
    "axis.tick_params(axis = \"x\", bottom =False, labelbottom =False)\n",
    "axis.set_ylabel(\"% ribosome genes\")\n",
    "\n",
    "plt.tight_layout()\n",
    "#plt.savefig(f\"{outputDir}08_gene_based_filtering.pdf\", dpi = 300)\n",
    "plt.show()\n",
    "\n"
   ]
  },
  {
   "cell_type": "code",
   "execution_count": null,
   "id": "d7ade754-843e-4840-8707-426613d8c0c5",
   "metadata": {
    "execution": {
     "iopub.execute_input": "2023-05-15T08:51:20.045321Z",
     "iopub.status.busy": "2023-05-15T08:51:20.045172Z",
     "iopub.status.idle": "2023-05-15T08:51:20.054082Z",
     "shell.execute_reply": "2023-05-15T08:51:20.053757Z"
    },
    "papermill": {
     "duration": 0.014456,
     "end_time": "2023-05-15T08:51:20.054886",
     "exception": false,
     "start_time": "2023-05-15T08:51:20.040430",
     "status": "completed"
    },
    "tags": []
   },
   "outputs": [],
   "source": [
    "dataset = dataset[dataset.obs.pct_counts_mt < 10, :]\n",
    "dataset = dataset[dataset.obs.n_genes_by_counts > 100, :]\n",
    "dataset = dataset[dataset.obs.pct_counts_hb < 3, :]\n",
    "dataset"
   ]
  },
  {
   "cell_type": "code",
   "execution_count": null,
   "id": "1941fa36-e865-4500-b586-f7a32d142c9b",
   "metadata": {
    "execution": {
     "iopub.execute_input": "2023-05-15T08:51:20.063734Z",
     "iopub.status.busy": "2023-05-15T08:51:20.063569Z",
     "iopub.status.idle": "2023-05-15T08:51:20.066417Z",
     "shell.execute_reply": "2023-05-15T08:51:20.066110Z"
    },
    "papermill": {
     "duration": 0.008155,
     "end_time": "2023-05-15T08:51:20.067181",
     "exception": false,
     "start_time": "2023-05-15T08:51:20.059026",
     "status": "completed"
    },
    "tags": []
   },
   "outputs": [],
   "source": [
    "metadata.columns"
   ]
  },
  {
   "cell_type": "code",
   "execution_count": null,
   "id": "2e0ff8c3-2aa9-4a01-9b88-5912a6734447",
   "metadata": {
    "execution": {
     "iopub.execute_input": "2023-05-15T08:51:20.075988Z",
     "iopub.status.busy": "2023-05-15T08:51:20.075761Z",
     "iopub.status.idle": "2023-05-15T08:51:20.109997Z",
     "shell.execute_reply": "2023-05-15T08:51:20.109563Z"
    },
    "papermill": {
     "duration": 0.039833,
     "end_time": "2023-05-15T08:51:20.111145",
     "exception": false,
     "start_time": "2023-05-15T08:51:20.071312",
     "status": "completed"
    },
    "tags": []
   },
   "outputs": [],
   "source": [
    "for col in metadata.columns:\n",
    "    dataset.obs[col] = metadata.loc[metadata[\"Run\"] == sample_name, col].to_list()[0]"
   ]
  },
  {
   "cell_type": "code",
   "execution_count": null,
   "id": "b84578d3-d63e-419c-a272-a0b8317d05ab",
   "metadata": {
    "execution": {
     "iopub.execute_input": "2023-05-15T08:51:20.120868Z",
     "iopub.status.busy": "2023-05-15T08:51:20.120679Z",
     "iopub.status.idle": "2023-05-15T08:51:20.737029Z",
     "shell.execute_reply": "2023-05-15T08:51:20.736563Z"
    },
    "papermill": {
     "duration": 0.622549,
     "end_time": "2023-05-15T08:51:20.738315",
     "exception": false,
     "start_time": "2023-05-15T08:51:20.115766",
     "status": "completed"
    },
    "tags": []
   },
   "outputs": [],
   "source": [
    "dataset.write(f\"../../int_data/{sample_name}_qc.h5ad\")"
   ]
  },
  {
   "cell_type": "code",
   "execution_count": null,
   "id": "501b33a0-432d-415f-ae82-50723484b85d",
   "metadata": {
    "execution": {
     "iopub.execute_input": "2023-05-15T08:51:20.747862Z",
     "iopub.status.busy": "2023-05-15T08:51:20.747694Z",
     "iopub.status.idle": "2023-05-15T08:51:20.750717Z",
     "shell.execute_reply": "2023-05-15T08:51:20.750382Z"
    },
    "papermill": {
     "duration": 0.008585,
     "end_time": "2023-05-15T08:51:20.751570",
     "exception": false,
     "start_time": "2023-05-15T08:51:20.742985",
     "status": "completed"
    },
    "tags": []
   },
   "outputs": [],
   "source": [
    "dataset"
   ]
  }
 ],
 "metadata": {
  "kernelspec": {
   "display_name": "py_R",
   "language": "python",
   "name": "python_r"
  },
  "language_info": {
   "codemirror_mode": {
    "name": "ipython",
    "version": 3
   },
   "file_extension": ".py",
   "mimetype": "text/x-python",
   "name": "python",
   "nbconvert_exporter": "python",
   "pygments_lexer": "ipython3",
   "version": "3.10.9"
  },
  "papermill": {
   "default_parameters": {},
   "duration": 97.541353,
   "end_time": "2023-05-15T08:51:22.273458",
   "environment_variables": {},
   "exception": null,
   "input_path": "template.ipynb",
   "output_path": "SRR13329171.ipynb",
   "parameters": {
    "sample_name": "SRR13329171"
   },
   "start_time": "2023-05-15T08:49:44.732105",
   "version": "2.4.0"
  }
 },
 "nbformat": 4,
 "nbformat_minor": 5
}
