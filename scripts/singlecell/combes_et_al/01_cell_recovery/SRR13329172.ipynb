{
 "cells": [
  {
   "cell_type": "code",
   "execution_count": null,
   "id": "4c0f2fa8-5232-4f47-a7ec-6c9bbabe50e2",
   "metadata": {
    "execution": {
     "iopub.execute_input": "2023-05-15T09:20:51.454716Z",
     "iopub.status.busy": "2023-05-15T09:20:51.454548Z",
     "iopub.status.idle": "2023-05-15T09:20:51.458994Z",
     "shell.execute_reply": "2023-05-15T09:20:51.458690Z"
    },
    "papermill": {
     "duration": 0.008912,
     "end_time": "2023-05-15T09:20:51.459856",
     "exception": false,
     "start_time": "2023-05-15T09:20:51.450944",
     "status": "completed"
    },
    "tags": [
     "parameters"
    ]
   },
   "outputs": [],
   "source": [
    "sample_name = \"SRR13329143\""
   ]
  },
  {
   "cell_type": "code",
   "execution_count": null,
   "id": "a4bd2c43",
   "metadata": {
    "execution": {
     "iopub.execute_input": "2023-05-15T09:20:51.464984Z",
     "iopub.status.busy": "2023-05-15T09:20:51.464867Z",
     "iopub.status.idle": "2023-05-15T09:20:51.466770Z",
     "shell.execute_reply": "2023-05-15T09:20:51.466472Z"
    },
    "papermill": {
     "duration": 0.005276,
     "end_time": "2023-05-15T09:20:51.467503",
     "exception": false,
     "start_time": "2023-05-15T09:20:51.462227",
     "status": "completed"
    },
    "tags": [
     "injected-parameters"
    ]
   },
   "outputs": [],
   "source": [
    "# Parameters\n",
    "sample_name = \"SRR13329172\"\n"
   ]
  },
  {
   "cell_type": "code",
   "execution_count": null,
   "id": "f87ed95b-2b67-4a5a-8fe2-47359b1dd2a9",
   "metadata": {
    "execution": {
     "iopub.execute_input": "2023-05-15T09:20:51.472547Z",
     "iopub.status.busy": "2023-05-15T09:20:51.472396Z",
     "iopub.status.idle": "2023-05-15T09:20:51.474475Z",
     "shell.execute_reply": "2023-05-15T09:20:51.474181Z"
    },
    "papermill": {
     "duration": 0.005414,
     "end_time": "2023-05-15T09:20:51.475225",
     "exception": false,
     "start_time": "2023-05-15T09:20:51.469811",
     "status": "completed"
    },
    "tags": []
   },
   "outputs": [],
   "source": [
    "import warnings\n",
    "warnings.simplefilter(action='ignore', category=FutureWarning)\n",
    "warnings.simplefilter(action='ignore', category=UserWarning)"
   ]
  },
  {
   "cell_type": "code",
   "execution_count": null,
   "id": "85161f19-b2c5-490b-8cab-c2cf9653b304",
   "metadata": {
    "execution": {
     "iopub.execute_input": "2023-05-15T09:20:51.480503Z",
     "iopub.status.busy": "2023-05-15T09:20:51.480258Z",
     "iopub.status.idle": "2023-05-15T09:20:56.739622Z",
     "shell.execute_reply": "2023-05-15T09:20:56.739206Z"
    },
    "papermill": {
     "duration": 5.263325,
     "end_time": "2023-05-15T09:20:56.740935",
     "exception": false,
     "start_time": "2023-05-15T09:20:51.477610",
     "status": "completed"
    },
    "tags": []
   },
   "outputs": [],
   "source": [
    "import gc\n",
    "import scanpy as sc\n",
    "import muon as mu\n",
    "import seaborn as sns\n",
    "import os\n",
    "import pandas as pd\n",
    "from matplotlib import pyplot as plt\n",
    "\n",
    "os.environ['R_HOME'] = '/gpfs/bwfor/work/ws/hd_fu399-conda/conda/envs/python_R/lib/R/'\n",
    "import anndata2ri\n",
    "import logging\n",
    "\n",
    "import rpy2.rinterface_lib.callbacks as rcb\n",
    "import rpy2.robjects as ro\n",
    "\n",
    "rcb.logger.setLevel(logging.ERROR)\n",
    "ro.pandas2ri.activate()\n",
    "anndata2ri.activate()\n",
    "\n",
    "%load_ext rpy2.ipython"
   ]
  },
  {
   "cell_type": "code",
   "execution_count": null,
   "id": "fc4ade78-b728-4704-9db6-45fbaab62ba1",
   "metadata": {
    "execution": {
     "iopub.execute_input": "2023-05-15T09:20:56.747158Z",
     "iopub.status.busy": "2023-05-15T09:20:56.746880Z",
     "iopub.status.idle": "2023-05-15T09:21:08.323575Z",
     "shell.execute_reply": "2023-05-15T09:21:08.323059Z"
    },
    "papermill": {
     "duration": 11.580896,
     "end_time": "2023-05-15T09:21:08.324839",
     "exception": false,
     "start_time": "2023-05-15T09:20:56.743943",
     "status": "completed"
    },
    "tags": []
   },
   "outputs": [],
   "source": [
    "%%R\n",
    "library(SoupX)\n",
    "library(Seurat)\n",
    "library(scater)\n",
    "library(scDblFinder)\n",
    "library(BiocParallel)\n",
    "library(MuDataSeurat)\n",
    "library(DropletUtils)"
   ]
  },
  {
   "cell_type": "code",
   "execution_count": null,
   "id": "f7424d90-7690-4290-8651-1db3f9df3a35",
   "metadata": {
    "execution": {
     "iopub.execute_input": "2023-05-15T09:21:08.333306Z",
     "iopub.status.busy": "2023-05-15T09:21:08.333153Z",
     "iopub.status.idle": "2023-05-15T09:21:08.339028Z",
     "shell.execute_reply": "2023-05-15T09:21:08.338716Z"
    },
    "papermill": {
     "duration": 0.010122,
     "end_time": "2023-05-15T09:21:08.340028",
     "exception": false,
     "start_time": "2023-05-15T09:21:08.329906",
     "status": "completed"
    },
    "tags": []
   },
   "outputs": [],
   "source": [
    "metadata = pd.read_csv(\"../../combes_metadata.txt\")"
   ]
  },
  {
   "cell_type": "code",
   "execution_count": null,
   "id": "2574ecf1-bad4-4c33-8f3f-718a358727ab",
   "metadata": {
    "execution": {
     "iopub.execute_input": "2023-05-15T09:21:08.345598Z",
     "iopub.status.busy": "2023-05-15T09:21:08.345432Z",
     "iopub.status.idle": "2023-05-15T09:21:08.361594Z",
     "shell.execute_reply": "2023-05-15T09:21:08.361266Z"
    },
    "papermill": {
     "duration": 0.019884,
     "end_time": "2023-05-15T09:21:08.362452",
     "exception": false,
     "start_time": "2023-05-15T09:21:08.342568",
     "status": "completed"
    },
    "tags": []
   },
   "outputs": [],
   "source": [
    "raw_input = f\"/home/hd/hd_hd/hd_fu399/sds-hd/sd21k006/scRNAseq/revision_natcomm/combes_et_al/fetchngs/results/fastq/{sample_name}/{sample_name}/outs/raw_feature_bc_matrix.h5\""
   ]
  },
  {
   "cell_type": "code",
   "execution_count": null,
   "id": "e266d388-1802-435c-93a5-90067358739c",
   "metadata": {
    "execution": {
     "iopub.execute_input": "2023-05-15T09:21:08.367994Z",
     "iopub.status.busy": "2023-05-15T09:21:08.367846Z",
     "iopub.status.idle": "2023-05-15T09:21:08.958002Z",
     "shell.execute_reply": "2023-05-15T09:21:08.957561Z"
    },
    "papermill": {
     "duration": 0.594023,
     "end_time": "2023-05-15T09:21:08.958949",
     "exception": false,
     "start_time": "2023-05-15T09:21:08.364926",
     "status": "completed"
    },
    "tags": []
   },
   "outputs": [],
   "source": [
    "dataset = sc.read_10x_h5(raw_input)\n",
    "dataset.var_names_make_unique()\n",
    "dataset.obs_names_make_unique()\n",
    "\n",
    "dataset.layers[\"raw_counts\"] = dataset.X.copy()\n",
    "data_tod = dataset.layers[\"raw_counts\"].T.copy()\n",
    "\n",
    "dataset"
   ]
  },
  {
   "cell_type": "code",
   "execution_count": null,
   "id": "af9f5892-ed31-42a6-991b-4e096f582cef",
   "metadata": {
    "execution": {
     "iopub.execute_input": "2023-05-15T09:21:08.965360Z",
     "iopub.status.busy": "2023-05-15T09:21:08.965180Z",
     "iopub.status.idle": "2023-05-15T09:21:08.996082Z",
     "shell.execute_reply": "2023-05-15T09:21:08.995622Z"
    },
    "papermill": {
     "duration": 0.035397,
     "end_time": "2023-05-15T09:21:08.997391",
     "exception": false,
     "start_time": "2023-05-15T09:21:08.961994",
     "status": "completed"
    },
    "tags": []
   },
   "outputs": [],
   "source": [
    "sce = dataset.copy()"
   ]
  },
  {
   "cell_type": "code",
   "execution_count": null,
   "id": "d03f2caf-8e74-430e-b045-0ab80401d165",
   "metadata": {
    "execution": {
     "iopub.execute_input": "2023-05-15T09:21:09.003628Z",
     "iopub.status.busy": "2023-05-15T09:21:09.003455Z",
     "iopub.status.idle": "2023-05-15T09:21:47.256192Z",
     "shell.execute_reply": "2023-05-15T09:21:47.255585Z"
    },
    "papermill": {
     "duration": 38.257247,
     "end_time": "2023-05-15T09:21:47.257515",
     "exception": false,
     "start_time": "2023-05-15T09:21:09.000268",
     "status": "completed"
    },
    "tags": []
   },
   "outputs": [],
   "source": [
    "%%R -i sce -o empty_drop_output\n",
    "set.seed(187)\n",
    "empty_drop_output <- emptyDrops(assay(sce))"
   ]
  },
  {
   "cell_type": "code",
   "execution_count": null,
   "id": "2a34a54b-3ae2-44d6-8679-8769228c5b66",
   "metadata": {
    "execution": {
     "iopub.execute_input": "2023-05-15T09:21:47.266519Z",
     "iopub.status.busy": "2023-05-15T09:21:47.266345Z",
     "iopub.status.idle": "2023-05-15T09:21:47.288783Z",
     "shell.execute_reply": "2023-05-15T09:21:47.288458Z"
    },
    "papermill": {
     "duration": 0.026698,
     "end_time": "2023-05-15T09:21:47.289617",
     "exception": false,
     "start_time": "2023-05-15T09:21:47.262919",
     "status": "completed"
    },
    "tags": []
   },
   "outputs": [],
   "source": [
    "non_empty_barcodes = empty_drop_output[empty_drop_output[\"FDR\"] < 0.001].index\n",
    "dataset = dataset[dataset.obs.index.isin(non_empty_barcodes), :]\n",
    "dataset"
   ]
  },
  {
   "cell_type": "code",
   "execution_count": null,
   "id": "016a91e5-1bef-46fb-b91e-4fb9a6870c44",
   "metadata": {
    "execution": {
     "iopub.execute_input": "2023-05-15T09:21:47.296157Z",
     "iopub.status.busy": "2023-05-15T09:21:47.296015Z",
     "iopub.status.idle": "2023-05-15T09:21:51.384246Z",
     "shell.execute_reply": "2023-05-15T09:21:51.383733Z"
    },
    "papermill": {
     "duration": 4.093197,
     "end_time": "2023-05-15T09:21:51.385556",
     "exception": false,
     "start_time": "2023-05-15T09:21:47.292359",
     "status": "completed"
    },
    "tags": []
   },
   "outputs": [],
   "source": [
    "rna_assay = dataset.copy()\n",
    "sc.pp.normalize_per_cell(rna_assay)\n",
    "sc.pp.log1p(rna_assay)\n",
    "sc.pp.pca(rna_assay)\n",
    "sc.pp.neighbors(rna_assay)\n",
    "sc.tl.leiden(rna_assay, key_added=\"soupx_groups\")\n",
    "\n",
    "soupx_groups = rna_assay.obs[\"soupx_groups\"]\n",
    "\n",
    "del rna_assay\n",
    "\n",
    "genes = dataset.var_names\n",
    "cells = dataset.obs_names\n",
    "data = dataset.X.T.copy()"
   ]
  },
  {
   "cell_type": "code",
   "execution_count": null,
   "id": "9db4ea1f-1580-4f43-a3f0-86002397cd98",
   "metadata": {
    "execution": {
     "iopub.execute_input": "2023-05-15T09:21:51.394541Z",
     "iopub.status.busy": "2023-05-15T09:21:51.394370Z",
     "iopub.status.idle": "2023-05-15T09:22:02.914712Z",
     "shell.execute_reply": "2023-05-15T09:22:02.914220Z"
    },
    "papermill": {
     "duration": 11.525341,
     "end_time": "2023-05-15T09:22:02.916031",
     "exception": false,
     "start_time": "2023-05-15T09:21:51.390690",
     "status": "completed"
    },
    "tags": []
   },
   "outputs": [],
   "source": [
    "%%R -i data -i data_tod -i genes -i cells -i soupx_groups -o out \n",
    "set.seed(187)\n",
    "# specify row and column names of data\n",
    "rownames(data) = genes\n",
    "colnames(data) = cells\n",
    "# ensure correct sparse format for table of counts and table of droplets\n",
    "data <- as(data, \"sparseMatrix\")\n",
    "data_tod <- as(data_tod, \"sparseMatrix\")\n",
    "\n",
    "# Generate SoupChannel Object for SoupX \n",
    "sc = SoupChannel(data_tod, data, calcSoupProfile = FALSE)\n",
    "\n",
    "# Add extra meta data to the SoupChannel object\n",
    "soupProf = data.frame(row.names = rownames(data),\n",
    "                      est = rowSums(data)/sum(data),\n",
    "                      counts = rowSums(data))\n",
    "sc = setSoupProfile(sc, soupProf)\n",
    "# Set cluster information in SoupChannel\n",
    "sc = setClusters(sc, soupx_groups)\n",
    "\n",
    "# Estimate contamination fraction\n",
    "sc  = autoEstCont(sc, doPlot=FALSE, forceAccept = TRUE)\n",
    "# Infer corrected table of counts and rount to integer\n",
    "out = adjustCounts(sc, roundToInt = TRUE)"
   ]
  },
  {
   "cell_type": "code",
   "execution_count": null,
   "id": "32555d5e-5fa3-46dd-a4e0-ddc96ea265e2",
   "metadata": {
    "execution": {
     "iopub.execute_input": "2023-05-15T09:22:02.924491Z",
     "iopub.status.busy": "2023-05-15T09:22:02.924331Z",
     "iopub.status.idle": "2023-05-15T09:22:02.946679Z",
     "shell.execute_reply": "2023-05-15T09:22:02.946261Z"
    },
    "papermill": {
     "duration": 0.026909,
     "end_time": "2023-05-15T09:22:02.947887",
     "exception": false,
     "start_time": "2023-05-15T09:22:02.920978",
     "status": "completed"
    },
    "tags": []
   },
   "outputs": [],
   "source": [
    "dataset.layers[\"soupX_counts\"] = out.T\n",
    "dataset.X = dataset.layers[\"soupX_counts\"].copy()"
   ]
  },
  {
   "cell_type": "code",
   "execution_count": null,
   "id": "e27da7df-e094-4d2a-9109-5a363e012175",
   "metadata": {
    "execution": {
     "iopub.execute_input": "2023-05-15T09:22:02.954622Z",
     "iopub.status.busy": "2023-05-15T09:22:02.954424Z",
     "iopub.status.idle": "2023-05-15T09:22:02.956714Z",
     "shell.execute_reply": "2023-05-15T09:22:02.956361Z"
    },
    "papermill": {
     "duration": 0.006621,
     "end_time": "2023-05-15T09:22:02.957506",
     "exception": false,
     "start_time": "2023-05-15T09:22:02.950885",
     "status": "completed"
    },
    "tags": []
   },
   "outputs": [],
   "source": [
    "data_mat = dataset.X.T"
   ]
  },
  {
   "cell_type": "code",
   "execution_count": null,
   "id": "80a993b1-5ccb-4697-9187-1beb7ab8aff9",
   "metadata": {
    "execution": {
     "iopub.execute_input": "2023-05-15T09:22:02.963775Z",
     "iopub.status.busy": "2023-05-15T09:22:02.963550Z",
     "iopub.status.idle": "2023-05-15T09:22:21.089382Z",
     "shell.execute_reply": "2023-05-15T09:22:21.088906Z"
    },
    "papermill": {
     "duration": 18.130446,
     "end_time": "2023-05-15T09:22:21.090710",
     "exception": false,
     "start_time": "2023-05-15T09:22:02.960264",
     "status": "completed"
    },
    "tags": []
   },
   "outputs": [],
   "source": [
    "%%R -i data_mat -o droplet_class\n",
    "\n",
    "set.seed(187)\n",
    "sce = scDblFinder(\n",
    "    SingleCellExperiment(\n",
    "        list(counts=data_mat),\n",
    "    ) \n",
    ")\n",
    "droplet_class = sce$scDblFinder.class"
   ]
  },
  {
   "cell_type": "code",
   "execution_count": null,
   "id": "d4dd6e9d-fcf2-41fc-8457-c8e0a3cb2c71",
   "metadata": {
    "execution": {
     "iopub.execute_input": "2023-05-15T09:22:21.114040Z",
     "iopub.status.busy": "2023-05-15T09:22:21.113813Z",
     "iopub.status.idle": "2023-05-15T09:22:21.118683Z",
     "shell.execute_reply": "2023-05-15T09:22:21.118326Z"
    },
    "papermill": {
     "duration": 0.023519,
     "end_time": "2023-05-15T09:22:21.119455",
     "exception": false,
     "start_time": "2023-05-15T09:22:21.095936",
     "status": "completed"
    },
    "tags": []
   },
   "outputs": [],
   "source": [
    "dataset.obs[\"scDblFinder_class\"] = droplet_class\n",
    "dataset.obs.scDblFinder_class.value_counts()\n",
    "dataset"
   ]
  },
  {
   "cell_type": "code",
   "execution_count": null,
   "id": "28c95014-2d6c-477f-95cb-9f9f0507520c",
   "metadata": {
    "execution": {
     "iopub.execute_input": "2023-05-15T09:22:21.126379Z",
     "iopub.status.busy": "2023-05-15T09:22:21.126211Z",
     "iopub.status.idle": "2023-05-15T09:22:21.148784Z",
     "shell.execute_reply": "2023-05-15T09:22:21.148431Z"
    },
    "papermill": {
     "duration": 0.02771,
     "end_time": "2023-05-15T09:22:21.150098",
     "exception": false,
     "start_time": "2023-05-15T09:22:21.122388",
     "status": "completed"
    },
    "tags": []
   },
   "outputs": [],
   "source": [
    "dataset = dataset[dataset.obs[\"scDblFinder_class\"] == 1]"
   ]
  },
  {
   "cell_type": "code",
   "execution_count": null,
   "id": "3e22f9e0-bfcb-416c-a151-a9bca3bec3b9",
   "metadata": {
    "execution": {
     "iopub.execute_input": "2023-05-15T09:22:21.157096Z",
     "iopub.status.busy": "2023-05-15T09:22:21.156935Z",
     "iopub.status.idle": "2023-05-15T09:22:21.270762Z",
     "shell.execute_reply": "2023-05-15T09:22:21.270296Z"
    },
    "papermill": {
     "duration": 0.118608,
     "end_time": "2023-05-15T09:22:21.271701",
     "exception": false,
     "start_time": "2023-05-15T09:22:21.153093",
     "status": "completed"
    },
    "tags": []
   },
   "outputs": [],
   "source": [
    "# mitochondrial genes\n",
    "dataset.var[\"mt\"] = dataset.var_names.str.startswith(\"MT-\")\n",
    "# ribosomal genes\n",
    "dataset.var[\"ribo\"] = dataset.var_names.str.startswith((\"RPS\", \"RPL\"))\n",
    "# hemoglobin genes.\n",
    "dataset.var[\"hb\"] = dataset.var_names.str.contains((\"^HB[^(P)]\"))\n",
    "\n",
    "sc.pp.calculate_qc_metrics(dataset,\n",
    "                           qc_vars=['mt', 'ribo', 'hb'],\n",
    "                           percent_top=None,\n",
    "                           log1p=False,\n",
    "                           inplace=True)\n",
    "dataset"
   ]
  },
  {
   "cell_type": "code",
   "execution_count": null,
   "id": "34deee79-4043-428f-8575-aa57b45f6369",
   "metadata": {
    "execution": {
     "iopub.execute_input": "2023-05-15T09:22:21.278847Z",
     "iopub.status.busy": "2023-05-15T09:22:21.278691Z",
     "iopub.status.idle": "2023-05-15T09:22:21.734013Z",
     "shell.execute_reply": "2023-05-15T09:22:21.733632Z"
    },
    "papermill": {
     "duration": 0.45996,
     "end_time": "2023-05-15T09:22:21.734998",
     "exception": false,
     "start_time": "2023-05-15T09:22:21.275038",
     "status": "completed"
    },
    "tags": []
   },
   "outputs": [],
   "source": [
    "fig, ax = plt.subplots(ncols = 4, figsize = (16,4))\n",
    "axis = sc.pl.violin(dataset, \"n_genes_by_counts\", jitter = 0.4, ax = ax[0], show = False)\n",
    "axis.grid(False)\n",
    "axis.set_title(\"Unique Genes per cell\")\n",
    "axis.tick_params(axis = \"x\", bottom =False, labelbottom =False)\n",
    "axis.set_ylabel(\"# genes\")\n",
    "axis.axhline(y = 100, color = \"black\", label = \"cutoff\")\n",
    "axis.legend(fontsize = 14, loc = \"upper right\")\n",
    "\n",
    "axis = sc.pl.violin(dataset, \"pct_counts_mt\", jitter = 0.4, ax = ax[1], show = False)\n",
    "axis.grid(False)\n",
    "axis.set_title(\"Mitochondrial Fraction\")\n",
    "axis.tick_params(axis = \"x\", bottom =False, labelbottom =False)\n",
    "axis.set_ylabel(\"% mitochondrial genes\")\n",
    "axis.axhline(y = 10, color = \"black\", label = \"cutoff\")\n",
    "axis.legend(fontsize = 14, loc = \"upper right\")\n",
    "\n",
    "axis = sc.pl.violin(dataset, \"pct_counts_hb\", jitter = 0.4, ax = ax[2], show = False, size =2)\n",
    "axis.grid(False)\n",
    "axis.set_title(\"Hemoglobin Fraction\")\n",
    "axis.tick_params(axis = \"x\", bottom =False, labelbottom =False)\n",
    "axis.set_ylabel(\"% hemoglobin genes\")\n",
    "axis.axhline(y = 3, color = \"black\", label = \"cutoff\")\n",
    "axis.legend(fontsize = 14, loc = \"upper right\")\n",
    "#axis.set_ylim(0,5)\n",
    "\n",
    "axis = sc.pl.violin(dataset, \"pct_counts_ribo\", jitter = 0.4, ax = ax[3], show = False)\n",
    "axis.grid(False)\n",
    "axis.set_title(\"Ribosomal Fraction\")\n",
    "axis.tick_params(axis = \"x\", bottom =False, labelbottom =False)\n",
    "axis.set_ylabel(\"% ribosome genes\")\n",
    "\n",
    "plt.tight_layout()\n",
    "#plt.savefig(f\"{outputDir}08_gene_based_filtering.pdf\", dpi = 300)\n",
    "plt.show()\n",
    "\n"
   ]
  },
  {
   "cell_type": "code",
   "execution_count": null,
   "id": "d7ade754-843e-4840-8707-426613d8c0c5",
   "metadata": {
    "execution": {
     "iopub.execute_input": "2023-05-15T09:22:21.744714Z",
     "iopub.status.busy": "2023-05-15T09:22:21.744533Z",
     "iopub.status.idle": "2023-05-15T09:22:21.753162Z",
     "shell.execute_reply": "2023-05-15T09:22:21.752851Z"
    },
    "papermill": {
     "duration": 0.01423,
     "end_time": "2023-05-15T09:22:21.753922",
     "exception": false,
     "start_time": "2023-05-15T09:22:21.739692",
     "status": "completed"
    },
    "tags": []
   },
   "outputs": [],
   "source": [
    "dataset = dataset[dataset.obs.pct_counts_mt < 10, :]\n",
    "dataset = dataset[dataset.obs.n_genes_by_counts > 100, :]\n",
    "dataset = dataset[dataset.obs.pct_counts_hb < 3, :]\n",
    "dataset"
   ]
  },
  {
   "cell_type": "code",
   "execution_count": null,
   "id": "1941fa36-e865-4500-b586-f7a32d142c9b",
   "metadata": {
    "execution": {
     "iopub.execute_input": "2023-05-15T09:22:21.763391Z",
     "iopub.status.busy": "2023-05-15T09:22:21.763235Z",
     "iopub.status.idle": "2023-05-15T09:22:21.766066Z",
     "shell.execute_reply": "2023-05-15T09:22:21.765769Z"
    },
    "papermill": {
     "duration": 0.00845,
     "end_time": "2023-05-15T09:22:21.766811",
     "exception": false,
     "start_time": "2023-05-15T09:22:21.758361",
     "status": "completed"
    },
    "tags": []
   },
   "outputs": [],
   "source": [
    "metadata.columns"
   ]
  },
  {
   "cell_type": "code",
   "execution_count": null,
   "id": "2e0ff8c3-2aa9-4a01-9b88-5912a6734447",
   "metadata": {
    "execution": {
     "iopub.execute_input": "2023-05-15T09:22:21.776425Z",
     "iopub.status.busy": "2023-05-15T09:22:21.776235Z",
     "iopub.status.idle": "2023-05-15T09:22:21.810887Z",
     "shell.execute_reply": "2023-05-15T09:22:21.810402Z"
    },
    "papermill": {
     "duration": 0.040652,
     "end_time": "2023-05-15T09:22:21.811986",
     "exception": false,
     "start_time": "2023-05-15T09:22:21.771334",
     "status": "completed"
    },
    "tags": []
   },
   "outputs": [],
   "source": [
    "for col in metadata.columns:\n",
    "    dataset.obs[col] = metadata.loc[metadata[\"Run\"] == sample_name, col].to_list()[0]"
   ]
  },
  {
   "cell_type": "code",
   "execution_count": null,
   "id": "b84578d3-d63e-419c-a272-a0b8317d05ab",
   "metadata": {
    "execution": {
     "iopub.execute_input": "2023-05-15T09:22:21.822156Z",
     "iopub.status.busy": "2023-05-15T09:22:21.821962Z",
     "iopub.status.idle": "2023-05-15T09:22:22.499405Z",
     "shell.execute_reply": "2023-05-15T09:22:22.498928Z"
    },
    "papermill": {
     "duration": 0.683934,
     "end_time": "2023-05-15T09:22:22.500783",
     "exception": false,
     "start_time": "2023-05-15T09:22:21.816849",
     "status": "completed"
    },
    "tags": []
   },
   "outputs": [],
   "source": [
    "dataset.write(f\"../../int_data/{sample_name}_qc.h5ad\")"
   ]
  },
  {
   "cell_type": "code",
   "execution_count": null,
   "id": "501b33a0-432d-415f-ae82-50723484b85d",
   "metadata": {
    "execution": {
     "iopub.execute_input": "2023-05-15T09:22:22.510995Z",
     "iopub.status.busy": "2023-05-15T09:22:22.510802Z",
     "iopub.status.idle": "2023-05-15T09:22:22.513983Z",
     "shell.execute_reply": "2023-05-15T09:22:22.513635Z"
    },
    "papermill": {
     "duration": 0.008991,
     "end_time": "2023-05-15T09:22:22.514762",
     "exception": false,
     "start_time": "2023-05-15T09:22:22.505771",
     "status": "completed"
    },
    "tags": []
   },
   "outputs": [],
   "source": [
    "dataset"
   ]
  }
 ],
 "metadata": {
  "kernelspec": {
   "display_name": "py_R",
   "language": "python",
   "name": "python_r"
  },
  "language_info": {
   "codemirror_mode": {
    "name": "ipython",
    "version": 3
   },
   "file_extension": ".py",
   "mimetype": "text/x-python",
   "name": "python",
   "nbconvert_exporter": "python",
   "pygments_lexer": "ipython3",
   "version": "3.10.9"
  },
  "papermill": {
   "default_parameters": {},
   "duration": 94.01173,
   "end_time": "2023-05-15T09:22:23.936760",
   "environment_variables": {},
   "exception": null,
   "input_path": "template.ipynb",
   "output_path": "SRR13329172.ipynb",
   "parameters": {
    "sample_name": "SRR13329172"
   },
   "start_time": "2023-05-15T09:20:49.925030",
   "version": "2.4.0"
  }
 },
 "nbformat": 4,
 "nbformat_minor": 5
}
