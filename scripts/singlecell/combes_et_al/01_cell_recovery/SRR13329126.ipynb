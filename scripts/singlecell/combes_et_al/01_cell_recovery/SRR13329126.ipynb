{
 "cells": [
  {
   "cell_type": "code",
   "execution_count": null,
   "id": "4c0f2fa8-5232-4f47-a7ec-6c9bbabe50e2",
   "metadata": {
    "execution": {
     "iopub.execute_input": "2023-05-15T09:08:26.985110Z",
     "iopub.status.busy": "2023-05-15T09:08:26.984980Z",
     "iopub.status.idle": "2023-05-15T09:08:26.989247Z",
     "shell.execute_reply": "2023-05-15T09:08:26.988947Z"
    },
    "papermill": {
     "duration": 0.008245,
     "end_time": "2023-05-15T09:08:26.989995",
     "exception": false,
     "start_time": "2023-05-15T09:08:26.981750",
     "status": "completed"
    },
    "tags": [
     "parameters"
    ]
   },
   "outputs": [],
   "source": [
    "sample_name = \"SRR13329143\""
   ]
  },
  {
   "cell_type": "code",
   "execution_count": null,
   "id": "6a22f3cb",
   "metadata": {
    "execution": {
     "iopub.execute_input": "2023-05-15T09:08:26.995100Z",
     "iopub.status.busy": "2023-05-15T09:08:26.994867Z",
     "iopub.status.idle": "2023-05-15T09:08:26.996906Z",
     "shell.execute_reply": "2023-05-15T09:08:26.996614Z"
    },
    "papermill": {
     "duration": 0.005343,
     "end_time": "2023-05-15T09:08:26.997658",
     "exception": false,
     "start_time": "2023-05-15T09:08:26.992315",
     "status": "completed"
    },
    "tags": [
     "injected-parameters"
    ]
   },
   "outputs": [],
   "source": [
    "# Parameters\n",
    "sample_name = \"SRR13329126\"\n"
   ]
  },
  {
   "cell_type": "code",
   "execution_count": null,
   "id": "f87ed95b-2b67-4a5a-8fe2-47359b1dd2a9",
   "metadata": {
    "execution": {
     "iopub.execute_input": "2023-05-15T09:08:27.002600Z",
     "iopub.status.busy": "2023-05-15T09:08:27.002405Z",
     "iopub.status.idle": "2023-05-15T09:08:27.004470Z",
     "shell.execute_reply": "2023-05-15T09:08:27.004183Z"
    },
    "papermill": {
     "duration": 0.005359,
     "end_time": "2023-05-15T09:08:27.005193",
     "exception": false,
     "start_time": "2023-05-15T09:08:26.999834",
     "status": "completed"
    },
    "tags": []
   },
   "outputs": [],
   "source": [
    "import warnings\n",
    "warnings.simplefilter(action='ignore', category=FutureWarning)\n",
    "warnings.simplefilter(action='ignore', category=UserWarning)"
   ]
  },
  {
   "cell_type": "code",
   "execution_count": null,
   "id": "85161f19-b2c5-490b-8cab-c2cf9653b304",
   "metadata": {
    "execution": {
     "iopub.execute_input": "2023-05-15T09:08:27.010171Z",
     "iopub.status.busy": "2023-05-15T09:08:27.009992Z",
     "iopub.status.idle": "2023-05-15T09:08:32.226716Z",
     "shell.execute_reply": "2023-05-15T09:08:32.226241Z"
    },
    "papermill": {
     "duration": 5.220464,
     "end_time": "2023-05-15T09:08:32.227894",
     "exception": false,
     "start_time": "2023-05-15T09:08:27.007430",
     "status": "completed"
    },
    "tags": []
   },
   "outputs": [],
   "source": [
    "import gc\n",
    "import scanpy as sc\n",
    "import muon as mu\n",
    "import seaborn as sns\n",
    "import os\n",
    "import pandas as pd\n",
    "from matplotlib import pyplot as plt\n",
    "\n",
    "os.environ['R_HOME'] = '/gpfs/bwfor/work/ws/hd_fu399-conda/conda/envs/python_R/lib/R/'\n",
    "import anndata2ri\n",
    "import logging\n",
    "\n",
    "import rpy2.rinterface_lib.callbacks as rcb\n",
    "import rpy2.robjects as ro\n",
    "\n",
    "rcb.logger.setLevel(logging.ERROR)\n",
    "ro.pandas2ri.activate()\n",
    "anndata2ri.activate()\n",
    "\n",
    "%load_ext rpy2.ipython"
   ]
  },
  {
   "cell_type": "code",
   "execution_count": null,
   "id": "fc4ade78-b728-4704-9db6-45fbaab62ba1",
   "metadata": {
    "execution": {
     "iopub.execute_input": "2023-05-15T09:08:32.236014Z",
     "iopub.status.busy": "2023-05-15T09:08:32.235686Z",
     "iopub.status.idle": "2023-05-15T09:08:44.122003Z",
     "shell.execute_reply": "2023-05-15T09:08:44.121447Z"
    },
    "papermill": {
     "duration": 11.890526,
     "end_time": "2023-05-15T09:08:44.123285",
     "exception": false,
     "start_time": "2023-05-15T09:08:32.232759",
     "status": "completed"
    },
    "tags": []
   },
   "outputs": [],
   "source": [
    "%%R\n",
    "library(SoupX)\n",
    "library(Seurat)\n",
    "library(scater)\n",
    "library(scDblFinder)\n",
    "library(BiocParallel)\n",
    "library(MuDataSeurat)\n",
    "library(DropletUtils)"
   ]
  },
  {
   "cell_type": "code",
   "execution_count": null,
   "id": "f7424d90-7690-4290-8651-1db3f9df3a35",
   "metadata": {
    "execution": {
     "iopub.execute_input": "2023-05-15T09:08:44.131870Z",
     "iopub.status.busy": "2023-05-15T09:08:44.131713Z",
     "iopub.status.idle": "2023-05-15T09:08:44.137358Z",
     "shell.execute_reply": "2023-05-15T09:08:44.137018Z"
    },
    "papermill": {
     "duration": 0.009663,
     "end_time": "2023-05-15T09:08:44.138120",
     "exception": false,
     "start_time": "2023-05-15T09:08:44.128457",
     "status": "completed"
    },
    "tags": []
   },
   "outputs": [],
   "source": [
    "metadata = pd.read_csv(\"../../combes_metadata.txt\")"
   ]
  },
  {
   "cell_type": "code",
   "execution_count": null,
   "id": "2574ecf1-bad4-4c33-8f3f-718a358727ab",
   "metadata": {
    "execution": {
     "iopub.execute_input": "2023-05-15T09:08:44.143380Z",
     "iopub.status.busy": "2023-05-15T09:08:44.143231Z",
     "iopub.status.idle": "2023-05-15T09:08:44.152663Z",
     "shell.execute_reply": "2023-05-15T09:08:44.152358Z"
    },
    "papermill": {
     "duration": 0.012982,
     "end_time": "2023-05-15T09:08:44.153416",
     "exception": false,
     "start_time": "2023-05-15T09:08:44.140434",
     "status": "completed"
    },
    "tags": []
   },
   "outputs": [],
   "source": [
    "raw_input = f\"/home/hd/hd_hd/hd_fu399/sds-hd/sd21k006/scRNAseq/revision_natcomm/combes_et_al/fetchngs/results/fastq/{sample_name}/{sample_name}/outs/raw_feature_bc_matrix.h5\""
   ]
  },
  {
   "cell_type": "code",
   "execution_count": null,
   "id": "e266d388-1802-435c-93a5-90067358739c",
   "metadata": {
    "execution": {
     "iopub.execute_input": "2023-05-15T09:08:44.158759Z",
     "iopub.status.busy": "2023-05-15T09:08:44.158604Z",
     "iopub.status.idle": "2023-05-15T09:08:44.692732Z",
     "shell.execute_reply": "2023-05-15T09:08:44.692291Z"
    },
    "papermill": {
     "duration": 0.537886,
     "end_time": "2023-05-15T09:08:44.693667",
     "exception": false,
     "start_time": "2023-05-15T09:08:44.155781",
     "status": "completed"
    },
    "tags": []
   },
   "outputs": [],
   "source": [
    "dataset = sc.read_10x_h5(raw_input)\n",
    "dataset.var_names_make_unique()\n",
    "dataset.obs_names_make_unique()\n",
    "\n",
    "dataset.layers[\"raw_counts\"] = dataset.X.copy()\n",
    "data_tod = dataset.layers[\"raw_counts\"].T.copy()\n",
    "\n",
    "dataset"
   ]
  },
  {
   "cell_type": "code",
   "execution_count": null,
   "id": "af9f5892-ed31-42a6-991b-4e096f582cef",
   "metadata": {
    "execution": {
     "iopub.execute_input": "2023-05-15T09:08:44.700134Z",
     "iopub.status.busy": "2023-05-15T09:08:44.699952Z",
     "iopub.status.idle": "2023-05-15T09:08:44.748833Z",
     "shell.execute_reply": "2023-05-15T09:08:44.748350Z"
    },
    "papermill": {
     "duration": 0.05332,
     "end_time": "2023-05-15T09:08:44.750165",
     "exception": false,
     "start_time": "2023-05-15T09:08:44.696845",
     "status": "completed"
    },
    "tags": []
   },
   "outputs": [],
   "source": [
    "sce = dataset.copy()"
   ]
  },
  {
   "cell_type": "code",
   "execution_count": null,
   "id": "d03f2caf-8e74-430e-b045-0ab80401d165",
   "metadata": {
    "execution": {
     "iopub.execute_input": "2023-05-15T09:08:44.756622Z",
     "iopub.status.busy": "2023-05-15T09:08:44.756441Z",
     "iopub.status.idle": "2023-05-15T09:09:39.978092Z",
     "shell.execute_reply": "2023-05-15T09:09:39.977488Z"
    },
    "papermill": {
     "duration": 55.226099,
     "end_time": "2023-05-15T09:09:39.979412",
     "exception": false,
     "start_time": "2023-05-15T09:08:44.753313",
     "status": "completed"
    },
    "tags": []
   },
   "outputs": [],
   "source": [
    "%%R -i sce -o empty_drop_output\n",
    "set.seed(187)\n",
    "empty_drop_output <- emptyDrops(assay(sce))"
   ]
  },
  {
   "cell_type": "code",
   "execution_count": null,
   "id": "2a34a54b-3ae2-44d6-8679-8769228c5b66",
   "metadata": {
    "execution": {
     "iopub.execute_input": "2023-05-15T09:09:39.987762Z",
     "iopub.status.busy": "2023-05-15T09:09:39.987615Z",
     "iopub.status.idle": "2023-05-15T09:09:40.013238Z",
     "shell.execute_reply": "2023-05-15T09:09:40.012924Z"
    },
    "papermill": {
     "duration": 0.02977,
     "end_time": "2023-05-15T09:09:40.014053",
     "exception": false,
     "start_time": "2023-05-15T09:09:39.984283",
     "status": "completed"
    },
    "tags": []
   },
   "outputs": [],
   "source": [
    "non_empty_barcodes = empty_drop_output[empty_drop_output[\"FDR\"] < 0.001].index\n",
    "dataset = dataset[dataset.obs.index.isin(non_empty_barcodes), :]\n",
    "dataset"
   ]
  },
  {
   "cell_type": "code",
   "execution_count": null,
   "id": "016a91e5-1bef-46fb-b91e-4fb9a6870c44",
   "metadata": {
    "execution": {
     "iopub.execute_input": "2023-05-15T09:09:40.020282Z",
     "iopub.status.busy": "2023-05-15T09:09:40.020123Z",
     "iopub.status.idle": "2023-05-15T09:09:44.606098Z",
     "shell.execute_reply": "2023-05-15T09:09:44.605618Z"
    },
    "papermill": {
     "duration": 4.59045,
     "end_time": "2023-05-15T09:09:44.607428",
     "exception": false,
     "start_time": "2023-05-15T09:09:40.016978",
     "status": "completed"
    },
    "tags": []
   },
   "outputs": [],
   "source": [
    "rna_assay = dataset.copy()\n",
    "sc.pp.normalize_per_cell(rna_assay)\n",
    "sc.pp.log1p(rna_assay)\n",
    "sc.pp.pca(rna_assay)\n",
    "sc.pp.neighbors(rna_assay)\n",
    "sc.tl.leiden(rna_assay, key_added=\"soupx_groups\")\n",
    "\n",
    "soupx_groups = rna_assay.obs[\"soupx_groups\"]\n",
    "\n",
    "del rna_assay\n",
    "\n",
    "genes = dataset.var_names\n",
    "cells = dataset.obs_names\n",
    "data = dataset.X.T.copy()"
   ]
  },
  {
   "cell_type": "code",
   "execution_count": null,
   "id": "9db4ea1f-1580-4f43-a3f0-86002397cd98",
   "metadata": {
    "execution": {
     "iopub.execute_input": "2023-05-15T09:09:44.616521Z",
     "iopub.status.busy": "2023-05-15T09:09:44.616355Z",
     "iopub.status.idle": "2023-05-15T09:09:57.636485Z",
     "shell.execute_reply": "2023-05-15T09:09:57.635912Z"
    },
    "papermill": {
     "duration": 13.024827,
     "end_time": "2023-05-15T09:09:57.637781",
     "exception": false,
     "start_time": "2023-05-15T09:09:44.612954",
     "status": "completed"
    },
    "tags": []
   },
   "outputs": [],
   "source": [
    "%%R -i data -i data_tod -i genes -i cells -i soupx_groups -o out \n",
    "set.seed(187)\n",
    "# specify row and column names of data\n",
    "rownames(data) = genes\n",
    "colnames(data) = cells\n",
    "# ensure correct sparse format for table of counts and table of droplets\n",
    "data <- as(data, \"sparseMatrix\")\n",
    "data_tod <- as(data_tod, \"sparseMatrix\")\n",
    "\n",
    "# Generate SoupChannel Object for SoupX \n",
    "sc = SoupChannel(data_tod, data, calcSoupProfile = FALSE)\n",
    "\n",
    "# Add extra meta data to the SoupChannel object\n",
    "soupProf = data.frame(row.names = rownames(data),\n",
    "                      est = rowSums(data)/sum(data),\n",
    "                      counts = rowSums(data))\n",
    "sc = setSoupProfile(sc, soupProf)\n",
    "# Set cluster information in SoupChannel\n",
    "sc = setClusters(sc, soupx_groups)\n",
    "\n",
    "# Estimate contamination fraction\n",
    "sc  = autoEstCont(sc, doPlot=FALSE, forceAccept = TRUE)\n",
    "# Infer corrected table of counts and rount to integer\n",
    "out = adjustCounts(sc, roundToInt = TRUE)"
   ]
  },
  {
   "cell_type": "code",
   "execution_count": null,
   "id": "32555d5e-5fa3-46dd-a4e0-ddc96ea265e2",
   "metadata": {
    "execution": {
     "iopub.execute_input": "2023-05-15T09:09:57.646384Z",
     "iopub.status.busy": "2023-05-15T09:09:57.646212Z",
     "iopub.status.idle": "2023-05-15T09:09:57.675887Z",
     "shell.execute_reply": "2023-05-15T09:09:57.675404Z"
    },
    "papermill": {
     "duration": 0.034326,
     "end_time": "2023-05-15T09:09:57.677177",
     "exception": false,
     "start_time": "2023-05-15T09:09:57.642851",
     "status": "completed"
    },
    "tags": []
   },
   "outputs": [],
   "source": [
    "dataset.layers[\"soupX_counts\"] = out.T\n",
    "dataset.X = dataset.layers[\"soupX_counts\"].copy()"
   ]
  },
  {
   "cell_type": "code",
   "execution_count": null,
   "id": "e27da7df-e094-4d2a-9109-5a363e012175",
   "metadata": {
    "execution": {
     "iopub.execute_input": "2023-05-15T09:09:57.684115Z",
     "iopub.status.busy": "2023-05-15T09:09:57.683920Z",
     "iopub.status.idle": "2023-05-15T09:09:57.686387Z",
     "shell.execute_reply": "2023-05-15T09:09:57.686056Z"
    },
    "papermill": {
     "duration": 0.006468,
     "end_time": "2023-05-15T09:09:57.687150",
     "exception": false,
     "start_time": "2023-05-15T09:09:57.680682",
     "status": "completed"
    },
    "tags": []
   },
   "outputs": [],
   "source": [
    "data_mat = dataset.X.T"
   ]
  },
  {
   "cell_type": "code",
   "execution_count": null,
   "id": "80a993b1-5ccb-4697-9187-1beb7ab8aff9",
   "metadata": {
    "execution": {
     "iopub.execute_input": "2023-05-15T09:09:57.693713Z",
     "iopub.status.busy": "2023-05-15T09:09:57.693542Z",
     "iopub.status.idle": "2023-05-15T09:10:14.529656Z",
     "shell.execute_reply": "2023-05-15T09:10:14.529186Z"
    },
    "papermill": {
     "duration": 16.840535,
     "end_time": "2023-05-15T09:10:14.530863",
     "exception": false,
     "start_time": "2023-05-15T09:09:57.690328",
     "status": "completed"
    },
    "tags": []
   },
   "outputs": [],
   "source": [
    "%%R -i data_mat -o droplet_class\n",
    "\n",
    "set.seed(187)\n",
    "sce = scDblFinder(\n",
    "    SingleCellExperiment(\n",
    "        list(counts=data_mat),\n",
    "    ) \n",
    ")\n",
    "droplet_class = sce$scDblFinder.class"
   ]
  },
  {
   "cell_type": "code",
   "execution_count": null,
   "id": "d4dd6e9d-fcf2-41fc-8457-c8e0a3cb2c71",
   "metadata": {
    "execution": {
     "iopub.execute_input": "2023-05-15T09:10:14.539866Z",
     "iopub.status.busy": "2023-05-15T09:10:14.539677Z",
     "iopub.status.idle": "2023-05-15T09:10:14.543874Z",
     "shell.execute_reply": "2023-05-15T09:10:14.543549Z"
    },
    "papermill": {
     "duration": 0.008402,
     "end_time": "2023-05-15T09:10:14.544648",
     "exception": false,
     "start_time": "2023-05-15T09:10:14.536246",
     "status": "completed"
    },
    "tags": []
   },
   "outputs": [],
   "source": [
    "dataset.obs[\"scDblFinder_class\"] = droplet_class\n",
    "dataset.obs.scDblFinder_class.value_counts()\n",
    "dataset"
   ]
  },
  {
   "cell_type": "code",
   "execution_count": null,
   "id": "28c95014-2d6c-477f-95cb-9f9f0507520c",
   "metadata": {
    "execution": {
     "iopub.execute_input": "2023-05-15T09:10:14.551235Z",
     "iopub.status.busy": "2023-05-15T09:10:14.551074Z",
     "iopub.status.idle": "2023-05-15T09:10:14.568351Z",
     "shell.execute_reply": "2023-05-15T09:10:14.568031Z"
    },
    "papermill": {
     "duration": 0.021767,
     "end_time": "2023-05-15T09:10:14.569139",
     "exception": false,
     "start_time": "2023-05-15T09:10:14.547372",
     "status": "completed"
    },
    "tags": []
   },
   "outputs": [],
   "source": [
    "dataset = dataset[dataset.obs[\"scDblFinder_class\"] == 1]"
   ]
  },
  {
   "cell_type": "code",
   "execution_count": null,
   "id": "3e22f9e0-bfcb-416c-a151-a9bca3bec3b9",
   "metadata": {
    "execution": {
     "iopub.execute_input": "2023-05-15T09:10:14.576382Z",
     "iopub.status.busy": "2023-05-15T09:10:14.576225Z",
     "iopub.status.idle": "2023-05-15T09:10:14.732042Z",
     "shell.execute_reply": "2023-05-15T09:10:14.731603Z"
    },
    "papermill": {
     "duration": 0.160468,
     "end_time": "2023-05-15T09:10:14.732981",
     "exception": false,
     "start_time": "2023-05-15T09:10:14.572513",
     "status": "completed"
    },
    "tags": []
   },
   "outputs": [],
   "source": [
    "# mitochondrial genes\n",
    "dataset.var[\"mt\"] = dataset.var_names.str.startswith(\"MT-\")\n",
    "# ribosomal genes\n",
    "dataset.var[\"ribo\"] = dataset.var_names.str.startswith((\"RPS\", \"RPL\"))\n",
    "# hemoglobin genes.\n",
    "dataset.var[\"hb\"] = dataset.var_names.str.contains((\"^HB[^(P)]\"))\n",
    "\n",
    "sc.pp.calculate_qc_metrics(dataset,\n",
    "                           qc_vars=['mt', 'ribo', 'hb'],\n",
    "                           percent_top=None,\n",
    "                           log1p=False,\n",
    "                           inplace=True)\n",
    "dataset"
   ]
  },
  {
   "cell_type": "code",
   "execution_count": null,
   "id": "34deee79-4043-428f-8575-aa57b45f6369",
   "metadata": {
    "execution": {
     "iopub.execute_input": "2023-05-15T09:10:14.740234Z",
     "iopub.status.busy": "2023-05-15T09:10:14.740047Z",
     "iopub.status.idle": "2023-05-15T09:10:15.192049Z",
     "shell.execute_reply": "2023-05-15T09:10:15.191633Z"
    },
    "papermill": {
     "duration": 0.456383,
     "end_time": "2023-05-15T09:10:15.192955",
     "exception": false,
     "start_time": "2023-05-15T09:10:14.736572",
     "status": "completed"
    },
    "tags": []
   },
   "outputs": [],
   "source": [
    "fig, ax = plt.subplots(ncols = 4, figsize = (16,4))\n",
    "axis = sc.pl.violin(dataset, \"n_genes_by_counts\", jitter = 0.4, ax = ax[0], show = False)\n",
    "axis.grid(False)\n",
    "axis.set_title(\"Unique Genes per cell\")\n",
    "axis.tick_params(axis = \"x\", bottom =False, labelbottom =False)\n",
    "axis.set_ylabel(\"# genes\")\n",
    "axis.axhline(y = 100, color = \"black\", label = \"cutoff\")\n",
    "axis.legend(fontsize = 14, loc = \"upper right\")\n",
    "\n",
    "axis = sc.pl.violin(dataset, \"pct_counts_mt\", jitter = 0.4, ax = ax[1], show = False)\n",
    "axis.grid(False)\n",
    "axis.set_title(\"Mitochondrial Fraction\")\n",
    "axis.tick_params(axis = \"x\", bottom =False, labelbottom =False)\n",
    "axis.set_ylabel(\"% mitochondrial genes\")\n",
    "axis.axhline(y = 10, color = \"black\", label = \"cutoff\")\n",
    "axis.legend(fontsize = 14, loc = \"upper right\")\n",
    "\n",
    "axis = sc.pl.violin(dataset, \"pct_counts_hb\", jitter = 0.4, ax = ax[2], show = False, size =2)\n",
    "axis.grid(False)\n",
    "axis.set_title(\"Hemoglobin Fraction\")\n",
    "axis.tick_params(axis = \"x\", bottom =False, labelbottom =False)\n",
    "axis.set_ylabel(\"% hemoglobin genes\")\n",
    "axis.axhline(y = 3, color = \"black\", label = \"cutoff\")\n",
    "axis.legend(fontsize = 14, loc = \"upper right\")\n",
    "#axis.set_ylim(0,5)\n",
    "\n",
    "axis = sc.pl.violin(dataset, \"pct_counts_ribo\", jitter = 0.4, ax = ax[3], show = False)\n",
    "axis.grid(False)\n",
    "axis.set_title(\"Ribosomal Fraction\")\n",
    "axis.tick_params(axis = \"x\", bottom =False, labelbottom =False)\n",
    "axis.set_ylabel(\"% ribosome genes\")\n",
    "\n",
    "plt.tight_layout()\n",
    "#plt.savefig(f\"{outputDir}08_gene_based_filtering.pdf\", dpi = 300)\n",
    "plt.show()\n",
    "\n"
   ]
  },
  {
   "cell_type": "code",
   "execution_count": null,
   "id": "d7ade754-843e-4840-8707-426613d8c0c5",
   "metadata": {
    "execution": {
     "iopub.execute_input": "2023-05-15T09:10:15.202489Z",
     "iopub.status.busy": "2023-05-15T09:10:15.202309Z",
     "iopub.status.idle": "2023-05-15T09:10:15.211239Z",
     "shell.execute_reply": "2023-05-15T09:10:15.210904Z"
    },
    "papermill": {
     "duration": 0.014262,
     "end_time": "2023-05-15T09:10:15.212001",
     "exception": false,
     "start_time": "2023-05-15T09:10:15.197739",
     "status": "completed"
    },
    "tags": []
   },
   "outputs": [],
   "source": [
    "dataset = dataset[dataset.obs.pct_counts_mt < 10, :]\n",
    "dataset = dataset[dataset.obs.n_genes_by_counts > 100, :]\n",
    "dataset = dataset[dataset.obs.pct_counts_hb < 3, :]\n",
    "dataset"
   ]
  },
  {
   "cell_type": "code",
   "execution_count": null,
   "id": "1941fa36-e865-4500-b586-f7a32d142c9b",
   "metadata": {
    "execution": {
     "iopub.execute_input": "2023-05-15T09:10:15.220764Z",
     "iopub.status.busy": "2023-05-15T09:10:15.220603Z",
     "iopub.status.idle": "2023-05-15T09:10:15.223465Z",
     "shell.execute_reply": "2023-05-15T09:10:15.223144Z"
    },
    "papermill": {
     "duration": 0.008208,
     "end_time": "2023-05-15T09:10:15.224231",
     "exception": false,
     "start_time": "2023-05-15T09:10:15.216023",
     "status": "completed"
    },
    "tags": []
   },
   "outputs": [],
   "source": [
    "metadata.columns"
   ]
  },
  {
   "cell_type": "code",
   "execution_count": null,
   "id": "2e0ff8c3-2aa9-4a01-9b88-5912a6734447",
   "metadata": {
    "execution": {
     "iopub.execute_input": "2023-05-15T09:10:15.233154Z",
     "iopub.status.busy": "2023-05-15T09:10:15.232927Z",
     "iopub.status.idle": "2023-05-15T09:10:15.279904Z",
     "shell.execute_reply": "2023-05-15T09:10:15.279384Z"
    },
    "papermill": {
     "duration": 0.05252,
     "end_time": "2023-05-15T09:10:15.280949",
     "exception": false,
     "start_time": "2023-05-15T09:10:15.228429",
     "status": "completed"
    },
    "tags": []
   },
   "outputs": [],
   "source": [
    "for col in metadata.columns:\n",
    "    dataset.obs[col] = metadata.loc[metadata[\"Run\"] == sample_name, col].to_list()[0]"
   ]
  },
  {
   "cell_type": "code",
   "execution_count": null,
   "id": "b84578d3-d63e-419c-a272-a0b8317d05ab",
   "metadata": {
    "execution": {
     "iopub.execute_input": "2023-05-15T09:10:15.290809Z",
     "iopub.status.busy": "2023-05-15T09:10:15.290621Z",
     "iopub.status.idle": "2023-05-15T09:10:15.917878Z",
     "shell.execute_reply": "2023-05-15T09:10:15.917379Z"
    },
    "papermill": {
     "duration": 0.633297,
     "end_time": "2023-05-15T09:10:15.919070",
     "exception": false,
     "start_time": "2023-05-15T09:10:15.285773",
     "status": "completed"
    },
    "tags": []
   },
   "outputs": [],
   "source": [
    "dataset.write(f\"../../int_data/{sample_name}_qc.h5ad\")"
   ]
  },
  {
   "cell_type": "code",
   "execution_count": null,
   "id": "501b33a0-432d-415f-ae82-50723484b85d",
   "metadata": {
    "execution": {
     "iopub.execute_input": "2023-05-15T09:10:15.928924Z",
     "iopub.status.busy": "2023-05-15T09:10:15.928552Z",
     "iopub.status.idle": "2023-05-15T09:10:15.931600Z",
     "shell.execute_reply": "2023-05-15T09:10:15.931265Z"
    },
    "papermill": {
     "duration": 0.008524,
     "end_time": "2023-05-15T09:10:15.932388",
     "exception": false,
     "start_time": "2023-05-15T09:10:15.923864",
     "status": "completed"
    },
    "tags": []
   },
   "outputs": [],
   "source": [
    "dataset"
   ]
  }
 ],
 "metadata": {
  "kernelspec": {
   "display_name": "py_R",
   "language": "python",
   "name": "python_r"
  },
  "language_info": {
   "codemirror_mode": {
    "name": "ipython",
    "version": 3
   },
   "file_extension": ".py",
   "mimetype": "text/x-python",
   "name": "python",
   "nbconvert_exporter": "python",
   "pygments_lexer": "ipython3",
   "version": "3.10.9"
  },
  "papermill": {
   "default_parameters": {},
   "duration": 111.946527,
   "end_time": "2023-05-15T09:10:17.454464",
   "environment_variables": {},
   "exception": null,
   "input_path": "template.ipynb",
   "output_path": "SRR13329126.ipynb",
   "parameters": {
    "sample_name": "SRR13329126"
   },
   "start_time": "2023-05-15T09:08:25.507937",
   "version": "2.4.0"
  }
 },
 "nbformat": 4,
 "nbformat_minor": 5
}
