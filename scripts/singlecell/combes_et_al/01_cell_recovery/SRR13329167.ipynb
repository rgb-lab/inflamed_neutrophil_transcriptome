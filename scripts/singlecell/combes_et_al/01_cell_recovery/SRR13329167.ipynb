{
 "cells": [
  {
   "cell_type": "code",
   "execution_count": null,
   "id": "4c0f2fa8-5232-4f47-a7ec-6c9bbabe50e2",
   "metadata": {
    "execution": {
     "iopub.execute_input": "2023-05-15T08:15:57.651412Z",
     "iopub.status.busy": "2023-05-15T08:15:57.651245Z",
     "iopub.status.idle": "2023-05-15T08:15:57.655854Z",
     "shell.execute_reply": "2023-05-15T08:15:57.655552Z"
    },
    "papermill": {
     "duration": 0.009506,
     "end_time": "2023-05-15T08:15:57.656835",
     "exception": false,
     "start_time": "2023-05-15T08:15:57.647329",
     "status": "completed"
    },
    "tags": [
     "parameters"
    ]
   },
   "outputs": [],
   "source": [
    "sample_name = \"SRR13329143\""
   ]
  },
  {
   "cell_type": "code",
   "execution_count": null,
   "id": "7cc1a775",
   "metadata": {
    "execution": {
     "iopub.execute_input": "2023-05-15T08:15:57.662197Z",
     "iopub.status.busy": "2023-05-15T08:15:57.661979Z",
     "iopub.status.idle": "2023-05-15T08:15:57.663837Z",
     "shell.execute_reply": "2023-05-15T08:15:57.663547Z"
    },
    "papermill": {
     "duration": 0.005282,
     "end_time": "2023-05-15T08:15:57.664601",
     "exception": false,
     "start_time": "2023-05-15T08:15:57.659319",
     "status": "completed"
    },
    "tags": [
     "injected-parameters"
    ]
   },
   "outputs": [],
   "source": [
    "# Parameters\n",
    "sample_name = \"SRR13329167\"\n"
   ]
  },
  {
   "cell_type": "code",
   "execution_count": null,
   "id": "f87ed95b-2b67-4a5a-8fe2-47359b1dd2a9",
   "metadata": {
    "execution": {
     "iopub.execute_input": "2023-05-15T08:15:57.669818Z",
     "iopub.status.busy": "2023-05-15T08:15:57.669594Z",
     "iopub.status.idle": "2023-05-15T08:15:57.671682Z",
     "shell.execute_reply": "2023-05-15T08:15:57.671385Z"
    },
    "papermill": {
     "duration": 0.005539,
     "end_time": "2023-05-15T08:15:57.672443",
     "exception": false,
     "start_time": "2023-05-15T08:15:57.666904",
     "status": "completed"
    },
    "tags": []
   },
   "outputs": [],
   "source": [
    "import warnings\n",
    "warnings.simplefilter(action='ignore', category=FutureWarning)\n",
    "warnings.simplefilter(action='ignore', category=UserWarning)"
   ]
  },
  {
   "cell_type": "code",
   "execution_count": null,
   "id": "85161f19-b2c5-490b-8cab-c2cf9653b304",
   "metadata": {
    "execution": {
     "iopub.execute_input": "2023-05-15T08:15:57.677723Z",
     "iopub.status.busy": "2023-05-15T08:15:57.677580Z",
     "iopub.status.idle": "2023-05-15T08:16:02.639464Z",
     "shell.execute_reply": "2023-05-15T08:16:02.638967Z"
    },
    "papermill": {
     "duration": 4.965917,
     "end_time": "2023-05-15T08:16:02.640715",
     "exception": false,
     "start_time": "2023-05-15T08:15:57.674798",
     "status": "completed"
    },
    "tags": []
   },
   "outputs": [],
   "source": [
    "import gc\n",
    "import scanpy as sc\n",
    "import muon as mu\n",
    "import seaborn as sns\n",
    "import os\n",
    "import pandas as pd\n",
    "from matplotlib import pyplot as plt\n",
    "\n",
    "os.environ['R_HOME'] = '/gpfs/bwfor/work/ws/hd_fu399-conda/conda/envs/python_R/lib/R/'\n",
    "import anndata2ri\n",
    "import logging\n",
    "\n",
    "import rpy2.rinterface_lib.callbacks as rcb\n",
    "import rpy2.robjects as ro\n",
    "\n",
    "rcb.logger.setLevel(logging.ERROR)\n",
    "ro.pandas2ri.activate()\n",
    "anndata2ri.activate()\n",
    "\n",
    "%load_ext rpy2.ipython"
   ]
  },
  {
   "cell_type": "code",
   "execution_count": null,
   "id": "fc4ade78-b728-4704-9db6-45fbaab62ba1",
   "metadata": {
    "execution": {
     "iopub.execute_input": "2023-05-15T08:16:02.649281Z",
     "iopub.status.busy": "2023-05-15T08:16:02.648978Z",
     "iopub.status.idle": "2023-05-15T08:16:14.906838Z",
     "shell.execute_reply": "2023-05-15T08:16:14.906270Z"
    },
    "papermill": {
     "duration": 12.262422,
     "end_time": "2023-05-15T08:16:14.908107",
     "exception": false,
     "start_time": "2023-05-15T08:16:02.645685",
     "status": "completed"
    },
    "tags": []
   },
   "outputs": [],
   "source": [
    "%%R\n",
    "library(SoupX)\n",
    "library(Seurat)\n",
    "library(scater)\n",
    "library(scDblFinder)\n",
    "library(BiocParallel)\n",
    "library(MuDataSeurat)\n",
    "library(DropletUtils)"
   ]
  },
  {
   "cell_type": "code",
   "execution_count": null,
   "id": "f7424d90-7690-4290-8651-1db3f9df3a35",
   "metadata": {
    "execution": {
     "iopub.execute_input": "2023-05-15T08:16:14.918755Z",
     "iopub.status.busy": "2023-05-15T08:16:14.918557Z",
     "iopub.status.idle": "2023-05-15T08:16:14.926177Z",
     "shell.execute_reply": "2023-05-15T08:16:14.925850Z"
    },
    "papermill": {
     "duration": 0.012204,
     "end_time": "2023-05-15T08:16:14.927217",
     "exception": false,
     "start_time": "2023-05-15T08:16:14.915013",
     "status": "completed"
    },
    "tags": []
   },
   "outputs": [],
   "source": [
    "metadata = pd.read_csv(\"../../combes_metadata.txt\")"
   ]
  },
  {
   "cell_type": "code",
   "execution_count": null,
   "id": "2574ecf1-bad4-4c33-8f3f-718a358727ab",
   "metadata": {
    "execution": {
     "iopub.execute_input": "2023-05-15T08:16:14.933247Z",
     "iopub.status.busy": "2023-05-15T08:16:14.933103Z",
     "iopub.status.idle": "2023-05-15T08:16:14.935303Z",
     "shell.execute_reply": "2023-05-15T08:16:14.934950Z"
    },
    "papermill": {
     "duration": 0.006142,
     "end_time": "2023-05-15T08:16:14.936065",
     "exception": false,
     "start_time": "2023-05-15T08:16:14.929923",
     "status": "completed"
    },
    "tags": []
   },
   "outputs": [],
   "source": [
    "raw_input = f\"/home/hd/hd_hd/hd_fu399/sds-hd/sd21k006/scRNAseq/revision_natcomm/combes_et_al/fetchngs/results/fastq/{sample_name}/{sample_name}/outs/raw_feature_bc_matrix.h5\""
   ]
  },
  {
   "cell_type": "code",
   "execution_count": null,
   "id": "e266d388-1802-435c-93a5-90067358739c",
   "metadata": {
    "execution": {
     "iopub.execute_input": "2023-05-15T08:16:14.941691Z",
     "iopub.status.busy": "2023-05-15T08:16:14.941450Z",
     "iopub.status.idle": "2023-05-15T08:16:15.278574Z",
     "shell.execute_reply": "2023-05-15T08:16:15.278097Z"
    },
    "papermill": {
     "duration": 0.341214,
     "end_time": "2023-05-15T08:16:15.279711",
     "exception": false,
     "start_time": "2023-05-15T08:16:14.938497",
     "status": "completed"
    },
    "tags": []
   },
   "outputs": [],
   "source": [
    "dataset = sc.read_10x_h5(raw_input)\n",
    "dataset.var_names_make_unique()\n",
    "dataset.obs_names_make_unique()\n",
    "\n",
    "dataset.layers[\"raw_counts\"] = dataset.X.copy()\n",
    "data_tod = dataset.layers[\"raw_counts\"].T.copy()\n",
    "\n",
    "dataset"
   ]
  },
  {
   "cell_type": "code",
   "execution_count": null,
   "id": "af9f5892-ed31-42a6-991b-4e096f582cef",
   "metadata": {
    "execution": {
     "iopub.execute_input": "2023-05-15T08:16:15.286386Z",
     "iopub.status.busy": "2023-05-15T08:16:15.286221Z",
     "iopub.status.idle": "2023-05-15T08:16:15.308969Z",
     "shell.execute_reply": "2023-05-15T08:16:15.308557Z"
    },
    "papermill": {
     "duration": 0.027087,
     "end_time": "2023-05-15T08:16:15.310038",
     "exception": false,
     "start_time": "2023-05-15T08:16:15.282951",
     "status": "completed"
    },
    "tags": []
   },
   "outputs": [],
   "source": [
    "sce = dataset.copy()"
   ]
  },
  {
   "cell_type": "code",
   "execution_count": null,
   "id": "d03f2caf-8e74-430e-b045-0ab80401d165",
   "metadata": {
    "execution": {
     "iopub.execute_input": "2023-05-15T08:16:15.316435Z",
     "iopub.status.busy": "2023-05-15T08:16:15.316274Z",
     "iopub.status.idle": "2023-05-15T08:16:49.763958Z",
     "shell.execute_reply": "2023-05-15T08:16:49.763354Z"
    },
    "papermill": {
     "duration": 34.452255,
     "end_time": "2023-05-15T08:16:49.765355",
     "exception": false,
     "start_time": "2023-05-15T08:16:15.313100",
     "status": "completed"
    },
    "tags": []
   },
   "outputs": [],
   "source": [
    "%%R -i sce -o empty_drop_output\n",
    "set.seed(187)\n",
    "empty_drop_output <- emptyDrops(assay(sce))"
   ]
  },
  {
   "cell_type": "code",
   "execution_count": null,
   "id": "2a34a54b-3ae2-44d6-8679-8769228c5b66",
   "metadata": {
    "execution": {
     "iopub.execute_input": "2023-05-15T08:16:49.776872Z",
     "iopub.status.busy": "2023-05-15T08:16:49.776719Z",
     "iopub.status.idle": "2023-05-15T08:16:49.795448Z",
     "shell.execute_reply": "2023-05-15T08:16:49.795131Z"
    },
    "papermill": {
     "duration": 0.022778,
     "end_time": "2023-05-15T08:16:49.796229",
     "exception": false,
     "start_time": "2023-05-15T08:16:49.773451",
     "status": "completed"
    },
    "tags": []
   },
   "outputs": [],
   "source": [
    "non_empty_barcodes = empty_drop_output[empty_drop_output[\"FDR\"] < 0.001].index\n",
    "dataset = dataset[dataset.obs.index.isin(non_empty_barcodes), :]\n",
    "dataset"
   ]
  },
  {
   "cell_type": "code",
   "execution_count": null,
   "id": "016a91e5-1bef-46fb-b91e-4fb9a6870c44",
   "metadata": {
    "execution": {
     "iopub.execute_input": "2023-05-15T08:16:49.802301Z",
     "iopub.status.busy": "2023-05-15T08:16:49.802143Z",
     "iopub.status.idle": "2023-05-15T08:16:52.444457Z",
     "shell.execute_reply": "2023-05-15T08:16:52.443954Z"
    },
    "papermill": {
     "duration": 2.646736,
     "end_time": "2023-05-15T08:16:52.445729",
     "exception": false,
     "start_time": "2023-05-15T08:16:49.798993",
     "status": "completed"
    },
    "tags": []
   },
   "outputs": [],
   "source": [
    "rna_assay = dataset.copy()\n",
    "sc.pp.normalize_per_cell(rna_assay)\n",
    "sc.pp.log1p(rna_assay)\n",
    "sc.pp.pca(rna_assay)\n",
    "sc.pp.neighbors(rna_assay)\n",
    "sc.tl.leiden(rna_assay, key_added=\"soupx_groups\")\n",
    "\n",
    "soupx_groups = rna_assay.obs[\"soupx_groups\"]\n",
    "\n",
    "del rna_assay\n",
    "\n",
    "genes = dataset.var_names\n",
    "cells = dataset.obs_names\n",
    "data = dataset.X.T.copy()"
   ]
  },
  {
   "cell_type": "code",
   "execution_count": null,
   "id": "9db4ea1f-1580-4f43-a3f0-86002397cd98",
   "metadata": {
    "execution": {
     "iopub.execute_input": "2023-05-15T08:16:52.453007Z",
     "iopub.status.busy": "2023-05-15T08:16:52.452833Z",
     "iopub.status.idle": "2023-05-15T08:17:00.091103Z",
     "shell.execute_reply": "2023-05-15T08:17:00.090638Z"
    },
    "papermill": {
     "duration": 7.643051,
     "end_time": "2023-05-15T08:17:00.092415",
     "exception": false,
     "start_time": "2023-05-15T08:16:52.449364",
     "status": "completed"
    },
    "tags": []
   },
   "outputs": [],
   "source": [
    "%%R -i data -i data_tod -i genes -i cells -i soupx_groups -o out \n",
    "set.seed(187)\n",
    "# specify row and column names of data\n",
    "rownames(data) = genes\n",
    "colnames(data) = cells\n",
    "# ensure correct sparse format for table of counts and table of droplets\n",
    "data <- as(data, \"sparseMatrix\")\n",
    "data_tod <- as(data_tod, \"sparseMatrix\")\n",
    "\n",
    "# Generate SoupChannel Object for SoupX \n",
    "sc = SoupChannel(data_tod, data, calcSoupProfile = FALSE)\n",
    "\n",
    "# Add extra meta data to the SoupChannel object\n",
    "soupProf = data.frame(row.names = rownames(data),\n",
    "                      est = rowSums(data)/sum(data),\n",
    "                      counts = rowSums(data))\n",
    "sc = setSoupProfile(sc, soupProf)\n",
    "# Set cluster information in SoupChannel\n",
    "sc = setClusters(sc, soupx_groups)\n",
    "\n",
    "# Estimate contamination fraction\n",
    "sc  = autoEstCont(sc, doPlot=FALSE, forceAccept = TRUE)\n",
    "# Infer corrected table of counts and rount to integer\n",
    "out = adjustCounts(sc, roundToInt = TRUE)"
   ]
  },
  {
   "cell_type": "code",
   "execution_count": null,
   "id": "32555d5e-5fa3-46dd-a4e0-ddc96ea265e2",
   "metadata": {
    "execution": {
     "iopub.execute_input": "2023-05-15T08:17:00.103069Z",
     "iopub.status.busy": "2023-05-15T08:17:00.102927Z",
     "iopub.status.idle": "2023-05-15T08:17:00.115891Z",
     "shell.execute_reply": "2023-05-15T08:17:00.115476Z"
    },
    "papermill": {
     "duration": 0.017663,
     "end_time": "2023-05-15T08:17:00.117129",
     "exception": false,
     "start_time": "2023-05-15T08:17:00.099466",
     "status": "completed"
    },
    "tags": []
   },
   "outputs": [],
   "source": [
    "dataset.layers[\"soupX_counts\"] = out.T\n",
    "dataset.X = dataset.layers[\"soupX_counts\"].copy()"
   ]
  },
  {
   "cell_type": "code",
   "execution_count": null,
   "id": "e27da7df-e094-4d2a-9109-5a363e012175",
   "metadata": {
    "execution": {
     "iopub.execute_input": "2023-05-15T08:17:00.124103Z",
     "iopub.status.busy": "2023-05-15T08:17:00.123962Z",
     "iopub.status.idle": "2023-05-15T08:17:00.126157Z",
     "shell.execute_reply": "2023-05-15T08:17:00.125855Z"
    },
    "papermill": {
     "duration": 0.00667,
     "end_time": "2023-05-15T08:17:00.127222",
     "exception": false,
     "start_time": "2023-05-15T08:17:00.120552",
     "status": "completed"
    },
    "tags": []
   },
   "outputs": [],
   "source": [
    "data_mat = dataset.X.T"
   ]
  },
  {
   "cell_type": "code",
   "execution_count": null,
   "id": "80a993b1-5ccb-4697-9187-1beb7ab8aff9",
   "metadata": {
    "execution": {
     "iopub.execute_input": "2023-05-15T08:17:00.133630Z",
     "iopub.status.busy": "2023-05-15T08:17:00.133369Z",
     "iopub.status.idle": "2023-05-15T08:17:15.055967Z",
     "shell.execute_reply": "2023-05-15T08:17:15.055490Z"
    },
    "papermill": {
     "duration": 14.927197,
     "end_time": "2023-05-15T08:17:15.057227",
     "exception": false,
     "start_time": "2023-05-15T08:17:00.130030",
     "status": "completed"
    },
    "tags": []
   },
   "outputs": [],
   "source": [
    "%%R -i data_mat -o droplet_class\n",
    "\n",
    "set.seed(187)\n",
    "sce = scDblFinder(\n",
    "    SingleCellExperiment(\n",
    "        list(counts=data_mat),\n",
    "    ) \n",
    ")\n",
    "droplet_class = sce$scDblFinder.class"
   ]
  },
  {
   "cell_type": "code",
   "execution_count": null,
   "id": "d4dd6e9d-fcf2-41fc-8457-c8e0a3cb2c71",
   "metadata": {
    "execution": {
     "iopub.execute_input": "2023-05-15T08:17:15.067912Z",
     "iopub.status.busy": "2023-05-15T08:17:15.067765Z",
     "iopub.status.idle": "2023-05-15T08:17:15.071686Z",
     "shell.execute_reply": "2023-05-15T08:17:15.071349Z"
    },
    "papermill": {
     "duration": 0.008189,
     "end_time": "2023-05-15T08:17:15.072467",
     "exception": false,
     "start_time": "2023-05-15T08:17:15.064278",
     "status": "completed"
    },
    "tags": []
   },
   "outputs": [],
   "source": [
    "dataset.obs[\"scDblFinder_class\"] = droplet_class\n",
    "dataset.obs.scDblFinder_class.value_counts()\n",
    "dataset"
   ]
  },
  {
   "cell_type": "code",
   "execution_count": null,
   "id": "28c95014-2d6c-477f-95cb-9f9f0507520c",
   "metadata": {
    "execution": {
     "iopub.execute_input": "2023-05-15T08:17:15.078854Z",
     "iopub.status.busy": "2023-05-15T08:17:15.078610Z",
     "iopub.status.idle": "2023-05-15T08:17:15.081319Z",
     "shell.execute_reply": "2023-05-15T08:17:15.081015Z"
    },
    "papermill": {
     "duration": 0.00681,
     "end_time": "2023-05-15T08:17:15.082095",
     "exception": false,
     "start_time": "2023-05-15T08:17:15.075285",
     "status": "completed"
    },
    "tags": []
   },
   "outputs": [],
   "source": [
    "dataset = dataset[dataset.obs[\"scDblFinder_class\"] == 1]"
   ]
  },
  {
   "cell_type": "code",
   "execution_count": null,
   "id": "3e22f9e0-bfcb-416c-a151-a9bca3bec3b9",
   "metadata": {
    "execution": {
     "iopub.execute_input": "2023-05-15T08:17:15.088512Z",
     "iopub.status.busy": "2023-05-15T08:17:15.088302Z",
     "iopub.status.idle": "2023-05-15T08:17:15.167544Z",
     "shell.execute_reply": "2023-05-15T08:17:15.167119Z"
    },
    "papermill": {
     "duration": 0.083442,
     "end_time": "2023-05-15T08:17:15.168387",
     "exception": false,
     "start_time": "2023-05-15T08:17:15.084945",
     "status": "completed"
    },
    "tags": []
   },
   "outputs": [],
   "source": [
    "# mitochondrial genes\n",
    "dataset.var[\"mt\"] = dataset.var_names.str.startswith(\"MT-\")\n",
    "# ribosomal genes\n",
    "dataset.var[\"ribo\"] = dataset.var_names.str.startswith((\"RPS\", \"RPL\"))\n",
    "# hemoglobin genes.\n",
    "dataset.var[\"hb\"] = dataset.var_names.str.contains((\"^HB[^(P)]\"))\n",
    "\n",
    "sc.pp.calculate_qc_metrics(dataset,\n",
    "                           qc_vars=['mt', 'ribo', 'hb'],\n",
    "                           percent_top=None,\n",
    "                           log1p=False,\n",
    "                           inplace=True)\n",
    "dataset"
   ]
  },
  {
   "cell_type": "code",
   "execution_count": null,
   "id": "34deee79-4043-428f-8575-aa57b45f6369",
   "metadata": {
    "execution": {
     "iopub.execute_input": "2023-05-15T08:17:15.175740Z",
     "iopub.status.busy": "2023-05-15T08:17:15.175578Z",
     "iopub.status.idle": "2023-05-15T08:17:15.593982Z",
     "shell.execute_reply": "2023-05-15T08:17:15.593616Z"
    },
    "papermill": {
     "duration": 0.423037,
     "end_time": "2023-05-15T08:17:15.595031",
     "exception": false,
     "start_time": "2023-05-15T08:17:15.171994",
     "status": "completed"
    },
    "tags": []
   },
   "outputs": [],
   "source": [
    "fig, ax = plt.subplots(ncols = 4, figsize = (16,4))\n",
    "axis = sc.pl.violin(dataset, \"n_genes_by_counts\", jitter = 0.4, ax = ax[0], show = False)\n",
    "axis.grid(False)\n",
    "axis.set_title(\"Unique Genes per cell\")\n",
    "axis.tick_params(axis = \"x\", bottom =False, labelbottom =False)\n",
    "axis.set_ylabel(\"# genes\")\n",
    "axis.axhline(y = 100, color = \"black\", label = \"cutoff\")\n",
    "axis.legend(fontsize = 14, loc = \"upper right\")\n",
    "\n",
    "axis = sc.pl.violin(dataset, \"pct_counts_mt\", jitter = 0.4, ax = ax[1], show = False)\n",
    "axis.grid(False)\n",
    "axis.set_title(\"Mitochondrial Fraction\")\n",
    "axis.tick_params(axis = \"x\", bottom =False, labelbottom =False)\n",
    "axis.set_ylabel(\"% mitochondrial genes\")\n",
    "axis.axhline(y = 10, color = \"black\", label = \"cutoff\")\n",
    "axis.legend(fontsize = 14, loc = \"upper right\")\n",
    "\n",
    "axis = sc.pl.violin(dataset, \"pct_counts_hb\", jitter = 0.4, ax = ax[2], show = False, size =2)\n",
    "axis.grid(False)\n",
    "axis.set_title(\"Hemoglobin Fraction\")\n",
    "axis.tick_params(axis = \"x\", bottom =False, labelbottom =False)\n",
    "axis.set_ylabel(\"% hemoglobin genes\")\n",
    "axis.axhline(y = 3, color = \"black\", label = \"cutoff\")\n",
    "axis.legend(fontsize = 14, loc = \"upper right\")\n",
    "#axis.set_ylim(0,5)\n",
    "\n",
    "axis = sc.pl.violin(dataset, \"pct_counts_ribo\", jitter = 0.4, ax = ax[3], show = False)\n",
    "axis.grid(False)\n",
    "axis.set_title(\"Ribosomal Fraction\")\n",
    "axis.tick_params(axis = \"x\", bottom =False, labelbottom =False)\n",
    "axis.set_ylabel(\"% ribosome genes\")\n",
    "\n",
    "plt.tight_layout()\n",
    "#plt.savefig(f\"{outputDir}08_gene_based_filtering.pdf\", dpi = 300)\n",
    "plt.show()\n",
    "\n"
   ]
  },
  {
   "cell_type": "code",
   "execution_count": null,
   "id": "d7ade754-843e-4840-8707-426613d8c0c5",
   "metadata": {
    "execution": {
     "iopub.execute_input": "2023-05-15T08:17:15.604697Z",
     "iopub.status.busy": "2023-05-15T08:17:15.604530Z",
     "iopub.status.idle": "2023-05-15T08:17:15.613160Z",
     "shell.execute_reply": "2023-05-15T08:17:15.612794Z"
    },
    "papermill": {
     "duration": 0.014209,
     "end_time": "2023-05-15T08:17:15.613959",
     "exception": false,
     "start_time": "2023-05-15T08:17:15.599750",
     "status": "completed"
    },
    "tags": []
   },
   "outputs": [],
   "source": [
    "dataset = dataset[dataset.obs.pct_counts_mt < 10, :]\n",
    "dataset = dataset[dataset.obs.n_genes_by_counts > 100, :]\n",
    "dataset = dataset[dataset.obs.pct_counts_hb < 3, :]\n",
    "dataset"
   ]
  },
  {
   "cell_type": "code",
   "execution_count": null,
   "id": "1941fa36-e865-4500-b586-f7a32d142c9b",
   "metadata": {
    "execution": {
     "iopub.execute_input": "2023-05-15T08:17:15.623223Z",
     "iopub.status.busy": "2023-05-15T08:17:15.623061Z",
     "iopub.status.idle": "2023-05-15T08:17:15.625852Z",
     "shell.execute_reply": "2023-05-15T08:17:15.625547Z"
    },
    "papermill": {
     "duration": 0.008305,
     "end_time": "2023-05-15T08:17:15.626655",
     "exception": false,
     "start_time": "2023-05-15T08:17:15.618350",
     "status": "completed"
    },
    "tags": []
   },
   "outputs": [],
   "source": [
    "metadata.columns"
   ]
  },
  {
   "cell_type": "code",
   "execution_count": null,
   "id": "2e0ff8c3-2aa9-4a01-9b88-5912a6734447",
   "metadata": {
    "execution": {
     "iopub.execute_input": "2023-05-15T08:17:15.635889Z",
     "iopub.status.busy": "2023-05-15T08:17:15.635634Z",
     "iopub.status.idle": "2023-05-15T08:17:15.660207Z",
     "shell.execute_reply": "2023-05-15T08:17:15.659798Z"
    },
    "papermill": {
     "duration": 0.030569,
     "end_time": "2023-05-15T08:17:15.661429",
     "exception": false,
     "start_time": "2023-05-15T08:17:15.630860",
     "status": "completed"
    },
    "tags": []
   },
   "outputs": [],
   "source": [
    "for col in metadata.columns:\n",
    "    dataset.obs[col] = metadata.loc[metadata[\"Run\"] == sample_name, col].to_list()[0]"
   ]
  },
  {
   "cell_type": "code",
   "execution_count": null,
   "id": "b84578d3-d63e-419c-a272-a0b8317d05ab",
   "metadata": {
    "execution": {
     "iopub.execute_input": "2023-05-15T08:17:15.671903Z",
     "iopub.status.busy": "2023-05-15T08:17:15.671732Z",
     "iopub.status.idle": "2023-05-15T08:17:16.098711Z",
     "shell.execute_reply": "2023-05-15T08:17:16.098224Z"
    },
    "papermill": {
     "duration": 0.433621,
     "end_time": "2023-05-15T08:17:16.100055",
     "exception": false,
     "start_time": "2023-05-15T08:17:15.666434",
     "status": "completed"
    },
    "tags": []
   },
   "outputs": [],
   "source": [
    "dataset.write(f\"../../int_data/{sample_name}_qc.h5ad\")"
   ]
  },
  {
   "cell_type": "code",
   "execution_count": null,
   "id": "501b33a0-432d-415f-ae82-50723484b85d",
   "metadata": {
    "execution": {
     "iopub.execute_input": "2023-05-15T08:17:16.110028Z",
     "iopub.status.busy": "2023-05-15T08:17:16.109883Z",
     "iopub.status.idle": "2023-05-15T08:17:16.112780Z",
     "shell.execute_reply": "2023-05-15T08:17:16.112457Z"
    },
    "papermill": {
     "duration": 0.008504,
     "end_time": "2023-05-15T08:17:16.113570",
     "exception": false,
     "start_time": "2023-05-15T08:17:16.105066",
     "status": "completed"
    },
    "tags": []
   },
   "outputs": [],
   "source": [
    "dataset"
   ]
  }
 ],
 "metadata": {
  "kernelspec": {
   "display_name": "py_R",
   "language": "python",
   "name": "python_r"
  },
  "language_info": {
   "codemirror_mode": {
    "name": "ipython",
    "version": 3
   },
   "file_extension": ".py",
   "mimetype": "text/x-python",
   "name": "python",
   "nbconvert_exporter": "python",
   "pygments_lexer": "ipython3",
   "version": "3.10.9"
  },
  "papermill": {
   "default_parameters": {},
   "duration": 81.130843,
   "end_time": "2023-05-15T08:17:17.435553",
   "environment_variables": {},
   "exception": null,
   "input_path": "template.ipynb",
   "output_path": "SRR13329167.ipynb",
   "parameters": {
    "sample_name": "SRR13329167"
   },
   "start_time": "2023-05-15T08:15:56.304710",
   "version": "2.4.0"
  }
 },
 "nbformat": 4,
 "nbformat_minor": 5
}
