{
 "cells": [
  {
   "cell_type": "code",
   "execution_count": null,
   "id": "4c0f2fa8-5232-4f47-a7ec-6c9bbabe50e2",
   "metadata": {
    "execution": {
     "iopub.execute_input": "2023-05-15T08:39:02.767448Z",
     "iopub.status.busy": "2023-05-15T08:39:02.767283Z",
     "iopub.status.idle": "2023-05-15T08:39:02.771730Z",
     "shell.execute_reply": "2023-05-15T08:39:02.771421Z"
    },
    "papermill": {
     "duration": 0.009044,
     "end_time": "2023-05-15T08:39:02.772605",
     "exception": false,
     "start_time": "2023-05-15T08:39:02.763561",
     "status": "completed"
    },
    "tags": [
     "parameters"
    ]
   },
   "outputs": [],
   "source": [
    "sample_name = \"SRR13329143\""
   ]
  },
  {
   "cell_type": "code",
   "execution_count": null,
   "id": "206479b8",
   "metadata": {
    "execution": {
     "iopub.execute_input": "2023-05-15T08:39:02.777955Z",
     "iopub.status.busy": "2023-05-15T08:39:02.777832Z",
     "iopub.status.idle": "2023-05-15T08:39:02.779742Z",
     "shell.execute_reply": "2023-05-15T08:39:02.779441Z"
    },
    "papermill": {
     "duration": 0.005394,
     "end_time": "2023-05-15T08:39:02.780479",
     "exception": false,
     "start_time": "2023-05-15T08:39:02.775085",
     "status": "completed"
    },
    "tags": [
     "injected-parameters"
    ]
   },
   "outputs": [],
   "source": [
    "# Parameters\n",
    "sample_name = \"SRR13329153\"\n"
   ]
  },
  {
   "cell_type": "code",
   "execution_count": null,
   "id": "f87ed95b-2b67-4a5a-8fe2-47359b1dd2a9",
   "metadata": {
    "execution": {
     "iopub.execute_input": "2023-05-15T08:39:02.785639Z",
     "iopub.status.busy": "2023-05-15T08:39:02.785516Z",
     "iopub.status.idle": "2023-05-15T08:39:02.787671Z",
     "shell.execute_reply": "2023-05-15T08:39:02.787376Z"
    },
    "papermill": {
     "duration": 0.005612,
     "end_time": "2023-05-15T08:39:02.788415",
     "exception": false,
     "start_time": "2023-05-15T08:39:02.782803",
     "status": "completed"
    },
    "tags": []
   },
   "outputs": [],
   "source": [
    "import warnings\n",
    "warnings.simplefilter(action='ignore', category=FutureWarning)\n",
    "warnings.simplefilter(action='ignore', category=UserWarning)"
   ]
  },
  {
   "cell_type": "code",
   "execution_count": null,
   "id": "85161f19-b2c5-490b-8cab-c2cf9653b304",
   "metadata": {
    "execution": {
     "iopub.execute_input": "2023-05-15T08:39:02.793801Z",
     "iopub.status.busy": "2023-05-15T08:39:02.793510Z",
     "iopub.status.idle": "2023-05-15T08:39:07.614351Z",
     "shell.execute_reply": "2023-05-15T08:39:07.613885Z"
    },
    "papermill": {
     "duration": 4.824887,
     "end_time": "2023-05-15T08:39:07.615719",
     "exception": false,
     "start_time": "2023-05-15T08:39:02.790832",
     "status": "completed"
    },
    "tags": []
   },
   "outputs": [],
   "source": [
    "import gc\n",
    "import scanpy as sc\n",
    "import muon as mu\n",
    "import seaborn as sns\n",
    "import os\n",
    "import pandas as pd\n",
    "from matplotlib import pyplot as plt\n",
    "\n",
    "os.environ['R_HOME'] = '/gpfs/bwfor/work/ws/hd_fu399-conda/conda/envs/python_R/lib/R/'\n",
    "import anndata2ri\n",
    "import logging\n",
    "\n",
    "import rpy2.rinterface_lib.callbacks as rcb\n",
    "import rpy2.robjects as ro\n",
    "\n",
    "rcb.logger.setLevel(logging.ERROR)\n",
    "ro.pandas2ri.activate()\n",
    "anndata2ri.activate()\n",
    "\n",
    "%load_ext rpy2.ipython"
   ]
  },
  {
   "cell_type": "code",
   "execution_count": null,
   "id": "fc4ade78-b728-4704-9db6-45fbaab62ba1",
   "metadata": {
    "execution": {
     "iopub.execute_input": "2023-05-15T08:39:07.625832Z",
     "iopub.status.busy": "2023-05-15T08:39:07.625530Z",
     "iopub.status.idle": "2023-05-15T08:39:19.582180Z",
     "shell.execute_reply": "2023-05-15T08:39:19.581696Z"
    },
    "papermill": {
     "duration": 11.961096,
     "end_time": "2023-05-15T08:39:19.583483",
     "exception": false,
     "start_time": "2023-05-15T08:39:07.622387",
     "status": "completed"
    },
    "tags": []
   },
   "outputs": [],
   "source": [
    "%%R\n",
    "library(SoupX)\n",
    "library(Seurat)\n",
    "library(scater)\n",
    "library(scDblFinder)\n",
    "library(BiocParallel)\n",
    "library(MuDataSeurat)\n",
    "library(DropletUtils)"
   ]
  },
  {
   "cell_type": "code",
   "execution_count": null,
   "id": "f7424d90-7690-4290-8651-1db3f9df3a35",
   "metadata": {
    "execution": {
     "iopub.execute_input": "2023-05-15T08:39:19.594273Z",
     "iopub.status.busy": "2023-05-15T08:39:19.594089Z",
     "iopub.status.idle": "2023-05-15T08:39:19.600023Z",
     "shell.execute_reply": "2023-05-15T08:39:19.599679Z"
    },
    "papermill": {
     "duration": 0.010412,
     "end_time": "2023-05-15T08:39:19.600900",
     "exception": false,
     "start_time": "2023-05-15T08:39:19.590488",
     "status": "completed"
    },
    "tags": []
   },
   "outputs": [],
   "source": [
    "metadata = pd.read_csv(\"../../combes_metadata.txt\")"
   ]
  },
  {
   "cell_type": "code",
   "execution_count": null,
   "id": "2574ecf1-bad4-4c33-8f3f-718a358727ab",
   "metadata": {
    "execution": {
     "iopub.execute_input": "2023-05-15T08:39:19.606661Z",
     "iopub.status.busy": "2023-05-15T08:39:19.606521Z",
     "iopub.status.idle": "2023-05-15T08:39:19.608575Z",
     "shell.execute_reply": "2023-05-15T08:39:19.608273Z"
    },
    "papermill": {
     "duration": 0.005877,
     "end_time": "2023-05-15T08:39:19.609345",
     "exception": false,
     "start_time": "2023-05-15T08:39:19.603468",
     "status": "completed"
    },
    "tags": []
   },
   "outputs": [],
   "source": [
    "raw_input = f\"/home/hd/hd_hd/hd_fu399/sds-hd/sd21k006/scRNAseq/revision_natcomm/combes_et_al/fetchngs/results/fastq/{sample_name}/{sample_name}/outs/raw_feature_bc_matrix.h5\""
   ]
  },
  {
   "cell_type": "code",
   "execution_count": null,
   "id": "e266d388-1802-435c-93a5-90067358739c",
   "metadata": {
    "execution": {
     "iopub.execute_input": "2023-05-15T08:39:19.615166Z",
     "iopub.status.busy": "2023-05-15T08:39:19.615015Z",
     "iopub.status.idle": "2023-05-15T08:39:20.123983Z",
     "shell.execute_reply": "2023-05-15T08:39:20.123555Z"
    },
    "papermill": {
     "duration": 0.512996,
     "end_time": "2023-05-15T08:39:20.124911",
     "exception": false,
     "start_time": "2023-05-15T08:39:19.611915",
     "status": "completed"
    },
    "tags": []
   },
   "outputs": [],
   "source": [
    "dataset = sc.read_10x_h5(raw_input)\n",
    "dataset.var_names_make_unique()\n",
    "dataset.obs_names_make_unique()\n",
    "\n",
    "dataset.layers[\"raw_counts\"] = dataset.X.copy()\n",
    "data_tod = dataset.layers[\"raw_counts\"].T.copy()\n",
    "\n",
    "dataset"
   ]
  },
  {
   "cell_type": "code",
   "execution_count": null,
   "id": "af9f5892-ed31-42a6-991b-4e096f582cef",
   "metadata": {
    "execution": {
     "iopub.execute_input": "2023-05-15T08:39:20.131505Z",
     "iopub.status.busy": "2023-05-15T08:39:20.131319Z",
     "iopub.status.idle": "2023-05-15T08:39:20.164696Z",
     "shell.execute_reply": "2023-05-15T08:39:20.164215Z"
    },
    "papermill": {
     "duration": 0.038028,
     "end_time": "2023-05-15T08:39:20.166007",
     "exception": false,
     "start_time": "2023-05-15T08:39:20.127979",
     "status": "completed"
    },
    "tags": []
   },
   "outputs": [],
   "source": [
    "sce = dataset.copy()"
   ]
  },
  {
   "cell_type": "code",
   "execution_count": null,
   "id": "d03f2caf-8e74-430e-b045-0ab80401d165",
   "metadata": {
    "execution": {
     "iopub.execute_input": "2023-05-15T08:39:20.172510Z",
     "iopub.status.busy": "2023-05-15T08:39:20.172348Z",
     "iopub.status.idle": "2023-05-15T08:40:00.756447Z",
     "shell.execute_reply": "2023-05-15T08:40:00.755846Z"
    },
    "papermill": {
     "duration": 40.588784,
     "end_time": "2023-05-15T08:40:00.757851",
     "exception": false,
     "start_time": "2023-05-15T08:39:20.169067",
     "status": "completed"
    },
    "tags": []
   },
   "outputs": [],
   "source": [
    "%%R -i sce -o empty_drop_output\n",
    "set.seed(187)\n",
    "empty_drop_output <- emptyDrops(assay(sce))"
   ]
  },
  {
   "cell_type": "code",
   "execution_count": null,
   "id": "2a34a54b-3ae2-44d6-8679-8769228c5b66",
   "metadata": {
    "execution": {
     "iopub.execute_input": "2023-05-15T08:40:01.917384Z",
     "iopub.status.busy": "2023-05-15T08:40:01.917193Z",
     "iopub.status.idle": "2023-05-15T08:40:01.954150Z",
     "shell.execute_reply": "2023-05-15T08:40:01.953798Z"
    },
    "papermill": {
     "duration": 0.04171,
     "end_time": "2023-05-15T08:40:01.955054",
     "exception": false,
     "start_time": "2023-05-15T08:40:01.913344",
     "status": "completed"
    },
    "tags": []
   },
   "outputs": [],
   "source": [
    "non_empty_barcodes = empty_drop_output[empty_drop_output[\"FDR\"] < 0.001].index\n",
    "dataset = dataset[dataset.obs.index.isin(non_empty_barcodes), :]\n",
    "dataset"
   ]
  },
  {
   "cell_type": "code",
   "execution_count": null,
   "id": "016a91e5-1bef-46fb-b91e-4fb9a6870c44",
   "metadata": {
    "execution": {
     "iopub.execute_input": "2023-05-15T08:40:01.961203Z",
     "iopub.status.busy": "2023-05-15T08:40:01.961046Z",
     "iopub.status.idle": "2023-05-15T08:40:05.841626Z",
     "shell.execute_reply": "2023-05-15T08:40:05.841143Z"
    },
    "papermill": {
     "duration": 3.885115,
     "end_time": "2023-05-15T08:40:05.842987",
     "exception": false,
     "start_time": "2023-05-15T08:40:01.957872",
     "status": "completed"
    },
    "tags": []
   },
   "outputs": [],
   "source": [
    "rna_assay = dataset.copy()\n",
    "sc.pp.normalize_per_cell(rna_assay)\n",
    "sc.pp.log1p(rna_assay)\n",
    "sc.pp.pca(rna_assay)\n",
    "sc.pp.neighbors(rna_assay)\n",
    "sc.tl.leiden(rna_assay, key_added=\"soupx_groups\")\n",
    "\n",
    "soupx_groups = rna_assay.obs[\"soupx_groups\"]\n",
    "\n",
    "del rna_assay\n",
    "\n",
    "genes = dataset.var_names\n",
    "cells = dataset.obs_names\n",
    "data = dataset.X.T.copy()"
   ]
  },
  {
   "cell_type": "code",
   "execution_count": null,
   "id": "9db4ea1f-1580-4f43-a3f0-86002397cd98",
   "metadata": {
    "execution": {
     "iopub.execute_input": "2023-05-15T08:40:05.851142Z",
     "iopub.status.busy": "2023-05-15T08:40:05.851005Z",
     "iopub.status.idle": "2023-05-15T08:40:15.284620Z",
     "shell.execute_reply": "2023-05-15T08:40:15.284135Z"
    },
    "papermill": {
     "duration": 9.438158,
     "end_time": "2023-05-15T08:40:15.285938",
     "exception": false,
     "start_time": "2023-05-15T08:40:05.847780",
     "status": "completed"
    },
    "tags": []
   },
   "outputs": [],
   "source": [
    "%%R -i data -i data_tod -i genes -i cells -i soupx_groups -o out \n",
    "set.seed(187)\n",
    "# specify row and column names of data\n",
    "rownames(data) = genes\n",
    "colnames(data) = cells\n",
    "# ensure correct sparse format for table of counts and table of droplets\n",
    "data <- as(data, \"sparseMatrix\")\n",
    "data_tod <- as(data_tod, \"sparseMatrix\")\n",
    "\n",
    "# Generate SoupChannel Object for SoupX \n",
    "sc = SoupChannel(data_tod, data, calcSoupProfile = FALSE)\n",
    "\n",
    "# Add extra meta data to the SoupChannel object\n",
    "soupProf = data.frame(row.names = rownames(data),\n",
    "                      est = rowSums(data)/sum(data),\n",
    "                      counts = rowSums(data))\n",
    "sc = setSoupProfile(sc, soupProf)\n",
    "# Set cluster information in SoupChannel\n",
    "sc = setClusters(sc, soupx_groups)\n",
    "\n",
    "# Estimate contamination fraction\n",
    "sc  = autoEstCont(sc, doPlot=FALSE, forceAccept = TRUE)\n",
    "# Infer corrected table of counts and rount to integer\n",
    "out = adjustCounts(sc, roundToInt = TRUE)"
   ]
  },
  {
   "cell_type": "code",
   "execution_count": null,
   "id": "32555d5e-5fa3-46dd-a4e0-ddc96ea265e2",
   "metadata": {
    "execution": {
     "iopub.execute_input": "2023-05-15T08:40:15.296295Z",
     "iopub.status.busy": "2023-05-15T08:40:15.296134Z",
     "iopub.status.idle": "2023-05-15T08:40:15.314743Z",
     "shell.execute_reply": "2023-05-15T08:40:15.314276Z"
    },
    "papermill": {
     "duration": 0.02363,
     "end_time": "2023-05-15T08:40:15.315842",
     "exception": false,
     "start_time": "2023-05-15T08:40:15.292212",
     "status": "completed"
    },
    "tags": []
   },
   "outputs": [],
   "source": [
    "dataset.layers[\"soupX_counts\"] = out.T\n",
    "dataset.X = dataset.layers[\"soupX_counts\"].copy()"
   ]
  },
  {
   "cell_type": "code",
   "execution_count": null,
   "id": "e27da7df-e094-4d2a-9109-5a363e012175",
   "metadata": {
    "execution": {
     "iopub.execute_input": "2023-05-15T08:40:15.322768Z",
     "iopub.status.busy": "2023-05-15T08:40:15.322577Z",
     "iopub.status.idle": "2023-05-15T08:40:15.325024Z",
     "shell.execute_reply": "2023-05-15T08:40:15.324689Z"
    },
    "papermill": {
     "duration": 0.006753,
     "end_time": "2023-05-15T08:40:15.325837",
     "exception": false,
     "start_time": "2023-05-15T08:40:15.319084",
     "status": "completed"
    },
    "tags": []
   },
   "outputs": [],
   "source": [
    "data_mat = dataset.X.T"
   ]
  },
  {
   "cell_type": "code",
   "execution_count": null,
   "id": "80a993b1-5ccb-4697-9187-1beb7ab8aff9",
   "metadata": {
    "execution": {
     "iopub.execute_input": "2023-05-15T08:40:15.332314Z",
     "iopub.status.busy": "2023-05-15T08:40:15.332117Z",
     "iopub.status.idle": "2023-05-15T08:40:29.987943Z",
     "shell.execute_reply": "2023-05-15T08:40:29.987469Z"
    },
    "papermill": {
     "duration": 14.660577,
     "end_time": "2023-05-15T08:40:29.989241",
     "exception": false,
     "start_time": "2023-05-15T08:40:15.328664",
     "status": "completed"
    },
    "tags": []
   },
   "outputs": [],
   "source": [
    "%%R -i data_mat -o droplet_class\n",
    "\n",
    "set.seed(187)\n",
    "sce = scDblFinder(\n",
    "    SingleCellExperiment(\n",
    "        list(counts=data_mat),\n",
    "    ) \n",
    ")\n",
    "droplet_class = sce$scDblFinder.class"
   ]
  },
  {
   "cell_type": "code",
   "execution_count": null,
   "id": "d4dd6e9d-fcf2-41fc-8457-c8e0a3cb2c71",
   "metadata": {
    "execution": {
     "iopub.execute_input": "2023-05-15T08:40:30.000389Z",
     "iopub.status.busy": "2023-05-15T08:40:30.000230Z",
     "iopub.status.idle": "2023-05-15T08:40:30.004788Z",
     "shell.execute_reply": "2023-05-15T08:40:30.004463Z"
    },
    "papermill": {
     "duration": 0.008918,
     "end_time": "2023-05-15T08:40:30.005551",
     "exception": false,
     "start_time": "2023-05-15T08:40:29.996633",
     "status": "completed"
    },
    "tags": []
   },
   "outputs": [],
   "source": [
    "dataset.obs[\"scDblFinder_class\"] = droplet_class\n",
    "dataset.obs.scDblFinder_class.value_counts()\n",
    "dataset"
   ]
  },
  {
   "cell_type": "code",
   "execution_count": null,
   "id": "28c95014-2d6c-477f-95cb-9f9f0507520c",
   "metadata": {
    "execution": {
     "iopub.execute_input": "2023-05-15T08:40:30.011944Z",
     "iopub.status.busy": "2023-05-15T08:40:30.011788Z",
     "iopub.status.idle": "2023-05-15T08:40:30.016433Z",
     "shell.execute_reply": "2023-05-15T08:40:30.016120Z"
    },
    "papermill": {
     "duration": 0.00878,
     "end_time": "2023-05-15T08:40:30.017203",
     "exception": false,
     "start_time": "2023-05-15T08:40:30.008423",
     "status": "completed"
    },
    "tags": []
   },
   "outputs": [],
   "source": [
    "dataset = dataset[dataset.obs[\"scDblFinder_class\"] == 1]"
   ]
  },
  {
   "cell_type": "code",
   "execution_count": null,
   "id": "3e22f9e0-bfcb-416c-a151-a9bca3bec3b9",
   "metadata": {
    "execution": {
     "iopub.execute_input": "2023-05-15T08:40:30.023796Z",
     "iopub.status.busy": "2023-05-15T08:40:30.023531Z",
     "iopub.status.idle": "2023-05-15T08:40:30.125344Z",
     "shell.execute_reply": "2023-05-15T08:40:30.124859Z"
    },
    "papermill": {
     "duration": 0.106166,
     "end_time": "2023-05-15T08:40:30.126291",
     "exception": false,
     "start_time": "2023-05-15T08:40:30.020125",
     "status": "completed"
    },
    "tags": []
   },
   "outputs": [],
   "source": [
    "# mitochondrial genes\n",
    "dataset.var[\"mt\"] = dataset.var_names.str.startswith(\"MT-\")\n",
    "# ribosomal genes\n",
    "dataset.var[\"ribo\"] = dataset.var_names.str.startswith((\"RPS\", \"RPL\"))\n",
    "# hemoglobin genes.\n",
    "dataset.var[\"hb\"] = dataset.var_names.str.contains((\"^HB[^(P)]\"))\n",
    "\n",
    "sc.pp.calculate_qc_metrics(dataset,\n",
    "                           qc_vars=['mt', 'ribo', 'hb'],\n",
    "                           percent_top=None,\n",
    "                           log1p=False,\n",
    "                           inplace=True)\n",
    "dataset"
   ]
  },
  {
   "cell_type": "code",
   "execution_count": null,
   "id": "34deee79-4043-428f-8575-aa57b45f6369",
   "metadata": {
    "execution": {
     "iopub.execute_input": "2023-05-15T08:40:30.133668Z",
     "iopub.status.busy": "2023-05-15T08:40:30.133488Z",
     "iopub.status.idle": "2023-05-15T08:40:30.599009Z",
     "shell.execute_reply": "2023-05-15T08:40:30.598627Z"
    },
    "papermill": {
     "duration": 0.470475,
     "end_time": "2023-05-15T08:40:30.600409",
     "exception": false,
     "start_time": "2023-05-15T08:40:30.129934",
     "status": "completed"
    },
    "tags": []
   },
   "outputs": [],
   "source": [
    "fig, ax = plt.subplots(ncols = 4, figsize = (16,4))\n",
    "axis = sc.pl.violin(dataset, \"n_genes_by_counts\", jitter = 0.4, ax = ax[0], show = False)\n",
    "axis.grid(False)\n",
    "axis.set_title(\"Unique Genes per cell\")\n",
    "axis.tick_params(axis = \"x\", bottom =False, labelbottom =False)\n",
    "axis.set_ylabel(\"# genes\")\n",
    "axis.axhline(y = 100, color = \"black\", label = \"cutoff\")\n",
    "axis.legend(fontsize = 14, loc = \"upper right\")\n",
    "\n",
    "axis = sc.pl.violin(dataset, \"pct_counts_mt\", jitter = 0.4, ax = ax[1], show = False)\n",
    "axis.grid(False)\n",
    "axis.set_title(\"Mitochondrial Fraction\")\n",
    "axis.tick_params(axis = \"x\", bottom =False, labelbottom =False)\n",
    "axis.set_ylabel(\"% mitochondrial genes\")\n",
    "axis.axhline(y = 10, color = \"black\", label = \"cutoff\")\n",
    "axis.legend(fontsize = 14, loc = \"upper right\")\n",
    "\n",
    "axis = sc.pl.violin(dataset, \"pct_counts_hb\", jitter = 0.4, ax = ax[2], show = False, size =2)\n",
    "axis.grid(False)\n",
    "axis.set_title(\"Hemoglobin Fraction\")\n",
    "axis.tick_params(axis = \"x\", bottom =False, labelbottom =False)\n",
    "axis.set_ylabel(\"% hemoglobin genes\")\n",
    "axis.axhline(y = 3, color = \"black\", label = \"cutoff\")\n",
    "axis.legend(fontsize = 14, loc = \"upper right\")\n",
    "#axis.set_ylim(0,5)\n",
    "\n",
    "axis = sc.pl.violin(dataset, \"pct_counts_ribo\", jitter = 0.4, ax = ax[3], show = False)\n",
    "axis.grid(False)\n",
    "axis.set_title(\"Ribosomal Fraction\")\n",
    "axis.tick_params(axis = \"x\", bottom =False, labelbottom =False)\n",
    "axis.set_ylabel(\"% ribosome genes\")\n",
    "\n",
    "plt.tight_layout()\n",
    "#plt.savefig(f\"{outputDir}08_gene_based_filtering.pdf\", dpi = 300)\n",
    "plt.show()\n",
    "\n"
   ]
  },
  {
   "cell_type": "code",
   "execution_count": null,
   "id": "d7ade754-843e-4840-8707-426613d8c0c5",
   "metadata": {
    "execution": {
     "iopub.execute_input": "2023-05-15T08:40:30.609740Z",
     "iopub.status.busy": "2023-05-15T08:40:30.609439Z",
     "iopub.status.idle": "2023-05-15T08:40:30.618629Z",
     "shell.execute_reply": "2023-05-15T08:40:30.618300Z"
    },
    "papermill": {
     "duration": 0.014551,
     "end_time": "2023-05-15T08:40:30.619409",
     "exception": false,
     "start_time": "2023-05-15T08:40:30.604858",
     "status": "completed"
    },
    "tags": []
   },
   "outputs": [],
   "source": [
    "dataset = dataset[dataset.obs.pct_counts_mt < 10, :]\n",
    "dataset = dataset[dataset.obs.n_genes_by_counts > 100, :]\n",
    "dataset = dataset[dataset.obs.pct_counts_hb < 3, :]\n",
    "dataset"
   ]
  },
  {
   "cell_type": "code",
   "execution_count": null,
   "id": "1941fa36-e865-4500-b586-f7a32d142c9b",
   "metadata": {
    "execution": {
     "iopub.execute_input": "2023-05-15T08:40:30.628259Z",
     "iopub.status.busy": "2023-05-15T08:40:30.628068Z",
     "iopub.status.idle": "2023-05-15T08:40:30.630981Z",
     "shell.execute_reply": "2023-05-15T08:40:30.630656Z"
    },
    "papermill": {
     "duration": 0.008447,
     "end_time": "2023-05-15T08:40:30.631865",
     "exception": false,
     "start_time": "2023-05-15T08:40:30.623418",
     "status": "completed"
    },
    "tags": []
   },
   "outputs": [],
   "source": [
    "metadata.columns"
   ]
  },
  {
   "cell_type": "code",
   "execution_count": null,
   "id": "2e0ff8c3-2aa9-4a01-9b88-5912a6734447",
   "metadata": {
    "execution": {
     "iopub.execute_input": "2023-05-15T08:40:30.640776Z",
     "iopub.status.busy": "2023-05-15T08:40:30.640585Z",
     "iopub.status.idle": "2023-05-15T08:40:30.669638Z",
     "shell.execute_reply": "2023-05-15T08:40:30.669215Z"
    },
    "papermill": {
     "duration": 0.034729,
     "end_time": "2023-05-15T08:40:30.670785",
     "exception": false,
     "start_time": "2023-05-15T08:40:30.636056",
     "status": "completed"
    },
    "tags": []
   },
   "outputs": [],
   "source": [
    "for col in metadata.columns:\n",
    "    dataset.obs[col] = metadata.loc[metadata[\"Run\"] == sample_name, col].to_list()[0]"
   ]
  },
  {
   "cell_type": "code",
   "execution_count": null,
   "id": "b84578d3-d63e-419c-a272-a0b8317d05ab",
   "metadata": {
    "execution": {
     "iopub.execute_input": "2023-05-15T08:40:30.680524Z",
     "iopub.status.busy": "2023-05-15T08:40:30.680315Z",
     "iopub.status.idle": "2023-05-15T08:40:31.243192Z",
     "shell.execute_reply": "2023-05-15T08:40:31.242700Z"
    },
    "papermill": {
     "duration": 0.568989,
     "end_time": "2023-05-15T08:40:31.244529",
     "exception": false,
     "start_time": "2023-05-15T08:40:30.675540",
     "status": "completed"
    },
    "tags": []
   },
   "outputs": [],
   "source": [
    "dataset.write(f\"../../int_data/{sample_name}_qc.h5ad\")"
   ]
  },
  {
   "cell_type": "code",
   "execution_count": null,
   "id": "501b33a0-432d-415f-ae82-50723484b85d",
   "metadata": {
    "execution": {
     "iopub.execute_input": "2023-05-15T08:40:31.258081Z",
     "iopub.status.busy": "2023-05-15T08:40:31.257892Z",
     "iopub.status.idle": "2023-05-15T08:40:31.260951Z",
     "shell.execute_reply": "2023-05-15T08:40:31.260606Z"
    },
    "papermill": {
     "duration": 0.009026,
     "end_time": "2023-05-15T08:40:31.261774",
     "exception": false,
     "start_time": "2023-05-15T08:40:31.252748",
     "status": "completed"
    },
    "tags": []
   },
   "outputs": [],
   "source": [
    "dataset"
   ]
  }
 ],
 "metadata": {
  "kernelspec": {
   "display_name": "py_R",
   "language": "python",
   "name": "python_r"
  },
  "language_info": {
   "codemirror_mode": {
    "name": "ipython",
    "version": 3
   },
   "file_extension": ".py",
   "mimetype": "text/x-python",
   "name": "python",
   "nbconvert_exporter": "python",
   "pygments_lexer": "ipython3",
   "version": "3.10.9"
  },
  "papermill": {
   "default_parameters": {},
   "duration": 91.207536,
   "end_time": "2023-05-15T08:40:32.683688",
   "environment_variables": {},
   "exception": null,
   "input_path": "template.ipynb",
   "output_path": "SRR13329153.ipynb",
   "parameters": {
    "sample_name": "SRR13329153"
   },
   "start_time": "2023-05-15T08:39:01.476152",
   "version": "2.4.0"
  }
 },
 "nbformat": 4,
 "nbformat_minor": 5
}
