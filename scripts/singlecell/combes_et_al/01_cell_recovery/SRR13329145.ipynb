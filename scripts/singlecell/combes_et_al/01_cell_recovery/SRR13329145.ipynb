{
 "cells": [
  {
   "cell_type": "code",
   "execution_count": null,
   "id": "4c0f2fa8-5232-4f47-a7ec-6c9bbabe50e2",
   "metadata": {
    "execution": {
     "iopub.execute_input": "2023-05-15T08:14:14.556070Z",
     "iopub.status.busy": "2023-05-15T08:14:14.555904Z",
     "iopub.status.idle": "2023-05-15T08:14:15.550687Z",
     "shell.execute_reply": "2023-05-15T08:14:15.550250Z"
    },
    "papermill": {
     "duration": 1.002096,
     "end_time": "2023-05-15T08:14:15.551862",
     "exception": false,
     "start_time": "2023-05-15T08:14:14.549766",
     "status": "completed"
    },
    "tags": [
     "parameters"
    ]
   },
   "outputs": [],
   "source": [
    "sample_name = \"SRR13329143\""
   ]
  },
  {
   "cell_type": "code",
   "execution_count": null,
   "id": "96e8cec5",
   "metadata": {
    "execution": {
     "iopub.execute_input": "2023-05-15T08:14:15.557389Z",
     "iopub.status.busy": "2023-05-15T08:14:15.557265Z",
     "iopub.status.idle": "2023-05-15T08:14:15.559257Z",
     "shell.execute_reply": "2023-05-15T08:14:15.558957Z"
    },
    "papermill": {
     "duration": 0.005474,
     "end_time": "2023-05-15T08:14:15.560030",
     "exception": false,
     "start_time": "2023-05-15T08:14:15.554556",
     "status": "completed"
    },
    "tags": [
     "injected-parameters"
    ]
   },
   "outputs": [],
   "source": [
    "# Parameters\n",
    "sample_name = \"SRR13329145\"\n"
   ]
  },
  {
   "cell_type": "code",
   "execution_count": null,
   "id": "f87ed95b-2b67-4a5a-8fe2-47359b1dd2a9",
   "metadata": {
    "execution": {
     "iopub.execute_input": "2023-05-15T08:14:15.565177Z",
     "iopub.status.busy": "2023-05-15T08:14:15.565007Z",
     "iopub.status.idle": "2023-05-15T08:14:15.567179Z",
     "shell.execute_reply": "2023-05-15T08:14:15.566887Z"
    },
    "papermill": {
     "duration": 0.005673,
     "end_time": "2023-05-15T08:14:15.567952",
     "exception": false,
     "start_time": "2023-05-15T08:14:15.562279",
     "status": "completed"
    },
    "tags": []
   },
   "outputs": [],
   "source": [
    "import warnings\n",
    "warnings.simplefilter(action='ignore', category=FutureWarning)\n",
    "warnings.simplefilter(action='ignore', category=UserWarning)"
   ]
  },
  {
   "cell_type": "code",
   "execution_count": null,
   "id": "85161f19-b2c5-490b-8cab-c2cf9653b304",
   "metadata": {
    "execution": {
     "iopub.execute_input": "2023-05-15T08:14:15.573191Z",
     "iopub.status.busy": "2023-05-15T08:14:15.572991Z",
     "iopub.status.idle": "2023-05-15T08:14:20.825995Z",
     "shell.execute_reply": "2023-05-15T08:14:20.825573Z"
    },
    "papermill": {
     "duration": 5.257064,
     "end_time": "2023-05-15T08:14:20.827353",
     "exception": false,
     "start_time": "2023-05-15T08:14:15.570289",
     "status": "completed"
    },
    "tags": []
   },
   "outputs": [],
   "source": [
    "import gc\n",
    "import scanpy as sc\n",
    "import muon as mu\n",
    "import seaborn as sns\n",
    "import os\n",
    "import pandas as pd\n",
    "from matplotlib import pyplot as plt\n",
    "\n",
    "os.environ['R_HOME'] = '/gpfs/bwfor/work/ws/hd_fu399-conda/conda/envs/python_R/lib/R/'\n",
    "import anndata2ri\n",
    "import logging\n",
    "\n",
    "import rpy2.rinterface_lib.callbacks as rcb\n",
    "import rpy2.robjects as ro\n",
    "\n",
    "rcb.logger.setLevel(logging.ERROR)\n",
    "ro.pandas2ri.activate()\n",
    "anndata2ri.activate()\n",
    "\n",
    "%load_ext rpy2.ipython"
   ]
  },
  {
   "cell_type": "code",
   "execution_count": null,
   "id": "fc4ade78-b728-4704-9db6-45fbaab62ba1",
   "metadata": {
    "execution": {
     "iopub.execute_input": "2023-05-15T08:14:20.835498Z",
     "iopub.status.busy": "2023-05-15T08:14:20.835257Z",
     "iopub.status.idle": "2023-05-15T08:14:33.003802Z",
     "shell.execute_reply": "2023-05-15T08:14:33.003304Z"
    },
    "papermill": {
     "duration": 12.173261,
     "end_time": "2023-05-15T08:14:33.005128",
     "exception": false,
     "start_time": "2023-05-15T08:14:20.831867",
     "status": "completed"
    },
    "tags": []
   },
   "outputs": [],
   "source": [
    "%%R\n",
    "library(SoupX)\n",
    "library(Seurat)\n",
    "library(scater)\n",
    "library(scDblFinder)\n",
    "library(BiocParallel)\n",
    "library(MuDataSeurat)\n",
    "library(DropletUtils)"
   ]
  },
  {
   "cell_type": "code",
   "execution_count": null,
   "id": "f7424d90-7690-4290-8651-1db3f9df3a35",
   "metadata": {
    "execution": {
     "iopub.execute_input": "2023-05-15T08:14:33.013417Z",
     "iopub.status.busy": "2023-05-15T08:14:33.013265Z",
     "iopub.status.idle": "2023-05-15T08:14:33.018818Z",
     "shell.execute_reply": "2023-05-15T08:14:33.018470Z"
    },
    "papermill": {
     "duration": 0.010037,
     "end_time": "2023-05-15T08:14:33.019801",
     "exception": false,
     "start_time": "2023-05-15T08:14:33.009764",
     "status": "completed"
    },
    "tags": []
   },
   "outputs": [],
   "source": [
    "metadata = pd.read_csv(\"../../combes_metadata.txt\")"
   ]
  },
  {
   "cell_type": "code",
   "execution_count": null,
   "id": "2574ecf1-bad4-4c33-8f3f-718a358727ab",
   "metadata": {
    "execution": {
     "iopub.execute_input": "2023-05-15T08:14:33.025439Z",
     "iopub.status.busy": "2023-05-15T08:14:33.025309Z",
     "iopub.status.idle": "2023-05-15T08:14:33.027797Z",
     "shell.execute_reply": "2023-05-15T08:14:33.027482Z"
    },
    "papermill": {
     "duration": 0.006324,
     "end_time": "2023-05-15T08:14:33.028627",
     "exception": false,
     "start_time": "2023-05-15T08:14:33.022303",
     "status": "completed"
    },
    "tags": []
   },
   "outputs": [],
   "source": [
    "raw_input = f\"/home/hd/hd_hd/hd_fu399/sds-hd/sd21k006/scRNAseq/revision_natcomm/combes_et_al/fetchngs/results/fastq/{sample_name}/{sample_name}/outs/raw_feature_bc_matrix.h5\""
   ]
  },
  {
   "cell_type": "code",
   "execution_count": null,
   "id": "e266d388-1802-435c-93a5-90067358739c",
   "metadata": {
    "execution": {
     "iopub.execute_input": "2023-05-15T08:14:33.034305Z",
     "iopub.status.busy": "2023-05-15T08:14:33.034048Z",
     "iopub.status.idle": "2023-05-15T08:14:33.449659Z",
     "shell.execute_reply": "2023-05-15T08:14:33.449200Z"
    },
    "papermill": {
     "duration": 0.419558,
     "end_time": "2023-05-15T08:14:33.450606",
     "exception": false,
     "start_time": "2023-05-15T08:14:33.031048",
     "status": "completed"
    },
    "tags": []
   },
   "outputs": [],
   "source": [
    "dataset = sc.read_10x_h5(raw_input)\n",
    "dataset.var_names_make_unique()\n",
    "dataset.obs_names_make_unique()\n",
    "\n",
    "dataset.layers[\"raw_counts\"] = dataset.X.copy()\n",
    "data_tod = dataset.layers[\"raw_counts\"].T.copy()\n",
    "\n",
    "dataset"
   ]
  },
  {
   "cell_type": "code",
   "execution_count": null,
   "id": "af9f5892-ed31-42a6-991b-4e096f582cef",
   "metadata": {
    "execution": {
     "iopub.execute_input": "2023-05-15T08:14:33.457038Z",
     "iopub.status.busy": "2023-05-15T08:14:33.456877Z",
     "iopub.status.idle": "2023-05-15T08:14:33.487948Z",
     "shell.execute_reply": "2023-05-15T08:14:33.487441Z"
    },
    "papermill": {
     "duration": 0.035367,
     "end_time": "2023-05-15T08:14:33.489133",
     "exception": false,
     "start_time": "2023-05-15T08:14:33.453766",
     "status": "completed"
    },
    "tags": []
   },
   "outputs": [],
   "source": [
    "sce = dataset.copy()"
   ]
  },
  {
   "cell_type": "code",
   "execution_count": null,
   "id": "d03f2caf-8e74-430e-b045-0ab80401d165",
   "metadata": {
    "execution": {
     "iopub.execute_input": "2023-05-15T08:14:33.495297Z",
     "iopub.status.busy": "2023-05-15T08:14:33.495102Z",
     "iopub.status.idle": "2023-05-15T08:15:21.896332Z",
     "shell.execute_reply": "2023-05-15T08:15:21.895729Z"
    },
    "papermill": {
     "duration": 48.405589,
     "end_time": "2023-05-15T08:15:21.897608",
     "exception": false,
     "start_time": "2023-05-15T08:14:33.492019",
     "status": "completed"
    },
    "tags": []
   },
   "outputs": [],
   "source": [
    "%%R -i sce -o empty_drop_output\n",
    "set.seed(187)\n",
    "empty_drop_output <- emptyDrops(assay(sce))"
   ]
  },
  {
   "cell_type": "code",
   "execution_count": null,
   "id": "2a34a54b-3ae2-44d6-8679-8769228c5b66",
   "metadata": {
    "execution": {
     "iopub.execute_input": "2023-05-15T08:15:21.908651Z",
     "iopub.status.busy": "2023-05-15T08:15:21.908458Z",
     "iopub.status.idle": "2023-05-15T08:15:21.942833Z",
     "shell.execute_reply": "2023-05-15T08:15:21.942429Z"
    },
    "papermill": {
     "duration": 0.038925,
     "end_time": "2023-05-15T08:15:21.943734",
     "exception": false,
     "start_time": "2023-05-15T08:15:21.904809",
     "status": "completed"
    },
    "tags": []
   },
   "outputs": [],
   "source": [
    "non_empty_barcodes = empty_drop_output[empty_drop_output[\"FDR\"] < 0.001].index\n",
    "dataset = dataset[dataset.obs.index.isin(non_empty_barcodes), :]\n",
    "dataset"
   ]
  },
  {
   "cell_type": "code",
   "execution_count": null,
   "id": "016a91e5-1bef-46fb-b91e-4fb9a6870c44",
   "metadata": {
    "execution": {
     "iopub.execute_input": "2023-05-15T08:15:21.950099Z",
     "iopub.status.busy": "2023-05-15T08:15:21.949940Z",
     "iopub.status.idle": "2023-05-15T08:15:26.087229Z",
     "shell.execute_reply": "2023-05-15T08:15:26.086692Z"
    },
    "papermill": {
     "duration": 4.142054,
     "end_time": "2023-05-15T08:15:26.088635",
     "exception": false,
     "start_time": "2023-05-15T08:15:21.946581",
     "status": "completed"
    },
    "tags": []
   },
   "outputs": [],
   "source": [
    "rna_assay = dataset.copy()\n",
    "sc.pp.normalize_per_cell(rna_assay)\n",
    "sc.pp.log1p(rna_assay)\n",
    "sc.pp.pca(rna_assay)\n",
    "sc.pp.neighbors(rna_assay)\n",
    "sc.tl.leiden(rna_assay, key_added=\"soupx_groups\")\n",
    "\n",
    "soupx_groups = rna_assay.obs[\"soupx_groups\"]\n",
    "\n",
    "del rna_assay\n",
    "\n",
    "genes = dataset.var_names\n",
    "cells = dataset.obs_names\n",
    "data = dataset.X.T.copy()"
   ]
  },
  {
   "cell_type": "code",
   "execution_count": null,
   "id": "9db4ea1f-1580-4f43-a3f0-86002397cd98",
   "metadata": {
    "execution": {
     "iopub.execute_input": "2023-05-15T08:15:26.098890Z",
     "iopub.status.busy": "2023-05-15T08:15:26.098691Z",
     "iopub.status.idle": "2023-05-15T08:15:37.314037Z",
     "shell.execute_reply": "2023-05-15T08:15:37.313434Z"
    },
    "papermill": {
     "duration": 11.221083,
     "end_time": "2023-05-15T08:15:37.315373",
     "exception": false,
     "start_time": "2023-05-15T08:15:26.094290",
     "status": "completed"
    },
    "tags": []
   },
   "outputs": [],
   "source": [
    "%%R -i data -i data_tod -i genes -i cells -i soupx_groups -o out \n",
    "set.seed(187)\n",
    "# specify row and column names of data\n",
    "rownames(data) = genes\n",
    "colnames(data) = cells\n",
    "# ensure correct sparse format for table of counts and table of droplets\n",
    "data <- as(data, \"sparseMatrix\")\n",
    "data_tod <- as(data_tod, \"sparseMatrix\")\n",
    "\n",
    "# Generate SoupChannel Object for SoupX \n",
    "sc = SoupChannel(data_tod, data, calcSoupProfile = FALSE)\n",
    "\n",
    "# Add extra meta data to the SoupChannel object\n",
    "soupProf = data.frame(row.names = rownames(data),\n",
    "                      est = rowSums(data)/sum(data),\n",
    "                      counts = rowSums(data))\n",
    "sc = setSoupProfile(sc, soupProf)\n",
    "# Set cluster information in SoupChannel\n",
    "sc = setClusters(sc, soupx_groups)\n",
    "\n",
    "# Estimate contamination fraction\n",
    "sc  = autoEstCont(sc, doPlot=FALSE, forceAccept = TRUE)\n",
    "# Infer corrected table of counts and rount to integer\n",
    "out = adjustCounts(sc, roundToInt = TRUE)"
   ]
  },
  {
   "cell_type": "code",
   "execution_count": null,
   "id": "32555d5e-5fa3-46dd-a4e0-ddc96ea265e2",
   "metadata": {
    "execution": {
     "iopub.execute_input": "2023-05-15T08:15:37.326498Z",
     "iopub.status.busy": "2023-05-15T08:15:37.326297Z",
     "iopub.status.idle": "2023-05-15T08:15:37.351704Z",
     "shell.execute_reply": "2023-05-15T08:15:37.351271Z"
    },
    "papermill": {
     "duration": 0.03066,
     "end_time": "2023-05-15T08:15:37.353043",
     "exception": false,
     "start_time": "2023-05-15T08:15:37.322383",
     "status": "completed"
    },
    "tags": []
   },
   "outputs": [],
   "source": [
    "dataset.layers[\"soupX_counts\"] = out.T\n",
    "dataset.X = dataset.layers[\"soupX_counts\"].copy()"
   ]
  },
  {
   "cell_type": "code",
   "execution_count": null,
   "id": "e27da7df-e094-4d2a-9109-5a363e012175",
   "metadata": {
    "execution": {
     "iopub.execute_input": "2023-05-15T08:15:37.360141Z",
     "iopub.status.busy": "2023-05-15T08:15:37.359873Z",
     "iopub.status.idle": "2023-05-15T08:15:37.362104Z",
     "shell.execute_reply": "2023-05-15T08:15:37.361796Z"
    },
    "papermill": {
     "duration": 0.00649,
     "end_time": "2023-05-15T08:15:37.362898",
     "exception": false,
     "start_time": "2023-05-15T08:15:37.356408",
     "status": "completed"
    },
    "tags": []
   },
   "outputs": [],
   "source": [
    "data_mat = dataset.X.T"
   ]
  },
  {
   "cell_type": "code",
   "execution_count": null,
   "id": "80a993b1-5ccb-4697-9187-1beb7ab8aff9",
   "metadata": {
    "execution": {
     "iopub.execute_input": "2023-05-15T08:15:37.369224Z",
     "iopub.status.busy": "2023-05-15T08:15:37.369098Z",
     "iopub.status.idle": "2023-05-15T08:15:53.592319Z",
     "shell.execute_reply": "2023-05-15T08:15:53.591716Z"
    },
    "papermill": {
     "duration": 16.228038,
     "end_time": "2023-05-15T08:15:53.593758",
     "exception": false,
     "start_time": "2023-05-15T08:15:37.365720",
     "status": "completed"
    },
    "tags": []
   },
   "outputs": [],
   "source": [
    "%%R -i data_mat -o droplet_class\n",
    "\n",
    "set.seed(187)\n",
    "sce = scDblFinder(\n",
    "    SingleCellExperiment(\n",
    "        list(counts=data_mat),\n",
    "    ) \n",
    ")\n",
    "droplet_class = sce$scDblFinder.class"
   ]
  },
  {
   "cell_type": "code",
   "execution_count": null,
   "id": "d4dd6e9d-fcf2-41fc-8457-c8e0a3cb2c71",
   "metadata": {
    "execution": {
     "iopub.execute_input": "2023-05-15T08:15:53.604775Z",
     "iopub.status.busy": "2023-05-15T08:15:53.604583Z",
     "iopub.status.idle": "2023-05-15T08:15:53.609756Z",
     "shell.execute_reply": "2023-05-15T08:15:53.609423Z"
    },
    "papermill": {
     "duration": 0.009723,
     "end_time": "2023-05-15T08:15:53.610547",
     "exception": false,
     "start_time": "2023-05-15T08:15:53.600824",
     "status": "completed"
    },
    "tags": []
   },
   "outputs": [],
   "source": [
    "dataset.obs[\"scDblFinder_class\"] = droplet_class\n",
    "dataset.obs.scDblFinder_class.value_counts()\n",
    "dataset"
   ]
  },
  {
   "cell_type": "code",
   "execution_count": null,
   "id": "28c95014-2d6c-477f-95cb-9f9f0507520c",
   "metadata": {
    "execution": {
     "iopub.execute_input": "2023-05-15T08:15:53.617080Z",
     "iopub.status.busy": "2023-05-15T08:15:53.616921Z",
     "iopub.status.idle": "2023-05-15T08:15:53.621618Z",
     "shell.execute_reply": "2023-05-15T08:15:53.621296Z"
    },
    "papermill": {
     "duration": 0.00884,
     "end_time": "2023-05-15T08:15:53.622389",
     "exception": false,
     "start_time": "2023-05-15T08:15:53.613549",
     "status": "completed"
    },
    "tags": []
   },
   "outputs": [],
   "source": [
    "dataset = dataset[dataset.obs[\"scDblFinder_class\"] == 1]"
   ]
  },
  {
   "cell_type": "code",
   "execution_count": null,
   "id": "3e22f9e0-bfcb-416c-a151-a9bca3bec3b9",
   "metadata": {
    "execution": {
     "iopub.execute_input": "2023-05-15T08:15:53.629074Z",
     "iopub.status.busy": "2023-05-15T08:15:53.628883Z",
     "iopub.status.idle": "2023-05-15T08:15:53.747577Z",
     "shell.execute_reply": "2023-05-15T08:15:53.747129Z"
    },
    "papermill": {
     "duration": 0.123104,
     "end_time": "2023-05-15T08:15:53.748527",
     "exception": false,
     "start_time": "2023-05-15T08:15:53.625423",
     "status": "completed"
    },
    "tags": []
   },
   "outputs": [],
   "source": [
    "# mitochondrial genes\n",
    "dataset.var[\"mt\"] = dataset.var_names.str.startswith(\"MT-\")\n",
    "# ribosomal genes\n",
    "dataset.var[\"ribo\"] = dataset.var_names.str.startswith((\"RPS\", \"RPL\"))\n",
    "# hemoglobin genes.\n",
    "dataset.var[\"hb\"] = dataset.var_names.str.contains((\"^HB[^(P)]\"))\n",
    "\n",
    "sc.pp.calculate_qc_metrics(dataset,\n",
    "                           qc_vars=['mt', 'ribo', 'hb'],\n",
    "                           percent_top=None,\n",
    "                           log1p=False,\n",
    "                           inplace=True)\n",
    "dataset"
   ]
  },
  {
   "cell_type": "code",
   "execution_count": null,
   "id": "34deee79-4043-428f-8575-aa57b45f6369",
   "metadata": {
    "execution": {
     "iopub.execute_input": "2023-05-15T08:15:53.755864Z",
     "iopub.status.busy": "2023-05-15T08:15:53.755675Z",
     "iopub.status.idle": "2023-05-15T08:15:54.233062Z",
     "shell.execute_reply": "2023-05-15T08:15:54.232656Z"
    },
    "papermill": {
     "duration": 0.482109,
     "end_time": "2023-05-15T08:15:54.234071",
     "exception": false,
     "start_time": "2023-05-15T08:15:53.751962",
     "status": "completed"
    },
    "tags": []
   },
   "outputs": [],
   "source": [
    "fig, ax = plt.subplots(ncols = 4, figsize = (16,4))\n",
    "axis = sc.pl.violin(dataset, \"n_genes_by_counts\", jitter = 0.4, ax = ax[0], show = False)\n",
    "axis.grid(False)\n",
    "axis.set_title(\"Unique Genes per cell\")\n",
    "axis.tick_params(axis = \"x\", bottom =False, labelbottom =False)\n",
    "axis.set_ylabel(\"# genes\")\n",
    "axis.axhline(y = 100, color = \"black\", label = \"cutoff\")\n",
    "axis.legend(fontsize = 14, loc = \"upper right\")\n",
    "\n",
    "axis = sc.pl.violin(dataset, \"pct_counts_mt\", jitter = 0.4, ax = ax[1], show = False)\n",
    "axis.grid(False)\n",
    "axis.set_title(\"Mitochondrial Fraction\")\n",
    "axis.tick_params(axis = \"x\", bottom =False, labelbottom =False)\n",
    "axis.set_ylabel(\"% mitochondrial genes\")\n",
    "axis.axhline(y = 10, color = \"black\", label = \"cutoff\")\n",
    "axis.legend(fontsize = 14, loc = \"upper right\")\n",
    "\n",
    "axis = sc.pl.violin(dataset, \"pct_counts_hb\", jitter = 0.4, ax = ax[2], show = False, size =2)\n",
    "axis.grid(False)\n",
    "axis.set_title(\"Hemoglobin Fraction\")\n",
    "axis.tick_params(axis = \"x\", bottom =False, labelbottom =False)\n",
    "axis.set_ylabel(\"% hemoglobin genes\")\n",
    "axis.axhline(y = 3, color = \"black\", label = \"cutoff\")\n",
    "axis.legend(fontsize = 14, loc = \"upper right\")\n",
    "#axis.set_ylim(0,5)\n",
    "\n",
    "axis = sc.pl.violin(dataset, \"pct_counts_ribo\", jitter = 0.4, ax = ax[3], show = False)\n",
    "axis.grid(False)\n",
    "axis.set_title(\"Ribosomal Fraction\")\n",
    "axis.tick_params(axis = \"x\", bottom =False, labelbottom =False)\n",
    "axis.set_ylabel(\"% ribosome genes\")\n",
    "\n",
    "plt.tight_layout()\n",
    "#plt.savefig(f\"{outputDir}08_gene_based_filtering.pdf\", dpi = 300)\n",
    "plt.show()\n",
    "\n"
   ]
  },
  {
   "cell_type": "code",
   "execution_count": null,
   "id": "d7ade754-843e-4840-8707-426613d8c0c5",
   "metadata": {
    "execution": {
     "iopub.execute_input": "2023-05-15T08:15:54.243880Z",
     "iopub.status.busy": "2023-05-15T08:15:54.243703Z",
     "iopub.status.idle": "2023-05-15T08:15:54.253151Z",
     "shell.execute_reply": "2023-05-15T08:15:54.252817Z"
    },
    "papermill": {
     "duration": 0.015135,
     "end_time": "2023-05-15T08:15:54.253935",
     "exception": false,
     "start_time": "2023-05-15T08:15:54.238800",
     "status": "completed"
    },
    "tags": []
   },
   "outputs": [],
   "source": [
    "dataset = dataset[dataset.obs.pct_counts_mt < 10, :]\n",
    "dataset = dataset[dataset.obs.n_genes_by_counts > 100, :]\n",
    "dataset = dataset[dataset.obs.pct_counts_hb < 3, :]\n",
    "dataset"
   ]
  },
  {
   "cell_type": "code",
   "execution_count": null,
   "id": "1941fa36-e865-4500-b586-f7a32d142c9b",
   "metadata": {
    "execution": {
     "iopub.execute_input": "2023-05-15T08:15:54.263147Z",
     "iopub.status.busy": "2023-05-15T08:15:54.262955Z",
     "iopub.status.idle": "2023-05-15T08:15:54.265840Z",
     "shell.execute_reply": "2023-05-15T08:15:54.265525Z"
    },
    "papermill": {
     "duration": 0.008462,
     "end_time": "2023-05-15T08:15:54.266603",
     "exception": false,
     "start_time": "2023-05-15T08:15:54.258141",
     "status": "completed"
    },
    "tags": []
   },
   "outputs": [],
   "source": [
    "metadata.columns"
   ]
  },
  {
   "cell_type": "code",
   "execution_count": null,
   "id": "2e0ff8c3-2aa9-4a01-9b88-5912a6734447",
   "metadata": {
    "execution": {
     "iopub.execute_input": "2023-05-15T08:15:54.275983Z",
     "iopub.status.busy": "2023-05-15T08:15:54.275803Z",
     "iopub.status.idle": "2023-05-15T08:15:54.309258Z",
     "shell.execute_reply": "2023-05-15T08:15:54.308808Z"
    },
    "papermill": {
     "duration": 0.039494,
     "end_time": "2023-05-15T08:15:54.310560",
     "exception": false,
     "start_time": "2023-05-15T08:15:54.271066",
     "status": "completed"
    },
    "tags": []
   },
   "outputs": [],
   "source": [
    "for col in metadata.columns:\n",
    "    dataset.obs[col] = metadata.loc[metadata[\"Run\"] == sample_name, col].to_list()[0]"
   ]
  },
  {
   "cell_type": "code",
   "execution_count": null,
   "id": "b84578d3-d63e-419c-a272-a0b8317d05ab",
   "metadata": {
    "execution": {
     "iopub.execute_input": "2023-05-15T08:15:54.320780Z",
     "iopub.status.busy": "2023-05-15T08:15:54.320437Z",
     "iopub.status.idle": "2023-05-15T08:15:54.754388Z",
     "shell.execute_reply": "2023-05-15T08:15:54.753884Z"
    },
    "papermill": {
     "duration": 0.440286,
     "end_time": "2023-05-15T08:15:54.755653",
     "exception": false,
     "start_time": "2023-05-15T08:15:54.315367",
     "status": "completed"
    },
    "tags": []
   },
   "outputs": [],
   "source": [
    "dataset.write(f\"../../int_data/{sample_name}_qc.h5ad\")"
   ]
  },
  {
   "cell_type": "code",
   "execution_count": null,
   "id": "501b33a0-432d-415f-ae82-50723484b85d",
   "metadata": {
    "execution": {
     "iopub.execute_input": "2023-05-15T08:15:54.765580Z",
     "iopub.status.busy": "2023-05-15T08:15:54.765376Z",
     "iopub.status.idle": "2023-05-15T08:15:54.768415Z",
     "shell.execute_reply": "2023-05-15T08:15:54.768110Z"
    },
    "papermill": {
     "duration": 0.008831,
     "end_time": "2023-05-15T08:15:54.769305",
     "exception": false,
     "start_time": "2023-05-15T08:15:54.760474",
     "status": "completed"
    },
    "tags": []
   },
   "outputs": [],
   "source": [
    "dataset"
   ]
  }
 ],
 "metadata": {
  "kernelspec": {
   "display_name": "py_R",
   "language": "python",
   "name": "python_r"
  },
  "language_info": {
   "codemirror_mode": {
    "name": "ipython",
    "version": 3
   },
   "file_extension": ".py",
   "mimetype": "text/x-python",
   "name": "python",
   "nbconvert_exporter": "python",
   "pygments_lexer": "ipython3",
   "version": "3.10.9"
  },
  "papermill": {
   "default_parameters": {},
   "duration": 110.774814,
   "end_time": "2023-05-15T08:15:56.291799",
   "environment_variables": {},
   "exception": null,
   "input_path": "template.ipynb",
   "output_path": "SRR13329145.ipynb",
   "parameters": {
    "sample_name": "SRR13329145"
   },
   "start_time": "2023-05-15T08:14:05.516985",
   "version": "2.4.0"
  }
 },
 "nbformat": 4,
 "nbformat_minor": 5
}
