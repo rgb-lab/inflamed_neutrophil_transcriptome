{
 "cells": [
  {
   "cell_type": "code",
   "execution_count": null,
   "id": "4c0f2fa8-5232-4f47-a7ec-6c9bbabe50e2",
   "metadata": {
    "execution": {
     "iopub.execute_input": "2023-05-15T09:19:10.884515Z",
     "iopub.status.busy": "2023-05-15T09:19:10.884352Z",
     "iopub.status.idle": "2023-05-15T09:19:10.888877Z",
     "shell.execute_reply": "2023-05-15T09:19:10.888562Z"
    },
    "papermill": {
     "duration": 0.008883,
     "end_time": "2023-05-15T09:19:10.889833",
     "exception": false,
     "start_time": "2023-05-15T09:19:10.880950",
     "status": "completed"
    },
    "tags": [
     "parameters"
    ]
   },
   "outputs": [],
   "source": [
    "sample_name = \"SRR13329143\""
   ]
  },
  {
   "cell_type": "code",
   "execution_count": null,
   "id": "96f73c3e",
   "metadata": {
    "execution": {
     "iopub.execute_input": "2023-05-15T09:19:10.895215Z",
     "iopub.status.busy": "2023-05-15T09:19:10.894996Z",
     "iopub.status.idle": "2023-05-15T09:19:10.897691Z",
     "shell.execute_reply": "2023-05-15T09:19:10.897395Z"
    },
    "papermill": {
     "duration": 0.006186,
     "end_time": "2023-05-15T09:19:10.898480",
     "exception": false,
     "start_time": "2023-05-15T09:19:10.892294",
     "status": "completed"
    },
    "tags": [
     "injected-parameters"
    ]
   },
   "outputs": [],
   "source": [
    "# Parameters\n",
    "sample_name = \"SRR13329142\"\n"
   ]
  },
  {
   "cell_type": "code",
   "execution_count": null,
   "id": "f87ed95b-2b67-4a5a-8fe2-47359b1dd2a9",
   "metadata": {
    "execution": {
     "iopub.execute_input": "2023-05-15T09:19:10.903846Z",
     "iopub.status.busy": "2023-05-15T09:19:10.903598Z",
     "iopub.status.idle": "2023-05-15T09:19:10.905820Z",
     "shell.execute_reply": "2023-05-15T09:19:10.905520Z"
    },
    "papermill": {
     "duration": 0.005623,
     "end_time": "2023-05-15T09:19:10.906566",
     "exception": false,
     "start_time": "2023-05-15T09:19:10.900943",
     "status": "completed"
    },
    "tags": []
   },
   "outputs": [],
   "source": [
    "import warnings\n",
    "warnings.simplefilter(action='ignore', category=FutureWarning)\n",
    "warnings.simplefilter(action='ignore', category=UserWarning)"
   ]
  },
  {
   "cell_type": "code",
   "execution_count": null,
   "id": "85161f19-b2c5-490b-8cab-c2cf9653b304",
   "metadata": {
    "execution": {
     "iopub.execute_input": "2023-05-15T09:19:10.911822Z",
     "iopub.status.busy": "2023-05-15T09:19:10.911655Z",
     "iopub.status.idle": "2023-05-15T09:19:15.197901Z",
     "shell.execute_reply": "2023-05-15T09:19:15.197431Z"
    },
    "papermill": {
     "duration": 4.290273,
     "end_time": "2023-05-15T09:19:15.199222",
     "exception": false,
     "start_time": "2023-05-15T09:19:10.908949",
     "status": "completed"
    },
    "tags": []
   },
   "outputs": [],
   "source": [
    "import gc\n",
    "import scanpy as sc\n",
    "import muon as mu\n",
    "import seaborn as sns\n",
    "import os\n",
    "import pandas as pd\n",
    "from matplotlib import pyplot as plt\n",
    "\n",
    "os.environ['R_HOME'] = '/gpfs/bwfor/work/ws/hd_fu399-conda/conda/envs/python_R/lib/R/'\n",
    "import anndata2ri\n",
    "import logging\n",
    "\n",
    "import rpy2.rinterface_lib.callbacks as rcb\n",
    "import rpy2.robjects as ro\n",
    "\n",
    "rcb.logger.setLevel(logging.ERROR)\n",
    "ro.pandas2ri.activate()\n",
    "anndata2ri.activate()\n",
    "\n",
    "%load_ext rpy2.ipython"
   ]
  },
  {
   "cell_type": "code",
   "execution_count": null,
   "id": "fc4ade78-b728-4704-9db6-45fbaab62ba1",
   "metadata": {
    "execution": {
     "iopub.execute_input": "2023-05-15T09:19:15.205571Z",
     "iopub.status.busy": "2023-05-15T09:19:15.205299Z",
     "iopub.status.idle": "2023-05-15T09:19:25.328134Z",
     "shell.execute_reply": "2023-05-15T09:19:25.327587Z"
    },
    "papermill": {
     "duration": 10.127208,
     "end_time": "2023-05-15T09:19:25.329486",
     "exception": false,
     "start_time": "2023-05-15T09:19:15.202278",
     "status": "completed"
    },
    "tags": []
   },
   "outputs": [],
   "source": [
    "%%R\n",
    "library(SoupX)\n",
    "library(Seurat)\n",
    "library(scater)\n",
    "library(scDblFinder)\n",
    "library(BiocParallel)\n",
    "library(MuDataSeurat)\n",
    "library(DropletUtils)"
   ]
  },
  {
   "cell_type": "code",
   "execution_count": null,
   "id": "f7424d90-7690-4290-8651-1db3f9df3a35",
   "metadata": {
    "execution": {
     "iopub.execute_input": "2023-05-15T09:19:25.337837Z",
     "iopub.status.busy": "2023-05-15T09:19:25.337658Z",
     "iopub.status.idle": "2023-05-15T09:19:25.343658Z",
     "shell.execute_reply": "2023-05-15T09:19:25.343336Z"
    },
    "papermill": {
     "duration": 0.010139,
     "end_time": "2023-05-15T09:19:25.344435",
     "exception": false,
     "start_time": "2023-05-15T09:19:25.334296",
     "status": "completed"
    },
    "tags": []
   },
   "outputs": [],
   "source": [
    "metadata = pd.read_csv(\"../../combes_metadata.txt\")"
   ]
  },
  {
   "cell_type": "code",
   "execution_count": null,
   "id": "2574ecf1-bad4-4c33-8f3f-718a358727ab",
   "metadata": {
    "execution": {
     "iopub.execute_input": "2023-05-15T09:19:25.349945Z",
     "iopub.status.busy": "2023-05-15T09:19:25.349813Z",
     "iopub.status.idle": "2023-05-15T09:19:25.358028Z",
     "shell.execute_reply": "2023-05-15T09:19:25.357728Z"
    },
    "papermill": {
     "duration": 0.011925,
     "end_time": "2023-05-15T09:19:25.358820",
     "exception": false,
     "start_time": "2023-05-15T09:19:25.346895",
     "status": "completed"
    },
    "tags": []
   },
   "outputs": [],
   "source": [
    "raw_input = f\"/home/hd/hd_hd/hd_fu399/sds-hd/sd21k006/scRNAseq/revision_natcomm/combes_et_al/fetchngs/results/fastq/{sample_name}/{sample_name}/outs/raw_feature_bc_matrix.h5\""
   ]
  },
  {
   "cell_type": "code",
   "execution_count": null,
   "id": "e266d388-1802-435c-93a5-90067358739c",
   "metadata": {
    "execution": {
     "iopub.execute_input": "2023-05-15T09:19:25.364329Z",
     "iopub.status.busy": "2023-05-15T09:19:25.364199Z",
     "iopub.status.idle": "2023-05-15T09:19:25.767640Z",
     "shell.execute_reply": "2023-05-15T09:19:25.767255Z"
    },
    "papermill": {
     "duration": 0.407298,
     "end_time": "2023-05-15T09:19:25.768566",
     "exception": false,
     "start_time": "2023-05-15T09:19:25.361268",
     "status": "completed"
    },
    "tags": []
   },
   "outputs": [],
   "source": [
    "dataset = sc.read_10x_h5(raw_input)\n",
    "dataset.var_names_make_unique()\n",
    "dataset.obs_names_make_unique()\n",
    "\n",
    "dataset.layers[\"raw_counts\"] = dataset.X.copy()\n",
    "data_tod = dataset.layers[\"raw_counts\"].T.copy()\n",
    "\n",
    "dataset"
   ]
  },
  {
   "cell_type": "code",
   "execution_count": null,
   "id": "af9f5892-ed31-42a6-991b-4e096f582cef",
   "metadata": {
    "execution": {
     "iopub.execute_input": "2023-05-15T09:19:25.774963Z",
     "iopub.status.busy": "2023-05-15T09:19:25.774781Z",
     "iopub.status.idle": "2023-05-15T09:19:25.808655Z",
     "shell.execute_reply": "2023-05-15T09:19:25.808162Z"
    },
    "papermill": {
     "duration": 0.038297,
     "end_time": "2023-05-15T09:19:25.809890",
     "exception": false,
     "start_time": "2023-05-15T09:19:25.771593",
     "status": "completed"
    },
    "tags": []
   },
   "outputs": [],
   "source": [
    "sce = dataset.copy()"
   ]
  },
  {
   "cell_type": "code",
   "execution_count": null,
   "id": "d03f2caf-8e74-430e-b045-0ab80401d165",
   "metadata": {
    "execution": {
     "iopub.execute_input": "2023-05-15T09:19:25.816028Z",
     "iopub.status.busy": "2023-05-15T09:19:25.815846Z",
     "iopub.status.idle": "2023-05-15T09:20:20.764959Z",
     "shell.execute_reply": "2023-05-15T09:20:20.764356Z"
    },
    "papermill": {
     "duration": 54.953605,
     "end_time": "2023-05-15T09:20:20.766328",
     "exception": false,
     "start_time": "2023-05-15T09:19:25.812723",
     "status": "completed"
    },
    "tags": []
   },
   "outputs": [],
   "source": [
    "%%R -i sce -o empty_drop_output\n",
    "set.seed(187)\n",
    "empty_drop_output <- emptyDrops(assay(sce))"
   ]
  },
  {
   "cell_type": "code",
   "execution_count": null,
   "id": "2a34a54b-3ae2-44d6-8679-8769228c5b66",
   "metadata": {
    "execution": {
     "iopub.execute_input": "2023-05-15T09:20:20.774623Z",
     "iopub.status.busy": "2023-05-15T09:20:20.774460Z",
     "iopub.status.idle": "2023-05-15T09:20:20.810925Z",
     "shell.execute_reply": "2023-05-15T09:20:20.810611Z"
    },
    "papermill": {
     "duration": 0.040537,
     "end_time": "2023-05-15T09:20:20.811720",
     "exception": false,
     "start_time": "2023-05-15T09:20:20.771183",
     "status": "completed"
    },
    "tags": []
   },
   "outputs": [],
   "source": [
    "non_empty_barcodes = empty_drop_output[empty_drop_output[\"FDR\"] < 0.001].index\n",
    "dataset = dataset[dataset.obs.index.isin(non_empty_barcodes), :]\n",
    "dataset"
   ]
  },
  {
   "cell_type": "code",
   "execution_count": null,
   "id": "016a91e5-1bef-46fb-b91e-4fb9a6870c44",
   "metadata": {
    "execution": {
     "iopub.execute_input": "2023-05-15T09:20:20.817769Z",
     "iopub.status.busy": "2023-05-15T09:20:20.817611Z",
     "iopub.status.idle": "2023-05-15T09:20:24.102721Z",
     "shell.execute_reply": "2023-05-15T09:20:24.102191Z"
    },
    "papermill": {
     "duration": 3.289525,
     "end_time": "2023-05-15T09:20:24.103931",
     "exception": false,
     "start_time": "2023-05-15T09:20:20.814406",
     "status": "completed"
    },
    "tags": []
   },
   "outputs": [],
   "source": [
    "rna_assay = dataset.copy()\n",
    "sc.pp.normalize_per_cell(rna_assay)\n",
    "sc.pp.log1p(rna_assay)\n",
    "sc.pp.pca(rna_assay)\n",
    "sc.pp.neighbors(rna_assay)\n",
    "sc.tl.leiden(rna_assay, key_added=\"soupx_groups\")\n",
    "\n",
    "soupx_groups = rna_assay.obs[\"soupx_groups\"]\n",
    "\n",
    "del rna_assay\n",
    "\n",
    "genes = dataset.var_names\n",
    "cells = dataset.obs_names\n",
    "data = dataset.X.T.copy()"
   ]
  },
  {
   "cell_type": "code",
   "execution_count": null,
   "id": "9db4ea1f-1580-4f43-a3f0-86002397cd98",
   "metadata": {
    "execution": {
     "iopub.execute_input": "2023-05-15T09:20:24.111272Z",
     "iopub.status.busy": "2023-05-15T09:20:24.111072Z",
     "iopub.status.idle": "2023-05-15T09:20:32.356404Z",
     "shell.execute_reply": "2023-05-15T09:20:32.355645Z"
    },
    "papermill": {
     "duration": 8.250467,
     "end_time": "2023-05-15T09:20:32.357794",
     "exception": false,
     "start_time": "2023-05-15T09:20:24.107327",
     "status": "completed"
    },
    "tags": []
   },
   "outputs": [],
   "source": [
    "%%R -i data -i data_tod -i genes -i cells -i soupx_groups -o out \n",
    "set.seed(187)\n",
    "# specify row and column names of data\n",
    "rownames(data) = genes\n",
    "colnames(data) = cells\n",
    "# ensure correct sparse format for table of counts and table of droplets\n",
    "data <- as(data, \"sparseMatrix\")\n",
    "data_tod <- as(data_tod, \"sparseMatrix\")\n",
    "\n",
    "# Generate SoupChannel Object for SoupX \n",
    "sc = SoupChannel(data_tod, data, calcSoupProfile = FALSE)\n",
    "\n",
    "# Add extra meta data to the SoupChannel object\n",
    "soupProf = data.frame(row.names = rownames(data),\n",
    "                      est = rowSums(data)/sum(data),\n",
    "                      counts = rowSums(data))\n",
    "sc = setSoupProfile(sc, soupProf)\n",
    "# Set cluster information in SoupChannel\n",
    "sc = setClusters(sc, soupx_groups)\n",
    "\n",
    "# Estimate contamination fraction\n",
    "sc  = autoEstCont(sc, doPlot=FALSE, forceAccept = TRUE)\n",
    "# Infer corrected table of counts and rount to integer\n",
    "out = adjustCounts(sc, roundToInt = TRUE)"
   ]
  },
  {
   "cell_type": "code",
   "execution_count": null,
   "id": "32555d5e-5fa3-46dd-a4e0-ddc96ea265e2",
   "metadata": {
    "execution": {
     "iopub.execute_input": "2023-05-15T09:20:32.367966Z",
     "iopub.status.busy": "2023-05-15T09:20:32.367789Z",
     "iopub.status.idle": "2023-05-15T09:20:32.385507Z",
     "shell.execute_reply": "2023-05-15T09:20:32.385042Z"
    },
    "papermill": {
     "duration": 0.022284,
     "end_time": "2023-05-15T09:20:32.386663",
     "exception": false,
     "start_time": "2023-05-15T09:20:32.364379",
     "status": "completed"
    },
    "tags": []
   },
   "outputs": [],
   "source": [
    "dataset.layers[\"soupX_counts\"] = out.T\n",
    "dataset.X = dataset.layers[\"soupX_counts\"].copy()"
   ]
  },
  {
   "cell_type": "code",
   "execution_count": null,
   "id": "e27da7df-e094-4d2a-9109-5a363e012175",
   "metadata": {
    "execution": {
     "iopub.execute_input": "2023-05-15T09:20:32.393395Z",
     "iopub.status.busy": "2023-05-15T09:20:32.393231Z",
     "iopub.status.idle": "2023-05-15T09:20:32.395921Z",
     "shell.execute_reply": "2023-05-15T09:20:32.395547Z"
    },
    "papermill": {
     "duration": 0.006823,
     "end_time": "2023-05-15T09:20:32.396676",
     "exception": false,
     "start_time": "2023-05-15T09:20:32.389853",
     "status": "completed"
    },
    "tags": []
   },
   "outputs": [],
   "source": [
    "data_mat = dataset.X.T"
   ]
  },
  {
   "cell_type": "code",
   "execution_count": null,
   "id": "80a993b1-5ccb-4697-9187-1beb7ab8aff9",
   "metadata": {
    "execution": {
     "iopub.execute_input": "2023-05-15T09:20:32.402975Z",
     "iopub.status.busy": "2023-05-15T09:20:32.402703Z",
     "iopub.status.idle": "2023-05-15T09:20:47.110502Z",
     "shell.execute_reply": "2023-05-15T09:20:47.109919Z"
    },
    "papermill": {
     "duration": 14.712383,
     "end_time": "2023-05-15T09:20:47.111881",
     "exception": false,
     "start_time": "2023-05-15T09:20:32.399498",
     "status": "completed"
    },
    "tags": []
   },
   "outputs": [],
   "source": [
    "%%R -i data_mat -o droplet_class\n",
    "\n",
    "set.seed(187)\n",
    "sce = scDblFinder(\n",
    "    SingleCellExperiment(\n",
    "        list(counts=data_mat),\n",
    "    ) \n",
    ")\n",
    "droplet_class = sce$scDblFinder.class"
   ]
  },
  {
   "cell_type": "code",
   "execution_count": null,
   "id": "d4dd6e9d-fcf2-41fc-8457-c8e0a3cb2c71",
   "metadata": {
    "execution": {
     "iopub.execute_input": "2023-05-15T09:20:47.121164Z",
     "iopub.status.busy": "2023-05-15T09:20:47.121001Z",
     "iopub.status.idle": "2023-05-15T09:20:47.125965Z",
     "shell.execute_reply": "2023-05-15T09:20:47.125624Z"
    },
    "papermill": {
     "duration": 0.009601,
     "end_time": "2023-05-15T09:20:47.126721",
     "exception": false,
     "start_time": "2023-05-15T09:20:47.117120",
     "status": "completed"
    },
    "tags": []
   },
   "outputs": [],
   "source": [
    "dataset.obs[\"scDblFinder_class\"] = droplet_class\n",
    "dataset.obs.scDblFinder_class.value_counts()\n",
    "dataset"
   ]
  },
  {
   "cell_type": "code",
   "execution_count": null,
   "id": "28c95014-2d6c-477f-95cb-9f9f0507520c",
   "metadata": {
    "execution": {
     "iopub.execute_input": "2023-05-15T09:20:47.133047Z",
     "iopub.status.busy": "2023-05-15T09:20:47.132887Z",
     "iopub.status.idle": "2023-05-15T09:20:47.137712Z",
     "shell.execute_reply": "2023-05-15T09:20:47.137383Z"
    },
    "papermill": {
     "duration": 0.008921,
     "end_time": "2023-05-15T09:20:47.138478",
     "exception": false,
     "start_time": "2023-05-15T09:20:47.129557",
     "status": "completed"
    },
    "tags": []
   },
   "outputs": [],
   "source": [
    "dataset = dataset[dataset.obs[\"scDblFinder_class\"] == 1]"
   ]
  },
  {
   "cell_type": "code",
   "execution_count": null,
   "id": "3e22f9e0-bfcb-416c-a151-a9bca3bec3b9",
   "metadata": {
    "execution": {
     "iopub.execute_input": "2023-05-15T09:20:47.144980Z",
     "iopub.status.busy": "2023-05-15T09:20:47.144804Z",
     "iopub.status.idle": "2023-05-15T09:20:47.228617Z",
     "shell.execute_reply": "2023-05-15T09:20:47.228180Z"
    },
    "papermill": {
     "duration": 0.088056,
     "end_time": "2023-05-15T09:20:47.229456",
     "exception": false,
     "start_time": "2023-05-15T09:20:47.141400",
     "status": "completed"
    },
    "tags": []
   },
   "outputs": [],
   "source": [
    "# mitochondrial genes\n",
    "dataset.var[\"mt\"] = dataset.var_names.str.startswith(\"MT-\")\n",
    "# ribosomal genes\n",
    "dataset.var[\"ribo\"] = dataset.var_names.str.startswith((\"RPS\", \"RPL\"))\n",
    "# hemoglobin genes.\n",
    "dataset.var[\"hb\"] = dataset.var_names.str.contains((\"^HB[^(P)]\"))\n",
    "\n",
    "sc.pp.calculate_qc_metrics(dataset,\n",
    "                           qc_vars=['mt', 'ribo', 'hb'],\n",
    "                           percent_top=None,\n",
    "                           log1p=False,\n",
    "                           inplace=True)\n",
    "dataset"
   ]
  },
  {
   "cell_type": "code",
   "execution_count": null,
   "id": "34deee79-4043-428f-8575-aa57b45f6369",
   "metadata": {
    "execution": {
     "iopub.execute_input": "2023-05-15T09:20:47.236624Z",
     "iopub.status.busy": "2023-05-15T09:20:47.236437Z",
     "iopub.status.idle": "2023-05-15T09:20:47.704139Z",
     "shell.execute_reply": "2023-05-15T09:20:47.703754Z"
    },
    "papermill": {
     "duration": 0.472163,
     "end_time": "2023-05-15T09:20:47.705005",
     "exception": false,
     "start_time": "2023-05-15T09:20:47.232842",
     "status": "completed"
    },
    "tags": []
   },
   "outputs": [],
   "source": [
    "fig, ax = plt.subplots(ncols = 4, figsize = (16,4))\n",
    "axis = sc.pl.violin(dataset, \"n_genes_by_counts\", jitter = 0.4, ax = ax[0], show = False)\n",
    "axis.grid(False)\n",
    "axis.set_title(\"Unique Genes per cell\")\n",
    "axis.tick_params(axis = \"x\", bottom =False, labelbottom =False)\n",
    "axis.set_ylabel(\"# genes\")\n",
    "axis.axhline(y = 100, color = \"black\", label = \"cutoff\")\n",
    "axis.legend(fontsize = 14, loc = \"upper right\")\n",
    "\n",
    "axis = sc.pl.violin(dataset, \"pct_counts_mt\", jitter = 0.4, ax = ax[1], show = False)\n",
    "axis.grid(False)\n",
    "axis.set_title(\"Mitochondrial Fraction\")\n",
    "axis.tick_params(axis = \"x\", bottom =False, labelbottom =False)\n",
    "axis.set_ylabel(\"% mitochondrial genes\")\n",
    "axis.axhline(y = 10, color = \"black\", label = \"cutoff\")\n",
    "axis.legend(fontsize = 14, loc = \"upper right\")\n",
    "\n",
    "axis = sc.pl.violin(dataset, \"pct_counts_hb\", jitter = 0.4, ax = ax[2], show = False, size =2)\n",
    "axis.grid(False)\n",
    "axis.set_title(\"Hemoglobin Fraction\")\n",
    "axis.tick_params(axis = \"x\", bottom =False, labelbottom =False)\n",
    "axis.set_ylabel(\"% hemoglobin genes\")\n",
    "axis.axhline(y = 3, color = \"black\", label = \"cutoff\")\n",
    "axis.legend(fontsize = 14, loc = \"upper right\")\n",
    "#axis.set_ylim(0,5)\n",
    "\n",
    "axis = sc.pl.violin(dataset, \"pct_counts_ribo\", jitter = 0.4, ax = ax[3], show = False)\n",
    "axis.grid(False)\n",
    "axis.set_title(\"Ribosomal Fraction\")\n",
    "axis.tick_params(axis = \"x\", bottom =False, labelbottom =False)\n",
    "axis.set_ylabel(\"% ribosome genes\")\n",
    "\n",
    "plt.tight_layout()\n",
    "#plt.savefig(f\"{outputDir}08_gene_based_filtering.pdf\", dpi = 300)\n",
    "plt.show()\n",
    "\n"
   ]
  },
  {
   "cell_type": "code",
   "execution_count": null,
   "id": "d7ade754-843e-4840-8707-426613d8c0c5",
   "metadata": {
    "execution": {
     "iopub.execute_input": "2023-05-15T09:20:47.714463Z",
     "iopub.status.busy": "2023-05-15T09:20:47.714278Z",
     "iopub.status.idle": "2023-05-15T09:20:47.722942Z",
     "shell.execute_reply": "2023-05-15T09:20:47.722629Z"
    },
    "papermill": {
     "duration": 0.014251,
     "end_time": "2023-05-15T09:20:47.723783",
     "exception": false,
     "start_time": "2023-05-15T09:20:47.709532",
     "status": "completed"
    },
    "tags": []
   },
   "outputs": [],
   "source": [
    "dataset = dataset[dataset.obs.pct_counts_mt < 10, :]\n",
    "dataset = dataset[dataset.obs.n_genes_by_counts > 100, :]\n",
    "dataset = dataset[dataset.obs.pct_counts_hb < 3, :]\n",
    "dataset"
   ]
  },
  {
   "cell_type": "code",
   "execution_count": null,
   "id": "1941fa36-e865-4500-b586-f7a32d142c9b",
   "metadata": {
    "execution": {
     "iopub.execute_input": "2023-05-15T09:20:47.733129Z",
     "iopub.status.busy": "2023-05-15T09:20:47.732975Z",
     "iopub.status.idle": "2023-05-15T09:20:47.736001Z",
     "shell.execute_reply": "2023-05-15T09:20:47.735690Z"
    },
    "papermill": {
     "duration": 0.008925,
     "end_time": "2023-05-15T09:20:47.736789",
     "exception": false,
     "start_time": "2023-05-15T09:20:47.727864",
     "status": "completed"
    },
    "tags": []
   },
   "outputs": [],
   "source": [
    "metadata.columns"
   ]
  },
  {
   "cell_type": "code",
   "execution_count": null,
   "id": "2e0ff8c3-2aa9-4a01-9b88-5912a6734447",
   "metadata": {
    "execution": {
     "iopub.execute_input": "2023-05-15T09:20:47.746224Z",
     "iopub.status.busy": "2023-05-15T09:20:47.745955Z",
     "iopub.status.idle": "2023-05-15T09:20:47.768180Z",
     "shell.execute_reply": "2023-05-15T09:20:47.767780Z"
    },
    "papermill": {
     "duration": 0.028172,
     "end_time": "2023-05-15T09:20:47.769345",
     "exception": false,
     "start_time": "2023-05-15T09:20:47.741173",
     "status": "completed"
    },
    "tags": []
   },
   "outputs": [],
   "source": [
    "for col in metadata.columns:\n",
    "    dataset.obs[col] = metadata.loc[metadata[\"Run\"] == sample_name, col].to_list()[0]"
   ]
  },
  {
   "cell_type": "code",
   "execution_count": null,
   "id": "b84578d3-d63e-419c-a272-a0b8317d05ab",
   "metadata": {
    "execution": {
     "iopub.execute_input": "2023-05-15T09:20:47.778988Z",
     "iopub.status.busy": "2023-05-15T09:20:47.778801Z",
     "iopub.status.idle": "2023-05-15T09:20:48.376642Z",
     "shell.execute_reply": "2023-05-15T09:20:48.376182Z"
    },
    "papermill": {
     "duration": 0.604031,
     "end_time": "2023-05-15T09:20:48.377936",
     "exception": false,
     "start_time": "2023-05-15T09:20:47.773905",
     "status": "completed"
    },
    "tags": []
   },
   "outputs": [],
   "source": [
    "dataset.write(f\"../../int_data/{sample_name}_qc.h5ad\")"
   ]
  },
  {
   "cell_type": "code",
   "execution_count": null,
   "id": "501b33a0-432d-415f-ae82-50723484b85d",
   "metadata": {
    "execution": {
     "iopub.execute_input": "2023-05-15T09:20:48.387400Z",
     "iopub.status.busy": "2023-05-15T09:20:48.387213Z",
     "iopub.status.idle": "2023-05-15T09:20:48.390328Z",
     "shell.execute_reply": "2023-05-15T09:20:48.389988Z"
    },
    "papermill": {
     "duration": 0.008565,
     "end_time": "2023-05-15T09:20:48.391097",
     "exception": false,
     "start_time": "2023-05-15T09:20:48.382532",
     "status": "completed"
    },
    "tags": []
   },
   "outputs": [],
   "source": [
    "dataset"
   ]
  }
 ],
 "metadata": {
  "kernelspec": {
   "display_name": "py_R",
   "language": "python",
   "name": "python_r"
  },
  "language_info": {
   "codemirror_mode": {
    "name": "ipython",
    "version": 3
   },
   "file_extension": ".py",
   "mimetype": "text/x-python",
   "name": "python",
   "nbconvert_exporter": "python",
   "pygments_lexer": "ipython3",
   "version": "3.10.9"
  },
  "papermill": {
   "default_parameters": {},
   "duration": 100.265805,
   "end_time": "2023-05-15T09:20:49.913050",
   "environment_variables": {},
   "exception": null,
   "input_path": "template.ipynb",
   "output_path": "SRR13329142.ipynb",
   "parameters": {
    "sample_name": "SRR13329142"
   },
   "start_time": "2023-05-15T09:19:09.647245",
   "version": "2.4.0"
  }
 },
 "nbformat": 4,
 "nbformat_minor": 5
}
