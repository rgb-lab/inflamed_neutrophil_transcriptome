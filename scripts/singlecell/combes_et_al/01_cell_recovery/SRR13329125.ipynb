{
 "cells": [
  {
   "cell_type": "code",
   "execution_count": null,
   "id": "4c0f2fa8-5232-4f47-a7ec-6c9bbabe50e2",
   "metadata": {
    "execution": {
     "iopub.execute_input": "2023-05-15T08:17:18.730177Z",
     "iopub.status.busy": "2023-05-15T08:17:18.729961Z",
     "iopub.status.idle": "2023-05-15T08:17:18.734249Z",
     "shell.execute_reply": "2023-05-15T08:17:18.733942Z"
    },
    "papermill": {
     "duration": 0.008394,
     "end_time": "2023-05-15T08:17:18.735031",
     "exception": false,
     "start_time": "2023-05-15T08:17:18.726637",
     "status": "completed"
    },
    "tags": [
     "parameters"
    ]
   },
   "outputs": [],
   "source": [
    "sample_name = \"SRR13329143\""
   ]
  },
  {
   "cell_type": "code",
   "execution_count": null,
   "id": "af60603a",
   "metadata": {
    "execution": {
     "iopub.execute_input": "2023-05-15T08:17:18.740409Z",
     "iopub.status.busy": "2023-05-15T08:17:18.740030Z",
     "iopub.status.idle": "2023-05-15T08:17:18.742033Z",
     "shell.execute_reply": "2023-05-15T08:17:18.741744Z"
    },
    "papermill": {
     "duration": 0.00542,
     "end_time": "2023-05-15T08:17:18.742782",
     "exception": false,
     "start_time": "2023-05-15T08:17:18.737362",
     "status": "completed"
    },
    "tags": [
     "injected-parameters"
    ]
   },
   "outputs": [],
   "source": [
    "# Parameters\n",
    "sample_name = \"SRR13329125\"\n"
   ]
  },
  {
   "cell_type": "code",
   "execution_count": null,
   "id": "f87ed95b-2b67-4a5a-8fe2-47359b1dd2a9",
   "metadata": {
    "execution": {
     "iopub.execute_input": "2023-05-15T08:17:18.747699Z",
     "iopub.status.busy": "2023-05-15T08:17:18.747559Z",
     "iopub.status.idle": "2023-05-15T08:17:18.749664Z",
     "shell.execute_reply": "2023-05-15T08:17:18.749367Z"
    },
    "papermill": {
     "duration": 0.005427,
     "end_time": "2023-05-15T08:17:18.750421",
     "exception": false,
     "start_time": "2023-05-15T08:17:18.744994",
     "status": "completed"
    },
    "tags": []
   },
   "outputs": [],
   "source": [
    "import warnings\n",
    "warnings.simplefilter(action='ignore', category=FutureWarning)\n",
    "warnings.simplefilter(action='ignore', category=UserWarning)"
   ]
  },
  {
   "cell_type": "code",
   "execution_count": null,
   "id": "85161f19-b2c5-490b-8cab-c2cf9653b304",
   "metadata": {
    "execution": {
     "iopub.execute_input": "2023-05-15T08:17:18.755635Z",
     "iopub.status.busy": "2023-05-15T08:17:18.755339Z",
     "iopub.status.idle": "2023-05-15T08:17:23.708422Z",
     "shell.execute_reply": "2023-05-15T08:17:23.707929Z"
    },
    "papermill": {
     "duration": 4.957099,
     "end_time": "2023-05-15T08:17:23.709814",
     "exception": false,
     "start_time": "2023-05-15T08:17:18.752715",
     "status": "completed"
    },
    "tags": []
   },
   "outputs": [],
   "source": [
    "import gc\n",
    "import scanpy as sc\n",
    "import muon as mu\n",
    "import seaborn as sns\n",
    "import os\n",
    "import pandas as pd\n",
    "from matplotlib import pyplot as plt\n",
    "\n",
    "os.environ['R_HOME'] = '/gpfs/bwfor/work/ws/hd_fu399-conda/conda/envs/python_R/lib/R/'\n",
    "import anndata2ri\n",
    "import logging\n",
    "\n",
    "import rpy2.rinterface_lib.callbacks as rcb\n",
    "import rpy2.robjects as ro\n",
    "\n",
    "rcb.logger.setLevel(logging.ERROR)\n",
    "ro.pandas2ri.activate()\n",
    "anndata2ri.activate()\n",
    "\n",
    "%load_ext rpy2.ipython"
   ]
  },
  {
   "cell_type": "code",
   "execution_count": null,
   "id": "fc4ade78-b728-4704-9db6-45fbaab62ba1",
   "metadata": {
    "execution": {
     "iopub.execute_input": "2023-05-15T08:17:23.716045Z",
     "iopub.status.busy": "2023-05-15T08:17:23.715709Z",
     "iopub.status.idle": "2023-05-15T08:17:35.849465Z",
     "shell.execute_reply": "2023-05-15T08:17:35.848962Z"
    },
    "papermill": {
     "duration": 12.13789,
     "end_time": "2023-05-15T08:17:35.850651",
     "exception": false,
     "start_time": "2023-05-15T08:17:23.712761",
     "status": "completed"
    },
    "tags": []
   },
   "outputs": [],
   "source": [
    "%%R\n",
    "library(SoupX)\n",
    "library(Seurat)\n",
    "library(scater)\n",
    "library(scDblFinder)\n",
    "library(BiocParallel)\n",
    "library(MuDataSeurat)\n",
    "library(DropletUtils)"
   ]
  },
  {
   "cell_type": "code",
   "execution_count": null,
   "id": "f7424d90-7690-4290-8651-1db3f9df3a35",
   "metadata": {
    "execution": {
     "iopub.execute_input": "2023-05-15T08:17:35.860750Z",
     "iopub.status.busy": "2023-05-15T08:17:35.860514Z",
     "iopub.status.idle": "2023-05-15T08:17:35.867434Z",
     "shell.execute_reply": "2023-05-15T08:17:35.867108Z"
    },
    "papermill": {
     "duration": 0.011234,
     "end_time": "2023-05-15T08:17:35.868505",
     "exception": false,
     "start_time": "2023-05-15T08:17:35.857271",
     "status": "completed"
    },
    "tags": []
   },
   "outputs": [],
   "source": [
    "metadata = pd.read_csv(\"../../combes_metadata.txt\")"
   ]
  },
  {
   "cell_type": "code",
   "execution_count": null,
   "id": "2574ecf1-bad4-4c33-8f3f-718a358727ab",
   "metadata": {
    "execution": {
     "iopub.execute_input": "2023-05-15T08:17:35.874163Z",
     "iopub.status.busy": "2023-05-15T08:17:35.873924Z",
     "iopub.status.idle": "2023-05-15T08:17:35.875996Z",
     "shell.execute_reply": "2023-05-15T08:17:35.875693Z"
    },
    "papermill": {
     "duration": 0.005861,
     "end_time": "2023-05-15T08:17:35.876781",
     "exception": false,
     "start_time": "2023-05-15T08:17:35.870920",
     "status": "completed"
    },
    "tags": []
   },
   "outputs": [],
   "source": [
    "raw_input = f\"/home/hd/hd_hd/hd_fu399/sds-hd/sd21k006/scRNAseq/revision_natcomm/combes_et_al/fetchngs/results/fastq/{sample_name}/{sample_name}/outs/raw_feature_bc_matrix.h5\""
   ]
  },
  {
   "cell_type": "code",
   "execution_count": null,
   "id": "e266d388-1802-435c-93a5-90067358739c",
   "metadata": {
    "execution": {
     "iopub.execute_input": "2023-05-15T08:17:35.882637Z",
     "iopub.status.busy": "2023-05-15T08:17:35.882383Z",
     "iopub.status.idle": "2023-05-15T08:17:36.277674Z",
     "shell.execute_reply": "2023-05-15T08:17:36.277219Z"
    },
    "papermill": {
     "duration": 0.399313,
     "end_time": "2023-05-15T08:17:36.278584",
     "exception": false,
     "start_time": "2023-05-15T08:17:35.879271",
     "status": "completed"
    },
    "tags": []
   },
   "outputs": [],
   "source": [
    "dataset = sc.read_10x_h5(raw_input)\n",
    "dataset.var_names_make_unique()\n",
    "dataset.obs_names_make_unique()\n",
    "\n",
    "dataset.layers[\"raw_counts\"] = dataset.X.copy()\n",
    "data_tod = dataset.layers[\"raw_counts\"].T.copy()\n",
    "\n",
    "dataset"
   ]
  },
  {
   "cell_type": "code",
   "execution_count": null,
   "id": "af9f5892-ed31-42a6-991b-4e096f582cef",
   "metadata": {
    "execution": {
     "iopub.execute_input": "2023-05-15T08:17:36.285608Z",
     "iopub.status.busy": "2023-05-15T08:17:36.285283Z",
     "iopub.status.idle": "2023-05-15T08:17:36.316571Z",
     "shell.execute_reply": "2023-05-15T08:17:36.316098Z"
    },
    "papermill": {
     "duration": 0.035852,
     "end_time": "2023-05-15T08:17:36.317816",
     "exception": false,
     "start_time": "2023-05-15T08:17:36.281964",
     "status": "completed"
    },
    "tags": []
   },
   "outputs": [],
   "source": [
    "sce = dataset.copy()"
   ]
  },
  {
   "cell_type": "code",
   "execution_count": null,
   "id": "d03f2caf-8e74-430e-b045-0ab80401d165",
   "metadata": {
    "execution": {
     "iopub.execute_input": "2023-05-15T08:17:36.324905Z",
     "iopub.status.busy": "2023-05-15T08:17:36.324546Z",
     "iopub.status.idle": "2023-05-15T08:18:36.028783Z",
     "shell.execute_reply": "2023-05-15T08:18:36.028165Z"
    },
    "papermill": {
     "duration": 59.709059,
     "end_time": "2023-05-15T08:18:36.030181",
     "exception": false,
     "start_time": "2023-05-15T08:17:36.321122",
     "status": "completed"
    },
    "tags": []
   },
   "outputs": [],
   "source": [
    "%%R -i sce -o empty_drop_output\n",
    "set.seed(187)\n",
    "empty_drop_output <- emptyDrops(assay(sce))"
   ]
  },
  {
   "cell_type": "code",
   "execution_count": null,
   "id": "2a34a54b-3ae2-44d6-8679-8769228c5b66",
   "metadata": {
    "execution": {
     "iopub.execute_input": "2023-05-15T08:18:36.041013Z",
     "iopub.status.busy": "2023-05-15T08:18:36.040839Z",
     "iopub.status.idle": "2023-05-15T08:18:36.062135Z",
     "shell.execute_reply": "2023-05-15T08:18:36.061828Z"
    },
    "papermill": {
     "duration": 0.025594,
     "end_time": "2023-05-15T08:18:36.062942",
     "exception": false,
     "start_time": "2023-05-15T08:18:36.037348",
     "status": "completed"
    },
    "tags": []
   },
   "outputs": [],
   "source": [
    "non_empty_barcodes = empty_drop_output[empty_drop_output[\"FDR\"] < 0.001].index\n",
    "dataset = dataset[dataset.obs.index.isin(non_empty_barcodes), :]\n",
    "dataset"
   ]
  },
  {
   "cell_type": "code",
   "execution_count": null,
   "id": "016a91e5-1bef-46fb-b91e-4fb9a6870c44",
   "metadata": {
    "execution": {
     "iopub.execute_input": "2023-05-15T08:18:36.069228Z",
     "iopub.status.busy": "2023-05-15T08:18:36.068915Z",
     "iopub.status.idle": "2023-05-15T08:18:38.255414Z",
     "shell.execute_reply": "2023-05-15T08:18:38.254903Z"
    },
    "papermill": {
     "duration": 2.190957,
     "end_time": "2023-05-15T08:18:38.256709",
     "exception": false,
     "start_time": "2023-05-15T08:18:36.065752",
     "status": "completed"
    },
    "tags": []
   },
   "outputs": [],
   "source": [
    "rna_assay = dataset.copy()\n",
    "sc.pp.normalize_per_cell(rna_assay)\n",
    "sc.pp.log1p(rna_assay)\n",
    "sc.pp.pca(rna_assay)\n",
    "sc.pp.neighbors(rna_assay)\n",
    "sc.tl.leiden(rna_assay, key_added=\"soupx_groups\")\n",
    "\n",
    "soupx_groups = rna_assay.obs[\"soupx_groups\"]\n",
    "\n",
    "del rna_assay\n",
    "\n",
    "genes = dataset.var_names\n",
    "cells = dataset.obs_names\n",
    "data = dataset.X.T.copy()"
   ]
  },
  {
   "cell_type": "code",
   "execution_count": null,
   "id": "9db4ea1f-1580-4f43-a3f0-86002397cd98",
   "metadata": {
    "execution": {
     "iopub.execute_input": "2023-05-15T08:18:38.263791Z",
     "iopub.status.busy": "2023-05-15T08:18:38.263622Z",
     "iopub.status.idle": "2023-05-15T08:18:43.629598Z",
     "shell.execute_reply": "2023-05-15T08:18:43.628977Z"
    },
    "papermill": {
     "duration": 5.370714,
     "end_time": "2023-05-15T08:18:43.630995",
     "exception": false,
     "start_time": "2023-05-15T08:18:38.260281",
     "status": "completed"
    },
    "tags": []
   },
   "outputs": [],
   "source": [
    "%%R -i data -i data_tod -i genes -i cells -i soupx_groups -o out \n",
    "set.seed(187)\n",
    "# specify row and column names of data\n",
    "rownames(data) = genes\n",
    "colnames(data) = cells\n",
    "# ensure correct sparse format for table of counts and table of droplets\n",
    "data <- as(data, \"sparseMatrix\")\n",
    "data_tod <- as(data_tod, \"sparseMatrix\")\n",
    "\n",
    "# Generate SoupChannel Object for SoupX \n",
    "sc = SoupChannel(data_tod, data, calcSoupProfile = FALSE)\n",
    "\n",
    "# Add extra meta data to the SoupChannel object\n",
    "soupProf = data.frame(row.names = rownames(data),\n",
    "                      est = rowSums(data)/sum(data),\n",
    "                      counts = rowSums(data))\n",
    "sc = setSoupProfile(sc, soupProf)\n",
    "# Set cluster information in SoupChannel\n",
    "sc = setClusters(sc, soupx_groups)\n",
    "\n",
    "# Estimate contamination fraction\n",
    "sc  = autoEstCont(sc, doPlot=FALSE, forceAccept = TRUE)\n",
    "# Infer corrected table of counts and rount to integer\n",
    "out = adjustCounts(sc, roundToInt = TRUE)"
   ]
  },
  {
   "cell_type": "code",
   "execution_count": null,
   "id": "32555d5e-5fa3-46dd-a4e0-ddc96ea265e2",
   "metadata": {
    "execution": {
     "iopub.execute_input": "2023-05-15T08:18:43.641803Z",
     "iopub.status.busy": "2023-05-15T08:18:43.641612Z",
     "iopub.status.idle": "2023-05-15T08:18:43.651806Z",
     "shell.execute_reply": "2023-05-15T08:18:43.651391Z"
    },
    "papermill": {
     "duration": 0.014745,
     "end_time": "2023-05-15T08:18:43.652791",
     "exception": false,
     "start_time": "2023-05-15T08:18:43.638046",
     "status": "completed"
    },
    "tags": []
   },
   "outputs": [],
   "source": [
    "dataset.layers[\"soupX_counts\"] = out.T\n",
    "dataset.X = dataset.layers[\"soupX_counts\"].copy()"
   ]
  },
  {
   "cell_type": "code",
   "execution_count": null,
   "id": "e27da7df-e094-4d2a-9109-5a363e012175",
   "metadata": {
    "execution": {
     "iopub.execute_input": "2023-05-15T08:18:43.659741Z",
     "iopub.status.busy": "2023-05-15T08:18:43.659554Z",
     "iopub.status.idle": "2023-05-15T08:18:43.661958Z",
     "shell.execute_reply": "2023-05-15T08:18:43.661629Z"
    },
    "papermill": {
     "duration": 0.00672,
     "end_time": "2023-05-15T08:18:43.662850",
     "exception": false,
     "start_time": "2023-05-15T08:18:43.656130",
     "status": "completed"
    },
    "tags": []
   },
   "outputs": [],
   "source": [
    "data_mat = dataset.X.T"
   ]
  },
  {
   "cell_type": "code",
   "execution_count": null,
   "id": "80a993b1-5ccb-4697-9187-1beb7ab8aff9",
   "metadata": {
    "execution": {
     "iopub.execute_input": "2023-05-15T08:18:43.669213Z",
     "iopub.status.busy": "2023-05-15T08:18:43.668918Z",
     "iopub.status.idle": "2023-05-15T08:18:56.894461Z",
     "shell.execute_reply": "2023-05-15T08:18:56.893878Z"
    },
    "papermill": {
     "duration": 13.230206,
     "end_time": "2023-05-15T08:18:56.895829",
     "exception": false,
     "start_time": "2023-05-15T08:18:43.665623",
     "status": "completed"
    },
    "tags": []
   },
   "outputs": [],
   "source": [
    "%%R -i data_mat -o droplet_class\n",
    "\n",
    "set.seed(187)\n",
    "sce = scDblFinder(\n",
    "    SingleCellExperiment(\n",
    "        list(counts=data_mat),\n",
    "    ) \n",
    ")\n",
    "droplet_class = sce$scDblFinder.class"
   ]
  },
  {
   "cell_type": "code",
   "execution_count": null,
   "id": "d4dd6e9d-fcf2-41fc-8457-c8e0a3cb2c71",
   "metadata": {
    "execution": {
     "iopub.execute_input": "2023-05-15T08:18:56.906722Z",
     "iopub.status.busy": "2023-05-15T08:18:56.906557Z",
     "iopub.status.idle": "2023-05-15T08:18:56.911492Z",
     "shell.execute_reply": "2023-05-15T08:18:56.911185Z"
    },
    "papermill": {
     "duration": 0.009203,
     "end_time": "2023-05-15T08:18:56.912237",
     "exception": false,
     "start_time": "2023-05-15T08:18:56.903034",
     "status": "completed"
    },
    "tags": []
   },
   "outputs": [],
   "source": [
    "dataset.obs[\"scDblFinder_class\"] = droplet_class\n",
    "dataset.obs.scDblFinder_class.value_counts()\n",
    "dataset"
   ]
  },
  {
   "cell_type": "code",
   "execution_count": null,
   "id": "28c95014-2d6c-477f-95cb-9f9f0507520c",
   "metadata": {
    "execution": {
     "iopub.execute_input": "2023-05-15T08:18:56.918629Z",
     "iopub.status.busy": "2023-05-15T08:18:56.918481Z",
     "iopub.status.idle": "2023-05-15T08:18:56.921827Z",
     "shell.execute_reply": "2023-05-15T08:18:56.921515Z"
    },
    "papermill": {
     "duration": 0.007365,
     "end_time": "2023-05-15T08:18:56.922552",
     "exception": false,
     "start_time": "2023-05-15T08:18:56.915187",
     "status": "completed"
    },
    "tags": []
   },
   "outputs": [],
   "source": [
    "dataset = dataset[dataset.obs[\"scDblFinder_class\"] == 1]"
   ]
  },
  {
   "cell_type": "code",
   "execution_count": null,
   "id": "3e22f9e0-bfcb-416c-a151-a9bca3bec3b9",
   "metadata": {
    "execution": {
     "iopub.execute_input": "2023-05-15T08:18:56.928927Z",
     "iopub.status.busy": "2023-05-15T08:18:56.928719Z",
     "iopub.status.idle": "2023-05-15T08:18:56.983434Z",
     "shell.execute_reply": "2023-05-15T08:18:56.983010Z"
    },
    "papermill": {
     "duration": 0.058867,
     "end_time": "2023-05-15T08:18:56.984270",
     "exception": false,
     "start_time": "2023-05-15T08:18:56.925403",
     "status": "completed"
    },
    "tags": []
   },
   "outputs": [],
   "source": [
    "# mitochondrial genes\n",
    "dataset.var[\"mt\"] = dataset.var_names.str.startswith(\"MT-\")\n",
    "# ribosomal genes\n",
    "dataset.var[\"ribo\"] = dataset.var_names.str.startswith((\"RPS\", \"RPL\"))\n",
    "# hemoglobin genes.\n",
    "dataset.var[\"hb\"] = dataset.var_names.str.contains((\"^HB[^(P)]\"))\n",
    "\n",
    "sc.pp.calculate_qc_metrics(dataset,\n",
    "                           qc_vars=['mt', 'ribo', 'hb'],\n",
    "                           percent_top=None,\n",
    "                           log1p=False,\n",
    "                           inplace=True)\n",
    "dataset"
   ]
  },
  {
   "cell_type": "code",
   "execution_count": null,
   "id": "34deee79-4043-428f-8575-aa57b45f6369",
   "metadata": {
    "execution": {
     "iopub.execute_input": "2023-05-15T08:18:56.991616Z",
     "iopub.status.busy": "2023-05-15T08:18:56.991448Z",
     "iopub.status.idle": "2023-05-15T08:18:57.394115Z",
     "shell.execute_reply": "2023-05-15T08:18:57.393714Z"
    },
    "papermill": {
     "duration": 0.407197,
     "end_time": "2023-05-15T08:18:57.395006",
     "exception": false,
     "start_time": "2023-05-15T08:18:56.987809",
     "status": "completed"
    },
    "tags": []
   },
   "outputs": [],
   "source": [
    "fig, ax = plt.subplots(ncols = 4, figsize = (16,4))\n",
    "axis = sc.pl.violin(dataset, \"n_genes_by_counts\", jitter = 0.4, ax = ax[0], show = False)\n",
    "axis.grid(False)\n",
    "axis.set_title(\"Unique Genes per cell\")\n",
    "axis.tick_params(axis = \"x\", bottom =False, labelbottom =False)\n",
    "axis.set_ylabel(\"# genes\")\n",
    "axis.axhline(y = 100, color = \"black\", label = \"cutoff\")\n",
    "axis.legend(fontsize = 14, loc = \"upper right\")\n",
    "\n",
    "axis = sc.pl.violin(dataset, \"pct_counts_mt\", jitter = 0.4, ax = ax[1], show = False)\n",
    "axis.grid(False)\n",
    "axis.set_title(\"Mitochondrial Fraction\")\n",
    "axis.tick_params(axis = \"x\", bottom =False, labelbottom =False)\n",
    "axis.set_ylabel(\"% mitochondrial genes\")\n",
    "axis.axhline(y = 10, color = \"black\", label = \"cutoff\")\n",
    "axis.legend(fontsize = 14, loc = \"upper right\")\n",
    "\n",
    "axis = sc.pl.violin(dataset, \"pct_counts_hb\", jitter = 0.4, ax = ax[2], show = False, size =2)\n",
    "axis.grid(False)\n",
    "axis.set_title(\"Hemoglobin Fraction\")\n",
    "axis.tick_params(axis = \"x\", bottom =False, labelbottom =False)\n",
    "axis.set_ylabel(\"% hemoglobin genes\")\n",
    "axis.axhline(y = 3, color = \"black\", label = \"cutoff\")\n",
    "axis.legend(fontsize = 14, loc = \"upper right\")\n",
    "#axis.set_ylim(0,5)\n",
    "\n",
    "axis = sc.pl.violin(dataset, \"pct_counts_ribo\", jitter = 0.4, ax = ax[3], show = False)\n",
    "axis.grid(False)\n",
    "axis.set_title(\"Ribosomal Fraction\")\n",
    "axis.tick_params(axis = \"x\", bottom =False, labelbottom =False)\n",
    "axis.set_ylabel(\"% ribosome genes\")\n",
    "\n",
    "plt.tight_layout()\n",
    "#plt.savefig(f\"{outputDir}08_gene_based_filtering.pdf\", dpi = 300)\n",
    "plt.show()\n",
    "\n"
   ]
  },
  {
   "cell_type": "code",
   "execution_count": null,
   "id": "d7ade754-843e-4840-8707-426613d8c0c5",
   "metadata": {
    "execution": {
     "iopub.execute_input": "2023-05-15T08:18:57.404443Z",
     "iopub.status.busy": "2023-05-15T08:18:57.404241Z",
     "iopub.status.idle": "2023-05-15T08:18:57.412608Z",
     "shell.execute_reply": "2023-05-15T08:18:57.412253Z"
    },
    "papermill": {
     "duration": 0.013708,
     "end_time": "2023-05-15T08:18:57.413387",
     "exception": false,
     "start_time": "2023-05-15T08:18:57.399679",
     "status": "completed"
    },
    "tags": []
   },
   "outputs": [],
   "source": [
    "dataset = dataset[dataset.obs.pct_counts_mt < 10, :]\n",
    "dataset = dataset[dataset.obs.n_genes_by_counts > 100, :]\n",
    "dataset = dataset[dataset.obs.pct_counts_hb < 3, :]\n",
    "dataset"
   ]
  },
  {
   "cell_type": "code",
   "execution_count": null,
   "id": "1941fa36-e865-4500-b586-f7a32d142c9b",
   "metadata": {
    "execution": {
     "iopub.execute_input": "2023-05-15T08:18:57.421973Z",
     "iopub.status.busy": "2023-05-15T08:18:57.421817Z",
     "iopub.status.idle": "2023-05-15T08:18:57.424591Z",
     "shell.execute_reply": "2023-05-15T08:18:57.424294Z"
    },
    "papermill": {
     "duration": 0.00812,
     "end_time": "2023-05-15T08:18:57.425369",
     "exception": false,
     "start_time": "2023-05-15T08:18:57.417249",
     "status": "completed"
    },
    "tags": []
   },
   "outputs": [],
   "source": [
    "metadata.columns"
   ]
  },
  {
   "cell_type": "code",
   "execution_count": null,
   "id": "2e0ff8c3-2aa9-4a01-9b88-5912a6734447",
   "metadata": {
    "execution": {
     "iopub.execute_input": "2023-05-15T08:18:57.433996Z",
     "iopub.status.busy": "2023-05-15T08:18:57.433758Z",
     "iopub.status.idle": "2023-05-15T08:18:57.451700Z",
     "shell.execute_reply": "2023-05-15T08:18:57.451297Z"
    },
    "papermill": {
     "duration": 0.023433,
     "end_time": "2023-05-15T08:18:57.452796",
     "exception": false,
     "start_time": "2023-05-15T08:18:57.429363",
     "status": "completed"
    },
    "tags": []
   },
   "outputs": [],
   "source": [
    "for col in metadata.columns:\n",
    "    dataset.obs[col] = metadata.loc[metadata[\"Run\"] == sample_name, col].to_list()[0]"
   ]
  },
  {
   "cell_type": "code",
   "execution_count": null,
   "id": "b84578d3-d63e-419c-a272-a0b8317d05ab",
   "metadata": {
    "execution": {
     "iopub.execute_input": "2023-05-15T08:18:57.462554Z",
     "iopub.status.busy": "2023-05-15T08:18:57.462280Z",
     "iopub.status.idle": "2023-05-15T08:18:57.804240Z",
     "shell.execute_reply": "2023-05-15T08:18:57.803801Z"
    },
    "papermill": {
     "duration": 0.347807,
     "end_time": "2023-05-15T08:18:57.805406",
     "exception": false,
     "start_time": "2023-05-15T08:18:57.457599",
     "status": "completed"
    },
    "tags": []
   },
   "outputs": [],
   "source": [
    "dataset.write(f\"../../int_data/{sample_name}_qc.h5ad\")"
   ]
  },
  {
   "cell_type": "code",
   "execution_count": null,
   "id": "501b33a0-432d-415f-ae82-50723484b85d",
   "metadata": {
    "execution": {
     "iopub.execute_input": "2023-05-15T08:18:57.814791Z",
     "iopub.status.busy": "2023-05-15T08:18:57.814613Z",
     "iopub.status.idle": "2023-05-15T08:18:57.817614Z",
     "shell.execute_reply": "2023-05-15T08:18:57.817292Z"
    },
    "papermill": {
     "duration": 0.0084,
     "end_time": "2023-05-15T08:18:57.818400",
     "exception": false,
     "start_time": "2023-05-15T08:18:57.810000",
     "status": "completed"
    },
    "tags": []
   },
   "outputs": [],
   "source": [
    "dataset"
   ]
  }
 ],
 "metadata": {
  "kernelspec": {
   "display_name": "py_R",
   "language": "python",
   "name": "python_r"
  },
  "language_info": {
   "codemirror_mode": {
    "name": "ipython",
    "version": 3
   },
   "file_extension": ".py",
   "mimetype": "text/x-python",
   "name": "python",
   "nbconvert_exporter": "python",
   "pygments_lexer": "ipython3",
   "version": "3.10.9"
  },
  "papermill": {
   "default_parameters": {},
   "duration": 101.791897,
   "end_time": "2023-05-15T08:18:59.240222",
   "environment_variables": {},
   "exception": null,
   "input_path": "template.ipynb",
   "output_path": "SRR13329125.ipynb",
   "parameters": {
    "sample_name": "SRR13329125"
   },
   "start_time": "2023-05-15T08:17:17.448325",
   "version": "2.4.0"
  }
 },
 "nbformat": 4,
 "nbformat_minor": 5
}
