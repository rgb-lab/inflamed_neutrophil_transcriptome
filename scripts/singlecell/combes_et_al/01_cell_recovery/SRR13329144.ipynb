{
 "cells": [
  {
   "cell_type": "code",
   "execution_count": null,
   "id": "4c0f2fa8-5232-4f47-a7ec-6c9bbabe50e2",
   "metadata": {
    "execution": {
     "iopub.execute_input": "2023-05-15T08:25:05.889756Z",
     "iopub.status.busy": "2023-05-15T08:25:05.889587Z",
     "iopub.status.idle": "2023-05-15T08:25:06.207145Z",
     "shell.execute_reply": "2023-05-15T08:25:06.206801Z"
    },
    "papermill": {
     "duration": 0.325766,
     "end_time": "2023-05-15T08:25:06.208070",
     "exception": false,
     "start_time": "2023-05-15T08:25:05.882304",
     "status": "completed"
    },
    "tags": [
     "parameters"
    ]
   },
   "outputs": [],
   "source": [
    "sample_name = \"SRR13329143\""
   ]
  },
  {
   "cell_type": "code",
   "execution_count": null,
   "id": "9296fc90",
   "metadata": {
    "execution": {
     "iopub.execute_input": "2023-05-15T08:25:06.213739Z",
     "iopub.status.busy": "2023-05-15T08:25:06.213583Z",
     "iopub.status.idle": "2023-05-15T08:25:06.215632Z",
     "shell.execute_reply": "2023-05-15T08:25:06.215333Z"
    },
    "papermill": {
     "duration": 0.005662,
     "end_time": "2023-05-15T08:25:06.216406",
     "exception": false,
     "start_time": "2023-05-15T08:25:06.210744",
     "status": "completed"
    },
    "tags": [
     "injected-parameters"
    ]
   },
   "outputs": [],
   "source": [
    "# Parameters\n",
    "sample_name = \"SRR13329144\"\n"
   ]
  },
  {
   "cell_type": "code",
   "execution_count": null,
   "id": "f87ed95b-2b67-4a5a-8fe2-47359b1dd2a9",
   "metadata": {
    "execution": {
     "iopub.execute_input": "2023-05-15T08:25:06.221664Z",
     "iopub.status.busy": "2023-05-15T08:25:06.221541Z",
     "iopub.status.idle": "2023-05-15T08:25:06.223680Z",
     "shell.execute_reply": "2023-05-15T08:25:06.223380Z"
    },
    "papermill": {
     "duration": 0.005671,
     "end_time": "2023-05-15T08:25:06.224431",
     "exception": false,
     "start_time": "2023-05-15T08:25:06.218760",
     "status": "completed"
    },
    "tags": []
   },
   "outputs": [],
   "source": [
    "import warnings\n",
    "warnings.simplefilter(action='ignore', category=FutureWarning)\n",
    "warnings.simplefilter(action='ignore', category=UserWarning)"
   ]
  },
  {
   "cell_type": "code",
   "execution_count": null,
   "id": "85161f19-b2c5-490b-8cab-c2cf9653b304",
   "metadata": {
    "execution": {
     "iopub.execute_input": "2023-05-15T08:25:06.229931Z",
     "iopub.status.busy": "2023-05-15T08:25:06.229668Z",
     "iopub.status.idle": "2023-05-15T08:25:11.345472Z",
     "shell.execute_reply": "2023-05-15T08:25:11.344994Z"
    },
    "papermill": {
     "duration": 5.119873,
     "end_time": "2023-05-15T08:25:11.346732",
     "exception": false,
     "start_time": "2023-05-15T08:25:06.226859",
     "status": "completed"
    },
    "tags": []
   },
   "outputs": [],
   "source": [
    "import gc\n",
    "import scanpy as sc\n",
    "import muon as mu\n",
    "import seaborn as sns\n",
    "import os\n",
    "import pandas as pd\n",
    "from matplotlib import pyplot as plt\n",
    "\n",
    "os.environ['R_HOME'] = '/gpfs/bwfor/work/ws/hd_fu399-conda/conda/envs/python_R/lib/R/'\n",
    "import anndata2ri\n",
    "import logging\n",
    "\n",
    "import rpy2.rinterface_lib.callbacks as rcb\n",
    "import rpy2.robjects as ro\n",
    "\n",
    "rcb.logger.setLevel(logging.ERROR)\n",
    "ro.pandas2ri.activate()\n",
    "anndata2ri.activate()\n",
    "\n",
    "%load_ext rpy2.ipython"
   ]
  },
  {
   "cell_type": "code",
   "execution_count": null,
   "id": "fc4ade78-b728-4704-9db6-45fbaab62ba1",
   "metadata": {
    "execution": {
     "iopub.execute_input": "2023-05-15T08:25:11.355178Z",
     "iopub.status.busy": "2023-05-15T08:25:11.354880Z",
     "iopub.status.idle": "2023-05-15T08:25:23.563814Z",
     "shell.execute_reply": "2023-05-15T08:25:23.563255Z"
    },
    "papermill": {
     "duration": 12.213597,
     "end_time": "2023-05-15T08:25:23.565166",
     "exception": false,
     "start_time": "2023-05-15T08:25:11.351569",
     "status": "completed"
    },
    "tags": []
   },
   "outputs": [],
   "source": [
    "%%R\n",
    "library(SoupX)\n",
    "library(Seurat)\n",
    "library(scater)\n",
    "library(scDblFinder)\n",
    "library(BiocParallel)\n",
    "library(MuDataSeurat)\n",
    "library(DropletUtils)"
   ]
  },
  {
   "cell_type": "code",
   "execution_count": null,
   "id": "f7424d90-7690-4290-8651-1db3f9df3a35",
   "metadata": {
    "execution": {
     "iopub.execute_input": "2023-05-15T08:25:23.574689Z",
     "iopub.status.busy": "2023-05-15T08:25:23.574525Z",
     "iopub.status.idle": "2023-05-15T08:25:23.580702Z",
     "shell.execute_reply": "2023-05-15T08:25:23.580362Z"
    },
    "papermill": {
     "duration": 0.01032,
     "end_time": "2023-05-15T08:25:23.581602",
     "exception": false,
     "start_time": "2023-05-15T08:25:23.571282",
     "status": "completed"
    },
    "tags": []
   },
   "outputs": [],
   "source": [
    "metadata = pd.read_csv(\"../../combes_metadata.txt\")"
   ]
  },
  {
   "cell_type": "code",
   "execution_count": null,
   "id": "2574ecf1-bad4-4c33-8f3f-718a358727ab",
   "metadata": {
    "execution": {
     "iopub.execute_input": "2023-05-15T08:25:23.587189Z",
     "iopub.status.busy": "2023-05-15T08:25:23.586939Z",
     "iopub.status.idle": "2023-05-15T08:25:23.589013Z",
     "shell.execute_reply": "2023-05-15T08:25:23.588714Z"
    },
    "papermill": {
     "duration": 0.00572,
     "end_time": "2023-05-15T08:25:23.589783",
     "exception": false,
     "start_time": "2023-05-15T08:25:23.584063",
     "status": "completed"
    },
    "tags": []
   },
   "outputs": [],
   "source": [
    "raw_input = f\"/home/hd/hd_hd/hd_fu399/sds-hd/sd21k006/scRNAseq/revision_natcomm/combes_et_al/fetchngs/results/fastq/{sample_name}/{sample_name}/outs/raw_feature_bc_matrix.h5\""
   ]
  },
  {
   "cell_type": "code",
   "execution_count": null,
   "id": "e266d388-1802-435c-93a5-90067358739c",
   "metadata": {
    "execution": {
     "iopub.execute_input": "2023-05-15T08:25:23.595515Z",
     "iopub.status.busy": "2023-05-15T08:25:23.595272Z",
     "iopub.status.idle": "2023-05-15T08:25:23.996054Z",
     "shell.execute_reply": "2023-05-15T08:25:23.995609Z"
    },
    "papermill": {
     "duration": 0.404701,
     "end_time": "2023-05-15T08:25:23.997003",
     "exception": false,
     "start_time": "2023-05-15T08:25:23.592302",
     "status": "completed"
    },
    "tags": []
   },
   "outputs": [],
   "source": [
    "dataset = sc.read_10x_h5(raw_input)\n",
    "dataset.var_names_make_unique()\n",
    "dataset.obs_names_make_unique()\n",
    "\n",
    "dataset.layers[\"raw_counts\"] = dataset.X.copy()\n",
    "data_tod = dataset.layers[\"raw_counts\"].T.copy()\n",
    "\n",
    "dataset"
   ]
  },
  {
   "cell_type": "code",
   "execution_count": null,
   "id": "af9f5892-ed31-42a6-991b-4e096f582cef",
   "metadata": {
    "execution": {
     "iopub.execute_input": "2023-05-15T08:25:24.003597Z",
     "iopub.status.busy": "2023-05-15T08:25:24.003407Z",
     "iopub.status.idle": "2023-05-15T08:25:24.033801Z",
     "shell.execute_reply": "2023-05-15T08:25:24.033326Z"
    },
    "papermill": {
     "duration": 0.034785,
     "end_time": "2023-05-15T08:25:24.034952",
     "exception": false,
     "start_time": "2023-05-15T08:25:24.000167",
     "status": "completed"
    },
    "tags": []
   },
   "outputs": [],
   "source": [
    "sce = dataset.copy()"
   ]
  },
  {
   "cell_type": "code",
   "execution_count": null,
   "id": "d03f2caf-8e74-430e-b045-0ab80401d165",
   "metadata": {
    "execution": {
     "iopub.execute_input": "2023-05-15T08:25:24.041377Z",
     "iopub.status.busy": "2023-05-15T08:25:24.041211Z",
     "iopub.status.idle": "2023-05-15T08:26:09.851694Z",
     "shell.execute_reply": "2023-05-15T08:26:09.851081Z"
    },
    "papermill": {
     "duration": 45.815131,
     "end_time": "2023-05-15T08:26:09.853088",
     "exception": false,
     "start_time": "2023-05-15T08:25:24.037957",
     "status": "completed"
    },
    "tags": []
   },
   "outputs": [],
   "source": [
    "%%R -i sce -o empty_drop_output\n",
    "set.seed(187)\n",
    "empty_drop_output <- emptyDrops(assay(sce))"
   ]
  },
  {
   "cell_type": "code",
   "execution_count": null,
   "id": "2a34a54b-3ae2-44d6-8679-8769228c5b66",
   "metadata": {
    "execution": {
     "iopub.execute_input": "2023-05-15T08:26:09.863586Z",
     "iopub.status.busy": "2023-05-15T08:26:09.863419Z",
     "iopub.status.idle": "2023-05-15T08:26:09.894271Z",
     "shell.execute_reply": "2023-05-15T08:26:09.893953Z"
    },
    "papermill": {
     "duration": 0.035302,
     "end_time": "2023-05-15T08:26:09.895287",
     "exception": false,
     "start_time": "2023-05-15T08:26:09.859985",
     "status": "completed"
    },
    "tags": []
   },
   "outputs": [],
   "source": [
    "non_empty_barcodes = empty_drop_output[empty_drop_output[\"FDR\"] < 0.001].index\n",
    "dataset = dataset[dataset.obs.index.isin(non_empty_barcodes), :]\n",
    "dataset"
   ]
  },
  {
   "cell_type": "code",
   "execution_count": null,
   "id": "016a91e5-1bef-46fb-b91e-4fb9a6870c44",
   "metadata": {
    "execution": {
     "iopub.execute_input": "2023-05-15T08:26:09.901786Z",
     "iopub.status.busy": "2023-05-15T08:26:09.901626Z",
     "iopub.status.idle": "2023-05-15T08:26:14.043352Z",
     "shell.execute_reply": "2023-05-15T08:26:14.042856Z"
    },
    "papermill": {
     "duration": 4.14651,
     "end_time": "2023-05-15T08:26:14.044708",
     "exception": false,
     "start_time": "2023-05-15T08:26:09.898198",
     "status": "completed"
    },
    "tags": []
   },
   "outputs": [],
   "source": [
    "rna_assay = dataset.copy()\n",
    "sc.pp.normalize_per_cell(rna_assay)\n",
    "sc.pp.log1p(rna_assay)\n",
    "sc.pp.pca(rna_assay)\n",
    "sc.pp.neighbors(rna_assay)\n",
    "sc.tl.leiden(rna_assay, key_added=\"soupx_groups\")\n",
    "\n",
    "soupx_groups = rna_assay.obs[\"soupx_groups\"]\n",
    "\n",
    "del rna_assay\n",
    "\n",
    "genes = dataset.var_names\n",
    "cells = dataset.obs_names\n",
    "data = dataset.X.T.copy()"
   ]
  },
  {
   "cell_type": "code",
   "execution_count": null,
   "id": "9db4ea1f-1580-4f43-a3f0-86002397cd98",
   "metadata": {
    "execution": {
     "iopub.execute_input": "2023-05-15T08:26:14.051869Z",
     "iopub.status.busy": "2023-05-15T08:26:14.051698Z",
     "iopub.status.idle": "2023-05-15T08:26:24.944847Z",
     "shell.execute_reply": "2023-05-15T08:26:24.944237Z"
    },
    "papermill": {
     "duration": 10.897975,
     "end_time": "2023-05-15T08:26:24.946166",
     "exception": false,
     "start_time": "2023-05-15T08:26:14.048191",
     "status": "completed"
    },
    "tags": []
   },
   "outputs": [],
   "source": [
    "%%R -i data -i data_tod -i genes -i cells -i soupx_groups -o out \n",
    "set.seed(187)\n",
    "# specify row and column names of data\n",
    "rownames(data) = genes\n",
    "colnames(data) = cells\n",
    "# ensure correct sparse format for table of counts and table of droplets\n",
    "data <- as(data, \"sparseMatrix\")\n",
    "data_tod <- as(data_tod, \"sparseMatrix\")\n",
    "\n",
    "# Generate SoupChannel Object for SoupX \n",
    "sc = SoupChannel(data_tod, data, calcSoupProfile = FALSE)\n",
    "\n",
    "# Add extra meta data to the SoupChannel object\n",
    "soupProf = data.frame(row.names = rownames(data),\n",
    "                      est = rowSums(data)/sum(data),\n",
    "                      counts = rowSums(data))\n",
    "sc = setSoupProfile(sc, soupProf)\n",
    "# Set cluster information in SoupChannel\n",
    "sc = setClusters(sc, soupx_groups)\n",
    "\n",
    "# Estimate contamination fraction\n",
    "sc  = autoEstCont(sc, doPlot=FALSE, forceAccept = TRUE)\n",
    "# Infer corrected table of counts and rount to integer\n",
    "out = adjustCounts(sc, roundToInt = TRUE)"
   ]
  },
  {
   "cell_type": "code",
   "execution_count": null,
   "id": "32555d5e-5fa3-46dd-a4e0-ddc96ea265e2",
   "metadata": {
    "execution": {
     "iopub.execute_input": "2023-05-15T08:26:24.956066Z",
     "iopub.status.busy": "2023-05-15T08:26:24.955894Z",
     "iopub.status.idle": "2023-05-15T08:26:24.977139Z",
     "shell.execute_reply": "2023-05-15T08:26:24.976768Z"
    },
    "papermill": {
     "duration": 0.025602,
     "end_time": "2023-05-15T08:26:24.978001",
     "exception": false,
     "start_time": "2023-05-15T08:26:24.952399",
     "status": "completed"
    },
    "tags": []
   },
   "outputs": [],
   "source": [
    "dataset.layers[\"soupX_counts\"] = out.T\n",
    "dataset.X = dataset.layers[\"soupX_counts\"].copy()"
   ]
  },
  {
   "cell_type": "code",
   "execution_count": null,
   "id": "e27da7df-e094-4d2a-9109-5a363e012175",
   "metadata": {
    "execution": {
     "iopub.execute_input": "2023-05-15T08:26:24.984620Z",
     "iopub.status.busy": "2023-05-15T08:26:24.984435Z",
     "iopub.status.idle": "2023-05-15T08:26:24.986739Z",
     "shell.execute_reply": "2023-05-15T08:26:24.986398Z"
    },
    "papermill": {
     "duration": 0.006465,
     "end_time": "2023-05-15T08:26:24.987513",
     "exception": false,
     "start_time": "2023-05-15T08:26:24.981048",
     "status": "completed"
    },
    "tags": []
   },
   "outputs": [],
   "source": [
    "data_mat = dataset.X.T"
   ]
  },
  {
   "cell_type": "code",
   "execution_count": null,
   "id": "80a993b1-5ccb-4697-9187-1beb7ab8aff9",
   "metadata": {
    "execution": {
     "iopub.execute_input": "2023-05-15T08:26:24.993805Z",
     "iopub.status.busy": "2023-05-15T08:26:24.993647Z",
     "iopub.status.idle": "2023-05-15T08:26:43.427926Z",
     "shell.execute_reply": "2023-05-15T08:26:43.427326Z"
    },
    "papermill": {
     "duration": 18.438751,
     "end_time": "2023-05-15T08:26:43.429142",
     "exception": false,
     "start_time": "2023-05-15T08:26:24.990391",
     "status": "completed"
    },
    "tags": []
   },
   "outputs": [],
   "source": [
    "%%R -i data_mat -o droplet_class\n",
    "\n",
    "set.seed(187)\n",
    "sce = scDblFinder(\n",
    "    SingleCellExperiment(\n",
    "        list(counts=data_mat),\n",
    "    ) \n",
    ")\n",
    "droplet_class = sce$scDblFinder.class"
   ]
  },
  {
   "cell_type": "code",
   "execution_count": null,
   "id": "d4dd6e9d-fcf2-41fc-8457-c8e0a3cb2c71",
   "metadata": {
    "execution": {
     "iopub.execute_input": "2023-05-15T08:26:43.440228Z",
     "iopub.status.busy": "2023-05-15T08:26:43.440071Z",
     "iopub.status.idle": "2023-05-15T08:26:43.445212Z",
     "shell.execute_reply": "2023-05-15T08:26:43.444892Z"
    },
    "papermill": {
     "duration": 0.009577,
     "end_time": "2023-05-15T08:26:43.446024",
     "exception": false,
     "start_time": "2023-05-15T08:26:43.436447",
     "status": "completed"
    },
    "tags": []
   },
   "outputs": [],
   "source": [
    "dataset.obs[\"scDblFinder_class\"] = droplet_class\n",
    "dataset.obs.scDblFinder_class.value_counts()\n",
    "dataset"
   ]
  },
  {
   "cell_type": "code",
   "execution_count": null,
   "id": "28c95014-2d6c-477f-95cb-9f9f0507520c",
   "metadata": {
    "execution": {
     "iopub.execute_input": "2023-05-15T08:26:43.452675Z",
     "iopub.status.busy": "2023-05-15T08:26:43.452515Z",
     "iopub.status.idle": "2023-05-15T08:26:43.457204Z",
     "shell.execute_reply": "2023-05-15T08:26:43.456884Z"
    },
    "papermill": {
     "duration": 0.009039,
     "end_time": "2023-05-15T08:26:43.458101",
     "exception": false,
     "start_time": "2023-05-15T08:26:43.449062",
     "status": "completed"
    },
    "tags": []
   },
   "outputs": [],
   "source": [
    "dataset = dataset[dataset.obs[\"scDblFinder_class\"] == 1]"
   ]
  },
  {
   "cell_type": "code",
   "execution_count": null,
   "id": "3e22f9e0-bfcb-416c-a151-a9bca3bec3b9",
   "metadata": {
    "execution": {
     "iopub.execute_input": "2023-05-15T08:26:43.464792Z",
     "iopub.status.busy": "2023-05-15T08:26:43.464610Z",
     "iopub.status.idle": "2023-05-15T08:26:43.580193Z",
     "shell.execute_reply": "2023-05-15T08:26:43.579753Z"
    },
    "papermill": {
     "duration": 0.119909,
     "end_time": "2023-05-15T08:26:43.581051",
     "exception": false,
     "start_time": "2023-05-15T08:26:43.461142",
     "status": "completed"
    },
    "tags": []
   },
   "outputs": [],
   "source": [
    "# mitochondrial genes\n",
    "dataset.var[\"mt\"] = dataset.var_names.str.startswith(\"MT-\")\n",
    "# ribosomal genes\n",
    "dataset.var[\"ribo\"] = dataset.var_names.str.startswith((\"RPS\", \"RPL\"))\n",
    "# hemoglobin genes.\n",
    "dataset.var[\"hb\"] = dataset.var_names.str.contains((\"^HB[^(P)]\"))\n",
    "\n",
    "sc.pp.calculate_qc_metrics(dataset,\n",
    "                           qc_vars=['mt', 'ribo', 'hb'],\n",
    "                           percent_top=None,\n",
    "                           log1p=False,\n",
    "                           inplace=True)\n",
    "dataset"
   ]
  },
  {
   "cell_type": "code",
   "execution_count": null,
   "id": "34deee79-4043-428f-8575-aa57b45f6369",
   "metadata": {
    "execution": {
     "iopub.execute_input": "2023-05-15T08:26:43.588653Z",
     "iopub.status.busy": "2023-05-15T08:26:43.588465Z",
     "iopub.status.idle": "2023-05-15T08:26:44.043987Z",
     "shell.execute_reply": "2023-05-15T08:26:44.043619Z"
    },
    "papermill": {
     "duration": 0.460227,
     "end_time": "2023-05-15T08:26:44.044946",
     "exception": false,
     "start_time": "2023-05-15T08:26:43.584719",
     "status": "completed"
    },
    "tags": []
   },
   "outputs": [],
   "source": [
    "fig, ax = plt.subplots(ncols = 4, figsize = (16,4))\n",
    "axis = sc.pl.violin(dataset, \"n_genes_by_counts\", jitter = 0.4, ax = ax[0], show = False)\n",
    "axis.grid(False)\n",
    "axis.set_title(\"Unique Genes per cell\")\n",
    "axis.tick_params(axis = \"x\", bottom =False, labelbottom =False)\n",
    "axis.set_ylabel(\"# genes\")\n",
    "axis.axhline(y = 100, color = \"black\", label = \"cutoff\")\n",
    "axis.legend(fontsize = 14, loc = \"upper right\")\n",
    "\n",
    "axis = sc.pl.violin(dataset, \"pct_counts_mt\", jitter = 0.4, ax = ax[1], show = False)\n",
    "axis.grid(False)\n",
    "axis.set_title(\"Mitochondrial Fraction\")\n",
    "axis.tick_params(axis = \"x\", bottom =False, labelbottom =False)\n",
    "axis.set_ylabel(\"% mitochondrial genes\")\n",
    "axis.axhline(y = 10, color = \"black\", label = \"cutoff\")\n",
    "axis.legend(fontsize = 14, loc = \"upper right\")\n",
    "\n",
    "axis = sc.pl.violin(dataset, \"pct_counts_hb\", jitter = 0.4, ax = ax[2], show = False, size =2)\n",
    "axis.grid(False)\n",
    "axis.set_title(\"Hemoglobin Fraction\")\n",
    "axis.tick_params(axis = \"x\", bottom =False, labelbottom =False)\n",
    "axis.set_ylabel(\"% hemoglobin genes\")\n",
    "axis.axhline(y = 3, color = \"black\", label = \"cutoff\")\n",
    "axis.legend(fontsize = 14, loc = \"upper right\")\n",
    "#axis.set_ylim(0,5)\n",
    "\n",
    "axis = sc.pl.violin(dataset, \"pct_counts_ribo\", jitter = 0.4, ax = ax[3], show = False)\n",
    "axis.grid(False)\n",
    "axis.set_title(\"Ribosomal Fraction\")\n",
    "axis.tick_params(axis = \"x\", bottom =False, labelbottom =False)\n",
    "axis.set_ylabel(\"% ribosome genes\")\n",
    "\n",
    "plt.tight_layout()\n",
    "#plt.savefig(f\"{outputDir}08_gene_based_filtering.pdf\", dpi = 300)\n",
    "plt.show()\n",
    "\n"
   ]
  },
  {
   "cell_type": "code",
   "execution_count": null,
   "id": "d7ade754-843e-4840-8707-426613d8c0c5",
   "metadata": {
    "execution": {
     "iopub.execute_input": "2023-05-15T08:26:44.054596Z",
     "iopub.status.busy": "2023-05-15T08:26:44.054427Z",
     "iopub.status.idle": "2023-05-15T08:26:44.063172Z",
     "shell.execute_reply": "2023-05-15T08:26:44.062866Z"
    },
    "papermill": {
     "duration": 0.014132,
     "end_time": "2023-05-15T08:26:44.063950",
     "exception": false,
     "start_time": "2023-05-15T08:26:44.049818",
     "status": "completed"
    },
    "tags": []
   },
   "outputs": [],
   "source": [
    "dataset = dataset[dataset.obs.pct_counts_mt < 10, :]\n",
    "dataset = dataset[dataset.obs.n_genes_by_counts > 100, :]\n",
    "dataset = dataset[dataset.obs.pct_counts_hb < 3, :]\n",
    "dataset"
   ]
  },
  {
   "cell_type": "code",
   "execution_count": null,
   "id": "1941fa36-e865-4500-b586-f7a32d142c9b",
   "metadata": {
    "execution": {
     "iopub.execute_input": "2023-05-15T08:26:44.072905Z",
     "iopub.status.busy": "2023-05-15T08:26:44.072715Z",
     "iopub.status.idle": "2023-05-15T08:26:44.075533Z",
     "shell.execute_reply": "2023-05-15T08:26:44.075241Z"
    },
    "papermill": {
     "duration": 0.00814,
     "end_time": "2023-05-15T08:26:44.076301",
     "exception": false,
     "start_time": "2023-05-15T08:26:44.068161",
     "status": "completed"
    },
    "tags": []
   },
   "outputs": [],
   "source": [
    "metadata.columns"
   ]
  },
  {
   "cell_type": "code",
   "execution_count": null,
   "id": "2e0ff8c3-2aa9-4a01-9b88-5912a6734447",
   "metadata": {
    "execution": {
     "iopub.execute_input": "2023-05-15T08:26:44.085798Z",
     "iopub.status.busy": "2023-05-15T08:26:44.085514Z",
     "iopub.status.idle": "2023-05-15T08:26:44.120325Z",
     "shell.execute_reply": "2023-05-15T08:26:44.119852Z"
    },
    "papermill": {
     "duration": 0.04071,
     "end_time": "2023-05-15T08:26:44.121371",
     "exception": false,
     "start_time": "2023-05-15T08:26:44.080661",
     "status": "completed"
    },
    "tags": []
   },
   "outputs": [],
   "source": [
    "for col in metadata.columns:\n",
    "    dataset.obs[col] = metadata.loc[metadata[\"Run\"] == sample_name, col].to_list()[0]"
   ]
  },
  {
   "cell_type": "code",
   "execution_count": null,
   "id": "b84578d3-d63e-419c-a272-a0b8317d05ab",
   "metadata": {
    "execution": {
     "iopub.execute_input": "2023-05-15T08:26:44.131157Z",
     "iopub.status.busy": "2023-05-15T08:26:44.130968Z",
     "iopub.status.idle": "2023-05-15T08:26:44.544788Z",
     "shell.execute_reply": "2023-05-15T08:26:44.544300Z"
    },
    "papermill": {
     "duration": 0.419924,
     "end_time": "2023-05-15T08:26:44.546059",
     "exception": false,
     "start_time": "2023-05-15T08:26:44.126135",
     "status": "completed"
    },
    "tags": []
   },
   "outputs": [],
   "source": [
    "dataset.write(f\"../../int_data/{sample_name}_qc.h5ad\")"
   ]
  },
  {
   "cell_type": "code",
   "execution_count": null,
   "id": "501b33a0-432d-415f-ae82-50723484b85d",
   "metadata": {
    "execution": {
     "iopub.execute_input": "2023-05-15T08:26:44.556242Z",
     "iopub.status.busy": "2023-05-15T08:26:44.556067Z",
     "iopub.status.idle": "2023-05-15T08:26:44.559343Z",
     "shell.execute_reply": "2023-05-15T08:26:44.559010Z"
    },
    "papermill": {
     "duration": 0.008936,
     "end_time": "2023-05-15T08:26:44.560110",
     "exception": false,
     "start_time": "2023-05-15T08:26:44.551174",
     "status": "completed"
    },
    "tags": []
   },
   "outputs": [],
   "source": [
    "dataset"
   ]
  }
 ],
 "metadata": {
  "kernelspec": {
   "display_name": "py_R",
   "language": "python",
   "name": "python_r"
  },
  "language_info": {
   "codemirror_mode": {
    "name": "ipython",
    "version": 3
   },
   "file_extension": ".py",
   "mimetype": "text/x-python",
   "name": "python",
   "nbconvert_exporter": "python",
   "pygments_lexer": "ipython3",
   "version": "3.10.9"
  },
  "papermill": {
   "default_parameters": {},
   "duration": 109.330708,
   "end_time": "2023-05-15T08:26:45.983735",
   "environment_variables": {},
   "exception": null,
   "input_path": "template.ipynb",
   "output_path": "SRR13329144.ipynb",
   "parameters": {
    "sample_name": "SRR13329144"
   },
   "start_time": "2023-05-15T08:24:56.653027",
   "version": "2.4.0"
  }
 },
 "nbformat": 4,
 "nbformat_minor": 5
}
