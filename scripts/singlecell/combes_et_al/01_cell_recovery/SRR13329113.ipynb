{
 "cells": [
  {
   "cell_type": "code",
   "execution_count": null,
   "id": "4c0f2fa8-5232-4f47-a7ec-6c9bbabe50e2",
   "metadata": {
    "execution": {
     "iopub.execute_input": "2023-05-15T07:46:20.524618Z",
     "iopub.status.busy": "2023-05-15T07:46:20.524440Z",
     "iopub.status.idle": "2023-05-15T07:46:20.529214Z",
     "shell.execute_reply": "2023-05-15T07:46:20.528850Z"
    },
    "papermill": {
     "duration": 0.009813,
     "end_time": "2023-05-15T07:46:20.530219",
     "exception": false,
     "start_time": "2023-05-15T07:46:20.520406",
     "status": "completed"
    },
    "tags": [
     "parameters"
    ]
   },
   "outputs": [],
   "source": [
    "sample_name = \"SRR13329143\""
   ]
  },
  {
   "cell_type": "code",
   "execution_count": null,
   "id": "434fd0d2",
   "metadata": {
    "execution": {
     "iopub.execute_input": "2023-05-15T07:46:20.535640Z",
     "iopub.status.busy": "2023-05-15T07:46:20.535483Z",
     "iopub.status.idle": "2023-05-15T07:46:20.569504Z",
     "shell.execute_reply": "2023-05-15T07:46:20.569172Z"
    },
    "papermill": {
     "duration": 0.037937,
     "end_time": "2023-05-15T07:46:20.570615",
     "exception": false,
     "start_time": "2023-05-15T07:46:20.532678",
     "status": "completed"
    },
    "tags": [
     "injected-parameters"
    ]
   },
   "outputs": [],
   "source": [
    "# Parameters\n",
    "sample_name = \"SRR13329113\"\n"
   ]
  },
  {
   "cell_type": "code",
   "execution_count": null,
   "id": "f87ed95b-2b67-4a5a-8fe2-47359b1dd2a9",
   "metadata": {
    "execution": {
     "iopub.execute_input": "2023-05-15T07:46:20.575884Z",
     "iopub.status.busy": "2023-05-15T07:46:20.575705Z",
     "iopub.status.idle": "2023-05-15T07:46:20.583676Z",
     "shell.execute_reply": "2023-05-15T07:46:20.583371Z"
    },
    "papermill": {
     "duration": 0.012077,
     "end_time": "2023-05-15T07:46:20.585034",
     "exception": false,
     "start_time": "2023-05-15T07:46:20.572957",
     "status": "completed"
    },
    "tags": []
   },
   "outputs": [],
   "source": [
    "import warnings\n",
    "warnings.simplefilter(action='ignore', category=FutureWarning)\n",
    "warnings.simplefilter(action='ignore', category=UserWarning)"
   ]
  },
  {
   "cell_type": "code",
   "execution_count": null,
   "id": "85161f19-b2c5-490b-8cab-c2cf9653b304",
   "metadata": {
    "execution": {
     "iopub.execute_input": "2023-05-15T07:46:20.591362Z",
     "iopub.status.busy": "2023-05-15T07:46:20.591114Z",
     "iopub.status.idle": "2023-05-15T07:46:24.930440Z",
     "shell.execute_reply": "2023-05-15T07:46:24.929878Z"
    },
    "papermill": {
     "duration": 4.343707,
     "end_time": "2023-05-15T07:46:24.931754",
     "exception": false,
     "start_time": "2023-05-15T07:46:20.588047",
     "status": "completed"
    },
    "tags": []
   },
   "outputs": [],
   "source": [
    "import gc\n",
    "import scanpy as sc\n",
    "import muon as mu\n",
    "import seaborn as sns\n",
    "import os\n",
    "import pandas as pd\n",
    "from matplotlib import pyplot as plt\n",
    "\n",
    "os.environ['R_HOME'] = '/gpfs/bwfor/work/ws/hd_fu399-conda/conda/envs/python_R/lib/R/'\n",
    "import anndata2ri\n",
    "import logging\n",
    "\n",
    "import rpy2.rinterface_lib.callbacks as rcb\n",
    "import rpy2.robjects as ro\n",
    "\n",
    "rcb.logger.setLevel(logging.ERROR)\n",
    "ro.pandas2ri.activate()\n",
    "anndata2ri.activate()\n",
    "\n",
    "%load_ext rpy2.ipython"
   ]
  },
  {
   "cell_type": "code",
   "execution_count": null,
   "id": "fc4ade78-b728-4704-9db6-45fbaab62ba1",
   "metadata": {
    "execution": {
     "iopub.execute_input": "2023-05-15T07:46:24.951293Z",
     "iopub.status.busy": "2023-05-15T07:46:24.951029Z",
     "iopub.status.idle": "2023-05-15T07:46:35.100067Z",
     "shell.execute_reply": "2023-05-15T07:46:35.099490Z"
    },
    "papermill": {
     "duration": 10.153568,
     "end_time": "2023-05-15T07:46:35.101480",
     "exception": false,
     "start_time": "2023-05-15T07:46:24.947912",
     "status": "completed"
    },
    "tags": []
   },
   "outputs": [],
   "source": [
    "%%R\n",
    "library(SoupX)\n",
    "library(Seurat)\n",
    "library(scater)\n",
    "library(scDblFinder)\n",
    "library(BiocParallel)\n",
    "library(MuDataSeurat)\n",
    "library(DropletUtils)"
   ]
  },
  {
   "cell_type": "code",
   "execution_count": null,
   "id": "f7424d90-7690-4290-8651-1db3f9df3a35",
   "metadata": {
    "execution": {
     "iopub.execute_input": "2023-05-15T07:46:35.109764Z",
     "iopub.status.busy": "2023-05-15T07:46:35.109602Z",
     "iopub.status.idle": "2023-05-15T07:46:35.115988Z",
     "shell.execute_reply": "2023-05-15T07:46:35.115655Z"
    },
    "papermill": {
     "duration": 0.010467,
     "end_time": "2023-05-15T07:46:35.116811",
     "exception": false,
     "start_time": "2023-05-15T07:46:35.106344",
     "status": "completed"
    },
    "tags": []
   },
   "outputs": [],
   "source": [
    "metadata = pd.read_csv(\"../../combes_metadata.txt\")"
   ]
  },
  {
   "cell_type": "code",
   "execution_count": null,
   "id": "2574ecf1-bad4-4c33-8f3f-718a358727ab",
   "metadata": {
    "execution": {
     "iopub.execute_input": "2023-05-15T07:46:35.122425Z",
     "iopub.status.busy": "2023-05-15T07:46:35.122101Z",
     "iopub.status.idle": "2023-05-15T07:46:35.129709Z",
     "shell.execute_reply": "2023-05-15T07:46:35.129393Z"
    },
    "papermill": {
     "duration": 0.01129,
     "end_time": "2023-05-15T07:46:35.130545",
     "exception": false,
     "start_time": "2023-05-15T07:46:35.119255",
     "status": "completed"
    },
    "tags": []
   },
   "outputs": [],
   "source": [
    "raw_input = f\"/home/hd/hd_hd/hd_fu399/sds-hd/sd21k006/scRNAseq/revision_natcomm/combes_et_al/fetchngs/results/fastq/{sample_name}/{sample_name}/outs/raw_feature_bc_matrix.h5\""
   ]
  },
  {
   "cell_type": "code",
   "execution_count": null,
   "id": "e266d388-1802-435c-93a5-90067358739c",
   "metadata": {
    "execution": {
     "iopub.execute_input": "2023-05-15T07:46:35.136300Z",
     "iopub.status.busy": "2023-05-15T07:46:35.136040Z",
     "iopub.status.idle": "2023-05-15T07:46:35.916852Z",
     "shell.execute_reply": "2023-05-15T07:46:35.916468Z"
    },
    "papermill": {
     "duration": 0.784811,
     "end_time": "2023-05-15T07:46:35.917803",
     "exception": false,
     "start_time": "2023-05-15T07:46:35.132992",
     "status": "completed"
    },
    "tags": []
   },
   "outputs": [],
   "source": [
    "dataset = sc.read_10x_h5(raw_input)\n",
    "dataset.var_names_make_unique()\n",
    "dataset.obs_names_make_unique()\n",
    "\n",
    "dataset.layers[\"raw_counts\"] = dataset.X.copy()\n",
    "data_tod = dataset.layers[\"raw_counts\"].T.copy()\n",
    "\n",
    "dataset"
   ]
  },
  {
   "cell_type": "code",
   "execution_count": null,
   "id": "af9f5892-ed31-42a6-991b-4e096f582cef",
   "metadata": {
    "execution": {
     "iopub.execute_input": "2023-05-15T07:46:35.924264Z",
     "iopub.status.busy": "2023-05-15T07:46:35.924073Z",
     "iopub.status.idle": "2023-05-15T07:46:35.982238Z",
     "shell.execute_reply": "2023-05-15T07:46:35.981772Z"
    },
    "papermill": {
     "duration": 0.062548,
     "end_time": "2023-05-15T07:46:35.983442",
     "exception": false,
     "start_time": "2023-05-15T07:46:35.920894",
     "status": "completed"
    },
    "tags": []
   },
   "outputs": [],
   "source": [
    "sce = dataset.copy()"
   ]
  },
  {
   "cell_type": "code",
   "execution_count": null,
   "id": "d03f2caf-8e74-430e-b045-0ab80401d165",
   "metadata": {
    "execution": {
     "iopub.execute_input": "2023-05-15T07:46:35.989675Z",
     "iopub.status.busy": "2023-05-15T07:46:35.989499Z",
     "iopub.status.idle": "2023-05-15T07:48:04.813189Z",
     "shell.execute_reply": "2023-05-15T07:48:04.812592Z"
    },
    "papermill": {
     "duration": 88.828244,
     "end_time": "2023-05-15T07:48:04.814590",
     "exception": false,
     "start_time": "2023-05-15T07:46:35.986346",
     "status": "completed"
    },
    "tags": []
   },
   "outputs": [],
   "source": [
    "%%R -i sce -o empty_drop_output\n",
    "set.seed(187)\n",
    "empty_drop_output <- emptyDrops(assay(sce))"
   ]
  },
  {
   "cell_type": "code",
   "execution_count": null,
   "id": "2a34a54b-3ae2-44d6-8679-8769228c5b66",
   "metadata": {
    "execution": {
     "iopub.execute_input": "2023-05-15T07:48:04.836380Z",
     "iopub.status.busy": "2023-05-15T07:48:04.836205Z",
     "iopub.status.idle": "2023-05-15T07:48:04.884280Z",
     "shell.execute_reply": "2023-05-15T07:48:04.883954Z"
    },
    "papermill": {
     "duration": 0.052569,
     "end_time": "2023-05-15T07:48:04.885149",
     "exception": false,
     "start_time": "2023-05-15T07:48:04.832580",
     "status": "completed"
    },
    "tags": []
   },
   "outputs": [],
   "source": [
    "non_empty_barcodes = empty_drop_output[empty_drop_output[\"FDR\"] < 0.001].index\n",
    "dataset = dataset[dataset.obs.index.isin(non_empty_barcodes), :]\n",
    "dataset"
   ]
  },
  {
   "cell_type": "code",
   "execution_count": null,
   "id": "016a91e5-1bef-46fb-b91e-4fb9a6870c44",
   "metadata": {
    "execution": {
     "iopub.execute_input": "2023-05-15T07:48:04.891848Z",
     "iopub.status.busy": "2023-05-15T07:48:04.891688Z",
     "iopub.status.idle": "2023-05-15T07:48:11.998547Z",
     "shell.execute_reply": "2023-05-15T07:48:11.998062Z"
    },
    "papermill": {
     "duration": 7.112046,
     "end_time": "2023-05-15T07:48:12.000021",
     "exception": false,
     "start_time": "2023-05-15T07:48:04.887975",
     "status": "completed"
    },
    "tags": []
   },
   "outputs": [],
   "source": [
    "rna_assay = dataset.copy()\n",
    "sc.pp.normalize_per_cell(rna_assay)\n",
    "sc.pp.log1p(rna_assay)\n",
    "sc.pp.pca(rna_assay)\n",
    "sc.pp.neighbors(rna_assay)\n",
    "sc.tl.leiden(rna_assay, key_added=\"soupx_groups\")\n",
    "\n",
    "soupx_groups = rna_assay.obs[\"soupx_groups\"]\n",
    "\n",
    "del rna_assay\n",
    "\n",
    "genes = dataset.var_names\n",
    "cells = dataset.obs_names\n",
    "data = dataset.X.T.copy()"
   ]
  },
  {
   "cell_type": "code",
   "execution_count": null,
   "id": "9db4ea1f-1580-4f43-a3f0-86002397cd98",
   "metadata": {
    "execution": {
     "iopub.execute_input": "2023-05-15T07:48:12.009113Z",
     "iopub.status.busy": "2023-05-15T07:48:12.008920Z",
     "iopub.status.idle": "2023-05-15T07:48:32.210026Z",
     "shell.execute_reply": "2023-05-15T07:48:32.209563Z"
    },
    "papermill": {
     "duration": 20.206073,
     "end_time": "2023-05-15T07:48:32.211387",
     "exception": false,
     "start_time": "2023-05-15T07:48:12.005314",
     "status": "completed"
    },
    "tags": []
   },
   "outputs": [],
   "source": [
    "%%R -i data -i data_tod -i genes -i cells -i soupx_groups -o out \n",
    "set.seed(187)\n",
    "# specify row and column names of data\n",
    "rownames(data) = genes\n",
    "colnames(data) = cells\n",
    "# ensure correct sparse format for table of counts and table of droplets\n",
    "data <- as(data, \"sparseMatrix\")\n",
    "data_tod <- as(data_tod, \"sparseMatrix\")\n",
    "\n",
    "# Generate SoupChannel Object for SoupX \n",
    "sc = SoupChannel(data_tod, data, calcSoupProfile = FALSE)\n",
    "\n",
    "# Add extra meta data to the SoupChannel object\n",
    "soupProf = data.frame(row.names = rownames(data),\n",
    "                      est = rowSums(data)/sum(data),\n",
    "                      counts = rowSums(data))\n",
    "sc = setSoupProfile(sc, soupProf)\n",
    "# Set cluster information in SoupChannel\n",
    "sc = setClusters(sc, soupx_groups)\n",
    "\n",
    "# Estimate contamination fraction\n",
    "sc  = autoEstCont(sc, doPlot=FALSE, forceAccept = TRUE)\n",
    "# Infer corrected table of counts and rount to integer\n",
    "out = adjustCounts(sc, roundToInt = TRUE)"
   ]
  },
  {
   "cell_type": "code",
   "execution_count": null,
   "id": "32555d5e-5fa3-46dd-a4e0-ddc96ea265e2",
   "metadata": {
    "execution": {
     "iopub.execute_input": "2023-05-15T07:48:32.220494Z",
     "iopub.status.busy": "2023-05-15T07:48:32.220307Z",
     "iopub.status.idle": "2023-05-15T07:48:32.259033Z",
     "shell.execute_reply": "2023-05-15T07:48:32.258565Z"
    },
    "papermill": {
     "duration": 0.043551,
     "end_time": "2023-05-15T07:48:32.260379",
     "exception": false,
     "start_time": "2023-05-15T07:48:32.216828",
     "status": "completed"
    },
    "tags": []
   },
   "outputs": [],
   "source": [
    "dataset.layers[\"soupX_counts\"] = out.T\n",
    "dataset.X = dataset.layers[\"soupX_counts\"].copy()"
   ]
  },
  {
   "cell_type": "code",
   "execution_count": null,
   "id": "e27da7df-e094-4d2a-9109-5a363e012175",
   "metadata": {
    "execution": {
     "iopub.execute_input": "2023-05-15T07:48:32.267035Z",
     "iopub.status.busy": "2023-05-15T07:48:32.266875Z",
     "iopub.status.idle": "2023-05-15T07:48:32.269213Z",
     "shell.execute_reply": "2023-05-15T07:48:32.268890Z"
    },
    "papermill": {
     "duration": 0.00649,
     "end_time": "2023-05-15T07:48:32.270008",
     "exception": false,
     "start_time": "2023-05-15T07:48:32.263518",
     "status": "completed"
    },
    "tags": []
   },
   "outputs": [],
   "source": [
    "data_mat = dataset.X.T"
   ]
  },
  {
   "cell_type": "code",
   "execution_count": null,
   "id": "80a993b1-5ccb-4697-9187-1beb7ab8aff9",
   "metadata": {
    "execution": {
     "iopub.execute_input": "2023-05-15T07:48:32.276474Z",
     "iopub.status.busy": "2023-05-15T07:48:32.276285Z",
     "iopub.status.idle": "2023-05-15T07:48:52.419747Z",
     "shell.execute_reply": "2023-05-15T07:48:52.419275Z"
    },
    "papermill": {
     "duration": 20.148284,
     "end_time": "2023-05-15T07:48:52.421095",
     "exception": false,
     "start_time": "2023-05-15T07:48:32.272811",
     "status": "completed"
    },
    "tags": []
   },
   "outputs": [],
   "source": [
    "%%R -i data_mat -o droplet_class\n",
    "\n",
    "set.seed(187)\n",
    "sce = scDblFinder(\n",
    "    SingleCellExperiment(\n",
    "        list(counts=data_mat),\n",
    "    ) \n",
    ")\n",
    "droplet_class = sce$scDblFinder.class"
   ]
  },
  {
   "cell_type": "code",
   "execution_count": null,
   "id": "d4dd6e9d-fcf2-41fc-8457-c8e0a3cb2c71",
   "metadata": {
    "execution": {
     "iopub.execute_input": "2023-05-15T07:48:52.441257Z",
     "iopub.status.busy": "2023-05-15T07:48:52.441065Z",
     "iopub.status.idle": "2023-05-15T07:48:52.445291Z",
     "shell.execute_reply": "2023-05-15T07:48:52.444957Z"
    },
    "papermill": {
     "duration": 0.008468,
     "end_time": "2023-05-15T07:48:52.446101",
     "exception": false,
     "start_time": "2023-05-15T07:48:52.437633",
     "status": "completed"
    },
    "tags": []
   },
   "outputs": [],
   "source": [
    "dataset.obs[\"scDblFinder_class\"] = droplet_class\n",
    "dataset.obs.scDblFinder_class.value_counts()\n",
    "dataset"
   ]
  },
  {
   "cell_type": "code",
   "execution_count": null,
   "id": "28c95014-2d6c-477f-95cb-9f9f0507520c",
   "metadata": {
    "execution": {
     "iopub.execute_input": "2023-05-15T07:48:52.452423Z",
     "iopub.status.busy": "2023-05-15T07:48:52.452265Z",
     "iopub.status.idle": "2023-05-15T07:48:52.467409Z",
     "shell.execute_reply": "2023-05-15T07:48:52.467088Z"
    },
    "papermill": {
     "duration": 0.019219,
     "end_time": "2023-05-15T07:48:52.468230",
     "exception": false,
     "start_time": "2023-05-15T07:48:52.449011",
     "status": "completed"
    },
    "tags": []
   },
   "outputs": [],
   "source": [
    "dataset = dataset[dataset.obs[\"scDblFinder_class\"] == 1]"
   ]
  },
  {
   "cell_type": "code",
   "execution_count": null,
   "id": "3e22f9e0-bfcb-416c-a151-a9bca3bec3b9",
   "metadata": {
    "execution": {
     "iopub.execute_input": "2023-05-15T07:48:52.474686Z",
     "iopub.status.busy": "2023-05-15T07:48:52.474517Z",
     "iopub.status.idle": "2023-05-15T07:48:52.675413Z",
     "shell.execute_reply": "2023-05-15T07:48:52.674978Z"
    },
    "papermill": {
     "duration": 0.205277,
     "end_time": "2023-05-15T07:48:52.676382",
     "exception": false,
     "start_time": "2023-05-15T07:48:52.471105",
     "status": "completed"
    },
    "tags": []
   },
   "outputs": [],
   "source": [
    "# mitochondrial genes\n",
    "dataset.var[\"mt\"] = dataset.var_names.str.startswith(\"MT-\")\n",
    "# ribosomal genes\n",
    "dataset.var[\"ribo\"] = dataset.var_names.str.startswith((\"RPS\", \"RPL\"))\n",
    "# hemoglobin genes.\n",
    "dataset.var[\"hb\"] = dataset.var_names.str.contains((\"^HB[^(P)]\"))\n",
    "\n",
    "sc.pp.calculate_qc_metrics(dataset,\n",
    "                           qc_vars=['mt', 'ribo', 'hb'],\n",
    "                           percent_top=None,\n",
    "                           log1p=False,\n",
    "                           inplace=True)\n",
    "dataset"
   ]
  },
  {
   "cell_type": "code",
   "execution_count": null,
   "id": "34deee79-4043-428f-8575-aa57b45f6369",
   "metadata": {
    "execution": {
     "iopub.execute_input": "2023-05-15T07:48:52.683751Z",
     "iopub.status.busy": "2023-05-15T07:48:52.683568Z",
     "iopub.status.idle": "2023-05-15T07:48:53.177050Z",
     "shell.execute_reply": "2023-05-15T07:48:53.176654Z"
    },
    "papermill": {
     "duration": 0.498143,
     "end_time": "2023-05-15T07:48:53.178069",
     "exception": false,
     "start_time": "2023-05-15T07:48:52.679926",
     "status": "completed"
    },
    "tags": []
   },
   "outputs": [],
   "source": [
    "fig, ax = plt.subplots(ncols = 4, figsize = (16,4))\n",
    "axis = sc.pl.violin(dataset, \"n_genes_by_counts\", jitter = 0.4, ax = ax[0], show = False)\n",
    "axis.grid(False)\n",
    "axis.set_title(\"Unique Genes per cell\")\n",
    "axis.tick_params(axis = \"x\", bottom =False, labelbottom =False)\n",
    "axis.set_ylabel(\"# genes\")\n",
    "axis.axhline(y = 100, color = \"black\", label = \"cutoff\")\n",
    "axis.legend(fontsize = 14, loc = \"upper right\")\n",
    "\n",
    "axis = sc.pl.violin(dataset, \"pct_counts_mt\", jitter = 0.4, ax = ax[1], show = False)\n",
    "axis.grid(False)\n",
    "axis.set_title(\"Mitochondrial Fraction\")\n",
    "axis.tick_params(axis = \"x\", bottom =False, labelbottom =False)\n",
    "axis.set_ylabel(\"% mitochondrial genes\")\n",
    "axis.axhline(y = 10, color = \"black\", label = \"cutoff\")\n",
    "axis.legend(fontsize = 14, loc = \"upper right\")\n",
    "\n",
    "axis = sc.pl.violin(dataset, \"pct_counts_hb\", jitter = 0.4, ax = ax[2], show = False, size =2)\n",
    "axis.grid(False)\n",
    "axis.set_title(\"Hemoglobin Fraction\")\n",
    "axis.tick_params(axis = \"x\", bottom =False, labelbottom =False)\n",
    "axis.set_ylabel(\"% hemoglobin genes\")\n",
    "axis.axhline(y = 3, color = \"black\", label = \"cutoff\")\n",
    "axis.legend(fontsize = 14, loc = \"upper right\")\n",
    "#axis.set_ylim(0,5)\n",
    "\n",
    "axis = sc.pl.violin(dataset, \"pct_counts_ribo\", jitter = 0.4, ax = ax[3], show = False)\n",
    "axis.grid(False)\n",
    "axis.set_title(\"Ribosomal Fraction\")\n",
    "axis.tick_params(axis = \"x\", bottom =False, labelbottom =False)\n",
    "axis.set_ylabel(\"% ribosome genes\")\n",
    "\n",
    "plt.tight_layout()\n",
    "#plt.savefig(f\"{outputDir}08_gene_based_filtering.pdf\", dpi = 300)\n",
    "plt.show()\n",
    "\n"
   ]
  },
  {
   "cell_type": "code",
   "execution_count": null,
   "id": "d7ade754-843e-4840-8707-426613d8c0c5",
   "metadata": {
    "execution": {
     "iopub.execute_input": "2023-05-15T07:48:53.187458Z",
     "iopub.status.busy": "2023-05-15T07:48:53.187319Z",
     "iopub.status.idle": "2023-05-15T07:48:53.195873Z",
     "shell.execute_reply": "2023-05-15T07:48:53.195548Z"
    },
    "papermill": {
     "duration": 0.013945,
     "end_time": "2023-05-15T07:48:53.196631",
     "exception": false,
     "start_time": "2023-05-15T07:48:53.182686",
     "status": "completed"
    },
    "tags": []
   },
   "outputs": [],
   "source": [
    "dataset = dataset[dataset.obs.pct_counts_mt < 10, :]\n",
    "dataset = dataset[dataset.obs.n_genes_by_counts > 100, :]\n",
    "dataset = dataset[dataset.obs.pct_counts_hb < 3, :]\n",
    "dataset"
   ]
  },
  {
   "cell_type": "code",
   "execution_count": null,
   "id": "1941fa36-e865-4500-b586-f7a32d142c9b",
   "metadata": {
    "execution": {
     "iopub.execute_input": "2023-05-15T07:48:53.205622Z",
     "iopub.status.busy": "2023-05-15T07:48:53.205455Z",
     "iopub.status.idle": "2023-05-15T07:48:53.208271Z",
     "shell.execute_reply": "2023-05-15T07:48:53.207962Z"
    },
    "papermill": {
     "duration": 0.008212,
     "end_time": "2023-05-15T07:48:53.209028",
     "exception": false,
     "start_time": "2023-05-15T07:48:53.200816",
     "status": "completed"
    },
    "tags": []
   },
   "outputs": [],
   "source": [
    "metadata.columns"
   ]
  },
  {
   "cell_type": "code",
   "execution_count": null,
   "id": "2e0ff8c3-2aa9-4a01-9b88-5912a6734447",
   "metadata": {
    "execution": {
     "iopub.execute_input": "2023-05-15T07:48:53.218253Z",
     "iopub.status.busy": "2023-05-15T07:48:53.217985Z",
     "iopub.status.idle": "2023-05-15T07:48:53.273288Z",
     "shell.execute_reply": "2023-05-15T07:48:53.272822Z"
    },
    "papermill": {
     "duration": 0.061202,
     "end_time": "2023-05-15T07:48:53.274468",
     "exception": false,
     "start_time": "2023-05-15T07:48:53.213266",
     "status": "completed"
    },
    "tags": []
   },
   "outputs": [],
   "source": [
    "for col in metadata.columns:\n",
    "    dataset.obs[col] = metadata.loc[metadata[\"Run\"] == sample_name, col].to_list()[0]"
   ]
  },
  {
   "cell_type": "code",
   "execution_count": null,
   "id": "b84578d3-d63e-419c-a272-a0b8317d05ab",
   "metadata": {
    "execution": {
     "iopub.execute_input": "2023-05-15T07:48:53.283988Z",
     "iopub.status.busy": "2023-05-15T07:48:53.283832Z",
     "iopub.status.idle": "2023-05-15T07:48:53.697038Z",
     "shell.execute_reply": "2023-05-15T07:48:53.696545Z"
    },
    "papermill": {
     "duration": 0.419383,
     "end_time": "2023-05-15T07:48:53.698316",
     "exception": false,
     "start_time": "2023-05-15T07:48:53.278933",
     "status": "completed"
    },
    "tags": []
   },
   "outputs": [],
   "source": [
    "dataset.write(f\"../../int_data/{sample_name}_qc.h5ad\")"
   ]
  },
  {
   "cell_type": "code",
   "execution_count": null,
   "id": "501b33a0-432d-415f-ae82-50723484b85d",
   "metadata": {
    "execution": {
     "iopub.execute_input": "2023-05-15T07:48:53.707984Z",
     "iopub.status.busy": "2023-05-15T07:48:53.707785Z",
     "iopub.status.idle": "2023-05-15T07:48:53.710770Z",
     "shell.execute_reply": "2023-05-15T07:48:53.710442Z"
    },
    "papermill": {
     "duration": 0.008767,
     "end_time": "2023-05-15T07:48:53.711570",
     "exception": false,
     "start_time": "2023-05-15T07:48:53.702803",
     "status": "completed"
    },
    "tags": []
   },
   "outputs": [],
   "source": [
    "dataset"
   ]
  }
 ],
 "metadata": {
  "kernelspec": {
   "display_name": "py_R",
   "language": "python",
   "name": "python_r"
  },
  "language_info": {
   "codemirror_mode": {
    "name": "ipython",
    "version": 3
   },
   "file_extension": ".py",
   "mimetype": "text/x-python",
   "name": "python",
   "nbconvert_exporter": "python",
   "pygments_lexer": "ipython3",
   "version": "3.10.9"
  },
  "papermill": {
   "default_parameters": {},
   "duration": 155.418432,
   "end_time": "2023-05-15T07:48:55.132618",
   "environment_variables": {},
   "exception": null,
   "input_path": "template.ipynb",
   "output_path": "SRR13329113.ipynb",
   "parameters": {
    "sample_name": "SRR13329113"
   },
   "start_time": "2023-05-15T07:46:19.714186",
   "version": "2.4.0"
  }
 },
 "nbformat": 4,
 "nbformat_minor": 5
}
