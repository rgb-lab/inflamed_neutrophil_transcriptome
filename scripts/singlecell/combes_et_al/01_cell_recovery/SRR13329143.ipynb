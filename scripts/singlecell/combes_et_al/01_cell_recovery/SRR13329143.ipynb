{
 "cells": [
  {
   "cell_type": "code",
   "execution_count": null,
   "id": "4c0f2fa8-5232-4f47-a7ec-6c9bbabe50e2",
   "metadata": {
    "execution": {
     "iopub.execute_input": "2023-05-15T08:09:15.702447Z",
     "iopub.status.busy": "2023-05-15T08:09:15.702283Z",
     "iopub.status.idle": "2023-05-15T08:09:15.706828Z",
     "shell.execute_reply": "2023-05-15T08:09:15.706515Z"
    },
    "papermill": {
     "duration": 0.009235,
     "end_time": "2023-05-15T08:09:15.707709",
     "exception": false,
     "start_time": "2023-05-15T08:09:15.698474",
     "status": "completed"
    },
    "tags": [
     "parameters"
    ]
   },
   "outputs": [],
   "source": [
    "sample_name = \"SRR13329143\""
   ]
  },
  {
   "cell_type": "code",
   "execution_count": null,
   "id": "05a771b7",
   "metadata": {
    "execution": {
     "iopub.execute_input": "2023-05-15T08:09:15.713077Z",
     "iopub.status.busy": "2023-05-15T08:09:15.712933Z",
     "iopub.status.idle": "2023-05-15T08:09:15.714841Z",
     "shell.execute_reply": "2023-05-15T08:09:15.714547Z"
    },
    "papermill": {
     "duration": 0.005509,
     "end_time": "2023-05-15T08:09:15.715602",
     "exception": false,
     "start_time": "2023-05-15T08:09:15.710093",
     "status": "completed"
    },
    "tags": [
     "injected-parameters"
    ]
   },
   "outputs": [],
   "source": [
    "# Parameters\n",
    "sample_name = \"SRR13329143\"\n"
   ]
  },
  {
   "cell_type": "code",
   "execution_count": null,
   "id": "f87ed95b-2b67-4a5a-8fe2-47359b1dd2a9",
   "metadata": {
    "execution": {
     "iopub.execute_input": "2023-05-15T08:09:15.720988Z",
     "iopub.status.busy": "2023-05-15T08:09:15.720733Z",
     "iopub.status.idle": "2023-05-15T08:09:15.722924Z",
     "shell.execute_reply": "2023-05-15T08:09:15.722629Z"
    },
    "papermill": {
     "duration": 0.005843,
     "end_time": "2023-05-15T08:09:15.723766",
     "exception": false,
     "start_time": "2023-05-15T08:09:15.717923",
     "status": "completed"
    },
    "tags": []
   },
   "outputs": [],
   "source": [
    "import warnings\n",
    "warnings.simplefilter(action='ignore', category=FutureWarning)\n",
    "warnings.simplefilter(action='ignore', category=UserWarning)"
   ]
  },
  {
   "cell_type": "code",
   "execution_count": null,
   "id": "85161f19-b2c5-490b-8cab-c2cf9653b304",
   "metadata": {
    "execution": {
     "iopub.execute_input": "2023-05-15T08:09:15.729057Z",
     "iopub.status.busy": "2023-05-15T08:09:15.728857Z",
     "iopub.status.idle": "2023-05-15T08:09:20.594914Z",
     "shell.execute_reply": "2023-05-15T08:09:20.594445Z"
    },
    "papermill": {
     "duration": 4.870149,
     "end_time": "2023-05-15T08:09:20.596276",
     "exception": false,
     "start_time": "2023-05-15T08:09:15.726127",
     "status": "completed"
    },
    "tags": []
   },
   "outputs": [],
   "source": [
    "import gc\n",
    "import scanpy as sc\n",
    "import muon as mu\n",
    "import seaborn as sns\n",
    "import os\n",
    "import pandas as pd\n",
    "from matplotlib import pyplot as plt\n",
    "\n",
    "os.environ['R_HOME'] = '/gpfs/bwfor/work/ws/hd_fu399-conda/conda/envs/python_R/lib/R/'\n",
    "import anndata2ri\n",
    "import logging\n",
    "\n",
    "import rpy2.rinterface_lib.callbacks as rcb\n",
    "import rpy2.robjects as ro\n",
    "\n",
    "rcb.logger.setLevel(logging.ERROR)\n",
    "ro.pandas2ri.activate()\n",
    "anndata2ri.activate()\n",
    "\n",
    "%load_ext rpy2.ipython"
   ]
  },
  {
   "cell_type": "code",
   "execution_count": null,
   "id": "fc4ade78-b728-4704-9db6-45fbaab62ba1",
   "metadata": {
    "execution": {
     "iopub.execute_input": "2023-05-15T08:09:20.606292Z",
     "iopub.status.busy": "2023-05-15T08:09:20.606001Z",
     "iopub.status.idle": "2023-05-15T08:09:32.532172Z",
     "shell.execute_reply": "2023-05-15T08:09:32.531590Z"
    },
    "papermill": {
     "duration": 11.931071,
     "end_time": "2023-05-15T08:09:32.533564",
     "exception": false,
     "start_time": "2023-05-15T08:09:20.602493",
     "status": "completed"
    },
    "tags": []
   },
   "outputs": [],
   "source": [
    "%%R\n",
    "library(SoupX)\n",
    "library(Seurat)\n",
    "library(scater)\n",
    "library(scDblFinder)\n",
    "library(BiocParallel)\n",
    "library(MuDataSeurat)\n",
    "library(DropletUtils)"
   ]
  },
  {
   "cell_type": "code",
   "execution_count": null,
   "id": "f7424d90-7690-4290-8651-1db3f9df3a35",
   "metadata": {
    "execution": {
     "iopub.execute_input": "2023-05-15T08:09:32.542294Z",
     "iopub.status.busy": "2023-05-15T08:09:32.542117Z",
     "iopub.status.idle": "2023-05-15T08:09:32.547833Z",
     "shell.execute_reply": "2023-05-15T08:09:32.547504Z"
    },
    "papermill": {
     "duration": 0.010354,
     "end_time": "2023-05-15T08:09:32.548755",
     "exception": false,
     "start_time": "2023-05-15T08:09:32.538401",
     "status": "completed"
    },
    "tags": []
   },
   "outputs": [],
   "source": [
    "metadata = pd.read_csv(\"../../combes_metadata.txt\")"
   ]
  },
  {
   "cell_type": "code",
   "execution_count": null,
   "id": "2574ecf1-bad4-4c33-8f3f-718a358727ab",
   "metadata": {
    "execution": {
     "iopub.execute_input": "2023-05-15T08:09:32.554432Z",
     "iopub.status.busy": "2023-05-15T08:09:32.554302Z",
     "iopub.status.idle": "2023-05-15T08:09:32.556392Z",
     "shell.execute_reply": "2023-05-15T08:09:32.556092Z"
    },
    "papermill": {
     "duration": 0.005811,
     "end_time": "2023-05-15T08:09:32.557177",
     "exception": false,
     "start_time": "2023-05-15T08:09:32.551366",
     "status": "completed"
    },
    "tags": []
   },
   "outputs": [],
   "source": [
    "raw_input = f\"/home/hd/hd_hd/hd_fu399/sds-hd/sd21k006/scRNAseq/revision_natcomm/combes_et_al/fetchngs/results/fastq/{sample_name}/{sample_name}/outs/raw_feature_bc_matrix.h5\""
   ]
  },
  {
   "cell_type": "code",
   "execution_count": null,
   "id": "e266d388-1802-435c-93a5-90067358739c",
   "metadata": {
    "execution": {
     "iopub.execute_input": "2023-05-15T08:09:32.562768Z",
     "iopub.status.busy": "2023-05-15T08:09:32.562614Z",
     "iopub.status.idle": "2023-05-15T08:09:32.936634Z",
     "shell.execute_reply": "2023-05-15T08:09:32.936202Z"
    },
    "papermill": {
     "duration": 0.377867,
     "end_time": "2023-05-15T08:09:32.937489",
     "exception": false,
     "start_time": "2023-05-15T08:09:32.559622",
     "status": "completed"
    },
    "tags": []
   },
   "outputs": [],
   "source": [
    "dataset = sc.read_10x_h5(raw_input)\n",
    "dataset.var_names_make_unique()\n",
    "dataset.obs_names_make_unique()\n",
    "\n",
    "dataset.layers[\"raw_counts\"] = dataset.X.copy()\n",
    "data_tod = dataset.layers[\"raw_counts\"].T.copy()\n",
    "\n",
    "dataset"
   ]
  },
  {
   "cell_type": "code",
   "execution_count": null,
   "id": "af9f5892-ed31-42a6-991b-4e096f582cef",
   "metadata": {
    "execution": {
     "iopub.execute_input": "2023-05-15T08:09:32.943914Z",
     "iopub.status.busy": "2023-05-15T08:09:32.943734Z",
     "iopub.status.idle": "2023-05-15T08:09:32.976238Z",
     "shell.execute_reply": "2023-05-15T08:09:32.975769Z"
    },
    "papermill": {
     "duration": 0.037093,
     "end_time": "2023-05-15T08:09:32.977564",
     "exception": false,
     "start_time": "2023-05-15T08:09:32.940471",
     "status": "completed"
    },
    "tags": []
   },
   "outputs": [],
   "source": [
    "sce = dataset.copy()"
   ]
  },
  {
   "cell_type": "code",
   "execution_count": null,
   "id": "d03f2caf-8e74-430e-b045-0ab80401d165",
   "metadata": {
    "execution": {
     "iopub.execute_input": "2023-05-15T08:09:32.983877Z",
     "iopub.status.busy": "2023-05-15T08:09:32.983711Z",
     "iopub.status.idle": "2023-05-15T08:10:27.633065Z",
     "shell.execute_reply": "2023-05-15T08:10:27.632464Z"
    },
    "papermill": {
     "duration": 54.653972,
     "end_time": "2023-05-15T08:10:27.634454",
     "exception": false,
     "start_time": "2023-05-15T08:09:32.980482",
     "status": "completed"
    },
    "tags": []
   },
   "outputs": [],
   "source": [
    "%%R -i sce -o empty_drop_output\n",
    "set.seed(187)\n",
    "empty_drop_output <- emptyDrops(assay(sce))"
   ]
  },
  {
   "cell_type": "code",
   "execution_count": null,
   "id": "2a34a54b-3ae2-44d6-8679-8769228c5b66",
   "metadata": {
    "execution": {
     "iopub.execute_input": "2023-05-15T08:10:27.643368Z",
     "iopub.status.busy": "2023-05-15T08:10:27.643194Z",
     "iopub.status.idle": "2023-05-15T08:10:27.673868Z",
     "shell.execute_reply": "2023-05-15T08:10:27.673547Z"
    },
    "papermill": {
     "duration": 0.035288,
     "end_time": "2023-05-15T08:10:27.674749",
     "exception": false,
     "start_time": "2023-05-15T08:10:27.639461",
     "status": "completed"
    },
    "tags": []
   },
   "outputs": [],
   "source": [
    "non_empty_barcodes = empty_drop_output[empty_drop_output[\"FDR\"] < 0.001].index\n",
    "dataset = dataset[dataset.obs.index.isin(non_empty_barcodes), :]\n",
    "dataset"
   ]
  },
  {
   "cell_type": "code",
   "execution_count": null,
   "id": "016a91e5-1bef-46fb-b91e-4fb9a6870c44",
   "metadata": {
    "execution": {
     "iopub.execute_input": "2023-05-15T08:10:27.680903Z",
     "iopub.status.busy": "2023-05-15T08:10:27.680749Z",
     "iopub.status.idle": "2023-05-15T08:10:31.038015Z",
     "shell.execute_reply": "2023-05-15T08:10:31.037542Z"
    },
    "papermill": {
     "duration": 3.361877,
     "end_time": "2023-05-15T08:10:31.039361",
     "exception": false,
     "start_time": "2023-05-15T08:10:27.677484",
     "status": "completed"
    },
    "tags": []
   },
   "outputs": [],
   "source": [
    "rna_assay = dataset.copy()\n",
    "sc.pp.normalize_per_cell(rna_assay)\n",
    "sc.pp.log1p(rna_assay)\n",
    "sc.pp.pca(rna_assay)\n",
    "sc.pp.neighbors(rna_assay)\n",
    "sc.tl.leiden(rna_assay, key_added=\"soupx_groups\")\n",
    "\n",
    "soupx_groups = rna_assay.obs[\"soupx_groups\"]\n",
    "\n",
    "del rna_assay\n",
    "\n",
    "genes = dataset.var_names\n",
    "cells = dataset.obs_names\n",
    "data = dataset.X.T.copy()"
   ]
  },
  {
   "cell_type": "code",
   "execution_count": null,
   "id": "9db4ea1f-1580-4f43-a3f0-86002397cd98",
   "metadata": {
    "execution": {
     "iopub.execute_input": "2023-05-15T08:10:31.046376Z",
     "iopub.status.busy": "2023-05-15T08:10:31.046186Z",
     "iopub.status.idle": "2023-05-15T08:10:38.999738Z",
     "shell.execute_reply": "2023-05-15T08:10:38.999221Z"
    },
    "papermill": {
     "duration": 7.958316,
     "end_time": "2023-05-15T08:10:39.001037",
     "exception": false,
     "start_time": "2023-05-15T08:10:31.042721",
     "status": "completed"
    },
    "tags": []
   },
   "outputs": [],
   "source": [
    "%%R -i data -i data_tod -i genes -i cells -i soupx_groups -o out \n",
    "set.seed(187)\n",
    "# specify row and column names of data\n",
    "rownames(data) = genes\n",
    "colnames(data) = cells\n",
    "# ensure correct sparse format for table of counts and table of droplets\n",
    "data <- as(data, \"sparseMatrix\")\n",
    "data_tod <- as(data_tod, \"sparseMatrix\")\n",
    "\n",
    "# Generate SoupChannel Object for SoupX \n",
    "sc = SoupChannel(data_tod, data, calcSoupProfile = FALSE)\n",
    "\n",
    "# Add extra meta data to the SoupChannel object\n",
    "soupProf = data.frame(row.names = rownames(data),\n",
    "                      est = rowSums(data)/sum(data),\n",
    "                      counts = rowSums(data))\n",
    "sc = setSoupProfile(sc, soupProf)\n",
    "# Set cluster information in SoupChannel\n",
    "sc = setClusters(sc, soupx_groups)\n",
    "\n",
    "# Estimate contamination fraction\n",
    "sc  = autoEstCont(sc, doPlot=FALSE, forceAccept = TRUE)\n",
    "# Infer corrected table of counts and rount to integer\n",
    "out = adjustCounts(sc, roundToInt = TRUE)"
   ]
  },
  {
   "cell_type": "code",
   "execution_count": null,
   "id": "32555d5e-5fa3-46dd-a4e0-ddc96ea265e2",
   "metadata": {
    "execution": {
     "iopub.execute_input": "2023-05-15T08:10:39.010224Z",
     "iopub.status.busy": "2023-05-15T08:10:39.010041Z",
     "iopub.status.idle": "2023-05-15T08:10:39.022979Z",
     "shell.execute_reply": "2023-05-15T08:10:39.022564Z"
    },
    "papermill": {
     "duration": 0.017663,
     "end_time": "2023-05-15T08:10:39.024067",
     "exception": false,
     "start_time": "2023-05-15T08:10:39.006404",
     "status": "completed"
    },
    "tags": []
   },
   "outputs": [],
   "source": [
    "dataset.layers[\"soupX_counts\"] = out.T\n",
    "dataset.X = dataset.layers[\"soupX_counts\"].copy()"
   ]
  },
  {
   "cell_type": "code",
   "execution_count": null,
   "id": "e27da7df-e094-4d2a-9109-5a363e012175",
   "metadata": {
    "execution": {
     "iopub.execute_input": "2023-05-15T08:10:39.030754Z",
     "iopub.status.busy": "2023-05-15T08:10:39.030587Z",
     "iopub.status.idle": "2023-05-15T08:10:39.032765Z",
     "shell.execute_reply": "2023-05-15T08:10:39.032452Z"
    },
    "papermill": {
     "duration": 0.00637,
     "end_time": "2023-05-15T08:10:39.033591",
     "exception": false,
     "start_time": "2023-05-15T08:10:39.027221",
     "status": "completed"
    },
    "tags": []
   },
   "outputs": [],
   "source": [
    "data_mat = dataset.X.T"
   ]
  },
  {
   "cell_type": "code",
   "execution_count": null,
   "id": "80a993b1-5ccb-4697-9187-1beb7ab8aff9",
   "metadata": {
    "execution": {
     "iopub.execute_input": "2023-05-15T08:10:39.039834Z",
     "iopub.status.busy": "2023-05-15T08:10:39.039653Z",
     "iopub.status.idle": "2023-05-15T08:10:52.267966Z",
     "shell.execute_reply": "2023-05-15T08:10:52.267469Z"
    },
    "papermill": {
     "duration": 13.232934,
     "end_time": "2023-05-15T08:10:52.269264",
     "exception": false,
     "start_time": "2023-05-15T08:10:39.036330",
     "status": "completed"
    },
    "tags": []
   },
   "outputs": [],
   "source": [
    "%%R -i data_mat -o droplet_class\n",
    "\n",
    "set.seed(187)\n",
    "sce = scDblFinder(\n",
    "    SingleCellExperiment(\n",
    "        list(counts=data_mat),\n",
    "    ) \n",
    ")\n",
    "droplet_class = sce$scDblFinder.class"
   ]
  },
  {
   "cell_type": "code",
   "execution_count": null,
   "id": "d4dd6e9d-fcf2-41fc-8457-c8e0a3cb2c71",
   "metadata": {
    "execution": {
     "iopub.execute_input": "2023-05-15T08:10:52.278486Z",
     "iopub.status.busy": "2023-05-15T08:10:52.278293Z",
     "iopub.status.idle": "2023-05-15T08:10:52.282497Z",
     "shell.execute_reply": "2023-05-15T08:10:52.282160Z"
    },
    "papermill": {
     "duration": 0.008871,
     "end_time": "2023-05-15T08:10:52.283305",
     "exception": false,
     "start_time": "2023-05-15T08:10:52.274434",
     "status": "completed"
    },
    "tags": []
   },
   "outputs": [],
   "source": [
    "dataset.obs[\"scDblFinder_class\"] = droplet_class\n",
    "dataset.obs.scDblFinder_class.value_counts()\n",
    "dataset"
   ]
  },
  {
   "cell_type": "code",
   "execution_count": null,
   "id": "28c95014-2d6c-477f-95cb-9f9f0507520c",
   "metadata": {
    "execution": {
     "iopub.execute_input": "2023-05-15T08:10:52.290176Z",
     "iopub.status.busy": "2023-05-15T08:10:52.290012Z",
     "iopub.status.idle": "2023-05-15T08:10:52.293071Z",
     "shell.execute_reply": "2023-05-15T08:10:52.292733Z"
    },
    "papermill": {
     "duration": 0.007915,
     "end_time": "2023-05-15T08:10:52.294130",
     "exception": false,
     "start_time": "2023-05-15T08:10:52.286215",
     "status": "completed"
    },
    "tags": []
   },
   "outputs": [],
   "source": [
    "dataset = dataset[dataset.obs[\"scDblFinder_class\"] == 1]"
   ]
  },
  {
   "cell_type": "code",
   "execution_count": null,
   "id": "3e22f9e0-bfcb-416c-a151-a9bca3bec3b9",
   "metadata": {
    "execution": {
     "iopub.execute_input": "2023-05-15T08:10:52.300722Z",
     "iopub.status.busy": "2023-05-15T08:10:52.300529Z",
     "iopub.status.idle": "2023-05-15T08:10:52.375979Z",
     "shell.execute_reply": "2023-05-15T08:10:52.375528Z"
    },
    "papermill": {
     "duration": 0.079782,
     "end_time": "2023-05-15T08:10:52.376830",
     "exception": false,
     "start_time": "2023-05-15T08:10:52.297048",
     "status": "completed"
    },
    "tags": []
   },
   "outputs": [],
   "source": [
    "# mitochondrial genes\n",
    "dataset.var[\"mt\"] = dataset.var_names.str.startswith(\"MT-\")\n",
    "# ribosomal genes\n",
    "dataset.var[\"ribo\"] = dataset.var_names.str.startswith((\"RPS\", \"RPL\"))\n",
    "# hemoglobin genes.\n",
    "dataset.var[\"hb\"] = dataset.var_names.str.contains((\"^HB[^(P)]\"))\n",
    "\n",
    "sc.pp.calculate_qc_metrics(dataset,\n",
    "                           qc_vars=['mt', 'ribo', 'hb'],\n",
    "                           percent_top=None,\n",
    "                           log1p=False,\n",
    "                           inplace=True)\n",
    "dataset"
   ]
  },
  {
   "cell_type": "code",
   "execution_count": null,
   "id": "34deee79-4043-428f-8575-aa57b45f6369",
   "metadata": {
    "execution": {
     "iopub.execute_input": "2023-05-15T08:10:52.384392Z",
     "iopub.status.busy": "2023-05-15T08:10:52.384226Z",
     "iopub.status.idle": "2023-05-15T08:10:52.845081Z",
     "shell.execute_reply": "2023-05-15T08:10:52.844681Z"
    },
    "papermill": {
     "duration": 0.465374,
     "end_time": "2023-05-15T08:10:52.845940",
     "exception": false,
     "start_time": "2023-05-15T08:10:52.380566",
     "status": "completed"
    },
    "tags": []
   },
   "outputs": [],
   "source": [
    "fig, ax = plt.subplots(ncols = 4, figsize = (16,4))\n",
    "axis = sc.pl.violin(dataset, \"n_genes_by_counts\", jitter = 0.4, ax = ax[0], show = False)\n",
    "axis.grid(False)\n",
    "axis.set_title(\"Unique Genes per cell\")\n",
    "axis.tick_params(axis = \"x\", bottom =False, labelbottom =False)\n",
    "axis.set_ylabel(\"# genes\")\n",
    "axis.axhline(y = 100, color = \"black\", label = \"cutoff\")\n",
    "axis.legend(fontsize = 14, loc = \"upper right\")\n",
    "\n",
    "axis = sc.pl.violin(dataset, \"pct_counts_mt\", jitter = 0.4, ax = ax[1], show = False)\n",
    "axis.grid(False)\n",
    "axis.set_title(\"Mitochondrial Fraction\")\n",
    "axis.tick_params(axis = \"x\", bottom =False, labelbottom =False)\n",
    "axis.set_ylabel(\"% mitochondrial genes\")\n",
    "axis.axhline(y = 10, color = \"black\", label = \"cutoff\")\n",
    "axis.legend(fontsize = 14, loc = \"upper right\")\n",
    "\n",
    "axis = sc.pl.violin(dataset, \"pct_counts_hb\", jitter = 0.4, ax = ax[2], show = False, size =2)\n",
    "axis.grid(False)\n",
    "axis.set_title(\"Hemoglobin Fraction\")\n",
    "axis.tick_params(axis = \"x\", bottom =False, labelbottom =False)\n",
    "axis.set_ylabel(\"% hemoglobin genes\")\n",
    "axis.axhline(y = 3, color = \"black\", label = \"cutoff\")\n",
    "axis.legend(fontsize = 14, loc = \"upper right\")\n",
    "#axis.set_ylim(0,5)\n",
    "\n",
    "axis = sc.pl.violin(dataset, \"pct_counts_ribo\", jitter = 0.4, ax = ax[3], show = False)\n",
    "axis.grid(False)\n",
    "axis.set_title(\"Ribosomal Fraction\")\n",
    "axis.tick_params(axis = \"x\", bottom =False, labelbottom =False)\n",
    "axis.set_ylabel(\"% ribosome genes\")\n",
    "\n",
    "plt.tight_layout()\n",
    "#plt.savefig(f\"{outputDir}08_gene_based_filtering.pdf\", dpi = 300)\n",
    "plt.show()\n",
    "\n"
   ]
  },
  {
   "cell_type": "code",
   "execution_count": null,
   "id": "d7ade754-843e-4840-8707-426613d8c0c5",
   "metadata": {
    "execution": {
     "iopub.execute_input": "2023-05-15T08:10:52.855146Z",
     "iopub.status.busy": "2023-05-15T08:10:52.854974Z",
     "iopub.status.idle": "2023-05-15T08:10:52.863935Z",
     "shell.execute_reply": "2023-05-15T08:10:52.863606Z"
    },
    "papermill": {
     "duration": 0.014381,
     "end_time": "2023-05-15T08:10:52.864699",
     "exception": false,
     "start_time": "2023-05-15T08:10:52.850318",
     "status": "completed"
    },
    "tags": []
   },
   "outputs": [],
   "source": [
    "dataset = dataset[dataset.obs.pct_counts_mt < 10, :]\n",
    "dataset = dataset[dataset.obs.n_genes_by_counts > 100, :]\n",
    "dataset = dataset[dataset.obs.pct_counts_hb < 3, :]\n",
    "dataset"
   ]
  },
  {
   "cell_type": "code",
   "execution_count": null,
   "id": "1941fa36-e865-4500-b586-f7a32d142c9b",
   "metadata": {
    "execution": {
     "iopub.execute_input": "2023-05-15T08:10:52.873781Z",
     "iopub.status.busy": "2023-05-15T08:10:52.873623Z",
     "iopub.status.idle": "2023-05-15T08:10:52.876475Z",
     "shell.execute_reply": "2023-05-15T08:10:52.876157Z"
    },
    "papermill": {
     "duration": 0.008329,
     "end_time": "2023-05-15T08:10:52.877255",
     "exception": false,
     "start_time": "2023-05-15T08:10:52.868926",
     "status": "completed"
    },
    "tags": []
   },
   "outputs": [],
   "source": [
    "metadata.columns"
   ]
  },
  {
   "cell_type": "code",
   "execution_count": null,
   "id": "2e0ff8c3-2aa9-4a01-9b88-5912a6734447",
   "metadata": {
    "execution": {
     "iopub.execute_input": "2023-05-15T08:10:52.886346Z",
     "iopub.status.busy": "2023-05-15T08:10:52.886196Z",
     "iopub.status.idle": "2023-05-15T08:10:52.907513Z",
     "shell.execute_reply": "2023-05-15T08:10:52.907102Z"
    },
    "papermill": {
     "duration": 0.027349,
     "end_time": "2023-05-15T08:10:52.908824",
     "exception": false,
     "start_time": "2023-05-15T08:10:52.881475",
     "status": "completed"
    },
    "tags": []
   },
   "outputs": [],
   "source": [
    "for col in metadata.columns:\n",
    "    dataset.obs[col] = metadata.loc[metadata[\"Run\"] == sample_name, col].to_list()[0]"
   ]
  },
  {
   "cell_type": "code",
   "execution_count": null,
   "id": "b84578d3-d63e-419c-a272-a0b8317d05ab",
   "metadata": {
    "execution": {
     "iopub.execute_input": "2023-05-15T08:10:52.918747Z",
     "iopub.status.busy": "2023-05-15T08:10:52.918563Z",
     "iopub.status.idle": "2023-05-15T08:10:53.059055Z",
     "shell.execute_reply": "2023-05-15T08:10:53.058486Z"
    },
    "papermill": {
     "duration": 0.146759,
     "end_time": "2023-05-15T08:10:53.060290",
     "exception": false,
     "start_time": "2023-05-15T08:10:52.913531",
     "status": "completed"
    },
    "tags": []
   },
   "outputs": [],
   "source": [
    "dataset.write(f\"../../int_data/{sample_name}_qc.h5ad\")"
   ]
  },
  {
   "cell_type": "code",
   "execution_count": null,
   "id": "501b33a0-432d-415f-ae82-50723484b85d",
   "metadata": {
    "execution": {
     "iopub.execute_input": "2023-05-15T08:10:53.070305Z",
     "iopub.status.busy": "2023-05-15T08:10:53.070135Z",
     "iopub.status.idle": "2023-05-15T08:10:53.073087Z",
     "shell.execute_reply": "2023-05-15T08:10:53.072794Z"
    },
    "papermill": {
     "duration": 0.008844,
     "end_time": "2023-05-15T08:10:53.073906",
     "exception": false,
     "start_time": "2023-05-15T08:10:53.065062",
     "status": "completed"
    },
    "tags": []
   },
   "outputs": [],
   "source": [
    "dataset"
   ]
  }
 ],
 "metadata": {
  "kernelspec": {
   "display_name": "py_R",
   "language": "python",
   "name": "python_r"
  },
  "language_info": {
   "codemirror_mode": {
    "name": "ipython",
    "version": 3
   },
   "file_extension": ".py",
   "mimetype": "text/x-python",
   "name": "python",
   "nbconvert_exporter": "python",
   "pygments_lexer": "ipython3",
   "version": "3.10.9"
  },
  "papermill": {
   "default_parameters": {},
   "duration": 99.999515,
   "end_time": "2023-05-15T08:10:54.496075",
   "environment_variables": {},
   "exception": null,
   "input_path": "template.ipynb",
   "output_path": "SRR13329143.ipynb",
   "parameters": {
    "sample_name": "SRR13329143"
   },
   "start_time": "2023-05-15T08:09:14.496560",
   "version": "2.4.0"
  }
 },
 "nbformat": 4,
 "nbformat_minor": 5
}
