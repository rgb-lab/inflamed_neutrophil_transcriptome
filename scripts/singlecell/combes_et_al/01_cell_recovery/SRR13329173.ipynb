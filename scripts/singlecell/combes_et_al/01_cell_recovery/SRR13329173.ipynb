{
 "cells": [
  {
   "cell_type": "code",
   "execution_count": null,
   "id": "4c0f2fa8-5232-4f47-a7ec-6c9bbabe50e2",
   "metadata": {
    "execution": {
     "iopub.execute_input": "2023-05-15T07:50:23.615569Z",
     "iopub.status.busy": "2023-05-15T07:50:23.615430Z",
     "iopub.status.idle": "2023-05-15T07:50:23.619876Z",
     "shell.execute_reply": "2023-05-15T07:50:23.619556Z"
    },
    "papermill": {
     "duration": 0.008855,
     "end_time": "2023-05-15T07:50:23.620763",
     "exception": false,
     "start_time": "2023-05-15T07:50:23.611908",
     "status": "completed"
    },
    "tags": [
     "parameters"
    ]
   },
   "outputs": [],
   "source": [
    "sample_name = \"SRR13329143\""
   ]
  },
  {
   "cell_type": "code",
   "execution_count": null,
   "id": "0b2e91d9",
   "metadata": {
    "execution": {
     "iopub.execute_input": "2023-05-15T07:50:23.625895Z",
     "iopub.status.busy": "2023-05-15T07:50:23.625716Z",
     "iopub.status.idle": "2023-05-15T07:50:23.627684Z",
     "shell.execute_reply": "2023-05-15T07:50:23.627376Z"
    },
    "papermill": {
     "duration": 0.005371,
     "end_time": "2023-05-15T07:50:23.628457",
     "exception": false,
     "start_time": "2023-05-15T07:50:23.623086",
     "status": "completed"
    },
    "tags": [
     "injected-parameters"
    ]
   },
   "outputs": [],
   "source": [
    "# Parameters\n",
    "sample_name = \"SRR13329173\"\n"
   ]
  },
  {
   "cell_type": "code",
   "execution_count": null,
   "id": "f87ed95b-2b67-4a5a-8fe2-47359b1dd2a9",
   "metadata": {
    "execution": {
     "iopub.execute_input": "2023-05-15T07:50:23.633589Z",
     "iopub.status.busy": "2023-05-15T07:50:23.633439Z",
     "iopub.status.idle": "2023-05-15T07:50:23.635583Z",
     "shell.execute_reply": "2023-05-15T07:50:23.635285Z"
    },
    "papermill": {
     "duration": 0.005583,
     "end_time": "2023-05-15T07:50:23.636344",
     "exception": false,
     "start_time": "2023-05-15T07:50:23.630761",
     "status": "completed"
    },
    "tags": []
   },
   "outputs": [],
   "source": [
    "import warnings\n",
    "warnings.simplefilter(action='ignore', category=FutureWarning)\n",
    "warnings.simplefilter(action='ignore', category=UserWarning)"
   ]
  },
  {
   "cell_type": "code",
   "execution_count": null,
   "id": "85161f19-b2c5-490b-8cab-c2cf9653b304",
   "metadata": {
    "execution": {
     "iopub.execute_input": "2023-05-15T07:50:23.641469Z",
     "iopub.status.busy": "2023-05-15T07:50:23.641261Z",
     "iopub.status.idle": "2023-05-15T07:50:27.736170Z",
     "shell.execute_reply": "2023-05-15T07:50:27.735690Z"
    },
    "papermill": {
     "duration": 4.098741,
     "end_time": "2023-05-15T07:50:27.737392",
     "exception": false,
     "start_time": "2023-05-15T07:50:23.638651",
     "status": "completed"
    },
    "tags": []
   },
   "outputs": [],
   "source": [
    "import gc\n",
    "import scanpy as sc\n",
    "import muon as mu\n",
    "import seaborn as sns\n",
    "import os\n",
    "import pandas as pd\n",
    "from matplotlib import pyplot as plt\n",
    "\n",
    "os.environ['R_HOME'] = '/gpfs/bwfor/work/ws/hd_fu399-conda/conda/envs/python_R/lib/R/'\n",
    "import anndata2ri\n",
    "import logging\n",
    "\n",
    "import rpy2.rinterface_lib.callbacks as rcb\n",
    "import rpy2.robjects as ro\n",
    "\n",
    "rcb.logger.setLevel(logging.ERROR)\n",
    "ro.pandas2ri.activate()\n",
    "anndata2ri.activate()\n",
    "\n",
    "%load_ext rpy2.ipython"
   ]
  },
  {
   "cell_type": "code",
   "execution_count": null,
   "id": "fc4ade78-b728-4704-9db6-45fbaab62ba1",
   "metadata": {
    "execution": {
     "iopub.execute_input": "2023-05-15T07:50:27.743875Z",
     "iopub.status.busy": "2023-05-15T07:50:27.743613Z",
     "iopub.status.idle": "2023-05-15T07:50:37.560188Z",
     "shell.execute_reply": "2023-05-15T07:50:37.559637Z"
    },
    "papermill": {
     "duration": 9.820892,
     "end_time": "2023-05-15T07:50:37.561471",
     "exception": false,
     "start_time": "2023-05-15T07:50:27.740579",
     "status": "completed"
    },
    "tags": []
   },
   "outputs": [],
   "source": [
    "%%R\n",
    "library(SoupX)\n",
    "library(Seurat)\n",
    "library(scater)\n",
    "library(scDblFinder)\n",
    "library(BiocParallel)\n",
    "library(MuDataSeurat)\n",
    "library(DropletUtils)"
   ]
  },
  {
   "cell_type": "code",
   "execution_count": null,
   "id": "f7424d90-7690-4290-8651-1db3f9df3a35",
   "metadata": {
    "execution": {
     "iopub.execute_input": "2023-05-15T07:50:37.582400Z",
     "iopub.status.busy": "2023-05-15T07:50:37.582222Z",
     "iopub.status.idle": "2023-05-15T07:50:37.588268Z",
     "shell.execute_reply": "2023-05-15T07:50:37.587940Z"
    },
    "papermill": {
     "duration": 0.010116,
     "end_time": "2023-05-15T07:50:37.589101",
     "exception": false,
     "start_time": "2023-05-15T07:50:37.578985",
     "status": "completed"
    },
    "tags": []
   },
   "outputs": [],
   "source": [
    "metadata = pd.read_csv(\"../../combes_metadata.txt\")"
   ]
  },
  {
   "cell_type": "code",
   "execution_count": null,
   "id": "2574ecf1-bad4-4c33-8f3f-718a358727ab",
   "metadata": {
    "execution": {
     "iopub.execute_input": "2023-05-15T07:50:37.594782Z",
     "iopub.status.busy": "2023-05-15T07:50:37.594475Z",
     "iopub.status.idle": "2023-05-15T07:50:37.596571Z",
     "shell.execute_reply": "2023-05-15T07:50:37.596268Z"
    },
    "papermill": {
     "duration": 0.005772,
     "end_time": "2023-05-15T07:50:37.597353",
     "exception": false,
     "start_time": "2023-05-15T07:50:37.591581",
     "status": "completed"
    },
    "tags": []
   },
   "outputs": [],
   "source": [
    "raw_input = f\"/home/hd/hd_hd/hd_fu399/sds-hd/sd21k006/scRNAseq/revision_natcomm/combes_et_al/fetchngs/results/fastq/{sample_name}/{sample_name}/outs/raw_feature_bc_matrix.h5\""
   ]
  },
  {
   "cell_type": "code",
   "execution_count": null,
   "id": "e266d388-1802-435c-93a5-90067358739c",
   "metadata": {
    "execution": {
     "iopub.execute_input": "2023-05-15T07:50:37.602778Z",
     "iopub.status.busy": "2023-05-15T07:50:37.602648Z",
     "iopub.status.idle": "2023-05-15T07:50:38.064566Z",
     "shell.execute_reply": "2023-05-15T07:50:38.064113Z"
    },
    "papermill": {
     "duration": 0.465736,
     "end_time": "2023-05-15T07:50:38.065515",
     "exception": false,
     "start_time": "2023-05-15T07:50:37.599779",
     "status": "completed"
    },
    "tags": []
   },
   "outputs": [],
   "source": [
    "dataset = sc.read_10x_h5(raw_input)\n",
    "dataset.var_names_make_unique()\n",
    "dataset.obs_names_make_unique()\n",
    "\n",
    "dataset.layers[\"raw_counts\"] = dataset.X.copy()\n",
    "data_tod = dataset.layers[\"raw_counts\"].T.copy()\n",
    "\n",
    "dataset"
   ]
  },
  {
   "cell_type": "code",
   "execution_count": null,
   "id": "af9f5892-ed31-42a6-991b-4e096f582cef",
   "metadata": {
    "execution": {
     "iopub.execute_input": "2023-05-15T07:50:38.072093Z",
     "iopub.status.busy": "2023-05-15T07:50:38.071928Z",
     "iopub.status.idle": "2023-05-15T07:50:38.106201Z",
     "shell.execute_reply": "2023-05-15T07:50:38.105724Z"
    },
    "papermill": {
     "duration": 0.03855,
     "end_time": "2023-05-15T07:50:38.107309",
     "exception": false,
     "start_time": "2023-05-15T07:50:38.068759",
     "status": "completed"
    },
    "tags": []
   },
   "outputs": [],
   "source": [
    "sce = dataset.copy()"
   ]
  },
  {
   "cell_type": "code",
   "execution_count": null,
   "id": "d03f2caf-8e74-430e-b045-0ab80401d165",
   "metadata": {
    "execution": {
     "iopub.execute_input": "2023-05-15T07:50:38.113868Z",
     "iopub.status.busy": "2023-05-15T07:50:38.113710Z",
     "iopub.status.idle": "2023-05-15T07:51:22.647389Z",
     "shell.execute_reply": "2023-05-15T07:51:22.646784Z"
    },
    "papermill": {
     "duration": 44.538149,
     "end_time": "2023-05-15T07:51:22.648670",
     "exception": false,
     "start_time": "2023-05-15T07:50:38.110521",
     "status": "completed"
    },
    "tags": []
   },
   "outputs": [],
   "source": [
    "%%R -i sce -o empty_drop_output\n",
    "set.seed(187)\n",
    "empty_drop_output <- emptyDrops(assay(sce))"
   ]
  },
  {
   "cell_type": "code",
   "execution_count": null,
   "id": "2a34a54b-3ae2-44d6-8679-8769228c5b66",
   "metadata": {
    "execution": {
     "iopub.execute_input": "2023-05-15T07:51:22.657231Z",
     "iopub.status.busy": "2023-05-15T07:51:22.657070Z",
     "iopub.status.idle": "2023-05-15T07:51:22.681589Z",
     "shell.execute_reply": "2023-05-15T07:51:22.681267Z"
    },
    "papermill": {
     "duration": 0.028644,
     "end_time": "2023-05-15T07:51:22.682406",
     "exception": false,
     "start_time": "2023-05-15T07:51:22.653762",
     "status": "completed"
    },
    "tags": []
   },
   "outputs": [],
   "source": [
    "non_empty_barcodes = empty_drop_output[empty_drop_output[\"FDR\"] < 0.001].index\n",
    "dataset = dataset[dataset.obs.index.isin(non_empty_barcodes), :]\n",
    "dataset"
   ]
  },
  {
   "cell_type": "code",
   "execution_count": null,
   "id": "016a91e5-1bef-46fb-b91e-4fb9a6870c44",
   "metadata": {
    "execution": {
     "iopub.execute_input": "2023-05-15T07:51:22.688495Z",
     "iopub.status.busy": "2023-05-15T07:51:22.688357Z",
     "iopub.status.idle": "2023-05-15T07:51:27.204296Z",
     "shell.execute_reply": "2023-05-15T07:51:27.203793Z"
    },
    "papermill": {
     "duration": 4.520532,
     "end_time": "2023-05-15T07:51:27.205701",
     "exception": false,
     "start_time": "2023-05-15T07:51:22.685169",
     "status": "completed"
    },
    "tags": []
   },
   "outputs": [],
   "source": [
    "rna_assay = dataset.copy()\n",
    "sc.pp.normalize_per_cell(rna_assay)\n",
    "sc.pp.log1p(rna_assay)\n",
    "sc.pp.pca(rna_assay)\n",
    "sc.pp.neighbors(rna_assay)\n",
    "sc.tl.leiden(rna_assay, key_added=\"soupx_groups\")\n",
    "\n",
    "soupx_groups = rna_assay.obs[\"soupx_groups\"]\n",
    "\n",
    "del rna_assay\n",
    "\n",
    "genes = dataset.var_names\n",
    "cells = dataset.obs_names\n",
    "data = dataset.X.T.copy()"
   ]
  },
  {
   "cell_type": "code",
   "execution_count": null,
   "id": "9db4ea1f-1580-4f43-a3f0-86002397cd98",
   "metadata": {
    "execution": {
     "iopub.execute_input": "2023-05-15T07:51:27.214171Z",
     "iopub.status.busy": "2023-05-15T07:51:27.214003Z",
     "iopub.status.idle": "2023-05-15T07:51:39.408310Z",
     "shell.execute_reply": "2023-05-15T07:51:39.407816Z"
    },
    "papermill": {
     "duration": 12.198888,
     "end_time": "2023-05-15T07:51:39.409684",
     "exception": false,
     "start_time": "2023-05-15T07:51:27.210796",
     "status": "completed"
    },
    "tags": []
   },
   "outputs": [],
   "source": [
    "%%R -i data -i data_tod -i genes -i cells -i soupx_groups -o out \n",
    "set.seed(187)\n",
    "# specify row and column names of data\n",
    "rownames(data) = genes\n",
    "colnames(data) = cells\n",
    "# ensure correct sparse format for table of counts and table of droplets\n",
    "data <- as(data, \"sparseMatrix\")\n",
    "data_tod <- as(data_tod, \"sparseMatrix\")\n",
    "\n",
    "# Generate SoupChannel Object for SoupX \n",
    "sc = SoupChannel(data_tod, data, calcSoupProfile = FALSE)\n",
    "\n",
    "# Add extra meta data to the SoupChannel object\n",
    "soupProf = data.frame(row.names = rownames(data),\n",
    "                      est = rowSums(data)/sum(data),\n",
    "                      counts = rowSums(data))\n",
    "sc = setSoupProfile(sc, soupProf)\n",
    "# Set cluster information in SoupChannel\n",
    "sc = setClusters(sc, soupx_groups)\n",
    "\n",
    "# Estimate contamination fraction\n",
    "sc  = autoEstCont(sc, doPlot=FALSE, forceAccept = TRUE)\n",
    "# Infer corrected table of counts and rount to integer\n",
    "out = adjustCounts(sc, roundToInt = TRUE)"
   ]
  },
  {
   "cell_type": "code",
   "execution_count": null,
   "id": "32555d5e-5fa3-46dd-a4e0-ddc96ea265e2",
   "metadata": {
    "execution": {
     "iopub.execute_input": "2023-05-15T07:51:39.419169Z",
     "iopub.status.busy": "2023-05-15T07:51:39.418998Z",
     "iopub.status.idle": "2023-05-15T07:51:39.448352Z",
     "shell.execute_reply": "2023-05-15T07:51:39.447891Z"
    },
    "papermill": {
     "duration": 0.034085,
     "end_time": "2023-05-15T07:51:39.449673",
     "exception": false,
     "start_time": "2023-05-15T07:51:39.415588",
     "status": "completed"
    },
    "tags": []
   },
   "outputs": [],
   "source": [
    "dataset.layers[\"soupX_counts\"] = out.T\n",
    "dataset.X = dataset.layers[\"soupX_counts\"].copy()"
   ]
  },
  {
   "cell_type": "code",
   "execution_count": null,
   "id": "e27da7df-e094-4d2a-9109-5a363e012175",
   "metadata": {
    "execution": {
     "iopub.execute_input": "2023-05-15T07:51:39.457064Z",
     "iopub.status.busy": "2023-05-15T07:51:39.456901Z",
     "iopub.status.idle": "2023-05-15T07:51:39.459312Z",
     "shell.execute_reply": "2023-05-15T07:51:39.458974Z"
    },
    "papermill": {
     "duration": 0.007022,
     "end_time": "2023-05-15T07:51:39.460084",
     "exception": false,
     "start_time": "2023-05-15T07:51:39.453062",
     "status": "completed"
    },
    "tags": []
   },
   "outputs": [],
   "source": [
    "data_mat = dataset.X.T"
   ]
  },
  {
   "cell_type": "code",
   "execution_count": null,
   "id": "80a993b1-5ccb-4697-9187-1beb7ab8aff9",
   "metadata": {
    "execution": {
     "iopub.execute_input": "2023-05-15T07:51:39.466092Z",
     "iopub.status.busy": "2023-05-15T07:51:39.465952Z",
     "iopub.status.idle": "2023-05-15T07:52:01.723626Z",
     "shell.execute_reply": "2023-05-15T07:52:01.723131Z"
    },
    "papermill": {
     "duration": 22.262142,
     "end_time": "2023-05-15T07:52:01.724885",
     "exception": false,
     "start_time": "2023-05-15T07:51:39.462743",
     "status": "completed"
    },
    "tags": []
   },
   "outputs": [],
   "source": [
    "%%R -i data_mat -o droplet_class\n",
    "\n",
    "set.seed(187)\n",
    "sce = scDblFinder(\n",
    "    SingleCellExperiment(\n",
    "        list(counts=data_mat),\n",
    "    ) \n",
    ")\n",
    "droplet_class = sce$scDblFinder.class"
   ]
  },
  {
   "cell_type": "code",
   "execution_count": null,
   "id": "d4dd6e9d-fcf2-41fc-8457-c8e0a3cb2c71",
   "metadata": {
    "execution": {
     "iopub.execute_input": "2023-05-15T07:52:01.733503Z",
     "iopub.status.busy": "2023-05-15T07:52:01.733333Z",
     "iopub.status.idle": "2023-05-15T07:52:01.737683Z",
     "shell.execute_reply": "2023-05-15T07:52:01.737367Z"
    },
    "papermill": {
     "duration": 0.008403,
     "end_time": "2023-05-15T07:52:01.738473",
     "exception": false,
     "start_time": "2023-05-15T07:52:01.730070",
     "status": "completed"
    },
    "tags": []
   },
   "outputs": [],
   "source": [
    "dataset.obs[\"scDblFinder_class\"] = droplet_class\n",
    "dataset.obs.scDblFinder_class.value_counts()\n",
    "dataset"
   ]
  },
  {
   "cell_type": "code",
   "execution_count": null,
   "id": "28c95014-2d6c-477f-95cb-9f9f0507520c",
   "metadata": {
    "execution": {
     "iopub.execute_input": "2023-05-15T07:52:01.744602Z",
     "iopub.status.busy": "2023-05-15T07:52:01.744432Z",
     "iopub.status.idle": "2023-05-15T07:52:01.748813Z",
     "shell.execute_reply": "2023-05-15T07:52:01.748488Z"
    },
    "papermill": {
     "duration": 0.008344,
     "end_time": "2023-05-15T07:52:01.749595",
     "exception": false,
     "start_time": "2023-05-15T07:52:01.741251",
     "status": "completed"
    },
    "tags": []
   },
   "outputs": [],
   "source": [
    "dataset = dataset[dataset.obs[\"scDblFinder_class\"] == 1]"
   ]
  },
  {
   "cell_type": "code",
   "execution_count": null,
   "id": "3e22f9e0-bfcb-416c-a151-a9bca3bec3b9",
   "metadata": {
    "execution": {
     "iopub.execute_input": "2023-05-15T07:52:01.755845Z",
     "iopub.status.busy": "2023-05-15T07:52:01.755663Z",
     "iopub.status.idle": "2023-05-15T07:52:01.891323Z",
     "shell.execute_reply": "2023-05-15T07:52:01.890952Z"
    },
    "papermill": {
     "duration": 0.139845,
     "end_time": "2023-05-15T07:52:01.892261",
     "exception": false,
     "start_time": "2023-05-15T07:52:01.752416",
     "status": "completed"
    },
    "tags": []
   },
   "outputs": [],
   "source": [
    "# mitochondrial genes\n",
    "dataset.var[\"mt\"] = dataset.var_names.str.startswith(\"MT-\")\n",
    "# ribosomal genes\n",
    "dataset.var[\"ribo\"] = dataset.var_names.str.startswith((\"RPS\", \"RPL\"))\n",
    "# hemoglobin genes.\n",
    "dataset.var[\"hb\"] = dataset.var_names.str.contains((\"^HB[^(P)]\"))\n",
    "\n",
    "sc.pp.calculate_qc_metrics(dataset,\n",
    "                           qc_vars=['mt', 'ribo', 'hb'],\n",
    "                           percent_top=None,\n",
    "                           log1p=False,\n",
    "                           inplace=True)\n",
    "dataset"
   ]
  },
  {
   "cell_type": "code",
   "execution_count": null,
   "id": "34deee79-4043-428f-8575-aa57b45f6369",
   "metadata": {
    "execution": {
     "iopub.execute_input": "2023-05-15T07:52:01.899419Z",
     "iopub.status.busy": "2023-05-15T07:52:01.899251Z",
     "iopub.status.idle": "2023-05-15T07:52:02.360046Z",
     "shell.execute_reply": "2023-05-15T07:52:02.359662Z"
    },
    "papermill": {
     "duration": 0.465159,
     "end_time": "2023-05-15T07:52:02.360972",
     "exception": false,
     "start_time": "2023-05-15T07:52:01.895813",
     "status": "completed"
    },
    "tags": []
   },
   "outputs": [],
   "source": [
    "fig, ax = plt.subplots(ncols = 4, figsize = (16,4))\n",
    "axis = sc.pl.violin(dataset, \"n_genes_by_counts\", jitter = 0.4, ax = ax[0], show = False)\n",
    "axis.grid(False)\n",
    "axis.set_title(\"Unique Genes per cell\")\n",
    "axis.tick_params(axis = \"x\", bottom =False, labelbottom =False)\n",
    "axis.set_ylabel(\"# genes\")\n",
    "axis.axhline(y = 100, color = \"black\", label = \"cutoff\")\n",
    "axis.legend(fontsize = 14, loc = \"upper right\")\n",
    "\n",
    "axis = sc.pl.violin(dataset, \"pct_counts_mt\", jitter = 0.4, ax = ax[1], show = False)\n",
    "axis.grid(False)\n",
    "axis.set_title(\"Mitochondrial Fraction\")\n",
    "axis.tick_params(axis = \"x\", bottom =False, labelbottom =False)\n",
    "axis.set_ylabel(\"% mitochondrial genes\")\n",
    "axis.axhline(y = 10, color = \"black\", label = \"cutoff\")\n",
    "axis.legend(fontsize = 14, loc = \"upper right\")\n",
    "\n",
    "axis = sc.pl.violin(dataset, \"pct_counts_hb\", jitter = 0.4, ax = ax[2], show = False, size =2)\n",
    "axis.grid(False)\n",
    "axis.set_title(\"Hemoglobin Fraction\")\n",
    "axis.tick_params(axis = \"x\", bottom =False, labelbottom =False)\n",
    "axis.set_ylabel(\"% hemoglobin genes\")\n",
    "axis.axhline(y = 3, color = \"black\", label = \"cutoff\")\n",
    "axis.legend(fontsize = 14, loc = \"upper right\")\n",
    "#axis.set_ylim(0,5)\n",
    "\n",
    "axis = sc.pl.violin(dataset, \"pct_counts_ribo\", jitter = 0.4, ax = ax[3], show = False)\n",
    "axis.grid(False)\n",
    "axis.set_title(\"Ribosomal Fraction\")\n",
    "axis.tick_params(axis = \"x\", bottom =False, labelbottom =False)\n",
    "axis.set_ylabel(\"% ribosome genes\")\n",
    "\n",
    "plt.tight_layout()\n",
    "#plt.savefig(f\"{outputDir}08_gene_based_filtering.pdf\", dpi = 300)\n",
    "plt.show()\n",
    "\n"
   ]
  },
  {
   "cell_type": "code",
   "execution_count": null,
   "id": "d7ade754-843e-4840-8707-426613d8c0c5",
   "metadata": {
    "execution": {
     "iopub.execute_input": "2023-05-15T07:52:02.370790Z",
     "iopub.status.busy": "2023-05-15T07:52:02.370648Z",
     "iopub.status.idle": "2023-05-15T07:52:02.379151Z",
     "shell.execute_reply": "2023-05-15T07:52:02.378830Z"
    },
    "papermill": {
     "duration": 0.01389,
     "end_time": "2023-05-15T07:52:02.379903",
     "exception": false,
     "start_time": "2023-05-15T07:52:02.366013",
     "status": "completed"
    },
    "tags": []
   },
   "outputs": [],
   "source": [
    "dataset = dataset[dataset.obs.pct_counts_mt < 10, :]\n",
    "dataset = dataset[dataset.obs.n_genes_by_counts > 100, :]\n",
    "dataset = dataset[dataset.obs.pct_counts_hb < 3, :]\n",
    "dataset"
   ]
  },
  {
   "cell_type": "code",
   "execution_count": null,
   "id": "1941fa36-e865-4500-b586-f7a32d142c9b",
   "metadata": {
    "execution": {
     "iopub.execute_input": "2023-05-15T07:52:02.388943Z",
     "iopub.status.busy": "2023-05-15T07:52:02.388784Z",
     "iopub.status.idle": "2023-05-15T07:52:02.391669Z",
     "shell.execute_reply": "2023-05-15T07:52:02.391363Z"
    },
    "papermill": {
     "duration": 0.00827,
     "end_time": "2023-05-15T07:52:02.392411",
     "exception": false,
     "start_time": "2023-05-15T07:52:02.384141",
     "status": "completed"
    },
    "tags": []
   },
   "outputs": [],
   "source": [
    "metadata.columns"
   ]
  },
  {
   "cell_type": "code",
   "execution_count": null,
   "id": "2e0ff8c3-2aa9-4a01-9b88-5912a6734447",
   "metadata": {
    "execution": {
     "iopub.execute_input": "2023-05-15T07:52:02.401448Z",
     "iopub.status.busy": "2023-05-15T07:52:02.401236Z",
     "iopub.status.idle": "2023-05-15T07:52:02.440223Z",
     "shell.execute_reply": "2023-05-15T07:52:02.439745Z"
    },
    "papermill": {
     "duration": 0.044666,
     "end_time": "2023-05-15T07:52:02.441353",
     "exception": false,
     "start_time": "2023-05-15T07:52:02.396687",
     "status": "completed"
    },
    "tags": []
   },
   "outputs": [],
   "source": [
    "for col in metadata.columns:\n",
    "    dataset.obs[col] = metadata.loc[metadata[\"Run\"] == sample_name, col].to_list()[0]"
   ]
  },
  {
   "cell_type": "code",
   "execution_count": null,
   "id": "b84578d3-d63e-419c-a272-a0b8317d05ab",
   "metadata": {
    "execution": {
     "iopub.execute_input": "2023-05-15T07:52:02.451343Z",
     "iopub.status.busy": "2023-05-15T07:52:02.451151Z",
     "iopub.status.idle": "2023-05-15T07:52:02.722184Z",
     "shell.execute_reply": "2023-05-15T07:52:02.721714Z"
    },
    "papermill": {
     "duration": 0.277212,
     "end_time": "2023-05-15T07:52:02.723473",
     "exception": false,
     "start_time": "2023-05-15T07:52:02.446261",
     "status": "completed"
    },
    "tags": []
   },
   "outputs": [],
   "source": [
    "dataset.write(f\"../../int_data/{sample_name}_qc.h5ad\")"
   ]
  },
  {
   "cell_type": "code",
   "execution_count": null,
   "id": "501b33a0-432d-415f-ae82-50723484b85d",
   "metadata": {
    "execution": {
     "iopub.execute_input": "2023-05-15T07:52:02.733855Z",
     "iopub.status.busy": "2023-05-15T07:52:02.733661Z",
     "iopub.status.idle": "2023-05-15T07:52:02.736746Z",
     "shell.execute_reply": "2023-05-15T07:52:02.736415Z"
    },
    "papermill": {
     "duration": 0.008661,
     "end_time": "2023-05-15T07:52:02.737512",
     "exception": false,
     "start_time": "2023-05-15T07:52:02.728851",
     "status": "completed"
    },
    "tags": []
   },
   "outputs": [],
   "source": [
    "dataset"
   ]
  }
 ],
 "metadata": {
  "kernelspec": {
   "display_name": "py_R",
   "language": "python",
   "name": "python_r"
  },
  "language_info": {
   "codemirror_mode": {
    "name": "ipython",
    "version": 3
   },
   "file_extension": ".py",
   "mimetype": "text/x-python",
   "name": "python",
   "nbconvert_exporter": "python",
   "pygments_lexer": "ipython3",
   "version": "3.10.9"
  },
  "papermill": {
   "default_parameters": {},
   "duration": 101.244518,
   "end_time": "2023-05-15T07:52:04.059272",
   "environment_variables": {},
   "exception": null,
   "input_path": "template.ipynb",
   "output_path": "SRR13329173.ipynb",
   "parameters": {
    "sample_name": "SRR13329173"
   },
   "start_time": "2023-05-15T07:50:22.814754",
   "version": "2.4.0"
  }
 },
 "nbformat": 4,
 "nbformat_minor": 5
}
