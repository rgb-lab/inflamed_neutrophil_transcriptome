{
 "cells": [
  {
   "cell_type": "code",
   "execution_count": null,
   "id": "4c0f2fa8-5232-4f47-a7ec-6c9bbabe50e2",
   "metadata": {
    "execution": {
     "iopub.execute_input": "2023-05-15T09:26:10.516524Z",
     "iopub.status.busy": "2023-05-15T09:26:10.516357Z",
     "iopub.status.idle": "2023-05-15T09:26:10.520687Z",
     "shell.execute_reply": "2023-05-15T09:26:10.520373Z"
    },
    "papermill": {
     "duration": 0.008798,
     "end_time": "2023-05-15T09:26:10.521648",
     "exception": false,
     "start_time": "2023-05-15T09:26:10.512850",
     "status": "completed"
    },
    "tags": [
     "parameters"
    ]
   },
   "outputs": [],
   "source": [
    "sample_name = \"SRR13329143\""
   ]
  },
  {
   "cell_type": "code",
   "execution_count": null,
   "id": "3d302cec",
   "metadata": {
    "execution": {
     "iopub.execute_input": "2023-05-15T09:26:10.526882Z",
     "iopub.status.busy": "2023-05-15T09:26:10.526758Z",
     "iopub.status.idle": "2023-05-15T09:26:10.528709Z",
     "shell.execute_reply": "2023-05-15T09:26:10.528389Z"
    },
    "papermill": {
     "duration": 0.005401,
     "end_time": "2023-05-15T09:26:10.529456",
     "exception": false,
     "start_time": "2023-05-15T09:26:10.524055",
     "status": "completed"
    },
    "tags": [
     "injected-parameters"
    ]
   },
   "outputs": [],
   "source": [
    "# Parameters\n",
    "sample_name = \"SRR13329108\"\n"
   ]
  },
  {
   "cell_type": "code",
   "execution_count": null,
   "id": "f87ed95b-2b67-4a5a-8fe2-47359b1dd2a9",
   "metadata": {
    "execution": {
     "iopub.execute_input": "2023-05-15T09:26:10.534526Z",
     "iopub.status.busy": "2023-05-15T09:26:10.534367Z",
     "iopub.status.idle": "2023-05-15T09:26:10.536668Z",
     "shell.execute_reply": "2023-05-15T09:26:10.536351Z"
    },
    "papermill": {
     "duration": 0.005677,
     "end_time": "2023-05-15T09:26:10.537408",
     "exception": false,
     "start_time": "2023-05-15T09:26:10.531731",
     "status": "completed"
    },
    "tags": []
   },
   "outputs": [],
   "source": [
    "import warnings\n",
    "warnings.simplefilter(action='ignore', category=FutureWarning)\n",
    "warnings.simplefilter(action='ignore', category=UserWarning)"
   ]
  },
  {
   "cell_type": "code",
   "execution_count": null,
   "id": "85161f19-b2c5-490b-8cab-c2cf9653b304",
   "metadata": {
    "execution": {
     "iopub.execute_input": "2023-05-15T09:26:10.542600Z",
     "iopub.status.busy": "2023-05-15T09:26:10.542471Z",
     "iopub.status.idle": "2023-05-15T09:26:15.291122Z",
     "shell.execute_reply": "2023-05-15T09:26:15.290647Z"
    },
    "papermill": {
     "duration": 4.752505,
     "end_time": "2023-05-15T09:26:15.292332",
     "exception": false,
     "start_time": "2023-05-15T09:26:10.539827",
     "status": "completed"
    },
    "tags": []
   },
   "outputs": [],
   "source": [
    "import gc\n",
    "import scanpy as sc\n",
    "import muon as mu\n",
    "import seaborn as sns\n",
    "import os\n",
    "import pandas as pd\n",
    "from matplotlib import pyplot as plt\n",
    "\n",
    "os.environ['R_HOME'] = '/gpfs/bwfor/work/ws/hd_fu399-conda/conda/envs/python_R/lib/R/'\n",
    "import anndata2ri\n",
    "import logging\n",
    "\n",
    "import rpy2.rinterface_lib.callbacks as rcb\n",
    "import rpy2.robjects as ro\n",
    "\n",
    "rcb.logger.setLevel(logging.ERROR)\n",
    "ro.pandas2ri.activate()\n",
    "anndata2ri.activate()\n",
    "\n",
    "%load_ext rpy2.ipython"
   ]
  },
  {
   "cell_type": "code",
   "execution_count": null,
   "id": "fc4ade78-b728-4704-9db6-45fbaab62ba1",
   "metadata": {
    "execution": {
     "iopub.execute_input": "2023-05-15T09:26:15.298352Z",
     "iopub.status.busy": "2023-05-15T09:26:15.298089Z",
     "iopub.status.idle": "2023-05-15T09:26:26.816578Z",
     "shell.execute_reply": "2023-05-15T09:26:26.816007Z"
    },
    "papermill": {
     "duration": 11.522811,
     "end_time": "2023-05-15T09:26:26.817942",
     "exception": false,
     "start_time": "2023-05-15T09:26:15.295131",
     "status": "completed"
    },
    "tags": []
   },
   "outputs": [],
   "source": [
    "%%R\n",
    "library(SoupX)\n",
    "library(Seurat)\n",
    "library(scater)\n",
    "library(scDblFinder)\n",
    "library(BiocParallel)\n",
    "library(MuDataSeurat)\n",
    "library(DropletUtils)"
   ]
  },
  {
   "cell_type": "code",
   "execution_count": null,
   "id": "f7424d90-7690-4290-8651-1db3f9df3a35",
   "metadata": {
    "execution": {
     "iopub.execute_input": "2023-05-15T09:26:26.825939Z",
     "iopub.status.busy": "2023-05-15T09:26:26.825777Z",
     "iopub.status.idle": "2023-05-15T09:26:26.832000Z",
     "shell.execute_reply": "2023-05-15T09:26:26.831651Z"
    },
    "papermill": {
     "duration": 0.010083,
     "end_time": "2023-05-15T09:26:26.832801",
     "exception": false,
     "start_time": "2023-05-15T09:26:26.822718",
     "status": "completed"
    },
    "tags": []
   },
   "outputs": [],
   "source": [
    "metadata = pd.read_csv(\"../../combes_metadata.txt\")"
   ]
  },
  {
   "cell_type": "code",
   "execution_count": null,
   "id": "2574ecf1-bad4-4c33-8f3f-718a358727ab",
   "metadata": {
    "execution": {
     "iopub.execute_input": "2023-05-15T09:26:26.838377Z",
     "iopub.status.busy": "2023-05-15T09:26:26.838142Z",
     "iopub.status.idle": "2023-05-15T09:26:26.855297Z",
     "shell.execute_reply": "2023-05-15T09:26:26.854980Z"
    },
    "papermill": {
     "duration": 0.020857,
     "end_time": "2023-05-15T09:26:26.856108",
     "exception": false,
     "start_time": "2023-05-15T09:26:26.835251",
     "status": "completed"
    },
    "tags": []
   },
   "outputs": [],
   "source": [
    "raw_input = f\"/home/hd/hd_hd/hd_fu399/sds-hd/sd21k006/scRNAseq/revision_natcomm/combes_et_al/fetchngs/results/fastq/{sample_name}/{sample_name}/outs/raw_feature_bc_matrix.h5\""
   ]
  },
  {
   "cell_type": "code",
   "execution_count": null,
   "id": "e266d388-1802-435c-93a5-90067358739c",
   "metadata": {
    "execution": {
     "iopub.execute_input": "2023-05-15T09:26:26.861678Z",
     "iopub.status.busy": "2023-05-15T09:26:26.861511Z",
     "iopub.status.idle": "2023-05-15T09:26:27.492799Z",
     "shell.execute_reply": "2023-05-15T09:26:27.492341Z"
    },
    "papermill": {
     "duration": 0.635153,
     "end_time": "2023-05-15T09:26:27.493729",
     "exception": false,
     "start_time": "2023-05-15T09:26:26.858576",
     "status": "completed"
    },
    "tags": []
   },
   "outputs": [],
   "source": [
    "dataset = sc.read_10x_h5(raw_input)\n",
    "dataset.var_names_make_unique()\n",
    "dataset.obs_names_make_unique()\n",
    "\n",
    "dataset.layers[\"raw_counts\"] = dataset.X.copy()\n",
    "data_tod = dataset.layers[\"raw_counts\"].T.copy()\n",
    "\n",
    "dataset"
   ]
  },
  {
   "cell_type": "code",
   "execution_count": null,
   "id": "af9f5892-ed31-42a6-991b-4e096f582cef",
   "metadata": {
    "execution": {
     "iopub.execute_input": "2023-05-15T09:26:27.499990Z",
     "iopub.status.busy": "2023-05-15T09:26:27.499855Z",
     "iopub.status.idle": "2023-05-15T09:26:27.559607Z",
     "shell.execute_reply": "2023-05-15T09:26:27.559121Z"
    },
    "papermill": {
     "duration": 0.064019,
     "end_time": "2023-05-15T09:26:27.560789",
     "exception": false,
     "start_time": "2023-05-15T09:26:27.496770",
     "status": "completed"
    },
    "tags": []
   },
   "outputs": [],
   "source": [
    "sce = dataset.copy()"
   ]
  },
  {
   "cell_type": "code",
   "execution_count": null,
   "id": "d03f2caf-8e74-430e-b045-0ab80401d165",
   "metadata": {
    "execution": {
     "iopub.execute_input": "2023-05-15T09:26:27.566931Z",
     "iopub.status.busy": "2023-05-15T09:26:27.566794Z",
     "iopub.status.idle": "2023-05-15T09:27:46.252509Z",
     "shell.execute_reply": "2023-05-15T09:27:46.251902Z"
    },
    "papermill": {
     "duration": 78.690064,
     "end_time": "2023-05-15T09:27:46.253818",
     "exception": false,
     "start_time": "2023-05-15T09:26:27.563754",
     "status": "completed"
    },
    "tags": []
   },
   "outputs": [],
   "source": [
    "%%R -i sce -o empty_drop_output\n",
    "set.seed(187)\n",
    "empty_drop_output <- emptyDrops(assay(sce))"
   ]
  },
  {
   "cell_type": "code",
   "execution_count": null,
   "id": "2a34a54b-3ae2-44d6-8679-8769228c5b66",
   "metadata": {
    "execution": {
     "iopub.execute_input": "2023-05-15T09:27:46.262211Z",
     "iopub.status.busy": "2023-05-15T09:27:46.262054Z",
     "iopub.status.idle": "2023-05-15T09:27:46.300767Z",
     "shell.execute_reply": "2023-05-15T09:27:46.300383Z"
    },
    "papermill": {
     "duration": 0.042897,
     "end_time": "2023-05-15T09:27:46.301628",
     "exception": false,
     "start_time": "2023-05-15T09:27:46.258731",
     "status": "completed"
    },
    "tags": []
   },
   "outputs": [],
   "source": [
    "non_empty_barcodes = empty_drop_output[empty_drop_output[\"FDR\"] < 0.001].index\n",
    "dataset = dataset[dataset.obs.index.isin(non_empty_barcodes), :]\n",
    "dataset"
   ]
  },
  {
   "cell_type": "code",
   "execution_count": null,
   "id": "016a91e5-1bef-46fb-b91e-4fb9a6870c44",
   "metadata": {
    "execution": {
     "iopub.execute_input": "2023-05-15T09:27:46.307778Z",
     "iopub.status.busy": "2023-05-15T09:27:46.307587Z",
     "iopub.status.idle": "2023-05-15T09:29:10.876759Z",
     "shell.execute_reply": "2023-05-15T09:29:10.876127Z"
    },
    "papermill": {
     "duration": 84.573817,
     "end_time": "2023-05-15T09:29:10.878126",
     "exception": false,
     "start_time": "2023-05-15T09:27:46.304309",
     "status": "completed"
    },
    "tags": []
   },
   "outputs": [],
   "source": [
    "rna_assay = dataset.copy()\n",
    "sc.pp.normalize_per_cell(rna_assay)\n",
    "sc.pp.log1p(rna_assay)\n",
    "sc.pp.pca(rna_assay)\n",
    "sc.pp.neighbors(rna_assay)\n",
    "sc.tl.leiden(rna_assay, key_added=\"soupx_groups\")\n",
    "\n",
    "soupx_groups = rna_assay.obs[\"soupx_groups\"]\n",
    "\n",
    "del rna_assay\n",
    "\n",
    "genes = dataset.var_names\n",
    "cells = dataset.obs_names\n",
    "data = dataset.X.T.copy()"
   ]
  },
  {
   "cell_type": "code",
   "execution_count": null,
   "id": "9db4ea1f-1580-4f43-a3f0-86002397cd98",
   "metadata": {
    "execution": {
     "iopub.execute_input": "2023-05-15T09:29:10.900811Z",
     "iopub.status.busy": "2023-05-15T09:29:10.900625Z",
     "iopub.status.idle": "2023-05-15T09:29:32.840364Z",
     "shell.execute_reply": "2023-05-15T09:29:32.839752Z"
    },
    "papermill": {
     "duration": 21.94469,
     "end_time": "2023-05-15T09:29:32.841668",
     "exception": false,
     "start_time": "2023-05-15T09:29:10.896978",
     "status": "completed"
    },
    "tags": []
   },
   "outputs": [],
   "source": [
    "%%R -i data -i data_tod -i genes -i cells -i soupx_groups -o out \n",
    "set.seed(187)\n",
    "# specify row and column names of data\n",
    "rownames(data) = genes\n",
    "colnames(data) = cells\n",
    "# ensure correct sparse format for table of counts and table of droplets\n",
    "data <- as(data, \"sparseMatrix\")\n",
    "data_tod <- as(data_tod, \"sparseMatrix\")\n",
    "\n",
    "# Generate SoupChannel Object for SoupX \n",
    "sc = SoupChannel(data_tod, data, calcSoupProfile = FALSE)\n",
    "\n",
    "# Add extra meta data to the SoupChannel object\n",
    "soupProf = data.frame(row.names = rownames(data),\n",
    "                      est = rowSums(data)/sum(data),\n",
    "                      counts = rowSums(data))\n",
    "sc = setSoupProfile(sc, soupProf)\n",
    "# Set cluster information in SoupChannel\n",
    "sc = setClusters(sc, soupx_groups)\n",
    "\n",
    "# Estimate contamination fraction\n",
    "sc  = autoEstCont(sc, doPlot=FALSE, forceAccept = TRUE)\n",
    "# Infer corrected table of counts and rount to integer\n",
    "out = adjustCounts(sc, roundToInt = TRUE)"
   ]
  },
  {
   "cell_type": "code",
   "execution_count": null,
   "id": "32555d5e-5fa3-46dd-a4e0-ddc96ea265e2",
   "metadata": {
    "execution": {
     "iopub.execute_input": "2023-05-15T09:29:32.850323Z",
     "iopub.status.busy": "2023-05-15T09:29:32.850147Z",
     "iopub.status.idle": "2023-05-15T09:29:32.907539Z",
     "shell.execute_reply": "2023-05-15T09:29:32.907048Z"
    },
    "papermill": {
     "duration": 0.062151,
     "end_time": "2023-05-15T09:29:32.908765",
     "exception": false,
     "start_time": "2023-05-15T09:29:32.846614",
     "status": "completed"
    },
    "tags": []
   },
   "outputs": [],
   "source": [
    "dataset.layers[\"soupX_counts\"] = out.T\n",
    "dataset.X = dataset.layers[\"soupX_counts\"].copy()"
   ]
  },
  {
   "cell_type": "code",
   "execution_count": null,
   "id": "e27da7df-e094-4d2a-9109-5a363e012175",
   "metadata": {
    "execution": {
     "iopub.execute_input": "2023-05-15T09:29:32.915347Z",
     "iopub.status.busy": "2023-05-15T09:29:32.915144Z",
     "iopub.status.idle": "2023-05-15T09:29:32.917527Z",
     "shell.execute_reply": "2023-05-15T09:29:32.917186Z"
    },
    "papermill": {
     "duration": 0.00646,
     "end_time": "2023-05-15T09:29:32.918289",
     "exception": false,
     "start_time": "2023-05-15T09:29:32.911829",
     "status": "completed"
    },
    "tags": []
   },
   "outputs": [],
   "source": [
    "data_mat = dataset.X.T"
   ]
  },
  {
   "cell_type": "code",
   "execution_count": null,
   "id": "80a993b1-5ccb-4697-9187-1beb7ab8aff9",
   "metadata": {
    "execution": {
     "iopub.execute_input": "2023-05-15T09:29:32.924551Z",
     "iopub.status.busy": "2023-05-15T09:29:32.924374Z",
     "iopub.status.idle": "2023-05-15T09:30:09.213031Z",
     "shell.execute_reply": "2023-05-15T09:30:09.212418Z"
    },
    "papermill": {
     "duration": 36.293222,
     "end_time": "2023-05-15T09:30:09.214340",
     "exception": false,
     "start_time": "2023-05-15T09:29:32.921118",
     "status": "completed"
    },
    "tags": []
   },
   "outputs": [],
   "source": [
    "%%R -i data_mat -o droplet_class\n",
    "\n",
    "set.seed(187)\n",
    "sce = scDblFinder(\n",
    "    SingleCellExperiment(\n",
    "        list(counts=data_mat),\n",
    "    ) \n",
    ")\n",
    "droplet_class = sce$scDblFinder.class"
   ]
  },
  {
   "cell_type": "code",
   "execution_count": null,
   "id": "d4dd6e9d-fcf2-41fc-8457-c8e0a3cb2c71",
   "metadata": {
    "execution": {
     "iopub.execute_input": "2023-05-15T09:30:09.223403Z",
     "iopub.status.busy": "2023-05-15T09:30:09.223191Z",
     "iopub.status.idle": "2023-05-15T09:30:09.228807Z",
     "shell.execute_reply": "2023-05-15T09:30:09.228413Z"
    },
    "papermill": {
     "duration": 0.010088,
     "end_time": "2023-05-15T09:30:09.229588",
     "exception": false,
     "start_time": "2023-05-15T09:30:09.219500",
     "status": "completed"
    },
    "tags": []
   },
   "outputs": [],
   "source": [
    "dataset.obs[\"scDblFinder_class\"] = droplet_class\n",
    "dataset.obs.scDblFinder_class.value_counts()\n",
    "dataset"
   ]
  },
  {
   "cell_type": "code",
   "execution_count": null,
   "id": "28c95014-2d6c-477f-95cb-9f9f0507520c",
   "metadata": {
    "execution": {
     "iopub.execute_input": "2023-05-15T09:30:09.236015Z",
     "iopub.status.busy": "2023-05-15T09:30:09.235828Z",
     "iopub.status.idle": "2023-05-15T09:30:09.253978Z",
     "shell.execute_reply": "2023-05-15T09:30:09.253549Z"
    },
    "papermill": {
     "duration": 0.022347,
     "end_time": "2023-05-15T09:30:09.254781",
     "exception": false,
     "start_time": "2023-05-15T09:30:09.232434",
     "status": "completed"
    },
    "tags": []
   },
   "outputs": [],
   "source": [
    "dataset = dataset[dataset.obs[\"scDblFinder_class\"] == 1]"
   ]
  },
  {
   "cell_type": "code",
   "execution_count": null,
   "id": "3e22f9e0-bfcb-416c-a151-a9bca3bec3b9",
   "metadata": {
    "execution": {
     "iopub.execute_input": "2023-05-15T09:30:09.261279Z",
     "iopub.status.busy": "2023-05-15T09:30:09.261104Z",
     "iopub.status.idle": "2023-05-15T09:30:09.469884Z",
     "shell.execute_reply": "2023-05-15T09:30:09.469441Z"
    },
    "papermill": {
     "duration": 0.213061,
     "end_time": "2023-05-15T09:30:09.470756",
     "exception": false,
     "start_time": "2023-05-15T09:30:09.257695",
     "status": "completed"
    },
    "tags": []
   },
   "outputs": [],
   "source": [
    "# mitochondrial genes\n",
    "dataset.var[\"mt\"] = dataset.var_names.str.startswith(\"MT-\")\n",
    "# ribosomal genes\n",
    "dataset.var[\"ribo\"] = dataset.var_names.str.startswith((\"RPS\", \"RPL\"))\n",
    "# hemoglobin genes.\n",
    "dataset.var[\"hb\"] = dataset.var_names.str.contains((\"^HB[^(P)]\"))\n",
    "\n",
    "sc.pp.calculate_qc_metrics(dataset,\n",
    "                           qc_vars=['mt', 'ribo', 'hb'],\n",
    "                           percent_top=None,\n",
    "                           log1p=False,\n",
    "                           inplace=True)\n",
    "dataset"
   ]
  },
  {
   "cell_type": "code",
   "execution_count": null,
   "id": "34deee79-4043-428f-8575-aa57b45f6369",
   "metadata": {
    "execution": {
     "iopub.execute_input": "2023-05-15T09:30:09.478085Z",
     "iopub.status.busy": "2023-05-15T09:30:09.477903Z",
     "iopub.status.idle": "2023-05-15T09:30:10.044152Z",
     "shell.execute_reply": "2023-05-15T09:30:10.043738Z"
    },
    "papermill": {
     "duration": 0.570612,
     "end_time": "2023-05-15T09:30:10.045019",
     "exception": false,
     "start_time": "2023-05-15T09:30:09.474407",
     "status": "completed"
    },
    "tags": []
   },
   "outputs": [],
   "source": [
    "fig, ax = plt.subplots(ncols = 4, figsize = (16,4))\n",
    "axis = sc.pl.violin(dataset, \"n_genes_by_counts\", jitter = 0.4, ax = ax[0], show = False)\n",
    "axis.grid(False)\n",
    "axis.set_title(\"Unique Genes per cell\")\n",
    "axis.tick_params(axis = \"x\", bottom =False, labelbottom =False)\n",
    "axis.set_ylabel(\"# genes\")\n",
    "axis.axhline(y = 100, color = \"black\", label = \"cutoff\")\n",
    "axis.legend(fontsize = 14, loc = \"upper right\")\n",
    "\n",
    "axis = sc.pl.violin(dataset, \"pct_counts_mt\", jitter = 0.4, ax = ax[1], show = False)\n",
    "axis.grid(False)\n",
    "axis.set_title(\"Mitochondrial Fraction\")\n",
    "axis.tick_params(axis = \"x\", bottom =False, labelbottom =False)\n",
    "axis.set_ylabel(\"% mitochondrial genes\")\n",
    "axis.axhline(y = 10, color = \"black\", label = \"cutoff\")\n",
    "axis.legend(fontsize = 14, loc = \"upper right\")\n",
    "\n",
    "axis = sc.pl.violin(dataset, \"pct_counts_hb\", jitter = 0.4, ax = ax[2], show = False, size =2)\n",
    "axis.grid(False)\n",
    "axis.set_title(\"Hemoglobin Fraction\")\n",
    "axis.tick_params(axis = \"x\", bottom =False, labelbottom =False)\n",
    "axis.set_ylabel(\"% hemoglobin genes\")\n",
    "axis.axhline(y = 3, color = \"black\", label = \"cutoff\")\n",
    "axis.legend(fontsize = 14, loc = \"upper right\")\n",
    "#axis.set_ylim(0,5)\n",
    "\n",
    "axis = sc.pl.violin(dataset, \"pct_counts_ribo\", jitter = 0.4, ax = ax[3], show = False)\n",
    "axis.grid(False)\n",
    "axis.set_title(\"Ribosomal Fraction\")\n",
    "axis.tick_params(axis = \"x\", bottom =False, labelbottom =False)\n",
    "axis.set_ylabel(\"% ribosome genes\")\n",
    "\n",
    "plt.tight_layout()\n",
    "#plt.savefig(f\"{outputDir}08_gene_based_filtering.pdf\", dpi = 300)\n",
    "plt.show()\n",
    "\n"
   ]
  },
  {
   "cell_type": "code",
   "execution_count": null,
   "id": "d7ade754-843e-4840-8707-426613d8c0c5",
   "metadata": {
    "execution": {
     "iopub.execute_input": "2023-05-15T09:30:10.054068Z",
     "iopub.status.busy": "2023-05-15T09:30:10.053914Z",
     "iopub.status.idle": "2023-05-15T09:30:10.066940Z",
     "shell.execute_reply": "2023-05-15T09:30:10.066599Z"
    },
    "papermill": {
     "duration": 0.018196,
     "end_time": "2023-05-15T09:30:10.067724",
     "exception": false,
     "start_time": "2023-05-15T09:30:10.049528",
     "status": "completed"
    },
    "tags": []
   },
   "outputs": [],
   "source": [
    "dataset = dataset[dataset.obs.pct_counts_mt < 10, :]\n",
    "dataset = dataset[dataset.obs.n_genes_by_counts > 100, :]\n",
    "dataset = dataset[dataset.obs.pct_counts_hb < 3, :]\n",
    "dataset"
   ]
  },
  {
   "cell_type": "code",
   "execution_count": null,
   "id": "1941fa36-e865-4500-b586-f7a32d142c9b",
   "metadata": {
    "execution": {
     "iopub.execute_input": "2023-05-15T09:30:10.076076Z",
     "iopub.status.busy": "2023-05-15T09:30:10.075929Z",
     "iopub.status.idle": "2023-05-15T09:30:10.079017Z",
     "shell.execute_reply": "2023-05-15T09:30:10.078692Z"
    },
    "papermill": {
     "duration": 0.008159,
     "end_time": "2023-05-15T09:30:10.079794",
     "exception": false,
     "start_time": "2023-05-15T09:30:10.071635",
     "status": "completed"
    },
    "tags": []
   },
   "outputs": [],
   "source": [
    "metadata.columns"
   ]
  },
  {
   "cell_type": "code",
   "execution_count": null,
   "id": "2e0ff8c3-2aa9-4a01-9b88-5912a6734447",
   "metadata": {
    "execution": {
     "iopub.execute_input": "2023-05-15T09:30:10.088355Z",
     "iopub.status.busy": "2023-05-15T09:30:10.088194Z",
     "iopub.status.idle": "2023-05-15T09:30:10.147767Z",
     "shell.execute_reply": "2023-05-15T09:30:10.147326Z"
    },
    "papermill": {
     "duration": 0.065152,
     "end_time": "2023-05-15T09:30:10.148931",
     "exception": false,
     "start_time": "2023-05-15T09:30:10.083779",
     "status": "completed"
    },
    "tags": []
   },
   "outputs": [],
   "source": [
    "for col in metadata.columns:\n",
    "    dataset.obs[col] = metadata.loc[metadata[\"Run\"] == sample_name, col].to_list()[0]"
   ]
  },
  {
   "cell_type": "code",
   "execution_count": null,
   "id": "b84578d3-d63e-419c-a272-a0b8317d05ab",
   "metadata": {
    "execution": {
     "iopub.execute_input": "2023-05-15T09:30:10.158485Z",
     "iopub.status.busy": "2023-05-15T09:30:10.158321Z",
     "iopub.status.idle": "2023-05-15T09:30:10.741614Z",
     "shell.execute_reply": "2023-05-15T09:30:10.741177Z"
    },
    "papermill": {
     "duration": 0.589289,
     "end_time": "2023-05-15T09:30:10.742990",
     "exception": false,
     "start_time": "2023-05-15T09:30:10.153701",
     "status": "completed"
    },
    "tags": []
   },
   "outputs": [],
   "source": [
    "dataset.write(f\"../../int_data/{sample_name}_qc.h5ad\")"
   ]
  },
  {
   "cell_type": "code",
   "execution_count": null,
   "id": "501b33a0-432d-415f-ae82-50723484b85d",
   "metadata": {
    "execution": {
     "iopub.execute_input": "2023-05-15T09:30:10.752260Z",
     "iopub.status.busy": "2023-05-15T09:30:10.752062Z",
     "iopub.status.idle": "2023-05-15T09:30:10.755289Z",
     "shell.execute_reply": "2023-05-15T09:30:10.754943Z"
    },
    "papermill": {
     "duration": 0.008585,
     "end_time": "2023-05-15T09:30:10.756091",
     "exception": false,
     "start_time": "2023-05-15T09:30:10.747506",
     "status": "completed"
    },
    "tags": []
   },
   "outputs": [],
   "source": [
    "dataset"
   ]
  }
 ],
 "metadata": {
  "kernelspec": {
   "display_name": "Python 3 (ipykernel)",
   "language": "python",
   "name": "python3"
  },
  "language_info": {
   "codemirror_mode": {
    "name": "ipython",
    "version": 3
   },
   "file_extension": ".py",
   "mimetype": "text/x-python",
   "name": "python",
   "nbconvert_exporter": "python",
   "pygments_lexer": "ipython3",
   "version": "3.10.12"
  },
  "papermill": {
   "default_parameters": {},
   "duration": 243.362748,
   "end_time": "2023-05-15T09:30:12.578913",
   "environment_variables": {},
   "exception": null,
   "input_path": "template.ipynb",
   "output_path": "SRR13329108.ipynb",
   "parameters": {
    "sample_name": "SRR13329108"
   },
   "start_time": "2023-05-15T09:26:09.216165",
   "version": "2.4.0"
  }
 },
 "nbformat": 4,
 "nbformat_minor": 5
}
