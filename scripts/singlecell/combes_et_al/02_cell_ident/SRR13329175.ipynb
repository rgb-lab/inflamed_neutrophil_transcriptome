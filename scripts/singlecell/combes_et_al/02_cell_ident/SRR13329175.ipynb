{
 "cells": [
  {
   "cell_type": "code",
   "execution_count": null,
   "id": "78a6243e-1906-4e3b-ae98-4b5bd21bd37c",
   "metadata": {
    "execution": {
     "iopub.execute_input": "2023-05-15T09:47:50.354975Z",
     "iopub.status.busy": "2023-05-15T09:47:50.354830Z",
     "iopub.status.idle": "2023-05-15T09:47:50.359295Z",
     "shell.execute_reply": "2023-05-15T09:47:50.358981Z"
    },
    "papermill": {
     "duration": 0.007883,
     "end_time": "2023-05-15T09:47:50.360215",
     "exception": false,
     "start_time": "2023-05-15T09:47:50.352332",
     "status": "completed"
    },
    "tags": [
     "parameters"
    ]
   },
   "outputs": [],
   "source": [
    "sample_name = \"SRR13329143\""
   ]
  },
  {
   "cell_type": "code",
   "execution_count": null,
   "id": "acdcd6f2",
   "metadata": {
    "execution": {
     "iopub.execute_input": "2023-05-15T09:47:50.363923Z",
     "iopub.status.busy": "2023-05-15T09:47:50.363635Z",
     "iopub.status.idle": "2023-05-15T09:47:50.365610Z",
     "shell.execute_reply": "2023-05-15T09:47:50.365311Z"
    },
    "papermill": {
     "duration": 0.004589,
     "end_time": "2023-05-15T09:47:50.366395",
     "exception": false,
     "start_time": "2023-05-15T09:47:50.361806",
     "status": "completed"
    },
    "tags": [
     "injected-parameters"
    ]
   },
   "outputs": [],
   "source": [
    "# Parameters\n",
    "sample_name = \"SRR13329175\"\n"
   ]
  },
  {
   "cell_type": "code",
   "execution_count": null,
   "id": "487588d5-40a0-4c35-9cd9-ee9b3e2f1d4e",
   "metadata": {
    "execution": {
     "iopub.execute_input": "2023-05-15T09:47:50.369871Z",
     "iopub.status.busy": "2023-05-15T09:47:50.369658Z",
     "iopub.status.idle": "2023-05-15T09:47:50.371786Z",
     "shell.execute_reply": "2023-05-15T09:47:50.371490Z"
    },
    "papermill": {
     "duration": 0.004739,
     "end_time": "2023-05-15T09:47:50.372561",
     "exception": false,
     "start_time": "2023-05-15T09:47:50.367822",
     "status": "completed"
    },
    "tags": []
   },
   "outputs": [],
   "source": [
    "import warnings\n",
    "warnings.simplefilter(action='ignore', category=FutureWarning)\n",
    "warnings.simplefilter(action='ignore', category=UserWarning)"
   ]
  },
  {
   "cell_type": "code",
   "execution_count": null,
   "id": "5bba6a57-54cf-4720-8653-bf94afa536ad",
   "metadata": {
    "execution": {
     "iopub.execute_input": "2023-05-15T09:47:50.376122Z",
     "iopub.status.busy": "2023-05-15T09:47:50.375890Z",
     "iopub.status.idle": "2023-05-15T09:47:54.449421Z",
     "shell.execute_reply": "2023-05-15T09:47:54.448935Z"
    },
    "papermill": {
     "duration": 4.076915,
     "end_time": "2023-05-15T09:47:54.450941",
     "exception": false,
     "start_time": "2023-05-15T09:47:50.374026",
     "status": "completed"
    },
    "tags": []
   },
   "outputs": [],
   "source": [
    "import gc\n",
    "import scanpy as sc\n",
    "import muon as mu\n",
    "import seaborn as sns\n",
    "import os\n",
    "import pandas as pd\n",
    "from matplotlib import pyplot as plt\n",
    "\n",
    "os.environ['R_HOME'] = '/gpfs/bwfor/work/ws/hd_fu399-conda/conda/envs/python_R/lib/R/'\n",
    "import anndata2ri\n",
    "import logging\n",
    "\n",
    "import rpy2.rinterface_lib.callbacks as rcb\n",
    "import rpy2.robjects as ro\n",
    "\n",
    "rcb.logger.setLevel(logging.ERROR)\n",
    "ro.pandas2ri.activate()\n",
    "anndata2ri.activate()\n",
    "\n",
    "%load_ext rpy2.ipython"
   ]
  },
  {
   "cell_type": "code",
   "execution_count": null,
   "id": "0897f8ed-b086-4ddc-a32e-6ae638ff6d14",
   "metadata": {
    "execution": {
     "iopub.execute_input": "2023-05-15T09:47:54.456654Z",
     "iopub.status.busy": "2023-05-15T09:47:54.456370Z",
     "iopub.status.idle": "2023-05-15T09:48:01.780386Z",
     "shell.execute_reply": "2023-05-15T09:48:01.779904Z"
    },
    "papermill": {
     "duration": 7.328163,
     "end_time": "2023-05-15T09:48:01.781689",
     "exception": false,
     "start_time": "2023-05-15T09:47:54.453526",
     "status": "completed"
    },
    "tags": []
   },
   "outputs": [],
   "source": [
    "%%R\n",
    "\n",
    "suppressMessages(library(SeuratDisk))\n",
    "suppressMessages(library(SingleR))\n",
    "suppressMessages(library(Seurat))\n",
    "suppressMessages(library(SingleCellExperiment))\n",
    "suppressMessages(library(UCell))"
   ]
  },
  {
   "cell_type": "code",
   "execution_count": null,
   "id": "74c6b1b1-5af7-4955-a6cc-4532fc42a266",
   "metadata": {
    "execution": {
     "iopub.execute_input": "2023-05-15T09:48:01.786940Z",
     "iopub.status.busy": "2023-05-15T09:48:01.786753Z",
     "iopub.status.idle": "2023-05-15T09:48:02.086658Z",
     "shell.execute_reply": "2023-05-15T09:48:02.086189Z"
    },
    "papermill": {
     "duration": 0.303537,
     "end_time": "2023-05-15T09:48:02.088138",
     "exception": false,
     "start_time": "2023-05-15T09:48:01.784601",
     "status": "completed"
    },
    "tags": []
   },
   "outputs": [],
   "source": [
    "dataset = sc.read(f\"../../int_data/{sample_name}_qc.h5ad\")\n",
    "dataset.X = dataset.layers[\"soupX_counts\"]"
   ]
  },
  {
   "cell_type": "code",
   "execution_count": null,
   "id": "f2520f85-0ac2-4e0d-b7f1-e5b9ce4c769d",
   "metadata": {
    "execution": {
     "iopub.execute_input": "2023-05-15T09:48:02.092612Z",
     "iopub.status.busy": "2023-05-15T09:48:02.092461Z",
     "iopub.status.idle": "2023-05-15T09:48:02.101475Z",
     "shell.execute_reply": "2023-05-15T09:48:02.101122Z"
    },
    "papermill": {
     "duration": 0.012045,
     "end_time": "2023-05-15T09:48:02.102323",
     "exception": false,
     "start_time": "2023-05-15T09:48:02.090278",
     "status": "completed"
    },
    "tags": []
   },
   "outputs": [],
   "source": [
    "dataset.obs[[\"AvgSpotLen\", \"Bases\", \"Bytes\", \"version\"]] = dataset.obs[[\"AvgSpotLen\", \"Bases\", \"Bytes\", \"version\"]].astype(\"str\")"
   ]
  },
  {
   "cell_type": "code",
   "execution_count": null,
   "id": "99f95dca-cf68-4a51-8f53-ca088aa3167b",
   "metadata": {
    "execution": {
     "iopub.execute_input": "2023-05-15T09:48:02.106371Z",
     "iopub.status.busy": "2023-05-15T09:48:02.106160Z",
     "iopub.status.idle": "2023-05-15T09:48:09.946621Z",
     "shell.execute_reply": "2023-05-15T09:48:09.946020Z"
    },
    "papermill": {
     "duration": 7.843984,
     "end_time": "2023-05-15T09:48:09.947956",
     "exception": false,
     "start_time": "2023-05-15T09:48:02.103972",
     "status": "completed"
    },
    "tags": []
   },
   "outputs": [],
   "source": [
    "%%R -i dataset\n",
    "\n",
    "sce <- SingleCellExperiment(list(counts=dataset@assays@data[[\"soupX_counts\"]]),\n",
    "    colData=dataset@colData,\n",
    ")\n",
    "\n",
    "row.names(sce) <- row.names(dataset)\n",
    "\n",
    "data <- as.Seurat(sce, data = NULL)"
   ]
  },
  {
   "cell_type": "code",
   "execution_count": null,
   "id": "0b749876-ea5a-403c-8b0b-51afc8a633e3",
   "metadata": {
    "execution": {
     "iopub.execute_input": "2023-05-15T09:48:09.954587Z",
     "iopub.status.busy": "2023-05-15T09:48:09.954430Z",
     "iopub.status.idle": "2023-05-15T09:48:09.975026Z",
     "shell.execute_reply": "2023-05-15T09:48:09.974666Z"
    },
    "papermill": {
     "duration": 0.023826,
     "end_time": "2023-05-15T09:48:09.975924",
     "exception": false,
     "start_time": "2023-05-15T09:48:09.952098",
     "status": "completed"
    },
    "tags": []
   },
   "outputs": [],
   "source": [
    "%%R\n",
    "data"
   ]
  },
  {
   "cell_type": "code",
   "execution_count": null,
   "id": "b6b29b0e-92c4-4d4f-b835-c5e9d7d59455",
   "metadata": {
    "execution": {
     "iopub.execute_input": "2023-05-15T09:48:09.981547Z",
     "iopub.status.busy": "2023-05-15T09:48:09.981402Z",
     "iopub.status.idle": "2023-05-15T09:48:27.820776Z",
     "shell.execute_reply": "2023-05-15T09:48:27.820276Z"
    },
    "papermill": {
     "duration": 17.843761,
     "end_time": "2023-05-15T09:48:27.822264",
     "exception": false,
     "start_time": "2023-05-15T09:48:09.978503",
     "status": "completed"
    },
    "tags": []
   },
   "outputs": [],
   "source": [
    "%%R\n",
    "\n",
    "data <- NormalizeData(data)\n",
    "data <- ScaleData(data, features = row.names(data))\n",
    "data <- FindVariableFeatures(data)\n",
    "data <- RunPCA(data, verbose = F)\n",
    "data <- FindNeighbors(data, verbose = F)\n",
    "data <- FindClusters(data, verbose = F)\n",
    "data <- RunUMAP(data, dims = 1:20, verbose = F)"
   ]
  },
  {
   "cell_type": "code",
   "execution_count": null,
   "id": "40fa5cdd-01d7-4b40-90e6-0c97545b0711",
   "metadata": {
    "execution": {
     "iopub.execute_input": "2023-05-15T09:48:27.830656Z",
     "iopub.status.busy": "2023-05-15T09:48:27.830516Z",
     "iopub.status.idle": "2023-05-15T09:49:06.985838Z",
     "shell.execute_reply": "2023-05-15T09:49:06.985380Z"
    },
    "papermill": {
     "duration": 39.167316,
     "end_time": "2023-05-15T09:49:06.994704",
     "exception": false,
     "start_time": "2023-05-15T09:48:27.827388",
     "status": "completed"
    },
    "tags": []
   },
   "outputs": [],
   "source": [
    "%%R\n",
    "\n",
    "ref1 <- celldex::BlueprintEncodeData()\n",
    "ref2 <- celldex::MonacoImmuneData()\n",
    "cell_classification <- SingleR(test = as.SingleCellExperiment(data),\n",
    "                               ref = list(BPE = ref1, MON = ref2),\n",
    "                               labels = list(ref1$label.main, ref2$label.main))\n",
    "\n",
    "data[[\"SingleR_label\"]] <- cell_classification$labels\n",
    "\n",
    "plotScoreHeatmap(cell_classification)"
   ]
  },
  {
   "cell_type": "code",
   "execution_count": null,
   "id": "6ad7cf2f-891f-4c05-b34d-e47c84bbe27b",
   "metadata": {
    "execution": {
     "iopub.execute_input": "2023-05-15T09:49:07.002051Z",
     "iopub.status.busy": "2023-05-15T09:49:07.001741Z",
     "iopub.status.idle": "2023-05-15T09:49:07.442799Z",
     "shell.execute_reply": "2023-05-15T09:49:07.442436Z"
    },
    "papermill": {
     "duration": 0.446152,
     "end_time": "2023-05-15T09:49:07.444146",
     "exception": false,
     "start_time": "2023-05-15T09:49:06.997994",
     "status": "completed"
    },
    "tags": []
   },
   "outputs": [],
   "source": [
    "%%R -i sample_name\n",
    "\n",
    "write.csv(data@meta.data, paste0(sample_name, \"_metadata.csv\"))"
   ]
  }
 ],
 "metadata": {
  "kernelspec": {
   "display_name": "py_R",
   "language": "python",
   "name": "python_r"
  },
  "language_info": {
   "codemirror_mode": {
    "name": "ipython",
    "version": 3
   },
   "file_extension": ".py",
   "mimetype": "text/x-python",
   "name": "python",
   "nbconvert_exporter": "python",
   "pygments_lexer": "ipython3",
   "version": "3.10.9"
  },
  "papermill": {
   "default_parameters": {},
   "duration": 79.542171,
   "end_time": "2023-05-15T09:49:08.692236",
   "environment_variables": {},
   "exception": null,
   "input_path": "template.ipynb",
   "output_path": "SRR13329175.ipynb",
   "parameters": {
    "sample_name": "SRR13329175"
   },
   "start_time": "2023-05-15T09:47:49.150065",
   "version": "2.3.4"
  }
 },
 "nbformat": 4,
 "nbformat_minor": 5
}
