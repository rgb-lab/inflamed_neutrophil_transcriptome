{
 "cells": [
  {
   "cell_type": "code",
   "execution_count": null,
   "id": "78a6243e-1906-4e3b-ae98-4b5bd21bd37c",
   "metadata": {
    "execution": {
     "iopub.execute_input": "2023-05-15T08:41:32.571881Z",
     "iopub.status.busy": "2023-05-15T08:41:32.571705Z",
     "iopub.status.idle": "2023-05-15T08:41:32.577368Z",
     "shell.execute_reply": "2023-05-15T08:41:32.577040Z"
    },
    "papermill": {
     "duration": 0.009836,
     "end_time": "2023-05-15T08:41:32.578369",
     "exception": false,
     "start_time": "2023-05-15T08:41:32.568533",
     "status": "completed"
    },
    "tags": [
     "parameters"
    ]
   },
   "outputs": [],
   "source": [
    "sample_name = \"SRR13329143\""
   ]
  },
  {
   "cell_type": "code",
   "execution_count": null,
   "id": "fddbe66c",
   "metadata": {
    "execution": {
     "iopub.execute_input": "2023-05-15T08:41:32.582115Z",
     "iopub.status.busy": "2023-05-15T08:41:32.581992Z",
     "iopub.status.idle": "2023-05-15T08:41:32.585968Z",
     "shell.execute_reply": "2023-05-15T08:41:32.585015Z"
    },
    "papermill": {
     "duration": 0.006952,
     "end_time": "2023-05-15T08:41:32.586977",
     "exception": false,
     "start_time": "2023-05-15T08:41:32.580025",
     "status": "completed"
    },
    "tags": [
     "injected-parameters"
    ]
   },
   "outputs": [],
   "source": [
    "# Parameters\n",
    "sample_name = \"SRR13329128\"\n"
   ]
  },
  {
   "cell_type": "code",
   "execution_count": null,
   "id": "487588d5-40a0-4c35-9cd9-ee9b3e2f1d4e",
   "metadata": {
    "execution": {
     "iopub.execute_input": "2023-05-15T08:41:32.591229Z",
     "iopub.status.busy": "2023-05-15T08:41:32.590788Z",
     "iopub.status.idle": "2023-05-15T08:41:32.593894Z",
     "shell.execute_reply": "2023-05-15T08:41:32.593497Z"
    },
    "papermill": {
     "duration": 0.00628,
     "end_time": "2023-05-15T08:41:32.594736",
     "exception": false,
     "start_time": "2023-05-15T08:41:32.588456",
     "status": "completed"
    },
    "tags": []
   },
   "outputs": [],
   "source": [
    "import warnings\n",
    "warnings.simplefilter(action='ignore', category=FutureWarning)\n",
    "warnings.simplefilter(action='ignore', category=UserWarning)"
   ]
  },
  {
   "cell_type": "code",
   "execution_count": null,
   "id": "5bba6a57-54cf-4720-8653-bf94afa536ad",
   "metadata": {
    "execution": {
     "iopub.execute_input": "2023-05-15T08:41:32.598768Z",
     "iopub.status.busy": "2023-05-15T08:41:32.598255Z",
     "iopub.status.idle": "2023-05-15T08:41:38.974511Z",
     "shell.execute_reply": "2023-05-15T08:41:38.973661Z"
    },
    "papermill": {
     "duration": 6.379705,
     "end_time": "2023-05-15T08:41:38.975981",
     "exception": false,
     "start_time": "2023-05-15T08:41:32.596276",
     "status": "completed"
    },
    "tags": []
   },
   "outputs": [],
   "source": [
    "import gc\n",
    "import scanpy as sc\n",
    "import muon as mu\n",
    "import seaborn as sns\n",
    "import os\n",
    "import pandas as pd\n",
    "from matplotlib import pyplot as plt\n",
    "\n",
    "os.environ['R_HOME'] = '/gpfs/bwfor/work/ws/hd_fu399-conda/conda/envs/python_R/lib/R/'\n",
    "import anndata2ri\n",
    "import logging\n",
    "\n",
    "import rpy2.rinterface_lib.callbacks as rcb\n",
    "import rpy2.robjects as ro\n",
    "\n",
    "rcb.logger.setLevel(logging.ERROR)\n",
    "ro.pandas2ri.activate()\n",
    "anndata2ri.activate()\n",
    "\n",
    "%load_ext rpy2.ipython"
   ]
  },
  {
   "cell_type": "code",
   "execution_count": null,
   "id": "0897f8ed-b086-4ddc-a32e-6ae638ff6d14",
   "metadata": {
    "execution": {
     "iopub.execute_input": "2023-05-15T08:41:38.983261Z",
     "iopub.status.busy": "2023-05-15T08:41:38.982837Z",
     "iopub.status.idle": "2023-05-15T08:41:49.020912Z",
     "shell.execute_reply": "2023-05-15T08:41:49.019987Z"
    },
    "papermill": {
     "duration": 10.042803,
     "end_time": "2023-05-15T08:41:49.023024",
     "exception": false,
     "start_time": "2023-05-15T08:41:38.980221",
     "status": "completed"
    },
    "tags": []
   },
   "outputs": [],
   "source": [
    "%%R\n",
    "\n",
    "suppressMessages(library(SeuratDisk))\n",
    "suppressMessages(library(SingleR))\n",
    "suppressMessages(library(Seurat))\n",
    "suppressMessages(library(SingleCellExperiment))\n",
    "suppressMessages(library(UCell))"
   ]
  },
  {
   "cell_type": "code",
   "execution_count": null,
   "id": "74c6b1b1-5af7-4955-a6cc-4532fc42a266",
   "metadata": {
    "execution": {
     "iopub.execute_input": "2023-05-15T08:41:49.032573Z",
     "iopub.status.busy": "2023-05-15T08:41:49.032341Z",
     "iopub.status.idle": "2023-05-15T08:41:49.759628Z",
     "shell.execute_reply": "2023-05-15T08:41:49.759106Z"
    },
    "papermill": {
     "duration": 0.732765,
     "end_time": "2023-05-15T08:41:49.761721",
     "exception": false,
     "start_time": "2023-05-15T08:41:49.028956",
     "status": "completed"
    },
    "tags": []
   },
   "outputs": [],
   "source": [
    "dataset = sc.read(f\"../../int_data/{sample_name}_qc.h5ad\")\n",
    "dataset.X = dataset.layers[\"soupX_counts\"]"
   ]
  },
  {
   "cell_type": "code",
   "execution_count": null,
   "id": "f2520f85-0ac2-4e0d-b7f1-e5b9ce4c769d",
   "metadata": {
    "execution": {
     "iopub.execute_input": "2023-05-15T08:41:49.767158Z",
     "iopub.status.busy": "2023-05-15T08:41:49.766990Z",
     "iopub.status.idle": "2023-05-15T08:41:49.791302Z",
     "shell.execute_reply": "2023-05-15T08:41:49.790938Z"
    },
    "papermill": {
     "duration": 0.027723,
     "end_time": "2023-05-15T08:41:49.792238",
     "exception": false,
     "start_time": "2023-05-15T08:41:49.764515",
     "status": "completed"
    },
    "tags": []
   },
   "outputs": [],
   "source": [
    "dataset.obs[[\"AvgSpotLen\", \"Bases\", \"Bytes\", \"version\"]] = dataset.obs[[\"AvgSpotLen\", \"Bases\", \"Bytes\", \"version\"]].astype(\"str\")"
   ]
  },
  {
   "cell_type": "code",
   "execution_count": null,
   "id": "99f95dca-cf68-4a51-8f53-ca088aa3167b",
   "metadata": {
    "execution": {
     "iopub.execute_input": "2023-05-15T08:41:49.796593Z",
     "iopub.status.busy": "2023-05-15T08:41:49.796423Z",
     "iopub.status.idle": "2023-05-15T08:41:58.365071Z",
     "shell.execute_reply": "2023-05-15T08:41:58.364450Z"
    },
    "papermill": {
     "duration": 8.573069,
     "end_time": "2023-05-15T08:41:58.367162",
     "exception": false,
     "start_time": "2023-05-15T08:41:49.794093",
     "status": "completed"
    },
    "tags": []
   },
   "outputs": [],
   "source": [
    "%%R -i dataset\n",
    "\n",
    "sce <- SingleCellExperiment(list(counts=dataset@assays@data[[\"soupX_counts\"]]),\n",
    "    colData=dataset@colData,\n",
    ")\n",
    "\n",
    "row.names(sce) <- row.names(dataset)\n",
    "\n",
    "data <- as.Seurat(sce, data = NULL)"
   ]
  },
  {
   "cell_type": "code",
   "execution_count": null,
   "id": "0b749876-ea5a-403c-8b0b-51afc8a633e3",
   "metadata": {
    "execution": {
     "iopub.execute_input": "2023-05-15T08:41:58.376223Z",
     "iopub.status.busy": "2023-05-15T08:41:58.376037Z",
     "iopub.status.idle": "2023-05-15T08:41:58.396434Z",
     "shell.execute_reply": "2023-05-15T08:41:58.396098Z"
    },
    "papermill": {
     "duration": 0.024162,
     "end_time": "2023-05-15T08:41:58.397345",
     "exception": false,
     "start_time": "2023-05-15T08:41:58.373183",
     "status": "completed"
    },
    "tags": []
   },
   "outputs": [],
   "source": [
    "%%R\n",
    "data"
   ]
  },
  {
   "cell_type": "code",
   "execution_count": null,
   "id": "b6b29b0e-92c4-4d4f-b835-c5e9d7d59455",
   "metadata": {
    "execution": {
     "iopub.execute_input": "2023-05-15T08:41:58.403320Z",
     "iopub.status.busy": "2023-05-15T08:41:58.403053Z",
     "iopub.status.idle": "2023-05-15T08:42:19.414814Z",
     "shell.execute_reply": "2023-05-15T08:42:19.414180Z"
    },
    "papermill": {
     "duration": 21.016832,
     "end_time": "2023-05-15T08:42:19.416890",
     "exception": false,
     "start_time": "2023-05-15T08:41:58.400058",
     "status": "completed"
    },
    "tags": []
   },
   "outputs": [],
   "source": [
    "%%R\n",
    "\n",
    "data <- NormalizeData(data)\n",
    "data <- ScaleData(data, features = row.names(data))\n",
    "data <- FindVariableFeatures(data)\n",
    "data <- RunPCA(data, verbose = F)\n",
    "data <- FindNeighbors(data, verbose = F)\n",
    "data <- FindClusters(data, verbose = F)\n",
    "data <- RunUMAP(data, dims = 1:20, verbose = F)"
   ]
  },
  {
   "cell_type": "code",
   "execution_count": null,
   "id": "40fa5cdd-01d7-4b40-90e6-0c97545b0711",
   "metadata": {
    "execution": {
     "iopub.execute_input": "2023-05-15T08:42:19.427674Z",
     "iopub.status.busy": "2023-05-15T08:42:19.427464Z",
     "iopub.status.idle": "2023-05-15T08:43:03.717034Z",
     "shell.execute_reply": "2023-05-15T08:43:03.716562Z"
    },
    "papermill": {
     "duration": 44.302045,
     "end_time": "2023-05-15T08:43:03.725945",
     "exception": false,
     "start_time": "2023-05-15T08:42:19.423900",
     "status": "completed"
    },
    "tags": []
   },
   "outputs": [],
   "source": [
    "%%R\n",
    "\n",
    "ref1 <- celldex::BlueprintEncodeData()\n",
    "ref2 <- celldex::MonacoImmuneData()\n",
    "cell_classification <- SingleR(test = as.SingleCellExperiment(data),\n",
    "                               ref = list(BPE = ref1, MON = ref2),\n",
    "                               labels = list(ref1$label.main, ref2$label.main))\n",
    "\n",
    "data[[\"SingleR_label\"]] <- cell_classification$labels\n",
    "\n",
    "plotScoreHeatmap(cell_classification)"
   ]
  },
  {
   "cell_type": "code",
   "execution_count": null,
   "id": "6ad7cf2f-891f-4c05-b34d-e47c84bbe27b",
   "metadata": {
    "execution": {
     "iopub.execute_input": "2023-05-15T08:43:03.733881Z",
     "iopub.status.busy": "2023-05-15T08:43:03.733683Z",
     "iopub.status.idle": "2023-05-15T08:43:03.824959Z",
     "shell.execute_reply": "2023-05-15T08:43:03.824553Z"
    },
    "papermill": {
     "duration": 0.09661,
     "end_time": "2023-05-15T08:43:03.826089",
     "exception": false,
     "start_time": "2023-05-15T08:43:03.729479",
     "status": "completed"
    },
    "tags": []
   },
   "outputs": [],
   "source": [
    "%%R -i sample_name\n",
    "\n",
    "write.csv(data@meta.data, paste0(sample_name, \"_metadata.csv\"))"
   ]
  }
 ],
 "metadata": {
  "kernelspec": {
   "display_name": "py_R",
   "language": "python",
   "name": "python_r"
  },
  "language_info": {
   "codemirror_mode": {
    "name": "ipython",
    "version": 3
   },
   "file_extension": ".py",
   "mimetype": "text/x-python",
   "name": "python",
   "nbconvert_exporter": "python",
   "pygments_lexer": "ipython3",
   "version": "3.10.9"
  },
  "papermill": {
   "default_parameters": {},
   "duration": 94.638636,
   "end_time": "2023-05-15T08:43:05.953361",
   "environment_variables": {},
   "exception": null,
   "input_path": "template.ipynb",
   "output_path": "SRR13329128.ipynb",
   "parameters": {
    "sample_name": "SRR13329128"
   },
   "start_time": "2023-05-15T08:41:31.314725",
   "version": "2.3.4"
  }
 },
 "nbformat": 4,
 "nbformat_minor": 5
}
