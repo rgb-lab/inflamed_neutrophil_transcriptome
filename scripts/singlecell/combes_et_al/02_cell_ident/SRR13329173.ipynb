{
 "cells": [
  {
   "cell_type": "code",
   "execution_count": null,
   "id": "78a6243e-1906-4e3b-ae98-4b5bd21bd37c",
   "metadata": {
    "execution": {
     "iopub.execute_input": "2023-05-15T08:50:26.173570Z",
     "iopub.status.busy": "2023-05-15T08:50:26.173405Z",
     "iopub.status.idle": "2023-05-15T08:50:26.178090Z",
     "shell.execute_reply": "2023-05-15T08:50:26.177737Z"
    },
    "papermill": {
     "duration": 0.00825,
     "end_time": "2023-05-15T08:50:26.179006",
     "exception": false,
     "start_time": "2023-05-15T08:50:26.170756",
     "status": "completed"
    },
    "tags": [
     "parameters"
    ]
   },
   "outputs": [],
   "source": [
    "sample_name = \"SRR13329143\""
   ]
  },
  {
   "cell_type": "code",
   "execution_count": null,
   "id": "d249a62b",
   "metadata": {
    "execution": {
     "iopub.execute_input": "2023-05-15T08:50:26.182451Z",
     "iopub.status.busy": "2023-05-15T08:50:26.182328Z",
     "iopub.status.idle": "2023-05-15T08:50:26.184230Z",
     "shell.execute_reply": "2023-05-15T08:50:26.183919Z"
    },
    "papermill": {
     "duration": 0.004444,
     "end_time": "2023-05-15T08:50:26.185019",
     "exception": false,
     "start_time": "2023-05-15T08:50:26.180575",
     "status": "completed"
    },
    "tags": [
     "injected-parameters"
    ]
   },
   "outputs": [],
   "source": [
    "# Parameters\n",
    "sample_name = \"SRR13329173\"\n"
   ]
  },
  {
   "cell_type": "code",
   "execution_count": null,
   "id": "487588d5-40a0-4c35-9cd9-ee9b3e2f1d4e",
   "metadata": {
    "execution": {
     "iopub.execute_input": "2023-05-15T08:50:26.188597Z",
     "iopub.status.busy": "2023-05-15T08:50:26.188300Z",
     "iopub.status.idle": "2023-05-15T08:50:26.190520Z",
     "shell.execute_reply": "2023-05-15T08:50:26.190224Z"
    },
    "papermill": {
     "duration": 0.004824,
     "end_time": "2023-05-15T08:50:26.191282",
     "exception": false,
     "start_time": "2023-05-15T08:50:26.186458",
     "status": "completed"
    },
    "tags": []
   },
   "outputs": [],
   "source": [
    "import warnings\n",
    "warnings.simplefilter(action='ignore', category=FutureWarning)\n",
    "warnings.simplefilter(action='ignore', category=UserWarning)"
   ]
  },
  {
   "cell_type": "code",
   "execution_count": null,
   "id": "5bba6a57-54cf-4720-8653-bf94afa536ad",
   "metadata": {
    "execution": {
     "iopub.execute_input": "2023-05-15T08:50:26.194748Z",
     "iopub.status.busy": "2023-05-15T08:50:26.194552Z",
     "iopub.status.idle": "2023-05-15T08:50:30.271745Z",
     "shell.execute_reply": "2023-05-15T08:50:30.270767Z"
    },
    "papermill": {
     "duration": 4.080735,
     "end_time": "2023-05-15T08:50:30.273423",
     "exception": false,
     "start_time": "2023-05-15T08:50:26.192688",
     "status": "completed"
    },
    "tags": []
   },
   "outputs": [],
   "source": [
    "import gc\n",
    "import scanpy as sc\n",
    "import muon as mu\n",
    "import seaborn as sns\n",
    "import os\n",
    "import pandas as pd\n",
    "from matplotlib import pyplot as plt\n",
    "\n",
    "os.environ['R_HOME'] = '/gpfs/bwfor/work/ws/hd_fu399-conda/conda/envs/python_R/lib/R/'\n",
    "import anndata2ri\n",
    "import logging\n",
    "\n",
    "import rpy2.rinterface_lib.callbacks as rcb\n",
    "import rpy2.robjects as ro\n",
    "\n",
    "rcb.logger.setLevel(logging.ERROR)\n",
    "ro.pandas2ri.activate()\n",
    "anndata2ri.activate()\n",
    "\n",
    "%load_ext rpy2.ipython"
   ]
  },
  {
   "cell_type": "code",
   "execution_count": null,
   "id": "0897f8ed-b086-4ddc-a32e-6ae638ff6d14",
   "metadata": {
    "execution": {
     "iopub.execute_input": "2023-05-15T08:50:30.281427Z",
     "iopub.status.busy": "2023-05-15T08:50:30.281020Z",
     "iopub.status.idle": "2023-05-15T08:50:38.758589Z",
     "shell.execute_reply": "2023-05-15T08:50:38.758009Z"
    },
    "papermill": {
     "duration": 8.481655,
     "end_time": "2023-05-15T08:50:38.760300",
     "exception": false,
     "start_time": "2023-05-15T08:50:30.278645",
     "status": "completed"
    },
    "tags": []
   },
   "outputs": [],
   "source": [
    "%%R\n",
    "\n",
    "suppressMessages(library(SeuratDisk))\n",
    "suppressMessages(library(SingleR))\n",
    "suppressMessages(library(Seurat))\n",
    "suppressMessages(library(SingleCellExperiment))\n",
    "suppressMessages(library(UCell))"
   ]
  },
  {
   "cell_type": "code",
   "execution_count": null,
   "id": "74c6b1b1-5af7-4955-a6cc-4532fc42a266",
   "metadata": {
    "execution": {
     "iopub.execute_input": "2023-05-15T08:50:38.766851Z",
     "iopub.status.busy": "2023-05-15T08:50:38.766645Z",
     "iopub.status.idle": "2023-05-15T08:50:39.129811Z",
     "shell.execute_reply": "2023-05-15T08:50:39.129353Z"
    },
    "papermill": {
     "duration": 0.367334,
     "end_time": "2023-05-15T08:50:39.131432",
     "exception": false,
     "start_time": "2023-05-15T08:50:38.764098",
     "status": "completed"
    },
    "tags": []
   },
   "outputs": [],
   "source": [
    "dataset = sc.read(f\"../../int_data/{sample_name}_qc.h5ad\")\n",
    "dataset.X = dataset.layers[\"soupX_counts\"]"
   ]
  },
  {
   "cell_type": "code",
   "execution_count": null,
   "id": "f2520f85-0ac2-4e0d-b7f1-e5b9ce4c769d",
   "metadata": {
    "execution": {
     "iopub.execute_input": "2023-05-15T08:50:39.135996Z",
     "iopub.status.busy": "2023-05-15T08:50:39.135808Z",
     "iopub.status.idle": "2023-05-15T08:50:39.143315Z",
     "shell.execute_reply": "2023-05-15T08:50:39.142941Z"
    },
    "papermill": {
     "duration": 0.010521,
     "end_time": "2023-05-15T08:50:39.144130",
     "exception": false,
     "start_time": "2023-05-15T08:50:39.133609",
     "status": "completed"
    },
    "tags": []
   },
   "outputs": [],
   "source": [
    "dataset.obs[[\"AvgSpotLen\", \"Bases\", \"Bytes\", \"version\"]] = dataset.obs[[\"AvgSpotLen\", \"Bases\", \"Bytes\", \"version\"]].astype(\"str\")"
   ]
  },
  {
   "cell_type": "code",
   "execution_count": null,
   "id": "99f95dca-cf68-4a51-8f53-ca088aa3167b",
   "metadata": {
    "execution": {
     "iopub.execute_input": "2023-05-15T08:50:39.148117Z",
     "iopub.status.busy": "2023-05-15T08:50:39.147791Z",
     "iopub.status.idle": "2023-05-15T08:50:45.974553Z",
     "shell.execute_reply": "2023-05-15T08:50:45.973868Z"
    },
    "papermill": {
     "duration": 6.830428,
     "end_time": "2023-05-15T08:50:45.976155",
     "exception": false,
     "start_time": "2023-05-15T08:50:39.145727",
     "status": "completed"
    },
    "tags": []
   },
   "outputs": [],
   "source": [
    "%%R -i dataset\n",
    "\n",
    "sce <- SingleCellExperiment(list(counts=dataset@assays@data[[\"soupX_counts\"]]),\n",
    "    colData=dataset@colData,\n",
    ")\n",
    "\n",
    "row.names(sce) <- row.names(dataset)\n",
    "\n",
    "data <- as.Seurat(sce, data = NULL)"
   ]
  },
  {
   "cell_type": "code",
   "execution_count": null,
   "id": "0b749876-ea5a-403c-8b0b-51afc8a633e3",
   "metadata": {
    "execution": {
     "iopub.execute_input": "2023-05-15T08:50:45.983313Z",
     "iopub.status.busy": "2023-05-15T08:50:45.983132Z",
     "iopub.status.idle": "2023-05-15T08:50:46.003295Z",
     "shell.execute_reply": "2023-05-15T08:50:46.002910Z"
    },
    "papermill": {
     "duration": 0.02393,
     "end_time": "2023-05-15T08:50:46.004184",
     "exception": false,
     "start_time": "2023-05-15T08:50:45.980254",
     "status": "completed"
    },
    "tags": []
   },
   "outputs": [],
   "source": [
    "%%R\n",
    "data"
   ]
  },
  {
   "cell_type": "code",
   "execution_count": null,
   "id": "b6b29b0e-92c4-4d4f-b835-c5e9d7d59455",
   "metadata": {
    "execution": {
     "iopub.execute_input": "2023-05-15T08:50:46.009827Z",
     "iopub.status.busy": "2023-05-15T08:50:46.009537Z",
     "iopub.status.idle": "2023-05-15T08:50:59.825503Z",
     "shell.execute_reply": "2023-05-15T08:50:59.824974Z"
    },
    "papermill": {
     "duration": 13.820497,
     "end_time": "2023-05-15T08:50:59.827183",
     "exception": false,
     "start_time": "2023-05-15T08:50:46.006686",
     "status": "completed"
    },
    "tags": []
   },
   "outputs": [],
   "source": [
    "%%R\n",
    "\n",
    "data <- NormalizeData(data)\n",
    "data <- ScaleData(data, features = row.names(data))\n",
    "data <- FindVariableFeatures(data)\n",
    "data <- RunPCA(data, verbose = F)\n",
    "data <- FindNeighbors(data, verbose = F)\n",
    "data <- FindClusters(data, verbose = F)\n",
    "data <- RunUMAP(data, dims = 1:20, verbose = F)"
   ]
  },
  {
   "cell_type": "code",
   "execution_count": null,
   "id": "40fa5cdd-01d7-4b40-90e6-0c97545b0711",
   "metadata": {
    "execution": {
     "iopub.execute_input": "2023-05-15T08:50:59.835786Z",
     "iopub.status.busy": "2023-05-15T08:50:59.835598Z",
     "iopub.status.idle": "2023-05-15T08:51:28.911599Z",
     "shell.execute_reply": "2023-05-15T08:51:28.911150Z"
    },
    "papermill": {
     "duration": 29.08102,
     "end_time": "2023-05-15T08:51:28.912942",
     "exception": false,
     "start_time": "2023-05-15T08:50:59.831922",
     "status": "completed"
    },
    "tags": []
   },
   "outputs": [],
   "source": [
    "%%R\n",
    "\n",
    "ref1 <- celldex::BlueprintEncodeData()\n",
    "ref2 <- celldex::MonacoImmuneData()\n",
    "cell_classification <- SingleR(test = as.SingleCellExperiment(data),\n",
    "                               ref = list(BPE = ref1, MON = ref2),\n",
    "                               labels = list(ref1$label.main, ref2$label.main))\n",
    "\n",
    "data[[\"SingleR_label\"]] <- cell_classification$labels\n",
    "\n",
    "plotScoreHeatmap(cell_classification)"
   ]
  },
  {
   "cell_type": "code",
   "execution_count": null,
   "id": "6ad7cf2f-891f-4c05-b34d-e47c84bbe27b",
   "metadata": {
    "execution": {
     "iopub.execute_input": "2023-05-15T08:51:28.921757Z",
     "iopub.status.busy": "2023-05-15T08:51:28.921607Z",
     "iopub.status.idle": "2023-05-15T08:51:28.979049Z",
     "shell.execute_reply": "2023-05-15T08:51:28.978667Z"
    },
    "papermill": {
     "duration": 0.062267,
     "end_time": "2023-05-15T08:51:28.980117",
     "exception": false,
     "start_time": "2023-05-15T08:51:28.917850",
     "status": "completed"
    },
    "tags": []
   },
   "outputs": [],
   "source": [
    "%%R -i sample_name\n",
    "\n",
    "write.csv(data@meta.data, paste0(sample_name, \"_metadata.csv\"))"
   ]
  }
 ],
 "metadata": {
  "kernelspec": {
   "display_name": "py_R",
   "language": "python",
   "name": "python_r"
  },
  "language_info": {
   "codemirror_mode": {
    "name": "ipython",
    "version": 3
   },
   "file_extension": ".py",
   "mimetype": "text/x-python",
   "name": "python",
   "nbconvert_exporter": "python",
   "pygments_lexer": "ipython3",
   "version": "3.10.9"
  },
  "papermill": {
   "default_parameters": {},
   "duration": 64.996318,
   "end_time": "2023-05-15T08:51:30.304739",
   "environment_variables": {},
   "exception": null,
   "input_path": "template.ipynb",
   "output_path": "SRR13329173.ipynb",
   "parameters": {
    "sample_name": "SRR13329173"
   },
   "start_time": "2023-05-15T08:50:25.308421",
   "version": "2.3.4"
  }
 },
 "nbformat": 4,
 "nbformat_minor": 5
}
