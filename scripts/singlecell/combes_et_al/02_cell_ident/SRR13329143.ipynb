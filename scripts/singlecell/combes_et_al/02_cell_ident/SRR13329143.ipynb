{
 "cells": [
  {
   "cell_type": "code",
   "execution_count": null,
   "id": "78a6243e-1906-4e3b-ae98-4b5bd21bd37c",
   "metadata": {
    "execution": {
     "iopub.execute_input": "2023-05-15T09:02:05.864921Z",
     "iopub.status.busy": "2023-05-15T09:02:05.864756Z",
     "iopub.status.idle": "2023-05-15T09:02:05.869477Z",
     "shell.execute_reply": "2023-05-15T09:02:05.869166Z"
    },
    "papermill": {
     "duration": 0.008594,
     "end_time": "2023-05-15T09:02:05.870370",
     "exception": false,
     "start_time": "2023-05-15T09:02:05.861776",
     "status": "completed"
    },
    "tags": [
     "parameters"
    ]
   },
   "outputs": [],
   "source": [
    "sample_name = \"SRR13329143\""
   ]
  },
  {
   "cell_type": "code",
   "execution_count": null,
   "id": "1524c454",
   "metadata": {
    "execution": {
     "iopub.execute_input": "2023-05-15T09:02:05.873896Z",
     "iopub.status.busy": "2023-05-15T09:02:05.873770Z",
     "iopub.status.idle": "2023-05-15T09:02:05.877052Z",
     "shell.execute_reply": "2023-05-15T09:02:05.876748Z"
    },
    "papermill": {
     "duration": 0.005824,
     "end_time": "2023-05-15T09:02:05.877815",
     "exception": false,
     "start_time": "2023-05-15T09:02:05.871991",
     "status": "completed"
    },
    "tags": [
     "injected-parameters"
    ]
   },
   "outputs": [],
   "source": [
    "# Parameters\n",
    "sample_name = \"SRR13329143\"\n"
   ]
  },
  {
   "cell_type": "code",
   "execution_count": null,
   "id": "487588d5-40a0-4c35-9cd9-ee9b3e2f1d4e",
   "metadata": {
    "execution": {
     "iopub.execute_input": "2023-05-15T09:02:05.881231Z",
     "iopub.status.busy": "2023-05-15T09:02:05.880957Z",
     "iopub.status.idle": "2023-05-15T09:02:05.884960Z",
     "shell.execute_reply": "2023-05-15T09:02:05.884646Z"
    },
    "papermill": {
     "duration": 0.006548,
     "end_time": "2023-05-15T09:02:05.885736",
     "exception": false,
     "start_time": "2023-05-15T09:02:05.879188",
     "status": "completed"
    },
    "tags": []
   },
   "outputs": [],
   "source": [
    "import warnings\n",
    "warnings.simplefilter(action='ignore', category=FutureWarning)\n",
    "warnings.simplefilter(action='ignore', category=UserWarning)"
   ]
  },
  {
   "cell_type": "code",
   "execution_count": null,
   "id": "5bba6a57-54cf-4720-8653-bf94afa536ad",
   "metadata": {
    "execution": {
     "iopub.execute_input": "2023-05-15T09:02:05.889101Z",
     "iopub.status.busy": "2023-05-15T09:02:05.888874Z",
     "iopub.status.idle": "2023-05-15T09:02:10.740913Z",
     "shell.execute_reply": "2023-05-15T09:02:10.740370Z"
    },
    "papermill": {
     "duration": 4.855262,
     "end_time": "2023-05-15T09:02:10.742354",
     "exception": false,
     "start_time": "2023-05-15T09:02:05.887092",
     "status": "completed"
    },
    "tags": []
   },
   "outputs": [],
   "source": [
    "import gc\n",
    "import scanpy as sc\n",
    "import muon as mu\n",
    "import seaborn as sns\n",
    "import os\n",
    "import pandas as pd\n",
    "from matplotlib import pyplot as plt\n",
    "\n",
    "os.environ['R_HOME'] = '/gpfs/bwfor/work/ws/hd_fu399-conda/conda/envs/python_R/lib/R/'\n",
    "import anndata2ri\n",
    "import logging\n",
    "\n",
    "import rpy2.rinterface_lib.callbacks as rcb\n",
    "import rpy2.robjects as ro\n",
    "\n",
    "rcb.logger.setLevel(logging.ERROR)\n",
    "ro.pandas2ri.activate()\n",
    "anndata2ri.activate()\n",
    "\n",
    "%load_ext rpy2.ipython"
   ]
  },
  {
   "cell_type": "code",
   "execution_count": null,
   "id": "0897f8ed-b086-4ddc-a32e-6ae638ff6d14",
   "metadata": {
    "execution": {
     "iopub.execute_input": "2023-05-15T09:02:10.749600Z",
     "iopub.status.busy": "2023-05-15T09:02:10.749276Z",
     "iopub.status.idle": "2023-05-15T09:02:19.629614Z",
     "shell.execute_reply": "2023-05-15T09:02:19.629100Z"
    },
    "papermill": {
     "duration": 8.884351,
     "end_time": "2023-05-15T09:02:19.631113",
     "exception": false,
     "start_time": "2023-05-15T09:02:10.746762",
     "status": "completed"
    },
    "tags": []
   },
   "outputs": [],
   "source": [
    "%%R\n",
    "\n",
    "suppressMessages(library(SeuratDisk))\n",
    "suppressMessages(library(SingleR))\n",
    "suppressMessages(library(Seurat))\n",
    "suppressMessages(library(SingleCellExperiment))\n",
    "suppressMessages(library(UCell))"
   ]
  },
  {
   "cell_type": "code",
   "execution_count": null,
   "id": "74c6b1b1-5af7-4955-a6cc-4532fc42a266",
   "metadata": {
    "execution": {
     "iopub.execute_input": "2023-05-15T09:02:19.637774Z",
     "iopub.status.busy": "2023-05-15T09:02:19.637577Z",
     "iopub.status.idle": "2023-05-15T09:02:19.809775Z",
     "shell.execute_reply": "2023-05-15T09:02:19.809309Z"
    },
    "papermill": {
     "duration": 0.176278,
     "end_time": "2023-05-15T09:02:19.811269",
     "exception": false,
     "start_time": "2023-05-15T09:02:19.634991",
     "status": "completed"
    },
    "tags": []
   },
   "outputs": [],
   "source": [
    "dataset = sc.read(f\"../../int_data/{sample_name}_qc.h5ad\")\n",
    "dataset.X = dataset.layers[\"soupX_counts\"]"
   ]
  },
  {
   "cell_type": "code",
   "execution_count": null,
   "id": "f2520f85-0ac2-4e0d-b7f1-e5b9ce4c769d",
   "metadata": {
    "execution": {
     "iopub.execute_input": "2023-05-15T09:02:19.815701Z",
     "iopub.status.busy": "2023-05-15T09:02:19.815558Z",
     "iopub.status.idle": "2023-05-15T09:02:19.822430Z",
     "shell.execute_reply": "2023-05-15T09:02:19.822099Z"
    },
    "papermill": {
     "duration": 0.009802,
     "end_time": "2023-05-15T09:02:19.823219",
     "exception": false,
     "start_time": "2023-05-15T09:02:19.813417",
     "status": "completed"
    },
    "tags": []
   },
   "outputs": [],
   "source": [
    "dataset.obs[[\"AvgSpotLen\", \"Bases\", \"Bytes\", \"version\"]] = dataset.obs[[\"AvgSpotLen\", \"Bases\", \"Bytes\", \"version\"]].astype(\"str\")"
   ]
  },
  {
   "cell_type": "code",
   "execution_count": null,
   "id": "99f95dca-cf68-4a51-8f53-ca088aa3167b",
   "metadata": {
    "execution": {
     "iopub.execute_input": "2023-05-15T09:02:19.827026Z",
     "iopub.status.busy": "2023-05-15T09:02:19.826860Z",
     "iopub.status.idle": "2023-05-15T09:02:24.875911Z",
     "shell.execute_reply": "2023-05-15T09:02:24.875400Z"
    },
    "papermill": {
     "duration": 5.052497,
     "end_time": "2023-05-15T09:02:24.877402",
     "exception": false,
     "start_time": "2023-05-15T09:02:19.824905",
     "status": "completed"
    },
    "tags": []
   },
   "outputs": [],
   "source": [
    "%%R -i dataset\n",
    "\n",
    "sce <- SingleCellExperiment(list(counts=dataset@assays@data[[\"soupX_counts\"]]),\n",
    "    colData=dataset@colData,\n",
    ")\n",
    "\n",
    "row.names(sce) <- row.names(dataset)\n",
    "\n",
    "data <- as.Seurat(sce, data = NULL)"
   ]
  },
  {
   "cell_type": "code",
   "execution_count": null,
   "id": "0b749876-ea5a-403c-8b0b-51afc8a633e3",
   "metadata": {
    "execution": {
     "iopub.execute_input": "2023-05-15T09:02:24.882369Z",
     "iopub.status.busy": "2023-05-15T09:02:24.882203Z",
     "iopub.status.idle": "2023-05-15T09:02:24.903327Z",
     "shell.execute_reply": "2023-05-15T09:02:24.902979Z"
    },
    "papermill": {
     "duration": 0.024201,
     "end_time": "2023-05-15T09:02:24.904096",
     "exception": false,
     "start_time": "2023-05-15T09:02:24.879895",
     "status": "completed"
    },
    "tags": []
   },
   "outputs": [],
   "source": [
    "%%R\n",
    "data"
   ]
  },
  {
   "cell_type": "code",
   "execution_count": null,
   "id": "b6b29b0e-92c4-4d4f-b835-c5e9d7d59455",
   "metadata": {
    "execution": {
     "iopub.execute_input": "2023-05-15T09:02:24.909364Z",
     "iopub.status.busy": "2023-05-15T09:02:24.909072Z",
     "iopub.status.idle": "2023-05-15T09:02:36.721517Z",
     "shell.execute_reply": "2023-05-15T09:02:36.720993Z"
    },
    "papermill": {
     "duration": 11.816543,
     "end_time": "2023-05-15T09:02:36.722925",
     "exception": false,
     "start_time": "2023-05-15T09:02:24.906382",
     "status": "completed"
    },
    "tags": []
   },
   "outputs": [],
   "source": [
    "%%R\n",
    "\n",
    "data <- NormalizeData(data)\n",
    "data <- ScaleData(data, features = row.names(data))\n",
    "data <- FindVariableFeatures(data)\n",
    "data <- RunPCA(data, verbose = F)\n",
    "data <- FindNeighbors(data, verbose = F)\n",
    "data <- FindClusters(data, verbose = F)\n",
    "data <- RunUMAP(data, dims = 1:20, verbose = F)"
   ]
  },
  {
   "cell_type": "code",
   "execution_count": null,
   "id": "40fa5cdd-01d7-4b40-90e6-0c97545b0711",
   "metadata": {
    "execution": {
     "iopub.execute_input": "2023-05-15T09:02:36.731176Z",
     "iopub.status.busy": "2023-05-15T09:02:36.731002Z",
     "iopub.status.idle": "2023-05-15T09:02:59.875905Z",
     "shell.execute_reply": "2023-05-15T09:02:59.875454Z"
    },
    "papermill": {
     "duration": 23.149408,
     "end_time": "2023-05-15T09:02:59.876870",
     "exception": false,
     "start_time": "2023-05-15T09:02:36.727462",
     "status": "completed"
    },
    "tags": []
   },
   "outputs": [],
   "source": [
    "%%R\n",
    "\n",
    "ref1 <- celldex::BlueprintEncodeData()\n",
    "ref2 <- celldex::MonacoImmuneData()\n",
    "cell_classification <- SingleR(test = as.SingleCellExperiment(data),\n",
    "                               ref = list(BPE = ref1, MON = ref2),\n",
    "                               labels = list(ref1$label.main, ref2$label.main))\n",
    "\n",
    "data[[\"SingleR_label\"]] <- cell_classification$labels\n",
    "\n",
    "plotScoreHeatmap(cell_classification)"
   ]
  },
  {
   "cell_type": "code",
   "execution_count": null,
   "id": "6ad7cf2f-891f-4c05-b34d-e47c84bbe27b",
   "metadata": {
    "execution": {
     "iopub.execute_input": "2023-05-15T09:02:59.886333Z",
     "iopub.status.busy": "2023-05-15T09:02:59.886166Z",
     "iopub.status.idle": "2023-05-15T09:02:59.998852Z",
     "shell.execute_reply": "2023-05-15T09:02:59.998481Z"
    },
    "papermill": {
     "duration": 0.117643,
     "end_time": "2023-05-15T09:02:59.999949",
     "exception": false,
     "start_time": "2023-05-15T09:02:59.882306",
     "status": "completed"
    },
    "tags": []
   },
   "outputs": [],
   "source": [
    "%%R -i sample_name\n",
    "\n",
    "write.csv(data@meta.data, paste0(sample_name, \"_metadata.csv\"))"
   ]
  }
 ],
 "metadata": {
  "kernelspec": {
   "display_name": "py_R",
   "language": "python",
   "name": "python_r"
  },
  "language_info": {
   "codemirror_mode": {
    "name": "ipython",
    "version": 3
   },
   "file_extension": ".py",
   "mimetype": "text/x-python",
   "name": "python",
   "nbconvert_exporter": "python",
   "pygments_lexer": "ipython3",
   "version": "3.10.9"
  },
  "papermill": {
   "default_parameters": {},
   "duration": 56.758467,
   "end_time": "2023-05-15T09:03:01.322336",
   "environment_variables": {},
   "exception": null,
   "input_path": "template.ipynb",
   "output_path": "SRR13329143.ipynb",
   "parameters": {
    "sample_name": "SRR13329143"
   },
   "start_time": "2023-05-15T09:02:04.563869",
   "version": "2.3.4"
  }
 },
 "nbformat": 4,
 "nbformat_minor": 5
}
