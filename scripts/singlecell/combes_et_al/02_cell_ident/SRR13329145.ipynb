{
 "cells": [
  {
   "cell_type": "code",
   "execution_count": null,
   "id": "78a6243e-1906-4e3b-ae98-4b5bd21bd37c",
   "metadata": {
    "execution": {
     "iopub.execute_input": "2023-05-15T09:05:33.007086Z",
     "iopub.status.busy": "2023-05-15T09:05:33.006915Z",
     "iopub.status.idle": "2023-05-15T09:05:33.011643Z",
     "shell.execute_reply": "2023-05-15T09:05:33.011337Z"
    },
    "papermill": {
     "duration": 0.008464,
     "end_time": "2023-05-15T09:05:33.012639",
     "exception": false,
     "start_time": "2023-05-15T09:05:33.004175",
     "status": "completed"
    },
    "tags": [
     "parameters"
    ]
   },
   "outputs": [],
   "source": [
    "sample_name = \"SRR13329143\""
   ]
  },
  {
   "cell_type": "code",
   "execution_count": null,
   "id": "1db89a9c",
   "metadata": {
    "execution": {
     "iopub.execute_input": "2023-05-15T09:05:33.016042Z",
     "iopub.status.busy": "2023-05-15T09:05:33.015915Z",
     "iopub.status.idle": "2023-05-15T09:05:33.019121Z",
     "shell.execute_reply": "2023-05-15T09:05:33.018812Z"
    },
    "papermill": {
     "duration": 0.005824,
     "end_time": "2023-05-15T09:05:33.019984",
     "exception": false,
     "start_time": "2023-05-15T09:05:33.014160",
     "status": "completed"
    },
    "tags": [
     "injected-parameters"
    ]
   },
   "outputs": [],
   "source": [
    "# Parameters\n",
    "sample_name = \"SRR13329145\"\n"
   ]
  },
  {
   "cell_type": "code",
   "execution_count": null,
   "id": "487588d5-40a0-4c35-9cd9-ee9b3e2f1d4e",
   "metadata": {
    "execution": {
     "iopub.execute_input": "2023-05-15T09:05:33.023430Z",
     "iopub.status.busy": "2023-05-15T09:05:33.023282Z",
     "iopub.status.idle": "2023-05-15T09:05:33.026464Z",
     "shell.execute_reply": "2023-05-15T09:05:33.026136Z"
    },
    "papermill": {
     "duration": 0.005819,
     "end_time": "2023-05-15T09:05:33.027251",
     "exception": false,
     "start_time": "2023-05-15T09:05:33.021432",
     "status": "completed"
    },
    "tags": []
   },
   "outputs": [],
   "source": [
    "import warnings\n",
    "warnings.simplefilter(action='ignore', category=FutureWarning)\n",
    "warnings.simplefilter(action='ignore', category=UserWarning)"
   ]
  },
  {
   "cell_type": "code",
   "execution_count": null,
   "id": "5bba6a57-54cf-4720-8653-bf94afa536ad",
   "metadata": {
    "execution": {
     "iopub.execute_input": "2023-05-15T09:05:33.030618Z",
     "iopub.status.busy": "2023-05-15T09:05:33.030500Z",
     "iopub.status.idle": "2023-05-15T09:05:37.966112Z",
     "shell.execute_reply": "2023-05-15T09:05:37.965627Z"
    },
    "papermill": {
     "duration": 4.938734,
     "end_time": "2023-05-15T09:05:37.967424",
     "exception": false,
     "start_time": "2023-05-15T09:05:33.028690",
     "status": "completed"
    },
    "tags": []
   },
   "outputs": [],
   "source": [
    "import gc\n",
    "import scanpy as sc\n",
    "import muon as mu\n",
    "import seaborn as sns\n",
    "import os\n",
    "import pandas as pd\n",
    "from matplotlib import pyplot as plt\n",
    "\n",
    "os.environ['R_HOME'] = '/gpfs/bwfor/work/ws/hd_fu399-conda/conda/envs/python_R/lib/R/'\n",
    "import anndata2ri\n",
    "import logging\n",
    "\n",
    "import rpy2.rinterface_lib.callbacks as rcb\n",
    "import rpy2.robjects as ro\n",
    "\n",
    "rcb.logger.setLevel(logging.ERROR)\n",
    "ro.pandas2ri.activate()\n",
    "anndata2ri.activate()\n",
    "\n",
    "%load_ext rpy2.ipython"
   ]
  },
  {
   "cell_type": "code",
   "execution_count": null,
   "id": "0897f8ed-b086-4ddc-a32e-6ae638ff6d14",
   "metadata": {
    "execution": {
     "iopub.execute_input": "2023-05-15T09:05:37.972335Z",
     "iopub.status.busy": "2023-05-15T09:05:37.972056Z",
     "iopub.status.idle": "2023-05-15T09:05:46.309165Z",
     "shell.execute_reply": "2023-05-15T09:05:46.308517Z"
    },
    "papermill": {
     "duration": 8.340585,
     "end_time": "2023-05-15T09:05:46.310544",
     "exception": false,
     "start_time": "2023-05-15T09:05:37.969959",
     "status": "completed"
    },
    "tags": []
   },
   "outputs": [],
   "source": [
    "%%R\n",
    "\n",
    "suppressMessages(library(SeuratDisk))\n",
    "suppressMessages(library(SingleR))\n",
    "suppressMessages(library(Seurat))\n",
    "suppressMessages(library(SingleCellExperiment))\n",
    "suppressMessages(library(UCell))"
   ]
  },
  {
   "cell_type": "code",
   "execution_count": null,
   "id": "74c6b1b1-5af7-4955-a6cc-4532fc42a266",
   "metadata": {
    "execution": {
     "iopub.execute_input": "2023-05-15T09:05:46.316830Z",
     "iopub.status.busy": "2023-05-15T09:05:46.316663Z",
     "iopub.status.idle": "2023-05-15T09:05:46.606520Z",
     "shell.execute_reply": "2023-05-15T09:05:46.606058Z"
    },
    "papermill": {
     "duration": 0.293586,
     "end_time": "2023-05-15T09:05:46.607989",
     "exception": false,
     "start_time": "2023-05-15T09:05:46.314403",
     "status": "completed"
    },
    "tags": []
   },
   "outputs": [],
   "source": [
    "dataset = sc.read(f\"../../int_data/{sample_name}_qc.h5ad\")\n",
    "dataset.X = dataset.layers[\"soupX_counts\"]"
   ]
  },
  {
   "cell_type": "code",
   "execution_count": null,
   "id": "f2520f85-0ac2-4e0d-b7f1-e5b9ce4c769d",
   "metadata": {
    "execution": {
     "iopub.execute_input": "2023-05-15T09:05:46.612725Z",
     "iopub.status.busy": "2023-05-15T09:05:46.612556Z",
     "iopub.status.idle": "2023-05-15T09:05:46.621316Z",
     "shell.execute_reply": "2023-05-15T09:05:46.620975Z"
    },
    "papermill": {
     "duration": 0.011776,
     "end_time": "2023-05-15T09:05:46.622116",
     "exception": false,
     "start_time": "2023-05-15T09:05:46.610340",
     "status": "completed"
    },
    "tags": []
   },
   "outputs": [],
   "source": [
    "dataset.obs[[\"AvgSpotLen\", \"Bases\", \"Bytes\", \"version\"]] = dataset.obs[[\"AvgSpotLen\", \"Bases\", \"Bytes\", \"version\"]].astype(\"str\")"
   ]
  },
  {
   "cell_type": "code",
   "execution_count": null,
   "id": "99f95dca-cf68-4a51-8f53-ca088aa3167b",
   "metadata": {
    "execution": {
     "iopub.execute_input": "2023-05-15T09:05:46.626213Z",
     "iopub.status.busy": "2023-05-15T09:05:46.625806Z",
     "iopub.status.idle": "2023-05-15T09:05:53.258496Z",
     "shell.execute_reply": "2023-05-15T09:05:53.258003Z"
    },
    "papermill": {
     "duration": 6.636349,
     "end_time": "2023-05-15T09:05:53.260049",
     "exception": false,
     "start_time": "2023-05-15T09:05:46.623700",
     "status": "completed"
    },
    "tags": []
   },
   "outputs": [],
   "source": [
    "%%R -i dataset\n",
    "\n",
    "sce <- SingleCellExperiment(list(counts=dataset@assays@data[[\"soupX_counts\"]]),\n",
    "    colData=dataset@colData,\n",
    ")\n",
    "\n",
    "row.names(sce) <- row.names(dataset)\n",
    "\n",
    "data <- as.Seurat(sce, data = NULL)"
   ]
  },
  {
   "cell_type": "code",
   "execution_count": null,
   "id": "0b749876-ea5a-403c-8b0b-51afc8a633e3",
   "metadata": {
    "execution": {
     "iopub.execute_input": "2023-05-15T09:05:53.266700Z",
     "iopub.status.busy": "2023-05-15T09:05:53.266523Z",
     "iopub.status.idle": "2023-05-15T09:05:53.286686Z",
     "shell.execute_reply": "2023-05-15T09:05:53.286360Z"
    },
    "papermill": {
     "duration": 0.023396,
     "end_time": "2023-05-15T09:05:53.287538",
     "exception": false,
     "start_time": "2023-05-15T09:05:53.264142",
     "status": "completed"
    },
    "tags": []
   },
   "outputs": [],
   "source": [
    "%%R\n",
    "data"
   ]
  },
  {
   "cell_type": "code",
   "execution_count": null,
   "id": "b6b29b0e-92c4-4d4f-b835-c5e9d7d59455",
   "metadata": {
    "execution": {
     "iopub.execute_input": "2023-05-15T09:05:53.292747Z",
     "iopub.status.busy": "2023-05-15T09:05:53.292605Z",
     "iopub.status.idle": "2023-05-15T09:06:10.442703Z",
     "shell.execute_reply": "2023-05-15T09:06:10.442227Z"
    },
    "papermill": {
     "duration": 17.154335,
     "end_time": "2023-05-15T09:06:10.444223",
     "exception": false,
     "start_time": "2023-05-15T09:05:53.289888",
     "status": "completed"
    },
    "tags": []
   },
   "outputs": [],
   "source": [
    "%%R\n",
    "\n",
    "data <- NormalizeData(data)\n",
    "data <- ScaleData(data, features = row.names(data))\n",
    "data <- FindVariableFeatures(data)\n",
    "data <- RunPCA(data, verbose = F)\n",
    "data <- FindNeighbors(data, verbose = F)\n",
    "data <- FindClusters(data, verbose = F)\n",
    "data <- RunUMAP(data, dims = 1:20, verbose = F)"
   ]
  },
  {
   "cell_type": "code",
   "execution_count": null,
   "id": "40fa5cdd-01d7-4b40-90e6-0c97545b0711",
   "metadata": {
    "execution": {
     "iopub.execute_input": "2023-05-15T09:06:10.452001Z",
     "iopub.status.busy": "2023-05-15T09:06:10.451820Z",
     "iopub.status.idle": "2023-05-15T09:06:40.024233Z",
     "shell.execute_reply": "2023-05-15T09:06:40.023836Z"
    },
    "papermill": {
     "duration": 29.576398,
     "end_time": "2023-05-15T09:06:40.025254",
     "exception": false,
     "start_time": "2023-05-15T09:06:10.448856",
     "status": "completed"
    },
    "tags": []
   },
   "outputs": [],
   "source": [
    "%%R\n",
    "\n",
    "ref1 <- celldex::BlueprintEncodeData()\n",
    "ref2 <- celldex::MonacoImmuneData()\n",
    "cell_classification <- SingleR(test = as.SingleCellExperiment(data),\n",
    "                               ref = list(BPE = ref1, MON = ref2),\n",
    "                               labels = list(ref1$label.main, ref2$label.main))\n",
    "\n",
    "data[[\"SingleR_label\"]] <- cell_classification$labels\n",
    "\n",
    "plotScoreHeatmap(cell_classification)"
   ]
  },
  {
   "cell_type": "code",
   "execution_count": null,
   "id": "6ad7cf2f-891f-4c05-b34d-e47c84bbe27b",
   "metadata": {
    "execution": {
     "iopub.execute_input": "2023-05-15T09:06:40.035066Z",
     "iopub.status.busy": "2023-05-15T09:06:40.034911Z",
     "iopub.status.idle": "2023-05-15T09:06:40.530082Z",
     "shell.execute_reply": "2023-05-15T09:06:40.529663Z"
    },
    "papermill": {
     "duration": 0.500095,
     "end_time": "2023-05-15T09:06:40.531154",
     "exception": false,
     "start_time": "2023-05-15T09:06:40.031059",
     "status": "completed"
    },
    "tags": []
   },
   "outputs": [],
   "source": [
    "%%R -i sample_name\n",
    "\n",
    "write.csv(data@meta.data, paste0(sample_name, \"_metadata.csv\"))"
   ]
  }
 ],
 "metadata": {
  "kernelspec": {
   "display_name": "py_R",
   "language": "python",
   "name": "python_r"
  },
  "language_info": {
   "codemirror_mode": {
    "name": "ipython",
    "version": 3
   },
   "file_extension": ".py",
   "mimetype": "text/x-python",
   "name": "python",
   "nbconvert_exporter": "python",
   "pygments_lexer": "ipython3",
   "version": "3.10.9"
  },
  "papermill": {
   "default_parameters": {},
   "duration": 69.861703,
   "end_time": "2023-05-15T09:06:41.752879",
   "environment_variables": {},
   "exception": null,
   "input_path": "template.ipynb",
   "output_path": "SRR13329145.ipynb",
   "parameters": {
    "sample_name": "SRR13329145"
   },
   "start_time": "2023-05-15T09:05:31.891176",
   "version": "2.3.4"
  }
 },
 "nbformat": 4,
 "nbformat_minor": 5
}
