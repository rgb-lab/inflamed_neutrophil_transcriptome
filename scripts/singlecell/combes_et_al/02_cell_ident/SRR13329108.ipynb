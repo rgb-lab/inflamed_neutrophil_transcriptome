{
 "cells": [
  {
   "cell_type": "code",
   "execution_count": null,
   "id": "78a6243e-1906-4e3b-ae98-4b5bd21bd37c",
   "metadata": {
    "execution": {
     "iopub.execute_input": "2023-05-15T09:49:09.996414Z",
     "iopub.status.busy": "2023-05-15T09:49:09.996160Z",
     "iopub.status.idle": "2023-05-15T09:49:10.001325Z",
     "shell.execute_reply": "2023-05-15T09:49:10.000911Z"
    },
    "papermill": {
     "duration": 0.008721,
     "end_time": "2023-05-15T09:49:10.002156",
     "exception": false,
     "start_time": "2023-05-15T09:49:09.993435",
     "status": "completed"
    },
    "tags": [
     "parameters"
    ]
   },
   "outputs": [],
   "source": [
    "sample_name = \"SRR13329143\""
   ]
  },
  {
   "cell_type": "code",
   "execution_count": null,
   "id": "ca88cd93",
   "metadata": {
    "execution": {
     "iopub.execute_input": "2023-05-15T09:49:10.005790Z",
     "iopub.status.busy": "2023-05-15T09:49:10.005639Z",
     "iopub.status.idle": "2023-05-15T09:49:10.007754Z",
     "shell.execute_reply": "2023-05-15T09:49:10.007440Z"
    },
    "papermill": {
     "duration": 0.004786,
     "end_time": "2023-05-15T09:49:10.008559",
     "exception": false,
     "start_time": "2023-05-15T09:49:10.003773",
     "status": "completed"
    },
    "tags": [
     "injected-parameters"
    ]
   },
   "outputs": [],
   "source": [
    "# Parameters\n",
    "sample_name = \"SRR13329108\"\n"
   ]
  },
  {
   "cell_type": "code",
   "execution_count": null,
   "id": "487588d5-40a0-4c35-9cd9-ee9b3e2f1d4e",
   "metadata": {
    "execution": {
     "iopub.execute_input": "2023-05-15T09:49:10.012473Z",
     "iopub.status.busy": "2023-05-15T09:49:10.012127Z",
     "iopub.status.idle": "2023-05-15T09:49:10.014429Z",
     "shell.execute_reply": "2023-05-15T09:49:10.014118Z"
    },
    "papermill": {
     "duration": 0.005119,
     "end_time": "2023-05-15T09:49:10.015238",
     "exception": false,
     "start_time": "2023-05-15T09:49:10.010119",
     "status": "completed"
    },
    "tags": []
   },
   "outputs": [],
   "source": [
    "import warnings\n",
    "warnings.simplefilter(action='ignore', category=FutureWarning)\n",
    "warnings.simplefilter(action='ignore', category=UserWarning)"
   ]
  },
  {
   "cell_type": "code",
   "execution_count": null,
   "id": "5bba6a57-54cf-4720-8653-bf94afa536ad",
   "metadata": {
    "execution": {
     "iopub.execute_input": "2023-05-15T09:49:10.018817Z",
     "iopub.status.busy": "2023-05-15T09:49:10.018675Z",
     "iopub.status.idle": "2023-05-15T09:49:15.270648Z",
     "shell.execute_reply": "2023-05-15T09:49:15.270031Z"
    },
    "papermill": {
     "duration": 5.255478,
     "end_time": "2023-05-15T09:49:15.272232",
     "exception": false,
     "start_time": "2023-05-15T09:49:10.016754",
     "status": "completed"
    },
    "tags": []
   },
   "outputs": [],
   "source": [
    "import gc\n",
    "import scanpy as sc\n",
    "import muon as mu\n",
    "import seaborn as sns\n",
    "import os\n",
    "import pandas as pd\n",
    "from matplotlib import pyplot as plt\n",
    "\n",
    "os.environ['R_HOME'] = '/gpfs/bwfor/work/ws/hd_fu399-conda/conda/envs/python_R/lib/R/'\n",
    "import anndata2ri\n",
    "import logging\n",
    "\n",
    "import rpy2.rinterface_lib.callbacks as rcb\n",
    "import rpy2.robjects as ro\n",
    "\n",
    "rcb.logger.setLevel(logging.ERROR)\n",
    "ro.pandas2ri.activate()\n",
    "anndata2ri.activate()\n",
    "\n",
    "%load_ext rpy2.ipython"
   ]
  },
  {
   "cell_type": "code",
   "execution_count": null,
   "id": "0897f8ed-b086-4ddc-a32e-6ae638ff6d14",
   "metadata": {
    "execution": {
     "iopub.execute_input": "2023-05-15T09:49:15.280487Z",
     "iopub.status.busy": "2023-05-15T09:49:15.280138Z",
     "iopub.status.idle": "2023-05-15T09:49:24.412148Z",
     "shell.execute_reply": "2023-05-15T09:49:24.411258Z"
    },
    "papermill": {
     "duration": 9.136488,
     "end_time": "2023-05-15T09:49:24.413883",
     "exception": false,
     "start_time": "2023-05-15T09:49:15.277395",
     "status": "completed"
    },
    "tags": []
   },
   "outputs": [],
   "source": [
    "%%R\n",
    "\n",
    "suppressMessages(library(SeuratDisk))\n",
    "suppressMessages(library(SingleR))\n",
    "suppressMessages(library(Seurat))\n",
    "suppressMessages(library(SingleCellExperiment))\n",
    "suppressMessages(library(UCell))"
   ]
  },
  {
   "cell_type": "code",
   "execution_count": null,
   "id": "74c6b1b1-5af7-4955-a6cc-4532fc42a266",
   "metadata": {
    "execution": {
     "iopub.execute_input": "2023-05-15T09:49:24.420697Z",
     "iopub.status.busy": "2023-05-15T09:49:24.420246Z",
     "iopub.status.idle": "2023-05-15T09:49:25.122151Z",
     "shell.execute_reply": "2023-05-15T09:49:25.121616Z"
    },
    "papermill": {
     "duration": 0.705844,
     "end_time": "2023-05-15T09:49:25.123503",
     "exception": false,
     "start_time": "2023-05-15T09:49:24.417659",
     "status": "completed"
    },
    "tags": []
   },
   "outputs": [],
   "source": [
    "dataset = sc.read(f\"../../int_data/{sample_name}_qc.h5ad\")\n",
    "dataset.X = dataset.layers[\"soupX_counts\"]"
   ]
  },
  {
   "cell_type": "code",
   "execution_count": null,
   "id": "f2520f85-0ac2-4e0d-b7f1-e5b9ce4c769d",
   "metadata": {
    "execution": {
     "iopub.execute_input": "2023-05-15T09:49:25.128065Z",
     "iopub.status.busy": "2023-05-15T09:49:25.127902Z",
     "iopub.status.idle": "2023-05-15T09:49:25.141006Z",
     "shell.execute_reply": "2023-05-15T09:49:25.140655Z"
    },
    "papermill": {
     "duration": 0.016151,
     "end_time": "2023-05-15T09:49:25.141815",
     "exception": false,
     "start_time": "2023-05-15T09:49:25.125664",
     "status": "completed"
    },
    "tags": []
   },
   "outputs": [],
   "source": [
    "dataset.obs[[\"AvgSpotLen\", \"Bases\", \"Bytes\", \"version\"]] = dataset.obs[[\"AvgSpotLen\", \"Bases\", \"Bytes\", \"version\"]].astype(\"str\")"
   ]
  },
  {
   "cell_type": "code",
   "execution_count": null,
   "id": "99f95dca-cf68-4a51-8f53-ca088aa3167b",
   "metadata": {
    "execution": {
     "iopub.execute_input": "2023-05-15T09:49:25.145915Z",
     "iopub.status.busy": "2023-05-15T09:49:25.145626Z",
     "iopub.status.idle": "2023-05-15T09:49:34.531957Z",
     "shell.execute_reply": "2023-05-15T09:49:34.531447Z"
    },
    "papermill": {
     "duration": 9.389935,
     "end_time": "2023-05-15T09:49:34.533485",
     "exception": false,
     "start_time": "2023-05-15T09:49:25.143550",
     "status": "completed"
    },
    "tags": []
   },
   "outputs": [],
   "source": [
    "%%R -i dataset\n",
    "\n",
    "sce <- SingleCellExperiment(list(counts=dataset@assays@data[[\"soupX_counts\"]]),\n",
    "    colData=dataset@colData,\n",
    ")\n",
    "\n",
    "row.names(sce) <- row.names(dataset)\n",
    "\n",
    "data <- as.Seurat(sce, data = NULL)"
   ]
  },
  {
   "cell_type": "code",
   "execution_count": null,
   "id": "0b749876-ea5a-403c-8b0b-51afc8a633e3",
   "metadata": {
    "execution": {
     "iopub.execute_input": "2023-05-15T09:49:34.540396Z",
     "iopub.status.busy": "2023-05-15T09:49:34.540241Z",
     "iopub.status.idle": "2023-05-15T09:49:34.560221Z",
     "shell.execute_reply": "2023-05-15T09:49:34.559879Z"
    },
    "papermill": {
     "duration": 0.023148,
     "end_time": "2023-05-15T09:49:34.561036",
     "exception": false,
     "start_time": "2023-05-15T09:49:34.537888",
     "status": "completed"
    },
    "tags": []
   },
   "outputs": [],
   "source": [
    "%%R\n",
    "data"
   ]
  },
  {
   "cell_type": "code",
   "execution_count": null,
   "id": "b6b29b0e-92c4-4d4f-b835-c5e9d7d59455",
   "metadata": {
    "execution": {
     "iopub.execute_input": "2023-05-15T09:49:34.566582Z",
     "iopub.status.busy": "2023-05-15T09:49:34.566329Z",
     "iopub.status.idle": "2023-05-15T09:50:04.941615Z",
     "shell.execute_reply": "2023-05-15T09:50:04.941085Z"
    },
    "papermill": {
     "duration": 30.379406,
     "end_time": "2023-05-15T09:50:04.942919",
     "exception": false,
     "start_time": "2023-05-15T09:49:34.563513",
     "status": "completed"
    },
    "tags": []
   },
   "outputs": [],
   "source": [
    "%%R\n",
    "\n",
    "data <- NormalizeData(data)\n",
    "data <- ScaleData(data, features = row.names(data))\n",
    "data <- FindVariableFeatures(data)\n",
    "data <- RunPCA(data, verbose = F)\n",
    "data <- FindNeighbors(data, verbose = F)\n",
    "data <- FindClusters(data, verbose = F)\n",
    "data <- RunUMAP(data, dims = 1:20, verbose = F)"
   ]
  },
  {
   "cell_type": "code",
   "execution_count": null,
   "id": "40fa5cdd-01d7-4b40-90e6-0c97545b0711",
   "metadata": {
    "execution": {
     "iopub.execute_input": "2023-05-15T09:50:04.950879Z",
     "iopub.status.busy": "2023-05-15T09:50:04.950707Z",
     "iopub.status.idle": "2023-05-15T09:50:54.713409Z",
     "shell.execute_reply": "2023-05-15T09:50:54.712919Z"
    },
    "papermill": {
     "duration": 49.771549,
     "end_time": "2023-05-15T09:50:54.719067",
     "exception": false,
     "start_time": "2023-05-15T09:50:04.947518",
     "status": "completed"
    },
    "tags": []
   },
   "outputs": [],
   "source": [
    "%%R\n",
    "\n",
    "ref1 <- celldex::BlueprintEncodeData()\n",
    "ref2 <- celldex::MonacoImmuneData()\n",
    "cell_classification <- SingleR(test = as.SingleCellExperiment(data),\n",
    "                               ref = list(BPE = ref1, MON = ref2),\n",
    "                               labels = list(ref1$label.main, ref2$label.main))\n",
    "\n",
    "data[[\"SingleR_label\"]] <- cell_classification$labels\n",
    "\n",
    "plotScoreHeatmap(cell_classification)"
   ]
  },
  {
   "cell_type": "code",
   "execution_count": null,
   "id": "6ad7cf2f-891f-4c05-b34d-e47c84bbe27b",
   "metadata": {
    "execution": {
     "iopub.execute_input": "2023-05-15T09:50:54.726715Z",
     "iopub.status.busy": "2023-05-15T09:50:54.726397Z",
     "iopub.status.idle": "2023-05-15T09:50:55.157430Z",
     "shell.execute_reply": "2023-05-15T09:50:55.156989Z"
    },
    "papermill": {
     "duration": 0.436178,
     "end_time": "2023-05-15T09:50:55.158587",
     "exception": false,
     "start_time": "2023-05-15T09:50:54.722409",
     "status": "completed"
    },
    "tags": []
   },
   "outputs": [],
   "source": [
    "%%R -i sample_name\n",
    "\n",
    "write.csv(data@meta.data, paste0(sample_name, \"_metadata.csv\"))"
   ]
  }
 ],
 "metadata": {
  "kernelspec": {
   "display_name": "py_R",
   "language": "python",
   "name": "python_r"
  },
  "language_info": {
   "codemirror_mode": {
    "name": "ipython",
    "version": 3
   },
   "file_extension": ".py",
   "mimetype": "text/x-python",
   "name": "python",
   "nbconvert_exporter": "python",
   "pygments_lexer": "ipython3",
   "version": "3.10.9"
  },
  "papermill": {
   "default_parameters": {},
   "duration": 107.77949,
   "end_time": "2023-05-15T09:50:56.480249",
   "environment_variables": {},
   "exception": null,
   "input_path": "template.ipynb",
   "output_path": "SRR13329108.ipynb",
   "parameters": {
    "sample_name": "SRR13329108"
   },
   "start_time": "2023-05-15T09:49:08.700759",
   "version": "2.3.4"
  }
 },
 "nbformat": 4,
 "nbformat_minor": 5
}
