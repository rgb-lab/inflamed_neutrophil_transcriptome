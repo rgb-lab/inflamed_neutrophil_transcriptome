{
 "cells": [
  {
   "cell_type": "code",
   "execution_count": null,
   "id": "78a6243e-1906-4e3b-ae98-4b5bd21bd37c",
   "metadata": {
    "execution": {
     "iopub.execute_input": "2023-05-15T08:55:09.417958Z",
     "iopub.status.busy": "2023-05-15T08:55:09.417789Z",
     "iopub.status.idle": "2023-05-15T08:55:09.422411Z",
     "shell.execute_reply": "2023-05-15T08:55:09.422047Z"
    },
    "papermill": {
     "duration": 0.0087,
     "end_time": "2023-05-15T08:55:09.423344",
     "exception": false,
     "start_time": "2023-05-15T08:55:09.414644",
     "status": "completed"
    },
    "tags": [
     "parameters"
    ]
   },
   "outputs": [],
   "source": [
    "sample_name = \"SRR13329143\""
   ]
  },
  {
   "cell_type": "code",
   "execution_count": null,
   "id": "ee4f5a1c",
   "metadata": {
    "execution": {
     "iopub.execute_input": "2023-05-15T08:55:09.427001Z",
     "iopub.status.busy": "2023-05-15T08:55:09.426851Z",
     "iopub.status.idle": "2023-05-15T08:55:09.429065Z",
     "shell.execute_reply": "2023-05-15T08:55:09.428761Z"
    },
    "papermill": {
     "duration": 0.004903,
     "end_time": "2023-05-15T08:55:09.429911",
     "exception": false,
     "start_time": "2023-05-15T08:55:09.425008",
     "status": "completed"
    },
    "tags": [
     "injected-parameters"
    ]
   },
   "outputs": [],
   "source": [
    "# Parameters\n",
    "sample_name = \"SRR13329122\"\n"
   ]
  },
  {
   "cell_type": "code",
   "execution_count": null,
   "id": "487588d5-40a0-4c35-9cd9-ee9b3e2f1d4e",
   "metadata": {
    "execution": {
     "iopub.execute_input": "2023-05-15T08:55:09.433574Z",
     "iopub.status.busy": "2023-05-15T08:55:09.433304Z",
     "iopub.status.idle": "2023-05-15T08:55:09.435471Z",
     "shell.execute_reply": "2023-05-15T08:55:09.435174Z"
    },
    "papermill": {
     "duration": 0.004897,
     "end_time": "2023-05-15T08:55:09.436290",
     "exception": false,
     "start_time": "2023-05-15T08:55:09.431393",
     "status": "completed"
    },
    "tags": []
   },
   "outputs": [],
   "source": [
    "import warnings\n",
    "warnings.simplefilter(action='ignore', category=FutureWarning)\n",
    "warnings.simplefilter(action='ignore', category=UserWarning)"
   ]
  },
  {
   "cell_type": "code",
   "execution_count": null,
   "id": "5bba6a57-54cf-4720-8653-bf94afa536ad",
   "metadata": {
    "execution": {
     "iopub.execute_input": "2023-05-15T08:55:09.440063Z",
     "iopub.status.busy": "2023-05-15T08:55:09.439766Z",
     "iopub.status.idle": "2023-05-15T08:55:13.676008Z",
     "shell.execute_reply": "2023-05-15T08:55:13.675570Z"
    },
    "papermill": {
     "duration": 4.239808,
     "end_time": "2023-05-15T08:55:13.677617",
     "exception": false,
     "start_time": "2023-05-15T08:55:09.437809",
     "status": "completed"
    },
    "tags": []
   },
   "outputs": [],
   "source": [
    "import gc\n",
    "import scanpy as sc\n",
    "import muon as mu\n",
    "import seaborn as sns\n",
    "import os\n",
    "import pandas as pd\n",
    "from matplotlib import pyplot as plt\n",
    "\n",
    "os.environ['R_HOME'] = '/gpfs/bwfor/work/ws/hd_fu399-conda/conda/envs/python_R/lib/R/'\n",
    "import anndata2ri\n",
    "import logging\n",
    "\n",
    "import rpy2.rinterface_lib.callbacks as rcb\n",
    "import rpy2.robjects as ro\n",
    "\n",
    "rcb.logger.setLevel(logging.ERROR)\n",
    "ro.pandas2ri.activate()\n",
    "anndata2ri.activate()\n",
    "\n",
    "%load_ext rpy2.ipython"
   ]
  },
  {
   "cell_type": "code",
   "execution_count": null,
   "id": "0897f8ed-b086-4ddc-a32e-6ae638ff6d14",
   "metadata": {
    "execution": {
     "iopub.execute_input": "2023-05-15T08:55:13.682534Z",
     "iopub.status.busy": "2023-05-15T08:55:13.682224Z",
     "iopub.status.idle": "2023-05-15T08:55:21.205753Z",
     "shell.execute_reply": "2023-05-15T08:55:21.205261Z"
    },
    "papermill": {
     "duration": 7.527455,
     "end_time": "2023-05-15T08:55:21.207299",
     "exception": false,
     "start_time": "2023-05-15T08:55:13.679844",
     "status": "completed"
    },
    "tags": []
   },
   "outputs": [],
   "source": [
    "%%R\n",
    "\n",
    "suppressMessages(library(SeuratDisk))\n",
    "suppressMessages(library(SingleR))\n",
    "suppressMessages(library(Seurat))\n",
    "suppressMessages(library(SingleCellExperiment))\n",
    "suppressMessages(library(UCell))"
   ]
  },
  {
   "cell_type": "code",
   "execution_count": null,
   "id": "74c6b1b1-5af7-4955-a6cc-4532fc42a266",
   "metadata": {
    "execution": {
     "iopub.execute_input": "2023-05-15T08:55:21.214434Z",
     "iopub.status.busy": "2023-05-15T08:55:21.214167Z",
     "iopub.status.idle": "2023-05-15T08:55:21.506294Z",
     "shell.execute_reply": "2023-05-15T08:55:21.505824Z"
    },
    "papermill": {
     "duration": 0.296264,
     "end_time": "2023-05-15T08:55:21.507861",
     "exception": false,
     "start_time": "2023-05-15T08:55:21.211597",
     "status": "completed"
    },
    "tags": []
   },
   "outputs": [],
   "source": [
    "dataset = sc.read(f\"../../int_data/{sample_name}_qc.h5ad\")\n",
    "dataset.X = dataset.layers[\"soupX_counts\"]"
   ]
  },
  {
   "cell_type": "code",
   "execution_count": null,
   "id": "f2520f85-0ac2-4e0d-b7f1-e5b9ce4c769d",
   "metadata": {
    "execution": {
     "iopub.execute_input": "2023-05-15T08:55:21.513052Z",
     "iopub.status.busy": "2023-05-15T08:55:21.512698Z",
     "iopub.status.idle": "2023-05-15T08:55:21.519463Z",
     "shell.execute_reply": "2023-05-15T08:55:21.519146Z"
    },
    "papermill": {
     "duration": 0.010058,
     "end_time": "2023-05-15T08:55:21.520302",
     "exception": false,
     "start_time": "2023-05-15T08:55:21.510244",
     "status": "completed"
    },
    "tags": []
   },
   "outputs": [],
   "source": [
    "dataset.obs[[\"AvgSpotLen\", \"Bases\", \"Bytes\", \"version\"]] = dataset.obs[[\"AvgSpotLen\", \"Bases\", \"Bytes\", \"version\"]].astype(\"str\")"
   ]
  },
  {
   "cell_type": "code",
   "execution_count": null,
   "id": "99f95dca-cf68-4a51-8f53-ca088aa3167b",
   "metadata": {
    "execution": {
     "iopub.execute_input": "2023-05-15T08:55:21.524241Z",
     "iopub.status.busy": "2023-05-15T08:55:21.524060Z",
     "iopub.status.idle": "2023-05-15T08:55:28.092930Z",
     "shell.execute_reply": "2023-05-15T08:55:28.092362Z"
    },
    "papermill": {
     "duration": 6.572564,
     "end_time": "2023-05-15T08:55:28.094509",
     "exception": false,
     "start_time": "2023-05-15T08:55:21.521945",
     "status": "completed"
    },
    "tags": []
   },
   "outputs": [],
   "source": [
    "%%R -i dataset\n",
    "\n",
    "sce <- SingleCellExperiment(list(counts=dataset@assays@data[[\"soupX_counts\"]]),\n",
    "    colData=dataset@colData,\n",
    ")\n",
    "\n",
    "row.names(sce) <- row.names(dataset)\n",
    "\n",
    "data <- as.Seurat(sce, data = NULL)"
   ]
  },
  {
   "cell_type": "code",
   "execution_count": null,
   "id": "0b749876-ea5a-403c-8b0b-51afc8a633e3",
   "metadata": {
    "execution": {
     "iopub.execute_input": "2023-05-15T08:55:28.099725Z",
     "iopub.status.busy": "2023-05-15T08:55:28.099414Z",
     "iopub.status.idle": "2023-05-15T08:55:28.119301Z",
     "shell.execute_reply": "2023-05-15T08:55:28.118972Z"
    },
    "papermill": {
     "duration": 0.023276,
     "end_time": "2023-05-15T08:55:28.120150",
     "exception": false,
     "start_time": "2023-05-15T08:55:28.096874",
     "status": "completed"
    },
    "tags": []
   },
   "outputs": [],
   "source": [
    "%%R\n",
    "data"
   ]
  },
  {
   "cell_type": "code",
   "execution_count": null,
   "id": "b6b29b0e-92c4-4d4f-b835-c5e9d7d59455",
   "metadata": {
    "execution": {
     "iopub.execute_input": "2023-05-15T08:55:28.126073Z",
     "iopub.status.busy": "2023-05-15T08:55:28.125756Z",
     "iopub.status.idle": "2023-05-15T08:55:39.483804Z",
     "shell.execute_reply": "2023-05-15T08:55:39.483320Z"
    },
    "papermill": {
     "duration": 11.362405,
     "end_time": "2023-05-15T08:55:39.485329",
     "exception": false,
     "start_time": "2023-05-15T08:55:28.122924",
     "status": "completed"
    },
    "tags": []
   },
   "outputs": [],
   "source": [
    "%%R\n",
    "\n",
    "data <- NormalizeData(data)\n",
    "data <- ScaleData(data, features = row.names(data))\n",
    "data <- FindVariableFeatures(data)\n",
    "data <- RunPCA(data, verbose = F)\n",
    "data <- FindNeighbors(data, verbose = F)\n",
    "data <- FindClusters(data, verbose = F)\n",
    "data <- RunUMAP(data, dims = 1:20, verbose = F)"
   ]
  },
  {
   "cell_type": "code",
   "execution_count": null,
   "id": "40fa5cdd-01d7-4b40-90e6-0c97545b0711",
   "metadata": {
    "execution": {
     "iopub.execute_input": "2023-05-15T08:55:39.493809Z",
     "iopub.status.busy": "2023-05-15T08:55:39.493613Z",
     "iopub.status.idle": "2023-05-15T08:56:04.782555Z",
     "shell.execute_reply": "2023-05-15T08:56:04.782166Z"
    },
    "papermill": {
     "duration": 25.293102,
     "end_time": "2023-05-15T08:56:04.783542",
     "exception": false,
     "start_time": "2023-05-15T08:55:39.490440",
     "status": "completed"
    },
    "tags": []
   },
   "outputs": [],
   "source": [
    "%%R\n",
    "\n",
    "ref1 <- celldex::BlueprintEncodeData()\n",
    "ref2 <- celldex::MonacoImmuneData()\n",
    "cell_classification <- SingleR(test = as.SingleCellExperiment(data),\n",
    "                               ref = list(BPE = ref1, MON = ref2),\n",
    "                               labels = list(ref1$label.main, ref2$label.main))\n",
    "\n",
    "data[[\"SingleR_label\"]] <- cell_classification$labels\n",
    "\n",
    "plotScoreHeatmap(cell_classification)"
   ]
  },
  {
   "cell_type": "code",
   "execution_count": null,
   "id": "6ad7cf2f-891f-4c05-b34d-e47c84bbe27b",
   "metadata": {
    "execution": {
     "iopub.execute_input": "2023-05-15T08:56:04.793269Z",
     "iopub.status.busy": "2023-05-15T08:56:04.792934Z",
     "iopub.status.idle": "2023-05-15T08:56:04.839111Z",
     "shell.execute_reply": "2023-05-15T08:56:04.838691Z"
    },
    "papermill": {
     "duration": 0.051073,
     "end_time": "2023-05-15T08:56:04.840258",
     "exception": false,
     "start_time": "2023-05-15T08:56:04.789185",
     "status": "completed"
    },
    "tags": []
   },
   "outputs": [],
   "source": [
    "%%R -i sample_name\n",
    "\n",
    "write.csv(data@meta.data, paste0(sample_name, \"_metadata.csv\"))"
   ]
  }
 ],
 "metadata": {
  "kernelspec": {
   "display_name": "py_R",
   "language": "python",
   "name": "python_r"
  },
  "language_info": {
   "codemirror_mode": {
    "name": "ipython",
    "version": 3
   },
   "file_extension": ".py",
   "mimetype": "text/x-python",
   "name": "python",
   "nbconvert_exporter": "python",
   "pygments_lexer": "ipython3",
   "version": "3.10.9"
  },
  "papermill": {
   "default_parameters": {},
   "duration": 57.939291,
   "end_time": "2023-05-15T08:56:06.062319",
   "environment_variables": {},
   "exception": null,
   "input_path": "template.ipynb",
   "output_path": "SRR13329122.ipynb",
   "parameters": {
    "sample_name": "SRR13329122"
   },
   "start_time": "2023-05-15T08:55:08.123028",
   "version": "2.3.4"
  }
 },
 "nbformat": 4,
 "nbformat_minor": 5
}
