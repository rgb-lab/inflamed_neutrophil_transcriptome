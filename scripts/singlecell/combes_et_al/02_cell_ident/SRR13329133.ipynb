{
 "cells": [
  {
   "cell_type": "code",
   "execution_count": null,
   "id": "78a6243e-1906-4e3b-ae98-4b5bd21bd37c",
   "metadata": {
    "execution": {
     "iopub.execute_input": "2023-05-15T09:42:52.982087Z",
     "iopub.status.busy": "2023-05-15T09:42:52.981906Z",
     "iopub.status.idle": "2023-05-15T09:42:52.986659Z",
     "shell.execute_reply": "2023-05-15T09:42:52.986276Z"
    },
    "papermill": {
     "duration": 0.008391,
     "end_time": "2023-05-15T09:42:52.987615",
     "exception": false,
     "start_time": "2023-05-15T09:42:52.979224",
     "status": "completed"
    },
    "tags": [
     "parameters"
    ]
   },
   "outputs": [],
   "source": [
    "sample_name = \"SRR13329143\""
   ]
  },
  {
   "cell_type": "code",
   "execution_count": null,
   "id": "a410191f",
   "metadata": {
    "execution": {
     "iopub.execute_input": "2023-05-15T09:42:52.991204Z",
     "iopub.status.busy": "2023-05-15T09:42:52.991044Z",
     "iopub.status.idle": "2023-05-15T09:42:52.993125Z",
     "shell.execute_reply": "2023-05-15T09:42:52.992808Z"
    },
    "papermill": {
     "duration": 0.004813,
     "end_time": "2023-05-15T09:42:52.993962",
     "exception": false,
     "start_time": "2023-05-15T09:42:52.989149",
     "status": "completed"
    },
    "tags": [
     "injected-parameters"
    ]
   },
   "outputs": [],
   "source": [
    "# Parameters\n",
    "sample_name = \"SRR13329133\"\n"
   ]
  },
  {
   "cell_type": "code",
   "execution_count": null,
   "id": "487588d5-40a0-4c35-9cd9-ee9b3e2f1d4e",
   "metadata": {
    "execution": {
     "iopub.execute_input": "2023-05-15T09:42:52.997446Z",
     "iopub.status.busy": "2023-05-15T09:42:52.997222Z",
     "iopub.status.idle": "2023-05-15T09:42:52.999365Z",
     "shell.execute_reply": "2023-05-15T09:42:52.999061Z"
    },
    "papermill": {
     "duration": 0.004817,
     "end_time": "2023-05-15T09:42:53.000208",
     "exception": false,
     "start_time": "2023-05-15T09:42:52.995391",
     "status": "completed"
    },
    "tags": []
   },
   "outputs": [],
   "source": [
    "import warnings\n",
    "warnings.simplefilter(action='ignore', category=FutureWarning)\n",
    "warnings.simplefilter(action='ignore', category=UserWarning)"
   ]
  },
  {
   "cell_type": "code",
   "execution_count": null,
   "id": "5bba6a57-54cf-4720-8653-bf94afa536ad",
   "metadata": {
    "execution": {
     "iopub.execute_input": "2023-05-15T09:42:53.003793Z",
     "iopub.status.busy": "2023-05-15T09:42:53.003552Z",
     "iopub.status.idle": "2023-05-15T09:42:57.973085Z",
     "shell.execute_reply": "2023-05-15T09:42:57.972586Z"
    },
    "papermill": {
     "duration": 4.972833,
     "end_time": "2023-05-15T09:42:57.974481",
     "exception": false,
     "start_time": "2023-05-15T09:42:53.001648",
     "status": "completed"
    },
    "tags": []
   },
   "outputs": [],
   "source": [
    "import gc\n",
    "import scanpy as sc\n",
    "import muon as mu\n",
    "import seaborn as sns\n",
    "import os\n",
    "import pandas as pd\n",
    "from matplotlib import pyplot as plt\n",
    "\n",
    "os.environ['R_HOME'] = '/gpfs/bwfor/work/ws/hd_fu399-conda/conda/envs/python_R/lib/R/'\n",
    "import anndata2ri\n",
    "import logging\n",
    "\n",
    "import rpy2.rinterface_lib.callbacks as rcb\n",
    "import rpy2.robjects as ro\n",
    "\n",
    "rcb.logger.setLevel(logging.ERROR)\n",
    "ro.pandas2ri.activate()\n",
    "anndata2ri.activate()\n",
    "\n",
    "%load_ext rpy2.ipython"
   ]
  },
  {
   "cell_type": "code",
   "execution_count": null,
   "id": "0897f8ed-b086-4ddc-a32e-6ae638ff6d14",
   "metadata": {
    "execution": {
     "iopub.execute_input": "2023-05-15T09:42:57.979244Z",
     "iopub.status.busy": "2023-05-15T09:42:57.978916Z",
     "iopub.status.idle": "2023-05-15T09:43:07.343760Z",
     "shell.execute_reply": "2023-05-15T09:43:07.343113Z"
    },
    "papermill": {
     "duration": 9.368629,
     "end_time": "2023-05-15T09:43:07.345393",
     "exception": false,
     "start_time": "2023-05-15T09:42:57.976764",
     "status": "completed"
    },
    "tags": []
   },
   "outputs": [],
   "source": [
    "%%R\n",
    "\n",
    "suppressMessages(library(SeuratDisk))\n",
    "suppressMessages(library(SingleR))\n",
    "suppressMessages(library(Seurat))\n",
    "suppressMessages(library(SingleCellExperiment))\n",
    "suppressMessages(library(UCell))"
   ]
  },
  {
   "cell_type": "code",
   "execution_count": null,
   "id": "74c6b1b1-5af7-4955-a6cc-4532fc42a266",
   "metadata": {
    "execution": {
     "iopub.execute_input": "2023-05-15T09:43:07.351598Z",
     "iopub.status.busy": "2023-05-15T09:43:07.351415Z",
     "iopub.status.idle": "2023-05-15T09:43:07.509742Z",
     "shell.execute_reply": "2023-05-15T09:43:07.509277Z"
    },
    "papermill": {
     "duration": 0.162258,
     "end_time": "2023-05-15T09:43:07.511273",
     "exception": false,
     "start_time": "2023-05-15T09:43:07.349015",
     "status": "completed"
    },
    "tags": []
   },
   "outputs": [],
   "source": [
    "dataset = sc.read(f\"../../int_data/{sample_name}_qc.h5ad\")\n",
    "dataset.X = dataset.layers[\"soupX_counts\"]"
   ]
  },
  {
   "cell_type": "code",
   "execution_count": null,
   "id": "f2520f85-0ac2-4e0d-b7f1-e5b9ce4c769d",
   "metadata": {
    "execution": {
     "iopub.execute_input": "2023-05-15T09:43:07.515805Z",
     "iopub.status.busy": "2023-05-15T09:43:07.515653Z",
     "iopub.status.idle": "2023-05-15T09:43:07.521749Z",
     "shell.execute_reply": "2023-05-15T09:43:07.521404Z"
    },
    "papermill": {
     "duration": 0.009081,
     "end_time": "2023-05-15T09:43:07.522541",
     "exception": false,
     "start_time": "2023-05-15T09:43:07.513460",
     "status": "completed"
    },
    "tags": []
   },
   "outputs": [],
   "source": [
    "dataset.obs[[\"AvgSpotLen\", \"Bases\", \"Bytes\", \"version\"]] = dataset.obs[[\"AvgSpotLen\", \"Bases\", \"Bytes\", \"version\"]].astype(\"str\")"
   ]
  },
  {
   "cell_type": "code",
   "execution_count": null,
   "id": "99f95dca-cf68-4a51-8f53-ca088aa3167b",
   "metadata": {
    "execution": {
     "iopub.execute_input": "2023-05-15T09:43:07.526403Z",
     "iopub.status.busy": "2023-05-15T09:43:07.526139Z",
     "iopub.status.idle": "2023-05-15T09:43:12.406808Z",
     "shell.execute_reply": "2023-05-15T09:43:12.406231Z"
    },
    "papermill": {
     "duration": 4.884241,
     "end_time": "2023-05-15T09:43:12.408382",
     "exception": false,
     "start_time": "2023-05-15T09:43:07.524141",
     "status": "completed"
    },
    "tags": []
   },
   "outputs": [],
   "source": [
    "%%R -i dataset\n",
    "\n",
    "sce <- SingleCellExperiment(list(counts=dataset@assays@data[[\"soupX_counts\"]]),\n",
    "    colData=dataset@colData,\n",
    ")\n",
    "\n",
    "row.names(sce) <- row.names(dataset)\n",
    "\n",
    "data <- as.Seurat(sce, data = NULL)"
   ]
  },
  {
   "cell_type": "code",
   "execution_count": null,
   "id": "0b749876-ea5a-403c-8b0b-51afc8a633e3",
   "metadata": {
    "execution": {
     "iopub.execute_input": "2023-05-15T09:43:12.413170Z",
     "iopub.status.busy": "2023-05-15T09:43:12.413007Z",
     "iopub.status.idle": "2023-05-15T09:43:12.433004Z",
     "shell.execute_reply": "2023-05-15T09:43:12.432669Z"
    },
    "papermill": {
     "duration": 0.023139,
     "end_time": "2023-05-15T09:43:12.433876",
     "exception": false,
     "start_time": "2023-05-15T09:43:12.410737",
     "status": "completed"
    },
    "tags": []
   },
   "outputs": [],
   "source": [
    "%%R\n",
    "data"
   ]
  },
  {
   "cell_type": "code",
   "execution_count": null,
   "id": "b6b29b0e-92c4-4d4f-b835-c5e9d7d59455",
   "metadata": {
    "execution": {
     "iopub.execute_input": "2023-05-15T09:43:12.439222Z",
     "iopub.status.busy": "2023-05-15T09:43:12.438986Z",
     "iopub.status.idle": "2023-05-15T09:43:21.725026Z",
     "shell.execute_reply": "2023-05-15T09:43:21.724498Z"
    },
    "papermill": {
     "duration": 9.290279,
     "end_time": "2023-05-15T09:43:21.726546",
     "exception": false,
     "start_time": "2023-05-15T09:43:12.436267",
     "status": "completed"
    },
    "tags": []
   },
   "outputs": [],
   "source": [
    "%%R\n",
    "\n",
    "data <- NormalizeData(data)\n",
    "data <- ScaleData(data, features = row.names(data))\n",
    "data <- FindVariableFeatures(data)\n",
    "data <- RunPCA(data, verbose = F)\n",
    "data <- FindNeighbors(data, verbose = F)\n",
    "data <- FindClusters(data, verbose = F)\n",
    "data <- RunUMAP(data, dims = 1:20, verbose = F)"
   ]
  },
  {
   "cell_type": "code",
   "execution_count": null,
   "id": "40fa5cdd-01d7-4b40-90e6-0c97545b0711",
   "metadata": {
    "execution": {
     "iopub.execute_input": "2023-05-15T09:43:21.734249Z",
     "iopub.status.busy": "2023-05-15T09:43:21.734066Z",
     "iopub.status.idle": "2023-05-15T09:43:41.951701Z",
     "shell.execute_reply": "2023-05-15T09:43:41.951194Z"
    },
    "papermill": {
     "duration": 20.221982,
     "end_time": "2023-05-15T09:43:41.952971",
     "exception": false,
     "start_time": "2023-05-15T09:43:21.730989",
     "status": "completed"
    },
    "tags": []
   },
   "outputs": [],
   "source": [
    "%%R\n",
    "\n",
    "ref1 <- celldex::BlueprintEncodeData()\n",
    "ref2 <- celldex::MonacoImmuneData()\n",
    "cell_classification <- SingleR(test = as.SingleCellExperiment(data),\n",
    "                               ref = list(BPE = ref1, MON = ref2),\n",
    "                               labels = list(ref1$label.main, ref2$label.main))\n",
    "\n",
    "data[[\"SingleR_label\"]] <- cell_classification$labels\n",
    "\n",
    "plotScoreHeatmap(cell_classification)"
   ]
  },
  {
   "cell_type": "code",
   "execution_count": null,
   "id": "6ad7cf2f-891f-4c05-b34d-e47c84bbe27b",
   "metadata": {
    "execution": {
     "iopub.execute_input": "2023-05-15T09:43:41.963047Z",
     "iopub.status.busy": "2023-05-15T09:43:41.962878Z",
     "iopub.status.idle": "2023-05-15T09:43:42.292340Z",
     "shell.execute_reply": "2023-05-15T09:43:42.291934Z"
    },
    "papermill": {
     "duration": 0.33473,
     "end_time": "2023-05-15T09:43:42.293584",
     "exception": false,
     "start_time": "2023-05-15T09:43:41.958854",
     "status": "completed"
    },
    "tags": []
   },
   "outputs": [],
   "source": [
    "%%R -i sample_name\n",
    "\n",
    "write.csv(data@meta.data, paste0(sample_name, \"_metadata.csv\"))"
   ]
  }
 ],
 "metadata": {
  "kernelspec": {
   "display_name": "py_R",
   "language": "python",
   "name": "python_r"
  },
  "language_info": {
   "codemirror_mode": {
    "name": "ipython",
    "version": 3
   },
   "file_extension": ".py",
   "mimetype": "text/x-python",
   "name": "python",
   "nbconvert_exporter": "python",
   "pygments_lexer": "ipython3",
   "version": "3.10.9"
  },
  "papermill": {
   "default_parameters": {},
   "duration": 51.808837,
   "end_time": "2023-05-15T09:43:43.617240",
   "environment_variables": {},
   "exception": null,
   "input_path": "template.ipynb",
   "output_path": "SRR13329133.ipynb",
   "parameters": {
    "sample_name": "SRR13329133"
   },
   "start_time": "2023-05-15T09:42:51.808403",
   "version": "2.3.4"
  }
 },
 "nbformat": 4,
 "nbformat_minor": 5
}
