{
 "cells": [
  {
   "cell_type": "code",
   "execution_count": null,
   "id": "78a6243e-1906-4e3b-ae98-4b5bd21bd37c",
   "metadata": {
    "execution": {
     "iopub.execute_input": "2023-05-15T09:18:42.443496Z",
     "iopub.status.busy": "2023-05-15T09:18:42.443331Z",
     "iopub.status.idle": "2023-05-15T09:18:42.447760Z",
     "shell.execute_reply": "2023-05-15T09:18:42.447452Z"
    },
    "papermill": {
     "duration": 0.008386,
     "end_time": "2023-05-15T09:18:42.448537",
     "exception": false,
     "start_time": "2023-05-15T09:18:42.440151",
     "status": "completed"
    },
    "tags": [
     "parameters"
    ]
   },
   "outputs": [],
   "source": [
    "sample_name = \"SRR13329143\""
   ]
  },
  {
   "cell_type": "code",
   "execution_count": null,
   "id": "575ac3a5",
   "metadata": {
    "execution": {
     "iopub.execute_input": "2023-05-15T09:18:42.451911Z",
     "iopub.status.busy": "2023-05-15T09:18:42.451691Z",
     "iopub.status.idle": "2023-05-15T09:18:42.453791Z",
     "shell.execute_reply": "2023-05-15T09:18:42.453502Z"
    },
    "papermill": {
     "duration": 0.004626,
     "end_time": "2023-05-15T09:18:42.454627",
     "exception": false,
     "start_time": "2023-05-15T09:18:42.450001",
     "status": "completed"
    },
    "tags": [
     "injected-parameters"
    ]
   },
   "outputs": [],
   "source": [
    "# Parameters\n",
    "sample_name = \"SRR13329120\"\n"
   ]
  },
  {
   "cell_type": "code",
   "execution_count": null,
   "id": "487588d5-40a0-4c35-9cd9-ee9b3e2f1d4e",
   "metadata": {
    "execution": {
     "iopub.execute_input": "2023-05-15T09:18:42.458050Z",
     "iopub.status.busy": "2023-05-15T09:18:42.457753Z",
     "iopub.status.idle": "2023-05-15T09:18:42.460012Z",
     "shell.execute_reply": "2023-05-15T09:18:42.459705Z"
    },
    "papermill": {
     "duration": 0.004767,
     "end_time": "2023-05-15T09:18:42.460762",
     "exception": false,
     "start_time": "2023-05-15T09:18:42.455995",
     "status": "completed"
    },
    "tags": []
   },
   "outputs": [],
   "source": [
    "import warnings\n",
    "warnings.simplefilter(action='ignore', category=FutureWarning)\n",
    "warnings.simplefilter(action='ignore', category=UserWarning)"
   ]
  },
  {
   "cell_type": "code",
   "execution_count": null,
   "id": "5bba6a57-54cf-4720-8653-bf94afa536ad",
   "metadata": {
    "execution": {
     "iopub.execute_input": "2023-05-15T09:18:42.464072Z",
     "iopub.status.busy": "2023-05-15T09:18:42.463839Z",
     "iopub.status.idle": "2023-05-15T09:18:47.088618Z",
     "shell.execute_reply": "2023-05-15T09:18:47.088127Z"
    },
    "papermill": {
     "duration": 4.627809,
     "end_time": "2023-05-15T09:18:47.089932",
     "exception": false,
     "start_time": "2023-05-15T09:18:42.462123",
     "status": "completed"
    },
    "tags": []
   },
   "outputs": [],
   "source": [
    "import gc\n",
    "import scanpy as sc\n",
    "import muon as mu\n",
    "import seaborn as sns\n",
    "import os\n",
    "import pandas as pd\n",
    "from matplotlib import pyplot as plt\n",
    "\n",
    "os.environ['R_HOME'] = '/gpfs/bwfor/work/ws/hd_fu399-conda/conda/envs/python_R/lib/R/'\n",
    "import anndata2ri\n",
    "import logging\n",
    "\n",
    "import rpy2.rinterface_lib.callbacks as rcb\n",
    "import rpy2.robjects as ro\n",
    "\n",
    "rcb.logger.setLevel(logging.ERROR)\n",
    "ro.pandas2ri.activate()\n",
    "anndata2ri.activate()\n",
    "\n",
    "%load_ext rpy2.ipython"
   ]
  },
  {
   "cell_type": "code",
   "execution_count": null,
   "id": "0897f8ed-b086-4ddc-a32e-6ae638ff6d14",
   "metadata": {
    "execution": {
     "iopub.execute_input": "2023-05-15T09:18:47.094649Z",
     "iopub.status.busy": "2023-05-15T09:18:47.094329Z",
     "iopub.status.idle": "2023-05-15T09:18:55.636989Z",
     "shell.execute_reply": "2023-05-15T09:18:55.636460Z"
    },
    "papermill": {
     "duration": 8.546296,
     "end_time": "2023-05-15T09:18:55.638546",
     "exception": false,
     "start_time": "2023-05-15T09:18:47.092250",
     "status": "completed"
    },
    "tags": []
   },
   "outputs": [],
   "source": [
    "%%R\n",
    "\n",
    "suppressMessages(library(SeuratDisk))\n",
    "suppressMessages(library(SingleR))\n",
    "suppressMessages(library(Seurat))\n",
    "suppressMessages(library(SingleCellExperiment))\n",
    "suppressMessages(library(UCell))"
   ]
  },
  {
   "cell_type": "code",
   "execution_count": null,
   "id": "74c6b1b1-5af7-4955-a6cc-4532fc42a266",
   "metadata": {
    "execution": {
     "iopub.execute_input": "2023-05-15T09:18:55.645511Z",
     "iopub.status.busy": "2023-05-15T09:18:55.645342Z",
     "iopub.status.idle": "2023-05-15T09:18:56.017020Z",
     "shell.execute_reply": "2023-05-15T09:18:56.016543Z"
    },
    "papermill": {
     "duration": 0.375467,
     "end_time": "2023-05-15T09:18:56.018558",
     "exception": false,
     "start_time": "2023-05-15T09:18:55.643091",
     "status": "completed"
    },
    "tags": []
   },
   "outputs": [],
   "source": [
    "dataset = sc.read(f\"../../int_data/{sample_name}_qc.h5ad\")\n",
    "dataset.X = dataset.layers[\"soupX_counts\"]"
   ]
  },
  {
   "cell_type": "code",
   "execution_count": null,
   "id": "f2520f85-0ac2-4e0d-b7f1-e5b9ce4c769d",
   "metadata": {
    "execution": {
     "iopub.execute_input": "2023-05-15T09:18:56.023126Z",
     "iopub.status.busy": "2023-05-15T09:18:56.022925Z",
     "iopub.status.idle": "2023-05-15T09:18:56.029885Z",
     "shell.execute_reply": "2023-05-15T09:18:56.029545Z"
    },
    "papermill": {
     "duration": 0.009875,
     "end_time": "2023-05-15T09:18:56.030638",
     "exception": false,
     "start_time": "2023-05-15T09:18:56.020763",
     "status": "completed"
    },
    "tags": []
   },
   "outputs": [],
   "source": [
    "dataset.obs[[\"AvgSpotLen\", \"Bases\", \"Bytes\", \"version\"]] = dataset.obs[[\"AvgSpotLen\", \"Bases\", \"Bytes\", \"version\"]].astype(\"str\")"
   ]
  },
  {
   "cell_type": "code",
   "execution_count": null,
   "id": "99f95dca-cf68-4a51-8f53-ca088aa3167b",
   "metadata": {
    "execution": {
     "iopub.execute_input": "2023-05-15T09:18:56.034348Z",
     "iopub.status.busy": "2023-05-15T09:18:56.034141Z",
     "iopub.status.idle": "2023-05-15T09:19:03.481549Z",
     "shell.execute_reply": "2023-05-15T09:19:03.481072Z"
    },
    "papermill": {
     "duration": 7.450798,
     "end_time": "2023-05-15T09:19:03.482972",
     "exception": false,
     "start_time": "2023-05-15T09:18:56.032174",
     "status": "completed"
    },
    "tags": []
   },
   "outputs": [],
   "source": [
    "%%R -i dataset\n",
    "\n",
    "sce <- SingleCellExperiment(list(counts=dataset@assays@data[[\"soupX_counts\"]]),\n",
    "    colData=dataset@colData,\n",
    ")\n",
    "\n",
    "row.names(sce) <- row.names(dataset)\n",
    "\n",
    "data <- as.Seurat(sce, data = NULL)"
   ]
  },
  {
   "cell_type": "code",
   "execution_count": null,
   "id": "0b749876-ea5a-403c-8b0b-51afc8a633e3",
   "metadata": {
    "execution": {
     "iopub.execute_input": "2023-05-15T09:19:03.489021Z",
     "iopub.status.busy": "2023-05-15T09:19:03.488836Z",
     "iopub.status.idle": "2023-05-15T09:19:03.508253Z",
     "shell.execute_reply": "2023-05-15T09:19:03.507914Z"
    },
    "papermill": {
     "duration": 0.022568,
     "end_time": "2023-05-15T09:19:03.509085",
     "exception": false,
     "start_time": "2023-05-15T09:19:03.486517",
     "status": "completed"
    },
    "tags": []
   },
   "outputs": [],
   "source": [
    "%%R\n",
    "data"
   ]
  },
  {
   "cell_type": "code",
   "execution_count": null,
   "id": "b6b29b0e-92c4-4d4f-b835-c5e9d7d59455",
   "metadata": {
    "execution": {
     "iopub.execute_input": "2023-05-15T09:19:03.514314Z",
     "iopub.status.busy": "2023-05-15T09:19:03.514011Z",
     "iopub.status.idle": "2023-05-15T09:19:15.345910Z",
     "shell.execute_reply": "2023-05-15T09:19:15.345304Z"
    },
    "papermill": {
     "duration": 11.83599,
     "end_time": "2023-05-15T09:19:15.347408",
     "exception": false,
     "start_time": "2023-05-15T09:19:03.511418",
     "status": "completed"
    },
    "tags": []
   },
   "outputs": [],
   "source": [
    "%%R\n",
    "\n",
    "data <- NormalizeData(data)\n",
    "data <- ScaleData(data, features = row.names(data))\n",
    "data <- FindVariableFeatures(data)\n",
    "data <- RunPCA(data, verbose = F)\n",
    "data <- FindNeighbors(data, verbose = F)\n",
    "data <- FindClusters(data, verbose = F)\n",
    "data <- RunUMAP(data, dims = 1:20, verbose = F)"
   ]
  },
  {
   "cell_type": "code",
   "execution_count": null,
   "id": "40fa5cdd-01d7-4b40-90e6-0c97545b0711",
   "metadata": {
    "execution": {
     "iopub.execute_input": "2023-05-15T09:19:15.355404Z",
     "iopub.status.busy": "2023-05-15T09:19:15.355226Z",
     "iopub.status.idle": "2023-05-15T09:19:38.535138Z",
     "shell.execute_reply": "2023-05-15T09:19:38.534670Z"
    },
    "papermill": {
     "duration": 23.184,
     "end_time": "2023-05-15T09:19:38.536106",
     "exception": false,
     "start_time": "2023-05-15T09:19:15.352106",
     "status": "completed"
    },
    "tags": []
   },
   "outputs": [],
   "source": [
    "%%R\n",
    "\n",
    "ref1 <- celldex::BlueprintEncodeData()\n",
    "ref2 <- celldex::MonacoImmuneData()\n",
    "cell_classification <- SingleR(test = as.SingleCellExperiment(data),\n",
    "                               ref = list(BPE = ref1, MON = ref2),\n",
    "                               labels = list(ref1$label.main, ref2$label.main))\n",
    "\n",
    "data[[\"SingleR_label\"]] <- cell_classification$labels\n",
    "\n",
    "plotScoreHeatmap(cell_classification)"
   ]
  },
  {
   "cell_type": "code",
   "execution_count": null,
   "id": "6ad7cf2f-891f-4c05-b34d-e47c84bbe27b",
   "metadata": {
    "execution": {
     "iopub.execute_input": "2023-05-15T09:19:38.545415Z",
     "iopub.status.busy": "2023-05-15T09:19:38.545074Z",
     "iopub.status.idle": "2023-05-15T09:19:38.983615Z",
     "shell.execute_reply": "2023-05-15T09:19:38.983206Z"
    },
    "papermill": {
     "duration": 0.443317,
     "end_time": "2023-05-15T09:19:38.984626",
     "exception": false,
     "start_time": "2023-05-15T09:19:38.541309",
     "status": "completed"
    },
    "tags": []
   },
   "outputs": [],
   "source": [
    "%%R -i sample_name\n",
    "\n",
    "write.csv(data@meta.data, paste0(sample_name, \"_metadata.csv\"))"
   ]
  }
 ],
 "metadata": {
  "kernelspec": {
   "display_name": "py_R",
   "language": "python",
   "name": "python_r"
  },
  "language_info": {
   "codemirror_mode": {
    "name": "ipython",
    "version": 3
   },
   "file_extension": ".py",
   "mimetype": "text/x-python",
   "name": "python",
   "nbconvert_exporter": "python",
   "pygments_lexer": "ipython3",
   "version": "3.10.9"
  },
  "papermill": {
   "default_parameters": {},
   "duration": 58.968076,
   "end_time": "2023-05-15T09:19:40.206032",
   "environment_variables": {},
   "exception": null,
   "input_path": "template.ipynb",
   "output_path": "SRR13329120.ipynb",
   "parameters": {
    "sample_name": "SRR13329120"
   },
   "start_time": "2023-05-15T09:18:41.237956",
   "version": "2.3.4"
  }
 },
 "nbformat": 4,
 "nbformat_minor": 5
}
