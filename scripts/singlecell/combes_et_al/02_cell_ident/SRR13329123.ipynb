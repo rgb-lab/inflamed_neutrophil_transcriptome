{
 "cells": [
  {
   "cell_type": "code",
   "execution_count": null,
   "id": "78a6243e-1906-4e3b-ae98-4b5bd21bd37c",
   "metadata": {
    "execution": {
     "iopub.execute_input": "2023-05-15T09:03:45.349065Z",
     "iopub.status.busy": "2023-05-15T09:03:45.348907Z",
     "iopub.status.idle": "2023-05-15T09:03:45.353438Z",
     "shell.execute_reply": "2023-05-15T09:03:45.353125Z"
    },
    "papermill": {
     "duration": 0.008058,
     "end_time": "2023-05-15T09:03:45.354312",
     "exception": false,
     "start_time": "2023-05-15T09:03:45.346254",
     "status": "completed"
    },
    "tags": [
     "parameters"
    ]
   },
   "outputs": [],
   "source": [
    "sample_name = \"SRR13329143\""
   ]
  },
  {
   "cell_type": "code",
   "execution_count": null,
   "id": "d6510576",
   "metadata": {
    "execution": {
     "iopub.execute_input": "2023-05-15T09:03:45.357819Z",
     "iopub.status.busy": "2023-05-15T09:03:45.357694Z",
     "iopub.status.idle": "2023-05-15T09:03:45.361888Z",
     "shell.execute_reply": "2023-05-15T09:03:45.361559Z"
    },
    "papermill": {
     "duration": 0.006782,
     "end_time": "2023-05-15T09:03:45.362691",
     "exception": false,
     "start_time": "2023-05-15T09:03:45.355909",
     "status": "completed"
    },
    "tags": [
     "injected-parameters"
    ]
   },
   "outputs": [],
   "source": [
    "# Parameters\n",
    "sample_name = \"SRR13329123\"\n"
   ]
  },
  {
   "cell_type": "code",
   "execution_count": null,
   "id": "487588d5-40a0-4c35-9cd9-ee9b3e2f1d4e",
   "metadata": {
    "execution": {
     "iopub.execute_input": "2023-05-15T09:03:45.366180Z",
     "iopub.status.busy": "2023-05-15T09:03:45.365909Z",
     "iopub.status.idle": "2023-05-15T09:03:45.369542Z",
     "shell.execute_reply": "2023-05-15T09:03:45.369245Z"
    },
    "papermill": {
     "duration": 0.006201,
     "end_time": "2023-05-15T09:03:45.370315",
     "exception": false,
     "start_time": "2023-05-15T09:03:45.364114",
     "status": "completed"
    },
    "tags": []
   },
   "outputs": [],
   "source": [
    "import warnings\n",
    "warnings.simplefilter(action='ignore', category=FutureWarning)\n",
    "warnings.simplefilter(action='ignore', category=UserWarning)"
   ]
  },
  {
   "cell_type": "code",
   "execution_count": null,
   "id": "5bba6a57-54cf-4720-8653-bf94afa536ad",
   "metadata": {
    "execution": {
     "iopub.execute_input": "2023-05-15T09:03:45.373714Z",
     "iopub.status.busy": "2023-05-15T09:03:45.373575Z",
     "iopub.status.idle": "2023-05-15T09:04:04.376574Z",
     "shell.execute_reply": "2023-05-15T09:04:04.376153Z"
    },
    "papermill": {
     "duration": 19.006106,
     "end_time": "2023-05-15T09:04:04.377887",
     "exception": false,
     "start_time": "2023-05-15T09:03:45.371781",
     "status": "completed"
    },
    "tags": []
   },
   "outputs": [],
   "source": [
    "import gc\n",
    "import scanpy as sc\n",
    "import muon as mu\n",
    "import seaborn as sns\n",
    "import os\n",
    "import pandas as pd\n",
    "from matplotlib import pyplot as plt\n",
    "\n",
    "os.environ['R_HOME'] = '/gpfs/bwfor/work/ws/hd_fu399-conda/conda/envs/python_R/lib/R/'\n",
    "import anndata2ri\n",
    "import logging\n",
    "\n",
    "import rpy2.rinterface_lib.callbacks as rcb\n",
    "import rpy2.robjects as ro\n",
    "\n",
    "rcb.logger.setLevel(logging.ERROR)\n",
    "ro.pandas2ri.activate()\n",
    "anndata2ri.activate()\n",
    "\n",
    "%load_ext rpy2.ipython"
   ]
  },
  {
   "cell_type": "code",
   "execution_count": null,
   "id": "0897f8ed-b086-4ddc-a32e-6ae638ff6d14",
   "metadata": {
    "execution": {
     "iopub.execute_input": "2023-05-15T09:04:04.384255Z",
     "iopub.status.busy": "2023-05-15T09:04:04.384015Z",
     "iopub.status.idle": "2023-05-15T09:04:20.005049Z",
     "shell.execute_reply": "2023-05-15T09:04:20.004528Z"
    },
    "papermill": {
     "duration": 15.624303,
     "end_time": "2023-05-15T09:04:20.006248",
     "exception": false,
     "start_time": "2023-05-15T09:04:04.381945",
     "status": "completed"
    },
    "tags": []
   },
   "outputs": [],
   "source": [
    "%%R\n",
    "\n",
    "suppressMessages(library(SeuratDisk))\n",
    "suppressMessages(library(SingleR))\n",
    "suppressMessages(library(Seurat))\n",
    "suppressMessages(library(SingleCellExperiment))\n",
    "suppressMessages(library(UCell))"
   ]
  },
  {
   "cell_type": "code",
   "execution_count": null,
   "id": "74c6b1b1-5af7-4955-a6cc-4532fc42a266",
   "metadata": {
    "execution": {
     "iopub.execute_input": "2023-05-15T09:04:20.013160Z",
     "iopub.status.busy": "2023-05-15T09:04:20.012933Z",
     "iopub.status.idle": "2023-05-15T09:04:20.325523Z",
     "shell.execute_reply": "2023-05-15T09:04:20.325081Z"
    },
    "papermill": {
     "duration": 0.317051,
     "end_time": "2023-05-15T09:04:20.326899",
     "exception": false,
     "start_time": "2023-05-15T09:04:20.009848",
     "status": "completed"
    },
    "tags": []
   },
   "outputs": [],
   "source": [
    "dataset = sc.read(f\"../../int_data/{sample_name}_qc.h5ad\")\n",
    "dataset.X = dataset.layers[\"soupX_counts\"]"
   ]
  },
  {
   "cell_type": "code",
   "execution_count": null,
   "id": "f2520f85-0ac2-4e0d-b7f1-e5b9ce4c769d",
   "metadata": {
    "execution": {
     "iopub.execute_input": "2023-05-15T09:04:20.331256Z",
     "iopub.status.busy": "2023-05-15T09:04:20.331084Z",
     "iopub.status.idle": "2023-05-15T09:04:20.337925Z",
     "shell.execute_reply": "2023-05-15T09:04:20.337618Z"
    },
    "papermill": {
     "duration": 0.009762,
     "end_time": "2023-05-15T09:04:20.338706",
     "exception": false,
     "start_time": "2023-05-15T09:04:20.328944",
     "status": "completed"
    },
    "tags": []
   },
   "outputs": [],
   "source": [
    "dataset.obs[[\"AvgSpotLen\", \"Bases\", \"Bytes\", \"version\"]] = dataset.obs[[\"AvgSpotLen\", \"Bases\", \"Bytes\", \"version\"]].astype(\"str\")"
   ]
  },
  {
   "cell_type": "code",
   "execution_count": null,
   "id": "99f95dca-cf68-4a51-8f53-ca088aa3167b",
   "metadata": {
    "execution": {
     "iopub.execute_input": "2023-05-15T09:04:20.342666Z",
     "iopub.status.busy": "2023-05-15T09:04:20.342512Z",
     "iopub.status.idle": "2023-05-15T09:04:26.829509Z",
     "shell.execute_reply": "2023-05-15T09:04:26.828920Z"
    },
    "papermill": {
     "duration": 6.490644,
     "end_time": "2023-05-15T09:04:26.830973",
     "exception": false,
     "start_time": "2023-05-15T09:04:20.340329",
     "status": "completed"
    },
    "tags": []
   },
   "outputs": [],
   "source": [
    "%%R -i dataset\n",
    "\n",
    "sce <- SingleCellExperiment(list(counts=dataset@assays@data[[\"soupX_counts\"]]),\n",
    "    colData=dataset@colData,\n",
    ")\n",
    "\n",
    "row.names(sce) <- row.names(dataset)\n",
    "\n",
    "data <- as.Seurat(sce, data = NULL)"
   ]
  },
  {
   "cell_type": "code",
   "execution_count": null,
   "id": "0b749876-ea5a-403c-8b0b-51afc8a633e3",
   "metadata": {
    "execution": {
     "iopub.execute_input": "2023-05-15T09:04:26.837435Z",
     "iopub.status.busy": "2023-05-15T09:04:26.837280Z",
     "iopub.status.idle": "2023-05-15T09:04:26.856969Z",
     "shell.execute_reply": "2023-05-15T09:04:26.856651Z"
    },
    "papermill": {
     "duration": 0.022908,
     "end_time": "2023-05-15T09:04:26.857721",
     "exception": false,
     "start_time": "2023-05-15T09:04:26.834813",
     "status": "completed"
    },
    "tags": []
   },
   "outputs": [],
   "source": [
    "%%R\n",
    "data"
   ]
  },
  {
   "cell_type": "code",
   "execution_count": null,
   "id": "b6b29b0e-92c4-4d4f-b835-c5e9d7d59455",
   "metadata": {
    "execution": {
     "iopub.execute_input": "2023-05-15T09:04:26.862957Z",
     "iopub.status.busy": "2023-05-15T09:04:26.862825Z",
     "iopub.status.idle": "2023-05-15T09:04:38.572431Z",
     "shell.execute_reply": "2023-05-15T09:04:38.571947Z"
    },
    "papermill": {
     "duration": 11.713529,
     "end_time": "2023-05-15T09:04:38.573638",
     "exception": false,
     "start_time": "2023-05-15T09:04:26.860109",
     "status": "completed"
    },
    "tags": []
   },
   "outputs": [],
   "source": [
    "%%R\n",
    "\n",
    "data <- NormalizeData(data)\n",
    "data <- ScaleData(data, features = row.names(data))\n",
    "data <- FindVariableFeatures(data)\n",
    "data <- RunPCA(data, verbose = F)\n",
    "data <- FindNeighbors(data, verbose = F)\n",
    "data <- FindClusters(data, verbose = F)\n",
    "data <- RunUMAP(data, dims = 1:20, verbose = F)"
   ]
  },
  {
   "cell_type": "code",
   "execution_count": null,
   "id": "40fa5cdd-01d7-4b40-90e6-0c97545b0711",
   "metadata": {
    "execution": {
     "iopub.execute_input": "2023-05-15T09:04:38.582350Z",
     "iopub.status.busy": "2023-05-15T09:04:38.582034Z",
     "iopub.status.idle": "2023-05-15T09:05:30.142742Z",
     "shell.execute_reply": "2023-05-15T09:05:30.142321Z"
    },
    "papermill": {
     "duration": 51.569839,
     "end_time": "2023-05-15T09:05:30.148421",
     "exception": false,
     "start_time": "2023-05-15T09:04:38.578582",
     "status": "completed"
    },
    "tags": []
   },
   "outputs": [],
   "source": [
    "%%R\n",
    "\n",
    "ref1 <- celldex::BlueprintEncodeData()\n",
    "ref2 <- celldex::MonacoImmuneData()\n",
    "cell_classification <- SingleR(test = as.SingleCellExperiment(data),\n",
    "                               ref = list(BPE = ref1, MON = ref2),\n",
    "                               labels = list(ref1$label.main, ref2$label.main))\n",
    "\n",
    "data[[\"SingleR_label\"]] <- cell_classification$labels\n",
    "\n",
    "plotScoreHeatmap(cell_classification)"
   ]
  },
  {
   "cell_type": "code",
   "execution_count": null,
   "id": "6ad7cf2f-891f-4c05-b34d-e47c84bbe27b",
   "metadata": {
    "execution": {
     "iopub.execute_input": "2023-05-15T09:05:30.156365Z",
     "iopub.status.busy": "2023-05-15T09:05:30.156024Z",
     "iopub.status.idle": "2023-05-15T09:05:30.657578Z",
     "shell.execute_reply": "2023-05-15T09:05:30.657195Z"
    },
    "papermill": {
     "duration": 0.506434,
     "end_time": "2023-05-15T09:05:30.658598",
     "exception": false,
     "start_time": "2023-05-15T09:05:30.152164",
     "status": "completed"
    },
    "tags": []
   },
   "outputs": [],
   "source": [
    "%%R -i sample_name\n",
    "\n",
    "write.csv(data@meta.data, paste0(sample_name, \"_metadata.csv\"))"
   ]
  }
 ],
 "metadata": {
  "kernelspec": {
   "display_name": "py_R",
   "language": "python",
   "name": "python_r"
  },
  "language_info": {
   "codemirror_mode": {
    "name": "ipython",
    "version": 3
   },
   "file_extension": ".py",
   "mimetype": "text/x-python",
   "name": "python",
   "nbconvert_exporter": "python",
   "pygments_lexer": "ipython3",
   "version": "3.10.9"
  },
  "papermill": {
   "default_parameters": {},
   "duration": 107.747302,
   "end_time": "2023-05-15T09:05:31.880775",
   "environment_variables": {},
   "exception": null,
   "input_path": "template.ipynb",
   "output_path": "SRR13329123.ipynb",
   "parameters": {
    "sample_name": "SRR13329123"
   },
   "start_time": "2023-05-15T09:03:44.133473",
   "version": "2.3.4"
  }
 },
 "nbformat": 4,
 "nbformat_minor": 5
}
