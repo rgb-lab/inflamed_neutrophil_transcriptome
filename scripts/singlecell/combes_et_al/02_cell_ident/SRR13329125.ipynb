{
 "cells": [
  {
   "cell_type": "code",
   "execution_count": null,
   "id": "78a6243e-1906-4e3b-ae98-4b5bd21bd37c",
   "metadata": {
    "execution": {
     "iopub.execute_input": "2023-05-15T09:07:30.991509Z",
     "iopub.status.busy": "2023-05-15T09:07:30.991340Z",
     "iopub.status.idle": "2023-05-15T09:07:30.995884Z",
     "shell.execute_reply": "2023-05-15T09:07:30.995576Z"
    },
    "papermill": {
     "duration": 0.008321,
     "end_time": "2023-05-15T09:07:30.996773",
     "exception": false,
     "start_time": "2023-05-15T09:07:30.988452",
     "status": "completed"
    },
    "tags": [
     "parameters"
    ]
   },
   "outputs": [],
   "source": [
    "sample_name = \"SRR13329143\""
   ]
  },
  {
   "cell_type": "code",
   "execution_count": null,
   "id": "fcba5488",
   "metadata": {
    "execution": {
     "iopub.execute_input": "2023-05-15T09:07:31.000324Z",
     "iopub.status.busy": "2023-05-15T09:07:31.000174Z",
     "iopub.status.idle": "2023-05-15T09:07:31.002697Z",
     "shell.execute_reply": "2023-05-15T09:07:31.002406Z"
    },
    "papermill": {
     "duration": 0.005156,
     "end_time": "2023-05-15T09:07:31.003470",
     "exception": false,
     "start_time": "2023-05-15T09:07:30.998314",
     "status": "completed"
    },
    "tags": [
     "injected-parameters"
    ]
   },
   "outputs": [],
   "source": [
    "# Parameters\n",
    "sample_name = \"SRR13329125\"\n"
   ]
  },
  {
   "cell_type": "code",
   "execution_count": null,
   "id": "487588d5-40a0-4c35-9cd9-ee9b3e2f1d4e",
   "metadata": {
    "execution": {
     "iopub.execute_input": "2023-05-15T09:07:31.006943Z",
     "iopub.status.busy": "2023-05-15T09:07:31.006794Z",
     "iopub.status.idle": "2023-05-15T09:07:31.009437Z",
     "shell.execute_reply": "2023-05-15T09:07:31.009148Z"
    },
    "papermill": {
     "duration": 0.005315,
     "end_time": "2023-05-15T09:07:31.010219",
     "exception": false,
     "start_time": "2023-05-15T09:07:31.004904",
     "status": "completed"
    },
    "tags": []
   },
   "outputs": [],
   "source": [
    "import warnings\n",
    "warnings.simplefilter(action='ignore', category=FutureWarning)\n",
    "warnings.simplefilter(action='ignore', category=UserWarning)"
   ]
  },
  {
   "cell_type": "code",
   "execution_count": null,
   "id": "5bba6a57-54cf-4720-8653-bf94afa536ad",
   "metadata": {
    "execution": {
     "iopub.execute_input": "2023-05-15T09:07:31.013870Z",
     "iopub.status.busy": "2023-05-15T09:07:31.013530Z",
     "iopub.status.idle": "2023-05-15T09:07:35.392181Z",
     "shell.execute_reply": "2023-05-15T09:07:35.391658Z"
    },
    "papermill": {
     "duration": 4.381967,
     "end_time": "2023-05-15T09:07:35.393622",
     "exception": false,
     "start_time": "2023-05-15T09:07:31.011655",
     "status": "completed"
    },
    "tags": []
   },
   "outputs": [],
   "source": [
    "import gc\n",
    "import scanpy as sc\n",
    "import muon as mu\n",
    "import seaborn as sns\n",
    "import os\n",
    "import pandas as pd\n",
    "from matplotlib import pyplot as plt\n",
    "\n",
    "os.environ['R_HOME'] = '/gpfs/bwfor/work/ws/hd_fu399-conda/conda/envs/python_R/lib/R/'\n",
    "import anndata2ri\n",
    "import logging\n",
    "\n",
    "import rpy2.rinterface_lib.callbacks as rcb\n",
    "import rpy2.robjects as ro\n",
    "\n",
    "rcb.logger.setLevel(logging.ERROR)\n",
    "ro.pandas2ri.activate()\n",
    "anndata2ri.activate()\n",
    "\n",
    "%load_ext rpy2.ipython"
   ]
  },
  {
   "cell_type": "code",
   "execution_count": null,
   "id": "0897f8ed-b086-4ddc-a32e-6ae638ff6d14",
   "metadata": {
    "execution": {
     "iopub.execute_input": "2023-05-15T09:07:35.399092Z",
     "iopub.status.busy": "2023-05-15T09:07:35.398786Z",
     "iopub.status.idle": "2023-05-15T09:07:43.053932Z",
     "shell.execute_reply": "2023-05-15T09:07:43.053451Z"
    },
    "papermill": {
     "duration": 7.658972,
     "end_time": "2023-05-15T09:07:43.055498",
     "exception": false,
     "start_time": "2023-05-15T09:07:35.396526",
     "status": "completed"
    },
    "tags": []
   },
   "outputs": [],
   "source": [
    "%%R\n",
    "\n",
    "suppressMessages(library(SeuratDisk))\n",
    "suppressMessages(library(SingleR))\n",
    "suppressMessages(library(Seurat))\n",
    "suppressMessages(library(SingleCellExperiment))\n",
    "suppressMessages(library(UCell))"
   ]
  },
  {
   "cell_type": "code",
   "execution_count": null,
   "id": "74c6b1b1-5af7-4955-a6cc-4532fc42a266",
   "metadata": {
    "execution": {
     "iopub.execute_input": "2023-05-15T09:07:43.061752Z",
     "iopub.status.busy": "2023-05-15T09:07:43.061597Z",
     "iopub.status.idle": "2023-05-15T09:07:43.262486Z",
     "shell.execute_reply": "2023-05-15T09:07:43.261957Z"
    },
    "papermill": {
     "duration": 0.20468,
     "end_time": "2023-05-15T09:07:43.263933",
     "exception": false,
     "start_time": "2023-05-15T09:07:43.059253",
     "status": "completed"
    },
    "tags": []
   },
   "outputs": [],
   "source": [
    "dataset = sc.read(f\"../../int_data/{sample_name}_qc.h5ad\")\n",
    "dataset.X = dataset.layers[\"soupX_counts\"]"
   ]
  },
  {
   "cell_type": "code",
   "execution_count": null,
   "id": "f2520f85-0ac2-4e0d-b7f1-e5b9ce4c769d",
   "metadata": {
    "execution": {
     "iopub.execute_input": "2023-05-15T09:07:43.268492Z",
     "iopub.status.busy": "2023-05-15T09:07:43.268345Z",
     "iopub.status.idle": "2023-05-15T09:07:43.273130Z",
     "shell.execute_reply": "2023-05-15T09:07:43.272806Z"
    },
    "papermill": {
     "duration": 0.007731,
     "end_time": "2023-05-15T09:07:43.273926",
     "exception": false,
     "start_time": "2023-05-15T09:07:43.266195",
     "status": "completed"
    },
    "tags": []
   },
   "outputs": [],
   "source": [
    "dataset.obs[[\"AvgSpotLen\", \"Bases\", \"Bytes\", \"version\"]] = dataset.obs[[\"AvgSpotLen\", \"Bases\", \"Bytes\", \"version\"]].astype(\"str\")"
   ]
  },
  {
   "cell_type": "code",
   "execution_count": null,
   "id": "99f95dca-cf68-4a51-8f53-ca088aa3167b",
   "metadata": {
    "execution": {
     "iopub.execute_input": "2023-05-15T09:07:43.277799Z",
     "iopub.status.busy": "2023-05-15T09:07:43.277608Z",
     "iopub.status.idle": "2023-05-15T09:07:47.116685Z",
     "shell.execute_reply": "2023-05-15T09:07:47.116159Z"
    },
    "papermill": {
     "duration": 3.842362,
     "end_time": "2023-05-15T09:07:47.117897",
     "exception": false,
     "start_time": "2023-05-15T09:07:43.275535",
     "status": "completed"
    },
    "tags": []
   },
   "outputs": [],
   "source": [
    "%%R -i dataset\n",
    "\n",
    "sce <- SingleCellExperiment(list(counts=dataset@assays@data[[\"soupX_counts\"]]),\n",
    "    colData=dataset@colData,\n",
    ")\n",
    "\n",
    "row.names(sce) <- row.names(dataset)\n",
    "\n",
    "data <- as.Seurat(sce, data = NULL)"
   ]
  },
  {
   "cell_type": "code",
   "execution_count": null,
   "id": "0b749876-ea5a-403c-8b0b-51afc8a633e3",
   "metadata": {
    "execution": {
     "iopub.execute_input": "2023-05-15T09:07:47.122464Z",
     "iopub.status.busy": "2023-05-15T09:07:47.122286Z",
     "iopub.status.idle": "2023-05-15T09:07:47.141738Z",
     "shell.execute_reply": "2023-05-15T09:07:47.141405Z"
    },
    "papermill": {
     "duration": 0.022534,
     "end_time": "2023-05-15T09:07:47.142483",
     "exception": false,
     "start_time": "2023-05-15T09:07:47.119949",
     "status": "completed"
    },
    "tags": []
   },
   "outputs": [],
   "source": [
    "%%R\n",
    "data"
   ]
  },
  {
   "cell_type": "code",
   "execution_count": null,
   "id": "b6b29b0e-92c4-4d4f-b835-c5e9d7d59455",
   "metadata": {
    "execution": {
     "iopub.execute_input": "2023-05-15T09:07:47.147742Z",
     "iopub.status.busy": "2023-05-15T09:07:47.147575Z",
     "iopub.status.idle": "2023-05-15T09:07:53.445566Z",
     "shell.execute_reply": "2023-05-15T09:07:53.445078Z"
    },
    "papermill": {
     "duration": 6.302204,
     "end_time": "2023-05-15T09:07:53.447071",
     "exception": false,
     "start_time": "2023-05-15T09:07:47.144867",
     "status": "completed"
    },
    "tags": []
   },
   "outputs": [],
   "source": [
    "%%R\n",
    "\n",
    "data <- NormalizeData(data)\n",
    "data <- ScaleData(data, features = row.names(data))\n",
    "data <- FindVariableFeatures(data)\n",
    "data <- RunPCA(data, verbose = F)\n",
    "data <- FindNeighbors(data, verbose = F)\n",
    "data <- FindClusters(data, verbose = F)\n",
    "data <- RunUMAP(data, dims = 1:20, verbose = F)"
   ]
  },
  {
   "cell_type": "code",
   "execution_count": null,
   "id": "40fa5cdd-01d7-4b40-90e6-0c97545b0711",
   "metadata": {
    "execution": {
     "iopub.execute_input": "2023-05-15T09:07:53.455696Z",
     "iopub.status.busy": "2023-05-15T09:07:53.455507Z",
     "iopub.status.idle": "2023-05-15T09:08:08.733534Z",
     "shell.execute_reply": "2023-05-15T09:08:08.733160Z"
    },
    "papermill": {
     "duration": 15.282653,
     "end_time": "2023-05-15T09:08:08.734434",
     "exception": false,
     "start_time": "2023-05-15T09:07:53.451781",
     "status": "completed"
    },
    "tags": []
   },
   "outputs": [],
   "source": [
    "%%R\n",
    "\n",
    "ref1 <- celldex::BlueprintEncodeData()\n",
    "ref2 <- celldex::MonacoImmuneData()\n",
    "cell_classification <- SingleR(test = as.SingleCellExperiment(data),\n",
    "                               ref = list(BPE = ref1, MON = ref2),\n",
    "                               labels = list(ref1$label.main, ref2$label.main))\n",
    "\n",
    "data[[\"SingleR_label\"]] <- cell_classification$labels\n",
    "\n",
    "plotScoreHeatmap(cell_classification)"
   ]
  },
  {
   "cell_type": "code",
   "execution_count": null,
   "id": "6ad7cf2f-891f-4c05-b34d-e47c84bbe27b",
   "metadata": {
    "execution": {
     "iopub.execute_input": "2023-05-15T09:08:08.743557Z",
     "iopub.status.busy": "2023-05-15T09:08:08.743410Z",
     "iopub.status.idle": "2023-05-15T09:08:09.085179Z",
     "shell.execute_reply": "2023-05-15T09:08:09.084715Z"
    },
    "papermill": {
     "duration": 0.346455,
     "end_time": "2023-05-15T09:08:09.086193",
     "exception": false,
     "start_time": "2023-05-15T09:08:08.739738",
     "status": "completed"
    },
    "tags": []
   },
   "outputs": [],
   "source": [
    "%%R -i sample_name\n",
    "\n",
    "write.csv(data@meta.data, paste0(sample_name, \"_metadata.csv\"))"
   ]
  }
 ],
 "metadata": {
  "kernelspec": {
   "display_name": "py_R",
   "language": "python",
   "name": "python_r"
  },
  "language_info": {
   "codemirror_mode": {
    "name": "ipython",
    "version": 3
   },
   "file_extension": ".py",
   "mimetype": "text/x-python",
   "name": "python",
   "nbconvert_exporter": "python",
   "pygments_lexer": "ipython3",
   "version": "3.10.9"
  },
  "papermill": {
   "default_parameters": {},
   "duration": 40.48581,
   "end_time": "2023-05-15T09:08:10.307467",
   "environment_variables": {},
   "exception": null,
   "input_path": "template.ipynb",
   "output_path": "SRR13329125.ipynb",
   "parameters": {
    "sample_name": "SRR13329125"
   },
   "start_time": "2023-05-15T09:07:29.821657",
   "version": "2.3.4"
  }
 },
 "nbformat": 4,
 "nbformat_minor": 5
}
