{
 "cells": [
  {
   "cell_type": "code",
   "execution_count": null,
   "id": "78a6243e-1906-4e3b-ae98-4b5bd21bd37c",
   "metadata": {
    "execution": {
     "iopub.execute_input": "2023-05-15T09:26:58.993780Z",
     "iopub.status.busy": "2023-05-15T09:26:58.993597Z",
     "iopub.status.idle": "2023-05-15T09:26:58.998938Z",
     "shell.execute_reply": "2023-05-15T09:26:58.998594Z"
    },
    "papermill": {
     "duration": 0.009001,
     "end_time": "2023-05-15T09:26:58.999874",
     "exception": false,
     "start_time": "2023-05-15T09:26:58.990873",
     "status": "completed"
    },
    "tags": [
     "parameters"
    ]
   },
   "outputs": [],
   "source": [
    "sample_name = \"SRR13329143\""
   ]
  },
  {
   "cell_type": "code",
   "execution_count": null,
   "id": "db99856c",
   "metadata": {
    "execution": {
     "iopub.execute_input": "2023-05-15T09:26:59.003732Z",
     "iopub.status.busy": "2023-05-15T09:26:59.003190Z",
     "iopub.status.idle": "2023-05-15T09:26:59.005497Z",
     "shell.execute_reply": "2023-05-15T09:26:59.005171Z"
    },
    "papermill": {
     "duration": 0.004913,
     "end_time": "2023-05-15T09:26:59.006307",
     "exception": false,
     "start_time": "2023-05-15T09:26:59.001394",
     "status": "completed"
    },
    "tags": [
     "injected-parameters"
    ]
   },
   "outputs": [],
   "source": [
    "# Parameters\n",
    "sample_name = \"SRR13329141\"\n"
   ]
  },
  {
   "cell_type": "code",
   "execution_count": null,
   "id": "487588d5-40a0-4c35-9cd9-ee9b3e2f1d4e",
   "metadata": {
    "execution": {
     "iopub.execute_input": "2023-05-15T09:26:59.009891Z",
     "iopub.status.busy": "2023-05-15T09:26:59.009472Z",
     "iopub.status.idle": "2023-05-15T09:26:59.011960Z",
     "shell.execute_reply": "2023-05-15T09:26:59.011624Z"
    },
    "papermill": {
     "duration": 0.00516,
     "end_time": "2023-05-15T09:26:59.012821",
     "exception": false,
     "start_time": "2023-05-15T09:26:59.007661",
     "status": "completed"
    },
    "tags": []
   },
   "outputs": [],
   "source": [
    "import warnings\n",
    "warnings.simplefilter(action='ignore', category=FutureWarning)\n",
    "warnings.simplefilter(action='ignore', category=UserWarning)"
   ]
  },
  {
   "cell_type": "code",
   "execution_count": null,
   "id": "5bba6a57-54cf-4720-8653-bf94afa536ad",
   "metadata": {
    "execution": {
     "iopub.execute_input": "2023-05-15T09:26:59.016747Z",
     "iopub.status.busy": "2023-05-15T09:26:59.016222Z",
     "iopub.status.idle": "2023-05-15T09:27:04.141956Z",
     "shell.execute_reply": "2023-05-15T09:27:04.141259Z"
    },
    "papermill": {
     "duration": 5.129234,
     "end_time": "2023-05-15T09:27:04.143484",
     "exception": false,
     "start_time": "2023-05-15T09:26:59.014250",
     "status": "completed"
    },
    "tags": []
   },
   "outputs": [],
   "source": [
    "import gc\n",
    "import scanpy as sc\n",
    "import muon as mu\n",
    "import seaborn as sns\n",
    "import os\n",
    "import pandas as pd\n",
    "from matplotlib import pyplot as plt\n",
    "\n",
    "os.environ['R_HOME'] = '/gpfs/bwfor/work/ws/hd_fu399-conda/conda/envs/python_R/lib/R/'\n",
    "import anndata2ri\n",
    "import logging\n",
    "\n",
    "import rpy2.rinterface_lib.callbacks as rcb\n",
    "import rpy2.robjects as ro\n",
    "\n",
    "rcb.logger.setLevel(logging.ERROR)\n",
    "ro.pandas2ri.activate()\n",
    "anndata2ri.activate()\n",
    "\n",
    "%load_ext rpy2.ipython"
   ]
  },
  {
   "cell_type": "code",
   "execution_count": null,
   "id": "0897f8ed-b086-4ddc-a32e-6ae638ff6d14",
   "metadata": {
    "execution": {
     "iopub.execute_input": "2023-05-15T09:27:04.150431Z",
     "iopub.status.busy": "2023-05-15T09:27:04.150102Z",
     "iopub.status.idle": "2023-05-15T09:27:13.569944Z",
     "shell.execute_reply": "2023-05-15T09:27:13.569359Z"
    },
    "papermill": {
     "duration": 9.423903,
     "end_time": "2023-05-15T09:27:13.571566",
     "exception": false,
     "start_time": "2023-05-15T09:27:04.147663",
     "status": "completed"
    },
    "tags": []
   },
   "outputs": [],
   "source": [
    "%%R\n",
    "\n",
    "suppressMessages(library(SeuratDisk))\n",
    "suppressMessages(library(SingleR))\n",
    "suppressMessages(library(Seurat))\n",
    "suppressMessages(library(SingleCellExperiment))\n",
    "suppressMessages(library(UCell))"
   ]
  },
  {
   "cell_type": "code",
   "execution_count": null,
   "id": "74c6b1b1-5af7-4955-a6cc-4532fc42a266",
   "metadata": {
    "execution": {
     "iopub.execute_input": "2023-05-15T09:27:13.578794Z",
     "iopub.status.busy": "2023-05-15T09:27:13.577850Z",
     "iopub.status.idle": "2023-05-15T09:27:13.868289Z",
     "shell.execute_reply": "2023-05-15T09:27:13.867800Z"
    },
    "papermill": {
     "duration": 0.29424,
     "end_time": "2023-05-15T09:27:13.869723",
     "exception": false,
     "start_time": "2023-05-15T09:27:13.575483",
     "status": "completed"
    },
    "tags": []
   },
   "outputs": [],
   "source": [
    "dataset = sc.read(f\"../../int_data/{sample_name}_qc.h5ad\")\n",
    "dataset.X = dataset.layers[\"soupX_counts\"]"
   ]
  },
  {
   "cell_type": "code",
   "execution_count": null,
   "id": "f2520f85-0ac2-4e0d-b7f1-e5b9ce4c769d",
   "metadata": {
    "execution": {
     "iopub.execute_input": "2023-05-15T09:27:13.874675Z",
     "iopub.status.busy": "2023-05-15T09:27:13.874063Z",
     "iopub.status.idle": "2023-05-15T09:27:13.880462Z",
     "shell.execute_reply": "2023-05-15T09:27:13.880122Z"
    },
    "papermill": {
     "duration": 0.009471,
     "end_time": "2023-05-15T09:27:13.881295",
     "exception": false,
     "start_time": "2023-05-15T09:27:13.871824",
     "status": "completed"
    },
    "tags": []
   },
   "outputs": [],
   "source": [
    "dataset.obs[[\"AvgSpotLen\", \"Bases\", \"Bytes\", \"version\"]] = dataset.obs[[\"AvgSpotLen\", \"Bases\", \"Bytes\", \"version\"]].astype(\"str\")"
   ]
  },
  {
   "cell_type": "code",
   "execution_count": null,
   "id": "99f95dca-cf68-4a51-8f53-ca088aa3167b",
   "metadata": {
    "execution": {
     "iopub.execute_input": "2023-05-15T09:27:13.885166Z",
     "iopub.status.busy": "2023-05-15T09:27:13.884904Z",
     "iopub.status.idle": "2023-05-15T09:27:19.761726Z",
     "shell.execute_reply": "2023-05-15T09:27:19.761164Z"
    },
    "papermill": {
     "duration": 5.880461,
     "end_time": "2023-05-15T09:27:19.763322",
     "exception": false,
     "start_time": "2023-05-15T09:27:13.882861",
     "status": "completed"
    },
    "tags": []
   },
   "outputs": [],
   "source": [
    "%%R -i dataset\n",
    "\n",
    "sce <- SingleCellExperiment(list(counts=dataset@assays@data[[\"soupX_counts\"]]),\n",
    "    colData=dataset@colData,\n",
    ")\n",
    "\n",
    "row.names(sce) <- row.names(dataset)\n",
    "\n",
    "data <- as.Seurat(sce, data = NULL)"
   ]
  },
  {
   "cell_type": "code",
   "execution_count": null,
   "id": "0b749876-ea5a-403c-8b0b-51afc8a633e3",
   "metadata": {
    "execution": {
     "iopub.execute_input": "2023-05-15T09:27:19.770308Z",
     "iopub.status.busy": "2023-05-15T09:27:19.769843Z",
     "iopub.status.idle": "2023-05-15T09:27:19.791034Z",
     "shell.execute_reply": "2023-05-15T09:27:19.790674Z"
    },
    "papermill": {
     "duration": 0.024407,
     "end_time": "2023-05-15T09:27:19.791909",
     "exception": false,
     "start_time": "2023-05-15T09:27:19.767502",
     "status": "completed"
    },
    "tags": []
   },
   "outputs": [],
   "source": [
    "%%R\n",
    "data"
   ]
  },
  {
   "cell_type": "code",
   "execution_count": null,
   "id": "b6b29b0e-92c4-4d4f-b835-c5e9d7d59455",
   "metadata": {
    "execution": {
     "iopub.execute_input": "2023-05-15T09:27:19.797506Z",
     "iopub.status.busy": "2023-05-15T09:27:19.796843Z",
     "iopub.status.idle": "2023-05-15T09:27:27.909388Z",
     "shell.execute_reply": "2023-05-15T09:27:27.908882Z"
    },
    "papermill": {
     "duration": 8.116754,
     "end_time": "2023-05-15T09:27:27.910917",
     "exception": false,
     "start_time": "2023-05-15T09:27:19.794163",
     "status": "completed"
    },
    "tags": []
   },
   "outputs": [],
   "source": [
    "%%R\n",
    "\n",
    "data <- NormalizeData(data)\n",
    "data <- ScaleData(data, features = row.names(data))\n",
    "data <- FindVariableFeatures(data)\n",
    "data <- RunPCA(data, verbose = F)\n",
    "data <- FindNeighbors(data, verbose = F)\n",
    "data <- FindClusters(data, verbose = F)\n",
    "data <- RunUMAP(data, dims = 1:20, verbose = F)"
   ]
  },
  {
   "cell_type": "code",
   "execution_count": null,
   "id": "40fa5cdd-01d7-4b40-90e6-0c97545b0711",
   "metadata": {
    "execution": {
     "iopub.execute_input": "2023-05-15T09:27:27.919603Z",
     "iopub.status.busy": "2023-05-15T09:27:27.919120Z",
     "iopub.status.idle": "2023-05-15T09:27:46.020011Z",
     "shell.execute_reply": "2023-05-15T09:27:46.019527Z"
    },
    "papermill": {
     "duration": 18.105007,
     "end_time": "2023-05-15T09:27:46.021004",
     "exception": false,
     "start_time": "2023-05-15T09:27:27.915997",
     "status": "completed"
    },
    "tags": []
   },
   "outputs": [],
   "source": [
    "%%R\n",
    "\n",
    "ref1 <- celldex::BlueprintEncodeData()\n",
    "ref2 <- celldex::MonacoImmuneData()\n",
    "cell_classification <- SingleR(test = as.SingleCellExperiment(data),\n",
    "                               ref = list(BPE = ref1, MON = ref2),\n",
    "                               labels = list(ref1$label.main, ref2$label.main))\n",
    "\n",
    "data[[\"SingleR_label\"]] <- cell_classification$labels\n",
    "\n",
    "plotScoreHeatmap(cell_classification)"
   ]
  },
  {
   "cell_type": "code",
   "execution_count": null,
   "id": "6ad7cf2f-891f-4c05-b34d-e47c84bbe27b",
   "metadata": {
    "execution": {
     "iopub.execute_input": "2023-05-15T09:27:46.030296Z",
     "iopub.status.busy": "2023-05-15T09:27:46.030140Z",
     "iopub.status.idle": "2023-05-15T09:27:46.473118Z",
     "shell.execute_reply": "2023-05-15T09:27:46.472698Z"
    },
    "papermill": {
     "duration": 0.447977,
     "end_time": "2023-05-15T09:27:46.474291",
     "exception": false,
     "start_time": "2023-05-15T09:27:46.026314",
     "status": "completed"
    },
    "tags": []
   },
   "outputs": [],
   "source": [
    "%%R -i sample_name\n",
    "\n",
    "write.csv(data@meta.data, paste0(sample_name, \"_metadata.csv\"))"
   ]
  }
 ],
 "metadata": {
  "kernelspec": {
   "display_name": "py_R",
   "language": "python",
   "name": "python_r"
  },
  "language_info": {
   "codemirror_mode": {
    "name": "ipython",
    "version": 3
   },
   "file_extension": ".py",
   "mimetype": "text/x-python",
   "name": "python",
   "nbconvert_exporter": "python",
   "pygments_lexer": "ipython3",
   "version": "3.10.9"
  },
  "papermill": {
   "default_parameters": {},
   "duration": 50.216155,
   "end_time": "2023-05-15T09:27:47.795673",
   "environment_variables": {},
   "exception": null,
   "input_path": "template.ipynb",
   "output_path": "SRR13329141.ipynb",
   "parameters": {
    "sample_name": "SRR13329141"
   },
   "start_time": "2023-05-15T09:26:57.579518",
   "version": "2.3.4"
  }
 },
 "nbformat": 4,
 "nbformat_minor": 5
}
