{
 "cells": [
  {
   "cell_type": "code",
   "execution_count": null,
   "id": "78a6243e-1906-4e3b-ae98-4b5bd21bd37c",
   "metadata": {
    "execution": {
     "iopub.execute_input": "2023-05-15T09:56:05.634026Z",
     "iopub.status.busy": "2023-05-15T09:56:05.633853Z",
     "iopub.status.idle": "2023-05-15T09:56:05.638365Z",
     "shell.execute_reply": "2023-05-15T09:56:05.638045Z"
    },
    "papermill": {
     "duration": 0.008223,
     "end_time": "2023-05-15T09:56:05.639299",
     "exception": false,
     "start_time": "2023-05-15T09:56:05.631076",
     "status": "completed"
    },
    "tags": [
     "parameters"
    ]
   },
   "outputs": [],
   "source": [
    "sample_name = \"SRR13329143\""
   ]
  },
  {
   "cell_type": "code",
   "execution_count": null,
   "id": "1ddec1d0",
   "metadata": {
    "execution": {
     "iopub.execute_input": "2023-05-15T09:56:05.642781Z",
     "iopub.status.busy": "2023-05-15T09:56:05.642550Z",
     "iopub.status.idle": "2023-05-15T09:56:05.658862Z",
     "shell.execute_reply": "2023-05-15T09:56:05.658547Z"
    },
    "papermill": {
     "duration": 0.018864,
     "end_time": "2023-05-15T09:56:05.659658",
     "exception": false,
     "start_time": "2023-05-15T09:56:05.640794",
     "status": "completed"
    },
    "tags": [
     "injected-parameters"
    ]
   },
   "outputs": [],
   "source": [
    "# Parameters\n",
    "sample_name = \"SRR13329137\"\n"
   ]
  },
  {
   "cell_type": "code",
   "execution_count": null,
   "id": "487588d5-40a0-4c35-9cd9-ee9b3e2f1d4e",
   "metadata": {
    "execution": {
     "iopub.execute_input": "2023-05-15T09:56:05.663113Z",
     "iopub.status.busy": "2023-05-15T09:56:05.662796Z",
     "iopub.status.idle": "2023-05-15T09:56:05.665130Z",
     "shell.execute_reply": "2023-05-15T09:56:05.664824Z"
    },
    "papermill": {
     "duration": 0.00488,
     "end_time": "2023-05-15T09:56:05.665902",
     "exception": false,
     "start_time": "2023-05-15T09:56:05.661022",
     "status": "completed"
    },
    "tags": []
   },
   "outputs": [],
   "source": [
    "import warnings\n",
    "warnings.simplefilter(action='ignore', category=FutureWarning)\n",
    "warnings.simplefilter(action='ignore', category=UserWarning)"
   ]
  },
  {
   "cell_type": "code",
   "execution_count": null,
   "id": "5bba6a57-54cf-4720-8653-bf94afa536ad",
   "metadata": {
    "execution": {
     "iopub.execute_input": "2023-05-15T09:56:05.669214Z",
     "iopub.status.busy": "2023-05-15T09:56:05.669062Z",
     "iopub.status.idle": "2023-05-15T09:56:11.249068Z",
     "shell.execute_reply": "2023-05-15T09:56:11.248576Z"
    },
    "papermill": {
     "duration": 5.583296,
     "end_time": "2023-05-15T09:56:11.250583",
     "exception": false,
     "start_time": "2023-05-15T09:56:05.667287",
     "status": "completed"
    },
    "tags": []
   },
   "outputs": [],
   "source": [
    "import gc\n",
    "import scanpy as sc\n",
    "import muon as mu\n",
    "import seaborn as sns\n",
    "import os\n",
    "import pandas as pd\n",
    "from matplotlib import pyplot as plt\n",
    "\n",
    "os.environ['R_HOME'] = '/gpfs/bwfor/work/ws/hd_fu399-conda/conda/envs/python_R/lib/R/'\n",
    "import anndata2ri\n",
    "import logging\n",
    "\n",
    "import rpy2.rinterface_lib.callbacks as rcb\n",
    "import rpy2.robjects as ro\n",
    "\n",
    "rcb.logger.setLevel(logging.ERROR)\n",
    "ro.pandas2ri.activate()\n",
    "anndata2ri.activate()\n",
    "\n",
    "%load_ext rpy2.ipython"
   ]
  },
  {
   "cell_type": "code",
   "execution_count": null,
   "id": "0897f8ed-b086-4ddc-a32e-6ae638ff6d14",
   "metadata": {
    "execution": {
     "iopub.execute_input": "2023-05-15T09:56:11.255292Z",
     "iopub.status.busy": "2023-05-15T09:56:11.254977Z",
     "iopub.status.idle": "2023-05-15T09:56:20.138540Z",
     "shell.execute_reply": "2023-05-15T09:56:20.137986Z"
    },
    "papermill": {
     "duration": 8.886994,
     "end_time": "2023-05-15T09:56:20.139872",
     "exception": false,
     "start_time": "2023-05-15T09:56:11.252878",
     "status": "completed"
    },
    "tags": []
   },
   "outputs": [],
   "source": [
    "%%R\n",
    "\n",
    "suppressMessages(library(SeuratDisk))\n",
    "suppressMessages(library(SingleR))\n",
    "suppressMessages(library(Seurat))\n",
    "suppressMessages(library(SingleCellExperiment))\n",
    "suppressMessages(library(UCell))"
   ]
  },
  {
   "cell_type": "code",
   "execution_count": null,
   "id": "74c6b1b1-5af7-4955-a6cc-4532fc42a266",
   "metadata": {
    "execution": {
     "iopub.execute_input": "2023-05-15T09:56:20.145664Z",
     "iopub.status.busy": "2023-05-15T09:56:20.145498Z",
     "iopub.status.idle": "2023-05-15T09:56:20.353564Z",
     "shell.execute_reply": "2023-05-15T09:56:20.353095Z"
    },
    "papermill": {
     "duration": 0.211477,
     "end_time": "2023-05-15T09:56:20.354865",
     "exception": false,
     "start_time": "2023-05-15T09:56:20.143388",
     "status": "completed"
    },
    "tags": []
   },
   "outputs": [],
   "source": [
    "dataset = sc.read(f\"../../int_data/{sample_name}_qc.h5ad\")\n",
    "dataset.X = dataset.layers[\"soupX_counts\"]"
   ]
  },
  {
   "cell_type": "code",
   "execution_count": null,
   "id": "f2520f85-0ac2-4e0d-b7f1-e5b9ce4c769d",
   "metadata": {
    "execution": {
     "iopub.execute_input": "2023-05-15T09:56:20.359081Z",
     "iopub.status.busy": "2023-05-15T09:56:20.358923Z",
     "iopub.status.idle": "2023-05-15T09:56:20.365086Z",
     "shell.execute_reply": "2023-05-15T09:56:20.364731Z"
    },
    "papermill": {
     "duration": 0.00899,
     "end_time": "2023-05-15T09:56:20.365875",
     "exception": false,
     "start_time": "2023-05-15T09:56:20.356885",
     "status": "completed"
    },
    "tags": []
   },
   "outputs": [],
   "source": [
    "dataset.obs[[\"AvgSpotLen\", \"Bases\", \"Bytes\", \"version\"]] = dataset.obs[[\"AvgSpotLen\", \"Bases\", \"Bytes\", \"version\"]].astype(\"str\")"
   ]
  },
  {
   "cell_type": "code",
   "execution_count": null,
   "id": "99f95dca-cf68-4a51-8f53-ca088aa3167b",
   "metadata": {
    "execution": {
     "iopub.execute_input": "2023-05-15T09:56:20.369596Z",
     "iopub.status.busy": "2023-05-15T09:56:20.369291Z",
     "iopub.status.idle": "2023-05-15T09:56:26.201285Z",
     "shell.execute_reply": "2023-05-15T09:56:26.200828Z"
    },
    "papermill": {
     "duration": 5.835383,
     "end_time": "2023-05-15T09:56:26.202769",
     "exception": false,
     "start_time": "2023-05-15T09:56:20.367386",
     "status": "completed"
    },
    "tags": []
   },
   "outputs": [],
   "source": [
    "%%R -i dataset\n",
    "\n",
    "sce <- SingleCellExperiment(list(counts=dataset@assays@data[[\"soupX_counts\"]]),\n",
    "    colData=dataset@colData,\n",
    ")\n",
    "\n",
    "row.names(sce) <- row.names(dataset)\n",
    "\n",
    "data <- as.Seurat(sce, data = NULL)"
   ]
  },
  {
   "cell_type": "code",
   "execution_count": null,
   "id": "0b749876-ea5a-403c-8b0b-51afc8a633e3",
   "metadata": {
    "execution": {
     "iopub.execute_input": "2023-05-15T09:56:26.208887Z",
     "iopub.status.busy": "2023-05-15T09:56:26.208741Z",
     "iopub.status.idle": "2023-05-15T09:56:26.228323Z",
     "shell.execute_reply": "2023-05-15T09:56:26.227983Z"
    },
    "papermill": {
     "duration": 0.022537,
     "end_time": "2023-05-15T09:56:26.229107",
     "exception": false,
     "start_time": "2023-05-15T09:56:26.206570",
     "status": "completed"
    },
    "tags": []
   },
   "outputs": [],
   "source": [
    "%%R\n",
    "data"
   ]
  },
  {
   "cell_type": "code",
   "execution_count": null,
   "id": "b6b29b0e-92c4-4d4f-b835-c5e9d7d59455",
   "metadata": {
    "execution": {
     "iopub.execute_input": "2023-05-15T09:56:26.234191Z",
     "iopub.status.busy": "2023-05-15T09:56:26.234049Z",
     "iopub.status.idle": "2023-05-15T09:56:35.881190Z",
     "shell.execute_reply": "2023-05-15T09:56:35.880562Z"
    },
    "papermill": {
     "duration": 9.651493,
     "end_time": "2023-05-15T09:56:35.882873",
     "exception": false,
     "start_time": "2023-05-15T09:56:26.231380",
     "status": "completed"
    },
    "tags": []
   },
   "outputs": [],
   "source": [
    "%%R\n",
    "\n",
    "data <- NormalizeData(data)\n",
    "data <- ScaleData(data, features = row.names(data))\n",
    "data <- FindVariableFeatures(data)\n",
    "data <- RunPCA(data, verbose = F)\n",
    "data <- FindNeighbors(data, verbose = F)\n",
    "data <- FindClusters(data, verbose = F)\n",
    "data <- RunUMAP(data, dims = 1:20, verbose = F)"
   ]
  },
  {
   "cell_type": "code",
   "execution_count": null,
   "id": "40fa5cdd-01d7-4b40-90e6-0c97545b0711",
   "metadata": {
    "execution": {
     "iopub.execute_input": "2023-05-15T09:56:35.890523Z",
     "iopub.status.busy": "2023-05-15T09:56:35.890372Z",
     "iopub.status.idle": "2023-05-15T09:56:59.493173Z",
     "shell.execute_reply": "2023-05-15T09:56:59.492716Z"
    },
    "papermill": {
     "duration": 23.606702,
     "end_time": "2023-05-15T09:56:59.494075",
     "exception": false,
     "start_time": "2023-05-15T09:56:35.887373",
     "status": "completed"
    },
    "tags": []
   },
   "outputs": [],
   "source": [
    "%%R\n",
    "\n",
    "ref1 <- celldex::BlueprintEncodeData()\n",
    "ref2 <- celldex::MonacoImmuneData()\n",
    "cell_classification <- SingleR(test = as.SingleCellExperiment(data),\n",
    "                               ref = list(BPE = ref1, MON = ref2),\n",
    "                               labels = list(ref1$label.main, ref2$label.main))\n",
    "\n",
    "data[[\"SingleR_label\"]] <- cell_classification$labels\n",
    "\n",
    "plotScoreHeatmap(cell_classification)"
   ]
  },
  {
   "cell_type": "code",
   "execution_count": null,
   "id": "6ad7cf2f-891f-4c05-b34d-e47c84bbe27b",
   "metadata": {
    "execution": {
     "iopub.execute_input": "2023-05-15T09:56:59.502420Z",
     "iopub.status.busy": "2023-05-15T09:56:59.502261Z",
     "iopub.status.idle": "2023-05-15T09:56:59.810949Z",
     "shell.execute_reply": "2023-05-15T09:56:59.810527Z"
    },
    "papermill": {
     "duration": 0.313421,
     "end_time": "2023-05-15T09:56:59.812079",
     "exception": false,
     "start_time": "2023-05-15T09:56:59.498658",
     "status": "completed"
    },
    "tags": []
   },
   "outputs": [],
   "source": [
    "%%R -i sample_name\n",
    "\n",
    "write.csv(data@meta.data, paste0(sample_name, \"_metadata.csv\"))"
   ]
  }
 ],
 "metadata": {
  "kernelspec": {
   "display_name": "py_R",
   "language": "python",
   "name": "python_r"
  },
  "language_info": {
   "codemirror_mode": {
    "name": "ipython",
    "version": 3
   },
   "file_extension": ".py",
   "mimetype": "text/x-python",
   "name": "python",
   "nbconvert_exporter": "python",
   "pygments_lexer": "ipython3",
   "version": "3.10.9"
  },
  "papermill": {
   "default_parameters": {},
   "duration": 56.657402,
   "end_time": "2023-05-15T09:57:01.133346",
   "environment_variables": {},
   "exception": null,
   "input_path": "template.ipynb",
   "output_path": "SRR13329137.ipynb",
   "parameters": {
    "sample_name": "SRR13329137"
   },
   "start_time": "2023-05-15T09:56:04.475944",
   "version": "2.3.4"
  }
 },
 "nbformat": 4,
 "nbformat_minor": 5
}
