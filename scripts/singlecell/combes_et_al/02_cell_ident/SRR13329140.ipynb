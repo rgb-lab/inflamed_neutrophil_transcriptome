{
 "cells": [
  {
   "cell_type": "code",
   "execution_count": null,
   "id": "78a6243e-1906-4e3b-ae98-4b5bd21bd37c",
   "metadata": {
    "execution": {
     "iopub.execute_input": "2023-05-15T08:46:18.767977Z",
     "iopub.status.busy": "2023-05-15T08:46:18.767787Z",
     "iopub.status.idle": "2023-05-15T08:46:18.773989Z",
     "shell.execute_reply": "2023-05-15T08:46:18.773373Z"
    },
    "papermill": {
     "duration": 0.010557,
     "end_time": "2023-05-15T08:46:18.774845",
     "exception": false,
     "start_time": "2023-05-15T08:46:18.764288",
     "status": "completed"
    },
    "tags": [
     "parameters"
    ]
   },
   "outputs": [],
   "source": [
    "sample_name = \"SRR13329143\""
   ]
  },
  {
   "cell_type": "code",
   "execution_count": null,
   "id": "1fcca608",
   "metadata": {
    "execution": {
     "iopub.execute_input": "2023-05-15T08:46:18.778947Z",
     "iopub.status.busy": "2023-05-15T08:46:18.778771Z",
     "iopub.status.idle": "2023-05-15T08:46:18.781208Z",
     "shell.execute_reply": "2023-05-15T08:46:18.780908Z"
    },
    "papermill": {
     "duration": 0.005547,
     "end_time": "2023-05-15T08:46:18.782073",
     "exception": false,
     "start_time": "2023-05-15T08:46:18.776526",
     "status": "completed"
    },
    "tags": [
     "injected-parameters"
    ]
   },
   "outputs": [],
   "source": [
    "# Parameters\n",
    "sample_name = \"SRR13329140\"\n"
   ]
  },
  {
   "cell_type": "code",
   "execution_count": null,
   "id": "487588d5-40a0-4c35-9cd9-ee9b3e2f1d4e",
   "metadata": {
    "execution": {
     "iopub.execute_input": "2023-05-15T08:46:18.785761Z",
     "iopub.status.busy": "2023-05-15T08:46:18.785557Z",
     "iopub.status.idle": "2023-05-15T08:46:18.791544Z",
     "shell.execute_reply": "2023-05-15T08:46:18.791223Z"
    },
    "papermill": {
     "duration": 0.00884,
     "end_time": "2023-05-15T08:46:18.792345",
     "exception": false,
     "start_time": "2023-05-15T08:46:18.783505",
     "status": "completed"
    },
    "tags": []
   },
   "outputs": [],
   "source": [
    "import warnings\n",
    "warnings.simplefilter(action='ignore', category=FutureWarning)\n",
    "warnings.simplefilter(action='ignore', category=UserWarning)"
   ]
  },
  {
   "cell_type": "code",
   "execution_count": null,
   "id": "5bba6a57-54cf-4720-8653-bf94afa536ad",
   "metadata": {
    "execution": {
     "iopub.execute_input": "2023-05-15T08:46:18.796271Z",
     "iopub.status.busy": "2023-05-15T08:46:18.795857Z",
     "iopub.status.idle": "2023-05-15T08:46:23.469953Z",
     "shell.execute_reply": "2023-05-15T08:46:23.469140Z"
    },
    "papermill": {
     "duration": 4.678142,
     "end_time": "2023-05-15T08:46:23.471941",
     "exception": false,
     "start_time": "2023-05-15T08:46:18.793799",
     "status": "completed"
    },
    "tags": []
   },
   "outputs": [],
   "source": [
    "import gc\n",
    "import scanpy as sc\n",
    "import muon as mu\n",
    "import seaborn as sns\n",
    "import os\n",
    "import pandas as pd\n",
    "from matplotlib import pyplot as plt\n",
    "\n",
    "os.environ['R_HOME'] = '/gpfs/bwfor/work/ws/hd_fu399-conda/conda/envs/python_R/lib/R/'\n",
    "import anndata2ri\n",
    "import logging\n",
    "\n",
    "import rpy2.rinterface_lib.callbacks as rcb\n",
    "import rpy2.robjects as ro\n",
    "\n",
    "rcb.logger.setLevel(logging.ERROR)\n",
    "ro.pandas2ri.activate()\n",
    "anndata2ri.activate()\n",
    "\n",
    "%load_ext rpy2.ipython"
   ]
  },
  {
   "cell_type": "code",
   "execution_count": null,
   "id": "0897f8ed-b086-4ddc-a32e-6ae638ff6d14",
   "metadata": {
    "execution": {
     "iopub.execute_input": "2023-05-15T08:46:23.478951Z",
     "iopub.status.busy": "2023-05-15T08:46:23.478536Z",
     "iopub.status.idle": "2023-05-15T08:46:32.240575Z",
     "shell.execute_reply": "2023-05-15T08:46:32.239615Z"
    },
    "papermill": {
     "duration": 8.766275,
     "end_time": "2023-05-15T08:46:32.242462",
     "exception": false,
     "start_time": "2023-05-15T08:46:23.476187",
     "status": "completed"
    },
    "tags": []
   },
   "outputs": [],
   "source": [
    "%%R\n",
    "\n",
    "suppressMessages(library(SeuratDisk))\n",
    "suppressMessages(library(SingleR))\n",
    "suppressMessages(library(Seurat))\n",
    "suppressMessages(library(SingleCellExperiment))\n",
    "suppressMessages(library(UCell))"
   ]
  },
  {
   "cell_type": "code",
   "execution_count": null,
   "id": "74c6b1b1-5af7-4955-a6cc-4532fc42a266",
   "metadata": {
    "execution": {
     "iopub.execute_input": "2023-05-15T08:46:32.252104Z",
     "iopub.status.busy": "2023-05-15T08:46:32.251872Z",
     "iopub.status.idle": "2023-05-15T08:46:32.458564Z",
     "shell.execute_reply": "2023-05-15T08:46:32.458098Z"
    },
    "papermill": {
     "duration": 0.211488,
     "end_time": "2023-05-15T08:46:32.459935",
     "exception": false,
     "start_time": "2023-05-15T08:46:32.248447",
     "status": "completed"
    },
    "tags": []
   },
   "outputs": [],
   "source": [
    "dataset = sc.read(f\"../../int_data/{sample_name}_qc.h5ad\")\n",
    "dataset.X = dataset.layers[\"soupX_counts\"]"
   ]
  },
  {
   "cell_type": "code",
   "execution_count": null,
   "id": "f2520f85-0ac2-4e0d-b7f1-e5b9ce4c769d",
   "metadata": {
    "execution": {
     "iopub.execute_input": "2023-05-15T08:46:32.463861Z",
     "iopub.status.busy": "2023-05-15T08:46:32.463714Z",
     "iopub.status.idle": "2023-05-15T08:46:32.469616Z",
     "shell.execute_reply": "2023-05-15T08:46:32.469281Z"
    },
    "papermill": {
     "duration": 0.008762,
     "end_time": "2023-05-15T08:46:32.470417",
     "exception": false,
     "start_time": "2023-05-15T08:46:32.461655",
     "status": "completed"
    },
    "tags": []
   },
   "outputs": [],
   "source": [
    "dataset.obs[[\"AvgSpotLen\", \"Bases\", \"Bytes\", \"version\"]] = dataset.obs[[\"AvgSpotLen\", \"Bases\", \"Bytes\", \"version\"]].astype(\"str\")"
   ]
  },
  {
   "cell_type": "code",
   "execution_count": null,
   "id": "99f95dca-cf68-4a51-8f53-ca088aa3167b",
   "metadata": {
    "execution": {
     "iopub.execute_input": "2023-05-15T08:46:32.474020Z",
     "iopub.status.busy": "2023-05-15T08:46:32.473855Z",
     "iopub.status.idle": "2023-05-15T08:46:38.131134Z",
     "shell.execute_reply": "2023-05-15T08:46:38.130501Z"
    },
    "papermill": {
     "duration": 5.660922,
     "end_time": "2023-05-15T08:46:38.132844",
     "exception": false,
     "start_time": "2023-05-15T08:46:32.471922",
     "status": "completed"
    },
    "tags": []
   },
   "outputs": [],
   "source": [
    "%%R -i dataset\n",
    "\n",
    "sce <- SingleCellExperiment(list(counts=dataset@assays@data[[\"soupX_counts\"]]),\n",
    "    colData=dataset@colData,\n",
    ")\n",
    "\n",
    "row.names(sce) <- row.names(dataset)\n",
    "\n",
    "data <- as.Seurat(sce, data = NULL)"
   ]
  },
  {
   "cell_type": "code",
   "execution_count": null,
   "id": "0b749876-ea5a-403c-8b0b-51afc8a633e3",
   "metadata": {
    "execution": {
     "iopub.execute_input": "2023-05-15T08:46:38.140247Z",
     "iopub.status.busy": "2023-05-15T08:46:38.140056Z",
     "iopub.status.idle": "2023-05-15T08:46:38.159752Z",
     "shell.execute_reply": "2023-05-15T08:46:38.159417Z"
    },
    "papermill": {
     "duration": 0.023021,
     "end_time": "2023-05-15T08:46:38.160488",
     "exception": false,
     "start_time": "2023-05-15T08:46:38.137467",
     "status": "completed"
    },
    "tags": []
   },
   "outputs": [],
   "source": [
    "%%R\n",
    "data"
   ]
  },
  {
   "cell_type": "code",
   "execution_count": null,
   "id": "b6b29b0e-92c4-4d4f-b835-c5e9d7d59455",
   "metadata": {
    "execution": {
     "iopub.execute_input": "2023-05-15T08:46:38.166328Z",
     "iopub.status.busy": "2023-05-15T08:46:38.166008Z",
     "iopub.status.idle": "2023-05-15T08:46:46.339692Z",
     "shell.execute_reply": "2023-05-15T08:46:46.339155Z"
    },
    "papermill": {
     "duration": 8.17831,
     "end_time": "2023-05-15T08:46:46.341428",
     "exception": false,
     "start_time": "2023-05-15T08:46:38.163118",
     "status": "completed"
    },
    "tags": []
   },
   "outputs": [],
   "source": [
    "%%R\n",
    "\n",
    "data <- NormalizeData(data)\n",
    "data <- ScaleData(data, features = row.names(data))\n",
    "data <- FindVariableFeatures(data)\n",
    "data <- RunPCA(data, verbose = F)\n",
    "data <- FindNeighbors(data, verbose = F)\n",
    "data <- FindClusters(data, verbose = F)\n",
    "data <- RunUMAP(data, dims = 1:20, verbose = F)"
   ]
  },
  {
   "cell_type": "code",
   "execution_count": null,
   "id": "40fa5cdd-01d7-4b40-90e6-0c97545b0711",
   "metadata": {
    "execution": {
     "iopub.execute_input": "2023-05-15T08:46:46.352019Z",
     "iopub.status.busy": "2023-05-15T08:46:46.351768Z",
     "iopub.status.idle": "2023-05-15T08:47:03.865348Z",
     "shell.execute_reply": "2023-05-15T08:47:03.864953Z"
    },
    "papermill": {
     "duration": 17.519331,
     "end_time": "2023-05-15T08:47:03.867015",
     "exception": false,
     "start_time": "2023-05-15T08:46:46.347684",
     "status": "completed"
    },
    "tags": []
   },
   "outputs": [],
   "source": [
    "%%R\n",
    "\n",
    "ref1 <- celldex::BlueprintEncodeData()\n",
    "ref2 <- celldex::MonacoImmuneData()\n",
    "cell_classification <- SingleR(test = as.SingleCellExperiment(data),\n",
    "                               ref = list(BPE = ref1, MON = ref2),\n",
    "                               labels = list(ref1$label.main, ref2$label.main))\n",
    "\n",
    "data[[\"SingleR_label\"]] <- cell_classification$labels\n",
    "\n",
    "plotScoreHeatmap(cell_classification)"
   ]
  },
  {
   "cell_type": "code",
   "execution_count": null,
   "id": "6ad7cf2f-891f-4c05-b34d-e47c84bbe27b",
   "metadata": {
    "execution": {
     "iopub.execute_input": "2023-05-15T08:47:03.878800Z",
     "iopub.status.busy": "2023-05-15T08:47:03.878582Z",
     "iopub.status.idle": "2023-05-15T08:47:03.907802Z",
     "shell.execute_reply": "2023-05-15T08:47:03.907434Z"
    },
    "papermill": {
     "duration": 0.034892,
     "end_time": "2023-05-15T08:47:03.908868",
     "exception": false,
     "start_time": "2023-05-15T08:47:03.873976",
     "status": "completed"
    },
    "tags": []
   },
   "outputs": [],
   "source": [
    "%%R -i sample_name\n",
    "\n",
    "write.csv(data@meta.data, paste0(sample_name, \"_metadata.csv\"))"
   ]
  }
 ],
 "metadata": {
  "kernelspec": {
   "display_name": "py_R",
   "language": "python",
   "name": "python_r"
  },
  "language_info": {
   "codemirror_mode": {
    "name": "ipython",
    "version": 3
   },
   "file_extension": ".py",
   "mimetype": "text/x-python",
   "name": "python",
   "nbconvert_exporter": "python",
   "pygments_lexer": "ipython3",
   "version": "3.10.9"
  },
  "papermill": {
   "default_parameters": {},
   "duration": 47.258633,
   "end_time": "2023-05-15T08:47:05.130129",
   "environment_variables": {},
   "exception": null,
   "input_path": "template.ipynb",
   "output_path": "SRR13329140.ipynb",
   "parameters": {
    "sample_name": "SRR13329140"
   },
   "start_time": "2023-05-15T08:46:17.871496",
   "version": "2.3.4"
  }
 },
 "nbformat": 4,
 "nbformat_minor": 5
}
