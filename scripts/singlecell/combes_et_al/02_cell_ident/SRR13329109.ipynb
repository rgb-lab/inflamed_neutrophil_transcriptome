{
 "cells": [
  {
   "cell_type": "code",
   "execution_count": null,
   "id": "78a6243e-1906-4e3b-ae98-4b5bd21bd37c",
   "metadata": {
    "execution": {
     "iopub.execute_input": "2023-05-15T09:08:11.358747Z",
     "iopub.status.busy": "2023-05-15T09:08:11.358577Z",
     "iopub.status.idle": "2023-05-15T09:08:11.363118Z",
     "shell.execute_reply": "2023-05-15T09:08:11.362803Z"
    },
    "papermill": {
     "duration": 0.008062,
     "end_time": "2023-05-15T09:08:11.363919",
     "exception": false,
     "start_time": "2023-05-15T09:08:11.355857",
     "status": "completed"
    },
    "tags": [
     "parameters"
    ]
   },
   "outputs": [],
   "source": [
    "sample_name = \"SRR13329143\""
   ]
  },
  {
   "cell_type": "code",
   "execution_count": null,
   "id": "96e82118",
   "metadata": {
    "execution": {
     "iopub.execute_input": "2023-05-15T09:08:11.367455Z",
     "iopub.status.busy": "2023-05-15T09:08:11.367327Z",
     "iopub.status.idle": "2023-05-15T09:08:11.369205Z",
     "shell.execute_reply": "2023-05-15T09:08:11.368891Z"
    },
    "papermill": {
     "duration": 0.004525,
     "end_time": "2023-05-15T09:08:11.369995",
     "exception": false,
     "start_time": "2023-05-15T09:08:11.365470",
     "status": "completed"
    },
    "tags": [
     "injected-parameters"
    ]
   },
   "outputs": [],
   "source": [
    "# Parameters\n",
    "sample_name = \"SRR13329109\"\n"
   ]
  },
  {
   "cell_type": "code",
   "execution_count": null,
   "id": "487588d5-40a0-4c35-9cd9-ee9b3e2f1d4e",
   "metadata": {
    "execution": {
     "iopub.execute_input": "2023-05-15T09:08:11.373321Z",
     "iopub.status.busy": "2023-05-15T09:08:11.373199Z",
     "iopub.status.idle": "2023-05-15T09:08:11.375289Z",
     "shell.execute_reply": "2023-05-15T09:08:11.374982Z"
    },
    "papermill": {
     "duration": 0.004657,
     "end_time": "2023-05-15T09:08:11.376065",
     "exception": false,
     "start_time": "2023-05-15T09:08:11.371408",
     "status": "completed"
    },
    "tags": []
   },
   "outputs": [],
   "source": [
    "import warnings\n",
    "warnings.simplefilter(action='ignore', category=FutureWarning)\n",
    "warnings.simplefilter(action='ignore', category=UserWarning)"
   ]
  },
  {
   "cell_type": "code",
   "execution_count": null,
   "id": "5bba6a57-54cf-4720-8653-bf94afa536ad",
   "metadata": {
    "execution": {
     "iopub.execute_input": "2023-05-15T09:08:11.379772Z",
     "iopub.status.busy": "2023-05-15T09:08:11.379561Z",
     "iopub.status.idle": "2023-05-15T09:08:15.920386Z",
     "shell.execute_reply": "2023-05-15T09:08:15.919907Z"
    },
    "papermill": {
     "duration": 4.544254,
     "end_time": "2023-05-15T09:08:15.921903",
     "exception": false,
     "start_time": "2023-05-15T09:08:11.377649",
     "status": "completed"
    },
    "tags": []
   },
   "outputs": [],
   "source": [
    "import gc\n",
    "import scanpy as sc\n",
    "import muon as mu\n",
    "import seaborn as sns\n",
    "import os\n",
    "import pandas as pd\n",
    "from matplotlib import pyplot as plt\n",
    "\n",
    "os.environ['R_HOME'] = '/gpfs/bwfor/work/ws/hd_fu399-conda/conda/envs/python_R/lib/R/'\n",
    "import anndata2ri\n",
    "import logging\n",
    "\n",
    "import rpy2.rinterface_lib.callbacks as rcb\n",
    "import rpy2.robjects as ro\n",
    "\n",
    "rcb.logger.setLevel(logging.ERROR)\n",
    "ro.pandas2ri.activate()\n",
    "anndata2ri.activate()\n",
    "\n",
    "%load_ext rpy2.ipython"
   ]
  },
  {
   "cell_type": "code",
   "execution_count": null,
   "id": "0897f8ed-b086-4ddc-a32e-6ae638ff6d14",
   "metadata": {
    "execution": {
     "iopub.execute_input": "2023-05-15T09:08:15.929039Z",
     "iopub.status.busy": "2023-05-15T09:08:15.928738Z",
     "iopub.status.idle": "2023-05-15T09:08:23.297901Z",
     "shell.execute_reply": "2023-05-15T09:08:23.297318Z"
    },
    "papermill": {
     "duration": 7.373353,
     "end_time": "2023-05-15T09:08:23.299496",
     "exception": false,
     "start_time": "2023-05-15T09:08:15.926143",
     "status": "completed"
    },
    "tags": []
   },
   "outputs": [],
   "source": [
    "%%R\n",
    "\n",
    "suppressMessages(library(SeuratDisk))\n",
    "suppressMessages(library(SingleR))\n",
    "suppressMessages(library(Seurat))\n",
    "suppressMessages(library(SingleCellExperiment))\n",
    "suppressMessages(library(UCell))"
   ]
  },
  {
   "cell_type": "code",
   "execution_count": null,
   "id": "74c6b1b1-5af7-4955-a6cc-4532fc42a266",
   "metadata": {
    "execution": {
     "iopub.execute_input": "2023-05-15T09:08:23.306170Z",
     "iopub.status.busy": "2023-05-15T09:08:23.305954Z",
     "iopub.status.idle": "2023-05-15T09:08:24.118897Z",
     "shell.execute_reply": "2023-05-15T09:08:24.118437Z"
    },
    "papermill": {
     "duration": 0.816863,
     "end_time": "2023-05-15T09:08:24.120451",
     "exception": false,
     "start_time": "2023-05-15T09:08:23.303588",
     "status": "completed"
    },
    "tags": []
   },
   "outputs": [],
   "source": [
    "dataset = sc.read(f\"../../int_data/{sample_name}_qc.h5ad\")\n",
    "dataset.X = dataset.layers[\"soupX_counts\"]"
   ]
  },
  {
   "cell_type": "code",
   "execution_count": null,
   "id": "f2520f85-0ac2-4e0d-b7f1-e5b9ce4c769d",
   "metadata": {
    "execution": {
     "iopub.execute_input": "2023-05-15T09:08:24.125094Z",
     "iopub.status.busy": "2023-05-15T09:08:24.124906Z",
     "iopub.status.idle": "2023-05-15T09:08:24.137531Z",
     "shell.execute_reply": "2023-05-15T09:08:24.137204Z"
    },
    "papermill": {
     "duration": 0.015672,
     "end_time": "2023-05-15T09:08:24.138312",
     "exception": false,
     "start_time": "2023-05-15T09:08:24.122640",
     "status": "completed"
    },
    "tags": []
   },
   "outputs": [],
   "source": [
    "dataset.obs[[\"AvgSpotLen\", \"Bases\", \"Bytes\", \"version\"]] = dataset.obs[[\"AvgSpotLen\", \"Bases\", \"Bytes\", \"version\"]].astype(\"str\")"
   ]
  },
  {
   "cell_type": "code",
   "execution_count": null,
   "id": "99f95dca-cf68-4a51-8f53-ca088aa3167b",
   "metadata": {
    "execution": {
     "iopub.execute_input": "2023-05-15T09:08:24.142175Z",
     "iopub.status.busy": "2023-05-15T09:08:24.142035Z",
     "iopub.status.idle": "2023-05-15T09:08:33.260793Z",
     "shell.execute_reply": "2023-05-15T09:08:33.260348Z"
    },
    "papermill": {
     "duration": 9.122469,
     "end_time": "2023-05-15T09:08:33.262395",
     "exception": false,
     "start_time": "2023-05-15T09:08:24.139926",
     "status": "completed"
    },
    "tags": []
   },
   "outputs": [],
   "source": [
    "%%R -i dataset\n",
    "\n",
    "sce <- SingleCellExperiment(list(counts=dataset@assays@data[[\"soupX_counts\"]]),\n",
    "    colData=dataset@colData,\n",
    ")\n",
    "\n",
    "row.names(sce) <- row.names(dataset)\n",
    "\n",
    "data <- as.Seurat(sce, data = NULL)"
   ]
  },
  {
   "cell_type": "code",
   "execution_count": null,
   "id": "0b749876-ea5a-403c-8b0b-51afc8a633e3",
   "metadata": {
    "execution": {
     "iopub.execute_input": "2023-05-15T09:08:33.269575Z",
     "iopub.status.busy": "2023-05-15T09:08:33.269413Z",
     "iopub.status.idle": "2023-05-15T09:08:33.289490Z",
     "shell.execute_reply": "2023-05-15T09:08:33.289143Z"
    },
    "papermill": {
     "duration": 0.023559,
     "end_time": "2023-05-15T09:08:33.290355",
     "exception": false,
     "start_time": "2023-05-15T09:08:33.266796",
     "status": "completed"
    },
    "tags": []
   },
   "outputs": [],
   "source": [
    "%%R\n",
    "data"
   ]
  },
  {
   "cell_type": "code",
   "execution_count": null,
   "id": "b6b29b0e-92c4-4d4f-b835-c5e9d7d59455",
   "metadata": {
    "execution": {
     "iopub.execute_input": "2023-05-15T09:08:33.295521Z",
     "iopub.status.busy": "2023-05-15T09:08:33.295381Z",
     "iopub.status.idle": "2023-05-15T09:09:04.034332Z",
     "shell.execute_reply": "2023-05-15T09:09:04.033705Z"
    },
    "papermill": {
     "duration": 30.743113,
     "end_time": "2023-05-15T09:09:04.035792",
     "exception": false,
     "start_time": "2023-05-15T09:08:33.292679",
     "status": "completed"
    },
    "tags": []
   },
   "outputs": [],
   "source": [
    "%%R\n",
    "\n",
    "data <- NormalizeData(data)\n",
    "data <- ScaleData(data, features = row.names(data))\n",
    "data <- FindVariableFeatures(data)\n",
    "data <- RunPCA(data, verbose = F)\n",
    "data <- FindNeighbors(data, verbose = F)\n",
    "data <- FindClusters(data, verbose = F)\n",
    "data <- RunUMAP(data, dims = 1:20, verbose = F)"
   ]
  },
  {
   "cell_type": "code",
   "execution_count": null,
   "id": "40fa5cdd-01d7-4b40-90e6-0c97545b0711",
   "metadata": {
    "execution": {
     "iopub.execute_input": "2023-05-15T09:09:04.044879Z",
     "iopub.status.busy": "2023-05-15T09:09:04.044694Z",
     "iopub.status.idle": "2023-05-15T09:09:52.318089Z",
     "shell.execute_reply": "2023-05-15T09:09:52.317625Z"
    },
    "papermill": {
     "duration": 48.28344,
     "end_time": "2023-05-15T09:09:52.324258",
     "exception": false,
     "start_time": "2023-05-15T09:09:04.040818",
     "status": "completed"
    },
    "tags": []
   },
   "outputs": [],
   "source": [
    "%%R\n",
    "\n",
    "ref1 <- celldex::BlueprintEncodeData()\n",
    "ref2 <- celldex::MonacoImmuneData()\n",
    "cell_classification <- SingleR(test = as.SingleCellExperiment(data),\n",
    "                               ref = list(BPE = ref1, MON = ref2),\n",
    "                               labels = list(ref1$label.main, ref2$label.main))\n",
    "\n",
    "data[[\"SingleR_label\"]] <- cell_classification$labels\n",
    "\n",
    "plotScoreHeatmap(cell_classification)"
   ]
  },
  {
   "cell_type": "code",
   "execution_count": null,
   "id": "6ad7cf2f-891f-4c05-b34d-e47c84bbe27b",
   "metadata": {
    "execution": {
     "iopub.execute_input": "2023-05-15T09:09:52.331505Z",
     "iopub.status.busy": "2023-05-15T09:09:52.331345Z",
     "iopub.status.idle": "2023-05-15T09:09:52.913363Z",
     "shell.execute_reply": "2023-05-15T09:09:52.912922Z"
    },
    "papermill": {
     "duration": 0.586914,
     "end_time": "2023-05-15T09:09:52.914474",
     "exception": false,
     "start_time": "2023-05-15T09:09:52.327560",
     "status": "completed"
    },
    "tags": []
   },
   "outputs": [],
   "source": [
    "%%R -i sample_name\n",
    "\n",
    "write.csv(data@meta.data, paste0(sample_name, \"_metadata.csv\"))"
   ]
  }
 ],
 "metadata": {
  "kernelspec": {
   "display_name": "py_R",
   "language": "python",
   "name": "python_r"
  },
  "language_info": {
   "codemirror_mode": {
    "name": "ipython",
    "version": 3
   },
   "file_extension": ".py",
   "mimetype": "text/x-python",
   "name": "python",
   "nbconvert_exporter": "python",
   "pygments_lexer": "ipython3",
   "version": "3.10.9"
  },
  "papermill": {
   "default_parameters": {},
   "duration": 103.819539,
   "end_time": "2023-05-15T09:09:54.136635",
   "environment_variables": {},
   "exception": null,
   "input_path": "template.ipynb",
   "output_path": "SRR13329109.ipynb",
   "parameters": {
    "sample_name": "SRR13329109"
   },
   "start_time": "2023-05-15T09:08:10.317096",
   "version": "2.3.4"
  }
 },
 "nbformat": 4,
 "nbformat_minor": 5
}
