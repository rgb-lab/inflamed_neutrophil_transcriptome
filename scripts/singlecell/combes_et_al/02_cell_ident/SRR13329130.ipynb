{
 "cells": [
  {
   "cell_type": "code",
   "execution_count": null,
   "id": "78a6243e-1906-4e3b-ae98-4b5bd21bd37c",
   "metadata": {
    "execution": {
     "iopub.execute_input": "2023-05-15T09:38:35.250551Z",
     "iopub.status.busy": "2023-05-15T09:38:35.250422Z",
     "iopub.status.idle": "2023-05-15T09:38:35.255003Z",
     "shell.execute_reply": "2023-05-15T09:38:35.254609Z"
    },
    "papermill": {
     "duration": 0.00781,
     "end_time": "2023-05-15T09:38:35.255817",
     "exception": false,
     "start_time": "2023-05-15T09:38:35.248007",
     "status": "completed"
    },
    "tags": [
     "parameters"
    ]
   },
   "outputs": [],
   "source": [
    "sample_name = \"SRR13329143\""
   ]
  },
  {
   "cell_type": "code",
   "execution_count": null,
   "id": "ca79f44d",
   "metadata": {
    "execution": {
     "iopub.execute_input": "2023-05-15T09:38:35.259557Z",
     "iopub.status.busy": "2023-05-15T09:38:35.259267Z",
     "iopub.status.idle": "2023-05-15T09:38:35.261281Z",
     "shell.execute_reply": "2023-05-15T09:38:35.260980Z"
    },
    "papermill": {
     "duration": 0.004649,
     "end_time": "2023-05-15T09:38:35.262032",
     "exception": false,
     "start_time": "2023-05-15T09:38:35.257383",
     "status": "completed"
    },
    "tags": [
     "injected-parameters"
    ]
   },
   "outputs": [],
   "source": [
    "# Parameters\n",
    "sample_name = \"SRR13329130\"\n"
   ]
  },
  {
   "cell_type": "code",
   "execution_count": null,
   "id": "487588d5-40a0-4c35-9cd9-ee9b3e2f1d4e",
   "metadata": {
    "execution": {
     "iopub.execute_input": "2023-05-15T09:38:35.265494Z",
     "iopub.status.busy": "2023-05-15T09:38:35.265243Z",
     "iopub.status.idle": "2023-05-15T09:38:35.267452Z",
     "shell.execute_reply": "2023-05-15T09:38:35.267151Z"
    },
    "papermill": {
     "duration": 0.004817,
     "end_time": "2023-05-15T09:38:35.268246",
     "exception": false,
     "start_time": "2023-05-15T09:38:35.263429",
     "status": "completed"
    },
    "tags": []
   },
   "outputs": [],
   "source": [
    "import warnings\n",
    "warnings.simplefilter(action='ignore', category=FutureWarning)\n",
    "warnings.simplefilter(action='ignore', category=UserWarning)"
   ]
  },
  {
   "cell_type": "code",
   "execution_count": null,
   "id": "5bba6a57-54cf-4720-8653-bf94afa536ad",
   "metadata": {
    "execution": {
     "iopub.execute_input": "2023-05-15T09:38:35.271617Z",
     "iopub.status.busy": "2023-05-15T09:38:35.271467Z",
     "iopub.status.idle": "2023-05-15T09:38:39.421572Z",
     "shell.execute_reply": "2023-05-15T09:38:39.421072Z"
    },
    "papermill": {
     "duration": 4.153323,
     "end_time": "2023-05-15T09:38:39.422975",
     "exception": false,
     "start_time": "2023-05-15T09:38:35.269652",
     "status": "completed"
    },
    "tags": []
   },
   "outputs": [],
   "source": [
    "import gc\n",
    "import scanpy as sc\n",
    "import muon as mu\n",
    "import seaborn as sns\n",
    "import os\n",
    "import pandas as pd\n",
    "from matplotlib import pyplot as plt\n",
    "\n",
    "os.environ['R_HOME'] = '/gpfs/bwfor/work/ws/hd_fu399-conda/conda/envs/python_R/lib/R/'\n",
    "import anndata2ri\n",
    "import logging\n",
    "\n",
    "import rpy2.rinterface_lib.callbacks as rcb\n",
    "import rpy2.robjects as ro\n",
    "\n",
    "rcb.logger.setLevel(logging.ERROR)\n",
    "ro.pandas2ri.activate()\n",
    "anndata2ri.activate()\n",
    "\n",
    "%load_ext rpy2.ipython"
   ]
  },
  {
   "cell_type": "code",
   "execution_count": null,
   "id": "0897f8ed-b086-4ddc-a32e-6ae638ff6d14",
   "metadata": {
    "execution": {
     "iopub.execute_input": "2023-05-15T09:38:39.428244Z",
     "iopub.status.busy": "2023-05-15T09:38:39.427917Z",
     "iopub.status.idle": "2023-05-15T09:38:46.758433Z",
     "shell.execute_reply": "2023-05-15T09:38:46.757825Z"
    },
    "papermill": {
     "duration": 7.334201,
     "end_time": "2023-05-15T09:38:46.759940",
     "exception": false,
     "start_time": "2023-05-15T09:38:39.425739",
     "status": "completed"
    },
    "tags": []
   },
   "outputs": [],
   "source": [
    "%%R\n",
    "\n",
    "suppressMessages(library(SeuratDisk))\n",
    "suppressMessages(library(SingleR))\n",
    "suppressMessages(library(Seurat))\n",
    "suppressMessages(library(SingleCellExperiment))\n",
    "suppressMessages(library(UCell))"
   ]
  },
  {
   "cell_type": "code",
   "execution_count": null,
   "id": "74c6b1b1-5af7-4955-a6cc-4532fc42a266",
   "metadata": {
    "execution": {
     "iopub.execute_input": "2023-05-15T09:38:46.767012Z",
     "iopub.status.busy": "2023-05-15T09:38:46.766833Z",
     "iopub.status.idle": "2023-05-15T09:38:47.017786Z",
     "shell.execute_reply": "2023-05-15T09:38:47.017317Z"
    },
    "papermill": {
     "duration": 0.25477,
     "end_time": "2023-05-15T09:38:47.019224",
     "exception": false,
     "start_time": "2023-05-15T09:38:46.764454",
     "status": "completed"
    },
    "tags": []
   },
   "outputs": [],
   "source": [
    "dataset = sc.read(f\"../../int_data/{sample_name}_qc.h5ad\")\n",
    "dataset.X = dataset.layers[\"soupX_counts\"]"
   ]
  },
  {
   "cell_type": "code",
   "execution_count": null,
   "id": "f2520f85-0ac2-4e0d-b7f1-e5b9ce4c769d",
   "metadata": {
    "execution": {
     "iopub.execute_input": "2023-05-15T09:38:47.023658Z",
     "iopub.status.busy": "2023-05-15T09:38:47.023505Z",
     "iopub.status.idle": "2023-05-15T09:38:47.033484Z",
     "shell.execute_reply": "2023-05-15T09:38:47.033130Z"
    },
    "papermill": {
     "duration": 0.013117,
     "end_time": "2023-05-15T09:38:47.034444",
     "exception": false,
     "start_time": "2023-05-15T09:38:47.021327",
     "status": "completed"
    },
    "tags": []
   },
   "outputs": [],
   "source": [
    "dataset.obs[[\"AvgSpotLen\", \"Bases\", \"Bytes\", \"version\"]] = dataset.obs[[\"AvgSpotLen\", \"Bases\", \"Bytes\", \"version\"]].astype(\"str\")"
   ]
  },
  {
   "cell_type": "code",
   "execution_count": null,
   "id": "99f95dca-cf68-4a51-8f53-ca088aa3167b",
   "metadata": {
    "execution": {
     "iopub.execute_input": "2023-05-15T09:38:47.038329Z",
     "iopub.status.busy": "2023-05-15T09:38:47.038190Z",
     "iopub.status.idle": "2023-05-15T09:38:54.861544Z",
     "shell.execute_reply": "2023-05-15T09:38:54.860933Z"
    },
    "papermill": {
     "duration": 7.826809,
     "end_time": "2023-05-15T09:38:54.862880",
     "exception": false,
     "start_time": "2023-05-15T09:38:47.036071",
     "status": "completed"
    },
    "tags": []
   },
   "outputs": [],
   "source": [
    "%%R -i dataset\n",
    "\n",
    "sce <- SingleCellExperiment(list(counts=dataset@assays@data[[\"soupX_counts\"]]),\n",
    "    colData=dataset@colData,\n",
    ")\n",
    "\n",
    "row.names(sce) <- row.names(dataset)\n",
    "\n",
    "data <- as.Seurat(sce, data = NULL)"
   ]
  },
  {
   "cell_type": "code",
   "execution_count": null,
   "id": "0b749876-ea5a-403c-8b0b-51afc8a633e3",
   "metadata": {
    "execution": {
     "iopub.execute_input": "2023-05-15T09:38:54.869279Z",
     "iopub.status.busy": "2023-05-15T09:38:54.869118Z",
     "iopub.status.idle": "2023-05-15T09:38:54.890294Z",
     "shell.execute_reply": "2023-05-15T09:38:54.889942Z"
    },
    "papermill": {
     "duration": 0.024306,
     "end_time": "2023-05-15T09:38:54.891076",
     "exception": false,
     "start_time": "2023-05-15T09:38:54.866770",
     "status": "completed"
    },
    "tags": []
   },
   "outputs": [],
   "source": [
    "%%R\n",
    "data"
   ]
  },
  {
   "cell_type": "code",
   "execution_count": null,
   "id": "b6b29b0e-92c4-4d4f-b835-c5e9d7d59455",
   "metadata": {
    "execution": {
     "iopub.execute_input": "2023-05-15T09:38:54.896517Z",
     "iopub.status.busy": "2023-05-15T09:38:54.896375Z",
     "iopub.status.idle": "2023-05-15T09:39:14.603281Z",
     "shell.execute_reply": "2023-05-15T09:39:14.602652Z"
    },
    "papermill": {
     "duration": 19.711347,
     "end_time": "2023-05-15T09:39:14.604869",
     "exception": false,
     "start_time": "2023-05-15T09:38:54.893522",
     "status": "completed"
    },
    "tags": []
   },
   "outputs": [],
   "source": [
    "%%R\n",
    "\n",
    "data <- NormalizeData(data)\n",
    "data <- ScaleData(data, features = row.names(data))\n",
    "data <- FindVariableFeatures(data)\n",
    "data <- RunPCA(data, verbose = F)\n",
    "data <- FindNeighbors(data, verbose = F)\n",
    "data <- FindClusters(data, verbose = F)\n",
    "data <- RunUMAP(data, dims = 1:20, verbose = F)"
   ]
  },
  {
   "cell_type": "code",
   "execution_count": null,
   "id": "40fa5cdd-01d7-4b40-90e6-0c97545b0711",
   "metadata": {
    "execution": {
     "iopub.execute_input": "2023-05-15T09:39:14.613461Z",
     "iopub.status.busy": "2023-05-15T09:39:14.613293Z",
     "iopub.status.idle": "2023-05-15T09:39:52.902859Z",
     "shell.execute_reply": "2023-05-15T09:39:52.902391Z"
    },
    "papermill": {
     "duration": 38.298308,
     "end_time": "2023-05-15T09:39:52.908207",
     "exception": false,
     "start_time": "2023-05-15T09:39:14.609899",
     "status": "completed"
    },
    "tags": []
   },
   "outputs": [],
   "source": [
    "%%R\n",
    "\n",
    "ref1 <- celldex::BlueprintEncodeData()\n",
    "ref2 <- celldex::MonacoImmuneData()\n",
    "cell_classification <- SingleR(test = as.SingleCellExperiment(data),\n",
    "                               ref = list(BPE = ref1, MON = ref2),\n",
    "                               labels = list(ref1$label.main, ref2$label.main))\n",
    "\n",
    "data[[\"SingleR_label\"]] <- cell_classification$labels\n",
    "\n",
    "plotScoreHeatmap(cell_classification)"
   ]
  },
  {
   "cell_type": "code",
   "execution_count": null,
   "id": "6ad7cf2f-891f-4c05-b34d-e47c84bbe27b",
   "metadata": {
    "execution": {
     "iopub.execute_input": "2023-05-15T09:39:52.915355Z",
     "iopub.status.busy": "2023-05-15T09:39:52.915176Z",
     "iopub.status.idle": "2023-05-15T09:39:53.395118Z",
     "shell.execute_reply": "2023-05-15T09:39:53.394676Z"
    },
    "papermill": {
     "duration": 0.484838,
     "end_time": "2023-05-15T09:39:53.396213",
     "exception": false,
     "start_time": "2023-05-15T09:39:52.911375",
     "status": "completed"
    },
    "tags": []
   },
   "outputs": [],
   "source": [
    "%%R -i sample_name\n",
    "\n",
    "write.csv(data@meta.data, paste0(sample_name, \"_metadata.csv\"))"
   ]
  }
 ],
 "metadata": {
  "kernelspec": {
   "display_name": "py_R",
   "language": "python",
   "name": "python_r"
  },
  "language_info": {
   "codemirror_mode": {
    "name": "ipython",
    "version": 3
   },
   "file_extension": ".py",
   "mimetype": "text/x-python",
   "name": "python",
   "nbconvert_exporter": "python",
   "pygments_lexer": "ipython3",
   "version": "3.10.9"
  },
  "papermill": {
   "default_parameters": {},
   "duration": 80.674537,
   "end_time": "2023-05-15T09:39:54.718192",
   "environment_variables": {},
   "exception": null,
   "input_path": "template.ipynb",
   "output_path": "SRR13329130.ipynb",
   "parameters": {
    "sample_name": "SRR13329130"
   },
   "start_time": "2023-05-15T09:38:34.043655",
   "version": "2.3.4"
  }
 },
 "nbformat": 4,
 "nbformat_minor": 5
}
