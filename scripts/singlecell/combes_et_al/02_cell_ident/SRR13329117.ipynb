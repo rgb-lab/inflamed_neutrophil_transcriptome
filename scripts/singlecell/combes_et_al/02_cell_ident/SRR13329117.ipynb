{
 "cells": [
  {
   "cell_type": "code",
   "execution_count": null,
   "id": "78a6243e-1906-4e3b-ae98-4b5bd21bd37c",
   "metadata": {
    "execution": {
     "iopub.execute_input": "2023-05-15T08:58:58.326757Z",
     "iopub.status.busy": "2023-05-15T08:58:58.326588Z",
     "iopub.status.idle": "2023-05-15T08:58:58.331246Z",
     "shell.execute_reply": "2023-05-15T08:58:58.330929Z"
    },
    "papermill": {
     "duration": 0.008619,
     "end_time": "2023-05-15T08:58:58.332051",
     "exception": false,
     "start_time": "2023-05-15T08:58:58.323432",
     "status": "completed"
    },
    "tags": [
     "parameters"
    ]
   },
   "outputs": [],
   "source": [
    "sample_name = \"SRR13329143\""
   ]
  },
  {
   "cell_type": "code",
   "execution_count": null,
   "id": "709e5f6e",
   "metadata": {
    "execution": {
     "iopub.execute_input": "2023-05-15T08:58:58.335612Z",
     "iopub.status.busy": "2023-05-15T08:58:58.335473Z",
     "iopub.status.idle": "2023-05-15T08:58:58.349139Z",
     "shell.execute_reply": "2023-05-15T08:58:58.348826Z"
    },
    "papermill": {
     "duration": 0.016287,
     "end_time": "2023-05-15T08:58:58.349900",
     "exception": false,
     "start_time": "2023-05-15T08:58:58.333613",
     "status": "completed"
    },
    "tags": [
     "injected-parameters"
    ]
   },
   "outputs": [],
   "source": [
    "# Parameters\n",
    "sample_name = \"SRR13329117\"\n"
   ]
  },
  {
   "cell_type": "code",
   "execution_count": null,
   "id": "487588d5-40a0-4c35-9cd9-ee9b3e2f1d4e",
   "metadata": {
    "execution": {
     "iopub.execute_input": "2023-05-15T08:58:58.353427Z",
     "iopub.status.busy": "2023-05-15T08:58:58.353298Z",
     "iopub.status.idle": "2023-05-15T08:58:58.355575Z",
     "shell.execute_reply": "2023-05-15T08:58:58.355238Z"
    },
    "papermill": {
     "duration": 0.004895,
     "end_time": "2023-05-15T08:58:58.356347",
     "exception": false,
     "start_time": "2023-05-15T08:58:58.351452",
     "status": "completed"
    },
    "tags": []
   },
   "outputs": [],
   "source": [
    "import warnings\n",
    "warnings.simplefilter(action='ignore', category=FutureWarning)\n",
    "warnings.simplefilter(action='ignore', category=UserWarning)"
   ]
  },
  {
   "cell_type": "code",
   "execution_count": null,
   "id": "5bba6a57-54cf-4720-8653-bf94afa536ad",
   "metadata": {
    "execution": {
     "iopub.execute_input": "2023-05-15T08:58:58.359898Z",
     "iopub.status.busy": "2023-05-15T08:58:58.359774Z",
     "iopub.status.idle": "2023-05-15T08:59:03.142971Z",
     "shell.execute_reply": "2023-05-15T08:59:03.142494Z"
    },
    "papermill": {
     "duration": 4.786424,
     "end_time": "2023-05-15T08:59:03.144348",
     "exception": false,
     "start_time": "2023-05-15T08:58:58.357924",
     "status": "completed"
    },
    "tags": []
   },
   "outputs": [],
   "source": [
    "import gc\n",
    "import scanpy as sc\n",
    "import muon as mu\n",
    "import seaborn as sns\n",
    "import os\n",
    "import pandas as pd\n",
    "from matplotlib import pyplot as plt\n",
    "\n",
    "os.environ['R_HOME'] = '/gpfs/bwfor/work/ws/hd_fu399-conda/conda/envs/python_R/lib/R/'\n",
    "import anndata2ri\n",
    "import logging\n",
    "\n",
    "import rpy2.rinterface_lib.callbacks as rcb\n",
    "import rpy2.robjects as ro\n",
    "\n",
    "rcb.logger.setLevel(logging.ERROR)\n",
    "ro.pandas2ri.activate()\n",
    "anndata2ri.activate()\n",
    "\n",
    "%load_ext rpy2.ipython"
   ]
  },
  {
   "cell_type": "code",
   "execution_count": null,
   "id": "0897f8ed-b086-4ddc-a32e-6ae638ff6d14",
   "metadata": {
    "execution": {
     "iopub.execute_input": "2023-05-15T08:59:03.148853Z",
     "iopub.status.busy": "2023-05-15T08:59:03.148612Z",
     "iopub.status.idle": "2023-05-15T08:59:11.862197Z",
     "shell.execute_reply": "2023-05-15T08:59:11.861573Z"
    },
    "papermill": {
     "duration": 8.717333,
     "end_time": "2023-05-15T08:59:11.863816",
     "exception": false,
     "start_time": "2023-05-15T08:59:03.146483",
     "status": "completed"
    },
    "tags": []
   },
   "outputs": [],
   "source": [
    "%%R\n",
    "\n",
    "suppressMessages(library(SeuratDisk))\n",
    "suppressMessages(library(SingleR))\n",
    "suppressMessages(library(Seurat))\n",
    "suppressMessages(library(SingleCellExperiment))\n",
    "suppressMessages(library(UCell))"
   ]
  },
  {
   "cell_type": "code",
   "execution_count": null,
   "id": "74c6b1b1-5af7-4955-a6cc-4532fc42a266",
   "metadata": {
    "execution": {
     "iopub.execute_input": "2023-05-15T08:59:11.870589Z",
     "iopub.status.busy": "2023-05-15T08:59:11.870409Z",
     "iopub.status.idle": "2023-05-15T08:59:12.163813Z",
     "shell.execute_reply": "2023-05-15T08:59:12.163346Z"
    },
    "papermill": {
     "duration": 0.297306,
     "end_time": "2023-05-15T08:59:12.165309",
     "exception": false,
     "start_time": "2023-05-15T08:59:11.868003",
     "status": "completed"
    },
    "tags": []
   },
   "outputs": [],
   "source": [
    "dataset = sc.read(f\"../../int_data/{sample_name}_qc.h5ad\")\n",
    "dataset.X = dataset.layers[\"soupX_counts\"]"
   ]
  },
  {
   "cell_type": "code",
   "execution_count": null,
   "id": "f2520f85-0ac2-4e0d-b7f1-e5b9ce4c769d",
   "metadata": {
    "execution": {
     "iopub.execute_input": "2023-05-15T08:59:12.169673Z",
     "iopub.status.busy": "2023-05-15T08:59:12.169530Z",
     "iopub.status.idle": "2023-05-15T08:59:12.178998Z",
     "shell.execute_reply": "2023-05-15T08:59:12.178649Z"
    },
    "papermill": {
     "duration": 0.012503,
     "end_time": "2023-05-15T08:59:12.179890",
     "exception": false,
     "start_time": "2023-05-15T08:59:12.167387",
     "status": "completed"
    },
    "tags": []
   },
   "outputs": [],
   "source": [
    "dataset.obs[[\"AvgSpotLen\", \"Bases\", \"Bytes\", \"version\"]] = dataset.obs[[\"AvgSpotLen\", \"Bases\", \"Bytes\", \"version\"]].astype(\"str\")"
   ]
  },
  {
   "cell_type": "code",
   "execution_count": null,
   "id": "99f95dca-cf68-4a51-8f53-ca088aa3167b",
   "metadata": {
    "execution": {
     "iopub.execute_input": "2023-05-15T08:59:12.183759Z",
     "iopub.status.busy": "2023-05-15T08:59:12.183478Z",
     "iopub.status.idle": "2023-05-15T08:59:19.264116Z",
     "shell.execute_reply": "2023-05-15T08:59:19.263588Z"
    },
    "papermill": {
     "duration": 7.083991,
     "end_time": "2023-05-15T08:59:19.265460",
     "exception": false,
     "start_time": "2023-05-15T08:59:12.181469",
     "status": "completed"
    },
    "tags": []
   },
   "outputs": [],
   "source": [
    "%%R -i dataset\n",
    "\n",
    "sce <- SingleCellExperiment(list(counts=dataset@assays@data[[\"soupX_counts\"]]),\n",
    "    colData=dataset@colData,\n",
    ")\n",
    "\n",
    "row.names(sce) <- row.names(dataset)\n",
    "\n",
    "data <- as.Seurat(sce, data = NULL)"
   ]
  },
  {
   "cell_type": "code",
   "execution_count": null,
   "id": "0b749876-ea5a-403c-8b0b-51afc8a633e3",
   "metadata": {
    "execution": {
     "iopub.execute_input": "2023-05-15T08:59:19.270302Z",
     "iopub.status.busy": "2023-05-15T08:59:19.270130Z",
     "iopub.status.idle": "2023-05-15T08:59:19.290438Z",
     "shell.execute_reply": "2023-05-15T08:59:19.290107Z"
    },
    "papermill": {
     "duration": 0.023326,
     "end_time": "2023-05-15T08:59:19.291206",
     "exception": false,
     "start_time": "2023-05-15T08:59:19.267880",
     "status": "completed"
    },
    "tags": []
   },
   "outputs": [],
   "source": [
    "%%R\n",
    "data"
   ]
  },
  {
   "cell_type": "code",
   "execution_count": null,
   "id": "b6b29b0e-92c4-4d4f-b835-c5e9d7d59455",
   "metadata": {
    "execution": {
     "iopub.execute_input": "2023-05-15T08:59:19.296690Z",
     "iopub.status.busy": "2023-05-15T08:59:19.296553Z",
     "iopub.status.idle": "2023-05-15T08:59:38.716518Z",
     "shell.execute_reply": "2023-05-15T08:59:38.715858Z"
    },
    "papermill": {
     "duration": 19.424071,
     "end_time": "2023-05-15T08:59:38.717879",
     "exception": false,
     "start_time": "2023-05-15T08:59:19.293808",
     "status": "completed"
    },
    "tags": []
   },
   "outputs": [],
   "source": [
    "%%R\n",
    "\n",
    "data <- NormalizeData(data)\n",
    "data <- ScaleData(data, features = row.names(data))\n",
    "data <- FindVariableFeatures(data)\n",
    "data <- RunPCA(data, verbose = F)\n",
    "data <- FindNeighbors(data, verbose = F)\n",
    "data <- FindClusters(data, verbose = F)\n",
    "data <- RunUMAP(data, dims = 1:20, verbose = F)"
   ]
  },
  {
   "cell_type": "code",
   "execution_count": null,
   "id": "40fa5cdd-01d7-4b40-90e6-0c97545b0711",
   "metadata": {
    "execution": {
     "iopub.execute_input": "2023-05-15T08:59:38.726498Z",
     "iopub.status.busy": "2023-05-15T08:59:38.726290Z",
     "iopub.status.idle": "2023-05-15T09:00:12.162605Z",
     "shell.execute_reply": "2023-05-15T09:00:12.162162Z"
    },
    "papermill": {
     "duration": 33.446097,
     "end_time": "2023-05-15T09:00:12.169108",
     "exception": false,
     "start_time": "2023-05-15T08:59:38.723011",
     "status": "completed"
    },
    "tags": []
   },
   "outputs": [],
   "source": [
    "%%R\n",
    "\n",
    "ref1 <- celldex::BlueprintEncodeData()\n",
    "ref2 <- celldex::MonacoImmuneData()\n",
    "cell_classification <- SingleR(test = as.SingleCellExperiment(data),\n",
    "                               ref = list(BPE = ref1, MON = ref2),\n",
    "                               labels = list(ref1$label.main, ref2$label.main))\n",
    "\n",
    "data[[\"SingleR_label\"]] <- cell_classification$labels\n",
    "\n",
    "plotScoreHeatmap(cell_classification)"
   ]
  },
  {
   "cell_type": "code",
   "execution_count": null,
   "id": "6ad7cf2f-891f-4c05-b34d-e47c84bbe27b",
   "metadata": {
    "execution": {
     "iopub.execute_input": "2023-05-15T09:00:12.176469Z",
     "iopub.status.busy": "2023-05-15T09:00:12.176290Z",
     "iopub.status.idle": "2023-05-15T09:00:12.261798Z",
     "shell.execute_reply": "2023-05-15T09:00:12.261457Z"
    },
    "papermill": {
     "duration": 0.090423,
     "end_time": "2023-05-15T09:00:12.262859",
     "exception": false,
     "start_time": "2023-05-15T09:00:12.172436",
     "status": "completed"
    },
    "tags": []
   },
   "outputs": [],
   "source": [
    "%%R -i sample_name\n",
    "\n",
    "write.csv(data@meta.data, paste0(sample_name, \"_metadata.csv\"))"
   ]
  }
 ],
 "metadata": {
  "kernelspec": {
   "display_name": "py_R",
   "language": "python",
   "name": "python_r"
  },
  "language_info": {
   "codemirror_mode": {
    "name": "ipython",
    "version": 3
   },
   "file_extension": ".py",
   "mimetype": "text/x-python",
   "name": "python",
   "nbconvert_exporter": "python",
   "pygments_lexer": "ipython3",
   "version": "3.10.9"
  },
  "papermill": {
   "default_parameters": {},
   "duration": 76.094578,
   "end_time": "2023-05-15T09:00:13.584133",
   "environment_variables": {},
   "exception": null,
   "input_path": "template.ipynb",
   "output_path": "SRR13329117.ipynb",
   "parameters": {
    "sample_name": "SRR13329117"
   },
   "start_time": "2023-05-15T08:58:57.489555",
   "version": "2.3.4"
  }
 },
 "nbformat": 4,
 "nbformat_minor": 5
}
