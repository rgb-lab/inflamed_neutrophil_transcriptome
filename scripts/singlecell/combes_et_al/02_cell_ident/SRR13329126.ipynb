{
 "cells": [
  {
   "cell_type": "code",
   "execution_count": null,
   "id": "78a6243e-1906-4e3b-ae98-4b5bd21bd37c",
   "metadata": {
    "execution": {
     "iopub.execute_input": "2023-05-15T09:37:33.157775Z",
     "iopub.status.busy": "2023-05-15T09:37:33.157531Z",
     "iopub.status.idle": "2023-05-15T09:37:33.162560Z",
     "shell.execute_reply": "2023-05-15T09:37:33.162227Z"
    },
    "papermill": {
     "duration": 0.008948,
     "end_time": "2023-05-15T09:37:33.163476",
     "exception": false,
     "start_time": "2023-05-15T09:37:33.154528",
     "status": "completed"
    },
    "tags": [
     "parameters"
    ]
   },
   "outputs": [],
   "source": [
    "sample_name = \"SRR13329143\""
   ]
  },
  {
   "cell_type": "code",
   "execution_count": null,
   "id": "d7548858",
   "metadata": {
    "execution": {
     "iopub.execute_input": "2023-05-15T09:37:33.166982Z",
     "iopub.status.busy": "2023-05-15T09:37:33.166818Z",
     "iopub.status.idle": "2023-05-15T09:37:33.168764Z",
     "shell.execute_reply": "2023-05-15T09:37:33.168458Z"
    },
    "papermill": {
     "duration": 0.004603,
     "end_time": "2023-05-15T09:37:33.169576",
     "exception": false,
     "start_time": "2023-05-15T09:37:33.164973",
     "status": "completed"
    },
    "tags": [
     "injected-parameters"
    ]
   },
   "outputs": [],
   "source": [
    "# Parameters\n",
    "sample_name = \"SRR13329126\"\n"
   ]
  },
  {
   "cell_type": "code",
   "execution_count": null,
   "id": "487588d5-40a0-4c35-9cd9-ee9b3e2f1d4e",
   "metadata": {
    "execution": {
     "iopub.execute_input": "2023-05-15T09:37:33.173092Z",
     "iopub.status.busy": "2023-05-15T09:37:33.172864Z",
     "iopub.status.idle": "2023-05-15T09:37:33.175088Z",
     "shell.execute_reply": "2023-05-15T09:37:33.174769Z"
    },
    "papermill": {
     "duration": 0.004864,
     "end_time": "2023-05-15T09:37:33.175911",
     "exception": false,
     "start_time": "2023-05-15T09:37:33.171047",
     "status": "completed"
    },
    "tags": []
   },
   "outputs": [],
   "source": [
    "import warnings\n",
    "warnings.simplefilter(action='ignore', category=FutureWarning)\n",
    "warnings.simplefilter(action='ignore', category=UserWarning)"
   ]
  },
  {
   "cell_type": "code",
   "execution_count": null,
   "id": "5bba6a57-54cf-4720-8653-bf94afa536ad",
   "metadata": {
    "execution": {
     "iopub.execute_input": "2023-05-15T09:37:33.180639Z",
     "iopub.status.busy": "2023-05-15T09:37:33.179941Z",
     "iopub.status.idle": "2023-05-15T09:37:37.881598Z",
     "shell.execute_reply": "2023-05-15T09:37:37.881078Z"
    },
    "papermill": {
     "duration": 4.705942,
     "end_time": "2023-05-15T09:37:37.883325",
     "exception": false,
     "start_time": "2023-05-15T09:37:33.177383",
     "status": "completed"
    },
    "tags": []
   },
   "outputs": [],
   "source": [
    "import gc\n",
    "import scanpy as sc\n",
    "import muon as mu\n",
    "import seaborn as sns\n",
    "import os\n",
    "import pandas as pd\n",
    "from matplotlib import pyplot as plt\n",
    "\n",
    "os.environ['R_HOME'] = '/gpfs/bwfor/work/ws/hd_fu399-conda/conda/envs/python_R/lib/R/'\n",
    "import anndata2ri\n",
    "import logging\n",
    "\n",
    "import rpy2.rinterface_lib.callbacks as rcb\n",
    "import rpy2.robjects as ro\n",
    "\n",
    "rcb.logger.setLevel(logging.ERROR)\n",
    "ro.pandas2ri.activate()\n",
    "anndata2ri.activate()\n",
    "\n",
    "%load_ext rpy2.ipython"
   ]
  },
  {
   "cell_type": "code",
   "execution_count": null,
   "id": "0897f8ed-b086-4ddc-a32e-6ae638ff6d14",
   "metadata": {
    "execution": {
     "iopub.execute_input": "2023-05-15T09:37:37.888538Z",
     "iopub.status.busy": "2023-05-15T09:37:37.888248Z",
     "iopub.status.idle": "2023-05-15T09:37:46.200576Z",
     "shell.execute_reply": "2023-05-15T09:37:46.200016Z"
    },
    "papermill": {
     "duration": 8.316352,
     "end_time": "2023-05-15T09:37:46.202274",
     "exception": false,
     "start_time": "2023-05-15T09:37:37.885922",
     "status": "completed"
    },
    "tags": []
   },
   "outputs": [],
   "source": [
    "%%R\n",
    "\n",
    "suppressMessages(library(SeuratDisk))\n",
    "suppressMessages(library(SingleR))\n",
    "suppressMessages(library(Seurat))\n",
    "suppressMessages(library(SingleCellExperiment))\n",
    "suppressMessages(library(UCell))"
   ]
  },
  {
   "cell_type": "code",
   "execution_count": null,
   "id": "74c6b1b1-5af7-4955-a6cc-4532fc42a266",
   "metadata": {
    "execution": {
     "iopub.execute_input": "2023-05-15T09:37:46.209529Z",
     "iopub.status.busy": "2023-05-15T09:37:46.209328Z",
     "iopub.status.idle": "2023-05-15T09:37:46.534029Z",
     "shell.execute_reply": "2023-05-15T09:37:46.533544Z"
    },
    "papermill": {
     "duration": 0.329147,
     "end_time": "2023-05-15T09:37:46.535707",
     "exception": false,
     "start_time": "2023-05-15T09:37:46.206560",
     "status": "completed"
    },
    "tags": []
   },
   "outputs": [],
   "source": [
    "dataset = sc.read(f\"../../int_data/{sample_name}_qc.h5ad\")\n",
    "dataset.X = dataset.layers[\"soupX_counts\"]"
   ]
  },
  {
   "cell_type": "code",
   "execution_count": null,
   "id": "f2520f85-0ac2-4e0d-b7f1-e5b9ce4c769d",
   "metadata": {
    "execution": {
     "iopub.execute_input": "2023-05-15T09:37:46.540866Z",
     "iopub.status.busy": "2023-05-15T09:37:46.540722Z",
     "iopub.status.idle": "2023-05-15T09:37:46.547978Z",
     "shell.execute_reply": "2023-05-15T09:37:46.547638Z"
    },
    "papermill": {
     "duration": 0.010683,
     "end_time": "2023-05-15T09:37:46.548850",
     "exception": false,
     "start_time": "2023-05-15T09:37:46.538167",
     "status": "completed"
    },
    "tags": []
   },
   "outputs": [],
   "source": [
    "dataset.obs[[\"AvgSpotLen\", \"Bases\", \"Bytes\", \"version\"]] = dataset.obs[[\"AvgSpotLen\", \"Bases\", \"Bytes\", \"version\"]].astype(\"str\")"
   ]
  },
  {
   "cell_type": "code",
   "execution_count": null,
   "id": "99f95dca-cf68-4a51-8f53-ca088aa3167b",
   "metadata": {
    "execution": {
     "iopub.execute_input": "2023-05-15T09:37:46.552885Z",
     "iopub.status.busy": "2023-05-15T09:37:46.552718Z",
     "iopub.status.idle": "2023-05-15T09:37:54.180145Z",
     "shell.execute_reply": "2023-05-15T09:37:54.179549Z"
    },
    "papermill": {
     "duration": 7.631186,
     "end_time": "2023-05-15T09:37:54.181698",
     "exception": false,
     "start_time": "2023-05-15T09:37:46.550512",
     "status": "completed"
    },
    "tags": []
   },
   "outputs": [],
   "source": [
    "%%R -i dataset\n",
    "\n",
    "sce <- SingleCellExperiment(list(counts=dataset@assays@data[[\"soupX_counts\"]]),\n",
    "    colData=dataset@colData,\n",
    ")\n",
    "\n",
    "row.names(sce) <- row.names(dataset)\n",
    "\n",
    "data <- as.Seurat(sce, data = NULL)"
   ]
  },
  {
   "cell_type": "code",
   "execution_count": null,
   "id": "0b749876-ea5a-403c-8b0b-51afc8a633e3",
   "metadata": {
    "execution": {
     "iopub.execute_input": "2023-05-15T09:37:54.188763Z",
     "iopub.status.busy": "2023-05-15T09:37:54.188602Z",
     "iopub.status.idle": "2023-05-15T09:37:54.208498Z",
     "shell.execute_reply": "2023-05-15T09:37:54.208162Z"
    },
    "papermill": {
     "duration": 0.023203,
     "end_time": "2023-05-15T09:37:54.209382",
     "exception": false,
     "start_time": "2023-05-15T09:37:54.186179",
     "status": "completed"
    },
    "tags": []
   },
   "outputs": [],
   "source": [
    "%%R\n",
    "data"
   ]
  },
  {
   "cell_type": "code",
   "execution_count": null,
   "id": "b6b29b0e-92c4-4d4f-b835-c5e9d7d59455",
   "metadata": {
    "execution": {
     "iopub.execute_input": "2023-05-15T09:37:54.214736Z",
     "iopub.status.busy": "2023-05-15T09:37:54.214600Z",
     "iopub.status.idle": "2023-05-15T09:38:06.428620Z",
     "shell.execute_reply": "2023-05-15T09:38:06.428125Z"
    },
    "papermill": {
     "duration": 12.218255,
     "end_time": "2023-05-15T09:38:06.430095",
     "exception": false,
     "start_time": "2023-05-15T09:37:54.211840",
     "status": "completed"
    },
    "tags": []
   },
   "outputs": [],
   "source": [
    "%%R\n",
    "\n",
    "data <- NormalizeData(data)\n",
    "data <- ScaleData(data, features = row.names(data))\n",
    "data <- FindVariableFeatures(data)\n",
    "data <- RunPCA(data, verbose = F)\n",
    "data <- FindNeighbors(data, verbose = F)\n",
    "data <- FindClusters(data, verbose = F)\n",
    "data <- RunUMAP(data, dims = 1:20, verbose = F)"
   ]
  },
  {
   "cell_type": "code",
   "execution_count": null,
   "id": "40fa5cdd-01d7-4b40-90e6-0c97545b0711",
   "metadata": {
    "execution": {
     "iopub.execute_input": "2023-05-15T09:38:06.438605Z",
     "iopub.status.busy": "2023-05-15T09:38:06.438435Z",
     "iopub.status.idle": "2023-05-15T09:38:32.341007Z",
     "shell.execute_reply": "2023-05-15T09:38:32.340543Z"
    },
    "papermill": {
     "duration": 25.907109,
     "end_time": "2023-05-15T09:38:32.341995",
     "exception": false,
     "start_time": "2023-05-15T09:38:06.434886",
     "status": "completed"
    },
    "tags": []
   },
   "outputs": [],
   "source": [
    "%%R\n",
    "\n",
    "ref1 <- celldex::BlueprintEncodeData()\n",
    "ref2 <- celldex::MonacoImmuneData()\n",
    "cell_classification <- SingleR(test = as.SingleCellExperiment(data),\n",
    "                               ref = list(BPE = ref1, MON = ref2),\n",
    "                               labels = list(ref1$label.main, ref2$label.main))\n",
    "\n",
    "data[[\"SingleR_label\"]] <- cell_classification$labels\n",
    "\n",
    "plotScoreHeatmap(cell_classification)"
   ]
  },
  {
   "cell_type": "code",
   "execution_count": null,
   "id": "6ad7cf2f-891f-4c05-b34d-e47c84bbe27b",
   "metadata": {
    "execution": {
     "iopub.execute_input": "2023-05-15T09:38:32.351597Z",
     "iopub.status.busy": "2023-05-15T09:38:32.351438Z",
     "iopub.status.idle": "2023-05-15T09:38:32.708445Z",
     "shell.execute_reply": "2023-05-15T09:38:32.707985Z"
    },
    "papermill": {
     "duration": 0.362151,
     "end_time": "2023-05-15T09:38:32.709754",
     "exception": false,
     "start_time": "2023-05-15T09:38:32.347603",
     "status": "completed"
    },
    "tags": []
   },
   "outputs": [],
   "source": [
    "%%R -i sample_name\n",
    "\n",
    "write.csv(data@meta.data, paste0(sample_name, \"_metadata.csv\"))"
   ]
  }
 ],
 "metadata": {
  "kernelspec": {
   "display_name": "py_R",
   "language": "python",
   "name": "python_r"
  },
  "language_info": {
   "codemirror_mode": {
    "name": "ipython",
    "version": 3
   },
   "file_extension": ".py",
   "mimetype": "text/x-python",
   "name": "python",
   "nbconvert_exporter": "python",
   "pygments_lexer": "ipython3",
   "version": "3.10.9"
  },
  "papermill": {
   "default_parameters": {},
   "duration": 61.993311,
   "end_time": "2023-05-15T09:38:34.033926",
   "environment_variables": {},
   "exception": null,
   "input_path": "template.ipynb",
   "output_path": "SRR13329126.ipynb",
   "parameters": {
    "sample_name": "SRR13329126"
   },
   "start_time": "2023-05-15T09:37:32.040615",
   "version": "2.3.4"
  }
 },
 "nbformat": 4,
 "nbformat_minor": 5
}
