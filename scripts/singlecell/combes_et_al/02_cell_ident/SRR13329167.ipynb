{
 "cells": [
  {
   "cell_type": "code",
   "execution_count": null,
   "id": "78a6243e-1906-4e3b-ae98-4b5bd21bd37c",
   "metadata": {
    "execution": {
     "iopub.execute_input": "2023-05-15T09:06:42.828221Z",
     "iopub.status.busy": "2023-05-15T09:06:42.828012Z",
     "iopub.status.idle": "2023-05-15T09:06:42.832870Z",
     "shell.execute_reply": "2023-05-15T09:06:42.832462Z"
    },
    "papermill": {
     "duration": 0.00877,
     "end_time": "2023-05-15T09:06:42.833880",
     "exception": false,
     "start_time": "2023-05-15T09:06:42.825110",
     "status": "completed"
    },
    "tags": [
     "parameters"
    ]
   },
   "outputs": [],
   "source": [
    "sample_name = \"SRR13329143\""
   ]
  },
  {
   "cell_type": "code",
   "execution_count": null,
   "id": "9df5ec45",
   "metadata": {
    "execution": {
     "iopub.execute_input": "2023-05-15T09:06:42.837438Z",
     "iopub.status.busy": "2023-05-15T09:06:42.837286Z",
     "iopub.status.idle": "2023-05-15T09:06:42.839832Z",
     "shell.execute_reply": "2023-05-15T09:06:42.839525Z"
    },
    "papermill": {
     "duration": 0.005128,
     "end_time": "2023-05-15T09:06:42.840577",
     "exception": false,
     "start_time": "2023-05-15T09:06:42.835449",
     "status": "completed"
    },
    "tags": [
     "injected-parameters"
    ]
   },
   "outputs": [],
   "source": [
    "# Parameters\n",
    "sample_name = \"SRR13329167\"\n"
   ]
  },
  {
   "cell_type": "code",
   "execution_count": null,
   "id": "487588d5-40a0-4c35-9cd9-ee9b3e2f1d4e",
   "metadata": {
    "execution": {
     "iopub.execute_input": "2023-05-15T09:06:42.844021Z",
     "iopub.status.busy": "2023-05-15T09:06:42.843810Z",
     "iopub.status.idle": "2023-05-15T09:06:42.847945Z",
     "shell.execute_reply": "2023-05-15T09:06:42.847624Z"
    },
    "papermill": {
     "duration": 0.006673,
     "end_time": "2023-05-15T09:06:42.848688",
     "exception": false,
     "start_time": "2023-05-15T09:06:42.842015",
     "status": "completed"
    },
    "tags": []
   },
   "outputs": [],
   "source": [
    "import warnings\n",
    "warnings.simplefilter(action='ignore', category=FutureWarning)\n",
    "warnings.simplefilter(action='ignore', category=UserWarning)"
   ]
  },
  {
   "cell_type": "code",
   "execution_count": null,
   "id": "5bba6a57-54cf-4720-8653-bf94afa536ad",
   "metadata": {
    "execution": {
     "iopub.execute_input": "2023-05-15T09:06:42.852143Z",
     "iopub.status.busy": "2023-05-15T09:06:42.851914Z",
     "iopub.status.idle": "2023-05-15T09:06:47.317579Z",
     "shell.execute_reply": "2023-05-15T09:06:47.317100Z"
    },
    "papermill": {
     "duration": 4.468995,
     "end_time": "2023-05-15T09:06:47.319093",
     "exception": false,
     "start_time": "2023-05-15T09:06:42.850098",
     "status": "completed"
    },
    "tags": []
   },
   "outputs": [],
   "source": [
    "import gc\n",
    "import scanpy as sc\n",
    "import muon as mu\n",
    "import seaborn as sns\n",
    "import os\n",
    "import pandas as pd\n",
    "from matplotlib import pyplot as plt\n",
    "\n",
    "os.environ['R_HOME'] = '/gpfs/bwfor/work/ws/hd_fu399-conda/conda/envs/python_R/lib/R/'\n",
    "import anndata2ri\n",
    "import logging\n",
    "\n",
    "import rpy2.rinterface_lib.callbacks as rcb\n",
    "import rpy2.robjects as ro\n",
    "\n",
    "rcb.logger.setLevel(logging.ERROR)\n",
    "ro.pandas2ri.activate()\n",
    "anndata2ri.activate()\n",
    "\n",
    "%load_ext rpy2.ipython"
   ]
  },
  {
   "cell_type": "code",
   "execution_count": null,
   "id": "0897f8ed-b086-4ddc-a32e-6ae638ff6d14",
   "metadata": {
    "execution": {
     "iopub.execute_input": "2023-05-15T09:06:47.323731Z",
     "iopub.status.busy": "2023-05-15T09:06:47.323447Z",
     "iopub.status.idle": "2023-05-15T09:06:54.874420Z",
     "shell.execute_reply": "2023-05-15T09:06:54.873922Z"
    },
    "papermill": {
     "duration": 7.554526,
     "end_time": "2023-05-15T09:06:54.875883",
     "exception": false,
     "start_time": "2023-05-15T09:06:47.321357",
     "status": "completed"
    },
    "tags": []
   },
   "outputs": [],
   "source": [
    "%%R\n",
    "\n",
    "suppressMessages(library(SeuratDisk))\n",
    "suppressMessages(library(SingleR))\n",
    "suppressMessages(library(Seurat))\n",
    "suppressMessages(library(SingleCellExperiment))\n",
    "suppressMessages(library(UCell))"
   ]
  },
  {
   "cell_type": "code",
   "execution_count": null,
   "id": "74c6b1b1-5af7-4955-a6cc-4532fc42a266",
   "metadata": {
    "execution": {
     "iopub.execute_input": "2023-05-15T09:06:54.880506Z",
     "iopub.status.busy": "2023-05-15T09:06:54.880338Z",
     "iopub.status.idle": "2023-05-15T09:06:55.139760Z",
     "shell.execute_reply": "2023-05-15T09:06:55.139298Z"
    },
    "papermill": {
     "duration": 0.263028,
     "end_time": "2023-05-15T09:06:55.141218",
     "exception": false,
     "start_time": "2023-05-15T09:06:54.878190",
     "status": "completed"
    },
    "tags": []
   },
   "outputs": [],
   "source": [
    "dataset = sc.read(f\"../../int_data/{sample_name}_qc.h5ad\")\n",
    "dataset.X = dataset.layers[\"soupX_counts\"]"
   ]
  },
  {
   "cell_type": "code",
   "execution_count": null,
   "id": "f2520f85-0ac2-4e0d-b7f1-e5b9ce4c769d",
   "metadata": {
    "execution": {
     "iopub.execute_input": "2023-05-15T09:06:55.145702Z",
     "iopub.status.busy": "2023-05-15T09:06:55.145533Z",
     "iopub.status.idle": "2023-05-15T09:06:55.151401Z",
     "shell.execute_reply": "2023-05-15T09:06:55.151054Z"
    },
    "papermill": {
     "duration": 0.008822,
     "end_time": "2023-05-15T09:06:55.152184",
     "exception": false,
     "start_time": "2023-05-15T09:06:55.143362",
     "status": "completed"
    },
    "tags": []
   },
   "outputs": [],
   "source": [
    "dataset.obs[[\"AvgSpotLen\", \"Bases\", \"Bytes\", \"version\"]] = dataset.obs[[\"AvgSpotLen\", \"Bases\", \"Bytes\", \"version\"]].astype(\"str\")"
   ]
  },
  {
   "cell_type": "code",
   "execution_count": null,
   "id": "99f95dca-cf68-4a51-8f53-ca088aa3167b",
   "metadata": {
    "execution": {
     "iopub.execute_input": "2023-05-15T09:06:55.156026Z",
     "iopub.status.busy": "2023-05-15T09:06:55.155836Z",
     "iopub.status.idle": "2023-05-15T09:07:00.174690Z",
     "shell.execute_reply": "2023-05-15T09:07:00.174107Z"
    },
    "papermill": {
     "duration": 5.022721,
     "end_time": "2023-05-15T09:07:00.176499",
     "exception": false,
     "start_time": "2023-05-15T09:06:55.153778",
     "status": "completed"
    },
    "tags": []
   },
   "outputs": [],
   "source": [
    "%%R -i dataset\n",
    "\n",
    "sce <- SingleCellExperiment(list(counts=dataset@assays@data[[\"soupX_counts\"]]),\n",
    "    colData=dataset@colData,\n",
    ")\n",
    "\n",
    "row.names(sce) <- row.names(dataset)\n",
    "\n",
    "data <- as.Seurat(sce, data = NULL)"
   ]
  },
  {
   "cell_type": "code",
   "execution_count": null,
   "id": "0b749876-ea5a-403c-8b0b-51afc8a633e3",
   "metadata": {
    "execution": {
     "iopub.execute_input": "2023-05-15T09:07:00.182909Z",
     "iopub.status.busy": "2023-05-15T09:07:00.182754Z",
     "iopub.status.idle": "2023-05-15T09:07:00.202819Z",
     "shell.execute_reply": "2023-05-15T09:07:00.202482Z"
    },
    "papermill": {
     "duration": 0.023304,
     "end_time": "2023-05-15T09:07:00.203605",
     "exception": false,
     "start_time": "2023-05-15T09:07:00.180301",
     "status": "completed"
    },
    "tags": []
   },
   "outputs": [],
   "source": [
    "%%R\n",
    "data"
   ]
  },
  {
   "cell_type": "code",
   "execution_count": null,
   "id": "b6b29b0e-92c4-4d4f-b835-c5e9d7d59455",
   "metadata": {
    "execution": {
     "iopub.execute_input": "2023-05-15T09:07:00.208844Z",
     "iopub.status.busy": "2023-05-15T09:07:00.208706Z",
     "iopub.status.idle": "2023-05-15T09:07:08.853930Z",
     "shell.execute_reply": "2023-05-15T09:07:08.853437Z"
    },
    "papermill": {
     "duration": 8.649421,
     "end_time": "2023-05-15T09:07:08.855478",
     "exception": false,
     "start_time": "2023-05-15T09:07:00.206057",
     "status": "completed"
    },
    "tags": []
   },
   "outputs": [],
   "source": [
    "%%R\n",
    "\n",
    "data <- NormalizeData(data)\n",
    "data <- ScaleData(data, features = row.names(data))\n",
    "data <- FindVariableFeatures(data)\n",
    "data <- RunPCA(data, verbose = F)\n",
    "data <- FindNeighbors(data, verbose = F)\n",
    "data <- FindClusters(data, verbose = F)\n",
    "data <- RunUMAP(data, dims = 1:20, verbose = F)"
   ]
  },
  {
   "cell_type": "code",
   "execution_count": null,
   "id": "40fa5cdd-01d7-4b40-90e6-0c97545b0711",
   "metadata": {
    "execution": {
     "iopub.execute_input": "2023-05-15T09:07:08.865167Z",
     "iopub.status.busy": "2023-05-15T09:07:08.864976Z",
     "iopub.status.idle": "2023-05-15T09:07:28.147153Z",
     "shell.execute_reply": "2023-05-15T09:07:28.146767Z"
    },
    "papermill": {
     "duration": 19.286475,
     "end_time": "2023-05-15T09:07:28.148149",
     "exception": false,
     "start_time": "2023-05-15T09:07:08.861674",
     "status": "completed"
    },
    "tags": []
   },
   "outputs": [],
   "source": [
    "%%R\n",
    "\n",
    "ref1 <- celldex::BlueprintEncodeData()\n",
    "ref2 <- celldex::MonacoImmuneData()\n",
    "cell_classification <- SingleR(test = as.SingleCellExperiment(data),\n",
    "                               ref = list(BPE = ref1, MON = ref2),\n",
    "                               labels = list(ref1$label.main, ref2$label.main))\n",
    "\n",
    "data[[\"SingleR_label\"]] <- cell_classification$labels\n",
    "\n",
    "plotScoreHeatmap(cell_classification)"
   ]
  },
  {
   "cell_type": "code",
   "execution_count": null,
   "id": "6ad7cf2f-891f-4c05-b34d-e47c84bbe27b",
   "metadata": {
    "execution": {
     "iopub.execute_input": "2023-05-15T09:07:28.157457Z",
     "iopub.status.busy": "2023-05-15T09:07:28.157313Z",
     "iopub.status.idle": "2023-05-15T09:07:28.588723Z",
     "shell.execute_reply": "2023-05-15T09:07:28.588334Z"
    },
    "papermill": {
     "duration": 0.43623,
     "end_time": "2023-05-15T09:07:28.589800",
     "exception": false,
     "start_time": "2023-05-15T09:07:28.153570",
     "status": "completed"
    },
    "tags": []
   },
   "outputs": [],
   "source": [
    "%%R -i sample_name\n",
    "\n",
    "write.csv(data@meta.data, paste0(sample_name, \"_metadata.csv\"))"
   ]
  }
 ],
 "metadata": {
  "kernelspec": {
   "display_name": "py_R",
   "language": "python",
   "name": "python_r"
  },
  "language_info": {
   "codemirror_mode": {
    "name": "ipython",
    "version": 3
   },
   "file_extension": ".py",
   "mimetype": "text/x-python",
   "name": "python",
   "nbconvert_exporter": "python",
   "pygments_lexer": "ipython3",
   "version": "3.10.9"
  },
  "papermill": {
   "default_parameters": {},
   "duration": 48.049095,
   "end_time": "2023-05-15T09:07:29.811884",
   "environment_variables": {},
   "exception": null,
   "input_path": "template.ipynb",
   "output_path": "SRR13329167.ipynb",
   "parameters": {
    "sample_name": "SRR13329167"
   },
   "start_time": "2023-05-15T09:06:41.762789",
   "version": "2.3.4"
  }
 },
 "nbformat": 4,
 "nbformat_minor": 5
}
