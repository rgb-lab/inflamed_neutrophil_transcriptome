{
 "cells": [
  {
   "cell_type": "code",
   "execution_count": null,
   "id": "78a6243e-1906-4e3b-ae98-4b5bd21bd37c",
   "metadata": {
    "execution": {
     "iopub.execute_input": "2023-05-15T09:19:41.465154Z",
     "iopub.status.busy": "2023-05-15T09:19:41.464981Z",
     "iopub.status.idle": "2023-05-15T09:19:41.469374Z",
     "shell.execute_reply": "2023-05-15T09:19:41.469065Z"
    },
    "papermill": {
     "duration": 0.010202,
     "end_time": "2023-05-15T09:19:41.470283",
     "exception": false,
     "start_time": "2023-05-15T09:19:41.460081",
     "status": "completed"
    },
    "tags": [
     "parameters"
    ]
   },
   "outputs": [],
   "source": [
    "sample_name = \"SRR13329143\""
   ]
  },
  {
   "cell_type": "code",
   "execution_count": null,
   "id": "5121cef5",
   "metadata": {
    "execution": {
     "iopub.execute_input": "2023-05-15T09:19:41.473710Z",
     "iopub.status.busy": "2023-05-15T09:19:41.473581Z",
     "iopub.status.idle": "2023-05-15T09:19:41.475842Z",
     "shell.execute_reply": "2023-05-15T09:19:41.475548Z"
    },
    "papermill": {
     "duration": 0.004782,
     "end_time": "2023-05-15T09:19:41.476612",
     "exception": false,
     "start_time": "2023-05-15T09:19:41.471830",
     "status": "completed"
    },
    "tags": [
     "injected-parameters"
    ]
   },
   "outputs": [],
   "source": [
    "# Parameters\n",
    "sample_name = \"SRR13329153\"\n"
   ]
  },
  {
   "cell_type": "code",
   "execution_count": null,
   "id": "487588d5-40a0-4c35-9cd9-ee9b3e2f1d4e",
   "metadata": {
    "execution": {
     "iopub.execute_input": "2023-05-15T09:19:41.479826Z",
     "iopub.status.busy": "2023-05-15T09:19:41.479705Z",
     "iopub.status.idle": "2023-05-15T09:19:41.481904Z",
     "shell.execute_reply": "2023-05-15T09:19:41.481616Z"
    },
    "papermill": {
     "duration": 0.004646,
     "end_time": "2023-05-15T09:19:41.482650",
     "exception": false,
     "start_time": "2023-05-15T09:19:41.478004",
     "status": "completed"
    },
    "tags": []
   },
   "outputs": [],
   "source": [
    "import warnings\n",
    "warnings.simplefilter(action='ignore', category=FutureWarning)\n",
    "warnings.simplefilter(action='ignore', category=UserWarning)"
   ]
  },
  {
   "cell_type": "code",
   "execution_count": null,
   "id": "5bba6a57-54cf-4720-8653-bf94afa536ad",
   "metadata": {
    "execution": {
     "iopub.execute_input": "2023-05-15T09:19:41.485821Z",
     "iopub.status.busy": "2023-05-15T09:19:41.485673Z",
     "iopub.status.idle": "2023-05-15T09:19:46.766203Z",
     "shell.execute_reply": "2023-05-15T09:19:46.765731Z"
    },
    "papermill": {
     "duration": 5.283642,
     "end_time": "2023-05-15T09:19:46.767623",
     "exception": false,
     "start_time": "2023-05-15T09:19:41.483981",
     "status": "completed"
    },
    "tags": []
   },
   "outputs": [],
   "source": [
    "import gc\n",
    "import scanpy as sc\n",
    "import muon as mu\n",
    "import seaborn as sns\n",
    "import os\n",
    "import pandas as pd\n",
    "from matplotlib import pyplot as plt\n",
    "\n",
    "os.environ['R_HOME'] = '/gpfs/bwfor/work/ws/hd_fu399-conda/conda/envs/python_R/lib/R/'\n",
    "import anndata2ri\n",
    "import logging\n",
    "\n",
    "import rpy2.rinterface_lib.callbacks as rcb\n",
    "import rpy2.robjects as ro\n",
    "\n",
    "rcb.logger.setLevel(logging.ERROR)\n",
    "ro.pandas2ri.activate()\n",
    "anndata2ri.activate()\n",
    "\n",
    "%load_ext rpy2.ipython"
   ]
  },
  {
   "cell_type": "code",
   "execution_count": null,
   "id": "0897f8ed-b086-4ddc-a32e-6ae638ff6d14",
   "metadata": {
    "execution": {
     "iopub.execute_input": "2023-05-15T09:19:46.774397Z",
     "iopub.status.busy": "2023-05-15T09:19:46.774096Z",
     "iopub.status.idle": "2023-05-15T09:19:55.650697Z",
     "shell.execute_reply": "2023-05-15T09:19:55.650165Z"
    },
    "papermill": {
     "duration": 8.880598,
     "end_time": "2023-05-15T09:19:55.652116",
     "exception": false,
     "start_time": "2023-05-15T09:19:46.771518",
     "status": "completed"
    },
    "tags": []
   },
   "outputs": [],
   "source": [
    "%%R\n",
    "\n",
    "suppressMessages(library(SeuratDisk))\n",
    "suppressMessages(library(SingleR))\n",
    "suppressMessages(library(Seurat))\n",
    "suppressMessages(library(SingleCellExperiment))\n",
    "suppressMessages(library(UCell))"
   ]
  },
  {
   "cell_type": "code",
   "execution_count": null,
   "id": "74c6b1b1-5af7-4955-a6cc-4532fc42a266",
   "metadata": {
    "execution": {
     "iopub.execute_input": "2023-05-15T09:19:55.657954Z",
     "iopub.status.busy": "2023-05-15T09:19:55.657758Z",
     "iopub.status.idle": "2023-05-15T09:19:55.932349Z",
     "shell.execute_reply": "2023-05-15T09:19:55.931894Z"
    },
    "papermill": {
     "duration": 0.278323,
     "end_time": "2023-05-15T09:19:55.933775",
     "exception": false,
     "start_time": "2023-05-15T09:19:55.655452",
     "status": "completed"
    },
    "tags": []
   },
   "outputs": [],
   "source": [
    "dataset = sc.read(f\"../../int_data/{sample_name}_qc.h5ad\")\n",
    "dataset.X = dataset.layers[\"soupX_counts\"]"
   ]
  },
  {
   "cell_type": "code",
   "execution_count": null,
   "id": "f2520f85-0ac2-4e0d-b7f1-e5b9ce4c769d",
   "metadata": {
    "execution": {
     "iopub.execute_input": "2023-05-15T09:19:55.938186Z",
     "iopub.status.busy": "2023-05-15T09:19:55.938007Z",
     "iopub.status.idle": "2023-05-15T09:19:55.946237Z",
     "shell.execute_reply": "2023-05-15T09:19:55.945902Z"
    },
    "papermill": {
     "duration": 0.011197,
     "end_time": "2023-05-15T09:19:55.947016",
     "exception": false,
     "start_time": "2023-05-15T09:19:55.935819",
     "status": "completed"
    },
    "tags": []
   },
   "outputs": [],
   "source": [
    "dataset.obs[[\"AvgSpotLen\", \"Bases\", \"Bytes\", \"version\"]] = dataset.obs[[\"AvgSpotLen\", \"Bases\", \"Bytes\", \"version\"]].astype(\"str\")"
   ]
  },
  {
   "cell_type": "code",
   "execution_count": null,
   "id": "99f95dca-cf68-4a51-8f53-ca088aa3167b",
   "metadata": {
    "execution": {
     "iopub.execute_input": "2023-05-15T09:19:55.950723Z",
     "iopub.status.busy": "2023-05-15T09:19:55.950564Z",
     "iopub.status.idle": "2023-05-15T09:20:01.985285Z",
     "shell.execute_reply": "2023-05-15T09:20:01.984791Z"
    },
    "papermill": {
     "duration": 6.038189,
     "end_time": "2023-05-15T09:20:01.986839",
     "exception": false,
     "start_time": "2023-05-15T09:19:55.948650",
     "status": "completed"
    },
    "tags": []
   },
   "outputs": [],
   "source": [
    "%%R -i dataset\n",
    "\n",
    "sce <- SingleCellExperiment(list(counts=dataset@assays@data[[\"soupX_counts\"]]),\n",
    "    colData=dataset@colData,\n",
    ")\n",
    "\n",
    "row.names(sce) <- row.names(dataset)\n",
    "\n",
    "data <- as.Seurat(sce, data = NULL)"
   ]
  },
  {
   "cell_type": "code",
   "execution_count": null,
   "id": "0b749876-ea5a-403c-8b0b-51afc8a633e3",
   "metadata": {
    "execution": {
     "iopub.execute_input": "2023-05-15T09:20:01.991712Z",
     "iopub.status.busy": "2023-05-15T09:20:01.991533Z",
     "iopub.status.idle": "2023-05-15T09:20:02.011986Z",
     "shell.execute_reply": "2023-05-15T09:20:02.011651Z"
    },
    "papermill": {
     "duration": 0.023446,
     "end_time": "2023-05-15T09:20:02.012731",
     "exception": false,
     "start_time": "2023-05-15T09:20:01.989285",
     "status": "completed"
    },
    "tags": []
   },
   "outputs": [],
   "source": [
    "%%R\n",
    "data"
   ]
  },
  {
   "cell_type": "code",
   "execution_count": null,
   "id": "b6b29b0e-92c4-4d4f-b835-c5e9d7d59455",
   "metadata": {
    "execution": {
     "iopub.execute_input": "2023-05-15T09:20:02.018065Z",
     "iopub.status.busy": "2023-05-15T09:20:02.017924Z",
     "iopub.status.idle": "2023-05-15T09:20:17.531980Z",
     "shell.execute_reply": "2023-05-15T09:20:17.531491Z"
    },
    "papermill": {
     "duration": 15.518295,
     "end_time": "2023-05-15T09:20:17.533486",
     "exception": false,
     "start_time": "2023-05-15T09:20:02.015191",
     "status": "completed"
    },
    "tags": []
   },
   "outputs": [],
   "source": [
    "%%R\n",
    "\n",
    "data <- NormalizeData(data)\n",
    "data <- ScaleData(data, features = row.names(data))\n",
    "data <- FindVariableFeatures(data)\n",
    "data <- RunPCA(data, verbose = F)\n",
    "data <- FindNeighbors(data, verbose = F)\n",
    "data <- FindClusters(data, verbose = F)\n",
    "data <- RunUMAP(data, dims = 1:20, verbose = F)"
   ]
  },
  {
   "cell_type": "code",
   "execution_count": null,
   "id": "40fa5cdd-01d7-4b40-90e6-0c97545b0711",
   "metadata": {
    "execution": {
     "iopub.execute_input": "2023-05-15T09:20:17.541940Z",
     "iopub.status.busy": "2023-05-15T09:20:17.541741Z",
     "iopub.status.idle": "2023-05-15T09:20:47.139787Z",
     "shell.execute_reply": "2023-05-15T09:20:47.139281Z"
    },
    "papermill": {
     "duration": 29.602658,
     "end_time": "2023-05-15T09:20:47.140840",
     "exception": false,
     "start_time": "2023-05-15T09:20:17.538182",
     "status": "completed"
    },
    "tags": []
   },
   "outputs": [],
   "source": [
    "%%R\n",
    "\n",
    "ref1 <- celldex::BlueprintEncodeData()\n",
    "ref2 <- celldex::MonacoImmuneData()\n",
    "cell_classification <- SingleR(test = as.SingleCellExperiment(data),\n",
    "                               ref = list(BPE = ref1, MON = ref2),\n",
    "                               labels = list(ref1$label.main, ref2$label.main))\n",
    "\n",
    "data[[\"SingleR_label\"]] <- cell_classification$labels\n",
    "\n",
    "plotScoreHeatmap(cell_classification)"
   ]
  },
  {
   "cell_type": "code",
   "execution_count": null,
   "id": "6ad7cf2f-891f-4c05-b34d-e47c84bbe27b",
   "metadata": {
    "execution": {
     "iopub.execute_input": "2023-05-15T09:20:47.149824Z",
     "iopub.status.busy": "2023-05-15T09:20:47.149625Z",
     "iopub.status.idle": "2023-05-15T09:20:47.489857Z",
     "shell.execute_reply": "2023-05-15T09:20:47.489430Z"
    },
    "papermill": {
     "duration": 0.345182,
     "end_time": "2023-05-15T09:20:47.490998",
     "exception": false,
     "start_time": "2023-05-15T09:20:47.145816",
     "status": "completed"
    },
    "tags": []
   },
   "outputs": [],
   "source": [
    "%%R -i sample_name\n",
    "\n",
    "write.csv(data@meta.data, paste0(sample_name, \"_metadata.csv\"))"
   ]
  }
 ],
 "metadata": {
  "kernelspec": {
   "display_name": "py_R",
   "language": "python",
   "name": "python_r"
  },
  "language_info": {
   "codemirror_mode": {
    "name": "ipython",
    "version": 3
   },
   "file_extension": ".py",
   "mimetype": "text/x-python",
   "name": "python",
   "nbconvert_exporter": "python",
   "pygments_lexer": "ipython3",
   "version": "3.10.9"
  },
  "papermill": {
   "default_parameters": {},
   "duration": 68.497406,
   "end_time": "2023-05-15T09:20:48.712830",
   "environment_variables": {},
   "exception": null,
   "input_path": "template.ipynb",
   "output_path": "SRR13329153.ipynb",
   "parameters": {
    "sample_name": "SRR13329153"
   },
   "start_time": "2023-05-15T09:19:40.215424",
   "version": "2.3.4"
  }
 },
 "nbformat": 4,
 "nbformat_minor": 5
}
