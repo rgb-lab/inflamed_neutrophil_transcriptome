{
 "cells": [
  {
   "cell_type": "code",
   "execution_count": null,
   "id": "78a6243e-1906-4e3b-ae98-4b5bd21bd37c",
   "metadata": {
    "execution": {
     "iopub.execute_input": "2023-05-15T09:30:48.457230Z",
     "iopub.status.busy": "2023-05-15T09:30:48.456974Z",
     "iopub.status.idle": "2023-05-15T09:30:48.462121Z",
     "shell.execute_reply": "2023-05-15T09:30:48.461765Z"
    },
    "papermill": {
     "duration": 0.009144,
     "end_time": "2023-05-15T09:30:48.463050",
     "exception": false,
     "start_time": "2023-05-15T09:30:48.453906",
     "status": "completed"
    },
    "tags": [
     "parameters"
    ]
   },
   "outputs": [],
   "source": [
    "sample_name = \"SRR13329143\""
   ]
  },
  {
   "cell_type": "code",
   "execution_count": null,
   "id": "489bf956",
   "metadata": {
    "execution": {
     "iopub.execute_input": "2023-05-15T09:30:48.466562Z",
     "iopub.status.busy": "2023-05-15T09:30:48.466429Z",
     "iopub.status.idle": "2023-05-15T09:30:48.481598Z",
     "shell.execute_reply": "2023-05-15T09:30:48.481237Z"
    },
    "papermill": {
     "duration": 0.018073,
     "end_time": "2023-05-15T09:30:48.482671",
     "exception": false,
     "start_time": "2023-05-15T09:30:48.464598",
     "status": "completed"
    },
    "tags": [
     "injected-parameters"
    ]
   },
   "outputs": [],
   "source": [
    "# Parameters\n",
    "sample_name = \"SRR13329148\"\n"
   ]
  },
  {
   "cell_type": "code",
   "execution_count": null,
   "id": "487588d5-40a0-4c35-9cd9-ee9b3e2f1d4e",
   "metadata": {
    "execution": {
     "iopub.execute_input": "2023-05-15T09:30:48.486193Z",
     "iopub.status.busy": "2023-05-15T09:30:48.486027Z",
     "iopub.status.idle": "2023-05-15T09:30:48.488546Z",
     "shell.execute_reply": "2023-05-15T09:30:48.488231Z"
    },
    "papermill": {
     "duration": 0.005231,
     "end_time": "2023-05-15T09:30:48.489353",
     "exception": false,
     "start_time": "2023-05-15T09:30:48.484122",
     "status": "completed"
    },
    "tags": []
   },
   "outputs": [],
   "source": [
    "import warnings\n",
    "warnings.simplefilter(action='ignore', category=FutureWarning)\n",
    "warnings.simplefilter(action='ignore', category=UserWarning)"
   ]
  },
  {
   "cell_type": "code",
   "execution_count": null,
   "id": "5bba6a57-54cf-4720-8653-bf94afa536ad",
   "metadata": {
    "execution": {
     "iopub.execute_input": "2023-05-15T09:30:48.492691Z",
     "iopub.status.busy": "2023-05-15T09:30:48.492562Z",
     "iopub.status.idle": "2023-05-15T09:30:53.167877Z",
     "shell.execute_reply": "2023-05-15T09:30:53.167307Z"
    },
    "papermill": {
     "duration": 4.678786,
     "end_time": "2023-05-15T09:30:53.169547",
     "exception": false,
     "start_time": "2023-05-15T09:30:48.490761",
     "status": "completed"
    },
    "tags": []
   },
   "outputs": [],
   "source": [
    "import gc\n",
    "import scanpy as sc\n",
    "import muon as mu\n",
    "import seaborn as sns\n",
    "import os\n",
    "import pandas as pd\n",
    "from matplotlib import pyplot as plt\n",
    "\n",
    "os.environ['R_HOME'] = '/gpfs/bwfor/work/ws/hd_fu399-conda/conda/envs/python_R/lib/R/'\n",
    "import anndata2ri\n",
    "import logging\n",
    "\n",
    "import rpy2.rinterface_lib.callbacks as rcb\n",
    "import rpy2.robjects as ro\n",
    "\n",
    "rcb.logger.setLevel(logging.ERROR)\n",
    "ro.pandas2ri.activate()\n",
    "anndata2ri.activate()\n",
    "\n",
    "%load_ext rpy2.ipython"
   ]
  },
  {
   "cell_type": "code",
   "execution_count": null,
   "id": "0897f8ed-b086-4ddc-a32e-6ae638ff6d14",
   "metadata": {
    "execution": {
     "iopub.execute_input": "2023-05-15T09:30:53.176429Z",
     "iopub.status.busy": "2023-05-15T09:30:53.175915Z",
     "iopub.status.idle": "2023-05-15T09:31:01.060338Z",
     "shell.execute_reply": "2023-05-15T09:31:01.059560Z"
    },
    "papermill": {
     "duration": 7.888197,
     "end_time": "2023-05-15T09:31:01.061901",
     "exception": false,
     "start_time": "2023-05-15T09:30:53.173704",
     "status": "completed"
    },
    "tags": []
   },
   "outputs": [],
   "source": [
    "%%R\n",
    "\n",
    "suppressMessages(library(SeuratDisk))\n",
    "suppressMessages(library(SingleR))\n",
    "suppressMessages(library(Seurat))\n",
    "suppressMessages(library(SingleCellExperiment))\n",
    "suppressMessages(library(UCell))"
   ]
  },
  {
   "cell_type": "code",
   "execution_count": null,
   "id": "74c6b1b1-5af7-4955-a6cc-4532fc42a266",
   "metadata": {
    "execution": {
     "iopub.execute_input": "2023-05-15T09:31:01.069957Z",
     "iopub.status.busy": "2023-05-15T09:31:01.069673Z",
     "iopub.status.idle": "2023-05-15T09:31:01.200371Z",
     "shell.execute_reply": "2023-05-15T09:31:01.199939Z"
    },
    "papermill": {
     "duration": 0.134446,
     "end_time": "2023-05-15T09:31:01.201620",
     "exception": false,
     "start_time": "2023-05-15T09:31:01.067174",
     "status": "completed"
    },
    "tags": []
   },
   "outputs": [],
   "source": [
    "dataset = sc.read(f\"../../int_data/{sample_name}_qc.h5ad\")\n",
    "dataset.X = dataset.layers[\"soupX_counts\"]"
   ]
  },
  {
   "cell_type": "code",
   "execution_count": null,
   "id": "f2520f85-0ac2-4e0d-b7f1-e5b9ce4c769d",
   "metadata": {
    "execution": {
     "iopub.execute_input": "2023-05-15T09:31:01.205962Z",
     "iopub.status.busy": "2023-05-15T09:31:01.205680Z",
     "iopub.status.idle": "2023-05-15T09:31:01.210744Z",
     "shell.execute_reply": "2023-05-15T09:31:01.210380Z"
    },
    "papermill": {
     "duration": 0.007955,
     "end_time": "2023-05-15T09:31:01.211548",
     "exception": false,
     "start_time": "2023-05-15T09:31:01.203593",
     "status": "completed"
    },
    "tags": []
   },
   "outputs": [],
   "source": [
    "dataset.obs[[\"AvgSpotLen\", \"Bases\", \"Bytes\", \"version\"]] = dataset.obs[[\"AvgSpotLen\", \"Bases\", \"Bytes\", \"version\"]].astype(\"str\")"
   ]
  },
  {
   "cell_type": "code",
   "execution_count": null,
   "id": "99f95dca-cf68-4a51-8f53-ca088aa3167b",
   "metadata": {
    "execution": {
     "iopub.execute_input": "2023-05-15T09:31:01.215435Z",
     "iopub.status.busy": "2023-05-15T09:31:01.215075Z",
     "iopub.status.idle": "2023-05-15T09:31:04.604045Z",
     "shell.execute_reply": "2023-05-15T09:31:04.603531Z"
    },
    "papermill": {
     "duration": 3.392373,
     "end_time": "2023-05-15T09:31:04.605469",
     "exception": false,
     "start_time": "2023-05-15T09:31:01.213096",
     "status": "completed"
    },
    "tags": []
   },
   "outputs": [],
   "source": [
    "%%R -i dataset\n",
    "\n",
    "sce <- SingleCellExperiment(list(counts=dataset@assays@data[[\"soupX_counts\"]]),\n",
    "    colData=dataset@colData,\n",
    ")\n",
    "\n",
    "row.names(sce) <- row.names(dataset)\n",
    "\n",
    "data <- as.Seurat(sce, data = NULL)"
   ]
  },
  {
   "cell_type": "code",
   "execution_count": null,
   "id": "0b749876-ea5a-403c-8b0b-51afc8a633e3",
   "metadata": {
    "execution": {
     "iopub.execute_input": "2023-05-15T09:31:04.609955Z",
     "iopub.status.busy": "2023-05-15T09:31:04.609803Z",
     "iopub.status.idle": "2023-05-15T09:31:04.630130Z",
     "shell.execute_reply": "2023-05-15T09:31:04.629778Z"
    },
    "papermill": {
     "duration": 0.023315,
     "end_time": "2023-05-15T09:31:04.630894",
     "exception": false,
     "start_time": "2023-05-15T09:31:04.607579",
     "status": "completed"
    },
    "tags": []
   },
   "outputs": [],
   "source": [
    "%%R\n",
    "data"
   ]
  },
  {
   "cell_type": "code",
   "execution_count": null,
   "id": "b6b29b0e-92c4-4d4f-b835-c5e9d7d59455",
   "metadata": {
    "execution": {
     "iopub.execute_input": "2023-05-15T09:31:04.636266Z",
     "iopub.status.busy": "2023-05-15T09:31:04.636122Z",
     "iopub.status.idle": "2023-05-15T09:31:10.631065Z",
     "shell.execute_reply": "2023-05-15T09:31:10.630424Z"
    },
    "papermill": {
     "duration": 5.999205,
     "end_time": "2023-05-15T09:31:10.632512",
     "exception": false,
     "start_time": "2023-05-15T09:31:04.633307",
     "status": "completed"
    },
    "tags": []
   },
   "outputs": [],
   "source": [
    "%%R\n",
    "\n",
    "data <- NormalizeData(data)\n",
    "data <- ScaleData(data, features = row.names(data))\n",
    "data <- FindVariableFeatures(data)\n",
    "data <- RunPCA(data, verbose = F)\n",
    "data <- FindNeighbors(data, verbose = F)\n",
    "data <- FindClusters(data, verbose = F)\n",
    "data <- RunUMAP(data, dims = 1:20, verbose = F)"
   ]
  },
  {
   "cell_type": "code",
   "execution_count": null,
   "id": "40fa5cdd-01d7-4b40-90e6-0c97545b0711",
   "metadata": {
    "execution": {
     "iopub.execute_input": "2023-05-15T09:31:10.640734Z",
     "iopub.status.busy": "2023-05-15T09:31:10.640541Z",
     "iopub.status.idle": "2023-05-15T09:31:23.670955Z",
     "shell.execute_reply": "2023-05-15T09:31:23.670482Z"
    },
    "papermill": {
     "duration": 13.034641,
     "end_time": "2023-05-15T09:31:23.671884",
     "exception": false,
     "start_time": "2023-05-15T09:31:10.637243",
     "status": "completed"
    },
    "tags": []
   },
   "outputs": [],
   "source": [
    "%%R\n",
    "\n",
    "ref1 <- celldex::BlueprintEncodeData()\n",
    "ref2 <- celldex::MonacoImmuneData()\n",
    "cell_classification <- SingleR(test = as.SingleCellExperiment(data),\n",
    "                               ref = list(BPE = ref1, MON = ref2),\n",
    "                               labels = list(ref1$label.main, ref2$label.main))\n",
    "\n",
    "data[[\"SingleR_label\"]] <- cell_classification$labels\n",
    "\n",
    "plotScoreHeatmap(cell_classification)"
   ]
  },
  {
   "cell_type": "code",
   "execution_count": null,
   "id": "6ad7cf2f-891f-4c05-b34d-e47c84bbe27b",
   "metadata": {
    "execution": {
     "iopub.execute_input": "2023-05-15T09:31:23.681553Z",
     "iopub.status.busy": "2023-05-15T09:31:23.681199Z",
     "iopub.status.idle": "2023-05-15T09:31:24.103178Z",
     "shell.execute_reply": "2023-05-15T09:31:24.102722Z"
    },
    "papermill": {
     "duration": 0.427085,
     "end_time": "2023-05-15T09:31:24.104420",
     "exception": false,
     "start_time": "2023-05-15T09:31:23.677335",
     "status": "completed"
    },
    "tags": []
   },
   "outputs": [],
   "source": [
    "%%R -i sample_name\n",
    "\n",
    "write.csv(data@meta.data, paste0(sample_name, \"_metadata.csv\"))"
   ]
  }
 ],
 "metadata": {
  "kernelspec": {
   "display_name": "py_R",
   "language": "python",
   "name": "python_r"
  },
  "language_info": {
   "codemirror_mode": {
    "name": "ipython",
    "version": 3
   },
   "file_extension": ".py",
   "mimetype": "text/x-python",
   "name": "python",
   "nbconvert_exporter": "python",
   "pygments_lexer": "ipython3",
   "version": "3.10.9"
  },
  "papermill": {
   "default_parameters": {},
   "duration": 37.90534,
   "end_time": "2023-05-15T09:31:25.326705",
   "environment_variables": {},
   "exception": null,
   "input_path": "template.ipynb",
   "output_path": "SRR13329148.ipynb",
   "parameters": {
    "sample_name": "SRR13329148"
   },
   "start_time": "2023-05-15T09:30:47.421365",
   "version": "2.3.4"
  }
 },
 "nbformat": 4,
 "nbformat_minor": 5
}
