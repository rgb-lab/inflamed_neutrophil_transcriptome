{
 "cells": [
  {
   "cell_type": "code",
   "execution_count": null,
   "id": "78a6243e-1906-4e3b-ae98-4b5bd21bd37c",
   "metadata": {
    "execution": {
     "iopub.execute_input": "2023-05-15T09:21:48.893853Z",
     "iopub.status.busy": "2023-05-15T09:21:48.893687Z",
     "iopub.status.idle": "2023-05-15T09:21:48.898284Z",
     "shell.execute_reply": "2023-05-15T09:21:48.897973Z"
    },
    "papermill": {
     "duration": 0.008472,
     "end_time": "2023-05-15T09:21:48.899160",
     "exception": false,
     "start_time": "2023-05-15T09:21:48.890688",
     "status": "completed"
    },
    "tags": [
     "parameters"
    ]
   },
   "outputs": [],
   "source": [
    "sample_name = \"SRR13329143\""
   ]
  },
  {
   "cell_type": "code",
   "execution_count": null,
   "id": "79f51b4f",
   "metadata": {
    "execution": {
     "iopub.execute_input": "2023-05-15T09:21:48.902711Z",
     "iopub.status.busy": "2023-05-15T09:21:48.902589Z",
     "iopub.status.idle": "2023-05-15T09:21:48.904538Z",
     "shell.execute_reply": "2023-05-15T09:21:48.904238Z"
    },
    "papermill": {
     "duration": 0.004495,
     "end_time": "2023-05-15T09:21:48.905277",
     "exception": false,
     "start_time": "2023-05-15T09:21:48.900782",
     "status": "completed"
    },
    "tags": [
     "injected-parameters"
    ]
   },
   "outputs": [],
   "source": [
    "# Parameters\n",
    "sample_name = \"SRR13329132\"\n"
   ]
  },
  {
   "cell_type": "code",
   "execution_count": null,
   "id": "487588d5-40a0-4c35-9cd9-ee9b3e2f1d4e",
   "metadata": {
    "execution": {
     "iopub.execute_input": "2023-05-15T09:21:48.908602Z",
     "iopub.status.busy": "2023-05-15T09:21:48.908487Z",
     "iopub.status.idle": "2023-05-15T09:21:48.910800Z",
     "shell.execute_reply": "2023-05-15T09:21:48.910495Z"
    },
    "papermill": {
     "duration": 0.004903,
     "end_time": "2023-05-15T09:21:48.911588",
     "exception": false,
     "start_time": "2023-05-15T09:21:48.906685",
     "status": "completed"
    },
    "tags": []
   },
   "outputs": [],
   "source": [
    "import warnings\n",
    "warnings.simplefilter(action='ignore', category=FutureWarning)\n",
    "warnings.simplefilter(action='ignore', category=UserWarning)"
   ]
  },
  {
   "cell_type": "code",
   "execution_count": null,
   "id": "5bba6a57-54cf-4720-8653-bf94afa536ad",
   "metadata": {
    "execution": {
     "iopub.execute_input": "2023-05-15T09:21:48.915153Z",
     "iopub.status.busy": "2023-05-15T09:21:48.914999Z",
     "iopub.status.idle": "2023-05-15T09:21:53.612989Z",
     "shell.execute_reply": "2023-05-15T09:21:53.612495Z"
    },
    "papermill": {
     "duration": 4.70141,
     "end_time": "2023-05-15T09:21:53.614541",
     "exception": false,
     "start_time": "2023-05-15T09:21:48.913131",
     "status": "completed"
    },
    "tags": []
   },
   "outputs": [],
   "source": [
    "import gc\n",
    "import scanpy as sc\n",
    "import muon as mu\n",
    "import seaborn as sns\n",
    "import os\n",
    "import pandas as pd\n",
    "from matplotlib import pyplot as plt\n",
    "\n",
    "os.environ['R_HOME'] = '/gpfs/bwfor/work/ws/hd_fu399-conda/conda/envs/python_R/lib/R/'\n",
    "import anndata2ri\n",
    "import logging\n",
    "\n",
    "import rpy2.rinterface_lib.callbacks as rcb\n",
    "import rpy2.robjects as ro\n",
    "\n",
    "rcb.logger.setLevel(logging.ERROR)\n",
    "ro.pandas2ri.activate()\n",
    "anndata2ri.activate()\n",
    "\n",
    "%load_ext rpy2.ipython"
   ]
  },
  {
   "cell_type": "code",
   "execution_count": null,
   "id": "0897f8ed-b086-4ddc-a32e-6ae638ff6d14",
   "metadata": {
    "execution": {
     "iopub.execute_input": "2023-05-15T09:21:53.621305Z",
     "iopub.status.busy": "2023-05-15T09:21:53.621004Z",
     "iopub.status.idle": "2023-05-15T09:22:02.362789Z",
     "shell.execute_reply": "2023-05-15T09:22:02.362196Z"
    },
    "papermill": {
     "duration": 8.745571,
     "end_time": "2023-05-15T09:22:02.364341",
     "exception": false,
     "start_time": "2023-05-15T09:21:53.618770",
     "status": "completed"
    },
    "tags": []
   },
   "outputs": [],
   "source": [
    "%%R\n",
    "\n",
    "suppressMessages(library(SeuratDisk))\n",
    "suppressMessages(library(SingleR))\n",
    "suppressMessages(library(Seurat))\n",
    "suppressMessages(library(SingleCellExperiment))\n",
    "suppressMessages(library(UCell))"
   ]
  },
  {
   "cell_type": "code",
   "execution_count": null,
   "id": "74c6b1b1-5af7-4955-a6cc-4532fc42a266",
   "metadata": {
    "execution": {
     "iopub.execute_input": "2023-05-15T09:22:02.370698Z",
     "iopub.status.busy": "2023-05-15T09:22:02.370540Z",
     "iopub.status.idle": "2023-05-15T09:22:02.603195Z",
     "shell.execute_reply": "2023-05-15T09:22:02.602741Z"
    },
    "papermill": {
     "duration": 0.236496,
     "end_time": "2023-05-15T09:22:02.604759",
     "exception": false,
     "start_time": "2023-05-15T09:22:02.368263",
     "status": "completed"
    },
    "tags": []
   },
   "outputs": [],
   "source": [
    "dataset = sc.read(f\"../../int_data/{sample_name}_qc.h5ad\")\n",
    "dataset.X = dataset.layers[\"soupX_counts\"]"
   ]
  },
  {
   "cell_type": "code",
   "execution_count": null,
   "id": "f2520f85-0ac2-4e0d-b7f1-e5b9ce4c769d",
   "metadata": {
    "execution": {
     "iopub.execute_input": "2023-05-15T09:22:02.609174Z",
     "iopub.status.busy": "2023-05-15T09:22:02.608996Z",
     "iopub.status.idle": "2023-05-15T09:22:02.614959Z",
     "shell.execute_reply": "2023-05-15T09:22:02.614637Z"
    },
    "papermill": {
     "duration": 0.008953,
     "end_time": "2023-05-15T09:22:02.615761",
     "exception": false,
     "start_time": "2023-05-15T09:22:02.606808",
     "status": "completed"
    },
    "tags": []
   },
   "outputs": [],
   "source": [
    "dataset.obs[[\"AvgSpotLen\", \"Bases\", \"Bytes\", \"version\"]] = dataset.obs[[\"AvgSpotLen\", \"Bases\", \"Bytes\", \"version\"]].astype(\"str\")"
   ]
  },
  {
   "cell_type": "code",
   "execution_count": null,
   "id": "99f95dca-cf68-4a51-8f53-ca088aa3167b",
   "metadata": {
    "execution": {
     "iopub.execute_input": "2023-05-15T09:22:02.619733Z",
     "iopub.status.busy": "2023-05-15T09:22:02.619520Z",
     "iopub.status.idle": "2023-05-15T09:22:07.531750Z",
     "shell.execute_reply": "2023-05-15T09:22:07.531279Z"
    },
    "papermill": {
     "duration": 4.915786,
     "end_time": "2023-05-15T09:22:07.533220",
     "exception": false,
     "start_time": "2023-05-15T09:22:02.617434",
     "status": "completed"
    },
    "tags": []
   },
   "outputs": [],
   "source": [
    "%%R -i dataset\n",
    "\n",
    "sce <- SingleCellExperiment(list(counts=dataset@assays@data[[\"soupX_counts\"]]),\n",
    "    colData=dataset@colData,\n",
    ")\n",
    "\n",
    "row.names(sce) <- row.names(dataset)\n",
    "\n",
    "data <- as.Seurat(sce, data = NULL)"
   ]
  },
  {
   "cell_type": "code",
   "execution_count": null,
   "id": "0b749876-ea5a-403c-8b0b-51afc8a633e3",
   "metadata": {
    "execution": {
     "iopub.execute_input": "2023-05-15T09:22:07.537974Z",
     "iopub.status.busy": "2023-05-15T09:22:07.537834Z",
     "iopub.status.idle": "2023-05-15T09:22:07.556865Z",
     "shell.execute_reply": "2023-05-15T09:22:07.556540Z"
    },
    "papermill": {
     "duration": 0.022055,
     "end_time": "2023-05-15T09:22:07.557609",
     "exception": false,
     "start_time": "2023-05-15T09:22:07.535554",
     "status": "completed"
    },
    "tags": []
   },
   "outputs": [],
   "source": [
    "%%R\n",
    "data"
   ]
  },
  {
   "cell_type": "code",
   "execution_count": null,
   "id": "b6b29b0e-92c4-4d4f-b835-c5e9d7d59455",
   "metadata": {
    "execution": {
     "iopub.execute_input": "2023-05-15T09:22:07.562802Z",
     "iopub.status.busy": "2023-05-15T09:22:07.562661Z",
     "iopub.status.idle": "2023-05-15T09:22:16.485475Z",
     "shell.execute_reply": "2023-05-15T09:22:16.485002Z"
    },
    "papermill": {
     "duration": 8.927136,
     "end_time": "2023-05-15T09:22:16.487020",
     "exception": false,
     "start_time": "2023-05-15T09:22:07.559884",
     "status": "completed"
    },
    "tags": []
   },
   "outputs": [],
   "source": [
    "%%R\n",
    "\n",
    "data <- NormalizeData(data)\n",
    "data <- ScaleData(data, features = row.names(data))\n",
    "data <- FindVariableFeatures(data)\n",
    "data <- RunPCA(data, verbose = F)\n",
    "data <- FindNeighbors(data, verbose = F)\n",
    "data <- FindClusters(data, verbose = F)\n",
    "data <- RunUMAP(data, dims = 1:20, verbose = F)"
   ]
  },
  {
   "cell_type": "code",
   "execution_count": null,
   "id": "40fa5cdd-01d7-4b40-90e6-0c97545b0711",
   "metadata": {
    "execution": {
     "iopub.execute_input": "2023-05-15T09:22:16.494844Z",
     "iopub.status.busy": "2023-05-15T09:22:16.494677Z",
     "iopub.status.idle": "2023-05-15T09:22:36.013686Z",
     "shell.execute_reply": "2023-05-15T09:22:36.013251Z"
    },
    "papermill": {
     "duration": 19.522922,
     "end_time": "2023-05-15T09:22:36.014603",
     "exception": false,
     "start_time": "2023-05-15T09:22:16.491681",
     "status": "completed"
    },
    "tags": []
   },
   "outputs": [],
   "source": [
    "%%R\n",
    "\n",
    "ref1 <- celldex::BlueprintEncodeData()\n",
    "ref2 <- celldex::MonacoImmuneData()\n",
    "cell_classification <- SingleR(test = as.SingleCellExperiment(data),\n",
    "                               ref = list(BPE = ref1, MON = ref2),\n",
    "                               labels = list(ref1$label.main, ref2$label.main))\n",
    "\n",
    "data[[\"SingleR_label\"]] <- cell_classification$labels\n",
    "\n",
    "plotScoreHeatmap(cell_classification)"
   ]
  },
  {
   "cell_type": "code",
   "execution_count": null,
   "id": "6ad7cf2f-891f-4c05-b34d-e47c84bbe27b",
   "metadata": {
    "execution": {
     "iopub.execute_input": "2023-05-15T09:22:36.037974Z",
     "iopub.status.busy": "2023-05-15T09:22:36.037790Z",
     "iopub.status.idle": "2023-05-15T09:22:36.473404Z",
     "shell.execute_reply": "2023-05-15T09:22:36.472982Z"
    },
    "papermill": {
     "duration": 0.440509,
     "end_time": "2023-05-15T09:22:36.474499",
     "exception": false,
     "start_time": "2023-05-15T09:22:36.033990",
     "status": "completed"
    },
    "tags": []
   },
   "outputs": [],
   "source": [
    "%%R -i sample_name\n",
    "\n",
    "write.csv(data@meta.data, paste0(sample_name, \"_metadata.csv\"))"
   ]
  }
 ],
 "metadata": {
  "kernelspec": {
   "display_name": "py_R",
   "language": "python",
   "name": "python_r"
  },
  "language_info": {
   "codemirror_mode": {
    "name": "ipython",
    "version": 3
   },
   "file_extension": ".py",
   "mimetype": "text/x-python",
   "name": "python",
   "nbconvert_exporter": "python",
   "pygments_lexer": "ipython3",
   "version": "3.10.9"
  },
  "papermill": {
   "default_parameters": {},
   "duration": 50.044861,
   "end_time": "2023-05-15T09:22:37.696238",
   "environment_variables": {},
   "exception": null,
   "input_path": "template.ipynb",
   "output_path": "SRR13329132.ipynb",
   "parameters": {
    "sample_name": "SRR13329132"
   },
   "start_time": "2023-05-15T09:21:47.651377",
   "version": "2.3.4"
  }
 },
 "nbformat": 4,
 "nbformat_minor": 5
}
