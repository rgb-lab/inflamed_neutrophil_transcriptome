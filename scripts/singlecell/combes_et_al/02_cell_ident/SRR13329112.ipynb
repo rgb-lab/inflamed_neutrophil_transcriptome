{
 "cells": [
  {
   "cell_type": "code",
   "execution_count": null,
   "id": "78a6243e-1906-4e3b-ae98-4b5bd21bd37c",
   "metadata": {
    "execution": {
     "iopub.execute_input": "2023-05-15T09:41:40.195741Z",
     "iopub.status.busy": "2023-05-15T09:41:40.195494Z",
     "iopub.status.idle": "2023-05-15T09:41:40.200037Z",
     "shell.execute_reply": "2023-05-15T09:41:40.199710Z"
    },
    "papermill": {
     "duration": 0.007737,
     "end_time": "2023-05-15T09:41:40.200826",
     "exception": false,
     "start_time": "2023-05-15T09:41:40.193089",
     "status": "completed"
    },
    "tags": [
     "parameters"
    ]
   },
   "outputs": [],
   "source": [
    "sample_name = \"SRR13329143\""
   ]
  },
  {
   "cell_type": "code",
   "execution_count": null,
   "id": "b35b3ab1",
   "metadata": {
    "execution": {
     "iopub.execute_input": "2023-05-15T09:41:40.204418Z",
     "iopub.status.busy": "2023-05-15T09:41:40.204161Z",
     "iopub.status.idle": "2023-05-15T09:41:40.212367Z",
     "shell.execute_reply": "2023-05-15T09:41:40.212066Z"
    },
    "papermill": {
     "duration": 0.010767,
     "end_time": "2023-05-15T09:41:40.213128",
     "exception": false,
     "start_time": "2023-05-15T09:41:40.202361",
     "status": "completed"
    },
    "tags": [
     "injected-parameters"
    ]
   },
   "outputs": [],
   "source": [
    "# Parameters\n",
    "sample_name = \"SRR13329112\"\n"
   ]
  },
  {
   "cell_type": "code",
   "execution_count": null,
   "id": "487588d5-40a0-4c35-9cd9-ee9b3e2f1d4e",
   "metadata": {
    "execution": {
     "iopub.execute_input": "2023-05-15T09:41:40.216517Z",
     "iopub.status.busy": "2023-05-15T09:41:40.216291Z",
     "iopub.status.idle": "2023-05-15T09:41:40.218531Z",
     "shell.execute_reply": "2023-05-15T09:41:40.218222Z"
    },
    "papermill": {
     "duration": 0.004793,
     "end_time": "2023-05-15T09:41:40.219299",
     "exception": false,
     "start_time": "2023-05-15T09:41:40.214506",
     "status": "completed"
    },
    "tags": []
   },
   "outputs": [],
   "source": [
    "import warnings\n",
    "warnings.simplefilter(action='ignore', category=FutureWarning)\n",
    "warnings.simplefilter(action='ignore', category=UserWarning)"
   ]
  },
  {
   "cell_type": "code",
   "execution_count": null,
   "id": "5bba6a57-54cf-4720-8653-bf94afa536ad",
   "metadata": {
    "execution": {
     "iopub.execute_input": "2023-05-15T09:41:40.222724Z",
     "iopub.status.busy": "2023-05-15T09:41:40.222503Z",
     "iopub.status.idle": "2023-05-15T09:41:44.716337Z",
     "shell.execute_reply": "2023-05-15T09:41:44.715801Z"
    },
    "papermill": {
     "duration": 4.497079,
     "end_time": "2023-05-15T09:41:44.717777",
     "exception": false,
     "start_time": "2023-05-15T09:41:40.220698",
     "status": "completed"
    },
    "tags": []
   },
   "outputs": [],
   "source": [
    "import gc\n",
    "import scanpy as sc\n",
    "import muon as mu\n",
    "import seaborn as sns\n",
    "import os\n",
    "import pandas as pd\n",
    "from matplotlib import pyplot as plt\n",
    "\n",
    "os.environ['R_HOME'] = '/gpfs/bwfor/work/ws/hd_fu399-conda/conda/envs/python_R/lib/R/'\n",
    "import anndata2ri\n",
    "import logging\n",
    "\n",
    "import rpy2.rinterface_lib.callbacks as rcb\n",
    "import rpy2.robjects as ro\n",
    "\n",
    "rcb.logger.setLevel(logging.ERROR)\n",
    "ro.pandas2ri.activate()\n",
    "anndata2ri.activate()\n",
    "\n",
    "%load_ext rpy2.ipython"
   ]
  },
  {
   "cell_type": "code",
   "execution_count": null,
   "id": "0897f8ed-b086-4ddc-a32e-6ae638ff6d14",
   "metadata": {
    "execution": {
     "iopub.execute_input": "2023-05-15T09:41:44.724757Z",
     "iopub.status.busy": "2023-05-15T09:41:44.724479Z",
     "iopub.status.idle": "2023-05-15T09:41:52.312080Z",
     "shell.execute_reply": "2023-05-15T09:41:52.311478Z"
    },
    "papermill": {
     "duration": 7.59134,
     "end_time": "2023-05-15T09:41:52.313479",
     "exception": false,
     "start_time": "2023-05-15T09:41:44.722139",
     "status": "completed"
    },
    "tags": []
   },
   "outputs": [],
   "source": [
    "%%R\n",
    "\n",
    "suppressMessages(library(SeuratDisk))\n",
    "suppressMessages(library(SingleR))\n",
    "suppressMessages(library(Seurat))\n",
    "suppressMessages(library(SingleCellExperiment))\n",
    "suppressMessages(library(UCell))"
   ]
  },
  {
   "cell_type": "code",
   "execution_count": null,
   "id": "74c6b1b1-5af7-4955-a6cc-4532fc42a266",
   "metadata": {
    "execution": {
     "iopub.execute_input": "2023-05-15T09:41:52.320022Z",
     "iopub.status.busy": "2023-05-15T09:41:52.319839Z",
     "iopub.status.idle": "2023-05-15T09:41:53.102632Z",
     "shell.execute_reply": "2023-05-15T09:41:53.102172Z"
    },
    "papermill": {
     "duration": 0.786373,
     "end_time": "2023-05-15T09:41:53.103919",
     "exception": false,
     "start_time": "2023-05-15T09:41:52.317546",
     "status": "completed"
    },
    "tags": []
   },
   "outputs": [],
   "source": [
    "dataset = sc.read(f\"../../int_data/{sample_name}_qc.h5ad\")\n",
    "dataset.X = dataset.layers[\"soupX_counts\"]"
   ]
  },
  {
   "cell_type": "code",
   "execution_count": null,
   "id": "f2520f85-0ac2-4e0d-b7f1-e5b9ce4c769d",
   "metadata": {
    "execution": {
     "iopub.execute_input": "2023-05-15T09:41:53.108304Z",
     "iopub.status.busy": "2023-05-15T09:41:53.108151Z",
     "iopub.status.idle": "2023-05-15T09:41:53.117220Z",
     "shell.execute_reply": "2023-05-15T09:41:53.116819Z"
    },
    "papermill": {
     "duration": 0.012171,
     "end_time": "2023-05-15T09:41:53.118150",
     "exception": false,
     "start_time": "2023-05-15T09:41:53.105979",
     "status": "completed"
    },
    "tags": []
   },
   "outputs": [],
   "source": [
    "dataset.obs[[\"AvgSpotLen\", \"Bases\", \"Bytes\", \"version\"]] = dataset.obs[[\"AvgSpotLen\", \"Bases\", \"Bytes\", \"version\"]].astype(\"str\")"
   ]
  },
  {
   "cell_type": "code",
   "execution_count": null,
   "id": "99f95dca-cf68-4a51-8f53-ca088aa3167b",
   "metadata": {
    "execution": {
     "iopub.execute_input": "2023-05-15T09:41:53.122170Z",
     "iopub.status.busy": "2023-05-15T09:41:53.121871Z",
     "iopub.status.idle": "2023-05-15T09:42:01.764040Z",
     "shell.execute_reply": "2023-05-15T09:42:01.763547Z"
    },
    "papermill": {
     "duration": 8.645743,
     "end_time": "2023-05-15T09:42:01.765523",
     "exception": false,
     "start_time": "2023-05-15T09:41:53.119780",
     "status": "completed"
    },
    "tags": []
   },
   "outputs": [],
   "source": [
    "%%R -i dataset\n",
    "\n",
    "sce <- SingleCellExperiment(list(counts=dataset@assays@data[[\"soupX_counts\"]]),\n",
    "    colData=dataset@colData,\n",
    ")\n",
    "\n",
    "row.names(sce) <- row.names(dataset)\n",
    "\n",
    "data <- as.Seurat(sce, data = NULL)"
   ]
  },
  {
   "cell_type": "code",
   "execution_count": null,
   "id": "0b749876-ea5a-403c-8b0b-51afc8a633e3",
   "metadata": {
    "execution": {
     "iopub.execute_input": "2023-05-15T09:42:01.771473Z",
     "iopub.status.busy": "2023-05-15T09:42:01.771331Z",
     "iopub.status.idle": "2023-05-15T09:42:01.791626Z",
     "shell.execute_reply": "2023-05-15T09:42:01.791284Z"
    },
    "papermill": {
     "duration": 0.023369,
     "end_time": "2023-05-15T09:42:01.792513",
     "exception": false,
     "start_time": "2023-05-15T09:42:01.769144",
     "status": "completed"
    },
    "tags": []
   },
   "outputs": [],
   "source": [
    "%%R\n",
    "data"
   ]
  },
  {
   "cell_type": "code",
   "execution_count": null,
   "id": "b6b29b0e-92c4-4d4f-b835-c5e9d7d59455",
   "metadata": {
    "execution": {
     "iopub.execute_input": "2023-05-15T09:42:01.798215Z",
     "iopub.status.busy": "2023-05-15T09:42:01.797918Z",
     "iopub.status.idle": "2023-05-15T09:42:18.691412Z",
     "shell.execute_reply": "2023-05-15T09:42:18.690795Z"
    },
    "papermill": {
     "duration": 16.897838,
     "end_time": "2023-05-15T09:42:18.692945",
     "exception": false,
     "start_time": "2023-05-15T09:42:01.795107",
     "status": "completed"
    },
    "tags": []
   },
   "outputs": [],
   "source": [
    "%%R\n",
    "\n",
    "data <- NormalizeData(data)\n",
    "data <- ScaleData(data, features = row.names(data))\n",
    "data <- FindVariableFeatures(data)\n",
    "data <- RunPCA(data, verbose = F)\n",
    "data <- FindNeighbors(data, verbose = F)\n",
    "data <- FindClusters(data, verbose = F)\n",
    "data <- RunUMAP(data, dims = 1:20, verbose = F)"
   ]
  },
  {
   "cell_type": "code",
   "execution_count": null,
   "id": "40fa5cdd-01d7-4b40-90e6-0c97545b0711",
   "metadata": {
    "execution": {
     "iopub.execute_input": "2023-05-15T09:42:18.701050Z",
     "iopub.status.busy": "2023-05-15T09:42:18.700885Z",
     "iopub.status.idle": "2023-05-15T09:42:50.047452Z",
     "shell.execute_reply": "2023-05-15T09:42:50.046989Z"
    },
    "papermill": {
     "duration": 31.355368,
     "end_time": "2023-05-15T09:42:50.053153",
     "exception": false,
     "start_time": "2023-05-15T09:42:18.697785",
     "status": "completed"
    },
    "tags": []
   },
   "outputs": [],
   "source": [
    "%%R\n",
    "\n",
    "ref1 <- celldex::BlueprintEncodeData()\n",
    "ref2 <- celldex::MonacoImmuneData()\n",
    "cell_classification <- SingleR(test = as.SingleCellExperiment(data),\n",
    "                               ref = list(BPE = ref1, MON = ref2),\n",
    "                               labels = list(ref1$label.main, ref2$label.main))\n",
    "\n",
    "data[[\"SingleR_label\"]] <- cell_classification$labels\n",
    "\n",
    "plotScoreHeatmap(cell_classification)"
   ]
  },
  {
   "cell_type": "code",
   "execution_count": null,
   "id": "6ad7cf2f-891f-4c05-b34d-e47c84bbe27b",
   "metadata": {
    "execution": {
     "iopub.execute_input": "2023-05-15T09:42:50.060277Z",
     "iopub.status.busy": "2023-05-15T09:42:50.060124Z",
     "iopub.status.idle": "2023-05-15T09:42:50.475959Z",
     "shell.execute_reply": "2023-05-15T09:42:50.475549Z"
    },
    "papermill": {
     "duration": 0.420695,
     "end_time": "2023-05-15T09:42:50.477048",
     "exception": false,
     "start_time": "2023-05-15T09:42:50.056353",
     "status": "completed"
    },
    "tags": []
   },
   "outputs": [],
   "source": [
    "%%R -i sample_name\n",
    "\n",
    "write.csv(data@meta.data, paste0(sample_name, \"_metadata.csv\"))"
   ]
  }
 ],
 "metadata": {
  "kernelspec": {
   "display_name": "py_R",
   "language": "python",
   "name": "python_r"
  },
  "language_info": {
   "codemirror_mode": {
    "name": "ipython",
    "version": 3
   },
   "file_extension": ".py",
   "mimetype": "text/x-python",
   "name": "python",
   "nbconvert_exporter": "python",
   "pygments_lexer": "ipython3",
   "version": "3.10.9"
  },
  "papermill": {
   "default_parameters": {},
   "duration": 72.900531,
   "end_time": "2023-05-15T09:42:51.798157",
   "environment_variables": {},
   "exception": null,
   "input_path": "template.ipynb",
   "output_path": "SRR13329112.ipynb",
   "parameters": {
    "sample_name": "SRR13329112"
   },
   "start_time": "2023-05-15T09:41:38.897626",
   "version": "2.3.4"
  }
 },
 "nbformat": 4,
 "nbformat_minor": 5
}
