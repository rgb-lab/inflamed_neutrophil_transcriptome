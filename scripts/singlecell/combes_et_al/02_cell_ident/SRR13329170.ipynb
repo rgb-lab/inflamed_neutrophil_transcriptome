{
 "cells": [
  {
   "cell_type": "code",
   "execution_count": null,
   "id": "78a6243e-1906-4e3b-ae98-4b5bd21bd37c",
   "metadata": {
    "execution": {
     "iopub.execute_input": "2023-05-15T08:47:06.046753Z",
     "iopub.status.busy": "2023-05-15T08:47:06.046588Z",
     "iopub.status.idle": "2023-05-15T08:47:06.051163Z",
     "shell.execute_reply": "2023-05-15T08:47:06.050836Z"
    },
    "papermill": {
     "duration": 0.008176,
     "end_time": "2023-05-15T08:47:06.052048",
     "exception": false,
     "start_time": "2023-05-15T08:47:06.043872",
     "status": "completed"
    },
    "tags": [
     "parameters"
    ]
   },
   "outputs": [],
   "source": [
    "sample_name = \"SRR13329143\""
   ]
  },
  {
   "cell_type": "code",
   "execution_count": null,
   "id": "068a63ca",
   "metadata": {
    "execution": {
     "iopub.execute_input": "2023-05-15T08:47:06.055865Z",
     "iopub.status.busy": "2023-05-15T08:47:06.055550Z",
     "iopub.status.idle": "2023-05-15T08:47:06.059135Z",
     "shell.execute_reply": "2023-05-15T08:47:06.058815Z"
    },
    "papermill": {
     "duration": 0.006551,
     "end_time": "2023-05-15T08:47:06.060226",
     "exception": false,
     "start_time": "2023-05-15T08:47:06.053675",
     "status": "completed"
    },
    "tags": [
     "injected-parameters"
    ]
   },
   "outputs": [],
   "source": [
    "# Parameters\n",
    "sample_name = \"SRR13329170\"\n"
   ]
  },
  {
   "cell_type": "code",
   "execution_count": null,
   "id": "487588d5-40a0-4c35-9cd9-ee9b3e2f1d4e",
   "metadata": {
    "execution": {
     "iopub.execute_input": "2023-05-15T08:47:06.063815Z",
     "iopub.status.busy": "2023-05-15T08:47:06.063671Z",
     "iopub.status.idle": "2023-05-15T08:47:06.069974Z",
     "shell.execute_reply": "2023-05-15T08:47:06.069678Z"
    },
    "papermill": {
     "duration": 0.009002,
     "end_time": "2023-05-15T08:47:06.070774",
     "exception": false,
     "start_time": "2023-05-15T08:47:06.061772",
     "status": "completed"
    },
    "tags": []
   },
   "outputs": [],
   "source": [
    "import warnings\n",
    "warnings.simplefilter(action='ignore', category=FutureWarning)\n",
    "warnings.simplefilter(action='ignore', category=UserWarning)"
   ]
  },
  {
   "cell_type": "code",
   "execution_count": null,
   "id": "5bba6a57-54cf-4720-8653-bf94afa536ad",
   "metadata": {
    "execution": {
     "iopub.execute_input": "2023-05-15T08:47:06.074295Z",
     "iopub.status.busy": "2023-05-15T08:47:06.074153Z",
     "iopub.status.idle": "2023-05-15T08:47:10.137098Z",
     "shell.execute_reply": "2023-05-15T08:47:10.136613Z"
    },
    "papermill": {
     "duration": 4.066848,
     "end_time": "2023-05-15T08:47:10.139072",
     "exception": false,
     "start_time": "2023-05-15T08:47:06.072224",
     "status": "completed"
    },
    "tags": []
   },
   "outputs": [],
   "source": [
    "import gc\n",
    "import scanpy as sc\n",
    "import muon as mu\n",
    "import seaborn as sns\n",
    "import os\n",
    "import pandas as pd\n",
    "from matplotlib import pyplot as plt\n",
    "\n",
    "os.environ['R_HOME'] = '/gpfs/bwfor/work/ws/hd_fu399-conda/conda/envs/python_R/lib/R/'\n",
    "import anndata2ri\n",
    "import logging\n",
    "\n",
    "import rpy2.rinterface_lib.callbacks as rcb\n",
    "import rpy2.robjects as ro\n",
    "\n",
    "rcb.logger.setLevel(logging.ERROR)\n",
    "ro.pandas2ri.activate()\n",
    "anndata2ri.activate()\n",
    "\n",
    "%load_ext rpy2.ipython"
   ]
  },
  {
   "cell_type": "code",
   "execution_count": null,
   "id": "0897f8ed-b086-4ddc-a32e-6ae638ff6d14",
   "metadata": {
    "execution": {
     "iopub.execute_input": "2023-05-15T08:47:10.144435Z",
     "iopub.status.busy": "2023-05-15T08:47:10.144092Z",
     "iopub.status.idle": "2023-05-15T08:47:17.742826Z",
     "shell.execute_reply": "2023-05-15T08:47:17.742238Z"
    },
    "papermill": {
     "duration": 7.603024,
     "end_time": "2023-05-15T08:47:17.744745",
     "exception": false,
     "start_time": "2023-05-15T08:47:10.141721",
     "status": "completed"
    },
    "tags": []
   },
   "outputs": [],
   "source": [
    "%%R\n",
    "\n",
    "suppressMessages(library(SeuratDisk))\n",
    "suppressMessages(library(SingleR))\n",
    "suppressMessages(library(Seurat))\n",
    "suppressMessages(library(SingleCellExperiment))\n",
    "suppressMessages(library(UCell))"
   ]
  },
  {
   "cell_type": "code",
   "execution_count": null,
   "id": "74c6b1b1-5af7-4955-a6cc-4532fc42a266",
   "metadata": {
    "execution": {
     "iopub.execute_input": "2023-05-15T08:47:17.750325Z",
     "iopub.status.busy": "2023-05-15T08:47:17.750079Z",
     "iopub.status.idle": "2023-05-15T08:47:18.101950Z",
     "shell.execute_reply": "2023-05-15T08:47:18.101489Z"
    },
    "papermill": {
     "duration": 0.356138,
     "end_time": "2023-05-15T08:47:18.103683",
     "exception": false,
     "start_time": "2023-05-15T08:47:17.747545",
     "status": "completed"
    },
    "tags": []
   },
   "outputs": [],
   "source": [
    "dataset = sc.read(f\"../../int_data/{sample_name}_qc.h5ad\")\n",
    "dataset.X = dataset.layers[\"soupX_counts\"]"
   ]
  },
  {
   "cell_type": "code",
   "execution_count": null,
   "id": "f2520f85-0ac2-4e0d-b7f1-e5b9ce4c769d",
   "metadata": {
    "execution": {
     "iopub.execute_input": "2023-05-15T08:47:18.107903Z",
     "iopub.status.busy": "2023-05-15T08:47:18.107747Z",
     "iopub.status.idle": "2023-05-15T08:47:18.114951Z",
     "shell.execute_reply": "2023-05-15T08:47:18.114620Z"
    },
    "papermill": {
     "duration": 0.010266,
     "end_time": "2023-05-15T08:47:18.115745",
     "exception": false,
     "start_time": "2023-05-15T08:47:18.105479",
     "status": "completed"
    },
    "tags": []
   },
   "outputs": [],
   "source": [
    "dataset.obs[[\"AvgSpotLen\", \"Bases\", \"Bytes\", \"version\"]] = dataset.obs[[\"AvgSpotLen\", \"Bases\", \"Bytes\", \"version\"]].astype(\"str\")"
   ]
  },
  {
   "cell_type": "code",
   "execution_count": null,
   "id": "99f95dca-cf68-4a51-8f53-ca088aa3167b",
   "metadata": {
    "execution": {
     "iopub.execute_input": "2023-05-15T08:47:18.119746Z",
     "iopub.status.busy": "2023-05-15T08:47:18.119524Z",
     "iopub.status.idle": "2023-05-15T08:47:24.687285Z",
     "shell.execute_reply": "2023-05-15T08:47:24.686789Z"
    },
    "papermill": {
     "duration": 6.571841,
     "end_time": "2023-05-15T08:47:24.689205",
     "exception": false,
     "start_time": "2023-05-15T08:47:18.117364",
     "status": "completed"
    },
    "tags": []
   },
   "outputs": [],
   "source": [
    "%%R -i dataset\n",
    "\n",
    "sce <- SingleCellExperiment(list(counts=dataset@assays@data[[\"soupX_counts\"]]),\n",
    "    colData=dataset@colData,\n",
    ")\n",
    "\n",
    "row.names(sce) <- row.names(dataset)\n",
    "\n",
    "data <- as.Seurat(sce, data = NULL)"
   ]
  },
  {
   "cell_type": "code",
   "execution_count": null,
   "id": "0b749876-ea5a-403c-8b0b-51afc8a633e3",
   "metadata": {
    "execution": {
     "iopub.execute_input": "2023-05-15T08:47:24.697533Z",
     "iopub.status.busy": "2023-05-15T08:47:24.697312Z",
     "iopub.status.idle": "2023-05-15T08:47:24.717056Z",
     "shell.execute_reply": "2023-05-15T08:47:24.716727Z"
    },
    "papermill": {
     "duration": 0.024033,
     "end_time": "2023-05-15T08:47:24.717799",
     "exception": false,
     "start_time": "2023-05-15T08:47:24.693766",
     "status": "completed"
    },
    "tags": []
   },
   "outputs": [],
   "source": [
    "%%R\n",
    "data"
   ]
  },
  {
   "cell_type": "code",
   "execution_count": null,
   "id": "b6b29b0e-92c4-4d4f-b835-c5e9d7d59455",
   "metadata": {
    "execution": {
     "iopub.execute_input": "2023-05-15T08:47:24.723275Z",
     "iopub.status.busy": "2023-05-15T08:47:24.723062Z",
     "iopub.status.idle": "2023-05-15T08:47:37.378262Z",
     "shell.execute_reply": "2023-05-15T08:47:37.377653Z"
    },
    "papermill": {
     "duration": 12.66008,
     "end_time": "2023-05-15T08:47:37.380281",
     "exception": false,
     "start_time": "2023-05-15T08:47:24.720201",
     "status": "completed"
    },
    "tags": []
   },
   "outputs": [],
   "source": [
    "%%R\n",
    "\n",
    "data <- NormalizeData(data)\n",
    "data <- ScaleData(data, features = row.names(data))\n",
    "data <- FindVariableFeatures(data)\n",
    "data <- RunPCA(data, verbose = F)\n",
    "data <- FindNeighbors(data, verbose = F)\n",
    "data <- FindClusters(data, verbose = F)\n",
    "data <- RunUMAP(data, dims = 1:20, verbose = F)"
   ]
  },
  {
   "cell_type": "code",
   "execution_count": null,
   "id": "40fa5cdd-01d7-4b40-90e6-0c97545b0711",
   "metadata": {
    "execution": {
     "iopub.execute_input": "2023-05-15T08:47:37.389635Z",
     "iopub.status.busy": "2023-05-15T08:47:37.389433Z",
     "iopub.status.idle": "2023-05-15T08:48:02.904103Z",
     "shell.execute_reply": "2023-05-15T08:48:02.903674Z"
    },
    "papermill": {
     "duration": 25.520274,
     "end_time": "2023-05-15T08:48:02.905969",
     "exception": false,
     "start_time": "2023-05-15T08:47:37.385695",
     "status": "completed"
    },
    "tags": []
   },
   "outputs": [],
   "source": [
    "%%R\n",
    "\n",
    "ref1 <- celldex::BlueprintEncodeData()\n",
    "ref2 <- celldex::MonacoImmuneData()\n",
    "cell_classification <- SingleR(test = as.SingleCellExperiment(data),\n",
    "                               ref = list(BPE = ref1, MON = ref2),\n",
    "                               labels = list(ref1$label.main, ref2$label.main))\n",
    "\n",
    "data[[\"SingleR_label\"]] <- cell_classification$labels\n",
    "\n",
    "plotScoreHeatmap(cell_classification)"
   ]
  },
  {
   "cell_type": "code",
   "execution_count": null,
   "id": "6ad7cf2f-891f-4c05-b34d-e47c84bbe27b",
   "metadata": {
    "execution": {
     "iopub.execute_input": "2023-05-15T08:48:02.916584Z",
     "iopub.status.busy": "2023-05-15T08:48:02.916433Z",
     "iopub.status.idle": "2023-05-15T08:48:02.969875Z",
     "shell.execute_reply": "2023-05-15T08:48:02.969486Z"
    },
    "papermill": {
     "duration": 0.058699,
     "end_time": "2023-05-15T08:48:02.971115",
     "exception": false,
     "start_time": "2023-05-15T08:48:02.912416",
     "status": "completed"
    },
    "tags": []
   },
   "outputs": [],
   "source": [
    "%%R -i sample_name\n",
    "\n",
    "write.csv(data@meta.data, paste0(sample_name, \"_metadata.csv\"))"
   ]
  }
 ],
 "metadata": {
  "kernelspec": {
   "display_name": "py_R",
   "language": "python",
   "name": "python_r"
  },
  "language_info": {
   "codemirror_mode": {
    "name": "ipython",
    "version": 3
   },
   "file_extension": ".py",
   "mimetype": "text/x-python",
   "name": "python",
   "nbconvert_exporter": "python",
   "pygments_lexer": "ipython3",
   "version": "3.10.9"
  },
  "papermill": {
   "default_parameters": {},
   "duration": 59.153189,
   "end_time": "2023-05-15T08:48:04.292654",
   "environment_variables": {},
   "exception": null,
   "input_path": "template.ipynb",
   "output_path": "SRR13329170.ipynb",
   "parameters": {
    "sample_name": "SRR13329170"
   },
   "start_time": "2023-05-15T08:47:05.139465",
   "version": "2.3.4"
  }
 },
 "nbformat": 4,
 "nbformat_minor": 5
}
