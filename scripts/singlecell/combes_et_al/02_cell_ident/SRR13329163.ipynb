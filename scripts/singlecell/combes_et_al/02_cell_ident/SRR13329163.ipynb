{
 "cells": [
  {
   "cell_type": "code",
   "execution_count": null,
   "id": "78a6243e-1906-4e3b-ae98-4b5bd21bd37c",
   "metadata": {
    "execution": {
     "iopub.execute_input": "2023-05-15T09:31:26.307819Z",
     "iopub.status.busy": "2023-05-15T09:31:26.307664Z",
     "iopub.status.idle": "2023-05-15T09:31:26.312733Z",
     "shell.execute_reply": "2023-05-15T09:31:26.312426Z"
    },
    "papermill": {
     "duration": 0.008333,
     "end_time": "2023-05-15T09:31:26.313626",
     "exception": false,
     "start_time": "2023-05-15T09:31:26.305293",
     "status": "completed"
    },
    "tags": [
     "parameters"
    ]
   },
   "outputs": [],
   "source": [
    "sample_name = \"SRR13329143\""
   ]
  },
  {
   "cell_type": "code",
   "execution_count": null,
   "id": "90045e93",
   "metadata": {
    "execution": {
     "iopub.execute_input": "2023-05-15T09:31:26.316901Z",
     "iopub.status.busy": "2023-05-15T09:31:26.316752Z",
     "iopub.status.idle": "2023-05-15T09:31:26.318666Z",
     "shell.execute_reply": "2023-05-15T09:31:26.318363Z"
    },
    "papermill": {
     "duration": 0.00437,
     "end_time": "2023-05-15T09:31:26.319437",
     "exception": false,
     "start_time": "2023-05-15T09:31:26.315067",
     "status": "completed"
    },
    "tags": [
     "injected-parameters"
    ]
   },
   "outputs": [],
   "source": [
    "# Parameters\n",
    "sample_name = \"SRR13329163\"\n"
   ]
  },
  {
   "cell_type": "code",
   "execution_count": null,
   "id": "487588d5-40a0-4c35-9cd9-ee9b3e2f1d4e",
   "metadata": {
    "execution": {
     "iopub.execute_input": "2023-05-15T09:31:26.322698Z",
     "iopub.status.busy": "2023-05-15T09:31:26.322481Z",
     "iopub.status.idle": "2023-05-15T09:31:26.324689Z",
     "shell.execute_reply": "2023-05-15T09:31:26.324385Z"
    },
    "papermill": {
     "duration": 0.004696,
     "end_time": "2023-05-15T09:31:26.325466",
     "exception": false,
     "start_time": "2023-05-15T09:31:26.320770",
     "status": "completed"
    },
    "tags": []
   },
   "outputs": [],
   "source": [
    "import warnings\n",
    "warnings.simplefilter(action='ignore', category=FutureWarning)\n",
    "warnings.simplefilter(action='ignore', category=UserWarning)"
   ]
  },
  {
   "cell_type": "code",
   "execution_count": null,
   "id": "5bba6a57-54cf-4720-8653-bf94afa536ad",
   "metadata": {
    "execution": {
     "iopub.execute_input": "2023-05-15T09:31:26.329360Z",
     "iopub.status.busy": "2023-05-15T09:31:26.329137Z",
     "iopub.status.idle": "2023-05-15T09:31:30.517153Z",
     "shell.execute_reply": "2023-05-15T09:31:30.516622Z"
    },
    "papermill": {
     "duration": 4.191359,
     "end_time": "2023-05-15T09:31:30.518736",
     "exception": false,
     "start_time": "2023-05-15T09:31:26.327377",
     "status": "completed"
    },
    "tags": []
   },
   "outputs": [],
   "source": [
    "import gc\n",
    "import scanpy as sc\n",
    "import muon as mu\n",
    "import seaborn as sns\n",
    "import os\n",
    "import pandas as pd\n",
    "from matplotlib import pyplot as plt\n",
    "\n",
    "os.environ['R_HOME'] = '/gpfs/bwfor/work/ws/hd_fu399-conda/conda/envs/python_R/lib/R/'\n",
    "import anndata2ri\n",
    "import logging\n",
    "\n",
    "import rpy2.rinterface_lib.callbacks as rcb\n",
    "import rpy2.robjects as ro\n",
    "\n",
    "rcb.logger.setLevel(logging.ERROR)\n",
    "ro.pandas2ri.activate()\n",
    "anndata2ri.activate()\n",
    "\n",
    "%load_ext rpy2.ipython"
   ]
  },
  {
   "cell_type": "code",
   "execution_count": null,
   "id": "0897f8ed-b086-4ddc-a32e-6ae638ff6d14",
   "metadata": {
    "execution": {
     "iopub.execute_input": "2023-05-15T09:31:30.523594Z",
     "iopub.status.busy": "2023-05-15T09:31:30.523288Z",
     "iopub.status.idle": "2023-05-15T09:31:38.529916Z",
     "shell.execute_reply": "2023-05-15T09:31:38.529313Z"
    },
    "papermill": {
     "duration": 8.010251,
     "end_time": "2023-05-15T09:31:38.531398",
     "exception": false,
     "start_time": "2023-05-15T09:31:30.521147",
     "status": "completed"
    },
    "tags": []
   },
   "outputs": [],
   "source": [
    "%%R\n",
    "\n",
    "suppressMessages(library(SeuratDisk))\n",
    "suppressMessages(library(SingleR))\n",
    "suppressMessages(library(Seurat))\n",
    "suppressMessages(library(SingleCellExperiment))\n",
    "suppressMessages(library(UCell))"
   ]
  },
  {
   "cell_type": "code",
   "execution_count": null,
   "id": "74c6b1b1-5af7-4955-a6cc-4532fc42a266",
   "metadata": {
    "execution": {
     "iopub.execute_input": "2023-05-15T09:31:38.538029Z",
     "iopub.status.busy": "2023-05-15T09:31:38.537862Z",
     "iopub.status.idle": "2023-05-15T09:31:38.946745Z",
     "shell.execute_reply": "2023-05-15T09:31:38.946277Z"
    },
    "papermill": {
     "duration": 0.412637,
     "end_time": "2023-05-15T09:31:38.948151",
     "exception": false,
     "start_time": "2023-05-15T09:31:38.535514",
     "status": "completed"
    },
    "tags": []
   },
   "outputs": [],
   "source": [
    "dataset = sc.read(f\"../../int_data/{sample_name}_qc.h5ad\")\n",
    "dataset.X = dataset.layers[\"soupX_counts\"]"
   ]
  },
  {
   "cell_type": "code",
   "execution_count": null,
   "id": "f2520f85-0ac2-4e0d-b7f1-e5b9ce4c769d",
   "metadata": {
    "execution": {
     "iopub.execute_input": "2023-05-15T09:31:38.952630Z",
     "iopub.status.busy": "2023-05-15T09:31:38.952336Z",
     "iopub.status.idle": "2023-05-15T09:31:38.961040Z",
     "shell.execute_reply": "2023-05-15T09:31:38.960672Z"
    },
    "papermill": {
     "duration": 0.011648,
     "end_time": "2023-05-15T09:31:38.961853",
     "exception": false,
     "start_time": "2023-05-15T09:31:38.950205",
     "status": "completed"
    },
    "tags": []
   },
   "outputs": [],
   "source": [
    "dataset.obs[[\"AvgSpotLen\", \"Bases\", \"Bytes\", \"version\"]] = dataset.obs[[\"AvgSpotLen\", \"Bases\", \"Bytes\", \"version\"]].astype(\"str\")"
   ]
  },
  {
   "cell_type": "code",
   "execution_count": null,
   "id": "99f95dca-cf68-4a51-8f53-ca088aa3167b",
   "metadata": {
    "execution": {
     "iopub.execute_input": "2023-05-15T09:31:38.965718Z",
     "iopub.status.busy": "2023-05-15T09:31:38.965454Z",
     "iopub.status.idle": "2023-05-15T09:31:45.960968Z",
     "shell.execute_reply": "2023-05-15T09:31:45.960452Z"
    },
    "papermill": {
     "duration": 6.998974,
     "end_time": "2023-05-15T09:31:45.962399",
     "exception": false,
     "start_time": "2023-05-15T09:31:38.963425",
     "status": "completed"
    },
    "tags": []
   },
   "outputs": [],
   "source": [
    "%%R -i dataset\n",
    "\n",
    "sce <- SingleCellExperiment(list(counts=dataset@assays@data[[\"soupX_counts\"]]),\n",
    "    colData=dataset@colData,\n",
    ")\n",
    "\n",
    "row.names(sce) <- row.names(dataset)\n",
    "\n",
    "data <- as.Seurat(sce, data = NULL)"
   ]
  },
  {
   "cell_type": "code",
   "execution_count": null,
   "id": "0b749876-ea5a-403c-8b0b-51afc8a633e3",
   "metadata": {
    "execution": {
     "iopub.execute_input": "2023-05-15T09:31:45.968869Z",
     "iopub.status.busy": "2023-05-15T09:31:45.968639Z",
     "iopub.status.idle": "2023-05-15T09:31:45.989268Z",
     "shell.execute_reply": "2023-05-15T09:31:45.988921Z"
    },
    "papermill": {
     "duration": 0.023806,
     "end_time": "2023-05-15T09:31:45.990055",
     "exception": false,
     "start_time": "2023-05-15T09:31:45.966249",
     "status": "completed"
    },
    "tags": []
   },
   "outputs": [],
   "source": [
    "%%R\n",
    "data"
   ]
  },
  {
   "cell_type": "code",
   "execution_count": null,
   "id": "b6b29b0e-92c4-4d4f-b835-c5e9d7d59455",
   "metadata": {
    "execution": {
     "iopub.execute_input": "2023-05-15T09:31:45.995463Z",
     "iopub.status.busy": "2023-05-15T09:31:45.995156Z",
     "iopub.status.idle": "2023-05-15T09:32:02.740677Z",
     "shell.execute_reply": "2023-05-15T09:32:02.740210Z"
    },
    "papermill": {
     "duration": 16.749653,
     "end_time": "2023-05-15T09:32:02.742069",
     "exception": false,
     "start_time": "2023-05-15T09:31:45.992416",
     "status": "completed"
    },
    "tags": []
   },
   "outputs": [],
   "source": [
    "%%R\n",
    "\n",
    "data <- NormalizeData(data)\n",
    "data <- ScaleData(data, features = row.names(data))\n",
    "data <- FindVariableFeatures(data)\n",
    "data <- RunPCA(data, verbose = F)\n",
    "data <- FindNeighbors(data, verbose = F)\n",
    "data <- FindClusters(data, verbose = F)\n",
    "data <- RunUMAP(data, dims = 1:20, verbose = F)"
   ]
  },
  {
   "cell_type": "code",
   "execution_count": null,
   "id": "40fa5cdd-01d7-4b40-90e6-0c97545b0711",
   "metadata": {
    "execution": {
     "iopub.execute_input": "2023-05-15T09:32:02.749752Z",
     "iopub.status.busy": "2023-05-15T09:32:02.749397Z",
     "iopub.status.idle": "2023-05-15T09:32:54.760573Z",
     "shell.execute_reply": "2023-05-15T09:32:54.760065Z"
    },
    "papermill": {
     "duration": 52.02026,
     "end_time": "2023-05-15T09:32:54.766697",
     "exception": false,
     "start_time": "2023-05-15T09:32:02.746437",
     "status": "completed"
    },
    "tags": []
   },
   "outputs": [],
   "source": [
    "%%R\n",
    "\n",
    "ref1 <- celldex::BlueprintEncodeData()\n",
    "ref2 <- celldex::MonacoImmuneData()\n",
    "cell_classification <- SingleR(test = as.SingleCellExperiment(data),\n",
    "                               ref = list(BPE = ref1, MON = ref2),\n",
    "                               labels = list(ref1$label.main, ref2$label.main))\n",
    "\n",
    "data[[\"SingleR_label\"]] <- cell_classification$labels\n",
    "\n",
    "plotScoreHeatmap(cell_classification)"
   ]
  },
  {
   "cell_type": "code",
   "execution_count": null,
   "id": "6ad7cf2f-891f-4c05-b34d-e47c84bbe27b",
   "metadata": {
    "execution": {
     "iopub.execute_input": "2023-05-15T09:32:54.774452Z",
     "iopub.status.busy": "2023-05-15T09:32:54.774225Z",
     "iopub.status.idle": "2023-05-15T09:32:55.264651Z",
     "shell.execute_reply": "2023-05-15T09:32:55.264202Z"
    },
    "papermill": {
     "duration": 0.495194,
     "end_time": "2023-05-15T09:32:55.265720",
     "exception": false,
     "start_time": "2023-05-15T09:32:54.770526",
     "status": "completed"
    },
    "tags": []
   },
   "outputs": [],
   "source": [
    "%%R -i sample_name\n",
    "\n",
    "write.csv(data@meta.data, paste0(sample_name, \"_metadata.csv\"))"
   ]
  }
 ],
 "metadata": {
  "kernelspec": {
   "display_name": "py_R",
   "language": "python",
   "name": "python_r"
  },
  "language_info": {
   "codemirror_mode": {
    "name": "ipython",
    "version": 3
   },
   "file_extension": ".py",
   "mimetype": "text/x-python",
   "name": "python",
   "nbconvert_exporter": "python",
   "pygments_lexer": "ipython3",
   "version": "3.10.9"
  },
  "papermill": {
   "default_parameters": {},
   "duration": 91.250374,
   "end_time": "2023-05-15T09:32:56.586730",
   "environment_variables": {},
   "exception": null,
   "input_path": "template.ipynb",
   "output_path": "SRR13329163.ipynb",
   "parameters": {
    "sample_name": "SRR13329163"
   },
   "start_time": "2023-05-15T09:31:25.336356",
   "version": "2.3.4"
  }
 },
 "nbformat": 4,
 "nbformat_minor": 5
}
