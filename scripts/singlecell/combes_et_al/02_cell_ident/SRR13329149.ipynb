{
 "cells": [
  {
   "cell_type": "code",
   "execution_count": null,
   "id": "78a6243e-1906-4e3b-ae98-4b5bd21bd37c",
   "metadata": {
    "execution": {
     "iopub.execute_input": "2023-05-15T09:27:48.817876Z",
     "iopub.status.busy": "2023-05-15T09:27:48.817593Z",
     "iopub.status.idle": "2023-05-15T09:27:48.823599Z",
     "shell.execute_reply": "2023-05-15T09:27:48.823086Z"
    },
    "papermill": {
     "duration": 0.010215,
     "end_time": "2023-05-15T09:27:48.824786",
     "exception": false,
     "start_time": "2023-05-15T09:27:48.814571",
     "status": "completed"
    },
    "tags": [
     "parameters"
    ]
   },
   "outputs": [],
   "source": [
    "sample_name = \"SRR13329143\""
   ]
  },
  {
   "cell_type": "code",
   "execution_count": null,
   "id": "fde0689d",
   "metadata": {
    "execution": {
     "iopub.execute_input": "2023-05-15T09:27:48.828601Z",
     "iopub.status.busy": "2023-05-15T09:27:48.828277Z",
     "iopub.status.idle": "2023-05-15T09:27:48.830743Z",
     "shell.execute_reply": "2023-05-15T09:27:48.830246Z"
    },
    "papermill": {
     "duration": 0.005319,
     "end_time": "2023-05-15T09:27:48.831641",
     "exception": false,
     "start_time": "2023-05-15T09:27:48.826322",
     "status": "completed"
    },
    "tags": [
     "injected-parameters"
    ]
   },
   "outputs": [],
   "source": [
    "# Parameters\n",
    "sample_name = \"SRR13329149\"\n"
   ]
  },
  {
   "cell_type": "code",
   "execution_count": null,
   "id": "487588d5-40a0-4c35-9cd9-ee9b3e2f1d4e",
   "metadata": {
    "execution": {
     "iopub.execute_input": "2023-05-15T09:27:48.835300Z",
     "iopub.status.busy": "2023-05-15T09:27:48.834903Z",
     "iopub.status.idle": "2023-05-15T09:27:48.837675Z",
     "shell.execute_reply": "2023-05-15T09:27:48.837177Z"
    },
    "papermill": {
     "duration": 0.005624,
     "end_time": "2023-05-15T09:27:48.838615",
     "exception": false,
     "start_time": "2023-05-15T09:27:48.832991",
     "status": "completed"
    },
    "tags": []
   },
   "outputs": [],
   "source": [
    "import warnings\n",
    "warnings.simplefilter(action='ignore', category=FutureWarning)\n",
    "warnings.simplefilter(action='ignore', category=UserWarning)"
   ]
  },
  {
   "cell_type": "code",
   "execution_count": null,
   "id": "5bba6a57-54cf-4720-8653-bf94afa536ad",
   "metadata": {
    "execution": {
     "iopub.execute_input": "2023-05-15T09:27:48.842008Z",
     "iopub.status.busy": "2023-05-15T09:27:48.841866Z",
     "iopub.status.idle": "2023-05-15T09:27:53.066747Z",
     "shell.execute_reply": "2023-05-15T09:27:53.066221Z"
    },
    "papermill": {
     "duration": 4.22814,
     "end_time": "2023-05-15T09:27:53.068147",
     "exception": false,
     "start_time": "2023-05-15T09:27:48.840007",
     "status": "completed"
    },
    "tags": []
   },
   "outputs": [],
   "source": [
    "import gc\n",
    "import scanpy as sc\n",
    "import muon as mu\n",
    "import seaborn as sns\n",
    "import os\n",
    "import pandas as pd\n",
    "from matplotlib import pyplot as plt\n",
    "\n",
    "os.environ['R_HOME'] = '/gpfs/bwfor/work/ws/hd_fu399-conda/conda/envs/python_R/lib/R/'\n",
    "import anndata2ri\n",
    "import logging\n",
    "\n",
    "import rpy2.rinterface_lib.callbacks as rcb\n",
    "import rpy2.robjects as ro\n",
    "\n",
    "rcb.logger.setLevel(logging.ERROR)\n",
    "ro.pandas2ri.activate()\n",
    "anndata2ri.activate()\n",
    "\n",
    "%load_ext rpy2.ipython"
   ]
  },
  {
   "cell_type": "code",
   "execution_count": null,
   "id": "0897f8ed-b086-4ddc-a32e-6ae638ff6d14",
   "metadata": {
    "execution": {
     "iopub.execute_input": "2023-05-15T09:27:53.072752Z",
     "iopub.status.busy": "2023-05-15T09:27:53.072445Z",
     "iopub.status.idle": "2023-05-15T09:28:00.308224Z",
     "shell.execute_reply": "2023-05-15T09:28:00.307528Z"
    },
    "papermill": {
     "duration": 7.239455,
     "end_time": "2023-05-15T09:28:00.309753",
     "exception": false,
     "start_time": "2023-05-15T09:27:53.070298",
     "status": "completed"
    },
    "tags": []
   },
   "outputs": [],
   "source": [
    "%%R\n",
    "\n",
    "suppressMessages(library(SeuratDisk))\n",
    "suppressMessages(library(SingleR))\n",
    "suppressMessages(library(Seurat))\n",
    "suppressMessages(library(SingleCellExperiment))\n",
    "suppressMessages(library(UCell))"
   ]
  },
  {
   "cell_type": "code",
   "execution_count": null,
   "id": "74c6b1b1-5af7-4955-a6cc-4532fc42a266",
   "metadata": {
    "execution": {
     "iopub.execute_input": "2023-05-15T09:28:00.316047Z",
     "iopub.status.busy": "2023-05-15T09:28:00.315836Z",
     "iopub.status.idle": "2023-05-15T09:28:00.432059Z",
     "shell.execute_reply": "2023-05-15T09:28:00.431580Z"
    },
    "papermill": {
     "duration": 0.120115,
     "end_time": "2023-05-15T09:28:00.433477",
     "exception": false,
     "start_time": "2023-05-15T09:28:00.313362",
     "status": "completed"
    },
    "tags": []
   },
   "outputs": [],
   "source": [
    "dataset = sc.read(f\"../../int_data/{sample_name}_qc.h5ad\")\n",
    "dataset.X = dataset.layers[\"soupX_counts\"]"
   ]
  },
  {
   "cell_type": "code",
   "execution_count": null,
   "id": "f2520f85-0ac2-4e0d-b7f1-e5b9ce4c769d",
   "metadata": {
    "execution": {
     "iopub.execute_input": "2023-05-15T09:28:00.437907Z",
     "iopub.status.busy": "2023-05-15T09:28:00.437719Z",
     "iopub.status.idle": "2023-05-15T09:28:00.442849Z",
     "shell.execute_reply": "2023-05-15T09:28:00.442484Z"
    },
    "papermill": {
     "duration": 0.008176,
     "end_time": "2023-05-15T09:28:00.443673",
     "exception": false,
     "start_time": "2023-05-15T09:28:00.435497",
     "status": "completed"
    },
    "tags": []
   },
   "outputs": [],
   "source": [
    "dataset.obs[[\"AvgSpotLen\", \"Bases\", \"Bytes\", \"version\"]] = dataset.obs[[\"AvgSpotLen\", \"Bases\", \"Bytes\", \"version\"]].astype(\"str\")"
   ]
  },
  {
   "cell_type": "code",
   "execution_count": null,
   "id": "99f95dca-cf68-4a51-8f53-ca088aa3167b",
   "metadata": {
    "execution": {
     "iopub.execute_input": "2023-05-15T09:28:00.447539Z",
     "iopub.status.busy": "2023-05-15T09:28:00.447344Z",
     "iopub.status.idle": "2023-05-15T09:28:03.756166Z",
     "shell.execute_reply": "2023-05-15T09:28:03.755667Z"
    },
    "papermill": {
     "duration": 3.312365,
     "end_time": "2023-05-15T09:28:03.757617",
     "exception": false,
     "start_time": "2023-05-15T09:28:00.445252",
     "status": "completed"
    },
    "tags": []
   },
   "outputs": [],
   "source": [
    "%%R -i dataset\n",
    "\n",
    "sce <- SingleCellExperiment(list(counts=dataset@assays@data[[\"soupX_counts\"]]),\n",
    "    colData=dataset@colData,\n",
    ")\n",
    "\n",
    "row.names(sce) <- row.names(dataset)\n",
    "\n",
    "data <- as.Seurat(sce, data = NULL)"
   ]
  },
  {
   "cell_type": "code",
   "execution_count": null,
   "id": "0b749876-ea5a-403c-8b0b-51afc8a633e3",
   "metadata": {
    "execution": {
     "iopub.execute_input": "2023-05-15T09:28:03.762247Z",
     "iopub.status.busy": "2023-05-15T09:28:03.762077Z",
     "iopub.status.idle": "2023-05-15T09:28:03.782507Z",
     "shell.execute_reply": "2023-05-15T09:28:03.782155Z"
    },
    "papermill": {
     "duration": 0.023544,
     "end_time": "2023-05-15T09:28:03.783357",
     "exception": false,
     "start_time": "2023-05-15T09:28:03.759813",
     "status": "completed"
    },
    "tags": []
   },
   "outputs": [],
   "source": [
    "%%R\n",
    "data"
   ]
  },
  {
   "cell_type": "code",
   "execution_count": null,
   "id": "b6b29b0e-92c4-4d4f-b835-c5e9d7d59455",
   "metadata": {
    "execution": {
     "iopub.execute_input": "2023-05-15T09:28:03.788879Z",
     "iopub.status.busy": "2023-05-15T09:28:03.788578Z",
     "iopub.status.idle": "2023-05-15T09:28:09.455269Z",
     "shell.execute_reply": "2023-05-15T09:28:09.454727Z"
    },
    "papermill": {
     "duration": 5.67086,
     "end_time": "2023-05-15T09:28:09.456653",
     "exception": false,
     "start_time": "2023-05-15T09:28:03.785793",
     "status": "completed"
    },
    "tags": []
   },
   "outputs": [],
   "source": [
    "%%R\n",
    "\n",
    "data <- NormalizeData(data)\n",
    "data <- ScaleData(data, features = row.names(data))\n",
    "data <- FindVariableFeatures(data)\n",
    "data <- RunPCA(data, verbose = F)\n",
    "data <- FindNeighbors(data, verbose = F)\n",
    "data <- FindClusters(data, verbose = F)\n",
    "data <- RunUMAP(data, dims = 1:20, verbose = F)"
   ]
  },
  {
   "cell_type": "code",
   "execution_count": null,
   "id": "40fa5cdd-01d7-4b40-90e6-0c97545b0711",
   "metadata": {
    "execution": {
     "iopub.execute_input": "2023-05-15T09:28:09.465845Z",
     "iopub.status.busy": "2023-05-15T09:28:09.465643Z",
     "iopub.status.idle": "2023-05-15T09:28:22.377861Z",
     "shell.execute_reply": "2023-05-15T09:28:22.377400Z"
    },
    "papermill": {
     "duration": 12.916249,
     "end_time": "2023-05-15T09:28:22.378858",
     "exception": false,
     "start_time": "2023-05-15T09:28:09.462609",
     "status": "completed"
    },
    "tags": []
   },
   "outputs": [],
   "source": [
    "%%R\n",
    "\n",
    "ref1 <- celldex::BlueprintEncodeData()\n",
    "ref2 <- celldex::MonacoImmuneData()\n",
    "cell_classification <- SingleR(test = as.SingleCellExperiment(data),\n",
    "                               ref = list(BPE = ref1, MON = ref2),\n",
    "                               labels = list(ref1$label.main, ref2$label.main))\n",
    "\n",
    "data[[\"SingleR_label\"]] <- cell_classification$labels\n",
    "\n",
    "plotScoreHeatmap(cell_classification)"
   ]
  },
  {
   "cell_type": "code",
   "execution_count": null,
   "id": "6ad7cf2f-891f-4c05-b34d-e47c84bbe27b",
   "metadata": {
    "execution": {
     "iopub.execute_input": "2023-05-15T09:28:22.387913Z",
     "iopub.status.busy": "2023-05-15T09:28:22.387709Z",
     "iopub.status.idle": "2023-05-15T09:28:22.678621Z",
     "shell.execute_reply": "2023-05-15T09:28:22.678218Z"
    },
    "papermill": {
     "duration": 0.295727,
     "end_time": "2023-05-15T09:28:22.679719",
     "exception": false,
     "start_time": "2023-05-15T09:28:22.383992",
     "status": "completed"
    },
    "tags": []
   },
   "outputs": [],
   "source": [
    "%%R -i sample_name\n",
    "\n",
    "write.csv(data@meta.data, paste0(sample_name, \"_metadata.csv\"))"
   ]
  }
 ],
 "metadata": {
  "kernelspec": {
   "display_name": "py_R",
   "language": "python",
   "name": "python_r"
  },
  "language_info": {
   "codemirror_mode": {
    "name": "ipython",
    "version": 3
   },
   "file_extension": ".py",
   "mimetype": "text/x-python",
   "name": "python",
   "nbconvert_exporter": "python",
   "pygments_lexer": "ipython3",
   "version": "3.10.9"
  },
  "papermill": {
   "default_parameters": {},
   "duration": 36.09565,
   "end_time": "2023-05-15T09:28:23.900557",
   "environment_variables": {},
   "exception": null,
   "input_path": "template.ipynb",
   "output_path": "SRR13329149.ipynb",
   "parameters": {
    "sample_name": "SRR13329149"
   },
   "start_time": "2023-05-15T09:27:47.804907",
   "version": "2.3.4"
  }
 },
 "nbformat": 4,
 "nbformat_minor": 5
}
