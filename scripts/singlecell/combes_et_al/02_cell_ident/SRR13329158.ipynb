{
 "cells": [
  {
   "cell_type": "code",
   "execution_count": null,
   "id": "78a6243e-1906-4e3b-ae98-4b5bd21bd37c",
   "metadata": {
    "execution": {
     "iopub.execute_input": "2023-05-15T08:52:50.835980Z",
     "iopub.status.busy": "2023-05-15T08:52:50.835805Z",
     "iopub.status.idle": "2023-05-15T08:52:50.840296Z",
     "shell.execute_reply": "2023-05-15T08:52:50.839983Z"
    },
    "papermill": {
     "duration": 0.008036,
     "end_time": "2023-05-15T08:52:50.841262",
     "exception": false,
     "start_time": "2023-05-15T08:52:50.833226",
     "status": "completed"
    },
    "tags": [
     "parameters"
    ]
   },
   "outputs": [],
   "source": [
    "sample_name = \"SRR13329143\""
   ]
  },
  {
   "cell_type": "code",
   "execution_count": null,
   "id": "ad426e6f",
   "metadata": {
    "execution": {
     "iopub.execute_input": "2023-05-15T08:52:50.844917Z",
     "iopub.status.busy": "2023-05-15T08:52:50.844769Z",
     "iopub.status.idle": "2023-05-15T08:52:50.847022Z",
     "shell.execute_reply": "2023-05-15T08:52:50.846717Z"
    },
    "papermill": {
     "duration": 0.005015,
     "end_time": "2023-05-15T08:52:50.847860",
     "exception": false,
     "start_time": "2023-05-15T08:52:50.842845",
     "status": "completed"
    },
    "tags": [
     "injected-parameters"
    ]
   },
   "outputs": [],
   "source": [
    "# Parameters\n",
    "sample_name = \"SRR13329158\"\n"
   ]
  },
  {
   "cell_type": "code",
   "execution_count": null,
   "id": "487588d5-40a0-4c35-9cd9-ee9b3e2f1d4e",
   "metadata": {
    "execution": {
     "iopub.execute_input": "2023-05-15T08:52:50.851321Z",
     "iopub.status.busy": "2023-05-15T08:52:50.851177Z",
     "iopub.status.idle": "2023-05-15T08:52:50.853520Z",
     "shell.execute_reply": "2023-05-15T08:52:50.853224Z"
    },
    "papermill": {
     "duration": 0.005036,
     "end_time": "2023-05-15T08:52:50.854323",
     "exception": false,
     "start_time": "2023-05-15T08:52:50.849287",
     "status": "completed"
    },
    "tags": []
   },
   "outputs": [],
   "source": [
    "import warnings\n",
    "warnings.simplefilter(action='ignore', category=FutureWarning)\n",
    "warnings.simplefilter(action='ignore', category=UserWarning)"
   ]
  },
  {
   "cell_type": "code",
   "execution_count": null,
   "id": "5bba6a57-54cf-4720-8653-bf94afa536ad",
   "metadata": {
    "execution": {
     "iopub.execute_input": "2023-05-15T08:52:50.857865Z",
     "iopub.status.busy": "2023-05-15T08:52:50.857717Z",
     "iopub.status.idle": "2023-05-15T08:52:54.900069Z",
     "shell.execute_reply": "2023-05-15T08:52:54.899584Z"
    },
    "papermill": {
     "duration": 4.04578,
     "end_time": "2023-05-15T08:52:54.901598",
     "exception": false,
     "start_time": "2023-05-15T08:52:50.855818",
     "status": "completed"
    },
    "tags": []
   },
   "outputs": [],
   "source": [
    "import gc\n",
    "import scanpy as sc\n",
    "import muon as mu\n",
    "import seaborn as sns\n",
    "import os\n",
    "import pandas as pd\n",
    "from matplotlib import pyplot as plt\n",
    "\n",
    "os.environ['R_HOME'] = '/gpfs/bwfor/work/ws/hd_fu399-conda/conda/envs/python_R/lib/R/'\n",
    "import anndata2ri\n",
    "import logging\n",
    "\n",
    "import rpy2.rinterface_lib.callbacks as rcb\n",
    "import rpy2.robjects as ro\n",
    "\n",
    "rcb.logger.setLevel(logging.ERROR)\n",
    "ro.pandas2ri.activate()\n",
    "anndata2ri.activate()\n",
    "\n",
    "%load_ext rpy2.ipython"
   ]
  },
  {
   "cell_type": "code",
   "execution_count": null,
   "id": "0897f8ed-b086-4ddc-a32e-6ae638ff6d14",
   "metadata": {
    "execution": {
     "iopub.execute_input": "2023-05-15T08:52:54.906509Z",
     "iopub.status.busy": "2023-05-15T08:52:54.906231Z",
     "iopub.status.idle": "2023-05-15T08:53:01.867268Z",
     "shell.execute_reply": "2023-05-15T08:53:01.866694Z"
    },
    "papermill": {
     "duration": 6.964921,
     "end_time": "2023-05-15T08:53:01.868956",
     "exception": false,
     "start_time": "2023-05-15T08:52:54.904035",
     "status": "completed"
    },
    "tags": []
   },
   "outputs": [],
   "source": [
    "%%R\n",
    "\n",
    "suppressMessages(library(SeuratDisk))\n",
    "suppressMessages(library(SingleR))\n",
    "suppressMessages(library(Seurat))\n",
    "suppressMessages(library(SingleCellExperiment))\n",
    "suppressMessages(library(UCell))"
   ]
  },
  {
   "cell_type": "code",
   "execution_count": null,
   "id": "74c6b1b1-5af7-4955-a6cc-4532fc42a266",
   "metadata": {
    "execution": {
     "iopub.execute_input": "2023-05-15T08:53:01.875654Z",
     "iopub.status.busy": "2023-05-15T08:53:01.875483Z",
     "iopub.status.idle": "2023-05-15T08:53:02.023753Z",
     "shell.execute_reply": "2023-05-15T08:53:02.023290Z"
    },
    "papermill": {
     "duration": 0.15225,
     "end_time": "2023-05-15T08:53:02.025366",
     "exception": false,
     "start_time": "2023-05-15T08:53:01.873116",
     "status": "completed"
    },
    "tags": []
   },
   "outputs": [],
   "source": [
    "dataset = sc.read(f\"../../int_data/{sample_name}_qc.h5ad\")\n",
    "dataset.X = dataset.layers[\"soupX_counts\"]"
   ]
  },
  {
   "cell_type": "code",
   "execution_count": null,
   "id": "f2520f85-0ac2-4e0d-b7f1-e5b9ce4c769d",
   "metadata": {
    "execution": {
     "iopub.execute_input": "2023-05-15T08:53:02.029948Z",
     "iopub.status.busy": "2023-05-15T08:53:02.029774Z",
     "iopub.status.idle": "2023-05-15T08:53:02.035045Z",
     "shell.execute_reply": "2023-05-15T08:53:02.034720Z"
    },
    "papermill": {
     "duration": 0.008365,
     "end_time": "2023-05-15T08:53:02.035869",
     "exception": false,
     "start_time": "2023-05-15T08:53:02.027504",
     "status": "completed"
    },
    "tags": []
   },
   "outputs": [],
   "source": [
    "dataset.obs[[\"AvgSpotLen\", \"Bases\", \"Bytes\", \"version\"]] = dataset.obs[[\"AvgSpotLen\", \"Bases\", \"Bytes\", \"version\"]].astype(\"str\")"
   ]
  },
  {
   "cell_type": "code",
   "execution_count": null,
   "id": "99f95dca-cf68-4a51-8f53-ca088aa3167b",
   "metadata": {
    "execution": {
     "iopub.execute_input": "2023-05-15T08:53:02.039721Z",
     "iopub.status.busy": "2023-05-15T08:53:02.039539Z",
     "iopub.status.idle": "2023-05-15T08:53:06.435681Z",
     "shell.execute_reply": "2023-05-15T08:53:06.435176Z"
    },
    "papermill": {
     "duration": 4.399924,
     "end_time": "2023-05-15T08:53:06.437378",
     "exception": false,
     "start_time": "2023-05-15T08:53:02.037454",
     "status": "completed"
    },
    "tags": []
   },
   "outputs": [],
   "source": [
    "%%R -i dataset\n",
    "\n",
    "sce <- SingleCellExperiment(list(counts=dataset@assays@data[[\"soupX_counts\"]]),\n",
    "    colData=dataset@colData,\n",
    ")\n",
    "\n",
    "row.names(sce) <- row.names(dataset)\n",
    "\n",
    "data <- as.Seurat(sce, data = NULL)"
   ]
  },
  {
   "cell_type": "code",
   "execution_count": null,
   "id": "0b749876-ea5a-403c-8b0b-51afc8a633e3",
   "metadata": {
    "execution": {
     "iopub.execute_input": "2023-05-15T08:53:06.442480Z",
     "iopub.status.busy": "2023-05-15T08:53:06.442289Z",
     "iopub.status.idle": "2023-05-15T08:53:06.463177Z",
     "shell.execute_reply": "2023-05-15T08:53:06.462825Z"
    },
    "papermill": {
     "duration": 0.024086,
     "end_time": "2023-05-15T08:53:06.464028",
     "exception": false,
     "start_time": "2023-05-15T08:53:06.439942",
     "status": "completed"
    },
    "tags": []
   },
   "outputs": [],
   "source": [
    "%%R\n",
    "data"
   ]
  },
  {
   "cell_type": "code",
   "execution_count": null,
   "id": "b6b29b0e-92c4-4d4f-b835-c5e9d7d59455",
   "metadata": {
    "execution": {
     "iopub.execute_input": "2023-05-15T08:53:06.469442Z",
     "iopub.status.busy": "2023-05-15T08:53:06.469301Z",
     "iopub.status.idle": "2023-05-15T08:53:14.311045Z",
     "shell.execute_reply": "2023-05-15T08:53:14.310537Z"
    },
    "papermill": {
     "duration": 7.846262,
     "end_time": "2023-05-15T08:53:14.312775",
     "exception": false,
     "start_time": "2023-05-15T08:53:06.466513",
     "status": "completed"
    },
    "tags": []
   },
   "outputs": [],
   "source": [
    "%%R\n",
    "\n",
    "data <- NormalizeData(data)\n",
    "data <- ScaleData(data, features = row.names(data))\n",
    "data <- FindVariableFeatures(data)\n",
    "data <- RunPCA(data, verbose = F)\n",
    "data <- FindNeighbors(data, verbose = F)\n",
    "data <- FindClusters(data, verbose = F)\n",
    "data <- RunUMAP(data, dims = 1:20, verbose = F)"
   ]
  },
  {
   "cell_type": "code",
   "execution_count": null,
   "id": "40fa5cdd-01d7-4b40-90e6-0c97545b0711",
   "metadata": {
    "execution": {
     "iopub.execute_input": "2023-05-15T08:53:14.321480Z",
     "iopub.status.busy": "2023-05-15T08:53:14.321283Z",
     "iopub.status.idle": "2023-05-15T08:53:34.347292Z",
     "shell.execute_reply": "2023-05-15T08:53:34.346904Z"
    },
    "papermill": {
     "duration": 20.030497,
     "end_time": "2023-05-15T08:53:34.348187",
     "exception": false,
     "start_time": "2023-05-15T08:53:14.317690",
     "status": "completed"
    },
    "tags": []
   },
   "outputs": [],
   "source": [
    "%%R\n",
    "\n",
    "ref1 <- celldex::BlueprintEncodeData()\n",
    "ref2 <- celldex::MonacoImmuneData()\n",
    "cell_classification <- SingleR(test = as.SingleCellExperiment(data),\n",
    "                               ref = list(BPE = ref1, MON = ref2),\n",
    "                               labels = list(ref1$label.main, ref2$label.main))\n",
    "\n",
    "data[[\"SingleR_label\"]] <- cell_classification$labels\n",
    "\n",
    "plotScoreHeatmap(cell_classification)"
   ]
  },
  {
   "cell_type": "code",
   "execution_count": null,
   "id": "6ad7cf2f-891f-4c05-b34d-e47c84bbe27b",
   "metadata": {
    "execution": {
     "iopub.execute_input": "2023-05-15T08:53:34.357655Z",
     "iopub.status.busy": "2023-05-15T08:53:34.357390Z",
     "iopub.status.idle": "2023-05-15T08:53:34.382416Z",
     "shell.execute_reply": "2023-05-15T08:53:34.382085Z"
    },
    "papermill": {
     "duration": 0.02986,
     "end_time": "2023-05-15T08:53:34.383418",
     "exception": false,
     "start_time": "2023-05-15T08:53:34.353558",
     "status": "completed"
    },
    "tags": []
   },
   "outputs": [],
   "source": [
    "%%R -i sample_name\n",
    "\n",
    "write.csv(data@meta.data, paste0(sample_name, \"_metadata.csv\"))"
   ]
  }
 ],
 "metadata": {
  "kernelspec": {
   "display_name": "py_R",
   "language": "python",
   "name": "python_r"
  },
  "language_info": {
   "codemirror_mode": {
    "name": "ipython",
    "version": 3
   },
   "file_extension": ".py",
   "mimetype": "text/x-python",
   "name": "python",
   "nbconvert_exporter": "python",
   "pygments_lexer": "ipython3",
   "version": "3.10.9"
  },
  "papermill": {
   "default_parameters": {},
   "duration": 45.628465,
   "end_time": "2023-05-15T08:53:35.606643",
   "environment_variables": {},
   "exception": null,
   "input_path": "template.ipynb",
   "output_path": "SRR13329158.ipynb",
   "parameters": {
    "sample_name": "SRR13329158"
   },
   "start_time": "2023-05-15T08:52:49.978178",
   "version": "2.3.4"
  }
 },
 "nbformat": 4,
 "nbformat_minor": 5
}
