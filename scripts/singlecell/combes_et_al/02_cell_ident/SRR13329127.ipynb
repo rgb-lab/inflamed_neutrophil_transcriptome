{
 "cells": [
  {
   "cell_type": "code",
   "execution_count": null,
   "id": "78a6243e-1906-4e3b-ae98-4b5bd21bd37c",
   "metadata": {
    "execution": {
     "iopub.execute_input": "2023-05-15T09:50:57.866213Z",
     "iopub.status.busy": "2023-05-15T09:50:57.865940Z",
     "iopub.status.idle": "2023-05-15T09:50:57.871309Z",
     "shell.execute_reply": "2023-05-15T09:50:57.870899Z"
    },
    "papermill": {
     "duration": 0.009263,
     "end_time": "2023-05-15T09:50:57.872222",
     "exception": false,
     "start_time": "2023-05-15T09:50:57.862959",
     "status": "completed"
    },
    "tags": [
     "parameters"
    ]
   },
   "outputs": [],
   "source": [
    "sample_name = \"SRR13329143\""
   ]
  },
  {
   "cell_type": "code",
   "execution_count": null,
   "id": "b74d711c",
   "metadata": {
    "execution": {
     "iopub.execute_input": "2023-05-15T09:50:57.875982Z",
     "iopub.status.busy": "2023-05-15T09:50:57.875750Z",
     "iopub.status.idle": "2023-05-15T09:50:57.877675Z",
     "shell.execute_reply": "2023-05-15T09:50:57.877345Z"
    },
    "papermill": {
     "duration": 0.004668,
     "end_time": "2023-05-15T09:50:57.878484",
     "exception": false,
     "start_time": "2023-05-15T09:50:57.873816",
     "status": "completed"
    },
    "tags": [
     "injected-parameters"
    ]
   },
   "outputs": [],
   "source": [
    "# Parameters\n",
    "sample_name = \"SRR13329127\"\n"
   ]
  },
  {
   "cell_type": "code",
   "execution_count": null,
   "id": "487588d5-40a0-4c35-9cd9-ee9b3e2f1d4e",
   "metadata": {
    "execution": {
     "iopub.execute_input": "2023-05-15T09:50:57.882022Z",
     "iopub.status.busy": "2023-05-15T09:50:57.881869Z",
     "iopub.status.idle": "2023-05-15T09:50:57.884071Z",
     "shell.execute_reply": "2023-05-15T09:50:57.883757Z"
    },
    "papermill": {
     "duration": 0.004938,
     "end_time": "2023-05-15T09:50:57.884879",
     "exception": false,
     "start_time": "2023-05-15T09:50:57.879941",
     "status": "completed"
    },
    "tags": []
   },
   "outputs": [],
   "source": [
    "import warnings\n",
    "warnings.simplefilter(action='ignore', category=FutureWarning)\n",
    "warnings.simplefilter(action='ignore', category=UserWarning)"
   ]
  },
  {
   "cell_type": "code",
   "execution_count": null,
   "id": "5bba6a57-54cf-4720-8653-bf94afa536ad",
   "metadata": {
    "execution": {
     "iopub.execute_input": "2023-05-15T09:50:57.888556Z",
     "iopub.status.busy": "2023-05-15T09:50:57.888362Z",
     "iopub.status.idle": "2023-05-15T09:51:03.265124Z",
     "shell.execute_reply": "2023-05-15T09:51:03.264577Z"
    },
    "papermill": {
     "duration": 5.380092,
     "end_time": "2023-05-15T09:51:03.266547",
     "exception": false,
     "start_time": "2023-05-15T09:50:57.886455",
     "status": "completed"
    },
    "tags": []
   },
   "outputs": [],
   "source": [
    "import gc\n",
    "import scanpy as sc\n",
    "import muon as mu\n",
    "import seaborn as sns\n",
    "import os\n",
    "import pandas as pd\n",
    "from matplotlib import pyplot as plt\n",
    "\n",
    "os.environ['R_HOME'] = '/gpfs/bwfor/work/ws/hd_fu399-conda/conda/envs/python_R/lib/R/'\n",
    "import anndata2ri\n",
    "import logging\n",
    "\n",
    "import rpy2.rinterface_lib.callbacks as rcb\n",
    "import rpy2.robjects as ro\n",
    "\n",
    "rcb.logger.setLevel(logging.ERROR)\n",
    "ro.pandas2ri.activate()\n",
    "anndata2ri.activate()\n",
    "\n",
    "%load_ext rpy2.ipython"
   ]
  },
  {
   "cell_type": "code",
   "execution_count": null,
   "id": "0897f8ed-b086-4ddc-a32e-6ae638ff6d14",
   "metadata": {
    "execution": {
     "iopub.execute_input": "2023-05-15T09:51:03.273961Z",
     "iopub.status.busy": "2023-05-15T09:51:03.273438Z",
     "iopub.status.idle": "2023-05-15T09:51:12.477892Z",
     "shell.execute_reply": "2023-05-15T09:51:12.477182Z"
    },
    "papermill": {
     "duration": 9.208558,
     "end_time": "2023-05-15T09:51:12.479337",
     "exception": false,
     "start_time": "2023-05-15T09:51:03.270779",
     "status": "completed"
    },
    "tags": []
   },
   "outputs": [],
   "source": [
    "%%R\n",
    "\n",
    "suppressMessages(library(SeuratDisk))\n",
    "suppressMessages(library(SingleR))\n",
    "suppressMessages(library(Seurat))\n",
    "suppressMessages(library(SingleCellExperiment))\n",
    "suppressMessages(library(UCell))"
   ]
  },
  {
   "cell_type": "code",
   "execution_count": null,
   "id": "74c6b1b1-5af7-4955-a6cc-4532fc42a266",
   "metadata": {
    "execution": {
     "iopub.execute_input": "2023-05-15T09:51:12.485888Z",
     "iopub.status.busy": "2023-05-15T09:51:12.485699Z",
     "iopub.status.idle": "2023-05-15T09:51:12.907795Z",
     "shell.execute_reply": "2023-05-15T09:51:12.907306Z"
    },
    "papermill": {
     "duration": 0.426165,
     "end_time": "2023-05-15T09:51:12.909177",
     "exception": false,
     "start_time": "2023-05-15T09:51:12.483012",
     "status": "completed"
    },
    "tags": []
   },
   "outputs": [],
   "source": [
    "dataset = sc.read(f\"../../int_data/{sample_name}_qc.h5ad\")\n",
    "dataset.X = dataset.layers[\"soupX_counts\"]"
   ]
  },
  {
   "cell_type": "code",
   "execution_count": null,
   "id": "f2520f85-0ac2-4e0d-b7f1-e5b9ce4c769d",
   "metadata": {
    "execution": {
     "iopub.execute_input": "2023-05-15T09:51:12.913753Z",
     "iopub.status.busy": "2023-05-15T09:51:12.913598Z",
     "iopub.status.idle": "2023-05-15T09:51:12.921051Z",
     "shell.execute_reply": "2023-05-15T09:51:12.920694Z"
    },
    "papermill": {
     "duration": 0.010552,
     "end_time": "2023-05-15T09:51:12.921892",
     "exception": false,
     "start_time": "2023-05-15T09:51:12.911340",
     "status": "completed"
    },
    "tags": []
   },
   "outputs": [],
   "source": [
    "dataset.obs[[\"AvgSpotLen\", \"Bases\", \"Bytes\", \"version\"]] = dataset.obs[[\"AvgSpotLen\", \"Bases\", \"Bytes\", \"version\"]].astype(\"str\")"
   ]
  },
  {
   "cell_type": "code",
   "execution_count": null,
   "id": "99f95dca-cf68-4a51-8f53-ca088aa3167b",
   "metadata": {
    "execution": {
     "iopub.execute_input": "2023-05-15T09:51:12.925902Z",
     "iopub.status.busy": "2023-05-15T09:51:12.925615Z",
     "iopub.status.idle": "2023-05-15T09:51:20.591152Z",
     "shell.execute_reply": "2023-05-15T09:51:20.590535Z"
    },
    "papermill": {
     "duration": 7.669196,
     "end_time": "2023-05-15T09:51:20.592724",
     "exception": false,
     "start_time": "2023-05-15T09:51:12.923528",
     "status": "completed"
    },
    "tags": []
   },
   "outputs": [],
   "source": [
    "%%R -i dataset\n",
    "\n",
    "sce <- SingleCellExperiment(list(counts=dataset@assays@data[[\"soupX_counts\"]]),\n",
    "    colData=dataset@colData,\n",
    ")\n",
    "\n",
    "row.names(sce) <- row.names(dataset)\n",
    "\n",
    "data <- as.Seurat(sce, data = NULL)"
   ]
  },
  {
   "cell_type": "code",
   "execution_count": null,
   "id": "0b749876-ea5a-403c-8b0b-51afc8a633e3",
   "metadata": {
    "execution": {
     "iopub.execute_input": "2023-05-15T09:51:20.599635Z",
     "iopub.status.busy": "2023-05-15T09:51:20.599447Z",
     "iopub.status.idle": "2023-05-15T09:51:20.620812Z",
     "shell.execute_reply": "2023-05-15T09:51:20.620462Z"
    },
    "papermill": {
     "duration": 0.024583,
     "end_time": "2023-05-15T09:51:20.621568",
     "exception": false,
     "start_time": "2023-05-15T09:51:20.596985",
     "status": "completed"
    },
    "tags": []
   },
   "outputs": [],
   "source": [
    "%%R\n",
    "data"
   ]
  },
  {
   "cell_type": "code",
   "execution_count": null,
   "id": "b6b29b0e-92c4-4d4f-b835-c5e9d7d59455",
   "metadata": {
    "execution": {
     "iopub.execute_input": "2023-05-15T09:51:20.627243Z",
     "iopub.status.busy": "2023-05-15T09:51:20.626927Z",
     "iopub.status.idle": "2023-05-15T09:51:33.300454Z",
     "shell.execute_reply": "2023-05-15T09:51:33.299826Z"
    },
    "papermill": {
     "duration": 12.67772,
     "end_time": "2023-05-15T09:51:33.301767",
     "exception": false,
     "start_time": "2023-05-15T09:51:20.624047",
     "status": "completed"
    },
    "tags": []
   },
   "outputs": [],
   "source": [
    "%%R\n",
    "\n",
    "data <- NormalizeData(data)\n",
    "data <- ScaleData(data, features = row.names(data))\n",
    "data <- FindVariableFeatures(data)\n",
    "data <- RunPCA(data, verbose = F)\n",
    "data <- FindNeighbors(data, verbose = F)\n",
    "data <- FindClusters(data, verbose = F)\n",
    "data <- RunUMAP(data, dims = 1:20, verbose = F)"
   ]
  },
  {
   "cell_type": "code",
   "execution_count": null,
   "id": "40fa5cdd-01d7-4b40-90e6-0c97545b0711",
   "metadata": {
    "execution": {
     "iopub.execute_input": "2023-05-15T09:51:33.311133Z",
     "iopub.status.busy": "2023-05-15T09:51:33.310962Z",
     "iopub.status.idle": "2023-05-15T09:51:59.873555Z",
     "shell.execute_reply": "2023-05-15T09:51:59.873118Z"
    },
    "papermill": {
     "duration": 26.566687,
     "end_time": "2023-05-15T09:51:59.874454",
     "exception": false,
     "start_time": "2023-05-15T09:51:33.307767",
     "status": "completed"
    },
    "tags": []
   },
   "outputs": [],
   "source": [
    "%%R\n",
    "\n",
    "ref1 <- celldex::BlueprintEncodeData()\n",
    "ref2 <- celldex::MonacoImmuneData()\n",
    "cell_classification <- SingleR(test = as.SingleCellExperiment(data),\n",
    "                               ref = list(BPE = ref1, MON = ref2),\n",
    "                               labels = list(ref1$label.main, ref2$label.main))\n",
    "\n",
    "data[[\"SingleR_label\"]] <- cell_classification$labels\n",
    "\n",
    "plotScoreHeatmap(cell_classification)"
   ]
  },
  {
   "cell_type": "code",
   "execution_count": null,
   "id": "6ad7cf2f-891f-4c05-b34d-e47c84bbe27b",
   "metadata": {
    "execution": {
     "iopub.execute_input": "2023-05-15T09:51:59.884244Z",
     "iopub.status.busy": "2023-05-15T09:51:59.883906Z",
     "iopub.status.idle": "2023-05-15T09:52:00.271591Z",
     "shell.execute_reply": "2023-05-15T09:52:00.271163Z"
    },
    "papermill": {
     "duration": 0.392789,
     "end_time": "2023-05-15T09:52:00.272626",
     "exception": false,
     "start_time": "2023-05-15T09:51:59.879837",
     "status": "completed"
    },
    "tags": []
   },
   "outputs": [],
   "source": [
    "%%R -i sample_name\n",
    "\n",
    "write.csv(data@meta.data, paste0(sample_name, \"_metadata.csv\"))"
   ]
  }
 ],
 "metadata": {
  "kernelspec": {
   "display_name": "py_R",
   "language": "python",
   "name": "python_r"
  },
  "language_info": {
   "codemirror_mode": {
    "name": "ipython",
    "version": 3
   },
   "file_extension": ".py",
   "mimetype": "text/x-python",
   "name": "python",
   "nbconvert_exporter": "python",
   "pygments_lexer": "ipython3",
   "version": "3.10.9"
  },
  "papermill": {
   "default_parameters": {},
   "duration": 65.104041,
   "end_time": "2023-05-15T09:52:01.594197",
   "environment_variables": {},
   "exception": null,
   "input_path": "template.ipynb",
   "output_path": "SRR13329127.ipynb",
   "parameters": {
    "sample_name": "SRR13329127"
   },
   "start_time": "2023-05-15T09:50:56.490156",
   "version": "2.3.4"
  }
 },
 "nbformat": 4,
 "nbformat_minor": 5
}
