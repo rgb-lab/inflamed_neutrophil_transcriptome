{
 "cells": [
  {
   "cell_type": "code",
   "execution_count": null,
   "id": "78a6243e-1906-4e3b-ae98-4b5bd21bd37c",
   "metadata": {
    "execution": {
     "iopub.execute_input": "2023-05-15T08:56:06.697355Z",
     "iopub.status.busy": "2023-05-15T08:56:06.697182Z",
     "iopub.status.idle": "2023-05-15T08:56:06.701497Z",
     "shell.execute_reply": "2023-05-15T08:56:06.701191Z"
    },
    "papermill": {
     "duration": 0.008167,
     "end_time": "2023-05-15T08:56:06.702307",
     "exception": false,
     "start_time": "2023-05-15T08:56:06.694140",
     "status": "completed"
    },
    "tags": [
     "parameters"
    ]
   },
   "outputs": [],
   "source": [
    "sample_name = \"SRR13329143\""
   ]
  },
  {
   "cell_type": "code",
   "execution_count": null,
   "id": "d817c925",
   "metadata": {
    "execution": {
     "iopub.execute_input": "2023-05-15T08:56:06.705865Z",
     "iopub.status.busy": "2023-05-15T08:56:06.705645Z",
     "iopub.status.idle": "2023-05-15T08:56:06.707520Z",
     "shell.execute_reply": "2023-05-15T08:56:06.707230Z"
    },
    "papermill": {
     "duration": 0.004446,
     "end_time": "2023-05-15T08:56:06.708293",
     "exception": false,
     "start_time": "2023-05-15T08:56:06.703847",
     "status": "completed"
    },
    "tags": [
     "injected-parameters"
    ]
   },
   "outputs": [],
   "source": [
    "# Parameters\n",
    "sample_name = \"SRR13329155\"\n"
   ]
  },
  {
   "cell_type": "code",
   "execution_count": null,
   "id": "487588d5-40a0-4c35-9cd9-ee9b3e2f1d4e",
   "metadata": {
    "execution": {
     "iopub.execute_input": "2023-05-15T08:56:06.711744Z",
     "iopub.status.busy": "2023-05-15T08:56:06.711517Z",
     "iopub.status.idle": "2023-05-15T08:56:06.714037Z",
     "shell.execute_reply": "2023-05-15T08:56:06.713728Z"
    },
    "papermill": {
     "duration": 0.005103,
     "end_time": "2023-05-15T08:56:06.714815",
     "exception": false,
     "start_time": "2023-05-15T08:56:06.709712",
     "status": "completed"
    },
    "tags": []
   },
   "outputs": [],
   "source": [
    "import warnings\n",
    "warnings.simplefilter(action='ignore', category=FutureWarning)\n",
    "warnings.simplefilter(action='ignore', category=UserWarning)"
   ]
  },
  {
   "cell_type": "code",
   "execution_count": null,
   "id": "5bba6a57-54cf-4720-8653-bf94afa536ad",
   "metadata": {
    "execution": {
     "iopub.execute_input": "2023-05-15T08:56:06.718351Z",
     "iopub.status.busy": "2023-05-15T08:56:06.718130Z",
     "iopub.status.idle": "2023-05-15T08:56:10.791859Z",
     "shell.execute_reply": "2023-05-15T08:56:10.791354Z"
    },
    "papermill": {
     "duration": 4.077066,
     "end_time": "2023-05-15T08:56:10.793317",
     "exception": false,
     "start_time": "2023-05-15T08:56:06.716251",
     "status": "completed"
    },
    "tags": []
   },
   "outputs": [],
   "source": [
    "import gc\n",
    "import scanpy as sc\n",
    "import muon as mu\n",
    "import seaborn as sns\n",
    "import os\n",
    "import pandas as pd\n",
    "from matplotlib import pyplot as plt\n",
    "\n",
    "os.environ['R_HOME'] = '/gpfs/bwfor/work/ws/hd_fu399-conda/conda/envs/python_R/lib/R/'\n",
    "import anndata2ri\n",
    "import logging\n",
    "\n",
    "import rpy2.rinterface_lib.callbacks as rcb\n",
    "import rpy2.robjects as ro\n",
    "\n",
    "rcb.logger.setLevel(logging.ERROR)\n",
    "ro.pandas2ri.activate()\n",
    "anndata2ri.activate()\n",
    "\n",
    "%load_ext rpy2.ipython"
   ]
  },
  {
   "cell_type": "code",
   "execution_count": null,
   "id": "0897f8ed-b086-4ddc-a32e-6ae638ff6d14",
   "metadata": {
    "execution": {
     "iopub.execute_input": "2023-05-15T08:56:10.825935Z",
     "iopub.status.busy": "2023-05-15T08:56:10.825631Z",
     "iopub.status.idle": "2023-05-15T08:56:17.880205Z",
     "shell.execute_reply": "2023-05-15T08:56:17.879631Z"
    },
    "papermill": {
     "duration": 7.085467,
     "end_time": "2023-05-15T08:56:17.881725",
     "exception": false,
     "start_time": "2023-05-15T08:56:10.796258",
     "status": "completed"
    },
    "tags": []
   },
   "outputs": [],
   "source": [
    "%%R\n",
    "\n",
    "suppressMessages(library(SeuratDisk))\n",
    "suppressMessages(library(SingleR))\n",
    "suppressMessages(library(Seurat))\n",
    "suppressMessages(library(SingleCellExperiment))\n",
    "suppressMessages(library(UCell))"
   ]
  },
  {
   "cell_type": "code",
   "execution_count": null,
   "id": "74c6b1b1-5af7-4955-a6cc-4532fc42a266",
   "metadata": {
    "execution": {
     "iopub.execute_input": "2023-05-15T08:56:17.887429Z",
     "iopub.status.busy": "2023-05-15T08:56:17.887266Z",
     "iopub.status.idle": "2023-05-15T08:56:18.127707Z",
     "shell.execute_reply": "2023-05-15T08:56:18.127259Z"
    },
    "papermill": {
     "duration": 0.244146,
     "end_time": "2023-05-15T08:56:18.129153",
     "exception": false,
     "start_time": "2023-05-15T08:56:17.885007",
     "status": "completed"
    },
    "tags": []
   },
   "outputs": [],
   "source": [
    "dataset = sc.read(f\"../../int_data/{sample_name}_qc.h5ad\")\n",
    "dataset.X = dataset.layers[\"soupX_counts\"]"
   ]
  },
  {
   "cell_type": "code",
   "execution_count": null,
   "id": "f2520f85-0ac2-4e0d-b7f1-e5b9ce4c769d",
   "metadata": {
    "execution": {
     "iopub.execute_input": "2023-05-15T08:56:18.133373Z",
     "iopub.status.busy": "2023-05-15T08:56:18.133159Z",
     "iopub.status.idle": "2023-05-15T08:56:18.139009Z",
     "shell.execute_reply": "2023-05-15T08:56:18.138686Z"
    },
    "papermill": {
     "duration": 0.008838,
     "end_time": "2023-05-15T08:56:18.139795",
     "exception": false,
     "start_time": "2023-05-15T08:56:18.130957",
     "status": "completed"
    },
    "tags": []
   },
   "outputs": [],
   "source": [
    "dataset.obs[[\"AvgSpotLen\", \"Bases\", \"Bytes\", \"version\"]] = dataset.obs[[\"AvgSpotLen\", \"Bases\", \"Bytes\", \"version\"]].astype(\"str\")"
   ]
  },
  {
   "cell_type": "code",
   "execution_count": null,
   "id": "99f95dca-cf68-4a51-8f53-ca088aa3167b",
   "metadata": {
    "execution": {
     "iopub.execute_input": "2023-05-15T08:56:18.143752Z",
     "iopub.status.busy": "2023-05-15T08:56:18.143461Z",
     "iopub.status.idle": "2023-05-15T08:56:23.262781Z",
     "shell.execute_reply": "2023-05-15T08:56:23.262305Z"
    },
    "papermill": {
     "duration": 5.122983,
     "end_time": "2023-05-15T08:56:23.264380",
     "exception": false,
     "start_time": "2023-05-15T08:56:18.141397",
     "status": "completed"
    },
    "tags": []
   },
   "outputs": [],
   "source": [
    "%%R -i dataset\n",
    "\n",
    "sce <- SingleCellExperiment(list(counts=dataset@assays@data[[\"soupX_counts\"]]),\n",
    "    colData=dataset@colData,\n",
    ")\n",
    "\n",
    "row.names(sce) <- row.names(dataset)\n",
    "\n",
    "data <- as.Seurat(sce, data = NULL)"
   ]
  },
  {
   "cell_type": "code",
   "execution_count": null,
   "id": "0b749876-ea5a-403c-8b0b-51afc8a633e3",
   "metadata": {
    "execution": {
     "iopub.execute_input": "2023-05-15T08:56:23.269182Z",
     "iopub.status.busy": "2023-05-15T08:56:23.269042Z",
     "iopub.status.idle": "2023-05-15T08:56:23.290131Z",
     "shell.execute_reply": "2023-05-15T08:56:23.289803Z"
    },
    "papermill": {
     "duration": 0.024071,
     "end_time": "2023-05-15T08:56:23.290867",
     "exception": false,
     "start_time": "2023-05-15T08:56:23.266796",
     "status": "completed"
    },
    "tags": []
   },
   "outputs": [],
   "source": [
    "%%R\n",
    "data"
   ]
  },
  {
   "cell_type": "code",
   "execution_count": null,
   "id": "b6b29b0e-92c4-4d4f-b835-c5e9d7d59455",
   "metadata": {
    "execution": {
     "iopub.execute_input": "2023-05-15T08:56:23.296127Z",
     "iopub.status.busy": "2023-05-15T08:56:23.295987Z",
     "iopub.status.idle": "2023-05-15T08:56:31.879753Z",
     "shell.execute_reply": "2023-05-15T08:56:31.879330Z"
    },
    "papermill": {
     "duration": 8.588303,
     "end_time": "2023-05-15T08:56:31.881529",
     "exception": false,
     "start_time": "2023-05-15T08:56:23.293226",
     "status": "completed"
    },
    "tags": []
   },
   "outputs": [],
   "source": [
    "%%R\n",
    "\n",
    "data <- NormalizeData(data)\n",
    "data <- ScaleData(data, features = row.names(data))\n",
    "data <- FindVariableFeatures(data)\n",
    "data <- RunPCA(data, verbose = F)\n",
    "data <- FindNeighbors(data, verbose = F)\n",
    "data <- FindClusters(data, verbose = F)\n",
    "data <- RunUMAP(data, dims = 1:20, verbose = F)"
   ]
  },
  {
   "cell_type": "code",
   "execution_count": null,
   "id": "40fa5cdd-01d7-4b40-90e6-0c97545b0711",
   "metadata": {
    "execution": {
     "iopub.execute_input": "2023-05-15T08:56:31.889940Z",
     "iopub.status.busy": "2023-05-15T08:56:31.889798Z",
     "iopub.status.idle": "2023-05-15T08:56:52.795202Z",
     "shell.execute_reply": "2023-05-15T08:56:52.794822Z"
    },
    "papermill": {
     "duration": 20.91007,
     "end_time": "2023-05-15T08:56:52.796237",
     "exception": false,
     "start_time": "2023-05-15T08:56:31.886167",
     "status": "completed"
    },
    "tags": []
   },
   "outputs": [],
   "source": [
    "%%R\n",
    "\n",
    "ref1 <- celldex::BlueprintEncodeData()\n",
    "ref2 <- celldex::MonacoImmuneData()\n",
    "cell_classification <- SingleR(test = as.SingleCellExperiment(data),\n",
    "                               ref = list(BPE = ref1, MON = ref2),\n",
    "                               labels = list(ref1$label.main, ref2$label.main))\n",
    "\n",
    "data[[\"SingleR_label\"]] <- cell_classification$labels\n",
    "\n",
    "plotScoreHeatmap(cell_classification)"
   ]
  },
  {
   "cell_type": "code",
   "execution_count": null,
   "id": "6ad7cf2f-891f-4c05-b34d-e47c84bbe27b",
   "metadata": {
    "execution": {
     "iopub.execute_input": "2023-05-15T08:56:52.806029Z",
     "iopub.status.busy": "2023-05-15T08:56:52.805879Z",
     "iopub.status.idle": "2023-05-15T08:56:52.836734Z",
     "shell.execute_reply": "2023-05-15T08:56:52.836318Z"
    },
    "papermill": {
     "duration": 0.036057,
     "end_time": "2023-05-15T08:56:52.838039",
     "exception": false,
     "start_time": "2023-05-15T08:56:52.801982",
     "status": "completed"
    },
    "tags": []
   },
   "outputs": [],
   "source": [
    "%%R -i sample_name\n",
    "\n",
    "write.csv(data@meta.data, paste0(sample_name, \"_metadata.csv\"))"
   ]
  }
 ],
 "metadata": {
  "kernelspec": {
   "display_name": "py_R",
   "language": "python",
   "name": "python_r"
  },
  "language_info": {
   "codemirror_mode": {
    "name": "ipython",
    "version": 3
   },
   "file_extension": ".py",
   "mimetype": "text/x-python",
   "name": "python",
   "nbconvert_exporter": "python",
   "pygments_lexer": "ipython3",
   "version": "3.10.9"
  },
  "papermill": {
   "default_parameters": {},
   "duration": 47.9867,
   "end_time": "2023-05-15T08:56:54.057762",
   "environment_variables": {},
   "exception": null,
   "input_path": "template.ipynb",
   "output_path": "SRR13329155.ipynb",
   "parameters": {
    "sample_name": "SRR13329155"
   },
   "start_time": "2023-05-15T08:56:06.071062",
   "version": "2.3.4"
  }
 },
 "nbformat": 4,
 "nbformat_minor": 5
}
