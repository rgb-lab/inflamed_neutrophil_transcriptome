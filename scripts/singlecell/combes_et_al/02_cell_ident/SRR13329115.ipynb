{
 "cells": [
  {
   "cell_type": "code",
   "execution_count": null,
   "id": "78a6243e-1906-4e3b-ae98-4b5bd21bd37c",
   "metadata": {
    "execution": {
     "iopub.execute_input": "2023-05-15T09:25:11.964814Z",
     "iopub.status.busy": "2023-05-15T09:25:11.964649Z",
     "iopub.status.idle": "2023-05-15T09:25:11.969292Z",
     "shell.execute_reply": "2023-05-15T09:25:11.968979Z"
    },
    "papermill": {
     "duration": 0.008941,
     "end_time": "2023-05-15T09:25:11.970153",
     "exception": false,
     "start_time": "2023-05-15T09:25:11.961212",
     "status": "completed"
    },
    "tags": [
     "parameters"
    ]
   },
   "outputs": [],
   "source": [
    "sample_name = \"SRR13329143\""
   ]
  },
  {
   "cell_type": "code",
   "execution_count": null,
   "id": "c6655cc5",
   "metadata": {
    "execution": {
     "iopub.execute_input": "2023-05-15T09:25:11.974217Z",
     "iopub.status.busy": "2023-05-15T09:25:11.974001Z",
     "iopub.status.idle": "2023-05-15T09:25:11.975847Z",
     "shell.execute_reply": "2023-05-15T09:25:11.975552Z"
    },
    "papermill": {
     "duration": 0.004365,
     "end_time": "2023-05-15T09:25:11.976597",
     "exception": false,
     "start_time": "2023-05-15T09:25:11.972232",
     "status": "completed"
    },
    "tags": [
     "injected-parameters"
    ]
   },
   "outputs": [],
   "source": [
    "# Parameters\n",
    "sample_name = \"SRR13329115\"\n"
   ]
  },
  {
   "cell_type": "code",
   "execution_count": null,
   "id": "487588d5-40a0-4c35-9cd9-ee9b3e2f1d4e",
   "metadata": {
    "execution": {
     "iopub.execute_input": "2023-05-15T09:25:11.979914Z",
     "iopub.status.busy": "2023-05-15T09:25:11.979670Z",
     "iopub.status.idle": "2023-05-15T09:25:11.982706Z",
     "shell.execute_reply": "2023-05-15T09:25:11.982390Z"
    },
    "papermill": {
     "duration": 0.005541,
     "end_time": "2023-05-15T09:25:11.983470",
     "exception": false,
     "start_time": "2023-05-15T09:25:11.977929",
     "status": "completed"
    },
    "tags": []
   },
   "outputs": [],
   "source": [
    "import warnings\n",
    "warnings.simplefilter(action='ignore', category=FutureWarning)\n",
    "warnings.simplefilter(action='ignore', category=UserWarning)"
   ]
  },
  {
   "cell_type": "code",
   "execution_count": null,
   "id": "5bba6a57-54cf-4720-8653-bf94afa536ad",
   "metadata": {
    "execution": {
     "iopub.execute_input": "2023-05-15T09:25:11.986826Z",
     "iopub.status.busy": "2023-05-15T09:25:11.986622Z",
     "iopub.status.idle": "2023-05-15T09:25:17.032689Z",
     "shell.execute_reply": "2023-05-15T09:25:17.032231Z"
    },
    "papermill": {
     "duration": 5.049173,
     "end_time": "2023-05-15T09:25:17.033997",
     "exception": false,
     "start_time": "2023-05-15T09:25:11.984824",
     "status": "completed"
    },
    "tags": []
   },
   "outputs": [],
   "source": [
    "import gc\n",
    "import scanpy as sc\n",
    "import muon as mu\n",
    "import seaborn as sns\n",
    "import os\n",
    "import pandas as pd\n",
    "from matplotlib import pyplot as plt\n",
    "\n",
    "os.environ['R_HOME'] = '/gpfs/bwfor/work/ws/hd_fu399-conda/conda/envs/python_R/lib/R/'\n",
    "import anndata2ri\n",
    "import logging\n",
    "\n",
    "import rpy2.rinterface_lib.callbacks as rcb\n",
    "import rpy2.robjects as ro\n",
    "\n",
    "rcb.logger.setLevel(logging.ERROR)\n",
    "ro.pandas2ri.activate()\n",
    "anndata2ri.activate()\n",
    "\n",
    "%load_ext rpy2.ipython"
   ]
  },
  {
   "cell_type": "code",
   "execution_count": null,
   "id": "0897f8ed-b086-4ddc-a32e-6ae638ff6d14",
   "metadata": {
    "execution": {
     "iopub.execute_input": "2023-05-15T09:25:17.040175Z",
     "iopub.status.busy": "2023-05-15T09:25:17.039890Z",
     "iopub.status.idle": "2023-05-15T09:25:25.869397Z",
     "shell.execute_reply": "2023-05-15T09:25:25.868906Z"
    },
    "papermill": {
     "duration": 8.833099,
     "end_time": "2023-05-15T09:25:25.870943",
     "exception": false,
     "start_time": "2023-05-15T09:25:17.037844",
     "status": "completed"
    },
    "tags": []
   },
   "outputs": [],
   "source": [
    "%%R\n",
    "\n",
    "suppressMessages(library(SeuratDisk))\n",
    "suppressMessages(library(SingleR))\n",
    "suppressMessages(library(Seurat))\n",
    "suppressMessages(library(SingleCellExperiment))\n",
    "suppressMessages(library(UCell))"
   ]
  },
  {
   "cell_type": "code",
   "execution_count": null,
   "id": "74c6b1b1-5af7-4955-a6cc-4532fc42a266",
   "metadata": {
    "execution": {
     "iopub.execute_input": "2023-05-15T09:25:25.877336Z",
     "iopub.status.busy": "2023-05-15T09:25:25.877156Z",
     "iopub.status.idle": "2023-05-15T09:25:26.030419Z",
     "shell.execute_reply": "2023-05-15T09:25:26.029930Z"
    },
    "papermill": {
     "duration": 0.156833,
     "end_time": "2023-05-15T09:25:26.031859",
     "exception": false,
     "start_time": "2023-05-15T09:25:25.875026",
     "status": "completed"
    },
    "tags": []
   },
   "outputs": [],
   "source": [
    "dataset = sc.read(f\"../../int_data/{sample_name}_qc.h5ad\")\n",
    "dataset.X = dataset.layers[\"soupX_counts\"]"
   ]
  },
  {
   "cell_type": "code",
   "execution_count": null,
   "id": "f2520f85-0ac2-4e0d-b7f1-e5b9ce4c769d",
   "metadata": {
    "execution": {
     "iopub.execute_input": "2023-05-15T09:25:26.036301Z",
     "iopub.status.busy": "2023-05-15T09:25:26.036151Z",
     "iopub.status.idle": "2023-05-15T09:25:26.041621Z",
     "shell.execute_reply": "2023-05-15T09:25:26.041302Z"
    },
    "papermill": {
     "duration": 0.008343,
     "end_time": "2023-05-15T09:25:26.042398",
     "exception": false,
     "start_time": "2023-05-15T09:25:26.034055",
     "status": "completed"
    },
    "tags": []
   },
   "outputs": [],
   "source": [
    "dataset.obs[[\"AvgSpotLen\", \"Bases\", \"Bytes\", \"version\"]] = dataset.obs[[\"AvgSpotLen\", \"Bases\", \"Bytes\", \"version\"]].astype(\"str\")"
   ]
  },
  {
   "cell_type": "code",
   "execution_count": null,
   "id": "99f95dca-cf68-4a51-8f53-ca088aa3167b",
   "metadata": {
    "execution": {
     "iopub.execute_input": "2023-05-15T09:25:26.046134Z",
     "iopub.status.busy": "2023-05-15T09:25:26.045888Z",
     "iopub.status.idle": "2023-05-15T09:25:30.392529Z",
     "shell.execute_reply": "2023-05-15T09:25:30.391945Z"
    },
    "papermill": {
     "duration": 4.350026,
     "end_time": "2023-05-15T09:25:30.393958",
     "exception": false,
     "start_time": "2023-05-15T09:25:26.043932",
     "status": "completed"
    },
    "tags": []
   },
   "outputs": [],
   "source": [
    "%%R -i dataset\n",
    "\n",
    "sce <- SingleCellExperiment(list(counts=dataset@assays@data[[\"soupX_counts\"]]),\n",
    "    colData=dataset@colData,\n",
    ")\n",
    "\n",
    "row.names(sce) <- row.names(dataset)\n",
    "\n",
    "data <- as.Seurat(sce, data = NULL)"
   ]
  },
  {
   "cell_type": "code",
   "execution_count": null,
   "id": "0b749876-ea5a-403c-8b0b-51afc8a633e3",
   "metadata": {
    "execution": {
     "iopub.execute_input": "2023-05-15T09:25:30.400218Z",
     "iopub.status.busy": "2023-05-15T09:25:30.399995Z",
     "iopub.status.idle": "2023-05-15T09:25:30.419714Z",
     "shell.execute_reply": "2023-05-15T09:25:30.419381Z"
    },
    "papermill": {
     "duration": 0.02277,
     "end_time": "2023-05-15T09:25:30.420494",
     "exception": false,
     "start_time": "2023-05-15T09:25:30.397724",
     "status": "completed"
    },
    "tags": []
   },
   "outputs": [],
   "source": [
    "%%R\n",
    "data"
   ]
  },
  {
   "cell_type": "code",
   "execution_count": null,
   "id": "b6b29b0e-92c4-4d4f-b835-c5e9d7d59455",
   "metadata": {
    "execution": {
     "iopub.execute_input": "2023-05-15T09:25:30.425597Z",
     "iopub.status.busy": "2023-05-15T09:25:30.425443Z",
     "iopub.status.idle": "2023-05-15T09:25:38.775137Z",
     "shell.execute_reply": "2023-05-15T09:25:38.774627Z"
    },
    "papermill": {
     "duration": 8.353901,
     "end_time": "2023-05-15T09:25:38.776662",
     "exception": false,
     "start_time": "2023-05-15T09:25:30.422761",
     "status": "completed"
    },
    "tags": []
   },
   "outputs": [],
   "source": [
    "%%R\n",
    "\n",
    "data <- NormalizeData(data)\n",
    "data <- ScaleData(data, features = row.names(data))\n",
    "data <- FindVariableFeatures(data)\n",
    "data <- RunPCA(data, verbose = F)\n",
    "data <- FindNeighbors(data, verbose = F)\n",
    "data <- FindClusters(data, verbose = F)\n",
    "data <- RunUMAP(data, dims = 1:20, verbose = F)"
   ]
  },
  {
   "cell_type": "code",
   "execution_count": null,
   "id": "40fa5cdd-01d7-4b40-90e6-0c97545b0711",
   "metadata": {
    "execution": {
     "iopub.execute_input": "2023-05-15T09:25:38.784539Z",
     "iopub.status.busy": "2023-05-15T09:25:38.784360Z",
     "iopub.status.idle": "2023-05-15T09:25:55.023060Z",
     "shell.execute_reply": "2023-05-15T09:25:55.022665Z"
    },
    "papermill": {
     "duration": 16.242696,
     "end_time": "2023-05-15T09:25:55.024045",
     "exception": false,
     "start_time": "2023-05-15T09:25:38.781349",
     "status": "completed"
    },
    "tags": []
   },
   "outputs": [],
   "source": [
    "%%R\n",
    "\n",
    "ref1 <- celldex::BlueprintEncodeData()\n",
    "ref2 <- celldex::MonacoImmuneData()\n",
    "cell_classification <- SingleR(test = as.SingleCellExperiment(data),\n",
    "                               ref = list(BPE = ref1, MON = ref2),\n",
    "                               labels = list(ref1$label.main, ref2$label.main))\n",
    "\n",
    "data[[\"SingleR_label\"]] <- cell_classification$labels\n",
    "\n",
    "plotScoreHeatmap(cell_classification)"
   ]
  },
  {
   "cell_type": "code",
   "execution_count": null,
   "id": "6ad7cf2f-891f-4c05-b34d-e47c84bbe27b",
   "metadata": {
    "execution": {
     "iopub.execute_input": "2023-05-15T09:25:55.032597Z",
     "iopub.status.busy": "2023-05-15T09:25:55.032447Z",
     "iopub.status.idle": "2023-05-15T09:25:55.398767Z",
     "shell.execute_reply": "2023-05-15T09:25:55.398352Z"
    },
    "papermill": {
     "duration": 0.371158,
     "end_time": "2023-05-15T09:25:55.399932",
     "exception": false,
     "start_time": "2023-05-15T09:25:55.028774",
     "status": "completed"
    },
    "tags": []
   },
   "outputs": [],
   "source": [
    "%%R -i sample_name\n",
    "\n",
    "write.csv(data@meta.data, paste0(sample_name, \"_metadata.csv\"))"
   ]
  }
 ],
 "metadata": {
  "kernelspec": {
   "display_name": "py_R",
   "language": "python",
   "name": "python_r"
  },
  "language_info": {
   "codemirror_mode": {
    "name": "ipython",
    "version": 3
   },
   "file_extension": ".py",
   "mimetype": "text/x-python",
   "name": "python",
   "nbconvert_exporter": "python",
   "pygments_lexer": "ipython3",
   "version": "3.10.9"
  },
  "papermill": {
   "default_parameters": {},
   "duration": 46.025893,
   "end_time": "2023-05-15T09:25:56.621066",
   "environment_variables": {},
   "exception": null,
   "input_path": "template.ipynb",
   "output_path": "SRR13329115.ipynb",
   "parameters": {
    "sample_name": "SRR13329115"
   },
   "start_time": "2023-05-15T09:25:10.595173",
   "version": "2.3.4"
  }
 },
 "nbformat": 4,
 "nbformat_minor": 5
}
