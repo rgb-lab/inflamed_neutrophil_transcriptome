{
 "cells": [
  {
   "cell_type": "code",
   "execution_count": null,
   "id": "78a6243e-1906-4e3b-ae98-4b5bd21bd37c",
   "metadata": {
    "execution": {
     "iopub.execute_input": "2023-05-15T09:28:24.990259Z",
     "iopub.status.busy": "2023-05-15T09:28:24.990073Z",
     "iopub.status.idle": "2023-05-15T09:28:24.994783Z",
     "shell.execute_reply": "2023-05-15T09:28:24.994394Z"
    },
    "papermill": {
     "duration": 0.008029,
     "end_time": "2023-05-15T09:28:24.995712",
     "exception": false,
     "start_time": "2023-05-15T09:28:24.987683",
     "status": "completed"
    },
    "tags": [
     "parameters"
    ]
   },
   "outputs": [],
   "source": [
    "sample_name = \"SRR13329143\""
   ]
  },
  {
   "cell_type": "code",
   "execution_count": null,
   "id": "554593b5",
   "metadata": {
    "execution": {
     "iopub.execute_input": "2023-05-15T09:28:24.999312Z",
     "iopub.status.busy": "2023-05-15T09:28:24.999153Z",
     "iopub.status.idle": "2023-05-15T09:28:25.001218Z",
     "shell.execute_reply": "2023-05-15T09:28:25.000898Z"
    },
    "papermill": {
     "duration": 0.004785,
     "end_time": "2023-05-15T09:28:25.002046",
     "exception": false,
     "start_time": "2023-05-15T09:28:24.997261",
     "status": "completed"
    },
    "tags": [
     "injected-parameters"
    ]
   },
   "outputs": [],
   "source": [
    "# Parameters\n",
    "sample_name = \"SRR13329129\"\n"
   ]
  },
  {
   "cell_type": "code",
   "execution_count": null,
   "id": "487588d5-40a0-4c35-9cd9-ee9b3e2f1d4e",
   "metadata": {
    "execution": {
     "iopub.execute_input": "2023-05-15T09:28:25.005504Z",
     "iopub.status.busy": "2023-05-15T09:28:25.005267Z",
     "iopub.status.idle": "2023-05-15T09:28:25.007491Z",
     "shell.execute_reply": "2023-05-15T09:28:25.007170Z"
    },
    "papermill": {
     "duration": 0.00483,
     "end_time": "2023-05-15T09:28:25.008281",
     "exception": false,
     "start_time": "2023-05-15T09:28:25.003451",
     "status": "completed"
    },
    "tags": []
   },
   "outputs": [],
   "source": [
    "import warnings\n",
    "warnings.simplefilter(action='ignore', category=FutureWarning)\n",
    "warnings.simplefilter(action='ignore', category=UserWarning)"
   ]
  },
  {
   "cell_type": "code",
   "execution_count": null,
   "id": "5bba6a57-54cf-4720-8653-bf94afa536ad",
   "metadata": {
    "execution": {
     "iopub.execute_input": "2023-05-15T09:28:25.011730Z",
     "iopub.status.busy": "2023-05-15T09:28:25.011511Z",
     "iopub.status.idle": "2023-05-15T09:28:29.241703Z",
     "shell.execute_reply": "2023-05-15T09:28:29.241196Z"
    },
    "papermill": {
     "duration": 4.233373,
     "end_time": "2023-05-15T09:28:29.243071",
     "exception": false,
     "start_time": "2023-05-15T09:28:25.009698",
     "status": "completed"
    },
    "tags": []
   },
   "outputs": [],
   "source": [
    "import gc\n",
    "import scanpy as sc\n",
    "import muon as mu\n",
    "import seaborn as sns\n",
    "import os\n",
    "import pandas as pd\n",
    "from matplotlib import pyplot as plt\n",
    "\n",
    "os.environ['R_HOME'] = '/gpfs/bwfor/work/ws/hd_fu399-conda/conda/envs/python_R/lib/R/'\n",
    "import anndata2ri\n",
    "import logging\n",
    "\n",
    "import rpy2.rinterface_lib.callbacks as rcb\n",
    "import rpy2.robjects as ro\n",
    "\n",
    "rcb.logger.setLevel(logging.ERROR)\n",
    "ro.pandas2ri.activate()\n",
    "anndata2ri.activate()\n",
    "\n",
    "%load_ext rpy2.ipython"
   ]
  },
  {
   "cell_type": "code",
   "execution_count": null,
   "id": "0897f8ed-b086-4ddc-a32e-6ae638ff6d14",
   "metadata": {
    "execution": {
     "iopub.execute_input": "2023-05-15T09:28:29.247612Z",
     "iopub.status.busy": "2023-05-15T09:28:29.247332Z",
     "iopub.status.idle": "2023-05-15T09:28:36.671914Z",
     "shell.execute_reply": "2023-05-15T09:28:36.671336Z"
    },
    "papermill": {
     "duration": 7.428378,
     "end_time": "2023-05-15T09:28:36.673623",
     "exception": false,
     "start_time": "2023-05-15T09:28:29.245245",
     "status": "completed"
    },
    "tags": []
   },
   "outputs": [],
   "source": [
    "%%R\n",
    "\n",
    "suppressMessages(library(SeuratDisk))\n",
    "suppressMessages(library(SingleR))\n",
    "suppressMessages(library(Seurat))\n",
    "suppressMessages(library(SingleCellExperiment))\n",
    "suppressMessages(library(UCell))"
   ]
  },
  {
   "cell_type": "code",
   "execution_count": null,
   "id": "74c6b1b1-5af7-4955-a6cc-4532fc42a266",
   "metadata": {
    "execution": {
     "iopub.execute_input": "2023-05-15T09:28:36.679692Z",
     "iopub.status.busy": "2023-05-15T09:28:36.679510Z",
     "iopub.status.idle": "2023-05-15T09:28:36.995677Z",
     "shell.execute_reply": "2023-05-15T09:28:36.995208Z"
    },
    "papermill": {
     "duration": 0.319905,
     "end_time": "2023-05-15T09:28:36.997063",
     "exception": false,
     "start_time": "2023-05-15T09:28:36.677158",
     "status": "completed"
    },
    "tags": []
   },
   "outputs": [],
   "source": [
    "dataset = sc.read(f\"../../int_data/{sample_name}_qc.h5ad\")\n",
    "dataset.X = dataset.layers[\"soupX_counts\"]"
   ]
  },
  {
   "cell_type": "code",
   "execution_count": null,
   "id": "f2520f85-0ac2-4e0d-b7f1-e5b9ce4c769d",
   "metadata": {
    "execution": {
     "iopub.execute_input": "2023-05-15T09:28:37.001502Z",
     "iopub.status.busy": "2023-05-15T09:28:37.001354Z",
     "iopub.status.idle": "2023-05-15T09:28:37.011163Z",
     "shell.execute_reply": "2023-05-15T09:28:37.010801Z"
    },
    "papermill": {
     "duration": 0.012783,
     "end_time": "2023-05-15T09:28:37.012005",
     "exception": false,
     "start_time": "2023-05-15T09:28:36.999222",
     "status": "completed"
    },
    "tags": []
   },
   "outputs": [],
   "source": [
    "dataset.obs[[\"AvgSpotLen\", \"Bases\", \"Bytes\", \"version\"]] = dataset.obs[[\"AvgSpotLen\", \"Bases\", \"Bytes\", \"version\"]].astype(\"str\")"
   ]
  },
  {
   "cell_type": "code",
   "execution_count": null,
   "id": "99f95dca-cf68-4a51-8f53-ca088aa3167b",
   "metadata": {
    "execution": {
     "iopub.execute_input": "2023-05-15T09:28:37.015925Z",
     "iopub.status.busy": "2023-05-15T09:28:37.015585Z",
     "iopub.status.idle": "2023-05-15T09:28:45.100078Z",
     "shell.execute_reply": "2023-05-15T09:28:45.099477Z"
    },
    "papermill": {
     "duration": 8.087947,
     "end_time": "2023-05-15T09:28:45.101500",
     "exception": false,
     "start_time": "2023-05-15T09:28:37.013553",
     "status": "completed"
    },
    "tags": []
   },
   "outputs": [],
   "source": [
    "%%R -i dataset\n",
    "\n",
    "sce <- SingleCellExperiment(list(counts=dataset@assays@data[[\"soupX_counts\"]]),\n",
    "    colData=dataset@colData,\n",
    ")\n",
    "\n",
    "row.names(sce) <- row.names(dataset)\n",
    "\n",
    "data <- as.Seurat(sce, data = NULL)"
   ]
  },
  {
   "cell_type": "code",
   "execution_count": null,
   "id": "0b749876-ea5a-403c-8b0b-51afc8a633e3",
   "metadata": {
    "execution": {
     "iopub.execute_input": "2023-05-15T09:28:45.108233Z",
     "iopub.status.busy": "2023-05-15T09:28:45.107992Z",
     "iopub.status.idle": "2023-05-15T09:28:45.128872Z",
     "shell.execute_reply": "2023-05-15T09:28:45.128511Z"
    },
    "papermill": {
     "duration": 0.02403,
     "end_time": "2023-05-15T09:28:45.129685",
     "exception": false,
     "start_time": "2023-05-15T09:28:45.105655",
     "status": "completed"
    },
    "tags": []
   },
   "outputs": [],
   "source": [
    "%%R\n",
    "data"
   ]
  },
  {
   "cell_type": "code",
   "execution_count": null,
   "id": "b6b29b0e-92c4-4d4f-b835-c5e9d7d59455",
   "metadata": {
    "execution": {
     "iopub.execute_input": "2023-05-15T09:28:45.135138Z",
     "iopub.status.busy": "2023-05-15T09:28:45.134868Z",
     "iopub.status.idle": "2023-05-15T09:29:06.598299Z",
     "shell.execute_reply": "2023-05-15T09:29:06.597667Z"
    },
    "papermill": {
     "duration": 21.467678,
     "end_time": "2023-05-15T09:29:06.599748",
     "exception": false,
     "start_time": "2023-05-15T09:28:45.132070",
     "status": "completed"
    },
    "tags": []
   },
   "outputs": [],
   "source": [
    "%%R\n",
    "\n",
    "data <- NormalizeData(data)\n",
    "data <- ScaleData(data, features = row.names(data))\n",
    "data <- FindVariableFeatures(data)\n",
    "data <- RunPCA(data, verbose = F)\n",
    "data <- FindNeighbors(data, verbose = F)\n",
    "data <- FindClusters(data, verbose = F)\n",
    "data <- RunUMAP(data, dims = 1:20, verbose = F)"
   ]
  },
  {
   "cell_type": "code",
   "execution_count": null,
   "id": "40fa5cdd-01d7-4b40-90e6-0c97545b0711",
   "metadata": {
    "execution": {
     "iopub.execute_input": "2023-05-15T09:29:06.608514Z",
     "iopub.status.busy": "2023-05-15T09:29:06.608129Z",
     "iopub.status.idle": "2023-05-15T09:29:49.590656Z",
     "shell.execute_reply": "2023-05-15T09:29:49.590213Z"
    },
    "papermill": {
     "duration": 42.993892,
     "end_time": "2023-05-15T09:29:49.598689",
     "exception": false,
     "start_time": "2023-05-15T09:29:06.604797",
     "status": "completed"
    },
    "tags": []
   },
   "outputs": [],
   "source": [
    "%%R\n",
    "\n",
    "ref1 <- celldex::BlueprintEncodeData()\n",
    "ref2 <- celldex::MonacoImmuneData()\n",
    "cell_classification <- SingleR(test = as.SingleCellExperiment(data),\n",
    "                               ref = list(BPE = ref1, MON = ref2),\n",
    "                               labels = list(ref1$label.main, ref2$label.main))\n",
    "\n",
    "data[[\"SingleR_label\"]] <- cell_classification$labels\n",
    "\n",
    "plotScoreHeatmap(cell_classification)"
   ]
  },
  {
   "cell_type": "code",
   "execution_count": null,
   "id": "6ad7cf2f-891f-4c05-b34d-e47c84bbe27b",
   "metadata": {
    "execution": {
     "iopub.execute_input": "2023-05-15T09:29:49.606126Z",
     "iopub.status.busy": "2023-05-15T09:29:49.605952Z",
     "iopub.status.idle": "2023-05-15T09:29:50.155042Z",
     "shell.execute_reply": "2023-05-15T09:29:50.154679Z"
    },
    "papermill": {
     "duration": 0.554071,
     "end_time": "2023-05-15T09:29:50.156324",
     "exception": false,
     "start_time": "2023-05-15T09:29:49.602253",
     "status": "completed"
    },
    "tags": []
   },
   "outputs": [],
   "source": [
    "%%R -i sample_name\n",
    "\n",
    "write.csv(data@meta.data, paste0(sample_name, \"_metadata.csv\"))"
   ]
  }
 ],
 "metadata": {
  "kernelspec": {
   "display_name": "py_R",
   "language": "python",
   "name": "python_r"
  },
  "language_info": {
   "codemirror_mode": {
    "name": "ipython",
    "version": 3
   },
   "file_extension": ".py",
   "mimetype": "text/x-python",
   "name": "python",
   "nbconvert_exporter": "python",
   "pygments_lexer": "ipython3",
   "version": "3.10.9"
  },
  "papermill": {
   "default_parameters": {},
   "duration": 87.569244,
   "end_time": "2023-05-15T09:29:51.478908",
   "environment_variables": {},
   "exception": null,
   "input_path": "template.ipynb",
   "output_path": "SRR13329129.ipynb",
   "parameters": {
    "sample_name": "SRR13329129"
   },
   "start_time": "2023-05-15T09:28:23.909664",
   "version": "2.3.4"
  }
 },
 "nbformat": 4,
 "nbformat_minor": 5
}
