{
 "cells": [
  {
   "cell_type": "code",
   "execution_count": null,
   "id": "78a6243e-1906-4e3b-ae98-4b5bd21bd37c",
   "metadata": {
    "execution": {
     "iopub.execute_input": "2023-05-15T08:48:05.144364Z",
     "iopub.status.busy": "2023-05-15T08:48:05.144198Z",
     "iopub.status.idle": "2023-05-15T08:48:05.149260Z",
     "shell.execute_reply": "2023-05-15T08:48:05.148916Z"
    },
    "papermill": {
     "duration": 0.008592,
     "end_time": "2023-05-15T08:48:05.150119",
     "exception": false,
     "start_time": "2023-05-15T08:48:05.141527",
     "status": "completed"
    },
    "tags": [
     "parameters"
    ]
   },
   "outputs": [],
   "source": [
    "sample_name = \"SRR13329143\""
   ]
  },
  {
   "cell_type": "code",
   "execution_count": null,
   "id": "21c00279",
   "metadata": {
    "execution": {
     "iopub.execute_input": "2023-05-15T08:48:05.154108Z",
     "iopub.status.busy": "2023-05-15T08:48:05.153577Z",
     "iopub.status.idle": "2023-05-15T08:48:05.155861Z",
     "shell.execute_reply": "2023-05-15T08:48:05.155548Z"
    },
    "papermill": {
     "duration": 0.004992,
     "end_time": "2023-05-15T08:48:05.156660",
     "exception": false,
     "start_time": "2023-05-15T08:48:05.151668",
     "status": "completed"
    },
    "tags": [
     "injected-parameters"
    ]
   },
   "outputs": [],
   "source": [
    "# Parameters\n",
    "sample_name = \"SRR13329113\"\n"
   ]
  },
  {
   "cell_type": "code",
   "execution_count": null,
   "id": "487588d5-40a0-4c35-9cd9-ee9b3e2f1d4e",
   "metadata": {
    "execution": {
     "iopub.execute_input": "2023-05-15T08:48:05.160551Z",
     "iopub.status.busy": "2023-05-15T08:48:05.160424Z",
     "iopub.status.idle": "2023-05-15T08:48:05.162946Z",
     "shell.execute_reply": "2023-05-15T08:48:05.162616Z"
    },
    "papermill": {
     "duration": 0.005282,
     "end_time": "2023-05-15T08:48:05.163754",
     "exception": false,
     "start_time": "2023-05-15T08:48:05.158472",
     "status": "completed"
    },
    "tags": []
   },
   "outputs": [],
   "source": [
    "import warnings\n",
    "warnings.simplefilter(action='ignore', category=FutureWarning)\n",
    "warnings.simplefilter(action='ignore', category=UserWarning)"
   ]
  },
  {
   "cell_type": "code",
   "execution_count": null,
   "id": "5bba6a57-54cf-4720-8653-bf94afa536ad",
   "metadata": {
    "execution": {
     "iopub.execute_input": "2023-05-15T08:48:05.167685Z",
     "iopub.status.busy": "2023-05-15T08:48:05.167240Z",
     "iopub.status.idle": "2023-05-15T08:48:09.880076Z",
     "shell.execute_reply": "2023-05-15T08:48:09.879372Z"
    },
    "papermill": {
     "duration": 4.716508,
     "end_time": "2023-05-15T08:48:09.881700",
     "exception": false,
     "start_time": "2023-05-15T08:48:05.165192",
     "status": "completed"
    },
    "tags": []
   },
   "outputs": [],
   "source": [
    "import gc\n",
    "import scanpy as sc\n",
    "import muon as mu\n",
    "import seaborn as sns\n",
    "import os\n",
    "import pandas as pd\n",
    "from matplotlib import pyplot as plt\n",
    "\n",
    "os.environ['R_HOME'] = '/gpfs/bwfor/work/ws/hd_fu399-conda/conda/envs/python_R/lib/R/'\n",
    "import anndata2ri\n",
    "import logging\n",
    "\n",
    "import rpy2.rinterface_lib.callbacks as rcb\n",
    "import rpy2.robjects as ro\n",
    "\n",
    "rcb.logger.setLevel(logging.ERROR)\n",
    "ro.pandas2ri.activate()\n",
    "anndata2ri.activate()\n",
    "\n",
    "%load_ext rpy2.ipython"
   ]
  },
  {
   "cell_type": "code",
   "execution_count": null,
   "id": "0897f8ed-b086-4ddc-a32e-6ae638ff6d14",
   "metadata": {
    "execution": {
     "iopub.execute_input": "2023-05-15T08:48:09.886903Z",
     "iopub.status.busy": "2023-05-15T08:48:09.886379Z",
     "iopub.status.idle": "2023-05-15T08:48:18.617918Z",
     "shell.execute_reply": "2023-05-15T08:48:18.616938Z"
    },
    "papermill": {
     "duration": 8.735662,
     "end_time": "2023-05-15T08:48:18.619535",
     "exception": false,
     "start_time": "2023-05-15T08:48:09.883873",
     "status": "completed"
    },
    "tags": []
   },
   "outputs": [],
   "source": [
    "%%R\n",
    "\n",
    "suppressMessages(library(SeuratDisk))\n",
    "suppressMessages(library(SingleR))\n",
    "suppressMessages(library(Seurat))\n",
    "suppressMessages(library(SingleCellExperiment))\n",
    "suppressMessages(library(UCell))"
   ]
  },
  {
   "cell_type": "code",
   "execution_count": null,
   "id": "74c6b1b1-5af7-4955-a6cc-4532fc42a266",
   "metadata": {
    "execution": {
     "iopub.execute_input": "2023-05-15T08:48:18.626997Z",
     "iopub.status.busy": "2023-05-15T08:48:18.626364Z",
     "iopub.status.idle": "2023-05-15T08:48:19.028820Z",
     "shell.execute_reply": "2023-05-15T08:48:19.027957Z"
    },
    "papermill": {
     "duration": 0.406689,
     "end_time": "2023-05-15T08:48:19.030421",
     "exception": false,
     "start_time": "2023-05-15T08:48:18.623732",
     "status": "completed"
    },
    "tags": []
   },
   "outputs": [],
   "source": [
    "dataset = sc.read(f\"../../int_data/{sample_name}_qc.h5ad\")\n",
    "dataset.X = dataset.layers[\"soupX_counts\"]"
   ]
  },
  {
   "cell_type": "code",
   "execution_count": null,
   "id": "f2520f85-0ac2-4e0d-b7f1-e5b9ce4c769d",
   "metadata": {
    "execution": {
     "iopub.execute_input": "2023-05-15T08:48:19.041417Z",
     "iopub.status.busy": "2023-05-15T08:48:19.041183Z",
     "iopub.status.idle": "2023-05-15T08:48:19.051018Z",
     "shell.execute_reply": "2023-05-15T08:48:19.050500Z"
    },
    "papermill": {
     "duration": 0.01312,
     "end_time": "2023-05-15T08:48:19.051915",
     "exception": false,
     "start_time": "2023-05-15T08:48:19.038795",
     "status": "completed"
    },
    "tags": []
   },
   "outputs": [],
   "source": [
    "dataset.obs[[\"AvgSpotLen\", \"Bases\", \"Bytes\", \"version\"]] = dataset.obs[[\"AvgSpotLen\", \"Bases\", \"Bytes\", \"version\"]].astype(\"str\")"
   ]
  },
  {
   "cell_type": "code",
   "execution_count": null,
   "id": "99f95dca-cf68-4a51-8f53-ca088aa3167b",
   "metadata": {
    "execution": {
     "iopub.execute_input": "2023-05-15T08:48:19.055744Z",
     "iopub.status.busy": "2023-05-15T08:48:19.055605Z",
     "iopub.status.idle": "2023-05-15T08:48:27.630997Z",
     "shell.execute_reply": "2023-05-15T08:48:27.630206Z"
    },
    "papermill": {
     "duration": 8.579081,
     "end_time": "2023-05-15T08:48:27.632636",
     "exception": false,
     "start_time": "2023-05-15T08:48:19.053555",
     "status": "completed"
    },
    "tags": []
   },
   "outputs": [],
   "source": [
    "%%R -i dataset\n",
    "\n",
    "sce <- SingleCellExperiment(list(counts=dataset@assays@data[[\"soupX_counts\"]]),\n",
    "    colData=dataset@colData,\n",
    ")\n",
    "\n",
    "row.names(sce) <- row.names(dataset)\n",
    "\n",
    "data <- as.Seurat(sce, data = NULL)"
   ]
  },
  {
   "cell_type": "code",
   "execution_count": null,
   "id": "0b749876-ea5a-403c-8b0b-51afc8a633e3",
   "metadata": {
    "execution": {
     "iopub.execute_input": "2023-05-15T08:48:27.642439Z",
     "iopub.status.busy": "2023-05-15T08:48:27.642285Z",
     "iopub.status.idle": "2023-05-15T08:48:27.668539Z",
     "shell.execute_reply": "2023-05-15T08:48:27.667998Z"
    },
    "papermill": {
     "duration": 0.030205,
     "end_time": "2023-05-15T08:48:27.669538",
     "exception": false,
     "start_time": "2023-05-15T08:48:27.639333",
     "status": "completed"
    },
    "tags": []
   },
   "outputs": [],
   "source": [
    "%%R\n",
    "data"
   ]
  },
  {
   "cell_type": "code",
   "execution_count": null,
   "id": "b6b29b0e-92c4-4d4f-b835-c5e9d7d59455",
   "metadata": {
    "execution": {
     "iopub.execute_input": "2023-05-15T08:48:27.674781Z",
     "iopub.status.busy": "2023-05-15T08:48:27.674604Z",
     "iopub.status.idle": "2023-05-15T08:48:45.292512Z",
     "shell.execute_reply": "2023-05-15T08:48:45.291870Z"
    },
    "papermill": {
     "duration": 17.622174,
     "end_time": "2023-05-15T08:48:45.293983",
     "exception": false,
     "start_time": "2023-05-15T08:48:27.671809",
     "status": "completed"
    },
    "tags": []
   },
   "outputs": [],
   "source": [
    "%%R\n",
    "\n",
    "data <- NormalizeData(data)\n",
    "data <- ScaleData(data, features = row.names(data))\n",
    "data <- FindVariableFeatures(data)\n",
    "data <- RunPCA(data, verbose = F)\n",
    "data <- FindNeighbors(data, verbose = F)\n",
    "data <- FindClusters(data, verbose = F)\n",
    "data <- RunUMAP(data, dims = 1:20, verbose = F)"
   ]
  },
  {
   "cell_type": "code",
   "execution_count": null,
   "id": "40fa5cdd-01d7-4b40-90e6-0c97545b0711",
   "metadata": {
    "execution": {
     "iopub.execute_input": "2023-05-15T08:48:45.302007Z",
     "iopub.status.busy": "2023-05-15T08:48:45.301822Z",
     "iopub.status.idle": "2023-05-15T08:49:16.186318Z",
     "shell.execute_reply": "2023-05-15T08:49:16.185806Z"
    },
    "papermill": {
     "duration": 30.894048,
     "end_time": "2023-05-15T08:49:16.192589",
     "exception": false,
     "start_time": "2023-05-15T08:48:45.298541",
     "status": "completed"
    },
    "tags": []
   },
   "outputs": [],
   "source": [
    "%%R\n",
    "\n",
    "ref1 <- celldex::BlueprintEncodeData()\n",
    "ref2 <- celldex::MonacoImmuneData()\n",
    "cell_classification <- SingleR(test = as.SingleCellExperiment(data),\n",
    "                               ref = list(BPE = ref1, MON = ref2),\n",
    "                               labels = list(ref1$label.main, ref2$label.main))\n",
    "\n",
    "data[[\"SingleR_label\"]] <- cell_classification$labels\n",
    "\n",
    "plotScoreHeatmap(cell_classification)"
   ]
  },
  {
   "cell_type": "code",
   "execution_count": null,
   "id": "6ad7cf2f-891f-4c05-b34d-e47c84bbe27b",
   "metadata": {
    "execution": {
     "iopub.execute_input": "2023-05-15T08:49:16.199567Z",
     "iopub.status.busy": "2023-05-15T08:49:16.199407Z",
     "iopub.status.idle": "2023-05-15T08:49:16.284350Z",
     "shell.execute_reply": "2023-05-15T08:49:16.283986Z"
    },
    "papermill": {
     "duration": 0.089946,
     "end_time": "2023-05-15T08:49:16.285687",
     "exception": false,
     "start_time": "2023-05-15T08:49:16.195741",
     "status": "completed"
    },
    "tags": []
   },
   "outputs": [],
   "source": [
    "%%R -i sample_name\n",
    "\n",
    "write.csv(data@meta.data, paste0(sample_name, \"_metadata.csv\"))"
   ]
  }
 ],
 "metadata": {
  "kernelspec": {
   "display_name": "py_R",
   "language": "python",
   "name": "python_r"
  },
  "language_info": {
   "codemirror_mode": {
    "name": "ipython",
    "version": 3
   },
   "file_extension": ".py",
   "mimetype": "text/x-python",
   "name": "python",
   "nbconvert_exporter": "python",
   "pygments_lexer": "ipython3",
   "version": "3.10.9"
  },
  "papermill": {
   "default_parameters": {},
   "duration": 73.399432,
   "end_time": "2023-05-15T08:49:17.706413",
   "environment_variables": {},
   "exception": null,
   "input_path": "template.ipynb",
   "output_path": "SRR13329113.ipynb",
   "parameters": {
    "sample_name": "SRR13329113"
   },
   "start_time": "2023-05-15T08:48:04.306981",
   "version": "2.3.4"
  }
 },
 "nbformat": 4,
 "nbformat_minor": 5
}
