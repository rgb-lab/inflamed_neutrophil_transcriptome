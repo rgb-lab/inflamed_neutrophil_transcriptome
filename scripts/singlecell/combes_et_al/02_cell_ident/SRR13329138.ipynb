{
 "cells": [
  {
   "cell_type": "code",
   "execution_count": null,
   "id": "78a6243e-1906-4e3b-ae98-4b5bd21bd37c",
   "metadata": {
    "execution": {
     "iopub.execute_input": "2023-05-15T09:40:50.792023Z",
     "iopub.status.busy": "2023-05-15T09:40:50.791867Z",
     "iopub.status.idle": "2023-05-15T09:40:50.796511Z",
     "shell.execute_reply": "2023-05-15T09:40:50.796199Z"
    },
    "papermill": {
     "duration": 0.008067,
     "end_time": "2023-05-15T09:40:50.797391",
     "exception": false,
     "start_time": "2023-05-15T09:40:50.789324",
     "status": "completed"
    },
    "tags": [
     "parameters"
    ]
   },
   "outputs": [],
   "source": [
    "sample_name = \"SRR13329143\""
   ]
  },
  {
   "cell_type": "code",
   "execution_count": null,
   "id": "68057179",
   "metadata": {
    "execution": {
     "iopub.execute_input": "2023-05-15T09:40:50.800858Z",
     "iopub.status.busy": "2023-05-15T09:40:50.800730Z",
     "iopub.status.idle": "2023-05-15T09:40:50.802759Z",
     "shell.execute_reply": "2023-05-15T09:40:50.802446Z"
    },
    "papermill": {
     "duration": 0.004565,
     "end_time": "2023-05-15T09:40:50.803505",
     "exception": false,
     "start_time": "2023-05-15T09:40:50.798940",
     "status": "completed"
    },
    "tags": [
     "injected-parameters"
    ]
   },
   "outputs": [],
   "source": [
    "# Parameters\n",
    "sample_name = \"SRR13329138\"\n"
   ]
  },
  {
   "cell_type": "code",
   "execution_count": null,
   "id": "487588d5-40a0-4c35-9cd9-ee9b3e2f1d4e",
   "metadata": {
    "execution": {
     "iopub.execute_input": "2023-05-15T09:40:50.806859Z",
     "iopub.status.busy": "2023-05-15T09:40:50.806639Z",
     "iopub.status.idle": "2023-05-15T09:40:50.808776Z",
     "shell.execute_reply": "2023-05-15T09:40:50.808472Z"
    },
    "papermill": {
     "duration": 0.004634,
     "end_time": "2023-05-15T09:40:50.809544",
     "exception": false,
     "start_time": "2023-05-15T09:40:50.804910",
     "status": "completed"
    },
    "tags": []
   },
   "outputs": [],
   "source": [
    "import warnings\n",
    "warnings.simplefilter(action='ignore', category=FutureWarning)\n",
    "warnings.simplefilter(action='ignore', category=UserWarning)"
   ]
  },
  {
   "cell_type": "code",
   "execution_count": null,
   "id": "5bba6a57-54cf-4720-8653-bf94afa536ad",
   "metadata": {
    "execution": {
     "iopub.execute_input": "2023-05-15T09:40:50.813012Z",
     "iopub.status.busy": "2023-05-15T09:40:50.812762Z",
     "iopub.status.idle": "2023-05-15T09:40:55.440537Z",
     "shell.execute_reply": "2023-05-15T09:40:55.440011Z"
    },
    "papermill": {
     "duration": 4.630938,
     "end_time": "2023-05-15T09:40:55.441865",
     "exception": false,
     "start_time": "2023-05-15T09:40:50.810927",
     "status": "completed"
    },
    "tags": []
   },
   "outputs": [],
   "source": [
    "import gc\n",
    "import scanpy as sc\n",
    "import muon as mu\n",
    "import seaborn as sns\n",
    "import os\n",
    "import pandas as pd\n",
    "from matplotlib import pyplot as plt\n",
    "\n",
    "os.environ['R_HOME'] = '/gpfs/bwfor/work/ws/hd_fu399-conda/conda/envs/python_R/lib/R/'\n",
    "import anndata2ri\n",
    "import logging\n",
    "\n",
    "import rpy2.rinterface_lib.callbacks as rcb\n",
    "import rpy2.robjects as ro\n",
    "\n",
    "rcb.logger.setLevel(logging.ERROR)\n",
    "ro.pandas2ri.activate()\n",
    "anndata2ri.activate()\n",
    "\n",
    "%load_ext rpy2.ipython"
   ]
  },
  {
   "cell_type": "code",
   "execution_count": null,
   "id": "0897f8ed-b086-4ddc-a32e-6ae638ff6d14",
   "metadata": {
    "execution": {
     "iopub.execute_input": "2023-05-15T09:40:55.446782Z",
     "iopub.status.busy": "2023-05-15T09:40:55.446461Z",
     "iopub.status.idle": "2023-05-15T09:41:03.637918Z",
     "shell.execute_reply": "2023-05-15T09:41:03.637288Z"
    },
    "papermill": {
     "duration": 8.19524,
     "end_time": "2023-05-15T09:41:03.639498",
     "exception": false,
     "start_time": "2023-05-15T09:40:55.444258",
     "status": "completed"
    },
    "tags": []
   },
   "outputs": [],
   "source": [
    "%%R\n",
    "\n",
    "suppressMessages(library(SeuratDisk))\n",
    "suppressMessages(library(SingleR))\n",
    "suppressMessages(library(Seurat))\n",
    "suppressMessages(library(SingleCellExperiment))\n",
    "suppressMessages(library(UCell))"
   ]
  },
  {
   "cell_type": "code",
   "execution_count": null,
   "id": "74c6b1b1-5af7-4955-a6cc-4532fc42a266",
   "metadata": {
    "execution": {
     "iopub.execute_input": "2023-05-15T09:41:03.645841Z",
     "iopub.status.busy": "2023-05-15T09:41:03.645671Z",
     "iopub.status.idle": "2023-05-15T09:41:03.817119Z",
     "shell.execute_reply": "2023-05-15T09:41:03.816619Z"
    },
    "papermill": {
     "duration": 0.175406,
     "end_time": "2023-05-15T09:41:03.818611",
     "exception": false,
     "start_time": "2023-05-15T09:41:03.643205",
     "status": "completed"
    },
    "tags": []
   },
   "outputs": [],
   "source": [
    "dataset = sc.read(f\"../../int_data/{sample_name}_qc.h5ad\")\n",
    "dataset.X = dataset.layers[\"soupX_counts\"]"
   ]
  },
  {
   "cell_type": "code",
   "execution_count": null,
   "id": "f2520f85-0ac2-4e0d-b7f1-e5b9ce4c769d",
   "metadata": {
    "execution": {
     "iopub.execute_input": "2023-05-15T09:41:03.823368Z",
     "iopub.status.busy": "2023-05-15T09:41:03.823205Z",
     "iopub.status.idle": "2023-05-15T09:41:03.829371Z",
     "shell.execute_reply": "2023-05-15T09:41:03.829003Z"
    },
    "papermill": {
     "duration": 0.009346,
     "end_time": "2023-05-15T09:41:03.830239",
     "exception": false,
     "start_time": "2023-05-15T09:41:03.820893",
     "status": "completed"
    },
    "tags": []
   },
   "outputs": [],
   "source": [
    "dataset.obs[[\"AvgSpotLen\", \"Bases\", \"Bytes\", \"version\"]] = dataset.obs[[\"AvgSpotLen\", \"Bases\", \"Bytes\", \"version\"]].astype(\"str\")"
   ]
  },
  {
   "cell_type": "code",
   "execution_count": null,
   "id": "99f95dca-cf68-4a51-8f53-ca088aa3167b",
   "metadata": {
    "execution": {
     "iopub.execute_input": "2023-05-15T09:41:03.834310Z",
     "iopub.status.busy": "2023-05-15T09:41:03.834097Z",
     "iopub.status.idle": "2023-05-15T09:41:07.463578Z",
     "shell.execute_reply": "2023-05-15T09:41:07.462948Z"
    },
    "papermill": {
     "duration": 3.63331,
     "end_time": "2023-05-15T09:41:07.465209",
     "exception": false,
     "start_time": "2023-05-15T09:41:03.831899",
     "status": "completed"
    },
    "tags": []
   },
   "outputs": [],
   "source": [
    "%%R -i dataset\n",
    "\n",
    "sce <- SingleCellExperiment(list(counts=dataset@assays@data[[\"soupX_counts\"]]),\n",
    "    colData=dataset@colData,\n",
    ")\n",
    "\n",
    "row.names(sce) <- row.names(dataset)\n",
    "\n",
    "data <- as.Seurat(sce, data = NULL)"
   ]
  },
  {
   "cell_type": "code",
   "execution_count": null,
   "id": "0b749876-ea5a-403c-8b0b-51afc8a633e3",
   "metadata": {
    "execution": {
     "iopub.execute_input": "2023-05-15T09:41:07.471563Z",
     "iopub.status.busy": "2023-05-15T09:41:07.471394Z",
     "iopub.status.idle": "2023-05-15T09:41:07.492205Z",
     "shell.execute_reply": "2023-05-15T09:41:07.491830Z"
    },
    "papermill": {
     "duration": 0.024104,
     "end_time": "2023-05-15T09:41:07.493131",
     "exception": false,
     "start_time": "2023-05-15T09:41:07.469027",
     "status": "completed"
    },
    "tags": []
   },
   "outputs": [],
   "source": [
    "%%R\n",
    "data"
   ]
  },
  {
   "cell_type": "code",
   "execution_count": null,
   "id": "b6b29b0e-92c4-4d4f-b835-c5e9d7d59455",
   "metadata": {
    "execution": {
     "iopub.execute_input": "2023-05-15T09:41:07.498873Z",
     "iopub.status.busy": "2023-05-15T09:41:07.498530Z",
     "iopub.status.idle": "2023-05-15T09:41:16.326198Z",
     "shell.execute_reply": "2023-05-15T09:41:16.325691Z"
    },
    "papermill": {
     "duration": 8.832001,
     "end_time": "2023-05-15T09:41:16.327661",
     "exception": false,
     "start_time": "2023-05-15T09:41:07.495660",
     "status": "completed"
    },
    "tags": []
   },
   "outputs": [],
   "source": [
    "%%R\n",
    "\n",
    "data <- NormalizeData(data)\n",
    "data <- ScaleData(data, features = row.names(data))\n",
    "data <- FindVariableFeatures(data)\n",
    "data <- RunPCA(data, verbose = F)\n",
    "data <- FindNeighbors(data, verbose = F)\n",
    "data <- FindClusters(data, verbose = F)\n",
    "data <- RunUMAP(data, dims = 1:20, verbose = F)"
   ]
  },
  {
   "cell_type": "code",
   "execution_count": null,
   "id": "40fa5cdd-01d7-4b40-90e6-0c97545b0711",
   "metadata": {
    "execution": {
     "iopub.execute_input": "2023-05-15T09:41:16.335661Z",
     "iopub.status.busy": "2023-05-15T09:41:16.335495Z",
     "iopub.status.idle": "2023-05-15T09:41:37.055247Z",
     "shell.execute_reply": "2023-05-15T09:41:37.054793Z"
    },
    "papermill": {
     "duration": 20.723813,
     "end_time": "2023-05-15T09:41:37.056254",
     "exception": false,
     "start_time": "2023-05-15T09:41:16.332441",
     "status": "completed"
    },
    "tags": []
   },
   "outputs": [],
   "source": [
    "%%R\n",
    "\n",
    "ref1 <- celldex::BlueprintEncodeData()\n",
    "ref2 <- celldex::MonacoImmuneData()\n",
    "cell_classification <- SingleR(test = as.SingleCellExperiment(data),\n",
    "                               ref = list(BPE = ref1, MON = ref2),\n",
    "                               labels = list(ref1$label.main, ref2$label.main))\n",
    "\n",
    "data[[\"SingleR_label\"]] <- cell_classification$labels\n",
    "\n",
    "plotScoreHeatmap(cell_classification)"
   ]
  },
  {
   "cell_type": "code",
   "execution_count": null,
   "id": "6ad7cf2f-891f-4c05-b34d-e47c84bbe27b",
   "metadata": {
    "execution": {
     "iopub.execute_input": "2023-05-15T09:41:37.145205Z",
     "iopub.status.busy": "2023-05-15T09:41:37.145032Z",
     "iopub.status.idle": "2023-05-15T09:41:37.650492Z",
     "shell.execute_reply": "2023-05-15T09:41:37.650085Z"
    },
    "papermill": {
     "duration": 0.510669,
     "end_time": "2023-05-15T09:41:37.651747",
     "exception": false,
     "start_time": "2023-05-15T09:41:37.141078",
     "status": "completed"
    },
    "tags": []
   },
   "outputs": [],
   "source": [
    "%%R -i sample_name\n",
    "\n",
    "write.csv(data@meta.data, paste0(sample_name, \"_metadata.csv\"))"
   ]
  }
 ],
 "metadata": {
  "kernelspec": {
   "display_name": "py_R",
   "language": "python",
   "name": "python_r"
  },
  "language_info": {
   "codemirror_mode": {
    "name": "ipython",
    "version": 3
   },
   "file_extension": ".py",
   "mimetype": "text/x-python",
   "name": "python",
   "nbconvert_exporter": "python",
   "pygments_lexer": "ipython3",
   "version": "3.10.9"
  },
  "papermill": {
   "default_parameters": {},
   "duration": 49.268808,
   "end_time": "2023-05-15T09:41:38.874850",
   "environment_variables": {},
   "exception": null,
   "input_path": "template.ipynb",
   "output_path": "SRR13329138.ipynb",
   "parameters": {
    "sample_name": "SRR13329138"
   },
   "start_time": "2023-05-15T09:40:49.606042",
   "version": "2.3.4"
  }
 },
 "nbformat": 4,
 "nbformat_minor": 5
}
