{
 "cells": [
  {
   "cell_type": "code",
   "execution_count": null,
   "id": "78a6243e-1906-4e3b-ae98-4b5bd21bd37c",
   "metadata": {
    "execution": {
     "iopub.execute_input": "2023-05-15T09:53:33.490725Z",
     "iopub.status.busy": "2023-05-15T09:53:33.490578Z",
     "iopub.status.idle": "2023-05-15T09:53:33.495430Z",
     "shell.execute_reply": "2023-05-15T09:53:33.495046Z"
    },
    "papermill": {
     "duration": 0.008118,
     "end_time": "2023-05-15T09:53:33.496293",
     "exception": false,
     "start_time": "2023-05-15T09:53:33.488175",
     "status": "completed"
    },
    "tags": [
     "parameters"
    ]
   },
   "outputs": [],
   "source": [
    "sample_name = \"SRR13329143\""
   ]
  },
  {
   "cell_type": "code",
   "execution_count": null,
   "id": "73320653",
   "metadata": {
    "execution": {
     "iopub.execute_input": "2023-05-15T09:53:33.499954Z",
     "iopub.status.busy": "2023-05-15T09:53:33.499712Z",
     "iopub.status.idle": "2023-05-15T09:53:33.501700Z",
     "shell.execute_reply": "2023-05-15T09:53:33.501390Z"
    },
    "papermill": {
     "duration": 0.004683,
     "end_time": "2023-05-15T09:53:33.502495",
     "exception": false,
     "start_time": "2023-05-15T09:53:33.497812",
     "status": "completed"
    },
    "tags": [
     "injected-parameters"
    ]
   },
   "outputs": [],
   "source": [
    "# Parameters\n",
    "sample_name = \"SRR13329119\"\n"
   ]
  },
  {
   "cell_type": "code",
   "execution_count": null,
   "id": "487588d5-40a0-4c35-9cd9-ee9b3e2f1d4e",
   "metadata": {
    "execution": {
     "iopub.execute_input": "2023-05-15T09:53:33.505891Z",
     "iopub.status.busy": "2023-05-15T09:53:33.505676Z",
     "iopub.status.idle": "2023-05-15T09:53:33.507853Z",
     "shell.execute_reply": "2023-05-15T09:53:33.507553Z"
    },
    "papermill": {
     "duration": 0.004785,
     "end_time": "2023-05-15T09:53:33.508669",
     "exception": false,
     "start_time": "2023-05-15T09:53:33.503884",
     "status": "completed"
    },
    "tags": []
   },
   "outputs": [],
   "source": [
    "import warnings\n",
    "warnings.simplefilter(action='ignore', category=FutureWarning)\n",
    "warnings.simplefilter(action='ignore', category=UserWarning)"
   ]
  },
  {
   "cell_type": "code",
   "execution_count": null,
   "id": "5bba6a57-54cf-4720-8653-bf94afa536ad",
   "metadata": {
    "execution": {
     "iopub.execute_input": "2023-05-15T09:53:33.512205Z",
     "iopub.status.busy": "2023-05-15T09:53:33.511983Z",
     "iopub.status.idle": "2023-05-15T09:53:38.450491Z",
     "shell.execute_reply": "2023-05-15T09:53:38.449955Z"
    },
    "papermill": {
     "duration": 4.942036,
     "end_time": "2023-05-15T09:53:38.452159",
     "exception": false,
     "start_time": "2023-05-15T09:53:33.510123",
     "status": "completed"
    },
    "tags": []
   },
   "outputs": [],
   "source": [
    "import gc\n",
    "import scanpy as sc\n",
    "import muon as mu\n",
    "import seaborn as sns\n",
    "import os\n",
    "import pandas as pd\n",
    "from matplotlib import pyplot as plt\n",
    "\n",
    "os.environ['R_HOME'] = '/gpfs/bwfor/work/ws/hd_fu399-conda/conda/envs/python_R/lib/R/'\n",
    "import anndata2ri\n",
    "import logging\n",
    "\n",
    "import rpy2.rinterface_lib.callbacks as rcb\n",
    "import rpy2.robjects as ro\n",
    "\n",
    "rcb.logger.setLevel(logging.ERROR)\n",
    "ro.pandas2ri.activate()\n",
    "anndata2ri.activate()\n",
    "\n",
    "%load_ext rpy2.ipython"
   ]
  },
  {
   "cell_type": "code",
   "execution_count": null,
   "id": "0897f8ed-b086-4ddc-a32e-6ae638ff6d14",
   "metadata": {
    "execution": {
     "iopub.execute_input": "2023-05-15T09:53:38.458374Z",
     "iopub.status.busy": "2023-05-15T09:53:38.458040Z",
     "iopub.status.idle": "2023-05-15T09:53:47.582535Z",
     "shell.execute_reply": "2023-05-15T09:53:47.581859Z"
    },
    "papermill": {
     "duration": 9.128361,
     "end_time": "2023-05-15T09:53:47.584154",
     "exception": false,
     "start_time": "2023-05-15T09:53:38.455793",
     "status": "completed"
    },
    "tags": []
   },
   "outputs": [],
   "source": [
    "%%R\n",
    "\n",
    "suppressMessages(library(SeuratDisk))\n",
    "suppressMessages(library(SingleR))\n",
    "suppressMessages(library(Seurat))\n",
    "suppressMessages(library(SingleCellExperiment))\n",
    "suppressMessages(library(UCell))"
   ]
  },
  {
   "cell_type": "code",
   "execution_count": null,
   "id": "74c6b1b1-5af7-4955-a6cc-4532fc42a266",
   "metadata": {
    "execution": {
     "iopub.execute_input": "2023-05-15T09:53:47.590541Z",
     "iopub.status.busy": "2023-05-15T09:53:47.590303Z",
     "iopub.status.idle": "2023-05-15T09:53:47.986760Z",
     "shell.execute_reply": "2023-05-15T09:53:47.986290Z"
    },
    "papermill": {
     "duration": 0.400437,
     "end_time": "2023-05-15T09:53:47.988344",
     "exception": false,
     "start_time": "2023-05-15T09:53:47.587907",
     "status": "completed"
    },
    "tags": []
   },
   "outputs": [],
   "source": [
    "dataset = sc.read(f\"../../int_data/{sample_name}_qc.h5ad\")\n",
    "dataset.X = dataset.layers[\"soupX_counts\"]"
   ]
  },
  {
   "cell_type": "code",
   "execution_count": null,
   "id": "f2520f85-0ac2-4e0d-b7f1-e5b9ce4c769d",
   "metadata": {
    "execution": {
     "iopub.execute_input": "2023-05-15T09:53:47.992828Z",
     "iopub.status.busy": "2023-05-15T09:53:47.992567Z",
     "iopub.status.idle": "2023-05-15T09:53:48.005602Z",
     "shell.execute_reply": "2023-05-15T09:53:48.005265Z"
    },
    "papermill": {
     "duration": 0.016009,
     "end_time": "2023-05-15T09:53:48.006470",
     "exception": false,
     "start_time": "2023-05-15T09:53:47.990461",
     "status": "completed"
    },
    "tags": []
   },
   "outputs": [],
   "source": [
    "dataset.obs[[\"AvgSpotLen\", \"Bases\", \"Bytes\", \"version\"]] = dataset.obs[[\"AvgSpotLen\", \"Bases\", \"Bytes\", \"version\"]].astype(\"str\")"
   ]
  },
  {
   "cell_type": "code",
   "execution_count": null,
   "id": "99f95dca-cf68-4a51-8f53-ca088aa3167b",
   "metadata": {
    "execution": {
     "iopub.execute_input": "2023-05-15T09:53:48.010306Z",
     "iopub.status.busy": "2023-05-15T09:53:48.010093Z",
     "iopub.status.idle": "2023-05-15T09:54:08.627364Z",
     "shell.execute_reply": "2023-05-15T09:54:08.626779Z"
    },
    "papermill": {
     "duration": 20.620802,
     "end_time": "2023-05-15T09:54:08.628878",
     "exception": false,
     "start_time": "2023-05-15T09:53:48.008076",
     "status": "completed"
    },
    "tags": []
   },
   "outputs": [],
   "source": [
    "%%R -i dataset\n",
    "\n",
    "sce <- SingleCellExperiment(list(counts=dataset@assays@data[[\"soupX_counts\"]]),\n",
    "    colData=dataset@colData,\n",
    ")\n",
    "\n",
    "row.names(sce) <- row.names(dataset)\n",
    "\n",
    "data <- as.Seurat(sce, data = NULL)"
   ]
  },
  {
   "cell_type": "code",
   "execution_count": null,
   "id": "0b749876-ea5a-403c-8b0b-51afc8a633e3",
   "metadata": {
    "execution": {
     "iopub.execute_input": "2023-05-15T09:54:08.634956Z",
     "iopub.status.busy": "2023-05-15T09:54:08.634796Z",
     "iopub.status.idle": "2023-05-15T09:54:16.854798Z",
     "shell.execute_reply": "2023-05-15T09:54:16.854387Z"
    },
    "papermill": {
     "duration": 8.223552,
     "end_time": "2023-05-15T09:54:16.856061",
     "exception": false,
     "start_time": "2023-05-15T09:54:08.632509",
     "status": "completed"
    },
    "tags": []
   },
   "outputs": [],
   "source": [
    "%%R\n",
    "data"
   ]
  },
  {
   "cell_type": "code",
   "execution_count": null,
   "id": "b6b29b0e-92c4-4d4f-b835-c5e9d7d59455",
   "metadata": {
    "execution": {
     "iopub.execute_input": "2023-05-15T09:54:16.877507Z",
     "iopub.status.busy": "2023-05-15T09:54:16.877358Z",
     "iopub.status.idle": "2023-05-15T09:54:53.254360Z",
     "shell.execute_reply": "2023-05-15T09:54:53.253712Z"
    },
    "papermill": {
     "duration": 36.381562,
     "end_time": "2023-05-15T09:54:53.256006",
     "exception": false,
     "start_time": "2023-05-15T09:54:16.874444",
     "status": "completed"
    },
    "tags": []
   },
   "outputs": [],
   "source": [
    "%%R\n",
    "\n",
    "data <- NormalizeData(data)\n",
    "data <- ScaleData(data, features = row.names(data))\n",
    "data <- FindVariableFeatures(data)\n",
    "data <- RunPCA(data, verbose = F)\n",
    "data <- FindNeighbors(data, verbose = F)\n",
    "data <- FindClusters(data, verbose = F)\n",
    "data <- RunUMAP(data, dims = 1:20, verbose = F)"
   ]
  },
  {
   "cell_type": "code",
   "execution_count": null,
   "id": "40fa5cdd-01d7-4b40-90e6-0c97545b0711",
   "metadata": {
    "execution": {
     "iopub.execute_input": "2023-05-15T09:54:53.264705Z",
     "iopub.status.busy": "2023-05-15T09:54:53.264519Z",
     "iopub.status.idle": "2023-05-15T09:56:02.694475Z",
     "shell.execute_reply": "2023-05-15T09:56:02.693996Z"
    },
    "papermill": {
     "duration": 69.439689,
     "end_time": "2023-05-15T09:56:02.700507",
     "exception": false,
     "start_time": "2023-05-15T09:54:53.260818",
     "status": "completed"
    },
    "tags": []
   },
   "outputs": [],
   "source": [
    "%%R\n",
    "\n",
    "ref1 <- celldex::BlueprintEncodeData()\n",
    "ref2 <- celldex::MonacoImmuneData()\n",
    "cell_classification <- SingleR(test = as.SingleCellExperiment(data),\n",
    "                               ref = list(BPE = ref1, MON = ref2),\n",
    "                               labels = list(ref1$label.main, ref2$label.main))\n",
    "\n",
    "data[[\"SingleR_label\"]] <- cell_classification$labels\n",
    "\n",
    "plotScoreHeatmap(cell_classification)"
   ]
  },
  {
   "cell_type": "code",
   "execution_count": null,
   "id": "6ad7cf2f-891f-4c05-b34d-e47c84bbe27b",
   "metadata": {
    "execution": {
     "iopub.execute_input": "2023-05-15T09:56:02.707638Z",
     "iopub.status.busy": "2023-05-15T09:56:02.707465Z",
     "iopub.status.idle": "2023-05-15T09:56:03.144394Z",
     "shell.execute_reply": "2023-05-15T09:56:03.143957Z"
    },
    "papermill": {
     "duration": 0.442044,
     "end_time": "2023-05-15T09:56:03.145733",
     "exception": false,
     "start_time": "2023-05-15T09:56:02.703689",
     "status": "completed"
    },
    "tags": []
   },
   "outputs": [],
   "source": [
    "%%R -i sample_name\n",
    "\n",
    "write.csv(data@meta.data, paste0(sample_name, \"_metadata.csv\"))"
   ]
  }
 ],
 "metadata": {
  "kernelspec": {
   "display_name": "py_R",
   "language": "python",
   "name": "python_r"
  },
  "language_info": {
   "codemirror_mode": {
    "name": "ipython",
    "version": 3
   },
   "file_extension": ".py",
   "mimetype": "text/x-python",
   "name": "python",
   "nbconvert_exporter": "python",
   "pygments_lexer": "ipython3",
   "version": "3.10.9"
  },
  "papermill": {
   "default_parameters": {},
   "duration": 152.128604,
   "end_time": "2023-05-15T09:56:04.467513",
   "environment_variables": {},
   "exception": null,
   "input_path": "template.ipynb",
   "output_path": "SRR13329119.ipynb",
   "parameters": {
    "sample_name": "SRR13329119"
   },
   "start_time": "2023-05-15T09:53:32.338909",
   "version": "2.3.4"
  }
 },
 "nbformat": 4,
 "nbformat_minor": 5
}
