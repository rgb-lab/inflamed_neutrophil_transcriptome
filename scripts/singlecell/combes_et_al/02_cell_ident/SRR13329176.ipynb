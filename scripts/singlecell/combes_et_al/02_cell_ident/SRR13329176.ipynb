{
 "cells": [
  {
   "cell_type": "code",
   "execution_count": null,
   "id": "78a6243e-1906-4e3b-ae98-4b5bd21bd37c",
   "metadata": {
    "execution": {
     "iopub.execute_input": "2023-05-15T08:51:31.143632Z",
     "iopub.status.busy": "2023-05-15T08:51:31.143464Z",
     "iopub.status.idle": "2023-05-15T08:51:31.147834Z",
     "shell.execute_reply": "2023-05-15T08:51:31.147481Z"
    },
    "papermill": {
     "duration": 0.008266,
     "end_time": "2023-05-15T08:51:31.148804",
     "exception": false,
     "start_time": "2023-05-15T08:51:31.140538",
     "status": "completed"
    },
    "tags": [
     "parameters"
    ]
   },
   "outputs": [],
   "source": [
    "sample_name = \"SRR13329143\""
   ]
  },
  {
   "cell_type": "code",
   "execution_count": null,
   "id": "3010965c",
   "metadata": {
    "execution": {
     "iopub.execute_input": "2023-05-15T08:51:31.152314Z",
     "iopub.status.busy": "2023-05-15T08:51:31.152166Z",
     "iopub.status.idle": "2023-05-15T08:51:31.154201Z",
     "shell.execute_reply": "2023-05-15T08:51:31.153905Z"
    },
    "papermill": {
     "duration": 0.004943,
     "end_time": "2023-05-15T08:51:31.155285",
     "exception": false,
     "start_time": "2023-05-15T08:51:31.150342",
     "status": "completed"
    },
    "tags": [
     "injected-parameters"
    ]
   },
   "outputs": [],
   "source": [
    "# Parameters\n",
    "sample_name = \"SRR13329176\"\n"
   ]
  },
  {
   "cell_type": "code",
   "execution_count": null,
   "id": "487588d5-40a0-4c35-9cd9-ee9b3e2f1d4e",
   "metadata": {
    "execution": {
     "iopub.execute_input": "2023-05-15T08:51:31.158607Z",
     "iopub.status.busy": "2023-05-15T08:51:31.158488Z",
     "iopub.status.idle": "2023-05-15T08:51:31.160939Z",
     "shell.execute_reply": "2023-05-15T08:51:31.160649Z"
    },
    "papermill": {
     "duration": 0.005136,
     "end_time": "2023-05-15T08:51:31.161848",
     "exception": false,
     "start_time": "2023-05-15T08:51:31.156712",
     "status": "completed"
    },
    "tags": []
   },
   "outputs": [],
   "source": [
    "import warnings\n",
    "warnings.simplefilter(action='ignore', category=FutureWarning)\n",
    "warnings.simplefilter(action='ignore', category=UserWarning)"
   ]
  },
  {
   "cell_type": "code",
   "execution_count": null,
   "id": "5bba6a57-54cf-4720-8653-bf94afa536ad",
   "metadata": {
    "execution": {
     "iopub.execute_input": "2023-05-15T08:51:31.165339Z",
     "iopub.status.busy": "2023-05-15T08:51:31.165192Z",
     "iopub.status.idle": "2023-05-15T08:51:35.199233Z",
     "shell.execute_reply": "2023-05-15T08:51:35.198794Z"
    },
    "papermill": {
     "duration": 4.037284,
     "end_time": "2023-05-15T08:51:35.200655",
     "exception": false,
     "start_time": "2023-05-15T08:51:31.163371",
     "status": "completed"
    },
    "tags": []
   },
   "outputs": [],
   "source": [
    "import gc\n",
    "import scanpy as sc\n",
    "import muon as mu\n",
    "import seaborn as sns\n",
    "import os\n",
    "import pandas as pd\n",
    "from matplotlib import pyplot as plt\n",
    "\n",
    "os.environ['R_HOME'] = '/gpfs/bwfor/work/ws/hd_fu399-conda/conda/envs/python_R/lib/R/'\n",
    "import anndata2ri\n",
    "import logging\n",
    "\n",
    "import rpy2.rinterface_lib.callbacks as rcb\n",
    "import rpy2.robjects as ro\n",
    "\n",
    "rcb.logger.setLevel(logging.ERROR)\n",
    "ro.pandas2ri.activate()\n",
    "anndata2ri.activate()\n",
    "\n",
    "%load_ext rpy2.ipython"
   ]
  },
  {
   "cell_type": "code",
   "execution_count": null,
   "id": "0897f8ed-b086-4ddc-a32e-6ae638ff6d14",
   "metadata": {
    "execution": {
     "iopub.execute_input": "2023-05-15T08:51:35.205415Z",
     "iopub.status.busy": "2023-05-15T08:51:35.205113Z",
     "iopub.status.idle": "2023-05-15T08:51:42.175687Z",
     "shell.execute_reply": "2023-05-15T08:51:42.175155Z"
    },
    "papermill": {
     "duration": 6.974647,
     "end_time": "2023-05-15T08:51:42.177530",
     "exception": false,
     "start_time": "2023-05-15T08:51:35.202883",
     "status": "completed"
    },
    "tags": []
   },
   "outputs": [],
   "source": [
    "%%R\n",
    "\n",
    "suppressMessages(library(SeuratDisk))\n",
    "suppressMessages(library(SingleR))\n",
    "suppressMessages(library(Seurat))\n",
    "suppressMessages(library(SingleCellExperiment))\n",
    "suppressMessages(library(UCell))"
   ]
  },
  {
   "cell_type": "code",
   "execution_count": null,
   "id": "74c6b1b1-5af7-4955-a6cc-4532fc42a266",
   "metadata": {
    "execution": {
     "iopub.execute_input": "2023-05-15T08:51:42.184506Z",
     "iopub.status.busy": "2023-05-15T08:51:42.184328Z",
     "iopub.status.idle": "2023-05-15T08:51:42.554017Z",
     "shell.execute_reply": "2023-05-15T08:51:42.553529Z"
    },
    "papermill": {
     "duration": 0.373729,
     "end_time": "2023-05-15T08:51:42.555617",
     "exception": false,
     "start_time": "2023-05-15T08:51:42.181888",
     "status": "completed"
    },
    "tags": []
   },
   "outputs": [],
   "source": [
    "dataset = sc.read(f\"../../int_data/{sample_name}_qc.h5ad\")\n",
    "dataset.X = dataset.layers[\"soupX_counts\"]"
   ]
  },
  {
   "cell_type": "code",
   "execution_count": null,
   "id": "f2520f85-0ac2-4e0d-b7f1-e5b9ce4c769d",
   "metadata": {
    "execution": {
     "iopub.execute_input": "2023-05-15T08:51:42.560331Z",
     "iopub.status.busy": "2023-05-15T08:51:42.559958Z",
     "iopub.status.idle": "2023-05-15T08:51:42.568165Z",
     "shell.execute_reply": "2023-05-15T08:51:42.567818Z"
    },
    "papermill": {
     "duration": 0.011178,
     "end_time": "2023-05-15T08:51:42.568942",
     "exception": false,
     "start_time": "2023-05-15T08:51:42.557764",
     "status": "completed"
    },
    "tags": []
   },
   "outputs": [],
   "source": [
    "dataset.obs[[\"AvgSpotLen\", \"Bases\", \"Bytes\", \"version\"]] = dataset.obs[[\"AvgSpotLen\", \"Bases\", \"Bytes\", \"version\"]].astype(\"str\")"
   ]
  },
  {
   "cell_type": "code",
   "execution_count": null,
   "id": "99f95dca-cf68-4a51-8f53-ca088aa3167b",
   "metadata": {
    "execution": {
     "iopub.execute_input": "2023-05-15T08:51:42.572804Z",
     "iopub.status.busy": "2023-05-15T08:51:42.572593Z",
     "iopub.status.idle": "2023-05-15T08:51:49.323610Z",
     "shell.execute_reply": "2023-05-15T08:51:49.323135Z"
    },
    "papermill": {
     "duration": 6.754593,
     "end_time": "2023-05-15T08:51:49.325132",
     "exception": false,
     "start_time": "2023-05-15T08:51:42.570539",
     "status": "completed"
    },
    "tags": []
   },
   "outputs": [],
   "source": [
    "%%R -i dataset\n",
    "\n",
    "sce <- SingleCellExperiment(list(counts=dataset@assays@data[[\"soupX_counts\"]]),\n",
    "    colData=dataset@colData,\n",
    ")\n",
    "\n",
    "row.names(sce) <- row.names(dataset)\n",
    "\n",
    "data <- as.Seurat(sce, data = NULL)"
   ]
  },
  {
   "cell_type": "code",
   "execution_count": null,
   "id": "0b749876-ea5a-403c-8b0b-51afc8a633e3",
   "metadata": {
    "execution": {
     "iopub.execute_input": "2023-05-15T08:51:49.331941Z",
     "iopub.status.busy": "2023-05-15T08:51:49.331782Z",
     "iopub.status.idle": "2023-05-15T08:51:49.351233Z",
     "shell.execute_reply": "2023-05-15T08:51:49.350899Z"
    },
    "papermill": {
     "duration": 0.022824,
     "end_time": "2023-05-15T08:51:49.352001",
     "exception": false,
     "start_time": "2023-05-15T08:51:49.329177",
     "status": "completed"
    },
    "tags": []
   },
   "outputs": [],
   "source": [
    "%%R\n",
    "data"
   ]
  },
  {
   "cell_type": "code",
   "execution_count": null,
   "id": "b6b29b0e-92c4-4d4f-b835-c5e9d7d59455",
   "metadata": {
    "execution": {
     "iopub.execute_input": "2023-05-15T08:51:49.357244Z",
     "iopub.status.busy": "2023-05-15T08:51:49.357105Z",
     "iopub.status.idle": "2023-05-15T08:52:05.313695Z",
     "shell.execute_reply": "2023-05-15T08:52:05.313223Z"
    },
    "papermill": {
     "duration": 15.960978,
     "end_time": "2023-05-15T08:52:05.315308",
     "exception": false,
     "start_time": "2023-05-15T08:51:49.354330",
     "status": "completed"
    },
    "tags": []
   },
   "outputs": [],
   "source": [
    "%%R\n",
    "\n",
    "data <- NormalizeData(data)\n",
    "data <- ScaleData(data, features = row.names(data))\n",
    "data <- FindVariableFeatures(data)\n",
    "data <- RunPCA(data, verbose = F)\n",
    "data <- FindNeighbors(data, verbose = F)\n",
    "data <- FindClusters(data, verbose = F)\n",
    "data <- RunUMAP(data, dims = 1:20, verbose = F)"
   ]
  },
  {
   "cell_type": "code",
   "execution_count": null,
   "id": "40fa5cdd-01d7-4b40-90e6-0c97545b0711",
   "metadata": {
    "execution": {
     "iopub.execute_input": "2023-05-15T08:52:05.323041Z",
     "iopub.status.busy": "2023-05-15T08:52:05.322871Z",
     "iopub.status.idle": "2023-05-15T08:52:48.664789Z",
     "shell.execute_reply": "2023-05-15T08:52:48.664339Z"
    },
    "papermill": {
     "duration": 43.351688,
     "end_time": "2023-05-15T08:52:48.671630",
     "exception": false,
     "start_time": "2023-05-15T08:52:05.319942",
     "status": "completed"
    },
    "tags": []
   },
   "outputs": [],
   "source": [
    "%%R\n",
    "\n",
    "ref1 <- celldex::BlueprintEncodeData()\n",
    "ref2 <- celldex::MonacoImmuneData()\n",
    "cell_classification <- SingleR(test = as.SingleCellExperiment(data),\n",
    "                               ref = list(BPE = ref1, MON = ref2),\n",
    "                               labels = list(ref1$label.main, ref2$label.main))\n",
    "\n",
    "data[[\"SingleR_label\"]] <- cell_classification$labels\n",
    "\n",
    "plotScoreHeatmap(cell_classification)"
   ]
  },
  {
   "cell_type": "code",
   "execution_count": null,
   "id": "6ad7cf2f-891f-4c05-b34d-e47c84bbe27b",
   "metadata": {
    "execution": {
     "iopub.execute_input": "2023-05-15T08:52:48.678843Z",
     "iopub.status.busy": "2023-05-15T08:52:48.678692Z",
     "iopub.status.idle": "2023-05-15T08:52:48.746567Z",
     "shell.execute_reply": "2023-05-15T08:52:48.746191Z"
    },
    "papermill": {
     "duration": 0.072822,
     "end_time": "2023-05-15T08:52:48.747667",
     "exception": false,
     "start_time": "2023-05-15T08:52:48.674845",
     "status": "completed"
    },
    "tags": []
   },
   "outputs": [],
   "source": [
    "%%R -i sample_name\n",
    "\n",
    "write.csv(data@meta.data, paste0(sample_name, \"_metadata.csv\"))"
   ]
  }
 ],
 "metadata": {
  "kernelspec": {
   "display_name": "py_R",
   "language": "python",
   "name": "python_r"
  },
  "language_info": {
   "codemirror_mode": {
    "name": "ipython",
    "version": 3
   },
   "file_extension": ".py",
   "mimetype": "text/x-python",
   "name": "python",
   "nbconvert_exporter": "python",
   "pygments_lexer": "ipython3",
   "version": "3.10.9"
  },
  "papermill": {
   "default_parameters": {},
   "duration": 79.655721,
   "end_time": "2023-05-15T08:52:49.969371",
   "environment_variables": {},
   "exception": null,
   "input_path": "template.ipynb",
   "output_path": "SRR13329176.ipynb",
   "parameters": {
    "sample_name": "SRR13329176"
   },
   "start_time": "2023-05-15T08:51:30.313650",
   "version": "2.3.4"
  }
 },
 "nbformat": 4,
 "nbformat_minor": 5
}
