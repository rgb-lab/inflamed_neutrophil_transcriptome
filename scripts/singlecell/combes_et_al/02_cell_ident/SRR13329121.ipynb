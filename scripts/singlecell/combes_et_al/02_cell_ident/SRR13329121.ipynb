{
 "cells": [
  {
   "cell_type": "code",
   "execution_count": null,
   "id": "78a6243e-1906-4e3b-ae98-4b5bd21bd37c",
   "metadata": {
    "execution": {
     "iopub.execute_input": "2023-05-15T09:36:33.215035Z",
     "iopub.status.busy": "2023-05-15T09:36:33.214877Z",
     "iopub.status.idle": "2023-05-15T09:36:33.219917Z",
     "shell.execute_reply": "2023-05-15T09:36:33.219572Z"
    },
    "papermill": {
     "duration": 0.008328,
     "end_time": "2023-05-15T09:36:33.220830",
     "exception": false,
     "start_time": "2023-05-15T09:36:33.212502",
     "status": "completed"
    },
    "tags": [
     "parameters"
    ]
   },
   "outputs": [],
   "source": [
    "sample_name = \"SRR13329143\""
   ]
  },
  {
   "cell_type": "code",
   "execution_count": null,
   "id": "9fff024c",
   "metadata": {
    "execution": {
     "iopub.execute_input": "2023-05-15T09:36:33.224757Z",
     "iopub.status.busy": "2023-05-15T09:36:33.224284Z",
     "iopub.status.idle": "2023-05-15T09:36:33.226567Z",
     "shell.execute_reply": "2023-05-15T09:36:33.226254Z"
    },
    "papermill": {
     "duration": 0.004965,
     "end_time": "2023-05-15T09:36:33.227363",
     "exception": false,
     "start_time": "2023-05-15T09:36:33.222398",
     "status": "completed"
    },
    "tags": [
     "injected-parameters"
    ]
   },
   "outputs": [],
   "source": [
    "# Parameters\n",
    "sample_name = \"SRR13329121\"\n"
   ]
  },
  {
   "cell_type": "code",
   "execution_count": null,
   "id": "487588d5-40a0-4c35-9cd9-ee9b3e2f1d4e",
   "metadata": {
    "execution": {
     "iopub.execute_input": "2023-05-15T09:36:33.231056Z",
     "iopub.status.busy": "2023-05-15T09:36:33.230727Z",
     "iopub.status.idle": "2023-05-15T09:36:33.233184Z",
     "shell.execute_reply": "2023-05-15T09:36:33.232861Z"
    },
    "papermill": {
     "duration": 0.005132,
     "end_time": "2023-05-15T09:36:33.233953",
     "exception": false,
     "start_time": "2023-05-15T09:36:33.228821",
     "status": "completed"
    },
    "tags": []
   },
   "outputs": [],
   "source": [
    "import warnings\n",
    "warnings.simplefilter(action='ignore', category=FutureWarning)\n",
    "warnings.simplefilter(action='ignore', category=UserWarning)"
   ]
  },
  {
   "cell_type": "code",
   "execution_count": null,
   "id": "5bba6a57-54cf-4720-8653-bf94afa536ad",
   "metadata": {
    "execution": {
     "iopub.execute_input": "2023-05-15T09:36:33.237698Z",
     "iopub.status.busy": "2023-05-15T09:36:33.237342Z",
     "iopub.status.idle": "2023-05-15T09:36:38.248817Z",
     "shell.execute_reply": "2023-05-15T09:36:38.248324Z"
    },
    "papermill": {
     "duration": 5.014712,
     "end_time": "2023-05-15T09:36:38.250166",
     "exception": false,
     "start_time": "2023-05-15T09:36:33.235454",
     "status": "completed"
    },
    "tags": []
   },
   "outputs": [],
   "source": [
    "import gc\n",
    "import scanpy as sc\n",
    "import muon as mu\n",
    "import seaborn as sns\n",
    "import os\n",
    "import pandas as pd\n",
    "from matplotlib import pyplot as plt\n",
    "\n",
    "os.environ['R_HOME'] = '/gpfs/bwfor/work/ws/hd_fu399-conda/conda/envs/python_R/lib/R/'\n",
    "import anndata2ri\n",
    "import logging\n",
    "\n",
    "import rpy2.rinterface_lib.callbacks as rcb\n",
    "import rpy2.robjects as ro\n",
    "\n",
    "rcb.logger.setLevel(logging.ERROR)\n",
    "ro.pandas2ri.activate()\n",
    "anndata2ri.activate()\n",
    "\n",
    "%load_ext rpy2.ipython"
   ]
  },
  {
   "cell_type": "code",
   "execution_count": null,
   "id": "0897f8ed-b086-4ddc-a32e-6ae638ff6d14",
   "metadata": {
    "execution": {
     "iopub.execute_input": "2023-05-15T09:36:38.255524Z",
     "iopub.status.busy": "2023-05-15T09:36:38.255219Z",
     "iopub.status.idle": "2023-05-15T09:36:46.387076Z",
     "shell.execute_reply": "2023-05-15T09:36:46.386411Z"
    },
    "papermill": {
     "duration": 8.136054,
     "end_time": "2023-05-15T09:36:46.388705",
     "exception": false,
     "start_time": "2023-05-15T09:36:38.252651",
     "status": "completed"
    },
    "tags": []
   },
   "outputs": [],
   "source": [
    "%%R\n",
    "\n",
    "suppressMessages(library(SeuratDisk))\n",
    "suppressMessages(library(SingleR))\n",
    "suppressMessages(library(Seurat))\n",
    "suppressMessages(library(SingleCellExperiment))\n",
    "suppressMessages(library(UCell))"
   ]
  },
  {
   "cell_type": "code",
   "execution_count": null,
   "id": "74c6b1b1-5af7-4955-a6cc-4532fc42a266",
   "metadata": {
    "execution": {
     "iopub.execute_input": "2023-05-15T09:36:46.395281Z",
     "iopub.status.busy": "2023-05-15T09:36:46.395043Z",
     "iopub.status.idle": "2023-05-15T09:36:46.843250Z",
     "shell.execute_reply": "2023-05-15T09:36:46.842771Z"
    },
    "papermill": {
     "duration": 0.452021,
     "end_time": "2023-05-15T09:36:46.844655",
     "exception": false,
     "start_time": "2023-05-15T09:36:46.392634",
     "status": "completed"
    },
    "tags": []
   },
   "outputs": [],
   "source": [
    "dataset = sc.read(f\"../../int_data/{sample_name}_qc.h5ad\")\n",
    "dataset.X = dataset.layers[\"soupX_counts\"]"
   ]
  },
  {
   "cell_type": "code",
   "execution_count": null,
   "id": "f2520f85-0ac2-4e0d-b7f1-e5b9ce4c769d",
   "metadata": {
    "execution": {
     "iopub.execute_input": "2023-05-15T09:36:46.849554Z",
     "iopub.status.busy": "2023-05-15T09:36:46.849199Z",
     "iopub.status.idle": "2023-05-15T09:36:46.856264Z",
     "shell.execute_reply": "2023-05-15T09:36:46.855921Z"
    },
    "papermill": {
     "duration": 0.010058,
     "end_time": "2023-05-15T09:36:46.857069",
     "exception": false,
     "start_time": "2023-05-15T09:36:46.847011",
     "status": "completed"
    },
    "tags": []
   },
   "outputs": [],
   "source": [
    "dataset.obs[[\"AvgSpotLen\", \"Bases\", \"Bytes\", \"version\"]] = dataset.obs[[\"AvgSpotLen\", \"Bases\", \"Bytes\", \"version\"]].astype(\"str\")"
   ]
  },
  {
   "cell_type": "code",
   "execution_count": null,
   "id": "99f95dca-cf68-4a51-8f53-ca088aa3167b",
   "metadata": {
    "execution": {
     "iopub.execute_input": "2023-05-15T09:36:46.861032Z",
     "iopub.status.busy": "2023-05-15T09:36:46.860846Z",
     "iopub.status.idle": "2023-05-15T09:36:54.455220Z",
     "shell.execute_reply": "2023-05-15T09:36:54.454633Z"
    },
    "papermill": {
     "duration": 7.597834,
     "end_time": "2023-05-15T09:36:54.456556",
     "exception": false,
     "start_time": "2023-05-15T09:36:46.858722",
     "status": "completed"
    },
    "tags": []
   },
   "outputs": [],
   "source": [
    "%%R -i dataset\n",
    "\n",
    "sce <- SingleCellExperiment(list(counts=dataset@assays@data[[\"soupX_counts\"]]),\n",
    "    colData=dataset@colData,\n",
    ")\n",
    "\n",
    "row.names(sce) <- row.names(dataset)\n",
    "\n",
    "data <- as.Seurat(sce, data = NULL)"
   ]
  },
  {
   "cell_type": "code",
   "execution_count": null,
   "id": "0b749876-ea5a-403c-8b0b-51afc8a633e3",
   "metadata": {
    "execution": {
     "iopub.execute_input": "2023-05-15T09:36:54.463095Z",
     "iopub.status.busy": "2023-05-15T09:36:54.462895Z",
     "iopub.status.idle": "2023-05-15T09:36:54.483249Z",
     "shell.execute_reply": "2023-05-15T09:36:54.482894Z"
    },
    "papermill": {
     "duration": 0.023621,
     "end_time": "2023-05-15T09:36:54.484017",
     "exception": false,
     "start_time": "2023-05-15T09:36:54.460396",
     "status": "completed"
    },
    "tags": []
   },
   "outputs": [],
   "source": [
    "%%R\n",
    "data"
   ]
  },
  {
   "cell_type": "code",
   "execution_count": null,
   "id": "b6b29b0e-92c4-4d4f-b835-c5e9d7d59455",
   "metadata": {
    "execution": {
     "iopub.execute_input": "2023-05-15T09:36:54.489554Z",
     "iopub.status.busy": "2023-05-15T09:36:54.489255Z",
     "iopub.status.idle": "2023-05-15T09:37:06.873590Z",
     "shell.execute_reply": "2023-05-15T09:37:06.872967Z"
    },
    "papermill": {
     "duration": 12.388591,
     "end_time": "2023-05-15T09:37:06.875027",
     "exception": false,
     "start_time": "2023-05-15T09:36:54.486436",
     "status": "completed"
    },
    "tags": []
   },
   "outputs": [],
   "source": [
    "%%R\n",
    "\n",
    "data <- NormalizeData(data)\n",
    "data <- ScaleData(data, features = row.names(data))\n",
    "data <- FindVariableFeatures(data)\n",
    "data <- RunPCA(data, verbose = F)\n",
    "data <- FindNeighbors(data, verbose = F)\n",
    "data <- FindClusters(data, verbose = F)\n",
    "data <- RunUMAP(data, dims = 1:20, verbose = F)"
   ]
  },
  {
   "cell_type": "code",
   "execution_count": null,
   "id": "40fa5cdd-01d7-4b40-90e6-0c97545b0711",
   "metadata": {
    "execution": {
     "iopub.execute_input": "2023-05-15T09:37:06.883552Z",
     "iopub.status.busy": "2023-05-15T09:37:06.883217Z",
     "iopub.status.idle": "2023-05-15T09:37:30.261657Z",
     "shell.execute_reply": "2023-05-15T09:37:30.261205Z"
    },
    "papermill": {
     "duration": 23.382684,
     "end_time": "2023-05-15T09:37:30.262565",
     "exception": false,
     "start_time": "2023-05-15T09:37:06.879881",
     "status": "completed"
    },
    "tags": []
   },
   "outputs": [],
   "source": [
    "%%R\n",
    "\n",
    "ref1 <- celldex::BlueprintEncodeData()\n",
    "ref2 <- celldex::MonacoImmuneData()\n",
    "cell_classification <- SingleR(test = as.SingleCellExperiment(data),\n",
    "                               ref = list(BPE = ref1, MON = ref2),\n",
    "                               labels = list(ref1$label.main, ref2$label.main))\n",
    "\n",
    "data[[\"SingleR_label\"]] <- cell_classification$labels\n",
    "\n",
    "plotScoreHeatmap(cell_classification)"
   ]
  },
  {
   "cell_type": "code",
   "execution_count": null,
   "id": "6ad7cf2f-891f-4c05-b34d-e47c84bbe27b",
   "metadata": {
    "execution": {
     "iopub.execute_input": "2023-05-15T09:37:30.272055Z",
     "iopub.status.busy": "2023-05-15T09:37:30.271716Z",
     "iopub.status.idle": "2023-05-15T09:37:30.705335Z",
     "shell.execute_reply": "2023-05-15T09:37:30.704896Z"
    },
    "papermill": {
     "duration": 0.43856,
     "end_time": "2023-05-15T09:37:30.706520",
     "exception": false,
     "start_time": "2023-05-15T09:37:30.267960",
     "status": "completed"
    },
    "tags": []
   },
   "outputs": [],
   "source": [
    "%%R -i sample_name\n",
    "\n",
    "write.csv(data@meta.data, paste0(sample_name, \"_metadata.csv\"))"
   ]
  }
 ],
 "metadata": {
  "kernelspec": {
   "display_name": "py_R",
   "language": "python",
   "name": "python_r"
  },
  "language_info": {
   "codemirror_mode": {
    "name": "ipython",
    "version": 3
   },
   "file_extension": ".py",
   "mimetype": "text/x-python",
   "name": "python",
   "nbconvert_exporter": "python",
   "pygments_lexer": "ipython3",
   "version": "3.10.9"
  },
  "papermill": {
   "default_parameters": {},
   "duration": 59.869858,
   "end_time": "2023-05-15T09:37:32.030294",
   "environment_variables": {},
   "exception": null,
   "input_path": "template.ipynb",
   "output_path": "SRR13329121.ipynb",
   "parameters": {
    "sample_name": "SRR13329121"
   },
   "start_time": "2023-05-15T09:36:32.160436",
   "version": "2.3.4"
  }
 },
 "nbformat": 4,
 "nbformat_minor": 5
}
