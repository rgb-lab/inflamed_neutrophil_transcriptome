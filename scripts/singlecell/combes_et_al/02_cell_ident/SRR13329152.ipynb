{
 "cells": [
  {
   "cell_type": "code",
   "execution_count": null,
   "id": "78a6243e-1906-4e3b-ae98-4b5bd21bd37c",
   "metadata": {
    "execution": {
     "iopub.execute_input": "2023-05-15T08:49:18.719884Z",
     "iopub.status.busy": "2023-05-15T08:49:18.719708Z",
     "iopub.status.idle": "2023-05-15T08:49:18.724708Z",
     "shell.execute_reply": "2023-05-15T08:49:18.724305Z"
    },
    "papermill": {
     "duration": 0.008522,
     "end_time": "2023-05-15T08:49:18.725671",
     "exception": false,
     "start_time": "2023-05-15T08:49:18.717149",
     "status": "completed"
    },
    "tags": [
     "parameters"
    ]
   },
   "outputs": [],
   "source": [
    "sample_name = \"SRR13329143\""
   ]
  },
  {
   "cell_type": "code",
   "execution_count": null,
   "id": "d39ae7a5",
   "metadata": {
    "execution": {
     "iopub.execute_input": "2023-05-15T08:49:18.729133Z",
     "iopub.status.busy": "2023-05-15T08:49:18.729009Z",
     "iopub.status.idle": "2023-05-15T08:49:18.731287Z",
     "shell.execute_reply": "2023-05-15T08:49:18.730975Z"
    },
    "papermill": {
     "duration": 0.004941,
     "end_time": "2023-05-15T08:49:18.732146",
     "exception": false,
     "start_time": "2023-05-15T08:49:18.727205",
     "status": "completed"
    },
    "tags": [
     "injected-parameters"
    ]
   },
   "outputs": [],
   "source": [
    "# Parameters\n",
    "sample_name = \"SRR13329152\"\n"
   ]
  },
  {
   "cell_type": "code",
   "execution_count": null,
   "id": "487588d5-40a0-4c35-9cd9-ee9b3e2f1d4e",
   "metadata": {
    "execution": {
     "iopub.execute_input": "2023-05-15T08:49:18.735728Z",
     "iopub.status.busy": "2023-05-15T08:49:18.735606Z",
     "iopub.status.idle": "2023-05-15T08:49:18.737958Z",
     "shell.execute_reply": "2023-05-15T08:49:18.737634Z"
    },
    "papermill": {
     "duration": 0.00527,
     "end_time": "2023-05-15T08:49:18.738809",
     "exception": false,
     "start_time": "2023-05-15T08:49:18.733539",
     "status": "completed"
    },
    "tags": []
   },
   "outputs": [],
   "source": [
    "import warnings\n",
    "warnings.simplefilter(action='ignore', category=FutureWarning)\n",
    "warnings.simplefilter(action='ignore', category=UserWarning)"
   ]
  },
  {
   "cell_type": "code",
   "execution_count": null,
   "id": "5bba6a57-54cf-4720-8653-bf94afa536ad",
   "metadata": {
    "execution": {
     "iopub.execute_input": "2023-05-15T08:49:18.742175Z",
     "iopub.status.busy": "2023-05-15T08:49:18.742054Z",
     "iopub.status.idle": "2023-05-15T08:49:23.298826Z",
     "shell.execute_reply": "2023-05-15T08:49:23.298250Z"
    },
    "papermill": {
     "duration": 4.560349,
     "end_time": "2023-05-15T08:49:23.300592",
     "exception": false,
     "start_time": "2023-05-15T08:49:18.740243",
     "status": "completed"
    },
    "tags": []
   },
   "outputs": [],
   "source": [
    "import gc\n",
    "import scanpy as sc\n",
    "import muon as mu\n",
    "import seaborn as sns\n",
    "import os\n",
    "import pandas as pd\n",
    "from matplotlib import pyplot as plt\n",
    "\n",
    "os.environ['R_HOME'] = '/gpfs/bwfor/work/ws/hd_fu399-conda/conda/envs/python_R/lib/R/'\n",
    "import anndata2ri\n",
    "import logging\n",
    "\n",
    "import rpy2.rinterface_lib.callbacks as rcb\n",
    "import rpy2.robjects as ro\n",
    "\n",
    "rcb.logger.setLevel(logging.ERROR)\n",
    "ro.pandas2ri.activate()\n",
    "anndata2ri.activate()\n",
    "\n",
    "%load_ext rpy2.ipython"
   ]
  },
  {
   "cell_type": "code",
   "execution_count": null,
   "id": "0897f8ed-b086-4ddc-a32e-6ae638ff6d14",
   "metadata": {
    "execution": {
     "iopub.execute_input": "2023-05-15T08:49:23.305909Z",
     "iopub.status.busy": "2023-05-15T08:49:23.305415Z",
     "iopub.status.idle": "2023-05-15T08:49:30.899226Z",
     "shell.execute_reply": "2023-05-15T08:49:30.898629Z"
    },
    "papermill": {
     "duration": 7.597928,
     "end_time": "2023-05-15T08:49:30.900915",
     "exception": false,
     "start_time": "2023-05-15T08:49:23.302987",
     "status": "completed"
    },
    "tags": []
   },
   "outputs": [],
   "source": [
    "%%R\n",
    "\n",
    "suppressMessages(library(SeuratDisk))\n",
    "suppressMessages(library(SingleR))\n",
    "suppressMessages(library(Seurat))\n",
    "suppressMessages(library(SingleCellExperiment))\n",
    "suppressMessages(library(UCell))"
   ]
  },
  {
   "cell_type": "code",
   "execution_count": null,
   "id": "74c6b1b1-5af7-4955-a6cc-4532fc42a266",
   "metadata": {
    "execution": {
     "iopub.execute_input": "2023-05-15T08:49:30.907453Z",
     "iopub.status.busy": "2023-05-15T08:49:30.907288Z",
     "iopub.status.idle": "2023-05-15T08:49:31.135076Z",
     "shell.execute_reply": "2023-05-15T08:49:31.134578Z"
    },
    "papermill": {
     "duration": 0.231794,
     "end_time": "2023-05-15T08:49:31.136770",
     "exception": false,
     "start_time": "2023-05-15T08:49:30.904976",
     "status": "completed"
    },
    "tags": []
   },
   "outputs": [],
   "source": [
    "dataset = sc.read(f\"../../int_data/{sample_name}_qc.h5ad\")\n",
    "dataset.X = dataset.layers[\"soupX_counts\"]"
   ]
  },
  {
   "cell_type": "code",
   "execution_count": null,
   "id": "f2520f85-0ac2-4e0d-b7f1-e5b9ce4c769d",
   "metadata": {
    "execution": {
     "iopub.execute_input": "2023-05-15T08:49:31.141099Z",
     "iopub.status.busy": "2023-05-15T08:49:31.140880Z",
     "iopub.status.idle": "2023-05-15T08:49:31.150893Z",
     "shell.execute_reply": "2023-05-15T08:49:31.150234Z"
    },
    "papermill": {
     "duration": 0.013193,
     "end_time": "2023-05-15T08:49:31.151859",
     "exception": false,
     "start_time": "2023-05-15T08:49:31.138666",
     "status": "completed"
    },
    "tags": []
   },
   "outputs": [],
   "source": [
    "dataset.obs[[\"AvgSpotLen\", \"Bases\", \"Bytes\", \"version\"]] = dataset.obs[[\"AvgSpotLen\", \"Bases\", \"Bytes\", \"version\"]].astype(\"str\")"
   ]
  },
  {
   "cell_type": "code",
   "execution_count": null,
   "id": "99f95dca-cf68-4a51-8f53-ca088aa3167b",
   "metadata": {
    "execution": {
     "iopub.execute_input": "2023-05-15T08:49:31.156113Z",
     "iopub.status.busy": "2023-05-15T08:49:31.155934Z",
     "iopub.status.idle": "2023-05-15T08:49:37.322886Z",
     "shell.execute_reply": "2023-05-15T08:49:37.322369Z"
    },
    "papermill": {
     "duration": 6.171106,
     "end_time": "2023-05-15T08:49:37.324590",
     "exception": false,
     "start_time": "2023-05-15T08:49:31.153484",
     "status": "completed"
    },
    "tags": []
   },
   "outputs": [],
   "source": [
    "%%R -i dataset\n",
    "\n",
    "sce <- SingleCellExperiment(list(counts=dataset@assays@data[[\"soupX_counts\"]]),\n",
    "    colData=dataset@colData,\n",
    ")\n",
    "\n",
    "row.names(sce) <- row.names(dataset)\n",
    "\n",
    "data <- as.Seurat(sce, data = NULL)"
   ]
  },
  {
   "cell_type": "code",
   "execution_count": null,
   "id": "0b749876-ea5a-403c-8b0b-51afc8a633e3",
   "metadata": {
    "execution": {
     "iopub.execute_input": "2023-05-15T08:49:37.329673Z",
     "iopub.status.busy": "2023-05-15T08:49:37.329454Z",
     "iopub.status.idle": "2023-05-15T08:49:37.354196Z",
     "shell.execute_reply": "2023-05-15T08:49:37.353553Z"
    },
    "papermill": {
     "duration": 0.028088,
     "end_time": "2023-05-15T08:49:37.355128",
     "exception": false,
     "start_time": "2023-05-15T08:49:37.327040",
     "status": "completed"
    },
    "tags": []
   },
   "outputs": [],
   "source": [
    "%%R\n",
    "data"
   ]
  },
  {
   "cell_type": "code",
   "execution_count": null,
   "id": "b6b29b0e-92c4-4d4f-b835-c5e9d7d59455",
   "metadata": {
    "execution": {
     "iopub.execute_input": "2023-05-15T08:49:37.360560Z",
     "iopub.status.busy": "2023-05-15T08:49:37.360409Z",
     "iopub.status.idle": "2023-05-15T08:49:54.293677Z",
     "shell.execute_reply": "2023-05-15T08:49:54.293115Z"
    },
    "papermill": {
     "duration": 16.937992,
     "end_time": "2023-05-15T08:49:54.295583",
     "exception": false,
     "start_time": "2023-05-15T08:49:37.357591",
     "status": "completed"
    },
    "tags": []
   },
   "outputs": [],
   "source": [
    "%%R\n",
    "\n",
    "data <- NormalizeData(data)\n",
    "data <- ScaleData(data, features = row.names(data))\n",
    "data <- FindVariableFeatures(data)\n",
    "data <- RunPCA(data, verbose = F)\n",
    "data <- FindNeighbors(data, verbose = F)\n",
    "data <- FindClusters(data, verbose = F)\n",
    "data <- RunUMAP(data, dims = 1:20, verbose = F)"
   ]
  },
  {
   "cell_type": "code",
   "execution_count": null,
   "id": "40fa5cdd-01d7-4b40-90e6-0c97545b0711",
   "metadata": {
    "execution": {
     "iopub.execute_input": "2023-05-15T08:49:54.303691Z",
     "iopub.status.busy": "2023-05-15T08:49:54.303516Z",
     "iopub.status.idle": "2023-05-15T08:50:23.687823Z",
     "shell.execute_reply": "2023-05-15T08:50:23.687335Z"
    },
    "papermill": {
     "duration": 29.388591,
     "end_time": "2023-05-15T08:50:23.688887",
     "exception": false,
     "start_time": "2023-05-15T08:49:54.300296",
     "status": "completed"
    },
    "tags": []
   },
   "outputs": [],
   "source": [
    "%%R\n",
    "\n",
    "ref1 <- celldex::BlueprintEncodeData()\n",
    "ref2 <- celldex::MonacoImmuneData()\n",
    "cell_classification <- SingleR(test = as.SingleCellExperiment(data),\n",
    "                               ref = list(BPE = ref1, MON = ref2),\n",
    "                               labels = list(ref1$label.main, ref2$label.main))\n",
    "\n",
    "data[[\"SingleR_label\"]] <- cell_classification$labels\n",
    "\n",
    "plotScoreHeatmap(cell_classification)"
   ]
  },
  {
   "cell_type": "code",
   "execution_count": null,
   "id": "6ad7cf2f-891f-4c05-b34d-e47c84bbe27b",
   "metadata": {
    "execution": {
     "iopub.execute_input": "2023-05-15T08:50:23.700959Z",
     "iopub.status.busy": "2023-05-15T08:50:23.700811Z",
     "iopub.status.idle": "2023-05-15T08:50:23.775259Z",
     "shell.execute_reply": "2023-05-15T08:50:23.774341Z"
    },
    "papermill": {
     "duration": 0.079356,
     "end_time": "2023-05-15T08:50:23.776530",
     "exception": false,
     "start_time": "2023-05-15T08:50:23.697174",
     "status": "completed"
    },
    "tags": []
   },
   "outputs": [],
   "source": [
    "%%R -i sample_name\n",
    "\n",
    "write.csv(data@meta.data, paste0(sample_name, \"_metadata.csv\"))"
   ]
  }
 ],
 "metadata": {
  "kernelspec": {
   "display_name": "py_R",
   "language": "python",
   "name": "python_r"
  },
  "language_info": {
   "codemirror_mode": {
    "name": "ipython",
    "version": 3
   },
   "file_extension": ".py",
   "mimetype": "text/x-python",
   "name": "python",
   "nbconvert_exporter": "python",
   "pygments_lexer": "ipython3",
   "version": "3.10.9"
  },
  "papermill": {
   "default_parameters": {},
   "duration": 67.584071,
   "end_time": "2023-05-15T08:50:25.299214",
   "environment_variables": {},
   "exception": null,
   "input_path": "template.ipynb",
   "output_path": "SRR13329152.ipynb",
   "parameters": {
    "sample_name": "SRR13329152"
   },
   "start_time": "2023-05-15T08:49:17.715143",
   "version": "2.3.4"
  }
 },
 "nbformat": 4,
 "nbformat_minor": 5
}
