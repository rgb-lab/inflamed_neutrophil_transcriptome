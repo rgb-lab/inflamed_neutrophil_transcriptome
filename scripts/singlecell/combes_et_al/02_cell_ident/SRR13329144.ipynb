{
 "cells": [
  {
   "cell_type": "code",
   "execution_count": null,
   "id": "78a6243e-1906-4e3b-ae98-4b5bd21bd37c",
   "metadata": {
    "execution": {
     "iopub.execute_input": "2023-05-15T09:10:51.645164Z",
     "iopub.status.busy": "2023-05-15T09:10:51.644986Z",
     "iopub.status.idle": "2023-05-15T09:10:51.649581Z",
     "shell.execute_reply": "2023-05-15T09:10:51.649270Z"
    },
    "papermill": {
     "duration": 0.008741,
     "end_time": "2023-05-15T09:10:51.650441",
     "exception": false,
     "start_time": "2023-05-15T09:10:51.641700",
     "status": "completed"
    },
    "tags": [
     "parameters"
    ]
   },
   "outputs": [],
   "source": [
    "sample_name = \"SRR13329143\""
   ]
  },
  {
   "cell_type": "code",
   "execution_count": null,
   "id": "cb15e218",
   "metadata": {
    "execution": {
     "iopub.execute_input": "2023-05-15T09:10:51.653996Z",
     "iopub.status.busy": "2023-05-15T09:10:51.653803Z",
     "iopub.status.idle": "2023-05-15T09:10:51.655788Z",
     "shell.execute_reply": "2023-05-15T09:10:51.655479Z"
    },
    "papermill": {
     "duration": 0.004536,
     "end_time": "2023-05-15T09:10:51.656543",
     "exception": false,
     "start_time": "2023-05-15T09:10:51.652007",
     "status": "completed"
    },
    "tags": [
     "injected-parameters"
    ]
   },
   "outputs": [],
   "source": [
    "# Parameters\n",
    "sample_name = \"SRR13329144\"\n"
   ]
  },
  {
   "cell_type": "code",
   "execution_count": null,
   "id": "487588d5-40a0-4c35-9cd9-ee9b3e2f1d4e",
   "metadata": {
    "execution": {
     "iopub.execute_input": "2023-05-15T09:10:51.659958Z",
     "iopub.status.busy": "2023-05-15T09:10:51.659768Z",
     "iopub.status.idle": "2023-05-15T09:10:51.661959Z",
     "shell.execute_reply": "2023-05-15T09:10:51.661664Z"
    },
    "papermill": {
     "duration": 0.004758,
     "end_time": "2023-05-15T09:10:51.662730",
     "exception": false,
     "start_time": "2023-05-15T09:10:51.657972",
     "status": "completed"
    },
    "tags": []
   },
   "outputs": [],
   "source": [
    "import warnings\n",
    "warnings.simplefilter(action='ignore', category=FutureWarning)\n",
    "warnings.simplefilter(action='ignore', category=UserWarning)"
   ]
  },
  {
   "cell_type": "code",
   "execution_count": null,
   "id": "5bba6a57-54cf-4720-8653-bf94afa536ad",
   "metadata": {
    "execution": {
     "iopub.execute_input": "2023-05-15T09:10:51.666250Z",
     "iopub.status.busy": "2023-05-15T09:10:51.665969Z",
     "iopub.status.idle": "2023-05-15T09:10:55.802006Z",
     "shell.execute_reply": "2023-05-15T09:10:55.801434Z"
    },
    "papermill": {
     "duration": 4.139353,
     "end_time": "2023-05-15T09:10:55.803508",
     "exception": false,
     "start_time": "2023-05-15T09:10:51.664155",
     "status": "completed"
    },
    "tags": []
   },
   "outputs": [],
   "source": [
    "import gc\n",
    "import scanpy as sc\n",
    "import muon as mu\n",
    "import seaborn as sns\n",
    "import os\n",
    "import pandas as pd\n",
    "from matplotlib import pyplot as plt\n",
    "\n",
    "os.environ['R_HOME'] = '/gpfs/bwfor/work/ws/hd_fu399-conda/conda/envs/python_R/lib/R/'\n",
    "import anndata2ri\n",
    "import logging\n",
    "\n",
    "import rpy2.rinterface_lib.callbacks as rcb\n",
    "import rpy2.robjects as ro\n",
    "\n",
    "rcb.logger.setLevel(logging.ERROR)\n",
    "ro.pandas2ri.activate()\n",
    "anndata2ri.activate()\n",
    "\n",
    "%load_ext rpy2.ipython"
   ]
  },
  {
   "cell_type": "code",
   "execution_count": null,
   "id": "0897f8ed-b086-4ddc-a32e-6ae638ff6d14",
   "metadata": {
    "execution": {
     "iopub.execute_input": "2023-05-15T09:10:55.811646Z",
     "iopub.status.busy": "2023-05-15T09:10:55.811318Z",
     "iopub.status.idle": "2023-05-15T09:11:02.885606Z",
     "shell.execute_reply": "2023-05-15T09:11:02.885127Z"
    },
    "papermill": {
     "duration": 7.078857,
     "end_time": "2023-05-15T09:11:02.887190",
     "exception": false,
     "start_time": "2023-05-15T09:10:55.808333",
     "status": "completed"
    },
    "tags": []
   },
   "outputs": [],
   "source": [
    "%%R\n",
    "\n",
    "suppressMessages(library(SeuratDisk))\n",
    "suppressMessages(library(SingleR))\n",
    "suppressMessages(library(Seurat))\n",
    "suppressMessages(library(SingleCellExperiment))\n",
    "suppressMessages(library(UCell))"
   ]
  },
  {
   "cell_type": "code",
   "execution_count": null,
   "id": "74c6b1b1-5af7-4955-a6cc-4532fc42a266",
   "metadata": {
    "execution": {
     "iopub.execute_input": "2023-05-15T09:11:02.893773Z",
     "iopub.status.busy": "2023-05-15T09:11:02.893578Z",
     "iopub.status.idle": "2023-05-15T09:11:03.270801Z",
     "shell.execute_reply": "2023-05-15T09:11:03.270392Z"
    },
    "papermill": {
     "duration": 0.381038,
     "end_time": "2023-05-15T09:11:03.272295",
     "exception": false,
     "start_time": "2023-05-15T09:11:02.891257",
     "status": "completed"
    },
    "tags": []
   },
   "outputs": [],
   "source": [
    "dataset = sc.read(f\"../../int_data/{sample_name}_qc.h5ad\")\n",
    "dataset.X = dataset.layers[\"soupX_counts\"]"
   ]
  },
  {
   "cell_type": "code",
   "execution_count": null,
   "id": "f2520f85-0ac2-4e0d-b7f1-e5b9ce4c769d",
   "metadata": {
    "execution": {
     "iopub.execute_input": "2023-05-15T09:11:03.277118Z",
     "iopub.status.busy": "2023-05-15T09:11:03.276911Z",
     "iopub.status.idle": "2023-05-15T09:11:03.285686Z",
     "shell.execute_reply": "2023-05-15T09:11:03.285357Z"
    },
    "papermill": {
     "duration": 0.011932,
     "end_time": "2023-05-15T09:11:03.286482",
     "exception": false,
     "start_time": "2023-05-15T09:11:03.274550",
     "status": "completed"
    },
    "tags": []
   },
   "outputs": [],
   "source": [
    "dataset.obs[[\"AvgSpotLen\", \"Bases\", \"Bytes\", \"version\"]] = dataset.obs[[\"AvgSpotLen\", \"Bases\", \"Bytes\", \"version\"]].astype(\"str\")"
   ]
  },
  {
   "cell_type": "code",
   "execution_count": null,
   "id": "99f95dca-cf68-4a51-8f53-ca088aa3167b",
   "metadata": {
    "execution": {
     "iopub.execute_input": "2023-05-15T09:11:03.290336Z",
     "iopub.status.busy": "2023-05-15T09:11:03.290146Z",
     "iopub.status.idle": "2023-05-15T09:11:09.995910Z",
     "shell.execute_reply": "2023-05-15T09:11:09.995287Z"
    },
    "papermill": {
     "duration": 6.709326,
     "end_time": "2023-05-15T09:11:09.997402",
     "exception": false,
     "start_time": "2023-05-15T09:11:03.288076",
     "status": "completed"
    },
    "tags": []
   },
   "outputs": [],
   "source": [
    "%%R -i dataset\n",
    "\n",
    "sce <- SingleCellExperiment(list(counts=dataset@assays@data[[\"soupX_counts\"]]),\n",
    "    colData=dataset@colData,\n",
    ")\n",
    "\n",
    "row.names(sce) <- row.names(dataset)\n",
    "\n",
    "data <- as.Seurat(sce, data = NULL)"
   ]
  },
  {
   "cell_type": "code",
   "execution_count": null,
   "id": "0b749876-ea5a-403c-8b0b-51afc8a633e3",
   "metadata": {
    "execution": {
     "iopub.execute_input": "2023-05-15T09:11:10.004424Z",
     "iopub.status.busy": "2023-05-15T09:11:10.004234Z",
     "iopub.status.idle": "2023-05-15T09:11:10.024640Z",
     "shell.execute_reply": "2023-05-15T09:11:10.024310Z"
    },
    "papermill": {
     "duration": 0.023678,
     "end_time": "2023-05-15T09:11:10.025466",
     "exception": false,
     "start_time": "2023-05-15T09:11:10.001788",
     "status": "completed"
    },
    "tags": []
   },
   "outputs": [],
   "source": [
    "%%R\n",
    "data"
   ]
  },
  {
   "cell_type": "code",
   "execution_count": null,
   "id": "b6b29b0e-92c4-4d4f-b835-c5e9d7d59455",
   "metadata": {
    "execution": {
     "iopub.execute_input": "2023-05-15T09:11:10.030908Z",
     "iopub.status.busy": "2023-05-15T09:11:10.030734Z",
     "iopub.status.idle": "2023-05-15T09:11:27.346008Z",
     "shell.execute_reply": "2023-05-15T09:11:27.345498Z"
    },
    "papermill": {
     "duration": 17.319581,
     "end_time": "2023-05-15T09:11:27.347554",
     "exception": false,
     "start_time": "2023-05-15T09:11:10.027973",
     "status": "completed"
    },
    "tags": []
   },
   "outputs": [],
   "source": [
    "%%R\n",
    "\n",
    "data <- NormalizeData(data)\n",
    "data <- ScaleData(data, features = row.names(data))\n",
    "data <- FindVariableFeatures(data)\n",
    "data <- RunPCA(data, verbose = F)\n",
    "data <- FindNeighbors(data, verbose = F)\n",
    "data <- FindClusters(data, verbose = F)\n",
    "data <- RunUMAP(data, dims = 1:20, verbose = F)"
   ]
  },
  {
   "cell_type": "code",
   "execution_count": null,
   "id": "40fa5cdd-01d7-4b40-90e6-0c97545b0711",
   "metadata": {
    "execution": {
     "iopub.execute_input": "2023-05-15T09:11:27.355986Z",
     "iopub.status.busy": "2023-05-15T09:11:27.355802Z",
     "iopub.status.idle": "2023-05-15T09:11:56.318868Z",
     "shell.execute_reply": "2023-05-15T09:11:56.318478Z"
    },
    "papermill": {
     "duration": 28.967505,
     "end_time": "2023-05-15T09:11:56.319819",
     "exception": false,
     "start_time": "2023-05-15T09:11:27.352314",
     "status": "completed"
    },
    "tags": []
   },
   "outputs": [],
   "source": [
    "%%R\n",
    "\n",
    "ref1 <- celldex::BlueprintEncodeData()\n",
    "ref2 <- celldex::MonacoImmuneData()\n",
    "cell_classification <- SingleR(test = as.SingleCellExperiment(data),\n",
    "                               ref = list(BPE = ref1, MON = ref2),\n",
    "                               labels = list(ref1$label.main, ref2$label.main))\n",
    "\n",
    "data[[\"SingleR_label\"]] <- cell_classification$labels\n",
    "\n",
    "plotScoreHeatmap(cell_classification)"
   ]
  },
  {
   "cell_type": "code",
   "execution_count": null,
   "id": "6ad7cf2f-891f-4c05-b34d-e47c84bbe27b",
   "metadata": {
    "execution": {
     "iopub.execute_input": "2023-05-15T09:11:56.329270Z",
     "iopub.status.busy": "2023-05-15T09:11:56.329112Z",
     "iopub.status.idle": "2023-05-15T09:11:56.814955Z",
     "shell.execute_reply": "2023-05-15T09:11:56.814576Z"
    },
    "papermill": {
     "duration": 0.490755,
     "end_time": "2023-05-15T09:11:56.816034",
     "exception": false,
     "start_time": "2023-05-15T09:11:56.325279",
     "status": "completed"
    },
    "tags": []
   },
   "outputs": [],
   "source": [
    "%%R -i sample_name\n",
    "\n",
    "write.csv(data@meta.data, paste0(sample_name, \"_metadata.csv\"))"
   ]
  }
 ],
 "metadata": {
  "kernelspec": {
   "display_name": "py_R",
   "language": "python",
   "name": "python_r"
  },
  "language_info": {
   "codemirror_mode": {
    "name": "ipython",
    "version": 3
   },
   "file_extension": ".py",
   "mimetype": "text/x-python",
   "name": "python",
   "nbconvert_exporter": "python",
   "pygments_lexer": "ipython3",
   "version": "3.10.9"
  },
  "papermill": {
   "default_parameters": {},
   "duration": 67.302348,
   "end_time": "2023-05-15T09:11:58.037624",
   "environment_variables": {},
   "exception": null,
   "input_path": "template.ipynb",
   "output_path": "SRR13329144.ipynb",
   "parameters": {
    "sample_name": "SRR13329144"
   },
   "start_time": "2023-05-15T09:10:50.735276",
   "version": "2.3.4"
  }
 },
 "nbformat": 4,
 "nbformat_minor": 5
}
