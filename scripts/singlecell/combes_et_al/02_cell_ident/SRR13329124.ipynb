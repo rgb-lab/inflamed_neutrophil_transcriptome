{
 "cells": [
  {
   "cell_type": "code",
   "execution_count": null,
   "id": "78a6243e-1906-4e3b-ae98-4b5bd21bd37c",
   "metadata": {
    "execution": {
     "iopub.execute_input": "2023-05-15T09:58:16.456458Z",
     "iopub.status.busy": "2023-05-15T09:58:16.456291Z",
     "iopub.status.idle": "2023-05-15T09:58:16.460724Z",
     "shell.execute_reply": "2023-05-15T09:58:16.460404Z"
    },
    "papermill": {
     "duration": 0.008014,
     "end_time": "2023-05-15T09:58:16.461581",
     "exception": false,
     "start_time": "2023-05-15T09:58:16.453567",
     "status": "completed"
    },
    "tags": [
     "parameters"
    ]
   },
   "outputs": [],
   "source": [
    "sample_name = \"SRR13329143\""
   ]
  },
  {
   "cell_type": "code",
   "execution_count": null,
   "id": "3d4c4803",
   "metadata": {
    "execution": {
     "iopub.execute_input": "2023-05-15T09:58:16.465483Z",
     "iopub.status.busy": "2023-05-15T09:58:16.465268Z",
     "iopub.status.idle": "2023-05-15T09:58:16.467112Z",
     "shell.execute_reply": "2023-05-15T09:58:16.466808Z"
    },
    "papermill": {
     "duration": 0.004904,
     "end_time": "2023-05-15T09:58:16.468031",
     "exception": false,
     "start_time": "2023-05-15T09:58:16.463127",
     "status": "completed"
    },
    "tags": [
     "injected-parameters"
    ]
   },
   "outputs": [],
   "source": [
    "# Parameters\n",
    "sample_name = \"SRR13329124\"\n"
   ]
  },
  {
   "cell_type": "code",
   "execution_count": null,
   "id": "487588d5-40a0-4c35-9cd9-ee9b3e2f1d4e",
   "metadata": {
    "execution": {
     "iopub.execute_input": "2023-05-15T09:58:16.471766Z",
     "iopub.status.busy": "2023-05-15T09:58:16.471491Z",
     "iopub.status.idle": "2023-05-15T09:58:16.473700Z",
     "shell.execute_reply": "2023-05-15T09:58:16.473395Z"
    },
    "papermill": {
     "duration": 0.005053,
     "end_time": "2023-05-15T09:58:16.474492",
     "exception": false,
     "start_time": "2023-05-15T09:58:16.469439",
     "status": "completed"
    },
    "tags": []
   },
   "outputs": [],
   "source": [
    "import warnings\n",
    "warnings.simplefilter(action='ignore', category=FutureWarning)\n",
    "warnings.simplefilter(action='ignore', category=UserWarning)"
   ]
  },
  {
   "cell_type": "code",
   "execution_count": null,
   "id": "5bba6a57-54cf-4720-8653-bf94afa536ad",
   "metadata": {
    "execution": {
     "iopub.execute_input": "2023-05-15T09:58:16.478595Z",
     "iopub.status.busy": "2023-05-15T09:58:16.478345Z",
     "iopub.status.idle": "2023-05-15T09:58:21.494866Z",
     "shell.execute_reply": "2023-05-15T09:58:21.494339Z"
    },
    "papermill": {
     "duration": 5.020174,
     "end_time": "2023-05-15T09:58:21.496179",
     "exception": false,
     "start_time": "2023-05-15T09:58:16.476005",
     "status": "completed"
    },
    "tags": []
   },
   "outputs": [],
   "source": [
    "import gc\n",
    "import scanpy as sc\n",
    "import muon as mu\n",
    "import seaborn as sns\n",
    "import os\n",
    "import pandas as pd\n",
    "from matplotlib import pyplot as plt\n",
    "\n",
    "os.environ['R_HOME'] = '/gpfs/bwfor/work/ws/hd_fu399-conda/conda/envs/python_R/lib/R/'\n",
    "import anndata2ri\n",
    "import logging\n",
    "\n",
    "import rpy2.rinterface_lib.callbacks as rcb\n",
    "import rpy2.robjects as ro\n",
    "\n",
    "rcb.logger.setLevel(logging.ERROR)\n",
    "ro.pandas2ri.activate()\n",
    "anndata2ri.activate()\n",
    "\n",
    "%load_ext rpy2.ipython"
   ]
  },
  {
   "cell_type": "code",
   "execution_count": null,
   "id": "0897f8ed-b086-4ddc-a32e-6ae638ff6d14",
   "metadata": {
    "execution": {
     "iopub.execute_input": "2023-05-15T09:58:21.501233Z",
     "iopub.status.busy": "2023-05-15T09:58:21.500923Z",
     "iopub.status.idle": "2023-05-15T09:58:30.668173Z",
     "shell.execute_reply": "2023-05-15T09:58:30.667558Z"
    },
    "papermill": {
     "duration": 9.170787,
     "end_time": "2023-05-15T09:58:30.669543",
     "exception": false,
     "start_time": "2023-05-15T09:58:21.498756",
     "status": "completed"
    },
    "tags": []
   },
   "outputs": [],
   "source": [
    "%%R\n",
    "\n",
    "suppressMessages(library(SeuratDisk))\n",
    "suppressMessages(library(SingleR))\n",
    "suppressMessages(library(Seurat))\n",
    "suppressMessages(library(SingleCellExperiment))\n",
    "suppressMessages(library(UCell))"
   ]
  },
  {
   "cell_type": "code",
   "execution_count": null,
   "id": "74c6b1b1-5af7-4955-a6cc-4532fc42a266",
   "metadata": {
    "execution": {
     "iopub.execute_input": "2023-05-15T09:58:30.676038Z",
     "iopub.status.busy": "2023-05-15T09:58:30.675662Z",
     "iopub.status.idle": "2023-05-15T09:58:30.799439Z",
     "shell.execute_reply": "2023-05-15T09:58:30.798987Z"
    },
    "papermill": {
     "duration": 0.12746,
     "end_time": "2023-05-15T09:58:30.800717",
     "exception": false,
     "start_time": "2023-05-15T09:58:30.673257",
     "status": "completed"
    },
    "tags": []
   },
   "outputs": [],
   "source": [
    "dataset = sc.read(f\"../../int_data/{sample_name}_qc.h5ad\")\n",
    "dataset.X = dataset.layers[\"soupX_counts\"]"
   ]
  },
  {
   "cell_type": "code",
   "execution_count": null,
   "id": "f2520f85-0ac2-4e0d-b7f1-e5b9ce4c769d",
   "metadata": {
    "execution": {
     "iopub.execute_input": "2023-05-15T09:58:30.804939Z",
     "iopub.status.busy": "2023-05-15T09:58:30.804737Z",
     "iopub.status.idle": "2023-05-15T09:58:30.809519Z",
     "shell.execute_reply": "2023-05-15T09:58:30.809176Z"
    },
    "papermill": {
     "duration": 0.007687,
     "end_time": "2023-05-15T09:58:30.810354",
     "exception": false,
     "start_time": "2023-05-15T09:58:30.802667",
     "status": "completed"
    },
    "tags": []
   },
   "outputs": [],
   "source": [
    "dataset.obs[[\"AvgSpotLen\", \"Bases\", \"Bytes\", \"version\"]] = dataset.obs[[\"AvgSpotLen\", \"Bases\", \"Bytes\", \"version\"]].astype(\"str\")"
   ]
  },
  {
   "cell_type": "code",
   "execution_count": null,
   "id": "99f95dca-cf68-4a51-8f53-ca088aa3167b",
   "metadata": {
    "execution": {
     "iopub.execute_input": "2023-05-15T09:58:30.814208Z",
     "iopub.status.busy": "2023-05-15T09:58:30.813947Z",
     "iopub.status.idle": "2023-05-15T09:58:34.632496Z",
     "shell.execute_reply": "2023-05-15T09:58:34.631924Z"
    },
    "papermill": {
     "duration": 3.822027,
     "end_time": "2023-05-15T09:58:34.633942",
     "exception": false,
     "start_time": "2023-05-15T09:58:30.811915",
     "status": "completed"
    },
    "tags": []
   },
   "outputs": [],
   "source": [
    "%%R -i dataset\n",
    "\n",
    "sce <- SingleCellExperiment(list(counts=dataset@assays@data[[\"soupX_counts\"]]),\n",
    "    colData=dataset@colData,\n",
    ")\n",
    "\n",
    "row.names(sce) <- row.names(dataset)\n",
    "\n",
    "data <- as.Seurat(sce, data = NULL)"
   ]
  },
  {
   "cell_type": "code",
   "execution_count": null,
   "id": "0b749876-ea5a-403c-8b0b-51afc8a633e3",
   "metadata": {
    "execution": {
     "iopub.execute_input": "2023-05-15T09:58:34.638663Z",
     "iopub.status.busy": "2023-05-15T09:58:34.638335Z",
     "iopub.status.idle": "2023-05-15T09:58:34.658228Z",
     "shell.execute_reply": "2023-05-15T09:58:34.657867Z"
    },
    "papermill": {
     "duration": 0.022867,
     "end_time": "2023-05-15T09:58:34.658987",
     "exception": false,
     "start_time": "2023-05-15T09:58:34.636120",
     "status": "completed"
    },
    "tags": []
   },
   "outputs": [],
   "source": [
    "%%R\n",
    "data"
   ]
  },
  {
   "cell_type": "code",
   "execution_count": null,
   "id": "b6b29b0e-92c4-4d4f-b835-c5e9d7d59455",
   "metadata": {
    "execution": {
     "iopub.execute_input": "2023-05-15T09:58:34.665569Z",
     "iopub.status.busy": "2023-05-15T09:58:34.665265Z",
     "iopub.status.idle": "2023-05-15T09:58:40.746567Z",
     "shell.execute_reply": "2023-05-15T09:58:40.746051Z"
    },
    "papermill": {
     "duration": 6.08626,
     "end_time": "2023-05-15T09:58:40.748096",
     "exception": false,
     "start_time": "2023-05-15T09:58:34.661836",
     "status": "completed"
    },
    "tags": []
   },
   "outputs": [],
   "source": [
    "%%R\n",
    "\n",
    "data <- NormalizeData(data)\n",
    "data <- ScaleData(data, features = row.names(data))\n",
    "data <- FindVariableFeatures(data)\n",
    "data <- RunPCA(data, verbose = F)\n",
    "data <- FindNeighbors(data, verbose = F)\n",
    "data <- FindClusters(data, verbose = F)\n",
    "data <- RunUMAP(data, dims = 1:20, verbose = F)"
   ]
  },
  {
   "cell_type": "code",
   "execution_count": null,
   "id": "40fa5cdd-01d7-4b40-90e6-0c97545b0711",
   "metadata": {
    "execution": {
     "iopub.execute_input": "2023-05-15T09:58:40.755887Z",
     "iopub.status.busy": "2023-05-15T09:58:40.755710Z",
     "iopub.status.idle": "2023-05-15T09:58:56.359481Z",
     "shell.execute_reply": "2023-05-15T09:58:56.359040Z"
    },
    "papermill": {
     "duration": 15.607659,
     "end_time": "2023-05-15T09:58:56.360381",
     "exception": false,
     "start_time": "2023-05-15T09:58:40.752722",
     "status": "completed"
    },
    "tags": []
   },
   "outputs": [],
   "source": [
    "%%R\n",
    "\n",
    "ref1 <- celldex::BlueprintEncodeData()\n",
    "ref2 <- celldex::MonacoImmuneData()\n",
    "cell_classification <- SingleR(test = as.SingleCellExperiment(data),\n",
    "                               ref = list(BPE = ref1, MON = ref2),\n",
    "                               labels = list(ref1$label.main, ref2$label.main))\n",
    "\n",
    "data[[\"SingleR_label\"]] <- cell_classification$labels\n",
    "\n",
    "plotScoreHeatmap(cell_classification)"
   ]
  },
  {
   "cell_type": "code",
   "execution_count": null,
   "id": "6ad7cf2f-891f-4c05-b34d-e47c84bbe27b",
   "metadata": {
    "execution": {
     "iopub.execute_input": "2023-05-15T09:58:56.370037Z",
     "iopub.status.busy": "2023-05-15T09:58:56.369873Z",
     "iopub.status.idle": "2023-05-15T09:58:56.706222Z",
     "shell.execute_reply": "2023-05-15T09:58:56.705863Z"
    },
    "papermill": {
     "duration": 0.341614,
     "end_time": "2023-05-15T09:58:56.707464",
     "exception": false,
     "start_time": "2023-05-15T09:58:56.365850",
     "status": "completed"
    },
    "tags": []
   },
   "outputs": [],
   "source": [
    "%%R -i sample_name\n",
    "\n",
    "write.csv(data@meta.data, paste0(sample_name, \"_metadata.csv\"))"
   ]
  }
 ],
 "metadata": {
  "kernelspec": {
   "display_name": "py_R",
   "language": "python",
   "name": "python_r"
  },
  "language_info": {
   "codemirror_mode": {
    "name": "ipython",
    "version": 3
   },
   "file_extension": ".py",
   "mimetype": "text/x-python",
   "name": "python",
   "nbconvert_exporter": "python",
   "pygments_lexer": "ipython3",
   "version": "3.10.9"
  },
  "papermill": {
   "default_parameters": {},
   "duration": 42.569093,
   "end_time": "2023-05-15T09:58:57.828868",
   "environment_variables": {},
   "exception": null,
   "input_path": "template.ipynb",
   "output_path": "SRR13329124.ipynb",
   "parameters": {
    "sample_name": "SRR13329124"
   },
   "start_time": "2023-05-15T09:58:15.259775",
   "version": "2.3.4"
  }
 },
 "nbformat": 4,
 "nbformat_minor": 5
}
