{
 "cells": [
  {
   "cell_type": "code",
   "execution_count": null,
   "id": "78a6243e-1906-4e3b-ae98-4b5bd21bd37c",
   "metadata": {
    "execution": {
     "iopub.execute_input": "2023-05-15T08:57:40.768105Z",
     "iopub.status.busy": "2023-05-15T08:57:40.767928Z",
     "iopub.status.idle": "2023-05-15T08:57:40.772449Z",
     "shell.execute_reply": "2023-05-15T08:57:40.772137Z"
    },
    "papermill": {
     "duration": 0.008773,
     "end_time": "2023-05-15T08:57:40.773362",
     "exception": false,
     "start_time": "2023-05-15T08:57:40.764589",
     "status": "completed"
    },
    "tags": [
     "parameters"
    ]
   },
   "outputs": [],
   "source": [
    "sample_name = \"SRR13329143\""
   ]
  },
  {
   "cell_type": "code",
   "execution_count": null,
   "id": "333e725d",
   "metadata": {
    "execution": {
     "iopub.execute_input": "2023-05-15T08:57:40.776935Z",
     "iopub.status.busy": "2023-05-15T08:57:40.776782Z",
     "iopub.status.idle": "2023-05-15T08:57:40.778707Z",
     "shell.execute_reply": "2023-05-15T08:57:40.778405Z"
    },
    "papermill": {
     "duration": 0.004479,
     "end_time": "2023-05-15T08:57:40.779454",
     "exception": false,
     "start_time": "2023-05-15T08:57:40.774975",
     "status": "completed"
    },
    "tags": [
     "injected-parameters"
    ]
   },
   "outputs": [],
   "source": [
    "# Parameters\n",
    "sample_name = \"SRR13329131\"\n"
   ]
  },
  {
   "cell_type": "code",
   "execution_count": null,
   "id": "487588d5-40a0-4c35-9cd9-ee9b3e2f1d4e",
   "metadata": {
    "execution": {
     "iopub.execute_input": "2023-05-15T08:57:40.783049Z",
     "iopub.status.busy": "2023-05-15T08:57:40.782752Z",
     "iopub.status.idle": "2023-05-15T08:57:40.784917Z",
     "shell.execute_reply": "2023-05-15T08:57:40.784616Z"
    },
    "papermill": {
     "duration": 0.004798,
     "end_time": "2023-05-15T08:57:40.785695",
     "exception": false,
     "start_time": "2023-05-15T08:57:40.780897",
     "status": "completed"
    },
    "tags": []
   },
   "outputs": [],
   "source": [
    "import warnings\n",
    "warnings.simplefilter(action='ignore', category=FutureWarning)\n",
    "warnings.simplefilter(action='ignore', category=UserWarning)"
   ]
  },
  {
   "cell_type": "code",
   "execution_count": null,
   "id": "5bba6a57-54cf-4720-8653-bf94afa536ad",
   "metadata": {
    "execution": {
     "iopub.execute_input": "2023-05-15T08:57:40.789166Z",
     "iopub.status.busy": "2023-05-15T08:57:40.789025Z",
     "iopub.status.idle": "2023-05-15T08:57:44.900613Z",
     "shell.execute_reply": "2023-05-15T08:57:44.900151Z"
    },
    "papermill": {
     "duration": 4.114955,
     "end_time": "2023-05-15T08:57:44.902128",
     "exception": false,
     "start_time": "2023-05-15T08:57:40.787173",
     "status": "completed"
    },
    "tags": []
   },
   "outputs": [],
   "source": [
    "import gc\n",
    "import scanpy as sc\n",
    "import muon as mu\n",
    "import seaborn as sns\n",
    "import os\n",
    "import pandas as pd\n",
    "from matplotlib import pyplot as plt\n",
    "\n",
    "os.environ['R_HOME'] = '/gpfs/bwfor/work/ws/hd_fu399-conda/conda/envs/python_R/lib/R/'\n",
    "import anndata2ri\n",
    "import logging\n",
    "\n",
    "import rpy2.rinterface_lib.callbacks as rcb\n",
    "import rpy2.robjects as ro\n",
    "\n",
    "rcb.logger.setLevel(logging.ERROR)\n",
    "ro.pandas2ri.activate()\n",
    "anndata2ri.activate()\n",
    "\n",
    "%load_ext rpy2.ipython"
   ]
  },
  {
   "cell_type": "code",
   "execution_count": null,
   "id": "0897f8ed-b086-4ddc-a32e-6ae638ff6d14",
   "metadata": {
    "execution": {
     "iopub.execute_input": "2023-05-15T08:57:44.931013Z",
     "iopub.status.busy": "2023-05-15T08:57:44.930662Z",
     "iopub.status.idle": "2023-05-15T08:57:52.030875Z",
     "shell.execute_reply": "2023-05-15T08:57:52.030312Z"
    },
    "papermill": {
     "duration": 7.126444,
     "end_time": "2023-05-15T08:57:52.032565",
     "exception": false,
     "start_time": "2023-05-15T08:57:44.906121",
     "status": "completed"
    },
    "tags": []
   },
   "outputs": [],
   "source": [
    "%%R\n",
    "\n",
    "suppressMessages(library(SeuratDisk))\n",
    "suppressMessages(library(SingleR))\n",
    "suppressMessages(library(Seurat))\n",
    "suppressMessages(library(SingleCellExperiment))\n",
    "suppressMessages(library(UCell))"
   ]
  },
  {
   "cell_type": "code",
   "execution_count": null,
   "id": "74c6b1b1-5af7-4955-a6cc-4532fc42a266",
   "metadata": {
    "execution": {
     "iopub.execute_input": "2023-05-15T08:57:52.040013Z",
     "iopub.status.busy": "2023-05-15T08:57:52.039845Z",
     "iopub.status.idle": "2023-05-15T08:57:52.387203Z",
     "shell.execute_reply": "2023-05-15T08:57:52.386785Z"
    },
    "papermill": {
     "duration": 0.351201,
     "end_time": "2023-05-15T08:57:52.388660",
     "exception": false,
     "start_time": "2023-05-15T08:57:52.037459",
     "status": "completed"
    },
    "tags": []
   },
   "outputs": [],
   "source": [
    "dataset = sc.read(f\"../../int_data/{sample_name}_qc.h5ad\")\n",
    "dataset.X = dataset.layers[\"soupX_counts\"]"
   ]
  },
  {
   "cell_type": "code",
   "execution_count": null,
   "id": "f2520f85-0ac2-4e0d-b7f1-e5b9ce4c769d",
   "metadata": {
    "execution": {
     "iopub.execute_input": "2023-05-15T08:57:52.393224Z",
     "iopub.status.busy": "2023-05-15T08:57:52.393056Z",
     "iopub.status.idle": "2023-05-15T08:57:52.402557Z",
     "shell.execute_reply": "2023-05-15T08:57:52.402227Z"
    },
    "papermill": {
     "duration": 0.012576,
     "end_time": "2023-05-15T08:57:52.403429",
     "exception": false,
     "start_time": "2023-05-15T08:57:52.390853",
     "status": "completed"
    },
    "tags": []
   },
   "outputs": [],
   "source": [
    "dataset.obs[[\"AvgSpotLen\", \"Bases\", \"Bytes\", \"version\"]] = dataset.obs[[\"AvgSpotLen\", \"Bases\", \"Bytes\", \"version\"]].astype(\"str\")"
   ]
  },
  {
   "cell_type": "code",
   "execution_count": null,
   "id": "99f95dca-cf68-4a51-8f53-ca088aa3167b",
   "metadata": {
    "execution": {
     "iopub.execute_input": "2023-05-15T08:57:52.407563Z",
     "iopub.status.busy": "2023-05-15T08:57:52.407300Z",
     "iopub.status.idle": "2023-05-15T08:57:59.444404Z",
     "shell.execute_reply": "2023-05-15T08:57:59.443854Z"
    },
    "papermill": {
     "duration": 7.040487,
     "end_time": "2023-05-15T08:57:59.445697",
     "exception": false,
     "start_time": "2023-05-15T08:57:52.405210",
     "status": "completed"
    },
    "tags": []
   },
   "outputs": [],
   "source": [
    "%%R -i dataset\n",
    "\n",
    "sce <- SingleCellExperiment(list(counts=dataset@assays@data[[\"soupX_counts\"]]),\n",
    "    colData=dataset@colData,\n",
    ")\n",
    "\n",
    "row.names(sce) <- row.names(dataset)\n",
    "\n",
    "data <- as.Seurat(sce, data = NULL)"
   ]
  },
  {
   "cell_type": "code",
   "execution_count": null,
   "id": "0b749876-ea5a-403c-8b0b-51afc8a633e3",
   "metadata": {
    "execution": {
     "iopub.execute_input": "2023-05-15T08:57:59.451420Z",
     "iopub.status.busy": "2023-05-15T08:57:59.451244Z",
     "iopub.status.idle": "2023-05-15T08:57:59.471520Z",
     "shell.execute_reply": "2023-05-15T08:57:59.471200Z"
    },
    "papermill": {
     "duration": 0.023311,
     "end_time": "2023-05-15T08:57:59.472262",
     "exception": false,
     "start_time": "2023-05-15T08:57:59.448951",
     "status": "completed"
    },
    "tags": []
   },
   "outputs": [],
   "source": [
    "%%R\n",
    "data"
   ]
  },
  {
   "cell_type": "code",
   "execution_count": null,
   "id": "b6b29b0e-92c4-4d4f-b835-c5e9d7d59455",
   "metadata": {
    "execution": {
     "iopub.execute_input": "2023-05-15T08:57:59.477564Z",
     "iopub.status.busy": "2023-05-15T08:57:59.477395Z",
     "iopub.status.idle": "2023-05-15T08:58:18.732763Z",
     "shell.execute_reply": "2023-05-15T08:58:18.732256Z"
    },
    "papermill": {
     "duration": 19.259532,
     "end_time": "2023-05-15T08:58:18.734152",
     "exception": false,
     "start_time": "2023-05-15T08:57:59.474620",
     "status": "completed"
    },
    "tags": []
   },
   "outputs": [],
   "source": [
    "%%R\n",
    "\n",
    "data <- NormalizeData(data)\n",
    "data <- ScaleData(data, features = row.names(data))\n",
    "data <- FindVariableFeatures(data)\n",
    "data <- RunPCA(data, verbose = F)\n",
    "data <- FindNeighbors(data, verbose = F)\n",
    "data <- FindClusters(data, verbose = F)\n",
    "data <- RunUMAP(data, dims = 1:20, verbose = F)"
   ]
  },
  {
   "cell_type": "code",
   "execution_count": null,
   "id": "40fa5cdd-01d7-4b40-90e6-0c97545b0711",
   "metadata": {
    "execution": {
     "iopub.execute_input": "2023-05-15T08:58:18.742118Z",
     "iopub.status.busy": "2023-05-15T08:58:18.741934Z",
     "iopub.status.idle": "2023-05-15T08:58:56.061004Z",
     "shell.execute_reply": "2023-05-15T08:58:56.060541Z"
    },
    "papermill": {
     "duration": 37.328847,
     "end_time": "2023-05-15T08:58:56.067500",
     "exception": false,
     "start_time": "2023-05-15T08:58:18.738653",
     "status": "completed"
    },
    "tags": []
   },
   "outputs": [],
   "source": [
    "%%R\n",
    "\n",
    "ref1 <- celldex::BlueprintEncodeData()\n",
    "ref2 <- celldex::MonacoImmuneData()\n",
    "cell_classification <- SingleR(test = as.SingleCellExperiment(data),\n",
    "                               ref = list(BPE = ref1, MON = ref2),\n",
    "                               labels = list(ref1$label.main, ref2$label.main))\n",
    "\n",
    "data[[\"SingleR_label\"]] <- cell_classification$labels\n",
    "\n",
    "plotScoreHeatmap(cell_classification)"
   ]
  },
  {
   "cell_type": "code",
   "execution_count": null,
   "id": "6ad7cf2f-891f-4c05-b34d-e47c84bbe27b",
   "metadata": {
    "execution": {
     "iopub.execute_input": "2023-05-15T08:58:56.074721Z",
     "iopub.status.busy": "2023-05-15T08:58:56.074538Z",
     "iopub.status.idle": "2023-05-15T08:58:56.157575Z",
     "shell.execute_reply": "2023-05-15T08:58:56.157173Z"
    },
    "papermill": {
     "duration": 0.087768,
     "end_time": "2023-05-15T08:58:56.158549",
     "exception": false,
     "start_time": "2023-05-15T08:58:56.070781",
     "status": "completed"
    },
    "tags": []
   },
   "outputs": [],
   "source": [
    "%%R -i sample_name\n",
    "\n",
    "write.csv(data@meta.data, paste0(sample_name, \"_metadata.csv\"))"
   ]
  }
 ],
 "metadata": {
  "kernelspec": {
   "display_name": "py_R",
   "language": "python",
   "name": "python_r"
  },
  "language_info": {
   "codemirror_mode": {
    "name": "ipython",
    "version": 3
   },
   "file_extension": ".py",
   "mimetype": "text/x-python",
   "name": "python",
   "nbconvert_exporter": "python",
   "pygments_lexer": "ipython3",
   "version": "3.10.9"
  },
  "papermill": {
   "default_parameters": {},
   "duration": 77.340698,
   "end_time": "2023-05-15T08:58:57.481011",
   "environment_variables": {},
   "exception": null,
   "input_path": "template.ipynb",
   "output_path": "SRR13329131.ipynb",
   "parameters": {
    "sample_name": "SRR13329131"
   },
   "start_time": "2023-05-15T08:57:40.140313",
   "version": "2.3.4"
  }
 },
 "nbformat": 4,
 "nbformat_minor": 5
}
