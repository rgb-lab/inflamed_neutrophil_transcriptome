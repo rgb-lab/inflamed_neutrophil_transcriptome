{
 "cells": [
  {
   "cell_type": "code",
   "execution_count": null,
   "id": "78a6243e-1906-4e3b-ae98-4b5bd21bd37c",
   "metadata": {
    "execution": {
     "iopub.execute_input": "2023-05-15T09:17:36.942593Z",
     "iopub.status.busy": "2023-05-15T09:17:36.942426Z",
     "iopub.status.idle": "2023-05-15T09:17:36.947069Z",
     "shell.execute_reply": "2023-05-15T09:17:36.946754Z"
    },
    "papermill": {
     "duration": 0.008442,
     "end_time": "2023-05-15T09:17:36.947933",
     "exception": false,
     "start_time": "2023-05-15T09:17:36.939491",
     "status": "completed"
    },
    "tags": [
     "parameters"
    ]
   },
   "outputs": [],
   "source": [
    "sample_name = \"SRR13329143\""
   ]
  },
  {
   "cell_type": "code",
   "execution_count": null,
   "id": "16600e23",
   "metadata": {
    "execution": {
     "iopub.execute_input": "2023-05-15T09:17:36.951545Z",
     "iopub.status.busy": "2023-05-15T09:17:36.951240Z",
     "iopub.status.idle": "2023-05-15T09:17:36.953222Z",
     "shell.execute_reply": "2023-05-15T09:17:36.952917Z"
    },
    "papermill": {
     "duration": 0.004526,
     "end_time": "2023-05-15T09:17:36.953981",
     "exception": false,
     "start_time": "2023-05-15T09:17:36.949455",
     "status": "completed"
    },
    "tags": [
     "injected-parameters"
    ]
   },
   "outputs": [],
   "source": [
    "# Parameters\n",
    "sample_name = \"SRR13329135\"\n"
   ]
  },
  {
   "cell_type": "code",
   "execution_count": null,
   "id": "487588d5-40a0-4c35-9cd9-ee9b3e2f1d4e",
   "metadata": {
    "execution": {
     "iopub.execute_input": "2023-05-15T09:17:36.957406Z",
     "iopub.status.busy": "2023-05-15T09:17:36.957159Z",
     "iopub.status.idle": "2023-05-15T09:17:36.959353Z",
     "shell.execute_reply": "2023-05-15T09:17:36.959059Z"
    },
    "papermill": {
     "duration": 0.00476,
     "end_time": "2023-05-15T09:17:36.960113",
     "exception": false,
     "start_time": "2023-05-15T09:17:36.955353",
     "status": "completed"
    },
    "tags": []
   },
   "outputs": [],
   "source": [
    "import warnings\n",
    "warnings.simplefilter(action='ignore', category=FutureWarning)\n",
    "warnings.simplefilter(action='ignore', category=UserWarning)"
   ]
  },
  {
   "cell_type": "code",
   "execution_count": null,
   "id": "5bba6a57-54cf-4720-8653-bf94afa536ad",
   "metadata": {
    "execution": {
     "iopub.execute_input": "2023-05-15T09:17:36.963477Z",
     "iopub.status.busy": "2023-05-15T09:17:36.963306Z",
     "iopub.status.idle": "2023-05-15T09:17:41.507907Z",
     "shell.execute_reply": "2023-05-15T09:17:41.507464Z"
    },
    "papermill": {
     "duration": 4.547866,
     "end_time": "2023-05-15T09:17:41.509392",
     "exception": false,
     "start_time": "2023-05-15T09:17:36.961526",
     "status": "completed"
    },
    "tags": []
   },
   "outputs": [],
   "source": [
    "import gc\n",
    "import scanpy as sc\n",
    "import muon as mu\n",
    "import seaborn as sns\n",
    "import os\n",
    "import pandas as pd\n",
    "from matplotlib import pyplot as plt\n",
    "\n",
    "os.environ['R_HOME'] = '/gpfs/bwfor/work/ws/hd_fu399-conda/conda/envs/python_R/lib/R/'\n",
    "import anndata2ri\n",
    "import logging\n",
    "\n",
    "import rpy2.rinterface_lib.callbacks as rcb\n",
    "import rpy2.robjects as ro\n",
    "\n",
    "rcb.logger.setLevel(logging.ERROR)\n",
    "ro.pandas2ri.activate()\n",
    "anndata2ri.activate()\n",
    "\n",
    "%load_ext rpy2.ipython"
   ]
  },
  {
   "cell_type": "code",
   "execution_count": null,
   "id": "0897f8ed-b086-4ddc-a32e-6ae638ff6d14",
   "metadata": {
    "execution": {
     "iopub.execute_input": "2023-05-15T09:17:41.514035Z",
     "iopub.status.busy": "2023-05-15T09:17:41.513751Z",
     "iopub.status.idle": "2023-05-15T09:17:49.223062Z",
     "shell.execute_reply": "2023-05-15T09:17:49.222491Z"
    },
    "papermill": {
     "duration": 7.7129,
     "end_time": "2023-05-15T09:17:49.224543",
     "exception": false,
     "start_time": "2023-05-15T09:17:41.511643",
     "status": "completed"
    },
    "tags": []
   },
   "outputs": [],
   "source": [
    "%%R\n",
    "\n",
    "suppressMessages(library(SeuratDisk))\n",
    "suppressMessages(library(SingleR))\n",
    "suppressMessages(library(Seurat))\n",
    "suppressMessages(library(SingleCellExperiment))\n",
    "suppressMessages(library(UCell))"
   ]
  },
  {
   "cell_type": "code",
   "execution_count": null,
   "id": "74c6b1b1-5af7-4955-a6cc-4532fc42a266",
   "metadata": {
    "execution": {
     "iopub.execute_input": "2023-05-15T09:17:49.229081Z",
     "iopub.status.busy": "2023-05-15T09:17:49.228909Z",
     "iopub.status.idle": "2023-05-15T09:17:49.515014Z",
     "shell.execute_reply": "2023-05-15T09:17:49.514577Z"
    },
    "papermill": {
     "duration": 0.289701,
     "end_time": "2023-05-15T09:17:49.516371",
     "exception": false,
     "start_time": "2023-05-15T09:17:49.226670",
     "status": "completed"
    },
    "tags": []
   },
   "outputs": [],
   "source": [
    "dataset = sc.read(f\"../../int_data/{sample_name}_qc.h5ad\")\n",
    "dataset.X = dataset.layers[\"soupX_counts\"]"
   ]
  },
  {
   "cell_type": "code",
   "execution_count": null,
   "id": "f2520f85-0ac2-4e0d-b7f1-e5b9ce4c769d",
   "metadata": {
    "execution": {
     "iopub.execute_input": "2023-05-15T09:17:49.520740Z",
     "iopub.status.busy": "2023-05-15T09:17:49.520579Z",
     "iopub.status.idle": "2023-05-15T09:17:49.528811Z",
     "shell.execute_reply": "2023-05-15T09:17:49.528475Z"
    },
    "papermill": {
     "duration": 0.01113,
     "end_time": "2023-05-15T09:17:49.529610",
     "exception": false,
     "start_time": "2023-05-15T09:17:49.518480",
     "status": "completed"
    },
    "tags": []
   },
   "outputs": [],
   "source": [
    "dataset.obs[[\"AvgSpotLen\", \"Bases\", \"Bytes\", \"version\"]] = dataset.obs[[\"AvgSpotLen\", \"Bases\", \"Bytes\", \"version\"]].astype(\"str\")"
   ]
  },
  {
   "cell_type": "code",
   "execution_count": null,
   "id": "99f95dca-cf68-4a51-8f53-ca088aa3167b",
   "metadata": {
    "execution": {
     "iopub.execute_input": "2023-05-15T09:17:49.533341Z",
     "iopub.status.busy": "2023-05-15T09:17:49.533108Z",
     "iopub.status.idle": "2023-05-15T09:17:55.961490Z",
     "shell.execute_reply": "2023-05-15T09:17:55.961003Z"
    },
    "papermill": {
     "duration": 6.431929,
     "end_time": "2023-05-15T09:17:55.963059",
     "exception": false,
     "start_time": "2023-05-15T09:17:49.531130",
     "status": "completed"
    },
    "tags": []
   },
   "outputs": [],
   "source": [
    "%%R -i dataset\n",
    "\n",
    "sce <- SingleCellExperiment(list(counts=dataset@assays@data[[\"soupX_counts\"]]),\n",
    "    colData=dataset@colData,\n",
    ")\n",
    "\n",
    "row.names(sce) <- row.names(dataset)\n",
    "\n",
    "data <- as.Seurat(sce, data = NULL)"
   ]
  },
  {
   "cell_type": "code",
   "execution_count": null,
   "id": "0b749876-ea5a-403c-8b0b-51afc8a633e3",
   "metadata": {
    "execution": {
     "iopub.execute_input": "2023-05-15T09:17:55.967820Z",
     "iopub.status.busy": "2023-05-15T09:17:55.967645Z",
     "iopub.status.idle": "2023-05-15T09:17:55.987300Z",
     "shell.execute_reply": "2023-05-15T09:17:55.986968Z"
    },
    "papermill": {
     "duration": 0.022593,
     "end_time": "2023-05-15T09:17:55.988036",
     "exception": false,
     "start_time": "2023-05-15T09:17:55.965443",
     "status": "completed"
    },
    "tags": []
   },
   "outputs": [],
   "source": [
    "%%R\n",
    "data"
   ]
  },
  {
   "cell_type": "code",
   "execution_count": null,
   "id": "b6b29b0e-92c4-4d4f-b835-c5e9d7d59455",
   "metadata": {
    "execution": {
     "iopub.execute_input": "2023-05-15T09:17:55.993082Z",
     "iopub.status.busy": "2023-05-15T09:17:55.992937Z",
     "iopub.status.idle": "2023-05-15T09:18:11.824951Z",
     "shell.execute_reply": "2023-05-15T09:18:11.824380Z"
    },
    "papermill": {
     "duration": 15.836305,
     "end_time": "2023-05-15T09:18:11.826600",
     "exception": false,
     "start_time": "2023-05-15T09:17:55.990295",
     "status": "completed"
    },
    "tags": []
   },
   "outputs": [],
   "source": [
    "%%R\n",
    "\n",
    "data <- NormalizeData(data)\n",
    "data <- ScaleData(data, features = row.names(data))\n",
    "data <- FindVariableFeatures(data)\n",
    "data <- RunPCA(data, verbose = F)\n",
    "data <- FindNeighbors(data, verbose = F)\n",
    "data <- FindClusters(data, verbose = F)\n",
    "data <- RunUMAP(data, dims = 1:20, verbose = F)"
   ]
  },
  {
   "cell_type": "code",
   "execution_count": null,
   "id": "40fa5cdd-01d7-4b40-90e6-0c97545b0711",
   "metadata": {
    "execution": {
     "iopub.execute_input": "2023-05-15T09:18:11.834837Z",
     "iopub.status.busy": "2023-05-15T09:18:11.834652Z",
     "iopub.status.idle": "2023-05-15T09:18:39.477453Z",
     "shell.execute_reply": "2023-05-15T09:18:39.476989Z"
    },
    "papermill": {
     "duration": 27.647072,
     "end_time": "2023-05-15T09:18:39.478405",
     "exception": false,
     "start_time": "2023-05-15T09:18:11.831333",
     "status": "completed"
    },
    "tags": []
   },
   "outputs": [],
   "source": [
    "%%R\n",
    "\n",
    "ref1 <- celldex::BlueprintEncodeData()\n",
    "ref2 <- celldex::MonacoImmuneData()\n",
    "cell_classification <- SingleR(test = as.SingleCellExperiment(data),\n",
    "                               ref = list(BPE = ref1, MON = ref2),\n",
    "                               labels = list(ref1$label.main, ref2$label.main))\n",
    "\n",
    "data[[\"SingleR_label\"]] <- cell_classification$labels\n",
    "\n",
    "plotScoreHeatmap(cell_classification)"
   ]
  },
  {
   "cell_type": "code",
   "execution_count": null,
   "id": "6ad7cf2f-891f-4c05-b34d-e47c84bbe27b",
   "metadata": {
    "execution": {
     "iopub.execute_input": "2023-05-15T09:18:39.487631Z",
     "iopub.status.busy": "2023-05-15T09:18:39.487431Z",
     "iopub.status.idle": "2023-05-15T09:18:40.007080Z",
     "shell.execute_reply": "2023-05-15T09:18:40.006632Z"
    },
    "papermill": {
     "duration": 0.524374,
     "end_time": "2023-05-15T09:18:40.008170",
     "exception": false,
     "start_time": "2023-05-15T09:18:39.483796",
     "status": "completed"
    },
    "tags": []
   },
   "outputs": [],
   "source": [
    "%%R -i sample_name\n",
    "\n",
    "write.csv(data@meta.data, paste0(sample_name, \"_metadata.csv\"))"
   ]
  }
 ],
 "metadata": {
  "kernelspec": {
   "display_name": "py_R",
   "language": "python",
   "name": "python_r"
  },
  "language_info": {
   "codemirror_mode": {
    "name": "ipython",
    "version": 3
   },
   "file_extension": ".py",
   "mimetype": "text/x-python",
   "name": "python",
   "nbconvert_exporter": "python",
   "pygments_lexer": "ipython3",
   "version": "3.10.9"
  },
  "papermill": {
   "default_parameters": {},
   "duration": 65.619486,
   "end_time": "2023-05-15T09:18:41.229112",
   "environment_variables": {},
   "exception": null,
   "input_path": "template.ipynb",
   "output_path": "SRR13329135.ipynb",
   "parameters": {
    "sample_name": "SRR13329135"
   },
   "start_time": "2023-05-15T09:17:35.609626",
   "version": "2.3.4"
  }
 },
 "nbformat": 4,
 "nbformat_minor": 5
}
