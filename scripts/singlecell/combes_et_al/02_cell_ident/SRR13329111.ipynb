{
 "cells": [
  {
   "cell_type": "code",
   "execution_count": null,
   "id": "78a6243e-1906-4e3b-ae98-4b5bd21bd37c",
   "metadata": {
    "execution": {
     "iopub.execute_input": "2023-05-15T09:23:33.941747Z",
     "iopub.status.busy": "2023-05-15T09:23:33.941575Z",
     "iopub.status.idle": "2023-05-15T09:23:33.946006Z",
     "shell.execute_reply": "2023-05-15T09:23:33.945637Z"
    },
    "papermill": {
     "duration": 0.007747,
     "end_time": "2023-05-15T09:23:33.946837",
     "exception": false,
     "start_time": "2023-05-15T09:23:33.939090",
     "status": "completed"
    },
    "tags": [
     "parameters"
    ]
   },
   "outputs": [],
   "source": [
    "sample_name = \"SRR13329143\""
   ]
  },
  {
   "cell_type": "code",
   "execution_count": null,
   "id": "3425f72b",
   "metadata": {
    "execution": {
     "iopub.execute_input": "2023-05-15T09:23:33.950670Z",
     "iopub.status.busy": "2023-05-15T09:23:33.950397Z",
     "iopub.status.idle": "2023-05-15T09:23:33.953346Z",
     "shell.execute_reply": "2023-05-15T09:23:33.953052Z"
    },
    "papermill": {
     "duration": 0.005698,
     "end_time": "2023-05-15T09:23:33.954140",
     "exception": false,
     "start_time": "2023-05-15T09:23:33.948442",
     "status": "completed"
    },
    "tags": [
     "injected-parameters"
    ]
   },
   "outputs": [],
   "source": [
    "# Parameters\n",
    "sample_name = \"SRR13329111\"\n"
   ]
  },
  {
   "cell_type": "code",
   "execution_count": null,
   "id": "487588d5-40a0-4c35-9cd9-ee9b3e2f1d4e",
   "metadata": {
    "execution": {
     "iopub.execute_input": "2023-05-15T09:23:33.957475Z",
     "iopub.status.busy": "2023-05-15T09:23:33.957327Z",
     "iopub.status.idle": "2023-05-15T09:23:33.959555Z",
     "shell.execute_reply": "2023-05-15T09:23:33.959259Z"
    },
    "papermill": {
     "duration": 0.004757,
     "end_time": "2023-05-15T09:23:33.960313",
     "exception": false,
     "start_time": "2023-05-15T09:23:33.955556",
     "status": "completed"
    },
    "tags": []
   },
   "outputs": [],
   "source": [
    "import warnings\n",
    "warnings.simplefilter(action='ignore', category=FutureWarning)\n",
    "warnings.simplefilter(action='ignore', category=UserWarning)"
   ]
  },
  {
   "cell_type": "code",
   "execution_count": null,
   "id": "5bba6a57-54cf-4720-8653-bf94afa536ad",
   "metadata": {
    "execution": {
     "iopub.execute_input": "2023-05-15T09:23:33.963631Z",
     "iopub.status.busy": "2023-05-15T09:23:33.963485Z",
     "iopub.status.idle": "2023-05-15T09:23:38.869034Z",
     "shell.execute_reply": "2023-05-15T09:23:38.868577Z"
    },
    "papermill": {
     "duration": 4.908597,
     "end_time": "2023-05-15T09:23:38.870303",
     "exception": false,
     "start_time": "2023-05-15T09:23:33.961706",
     "status": "completed"
    },
    "tags": []
   },
   "outputs": [],
   "source": [
    "import gc\n",
    "import scanpy as sc\n",
    "import muon as mu\n",
    "import seaborn as sns\n",
    "import os\n",
    "import pandas as pd\n",
    "from matplotlib import pyplot as plt\n",
    "\n",
    "os.environ['R_HOME'] = '/gpfs/bwfor/work/ws/hd_fu399-conda/conda/envs/python_R/lib/R/'\n",
    "import anndata2ri\n",
    "import logging\n",
    "\n",
    "import rpy2.rinterface_lib.callbacks as rcb\n",
    "import rpy2.robjects as ro\n",
    "\n",
    "rcb.logger.setLevel(logging.ERROR)\n",
    "ro.pandas2ri.activate()\n",
    "anndata2ri.activate()\n",
    "\n",
    "%load_ext rpy2.ipython"
   ]
  },
  {
   "cell_type": "code",
   "execution_count": null,
   "id": "0897f8ed-b086-4ddc-a32e-6ae638ff6d14",
   "metadata": {
    "execution": {
     "iopub.execute_input": "2023-05-15T09:23:38.877274Z",
     "iopub.status.busy": "2023-05-15T09:23:38.876819Z",
     "iopub.status.idle": "2023-05-15T09:23:47.562545Z",
     "shell.execute_reply": "2023-05-15T09:23:47.561996Z"
    },
    "papermill": {
     "duration": 8.689391,
     "end_time": "2023-05-15T09:23:47.564121",
     "exception": false,
     "start_time": "2023-05-15T09:23:38.874730",
     "status": "completed"
    },
    "tags": []
   },
   "outputs": [],
   "source": [
    "%%R\n",
    "\n",
    "suppressMessages(library(SeuratDisk))\n",
    "suppressMessages(library(SingleR))\n",
    "suppressMessages(library(Seurat))\n",
    "suppressMessages(library(SingleCellExperiment))\n",
    "suppressMessages(library(UCell))"
   ]
  },
  {
   "cell_type": "code",
   "execution_count": null,
   "id": "74c6b1b1-5af7-4955-a6cc-4532fc42a266",
   "metadata": {
    "execution": {
     "iopub.execute_input": "2023-05-15T09:23:47.570693Z",
     "iopub.status.busy": "2023-05-15T09:23:47.570515Z",
     "iopub.status.idle": "2023-05-15T09:23:48.304194Z",
     "shell.execute_reply": "2023-05-15T09:23:48.303760Z"
    },
    "papermill": {
     "duration": 0.737545,
     "end_time": "2023-05-15T09:23:48.305611",
     "exception": false,
     "start_time": "2023-05-15T09:23:47.568066",
     "status": "completed"
    },
    "tags": []
   },
   "outputs": [],
   "source": [
    "dataset = sc.read(f\"../../int_data/{sample_name}_qc.h5ad\")\n",
    "dataset.X = dataset.layers[\"soupX_counts\"]"
   ]
  },
  {
   "cell_type": "code",
   "execution_count": null,
   "id": "f2520f85-0ac2-4e0d-b7f1-e5b9ce4c769d",
   "metadata": {
    "execution": {
     "iopub.execute_input": "2023-05-15T09:23:48.310237Z",
     "iopub.status.busy": "2023-05-15T09:23:48.310041Z",
     "iopub.status.idle": "2023-05-15T09:23:48.318369Z",
     "shell.execute_reply": "2023-05-15T09:23:48.318051Z"
    },
    "papermill": {
     "duration": 0.011403,
     "end_time": "2023-05-15T09:23:48.319177",
     "exception": false,
     "start_time": "2023-05-15T09:23:48.307774",
     "status": "completed"
    },
    "tags": []
   },
   "outputs": [],
   "source": [
    "dataset.obs[[\"AvgSpotLen\", \"Bases\", \"Bytes\", \"version\"]] = dataset.obs[[\"AvgSpotLen\", \"Bases\", \"Bytes\", \"version\"]].astype(\"str\")"
   ]
  },
  {
   "cell_type": "code",
   "execution_count": null,
   "id": "99f95dca-cf68-4a51-8f53-ca088aa3167b",
   "metadata": {
    "execution": {
     "iopub.execute_input": "2023-05-15T09:23:48.323131Z",
     "iopub.status.busy": "2023-05-15T09:23:48.322935Z",
     "iopub.status.idle": "2023-05-15T09:24:05.497081Z",
     "shell.execute_reply": "2023-05-15T09:24:05.496635Z"
    },
    "papermill": {
     "duration": 17.177558,
     "end_time": "2023-05-15T09:24:05.498393",
     "exception": false,
     "start_time": "2023-05-15T09:23:48.320835",
     "status": "completed"
    },
    "tags": []
   },
   "outputs": [],
   "source": [
    "%%R -i dataset\n",
    "\n",
    "sce <- SingleCellExperiment(list(counts=dataset@assays@data[[\"soupX_counts\"]]),\n",
    "    colData=dataset@colData,\n",
    ")\n",
    "\n",
    "row.names(sce) <- row.names(dataset)\n",
    "\n",
    "data <- as.Seurat(sce, data = NULL)"
   ]
  },
  {
   "cell_type": "code",
   "execution_count": null,
   "id": "0b749876-ea5a-403c-8b0b-51afc8a633e3",
   "metadata": {
    "execution": {
     "iopub.execute_input": "2023-05-15T09:24:05.504437Z",
     "iopub.status.busy": "2023-05-15T09:24:05.504272Z",
     "iopub.status.idle": "2023-05-15T09:24:13.698047Z",
     "shell.execute_reply": "2023-05-15T09:24:13.697569Z"
    },
    "papermill": {
     "duration": 8.197249,
     "end_time": "2023-05-15T09:24:13.699239",
     "exception": false,
     "start_time": "2023-05-15T09:24:05.501990",
     "status": "completed"
    },
    "tags": []
   },
   "outputs": [],
   "source": [
    "%%R\n",
    "data"
   ]
  },
  {
   "cell_type": "code",
   "execution_count": null,
   "id": "b6b29b0e-92c4-4d4f-b835-c5e9d7d59455",
   "metadata": {
    "execution": {
     "iopub.execute_input": "2023-05-15T09:24:13.707235Z",
     "iopub.status.busy": "2023-05-15T09:24:13.707091Z",
     "iopub.status.idle": "2023-05-15T09:24:30.477586Z",
     "shell.execute_reply": "2023-05-15T09:24:30.476985Z"
    },
    "papermill": {
     "duration": 16.775207,
     "end_time": "2023-05-15T09:24:30.479111",
     "exception": false,
     "start_time": "2023-05-15T09:24:13.703904",
     "status": "completed"
    },
    "tags": []
   },
   "outputs": [],
   "source": [
    "%%R\n",
    "\n",
    "data <- NormalizeData(data)\n",
    "data <- ScaleData(data, features = row.names(data))\n",
    "data <- FindVariableFeatures(data)\n",
    "data <- RunPCA(data, verbose = F)\n",
    "data <- FindNeighbors(data, verbose = F)\n",
    "data <- FindClusters(data, verbose = F)\n",
    "data <- RunUMAP(data, dims = 1:20, verbose = F)"
   ]
  },
  {
   "cell_type": "code",
   "execution_count": null,
   "id": "40fa5cdd-01d7-4b40-90e6-0c97545b0711",
   "metadata": {
    "execution": {
     "iopub.execute_input": "2023-05-15T09:24:30.487910Z",
     "iopub.status.busy": "2023-05-15T09:24:30.487727Z",
     "iopub.status.idle": "2023-05-15T09:25:07.113005Z",
     "shell.execute_reply": "2023-05-15T09:25:07.112558Z"
    },
    "papermill": {
     "duration": 36.634441,
     "end_time": "2023-05-15T09:25:07.118370",
     "exception": false,
     "start_time": "2023-05-15T09:24:30.483929",
     "status": "completed"
    },
    "tags": []
   },
   "outputs": [],
   "source": [
    "%%R\n",
    "\n",
    "ref1 <- celldex::BlueprintEncodeData()\n",
    "ref2 <- celldex::MonacoImmuneData()\n",
    "cell_classification <- SingleR(test = as.SingleCellExperiment(data),\n",
    "                               ref = list(BPE = ref1, MON = ref2),\n",
    "                               labels = list(ref1$label.main, ref2$label.main))\n",
    "\n",
    "data[[\"SingleR_label\"]] <- cell_classification$labels\n",
    "\n",
    "plotScoreHeatmap(cell_classification)"
   ]
  },
  {
   "cell_type": "code",
   "execution_count": null,
   "id": "6ad7cf2f-891f-4c05-b34d-e47c84bbe27b",
   "metadata": {
    "execution": {
     "iopub.execute_input": "2023-05-15T09:25:07.125494Z",
     "iopub.status.busy": "2023-05-15T09:25:07.125228Z",
     "iopub.status.idle": "2023-05-15T09:25:08.960392Z",
     "shell.execute_reply": "2023-05-15T09:25:08.959987Z"
    },
    "papermill": {
     "duration": 1.840077,
     "end_time": "2023-05-15T09:25:08.961537",
     "exception": false,
     "start_time": "2023-05-15T09:25:07.121460",
     "status": "completed"
    },
    "tags": []
   },
   "outputs": [],
   "source": [
    "%%R -i sample_name\n",
    "\n",
    "write.csv(data@meta.data, paste0(sample_name, \"_metadata.csv\"))"
   ]
  }
 ],
 "metadata": {
  "kernelspec": {
   "display_name": "py_R",
   "language": "python",
   "name": "python_r"
  },
  "language_info": {
   "codemirror_mode": {
    "name": "ipython",
    "version": 3
   },
   "file_extension": ".py",
   "mimetype": "text/x-python",
   "name": "python",
   "nbconvert_exporter": "python",
   "pygments_lexer": "ipython3",
   "version": "3.10.9"
  },
  "papermill": {
   "default_parameters": {},
   "duration": 98.087887,
   "end_time": "2023-05-15T09:25:10.584869",
   "environment_variables": {},
   "exception": null,
   "input_path": "template.ipynb",
   "output_path": "SRR13329111.ipynb",
   "parameters": {
    "sample_name": "SRR13329111"
   },
   "start_time": "2023-05-15T09:23:32.496982",
   "version": "2.3.4"
  }
 },
 "nbformat": 4,
 "nbformat_minor": 5
}
