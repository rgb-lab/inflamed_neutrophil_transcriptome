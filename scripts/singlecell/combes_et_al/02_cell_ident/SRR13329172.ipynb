{
 "cells": [
  {
   "cell_type": "code",
   "execution_count": null,
   "id": "78a6243e-1906-4e3b-ae98-4b5bd21bd37c",
   "metadata": {
    "execution": {
     "iopub.execute_input": "2023-05-15T09:45:34.467818Z",
     "iopub.status.busy": "2023-05-15T09:45:34.467495Z",
     "iopub.status.idle": "2023-05-15T09:45:34.471766Z",
     "shell.execute_reply": "2023-05-15T09:45:34.471463Z"
    },
    "papermill": {
     "duration": 0.007775,
     "end_time": "2023-05-15T09:45:34.472595",
     "exception": false,
     "start_time": "2023-05-15T09:45:34.464820",
     "status": "completed"
    },
    "tags": [
     "parameters"
    ]
   },
   "outputs": [],
   "source": [
    "sample_name = \"SRR13329143\""
   ]
  },
  {
   "cell_type": "code",
   "execution_count": null,
   "id": "33a6be4c",
   "metadata": {
    "execution": {
     "iopub.execute_input": "2023-05-15T09:45:34.476284Z",
     "iopub.status.busy": "2023-05-15T09:45:34.476037Z",
     "iopub.status.idle": "2023-05-15T09:45:34.478032Z",
     "shell.execute_reply": "2023-05-15T09:45:34.477733Z"
    },
    "papermill": {
     "duration": 0.004761,
     "end_time": "2023-05-15T09:45:34.478923",
     "exception": false,
     "start_time": "2023-05-15T09:45:34.474162",
     "status": "completed"
    },
    "tags": [
     "injected-parameters"
    ]
   },
   "outputs": [],
   "source": [
    "# Parameters\n",
    "sample_name = \"SRR13329172\"\n"
   ]
  },
  {
   "cell_type": "code",
   "execution_count": null,
   "id": "487588d5-40a0-4c35-9cd9-ee9b3e2f1d4e",
   "metadata": {
    "execution": {
     "iopub.execute_input": "2023-05-15T09:45:34.482400Z",
     "iopub.status.busy": "2023-05-15T09:45:34.482146Z",
     "iopub.status.idle": "2023-05-15T09:45:34.484281Z",
     "shell.execute_reply": "2023-05-15T09:45:34.483979Z"
    },
    "papermill": {
     "duration": 0.004705,
     "end_time": "2023-05-15T09:45:34.485083",
     "exception": false,
     "start_time": "2023-05-15T09:45:34.480378",
     "status": "completed"
    },
    "tags": []
   },
   "outputs": [],
   "source": [
    "import warnings\n",
    "warnings.simplefilter(action='ignore', category=FutureWarning)\n",
    "warnings.simplefilter(action='ignore', category=UserWarning)"
   ]
  },
  {
   "cell_type": "code",
   "execution_count": null,
   "id": "5bba6a57-54cf-4720-8653-bf94afa536ad",
   "metadata": {
    "execution": {
     "iopub.execute_input": "2023-05-15T09:45:34.488587Z",
     "iopub.status.busy": "2023-05-15T09:45:34.488335Z",
     "iopub.status.idle": "2023-05-15T09:45:39.353077Z",
     "shell.execute_reply": "2023-05-15T09:45:39.352572Z"
    },
    "papermill": {
     "duration": 4.868115,
     "end_time": "2023-05-15T09:45:39.354618",
     "exception": false,
     "start_time": "2023-05-15T09:45:34.486503",
     "status": "completed"
    },
    "tags": []
   },
   "outputs": [],
   "source": [
    "import gc\n",
    "import scanpy as sc\n",
    "import muon as mu\n",
    "import seaborn as sns\n",
    "import os\n",
    "import pandas as pd\n",
    "from matplotlib import pyplot as plt\n",
    "\n",
    "os.environ['R_HOME'] = '/gpfs/bwfor/work/ws/hd_fu399-conda/conda/envs/python_R/lib/R/'\n",
    "import anndata2ri\n",
    "import logging\n",
    "\n",
    "import rpy2.rinterface_lib.callbacks as rcb\n",
    "import rpy2.robjects as ro\n",
    "\n",
    "rcb.logger.setLevel(logging.ERROR)\n",
    "ro.pandas2ri.activate()\n",
    "anndata2ri.activate()\n",
    "\n",
    "%load_ext rpy2.ipython"
   ]
  },
  {
   "cell_type": "code",
   "execution_count": null,
   "id": "0897f8ed-b086-4ddc-a32e-6ae638ff6d14",
   "metadata": {
    "execution": {
     "iopub.execute_input": "2023-05-15T09:45:39.361585Z",
     "iopub.status.busy": "2023-05-15T09:45:39.361271Z",
     "iopub.status.idle": "2023-05-15T09:45:46.906049Z",
     "shell.execute_reply": "2023-05-15T09:45:46.905451Z"
    },
    "papermill": {
     "duration": 7.548749,
     "end_time": "2023-05-15T09:45:46.907511",
     "exception": false,
     "start_time": "2023-05-15T09:45:39.358762",
     "status": "completed"
    },
    "tags": []
   },
   "outputs": [],
   "source": [
    "%%R\n",
    "\n",
    "suppressMessages(library(SeuratDisk))\n",
    "suppressMessages(library(SingleR))\n",
    "suppressMessages(library(Seurat))\n",
    "suppressMessages(library(SingleCellExperiment))\n",
    "suppressMessages(library(UCell))"
   ]
  },
  {
   "cell_type": "code",
   "execution_count": null,
   "id": "74c6b1b1-5af7-4955-a6cc-4532fc42a266",
   "metadata": {
    "execution": {
     "iopub.execute_input": "2023-05-15T09:45:46.914096Z",
     "iopub.status.busy": "2023-05-15T09:45:46.913914Z",
     "iopub.status.idle": "2023-05-15T09:45:47.213141Z",
     "shell.execute_reply": "2023-05-15T09:45:47.212724Z"
    },
    "papermill": {
     "duration": 0.30289,
     "end_time": "2023-05-15T09:45:47.214387",
     "exception": false,
     "start_time": "2023-05-15T09:45:46.911497",
     "status": "completed"
    },
    "tags": []
   },
   "outputs": [],
   "source": [
    "dataset = sc.read(f\"../../int_data/{sample_name}_qc.h5ad\")\n",
    "dataset.X = dataset.layers[\"soupX_counts\"]"
   ]
  },
  {
   "cell_type": "code",
   "execution_count": null,
   "id": "f2520f85-0ac2-4e0d-b7f1-e5b9ce4c769d",
   "metadata": {
    "execution": {
     "iopub.execute_input": "2023-05-15T09:45:47.220294Z",
     "iopub.status.busy": "2023-05-15T09:45:47.220025Z",
     "iopub.status.idle": "2023-05-15T09:45:47.227067Z",
     "shell.execute_reply": "2023-05-15T09:45:47.226730Z"
    },
    "papermill": {
     "duration": 0.009973,
     "end_time": "2023-05-15T09:45:47.227874",
     "exception": false,
     "start_time": "2023-05-15T09:45:47.217901",
     "status": "completed"
    },
    "tags": []
   },
   "outputs": [],
   "source": [
    "dataset.obs[[\"AvgSpotLen\", \"Bases\", \"Bytes\", \"version\"]] = dataset.obs[[\"AvgSpotLen\", \"Bases\", \"Bytes\", \"version\"]].astype(\"str\")"
   ]
  },
  {
   "cell_type": "code",
   "execution_count": null,
   "id": "99f95dca-cf68-4a51-8f53-ca088aa3167b",
   "metadata": {
    "execution": {
     "iopub.execute_input": "2023-05-15T09:45:47.231753Z",
     "iopub.status.busy": "2023-05-15T09:45:47.231552Z",
     "iopub.status.idle": "2023-05-15T09:45:54.081845Z",
     "shell.execute_reply": "2023-05-15T09:45:54.081231Z"
    },
    "papermill": {
     "duration": 6.853911,
     "end_time": "2023-05-15T09:45:54.083381",
     "exception": false,
     "start_time": "2023-05-15T09:45:47.229470",
     "status": "completed"
    },
    "tags": []
   },
   "outputs": [],
   "source": [
    "%%R -i dataset\n",
    "\n",
    "sce <- SingleCellExperiment(list(counts=dataset@assays@data[[\"soupX_counts\"]]),\n",
    "    colData=dataset@colData,\n",
    ")\n",
    "\n",
    "row.names(sce) <- row.names(dataset)\n",
    "\n",
    "data <- as.Seurat(sce, data = NULL)"
   ]
  },
  {
   "cell_type": "code",
   "execution_count": null,
   "id": "0b749876-ea5a-403c-8b0b-51afc8a633e3",
   "metadata": {
    "execution": {
     "iopub.execute_input": "2023-05-15T09:45:54.088361Z",
     "iopub.status.busy": "2023-05-15T09:45:54.088205Z",
     "iopub.status.idle": "2023-05-15T09:45:54.109080Z",
     "shell.execute_reply": "2023-05-15T09:45:54.108727Z"
    },
    "papermill": {
     "duration": 0.024136,
     "end_time": "2023-05-15T09:45:54.109868",
     "exception": false,
     "start_time": "2023-05-15T09:45:54.085732",
     "status": "completed"
    },
    "tags": []
   },
   "outputs": [],
   "source": [
    "%%R\n",
    "data"
   ]
  },
  {
   "cell_type": "code",
   "execution_count": null,
   "id": "b6b29b0e-92c4-4d4f-b835-c5e9d7d59455",
   "metadata": {
    "execution": {
     "iopub.execute_input": "2023-05-15T09:45:54.115391Z",
     "iopub.status.busy": "2023-05-15T09:45:54.115250Z",
     "iopub.status.idle": "2023-05-15T09:46:06.147404Z",
     "shell.execute_reply": "2023-05-15T09:46:06.146769Z"
    },
    "papermill": {
     "duration": 12.036415,
     "end_time": "2023-05-15T09:46:06.148790",
     "exception": false,
     "start_time": "2023-05-15T09:45:54.112375",
     "status": "completed"
    },
    "tags": []
   },
   "outputs": [],
   "source": [
    "%%R\n",
    "\n",
    "data <- NormalizeData(data)\n",
    "data <- ScaleData(data, features = row.names(data))\n",
    "data <- FindVariableFeatures(data)\n",
    "data <- RunPCA(data, verbose = F)\n",
    "data <- FindNeighbors(data, verbose = F)\n",
    "data <- FindClusters(data, verbose = F)\n",
    "data <- RunUMAP(data, dims = 1:20, verbose = F)"
   ]
  },
  {
   "cell_type": "code",
   "execution_count": null,
   "id": "40fa5cdd-01d7-4b40-90e6-0c97545b0711",
   "metadata": {
    "execution": {
     "iopub.execute_input": "2023-05-15T09:46:06.156902Z",
     "iopub.status.busy": "2023-05-15T09:46:06.156724Z",
     "iopub.status.idle": "2023-05-15T09:46:31.958972Z",
     "shell.execute_reply": "2023-05-15T09:46:31.958507Z"
    },
    "papermill": {
     "duration": 25.806405,
     "end_time": "2023-05-15T09:46:31.959915",
     "exception": false,
     "start_time": "2023-05-15T09:46:06.153510",
     "status": "completed"
    },
    "tags": []
   },
   "outputs": [],
   "source": [
    "%%R\n",
    "\n",
    "ref1 <- celldex::BlueprintEncodeData()\n",
    "ref2 <- celldex::MonacoImmuneData()\n",
    "cell_classification <- SingleR(test = as.SingleCellExperiment(data),\n",
    "                               ref = list(BPE = ref1, MON = ref2),\n",
    "                               labels = list(ref1$label.main, ref2$label.main))\n",
    "\n",
    "data[[\"SingleR_label\"]] <- cell_classification$labels\n",
    "\n",
    "plotScoreHeatmap(cell_classification)"
   ]
  },
  {
   "cell_type": "code",
   "execution_count": null,
   "id": "6ad7cf2f-891f-4c05-b34d-e47c84bbe27b",
   "metadata": {
    "execution": {
     "iopub.execute_input": "2023-05-15T09:46:31.969501Z",
     "iopub.status.busy": "2023-05-15T09:46:31.969214Z",
     "iopub.status.idle": "2023-05-15T09:46:32.302194Z",
     "shell.execute_reply": "2023-05-15T09:46:32.301782Z"
    },
    "papermill": {
     "duration": 0.337942,
     "end_time": "2023-05-15T09:46:32.303315",
     "exception": false,
     "start_time": "2023-05-15T09:46:31.965373",
     "status": "completed"
    },
    "tags": []
   },
   "outputs": [],
   "source": [
    "%%R -i sample_name\n",
    "\n",
    "write.csv(data@meta.data, paste0(sample_name, \"_metadata.csv\"))"
   ]
  }
 ],
 "metadata": {
  "kernelspec": {
   "display_name": "py_R",
   "language": "python",
   "name": "python_r"
  },
  "language_info": {
   "codemirror_mode": {
    "name": "ipython",
    "version": 3
   },
   "file_extension": ".py",
   "mimetype": "text/x-python",
   "name": "python",
   "nbconvert_exporter": "python",
   "pygments_lexer": "ipython3",
   "version": "3.10.9"
  },
  "papermill": {
   "default_parameters": {},
   "duration": 60.502698,
   "end_time": "2023-05-15T09:46:33.624448",
   "environment_variables": {},
   "exception": null,
   "input_path": "template.ipynb",
   "output_path": "SRR13329172.ipynb",
   "parameters": {
    "sample_name": "SRR13329172"
   },
   "start_time": "2023-05-15T09:45:33.121750",
   "version": "2.3.4"
  }
 },
 "nbformat": 4,
 "nbformat_minor": 5
}
