{
 "cells": [
  {
   "cell_type": "code",
   "execution_count": null,
   "id": "78a6243e-1906-4e3b-ae98-4b5bd21bd37c",
   "metadata": {
    "execution": {
     "iopub.execute_input": "2023-05-15T09:58:58.959211Z",
     "iopub.status.busy": "2023-05-15T09:58:58.959081Z",
     "iopub.status.idle": "2023-05-15T09:58:58.963727Z",
     "shell.execute_reply": "2023-05-15T09:58:58.963422Z"
    },
    "papermill": {
     "duration": 0.007907,
     "end_time": "2023-05-15T09:58:58.964596",
     "exception": false,
     "start_time": "2023-05-15T09:58:58.956689",
     "status": "completed"
    },
    "tags": [
     "parameters"
    ]
   },
   "outputs": [],
   "source": [
    "sample_name = \"SRR13329143\""
   ]
  },
  {
   "cell_type": "code",
   "execution_count": null,
   "id": "9790cdee",
   "metadata": {
    "execution": {
     "iopub.execute_input": "2023-05-15T09:58:58.968031Z",
     "iopub.status.busy": "2023-05-15T09:58:58.967882Z",
     "iopub.status.idle": "2023-05-15T09:58:58.969794Z",
     "shell.execute_reply": "2023-05-15T09:58:58.969498Z"
    },
    "papermill": {
     "duration": 0.004422,
     "end_time": "2023-05-15T09:58:58.970550",
     "exception": false,
     "start_time": "2023-05-15T09:58:58.966128",
     "status": "completed"
    },
    "tags": [
     "injected-parameters"
    ]
   },
   "outputs": [],
   "source": [
    "# Parameters\n",
    "sample_name = \"SRR13329169\"\n"
   ]
  },
  {
   "cell_type": "code",
   "execution_count": null,
   "id": "487588d5-40a0-4c35-9cd9-ee9b3e2f1d4e",
   "metadata": {
    "execution": {
     "iopub.execute_input": "2023-05-15T09:58:58.973939Z",
     "iopub.status.busy": "2023-05-15T09:58:58.973736Z",
     "iopub.status.idle": "2023-05-15T09:58:58.975828Z",
     "shell.execute_reply": "2023-05-15T09:58:58.975535Z"
    },
    "papermill": {
     "duration": 0.004634,
     "end_time": "2023-05-15T09:58:58.976577",
     "exception": false,
     "start_time": "2023-05-15T09:58:58.971943",
     "status": "completed"
    },
    "tags": []
   },
   "outputs": [],
   "source": [
    "import warnings\n",
    "warnings.simplefilter(action='ignore', category=FutureWarning)\n",
    "warnings.simplefilter(action='ignore', category=UserWarning)"
   ]
  },
  {
   "cell_type": "code",
   "execution_count": null,
   "id": "5bba6a57-54cf-4720-8653-bf94afa536ad",
   "metadata": {
    "execution": {
     "iopub.execute_input": "2023-05-15T09:58:58.979948Z",
     "iopub.status.busy": "2023-05-15T09:58:58.979743Z",
     "iopub.status.idle": "2023-05-15T09:59:03.189807Z",
     "shell.execute_reply": "2023-05-15T09:59:03.189290Z"
    },
    "papermill": {
     "duration": 4.213452,
     "end_time": "2023-05-15T09:59:03.191434",
     "exception": false,
     "start_time": "2023-05-15T09:58:58.977982",
     "status": "completed"
    },
    "tags": []
   },
   "outputs": [],
   "source": [
    "import gc\n",
    "import scanpy as sc\n",
    "import muon as mu\n",
    "import seaborn as sns\n",
    "import os\n",
    "import pandas as pd\n",
    "from matplotlib import pyplot as plt\n",
    "\n",
    "os.environ['R_HOME'] = '/gpfs/bwfor/work/ws/hd_fu399-conda/conda/envs/python_R/lib/R/'\n",
    "import anndata2ri\n",
    "import logging\n",
    "\n",
    "import rpy2.rinterface_lib.callbacks as rcb\n",
    "import rpy2.robjects as ro\n",
    "\n",
    "rcb.logger.setLevel(logging.ERROR)\n",
    "ro.pandas2ri.activate()\n",
    "anndata2ri.activate()\n",
    "\n",
    "%load_ext rpy2.ipython"
   ]
  },
  {
   "cell_type": "code",
   "execution_count": null,
   "id": "0897f8ed-b086-4ddc-a32e-6ae638ff6d14",
   "metadata": {
    "execution": {
     "iopub.execute_input": "2023-05-15T09:59:03.197504Z",
     "iopub.status.busy": "2023-05-15T09:59:03.197230Z",
     "iopub.status.idle": "2023-05-15T09:59:10.379086Z",
     "shell.execute_reply": "2023-05-15T09:59:10.378474Z"
    },
    "papermill": {
     "duration": 7.185469,
     "end_time": "2023-05-15T09:59:10.380617",
     "exception": false,
     "start_time": "2023-05-15T09:59:03.195148",
     "status": "completed"
    },
    "tags": []
   },
   "outputs": [],
   "source": [
    "%%R\n",
    "\n",
    "suppressMessages(library(SeuratDisk))\n",
    "suppressMessages(library(SingleR))\n",
    "suppressMessages(library(Seurat))\n",
    "suppressMessages(library(SingleCellExperiment))\n",
    "suppressMessages(library(UCell))"
   ]
  },
  {
   "cell_type": "code",
   "execution_count": null,
   "id": "74c6b1b1-5af7-4955-a6cc-4532fc42a266",
   "metadata": {
    "execution": {
     "iopub.execute_input": "2023-05-15T09:59:10.387019Z",
     "iopub.status.busy": "2023-05-15T09:59:10.386859Z",
     "iopub.status.idle": "2023-05-15T09:59:10.527198Z",
     "shell.execute_reply": "2023-05-15T09:59:10.526749Z"
    },
    "papermill": {
     "duration": 0.144012,
     "end_time": "2023-05-15T09:59:10.528602",
     "exception": false,
     "start_time": "2023-05-15T09:59:10.384590",
     "status": "completed"
    },
    "tags": []
   },
   "outputs": [],
   "source": [
    "dataset = sc.read(f\"../../int_data/{sample_name}_qc.h5ad\")\n",
    "dataset.X = dataset.layers[\"soupX_counts\"]"
   ]
  },
  {
   "cell_type": "code",
   "execution_count": null,
   "id": "f2520f85-0ac2-4e0d-b7f1-e5b9ce4c769d",
   "metadata": {
    "execution": {
     "iopub.execute_input": "2023-05-15T09:59:10.532905Z",
     "iopub.status.busy": "2023-05-15T09:59:10.532737Z",
     "iopub.status.idle": "2023-05-15T09:59:10.538530Z",
     "shell.execute_reply": "2023-05-15T09:59:10.538189Z"
    },
    "papermill": {
     "duration": 0.008786,
     "end_time": "2023-05-15T09:59:10.539339",
     "exception": false,
     "start_time": "2023-05-15T09:59:10.530553",
     "status": "completed"
    },
    "tags": []
   },
   "outputs": [],
   "source": [
    "dataset.obs[[\"AvgSpotLen\", \"Bases\", \"Bytes\", \"version\"]] = dataset.obs[[\"AvgSpotLen\", \"Bases\", \"Bytes\", \"version\"]].astype(\"str\")"
   ]
  },
  {
   "cell_type": "code",
   "execution_count": null,
   "id": "99f95dca-cf68-4a51-8f53-ca088aa3167b",
   "metadata": {
    "execution": {
     "iopub.execute_input": "2023-05-15T09:59:10.543055Z",
     "iopub.status.busy": "2023-05-15T09:59:10.542897Z",
     "iopub.status.idle": "2023-05-15T09:59:14.910415Z",
     "shell.execute_reply": "2023-05-15T09:59:14.909915Z"
    },
    "papermill": {
     "duration": 4.371091,
     "end_time": "2023-05-15T09:59:14.911961",
     "exception": false,
     "start_time": "2023-05-15T09:59:10.540870",
     "status": "completed"
    },
    "tags": []
   },
   "outputs": [],
   "source": [
    "%%R -i dataset\n",
    "\n",
    "sce <- SingleCellExperiment(list(counts=dataset@assays@data[[\"soupX_counts\"]]),\n",
    "    colData=dataset@colData,\n",
    ")\n",
    "\n",
    "row.names(sce) <- row.names(dataset)\n",
    "\n",
    "data <- as.Seurat(sce, data = NULL)"
   ]
  },
  {
   "cell_type": "code",
   "execution_count": null,
   "id": "0b749876-ea5a-403c-8b0b-51afc8a633e3",
   "metadata": {
    "execution": {
     "iopub.execute_input": "2023-05-15T09:59:14.918805Z",
     "iopub.status.busy": "2023-05-15T09:59:14.918655Z",
     "iopub.status.idle": "2023-05-15T09:59:14.939542Z",
     "shell.execute_reply": "2023-05-15T09:59:14.939210Z"
    },
    "papermill": {
     "duration": 0.024042,
     "end_time": "2023-05-15T09:59:14.940383",
     "exception": false,
     "start_time": "2023-05-15T09:59:14.916341",
     "status": "completed"
    },
    "tags": []
   },
   "outputs": [],
   "source": [
    "%%R\n",
    "data"
   ]
  },
  {
   "cell_type": "code",
   "execution_count": null,
   "id": "b6b29b0e-92c4-4d4f-b835-c5e9d7d59455",
   "metadata": {
    "execution": {
     "iopub.execute_input": "2023-05-15T09:59:14.946291Z",
     "iopub.status.busy": "2023-05-15T09:59:14.946152Z",
     "iopub.status.idle": "2023-05-15T09:59:23.179146Z",
     "shell.execute_reply": "2023-05-15T09:59:23.178643Z"
    },
    "papermill": {
     "duration": 8.237543,
     "end_time": "2023-05-15T09:59:23.180420",
     "exception": false,
     "start_time": "2023-05-15T09:59:14.942877",
     "status": "completed"
    },
    "tags": []
   },
   "outputs": [],
   "source": [
    "%%R\n",
    "\n",
    "data <- NormalizeData(data)\n",
    "data <- ScaleData(data, features = row.names(data))\n",
    "data <- FindVariableFeatures(data)\n",
    "data <- RunPCA(data, verbose = F)\n",
    "data <- FindNeighbors(data, verbose = F)\n",
    "data <- FindClusters(data, verbose = F)\n",
    "data <- RunUMAP(data, dims = 1:20, verbose = F)"
   ]
  },
  {
   "cell_type": "code",
   "execution_count": null,
   "id": "40fa5cdd-01d7-4b40-90e6-0c97545b0711",
   "metadata": {
    "execution": {
     "iopub.execute_input": "2023-05-15T09:59:23.187586Z",
     "iopub.status.busy": "2023-05-15T09:59:23.187422Z",
     "iopub.status.idle": "2023-05-15T09:59:47.996338Z",
     "shell.execute_reply": "2023-05-15T09:59:47.995945Z"
    },
    "papermill": {
     "duration": 24.81283,
     "end_time": "2023-05-15T09:59:47.997395",
     "exception": false,
     "start_time": "2023-05-15T09:59:23.184565",
     "status": "completed"
    },
    "tags": []
   },
   "outputs": [],
   "source": [
    "%%R\n",
    "\n",
    "ref1 <- celldex::BlueprintEncodeData()\n",
    "ref2 <- celldex::MonacoImmuneData()\n",
    "cell_classification <- SingleR(test = as.SingleCellExperiment(data),\n",
    "                               ref = list(BPE = ref1, MON = ref2),\n",
    "                               labels = list(ref1$label.main, ref2$label.main))\n",
    "\n",
    "data[[\"SingleR_label\"]] <- cell_classification$labels\n",
    "\n",
    "plotScoreHeatmap(cell_classification)"
   ]
  },
  {
   "cell_type": "code",
   "execution_count": null,
   "id": "6ad7cf2f-891f-4c05-b34d-e47c84bbe27b",
   "metadata": {
    "execution": {
     "iopub.execute_input": "2023-05-15T09:59:48.006991Z",
     "iopub.status.busy": "2023-05-15T09:59:48.006717Z",
     "iopub.status.idle": "2023-05-15T09:59:48.286051Z",
     "shell.execute_reply": "2023-05-15T09:59:48.285626Z"
    },
    "papermill": {
     "duration": 0.284187,
     "end_time": "2023-05-15T09:59:48.287177",
     "exception": false,
     "start_time": "2023-05-15T09:59:48.002990",
     "status": "completed"
    },
    "tags": []
   },
   "outputs": [],
   "source": [
    "%%R -i sample_name\n",
    "\n",
    "write.csv(data@meta.data, paste0(sample_name, \"_metadata.csv\"))"
   ]
  }
 ],
 "metadata": {
  "kernelspec": {
   "display_name": "py_R",
   "language": "python",
   "name": "python_r"
  },
  "language_info": {
   "codemirror_mode": {
    "name": "ipython",
    "version": 3
   },
   "file_extension": ".py",
   "mimetype": "text/x-python",
   "name": "python",
   "nbconvert_exporter": "python",
   "pygments_lexer": "ipython3",
   "version": "3.10.9"
  },
  "papermill": {
   "default_parameters": {},
   "duration": 51.676938,
   "end_time": "2023-05-15T09:59:49.515072",
   "environment_variables": {},
   "exception": null,
   "input_path": "template.ipynb",
   "output_path": "SRR13329169.ipynb",
   "parameters": {
    "sample_name": "SRR13329169"
   },
   "start_time": "2023-05-15T09:58:57.838134",
   "version": "2.3.4"
  }
 },
 "nbformat": 4,
 "nbformat_minor": 5
}
