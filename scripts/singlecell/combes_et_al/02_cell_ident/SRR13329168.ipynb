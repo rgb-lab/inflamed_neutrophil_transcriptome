{
 "cells": [
  {
   "cell_type": "code",
   "execution_count": null,
   "id": "78a6243e-1906-4e3b-ae98-4b5bd21bd37c",
   "metadata": {
    "execution": {
     "iopub.execute_input": "2023-05-15T09:39:56.024820Z",
     "iopub.status.busy": "2023-05-15T09:39:56.024470Z",
     "iopub.status.idle": "2023-05-15T09:39:56.031340Z",
     "shell.execute_reply": "2023-05-15T09:39:56.030585Z"
    },
    "papermill": {
     "duration": 0.011223,
     "end_time": "2023-05-15T09:39:56.032557",
     "exception": false,
     "start_time": "2023-05-15T09:39:56.021334",
     "status": "completed"
    },
    "tags": [
     "parameters"
    ]
   },
   "outputs": [],
   "source": [
    "sample_name = \"SRR13329143\""
   ]
  },
  {
   "cell_type": "code",
   "execution_count": null,
   "id": "a0d4f689",
   "metadata": {
    "execution": {
     "iopub.execute_input": "2023-05-15T09:39:56.036791Z",
     "iopub.status.busy": "2023-05-15T09:39:56.036319Z",
     "iopub.status.idle": "2023-05-15T09:39:56.039325Z",
     "shell.execute_reply": "2023-05-15T09:39:56.038732Z"
    },
    "papermill": {
     "duration": 0.006124,
     "end_time": "2023-05-15T09:39:56.040275",
     "exception": false,
     "start_time": "2023-05-15T09:39:56.034151",
     "status": "completed"
    },
    "tags": [
     "injected-parameters"
    ]
   },
   "outputs": [],
   "source": [
    "# Parameters\n",
    "sample_name = \"SRR13329168\"\n"
   ]
  },
  {
   "cell_type": "code",
   "execution_count": null,
   "id": "487588d5-40a0-4c35-9cd9-ee9b3e2f1d4e",
   "metadata": {
    "execution": {
     "iopub.execute_input": "2023-05-15T09:39:56.044311Z",
     "iopub.status.busy": "2023-05-15T09:39:56.043755Z",
     "iopub.status.idle": "2023-05-15T09:39:56.046924Z",
     "shell.execute_reply": "2023-05-15T09:39:56.046389Z"
    },
    "papermill": {
     "duration": 0.006146,
     "end_time": "2023-05-15T09:39:56.047835",
     "exception": false,
     "start_time": "2023-05-15T09:39:56.041689",
     "status": "completed"
    },
    "tags": []
   },
   "outputs": [],
   "source": [
    "import warnings\n",
    "warnings.simplefilter(action='ignore', category=FutureWarning)\n",
    "warnings.simplefilter(action='ignore', category=UserWarning)"
   ]
  },
  {
   "cell_type": "code",
   "execution_count": null,
   "id": "5bba6a57-54cf-4720-8653-bf94afa536ad",
   "metadata": {
    "execution": {
     "iopub.execute_input": "2023-05-15T09:39:56.051760Z",
     "iopub.status.busy": "2023-05-15T09:39:56.051360Z",
     "iopub.status.idle": "2023-05-15T09:40:00.664474Z",
     "shell.execute_reply": "2023-05-15T09:40:00.663957Z"
    },
    "papermill": {
     "duration": 4.616769,
     "end_time": "2023-05-15T09:40:00.666032",
     "exception": false,
     "start_time": "2023-05-15T09:39:56.049263",
     "status": "completed"
    },
    "tags": []
   },
   "outputs": [],
   "source": [
    "import gc\n",
    "import scanpy as sc\n",
    "import muon as mu\n",
    "import seaborn as sns\n",
    "import os\n",
    "import pandas as pd\n",
    "from matplotlib import pyplot as plt\n",
    "\n",
    "os.environ['R_HOME'] = '/gpfs/bwfor/work/ws/hd_fu399-conda/conda/envs/python_R/lib/R/'\n",
    "import anndata2ri\n",
    "import logging\n",
    "\n",
    "import rpy2.rinterface_lib.callbacks as rcb\n",
    "import rpy2.robjects as ro\n",
    "\n",
    "rcb.logger.setLevel(logging.ERROR)\n",
    "ro.pandas2ri.activate()\n",
    "anndata2ri.activate()\n",
    "\n",
    "%load_ext rpy2.ipython"
   ]
  },
  {
   "cell_type": "code",
   "execution_count": null,
   "id": "0897f8ed-b086-4ddc-a32e-6ae638ff6d14",
   "metadata": {
    "execution": {
     "iopub.execute_input": "2023-05-15T09:40:00.672461Z",
     "iopub.status.busy": "2023-05-15T09:40:00.672097Z",
     "iopub.status.idle": "2023-05-15T09:40:08.461034Z",
     "shell.execute_reply": "2023-05-15T09:40:08.460368Z"
    },
    "papermill": {
     "duration": 7.793339,
     "end_time": "2023-05-15T09:40:08.463065",
     "exception": false,
     "start_time": "2023-05-15T09:40:00.669726",
     "status": "completed"
    },
    "tags": []
   },
   "outputs": [],
   "source": [
    "%%R\n",
    "\n",
    "suppressMessages(library(SeuratDisk))\n",
    "suppressMessages(library(SingleR))\n",
    "suppressMessages(library(Seurat))\n",
    "suppressMessages(library(SingleCellExperiment))\n",
    "suppressMessages(library(UCell))"
   ]
  },
  {
   "cell_type": "code",
   "execution_count": null,
   "id": "74c6b1b1-5af7-4955-a6cc-4532fc42a266",
   "metadata": {
    "execution": {
     "iopub.execute_input": "2023-05-15T09:40:08.469124Z",
     "iopub.status.busy": "2023-05-15T09:40:08.468941Z",
     "iopub.status.idle": "2023-05-15T09:40:08.591118Z",
     "shell.execute_reply": "2023-05-15T09:40:08.590621Z"
    },
    "papermill": {
     "duration": 0.12607,
     "end_time": "2023-05-15T09:40:08.592659",
     "exception": false,
     "start_time": "2023-05-15T09:40:08.466589",
     "status": "completed"
    },
    "tags": []
   },
   "outputs": [],
   "source": [
    "dataset = sc.read(f\"../../int_data/{sample_name}_qc.h5ad\")\n",
    "dataset.X = dataset.layers[\"soupX_counts\"]"
   ]
  },
  {
   "cell_type": "code",
   "execution_count": null,
   "id": "f2520f85-0ac2-4e0d-b7f1-e5b9ce4c769d",
   "metadata": {
    "execution": {
     "iopub.execute_input": "2023-05-15T09:40:08.597314Z",
     "iopub.status.busy": "2023-05-15T09:40:08.597158Z",
     "iopub.status.idle": "2023-05-15T09:40:08.603026Z",
     "shell.execute_reply": "2023-05-15T09:40:08.602682Z"
    },
    "papermill": {
     "duration": 0.008892,
     "end_time": "2023-05-15T09:40:08.603850",
     "exception": false,
     "start_time": "2023-05-15T09:40:08.594958",
     "status": "completed"
    },
    "tags": []
   },
   "outputs": [],
   "source": [
    "dataset.obs[[\"AvgSpotLen\", \"Bases\", \"Bytes\", \"version\"]] = dataset.obs[[\"AvgSpotLen\", \"Bases\", \"Bytes\", \"version\"]].astype(\"str\")"
   ]
  },
  {
   "cell_type": "code",
   "execution_count": null,
   "id": "99f95dca-cf68-4a51-8f53-ca088aa3167b",
   "metadata": {
    "execution": {
     "iopub.execute_input": "2023-05-15T09:40:08.607958Z",
     "iopub.status.busy": "2023-05-15T09:40:08.607642Z",
     "iopub.status.idle": "2023-05-15T09:40:13.107333Z",
     "shell.execute_reply": "2023-05-15T09:40:13.106706Z"
    },
    "papermill": {
     "duration": 4.503455,
     "end_time": "2023-05-15T09:40:13.108931",
     "exception": false,
     "start_time": "2023-05-15T09:40:08.605476",
     "status": "completed"
    },
    "tags": []
   },
   "outputs": [],
   "source": [
    "%%R -i dataset\n",
    "\n",
    "sce <- SingleCellExperiment(list(counts=dataset@assays@data[[\"soupX_counts\"]]),\n",
    "    colData=dataset@colData,\n",
    ")\n",
    "\n",
    "row.names(sce) <- row.names(dataset)\n",
    "\n",
    "data <- as.Seurat(sce, data = NULL)"
   ]
  },
  {
   "cell_type": "code",
   "execution_count": null,
   "id": "0b749876-ea5a-403c-8b0b-51afc8a633e3",
   "metadata": {
    "execution": {
     "iopub.execute_input": "2023-05-15T09:40:13.113838Z",
     "iopub.status.busy": "2023-05-15T09:40:13.113677Z",
     "iopub.status.idle": "2023-05-15T09:40:13.136056Z",
     "shell.execute_reply": "2023-05-15T09:40:13.135705Z"
    },
    "papermill": {
     "duration": 0.025521,
     "end_time": "2023-05-15T09:40:13.136824",
     "exception": false,
     "start_time": "2023-05-15T09:40:13.111303",
     "status": "completed"
    },
    "tags": []
   },
   "outputs": [],
   "source": [
    "%%R\n",
    "data"
   ]
  },
  {
   "cell_type": "code",
   "execution_count": null,
   "id": "b6b29b0e-92c4-4d4f-b835-c5e9d7d59455",
   "metadata": {
    "execution": {
     "iopub.execute_input": "2023-05-15T09:40:13.142358Z",
     "iopub.status.busy": "2023-05-15T09:40:13.142070Z",
     "iopub.status.idle": "2023-05-15T09:40:21.894260Z",
     "shell.execute_reply": "2023-05-15T09:40:21.893512Z"
    },
    "papermill": {
     "duration": 8.756603,
     "end_time": "2023-05-15T09:40:21.895862",
     "exception": false,
     "start_time": "2023-05-15T09:40:13.139259",
     "status": "completed"
    },
    "tags": []
   },
   "outputs": [],
   "source": [
    "%%R\n",
    "\n",
    "data <- NormalizeData(data)\n",
    "data <- ScaleData(data, features = row.names(data))\n",
    "data <- FindVariableFeatures(data)\n",
    "data <- RunPCA(data, verbose = F)\n",
    "data <- FindNeighbors(data, verbose = F)\n",
    "data <- FindClusters(data, verbose = F)\n",
    "data <- RunUMAP(data, dims = 1:20, verbose = F)"
   ]
  },
  {
   "cell_type": "code",
   "execution_count": null,
   "id": "40fa5cdd-01d7-4b40-90e6-0c97545b0711",
   "metadata": {
    "execution": {
     "iopub.execute_input": "2023-05-15T09:40:21.904393Z",
     "iopub.status.busy": "2023-05-15T09:40:21.904223Z",
     "iopub.status.idle": "2023-05-15T09:40:48.095844Z",
     "shell.execute_reply": "2023-05-15T09:40:48.095396Z"
    },
    "papermill": {
     "duration": 26.196167,
     "end_time": "2023-05-15T09:40:48.096752",
     "exception": false,
     "start_time": "2023-05-15T09:40:21.900585",
     "status": "completed"
    },
    "tags": []
   },
   "outputs": [],
   "source": [
    "%%R\n",
    "\n",
    "ref1 <- celldex::BlueprintEncodeData()\n",
    "ref2 <- celldex::MonacoImmuneData()\n",
    "cell_classification <- SingleR(test = as.SingleCellExperiment(data),\n",
    "                               ref = list(BPE = ref1, MON = ref2),\n",
    "                               labels = list(ref1$label.main, ref2$label.main))\n",
    "\n",
    "data[[\"SingleR_label\"]] <- cell_classification$labels\n",
    "\n",
    "plotScoreHeatmap(cell_classification)"
   ]
  },
  {
   "cell_type": "code",
   "execution_count": null,
   "id": "6ad7cf2f-891f-4c05-b34d-e47c84bbe27b",
   "metadata": {
    "execution": {
     "iopub.execute_input": "2023-05-15T09:40:48.106223Z",
     "iopub.status.busy": "2023-05-15T09:40:48.105913Z",
     "iopub.status.idle": "2023-05-15T09:40:48.373177Z",
     "shell.execute_reply": "2023-05-15T09:40:48.372751Z"
    },
    "papermill": {
     "duration": 0.272398,
     "end_time": "2023-05-15T09:40:48.374443",
     "exception": false,
     "start_time": "2023-05-15T09:40:48.102045",
     "status": "completed"
    },
    "tags": []
   },
   "outputs": [],
   "source": [
    "%%R -i sample_name\n",
    "\n",
    "write.csv(data@meta.data, paste0(sample_name, \"_metadata.csv\"))"
   ]
  }
 ],
 "metadata": {
  "kernelspec": {
   "display_name": "py_R",
   "language": "python",
   "name": "python_r"
  },
  "language_info": {
   "codemirror_mode": {
    "name": "ipython",
    "version": 3
   },
   "file_extension": ".py",
   "mimetype": "text/x-python",
   "name": "python",
   "nbconvert_exporter": "python",
   "pygments_lexer": "ipython3",
   "version": "3.10.9"
  },
  "papermill": {
   "default_parameters": {},
   "duration": 54.86906,
   "end_time": "2023-05-15T09:40:49.596827",
   "environment_variables": {},
   "exception": null,
   "input_path": "template.ipynb",
   "output_path": "SRR13329168.ipynb",
   "parameters": {
    "sample_name": "SRR13329168"
   },
   "start_time": "2023-05-15T09:39:54.727767",
   "version": "2.3.4"
  }
 },
 "nbformat": 4,
 "nbformat_minor": 5
}
