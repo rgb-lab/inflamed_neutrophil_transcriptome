{
 "cells": [
  {
   "cell_type": "code",
   "execution_count": null,
   "id": "78a6243e-1906-4e3b-ae98-4b5bd21bd37c",
   "metadata": {
    "execution": {
     "iopub.execute_input": "2023-05-15T09:34:37.590490Z",
     "iopub.status.busy": "2023-05-15T09:34:37.590272Z",
     "iopub.status.idle": "2023-05-15T09:34:37.596429Z",
     "shell.execute_reply": "2023-05-15T09:34:37.595877Z"
    },
    "papermill": {
     "duration": 0.009992,
     "end_time": "2023-05-15T09:34:37.597474",
     "exception": false,
     "start_time": "2023-05-15T09:34:37.587482",
     "status": "completed"
    },
    "tags": [
     "parameters"
    ]
   },
   "outputs": [],
   "source": [
    "sample_name = \"SRR13329143\""
   ]
  },
  {
   "cell_type": "code",
   "execution_count": null,
   "id": "e5152552",
   "metadata": {
    "execution": {
     "iopub.execute_input": "2023-05-15T09:34:37.601330Z",
     "iopub.status.busy": "2023-05-15T09:34:37.600898Z",
     "iopub.status.idle": "2023-05-15T09:34:37.603425Z",
     "shell.execute_reply": "2023-05-15T09:34:37.602946Z"
    },
    "papermill": {
     "duration": 0.005323,
     "end_time": "2023-05-15T09:34:37.604299",
     "exception": false,
     "start_time": "2023-05-15T09:34:37.598976",
     "status": "completed"
    },
    "tags": [
     "injected-parameters"
    ]
   },
   "outputs": [],
   "source": [
    "# Parameters\n",
    "sample_name = \"SRR13329154\"\n"
   ]
  },
  {
   "cell_type": "code",
   "execution_count": null,
   "id": "487588d5-40a0-4c35-9cd9-ee9b3e2f1d4e",
   "metadata": {
    "execution": {
     "iopub.execute_input": "2023-05-15T09:34:37.607943Z",
     "iopub.status.busy": "2023-05-15T09:34:37.607510Z",
     "iopub.status.idle": "2023-05-15T09:34:37.610287Z",
     "shell.execute_reply": "2023-05-15T09:34:37.609813Z"
    },
    "papermill": {
     "duration": 0.005422,
     "end_time": "2023-05-15T09:34:37.611103",
     "exception": false,
     "start_time": "2023-05-15T09:34:37.605681",
     "status": "completed"
    },
    "tags": []
   },
   "outputs": [],
   "source": [
    "import warnings\n",
    "warnings.simplefilter(action='ignore', category=FutureWarning)\n",
    "warnings.simplefilter(action='ignore', category=UserWarning)"
   ]
  },
  {
   "cell_type": "code",
   "execution_count": null,
   "id": "5bba6a57-54cf-4720-8653-bf94afa536ad",
   "metadata": {
    "execution": {
     "iopub.execute_input": "2023-05-15T09:34:37.614826Z",
     "iopub.status.busy": "2023-05-15T09:34:37.614412Z",
     "iopub.status.idle": "2023-05-15T09:34:54.822844Z",
     "shell.execute_reply": "2023-05-15T09:34:54.822107Z"
    },
    "papermill": {
     "duration": 17.211996,
     "end_time": "2023-05-15T09:34:54.824500",
     "exception": false,
     "start_time": "2023-05-15T09:34:37.612504",
     "status": "completed"
    },
    "tags": []
   },
   "outputs": [],
   "source": [
    "import gc\n",
    "import scanpy as sc\n",
    "import muon as mu\n",
    "import seaborn as sns\n",
    "import os\n",
    "import pandas as pd\n",
    "from matplotlib import pyplot as plt\n",
    "\n",
    "os.environ['R_HOME'] = '/gpfs/bwfor/work/ws/hd_fu399-conda/conda/envs/python_R/lib/R/'\n",
    "import anndata2ri\n",
    "import logging\n",
    "\n",
    "import rpy2.rinterface_lib.callbacks as rcb\n",
    "import rpy2.robjects as ro\n",
    "\n",
    "rcb.logger.setLevel(logging.ERROR)\n",
    "ro.pandas2ri.activate()\n",
    "anndata2ri.activate()\n",
    "\n",
    "%load_ext rpy2.ipython"
   ]
  },
  {
   "cell_type": "code",
   "execution_count": null,
   "id": "0897f8ed-b086-4ddc-a32e-6ae638ff6d14",
   "metadata": {
    "execution": {
     "iopub.execute_input": "2023-05-15T09:34:54.831878Z",
     "iopub.status.busy": "2023-05-15T09:34:54.831350Z",
     "iopub.status.idle": "2023-05-15T09:35:06.255098Z",
     "shell.execute_reply": "2023-05-15T09:35:06.254459Z"
    },
    "papermill": {
     "duration": 11.427863,
     "end_time": "2023-05-15T09:35:06.256632",
     "exception": false,
     "start_time": "2023-05-15T09:34:54.828769",
     "status": "completed"
    },
    "tags": []
   },
   "outputs": [],
   "source": [
    "%%R\n",
    "\n",
    "suppressMessages(library(SeuratDisk))\n",
    "suppressMessages(library(SingleR))\n",
    "suppressMessages(library(Seurat))\n",
    "suppressMessages(library(SingleCellExperiment))\n",
    "suppressMessages(library(UCell))"
   ]
  },
  {
   "cell_type": "code",
   "execution_count": null,
   "id": "74c6b1b1-5af7-4955-a6cc-4532fc42a266",
   "metadata": {
    "execution": {
     "iopub.execute_input": "2023-05-15T09:35:06.262843Z",
     "iopub.status.busy": "2023-05-15T09:35:06.262641Z",
     "iopub.status.idle": "2023-05-15T09:35:06.551357Z",
     "shell.execute_reply": "2023-05-15T09:35:06.550874Z"
    },
    "papermill": {
     "duration": 0.292465,
     "end_time": "2023-05-15T09:35:06.552835",
     "exception": false,
     "start_time": "2023-05-15T09:35:06.260370",
     "status": "completed"
    },
    "tags": []
   },
   "outputs": [],
   "source": [
    "dataset = sc.read(f\"../../int_data/{sample_name}_qc.h5ad\")\n",
    "dataset.X = dataset.layers[\"soupX_counts\"]"
   ]
  },
  {
   "cell_type": "code",
   "execution_count": null,
   "id": "f2520f85-0ac2-4e0d-b7f1-e5b9ce4c769d",
   "metadata": {
    "execution": {
     "iopub.execute_input": "2023-05-15T09:35:06.557229Z",
     "iopub.status.busy": "2023-05-15T09:35:06.557079Z",
     "iopub.status.idle": "2023-05-15T09:35:06.562973Z",
     "shell.execute_reply": "2023-05-15T09:35:06.562644Z"
    },
    "papermill": {
     "duration": 0.008784,
     "end_time": "2023-05-15T09:35:06.563759",
     "exception": false,
     "start_time": "2023-05-15T09:35:06.554975",
     "status": "completed"
    },
    "tags": []
   },
   "outputs": [],
   "source": [
    "dataset.obs[[\"AvgSpotLen\", \"Bases\", \"Bytes\", \"version\"]] = dataset.obs[[\"AvgSpotLen\", \"Bases\", \"Bytes\", \"version\"]].astype(\"str\")"
   ]
  },
  {
   "cell_type": "code",
   "execution_count": null,
   "id": "99f95dca-cf68-4a51-8f53-ca088aa3167b",
   "metadata": {
    "execution": {
     "iopub.execute_input": "2023-05-15T09:35:06.567495Z",
     "iopub.status.busy": "2023-05-15T09:35:06.567333Z",
     "iopub.status.idle": "2023-05-15T09:35:11.854159Z",
     "shell.execute_reply": "2023-05-15T09:35:11.853611Z"
    },
    "papermill": {
     "duration": 5.290404,
     "end_time": "2023-05-15T09:35:11.855745",
     "exception": false,
     "start_time": "2023-05-15T09:35:06.565341",
     "status": "completed"
    },
    "tags": []
   },
   "outputs": [],
   "source": [
    "%%R -i dataset\n",
    "\n",
    "sce <- SingleCellExperiment(list(counts=dataset@assays@data[[\"soupX_counts\"]]),\n",
    "    colData=dataset@colData,\n",
    ")\n",
    "\n",
    "row.names(sce) <- row.names(dataset)\n",
    "\n",
    "data <- as.Seurat(sce, data = NULL)"
   ]
  },
  {
   "cell_type": "code",
   "execution_count": null,
   "id": "0b749876-ea5a-403c-8b0b-51afc8a633e3",
   "metadata": {
    "execution": {
     "iopub.execute_input": "2023-05-15T09:35:11.862816Z",
     "iopub.status.busy": "2023-05-15T09:35:11.862477Z",
     "iopub.status.idle": "2023-05-15T09:35:11.886382Z",
     "shell.execute_reply": "2023-05-15T09:35:11.885990Z"
    },
    "papermill": {
     "duration": 0.02727,
     "end_time": "2023-05-15T09:35:11.887262",
     "exception": false,
     "start_time": "2023-05-15T09:35:11.859992",
     "status": "completed"
    },
    "tags": []
   },
   "outputs": [],
   "source": [
    "%%R\n",
    "data"
   ]
  },
  {
   "cell_type": "code",
   "execution_count": null,
   "id": "b6b29b0e-92c4-4d4f-b835-c5e9d7d59455",
   "metadata": {
    "execution": {
     "iopub.execute_input": "2023-05-15T09:35:11.892975Z",
     "iopub.status.busy": "2023-05-15T09:35:11.892691Z",
     "iopub.status.idle": "2023-05-15T09:35:20.461918Z",
     "shell.execute_reply": "2023-05-15T09:35:20.461450Z"
    },
    "papermill": {
     "duration": 8.573513,
     "end_time": "2023-05-15T09:35:20.463319",
     "exception": false,
     "start_time": "2023-05-15T09:35:11.889806",
     "status": "completed"
    },
    "tags": []
   },
   "outputs": [],
   "source": [
    "%%R\n",
    "\n",
    "data <- NormalizeData(data)\n",
    "data <- ScaleData(data, features = row.names(data))\n",
    "data <- FindVariableFeatures(data)\n",
    "data <- RunPCA(data, verbose = F)\n",
    "data <- FindNeighbors(data, verbose = F)\n",
    "data <- FindClusters(data, verbose = F)\n",
    "data <- RunUMAP(data, dims = 1:20, verbose = F)"
   ]
  },
  {
   "cell_type": "code",
   "execution_count": null,
   "id": "40fa5cdd-01d7-4b40-90e6-0c97545b0711",
   "metadata": {
    "execution": {
     "iopub.execute_input": "2023-05-15T09:35:20.471310Z",
     "iopub.status.busy": "2023-05-15T09:35:20.470862Z",
     "iopub.status.idle": "2023-05-15T09:35:41.303902Z",
     "shell.execute_reply": "2023-05-15T09:35:41.303441Z"
    },
    "papermill": {
     "duration": 20.837229,
     "end_time": "2023-05-15T09:35:41.304935",
     "exception": false,
     "start_time": "2023-05-15T09:35:20.467706",
     "status": "completed"
    },
    "tags": []
   },
   "outputs": [],
   "source": [
    "%%R\n",
    "\n",
    "ref1 <- celldex::BlueprintEncodeData()\n",
    "ref2 <- celldex::MonacoImmuneData()\n",
    "cell_classification <- SingleR(test = as.SingleCellExperiment(data),\n",
    "                               ref = list(BPE = ref1, MON = ref2),\n",
    "                               labels = list(ref1$label.main, ref2$label.main))\n",
    "\n",
    "data[[\"SingleR_label\"]] <- cell_classification$labels\n",
    "\n",
    "plotScoreHeatmap(cell_classification)"
   ]
  },
  {
   "cell_type": "code",
   "execution_count": null,
   "id": "6ad7cf2f-891f-4c05-b34d-e47c84bbe27b",
   "metadata": {
    "execution": {
     "iopub.execute_input": "2023-05-15T09:35:41.314287Z",
     "iopub.status.busy": "2023-05-15T09:35:41.314074Z",
     "iopub.status.idle": "2023-05-15T09:35:41.734079Z",
     "shell.execute_reply": "2023-05-15T09:35:41.733666Z"
    },
    "papermill": {
     "duration": 0.424901,
     "end_time": "2023-05-15T09:35:41.735293",
     "exception": false,
     "start_time": "2023-05-15T09:35:41.310392",
     "status": "completed"
    },
    "tags": []
   },
   "outputs": [],
   "source": [
    "%%R -i sample_name\n",
    "\n",
    "write.csv(data@meta.data, paste0(sample_name, \"_metadata.csv\"))"
   ]
  }
 ],
 "metadata": {
  "kernelspec": {
   "display_name": "py_R",
   "language": "python",
   "name": "python_r"
  },
  "language_info": {
   "codemirror_mode": {
    "name": "ipython",
    "version": 3
   },
   "file_extension": ".py",
   "mimetype": "text/x-python",
   "name": "python",
   "nbconvert_exporter": "python",
   "pygments_lexer": "ipython3",
   "version": "3.10.9"
  },
  "papermill": {
   "default_parameters": {},
   "duration": 66.78746,
   "end_time": "2023-05-15T09:35:43.056326",
   "environment_variables": {},
   "exception": null,
   "input_path": "template.ipynb",
   "output_path": "SRR13329154.ipynb",
   "parameters": {
    "sample_name": "SRR13329154"
   },
   "start_time": "2023-05-15T09:34:36.268866",
   "version": "2.3.4"
  }
 },
 "nbformat": 4,
 "nbformat_minor": 5
}
