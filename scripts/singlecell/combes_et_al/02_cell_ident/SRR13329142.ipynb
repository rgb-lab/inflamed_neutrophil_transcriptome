{
 "cells": [
  {
   "cell_type": "code",
   "execution_count": null,
   "id": "78a6243e-1906-4e3b-ae98-4b5bd21bd37c",
   "metadata": {
    "execution": {
     "iopub.execute_input": "2023-05-15T09:43:44.991225Z",
     "iopub.status.busy": "2023-05-15T09:43:44.991036Z",
     "iopub.status.idle": "2023-05-15T09:43:44.996703Z",
     "shell.execute_reply": "2023-05-15T09:43:44.996093Z"
    },
    "papermill": {
     "duration": 0.009602,
     "end_time": "2023-05-15T09:43:44.998042",
     "exception": false,
     "start_time": "2023-05-15T09:43:44.988440",
     "status": "completed"
    },
    "tags": [
     "parameters"
    ]
   },
   "outputs": [],
   "source": [
    "sample_name = \"SRR13329143\""
   ]
  },
  {
   "cell_type": "code",
   "execution_count": null,
   "id": "654c9069",
   "metadata": {
    "execution": {
     "iopub.execute_input": "2023-05-15T09:43:45.001748Z",
     "iopub.status.busy": "2023-05-15T09:43:45.001601Z",
     "iopub.status.idle": "2023-05-15T09:43:45.004309Z",
     "shell.execute_reply": "2023-05-15T09:43:45.003727Z"
    },
    "papermill": {
     "duration": 0.005634,
     "end_time": "2023-05-15T09:43:45.005245",
     "exception": false,
     "start_time": "2023-05-15T09:43:44.999611",
     "status": "completed"
    },
    "tags": [
     "injected-parameters"
    ]
   },
   "outputs": [],
   "source": [
    "# Parameters\n",
    "sample_name = \"SRR13329142\"\n"
   ]
  },
  {
   "cell_type": "code",
   "execution_count": null,
   "id": "487588d5-40a0-4c35-9cd9-ee9b3e2f1d4e",
   "metadata": {
    "execution": {
     "iopub.execute_input": "2023-05-15T09:43:45.009029Z",
     "iopub.status.busy": "2023-05-15T09:43:45.008595Z",
     "iopub.status.idle": "2023-05-15T09:43:45.011550Z",
     "shell.execute_reply": "2023-05-15T09:43:45.010989Z"
    },
    "papermill": {
     "duration": 0.005714,
     "end_time": "2023-05-15T09:43:45.012420",
     "exception": false,
     "start_time": "2023-05-15T09:43:45.006706",
     "status": "completed"
    },
    "tags": []
   },
   "outputs": [],
   "source": [
    "import warnings\n",
    "warnings.simplefilter(action='ignore', category=FutureWarning)\n",
    "warnings.simplefilter(action='ignore', category=UserWarning)"
   ]
  },
  {
   "cell_type": "code",
   "execution_count": null,
   "id": "5bba6a57-54cf-4720-8653-bf94afa536ad",
   "metadata": {
    "execution": {
     "iopub.execute_input": "2023-05-15T09:43:45.016054Z",
     "iopub.status.busy": "2023-05-15T09:43:45.015848Z",
     "iopub.status.idle": "2023-05-15T09:44:15.519577Z",
     "shell.execute_reply": "2023-05-15T09:44:15.518960Z"
    },
    "papermill": {
     "duration": 30.507159,
     "end_time": "2023-05-15T09:44:15.521041",
     "exception": false,
     "start_time": "2023-05-15T09:43:45.013882",
     "status": "completed"
    },
    "tags": []
   },
   "outputs": [],
   "source": [
    "import gc\n",
    "import scanpy as sc\n",
    "import muon as mu\n",
    "import seaborn as sns\n",
    "import os\n",
    "import pandas as pd\n",
    "from matplotlib import pyplot as plt\n",
    "\n",
    "os.environ['R_HOME'] = '/gpfs/bwfor/work/ws/hd_fu399-conda/conda/envs/python_R/lib/R/'\n",
    "import anndata2ri\n",
    "import logging\n",
    "\n",
    "import rpy2.rinterface_lib.callbacks as rcb\n",
    "import rpy2.robjects as ro\n",
    "\n",
    "rcb.logger.setLevel(logging.ERROR)\n",
    "ro.pandas2ri.activate()\n",
    "anndata2ri.activate()\n",
    "\n",
    "%load_ext rpy2.ipython"
   ]
  },
  {
   "cell_type": "code",
   "execution_count": null,
   "id": "0897f8ed-b086-4ddc-a32e-6ae638ff6d14",
   "metadata": {
    "execution": {
     "iopub.execute_input": "2023-05-15T09:44:15.528048Z",
     "iopub.status.busy": "2023-05-15T09:44:15.527721Z",
     "iopub.status.idle": "2023-05-15T09:44:26.155233Z",
     "shell.execute_reply": "2023-05-15T09:44:26.153954Z"
    },
    "papermill": {
     "duration": 10.63176,
     "end_time": "2023-05-15T09:44:26.157121",
     "exception": false,
     "start_time": "2023-05-15T09:44:15.525361",
     "status": "completed"
    },
    "tags": []
   },
   "outputs": [],
   "source": [
    "%%R\n",
    "\n",
    "suppressMessages(library(SeuratDisk))\n",
    "suppressMessages(library(SingleR))\n",
    "suppressMessages(library(Seurat))\n",
    "suppressMessages(library(SingleCellExperiment))\n",
    "suppressMessages(library(UCell))"
   ]
  },
  {
   "cell_type": "code",
   "execution_count": null,
   "id": "74c6b1b1-5af7-4955-a6cc-4532fc42a266",
   "metadata": {
    "execution": {
     "iopub.execute_input": "2023-05-15T09:44:26.163539Z",
     "iopub.status.busy": "2023-05-15T09:44:26.163318Z",
     "iopub.status.idle": "2023-05-15T09:44:26.411846Z",
     "shell.execute_reply": "2023-05-15T09:44:26.411015Z"
    },
    "papermill": {
     "duration": 0.252955,
     "end_time": "2023-05-15T09:44:26.413510",
     "exception": false,
     "start_time": "2023-05-15T09:44:26.160555",
     "status": "completed"
    },
    "tags": []
   },
   "outputs": [],
   "source": [
    "dataset = sc.read(f\"../../int_data/{sample_name}_qc.h5ad\")\n",
    "dataset.X = dataset.layers[\"soupX_counts\"]"
   ]
  },
  {
   "cell_type": "code",
   "execution_count": null,
   "id": "f2520f85-0ac2-4e0d-b7f1-e5b9ce4c769d",
   "metadata": {
    "execution": {
     "iopub.execute_input": "2023-05-15T09:44:26.418114Z",
     "iopub.status.busy": "2023-05-15T09:44:26.417923Z",
     "iopub.status.idle": "2023-05-15T09:44:26.426233Z",
     "shell.execute_reply": "2023-05-15T09:44:26.425612Z"
    },
    "papermill": {
     "duration": 0.011528,
     "end_time": "2023-05-15T09:44:26.427164",
     "exception": false,
     "start_time": "2023-05-15T09:44:26.415636",
     "status": "completed"
    },
    "tags": []
   },
   "outputs": [],
   "source": [
    "dataset.obs[[\"AvgSpotLen\", \"Bases\", \"Bytes\", \"version\"]] = dataset.obs[[\"AvgSpotLen\", \"Bases\", \"Bytes\", \"version\"]].astype(\"str\")"
   ]
  },
  {
   "cell_type": "code",
   "execution_count": null,
   "id": "99f95dca-cf68-4a51-8f53-ca088aa3167b",
   "metadata": {
    "execution": {
     "iopub.execute_input": "2023-05-15T09:44:26.431001Z",
     "iopub.status.busy": "2023-05-15T09:44:26.430847Z",
     "iopub.status.idle": "2023-05-15T09:44:31.478231Z",
     "shell.execute_reply": "2023-05-15T09:44:31.477641Z"
    },
    "papermill": {
     "duration": 5.050931,
     "end_time": "2023-05-15T09:44:31.479626",
     "exception": false,
     "start_time": "2023-05-15T09:44:26.428695",
     "status": "completed"
    },
    "tags": []
   },
   "outputs": [],
   "source": [
    "%%R -i dataset\n",
    "\n",
    "sce <- SingleCellExperiment(list(counts=dataset@assays@data[[\"soupX_counts\"]]),\n",
    "    colData=dataset@colData,\n",
    ")\n",
    "\n",
    "row.names(sce) <- row.names(dataset)\n",
    "\n",
    "data <- as.Seurat(sce, data = NULL)"
   ]
  },
  {
   "cell_type": "code",
   "execution_count": null,
   "id": "0b749876-ea5a-403c-8b0b-51afc8a633e3",
   "metadata": {
    "execution": {
     "iopub.execute_input": "2023-05-15T09:44:31.486049Z",
     "iopub.status.busy": "2023-05-15T09:44:31.485696Z",
     "iopub.status.idle": "2023-05-15T09:44:31.508378Z",
     "shell.execute_reply": "2023-05-15T09:44:31.508035Z"
    },
    "papermill": {
     "duration": 0.026067,
     "end_time": "2023-05-15T09:44:31.509213",
     "exception": false,
     "start_time": "2023-05-15T09:44:31.483146",
     "status": "completed"
    },
    "tags": []
   },
   "outputs": [],
   "source": [
    "%%R\n",
    "data"
   ]
  },
  {
   "cell_type": "code",
   "execution_count": null,
   "id": "b6b29b0e-92c4-4d4f-b835-c5e9d7d59455",
   "metadata": {
    "execution": {
     "iopub.execute_input": "2023-05-15T09:44:31.514449Z",
     "iopub.status.busy": "2023-05-15T09:44:31.514306Z",
     "iopub.status.idle": "2023-05-15T09:44:55.176510Z",
     "shell.execute_reply": "2023-05-15T09:44:55.175953Z"
    },
    "papermill": {
     "duration": 23.666238,
     "end_time": "2023-05-15T09:44:55.177782",
     "exception": false,
     "start_time": "2023-05-15T09:44:31.511544",
     "status": "completed"
    },
    "tags": []
   },
   "outputs": [],
   "source": [
    "%%R\n",
    "\n",
    "data <- NormalizeData(data)\n",
    "data <- ScaleData(data, features = row.names(data))\n",
    "data <- FindVariableFeatures(data)\n",
    "data <- RunPCA(data, verbose = F)\n",
    "data <- FindNeighbors(data, verbose = F)\n",
    "data <- FindClusters(data, verbose = F)\n",
    "data <- RunUMAP(data, dims = 1:20, verbose = F)"
   ]
  },
  {
   "cell_type": "code",
   "execution_count": null,
   "id": "40fa5cdd-01d7-4b40-90e6-0c97545b0711",
   "metadata": {
    "execution": {
     "iopub.execute_input": "2023-05-15T09:44:55.185603Z",
     "iopub.status.busy": "2023-05-15T09:44:55.185453Z",
     "iopub.status.idle": "2023-05-15T09:45:31.404768Z",
     "shell.execute_reply": "2023-05-15T09:45:31.404282Z"
    },
    "papermill": {
     "duration": 36.227667,
     "end_time": "2023-05-15T09:45:31.410240",
     "exception": false,
     "start_time": "2023-05-15T09:44:55.182573",
     "status": "completed"
    },
    "tags": []
   },
   "outputs": [],
   "source": [
    "%%R\n",
    "\n",
    "ref1 <- celldex::BlueprintEncodeData()\n",
    "ref2 <- celldex::MonacoImmuneData()\n",
    "cell_classification <- SingleR(test = as.SingleCellExperiment(data),\n",
    "                               ref = list(BPE = ref1, MON = ref2),\n",
    "                               labels = list(ref1$label.main, ref2$label.main))\n",
    "\n",
    "data[[\"SingleR_label\"]] <- cell_classification$labels\n",
    "\n",
    "plotScoreHeatmap(cell_classification)"
   ]
  },
  {
   "cell_type": "code",
   "execution_count": null,
   "id": "6ad7cf2f-891f-4c05-b34d-e47c84bbe27b",
   "metadata": {
    "execution": {
     "iopub.execute_input": "2023-05-15T09:45:31.417183Z",
     "iopub.status.busy": "2023-05-15T09:45:31.417007Z",
     "iopub.status.idle": "2023-05-15T09:45:31.888715Z",
     "shell.execute_reply": "2023-05-15T09:45:31.888283Z"
    },
    "papermill": {
     "duration": 0.476679,
     "end_time": "2023-05-15T09:45:31.890074",
     "exception": false,
     "start_time": "2023-05-15T09:45:31.413395",
     "status": "completed"
    },
    "tags": []
   },
   "outputs": [],
   "source": [
    "%%R -i sample_name\n",
    "\n",
    "write.csv(data@meta.data, paste0(sample_name, \"_metadata.csv\"))"
   ]
  }
 ],
 "metadata": {
  "kernelspec": {
   "display_name": "py_R",
   "language": "python",
   "name": "python_r"
  },
  "language_info": {
   "codemirror_mode": {
    "name": "ipython",
    "version": 3
   },
   "file_extension": ".py",
   "mimetype": "text/x-python",
   "name": "python",
   "nbconvert_exporter": "python",
   "pygments_lexer": "ipython3",
   "version": "3.10.9"
  },
  "papermill": {
   "default_parameters": {},
   "duration": 109.484365,
   "end_time": "2023-05-15T09:45:33.112049",
   "environment_variables": {},
   "exception": null,
   "input_path": "template.ipynb",
   "output_path": "SRR13329142.ipynb",
   "parameters": {
    "sample_name": "SRR13329142"
   },
   "start_time": "2023-05-15T09:43:43.627684",
   "version": "2.3.4"
  }
 },
 "nbformat": 4,
 "nbformat_minor": 5
}
