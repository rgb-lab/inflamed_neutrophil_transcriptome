{
 "cells": [
  {
   "cell_type": "code",
   "execution_count": null,
   "id": "78a6243e-1906-4e3b-ae98-4b5bd21bd37c",
   "metadata": {
    "execution": {
     "iopub.execute_input": "2023-05-15T08:53:36.450625Z",
     "iopub.status.busy": "2023-05-15T08:53:36.450351Z",
     "iopub.status.idle": "2023-05-15T08:53:36.455184Z",
     "shell.execute_reply": "2023-05-15T08:53:36.454853Z"
    },
    "papermill": {
     "duration": 0.008589,
     "end_time": "2023-05-15T08:53:36.456092",
     "exception": false,
     "start_time": "2023-05-15T08:53:36.447503",
     "status": "completed"
    },
    "tags": [
     "parameters"
    ]
   },
   "outputs": [],
   "source": [
    "sample_name = \"SRR13329143\""
   ]
  },
  {
   "cell_type": "code",
   "execution_count": null,
   "id": "7811225a",
   "metadata": {
    "execution": {
     "iopub.execute_input": "2023-05-15T08:53:36.459832Z",
     "iopub.status.busy": "2023-05-15T08:53:36.459529Z",
     "iopub.status.idle": "2023-05-15T08:53:36.461528Z",
     "shell.execute_reply": "2023-05-15T08:53:36.461226Z"
    },
    "papermill": {
     "duration": 0.004654,
     "end_time": "2023-05-15T08:53:36.462315",
     "exception": false,
     "start_time": "2023-05-15T08:53:36.457661",
     "status": "completed"
    },
    "tags": [
     "injected-parameters"
    ]
   },
   "outputs": [],
   "source": [
    "# Parameters\n",
    "sample_name = \"SRR13329161\"\n"
   ]
  },
  {
   "cell_type": "code",
   "execution_count": null,
   "id": "487588d5-40a0-4c35-9cd9-ee9b3e2f1d4e",
   "metadata": {
    "execution": {
     "iopub.execute_input": "2023-05-15T08:53:36.465845Z",
     "iopub.status.busy": "2023-05-15T08:53:36.465593Z",
     "iopub.status.idle": "2023-05-15T08:53:36.467748Z",
     "shell.execute_reply": "2023-05-15T08:53:36.467452Z"
    },
    "papermill": {
     "duration": 0.004757,
     "end_time": "2023-05-15T08:53:36.468514",
     "exception": false,
     "start_time": "2023-05-15T08:53:36.463757",
     "status": "completed"
    },
    "tags": []
   },
   "outputs": [],
   "source": [
    "import warnings\n",
    "warnings.simplefilter(action='ignore', category=FutureWarning)\n",
    "warnings.simplefilter(action='ignore', category=UserWarning)"
   ]
  },
  {
   "cell_type": "code",
   "execution_count": null,
   "id": "5bba6a57-54cf-4720-8653-bf94afa536ad",
   "metadata": {
    "execution": {
     "iopub.execute_input": "2023-05-15T08:53:36.472098Z",
     "iopub.status.busy": "2023-05-15T08:53:36.471894Z",
     "iopub.status.idle": "2023-05-15T08:53:40.519377Z",
     "shell.execute_reply": "2023-05-15T08:53:40.518913Z"
    },
    "papermill": {
     "duration": 4.050787,
     "end_time": "2023-05-15T08:53:40.520819",
     "exception": false,
     "start_time": "2023-05-15T08:53:36.470032",
     "status": "completed"
    },
    "tags": []
   },
   "outputs": [],
   "source": [
    "import gc\n",
    "import scanpy as sc\n",
    "import muon as mu\n",
    "import seaborn as sns\n",
    "import os\n",
    "import pandas as pd\n",
    "from matplotlib import pyplot as plt\n",
    "\n",
    "os.environ['R_HOME'] = '/gpfs/bwfor/work/ws/hd_fu399-conda/conda/envs/python_R/lib/R/'\n",
    "import anndata2ri\n",
    "import logging\n",
    "\n",
    "import rpy2.rinterface_lib.callbacks as rcb\n",
    "import rpy2.robjects as ro\n",
    "\n",
    "rcb.logger.setLevel(logging.ERROR)\n",
    "ro.pandas2ri.activate()\n",
    "anndata2ri.activate()\n",
    "\n",
    "%load_ext rpy2.ipython"
   ]
  },
  {
   "cell_type": "code",
   "execution_count": null,
   "id": "0897f8ed-b086-4ddc-a32e-6ae638ff6d14",
   "metadata": {
    "execution": {
     "iopub.execute_input": "2023-05-15T08:53:40.537581Z",
     "iopub.status.busy": "2023-05-15T08:53:40.537282Z",
     "iopub.status.idle": "2023-05-15T08:53:47.524766Z",
     "shell.execute_reply": "2023-05-15T08:53:47.524206Z"
    },
    "papermill": {
     "duration": 6.991936,
     "end_time": "2023-05-15T08:53:47.526387",
     "exception": false,
     "start_time": "2023-05-15T08:53:40.534451",
     "status": "completed"
    },
    "tags": []
   },
   "outputs": [],
   "source": [
    "%%R\n",
    "\n",
    "suppressMessages(library(SeuratDisk))\n",
    "suppressMessages(library(SingleR))\n",
    "suppressMessages(library(Seurat))\n",
    "suppressMessages(library(SingleCellExperiment))\n",
    "suppressMessages(library(UCell))"
   ]
  },
  {
   "cell_type": "code",
   "execution_count": null,
   "id": "74c6b1b1-5af7-4955-a6cc-4532fc42a266",
   "metadata": {
    "execution": {
     "iopub.execute_input": "2023-05-15T08:53:47.531333Z",
     "iopub.status.busy": "2023-05-15T08:53:47.531031Z",
     "iopub.status.idle": "2023-05-15T08:53:47.854445Z",
     "shell.execute_reply": "2023-05-15T08:53:47.853995Z"
    },
    "papermill": {
     "duration": 0.327198,
     "end_time": "2023-05-15T08:53:47.855853",
     "exception": false,
     "start_time": "2023-05-15T08:53:47.528655",
     "status": "completed"
    },
    "tags": []
   },
   "outputs": [],
   "source": [
    "dataset = sc.read(f\"../../int_data/{sample_name}_qc.h5ad\")\n",
    "dataset.X = dataset.layers[\"soupX_counts\"]"
   ]
  },
  {
   "cell_type": "code",
   "execution_count": null,
   "id": "f2520f85-0ac2-4e0d-b7f1-e5b9ce4c769d",
   "metadata": {
    "execution": {
     "iopub.execute_input": "2023-05-15T08:53:47.859948Z",
     "iopub.status.busy": "2023-05-15T08:53:47.859741Z",
     "iopub.status.idle": "2023-05-15T08:53:47.865905Z",
     "shell.execute_reply": "2023-05-15T08:53:47.865552Z"
    },
    "papermill": {
     "duration": 0.009141,
     "end_time": "2023-05-15T08:53:47.866753",
     "exception": false,
     "start_time": "2023-05-15T08:53:47.857612",
     "status": "completed"
    },
    "tags": []
   },
   "outputs": [],
   "source": [
    "dataset.obs[[\"AvgSpotLen\", \"Bases\", \"Bytes\", \"version\"]] = dataset.obs[[\"AvgSpotLen\", \"Bases\", \"Bytes\", \"version\"]].astype(\"str\")"
   ]
  },
  {
   "cell_type": "code",
   "execution_count": null,
   "id": "99f95dca-cf68-4a51-8f53-ca088aa3167b",
   "metadata": {
    "execution": {
     "iopub.execute_input": "2023-05-15T08:53:47.870537Z",
     "iopub.status.busy": "2023-05-15T08:53:47.870380Z",
     "iopub.status.idle": "2023-05-15T08:54:02.481720Z",
     "shell.execute_reply": "2023-05-15T08:54:02.481218Z"
    },
    "papermill": {
     "duration": 14.614972,
     "end_time": "2023-05-15T08:54:02.483347",
     "exception": false,
     "start_time": "2023-05-15T08:53:47.868375",
     "status": "completed"
    },
    "tags": []
   },
   "outputs": [],
   "source": [
    "%%R -i dataset\n",
    "\n",
    "sce <- SingleCellExperiment(list(counts=dataset@assays@data[[\"soupX_counts\"]]),\n",
    "    colData=dataset@colData,\n",
    ")\n",
    "\n",
    "row.names(sce) <- row.names(dataset)\n",
    "\n",
    "data <- as.Seurat(sce, data = NULL)"
   ]
  },
  {
   "cell_type": "code",
   "execution_count": null,
   "id": "0b749876-ea5a-403c-8b0b-51afc8a633e3",
   "metadata": {
    "execution": {
     "iopub.execute_input": "2023-05-15T08:54:02.489773Z",
     "iopub.status.busy": "2023-05-15T08:54:02.489630Z",
     "iopub.status.idle": "2023-05-15T08:54:06.534437Z",
     "shell.execute_reply": "2023-05-15T08:54:06.533993Z"
    },
    "papermill": {
     "duration": 4.04877,
     "end_time": "2023-05-15T08:54:06.536071",
     "exception": false,
     "start_time": "2023-05-15T08:54:02.487301",
     "status": "completed"
    },
    "tags": []
   },
   "outputs": [],
   "source": [
    "%%R\n",
    "data"
   ]
  },
  {
   "cell_type": "code",
   "execution_count": null,
   "id": "b6b29b0e-92c4-4d4f-b835-c5e9d7d59455",
   "metadata": {
    "execution": {
     "iopub.execute_input": "2023-05-15T08:54:06.542458Z",
     "iopub.status.busy": "2023-05-15T08:54:06.542249Z",
     "iopub.status.idle": "2023-05-15T08:54:23.183485Z",
     "shell.execute_reply": "2023-05-15T08:54:23.182993Z"
    },
    "papermill": {
     "duration": 16.64577,
     "end_time": "2023-05-15T08:54:23.184806",
     "exception": false,
     "start_time": "2023-05-15T08:54:06.539036",
     "status": "completed"
    },
    "tags": []
   },
   "outputs": [],
   "source": [
    "%%R\n",
    "\n",
    "data <- NormalizeData(data)\n",
    "data <- ScaleData(data, features = row.names(data))\n",
    "data <- FindVariableFeatures(data)\n",
    "data <- RunPCA(data, verbose = F)\n",
    "data <- FindNeighbors(data, verbose = F)\n",
    "data <- FindClusters(data, verbose = F)\n",
    "data <- RunUMAP(data, dims = 1:20, verbose = F)"
   ]
  },
  {
   "cell_type": "code",
   "execution_count": null,
   "id": "40fa5cdd-01d7-4b40-90e6-0c97545b0711",
   "metadata": {
    "execution": {
     "iopub.execute_input": "2023-05-15T08:54:23.192892Z",
     "iopub.status.busy": "2023-05-15T08:54:23.192732Z",
     "iopub.status.idle": "2023-05-15T08:54:59.333819Z",
     "shell.execute_reply": "2023-05-15T08:54:59.333242Z"
    },
    "papermill": {
     "duration": 36.14562,
     "end_time": "2023-05-15T08:54:59.335480",
     "exception": false,
     "start_time": "2023-05-15T08:54:23.189860",
     "status": "completed"
    },
    "tags": []
   },
   "outputs": [],
   "source": [
    "%%R\n",
    "\n",
    "ref1 <- celldex::BlueprintEncodeData()\n",
    "ref2 <- celldex::MonacoImmuneData()\n",
    "cell_classification <- SingleR(test = as.SingleCellExperiment(data),\n",
    "                               ref = list(BPE = ref1, MON = ref2),\n",
    "                               labels = list(ref1$label.main, ref2$label.main))\n",
    "\n",
    "data[[\"SingleR_label\"]] <- cell_classification$labels\n",
    "\n",
    "plotScoreHeatmap(cell_classification)"
   ]
  },
  {
   "cell_type": "code",
   "execution_count": null,
   "id": "6ad7cf2f-891f-4c05-b34d-e47c84bbe27b",
   "metadata": {
    "execution": {
     "iopub.execute_input": "2023-05-15T08:54:59.344919Z",
     "iopub.status.busy": "2023-05-15T08:54:59.344691Z",
     "iopub.status.idle": "2023-05-15T08:55:05.198480Z",
     "shell.execute_reply": "2023-05-15T08:55:05.198001Z"
    },
    "papermill": {
     "duration": 5.859398,
     "end_time": "2023-05-15T08:55:05.199792",
     "exception": false,
     "start_time": "2023-05-15T08:54:59.340394",
     "status": "completed"
    },
    "tags": []
   },
   "outputs": [],
   "source": [
    "%%R -i sample_name\n",
    "\n",
    "write.csv(data@meta.data, paste0(sample_name, \"_metadata.csv\"))"
   ]
  }
 ],
 "metadata": {
  "kernelspec": {
   "display_name": "py_R",
   "language": "python",
   "name": "python_r"
  },
  "language_info": {
   "codemirror_mode": {
    "name": "ipython",
    "version": 3
   },
   "file_extension": ".py",
   "mimetype": "text/x-python",
   "name": "python",
   "nbconvert_exporter": "python",
   "pygments_lexer": "ipython3",
   "version": "3.10.9"
  },
  "papermill": {
   "default_parameters": {},
   "duration": 92.497496,
   "end_time": "2023-05-15T08:55:08.113212",
   "environment_variables": {},
   "exception": null,
   "input_path": "template.ipynb",
   "output_path": "SRR13329161.ipynb",
   "parameters": {
    "sample_name": "SRR13329161"
   },
   "start_time": "2023-05-15T08:53:35.615716",
   "version": "2.3.4"
  }
 },
 "nbformat": 4,
 "nbformat_minor": 5
}
