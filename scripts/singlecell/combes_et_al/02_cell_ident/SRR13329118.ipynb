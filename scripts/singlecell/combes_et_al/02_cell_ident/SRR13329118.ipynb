{
 "cells": [
  {
   "cell_type": "code",
   "execution_count": null,
   "id": "78a6243e-1906-4e3b-ae98-4b5bd21bd37c",
   "metadata": {
    "execution": {
     "iopub.execute_input": "2023-05-15T09:00:14.339213Z",
     "iopub.status.busy": "2023-05-15T09:00:14.339049Z",
     "iopub.status.idle": "2023-05-15T09:00:14.343761Z",
     "shell.execute_reply": "2023-05-15T09:00:14.343450Z"
    },
    "papermill": {
     "duration": 0.008535,
     "end_time": "2023-05-15T09:00:14.344682",
     "exception": false,
     "start_time": "2023-05-15T09:00:14.336147",
     "status": "completed"
    },
    "tags": [
     "parameters"
    ]
   },
   "outputs": [],
   "source": [
    "sample_name = \"SRR13329143\""
   ]
  },
  {
   "cell_type": "code",
   "execution_count": null,
   "id": "322871ee",
   "metadata": {
    "execution": {
     "iopub.execute_input": "2023-05-15T09:00:14.348503Z",
     "iopub.status.busy": "2023-05-15T09:00:14.348303Z",
     "iopub.status.idle": "2023-05-15T09:00:14.350236Z",
     "shell.execute_reply": "2023-05-15T09:00:14.349924Z"
    },
    "papermill": {
     "duration": 0.004697,
     "end_time": "2023-05-15T09:00:14.351012",
     "exception": false,
     "start_time": "2023-05-15T09:00:14.346315",
     "status": "completed"
    },
    "tags": [
     "injected-parameters"
    ]
   },
   "outputs": [],
   "source": [
    "# Parameters\n",
    "sample_name = \"SRR13329118\"\n"
   ]
  },
  {
   "cell_type": "code",
   "execution_count": null,
   "id": "487588d5-40a0-4c35-9cd9-ee9b3e2f1d4e",
   "metadata": {
    "execution": {
     "iopub.execute_input": "2023-05-15T09:00:14.354663Z",
     "iopub.status.busy": "2023-05-15T09:00:14.354324Z",
     "iopub.status.idle": "2023-05-15T09:00:14.356508Z",
     "shell.execute_reply": "2023-05-15T09:00:14.356210Z"
    },
    "papermill": {
     "duration": 0.004786,
     "end_time": "2023-05-15T09:00:14.357289",
     "exception": false,
     "start_time": "2023-05-15T09:00:14.352503",
     "status": "completed"
    },
    "tags": []
   },
   "outputs": [],
   "source": [
    "import warnings\n",
    "warnings.simplefilter(action='ignore', category=FutureWarning)\n",
    "warnings.simplefilter(action='ignore', category=UserWarning)"
   ]
  },
  {
   "cell_type": "code",
   "execution_count": null,
   "id": "5bba6a57-54cf-4720-8653-bf94afa536ad",
   "metadata": {
    "execution": {
     "iopub.execute_input": "2023-05-15T09:00:14.360782Z",
     "iopub.status.busy": "2023-05-15T09:00:14.360637Z",
     "iopub.status.idle": "2023-05-15T09:00:18.769972Z",
     "shell.execute_reply": "2023-05-15T09:00:18.769443Z"
    },
    "papermill": {
     "duration": 4.412579,
     "end_time": "2023-05-15T09:00:18.771396",
     "exception": false,
     "start_time": "2023-05-15T09:00:14.358817",
     "status": "completed"
    },
    "tags": []
   },
   "outputs": [],
   "source": [
    "import gc\n",
    "import scanpy as sc\n",
    "import muon as mu\n",
    "import seaborn as sns\n",
    "import os\n",
    "import pandas as pd\n",
    "from matplotlib import pyplot as plt\n",
    "\n",
    "os.environ['R_HOME'] = '/gpfs/bwfor/work/ws/hd_fu399-conda/conda/envs/python_R/lib/R/'\n",
    "import anndata2ri\n",
    "import logging\n",
    "\n",
    "import rpy2.rinterface_lib.callbacks as rcb\n",
    "import rpy2.robjects as ro\n",
    "\n",
    "rcb.logger.setLevel(logging.ERROR)\n",
    "ro.pandas2ri.activate()\n",
    "anndata2ri.activate()\n",
    "\n",
    "%load_ext rpy2.ipython"
   ]
  },
  {
   "cell_type": "code",
   "execution_count": null,
   "id": "0897f8ed-b086-4ddc-a32e-6ae638ff6d14",
   "metadata": {
    "execution": {
     "iopub.execute_input": "2023-05-15T09:00:18.776214Z",
     "iopub.status.busy": "2023-05-15T09:00:18.775892Z",
     "iopub.status.idle": "2023-05-15T09:00:26.557611Z",
     "shell.execute_reply": "2023-05-15T09:00:26.557047Z"
    },
    "papermill": {
     "duration": 7.785399,
     "end_time": "2023-05-15T09:00:26.559056",
     "exception": false,
     "start_time": "2023-05-15T09:00:18.773657",
     "status": "completed"
    },
    "tags": []
   },
   "outputs": [],
   "source": [
    "%%R\n",
    "\n",
    "suppressMessages(library(SeuratDisk))\n",
    "suppressMessages(library(SingleR))\n",
    "suppressMessages(library(Seurat))\n",
    "suppressMessages(library(SingleCellExperiment))\n",
    "suppressMessages(library(UCell))"
   ]
  },
  {
   "cell_type": "code",
   "execution_count": null,
   "id": "74c6b1b1-5af7-4955-a6cc-4532fc42a266",
   "metadata": {
    "execution": {
     "iopub.execute_input": "2023-05-15T09:00:26.565898Z",
     "iopub.status.busy": "2023-05-15T09:00:26.565701Z",
     "iopub.status.idle": "2023-05-15T09:00:26.945913Z",
     "shell.execute_reply": "2023-05-15T09:00:26.945442Z"
    },
    "papermill": {
     "duration": 0.384356,
     "end_time": "2023-05-15T09:00:26.947499",
     "exception": false,
     "start_time": "2023-05-15T09:00:26.563143",
     "status": "completed"
    },
    "tags": []
   },
   "outputs": [],
   "source": [
    "dataset = sc.read(f\"../../int_data/{sample_name}_qc.h5ad\")\n",
    "dataset.X = dataset.layers[\"soupX_counts\"]"
   ]
  },
  {
   "cell_type": "code",
   "execution_count": null,
   "id": "f2520f85-0ac2-4e0d-b7f1-e5b9ce4c769d",
   "metadata": {
    "execution": {
     "iopub.execute_input": "2023-05-15T09:00:26.951985Z",
     "iopub.status.busy": "2023-05-15T09:00:26.951804Z",
     "iopub.status.idle": "2023-05-15T09:00:26.964953Z",
     "shell.execute_reply": "2023-05-15T09:00:26.964616Z"
    },
    "papermill": {
     "duration": 0.01622,
     "end_time": "2023-05-15T09:00:26.965820",
     "exception": false,
     "start_time": "2023-05-15T09:00:26.949600",
     "status": "completed"
    },
    "tags": []
   },
   "outputs": [],
   "source": [
    "dataset.obs[[\"AvgSpotLen\", \"Bases\", \"Bytes\", \"version\"]] = dataset.obs[[\"AvgSpotLen\", \"Bases\", \"Bytes\", \"version\"]].astype(\"str\")"
   ]
  },
  {
   "cell_type": "code",
   "execution_count": null,
   "id": "99f95dca-cf68-4a51-8f53-ca088aa3167b",
   "metadata": {
    "execution": {
     "iopub.execute_input": "2023-05-15T09:00:26.969836Z",
     "iopub.status.busy": "2023-05-15T09:00:26.969676Z",
     "iopub.status.idle": "2023-05-15T09:00:34.944021Z",
     "shell.execute_reply": "2023-05-15T09:00:34.943378Z"
    },
    "papermill": {
     "duration": 7.97802,
     "end_time": "2023-05-15T09:00:34.945633",
     "exception": false,
     "start_time": "2023-05-15T09:00:26.967613",
     "status": "completed"
    },
    "tags": []
   },
   "outputs": [],
   "source": [
    "%%R -i dataset\n",
    "\n",
    "sce <- SingleCellExperiment(list(counts=dataset@assays@data[[\"soupX_counts\"]]),\n",
    "    colData=dataset@colData,\n",
    ")\n",
    "\n",
    "row.names(sce) <- row.names(dataset)\n",
    "\n",
    "data <- as.Seurat(sce, data = NULL)"
   ]
  },
  {
   "cell_type": "code",
   "execution_count": null,
   "id": "0b749876-ea5a-403c-8b0b-51afc8a633e3",
   "metadata": {
    "execution": {
     "iopub.execute_input": "2023-05-15T09:00:34.950977Z",
     "iopub.status.busy": "2023-05-15T09:00:34.950814Z",
     "iopub.status.idle": "2023-05-15T09:00:34.970736Z",
     "shell.execute_reply": "2023-05-15T09:00:34.970399Z"
    },
    "papermill": {
     "duration": 0.023025,
     "end_time": "2023-05-15T09:00:34.971480",
     "exception": false,
     "start_time": "2023-05-15T09:00:34.948455",
     "status": "completed"
    },
    "tags": []
   },
   "outputs": [],
   "source": [
    "%%R\n",
    "data"
   ]
  },
  {
   "cell_type": "code",
   "execution_count": null,
   "id": "b6b29b0e-92c4-4d4f-b835-c5e9d7d59455",
   "metadata": {
    "execution": {
     "iopub.execute_input": "2023-05-15T09:00:34.976759Z",
     "iopub.status.busy": "2023-05-15T09:00:34.976618Z",
     "iopub.status.idle": "2023-05-15T09:01:04.048040Z",
     "shell.execute_reply": "2023-05-15T09:01:04.047529Z"
    },
    "papermill": {
     "duration": 29.075693,
     "end_time": "2023-05-15T09:01:04.049565",
     "exception": false,
     "start_time": "2023-05-15T09:00:34.973872",
     "status": "completed"
    },
    "tags": []
   },
   "outputs": [],
   "source": [
    "%%R\n",
    "\n",
    "data <- NormalizeData(data)\n",
    "data <- ScaleData(data, features = row.names(data))\n",
    "data <- FindVariableFeatures(data)\n",
    "data <- RunPCA(data, verbose = F)\n",
    "data <- FindNeighbors(data, verbose = F)\n",
    "data <- FindClusters(data, verbose = F)\n",
    "data <- RunUMAP(data, dims = 1:20, verbose = F)"
   ]
  },
  {
   "cell_type": "code",
   "execution_count": null,
   "id": "40fa5cdd-01d7-4b40-90e6-0c97545b0711",
   "metadata": {
    "execution": {
     "iopub.execute_input": "2023-05-15T09:01:04.057779Z",
     "iopub.status.busy": "2023-05-15T09:01:04.057606Z",
     "iopub.status.idle": "2023-05-15T09:02:02.571517Z",
     "shell.execute_reply": "2023-05-15T09:02:02.571077Z"
    },
    "papermill": {
     "duration": 58.523488,
     "end_time": "2023-05-15T09:02:02.577878",
     "exception": false,
     "start_time": "2023-05-15T09:01:04.054390",
     "status": "completed"
    },
    "tags": []
   },
   "outputs": [],
   "source": [
    "%%R\n",
    "\n",
    "ref1 <- celldex::BlueprintEncodeData()\n",
    "ref2 <- celldex::MonacoImmuneData()\n",
    "cell_classification <- SingleR(test = as.SingleCellExperiment(data),\n",
    "                               ref = list(BPE = ref1, MON = ref2),\n",
    "                               labels = list(ref1$label.main, ref2$label.main))\n",
    "\n",
    "data[[\"SingleR_label\"]] <- cell_classification$labels\n",
    "\n",
    "plotScoreHeatmap(cell_classification)"
   ]
  },
  {
   "cell_type": "code",
   "execution_count": null,
   "id": "6ad7cf2f-891f-4c05-b34d-e47c84bbe27b",
   "metadata": {
    "execution": {
     "iopub.execute_input": "2023-05-15T09:02:02.585139Z",
     "iopub.status.busy": "2023-05-15T09:02:02.584942Z",
     "iopub.status.idle": "2023-05-15T09:02:03.231960Z",
     "shell.execute_reply": "2023-05-15T09:02:03.231607Z"
    },
    "papermill": {
     "duration": 0.651765,
     "end_time": "2023-05-15T09:02:03.233035",
     "exception": false,
     "start_time": "2023-05-15T09:02:02.581270",
     "status": "completed"
    },
    "tags": []
   },
   "outputs": [],
   "source": [
    "%%R -i sample_name\n",
    "\n",
    "write.csv(data@meta.data, paste0(sample_name, \"_metadata.csv\"))"
   ]
  }
 ],
 "metadata": {
  "kernelspec": {
   "display_name": "py_R",
   "language": "python",
   "name": "python_r"
  },
  "language_info": {
   "codemirror_mode": {
    "name": "ipython",
    "version": 3
   },
   "file_extension": ".py",
   "mimetype": "text/x-python",
   "name": "python",
   "nbconvert_exporter": "python",
   "pygments_lexer": "ipython3",
   "version": "3.10.9"
  },
  "papermill": {
   "default_parameters": {},
   "duration": 110.96225,
   "end_time": "2023-05-15T09:02:04.555067",
   "environment_variables": {},
   "exception": null,
   "input_path": "template.ipynb",
   "output_path": "SRR13329118.ipynb",
   "parameters": {
    "sample_name": "SRR13329118"
   },
   "start_time": "2023-05-15T09:00:13.592817",
   "version": "2.3.4"
  }
 },
 "nbformat": 4,
 "nbformat_minor": 5
}
