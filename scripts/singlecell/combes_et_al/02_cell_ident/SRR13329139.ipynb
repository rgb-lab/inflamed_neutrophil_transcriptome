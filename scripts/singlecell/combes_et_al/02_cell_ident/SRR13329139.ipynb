{
 "cells": [
  {
   "cell_type": "code",
   "execution_count": null,
   "id": "78a6243e-1906-4e3b-ae98-4b5bd21bd37c",
   "metadata": {
    "execution": {
     "iopub.execute_input": "2023-05-15T09:35:44.179150Z",
     "iopub.status.busy": "2023-05-15T09:35:44.178972Z",
     "iopub.status.idle": "2023-05-15T09:35:44.183946Z",
     "shell.execute_reply": "2023-05-15T09:35:44.183599Z"
    },
    "papermill": {
     "duration": 0.008287,
     "end_time": "2023-05-15T09:35:44.184885",
     "exception": false,
     "start_time": "2023-05-15T09:35:44.176598",
     "status": "completed"
    },
    "tags": [
     "parameters"
    ]
   },
   "outputs": [],
   "source": [
    "sample_name = \"SRR13329143\""
   ]
  },
  {
   "cell_type": "code",
   "execution_count": null,
   "id": "94c5f396",
   "metadata": {
    "execution": {
     "iopub.execute_input": "2023-05-15T09:35:44.188357Z",
     "iopub.status.busy": "2023-05-15T09:35:44.188198Z",
     "iopub.status.idle": "2023-05-15T09:35:44.190500Z",
     "shell.execute_reply": "2023-05-15T09:35:44.190185Z"
    },
    "papermill": {
     "duration": 0.004942,
     "end_time": "2023-05-15T09:35:44.191318",
     "exception": false,
     "start_time": "2023-05-15T09:35:44.186376",
     "status": "completed"
    },
    "tags": [
     "injected-parameters"
    ]
   },
   "outputs": [],
   "source": [
    "# Parameters\n",
    "sample_name = \"SRR13329139\"\n"
   ]
  },
  {
   "cell_type": "code",
   "execution_count": null,
   "id": "487588d5-40a0-4c35-9cd9-ee9b3e2f1d4e",
   "metadata": {
    "execution": {
     "iopub.execute_input": "2023-05-15T09:35:44.194669Z",
     "iopub.status.busy": "2023-05-15T09:35:44.194527Z",
     "iopub.status.idle": "2023-05-15T09:35:44.196927Z",
     "shell.execute_reply": "2023-05-15T09:35:44.196607Z"
    },
    "papermill": {
     "duration": 0.005067,
     "end_time": "2023-05-15T09:35:44.197740",
     "exception": false,
     "start_time": "2023-05-15T09:35:44.192673",
     "status": "completed"
    },
    "tags": []
   },
   "outputs": [],
   "source": [
    "import warnings\n",
    "warnings.simplefilter(action='ignore', category=FutureWarning)\n",
    "warnings.simplefilter(action='ignore', category=UserWarning)"
   ]
  },
  {
   "cell_type": "code",
   "execution_count": null,
   "id": "5bba6a57-54cf-4720-8653-bf94afa536ad",
   "metadata": {
    "execution": {
     "iopub.execute_input": "2023-05-15T09:35:44.201418Z",
     "iopub.status.busy": "2023-05-15T09:35:44.200973Z",
     "iopub.status.idle": "2023-05-15T09:35:48.752845Z",
     "shell.execute_reply": "2023-05-15T09:35:48.752305Z"
    },
    "papermill": {
     "duration": 4.555201,
     "end_time": "2023-05-15T09:35:48.754338",
     "exception": false,
     "start_time": "2023-05-15T09:35:44.199137",
     "status": "completed"
    },
    "tags": []
   },
   "outputs": [],
   "source": [
    "import gc\n",
    "import scanpy as sc\n",
    "import muon as mu\n",
    "import seaborn as sns\n",
    "import os\n",
    "import pandas as pd\n",
    "from matplotlib import pyplot as plt\n",
    "\n",
    "os.environ['R_HOME'] = '/gpfs/bwfor/work/ws/hd_fu399-conda/conda/envs/python_R/lib/R/'\n",
    "import anndata2ri\n",
    "import logging\n",
    "\n",
    "import rpy2.rinterface_lib.callbacks as rcb\n",
    "import rpy2.robjects as ro\n",
    "\n",
    "rcb.logger.setLevel(logging.ERROR)\n",
    "ro.pandas2ri.activate()\n",
    "anndata2ri.activate()\n",
    "\n",
    "%load_ext rpy2.ipython"
   ]
  },
  {
   "cell_type": "code",
   "execution_count": null,
   "id": "0897f8ed-b086-4ddc-a32e-6ae638ff6d14",
   "metadata": {
    "execution": {
     "iopub.execute_input": "2023-05-15T09:35:48.761756Z",
     "iopub.status.busy": "2023-05-15T09:35:48.761346Z",
     "iopub.status.idle": "2023-05-15T09:35:56.597127Z",
     "shell.execute_reply": "2023-05-15T09:35:56.596500Z"
    },
    "papermill": {
     "duration": 7.839617,
     "end_time": "2023-05-15T09:35:56.598643",
     "exception": false,
     "start_time": "2023-05-15T09:35:48.759026",
     "status": "completed"
    },
    "tags": []
   },
   "outputs": [],
   "source": [
    "%%R\n",
    "\n",
    "suppressMessages(library(SeuratDisk))\n",
    "suppressMessages(library(SingleR))\n",
    "suppressMessages(library(Seurat))\n",
    "suppressMessages(library(SingleCellExperiment))\n",
    "suppressMessages(library(UCell))"
   ]
  },
  {
   "cell_type": "code",
   "execution_count": null,
   "id": "74c6b1b1-5af7-4955-a6cc-4532fc42a266",
   "metadata": {
    "execution": {
     "iopub.execute_input": "2023-05-15T09:35:56.604503Z",
     "iopub.status.busy": "2023-05-15T09:35:56.604325Z",
     "iopub.status.idle": "2023-05-15T09:35:56.758136Z",
     "shell.execute_reply": "2023-05-15T09:35:56.757628Z"
    },
    "papermill": {
     "duration": 0.15746,
     "end_time": "2023-05-15T09:35:56.759510",
     "exception": false,
     "start_time": "2023-05-15T09:35:56.602050",
     "status": "completed"
    },
    "tags": []
   },
   "outputs": [],
   "source": [
    "dataset = sc.read(f\"../../int_data/{sample_name}_qc.h5ad\")\n",
    "dataset.X = dataset.layers[\"soupX_counts\"]"
   ]
  },
  {
   "cell_type": "code",
   "execution_count": null,
   "id": "f2520f85-0ac2-4e0d-b7f1-e5b9ce4c769d",
   "metadata": {
    "execution": {
     "iopub.execute_input": "2023-05-15T09:35:56.763957Z",
     "iopub.status.busy": "2023-05-15T09:35:56.763796Z",
     "iopub.status.idle": "2023-05-15T09:35:56.769846Z",
     "shell.execute_reply": "2023-05-15T09:35:56.769468Z"
    },
    "papermill": {
     "duration": 0.00908,
     "end_time": "2023-05-15T09:35:56.770695",
     "exception": false,
     "start_time": "2023-05-15T09:35:56.761615",
     "status": "completed"
    },
    "tags": []
   },
   "outputs": [],
   "source": [
    "dataset.obs[[\"AvgSpotLen\", \"Bases\", \"Bytes\", \"version\"]] = dataset.obs[[\"AvgSpotLen\", \"Bases\", \"Bytes\", \"version\"]].astype(\"str\")"
   ]
  },
  {
   "cell_type": "code",
   "execution_count": null,
   "id": "99f95dca-cf68-4a51-8f53-ca088aa3167b",
   "metadata": {
    "execution": {
     "iopub.execute_input": "2023-05-15T09:35:56.774676Z",
     "iopub.status.busy": "2023-05-15T09:35:56.774332Z",
     "iopub.status.idle": "2023-05-15T09:36:00.411324Z",
     "shell.execute_reply": "2023-05-15T09:36:00.410733Z"
    },
    "papermill": {
     "duration": 3.64054,
     "end_time": "2023-05-15T09:36:00.412823",
     "exception": false,
     "start_time": "2023-05-15T09:35:56.772283",
     "status": "completed"
    },
    "tags": []
   },
   "outputs": [],
   "source": [
    "%%R -i dataset\n",
    "\n",
    "sce <- SingleCellExperiment(list(counts=dataset@assays@data[[\"soupX_counts\"]]),\n",
    "    colData=dataset@colData,\n",
    ")\n",
    "\n",
    "row.names(sce) <- row.names(dataset)\n",
    "\n",
    "data <- as.Seurat(sce, data = NULL)"
   ]
  },
  {
   "cell_type": "code",
   "execution_count": null,
   "id": "0b749876-ea5a-403c-8b0b-51afc8a633e3",
   "metadata": {
    "execution": {
     "iopub.execute_input": "2023-05-15T09:36:00.417590Z",
     "iopub.status.busy": "2023-05-15T09:36:00.417427Z",
     "iopub.status.idle": "2023-05-15T09:36:00.437850Z",
     "shell.execute_reply": "2023-05-15T09:36:00.437502Z"
    },
    "papermill": {
     "duration": 0.023573,
     "end_time": "2023-05-15T09:36:00.438768",
     "exception": false,
     "start_time": "2023-05-15T09:36:00.415195",
     "status": "completed"
    },
    "tags": []
   },
   "outputs": [],
   "source": [
    "%%R\n",
    "data"
   ]
  },
  {
   "cell_type": "code",
   "execution_count": null,
   "id": "b6b29b0e-92c4-4d4f-b835-c5e9d7d59455",
   "metadata": {
    "execution": {
     "iopub.execute_input": "2023-05-15T09:36:00.444248Z",
     "iopub.status.busy": "2023-05-15T09:36:00.444104Z",
     "iopub.status.idle": "2023-05-15T09:36:09.198508Z",
     "shell.execute_reply": "2023-05-15T09:36:09.197859Z"
    },
    "papermill": {
     "duration": 8.758742,
     "end_time": "2023-05-15T09:36:09.199987",
     "exception": false,
     "start_time": "2023-05-15T09:36:00.441245",
     "status": "completed"
    },
    "tags": []
   },
   "outputs": [],
   "source": [
    "%%R\n",
    "\n",
    "data <- NormalizeData(data)\n",
    "data <- ScaleData(data, features = row.names(data))\n",
    "data <- FindVariableFeatures(data)\n",
    "data <- RunPCA(data, verbose = F)\n",
    "data <- FindNeighbors(data, verbose = F)\n",
    "data <- FindClusters(data, verbose = F)\n",
    "data <- RunUMAP(data, dims = 1:20, verbose = F)"
   ]
  },
  {
   "cell_type": "code",
   "execution_count": null,
   "id": "40fa5cdd-01d7-4b40-90e6-0c97545b0711",
   "metadata": {
    "execution": {
     "iopub.execute_input": "2023-05-15T09:36:09.207608Z",
     "iopub.status.busy": "2023-05-15T09:36:09.207445Z",
     "iopub.status.idle": "2023-05-15T09:36:30.604643Z",
     "shell.execute_reply": "2023-05-15T09:36:30.604106Z"
    },
    "papermill": {
     "duration": 21.401297,
     "end_time": "2023-05-15T09:36:30.605618",
     "exception": false,
     "start_time": "2023-05-15T09:36:09.204321",
     "status": "completed"
    },
    "tags": []
   },
   "outputs": [],
   "source": [
    "%%R\n",
    "\n",
    "ref1 <- celldex::BlueprintEncodeData()\n",
    "ref2 <- celldex::MonacoImmuneData()\n",
    "cell_classification <- SingleR(test = as.SingleCellExperiment(data),\n",
    "                               ref = list(BPE = ref1, MON = ref2),\n",
    "                               labels = list(ref1$label.main, ref2$label.main))\n",
    "\n",
    "data[[\"SingleR_label\"]] <- cell_classification$labels\n",
    "\n",
    "plotScoreHeatmap(cell_classification)"
   ]
  },
  {
   "cell_type": "code",
   "execution_count": null,
   "id": "6ad7cf2f-891f-4c05-b34d-e47c84bbe27b",
   "metadata": {
    "execution": {
     "iopub.execute_input": "2023-05-15T09:36:30.614973Z",
     "iopub.status.busy": "2023-05-15T09:36:30.614804Z",
     "iopub.status.idle": "2023-05-15T09:36:30.927372Z",
     "shell.execute_reply": "2023-05-15T09:36:30.926980Z"
    },
    "papermill": {
     "duration": 0.317335,
     "end_time": "2023-05-15T09:36:30.928477",
     "exception": false,
     "start_time": "2023-05-15T09:36:30.611142",
     "status": "completed"
    },
    "tags": []
   },
   "outputs": [],
   "source": [
    "%%R -i sample_name\n",
    "\n",
    "write.csv(data@meta.data, paste0(sample_name, \"_metadata.csv\"))"
   ]
  }
 ],
 "metadata": {
  "kernelspec": {
   "display_name": "py_R",
   "language": "python",
   "name": "python_r"
  },
  "language_info": {
   "codemirror_mode": {
    "name": "ipython",
    "version": 3
   },
   "file_extension": ".py",
   "mimetype": "text/x-python",
   "name": "python",
   "nbconvert_exporter": "python",
   "pygments_lexer": "ipython3",
   "version": "3.10.9"
  },
  "papermill": {
   "default_parameters": {},
   "duration": 49.084625,
   "end_time": "2023-05-15T09:36:32.149885",
   "environment_variables": {},
   "exception": null,
   "input_path": "template.ipynb",
   "output_path": "SRR13329139.ipynb",
   "parameters": {
    "sample_name": "SRR13329139"
   },
   "start_time": "2023-05-15T09:35:43.065260",
   "version": "2.3.4"
  }
 },
 "nbformat": 4,
 "nbformat_minor": 5
}
