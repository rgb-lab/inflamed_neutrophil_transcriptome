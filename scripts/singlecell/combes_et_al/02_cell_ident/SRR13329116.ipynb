{
 "cells": [
  {
   "cell_type": "code",
   "execution_count": null,
   "id": "78a6243e-1906-4e3b-ae98-4b5bd21bd37c",
   "metadata": {
    "execution": {
     "iopub.execute_input": "2023-05-15T09:57:02.238285Z",
     "iopub.status.busy": "2023-05-15T09:57:02.238113Z",
     "iopub.status.idle": "2023-05-15T09:57:02.242814Z",
     "shell.execute_reply": "2023-05-15T09:57:02.242487Z"
    },
    "papermill": {
     "duration": 0.008788,
     "end_time": "2023-05-15T09:57:02.243845",
     "exception": false,
     "start_time": "2023-05-15T09:57:02.235057",
     "status": "completed"
    },
    "tags": [
     "parameters"
    ]
   },
   "outputs": [],
   "source": [
    "sample_name = \"SRR13329143\""
   ]
  },
  {
   "cell_type": "code",
   "execution_count": null,
   "id": "d3fe00e7",
   "metadata": {
    "execution": {
     "iopub.execute_input": "2023-05-15T09:57:02.247397Z",
     "iopub.status.busy": "2023-05-15T09:57:02.247247Z",
     "iopub.status.idle": "2023-05-15T09:57:02.249223Z",
     "shell.execute_reply": "2023-05-15T09:57:02.248923Z"
    },
    "papermill": {
     "duration": 0.004573,
     "end_time": "2023-05-15T09:57:02.249970",
     "exception": false,
     "start_time": "2023-05-15T09:57:02.245397",
     "status": "completed"
    },
    "tags": [
     "injected-parameters"
    ]
   },
   "outputs": [],
   "source": [
    "# Parameters\n",
    "sample_name = \"SRR13329116\"\n"
   ]
  },
  {
   "cell_type": "code",
   "execution_count": null,
   "id": "487588d5-40a0-4c35-9cd9-ee9b3e2f1d4e",
   "metadata": {
    "execution": {
     "iopub.execute_input": "2023-05-15T09:57:02.253465Z",
     "iopub.status.busy": "2023-05-15T09:57:02.253213Z",
     "iopub.status.idle": "2023-05-15T09:57:02.255425Z",
     "shell.execute_reply": "2023-05-15T09:57:02.255137Z"
    },
    "papermill": {
     "duration": 0.00478,
     "end_time": "2023-05-15T09:57:02.256157",
     "exception": false,
     "start_time": "2023-05-15T09:57:02.251377",
     "status": "completed"
    },
    "tags": []
   },
   "outputs": [],
   "source": [
    "import warnings\n",
    "warnings.simplefilter(action='ignore', category=FutureWarning)\n",
    "warnings.simplefilter(action='ignore', category=UserWarning)"
   ]
  },
  {
   "cell_type": "code",
   "execution_count": null,
   "id": "5bba6a57-54cf-4720-8653-bf94afa536ad",
   "metadata": {
    "execution": {
     "iopub.execute_input": "2023-05-15T09:57:02.259642Z",
     "iopub.status.busy": "2023-05-15T09:57:02.259398Z",
     "iopub.status.idle": "2023-05-15T09:57:06.598912Z",
     "shell.execute_reply": "2023-05-15T09:57:06.598427Z"
    },
    "papermill": {
     "duration": 4.342682,
     "end_time": "2023-05-15T09:57:06.600269",
     "exception": false,
     "start_time": "2023-05-15T09:57:02.257587",
     "status": "completed"
    },
    "tags": []
   },
   "outputs": [],
   "source": [
    "import gc\n",
    "import scanpy as sc\n",
    "import muon as mu\n",
    "import seaborn as sns\n",
    "import os\n",
    "import pandas as pd\n",
    "from matplotlib import pyplot as plt\n",
    "\n",
    "os.environ['R_HOME'] = '/gpfs/bwfor/work/ws/hd_fu399-conda/conda/envs/python_R/lib/R/'\n",
    "import anndata2ri\n",
    "import logging\n",
    "\n",
    "import rpy2.rinterface_lib.callbacks as rcb\n",
    "import rpy2.robjects as ro\n",
    "\n",
    "rcb.logger.setLevel(logging.ERROR)\n",
    "ro.pandas2ri.activate()\n",
    "anndata2ri.activate()\n",
    "\n",
    "%load_ext rpy2.ipython"
   ]
  },
  {
   "cell_type": "code",
   "execution_count": null,
   "id": "0897f8ed-b086-4ddc-a32e-6ae638ff6d14",
   "metadata": {
    "execution": {
     "iopub.execute_input": "2023-05-15T09:57:06.606564Z",
     "iopub.status.busy": "2023-05-15T09:57:06.606294Z",
     "iopub.status.idle": "2023-05-15T09:57:13.772798Z",
     "shell.execute_reply": "2023-05-15T09:57:13.772237Z"
    },
    "papermill": {
     "duration": 7.170374,
     "end_time": "2023-05-15T09:57:13.774487",
     "exception": false,
     "start_time": "2023-05-15T09:57:06.604113",
     "status": "completed"
    },
    "tags": []
   },
   "outputs": [],
   "source": [
    "%%R\n",
    "\n",
    "suppressMessages(library(SeuratDisk))\n",
    "suppressMessages(library(SingleR))\n",
    "suppressMessages(library(Seurat))\n",
    "suppressMessages(library(SingleCellExperiment))\n",
    "suppressMessages(library(UCell))"
   ]
  },
  {
   "cell_type": "code",
   "execution_count": null,
   "id": "74c6b1b1-5af7-4955-a6cc-4532fc42a266",
   "metadata": {
    "execution": {
     "iopub.execute_input": "2023-05-15T09:57:13.781043Z",
     "iopub.status.busy": "2023-05-15T09:57:13.780884Z",
     "iopub.status.idle": "2023-05-15T09:57:14.107821Z",
     "shell.execute_reply": "2023-05-15T09:57:14.107358Z"
    },
    "papermill": {
     "duration": 0.330933,
     "end_time": "2023-05-15T09:57:14.109308",
     "exception": false,
     "start_time": "2023-05-15T09:57:13.778375",
     "status": "completed"
    },
    "tags": []
   },
   "outputs": [],
   "source": [
    "dataset = sc.read(f\"../../int_data/{sample_name}_qc.h5ad\")\n",
    "dataset.X = dataset.layers[\"soupX_counts\"]"
   ]
  },
  {
   "cell_type": "code",
   "execution_count": null,
   "id": "f2520f85-0ac2-4e0d-b7f1-e5b9ce4c769d",
   "metadata": {
    "execution": {
     "iopub.execute_input": "2023-05-15T09:57:14.113720Z",
     "iopub.status.busy": "2023-05-15T09:57:14.113577Z",
     "iopub.status.idle": "2023-05-15T09:57:14.123394Z",
     "shell.execute_reply": "2023-05-15T09:57:14.123051Z"
    },
    "papermill": {
     "duration": 0.012717,
     "end_time": "2023-05-15T09:57:14.124179",
     "exception": false,
     "start_time": "2023-05-15T09:57:14.111462",
     "status": "completed"
    },
    "tags": []
   },
   "outputs": [],
   "source": [
    "dataset.obs[[\"AvgSpotLen\", \"Bases\", \"Bytes\", \"version\"]] = dataset.obs[[\"AvgSpotLen\", \"Bases\", \"Bytes\", \"version\"]].astype(\"str\")"
   ]
  },
  {
   "cell_type": "code",
   "execution_count": null,
   "id": "99f95dca-cf68-4a51-8f53-ca088aa3167b",
   "metadata": {
    "execution": {
     "iopub.execute_input": "2023-05-15T09:57:14.127914Z",
     "iopub.status.busy": "2023-05-15T09:57:14.127755Z",
     "iopub.status.idle": "2023-05-15T09:57:21.240655Z",
     "shell.execute_reply": "2023-05-15T09:57:21.240071Z"
    },
    "papermill": {
     "duration": 7.116474,
     "end_time": "2023-05-15T09:57:21.242221",
     "exception": false,
     "start_time": "2023-05-15T09:57:14.125747",
     "status": "completed"
    },
    "tags": []
   },
   "outputs": [],
   "source": [
    "%%R -i dataset\n",
    "\n",
    "sce <- SingleCellExperiment(list(counts=dataset@assays@data[[\"soupX_counts\"]]),\n",
    "    colData=dataset@colData,\n",
    ")\n",
    "\n",
    "row.names(sce) <- row.names(dataset)\n",
    "\n",
    "data <- as.Seurat(sce, data = NULL)"
   ]
  },
  {
   "cell_type": "code",
   "execution_count": null,
   "id": "0b749876-ea5a-403c-8b0b-51afc8a633e3",
   "metadata": {
    "execution": {
     "iopub.execute_input": "2023-05-15T09:57:21.248591Z",
     "iopub.status.busy": "2023-05-15T09:57:21.248438Z",
     "iopub.status.idle": "2023-05-15T09:57:21.268538Z",
     "shell.execute_reply": "2023-05-15T09:57:21.268203Z"
    },
    "papermill": {
     "duration": 0.023279,
     "end_time": "2023-05-15T09:57:21.269283",
     "exception": false,
     "start_time": "2023-05-15T09:57:21.246004",
     "status": "completed"
    },
    "tags": []
   },
   "outputs": [],
   "source": [
    "%%R\n",
    "data"
   ]
  },
  {
   "cell_type": "code",
   "execution_count": null,
   "id": "b6b29b0e-92c4-4d4f-b835-c5e9d7d59455",
   "metadata": {
    "execution": {
     "iopub.execute_input": "2023-05-15T09:57:21.274791Z",
     "iopub.status.busy": "2023-05-15T09:57:21.274454Z",
     "iopub.status.idle": "2023-05-15T09:57:40.476302Z",
     "shell.execute_reply": "2023-05-15T09:57:40.475683Z"
    },
    "papermill": {
     "duration": 19.206178,
     "end_time": "2023-05-15T09:57:40.477832",
     "exception": false,
     "start_time": "2023-05-15T09:57:21.271654",
     "status": "completed"
    },
    "tags": []
   },
   "outputs": [],
   "source": [
    "%%R\n",
    "\n",
    "data <- NormalizeData(data)\n",
    "data <- ScaleData(data, features = row.names(data))\n",
    "data <- FindVariableFeatures(data)\n",
    "data <- RunPCA(data, verbose = F)\n",
    "data <- FindNeighbors(data, verbose = F)\n",
    "data <- FindClusters(data, verbose = F)\n",
    "data <- RunUMAP(data, dims = 1:20, verbose = F)"
   ]
  },
  {
   "cell_type": "code",
   "execution_count": null,
   "id": "40fa5cdd-01d7-4b40-90e6-0c97545b0711",
   "metadata": {
    "execution": {
     "iopub.execute_input": "2023-05-15T09:57:40.485683Z",
     "iopub.status.busy": "2023-05-15T09:57:40.485530Z",
     "iopub.status.idle": "2023-05-15T09:58:13.582859Z",
     "shell.execute_reply": "2023-05-15T09:58:13.582423Z"
    },
    "papermill": {
     "duration": 33.106106,
     "end_time": "2023-05-15T09:58:13.588498",
     "exception": false,
     "start_time": "2023-05-15T09:57:40.482392",
     "status": "completed"
    },
    "tags": []
   },
   "outputs": [],
   "source": [
    "%%R\n",
    "\n",
    "ref1 <- celldex::BlueprintEncodeData()\n",
    "ref2 <- celldex::MonacoImmuneData()\n",
    "cell_classification <- SingleR(test = as.SingleCellExperiment(data),\n",
    "                               ref = list(BPE = ref1, MON = ref2),\n",
    "                               labels = list(ref1$label.main, ref2$label.main))\n",
    "\n",
    "data[[\"SingleR_label\"]] <- cell_classification$labels\n",
    "\n",
    "plotScoreHeatmap(cell_classification)"
   ]
  },
  {
   "cell_type": "code",
   "execution_count": null,
   "id": "6ad7cf2f-891f-4c05-b34d-e47c84bbe27b",
   "metadata": {
    "execution": {
     "iopub.execute_input": "2023-05-15T09:58:13.595530Z",
     "iopub.status.busy": "2023-05-15T09:58:13.595382Z",
     "iopub.status.idle": "2023-05-15T09:58:13.928234Z",
     "shell.execute_reply": "2023-05-15T09:58:13.927834Z"
    },
    "papermill": {
     "duration": 0.337786,
     "end_time": "2023-05-15T09:58:13.929318",
     "exception": false,
     "start_time": "2023-05-15T09:58:13.591532",
     "status": "completed"
    },
    "tags": []
   },
   "outputs": [],
   "source": [
    "%%R -i sample_name\n",
    "\n",
    "write.csv(data@meta.data, paste0(sample_name, \"_metadata.csv\"))"
   ]
  }
 ],
 "metadata": {
  "kernelspec": {
   "display_name": "py_R",
   "language": "python",
   "name": "python_r"
  },
  "language_info": {
   "codemirror_mode": {
    "name": "ipython",
    "version": 3
   },
   "file_extension": ".py",
   "mimetype": "text/x-python",
   "name": "python",
   "nbconvert_exporter": "python",
   "pygments_lexer": "ipython3",
   "version": "3.10.9"
  },
  "papermill": {
   "default_parameters": {},
   "duration": 74.108357,
   "end_time": "2023-05-15T09:58:15.250929",
   "environment_variables": {},
   "exception": null,
   "input_path": "template.ipynb",
   "output_path": "SRR13329116.ipynb",
   "parameters": {
    "sample_name": "SRR13329116"
   },
   "start_time": "2023-05-15T09:57:01.142572",
   "version": "2.3.4"
  }
 },
 "nbformat": 4,
 "nbformat_minor": 5
}
