{
 "cells": [
  {
   "cell_type": "code",
   "execution_count": null,
   "id": "78a6243e-1906-4e3b-ae98-4b5bd21bd37c",
   "metadata": {
    "execution": {
     "iopub.execute_input": "2023-05-15T09:46:34.957805Z",
     "iopub.status.busy": "2023-05-15T09:46:34.957550Z",
     "iopub.status.idle": "2023-05-15T09:46:34.963955Z",
     "shell.execute_reply": "2023-05-15T09:46:34.963552Z"
    },
    "papermill": {
     "duration": 0.009977,
     "end_time": "2023-05-15T09:46:34.964890",
     "exception": false,
     "start_time": "2023-05-15T09:46:34.954913",
     "status": "completed"
    },
    "tags": [
     "parameters"
    ]
   },
   "outputs": [],
   "source": [
    "sample_name = \"SRR13329143\""
   ]
  },
  {
   "cell_type": "code",
   "execution_count": null,
   "id": "bd310fcb",
   "metadata": {
    "execution": {
     "iopub.execute_input": "2023-05-15T09:46:34.968476Z",
     "iopub.status.busy": "2023-05-15T09:46:34.968321Z",
     "iopub.status.idle": "2023-05-15T09:46:34.971637Z",
     "shell.execute_reply": "2023-05-15T09:46:34.971273Z"
    },
    "papermill": {
     "duration": 0.006117,
     "end_time": "2023-05-15T09:46:34.972534",
     "exception": false,
     "start_time": "2023-05-15T09:46:34.966417",
     "status": "completed"
    },
    "tags": [
     "injected-parameters"
    ]
   },
   "outputs": [],
   "source": [
    "# Parameters\n",
    "sample_name = \"SRR13329147\"\n"
   ]
  },
  {
   "cell_type": "code",
   "execution_count": null,
   "id": "487588d5-40a0-4c35-9cd9-ee9b3e2f1d4e",
   "metadata": {
    "execution": {
     "iopub.execute_input": "2023-05-15T09:46:34.976006Z",
     "iopub.status.busy": "2023-05-15T09:46:34.975841Z",
     "iopub.status.idle": "2023-05-15T09:46:34.978600Z",
     "shell.execute_reply": "2023-05-15T09:46:34.978198Z"
    },
    "papermill": {
     "duration": 0.005641,
     "end_time": "2023-05-15T09:46:34.979588",
     "exception": false,
     "start_time": "2023-05-15T09:46:34.973947",
     "status": "completed"
    },
    "tags": []
   },
   "outputs": [],
   "source": [
    "import warnings\n",
    "warnings.simplefilter(action='ignore', category=FutureWarning)\n",
    "warnings.simplefilter(action='ignore', category=UserWarning)"
   ]
  },
  {
   "cell_type": "code",
   "execution_count": null,
   "id": "5bba6a57-54cf-4720-8653-bf94afa536ad",
   "metadata": {
    "execution": {
     "iopub.execute_input": "2023-05-15T09:46:34.983195Z",
     "iopub.status.busy": "2023-05-15T09:46:34.983053Z",
     "iopub.status.idle": "2023-05-15T09:46:40.592973Z",
     "shell.execute_reply": "2023-05-15T09:46:40.592335Z"
    },
    "papermill": {
     "duration": 5.613444,
     "end_time": "2023-05-15T09:46:40.594579",
     "exception": false,
     "start_time": "2023-05-15T09:46:34.981135",
     "status": "completed"
    },
    "tags": []
   },
   "outputs": [],
   "source": [
    "import gc\n",
    "import scanpy as sc\n",
    "import muon as mu\n",
    "import seaborn as sns\n",
    "import os\n",
    "import pandas as pd\n",
    "from matplotlib import pyplot as plt\n",
    "\n",
    "os.environ['R_HOME'] = '/gpfs/bwfor/work/ws/hd_fu399-conda/conda/envs/python_R/lib/R/'\n",
    "import anndata2ri\n",
    "import logging\n",
    "\n",
    "import rpy2.rinterface_lib.callbacks as rcb\n",
    "import rpy2.robjects as ro\n",
    "\n",
    "rcb.logger.setLevel(logging.ERROR)\n",
    "ro.pandas2ri.activate()\n",
    "anndata2ri.activate()\n",
    "\n",
    "%load_ext rpy2.ipython"
   ]
  },
  {
   "cell_type": "code",
   "execution_count": null,
   "id": "0897f8ed-b086-4ddc-a32e-6ae638ff6d14",
   "metadata": {
    "execution": {
     "iopub.execute_input": "2023-05-15T09:46:40.600263Z",
     "iopub.status.busy": "2023-05-15T09:46:40.599370Z",
     "iopub.status.idle": "2023-05-15T09:46:49.840258Z",
     "shell.execute_reply": "2023-05-15T09:46:49.839454Z"
    },
    "papermill": {
     "duration": 9.244768,
     "end_time": "2023-05-15T09:46:49.841855",
     "exception": false,
     "start_time": "2023-05-15T09:46:40.597087",
     "status": "completed"
    },
    "tags": []
   },
   "outputs": [],
   "source": [
    "%%R\n",
    "\n",
    "suppressMessages(library(SeuratDisk))\n",
    "suppressMessages(library(SingleR))\n",
    "suppressMessages(library(Seurat))\n",
    "suppressMessages(library(SingleCellExperiment))\n",
    "suppressMessages(library(UCell))"
   ]
  },
  {
   "cell_type": "code",
   "execution_count": null,
   "id": "74c6b1b1-5af7-4955-a6cc-4532fc42a266",
   "metadata": {
    "execution": {
     "iopub.execute_input": "2023-05-15T09:46:49.848423Z",
     "iopub.status.busy": "2023-05-15T09:46:49.848122Z",
     "iopub.status.idle": "2023-05-15T09:46:50.143590Z",
     "shell.execute_reply": "2023-05-15T09:46:50.143094Z"
    },
    "papermill": {
     "duration": 0.299661,
     "end_time": "2023-05-15T09:46:50.144998",
     "exception": false,
     "start_time": "2023-05-15T09:46:49.845337",
     "status": "completed"
    },
    "tags": []
   },
   "outputs": [],
   "source": [
    "dataset = sc.read(f\"../../int_data/{sample_name}_qc.h5ad\")\n",
    "dataset.X = dataset.layers[\"soupX_counts\"]"
   ]
  },
  {
   "cell_type": "code",
   "execution_count": null,
   "id": "f2520f85-0ac2-4e0d-b7f1-e5b9ce4c769d",
   "metadata": {
    "execution": {
     "iopub.execute_input": "2023-05-15T09:46:50.149548Z",
     "iopub.status.busy": "2023-05-15T09:46:50.149338Z",
     "iopub.status.idle": "2023-05-15T09:46:50.159497Z",
     "shell.execute_reply": "2023-05-15T09:46:50.159130Z"
    },
    "papermill": {
     "duration": 0.013272,
     "end_time": "2023-05-15T09:46:50.160376",
     "exception": false,
     "start_time": "2023-05-15T09:46:50.147104",
     "status": "completed"
    },
    "tags": []
   },
   "outputs": [],
   "source": [
    "dataset.obs[[\"AvgSpotLen\", \"Bases\", \"Bytes\", \"version\"]] = dataset.obs[[\"AvgSpotLen\", \"Bases\", \"Bytes\", \"version\"]].astype(\"str\")"
   ]
  },
  {
   "cell_type": "code",
   "execution_count": null,
   "id": "99f95dca-cf68-4a51-8f53-ca088aa3167b",
   "metadata": {
    "execution": {
     "iopub.execute_input": "2023-05-15T09:46:50.164310Z",
     "iopub.status.busy": "2023-05-15T09:46:50.164108Z",
     "iopub.status.idle": "2023-05-15T09:46:57.303441Z",
     "shell.execute_reply": "2023-05-15T09:46:57.302898Z"
    },
    "papermill": {
     "duration": 7.142962,
     "end_time": "2023-05-15T09:46:57.304922",
     "exception": false,
     "start_time": "2023-05-15T09:46:50.161960",
     "status": "completed"
    },
    "tags": []
   },
   "outputs": [],
   "source": [
    "%%R -i dataset\n",
    "\n",
    "sce <- SingleCellExperiment(list(counts=dataset@assays@data[[\"soupX_counts\"]]),\n",
    "    colData=dataset@colData,\n",
    ")\n",
    "\n",
    "row.names(sce) <- row.names(dataset)\n",
    "\n",
    "data <- as.Seurat(sce, data = NULL)"
   ]
  },
  {
   "cell_type": "code",
   "execution_count": null,
   "id": "0b749876-ea5a-403c-8b0b-51afc8a633e3",
   "metadata": {
    "execution": {
     "iopub.execute_input": "2023-05-15T09:46:57.311406Z",
     "iopub.status.busy": "2023-05-15T09:46:57.311219Z",
     "iopub.status.idle": "2023-05-15T09:46:57.332082Z",
     "shell.execute_reply": "2023-05-15T09:46:57.331716Z"
    },
    "papermill": {
     "duration": 0.024164,
     "end_time": "2023-05-15T09:46:57.332998",
     "exception": false,
     "start_time": "2023-05-15T09:46:57.308834",
     "status": "completed"
    },
    "tags": []
   },
   "outputs": [],
   "source": [
    "%%R\n",
    "data"
   ]
  },
  {
   "cell_type": "code",
   "execution_count": null,
   "id": "b6b29b0e-92c4-4d4f-b835-c5e9d7d59455",
   "metadata": {
    "execution": {
     "iopub.execute_input": "2023-05-15T09:46:57.338481Z",
     "iopub.status.busy": "2023-05-15T09:46:57.338337Z",
     "iopub.status.idle": "2023-05-15T09:47:14.673667Z",
     "shell.execute_reply": "2023-05-15T09:47:14.673032Z"
    },
    "papermill": {
     "duration": 17.339806,
     "end_time": "2023-05-15T09:47:14.675306",
     "exception": false,
     "start_time": "2023-05-15T09:46:57.335500",
     "status": "completed"
    },
    "tags": []
   },
   "outputs": [],
   "source": [
    "%%R\n",
    "\n",
    "data <- NormalizeData(data)\n",
    "data <- ScaleData(data, features = row.names(data))\n",
    "data <- FindVariableFeatures(data)\n",
    "data <- RunPCA(data, verbose = F)\n",
    "data <- FindNeighbors(data, verbose = F)\n",
    "data <- FindClusters(data, verbose = F)\n",
    "data <- RunUMAP(data, dims = 1:20, verbose = F)"
   ]
  },
  {
   "cell_type": "code",
   "execution_count": null,
   "id": "40fa5cdd-01d7-4b40-90e6-0c97545b0711",
   "metadata": {
    "execution": {
     "iopub.execute_input": "2023-05-15T09:47:14.683546Z",
     "iopub.status.busy": "2023-05-15T09:47:14.683346Z",
     "iopub.status.idle": "2023-05-15T09:47:47.307621Z",
     "shell.execute_reply": "2023-05-15T09:47:47.307082Z"
    },
    "papermill": {
     "duration": 32.634567,
     "end_time": "2023-05-15T09:47:47.314606",
     "exception": false,
     "start_time": "2023-05-15T09:47:14.680039",
     "status": "completed"
    },
    "tags": []
   },
   "outputs": [],
   "source": [
    "%%R\n",
    "\n",
    "ref1 <- celldex::BlueprintEncodeData()\n",
    "ref2 <- celldex::MonacoImmuneData()\n",
    "cell_classification <- SingleR(test = as.SingleCellExperiment(data),\n",
    "                               ref = list(BPE = ref1, MON = ref2),\n",
    "                               labels = list(ref1$label.main, ref2$label.main))\n",
    "\n",
    "data[[\"SingleR_label\"]] <- cell_classification$labels\n",
    "\n",
    "plotScoreHeatmap(cell_classification)"
   ]
  },
  {
   "cell_type": "code",
   "execution_count": null,
   "id": "6ad7cf2f-891f-4c05-b34d-e47c84bbe27b",
   "metadata": {
    "execution": {
     "iopub.execute_input": "2023-05-15T09:47:47.322162Z",
     "iopub.status.busy": "2023-05-15T09:47:47.321957Z",
     "iopub.status.idle": "2023-05-15T09:47:47.814825Z",
     "shell.execute_reply": "2023-05-15T09:47:47.814338Z"
    },
    "papermill": {
     "duration": 0.498196,
     "end_time": "2023-05-15T09:47:47.816137",
     "exception": false,
     "start_time": "2023-05-15T09:47:47.317941",
     "status": "completed"
    },
    "tags": []
   },
   "outputs": [],
   "source": [
    "%%R -i sample_name\n",
    "\n",
    "write.csv(data@meta.data, paste0(sample_name, \"_metadata.csv\"))"
   ]
  }
 ],
 "metadata": {
  "kernelspec": {
   "display_name": "py_R",
   "language": "python",
   "name": "python_r"
  },
  "language_info": {
   "codemirror_mode": {
    "name": "ipython",
    "version": 3
   },
   "file_extension": ".py",
   "mimetype": "text/x-python",
   "name": "python",
   "nbconvert_exporter": "python",
   "pygments_lexer": "ipython3",
   "version": "3.10.9"
  },
  "papermill": {
   "default_parameters": {},
   "duration": 75.504363,
   "end_time": "2023-05-15T09:47:49.139056",
   "environment_variables": {},
   "exception": null,
   "input_path": "template.ipynb",
   "output_path": "SRR13329147.ipynb",
   "parameters": {
    "sample_name": "SRR13329147"
   },
   "start_time": "2023-05-15T09:46:33.634693",
   "version": "2.3.4"
  }
 },
 "nbformat": 4,
 "nbformat_minor": 5
}
