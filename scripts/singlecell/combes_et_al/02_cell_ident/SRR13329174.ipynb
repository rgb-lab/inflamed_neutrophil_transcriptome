{
 "cells": [
  {
   "cell_type": "code",
   "execution_count": null,
   "id": "78a6243e-1906-4e3b-ae98-4b5bd21bd37c",
   "metadata": {
    "execution": {
     "iopub.execute_input": "2023-05-15T09:14:22.947879Z",
     "iopub.status.busy": "2023-05-15T09:14:22.947709Z",
     "iopub.status.idle": "2023-05-15T09:14:22.990491Z",
     "shell.execute_reply": "2023-05-15T09:14:22.990104Z"
    },
    "papermill": {
     "duration": 0.046851,
     "end_time": "2023-05-15T09:14:22.991530",
     "exception": false,
     "start_time": "2023-05-15T09:14:22.944679",
     "status": "completed"
    },
    "tags": [
     "parameters"
    ]
   },
   "outputs": [],
   "source": [
    "sample_name = \"SRR13329143\""
   ]
  },
  {
   "cell_type": "code",
   "execution_count": null,
   "id": "54db1e8d",
   "metadata": {
    "execution": {
     "iopub.execute_input": "2023-05-15T09:14:22.995032Z",
     "iopub.status.busy": "2023-05-15T09:14:22.994871Z",
     "iopub.status.idle": "2023-05-15T09:14:22.996926Z",
     "shell.execute_reply": "2023-05-15T09:14:22.996626Z"
    },
    "papermill": {
     "duration": 0.00461,
     "end_time": "2023-05-15T09:14:22.997697",
     "exception": false,
     "start_time": "2023-05-15T09:14:22.993087",
     "status": "completed"
    },
    "tags": [
     "injected-parameters"
    ]
   },
   "outputs": [],
   "source": [
    "# Parameters\n",
    "sample_name = \"SRR13329174\"\n"
   ]
  },
  {
   "cell_type": "code",
   "execution_count": null,
   "id": "487588d5-40a0-4c35-9cd9-ee9b3e2f1d4e",
   "metadata": {
    "execution": {
     "iopub.execute_input": "2023-05-15T09:14:23.001027Z",
     "iopub.status.busy": "2023-05-15T09:14:23.000816Z",
     "iopub.status.idle": "2023-05-15T09:14:23.013308Z",
     "shell.execute_reply": "2023-05-15T09:14:23.012982Z"
    },
    "papermill": {
     "duration": 0.015127,
     "end_time": "2023-05-15T09:14:23.014145",
     "exception": false,
     "start_time": "2023-05-15T09:14:22.999018",
     "status": "completed"
    },
    "tags": []
   },
   "outputs": [],
   "source": [
    "import warnings\n",
    "warnings.simplefilter(action='ignore', category=FutureWarning)\n",
    "warnings.simplefilter(action='ignore', category=UserWarning)"
   ]
  },
  {
   "cell_type": "code",
   "execution_count": null,
   "id": "5bba6a57-54cf-4720-8653-bf94afa536ad",
   "metadata": {
    "execution": {
     "iopub.execute_input": "2023-05-15T09:14:23.017425Z",
     "iopub.status.busy": "2023-05-15T09:14:23.017309Z",
     "iopub.status.idle": "2023-05-15T09:14:27.622376Z",
     "shell.execute_reply": "2023-05-15T09:14:27.621893Z"
    },
    "papermill": {
     "duration": 4.608288,
     "end_time": "2023-05-15T09:14:27.623812",
     "exception": false,
     "start_time": "2023-05-15T09:14:23.015524",
     "status": "completed"
    },
    "tags": []
   },
   "outputs": [],
   "source": [
    "import gc\n",
    "import scanpy as sc\n",
    "import muon as mu\n",
    "import seaborn as sns\n",
    "import os\n",
    "import pandas as pd\n",
    "from matplotlib import pyplot as plt\n",
    "\n",
    "os.environ['R_HOME'] = '/gpfs/bwfor/work/ws/hd_fu399-conda/conda/envs/python_R/lib/R/'\n",
    "import anndata2ri\n",
    "import logging\n",
    "\n",
    "import rpy2.rinterface_lib.callbacks as rcb\n",
    "import rpy2.robjects as ro\n",
    "\n",
    "rcb.logger.setLevel(logging.ERROR)\n",
    "ro.pandas2ri.activate()\n",
    "anndata2ri.activate()\n",
    "\n",
    "%load_ext rpy2.ipython"
   ]
  },
  {
   "cell_type": "code",
   "execution_count": null,
   "id": "0897f8ed-b086-4ddc-a32e-6ae638ff6d14",
   "metadata": {
    "execution": {
     "iopub.execute_input": "2023-05-15T09:14:27.628127Z",
     "iopub.status.busy": "2023-05-15T09:14:27.627841Z",
     "iopub.status.idle": "2023-05-15T09:14:35.613066Z",
     "shell.execute_reply": "2023-05-15T09:14:35.612491Z"
    },
    "papermill": {
     "duration": 7.988767,
     "end_time": "2023-05-15T09:14:35.614612",
     "exception": false,
     "start_time": "2023-05-15T09:14:27.625845",
     "status": "completed"
    },
    "tags": []
   },
   "outputs": [],
   "source": [
    "%%R\n",
    "\n",
    "suppressMessages(library(SeuratDisk))\n",
    "suppressMessages(library(SingleR))\n",
    "suppressMessages(library(Seurat))\n",
    "suppressMessages(library(SingleCellExperiment))\n",
    "suppressMessages(library(UCell))"
   ]
  },
  {
   "cell_type": "code",
   "execution_count": null,
   "id": "74c6b1b1-5af7-4955-a6cc-4532fc42a266",
   "metadata": {
    "execution": {
     "iopub.execute_input": "2023-05-15T09:14:35.620734Z",
     "iopub.status.busy": "2023-05-15T09:14:35.620565Z",
     "iopub.status.idle": "2023-05-15T09:14:35.959308Z",
     "shell.execute_reply": "2023-05-15T09:14:35.958850Z"
    },
    "papermill": {
     "duration": 0.34242,
     "end_time": "2023-05-15T09:14:35.960796",
     "exception": false,
     "start_time": "2023-05-15T09:14:35.618376",
     "status": "completed"
    },
    "tags": []
   },
   "outputs": [],
   "source": [
    "dataset = sc.read(f\"../../int_data/{sample_name}_qc.h5ad\")\n",
    "dataset.X = dataset.layers[\"soupX_counts\"]"
   ]
  },
  {
   "cell_type": "code",
   "execution_count": null,
   "id": "f2520f85-0ac2-4e0d-b7f1-e5b9ce4c769d",
   "metadata": {
    "execution": {
     "iopub.execute_input": "2023-05-15T09:14:35.965351Z",
     "iopub.status.busy": "2023-05-15T09:14:35.965175Z",
     "iopub.status.idle": "2023-05-15T09:14:35.972216Z",
     "shell.execute_reply": "2023-05-15T09:14:35.971887Z"
    },
    "papermill": {
     "duration": 0.010005,
     "end_time": "2023-05-15T09:14:35.973010",
     "exception": false,
     "start_time": "2023-05-15T09:14:35.963005",
     "status": "completed"
    },
    "tags": []
   },
   "outputs": [],
   "source": [
    "dataset.obs[[\"AvgSpotLen\", \"Bases\", \"Bytes\", \"version\"]] = dataset.obs[[\"AvgSpotLen\", \"Bases\", \"Bytes\", \"version\"]].astype(\"str\")"
   ]
  },
  {
   "cell_type": "code",
   "execution_count": null,
   "id": "99f95dca-cf68-4a51-8f53-ca088aa3167b",
   "metadata": {
    "execution": {
     "iopub.execute_input": "2023-05-15T09:14:35.976830Z",
     "iopub.status.busy": "2023-05-15T09:14:35.976512Z",
     "iopub.status.idle": "2023-05-15T09:14:53.764795Z",
     "shell.execute_reply": "2023-05-15T09:14:53.764317Z"
    },
    "papermill": {
     "duration": 17.791632,
     "end_time": "2023-05-15T09:14:53.766148",
     "exception": false,
     "start_time": "2023-05-15T09:14:35.974516",
     "status": "completed"
    },
    "tags": []
   },
   "outputs": [],
   "source": [
    "%%R -i dataset\n",
    "\n",
    "sce <- SingleCellExperiment(list(counts=dataset@assays@data[[\"soupX_counts\"]]),\n",
    "    colData=dataset@colData,\n",
    ")\n",
    "\n",
    "row.names(sce) <- row.names(dataset)\n",
    "\n",
    "data <- as.Seurat(sce, data = NULL)"
   ]
  },
  {
   "cell_type": "code",
   "execution_count": null,
   "id": "0b749876-ea5a-403c-8b0b-51afc8a633e3",
   "metadata": {
    "execution": {
     "iopub.execute_input": "2023-05-15T09:14:53.772455Z",
     "iopub.status.busy": "2023-05-15T09:14:53.772291Z",
     "iopub.status.idle": "2023-05-15T09:15:04.714144Z",
     "shell.execute_reply": "2023-05-15T09:15:04.713659Z"
    },
    "papermill": {
     "duration": 10.945492,
     "end_time": "2023-05-15T09:15:04.715416",
     "exception": false,
     "start_time": "2023-05-15T09:14:53.769924",
     "status": "completed"
    },
    "tags": []
   },
   "outputs": [],
   "source": [
    "%%R\n",
    "data"
   ]
  },
  {
   "cell_type": "code",
   "execution_count": null,
   "id": "b6b29b0e-92c4-4d4f-b835-c5e9d7d59455",
   "metadata": {
    "execution": {
     "iopub.execute_input": "2023-05-15T09:15:04.723457Z",
     "iopub.status.busy": "2023-05-15T09:15:04.723295Z",
     "iopub.status.idle": "2023-05-15T09:15:17.698672Z",
     "shell.execute_reply": "2023-05-15T09:15:17.698178Z"
    },
    "papermill": {
     "duration": 12.979936,
     "end_time": "2023-05-15T09:15:17.700168",
     "exception": false,
     "start_time": "2023-05-15T09:15:04.720232",
     "status": "completed"
    },
    "tags": []
   },
   "outputs": [],
   "source": [
    "%%R\n",
    "\n",
    "data <- NormalizeData(data)\n",
    "data <- ScaleData(data, features = row.names(data))\n",
    "data <- FindVariableFeatures(data)\n",
    "data <- RunPCA(data, verbose = F)\n",
    "data <- FindNeighbors(data, verbose = F)\n",
    "data <- FindClusters(data, verbose = F)\n",
    "data <- RunUMAP(data, dims = 1:20, verbose = F)"
   ]
  },
  {
   "cell_type": "code",
   "execution_count": null,
   "id": "40fa5cdd-01d7-4b40-90e6-0c97545b0711",
   "metadata": {
    "execution": {
     "iopub.execute_input": "2023-05-15T09:15:17.708507Z",
     "iopub.status.busy": "2023-05-15T09:15:17.708367Z",
     "iopub.status.idle": "2023-05-15T09:15:42.396574Z",
     "shell.execute_reply": "2023-05-15T09:15:42.396201Z"
    },
    "papermill": {
     "duration": 24.692181,
     "end_time": "2023-05-15T09:15:42.397551",
     "exception": false,
     "start_time": "2023-05-15T09:15:17.705370",
     "status": "completed"
    },
    "tags": []
   },
   "outputs": [],
   "source": [
    "%%R\n",
    "\n",
    "ref1 <- celldex::BlueprintEncodeData()\n",
    "ref2 <- celldex::MonacoImmuneData()\n",
    "cell_classification <- SingleR(test = as.SingleCellExperiment(data),\n",
    "                               ref = list(BPE = ref1, MON = ref2),\n",
    "                               labels = list(ref1$label.main, ref2$label.main))\n",
    "\n",
    "data[[\"SingleR_label\"]] <- cell_classification$labels\n",
    "\n",
    "plotScoreHeatmap(cell_classification)"
   ]
  },
  {
   "cell_type": "code",
   "execution_count": null,
   "id": "6ad7cf2f-891f-4c05-b34d-e47c84bbe27b",
   "metadata": {
    "execution": {
     "iopub.execute_input": "2023-05-15T09:15:42.406746Z",
     "iopub.status.busy": "2023-05-15T09:15:42.406602Z",
     "iopub.status.idle": "2023-05-15T09:15:42.932797Z",
     "shell.execute_reply": "2023-05-15T09:15:42.932422Z"
    },
    "papermill": {
     "duration": 0.530902,
     "end_time": "2023-05-15T09:15:42.933882",
     "exception": false,
     "start_time": "2023-05-15T09:15:42.402980",
     "status": "completed"
    },
    "tags": []
   },
   "outputs": [],
   "source": [
    "%%R -i sample_name\n",
    "\n",
    "write.csv(data@meta.data, paste0(sample_name, \"_metadata.csv\"))"
   ]
  }
 ],
 "metadata": {
  "kernelspec": {
   "display_name": "py_R",
   "language": "python",
   "name": "python_r"
  },
  "language_info": {
   "codemirror_mode": {
    "name": "ipython",
    "version": 3
   },
   "file_extension": ".py",
   "mimetype": "text/x-python",
   "name": "python",
   "nbconvert_exporter": "python",
   "pygments_lexer": "ipython3",
   "version": "3.10.9"
  },
  "papermill": {
   "default_parameters": {},
   "duration": 85.606358,
   "end_time": "2023-05-15T09:15:44.156467",
   "environment_variables": {},
   "exception": null,
   "input_path": "template.ipynb",
   "output_path": "SRR13329174.ipynb",
   "parameters": {
    "sample_name": "SRR13329174"
   },
   "start_time": "2023-05-15T09:14:18.550109",
   "version": "2.3.4"
  }
 },
 "nbformat": 4,
 "nbformat_minor": 5
}
