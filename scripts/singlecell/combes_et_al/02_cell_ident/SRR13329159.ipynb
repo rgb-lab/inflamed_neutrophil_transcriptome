{
 "cells": [
  {
   "cell_type": "code",
   "execution_count": null,
   "id": "78a6243e-1906-4e3b-ae98-4b5bd21bd37c",
   "metadata": {
    "execution": {
     "iopub.execute_input": "2023-05-15T08:56:54.920377Z",
     "iopub.status.busy": "2023-05-15T08:56:54.920105Z",
     "iopub.status.idle": "2023-05-15T08:56:54.924852Z",
     "shell.execute_reply": "2023-05-15T08:56:54.924530Z"
    },
    "papermill": {
     "duration": 0.008784,
     "end_time": "2023-05-15T08:56:54.925744",
     "exception": false,
     "start_time": "2023-05-15T08:56:54.916960",
     "status": "completed"
    },
    "tags": [
     "parameters"
    ]
   },
   "outputs": [],
   "source": [
    "sample_name = \"SRR13329143\""
   ]
  },
  {
   "cell_type": "code",
   "execution_count": null,
   "id": "2d712980",
   "metadata": {
    "execution": {
     "iopub.execute_input": "2023-05-15T08:56:54.929219Z",
     "iopub.status.busy": "2023-05-15T08:56:54.929098Z",
     "iopub.status.idle": "2023-05-15T08:56:54.931027Z",
     "shell.execute_reply": "2023-05-15T08:56:54.930723Z"
    },
    "papermill": {
     "duration": 0.004559,
     "end_time": "2023-05-15T08:56:54.931823",
     "exception": false,
     "start_time": "2023-05-15T08:56:54.927264",
     "status": "completed"
    },
    "tags": [
     "injected-parameters"
    ]
   },
   "outputs": [],
   "source": [
    "# Parameters\n",
    "sample_name = \"SRR13329159\"\n"
   ]
  },
  {
   "cell_type": "code",
   "execution_count": null,
   "id": "487588d5-40a0-4c35-9cd9-ee9b3e2f1d4e",
   "metadata": {
    "execution": {
     "iopub.execute_input": "2023-05-15T08:56:54.935553Z",
     "iopub.status.busy": "2023-05-15T08:56:54.935434Z",
     "iopub.status.idle": "2023-05-15T08:56:54.937593Z",
     "shell.execute_reply": "2023-05-15T08:56:54.937304Z"
    },
    "papermill": {
     "duration": 0.005225,
     "end_time": "2023-05-15T08:56:54.938437",
     "exception": false,
     "start_time": "2023-05-15T08:56:54.933212",
     "status": "completed"
    },
    "tags": []
   },
   "outputs": [],
   "source": [
    "import warnings\n",
    "warnings.simplefilter(action='ignore', category=FutureWarning)\n",
    "warnings.simplefilter(action='ignore', category=UserWarning)"
   ]
  },
  {
   "cell_type": "code",
   "execution_count": null,
   "id": "5bba6a57-54cf-4720-8653-bf94afa536ad",
   "metadata": {
    "execution": {
     "iopub.execute_input": "2023-05-15T08:56:54.942034Z",
     "iopub.status.busy": "2023-05-15T08:56:54.941808Z",
     "iopub.status.idle": "2023-05-15T08:56:59.087647Z",
     "shell.execute_reply": "2023-05-15T08:56:59.087178Z"
    },
    "papermill": {
     "duration": 4.149285,
     "end_time": "2023-05-15T08:56:59.089134",
     "exception": false,
     "start_time": "2023-05-15T08:56:54.939849",
     "status": "completed"
    },
    "tags": []
   },
   "outputs": [],
   "source": [
    "import gc\n",
    "import scanpy as sc\n",
    "import muon as mu\n",
    "import seaborn as sns\n",
    "import os\n",
    "import pandas as pd\n",
    "from matplotlib import pyplot as plt\n",
    "\n",
    "os.environ['R_HOME'] = '/gpfs/bwfor/work/ws/hd_fu399-conda/conda/envs/python_R/lib/R/'\n",
    "import anndata2ri\n",
    "import logging\n",
    "\n",
    "import rpy2.rinterface_lib.callbacks as rcb\n",
    "import rpy2.robjects as ro\n",
    "\n",
    "rcb.logger.setLevel(logging.ERROR)\n",
    "ro.pandas2ri.activate()\n",
    "anndata2ri.activate()\n",
    "\n",
    "%load_ext rpy2.ipython"
   ]
  },
  {
   "cell_type": "code",
   "execution_count": null,
   "id": "0897f8ed-b086-4ddc-a32e-6ae638ff6d14",
   "metadata": {
    "execution": {
     "iopub.execute_input": "2023-05-15T08:56:59.093925Z",
     "iopub.status.busy": "2023-05-15T08:56:59.093612Z",
     "iopub.status.idle": "2023-05-15T08:57:06.315497Z",
     "shell.execute_reply": "2023-05-15T08:57:06.314912Z"
    },
    "papermill": {
     "duration": 7.225979,
     "end_time": "2023-05-15T08:57:06.317299",
     "exception": false,
     "start_time": "2023-05-15T08:56:59.091320",
     "status": "completed"
    },
    "tags": []
   },
   "outputs": [],
   "source": [
    "%%R\n",
    "\n",
    "suppressMessages(library(SeuratDisk))\n",
    "suppressMessages(library(SingleR))\n",
    "suppressMessages(library(Seurat))\n",
    "suppressMessages(library(SingleCellExperiment))\n",
    "suppressMessages(library(UCell))"
   ]
  },
  {
   "cell_type": "code",
   "execution_count": null,
   "id": "74c6b1b1-5af7-4955-a6cc-4532fc42a266",
   "metadata": {
    "execution": {
     "iopub.execute_input": "2023-05-15T08:57:06.324061Z",
     "iopub.status.busy": "2023-05-15T08:57:06.323898Z",
     "iopub.status.idle": "2023-05-15T08:57:06.451484Z",
     "shell.execute_reply": "2023-05-15T08:57:06.451005Z"
    },
    "papermill": {
     "duration": 0.131787,
     "end_time": "2023-05-15T08:57:06.453113",
     "exception": false,
     "start_time": "2023-05-15T08:57:06.321326",
     "status": "completed"
    },
    "tags": []
   },
   "outputs": [],
   "source": [
    "dataset = sc.read(f\"../../int_data/{sample_name}_qc.h5ad\")\n",
    "dataset.X = dataset.layers[\"soupX_counts\"]"
   ]
  },
  {
   "cell_type": "code",
   "execution_count": null,
   "id": "f2520f85-0ac2-4e0d-b7f1-e5b9ce4c769d",
   "metadata": {
    "execution": {
     "iopub.execute_input": "2023-05-15T08:57:06.457209Z",
     "iopub.status.busy": "2023-05-15T08:57:06.457063Z",
     "iopub.status.idle": "2023-05-15T08:57:06.462259Z",
     "shell.execute_reply": "2023-05-15T08:57:06.461931Z"
    },
    "papermill": {
     "duration": 0.008265,
     "end_time": "2023-05-15T08:57:06.463042",
     "exception": false,
     "start_time": "2023-05-15T08:57:06.454777",
     "status": "completed"
    },
    "tags": []
   },
   "outputs": [],
   "source": [
    "dataset.obs[[\"AvgSpotLen\", \"Bases\", \"Bytes\", \"version\"]] = dataset.obs[[\"AvgSpotLen\", \"Bases\", \"Bytes\", \"version\"]].astype(\"str\")"
   ]
  },
  {
   "cell_type": "code",
   "execution_count": null,
   "id": "99f95dca-cf68-4a51-8f53-ca088aa3167b",
   "metadata": {
    "execution": {
     "iopub.execute_input": "2023-05-15T08:57:06.467064Z",
     "iopub.status.busy": "2023-05-15T08:57:06.466687Z",
     "iopub.status.idle": "2023-05-15T08:57:10.920241Z",
     "shell.execute_reply": "2023-05-15T08:57:10.919791Z"
    },
    "papermill": {
     "duration": 4.457306,
     "end_time": "2023-05-15T08:57:10.921946",
     "exception": false,
     "start_time": "2023-05-15T08:57:06.464640",
     "status": "completed"
    },
    "tags": []
   },
   "outputs": [],
   "source": [
    "%%R -i dataset\n",
    "\n",
    "sce <- SingleCellExperiment(list(counts=dataset@assays@data[[\"soupX_counts\"]]),\n",
    "    colData=dataset@colData,\n",
    ")\n",
    "\n",
    "row.names(sce) <- row.names(dataset)\n",
    "\n",
    "data <- as.Seurat(sce, data = NULL)"
   ]
  },
  {
   "cell_type": "code",
   "execution_count": null,
   "id": "0b749876-ea5a-403c-8b0b-51afc8a633e3",
   "metadata": {
    "execution": {
     "iopub.execute_input": "2023-05-15T08:57:10.942803Z",
     "iopub.status.busy": "2023-05-15T08:57:10.942586Z",
     "iopub.status.idle": "2023-05-15T08:57:10.963570Z",
     "shell.execute_reply": "2023-05-15T08:57:10.963239Z"
    },
    "papermill": {
     "duration": 0.025,
     "end_time": "2023-05-15T08:57:10.964449",
     "exception": false,
     "start_time": "2023-05-15T08:57:10.939449",
     "status": "completed"
    },
    "tags": []
   },
   "outputs": [],
   "source": [
    "%%R\n",
    "data"
   ]
  },
  {
   "cell_type": "code",
   "execution_count": null,
   "id": "b6b29b0e-92c4-4d4f-b835-c5e9d7d59455",
   "metadata": {
    "execution": {
     "iopub.execute_input": "2023-05-15T08:57:10.969970Z",
     "iopub.status.busy": "2023-05-15T08:57:10.969831Z",
     "iopub.status.idle": "2023-05-15T08:57:18.526557Z",
     "shell.execute_reply": "2023-05-15T08:57:18.526080Z"
    },
    "papermill": {
     "duration": 7.561466,
     "end_time": "2023-05-15T08:57:18.528540",
     "exception": false,
     "start_time": "2023-05-15T08:57:10.967074",
     "status": "completed"
    },
    "tags": []
   },
   "outputs": [],
   "source": [
    "%%R\n",
    "\n",
    "data <- NormalizeData(data)\n",
    "data <- ScaleData(data, features = row.names(data))\n",
    "data <- FindVariableFeatures(data)\n",
    "data <- RunPCA(data, verbose = F)\n",
    "data <- FindNeighbors(data, verbose = F)\n",
    "data <- FindClusters(data, verbose = F)\n",
    "data <- RunUMAP(data, dims = 1:20, verbose = F)"
   ]
  },
  {
   "cell_type": "code",
   "execution_count": null,
   "id": "40fa5cdd-01d7-4b40-90e6-0c97545b0711",
   "metadata": {
    "execution": {
     "iopub.execute_input": "2023-05-15T08:57:18.535341Z",
     "iopub.status.busy": "2023-05-15T08:57:18.535062Z",
     "iopub.status.idle": "2023-05-15T08:57:38.868696Z",
     "shell.execute_reply": "2023-05-15T08:57:38.868324Z"
    },
    "papermill": {
     "duration": 20.338362,
     "end_time": "2023-05-15T08:57:38.869994",
     "exception": false,
     "start_time": "2023-05-15T08:57:18.531632",
     "status": "completed"
    },
    "tags": []
   },
   "outputs": [],
   "source": [
    "%%R\n",
    "\n",
    "ref1 <- celldex::BlueprintEncodeData()\n",
    "ref2 <- celldex::MonacoImmuneData()\n",
    "cell_classification <- SingleR(test = as.SingleCellExperiment(data),\n",
    "                               ref = list(BPE = ref1, MON = ref2),\n",
    "                               labels = list(ref1$label.main, ref2$label.main))\n",
    "\n",
    "data[[\"SingleR_label\"]] <- cell_classification$labels\n",
    "\n",
    "plotScoreHeatmap(cell_classification)"
   ]
  },
  {
   "cell_type": "code",
   "execution_count": null,
   "id": "6ad7cf2f-891f-4c05-b34d-e47c84bbe27b",
   "metadata": {
    "execution": {
     "iopub.execute_input": "2023-05-15T08:57:38.880278Z",
     "iopub.status.busy": "2023-05-15T08:57:38.879947Z",
     "iopub.status.idle": "2023-05-15T08:57:38.904946Z",
     "shell.execute_reply": "2023-05-15T08:57:38.904596Z"
    },
    "papermill": {
     "duration": 0.03049,
     "end_time": "2023-05-15T08:57:38.906151",
     "exception": false,
     "start_time": "2023-05-15T08:57:38.875661",
     "status": "completed"
    },
    "tags": []
   },
   "outputs": [],
   "source": [
    "%%R -i sample_name\n",
    "\n",
    "write.csv(data@meta.data, paste0(sample_name, \"_metadata.csv\"))"
   ]
  }
 ],
 "metadata": {
  "kernelspec": {
   "display_name": "py_R",
   "language": "python",
   "name": "python_r"
  },
  "language_info": {
   "codemirror_mode": {
    "name": "ipython",
    "version": 3
   },
   "file_extension": ".py",
   "mimetype": "text/x-python",
   "name": "python",
   "nbconvert_exporter": "python",
   "pygments_lexer": "ipython3",
   "version": "3.10.9"
  },
  "papermill": {
   "default_parameters": {},
   "duration": 46.064854,
   "end_time": "2023-05-15T08:57:40.130858",
   "environment_variables": {},
   "exception": null,
   "input_path": "template.ipynb",
   "output_path": "SRR13329159.ipynb",
   "parameters": {
    "sample_name": "SRR13329159"
   },
   "start_time": "2023-05-15T08:56:54.066004",
   "version": "2.3.4"
  }
 },
 "nbformat": 4,
 "nbformat_minor": 5
}
