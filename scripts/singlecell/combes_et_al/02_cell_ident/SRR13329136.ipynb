{
 "cells": [
  {
   "cell_type": "code",
   "execution_count": null,
   "id": "78a6243e-1906-4e3b-ae98-4b5bd21bd37c",
   "metadata": {
    "execution": {
     "iopub.execute_input": "2023-05-15T09:22:38.912797Z",
     "iopub.status.busy": "2023-05-15T09:22:38.912611Z",
     "iopub.status.idle": "2023-05-15T09:22:38.917291Z",
     "shell.execute_reply": "2023-05-15T09:22:38.916979Z"
    },
    "papermill": {
     "duration": 0.00864,
     "end_time": "2023-05-15T09:22:38.918171",
     "exception": false,
     "start_time": "2023-05-15T09:22:38.909531",
     "status": "completed"
    },
    "tags": [
     "parameters"
    ]
   },
   "outputs": [],
   "source": [
    "sample_name = \"SRR13329143\""
   ]
  },
  {
   "cell_type": "code",
   "execution_count": null,
   "id": "21e353f9",
   "metadata": {
    "execution": {
     "iopub.execute_input": "2023-05-15T09:22:38.921702Z",
     "iopub.status.busy": "2023-05-15T09:22:38.921584Z",
     "iopub.status.idle": "2023-05-15T09:22:38.923547Z",
     "shell.execute_reply": "2023-05-15T09:22:38.923255Z"
    },
    "papermill": {
     "duration": 0.004558,
     "end_time": "2023-05-15T09:22:38.924316",
     "exception": false,
     "start_time": "2023-05-15T09:22:38.919758",
     "status": "completed"
    },
    "tags": [
     "injected-parameters"
    ]
   },
   "outputs": [],
   "source": [
    "# Parameters\n",
    "sample_name = \"SRR13329136\"\n"
   ]
  },
  {
   "cell_type": "code",
   "execution_count": null,
   "id": "487588d5-40a0-4c35-9cd9-ee9b3e2f1d4e",
   "metadata": {
    "execution": {
     "iopub.execute_input": "2023-05-15T09:22:38.927712Z",
     "iopub.status.busy": "2023-05-15T09:22:38.927594Z",
     "iopub.status.idle": "2023-05-15T09:22:38.929791Z",
     "shell.execute_reply": "2023-05-15T09:22:38.929504Z"
    },
    "papermill": {
     "duration": 0.004758,
     "end_time": "2023-05-15T09:22:38.930546",
     "exception": false,
     "start_time": "2023-05-15T09:22:38.925788",
     "status": "completed"
    },
    "tags": []
   },
   "outputs": [],
   "source": [
    "import warnings\n",
    "warnings.simplefilter(action='ignore', category=FutureWarning)\n",
    "warnings.simplefilter(action='ignore', category=UserWarning)"
   ]
  },
  {
   "cell_type": "code",
   "execution_count": null,
   "id": "5bba6a57-54cf-4720-8653-bf94afa536ad",
   "metadata": {
    "execution": {
     "iopub.execute_input": "2023-05-15T09:22:38.933959Z",
     "iopub.status.busy": "2023-05-15T09:22:38.933840Z",
     "iopub.status.idle": "2023-05-15T09:22:43.412985Z",
     "shell.execute_reply": "2023-05-15T09:22:43.412525Z"
    },
    "papermill": {
     "duration": 4.482473,
     "end_time": "2023-05-15T09:22:43.414527",
     "exception": false,
     "start_time": "2023-05-15T09:22:38.932054",
     "status": "completed"
    },
    "tags": []
   },
   "outputs": [],
   "source": [
    "import gc\n",
    "import scanpy as sc\n",
    "import muon as mu\n",
    "import seaborn as sns\n",
    "import os\n",
    "import pandas as pd\n",
    "from matplotlib import pyplot as plt\n",
    "\n",
    "os.environ['R_HOME'] = '/gpfs/bwfor/work/ws/hd_fu399-conda/conda/envs/python_R/lib/R/'\n",
    "import anndata2ri\n",
    "import logging\n",
    "\n",
    "import rpy2.rinterface_lib.callbacks as rcb\n",
    "import rpy2.robjects as ro\n",
    "\n",
    "rcb.logger.setLevel(logging.ERROR)\n",
    "ro.pandas2ri.activate()\n",
    "anndata2ri.activate()\n",
    "\n",
    "%load_ext rpy2.ipython"
   ]
  },
  {
   "cell_type": "code",
   "execution_count": null,
   "id": "0897f8ed-b086-4ddc-a32e-6ae638ff6d14",
   "metadata": {
    "execution": {
     "iopub.execute_input": "2023-05-15T09:22:43.419917Z",
     "iopub.status.busy": "2023-05-15T09:22:43.419604Z",
     "iopub.status.idle": "2023-05-15T09:22:50.931098Z",
     "shell.execute_reply": "2023-05-15T09:22:50.930610Z"
    },
    "papermill": {
     "duration": 7.51525,
     "end_time": "2023-05-15T09:22:50.932607",
     "exception": false,
     "start_time": "2023-05-15T09:22:43.417357",
     "status": "completed"
    },
    "tags": []
   },
   "outputs": [],
   "source": [
    "%%R\n",
    "\n",
    "suppressMessages(library(SeuratDisk))\n",
    "suppressMessages(library(SingleR))\n",
    "suppressMessages(library(Seurat))\n",
    "suppressMessages(library(SingleCellExperiment))\n",
    "suppressMessages(library(UCell))"
   ]
  },
  {
   "cell_type": "code",
   "execution_count": null,
   "id": "74c6b1b1-5af7-4955-a6cc-4532fc42a266",
   "metadata": {
    "execution": {
     "iopub.execute_input": "2023-05-15T09:22:50.938988Z",
     "iopub.status.busy": "2023-05-15T09:22:50.938833Z",
     "iopub.status.idle": "2023-05-15T09:22:51.308453Z",
     "shell.execute_reply": "2023-05-15T09:22:51.307994Z"
    },
    "papermill": {
     "duration": 0.373306,
     "end_time": "2023-05-15T09:22:51.309945",
     "exception": false,
     "start_time": "2023-05-15T09:22:50.936639",
     "status": "completed"
    },
    "tags": []
   },
   "outputs": [],
   "source": [
    "dataset = sc.read(f\"../../int_data/{sample_name}_qc.h5ad\")\n",
    "dataset.X = dataset.layers[\"soupX_counts\"]"
   ]
  },
  {
   "cell_type": "code",
   "execution_count": null,
   "id": "f2520f85-0ac2-4e0d-b7f1-e5b9ce4c769d",
   "metadata": {
    "execution": {
     "iopub.execute_input": "2023-05-15T09:22:51.314541Z",
     "iopub.status.busy": "2023-05-15T09:22:51.314375Z",
     "iopub.status.idle": "2023-05-15T09:22:51.320292Z",
     "shell.execute_reply": "2023-05-15T09:22:51.319980Z"
    },
    "papermill": {
     "duration": 0.008979,
     "end_time": "2023-05-15T09:22:51.321076",
     "exception": false,
     "start_time": "2023-05-15T09:22:51.312097",
     "status": "completed"
    },
    "tags": []
   },
   "outputs": [],
   "source": [
    "dataset.obs[[\"AvgSpotLen\", \"Bases\", \"Bytes\", \"version\"]] = dataset.obs[[\"AvgSpotLen\", \"Bases\", \"Bytes\", \"version\"]].astype(\"str\")"
   ]
  },
  {
   "cell_type": "code",
   "execution_count": null,
   "id": "99f95dca-cf68-4a51-8f53-ca088aa3167b",
   "metadata": {
    "execution": {
     "iopub.execute_input": "2023-05-15T09:22:51.325000Z",
     "iopub.status.busy": "2023-05-15T09:22:51.324773Z",
     "iopub.status.idle": "2023-05-15T09:22:57.164752Z",
     "shell.execute_reply": "2023-05-15T09:22:57.164283Z"
    },
    "papermill": {
     "duration": 5.843544,
     "end_time": "2023-05-15T09:22:57.166266",
     "exception": false,
     "start_time": "2023-05-15T09:22:51.322722",
     "status": "completed"
    },
    "tags": []
   },
   "outputs": [],
   "source": [
    "%%R -i dataset\n",
    "\n",
    "sce <- SingleCellExperiment(list(counts=dataset@assays@data[[\"soupX_counts\"]]),\n",
    "    colData=dataset@colData,\n",
    ")\n",
    "\n",
    "row.names(sce) <- row.names(dataset)\n",
    "\n",
    "data <- as.Seurat(sce, data = NULL)"
   ]
  },
  {
   "cell_type": "code",
   "execution_count": null,
   "id": "0b749876-ea5a-403c-8b0b-51afc8a633e3",
   "metadata": {
    "execution": {
     "iopub.execute_input": "2023-05-15T09:22:57.171034Z",
     "iopub.status.busy": "2023-05-15T09:22:57.170885Z",
     "iopub.status.idle": "2023-05-15T09:22:57.190651Z",
     "shell.execute_reply": "2023-05-15T09:22:57.190323Z"
    },
    "papermill": {
     "duration": 0.022853,
     "end_time": "2023-05-15T09:22:57.191524",
     "exception": false,
     "start_time": "2023-05-15T09:22:57.168671",
     "status": "completed"
    },
    "tags": []
   },
   "outputs": [],
   "source": [
    "%%R\n",
    "data"
   ]
  },
  {
   "cell_type": "code",
   "execution_count": null,
   "id": "b6b29b0e-92c4-4d4f-b835-c5e9d7d59455",
   "metadata": {
    "execution": {
     "iopub.execute_input": "2023-05-15T09:22:57.197689Z",
     "iopub.status.busy": "2023-05-15T09:22:57.197553Z",
     "iopub.status.idle": "2023-05-15T09:23:06.745175Z",
     "shell.execute_reply": "2023-05-15T09:23:06.744450Z"
    },
    "papermill": {
     "duration": 9.552369,
     "end_time": "2023-05-15T09:23:06.746677",
     "exception": false,
     "start_time": "2023-05-15T09:22:57.194308",
     "status": "completed"
    },
    "tags": []
   },
   "outputs": [],
   "source": [
    "%%R\n",
    "\n",
    "data <- NormalizeData(data)\n",
    "data <- ScaleData(data, features = row.names(data))\n",
    "data <- FindVariableFeatures(data)\n",
    "data <- RunPCA(data, verbose = F)\n",
    "data <- FindNeighbors(data, verbose = F)\n",
    "data <- FindClusters(data, verbose = F)\n",
    "data <- RunUMAP(data, dims = 1:20, verbose = F)"
   ]
  },
  {
   "cell_type": "code",
   "execution_count": null,
   "id": "40fa5cdd-01d7-4b40-90e6-0c97545b0711",
   "metadata": {
    "execution": {
     "iopub.execute_input": "2023-05-15T09:23:06.754961Z",
     "iopub.status.busy": "2023-05-15T09:23:06.754785Z",
     "iopub.status.idle": "2023-05-15T09:23:30.774610Z",
     "shell.execute_reply": "2023-05-15T09:23:30.774166Z"
    },
    "papermill": {
     "duration": 24.024031,
     "end_time": "2023-05-15T09:23:30.775570",
     "exception": false,
     "start_time": "2023-05-15T09:23:06.751539",
     "status": "completed"
    },
    "tags": []
   },
   "outputs": [],
   "source": [
    "%%R\n",
    "\n",
    "ref1 <- celldex::BlueprintEncodeData()\n",
    "ref2 <- celldex::MonacoImmuneData()\n",
    "cell_classification <- SingleR(test = as.SingleCellExperiment(data),\n",
    "                               ref = list(BPE = ref1, MON = ref2),\n",
    "                               labels = list(ref1$label.main, ref2$label.main))\n",
    "\n",
    "data[[\"SingleR_label\"]] <- cell_classification$labels\n",
    "\n",
    "plotScoreHeatmap(cell_classification)"
   ]
  },
  {
   "cell_type": "code",
   "execution_count": null,
   "id": "6ad7cf2f-891f-4c05-b34d-e47c84bbe27b",
   "metadata": {
    "execution": {
     "iopub.execute_input": "2023-05-15T09:23:30.785365Z",
     "iopub.status.busy": "2023-05-15T09:23:30.785214Z",
     "iopub.status.idle": "2023-05-15T09:23:31.263147Z",
     "shell.execute_reply": "2023-05-15T09:23:31.262756Z"
    },
    "papermill": {
     "duration": 0.482811,
     "end_time": "2023-05-15T09:23:31.264221",
     "exception": false,
     "start_time": "2023-05-15T09:23:30.781410",
     "status": "completed"
    },
    "tags": []
   },
   "outputs": [],
   "source": [
    "%%R -i sample_name\n",
    "\n",
    "write.csv(data@meta.data, paste0(sample_name, \"_metadata.csv\"))"
   ]
  }
 ],
 "metadata": {
  "kernelspec": {
   "display_name": "py_R",
   "language": "python",
   "name": "python_r"
  },
  "language_info": {
   "codemirror_mode": {
    "name": "ipython",
    "version": 3
   },
   "file_extension": ".py",
   "mimetype": "text/x-python",
   "name": "python",
   "nbconvert_exporter": "python",
   "pygments_lexer": "ipython3",
   "version": "3.10.9"
  },
  "papermill": {
   "default_parameters": {},
   "duration": 54.780819,
   "end_time": "2023-05-15T09:23:32.486472",
   "environment_variables": {},
   "exception": null,
   "input_path": "template.ipynb",
   "output_path": "SRR13329136.ipynb",
   "parameters": {
    "sample_name": "SRR13329136"
   },
   "start_time": "2023-05-15T09:22:37.705653",
   "version": "2.3.4"
  }
 },
 "nbformat": 4,
 "nbformat_minor": 5
}
