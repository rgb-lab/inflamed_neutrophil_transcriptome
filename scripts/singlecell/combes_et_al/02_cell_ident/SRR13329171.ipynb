{
 "cells": [
  {
   "cell_type": "code",
   "execution_count": null,
   "id": "78a6243e-1906-4e3b-ae98-4b5bd21bd37c",
   "metadata": {
    "execution": {
     "iopub.execute_input": "2023-05-15T09:25:57.662870Z",
     "iopub.status.busy": "2023-05-15T09:25:57.662698Z",
     "iopub.status.idle": "2023-05-15T09:25:57.668289Z",
     "shell.execute_reply": "2023-05-15T09:25:57.667716Z"
    },
    "papermill": {
     "duration": 0.00951,
     "end_time": "2023-05-15T09:25:57.669265",
     "exception": false,
     "start_time": "2023-05-15T09:25:57.659755",
     "status": "completed"
    },
    "tags": [
     "parameters"
    ]
   },
   "outputs": [],
   "source": [
    "sample_name = \"SRR13329143\""
   ]
  },
  {
   "cell_type": "code",
   "execution_count": null,
   "id": "b181d969",
   "metadata": {
    "execution": {
     "iopub.execute_input": "2023-05-15T09:25:57.672890Z",
     "iopub.status.busy": "2023-05-15T09:25:57.672751Z",
     "iopub.status.idle": "2023-05-15T09:25:57.675083Z",
     "shell.execute_reply": "2023-05-15T09:25:57.674706Z"
    },
    "papermill": {
     "duration": 0.0052,
     "end_time": "2023-05-15T09:25:57.675932",
     "exception": false,
     "start_time": "2023-05-15T09:25:57.670732",
     "status": "completed"
    },
    "tags": [
     "injected-parameters"
    ]
   },
   "outputs": [],
   "source": [
    "# Parameters\n",
    "sample_name = \"SRR13329171\"\n"
   ]
  },
  {
   "cell_type": "code",
   "execution_count": null,
   "id": "487588d5-40a0-4c35-9cd9-ee9b3e2f1d4e",
   "metadata": {
    "execution": {
     "iopub.execute_input": "2023-05-15T09:25:57.679217Z",
     "iopub.status.busy": "2023-05-15T09:25:57.679087Z",
     "iopub.status.idle": "2023-05-15T09:25:57.681568Z",
     "shell.execute_reply": "2023-05-15T09:25:57.681195Z"
    },
    "papermill": {
     "duration": 0.005087,
     "end_time": "2023-05-15T09:25:57.682412",
     "exception": false,
     "start_time": "2023-05-15T09:25:57.677325",
     "status": "completed"
    },
    "tags": []
   },
   "outputs": [],
   "source": [
    "import warnings\n",
    "warnings.simplefilter(action='ignore', category=FutureWarning)\n",
    "warnings.simplefilter(action='ignore', category=UserWarning)"
   ]
  },
  {
   "cell_type": "code",
   "execution_count": null,
   "id": "5bba6a57-54cf-4720-8653-bf94afa536ad",
   "metadata": {
    "execution": {
     "iopub.execute_input": "2023-05-15T09:25:57.686016Z",
     "iopub.status.busy": "2023-05-15T09:25:57.685674Z",
     "iopub.status.idle": "2023-05-15T09:26:01.994916Z",
     "shell.execute_reply": "2023-05-15T09:26:01.994479Z"
    },
    "papermill": {
     "duration": 4.312658,
     "end_time": "2023-05-15T09:26:01.996429",
     "exception": false,
     "start_time": "2023-05-15T09:25:57.683771",
     "status": "completed"
    },
    "tags": []
   },
   "outputs": [],
   "source": [
    "import gc\n",
    "import scanpy as sc\n",
    "import muon as mu\n",
    "import seaborn as sns\n",
    "import os\n",
    "import pandas as pd\n",
    "from matplotlib import pyplot as plt\n",
    "\n",
    "os.environ['R_HOME'] = '/gpfs/bwfor/work/ws/hd_fu399-conda/conda/envs/python_R/lib/R/'\n",
    "import anndata2ri\n",
    "import logging\n",
    "\n",
    "import rpy2.rinterface_lib.callbacks as rcb\n",
    "import rpy2.robjects as ro\n",
    "\n",
    "rcb.logger.setLevel(logging.ERROR)\n",
    "ro.pandas2ri.activate()\n",
    "anndata2ri.activate()\n",
    "\n",
    "%load_ext rpy2.ipython"
   ]
  },
  {
   "cell_type": "code",
   "execution_count": null,
   "id": "0897f8ed-b086-4ddc-a32e-6ae638ff6d14",
   "metadata": {
    "execution": {
     "iopub.execute_input": "2023-05-15T09:26:02.001141Z",
     "iopub.status.busy": "2023-05-15T09:26:02.000827Z",
     "iopub.status.idle": "2023-05-15T09:26:09.054428Z",
     "shell.execute_reply": "2023-05-15T09:26:09.053841Z"
    },
    "papermill": {
     "duration": 7.057035,
     "end_time": "2023-05-15T09:26:09.055749",
     "exception": false,
     "start_time": "2023-05-15T09:26:01.998714",
     "status": "completed"
    },
    "tags": []
   },
   "outputs": [],
   "source": [
    "%%R\n",
    "\n",
    "suppressMessages(library(SeuratDisk))\n",
    "suppressMessages(library(SingleR))\n",
    "suppressMessages(library(Seurat))\n",
    "suppressMessages(library(SingleCellExperiment))\n",
    "suppressMessages(library(UCell))"
   ]
  },
  {
   "cell_type": "code",
   "execution_count": null,
   "id": "74c6b1b1-5af7-4955-a6cc-4532fc42a266",
   "metadata": {
    "execution": {
     "iopub.execute_input": "2023-05-15T09:26:09.062414Z",
     "iopub.status.busy": "2023-05-15T09:26:09.062233Z",
     "iopub.status.idle": "2023-05-15T09:26:09.471422Z",
     "shell.execute_reply": "2023-05-15T09:26:09.471000Z"
    },
    "papermill": {
     "duration": 0.412995,
     "end_time": "2023-05-15T09:26:09.472921",
     "exception": false,
     "start_time": "2023-05-15T09:26:09.059926",
     "status": "completed"
    },
    "tags": []
   },
   "outputs": [],
   "source": [
    "dataset = sc.read(f\"../../int_data/{sample_name}_qc.h5ad\")\n",
    "dataset.X = dataset.layers[\"soupX_counts\"]"
   ]
  },
  {
   "cell_type": "code",
   "execution_count": null,
   "id": "f2520f85-0ac2-4e0d-b7f1-e5b9ce4c769d",
   "metadata": {
    "execution": {
     "iopub.execute_input": "2023-05-15T09:26:09.477415Z",
     "iopub.status.busy": "2023-05-15T09:26:09.477267Z",
     "iopub.status.idle": "2023-05-15T09:26:09.484621Z",
     "shell.execute_reply": "2023-05-15T09:26:09.484283Z"
    },
    "papermill": {
     "duration": 0.010346,
     "end_time": "2023-05-15T09:26:09.485434",
     "exception": false,
     "start_time": "2023-05-15T09:26:09.475088",
     "status": "completed"
    },
    "tags": []
   },
   "outputs": [],
   "source": [
    "dataset.obs[[\"AvgSpotLen\", \"Bases\", \"Bytes\", \"version\"]] = dataset.obs[[\"AvgSpotLen\", \"Bases\", \"Bytes\", \"version\"]].astype(\"str\")"
   ]
  },
  {
   "cell_type": "code",
   "execution_count": null,
   "id": "99f95dca-cf68-4a51-8f53-ca088aa3167b",
   "metadata": {
    "execution": {
     "iopub.execute_input": "2023-05-15T09:26:09.489204Z",
     "iopub.status.busy": "2023-05-15T09:26:09.488922Z",
     "iopub.status.idle": "2023-05-15T09:26:16.183785Z",
     "shell.execute_reply": "2023-05-15T09:26:16.183346Z"
    },
    "papermill": {
     "duration": 6.698308,
     "end_time": "2023-05-15T09:26:16.185226",
     "exception": false,
     "start_time": "2023-05-15T09:26:09.486918",
     "status": "completed"
    },
    "tags": []
   },
   "outputs": [],
   "source": [
    "%%R -i dataset\n",
    "\n",
    "sce <- SingleCellExperiment(list(counts=dataset@assays@data[[\"soupX_counts\"]]),\n",
    "    colData=dataset@colData,\n",
    ")\n",
    "\n",
    "row.names(sce) <- row.names(dataset)\n",
    "\n",
    "data <- as.Seurat(sce, data = NULL)"
   ]
  },
  {
   "cell_type": "code",
   "execution_count": null,
   "id": "0b749876-ea5a-403c-8b0b-51afc8a633e3",
   "metadata": {
    "execution": {
     "iopub.execute_input": "2023-05-15T09:26:16.205785Z",
     "iopub.status.busy": "2023-05-15T09:26:16.205419Z",
     "iopub.status.idle": "2023-05-15T09:26:16.225665Z",
     "shell.execute_reply": "2023-05-15T09:26:16.225311Z"
    },
    "papermill": {
     "duration": 0.023308,
     "end_time": "2023-05-15T09:26:16.226463",
     "exception": false,
     "start_time": "2023-05-15T09:26:16.203155",
     "status": "completed"
    },
    "tags": []
   },
   "outputs": [],
   "source": [
    "%%R\n",
    "data"
   ]
  },
  {
   "cell_type": "code",
   "execution_count": null,
   "id": "b6b29b0e-92c4-4d4f-b835-c5e9d7d59455",
   "metadata": {
    "execution": {
     "iopub.execute_input": "2023-05-15T09:26:16.231823Z",
     "iopub.status.busy": "2023-05-15T09:26:16.231567Z",
     "iopub.status.idle": "2023-05-15T09:26:28.850553Z",
     "shell.execute_reply": "2023-05-15T09:26:28.850048Z"
    },
    "papermill": {
     "duration": 12.623233,
     "end_time": "2023-05-15T09:26:28.852066",
     "exception": false,
     "start_time": "2023-05-15T09:26:16.228833",
     "status": "completed"
    },
    "tags": []
   },
   "outputs": [],
   "source": [
    "%%R\n",
    "\n",
    "data <- NormalizeData(data)\n",
    "data <- ScaleData(data, features = row.names(data))\n",
    "data <- FindVariableFeatures(data)\n",
    "data <- RunPCA(data, verbose = F)\n",
    "data <- FindNeighbors(data, verbose = F)\n",
    "data <- FindClusters(data, verbose = F)\n",
    "data <- RunUMAP(data, dims = 1:20, verbose = F)"
   ]
  },
  {
   "cell_type": "code",
   "execution_count": null,
   "id": "40fa5cdd-01d7-4b40-90e6-0c97545b0711",
   "metadata": {
    "execution": {
     "iopub.execute_input": "2023-05-15T09:26:28.860221Z",
     "iopub.status.busy": "2023-05-15T09:26:28.860038Z",
     "iopub.status.idle": "2023-05-15T09:26:55.745460Z",
     "shell.execute_reply": "2023-05-15T09:26:55.744918Z"
    },
    "papermill": {
     "duration": 26.889613,
     "end_time": "2023-05-15T09:26:55.746444",
     "exception": false,
     "start_time": "2023-05-15T09:26:28.856831",
     "status": "completed"
    },
    "tags": []
   },
   "outputs": [],
   "source": [
    "%%R\n",
    "\n",
    "ref1 <- celldex::BlueprintEncodeData()\n",
    "ref2 <- celldex::MonacoImmuneData()\n",
    "cell_classification <- SingleR(test = as.SingleCellExperiment(data),\n",
    "                               ref = list(BPE = ref1, MON = ref2),\n",
    "                               labels = list(ref1$label.main, ref2$label.main))\n",
    "\n",
    "data[[\"SingleR_label\"]] <- cell_classification$labels\n",
    "\n",
    "plotScoreHeatmap(cell_classification)"
   ]
  },
  {
   "cell_type": "code",
   "execution_count": null,
   "id": "6ad7cf2f-891f-4c05-b34d-e47c84bbe27b",
   "metadata": {
    "execution": {
     "iopub.execute_input": "2023-05-15T09:26:55.756265Z",
     "iopub.status.busy": "2023-05-15T09:26:55.755882Z",
     "iopub.status.idle": "2023-05-15T09:26:56.246589Z",
     "shell.execute_reply": "2023-05-15T09:26:56.246170Z"
    },
    "papermill": {
     "duration": 0.495547,
     "end_time": "2023-05-15T09:26:56.247644",
     "exception": false,
     "start_time": "2023-05-15T09:26:55.752097",
     "status": "completed"
    },
    "tags": []
   },
   "outputs": [],
   "source": [
    "%%R -i sample_name\n",
    "\n",
    "write.csv(data@meta.data, paste0(sample_name, \"_metadata.csv\"))"
   ]
  }
 ],
 "metadata": {
  "kernelspec": {
   "display_name": "py_R",
   "language": "python",
   "name": "python_r"
  },
  "language_info": {
   "codemirror_mode": {
    "name": "ipython",
    "version": 3
   },
   "file_extension": ".py",
   "mimetype": "text/x-python",
   "name": "python",
   "nbconvert_exporter": "python",
   "pygments_lexer": "ipython3",
   "version": "3.10.9"
  },
  "papermill": {
   "default_parameters": {},
   "duration": 60.940203,
   "end_time": "2023-05-15T09:26:57.570145",
   "environment_variables": {},
   "exception": null,
   "input_path": "template.ipynb",
   "output_path": "SRR13329171.ipynb",
   "parameters": {
    "sample_name": "SRR13329171"
   },
   "start_time": "2023-05-15T09:25:56.629942",
   "version": "2.3.4"
  }
 },
 "nbformat": 4,
 "nbformat_minor": 5
}
