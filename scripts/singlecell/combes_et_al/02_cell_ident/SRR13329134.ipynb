{
 "cells": [
  {
   "cell_type": "code",
   "execution_count": null,
   "id": "78a6243e-1906-4e3b-ae98-4b5bd21bd37c",
   "metadata": {
    "execution": {
     "iopub.execute_input": "2023-05-15T08:45:10.993527Z",
     "iopub.status.busy": "2023-05-15T08:45:10.993276Z",
     "iopub.status.idle": "2023-05-15T08:45:10.997734Z",
     "shell.execute_reply": "2023-05-15T08:45:10.997402Z"
    },
    "papermill": {
     "duration": 0.007702,
     "end_time": "2023-05-15T08:45:10.998637",
     "exception": false,
     "start_time": "2023-05-15T08:45:10.990935",
     "status": "completed"
    },
    "tags": [
     "parameters"
    ]
   },
   "outputs": [],
   "source": [
    "sample_name = \"SRR13329143\""
   ]
  },
  {
   "cell_type": "code",
   "execution_count": null,
   "id": "f89c1565",
   "metadata": {
    "execution": {
     "iopub.execute_input": "2023-05-15T08:45:11.002350Z",
     "iopub.status.busy": "2023-05-15T08:45:11.002093Z",
     "iopub.status.idle": "2023-05-15T08:45:11.004522Z",
     "shell.execute_reply": "2023-05-15T08:45:11.004231Z"
    },
    "papermill": {
     "duration": 0.005055,
     "end_time": "2023-05-15T08:45:11.005290",
     "exception": false,
     "start_time": "2023-05-15T08:45:11.000235",
     "status": "completed"
    },
    "tags": [
     "injected-parameters"
    ]
   },
   "outputs": [],
   "source": [
    "# Parameters\n",
    "sample_name = \"SRR13329134\"\n"
   ]
  },
  {
   "cell_type": "code",
   "execution_count": null,
   "id": "487588d5-40a0-4c35-9cd9-ee9b3e2f1d4e",
   "metadata": {
    "execution": {
     "iopub.execute_input": "2023-05-15T08:45:11.008772Z",
     "iopub.status.busy": "2023-05-15T08:45:11.008525Z",
     "iopub.status.idle": "2023-05-15T08:45:11.010674Z",
     "shell.execute_reply": "2023-05-15T08:45:11.010373Z"
    },
    "papermill": {
     "duration": 0.004767,
     "end_time": "2023-05-15T08:45:11.011458",
     "exception": false,
     "start_time": "2023-05-15T08:45:11.006691",
     "status": "completed"
    },
    "tags": []
   },
   "outputs": [],
   "source": [
    "import warnings\n",
    "warnings.simplefilter(action='ignore', category=FutureWarning)\n",
    "warnings.simplefilter(action='ignore', category=UserWarning)"
   ]
  },
  {
   "cell_type": "code",
   "execution_count": null,
   "id": "5bba6a57-54cf-4720-8653-bf94afa536ad",
   "metadata": {
    "execution": {
     "iopub.execute_input": "2023-05-15T08:45:11.014901Z",
     "iopub.status.busy": "2023-05-15T08:45:11.014748Z",
     "iopub.status.idle": "2023-05-15T08:45:16.016888Z",
     "shell.execute_reply": "2023-05-15T08:45:16.016337Z"
    },
    "papermill": {
     "duration": 5.005693,
     "end_time": "2023-05-15T08:45:16.018602",
     "exception": false,
     "start_time": "2023-05-15T08:45:11.012909",
     "status": "completed"
    },
    "tags": []
   },
   "outputs": [],
   "source": [
    "import gc\n",
    "import scanpy as sc\n",
    "import muon as mu\n",
    "import seaborn as sns\n",
    "import os\n",
    "import pandas as pd\n",
    "from matplotlib import pyplot as plt\n",
    "\n",
    "os.environ['R_HOME'] = '/gpfs/bwfor/work/ws/hd_fu399-conda/conda/envs/python_R/lib/R/'\n",
    "import anndata2ri\n",
    "import logging\n",
    "\n",
    "import rpy2.rinterface_lib.callbacks as rcb\n",
    "import rpy2.robjects as ro\n",
    "\n",
    "rcb.logger.setLevel(logging.ERROR)\n",
    "ro.pandas2ri.activate()\n",
    "anndata2ri.activate()\n",
    "\n",
    "%load_ext rpy2.ipython"
   ]
  },
  {
   "cell_type": "code",
   "execution_count": null,
   "id": "0897f8ed-b086-4ddc-a32e-6ae638ff6d14",
   "metadata": {
    "execution": {
     "iopub.execute_input": "2023-05-15T08:45:16.028218Z",
     "iopub.status.busy": "2023-05-15T08:45:16.027948Z",
     "iopub.status.idle": "2023-05-15T08:45:25.045645Z",
     "shell.execute_reply": "2023-05-15T08:45:25.045082Z"
    },
    "papermill": {
     "duration": 9.022182,
     "end_time": "2023-05-15T08:45:25.047088",
     "exception": false,
     "start_time": "2023-05-15T08:45:16.024906",
     "status": "completed"
    },
    "tags": []
   },
   "outputs": [],
   "source": [
    "%%R\n",
    "\n",
    "suppressMessages(library(SeuratDisk))\n",
    "suppressMessages(library(SingleR))\n",
    "suppressMessages(library(Seurat))\n",
    "suppressMessages(library(SingleCellExperiment))\n",
    "suppressMessages(library(UCell))"
   ]
  },
  {
   "cell_type": "code",
   "execution_count": null,
   "id": "74c6b1b1-5af7-4955-a6cc-4532fc42a266",
   "metadata": {
    "execution": {
     "iopub.execute_input": "2023-05-15T08:45:25.055140Z",
     "iopub.status.busy": "2023-05-15T08:45:25.054987Z",
     "iopub.status.idle": "2023-05-15T08:45:25.378576Z",
     "shell.execute_reply": "2023-05-15T08:45:25.378166Z"
    },
    "papermill": {
     "duration": 0.327571,
     "end_time": "2023-05-15T08:45:25.379882",
     "exception": false,
     "start_time": "2023-05-15T08:45:25.052311",
     "status": "completed"
    },
    "tags": []
   },
   "outputs": [],
   "source": [
    "dataset = sc.read(f\"../../int_data/{sample_name}_qc.h5ad\")\n",
    "dataset.X = dataset.layers[\"soupX_counts\"]"
   ]
  },
  {
   "cell_type": "code",
   "execution_count": null,
   "id": "f2520f85-0ac2-4e0d-b7f1-e5b9ce4c769d",
   "metadata": {
    "execution": {
     "iopub.execute_input": "2023-05-15T08:45:25.384411Z",
     "iopub.status.busy": "2023-05-15T08:45:25.384244Z",
     "iopub.status.idle": "2023-05-15T08:45:25.392589Z",
     "shell.execute_reply": "2023-05-15T08:45:25.392272Z"
    },
    "papermill": {
     "duration": 0.011504,
     "end_time": "2023-05-15T08:45:25.393420",
     "exception": false,
     "start_time": "2023-05-15T08:45:25.381916",
     "status": "completed"
    },
    "tags": []
   },
   "outputs": [],
   "source": [
    "dataset.obs[[\"AvgSpotLen\", \"Bases\", \"Bytes\", \"version\"]] = dataset.obs[[\"AvgSpotLen\", \"Bases\", \"Bytes\", \"version\"]].astype(\"str\")"
   ]
  },
  {
   "cell_type": "code",
   "execution_count": null,
   "id": "99f95dca-cf68-4a51-8f53-ca088aa3167b",
   "metadata": {
    "execution": {
     "iopub.execute_input": "2023-05-15T08:45:25.397809Z",
     "iopub.status.busy": "2023-05-15T08:45:25.397520Z",
     "iopub.status.idle": "2023-05-15T08:45:31.958495Z",
     "shell.execute_reply": "2023-05-15T08:45:31.957996Z"
    },
    "papermill": {
     "duration": 6.564843,
     "end_time": "2023-05-15T08:45:31.960108",
     "exception": false,
     "start_time": "2023-05-15T08:45:25.395265",
     "status": "completed"
    },
    "tags": []
   },
   "outputs": [],
   "source": [
    "%%R -i dataset\n",
    "\n",
    "sce <- SingleCellExperiment(list(counts=dataset@assays@data[[\"soupX_counts\"]]),\n",
    "    colData=dataset@colData,\n",
    ")\n",
    "\n",
    "row.names(sce) <- row.names(dataset)\n",
    "\n",
    "data <- as.Seurat(sce, data = NULL)"
   ]
  },
  {
   "cell_type": "code",
   "execution_count": null,
   "id": "0b749876-ea5a-403c-8b0b-51afc8a633e3",
   "metadata": {
    "execution": {
     "iopub.execute_input": "2023-05-15T08:45:31.968497Z",
     "iopub.status.busy": "2023-05-15T08:45:31.968348Z",
     "iopub.status.idle": "2023-05-15T08:45:31.987790Z",
     "shell.execute_reply": "2023-05-15T08:45:31.987460Z"
    },
    "papermill": {
     "duration": 0.023154,
     "end_time": "2023-05-15T08:45:31.988781",
     "exception": false,
     "start_time": "2023-05-15T08:45:31.965627",
     "status": "completed"
    },
    "tags": []
   },
   "outputs": [],
   "source": [
    "%%R\n",
    "data"
   ]
  },
  {
   "cell_type": "code",
   "execution_count": null,
   "id": "b6b29b0e-92c4-4d4f-b835-c5e9d7d59455",
   "metadata": {
    "execution": {
     "iopub.execute_input": "2023-05-15T08:45:31.994369Z",
     "iopub.status.busy": "2023-05-15T08:45:31.994232Z",
     "iopub.status.idle": "2023-05-15T08:45:48.291006Z",
     "shell.execute_reply": "2023-05-15T08:45:48.290367Z"
    },
    "papermill": {
     "duration": 16.301439,
     "end_time": "2023-05-15T08:45:48.292768",
     "exception": false,
     "start_time": "2023-05-15T08:45:31.991329",
     "status": "completed"
    },
    "tags": []
   },
   "outputs": [],
   "source": [
    "%%R\n",
    "\n",
    "data <- NormalizeData(data)\n",
    "data <- ScaleData(data, features = row.names(data))\n",
    "data <- FindVariableFeatures(data)\n",
    "data <- RunPCA(data, verbose = F)\n",
    "data <- FindNeighbors(data, verbose = F)\n",
    "data <- FindClusters(data, verbose = F)\n",
    "data <- RunUMAP(data, dims = 1:20, verbose = F)"
   ]
  },
  {
   "cell_type": "code",
   "execution_count": null,
   "id": "40fa5cdd-01d7-4b40-90e6-0c97545b0711",
   "metadata": {
    "execution": {
     "iopub.execute_input": "2023-05-15T08:45:48.302998Z",
     "iopub.status.busy": "2023-05-15T08:45:48.302843Z",
     "iopub.status.idle": "2023-05-15T08:46:16.458250Z",
     "shell.execute_reply": "2023-05-15T08:46:16.457801Z"
    },
    "papermill": {
     "duration": 28.16022,
     "end_time": "2023-05-15T08:46:16.459526",
     "exception": false,
     "start_time": "2023-05-15T08:45:48.299306",
     "status": "completed"
    },
    "tags": []
   },
   "outputs": [],
   "source": [
    "%%R\n",
    "\n",
    "ref1 <- celldex::BlueprintEncodeData()\n",
    "ref2 <- celldex::MonacoImmuneData()\n",
    "cell_classification <- SingleR(test = as.SingleCellExperiment(data),\n",
    "                               ref = list(BPE = ref1, MON = ref2),\n",
    "                               labels = list(ref1$label.main, ref2$label.main))\n",
    "\n",
    "data[[\"SingleR_label\"]] <- cell_classification$labels\n",
    "\n",
    "plotScoreHeatmap(cell_classification)"
   ]
  },
  {
   "cell_type": "code",
   "execution_count": null,
   "id": "6ad7cf2f-891f-4c05-b34d-e47c84bbe27b",
   "metadata": {
    "execution": {
     "iopub.execute_input": "2023-05-15T08:46:16.470695Z",
     "iopub.status.busy": "2023-05-15T08:46:16.470543Z",
     "iopub.status.idle": "2023-05-15T08:46:16.539875Z",
     "shell.execute_reply": "2023-05-15T08:46:16.539496Z"
    },
    "papermill": {
     "duration": 0.074897,
     "end_time": "2023-05-15T08:46:16.541325",
     "exception": false,
     "start_time": "2023-05-15T08:46:16.466428",
     "status": "completed"
    },
    "tags": []
   },
   "outputs": [],
   "source": [
    "%%R -i sample_name\n",
    "\n",
    "write.csv(data@meta.data, paste0(sample_name, \"_metadata.csv\"))"
   ]
  }
 ],
 "metadata": {
  "kernelspec": {
   "display_name": "py_R",
   "language": "python",
   "name": "python_r"
  },
  "language_info": {
   "codemirror_mode": {
    "name": "ipython",
    "version": 3
   },
   "file_extension": ".py",
   "mimetype": "text/x-python",
   "name": "python",
   "nbconvert_exporter": "python",
   "pygments_lexer": "ipython3",
   "version": "3.10.9"
  },
  "papermill": {
   "default_parameters": {},
   "duration": 68.363292,
   "end_time": "2023-05-15T08:46:17.862724",
   "environment_variables": {},
   "exception": null,
   "input_path": "template.ipynb",
   "output_path": "SRR13329134.ipynb",
   "parameters": {
    "sample_name": "SRR13329134"
   },
   "start_time": "2023-05-15T08:45:09.499432",
   "version": "2.3.4"
  }
 },
 "nbformat": 4,
 "nbformat_minor": 5
}
