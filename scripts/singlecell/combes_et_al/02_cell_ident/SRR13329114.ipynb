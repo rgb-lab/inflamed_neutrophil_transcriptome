{
 "cells": [
  {
   "cell_type": "code",
   "execution_count": null,
   "id": "78a6243e-1906-4e3b-ae98-4b5bd21bd37c",
   "metadata": {
    "execution": {
     "iopub.execute_input": "2023-05-15T09:03:02.390207Z",
     "iopub.status.busy": "2023-05-15T09:03:02.390033Z",
     "iopub.status.idle": "2023-05-15T09:03:02.394758Z",
     "shell.execute_reply": "2023-05-15T09:03:02.394438Z"
    },
    "papermill": {
     "duration": 0.008543,
     "end_time": "2023-05-15T09:03:02.395584",
     "exception": false,
     "start_time": "2023-05-15T09:03:02.387041",
     "status": "completed"
    },
    "tags": [
     "parameters"
    ]
   },
   "outputs": [],
   "source": [
    "sample_name = \"SRR13329143\""
   ]
  },
  {
   "cell_type": "code",
   "execution_count": null,
   "id": "ccf5e974",
   "metadata": {
    "execution": {
     "iopub.execute_input": "2023-05-15T09:03:02.399238Z",
     "iopub.status.busy": "2023-05-15T09:03:02.399075Z",
     "iopub.status.idle": "2023-05-15T09:03:02.403798Z",
     "shell.execute_reply": "2023-05-15T09:03:02.403478Z"
    },
    "papermill": {
     "duration": 0.007369,
     "end_time": "2023-05-15T09:03:02.404577",
     "exception": false,
     "start_time": "2023-05-15T09:03:02.397208",
     "status": "completed"
    },
    "tags": [
     "injected-parameters"
    ]
   },
   "outputs": [],
   "source": [
    "# Parameters\n",
    "sample_name = \"SRR13329114\"\n"
   ]
  },
  {
   "cell_type": "code",
   "execution_count": null,
   "id": "487588d5-40a0-4c35-9cd9-ee9b3e2f1d4e",
   "metadata": {
    "execution": {
     "iopub.execute_input": "2023-05-15T09:03:02.408092Z",
     "iopub.status.busy": "2023-05-15T09:03:02.407932Z",
     "iopub.status.idle": "2023-05-15T09:03:02.410769Z",
     "shell.execute_reply": "2023-05-15T09:03:02.410469Z"
    },
    "papermill": {
     "duration": 0.005473,
     "end_time": "2023-05-15T09:03:02.411538",
     "exception": false,
     "start_time": "2023-05-15T09:03:02.406065",
     "status": "completed"
    },
    "tags": []
   },
   "outputs": [],
   "source": [
    "import warnings\n",
    "warnings.simplefilter(action='ignore', category=FutureWarning)\n",
    "warnings.simplefilter(action='ignore', category=UserWarning)"
   ]
  },
  {
   "cell_type": "code",
   "execution_count": null,
   "id": "5bba6a57-54cf-4720-8653-bf94afa536ad",
   "metadata": {
    "execution": {
     "iopub.execute_input": "2023-05-15T09:03:02.415035Z",
     "iopub.status.busy": "2023-05-15T09:03:02.414887Z",
     "iopub.status.idle": "2023-05-15T09:03:06.728434Z",
     "shell.execute_reply": "2023-05-15T09:03:06.727986Z"
    },
    "papermill": {
     "duration": 4.316888,
     "end_time": "2023-05-15T09:03:06.729916",
     "exception": false,
     "start_time": "2023-05-15T09:03:02.413028",
     "status": "completed"
    },
    "tags": []
   },
   "outputs": [],
   "source": [
    "import gc\n",
    "import scanpy as sc\n",
    "import muon as mu\n",
    "import seaborn as sns\n",
    "import os\n",
    "import pandas as pd\n",
    "from matplotlib import pyplot as plt\n",
    "\n",
    "os.environ['R_HOME'] = '/gpfs/bwfor/work/ws/hd_fu399-conda/conda/envs/python_R/lib/R/'\n",
    "import anndata2ri\n",
    "import logging\n",
    "\n",
    "import rpy2.rinterface_lib.callbacks as rcb\n",
    "import rpy2.robjects as ro\n",
    "\n",
    "rcb.logger.setLevel(logging.ERROR)\n",
    "ro.pandas2ri.activate()\n",
    "anndata2ri.activate()\n",
    "\n",
    "%load_ext rpy2.ipython"
   ]
  },
  {
   "cell_type": "code",
   "execution_count": null,
   "id": "0897f8ed-b086-4ddc-a32e-6ae638ff6d14",
   "metadata": {
    "execution": {
     "iopub.execute_input": "2023-05-15T09:03:06.734605Z",
     "iopub.status.busy": "2023-05-15T09:03:06.734309Z",
     "iopub.status.idle": "2023-05-15T09:03:13.733697Z",
     "shell.execute_reply": "2023-05-15T09:03:13.733125Z"
    },
    "papermill": {
     "duration": 7.002926,
     "end_time": "2023-05-15T09:03:13.735117",
     "exception": false,
     "start_time": "2023-05-15T09:03:06.732191",
     "status": "completed"
    },
    "tags": []
   },
   "outputs": [],
   "source": [
    "%%R\n",
    "\n",
    "suppressMessages(library(SeuratDisk))\n",
    "suppressMessages(library(SingleR))\n",
    "suppressMessages(library(Seurat))\n",
    "suppressMessages(library(SingleCellExperiment))\n",
    "suppressMessages(library(UCell))"
   ]
  },
  {
   "cell_type": "code",
   "execution_count": null,
   "id": "74c6b1b1-5af7-4955-a6cc-4532fc42a266",
   "metadata": {
    "execution": {
     "iopub.execute_input": "2023-05-15T09:03:13.739847Z",
     "iopub.status.busy": "2023-05-15T09:03:13.739523Z",
     "iopub.status.idle": "2023-05-15T09:03:13.866137Z",
     "shell.execute_reply": "2023-05-15T09:03:13.865679Z"
    },
    "papermill": {
     "duration": 0.130228,
     "end_time": "2023-05-15T09:03:13.867554",
     "exception": false,
     "start_time": "2023-05-15T09:03:13.737326",
     "status": "completed"
    },
    "tags": []
   },
   "outputs": [],
   "source": [
    "dataset = sc.read(f\"../../int_data/{sample_name}_qc.h5ad\")\n",
    "dataset.X = dataset.layers[\"soupX_counts\"]"
   ]
  },
  {
   "cell_type": "code",
   "execution_count": null,
   "id": "f2520f85-0ac2-4e0d-b7f1-e5b9ce4c769d",
   "metadata": {
    "execution": {
     "iopub.execute_input": "2023-05-15T09:03:13.871877Z",
     "iopub.status.busy": "2023-05-15T09:03:13.871632Z",
     "iopub.status.idle": "2023-05-15T09:03:13.877145Z",
     "shell.execute_reply": "2023-05-15T09:03:13.876821Z"
    },
    "papermill": {
     "duration": 0.008382,
     "end_time": "2023-05-15T09:03:13.877926",
     "exception": false,
     "start_time": "2023-05-15T09:03:13.869544",
     "status": "completed"
    },
    "tags": []
   },
   "outputs": [],
   "source": [
    "dataset.obs[[\"AvgSpotLen\", \"Bases\", \"Bytes\", \"version\"]] = dataset.obs[[\"AvgSpotLen\", \"Bases\", \"Bytes\", \"version\"]].astype(\"str\")"
   ]
  },
  {
   "cell_type": "code",
   "execution_count": null,
   "id": "99f95dca-cf68-4a51-8f53-ca088aa3167b",
   "metadata": {
    "execution": {
     "iopub.execute_input": "2023-05-15T09:03:13.881796Z",
     "iopub.status.busy": "2023-05-15T09:03:13.881616Z",
     "iopub.status.idle": "2023-05-15T09:03:18.265905Z",
     "shell.execute_reply": "2023-05-15T09:03:18.265442Z"
    },
    "papermill": {
     "duration": 4.387782,
     "end_time": "2023-05-15T09:03:18.267346",
     "exception": false,
     "start_time": "2023-05-15T09:03:13.879564",
     "status": "completed"
    },
    "tags": []
   },
   "outputs": [],
   "source": [
    "%%R -i dataset\n",
    "\n",
    "sce <- SingleCellExperiment(list(counts=dataset@assays@data[[\"soupX_counts\"]]),\n",
    "    colData=dataset@colData,\n",
    ")\n",
    "\n",
    "row.names(sce) <- row.names(dataset)\n",
    "\n",
    "data <- as.Seurat(sce, data = NULL)"
   ]
  },
  {
   "cell_type": "code",
   "execution_count": null,
   "id": "0b749876-ea5a-403c-8b0b-51afc8a633e3",
   "metadata": {
    "execution": {
     "iopub.execute_input": "2023-05-15T09:03:18.272156Z",
     "iopub.status.busy": "2023-05-15T09:03:18.271959Z",
     "iopub.status.idle": "2023-05-15T09:03:18.291691Z",
     "shell.execute_reply": "2023-05-15T09:03:18.291346Z"
    },
    "papermill": {
     "duration": 0.022686,
     "end_time": "2023-05-15T09:03:18.292431",
     "exception": false,
     "start_time": "2023-05-15T09:03:18.269745",
     "status": "completed"
    },
    "tags": []
   },
   "outputs": [],
   "source": [
    "%%R\n",
    "data"
   ]
  },
  {
   "cell_type": "code",
   "execution_count": null,
   "id": "b6b29b0e-92c4-4d4f-b835-c5e9d7d59455",
   "metadata": {
    "execution": {
     "iopub.execute_input": "2023-05-15T09:03:18.297726Z",
     "iopub.status.busy": "2023-05-15T09:03:18.297570Z",
     "iopub.status.idle": "2023-05-15T09:03:26.489683Z",
     "shell.execute_reply": "2023-05-15T09:03:26.489167Z"
    },
    "papermill": {
     "duration": 8.196315,
     "end_time": "2023-05-15T09:03:26.491137",
     "exception": false,
     "start_time": "2023-05-15T09:03:18.294822",
     "status": "completed"
    },
    "tags": []
   },
   "outputs": [],
   "source": [
    "%%R\n",
    "\n",
    "data <- NormalizeData(data)\n",
    "data <- ScaleData(data, features = row.names(data))\n",
    "data <- FindVariableFeatures(data)\n",
    "data <- RunPCA(data, verbose = F)\n",
    "data <- FindNeighbors(data, verbose = F)\n",
    "data <- FindClusters(data, verbose = F)\n",
    "data <- RunUMAP(data, dims = 1:20, verbose = F)"
   ]
  },
  {
   "cell_type": "code",
   "execution_count": null,
   "id": "40fa5cdd-01d7-4b40-90e6-0c97545b0711",
   "metadata": {
    "execution": {
     "iopub.execute_input": "2023-05-15T09:03:26.500338Z",
     "iopub.status.busy": "2023-05-15T09:03:26.500110Z",
     "iopub.status.idle": "2023-05-15T09:03:42.365111Z",
     "shell.execute_reply": "2023-05-15T09:03:42.364725Z"
    },
    "papermill": {
     "duration": 15.869219,
     "end_time": "2023-05-15T09:03:42.366030",
     "exception": false,
     "start_time": "2023-05-15T09:03:26.496811",
     "status": "completed"
    },
    "tags": []
   },
   "outputs": [],
   "source": [
    "%%R\n",
    "\n",
    "ref1 <- celldex::BlueprintEncodeData()\n",
    "ref2 <- celldex::MonacoImmuneData()\n",
    "cell_classification <- SingleR(test = as.SingleCellExperiment(data),\n",
    "                               ref = list(BPE = ref1, MON = ref2),\n",
    "                               labels = list(ref1$label.main, ref2$label.main))\n",
    "\n",
    "data[[\"SingleR_label\"]] <- cell_classification$labels\n",
    "\n",
    "plotScoreHeatmap(cell_classification)"
   ]
  },
  {
   "cell_type": "code",
   "execution_count": null,
   "id": "6ad7cf2f-891f-4c05-b34d-e47c84bbe27b",
   "metadata": {
    "execution": {
     "iopub.execute_input": "2023-05-15T09:03:42.375350Z",
     "iopub.status.busy": "2023-05-15T09:03:42.375042Z",
     "iopub.status.idle": "2023-05-15T09:03:42.901308Z",
     "shell.execute_reply": "2023-05-15T09:03:42.900915Z"
    },
    "papermill": {
     "duration": 0.531115,
     "end_time": "2023-05-15T09:03:42.902396",
     "exception": false,
     "start_time": "2023-05-15T09:03:42.371281",
     "status": "completed"
    },
    "tags": []
   },
   "outputs": [],
   "source": [
    "%%R -i sample_name\n",
    "\n",
    "write.csv(data@meta.data, paste0(sample_name, \"_metadata.csv\"))"
   ]
  }
 ],
 "metadata": {
  "kernelspec": {
   "display_name": "py_R",
   "language": "python",
   "name": "python_r"
  },
  "language_info": {
   "codemirror_mode": {
    "name": "ipython",
    "version": 3
   },
   "file_extension": ".py",
   "mimetype": "text/x-python",
   "name": "python",
   "nbconvert_exporter": "python",
   "pygments_lexer": "ipython3",
   "version": "3.10.9"
  },
  "papermill": {
   "default_parameters": {},
   "duration": 42.794062,
   "end_time": "2023-05-15T09:03:44.124848",
   "environment_variables": {},
   "exception": null,
   "input_path": "template.ipynb",
   "output_path": "SRR13329114.ipynb",
   "parameters": {
    "sample_name": "SRR13329114"
   },
   "start_time": "2023-05-15T09:03:01.330786",
   "version": "2.3.4"
  }
 },
 "nbformat": 4,
 "nbformat_minor": 5
}
