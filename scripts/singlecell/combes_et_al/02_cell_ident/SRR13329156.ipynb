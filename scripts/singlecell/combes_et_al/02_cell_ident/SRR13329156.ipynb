{
 "cells": [
  {
   "cell_type": "code",
   "execution_count": null,
   "id": "78a6243e-1906-4e3b-ae98-4b5bd21bd37c",
   "metadata": {
    "execution": {
     "iopub.execute_input": "2023-05-15T09:09:55.379271Z",
     "iopub.status.busy": "2023-05-15T09:09:55.379100Z",
     "iopub.status.idle": "2023-05-15T09:09:55.383521Z",
     "shell.execute_reply": "2023-05-15T09:09:55.383196Z"
    },
    "papermill": {
     "duration": 0.008049,
     "end_time": "2023-05-15T09:09:55.384301",
     "exception": false,
     "start_time": "2023-05-15T09:09:55.376252",
     "status": "completed"
    },
    "tags": [
     "parameters"
    ]
   },
   "outputs": [],
   "source": [
    "sample_name = \"SRR13329143\""
   ]
  },
  {
   "cell_type": "code",
   "execution_count": null,
   "id": "8f61149e",
   "metadata": {
    "execution": {
     "iopub.execute_input": "2023-05-15T09:09:55.387833Z",
     "iopub.status.busy": "2023-05-15T09:09:55.387700Z",
     "iopub.status.idle": "2023-05-15T09:09:55.389661Z",
     "shell.execute_reply": "2023-05-15T09:09:55.389365Z"
    },
    "papermill": {
     "duration": 0.004496,
     "end_time": "2023-05-15T09:09:55.390376",
     "exception": false,
     "start_time": "2023-05-15T09:09:55.385880",
     "status": "completed"
    },
    "tags": [
     "injected-parameters"
    ]
   },
   "outputs": [],
   "source": [
    "# Parameters\n",
    "sample_name = \"SRR13329156\"\n"
   ]
  },
  {
   "cell_type": "code",
   "execution_count": null,
   "id": "487588d5-40a0-4c35-9cd9-ee9b3e2f1d4e",
   "metadata": {
    "execution": {
     "iopub.execute_input": "2023-05-15T09:09:55.393767Z",
     "iopub.status.busy": "2023-05-15T09:09:55.393618Z",
     "iopub.status.idle": "2023-05-15T09:09:55.395894Z",
     "shell.execute_reply": "2023-05-15T09:09:55.395607Z"
    },
    "papermill": {
     "duration": 0.00481,
     "end_time": "2023-05-15T09:09:55.396631",
     "exception": false,
     "start_time": "2023-05-15T09:09:55.391821",
     "status": "completed"
    },
    "tags": []
   },
   "outputs": [],
   "source": [
    "import warnings\n",
    "warnings.simplefilter(action='ignore', category=FutureWarning)\n",
    "warnings.simplefilter(action='ignore', category=UserWarning)"
   ]
  },
  {
   "cell_type": "code",
   "execution_count": null,
   "id": "5bba6a57-54cf-4720-8653-bf94afa536ad",
   "metadata": {
    "execution": {
     "iopub.execute_input": "2023-05-15T09:09:55.399955Z",
     "iopub.status.busy": "2023-05-15T09:09:55.399804Z",
     "iopub.status.idle": "2023-05-15T09:09:59.466647Z",
     "shell.execute_reply": "2023-05-15T09:09:59.466171Z"
    },
    "papermill": {
     "duration": 4.069928,
     "end_time": "2023-05-15T09:09:59.467979",
     "exception": false,
     "start_time": "2023-05-15T09:09:55.398051",
     "status": "completed"
    },
    "tags": []
   },
   "outputs": [],
   "source": [
    "import gc\n",
    "import scanpy as sc\n",
    "import muon as mu\n",
    "import seaborn as sns\n",
    "import os\n",
    "import pandas as pd\n",
    "from matplotlib import pyplot as plt\n",
    "\n",
    "os.environ['R_HOME'] = '/gpfs/bwfor/work/ws/hd_fu399-conda/conda/envs/python_R/lib/R/'\n",
    "import anndata2ri\n",
    "import logging\n",
    "\n",
    "import rpy2.rinterface_lib.callbacks as rcb\n",
    "import rpy2.robjects as ro\n",
    "\n",
    "rcb.logger.setLevel(logging.ERROR)\n",
    "ro.pandas2ri.activate()\n",
    "anndata2ri.activate()\n",
    "\n",
    "%load_ext rpy2.ipython"
   ]
  },
  {
   "cell_type": "code",
   "execution_count": null,
   "id": "0897f8ed-b086-4ddc-a32e-6ae638ff6d14",
   "metadata": {
    "execution": {
     "iopub.execute_input": "2023-05-15T09:09:59.472830Z",
     "iopub.status.busy": "2023-05-15T09:09:59.472527Z",
     "iopub.status.idle": "2023-05-15T09:10:06.354578Z",
     "shell.execute_reply": "2023-05-15T09:10:06.354120Z"
    },
    "papermill": {
     "duration": 6.885652,
     "end_time": "2023-05-15T09:10:06.356034",
     "exception": false,
     "start_time": "2023-05-15T09:09:59.470382",
     "status": "completed"
    },
    "tags": []
   },
   "outputs": [],
   "source": [
    "%%R\n",
    "\n",
    "suppressMessages(library(SeuratDisk))\n",
    "suppressMessages(library(SingleR))\n",
    "suppressMessages(library(Seurat))\n",
    "suppressMessages(library(SingleCellExperiment))\n",
    "suppressMessages(library(UCell))"
   ]
  },
  {
   "cell_type": "code",
   "execution_count": null,
   "id": "74c6b1b1-5af7-4955-a6cc-4532fc42a266",
   "metadata": {
    "execution": {
     "iopub.execute_input": "2023-05-15T09:10:06.362369Z",
     "iopub.status.busy": "2023-05-15T09:10:06.362207Z",
     "iopub.status.idle": "2023-05-15T09:10:06.716725Z",
     "shell.execute_reply": "2023-05-15T09:10:06.716240Z"
    },
    "papermill": {
     "duration": 0.358249,
     "end_time": "2023-05-15T09:10:06.718168",
     "exception": false,
     "start_time": "2023-05-15T09:10:06.359919",
     "status": "completed"
    },
    "tags": []
   },
   "outputs": [],
   "source": [
    "dataset = sc.read(f\"../../int_data/{sample_name}_qc.h5ad\")\n",
    "dataset.X = dataset.layers[\"soupX_counts\"]"
   ]
  },
  {
   "cell_type": "code",
   "execution_count": null,
   "id": "f2520f85-0ac2-4e0d-b7f1-e5b9ce4c769d",
   "metadata": {
    "execution": {
     "iopub.execute_input": "2023-05-15T09:10:06.722647Z",
     "iopub.status.busy": "2023-05-15T09:10:06.722477Z",
     "iopub.status.idle": "2023-05-15T09:10:06.729061Z",
     "shell.execute_reply": "2023-05-15T09:10:06.728739Z"
    },
    "papermill": {
     "duration": 0.009568,
     "end_time": "2023-05-15T09:10:06.729850",
     "exception": false,
     "start_time": "2023-05-15T09:10:06.720282",
     "status": "completed"
    },
    "tags": []
   },
   "outputs": [],
   "source": [
    "dataset.obs[[\"AvgSpotLen\", \"Bases\", \"Bytes\", \"version\"]] = dataset.obs[[\"AvgSpotLen\", \"Bases\", \"Bytes\", \"version\"]].astype(\"str\")"
   ]
  },
  {
   "cell_type": "code",
   "execution_count": null,
   "id": "99f95dca-cf68-4a51-8f53-ca088aa3167b",
   "metadata": {
    "execution": {
     "iopub.execute_input": "2023-05-15T09:10:06.733667Z",
     "iopub.status.busy": "2023-05-15T09:10:06.733483Z",
     "iopub.status.idle": "2023-05-15T09:10:13.260667Z",
     "shell.execute_reply": "2023-05-15T09:10:13.260091Z"
    },
    "papermill": {
     "duration": 6.530795,
     "end_time": "2023-05-15T09:10:13.262250",
     "exception": false,
     "start_time": "2023-05-15T09:10:06.731455",
     "status": "completed"
    },
    "tags": []
   },
   "outputs": [],
   "source": [
    "%%R -i dataset\n",
    "\n",
    "sce <- SingleCellExperiment(list(counts=dataset@assays@data[[\"soupX_counts\"]]),\n",
    "    colData=dataset@colData,\n",
    ")\n",
    "\n",
    "row.names(sce) <- row.names(dataset)\n",
    "\n",
    "data <- as.Seurat(sce, data = NULL)"
   ]
  },
  {
   "cell_type": "code",
   "execution_count": null,
   "id": "0b749876-ea5a-403c-8b0b-51afc8a633e3",
   "metadata": {
    "execution": {
     "iopub.execute_input": "2023-05-15T09:10:13.270281Z",
     "iopub.status.busy": "2023-05-15T09:10:13.270071Z",
     "iopub.status.idle": "2023-05-15T09:10:13.290522Z",
     "shell.execute_reply": "2023-05-15T09:10:13.290185Z"
    },
    "papermill": {
     "duration": 0.02469,
     "end_time": "2023-05-15T09:10:13.291383",
     "exception": false,
     "start_time": "2023-05-15T09:10:13.266693",
     "status": "completed"
    },
    "tags": []
   },
   "outputs": [],
   "source": [
    "%%R\n",
    "data"
   ]
  },
  {
   "cell_type": "code",
   "execution_count": null,
   "id": "b6b29b0e-92c4-4d4f-b835-c5e9d7d59455",
   "metadata": {
    "execution": {
     "iopub.execute_input": "2023-05-15T09:10:13.296858Z",
     "iopub.status.busy": "2023-05-15T09:10:13.296695Z",
     "iopub.status.idle": "2023-05-15T09:10:24.644305Z",
     "shell.execute_reply": "2023-05-15T09:10:24.643815Z"
    },
    "papermill": {
     "duration": 11.352015,
     "end_time": "2023-05-15T09:10:24.645856",
     "exception": false,
     "start_time": "2023-05-15T09:10:13.293841",
     "status": "completed"
    },
    "tags": []
   },
   "outputs": [],
   "source": [
    "%%R\n",
    "\n",
    "data <- NormalizeData(data)\n",
    "data <- ScaleData(data, features = row.names(data))\n",
    "data <- FindVariableFeatures(data)\n",
    "data <- RunPCA(data, verbose = F)\n",
    "data <- FindNeighbors(data, verbose = F)\n",
    "data <- FindClusters(data, verbose = F)\n",
    "data <- RunUMAP(data, dims = 1:20, verbose = F)"
   ]
  },
  {
   "cell_type": "code",
   "execution_count": null,
   "id": "40fa5cdd-01d7-4b40-90e6-0c97545b0711",
   "metadata": {
    "execution": {
     "iopub.execute_input": "2023-05-15T09:10:24.653938Z",
     "iopub.status.busy": "2023-05-15T09:10:24.653763Z",
     "iopub.status.idle": "2023-05-15T09:10:49.059286Z",
     "shell.execute_reply": "2023-05-15T09:10:49.058893Z"
    },
    "papermill": {
     "duration": 24.409453,
     "end_time": "2023-05-15T09:10:49.060239",
     "exception": false,
     "start_time": "2023-05-15T09:10:24.650786",
     "status": "completed"
    },
    "tags": []
   },
   "outputs": [],
   "source": [
    "%%R\n",
    "\n",
    "ref1 <- celldex::BlueprintEncodeData()\n",
    "ref2 <- celldex::MonacoImmuneData()\n",
    "cell_classification <- SingleR(test = as.SingleCellExperiment(data),\n",
    "                               ref = list(BPE = ref1, MON = ref2),\n",
    "                               labels = list(ref1$label.main, ref2$label.main))\n",
    "\n",
    "data[[\"SingleR_label\"]] <- cell_classification$labels\n",
    "\n",
    "plotScoreHeatmap(cell_classification)"
   ]
  },
  {
   "cell_type": "code",
   "execution_count": null,
   "id": "6ad7cf2f-891f-4c05-b34d-e47c84bbe27b",
   "metadata": {
    "execution": {
     "iopub.execute_input": "2023-05-15T09:10:49.069794Z",
     "iopub.status.busy": "2023-05-15T09:10:49.069635Z",
     "iopub.status.idle": "2023-05-15T09:10:49.502066Z",
     "shell.execute_reply": "2023-05-15T09:10:49.501665Z"
    },
    "papermill": {
     "duration": 0.437273,
     "end_time": "2023-05-15T09:10:49.503193",
     "exception": false,
     "start_time": "2023-05-15T09:10:49.065920",
     "status": "completed"
    },
    "tags": []
   },
   "outputs": [],
   "source": [
    "%%R -i sample_name\n",
    "\n",
    "write.csv(data@meta.data, paste0(sample_name, \"_metadata.csv\"))"
   ]
  }
 ],
 "metadata": {
  "kernelspec": {
   "display_name": "py_R",
   "language": "python",
   "name": "python_r"
  },
  "language_info": {
   "codemirror_mode": {
    "name": "ipython",
    "version": 3
   },
   "file_extension": ".py",
   "mimetype": "text/x-python",
   "name": "python",
   "nbconvert_exporter": "python",
   "pygments_lexer": "ipython3",
   "version": "3.10.9"
  },
  "papermill": {
   "default_parameters": {},
   "duration": 56.579497,
   "end_time": "2023-05-15T09:10:50.726024",
   "environment_variables": {},
   "exception": null,
   "input_path": "template.ipynb",
   "output_path": "SRR13329156.ipynb",
   "parameters": {
    "sample_name": "SRR13329156"
   },
   "start_time": "2023-05-15T09:09:54.146527",
   "version": "2.3.4"
  }
 },
 "nbformat": 4,
 "nbformat_minor": 5
}
