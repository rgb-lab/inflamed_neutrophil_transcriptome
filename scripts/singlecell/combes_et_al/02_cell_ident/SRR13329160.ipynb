{
 "cells": [
  {
   "cell_type": "code",
   "execution_count": null,
   "id": "78a6243e-1906-4e3b-ae98-4b5bd21bd37c",
   "metadata": {
    "execution": {
     "iopub.execute_input": "2023-05-15T09:29:52.715549Z",
     "iopub.status.busy": "2023-05-15T09:29:52.715377Z",
     "iopub.status.idle": "2023-05-15T09:29:52.720246Z",
     "shell.execute_reply": "2023-05-15T09:29:52.719845Z"
    },
    "papermill": {
     "duration": 0.008291,
     "end_time": "2023-05-15T09:29:52.721047",
     "exception": false,
     "start_time": "2023-05-15T09:29:52.712756",
     "status": "completed"
    },
    "tags": [
     "parameters"
    ]
   },
   "outputs": [],
   "source": [
    "sample_name = \"SRR13329143\""
   ]
  },
  {
   "cell_type": "code",
   "execution_count": null,
   "id": "43445b7e",
   "metadata": {
    "execution": {
     "iopub.execute_input": "2023-05-15T09:29:52.724551Z",
     "iopub.status.busy": "2023-05-15T09:29:52.724259Z",
     "iopub.status.idle": "2023-05-15T09:29:52.726360Z",
     "shell.execute_reply": "2023-05-15T09:29:52.725940Z"
    },
    "papermill": {
     "duration": 0.004549,
     "end_time": "2023-05-15T09:29:52.727105",
     "exception": false,
     "start_time": "2023-05-15T09:29:52.722556",
     "status": "completed"
    },
    "tags": [
     "injected-parameters"
    ]
   },
   "outputs": [],
   "source": [
    "# Parameters\n",
    "sample_name = \"SRR13329160\"\n"
   ]
  },
  {
   "cell_type": "code",
   "execution_count": null,
   "id": "487588d5-40a0-4c35-9cd9-ee9b3e2f1d4e",
   "metadata": {
    "execution": {
     "iopub.execute_input": "2023-05-15T09:29:52.730467Z",
     "iopub.status.busy": "2023-05-15T09:29:52.730193Z",
     "iopub.status.idle": "2023-05-15T09:29:52.732422Z",
     "shell.execute_reply": "2023-05-15T09:29:52.732092Z"
    },
    "papermill": {
     "duration": 0.004703,
     "end_time": "2023-05-15T09:29:52.733173",
     "exception": false,
     "start_time": "2023-05-15T09:29:52.728470",
     "status": "completed"
    },
    "tags": []
   },
   "outputs": [],
   "source": [
    "import warnings\n",
    "warnings.simplefilter(action='ignore', category=FutureWarning)\n",
    "warnings.simplefilter(action='ignore', category=UserWarning)"
   ]
  },
  {
   "cell_type": "code",
   "execution_count": null,
   "id": "5bba6a57-54cf-4720-8653-bf94afa536ad",
   "metadata": {
    "execution": {
     "iopub.execute_input": "2023-05-15T09:29:52.736559Z",
     "iopub.status.busy": "2023-05-15T09:29:52.736338Z",
     "iopub.status.idle": "2023-05-15T09:29:57.833606Z",
     "shell.execute_reply": "2023-05-15T09:29:57.833125Z"
    },
    "papermill": {
     "duration": 5.10032,
     "end_time": "2023-05-15T09:29:57.834873",
     "exception": false,
     "start_time": "2023-05-15T09:29:52.734553",
     "status": "completed"
    },
    "tags": []
   },
   "outputs": [],
   "source": [
    "import gc\n",
    "import scanpy as sc\n",
    "import muon as mu\n",
    "import seaborn as sns\n",
    "import os\n",
    "import pandas as pd\n",
    "from matplotlib import pyplot as plt\n",
    "\n",
    "os.environ['R_HOME'] = '/gpfs/bwfor/work/ws/hd_fu399-conda/conda/envs/python_R/lib/R/'\n",
    "import anndata2ri\n",
    "import logging\n",
    "\n",
    "import rpy2.rinterface_lib.callbacks as rcb\n",
    "import rpy2.robjects as ro\n",
    "\n",
    "rcb.logger.setLevel(logging.ERROR)\n",
    "ro.pandas2ri.activate()\n",
    "anndata2ri.activate()\n",
    "\n",
    "%load_ext rpy2.ipython"
   ]
  },
  {
   "cell_type": "code",
   "execution_count": null,
   "id": "0897f8ed-b086-4ddc-a32e-6ae638ff6d14",
   "metadata": {
    "execution": {
     "iopub.execute_input": "2023-05-15T09:29:57.839577Z",
     "iopub.status.busy": "2023-05-15T09:29:57.839261Z",
     "iopub.status.idle": "2023-05-15T09:30:06.936880Z",
     "shell.execute_reply": "2023-05-15T09:30:06.936286Z"
    },
    "papermill": {
     "duration": 9.101163,
     "end_time": "2023-05-15T09:30:06.938304",
     "exception": false,
     "start_time": "2023-05-15T09:29:57.837141",
     "status": "completed"
    },
    "tags": []
   },
   "outputs": [],
   "source": [
    "%%R\n",
    "\n",
    "suppressMessages(library(SeuratDisk))\n",
    "suppressMessages(library(SingleR))\n",
    "suppressMessages(library(Seurat))\n",
    "suppressMessages(library(SingleCellExperiment))\n",
    "suppressMessages(library(UCell))"
   ]
  },
  {
   "cell_type": "code",
   "execution_count": null,
   "id": "74c6b1b1-5af7-4955-a6cc-4532fc42a266",
   "metadata": {
    "execution": {
     "iopub.execute_input": "2023-05-15T09:30:06.944702Z",
     "iopub.status.busy": "2023-05-15T09:30:06.944533Z",
     "iopub.status.idle": "2023-05-15T09:30:07.353456Z",
     "shell.execute_reply": "2023-05-15T09:30:07.352991Z"
    },
    "papermill": {
     "duration": 0.412738,
     "end_time": "2023-05-15T09:30:07.354907",
     "exception": false,
     "start_time": "2023-05-15T09:30:06.942169",
     "status": "completed"
    },
    "tags": []
   },
   "outputs": [],
   "source": [
    "dataset = sc.read(f\"../../int_data/{sample_name}_qc.h5ad\")\n",
    "dataset.X = dataset.layers[\"soupX_counts\"]"
   ]
  },
  {
   "cell_type": "code",
   "execution_count": null,
   "id": "f2520f85-0ac2-4e0d-b7f1-e5b9ce4c769d",
   "metadata": {
    "execution": {
     "iopub.execute_input": "2023-05-15T09:30:07.359322Z",
     "iopub.status.busy": "2023-05-15T09:30:07.359142Z",
     "iopub.status.idle": "2023-05-15T09:30:07.365312Z",
     "shell.execute_reply": "2023-05-15T09:30:07.364961Z"
    },
    "papermill": {
     "duration": 0.009202,
     "end_time": "2023-05-15T09:30:07.366155",
     "exception": false,
     "start_time": "2023-05-15T09:30:07.356953",
     "status": "completed"
    },
    "tags": []
   },
   "outputs": [],
   "source": [
    "dataset.obs[[\"AvgSpotLen\", \"Bases\", \"Bytes\", \"version\"]] = dataset.obs[[\"AvgSpotLen\", \"Bases\", \"Bytes\", \"version\"]].astype(\"str\")"
   ]
  },
  {
   "cell_type": "code",
   "execution_count": null,
   "id": "99f95dca-cf68-4a51-8f53-ca088aa3167b",
   "metadata": {
    "execution": {
     "iopub.execute_input": "2023-05-15T09:30:07.370035Z",
     "iopub.status.busy": "2023-05-15T09:30:07.369823Z",
     "iopub.status.idle": "2023-05-15T09:30:14.194417Z",
     "shell.execute_reply": "2023-05-15T09:30:14.193997Z"
    },
    "papermill": {
     "duration": 6.827926,
     "end_time": "2023-05-15T09:30:14.195672",
     "exception": false,
     "start_time": "2023-05-15T09:30:07.367746",
     "status": "completed"
    },
    "tags": []
   },
   "outputs": [],
   "source": [
    "%%R -i dataset\n",
    "\n",
    "sce <- SingleCellExperiment(list(counts=dataset@assays@data[[\"soupX_counts\"]]),\n",
    "    colData=dataset@colData,\n",
    ")\n",
    "\n",
    "row.names(sce) <- row.names(dataset)\n",
    "\n",
    "data <- as.Seurat(sce, data = NULL)"
   ]
  },
  {
   "cell_type": "code",
   "execution_count": null,
   "id": "0b749876-ea5a-403c-8b0b-51afc8a633e3",
   "metadata": {
    "execution": {
     "iopub.execute_input": "2023-05-15T09:30:14.203148Z",
     "iopub.status.busy": "2023-05-15T09:30:14.202782Z",
     "iopub.status.idle": "2023-05-15T09:30:14.223368Z",
     "shell.execute_reply": "2023-05-15T09:30:14.222971Z"
    },
    "papermill": {
     "duration": 0.023538,
     "end_time": "2023-05-15T09:30:14.224213",
     "exception": false,
     "start_time": "2023-05-15T09:30:14.200675",
     "status": "completed"
    },
    "tags": []
   },
   "outputs": [],
   "source": [
    "%%R\n",
    "data"
   ]
  },
  {
   "cell_type": "code",
   "execution_count": null,
   "id": "b6b29b0e-92c4-4d4f-b835-c5e9d7d59455",
   "metadata": {
    "execution": {
     "iopub.execute_input": "2023-05-15T09:30:14.229738Z",
     "iopub.status.busy": "2023-05-15T09:30:14.229406Z",
     "iopub.status.idle": "2023-05-15T09:30:24.085640Z",
     "shell.execute_reply": "2023-05-15T09:30:24.084998Z"
    },
    "papermill": {
     "duration": 9.860518,
     "end_time": "2023-05-15T09:30:24.087214",
     "exception": false,
     "start_time": "2023-05-15T09:30:14.226696",
     "status": "completed"
    },
    "tags": []
   },
   "outputs": [],
   "source": [
    "%%R\n",
    "\n",
    "data <- NormalizeData(data)\n",
    "data <- ScaleData(data, features = row.names(data))\n",
    "data <- FindVariableFeatures(data)\n",
    "data <- RunPCA(data, verbose = F)\n",
    "data <- FindNeighbors(data, verbose = F)\n",
    "data <- FindClusters(data, verbose = F)\n",
    "data <- RunUMAP(data, dims = 1:20, verbose = F)"
   ]
  },
  {
   "cell_type": "code",
   "execution_count": null,
   "id": "40fa5cdd-01d7-4b40-90e6-0c97545b0711",
   "metadata": {
    "execution": {
     "iopub.execute_input": "2023-05-15T09:30:24.095435Z",
     "iopub.status.busy": "2023-05-15T09:30:24.095248Z",
     "iopub.status.idle": "2023-05-15T09:30:45.585206Z",
     "shell.execute_reply": "2023-05-15T09:30:45.584743Z"
    },
    "papermill": {
     "duration": 21.494162,
     "end_time": "2023-05-15T09:30:45.586163",
     "exception": false,
     "start_time": "2023-05-15T09:30:24.092001",
     "status": "completed"
    },
    "tags": []
   },
   "outputs": [],
   "source": [
    "%%R\n",
    "\n",
    "ref1 <- celldex::BlueprintEncodeData()\n",
    "ref2 <- celldex::MonacoImmuneData()\n",
    "cell_classification <- SingleR(test = as.SingleCellExperiment(data),\n",
    "                               ref = list(BPE = ref1, MON = ref2),\n",
    "                               labels = list(ref1$label.main, ref2$label.main))\n",
    "\n",
    "data[[\"SingleR_label\"]] <- cell_classification$labels\n",
    "\n",
    "plotScoreHeatmap(cell_classification)"
   ]
  },
  {
   "cell_type": "code",
   "execution_count": null,
   "id": "6ad7cf2f-891f-4c05-b34d-e47c84bbe27b",
   "metadata": {
    "execution": {
     "iopub.execute_input": "2023-05-15T09:30:45.595069Z",
     "iopub.status.busy": "2023-05-15T09:30:45.594902Z",
     "iopub.status.idle": "2023-05-15T09:30:46.089778Z",
     "shell.execute_reply": "2023-05-15T09:30:46.089339Z"
    },
    "papermill": {
     "duration": 0.499655,
     "end_time": "2023-05-15T09:30:46.090912",
     "exception": false,
     "start_time": "2023-05-15T09:30:45.591257",
     "status": "completed"
    },
    "tags": []
   },
   "outputs": [],
   "source": [
    "%%R -i sample_name\n",
    "\n",
    "write.csv(data@meta.data, paste0(sample_name, \"_metadata.csv\"))"
   ]
  }
 ],
 "metadata": {
  "kernelspec": {
   "display_name": "py_R",
   "language": "python",
   "name": "python_r"
  },
  "language_info": {
   "codemirror_mode": {
    "name": "ipython",
    "version": 3
   },
   "file_extension": ".py",
   "mimetype": "text/x-python",
   "name": "python",
   "nbconvert_exporter": "python",
   "pygments_lexer": "ipython3",
   "version": "3.10.9"
  },
  "papermill": {
   "default_parameters": {},
   "duration": 55.922801,
   "end_time": "2023-05-15T09:30:47.412231",
   "environment_variables": {},
   "exception": null,
   "input_path": "template.ipynb",
   "output_path": "SRR13329160.ipynb",
   "parameters": {
    "sample_name": "SRR13329160"
   },
   "start_time": "2023-05-15T09:29:51.489430",
   "version": "2.3.4"
  }
 },
 "nbformat": 4,
 "nbformat_minor": 5
}
