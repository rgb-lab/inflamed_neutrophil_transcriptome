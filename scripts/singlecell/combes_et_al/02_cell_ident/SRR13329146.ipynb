{
 "cells": [
  {
   "cell_type": "code",
   "execution_count": null,
   "id": "78a6243e-1906-4e3b-ae98-4b5bd21bd37c",
   "metadata": {
    "execution": {
     "iopub.execute_input": "2023-05-15T09:11:59.584334Z",
     "iopub.status.busy": "2023-05-15T09:11:59.584166Z",
     "iopub.status.idle": "2023-05-15T09:11:59.589182Z",
     "shell.execute_reply": "2023-05-15T09:11:59.588868Z"
    },
    "papermill": {
     "duration": 0.009002,
     "end_time": "2023-05-15T09:11:59.590068",
     "exception": false,
     "start_time": "2023-05-15T09:11:59.581066",
     "status": "completed"
    },
    "tags": [
     "parameters"
    ]
   },
   "outputs": [],
   "source": [
    "sample_name = \"SRR13329143\""
   ]
  },
  {
   "cell_type": "code",
   "execution_count": null,
   "id": "c59e0d70",
   "metadata": {
    "execution": {
     "iopub.execute_input": "2023-05-15T09:11:59.593746Z",
     "iopub.status.busy": "2023-05-15T09:11:59.593498Z",
     "iopub.status.idle": "2023-05-15T09:11:59.607617Z",
     "shell.execute_reply": "2023-05-15T09:11:59.607325Z"
    },
    "papermill": {
     "duration": 0.016916,
     "end_time": "2023-05-15T09:11:59.608535",
     "exception": false,
     "start_time": "2023-05-15T09:11:59.591619",
     "status": "completed"
    },
    "tags": [
     "injected-parameters"
    ]
   },
   "outputs": [],
   "source": [
    "# Parameters\n",
    "sample_name = \"SRR13329146\"\n"
   ]
  },
  {
   "cell_type": "code",
   "execution_count": null,
   "id": "487588d5-40a0-4c35-9cd9-ee9b3e2f1d4e",
   "metadata": {
    "execution": {
     "iopub.execute_input": "2023-05-15T09:11:59.612171Z",
     "iopub.status.busy": "2023-05-15T09:11:59.612027Z",
     "iopub.status.idle": "2023-05-15T09:11:59.616193Z",
     "shell.execute_reply": "2023-05-15T09:11:59.615866Z"
    },
    "papermill": {
     "duration": 0.007024,
     "end_time": "2023-05-15T09:11:59.617157",
     "exception": false,
     "start_time": "2023-05-15T09:11:59.610133",
     "status": "completed"
    },
    "tags": []
   },
   "outputs": [],
   "source": [
    "import warnings\n",
    "warnings.simplefilter(action='ignore', category=FutureWarning)\n",
    "warnings.simplefilter(action='ignore', category=UserWarning)"
   ]
  },
  {
   "cell_type": "code",
   "execution_count": null,
   "id": "5bba6a57-54cf-4720-8653-bf94afa536ad",
   "metadata": {
    "execution": {
     "iopub.execute_input": "2023-05-15T09:11:59.620595Z",
     "iopub.status.busy": "2023-05-15T09:11:59.620442Z",
     "iopub.status.idle": "2023-05-15T09:12:04.578669Z",
     "shell.execute_reply": "2023-05-15T09:12:04.578204Z"
    },
    "papermill": {
     "duration": 4.96163,
     "end_time": "2023-05-15T09:12:04.580202",
     "exception": false,
     "start_time": "2023-05-15T09:11:59.618572",
     "status": "completed"
    },
    "tags": []
   },
   "outputs": [],
   "source": [
    "import gc\n",
    "import scanpy as sc\n",
    "import muon as mu\n",
    "import seaborn as sns\n",
    "import os\n",
    "import pandas as pd\n",
    "from matplotlib import pyplot as plt\n",
    "\n",
    "os.environ['R_HOME'] = '/gpfs/bwfor/work/ws/hd_fu399-conda/conda/envs/python_R/lib/R/'\n",
    "import anndata2ri\n",
    "import logging\n",
    "\n",
    "import rpy2.rinterface_lib.callbacks as rcb\n",
    "import rpy2.robjects as ro\n",
    "\n",
    "rcb.logger.setLevel(logging.ERROR)\n",
    "ro.pandas2ri.activate()\n",
    "anndata2ri.activate()\n",
    "\n",
    "%load_ext rpy2.ipython"
   ]
  },
  {
   "cell_type": "code",
   "execution_count": null,
   "id": "0897f8ed-b086-4ddc-a32e-6ae638ff6d14",
   "metadata": {
    "execution": {
     "iopub.execute_input": "2023-05-15T09:12:04.585045Z",
     "iopub.status.busy": "2023-05-15T09:12:04.584755Z",
     "iopub.status.idle": "2023-05-15T09:12:12.580871Z",
     "shell.execute_reply": "2023-05-15T09:12:12.580308Z"
    },
    "papermill": {
     "duration": 7.999846,
     "end_time": "2023-05-15T09:12:12.582486",
     "exception": false,
     "start_time": "2023-05-15T09:12:04.582640",
     "status": "completed"
    },
    "tags": []
   },
   "outputs": [],
   "source": [
    "%%R\n",
    "\n",
    "suppressMessages(library(SeuratDisk))\n",
    "suppressMessages(library(SingleR))\n",
    "suppressMessages(library(Seurat))\n",
    "suppressMessages(library(SingleCellExperiment))\n",
    "suppressMessages(library(UCell))"
   ]
  },
  {
   "cell_type": "code",
   "execution_count": null,
   "id": "74c6b1b1-5af7-4955-a6cc-4532fc42a266",
   "metadata": {
    "execution": {
     "iopub.execute_input": "2023-05-15T09:12:12.589038Z",
     "iopub.status.busy": "2023-05-15T09:12:12.588850Z",
     "iopub.status.idle": "2023-05-15T09:12:13.201759Z",
     "shell.execute_reply": "2023-05-15T09:12:13.201300Z"
    },
    "papermill": {
     "duration": 0.617037,
     "end_time": "2023-05-15T09:12:13.203392",
     "exception": false,
     "start_time": "2023-05-15T09:12:12.586355",
     "status": "completed"
    },
    "tags": []
   },
   "outputs": [],
   "source": [
    "dataset = sc.read(f\"../../int_data/{sample_name}_qc.h5ad\")\n",
    "dataset.X = dataset.layers[\"soupX_counts\"]"
   ]
  },
  {
   "cell_type": "code",
   "execution_count": null,
   "id": "f2520f85-0ac2-4e0d-b7f1-e5b9ce4c769d",
   "metadata": {
    "execution": {
     "iopub.execute_input": "2023-05-15T09:12:13.207906Z",
     "iopub.status.busy": "2023-05-15T09:12:13.207736Z",
     "iopub.status.idle": "2023-05-15T09:12:13.216386Z",
     "shell.execute_reply": "2023-05-15T09:12:13.216064Z"
    },
    "papermill": {
     "duration": 0.01166,
     "end_time": "2023-05-15T09:12:13.217179",
     "exception": false,
     "start_time": "2023-05-15T09:12:13.205519",
     "status": "completed"
    },
    "tags": []
   },
   "outputs": [],
   "source": [
    "dataset.obs[[\"AvgSpotLen\", \"Bases\", \"Bytes\", \"version\"]] = dataset.obs[[\"AvgSpotLen\", \"Bases\", \"Bytes\", \"version\"]].astype(\"str\")"
   ]
  },
  {
   "cell_type": "code",
   "execution_count": null,
   "id": "99f95dca-cf68-4a51-8f53-ca088aa3167b",
   "metadata": {
    "execution": {
     "iopub.execute_input": "2023-05-15T09:12:13.221038Z",
     "iopub.status.busy": "2023-05-15T09:12:13.220871Z",
     "iopub.status.idle": "2023-05-15T09:12:20.105833Z",
     "shell.execute_reply": "2023-05-15T09:12:20.105340Z"
    },
    "papermill": {
     "duration": 6.888614,
     "end_time": "2023-05-15T09:12:20.107400",
     "exception": false,
     "start_time": "2023-05-15T09:12:13.218786",
     "status": "completed"
    },
    "tags": []
   },
   "outputs": [],
   "source": [
    "%%R -i dataset\n",
    "\n",
    "sce <- SingleCellExperiment(list(counts=dataset@assays@data[[\"soupX_counts\"]]),\n",
    "    colData=dataset@colData,\n",
    ")\n",
    "\n",
    "row.names(sce) <- row.names(dataset)\n",
    "\n",
    "data <- as.Seurat(sce, data = NULL)"
   ]
  },
  {
   "cell_type": "code",
   "execution_count": null,
   "id": "0b749876-ea5a-403c-8b0b-51afc8a633e3",
   "metadata": {
    "execution": {
     "iopub.execute_input": "2023-05-15T09:12:20.114194Z",
     "iopub.status.busy": "2023-05-15T09:12:20.114046Z",
     "iopub.status.idle": "2023-05-15T09:12:20.134449Z",
     "shell.execute_reply": "2023-05-15T09:12:20.134123Z"
    },
    "papermill": {
     "duration": 0.023748,
     "end_time": "2023-05-15T09:12:20.135323",
     "exception": false,
     "start_time": "2023-05-15T09:12:20.111575",
     "status": "completed"
    },
    "tags": []
   },
   "outputs": [],
   "source": [
    "%%R\n",
    "data"
   ]
  },
  {
   "cell_type": "code",
   "execution_count": null,
   "id": "b6b29b0e-92c4-4d4f-b835-c5e9d7d59455",
   "metadata": {
    "execution": {
     "iopub.execute_input": "2023-05-15T09:12:20.140568Z",
     "iopub.status.busy": "2023-05-15T09:12:20.140430Z",
     "iopub.status.idle": "2023-05-15T09:12:37.294916Z",
     "shell.execute_reply": "2023-05-15T09:12:37.294293Z"
    },
    "papermill": {
     "duration": 17.158762,
     "end_time": "2023-05-15T09:12:37.296467",
     "exception": false,
     "start_time": "2023-05-15T09:12:20.137705",
     "status": "completed"
    },
    "tags": []
   },
   "outputs": [],
   "source": [
    "%%R\n",
    "\n",
    "data <- NormalizeData(data)\n",
    "data <- ScaleData(data, features = row.names(data))\n",
    "data <- FindVariableFeatures(data)\n",
    "data <- RunPCA(data, verbose = F)\n",
    "data <- FindNeighbors(data, verbose = F)\n",
    "data <- FindClusters(data, verbose = F)\n",
    "data <- RunUMAP(data, dims = 1:20, verbose = F)"
   ]
  },
  {
   "cell_type": "code",
   "execution_count": null,
   "id": "40fa5cdd-01d7-4b40-90e6-0c97545b0711",
   "metadata": {
    "execution": {
     "iopub.execute_input": "2023-05-15T09:12:37.311338Z",
     "iopub.status.busy": "2023-05-15T09:12:37.311126Z",
     "iopub.status.idle": "2023-05-15T09:13:08.655242Z",
     "shell.execute_reply": "2023-05-15T09:13:08.654728Z"
    },
    "papermill": {
     "duration": 31.352809,
     "end_time": "2023-05-15T09:13:08.660743",
     "exception": false,
     "start_time": "2023-05-15T09:12:37.307934",
     "status": "completed"
    },
    "tags": []
   },
   "outputs": [],
   "source": [
    "%%R\n",
    "\n",
    "ref1 <- celldex::BlueprintEncodeData()\n",
    "ref2 <- celldex::MonacoImmuneData()\n",
    "cell_classification <- SingleR(test = as.SingleCellExperiment(data),\n",
    "                               ref = list(BPE = ref1, MON = ref2),\n",
    "                               labels = list(ref1$label.main, ref2$label.main))\n",
    "\n",
    "data[[\"SingleR_label\"]] <- cell_classification$labels\n",
    "\n",
    "plotScoreHeatmap(cell_classification)"
   ]
  },
  {
   "cell_type": "code",
   "execution_count": null,
   "id": "6ad7cf2f-891f-4c05-b34d-e47c84bbe27b",
   "metadata": {
    "execution": {
     "iopub.execute_input": "2023-05-15T09:13:08.667652Z",
     "iopub.status.busy": "2023-05-15T09:13:08.667462Z",
     "iopub.status.idle": "2023-05-15T09:13:09.193165Z",
     "shell.execute_reply": "2023-05-15T09:13:09.192787Z"
    },
    "papermill": {
     "duration": 0.530848,
     "end_time": "2023-05-15T09:13:09.194624",
     "exception": false,
     "start_time": "2023-05-15T09:13:08.663776",
     "status": "completed"
    },
    "tags": []
   },
   "outputs": [],
   "source": [
    "%%R -i sample_name\n",
    "\n",
    "write.csv(data@meta.data, paste0(sample_name, \"_metadata.csv\"))"
   ]
  }
 ],
 "metadata": {
  "kernelspec": {
   "display_name": "py_R",
   "language": "python",
   "name": "python_r"
  },
  "language_info": {
   "codemirror_mode": {
    "name": "ipython",
    "version": 3
   },
   "file_extension": ".py",
   "mimetype": "text/x-python",
   "name": "python",
   "nbconvert_exporter": "python",
   "pygments_lexer": "ipython3",
   "version": "3.10.9"
  },
  "papermill": {
   "default_parameters": {},
   "duration": 72.369314,
   "end_time": "2023-05-15T09:13:10.417484",
   "environment_variables": {},
   "exception": null,
   "input_path": "template.ipynb",
   "output_path": "SRR13329146.ipynb",
   "parameters": {
    "sample_name": "SRR13329146"
   },
   "start_time": "2023-05-15T09:11:58.048170",
   "version": "2.3.4"
  }
 },
 "nbformat": 4,
 "nbformat_minor": 5
}
