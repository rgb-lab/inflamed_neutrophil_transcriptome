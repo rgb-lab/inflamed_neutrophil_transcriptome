{
 "cells": [
  {
   "cell_type": "code",
   "execution_count": null,
   "id": "78a6243e-1906-4e3b-ae98-4b5bd21bd37c",
   "metadata": {
    "execution": {
     "iopub.execute_input": "2023-05-15T09:16:50.891490Z",
     "iopub.status.busy": "2023-05-15T09:16:50.891325Z",
     "iopub.status.idle": "2023-05-15T09:16:50.895823Z",
     "shell.execute_reply": "2023-05-15T09:16:50.895512Z"
    },
    "papermill": {
     "duration": 0.008122,
     "end_time": "2023-05-15T09:16:50.896608",
     "exception": false,
     "start_time": "2023-05-15T09:16:50.888486",
     "status": "completed"
    },
    "tags": [
     "parameters"
    ]
   },
   "outputs": [],
   "source": [
    "sample_name = \"SRR13329143\""
   ]
  },
  {
   "cell_type": "code",
   "execution_count": null,
   "id": "41628031",
   "metadata": {
    "execution": {
     "iopub.execute_input": "2023-05-15T09:16:50.900121Z",
     "iopub.status.busy": "2023-05-15T09:16:50.899826Z",
     "iopub.status.idle": "2023-05-15T09:16:50.901919Z",
     "shell.execute_reply": "2023-05-15T09:16:50.901609Z"
    },
    "papermill": {
     "duration": 0.004587,
     "end_time": "2023-05-15T09:16:50.902671",
     "exception": false,
     "start_time": "2023-05-15T09:16:50.898084",
     "status": "completed"
    },
    "tags": [
     "injected-parameters"
    ]
   },
   "outputs": [],
   "source": [
    "# Parameters\n",
    "sample_name = \"SRR13329165\"\n"
   ]
  },
  {
   "cell_type": "code",
   "execution_count": null,
   "id": "487588d5-40a0-4c35-9cd9-ee9b3e2f1d4e",
   "metadata": {
    "execution": {
     "iopub.execute_input": "2023-05-15T09:16:50.905897Z",
     "iopub.status.busy": "2023-05-15T09:16:50.905723Z",
     "iopub.status.idle": "2023-05-15T09:16:50.908030Z",
     "shell.execute_reply": "2023-05-15T09:16:50.907715Z"
    },
    "papermill": {
     "duration": 0.00476,
     "end_time": "2023-05-15T09:16:50.908770",
     "exception": false,
     "start_time": "2023-05-15T09:16:50.904010",
     "status": "completed"
    },
    "tags": []
   },
   "outputs": [],
   "source": [
    "import warnings\n",
    "warnings.simplefilter(action='ignore', category=FutureWarning)\n",
    "warnings.simplefilter(action='ignore', category=UserWarning)"
   ]
  },
  {
   "cell_type": "code",
   "execution_count": null,
   "id": "5bba6a57-54cf-4720-8653-bf94afa536ad",
   "metadata": {
    "execution": {
     "iopub.execute_input": "2023-05-15T09:16:50.912235Z",
     "iopub.status.busy": "2023-05-15T09:16:50.911916Z",
     "iopub.status.idle": "2023-05-15T09:16:55.827046Z",
     "shell.execute_reply": "2023-05-15T09:16:55.826571Z"
    },
    "papermill": {
     "duration": 4.918293,
     "end_time": "2023-05-15T09:16:55.828447",
     "exception": false,
     "start_time": "2023-05-15T09:16:50.910154",
     "status": "completed"
    },
    "tags": []
   },
   "outputs": [],
   "source": [
    "import gc\n",
    "import scanpy as sc\n",
    "import muon as mu\n",
    "import seaborn as sns\n",
    "import os\n",
    "import pandas as pd\n",
    "from matplotlib import pyplot as plt\n",
    "\n",
    "os.environ['R_HOME'] = '/gpfs/bwfor/work/ws/hd_fu399-conda/conda/envs/python_R/lib/R/'\n",
    "import anndata2ri\n",
    "import logging\n",
    "\n",
    "import rpy2.rinterface_lib.callbacks as rcb\n",
    "import rpy2.robjects as ro\n",
    "\n",
    "rcb.logger.setLevel(logging.ERROR)\n",
    "ro.pandas2ri.activate()\n",
    "anndata2ri.activate()\n",
    "\n",
    "%load_ext rpy2.ipython"
   ]
  },
  {
   "cell_type": "code",
   "execution_count": null,
   "id": "0897f8ed-b086-4ddc-a32e-6ae638ff6d14",
   "metadata": {
    "execution": {
     "iopub.execute_input": "2023-05-15T09:16:55.832802Z",
     "iopub.status.busy": "2023-05-15T09:16:55.832512Z",
     "iopub.status.idle": "2023-05-15T09:17:04.766681Z",
     "shell.execute_reply": "2023-05-15T09:17:04.766115Z"
    },
    "papermill": {
     "duration": 8.937747,
     "end_time": "2023-05-15T09:17:04.768250",
     "exception": false,
     "start_time": "2023-05-15T09:16:55.830503",
     "status": "completed"
    },
    "tags": []
   },
   "outputs": [],
   "source": [
    "%%R\n",
    "\n",
    "suppressMessages(library(SeuratDisk))\n",
    "suppressMessages(library(SingleR))\n",
    "suppressMessages(library(Seurat))\n",
    "suppressMessages(library(SingleCellExperiment))\n",
    "suppressMessages(library(UCell))"
   ]
  },
  {
   "cell_type": "code",
   "execution_count": null,
   "id": "74c6b1b1-5af7-4955-a6cc-4532fc42a266",
   "metadata": {
    "execution": {
     "iopub.execute_input": "2023-05-15T09:17:04.774822Z",
     "iopub.status.busy": "2023-05-15T09:17:04.774419Z",
     "iopub.status.idle": "2023-05-15T09:17:04.960583Z",
     "shell.execute_reply": "2023-05-15T09:17:04.960107Z"
    },
    "papermill": {
     "duration": 0.190176,
     "end_time": "2023-05-15T09:17:04.962149",
     "exception": false,
     "start_time": "2023-05-15T09:17:04.771973",
     "status": "completed"
    },
    "tags": []
   },
   "outputs": [],
   "source": [
    "dataset = sc.read(f\"../../int_data/{sample_name}_qc.h5ad\")\n",
    "dataset.X = dataset.layers[\"soupX_counts\"]"
   ]
  },
  {
   "cell_type": "code",
   "execution_count": null,
   "id": "f2520f85-0ac2-4e0d-b7f1-e5b9ce4c769d",
   "metadata": {
    "execution": {
     "iopub.execute_input": "2023-05-15T09:17:04.966730Z",
     "iopub.status.busy": "2023-05-15T09:17:04.966555Z",
     "iopub.status.idle": "2023-05-15T09:17:04.972048Z",
     "shell.execute_reply": "2023-05-15T09:17:04.971720Z"
    },
    "papermill": {
     "duration": 0.008471,
     "end_time": "2023-05-15T09:17:04.972832",
     "exception": false,
     "start_time": "2023-05-15T09:17:04.964361",
     "status": "completed"
    },
    "tags": []
   },
   "outputs": [],
   "source": [
    "dataset.obs[[\"AvgSpotLen\", \"Bases\", \"Bytes\", \"version\"]] = dataset.obs[[\"AvgSpotLen\", \"Bases\", \"Bytes\", \"version\"]].astype(\"str\")"
   ]
  },
  {
   "cell_type": "code",
   "execution_count": null,
   "id": "99f95dca-cf68-4a51-8f53-ca088aa3167b",
   "metadata": {
    "execution": {
     "iopub.execute_input": "2023-05-15T09:17:04.976644Z",
     "iopub.status.busy": "2023-05-15T09:17:04.976358Z",
     "iopub.status.idle": "2023-05-15T09:17:09.979617Z",
     "shell.execute_reply": "2023-05-15T09:17:09.979119Z"
    },
    "papermill": {
     "duration": 5.006869,
     "end_time": "2023-05-15T09:17:09.981204",
     "exception": false,
     "start_time": "2023-05-15T09:17:04.974335",
     "status": "completed"
    },
    "tags": []
   },
   "outputs": [],
   "source": [
    "%%R -i dataset\n",
    "\n",
    "sce <- SingleCellExperiment(list(counts=dataset@assays@data[[\"soupX_counts\"]]),\n",
    "    colData=dataset@colData,\n",
    ")\n",
    "\n",
    "row.names(sce) <- row.names(dataset)\n",
    "\n",
    "data <- as.Seurat(sce, data = NULL)"
   ]
  },
  {
   "cell_type": "code",
   "execution_count": null,
   "id": "0b749876-ea5a-403c-8b0b-51afc8a633e3",
   "metadata": {
    "execution": {
     "iopub.execute_input": "2023-05-15T09:17:09.988317Z",
     "iopub.status.busy": "2023-05-15T09:17:09.988115Z",
     "iopub.status.idle": "2023-05-15T09:17:10.009417Z",
     "shell.execute_reply": "2023-05-15T09:17:10.009076Z"
    },
    "papermill": {
     "duration": 0.024311,
     "end_time": "2023-05-15T09:17:10.010157",
     "exception": false,
     "start_time": "2023-05-15T09:17:09.985846",
     "status": "completed"
    },
    "tags": []
   },
   "outputs": [],
   "source": [
    "%%R\n",
    "data"
   ]
  },
  {
   "cell_type": "code",
   "execution_count": null,
   "id": "b6b29b0e-92c4-4d4f-b835-c5e9d7d59455",
   "metadata": {
    "execution": {
     "iopub.execute_input": "2023-05-15T09:17:10.015265Z",
     "iopub.status.busy": "2023-05-15T09:17:10.015088Z",
     "iopub.status.idle": "2023-05-15T09:17:17.805615Z",
     "shell.execute_reply": "2023-05-15T09:17:17.805106Z"
    },
    "papermill": {
     "duration": 7.794786,
     "end_time": "2023-05-15T09:17:17.807188",
     "exception": false,
     "start_time": "2023-05-15T09:17:10.012402",
     "status": "completed"
    },
    "tags": []
   },
   "outputs": [],
   "source": [
    "%%R\n",
    "\n",
    "data <- NormalizeData(data)\n",
    "data <- ScaleData(data, features = row.names(data))\n",
    "data <- FindVariableFeatures(data)\n",
    "data <- RunPCA(data, verbose = F)\n",
    "data <- FindNeighbors(data, verbose = F)\n",
    "data <- FindClusters(data, verbose = F)\n",
    "data <- RunUMAP(data, dims = 1:20, verbose = F)"
   ]
  },
  {
   "cell_type": "code",
   "execution_count": null,
   "id": "40fa5cdd-01d7-4b40-90e6-0c97545b0711",
   "metadata": {
    "execution": {
     "iopub.execute_input": "2023-05-15T09:17:17.815755Z",
     "iopub.status.busy": "2023-05-15T09:17:17.815321Z",
     "iopub.status.idle": "2023-05-15T09:17:33.870322Z",
     "shell.execute_reply": "2023-05-15T09:17:33.869876Z"
    },
    "papermill": {
     "duration": 16.059089,
     "end_time": "2023-05-15T09:17:33.871242",
     "exception": false,
     "start_time": "2023-05-15T09:17:17.812153",
     "status": "completed"
    },
    "tags": []
   },
   "outputs": [],
   "source": [
    "%%R\n",
    "\n",
    "ref1 <- celldex::BlueprintEncodeData()\n",
    "ref2 <- celldex::MonacoImmuneData()\n",
    "cell_classification <- SingleR(test = as.SingleCellExperiment(data),\n",
    "                               ref = list(BPE = ref1, MON = ref2),\n",
    "                               labels = list(ref1$label.main, ref2$label.main))\n",
    "\n",
    "data[[\"SingleR_label\"]] <- cell_classification$labels\n",
    "\n",
    "plotScoreHeatmap(cell_classification)"
   ]
  },
  {
   "cell_type": "code",
   "execution_count": null,
   "id": "6ad7cf2f-891f-4c05-b34d-e47c84bbe27b",
   "metadata": {
    "execution": {
     "iopub.execute_input": "2023-05-15T09:17:33.881236Z",
     "iopub.status.busy": "2023-05-15T09:17:33.880901Z",
     "iopub.status.idle": "2023-05-15T09:17:34.376124Z",
     "shell.execute_reply": "2023-05-15T09:17:34.375726Z"
    },
    "papermill": {
     "duration": 0.500027,
     "end_time": "2023-05-15T09:17:34.377242",
     "exception": false,
     "start_time": "2023-05-15T09:17:33.877215",
     "status": "completed"
    },
    "tags": []
   },
   "outputs": [],
   "source": [
    "%%R -i sample_name\n",
    "\n",
    "write.csv(data@meta.data, paste0(sample_name, \"_metadata.csv\"))"
   ]
  }
 ],
 "metadata": {
  "kernelspec": {
   "display_name": "py_R",
   "language": "python",
   "name": "python_r"
  },
  "language_info": {
   "codemirror_mode": {
    "name": "ipython",
    "version": 3
   },
   "file_extension": ".py",
   "mimetype": "text/x-python",
   "name": "python",
   "nbconvert_exporter": "python",
   "pygments_lexer": "ipython3",
   "version": "3.10.9"
  },
  "papermill": {
   "default_parameters": {},
   "duration": 46.098105,
   "end_time": "2023-05-15T09:17:35.600280",
   "environment_variables": {},
   "exception": null,
   "input_path": "template.ipynb",
   "output_path": "SRR13329165.ipynb",
   "parameters": {
    "sample_name": "SRR13329165"
   },
   "start_time": "2023-05-15T09:16:49.502175",
   "version": "2.3.4"
  }
 },
 "nbformat": 4,
 "nbformat_minor": 5
}
