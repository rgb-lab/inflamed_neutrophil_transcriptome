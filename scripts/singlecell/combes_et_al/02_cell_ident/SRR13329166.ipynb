{
 "cells": [
  {
   "cell_type": "code",
   "execution_count": null,
   "id": "78a6243e-1906-4e3b-ae98-4b5bd21bd37c",
   "metadata": {
    "execution": {
     "iopub.execute_input": "2023-05-15T09:32:57.745935Z",
     "iopub.status.busy": "2023-05-15T09:32:57.745754Z",
     "iopub.status.idle": "2023-05-15T09:32:57.754450Z",
     "shell.execute_reply": "2023-05-15T09:32:57.754122Z"
    },
    "papermill": {
     "duration": 0.013839,
     "end_time": "2023-05-15T09:32:57.757002",
     "exception": false,
     "start_time": "2023-05-15T09:32:57.743163",
     "status": "completed"
    },
    "tags": [
     "parameters"
    ]
   },
   "outputs": [],
   "source": [
    "sample_name = \"SRR13329143\""
   ]
  },
  {
   "cell_type": "code",
   "execution_count": null,
   "id": "dab0f2b4",
   "metadata": {
    "execution": {
     "iopub.execute_input": "2023-05-15T09:32:57.760958Z",
     "iopub.status.busy": "2023-05-15T09:32:57.760747Z",
     "iopub.status.idle": "2023-05-15T09:32:57.762681Z",
     "shell.execute_reply": "2023-05-15T09:32:57.762367Z"
    },
    "papermill": {
     "duration": 0.004713,
     "end_time": "2023-05-15T09:32:57.763478",
     "exception": false,
     "start_time": "2023-05-15T09:32:57.758765",
     "status": "completed"
    },
    "tags": [
     "injected-parameters"
    ]
   },
   "outputs": [],
   "source": [
    "# Parameters\n",
    "sample_name = \"SRR13329166\"\n"
   ]
  },
  {
   "cell_type": "code",
   "execution_count": null,
   "id": "487588d5-40a0-4c35-9cd9-ee9b3e2f1d4e",
   "metadata": {
    "execution": {
     "iopub.execute_input": "2023-05-15T09:32:57.766860Z",
     "iopub.status.busy": "2023-05-15T09:32:57.766625Z",
     "iopub.status.idle": "2023-05-15T09:32:57.769027Z",
     "shell.execute_reply": "2023-05-15T09:32:57.768715Z"
    },
    "papermill": {
     "duration": 0.004974,
     "end_time": "2023-05-15T09:32:57.769834",
     "exception": false,
     "start_time": "2023-05-15T09:32:57.764860",
     "status": "completed"
    },
    "tags": []
   },
   "outputs": [],
   "source": [
    "import warnings\n",
    "warnings.simplefilter(action='ignore', category=FutureWarning)\n",
    "warnings.simplefilter(action='ignore', category=UserWarning)"
   ]
  },
  {
   "cell_type": "code",
   "execution_count": null,
   "id": "5bba6a57-54cf-4720-8653-bf94afa536ad",
   "metadata": {
    "execution": {
     "iopub.execute_input": "2023-05-15T09:32:57.773352Z",
     "iopub.status.busy": "2023-05-15T09:32:57.773126Z",
     "iopub.status.idle": "2023-05-15T09:33:02.725549Z",
     "shell.execute_reply": "2023-05-15T09:33:02.725057Z"
    },
    "papermill": {
     "duration": 4.955745,
     "end_time": "2023-05-15T09:33:02.727021",
     "exception": false,
     "start_time": "2023-05-15T09:32:57.771276",
     "status": "completed"
    },
    "tags": []
   },
   "outputs": [],
   "source": [
    "import gc\n",
    "import scanpy as sc\n",
    "import muon as mu\n",
    "import seaborn as sns\n",
    "import os\n",
    "import pandas as pd\n",
    "from matplotlib import pyplot as plt\n",
    "\n",
    "os.environ['R_HOME'] = '/gpfs/bwfor/work/ws/hd_fu399-conda/conda/envs/python_R/lib/R/'\n",
    "import anndata2ri\n",
    "import logging\n",
    "\n",
    "import rpy2.rinterface_lib.callbacks as rcb\n",
    "import rpy2.robjects as ro\n",
    "\n",
    "rcb.logger.setLevel(logging.ERROR)\n",
    "ro.pandas2ri.activate()\n",
    "anndata2ri.activate()\n",
    "\n",
    "%load_ext rpy2.ipython"
   ]
  },
  {
   "cell_type": "code",
   "execution_count": null,
   "id": "0897f8ed-b086-4ddc-a32e-6ae638ff6d14",
   "metadata": {
    "execution": {
     "iopub.execute_input": "2023-05-15T09:33:02.733614Z",
     "iopub.status.busy": "2023-05-15T09:33:02.733265Z",
     "iopub.status.idle": "2023-05-15T09:33:16.192599Z",
     "shell.execute_reply": "2023-05-15T09:33:16.192011Z"
    },
    "papermill": {
     "duration": 13.463135,
     "end_time": "2023-05-15T09:33:16.194068",
     "exception": false,
     "start_time": "2023-05-15T09:33:02.730933",
     "status": "completed"
    },
    "tags": []
   },
   "outputs": [],
   "source": [
    "%%R\n",
    "\n",
    "suppressMessages(library(SeuratDisk))\n",
    "suppressMessages(library(SingleR))\n",
    "suppressMessages(library(Seurat))\n",
    "suppressMessages(library(SingleCellExperiment))\n",
    "suppressMessages(library(UCell))"
   ]
  },
  {
   "cell_type": "code",
   "execution_count": null,
   "id": "74c6b1b1-5af7-4955-a6cc-4532fc42a266",
   "metadata": {
    "execution": {
     "iopub.execute_input": "2023-05-15T09:33:16.211755Z",
     "iopub.status.busy": "2023-05-15T09:33:16.211601Z",
     "iopub.status.idle": "2023-05-15T09:33:16.496032Z",
     "shell.execute_reply": "2023-05-15T09:33:16.495562Z"
    },
    "papermill": {
     "duration": 0.288211,
     "end_time": "2023-05-15T09:33:16.497463",
     "exception": false,
     "start_time": "2023-05-15T09:33:16.209252",
     "status": "completed"
    },
    "tags": []
   },
   "outputs": [],
   "source": [
    "dataset = sc.read(f\"../../int_data/{sample_name}_qc.h5ad\")\n",
    "dataset.X = dataset.layers[\"soupX_counts\"]"
   ]
  },
  {
   "cell_type": "code",
   "execution_count": null,
   "id": "f2520f85-0ac2-4e0d-b7f1-e5b9ce4c769d",
   "metadata": {
    "execution": {
     "iopub.execute_input": "2023-05-15T09:33:16.502054Z",
     "iopub.status.busy": "2023-05-15T09:33:16.501862Z",
     "iopub.status.idle": "2023-05-15T09:33:16.507623Z",
     "shell.execute_reply": "2023-05-15T09:33:16.507297Z"
    },
    "papermill": {
     "duration": 0.008785,
     "end_time": "2023-05-15T09:33:16.508428",
     "exception": false,
     "start_time": "2023-05-15T09:33:16.499643",
     "status": "completed"
    },
    "tags": []
   },
   "outputs": [],
   "source": [
    "dataset.obs[[\"AvgSpotLen\", \"Bases\", \"Bytes\", \"version\"]] = dataset.obs[[\"AvgSpotLen\", \"Bases\", \"Bytes\", \"version\"]].astype(\"str\")"
   ]
  },
  {
   "cell_type": "code",
   "execution_count": null,
   "id": "99f95dca-cf68-4a51-8f53-ca088aa3167b",
   "metadata": {
    "execution": {
     "iopub.execute_input": "2023-05-15T09:33:16.512117Z",
     "iopub.status.busy": "2023-05-15T09:33:16.511955Z",
     "iopub.status.idle": "2023-05-15T09:33:26.583804Z",
     "shell.execute_reply": "2023-05-15T09:33:26.583309Z"
    },
    "papermill": {
     "duration": 10.075051,
     "end_time": "2023-05-15T09:33:26.585046",
     "exception": false,
     "start_time": "2023-05-15T09:33:16.509995",
     "status": "completed"
    },
    "tags": []
   },
   "outputs": [],
   "source": [
    "%%R -i dataset\n",
    "\n",
    "sce <- SingleCellExperiment(list(counts=dataset@assays@data[[\"soupX_counts\"]]),\n",
    "    colData=dataset@colData,\n",
    ")\n",
    "\n",
    "row.names(sce) <- row.names(dataset)\n",
    "\n",
    "data <- as.Seurat(sce, data = NULL)"
   ]
  },
  {
   "cell_type": "code",
   "execution_count": null,
   "id": "0b749876-ea5a-403c-8b0b-51afc8a633e3",
   "metadata": {
    "execution": {
     "iopub.execute_input": "2023-05-15T09:33:26.591054Z",
     "iopub.status.busy": "2023-05-15T09:33:26.590776Z",
     "iopub.status.idle": "2023-05-15T09:33:36.038116Z",
     "shell.execute_reply": "2023-05-15T09:33:36.037613Z"
    },
    "papermill": {
     "duration": 9.450803,
     "end_time": "2023-05-15T09:33:36.039437",
     "exception": false,
     "start_time": "2023-05-15T09:33:26.588634",
     "status": "completed"
    },
    "tags": []
   },
   "outputs": [],
   "source": [
    "%%R\n",
    "data"
   ]
  },
  {
   "cell_type": "code",
   "execution_count": null,
   "id": "b6b29b0e-92c4-4d4f-b835-c5e9d7d59455",
   "metadata": {
    "execution": {
     "iopub.execute_input": "2023-05-15T09:33:36.047266Z",
     "iopub.status.busy": "2023-05-15T09:33:36.046992Z",
     "iopub.status.idle": "2023-05-15T09:33:46.471258Z",
     "shell.execute_reply": "2023-05-15T09:33:46.470547Z"
    },
    "papermill": {
     "duration": 10.428965,
     "end_time": "2023-05-15T09:33:46.472859",
     "exception": false,
     "start_time": "2023-05-15T09:33:36.043894",
     "status": "completed"
    },
    "tags": []
   },
   "outputs": [],
   "source": [
    "%%R\n",
    "\n",
    "data <- NormalizeData(data)\n",
    "data <- ScaleData(data, features = row.names(data))\n",
    "data <- FindVariableFeatures(data)\n",
    "data <- RunPCA(data, verbose = F)\n",
    "data <- FindNeighbors(data, verbose = F)\n",
    "data <- FindClusters(data, verbose = F)\n",
    "data <- RunUMAP(data, dims = 1:20, verbose = F)"
   ]
  },
  {
   "cell_type": "code",
   "execution_count": null,
   "id": "40fa5cdd-01d7-4b40-90e6-0c97545b0711",
   "metadata": {
    "execution": {
     "iopub.execute_input": "2023-05-15T09:33:46.480953Z",
     "iopub.status.busy": "2023-05-15T09:33:46.480548Z",
     "iopub.status.idle": "2023-05-15T09:34:34.552906Z",
     "shell.execute_reply": "2023-05-15T09:34:34.552435Z"
    },
    "papermill": {
     "duration": 48.081411,
     "end_time": "2023-05-15T09:34:34.558870",
     "exception": false,
     "start_time": "2023-05-15T09:33:46.477459",
     "status": "completed"
    },
    "tags": []
   },
   "outputs": [],
   "source": [
    "%%R\n",
    "\n",
    "ref1 <- celldex::BlueprintEncodeData()\n",
    "ref2 <- celldex::MonacoImmuneData()\n",
    "cell_classification <- SingleR(test = as.SingleCellExperiment(data),\n",
    "                               ref = list(BPE = ref1, MON = ref2),\n",
    "                               labels = list(ref1$label.main, ref2$label.main))\n",
    "\n",
    "data[[\"SingleR_label\"]] <- cell_classification$labels\n",
    "\n",
    "plotScoreHeatmap(cell_classification)"
   ]
  },
  {
   "cell_type": "code",
   "execution_count": null,
   "id": "6ad7cf2f-891f-4c05-b34d-e47c84bbe27b",
   "metadata": {
    "execution": {
     "iopub.execute_input": "2023-05-15T09:34:34.565962Z",
     "iopub.status.busy": "2023-05-15T09:34:34.565765Z",
     "iopub.status.idle": "2023-05-15T09:34:35.036257Z",
     "shell.execute_reply": "2023-05-15T09:34:35.035820Z"
    },
    "papermill": {
     "duration": 0.475384,
     "end_time": "2023-05-15T09:34:35.037427",
     "exception": false,
     "start_time": "2023-05-15T09:34:34.562043",
     "status": "completed"
    },
    "tags": []
   },
   "outputs": [],
   "source": [
    "%%R -i sample_name\n",
    "\n",
    "write.csv(data@meta.data, paste0(sample_name, \"_metadata.csv\"))"
   ]
  }
 ],
 "metadata": {
  "kernelspec": {
   "display_name": "py_R",
   "language": "python",
   "name": "python_r"
  },
  "language_info": {
   "codemirror_mode": {
    "name": "ipython",
    "version": 3
   },
   "file_extension": ".py",
   "mimetype": "text/x-python",
   "name": "python",
   "nbconvert_exporter": "python",
   "pygments_lexer": "ipython3",
   "version": "3.10.9"
  },
  "papermill": {
   "default_parameters": {},
   "duration": 99.661926,
   "end_time": "2023-05-15T09:34:36.258858",
   "environment_variables": {},
   "exception": null,
   "input_path": "template.ipynb",
   "output_path": "SRR13329166.ipynb",
   "parameters": {
    "sample_name": "SRR13329166"
   },
   "start_time": "2023-05-15T09:32:56.596932",
   "version": "2.3.4"
  }
 },
 "nbformat": 4,
 "nbformat_minor": 5
}
