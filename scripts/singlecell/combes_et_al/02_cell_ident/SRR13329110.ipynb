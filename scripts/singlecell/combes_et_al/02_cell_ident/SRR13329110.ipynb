{
 "cells": [
  {
   "cell_type": "code",
   "execution_count": null,
   "id": "78a6243e-1906-4e3b-ae98-4b5bd21bd37c",
   "metadata": {
    "execution": {
     "iopub.execute_input": "2023-05-15T08:43:06.670471Z",
     "iopub.status.busy": "2023-05-15T08:43:06.670233Z",
     "iopub.status.idle": "2023-05-15T08:43:06.675297Z",
     "shell.execute_reply": "2023-05-15T08:43:06.674980Z"
    },
    "papermill": {
     "duration": 0.009317,
     "end_time": "2023-05-15T08:43:06.676153",
     "exception": false,
     "start_time": "2023-05-15T08:43:06.666836",
     "status": "completed"
    },
    "tags": [
     "parameters"
    ]
   },
   "outputs": [],
   "source": [
    "sample_name = \"SRR13329143\""
   ]
  },
  {
   "cell_type": "code",
   "execution_count": null,
   "id": "b9c944f3",
   "metadata": {
    "execution": {
     "iopub.execute_input": "2023-05-15T08:43:06.679904Z",
     "iopub.status.busy": "2023-05-15T08:43:06.679687Z",
     "iopub.status.idle": "2023-05-15T08:43:06.682494Z",
     "shell.execute_reply": "2023-05-15T08:43:06.682191Z"
    },
    "papermill": {
     "duration": 0.005575,
     "end_time": "2023-05-15T08:43:06.683384",
     "exception": false,
     "start_time": "2023-05-15T08:43:06.677809",
     "status": "completed"
    },
    "tags": [
     "injected-parameters"
    ]
   },
   "outputs": [],
   "source": [
    "# Parameters\n",
    "sample_name = \"SRR13329110\"\n"
   ]
  },
  {
   "cell_type": "code",
   "execution_count": null,
   "id": "487588d5-40a0-4c35-9cd9-ee9b3e2f1d4e",
   "metadata": {
    "execution": {
     "iopub.execute_input": "2023-05-15T08:43:06.687237Z",
     "iopub.status.busy": "2023-05-15T08:43:06.686933Z",
     "iopub.status.idle": "2023-05-15T08:43:06.689280Z",
     "shell.execute_reply": "2023-05-15T08:43:06.688976Z"
    },
    "papermill": {
     "duration": 0.00499,
     "end_time": "2023-05-15T08:43:06.690078",
     "exception": false,
     "start_time": "2023-05-15T08:43:06.685088",
     "status": "completed"
    },
    "tags": []
   },
   "outputs": [],
   "source": [
    "import warnings\n",
    "warnings.simplefilter(action='ignore', category=FutureWarning)\n",
    "warnings.simplefilter(action='ignore', category=UserWarning)"
   ]
  },
  {
   "cell_type": "code",
   "execution_count": null,
   "id": "5bba6a57-54cf-4720-8653-bf94afa536ad",
   "metadata": {
    "execution": {
     "iopub.execute_input": "2023-05-15T08:43:06.693670Z",
     "iopub.status.busy": "2023-05-15T08:43:06.693497Z",
     "iopub.status.idle": "2023-05-15T08:43:11.013522Z",
     "shell.execute_reply": "2023-05-15T08:43:11.012981Z"
    },
    "papermill": {
     "duration": 4.323767,
     "end_time": "2023-05-15T08:43:11.015343",
     "exception": false,
     "start_time": "2023-05-15T08:43:06.691576",
     "status": "completed"
    },
    "tags": []
   },
   "outputs": [],
   "source": [
    "import gc\n",
    "import scanpy as sc\n",
    "import muon as mu\n",
    "import seaborn as sns\n",
    "import os\n",
    "import pandas as pd\n",
    "from matplotlib import pyplot as plt\n",
    "\n",
    "os.environ['R_HOME'] = '/gpfs/bwfor/work/ws/hd_fu399-conda/conda/envs/python_R/lib/R/'\n",
    "import anndata2ri\n",
    "import logging\n",
    "\n",
    "import rpy2.rinterface_lib.callbacks as rcb\n",
    "import rpy2.robjects as ro\n",
    "\n",
    "rcb.logger.setLevel(logging.ERROR)\n",
    "ro.pandas2ri.activate()\n",
    "anndata2ri.activate()\n",
    "\n",
    "%load_ext rpy2.ipython"
   ]
  },
  {
   "cell_type": "code",
   "execution_count": null,
   "id": "0897f8ed-b086-4ddc-a32e-6ae638ff6d14",
   "metadata": {
    "execution": {
     "iopub.execute_input": "2023-05-15T08:43:11.020113Z",
     "iopub.status.busy": "2023-05-15T08:43:11.019760Z",
     "iopub.status.idle": "2023-05-15T08:43:20.042509Z",
     "shell.execute_reply": "2023-05-15T08:43:20.041895Z"
    },
    "papermill": {
     "duration": 9.026691,
     "end_time": "2023-05-15T08:43:20.044030",
     "exception": false,
     "start_time": "2023-05-15T08:43:11.017339",
     "status": "completed"
    },
    "tags": []
   },
   "outputs": [],
   "source": [
    "%%R\n",
    "\n",
    "suppressMessages(library(SeuratDisk))\n",
    "suppressMessages(library(SingleR))\n",
    "suppressMessages(library(Seurat))\n",
    "suppressMessages(library(SingleCellExperiment))\n",
    "suppressMessages(library(UCell))"
   ]
  },
  {
   "cell_type": "code",
   "execution_count": null,
   "id": "74c6b1b1-5af7-4955-a6cc-4532fc42a266",
   "metadata": {
    "execution": {
     "iopub.execute_input": "2023-05-15T08:43:20.054053Z",
     "iopub.status.busy": "2023-05-15T08:43:20.053845Z",
     "iopub.status.idle": "2023-05-15T08:43:20.816401Z",
     "shell.execute_reply": "2023-05-15T08:43:20.815857Z"
    },
    "papermill": {
     "duration": 0.767012,
     "end_time": "2023-05-15T08:43:20.817770",
     "exception": false,
     "start_time": "2023-05-15T08:43:20.050758",
     "status": "completed"
    },
    "tags": []
   },
   "outputs": [],
   "source": [
    "dataset = sc.read(f\"../../int_data/{sample_name}_qc.h5ad\")\n",
    "dataset.X = dataset.layers[\"soupX_counts\"]"
   ]
  },
  {
   "cell_type": "code",
   "execution_count": null,
   "id": "f2520f85-0ac2-4e0d-b7f1-e5b9ce4c769d",
   "metadata": {
    "execution": {
     "iopub.execute_input": "2023-05-15T08:43:20.822889Z",
     "iopub.status.busy": "2023-05-15T08:43:20.822556Z",
     "iopub.status.idle": "2023-05-15T08:43:20.831187Z",
     "shell.execute_reply": "2023-05-15T08:43:20.830840Z"
    },
    "papermill": {
     "duration": 0.012156,
     "end_time": "2023-05-15T08:43:20.832010",
     "exception": false,
     "start_time": "2023-05-15T08:43:20.819854",
     "status": "completed"
    },
    "tags": []
   },
   "outputs": [],
   "source": [
    "dataset.obs[[\"AvgSpotLen\", \"Bases\", \"Bytes\", \"version\"]] = dataset.obs[[\"AvgSpotLen\", \"Bases\", \"Bytes\", \"version\"]].astype(\"str\")"
   ]
  },
  {
   "cell_type": "code",
   "execution_count": null,
   "id": "99f95dca-cf68-4a51-8f53-ca088aa3167b",
   "metadata": {
    "execution": {
     "iopub.execute_input": "2023-05-15T08:43:20.836137Z",
     "iopub.status.busy": "2023-05-15T08:43:20.835975Z",
     "iopub.status.idle": "2023-05-15T08:43:29.564748Z",
     "shell.execute_reply": "2023-05-15T08:43:29.564151Z"
    },
    "papermill": {
     "duration": 8.732896,
     "end_time": "2023-05-15T08:43:29.566685",
     "exception": false,
     "start_time": "2023-05-15T08:43:20.833789",
     "status": "completed"
    },
    "tags": []
   },
   "outputs": [],
   "source": [
    "%%R -i dataset\n",
    "\n",
    "sce <- SingleCellExperiment(list(counts=dataset@assays@data[[\"soupX_counts\"]]),\n",
    "    colData=dataset@colData,\n",
    ")\n",
    "\n",
    "row.names(sce) <- row.names(dataset)\n",
    "\n",
    "data <- as.Seurat(sce, data = NULL)"
   ]
  },
  {
   "cell_type": "code",
   "execution_count": null,
   "id": "0b749876-ea5a-403c-8b0b-51afc8a633e3",
   "metadata": {
    "execution": {
     "iopub.execute_input": "2023-05-15T08:43:29.576605Z",
     "iopub.status.busy": "2023-05-15T08:43:29.576312Z",
     "iopub.status.idle": "2023-05-15T08:43:29.596673Z",
     "shell.execute_reply": "2023-05-15T08:43:29.596346Z"
    },
    "papermill": {
     "duration": 0.024525,
     "end_time": "2023-05-15T08:43:29.597446",
     "exception": false,
     "start_time": "2023-05-15T08:43:29.572921",
     "status": "completed"
    },
    "tags": []
   },
   "outputs": [],
   "source": [
    "%%R\n",
    "data"
   ]
  },
  {
   "cell_type": "code",
   "execution_count": null,
   "id": "b6b29b0e-92c4-4d4f-b835-c5e9d7d59455",
   "metadata": {
    "execution": {
     "iopub.execute_input": "2023-05-15T08:43:29.603188Z",
     "iopub.status.busy": "2023-05-15T08:43:29.603054Z",
     "iopub.status.idle": "2023-05-15T08:43:45.734492Z",
     "shell.execute_reply": "2023-05-15T08:43:45.733992Z"
    },
    "papermill": {
     "duration": 16.136146,
     "end_time": "2023-05-15T08:43:45.736246",
     "exception": false,
     "start_time": "2023-05-15T08:43:29.600100",
     "status": "completed"
    },
    "tags": []
   },
   "outputs": [],
   "source": [
    "%%R\n",
    "\n",
    "data <- NormalizeData(data)\n",
    "data <- ScaleData(data, features = row.names(data))\n",
    "data <- FindVariableFeatures(data)\n",
    "data <- RunPCA(data, verbose = F)\n",
    "data <- FindNeighbors(data, verbose = F)\n",
    "data <- FindClusters(data, verbose = F)\n",
    "data <- RunUMAP(data, dims = 1:20, verbose = F)"
   ]
  },
  {
   "cell_type": "code",
   "execution_count": null,
   "id": "40fa5cdd-01d7-4b40-90e6-0c97545b0711",
   "metadata": {
    "execution": {
     "iopub.execute_input": "2023-05-15T08:43:45.746227Z",
     "iopub.status.busy": "2023-05-15T08:43:45.746078Z",
     "iopub.status.idle": "2023-05-15T08:45:00.924565Z",
     "shell.execute_reply": "2023-05-15T08:45:00.924008Z"
    },
    "papermill": {
     "duration": 75.183378,
     "end_time": "2023-05-15T08:45:00.925915",
     "exception": false,
     "start_time": "2023-05-15T08:43:45.742537",
     "status": "completed"
    },
    "tags": []
   },
   "outputs": [],
   "source": [
    "%%R\n",
    "\n",
    "ref1 <- celldex::BlueprintEncodeData()\n",
    "ref2 <- celldex::MonacoImmuneData()\n",
    "cell_classification <- SingleR(test = as.SingleCellExperiment(data),\n",
    "                               ref = list(BPE = ref1, MON = ref2),\n",
    "                               labels = list(ref1$label.main, ref2$label.main))\n",
    "\n",
    "data[[\"SingleR_label\"]] <- cell_classification$labels\n",
    "\n",
    "plotScoreHeatmap(cell_classification)"
   ]
  },
  {
   "cell_type": "code",
   "execution_count": null,
   "id": "6ad7cf2f-891f-4c05-b34d-e47c84bbe27b",
   "metadata": {
    "execution": {
     "iopub.execute_input": "2023-05-15T08:45:00.934612Z",
     "iopub.status.busy": "2023-05-15T08:45:00.934319Z",
     "iopub.status.idle": "2023-05-15T08:45:06.752328Z",
     "shell.execute_reply": "2023-05-15T08:45:06.751851Z"
    },
    "papermill": {
     "duration": 5.824178,
     "end_time": "2023-05-15T08:45:06.753954",
     "exception": false,
     "start_time": "2023-05-15T08:45:00.929776",
     "status": "completed"
    },
    "tags": []
   },
   "outputs": [],
   "source": [
    "%%R -i sample_name\n",
    "\n",
    "write.csv(data@meta.data, paste0(sample_name, \"_metadata.csv\"))"
   ]
  }
 ],
 "metadata": {
  "kernelspec": {
   "display_name": "py_R",
   "language": "python",
   "name": "python_r"
  },
  "language_info": {
   "codemirror_mode": {
    "name": "ipython",
    "version": 3
   },
   "file_extension": ".py",
   "mimetype": "text/x-python",
   "name": "python",
   "nbconvert_exporter": "python",
   "pygments_lexer": "ipython3",
   "version": "3.10.9"
  },
  "papermill": {
   "default_parameters": {},
   "duration": 123.521387,
   "end_time": "2023-05-15T08:45:09.487697",
   "environment_variables": {},
   "exception": null,
   "input_path": "template.ipynb",
   "output_path": "SRR13329110.ipynb",
   "parameters": {
    "sample_name": "SRR13329110"
   },
   "start_time": "2023-05-15T08:43:05.966310",
   "version": "2.3.4"
  }
 },
 "nbformat": 4,
 "nbformat_minor": 5
}
