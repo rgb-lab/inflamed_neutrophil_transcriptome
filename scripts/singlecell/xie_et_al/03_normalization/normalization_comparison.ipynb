{
 "cells": [
  {
   "cell_type": "code",
   "execution_count": null,
   "id": "9b35177d-116c-465b-8255-3b1cfe4c249c",
   "metadata": {
    "execution": {
     "iopub.execute_input": "2023-06-06T12:26:22.648651Z",
     "iopub.status.busy": "2023-06-06T12:26:22.648292Z",
     "iopub.status.idle": "2023-06-06T12:26:58.463977Z",
     "shell.execute_reply": "2023-06-06T12:26:58.463409Z"
    },
    "papermill": {
     "duration": 35.835108,
     "end_time": "2023-06-06T12:26:58.465448",
     "exception": false,
     "start_time": "2023-06-06T12:26:22.630340",
     "status": "completed"
    },
    "tags": []
   },
   "outputs": [],
   "source": [
    "import scanpy as sc\n",
    "import muon as mu\n",
    "import pandas as pd\n",
    "\n",
    "import os\n",
    "os.environ['R_HOME'] = '/gpfs/bwfor/work/ws/hd_fu399-conda/conda/envs/python_R/lib/R/'\n",
    "import anndata2ri\n",
    "import logging\n",
    "from matplotlib import pyplot as plt\n",
    "import seaborn as sns\n",
    "\n",
    "import rpy2.rinterface_lib.callbacks as rcb\n",
    "import rpy2.robjects as ro\n",
    "\n",
    "rcb.logger.setLevel(logging.ERROR)\n",
    "ro.pandas2ri.activate()\n",
    "anndata2ri.activate()\n",
    "\n",
    "%load_ext rpy2.ipython"
   ]
  },
  {
   "cell_type": "code",
   "execution_count": null,
   "id": "e4993c10-e558-4845-a802-83a8044c95b7",
   "metadata": {
    "execution": {
     "iopub.execute_input": "2023-06-06T12:26:58.515598Z",
     "iopub.status.busy": "2023-06-06T12:26:58.515059Z",
     "iopub.status.idle": "2023-06-06T12:27:11.892467Z",
     "shell.execute_reply": "2023-06-06T12:27:11.891859Z"
    },
    "papermill": {
     "duration": 13.382263,
     "end_time": "2023-06-06T12:27:11.893937",
     "exception": false,
     "start_time": "2023-06-06T12:26:58.511674",
     "status": "completed"
    },
    "tags": []
   },
   "outputs": [],
   "source": [
    "%%R\n",
    "library(Seurat)\n",
    "library(scran)\n",
    "library(BiocParallel)\n",
    "library(sctransform)"
   ]
  },
  {
   "cell_type": "code",
   "execution_count": null,
   "id": "052135a9-3a2c-4064-ad5d-bf56d615ae7c",
   "metadata": {
    "execution": {
     "iopub.execute_input": "2023-06-06T12:27:11.904751Z",
     "iopub.status.busy": "2023-06-06T12:27:11.904590Z",
     "iopub.status.idle": "2023-06-06T12:27:14.275034Z",
     "shell.execute_reply": "2023-06-06T12:27:14.274522Z"
    },
    "papermill": {
     "duration": 2.375284,
     "end_time": "2023-06-06T12:27:14.276336",
     "exception": false,
     "start_time": "2023-06-06T12:27:11.901052",
     "status": "completed"
    },
    "tags": []
   },
   "outputs": [],
   "source": [
    "dataset = sc.read(\"../../int_data/dataset_qc.h5ad\")\n",
    "dataset.obs[[\"AvgSpotLen\", \"Bases\", \"Bytes\", \"version\"]] = dataset.obs[[\"AvgSpotLen\", \"Bases\", \"Bytes\", \"version\"]].astype(\"str\")"
   ]
  },
  {
   "cell_type": "code",
   "execution_count": null,
   "id": "2fada67a-a863-4168-bb55-d1050a588c0b",
   "metadata": {
    "execution": {
     "iopub.execute_input": "2023-06-06T12:27:14.294899Z",
     "iopub.status.busy": "2023-06-06T12:27:14.294686Z",
     "iopub.status.idle": "2023-06-06T12:27:16.412079Z",
     "shell.execute_reply": "2023-06-06T12:27:16.411607Z"
    },
    "papermill": {
     "duration": 2.122128,
     "end_time": "2023-06-06T12:27:16.413407",
     "exception": false,
     "start_time": "2023-06-06T12:27:14.291279",
     "status": "completed"
    },
    "tags": []
   },
   "outputs": [],
   "source": [
    "dataset.X = dataset.layers[\"soupX_counts\"]\n",
    "sc.pp.filter_genes(dataset, min_cells = 5)"
   ]
  },
  {
   "cell_type": "code",
   "execution_count": null,
   "id": "3c535ff8-43af-442d-b55e-e96d11a2a67b",
   "metadata": {
    "execution": {
     "iopub.execute_input": "2023-06-06T12:27:16.421594Z",
     "iopub.status.busy": "2023-06-06T12:27:16.421455Z",
     "iopub.status.idle": "2023-06-06T12:27:18.759064Z",
     "shell.execute_reply": "2023-06-06T12:27:18.758591Z"
    },
    "papermill": {
     "duration": 2.34212,
     "end_time": "2023-06-06T12:27:18.760405",
     "exception": false,
     "start_time": "2023-06-06T12:27:16.418285",
     "status": "completed"
    },
    "tags": []
   },
   "outputs": [],
   "source": [
    "proportional_fitting = sc.pp.normalize_total(dataset, target_sum = 1e4, inplace = False)\n",
    "dataset.layers[\"log1pPF_normalization\"] = sc.pp.log1p(proportional_fitting[\"X\"])\n",
    "dataset.layers[\"PFlog1PF_normalization\"] = sc.pp.normalize_total(dataset, target_sum = None, layer = \"log1pPF_normalization\", inplace = False)[\"X\"]"
   ]
  },
  {
   "cell_type": "code",
   "execution_count": null,
   "id": "69de6f1b-7743-4e13-a630-dff5f261328c",
   "metadata": {
    "execution": {
     "iopub.execute_input": "2023-06-06T12:27:18.766816Z",
     "iopub.status.busy": "2023-06-06T12:27:18.766639Z",
     "iopub.status.idle": "2023-06-06T12:27:18.769188Z",
     "shell.execute_reply": "2023-06-06T12:27:18.768843Z"
    },
    "papermill": {
     "duration": 0.006462,
     "end_time": "2023-06-06T12:27:18.770004",
     "exception": false,
     "start_time": "2023-06-06T12:27:18.763542",
     "status": "completed"
    },
    "tags": []
   },
   "outputs": [],
   "source": [
    "from scipy.sparse import csr_matrix, issparse"
   ]
  },
  {
   "cell_type": "code",
   "execution_count": null,
   "id": "4f8f684f-bc1c-46b3-8d46-656621204678",
   "metadata": {
    "execution": {
     "iopub.execute_input": "2023-06-06T12:27:18.775405Z",
     "iopub.status.busy": "2023-06-06T12:27:18.775244Z",
     "iopub.status.idle": "2023-06-06T12:29:06.931978Z",
     "shell.execute_reply": "2023-06-06T12:29:06.931268Z"
    },
    "papermill": {
     "duration": 108.161015,
     "end_time": "2023-06-06T12:29:06.933415",
     "exception": false,
     "start_time": "2023-06-06T12:27:18.772400",
     "status": "completed"
    },
    "tags": []
   },
   "outputs": [],
   "source": [
    "adata_pp = dataset.copy()\n",
    "sc.pp.normalize_per_cell(adata_pp, counts_per_cell_after=1e6)\n",
    "sc.pp.log1p(adata_pp)\n",
    "sc.pp.pca(adata_pp, n_comps=15)\n",
    "sc.pp.neighbors(adata_pp)\n",
    "sc.tl.leiden(adata_pp, key_added=\"groups\")\n",
    "\n",
    "data_mat = adata_pp.X.T\n",
    "input_groups = adata_pp.obs[\"groups\"]\n",
    "\n",
    "# convert to CSC if possible. See https://github.com/MarioniLab/scran/issues/70\n",
    "if issparse(data_mat):\n",
    "    if data_mat.nnz > 2**31 - 1:\n",
    "        data_mat = data_mat.tocoo()\n",
    "    else:\n",
    "        data_mat = data_mat.tocsc()"
   ]
  },
  {
   "cell_type": "code",
   "execution_count": null,
   "id": "a506fec6-ebca-4798-ad9c-5cacbcadbbc8",
   "metadata": {
    "execution": {
     "iopub.execute_input": "2023-06-06T12:29:06.957547Z",
     "iopub.status.busy": "2023-06-06T12:29:06.957361Z",
     "iopub.status.idle": "2023-06-06T12:29:59.363922Z",
     "shell.execute_reply": "2023-06-06T12:29:59.363242Z"
    },
    "papermill": {
     "duration": 52.411185,
     "end_time": "2023-06-06T12:29:59.365371",
     "exception": false,
     "start_time": "2023-06-06T12:29:06.954186",
     "status": "completed"
    },
    "tags": []
   },
   "outputs": [],
   "source": [
    "%%R -i data_mat -i input_groups -o size_factors\n",
    "\n",
    "size_factors = sizeFactors(\n",
    "    computeSumFactors(\n",
    "        SingleCellExperiment(\n",
    "            list(counts=data_mat)), \n",
    "            clusters = input_groups,\n",
    "            min.mean = 0.1,\n",
    "            BPPARAM = MulticoreParam()\n",
    "    )\n",
    ")"
   ]
  },
  {
   "cell_type": "code",
   "execution_count": null,
   "id": "5533b6ee-ec7d-4f92-8a59-5620b367d5dc",
   "metadata": {
    "execution": {
     "iopub.execute_input": "2023-06-06T12:29:59.387532Z",
     "iopub.status.busy": "2023-06-06T12:29:59.387154Z",
     "iopub.status.idle": "2023-06-06T12:30:16.056864Z",
     "shell.execute_reply": "2023-06-06T12:30:16.056198Z"
    },
    "papermill": {
     "duration": 16.674785,
     "end_time": "2023-06-06T12:30:16.058401",
     "exception": false,
     "start_time": "2023-06-06T12:29:59.383616",
     "status": "completed"
    },
    "tags": []
   },
   "outputs": [],
   "source": [
    "dataset.obs[\"size_factors\"] = size_factors\n",
    "dataset.X = dataset.layers[\"soupX_counts\"]\n",
    "scran = dataset.X / dataset.obs[\"size_factors\"].values[:, None]\n",
    "dataset.layers[\"scran_normalization\"] = csr_matrix(sc.pp.log1p(scran))"
   ]
  },
  {
   "cell_type": "code",
   "execution_count": null,
   "id": "6e99698c-9567-4225-b059-d2611f62a479",
   "metadata": {
    "execution": {
     "iopub.execute_input": "2023-06-06T12:30:16.067307Z",
     "iopub.status.busy": "2023-06-06T12:30:16.066958Z",
     "iopub.status.idle": "2023-06-06T12:30:16.891330Z",
     "shell.execute_reply": "2023-06-06T12:30:16.890832Z"
    },
    "papermill": {
     "duration": 0.829005,
     "end_time": "2023-06-06T12:30:16.892603",
     "exception": false,
     "start_time": "2023-06-06T12:30:16.063598",
     "status": "completed"
    },
    "tags": []
   },
   "outputs": [],
   "source": [
    "rna_data = dataset.copy()"
   ]
  },
  {
   "cell_type": "code",
   "execution_count": null,
   "id": "e4c75c94-ffa4-4f28-8119-1c957b3f2c53",
   "metadata": {
    "execution": {
     "iopub.execute_input": "2023-06-06T12:30:16.899277Z",
     "iopub.status.busy": "2023-06-06T12:30:16.899054Z",
     "iopub.status.idle": "2023-06-06T12:35:36.831365Z",
     "shell.execute_reply": "2023-06-06T12:35:36.830650Z"
    },
    "papermill": {
     "duration": 319.936902,
     "end_time": "2023-06-06T12:35:36.832751",
     "exception": false,
     "start_time": "2023-06-06T12:30:16.895849",
     "status": "completed"
    },
    "tags": []
   },
   "outputs": [],
   "source": [
    "%%R -i rna_data -o norm_x -o corrected_counts -o log_normalized\n",
    "\n",
    "dataset = rna_data\n",
    "seurat_obj = as.Seurat(dataset, counts=\"X\", data = NULL)\n",
    "seurat_obj = RenameAssays(seurat_obj, originalexp = \"RNA\")\n",
    "res = SCTransform(object=seurat_obj, method = \"glmGamPoi\", return.only.var.genes = FALSE)\n",
    "\n",
    "print(res)\n",
    "\n",
    "norm_x = res@assays$SCT@scale.data\n",
    "corrected_counts = res@assays$SCT@counts\n",
    "log_normalized = res@assays$SCT@data"
   ]
  },
  {
   "cell_type": "code",
   "execution_count": null,
   "id": "f7e36ac7-4ccc-4ad8-bab1-9ee09599cde0",
   "metadata": {
    "execution": {
     "iopub.execute_input": "2023-06-06T12:35:36.914807Z",
     "iopub.status.busy": "2023-06-06T12:35:36.914556Z",
     "iopub.status.idle": "2023-06-06T12:35:36.945379Z",
     "shell.execute_reply": "2023-06-06T12:35:36.944895Z"
    },
    "papermill": {
     "duration": 0.04526,
     "end_time": "2023-06-06T12:35:36.946766",
     "exception": false,
     "start_time": "2023-06-06T12:35:36.901506",
     "status": "completed"
    },
    "tags": []
   },
   "outputs": [],
   "source": [
    "dataset.layers[\"scTransform_normalized\"] = norm_x.T\n",
    "dataset.layers[\"scTransform_counts\"] = corrected_counts.T\n",
    "dataset.layers[\"scTransform_log_normalized\"] = log_normalized.T"
   ]
  },
  {
   "cell_type": "code",
   "execution_count": null,
   "id": "24f7d024-4528-405e-bb83-5480bee39b5e",
   "metadata": {
    "execution": {
     "iopub.execute_input": "2023-06-06T12:35:36.966598Z",
     "iopub.status.busy": "2023-06-06T12:35:36.966431Z",
     "iopub.status.idle": "2023-06-06T12:35:37.279448Z",
     "shell.execute_reply": "2023-06-06T12:35:37.278910Z"
    },
    "papermill": {
     "duration": 0.324227,
     "end_time": "2023-06-06T12:35:37.280896",
     "exception": false,
     "start_time": "2023-06-06T12:35:36.956669",
     "status": "completed"
    },
    "tags": []
   },
   "outputs": [],
   "source": [
    "metadata = pd.read_csv(\"../02_cell_ident/dataset_metadata.csv\")\n",
    "\n",
    "dataset.obs[\"cell_type\"] = metadata[\"SingleR_label\"].to_list()"
   ]
  },
  {
   "cell_type": "code",
   "execution_count": null,
   "id": "f32fc203-70b8-4f18-9f1e-9395099e4962",
   "metadata": {
    "execution": {
     "iopub.execute_input": "2023-06-06T12:35:37.300010Z",
     "iopub.status.busy": "2023-06-06T12:35:37.299718Z",
     "iopub.status.idle": "2023-06-06T12:35:42.893892Z",
     "shell.execute_reply": "2023-06-06T12:35:42.893365Z"
    },
    "papermill": {
     "duration": 5.60554,
     "end_time": "2023-06-06T12:35:42.895554",
     "exception": false,
     "start_time": "2023-06-06T12:35:37.290014",
     "status": "completed"
    },
    "tags": []
   },
   "outputs": [],
   "source": [
    "dataset.write(\"../../int_data/dataset_qc_normalized.h5ad\")"
   ]
  },
  {
   "cell_type": "code",
   "execution_count": null,
   "id": "3a8cf3e4-7e9b-4e8f-b731-d60ac24e88fc",
   "metadata": {
    "execution": {
     "iopub.execute_input": "2023-06-06T12:35:42.917153Z",
     "iopub.status.busy": "2023-06-06T12:35:42.916920Z",
     "iopub.status.idle": "2023-06-06T12:35:57.435315Z",
     "shell.execute_reply": "2023-06-06T12:35:57.434691Z"
    },
    "papermill": {
     "duration": 14.529935,
     "end_time": "2023-06-06T12:35:57.436718",
     "exception": false,
     "start_time": "2023-06-06T12:35:42.906783",
     "status": "completed"
    },
    "tags": []
   },
   "outputs": [],
   "source": [
    "dataset = sc.read(\"../../int_data/dataset_qc_normalized.h5ad\")"
   ]
  },
  {
   "cell_type": "code",
   "execution_count": null,
   "id": "05c6d064-87fa-4a41-9ffe-659848865487",
   "metadata": {
    "execution": {
     "iopub.execute_input": "2023-06-06T12:35:57.472174Z",
     "iopub.status.busy": "2023-06-06T12:35:57.471935Z",
     "iopub.status.idle": "2023-06-06T12:35:57.475549Z",
     "shell.execute_reply": "2023-06-06T12:35:57.475227Z"
    },
    "papermill": {
     "duration": 0.014687,
     "end_time": "2023-06-06T12:35:57.476354",
     "exception": false,
     "start_time": "2023-06-06T12:35:57.461667",
     "status": "completed"
    },
    "tags": []
   },
   "outputs": [],
   "source": [
    "def dim_red(dataset, key):\n",
    "    sc.pp.pca(dataset)\n",
    "    dataset.obsm[f\"X_pca_{key}\"] = dataset.obsm[\"X_pca\"].copy()\n",
    "    \n",
    "    sc.pp.neighbors(dataset, use_rep = f\"X_pca_{key}\", key_added = f\"{key}_neighbors\")\n",
    "    \n",
    "    sc.tl.umap(dataset, neighbors_key = f\"{key}_neighbors\")\n",
    "    dataset.obsm[f\"X_umap_{key}\"] = dataset.obsm[\"X_umap\"].copy()"
   ]
  },
  {
   "cell_type": "code",
   "execution_count": null,
   "id": "759e264f-876c-4d8a-abe2-62840e3848f8",
   "metadata": {
    "execution": {
     "iopub.execute_input": "2023-06-06T12:35:57.495166Z",
     "iopub.status.busy": "2023-06-06T12:35:57.494961Z",
     "iopub.status.idle": "2023-06-06T12:41:35.050330Z",
     "shell.execute_reply": "2023-06-06T12:41:35.049744Z"
    },
    "papermill": {
     "duration": 337.566723,
     "end_time": "2023-06-06T12:41:35.052039",
     "exception": false,
     "start_time": "2023-06-06T12:35:57.485316",
     "status": "completed"
    },
    "tags": []
   },
   "outputs": [],
   "source": [
    "dataset.X = dataset.layers[\"log1pPF_normalization\"]\n",
    "dim_red(dataset, key = \"log1pPF\")\n",
    "\n",
    "dataset.X = dataset.layers[\"PFlog1PF_normalization\"]\n",
    "dim_red(dataset, key = \"PFlog1pPF\")\n",
    "\n",
    "dataset.X = dataset.layers[\"scran_normalization\"]\n",
    "dim_red(dataset, key = \"scran\")\n",
    "\n",
    "dataset.X = dataset.layers[\"scTransform_normalized\"]\n",
    "dim_red(dataset, key = \"sctransform\")"
   ]
  },
  {
   "cell_type": "code",
   "execution_count": null,
   "id": "e4e4f7ed-2412-4588-b057-329492ce715d",
   "metadata": {
    "execution": {
     "iopub.execute_input": "2023-06-06T12:41:35.092646Z",
     "iopub.status.busy": "2023-06-06T12:41:35.092452Z",
     "iopub.status.idle": "2023-06-06T12:41:36.770458Z",
     "shell.execute_reply": "2023-06-06T12:41:36.770079Z"
    },
    "papermill": {
     "duration": 1.690378,
     "end_time": "2023-06-06T12:41:36.773048",
     "exception": false,
     "start_time": "2023-06-06T12:41:35.082670",
     "status": "completed"
    },
    "tags": []
   },
   "outputs": [],
   "source": [
    "color = \"batch\"\n",
    "\n",
    "fig, ax = plt.subplots(ncols = 4, nrows = 1, figsize = (12,3))\n",
    "\n",
    "axis = sc.pl.embedding(dataset, color = color, basis = \"X_umap_log1pPF\", ax = ax[0], show = False)\n",
    "axis.set_xlabel(\"UMAP_1\")\n",
    "axis.set_ylabel(\"UMAP_2\")\n",
    "axis.set_title(\"Log1p Proportional Filtering\\n\")\n",
    "axis.legend().remove()\n",
    "\n",
    "axis = sc.pl.embedding(dataset, color = color, basis = \"X_umap_PFlog1pPF\", ax = ax[1], show = False)\n",
    "axis.set_xlabel(\"UMAP_1\")\n",
    "axis.set_ylabel(\"UMAP_2\")\n",
    "axis.set_title(\"Proportional Filtering\\nLog1p Proportional Filtering\")\n",
    "axis.legend().remove()\n",
    "\n",
    "axis = sc.pl.embedding(dataset, color = color, basis = \"X_umap_scran\", ax = ax[2], show = False)\n",
    "axis.set_xlabel(\"UMAP_1\")\n",
    "axis.set_ylabel(\"UMAP_2\")\n",
    "axis.set_title(\"Scran Normalization\\n\")\n",
    "axis.legend().remove()\n",
    "\n",
    "axis = sc.pl.embedding(dataset, color = color, basis = \"X_umap_sctransform\", ax = ax[3], show = False)\n",
    "axis.set_xlabel(\"UMAP_1\")\n",
    "axis.set_ylabel(\"UMAP_2\")\n",
    "axis.set_title(\"scTransform Normalization\\n\")\n",
    "axis.legend(title = \"Batch\", bbox_to_anchor = (1.1, 1))\n",
    "\n",
    "plt.tight_layout()\n",
    "#plt.savefig(f\"{outputDir}01_color_batch.pdf\", dpi = 300)\n",
    "plt.show()"
   ]
  },
  {
   "cell_type": "code",
   "execution_count": null,
   "id": "3afb2350-6d3f-4d26-ade0-2e7fb4e0fbf3",
   "metadata": {
    "execution": {
     "iopub.execute_input": "2023-06-06T12:41:36.798034Z",
     "iopub.status.busy": "2023-06-06T12:41:36.797750Z",
     "iopub.status.idle": "2023-06-06T12:41:51.092508Z",
     "shell.execute_reply": "2023-06-06T12:41:51.092052Z"
    },
    "papermill": {
     "duration": 14.30851,
     "end_time": "2023-06-06T12:41:51.094188",
     "exception": false,
     "start_time": "2023-06-06T12:41:36.785678",
     "status": "completed"
    },
    "tags": []
   },
   "outputs": [],
   "source": [
    "dataset = sc.read(\"../../int_data/dataset_qc_normalized.h5ad\")\n",
    "dataset = dataset[dataset.obs[\"cell_type\"] == \"Neutrophils\"]"
   ]
  },
  {
   "cell_type": "code",
   "execution_count": null,
   "id": "f5e9dcde-25ff-4b7b-a30b-2e3517d96814",
   "metadata": {
    "execution": {
     "iopub.execute_input": "2023-06-06T12:41:51.134879Z",
     "iopub.status.busy": "2023-06-06T12:41:51.134583Z",
     "iopub.status.idle": "2023-06-06T12:44:56.181472Z",
     "shell.execute_reply": "2023-06-06T12:44:56.180874Z"
    },
    "papermill": {
     "duration": 185.060141,
     "end_time": "2023-06-06T12:44:56.182876",
     "exception": false,
     "start_time": "2023-06-06T12:41:51.122735",
     "status": "completed"
    },
    "tags": []
   },
   "outputs": [],
   "source": [
    "dataset.X = dataset.layers[\"log1pPF_normalization\"]\n",
    "dim_red(dataset, key = \"log1pPF\")\n",
    "\n",
    "dataset.X = dataset.layers[\"PFlog1PF_normalization\"]\n",
    "dim_red(dataset, key = \"PFlog1pPF\")\n",
    "\n",
    "dataset.X = dataset.layers[\"scran_normalization\"]\n",
    "dim_red(dataset, key = \"scran\")\n",
    "\n",
    "dataset.X = dataset.layers[\"scTransform_normalized\"]\n",
    "dim_red(dataset, key = \"sctransform\")"
   ]
  },
  {
   "cell_type": "code",
   "execution_count": null,
   "id": "8cdbd530-e6f3-4156-8fdf-52da842a2503",
   "metadata": {
    "execution": {
     "iopub.execute_input": "2023-06-06T12:44:56.222848Z",
     "iopub.status.busy": "2023-06-06T12:44:56.222537Z",
     "iopub.status.idle": "2023-06-06T12:44:57.096758Z",
     "shell.execute_reply": "2023-06-06T12:44:57.096268Z"
    },
    "papermill": {
     "duration": 0.887483,
     "end_time": "2023-06-06T12:44:57.097749",
     "exception": false,
     "start_time": "2023-06-06T12:44:56.210266",
     "status": "completed"
    },
    "tags": []
   },
   "outputs": [],
   "source": [
    "color = \"batch\"\n",
    "\n",
    "fig, ax = plt.subplots(ncols = 4, nrows = 1, figsize = (12,3))\n",
    "\n",
    "axis = sc.pl.embedding(dataset, color = color, basis = \"X_umap_log1pPF\", ax = ax[0], show = False)\n",
    "axis.set_xlabel(\"UMAP_1\")\n",
    "axis.set_ylabel(\"UMAP_2\")\n",
    "axis.set_title(\"Log1p Proportional Filtering\\n\")\n",
    "axis.legend().remove()\n",
    "\n",
    "axis = sc.pl.embedding(dataset, color = color, basis = \"X_umap_PFlog1pPF\", ax = ax[1], show = False)\n",
    "axis.set_xlabel(\"UMAP_1\")\n",
    "axis.set_ylabel(\"UMAP_2\")\n",
    "axis.set_title(\"Proportional Filtering\\nLog1p Proportional Filtering\")\n",
    "axis.legend().remove()\n",
    "\n",
    "axis = sc.pl.embedding(dataset, color = color, basis = \"X_umap_scran\", ax = ax[2], show = False)\n",
    "axis.set_xlabel(\"UMAP_1\")\n",
    "axis.set_ylabel(\"UMAP_2\")\n",
    "axis.set_title(\"Scran Normalization\\n\")\n",
    "axis.legend().remove()\n",
    "\n",
    "axis = sc.pl.embedding(dataset, color = color, basis = \"X_umap_sctransform\", ax = ax[3], show = False)\n",
    "axis.set_xlabel(\"UMAP_1\")\n",
    "axis.set_ylabel(\"UMAP_2\")\n",
    "axis.set_title(\"scTransform Normalization\\n\")\n",
    "axis.legend(title = \"Batch\", bbox_to_anchor = (1.1, 1))\n",
    "\n",
    "plt.tight_layout()\n",
    "#plt.savefig(f\"{outputDir}01_color_batch.pdf\", dpi = 300)\n",
    "plt.show()"
   ]
  }
 ],
 "metadata": {
  "kernelspec": {
   "display_name": "py_R",
   "language": "python",
   "name": "python_r"
  },
  "language_info": {
   "codemirror_mode": {
    "name": "ipython",
    "version": 3
   },
   "file_extension": ".py",
   "mimetype": "text/x-python",
   "name": "python",
   "nbconvert_exporter": "python",
   "pygments_lexer": "ipython3",
   "version": "3.10.11"
  },
  "papermill": {
   "default_parameters": {},
   "duration": 1127.907505,
   "end_time": "2023-06-06T12:45:03.797612",
   "environment_variables": {},
   "exception": null,
   "input_path": "normalization_comparison.ipynb",
   "output_path": "normalization_comparison.ipynb",
   "parameters": {},
   "start_time": "2023-06-06T12:26:15.890107",
   "version": "2.4.0"
  }
 },
 "nbformat": 4,
 "nbformat_minor": 5
}
