{
 "cells": [
  {
   "cell_type": "code",
   "execution_count": null,
   "id": "11ab7247-33cd-4cf2-8342-3e35aaf466f9",
   "metadata": {
    "tags": []
   },
   "outputs": [],
   "source": [
    "import scanpy as sc\n",
    "import pandas as pd\n",
    "import numpy as np\n",
    "from matplotlib import pyplot as plt\n",
    "import seaborn as sns\n",
    "from statannotations.Annotator import Annotator, PValueFormat\n",
    "\n",
    "import os\n",
    "\n",
    "os.environ['R_HOME'] = '/gpfs/bwfor/work/ws/hd_fu399-conda/conda/envs/python_R/lib/R/'\n",
    "import anndata2ri\n",
    "import logging\n",
    "\n",
    "import rpy2.rinterface_lib.callbacks as rcb\n",
    "import rpy2.robjects as ro\n",
    "\n",
    "rcb.logger.setLevel(logging.ERROR)\n",
    "ro.pandas2ri.activate()\n",
    "anndata2ri.activate()\n",
    "\n",
    "%load_ext rpy2.ipython\n",
    "\n",
    "sns.set_style(\"whitegrid\", {'axes.grid' : False})"
   ]
  },
  {
   "cell_type": "code",
   "execution_count": null,
   "id": "ae9cb862-073d-40b5-aa2c-35e3efcdec1e",
   "metadata": {
    "tags": []
   },
   "outputs": [],
   "source": [
    "%%R\n",
    "library(lme4)"
   ]
  },
  {
   "cell_type": "code",
   "execution_count": null,
   "id": "627dcdf6-c861-467d-b61f-05c8d307c133",
   "metadata": {
    "tags": []
   },
   "outputs": [],
   "source": [
    "fisher_genes_up = pd.read_csv(\"../../../fisher_up_genes.csv\", index_col = 0)[\"symbol\"].to_list()\n",
    "fisher_genes_down = pd.read_csv(\"../../../fisher_dn_genes.csv\", index_col = 0)[\"symbol\"].to_list()"
   ]
  },
  {
   "cell_type": "code",
   "execution_count": null,
   "id": "e607605a-1999-49e2-848c-81ac43365e0b",
   "metadata": {
    "tags": []
   },
   "outputs": [],
   "source": [
    "%%R -i fisher_genes_up -o fisher_genes_up_mouse\n",
    "\n",
    "gene_list <- fisher_genes_up\n",
    "library(dplyr)\n",
    "mouse_human_genes = read.csv(\"http://www.informatics.jax.org/downloads/reports/HOM_MouseHumanSequence.rpt\",sep=\"\\t\")\n",
    "\n",
    "convert_human_to_mouse <- function(gene_list){\n",
    "\n",
    "  output = c()\n",
    "\n",
    "  for(gene in gene_list){\n",
    "    class_key = (mouse_human_genes %>% filter(Symbol == gene & Common.Organism.Name==\"human\"))[['DB.Class.Key']]\n",
    "    if(!identical(class_key, integer(0)) ){\n",
    "      human_genes = (mouse_human_genes %>% filter(DB.Class.Key == class_key & Common.Organism.Name==\"mouse, laboratory\"))[,\"Symbol\"]\n",
    "      for(human_gene in human_genes){\n",
    "        output = append(output,human_gene)\n",
    "      }\n",
    "    }\n",
    "  }\n",
    "\n",
    "  return (output)\n",
    "}\n",
    "\n",
    "fisher_genes_up_mouse <- convert_human_to_mouse(fisher_genes_up)"
   ]
  },
  {
   "cell_type": "code",
   "execution_count": null,
   "id": "30a56224-198f-49b8-bccf-13a6b326ecf2",
   "metadata": {
    "tags": []
   },
   "outputs": [],
   "source": [
    "dataset = sc.read(\"../../int_data/dataset_qc_normalized.h5ad\")\n",
    "dataset = dataset[dataset.obs[\"cell_type\"] == \"Neutrophils\",:]"
   ]
  },
  {
   "cell_type": "code",
   "execution_count": null,
   "id": "2602ff85-6538-4f89-97dd-c919b111db99",
   "metadata": {
    "tags": []
   },
   "outputs": [],
   "source": [
    "dataset.obs[\"Run\"].unique()"
   ]
  },
  {
   "cell_type": "code",
   "execution_count": null,
   "id": "8fc147ef-5fb8-41f3-bef1-476b2809eb3e",
   "metadata": {
    "tags": []
   },
   "outputs": [],
   "source": [
    "dataset.obs[\"Condition\"].value_counts()"
   ]
  },
  {
   "cell_type": "code",
   "execution_count": null,
   "id": "4cab5323-78b7-4758-9205-49353e89172e",
   "metadata": {
    "tags": []
   },
   "outputs": [],
   "source": [
    "dataset"
   ]
  },
  {
   "cell_type": "code",
   "execution_count": null,
   "id": "6c5c7cc4-67c5-49c0-9354-7281baf11e5b",
   "metadata": {
    "tags": []
   },
   "outputs": [],
   "source": [
    "organ_map = {'Bone marrow neutrophil': \"bone_marrow\", 'Liver neutrophil': \"liver\", 'Peripheral blood neutrophil': \"peripheral_blood\", 'Peritoneal cavity neutrophil': \"peritoneal_cavity\", 'Spleen neutrophil': \"spleen\"}\n",
    "condition_map = {'E. coli challenge (24h)': \"Ecoli\", 'Steady state': \"steady_state\"}\n",
    "dataset.obs[\"condition\"] = dataset.obs[\"Condition\"].map(condition_map)\n",
    "dataset.obs[\"organ\"] = dataset.obs[\"Cell_type\"].map(organ_map)"
   ]
  },
  {
   "cell_type": "code",
   "execution_count": null,
   "id": "80b3c95f-b25a-4e20-9cf9-d9dc5184e987",
   "metadata": {
    "tags": []
   },
   "outputs": [],
   "source": [
    "scanpy_integrated = pd.read_csv(f\"../05_gene_set_scores/gene_set_scores_integrated_scanpy_scanpy.csv\", index_col = 0)\n",
    "scanpy_integrated_r = pd.read_csv(f\"../05_gene_set_scores/gene_set_scores_integrated_scanpy_R.csv\", index_col = 0)\n",
    "\n",
    "scanpy_raw = pd.read_csv(f\"../05_gene_set_scores/gene_set_scores_raw_scanpy.csv\", index_col = 0)\n",
    "scanpy_raw_r = pd.read_csv(f\"../05_gene_set_scores/gene_set_scores_raw_R.csv\", index_col = 0)\n",
    "\n",
    "scanpy_scaled = pd.read_csv(f\"../05_gene_set_scores/gene_set_scores_scaled_scanpy.csv\", index_col = 0)\n",
    "scanpy_scaled_r = pd.read_csv(f\"../05_gene_set_scores/gene_set_scores_scaled_R.csv\", index_col = 0)\n",
    "\n",
    "seurat_integrated = pd.read_csv(f\"../05_gene_set_scores/gene_set_scores_integrated_seurat_R.csv\", index_col = 0)\n",
    "\n",
    "#scgsea = pd.read_csv(f\"../05_gene_set_scores/gcsf_metadata_scgsea.csv\", index_col = 0)\n",
    "\n",
    "df = pd.DataFrame(index = scanpy_integrated.index, data = {\"scanpy_int_scanpy\": scanpy_integrated[\"fisher_up\"],\n",
    "                                                           \"seurat_int_scanpy\": scanpy_integrated_r[\"Seurat_fisher_up1\"],\n",
    "                                                           \"ucell_int_scanpy\": scanpy_integrated_r[\"UCell_fisher_up_UCell\"],\n",
    "                                                           \n",
    "                                                           \"sc_raw\": scanpy_raw[\"fisher_up\"],\n",
    "                                                           \"sc_scaled\": scanpy_scaled[\"fisher_up\"],\n",
    "                                                           \n",
    "                                                           \"seurat_raw\": scanpy_raw_r[\"Seurat_fisher_up1\"],\n",
    "                                                           \"seurat_scaled\": scanpy_scaled_r[\"Seurat_fisher_up1\"],\n",
    "                                                           \"ucell_raw\": scanpy_raw_r[\"UCell_fisher_up_UCell\"],\n",
    "                                                           \"ucell_scaled\": scanpy_scaled_r[\"UCell_fisher_up_UCell\"],\n",
    "                                                           \n",
    "                                                           \"seurat_int_seurat\": seurat_integrated[\"Seurat_fisher_up1\"],\n",
    "                                                           \"ucell_int_seurat\": seurat_integrated[\"UCell_fisher_up_UCell\"],\n",
    "                                                           \"organ\": scanpy_integrated[\"organ\"],\n",
    "                                                           \"condition\": scanpy_integrated[\"condition\"],\n",
    "                                                           \"batch\" : scanpy_integrated[\"batch\"],\n",
    "                                                           #\"scGSEA\": scgsea[\"scgsea\"]\n",
    "                                                          })\n",
    "\n",
    "df.to_csv(f\"gene_set_scores_total.csv\")\n",
    "df.to_csv(f\"gene_set_scores_total_xie.csv\")"
   ]
  },
  {
   "cell_type": "code",
   "execution_count": null,
   "id": "2d6001bd-7737-437e-938c-6accf5745e81",
   "metadata": {
    "tags": []
   },
   "outputs": [],
   "source": [
    "%%R -i df -o pvalue_ecoli\n",
    "\n",
    "gene_set_scores <- df\n",
    "gene_set_scores$condition <- factor(gene_set_scores$condition, levels = c(\"steady_state\", \"Ecoli\"))\n",
    "gene_set_scores$batch <- factor(gene_set_scores$batch)\n",
    "gene_set_scores <- gene_set_scores[gene_set_scores$condition %in% c(\"steady_state\", \"Ecoli\"),]\n",
    "\n",
    "lm0 <- lmerTest::lmer(sc_raw ~ (1|organ) + (1|batch), data = gene_set_scores, REML = FALSE)\n",
    "lm1 <- lmerTest::lmer(sc_raw ~ condition + (1|organ) + (1|batch), data = gene_set_scores, REML = FALSE)\n",
    "\n",
    "test <- anova(lm0, lm1)\n",
    "pvalue_ecoli <- test$`Pr(>Chisq)`[2]\n"
   ]
  },
  {
   "cell_type": "code",
   "execution_count": null,
   "id": "cf7168c4-13d4-48c0-907c-6407aa77177c",
   "metadata": {
    "tags": []
   },
   "outputs": [],
   "source": [
    "pairs = [\n",
    "    (\"steady_state\", \"Ecoli\"),\n",
    "]\n",
    "\n",
    "p_values = [pvalue_ecoli[0]]\n",
    "\n",
    "fig, ax = plt.subplots(ncols = 1, nrows = 1, figsize = (4,4))\n",
    "\n",
    "ax0_parameters = {\n",
    "    'data':    df,\n",
    "    'x':       'condition',\n",
    "    'y':       'sc_raw',\n",
    "    'ax': ax\n",
    "}\n",
    "\n",
    "sns.boxplot(order = [\"steady_state\", \"Ecoli\"],\n",
    "            whis = (0,100),\n",
    "            **ax0_parameters)\n",
    "\n",
    "annotator = Annotator(pairs = pairs,\n",
    "                      **ax0_parameters)\n",
    "annotator.configure(loc = \"inside\", line_offset = \"asd\")\n",
    "annotator.set_pvalues(p_values)\n",
    "\n",
    "annotator.annotate()\n",
    "\n",
    "ax.set_title(\"Module Score\")\n",
    "ax.set_ylabel(\"score\")\n",
    "ax.set_xlabel(\"\")\n",
    "ax.set_xticklabels(ax.get_xticklabels(), rotation = 45, ha = \"right\")\n",
    "\n",
    "plt.tight_layout()\n",
    "plt.savefig(\"module_scores.pdf\", dpi = 300, bbox_inches = \"tight\")\n",
    "plt.show()"
   ]
  },
  {
   "cell_type": "code",
   "execution_count": null,
   "id": "c2bc3666-afeb-4f92-8785-54d9b3fccda2",
   "metadata": {
    "tags": []
   },
   "outputs": [],
   "source": [
    "dataset.X = dataset.layers[\"log1pPF_normalization\"]"
   ]
  },
  {
   "cell_type": "code",
   "execution_count": null,
   "id": "421efbe9-21e8-4cbc-a308-8d3a5a96b0b8",
   "metadata": {},
   "outputs": [],
   "source": [
    "hvg = dataset.copy()\n",
    "sc.pp.highly_variable_genes(hvg, n_top_genes = 2000)\n",
    "hvg = dataset[:, hvg.var.highly_variable].copy()"
   ]
  },
  {
   "cell_type": "code",
   "execution_count": null,
   "id": "ee80a64e-ce09-4558-be5e-2d16f05737e5",
   "metadata": {
    "tags": []
   },
   "outputs": [],
   "source": [
    "hvg.obs[\"module_score\"] = df[\"sc_raw\"].clip(lower = np.quantile(df[\"sc_raw\"], 0.05),\n",
    "                                            upper = np.quantile(df[\"sc_raw\"], 0.95))\n",
    "hvg.X = hvg.layers[\"log1pPF_normalization\"]\n",
    "\n",
    "sc.pp.pca(hvg)\n",
    "sc.pp.neighbors(hvg)\n",
    "sc.tl.umap(hvg)"
   ]
  },
  {
   "cell_type": "code",
   "execution_count": null,
   "id": "acfd33e1-ec18-4956-b7ad-43f2211ceb74",
   "metadata": {
    "tags": []
   },
   "outputs": [],
   "source": [
    "sc.set_figure_params(vector_friendly=True, dpi_save=300)\n",
    "\n",
    "fig, ax = plt.subplots(ncols = 1, nrows = 2, figsize = (4,5.5))\n",
    "\n",
    "sc.pl.umap(hvg,\n",
    "           color = \"condition\",\n",
    "           ax = ax[0],\n",
    "           show = False)\n",
    "sc.pl.umap(hvg,\n",
    "           color = \"module_score\",\n",
    "           colorbar_loc=None,\n",
    "           cmap = \"viridis\",\n",
    "           ax = ax[1],\n",
    "           show = False)\n",
    "\n",
    "ax[0].set_title(\"Experimental Condition\")\n",
    "ax[1].set_title(\"Module Score\\nCore Program\")\n",
    "plt.tight_layout()\n",
    "plt.savefig(\"umap.pdf\", dpi = 300, bbox_inches = \"tight\")\n",
    "plt.show()"
   ]
  },
  {
   "cell_type": "code",
   "execution_count": null,
   "id": "e2c6c9b2-9710-44c7-827f-0a5b328a6c87",
   "metadata": {
    "tags": []
   },
   "outputs": [],
   "source": [
    "hvg.obsm"
   ]
  },
  {
   "cell_type": "code",
   "execution_count": null,
   "id": "d3ac25e2-4611-416e-9e67-71a8e5270a1c",
   "metadata": {
    "tags": []
   },
   "outputs": [],
   "source": [
    "umap_df = pd.DataFrame(hvg.obsm[\"X_umap\"], columns = [\"UMAP1\", \"UMAP2\"])\n",
    "umap_df[\"sc_raw\"] = df[\"sc_raw\"].clip(lower = np.quantile(df[\"sc_raw\"], 0.05),\n",
    "                                      upper = np.quantile(df[\"sc_raw\"], 0.95)).to_list()\n",
    "umap_df[\"condition\"] = hvg.obs[\"condition\"].to_list()\n",
    "umap_df[\"inflammation\"] = umap_df[\"condition\"].map({\"steady_state\": \"control\", \"Ecoli\": \"inflamed\"})\n",
    "\n",
    "umap_df.to_csv(\"xie_umap.csv\")"
   ]
  },
  {
   "cell_type": "code",
   "execution_count": null,
   "id": "e2b9f57a-fa9e-4275-9e97-d2692ced8470",
   "metadata": {
    "tags": []
   },
   "outputs": [],
   "source": [
    "fisher_set = dataset[:, dataset.var_names.isin(fisher_genes_up_mouse)].copy()"
   ]
  },
  {
   "cell_type": "code",
   "execution_count": null,
   "id": "b11aca09-c2da-43a5-9365-c0d3cf27404f",
   "metadata": {
    "tags": []
   },
   "outputs": [],
   "source": [
    "fisher_set.X = fisher_set.layers[\"log1pPF_normalization\"]\n",
    "sc.pp.scale(fisher_set, max_value = 10)\n",
    "\n",
    "fisher_set.layers[\"scaled\"] = fisher_set.X\n",
    "df = fisher_set.to_df(layer = \"scaled\")\n",
    "df = df.clip(lower = np.quantile(df, 0.1), upper = np.quantile(df, 0.9))\n",
    "fisher_set.layers[\"scaled_clipped\"] = df.values\n",
    "\n",
    "df = fisher_set.to_df(layer = \"log1pPF_normalization\")\n",
    "df = df.clip(lower = np.quantile(df, 0.10), upper = np.quantile(df, 0.90))\n",
    "fisher_set.layers[\"quantiled\"] = df.values\n",
    "\n",
    "from sklearn.preprocessing import StandardScaler\n",
    "\n",
    "df = fisher_set.to_df(layer = \"log1pPF_normalization\")\n",
    "\n",
    "transformed = StandardScaler().fit_transform(df.values)\n",
    "\n",
    "fisher_set.layers[\"standard_scaled\"] = transformed\n",
    "\n",
    "df = fisher_set.to_df(layer = \"standard_scaled\")\n",
    "df = df.clip(lower = np.quantile(df, 0.1), upper = np.quantile(df, 0.9))\n",
    "fisher_set.layers[\"standard_scaled_clipped\"] = df.values\n",
    "\n",
    "df = fisher_set.to_df(layer = \"log1pPF_normalization\")\n",
    "genes_to_plot = df[df.sum().sort_values(ascending=False).index].columns.to_list()"
   ]
  },
  {
   "cell_type": "code",
   "execution_count": null,
   "id": "5e9ed747-810b-4e29-bdd3-59a649bf8c92",
   "metadata": {
    "tags": []
   },
   "outputs": [],
   "source": [
    "ax_dict = sc.pl.heatmap(fisher_set,\n",
    "                        genes_to_plot,\n",
    "                        groupby='condition',\n",
    "                        layer = \"scaled\",\n",
    "                        standard_scale = \"var\",\n",
    "                        cmap = \"YlOrBr\",\n",
    "                        show = False,\n",
    "                        figsize = (4,4),\n",
    "                        )\n",
    "\n",
    "ax_dict[\"groupby_ax\"].set_ylabel(\"condition\")\n",
    "\n",
    "plt.savefig(\"single_cell_heatmap.pdf\", dpi = 300, bbox_inches = \"tight\")\n",
    "plt.show()"
   ]
  },
  {
   "cell_type": "code",
   "execution_count": null,
   "id": "d3932f1c-7564-445b-b6f0-5accd497c703",
   "metadata": {
    "tags": []
   },
   "outputs": [],
   "source": [
    "fisher_set.X = fisher_set.layers[\"log1pPF_normalization\"]\n",
    "fisher_set.obs[\"condition_2\"] = fisher_set.obs[\"condition\"].map({\"steady_state\": \"not_inflamed\", \"Ecoli\": \"inflamed\"})\n",
    "sc.tl.rank_genes_groups(fisher_set, 'condition_2', method='wilcoxon', key_added = \"wilcoxon\")\n",
    "goi = sc.get.rank_genes_groups_df(fisher_set, group = \"not_inflamed\", key = \"wilcoxon\").sort_values(\"pvals_adj\")[0:30][\"names\"].to_list()"
   ]
  },
  {
   "cell_type": "code",
   "execution_count": null,
   "id": "cd7e137f-af17-41db-8843-e04544090c9a",
   "metadata": {
    "tags": []
   },
   "outputs": [],
   "source": [
    "def evenly_distribute_genes_of_interest(labels, positions_idx):\n",
    "    gene_list = fisher_set.var_names.to_list()\n",
    "    spacing = int(np.floor(len(gene_list) / len(positions_idx))) + 1\n",
    "    new_gene_list = []\n",
    "    for gene in labels:\n",
    "        gene_list.pop(gene_list.index(gene))\n",
    "    label_counter = 0\n",
    "    gene_counter = 0\n",
    "    for i, _ in enumerate(gene_list + labels):\n",
    "        if i%spacing == 0 and label_counter < len(labels):\n",
    "            new_gene_list.append(labels[label_counter])\n",
    "            label_counter += 1\n",
    "        elif gene_counter < len(gene_list):\n",
    "            new_gene_list.append(gene_list[gene_counter])\n",
    "            gene_counter += 1\n",
    "    return new_gene_list\n",
    "\n",
    "labels = []\n",
    "positions = []\n",
    "positions_idx = []\n",
    "\n",
    "for i, label in enumerate(fisher_set.var_names):\n",
    "    if label in goi:\n",
    "        labels.append(label),\n",
    "        positions.append(tuple([i,i]))\n",
    "        positions_idx.append(i)\n",
    "        \n",
    "x = evenly_distribute_genes_of_interest(labels, positions_idx)"
   ]
  },
  {
   "cell_type": "code",
   "execution_count": null,
   "id": "37181652-b89e-414b-929f-e6767c1a5d0b",
   "metadata": {
    "tags": []
   },
   "outputs": [],
   "source": [
    "fig, ax = plt.subplots(ncols = 1, nrows = 1, figsize = (14,5))\n",
    "ax_dict = sc.pl.matrixplot(fisher_set,\n",
    "                           x,\n",
    "                           groupby='condition',\n",
    "                         layer = \"scaled\",\n",
    "                         cmap = \"bwr\",\n",
    "                         #standard_scale = \"var\",\n",
    "                         swap_axes = False,\n",
    "                         categories_order = [\"steady_state\", \"Ecoli\"],\n",
    "                         ax = ax,\n",
    "                         show = False,\n",
    "                         colorbar_title = \"Expr\")\n",
    "\n",
    "ax_dict[\"mainplot_ax\"].set_xticks([i for i, gene in enumerate(x) if gene in goi])\n",
    "ax_dict[\"mainplot_ax\"].set_xticklabels([gene for gene in x if gene in goi], ha = \"center\", rotation = 45)\n",
    "#ax_dict[\"color_legend_ax\"].remove()\n",
    "\n",
    "plt.savefig(\"heatmap_fisher.pdf\", dpi = 300, bbox_inches = \"tight\")\n",
    "plt.show()"
   ]
  },
  {
   "cell_type": "code",
   "execution_count": null,
   "id": "82cbcc2a-fe75-445b-aefe-5ef6c848d776",
   "metadata": {
    "tags": []
   },
   "outputs": [],
   "source": [
    "raw_data = fisher_set.to_df(layer = \"scaled\")\n",
    "raw_data[fisher_set.obs.columns] = fisher_set.obs"
   ]
  },
  {
   "cell_type": "code",
   "execution_count": null,
   "id": "529d7037-6c5d-436f-8035-accafb090bfd",
   "metadata": {
    "tags": []
   },
   "outputs": [],
   "source": [
    "raw_data.to_csv(\"xie_raw_data_heatmap.csv\")"
   ]
  },
  {
   "cell_type": "code",
   "execution_count": null,
   "id": "09a5d3c6-ee69-4f27-ad1e-fc93a3aef68c",
   "metadata": {
    "tags": []
   },
   "outputs": [],
   "source": [
    "###sort by expression\n",
    "df = fisher_set.to_df(layer = \"log1pPF_normalization\")\n",
    "\n",
    "\n",
    "genes_to_plot = df[df.sum().sort_values(ascending=False).index].columns.to_list()\n",
    "\n",
    "fig, ax = plt.subplots(ncols = 1, nrows = 4, figsize = (15,15))\n",
    "\n",
    "ax_dict = sc.pl.dotplot(fisher_set, genes_to_plot[0:50],\n",
    "              groupby='condition',\n",
    "              layer = \"log1pPF_normalization\",\n",
    "              dendrogram=False,\n",
    "              dot_max=0.3,\n",
    "              dot_min=0.01,\n",
    "              ax = ax[0],\n",
    "              show = False,\n",
    "              standard_scale='var',\n",
    "              categories_order = [\"steady_state\", \"Ecoli\"],\n",
    "              cmap = \"RdYlBu_r\",\n",
    "              mean_only_expressed = False)\n",
    "\n",
    "ax_dict[\"size_legend_ax\"].remove()\n",
    "ax_dict[\"color_legend_ax\"].remove()\n",
    "ax_dict[\"mainplot_ax\"].set_xticklabels(ax_dict[\"mainplot_ax\"].get_xticklabels(), ha = \"right\", rotation = 45)\n",
    "\n",
    "ax_dict = sc.pl.dotplot(fisher_set, genes_to_plot[51:100],\n",
    "              groupby='condition',\n",
    "              layer = \"log1pPF_normalization\",\n",
    "              dendrogram=False,\n",
    "              dot_max=0.3,\n",
    "              dot_min=0.01,\n",
    "              ax = ax[1],\n",
    "              show = False,\n",
    "              standard_scale='var',\n",
    "              categories_order = [\"steady_state\", \"Ecoli\"],\n",
    "              cmap = \"RdYlBu_r\",\n",
    "              mean_only_expressed = False)\n",
    "ax_dict[\"size_legend_ax\"].remove()\n",
    "ax_dict[\"color_legend_ax\"].remove()\n",
    "ax_dict[\"mainplot_ax\"].set_xticklabels(ax_dict[\"mainplot_ax\"].get_xticklabels(), ha = \"right\", rotation = 45)\n",
    "\n",
    "ax_dict = sc.pl.dotplot(fisher_set, genes_to_plot[101:150],\n",
    "              groupby='condition',\n",
    "              layer = \"log1pPF_normalization\",\n",
    "              dendrogram=False,\n",
    "              dot_max=0.3,\n",
    "              dot_min=0.01,\n",
    "              ax = ax[2],\n",
    "              show = False,\n",
    "              standard_scale='var',\n",
    "              categories_order = [\"steady_state\", \"Ecoli\"],\n",
    "              cmap = \"RdYlBu_r\",\n",
    "              mean_only_expressed = False)\n",
    "ax_dict[\"size_legend_ax\"].remove()\n",
    "ax_dict[\"color_legend_ax\"].remove()\n",
    "ax_dict[\"mainplot_ax\"].set_xticklabels(ax_dict[\"mainplot_ax\"].get_xticklabels(), ha = \"right\", rotation = 45)\n",
    "\n",
    "ax_dict = sc.pl.dotplot(fisher_set, genes_to_plot[151:],\n",
    "              groupby='condition',\n",
    "              layer = \"log1pPF_normalization\",\n",
    "              dendrogram=False,\n",
    "              dot_max=0.3,\n",
    "              dot_min=0.01,\n",
    "              ax = ax[3],\n",
    "              show = False,\n",
    "              standard_scale='var',\n",
    "              categories_order = [\"steady_state\", \"Ecoli\"],\n",
    "              cmap = \"RdYlBu_r\",\n",
    "              mean_only_expressed = False)\n",
    "\n",
    "ax_dict[\"mainplot_ax\"].set_xticklabels(ax_dict[\"mainplot_ax\"].get_xticklabels(), ha = \"right\", rotation = 45)\n",
    "\n",
    "plt.subplots_adjust(bottom = 0, top = 0.6)\n",
    "#plt.tight_layout(pad=0)\n",
    "plt.savefig(\"dotplot.pdf\", dpi = 300, bbox_inches = \"tight\")\n",
    "plt.show()"
   ]
  },
  {
   "cell_type": "code",
   "execution_count": null,
   "id": "75a40404-3fb4-4cee-935a-1ff183a80426",
   "metadata": {},
   "outputs": [],
   "source": [
    "dataset = sc.read(\"../../int_data/dataset_qc_with_velocity.h5ad\")\n",
    "\n",
    "organ_map = {'Bone marrow neutrophil': \"bone_marrow\", 'Liver neutrophil': \"liver\", 'Peripheral blood neutrophil': \"peripheral_blood\", 'Peritoneal cavity neutrophil': \"peritoneal_cavity\", 'Spleen neutrophil': \"spleen\"}\n",
    "condition_map = {'E. coli challenge (24h)': \"Ecoli\", 'Steady state': \"steady_state\"}\n",
    "dataset.obs[\"condition\"] = dataset.obs[\"Condition\"].map(condition_map)\n",
    "dataset.obs[\"organ\"] = dataset.obs[\"Cell_type\"].map(organ_map)\n",
    "\n",
    "fisher_set = dataset[:, dataset.var_names.isin(fisher_genes_up_mouse)].copy()"
   ]
  },
  {
   "cell_type": "code",
   "execution_count": null,
   "id": "cdf8bef3-bcf4-4d80-ae04-73f8f5b5086d",
   "metadata": {
    "tags": []
   },
   "outputs": [],
   "source": [
    "velocity_set = fisher_set[:,~np.all(np.isnan(fisher_set.layers[\"velocity\"]), axis=0)].copy()"
   ]
  },
  {
   "cell_type": "code",
   "execution_count": null,
   "id": "f661c00b-6a3f-4e1f-a666-37801243478a",
   "metadata": {
    "tags": []
   },
   "outputs": [],
   "source": [
    "df = velocity_set.to_df(layer = \"velocity\").dropna(axis = 1)\n",
    "df = df.clip(lower = np.quantile(df, 0.1),\n",
    "             upper = np.quantile(df, 0.9))\n",
    "df[df.columns] = StandardScaler().fit_transform(df.values)\n",
    "df[\"condition\"] = velocity_set.obs[\"condition\"].to_list()\n",
    "\n",
    "fig, ax = plt.subplots(ncols = 1, nrows = 1, figsize = (18,5))\n",
    "ax_dict = sc.pl.matrixplot(velocity_set,\n",
    "                           df.groupby(\"condition\").mean().sort_values(by = \"steady_state\", axis = 1).columns.to_list(), \n",
    "                           groupby='condition',\n",
    "                           layer = \"velocity\",\n",
    "                           cmap = \"RdYlBu_r\",\n",
    "                           #standard_scale = \"var\",\n",
    "                           categories_order = [\"steady_state\", \"Ecoli\"],\n",
    "                           ax = ax,\n",
    "                           show = False,\n",
    "                           colorbar_title = \"Expr\")\n",
    "\n",
    "#ax_dict[\"mainplot_ax\"].set_xticks([i for i, gene in enumerate(x) if gene in goi])\n",
    "#ax_dict[\"mainplot_ax\"].set_xticklabels([gene for gene in x if gene in goi], ha = \"right\", rotation = 45)\n",
    "#ax_dict[\"color_legend_ax\"].remove()\n",
    "\n",
    "plt.savefig(\"heatmap_fisher_velocity.pdf\", dpi = 300, bbox_inches = \"tight\")\n",
    "plt.show()"
   ]
  },
  {
   "cell_type": "code",
   "execution_count": null,
   "id": "cfa2b738-626a-466c-8ebe-72a379746a65",
   "metadata": {
    "tags": []
   },
   "outputs": [],
   "source": [
    "df = velocity_set.to_df(layer = \"velocity\").dropna(axis = 1)\n",
    "df = df.clip(lower = np.quantile(df, 0.1),\n",
    "             upper = np.quantile(df, 0.9))\n",
    "df[df.columns] = StandardScaler().fit_transform(df.values)\n",
    "df[\"condition\"] = velocity_set.obs[\"condition\"].to_list()\n",
    "\n",
    "\n",
    "df[\"batch\"] = velocity_set.obs[\"batch\"].to_list()\n",
    "df[\"organ\"] = velocity_set.obs[\"organ\"].to_list()\n",
    "plotz = df.groupby([\"condition\", \"batch\", \"organ\"]).mean().reset_index().melt(id_vars = [\"condition\", \"batch\", \"organ\"])\n",
    "plotz.to_csv(f\"velocity_grouped.csv\")"
   ]
  },
  {
   "cell_type": "code",
   "execution_count": null,
   "id": "f1399bc5-89dd-4cc0-be2b-a32a5a8e4c8c",
   "metadata": {
    "tags": []
   },
   "outputs": [],
   "source": [
    "%%R -i plotz -o pvalue_ecoli\n",
    "\n",
    "gene_set_scores <- plotz\n",
    "gene_set_scores$condition <- factor(gene_set_scores$condition, levels = c(\"steady_state\", \"Ecoli\"))\n",
    "gene_set_scores$batch <- factor(gene_set_scores$batch)\n",
    "gene_set_scores <- gene_set_scores[gene_set_scores$condition %in% c(\"steady_state\", \"Ecoli\"),]\n",
    "\n",
    "lm0 <- lmerTest::lmer(value ~ (1|organ) + (1|batch), data = gene_set_scores, REML = FALSE)\n",
    "lm1 <- lmerTest::lmer(value ~ condition + (1|organ) + (1|batch), data = gene_set_scores, REML = FALSE)\n",
    "\n",
    "test <- anova(lm0, lm1)\n",
    "pvalue_ecoli <- test$`Pr(>Chisq)`[2]\n"
   ]
  },
  {
   "cell_type": "code",
   "execution_count": null,
   "id": "f84378dd-f125-41d0-9a5d-dbb286c157b3",
   "metadata": {
    "tags": []
   },
   "outputs": [],
   "source": [
    "sc.set_figure_params(vector_friendly=True, dpi_save=300)\n",
    "sns.set_style({'axes.grid' : False})\n",
    "pairs = [\n",
    "    (\"steady_state\", \"Ecoli\")\n",
    "]\n",
    "\n",
    "p_values = [pvalue_ecoli[0]]\n",
    "\n",
    "fig, ax = plt.subplots(ncols = 1, nrows = 1, figsize = (4,4))\n",
    "\n",
    "ax0_parameters = {\n",
    "    'data':    plotz,\n",
    "    'x':       'condition',\n",
    "    'y':       'value',\n",
    "    'ax': ax,\n",
    "    'order': [\"steady_state\", \"Ecoli\"]\n",
    "}\n",
    "\n",
    "sns.boxplot(whis = (0,100),\n",
    "            **ax0_parameters)\n",
    "\n",
    "annotator = Annotator(pairs = pairs,\n",
    "                      **ax0_parameters)\n",
    "annotator.configure(loc = \"inside\", line_offset = \"asd\")\n",
    "annotator.set_pvalues(p_values)\n",
    "\n",
    "annotator.annotate()\n",
    "\n",
    "ax.set_title(\"Fisher Velocity\")\n",
    "ax.set_ylabel(\"velocity vector\")\n",
    "ax.set_xlabel(\"\")\n",
    "ax.set_xticklabels(ax.get_xticklabels(), rotation = 45, ha = \"right\")\n",
    "\n",
    "plt.tight_layout()\n",
    "plt.savefig(\"velocity_scores.pdf\", dpi = 300, bbox_inches = \"tight\")\n",
    "plt.show()"
   ]
  }
 ],
 "metadata": {
  "kernelspec": {
   "display_name": "py_R",
   "language": "python",
   "name": "python_r"
  },
  "language_info": {
   "codemirror_mode": {
    "name": "ipython",
    "version": 3
   },
   "file_extension": ".py",
   "mimetype": "text/x-python",
   "name": "python",
   "nbconvert_exporter": "python",
   "pygments_lexer": "ipython3",
   "version": "3.10.11"
  }
 },
 "nbformat": 4,
 "nbformat_minor": 5
}
