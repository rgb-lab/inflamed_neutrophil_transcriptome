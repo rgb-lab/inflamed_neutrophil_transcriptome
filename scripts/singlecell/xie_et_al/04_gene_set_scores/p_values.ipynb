{
 "cells": [
  {
   "cell_type": "code",
   "execution_count": null,
   "id": "68e5e76f-dafd-4a73-a885-3b9f41cf297d",
   "metadata": {
    "tags": []
   },
   "outputs": [],
   "source": [
    "library(lme4)\n",
    "\n",
    "expression <- read.csv(\"expression.csv\", row.names = 1)"
   ]
  },
  {
   "cell_type": "code",
   "execution_count": null,
   "id": "df50b83f-4cc6-46af-99f0-04bc211f168d",
   "metadata": {
    "tags": []
   },
   "outputs": [],
   "source": [
    "modeling <- function(df, parameter){\n",
    "    lm0 <- lmer(get(parameter) ~ 1 + condition + (1|batch), data = df)\n",
    "    lm1 = lmer(get(parameter) ~ 1 + (1|batch), data = df)\n",
    "    a <- anova(lm0, lm1)\n",
    "    return(a[[8]][[2]])\n",
    "}\n",
    "\n",
    "p_values = c()\n",
    "\n",
    "for(gene in colnames(expression)){\n",
    "    append(p_values, modeling(expression, gene))\n",
    "}\n",
    "\n",
    "names(p_values) <- colnames(expression)\n",
    "\n",
    "saveRDS(p_values, \"p_values.rds\")"
   ]
  }
 ],
 "metadata": {
  "kernelspec": {
   "display_name": "R 4.2",
   "language": "R",
   "name": "ir42"
  },
  "language_info": {
   "codemirror_mode": "r",
   "file_extension": ".r",
   "mimetype": "text/x-r-source",
   "name": "R",
   "pygments_lexer": "r",
   "version": "4.2.2"
  }
 },
 "nbformat": 4,
 "nbformat_minor": 5
}
