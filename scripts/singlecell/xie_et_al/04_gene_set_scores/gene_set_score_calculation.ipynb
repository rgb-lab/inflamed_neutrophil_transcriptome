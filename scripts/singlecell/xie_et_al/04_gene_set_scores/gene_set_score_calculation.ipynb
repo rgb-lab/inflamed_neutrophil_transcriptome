{
 "cells": [
  {
   "cell_type": "code",
   "execution_count": null,
   "id": "1fa3e600-f7b5-4e5c-bb72-1df70b984429",
   "metadata": {
    "papermill": {
     "duration": 67.296107,
     "end_time": "2023-06-07T11:04:28.853369",
     "exception": false,
     "start_time": "2023-06-07T11:03:21.557262",
     "status": "completed"
    },
    "tags": []
   },
   "outputs": [],
   "source": [
    "import gc\n",
    "import scanpy as sc\n",
    "import muon as mu\n",
    "import seaborn as sns\n",
    "import os\n",
    "import pandas as pd\n",
    "from matplotlib import pyplot as plt\n",
    "\n",
    "os.environ['R_HOME'] = '/gpfs/bwfor/work/ws/hd_fu399-conda/conda/envs/python_R/lib/R/'\n",
    "import anndata2ri\n",
    "import logging\n",
    "\n",
    "import rpy2.rinterface_lib.callbacks as rcb\n",
    "import rpy2.robjects as ro\n",
    "\n",
    "rcb.logger.setLevel(logging.ERROR)\n",
    "ro.pandas2ri.activate()\n",
    "anndata2ri.activate()\n",
    "\n",
    "%load_ext rpy2.ipython"
   ]
  },
  {
   "cell_type": "code",
   "execution_count": null,
   "id": "8cfe7349-496a-4240-a246-4b740e6e71e4",
   "metadata": {
    "papermill": {
     "duration": 19.254151,
     "end_time": "2023-06-07T11:04:48.114106",
     "exception": false,
     "start_time": "2023-06-07T11:04:28.859955",
     "status": "completed"
    },
    "tags": []
   },
   "outputs": [],
   "source": [
    "%%R\n",
    "library(SingleCellExperiment)\n",
    "library(Seurat)\n",
    "library(UCell)\n",
    "library(ggplot2)"
   ]
  },
  {
   "cell_type": "code",
   "execution_count": null,
   "id": "40898400-220f-41e3-bd92-92b5157218cb",
   "metadata": {
    "papermill": {
     "duration": 0.03461,
     "end_time": "2023-06-07T11:04:48.152247",
     "exception": false,
     "start_time": "2023-06-07T11:04:48.117637",
     "status": "completed"
    },
    "tags": []
   },
   "outputs": [],
   "source": [
    "fisher_genes_up = pd.read_csv(\"../../../fisher_up_genes.csv\", index_col = 0)[\"symbol\"].to_list()\n",
    "fisher_genes_down = pd.read_csv(\"../../../fisher_dn_genes.csv\", index_col = 0)[\"symbol\"].to_list()"
   ]
  },
  {
   "cell_type": "code",
   "execution_count": null,
   "id": "4fd8e7f1-8512-4e62-8b55-9107798311d4",
   "metadata": {
    "papermill": {
     "duration": 6.933449,
     "end_time": "2023-06-07T11:04:55.087590",
     "exception": false,
     "start_time": "2023-06-07T11:04:48.154141",
     "status": "completed"
    },
    "tags": []
   },
   "outputs": [],
   "source": [
    "%%R -i fisher_genes_up -o fisher_genes_up_mouse\n",
    "\n",
    "gene_list <- fisher_genes_up\n",
    "library(dplyr)\n",
    "mouse_human_genes = read.csv(\"http://www.informatics.jax.org/downloads/reports/HOM_MouseHumanSequence.rpt\",sep=\"\\t\")\n",
    "\n",
    "convert_human_to_mouse <- function(gene_list){\n",
    "\n",
    "  output = c()\n",
    "\n",
    "  for(gene in gene_list){\n",
    "    class_key = (mouse_human_genes %>% filter(Symbol == gene & Common.Organism.Name==\"human\"))[['DB.Class.Key']]\n",
    "    if(!identical(class_key, integer(0)) ){\n",
    "      human_genes = (mouse_human_genes %>% filter(DB.Class.Key == class_key & Common.Organism.Name==\"mouse, laboratory\"))[,\"Symbol\"]\n",
    "      for(human_gene in human_genes){\n",
    "        output = append(output,human_gene)\n",
    "      }\n",
    "    }\n",
    "  }\n",
    "\n",
    "  return (output)\n",
    "}\n",
    "\n",
    "fisher_genes_up_mouse <- convert_human_to_mouse(fisher_genes_up)"
   ]
  },
  {
   "cell_type": "code",
   "execution_count": null,
   "id": "8c39fcb9-6d86-4bcd-94ee-7f71c40bad71",
   "metadata": {
    "papermill": {
     "duration": 0.001852,
     "end_time": "2023-06-07T11:04:55.097467",
     "exception": false,
     "start_time": "2023-06-07T11:04:55.095615",
     "status": "completed"
    },
    "tags": []
   },
   "outputs": [],
   "source": [
    "pd.DataFrame(data = fisher_genes_up_mouse, columns = [\"fisher_genes\"], index = [i for i in range(len(fisher_genes_up_mouse))]).to_csv(\"../../fisher_mouse_genes.csv\")"
   ]
  },
  {
   "cell_type": "code",
   "execution_count": null,
   "id": "4a3eb9ea-de28-4d0b-ab2f-fc742f46cac2",
   "metadata": {},
   "outputs": [],
   "source": []
  },
  {
   "cell_type": "code",
   "execution_count": null,
   "id": "0c7ee8aa-06d7-4ba6-80ba-ebbf35748629",
   "metadata": {
    "execution": {
     "iopub.execute_input": "2023-06-07T11:04:55.102094Z",
     "iopub.status.busy": "2023-06-07T11:04:55.101784Z",
     "iopub.status.idle": "2023-06-07T11:06:52.002133Z",
     "shell.execute_reply": "2023-06-07T11:06:52.001617Z"
    },
    "papermill": {
     "duration": 116.904037,
     "end_time": "2023-06-07T11:06:52.003322",
     "exception": false,
     "start_time": "2023-06-07T11:04:55.099285",
     "status": "completed"
    },
    "tags": []
   },
   "outputs": [],
   "source": [
    "### integrated by scanvi\n",
    "\n",
    "dataset = sc.read(\"../../int_data/dataset_integrated_scANVI_cell_type.h5ad\")\n",
    "dataset.obs[[\"AvgSpotLen\", \"Bases\", \"Bytes\", \"version\"]] = dataset.obs[[\"AvgSpotLen\", \"Bases\", \"Bytes\", \"version\"]].astype(\"str\")\n",
    "dataset = dataset[dataset.obs[\"cell_type\"] == \"Neutrophils\", :].copy()\n",
    "dataset.X = dataset.layers[\"scANVI_normalized\"]\n",
    "#sc.pp.normalize_total(dataset, target_sum = 1e4)\n",
    "sc.pp.log1p(dataset)\n",
    "sc.tl.score_genes(dataset, fisher_genes_up_mouse, ctrl_size=100, score_name = \"fisher_up\")\n",
    "sc.pp.neighbors(dataset, use_rep = \"X_scANVI\")\n",
    "sc.tl.umap(dataset)\n",
    "sc.pl.umap(dataset, color = [\"condition\", \"organ\", \"batch\"], wspace = 0.6)\n",
    "\n",
    "dataset.obs.to_csv(\"gene_set_scores_integrated_scanpy_scanpy.csv\")\n",
    "\n",
    "del dataset.obsp\n",
    "del dataset.uns\n",
    "gc.collect()\n",
    "\n",
    "dataset.X = dataset.layers[\"scANVI_normalized\"]"
   ]
  },
  {
   "cell_type": "code",
   "execution_count": null,
   "id": "a0eeadf9-6145-4d6b-a877-f25015f7972c",
   "metadata": {
    "execution": {
     "iopub.execute_input": "2023-06-07T11:06:52.019676Z",
     "iopub.status.busy": "2023-06-07T11:06:52.019415Z",
     "iopub.status.idle": "2023-06-07T11:15:00.887800Z",
     "shell.execute_reply": "2023-06-07T11:15:00.887187Z"
    },
    "papermill": {
     "duration": 488.884536,
     "end_time": "2023-06-07T11:15:00.897244",
     "exception": false,
     "start_time": "2023-06-07T11:06:52.012708",
     "status": "completed"
    },
    "tags": []
   },
   "outputs": [],
   "source": [
    "%%R -i dataset\n",
    "\n",
    "sce <- SingleCellExperiment(list(counts=dataset@assays@data[[\"scANVI_normalized\"]]),\n",
    "    colData=dataset@colData,\n",
    ")\n",
    "\n",
    "row.names(sce) <- row.names(dataset)\n",
    "\n",
    "data <- as.Seurat(sce, data = NULL)\n",
    "\n",
    "#data <- NormalizeData(data)\n",
    "data <- ScaleData(data, features = row.names(data))\n",
    "data <- FindVariableFeatures(data)\n",
    "data <- RunPCA(data, verbose = F)\n",
    "data <- FindNeighbors(data, verbose = F)\n",
    "data <- FindClusters(data, verbose = F)\n",
    "data <- RunUMAP(data, dims = 1:20, verbose = F)\n",
    "\n",
    "data <- AddModuleScore(data, list(fisher_genes_up_mouse), name = \"Seurat_fisher_up\", ctrl = 100)\n",
    "data <- AddModuleScore_UCell(data, features = list(\"UCell_fisher_up\" = fisher_genes_up_mouse))\n",
    "\n",
    "write.csv(data@meta.data, \"gene_set_scores_integrated_scanpy_R.csv\")\n",
    "\n",
    "DimPlot(data, group.by = \"organ\")\n",
    "\n",
    "gc()"
   ]
  },
  {
   "cell_type": "code",
   "execution_count": null,
   "id": "5e8ffe8b-ea02-437f-81fe-1a34907a1456",
   "metadata": {
    "execution": {
     "iopub.execute_input": "2023-06-07T11:15:00.912427Z",
     "iopub.status.busy": "2023-06-07T11:15:00.912195Z",
     "iopub.status.idle": "2023-06-07T11:15:59.221027Z",
     "shell.execute_reply": "2023-06-07T11:15:59.220478Z"
    },
    "papermill": {
     "duration": 58.317549,
     "end_time": "2023-06-07T11:15:59.222420",
     "exception": false,
     "start_time": "2023-06-07T11:15:00.904871",
     "status": "completed"
    },
    "tags": []
   },
   "outputs": [],
   "source": [
    "dataset = sc.read(\"../../int_data/dataset_integrated_scANVI_cell_type.h5ad\")\n",
    "dataset.obs[[\"AvgSpotLen\", \"Bases\", \"Bytes\", \"version\"]] = dataset.obs[[\"AvgSpotLen\", \"Bases\", \"Bytes\", \"version\"]].astype(\"str\")\n",
    "dataset = dataset[dataset.obs[\"cell_type\"] == \"Neutrophils\", :].copy()\n",
    "dataset.X = dataset.layers[\"soupX_counts\"]\n",
    "sc.pp.normalize_total(dataset, target_sum = 1e4)\n",
    "sc.pp.log1p(dataset)\n",
    "sc.pp.pca(dataset)\n",
    "sc.tl.score_genes(dataset, fisher_genes_up_mouse, ctrl_size=100, score_name = \"fisher_up\")\n",
    "sc.pp.neighbors(dataset)\n",
    "sc.tl.umap(dataset)\n",
    "sc.pl.umap(dataset, color = [\"condition\", \"organ\", \"batch\"], wspace = 0.6)\n",
    "\n",
    "dataset.obs.to_csv(\"gene_set_scores_raw_scanpy.csv\")\n",
    "\n",
    "del dataset.obsp\n",
    "del dataset.uns\n",
    "gc.collect()\n",
    "\n",
    "dataset.X = dataset.layers[\"soupX_counts\"]"
   ]
  },
  {
   "cell_type": "code",
   "execution_count": null,
   "id": "80d90bab-223f-477d-8561-a60e95e1dd75",
   "metadata": {
    "execution": {
     "iopub.execute_input": "2023-06-07T11:15:59.242572Z",
     "iopub.status.busy": "2023-06-07T11:15:59.242388Z",
     "iopub.status.idle": "2023-06-07T11:19:53.660196Z",
     "shell.execute_reply": "2023-06-07T11:19:53.659521Z"
    },
    "papermill": {
     "duration": 234.440602,
     "end_time": "2023-06-07T11:19:53.672892",
     "exception": false,
     "start_time": "2023-06-07T11:15:59.232290",
     "status": "completed"
    },
    "tags": []
   },
   "outputs": [],
   "source": [
    "%%R -i dataset\n",
    "\n",
    "sce <- SingleCellExperiment(list(counts=dataset@assays@data[[\"soupX_counts\"]]),\n",
    "    colData=dataset@colData,\n",
    ")\n",
    "\n",
    "row.names(sce) <- row.names(dataset)\n",
    "\n",
    "data <- as.Seurat(sce, data = NULL)\n",
    "\n",
    "data <- NormalizeData(data)\n",
    "data <- ScaleData(data, features = row.names(data))\n",
    "data <- FindVariableFeatures(data)\n",
    "data <- RunPCA(data, verbose = F)\n",
    "data <- FindNeighbors(data, verbose = F)\n",
    "data <- FindClusters(data, verbose = F)\n",
    "data <- RunUMAP(data, dims = 1:20, verbose = F)\n",
    "\n",
    "data <- AddModuleScore(data, list(fisher_genes_up_mouse), name = \"Seurat_fisher_up\", ctrl = 100)\n",
    "data <- AddModuleScore_UCell(data, features = list(\"UCell_fisher_up\" = fisher_genes_up_mouse))\n",
    "\n",
    "write.csv(data@meta.data, \"gene_set_scores_raw_R.csv\")\n",
    "\n",
    "DimPlot(data, group.by = \"organ\")\n",
    "\n",
    "gc()"
   ]
  },
  {
   "cell_type": "code",
   "execution_count": null,
   "id": "f9cbe0dc-83e6-40da-b249-670eec3bfa37",
   "metadata": {
    "execution": {
     "iopub.execute_input": "2023-06-07T11:19:53.697172Z",
     "iopub.status.busy": "2023-06-07T11:19:53.696925Z",
     "iopub.status.idle": "2023-06-07T11:21:50.975773Z",
     "shell.execute_reply": "2023-06-07T11:21:50.975256Z"
    },
    "papermill": {
     "duration": 117.291765,
     "end_time": "2023-06-07T11:21:50.977297",
     "exception": false,
     "start_time": "2023-06-07T11:19:53.685532",
     "status": "completed"
    },
    "tags": []
   },
   "outputs": [],
   "source": [
    "dataset = sc.read(\"../../int_data/dataset_integrated_scANVI_cell_type.h5ad\")\n",
    "dataset.obs[[\"AvgSpotLen\", \"Bases\", \"Bytes\", \"version\"]] = dataset.obs[[\"AvgSpotLen\", \"Bases\", \"Bytes\", \"version\"]].astype(\"str\")\n",
    "dataset = dataset[dataset.obs[\"cell_type\"] == \"Neutrophils\", :].copy()\n",
    "dataset.X = dataset.layers[\"soupX_counts\"]\n",
    "sc.pp.normalize_total(dataset, target_sum = 1e4)\n",
    "sc.pp.log1p(dataset)\n",
    "sc.pp.scale(dataset, max_value = 10)\n",
    "sc.pp.pca(dataset)\n",
    "sc.tl.score_genes(dataset, fisher_genes_up_mouse, ctrl_size=100, score_name = \"fisher_up\")\n",
    "sc.pp.neighbors(dataset)\n",
    "sc.tl.umap(dataset)\n",
    "sc.pl.umap(dataset, color = [\"condition\", \"organ\", \"batch\"], wspace = 0.6)\n",
    "\n",
    "dataset.obs.to_csv(\"gene_set_scores_scaled_scanpy.csv\")\n",
    "\n",
    "del dataset.obsp\n",
    "del dataset.uns\n",
    "gc.collect()\n",
    "\n",
    "dataset.X = dataset.layers[\"soupX_counts\"]"
   ]
  },
  {
   "cell_type": "code",
   "execution_count": null,
   "id": "6afb5097-47e1-4d0b-a893-a50c5de7b631",
   "metadata": {
    "execution": {
     "iopub.execute_input": "2023-06-07T11:21:51.007078Z",
     "iopub.status.busy": "2023-06-07T11:21:51.006861Z",
     "iopub.status.idle": "2023-06-07T11:25:39.422713Z",
     "shell.execute_reply": "2023-06-07T11:25:39.422198Z"
    },
    "papermill": {
     "duration": 228.451475,
     "end_time": "2023-06-07T11:25:39.443601",
     "exception": false,
     "start_time": "2023-06-07T11:21:50.992126",
     "status": "completed"
    },
    "tags": []
   },
   "outputs": [],
   "source": [
    "%%R -i dataset\n",
    "\n",
    "sce <- SingleCellExperiment(list(counts=dataset@assays@data[[\"soupX_counts\"]]),\n",
    "    colData=dataset@colData,\n",
    ")\n",
    "\n",
    "row.names(sce) <- row.names(dataset)\n",
    "\n",
    "data <- as.Seurat(sce, data = NULL)\n",
    "\n",
    "data <- NormalizeData(data)\n",
    "data <- ScaleData(data, features = row.names(data))\n",
    "data <- FindVariableFeatures(data)\n",
    "data <- RunPCA(data, verbose = F)\n",
    "data <- FindNeighbors(data, verbose = F)\n",
    "data <- FindClusters(data, verbose = F)\n",
    "data <- RunUMAP(data, dims = 1:20, verbose = F)\n",
    "\n",
    "data <- AddModuleScore(data, list(fisher_genes_up_mouse), name = \"Seurat_fisher_up\", ctrl = 100)\n",
    "data <- AddModuleScore_UCell(data, features = list(\"UCell_fisher_up\" = fisher_genes_up_mouse))\n",
    "\n",
    "write.csv(data@meta.data, \"gene_set_scores_scaled_R.csv\")\n",
    "\n",
    "DimPlot(data, group.by = \"organ\")\n",
    "\n",
    "gc()"
   ]
  },
  {
   "cell_type": "code",
   "execution_count": null,
   "id": "f446130f-4073-488f-bdb8-dc3a504af1b0",
   "metadata": {
    "execution": {
     "iopub.execute_input": "2023-06-07T11:25:39.472638Z",
     "iopub.status.busy": "2023-06-07T11:25:39.472351Z",
     "iopub.status.idle": "2023-06-07T11:29:06.865969Z",
     "shell.execute_reply": "2023-06-07T11:29:06.865202Z"
    },
    "papermill": {
     "duration": 207.409603,
     "end_time": "2023-06-07T11:29:06.867421",
     "exception": false,
     "start_time": "2023-06-07T11:25:39.457818",
     "status": "completed"
    },
    "tags": []
   },
   "outputs": [],
   "source": [
    "%%R\n",
    "\n",
    "data <- readRDS(\"../../int_data/dataset_seurat_integrated.rds\")\n",
    "data <- RunPCA(data, verbose = F)\n",
    "data <- FindNeighbors(data, verbose = F)\n",
    "data <- FindClusters(data, verbose = F)\n",
    "data <- RunUMAP(data, dims = 1:20, verbose = F)\n",
    "\n",
    "data <- AddModuleScore(data, list(fisher_genes_up_mouse), name = \"Seurat_fisher_up\", ctrl = 100)\n",
    "data <- AddModuleScore_UCell(data, features = list(\"UCell_fisher_up\" = fisher_genes_up_mouse))\n",
    "\n",
    "write.csv(data@meta.data, \"gene_set_scores_integrated_seurat_R.csv\")"
   ]
  },
  {
   "cell_type": "code",
   "execution_count": null,
   "id": "219c3473-b5b8-4d03-886b-5a748363c659",
   "metadata": {
    "execution": {
     "iopub.execute_input": "2023-06-07T11:29:06.900856Z",
     "iopub.status.busy": "2023-06-07T11:29:06.900311Z",
     "iopub.status.idle": "2023-06-07T11:29:07.929484Z",
     "shell.execute_reply": "2023-06-07T11:29:07.928977Z"
    },
    "papermill": {
     "duration": 1.045143,
     "end_time": "2023-06-07T11:29:07.930798",
     "exception": false,
     "start_time": "2023-06-07T11:29:06.885655",
     "status": "completed"
    },
    "tags": []
   },
   "outputs": [],
   "source": [
    "scanpy_integrated = pd.read_csv(\"gene_set_scores_integrated_scanpy_scanpy.csv\", index_col = 0)\n",
    "scanpy_integrated_r = pd.read_csv(\"gene_set_scores_integrated_scanpy_R.csv\", index_col = 0)\n",
    "\n",
    "scanpy_raw = pd.read_csv(\"gene_set_scores_raw_scanpy.csv\", index_col = 0)\n",
    "scanpy_raw_r = pd.read_csv(\"gene_set_scores_raw_R.csv\", index_col = 0)\n",
    "\n",
    "scanpy_scaled = pd.read_csv(\"gene_set_scores_scaled_scanpy.csv\", index_col = 0)\n",
    "scanpy_scaled_r = pd.read_csv(\"gene_set_scores_scaled_R.csv\", index_col = 0)\n",
    "\n",
    "seurat_integrated = pd.read_csv(\"gene_set_scores_integrated_seurat_R.csv\", index_col = 0)\n",
    "\n",
    "df = pd.DataFrame(index = scanpy_integrated.index, data = {\"scanpy_int_scanpy\": scanpy_integrated[\"fisher_up\"],\n",
    "                                                           \"seurat_int_scanpy\": scanpy_integrated_r[\"Seurat_fisher_up1\"],\n",
    "                                                           \"ucell_int_scanpy\": scanpy_integrated_r[\"UCell_fisher_up_UCell\"],\n",
    "                                                           \n",
    "                                                           \"sc_raw\": scanpy_raw[\"fisher_up\"],\n",
    "                                                           \"sc_scaled\": scanpy_scaled[\"fisher_up\"],\n",
    "                                                           \"seurat_raw\": scanpy_raw_r[\"Seurat_fisher_up1\"],\n",
    "                                                           \"seurat_scaled\": scanpy_scaled_r[\"Seurat_fisher_up1\"],\n",
    "                                                           \"ucell_raw\": scanpy_raw_r[\"UCell_fisher_up_UCell\"],\n",
    "                                                           \"ucell_scaled\": scanpy_scaled_r[\"UCell_fisher_up_UCell\"],\n",
    "                                                           \n",
    "                                                           \"seurat_int_seurat\": seurat_integrated[\"Seurat_fisher_up1\"],\n",
    "                                                           \"ucell_int_seurat\": seurat_integrated[\"UCell_fisher_up_UCell\"],\n",
    "                                                           \"organ\": scanpy_integrated[\"organ\"],\n",
    "                                                           \"condition\": scanpy_integrated[\"condition\"]})\n"
   ]
  }
 ],
 "metadata": {
  "kernelspec": {
   "display_name": "py_R",
   "language": "python",
   "name": "python_r"
  },
  "language_info": {
   "codemirror_mode": {
    "name": "ipython",
    "version": 3
   },
   "file_extension": ".py",
   "mimetype": "text/x-python",
   "name": "python",
   "nbconvert_exporter": "python",
   "pygments_lexer": "ipython3",
   "version": "3.10.11"
  },
  "papermill": {
   "default_parameters": {},
   "duration": 1552.941719,
   "end_time": "2023-06-07T11:29:11.865876",
   "environment_variables": {},
   "exception": null,
   "input_path": "gene_set_score_calculation.ipynb",
   "output_path": "gene_set_score_calculation.ipynb",
   "parameters": {},
   "start_time": "2023-06-07T11:03:18.924157",
   "version": "2.4.0"
  }
 },
 "nbformat": 4,
 "nbformat_minor": 5
}
