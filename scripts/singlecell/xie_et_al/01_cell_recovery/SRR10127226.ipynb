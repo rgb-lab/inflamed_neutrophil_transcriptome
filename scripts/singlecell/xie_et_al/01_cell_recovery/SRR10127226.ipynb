{
 "cells": [
  {
   "cell_type": "code",
   "execution_count": null,
   "id": "f87ed95b-2b67-4a5a-8fe2-47359b1dd2a9",
   "metadata": {
    "execution": {
     "iopub.execute_input": "2023-06-06T11:22:19.315751Z",
     "iopub.status.busy": "2023-06-06T11:22:19.315589Z",
     "iopub.status.idle": "2023-06-06T11:22:19.320126Z",
     "shell.execute_reply": "2023-06-06T11:22:19.319812Z"
    },
    "papermill": {
     "duration": 0.038006,
     "end_time": "2023-06-06T11:22:19.321031",
     "exception": false,
     "start_time": "2023-06-06T11:22:19.283025",
     "status": "completed"
    },
    "tags": []
   },
   "outputs": [],
   "source": [
    "import warnings\n",
    "warnings.simplefilter(action='ignore', category=FutureWarning)\n",
    "warnings.simplefilter(action='ignore', category=UserWarning)"
   ]
  },
  {
   "cell_type": "code",
   "execution_count": null,
   "id": "85161f19-b2c5-490b-8cab-c2cf9653b304",
   "metadata": {
    "execution": {
     "iopub.execute_input": "2023-06-06T11:22:19.328607Z",
     "iopub.status.busy": "2023-06-06T11:22:19.328354Z",
     "iopub.status.idle": "2023-06-06T11:22:52.241858Z",
     "shell.execute_reply": "2023-06-06T11:22:52.241344Z"
    },
    "papermill": {
     "duration": 32.91772,
     "end_time": "2023-06-06T11:22:52.243158",
     "exception": false,
     "start_time": "2023-06-06T11:22:19.325438",
     "status": "completed"
    },
    "tags": []
   },
   "outputs": [],
   "source": [
    "import gc\n",
    "import scanpy as sc\n",
    "import muon as mu\n",
    "import seaborn as sns\n",
    "import os\n",
    "import pandas as pd\n",
    "from matplotlib import pyplot as plt\n",
    "\n",
    "os.environ['R_HOME'] = '/gpfs/bwfor/work/ws/hd_fu399-conda/conda/envs/python_R/lib/R/'\n",
    "import anndata2ri\n",
    "import logging\n",
    "\n",
    "import rpy2.rinterface_lib.callbacks as rcb\n",
    "import rpy2.robjects as ro\n",
    "\n",
    "rcb.logger.setLevel(logging.ERROR)\n",
    "ro.pandas2ri.activate()\n",
    "anndata2ri.activate()\n",
    "\n",
    "%load_ext rpy2.ipython"
   ]
  },
  {
   "cell_type": "code",
   "execution_count": null,
   "id": "fc4ade78-b728-4704-9db6-45fbaab62ba1",
   "metadata": {
    "execution": {
     "iopub.execute_input": "2023-06-06T11:22:52.277072Z",
     "iopub.status.busy": "2023-06-06T11:22:52.276754Z",
     "iopub.status.idle": "2023-06-06T11:23:09.155822Z",
     "shell.execute_reply": "2023-06-06T11:23:09.155312Z"
    },
    "papermill": {
     "duration": 16.883782,
     "end_time": "2023-06-06T11:23:09.157195",
     "exception": false,
     "start_time": "2023-06-06T11:22:52.273413",
     "status": "completed"
    },
    "tags": []
   },
   "outputs": [],
   "source": [
    "%%R\n",
    "library(SoupX)\n",
    "library(Seurat)\n",
    "library(scater)\n",
    "library(scDblFinder)\n",
    "library(BiocParallel)\n",
    "library(MuDataSeurat)\n",
    "library(DropletUtils)"
   ]
  },
  {
   "cell_type": "code",
   "execution_count": null,
   "id": "611e4882-fc48-43d1-b1cd-e65e1bde0015",
   "metadata": {
    "execution": {
     "iopub.execute_input": "2023-06-06T11:23:09.191308Z",
     "iopub.status.busy": "2023-06-06T11:23:09.191125Z",
     "iopub.status.idle": "2023-06-06T11:23:09.193666Z",
     "shell.execute_reply": "2023-06-06T11:23:09.193354Z"
    },
    "papermill": {
     "duration": 0.006908,
     "end_time": "2023-06-06T11:23:09.194492",
     "exception": false,
     "start_time": "2023-06-06T11:23:09.187584",
     "status": "completed"
    },
    "tags": []
   },
   "outputs": [],
   "source": [
    "sample_name = \"SRR10127226\""
   ]
  },
  {
   "cell_type": "code",
   "execution_count": null,
   "id": "f7424d90-7690-4290-8651-1db3f9df3a35",
   "metadata": {
    "execution": {
     "iopub.execute_input": "2023-06-06T11:23:09.200223Z",
     "iopub.status.busy": "2023-06-06T11:23:09.200063Z",
     "iopub.status.idle": "2023-06-06T11:23:09.213304Z",
     "shell.execute_reply": "2023-06-06T11:23:09.212967Z"
    },
    "papermill": {
     "duration": 0.017182,
     "end_time": "2023-06-06T11:23:09.214282",
     "exception": false,
     "start_time": "2023-06-06T11:23:09.197100",
     "status": "completed"
    },
    "tags": []
   },
   "outputs": [],
   "source": [
    "metadata = pd.read_csv(\"../../SraRunTable.txt\")"
   ]
  },
  {
   "cell_type": "code",
   "execution_count": null,
   "id": "2574ecf1-bad4-4c33-8f3f-718a358727ab",
   "metadata": {
    "execution": {
     "iopub.execute_input": "2023-06-06T11:23:09.241448Z",
     "iopub.status.busy": "2023-06-06T11:23:09.241286Z",
     "iopub.status.idle": "2023-06-06T11:23:09.243578Z",
     "shell.execute_reply": "2023-06-06T11:23:09.243274Z"
    },
    "papermill": {
     "duration": 0.006395,
     "end_time": "2023-06-06T11:23:09.244363",
     "exception": false,
     "start_time": "2023-06-06T11:23:09.237968",
     "status": "completed"
    },
    "tags": []
   },
   "outputs": [],
   "source": [
    "raw_input = f\"/home/hd/hd_hd/hd_fu399/sds-hd/sd21k006/scRNAseq/revision_natcomm/xie_et_al/{sample_name}/{sample_name}/outs/raw_feature_bc_matrix.h5\""
   ]
  },
  {
   "cell_type": "code",
   "execution_count": null,
   "id": "e266d388-1802-435c-93a5-90067358739c",
   "metadata": {
    "execution": {
     "iopub.execute_input": "2023-06-06T11:23:09.250122Z",
     "iopub.status.busy": "2023-06-06T11:23:09.249868Z",
     "iopub.status.idle": "2023-06-06T11:23:10.334688Z",
     "shell.execute_reply": "2023-06-06T11:23:10.334256Z"
    },
    "papermill": {
     "duration": 1.088744,
     "end_time": "2023-06-06T11:23:10.335627",
     "exception": false,
     "start_time": "2023-06-06T11:23:09.246883",
     "status": "completed"
    },
    "tags": []
   },
   "outputs": [],
   "source": [
    "dataset = sc.read_10x_h5(raw_input)\n",
    "dataset.var_names_make_unique()\n",
    "dataset.obs_names_make_unique()\n",
    "\n",
    "dataset.layers[\"raw_counts\"] = dataset.X.copy()\n",
    "data_tod = dataset.layers[\"raw_counts\"].T.copy()\n",
    "\n",
    "dataset"
   ]
  },
  {
   "cell_type": "code",
   "execution_count": null,
   "id": "af9f5892-ed31-42a6-991b-4e096f582cef",
   "metadata": {
    "execution": {
     "iopub.execute_input": "2023-06-06T11:23:10.354426Z",
     "iopub.status.busy": "2023-06-06T11:23:10.354237Z",
     "iopub.status.idle": "2023-06-06T11:23:10.439099Z",
     "shell.execute_reply": "2023-06-06T11:23:10.438600Z"
    },
    "papermill": {
     "duration": 0.089384,
     "end_time": "2023-06-06T11:23:10.440358",
     "exception": false,
     "start_time": "2023-06-06T11:23:10.350974",
     "status": "completed"
    },
    "tags": []
   },
   "outputs": [],
   "source": [
    "sce = dataset.copy()"
   ]
  },
  {
   "cell_type": "code",
   "execution_count": null,
   "id": "d03f2caf-8e74-430e-b045-0ab80401d165",
   "metadata": {
    "execution": {
     "iopub.execute_input": "2023-06-06T11:23:10.447971Z",
     "iopub.status.busy": "2023-06-06T11:23:10.447795Z",
     "iopub.status.idle": "2023-06-06T11:24:24.948227Z",
     "shell.execute_reply": "2023-06-06T11:24:24.947619Z"
    },
    "papermill": {
     "duration": 74.505159,
     "end_time": "2023-06-06T11:24:24.949749",
     "exception": false,
     "start_time": "2023-06-06T11:23:10.444590",
     "status": "completed"
    },
    "tags": []
   },
   "outputs": [],
   "source": [
    "%%R -i sce -o empty_drop_output\n",
    "set.seed(187)\n",
    "empty_drop_output <- emptyDrops(assay(sce))"
   ]
  },
  {
   "cell_type": "code",
   "execution_count": null,
   "id": "2a34a54b-3ae2-44d6-8679-8769228c5b66",
   "metadata": {
    "execution": {
     "iopub.execute_input": "2023-06-06T11:24:24.987352Z",
     "iopub.status.busy": "2023-06-06T11:24:24.987202Z",
     "iopub.status.idle": "2023-06-06T11:24:25.039290Z",
     "shell.execute_reply": "2023-06-06T11:24:25.038964Z"
    },
    "papermill": {
     "duration": 0.056457,
     "end_time": "2023-06-06T11:24:25.040210",
     "exception": false,
     "start_time": "2023-06-06T11:24:24.983753",
     "status": "completed"
    },
    "tags": []
   },
   "outputs": [],
   "source": [
    "non_empty_barcodes = empty_drop_output[empty_drop_output[\"FDR\"] < 0.001].index\n",
    "dataset = dataset[dataset.obs.index.isin(non_empty_barcodes), :]\n",
    "dataset"
   ]
  },
  {
   "cell_type": "code",
   "execution_count": null,
   "id": "016a91e5-1bef-46fb-b91e-4fb9a6870c44",
   "metadata": {
    "execution": {
     "iopub.execute_input": "2023-06-06T11:24:25.047746Z",
     "iopub.status.busy": "2023-06-06T11:24:25.047582Z",
     "iopub.status.idle": "2023-06-06T11:24:34.787920Z",
     "shell.execute_reply": "2023-06-06T11:24:34.787435Z"
    },
    "papermill": {
     "duration": 9.744994,
     "end_time": "2023-06-06T11:24:34.789318",
     "exception": false,
     "start_time": "2023-06-06T11:24:25.044324",
     "status": "completed"
    },
    "tags": []
   },
   "outputs": [],
   "source": [
    "rna_assay = dataset.copy()\n",
    "sc.pp.normalize_per_cell(rna_assay)\n",
    "sc.pp.log1p(rna_assay)\n",
    "sc.pp.pca(rna_assay)\n",
    "sc.pp.neighbors(rna_assay)\n",
    "sc.tl.leiden(rna_assay, key_added=\"soupx_groups\")\n",
    "\n",
    "soupx_groups = rna_assay.obs[\"soupx_groups\"]\n",
    "\n",
    "del rna_assay\n",
    "\n",
    "genes = dataset.var_names\n",
    "cells = dataset.obs_names\n",
    "data = dataset.X.T.copy()"
   ]
  },
  {
   "cell_type": "code",
   "execution_count": null,
   "id": "9db4ea1f-1580-4f43-a3f0-86002397cd98",
   "metadata": {
    "execution": {
     "iopub.execute_input": "2023-06-06T11:24:34.823309Z",
     "iopub.status.busy": "2023-06-06T11:24:34.823111Z",
     "iopub.status.idle": "2023-06-06T11:25:02.057676Z",
     "shell.execute_reply": "2023-06-06T11:25:02.057070Z"
    },
    "papermill": {
     "duration": 27.239517,
     "end_time": "2023-06-06T11:25:02.059039",
     "exception": false,
     "start_time": "2023-06-06T11:24:34.819522",
     "status": "completed"
    },
    "tags": []
   },
   "outputs": [],
   "source": [
    "%%R -i data -i data_tod -i genes -i cells -i soupx_groups -o out \n",
    "set.seed(187)\n",
    "# specify row and column names of data\n",
    "rownames(data) = genes\n",
    "colnames(data) = cells\n",
    "# ensure correct sparse format for table of counts and table of droplets\n",
    "data <- as(data, \"sparseMatrix\")\n",
    "data_tod <- as(data_tod, \"sparseMatrix\")\n",
    "\n",
    "# Generate SoupChannel Object for SoupX \n",
    "sc = SoupChannel(data_tod, data, calcSoupProfile = FALSE)\n",
    "\n",
    "# Add extra meta data to the SoupChannel object\n",
    "soupProf = data.frame(row.names = rownames(data),\n",
    "                      est = rowSums(data)/sum(data),\n",
    "                      counts = rowSums(data))\n",
    "sc = setSoupProfile(sc, soupProf)\n",
    "# Set cluster information in SoupChannel\n",
    "sc = setClusters(sc, soupx_groups)\n",
    "\n",
    "# Estimate contamination fraction\n",
    "sc  = autoEstCont(sc, doPlot=FALSE, forceAccept = TRUE)\n",
    "# Infer corrected table of counts and rount to integer\n",
    "out = adjustCounts(sc, roundToInt = TRUE)"
   ]
  },
  {
   "cell_type": "code",
   "execution_count": null,
   "id": "32555d5e-5fa3-46dd-a4e0-ddc96ea265e2",
   "metadata": {
    "execution": {
     "iopub.execute_input": "2023-06-06T11:25:02.093516Z",
     "iopub.status.busy": "2023-06-06T11:25:02.093310Z",
     "iopub.status.idle": "2023-06-06T11:25:02.158927Z",
     "shell.execute_reply": "2023-06-06T11:25:02.158434Z"
    },
    "papermill": {
     "duration": 0.070571,
     "end_time": "2023-06-06T11:25:02.160253",
     "exception": false,
     "start_time": "2023-06-06T11:25:02.089682",
     "status": "completed"
    },
    "tags": []
   },
   "outputs": [],
   "source": [
    "dataset.layers[\"soupX_counts\"] = out.T\n",
    "dataset.X = dataset.layers[\"soupX_counts\"].copy()"
   ]
  },
  {
   "cell_type": "code",
   "execution_count": null,
   "id": "e27da7df-e094-4d2a-9109-5a363e012175",
   "metadata": {
    "execution": {
     "iopub.execute_input": "2023-06-06T11:25:02.167216Z",
     "iopub.status.busy": "2023-06-06T11:25:02.167023Z",
     "iopub.status.idle": "2023-06-06T11:25:02.169575Z",
     "shell.execute_reply": "2023-06-06T11:25:02.169238Z"
    },
    "papermill": {
     "duration": 0.006746,
     "end_time": "2023-06-06T11:25:02.170378",
     "exception": false,
     "start_time": "2023-06-06T11:25:02.163632",
     "status": "completed"
    },
    "tags": []
   },
   "outputs": [],
   "source": [
    "data_mat = dataset.X.T"
   ]
  },
  {
   "cell_type": "code",
   "execution_count": null,
   "id": "80a993b1-5ccb-4697-9187-1beb7ab8aff9",
   "metadata": {
    "execution": {
     "iopub.execute_input": "2023-06-06T11:25:02.176660Z",
     "iopub.status.busy": "2023-06-06T11:25:02.176521Z",
     "iopub.status.idle": "2023-06-06T11:25:24.996352Z",
     "shell.execute_reply": "2023-06-06T11:25:24.995846Z"
    },
    "papermill": {
     "duration": 22.8245,
     "end_time": "2023-06-06T11:25:24.997596",
     "exception": false,
     "start_time": "2023-06-06T11:25:02.173096",
     "status": "completed"
    },
    "tags": []
   },
   "outputs": [],
   "source": [
    "%%R -i data_mat -o droplet_class\n",
    "\n",
    "set.seed(187)\n",
    "sce = scDblFinder(\n",
    "    SingleCellExperiment(\n",
    "        list(counts=data_mat),\n",
    "    ) \n",
    ")\n",
    "droplet_class = sce$scDblFinder.class"
   ]
  },
  {
   "cell_type": "code",
   "execution_count": null,
   "id": "d4dd6e9d-fcf2-41fc-8457-c8e0a3cb2c71",
   "metadata": {
    "execution": {
     "iopub.execute_input": "2023-06-06T11:25:25.062690Z",
     "iopub.status.busy": "2023-06-06T11:25:25.062493Z",
     "iopub.status.idle": "2023-06-06T11:25:25.067185Z",
     "shell.execute_reply": "2023-06-06T11:25:25.066853Z"
    },
    "papermill": {
     "duration": 0.00911,
     "end_time": "2023-06-06T11:25:25.068000",
     "exception": false,
     "start_time": "2023-06-06T11:25:25.058890",
     "status": "completed"
    },
    "tags": []
   },
   "outputs": [],
   "source": [
    "dataset.obs[\"scDblFinder_class\"] = droplet_class\n",
    "dataset.obs.scDblFinder_class.value_counts()\n",
    "dataset"
   ]
  },
  {
   "cell_type": "code",
   "execution_count": null,
   "id": "28c95014-2d6c-477f-95cb-9f9f0507520c",
   "metadata": {
    "execution": {
     "iopub.execute_input": "2023-06-06T11:25:25.074277Z",
     "iopub.status.busy": "2023-06-06T11:25:25.074071Z",
     "iopub.status.idle": "2023-06-06T11:25:25.081261Z",
     "shell.execute_reply": "2023-06-06T11:25:25.080924Z"
    },
    "papermill": {
     "duration": 0.011412,
     "end_time": "2023-06-06T11:25:25.082174",
     "exception": false,
     "start_time": "2023-06-06T11:25:25.070762",
     "status": "completed"
    },
    "tags": []
   },
   "outputs": [],
   "source": [
    "dataset = dataset[dataset.obs[\"scDblFinder_class\"] == 1]"
   ]
  },
  {
   "cell_type": "code",
   "execution_count": null,
   "id": "3e22f9e0-bfcb-416c-a151-a9bca3bec3b9",
   "metadata": {
    "execution": {
     "iopub.execute_input": "2023-06-06T11:25:25.089757Z",
     "iopub.status.busy": "2023-06-06T11:25:25.089482Z",
     "iopub.status.idle": "2023-06-06T11:25:25.340186Z",
     "shell.execute_reply": "2023-06-06T11:25:25.339741Z"
    },
    "papermill": {
     "duration": 0.254878,
     "end_time": "2023-06-06T11:25:25.341130",
     "exception": false,
     "start_time": "2023-06-06T11:25:25.086252",
     "status": "completed"
    },
    "tags": []
   },
   "outputs": [],
   "source": [
    "# mitochondrial genes\n",
    "dataset.var[\"mt\"] = dataset.var_names.str.startswith(\"mt-\")\n",
    "# ribosomal genes\n",
    "dataset.var[\"ribo\"] = dataset.var_names.str.startswith((\"Rps\", \"Rpl\"))\n",
    "# hemoglobin genes.\n",
    "dataset.var[\"hb\"] = dataset.var_names.str.contains((\"^Hb[^(P)]\"))\n",
    "\n",
    "sc.pp.calculate_qc_metrics(dataset,\n",
    "                           qc_vars=['mt', 'ribo', 'hb'],\n",
    "                           percent_top=None,\n",
    "                           log1p=False,\n",
    "                           inplace=True)\n",
    "dataset"
   ]
  },
  {
   "cell_type": "code",
   "execution_count": null,
   "id": "34deee79-4043-428f-8575-aa57b45f6369",
   "metadata": {
    "execution": {
     "iopub.execute_input": "2023-06-06T11:25:25.350530Z",
     "iopub.status.busy": "2023-06-06T11:25:25.350336Z",
     "iopub.status.idle": "2023-06-06T11:25:25.996479Z",
     "shell.execute_reply": "2023-06-06T11:25:25.996075Z"
    },
    "papermill": {
     "duration": 0.651836,
     "end_time": "2023-06-06T11:25:25.998422",
     "exception": false,
     "start_time": "2023-06-06T11:25:25.346586",
     "status": "completed"
    },
    "tags": []
   },
   "outputs": [],
   "source": [
    "fig, ax = plt.subplots(ncols = 4, figsize = (16,4))\n",
    "axis = sc.pl.violin(dataset, \"n_genes_by_counts\", jitter = 0.4, ax = ax[0], show = False)\n",
    "axis.grid(False)\n",
    "axis.set_title(\"Unique Genes per cell\")\n",
    "axis.tick_params(axis = \"x\", bottom =False, labelbottom =False)\n",
    "axis.set_ylabel(\"# genes\")\n",
    "axis.axhline(y = 250, color = \"black\", label = \"cutoff\")\n",
    "axis.legend(fontsize = 14, loc = \"upper right\")\n",
    "\n",
    "axis = sc.pl.violin(dataset, \"pct_counts_mt\", jitter = 0.4, ax = ax[1], show = False)\n",
    "axis.grid(False)\n",
    "axis.set_title(\"Mitochondrial Fraction\")\n",
    "axis.tick_params(axis = \"x\", bottom =False, labelbottom =False)\n",
    "axis.set_ylabel(\"% mitochondrial genes\")\n",
    "axis.axhline(y = 5, color = \"black\", label = \"cutoff\")\n",
    "axis.legend(fontsize = 14, loc = \"upper right\")\n",
    "\n",
    "axis = sc.pl.violin(dataset, \"pct_counts_hb\", jitter = 0.4, ax = ax[2], show = False, size =2)\n",
    "axis.grid(False)\n",
    "axis.set_title(\"Hemoglobin Fraction\")\n",
    "axis.tick_params(axis = \"x\", bottom =False, labelbottom =False)\n",
    "axis.set_ylabel(\"% hemoglobin genes\")\n",
    "axis.axhline(y = 2, color = \"black\", label = \"cutoff\")\n",
    "axis.legend(fontsize = 14, loc = \"upper right\")\n",
    "#axis.set_ylim(0,5)\n",
    "\n",
    "axis = sc.pl.violin(dataset, \"pct_counts_ribo\", jitter = 0.4, ax = ax[3], show = False)\n",
    "axis.grid(False)\n",
    "axis.set_title(\"Ribosomal Fraction\")\n",
    "axis.tick_params(axis = \"x\", bottom =False, labelbottom =False)\n",
    "axis.set_ylabel(\"% ribosome genes\")\n",
    "\n",
    "plt.tight_layout()\n",
    "#plt.savefig(f\"{outputDir}08_gene_based_filtering.pdf\", dpi = 300)\n",
    "plt.show()\n",
    "\n"
   ]
  },
  {
   "cell_type": "code",
   "execution_count": null,
   "id": "d7ade754-843e-4840-8707-426613d8c0c5",
   "metadata": {
    "execution": {
     "iopub.execute_input": "2023-06-06T11:25:26.056214Z",
     "iopub.status.busy": "2023-06-06T11:25:26.055893Z",
     "iopub.status.idle": "2023-06-06T11:25:26.066082Z",
     "shell.execute_reply": "2023-06-06T11:25:26.065701Z"
    },
    "papermill": {
     "duration": 0.032602,
     "end_time": "2023-06-06T11:25:26.066855",
     "exception": false,
     "start_time": "2023-06-06T11:25:26.034253",
     "status": "completed"
    },
    "tags": []
   },
   "outputs": [],
   "source": [
    "dataset = dataset[dataset.obs.pct_counts_mt < 5, :]\n",
    "dataset = dataset[dataset.obs.n_genes_by_counts > 250, :]\n",
    "dataset = dataset[dataset.obs.pct_counts_hb < 2, :]\n",
    "dataset"
   ]
  },
  {
   "cell_type": "code",
   "execution_count": null,
   "id": "2e0ff8c3-2aa9-4a01-9b88-5912a6734447",
   "metadata": {
    "execution": {
     "iopub.execute_input": "2023-06-06T11:25:26.089283Z",
     "iopub.status.busy": "2023-06-06T11:25:26.089124Z",
     "iopub.status.idle": "2023-06-06T11:25:26.162513Z",
     "shell.execute_reply": "2023-06-06T11:25:26.162090Z"
    },
    "papermill": {
     "duration": 0.080585,
     "end_time": "2023-06-06T11:25:26.163754",
     "exception": false,
     "start_time": "2023-06-06T11:25:26.083169",
     "status": "completed"
    },
    "tags": []
   },
   "outputs": [],
   "source": [
    "for col in metadata.columns:\n",
    "    dataset.obs[col] = metadata.loc[metadata[\"Run\"] == sample_name, col].to_list()[0]"
   ]
  },
  {
   "cell_type": "code",
   "execution_count": null,
   "id": "b84578d3-d63e-419c-a272-a0b8317d05ab",
   "metadata": {
    "execution": {
     "iopub.execute_input": "2023-06-06T11:25:26.188959Z",
     "iopub.status.busy": "2023-06-06T11:25:26.188755Z",
     "iopub.status.idle": "2023-06-06T11:25:26.759610Z",
     "shell.execute_reply": "2023-06-06T11:25:26.759190Z"
    },
    "papermill": {
     "duration": 0.578319,
     "end_time": "2023-06-06T11:25:26.760961",
     "exception": false,
     "start_time": "2023-06-06T11:25:26.182642",
     "status": "completed"
    },
    "tags": []
   },
   "outputs": [],
   "source": [
    "dataset.write(f\"../../int_data/{sample_name}_qc.h5ad\")"
   ]
  }
 ],
 "metadata": {
  "kernelspec": {
   "display_name": "py_R",
   "language": "python",
   "name": "python_r"
  },
  "language_info": {
   "codemirror_mode": {
    "name": "ipython",
    "version": 3
   },
   "file_extension": ".py",
   "mimetype": "text/x-python",
   "name": "python",
   "nbconvert_exporter": "python",
   "pygments_lexer": "ipython3",
   "version": "3.10.11"
  },
  "papermill": {
   "default_parameters": {},
   "duration": 201.141358,
   "end_time": "2023-06-06T11:25:29.879985",
   "environment_variables": {},
   "exception": null,
   "input_path": "SRR10127226.ipynb",
   "output_path": "SRR10127226.ipynb",
   "parameters": {},
   "start_time": "2023-06-06T11:22:08.738627",
   "version": "2.4.0"
  }
 },
 "nbformat": 4,
 "nbformat_minor": 5
}
