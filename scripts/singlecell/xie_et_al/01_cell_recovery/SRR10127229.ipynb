{
 "cells": [
  {
   "cell_type": "code",
   "execution_count": null,
   "id": "f87ed95b-2b67-4a5a-8fe2-47359b1dd2a9",
   "metadata": {
    "execution": {
     "iopub.execute_input": "2023-06-06T11:35:16.811592Z",
     "iopub.status.busy": "2023-06-06T11:35:16.811425Z",
     "iopub.status.idle": "2023-06-06T11:35:16.816096Z",
     "shell.execute_reply": "2023-06-06T11:35:16.815761Z"
    },
    "papermill": {
     "duration": 0.013565,
     "end_time": "2023-06-06T11:35:16.816997",
     "exception": false,
     "start_time": "2023-06-06T11:35:16.803432",
     "status": "completed"
    },
    "tags": []
   },
   "outputs": [],
   "source": [
    "import warnings\n",
    "warnings.simplefilter(action='ignore', category=FutureWarning)\n",
    "warnings.simplefilter(action='ignore', category=UserWarning)"
   ]
  },
  {
   "cell_type": "code",
   "execution_count": null,
   "id": "85161f19-b2c5-490b-8cab-c2cf9653b304",
   "metadata": {
    "execution": {
     "iopub.execute_input": "2023-06-06T11:35:16.823356Z",
     "iopub.status.busy": "2023-06-06T11:35:16.823236Z",
     "iopub.status.idle": "2023-06-06T11:35:46.412251Z",
     "shell.execute_reply": "2023-06-06T11:35:46.411740Z"
    },
    "papermill": {
     "duration": 29.59354,
     "end_time": "2023-06-06T11:35:46.413890",
     "exception": false,
     "start_time": "2023-06-06T11:35:16.820350",
     "status": "completed"
    },
    "tags": []
   },
   "outputs": [],
   "source": [
    "import gc\n",
    "import scanpy as sc\n",
    "import muon as mu\n",
    "import seaborn as sns\n",
    "import os\n",
    "import pandas as pd\n",
    "from matplotlib import pyplot as plt\n",
    "\n",
    "os.environ['R_HOME'] = '/gpfs/bwfor/work/ws/hd_fu399-conda/conda/envs/python_R/lib/R/'\n",
    "import anndata2ri\n",
    "import logging\n",
    "\n",
    "import rpy2.rinterface_lib.callbacks as rcb\n",
    "import rpy2.robjects as ro\n",
    "\n",
    "rcb.logger.setLevel(logging.ERROR)\n",
    "ro.pandas2ri.activate()\n",
    "anndata2ri.activate()\n",
    "\n",
    "%load_ext rpy2.ipython"
   ]
  },
  {
   "cell_type": "code",
   "execution_count": null,
   "id": "fc4ade78-b728-4704-9db6-45fbaab62ba1",
   "metadata": {
    "execution": {
     "iopub.execute_input": "2023-06-06T11:35:46.425321Z",
     "iopub.status.busy": "2023-06-06T11:35:46.425032Z",
     "iopub.status.idle": "2023-06-06T11:36:03.388110Z",
     "shell.execute_reply": "2023-06-06T11:36:03.387519Z"
    },
    "papermill": {
     "duration": 16.967798,
     "end_time": "2023-06-06T11:36:03.389597",
     "exception": false,
     "start_time": "2023-06-06T11:35:46.421799",
     "status": "completed"
    },
    "tags": []
   },
   "outputs": [],
   "source": [
    "%%R\n",
    "library(SoupX)\n",
    "library(Seurat)\n",
    "library(scater)\n",
    "library(scDblFinder)\n",
    "library(BiocParallel)\n",
    "library(MuDataSeurat)\n",
    "library(DropletUtils)"
   ]
  },
  {
   "cell_type": "code",
   "execution_count": null,
   "id": "611e4882-fc48-43d1-b1cd-e65e1bde0015",
   "metadata": {
    "execution": {
     "iopub.execute_input": "2023-06-06T11:36:03.430041Z",
     "iopub.status.busy": "2023-06-06T11:36:03.429878Z",
     "iopub.status.idle": "2023-06-06T11:36:03.432624Z",
     "shell.execute_reply": "2023-06-06T11:36:03.432318Z"
    },
    "papermill": {
     "duration": 0.006885,
     "end_time": "2023-06-06T11:36:03.433414",
     "exception": false,
     "start_time": "2023-06-06T11:36:03.426529",
     "status": "completed"
    },
    "tags": []
   },
   "outputs": [],
   "source": [
    "sample_name = \"SRR10127229\""
   ]
  },
  {
   "cell_type": "code",
   "execution_count": null,
   "id": "f7424d90-7690-4290-8651-1db3f9df3a35",
   "metadata": {
    "execution": {
     "iopub.execute_input": "2023-06-06T11:36:03.439310Z",
     "iopub.status.busy": "2023-06-06T11:36:03.438971Z",
     "iopub.status.idle": "2023-06-06T11:36:03.462954Z",
     "shell.execute_reply": "2023-06-06T11:36:03.462580Z"
    },
    "papermill": {
     "duration": 0.027905,
     "end_time": "2023-06-06T11:36:03.463865",
     "exception": false,
     "start_time": "2023-06-06T11:36:03.435960",
     "status": "completed"
    },
    "tags": []
   },
   "outputs": [],
   "source": [
    "metadata = pd.read_csv(\"../../SraRunTable.txt\")"
   ]
  },
  {
   "cell_type": "code",
   "execution_count": null,
   "id": "2574ecf1-bad4-4c33-8f3f-718a358727ab",
   "metadata": {
    "execution": {
     "iopub.execute_input": "2023-06-06T11:36:03.469847Z",
     "iopub.status.busy": "2023-06-06T11:36:03.469692Z",
     "iopub.status.idle": "2023-06-06T11:36:03.471855Z",
     "shell.execute_reply": "2023-06-06T11:36:03.471556Z"
    },
    "papermill": {
     "duration": 0.005982,
     "end_time": "2023-06-06T11:36:03.472640",
     "exception": false,
     "start_time": "2023-06-06T11:36:03.466658",
     "status": "completed"
    },
    "tags": []
   },
   "outputs": [],
   "source": [
    "raw_input = f\"/home/hd/hd_hd/hd_fu399/sds-hd/sd21k006/scRNAseq/revision_natcomm/xie_et_al/{sample_name}/{sample_name}/outs/raw_feature_bc_matrix.h5\""
   ]
  },
  {
   "cell_type": "code",
   "execution_count": null,
   "id": "e266d388-1802-435c-93a5-90067358739c",
   "metadata": {
    "execution": {
     "iopub.execute_input": "2023-06-06T11:36:03.478397Z",
     "iopub.status.busy": "2023-06-06T11:36:03.478212Z",
     "iopub.status.idle": "2023-06-06T11:36:04.685465Z",
     "shell.execute_reply": "2023-06-06T11:36:04.685037Z"
    },
    "papermill": {
     "duration": 1.211416,
     "end_time": "2023-06-06T11:36:04.686581",
     "exception": false,
     "start_time": "2023-06-06T11:36:03.475165",
     "status": "completed"
    },
    "tags": []
   },
   "outputs": [],
   "source": [
    "dataset = sc.read_10x_h5(raw_input)\n",
    "dataset.var_names_make_unique()\n",
    "dataset.obs_names_make_unique()\n",
    "\n",
    "dataset.layers[\"raw_counts\"] = dataset.X.copy()\n",
    "data_tod = dataset.layers[\"raw_counts\"].T.copy()\n",
    "\n",
    "dataset"
   ]
  },
  {
   "cell_type": "code",
   "execution_count": null,
   "id": "af9f5892-ed31-42a6-991b-4e096f582cef",
   "metadata": {
    "execution": {
     "iopub.execute_input": "2023-06-06T11:36:04.693624Z",
     "iopub.status.busy": "2023-06-06T11:36:04.693436Z",
     "iopub.status.idle": "2023-06-06T11:36:04.785164Z",
     "shell.execute_reply": "2023-06-06T11:36:04.784699Z"
    },
    "papermill": {
     "duration": 0.0965,
     "end_time": "2023-06-06T11:36:04.786510",
     "exception": false,
     "start_time": "2023-06-06T11:36:04.690010",
     "status": "completed"
    },
    "tags": []
   },
   "outputs": [],
   "source": [
    "sce = dataset.copy()"
   ]
  },
  {
   "cell_type": "code",
   "execution_count": null,
   "id": "d03f2caf-8e74-430e-b045-0ab80401d165",
   "metadata": {
    "execution": {
     "iopub.execute_input": "2023-06-06T11:36:04.793641Z",
     "iopub.status.busy": "2023-06-06T11:36:04.793502Z",
     "iopub.status.idle": "2023-06-06T11:37:36.738883Z",
     "shell.execute_reply": "2023-06-06T11:37:36.738272Z"
    },
    "papermill": {
     "duration": 91.950299,
     "end_time": "2023-06-06T11:37:36.740381",
     "exception": false,
     "start_time": "2023-06-06T11:36:04.790082",
     "status": "completed"
    },
    "tags": []
   },
   "outputs": [],
   "source": [
    "%%R -i sce -o empty_drop_output\n",
    "set.seed(187)\n",
    "empty_drop_output <- emptyDrops(assay(sce))"
   ]
  },
  {
   "cell_type": "code",
   "execution_count": null,
   "id": "2a34a54b-3ae2-44d6-8679-8769228c5b66",
   "metadata": {
    "execution": {
     "iopub.execute_input": "2023-06-06T11:37:36.800495Z",
     "iopub.status.busy": "2023-06-06T11:37:36.800341Z",
     "iopub.status.idle": "2023-06-06T11:37:36.848132Z",
     "shell.execute_reply": "2023-06-06T11:37:36.847769Z"
    },
    "papermill": {
     "duration": 0.052699,
     "end_time": "2023-06-06T11:37:36.849054",
     "exception": false,
     "start_time": "2023-06-06T11:37:36.796355",
     "status": "completed"
    },
    "tags": []
   },
   "outputs": [],
   "source": [
    "non_empty_barcodes = empty_drop_output[empty_drop_output[\"FDR\"] < 0.001].index\n",
    "dataset = dataset[dataset.obs.index.isin(non_empty_barcodes), :]\n",
    "dataset"
   ]
  },
  {
   "cell_type": "code",
   "execution_count": null,
   "id": "016a91e5-1bef-46fb-b91e-4fb9a6870c44",
   "metadata": {
    "execution": {
     "iopub.execute_input": "2023-06-06T11:37:36.855891Z",
     "iopub.status.busy": "2023-06-06T11:37:36.855675Z",
     "iopub.status.idle": "2023-06-06T11:39:10.375542Z",
     "shell.execute_reply": "2023-06-06T11:39:10.374924Z"
    },
    "papermill": {
     "duration": 93.524622,
     "end_time": "2023-06-06T11:39:10.377007",
     "exception": false,
     "start_time": "2023-06-06T11:37:36.852385",
     "status": "completed"
    },
    "tags": []
   },
   "outputs": [],
   "source": [
    "rna_assay = dataset.copy()\n",
    "sc.pp.normalize_per_cell(rna_assay)\n",
    "sc.pp.log1p(rna_assay)\n",
    "sc.pp.pca(rna_assay)\n",
    "sc.pp.neighbors(rna_assay)\n",
    "sc.tl.leiden(rna_assay, key_added=\"soupx_groups\")\n",
    "\n",
    "soupx_groups = rna_assay.obs[\"soupx_groups\"]\n",
    "\n",
    "del rna_assay\n",
    "\n",
    "genes = dataset.var_names\n",
    "cells = dataset.obs_names\n",
    "data = dataset.X.T.copy()"
   ]
  },
  {
   "cell_type": "code",
   "execution_count": null,
   "id": "9db4ea1f-1580-4f43-a3f0-86002397cd98",
   "metadata": {
    "execution": {
     "iopub.execute_input": "2023-06-06T11:39:10.396737Z",
     "iopub.status.busy": "2023-06-06T11:39:10.396524Z",
     "iopub.status.idle": "2023-06-06T11:39:40.944276Z",
     "shell.execute_reply": "2023-06-06T11:39:40.943657Z"
    },
    "papermill": {
     "duration": 30.552583,
     "end_time": "2023-06-06T11:39:40.945655",
     "exception": false,
     "start_time": "2023-06-06T11:39:10.393072",
     "status": "completed"
    },
    "tags": []
   },
   "outputs": [],
   "source": [
    "%%R -i data -i data_tod -i genes -i cells -i soupx_groups -o out \n",
    "set.seed(187)\n",
    "# specify row and column names of data\n",
    "rownames(data) = genes\n",
    "colnames(data) = cells\n",
    "# ensure correct sparse format for table of counts and table of droplets\n",
    "data <- as(data, \"sparseMatrix\")\n",
    "data_tod <- as(data_tod, \"sparseMatrix\")\n",
    "\n",
    "# Generate SoupChannel Object for SoupX \n",
    "sc = SoupChannel(data_tod, data, calcSoupProfile = FALSE)\n",
    "\n",
    "# Add extra meta data to the SoupChannel object\n",
    "soupProf = data.frame(row.names = rownames(data),\n",
    "                      est = rowSums(data)/sum(data),\n",
    "                      counts = rowSums(data))\n",
    "sc = setSoupProfile(sc, soupProf)\n",
    "# Set cluster information in SoupChannel\n",
    "sc = setClusters(sc, soupx_groups)\n",
    "\n",
    "# Estimate contamination fraction\n",
    "sc  = autoEstCont(sc, doPlot=FALSE, forceAccept = TRUE)\n",
    "# Infer corrected table of counts and rount to integer\n",
    "out = adjustCounts(sc, roundToInt = TRUE)"
   ]
  },
  {
   "cell_type": "code",
   "execution_count": null,
   "id": "32555d5e-5fa3-46dd-a4e0-ddc96ea265e2",
   "metadata": {
    "execution": {
     "iopub.execute_input": "2023-06-06T11:39:40.984644Z",
     "iopub.status.busy": "2023-06-06T11:39:40.984457Z",
     "iopub.status.idle": "2023-06-06T11:39:41.069866Z",
     "shell.execute_reply": "2023-06-06T11:39:41.069401Z"
    },
    "papermill": {
     "duration": 0.090206,
     "end_time": "2023-06-06T11:39:41.071234",
     "exception": false,
     "start_time": "2023-06-06T11:39:40.981028",
     "status": "completed"
    },
    "tags": []
   },
   "outputs": [],
   "source": [
    "dataset.layers[\"soupX_counts\"] = out.T\n",
    "dataset.X = dataset.layers[\"soupX_counts\"].copy()"
   ]
  },
  {
   "cell_type": "code",
   "execution_count": null,
   "id": "e27da7df-e094-4d2a-9109-5a363e012175",
   "metadata": {
    "execution": {
     "iopub.execute_input": "2023-06-06T11:39:41.091506Z",
     "iopub.status.busy": "2023-06-06T11:39:41.091322Z",
     "iopub.status.idle": "2023-06-06T11:39:41.093866Z",
     "shell.execute_reply": "2023-06-06T11:39:41.093522Z"
    },
    "papermill": {
     "duration": 0.006714,
     "end_time": "2023-06-06T11:39:41.094639",
     "exception": false,
     "start_time": "2023-06-06T11:39:41.087925",
     "status": "completed"
    },
    "tags": []
   },
   "outputs": [],
   "source": [
    "data_mat = dataset.X.T"
   ]
  },
  {
   "cell_type": "code",
   "execution_count": null,
   "id": "80a993b1-5ccb-4697-9187-1beb7ab8aff9",
   "metadata": {
    "execution": {
     "iopub.execute_input": "2023-06-06T11:39:41.100842Z",
     "iopub.status.busy": "2023-06-06T11:39:41.100496Z",
     "iopub.status.idle": "2023-06-06T11:40:12.942300Z",
     "shell.execute_reply": "2023-06-06T11:40:12.941701Z"
    },
    "papermill": {
     "duration": 31.846447,
     "end_time": "2023-06-06T11:40:12.943747",
     "exception": false,
     "start_time": "2023-06-06T11:39:41.097300",
     "status": "completed"
    },
    "tags": []
   },
   "outputs": [],
   "source": [
    "%%R -i data_mat -o droplet_class\n",
    "\n",
    "set.seed(187)\n",
    "sce = scDblFinder(\n",
    "    SingleCellExperiment(\n",
    "        list(counts=data_mat),\n",
    "    ) \n",
    ")\n",
    "droplet_class = sce$scDblFinder.class"
   ]
  },
  {
   "cell_type": "code",
   "execution_count": null,
   "id": "d4dd6e9d-fcf2-41fc-8457-c8e0a3cb2c71",
   "metadata": {
    "execution": {
     "iopub.execute_input": "2023-06-06T11:40:12.971304Z",
     "iopub.status.busy": "2023-06-06T11:40:12.970964Z",
     "iopub.status.idle": "2023-06-06T11:40:12.975947Z",
     "shell.execute_reply": "2023-06-06T11:40:12.975612Z"
    },
    "papermill": {
     "duration": 0.00937,
     "end_time": "2023-06-06T11:40:12.976718",
     "exception": false,
     "start_time": "2023-06-06T11:40:12.967348",
     "status": "completed"
    },
    "tags": []
   },
   "outputs": [],
   "source": [
    "dataset.obs[\"scDblFinder_class\"] = droplet_class\n",
    "dataset.obs.scDblFinder_class.value_counts()\n",
    "dataset"
   ]
  },
  {
   "cell_type": "code",
   "execution_count": null,
   "id": "28c95014-2d6c-477f-95cb-9f9f0507520c",
   "metadata": {
    "execution": {
     "iopub.execute_input": "2023-06-06T11:40:12.982906Z",
     "iopub.status.busy": "2023-06-06T11:40:12.982723Z",
     "iopub.status.idle": "2023-06-06T11:40:12.991792Z",
     "shell.execute_reply": "2023-06-06T11:40:12.991438Z"
    },
    "papermill": {
     "duration": 0.013073,
     "end_time": "2023-06-06T11:40:12.992600",
     "exception": false,
     "start_time": "2023-06-06T11:40:12.979527",
     "status": "completed"
    },
    "tags": []
   },
   "outputs": [],
   "source": [
    "dataset = dataset[dataset.obs[\"scDblFinder_class\"] == 1]"
   ]
  },
  {
   "cell_type": "code",
   "execution_count": null,
   "id": "3e22f9e0-bfcb-416c-a151-a9bca3bec3b9",
   "metadata": {
    "execution": {
     "iopub.execute_input": "2023-06-06T11:40:13.041183Z",
     "iopub.status.busy": "2023-06-06T11:40:13.040988Z",
     "iopub.status.idle": "2023-06-06T11:40:13.340414Z",
     "shell.execute_reply": "2023-06-06T11:40:13.339971Z"
    },
    "papermill": {
     "duration": 0.304007,
     "end_time": "2023-06-06T11:40:13.341376",
     "exception": false,
     "start_time": "2023-06-06T11:40:13.037369",
     "status": "completed"
    },
    "tags": []
   },
   "outputs": [],
   "source": [
    "# mitochondrial genes\n",
    "dataset.var[\"mt\"] = dataset.var_names.str.startswith(\"mt-\")\n",
    "# ribosomal genes\n",
    "dataset.var[\"ribo\"] = dataset.var_names.str.startswith((\"Rps\", \"Rpl\"))\n",
    "# hemoglobin genes.\n",
    "dataset.var[\"hb\"] = dataset.var_names.str.contains((\"^Hb[^(P)]\"))\n",
    "\n",
    "sc.pp.calculate_qc_metrics(dataset,\n",
    "                           qc_vars=['mt', 'ribo', 'hb'],\n",
    "                           percent_top=None,\n",
    "                           log1p=False,\n",
    "                           inplace=True)\n",
    "dataset"
   ]
  },
  {
   "cell_type": "code",
   "execution_count": null,
   "id": "34deee79-4043-428f-8575-aa57b45f6369",
   "metadata": {
    "execution": {
     "iopub.execute_input": "2023-06-06T11:40:13.377074Z",
     "iopub.status.busy": "2023-06-06T11:40:13.376899Z",
     "iopub.status.idle": "2023-06-06T11:40:13.999397Z",
     "shell.execute_reply": "2023-06-06T11:40:13.999026Z"
    },
    "papermill": {
     "duration": 0.627755,
     "end_time": "2023-06-06T11:40:14.000980",
     "exception": false,
     "start_time": "2023-06-06T11:40:13.373225",
     "status": "completed"
    },
    "tags": []
   },
   "outputs": [],
   "source": [
    "fig, ax = plt.subplots(ncols = 4, figsize = (16,4))\n",
    "axis = sc.pl.violin(dataset, \"n_genes_by_counts\", jitter = 0.4, ax = ax[0], show = False)\n",
    "axis.grid(False)\n",
    "axis.set_title(\"Unique Genes per cell\")\n",
    "axis.tick_params(axis = \"x\", bottom =False, labelbottom =False)\n",
    "axis.set_ylabel(\"# genes\")\n",
    "axis.axhline(y = 250, color = \"black\", label = \"cutoff\")\n",
    "axis.legend(fontsize = 14, loc = \"upper right\")\n",
    "\n",
    "axis = sc.pl.violin(dataset, \"pct_counts_mt\", jitter = 0.4, ax = ax[1], show = False)\n",
    "axis.grid(False)\n",
    "axis.set_title(\"Mitochondrial Fraction\")\n",
    "axis.tick_params(axis = \"x\", bottom =False, labelbottom =False)\n",
    "axis.set_ylabel(\"% mitochondrial genes\")\n",
    "axis.axhline(y = 5, color = \"black\", label = \"cutoff\")\n",
    "axis.legend(fontsize = 14, loc = \"upper right\")\n",
    "\n",
    "axis = sc.pl.violin(dataset, \"pct_counts_hb\", jitter = 0.4, ax = ax[2], show = False, size =2)\n",
    "axis.grid(False)\n",
    "axis.set_title(\"Hemoglobin Fraction\")\n",
    "axis.tick_params(axis = \"x\", bottom =False, labelbottom =False)\n",
    "axis.set_ylabel(\"% hemoglobin genes\")\n",
    "axis.axhline(y = 2, color = \"black\", label = \"cutoff\")\n",
    "axis.legend(fontsize = 14, loc = \"upper right\")\n",
    "#axis.set_ylim(0,5)\n",
    "\n",
    "axis = sc.pl.violin(dataset, \"pct_counts_ribo\", jitter = 0.4, ax = ax[3], show = False)\n",
    "axis.grid(False)\n",
    "axis.set_title(\"Ribosomal Fraction\")\n",
    "axis.tick_params(axis = \"x\", bottom =False, labelbottom =False)\n",
    "axis.set_ylabel(\"% ribosome genes\")\n",
    "\n",
    "plt.tight_layout()\n",
    "#plt.savefig(f\"{outputDir}08_gene_based_filtering.pdf\", dpi = 300)\n",
    "plt.show()\n",
    "\n"
   ]
  },
  {
   "cell_type": "code",
   "execution_count": null,
   "id": "d7ade754-843e-4840-8707-426613d8c0c5",
   "metadata": {
    "execution": {
     "iopub.execute_input": "2023-06-06T11:40:14.042306Z",
     "iopub.status.busy": "2023-06-06T11:40:14.041932Z",
     "iopub.status.idle": "2023-06-06T11:40:14.052562Z",
     "shell.execute_reply": "2023-06-06T11:40:14.052243Z"
    },
    "papermill": {
     "duration": 0.017719,
     "end_time": "2023-06-06T11:40:14.053350",
     "exception": false,
     "start_time": "2023-06-06T11:40:14.035631",
     "status": "completed"
    },
    "tags": []
   },
   "outputs": [],
   "source": [
    "dataset = dataset[dataset.obs.pct_counts_mt < 5, :]\n",
    "dataset = dataset[dataset.obs.n_genes_by_counts > 250, :]\n",
    "dataset = dataset[dataset.obs.pct_counts_hb < 2, :]\n",
    "dataset"
   ]
  },
  {
   "cell_type": "code",
   "execution_count": null,
   "id": "2e0ff8c3-2aa9-4a01-9b88-5912a6734447",
   "metadata": {
    "execution": {
     "iopub.execute_input": "2023-06-06T11:40:14.064541Z",
     "iopub.status.busy": "2023-06-06T11:40:14.064344Z",
     "iopub.status.idle": "2023-06-06T11:40:14.153428Z",
     "shell.execute_reply": "2023-06-06T11:40:14.152947Z"
    },
    "papermill": {
     "duration": 0.096213,
     "end_time": "2023-06-06T11:40:14.154800",
     "exception": false,
     "start_time": "2023-06-06T11:40:14.058587",
     "status": "completed"
    },
    "tags": []
   },
   "outputs": [],
   "source": [
    "for col in metadata.columns:\n",
    "    dataset.obs[col] = metadata.loc[metadata[\"Run\"] == sample_name, col].to_list()[0]"
   ]
  },
  {
   "cell_type": "code",
   "execution_count": null,
   "id": "b84578d3-d63e-419c-a272-a0b8317d05ab",
   "metadata": {
    "execution": {
     "iopub.execute_input": "2023-06-06T11:40:14.180978Z",
     "iopub.status.busy": "2023-06-06T11:40:14.180787Z",
     "iopub.status.idle": "2023-06-06T11:40:14.908698Z",
     "shell.execute_reply": "2023-06-06T11:40:14.908232Z"
    },
    "papermill": {
     "duration": 0.735628,
     "end_time": "2023-06-06T11:40:14.910018",
     "exception": false,
     "start_time": "2023-06-06T11:40:14.174390",
     "status": "completed"
    },
    "tags": []
   },
   "outputs": [],
   "source": [
    "dataset.write(f\"../../int_data/{sample_name}_qc.h5ad\")"
   ]
  }
 ],
 "metadata": {
  "kernelspec": {
   "display_name": "py_R",
   "language": "python",
   "name": "python_r"
  },
  "language_info": {
   "codemirror_mode": {
    "name": "ipython",
    "version": 3
   },
   "file_extension": ".py",
   "mimetype": "text/x-python",
   "name": "python",
   "nbconvert_exporter": "python",
   "pygments_lexer": "ipython3",
   "version": "3.10.11"
  },
  "papermill": {
   "default_parameters": {},
   "duration": 311.186241,
   "end_time": "2023-06-06T11:40:18.098394",
   "environment_variables": {},
   "exception": null,
   "input_path": "SRR10127229.ipynb",
   "output_path": "SRR10127229.ipynb",
   "parameters": {},
   "start_time": "2023-06-06T11:35:06.912153",
   "version": "2.4.0"
  }
 },
 "nbformat": 4,
 "nbformat_minor": 5
}
