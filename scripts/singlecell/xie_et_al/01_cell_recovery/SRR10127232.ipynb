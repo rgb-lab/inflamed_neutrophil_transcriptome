{
 "cells": [
  {
   "cell_type": "code",
   "execution_count": null,
   "id": "f87ed95b-2b67-4a5a-8fe2-47359b1dd2a9",
   "metadata": {
    "execution": {
     "iopub.execute_input": "2023-04-23T11:59:17.418429Z",
     "iopub.status.busy": "2023-04-23T11:59:17.418135Z",
     "iopub.status.idle": "2023-04-23T11:59:17.422917Z",
     "shell.execute_reply": "2023-04-23T11:59:17.422584Z"
    },
    "papermill": {
     "duration": 0.010275,
     "end_time": "2023-04-23T11:59:17.423814",
     "exception": false,
     "start_time": "2023-04-23T11:59:17.413539",
     "status": "completed"
    },
    "tags": []
   },
   "outputs": [],
   "source": [
    "import warnings\n",
    "warnings.simplefilter(action='ignore', category=FutureWarning)\n",
    "warnings.simplefilter(action='ignore', category=UserWarning)"
   ]
  },
  {
   "cell_type": "code",
   "execution_count": null,
   "id": "85161f19-b2c5-490b-8cab-c2cf9653b304",
   "metadata": {
    "execution": {
     "iopub.execute_input": "2023-04-23T11:59:17.428739Z",
     "iopub.status.busy": "2023-04-23T11:59:17.428463Z",
     "iopub.status.idle": "2023-04-23T11:59:21.351053Z",
     "shell.execute_reply": "2023-04-23T11:59:21.350494Z"
    },
    "papermill": {
     "duration": 3.926314,
     "end_time": "2023-04-23T11:59:21.352369",
     "exception": false,
     "start_time": "2023-04-23T11:59:17.426055",
     "status": "completed"
    },
    "tags": []
   },
   "outputs": [],
   "source": [
    "import gc\n",
    "import scanpy as sc\n",
    "import muon as mu\n",
    "import seaborn as sns\n",
    "import os\n",
    "import pandas as pd\n",
    "from matplotlib import pyplot as plt\n",
    "\n",
    "os.environ['R_HOME'] = '/gpfs/bwfor/work/ws/hd_fu399-conda/conda/envs/python_R/lib/R/'\n",
    "import anndata2ri\n",
    "import logging\n",
    "\n",
    "import rpy2.rinterface_lib.callbacks as rcb\n",
    "import rpy2.robjects as ro\n",
    "\n",
    "rcb.logger.setLevel(logging.ERROR)\n",
    "ro.pandas2ri.activate()\n",
    "anndata2ri.activate()\n",
    "\n",
    "%load_ext rpy2.ipython"
   ]
  },
  {
   "cell_type": "code",
   "execution_count": null,
   "id": "fc4ade78-b728-4704-9db6-45fbaab62ba1",
   "metadata": {
    "execution": {
     "iopub.execute_input": "2023-04-23T11:59:21.358259Z",
     "iopub.status.busy": "2023-04-23T11:59:21.357879Z",
     "iopub.status.idle": "2023-04-23T11:59:30.775852Z",
     "shell.execute_reply": "2023-04-23T11:59:30.775389Z"
    },
    "papermill": {
     "duration": 9.422103,
     "end_time": "2023-04-23T11:59:30.777155",
     "exception": false,
     "start_time": "2023-04-23T11:59:21.355052",
     "status": "completed"
    },
    "tags": []
   },
   "outputs": [],
   "source": [
    "%%R\n",
    "library(SoupX)\n",
    "library(Seurat)\n",
    "library(scater)\n",
    "library(scDblFinder)\n",
    "library(BiocParallel)\n",
    "library(MuDataSeurat)\n",
    "library(DropletUtils)"
   ]
  },
  {
   "cell_type": "code",
   "execution_count": null,
   "id": "611e4882-fc48-43d1-b1cd-e65e1bde0015",
   "metadata": {
    "execution": {
     "iopub.execute_input": "2023-04-23T11:59:30.784790Z",
     "iopub.status.busy": "2023-04-23T11:59:30.784642Z",
     "iopub.status.idle": "2023-04-23T11:59:30.786860Z",
     "shell.execute_reply": "2023-04-23T11:59:30.786540Z"
    },
    "papermill": {
     "duration": 0.006011,
     "end_time": "2023-04-23T11:59:30.787635",
     "exception": false,
     "start_time": "2023-04-23T11:59:30.781624",
     "status": "completed"
    },
    "tags": []
   },
   "outputs": [],
   "source": [
    "sample_name = \"SRR10127232\""
   ]
  },
  {
   "cell_type": "code",
   "execution_count": null,
   "id": "f7424d90-7690-4290-8651-1db3f9df3a35",
   "metadata": {
    "execution": {
     "iopub.execute_input": "2023-04-23T11:59:30.792741Z",
     "iopub.status.busy": "2023-04-23T11:59:30.792462Z",
     "iopub.status.idle": "2023-04-23T11:59:30.797904Z",
     "shell.execute_reply": "2023-04-23T11:59:30.797574Z"
    },
    "papermill": {
     "duration": 0.008984,
     "end_time": "2023-04-23T11:59:30.798791",
     "exception": false,
     "start_time": "2023-04-23T11:59:30.789807",
     "status": "completed"
    },
    "tags": []
   },
   "outputs": [],
   "source": [
    "metadata = pd.read_csv(\"../../SraRunTable.txt\")"
   ]
  },
  {
   "cell_type": "code",
   "execution_count": null,
   "id": "2574ecf1-bad4-4c33-8f3f-718a358727ab",
   "metadata": {
    "execution": {
     "iopub.execute_input": "2023-04-23T11:59:30.803846Z",
     "iopub.status.busy": "2023-04-23T11:59:30.803609Z",
     "iopub.status.idle": "2023-04-23T11:59:30.805607Z",
     "shell.execute_reply": "2023-04-23T11:59:30.805304Z"
    },
    "papermill": {
     "duration": 0.005314,
     "end_time": "2023-04-23T11:59:30.806356",
     "exception": false,
     "start_time": "2023-04-23T11:59:30.801042",
     "status": "completed"
    },
    "tags": []
   },
   "outputs": [],
   "source": [
    "raw_input = f\"/home/hd/hd_hd/hd_fu399/sds-hd/sd21k006/scRNAseq/revision_natcomm/xie_et_al/{sample_name}/{sample_name}/outs/raw_feature_bc_matrix.h5\""
   ]
  },
  {
   "cell_type": "code",
   "execution_count": null,
   "id": "e266d388-1802-435c-93a5-90067358739c",
   "metadata": {
    "execution": {
     "iopub.execute_input": "2023-04-23T11:59:30.811489Z",
     "iopub.status.busy": "2023-04-23T11:59:30.811200Z",
     "iopub.status.idle": "2023-04-23T11:59:31.890934Z",
     "shell.execute_reply": "2023-04-23T11:59:31.890493Z"
    },
    "papermill": {
     "duration": 1.083347,
     "end_time": "2023-04-23T11:59:31.891872",
     "exception": false,
     "start_time": "2023-04-23T11:59:30.808525",
     "status": "completed"
    },
    "tags": []
   },
   "outputs": [],
   "source": [
    "dataset = sc.read_10x_h5(raw_input)\n",
    "dataset.var_names_make_unique()\n",
    "dataset.obs_names_make_unique()\n",
    "\n",
    "dataset.layers[\"raw_counts\"] = dataset.X.copy()\n",
    "data_tod = dataset.layers[\"raw_counts\"].T.copy()\n",
    "\n",
    "dataset"
   ]
  },
  {
   "cell_type": "code",
   "execution_count": null,
   "id": "af9f5892-ed31-42a6-991b-4e096f582cef",
   "metadata": {
    "execution": {
     "iopub.execute_input": "2023-04-23T11:59:31.897928Z",
     "iopub.status.busy": "2023-04-23T11:59:31.897765Z",
     "iopub.status.idle": "2023-04-23T11:59:31.978249Z",
     "shell.execute_reply": "2023-04-23T11:59:31.977751Z"
    },
    "papermill": {
     "duration": 0.084723,
     "end_time": "2023-04-23T11:59:31.979544",
     "exception": false,
     "start_time": "2023-04-23T11:59:31.894821",
     "status": "completed"
    },
    "tags": []
   },
   "outputs": [],
   "source": [
    "sce = dataset.copy()"
   ]
  },
  {
   "cell_type": "code",
   "execution_count": null,
   "id": "d03f2caf-8e74-430e-b045-0ab80401d165",
   "metadata": {
    "execution": {
     "iopub.execute_input": "2023-04-23T11:59:31.985461Z",
     "iopub.status.busy": "2023-04-23T11:59:31.985325Z",
     "iopub.status.idle": "2023-04-23T12:01:05.262135Z",
     "shell.execute_reply": "2023-04-23T12:01:05.261446Z"
    },
    "papermill": {
     "duration": 93.281176,
     "end_time": "2023-04-23T12:01:05.263564",
     "exception": false,
     "start_time": "2023-04-23T11:59:31.982388",
     "status": "completed"
    },
    "tags": []
   },
   "outputs": [],
   "source": [
    "%%R -i sce -o empty_drop_output\n",
    "set.seed(187)\n",
    "empty_drop_output <- emptyDrops(assay(sce))"
   ]
  },
  {
   "cell_type": "code",
   "execution_count": null,
   "id": "2a34a54b-3ae2-44d6-8679-8769228c5b66",
   "metadata": {
    "execution": {
     "iopub.execute_input": "2023-04-23T12:01:05.271697Z",
     "iopub.status.busy": "2023-04-23T12:01:05.271555Z",
     "iopub.status.idle": "2023-04-23T12:01:05.308435Z",
     "shell.execute_reply": "2023-04-23T12:01:05.308044Z"
    },
    "papermill": {
     "duration": 0.04094,
     "end_time": "2023-04-23T12:01:05.309267",
     "exception": false,
     "start_time": "2023-04-23T12:01:05.268327",
     "status": "completed"
    },
    "tags": []
   },
   "outputs": [],
   "source": [
    "non_empty_barcodes = empty_drop_output[empty_drop_output[\"FDR\"] < 0.001].index\n",
    "dataset = dataset[dataset.obs.index.isin(non_empty_barcodes), :]\n",
    "dataset"
   ]
  },
  {
   "cell_type": "code",
   "execution_count": null,
   "id": "016a91e5-1bef-46fb-b91e-4fb9a6870c44",
   "metadata": {
    "execution": {
     "iopub.execute_input": "2023-04-23T12:01:05.315160Z",
     "iopub.status.busy": "2023-04-23T12:01:05.315021Z",
     "iopub.status.idle": "2023-04-23T12:01:13.280048Z",
     "shell.execute_reply": "2023-04-23T12:01:13.279560Z"
    },
    "papermill": {
     "duration": 7.969911,
     "end_time": "2023-04-23T12:01:13.281714",
     "exception": false,
     "start_time": "2023-04-23T12:01:05.311803",
     "status": "completed"
    },
    "tags": []
   },
   "outputs": [],
   "source": [
    "rna_assay = dataset.copy()\n",
    "sc.pp.normalize_per_cell(rna_assay)\n",
    "sc.pp.log1p(rna_assay)\n",
    "sc.pp.pca(rna_assay)\n",
    "sc.pp.neighbors(rna_assay)\n",
    "sc.tl.leiden(rna_assay, key_added=\"soupx_groups\")\n",
    "\n",
    "soupx_groups = rna_assay.obs[\"soupx_groups\"]\n",
    "\n",
    "del rna_assay\n",
    "\n",
    "genes = dataset.var_names\n",
    "cells = dataset.obs_names\n",
    "data = dataset.X.T.copy()"
   ]
  },
  {
   "cell_type": "code",
   "execution_count": null,
   "id": "9db4ea1f-1580-4f43-a3f0-86002397cd98",
   "metadata": {
    "execution": {
     "iopub.execute_input": "2023-04-23T12:01:13.290106Z",
     "iopub.status.busy": "2023-04-23T12:01:13.289937Z",
     "iopub.status.idle": "2023-04-23T12:01:39.216356Z",
     "shell.execute_reply": "2023-04-23T12:01:39.215772Z"
    },
    "papermill": {
     "duration": 25.931345,
     "end_time": "2023-04-23T12:01:39.217705",
     "exception": false,
     "start_time": "2023-04-23T12:01:13.286360",
     "status": "completed"
    },
    "tags": []
   },
   "outputs": [],
   "source": [
    "%%R -i data -i data_tod -i genes -i cells -i soupx_groups -o out \n",
    "set.seed(187)\n",
    "# specify row and column names of data\n",
    "rownames(data) = genes\n",
    "colnames(data) = cells\n",
    "# ensure correct sparse format for table of counts and table of droplets\n",
    "data <- as(data, \"sparseMatrix\")\n",
    "data_tod <- as(data_tod, \"sparseMatrix\")\n",
    "\n",
    "# Generate SoupChannel Object for SoupX \n",
    "sc = SoupChannel(data_tod, data, calcSoupProfile = FALSE)\n",
    "\n",
    "# Add extra meta data to the SoupChannel object\n",
    "soupProf = data.frame(row.names = rownames(data),\n",
    "                      est = rowSums(data)/sum(data),\n",
    "                      counts = rowSums(data))\n",
    "sc = setSoupProfile(sc, soupProf)\n",
    "# Set cluster information in SoupChannel\n",
    "sc = setClusters(sc, soupx_groups)\n",
    "\n",
    "# Estimate contamination fraction\n",
    "sc  = autoEstCont(sc, doPlot=FALSE, forceAccept = TRUE)\n",
    "# Infer corrected table of counts and rount to integer\n",
    "out = adjustCounts(sc, roundToInt = TRUE)"
   ]
  },
  {
   "cell_type": "code",
   "execution_count": null,
   "id": "32555d5e-5fa3-46dd-a4e0-ddc96ea265e2",
   "metadata": {
    "execution": {
     "iopub.execute_input": "2023-04-23T12:01:39.226648Z",
     "iopub.status.busy": "2023-04-23T12:01:39.226466Z",
     "iopub.status.idle": "2023-04-23T12:01:39.290615Z",
     "shell.execute_reply": "2023-04-23T12:01:39.290118Z"
    },
    "papermill": {
     "duration": 0.069139,
     "end_time": "2023-04-23T12:01:39.291899",
     "exception": false,
     "start_time": "2023-04-23T12:01:39.222760",
     "status": "completed"
    },
    "tags": []
   },
   "outputs": [],
   "source": [
    "dataset.layers[\"soupX_counts\"] = out.T\n",
    "dataset.X = dataset.layers[\"soupX_counts\"].copy()"
   ]
  },
  {
   "cell_type": "code",
   "execution_count": null,
   "id": "e27da7df-e094-4d2a-9109-5a363e012175",
   "metadata": {
    "execution": {
     "iopub.execute_input": "2023-04-23T12:01:39.298322Z",
     "iopub.status.busy": "2023-04-23T12:01:39.298129Z",
     "iopub.status.idle": "2023-04-23T12:01:39.300614Z",
     "shell.execute_reply": "2023-04-23T12:01:39.300272Z"
    },
    "papermill": {
     "duration": 0.006537,
     "end_time": "2023-04-23T12:01:39.301406",
     "exception": false,
     "start_time": "2023-04-23T12:01:39.294869",
     "status": "completed"
    },
    "tags": []
   },
   "outputs": [],
   "source": [
    "data_mat = dataset.X.T"
   ]
  },
  {
   "cell_type": "code",
   "execution_count": null,
   "id": "80a993b1-5ccb-4697-9187-1beb7ab8aff9",
   "metadata": {
    "execution": {
     "iopub.execute_input": "2023-04-23T12:01:39.307194Z",
     "iopub.status.busy": "2023-04-23T12:01:39.307005Z",
     "iopub.status.idle": "2023-04-23T12:01:53.976404Z",
     "shell.execute_reply": "2023-04-23T12:01:53.975940Z"
    },
    "papermill": {
     "duration": 14.673857,
     "end_time": "2023-04-23T12:01:53.977763",
     "exception": false,
     "start_time": "2023-04-23T12:01:39.303906",
     "status": "completed"
    },
    "tags": []
   },
   "outputs": [],
   "source": [
    "%%R -i data_mat -o droplet_class\n",
    "\n",
    "set.seed(187)\n",
    "sce = scDblFinder(\n",
    "    SingleCellExperiment(\n",
    "        list(counts=data_mat),\n",
    "    ) \n",
    ")\n",
    "droplet_class = sce$scDblFinder.class"
   ]
  },
  {
   "cell_type": "code",
   "execution_count": null,
   "id": "d4dd6e9d-fcf2-41fc-8457-c8e0a3cb2c71",
   "metadata": {
    "execution": {
     "iopub.execute_input": "2023-04-23T12:01:53.994266Z",
     "iopub.status.busy": "2023-04-23T12:01:53.994104Z",
     "iopub.status.idle": "2023-04-23T12:01:53.998510Z",
     "shell.execute_reply": "2023-04-23T12:01:53.998193Z"
    },
    "papermill": {
     "duration": 0.008625,
     "end_time": "2023-04-23T12:01:53.999294",
     "exception": false,
     "start_time": "2023-04-23T12:01:53.990669",
     "status": "completed"
    },
    "tags": []
   },
   "outputs": [],
   "source": [
    "dataset.obs[\"scDblFinder_class\"] = droplet_class\n",
    "dataset.obs.scDblFinder_class.value_counts()\n",
    "dataset"
   ]
  },
  {
   "cell_type": "code",
   "execution_count": null,
   "id": "28c95014-2d6c-477f-95cb-9f9f0507520c",
   "metadata": {
    "execution": {
     "iopub.execute_input": "2023-04-23T12:01:54.005373Z",
     "iopub.status.busy": "2023-04-23T12:01:54.005215Z",
     "iopub.status.idle": "2023-04-23T12:01:54.018587Z",
     "shell.execute_reply": "2023-04-23T12:01:54.018248Z"
    },
    "papermill": {
     "duration": 0.017379,
     "end_time": "2023-04-23T12:01:54.019368",
     "exception": false,
     "start_time": "2023-04-23T12:01:54.001989",
     "status": "completed"
    },
    "tags": []
   },
   "outputs": [],
   "source": [
    "dataset = dataset[dataset.obs[\"scDblFinder_class\"] == 1]"
   ]
  },
  {
   "cell_type": "code",
   "execution_count": null,
   "id": "3e22f9e0-bfcb-416c-a151-a9bca3bec3b9",
   "metadata": {
    "execution": {
     "iopub.execute_input": "2023-04-23T12:01:54.025495Z",
     "iopub.status.busy": "2023-04-23T12:01:54.025341Z",
     "iopub.status.idle": "2023-04-23T12:01:54.337472Z",
     "shell.execute_reply": "2023-04-23T12:01:54.337028Z"
    },
    "papermill": {
     "duration": 0.316346,
     "end_time": "2023-04-23T12:01:54.338418",
     "exception": false,
     "start_time": "2023-04-23T12:01:54.022072",
     "status": "completed"
    },
    "tags": []
   },
   "outputs": [],
   "source": [
    "# mitochondrial genes\n",
    "dataset.var[\"mt\"] = dataset.var_names.str.startswith(\"mt-\")\n",
    "# ribosomal genes\n",
    "dataset.var[\"ribo\"] = dataset.var_names.str.startswith((\"Rps\", \"Rpl\"))\n",
    "# hemoglobin genes.\n",
    "dataset.var[\"hb\"] = dataset.var_names.str.contains((\"^Hb[^(P)]\"))\n",
    "\n",
    "sc.pp.calculate_qc_metrics(dataset,\n",
    "                           qc_vars=['mt', 'ribo', 'hb'],\n",
    "                           percent_top=None,\n",
    "                           log1p=False,\n",
    "                           inplace=True)\n",
    "dataset"
   ]
  },
  {
   "cell_type": "code",
   "execution_count": null,
   "id": "34deee79-4043-428f-8575-aa57b45f6369",
   "metadata": {
    "execution": {
     "iopub.execute_input": "2023-04-23T12:01:54.345360Z",
     "iopub.status.busy": "2023-04-23T12:01:54.345175Z",
     "iopub.status.idle": "2023-04-23T12:01:54.954397Z",
     "shell.execute_reply": "2023-04-23T12:01:54.954026Z"
    },
    "papermill": {
     "duration": 0.613547,
     "end_time": "2023-04-23T12:01:54.955314",
     "exception": false,
     "start_time": "2023-04-23T12:01:54.341767",
     "status": "completed"
    },
    "tags": []
   },
   "outputs": [],
   "source": [
    "fig, ax = plt.subplots(ncols = 4, figsize = (16,4))\n",
    "axis = sc.pl.violin(dataset, \"n_genes_by_counts\", jitter = 0.4, ax = ax[0], show = False)\n",
    "axis.grid(False)\n",
    "axis.set_title(\"Unique Genes per cell\")\n",
    "axis.tick_params(axis = \"x\", bottom =False, labelbottom =False)\n",
    "axis.set_ylabel(\"# genes\")\n",
    "axis.axhline(y = 250, color = \"black\", label = \"cutoff\")\n",
    "axis.legend(fontsize = 14, loc = \"upper right\")\n",
    "\n",
    "axis = sc.pl.violin(dataset, \"pct_counts_mt\", jitter = 0.4, ax = ax[1], show = False)\n",
    "axis.grid(False)\n",
    "axis.set_title(\"Mitochondrial Fraction\")\n",
    "axis.tick_params(axis = \"x\", bottom =False, labelbottom =False)\n",
    "axis.set_ylabel(\"% mitochondrial genes\")\n",
    "axis.axhline(y = 5, color = \"black\", label = \"cutoff\")\n",
    "axis.legend(fontsize = 14, loc = \"upper right\")\n",
    "\n",
    "axis = sc.pl.violin(dataset, \"pct_counts_hb\", jitter = 0.4, ax = ax[2], show = False, size =2)\n",
    "axis.grid(False)\n",
    "axis.set_title(\"Hemoglobin Fraction\")\n",
    "axis.tick_params(axis = \"x\", bottom =False, labelbottom =False)\n",
    "axis.set_ylabel(\"% hemoglobin genes\")\n",
    "axis.axhline(y = 2, color = \"black\", label = \"cutoff\")\n",
    "axis.legend(fontsize = 14, loc = \"upper right\")\n",
    "#axis.set_ylim(0,5)\n",
    "\n",
    "axis = sc.pl.violin(dataset, \"pct_counts_ribo\", jitter = 0.4, ax = ax[3], show = False)\n",
    "axis.grid(False)\n",
    "axis.set_title(\"Ribosomal Fraction\")\n",
    "axis.tick_params(axis = \"x\", bottom =False, labelbottom =False)\n",
    "axis.set_ylabel(\"% ribosome genes\")\n",
    "\n",
    "plt.tight_layout()\n",
    "#plt.savefig(f\"{outputDir}08_gene_based_filtering.pdf\", dpi = 300)\n",
    "plt.show()\n",
    "\n"
   ]
  },
  {
   "cell_type": "code",
   "execution_count": null,
   "id": "d7ade754-843e-4840-8707-426613d8c0c5",
   "metadata": {
    "execution": {
     "iopub.execute_input": "2023-04-23T12:01:54.964620Z",
     "iopub.status.busy": "2023-04-23T12:01:54.964448Z",
     "iopub.status.idle": "2023-04-23T12:01:54.973211Z",
     "shell.execute_reply": "2023-04-23T12:01:54.972839Z"
    },
    "papermill": {
     "duration": 0.014157,
     "end_time": "2023-04-23T12:01:54.974002",
     "exception": false,
     "start_time": "2023-04-23T12:01:54.959845",
     "status": "completed"
    },
    "tags": []
   },
   "outputs": [],
   "source": [
    "dataset = dataset[dataset.obs.pct_counts_mt < 5, :]\n",
    "dataset = dataset[dataset.obs.n_genes_by_counts > 250, :]\n",
    "dataset = dataset[dataset.obs.pct_counts_hb < 2, :]\n",
    "dataset"
   ]
  },
  {
   "cell_type": "code",
   "execution_count": null,
   "id": "2e0ff8c3-2aa9-4a01-9b88-5912a6734447",
   "metadata": {
    "execution": {
     "iopub.execute_input": "2023-04-23T12:01:54.982956Z",
     "iopub.status.busy": "2023-04-23T12:01:54.982786Z",
     "iopub.status.idle": "2023-04-23T12:01:55.058411Z",
     "shell.execute_reply": "2023-04-23T12:01:55.057939Z"
    },
    "papermill": {
     "duration": 0.08139,
     "end_time": "2023-04-23T12:01:55.059517",
     "exception": false,
     "start_time": "2023-04-23T12:01:54.978127",
     "status": "completed"
    },
    "tags": []
   },
   "outputs": [],
   "source": [
    "for col in metadata.columns:\n",
    "    dataset.obs[col] = metadata.loc[metadata[\"Run\"] == sample_name, col].to_list()[0]"
   ]
  },
  {
   "cell_type": "code",
   "execution_count": null,
   "id": "b84578d3-d63e-419c-a272-a0b8317d05ab",
   "metadata": {
    "execution": {
     "iopub.execute_input": "2023-04-23T12:01:55.069205Z",
     "iopub.status.busy": "2023-04-23T12:01:55.069042Z",
     "iopub.status.idle": "2023-04-23T12:01:55.339205Z",
     "shell.execute_reply": "2023-04-23T12:01:55.338734Z"
    },
    "papermill": {
     "duration": 0.276348,
     "end_time": "2023-04-23T12:01:55.340548",
     "exception": false,
     "start_time": "2023-04-23T12:01:55.064200",
     "status": "completed"
    },
    "tags": []
   },
   "outputs": [],
   "source": [
    "dataset.write(f\"../../int_data/{sample_name}_qc.h5ad\")"
   ]
  }
 ],
 "metadata": {
  "kernelspec": {
   "display_name": "py_R",
   "language": "python",
   "name": "python_r"
  },
  "language_info": {
   "codemirror_mode": {
    "name": "ipython",
    "version": 3
   },
   "file_extension": ".py",
   "mimetype": "text/x-python",
   "name": "python",
   "nbconvert_exporter": "python",
   "pygments_lexer": "ipython3",
   "version": "3.10.9"
  },
  "papermill": {
   "default_parameters": {},
   "duration": 160.062999,
   "end_time": "2023-04-23T12:01:56.764506",
   "environment_variables": {},
   "exception": null,
   "input_path": "SRR10127232.ipynb",
   "output_path": "SRR10127232.ipynb",
   "parameters": {},
   "start_time": "2023-04-23T11:59:16.701507",
   "version": "2.4.0"
  }
 },
 "nbformat": 4,
 "nbformat_minor": 5
}
