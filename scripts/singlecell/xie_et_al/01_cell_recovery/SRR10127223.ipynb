{
 "cells": [
  {
   "cell_type": "code",
   "execution_count": null,
   "id": "f87ed95b-2b67-4a5a-8fe2-47359b1dd2a9",
   "metadata": {
    "execution": {
     "iopub.execute_input": "2023-06-06T11:09:49.917939Z",
     "iopub.status.busy": "2023-06-06T11:09:49.917799Z",
     "iopub.status.idle": "2023-06-06T11:09:49.922740Z",
     "shell.execute_reply": "2023-06-06T11:09:49.922370Z"
    },
    "papermill": {
     "duration": 0.027496,
     "end_time": "2023-06-06T11:09:49.923684",
     "exception": false,
     "start_time": "2023-06-06T11:09:49.896188",
     "status": "completed"
    },
    "tags": []
   },
   "outputs": [],
   "source": [
    "import warnings\n",
    "warnings.simplefilter(action='ignore', category=FutureWarning)\n",
    "warnings.simplefilter(action='ignore', category=UserWarning)"
   ]
  },
  {
   "cell_type": "code",
   "execution_count": null,
   "id": "85161f19-b2c5-490b-8cab-c2cf9653b304",
   "metadata": {
    "execution": {
     "iopub.execute_input": "2023-06-06T11:09:49.972252Z",
     "iopub.status.busy": "2023-06-06T11:09:49.972093Z",
     "iopub.status.idle": "2023-06-06T11:10:33.086669Z",
     "shell.execute_reply": "2023-06-06T11:10:33.086211Z"
    },
    "papermill": {
     "duration": 43.119348,
     "end_time": "2023-06-06T11:10:33.088036",
     "exception": false,
     "start_time": "2023-06-06T11:09:49.968688",
     "status": "completed"
    },
    "tags": []
   },
   "outputs": [],
   "source": [
    "import gc\n",
    "import scanpy as sc\n",
    "import muon as mu\n",
    "import seaborn as sns\n",
    "import os\n",
    "import pandas as pd\n",
    "from matplotlib import pyplot as plt\n",
    "\n",
    "os.environ['R_HOME'] = '/gpfs/bwfor/work/ws/hd_fu399-conda/conda/envs/python_R/lib/R/'\n",
    "import anndata2ri\n",
    "import logging\n",
    "\n",
    "import rpy2.rinterface_lib.callbacks as rcb\n",
    "import rpy2.robjects as ro\n",
    "\n",
    "rcb.logger.setLevel(logging.ERROR)\n",
    "ro.pandas2ri.activate()\n",
    "anndata2ri.activate()\n",
    "\n",
    "%load_ext rpy2.ipython"
   ]
  },
  {
   "cell_type": "code",
   "execution_count": null,
   "id": "fc4ade78-b728-4704-9db6-45fbaab62ba1",
   "metadata": {
    "execution": {
     "iopub.execute_input": "2023-06-06T11:10:33.119994Z",
     "iopub.status.busy": "2023-06-06T11:10:33.119693Z",
     "iopub.status.idle": "2023-06-06T11:10:57.456558Z",
     "shell.execute_reply": "2023-06-06T11:10:57.455996Z"
    },
    "papermill": {
     "duration": 24.341418,
     "end_time": "2023-06-06T11:10:57.457900",
     "exception": false,
     "start_time": "2023-06-06T11:10:33.116482",
     "status": "completed"
    },
    "tags": []
   },
   "outputs": [],
   "source": [
    "%%R\n",
    "library(SoupX)\n",
    "library(Seurat)\n",
    "library(scater)\n",
    "library(scDblFinder)\n",
    "library(BiocParallel)\n",
    "library(MuDataSeurat)\n",
    "library(DropletUtils)"
   ]
  },
  {
   "cell_type": "code",
   "execution_count": null,
   "id": "611e4882-fc48-43d1-b1cd-e65e1bde0015",
   "metadata": {
    "execution": {
     "iopub.execute_input": "2023-06-06T11:10:57.499009Z",
     "iopub.status.busy": "2023-06-06T11:10:57.498841Z",
     "iopub.status.idle": "2023-06-06T11:10:57.501275Z",
     "shell.execute_reply": "2023-06-06T11:10:57.500968Z"
    },
    "papermill": {
     "duration": 0.006564,
     "end_time": "2023-06-06T11:10:57.502066",
     "exception": false,
     "start_time": "2023-06-06T11:10:57.495502",
     "status": "completed"
    },
    "tags": []
   },
   "outputs": [],
   "source": [
    "sample_name = \"SRR10127223\""
   ]
  },
  {
   "cell_type": "code",
   "execution_count": null,
   "id": "f7424d90-7690-4290-8651-1db3f9df3a35",
   "metadata": {
    "execution": {
     "iopub.execute_input": "2023-06-06T11:10:57.507772Z",
     "iopub.status.busy": "2023-06-06T11:10:57.507512Z",
     "iopub.status.idle": "2023-06-06T11:10:57.847618Z",
     "shell.execute_reply": "2023-06-06T11:10:57.847278Z"
    },
    "papermill": {
     "duration": 0.344145,
     "end_time": "2023-06-06T11:10:57.848703",
     "exception": false,
     "start_time": "2023-06-06T11:10:57.504558",
     "status": "completed"
    },
    "tags": []
   },
   "outputs": [],
   "source": [
    "metadata = pd.read_csv(\"../../SraRunTable.txt\")"
   ]
  },
  {
   "cell_type": "code",
   "execution_count": null,
   "id": "2574ecf1-bad4-4c33-8f3f-718a358727ab",
   "metadata": {
    "execution": {
     "iopub.execute_input": "2023-06-06T11:10:57.866491Z",
     "iopub.status.busy": "2023-06-06T11:10:57.866352Z",
     "iopub.status.idle": "2023-06-06T11:10:57.868486Z",
     "shell.execute_reply": "2023-06-06T11:10:57.868182Z"
    },
    "papermill": {
     "duration": 0.006005,
     "end_time": "2023-06-06T11:10:57.869305",
     "exception": false,
     "start_time": "2023-06-06T11:10:57.863300",
     "status": "completed"
    },
    "tags": []
   },
   "outputs": [],
   "source": [
    "raw_input = f\"/home/hd/hd_hd/hd_fu399/sds-hd/sd21k006/scRNAseq/revision_natcomm/xie_et_al/{sample_name}/{sample_name}/outs/raw_feature_bc_matrix.h5\""
   ]
  },
  {
   "cell_type": "code",
   "execution_count": null,
   "id": "e266d388-1802-435c-93a5-90067358739c",
   "metadata": {
    "execution": {
     "iopub.execute_input": "2023-06-06T11:10:57.876434Z",
     "iopub.status.busy": "2023-06-06T11:10:57.876278Z",
     "iopub.status.idle": "2023-06-06T11:10:59.736938Z",
     "shell.execute_reply": "2023-06-06T11:10:59.736486Z"
    },
    "papermill": {
     "duration": 1.864602,
     "end_time": "2023-06-06T11:10:59.737778",
     "exception": false,
     "start_time": "2023-06-06T11:10:57.873176",
     "status": "completed"
    },
    "tags": []
   },
   "outputs": [],
   "source": [
    "dataset = sc.read_10x_h5(raw_input)\n",
    "dataset.var_names_make_unique()\n",
    "dataset.obs_names_make_unique()\n",
    "\n",
    "dataset.layers[\"raw_counts\"] = dataset.X.copy()\n",
    "data_tod = dataset.layers[\"raw_counts\"].T.copy()\n",
    "\n",
    "dataset"
   ]
  },
  {
   "cell_type": "code",
   "execution_count": null,
   "id": "af9f5892-ed31-42a6-991b-4e096f582cef",
   "metadata": {
    "execution": {
     "iopub.execute_input": "2023-06-06T11:10:59.798361Z",
     "iopub.status.busy": "2023-06-06T11:10:59.798171Z",
     "iopub.status.idle": "2023-06-06T11:10:59.905540Z",
     "shell.execute_reply": "2023-06-06T11:10:59.905136Z"
    },
    "papermill": {
     "duration": 0.112228,
     "end_time": "2023-06-06T11:10:59.906903",
     "exception": false,
     "start_time": "2023-06-06T11:10:59.794675",
     "status": "completed"
    },
    "tags": []
   },
   "outputs": [],
   "source": [
    "sce = dataset.copy()"
   ]
  },
  {
   "cell_type": "code",
   "execution_count": null,
   "id": "d03f2caf-8e74-430e-b045-0ab80401d165",
   "metadata": {
    "execution": {
     "iopub.execute_input": "2023-06-06T11:10:59.926543Z",
     "iopub.status.busy": "2023-06-06T11:10:59.926336Z",
     "iopub.status.idle": "2023-06-06T11:12:43.902319Z",
     "shell.execute_reply": "2023-06-06T11:12:43.901700Z"
    },
    "papermill": {
     "duration": 103.980733,
     "end_time": "2023-06-06T11:12:43.903590",
     "exception": false,
     "start_time": "2023-06-06T11:10:59.922857",
     "status": "completed"
    },
    "tags": []
   },
   "outputs": [],
   "source": [
    "%%R -i sce -o empty_drop_output\n",
    "set.seed(187)\n",
    "empty_drop_output <- emptyDrops(assay(sce))"
   ]
  },
  {
   "cell_type": "code",
   "execution_count": null,
   "id": "2a34a54b-3ae2-44d6-8679-8769228c5b66",
   "metadata": {
    "execution": {
     "iopub.execute_input": "2023-06-06T11:12:43.942645Z",
     "iopub.status.busy": "2023-06-06T11:12:43.942488Z",
     "iopub.status.idle": "2023-06-06T11:12:44.075230Z",
     "shell.execute_reply": "2023-06-06T11:12:44.074808Z"
    },
    "papermill": {
     "duration": 0.137047,
     "end_time": "2023-06-06T11:12:44.076177",
     "exception": false,
     "start_time": "2023-06-06T11:12:43.939130",
     "status": "completed"
    },
    "tags": []
   },
   "outputs": [],
   "source": [
    "non_empty_barcodes = empty_drop_output[empty_drop_output[\"FDR\"] < 0.001].index\n",
    "dataset = dataset[dataset.obs.index.isin(non_empty_barcodes), :]\n",
    "dataset"
   ]
  },
  {
   "cell_type": "code",
   "execution_count": null,
   "id": "016a91e5-1bef-46fb-b91e-4fb9a6870c44",
   "metadata": {
    "execution": {
     "iopub.execute_input": "2023-06-06T11:12:44.099714Z",
     "iopub.status.busy": "2023-06-06T11:12:44.099574Z",
     "iopub.status.idle": "2023-06-06T11:12:55.693576Z",
     "shell.execute_reply": "2023-06-06T11:12:55.693086Z"
    },
    "papermill": {
     "duration": 11.599189,
     "end_time": "2023-06-06T11:12:55.694968",
     "exception": false,
     "start_time": "2023-06-06T11:12:44.095779",
     "status": "completed"
    },
    "tags": []
   },
   "outputs": [],
   "source": [
    "rna_assay = dataset.copy()\n",
    "sc.pp.normalize_per_cell(rna_assay)\n",
    "sc.pp.log1p(rna_assay)\n",
    "sc.pp.pca(rna_assay)\n",
    "sc.pp.neighbors(rna_assay)\n",
    "sc.tl.leiden(rna_assay, key_added=\"soupx_groups\")\n",
    "\n",
    "soupx_groups = rna_assay.obs[\"soupx_groups\"]\n",
    "\n",
    "del rna_assay\n",
    "\n",
    "genes = dataset.var_names\n",
    "cells = dataset.obs_names\n",
    "data = dataset.X.T.copy()"
   ]
  },
  {
   "cell_type": "code",
   "execution_count": null,
   "id": "9db4ea1f-1580-4f43-a3f0-86002397cd98",
   "metadata": {
    "execution": {
     "iopub.execute_input": "2023-06-06T11:12:55.731804Z",
     "iopub.status.busy": "2023-06-06T11:12:55.731608Z",
     "iopub.status.idle": "2023-06-06T11:13:22.729091Z",
     "shell.execute_reply": "2023-06-06T11:13:22.728615Z"
    },
    "papermill": {
     "duration": 27.00231,
     "end_time": "2023-06-06T11:13:22.730422",
     "exception": false,
     "start_time": "2023-06-06T11:12:55.728112",
     "status": "completed"
    },
    "tags": []
   },
   "outputs": [],
   "source": [
    "%%R -i data -i data_tod -i genes -i cells -i soupx_groups -o out \n",
    "set.seed(187)\n",
    "# specify row and column names of data\n",
    "rownames(data) = genes\n",
    "colnames(data) = cells\n",
    "# ensure correct sparse format for table of counts and table of droplets\n",
    "data <- as(data, \"sparseMatrix\")\n",
    "data_tod <- as(data_tod, \"sparseMatrix\")\n",
    "\n",
    "# Generate SoupChannel Object for SoupX \n",
    "sc = SoupChannel(data_tod, data, calcSoupProfile = FALSE)\n",
    "\n",
    "# Add extra meta data to the SoupChannel object\n",
    "soupProf = data.frame(row.names = rownames(data),\n",
    "                      est = rowSums(data)/sum(data),\n",
    "                      counts = rowSums(data))\n",
    "sc = setSoupProfile(sc, soupProf)\n",
    "# Set cluster information in SoupChannel\n",
    "sc = setClusters(sc, soupx_groups)\n",
    "\n",
    "# Estimate contamination fraction\n",
    "sc  = autoEstCont(sc, doPlot=FALSE, forceAccept = TRUE)\n",
    "# Infer corrected table of counts and rount to integer\n",
    "out = adjustCounts(sc, roundToInt = TRUE)"
   ]
  },
  {
   "cell_type": "code",
   "execution_count": null,
   "id": "32555d5e-5fa3-46dd-a4e0-ddc96ea265e2",
   "metadata": {
    "execution": {
     "iopub.execute_input": "2023-06-06T11:13:22.755254Z",
     "iopub.status.busy": "2023-06-06T11:13:22.755076Z",
     "iopub.status.idle": "2023-06-06T11:13:22.807760Z",
     "shell.execute_reply": "2023-06-06T11:13:22.807303Z"
    },
    "papermill": {
     "duration": 0.057283,
     "end_time": "2023-06-06T11:13:22.809056",
     "exception": false,
     "start_time": "2023-06-06T11:13:22.751773",
     "status": "completed"
    },
    "tags": []
   },
   "outputs": [],
   "source": [
    "dataset.layers[\"soupX_counts\"] = out.T\n",
    "dataset.X = dataset.layers[\"soupX_counts\"].copy()"
   ]
  },
  {
   "cell_type": "code",
   "execution_count": null,
   "id": "e27da7df-e094-4d2a-9109-5a363e012175",
   "metadata": {
    "execution": {
     "iopub.execute_input": "2023-06-06T11:13:22.815912Z",
     "iopub.status.busy": "2023-06-06T11:13:22.815724Z",
     "iopub.status.idle": "2023-06-06T11:13:22.818181Z",
     "shell.execute_reply": "2023-06-06T11:13:22.817844Z"
    },
    "papermill": {
     "duration": 0.006535,
     "end_time": "2023-06-06T11:13:22.818979",
     "exception": false,
     "start_time": "2023-06-06T11:13:22.812444",
     "status": "completed"
    },
    "tags": []
   },
   "outputs": [],
   "source": [
    "data_mat = dataset.X.T"
   ]
  },
  {
   "cell_type": "code",
   "execution_count": null,
   "id": "80a993b1-5ccb-4697-9187-1beb7ab8aff9",
   "metadata": {
    "execution": {
     "iopub.execute_input": "2023-06-06T11:13:22.824971Z",
     "iopub.status.busy": "2023-06-06T11:13:22.824835Z",
     "iopub.status.idle": "2023-06-06T11:13:37.793091Z",
     "shell.execute_reply": "2023-06-06T11:13:37.792630Z"
    },
    "papermill": {
     "duration": 14.97286,
     "end_time": "2023-06-06T11:13:37.794491",
     "exception": false,
     "start_time": "2023-06-06T11:13:22.821631",
     "status": "completed"
    },
    "tags": []
   },
   "outputs": [],
   "source": [
    "%%R -i data_mat -o droplet_class\n",
    "\n",
    "set.seed(187)\n",
    "sce = scDblFinder(\n",
    "    SingleCellExperiment(\n",
    "        list(counts=data_mat),\n",
    "    ) \n",
    ")\n",
    "droplet_class = sce$scDblFinder.class"
   ]
  },
  {
   "cell_type": "code",
   "execution_count": null,
   "id": "d4dd6e9d-fcf2-41fc-8457-c8e0a3cb2c71",
   "metadata": {
    "execution": {
     "iopub.execute_input": "2023-06-06T11:13:37.831831Z",
     "iopub.status.busy": "2023-06-06T11:13:37.831643Z",
     "iopub.status.idle": "2023-06-06T11:13:37.898208Z",
     "shell.execute_reply": "2023-06-06T11:13:37.897872Z"
    },
    "papermill": {
     "duration": 0.071115,
     "end_time": "2023-06-06T11:13:37.899110",
     "exception": false,
     "start_time": "2023-06-06T11:13:37.827995",
     "status": "completed"
    },
    "tags": []
   },
   "outputs": [],
   "source": [
    "dataset.obs[\"scDblFinder_class\"] = droplet_class\n",
    "dataset.obs.scDblFinder_class.value_counts()\n",
    "dataset"
   ]
  },
  {
   "cell_type": "code",
   "execution_count": null,
   "id": "28c95014-2d6c-477f-95cb-9f9f0507520c",
   "metadata": {
    "execution": {
     "iopub.execute_input": "2023-06-06T11:13:37.917483Z",
     "iopub.status.busy": "2023-06-06T11:13:37.917287Z",
     "iopub.status.idle": "2023-06-06T11:13:37.957113Z",
     "shell.execute_reply": "2023-06-06T11:13:37.956725Z"
    },
    "papermill": {
     "duration": 0.044848,
     "end_time": "2023-06-06T11:13:37.958173",
     "exception": false,
     "start_time": "2023-06-06T11:13:37.913325",
     "status": "completed"
    },
    "tags": []
   },
   "outputs": [],
   "source": [
    "dataset = dataset[dataset.obs[\"scDblFinder_class\"] == 1]"
   ]
  },
  {
   "cell_type": "code",
   "execution_count": null,
   "id": "3e22f9e0-bfcb-416c-a151-a9bca3bec3b9",
   "metadata": {
    "execution": {
     "iopub.execute_input": "2023-06-06T11:13:37.964988Z",
     "iopub.status.busy": "2023-06-06T11:13:37.964824Z",
     "iopub.status.idle": "2023-06-06T11:13:38.349392Z",
     "shell.execute_reply": "2023-06-06T11:13:38.348931Z"
    },
    "papermill": {
     "duration": 0.388952,
     "end_time": "2023-06-06T11:13:38.350324",
     "exception": false,
     "start_time": "2023-06-06T11:13:37.961372",
     "status": "completed"
    },
    "tags": []
   },
   "outputs": [],
   "source": [
    "# mitochondrial genes\n",
    "dataset.var[\"mt\"] = dataset.var_names.str.startswith(\"mt-\")\n",
    "# ribosomal genes\n",
    "dataset.var[\"ribo\"] = dataset.var_names.str.startswith((\"Rps\", \"Rpl\"))\n",
    "# hemoglobin genes.\n",
    "dataset.var[\"hb\"] = dataset.var_names.str.contains((\"^Hb[^(P)]\"))\n",
    "\n",
    "sc.pp.calculate_qc_metrics(dataset,\n",
    "                           qc_vars=['mt', 'ribo', 'hb'],\n",
    "                           percent_top=None,\n",
    "                           log1p=False,\n",
    "                           inplace=True)\n",
    "dataset"
   ]
  },
  {
   "cell_type": "code",
   "execution_count": null,
   "id": "34deee79-4043-428f-8575-aa57b45f6369",
   "metadata": {
    "execution": {
     "iopub.execute_input": "2023-06-06T11:13:38.385164Z",
     "iopub.status.busy": "2023-06-06T11:13:38.384975Z",
     "iopub.status.idle": "2023-06-06T11:13:39.737527Z",
     "shell.execute_reply": "2023-06-06T11:13:39.737107Z"
    },
    "papermill": {
     "duration": 1.384062,
     "end_time": "2023-06-06T11:13:39.765164",
     "exception": false,
     "start_time": "2023-06-06T11:13:38.381102",
     "status": "completed"
    },
    "tags": []
   },
   "outputs": [],
   "source": [
    "fig, ax = plt.subplots(ncols = 4, figsize = (16,4))\n",
    "axis = sc.pl.violin(dataset, \"n_genes_by_counts\", jitter = 0.4, ax = ax[0], show = False)\n",
    "axis.grid(False)\n",
    "axis.set_title(\"Unique Genes per cell\")\n",
    "axis.tick_params(axis = \"x\", bottom =False, labelbottom =False)\n",
    "axis.set_ylabel(\"# genes\")\n",
    "axis.axhline(y = 250, color = \"black\", label = \"cutoff\")\n",
    "axis.legend(fontsize = 14, loc = \"upper right\")\n",
    "\n",
    "axis = sc.pl.violin(dataset, \"pct_counts_mt\", jitter = 0.4, ax = ax[1], show = False)\n",
    "axis.grid(False)\n",
    "axis.set_title(\"Mitochondrial Fraction\")\n",
    "axis.tick_params(axis = \"x\", bottom =False, labelbottom =False)\n",
    "axis.set_ylabel(\"% mitochondrial genes\")\n",
    "axis.axhline(y = 5, color = \"black\", label = \"cutoff\")\n",
    "axis.legend(fontsize = 14, loc = \"upper right\")\n",
    "\n",
    "axis = sc.pl.violin(dataset, \"pct_counts_hb\", jitter = 0.4, ax = ax[2], show = False, size =2)\n",
    "axis.grid(False)\n",
    "axis.set_title(\"Hemoglobin Fraction\")\n",
    "axis.tick_params(axis = \"x\", bottom =False, labelbottom =False)\n",
    "axis.set_ylabel(\"% hemoglobin genes\")\n",
    "axis.axhline(y = 2, color = \"black\", label = \"cutoff\")\n",
    "axis.legend(fontsize = 14, loc = \"upper right\")\n",
    "#axis.set_ylim(0,5)\n",
    "\n",
    "axis = sc.pl.violin(dataset, \"pct_counts_ribo\", jitter = 0.4, ax = ax[3], show = False)\n",
    "axis.grid(False)\n",
    "axis.set_title(\"Ribosomal Fraction\")\n",
    "axis.tick_params(axis = \"x\", bottom =False, labelbottom =False)\n",
    "axis.set_ylabel(\"% ribosome genes\")\n",
    "\n",
    "plt.tight_layout()\n",
    "#plt.savefig(f\"{outputDir}08_gene_based_filtering.pdf\", dpi = 300)\n",
    "plt.show()\n",
    "\n"
   ]
  },
  {
   "cell_type": "code",
   "execution_count": null,
   "id": "d7ade754-843e-4840-8707-426613d8c0c5",
   "metadata": {
    "execution": {
     "iopub.execute_input": "2023-06-06T11:13:39.807072Z",
     "iopub.status.busy": "2023-06-06T11:13:39.806879Z",
     "iopub.status.idle": "2023-06-06T11:13:39.816832Z",
     "shell.execute_reply": "2023-06-06T11:13:39.816511Z"
    },
    "papermill": {
     "duration": 0.016532,
     "end_time": "2023-06-06T11:13:39.817642",
     "exception": false,
     "start_time": "2023-06-06T11:13:39.801110",
     "status": "completed"
    },
    "tags": []
   },
   "outputs": [],
   "source": [
    "dataset = dataset[dataset.obs.pct_counts_mt < 5, :]\n",
    "dataset = dataset[dataset.obs.n_genes_by_counts > 250, :]\n",
    "dataset = dataset[dataset.obs.pct_counts_hb < 2, :]\n",
    "dataset"
   ]
  },
  {
   "cell_type": "code",
   "execution_count": null,
   "id": "2e0ff8c3-2aa9-4a01-9b88-5912a6734447",
   "metadata": {
    "execution": {
     "iopub.execute_input": "2023-06-06T11:13:39.828149Z",
     "iopub.status.busy": "2023-06-06T11:13:39.827983Z",
     "iopub.status.idle": "2023-06-06T11:13:39.909393Z",
     "shell.execute_reply": "2023-06-06T11:13:39.908981Z"
    },
    "papermill": {
     "duration": 0.088095,
     "end_time": "2023-06-06T11:13:39.910697",
     "exception": false,
     "start_time": "2023-06-06T11:13:39.822602",
     "status": "completed"
    },
    "tags": []
   },
   "outputs": [],
   "source": [
    "for col in metadata.columns:\n",
    "    dataset.obs[col] = metadata.loc[metadata[\"Run\"] == sample_name, col].to_list()[0]"
   ]
  },
  {
   "cell_type": "code",
   "execution_count": null,
   "id": "b84578d3-d63e-419c-a272-a0b8317d05ab",
   "metadata": {
    "execution": {
     "iopub.execute_input": "2023-06-06T11:13:39.924245Z",
     "iopub.status.busy": "2023-06-06T11:13:39.924051Z",
     "iopub.status.idle": "2023-06-06T11:13:40.758854Z",
     "shell.execute_reply": "2023-06-06T11:13:40.758390Z"
    },
    "papermill": {
     "duration": 0.841779,
     "end_time": "2023-06-06T11:13:40.760211",
     "exception": false,
     "start_time": "2023-06-06T11:13:39.918432",
     "status": "completed"
    },
    "tags": []
   },
   "outputs": [],
   "source": [
    "dataset.write(f\"../../int_data/{sample_name}_qc.h5ad\")"
   ]
  }
 ],
 "metadata": {
  "kernelspec": {
   "display_name": "py_R",
   "language": "python",
   "name": "python_r"
  },
  "language_info": {
   "codemirror_mode": {
    "name": "ipython",
    "version": 3
   },
   "file_extension": ".py",
   "mimetype": "text/x-python",
   "name": "python",
   "nbconvert_exporter": "python",
   "pygments_lexer": "ipython3",
   "version": "3.10.11"
  },
  "papermill": {
   "default_parameters": {},
   "duration": 250.075427,
   "end_time": "2023-06-06T11:13:43.543913",
   "environment_variables": {},
   "exception": null,
   "input_path": "SRR10127223.ipynb",
   "output_path": "SRR10127223.ipynb",
   "parameters": {},
   "start_time": "2023-06-06T11:09:33.468486",
   "version": "2.4.0"
  }
 },
 "nbformat": 4,
 "nbformat_minor": 5
}
