{
 "cells": [
  {
   "cell_type": "markdown",
   "id": "d6b140c0",
   "metadata": {
    "tags": [
     "papermill-error-cell-tag"
    ]
   },
   "source": [
    "<span style=\"color:red; font-family:Helvetica Neue, Helvetica, Arial, sans-serif; font-size:2em;\">An Exception was encountered at '<a href=\"#papermill-error-cell\">In [7]</a>'.</span>"
   ]
  },
  {
   "cell_type": "code",
   "execution_count": null,
   "id": "f87ed95b-2b67-4a5a-8fe2-47359b1dd2a9",
   "metadata": {
    "execution": {
     "iopub.execute_input": "2023-06-06T11:44:32.237888Z",
     "iopub.status.busy": "2023-06-06T11:44:32.237670Z",
     "iopub.status.idle": "2023-06-06T11:44:32.242699Z",
     "shell.execute_reply": "2023-06-06T11:44:32.242398Z"
    },
    "papermill": {
     "duration": 0.033436,
     "end_time": "2023-06-06T11:44:32.243583",
     "exception": false,
     "start_time": "2023-06-06T11:44:32.210147",
     "status": "completed"
    },
    "tags": []
   },
   "outputs": [],
   "source": [
    "import warnings\n",
    "warnings.simplefilter(action='ignore', category=FutureWarning)\n",
    "warnings.simplefilter(action='ignore', category=UserWarning)"
   ]
  },
  {
   "cell_type": "code",
   "execution_count": null,
   "id": "85161f19-b2c5-490b-8cab-c2cf9653b304",
   "metadata": {
    "execution": {
     "iopub.execute_input": "2023-06-06T11:44:32.249528Z",
     "iopub.status.busy": "2023-06-06T11:44:32.249405Z",
     "iopub.status.idle": "2023-06-06T11:45:06.506377Z",
     "shell.execute_reply": "2023-06-06T11:45:06.505902Z"
    },
    "papermill": {
     "duration": 34.261117,
     "end_time": "2023-06-06T11:45:06.507694",
     "exception": false,
     "start_time": "2023-06-06T11:44:32.246577",
     "status": "completed"
    },
    "tags": []
   },
   "outputs": [],
   "source": [
    "import gc\n",
    "import scanpy as sc\n",
    "import muon as mu\n",
    "import seaborn as sns\n",
    "import os\n",
    "import pandas as pd\n",
    "from matplotlib import pyplot as plt\n",
    "\n",
    "os.environ['R_HOME'] = '/gpfs/bwfor/work/ws/hd_fu399-conda/conda/envs/python_R/lib/R/'\n",
    "import anndata2ri\n",
    "import logging\n",
    "\n",
    "import rpy2.rinterface_lib.callbacks as rcb\n",
    "import rpy2.robjects as ro\n",
    "\n",
    "rcb.logger.setLevel(logging.ERROR)\n",
    "ro.pandas2ri.activate()\n",
    "anndata2ri.activate()\n",
    "\n",
    "%load_ext rpy2.ipython"
   ]
  },
  {
   "cell_type": "code",
   "execution_count": null,
   "id": "fc4ade78-b728-4704-9db6-45fbaab62ba1",
   "metadata": {
    "execution": {
     "iopub.execute_input": "2023-06-06T11:45:06.527639Z",
     "iopub.status.busy": "2023-06-06T11:45:06.527335Z",
     "iopub.status.idle": "2023-06-06T11:45:23.383871Z",
     "shell.execute_reply": "2023-06-06T11:45:23.383310Z"
    },
    "papermill": {
     "duration": 16.861332,
     "end_time": "2023-06-06T11:45:23.385240",
     "exception": false,
     "start_time": "2023-06-06T11:45:06.523908",
     "status": "completed"
    },
    "tags": []
   },
   "outputs": [],
   "source": [
    "%%R\n",
    "library(SoupX)\n",
    "library(Seurat)\n",
    "library(scater)\n",
    "library(scDblFinder)\n",
    "library(BiocParallel)\n",
    "library(MuDataSeurat)\n",
    "library(DropletUtils)"
   ]
  },
  {
   "cell_type": "code",
   "execution_count": null,
   "id": "611e4882-fc48-43d1-b1cd-e65e1bde0015",
   "metadata": {
    "execution": {
     "iopub.execute_input": "2023-06-06T11:45:23.425716Z",
     "iopub.status.busy": "2023-06-06T11:45:23.425524Z",
     "iopub.status.idle": "2023-06-06T11:45:23.428102Z",
     "shell.execute_reply": "2023-06-06T11:45:23.427769Z"
    },
    "papermill": {
     "duration": 0.006684,
     "end_time": "2023-06-06T11:45:23.428899",
     "exception": false,
     "start_time": "2023-06-06T11:45:23.422215",
     "status": "completed"
    },
    "tags": []
   },
   "outputs": [],
   "source": [
    "sample_name = \"SRR10127231\""
   ]
  },
  {
   "cell_type": "code",
   "execution_count": null,
   "id": "f7424d90-7690-4290-8651-1db3f9df3a35",
   "metadata": {
    "execution": {
     "iopub.execute_input": "2023-06-06T11:45:23.434512Z",
     "iopub.status.busy": "2023-06-06T11:45:23.434383Z",
     "iopub.status.idle": "2023-06-06T11:45:23.454594Z",
     "shell.execute_reply": "2023-06-06T11:45:23.454218Z"
    },
    "papermill": {
     "duration": 0.024081,
     "end_time": "2023-06-06T11:45:23.455566",
     "exception": false,
     "start_time": "2023-06-06T11:45:23.431485",
     "status": "completed"
    },
    "tags": []
   },
   "outputs": [],
   "source": [
    "metadata = pd.read_csv(\"../../SraRunTable.txt\")"
   ]
  },
  {
   "cell_type": "code",
   "execution_count": null,
   "id": "2574ecf1-bad4-4c33-8f3f-718a358727ab",
   "metadata": {
    "execution": {
     "iopub.execute_input": "2023-06-06T11:45:23.461464Z",
     "iopub.status.busy": "2023-06-06T11:45:23.461209Z",
     "iopub.status.idle": "2023-06-06T11:45:23.463248Z",
     "shell.execute_reply": "2023-06-06T11:45:23.462945Z"
    },
    "papermill": {
     "duration": 0.005748,
     "end_time": "2023-06-06T11:45:23.464025",
     "exception": false,
     "start_time": "2023-06-06T11:45:23.458277",
     "status": "completed"
    },
    "tags": []
   },
   "outputs": [],
   "source": [
    "raw_input = f\"/home/hd/hd_hd/hd_fu399/sds-hd/sd21k006/scRNAseq/revision_natcomm/xie_et_al/{sample_name}/{sample_name}/outs/raw_feature_bc_matrix.h5\""
   ]
  },
  {
   "cell_type": "markdown",
   "id": "724a5b04",
   "metadata": {
    "tags": [
     "papermill-error-cell-tag"
    ]
   },
   "source": [
    "<span id=\"papermill-error-cell\" style=\"color:red; font-family:Helvetica Neue, Helvetica, Arial, sans-serif; font-size:2em;\">Execution using papermill encountered an exception here and stopped:</span>"
   ]
  },
  {
   "cell_type": "code",
   "execution_count": null,
   "id": "e266d388-1802-435c-93a5-90067358739c",
   "metadata": {
    "execution": {
     "iopub.execute_input": "2023-06-06T11:45:23.469869Z",
     "iopub.status.busy": "2023-06-06T11:45:23.469573Z",
     "iopub.status.idle": "2023-06-06T11:45:24.259450Z",
     "shell.execute_reply": "2023-06-06T11:45:24.258887Z"
    },
    "papermill": {
     "duration": 0.793663,
     "end_time": "2023-06-06T11:45:24.260284",
     "exception": true,
     "start_time": "2023-06-06T11:45:23.466621",
     "status": "failed"
    },
    "tags": []
   },
   "outputs": [],
   "source": [
    "dataset = sc.read_10x_h5(raw_input)\n",
    "dataset.var_names_make_unique()\n",
    "dataset.obs_names_make_unique()\n",
    "\n",
    "dataset.layers[\"raw_counts\"] = dataset.X.copy()\n",
    "data_tod = dataset.layers[\"raw_counts\"].T.copy()\n",
    "\n",
    "dataset"
   ]
  },
  {
   "cell_type": "code",
   "execution_count": null,
   "id": "af9f5892-ed31-42a6-991b-4e096f582cef",
   "metadata": {
    "execution": {
     "iopub.execute_input": "2023-04-23T11:56:28.531269Z",
     "iopub.status.busy": "2023-04-23T11:56:28.531081Z",
     "iopub.status.idle": "2023-04-23T11:56:28.618658Z",
     "shell.execute_reply": "2023-04-23T11:56:28.618186Z"
    },
    "papermill": {
     "duration": null,
     "end_time": null,
     "exception": null,
     "start_time": null,
     "status": "pending"
    },
    "tags": []
   },
   "outputs": [],
   "source": [
    "sce = dataset.copy()"
   ]
  },
  {
   "cell_type": "code",
   "execution_count": null,
   "id": "d03f2caf-8e74-430e-b045-0ab80401d165",
   "metadata": {
    "execution": {
     "iopub.execute_input": "2023-04-23T11:56:28.625960Z",
     "iopub.status.busy": "2023-04-23T11:56:28.625817Z",
     "iopub.status.idle": "2023-04-23T11:58:08.197917Z",
     "shell.execute_reply": "2023-04-23T11:58:08.197330Z"
    },
    "papermill": {
     "duration": null,
     "end_time": null,
     "exception": null,
     "start_time": null,
     "status": "pending"
    },
    "tags": []
   },
   "outputs": [],
   "source": [
    "%%R -i sce -o empty_drop_output\n",
    "set.seed(187)\n",
    "empty_drop_output <- emptyDrops(assay(sce))"
   ]
  },
  {
   "cell_type": "code",
   "execution_count": null,
   "id": "2a34a54b-3ae2-44d6-8679-8769228c5b66",
   "metadata": {
    "execution": {
     "iopub.execute_input": "2023-04-23T11:58:08.207667Z",
     "iopub.status.busy": "2023-04-23T11:58:08.207524Z",
     "iopub.status.idle": "2023-04-23T11:58:08.243819Z",
     "shell.execute_reply": "2023-04-23T11:58:08.243418Z"
    },
    "papermill": {
     "duration": null,
     "end_time": null,
     "exception": null,
     "start_time": null,
     "status": "pending"
    },
    "tags": []
   },
   "outputs": [],
   "source": [
    "non_empty_barcodes = empty_drop_output[empty_drop_output[\"FDR\"] < 0.001].index\n",
    "dataset = dataset[dataset.obs.index.isin(non_empty_barcodes), :]\n",
    "dataset"
   ]
  },
  {
   "cell_type": "code",
   "execution_count": null,
   "id": "016a91e5-1bef-46fb-b91e-4fb9a6870c44",
   "metadata": {
    "execution": {
     "iopub.execute_input": "2023-04-23T11:58:08.250514Z",
     "iopub.status.busy": "2023-04-23T11:58:08.250354Z",
     "iopub.status.idle": "2023-04-23T11:58:18.168210Z",
     "shell.execute_reply": "2023-04-23T11:58:18.167689Z"
    },
    "papermill": {
     "duration": null,
     "end_time": null,
     "exception": null,
     "start_time": null,
     "status": "pending"
    },
    "tags": []
   },
   "outputs": [],
   "source": [
    "rna_assay = dataset.copy()\n",
    "sc.pp.normalize_per_cell(rna_assay)\n",
    "sc.pp.log1p(rna_assay)\n",
    "sc.pp.pca(rna_assay)\n",
    "sc.pp.neighbors(rna_assay)\n",
    "sc.tl.leiden(rna_assay, key_added=\"soupx_groups\")\n",
    "\n",
    "soupx_groups = rna_assay.obs[\"soupx_groups\"]\n",
    "\n",
    "del rna_assay\n",
    "\n",
    "genes = dataset.var_names\n",
    "cells = dataset.obs_names\n",
    "data = dataset.X.T.copy()"
   ]
  },
  {
   "cell_type": "code",
   "execution_count": null,
   "id": "9db4ea1f-1580-4f43-a3f0-86002397cd98",
   "metadata": {
    "execution": {
     "iopub.execute_input": "2023-04-23T11:58:18.178085Z",
     "iopub.status.busy": "2023-04-23T11:58:18.177839Z",
     "iopub.status.idle": "2023-04-23T11:58:51.580669Z",
     "shell.execute_reply": "2023-04-23T11:58:51.580070Z"
    },
    "papermill": {
     "duration": null,
     "end_time": null,
     "exception": null,
     "start_time": null,
     "status": "pending"
    },
    "tags": []
   },
   "outputs": [],
   "source": [
    "%%R -i data -i data_tod -i genes -i cells -i soupx_groups -o out \n",
    "set.seed(187)\n",
    "# specify row and column names of data\n",
    "rownames(data) = genes\n",
    "colnames(data) = cells\n",
    "# ensure correct sparse format for table of counts and table of droplets\n",
    "data <- as(data, \"sparseMatrix\")\n",
    "data_tod <- as(data_tod, \"sparseMatrix\")\n",
    "\n",
    "# Generate SoupChannel Object for SoupX \n",
    "sc = SoupChannel(data_tod, data, calcSoupProfile = FALSE)\n",
    "\n",
    "# Add extra meta data to the SoupChannel object\n",
    "soupProf = data.frame(row.names = rownames(data),\n",
    "                      est = rowSums(data)/sum(data),\n",
    "                      counts = rowSums(data))\n",
    "sc = setSoupProfile(sc, soupProf)\n",
    "# Set cluster information in SoupChannel\n",
    "sc = setClusters(sc, soupx_groups)\n",
    "\n",
    "# Estimate contamination fraction\n",
    "sc  = autoEstCont(sc, doPlot=FALSE, forceAccept = TRUE)\n",
    "# Infer corrected table of counts and rount to integer\n",
    "out = adjustCounts(sc, roundToInt = TRUE)"
   ]
  },
  {
   "cell_type": "code",
   "execution_count": null,
   "id": "32555d5e-5fa3-46dd-a4e0-ddc96ea265e2",
   "metadata": {
    "execution": {
     "iopub.execute_input": "2023-04-23T11:58:51.590677Z",
     "iopub.status.busy": "2023-04-23T11:58:51.590472Z",
     "iopub.status.idle": "2023-04-23T11:58:51.643530Z",
     "shell.execute_reply": "2023-04-23T11:58:51.643028Z"
    },
    "papermill": {
     "duration": null,
     "end_time": null,
     "exception": null,
     "start_time": null,
     "status": "pending"
    },
    "tags": []
   },
   "outputs": [],
   "source": [
    "dataset.layers[\"soupX_counts\"] = out.T\n",
    "dataset.X = dataset.layers[\"soupX_counts\"].copy()"
   ]
  },
  {
   "cell_type": "code",
   "execution_count": null,
   "id": "e27da7df-e094-4d2a-9109-5a363e012175",
   "metadata": {
    "execution": {
     "iopub.execute_input": "2023-04-23T11:58:51.651170Z",
     "iopub.status.busy": "2023-04-23T11:58:51.651008Z",
     "iopub.status.idle": "2023-04-23T11:58:51.653430Z",
     "shell.execute_reply": "2023-04-23T11:58:51.653079Z"
    },
    "papermill": {
     "duration": null,
     "end_time": null,
     "exception": null,
     "start_time": null,
     "status": "pending"
    },
    "tags": []
   },
   "outputs": [],
   "source": [
    "data_mat = dataset.X.T"
   ]
  },
  {
   "cell_type": "code",
   "execution_count": null,
   "id": "80a993b1-5ccb-4697-9187-1beb7ab8aff9",
   "metadata": {
    "execution": {
     "iopub.execute_input": "2023-04-23T11:58:51.659886Z",
     "iopub.status.busy": "2023-04-23T11:58:51.659751Z",
     "iopub.status.idle": "2023-04-23T11:59:13.644760Z",
     "shell.execute_reply": "2023-04-23T11:59:13.644287Z"
    },
    "papermill": {
     "duration": null,
     "end_time": null,
     "exception": null,
     "start_time": null,
     "status": "pending"
    },
    "tags": []
   },
   "outputs": [],
   "source": [
    "%%R -i data_mat -o droplet_class\n",
    "\n",
    "set.seed(187)\n",
    "sce = scDblFinder(\n",
    "    SingleCellExperiment(\n",
    "        list(counts=data_mat),\n",
    "    ) \n",
    ")\n",
    "droplet_class = sce$scDblFinder.class"
   ]
  },
  {
   "cell_type": "code",
   "execution_count": null,
   "id": "d4dd6e9d-fcf2-41fc-8457-c8e0a3cb2c71",
   "metadata": {
    "execution": {
     "iopub.execute_input": "2023-04-23T11:59:13.654696Z",
     "iopub.status.busy": "2023-04-23T11:59:13.654534Z",
     "iopub.status.idle": "2023-04-23T11:59:13.659129Z",
     "shell.execute_reply": "2023-04-23T11:59:13.658789Z"
    },
    "papermill": {
     "duration": null,
     "end_time": null,
     "exception": null,
     "start_time": null,
     "status": "pending"
    },
    "tags": []
   },
   "outputs": [],
   "source": [
    "dataset.obs[\"scDblFinder_class\"] = droplet_class\n",
    "dataset.obs.scDblFinder_class.value_counts()\n",
    "dataset"
   ]
  },
  {
   "cell_type": "code",
   "execution_count": null,
   "id": "28c95014-2d6c-477f-95cb-9f9f0507520c",
   "metadata": {
    "execution": {
     "iopub.execute_input": "2023-04-23T11:59:13.665945Z",
     "iopub.status.busy": "2023-04-23T11:59:13.665777Z",
     "iopub.status.idle": "2023-04-23T11:59:13.680414Z",
     "shell.execute_reply": "2023-04-23T11:59:13.680093Z"
    },
    "papermill": {
     "duration": null,
     "end_time": null,
     "exception": null,
     "start_time": null,
     "status": "pending"
    },
    "tags": []
   },
   "outputs": [],
   "source": [
    "dataset = dataset[dataset.obs[\"scDblFinder_class\"] == 1]"
   ]
  },
  {
   "cell_type": "code",
   "execution_count": null,
   "id": "3e22f9e0-bfcb-416c-a151-a9bca3bec3b9",
   "metadata": {
    "execution": {
     "iopub.execute_input": "2023-04-23T11:59:13.687165Z",
     "iopub.status.busy": "2023-04-23T11:59:13.687006Z",
     "iopub.status.idle": "2023-04-23T11:59:14.095973Z",
     "shell.execute_reply": "2023-04-23T11:59:14.095527Z"
    },
    "papermill": {
     "duration": null,
     "end_time": null,
     "exception": null,
     "start_time": null,
     "status": "pending"
    },
    "tags": []
   },
   "outputs": [],
   "source": [
    "# mitochondrial genes\n",
    "dataset.var[\"mt\"] = dataset.var_names.str.startswith(\"mt-\")\n",
    "# ribosomal genes\n",
    "dataset.var[\"ribo\"] = dataset.var_names.str.startswith((\"Rps\", \"Rpl\"))\n",
    "# hemoglobin genes.\n",
    "dataset.var[\"hb\"] = dataset.var_names.str.contains((\"^Hb[^(P)]\"))\n",
    "\n",
    "sc.pp.calculate_qc_metrics(dataset,\n",
    "                           qc_vars=['mt', 'ribo', 'hb'],\n",
    "                           percent_top=None,\n",
    "                           log1p=False,\n",
    "                           inplace=True)\n",
    "dataset"
   ]
  },
  {
   "cell_type": "code",
   "execution_count": null,
   "id": "34deee79-4043-428f-8575-aa57b45f6369",
   "metadata": {
    "execution": {
     "iopub.execute_input": "2023-04-23T11:59:14.103847Z",
     "iopub.status.busy": "2023-04-23T11:59:14.103660Z",
     "iopub.status.idle": "2023-04-23T11:59:14.773433Z",
     "shell.execute_reply": "2023-04-23T11:59:14.773047Z"
    },
    "papermill": {
     "duration": null,
     "end_time": null,
     "exception": null,
     "start_time": null,
     "status": "pending"
    },
    "tags": []
   },
   "outputs": [],
   "source": [
    "fig, ax = plt.subplots(ncols = 4, figsize = (16,4))\n",
    "axis = sc.pl.violin(dataset, \"n_genes_by_counts\", jitter = 0.4, ax = ax[0], show = False)\n",
    "axis.grid(False)\n",
    "axis.set_title(\"Unique Genes per cell\")\n",
    "axis.tick_params(axis = \"x\", bottom =False, labelbottom =False)\n",
    "axis.set_ylabel(\"# genes\")\n",
    "axis.axhline(y = 250, color = \"black\", label = \"cutoff\")\n",
    "axis.legend(fontsize = 14, loc = \"upper right\")\n",
    "\n",
    "axis = sc.pl.violin(dataset, \"pct_counts_mt\", jitter = 0.4, ax = ax[1], show = False)\n",
    "axis.grid(False)\n",
    "axis.set_title(\"Mitochondrial Fraction\")\n",
    "axis.tick_params(axis = \"x\", bottom =False, labelbottom =False)\n",
    "axis.set_ylabel(\"% mitochondrial genes\")\n",
    "axis.axhline(y = 5, color = \"black\", label = \"cutoff\")\n",
    "axis.legend(fontsize = 14, loc = \"upper right\")\n",
    "\n",
    "axis = sc.pl.violin(dataset, \"pct_counts_hb\", jitter = 0.4, ax = ax[2], show = False, size =2)\n",
    "axis.grid(False)\n",
    "axis.set_title(\"Hemoglobin Fraction\")\n",
    "axis.tick_params(axis = \"x\", bottom =False, labelbottom =False)\n",
    "axis.set_ylabel(\"% hemoglobin genes\")\n",
    "axis.axhline(y = 2, color = \"black\", label = \"cutoff\")\n",
    "axis.legend(fontsize = 14, loc = \"upper right\")\n",
    "#axis.set_ylim(0,5)\n",
    "\n",
    "axis = sc.pl.violin(dataset, \"pct_counts_ribo\", jitter = 0.4, ax = ax[3], show = False)\n",
    "axis.grid(False)\n",
    "axis.set_title(\"Ribosomal Fraction\")\n",
    "axis.tick_params(axis = \"x\", bottom =False, labelbottom =False)\n",
    "axis.set_ylabel(\"% ribosome genes\")\n",
    "\n",
    "plt.tight_layout()\n",
    "#plt.savefig(f\"{outputDir}08_gene_based_filtering.pdf\", dpi = 300)\n",
    "plt.show()\n",
    "\n"
   ]
  },
  {
   "cell_type": "code",
   "execution_count": null,
   "id": "d7ade754-843e-4840-8707-426613d8c0c5",
   "metadata": {
    "execution": {
     "iopub.execute_input": "2023-04-23T11:59:14.783914Z",
     "iopub.status.busy": "2023-04-23T11:59:14.783695Z",
     "iopub.status.idle": "2023-04-23T11:59:14.792942Z",
     "shell.execute_reply": "2023-04-23T11:59:14.792613Z"
    },
    "papermill": {
     "duration": null,
     "end_time": null,
     "exception": null,
     "start_time": null,
     "status": "pending"
    },
    "tags": []
   },
   "outputs": [],
   "source": [
    "dataset = dataset[dataset.obs.pct_counts_mt < 5, :]\n",
    "dataset = dataset[dataset.obs.n_genes_by_counts > 250, :]\n",
    "dataset = dataset[dataset.obs.pct_counts_hb < 2, :]\n",
    "dataset"
   ]
  },
  {
   "cell_type": "code",
   "execution_count": null,
   "id": "2e0ff8c3-2aa9-4a01-9b88-5912a6734447",
   "metadata": {
    "execution": {
     "iopub.execute_input": "2023-04-23T11:59:14.802735Z",
     "iopub.status.busy": "2023-04-23T11:59:14.802574Z",
     "iopub.status.idle": "2023-04-23T11:59:14.892161Z",
     "shell.execute_reply": "2023-04-23T11:59:14.891746Z"
    },
    "papermill": {
     "duration": null,
     "end_time": null,
     "exception": null,
     "start_time": null,
     "status": "pending"
    },
    "tags": []
   },
   "outputs": [],
   "source": [
    "for col in metadata.columns:\n",
    "    dataset.obs[col] = metadata.loc[metadata[\"Run\"] == sample_name, col].to_list()[0]"
   ]
  },
  {
   "cell_type": "code",
   "execution_count": null,
   "id": "b84578d3-d63e-419c-a272-a0b8317d05ab",
   "metadata": {
    "execution": {
     "iopub.execute_input": "2023-04-23T11:59:14.903288Z",
     "iopub.status.busy": "2023-04-23T11:59:14.903101Z",
     "iopub.status.idle": "2023-04-23T11:59:15.260287Z",
     "shell.execute_reply": "2023-04-23T11:59:15.259809Z"
    },
    "papermill": {
     "duration": null,
     "end_time": null,
     "exception": null,
     "start_time": null,
     "status": "pending"
    },
    "tags": []
   },
   "outputs": [],
   "source": [
    "dataset.write(f\"../../int_data/{sample_name}_qc.h5ad\")"
   ]
  }
 ],
 "metadata": {
  "kernelspec": {
   "display_name": "py_R",
   "language": "python",
   "name": "python_r"
  },
  "language_info": {
   "codemirror_mode": {
    "name": "ipython",
    "version": 3
   },
   "file_extension": ".py",
   "mimetype": "text/x-python",
   "name": "python",
   "nbconvert_exporter": "python",
   "pygments_lexer": "ipython3",
   "version": "3.10.11"
  },
  "papermill": {
   "default_parameters": {},
   "duration": 65.382962,
   "end_time": "2023-06-06T11:45:26.878382",
   "environment_variables": {},
   "exception": true,
   "input_path": "SRR10127231.ipynb",
   "output_path": "SRR10127231.ipynb",
   "parameters": {},
   "start_time": "2023-06-06T11:44:21.495420",
   "version": "2.4.0"
  }
 },
 "nbformat": 4,
 "nbformat_minor": 5
}
