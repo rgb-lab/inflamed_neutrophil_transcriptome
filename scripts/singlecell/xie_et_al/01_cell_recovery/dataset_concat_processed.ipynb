{
 "cells": [
  {
   "cell_type": "code",
   "execution_count": null,
   "id": "317b13e4-7eae-48ce-89f6-3cd91942951f",
   "metadata": {},
   "outputs": [],
   "source": [
    "import gc\n",
    "import scanpy as sc\n",
    "import muon as mu\n",
    "import seaborn as sns\n",
    "import os\n",
    "import pandas as pd\n",
    "from matplotlib import pyplot as plt\n",
    "\n",
    "os.environ['R_HOME'] = '/gpfs/bwfor/work/ws/hd_fu399-conda/conda/envs/python_R/lib/R/'\n",
    "import anndata2ri\n",
    "import logging\n",
    "\n",
    "import rpy2.rinterface_lib.callbacks as rcb\n",
    "import rpy2.robjects as ro\n",
    "\n",
    "rcb.logger.setLevel(logging.ERROR)\n",
    "ro.pandas2ri.activate()\n",
    "anndata2ri.activate()\n",
    "\n",
    "%load_ext rpy2.ipython"
   ]
  },
  {
   "cell_type": "code",
   "execution_count": null,
   "id": "3618c845-019e-44ce-8ba4-8e7d44e2129c",
   "metadata": {},
   "outputs": [],
   "source": [
    "%%R\n",
    "library(SingleCellExperiment)"
   ]
  },
  {
   "cell_type": "code",
   "execution_count": null,
   "id": "a29d4364-3ca5-4950-8e43-d0045d303958",
   "metadata": {},
   "outputs": [],
   "source": [
    "def process_dataset(sample_name):\n",
    "    dataset = sc.read(f\"../../int_data/{sample_name}_qc.h5ad\")\n",
    "    dataset.obs[[\"AvgSpotLen\", \"Bases\", \"Bytes\", \"version\"]] = dataset.obs[[\"AvgSpotLen\", \"Bases\", \"Bytes\", \"version\"]].astype(\"str\")\n",
    "    sc.pp.filter_genes(dataset, min_cells=5)\n",
    "    sc.pp.normalize_total(dataset, target_sum = 1e4)\n",
    "    sc.pp.log1p(dataset)\n",
    "    sc.pp.scale(dataset, max_value = 10)\n",
    "    return dataset"
   ]
  },
  {
   "cell_type": "code",
   "execution_count": null,
   "id": "163237b5-a3e7-4990-b6ed-a485e9872fd0",
   "metadata": {},
   "outputs": [],
   "source": [
    "sample_list = [f\"SRR10127{x}\" for x in range(223, 233)]"
   ]
  },
  {
   "cell_type": "code",
   "execution_count": null,
   "id": "aaac95d0-a3ab-4778-b117-19bd2a4a9651",
   "metadata": {},
   "outputs": [],
   "source": [
    "dataset = process_dataset(\"SRR10127223\")\n",
    "\n",
    "dataset = dataset.concatenate([process_dataset(sample_name) for sample_name in sample_list])"
   ]
  },
  {
   "cell_type": "code",
   "execution_count": null,
   "id": "e7a5d540-1c03-4c97-8688-918df9aec9bc",
   "metadata": {
    "tags": []
   },
   "outputs": [],
   "source": [
    "dataset"
   ]
  },
  {
   "cell_type": "code",
   "execution_count": null,
   "id": "455a4eb8-943c-41ee-b833-d915abb144c8",
   "metadata": {
    "tags": []
   },
   "outputs": [],
   "source": [
    "sc.pp.scale(dataset)"
   ]
  },
  {
   "cell_type": "code",
   "execution_count": null,
   "id": "2436f1b7-a5d9-4df7-93a2-a2c17e7869e2",
   "metadata": {
    "tags": []
   },
   "outputs": [],
   "source": [
    "sc.pp.neighbors(dataset)\n",
    "sc.tl.umap(dataset)\n",
    "\n",
    "sc.pl.umap(dataset, color = [\"Condition\", \"Cell_type\"])"
   ]
  },
  {
   "cell_type": "code",
   "execution_count": null,
   "id": "2c256037-f857-428a-af40-1460ebfde0c0",
   "metadata": {
    "tags": []
   },
   "outputs": [],
   "source": [
    "sc.pl.umap(dataset, color = [\"Condition\", \"Cell_type\", \"batch\"])"
   ]
  },
  {
   "cell_type": "code",
   "execution_count": null,
   "id": "0966fbd1-84e0-465f-9a80-9247dd37e4ad",
   "metadata": {
    "tags": []
   },
   "outputs": [],
   "source": [
    "dataset = sc.read(\"../../int_data/dataset_qc.h5ad\")"
   ]
  },
  {
   "cell_type": "code",
   "execution_count": null,
   "id": "82281db0-960b-4341-b9d5-47833ce55c7b",
   "metadata": {
    "tags": []
   },
   "outputs": [],
   "source": [
    "sc.pp.normalize_total(dataset, target_sum = 1e4)\n",
    "sc.pp.log1p(dataset)\n",
    "sc.pp.scale(dataset, max_value = 10)\n",
    "\n",
    "sc.pp.pca(dataset)\n",
    "sc.pp.neighbors(dataset)\n",
    "sc.tl.umap(dataset)"
   ]
  },
  {
   "cell_type": "code",
   "execution_count": null,
   "id": "4503cac0-9d78-4abf-b984-9ffd594edc15",
   "metadata": {
    "tags": []
   },
   "outputs": [],
   "source": [
    "sc.pl.umap(dataset, color = [\"Condition\", \"Cell_type\", \"batch\"])"
   ]
  }
 ],
 "metadata": {
  "kernelspec": {
   "display_name": "py_R",
   "language": "python",
   "name": "python_r"
  },
  "language_info": {
   "codemirror_mode": {
    "name": "ipython",
    "version": 3
   },
   "file_extension": ".py",
   "mimetype": "text/x-python",
   "name": "python",
   "nbconvert_exporter": "python",
   "pygments_lexer": "ipython3",
   "version": "3.10.9"
  }
 },
 "nbformat": 4,
 "nbformat_minor": 5
}
