{
 "cells": [
  {
   "cell_type": "code",
   "execution_count": null,
   "id": "f87ed95b-2b67-4a5a-8fe2-47359b1dd2a9",
   "metadata": {
    "execution": {
     "iopub.execute_input": "2023-06-06T11:40:27.824706Z",
     "iopub.status.busy": "2023-06-06T11:40:27.824539Z",
     "iopub.status.idle": "2023-06-06T11:40:27.829460Z",
     "shell.execute_reply": "2023-06-06T11:40:27.828965Z"
    },
    "papermill": {
     "duration": 0.022183,
     "end_time": "2023-06-06T11:40:27.830375",
     "exception": false,
     "start_time": "2023-06-06T11:40:27.808192",
     "status": "completed"
    },
    "tags": []
   },
   "outputs": [],
   "source": [
    "import warnings\n",
    "warnings.simplefilter(action='ignore', category=FutureWarning)\n",
    "warnings.simplefilter(action='ignore', category=UserWarning)"
   ]
  },
  {
   "cell_type": "code",
   "execution_count": null,
   "id": "85161f19-b2c5-490b-8cab-c2cf9653b304",
   "metadata": {
    "execution": {
     "iopub.execute_input": "2023-06-06T11:40:27.874567Z",
     "iopub.status.busy": "2023-06-06T11:40:27.874412Z",
     "iopub.status.idle": "2023-06-06T11:40:57.936401Z",
     "shell.execute_reply": "2023-06-06T11:40:57.935952Z"
    },
    "papermill": {
     "duration": 30.066622,
     "end_time": "2023-06-06T11:40:57.937922",
     "exception": false,
     "start_time": "2023-06-06T11:40:27.871300",
     "status": "completed"
    },
    "tags": []
   },
   "outputs": [],
   "source": [
    "import gc\n",
    "import scanpy as sc\n",
    "import muon as mu\n",
    "import seaborn as sns\n",
    "import os\n",
    "import pandas as pd\n",
    "from matplotlib import pyplot as plt\n",
    "\n",
    "os.environ['R_HOME'] = '/gpfs/bwfor/work/ws/hd_fu399-conda/conda/envs/python_R/lib/R/'\n",
    "import anndata2ri\n",
    "import logging\n",
    "\n",
    "import rpy2.rinterface_lib.callbacks as rcb\n",
    "import rpy2.robjects as ro\n",
    "\n",
    "rcb.logger.setLevel(logging.ERROR)\n",
    "ro.pandas2ri.activate()\n",
    "anndata2ri.activate()\n",
    "\n",
    "%load_ext rpy2.ipython"
   ]
  },
  {
   "cell_type": "code",
   "execution_count": null,
   "id": "fc4ade78-b728-4704-9db6-45fbaab62ba1",
   "metadata": {
    "execution": {
     "iopub.execute_input": "2023-06-06T11:40:57.962427Z",
     "iopub.status.busy": "2023-06-06T11:40:57.962110Z",
     "iopub.status.idle": "2023-06-06T11:41:14.811680Z",
     "shell.execute_reply": "2023-06-06T11:41:14.811125Z"
    },
    "papermill": {
     "duration": 16.854857,
     "end_time": "2023-06-06T11:41:14.813500",
     "exception": false,
     "start_time": "2023-06-06T11:40:57.958643",
     "status": "completed"
    },
    "tags": []
   },
   "outputs": [],
   "source": [
    "%%R\n",
    "library(SoupX)\n",
    "library(Seurat)\n",
    "library(scater)\n",
    "library(scDblFinder)\n",
    "library(BiocParallel)\n",
    "library(MuDataSeurat)\n",
    "library(DropletUtils)"
   ]
  },
  {
   "cell_type": "code",
   "execution_count": null,
   "id": "611e4882-fc48-43d1-b1cd-e65e1bde0015",
   "metadata": {
    "execution": {
     "iopub.execute_input": "2023-06-06T11:41:14.837334Z",
     "iopub.status.busy": "2023-06-06T11:41:14.837151Z",
     "iopub.status.idle": "2023-06-06T11:41:14.839940Z",
     "shell.execute_reply": "2023-06-06T11:41:14.839520Z"
    },
    "papermill": {
     "duration": 0.008401,
     "end_time": "2023-06-06T11:41:14.841994",
     "exception": false,
     "start_time": "2023-06-06T11:41:14.833593",
     "status": "completed"
    },
    "tags": []
   },
   "outputs": [],
   "source": [
    "sample_name = \"SRR10127230\""
   ]
  },
  {
   "cell_type": "code",
   "execution_count": null,
   "id": "f7424d90-7690-4290-8651-1db3f9df3a35",
   "metadata": {
    "execution": {
     "iopub.execute_input": "2023-06-06T11:41:14.848664Z",
     "iopub.status.busy": "2023-06-06T11:41:14.848498Z",
     "iopub.status.idle": "2023-06-06T11:41:14.871438Z",
     "shell.execute_reply": "2023-06-06T11:41:14.871127Z"
    },
    "papermill": {
     "duration": 0.027096,
     "end_time": "2023-06-06T11:41:14.872439",
     "exception": false,
     "start_time": "2023-06-06T11:41:14.845343",
     "status": "completed"
    },
    "tags": []
   },
   "outputs": [],
   "source": [
    "metadata = pd.read_csv(\"../../SraRunTable.txt\")"
   ]
  },
  {
   "cell_type": "code",
   "execution_count": null,
   "id": "2574ecf1-bad4-4c33-8f3f-718a358727ab",
   "metadata": {
    "execution": {
     "iopub.execute_input": "2023-06-06T11:41:14.878656Z",
     "iopub.status.busy": "2023-06-06T11:41:14.878526Z",
     "iopub.status.idle": "2023-06-06T11:41:14.880642Z",
     "shell.execute_reply": "2023-06-06T11:41:14.880328Z"
    },
    "papermill": {
     "duration": 0.006292,
     "end_time": "2023-06-06T11:41:14.881400",
     "exception": false,
     "start_time": "2023-06-06T11:41:14.875108",
     "status": "completed"
    },
    "tags": []
   },
   "outputs": [],
   "source": [
    "raw_input = f\"/home/hd/hd_hd/hd_fu399/sds-hd/sd21k006/scRNAseq/revision_natcomm/xie_et_al/{sample_name}/{sample_name}/outs/raw_feature_bc_matrix.h5\""
   ]
  },
  {
   "cell_type": "code",
   "execution_count": null,
   "id": "e266d388-1802-435c-93a5-90067358739c",
   "metadata": {
    "execution": {
     "iopub.execute_input": "2023-06-06T11:41:14.887604Z",
     "iopub.status.busy": "2023-06-06T11:41:14.887448Z",
     "iopub.status.idle": "2023-06-06T11:41:16.139496Z",
     "shell.execute_reply": "2023-06-06T11:41:16.139071Z"
    },
    "papermill": {
     "duration": 1.25606,
     "end_time": "2023-06-06T11:41:16.140459",
     "exception": false,
     "start_time": "2023-06-06T11:41:14.884399",
     "status": "completed"
    },
    "tags": []
   },
   "outputs": [],
   "source": [
    "dataset = sc.read_10x_h5(raw_input)\n",
    "dataset.var_names_make_unique()\n",
    "dataset.obs_names_make_unique()\n",
    "\n",
    "dataset.layers[\"raw_counts\"] = dataset.X.copy()\n",
    "data_tod = dataset.layers[\"raw_counts\"].T.copy()\n",
    "\n",
    "dataset"
   ]
  },
  {
   "cell_type": "code",
   "execution_count": null,
   "id": "af9f5892-ed31-42a6-991b-4e096f582cef",
   "metadata": {
    "execution": {
     "iopub.execute_input": "2023-06-06T11:41:16.147591Z",
     "iopub.status.busy": "2023-06-06T11:41:16.147398Z",
     "iopub.status.idle": "2023-06-06T11:41:16.241809Z",
     "shell.execute_reply": "2023-06-06T11:41:16.241352Z"
    },
    "papermill": {
     "duration": 0.099233,
     "end_time": "2023-06-06T11:41:16.243173",
     "exception": false,
     "start_time": "2023-06-06T11:41:16.143940",
     "status": "completed"
    },
    "tags": []
   },
   "outputs": [],
   "source": [
    "sce = dataset.copy()"
   ]
  },
  {
   "cell_type": "code",
   "execution_count": null,
   "id": "d03f2caf-8e74-430e-b045-0ab80401d165",
   "metadata": {
    "execution": {
     "iopub.execute_input": "2023-06-06T11:41:16.249702Z",
     "iopub.status.busy": "2023-06-06T11:41:16.249533Z",
     "iopub.status.idle": "2023-06-06T11:42:48.941284Z",
     "shell.execute_reply": "2023-06-06T11:42:48.940675Z"
    },
    "papermill": {
     "duration": 92.696433,
     "end_time": "2023-06-06T11:42:48.942697",
     "exception": false,
     "start_time": "2023-06-06T11:41:16.246264",
     "status": "completed"
    },
    "tags": []
   },
   "outputs": [],
   "source": [
    "%%R -i sce -o empty_drop_output\n",
    "set.seed(187)\n",
    "empty_drop_output <- emptyDrops(assay(sce))"
   ]
  },
  {
   "cell_type": "code",
   "execution_count": null,
   "id": "2a34a54b-3ae2-44d6-8679-8769228c5b66",
   "metadata": {
    "execution": {
     "iopub.execute_input": "2023-06-06T11:42:48.981162Z",
     "iopub.status.busy": "2023-06-06T11:42:48.980980Z",
     "iopub.status.idle": "2023-06-06T11:42:49.019804Z",
     "shell.execute_reply": "2023-06-06T11:42:49.019466Z"
    },
    "papermill": {
     "duration": 0.043142,
     "end_time": "2023-06-06T11:42:49.020703",
     "exception": false,
     "start_time": "2023-06-06T11:42:48.977561",
     "status": "completed"
    },
    "tags": []
   },
   "outputs": [],
   "source": [
    "non_empty_barcodes = empty_drop_output[empty_drop_output[\"FDR\"] < 0.001].index\n",
    "dataset = dataset[dataset.obs.index.isin(non_empty_barcodes), :]\n",
    "dataset"
   ]
  },
  {
   "cell_type": "code",
   "execution_count": null,
   "id": "016a91e5-1bef-46fb-b91e-4fb9a6870c44",
   "metadata": {
    "execution": {
     "iopub.execute_input": "2023-06-06T11:42:49.027327Z",
     "iopub.status.busy": "2023-06-06T11:42:49.027163Z",
     "iopub.status.idle": "2023-06-06T11:43:00.809127Z",
     "shell.execute_reply": "2023-06-06T11:43:00.808599Z"
    },
    "papermill": {
     "duration": 11.786627,
     "end_time": "2023-06-06T11:43:00.810527",
     "exception": false,
     "start_time": "2023-06-06T11:42:49.023900",
     "status": "completed"
    },
    "tags": []
   },
   "outputs": [],
   "source": [
    "rna_assay = dataset.copy()\n",
    "sc.pp.normalize_per_cell(rna_assay)\n",
    "sc.pp.log1p(rna_assay)\n",
    "sc.pp.pca(rna_assay)\n",
    "sc.pp.neighbors(rna_assay)\n",
    "sc.tl.leiden(rna_assay, key_added=\"soupx_groups\")\n",
    "\n",
    "soupx_groups = rna_assay.obs[\"soupx_groups\"]\n",
    "\n",
    "del rna_assay\n",
    "\n",
    "genes = dataset.var_names\n",
    "cells = dataset.obs_names\n",
    "data = dataset.X.T.copy()"
   ]
  },
  {
   "cell_type": "code",
   "execution_count": null,
   "id": "9db4ea1f-1580-4f43-a3f0-86002397cd98",
   "metadata": {
    "execution": {
     "iopub.execute_input": "2023-06-06T11:43:00.851849Z",
     "iopub.status.busy": "2023-06-06T11:43:00.851667Z",
     "iopub.status.idle": "2023-06-06T11:43:35.298206Z",
     "shell.execute_reply": "2023-06-06T11:43:35.297643Z"
    },
    "papermill": {
     "duration": 34.451668,
     "end_time": "2023-06-06T11:43:35.299541",
     "exception": false,
     "start_time": "2023-06-06T11:43:00.847873",
     "status": "completed"
    },
    "tags": []
   },
   "outputs": [],
   "source": [
    "%%R -i data -i data_tod -i genes -i cells -i soupx_groups -o out \n",
    "set.seed(187)\n",
    "# specify row and column names of data\n",
    "rownames(data) = genes\n",
    "colnames(data) = cells\n",
    "# ensure correct sparse format for table of counts and table of droplets\n",
    "data <- as(data, \"sparseMatrix\")\n",
    "data_tod <- as(data_tod, \"sparseMatrix\")\n",
    "\n",
    "# Generate SoupChannel Object for SoupX \n",
    "sc = SoupChannel(data_tod, data, calcSoupProfile = FALSE)\n",
    "\n",
    "# Add extra meta data to the SoupChannel object\n",
    "soupProf = data.frame(row.names = rownames(data),\n",
    "                      est = rowSums(data)/sum(data),\n",
    "                      counts = rowSums(data))\n",
    "sc = setSoupProfile(sc, soupProf)\n",
    "# Set cluster information in SoupChannel\n",
    "sc = setClusters(sc, soupx_groups)\n",
    "\n",
    "# Estimate contamination fraction\n",
    "sc  = autoEstCont(sc, doPlot=FALSE, forceAccept = TRUE)\n",
    "# Infer corrected table of counts and rount to integer\n",
    "out = adjustCounts(sc, roundToInt = TRUE)"
   ]
  },
  {
   "cell_type": "code",
   "execution_count": null,
   "id": "32555d5e-5fa3-46dd-a4e0-ddc96ea265e2",
   "metadata": {
    "execution": {
     "iopub.execute_input": "2023-06-06T11:43:35.335958Z",
     "iopub.status.busy": "2023-06-06T11:43:35.335746Z",
     "iopub.status.idle": "2023-06-06T11:43:35.423389Z",
     "shell.execute_reply": "2023-06-06T11:43:35.422895Z"
    },
    "papermill": {
     "duration": 0.092412,
     "end_time": "2023-06-06T11:43:35.424692",
     "exception": false,
     "start_time": "2023-06-06T11:43:35.332280",
     "status": "completed"
    },
    "tags": []
   },
   "outputs": [],
   "source": [
    "dataset.layers[\"soupX_counts\"] = out.T\n",
    "dataset.X = dataset.layers[\"soupX_counts\"].copy()"
   ]
  },
  {
   "cell_type": "code",
   "execution_count": null,
   "id": "e27da7df-e094-4d2a-9109-5a363e012175",
   "metadata": {
    "execution": {
     "iopub.execute_input": "2023-06-06T11:43:35.431463Z",
     "iopub.status.busy": "2023-06-06T11:43:35.431292Z",
     "iopub.status.idle": "2023-06-06T11:43:35.433772Z",
     "shell.execute_reply": "2023-06-06T11:43:35.433434Z"
    },
    "papermill": {
     "duration": 0.006731,
     "end_time": "2023-06-06T11:43:35.434584",
     "exception": false,
     "start_time": "2023-06-06T11:43:35.427853",
     "status": "completed"
    },
    "tags": []
   },
   "outputs": [],
   "source": [
    "data_mat = dataset.X.T"
   ]
  },
  {
   "cell_type": "code",
   "execution_count": null,
   "id": "80a993b1-5ccb-4697-9187-1beb7ab8aff9",
   "metadata": {
    "execution": {
     "iopub.execute_input": "2023-06-06T11:43:35.441165Z",
     "iopub.status.busy": "2023-06-06T11:43:35.440968Z",
     "iopub.status.idle": "2023-06-06T11:44:15.871520Z",
     "shell.execute_reply": "2023-06-06T11:44:15.871065Z"
    },
    "papermill": {
     "duration": 40.435042,
     "end_time": "2023-06-06T11:44:15.872720",
     "exception": false,
     "start_time": "2023-06-06T11:43:35.437678",
     "status": "completed"
    },
    "tags": []
   },
   "outputs": [],
   "source": [
    "%%R -i data_mat -o droplet_class\n",
    "\n",
    "set.seed(187)\n",
    "sce = scDblFinder(\n",
    "    SingleCellExperiment(\n",
    "        list(counts=data_mat),\n",
    "    ) \n",
    ")\n",
    "droplet_class = sce$scDblFinder.class"
   ]
  },
  {
   "cell_type": "code",
   "execution_count": null,
   "id": "d4dd6e9d-fcf2-41fc-8457-c8e0a3cb2c71",
   "metadata": {
    "execution": {
     "iopub.execute_input": "2023-06-06T11:44:15.911622Z",
     "iopub.status.busy": "2023-06-06T11:44:15.911444Z",
     "iopub.status.idle": "2023-06-06T11:44:15.915656Z",
     "shell.execute_reply": "2023-06-06T11:44:15.915359Z"
    },
    "papermill": {
     "duration": 0.008353,
     "end_time": "2023-06-06T11:44:15.916451",
     "exception": false,
     "start_time": "2023-06-06T11:44:15.908098",
     "status": "completed"
    },
    "tags": []
   },
   "outputs": [],
   "source": [
    "dataset.obs[\"scDblFinder_class\"] = droplet_class\n",
    "dataset.obs.scDblFinder_class.value_counts()\n",
    "dataset"
   ]
  },
  {
   "cell_type": "code",
   "execution_count": null,
   "id": "28c95014-2d6c-477f-95cb-9f9f0507520c",
   "metadata": {
    "execution": {
     "iopub.execute_input": "2023-06-06T11:44:15.922807Z",
     "iopub.status.busy": "2023-06-06T11:44:15.922653Z",
     "iopub.status.idle": "2023-06-06T11:44:15.927670Z",
     "shell.execute_reply": "2023-06-06T11:44:15.927336Z"
    },
    "papermill": {
     "duration": 0.009185,
     "end_time": "2023-06-06T11:44:15.928608",
     "exception": false,
     "start_time": "2023-06-06T11:44:15.919423",
     "status": "completed"
    },
    "tags": []
   },
   "outputs": [],
   "source": [
    "dataset = dataset[dataset.obs[\"scDblFinder_class\"] == 1]"
   ]
  },
  {
   "cell_type": "code",
   "execution_count": null,
   "id": "3e22f9e0-bfcb-416c-a151-a9bca3bec3b9",
   "metadata": {
    "execution": {
     "iopub.execute_input": "2023-06-06T11:44:15.934581Z",
     "iopub.status.busy": "2023-06-06T11:44:15.934422Z",
     "iopub.status.idle": "2023-06-06T11:44:16.337732Z",
     "shell.execute_reply": "2023-06-06T11:44:16.337299Z"
    },
    "papermill": {
     "duration": 0.407328,
     "end_time": "2023-06-06T11:44:16.338661",
     "exception": false,
     "start_time": "2023-06-06T11:44:15.931333",
     "status": "completed"
    },
    "tags": []
   },
   "outputs": [],
   "source": [
    "# mitochondrial genes\n",
    "dataset.var[\"mt\"] = dataset.var_names.str.startswith(\"mt-\")\n",
    "# ribosomal genes\n",
    "dataset.var[\"ribo\"] = dataset.var_names.str.startswith((\"Rps\", \"Rpl\"))\n",
    "# hemoglobin genes.\n",
    "dataset.var[\"hb\"] = dataset.var_names.str.contains((\"^Hb[^(P)]\"))\n",
    "\n",
    "sc.pp.calculate_qc_metrics(dataset,\n",
    "                           qc_vars=['mt', 'ribo', 'hb'],\n",
    "                           percent_top=None,\n",
    "                           log1p=False,\n",
    "                           inplace=True)\n",
    "dataset"
   ]
  },
  {
   "cell_type": "code",
   "execution_count": null,
   "id": "34deee79-4043-428f-8575-aa57b45f6369",
   "metadata": {
    "execution": {
     "iopub.execute_input": "2023-06-06T11:44:16.378851Z",
     "iopub.status.busy": "2023-06-06T11:44:16.378658Z",
     "iopub.status.idle": "2023-06-06T11:44:17.056471Z",
     "shell.execute_reply": "2023-06-06T11:44:17.056109Z"
    },
    "papermill": {
     "duration": 0.683611,
     "end_time": "2023-06-06T11:44:17.058604",
     "exception": false,
     "start_time": "2023-06-06T11:44:16.374993",
     "status": "completed"
    },
    "tags": []
   },
   "outputs": [],
   "source": [
    "fig, ax = plt.subplots(ncols = 4, figsize = (16,4))\n",
    "axis = sc.pl.violin(dataset, \"n_genes_by_counts\", jitter = 0.4, ax = ax[0], show = False)\n",
    "axis.grid(False)\n",
    "axis.set_title(\"Unique Genes per cell\")\n",
    "axis.tick_params(axis = \"x\", bottom =False, labelbottom =False)\n",
    "axis.set_ylabel(\"# genes\")\n",
    "axis.axhline(y = 250, color = \"black\", label = \"cutoff\")\n",
    "axis.legend(fontsize = 14, loc = \"upper right\")\n",
    "\n",
    "axis = sc.pl.violin(dataset, \"pct_counts_mt\", jitter = 0.4, ax = ax[1], show = False)\n",
    "axis.grid(False)\n",
    "axis.set_title(\"Mitochondrial Fraction\")\n",
    "axis.tick_params(axis = \"x\", bottom =False, labelbottom =False)\n",
    "axis.set_ylabel(\"% mitochondrial genes\")\n",
    "axis.axhline(y = 5, color = \"black\", label = \"cutoff\")\n",
    "axis.legend(fontsize = 14, loc = \"upper right\")\n",
    "\n",
    "axis = sc.pl.violin(dataset, \"pct_counts_hb\", jitter = 0.4, ax = ax[2], show = False, size =2)\n",
    "axis.grid(False)\n",
    "axis.set_title(\"Hemoglobin Fraction\")\n",
    "axis.tick_params(axis = \"x\", bottom =False, labelbottom =False)\n",
    "axis.set_ylabel(\"% hemoglobin genes\")\n",
    "axis.axhline(y = 2, color = \"black\", label = \"cutoff\")\n",
    "axis.legend(fontsize = 14, loc = \"upper right\")\n",
    "#axis.set_ylim(0,5)\n",
    "\n",
    "axis = sc.pl.violin(dataset, \"pct_counts_ribo\", jitter = 0.4, ax = ax[3], show = False)\n",
    "axis.grid(False)\n",
    "axis.set_title(\"Ribosomal Fraction\")\n",
    "axis.tick_params(axis = \"x\", bottom =False, labelbottom =False)\n",
    "axis.set_ylabel(\"% ribosome genes\")\n",
    "\n",
    "plt.tight_layout()\n",
    "#plt.savefig(f\"{outputDir}08_gene_based_filtering.pdf\", dpi = 300)\n",
    "plt.show()\n",
    "\n"
   ]
  },
  {
   "cell_type": "code",
   "execution_count": null,
   "id": "d7ade754-843e-4840-8707-426613d8c0c5",
   "metadata": {
    "execution": {
     "iopub.execute_input": "2023-06-06T11:44:17.095318Z",
     "iopub.status.busy": "2023-06-06T11:44:17.095143Z",
     "iopub.status.idle": "2023-06-06T11:44:17.105040Z",
     "shell.execute_reply": "2023-06-06T11:44:17.104686Z"
    },
    "papermill": {
     "duration": 0.01665,
     "end_time": "2023-06-06T11:44:17.105844",
     "exception": false,
     "start_time": "2023-06-06T11:44:17.089194",
     "status": "completed"
    },
    "tags": []
   },
   "outputs": [],
   "source": [
    "dataset = dataset[dataset.obs.pct_counts_mt < 5, :]\n",
    "dataset = dataset[dataset.obs.n_genes_by_counts > 250, :]\n",
    "dataset = dataset[dataset.obs.pct_counts_hb < 2, :]\n",
    "dataset"
   ]
  },
  {
   "cell_type": "code",
   "execution_count": null,
   "id": "2e0ff8c3-2aa9-4a01-9b88-5912a6734447",
   "metadata": {
    "execution": {
     "iopub.execute_input": "2023-06-06T11:44:17.117344Z",
     "iopub.status.busy": "2023-06-06T11:44:17.117061Z",
     "iopub.status.idle": "2023-06-06T11:44:17.232038Z",
     "shell.execute_reply": "2023-06-06T11:44:17.231606Z"
    },
    "papermill": {
     "duration": 0.122093,
     "end_time": "2023-06-06T11:44:17.233310",
     "exception": false,
     "start_time": "2023-06-06T11:44:17.111217",
     "status": "completed"
    },
    "tags": []
   },
   "outputs": [],
   "source": [
    "for col in metadata.columns:\n",
    "    dataset.obs[col] = metadata.loc[metadata[\"Run\"] == sample_name, col].to_list()[0]"
   ]
  },
  {
   "cell_type": "code",
   "execution_count": null,
   "id": "b84578d3-d63e-419c-a272-a0b8317d05ab",
   "metadata": {
    "execution": {
     "iopub.execute_input": "2023-06-06T11:44:17.271405Z",
     "iopub.status.busy": "2023-06-06T11:44:17.271234Z",
     "iopub.status.idle": "2023-06-06T11:44:17.959125Z",
     "shell.execute_reply": "2023-06-06T11:44:17.958697Z"
    },
    "papermill": {
     "duration": 0.707828,
     "end_time": "2023-06-06T11:44:17.960408",
     "exception": false,
     "start_time": "2023-06-06T11:44:17.252580",
     "status": "completed"
    },
    "tags": []
   },
   "outputs": [],
   "source": [
    "dataset.write(f\"../../int_data/{sample_name}_qc.h5ad\")"
   ]
  }
 ],
 "metadata": {
  "kernelspec": {
   "display_name": "py_R",
   "language": "python",
   "name": "python_r"
  },
  "language_info": {
   "codemirror_mode": {
    "name": "ipython",
    "version": 3
   },
   "file_extension": ".py",
   "mimetype": "text/x-python",
   "name": "python",
   "nbconvert_exporter": "python",
   "pygments_lexer": "ipython3",
   "version": "3.10.11"
  },
  "papermill": {
   "default_parameters": {},
   "duration": 243.285408,
   "end_time": "2023-06-06T11:44:21.439214",
   "environment_variables": {},
   "exception": null,
   "input_path": "SRR10127230.ipynb",
   "output_path": "SRR10127230.ipynb",
   "parameters": {},
   "start_time": "2023-06-06T11:40:18.153806",
   "version": "2.4.0"
  }
 },
 "nbformat": 4,
 "nbformat_minor": 5
}
