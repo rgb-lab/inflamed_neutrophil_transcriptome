{
 "cells": [
  {
   "cell_type": "code",
   "execution_count": null,
   "id": "f87ed95b-2b67-4a5a-8fe2-47359b1dd2a9",
   "metadata": {
    "execution": {
     "iopub.execute_input": "2023-06-06T11:25:40.466046Z",
     "iopub.status.busy": "2023-06-06T11:25:40.465866Z",
     "iopub.status.idle": "2023-06-06T11:25:40.470963Z",
     "shell.execute_reply": "2023-06-06T11:25:40.470647Z"
    },
    "papermill": {
     "duration": 0.034714,
     "end_time": "2023-06-06T11:25:40.471883",
     "exception": false,
     "start_time": "2023-06-06T11:25:40.437169",
     "status": "completed"
    },
    "tags": []
   },
   "outputs": [],
   "source": [
    "import warnings\n",
    "warnings.simplefilter(action='ignore', category=FutureWarning)\n",
    "warnings.simplefilter(action='ignore', category=UserWarning)"
   ]
  },
  {
   "cell_type": "code",
   "execution_count": null,
   "id": "85161f19-b2c5-490b-8cab-c2cf9653b304",
   "metadata": {
    "execution": {
     "iopub.execute_input": "2023-06-06T11:25:40.513479Z",
     "iopub.status.busy": "2023-06-06T11:25:40.513326Z",
     "iopub.status.idle": "2023-06-06T11:26:12.621319Z",
     "shell.execute_reply": "2023-06-06T11:26:12.620820Z"
    },
    "papermill": {
     "duration": 32.112617,
     "end_time": "2023-06-06T11:26:12.622683",
     "exception": false,
     "start_time": "2023-06-06T11:25:40.510066",
     "status": "completed"
    },
    "tags": []
   },
   "outputs": [],
   "source": [
    "import gc\n",
    "import scanpy as sc\n",
    "import muon as mu\n",
    "import seaborn as sns\n",
    "import os\n",
    "import pandas as pd\n",
    "from matplotlib import pyplot as plt\n",
    "\n",
    "os.environ['R_HOME'] = '/gpfs/bwfor/work/ws/hd_fu399-conda/conda/envs/python_R/lib/R/'\n",
    "import anndata2ri\n",
    "import logging\n",
    "\n",
    "import rpy2.rinterface_lib.callbacks as rcb\n",
    "import rpy2.robjects as ro\n",
    "\n",
    "rcb.logger.setLevel(logging.ERROR)\n",
    "ro.pandas2ri.activate()\n",
    "anndata2ri.activate()\n",
    "\n",
    "%load_ext rpy2.ipython"
   ]
  },
  {
   "cell_type": "code",
   "execution_count": null,
   "id": "fc4ade78-b728-4704-9db6-45fbaab62ba1",
   "metadata": {
    "execution": {
     "iopub.execute_input": "2023-06-06T11:26:12.642408Z",
     "iopub.status.busy": "2023-06-06T11:26:12.642112Z",
     "iopub.status.idle": "2023-06-06T11:26:30.301069Z",
     "shell.execute_reply": "2023-06-06T11:26:30.300498Z"
    },
    "papermill": {
     "duration": 17.663523,
     "end_time": "2023-06-06T11:26:30.302379",
     "exception": false,
     "start_time": "2023-06-06T11:26:12.638856",
     "status": "completed"
    },
    "tags": []
   },
   "outputs": [],
   "source": [
    "%%R\n",
    "library(SoupX)\n",
    "library(Seurat)\n",
    "library(scater)\n",
    "library(scDblFinder)\n",
    "library(BiocParallel)\n",
    "library(MuDataSeurat)\n",
    "library(DropletUtils)"
   ]
  },
  {
   "cell_type": "code",
   "execution_count": null,
   "id": "611e4882-fc48-43d1-b1cd-e65e1bde0015",
   "metadata": {
    "execution": {
     "iopub.execute_input": "2023-06-06T11:26:30.340622Z",
     "iopub.status.busy": "2023-06-06T11:26:30.340429Z",
     "iopub.status.idle": "2023-06-06T11:26:30.343094Z",
     "shell.execute_reply": "2023-06-06T11:26:30.342752Z"
    },
    "papermill": {
     "duration": 0.007088,
     "end_time": "2023-06-06T11:26:30.343908",
     "exception": false,
     "start_time": "2023-06-06T11:26:30.336820",
     "status": "completed"
    },
    "tags": []
   },
   "outputs": [],
   "source": [
    "sample_name = \"SRR10127227\""
   ]
  },
  {
   "cell_type": "code",
   "execution_count": null,
   "id": "f7424d90-7690-4290-8651-1db3f9df3a35",
   "metadata": {
    "execution": {
     "iopub.execute_input": "2023-06-06T11:26:30.349623Z",
     "iopub.status.busy": "2023-06-06T11:26:30.349493Z",
     "iopub.status.idle": "2023-06-06T11:26:30.363223Z",
     "shell.execute_reply": "2023-06-06T11:26:30.362863Z"
    },
    "papermill": {
     "duration": 0.017544,
     "end_time": "2023-06-06T11:26:30.364083",
     "exception": false,
     "start_time": "2023-06-06T11:26:30.346539",
     "status": "completed"
    },
    "tags": []
   },
   "outputs": [],
   "source": [
    "metadata = pd.read_csv(\"../../SraRunTable.txt\")"
   ]
  },
  {
   "cell_type": "code",
   "execution_count": null,
   "id": "2574ecf1-bad4-4c33-8f3f-718a358727ab",
   "metadata": {
    "execution": {
     "iopub.execute_input": "2023-06-06T11:26:30.369780Z",
     "iopub.status.busy": "2023-06-06T11:26:30.369648Z",
     "iopub.status.idle": "2023-06-06T11:26:30.371685Z",
     "shell.execute_reply": "2023-06-06T11:26:30.371371Z"
    },
    "papermill": {
     "duration": 0.005841,
     "end_time": "2023-06-06T11:26:30.372498",
     "exception": false,
     "start_time": "2023-06-06T11:26:30.366657",
     "status": "completed"
    },
    "tags": []
   },
   "outputs": [],
   "source": [
    "raw_input = f\"/home/hd/hd_hd/hd_fu399/sds-hd/sd21k006/scRNAseq/revision_natcomm/xie_et_al/{sample_name}/{sample_name}/outs/raw_feature_bc_matrix.h5\""
   ]
  },
  {
   "cell_type": "code",
   "execution_count": null,
   "id": "e266d388-1802-435c-93a5-90067358739c",
   "metadata": {
    "execution": {
     "iopub.execute_input": "2023-06-06T11:26:30.378329Z",
     "iopub.status.busy": "2023-06-06T11:26:30.378085Z",
     "iopub.status.idle": "2023-06-06T11:26:31.829928Z",
     "shell.execute_reply": "2023-06-06T11:26:31.829506Z"
    },
    "papermill": {
     "duration": 1.455856,
     "end_time": "2023-06-06T11:26:31.830897",
     "exception": false,
     "start_time": "2023-06-06T11:26:30.375041",
     "status": "completed"
    },
    "tags": []
   },
   "outputs": [],
   "source": [
    "dataset = sc.read_10x_h5(raw_input)\n",
    "dataset.var_names_make_unique()\n",
    "dataset.obs_names_make_unique()\n",
    "\n",
    "dataset.layers[\"raw_counts\"] = dataset.X.copy()\n",
    "data_tod = dataset.layers[\"raw_counts\"].T.copy()\n",
    "\n",
    "dataset"
   ]
  },
  {
   "cell_type": "code",
   "execution_count": null,
   "id": "af9f5892-ed31-42a6-991b-4e096f582cef",
   "metadata": {
    "execution": {
     "iopub.execute_input": "2023-06-06T11:26:31.867737Z",
     "iopub.status.busy": "2023-06-06T11:26:31.867551Z",
     "iopub.status.idle": "2023-06-06T11:26:31.984177Z",
     "shell.execute_reply": "2023-06-06T11:26:31.983712Z"
    },
    "papermill": {
     "duration": 0.121441,
     "end_time": "2023-06-06T11:26:31.985481",
     "exception": false,
     "start_time": "2023-06-06T11:26:31.864040",
     "status": "completed"
    },
    "tags": []
   },
   "outputs": [],
   "source": [
    "sce = dataset.copy()"
   ]
  },
  {
   "cell_type": "code",
   "execution_count": null,
   "id": "d03f2caf-8e74-430e-b045-0ab80401d165",
   "metadata": {
    "execution": {
     "iopub.execute_input": "2023-06-06T11:26:32.023468Z",
     "iopub.status.busy": "2023-06-06T11:26:32.023296Z",
     "iopub.status.idle": "2023-06-06T11:28:18.869061Z",
     "shell.execute_reply": "2023-06-06T11:28:18.868446Z"
    },
    "papermill": {
     "duration": 106.850808,
     "end_time": "2023-06-06T11:28:18.870386",
     "exception": false,
     "start_time": "2023-06-06T11:26:32.019578",
     "status": "completed"
    },
    "tags": []
   },
   "outputs": [],
   "source": [
    "%%R -i sce -o empty_drop_output\n",
    "set.seed(187)\n",
    "empty_drop_output <- emptyDrops(assay(sce))"
   ]
  },
  {
   "cell_type": "code",
   "execution_count": null,
   "id": "2a34a54b-3ae2-44d6-8679-8769228c5b66",
   "metadata": {
    "execution": {
     "iopub.execute_input": "2023-06-06T11:28:18.910717Z",
     "iopub.status.busy": "2023-06-06T11:28:18.910530Z",
     "iopub.status.idle": "2023-06-06T11:28:18.973112Z",
     "shell.execute_reply": "2023-06-06T11:28:18.972688Z"
    },
    "papermill": {
     "duration": 0.06718,
     "end_time": "2023-06-06T11:28:18.974035",
     "exception": false,
     "start_time": "2023-06-06T11:28:18.906855",
     "status": "completed"
    },
    "tags": []
   },
   "outputs": [],
   "source": [
    "non_empty_barcodes = empty_drop_output[empty_drop_output[\"FDR\"] < 0.001].index\n",
    "dataset = dataset[dataset.obs.index.isin(non_empty_barcodes), :]\n",
    "dataset"
   ]
  },
  {
   "cell_type": "code",
   "execution_count": null,
   "id": "016a91e5-1bef-46fb-b91e-4fb9a6870c44",
   "metadata": {
    "execution": {
     "iopub.execute_input": "2023-06-06T11:28:18.996045Z",
     "iopub.status.busy": "2023-06-06T11:28:18.995857Z",
     "iopub.status.idle": "2023-06-06T11:29:50.104871Z",
     "shell.execute_reply": "2023-06-06T11:29:50.104351Z"
    },
    "papermill": {
     "duration": 91.114303,
     "end_time": "2023-06-06T11:29:50.106274",
     "exception": false,
     "start_time": "2023-06-06T11:28:18.991971",
     "status": "completed"
    },
    "tags": []
   },
   "outputs": [],
   "source": [
    "rna_assay = dataset.copy()\n",
    "sc.pp.normalize_per_cell(rna_assay)\n",
    "sc.pp.log1p(rna_assay)\n",
    "sc.pp.pca(rna_assay)\n",
    "sc.pp.neighbors(rna_assay)\n",
    "sc.tl.leiden(rna_assay, key_added=\"soupx_groups\")\n",
    "\n",
    "soupx_groups = rna_assay.obs[\"soupx_groups\"]\n",
    "\n",
    "del rna_assay\n",
    "\n",
    "genes = dataset.var_names\n",
    "cells = dataset.obs_names\n",
    "data = dataset.X.T.copy()"
   ]
  },
  {
   "cell_type": "code",
   "execution_count": null,
   "id": "9db4ea1f-1580-4f43-a3f0-86002397cd98",
   "metadata": {
    "execution": {
     "iopub.execute_input": "2023-06-06T11:29:50.132824Z",
     "iopub.status.busy": "2023-06-06T11:29:50.132454Z",
     "iopub.status.idle": "2023-06-06T11:30:19.469518Z",
     "shell.execute_reply": "2023-06-06T11:30:19.469041Z"
    },
    "papermill": {
     "duration": 29.341952,
     "end_time": "2023-06-06T11:30:19.470914",
     "exception": false,
     "start_time": "2023-06-06T11:29:50.128962",
     "status": "completed"
    },
    "tags": []
   },
   "outputs": [],
   "source": [
    "%%R -i data -i data_tod -i genes -i cells -i soupx_groups -o out \n",
    "set.seed(187)\n",
    "# specify row and column names of data\n",
    "rownames(data) = genes\n",
    "colnames(data) = cells\n",
    "# ensure correct sparse format for table of counts and table of droplets\n",
    "data <- as(data, \"sparseMatrix\")\n",
    "data_tod <- as(data_tod, \"sparseMatrix\")\n",
    "\n",
    "# Generate SoupChannel Object for SoupX \n",
    "sc = SoupChannel(data_tod, data, calcSoupProfile = FALSE)\n",
    "\n",
    "# Add extra meta data to the SoupChannel object\n",
    "soupProf = data.frame(row.names = rownames(data),\n",
    "                      est = rowSums(data)/sum(data),\n",
    "                      counts = rowSums(data))\n",
    "sc = setSoupProfile(sc, soupProf)\n",
    "# Set cluster information in SoupChannel\n",
    "sc = setClusters(sc, soupx_groups)\n",
    "\n",
    "# Estimate contamination fraction\n",
    "sc  = autoEstCont(sc, doPlot=FALSE, forceAccept = TRUE)\n",
    "# Infer corrected table of counts and rount to integer\n",
    "out = adjustCounts(sc, roundToInt = TRUE)"
   ]
  },
  {
   "cell_type": "code",
   "execution_count": null,
   "id": "32555d5e-5fa3-46dd-a4e0-ddc96ea265e2",
   "metadata": {
    "execution": {
     "iopub.execute_input": "2023-06-06T11:30:19.497397Z",
     "iopub.status.busy": "2023-06-06T11:30:19.497198Z",
     "iopub.status.idle": "2023-06-06T11:30:19.585207Z",
     "shell.execute_reply": "2023-06-06T11:30:19.584719Z"
    },
    "papermill": {
     "duration": 0.092932,
     "end_time": "2023-06-06T11:30:19.586450",
     "exception": false,
     "start_time": "2023-06-06T11:30:19.493518",
     "status": "completed"
    },
    "tags": []
   },
   "outputs": [],
   "source": [
    "dataset.layers[\"soupX_counts\"] = out.T\n",
    "dataset.X = dataset.layers[\"soupX_counts\"].copy()"
   ]
  },
  {
   "cell_type": "code",
   "execution_count": null,
   "id": "e27da7df-e094-4d2a-9109-5a363e012175",
   "metadata": {
    "execution": {
     "iopub.execute_input": "2023-06-06T11:30:19.593416Z",
     "iopub.status.busy": "2023-06-06T11:30:19.593225Z",
     "iopub.status.idle": "2023-06-06T11:30:19.595712Z",
     "shell.execute_reply": "2023-06-06T11:30:19.595381Z"
    },
    "papermill": {
     "duration": 0.006604,
     "end_time": "2023-06-06T11:30:19.596505",
     "exception": false,
     "start_time": "2023-06-06T11:30:19.589901",
     "status": "completed"
    },
    "tags": []
   },
   "outputs": [],
   "source": [
    "data_mat = dataset.X.T"
   ]
  },
  {
   "cell_type": "code",
   "execution_count": null,
   "id": "80a993b1-5ccb-4697-9187-1beb7ab8aff9",
   "metadata": {
    "execution": {
     "iopub.execute_input": "2023-06-06T11:30:19.602800Z",
     "iopub.status.busy": "2023-06-06T11:30:19.602611Z",
     "iopub.status.idle": "2023-06-06T11:31:00.126352Z",
     "shell.execute_reply": "2023-06-06T11:31:00.125742Z"
    },
    "papermill": {
     "duration": 40.52848,
     "end_time": "2023-06-06T11:31:00.127794",
     "exception": false,
     "start_time": "2023-06-06T11:30:19.599314",
     "status": "completed"
    },
    "tags": []
   },
   "outputs": [],
   "source": [
    "%%R -i data_mat -o droplet_class\n",
    "\n",
    "set.seed(187)\n",
    "sce = scDblFinder(\n",
    "    SingleCellExperiment(\n",
    "        list(counts=data_mat),\n",
    "    ) \n",
    ")\n",
    "droplet_class = sce$scDblFinder.class"
   ]
  },
  {
   "cell_type": "code",
   "execution_count": null,
   "id": "d4dd6e9d-fcf2-41fc-8457-c8e0a3cb2c71",
   "metadata": {
    "execution": {
     "iopub.execute_input": "2023-06-06T11:31:00.194968Z",
     "iopub.status.busy": "2023-06-06T11:31:00.194752Z",
     "iopub.status.idle": "2023-06-06T11:31:00.199914Z",
     "shell.execute_reply": "2023-06-06T11:31:00.199586Z"
    },
    "papermill": {
     "duration": 0.009602,
     "end_time": "2023-06-06T11:31:00.200745",
     "exception": false,
     "start_time": "2023-06-06T11:31:00.191143",
     "status": "completed"
    },
    "tags": []
   },
   "outputs": [],
   "source": [
    "dataset.obs[\"scDblFinder_class\"] = droplet_class\n",
    "dataset.obs.scDblFinder_class.value_counts()\n",
    "dataset"
   ]
  },
  {
   "cell_type": "code",
   "execution_count": null,
   "id": "28c95014-2d6c-477f-95cb-9f9f0507520c",
   "metadata": {
    "execution": {
     "iopub.execute_input": "2023-06-06T11:31:00.206956Z",
     "iopub.status.busy": "2023-06-06T11:31:00.206779Z",
     "iopub.status.idle": "2023-06-06T11:31:00.213251Z",
     "shell.execute_reply": "2023-06-06T11:31:00.212921Z"
    },
    "papermill": {
     "duration": 0.010585,
     "end_time": "2023-06-06T11:31:00.214117",
     "exception": false,
     "start_time": "2023-06-06T11:31:00.203532",
     "status": "completed"
    },
    "tags": []
   },
   "outputs": [],
   "source": [
    "dataset = dataset[dataset.obs[\"scDblFinder_class\"] == 1]"
   ]
  },
  {
   "cell_type": "code",
   "execution_count": null,
   "id": "3e22f9e0-bfcb-416c-a151-a9bca3bec3b9",
   "metadata": {
    "execution": {
     "iopub.execute_input": "2023-06-06T11:31:00.220380Z",
     "iopub.status.busy": "2023-06-06T11:31:00.220215Z",
     "iopub.status.idle": "2023-06-06T11:31:00.569017Z",
     "shell.execute_reply": "2023-06-06T11:31:00.568510Z"
    },
    "papermill": {
     "duration": 0.353122,
     "end_time": "2023-06-06T11:31:00.569994",
     "exception": false,
     "start_time": "2023-06-06T11:31:00.216872",
     "status": "completed"
    },
    "tags": []
   },
   "outputs": [],
   "source": [
    "# mitochondrial genes\n",
    "dataset.var[\"mt\"] = dataset.var_names.str.startswith(\"mt-\")\n",
    "# ribosomal genes\n",
    "dataset.var[\"ribo\"] = dataset.var_names.str.startswith((\"Rps\", \"Rpl\"))\n",
    "# hemoglobin genes.\n",
    "dataset.var[\"hb\"] = dataset.var_names.str.contains((\"^Hb[^(P)]\"))\n",
    "\n",
    "sc.pp.calculate_qc_metrics(dataset,\n",
    "                           qc_vars=['mt', 'ribo', 'hb'],\n",
    "                           percent_top=None,\n",
    "                           log1p=False,\n",
    "                           inplace=True)\n",
    "dataset"
   ]
  },
  {
   "cell_type": "code",
   "execution_count": null,
   "id": "34deee79-4043-428f-8575-aa57b45f6369",
   "metadata": {
    "execution": {
     "iopub.execute_input": "2023-06-06T11:31:00.601836Z",
     "iopub.status.busy": "2023-06-06T11:31:00.601690Z",
     "iopub.status.idle": "2023-06-06T11:31:01.326593Z",
     "shell.execute_reply": "2023-06-06T11:31:01.326161Z"
    },
    "papermill": {
     "duration": 0.729824,
     "end_time": "2023-06-06T11:31:01.328119",
     "exception": false,
     "start_time": "2023-06-06T11:31:00.598295",
     "status": "completed"
    },
    "tags": []
   },
   "outputs": [],
   "source": [
    "fig, ax = plt.subplots(ncols = 4, figsize = (16,4))\n",
    "axis = sc.pl.violin(dataset, \"n_genes_by_counts\", jitter = 0.4, ax = ax[0], show = False)\n",
    "axis.grid(False)\n",
    "axis.set_title(\"Unique Genes per cell\")\n",
    "axis.tick_params(axis = \"x\", bottom =False, labelbottom =False)\n",
    "axis.set_ylabel(\"# genes\")\n",
    "axis.axhline(y = 250, color = \"black\", label = \"cutoff\")\n",
    "axis.legend(fontsize = 14, loc = \"upper right\")\n",
    "\n",
    "axis = sc.pl.violin(dataset, \"pct_counts_mt\", jitter = 0.4, ax = ax[1], show = False)\n",
    "axis.grid(False)\n",
    "axis.set_title(\"Mitochondrial Fraction\")\n",
    "axis.tick_params(axis = \"x\", bottom =False, labelbottom =False)\n",
    "axis.set_ylabel(\"% mitochondrial genes\")\n",
    "axis.axhline(y = 5, color = \"black\", label = \"cutoff\")\n",
    "axis.legend(fontsize = 14, loc = \"upper right\")\n",
    "\n",
    "axis = sc.pl.violin(dataset, \"pct_counts_hb\", jitter = 0.4, ax = ax[2], show = False, size =2)\n",
    "axis.grid(False)\n",
    "axis.set_title(\"Hemoglobin Fraction\")\n",
    "axis.tick_params(axis = \"x\", bottom =False, labelbottom =False)\n",
    "axis.set_ylabel(\"% hemoglobin genes\")\n",
    "axis.axhline(y = 2, color = \"black\", label = \"cutoff\")\n",
    "axis.legend(fontsize = 14, loc = \"upper right\")\n",
    "#axis.set_ylim(0,5)\n",
    "\n",
    "axis = sc.pl.violin(dataset, \"pct_counts_ribo\", jitter = 0.4, ax = ax[3], show = False)\n",
    "axis.grid(False)\n",
    "axis.set_title(\"Ribosomal Fraction\")\n",
    "axis.tick_params(axis = \"x\", bottom =False, labelbottom =False)\n",
    "axis.set_ylabel(\"% ribosome genes\")\n",
    "\n",
    "plt.tight_layout()\n",
    "#plt.savefig(f\"{outputDir}08_gene_based_filtering.pdf\", dpi = 300)\n",
    "plt.show()\n",
    "\n"
   ]
  },
  {
   "cell_type": "code",
   "execution_count": null,
   "id": "d7ade754-843e-4840-8707-426613d8c0c5",
   "metadata": {
    "execution": {
     "iopub.execute_input": "2023-06-06T11:31:01.353161Z",
     "iopub.status.busy": "2023-06-06T11:31:01.352981Z",
     "iopub.status.idle": "2023-06-06T11:31:01.362893Z",
     "shell.execute_reply": "2023-06-06T11:31:01.362584Z"
    },
    "papermill": {
     "duration": 0.017573,
     "end_time": "2023-06-06T11:31:01.363699",
     "exception": false,
     "start_time": "2023-06-06T11:31:01.346126",
     "status": "completed"
    },
    "tags": []
   },
   "outputs": [],
   "source": [
    "dataset = dataset[dataset.obs.pct_counts_mt < 5, :]\n",
    "dataset = dataset[dataset.obs.n_genes_by_counts > 250, :]\n",
    "dataset = dataset[dataset.obs.pct_counts_hb < 2, :]\n",
    "dataset"
   ]
  },
  {
   "cell_type": "code",
   "execution_count": null,
   "id": "2e0ff8c3-2aa9-4a01-9b88-5912a6734447",
   "metadata": {
    "execution": {
     "iopub.execute_input": "2023-06-06T11:31:01.374856Z",
     "iopub.status.busy": "2023-06-06T11:31:01.374715Z",
     "iopub.status.idle": "2023-06-06T11:31:01.453895Z",
     "shell.execute_reply": "2023-06-06T11:31:01.453427Z"
    },
    "papermill": {
     "duration": 0.086118,
     "end_time": "2023-06-06T11:31:01.454989",
     "exception": false,
     "start_time": "2023-06-06T11:31:01.368871",
     "status": "completed"
    },
    "tags": []
   },
   "outputs": [],
   "source": [
    "for col in metadata.columns:\n",
    "    dataset.obs[col] = metadata.loc[metadata[\"Run\"] == sample_name, col].to_list()[0]"
   ]
  },
  {
   "cell_type": "code",
   "execution_count": null,
   "id": "b84578d3-d63e-419c-a272-a0b8317d05ab",
   "metadata": {
    "execution": {
     "iopub.execute_input": "2023-06-06T11:31:01.491082Z",
     "iopub.status.busy": "2023-06-06T11:31:01.490873Z",
     "iopub.status.idle": "2023-06-06T11:31:02.072699Z",
     "shell.execute_reply": "2023-06-06T11:31:02.072231Z"
    },
    "papermill": {
     "duration": 0.600262,
     "end_time": "2023-06-06T11:31:02.074010",
     "exception": false,
     "start_time": "2023-06-06T11:31:01.473748",
     "status": "completed"
    },
    "tags": []
   },
   "outputs": [],
   "source": [
    "dataset.write(f\"../../int_data/{sample_name}_qc.h5ad\")"
   ]
  }
 ],
 "metadata": {
  "kernelspec": {
   "display_name": "py_R",
   "language": "python",
   "name": "python_r"
  },
  "language_info": {
   "codemirror_mode": {
    "name": "ipython",
    "version": 3
   },
   "file_extension": ".py",
   "mimetype": "text/x-python",
   "name": "python",
   "nbconvert_exporter": "python",
   "pygments_lexer": "ipython3",
   "version": "3.10.11"
  },
  "papermill": {
   "default_parameters": {},
   "duration": 334.885026,
   "end_time": "2023-06-06T11:31:04.814234",
   "environment_variables": {},
   "exception": null,
   "input_path": "SRR10127227.ipynb",
   "output_path": "SRR10127227.ipynb",
   "parameters": {},
   "start_time": "2023-06-06T11:25:29.929208",
   "version": "2.4.0"
  }
 },
 "nbformat": 4,
 "nbformat_minor": 5
}
