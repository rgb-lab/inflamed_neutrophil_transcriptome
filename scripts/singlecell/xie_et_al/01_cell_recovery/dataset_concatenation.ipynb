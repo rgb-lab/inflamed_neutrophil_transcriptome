{
 "cells": [
  {
   "cell_type": "code",
   "execution_count": null,
   "id": "77ea78c3-c87f-42db-ba25-1c8123a081b3",
   "metadata": {
    "tags": []
   },
   "outputs": [],
   "source": [
    "import gc\n",
    "import scanpy as sc\n",
    "import muon as mu\n",
    "import seaborn as sns\n",
    "import os\n",
    "import pandas as pd\n",
    "from matplotlib import pyplot as plt\n",
    "\n",
    "os.environ['R_HOME'] = '/gpfs/bwfor/work/ws/hd_fu399-conda/conda/envs/python_R/lib/R/'\n",
    "import anndata2ri\n",
    "import logging\n",
    "\n",
    "import rpy2.rinterface_lib.callbacks as rcb\n",
    "import rpy2.robjects as ro\n",
    "\n",
    "rcb.logger.setLevel(logging.ERROR)\n",
    "ro.pandas2ri.activate()\n",
    "anndata2ri.activate()\n",
    "\n",
    "%load_ext rpy2.ipython"
   ]
  },
  {
   "cell_type": "code",
   "execution_count": null,
   "id": "43a17344-36c8-4a89-a417-377192fd622c",
   "metadata": {
    "tags": []
   },
   "outputs": [],
   "source": [
    "%%R\n",
    "library(SoupX)\n",
    "library(Seurat)\n",
    "library(scater)\n",
    "library(scDblFinder)\n",
    "library(BiocParallel)\n",
    "library(MuDataSeurat)\n",
    "library(DropletUtils)"
   ]
  },
  {
   "cell_type": "code",
   "execution_count": null,
   "id": "179b67d2-1b0e-42a3-840d-2069ab32cd78",
   "metadata": {
    "tags": []
   },
   "outputs": [],
   "source": [
    "sample_list = [f\"SRR10127{x}\" for x in range(224, 233)]\n",
    "\n",
    "sample_list"
   ]
  },
  {
   "cell_type": "code",
   "execution_count": null,
   "id": "a7563989-a090-4b4d-b9cf-b07a1c96763c",
   "metadata": {
    "tags": []
   },
   "outputs": [],
   "source": [
    "def fetch_dataset(sample_name):\n",
    "    return sc.read(f\"../../int_data/{sample_name}_qc.h5ad\")"
   ]
  },
  {
   "cell_type": "code",
   "execution_count": null,
   "id": "1c453670-f748-4dcd-b7ec-661d7abcd627",
   "metadata": {
    "tags": []
   },
   "outputs": [],
   "source": [
    "dataset = sc.read(\"../../int_data/SRR10127223_qc.h5ad\")\n",
    "\n",
    "dataset = dataset.concatenate([fetch_dataset(sample_name) for sample_name in sample_list])\n",
    "\n",
    "dataset"
   ]
  },
  {
   "cell_type": "code",
   "execution_count": null,
   "id": "f21baa5d-f19f-4b87-81e2-e9cf14f1f5d1",
   "metadata": {},
   "outputs": [],
   "source": [
    "dataset.X = dataset.layers[\"raw_counts\"]"
   ]
  },
  {
   "cell_type": "code",
   "execution_count": null,
   "id": "71fc37d4-a70a-4d17-8959-4e51c15ead8d",
   "metadata": {
    "tags": []
   },
   "outputs": [],
   "source": [
    "dataset.write(\"../../int_data/dataset_qc.h5ad\")"
   ]
  },
  {
   "cell_type": "code",
   "execution_count": null,
   "id": "a4527601-0753-469b-a5e8-2949f8054bde",
   "metadata": {
    "tags": []
   },
   "outputs": [],
   "source": [
    "dataset.obs[[\"AvgSpotLen\", \"Bases\", \"Bytes\", \"version\"]] = dataset.obs[[\"AvgSpotLen\", \"Bases\", \"Bytes\", \"version\"]].astype(\"str\")"
   ]
  },
  {
   "cell_type": "code",
   "execution_count": null,
   "id": "3ec57cf9-a63f-4777-b518-affbcf20bd83",
   "metadata": {
    "tags": []
   },
   "outputs": [],
   "source": [
    "sce = dataset.copy()"
   ]
  },
  {
   "cell_type": "code",
   "execution_count": null,
   "id": "08b22c43-235e-4611-88f3-7b0272ef72af",
   "metadata": {
    "tags": []
   },
   "outputs": [],
   "source": [
    "%%R -i sce\n",
    "\n",
    "print(sce)\n",
    "\n",
    "saveRDS(sce, \"../../int_data/dataset_qc.rds\")"
   ]
  }
 ],
 "metadata": {
  "kernelspec": {
   "display_name": "py_R",
   "language": "python",
   "name": "python_r"
  },
  "language_info": {
   "codemirror_mode": {
    "name": "ipython",
    "version": 3
   },
   "file_extension": ".py",
   "mimetype": "text/x-python",
   "name": "python",
   "nbconvert_exporter": "python",
   "pygments_lexer": "ipython3",
   "version": "3.10.11"
  }
 },
 "nbformat": 4,
 "nbformat_minor": 5
}
