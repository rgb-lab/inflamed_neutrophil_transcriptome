{
 "cells": [
  {
   "cell_type": "code",
   "execution_count": null,
   "id": "f87ed95b-2b67-4a5a-8fe2-47359b1dd2a9",
   "metadata": {
    "execution": {
     "iopub.execute_input": "2023-06-06T11:13:55.918477Z",
     "iopub.status.busy": "2023-06-06T11:13:55.918314Z",
     "iopub.status.idle": "2023-06-06T11:13:57.715962Z",
     "shell.execute_reply": "2023-06-06T11:13:57.715616Z"
    },
    "papermill": {
     "duration": 1.80666,
     "end_time": "2023-06-06T11:13:57.717099",
     "exception": false,
     "start_time": "2023-06-06T11:13:55.910439",
     "status": "completed"
    },
    "tags": []
   },
   "outputs": [],
   "source": [
    "import warnings\n",
    "warnings.simplefilter(action='ignore', category=FutureWarning)\n",
    "warnings.simplefilter(action='ignore', category=UserWarning)"
   ]
  },
  {
   "cell_type": "code",
   "execution_count": null,
   "id": "85161f19-b2c5-490b-8cab-c2cf9653b304",
   "metadata": {
    "execution": {
     "iopub.execute_input": "2023-06-06T11:13:57.749879Z",
     "iopub.status.busy": "2023-06-06T11:13:57.749734Z",
     "iopub.status.idle": "2023-06-06T11:14:30.664100Z",
     "shell.execute_reply": "2023-06-06T11:14:30.663622Z"
    },
    "papermill": {
     "duration": 32.919095,
     "end_time": "2023-06-06T11:14:30.665471",
     "exception": false,
     "start_time": "2023-06-06T11:13:57.746376",
     "status": "completed"
    },
    "tags": []
   },
   "outputs": [],
   "source": [
    "import gc\n",
    "import scanpy as sc\n",
    "import muon as mu\n",
    "import seaborn as sns\n",
    "import os\n",
    "import pandas as pd\n",
    "from matplotlib import pyplot as plt\n",
    "\n",
    "os.environ['R_HOME'] = '/gpfs/bwfor/work/ws/hd_fu399-conda/conda/envs/python_R/lib/R/'\n",
    "import anndata2ri\n",
    "import logging\n",
    "\n",
    "import rpy2.rinterface_lib.callbacks as rcb\n",
    "import rpy2.robjects as ro\n",
    "\n",
    "rcb.logger.setLevel(logging.ERROR)\n",
    "ro.pandas2ri.activate()\n",
    "anndata2ri.activate()\n",
    "\n",
    "%load_ext rpy2.ipython"
   ]
  },
  {
   "cell_type": "code",
   "execution_count": null,
   "id": "fc4ade78-b728-4704-9db6-45fbaab62ba1",
   "metadata": {
    "execution": {
     "iopub.execute_input": "2023-06-06T11:14:30.700453Z",
     "iopub.status.busy": "2023-06-06T11:14:30.700167Z",
     "iopub.status.idle": "2023-06-06T11:15:08.882446Z",
     "shell.execute_reply": "2023-06-06T11:15:08.881877Z"
    },
    "papermill": {
     "duration": 38.187614,
     "end_time": "2023-06-06T11:15:08.884280",
     "exception": false,
     "start_time": "2023-06-06T11:14:30.696666",
     "status": "completed"
    },
    "tags": []
   },
   "outputs": [],
   "source": [
    "%%R\n",
    "library(SoupX)\n",
    "library(Seurat)\n",
    "library(scater)\n",
    "library(scDblFinder)\n",
    "library(BiocParallel)\n",
    "library(MuDataSeurat)\n",
    "library(DropletUtils)"
   ]
  },
  {
   "cell_type": "code",
   "execution_count": null,
   "id": "611e4882-fc48-43d1-b1cd-e65e1bde0015",
   "metadata": {
    "execution": {
     "iopub.execute_input": "2023-06-06T11:15:08.924536Z",
     "iopub.status.busy": "2023-06-06T11:15:08.924353Z",
     "iopub.status.idle": "2023-06-06T11:15:08.926876Z",
     "shell.execute_reply": "2023-06-06T11:15:08.926566Z"
    },
    "papermill": {
     "duration": 0.006932,
     "end_time": "2023-06-06T11:15:08.927677",
     "exception": false,
     "start_time": "2023-06-06T11:15:08.920745",
     "status": "completed"
    },
    "tags": []
   },
   "outputs": [],
   "source": [
    "sample_name = \"SRR10127224\""
   ]
  },
  {
   "cell_type": "code",
   "execution_count": null,
   "id": "f7424d90-7690-4290-8651-1db3f9df3a35",
   "metadata": {
    "execution": {
     "iopub.execute_input": "2023-06-06T11:15:08.933326Z",
     "iopub.status.busy": "2023-06-06T11:15:08.933172Z",
     "iopub.status.idle": "2023-06-06T11:15:08.955288Z",
     "shell.execute_reply": "2023-06-06T11:15:08.954908Z"
    },
    "papermill": {
     "duration": 0.025953,
     "end_time": "2023-06-06T11:15:08.956153",
     "exception": false,
     "start_time": "2023-06-06T11:15:08.930200",
     "status": "completed"
    },
    "tags": []
   },
   "outputs": [],
   "source": [
    "metadata = pd.read_csv(\"../../SraRunTable.txt\")"
   ]
  },
  {
   "cell_type": "code",
   "execution_count": null,
   "id": "2574ecf1-bad4-4c33-8f3f-718a358727ab",
   "metadata": {
    "execution": {
     "iopub.execute_input": "2023-06-06T11:15:08.976684Z",
     "iopub.status.busy": "2023-06-06T11:15:08.976546Z",
     "iopub.status.idle": "2023-06-06T11:15:08.978706Z",
     "shell.execute_reply": "2023-06-06T11:15:08.978400Z"
    },
    "papermill": {
     "duration": 0.00621,
     "end_time": "2023-06-06T11:15:08.979482",
     "exception": false,
     "start_time": "2023-06-06T11:15:08.973272",
     "status": "completed"
    },
    "tags": []
   },
   "outputs": [],
   "source": [
    "raw_input = f\"/home/hd/hd_hd/hd_fu399/sds-hd/sd21k006/scRNAseq/revision_natcomm/xie_et_al/{sample_name}/{sample_name}/outs/raw_feature_bc_matrix.h5\""
   ]
  },
  {
   "cell_type": "code",
   "execution_count": null,
   "id": "e266d388-1802-435c-93a5-90067358739c",
   "metadata": {
    "execution": {
     "iopub.execute_input": "2023-06-06T11:15:08.985318Z",
     "iopub.status.busy": "2023-06-06T11:15:08.985058Z",
     "iopub.status.idle": "2023-06-06T11:15:10.030205Z",
     "shell.execute_reply": "2023-06-06T11:15:10.029773Z"
    },
    "papermill": {
     "duration": 1.049062,
     "end_time": "2023-06-06T11:15:10.031121",
     "exception": false,
     "start_time": "2023-06-06T11:15:08.982059",
     "status": "completed"
    },
    "tags": []
   },
   "outputs": [],
   "source": [
    "dataset = sc.read_10x_h5(raw_input)\n",
    "dataset.var_names_make_unique()\n",
    "dataset.obs_names_make_unique()\n",
    "\n",
    "dataset.layers[\"raw_counts\"] = dataset.X.copy()\n",
    "data_tod = dataset.layers[\"raw_counts\"].T.copy()\n",
    "\n",
    "dataset"
   ]
  },
  {
   "cell_type": "code",
   "execution_count": null,
   "id": "af9f5892-ed31-42a6-991b-4e096f582cef",
   "metadata": {
    "execution": {
     "iopub.execute_input": "2023-06-06T11:15:10.066485Z",
     "iopub.status.busy": "2023-06-06T11:15:10.066270Z",
     "iopub.status.idle": "2023-06-06T11:15:10.144357Z",
     "shell.execute_reply": "2023-06-06T11:15:10.143892Z"
    },
    "papermill": {
     "duration": 0.082942,
     "end_time": "2023-06-06T11:15:10.145639",
     "exception": false,
     "start_time": "2023-06-06T11:15:10.062697",
     "status": "completed"
    },
    "tags": []
   },
   "outputs": [],
   "source": [
    "sce = dataset.copy()"
   ]
  },
  {
   "cell_type": "code",
   "execution_count": null,
   "id": "d03f2caf-8e74-430e-b045-0ab80401d165",
   "metadata": {
    "execution": {
     "iopub.execute_input": "2023-06-06T11:15:10.153497Z",
     "iopub.status.busy": "2023-06-06T11:15:10.153359Z",
     "iopub.status.idle": "2023-06-06T11:16:34.135227Z",
     "shell.execute_reply": "2023-06-06T11:16:34.134537Z"
    },
    "papermill": {
     "duration": 83.986637,
     "end_time": "2023-06-06T11:16:34.136841",
     "exception": false,
     "start_time": "2023-06-06T11:15:10.150204",
     "status": "completed"
    },
    "tags": []
   },
   "outputs": [],
   "source": [
    "%%R -i sce -o empty_drop_output\n",
    "set.seed(187)\n",
    "empty_drop_output <- emptyDrops(assay(sce))"
   ]
  },
  {
   "cell_type": "code",
   "execution_count": null,
   "id": "2a34a54b-3ae2-44d6-8679-8769228c5b66",
   "metadata": {
    "execution": {
     "iopub.execute_input": "2023-06-06T11:16:34.171852Z",
     "iopub.status.busy": "2023-06-06T11:16:34.171671Z",
     "iopub.status.idle": "2023-06-06T11:16:34.208494Z",
     "shell.execute_reply": "2023-06-06T11:16:34.208171Z"
    },
    "papermill": {
     "duration": 0.041573,
     "end_time": "2023-06-06T11:16:34.209391",
     "exception": false,
     "start_time": "2023-06-06T11:16:34.167818",
     "status": "completed"
    },
    "tags": []
   },
   "outputs": [],
   "source": [
    "non_empty_barcodes = empty_drop_output[empty_drop_output[\"FDR\"] < 0.001].index\n",
    "dataset = dataset[dataset.obs.index.isin(non_empty_barcodes), :]\n",
    "dataset"
   ]
  },
  {
   "cell_type": "code",
   "execution_count": null,
   "id": "016a91e5-1bef-46fb-b91e-4fb9a6870c44",
   "metadata": {
    "execution": {
     "iopub.execute_input": "2023-06-06T11:16:34.216123Z",
     "iopub.status.busy": "2023-06-06T11:16:34.215905Z",
     "iopub.status.idle": "2023-06-06T11:16:43.955989Z",
     "shell.execute_reply": "2023-06-06T11:16:43.955485Z"
    },
    "papermill": {
     "duration": 9.745203,
     "end_time": "2023-06-06T11:16:43.957754",
     "exception": false,
     "start_time": "2023-06-06T11:16:34.212551",
     "status": "completed"
    },
    "tags": []
   },
   "outputs": [],
   "source": [
    "rna_assay = dataset.copy()\n",
    "sc.pp.normalize_per_cell(rna_assay)\n",
    "sc.pp.log1p(rna_assay)\n",
    "sc.pp.pca(rna_assay)\n",
    "sc.pp.neighbors(rna_assay)\n",
    "sc.tl.leiden(rna_assay, key_added=\"soupx_groups\")\n",
    "\n",
    "soupx_groups = rna_assay.obs[\"soupx_groups\"]\n",
    "\n",
    "del rna_assay\n",
    "\n",
    "genes = dataset.var_names\n",
    "cells = dataset.obs_names\n",
    "data = dataset.X.T.copy()"
   ]
  },
  {
   "cell_type": "code",
   "execution_count": null,
   "id": "9db4ea1f-1580-4f43-a3f0-86002397cd98",
   "metadata": {
    "execution": {
     "iopub.execute_input": "2023-06-06T11:16:43.993926Z",
     "iopub.status.busy": "2023-06-06T11:16:43.993743Z",
     "iopub.status.idle": "2023-06-06T11:17:09.625133Z",
     "shell.execute_reply": "2023-06-06T11:17:09.624612Z"
    },
    "papermill": {
     "duration": 25.636733,
     "end_time": "2023-06-06T11:17:09.626501",
     "exception": false,
     "start_time": "2023-06-06T11:16:43.989768",
     "status": "completed"
    },
    "tags": []
   },
   "outputs": [],
   "source": [
    "%%R -i data -i data_tod -i genes -i cells -i soupx_groups -o out \n",
    "set.seed(187)\n",
    "# specify row and column names of data\n",
    "rownames(data) = genes\n",
    "colnames(data) = cells\n",
    "# ensure correct sparse format for table of counts and table of droplets\n",
    "data <- as(data, \"sparseMatrix\")\n",
    "data_tod <- as(data_tod, \"sparseMatrix\")\n",
    "\n",
    "# Generate SoupChannel Object for SoupX \n",
    "sc = SoupChannel(data_tod, data, calcSoupProfile = FALSE)\n",
    "\n",
    "# Add extra meta data to the SoupChannel object\n",
    "soupProf = data.frame(row.names = rownames(data),\n",
    "                      est = rowSums(data)/sum(data),\n",
    "                      counts = rowSums(data))\n",
    "sc = setSoupProfile(sc, soupProf)\n",
    "# Set cluster information in SoupChannel\n",
    "sc = setClusters(sc, soupx_groups)\n",
    "\n",
    "# Estimate contamination fraction\n",
    "sc  = autoEstCont(sc, doPlot=FALSE, forceAccept = TRUE)\n",
    "# Infer corrected table of counts and rount to integer\n",
    "out = adjustCounts(sc, roundToInt = TRUE)"
   ]
  },
  {
   "cell_type": "code",
   "execution_count": null,
   "id": "32555d5e-5fa3-46dd-a4e0-ddc96ea265e2",
   "metadata": {
    "execution": {
     "iopub.execute_input": "2023-06-06T11:17:09.660708Z",
     "iopub.status.busy": "2023-06-06T11:17:09.660466Z",
     "iopub.status.idle": "2023-06-06T11:17:09.727784Z",
     "shell.execute_reply": "2023-06-06T11:17:09.727316Z"
    },
    "papermill": {
     "duration": 0.072327,
     "end_time": "2023-06-06T11:17:09.729178",
     "exception": false,
     "start_time": "2023-06-06T11:17:09.656851",
     "status": "completed"
    },
    "tags": []
   },
   "outputs": [],
   "source": [
    "dataset.layers[\"soupX_counts\"] = out.T\n",
    "dataset.X = dataset.layers[\"soupX_counts\"].copy()"
   ]
  },
  {
   "cell_type": "code",
   "execution_count": null,
   "id": "e27da7df-e094-4d2a-9109-5a363e012175",
   "metadata": {
    "execution": {
     "iopub.execute_input": "2023-06-06T11:17:09.736169Z",
     "iopub.status.busy": "2023-06-06T11:17:09.736015Z",
     "iopub.status.idle": "2023-06-06T11:17:09.738412Z",
     "shell.execute_reply": "2023-06-06T11:17:09.738046Z"
    },
    "papermill": {
     "duration": 0.006562,
     "end_time": "2023-06-06T11:17:09.739192",
     "exception": false,
     "start_time": "2023-06-06T11:17:09.732630",
     "status": "completed"
    },
    "tags": []
   },
   "outputs": [],
   "source": [
    "data_mat = dataset.X.T"
   ]
  },
  {
   "cell_type": "code",
   "execution_count": null,
   "id": "80a993b1-5ccb-4697-9187-1beb7ab8aff9",
   "metadata": {
    "execution": {
     "iopub.execute_input": "2023-06-06T11:17:09.745199Z",
     "iopub.status.busy": "2023-06-06T11:17:09.745030Z",
     "iopub.status.idle": "2023-06-06T11:17:36.124359Z",
     "shell.execute_reply": "2023-06-06T11:17:36.123885Z"
    },
    "papermill": {
     "duration": 26.383976,
     "end_time": "2023-06-06T11:17:36.125873",
     "exception": false,
     "start_time": "2023-06-06T11:17:09.741897",
     "status": "completed"
    },
    "tags": []
   },
   "outputs": [],
   "source": [
    "%%R -i data_mat -o droplet_class\n",
    "\n",
    "set.seed(187)\n",
    "sce = scDblFinder(\n",
    "    SingleCellExperiment(\n",
    "        list(counts=data_mat),\n",
    "    ) \n",
    ")\n",
    "droplet_class = sce$scDblFinder.class"
   ]
  },
  {
   "cell_type": "code",
   "execution_count": null,
   "id": "d4dd6e9d-fcf2-41fc-8457-c8e0a3cb2c71",
   "metadata": {
    "execution": {
     "iopub.execute_input": "2023-06-06T11:17:36.166897Z",
     "iopub.status.busy": "2023-06-06T11:17:36.166718Z",
     "iopub.status.idle": "2023-06-06T11:17:36.171108Z",
     "shell.execute_reply": "2023-06-06T11:17:36.170776Z"
    },
    "papermill": {
     "duration": 0.008451,
     "end_time": "2023-06-06T11:17:36.171912",
     "exception": false,
     "start_time": "2023-06-06T11:17:36.163461",
     "status": "completed"
    },
    "tags": []
   },
   "outputs": [],
   "source": [
    "dataset.obs[\"scDblFinder_class\"] = droplet_class\n",
    "dataset.obs.scDblFinder_class.value_counts()\n",
    "dataset"
   ]
  },
  {
   "cell_type": "code",
   "execution_count": null,
   "id": "28c95014-2d6c-477f-95cb-9f9f0507520c",
   "metadata": {
    "execution": {
     "iopub.execute_input": "2023-06-06T11:17:36.181884Z",
     "iopub.status.busy": "2023-06-06T11:17:36.181688Z",
     "iopub.status.idle": "2023-06-06T11:17:36.218301Z",
     "shell.execute_reply": "2023-06-06T11:17:36.217879Z"
    },
    "papermill": {
     "duration": 0.042352,
     "end_time": "2023-06-06T11:17:36.219389",
     "exception": false,
     "start_time": "2023-06-06T11:17:36.177037",
     "status": "completed"
    },
    "tags": []
   },
   "outputs": [],
   "source": [
    "dataset = dataset[dataset.obs[\"scDblFinder_class\"] == 1]"
   ]
  },
  {
   "cell_type": "code",
   "execution_count": null,
   "id": "3e22f9e0-bfcb-416c-a151-a9bca3bec3b9",
   "metadata": {
    "execution": {
     "iopub.execute_input": "2023-06-06T11:17:36.225977Z",
     "iopub.status.busy": "2023-06-06T11:17:36.225775Z",
     "iopub.status.idle": "2023-06-06T11:17:36.509604Z",
     "shell.execute_reply": "2023-06-06T11:17:36.509172Z"
    },
    "papermill": {
     "duration": 0.288242,
     "end_time": "2023-06-06T11:17:36.510603",
     "exception": false,
     "start_time": "2023-06-06T11:17:36.222361",
     "status": "completed"
    },
    "tags": []
   },
   "outputs": [],
   "source": [
    "# mitochondrial genes\n",
    "dataset.var[\"mt\"] = dataset.var_names.str.startswith(\"mt-\")\n",
    "# ribosomal genes\n",
    "dataset.var[\"ribo\"] = dataset.var_names.str.startswith((\"Rps\", \"Rpl\"))\n",
    "# hemoglobin genes.\n",
    "dataset.var[\"hb\"] = dataset.var_names.str.contains((\"^Hb[^(P)]\"))\n",
    "\n",
    "sc.pp.calculate_qc_metrics(dataset,\n",
    "                           qc_vars=['mt', 'ribo', 'hb'],\n",
    "                           percent_top=None,\n",
    "                           log1p=False,\n",
    "                           inplace=True)\n",
    "dataset"
   ]
  },
  {
   "cell_type": "code",
   "execution_count": null,
   "id": "34deee79-4043-428f-8575-aa57b45f6369",
   "metadata": {
    "execution": {
     "iopub.execute_input": "2023-06-06T11:17:36.544978Z",
     "iopub.status.busy": "2023-06-06T11:17:36.544746Z",
     "iopub.status.idle": "2023-06-06T11:17:37.187553Z",
     "shell.execute_reply": "2023-06-06T11:17:37.187131Z"
    },
    "papermill": {
     "duration": 0.648491,
     "end_time": "2023-06-06T11:17:37.189338",
     "exception": false,
     "start_time": "2023-06-06T11:17:36.540847",
     "status": "completed"
    },
    "tags": []
   },
   "outputs": [],
   "source": [
    "fig, ax = plt.subplots(ncols = 4, figsize = (16,4))\n",
    "axis = sc.pl.violin(dataset, \"n_genes_by_counts\", jitter = 0.4, ax = ax[0], show = False)\n",
    "axis.grid(False)\n",
    "axis.set_title(\"Unique Genes per cell\")\n",
    "axis.tick_params(axis = \"x\", bottom =False, labelbottom =False)\n",
    "axis.set_ylabel(\"# genes\")\n",
    "axis.axhline(y = 250, color = \"black\", label = \"cutoff\")\n",
    "axis.legend(fontsize = 14, loc = \"upper right\")\n",
    "\n",
    "axis = sc.pl.violin(dataset, \"pct_counts_mt\", jitter = 0.4, ax = ax[1], show = False)\n",
    "axis.grid(False)\n",
    "axis.set_title(\"Mitochondrial Fraction\")\n",
    "axis.tick_params(axis = \"x\", bottom =False, labelbottom =False)\n",
    "axis.set_ylabel(\"% mitochondrial genes\")\n",
    "axis.axhline(y = 5, color = \"black\", label = \"cutoff\")\n",
    "axis.legend(fontsize = 14, loc = \"upper right\")\n",
    "\n",
    "axis = sc.pl.violin(dataset, \"pct_counts_hb\", jitter = 0.4, ax = ax[2], show = False, size =2)\n",
    "axis.grid(False)\n",
    "axis.set_title(\"Hemoglobin Fraction\")\n",
    "axis.tick_params(axis = \"x\", bottom =False, labelbottom =False)\n",
    "axis.set_ylabel(\"% hemoglobin genes\")\n",
    "axis.axhline(y = 2, color = \"black\", label = \"cutoff\")\n",
    "axis.legend(fontsize = 14, loc = \"upper right\")\n",
    "#axis.set_ylim(0,5)\n",
    "\n",
    "axis = sc.pl.violin(dataset, \"pct_counts_ribo\", jitter = 0.4, ax = ax[3], show = False)\n",
    "axis.grid(False)\n",
    "axis.set_title(\"Ribosomal Fraction\")\n",
    "axis.tick_params(axis = \"x\", bottom =False, labelbottom =False)\n",
    "axis.set_ylabel(\"% ribosome genes\")\n",
    "\n",
    "plt.tight_layout()\n",
    "#plt.savefig(f\"{outputDir}08_gene_based_filtering.pdf\", dpi = 300)\n",
    "plt.show()\n",
    "\n"
   ]
  },
  {
   "cell_type": "code",
   "execution_count": null,
   "id": "d7ade754-843e-4840-8707-426613d8c0c5",
   "metadata": {
    "execution": {
     "iopub.execute_input": "2023-06-06T11:17:37.230380Z",
     "iopub.status.busy": "2023-06-06T11:17:37.230157Z",
     "iopub.status.idle": "2023-06-06T11:17:37.239948Z",
     "shell.execute_reply": "2023-06-06T11:17:37.239611Z"
    },
    "papermill": {
     "duration": 0.016985,
     "end_time": "2023-06-06T11:17:37.240767",
     "exception": false,
     "start_time": "2023-06-06T11:17:37.223782",
     "status": "completed"
    },
    "tags": []
   },
   "outputs": [],
   "source": [
    "dataset = dataset[dataset.obs.pct_counts_mt < 5, :]\n",
    "dataset = dataset[dataset.obs.n_genes_by_counts > 250, :]\n",
    "dataset = dataset[dataset.obs.pct_counts_hb < 2, :]\n",
    "dataset"
   ]
  },
  {
   "cell_type": "code",
   "execution_count": null,
   "id": "2e0ff8c3-2aa9-4a01-9b88-5912a6734447",
   "metadata": {
    "execution": {
     "iopub.execute_input": "2023-06-06T11:17:37.252382Z",
     "iopub.status.busy": "2023-06-06T11:17:37.252178Z",
     "iopub.status.idle": "2023-06-06T11:17:37.412051Z",
     "shell.execute_reply": "2023-06-06T11:17:37.411620Z"
    },
    "papermill": {
     "duration": 0.167341,
     "end_time": "2023-06-06T11:17:37.413638",
     "exception": false,
     "start_time": "2023-06-06T11:17:37.246297",
     "status": "completed"
    },
    "tags": []
   },
   "outputs": [],
   "source": [
    "for col in metadata.columns:\n",
    "    dataset.obs[col] = metadata.loc[metadata[\"Run\"] == sample_name, col].to_list()[0]"
   ]
  },
  {
   "cell_type": "code",
   "execution_count": null,
   "id": "b84578d3-d63e-419c-a272-a0b8317d05ab",
   "metadata": {
    "execution": {
     "iopub.execute_input": "2023-06-06T11:17:37.453830Z",
     "iopub.status.busy": "2023-06-06T11:17:37.453642Z",
     "iopub.status.idle": "2023-06-06T11:17:37.967567Z",
     "shell.execute_reply": "2023-06-06T11:17:37.967065Z"
    },
    "papermill": {
     "duration": 0.521418,
     "end_time": "2023-06-06T11:17:37.968926",
     "exception": false,
     "start_time": "2023-06-06T11:17:37.447508",
     "status": "completed"
    },
    "tags": []
   },
   "outputs": [],
   "source": [
    "dataset.write(f\"../../int_data/{sample_name}_qc.h5ad\")"
   ]
  }
 ],
 "metadata": {
  "kernelspec": {
   "display_name": "py_R",
   "language": "python",
   "name": "python_r"
  },
  "language_info": {
   "codemirror_mode": {
    "name": "ipython",
    "version": 3
   },
   "file_extension": ".py",
   "mimetype": "text/x-python",
   "name": "python",
   "nbconvert_exporter": "python",
   "pygments_lexer": "ipython3",
   "version": "3.10.11"
  },
  "papermill": {
   "default_parameters": {},
   "duration": 237.010705,
   "end_time": "2023-06-06T11:17:40.619417",
   "environment_variables": {},
   "exception": null,
   "input_path": "SRR10127224.ipynb",
   "output_path": "SRR10127224.ipynb",
   "parameters": {},
   "start_time": "2023-06-06T11:13:43.608712",
   "version": "2.4.0"
  }
 },
 "nbformat": 4,
 "nbformat_minor": 5
}
