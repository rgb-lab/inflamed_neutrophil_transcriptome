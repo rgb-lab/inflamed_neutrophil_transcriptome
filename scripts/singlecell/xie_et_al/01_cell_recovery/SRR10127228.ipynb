{
 "cells": [
  {
   "cell_type": "code",
   "execution_count": null,
   "id": "f87ed95b-2b67-4a5a-8fe2-47359b1dd2a9",
   "metadata": {
    "execution": {
     "iopub.execute_input": "2023-06-06T11:31:14.592466Z",
     "iopub.status.busy": "2023-06-06T11:31:14.592292Z",
     "iopub.status.idle": "2023-06-06T11:31:14.597170Z",
     "shell.execute_reply": "2023-06-06T11:31:14.596854Z"
    },
    "papermill": {
     "duration": 0.034756,
     "end_time": "2023-06-06T11:31:14.598072",
     "exception": false,
     "start_time": "2023-06-06T11:31:14.563316",
     "status": "completed"
    },
    "tags": []
   },
   "outputs": [],
   "source": [
    "import warnings\n",
    "warnings.simplefilter(action='ignore', category=FutureWarning)\n",
    "warnings.simplefilter(action='ignore', category=UserWarning)"
   ]
  },
  {
   "cell_type": "code",
   "execution_count": null,
   "id": "85161f19-b2c5-490b-8cab-c2cf9653b304",
   "metadata": {
    "execution": {
     "iopub.execute_input": "2023-06-06T11:31:14.604571Z",
     "iopub.status.busy": "2023-06-06T11:31:14.604450Z",
     "iopub.status.idle": "2023-06-06T11:31:43.501931Z",
     "shell.execute_reply": "2023-06-06T11:31:43.501427Z"
    },
    "papermill": {
     "duration": 28.90162,
     "end_time": "2023-06-06T11:31:43.503214",
     "exception": false,
     "start_time": "2023-06-06T11:31:14.601594",
     "status": "completed"
    },
    "tags": []
   },
   "outputs": [],
   "source": [
    "import gc\n",
    "import scanpy as sc\n",
    "import muon as mu\n",
    "import seaborn as sns\n",
    "import os\n",
    "import pandas as pd\n",
    "from matplotlib import pyplot as plt\n",
    "\n",
    "os.environ['R_HOME'] = '/gpfs/bwfor/work/ws/hd_fu399-conda/conda/envs/python_R/lib/R/'\n",
    "import anndata2ri\n",
    "import logging\n",
    "\n",
    "import rpy2.rinterface_lib.callbacks as rcb\n",
    "import rpy2.robjects as ro\n",
    "\n",
    "rcb.logger.setLevel(logging.ERROR)\n",
    "ro.pandas2ri.activate()\n",
    "anndata2ri.activate()\n",
    "\n",
    "%load_ext rpy2.ipython"
   ]
  },
  {
   "cell_type": "code",
   "execution_count": null,
   "id": "fc4ade78-b728-4704-9db6-45fbaab62ba1",
   "metadata": {
    "execution": {
     "iopub.execute_input": "2023-06-06T11:31:43.536979Z",
     "iopub.status.busy": "2023-06-06T11:31:43.536670Z",
     "iopub.status.idle": "2023-06-06T11:32:00.090312Z",
     "shell.execute_reply": "2023-06-06T11:32:00.089809Z"
    },
    "papermill": {
     "duration": 16.558083,
     "end_time": "2023-06-06T11:32:00.091546",
     "exception": false,
     "start_time": "2023-06-06T11:31:43.533463",
     "status": "completed"
    },
    "tags": []
   },
   "outputs": [],
   "source": [
    "%%R\n",
    "library(SoupX)\n",
    "library(Seurat)\n",
    "library(scater)\n",
    "library(scDblFinder)\n",
    "library(BiocParallel)\n",
    "library(MuDataSeurat)\n",
    "library(DropletUtils)"
   ]
  },
  {
   "cell_type": "code",
   "execution_count": null,
   "id": "611e4882-fc48-43d1-b1cd-e65e1bde0015",
   "metadata": {
    "execution": {
     "iopub.execute_input": "2023-06-06T11:32:00.126640Z",
     "iopub.status.busy": "2023-06-06T11:32:00.126459Z",
     "iopub.status.idle": "2023-06-06T11:32:00.129447Z",
     "shell.execute_reply": "2023-06-06T11:32:00.129027Z"
    },
    "papermill": {
     "duration": 0.007209,
     "end_time": "2023-06-06T11:32:00.130342",
     "exception": false,
     "start_time": "2023-06-06T11:32:00.123133",
     "status": "completed"
    },
    "tags": []
   },
   "outputs": [],
   "source": [
    "sample_name = \"SRR10127228\""
   ]
  },
  {
   "cell_type": "code",
   "execution_count": null,
   "id": "f7424d90-7690-4290-8651-1db3f9df3a35",
   "metadata": {
    "execution": {
     "iopub.execute_input": "2023-06-06T11:32:00.136140Z",
     "iopub.status.busy": "2023-06-06T11:32:00.135978Z",
     "iopub.status.idle": "2023-06-06T11:32:00.163387Z",
     "shell.execute_reply": "2023-06-06T11:32:00.162967Z"
    },
    "papermill": {
     "duration": 0.031408,
     "end_time": "2023-06-06T11:32:00.164394",
     "exception": false,
     "start_time": "2023-06-06T11:32:00.132986",
     "status": "completed"
    },
    "tags": []
   },
   "outputs": [],
   "source": [
    "metadata = pd.read_csv(\"../../SraRunTable.txt\")"
   ]
  },
  {
   "cell_type": "code",
   "execution_count": null,
   "id": "2574ecf1-bad4-4c33-8f3f-718a358727ab",
   "metadata": {
    "execution": {
     "iopub.execute_input": "2023-06-06T11:32:00.170426Z",
     "iopub.status.busy": "2023-06-06T11:32:00.170113Z",
     "iopub.status.idle": "2023-06-06T11:32:00.172274Z",
     "shell.execute_reply": "2023-06-06T11:32:00.171965Z"
    },
    "papermill": {
     "duration": 0.00598,
     "end_time": "2023-06-06T11:32:00.173060",
     "exception": false,
     "start_time": "2023-06-06T11:32:00.167080",
     "status": "completed"
    },
    "tags": []
   },
   "outputs": [],
   "source": [
    "raw_input = f\"/home/hd/hd_hd/hd_fu399/sds-hd/sd21k006/scRNAseq/revision_natcomm/xie_et_al/{sample_name}/{sample_name}/outs/raw_feature_bc_matrix.h5\""
   ]
  },
  {
   "cell_type": "code",
   "execution_count": null,
   "id": "e266d388-1802-435c-93a5-90067358739c",
   "metadata": {
    "execution": {
     "iopub.execute_input": "2023-06-06T11:32:00.211716Z",
     "iopub.status.busy": "2023-06-06T11:32:00.211373Z",
     "iopub.status.idle": "2023-06-06T11:32:01.492710Z",
     "shell.execute_reply": "2023-06-06T11:32:01.492267Z"
    },
    "papermill": {
     "duration": 1.285571,
     "end_time": "2023-06-06T11:32:01.493647",
     "exception": false,
     "start_time": "2023-06-06T11:32:00.208076",
     "status": "completed"
    },
    "tags": []
   },
   "outputs": [],
   "source": [
    "dataset = sc.read_10x_h5(raw_input)\n",
    "dataset.var_names_make_unique()\n",
    "dataset.obs_names_make_unique()\n",
    "\n",
    "dataset.layers[\"raw_counts\"] = dataset.X.copy()\n",
    "data_tod = dataset.layers[\"raw_counts\"].T.copy()\n",
    "\n",
    "dataset"
   ]
  },
  {
   "cell_type": "code",
   "execution_count": null,
   "id": "af9f5892-ed31-42a6-991b-4e096f582cef",
   "metadata": {
    "execution": {
     "iopub.execute_input": "2023-06-06T11:32:01.527979Z",
     "iopub.status.busy": "2023-06-06T11:32:01.527790Z",
     "iopub.status.idle": "2023-06-06T11:32:01.629964Z",
     "shell.execute_reply": "2023-06-06T11:32:01.629484Z"
    },
    "papermill": {
     "duration": 0.106712,
     "end_time": "2023-06-06T11:32:01.631233",
     "exception": false,
     "start_time": "2023-06-06T11:32:01.524521",
     "status": "completed"
    },
    "tags": []
   },
   "outputs": [],
   "source": [
    "sce = dataset.copy()"
   ]
  },
  {
   "cell_type": "code",
   "execution_count": null,
   "id": "d03f2caf-8e74-430e-b045-0ab80401d165",
   "metadata": {
    "execution": {
     "iopub.execute_input": "2023-06-06T11:32:01.654427Z",
     "iopub.status.busy": "2023-06-06T11:32:01.654255Z",
     "iopub.status.idle": "2023-06-06T11:33:48.678205Z",
     "shell.execute_reply": "2023-06-06T11:33:48.677513Z"
    },
    "papermill": {
     "duration": 107.028654,
     "end_time": "2023-06-06T11:33:48.679519",
     "exception": false,
     "start_time": "2023-06-06T11:32:01.650865",
     "status": "completed"
    },
    "tags": []
   },
   "outputs": [],
   "source": [
    "%%R -i sce -o empty_drop_output\n",
    "set.seed(187)\n",
    "empty_drop_output <- emptyDrops(assay(sce))"
   ]
  },
  {
   "cell_type": "code",
   "execution_count": null,
   "id": "2a34a54b-3ae2-44d6-8679-8769228c5b66",
   "metadata": {
    "execution": {
     "iopub.execute_input": "2023-06-06T11:33:48.721562Z",
     "iopub.status.busy": "2023-06-06T11:33:48.721406Z",
     "iopub.status.idle": "2023-06-06T11:33:48.790851Z",
     "shell.execute_reply": "2023-06-06T11:33:48.790467Z"
    },
    "papermill": {
     "duration": 0.073755,
     "end_time": "2023-06-06T11:33:48.791774",
     "exception": false,
     "start_time": "2023-06-06T11:33:48.718019",
     "status": "completed"
    },
    "tags": []
   },
   "outputs": [],
   "source": [
    "non_empty_barcodes = empty_drop_output[empty_drop_output[\"FDR\"] < 0.001].index\n",
    "dataset = dataset[dataset.obs.index.isin(non_empty_barcodes), :]\n",
    "dataset"
   ]
  },
  {
   "cell_type": "code",
   "execution_count": null,
   "id": "016a91e5-1bef-46fb-b91e-4fb9a6870c44",
   "metadata": {
    "execution": {
     "iopub.execute_input": "2023-06-06T11:33:48.798372Z",
     "iopub.status.busy": "2023-06-06T11:33:48.798207Z",
     "iopub.status.idle": "2023-06-06T11:33:59.955124Z",
     "shell.execute_reply": "2023-06-06T11:33:59.954632Z"
    },
    "papermill": {
     "duration": 11.161538,
     "end_time": "2023-06-06T11:33:59.956476",
     "exception": false,
     "start_time": "2023-06-06T11:33:48.794938",
     "status": "completed"
    },
    "tags": []
   },
   "outputs": [],
   "source": [
    "rna_assay = dataset.copy()\n",
    "sc.pp.normalize_per_cell(rna_assay)\n",
    "sc.pp.log1p(rna_assay)\n",
    "sc.pp.pca(rna_assay)\n",
    "sc.pp.neighbors(rna_assay)\n",
    "sc.tl.leiden(rna_assay, key_added=\"soupx_groups\")\n",
    "\n",
    "soupx_groups = rna_assay.obs[\"soupx_groups\"]\n",
    "\n",
    "del rna_assay\n",
    "\n",
    "genes = dataset.var_names\n",
    "cells = dataset.obs_names\n",
    "data = dataset.X.T.copy()"
   ]
  },
  {
   "cell_type": "code",
   "execution_count": null,
   "id": "9db4ea1f-1580-4f43-a3f0-86002397cd98",
   "metadata": {
    "execution": {
     "iopub.execute_input": "2023-06-06T11:33:59.990393Z",
     "iopub.status.busy": "2023-06-06T11:33:59.990199Z",
     "iopub.status.idle": "2023-06-06T11:34:31.909049Z",
     "shell.execute_reply": "2023-06-06T11:34:31.908587Z"
    },
    "papermill": {
     "duration": 31.923605,
     "end_time": "2023-06-06T11:34:31.910386",
     "exception": false,
     "start_time": "2023-06-06T11:33:59.986781",
     "status": "completed"
    },
    "tags": []
   },
   "outputs": [],
   "source": [
    "%%R -i data -i data_tod -i genes -i cells -i soupx_groups -o out \n",
    "set.seed(187)\n",
    "# specify row and column names of data\n",
    "rownames(data) = genes\n",
    "colnames(data) = cells\n",
    "# ensure correct sparse format for table of counts and table of droplets\n",
    "data <- as(data, \"sparseMatrix\")\n",
    "data_tod <- as(data_tod, \"sparseMatrix\")\n",
    "\n",
    "# Generate SoupChannel Object for SoupX \n",
    "sc = SoupChannel(data_tod, data, calcSoupProfile = FALSE)\n",
    "\n",
    "# Add extra meta data to the SoupChannel object\n",
    "soupProf = data.frame(row.names = rownames(data),\n",
    "                      est = rowSums(data)/sum(data),\n",
    "                      counts = rowSums(data))\n",
    "sc = setSoupProfile(sc, soupProf)\n",
    "# Set cluster information in SoupChannel\n",
    "sc = setClusters(sc, soupx_groups)\n",
    "\n",
    "# Estimate contamination fraction\n",
    "sc  = autoEstCont(sc, doPlot=FALSE, forceAccept = TRUE)\n",
    "# Infer corrected table of counts and rount to integer\n",
    "out = adjustCounts(sc, roundToInt = TRUE)"
   ]
  },
  {
   "cell_type": "code",
   "execution_count": null,
   "id": "32555d5e-5fa3-46dd-a4e0-ddc96ea265e2",
   "metadata": {
    "execution": {
     "iopub.execute_input": "2023-06-06T11:34:31.952747Z",
     "iopub.status.busy": "2023-06-06T11:34:31.952560Z",
     "iopub.status.idle": "2023-06-06T11:34:32.037059Z",
     "shell.execute_reply": "2023-06-06T11:34:32.036585Z"
    },
    "papermill": {
     "duration": 0.089419,
     "end_time": "2023-06-06T11:34:32.038323",
     "exception": false,
     "start_time": "2023-06-06T11:34:31.948904",
     "status": "completed"
    },
    "tags": []
   },
   "outputs": [],
   "source": [
    "dataset.layers[\"soupX_counts\"] = out.T\n",
    "dataset.X = dataset.layers[\"soupX_counts\"].copy()"
   ]
  },
  {
   "cell_type": "code",
   "execution_count": null,
   "id": "e27da7df-e094-4d2a-9109-5a363e012175",
   "metadata": {
    "execution": {
     "iopub.execute_input": "2023-06-06T11:34:32.045527Z",
     "iopub.status.busy": "2023-06-06T11:34:32.045332Z",
     "iopub.status.idle": "2023-06-06T11:34:32.047927Z",
     "shell.execute_reply": "2023-06-06T11:34:32.047596Z"
    },
    "papermill": {
     "duration": 0.006758,
     "end_time": "2023-06-06T11:34:32.048722",
     "exception": false,
     "start_time": "2023-06-06T11:34:32.041964",
     "status": "completed"
    },
    "tags": []
   },
   "outputs": [],
   "source": [
    "data_mat = dataset.X.T"
   ]
  },
  {
   "cell_type": "code",
   "execution_count": null,
   "id": "80a993b1-5ccb-4697-9187-1beb7ab8aff9",
   "metadata": {
    "execution": {
     "iopub.execute_input": "2023-06-06T11:34:32.099718Z",
     "iopub.status.busy": "2023-06-06T11:34:32.099547Z",
     "iopub.status.idle": "2023-06-06T11:35:02.371848Z",
     "shell.execute_reply": "2023-06-06T11:35:02.371277Z"
    },
    "papermill": {
     "duration": 30.27701,
     "end_time": "2023-06-06T11:35:02.373081",
     "exception": false,
     "start_time": "2023-06-06T11:34:32.096071",
     "status": "completed"
    },
    "tags": []
   },
   "outputs": [],
   "source": [
    "%%R -i data_mat -o droplet_class\n",
    "\n",
    "set.seed(187)\n",
    "sce = scDblFinder(\n",
    "    SingleCellExperiment(\n",
    "        list(counts=data_mat),\n",
    "    ) \n",
    ")\n",
    "droplet_class = sce$scDblFinder.class"
   ]
  },
  {
   "cell_type": "code",
   "execution_count": null,
   "id": "d4dd6e9d-fcf2-41fc-8457-c8e0a3cb2c71",
   "metadata": {
    "execution": {
     "iopub.execute_input": "2023-06-06T11:35:02.412744Z",
     "iopub.status.busy": "2023-06-06T11:35:02.412515Z",
     "iopub.status.idle": "2023-06-06T11:35:02.417566Z",
     "shell.execute_reply": "2023-06-06T11:35:02.417265Z"
    },
    "papermill": {
     "duration": 0.009444,
     "end_time": "2023-06-06T11:35:02.418453",
     "exception": false,
     "start_time": "2023-06-06T11:35:02.409009",
     "status": "completed"
    },
    "tags": []
   },
   "outputs": [],
   "source": [
    "dataset.obs[\"scDblFinder_class\"] = droplet_class\n",
    "dataset.obs.scDblFinder_class.value_counts()\n",
    "dataset"
   ]
  },
  {
   "cell_type": "code",
   "execution_count": null,
   "id": "28c95014-2d6c-477f-95cb-9f9f0507520c",
   "metadata": {
    "execution": {
     "iopub.execute_input": "2023-06-06T11:35:02.424660Z",
     "iopub.status.busy": "2023-06-06T11:35:02.424474Z",
     "iopub.status.idle": "2023-06-06T11:35:02.431274Z",
     "shell.execute_reply": "2023-06-06T11:35:02.430966Z"
    },
    "papermill": {
     "duration": 0.010881,
     "end_time": "2023-06-06T11:35:02.432142",
     "exception": false,
     "start_time": "2023-06-06T11:35:02.421261",
     "status": "completed"
    },
    "tags": []
   },
   "outputs": [],
   "source": [
    "dataset = dataset[dataset.obs[\"scDblFinder_class\"] == 1]"
   ]
  },
  {
   "cell_type": "code",
   "execution_count": null,
   "id": "3e22f9e0-bfcb-416c-a151-a9bca3bec3b9",
   "metadata": {
    "execution": {
     "iopub.execute_input": "2023-06-06T11:35:02.438330Z",
     "iopub.status.busy": "2023-06-06T11:35:02.438146Z",
     "iopub.status.idle": "2023-06-06T11:35:02.799869Z",
     "shell.execute_reply": "2023-06-06T11:35:02.799442Z"
    },
    "papermill": {
     "duration": 0.365942,
     "end_time": "2023-06-06T11:35:02.800854",
     "exception": false,
     "start_time": "2023-06-06T11:35:02.434912",
     "status": "completed"
    },
    "tags": []
   },
   "outputs": [],
   "source": [
    "# mitochondrial genes\n",
    "dataset.var[\"mt\"] = dataset.var_names.str.startswith(\"mt-\")\n",
    "# ribosomal genes\n",
    "dataset.var[\"ribo\"] = dataset.var_names.str.startswith((\"Rps\", \"Rpl\"))\n",
    "# hemoglobin genes.\n",
    "dataset.var[\"hb\"] = dataset.var_names.str.contains((\"^Hb[^(P)]\"))\n",
    "\n",
    "sc.pp.calculate_qc_metrics(dataset,\n",
    "                           qc_vars=['mt', 'ribo', 'hb'],\n",
    "                           percent_top=None,\n",
    "                           log1p=False,\n",
    "                           inplace=True)\n",
    "dataset"
   ]
  },
  {
   "cell_type": "code",
   "execution_count": null,
   "id": "34deee79-4043-428f-8575-aa57b45f6369",
   "metadata": {
    "execution": {
     "iopub.execute_input": "2023-06-06T11:35:02.808301Z",
     "iopub.status.busy": "2023-06-06T11:35:02.808115Z",
     "iopub.status.idle": "2023-06-06T11:35:03.441474Z",
     "shell.execute_reply": "2023-06-06T11:35:03.441082Z"
    },
    "papermill": {
     "duration": 0.638808,
     "end_time": "2023-06-06T11:35:03.443302",
     "exception": false,
     "start_time": "2023-06-06T11:35:02.804494",
     "status": "completed"
    },
    "tags": []
   },
   "outputs": [],
   "source": [
    "fig, ax = plt.subplots(ncols = 4, figsize = (16,4))\n",
    "axis = sc.pl.violin(dataset, \"n_genes_by_counts\", jitter = 0.4, ax = ax[0], show = False)\n",
    "axis.grid(False)\n",
    "axis.set_title(\"Unique Genes per cell\")\n",
    "axis.tick_params(axis = \"x\", bottom =False, labelbottom =False)\n",
    "axis.set_ylabel(\"# genes\")\n",
    "axis.axhline(y = 250, color = \"black\", label = \"cutoff\")\n",
    "axis.legend(fontsize = 14, loc = \"upper right\")\n",
    "\n",
    "axis = sc.pl.violin(dataset, \"pct_counts_mt\", jitter = 0.4, ax = ax[1], show = False)\n",
    "axis.grid(False)\n",
    "axis.set_title(\"Mitochondrial Fraction\")\n",
    "axis.tick_params(axis = \"x\", bottom =False, labelbottom =False)\n",
    "axis.set_ylabel(\"% mitochondrial genes\")\n",
    "axis.axhline(y = 5, color = \"black\", label = \"cutoff\")\n",
    "axis.legend(fontsize = 14, loc = \"upper right\")\n",
    "\n",
    "axis = sc.pl.violin(dataset, \"pct_counts_hb\", jitter = 0.4, ax = ax[2], show = False, size =2)\n",
    "axis.grid(False)\n",
    "axis.set_title(\"Hemoglobin Fraction\")\n",
    "axis.tick_params(axis = \"x\", bottom =False, labelbottom =False)\n",
    "axis.set_ylabel(\"% hemoglobin genes\")\n",
    "axis.axhline(y = 2, color = \"black\", label = \"cutoff\")\n",
    "axis.legend(fontsize = 14, loc = \"upper right\")\n",
    "#axis.set_ylim(0,5)\n",
    "\n",
    "axis = sc.pl.violin(dataset, \"pct_counts_ribo\", jitter = 0.4, ax = ax[3], show = False)\n",
    "axis.grid(False)\n",
    "axis.set_title(\"Ribosomal Fraction\")\n",
    "axis.tick_params(axis = \"x\", bottom =False, labelbottom =False)\n",
    "axis.set_ylabel(\"% ribosome genes\")\n",
    "\n",
    "plt.tight_layout()\n",
    "#plt.savefig(f\"{outputDir}08_gene_based_filtering.pdf\", dpi = 300)\n",
    "plt.show()\n",
    "\n"
   ]
  },
  {
   "cell_type": "code",
   "execution_count": null,
   "id": "d7ade754-843e-4840-8707-426613d8c0c5",
   "metadata": {
    "execution": {
     "iopub.execute_input": "2023-06-06T11:35:03.456236Z",
     "iopub.status.busy": "2023-06-06T11:35:03.456050Z",
     "iopub.status.idle": "2023-06-06T11:35:03.465957Z",
     "shell.execute_reply": "2023-06-06T11:35:03.465621Z"
    },
    "papermill": {
     "duration": 0.016665,
     "end_time": "2023-06-06T11:35:03.466763",
     "exception": false,
     "start_time": "2023-06-06T11:35:03.450098",
     "status": "completed"
    },
    "tags": []
   },
   "outputs": [],
   "source": [
    "dataset = dataset[dataset.obs.pct_counts_mt < 5, :]\n",
    "dataset = dataset[dataset.obs.n_genes_by_counts > 250, :]\n",
    "dataset = dataset[dataset.obs.pct_counts_hb < 2, :]\n",
    "dataset"
   ]
  },
  {
   "cell_type": "code",
   "execution_count": null,
   "id": "2e0ff8c3-2aa9-4a01-9b88-5912a6734447",
   "metadata": {
    "execution": {
     "iopub.execute_input": "2023-06-06T11:35:03.478199Z",
     "iopub.status.busy": "2023-06-06T11:35:03.478035Z",
     "iopub.status.idle": "2023-06-06T11:35:03.658592Z",
     "shell.execute_reply": "2023-06-06T11:35:03.658121Z"
    },
    "papermill": {
     "duration": 0.187832,
     "end_time": "2023-06-06T11:35:03.659984",
     "exception": false,
     "start_time": "2023-06-06T11:35:03.472152",
     "status": "completed"
    },
    "tags": []
   },
   "outputs": [],
   "source": [
    "for col in metadata.columns:\n",
    "    dataset.obs[col] = metadata.loc[metadata[\"Run\"] == sample_name, col].to_list()[0]"
   ]
  },
  {
   "cell_type": "code",
   "execution_count": null,
   "id": "b84578d3-d63e-419c-a272-a0b8317d05ab",
   "metadata": {
    "execution": {
     "iopub.execute_input": "2023-06-06T11:35:03.675904Z",
     "iopub.status.busy": "2023-06-06T11:35:03.675728Z",
     "iopub.status.idle": "2023-06-06T11:35:04.207777Z",
     "shell.execute_reply": "2023-06-06T11:35:04.207263Z"
    },
    "papermill": {
     "duration": 0.539501,
     "end_time": "2023-06-06T11:35:04.209464",
     "exception": false,
     "start_time": "2023-06-06T11:35:03.669963",
     "status": "completed"
    },
    "tags": []
   },
   "outputs": [],
   "source": [
    "dataset.write(f\"../../int_data/{sample_name}_qc.h5ad\")"
   ]
  }
 ],
 "metadata": {
  "kernelspec": {
   "display_name": "py_R",
   "language": "python",
   "name": "python_r"
  },
  "language_info": {
   "codemirror_mode": {
    "name": "ipython",
    "version": 3
   },
   "file_extension": ".py",
   "mimetype": "text/x-python",
   "name": "python",
   "nbconvert_exporter": "python",
   "pygments_lexer": "ipython3",
   "version": "3.10.11"
  },
  "papermill": {
   "default_parameters": {},
   "duration": 241.999465,
   "end_time": "2023-06-06T11:35:06.866938",
   "environment_variables": {},
   "exception": null,
   "input_path": "SRR10127228.ipynb",
   "output_path": "SRR10127228.ipynb",
   "parameters": {},
   "start_time": "2023-06-06T11:31:04.867473",
   "version": "2.4.0"
  }
 },
 "nbformat": 4,
 "nbformat_minor": 5
}
