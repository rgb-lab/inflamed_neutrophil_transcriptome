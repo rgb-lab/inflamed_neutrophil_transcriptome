{
 "cells": [
  {
   "cell_type": "code",
   "execution_count": null,
   "id": "f87ed95b-2b67-4a5a-8fe2-47359b1dd2a9",
   "metadata": {
    "execution": {
     "iopub.execute_input": "2023-06-06T11:17:50.292541Z",
     "iopub.status.busy": "2023-06-06T11:17:50.292209Z",
     "iopub.status.idle": "2023-06-06T11:17:50.297593Z",
     "shell.execute_reply": "2023-06-06T11:17:50.297258Z"
    },
    "papermill": {
     "duration": 0.040881,
     "end_time": "2023-06-06T11:17:50.298514",
     "exception": false,
     "start_time": "2023-06-06T11:17:50.257633",
     "status": "completed"
    },
    "tags": []
   },
   "outputs": [],
   "source": [
    "import warnings\n",
    "warnings.simplefilter(action='ignore', category=FutureWarning)\n",
    "warnings.simplefilter(action='ignore', category=UserWarning)"
   ]
  },
  {
   "cell_type": "code",
   "execution_count": null,
   "id": "85161f19-b2c5-490b-8cab-c2cf9653b304",
   "metadata": {
    "execution": {
     "iopub.execute_input": "2023-06-06T11:17:50.305528Z",
     "iopub.status.busy": "2023-06-06T11:17:50.305378Z",
     "iopub.status.idle": "2023-06-06T11:18:22.097679Z",
     "shell.execute_reply": "2023-06-06T11:18:22.097224Z"
    },
    "papermill": {
     "duration": 31.796659,
     "end_time": "2023-06-06T11:18:22.099157",
     "exception": false,
     "start_time": "2023-06-06T11:17:50.302498",
     "status": "completed"
    },
    "tags": []
   },
   "outputs": [],
   "source": [
    "import gc\n",
    "import scanpy as sc\n",
    "import muon as mu\n",
    "import seaborn as sns\n",
    "import os\n",
    "import pandas as pd\n",
    "from matplotlib import pyplot as plt\n",
    "\n",
    "os.environ['R_HOME'] = '/gpfs/bwfor/work/ws/hd_fu399-conda/conda/envs/python_R/lib/R/'\n",
    "import anndata2ri\n",
    "import logging\n",
    "\n",
    "import rpy2.rinterface_lib.callbacks as rcb\n",
    "import rpy2.robjects as ro\n",
    "\n",
    "rcb.logger.setLevel(logging.ERROR)\n",
    "ro.pandas2ri.activate()\n",
    "anndata2ri.activate()\n",
    "\n",
    "%load_ext rpy2.ipython"
   ]
  },
  {
   "cell_type": "code",
   "execution_count": null,
   "id": "fc4ade78-b728-4704-9db6-45fbaab62ba1",
   "metadata": {
    "execution": {
     "iopub.execute_input": "2023-06-06T11:18:22.131038Z",
     "iopub.status.busy": "2023-06-06T11:18:22.130714Z",
     "iopub.status.idle": "2023-06-06T11:18:38.831164Z",
     "shell.execute_reply": "2023-06-06T11:18:38.830572Z"
    },
    "papermill": {
     "duration": 16.705102,
     "end_time": "2023-06-06T11:18:38.832612",
     "exception": false,
     "start_time": "2023-06-06T11:18:22.127510",
     "status": "completed"
    },
    "tags": []
   },
   "outputs": [],
   "source": [
    "%%R\n",
    "library(SoupX)\n",
    "library(Seurat)\n",
    "library(scater)\n",
    "library(scDblFinder)\n",
    "library(BiocParallel)\n",
    "library(MuDataSeurat)\n",
    "library(DropletUtils)"
   ]
  },
  {
   "cell_type": "code",
   "execution_count": null,
   "id": "611e4882-fc48-43d1-b1cd-e65e1bde0015",
   "metadata": {
    "execution": {
     "iopub.execute_input": "2023-06-06T11:18:38.869893Z",
     "iopub.status.busy": "2023-06-06T11:18:38.869581Z",
     "iopub.status.idle": "2023-06-06T11:18:38.872053Z",
     "shell.execute_reply": "2023-06-06T11:18:38.871729Z"
    },
    "papermill": {
     "duration": 0.00663,
     "end_time": "2023-06-06T11:18:38.872878",
     "exception": false,
     "start_time": "2023-06-06T11:18:38.866248",
     "status": "completed"
    },
    "tags": []
   },
   "outputs": [],
   "source": [
    "sample_name = \"SRR10127225\""
   ]
  },
  {
   "cell_type": "code",
   "execution_count": null,
   "id": "f7424d90-7690-4290-8651-1db3f9df3a35",
   "metadata": {
    "execution": {
     "iopub.execute_input": "2023-06-06T11:18:38.878715Z",
     "iopub.status.busy": "2023-06-06T11:18:38.878471Z",
     "iopub.status.idle": "2023-06-06T11:18:38.896784Z",
     "shell.execute_reply": "2023-06-06T11:18:38.896418Z"
    },
    "papermill": {
     "duration": 0.022206,
     "end_time": "2023-06-06T11:18:38.897655",
     "exception": false,
     "start_time": "2023-06-06T11:18:38.875449",
     "status": "completed"
    },
    "tags": []
   },
   "outputs": [],
   "source": [
    "metadata = pd.read_csv(\"../../SraRunTable.txt\")"
   ]
  },
  {
   "cell_type": "code",
   "execution_count": null,
   "id": "2574ecf1-bad4-4c33-8f3f-718a358727ab",
   "metadata": {
    "execution": {
     "iopub.execute_input": "2023-06-06T11:18:38.903627Z",
     "iopub.status.busy": "2023-06-06T11:18:38.903376Z",
     "iopub.status.idle": "2023-06-06T11:18:38.905424Z",
     "shell.execute_reply": "2023-06-06T11:18:38.905124Z"
    },
    "papermill": {
     "duration": 0.005907,
     "end_time": "2023-06-06T11:18:38.906233",
     "exception": false,
     "start_time": "2023-06-06T11:18:38.900326",
     "status": "completed"
    },
    "tags": []
   },
   "outputs": [],
   "source": [
    "raw_input = f\"/home/hd/hd_hd/hd_fu399/sds-hd/sd21k006/scRNAseq/revision_natcomm/xie_et_al/{sample_name}/{sample_name}/outs/raw_feature_bc_matrix.h5\""
   ]
  },
  {
   "cell_type": "code",
   "execution_count": null,
   "id": "e266d388-1802-435c-93a5-90067358739c",
   "metadata": {
    "execution": {
     "iopub.execute_input": "2023-06-06T11:18:38.912269Z",
     "iopub.status.busy": "2023-06-06T11:18:38.912005Z",
     "iopub.status.idle": "2023-06-06T11:18:39.856341Z",
     "shell.execute_reply": "2023-06-06T11:18:39.855911Z"
    },
    "papermill": {
     "duration": 0.948559,
     "end_time": "2023-06-06T11:18:39.857312",
     "exception": false,
     "start_time": "2023-06-06T11:18:38.908753",
     "status": "completed"
    },
    "tags": []
   },
   "outputs": [],
   "source": [
    "dataset = sc.read_10x_h5(raw_input)\n",
    "dataset.var_names_make_unique()\n",
    "dataset.obs_names_make_unique()\n",
    "\n",
    "dataset.layers[\"raw_counts\"] = dataset.X.copy()\n",
    "data_tod = dataset.layers[\"raw_counts\"].T.copy()\n",
    "\n",
    "dataset"
   ]
  },
  {
   "cell_type": "code",
   "execution_count": null,
   "id": "af9f5892-ed31-42a6-991b-4e096f582cef",
   "metadata": {
    "execution": {
     "iopub.execute_input": "2023-06-06T11:18:39.892159Z",
     "iopub.status.busy": "2023-06-06T11:18:39.891964Z",
     "iopub.status.idle": "2023-06-06T11:18:39.957195Z",
     "shell.execute_reply": "2023-06-06T11:18:39.956776Z"
    },
    "papermill": {
     "duration": 0.070055,
     "end_time": "2023-06-06T11:18:39.958587",
     "exception": false,
     "start_time": "2023-06-06T11:18:39.888532",
     "status": "completed"
    },
    "tags": []
   },
   "outputs": [],
   "source": [
    "sce = dataset.copy()"
   ]
  },
  {
   "cell_type": "code",
   "execution_count": null,
   "id": "d03f2caf-8e74-430e-b045-0ab80401d165",
   "metadata": {
    "execution": {
     "iopub.execute_input": "2023-06-06T11:18:39.977532Z",
     "iopub.status.busy": "2023-06-06T11:18:39.977329Z",
     "iopub.status.idle": "2023-06-06T11:19:47.043492Z",
     "shell.execute_reply": "2023-06-06T11:19:47.042865Z"
    },
    "papermill": {
     "duration": 67.071423,
     "end_time": "2023-06-06T11:19:47.044926",
     "exception": false,
     "start_time": "2023-06-06T11:18:39.973503",
     "status": "completed"
    },
    "tags": []
   },
   "outputs": [],
   "source": [
    "%%R -i sce -o empty_drop_output\n",
    "set.seed(187)\n",
    "empty_drop_output <- emptyDrops(assay(sce))"
   ]
  },
  {
   "cell_type": "code",
   "execution_count": null,
   "id": "2a34a54b-3ae2-44d6-8679-8769228c5b66",
   "metadata": {
    "execution": {
     "iopub.execute_input": "2023-06-06T11:19:47.076488Z",
     "iopub.status.busy": "2023-06-06T11:19:47.076306Z",
     "iopub.status.idle": "2023-06-06T11:19:47.113782Z",
     "shell.execute_reply": "2023-06-06T11:19:47.113381Z"
    },
    "papermill": {
     "duration": 0.041963,
     "end_time": "2023-06-06T11:19:47.114712",
     "exception": false,
     "start_time": "2023-06-06T11:19:47.072749",
     "status": "completed"
    },
    "tags": []
   },
   "outputs": [],
   "source": [
    "non_empty_barcodes = empty_drop_output[empty_drop_output[\"FDR\"] < 0.001].index\n",
    "dataset = dataset[dataset.obs.index.isin(non_empty_barcodes), :]\n",
    "dataset"
   ]
  },
  {
   "cell_type": "code",
   "execution_count": null,
   "id": "016a91e5-1bef-46fb-b91e-4fb9a6870c44",
   "metadata": {
    "execution": {
     "iopub.execute_input": "2023-06-06T11:19:47.121239Z",
     "iopub.status.busy": "2023-06-06T11:19:47.121065Z",
     "iopub.status.idle": "2023-06-06T11:21:12.839482Z",
     "shell.execute_reply": "2023-06-06T11:21:12.838990Z"
    },
    "papermill": {
     "duration": 85.723201,
     "end_time": "2023-06-06T11:21:12.840981",
     "exception": false,
     "start_time": "2023-06-06T11:19:47.117780",
     "status": "completed"
    },
    "tags": []
   },
   "outputs": [],
   "source": [
    "rna_assay = dataset.copy()\n",
    "sc.pp.normalize_per_cell(rna_assay)\n",
    "sc.pp.log1p(rna_assay)\n",
    "sc.pp.pca(rna_assay)\n",
    "sc.pp.neighbors(rna_assay)\n",
    "sc.tl.leiden(rna_assay, key_added=\"soupx_groups\")\n",
    "\n",
    "soupx_groups = rna_assay.obs[\"soupx_groups\"]\n",
    "\n",
    "del rna_assay\n",
    "\n",
    "genes = dataset.var_names\n",
    "cells = dataset.obs_names\n",
    "data = dataset.X.T.copy()"
   ]
  },
  {
   "cell_type": "code",
   "execution_count": null,
   "id": "9db4ea1f-1580-4f43-a3f0-86002397cd98",
   "metadata": {
    "execution": {
     "iopub.execute_input": "2023-06-06T11:21:12.853174Z",
     "iopub.status.busy": "2023-06-06T11:21:12.852990Z",
     "iopub.status.idle": "2023-06-06T11:21:28.574001Z",
     "shell.execute_reply": "2023-06-06T11:21:28.573525Z"
    },
    "papermill": {
     "duration": 15.725794,
     "end_time": "2023-06-06T11:21:28.575381",
     "exception": false,
     "start_time": "2023-06-06T11:21:12.849587",
     "status": "completed"
    },
    "tags": []
   },
   "outputs": [],
   "source": [
    "%%R -i data -i data_tod -i genes -i cells -i soupx_groups -o out \n",
    "set.seed(187)\n",
    "# specify row and column names of data\n",
    "rownames(data) = genes\n",
    "colnames(data) = cells\n",
    "# ensure correct sparse format for table of counts and table of droplets\n",
    "data <- as(data, \"sparseMatrix\")\n",
    "data_tod <- as(data_tod, \"sparseMatrix\")\n",
    "\n",
    "# Generate SoupChannel Object for SoupX \n",
    "sc = SoupChannel(data_tod, data, calcSoupProfile = FALSE)\n",
    "\n",
    "# Add extra meta data to the SoupChannel object\n",
    "soupProf = data.frame(row.names = rownames(data),\n",
    "                      est = rowSums(data)/sum(data),\n",
    "                      counts = rowSums(data))\n",
    "sc = setSoupProfile(sc, soupProf)\n",
    "# Set cluster information in SoupChannel\n",
    "sc = setClusters(sc, soupx_groups)\n",
    "\n",
    "# Estimate contamination fraction\n",
    "sc  = autoEstCont(sc, doPlot=FALSE, forceAccept = TRUE)\n",
    "# Infer corrected table of counts and rount to integer\n",
    "out = adjustCounts(sc, roundToInt = TRUE)"
   ]
  },
  {
   "cell_type": "code",
   "execution_count": null,
   "id": "32555d5e-5fa3-46dd-a4e0-ddc96ea265e2",
   "metadata": {
    "execution": {
     "iopub.execute_input": "2023-06-06T11:21:28.585434Z",
     "iopub.status.busy": "2023-06-06T11:21:28.585269Z",
     "iopub.status.idle": "2023-06-06T11:21:28.623436Z",
     "shell.execute_reply": "2023-06-06T11:21:28.622967Z"
    },
    "papermill": {
     "duration": 0.042657,
     "end_time": "2023-06-06T11:21:28.624569",
     "exception": false,
     "start_time": "2023-06-06T11:21:28.581912",
     "status": "completed"
    },
    "tags": []
   },
   "outputs": [],
   "source": [
    "dataset.layers[\"soupX_counts\"] = out.T\n",
    "dataset.X = dataset.layers[\"soupX_counts\"].copy()"
   ]
  },
  {
   "cell_type": "code",
   "execution_count": null,
   "id": "e27da7df-e094-4d2a-9109-5a363e012175",
   "metadata": {
    "execution": {
     "iopub.execute_input": "2023-06-06T11:21:28.631467Z",
     "iopub.status.busy": "2023-06-06T11:21:28.631281Z",
     "iopub.status.idle": "2023-06-06T11:21:28.633659Z",
     "shell.execute_reply": "2023-06-06T11:21:28.633314Z"
    },
    "papermill": {
     "duration": 0.006532,
     "end_time": "2023-06-06T11:21:28.634446",
     "exception": false,
     "start_time": "2023-06-06T11:21:28.627914",
     "status": "completed"
    },
    "tags": []
   },
   "outputs": [],
   "source": [
    "data_mat = dataset.X.T"
   ]
  },
  {
   "cell_type": "code",
   "execution_count": null,
   "id": "80a993b1-5ccb-4697-9187-1beb7ab8aff9",
   "metadata": {
    "execution": {
     "iopub.execute_input": "2023-06-06T11:21:28.640948Z",
     "iopub.status.busy": "2023-06-06T11:21:28.640732Z",
     "iopub.status.idle": "2023-06-06T11:22:04.773055Z",
     "shell.execute_reply": "2023-06-06T11:22:04.772563Z"
    },
    "papermill": {
     "duration": 36.137192,
     "end_time": "2023-06-06T11:22:04.774390",
     "exception": false,
     "start_time": "2023-06-06T11:21:28.637198",
     "status": "completed"
    },
    "tags": []
   },
   "outputs": [],
   "source": [
    "%%R -i data_mat -o droplet_class\n",
    "\n",
    "set.seed(187)\n",
    "sce = scDblFinder(\n",
    "    SingleCellExperiment(\n",
    "        list(counts=data_mat),\n",
    "    ) \n",
    ")\n",
    "droplet_class = sce$scDblFinder.class"
   ]
  },
  {
   "cell_type": "code",
   "execution_count": null,
   "id": "d4dd6e9d-fcf2-41fc-8457-c8e0a3cb2c71",
   "metadata": {
    "execution": {
     "iopub.execute_input": "2023-06-06T11:22:04.799206Z",
     "iopub.status.busy": "2023-06-06T11:22:04.799006Z",
     "iopub.status.idle": "2023-06-06T11:22:04.803385Z",
     "shell.execute_reply": "2023-06-06T11:22:04.803062Z"
    },
    "papermill": {
     "duration": 0.008721,
     "end_time": "2023-06-06T11:22:04.804214",
     "exception": false,
     "start_time": "2023-06-06T11:22:04.795493",
     "status": "completed"
    },
    "tags": []
   },
   "outputs": [],
   "source": [
    "dataset.obs[\"scDblFinder_class\"] = droplet_class\n",
    "dataset.obs.scDblFinder_class.value_counts()\n",
    "dataset"
   ]
  },
  {
   "cell_type": "code",
   "execution_count": null,
   "id": "28c95014-2d6c-477f-95cb-9f9f0507520c",
   "metadata": {
    "execution": {
     "iopub.execute_input": "2023-06-06T11:22:04.810492Z",
     "iopub.status.busy": "2023-06-06T11:22:04.810330Z",
     "iopub.status.idle": "2023-06-06T11:22:04.816824Z",
     "shell.execute_reply": "2023-06-06T11:22:04.816484Z"
    },
    "papermill": {
     "duration": 0.010621,
     "end_time": "2023-06-06T11:22:04.817669",
     "exception": false,
     "start_time": "2023-06-06T11:22:04.807048",
     "status": "completed"
    },
    "tags": []
   },
   "outputs": [],
   "source": [
    "dataset = dataset[dataset.obs[\"scDblFinder_class\"] == 1]"
   ]
  },
  {
   "cell_type": "code",
   "execution_count": null,
   "id": "3e22f9e0-bfcb-416c-a151-a9bca3bec3b9",
   "metadata": {
    "execution": {
     "iopub.execute_input": "2023-06-06T11:22:04.823918Z",
     "iopub.status.busy": "2023-06-06T11:22:04.823726Z",
     "iopub.status.idle": "2023-06-06T11:22:04.987487Z",
     "shell.execute_reply": "2023-06-06T11:22:04.987045Z"
    },
    "papermill": {
     "duration": 0.167995,
     "end_time": "2023-06-06T11:22:04.988471",
     "exception": false,
     "start_time": "2023-06-06T11:22:04.820476",
     "status": "completed"
    },
    "tags": []
   },
   "outputs": [],
   "source": [
    "# mitochondrial genes\n",
    "dataset.var[\"mt\"] = dataset.var_names.str.startswith(\"mt-\")\n",
    "# ribosomal genes\n",
    "dataset.var[\"ribo\"] = dataset.var_names.str.startswith((\"Rps\", \"Rpl\"))\n",
    "# hemoglobin genes.\n",
    "dataset.var[\"hb\"] = dataset.var_names.str.contains((\"^Hb[^(P)]\"))\n",
    "\n",
    "sc.pp.calculate_qc_metrics(dataset,\n",
    "                           qc_vars=['mt', 'ribo', 'hb'],\n",
    "                           percent_top=None,\n",
    "                           log1p=False,\n",
    "                           inplace=True)\n",
    "dataset"
   ]
  },
  {
   "cell_type": "code",
   "execution_count": null,
   "id": "34deee79-4043-428f-8575-aa57b45f6369",
   "metadata": {
    "execution": {
     "iopub.execute_input": "2023-06-06T11:22:04.996064Z",
     "iopub.status.busy": "2023-06-06T11:22:04.995866Z",
     "iopub.status.idle": "2023-06-06T11:22:05.633337Z",
     "shell.execute_reply": "2023-06-06T11:22:05.632969Z"
    },
    "papermill": {
     "duration": 0.643002,
     "end_time": "2023-06-06T11:22:05.635088",
     "exception": false,
     "start_time": "2023-06-06T11:22:04.992086",
     "status": "completed"
    },
    "tags": []
   },
   "outputs": [],
   "source": [
    "fig, ax = plt.subplots(ncols = 4, figsize = (16,4))\n",
    "axis = sc.pl.violin(dataset, \"n_genes_by_counts\", jitter = 0.4, ax = ax[0], show = False)\n",
    "axis.grid(False)\n",
    "axis.set_title(\"Unique Genes per cell\")\n",
    "axis.tick_params(axis = \"x\", bottom =False, labelbottom =False)\n",
    "axis.set_ylabel(\"# genes\")\n",
    "axis.axhline(y = 250, color = \"black\", label = \"cutoff\")\n",
    "axis.legend(fontsize = 14, loc = \"upper right\")\n",
    "\n",
    "axis = sc.pl.violin(dataset, \"pct_counts_mt\", jitter = 0.4, ax = ax[1], show = False)\n",
    "axis.grid(False)\n",
    "axis.set_title(\"Mitochondrial Fraction\")\n",
    "axis.tick_params(axis = \"x\", bottom =False, labelbottom =False)\n",
    "axis.set_ylabel(\"% mitochondrial genes\")\n",
    "axis.axhline(y = 5, color = \"black\", label = \"cutoff\")\n",
    "axis.legend(fontsize = 14, loc = \"upper right\")\n",
    "\n",
    "axis = sc.pl.violin(dataset, \"pct_counts_hb\", jitter = 0.4, ax = ax[2], show = False, size =2)\n",
    "axis.grid(False)\n",
    "axis.set_title(\"Hemoglobin Fraction\")\n",
    "axis.tick_params(axis = \"x\", bottom =False, labelbottom =False)\n",
    "axis.set_ylabel(\"% hemoglobin genes\")\n",
    "axis.axhline(y = 2, color = \"black\", label = \"cutoff\")\n",
    "axis.legend(fontsize = 14, loc = \"upper right\")\n",
    "#axis.set_ylim(0,5)\n",
    "\n",
    "axis = sc.pl.violin(dataset, \"pct_counts_ribo\", jitter = 0.4, ax = ax[3], show = False)\n",
    "axis.grid(False)\n",
    "axis.set_title(\"Ribosomal Fraction\")\n",
    "axis.tick_params(axis = \"x\", bottom =False, labelbottom =False)\n",
    "axis.set_ylabel(\"% ribosome genes\")\n",
    "\n",
    "plt.tight_layout()\n",
    "#plt.savefig(f\"{outputDir}08_gene_based_filtering.pdf\", dpi = 300)\n",
    "plt.show()\n",
    "\n"
   ]
  },
  {
   "cell_type": "code",
   "execution_count": null,
   "id": "d7ade754-843e-4840-8707-426613d8c0c5",
   "metadata": {
    "execution": {
     "iopub.execute_input": "2023-06-06T11:22:05.646310Z",
     "iopub.status.busy": "2023-06-06T11:22:05.646137Z",
     "iopub.status.idle": "2023-06-06T11:22:05.655947Z",
     "shell.execute_reply": "2023-06-06T11:22:05.655637Z"
    },
    "papermill": {
     "duration": 0.016227,
     "end_time": "2023-06-06T11:22:05.656767",
     "exception": false,
     "start_time": "2023-06-06T11:22:05.640540",
     "status": "completed"
    },
    "tags": []
   },
   "outputs": [],
   "source": [
    "dataset = dataset[dataset.obs.pct_counts_mt < 5, :]\n",
    "dataset = dataset[dataset.obs.n_genes_by_counts > 250, :]\n",
    "dataset = dataset[dataset.obs.pct_counts_hb < 2, :]\n",
    "dataset"
   ]
  },
  {
   "cell_type": "code",
   "execution_count": null,
   "id": "2e0ff8c3-2aa9-4a01-9b88-5912a6734447",
   "metadata": {
    "execution": {
     "iopub.execute_input": "2023-06-06T11:22:05.667557Z",
     "iopub.status.busy": "2023-06-06T11:22:05.667395Z",
     "iopub.status.idle": "2023-06-06T11:22:05.709528Z",
     "shell.execute_reply": "2023-06-06T11:22:05.709062Z"
    },
    "papermill": {
     "duration": 0.048868,
     "end_time": "2023-06-06T11:22:05.710721",
     "exception": false,
     "start_time": "2023-06-06T11:22:05.661853",
     "status": "completed"
    },
    "tags": []
   },
   "outputs": [],
   "source": [
    "for col in metadata.columns:\n",
    "    dataset.obs[col] = metadata.loc[metadata[\"Run\"] == sample_name, col].to_list()[0]"
   ]
  },
  {
   "cell_type": "code",
   "execution_count": null,
   "id": "b84578d3-d63e-419c-a272-a0b8317d05ab",
   "metadata": {
    "execution": {
     "iopub.execute_input": "2023-06-06T11:22:05.722483Z",
     "iopub.status.busy": "2023-06-06T11:22:05.722271Z",
     "iopub.status.idle": "2023-06-06T11:22:06.048414Z",
     "shell.execute_reply": "2023-06-06T11:22:06.047910Z"
    },
    "papermill": {
     "duration": 0.333679,
     "end_time": "2023-06-06T11:22:06.050070",
     "exception": false,
     "start_time": "2023-06-06T11:22:05.716391",
     "status": "completed"
    },
    "tags": []
   },
   "outputs": [],
   "source": [
    "dataset.write(f\"../../int_data/{sample_name}_qc.h5ad\")"
   ]
  }
 ],
 "metadata": {
  "kernelspec": {
   "display_name": "py_R",
   "language": "python",
   "name": "python_r"
  },
  "language_info": {
   "codemirror_mode": {
    "name": "ipython",
    "version": 3
   },
   "file_extension": ".py",
   "mimetype": "text/x-python",
   "name": "python",
   "nbconvert_exporter": "python",
   "pygments_lexer": "ipython3",
   "version": "3.10.11"
  },
  "papermill": {
   "default_parameters": {},
   "duration": 268.010267,
   "end_time": "2023-06-06T11:22:08.695729",
   "environment_variables": {},
   "exception": null,
   "input_path": "SRR10127225.ipynb",
   "output_path": "SRR10127225.ipynb",
   "parameters": {},
   "start_time": "2023-06-06T11:17:40.685462",
   "version": "2.4.0"
  }
 },
 "nbformat": 4,
 "nbformat_minor": 5
}
