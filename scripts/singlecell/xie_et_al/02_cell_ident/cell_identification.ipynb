{
 "cells": [
  {
   "cell_type": "code",
   "execution_count": null,
   "id": "0897f8ed-b086-4ddc-a32e-6ae638ff6d14",
   "metadata": {
    "tags": []
   },
   "outputs": [],
   "source": [
    "suppressMessages(library(SeuratDisk))\n",
    "suppressMessages(library(SingleR))\n",
    "suppressMessages(library(Seurat))\n",
    "suppressMessages(library(SingleCellExperiment))\n",
    "suppressMessages(library(UCell))"
   ]
  },
  {
   "cell_type": "code",
   "execution_count": null,
   "id": "a0174989-038b-4cea-adf1-6fee00a4b3d3",
   "metadata": {
    "tags": []
   },
   "outputs": [],
   "source": [
    "dataset <- readRDS(\"../../int_data/dataset_qc.rds\")"
   ]
  },
  {
   "cell_type": "code",
   "execution_count": null,
   "id": "9475b837-76e2-42c3-b8f5-02a71d7ce1fd",
   "metadata": {
    "tags": []
   },
   "outputs": [],
   "source": [
    "data <- SingleCellExperiment(assays = list(counts = dataset@assays@data[[\"soupX_counts\"]]),\n",
    "                             colData = dataset@colData)\n",
    "rownames(data) = rownames(dataset)"
   ]
  },
  {
   "cell_type": "code",
   "execution_count": null,
   "id": "863cb970-a4bc-4dfc-98bb-17297c65ce51",
   "metadata": {
    "tags": []
   },
   "outputs": [],
   "source": [
    "data <- as.Seurat(data, data = NULL)"
   ]
  },
  {
   "cell_type": "code",
   "execution_count": null,
   "id": "0b749876-ea5a-403c-8b0b-51afc8a633e3",
   "metadata": {
    "tags": []
   },
   "outputs": [],
   "source": [
    "data"
   ]
  },
  {
   "cell_type": "code",
   "execution_count": null,
   "id": "b6b29b0e-92c4-4d4f-b835-c5e9d7d59455",
   "metadata": {
    "tags": []
   },
   "outputs": [],
   "source": [
    "data <- NormalizeData(data)\n",
    "data <- ScaleData(data, features = row.names(data))\n",
    "data <- FindVariableFeatures(data)\n",
    "data <- RunPCA(data, verbose = F)\n",
    "data <- FindNeighbors(data, verbose = F)\n",
    "data <- FindClusters(data, verbose = F)\n",
    "data <- RunUMAP(data, dims = 1:20, verbose = F)"
   ]
  },
  {
   "cell_type": "code",
   "execution_count": null,
   "id": "da86592a-f77e-43cf-9653-04233dd5453b",
   "metadata": {
    "tags": []
   },
   "outputs": [],
   "source": [
    "DimPlot(data, group.by = \"Cell_type\")"
   ]
  },
  {
   "cell_type": "code",
   "execution_count": null,
   "id": "135744e3-2b3f-4fd5-9d9b-04b130e3eb55",
   "metadata": {
    "tags": []
   },
   "outputs": [],
   "source": [
    "DimPlot(data, label = T)\n",
    "DimPlot(data, split.by = \"Condition\")\n",
    "DimPlot(data, split.by = \"batch\")"
   ]
  },
  {
   "cell_type": "code",
   "execution_count": null,
   "id": "40fa5cdd-01d7-4b40-90e6-0c97545b0711",
   "metadata": {},
   "outputs": [],
   "source": [
    "mouse_ref_immgen <- celldex::ImmGenData()\n",
    "\n",
    "cell_classification <- SingleR(test = as.SingleCellExperiment(data),\n",
    "                               ref = mouse_ref_immgen,\n",
    "                               labels = mouse_ref_immgen$label.main)\n",
    "\n",
    "data[[\"SingleR_label\"]] <- cell_classification$labels\n",
    "write.csv(data@meta.data, \"dataset_metadata.csv\")\n",
    "plotScoreHeatmap(cell_classification)"
   ]
  },
  {
   "cell_type": "code",
   "execution_count": null,
   "id": "927a25c7-69b9-4548-b9b6-3c574dde4c70",
   "metadata": {},
   "outputs": [],
   "source": [
    "DimPlot(data, group.by = \"SingleR_label\", label = T, repel = T)"
   ]
  },
  {
   "cell_type": "code",
   "execution_count": null,
   "id": "e709c66c-4c27-400d-9855-fdf8e8d8d80a",
   "metadata": {},
   "outputs": [],
   "source": [
    "data_neus <- data[, data$SingleR_label == \"Neutrophils\"]"
   ]
  },
  {
   "cell_type": "code",
   "execution_count": null,
   "id": "f25dde66-154c-4586-a0f8-c5dd1e4e7370",
   "metadata": {
    "tags": []
   },
   "outputs": [],
   "source": [
    "data_neus"
   ]
  },
  {
   "cell_type": "code",
   "execution_count": null,
   "id": "a637af5f-a4c8-486e-ab41-f82b7203f0b0",
   "metadata": {
    "tags": []
   },
   "outputs": [],
   "source": [
    "data_neus <- NormalizeData(data_neus)\n",
    "data_neus <- ScaleData(data_neus, features = row.names(data_neus))\n",
    "data_neus <- FindVariableFeatures(data_neus)\n",
    "data_neus <- RunPCA(data_neus, verbose = F)\n",
    "data_neus <- FindNeighbors(data_neus, verbose = F)\n",
    "data_neus <- FindClusters(data_neus, verbose = F)\n",
    "data_neus <- RunUMAP(data_neus, dims = 1:20, verbose = F)"
   ]
  },
  {
   "cell_type": "code",
   "execution_count": null,
   "id": "f4088eec-6821-4f2e-b716-618c6fa52bb4",
   "metadata": {
    "tags": []
   },
   "outputs": [],
   "source": [
    "DimPlot(data_neus, group.by = \"Condition\")"
   ]
  },
  {
   "cell_type": "code",
   "execution_count": null,
   "id": "10d6aa00-f211-4b0d-88bf-47e528edf75a",
   "metadata": {
    "tags": []
   },
   "outputs": [],
   "source": [
    "DimPlot(data_neus, group.by = \"batch\")"
   ]
  },
  {
   "cell_type": "code",
   "execution_count": null,
   "id": "a2dd1e46-943e-4df6-a99b-2c15675a5d85",
   "metadata": {
    "tags": []
   },
   "outputs": [],
   "source": [
    "DimPlot(data_neus, group.by = \"Cell_type\")"
   ]
  },
  {
   "cell_type": "code",
   "execution_count": null,
   "id": "6ad7cf2f-891f-4c05-b34d-e47c84bbe27b",
   "metadata": {
    "tags": []
   },
   "outputs": [],
   "source": [
    "write.csv(data@meta.data, \"dataset_metadata.csv\")"
   ]
  }
 ],
 "metadata": {
  "kernelspec": {
   "display_name": "R 4.2",
   "language": "R",
   "name": "ir42"
  },
  "language_info": {
   "codemirror_mode": "r",
   "file_extension": ".r",
   "mimetype": "text/x-r-source",
   "name": "R",
   "pygments_lexer": "r",
   "version": "4.2.2"
  }
 },
 "nbformat": 4,
 "nbformat_minor": 5
}
